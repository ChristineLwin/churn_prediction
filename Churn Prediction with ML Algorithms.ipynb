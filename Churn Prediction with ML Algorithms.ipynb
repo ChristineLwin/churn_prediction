{
  "cells": [
    {
      "cell_type": "markdown",
      "metadata": {
        "id": "view-in-github",
        "colab_type": "text"
      },
      "source": [
        "<a href=\"https://colab.research.google.com/github/ChristineLwin/churn_prediction/blob/main/Churn%20Prediction%20with%20ML%20Algorithms.ipynb\" target=\"_parent\"><img src=\"https://colab.research.google.com/assets/colab-badge.svg\" alt=\"Open In Colab\"/></a>"
      ]
    },
    {
      "cell_type": "markdown",
      "metadata": {
        "id": "8Pp_kmGvgZpg"
      },
      "source": [
        "### Churn Prediction using ML algorithms\n",
        "* EDA \n",
        "* Preprocessing - Cleaning and Transformation\n",
        "    * Encoding\n",
        "    * Scaling \n",
        "    * Dealing with imbalanced data using synthetic minority oversampling technique, SMOTE \n",
        "* Prediction using ML algorithms \n",
        "    * Linear Algos\n",
        "        1. Naive Bayes\n",
        "        2. Logistic Regression\n",
        "    * Nonlinear Algos\n",
        "        3. NN\n",
        "        4. K Nearest Neighbour\n",
        "        5. Support Vector Classifier\n",
        "        6. Decision Tree Classifier\n",
        "    * Ensemble Algos\n",
        "        * Bagging Approach\n",
        "          7. Random Forest Classifier \n",
        "        * Boosting Approach\n",
        "          8. AdaBoost Classifier \n",
        "          9. CatBoost Classifier \n",
        "          10. Stochastic Gradient Boosting\n",
        "          11. XGBoost Classifier"
      ]
    },
    {
      "cell_type": "code",
      "execution_count": 1,
      "metadata": {
        "id": "0RaiuP6bgZpj"
      },
      "outputs": [],
      "source": [
        "!pip install jovian --upgrade --quiet\n",
        "!pip install statsmodels --quiet\n",
        "!pip install opendatasets --upgrade --quiet\n",
        "!pip install catboost --quiet"
      ]
    },
    {
      "cell_type": "code",
      "source": [
        "import opendatasets as od\n",
        "import pandas as pd\n",
        "import numpy as np\n",
        "import tensorflow as tf\n",
        "\n",
        "from tensorflow import keras\n",
        "from keras.models import Sequential\n",
        "from keras.layers import Dense\n",
        "from sklearn.linear_model import LogisticRegression\n",
        "\n",
        "from sklearn.neighbors import KNeighborsClassifier\n",
        "from sklearn.naive_bayes import GaussianNB\n",
        "from sklearn.svm import SVC\n",
        "\n",
        "from sklearn.tree import DecisionTreeClassifier\n",
        "from sklearn.ensemble import AdaBoostClassifier, GradientBoostingClassifier, RandomForestClassifier\n",
        "from catboost import CatBoostClassifier\n",
        "\n",
        "from sklearn.model_selection import train_test_split, GridSearchCV\n",
        "from sklearn.preprocessing import MinMaxScaler\n",
        "from sklearn.metrics import confusion_matrix, classification_report\n",
        "from sklearn.metrics import roc_curve, roc_auc_score, precision_recall_curve\n",
        "\n",
        "import matplotlib.pyplot as plt\n",
        "import plotly.express as px\n",
        "import plotly.graph_objects as go\n",
        "%matplotlib inline"
      ],
      "metadata": {
        "id": "MjDBMgwRiUU7"
      },
      "execution_count": 2,
      "outputs": []
    },
    {
      "cell_type": "code",
      "source": [
        "od.download('https://www.kaggle.com/blastchar/telco-customer-churn')"
      ],
      "metadata": {
        "colab": {
          "base_uri": "https://localhost:8080/"
        },
        "id": "uUgAk2SgiWJ0",
        "outputId": "3889ac96-22df-4952-b0b9-7814a10b4f93"
      },
      "execution_count": 3,
      "outputs": [
        {
          "output_type": "stream",
          "name": "stdout",
          "text": [
            "Skipping, found downloaded files in \"./telco-customer-churn\" (use force=True to force download)\n"
          ]
        }
      ]
    },
    {
      "cell_type": "code",
      "source": [
        "filepath = './telco-customer-churn/WA_Fn-UseC_-Telco-Customer-Churn.csv'"
      ],
      "metadata": {
        "id": "hPJbaionjAdr"
      },
      "execution_count": 4,
      "outputs": []
    },
    {
      "cell_type": "code",
      "source": [
        "df = pd.read_csv(filepath)\n",
        "print(df.shape)\n",
        "df.sample(3)"
      ],
      "metadata": {
        "colab": {
          "base_uri": "https://localhost:8080/",
          "height": 242
        },
        "id": "8TdWWdzsjGde",
        "outputId": "6b425f7a-0b9e-40e3-ca9b-92d2abea45ac"
      },
      "execution_count": 5,
      "outputs": [
        {
          "output_type": "stream",
          "name": "stdout",
          "text": [
            "(7043, 21)\n"
          ]
        },
        {
          "output_type": "execute_result",
          "data": {
            "text/html": [
              "\n",
              "  <div id=\"df-68d168b5-c243-445b-aee7-26c2cbc58215\">\n",
              "    <div class=\"colab-df-container\">\n",
              "      <div>\n",
              "<style scoped>\n",
              "    .dataframe tbody tr th:only-of-type {\n",
              "        vertical-align: middle;\n",
              "    }\n",
              "\n",
              "    .dataframe tbody tr th {\n",
              "        vertical-align: top;\n",
              "    }\n",
              "\n",
              "    .dataframe thead th {\n",
              "        text-align: right;\n",
              "    }\n",
              "</style>\n",
              "<table border=\"1\" class=\"dataframe\">\n",
              "  <thead>\n",
              "    <tr style=\"text-align: right;\">\n",
              "      <th></th>\n",
              "      <th>customerID</th>\n",
              "      <th>gender</th>\n",
              "      <th>SeniorCitizen</th>\n",
              "      <th>Partner</th>\n",
              "      <th>Dependents</th>\n",
              "      <th>tenure</th>\n",
              "      <th>PhoneService</th>\n",
              "      <th>MultipleLines</th>\n",
              "      <th>InternetService</th>\n",
              "      <th>OnlineSecurity</th>\n",
              "      <th>OnlineBackup</th>\n",
              "      <th>DeviceProtection</th>\n",
              "      <th>TechSupport</th>\n",
              "      <th>StreamingTV</th>\n",
              "      <th>StreamingMovies</th>\n",
              "      <th>Contract</th>\n",
              "      <th>PaperlessBilling</th>\n",
              "      <th>PaymentMethod</th>\n",
              "      <th>MonthlyCharges</th>\n",
              "      <th>TotalCharges</th>\n",
              "      <th>Churn</th>\n",
              "    </tr>\n",
              "  </thead>\n",
              "  <tbody>\n",
              "    <tr>\n",
              "      <th>2488</th>\n",
              "      <td>4701-MLJPN</td>\n",
              "      <td>Male</td>\n",
              "      <td>0</td>\n",
              "      <td>No</td>\n",
              "      <td>No</td>\n",
              "      <td>31</td>\n",
              "      <td>Yes</td>\n",
              "      <td>No</td>\n",
              "      <td>DSL</td>\n",
              "      <td>No</td>\n",
              "      <td>No</td>\n",
              "      <td>Yes</td>\n",
              "      <td>Yes</td>\n",
              "      <td>No</td>\n",
              "      <td>No</td>\n",
              "      <td>Month-to-month</td>\n",
              "      <td>Yes</td>\n",
              "      <td>Electronic check</td>\n",
              "      <td>55.25</td>\n",
              "      <td>1715.65</td>\n",
              "      <td>Yes</td>\n",
              "    </tr>\n",
              "    <tr>\n",
              "      <th>2932</th>\n",
              "      <td>7740-BTPUX</td>\n",
              "      <td>Male</td>\n",
              "      <td>1</td>\n",
              "      <td>Yes</td>\n",
              "      <td>No</td>\n",
              "      <td>55</td>\n",
              "      <td>Yes</td>\n",
              "      <td>Yes</td>\n",
              "      <td>Fiber optic</td>\n",
              "      <td>No</td>\n",
              "      <td>Yes</td>\n",
              "      <td>Yes</td>\n",
              "      <td>Yes</td>\n",
              "      <td>Yes</td>\n",
              "      <td>Yes</td>\n",
              "      <td>Two year</td>\n",
              "      <td>Yes</td>\n",
              "      <td>Electronic check</td>\n",
              "      <td>113.60</td>\n",
              "      <td>6292.7</td>\n",
              "      <td>No</td>\n",
              "    </tr>\n",
              "    <tr>\n",
              "      <th>6799</th>\n",
              "      <td>8071-SBTRN</td>\n",
              "      <td>Female</td>\n",
              "      <td>0</td>\n",
              "      <td>No</td>\n",
              "      <td>No</td>\n",
              "      <td>70</td>\n",
              "      <td>Yes</td>\n",
              "      <td>Yes</td>\n",
              "      <td>Fiber optic</td>\n",
              "      <td>Yes</td>\n",
              "      <td>Yes</td>\n",
              "      <td>Yes</td>\n",
              "      <td>No</td>\n",
              "      <td>Yes</td>\n",
              "      <td>Yes</td>\n",
              "      <td>Two year</td>\n",
              "      <td>Yes</td>\n",
              "      <td>Mailed check</td>\n",
              "      <td>111.15</td>\n",
              "      <td>7737.55</td>\n",
              "      <td>No</td>\n",
              "    </tr>\n",
              "  </tbody>\n",
              "</table>\n",
              "</div>\n",
              "      <button class=\"colab-df-convert\" onclick=\"convertToInteractive('df-68d168b5-c243-445b-aee7-26c2cbc58215')\"\n",
              "              title=\"Convert this dataframe to an interactive table.\"\n",
              "              style=\"display:none;\">\n",
              "        \n",
              "  <svg xmlns=\"http://www.w3.org/2000/svg\" height=\"24px\"viewBox=\"0 0 24 24\"\n",
              "       width=\"24px\">\n",
              "    <path d=\"M0 0h24v24H0V0z\" fill=\"none\"/>\n",
              "    <path d=\"M18.56 5.44l.94 2.06.94-2.06 2.06-.94-2.06-.94-.94-2.06-.94 2.06-2.06.94zm-11 1L8.5 8.5l.94-2.06 2.06-.94-2.06-.94L8.5 2.5l-.94 2.06-2.06.94zm10 10l.94 2.06.94-2.06 2.06-.94-2.06-.94-.94-2.06-.94 2.06-2.06.94z\"/><path d=\"M17.41 7.96l-1.37-1.37c-.4-.4-.92-.59-1.43-.59-.52 0-1.04.2-1.43.59L10.3 9.45l-7.72 7.72c-.78.78-.78 2.05 0 2.83L4 21.41c.39.39.9.59 1.41.59.51 0 1.02-.2 1.41-.59l7.78-7.78 2.81-2.81c.8-.78.8-2.07 0-2.86zM5.41 20L4 18.59l7.72-7.72 1.47 1.35L5.41 20z\"/>\n",
              "  </svg>\n",
              "      </button>\n",
              "      \n",
              "  <style>\n",
              "    .colab-df-container {\n",
              "      display:flex;\n",
              "      flex-wrap:wrap;\n",
              "      gap: 12px;\n",
              "    }\n",
              "\n",
              "    .colab-df-convert {\n",
              "      background-color: #E8F0FE;\n",
              "      border: none;\n",
              "      border-radius: 50%;\n",
              "      cursor: pointer;\n",
              "      display: none;\n",
              "      fill: #1967D2;\n",
              "      height: 32px;\n",
              "      padding: 0 0 0 0;\n",
              "      width: 32px;\n",
              "    }\n",
              "\n",
              "    .colab-df-convert:hover {\n",
              "      background-color: #E2EBFA;\n",
              "      box-shadow: 0px 1px 2px rgba(60, 64, 67, 0.3), 0px 1px 3px 1px rgba(60, 64, 67, 0.15);\n",
              "      fill: #174EA6;\n",
              "    }\n",
              "\n",
              "    [theme=dark] .colab-df-convert {\n",
              "      background-color: #3B4455;\n",
              "      fill: #D2E3FC;\n",
              "    }\n",
              "\n",
              "    [theme=dark] .colab-df-convert:hover {\n",
              "      background-color: #434B5C;\n",
              "      box-shadow: 0px 1px 3px 1px rgba(0, 0, 0, 0.15);\n",
              "      filter: drop-shadow(0px 1px 2px rgba(0, 0, 0, 0.3));\n",
              "      fill: #FFFFFF;\n",
              "    }\n",
              "  </style>\n",
              "\n",
              "      <script>\n",
              "        const buttonEl =\n",
              "          document.querySelector('#df-68d168b5-c243-445b-aee7-26c2cbc58215 button.colab-df-convert');\n",
              "        buttonEl.style.display =\n",
              "          google.colab.kernel.accessAllowed ? 'block' : 'none';\n",
              "\n",
              "        async function convertToInteractive(key) {\n",
              "          const element = document.querySelector('#df-68d168b5-c243-445b-aee7-26c2cbc58215');\n",
              "          const dataTable =\n",
              "            await google.colab.kernel.invokeFunction('convertToInteractive',\n",
              "                                                     [key], {});\n",
              "          if (!dataTable) return;\n",
              "\n",
              "          const docLinkHtml = 'Like what you see? Visit the ' +\n",
              "            '<a target=\"_blank\" href=https://colab.research.google.com/notebooks/data_table.ipynb>data table notebook</a>'\n",
              "            + ' to learn more about interactive tables.';\n",
              "          element.innerHTML = '';\n",
              "          dataTable['output_type'] = 'display_data';\n",
              "          await google.colab.output.renderOutput(dataTable, element);\n",
              "          const docLink = document.createElement('div');\n",
              "          docLink.innerHTML = docLinkHtml;\n",
              "          element.appendChild(docLink);\n",
              "        }\n",
              "      </script>\n",
              "    </div>\n",
              "  </div>\n",
              "  "
            ],
            "text/plain": [
              "      customerID  gender  SeniorCitizen  ... MonthlyCharges TotalCharges  Churn\n",
              "2488  4701-MLJPN    Male              0  ...          55.25      1715.65    Yes\n",
              "2932  7740-BTPUX    Male              1  ...         113.60       6292.7     No\n",
              "6799  8071-SBTRN  Female              0  ...         111.15      7737.55     No\n",
              "\n",
              "[3 rows x 21 columns]"
            ]
          },
          "metadata": {},
          "execution_count": 5
        }
      ]
    },
    {
      "cell_type": "code",
      "source": [
        "df.columns"
      ],
      "metadata": {
        "colab": {
          "base_uri": "https://localhost:8080/"
        },
        "id": "XuauPqEvjMHs",
        "outputId": "d8daac62-026e-412e-a346-87cc0c65bf4a"
      },
      "execution_count": 6,
      "outputs": [
        {
          "output_type": "execute_result",
          "data": {
            "text/plain": [
              "Index(['customerID', 'gender', 'SeniorCitizen', 'Partner', 'Dependents',\n",
              "       'tenure', 'PhoneService', 'MultipleLines', 'InternetService',\n",
              "       'OnlineSecurity', 'OnlineBackup', 'DeviceProtection', 'TechSupport',\n",
              "       'StreamingTV', 'StreamingMovies', 'Contract', 'PaperlessBilling',\n",
              "       'PaymentMethod', 'MonthlyCharges', 'TotalCharges', 'Churn'],\n",
              "      dtype='object')"
            ]
          },
          "metadata": {},
          "execution_count": 6
        }
      ]
    },
    {
      "cell_type": "code",
      "source": [
        "df.dtypes"
      ],
      "metadata": {
        "colab": {
          "base_uri": "https://localhost:8080/"
        },
        "id": "d4SuBQD8jRRb",
        "outputId": "9fb8a922-be99-4558-ce57-8a43d86718ac"
      },
      "execution_count": 7,
      "outputs": [
        {
          "output_type": "execute_result",
          "data": {
            "text/plain": [
              "customerID           object\n",
              "gender               object\n",
              "SeniorCitizen         int64\n",
              "Partner              object\n",
              "Dependents           object\n",
              "tenure                int64\n",
              "PhoneService         object\n",
              "MultipleLines        object\n",
              "InternetService      object\n",
              "OnlineSecurity       object\n",
              "OnlineBackup         object\n",
              "DeviceProtection     object\n",
              "TechSupport          object\n",
              "StreamingTV          object\n",
              "StreamingMovies      object\n",
              "Contract             object\n",
              "PaperlessBilling     object\n",
              "PaymentMethod        object\n",
              "MonthlyCharges      float64\n",
              "TotalCharges         object\n",
              "Churn                object\n",
              "dtype: object"
            ]
          },
          "metadata": {},
          "execution_count": 7
        }
      ]
    },
    {
      "cell_type": "markdown",
      "source": [
        "#### Preprocessing and Cleaning"
      ],
      "metadata": {
        "id": "oEvfx1HSj0AS"
      }
    },
    {
      "cell_type": "markdown",
      "source": [
        "TotalCharges type is string object.  Convert it to float type.  "
      ],
      "metadata": {
        "id": "WOBjVT5Vj34P"
      }
    },
    {
      "cell_type": "code",
      "source": [
        "print(df['TotalCharges'].dtype)\n",
        "print(df.TotalCharges.values)"
      ],
      "metadata": {
        "colab": {
          "base_uri": "https://localhost:8080/"
        },
        "id": "M8P60jEvjR1J",
        "outputId": "851ed1b5-a53a-49e4-b010-c0105effea32"
      },
      "execution_count": 8,
      "outputs": [
        {
          "output_type": "stream",
          "name": "stdout",
          "text": [
            "object\n",
            "['29.85' '1889.5' '108.15' ... '346.45' '306.6' '6844.5']\n"
          ]
        }
      ]
    },
    {
      "cell_type": "markdown",
      "source": [
        "#### Missing values\n",
        "\n",
        "There are 11 records with missing values(empty string) in TotalCharges column.  Since it is only a small proportion (0.15% of the dataset), those records are dropped."
      ],
      "metadata": {
        "id": "SeW8JLA0j_KK"
      }
    },
    {
      "cell_type": "code",
      "source": [
        "print('No. of records with empty string: ',df[pd.to_numeric(df.TotalCharges,errors='coerce').isnull()].shape[0])\n",
        "\n",
        "#index of the TotalCharges with missing values\n",
        "idxlst = list(df[pd.to_numeric(df.TotalCharges,errors='coerce').isnull()].index)\n",
        "# below results show that totalcharges columns have empty string\n",
        "df.loc[idxlst,['tenure','MonthlyCharges','TotalCharges','Churn']]"
      ],
      "metadata": {
        "colab": {
          "base_uri": "https://localhost:8080/",
          "height": 412
        },
        "id": "d_Cx7b1Ujbbz",
        "outputId": "c89e2101-b5d2-4403-87b8-88827563a7a5"
      },
      "execution_count": 9,
      "outputs": [
        {
          "output_type": "stream",
          "name": "stdout",
          "text": [
            "No. of records with empty string:  11\n"
          ]
        },
        {
          "output_type": "execute_result",
          "data": {
            "text/html": [
              "\n",
              "  <div id=\"df-833aa63b-9309-4ea4-976f-4f099be2ab64\">\n",
              "    <div class=\"colab-df-container\">\n",
              "      <div>\n",
              "<style scoped>\n",
              "    .dataframe tbody tr th:only-of-type {\n",
              "        vertical-align: middle;\n",
              "    }\n",
              "\n",
              "    .dataframe tbody tr th {\n",
              "        vertical-align: top;\n",
              "    }\n",
              "\n",
              "    .dataframe thead th {\n",
              "        text-align: right;\n",
              "    }\n",
              "</style>\n",
              "<table border=\"1\" class=\"dataframe\">\n",
              "  <thead>\n",
              "    <tr style=\"text-align: right;\">\n",
              "      <th></th>\n",
              "      <th>tenure</th>\n",
              "      <th>MonthlyCharges</th>\n",
              "      <th>TotalCharges</th>\n",
              "      <th>Churn</th>\n",
              "    </tr>\n",
              "  </thead>\n",
              "  <tbody>\n",
              "    <tr>\n",
              "      <th>488</th>\n",
              "      <td>0</td>\n",
              "      <td>52.55</td>\n",
              "      <td></td>\n",
              "      <td>No</td>\n",
              "    </tr>\n",
              "    <tr>\n",
              "      <th>753</th>\n",
              "      <td>0</td>\n",
              "      <td>20.25</td>\n",
              "      <td></td>\n",
              "      <td>No</td>\n",
              "    </tr>\n",
              "    <tr>\n",
              "      <th>936</th>\n",
              "      <td>0</td>\n",
              "      <td>80.85</td>\n",
              "      <td></td>\n",
              "      <td>No</td>\n",
              "    </tr>\n",
              "    <tr>\n",
              "      <th>1082</th>\n",
              "      <td>0</td>\n",
              "      <td>25.75</td>\n",
              "      <td></td>\n",
              "      <td>No</td>\n",
              "    </tr>\n",
              "    <tr>\n",
              "      <th>1340</th>\n",
              "      <td>0</td>\n",
              "      <td>56.05</td>\n",
              "      <td></td>\n",
              "      <td>No</td>\n",
              "    </tr>\n",
              "    <tr>\n",
              "      <th>3331</th>\n",
              "      <td>0</td>\n",
              "      <td>19.85</td>\n",
              "      <td></td>\n",
              "      <td>No</td>\n",
              "    </tr>\n",
              "    <tr>\n",
              "      <th>3826</th>\n",
              "      <td>0</td>\n",
              "      <td>25.35</td>\n",
              "      <td></td>\n",
              "      <td>No</td>\n",
              "    </tr>\n",
              "    <tr>\n",
              "      <th>4380</th>\n",
              "      <td>0</td>\n",
              "      <td>20.00</td>\n",
              "      <td></td>\n",
              "      <td>No</td>\n",
              "    </tr>\n",
              "    <tr>\n",
              "      <th>5218</th>\n",
              "      <td>0</td>\n",
              "      <td>19.70</td>\n",
              "      <td></td>\n",
              "      <td>No</td>\n",
              "    </tr>\n",
              "    <tr>\n",
              "      <th>6670</th>\n",
              "      <td>0</td>\n",
              "      <td>73.35</td>\n",
              "      <td></td>\n",
              "      <td>No</td>\n",
              "    </tr>\n",
              "    <tr>\n",
              "      <th>6754</th>\n",
              "      <td>0</td>\n",
              "      <td>61.90</td>\n",
              "      <td></td>\n",
              "      <td>No</td>\n",
              "    </tr>\n",
              "  </tbody>\n",
              "</table>\n",
              "</div>\n",
              "      <button class=\"colab-df-convert\" onclick=\"convertToInteractive('df-833aa63b-9309-4ea4-976f-4f099be2ab64')\"\n",
              "              title=\"Convert this dataframe to an interactive table.\"\n",
              "              style=\"display:none;\">\n",
              "        \n",
              "  <svg xmlns=\"http://www.w3.org/2000/svg\" height=\"24px\"viewBox=\"0 0 24 24\"\n",
              "       width=\"24px\">\n",
              "    <path d=\"M0 0h24v24H0V0z\" fill=\"none\"/>\n",
              "    <path d=\"M18.56 5.44l.94 2.06.94-2.06 2.06-.94-2.06-.94-.94-2.06-.94 2.06-2.06.94zm-11 1L8.5 8.5l.94-2.06 2.06-.94-2.06-.94L8.5 2.5l-.94 2.06-2.06.94zm10 10l.94 2.06.94-2.06 2.06-.94-2.06-.94-.94-2.06-.94 2.06-2.06.94z\"/><path d=\"M17.41 7.96l-1.37-1.37c-.4-.4-.92-.59-1.43-.59-.52 0-1.04.2-1.43.59L10.3 9.45l-7.72 7.72c-.78.78-.78 2.05 0 2.83L4 21.41c.39.39.9.59 1.41.59.51 0 1.02-.2 1.41-.59l7.78-7.78 2.81-2.81c.8-.78.8-2.07 0-2.86zM5.41 20L4 18.59l7.72-7.72 1.47 1.35L5.41 20z\"/>\n",
              "  </svg>\n",
              "      </button>\n",
              "      \n",
              "  <style>\n",
              "    .colab-df-container {\n",
              "      display:flex;\n",
              "      flex-wrap:wrap;\n",
              "      gap: 12px;\n",
              "    }\n",
              "\n",
              "    .colab-df-convert {\n",
              "      background-color: #E8F0FE;\n",
              "      border: none;\n",
              "      border-radius: 50%;\n",
              "      cursor: pointer;\n",
              "      display: none;\n",
              "      fill: #1967D2;\n",
              "      height: 32px;\n",
              "      padding: 0 0 0 0;\n",
              "      width: 32px;\n",
              "    }\n",
              "\n",
              "    .colab-df-convert:hover {\n",
              "      background-color: #E2EBFA;\n",
              "      box-shadow: 0px 1px 2px rgba(60, 64, 67, 0.3), 0px 1px 3px 1px rgba(60, 64, 67, 0.15);\n",
              "      fill: #174EA6;\n",
              "    }\n",
              "\n",
              "    [theme=dark] .colab-df-convert {\n",
              "      background-color: #3B4455;\n",
              "      fill: #D2E3FC;\n",
              "    }\n",
              "\n",
              "    [theme=dark] .colab-df-convert:hover {\n",
              "      background-color: #434B5C;\n",
              "      box-shadow: 0px 1px 3px 1px rgba(0, 0, 0, 0.15);\n",
              "      filter: drop-shadow(0px 1px 2px rgba(0, 0, 0, 0.3));\n",
              "      fill: #FFFFFF;\n",
              "    }\n",
              "  </style>\n",
              "\n",
              "      <script>\n",
              "        const buttonEl =\n",
              "          document.querySelector('#df-833aa63b-9309-4ea4-976f-4f099be2ab64 button.colab-df-convert');\n",
              "        buttonEl.style.display =\n",
              "          google.colab.kernel.accessAllowed ? 'block' : 'none';\n",
              "\n",
              "        async function convertToInteractive(key) {\n",
              "          const element = document.querySelector('#df-833aa63b-9309-4ea4-976f-4f099be2ab64');\n",
              "          const dataTable =\n",
              "            await google.colab.kernel.invokeFunction('convertToInteractive',\n",
              "                                                     [key], {});\n",
              "          if (!dataTable) return;\n",
              "\n",
              "          const docLinkHtml = 'Like what you see? Visit the ' +\n",
              "            '<a target=\"_blank\" href=https://colab.research.google.com/notebooks/data_table.ipynb>data table notebook</a>'\n",
              "            + ' to learn more about interactive tables.';\n",
              "          element.innerHTML = '';\n",
              "          dataTable['output_type'] = 'display_data';\n",
              "          await google.colab.output.renderOutput(dataTable, element);\n",
              "          const docLink = document.createElement('div');\n",
              "          docLink.innerHTML = docLinkHtml;\n",
              "          element.appendChild(docLink);\n",
              "        }\n",
              "      </script>\n",
              "    </div>\n",
              "  </div>\n",
              "  "
            ],
            "text/plain": [
              "      tenure  MonthlyCharges TotalCharges Churn\n",
              "488        0           52.55                 No\n",
              "753        0           20.25                 No\n",
              "936        0           80.85                 No\n",
              "1082       0           25.75                 No\n",
              "1340       0           56.05                 No\n",
              "3331       0           19.85                 No\n",
              "3826       0           25.35                 No\n",
              "4380       0           20.00                 No\n",
              "5218       0           19.70                 No\n",
              "6670       0           73.35                 No\n",
              "6754       0           61.90                 No"
            ]
          },
          "metadata": {},
          "execution_count": 9
        }
      ]
    },
    {
      "cell_type": "markdown",
      "source": [
        "All missing records are also customers with No churn as well as with Zero tenure. As there are significant samples for No Churn (majority class), these 11 missing records/rows are dropped. Customer ID column/feature is also dropped.  "
      ],
      "metadata": {
        "id": "_47QJATgkNNU"
      }
    },
    {
      "cell_type": "code",
      "source": [
        "#drop the missing records/rows\n",
        "df1 = df.drop(idxlst,axis=0)\n",
        "#drop customerID column\n",
        "df1 = df1.drop('customerID',axis=1)\n",
        "df1.shape"
      ],
      "metadata": {
        "colab": {
          "base_uri": "https://localhost:8080/"
        },
        "id": "INJFwbYFjbe9",
        "outputId": "89fdb589-6211-47b9-c350-0056ba47ee6e"
      },
      "execution_count": 10,
      "outputs": [
        {
          "output_type": "execute_result",
          "data": {
            "text/plain": [
              "(7032, 20)"
            ]
          },
          "metadata": {},
          "execution_count": 10
        }
      ]
    },
    {
      "cell_type": "code",
      "source": [
        "#convert from string object to float64\n",
        "df1 = df1.astype({'TotalCharges':np.float64})\n",
        "df1.TotalCharges.dtypes"
      ],
      "metadata": {
        "colab": {
          "base_uri": "https://localhost:8080/"
        },
        "id": "GAVngl8wkRDv",
        "outputId": "f83d829d-b800-42ec-cae6-3c9657dac7c0"
      },
      "execution_count": 11,
      "outputs": [
        {
          "output_type": "execute_result",
          "data": {
            "text/plain": [
              "dtype('float64')"
            ]
          },
          "metadata": {},
          "execution_count": 11
        }
      ]
    },
    {
      "cell_type": "markdown",
      "source": [
        "Statistics of the numeric features - dataset contains tenure range from 1 to 72 and montlycharges rage from 18 to 118. "
      ],
      "metadata": {
        "id": "zlTTEJOqkbxV"
      }
    },
    {
      "cell_type": "code",
      "source": [
        "df1.describe()"
      ],
      "metadata": {
        "colab": {
          "base_uri": "https://localhost:8080/",
          "height": 300
        },
        "id": "AR-0nW__kRWI",
        "outputId": "ad1d3f25-f8ee-4125-c0ad-f968a8d853df"
      },
      "execution_count": 12,
      "outputs": [
        {
          "output_type": "execute_result",
          "data": {
            "text/html": [
              "\n",
              "  <div id=\"df-70c62ee0-ab80-4c2c-a7bb-6fcb0a67d921\">\n",
              "    <div class=\"colab-df-container\">\n",
              "      <div>\n",
              "<style scoped>\n",
              "    .dataframe tbody tr th:only-of-type {\n",
              "        vertical-align: middle;\n",
              "    }\n",
              "\n",
              "    .dataframe tbody tr th {\n",
              "        vertical-align: top;\n",
              "    }\n",
              "\n",
              "    .dataframe thead th {\n",
              "        text-align: right;\n",
              "    }\n",
              "</style>\n",
              "<table border=\"1\" class=\"dataframe\">\n",
              "  <thead>\n",
              "    <tr style=\"text-align: right;\">\n",
              "      <th></th>\n",
              "      <th>SeniorCitizen</th>\n",
              "      <th>tenure</th>\n",
              "      <th>MonthlyCharges</th>\n",
              "      <th>TotalCharges</th>\n",
              "    </tr>\n",
              "  </thead>\n",
              "  <tbody>\n",
              "    <tr>\n",
              "      <th>count</th>\n",
              "      <td>7032.000000</td>\n",
              "      <td>7032.000000</td>\n",
              "      <td>7032.000000</td>\n",
              "      <td>7032.000000</td>\n",
              "    </tr>\n",
              "    <tr>\n",
              "      <th>mean</th>\n",
              "      <td>0.162400</td>\n",
              "      <td>32.421786</td>\n",
              "      <td>64.798208</td>\n",
              "      <td>2283.300441</td>\n",
              "    </tr>\n",
              "    <tr>\n",
              "      <th>std</th>\n",
              "      <td>0.368844</td>\n",
              "      <td>24.545260</td>\n",
              "      <td>30.085974</td>\n",
              "      <td>2266.771362</td>\n",
              "    </tr>\n",
              "    <tr>\n",
              "      <th>min</th>\n",
              "      <td>0.000000</td>\n",
              "      <td>1.000000</td>\n",
              "      <td>18.250000</td>\n",
              "      <td>18.800000</td>\n",
              "    </tr>\n",
              "    <tr>\n",
              "      <th>25%</th>\n",
              "      <td>0.000000</td>\n",
              "      <td>9.000000</td>\n",
              "      <td>35.587500</td>\n",
              "      <td>401.450000</td>\n",
              "    </tr>\n",
              "    <tr>\n",
              "      <th>50%</th>\n",
              "      <td>0.000000</td>\n",
              "      <td>29.000000</td>\n",
              "      <td>70.350000</td>\n",
              "      <td>1397.475000</td>\n",
              "    </tr>\n",
              "    <tr>\n",
              "      <th>75%</th>\n",
              "      <td>0.000000</td>\n",
              "      <td>55.000000</td>\n",
              "      <td>89.862500</td>\n",
              "      <td>3794.737500</td>\n",
              "    </tr>\n",
              "    <tr>\n",
              "      <th>max</th>\n",
              "      <td>1.000000</td>\n",
              "      <td>72.000000</td>\n",
              "      <td>118.750000</td>\n",
              "      <td>8684.800000</td>\n",
              "    </tr>\n",
              "  </tbody>\n",
              "</table>\n",
              "</div>\n",
              "      <button class=\"colab-df-convert\" onclick=\"convertToInteractive('df-70c62ee0-ab80-4c2c-a7bb-6fcb0a67d921')\"\n",
              "              title=\"Convert this dataframe to an interactive table.\"\n",
              "              style=\"display:none;\">\n",
              "        \n",
              "  <svg xmlns=\"http://www.w3.org/2000/svg\" height=\"24px\"viewBox=\"0 0 24 24\"\n",
              "       width=\"24px\">\n",
              "    <path d=\"M0 0h24v24H0V0z\" fill=\"none\"/>\n",
              "    <path d=\"M18.56 5.44l.94 2.06.94-2.06 2.06-.94-2.06-.94-.94-2.06-.94 2.06-2.06.94zm-11 1L8.5 8.5l.94-2.06 2.06-.94-2.06-.94L8.5 2.5l-.94 2.06-2.06.94zm10 10l.94 2.06.94-2.06 2.06-.94-2.06-.94-.94-2.06-.94 2.06-2.06.94z\"/><path d=\"M17.41 7.96l-1.37-1.37c-.4-.4-.92-.59-1.43-.59-.52 0-1.04.2-1.43.59L10.3 9.45l-7.72 7.72c-.78.78-.78 2.05 0 2.83L4 21.41c.39.39.9.59 1.41.59.51 0 1.02-.2 1.41-.59l7.78-7.78 2.81-2.81c.8-.78.8-2.07 0-2.86zM5.41 20L4 18.59l7.72-7.72 1.47 1.35L5.41 20z\"/>\n",
              "  </svg>\n",
              "      </button>\n",
              "      \n",
              "  <style>\n",
              "    .colab-df-container {\n",
              "      display:flex;\n",
              "      flex-wrap:wrap;\n",
              "      gap: 12px;\n",
              "    }\n",
              "\n",
              "    .colab-df-convert {\n",
              "      background-color: #E8F0FE;\n",
              "      border: none;\n",
              "      border-radius: 50%;\n",
              "      cursor: pointer;\n",
              "      display: none;\n",
              "      fill: #1967D2;\n",
              "      height: 32px;\n",
              "      padding: 0 0 0 0;\n",
              "      width: 32px;\n",
              "    }\n",
              "\n",
              "    .colab-df-convert:hover {\n",
              "      background-color: #E2EBFA;\n",
              "      box-shadow: 0px 1px 2px rgba(60, 64, 67, 0.3), 0px 1px 3px 1px rgba(60, 64, 67, 0.15);\n",
              "      fill: #174EA6;\n",
              "    }\n",
              "\n",
              "    [theme=dark] .colab-df-convert {\n",
              "      background-color: #3B4455;\n",
              "      fill: #D2E3FC;\n",
              "    }\n",
              "\n",
              "    [theme=dark] .colab-df-convert:hover {\n",
              "      background-color: #434B5C;\n",
              "      box-shadow: 0px 1px 3px 1px rgba(0, 0, 0, 0.15);\n",
              "      filter: drop-shadow(0px 1px 2px rgba(0, 0, 0, 0.3));\n",
              "      fill: #FFFFFF;\n",
              "    }\n",
              "  </style>\n",
              "\n",
              "      <script>\n",
              "        const buttonEl =\n",
              "          document.querySelector('#df-70c62ee0-ab80-4c2c-a7bb-6fcb0a67d921 button.colab-df-convert');\n",
              "        buttonEl.style.display =\n",
              "          google.colab.kernel.accessAllowed ? 'block' : 'none';\n",
              "\n",
              "        async function convertToInteractive(key) {\n",
              "          const element = document.querySelector('#df-70c62ee0-ab80-4c2c-a7bb-6fcb0a67d921');\n",
              "          const dataTable =\n",
              "            await google.colab.kernel.invokeFunction('convertToInteractive',\n",
              "                                                     [key], {});\n",
              "          if (!dataTable) return;\n",
              "\n",
              "          const docLinkHtml = 'Like what you see? Visit the ' +\n",
              "            '<a target=\"_blank\" href=https://colab.research.google.com/notebooks/data_table.ipynb>data table notebook</a>'\n",
              "            + ' to learn more about interactive tables.';\n",
              "          element.innerHTML = '';\n",
              "          dataTable['output_type'] = 'display_data';\n",
              "          await google.colab.output.renderOutput(dataTable, element);\n",
              "          const docLink = document.createElement('div');\n",
              "          docLink.innerHTML = docLinkHtml;\n",
              "          element.appendChild(docLink);\n",
              "        }\n",
              "      </script>\n",
              "    </div>\n",
              "  </div>\n",
              "  "
            ],
            "text/plain": [
              "       SeniorCitizen       tenure  MonthlyCharges  TotalCharges\n",
              "count    7032.000000  7032.000000     7032.000000   7032.000000\n",
              "mean        0.162400    32.421786       64.798208   2283.300441\n",
              "std         0.368844    24.545260       30.085974   2266.771362\n",
              "min         0.000000     1.000000       18.250000     18.800000\n",
              "25%         0.000000     9.000000       35.587500    401.450000\n",
              "50%         0.000000    29.000000       70.350000   1397.475000\n",
              "75%         0.000000    55.000000       89.862500   3794.737500\n",
              "max         1.000000    72.000000      118.750000   8684.800000"
            ]
          },
          "metadata": {},
          "execution_count": 12
        }
      ]
    },
    {
      "cell_type": "markdown",
      "source": [
        "#### Preprocessing and Data Transformation \n",
        "Tranform categorical data to numerical data.  "
      ],
      "metadata": {
        "id": "jT3RMCtOkkot"
      }
    },
    {
      "cell_type": "code",
      "source": [
        "telcom_df = df1.copy()\n",
        "telcom_df.sample(3)"
      ],
      "metadata": {
        "colab": {
          "base_uri": "https://localhost:8080/",
          "height": 260
        },
        "id": "gGLmLzZ0kglZ",
        "outputId": "8b11cb73-9f9f-47de-d60a-f62f36b0c13d"
      },
      "execution_count": 13,
      "outputs": [
        {
          "output_type": "execute_result",
          "data": {
            "text/html": [
              "\n",
              "  <div id=\"df-c08c65d1-2a87-4f98-b42e-aec2f59913fc\">\n",
              "    <div class=\"colab-df-container\">\n",
              "      <div>\n",
              "<style scoped>\n",
              "    .dataframe tbody tr th:only-of-type {\n",
              "        vertical-align: middle;\n",
              "    }\n",
              "\n",
              "    .dataframe tbody tr th {\n",
              "        vertical-align: top;\n",
              "    }\n",
              "\n",
              "    .dataframe thead th {\n",
              "        text-align: right;\n",
              "    }\n",
              "</style>\n",
              "<table border=\"1\" class=\"dataframe\">\n",
              "  <thead>\n",
              "    <tr style=\"text-align: right;\">\n",
              "      <th></th>\n",
              "      <th>gender</th>\n",
              "      <th>SeniorCitizen</th>\n",
              "      <th>Partner</th>\n",
              "      <th>Dependents</th>\n",
              "      <th>tenure</th>\n",
              "      <th>PhoneService</th>\n",
              "      <th>MultipleLines</th>\n",
              "      <th>InternetService</th>\n",
              "      <th>OnlineSecurity</th>\n",
              "      <th>OnlineBackup</th>\n",
              "      <th>DeviceProtection</th>\n",
              "      <th>TechSupport</th>\n",
              "      <th>StreamingTV</th>\n",
              "      <th>StreamingMovies</th>\n",
              "      <th>Contract</th>\n",
              "      <th>PaperlessBilling</th>\n",
              "      <th>PaymentMethod</th>\n",
              "      <th>MonthlyCharges</th>\n",
              "      <th>TotalCharges</th>\n",
              "      <th>Churn</th>\n",
              "    </tr>\n",
              "  </thead>\n",
              "  <tbody>\n",
              "    <tr>\n",
              "      <th>2174</th>\n",
              "      <td>Female</td>\n",
              "      <td>0</td>\n",
              "      <td>No</td>\n",
              "      <td>No</td>\n",
              "      <td>19</td>\n",
              "      <td>Yes</td>\n",
              "      <td>No</td>\n",
              "      <td>No</td>\n",
              "      <td>No internet service</td>\n",
              "      <td>No internet service</td>\n",
              "      <td>No internet service</td>\n",
              "      <td>No internet service</td>\n",
              "      <td>No internet service</td>\n",
              "      <td>No internet service</td>\n",
              "      <td>One year</td>\n",
              "      <td>No</td>\n",
              "      <td>Credit card (automatic)</td>\n",
              "      <td>20.25</td>\n",
              "      <td>383.65</td>\n",
              "      <td>No</td>\n",
              "    </tr>\n",
              "    <tr>\n",
              "      <th>1568</th>\n",
              "      <td>Male</td>\n",
              "      <td>1</td>\n",
              "      <td>No</td>\n",
              "      <td>No</td>\n",
              "      <td>11</td>\n",
              "      <td>Yes</td>\n",
              "      <td>Yes</td>\n",
              "      <td>Fiber optic</td>\n",
              "      <td>No</td>\n",
              "      <td>Yes</td>\n",
              "      <td>Yes</td>\n",
              "      <td>Yes</td>\n",
              "      <td>Yes</td>\n",
              "      <td>Yes</td>\n",
              "      <td>Month-to-month</td>\n",
              "      <td>Yes</td>\n",
              "      <td>Electronic check</td>\n",
              "      <td>111.40</td>\n",
              "      <td>1183.05</td>\n",
              "      <td>No</td>\n",
              "    </tr>\n",
              "    <tr>\n",
              "      <th>1743</th>\n",
              "      <td>Male</td>\n",
              "      <td>0</td>\n",
              "      <td>Yes</td>\n",
              "      <td>No</td>\n",
              "      <td>67</td>\n",
              "      <td>Yes</td>\n",
              "      <td>Yes</td>\n",
              "      <td>No</td>\n",
              "      <td>No internet service</td>\n",
              "      <td>No internet service</td>\n",
              "      <td>No internet service</td>\n",
              "      <td>No internet service</td>\n",
              "      <td>No internet service</td>\n",
              "      <td>No internet service</td>\n",
              "      <td>Two year</td>\n",
              "      <td>No</td>\n",
              "      <td>Credit card (automatic)</td>\n",
              "      <td>24.85</td>\n",
              "      <td>1583.50</td>\n",
              "      <td>No</td>\n",
              "    </tr>\n",
              "  </tbody>\n",
              "</table>\n",
              "</div>\n",
              "      <button class=\"colab-df-convert\" onclick=\"convertToInteractive('df-c08c65d1-2a87-4f98-b42e-aec2f59913fc')\"\n",
              "              title=\"Convert this dataframe to an interactive table.\"\n",
              "              style=\"display:none;\">\n",
              "        \n",
              "  <svg xmlns=\"http://www.w3.org/2000/svg\" height=\"24px\"viewBox=\"0 0 24 24\"\n",
              "       width=\"24px\">\n",
              "    <path d=\"M0 0h24v24H0V0z\" fill=\"none\"/>\n",
              "    <path d=\"M18.56 5.44l.94 2.06.94-2.06 2.06-.94-2.06-.94-.94-2.06-.94 2.06-2.06.94zm-11 1L8.5 8.5l.94-2.06 2.06-.94-2.06-.94L8.5 2.5l-.94 2.06-2.06.94zm10 10l.94 2.06.94-2.06 2.06-.94-2.06-.94-.94-2.06-.94 2.06-2.06.94z\"/><path d=\"M17.41 7.96l-1.37-1.37c-.4-.4-.92-.59-1.43-.59-.52 0-1.04.2-1.43.59L10.3 9.45l-7.72 7.72c-.78.78-.78 2.05 0 2.83L4 21.41c.39.39.9.59 1.41.59.51 0 1.02-.2 1.41-.59l7.78-7.78 2.81-2.81c.8-.78.8-2.07 0-2.86zM5.41 20L4 18.59l7.72-7.72 1.47 1.35L5.41 20z\"/>\n",
              "  </svg>\n",
              "      </button>\n",
              "      \n",
              "  <style>\n",
              "    .colab-df-container {\n",
              "      display:flex;\n",
              "      flex-wrap:wrap;\n",
              "      gap: 12px;\n",
              "    }\n",
              "\n",
              "    .colab-df-convert {\n",
              "      background-color: #E8F0FE;\n",
              "      border: none;\n",
              "      border-radius: 50%;\n",
              "      cursor: pointer;\n",
              "      display: none;\n",
              "      fill: #1967D2;\n",
              "      height: 32px;\n",
              "      padding: 0 0 0 0;\n",
              "      width: 32px;\n",
              "    }\n",
              "\n",
              "    .colab-df-convert:hover {\n",
              "      background-color: #E2EBFA;\n",
              "      box-shadow: 0px 1px 2px rgba(60, 64, 67, 0.3), 0px 1px 3px 1px rgba(60, 64, 67, 0.15);\n",
              "      fill: #174EA6;\n",
              "    }\n",
              "\n",
              "    [theme=dark] .colab-df-convert {\n",
              "      background-color: #3B4455;\n",
              "      fill: #D2E3FC;\n",
              "    }\n",
              "\n",
              "    [theme=dark] .colab-df-convert:hover {\n",
              "      background-color: #434B5C;\n",
              "      box-shadow: 0px 1px 3px 1px rgba(0, 0, 0, 0.15);\n",
              "      filter: drop-shadow(0px 1px 2px rgba(0, 0, 0, 0.3));\n",
              "      fill: #FFFFFF;\n",
              "    }\n",
              "  </style>\n",
              "\n",
              "      <script>\n",
              "        const buttonEl =\n",
              "          document.querySelector('#df-c08c65d1-2a87-4f98-b42e-aec2f59913fc button.colab-df-convert');\n",
              "        buttonEl.style.display =\n",
              "          google.colab.kernel.accessAllowed ? 'block' : 'none';\n",
              "\n",
              "        async function convertToInteractive(key) {\n",
              "          const element = document.querySelector('#df-c08c65d1-2a87-4f98-b42e-aec2f59913fc');\n",
              "          const dataTable =\n",
              "            await google.colab.kernel.invokeFunction('convertToInteractive',\n",
              "                                                     [key], {});\n",
              "          if (!dataTable) return;\n",
              "\n",
              "          const docLinkHtml = 'Like what you see? Visit the ' +\n",
              "            '<a target=\"_blank\" href=https://colab.research.google.com/notebooks/data_table.ipynb>data table notebook</a>'\n",
              "            + ' to learn more about interactive tables.';\n",
              "          element.innerHTML = '';\n",
              "          dataTable['output_type'] = 'display_data';\n",
              "          await google.colab.output.renderOutput(dataTable, element);\n",
              "          const docLink = document.createElement('div');\n",
              "          docLink.innerHTML = docLinkHtml;\n",
              "          element.appendChild(docLink);\n",
              "        }\n",
              "      </script>\n",
              "    </div>\n",
              "  </div>\n",
              "  "
            ],
            "text/plain": [
              "      gender  SeniorCitizen Partner  ... MonthlyCharges  TotalCharges Churn\n",
              "2174  Female              0      No  ...          20.25        383.65    No\n",
              "1568    Male              1      No  ...         111.40       1183.05    No\n",
              "1743    Male              0     Yes  ...          24.85       1583.50    No\n",
              "\n",
              "[3 rows x 20 columns]"
            ]
          },
          "metadata": {},
          "execution_count": 13
        }
      ]
    },
    {
      "cell_type": "code",
      "source": [
        "# unique values of categorical features\n",
        "def print_unique_cols(df):\n",
        "    for col in df.columns:\n",
        "        if df[col].dtypes=='O':\n",
        "            print(f'{col} = {df[col].unique()}')"
      ],
      "metadata": {
        "id": "B1nzHbwEkmPw"
      },
      "execution_count": 14,
      "outputs": []
    },
    {
      "cell_type": "code",
      "source": [
        "print_unique_cols(telcom_df)"
      ],
      "metadata": {
        "colab": {
          "base_uri": "https://localhost:8080/"
        },
        "id": "OD-X1yq9kq8y",
        "outputId": "a8ceecd4-dd21-4c64-8638-f8291c103531"
      },
      "execution_count": 15,
      "outputs": [
        {
          "output_type": "stream",
          "name": "stdout",
          "text": [
            "gender = ['Female' 'Male']\n",
            "Partner = ['Yes' 'No']\n",
            "Dependents = ['No' 'Yes']\n",
            "PhoneService = ['No' 'Yes']\n",
            "MultipleLines = ['No phone service' 'No' 'Yes']\n",
            "InternetService = ['DSL' 'Fiber optic' 'No']\n",
            "OnlineSecurity = ['No' 'Yes' 'No internet service']\n",
            "OnlineBackup = ['Yes' 'No' 'No internet service']\n",
            "DeviceProtection = ['No' 'Yes' 'No internet service']\n",
            "TechSupport = ['No' 'Yes' 'No internet service']\n",
            "StreamingTV = ['No' 'Yes' 'No internet service']\n",
            "StreamingMovies = ['No' 'Yes' 'No internet service']\n",
            "Contract = ['Month-to-month' 'One year' 'Two year']\n",
            "PaperlessBilling = ['Yes' 'No']\n",
            "PaymentMethod = ['Electronic check' 'Mailed check' 'Bank transfer (automatic)'\n",
            " 'Credit card (automatic)']\n",
            "Churn = ['No' 'Yes']\n"
          ]
        }
      ]
    },
    {
      "cell_type": "markdown",
      "source": [
        "## Encoding\n",
        "\n",
        "#### Convert binary features to 0 and 1.     Female = 0, Male = 1;  No = 0, Yes = 1;"
      ],
      "metadata": {
        "id": "QS8fygoSkzRJ"
      }
    },
    {
      "cell_type": "code",
      "source": [
        "telcom_df.gender.replace({'Female':0,'Male':1},inplace=True)\n",
        "bicols = ['Partner','Dependents','PhoneService','PaperlessBilling','Churn']\n",
        "for c in bicols:\n",
        "    telcom_df[c].replace({'Yes':1,'No':0}, inplace= True)"
      ],
      "metadata": {
        "id": "SCOzQvVEkmTG"
      },
      "execution_count": 16,
      "outputs": []
    },
    {
      "cell_type": "code",
      "source": [
        "for c in telcom_df.columns:\n",
        "    print(f'{c} = {telcom_df[c].unique()}')"
      ],
      "metadata": {
        "colab": {
          "base_uri": "https://localhost:8080/"
        },
        "id": "moXFPOOalGj9",
        "outputId": "483207d7-5282-4a18-fd76-0f1679ba9fa9"
      },
      "execution_count": 17,
      "outputs": [
        {
          "output_type": "stream",
          "name": "stdout",
          "text": [
            "gender = [0 1]\n",
            "SeniorCitizen = [0 1]\n",
            "Partner = [1 0]\n",
            "Dependents = [0 1]\n",
            "tenure = [ 1 34  2 45  8 22 10 28 62 13 16 58 49 25 69 52 71 21 12 30 47 72 17 27\n",
            "  5 46 11 70 63 43 15 60 18 66  9  3 31 50 64 56  7 42 35 48 29 65 38 68\n",
            " 32 55 37 36 41  6  4 33 67 23 57 61 14 20 53 40 59 24 44 19 54 51 26 39]\n",
            "PhoneService = [0 1]\n",
            "MultipleLines = ['No phone service' 'No' 'Yes']\n",
            "InternetService = ['DSL' 'Fiber optic' 'No']\n",
            "OnlineSecurity = ['No' 'Yes' 'No internet service']\n",
            "OnlineBackup = ['Yes' 'No' 'No internet service']\n",
            "DeviceProtection = ['No' 'Yes' 'No internet service']\n",
            "TechSupport = ['No' 'Yes' 'No internet service']\n",
            "StreamingTV = ['No' 'Yes' 'No internet service']\n",
            "StreamingMovies = ['No' 'Yes' 'No internet service']\n",
            "Contract = ['Month-to-month' 'One year' 'Two year']\n",
            "PaperlessBilling = [1 0]\n",
            "PaymentMethod = ['Electronic check' 'Mailed check' 'Bank transfer (automatic)'\n",
            " 'Credit card (automatic)']\n",
            "MonthlyCharges = [29.85 56.95 53.85 ... 63.1  44.2  78.7 ]\n",
            "TotalCharges = [  29.85 1889.5   108.15 ...  346.45  306.6  6844.5 ]\n",
            "Churn = [0 1]\n"
          ]
        }
      ]
    },
    {
      "cell_type": "markdown",
      "source": [
        "#### Convert multi-categorical feature to one hot encoding.  "
      ],
      "metadata": {
        "id": "FU9gaxs1lLkU"
      }
    },
    {
      "cell_type": "code",
      "source": [
        "print_unique_cols(telcom_df)"
      ],
      "metadata": {
        "colab": {
          "base_uri": "https://localhost:8080/"
        },
        "id": "uC4hEYMSk4a0",
        "outputId": "f280bd21-4024-4ef9-f061-d48dad610bfe"
      },
      "execution_count": 18,
      "outputs": [
        {
          "output_type": "stream",
          "name": "stdout",
          "text": [
            "MultipleLines = ['No phone service' 'No' 'Yes']\n",
            "InternetService = ['DSL' 'Fiber optic' 'No']\n",
            "OnlineSecurity = ['No' 'Yes' 'No internet service']\n",
            "OnlineBackup = ['Yes' 'No' 'No internet service']\n",
            "DeviceProtection = ['No' 'Yes' 'No internet service']\n",
            "TechSupport = ['No' 'Yes' 'No internet service']\n",
            "StreamingTV = ['No' 'Yes' 'No internet service']\n",
            "StreamingMovies = ['No' 'Yes' 'No internet service']\n",
            "Contract = ['Month-to-month' 'One year' 'Two year']\n",
            "PaymentMethod = ['Electronic check' 'Mailed check' 'Bank transfer (automatic)'\n",
            " 'Credit card (automatic)']\n"
          ]
        }
      ]
    },
    {
      "cell_type": "code",
      "source": [
        "cat_col = ['MultipleLines','InternetService','OnlineSecurity','OnlineBackup',\n",
        "           'DeviceProtection','TechSupport','StreamingTV','StreamingMovies',\n",
        "           'Contract','PaymentMethod']\n",
        "telcom_df = pd.get_dummies(data=telcom_df,columns=cat_col,drop_first=True)\n",
        "telcom_df.sample(3)"
      ],
      "metadata": {
        "colab": {
          "base_uri": "https://localhost:8080/",
          "height": 242
        },
        "id": "TA2WlEWrlM10",
        "outputId": "323b2e9d-5f30-42cd-884d-1758b60d706d"
      },
      "execution_count": 19,
      "outputs": [
        {
          "output_type": "execute_result",
          "data": {
            "text/html": [
              "\n",
              "  <div id=\"df-9e79197f-ca53-4619-b300-b8d0159edb23\">\n",
              "    <div class=\"colab-df-container\">\n",
              "      <div>\n",
              "<style scoped>\n",
              "    .dataframe tbody tr th:only-of-type {\n",
              "        vertical-align: middle;\n",
              "    }\n",
              "\n",
              "    .dataframe tbody tr th {\n",
              "        vertical-align: top;\n",
              "    }\n",
              "\n",
              "    .dataframe thead th {\n",
              "        text-align: right;\n",
              "    }\n",
              "</style>\n",
              "<table border=\"1\" class=\"dataframe\">\n",
              "  <thead>\n",
              "    <tr style=\"text-align: right;\">\n",
              "      <th></th>\n",
              "      <th>gender</th>\n",
              "      <th>SeniorCitizen</th>\n",
              "      <th>Partner</th>\n",
              "      <th>Dependents</th>\n",
              "      <th>tenure</th>\n",
              "      <th>PhoneService</th>\n",
              "      <th>PaperlessBilling</th>\n",
              "      <th>MonthlyCharges</th>\n",
              "      <th>TotalCharges</th>\n",
              "      <th>Churn</th>\n",
              "      <th>MultipleLines_No phone service</th>\n",
              "      <th>MultipleLines_Yes</th>\n",
              "      <th>InternetService_Fiber optic</th>\n",
              "      <th>InternetService_No</th>\n",
              "      <th>OnlineSecurity_No internet service</th>\n",
              "      <th>OnlineSecurity_Yes</th>\n",
              "      <th>OnlineBackup_No internet service</th>\n",
              "      <th>OnlineBackup_Yes</th>\n",
              "      <th>DeviceProtection_No internet service</th>\n",
              "      <th>DeviceProtection_Yes</th>\n",
              "      <th>TechSupport_No internet service</th>\n",
              "      <th>TechSupport_Yes</th>\n",
              "      <th>StreamingTV_No internet service</th>\n",
              "      <th>StreamingTV_Yes</th>\n",
              "      <th>StreamingMovies_No internet service</th>\n",
              "      <th>StreamingMovies_Yes</th>\n",
              "      <th>Contract_One year</th>\n",
              "      <th>Contract_Two year</th>\n",
              "      <th>PaymentMethod_Credit card (automatic)</th>\n",
              "      <th>PaymentMethod_Electronic check</th>\n",
              "      <th>PaymentMethod_Mailed check</th>\n",
              "    </tr>\n",
              "  </thead>\n",
              "  <tbody>\n",
              "    <tr>\n",
              "      <th>3507</th>\n",
              "      <td>1</td>\n",
              "      <td>0</td>\n",
              "      <td>0</td>\n",
              "      <td>0</td>\n",
              "      <td>4</td>\n",
              "      <td>1</td>\n",
              "      <td>0</td>\n",
              "      <td>19.75</td>\n",
              "      <td>78.30</td>\n",
              "      <td>0</td>\n",
              "      <td>0</td>\n",
              "      <td>0</td>\n",
              "      <td>0</td>\n",
              "      <td>1</td>\n",
              "      <td>1</td>\n",
              "      <td>0</td>\n",
              "      <td>1</td>\n",
              "      <td>0</td>\n",
              "      <td>1</td>\n",
              "      <td>0</td>\n",
              "      <td>1</td>\n",
              "      <td>0</td>\n",
              "      <td>1</td>\n",
              "      <td>0</td>\n",
              "      <td>1</td>\n",
              "      <td>0</td>\n",
              "      <td>0</td>\n",
              "      <td>0</td>\n",
              "      <td>0</td>\n",
              "      <td>0</td>\n",
              "      <td>1</td>\n",
              "    </tr>\n",
              "    <tr>\n",
              "      <th>2796</th>\n",
              "      <td>0</td>\n",
              "      <td>0</td>\n",
              "      <td>1</td>\n",
              "      <td>0</td>\n",
              "      <td>55</td>\n",
              "      <td>1</td>\n",
              "      <td>1</td>\n",
              "      <td>89.80</td>\n",
              "      <td>4959.60</td>\n",
              "      <td>0</td>\n",
              "      <td>0</td>\n",
              "      <td>1</td>\n",
              "      <td>1</td>\n",
              "      <td>0</td>\n",
              "      <td>0</td>\n",
              "      <td>1</td>\n",
              "      <td>0</td>\n",
              "      <td>0</td>\n",
              "      <td>0</td>\n",
              "      <td>0</td>\n",
              "      <td>0</td>\n",
              "      <td>0</td>\n",
              "      <td>0</td>\n",
              "      <td>1</td>\n",
              "      <td>0</td>\n",
              "      <td>0</td>\n",
              "      <td>0</td>\n",
              "      <td>0</td>\n",
              "      <td>0</td>\n",
              "      <td>0</td>\n",
              "      <td>0</td>\n",
              "    </tr>\n",
              "    <tr>\n",
              "      <th>4024</th>\n",
              "      <td>0</td>\n",
              "      <td>0</td>\n",
              "      <td>0</td>\n",
              "      <td>0</td>\n",
              "      <td>7</td>\n",
              "      <td>0</td>\n",
              "      <td>0</td>\n",
              "      <td>25.05</td>\n",
              "      <td>189.95</td>\n",
              "      <td>0</td>\n",
              "      <td>1</td>\n",
              "      <td>0</td>\n",
              "      <td>0</td>\n",
              "      <td>0</td>\n",
              "      <td>0</td>\n",
              "      <td>0</td>\n",
              "      <td>0</td>\n",
              "      <td>0</td>\n",
              "      <td>0</td>\n",
              "      <td>0</td>\n",
              "      <td>0</td>\n",
              "      <td>0</td>\n",
              "      <td>0</td>\n",
              "      <td>0</td>\n",
              "      <td>0</td>\n",
              "      <td>0</td>\n",
              "      <td>0</td>\n",
              "      <td>0</td>\n",
              "      <td>0</td>\n",
              "      <td>0</td>\n",
              "      <td>0</td>\n",
              "    </tr>\n",
              "  </tbody>\n",
              "</table>\n",
              "</div>\n",
              "      <button class=\"colab-df-convert\" onclick=\"convertToInteractive('df-9e79197f-ca53-4619-b300-b8d0159edb23')\"\n",
              "              title=\"Convert this dataframe to an interactive table.\"\n",
              "              style=\"display:none;\">\n",
              "        \n",
              "  <svg xmlns=\"http://www.w3.org/2000/svg\" height=\"24px\"viewBox=\"0 0 24 24\"\n",
              "       width=\"24px\">\n",
              "    <path d=\"M0 0h24v24H0V0z\" fill=\"none\"/>\n",
              "    <path d=\"M18.56 5.44l.94 2.06.94-2.06 2.06-.94-2.06-.94-.94-2.06-.94 2.06-2.06.94zm-11 1L8.5 8.5l.94-2.06 2.06-.94-2.06-.94L8.5 2.5l-.94 2.06-2.06.94zm10 10l.94 2.06.94-2.06 2.06-.94-2.06-.94-.94-2.06-.94 2.06-2.06.94z\"/><path d=\"M17.41 7.96l-1.37-1.37c-.4-.4-.92-.59-1.43-.59-.52 0-1.04.2-1.43.59L10.3 9.45l-7.72 7.72c-.78.78-.78 2.05 0 2.83L4 21.41c.39.39.9.59 1.41.59.51 0 1.02-.2 1.41-.59l7.78-7.78 2.81-2.81c.8-.78.8-2.07 0-2.86zM5.41 20L4 18.59l7.72-7.72 1.47 1.35L5.41 20z\"/>\n",
              "  </svg>\n",
              "      </button>\n",
              "      \n",
              "  <style>\n",
              "    .colab-df-container {\n",
              "      display:flex;\n",
              "      flex-wrap:wrap;\n",
              "      gap: 12px;\n",
              "    }\n",
              "\n",
              "    .colab-df-convert {\n",
              "      background-color: #E8F0FE;\n",
              "      border: none;\n",
              "      border-radius: 50%;\n",
              "      cursor: pointer;\n",
              "      display: none;\n",
              "      fill: #1967D2;\n",
              "      height: 32px;\n",
              "      padding: 0 0 0 0;\n",
              "      width: 32px;\n",
              "    }\n",
              "\n",
              "    .colab-df-convert:hover {\n",
              "      background-color: #E2EBFA;\n",
              "      box-shadow: 0px 1px 2px rgba(60, 64, 67, 0.3), 0px 1px 3px 1px rgba(60, 64, 67, 0.15);\n",
              "      fill: #174EA6;\n",
              "    }\n",
              "\n",
              "    [theme=dark] .colab-df-convert {\n",
              "      background-color: #3B4455;\n",
              "      fill: #D2E3FC;\n",
              "    }\n",
              "\n",
              "    [theme=dark] .colab-df-convert:hover {\n",
              "      background-color: #434B5C;\n",
              "      box-shadow: 0px 1px 3px 1px rgba(0, 0, 0, 0.15);\n",
              "      filter: drop-shadow(0px 1px 2px rgba(0, 0, 0, 0.3));\n",
              "      fill: #FFFFFF;\n",
              "    }\n",
              "  </style>\n",
              "\n",
              "      <script>\n",
              "        const buttonEl =\n",
              "          document.querySelector('#df-9e79197f-ca53-4619-b300-b8d0159edb23 button.colab-df-convert');\n",
              "        buttonEl.style.display =\n",
              "          google.colab.kernel.accessAllowed ? 'block' : 'none';\n",
              "\n",
              "        async function convertToInteractive(key) {\n",
              "          const element = document.querySelector('#df-9e79197f-ca53-4619-b300-b8d0159edb23');\n",
              "          const dataTable =\n",
              "            await google.colab.kernel.invokeFunction('convertToInteractive',\n",
              "                                                     [key], {});\n",
              "          if (!dataTable) return;\n",
              "\n",
              "          const docLinkHtml = 'Like what you see? Visit the ' +\n",
              "            '<a target=\"_blank\" href=https://colab.research.google.com/notebooks/data_table.ipynb>data table notebook</a>'\n",
              "            + ' to learn more about interactive tables.';\n",
              "          element.innerHTML = '';\n",
              "          dataTable['output_type'] = 'display_data';\n",
              "          await google.colab.output.renderOutput(dataTable, element);\n",
              "          const docLink = document.createElement('div');\n",
              "          docLink.innerHTML = docLinkHtml;\n",
              "          element.appendChild(docLink);\n",
              "        }\n",
              "      </script>\n",
              "    </div>\n",
              "  </div>\n",
              "  "
            ],
            "text/plain": [
              "      gender  ...  PaymentMethod_Mailed check\n",
              "3507       1  ...                           1\n",
              "2796       0  ...                           0\n",
              "4024       0  ...                           0\n",
              "\n",
              "[3 rows x 31 columns]"
            ]
          },
          "metadata": {},
          "execution_count": 19
        }
      ]
    },
    {
      "cell_type": "code",
      "source": [
        "telcom_df.nunique()"
      ],
      "metadata": {
        "colab": {
          "base_uri": "https://localhost:8080/"
        },
        "id": "5vwbCgQ1lRKy",
        "outputId": "27008d2c-54d1-4c36-8ab2-b4742c27ad55"
      },
      "execution_count": 20,
      "outputs": [
        {
          "output_type": "execute_result",
          "data": {
            "text/plain": [
              "gender                                      2\n",
              "SeniorCitizen                               2\n",
              "Partner                                     2\n",
              "Dependents                                  2\n",
              "tenure                                     72\n",
              "PhoneService                                2\n",
              "PaperlessBilling                            2\n",
              "MonthlyCharges                           1584\n",
              "TotalCharges                             6530\n",
              "Churn                                       2\n",
              "MultipleLines_No phone service              2\n",
              "MultipleLines_Yes                           2\n",
              "InternetService_Fiber optic                 2\n",
              "InternetService_No                          2\n",
              "OnlineSecurity_No internet service          2\n",
              "OnlineSecurity_Yes                          2\n",
              "OnlineBackup_No internet service            2\n",
              "OnlineBackup_Yes                            2\n",
              "DeviceProtection_No internet service        2\n",
              "DeviceProtection_Yes                        2\n",
              "TechSupport_No internet service             2\n",
              "TechSupport_Yes                             2\n",
              "StreamingTV_No internet service             2\n",
              "StreamingTV_Yes                             2\n",
              "StreamingMovies_No internet service         2\n",
              "StreamingMovies_Yes                         2\n",
              "Contract_One year                           2\n",
              "Contract_Two year                           2\n",
              "PaymentMethod_Credit card (automatic)       2\n",
              "PaymentMethod_Electronic check              2\n",
              "PaymentMethod_Mailed check                  2\n",
              "dtype: int64"
            ]
          },
          "metadata": {},
          "execution_count": 20
        }
      ]
    },
    {
      "cell_type": "markdown",
      "source": [
        "#### Scale numeric features to range between 0 and 1.  "
      ],
      "metadata": {
        "id": "lXoF0_8PlYWW"
      }
    },
    {
      "cell_type": "code",
      "source": [
        "scale_col = ['tenure','MonthlyCharges','TotalCharges']\n",
        "\n",
        "sc = MinMaxScaler()\n",
        "telcom_df[scale_col]= sc.fit_transform(telcom_df[scale_col])\n",
        "telcom_df.sample(3)"
      ],
      "metadata": {
        "colab": {
          "base_uri": "https://localhost:8080/",
          "height": 242
        },
        "id": "Y9MNS0EDlUuf",
        "outputId": "5e73c38a-0039-438a-bb57-f53721885407"
      },
      "execution_count": 21,
      "outputs": [
        {
          "output_type": "execute_result",
          "data": {
            "text/html": [
              "\n",
              "  <div id=\"df-527587d6-56c9-4f9d-a543-fb3edae192fc\">\n",
              "    <div class=\"colab-df-container\">\n",
              "      <div>\n",
              "<style scoped>\n",
              "    .dataframe tbody tr th:only-of-type {\n",
              "        vertical-align: middle;\n",
              "    }\n",
              "\n",
              "    .dataframe tbody tr th {\n",
              "        vertical-align: top;\n",
              "    }\n",
              "\n",
              "    .dataframe thead th {\n",
              "        text-align: right;\n",
              "    }\n",
              "</style>\n",
              "<table border=\"1\" class=\"dataframe\">\n",
              "  <thead>\n",
              "    <tr style=\"text-align: right;\">\n",
              "      <th></th>\n",
              "      <th>gender</th>\n",
              "      <th>SeniorCitizen</th>\n",
              "      <th>Partner</th>\n",
              "      <th>Dependents</th>\n",
              "      <th>tenure</th>\n",
              "      <th>PhoneService</th>\n",
              "      <th>PaperlessBilling</th>\n",
              "      <th>MonthlyCharges</th>\n",
              "      <th>TotalCharges</th>\n",
              "      <th>Churn</th>\n",
              "      <th>MultipleLines_No phone service</th>\n",
              "      <th>MultipleLines_Yes</th>\n",
              "      <th>InternetService_Fiber optic</th>\n",
              "      <th>InternetService_No</th>\n",
              "      <th>OnlineSecurity_No internet service</th>\n",
              "      <th>OnlineSecurity_Yes</th>\n",
              "      <th>OnlineBackup_No internet service</th>\n",
              "      <th>OnlineBackup_Yes</th>\n",
              "      <th>DeviceProtection_No internet service</th>\n",
              "      <th>DeviceProtection_Yes</th>\n",
              "      <th>TechSupport_No internet service</th>\n",
              "      <th>TechSupport_Yes</th>\n",
              "      <th>StreamingTV_No internet service</th>\n",
              "      <th>StreamingTV_Yes</th>\n",
              "      <th>StreamingMovies_No internet service</th>\n",
              "      <th>StreamingMovies_Yes</th>\n",
              "      <th>Contract_One year</th>\n",
              "      <th>Contract_Two year</th>\n",
              "      <th>PaymentMethod_Credit card (automatic)</th>\n",
              "      <th>PaymentMethod_Electronic check</th>\n",
              "      <th>PaymentMethod_Mailed check</th>\n",
              "    </tr>\n",
              "  </thead>\n",
              "  <tbody>\n",
              "    <tr>\n",
              "      <th>4659</th>\n",
              "      <td>0</td>\n",
              "      <td>0</td>\n",
              "      <td>1</td>\n",
              "      <td>1</td>\n",
              "      <td>0.901408</td>\n",
              "      <td>1</td>\n",
              "      <td>1</td>\n",
              "      <td>0.856219</td>\n",
              "      <td>0.773886</td>\n",
              "      <td>0</td>\n",
              "      <td>0</td>\n",
              "      <td>1</td>\n",
              "      <td>1</td>\n",
              "      <td>0</td>\n",
              "      <td>0</td>\n",
              "      <td>1</td>\n",
              "      <td>0</td>\n",
              "      <td>0</td>\n",
              "      <td>0</td>\n",
              "      <td>1</td>\n",
              "      <td>0</td>\n",
              "      <td>0</td>\n",
              "      <td>0</td>\n",
              "      <td>1</td>\n",
              "      <td>0</td>\n",
              "      <td>1</td>\n",
              "      <td>0</td>\n",
              "      <td>1</td>\n",
              "      <td>1</td>\n",
              "      <td>0</td>\n",
              "      <td>0</td>\n",
              "    </tr>\n",
              "    <tr>\n",
              "      <th>2090</th>\n",
              "      <td>0</td>\n",
              "      <td>0</td>\n",
              "      <td>1</td>\n",
              "      <td>1</td>\n",
              "      <td>0.661972</td>\n",
              "      <td>0</td>\n",
              "      <td>1</td>\n",
              "      <td>0.111940</td>\n",
              "      <td>0.162041</td>\n",
              "      <td>0</td>\n",
              "      <td>1</td>\n",
              "      <td>0</td>\n",
              "      <td>0</td>\n",
              "      <td>0</td>\n",
              "      <td>0</td>\n",
              "      <td>0</td>\n",
              "      <td>0</td>\n",
              "      <td>0</td>\n",
              "      <td>0</td>\n",
              "      <td>0</td>\n",
              "      <td>0</td>\n",
              "      <td>1</td>\n",
              "      <td>0</td>\n",
              "      <td>0</td>\n",
              "      <td>0</td>\n",
              "      <td>0</td>\n",
              "      <td>0</td>\n",
              "      <td>0</td>\n",
              "      <td>1</td>\n",
              "      <td>0</td>\n",
              "      <td>0</td>\n",
              "    </tr>\n",
              "    <tr>\n",
              "      <th>5225</th>\n",
              "      <td>1</td>\n",
              "      <td>0</td>\n",
              "      <td>1</td>\n",
              "      <td>1</td>\n",
              "      <td>1.000000</td>\n",
              "      <td>1</td>\n",
              "      <td>1</td>\n",
              "      <td>0.857711</td>\n",
              "      <td>0.858551</td>\n",
              "      <td>0</td>\n",
              "      <td>0</td>\n",
              "      <td>1</td>\n",
              "      <td>1</td>\n",
              "      <td>0</td>\n",
              "      <td>0</td>\n",
              "      <td>0</td>\n",
              "      <td>0</td>\n",
              "      <td>1</td>\n",
              "      <td>0</td>\n",
              "      <td>1</td>\n",
              "      <td>0</td>\n",
              "      <td>0</td>\n",
              "      <td>0</td>\n",
              "      <td>1</td>\n",
              "      <td>0</td>\n",
              "      <td>1</td>\n",
              "      <td>1</td>\n",
              "      <td>0</td>\n",
              "      <td>1</td>\n",
              "      <td>0</td>\n",
              "      <td>0</td>\n",
              "    </tr>\n",
              "  </tbody>\n",
              "</table>\n",
              "</div>\n",
              "      <button class=\"colab-df-convert\" onclick=\"convertToInteractive('df-527587d6-56c9-4f9d-a543-fb3edae192fc')\"\n",
              "              title=\"Convert this dataframe to an interactive table.\"\n",
              "              style=\"display:none;\">\n",
              "        \n",
              "  <svg xmlns=\"http://www.w3.org/2000/svg\" height=\"24px\"viewBox=\"0 0 24 24\"\n",
              "       width=\"24px\">\n",
              "    <path d=\"M0 0h24v24H0V0z\" fill=\"none\"/>\n",
              "    <path d=\"M18.56 5.44l.94 2.06.94-2.06 2.06-.94-2.06-.94-.94-2.06-.94 2.06-2.06.94zm-11 1L8.5 8.5l.94-2.06 2.06-.94-2.06-.94L8.5 2.5l-.94 2.06-2.06.94zm10 10l.94 2.06.94-2.06 2.06-.94-2.06-.94-.94-2.06-.94 2.06-2.06.94z\"/><path d=\"M17.41 7.96l-1.37-1.37c-.4-.4-.92-.59-1.43-.59-.52 0-1.04.2-1.43.59L10.3 9.45l-7.72 7.72c-.78.78-.78 2.05 0 2.83L4 21.41c.39.39.9.59 1.41.59.51 0 1.02-.2 1.41-.59l7.78-7.78 2.81-2.81c.8-.78.8-2.07 0-2.86zM5.41 20L4 18.59l7.72-7.72 1.47 1.35L5.41 20z\"/>\n",
              "  </svg>\n",
              "      </button>\n",
              "      \n",
              "  <style>\n",
              "    .colab-df-container {\n",
              "      display:flex;\n",
              "      flex-wrap:wrap;\n",
              "      gap: 12px;\n",
              "    }\n",
              "\n",
              "    .colab-df-convert {\n",
              "      background-color: #E8F0FE;\n",
              "      border: none;\n",
              "      border-radius: 50%;\n",
              "      cursor: pointer;\n",
              "      display: none;\n",
              "      fill: #1967D2;\n",
              "      height: 32px;\n",
              "      padding: 0 0 0 0;\n",
              "      width: 32px;\n",
              "    }\n",
              "\n",
              "    .colab-df-convert:hover {\n",
              "      background-color: #E2EBFA;\n",
              "      box-shadow: 0px 1px 2px rgba(60, 64, 67, 0.3), 0px 1px 3px 1px rgba(60, 64, 67, 0.15);\n",
              "      fill: #174EA6;\n",
              "    }\n",
              "\n",
              "    [theme=dark] .colab-df-convert {\n",
              "      background-color: #3B4455;\n",
              "      fill: #D2E3FC;\n",
              "    }\n",
              "\n",
              "    [theme=dark] .colab-df-convert:hover {\n",
              "      background-color: #434B5C;\n",
              "      box-shadow: 0px 1px 3px 1px rgba(0, 0, 0, 0.15);\n",
              "      filter: drop-shadow(0px 1px 2px rgba(0, 0, 0, 0.3));\n",
              "      fill: #FFFFFF;\n",
              "    }\n",
              "  </style>\n",
              "\n",
              "      <script>\n",
              "        const buttonEl =\n",
              "          document.querySelector('#df-527587d6-56c9-4f9d-a543-fb3edae192fc button.colab-df-convert');\n",
              "        buttonEl.style.display =\n",
              "          google.colab.kernel.accessAllowed ? 'block' : 'none';\n",
              "\n",
              "        async function convertToInteractive(key) {\n",
              "          const element = document.querySelector('#df-527587d6-56c9-4f9d-a543-fb3edae192fc');\n",
              "          const dataTable =\n",
              "            await google.colab.kernel.invokeFunction('convertToInteractive',\n",
              "                                                     [key], {});\n",
              "          if (!dataTable) return;\n",
              "\n",
              "          const docLinkHtml = 'Like what you see? Visit the ' +\n",
              "            '<a target=\"_blank\" href=https://colab.research.google.com/notebooks/data_table.ipynb>data table notebook</a>'\n",
              "            + ' to learn more about interactive tables.';\n",
              "          element.innerHTML = '';\n",
              "          dataTable['output_type'] = 'display_data';\n",
              "          await google.colab.output.renderOutput(dataTable, element);\n",
              "          const docLink = document.createElement('div');\n",
              "          docLink.innerHTML = docLinkHtml;\n",
              "          element.appendChild(docLink);\n",
              "        }\n",
              "      </script>\n",
              "    </div>\n",
              "  </div>\n",
              "  "
            ],
            "text/plain": [
              "      gender  ...  PaymentMethod_Mailed check\n",
              "4659       0  ...                           0\n",
              "2090       0  ...                           0\n",
              "5225       1  ...                           0\n",
              "\n",
              "[3 rows x 31 columns]"
            ]
          },
          "metadata": {},
          "execution_count": 21
        }
      ]
    },
    {
      "cell_type": "markdown",
      "source": [
        "#### Split data to training and test set.  "
      ],
      "metadata": {
        "id": "saAV71s8lhVB"
      }
    },
    {
      "cell_type": "code",
      "source": [
        "# Assign input features to X and output to y.   \n",
        "X = telcom_df.drop(columns=['Churn'])\n",
        "y = telcom_df['Churn']"
      ],
      "metadata": {
        "id": "IaHIbFCAlbg_"
      },
      "execution_count": 22,
      "outputs": []
    },
    {
      "cell_type": "code",
      "source": [
        "# Split dataset into training and test sets. \n",
        "train_X,test_X,train_y,test_y = train_test_split(X,y,test_size=0.2,stratify=y,random_state=5)"
      ],
      "metadata": {
        "id": "V_eSInP5lbxF"
      },
      "execution_count": 23,
      "outputs": []
    },
    {
      "cell_type": "code",
      "source": [
        "print(f'training set: {train_X.shape} \\n {train_y.value_counts()}')\n",
        "print('-'*20)\n",
        "print(f'test set: {test_X.shape} \\n {test_y.value_counts()}')"
      ],
      "metadata": {
        "colab": {
          "base_uri": "https://localhost:8080/"
        },
        "id": "FEriGjm-l2wW",
        "outputId": "26fe75f7-f1c2-4474-81fa-97516f68dbf9"
      },
      "execution_count": 24,
      "outputs": [
        {
          "output_type": "stream",
          "name": "stdout",
          "text": [
            "training set: (5625, 30) \n",
            " 0    4130\n",
            "1    1495\n",
            "Name: Churn, dtype: int64\n",
            "--------------------\n",
            "test set: (1407, 30) \n",
            " 0    1033\n",
            "1     374\n",
            "Name: Churn, dtype: int64\n"
          ]
        }
      ]
    },
    {
      "cell_type": "markdown",
      "source": [
        "### Upsampling method (SMOTE)\n",
        "\n",
        "When dealing with an imbalanced dataset, Synthetic Minority Oversampling TEchnique (SMOTE) method can be used to oversample the minority class. Simply adding duplicate records of minority class often don’t add any new information to the model. In SMOTE new instances are synthesized from the existing data. It randomly selects a point from the minority class and computes the k-nearest neighbors for this point. The synthetic points are then added between the chosen point and its neighbors.\n",
        "\n"
      ],
      "metadata": {
        "id": "up01qFCnl8ZJ"
      }
    },
    {
      "cell_type": "code",
      "source": [
        "from imblearn.over_sampling import SMOTE\n",
        "sm = SMOTE()\n",
        "train_X_re, train_y_re = sm.fit_resample(train_X, train_y)\n",
        "\n",
        "print('resampled class distribution\\n',train_y_re.value_counts())"
      ],
      "metadata": {
        "colab": {
          "base_uri": "https://localhost:8080/"
        },
        "id": "cEtaZki1l2z3",
        "outputId": "969d9217-add3-44a9-e790-e86abc2c4a06"
      },
      "execution_count": 25,
      "outputs": [
        {
          "output_type": "stream",
          "name": "stdout",
          "text": [
            "resampled class distribution\n",
            " 1    4130\n",
            "0    4130\n",
            "Name: Churn, dtype: int64\n"
          ]
        }
      ]
    },
    {
      "cell_type": "markdown",
      "source": [
        "### Evaluation: Confustion Matrix & Classification Report \n",
        "\n",
        "Confusion Matrix shows the correct and incorrect predictions for each class. In the first row, the first column indicates how many class 0 are predicted correctly, and the second row, second column, indicates how many class 1 are predicted correctly.  Therefore, the higher the diagonal values of the confusion matrix the better, indicating many correct predictions.\n",
        "\n",
        "A Classification report is used to measure the performance of the classifier prediction.  It shows the main classification metrics precision, recall and f1-score on a per-class basis. F1-score calculates the harmonic mean of the precision and recall.\n"
      ],
      "metadata": {
        "id": "VtQ8hvcpmDFh"
      }
    },
    {
      "cell_type": "code",
      "source": [
        "def test_eval(clf_model, testX, testy):\n",
        "    # Test set prediction\n",
        "    y_pred=clf_model.predict(testX)\n",
        "    y_predict = []\n",
        "    for p in y_pred:\n",
        "        if p > 0.5:\n",
        "            y_predict.append(1)\n",
        "        else:\n",
        "            y_predict.append(0)\n",
        "    print('Confusion Matrix')\n",
        "    print('='*20)\n",
        "    cm = confusion_matrix(testy,y_predict)\n",
        "    print(cm,\"\\n\")\n",
        "    print('Classification Report')\n",
        "    print('='*20)\n",
        "    print(classification_report(testy,y_predict))\n",
        "    cr = classification_report(testy,y_predict,output_dict=True)\n",
        "    score = roc_auc_score(testy, y_pred)\n",
        "\n",
        "    return cm,cr,score,y_predict"
      ],
      "metadata": {
        "id": "h4yuL7KRl7Av"
      },
      "execution_count": 26,
      "outputs": []
    },
    {
      "cell_type": "code",
      "source": [
        "def plot_cmatrix(cmatrix, name):\n",
        "    fig = px.imshow(cmatrix,color_continuous_scale=[[0.0, 'peachpuff'], \n",
        "                                          [0.5, 'lime'], \n",
        "                                          [1.0, 'green']])\n",
        "\n",
        "    fig.update_layout(\n",
        "        title = 'Confusion Matrix ('+name+')', title_x=0.5,\n",
        "        xaxis_title=\"Prediction\", yaxis_title=\"Truth\", \n",
        "        height=400,\n",
        "        width=400,\n",
        "        xaxis = dict(tickmode = 'linear', tick0 = 0, dtick = 1),\n",
        "        yaxis = dict(tickmode = 'linear', tick0 = 0, dtick = 1)\n",
        "    )\n",
        "    for i in range(len(cmatrix)):\n",
        "        for j in range(len(cmatrix[0])):\n",
        "            fig.add_annotation(\n",
        "                x=j,\n",
        "                y=i,\n",
        "                text=str(cmatrix[i,j]),\n",
        "                showarrow=False,\n",
        "                font_size=12, font_color='black'\n",
        "            )\n",
        "\n",
        "    fig.show()"
      ],
      "metadata": {
        "id": "m3PmlvACl7EC"
      },
      "execution_count": 27,
      "outputs": []
    },
    {
      "cell_type": "markdown",
      "source": [
        "## Linear Algorithms\n",
        "\n",
        "#### Churn Prediction using Logistic Regression"
      ],
      "metadata": {
        "id": "CzPDr3egmQru"
      }
    },
    {
      "cell_type": "code",
      "source": [
        "para_lr = {'C': [3,7,10], \"max_iter\":[100,200]} \n",
        "\n",
        "model_lr = GridSearchCV(estimator = LogisticRegression(),\n",
        "                    param_grid = para_lr,\n",
        "                    cv=10,\n",
        "                    verbose=0,\n",
        "                    n_jobs=-1\n",
        "                   )\n",
        "model_lr.fit(train_X_re,train_y_re)"
      ],
      "metadata": {
        "colab": {
          "base_uri": "https://localhost:8080/"
        },
        "id": "0VlFIg2wmIPi",
        "outputId": "c63055ef-bcfd-47ae-f7c8-8ffffb7aa0a6"
      },
      "execution_count": 28,
      "outputs": [
        {
          "output_type": "stream",
          "name": "stderr",
          "text": [
            "/usr/local/lib/python3.7/dist-packages/sklearn/linear_model/_logistic.py:818: ConvergenceWarning:\n",
            "\n",
            "lbfgs failed to converge (status=1):\n",
            "STOP: TOTAL NO. of ITERATIONS REACHED LIMIT.\n",
            "\n",
            "Increase the number of iterations (max_iter) or scale the data as shown in:\n",
            "    https://scikit-learn.org/stable/modules/preprocessing.html\n",
            "Please also refer to the documentation for alternative solver options:\n",
            "    https://scikit-learn.org/stable/modules/linear_model.html#logistic-regression\n",
            "\n"
          ]
        },
        {
          "output_type": "execute_result",
          "data": {
            "text/plain": [
              "GridSearchCV(cv=10, estimator=LogisticRegression(), n_jobs=-1,\n",
              "             param_grid={'C': [3, 7, 10], 'max_iter': [100, 200]})"
            ]
          },
          "metadata": {},
          "execution_count": 28
        }
      ]
    },
    {
      "cell_type": "code",
      "source": [
        "model_lr.best_params_"
      ],
      "metadata": {
        "colab": {
          "base_uri": "https://localhost:8080/"
        },
        "id": "5t_C0laumYgh",
        "outputId": "752b731b-7df1-41fc-9e08-6b09ee0cad3f"
      },
      "execution_count": 29,
      "outputs": [
        {
          "output_type": "execute_result",
          "data": {
            "text/plain": [
              "{'C': 7, 'max_iter': 100}"
            ]
          },
          "metadata": {},
          "execution_count": 29
        }
      ]
    },
    {
      "cell_type": "code",
      "source": [
        "cm_lr,cr_lr,auc_score_lr,_  = test_eval(model_lr,test_X,test_y)\n",
        "fpr_lr, tpr_lr, thresh_lr = roc_curve(test_y, model_lr.predict_proba(test_X)[:,1], pos_label = 1)\n",
        "precision_lr, recall_lr, _ = precision_recall_curve(test_y, model_lr.predict_proba(test_X)[:,1], pos_label=1)"
      ],
      "metadata": {
        "colab": {
          "base_uri": "https://localhost:8080/"
        },
        "id": "bOxso1jSmYjj",
        "outputId": "242f3ba2-9856-4c77-b243-bc7e80278175"
      },
      "execution_count": 30,
      "outputs": [
        {
          "output_type": "stream",
          "name": "stdout",
          "text": [
            "Confusion Matrix\n",
            "====================\n",
            "[[800 233]\n",
            " [ 87 287]] \n",
            "\n",
            "Classification Report\n",
            "====================\n",
            "              precision    recall  f1-score   support\n",
            "\n",
            "           0       0.90      0.77      0.83      1033\n",
            "           1       0.55      0.77      0.64       374\n",
            "\n",
            "    accuracy                           0.77      1407\n",
            "   macro avg       0.73      0.77      0.74      1407\n",
            "weighted avg       0.81      0.77      0.78      1407\n",
            "\n"
          ]
        }
      ]
    },
    {
      "cell_type": "code",
      "source": [
        "plot_cmatrix(cm_lr, name='LR')"
      ],
      "metadata": {
        "colab": {
          "base_uri": "https://localhost:8080/",
          "height": 417
        },
        "id": "MnfUrGZNmISJ",
        "outputId": "f1b81c00-e6e9-4833-b66d-b7b20ddc2c3e"
      },
      "execution_count": 31,
      "outputs": [
        {
          "output_type": "display_data",
          "data": {
            "text/html": [
              "<html>\n",
              "<head><meta charset=\"utf-8\" /></head>\n",
              "<body>\n",
              "    <div>\n",
              "            <script src=\"https://cdnjs.cloudflare.com/ajax/libs/mathjax/2.7.5/MathJax.js?config=TeX-AMS-MML_SVG\"></script><script type=\"text/javascript\">if (window.MathJax) {MathJax.Hub.Config({SVG: {font: \"STIX-Web\"}});}</script>\n",
              "                <script type=\"text/javascript\">window.PlotlyConfig = {MathJaxConfig: 'local'};</script>\n",
              "        <script src=\"https://cdn.plot.ly/plotly-latest.min.js\"></script>    \n",
              "            <div id=\"cbe59202-ee5b-4442-82f8-670246d2beab\" class=\"plotly-graph-div\" style=\"height:400px; width:400px;\"></div>\n",
              "            <script type=\"text/javascript\">\n",
              "                \n",
              "                    window.PLOTLYENV=window.PLOTLYENV || {};\n",
              "                    \n",
              "                if (document.getElementById(\"cbe59202-ee5b-4442-82f8-670246d2beab\")) {\n",
              "                    Plotly.newPlot(\n",
              "                        'cbe59202-ee5b-4442-82f8-670246d2beab',\n",
              "                        [{\"coloraxis\": \"coloraxis\", \"type\": \"heatmap\", \"z\": [[800, 233], [87, 287]]}],\n",
              "                        {\"annotations\": [{\"font\": {\"color\": \"black\", \"size\": 12}, \"showarrow\": false, \"text\": \"800\", \"x\": 0, \"y\": 0}, {\"font\": {\"color\": \"black\", \"size\": 12}, \"showarrow\": false, \"text\": \"233\", \"x\": 1, \"y\": 0}, {\"font\": {\"color\": \"black\", \"size\": 12}, \"showarrow\": false, \"text\": \"87\", \"x\": 0, \"y\": 1}, {\"font\": {\"color\": \"black\", \"size\": 12}, \"showarrow\": false, \"text\": \"287\", \"x\": 1, \"y\": 1}], \"coloraxis\": {\"colorscale\": [[0.0, \"peachpuff\"], [0.5, \"lime\"], [1.0, \"green\"]]}, \"height\": 400, \"margin\": {\"t\": 60}, \"template\": {\"data\": {\"bar\": [{\"error_x\": {\"color\": \"#2a3f5f\"}, \"error_y\": {\"color\": \"#2a3f5f\"}, \"marker\": {\"line\": {\"color\": \"#E5ECF6\", \"width\": 0.5}}, \"type\": \"bar\"}], \"barpolar\": [{\"marker\": {\"line\": {\"color\": \"#E5ECF6\", \"width\": 0.5}}, \"type\": \"barpolar\"}], \"carpet\": [{\"aaxis\": {\"endlinecolor\": \"#2a3f5f\", \"gridcolor\": \"white\", \"linecolor\": \"white\", \"minorgridcolor\": \"white\", \"startlinecolor\": \"#2a3f5f\"}, \"baxis\": {\"endlinecolor\": \"#2a3f5f\", \"gridcolor\": \"white\", \"linecolor\": \"white\", \"minorgridcolor\": \"white\", \"startlinecolor\": \"#2a3f5f\"}, \"type\": \"carpet\"}], \"choropleth\": [{\"colorbar\": {\"outlinewidth\": 0, \"ticks\": \"\"}, \"type\": \"choropleth\"}], \"contour\": [{\"colorbar\": {\"outlinewidth\": 0, \"ticks\": \"\"}, \"colorscale\": [[0.0, \"#0d0887\"], [0.1111111111111111, \"#46039f\"], [0.2222222222222222, \"#7201a8\"], [0.3333333333333333, \"#9c179e\"], [0.4444444444444444, \"#bd3786\"], [0.5555555555555556, \"#d8576b\"], [0.6666666666666666, \"#ed7953\"], [0.7777777777777778, \"#fb9f3a\"], [0.8888888888888888, \"#fdca26\"], [1.0, \"#f0f921\"]], \"type\": \"contour\"}], \"contourcarpet\": [{\"colorbar\": {\"outlinewidth\": 0, \"ticks\": \"\"}, \"type\": \"contourcarpet\"}], \"heatmap\": [{\"colorbar\": {\"outlinewidth\": 0, \"ticks\": \"\"}, \"colorscale\": [[0.0, \"#0d0887\"], [0.1111111111111111, \"#46039f\"], [0.2222222222222222, \"#7201a8\"], [0.3333333333333333, \"#9c179e\"], [0.4444444444444444, \"#bd3786\"], [0.5555555555555556, \"#d8576b\"], [0.6666666666666666, \"#ed7953\"], [0.7777777777777778, \"#fb9f3a\"], [0.8888888888888888, \"#fdca26\"], [1.0, \"#f0f921\"]], \"type\": \"heatmap\"}], \"heatmapgl\": [{\"colorbar\": {\"outlinewidth\": 0, \"ticks\": \"\"}, \"colorscale\": [[0.0, \"#0d0887\"], [0.1111111111111111, \"#46039f\"], [0.2222222222222222, \"#7201a8\"], [0.3333333333333333, \"#9c179e\"], [0.4444444444444444, \"#bd3786\"], [0.5555555555555556, \"#d8576b\"], [0.6666666666666666, \"#ed7953\"], [0.7777777777777778, \"#fb9f3a\"], [0.8888888888888888, \"#fdca26\"], [1.0, \"#f0f921\"]], \"type\": \"heatmapgl\"}], \"histogram\": [{\"marker\": {\"colorbar\": {\"outlinewidth\": 0, \"ticks\": \"\"}}, \"type\": \"histogram\"}], \"histogram2d\": [{\"colorbar\": {\"outlinewidth\": 0, \"ticks\": \"\"}, \"colorscale\": [[0.0, \"#0d0887\"], [0.1111111111111111, \"#46039f\"], [0.2222222222222222, \"#7201a8\"], [0.3333333333333333, \"#9c179e\"], [0.4444444444444444, \"#bd3786\"], [0.5555555555555556, \"#d8576b\"], [0.6666666666666666, \"#ed7953\"], [0.7777777777777778, \"#fb9f3a\"], [0.8888888888888888, \"#fdca26\"], [1.0, \"#f0f921\"]], \"type\": \"histogram2d\"}], \"histogram2dcontour\": [{\"colorbar\": {\"outlinewidth\": 0, \"ticks\": \"\"}, \"colorscale\": [[0.0, \"#0d0887\"], [0.1111111111111111, \"#46039f\"], [0.2222222222222222, \"#7201a8\"], [0.3333333333333333, \"#9c179e\"], [0.4444444444444444, \"#bd3786\"], [0.5555555555555556, \"#d8576b\"], [0.6666666666666666, \"#ed7953\"], [0.7777777777777778, \"#fb9f3a\"], [0.8888888888888888, \"#fdca26\"], [1.0, \"#f0f921\"]], \"type\": \"histogram2dcontour\"}], \"mesh3d\": [{\"colorbar\": {\"outlinewidth\": 0, \"ticks\": \"\"}, \"type\": \"mesh3d\"}], \"parcoords\": [{\"line\": {\"colorbar\": {\"outlinewidth\": 0, \"ticks\": \"\"}}, \"type\": \"parcoords\"}], \"pie\": [{\"automargin\": true, \"type\": \"pie\"}], \"scatter\": [{\"marker\": {\"colorbar\": {\"outlinewidth\": 0, \"ticks\": \"\"}}, \"type\": \"scatter\"}], \"scatter3d\": [{\"line\": {\"colorbar\": {\"outlinewidth\": 0, \"ticks\": \"\"}}, \"marker\": {\"colorbar\": {\"outlinewidth\": 0, \"ticks\": \"\"}}, \"type\": \"scatter3d\"}], \"scattercarpet\": [{\"marker\": {\"colorbar\": {\"outlinewidth\": 0, \"ticks\": \"\"}}, \"type\": \"scattercarpet\"}], \"scattergeo\": [{\"marker\": {\"colorbar\": {\"outlinewidth\": 0, \"ticks\": \"\"}}, \"type\": \"scattergeo\"}], \"scattergl\": [{\"marker\": {\"colorbar\": {\"outlinewidth\": 0, \"ticks\": \"\"}}, \"type\": \"scattergl\"}], \"scattermapbox\": [{\"marker\": {\"colorbar\": {\"outlinewidth\": 0, \"ticks\": \"\"}}, \"type\": \"scattermapbox\"}], \"scatterpolar\": [{\"marker\": {\"colorbar\": {\"outlinewidth\": 0, \"ticks\": \"\"}}, \"type\": \"scatterpolar\"}], \"scatterpolargl\": [{\"marker\": {\"colorbar\": {\"outlinewidth\": 0, \"ticks\": \"\"}}, \"type\": \"scatterpolargl\"}], \"scatterternary\": [{\"marker\": {\"colorbar\": {\"outlinewidth\": 0, \"ticks\": \"\"}}, \"type\": \"scatterternary\"}], \"surface\": [{\"colorbar\": {\"outlinewidth\": 0, \"ticks\": \"\"}, \"colorscale\": [[0.0, \"#0d0887\"], [0.1111111111111111, \"#46039f\"], [0.2222222222222222, \"#7201a8\"], [0.3333333333333333, \"#9c179e\"], [0.4444444444444444, \"#bd3786\"], [0.5555555555555556, \"#d8576b\"], [0.6666666666666666, \"#ed7953\"], [0.7777777777777778, \"#fb9f3a\"], [0.8888888888888888, \"#fdca26\"], [1.0, \"#f0f921\"]], \"type\": \"surface\"}], \"table\": [{\"cells\": {\"fill\": {\"color\": \"#EBF0F8\"}, \"line\": {\"color\": \"white\"}}, \"header\": {\"fill\": {\"color\": \"#C8D4E3\"}, \"line\": {\"color\": \"white\"}}, \"type\": \"table\"}]}, \"layout\": {\"annotationdefaults\": {\"arrowcolor\": \"#2a3f5f\", \"arrowhead\": 0, \"arrowwidth\": 1}, \"coloraxis\": {\"colorbar\": {\"outlinewidth\": 0, \"ticks\": \"\"}}, \"colorscale\": {\"diverging\": [[0, \"#8e0152\"], [0.1, \"#c51b7d\"], [0.2, \"#de77ae\"], [0.3, \"#f1b6da\"], [0.4, \"#fde0ef\"], [0.5, \"#f7f7f7\"], [0.6, \"#e6f5d0\"], [0.7, \"#b8e186\"], [0.8, \"#7fbc41\"], [0.9, \"#4d9221\"], [1, \"#276419\"]], \"sequential\": [[0.0, \"#0d0887\"], [0.1111111111111111, \"#46039f\"], [0.2222222222222222, \"#7201a8\"], [0.3333333333333333, \"#9c179e\"], [0.4444444444444444, \"#bd3786\"], [0.5555555555555556, \"#d8576b\"], [0.6666666666666666, \"#ed7953\"], [0.7777777777777778, \"#fb9f3a\"], [0.8888888888888888, \"#fdca26\"], [1.0, \"#f0f921\"]], \"sequentialminus\": [[0.0, \"#0d0887\"], [0.1111111111111111, \"#46039f\"], [0.2222222222222222, \"#7201a8\"], [0.3333333333333333, \"#9c179e\"], [0.4444444444444444, \"#bd3786\"], [0.5555555555555556, \"#d8576b\"], [0.6666666666666666, \"#ed7953\"], [0.7777777777777778, \"#fb9f3a\"], [0.8888888888888888, \"#fdca26\"], [1.0, \"#f0f921\"]]}, \"colorway\": [\"#636efa\", \"#EF553B\", \"#00cc96\", \"#ab63fa\", \"#FFA15A\", \"#19d3f3\", \"#FF6692\", \"#B6E880\", \"#FF97FF\", \"#FECB52\"], \"font\": {\"color\": \"#2a3f5f\"}, \"geo\": {\"bgcolor\": \"white\", \"lakecolor\": \"white\", \"landcolor\": \"#E5ECF6\", \"showlakes\": true, \"showland\": true, \"subunitcolor\": \"white\"}, \"hoverlabel\": {\"align\": \"left\"}, \"hovermode\": \"closest\", \"mapbox\": {\"style\": \"light\"}, \"paper_bgcolor\": \"white\", \"plot_bgcolor\": \"#E5ECF6\", \"polar\": {\"angularaxis\": {\"gridcolor\": \"white\", \"linecolor\": \"white\", \"ticks\": \"\"}, \"bgcolor\": \"#E5ECF6\", \"radialaxis\": {\"gridcolor\": \"white\", \"linecolor\": \"white\", \"ticks\": \"\"}}, \"scene\": {\"xaxis\": {\"backgroundcolor\": \"#E5ECF6\", \"gridcolor\": \"white\", \"gridwidth\": 2, \"linecolor\": \"white\", \"showbackground\": true, \"ticks\": \"\", \"zerolinecolor\": \"white\"}, \"yaxis\": {\"backgroundcolor\": \"#E5ECF6\", \"gridcolor\": \"white\", \"gridwidth\": 2, \"linecolor\": \"white\", \"showbackground\": true, \"ticks\": \"\", \"zerolinecolor\": \"white\"}, \"zaxis\": {\"backgroundcolor\": \"#E5ECF6\", \"gridcolor\": \"white\", \"gridwidth\": 2, \"linecolor\": \"white\", \"showbackground\": true, \"ticks\": \"\", \"zerolinecolor\": \"white\"}}, \"shapedefaults\": {\"line\": {\"color\": \"#2a3f5f\"}}, \"ternary\": {\"aaxis\": {\"gridcolor\": \"white\", \"linecolor\": \"white\", \"ticks\": \"\"}, \"baxis\": {\"gridcolor\": \"white\", \"linecolor\": \"white\", \"ticks\": \"\"}, \"bgcolor\": \"#E5ECF6\", \"caxis\": {\"gridcolor\": \"white\", \"linecolor\": \"white\", \"ticks\": \"\"}}, \"title\": {\"x\": 0.05}, \"xaxis\": {\"automargin\": true, \"gridcolor\": \"white\", \"linecolor\": \"white\", \"ticks\": \"\", \"title\": {\"standoff\": 15}, \"zerolinecolor\": \"white\", \"zerolinewidth\": 2}, \"yaxis\": {\"automargin\": true, \"gridcolor\": \"white\", \"linecolor\": \"white\", \"ticks\": \"\", \"title\": {\"standoff\": 15}, \"zerolinecolor\": \"white\", \"zerolinewidth\": 2}}}, \"title\": {\"text\": \"Confusion Matrix (LR)\", \"x\": 0.5}, \"width\": 400, \"xaxis\": {\"constrain\": \"domain\", \"dtick\": 1, \"scaleanchor\": \"y\", \"tick0\": 0, \"tickmode\": \"linear\", \"title\": {\"text\": \"Prediction\"}}, \"yaxis\": {\"autorange\": \"reversed\", \"constrain\": \"domain\", \"dtick\": 1, \"tick0\": 0, \"tickmode\": \"linear\", \"title\": {\"text\": \"Truth\"}}},\n",
              "                        {\"responsive\": true}\n",
              "                    ).then(function(){\n",
              "                            \n",
              "var gd = document.getElementById('cbe59202-ee5b-4442-82f8-670246d2beab');\n",
              "var x = new MutationObserver(function (mutations, observer) {{\n",
              "        var display = window.getComputedStyle(gd).display;\n",
              "        if (!display || display === 'none') {{\n",
              "            console.log([gd, 'removed!']);\n",
              "            Plotly.purge(gd);\n",
              "            observer.disconnect();\n",
              "        }}\n",
              "}});\n",
              "\n",
              "// Listen for the removal of the full notebook cells\n",
              "var notebookContainer = gd.closest('#notebook-container');\n",
              "if (notebookContainer) {{\n",
              "    x.observe(notebookContainer, {childList: true});\n",
              "}}\n",
              "\n",
              "// Listen for the clearing of the current output cell\n",
              "var outputEl = gd.closest('.output');\n",
              "if (outputEl) {{\n",
              "    x.observe(outputEl, {childList: true});\n",
              "}}\n",
              "\n",
              "                        })\n",
              "                };\n",
              "                \n",
              "            </script>\n",
              "        </div>\n",
              "</body>\n",
              "</html>"
            ]
          },
          "metadata": {}
        }
      ]
    },
    {
      "cell_type": "markdown",
      "source": [
        "#### Churn Prediction using Naive Bayes"
      ],
      "metadata": {
        "id": "NSC4QsVamq1t"
      }
    },
    {
      "cell_type": "code",
      "source": [
        "para_gnb = {'var_smoothing':np.logspace(1,-4,num=50)}\n",
        "\n",
        "model_gnb = GridSearchCV(estimator = GaussianNB(),\n",
        "                    param_grid = para_gnb,\n",
        "                    cv=10,\n",
        "                    verbose=0,\n",
        "                    n_jobs=-1\n",
        "                   )\n",
        "model_gnb.fit(train_X_re,train_y_re)"
      ],
      "metadata": {
        "colab": {
          "base_uri": "https://localhost:8080/"
        },
        "id": "uPzKtJmGmlB7",
        "outputId": "b79fed7f-43a7-498e-ae78-3dbcbf69cf44"
      },
      "execution_count": 32,
      "outputs": [
        {
          "output_type": "execute_result",
          "data": {
            "text/plain": [
              "GridSearchCV(cv=10, estimator=GaussianNB(), n_jobs=-1,\n",
              "             param_grid={'var_smoothing': array([1.00000000e+01, 7.90604321e+00, 6.25055193e+00, 4.94171336e+00,\n",
              "       3.90693994e+00, 3.08884360e+00, 2.44205309e+00, 1.93069773e+00,\n",
              "       1.52641797e+00, 1.20679264e+00, 9.54095476e-01, 7.54312006e-01,\n",
              "       5.96362332e-01, 4.71486636e-01, 3.72759372e-01, 2.94705170e-01,\n",
              "       2.32995181e-01, 1.842069...\n",
              "       3.55648031e-02, 2.81176870e-02, 2.22299648e-02, 1.75751062e-02,\n",
              "       1.38949549e-02, 1.09854114e-02, 8.68511374e-03, 6.86648845e-03,\n",
              "       5.42867544e-03, 4.29193426e-03, 3.39322177e-03, 2.68269580e-03,\n",
              "       2.12095089e-03, 1.67683294e-03, 1.32571137e-03, 1.04811313e-03,\n",
              "       8.28642773e-04, 6.55128557e-04, 5.17947468e-04, 4.09491506e-04,\n",
              "       3.23745754e-04, 2.55954792e-04, 2.02358965e-04, 1.59985872e-04,\n",
              "       1.26485522e-04, 1.00000000e-04])})"
            ]
          },
          "metadata": {},
          "execution_count": 32
        }
      ]
    },
    {
      "cell_type": "code",
      "source": [
        "model_gnb.best_params_"
      ],
      "metadata": {
        "colab": {
          "base_uri": "https://localhost:8080/"
        },
        "id": "3BQl_V5bmuir",
        "outputId": "208cc439-f5ea-4245-f6e6-d104b2a38253"
      },
      "execution_count": 33,
      "outputs": [
        {
          "output_type": "execute_result",
          "data": {
            "text/plain": [
              "{'var_smoothing': 0.00868511373751352}"
            ]
          },
          "metadata": {},
          "execution_count": 33
        }
      ]
    },
    {
      "cell_type": "code",
      "source": [
        "cm_gnb,cr_gnb,auc_score_gnb,_  = test_eval(model_gnb,test_X,test_y)\n",
        "fpr_gnb, tpr_gnb, thresh_gnb = roc_curve(test_y, model_gnb.predict_proba(test_X)[:,1], pos_label = 1)\n",
        "precision_gnb, recall_gnb, _ = precision_recall_curve(test_y, model_gnb.predict_proba(test_X)[:,1],pos_label=1)"
      ],
      "metadata": {
        "colab": {
          "base_uri": "https://localhost:8080/"
        },
        "id": "CSPdrpN1m0Dt",
        "outputId": "ffb72423-ceb1-4d2e-c2d7-649dfb8d1fef"
      },
      "execution_count": 34,
      "outputs": [
        {
          "output_type": "stream",
          "name": "stdout",
          "text": [
            "Confusion Matrix\n",
            "====================\n",
            "[[642 391]\n",
            " [ 53 321]] \n",
            "\n",
            "Classification Report\n",
            "====================\n",
            "              precision    recall  f1-score   support\n",
            "\n",
            "           0       0.92      0.62      0.74      1033\n",
            "           1       0.45      0.86      0.59       374\n",
            "\n",
            "    accuracy                           0.68      1407\n",
            "   macro avg       0.69      0.74      0.67      1407\n",
            "weighted avg       0.80      0.68      0.70      1407\n",
            "\n"
          ]
        }
      ]
    },
    {
      "cell_type": "code",
      "source": [
        "plot_cmatrix(cm_gnb, name='GNB')"
      ],
      "metadata": {
        "colab": {
          "base_uri": "https://localhost:8080/",
          "height": 417
        },
        "id": "EVRdfYCfm45y",
        "outputId": "6fa4d034-12c0-414b-b277-98ad475ab8cc"
      },
      "execution_count": 35,
      "outputs": [
        {
          "output_type": "display_data",
          "data": {
            "text/html": [
              "<html>\n",
              "<head><meta charset=\"utf-8\" /></head>\n",
              "<body>\n",
              "    <div>\n",
              "            <script src=\"https://cdnjs.cloudflare.com/ajax/libs/mathjax/2.7.5/MathJax.js?config=TeX-AMS-MML_SVG\"></script><script type=\"text/javascript\">if (window.MathJax) {MathJax.Hub.Config({SVG: {font: \"STIX-Web\"}});}</script>\n",
              "                <script type=\"text/javascript\">window.PlotlyConfig = {MathJaxConfig: 'local'};</script>\n",
              "        <script src=\"https://cdn.plot.ly/plotly-latest.min.js\"></script>    \n",
              "            <div id=\"58bf3cd1-2bb2-44f3-92d2-e5ee0cbe7723\" class=\"plotly-graph-div\" style=\"height:400px; width:400px;\"></div>\n",
              "            <script type=\"text/javascript\">\n",
              "                \n",
              "                    window.PLOTLYENV=window.PLOTLYENV || {};\n",
              "                    \n",
              "                if (document.getElementById(\"58bf3cd1-2bb2-44f3-92d2-e5ee0cbe7723\")) {\n",
              "                    Plotly.newPlot(\n",
              "                        '58bf3cd1-2bb2-44f3-92d2-e5ee0cbe7723',\n",
              "                        [{\"coloraxis\": \"coloraxis\", \"type\": \"heatmap\", \"z\": [[642, 391], [53, 321]]}],\n",
              "                        {\"annotations\": [{\"font\": {\"color\": \"black\", \"size\": 12}, \"showarrow\": false, \"text\": \"642\", \"x\": 0, \"y\": 0}, {\"font\": {\"color\": \"black\", \"size\": 12}, \"showarrow\": false, \"text\": \"391\", \"x\": 1, \"y\": 0}, {\"font\": {\"color\": \"black\", \"size\": 12}, \"showarrow\": false, \"text\": \"53\", \"x\": 0, \"y\": 1}, {\"font\": {\"color\": \"black\", \"size\": 12}, \"showarrow\": false, \"text\": \"321\", \"x\": 1, \"y\": 1}], \"coloraxis\": {\"colorscale\": [[0.0, \"peachpuff\"], [0.5, \"lime\"], [1.0, \"green\"]]}, \"height\": 400, \"margin\": {\"t\": 60}, \"template\": {\"data\": {\"bar\": [{\"error_x\": {\"color\": \"#2a3f5f\"}, \"error_y\": {\"color\": \"#2a3f5f\"}, \"marker\": {\"line\": {\"color\": \"#E5ECF6\", \"width\": 0.5}}, \"type\": \"bar\"}], \"barpolar\": [{\"marker\": {\"line\": {\"color\": \"#E5ECF6\", \"width\": 0.5}}, \"type\": \"barpolar\"}], \"carpet\": [{\"aaxis\": {\"endlinecolor\": \"#2a3f5f\", \"gridcolor\": \"white\", \"linecolor\": \"white\", \"minorgridcolor\": \"white\", \"startlinecolor\": \"#2a3f5f\"}, \"baxis\": {\"endlinecolor\": \"#2a3f5f\", \"gridcolor\": \"white\", \"linecolor\": \"white\", \"minorgridcolor\": \"white\", \"startlinecolor\": \"#2a3f5f\"}, \"type\": \"carpet\"}], \"choropleth\": [{\"colorbar\": {\"outlinewidth\": 0, \"ticks\": \"\"}, \"type\": \"choropleth\"}], \"contour\": [{\"colorbar\": {\"outlinewidth\": 0, \"ticks\": \"\"}, \"colorscale\": [[0.0, \"#0d0887\"], [0.1111111111111111, \"#46039f\"], [0.2222222222222222, \"#7201a8\"], [0.3333333333333333, \"#9c179e\"], [0.4444444444444444, \"#bd3786\"], [0.5555555555555556, \"#d8576b\"], [0.6666666666666666, \"#ed7953\"], [0.7777777777777778, \"#fb9f3a\"], [0.8888888888888888, \"#fdca26\"], [1.0, \"#f0f921\"]], \"type\": \"contour\"}], \"contourcarpet\": [{\"colorbar\": {\"outlinewidth\": 0, \"ticks\": \"\"}, \"type\": \"contourcarpet\"}], \"heatmap\": [{\"colorbar\": {\"outlinewidth\": 0, \"ticks\": \"\"}, \"colorscale\": [[0.0, \"#0d0887\"], [0.1111111111111111, \"#46039f\"], [0.2222222222222222, \"#7201a8\"], [0.3333333333333333, \"#9c179e\"], [0.4444444444444444, \"#bd3786\"], [0.5555555555555556, \"#d8576b\"], [0.6666666666666666, \"#ed7953\"], [0.7777777777777778, \"#fb9f3a\"], [0.8888888888888888, \"#fdca26\"], [1.0, \"#f0f921\"]], \"type\": \"heatmap\"}], \"heatmapgl\": [{\"colorbar\": {\"outlinewidth\": 0, \"ticks\": \"\"}, \"colorscale\": [[0.0, \"#0d0887\"], [0.1111111111111111, \"#46039f\"], [0.2222222222222222, \"#7201a8\"], [0.3333333333333333, \"#9c179e\"], [0.4444444444444444, \"#bd3786\"], [0.5555555555555556, \"#d8576b\"], [0.6666666666666666, \"#ed7953\"], [0.7777777777777778, \"#fb9f3a\"], [0.8888888888888888, \"#fdca26\"], [1.0, \"#f0f921\"]], \"type\": \"heatmapgl\"}], \"histogram\": [{\"marker\": {\"colorbar\": {\"outlinewidth\": 0, \"ticks\": \"\"}}, \"type\": \"histogram\"}], \"histogram2d\": [{\"colorbar\": {\"outlinewidth\": 0, \"ticks\": \"\"}, \"colorscale\": [[0.0, \"#0d0887\"], [0.1111111111111111, \"#46039f\"], [0.2222222222222222, \"#7201a8\"], [0.3333333333333333, \"#9c179e\"], [0.4444444444444444, \"#bd3786\"], [0.5555555555555556, \"#d8576b\"], [0.6666666666666666, \"#ed7953\"], [0.7777777777777778, \"#fb9f3a\"], [0.8888888888888888, \"#fdca26\"], [1.0, \"#f0f921\"]], \"type\": \"histogram2d\"}], \"histogram2dcontour\": [{\"colorbar\": {\"outlinewidth\": 0, \"ticks\": \"\"}, \"colorscale\": [[0.0, \"#0d0887\"], [0.1111111111111111, \"#46039f\"], [0.2222222222222222, \"#7201a8\"], [0.3333333333333333, \"#9c179e\"], [0.4444444444444444, \"#bd3786\"], [0.5555555555555556, \"#d8576b\"], [0.6666666666666666, \"#ed7953\"], [0.7777777777777778, \"#fb9f3a\"], [0.8888888888888888, \"#fdca26\"], [1.0, \"#f0f921\"]], \"type\": \"histogram2dcontour\"}], \"mesh3d\": [{\"colorbar\": {\"outlinewidth\": 0, \"ticks\": \"\"}, \"type\": \"mesh3d\"}], \"parcoords\": [{\"line\": {\"colorbar\": {\"outlinewidth\": 0, \"ticks\": \"\"}}, \"type\": \"parcoords\"}], \"pie\": [{\"automargin\": true, \"type\": \"pie\"}], \"scatter\": [{\"marker\": {\"colorbar\": {\"outlinewidth\": 0, \"ticks\": \"\"}}, \"type\": \"scatter\"}], \"scatter3d\": [{\"line\": {\"colorbar\": {\"outlinewidth\": 0, \"ticks\": \"\"}}, \"marker\": {\"colorbar\": {\"outlinewidth\": 0, \"ticks\": \"\"}}, \"type\": \"scatter3d\"}], \"scattercarpet\": [{\"marker\": {\"colorbar\": {\"outlinewidth\": 0, \"ticks\": \"\"}}, \"type\": \"scattercarpet\"}], \"scattergeo\": [{\"marker\": {\"colorbar\": {\"outlinewidth\": 0, \"ticks\": \"\"}}, \"type\": \"scattergeo\"}], \"scattergl\": [{\"marker\": {\"colorbar\": {\"outlinewidth\": 0, \"ticks\": \"\"}}, \"type\": \"scattergl\"}], \"scattermapbox\": [{\"marker\": {\"colorbar\": {\"outlinewidth\": 0, \"ticks\": \"\"}}, \"type\": \"scattermapbox\"}], \"scatterpolar\": [{\"marker\": {\"colorbar\": {\"outlinewidth\": 0, \"ticks\": \"\"}}, \"type\": \"scatterpolar\"}], \"scatterpolargl\": [{\"marker\": {\"colorbar\": {\"outlinewidth\": 0, \"ticks\": \"\"}}, \"type\": \"scatterpolargl\"}], \"scatterternary\": [{\"marker\": {\"colorbar\": {\"outlinewidth\": 0, \"ticks\": \"\"}}, \"type\": \"scatterternary\"}], \"surface\": [{\"colorbar\": {\"outlinewidth\": 0, \"ticks\": \"\"}, \"colorscale\": [[0.0, \"#0d0887\"], [0.1111111111111111, \"#46039f\"], [0.2222222222222222, \"#7201a8\"], [0.3333333333333333, \"#9c179e\"], [0.4444444444444444, \"#bd3786\"], [0.5555555555555556, \"#d8576b\"], [0.6666666666666666, \"#ed7953\"], [0.7777777777777778, \"#fb9f3a\"], [0.8888888888888888, \"#fdca26\"], [1.0, \"#f0f921\"]], \"type\": \"surface\"}], \"table\": [{\"cells\": {\"fill\": {\"color\": \"#EBF0F8\"}, \"line\": {\"color\": \"white\"}}, \"header\": {\"fill\": {\"color\": \"#C8D4E3\"}, \"line\": {\"color\": \"white\"}}, \"type\": \"table\"}]}, \"layout\": {\"annotationdefaults\": {\"arrowcolor\": \"#2a3f5f\", \"arrowhead\": 0, \"arrowwidth\": 1}, \"coloraxis\": {\"colorbar\": {\"outlinewidth\": 0, \"ticks\": \"\"}}, \"colorscale\": {\"diverging\": [[0, \"#8e0152\"], [0.1, \"#c51b7d\"], [0.2, \"#de77ae\"], [0.3, \"#f1b6da\"], [0.4, \"#fde0ef\"], [0.5, \"#f7f7f7\"], [0.6, \"#e6f5d0\"], [0.7, \"#b8e186\"], [0.8, \"#7fbc41\"], [0.9, \"#4d9221\"], [1, \"#276419\"]], \"sequential\": [[0.0, \"#0d0887\"], [0.1111111111111111, \"#46039f\"], [0.2222222222222222, \"#7201a8\"], [0.3333333333333333, \"#9c179e\"], [0.4444444444444444, \"#bd3786\"], [0.5555555555555556, \"#d8576b\"], [0.6666666666666666, \"#ed7953\"], [0.7777777777777778, \"#fb9f3a\"], [0.8888888888888888, \"#fdca26\"], [1.0, \"#f0f921\"]], \"sequentialminus\": [[0.0, \"#0d0887\"], [0.1111111111111111, \"#46039f\"], [0.2222222222222222, \"#7201a8\"], [0.3333333333333333, \"#9c179e\"], [0.4444444444444444, \"#bd3786\"], [0.5555555555555556, \"#d8576b\"], [0.6666666666666666, \"#ed7953\"], [0.7777777777777778, \"#fb9f3a\"], [0.8888888888888888, \"#fdca26\"], [1.0, \"#f0f921\"]]}, \"colorway\": [\"#636efa\", \"#EF553B\", \"#00cc96\", \"#ab63fa\", \"#FFA15A\", \"#19d3f3\", \"#FF6692\", \"#B6E880\", \"#FF97FF\", \"#FECB52\"], \"font\": {\"color\": \"#2a3f5f\"}, \"geo\": {\"bgcolor\": \"white\", \"lakecolor\": \"white\", \"landcolor\": \"#E5ECF6\", \"showlakes\": true, \"showland\": true, \"subunitcolor\": \"white\"}, \"hoverlabel\": {\"align\": \"left\"}, \"hovermode\": \"closest\", \"mapbox\": {\"style\": \"light\"}, \"paper_bgcolor\": \"white\", \"plot_bgcolor\": \"#E5ECF6\", \"polar\": {\"angularaxis\": {\"gridcolor\": \"white\", \"linecolor\": \"white\", \"ticks\": \"\"}, \"bgcolor\": \"#E5ECF6\", \"radialaxis\": {\"gridcolor\": \"white\", \"linecolor\": \"white\", \"ticks\": \"\"}}, \"scene\": {\"xaxis\": {\"backgroundcolor\": \"#E5ECF6\", \"gridcolor\": \"white\", \"gridwidth\": 2, \"linecolor\": \"white\", \"showbackground\": true, \"ticks\": \"\", \"zerolinecolor\": \"white\"}, \"yaxis\": {\"backgroundcolor\": \"#E5ECF6\", \"gridcolor\": \"white\", \"gridwidth\": 2, \"linecolor\": \"white\", \"showbackground\": true, \"ticks\": \"\", \"zerolinecolor\": \"white\"}, \"zaxis\": {\"backgroundcolor\": \"#E5ECF6\", \"gridcolor\": \"white\", \"gridwidth\": 2, \"linecolor\": \"white\", \"showbackground\": true, \"ticks\": \"\", \"zerolinecolor\": \"white\"}}, \"shapedefaults\": {\"line\": {\"color\": \"#2a3f5f\"}}, \"ternary\": {\"aaxis\": {\"gridcolor\": \"white\", \"linecolor\": \"white\", \"ticks\": \"\"}, \"baxis\": {\"gridcolor\": \"white\", \"linecolor\": \"white\", \"ticks\": \"\"}, \"bgcolor\": \"#E5ECF6\", \"caxis\": {\"gridcolor\": \"white\", \"linecolor\": \"white\", \"ticks\": \"\"}}, \"title\": {\"x\": 0.05}, \"xaxis\": {\"automargin\": true, \"gridcolor\": \"white\", \"linecolor\": \"white\", \"ticks\": \"\", \"title\": {\"standoff\": 15}, \"zerolinecolor\": \"white\", \"zerolinewidth\": 2}, \"yaxis\": {\"automargin\": true, \"gridcolor\": \"white\", \"linecolor\": \"white\", \"ticks\": \"\", \"title\": {\"standoff\": 15}, \"zerolinecolor\": \"white\", \"zerolinewidth\": 2}}}, \"title\": {\"text\": \"Confusion Matrix (GNB)\", \"x\": 0.5}, \"width\": 400, \"xaxis\": {\"constrain\": \"domain\", \"dtick\": 1, \"scaleanchor\": \"y\", \"tick0\": 0, \"tickmode\": \"linear\", \"title\": {\"text\": \"Prediction\"}}, \"yaxis\": {\"autorange\": \"reversed\", \"constrain\": \"domain\", \"dtick\": 1, \"tick0\": 0, \"tickmode\": \"linear\", \"title\": {\"text\": \"Truth\"}}},\n",
              "                        {\"responsive\": true}\n",
              "                    ).then(function(){\n",
              "                            \n",
              "var gd = document.getElementById('58bf3cd1-2bb2-44f3-92d2-e5ee0cbe7723');\n",
              "var x = new MutationObserver(function (mutations, observer) {{\n",
              "        var display = window.getComputedStyle(gd).display;\n",
              "        if (!display || display === 'none') {{\n",
              "            console.log([gd, 'removed!']);\n",
              "            Plotly.purge(gd);\n",
              "            observer.disconnect();\n",
              "        }}\n",
              "}});\n",
              "\n",
              "// Listen for the removal of the full notebook cells\n",
              "var notebookContainer = gd.closest('#notebook-container');\n",
              "if (notebookContainer) {{\n",
              "    x.observe(notebookContainer, {childList: true});\n",
              "}}\n",
              "\n",
              "// Listen for the clearing of the current output cell\n",
              "var outputEl = gd.closest('.output');\n",
              "if (outputEl) {{\n",
              "    x.observe(outputEl, {childList: true});\n",
              "}}\n",
              "\n",
              "                        })\n",
              "                };\n",
              "                \n",
              "            </script>\n",
              "        </div>\n",
              "</body>\n",
              "</html>"
            ]
          },
          "metadata": {}
        }
      ]
    },
    {
      "cell_type": "markdown",
      "source": [
        "## Nonlinear Algorithms\n",
        "\n",
        "#### Churn Prediction using ANN with tensorflow, keras"
      ],
      "metadata": {
        "id": "pF5wBErynB_v"
      }
    },
    {
      "cell_type": "code",
      "source": [
        "model_nn = Sequential()\n",
        "model_nn.add(Dense(10,input_shape=(30,),activation='relu'))\n",
        "model_nn.add(Dense(1, activation='sigmoid'))\n",
        "model_nn.summary()"
      ],
      "metadata": {
        "colab": {
          "base_uri": "https://localhost:8080/"
        },
        "id": "48eV6PCmm5BH",
        "outputId": "41d5f0e0-0916-4b80-d63b-988ed2404d02"
      },
      "execution_count": 36,
      "outputs": [
        {
          "output_type": "stream",
          "name": "stdout",
          "text": [
            "Model: \"sequential\"\n",
            "_________________________________________________________________\n",
            " Layer (type)                Output Shape              Param #   \n",
            "=================================================================\n",
            " dense (Dense)               (None, 10)                310       \n",
            "                                                                 \n",
            " dense_1 (Dense)             (None, 1)                 11        \n",
            "                                                                 \n",
            "=================================================================\n",
            "Total params: 321\n",
            "Trainable params: 321\n",
            "Non-trainable params: 0\n",
            "_________________________________________________________________\n"
          ]
        }
      ]
    },
    {
      "cell_type": "code",
      "source": [
        "model_nn.compile(optimizer='adam',metrics=['accuracy'],loss='binary_crossentropy')\n",
        "\n",
        "history_nn = model_nn.fit(train_X_re,train_y_re,\n",
        "                          validation_split=0.2,\n",
        "                          epochs=10,\n",
        "                          verbose=0\n",
        "                         )"
      ],
      "metadata": {
        "id": "ArBQfVuknIvs"
      },
      "execution_count": 37,
      "outputs": []
    },
    {
      "cell_type": "code",
      "source": [
        "def plot_metrics(history):\n",
        "    metrics = ['loss', 'accuracy']\n",
        "    plt.figure(figsize=(12,3))\n",
        "    for n, metric in enumerate(metrics):\n",
        "        name = metric.replace(\"_\",\" \").capitalize()\n",
        "        plt.subplot(1,2,n+1)\n",
        "        plt.plot(history.epoch, history.history[metric], color='red', label='Train')\n",
        "        plt.plot(history.epoch, history.history['val_'+metric],\n",
        "                 color='green', linestyle=\"--\", label='Val')\n",
        "        plt.xlabel('Epoch')\n",
        "        plt.ylabel(name)\n",
        "        plt.legend()\n",
        "\n",
        "\n",
        "plot_metrics(history_nn)"
      ],
      "metadata": {
        "colab": {
          "base_uri": "https://localhost:8080/",
          "height": 229
        },
        "id": "v76xraP3muxw",
        "outputId": "4d7fd913-402e-44fa-cf7f-ea47713d15da"
      },
      "execution_count": 38,
      "outputs": [
        {
          "output_type": "display_data",
          "data": {
            "image/png": "[encoded data removed]",
            "text/plain": [
              "<Figure size 864x216 with 2 Axes>"
            ]
          },
          "metadata": {
            "needs_background": "light"
          }
        }
      ]
    },
    {
      "cell_type": "code",
      "source": [
        "model_nn.evaluate(test_X,test_y)"
      ],
      "metadata": {
        "colab": {
          "base_uri": "https://localhost:8080/"
        },
        "id": "5E887wr9nZWY",
        "outputId": "f27fd6df-658c-482c-c790-083be075e3a2"
      },
      "execution_count": 39,
      "outputs": [
        {
          "output_type": "stream",
          "name": "stdout",
          "text": [
            "44/44 [==============================] - 0s 2ms/step - loss: 0.4229 - accuracy: 0.7889\n"
          ]
        },
        {
          "output_type": "execute_result",
          "data": {
            "text/plain": [
              "[0.4228900969028473, 0.7889125943183899]"
            ]
          },
          "metadata": {},
          "execution_count": 39
        }
      ]
    },
    {
      "cell_type": "code",
      "source": [
        "cm_nn,cr_nn,auc_score_nn,_  = test_eval(model_nn,test_X,test_y)\n",
        "fpr_nn, tpr_nn, thresh_nn = roc_curve(test_y, model_nn.predict(test_X), pos_label = 1)\n",
        "precision_nn, recall_nn, _ = precision_recall_curve(test_y, model_nn.predict(test_X))"
      ],
      "metadata": {
        "colab": {
          "base_uri": "https://localhost:8080/"
        },
        "id": "t-XG8IW6nce6",
        "outputId": "b61c202a-cf9f-46a2-ac6c-84549bdc0c18"
      },
      "execution_count": 40,
      "outputs": [
        {
          "output_type": "stream",
          "name": "stdout",
          "text": [
            "Confusion Matrix\n",
            "====================\n",
            "[[869 164]\n",
            " [133 241]] \n",
            "\n",
            "Classification Report\n",
            "====================\n",
            "              precision    recall  f1-score   support\n",
            "\n",
            "           0       0.87      0.84      0.85      1033\n",
            "           1       0.60      0.64      0.62       374\n",
            "\n",
            "    accuracy                           0.79      1407\n",
            "   macro avg       0.73      0.74      0.74      1407\n",
            "weighted avg       0.79      0.79      0.79      1407\n",
            "\n"
          ]
        }
      ]
    },
    {
      "cell_type": "code",
      "source": [
        "plot_cmatrix(cm_nn, name = 'NN')"
      ],
      "metadata": {
        "colab": {
          "base_uri": "https://localhost:8080/",
          "height": 417
        },
        "id": "1aA2tK48ncim",
        "outputId": "ca61a581-f7d0-4c63-a3a7-e3a7b40438b5"
      },
      "execution_count": 41,
      "outputs": [
        {
          "output_type": "display_data",
          "data": {
            "text/html": [
              "<html>\n",
              "<head><meta charset=\"utf-8\" /></head>\n",
              "<body>\n",
              "    <div>\n",
              "            <script src=\"https://cdnjs.cloudflare.com/ajax/libs/mathjax/2.7.5/MathJax.js?config=TeX-AMS-MML_SVG\"></script><script type=\"text/javascript\">if (window.MathJax) {MathJax.Hub.Config({SVG: {font: \"STIX-Web\"}});}</script>\n",
              "                <script type=\"text/javascript\">window.PlotlyConfig = {MathJaxConfig: 'local'};</script>\n",
              "        <script src=\"https://cdn.plot.ly/plotly-latest.min.js\"></script>    \n",
              "            <div id=\"ef536dcc-a4ea-400a-a454-1bccdb49f4a5\" class=\"plotly-graph-div\" style=\"height:400px; width:400px;\"></div>\n",
              "            <script type=\"text/javascript\">\n",
              "                \n",
              "                    window.PLOTLYENV=window.PLOTLYENV || {};\n",
              "                    \n",
              "                if (document.getElementById(\"ef536dcc-a4ea-400a-a454-1bccdb49f4a5\")) {\n",
              "                    Plotly.newPlot(\n",
              "                        'ef536dcc-a4ea-400a-a454-1bccdb49f4a5',\n",
              "                        [{\"coloraxis\": \"coloraxis\", \"type\": \"heatmap\", \"z\": [[869, 164], [133, 241]]}],\n",
              "                        {\"annotations\": [{\"font\": {\"color\": \"black\", \"size\": 12}, \"showarrow\": false, \"text\": \"869\", \"x\": 0, \"y\": 0}, {\"font\": {\"color\": \"black\", \"size\": 12}, \"showarrow\": false, \"text\": \"164\", \"x\": 1, \"y\": 0}, {\"font\": {\"color\": \"black\", \"size\": 12}, \"showarrow\": false, \"text\": \"133\", \"x\": 0, \"y\": 1}, {\"font\": {\"color\": \"black\", \"size\": 12}, \"showarrow\": false, \"text\": \"241\", \"x\": 1, \"y\": 1}], \"coloraxis\": {\"colorscale\": [[0.0, \"peachpuff\"], [0.5, \"lime\"], [1.0, \"green\"]]}, \"height\": 400, \"margin\": {\"t\": 60}, \"template\": {\"data\": {\"bar\": [{\"error_x\": {\"color\": \"#2a3f5f\"}, \"error_y\": {\"color\": \"#2a3f5f\"}, \"marker\": {\"line\": {\"color\": \"#E5ECF6\", \"width\": 0.5}}, \"type\": \"bar\"}], \"barpolar\": [{\"marker\": {\"line\": {\"color\": \"#E5ECF6\", \"width\": 0.5}}, \"type\": \"barpolar\"}], \"carpet\": [{\"aaxis\": {\"endlinecolor\": \"#2a3f5f\", \"gridcolor\": \"white\", \"linecolor\": \"white\", \"minorgridcolor\": \"white\", \"startlinecolor\": \"#2a3f5f\"}, \"baxis\": {\"endlinecolor\": \"#2a3f5f\", \"gridcolor\": \"white\", \"linecolor\": \"white\", \"minorgridcolor\": \"white\", \"startlinecolor\": \"#2a3f5f\"}, \"type\": \"carpet\"}], \"choropleth\": [{\"colorbar\": {\"outlinewidth\": 0, \"ticks\": \"\"}, \"type\": \"choropleth\"}], \"contour\": [{\"colorbar\": {\"outlinewidth\": 0, \"ticks\": \"\"}, \"colorscale\": [[0.0, \"#0d0887\"], [0.1111111111111111, \"#46039f\"], [0.2222222222222222, \"#7201a8\"], [0.3333333333333333, \"#9c179e\"], [0.4444444444444444, \"#bd3786\"], [0.5555555555555556, \"#d8576b\"], [0.6666666666666666, \"#ed7953\"], [0.7777777777777778, \"#fb9f3a\"], [0.8888888888888888, \"#fdca26\"], [1.0, \"#f0f921\"]], \"type\": \"contour\"}], \"contourcarpet\": [{\"colorbar\": {\"outlinewidth\": 0, \"ticks\": \"\"}, \"type\": \"contourcarpet\"}], \"heatmap\": [{\"colorbar\": {\"outlinewidth\": 0, \"ticks\": \"\"}, \"colorscale\": [[0.0, \"#0d0887\"], [0.1111111111111111, \"#46039f\"], [0.2222222222222222, \"#7201a8\"], [0.3333333333333333, \"#9c179e\"], [0.4444444444444444, \"#bd3786\"], [0.5555555555555556, \"#d8576b\"], [0.6666666666666666, \"#ed7953\"], [0.7777777777777778, \"#fb9f3a\"], [0.8888888888888888, \"#fdca26\"], [1.0, \"#f0f921\"]], \"type\": \"heatmap\"}], \"heatmapgl\": [{\"colorbar\": {\"outlinewidth\": 0, \"ticks\": \"\"}, \"colorscale\": [[0.0, \"#0d0887\"], [0.1111111111111111, \"#46039f\"], [0.2222222222222222, \"#7201a8\"], [0.3333333333333333, \"#9c179e\"], [0.4444444444444444, \"#bd3786\"], [0.5555555555555556, \"#d8576b\"], [0.6666666666666666, \"#ed7953\"], [0.7777777777777778, \"#fb9f3a\"], [0.8888888888888888, \"#fdca26\"], [1.0, \"#f0f921\"]], \"type\": \"heatmapgl\"}], \"histogram\": [{\"marker\": {\"colorbar\": {\"outlinewidth\": 0, \"ticks\": \"\"}}, \"type\": \"histogram\"}], \"histogram2d\": [{\"colorbar\": {\"outlinewidth\": 0, \"ticks\": \"\"}, \"colorscale\": [[0.0, \"#0d0887\"], [0.1111111111111111, \"#46039f\"], [0.2222222222222222, \"#7201a8\"], [0.3333333333333333, \"#9c179e\"], [0.4444444444444444, \"#bd3786\"], [0.5555555555555556, \"#d8576b\"], [0.6666666666666666, \"#ed7953\"], [0.7777777777777778, \"#fb9f3a\"], [0.8888888888888888, \"#fdca26\"], [1.0, \"#f0f921\"]], \"type\": \"histogram2d\"}], \"histogram2dcontour\": [{\"colorbar\": {\"outlinewidth\": 0, \"ticks\": \"\"}, \"colorscale\": [[0.0, \"#0d0887\"], [0.1111111111111111, \"#46039f\"], [0.2222222222222222, \"#7201a8\"], [0.3333333333333333, \"#9c179e\"], [0.4444444444444444, \"#bd3786\"], [0.5555555555555556, \"#d8576b\"], [0.6666666666666666, \"#ed7953\"], [0.7777777777777778, \"#fb9f3a\"], [0.8888888888888888, \"#fdca26\"], [1.0, \"#f0f921\"]], \"type\": \"histogram2dcontour\"}], \"mesh3d\": [{\"colorbar\": {\"outlinewidth\": 0, \"ticks\": \"\"}, \"type\": \"mesh3d\"}], \"parcoords\": [{\"line\": {\"colorbar\": {\"outlinewidth\": 0, \"ticks\": \"\"}}, \"type\": \"parcoords\"}], \"pie\": [{\"automargin\": true, \"type\": \"pie\"}], \"scatter\": [{\"marker\": {\"colorbar\": {\"outlinewidth\": 0, \"ticks\": \"\"}}, \"type\": \"scatter\"}], \"scatter3d\": [{\"line\": {\"colorbar\": {\"outlinewidth\": 0, \"ticks\": \"\"}}, \"marker\": {\"colorbar\": {\"outlinewidth\": 0, \"ticks\": \"\"}}, \"type\": \"scatter3d\"}], \"scattercarpet\": [{\"marker\": {\"colorbar\": {\"outlinewidth\": 0, \"ticks\": \"\"}}, \"type\": \"scattercarpet\"}], \"scattergeo\": [{\"marker\": {\"colorbar\": {\"outlinewidth\": 0, \"ticks\": \"\"}}, \"type\": \"scattergeo\"}], \"scattergl\": [{\"marker\": {\"colorbar\": {\"outlinewidth\": 0, \"ticks\": \"\"}}, \"type\": \"scattergl\"}], \"scattermapbox\": [{\"marker\": {\"colorbar\": {\"outlinewidth\": 0, \"ticks\": \"\"}}, \"type\": \"scattermapbox\"}], \"scatterpolar\": [{\"marker\": {\"colorbar\": {\"outlinewidth\": 0, \"ticks\": \"\"}}, \"type\": \"scatterpolar\"}], \"scatterpolargl\": [{\"marker\": {\"colorbar\": {\"outlinewidth\": 0, \"ticks\": \"\"}}, \"type\": \"scatterpolargl\"}], \"scatterternary\": [{\"marker\": {\"colorbar\": {\"outlinewidth\": 0, \"ticks\": \"\"}}, \"type\": \"scatterternary\"}], \"surface\": [{\"colorbar\": {\"outlinewidth\": 0, \"ticks\": \"\"}, \"colorscale\": [[0.0, \"#0d0887\"], [0.1111111111111111, \"#46039f\"], [0.2222222222222222, \"#7201a8\"], [0.3333333333333333, \"#9c179e\"], [0.4444444444444444, \"#bd3786\"], [0.5555555555555556, \"#d8576b\"], [0.6666666666666666, \"#ed7953\"], [0.7777777777777778, \"#fb9f3a\"], [0.8888888888888888, \"#fdca26\"], [1.0, \"#f0f921\"]], \"type\": \"surface\"}], \"table\": [{\"cells\": {\"fill\": {\"color\": \"#EBF0F8\"}, \"line\": {\"color\": \"white\"}}, \"header\": {\"fill\": {\"color\": \"#C8D4E3\"}, \"line\": {\"color\": \"white\"}}, \"type\": \"table\"}]}, \"layout\": {\"annotationdefaults\": {\"arrowcolor\": \"#2a3f5f\", \"arrowhead\": 0, \"arrowwidth\": 1}, \"coloraxis\": {\"colorbar\": {\"outlinewidth\": 0, \"ticks\": \"\"}}, \"colorscale\": {\"diverging\": [[0, \"#8e0152\"], [0.1, \"#c51b7d\"], [0.2, \"#de77ae\"], [0.3, \"#f1b6da\"], [0.4, \"#fde0ef\"], [0.5, \"#f7f7f7\"], [0.6, \"#e6f5d0\"], [0.7, \"#b8e186\"], [0.8, \"#7fbc41\"], [0.9, \"#4d9221\"], [1, \"#276419\"]], \"sequential\": [[0.0, \"#0d0887\"], [0.1111111111111111, \"#46039f\"], [0.2222222222222222, \"#7201a8\"], [0.3333333333333333, \"#9c179e\"], [0.4444444444444444, \"#bd3786\"], [0.5555555555555556, \"#d8576b\"], [0.6666666666666666, \"#ed7953\"], [0.7777777777777778, \"#fb9f3a\"], [0.8888888888888888, \"#fdca26\"], [1.0, \"#f0f921\"]], \"sequentialminus\": [[0.0, \"#0d0887\"], [0.1111111111111111, \"#46039f\"], [0.2222222222222222, \"#7201a8\"], [0.3333333333333333, \"#9c179e\"], [0.4444444444444444, \"#bd3786\"], [0.5555555555555556, \"#d8576b\"], [0.6666666666666666, \"#ed7953\"], [0.7777777777777778, \"#fb9f3a\"], [0.8888888888888888, \"#fdca26\"], [1.0, \"#f0f921\"]]}, \"colorway\": [\"#636efa\", \"#EF553B\", \"#00cc96\", \"#ab63fa\", \"#FFA15A\", \"#19d3f3\", \"#FF6692\", \"#B6E880\", \"#FF97FF\", \"#FECB52\"], \"font\": {\"color\": \"#2a3f5f\"}, \"geo\": {\"bgcolor\": \"white\", \"lakecolor\": \"white\", \"landcolor\": \"#E5ECF6\", \"showlakes\": true, \"showland\": true, \"subunitcolor\": \"white\"}, \"hoverlabel\": {\"align\": \"left\"}, \"hovermode\": \"closest\", \"mapbox\": {\"style\": \"light\"}, \"paper_bgcolor\": \"white\", \"plot_bgcolor\": \"#E5ECF6\", \"polar\": {\"angularaxis\": {\"gridcolor\": \"white\", \"linecolor\": \"white\", \"ticks\": \"\"}, \"bgcolor\": \"#E5ECF6\", \"radialaxis\": {\"gridcolor\": \"white\", \"linecolor\": \"white\", \"ticks\": \"\"}}, \"scene\": {\"xaxis\": {\"backgroundcolor\": \"#E5ECF6\", \"gridcolor\": \"white\", \"gridwidth\": 2, \"linecolor\": \"white\", \"showbackground\": true, \"ticks\": \"\", \"zerolinecolor\": \"white\"}, \"yaxis\": {\"backgroundcolor\": \"#E5ECF6\", \"gridcolor\": \"white\", \"gridwidth\": 2, \"linecolor\": \"white\", \"showbackground\": true, \"ticks\": \"\", \"zerolinecolor\": \"white\"}, \"zaxis\": {\"backgroundcolor\": \"#E5ECF6\", \"gridcolor\": \"white\", \"gridwidth\": 2, \"linecolor\": \"white\", \"showbackground\": true, \"ticks\": \"\", \"zerolinecolor\": \"white\"}}, \"shapedefaults\": {\"line\": {\"color\": \"#2a3f5f\"}}, \"ternary\": {\"aaxis\": {\"gridcolor\": \"white\", \"linecolor\": \"white\", \"ticks\": \"\"}, \"baxis\": {\"gridcolor\": \"white\", \"linecolor\": \"white\", \"ticks\": \"\"}, \"bgcolor\": \"#E5ECF6\", \"caxis\": {\"gridcolor\": \"white\", \"linecolor\": \"white\", \"ticks\": \"\"}}, \"title\": {\"x\": 0.05}, \"xaxis\": {\"automargin\": true, \"gridcolor\": \"white\", \"linecolor\": \"white\", \"ticks\": \"\", \"title\": {\"standoff\": 15}, \"zerolinecolor\": \"white\", \"zerolinewidth\": 2}, \"yaxis\": {\"automargin\": true, \"gridcolor\": \"white\", \"linecolor\": \"white\", \"ticks\": \"\", \"title\": {\"standoff\": 15}, \"zerolinecolor\": \"white\", \"zerolinewidth\": 2}}}, \"title\": {\"text\": \"Confusion Matrix (NN)\", \"x\": 0.5}, \"width\": 400, \"xaxis\": {\"constrain\": \"domain\", \"dtick\": 1, \"scaleanchor\": \"y\", \"tick0\": 0, \"tickmode\": \"linear\", \"title\": {\"text\": \"Prediction\"}}, \"yaxis\": {\"autorange\": \"reversed\", \"constrain\": \"domain\", \"dtick\": 1, \"tick0\": 0, \"tickmode\": \"linear\", \"title\": {\"text\": \"Truth\"}}},\n",
              "                        {\"responsive\": true}\n",
              "                    ).then(function(){\n",
              "                            \n",
              "var gd = document.getElementById('ef536dcc-a4ea-400a-a454-1bccdb49f4a5');\n",
              "var x = new MutationObserver(function (mutations, observer) {{\n",
              "        var display = window.getComputedStyle(gd).display;\n",
              "        if (!display || display === 'none') {{\n",
              "            console.log([gd, 'removed!']);\n",
              "            Plotly.purge(gd);\n",
              "            observer.disconnect();\n",
              "        }}\n",
              "}});\n",
              "\n",
              "// Listen for the removal of the full notebook cells\n",
              "var notebookContainer = gd.closest('#notebook-container');\n",
              "if (notebookContainer) {{\n",
              "    x.observe(notebookContainer, {childList: true});\n",
              "}}\n",
              "\n",
              "// Listen for the clearing of the current output cell\n",
              "var outputEl = gd.closest('.output');\n",
              "if (outputEl) {{\n",
              "    x.observe(outputEl, {childList: true});\n",
              "}}\n",
              "\n",
              "                        })\n",
              "                };\n",
              "                \n",
              "            </script>\n",
              "        </div>\n",
              "</body>\n",
              "</html>"
            ]
          },
          "metadata": {}
        }
      ]
    },
    {
      "cell_type": "markdown",
      "source": [
        "### Churn Prediction using SVC"
      ],
      "metadata": {
        "id": "lPbLgbIAnkvw"
      }
    },
    {
      "cell_type": "code",
      "source": [
        "# SVC probability para has to set True for predict_proba function\n",
        "para_svc = {'C':[1,10,20], \"probability\":[True]}\n",
        "\n",
        "model_svc = GridSearchCV(estimator = SVC(),\n",
        "                    param_grid = para_svc,\n",
        "                    cv=10,\n",
        "                    verbose=0,\n",
        "                    n_jobs=-1\n",
        "                   )\n",
        "model_svc.fit(train_X_re,train_y_re)"
      ],
      "metadata": {
        "colab": {
          "base_uri": "https://localhost:8080/"
        },
        "id": "yPSDuB99nZaO",
        "outputId": "8f1901d7-a543-4d22-b73a-083788416628"
      },
      "execution_count": 42,
      "outputs": [
        {
          "output_type": "execute_result",
          "data": {
            "text/plain": [
              "GridSearchCV(cv=10, estimator=SVC(), n_jobs=-1,\n",
              "             param_grid={'C': [1, 10, 20], 'probability': [True]})"
            ]
          },
          "metadata": {},
          "execution_count": 42
        }
      ]
    },
    {
      "cell_type": "code",
      "source": [
        "model_svc.best_params_"
      ],
      "metadata": {
        "colab": {
          "base_uri": "https://localhost:8080/"
        },
        "id": "442s4P-AnqMO",
        "outputId": "e1c7b822-ce23-43fc-8c79-cf8b6df0f48f"
      },
      "execution_count": 43,
      "outputs": [
        {
          "output_type": "execute_result",
          "data": {
            "text/plain": [
              "{'C': 20, 'probability': True}"
            ]
          },
          "metadata": {},
          "execution_count": 43
        }
      ]
    },
    {
      "cell_type": "code",
      "source": [
        "cm_svc,cr_svc,auc_score_svc,_  = test_eval(model_svc,test_X,test_y)\n",
        "fpr_svc, tpr_svc, thresh_svc = roc_curve(test_y, model_svc.predict_proba(test_X)[:,1], pos_label = 1)\n",
        "precision_svc, recall_svc, _ = precision_recall_curve(test_y, model_svc.predict_proba(test_X)[:,1], pos_label=1)"
      ],
      "metadata": {
        "colab": {
          "base_uri": "https://localhost:8080/"
        },
        "id": "gWoaA761nZdK",
        "outputId": "34882713-6da9-4de8-e444-86b72888c596"
      },
      "execution_count": 44,
      "outputs": [
        {
          "output_type": "stream",
          "name": "stdout",
          "text": [
            "Confusion Matrix\n",
            "====================\n",
            "[[786 247]\n",
            " [120 254]] \n",
            "\n",
            "Classification Report\n",
            "====================\n",
            "              precision    recall  f1-score   support\n",
            "\n",
            "           0       0.87      0.76      0.81      1033\n",
            "           1       0.51      0.68      0.58       374\n",
            "\n",
            "    accuracy                           0.74      1407\n",
            "   macro avg       0.69      0.72      0.70      1407\n",
            "weighted avg       0.77      0.74      0.75      1407\n",
            "\n"
          ]
        }
      ]
    },
    {
      "cell_type": "code",
      "source": [
        "plot_cmatrix(cm_svc, name='SVC')"
      ],
      "metadata": {
        "colab": {
          "base_uri": "https://localhost:8080/",
          "height": 417
        },
        "id": "4_ukYLHrnzY6",
        "outputId": "69cce797-d44e-44ab-d75d-129a55d9057d"
      },
      "execution_count": 45,
      "outputs": [
        {
          "output_type": "display_data",
          "data": {
            "text/html": [
              "<html>\n",
              "<head><meta charset=\"utf-8\" /></head>\n",
              "<body>\n",
              "    <div>\n",
              "            <script src=\"https://cdnjs.cloudflare.com/ajax/libs/mathjax/2.7.5/MathJax.js?config=TeX-AMS-MML_SVG\"></script><script type=\"text/javascript\">if (window.MathJax) {MathJax.Hub.Config({SVG: {font: \"STIX-Web\"}});}</script>\n",
              "                <script type=\"text/javascript\">window.PlotlyConfig = {MathJaxConfig: 'local'};</script>\n",
              "        <script src=\"https://cdn.plot.ly/plotly-latest.min.js\"></script>    \n",
              "            <div id=\"e77df793-df6b-4db7-8c63-18ef5edc9a50\" class=\"plotly-graph-div\" style=\"height:400px; width:400px;\"></div>\n",
              "            <script type=\"text/javascript\">\n",
              "                \n",
              "                    window.PLOTLYENV=window.PLOTLYENV || {};\n",
              "                    \n",
              "                if (document.getElementById(\"e77df793-df6b-4db7-8c63-18ef5edc9a50\")) {\n",
              "                    Plotly.newPlot(\n",
              "                        'e77df793-df6b-4db7-8c63-18ef5edc9a50',\n",
              "                        [{\"coloraxis\": \"coloraxis\", \"type\": \"heatmap\", \"z\": [[786, 247], [120, 254]]}],\n",
              "                        {\"annotations\": [{\"font\": {\"color\": \"black\", \"size\": 12}, \"showarrow\": false, \"text\": \"786\", \"x\": 0, \"y\": 0}, {\"font\": {\"color\": \"black\", \"size\": 12}, \"showarrow\": false, \"text\": \"247\", \"x\": 1, \"y\": 0}, {\"font\": {\"color\": \"black\", \"size\": 12}, \"showarrow\": false, \"text\": \"120\", \"x\": 0, \"y\": 1}, {\"font\": {\"color\": \"black\", \"size\": 12}, \"showarrow\": false, \"text\": \"254\", \"x\": 1, \"y\": 1}], \"coloraxis\": {\"colorscale\": [[0.0, \"peachpuff\"], [0.5, \"lime\"], [1.0, \"green\"]]}, \"height\": 400, \"margin\": {\"t\": 60}, \"template\": {\"data\": {\"bar\": [{\"error_x\": {\"color\": \"#2a3f5f\"}, \"error_y\": {\"color\": \"#2a3f5f\"}, \"marker\": {\"line\": {\"color\": \"#E5ECF6\", \"width\": 0.5}}, \"type\": \"bar\"}], \"barpolar\": [{\"marker\": {\"line\": {\"color\": \"#E5ECF6\", \"width\": 0.5}}, \"type\": \"barpolar\"}], \"carpet\": [{\"aaxis\": {\"endlinecolor\": \"#2a3f5f\", \"gridcolor\": \"white\", \"linecolor\": \"white\", \"minorgridcolor\": \"white\", \"startlinecolor\": \"#2a3f5f\"}, \"baxis\": {\"endlinecolor\": \"#2a3f5f\", \"gridcolor\": \"white\", \"linecolor\": \"white\", \"minorgridcolor\": \"white\", \"startlinecolor\": \"#2a3f5f\"}, \"type\": \"carpet\"}], \"choropleth\": [{\"colorbar\": {\"outlinewidth\": 0, \"ticks\": \"\"}, \"type\": \"choropleth\"}], \"contour\": [{\"colorbar\": {\"outlinewidth\": 0, \"ticks\": \"\"}, \"colorscale\": [[0.0, \"#0d0887\"], [0.1111111111111111, \"#46039f\"], [0.2222222222222222, \"#7201a8\"], [0.3333333333333333, \"#9c179e\"], [0.4444444444444444, \"#bd3786\"], [0.5555555555555556, \"#d8576b\"], [0.6666666666666666, \"#ed7953\"], [0.7777777777777778, \"#fb9f3a\"], [0.8888888888888888, \"#fdca26\"], [1.0, \"#f0f921\"]], \"type\": \"contour\"}], \"contourcarpet\": [{\"colorbar\": {\"outlinewidth\": 0, \"ticks\": \"\"}, \"type\": \"contourcarpet\"}], \"heatmap\": [{\"colorbar\": {\"outlinewidth\": 0, \"ticks\": \"\"}, \"colorscale\": [[0.0, \"#0d0887\"], [0.1111111111111111, \"#46039f\"], [0.2222222222222222, \"#7201a8\"], [0.3333333333333333, \"#9c179e\"], [0.4444444444444444, \"#bd3786\"], [0.5555555555555556, \"#d8576b\"], [0.6666666666666666, \"#ed7953\"], [0.7777777777777778, \"#fb9f3a\"], [0.8888888888888888, \"#fdca26\"], [1.0, \"#f0f921\"]], \"type\": \"heatmap\"}], \"heatmapgl\": [{\"colorbar\": {\"outlinewidth\": 0, \"ticks\": \"\"}, \"colorscale\": [[0.0, \"#0d0887\"], [0.1111111111111111, \"#46039f\"], [0.2222222222222222, \"#7201a8\"], [0.3333333333333333, \"#9c179e\"], [0.4444444444444444, \"#bd3786\"], [0.5555555555555556, \"#d8576b\"], [0.6666666666666666, \"#ed7953\"], [0.7777777777777778, \"#fb9f3a\"], [0.8888888888888888, \"#fdca26\"], [1.0, \"#f0f921\"]], \"type\": \"heatmapgl\"}], \"histogram\": [{\"marker\": {\"colorbar\": {\"outlinewidth\": 0, \"ticks\": \"\"}}, \"type\": \"histogram\"}], \"histogram2d\": [{\"colorbar\": {\"outlinewidth\": 0, \"ticks\": \"\"}, \"colorscale\": [[0.0, \"#0d0887\"], [0.1111111111111111, \"#46039f\"], [0.2222222222222222, \"#7201a8\"], [0.3333333333333333, \"#9c179e\"], [0.4444444444444444, \"#bd3786\"], [0.5555555555555556, \"#d8576b\"], [0.6666666666666666, \"#ed7953\"], [0.7777777777777778, \"#fb9f3a\"], [0.8888888888888888, \"#fdca26\"], [1.0, \"#f0f921\"]], \"type\": \"histogram2d\"}], \"histogram2dcontour\": [{\"colorbar\": {\"outlinewidth\": 0, \"ticks\": \"\"}, \"colorscale\": [[0.0, \"#0d0887\"], [0.1111111111111111, \"#46039f\"], [0.2222222222222222, \"#7201a8\"], [0.3333333333333333, \"#9c179e\"], [0.4444444444444444, \"#bd3786\"], [0.5555555555555556, \"#d8576b\"], [0.6666666666666666, \"#ed7953\"], [0.7777777777777778, \"#fb9f3a\"], [0.8888888888888888, \"#fdca26\"], [1.0, \"#f0f921\"]], \"type\": \"histogram2dcontour\"}], \"mesh3d\": [{\"colorbar\": {\"outlinewidth\": 0, \"ticks\": \"\"}, \"type\": \"mesh3d\"}], \"parcoords\": [{\"line\": {\"colorbar\": {\"outlinewidth\": 0, \"ticks\": \"\"}}, \"type\": \"parcoords\"}], \"pie\": [{\"automargin\": true, \"type\": \"pie\"}], \"scatter\": [{\"marker\": {\"colorbar\": {\"outlinewidth\": 0, \"ticks\": \"\"}}, \"type\": \"scatter\"}], \"scatter3d\": [{\"line\": {\"colorbar\": {\"outlinewidth\": 0, \"ticks\": \"\"}}, \"marker\": {\"colorbar\": {\"outlinewidth\": 0, \"ticks\": \"\"}}, \"type\": \"scatter3d\"}], \"scattercarpet\": [{\"marker\": {\"colorbar\": {\"outlinewidth\": 0, \"ticks\": \"\"}}, \"type\": \"scattercarpet\"}], \"scattergeo\": [{\"marker\": {\"colorbar\": {\"outlinewidth\": 0, \"ticks\": \"\"}}, \"type\": \"scattergeo\"}], \"scattergl\": [{\"marker\": {\"colorbar\": {\"outlinewidth\": 0, \"ticks\": \"\"}}, \"type\": \"scattergl\"}], \"scattermapbox\": [{\"marker\": {\"colorbar\": {\"outlinewidth\": 0, \"ticks\": \"\"}}, \"type\": \"scattermapbox\"}], \"scatterpolar\": [{\"marker\": {\"colorbar\": {\"outlinewidth\": 0, \"ticks\": \"\"}}, \"type\": \"scatterpolar\"}], \"scatterpolargl\": [{\"marker\": {\"colorbar\": {\"outlinewidth\": 0, \"ticks\": \"\"}}, \"type\": \"scatterpolargl\"}], \"scatterternary\": [{\"marker\": {\"colorbar\": {\"outlinewidth\": 0, \"ticks\": \"\"}}, \"type\": \"scatterternary\"}], \"surface\": [{\"colorbar\": {\"outlinewidth\": 0, \"ticks\": \"\"}, \"colorscale\": [[0.0, \"#0d0887\"], [0.1111111111111111, \"#46039f\"], [0.2222222222222222, \"#7201a8\"], [0.3333333333333333, \"#9c179e\"], [0.4444444444444444, \"#bd3786\"], [0.5555555555555556, \"#d8576b\"], [0.6666666666666666, \"#ed7953\"], [0.7777777777777778, \"#fb9f3a\"], [0.8888888888888888, \"#fdca26\"], [1.0, \"#f0f921\"]], \"type\": \"surface\"}], \"table\": [{\"cells\": {\"fill\": {\"color\": \"#EBF0F8\"}, \"line\": {\"color\": \"white\"}}, \"header\": {\"fill\": {\"color\": \"#C8D4E3\"}, \"line\": {\"color\": \"white\"}}, \"type\": \"table\"}]}, \"layout\": {\"annotationdefaults\": {\"arrowcolor\": \"#2a3f5f\", \"arrowhead\": 0, \"arrowwidth\": 1}, \"coloraxis\": {\"colorbar\": {\"outlinewidth\": 0, \"ticks\": \"\"}}, \"colorscale\": {\"diverging\": [[0, \"#8e0152\"], [0.1, \"#c51b7d\"], [0.2, \"#de77ae\"], [0.3, \"#f1b6da\"], [0.4, \"#fde0ef\"], [0.5, \"#f7f7f7\"], [0.6, \"#e6f5d0\"], [0.7, \"#b8e186\"], [0.8, \"#7fbc41\"], [0.9, \"#4d9221\"], [1, \"#276419\"]], \"sequential\": [[0.0, \"#0d0887\"], [0.1111111111111111, \"#46039f\"], [0.2222222222222222, \"#7201a8\"], [0.3333333333333333, \"#9c179e\"], [0.4444444444444444, \"#bd3786\"], [0.5555555555555556, \"#d8576b\"], [0.6666666666666666, \"#ed7953\"], [0.7777777777777778, \"#fb9f3a\"], [0.8888888888888888, \"#fdca26\"], [1.0, \"#f0f921\"]], \"sequentialminus\": [[0.0, \"#0d0887\"], [0.1111111111111111, \"#46039f\"], [0.2222222222222222, \"#7201a8\"], [0.3333333333333333, \"#9c179e\"], [0.4444444444444444, \"#bd3786\"], [0.5555555555555556, \"#d8576b\"], [0.6666666666666666, \"#ed7953\"], [0.7777777777777778, \"#fb9f3a\"], [0.8888888888888888, \"#fdca26\"], [1.0, \"#f0f921\"]]}, \"colorway\": [\"#636efa\", \"#EF553B\", \"#00cc96\", \"#ab63fa\", \"#FFA15A\", \"#19d3f3\", \"#FF6692\", \"#B6E880\", \"#FF97FF\", \"#FECB52\"], \"font\": {\"color\": \"#2a3f5f\"}, \"geo\": {\"bgcolor\": \"white\", \"lakecolor\": \"white\", \"landcolor\": \"#E5ECF6\", \"showlakes\": true, \"showland\": true, \"subunitcolor\": \"white\"}, \"hoverlabel\": {\"align\": \"left\"}, \"hovermode\": \"closest\", \"mapbox\": {\"style\": \"light\"}, \"paper_bgcolor\": \"white\", \"plot_bgcolor\": \"#E5ECF6\", \"polar\": {\"angularaxis\": {\"gridcolor\": \"white\", \"linecolor\": \"white\", \"ticks\": \"\"}, \"bgcolor\": \"#E5ECF6\", \"radialaxis\": {\"gridcolor\": \"white\", \"linecolor\": \"white\", \"ticks\": \"\"}}, \"scene\": {\"xaxis\": {\"backgroundcolor\": \"#E5ECF6\", \"gridcolor\": \"white\", \"gridwidth\": 2, \"linecolor\": \"white\", \"showbackground\": true, \"ticks\": \"\", \"zerolinecolor\": \"white\"}, \"yaxis\": {\"backgroundcolor\": \"#E5ECF6\", \"gridcolor\": \"white\", \"gridwidth\": 2, \"linecolor\": \"white\", \"showbackground\": true, \"ticks\": \"\", \"zerolinecolor\": \"white\"}, \"zaxis\": {\"backgroundcolor\": \"#E5ECF6\", \"gridcolor\": \"white\", \"gridwidth\": 2, \"linecolor\": \"white\", \"showbackground\": true, \"ticks\": \"\", \"zerolinecolor\": \"white\"}}, \"shapedefaults\": {\"line\": {\"color\": \"#2a3f5f\"}}, \"ternary\": {\"aaxis\": {\"gridcolor\": \"white\", \"linecolor\": \"white\", \"ticks\": \"\"}, \"baxis\": {\"gridcolor\": \"white\", \"linecolor\": \"white\", \"ticks\": \"\"}, \"bgcolor\": \"#E5ECF6\", \"caxis\": {\"gridcolor\": \"white\", \"linecolor\": \"white\", \"ticks\": \"\"}}, \"title\": {\"x\": 0.05}, \"xaxis\": {\"automargin\": true, \"gridcolor\": \"white\", \"linecolor\": \"white\", \"ticks\": \"\", \"title\": {\"standoff\": 15}, \"zerolinecolor\": \"white\", \"zerolinewidth\": 2}, \"yaxis\": {\"automargin\": true, \"gridcolor\": \"white\", \"linecolor\": \"white\", \"ticks\": \"\", \"title\": {\"standoff\": 15}, \"zerolinecolor\": \"white\", \"zerolinewidth\": 2}}}, \"title\": {\"text\": \"Confusion Matrix (SVC)\", \"x\": 0.5}, \"width\": 400, \"xaxis\": {\"constrain\": \"domain\", \"dtick\": 1, \"scaleanchor\": \"y\", \"tick0\": 0, \"tickmode\": \"linear\", \"title\": {\"text\": \"Prediction\"}}, \"yaxis\": {\"autorange\": \"reversed\", \"constrain\": \"domain\", \"dtick\": 1, \"tick0\": 0, \"tickmode\": \"linear\", \"title\": {\"text\": \"Truth\"}}},\n",
              "                        {\"responsive\": true}\n",
              "                    ).then(function(){\n",
              "                            \n",
              "var gd = document.getElementById('e77df793-df6b-4db7-8c63-18ef5edc9a50');\n",
              "var x = new MutationObserver(function (mutations, observer) {{\n",
              "        var display = window.getComputedStyle(gd).display;\n",
              "        if (!display || display === 'none') {{\n",
              "            console.log([gd, 'removed!']);\n",
              "            Plotly.purge(gd);\n",
              "            observer.disconnect();\n",
              "        }}\n",
              "}});\n",
              "\n",
              "// Listen for the removal of the full notebook cells\n",
              "var notebookContainer = gd.closest('#notebook-container');\n",
              "if (notebookContainer) {{\n",
              "    x.observe(notebookContainer, {childList: true});\n",
              "}}\n",
              "\n",
              "// Listen for the clearing of the current output cell\n",
              "var outputEl = gd.closest('.output');\n",
              "if (outputEl) {{\n",
              "    x.observe(outputEl, {childList: true});\n",
              "}}\n",
              "\n",
              "                        })\n",
              "                };\n",
              "                \n",
              "            </script>\n",
              "        </div>\n",
              "</body>\n",
              "</html>"
            ]
          },
          "metadata": {}
        }
      ]
    },
    {
      "cell_type": "markdown",
      "source": [
        "### Churn Prediction using KNN"
      ],
      "metadata": {
        "id": "KergaSANn6i0"
      }
    },
    {
      "cell_type": "code",
      "source": [
        "para_knn = {'n_neighbors':[7,11]}\n",
        "\n",
        "model_knn = GridSearchCV(estimator = KNeighborsClassifier(),\n",
        "                    param_grid = para_knn,\n",
        "                    cv=10,\n",
        "                    verbose=0,\n",
        "                    n_jobs=-1\n",
        "                   )\n",
        "\n",
        "model_knn.fit(train_X_re,train_y_re)"
      ],
      "metadata": {
        "colab": {
          "base_uri": "https://localhost:8080/"
        },
        "id": "TNB4OK64nzbU",
        "outputId": "29cee9a5-abd1-4fbc-89e7-9f4f59f3a489"
      },
      "execution_count": 46,
      "outputs": [
        {
          "output_type": "execute_result",
          "data": {
            "text/plain": [
              "GridSearchCV(cv=10, estimator=KNeighborsClassifier(), n_jobs=-1,\n",
              "             param_grid={'n_neighbors': [7, 11]})"
            ]
          },
          "metadata": {},
          "execution_count": 46
        }
      ]
    },
    {
      "cell_type": "code",
      "source": [
        "model_knn.best_params_"
      ],
      "metadata": {
        "colab": {
          "base_uri": "https://localhost:8080/"
        },
        "id": "QnbiAhMln_yL",
        "outputId": "48c089a3-0616-46d9-b223-bf4cddc1341e"
      },
      "execution_count": 47,
      "outputs": [
        {
          "output_type": "execute_result",
          "data": {
            "text/plain": [
              "{'n_neighbors': 7}"
            ]
          },
          "metadata": {},
          "execution_count": 47
        }
      ]
    },
    {
      "cell_type": "code",
      "source": [
        "cm_knn,cr_knn,auc_score_knn,_  = test_eval(model_knn,test_X,test_y)\n",
        "fpr_knn, tpr_knn, thresh_knn = roc_curve(test_y, model_knn.predict_proba(test_X)[:,1], pos_label = 1)\n",
        "precision_knn, recall_knn, _ = precision_recall_curve(test_y, model_knn.predict_proba(test_X)[:,1], pos_label=1)"
      ],
      "metadata": {
        "colab": {
          "base_uri": "https://localhost:8080/"
        },
        "id": "4IbXWDjnnzep",
        "outputId": "8deb88e4-14b5-4c10-e97d-7870aa56fb22"
      },
      "execution_count": 48,
      "outputs": [
        {
          "output_type": "stream",
          "name": "stdout",
          "text": [
            "Confusion Matrix\n",
            "====================\n",
            "[[714 319]\n",
            " [ 96 278]] \n",
            "\n",
            "Classification Report\n",
            "====================\n",
            "              precision    recall  f1-score   support\n",
            "\n",
            "           0       0.88      0.69      0.77      1033\n",
            "           1       0.47      0.74      0.57       374\n",
            "\n",
            "    accuracy                           0.71      1407\n",
            "   macro avg       0.67      0.72      0.67      1407\n",
            "weighted avg       0.77      0.71      0.72      1407\n",
            "\n"
          ]
        }
      ]
    },
    {
      "cell_type": "code",
      "source": [
        "plot_cmatrix(cm_knn, name='KNN')"
      ],
      "metadata": {
        "colab": {
          "base_uri": "https://localhost:8080/",
          "height": 417
        },
        "id": "NOy7Tpo3oF_8",
        "outputId": "e0a9d01d-e56e-4b6e-e864-75269856e4d3"
      },
      "execution_count": 49,
      "outputs": [
        {
          "output_type": "display_data",
          "data": {
            "text/html": [
              "<html>\n",
              "<head><meta charset=\"utf-8\" /></head>\n",
              "<body>\n",
              "    <div>\n",
              "            <script src=\"https://cdnjs.cloudflare.com/ajax/libs/mathjax/2.7.5/MathJax.js?config=TeX-AMS-MML_SVG\"></script><script type=\"text/javascript\">if (window.MathJax) {MathJax.Hub.Config({SVG: {font: \"STIX-Web\"}});}</script>\n",
              "                <script type=\"text/javascript\">window.PlotlyConfig = {MathJaxConfig: 'local'};</script>\n",
              "        <script src=\"https://cdn.plot.ly/plotly-latest.min.js\"></script>    \n",
              "            <div id=\"5264b46f-8b65-40fc-bf27-c8c1fadf5361\" class=\"plotly-graph-div\" style=\"height:400px; width:400px;\"></div>\n",
              "            <script type=\"text/javascript\">\n",
              "                \n",
              "                    window.PLOTLYENV=window.PLOTLYENV || {};\n",
              "                    \n",
              "                if (document.getElementById(\"5264b46f-8b65-40fc-bf27-c8c1fadf5361\")) {\n",
              "                    Plotly.newPlot(\n",
              "                        '5264b46f-8b65-40fc-bf27-c8c1fadf5361',\n",
              "                        [{\"coloraxis\": \"coloraxis\", \"type\": \"heatmap\", \"z\": [[714, 319], [96, 278]]}],\n",
              "                        {\"annotations\": [{\"font\": {\"color\": \"black\", \"size\": 12}, \"showarrow\": false, \"text\": \"714\", \"x\": 0, \"y\": 0}, {\"font\": {\"color\": \"black\", \"size\": 12}, \"showarrow\": false, \"text\": \"319\", \"x\": 1, \"y\": 0}, {\"font\": {\"color\": \"black\", \"size\": 12}, \"showarrow\": false, \"text\": \"96\", \"x\": 0, \"y\": 1}, {\"font\": {\"color\": \"black\", \"size\": 12}, \"showarrow\": false, \"text\": \"278\", \"x\": 1, \"y\": 1}], \"coloraxis\": {\"colorscale\": [[0.0, \"peachpuff\"], [0.5, \"lime\"], [1.0, \"green\"]]}, \"height\": 400, \"margin\": {\"t\": 60}, \"template\": {\"data\": {\"bar\": [{\"error_x\": {\"color\": \"#2a3f5f\"}, \"error_y\": {\"color\": \"#2a3f5f\"}, \"marker\": {\"line\": {\"color\": \"#E5ECF6\", \"width\": 0.5}}, \"type\": \"bar\"}], \"barpolar\": [{\"marker\": {\"line\": {\"color\": \"#E5ECF6\", \"width\": 0.5}}, \"type\": \"barpolar\"}], \"carpet\": [{\"aaxis\": {\"endlinecolor\": \"#2a3f5f\", \"gridcolor\": \"white\", \"linecolor\": \"white\", \"minorgridcolor\": \"white\", \"startlinecolor\": \"#2a3f5f\"}, \"baxis\": {\"endlinecolor\": \"#2a3f5f\", \"gridcolor\": \"white\", \"linecolor\": \"white\", \"minorgridcolor\": \"white\", \"startlinecolor\": \"#2a3f5f\"}, \"type\": \"carpet\"}], \"choropleth\": [{\"colorbar\": {\"outlinewidth\": 0, \"ticks\": \"\"}, \"type\": \"choropleth\"}], \"contour\": [{\"colorbar\": {\"outlinewidth\": 0, \"ticks\": \"\"}, \"colorscale\": [[0.0, \"#0d0887\"], [0.1111111111111111, \"#46039f\"], [0.2222222222222222, \"#7201a8\"], [0.3333333333333333, \"#9c179e\"], [0.4444444444444444, \"#bd3786\"], [0.5555555555555556, \"#d8576b\"], [0.6666666666666666, \"#ed7953\"], [0.7777777777777778, \"#fb9f3a\"], [0.8888888888888888, \"#fdca26\"], [1.0, \"#f0f921\"]], \"type\": \"contour\"}], \"contourcarpet\": [{\"colorbar\": {\"outlinewidth\": 0, \"ticks\": \"\"}, \"type\": \"contourcarpet\"}], \"heatmap\": [{\"colorbar\": {\"outlinewidth\": 0, \"ticks\": \"\"}, \"colorscale\": [[0.0, \"#0d0887\"], [0.1111111111111111, \"#46039f\"], [0.2222222222222222, \"#7201a8\"], [0.3333333333333333, \"#9c179e\"], [0.4444444444444444, \"#bd3786\"], [0.5555555555555556, \"#d8576b\"], [0.6666666666666666, \"#ed7953\"], [0.7777777777777778, \"#fb9f3a\"], [0.8888888888888888, \"#fdca26\"], [1.0, \"#f0f921\"]], \"type\": \"heatmap\"}], \"heatmapgl\": [{\"colorbar\": {\"outlinewidth\": 0, \"ticks\": \"\"}, \"colorscale\": [[0.0, \"#0d0887\"], [0.1111111111111111, \"#46039f\"], [0.2222222222222222, \"#7201a8\"], [0.3333333333333333, \"#9c179e\"], [0.4444444444444444, \"#bd3786\"], [0.5555555555555556, \"#d8576b\"], [0.6666666666666666, \"#ed7953\"], [0.7777777777777778, \"#fb9f3a\"], [0.8888888888888888, \"#fdca26\"], [1.0, \"#f0f921\"]], \"type\": \"heatmapgl\"}], \"histogram\": [{\"marker\": {\"colorbar\": {\"outlinewidth\": 0, \"ticks\": \"\"}}, \"type\": \"histogram\"}], \"histogram2d\": [{\"colorbar\": {\"outlinewidth\": 0, \"ticks\": \"\"}, \"colorscale\": [[0.0, \"#0d0887\"], [0.1111111111111111, \"#46039f\"], [0.2222222222222222, \"#7201a8\"], [0.3333333333333333, \"#9c179e\"], [0.4444444444444444, \"#bd3786\"], [0.5555555555555556, \"#d8576b\"], [0.6666666666666666, \"#ed7953\"], [0.7777777777777778, \"#fb9f3a\"], [0.8888888888888888, \"#fdca26\"], [1.0, \"#f0f921\"]], \"type\": \"histogram2d\"}], \"histogram2dcontour\": [{\"colorbar\": {\"outlinewidth\": 0, \"ticks\": \"\"}, \"colorscale\": [[0.0, \"#0d0887\"], [0.1111111111111111, \"#46039f\"], [0.2222222222222222, \"#7201a8\"], [0.3333333333333333, \"#9c179e\"], [0.4444444444444444, \"#bd3786\"], [0.5555555555555556, \"#d8576b\"], [0.6666666666666666, \"#ed7953\"], [0.7777777777777778, \"#fb9f3a\"], [0.8888888888888888, \"#fdca26\"], [1.0, \"#f0f921\"]], \"type\": \"histogram2dcontour\"}], \"mesh3d\": [{\"colorbar\": {\"outlinewidth\": 0, \"ticks\": \"\"}, \"type\": \"mesh3d\"}], \"parcoords\": [{\"line\": {\"colorbar\": {\"outlinewidth\": 0, \"ticks\": \"\"}}, \"type\": \"parcoords\"}], \"pie\": [{\"automargin\": true, \"type\": \"pie\"}], \"scatter\": [{\"marker\": {\"colorbar\": {\"outlinewidth\": 0, \"ticks\": \"\"}}, \"type\": \"scatter\"}], \"scatter3d\": [{\"line\": {\"colorbar\": {\"outlinewidth\": 0, \"ticks\": \"\"}}, \"marker\": {\"colorbar\": {\"outlinewidth\": 0, \"ticks\": \"\"}}, \"type\": \"scatter3d\"}], \"scattercarpet\": [{\"marker\": {\"colorbar\": {\"outlinewidth\": 0, \"ticks\": \"\"}}, \"type\": \"scattercarpet\"}], \"scattergeo\": [{\"marker\": {\"colorbar\": {\"outlinewidth\": 0, \"ticks\": \"\"}}, \"type\": \"scattergeo\"}], \"scattergl\": [{\"marker\": {\"colorbar\": {\"outlinewidth\": 0, \"ticks\": \"\"}}, \"type\": \"scattergl\"}], \"scattermapbox\": [{\"marker\": {\"colorbar\": {\"outlinewidth\": 0, \"ticks\": \"\"}}, \"type\": \"scattermapbox\"}], \"scatterpolar\": [{\"marker\": {\"colorbar\": {\"outlinewidth\": 0, \"ticks\": \"\"}}, \"type\": \"scatterpolar\"}], \"scatterpolargl\": [{\"marker\": {\"colorbar\": {\"outlinewidth\": 0, \"ticks\": \"\"}}, \"type\": \"scatterpolargl\"}], \"scatterternary\": [{\"marker\": {\"colorbar\": {\"outlinewidth\": 0, \"ticks\": \"\"}}, \"type\": \"scatterternary\"}], \"surface\": [{\"colorbar\": {\"outlinewidth\": 0, \"ticks\": \"\"}, \"colorscale\": [[0.0, \"#0d0887\"], [0.1111111111111111, \"#46039f\"], [0.2222222222222222, \"#7201a8\"], [0.3333333333333333, \"#9c179e\"], [0.4444444444444444, \"#bd3786\"], [0.5555555555555556, \"#d8576b\"], [0.6666666666666666, \"#ed7953\"], [0.7777777777777778, \"#fb9f3a\"], [0.8888888888888888, \"#fdca26\"], [1.0, \"#f0f921\"]], \"type\": \"surface\"}], \"table\": [{\"cells\": {\"fill\": {\"color\": \"#EBF0F8\"}, \"line\": {\"color\": \"white\"}}, \"header\": {\"fill\": {\"color\": \"#C8D4E3\"}, \"line\": {\"color\": \"white\"}}, \"type\": \"table\"}]}, \"layout\": {\"annotationdefaults\": {\"arrowcolor\": \"#2a3f5f\", \"arrowhead\": 0, \"arrowwidth\": 1}, \"coloraxis\": {\"colorbar\": {\"outlinewidth\": 0, \"ticks\": \"\"}}, \"colorscale\": {\"diverging\": [[0, \"#8e0152\"], [0.1, \"#c51b7d\"], [0.2, \"#de77ae\"], [0.3, \"#f1b6da\"], [0.4, \"#fde0ef\"], [0.5, \"#f7f7f7\"], [0.6, \"#e6f5d0\"], [0.7, \"#b8e186\"], [0.8, \"#7fbc41\"], [0.9, \"#4d9221\"], [1, \"#276419\"]], \"sequential\": [[0.0, \"#0d0887\"], [0.1111111111111111, \"#46039f\"], [0.2222222222222222, \"#7201a8\"], [0.3333333333333333, \"#9c179e\"], [0.4444444444444444, \"#bd3786\"], [0.5555555555555556, \"#d8576b\"], [0.6666666666666666, \"#ed7953\"], [0.7777777777777778, \"#fb9f3a\"], [0.8888888888888888, \"#fdca26\"], [1.0, \"#f0f921\"]], \"sequentialminus\": [[0.0, \"#0d0887\"], [0.1111111111111111, \"#46039f\"], [0.2222222222222222, \"#7201a8\"], [0.3333333333333333, \"#9c179e\"], [0.4444444444444444, \"#bd3786\"], [0.5555555555555556, \"#d8576b\"], [0.6666666666666666, \"#ed7953\"], [0.7777777777777778, \"#fb9f3a\"], [0.8888888888888888, \"#fdca26\"], [1.0, \"#f0f921\"]]}, \"colorway\": [\"#636efa\", \"#EF553B\", \"#00cc96\", \"#ab63fa\", \"#FFA15A\", \"#19d3f3\", \"#FF6692\", \"#B6E880\", \"#FF97FF\", \"#FECB52\"], \"font\": {\"color\": \"#2a3f5f\"}, \"geo\": {\"bgcolor\": \"white\", \"lakecolor\": \"white\", \"landcolor\": \"#E5ECF6\", \"showlakes\": true, \"showland\": true, \"subunitcolor\": \"white\"}, \"hoverlabel\": {\"align\": \"left\"}, \"hovermode\": \"closest\", \"mapbox\": {\"style\": \"light\"}, \"paper_bgcolor\": \"white\", \"plot_bgcolor\": \"#E5ECF6\", \"polar\": {\"angularaxis\": {\"gridcolor\": \"white\", \"linecolor\": \"white\", \"ticks\": \"\"}, \"bgcolor\": \"#E5ECF6\", \"radialaxis\": {\"gridcolor\": \"white\", \"linecolor\": \"white\", \"ticks\": \"\"}}, \"scene\": {\"xaxis\": {\"backgroundcolor\": \"#E5ECF6\", \"gridcolor\": \"white\", \"gridwidth\": 2, \"linecolor\": \"white\", \"showbackground\": true, \"ticks\": \"\", \"zerolinecolor\": \"white\"}, \"yaxis\": {\"backgroundcolor\": \"#E5ECF6\", \"gridcolor\": \"white\", \"gridwidth\": 2, \"linecolor\": \"white\", \"showbackground\": true, \"ticks\": \"\", \"zerolinecolor\": \"white\"}, \"zaxis\": {\"backgroundcolor\": \"#E5ECF6\", \"gridcolor\": \"white\", \"gridwidth\": 2, \"linecolor\": \"white\", \"showbackground\": true, \"ticks\": \"\", \"zerolinecolor\": \"white\"}}, \"shapedefaults\": {\"line\": {\"color\": \"#2a3f5f\"}}, \"ternary\": {\"aaxis\": {\"gridcolor\": \"white\", \"linecolor\": \"white\", \"ticks\": \"\"}, \"baxis\": {\"gridcolor\": \"white\", \"linecolor\": \"white\", \"ticks\": \"\"}, \"bgcolor\": \"#E5ECF6\", \"caxis\": {\"gridcolor\": \"white\", \"linecolor\": \"white\", \"ticks\": \"\"}}, \"title\": {\"x\": 0.05}, \"xaxis\": {\"automargin\": true, \"gridcolor\": \"white\", \"linecolor\": \"white\", \"ticks\": \"\", \"title\": {\"standoff\": 15}, \"zerolinecolor\": \"white\", \"zerolinewidth\": 2}, \"yaxis\": {\"automargin\": true, \"gridcolor\": \"white\", \"linecolor\": \"white\", \"ticks\": \"\", \"title\": {\"standoff\": 15}, \"zerolinecolor\": \"white\", \"zerolinewidth\": 2}}}, \"title\": {\"text\": \"Confusion Matrix (KNN)\", \"x\": 0.5}, \"width\": 400, \"xaxis\": {\"constrain\": \"domain\", \"dtick\": 1, \"scaleanchor\": \"y\", \"tick0\": 0, \"tickmode\": \"linear\", \"title\": {\"text\": \"Prediction\"}}, \"yaxis\": {\"autorange\": \"reversed\", \"constrain\": \"domain\", \"dtick\": 1, \"tick0\": 0, \"tickmode\": \"linear\", \"title\": {\"text\": \"Truth\"}}},\n",
              "                        {\"responsive\": true}\n",
              "                    ).then(function(){\n",
              "                            \n",
              "var gd = document.getElementById('5264b46f-8b65-40fc-bf27-c8c1fadf5361');\n",
              "var x = new MutationObserver(function (mutations, observer) {{\n",
              "        var display = window.getComputedStyle(gd).display;\n",
              "        if (!display || display === 'none') {{\n",
              "            console.log([gd, 'removed!']);\n",
              "            Plotly.purge(gd);\n",
              "            observer.disconnect();\n",
              "        }}\n",
              "}});\n",
              "\n",
              "// Listen for the removal of the full notebook cells\n",
              "var notebookContainer = gd.closest('#notebook-container');\n",
              "if (notebookContainer) {{\n",
              "    x.observe(notebookContainer, {childList: true});\n",
              "}}\n",
              "\n",
              "// Listen for the clearing of the current output cell\n",
              "var outputEl = gd.closest('.output');\n",
              "if (outputEl) {{\n",
              "    x.observe(outputEl, {childList: true});\n",
              "}}\n",
              "\n",
              "                        })\n",
              "                };\n",
              "                \n",
              "            </script>\n",
              "        </div>\n",
              "</body>\n",
              "</html>"
            ]
          },
          "metadata": {}
        }
      ]
    },
    {
      "cell_type": "markdown",
      "source": [
        "### Churn Prediction using Decision Tree"
      ],
      "metadata": {
        "id": "pofmbkBgoNu9"
      }
    },
    {
      "cell_type": "code",
      "source": [
        "para_dt = {'max_depth':[7,10,15]}\n",
        "\n",
        "model_dt = GridSearchCV(estimator = DecisionTreeClassifier(),\n",
        "                    param_grid = para_dt,\n",
        "                    cv=10,\n",
        "                    verbose=0,\n",
        "                    n_jobs=-1\n",
        "                   )\n",
        "\n",
        "model_dt.fit(train_X_re,train_y_re)"
      ],
      "metadata": {
        "colab": {
          "base_uri": "https://localhost:8080/"
        },
        "id": "7OkD23bhoKRh",
        "outputId": "8a482c6a-3a89-4dbf-aaee-452664ad07f6"
      },
      "execution_count": 50,
      "outputs": [
        {
          "output_type": "execute_result",
          "data": {
            "text/plain": [
              "GridSearchCV(cv=10, estimator=DecisionTreeClassifier(), n_jobs=-1,\n",
              "             param_grid={'max_depth': [7, 10, 15]})"
            ]
          },
          "metadata": {},
          "execution_count": 50
        }
      ]
    },
    {
      "cell_type": "code",
      "source": [
        "model_dt.best_params_"
      ],
      "metadata": {
        "colab": {
          "base_uri": "https://localhost:8080/"
        },
        "id": "Xk2cPCPBoKU1",
        "outputId": "0c6c6c28-f18e-4230-a27e-7603247b793a"
      },
      "execution_count": 51,
      "outputs": [
        {
          "output_type": "execute_result",
          "data": {
            "text/plain": [
              "{'max_depth': 10}"
            ]
          },
          "metadata": {},
          "execution_count": 51
        }
      ]
    },
    {
      "cell_type": "code",
      "source": [
        "cm_dt,cr_dt,auc_score_dt,_  = test_eval(model_dt,test_X,test_y)\n",
        "fpr_dt, tpr_dt, thresh_dt = roc_curve(test_y, model_dt.predict_proba(test_X)[:,1], pos_label = 1)\n",
        "precision_dt, recall_dt, _ = precision_recall_curve(test_y, model_dt.predict_proba(test_X)[:,1],pos_label=1)"
      ],
      "metadata": {
        "colab": {
          "base_uri": "https://localhost:8080/"
        },
        "id": "gzhfx460oXCu",
        "outputId": "64b8626e-f35d-4226-f191-6ccf4d7ad80b"
      },
      "execution_count": 52,
      "outputs": [
        {
          "output_type": "stream",
          "name": "stdout",
          "text": [
            "Confusion Matrix\n",
            "====================\n",
            "[[726 307]\n",
            " [105 269]] \n",
            "\n",
            "Classification Report\n",
            "====================\n",
            "              precision    recall  f1-score   support\n",
            "\n",
            "           0       0.87      0.70      0.78      1033\n",
            "           1       0.47      0.72      0.57       374\n",
            "\n",
            "    accuracy                           0.71      1407\n",
            "   macro avg       0.67      0.71      0.67      1407\n",
            "weighted avg       0.77      0.71      0.72      1407\n",
            "\n"
          ]
        }
      ]
    },
    {
      "cell_type": "code",
      "source": [
        "plot_cmatrix(cm_dt, name='DT')"
      ],
      "metadata": {
        "colab": {
          "base_uri": "https://localhost:8080/",
          "height": 417
        },
        "id": "fsYLhABRoXGF",
        "outputId": "7dee2688-6289-4695-a9b0-1a669eb1cef2"
      },
      "execution_count": 53,
      "outputs": [
        {
          "output_type": "display_data",
          "data": {
            "text/html": [
              "<html>\n",
              "<head><meta charset=\"utf-8\" /></head>\n",
              "<body>\n",
              "    <div>\n",
              "            <script src=\"https://cdnjs.cloudflare.com/ajax/libs/mathjax/2.7.5/MathJax.js?config=TeX-AMS-MML_SVG\"></script><script type=\"text/javascript\">if (window.MathJax) {MathJax.Hub.Config({SVG: {font: \"STIX-Web\"}});}</script>\n",
              "                <script type=\"text/javascript\">window.PlotlyConfig = {MathJaxConfig: 'local'};</script>\n",
              "        <script src=\"https://cdn.plot.ly/plotly-latest.min.js\"></script>    \n",
              "            <div id=\"f7dd978d-1602-40c7-a9f4-4806afbf0ce0\" class=\"plotly-graph-div\" style=\"height:400px; width:400px;\"></div>\n",
              "            <script type=\"text/javascript\">\n",
              "                \n",
              "                    window.PLOTLYENV=window.PLOTLYENV || {};\n",
              "                    \n",
              "                if (document.getElementById(\"f7dd978d-1602-40c7-a9f4-4806afbf0ce0\")) {\n",
              "                    Plotly.newPlot(\n",
              "                        'f7dd978d-1602-40c7-a9f4-4806afbf0ce0',\n",
              "                        [{\"coloraxis\": \"coloraxis\", \"type\": \"heatmap\", \"z\": [[726, 307], [105, 269]]}],\n",
              "                        {\"annotations\": [{\"font\": {\"color\": \"black\", \"size\": 12}, \"showarrow\": false, \"text\": \"726\", \"x\": 0, \"y\": 0}, {\"font\": {\"color\": \"black\", \"size\": 12}, \"showarrow\": false, \"text\": \"307\", \"x\": 1, \"y\": 0}, {\"font\": {\"color\": \"black\", \"size\": 12}, \"showarrow\": false, \"text\": \"105\", \"x\": 0, \"y\": 1}, {\"font\": {\"color\": \"black\", \"size\": 12}, \"showarrow\": false, \"text\": \"269\", \"x\": 1, \"y\": 1}], \"coloraxis\": {\"colorscale\": [[0.0, \"peachpuff\"], [0.5, \"lime\"], [1.0, \"green\"]]}, \"height\": 400, \"margin\": {\"t\": 60}, \"template\": {\"data\": {\"bar\": [{\"error_x\": {\"color\": \"#2a3f5f\"}, \"error_y\": {\"color\": \"#2a3f5f\"}, \"marker\": {\"line\": {\"color\": \"#E5ECF6\", \"width\": 0.5}}, \"type\": \"bar\"}], \"barpolar\": [{\"marker\": {\"line\": {\"color\": \"#E5ECF6\", \"width\": 0.5}}, \"type\": \"barpolar\"}], \"carpet\": [{\"aaxis\": {\"endlinecolor\": \"#2a3f5f\", \"gridcolor\": \"white\", \"linecolor\": \"white\", \"minorgridcolor\": \"white\", \"startlinecolor\": \"#2a3f5f\"}, \"baxis\": {\"endlinecolor\": \"#2a3f5f\", \"gridcolor\": \"white\", \"linecolor\": \"white\", \"minorgridcolor\": \"white\", \"startlinecolor\": \"#2a3f5f\"}, \"type\": \"carpet\"}], \"choropleth\": [{\"colorbar\": {\"outlinewidth\": 0, \"ticks\": \"\"}, \"type\": \"choropleth\"}], \"contour\": [{\"colorbar\": {\"outlinewidth\": 0, \"ticks\": \"\"}, \"colorscale\": [[0.0, \"#0d0887\"], [0.1111111111111111, \"#46039f\"], [0.2222222222222222, \"#7201a8\"], [0.3333333333333333, \"#9c179e\"], [0.4444444444444444, \"#bd3786\"], [0.5555555555555556, \"#d8576b\"], [0.6666666666666666, \"#ed7953\"], [0.7777777777777778, \"#fb9f3a\"], [0.8888888888888888, \"#fdca26\"], [1.0, \"#f0f921\"]], \"type\": \"contour\"}], \"contourcarpet\": [{\"colorbar\": {\"outlinewidth\": 0, \"ticks\": \"\"}, \"type\": \"contourcarpet\"}], \"heatmap\": [{\"colorbar\": {\"outlinewidth\": 0, \"ticks\": \"\"}, \"colorscale\": [[0.0, \"#0d0887\"], [0.1111111111111111, \"#46039f\"], [0.2222222222222222, \"#7201a8\"], [0.3333333333333333, \"#9c179e\"], [0.4444444444444444, \"#bd3786\"], [0.5555555555555556, \"#d8576b\"], [0.6666666666666666, \"#ed7953\"], [0.7777777777777778, \"#fb9f3a\"], [0.8888888888888888, \"#fdca26\"], [1.0, \"#f0f921\"]], \"type\": \"heatmap\"}], \"heatmapgl\": [{\"colorbar\": {\"outlinewidth\": 0, \"ticks\": \"\"}, \"colorscale\": [[0.0, \"#0d0887\"], [0.1111111111111111, \"#46039f\"], [0.2222222222222222, \"#7201a8\"], [0.3333333333333333, \"#9c179e\"], [0.4444444444444444, \"#bd3786\"], [0.5555555555555556, \"#d8576b\"], [0.6666666666666666, \"#ed7953\"], [0.7777777777777778, \"#fb9f3a\"], [0.8888888888888888, \"#fdca26\"], [1.0, \"#f0f921\"]], \"type\": \"heatmapgl\"}], \"histogram\": [{\"marker\": {\"colorbar\": {\"outlinewidth\": 0, \"ticks\": \"\"}}, \"type\": \"histogram\"}], \"histogram2d\": [{\"colorbar\": {\"outlinewidth\": 0, \"ticks\": \"\"}, \"colorscale\": [[0.0, \"#0d0887\"], [0.1111111111111111, \"#46039f\"], [0.2222222222222222, \"#7201a8\"], [0.3333333333333333, \"#9c179e\"], [0.4444444444444444, \"#bd3786\"], [0.5555555555555556, \"#d8576b\"], [0.6666666666666666, \"#ed7953\"], [0.7777777777777778, \"#fb9f3a\"], [0.8888888888888888, \"#fdca26\"], [1.0, \"#f0f921\"]], \"type\": \"histogram2d\"}], \"histogram2dcontour\": [{\"colorbar\": {\"outlinewidth\": 0, \"ticks\": \"\"}, \"colorscale\": [[0.0, \"#0d0887\"], [0.1111111111111111, \"#46039f\"], [0.2222222222222222, \"#7201a8\"], [0.3333333333333333, \"#9c179e\"], [0.4444444444444444, \"#bd3786\"], [0.5555555555555556, \"#d8576b\"], [0.6666666666666666, \"#ed7953\"], [0.7777777777777778, \"#fb9f3a\"], [0.8888888888888888, \"#fdca26\"], [1.0, \"#f0f921\"]], \"type\": \"histogram2dcontour\"}], \"mesh3d\": [{\"colorbar\": {\"outlinewidth\": 0, \"ticks\": \"\"}, \"type\": \"mesh3d\"}], \"parcoords\": [{\"line\": {\"colorbar\": {\"outlinewidth\": 0, \"ticks\": \"\"}}, \"type\": \"parcoords\"}], \"pie\": [{\"automargin\": true, \"type\": \"pie\"}], \"scatter\": [{\"marker\": {\"colorbar\": {\"outlinewidth\": 0, \"ticks\": \"\"}}, \"type\": \"scatter\"}], \"scatter3d\": [{\"line\": {\"colorbar\": {\"outlinewidth\": 0, \"ticks\": \"\"}}, \"marker\": {\"colorbar\": {\"outlinewidth\": 0, \"ticks\": \"\"}}, \"type\": \"scatter3d\"}], \"scattercarpet\": [{\"marker\": {\"colorbar\": {\"outlinewidth\": 0, \"ticks\": \"\"}}, \"type\": \"scattercarpet\"}], \"scattergeo\": [{\"marker\": {\"colorbar\": {\"outlinewidth\": 0, \"ticks\": \"\"}}, \"type\": \"scattergeo\"}], \"scattergl\": [{\"marker\": {\"colorbar\": {\"outlinewidth\": 0, \"ticks\": \"\"}}, \"type\": \"scattergl\"}], \"scattermapbox\": [{\"marker\": {\"colorbar\": {\"outlinewidth\": 0, \"ticks\": \"\"}}, \"type\": \"scattermapbox\"}], \"scatterpolar\": [{\"marker\": {\"colorbar\": {\"outlinewidth\": 0, \"ticks\": \"\"}}, \"type\": \"scatterpolar\"}], \"scatterpolargl\": [{\"marker\": {\"colorbar\": {\"outlinewidth\": 0, \"ticks\": \"\"}}, \"type\": \"scatterpolargl\"}], \"scatterternary\": [{\"marker\": {\"colorbar\": {\"outlinewidth\": 0, \"ticks\": \"\"}}, \"type\": \"scatterternary\"}], \"surface\": [{\"colorbar\": {\"outlinewidth\": 0, \"ticks\": \"\"}, \"colorscale\": [[0.0, \"#0d0887\"], [0.1111111111111111, \"#46039f\"], [0.2222222222222222, \"#7201a8\"], [0.3333333333333333, \"#9c179e\"], [0.4444444444444444, \"#bd3786\"], [0.5555555555555556, \"#d8576b\"], [0.6666666666666666, \"#ed7953\"], [0.7777777777777778, \"#fb9f3a\"], [0.8888888888888888, \"#fdca26\"], [1.0, \"#f0f921\"]], \"type\": \"surface\"}], \"table\": [{\"cells\": {\"fill\": {\"color\": \"#EBF0F8\"}, \"line\": {\"color\": \"white\"}}, \"header\": {\"fill\": {\"color\": \"#C8D4E3\"}, \"line\": {\"color\": \"white\"}}, \"type\": \"table\"}]}, \"layout\": {\"annotationdefaults\": {\"arrowcolor\": \"#2a3f5f\", \"arrowhead\": 0, \"arrowwidth\": 1}, \"coloraxis\": {\"colorbar\": {\"outlinewidth\": 0, \"ticks\": \"\"}}, \"colorscale\": {\"diverging\": [[0, \"#8e0152\"], [0.1, \"#c51b7d\"], [0.2, \"#de77ae\"], [0.3, \"#f1b6da\"], [0.4, \"#fde0ef\"], [0.5, \"#f7f7f7\"], [0.6, \"#e6f5d0\"], [0.7, \"#b8e186\"], [0.8, \"#7fbc41\"], [0.9, \"#4d9221\"], [1, \"#276419\"]], \"sequential\": [[0.0, \"#0d0887\"], [0.1111111111111111, \"#46039f\"], [0.2222222222222222, \"#7201a8\"], [0.3333333333333333, \"#9c179e\"], [0.4444444444444444, \"#bd3786\"], [0.5555555555555556, \"#d8576b\"], [0.6666666666666666, \"#ed7953\"], [0.7777777777777778, \"#fb9f3a\"], [0.8888888888888888, \"#fdca26\"], [1.0, \"#f0f921\"]], \"sequentialminus\": [[0.0, \"#0d0887\"], [0.1111111111111111, \"#46039f\"], [0.2222222222222222, \"#7201a8\"], [0.3333333333333333, \"#9c179e\"], [0.4444444444444444, \"#bd3786\"], [0.5555555555555556, \"#d8576b\"], [0.6666666666666666, \"#ed7953\"], [0.7777777777777778, \"#fb9f3a\"], [0.8888888888888888, \"#fdca26\"], [1.0, \"#f0f921\"]]}, \"colorway\": [\"#636efa\", \"#EF553B\", \"#00cc96\", \"#ab63fa\", \"#FFA15A\", \"#19d3f3\", \"#FF6692\", \"#B6E880\", \"#FF97FF\", \"#FECB52\"], \"font\": {\"color\": \"#2a3f5f\"}, \"geo\": {\"bgcolor\": \"white\", \"lakecolor\": \"white\", \"landcolor\": \"#E5ECF6\", \"showlakes\": true, \"showland\": true, \"subunitcolor\": \"white\"}, \"hoverlabel\": {\"align\": \"left\"}, \"hovermode\": \"closest\", \"mapbox\": {\"style\": \"light\"}, \"paper_bgcolor\": \"white\", \"plot_bgcolor\": \"#E5ECF6\", \"polar\": {\"angularaxis\": {\"gridcolor\": \"white\", \"linecolor\": \"white\", \"ticks\": \"\"}, \"bgcolor\": \"#E5ECF6\", \"radialaxis\": {\"gridcolor\": \"white\", \"linecolor\": \"white\", \"ticks\": \"\"}}, \"scene\": {\"xaxis\": {\"backgroundcolor\": \"#E5ECF6\", \"gridcolor\": \"white\", \"gridwidth\": 2, \"linecolor\": \"white\", \"showbackground\": true, \"ticks\": \"\", \"zerolinecolor\": \"white\"}, \"yaxis\": {\"backgroundcolor\": \"#E5ECF6\", \"gridcolor\": \"white\", \"gridwidth\": 2, \"linecolor\": \"white\", \"showbackground\": true, \"ticks\": \"\", \"zerolinecolor\": \"white\"}, \"zaxis\": {\"backgroundcolor\": \"#E5ECF6\", \"gridcolor\": \"white\", \"gridwidth\": 2, \"linecolor\": \"white\", \"showbackground\": true, \"ticks\": \"\", \"zerolinecolor\": \"white\"}}, \"shapedefaults\": {\"line\": {\"color\": \"#2a3f5f\"}}, \"ternary\": {\"aaxis\": {\"gridcolor\": \"white\", \"linecolor\": \"white\", \"ticks\": \"\"}, \"baxis\": {\"gridcolor\": \"white\", \"linecolor\": \"white\", \"ticks\": \"\"}, \"bgcolor\": \"#E5ECF6\", \"caxis\": {\"gridcolor\": \"white\", \"linecolor\": \"white\", \"ticks\": \"\"}}, \"title\": {\"x\": 0.05}, \"xaxis\": {\"automargin\": true, \"gridcolor\": \"white\", \"linecolor\": \"white\", \"ticks\": \"\", \"title\": {\"standoff\": 15}, \"zerolinecolor\": \"white\", \"zerolinewidth\": 2}, \"yaxis\": {\"automargin\": true, \"gridcolor\": \"white\", \"linecolor\": \"white\", \"ticks\": \"\", \"title\": {\"standoff\": 15}, \"zerolinecolor\": \"white\", \"zerolinewidth\": 2}}}, \"title\": {\"text\": \"Confusion Matrix (DT)\", \"x\": 0.5}, \"width\": 400, \"xaxis\": {\"constrain\": \"domain\", \"dtick\": 1, \"scaleanchor\": \"y\", \"tick0\": 0, \"tickmode\": \"linear\", \"title\": {\"text\": \"Prediction\"}}, \"yaxis\": {\"autorange\": \"reversed\", \"constrain\": \"domain\", \"dtick\": 1, \"tick0\": 0, \"tickmode\": \"linear\", \"title\": {\"text\": \"Truth\"}}},\n",
              "                        {\"responsive\": true}\n",
              "                    ).then(function(){\n",
              "                            \n",
              "var gd = document.getElementById('f7dd978d-1602-40c7-a9f4-4806afbf0ce0');\n",
              "var x = new MutationObserver(function (mutations, observer) {{\n",
              "        var display = window.getComputedStyle(gd).display;\n",
              "        if (!display || display === 'none') {{\n",
              "            console.log([gd, 'removed!']);\n",
              "            Plotly.purge(gd);\n",
              "            observer.disconnect();\n",
              "        }}\n",
              "}});\n",
              "\n",
              "// Listen for the removal of the full notebook cells\n",
              "var notebookContainer = gd.closest('#notebook-container');\n",
              "if (notebookContainer) {{\n",
              "    x.observe(notebookContainer, {childList: true});\n",
              "}}\n",
              "\n",
              "// Listen for the clearing of the current output cell\n",
              "var outputEl = gd.closest('.output');\n",
              "if (outputEl) {{\n",
              "    x.observe(outputEl, {childList: true});\n",
              "}}\n",
              "\n",
              "                        })\n",
              "                };\n",
              "                \n",
              "            </script>\n",
              "        </div>\n",
              "</body>\n",
              "</html>"
            ]
          },
          "metadata": {}
        }
      ]
    },
    {
      "cell_type": "markdown",
      "source": [
        "## Ensemble Algorithms\n",
        "\n",
        "### Churn Prediction using Random Forest "
      ],
      "metadata": {
        "id": "iI_dFjVxoeY3"
      }
    },
    {
      "cell_type": "code",
      "source": [
        "para_rf = { \"max_depth\": [5,10,20],\n",
        "           \"n_estimators\":[50, 150],\n",
        "           \"min_samples_split\": [2, 5, 10],\n",
        "           \"min_samples_leaf\" : [1, 2, 10] \n",
        "          }\n",
        "model_rf = GridSearchCV(estimator = RandomForestClassifier(),\n",
        "                    param_grid = para_rf,\n",
        "                    cv=10,\n",
        "                    verbose=0,\n",
        "                    n_jobs=-1\n",
        "                   )\n",
        "\n",
        "model_rf.fit(train_X_re,train_y_re)"
      ],
      "metadata": {
        "colab": {
          "base_uri": "https://localhost:8080/"
        },
        "id": "zAJEX8ZXobJF",
        "outputId": "4509cbf6-d919-42e9-e2ab-1cbdf99fc18f"
      },
      "execution_count": 54,
      "outputs": [
        {
          "output_type": "execute_result",
          "data": {
            "text/plain": [
              "GridSearchCV(cv=10, estimator=RandomForestClassifier(), n_jobs=-1,\n",
              "             param_grid={'max_depth': [5, 10, 20],\n",
              "                         'min_samples_leaf': [1, 2, 10],\n",
              "                         'min_samples_split': [2, 5, 10],\n",
              "                         'n_estimators': [50, 150]})"
            ]
          },
          "metadata": {},
          "execution_count": 54
        }
      ]
    },
    {
      "cell_type": "code",
      "source": [
        "model_rf.best_params_"
      ],
      "metadata": {
        "colab": {
          "base_uri": "https://localhost:8080/"
        },
        "id": "MbdduExGobML",
        "outputId": "f5c3703a-7ca1-4f23-efdf-df8fb42697c2"
      },
      "execution_count": 55,
      "outputs": [
        {
          "output_type": "execute_result",
          "data": {
            "text/plain": [
              "{'max_depth': 20,\n",
              " 'min_samples_leaf': 1,\n",
              " 'min_samples_split': 2,\n",
              " 'n_estimators': 150}"
            ]
          },
          "metadata": {},
          "execution_count": 55
        }
      ]
    },
    {
      "cell_type": "code",
      "source": [
        "cm_rf,cr_rf,auc_score_rf,_  = test_eval(model_rf,test_X,test_y)\n",
        "fpr_rf, tpr_rf, thresh_rf = roc_curve(test_y, model_rf.predict_proba(test_X)[:,1], pos_label = 1)\n",
        "precision_rf, recall_rf, _ = precision_recall_curve(test_y, model_rf.predict_proba(test_X)[:,1],pos_label=1)"
      ],
      "metadata": {
        "colab": {
          "base_uri": "https://localhost:8080/"
        },
        "id": "KgU17k57oqgx",
        "outputId": "0bd8f18d-4ed3-4763-9f02-297d93b550e5"
      },
      "execution_count": 56,
      "outputs": [
        {
          "output_type": "stream",
          "name": "stdout",
          "text": [
            "Confusion Matrix\n",
            "====================\n",
            "[[839 194]\n",
            " [128 246]] \n",
            "\n",
            "Classification Report\n",
            "====================\n",
            "              precision    recall  f1-score   support\n",
            "\n",
            "           0       0.87      0.81      0.84      1033\n",
            "           1       0.56      0.66      0.60       374\n",
            "\n",
            "    accuracy                           0.77      1407\n",
            "   macro avg       0.71      0.73      0.72      1407\n",
            "weighted avg       0.79      0.77      0.78      1407\n",
            "\n"
          ]
        }
      ]
    },
    {
      "cell_type": "code",
      "source": [
        "plot_cmatrix(cm_rf, name='RF')"
      ],
      "metadata": {
        "colab": {
          "base_uri": "https://localhost:8080/",
          "height": 417
        },
        "id": "HkpBCXquoy_g",
        "outputId": "e5477dd4-6bd9-42b7-9410-eb6fefb79b14"
      },
      "execution_count": 57,
      "outputs": [
        {
          "output_type": "display_data",
          "data": {
            "text/html": [
              "<html>\n",
              "<head><meta charset=\"utf-8\" /></head>\n",
              "<body>\n",
              "    <div>\n",
              "            <script src=\"https://cdnjs.cloudflare.com/ajax/libs/mathjax/2.7.5/MathJax.js?config=TeX-AMS-MML_SVG\"></script><script type=\"text/javascript\">if (window.MathJax) {MathJax.Hub.Config({SVG: {font: \"STIX-Web\"}});}</script>\n",
              "                <script type=\"text/javascript\">window.PlotlyConfig = {MathJaxConfig: 'local'};</script>\n",
              "        <script src=\"https://cdn.plot.ly/plotly-latest.min.js\"></script>    \n",
              "            <div id=\"eed95fba-c5d4-4b1d-99aa-c6815e83c3d5\" class=\"plotly-graph-div\" style=\"height:400px; width:400px;\"></div>\n",
              "            <script type=\"text/javascript\">\n",
              "                \n",
              "                    window.PLOTLYENV=window.PLOTLYENV || {};\n",
              "                    \n",
              "                if (document.getElementById(\"eed95fba-c5d4-4b1d-99aa-c6815e83c3d5\")) {\n",
              "                    Plotly.newPlot(\n",
              "                        'eed95fba-c5d4-4b1d-99aa-c6815e83c3d5',\n",
              "                        [{\"coloraxis\": \"coloraxis\", \"type\": \"heatmap\", \"z\": [[839, 194], [128, 246]]}],\n",
              "                        {\"annotations\": [{\"font\": {\"color\": \"black\", \"size\": 12}, \"showarrow\": false, \"text\": \"839\", \"x\": 0, \"y\": 0}, {\"font\": {\"color\": \"black\", \"size\": 12}, \"showarrow\": false, \"text\": \"194\", \"x\": 1, \"y\": 0}, {\"font\": {\"color\": \"black\", \"size\": 12}, \"showarrow\": false, \"text\": \"128\", \"x\": 0, \"y\": 1}, {\"font\": {\"color\": \"black\", \"size\": 12}, \"showarrow\": false, \"text\": \"246\", \"x\": 1, \"y\": 1}], \"coloraxis\": {\"colorscale\": [[0.0, \"peachpuff\"], [0.5, \"lime\"], [1.0, \"green\"]]}, \"height\": 400, \"margin\": {\"t\": 60}, \"template\": {\"data\": {\"bar\": [{\"error_x\": {\"color\": \"#2a3f5f\"}, \"error_y\": {\"color\": \"#2a3f5f\"}, \"marker\": {\"line\": {\"color\": \"#E5ECF6\", \"width\": 0.5}}, \"type\": \"bar\"}], \"barpolar\": [{\"marker\": {\"line\": {\"color\": \"#E5ECF6\", \"width\": 0.5}}, \"type\": \"barpolar\"}], \"carpet\": [{\"aaxis\": {\"endlinecolor\": \"#2a3f5f\", \"gridcolor\": \"white\", \"linecolor\": \"white\", \"minorgridcolor\": \"white\", \"startlinecolor\": \"#2a3f5f\"}, \"baxis\": {\"endlinecolor\": \"#2a3f5f\", \"gridcolor\": \"white\", \"linecolor\": \"white\", \"minorgridcolor\": \"white\", \"startlinecolor\": \"#2a3f5f\"}, \"type\": \"carpet\"}], \"choropleth\": [{\"colorbar\": {\"outlinewidth\": 0, \"ticks\": \"\"}, \"type\": \"choropleth\"}], \"contour\": [{\"colorbar\": {\"outlinewidth\": 0, \"ticks\": \"\"}, \"colorscale\": [[0.0, \"#0d0887\"], [0.1111111111111111, \"#46039f\"], [0.2222222222222222, \"#7201a8\"], [0.3333333333333333, \"#9c179e\"], [0.4444444444444444, \"#bd3786\"], [0.5555555555555556, \"#d8576b\"], [0.6666666666666666, \"#ed7953\"], [0.7777777777777778, \"#fb9f3a\"], [0.8888888888888888, \"#fdca26\"], [1.0, \"#f0f921\"]], \"type\": \"contour\"}], \"contourcarpet\": [{\"colorbar\": {\"outlinewidth\": 0, \"ticks\": \"\"}, \"type\": \"contourcarpet\"}], \"heatmap\": [{\"colorbar\": {\"outlinewidth\": 0, \"ticks\": \"\"}, \"colorscale\": [[0.0, \"#0d0887\"], [0.1111111111111111, \"#46039f\"], [0.2222222222222222, \"#7201a8\"], [0.3333333333333333, \"#9c179e\"], [0.4444444444444444, \"#bd3786\"], [0.5555555555555556, \"#d8576b\"], [0.6666666666666666, \"#ed7953\"], [0.7777777777777778, \"#fb9f3a\"], [0.8888888888888888, \"#fdca26\"], [1.0, \"#f0f921\"]], \"type\": \"heatmap\"}], \"heatmapgl\": [{\"colorbar\": {\"outlinewidth\": 0, \"ticks\": \"\"}, \"colorscale\": [[0.0, \"#0d0887\"], [0.1111111111111111, \"#46039f\"], [0.2222222222222222, \"#7201a8\"], [0.3333333333333333, \"#9c179e\"], [0.4444444444444444, \"#bd3786\"], [0.5555555555555556, \"#d8576b\"], [0.6666666666666666, \"#ed7953\"], [0.7777777777777778, \"#fb9f3a\"], [0.8888888888888888, \"#fdca26\"], [1.0, \"#f0f921\"]], \"type\": \"heatmapgl\"}], \"histogram\": [{\"marker\": {\"colorbar\": {\"outlinewidth\": 0, \"ticks\": \"\"}}, \"type\": \"histogram\"}], \"histogram2d\": [{\"colorbar\": {\"outlinewidth\": 0, \"ticks\": \"\"}, \"colorscale\": [[0.0, \"#0d0887\"], [0.1111111111111111, \"#46039f\"], [0.2222222222222222, \"#7201a8\"], [0.3333333333333333, \"#9c179e\"], [0.4444444444444444, \"#bd3786\"], [0.5555555555555556, \"#d8576b\"], [0.6666666666666666, \"#ed7953\"], [0.7777777777777778, \"#fb9f3a\"], [0.8888888888888888, \"#fdca26\"], [1.0, \"#f0f921\"]], \"type\": \"histogram2d\"}], \"histogram2dcontour\": [{\"colorbar\": {\"outlinewidth\": 0, \"ticks\": \"\"}, \"colorscale\": [[0.0, \"#0d0887\"], [0.1111111111111111, \"#46039f\"], [0.2222222222222222, \"#7201a8\"], [0.3333333333333333, \"#9c179e\"], [0.4444444444444444, \"#bd3786\"], [0.5555555555555556, \"#d8576b\"], [0.6666666666666666, \"#ed7953\"], [0.7777777777777778, \"#fb9f3a\"], [0.8888888888888888, \"#fdca26\"], [1.0, \"#f0f921\"]], \"type\": \"histogram2dcontour\"}], \"mesh3d\": [{\"colorbar\": {\"outlinewidth\": 0, \"ticks\": \"\"}, \"type\": \"mesh3d\"}], \"parcoords\": [{\"line\": {\"colorbar\": {\"outlinewidth\": 0, \"ticks\": \"\"}}, \"type\": \"parcoords\"}], \"pie\": [{\"automargin\": true, \"type\": \"pie\"}], \"scatter\": [{\"marker\": {\"colorbar\": {\"outlinewidth\": 0, \"ticks\": \"\"}}, \"type\": \"scatter\"}], \"scatter3d\": [{\"line\": {\"colorbar\": {\"outlinewidth\": 0, \"ticks\": \"\"}}, \"marker\": {\"colorbar\": {\"outlinewidth\": 0, \"ticks\": \"\"}}, \"type\": \"scatter3d\"}], \"scattercarpet\": [{\"marker\": {\"colorbar\": {\"outlinewidth\": 0, \"ticks\": \"\"}}, \"type\": \"scattercarpet\"}], \"scattergeo\": [{\"marker\": {\"colorbar\": {\"outlinewidth\": 0, \"ticks\": \"\"}}, \"type\": \"scattergeo\"}], \"scattergl\": [{\"marker\": {\"colorbar\": {\"outlinewidth\": 0, \"ticks\": \"\"}}, \"type\": \"scattergl\"}], \"scattermapbox\": [{\"marker\": {\"colorbar\": {\"outlinewidth\": 0, \"ticks\": \"\"}}, \"type\": \"scattermapbox\"}], \"scatterpolar\": [{\"marker\": {\"colorbar\": {\"outlinewidth\": 0, \"ticks\": \"\"}}, \"type\": \"scatterpolar\"}], \"scatterpolargl\": [{\"marker\": {\"colorbar\": {\"outlinewidth\": 0, \"ticks\": \"\"}}, \"type\": \"scatterpolargl\"}], \"scatterternary\": [{\"marker\": {\"colorbar\": {\"outlinewidth\": 0, \"ticks\": \"\"}}, \"type\": \"scatterternary\"}], \"surface\": [{\"colorbar\": {\"outlinewidth\": 0, \"ticks\": \"\"}, \"colorscale\": [[0.0, \"#0d0887\"], [0.1111111111111111, \"#46039f\"], [0.2222222222222222, \"#7201a8\"], [0.3333333333333333, \"#9c179e\"], [0.4444444444444444, \"#bd3786\"], [0.5555555555555556, \"#d8576b\"], [0.6666666666666666, \"#ed7953\"], [0.7777777777777778, \"#fb9f3a\"], [0.8888888888888888, \"#fdca26\"], [1.0, \"#f0f921\"]], \"type\": \"surface\"}], \"table\": [{\"cells\": {\"fill\": {\"color\": \"#EBF0F8\"}, \"line\": {\"color\": \"white\"}}, \"header\": {\"fill\": {\"color\": \"#C8D4E3\"}, \"line\": {\"color\": \"white\"}}, \"type\": \"table\"}]}, \"layout\": {\"annotationdefaults\": {\"arrowcolor\": \"#2a3f5f\", \"arrowhead\": 0, \"arrowwidth\": 1}, \"coloraxis\": {\"colorbar\": {\"outlinewidth\": 0, \"ticks\": \"\"}}, \"colorscale\": {\"diverging\": [[0, \"#8e0152\"], [0.1, \"#c51b7d\"], [0.2, \"#de77ae\"], [0.3, \"#f1b6da\"], [0.4, \"#fde0ef\"], [0.5, \"#f7f7f7\"], [0.6, \"#e6f5d0\"], [0.7, \"#b8e186\"], [0.8, \"#7fbc41\"], [0.9, \"#4d9221\"], [1, \"#276419\"]], \"sequential\": [[0.0, \"#0d0887\"], [0.1111111111111111, \"#46039f\"], [0.2222222222222222, \"#7201a8\"], [0.3333333333333333, \"#9c179e\"], [0.4444444444444444, \"#bd3786\"], [0.5555555555555556, \"#d8576b\"], [0.6666666666666666, \"#ed7953\"], [0.7777777777777778, \"#fb9f3a\"], [0.8888888888888888, \"#fdca26\"], [1.0, \"#f0f921\"]], \"sequentialminus\": [[0.0, \"#0d0887\"], [0.1111111111111111, \"#46039f\"], [0.2222222222222222, \"#7201a8\"], [0.3333333333333333, \"#9c179e\"], [0.4444444444444444, \"#bd3786\"], [0.5555555555555556, \"#d8576b\"], [0.6666666666666666, \"#ed7953\"], [0.7777777777777778, \"#fb9f3a\"], [0.8888888888888888, \"#fdca26\"], [1.0, \"#f0f921\"]]}, \"colorway\": [\"#636efa\", \"#EF553B\", \"#00cc96\", \"#ab63fa\", \"#FFA15A\", \"#19d3f3\", \"#FF6692\", \"#B6E880\", \"#FF97FF\", \"#FECB52\"], \"font\": {\"color\": \"#2a3f5f\"}, \"geo\": {\"bgcolor\": \"white\", \"lakecolor\": \"white\", \"landcolor\": \"#E5ECF6\", \"showlakes\": true, \"showland\": true, \"subunitcolor\": \"white\"}, \"hoverlabel\": {\"align\": \"left\"}, \"hovermode\": \"closest\", \"mapbox\": {\"style\": \"light\"}, \"paper_bgcolor\": \"white\", \"plot_bgcolor\": \"#E5ECF6\", \"polar\": {\"angularaxis\": {\"gridcolor\": \"white\", \"linecolor\": \"white\", \"ticks\": \"\"}, \"bgcolor\": \"#E5ECF6\", \"radialaxis\": {\"gridcolor\": \"white\", \"linecolor\": \"white\", \"ticks\": \"\"}}, \"scene\": {\"xaxis\": {\"backgroundcolor\": \"#E5ECF6\", \"gridcolor\": \"white\", \"gridwidth\": 2, \"linecolor\": \"white\", \"showbackground\": true, \"ticks\": \"\", \"zerolinecolor\": \"white\"}, \"yaxis\": {\"backgroundcolor\": \"#E5ECF6\", \"gridcolor\": \"white\", \"gridwidth\": 2, \"linecolor\": \"white\", \"showbackground\": true, \"ticks\": \"\", \"zerolinecolor\": \"white\"}, \"zaxis\": {\"backgroundcolor\": \"#E5ECF6\", \"gridcolor\": \"white\", \"gridwidth\": 2, \"linecolor\": \"white\", \"showbackground\": true, \"ticks\": \"\", \"zerolinecolor\": \"white\"}}, \"shapedefaults\": {\"line\": {\"color\": \"#2a3f5f\"}}, \"ternary\": {\"aaxis\": {\"gridcolor\": \"white\", \"linecolor\": \"white\", \"ticks\": \"\"}, \"baxis\": {\"gridcolor\": \"white\", \"linecolor\": \"white\", \"ticks\": \"\"}, \"bgcolor\": \"#E5ECF6\", \"caxis\": {\"gridcolor\": \"white\", \"linecolor\": \"white\", \"ticks\": \"\"}}, \"title\": {\"x\": 0.05}, \"xaxis\": {\"automargin\": true, \"gridcolor\": \"white\", \"linecolor\": \"white\", \"ticks\": \"\", \"title\": {\"standoff\": 15}, \"zerolinecolor\": \"white\", \"zerolinewidth\": 2}, \"yaxis\": {\"automargin\": true, \"gridcolor\": \"white\", \"linecolor\": \"white\", \"ticks\": \"\", \"title\": {\"standoff\": 15}, \"zerolinecolor\": \"white\", \"zerolinewidth\": 2}}}, \"title\": {\"text\": \"Confusion Matrix (RF)\", \"x\": 0.5}, \"width\": 400, \"xaxis\": {\"constrain\": \"domain\", \"dtick\": 1, \"scaleanchor\": \"y\", \"tick0\": 0, \"tickmode\": \"linear\", \"title\": {\"text\": \"Prediction\"}}, \"yaxis\": {\"autorange\": \"reversed\", \"constrain\": \"domain\", \"dtick\": 1, \"tick0\": 0, \"tickmode\": \"linear\", \"title\": {\"text\": \"Truth\"}}},\n",
              "                        {\"responsive\": true}\n",
              "                    ).then(function(){\n",
              "                            \n",
              "var gd = document.getElementById('eed95fba-c5d4-4b1d-99aa-c6815e83c3d5');\n",
              "var x = new MutationObserver(function (mutations, observer) {{\n",
              "        var display = window.getComputedStyle(gd).display;\n",
              "        if (!display || display === 'none') {{\n",
              "            console.log([gd, 'removed!']);\n",
              "            Plotly.purge(gd);\n",
              "            observer.disconnect();\n",
              "        }}\n",
              "}});\n",
              "\n",
              "// Listen for the removal of the full notebook cells\n",
              "var notebookContainer = gd.closest('#notebook-container');\n",
              "if (notebookContainer) {{\n",
              "    x.observe(notebookContainer, {childList: true});\n",
              "}}\n",
              "\n",
              "// Listen for the clearing of the current output cell\n",
              "var outputEl = gd.closest('.output');\n",
              "if (outputEl) {{\n",
              "    x.observe(outputEl, {childList: true});\n",
              "}}\n",
              "\n",
              "                        })\n",
              "                };\n",
              "                \n",
              "            </script>\n",
              "        </div>\n",
              "</body>\n",
              "</html>"
            ]
          },
          "metadata": {}
        }
      ]
    },
    {
      "cell_type": "markdown",
      "source": [
        "### Churn Prediction using Boosting (Adaboost classifier)"
      ],
      "metadata": {
        "id": "MbNfK-Mio2Y8"
      }
    },
    {
      "cell_type": "code",
      "source": [
        "para_ada = {'n_estimators':[40,60,80],\n",
        "            'learning_rate':[0.85,1.0]\n",
        "           }\n",
        "\n",
        "model_ada = GridSearchCV(estimator = AdaBoostClassifier(),   #base_estimator=SVC(probability=True, kernel='linear')\n",
        "                    param_grid = para_ada,\n",
        "                    cv=10,\n",
        "                    verbose=0,\n",
        "                    n_jobs=-1\n",
        "                   )\n",
        "\n",
        "model_ada.fit(train_X_re,train_y_re)"
      ],
      "metadata": {
        "colab": {
          "base_uri": "https://localhost:8080/"
        },
        "id": "etQZm1tpozEP",
        "outputId": "47f8e1b6-e3f7-4f17-82f1-370a8d8efb61"
      },
      "execution_count": 58,
      "outputs": [
        {
          "output_type": "execute_result",
          "data": {
            "text/plain": [
              "GridSearchCV(cv=10, estimator=AdaBoostClassifier(), n_jobs=-1,\n",
              "             param_grid={'learning_rate': [0.85, 1.0],\n",
              "                         'n_estimators': [40, 60, 80]})"
            ]
          },
          "metadata": {},
          "execution_count": 58
        }
      ]
    },
    {
      "cell_type": "code",
      "source": [
        "model_ada.best_params_"
      ],
      "metadata": {
        "colab": {
          "base_uri": "https://localhost:8080/"
        },
        "id": "eFpDxTVUo7GR",
        "outputId": "5926ac38-cba4-484d-dbaa-b112d1bd5c6a"
      },
      "execution_count": 59,
      "outputs": [
        {
          "output_type": "execute_result",
          "data": {
            "text/plain": [
              "{'learning_rate': 1.0, 'n_estimators': 80}"
            ]
          },
          "metadata": {},
          "execution_count": 59
        }
      ]
    },
    {
      "cell_type": "code",
      "source": [
        "cm_ada,cr_ada,auc_score_ada,_  = test_eval(model_ada,test_X,test_y)\n",
        "fpr_ada, tpr_ada, thresh_ada = roc_curve(test_y, model_ada.predict_proba(test_X)[:,1], pos_label = 1)\n",
        "precision_ada, recall_ada, _ = precision_recall_curve(test_y, model_ada.predict_proba(test_X)[:,1],pos_label=1)"
      ],
      "metadata": {
        "colab": {
          "base_uri": "https://localhost:8080/"
        },
        "id": "5YA1IF7Jnzi1",
        "outputId": "8e4f01ad-782e-4c94-a4fb-fadb086bdcf4"
      },
      "execution_count": 60,
      "outputs": [
        {
          "output_type": "stream",
          "name": "stdout",
          "text": [
            "Confusion Matrix\n",
            "====================\n",
            "[[761 272]\n",
            " [ 76 298]] \n",
            "\n",
            "Classification Report\n",
            "====================\n",
            "              precision    recall  f1-score   support\n",
            "\n",
            "           0       0.91      0.74      0.81      1033\n",
            "           1       0.52      0.80      0.63       374\n",
            "\n",
            "    accuracy                           0.75      1407\n",
            "   macro avg       0.72      0.77      0.72      1407\n",
            "weighted avg       0.81      0.75      0.77      1407\n",
            "\n"
          ]
        }
      ]
    },
    {
      "cell_type": "code",
      "source": [
        "plot_cmatrix(cm_dt, name='ADA')"
      ],
      "metadata": {
        "colab": {
          "base_uri": "https://localhost:8080/",
          "height": 417
        },
        "id": "X5RWt2RapADg",
        "outputId": "5f25ef25-ad5c-47d6-9db5-74e35198901a"
      },
      "execution_count": 61,
      "outputs": [
        {
          "output_type": "display_data",
          "data": {
            "text/html": [
              "<html>\n",
              "<head><meta charset=\"utf-8\" /></head>\n",
              "<body>\n",
              "    <div>\n",
              "            <script src=\"https://cdnjs.cloudflare.com/ajax/libs/mathjax/2.7.5/MathJax.js?config=TeX-AMS-MML_SVG\"></script><script type=\"text/javascript\">if (window.MathJax) {MathJax.Hub.Config({SVG: {font: \"STIX-Web\"}});}</script>\n",
              "                <script type=\"text/javascript\">window.PlotlyConfig = {MathJaxConfig: 'local'};</script>\n",
              "        <script src=\"https://cdn.plot.ly/plotly-latest.min.js\"></script>    \n",
              "            <div id=\"f76b88ab-c2dd-451c-9875-ce8e6d22d229\" class=\"plotly-graph-div\" style=\"height:400px; width:400px;\"></div>\n",
              "            <script type=\"text/javascript\">\n",
              "                \n",
              "                    window.PLOTLYENV=window.PLOTLYENV || {};\n",
              "                    \n",
              "                if (document.getElementById(\"f76b88ab-c2dd-451c-9875-ce8e6d22d229\")) {\n",
              "                    Plotly.newPlot(\n",
              "                        'f76b88ab-c2dd-451c-9875-ce8e6d22d229',\n",
              "                        [{\"coloraxis\": \"coloraxis\", \"type\": \"heatmap\", \"z\": [[726, 307], [105, 269]]}],\n",
              "                        {\"annotations\": [{\"font\": {\"color\": \"black\", \"size\": 12}, \"showarrow\": false, \"text\": \"726\", \"x\": 0, \"y\": 0}, {\"font\": {\"color\": \"black\", \"size\": 12}, \"showarrow\": false, \"text\": \"307\", \"x\": 1, \"y\": 0}, {\"font\": {\"color\": \"black\", \"size\": 12}, \"showarrow\": false, \"text\": \"105\", \"x\": 0, \"y\": 1}, {\"font\": {\"color\": \"black\", \"size\": 12}, \"showarrow\": false, \"text\": \"269\", \"x\": 1, \"y\": 1}], \"coloraxis\": {\"colorscale\": [[0.0, \"peachpuff\"], [0.5, \"lime\"], [1.0, \"green\"]]}, \"height\": 400, \"margin\": {\"t\": 60}, \"template\": {\"data\": {\"bar\": [{\"error_x\": {\"color\": \"#2a3f5f\"}, \"error_y\": {\"color\": \"#2a3f5f\"}, \"marker\": {\"line\": {\"color\": \"#E5ECF6\", \"width\": 0.5}}, \"type\": \"bar\"}], \"barpolar\": [{\"marker\": {\"line\": {\"color\": \"#E5ECF6\", \"width\": 0.5}}, \"type\": \"barpolar\"}], \"carpet\": [{\"aaxis\": {\"endlinecolor\": \"#2a3f5f\", \"gridcolor\": \"white\", \"linecolor\": \"white\", \"minorgridcolor\": \"white\", \"startlinecolor\": \"#2a3f5f\"}, \"baxis\": {\"endlinecolor\": \"#2a3f5f\", \"gridcolor\": \"white\", \"linecolor\": \"white\", \"minorgridcolor\": \"white\", \"startlinecolor\": \"#2a3f5f\"}, \"type\": \"carpet\"}], \"choropleth\": [{\"colorbar\": {\"outlinewidth\": 0, \"ticks\": \"\"}, \"type\": \"choropleth\"}], \"contour\": [{\"colorbar\": {\"outlinewidth\": 0, \"ticks\": \"\"}, \"colorscale\": [[0.0, \"#0d0887\"], [0.1111111111111111, \"#46039f\"], [0.2222222222222222, \"#7201a8\"], [0.3333333333333333, \"#9c179e\"], [0.4444444444444444, \"#bd3786\"], [0.5555555555555556, \"#d8576b\"], [0.6666666666666666, \"#ed7953\"], [0.7777777777777778, \"#fb9f3a\"], [0.8888888888888888, \"#fdca26\"], [1.0, \"#f0f921\"]], \"type\": \"contour\"}], \"contourcarpet\": [{\"colorbar\": {\"outlinewidth\": 0, \"ticks\": \"\"}, \"type\": \"contourcarpet\"}], \"heatmap\": [{\"colorbar\": {\"outlinewidth\": 0, \"ticks\": \"\"}, \"colorscale\": [[0.0, \"#0d0887\"], [0.1111111111111111, \"#46039f\"], [0.2222222222222222, \"#7201a8\"], [0.3333333333333333, \"#9c179e\"], [0.4444444444444444, \"#bd3786\"], [0.5555555555555556, \"#d8576b\"], [0.6666666666666666, \"#ed7953\"], [0.7777777777777778, \"#fb9f3a\"], [0.8888888888888888, \"#fdca26\"], [1.0, \"#f0f921\"]], \"type\": \"heatmap\"}], \"heatmapgl\": [{\"colorbar\": {\"outlinewidth\": 0, \"ticks\": \"\"}, \"colorscale\": [[0.0, \"#0d0887\"], [0.1111111111111111, \"#46039f\"], [0.2222222222222222, \"#7201a8\"], [0.3333333333333333, \"#9c179e\"], [0.4444444444444444, \"#bd3786\"], [0.5555555555555556, \"#d8576b\"], [0.6666666666666666, \"#ed7953\"], [0.7777777777777778, \"#fb9f3a\"], [0.8888888888888888, \"#fdca26\"], [1.0, \"#f0f921\"]], \"type\": \"heatmapgl\"}], \"histogram\": [{\"marker\": {\"colorbar\": {\"outlinewidth\": 0, \"ticks\": \"\"}}, \"type\": \"histogram\"}], \"histogram2d\": [{\"colorbar\": {\"outlinewidth\": 0, \"ticks\": \"\"}, \"colorscale\": [[0.0, \"#0d0887\"], [0.1111111111111111, \"#46039f\"], [0.2222222222222222, \"#7201a8\"], [0.3333333333333333, \"#9c179e\"], [0.4444444444444444, \"#bd3786\"], [0.5555555555555556, \"#d8576b\"], [0.6666666666666666, \"#ed7953\"], [0.7777777777777778, \"#fb9f3a\"], [0.8888888888888888, \"#fdca26\"], [1.0, \"#f0f921\"]], \"type\": \"histogram2d\"}], \"histogram2dcontour\": [{\"colorbar\": {\"outlinewidth\": 0, \"ticks\": \"\"}, \"colorscale\": [[0.0, \"#0d0887\"], [0.1111111111111111, \"#46039f\"], [0.2222222222222222, \"#7201a8\"], [0.3333333333333333, \"#9c179e\"], [0.4444444444444444, \"#bd3786\"], [0.5555555555555556, \"#d8576b\"], [0.6666666666666666, \"#ed7953\"], [0.7777777777777778, \"#fb9f3a\"], [0.8888888888888888, \"#fdca26\"], [1.0, \"#f0f921\"]], \"type\": \"histogram2dcontour\"}], \"mesh3d\": [{\"colorbar\": {\"outlinewidth\": 0, \"ticks\": \"\"}, \"type\": \"mesh3d\"}], \"parcoords\": [{\"line\": {\"colorbar\": {\"outlinewidth\": 0, \"ticks\": \"\"}}, \"type\": \"parcoords\"}], \"pie\": [{\"automargin\": true, \"type\": \"pie\"}], \"scatter\": [{\"marker\": {\"colorbar\": {\"outlinewidth\": 0, \"ticks\": \"\"}}, \"type\": \"scatter\"}], \"scatter3d\": [{\"line\": {\"colorbar\": {\"outlinewidth\": 0, \"ticks\": \"\"}}, \"marker\": {\"colorbar\": {\"outlinewidth\": 0, \"ticks\": \"\"}}, \"type\": \"scatter3d\"}], \"scattercarpet\": [{\"marker\": {\"colorbar\": {\"outlinewidth\": 0, \"ticks\": \"\"}}, \"type\": \"scattercarpet\"}], \"scattergeo\": [{\"marker\": {\"colorbar\": {\"outlinewidth\": 0, \"ticks\": \"\"}}, \"type\": \"scattergeo\"}], \"scattergl\": [{\"marker\": {\"colorbar\": {\"outlinewidth\": 0, \"ticks\": \"\"}}, \"type\": \"scattergl\"}], \"scattermapbox\": [{\"marker\": {\"colorbar\": {\"outlinewidth\": 0, \"ticks\": \"\"}}, \"type\": \"scattermapbox\"}], \"scatterpolar\": [{\"marker\": {\"colorbar\": {\"outlinewidth\": 0, \"ticks\": \"\"}}, \"type\": \"scatterpolar\"}], \"scatterpolargl\": [{\"marker\": {\"colorbar\": {\"outlinewidth\": 0, \"ticks\": \"\"}}, \"type\": \"scatterpolargl\"}], \"scatterternary\": [{\"marker\": {\"colorbar\": {\"outlinewidth\": 0, \"ticks\": \"\"}}, \"type\": \"scatterternary\"}], \"surface\": [{\"colorbar\": {\"outlinewidth\": 0, \"ticks\": \"\"}, \"colorscale\": [[0.0, \"#0d0887\"], [0.1111111111111111, \"#46039f\"], [0.2222222222222222, \"#7201a8\"], [0.3333333333333333, \"#9c179e\"], [0.4444444444444444, \"#bd3786\"], [0.5555555555555556, \"#d8576b\"], [0.6666666666666666, \"#ed7953\"], [0.7777777777777778, \"#fb9f3a\"], [0.8888888888888888, \"#fdca26\"], [1.0, \"#f0f921\"]], \"type\": \"surface\"}], \"table\": [{\"cells\": {\"fill\": {\"color\": \"#EBF0F8\"}, \"line\": {\"color\": \"white\"}}, \"header\": {\"fill\": {\"color\": \"#C8D4E3\"}, \"line\": {\"color\": \"white\"}}, \"type\": \"table\"}]}, \"layout\": {\"annotationdefaults\": {\"arrowcolor\": \"#2a3f5f\", \"arrowhead\": 0, \"arrowwidth\": 1}, \"coloraxis\": {\"colorbar\": {\"outlinewidth\": 0, \"ticks\": \"\"}}, \"colorscale\": {\"diverging\": [[0, \"#8e0152\"], [0.1, \"#c51b7d\"], [0.2, \"#de77ae\"], [0.3, \"#f1b6da\"], [0.4, \"#fde0ef\"], [0.5, \"#f7f7f7\"], [0.6, \"#e6f5d0\"], [0.7, \"#b8e186\"], [0.8, \"#7fbc41\"], [0.9, \"#4d9221\"], [1, \"#276419\"]], \"sequential\": [[0.0, \"#0d0887\"], [0.1111111111111111, \"#46039f\"], [0.2222222222222222, \"#7201a8\"], [0.3333333333333333, \"#9c179e\"], [0.4444444444444444, \"#bd3786\"], [0.5555555555555556, \"#d8576b\"], [0.6666666666666666, \"#ed7953\"], [0.7777777777777778, \"#fb9f3a\"], [0.8888888888888888, \"#fdca26\"], [1.0, \"#f0f921\"]], \"sequentialminus\": [[0.0, \"#0d0887\"], [0.1111111111111111, \"#46039f\"], [0.2222222222222222, \"#7201a8\"], [0.3333333333333333, \"#9c179e\"], [0.4444444444444444, \"#bd3786\"], [0.5555555555555556, \"#d8576b\"], [0.6666666666666666, \"#ed7953\"], [0.7777777777777778, \"#fb9f3a\"], [0.8888888888888888, \"#fdca26\"], [1.0, \"#f0f921\"]]}, \"colorway\": [\"#636efa\", \"#EF553B\", \"#00cc96\", \"#ab63fa\", \"#FFA15A\", \"#19d3f3\", \"#FF6692\", \"#B6E880\", \"#FF97FF\", \"#FECB52\"], \"font\": {\"color\": \"#2a3f5f\"}, \"geo\": {\"bgcolor\": \"white\", \"lakecolor\": \"white\", \"landcolor\": \"#E5ECF6\", \"showlakes\": true, \"showland\": true, \"subunitcolor\": \"white\"}, \"hoverlabel\": {\"align\": \"left\"}, \"hovermode\": \"closest\", \"mapbox\": {\"style\": \"light\"}, \"paper_bgcolor\": \"white\", \"plot_bgcolor\": \"#E5ECF6\", \"polar\": {\"angularaxis\": {\"gridcolor\": \"white\", \"linecolor\": \"white\", \"ticks\": \"\"}, \"bgcolor\": \"#E5ECF6\", \"radialaxis\": {\"gridcolor\": \"white\", \"linecolor\": \"white\", \"ticks\": \"\"}}, \"scene\": {\"xaxis\": {\"backgroundcolor\": \"#E5ECF6\", \"gridcolor\": \"white\", \"gridwidth\": 2, \"linecolor\": \"white\", \"showbackground\": true, \"ticks\": \"\", \"zerolinecolor\": \"white\"}, \"yaxis\": {\"backgroundcolor\": \"#E5ECF6\", \"gridcolor\": \"white\", \"gridwidth\": 2, \"linecolor\": \"white\", \"showbackground\": true, \"ticks\": \"\", \"zerolinecolor\": \"white\"}, \"zaxis\": {\"backgroundcolor\": \"#E5ECF6\", \"gridcolor\": \"white\", \"gridwidth\": 2, \"linecolor\": \"white\", \"showbackground\": true, \"ticks\": \"\", \"zerolinecolor\": \"white\"}}, \"shapedefaults\": {\"line\": {\"color\": \"#2a3f5f\"}}, \"ternary\": {\"aaxis\": {\"gridcolor\": \"white\", \"linecolor\": \"white\", \"ticks\": \"\"}, \"baxis\": {\"gridcolor\": \"white\", \"linecolor\": \"white\", \"ticks\": \"\"}, \"bgcolor\": \"#E5ECF6\", \"caxis\": {\"gridcolor\": \"white\", \"linecolor\": \"white\", \"ticks\": \"\"}}, \"title\": {\"x\": 0.05}, \"xaxis\": {\"automargin\": true, \"gridcolor\": \"white\", \"linecolor\": \"white\", \"ticks\": \"\", \"title\": {\"standoff\": 15}, \"zerolinecolor\": \"white\", \"zerolinewidth\": 2}, \"yaxis\": {\"automargin\": true, \"gridcolor\": \"white\", \"linecolor\": \"white\", \"ticks\": \"\", \"title\": {\"standoff\": 15}, \"zerolinecolor\": \"white\", \"zerolinewidth\": 2}}}, \"title\": {\"text\": \"Confusion Matrix (ADA)\", \"x\": 0.5}, \"width\": 400, \"xaxis\": {\"constrain\": \"domain\", \"dtick\": 1, \"scaleanchor\": \"y\", \"tick0\": 0, \"tickmode\": \"linear\", \"title\": {\"text\": \"Prediction\"}}, \"yaxis\": {\"autorange\": \"reversed\", \"constrain\": \"domain\", \"dtick\": 1, \"tick0\": 0, \"tickmode\": \"linear\", \"title\": {\"text\": \"Truth\"}}},\n",
              "                        {\"responsive\": true}\n",
              "                    ).then(function(){\n",
              "                            \n",
              "var gd = document.getElementById('f76b88ab-c2dd-451c-9875-ce8e6d22d229');\n",
              "var x = new MutationObserver(function (mutations, observer) {{\n",
              "        var display = window.getComputedStyle(gd).display;\n",
              "        if (!display || display === 'none') {{\n",
              "            console.log([gd, 'removed!']);\n",
              "            Plotly.purge(gd);\n",
              "            observer.disconnect();\n",
              "        }}\n",
              "}});\n",
              "\n",
              "// Listen for the removal of the full notebook cells\n",
              "var notebookContainer = gd.closest('#notebook-container');\n",
              "if (notebookContainer) {{\n",
              "    x.observe(notebookContainer, {childList: true});\n",
              "}}\n",
              "\n",
              "// Listen for the clearing of the current output cell\n",
              "var outputEl = gd.closest('.output');\n",
              "if (outputEl) {{\n",
              "    x.observe(outputEl, {childList: true});\n",
              "}}\n",
              "\n",
              "                        })\n",
              "                };\n",
              "                \n",
              "            </script>\n",
              "        </div>\n",
              "</body>\n",
              "</html>"
            ]
          },
          "metadata": {}
        }
      ]
    },
    {
      "cell_type": "markdown",
      "source": [
        "## Churn Prediction using Stochastic Gradient Boosting"
      ],
      "metadata": {
        "id": "UGDoazdCpIV7"
      }
    },
    {
      "cell_type": "code",
      "source": [
        "para_sgb = {'n_estimators':[100,200],\n",
        "            'learning_rate':[0.5,1.0],\n",
        "            'subsample':[0.5,1.0],\n",
        "            'max_features':['auto', 'sqrt', 'log2']\n",
        "           }\n",
        "\n",
        "model_sgb = GridSearchCV(estimator = GradientBoostingClassifier(),\n",
        "                    param_grid = para_sgb,\n",
        "                    cv=10,\n",
        "                    verbose=0,\n",
        "                    n_jobs=-1\n",
        "                   )\n",
        "\n",
        "model_sgb.fit(train_X_re,train_y_re)"
      ],
      "metadata": {
        "colab": {
          "base_uri": "https://localhost:8080/"
        },
        "id": "WywDxuDwpAGf",
        "outputId": "6d49a1d6-989a-4630-92ea-80ba287207e0"
      },
      "execution_count": 62,
      "outputs": [
        {
          "output_type": "execute_result",
          "data": {
            "text/plain": [
              "GridSearchCV(cv=10, estimator=GradientBoostingClassifier(), n_jobs=-1,\n",
              "             param_grid={'learning_rate': [0.5, 1.0],\n",
              "                         'max_features': ['auto', 'sqrt', 'log2'],\n",
              "                         'n_estimators': [100, 200], 'subsample': [0.5, 1.0]})"
            ]
          },
          "metadata": {},
          "execution_count": 62
        }
      ]
    },
    {
      "cell_type": "code",
      "source": [
        "model_sgb.best_params_"
      ],
      "metadata": {
        "colab": {
          "base_uri": "https://localhost:8080/"
        },
        "id": "za07XgflpJPC",
        "outputId": "6d7c9d29-777e-402f-d6f5-6e455e06b9cc"
      },
      "execution_count": 63,
      "outputs": [
        {
          "output_type": "execute_result",
          "data": {
            "text/plain": [
              "{'learning_rate': 0.5,\n",
              " 'max_features': 'auto',\n",
              " 'n_estimators': 200,\n",
              " 'subsample': 1.0}"
            ]
          },
          "metadata": {},
          "execution_count": 63
        }
      ]
    },
    {
      "cell_type": "code",
      "source": [
        "cm_sgb,cr_sgb,auc_score_sgb,_  = test_eval(model_sgb,test_X,test_y)\n",
        "fpr_sgb, tpr_sgb, thresh_sgb = roc_curve(test_y, model_sgb.predict_proba(test_X)[:,1], pos_label = 1)\n",
        "precision_sgb, recall_sgb, _ = precision_recall_curve(test_y, model_sgb.predict_proba(test_X)[:,1],pos_label=1)"
      ],
      "metadata": {
        "colab": {
          "base_uri": "https://localhost:8080/"
        },
        "id": "S4fMaFeDpOm7",
        "outputId": "210e7b74-d436-4e06-b439-55c61244bdf4"
      },
      "execution_count": 64,
      "outputs": [
        {
          "output_type": "stream",
          "name": "stdout",
          "text": [
            "Confusion Matrix\n",
            "====================\n",
            "[[848 185]\n",
            " [149 225]] \n",
            "\n",
            "Classification Report\n",
            "====================\n",
            "              precision    recall  f1-score   support\n",
            "\n",
            "           0       0.85      0.82      0.84      1033\n",
            "           1       0.55      0.60      0.57       374\n",
            "\n",
            "    accuracy                           0.76      1407\n",
            "   macro avg       0.70      0.71      0.70      1407\n",
            "weighted avg       0.77      0.76      0.77      1407\n",
            "\n"
          ]
        }
      ]
    },
    {
      "cell_type": "code",
      "source": [
        "plot_cmatrix(cm_sgb, name='SGB')"
      ],
      "metadata": {
        "colab": {
          "base_uri": "https://localhost:8080/",
          "height": 417
        },
        "id": "u0mkMkVepWRU",
        "outputId": "855b4f6b-96ad-4213-82b8-9712063e8b11"
      },
      "execution_count": 65,
      "outputs": [
        {
          "output_type": "display_data",
          "data": {
            "text/html": [
              "<html>\n",
              "<head><meta charset=\"utf-8\" /></head>\n",
              "<body>\n",
              "    <div>\n",
              "            <script src=\"https://cdnjs.cloudflare.com/ajax/libs/mathjax/2.7.5/MathJax.js?config=TeX-AMS-MML_SVG\"></script><script type=\"text/javascript\">if (window.MathJax) {MathJax.Hub.Config({SVG: {font: \"STIX-Web\"}});}</script>\n",
              "                <script type=\"text/javascript\">window.PlotlyConfig = {MathJaxConfig: 'local'};</script>\n",
              "        <script src=\"https://cdn.plot.ly/plotly-latest.min.js\"></script>    \n",
              "            <div id=\"55606bc5-0017-45d2-bb3b-2212478bc069\" class=\"plotly-graph-div\" style=\"height:400px; width:400px;\"></div>\n",
              "            <script type=\"text/javascript\">\n",
              "                \n",
              "                    window.PLOTLYENV=window.PLOTLYENV || {};\n",
              "                    \n",
              "                if (document.getElementById(\"55606bc5-0017-45d2-bb3b-2212478bc069\")) {\n",
              "                    Plotly.newPlot(\n",
              "                        '55606bc5-0017-45d2-bb3b-2212478bc069',\n",
              "                        [{\"coloraxis\": \"coloraxis\", \"type\": \"heatmap\", \"z\": [[848, 185], [149, 225]]}],\n",
              "                        {\"annotations\": [{\"font\": {\"color\": \"black\", \"size\": 12}, \"showarrow\": false, \"text\": \"848\", \"x\": 0, \"y\": 0}, {\"font\": {\"color\": \"black\", \"size\": 12}, \"showarrow\": false, \"text\": \"185\", \"x\": 1, \"y\": 0}, {\"font\": {\"color\": \"black\", \"size\": 12}, \"showarrow\": false, \"text\": \"149\", \"x\": 0, \"y\": 1}, {\"font\": {\"color\": \"black\", \"size\": 12}, \"showarrow\": false, \"text\": \"225\", \"x\": 1, \"y\": 1}], \"coloraxis\": {\"colorscale\": [[0.0, \"peachpuff\"], [0.5, \"lime\"], [1.0, \"green\"]]}, \"height\": 400, \"margin\": {\"t\": 60}, \"template\": {\"data\": {\"bar\": [{\"error_x\": {\"color\": \"#2a3f5f\"}, \"error_y\": {\"color\": \"#2a3f5f\"}, \"marker\": {\"line\": {\"color\": \"#E5ECF6\", \"width\": 0.5}}, \"type\": \"bar\"}], \"barpolar\": [{\"marker\": {\"line\": {\"color\": \"#E5ECF6\", \"width\": 0.5}}, \"type\": \"barpolar\"}], \"carpet\": [{\"aaxis\": {\"endlinecolor\": \"#2a3f5f\", \"gridcolor\": \"white\", \"linecolor\": \"white\", \"minorgridcolor\": \"white\", \"startlinecolor\": \"#2a3f5f\"}, \"baxis\": {\"endlinecolor\": \"#2a3f5f\", \"gridcolor\": \"white\", \"linecolor\": \"white\", \"minorgridcolor\": \"white\", \"startlinecolor\": \"#2a3f5f\"}, \"type\": \"carpet\"}], \"choropleth\": [{\"colorbar\": {\"outlinewidth\": 0, \"ticks\": \"\"}, \"type\": \"choropleth\"}], \"contour\": [{\"colorbar\": {\"outlinewidth\": 0, \"ticks\": \"\"}, \"colorscale\": [[0.0, \"#0d0887\"], [0.1111111111111111, \"#46039f\"], [0.2222222222222222, \"#7201a8\"], [0.3333333333333333, \"#9c179e\"], [0.4444444444444444, \"#bd3786\"], [0.5555555555555556, \"#d8576b\"], [0.6666666666666666, \"#ed7953\"], [0.7777777777777778, \"#fb9f3a\"], [0.8888888888888888, \"#fdca26\"], [1.0, \"#f0f921\"]], \"type\": \"contour\"}], \"contourcarpet\": [{\"colorbar\": {\"outlinewidth\": 0, \"ticks\": \"\"}, \"type\": \"contourcarpet\"}], \"heatmap\": [{\"colorbar\": {\"outlinewidth\": 0, \"ticks\": \"\"}, \"colorscale\": [[0.0, \"#0d0887\"], [0.1111111111111111, \"#46039f\"], [0.2222222222222222, \"#7201a8\"], [0.3333333333333333, \"#9c179e\"], [0.4444444444444444, \"#bd3786\"], [0.5555555555555556, \"#d8576b\"], [0.6666666666666666, \"#ed7953\"], [0.7777777777777778, \"#fb9f3a\"], [0.8888888888888888, \"#fdca26\"], [1.0, \"#f0f921\"]], \"type\": \"heatmap\"}], \"heatmapgl\": [{\"colorbar\": {\"outlinewidth\": 0, \"ticks\": \"\"}, \"colorscale\": [[0.0, \"#0d0887\"], [0.1111111111111111, \"#46039f\"], [0.2222222222222222, \"#7201a8\"], [0.3333333333333333, \"#9c179e\"], [0.4444444444444444, \"#bd3786\"], [0.5555555555555556, \"#d8576b\"], [0.6666666666666666, \"#ed7953\"], [0.7777777777777778, \"#fb9f3a\"], [0.8888888888888888, \"#fdca26\"], [1.0, \"#f0f921\"]], \"type\": \"heatmapgl\"}], \"histogram\": [{\"marker\": {\"colorbar\": {\"outlinewidth\": 0, \"ticks\": \"\"}}, \"type\": \"histogram\"}], \"histogram2d\": [{\"colorbar\": {\"outlinewidth\": 0, \"ticks\": \"\"}, \"colorscale\": [[0.0, \"#0d0887\"], [0.1111111111111111, \"#46039f\"], [0.2222222222222222, \"#7201a8\"], [0.3333333333333333, \"#9c179e\"], [0.4444444444444444, \"#bd3786\"], [0.5555555555555556, \"#d8576b\"], [0.6666666666666666, \"#ed7953\"], [0.7777777777777778, \"#fb9f3a\"], [0.8888888888888888, \"#fdca26\"], [1.0, \"#f0f921\"]], \"type\": \"histogram2d\"}], \"histogram2dcontour\": [{\"colorbar\": {\"outlinewidth\": 0, \"ticks\": \"\"}, \"colorscale\": [[0.0, \"#0d0887\"], [0.1111111111111111, \"#46039f\"], [0.2222222222222222, \"#7201a8\"], [0.3333333333333333, \"#9c179e\"], [0.4444444444444444, \"#bd3786\"], [0.5555555555555556, \"#d8576b\"], [0.6666666666666666, \"#ed7953\"], [0.7777777777777778, \"#fb9f3a\"], [0.8888888888888888, \"#fdca26\"], [1.0, \"#f0f921\"]], \"type\": \"histogram2dcontour\"}], \"mesh3d\": [{\"colorbar\": {\"outlinewidth\": 0, \"ticks\": \"\"}, \"type\": \"mesh3d\"}], \"parcoords\": [{\"line\": {\"colorbar\": {\"outlinewidth\": 0, \"ticks\": \"\"}}, \"type\": \"parcoords\"}], \"pie\": [{\"automargin\": true, \"type\": \"pie\"}], \"scatter\": [{\"marker\": {\"colorbar\": {\"outlinewidth\": 0, \"ticks\": \"\"}}, \"type\": \"scatter\"}], \"scatter3d\": [{\"line\": {\"colorbar\": {\"outlinewidth\": 0, \"ticks\": \"\"}}, \"marker\": {\"colorbar\": {\"outlinewidth\": 0, \"ticks\": \"\"}}, \"type\": \"scatter3d\"}], \"scattercarpet\": [{\"marker\": {\"colorbar\": {\"outlinewidth\": 0, \"ticks\": \"\"}}, \"type\": \"scattercarpet\"}], \"scattergeo\": [{\"marker\": {\"colorbar\": {\"outlinewidth\": 0, \"ticks\": \"\"}}, \"type\": \"scattergeo\"}], \"scattergl\": [{\"marker\": {\"colorbar\": {\"outlinewidth\": 0, \"ticks\": \"\"}}, \"type\": \"scattergl\"}], \"scattermapbox\": [{\"marker\": {\"colorbar\": {\"outlinewidth\": 0, \"ticks\": \"\"}}, \"type\": \"scattermapbox\"}], \"scatterpolar\": [{\"marker\": {\"colorbar\": {\"outlinewidth\": 0, \"ticks\": \"\"}}, \"type\": \"scatterpolar\"}], \"scatterpolargl\": [{\"marker\": {\"colorbar\": {\"outlinewidth\": 0, \"ticks\": \"\"}}, \"type\": \"scatterpolargl\"}], \"scatterternary\": [{\"marker\": {\"colorbar\": {\"outlinewidth\": 0, \"ticks\": \"\"}}, \"type\": \"scatterternary\"}], \"surface\": [{\"colorbar\": {\"outlinewidth\": 0, \"ticks\": \"\"}, \"colorscale\": [[0.0, \"#0d0887\"], [0.1111111111111111, \"#46039f\"], [0.2222222222222222, \"#7201a8\"], [0.3333333333333333, \"#9c179e\"], [0.4444444444444444, \"#bd3786\"], [0.5555555555555556, \"#d8576b\"], [0.6666666666666666, \"#ed7953\"], [0.7777777777777778, \"#fb9f3a\"], [0.8888888888888888, \"#fdca26\"], [1.0, \"#f0f921\"]], \"type\": \"surface\"}], \"table\": [{\"cells\": {\"fill\": {\"color\": \"#EBF0F8\"}, \"line\": {\"color\": \"white\"}}, \"header\": {\"fill\": {\"color\": \"#C8D4E3\"}, \"line\": {\"color\": \"white\"}}, \"type\": \"table\"}]}, \"layout\": {\"annotationdefaults\": {\"arrowcolor\": \"#2a3f5f\", \"arrowhead\": 0, \"arrowwidth\": 1}, \"coloraxis\": {\"colorbar\": {\"outlinewidth\": 0, \"ticks\": \"\"}}, \"colorscale\": {\"diverging\": [[0, \"#8e0152\"], [0.1, \"#c51b7d\"], [0.2, \"#de77ae\"], [0.3, \"#f1b6da\"], [0.4, \"#fde0ef\"], [0.5, \"#f7f7f7\"], [0.6, \"#e6f5d0\"], [0.7, \"#b8e186\"], [0.8, \"#7fbc41\"], [0.9, \"#4d9221\"], [1, \"#276419\"]], \"sequential\": [[0.0, \"#0d0887\"], [0.1111111111111111, \"#46039f\"], [0.2222222222222222, \"#7201a8\"], [0.3333333333333333, \"#9c179e\"], [0.4444444444444444, \"#bd3786\"], [0.5555555555555556, \"#d8576b\"], [0.6666666666666666, \"#ed7953\"], [0.7777777777777778, \"#fb9f3a\"], [0.8888888888888888, \"#fdca26\"], [1.0, \"#f0f921\"]], \"sequentialminus\": [[0.0, \"#0d0887\"], [0.1111111111111111, \"#46039f\"], [0.2222222222222222, \"#7201a8\"], [0.3333333333333333, \"#9c179e\"], [0.4444444444444444, \"#bd3786\"], [0.5555555555555556, \"#d8576b\"], [0.6666666666666666, \"#ed7953\"], [0.7777777777777778, \"#fb9f3a\"], [0.8888888888888888, \"#fdca26\"], [1.0, \"#f0f921\"]]}, \"colorway\": [\"#636efa\", \"#EF553B\", \"#00cc96\", \"#ab63fa\", \"#FFA15A\", \"#19d3f3\", \"#FF6692\", \"#B6E880\", \"#FF97FF\", \"#FECB52\"], \"font\": {\"color\": \"#2a3f5f\"}, \"geo\": {\"bgcolor\": \"white\", \"lakecolor\": \"white\", \"landcolor\": \"#E5ECF6\", \"showlakes\": true, \"showland\": true, \"subunitcolor\": \"white\"}, \"hoverlabel\": {\"align\": \"left\"}, \"hovermode\": \"closest\", \"mapbox\": {\"style\": \"light\"}, \"paper_bgcolor\": \"white\", \"plot_bgcolor\": \"#E5ECF6\", \"polar\": {\"angularaxis\": {\"gridcolor\": \"white\", \"linecolor\": \"white\", \"ticks\": \"\"}, \"bgcolor\": \"#E5ECF6\", \"radialaxis\": {\"gridcolor\": \"white\", \"linecolor\": \"white\", \"ticks\": \"\"}}, \"scene\": {\"xaxis\": {\"backgroundcolor\": \"#E5ECF6\", \"gridcolor\": \"white\", \"gridwidth\": 2, \"linecolor\": \"white\", \"showbackground\": true, \"ticks\": \"\", \"zerolinecolor\": \"white\"}, \"yaxis\": {\"backgroundcolor\": \"#E5ECF6\", \"gridcolor\": \"white\", \"gridwidth\": 2, \"linecolor\": \"white\", \"showbackground\": true, \"ticks\": \"\", \"zerolinecolor\": \"white\"}, \"zaxis\": {\"backgroundcolor\": \"#E5ECF6\", \"gridcolor\": \"white\", \"gridwidth\": 2, \"linecolor\": \"white\", \"showbackground\": true, \"ticks\": \"\", \"zerolinecolor\": \"white\"}}, \"shapedefaults\": {\"line\": {\"color\": \"#2a3f5f\"}}, \"ternary\": {\"aaxis\": {\"gridcolor\": \"white\", \"linecolor\": \"white\", \"ticks\": \"\"}, \"baxis\": {\"gridcolor\": \"white\", \"linecolor\": \"white\", \"ticks\": \"\"}, \"bgcolor\": \"#E5ECF6\", \"caxis\": {\"gridcolor\": \"white\", \"linecolor\": \"white\", \"ticks\": \"\"}}, \"title\": {\"x\": 0.05}, \"xaxis\": {\"automargin\": true, \"gridcolor\": \"white\", \"linecolor\": \"white\", \"ticks\": \"\", \"title\": {\"standoff\": 15}, \"zerolinecolor\": \"white\", \"zerolinewidth\": 2}, \"yaxis\": {\"automargin\": true, \"gridcolor\": \"white\", \"linecolor\": \"white\", \"ticks\": \"\", \"title\": {\"standoff\": 15}, \"zerolinecolor\": \"white\", \"zerolinewidth\": 2}}}, \"title\": {\"text\": \"Confusion Matrix (SGB)\", \"x\": 0.5}, \"width\": 400, \"xaxis\": {\"constrain\": \"domain\", \"dtick\": 1, \"scaleanchor\": \"y\", \"tick0\": 0, \"tickmode\": \"linear\", \"title\": {\"text\": \"Prediction\"}}, \"yaxis\": {\"autorange\": \"reversed\", \"constrain\": \"domain\", \"dtick\": 1, \"tick0\": 0, \"tickmode\": \"linear\", \"title\": {\"text\": \"Truth\"}}},\n",
              "                        {\"responsive\": true}\n",
              "                    ).then(function(){\n",
              "                            \n",
              "var gd = document.getElementById('55606bc5-0017-45d2-bb3b-2212478bc069');\n",
              "var x = new MutationObserver(function (mutations, observer) {{\n",
              "        var display = window.getComputedStyle(gd).display;\n",
              "        if (!display || display === 'none') {{\n",
              "            console.log([gd, 'removed!']);\n",
              "            Plotly.purge(gd);\n",
              "            observer.disconnect();\n",
              "        }}\n",
              "}});\n",
              "\n",
              "// Listen for the removal of the full notebook cells\n",
              "var notebookContainer = gd.closest('#notebook-container');\n",
              "if (notebookContainer) {{\n",
              "    x.observe(notebookContainer, {childList: true});\n",
              "}}\n",
              "\n",
              "// Listen for the clearing of the current output cell\n",
              "var outputEl = gd.closest('.output');\n",
              "if (outputEl) {{\n",
              "    x.observe(outputEl, {childList: true});\n",
              "}}\n",
              "\n",
              "                        })\n",
              "                };\n",
              "                \n",
              "            </script>\n",
              "        </div>\n",
              "</body>\n",
              "</html>"
            ]
          },
          "metadata": {}
        }
      ]
    },
    {
      "cell_type": "markdown",
      "source": [
        "### Churn Prediction using CatBoost"
      ],
      "metadata": {
        "id": "mBKUaA5ZpbUq"
      }
    },
    {
      "cell_type": "code",
      "source": [
        "para_cat = {'iterations':[50,80],\n",
        "            'learning_rate':[0.2,0.3]\n",
        "           }\n",
        "\n",
        "model_cat = GridSearchCV(estimator = CatBoostClassifier(verbose=False),\n",
        "                    param_grid = para_cat,\n",
        "                    cv=10,\n",
        "                    verbose=0,\n",
        "                    n_jobs=-1\n",
        "                   )\n",
        "\n",
        "model_cat.fit(train_X_re,train_y_re)"
      ],
      "metadata": {
        "colab": {
          "base_uri": "https://localhost:8080/"
        },
        "id": "ba6ZTppkpJSf",
        "outputId": "22def30c-3571-425c-ed08-f1ca3d6a2805"
      },
      "execution_count": 80,
      "outputs": [
        {
          "output_type": "execute_result",
          "data": {
            "text/plain": [
              "GridSearchCV(cv=10,\n",
              "             estimator=<catboost.core.CatBoostClassifier object at 0x7fbca6f51a90>,\n",
              "             n_jobs=-1,\n",
              "             param_grid={'iterations': [50, 80], 'learning_rate': [0.2, 0.3]})"
            ]
          },
          "metadata": {},
          "execution_count": 80
        }
      ]
    },
    {
      "cell_type": "code",
      "source": [
        "model_cat.best_params_"
      ],
      "metadata": {
        "colab": {
          "base_uri": "https://localhost:8080/"
        },
        "id": "pF-QbOlEpYRy",
        "outputId": "461667dc-53f6-49a6-f6eb-036c94db9dcd"
      },
      "execution_count": 81,
      "outputs": [
        {
          "output_type": "execute_result",
          "data": {
            "text/plain": [
              "{'iterations': 80, 'learning_rate': 0.3}"
            ]
          },
          "metadata": {},
          "execution_count": 81
        }
      ]
    },
    {
      "cell_type": "code",
      "source": [
        "cm_cat,cr_cat,auc_score_cat,_  = test_eval(model_cat,test_X,test_y)\n",
        "fpr_cat, tpr_cat, thresh_cat = roc_curve(test_y, model_cat.predict_proba(test_X)[:,1], pos_label = 1)\n",
        "precision_cat, recall_cat, _ = precision_recall_curve(test_y, model_cat.predict_proba(test_X)[:,1],pos_label=1)"
      ],
      "metadata": {
        "colab": {
          "base_uri": "https://localhost:8080/"
        },
        "id": "Dnw-KMAUpn4v",
        "outputId": "834b9198-f959-4dbb-809c-462a428377ee"
      },
      "execution_count": 82,
      "outputs": [
        {
          "output_type": "stream",
          "name": "stdout",
          "text": [
            "Confusion Matrix\n",
            "====================\n",
            "[[828 205]\n",
            " [125 249]] \n",
            "\n",
            "Classification Report\n",
            "====================\n",
            "              precision    recall  f1-score   support\n",
            "\n",
            "           0       0.87      0.80      0.83      1033\n",
            "           1       0.55      0.67      0.60       374\n",
            "\n",
            "    accuracy                           0.77      1407\n",
            "   macro avg       0.71      0.73      0.72      1407\n",
            "weighted avg       0.78      0.77      0.77      1407\n",
            "\n"
          ]
        }
      ]
    },
    {
      "cell_type": "code",
      "source": [
        "plot_cmatrix(cm_cat, name='CAT')"
      ],
      "metadata": {
        "colab": {
          "base_uri": "https://localhost:8080/",
          "height": 417
        },
        "id": "TKBpREyKpn8o",
        "outputId": "8ba3563e-6d13-4c28-f0dd-4325a1bfa641"
      },
      "execution_count": 69,
      "outputs": [
        {
          "output_type": "display_data",
          "data": {
            "text/html": [
              "<html>\n",
              "<head><meta charset=\"utf-8\" /></head>\n",
              "<body>\n",
              "    <div>\n",
              "            <script src=\"https://cdnjs.cloudflare.com/ajax/libs/mathjax/2.7.5/MathJax.js?config=TeX-AMS-MML_SVG\"></script><script type=\"text/javascript\">if (window.MathJax) {MathJax.Hub.Config({SVG: {font: \"STIX-Web\"}});}</script>\n",
              "                <script type=\"text/javascript\">window.PlotlyConfig = {MathJaxConfig: 'local'};</script>\n",
              "        <script src=\"https://cdn.plot.ly/plotly-latest.min.js\"></script>    \n",
              "            <div id=\"5a690222-c170-42ec-b514-12c17746a4be\" class=\"plotly-graph-div\" style=\"height:400px; width:400px;\"></div>\n",
              "            <script type=\"text/javascript\">\n",
              "                \n",
              "                    window.PLOTLYENV=window.PLOTLYENV || {};\n",
              "                    \n",
              "                if (document.getElementById(\"5a690222-c170-42ec-b514-12c17746a4be\")) {\n",
              "                    Plotly.newPlot(\n",
              "                        '5a690222-c170-42ec-b514-12c17746a4be',\n",
              "                        [{\"coloraxis\": \"coloraxis\", \"type\": \"heatmap\", \"z\": [[828, 205], [125, 249]]}],\n",
              "                        {\"annotations\": [{\"font\": {\"color\": \"black\", \"size\": 12}, \"showarrow\": false, \"text\": \"828\", \"x\": 0, \"y\": 0}, {\"font\": {\"color\": \"black\", \"size\": 12}, \"showarrow\": false, \"text\": \"205\", \"x\": 1, \"y\": 0}, {\"font\": {\"color\": \"black\", \"size\": 12}, \"showarrow\": false, \"text\": \"125\", \"x\": 0, \"y\": 1}, {\"font\": {\"color\": \"black\", \"size\": 12}, \"showarrow\": false, \"text\": \"249\", \"x\": 1, \"y\": 1}], \"coloraxis\": {\"colorscale\": [[0.0, \"peachpuff\"], [0.5, \"lime\"], [1.0, \"green\"]]}, \"height\": 400, \"margin\": {\"t\": 60}, \"template\": {\"data\": {\"bar\": [{\"error_x\": {\"color\": \"#2a3f5f\"}, \"error_y\": {\"color\": \"#2a3f5f\"}, \"marker\": {\"line\": {\"color\": \"#E5ECF6\", \"width\": 0.5}}, \"type\": \"bar\"}], \"barpolar\": [{\"marker\": {\"line\": {\"color\": \"#E5ECF6\", \"width\": 0.5}}, \"type\": \"barpolar\"}], \"carpet\": [{\"aaxis\": {\"endlinecolor\": \"#2a3f5f\", \"gridcolor\": \"white\", \"linecolor\": \"white\", \"minorgridcolor\": \"white\", \"startlinecolor\": \"#2a3f5f\"}, \"baxis\": {\"endlinecolor\": \"#2a3f5f\", \"gridcolor\": \"white\", \"linecolor\": \"white\", \"minorgridcolor\": \"white\", \"startlinecolor\": \"#2a3f5f\"}, \"type\": \"carpet\"}], \"choropleth\": [{\"colorbar\": {\"outlinewidth\": 0, \"ticks\": \"\"}, \"type\": \"choropleth\"}], \"contour\": [{\"colorbar\": {\"outlinewidth\": 0, \"ticks\": \"\"}, \"colorscale\": [[0.0, \"#0d0887\"], [0.1111111111111111, \"#46039f\"], [0.2222222222222222, \"#7201a8\"], [0.3333333333333333, \"#9c179e\"], [0.4444444444444444, \"#bd3786\"], [0.5555555555555556, \"#d8576b\"], [0.6666666666666666, \"#ed7953\"], [0.7777777777777778, \"#fb9f3a\"], [0.8888888888888888, \"#fdca26\"], [1.0, \"#f0f921\"]], \"type\": \"contour\"}], \"contourcarpet\": [{\"colorbar\": {\"outlinewidth\": 0, \"ticks\": \"\"}, \"type\": \"contourcarpet\"}], \"heatmap\": [{\"colorbar\": {\"outlinewidth\": 0, \"ticks\": \"\"}, \"colorscale\": [[0.0, \"#0d0887\"], [0.1111111111111111, \"#46039f\"], [0.2222222222222222, \"#7201a8\"], [0.3333333333333333, \"#9c179e\"], [0.4444444444444444, \"#bd3786\"], [0.5555555555555556, \"#d8576b\"], [0.6666666666666666, \"#ed7953\"], [0.7777777777777778, \"#fb9f3a\"], [0.8888888888888888, \"#fdca26\"], [1.0, \"#f0f921\"]], \"type\": \"heatmap\"}], \"heatmapgl\": [{\"colorbar\": {\"outlinewidth\": 0, \"ticks\": \"\"}, \"colorscale\": [[0.0, \"#0d0887\"], [0.1111111111111111, \"#46039f\"], [0.2222222222222222, \"#7201a8\"], [0.3333333333333333, \"#9c179e\"], [0.4444444444444444, \"#bd3786\"], [0.5555555555555556, \"#d8576b\"], [0.6666666666666666, \"#ed7953\"], [0.7777777777777778, \"#fb9f3a\"], [0.8888888888888888, \"#fdca26\"], [1.0, \"#f0f921\"]], \"type\": \"heatmapgl\"}], \"histogram\": [{\"marker\": {\"colorbar\": {\"outlinewidth\": 0, \"ticks\": \"\"}}, \"type\": \"histogram\"}], \"histogram2d\": [{\"colorbar\": {\"outlinewidth\": 0, \"ticks\": \"\"}, \"colorscale\": [[0.0, \"#0d0887\"], [0.1111111111111111, \"#46039f\"], [0.2222222222222222, \"#7201a8\"], [0.3333333333333333, \"#9c179e\"], [0.4444444444444444, \"#bd3786\"], [0.5555555555555556, \"#d8576b\"], [0.6666666666666666, \"#ed7953\"], [0.7777777777777778, \"#fb9f3a\"], [0.8888888888888888, \"#fdca26\"], [1.0, \"#f0f921\"]], \"type\": \"histogram2d\"}], \"histogram2dcontour\": [{\"colorbar\": {\"outlinewidth\": 0, \"ticks\": \"\"}, \"colorscale\": [[0.0, \"#0d0887\"], [0.1111111111111111, \"#46039f\"], [0.2222222222222222, \"#7201a8\"], [0.3333333333333333, \"#9c179e\"], [0.4444444444444444, \"#bd3786\"], [0.5555555555555556, \"#d8576b\"], [0.6666666666666666, \"#ed7953\"], [0.7777777777777778, \"#fb9f3a\"], [0.8888888888888888, \"#fdca26\"], [1.0, \"#f0f921\"]], \"type\": \"histogram2dcontour\"}], \"mesh3d\": [{\"colorbar\": {\"outlinewidth\": 0, \"ticks\": \"\"}, \"type\": \"mesh3d\"}], \"parcoords\": [{\"line\": {\"colorbar\": {\"outlinewidth\": 0, \"ticks\": \"\"}}, \"type\": \"parcoords\"}], \"pie\": [{\"automargin\": true, \"type\": \"pie\"}], \"scatter\": [{\"marker\": {\"colorbar\": {\"outlinewidth\": 0, \"ticks\": \"\"}}, \"type\": \"scatter\"}], \"scatter3d\": [{\"line\": {\"colorbar\": {\"outlinewidth\": 0, \"ticks\": \"\"}}, \"marker\": {\"colorbar\": {\"outlinewidth\": 0, \"ticks\": \"\"}}, \"type\": \"scatter3d\"}], \"scattercarpet\": [{\"marker\": {\"colorbar\": {\"outlinewidth\": 0, \"ticks\": \"\"}}, \"type\": \"scattercarpet\"}], \"scattergeo\": [{\"marker\": {\"colorbar\": {\"outlinewidth\": 0, \"ticks\": \"\"}}, \"type\": \"scattergeo\"}], \"scattergl\": [{\"marker\": {\"colorbar\": {\"outlinewidth\": 0, \"ticks\": \"\"}}, \"type\": \"scattergl\"}], \"scattermapbox\": [{\"marker\": {\"colorbar\": {\"outlinewidth\": 0, \"ticks\": \"\"}}, \"type\": \"scattermapbox\"}], \"scatterpolar\": [{\"marker\": {\"colorbar\": {\"outlinewidth\": 0, \"ticks\": \"\"}}, \"type\": \"scatterpolar\"}], \"scatterpolargl\": [{\"marker\": {\"colorbar\": {\"outlinewidth\": 0, \"ticks\": \"\"}}, \"type\": \"scatterpolargl\"}], \"scatterternary\": [{\"marker\": {\"colorbar\": {\"outlinewidth\": 0, \"ticks\": \"\"}}, \"type\": \"scatterternary\"}], \"surface\": [{\"colorbar\": {\"outlinewidth\": 0, \"ticks\": \"\"}, \"colorscale\": [[0.0, \"#0d0887\"], [0.1111111111111111, \"#46039f\"], [0.2222222222222222, \"#7201a8\"], [0.3333333333333333, \"#9c179e\"], [0.4444444444444444, \"#bd3786\"], [0.5555555555555556, \"#d8576b\"], [0.6666666666666666, \"#ed7953\"], [0.7777777777777778, \"#fb9f3a\"], [0.8888888888888888, \"#fdca26\"], [1.0, \"#f0f921\"]], \"type\": \"surface\"}], \"table\": [{\"cells\": {\"fill\": {\"color\": \"#EBF0F8\"}, \"line\": {\"color\": \"white\"}}, \"header\": {\"fill\": {\"color\": \"#C8D4E3\"}, \"line\": {\"color\": \"white\"}}, \"type\": \"table\"}]}, \"layout\": {\"annotationdefaults\": {\"arrowcolor\": \"#2a3f5f\", \"arrowhead\": 0, \"arrowwidth\": 1}, \"coloraxis\": {\"colorbar\": {\"outlinewidth\": 0, \"ticks\": \"\"}}, \"colorscale\": {\"diverging\": [[0, \"#8e0152\"], [0.1, \"#c51b7d\"], [0.2, \"#de77ae\"], [0.3, \"#f1b6da\"], [0.4, \"#fde0ef\"], [0.5, \"#f7f7f7\"], [0.6, \"#e6f5d0\"], [0.7, \"#b8e186\"], [0.8, \"#7fbc41\"], [0.9, \"#4d9221\"], [1, \"#276419\"]], \"sequential\": [[0.0, \"#0d0887\"], [0.1111111111111111, \"#46039f\"], [0.2222222222222222, \"#7201a8\"], [0.3333333333333333, \"#9c179e\"], [0.4444444444444444, \"#bd3786\"], [0.5555555555555556, \"#d8576b\"], [0.6666666666666666, \"#ed7953\"], [0.7777777777777778, \"#fb9f3a\"], [0.8888888888888888, \"#fdca26\"], [1.0, \"#f0f921\"]], \"sequentialminus\": [[0.0, \"#0d0887\"], [0.1111111111111111, \"#46039f\"], [0.2222222222222222, \"#7201a8\"], [0.3333333333333333, \"#9c179e\"], [0.4444444444444444, \"#bd3786\"], [0.5555555555555556, \"#d8576b\"], [0.6666666666666666, \"#ed7953\"], [0.7777777777777778, \"#fb9f3a\"], [0.8888888888888888, \"#fdca26\"], [1.0, \"#f0f921\"]]}, \"colorway\": [\"#636efa\", \"#EF553B\", \"#00cc96\", \"#ab63fa\", \"#FFA15A\", \"#19d3f3\", \"#FF6692\", \"#B6E880\", \"#FF97FF\", \"#FECB52\"], \"font\": {\"color\": \"#2a3f5f\"}, \"geo\": {\"bgcolor\": \"white\", \"lakecolor\": \"white\", \"landcolor\": \"#E5ECF6\", \"showlakes\": true, \"showland\": true, \"subunitcolor\": \"white\"}, \"hoverlabel\": {\"align\": \"left\"}, \"hovermode\": \"closest\", \"mapbox\": {\"style\": \"light\"}, \"paper_bgcolor\": \"white\", \"plot_bgcolor\": \"#E5ECF6\", \"polar\": {\"angularaxis\": {\"gridcolor\": \"white\", \"linecolor\": \"white\", \"ticks\": \"\"}, \"bgcolor\": \"#E5ECF6\", \"radialaxis\": {\"gridcolor\": \"white\", \"linecolor\": \"white\", \"ticks\": \"\"}}, \"scene\": {\"xaxis\": {\"backgroundcolor\": \"#E5ECF6\", \"gridcolor\": \"white\", \"gridwidth\": 2, \"linecolor\": \"white\", \"showbackground\": true, \"ticks\": \"\", \"zerolinecolor\": \"white\"}, \"yaxis\": {\"backgroundcolor\": \"#E5ECF6\", \"gridcolor\": \"white\", \"gridwidth\": 2, \"linecolor\": \"white\", \"showbackground\": true, \"ticks\": \"\", \"zerolinecolor\": \"white\"}, \"zaxis\": {\"backgroundcolor\": \"#E5ECF6\", \"gridcolor\": \"white\", \"gridwidth\": 2, \"linecolor\": \"white\", \"showbackground\": true, \"ticks\": \"\", \"zerolinecolor\": \"white\"}}, \"shapedefaults\": {\"line\": {\"color\": \"#2a3f5f\"}}, \"ternary\": {\"aaxis\": {\"gridcolor\": \"white\", \"linecolor\": \"white\", \"ticks\": \"\"}, \"baxis\": {\"gridcolor\": \"white\", \"linecolor\": \"white\", \"ticks\": \"\"}, \"bgcolor\": \"#E5ECF6\", \"caxis\": {\"gridcolor\": \"white\", \"linecolor\": \"white\", \"ticks\": \"\"}}, \"title\": {\"x\": 0.05}, \"xaxis\": {\"automargin\": true, \"gridcolor\": \"white\", \"linecolor\": \"white\", \"ticks\": \"\", \"title\": {\"standoff\": 15}, \"zerolinecolor\": \"white\", \"zerolinewidth\": 2}, \"yaxis\": {\"automargin\": true, \"gridcolor\": \"white\", \"linecolor\": \"white\", \"ticks\": \"\", \"title\": {\"standoff\": 15}, \"zerolinecolor\": \"white\", \"zerolinewidth\": 2}}}, \"title\": {\"text\": \"Confusion Matrix (CAT)\", \"x\": 0.5}, \"width\": 400, \"xaxis\": {\"constrain\": \"domain\", \"dtick\": 1, \"scaleanchor\": \"y\", \"tick0\": 0, \"tickmode\": \"linear\", \"title\": {\"text\": \"Prediction\"}}, \"yaxis\": {\"autorange\": \"reversed\", \"constrain\": \"domain\", \"dtick\": 1, \"tick0\": 0, \"tickmode\": \"linear\", \"title\": {\"text\": \"Truth\"}}},\n",
              "                        {\"responsive\": true}\n",
              "                    ).then(function(){\n",
              "                            \n",
              "var gd = document.getElementById('5a690222-c170-42ec-b514-12c17746a4be');\n",
              "var x = new MutationObserver(function (mutations, observer) {{\n",
              "        var display = window.getComputedStyle(gd).display;\n",
              "        if (!display || display === 'none') {{\n",
              "            console.log([gd, 'removed!']);\n",
              "            Plotly.purge(gd);\n",
              "            observer.disconnect();\n",
              "        }}\n",
              "}});\n",
              "\n",
              "// Listen for the removal of the full notebook cells\n",
              "var notebookContainer = gd.closest('#notebook-container');\n",
              "if (notebookContainer) {{\n",
              "    x.observe(notebookContainer, {childList: true});\n",
              "}}\n",
              "\n",
              "// Listen for the clearing of the current output cell\n",
              "var outputEl = gd.closest('.output');\n",
              "if (outputEl) {{\n",
              "    x.observe(outputEl, {childList: true});\n",
              "}}\n",
              "\n",
              "                        })\n",
              "                };\n",
              "                \n",
              "            </script>\n",
              "        </div>\n",
              "</body>\n",
              "</html>"
            ]
          },
          "metadata": {}
        }
      ]
    },
    {
      "cell_type": "code",
      "source": [
        "from xgboost import XGBClassifier\n",
        "\n",
        "para_xgb = {'iterations':[200,500],\n",
        "            'learning_rate':[0.1,0.98],\n",
        "             'max_depth': [3,5,10],\n",
        "            'booster': ['gblinear','gbtree']\n",
        "           }\n",
        "\n",
        "model_xgb = GridSearchCV(estimator = XGBClassifier(),\n",
        "                    param_grid = para_xgb,\n",
        "                    cv=10,\n",
        "                    verbose=0,\n",
        "                    n_jobs=-1\n",
        "                   )\n",
        "\n",
        "model_xgb.fit(train_X_re,train_y_re)"
      ],
      "metadata": {
        "colab": {
          "base_uri": "https://localhost:8080/"
        },
        "id": "RH5WkHyNDdf6",
        "outputId": "3156175f-9478-4409-ce3d-e28cfc8cb3dd"
      },
      "execution_count": 70,
      "outputs": [
        {
          "output_type": "execute_result",
          "data": {
            "text/plain": [
              "GridSearchCV(cv=10, estimator=XGBClassifier(), n_jobs=-1,\n",
              "             param_grid={'booster': ['gblinear', 'gbtree'],\n",
              "                         'iterations': [200, 500], 'learning_rate': [0.1, 0.98],\n",
              "                         'max_depth': [3, 5, 10]})"
            ]
          },
          "metadata": {},
          "execution_count": 70
        }
      ]
    },
    {
      "cell_type": "code",
      "source": [
        "model_xgb.best_params_"
      ],
      "metadata": {
        "colab": {
          "base_uri": "https://localhost:8080/"
        },
        "id": "bzHbvI280mvw",
        "outputId": "4607fe02-7b30-4844-b276-46f14b2961c8"
      },
      "execution_count": 71,
      "outputs": [
        {
          "output_type": "execute_result",
          "data": {
            "text/plain": [
              "{'booster': 'gbtree', 'iterations': 200, 'learning_rate': 0.1, 'max_depth': 10}"
            ]
          },
          "metadata": {},
          "execution_count": 71
        }
      ]
    },
    {
      "cell_type": "code",
      "source": [
        "cm_xgb,cr_xgb,auc_score_xgb,_  = test_eval(model_xgb,test_X,test_y)\n",
        "fpr_xgb, tpr_xgb, thresh_xgb = roc_curve(test_y, model_xgb.predict_proba(test_X)[:,1], pos_label = 1)\n",
        "precision_xgb, recall_xgb, _ = precision_recall_curve(test_y, model_xgb.predict_proba(test_X)[:,1],pos_label=1)"
      ],
      "metadata": {
        "colab": {
          "base_uri": "https://localhost:8080/"
        },
        "id": "qYVG0kDM3yLv",
        "outputId": "f230f69e-3d69-4ece-a8a2-1d9d30cd9782"
      },
      "execution_count": 72,
      "outputs": [
        {
          "output_type": "stream",
          "name": "stdout",
          "text": [
            "Confusion Matrix\n",
            "====================\n",
            "[[824 209]\n",
            " [139 235]] \n",
            "\n",
            "Classification Report\n",
            "====================\n",
            "              precision    recall  f1-score   support\n",
            "\n",
            "           0       0.86      0.80      0.83      1033\n",
            "           1       0.53      0.63      0.57       374\n",
            "\n",
            "    accuracy                           0.75      1407\n",
            "   macro avg       0.69      0.71      0.70      1407\n",
            "weighted avg       0.77      0.75      0.76      1407\n",
            "\n"
          ]
        }
      ]
    },
    {
      "cell_type": "code",
      "source": [
        "plot_cmatrix(cm_xgb, name='XGB')"
      ],
      "metadata": {
        "colab": {
          "base_uri": "https://localhost:8080/",
          "height": 417
        },
        "id": "xBm8cdbK4Epn",
        "outputId": "65126292-27ba-423d-8d57-072bdef92b15"
      },
      "execution_count": 73,
      "outputs": [
        {
          "output_type": "display_data",
          "data": {
            "text/html": [
              "<html>\n",
              "<head><meta charset=\"utf-8\" /></head>\n",
              "<body>\n",
              "    <div>\n",
              "            <script src=\"https://cdnjs.cloudflare.com/ajax/libs/mathjax/2.7.5/MathJax.js?config=TeX-AMS-MML_SVG\"></script><script type=\"text/javascript\">if (window.MathJax) {MathJax.Hub.Config({SVG: {font: \"STIX-Web\"}});}</script>\n",
              "                <script type=\"text/javascript\">window.PlotlyConfig = {MathJaxConfig: 'local'};</script>\n",
              "        <script src=\"https://cdn.plot.ly/plotly-latest.min.js\"></script>    \n",
              "            <div id=\"083d391f-8d89-4f27-ad96-14205599239d\" class=\"plotly-graph-div\" style=\"height:400px; width:400px;\"></div>\n",
              "            <script type=\"text/javascript\">\n",
              "                \n",
              "                    window.PLOTLYENV=window.PLOTLYENV || {};\n",
              "                    \n",
              "                if (document.getElementById(\"083d391f-8d89-4f27-ad96-14205599239d\")) {\n",
              "                    Plotly.newPlot(\n",
              "                        '083d391f-8d89-4f27-ad96-14205599239d',\n",
              "                        [{\"coloraxis\": \"coloraxis\", \"type\": \"heatmap\", \"z\": [[824, 209], [139, 235]]}],\n",
              "                        {\"annotations\": [{\"font\": {\"color\": \"black\", \"size\": 12}, \"showarrow\": false, \"text\": \"824\", \"x\": 0, \"y\": 0}, {\"font\": {\"color\": \"black\", \"size\": 12}, \"showarrow\": false, \"text\": \"209\", \"x\": 1, \"y\": 0}, {\"font\": {\"color\": \"black\", \"size\": 12}, \"showarrow\": false, \"text\": \"139\", \"x\": 0, \"y\": 1}, {\"font\": {\"color\": \"black\", \"size\": 12}, \"showarrow\": false, \"text\": \"235\", \"x\": 1, \"y\": 1}], \"coloraxis\": {\"colorscale\": [[0.0, \"peachpuff\"], [0.5, \"lime\"], [1.0, \"green\"]]}, \"height\": 400, \"margin\": {\"t\": 60}, \"template\": {\"data\": {\"bar\": [{\"error_x\": {\"color\": \"#2a3f5f\"}, \"error_y\": {\"color\": \"#2a3f5f\"}, \"marker\": {\"line\": {\"color\": \"#E5ECF6\", \"width\": 0.5}}, \"type\": \"bar\"}], \"barpolar\": [{\"marker\": {\"line\": {\"color\": \"#E5ECF6\", \"width\": 0.5}}, \"type\": \"barpolar\"}], \"carpet\": [{\"aaxis\": {\"endlinecolor\": \"#2a3f5f\", \"gridcolor\": \"white\", \"linecolor\": \"white\", \"minorgridcolor\": \"white\", \"startlinecolor\": \"#2a3f5f\"}, \"baxis\": {\"endlinecolor\": \"#2a3f5f\", \"gridcolor\": \"white\", \"linecolor\": \"white\", \"minorgridcolor\": \"white\", \"startlinecolor\": \"#2a3f5f\"}, \"type\": \"carpet\"}], \"choropleth\": [{\"colorbar\": {\"outlinewidth\": 0, \"ticks\": \"\"}, \"type\": \"choropleth\"}], \"contour\": [{\"colorbar\": {\"outlinewidth\": 0, \"ticks\": \"\"}, \"colorscale\": [[0.0, \"#0d0887\"], [0.1111111111111111, \"#46039f\"], [0.2222222222222222, \"#7201a8\"], [0.3333333333333333, \"#9c179e\"], [0.4444444444444444, \"#bd3786\"], [0.5555555555555556, \"#d8576b\"], [0.6666666666666666, \"#ed7953\"], [0.7777777777777778, \"#fb9f3a\"], [0.8888888888888888, \"#fdca26\"], [1.0, \"#f0f921\"]], \"type\": \"contour\"}], \"contourcarpet\": [{\"colorbar\": {\"outlinewidth\": 0, \"ticks\": \"\"}, \"type\": \"contourcarpet\"}], \"heatmap\": [{\"colorbar\": {\"outlinewidth\": 0, \"ticks\": \"\"}, \"colorscale\": [[0.0, \"#0d0887\"], [0.1111111111111111, \"#46039f\"], [0.2222222222222222, \"#7201a8\"], [0.3333333333333333, \"#9c179e\"], [0.4444444444444444, \"#bd3786\"], [0.5555555555555556, \"#d8576b\"], [0.6666666666666666, \"#ed7953\"], [0.7777777777777778, \"#fb9f3a\"], [0.8888888888888888, \"#fdca26\"], [1.0, \"#f0f921\"]], \"type\": \"heatmap\"}], \"heatmapgl\": [{\"colorbar\": {\"outlinewidth\": 0, \"ticks\": \"\"}, \"colorscale\": [[0.0, \"#0d0887\"], [0.1111111111111111, \"#46039f\"], [0.2222222222222222, \"#7201a8\"], [0.3333333333333333, \"#9c179e\"], [0.4444444444444444, \"#bd3786\"], [0.5555555555555556, \"#d8576b\"], [0.6666666666666666, \"#ed7953\"], [0.7777777777777778, \"#fb9f3a\"], [0.8888888888888888, \"#fdca26\"], [1.0, \"#f0f921\"]], \"type\": \"heatmapgl\"}], \"histogram\": [{\"marker\": {\"colorbar\": {\"outlinewidth\": 0, \"ticks\": \"\"}}, \"type\": \"histogram\"}], \"histogram2d\": [{\"colorbar\": {\"outlinewidth\": 0, \"ticks\": \"\"}, \"colorscale\": [[0.0, \"#0d0887\"], [0.1111111111111111, \"#46039f\"], [0.2222222222222222, \"#7201a8\"], [0.3333333333333333, \"#9c179e\"], [0.4444444444444444, \"#bd3786\"], [0.5555555555555556, \"#d8576b\"], [0.6666666666666666, \"#ed7953\"], [0.7777777777777778, \"#fb9f3a\"], [0.8888888888888888, \"#fdca26\"], [1.0, \"#f0f921\"]], \"type\": \"histogram2d\"}], \"histogram2dcontour\": [{\"colorbar\": {\"outlinewidth\": 0, \"ticks\": \"\"}, \"colorscale\": [[0.0, \"#0d0887\"], [0.1111111111111111, \"#46039f\"], [0.2222222222222222, \"#7201a8\"], [0.3333333333333333, \"#9c179e\"], [0.4444444444444444, \"#bd3786\"], [0.5555555555555556, \"#d8576b\"], [0.6666666666666666, \"#ed7953\"], [0.7777777777777778, \"#fb9f3a\"], [0.8888888888888888, \"#fdca26\"], [1.0, \"#f0f921\"]], \"type\": \"histogram2dcontour\"}], \"mesh3d\": [{\"colorbar\": {\"outlinewidth\": 0, \"ticks\": \"\"}, \"type\": \"mesh3d\"}], \"parcoords\": [{\"line\": {\"colorbar\": {\"outlinewidth\": 0, \"ticks\": \"\"}}, \"type\": \"parcoords\"}], \"pie\": [{\"automargin\": true, \"type\": \"pie\"}], \"scatter\": [{\"marker\": {\"colorbar\": {\"outlinewidth\": 0, \"ticks\": \"\"}}, \"type\": \"scatter\"}], \"scatter3d\": [{\"line\": {\"colorbar\": {\"outlinewidth\": 0, \"ticks\": \"\"}}, \"marker\": {\"colorbar\": {\"outlinewidth\": 0, \"ticks\": \"\"}}, \"type\": \"scatter3d\"}], \"scattercarpet\": [{\"marker\": {\"colorbar\": {\"outlinewidth\": 0, \"ticks\": \"\"}}, \"type\": \"scattercarpet\"}], \"scattergeo\": [{\"marker\": {\"colorbar\": {\"outlinewidth\": 0, \"ticks\": \"\"}}, \"type\": \"scattergeo\"}], \"scattergl\": [{\"marker\": {\"colorbar\": {\"outlinewidth\": 0, \"ticks\": \"\"}}, \"type\": \"scattergl\"}], \"scattermapbox\": [{\"marker\": {\"colorbar\": {\"outlinewidth\": 0, \"ticks\": \"\"}}, \"type\": \"scattermapbox\"}], \"scatterpolar\": [{\"marker\": {\"colorbar\": {\"outlinewidth\": 0, \"ticks\": \"\"}}, \"type\": \"scatterpolar\"}], \"scatterpolargl\": [{\"marker\": {\"colorbar\": {\"outlinewidth\": 0, \"ticks\": \"\"}}, \"type\": \"scatterpolargl\"}], \"scatterternary\": [{\"marker\": {\"colorbar\": {\"outlinewidth\": 0, \"ticks\": \"\"}}, \"type\": \"scatterternary\"}], \"surface\": [{\"colorbar\": {\"outlinewidth\": 0, \"ticks\": \"\"}, \"colorscale\": [[0.0, \"#0d0887\"], [0.1111111111111111, \"#46039f\"], [0.2222222222222222, \"#7201a8\"], [0.3333333333333333, \"#9c179e\"], [0.4444444444444444, \"#bd3786\"], [0.5555555555555556, \"#d8576b\"], [0.6666666666666666, \"#ed7953\"], [0.7777777777777778, \"#fb9f3a\"], [0.8888888888888888, \"#fdca26\"], [1.0, \"#f0f921\"]], \"type\": \"surface\"}], \"table\": [{\"cells\": {\"fill\": {\"color\": \"#EBF0F8\"}, \"line\": {\"color\": \"white\"}}, \"header\": {\"fill\": {\"color\": \"#C8D4E3\"}, \"line\": {\"color\": \"white\"}}, \"type\": \"table\"}]}, \"layout\": {\"annotationdefaults\": {\"arrowcolor\": \"#2a3f5f\", \"arrowhead\": 0, \"arrowwidth\": 1}, \"coloraxis\": {\"colorbar\": {\"outlinewidth\": 0, \"ticks\": \"\"}}, \"colorscale\": {\"diverging\": [[0, \"#8e0152\"], [0.1, \"#c51b7d\"], [0.2, \"#de77ae\"], [0.3, \"#f1b6da\"], [0.4, \"#fde0ef\"], [0.5, \"#f7f7f7\"], [0.6, \"#e6f5d0\"], [0.7, \"#b8e186\"], [0.8, \"#7fbc41\"], [0.9, \"#4d9221\"], [1, \"#276419\"]], \"sequential\": [[0.0, \"#0d0887\"], [0.1111111111111111, \"#46039f\"], [0.2222222222222222, \"#7201a8\"], [0.3333333333333333, \"#9c179e\"], [0.4444444444444444, \"#bd3786\"], [0.5555555555555556, \"#d8576b\"], [0.6666666666666666, \"#ed7953\"], [0.7777777777777778, \"#fb9f3a\"], [0.8888888888888888, \"#fdca26\"], [1.0, \"#f0f921\"]], \"sequentialminus\": [[0.0, \"#0d0887\"], [0.1111111111111111, \"#46039f\"], [0.2222222222222222, \"#7201a8\"], [0.3333333333333333, \"#9c179e\"], [0.4444444444444444, \"#bd3786\"], [0.5555555555555556, \"#d8576b\"], [0.6666666666666666, \"#ed7953\"], [0.7777777777777778, \"#fb9f3a\"], [0.8888888888888888, \"#fdca26\"], [1.0, \"#f0f921\"]]}, \"colorway\": [\"#636efa\", \"#EF553B\", \"#00cc96\", \"#ab63fa\", \"#FFA15A\", \"#19d3f3\", \"#FF6692\", \"#B6E880\", \"#FF97FF\", \"#FECB52\"], \"font\": {\"color\": \"#2a3f5f\"}, \"geo\": {\"bgcolor\": \"white\", \"lakecolor\": \"white\", \"landcolor\": \"#E5ECF6\", \"showlakes\": true, \"showland\": true, \"subunitcolor\": \"white\"}, \"hoverlabel\": {\"align\": \"left\"}, \"hovermode\": \"closest\", \"mapbox\": {\"style\": \"light\"}, \"paper_bgcolor\": \"white\", \"plot_bgcolor\": \"#E5ECF6\", \"polar\": {\"angularaxis\": {\"gridcolor\": \"white\", \"linecolor\": \"white\", \"ticks\": \"\"}, \"bgcolor\": \"#E5ECF6\", \"radialaxis\": {\"gridcolor\": \"white\", \"linecolor\": \"white\", \"ticks\": \"\"}}, \"scene\": {\"xaxis\": {\"backgroundcolor\": \"#E5ECF6\", \"gridcolor\": \"white\", \"gridwidth\": 2, \"linecolor\": \"white\", \"showbackground\": true, \"ticks\": \"\", \"zerolinecolor\": \"white\"}, \"yaxis\": {\"backgroundcolor\": \"#E5ECF6\", \"gridcolor\": \"white\", \"gridwidth\": 2, \"linecolor\": \"white\", \"showbackground\": true, \"ticks\": \"\", \"zerolinecolor\": \"white\"}, \"zaxis\": {\"backgroundcolor\": \"#E5ECF6\", \"gridcolor\": \"white\", \"gridwidth\": 2, \"linecolor\": \"white\", \"showbackground\": true, \"ticks\": \"\", \"zerolinecolor\": \"white\"}}, \"shapedefaults\": {\"line\": {\"color\": \"#2a3f5f\"}}, \"ternary\": {\"aaxis\": {\"gridcolor\": \"white\", \"linecolor\": \"white\", \"ticks\": \"\"}, \"baxis\": {\"gridcolor\": \"white\", \"linecolor\": \"white\", \"ticks\": \"\"}, \"bgcolor\": \"#E5ECF6\", \"caxis\": {\"gridcolor\": \"white\", \"linecolor\": \"white\", \"ticks\": \"\"}}, \"title\": {\"x\": 0.05}, \"xaxis\": {\"automargin\": true, \"gridcolor\": \"white\", \"linecolor\": \"white\", \"ticks\": \"\", \"title\": {\"standoff\": 15}, \"zerolinecolor\": \"white\", \"zerolinewidth\": 2}, \"yaxis\": {\"automargin\": true, \"gridcolor\": \"white\", \"linecolor\": \"white\", \"ticks\": \"\", \"title\": {\"standoff\": 15}, \"zerolinecolor\": \"white\", \"zerolinewidth\": 2}}}, \"title\": {\"text\": \"Confusion Matrix (XGB)\", \"x\": 0.5}, \"width\": 400, \"xaxis\": {\"constrain\": \"domain\", \"dtick\": 1, \"scaleanchor\": \"y\", \"tick0\": 0, \"tickmode\": \"linear\", \"title\": {\"text\": \"Prediction\"}}, \"yaxis\": {\"autorange\": \"reversed\", \"constrain\": \"domain\", \"dtick\": 1, \"tick0\": 0, \"tickmode\": \"linear\", \"title\": {\"text\": \"Truth\"}}},\n",
              "                        {\"responsive\": true}\n",
              "                    ).then(function(){\n",
              "                            \n",
              "var gd = document.getElementById('083d391f-8d89-4f27-ad96-14205599239d');\n",
              "var x = new MutationObserver(function (mutations, observer) {{\n",
              "        var display = window.getComputedStyle(gd).display;\n",
              "        if (!display || display === 'none') {{\n",
              "            console.log([gd, 'removed!']);\n",
              "            Plotly.purge(gd);\n",
              "            observer.disconnect();\n",
              "        }}\n",
              "}});\n",
              "\n",
              "// Listen for the removal of the full notebook cells\n",
              "var notebookContainer = gd.closest('#notebook-container');\n",
              "if (notebookContainer) {{\n",
              "    x.observe(notebookContainer, {childList: true});\n",
              "}}\n",
              "\n",
              "// Listen for the clearing of the current output cell\n",
              "var outputEl = gd.closest('.output');\n",
              "if (outputEl) {{\n",
              "    x.observe(outputEl, {childList: true});\n",
              "}}\n",
              "\n",
              "                        })\n",
              "                };\n",
              "                \n",
              "            </script>\n",
              "        </div>\n",
              "</body>\n",
              "</html>"
            ]
          },
          "metadata": {}
        }
      ]
    },
    {
      "cell_type": "markdown",
      "source": [
        "F1-score is a weighted average or harmonic mean of precision and recall, where the relative contribution of precision and recall to the F1 score are equal. It merges these precision and recall metrics into a single measure that we can use to compare models.\n",
        "F1 score reaches its best value at 1 and worst score at 0."
      ],
      "metadata": {
        "id": "m3nq3xTAhLsd"
      }
    },
    {
      "cell_type": "code",
      "source": [
        "def extractCR(crdict, id):\n",
        "  rdigit = 4\n",
        "  p = round(crdict['macro avg']['precision'],rdigit)\n",
        "  r = round(crdict['macro avg']['recall'],rdigit)\n",
        "  f = round(crdict['macro avg']['f1-score'],rdigit)\n",
        "  return pd.DataFrame({\n",
        "                    'precision': [p],\n",
        "                    'recall': [r],\n",
        "                    'f1-score': [f]\n",
        "                     }, index = [id])\n"
      ],
      "metadata": {
        "id": "qJXj79O7NnZU"
      },
      "execution_count": 74,
      "outputs": []
    },
    {
      "cell_type": "code",
      "source": [
        "model_dict = {'LR':cr_lr,'GNB':cr_gnb,'NN':cr_nn,'KNN':cr_knn,'DT': cr_dt,\n",
        "              'SVC': cr_svc, 'RF': cr_rf, 'ADA':cr_ada,'CAT': cr_cat, 'SGB': cr_sgb, 'XGB':cr_xgb}\n",
        "\n",
        "df_lst = []\n",
        "for k,v in model_dict.items():\n",
        "  tmp = extractCR(v,k)\n",
        "  df_lst.append(tmp) \n",
        "  \n",
        "  \n",
        "results = pd.concat(df_lst,axis=0)\n",
        "print(results)"
      ],
      "metadata": {
        "colab": {
          "base_uri": "https://localhost:8080/"
        },
        "id": "uO4vZezZJ7VP",
        "outputId": "3bec6396-8df2-49f7-b76d-e7679268d41a"
      },
      "execution_count": 75,
      "outputs": [
        {
          "output_type": "stream",
          "name": "stdout",
          "text": [
            "     precision  recall  f1-score\n",
            "LR      0.7269  0.7709    0.7377\n",
            "GNB     0.6873  0.7399    0.6671\n",
            "NN      0.7312  0.7428    0.7364\n",
            "KNN     0.6736  0.7173    0.6737\n",
            "DT      0.6703  0.7110    0.6726\n",
            "SVC     0.6873  0.7200    0.6956\n",
            "RF      0.7134  0.7350    0.7217\n",
            "ADA     0.7160  0.7667    0.7226\n",
            "CAT     0.7086  0.7337    0.7176\n",
            "SGB     0.6997  0.7113    0.7047\n",
            "XGB     0.6925  0.7130    0.7001\n"
          ]
        }
      ]
    },
    {
      "cell_type": "markdown",
      "source": [
        "### Evaluation Metrics (Ranking Metrics)\n",
        "\n",
        "  * ROC AUC score\n",
        "  * ROC Curve\n",
        "  * Precision Recall Curve\n",
        "  * Precision Recall AUC score"
      ],
      "metadata": {
        "id": "UZQLgoPgrJ4m"
      }
    },
    {
      "cell_type": "markdown",
      "source": [
        "### Receiver Operating Characteristics (ROC) Curves\n",
        "\n",
        "\n",
        "ROC Curves summarize the trade-off between the true positive rate and false positive rate for a predictive model using different probability thresholds.  \n"
      ],
      "metadata": {
        "id": "gVnXbqny9pwX"
      }
    },
    {
      "cell_type": "code",
      "source": [
        "fig = go.Figure()\n",
        "\n",
        "fig.add_trace(go.Scatter(x=fpr_lr,y=tpr_lr,mode='lines',name='LR'))\n",
        "fig.add_trace(go.Scatter(x=fpr_gnb,y=tpr_gnb,mode='lines',name='GNB'))\n",
        "\n",
        "fig.add_trace(go.Scatter(x=fpr_nn,y=tpr_nn,mode='lines',name='NN'))\n",
        "fig.add_trace(go.Scatter(x=fpr_knn,y=tpr_knn,mode='lines',name='KNN'))\n",
        "fig.add_trace(go.Scatter(x=fpr_dt,y=tpr_dt,mode='lines',name='DT'))\n",
        "fig.add_trace(go.Scatter(x=fpr_svc,y=tpr_svc,mode='lines',name='SVC'))\n",
        "\n",
        "fig.add_trace(go.Scatter(x=fpr_rf,y=tpr_rf,mode='lines',name='RF'))\n",
        "fig.add_trace(go.Scatter(x=fpr_ada,y=tpr_ada,mode='lines',name='ADA'))\n",
        "fig.add_trace(go.Scatter(x=fpr_cat,y=tpr_cat,mode='lines',name='CAT'))\n",
        "fig.add_trace(go.Scatter(x=fpr_sgb,y=tpr_sgb,mode='lines',name='SGB'))\n",
        "fig.add_trace(go.Scatter(x=fpr_xgb,y=tpr_xgb,mode='lines',name='XGB'))\n",
        "fig.update_layout(title='ROC',\n",
        "                   xaxis_title='False Positive Rate (Sensitivity)',\n",
        "                   yaxis_title='True Positive Rate (1 - Specificity)', title_x = 0.5,\n",
        "                   width = 750, height=500,\n",
        "                 )\n",
        "fig.show()"
      ],
      "metadata": {
        "colab": {
          "base_uri": "https://localhost:8080/",
          "height": 517
        },
        "id": "gqkje0ghptsW",
        "outputId": "de289a63-e0c8-4006-daf7-9b11724b8629"
      },
      "execution_count": 76,
      "outputs": [
        {
          "output_type": "display_data",
          "data": {
            "text/html": [
              "<html>\n",
              "<head><meta charset=\"utf-8\" /></head>\n",
              "<body>\n",
              "    <div>\n",
              "            <script src=\"https://cdnjs.cloudflare.com/ajax/libs/mathjax/2.7.5/MathJax.js?config=TeX-AMS-MML_SVG\"></script><script type=\"text/javascript\">if (window.MathJax) {MathJax.Hub.Config({SVG: {font: \"STIX-Web\"}});}</script>\n",
              "                <script type=\"text/javascript\">window.PlotlyConfig = {MathJaxConfig: 'local'};</script>\n",
              "        <script src=\"https://cdn.plot.ly/plotly-latest.min.js\"></script>    \n",
              "            <div id=\"4f371dde-166c-447a-b921-7414afd03ebf\" class=\"plotly-graph-div\" style=\"height:500px; width:750px;\"></div>\n",
              "            <script type=\"text/javascript\">\n",
              "                \n",
              "                    window.PLOTLYENV=window.PLOTLYENV || {};\n",
              "                    \n",
              "                if (document.getElementById(\"4f371dde-166c-447a-b921-7414afd03ebf\")) {\n",
              "                    Plotly.newPlot(\n",
              "                        '4f371dde-166c-447a-b921-7414afd03ebf',\n",
              "                        [{\"mode\": \"lines\", \"name\": \"LR\", \"type\": \"scatter\", \"x\": [0.0, 0.000968054211035818, 0.000968054211035818, 0.001936108422071636, 0.001936108422071636, 0.002904162633107454, 0.002904162633107454, 0.006776379477250726, 0.006776379477250726, 0.010648596321393998, 0.010648596321393998, 0.011616650532429816, 0.011616650532429816, 0.012584704743465635, 0.012584704743465635, 0.013552758954501452, 0.013552758954501452, 0.01452081316553727, 0.01452081316553727, 0.015488867376573089, 0.015488867376573089, 0.016456921587608905, 0.016456921587608905, 0.017424975798644726, 0.017424975798644726, 0.018393030009680542, 0.018393030009680542, 0.02032913843175218, 0.02032913843175218, 0.022265246853823813, 0.022265246853823813, 0.023233301064859633, 0.023233301064859633, 0.02420135527589545, 0.02420135527589545, 0.026137463697967087, 0.026137463697967087, 0.027105517909002903, 0.027105517909002903, 0.028073572120038724, 0.028073572120038724, 0.030009680542110357, 0.030009680542110357, 0.03388189738625363, 0.03388189738625363, 0.03484995159728945, 0.03484995159728945, 0.03581800580832527, 0.03581800580832527, 0.0377541142303969, 0.0377541142303969, 0.041626331074540175, 0.041626331074540175, 0.04259438528557599, 0.04259438528557599, 0.04356243949661181, 0.04356243949661181, 0.04549854791868345, 0.04549854791868345, 0.046466602129719266, 0.046466602129719266, 0.04743465634075508, 0.04743465634075508, 0.049370764762826716, 0.049370764762826716, 0.05033881897386254, 0.05033881897386254, 0.051306873184898356, 0.051306873184898356, 0.05421103581800581, 0.05421103581800581, 0.05614714424007745, 0.05614714424007745, 0.057115198451113264, 0.057115198451113264, 0.05808325266214908, 0.05808325266214908, 0.06098741529525654, 0.06098741529525654, 0.06292352371732816, 0.06292352371732816, 0.06389157792836399, 0.06389157792836399, 0.06485963213939981, 0.06485963213939981, 0.06679574056147145, 0.06679574056147145, 0.06873184898354308, 0.06873184898354308, 0.07066795740561471, 0.07066795740561471, 0.07163601161665054, 0.07163601161665054, 0.07357212003872217, 0.07357212003872217, 0.07454017424975799, 0.07454017424975799, 0.0755082284607938, 0.0755082284607938, 0.07647628267182963, 0.07647628267182963, 0.07744433688286544, 0.07744433688286544, 0.07841239109390126, 0.07841239109390126, 0.08131655372700872, 0.08131655372700872, 0.08325266214908035, 0.08325266214908035, 0.08422071636011616, 0.08422071636011616, 0.08518877057115198, 0.08518877057115198, 0.08615682478218781, 0.08615682478218781, 0.08712487899322362, 0.08712487899322362, 0.09002904162633107, 0.09002904162633107, 0.0909970958373669, 0.0909970958373669, 0.09293320425943853, 0.09293320425943853, 0.09583736689254599, 0.09583736689254599, 0.0968054211035818, 0.0968054211035818, 0.09874152952565343, 0.09874152952565343, 0.09970958373668926, 0.09970958373668926, 0.10067763794772508, 0.10067763794772508, 0.10164569215876089, 0.10164569215876089, 0.10261374636979671, 0.10261374636979671, 0.10358180058083252, 0.10358180058083252, 0.10648596321393998, 0.10648596321393998, 0.10842207163601161, 0.10842207163601161, 0.11035818005808325, 0.11035818005808325, 0.11132623426911907, 0.11132623426911907, 0.1132623426911907, 0.1132623426911907, 0.11423039690222653, 0.11423039690222653, 0.11616650532429816, 0.11616650532429816, 0.1181026137463698, 0.1181026137463698, 0.12003872216844143, 0.12003872216844143, 0.12100677637947725, 0.12100677637947725, 0.12294288480154889, 0.12294288480154889, 0.12487899322362052, 0.12487899322362052, 0.12584704743465633, 0.12584704743465633, 0.1287512100677638, 0.1287512100677638, 0.13068731848983542, 0.13068731848983542, 0.13165537270087124, 0.13165537270087124, 0.13262342691190707, 0.13262342691190707, 0.1335914811229429, 0.1335914811229429, 0.1355275895450145, 0.1355275895450145, 0.13649564375605033, 0.13649564375605033, 0.13843175217812198, 0.13843175217812198, 0.1393998063891578, 0.1393998063891578, 0.14133591481122942, 0.14133591481122942, 0.1442400774443369, 0.1442400774443369, 0.1452081316553727, 0.1452081316553727, 0.14714424007744434, 0.14714424007744434, 0.14811229428848016, 0.14811229428848016, 0.15004840271055178, 0.15004840271055178, 0.1510164569215876, 0.1510164569215876, 0.15198451113262343, 0.15198451113262343, 0.15295256534365925, 0.15295256534365925, 0.15392061955469508, 0.15392061955469508, 0.1558567279767667, 0.1558567279767667, 0.15779283639883834, 0.15779283639883834, 0.15972894482090996, 0.15972894482090996, 0.16456921587608905, 0.16456921587608905, 0.16940948693126814, 0.16940948693126814, 0.17037754114230397, 0.17037754114230397, 0.17231364956437561, 0.17231364956437561, 0.1771539206195547, 0.1771539206195547, 0.1781219748305905, 0.1781219748305905, 0.18102613746369797, 0.18102613746369797, 0.1819941916747338, 0.1819941916747338, 0.18393030009680542, 0.18393030009680542, 0.18489835430784124, 0.18489835430784124, 0.18586640851887706, 0.18586640851887706, 0.1887705711519845, 0.1887705711519845, 0.19167473378509198, 0.19167473378509198, 0.19264278799612777, 0.19264278799612777, 0.1936108422071636, 0.1936108422071636, 0.19748305905130686, 0.19748305905130686, 0.1984511132623427, 0.1984511132623427, 0.1994191674733785, 0.1994191674733785, 0.20329138431752178, 0.20329138431752178, 0.2042594385285576, 0.2042594385285576, 0.20716360116166505, 0.20716360116166505, 0.21006776379477252, 0.21006776379477252, 0.2110358180058083, 0.2110358180058083, 0.21200387221684414, 0.21200387221684414, 0.21297192642787996, 0.21297192642787996, 0.21393998063891578, 0.21393998063891578, 0.21781219748305905, 0.21781219748305905, 0.21878025169409487, 0.21878025169409487, 0.22168441432720232, 0.22168441432720232, 0.22555663117134558, 0.22555663117134558, 0.22749273959341723, 0.22749273959341723, 0.22846079380445306, 0.22846079380445306, 0.22942884801548888, 0.22942884801548888, 0.2313649564375605, 0.2313649564375605, 0.23233301064859632, 0.23233301064859632, 0.23330106485963215, 0.23330106485963215, 0.23426911907066797, 0.23426911907066797, 0.2420135527589545, 0.2420135527589545, 0.24298160696999033, 0.24298160696999033, 0.24394966118102615, 0.24394966118102615, 0.24878993223620524, 0.24878993223620524, 0.2536302032913843, 0.2536302032913843, 0.25653436592449175, 0.25653436592449175, 0.26040658276863504, 0.26040658276863504, 0.2633107454017425, 0.2633107454017425, 0.26427879961277834, 0.26427879961277834, 0.2681510164569216, 0.2681510164569216, 0.28170377541142305, 0.28170377541142305, 0.2836398838334947, 0.2836398838334947, 0.2894482090997096, 0.2894482090997096, 0.29235237173281703, 0.29235237173281703, 0.2942884801548887, 0.2942884801548887, 0.29816069699903197, 0.29816069699903197, 0.30009680542110356, 0.30009680542110356, 0.3020329138431752, 0.3020329138431752, 0.30493707647628265, 0.30493707647628265, 0.3117134559535334, 0.3117134559535334, 0.31461761858664083, 0.31461761858664083, 0.3165537270087125, 0.3165537270087125, 0.31752178121974833, 0.31752178121974833, 0.31848983543078413, 0.31848983543078413, 0.3213939980638916, 0.3213939980638916, 0.33204259438528555, 0.33204259438528555, 0.3330106485963214, 0.3330106485963214, 0.33978702807357214, 0.33978702807357214, 0.3475314617618587, 0.3475314617618587, 0.3504356243949661, 0.3504356243949661, 0.3514036786060019, 0.3514036786060019, 0.35333978702807356, 0.35333978702807356, 0.35721200387221685, 0.35721200387221685, 0.3610842207163601, 0.3610842207163601, 0.36302032913843174, 0.36302032913843174, 0.3659244917715392, 0.3659244917715392, 0.3717328170377541, 0.3717328170377541, 0.37463697967086157, 0.37463697967086157, 0.38044530493707646, 0.38044530493707646, 0.3910939012584705, 0.3910939012584705, 0.40174249757986447, 0.40174249757986447, 0.4046466602129719, 0.4046466602129719, 0.40658276863504356, 0.40658276863504356, 0.4085188770571152, 0.4085188770571152, 0.4346563407550823, 0.4346563407550823, 0.43852855759922554, 0.43852855759922554, 0.46466602129719264, 0.46466602129719264, 0.46853823814133594, 0.46853823814133594, 0.46950629235237173, 0.46950629235237173, 0.4762826718296225, 0.4762826718296225, 0.49177153920619554, 0.49177153920619554, 0.494675701839303, 0.494675701839303, 0.4985479186834463, 0.4985479186834463, 0.5033881897386253, 0.5033881897386253, 0.505324298160697, 0.505324298160697, 0.5150048402710552, 0.5150048402710552, 0.5430784123910939, 0.5430784123910939, 0.5566311713455954, 0.5566311713455954, 0.5827686350435625, 0.5827686350435625, 0.5876089060987415, 0.5876089060987415, 0.5934172313649564, 0.5934172313649564, 0.6243949661181026, 0.6243949661181026, 0.633107454017425, 0.633107454017425, 0.6398838334946757, 0.6398838334946757, 0.718296224588577, 0.718296224588577, 0.755082284607938, 0.755082284607938, 0.7589545014520813, 0.7589545014520813, 0.8441432720232332, 0.8441432720232332, 1.0], \"y\": [0.0, 0.0, 0.0106951871657754, 0.0106951871657754, 0.02406417112299465, 0.02406417112299465, 0.053475935828877004, 0.053475935828877004, 0.06951871657754011, 0.06951871657754011, 0.07219251336898395, 0.07219251336898395, 0.07754010695187166, 0.07754010695187166, 0.08021390374331551, 0.08021390374331551, 0.08288770053475936, 0.08288770053475936, 0.09358288770053476, 0.09358288770053476, 0.10427807486631016, 0.10427807486631016, 0.13903743315508021, 0.13903743315508021, 0.15508021390374332, 0.15508021390374332, 0.1657754010695187, 0.1657754010695187, 0.17914438502673796, 0.17914438502673796, 0.18716577540106952, 0.18716577540106952, 0.18983957219251338, 0.18983957219251338, 0.19786096256684493, 0.19786096256684493, 0.20053475935828877, 0.20053475935828877, 0.21657754010695188, 0.21657754010695188, 0.2192513368983957, 0.2192513368983957, 0.22192513368983957, 0.22192513368983957, 0.22994652406417113, 0.22994652406417113, 0.232620320855615, 0.232620320855615, 0.23796791443850268, 0.23796791443850268, 0.24064171122994651, 0.24064171122994651, 0.24331550802139038, 0.24331550802139038, 0.24598930481283424, 0.24598930481283424, 0.25133689839572193, 0.25133689839572193, 0.25935828877005346, 0.25935828877005346, 0.2620320855614973, 0.2620320855614973, 0.2807486631016043, 0.2807486631016043, 0.2887700534759358, 0.2887700534759358, 0.29411764705882354, 0.29411764705882354, 0.3048128342245989, 0.3048128342245989, 0.31283422459893045, 0.31283422459893045, 0.32085561497326204, 0.32085561497326204, 0.3235294117647059, 0.3235294117647059, 0.32620320855614976, 0.32620320855614976, 0.3315508021390374, 0.3315508021390374, 0.33689839572192515, 0.33689839572192515, 0.3449197860962567, 0.3449197860962567, 0.35561497326203206, 0.35561497326203206, 0.3582887700534759, 0.3582887700534759, 0.3609625668449198, 0.3609625668449198, 0.3663101604278075, 0.3663101604278075, 0.3716577540106952, 0.3716577540106952, 0.37433155080213903, 0.37433155080213903, 0.3770053475935829, 0.3770053475935829, 0.37967914438502676, 0.37967914438502676, 0.3877005347593583, 0.3877005347593583, 0.39037433155080214, 0.39037433155080214, 0.4037433155080214, 0.4037433155080214, 0.40641711229946526, 0.40641711229946526, 0.4144385026737968, 0.4144385026737968, 0.41711229946524064, 0.41711229946524064, 0.4197860962566845, 0.4197860962566845, 0.4358288770053476, 0.4358288770053476, 0.4385026737967914, 0.4385026737967914, 0.4572192513368984, 0.4572192513368984, 0.45989304812834225, 0.45989304812834225, 0.46524064171123, 0.46524064171123, 0.4732620320855615, 0.4732620320855615, 0.47593582887700536, 0.47593582887700536, 0.48663101604278075, 0.48663101604278075, 0.4893048128342246, 0.4893048128342246, 0.4919786096256685, 0.4919786096256685, 0.49732620320855614, 0.49732620320855614, 0.5, 0.5, 0.5053475935828877, 0.5053475935828877, 0.5080213903743316, 0.5080213903743316, 0.5106951871657754, 0.5106951871657754, 0.5133689839572193, 0.5133689839572193, 0.516042780748663, 0.516042780748663, 0.5187165775401069, 0.5187165775401069, 0.5240641711229946, 0.5240641711229946, 0.5267379679144385, 0.5267379679144385, 0.5320855614973262, 0.5320855614973262, 0.5401069518716578, 0.5401069518716578, 0.5454545454545454, 0.5454545454545454, 0.553475935828877, 0.553475935828877, 0.5561497326203209, 0.5561497326203209, 0.5641711229946524, 0.5641711229946524, 0.5668449197860963, 0.5668449197860963, 0.56951871657754, 0.56951871657754, 0.5721925133689839, 0.5721925133689839, 0.5748663101604278, 0.5748663101604278, 0.5775401069518716, 0.5775401069518716, 0.5828877005347594, 0.5828877005347594, 0.5909090909090909, 0.5909090909090909, 0.5935828877005348, 0.5935828877005348, 0.5989304812834224, 0.5989304812834224, 0.6016042780748663, 0.6016042780748663, 0.6042780748663101, 0.6042780748663101, 0.6096256684491979, 0.6096256684491979, 0.6122994652406417, 0.6122994652406417, 0.6229946524064172, 0.6229946524064172, 0.6310160427807486, 0.6310160427807486, 0.6336898395721925, 0.6336898395721925, 0.6363636363636364, 0.6363636363636364, 0.6417112299465241, 0.6417112299465241, 0.6497326203208557, 0.6497326203208557, 0.6524064171122995, 0.6524064171122995, 0.6550802139037433, 0.6550802139037433, 0.6577540106951871, 0.6577540106951871, 0.660427807486631, 0.660427807486631, 0.6631016042780749, 0.6631016042780749, 0.6657754010695187, 0.6657754010695187, 0.6684491978609626, 0.6684491978609626, 0.6737967914438503, 0.6737967914438503, 0.679144385026738, 0.679144385026738, 0.6818181818181818, 0.6818181818181818, 0.6871657754010695, 0.6871657754010695, 0.6898395721925134, 0.6898395721925134, 0.6925133689839572, 0.6925133689839572, 0.7005347593582888, 0.7005347593582888, 0.7032085561497327, 0.7032085561497327, 0.7058823529411765, 0.7058823529411765, 0.7085561497326203, 0.7085561497326203, 0.7112299465240641, 0.7112299465240641, 0.713903743315508, 0.713903743315508, 0.7192513368983957, 0.7192513368983957, 0.7219251336898396, 0.7219251336898396, 0.7245989304812834, 0.7245989304812834, 0.7272727272727273, 0.7272727272727273, 0.732620320855615, 0.732620320855615, 0.7352941176470589, 0.7352941176470589, 0.7379679144385026, 0.7379679144385026, 0.7433155080213903, 0.7433155080213903, 0.7459893048128342, 0.7459893048128342, 0.7486631016042781, 0.7486631016042781, 0.7540106951871658, 0.7540106951871658, 0.7593582887700535, 0.7593582887700535, 0.7647058823529411, 0.7647058823529411, 0.7727272727272727, 0.7727272727272727, 0.7754010695187166, 0.7754010695187166, 0.7780748663101604, 0.7780748663101604, 0.7807486631016043, 0.7807486631016043, 0.7834224598930482, 0.7834224598930482, 0.786096256684492, 0.786096256684492, 0.7887700534759359, 0.7887700534759359, 0.7914438502673797, 0.7914438502673797, 0.7941176470588235, 0.7941176470588235, 0.7967914438502673, 0.7967914438502673, 0.7994652406417112, 0.7994652406417112, 0.8021390374331551, 0.8021390374331551, 0.8074866310160428, 0.8074866310160428, 0.8101604278074866, 0.8101604278074866, 0.8155080213903744, 0.8155080213903744, 0.8181818181818182, 0.8181818181818182, 0.820855614973262, 0.820855614973262, 0.8288770053475936, 0.8288770053475936, 0.8315508021390374, 0.8315508021390374, 0.8342245989304813, 0.8342245989304813, 0.8368983957219251, 0.8368983957219251, 0.839572192513369, 0.839572192513369, 0.8422459893048129, 0.8422459893048129, 0.8449197860962567, 0.8449197860962567, 0.8529411764705882, 0.8529411764705882, 0.8556149732620321, 0.8556149732620321, 0.8582887700534759, 0.8582887700534759, 0.8609625668449198, 0.8609625668449198, 0.8636363636363636, 0.8636363636363636, 0.8663101604278075, 0.8663101604278075, 0.8689839572192514, 0.8689839572192514, 0.8716577540106952, 0.8716577540106952, 0.8743315508021391, 0.8743315508021391, 0.8770053475935828, 0.8770053475935828, 0.8796791443850267, 0.8796791443850267, 0.8823529411764706, 0.8823529411764706, 0.8850267379679144, 0.8850267379679144, 0.8903743315508021, 0.8903743315508021, 0.893048128342246, 0.893048128342246, 0.8957219251336899, 0.8957219251336899, 0.8983957219251337, 0.8983957219251337, 0.9010695187165776, 0.9010695187165776, 0.9037433155080213, 0.9037433155080213, 0.9090909090909091, 0.9090909090909091, 0.9117647058823529, 0.9117647058823529, 0.9144385026737968, 0.9144385026737968, 0.9197860962566845, 0.9197860962566845, 0.9224598930481284, 0.9224598930481284, 0.9251336898395722, 0.9251336898395722, 0.9278074866310161, 0.9278074866310161, 0.93048128342246, 0.93048128342246, 0.9358288770053476, 0.9358288770053476, 0.9385026737967914, 0.9385026737967914, 0.9411764705882353, 0.9411764705882353, 0.9438502673796791, 0.9438502673796791, 0.946524064171123, 0.946524064171123, 0.9491978609625669, 0.9491978609625669, 0.9518716577540107, 0.9518716577540107, 0.9545454545454546, 0.9545454545454546, 0.9572192513368984, 0.9572192513368984, 0.9598930481283422, 0.9598930481283422, 0.9625668449197861, 0.9625668449197861, 0.9652406417112299, 0.9652406417112299, 0.9679144385026738, 0.9679144385026738, 0.9705882352941176, 0.9705882352941176, 0.9732620320855615, 0.9732620320855615, 0.9759358288770054, 0.9759358288770054, 0.9786096256684492, 0.9786096256684492, 0.9812834224598931, 0.9812834224598931, 0.983957219251337, 0.983957219251337, 0.9866310160427807, 0.9866310160427807, 0.9893048128342246, 0.9893048128342246, 0.9919786096256684, 0.9919786096256684, 0.9946524064171123, 0.9946524064171123, 0.9973262032085561, 0.9973262032085561, 1.0, 1.0]}, {\"mode\": \"lines\", \"name\": \"GNB\", \"type\": \"scatter\", \"x\": [0.0, 0.0, 0.0, 0.000968054211035818, 0.000968054211035818, 0.002904162633107454, 0.002904162633107454, 0.003872216844143272, 0.003872216844143272, 0.005808325266214908, 0.005808325266214908, 0.007744433688286544, 0.007744433688286544, 0.008712487899322363, 0.008712487899322363, 0.00968054211035818, 0.00968054211035818, 0.013552758954501452, 0.013552758954501452, 0.01452081316553727, 0.01452081316553727, 0.015488867376573089, 0.015488867376573089, 0.017424975798644726, 0.017424975798644726, 0.018393030009680542, 0.018393030009680542, 0.01936108422071636, 0.01936108422071636, 0.02032913843175218, 0.02032913843175218, 0.021297192642787996, 0.021297192642787996, 0.023233301064859633, 0.023233301064859633, 0.02420135527589545, 0.02420135527589545, 0.026137463697967087, 0.026137463697967087, 0.027105517909002903, 0.027105517909002903, 0.02904162633107454, 0.02904162633107454, 0.030009680542110357, 0.030009680542110357, 0.03291384317521781, 0.03291384317521781, 0.03388189738625363, 0.03388189738625363, 0.03581800580832527, 0.03581800580832527, 0.04065827686350436, 0.04065827686350436, 0.04549854791868345, 0.04549854791868345, 0.04743465634075508, 0.04743465634075508, 0.05033881897386254, 0.05033881897386254, 0.051306873184898356, 0.051306873184898356, 0.05227492739593417, 0.05227492739593417, 0.05421103581800581, 0.05421103581800581, 0.05517909002904162, 0.05517909002904162, 0.05614714424007745, 0.05614714424007745, 0.060019361084220714, 0.060019361084220714, 0.061955469506292354, 0.061955469506292354, 0.06389157792836399, 0.06389157792836399, 0.06582768635043562, 0.06582768635043562, 0.06776379477250725, 0.06776379477250725, 0.0696999031945789, 0.0696999031945789, 0.07163601161665054, 0.07163601161665054, 0.07454017424975799, 0.07454017424975799, 0.07744433688286544, 0.07744433688286544, 0.07841239109390126, 0.07841239109390126, 0.07938044530493708, 0.07938044530493708, 0.08131655372700872, 0.08131655372700872, 0.08325266214908035, 0.08325266214908035, 0.08422071636011616, 0.08422071636011616, 0.08615682478218781, 0.08615682478218781, 0.0909970958373669, 0.0909970958373669, 0.09196515004840271, 0.09196515004840271, 0.09293320425943853, 0.09293320425943853, 0.09390125847047434, 0.09390125847047434, 0.09583736689254599, 0.09583736689254599, 0.0968054211035818, 0.0968054211035818, 0.09777347531461762, 0.09777347531461762, 0.09874152952565343, 0.09874152952565343, 0.10164569215876089, 0.10164569215876089, 0.10261374636979671, 0.10261374636979671, 0.10648596321393998, 0.10648596321393998, 0.1074540174249758, 0.1074540174249758, 0.10842207163601161, 0.10842207163601161, 0.10939012584704744, 0.10939012584704744, 0.11035818005808325, 0.11035818005808325, 0.1122942884801549, 0.1122942884801549, 0.11423039690222653, 0.11423039690222653, 0.11713455953533398, 0.11713455953533398, 0.12003872216844143, 0.12003872216844143, 0.12197483059051308, 0.12197483059051308, 0.12391093901258471, 0.12391093901258471, 0.1287512100677638, 0.1287512100677638, 0.12971926427879962, 0.12971926427879962, 0.13068731848983542, 0.13068731848983542, 0.13165537270087124, 0.13165537270087124, 0.13262342691190707, 0.13262342691190707, 0.1355275895450145, 0.1355275895450145, 0.13746369796708616, 0.13746369796708616, 0.13843175217812198, 0.13843175217812198, 0.1403678606001936, 0.1403678606001936, 0.14133591481122942, 0.14133591481122942, 0.14230396902226525, 0.14230396902226525, 0.14327202323330107, 0.14327202323330107, 0.1442400774443369, 0.1442400774443369, 0.14617618586640851, 0.14617618586640851, 0.14714424007744434, 0.14714424007744434, 0.14908034849951599, 0.14908034849951599, 0.1510164569215876, 0.1510164569215876, 0.15295256534365925, 0.15295256534365925, 0.15392061955469508, 0.15392061955469508, 0.15779283639883834, 0.15779283639883834, 0.15972894482090996, 0.15972894482090996, 0.16456921587608905, 0.16456921587608905, 0.16844143272023232, 0.16844143272023232, 0.17037754114230397, 0.17037754114230397, 0.17231364956437561, 0.17231364956437561, 0.17424975798644723, 0.17424975798644723, 0.17618586640851888, 0.17618586640851888, 0.1781219748305905, 0.1781219748305905, 0.18005808325266215, 0.18005808325266215, 0.18102613746369797, 0.18102613746369797, 0.1819941916747338, 0.1819941916747338, 0.1829622458857696, 0.1829622458857696, 0.1887705711519845, 0.1887705711519845, 0.19167473378509198, 0.19167473378509198, 0.19264278799612777, 0.19264278799612777, 0.1936108422071636, 0.1936108422071636, 0.19748305905130686, 0.19748305905130686, 0.20135527589545016, 0.20135527589545016, 0.20619554695062922, 0.20619554695062922, 0.20716360116166505, 0.20716360116166505, 0.2110358180058083, 0.2110358180058083, 0.21297192642787996, 0.21297192642787996, 0.21878025169409487, 0.21878025169409487, 0.2197483059051307, 0.2197483059051307, 0.2245885769603098, 0.2245885769603098, 0.22555663117134558, 0.22555663117134558, 0.2265246853823814, 0.2265246853823814, 0.22749273959341723, 0.22749273959341723, 0.22846079380445306, 0.22846079380445306, 0.23039690222652467, 0.23039690222652467, 0.2468538238141336, 0.2468538238141336, 0.24975798644724104, 0.24975798644724104, 0.25072604065827686, 0.25072604065827686, 0.26427879961277834, 0.26427879961277834, 0.27202323330106487, 0.27202323330106487, 0.27299128751210067, 0.27299128751210067, 0.27686350435624396, 0.27686350435624396, 0.2836398838334947, 0.2836398838334947, 0.2884801548886738, 0.2884801548886738, 0.2933204259438529, 0.2933204259438529, 0.30009680542110356, 0.30009680542110356, 0.3020329138431752, 0.3020329138431752, 0.3068731848983543, 0.3068731848983543, 0.30784123910939015, 0.30784123910939015, 0.31364956437560504, 0.31364956437560504, 0.31848983543078413, 0.31848983543078413, 0.3291384317521781, 0.3291384317521781, 0.345595353339787, 0.345595353339787, 0.3465634075508228, 0.3465634075508228, 0.356243949661181, 0.356243949661181, 0.3707647628267183, 0.3707647628267183, 0.3727008712487899, 0.3727008712487899, 0.37560503388189737, 0.37560503388189737, 0.3872216844143272, 0.3872216844143272, 0.38818973862536305, 0.38818973862536305, 0.3910939012584705, 0.3910939012584705, 0.40077444336882867, 0.40077444336882867, 0.40561471442400776, 0.40561471442400776, 0.41045498547918685, 0.41045498547918685, 0.41239109390125844, 0.41239109390125844, 0.4181994191674734, 0.4181994191674734, 0.4230396902226525, 0.4230396902226525, 0.42400774443368827, 0.42400774443368827, 0.4259438528557599, 0.4259438528557599, 0.4346563407550823, 0.4346563407550823, 0.441432720232333, 0.441432720232333, 0.4743465634075508, 0.4743465634075508, 0.49177153920619554, 0.49177153920619554, 0.5062923523717329, 0.5062923523717329, 0.5150048402710552, 0.5150048402710552, 0.5285575992255567, 0.5285575992255567, 0.5430784123910939, 0.5430784123910939, 0.5682478218780251, 0.5682478218780251, 0.569215876089061, 0.569215876089061, 0.6176185866408519, 0.6176185866408519, 0.7241045498547919, 0.7241045498547919, 0.7250726040658277, 0.7250726040658277, 0.7260406582768635, 0.7260406582768635, 0.7270087124878993, 0.7270087124878993, 0.7279767666989352, 0.7279767666989352, 0.7366892545982575, 0.7366892545982575, 0.7376573088092934, 0.7376573088092934, 0.7415295256534365, 0.7415295256534365, 0.7424975798644724, 0.7424975798644724, 0.7473378509196515, 0.7473378509196515, 0.7492739593417231, 0.7492739593417231, 0.7521781219748306, 0.7521781219748306, 0.7541142303969022, 0.7541142303969022, 0.7560503388189739, 0.7560503388189739, 0.7696030977734754, 0.7696030977734754, 0.78702807357212, 0.78702807357212, 0.7938044530493708, 0.7938044530493708, 0.7986447241045499, 0.7986447241045499, 0.8393030009680542, 0.8393030009680542, 0.9128751210067764, 0.9128751210067764, 1.0], \"y\": [0.0, 0.00267379679144385, 0.013368983957219251, 0.013368983957219251, 0.0213903743315508, 0.0213903743315508, 0.0374331550802139, 0.0374331550802139, 0.0427807486631016, 0.0427807486631016, 0.045454545454545456, 0.045454545454545456, 0.06417112299465241, 0.06417112299465241, 0.06951871657754011, 0.06951871657754011, 0.07219251336898395, 0.07219251336898395, 0.0855614973262032, 0.0855614973262032, 0.08823529411764706, 0.08823529411764706, 0.09090909090909091, 0.09090909090909091, 0.12299465240641712, 0.12299465240641712, 0.12566844919786097, 0.12566844919786097, 0.13636363636363635, 0.13636363636363635, 0.14171122994652408, 0.14171122994652408, 0.17379679144385027, 0.17379679144385027, 0.17647058823529413, 0.17647058823529413, 0.18181818181818182, 0.18181818181818182, 0.18716577540106952, 0.18716577540106952, 0.20053475935828877, 0.20053475935828877, 0.21122994652406418, 0.21122994652406418, 0.22192513368983957, 0.22192513368983957, 0.22994652406417113, 0.22994652406417113, 0.232620320855615, 0.232620320855615, 0.24064171122994651, 0.24064171122994651, 0.24331550802139038, 0.24331550802139038, 0.24866310160427807, 0.24866310160427807, 0.2620320855614973, 0.2620320855614973, 0.2647058823529412, 0.2647058823529412, 0.26737967914438504, 0.26737967914438504, 0.2700534759358289, 0.2700534759358289, 0.27807486631016043, 0.27807486631016043, 0.2807486631016043, 0.2807486631016043, 0.2914438502673797, 0.2914438502673797, 0.29411764705882354, 0.29411764705882354, 0.3048128342245989, 0.3048128342245989, 0.31283422459893045, 0.31283422459893045, 0.3235294117647059, 0.3235294117647059, 0.339572192513369, 0.339572192513369, 0.3502673796791444, 0.3502673796791444, 0.35561497326203206, 0.35561497326203206, 0.3582887700534759, 0.3582887700534759, 0.3609625668449198, 0.3609625668449198, 0.36363636363636365, 0.36363636363636365, 0.3689839572192513, 0.3689839572192513, 0.37433155080213903, 0.37433155080213903, 0.3877005347593583, 0.3877005347593583, 0.40106951871657753, 0.40106951871657753, 0.40641711229946526, 0.40641711229946526, 0.4144385026737968, 0.4144385026737968, 0.41711229946524064, 0.41711229946524064, 0.4197860962566845, 0.4197860962566845, 0.42513368983957217, 0.42513368983957217, 0.4358288770053476, 0.4358288770053476, 0.4411764705882353, 0.4411764705882353, 0.44919786096256686, 0.44919786096256686, 0.45187165775401067, 0.45187165775401067, 0.45454545454545453, 0.45454545454545453, 0.45989304812834225, 0.45989304812834225, 0.4732620320855615, 0.4732620320855615, 0.4786096256684492, 0.4786096256684492, 0.4893048128342246, 0.4893048128342246, 0.5080213903743316, 0.5080213903743316, 0.5106951871657754, 0.5106951871657754, 0.5187165775401069, 0.5187165775401069, 0.5240641711229946, 0.5240641711229946, 0.5347593582887701, 0.5347593582887701, 0.5401069518716578, 0.5401069518716578, 0.5427807486631016, 0.5427807486631016, 0.5508021390374331, 0.5508021390374331, 0.553475935828877, 0.553475935828877, 0.5561497326203209, 0.5561497326203209, 0.5588235294117647, 0.5588235294117647, 0.5641711229946524, 0.5641711229946524, 0.56951871657754, 0.56951871657754, 0.5721925133689839, 0.5721925133689839, 0.5828877005347594, 0.5828877005347594, 0.5882352941176471, 0.5882352941176471, 0.5962566844919787, 0.5962566844919787, 0.5989304812834224, 0.5989304812834224, 0.6016042780748663, 0.6016042780748663, 0.6042780748663101, 0.6042780748663101, 0.6096256684491979, 0.6096256684491979, 0.6122994652406417, 0.6122994652406417, 0.6149732620320856, 0.6149732620320856, 0.6176470588235294, 0.6176470588235294, 0.6229946524064172, 0.6229946524064172, 0.6336898395721925, 0.6336898395721925, 0.6390374331550802, 0.6390374331550802, 0.6417112299465241, 0.6417112299465241, 0.6470588235294118, 0.6470588235294118, 0.6497326203208557, 0.6497326203208557, 0.6550802139037433, 0.6550802139037433, 0.6577540106951871, 0.6577540106951871, 0.660427807486631, 0.660427807486631, 0.6631016042780749, 0.6631016042780749, 0.6657754010695187, 0.6657754010695187, 0.6684491978609626, 0.6684491978609626, 0.6737967914438503, 0.6737967914438503, 0.6764705882352942, 0.6764705882352942, 0.6844919786096256, 0.6844919786096256, 0.6871657754010695, 0.6871657754010695, 0.6925133689839572, 0.6925133689839572, 0.6951871657754011, 0.6951871657754011, 0.6978609625668449, 0.6978609625668449, 0.713903743315508, 0.713903743315508, 0.7165775401069518, 0.7165775401069518, 0.7219251336898396, 0.7219251336898396, 0.7245989304812834, 0.7245989304812834, 0.7272727272727273, 0.7272727272727273, 0.7299465240641712, 0.7299465240641712, 0.7433155080213903, 0.7433155080213903, 0.7486631016042781, 0.7486631016042781, 0.7513368983957219, 0.7513368983957219, 0.7566844919786097, 0.7566844919786097, 0.7593582887700535, 0.7593582887700535, 0.7620320855614974, 0.7620320855614974, 0.767379679144385, 0.767379679144385, 0.7700534759358288, 0.7700534759358288, 0.7727272727272727, 0.7727272727272727, 0.7754010695187166, 0.7754010695187166, 0.7780748663101604, 0.7780748663101604, 0.7807486631016043, 0.7807486631016043, 0.7834224598930482, 0.7834224598930482, 0.786096256684492, 0.786096256684492, 0.7914438502673797, 0.7914438502673797, 0.7994652406417112, 0.7994652406417112, 0.8048128342245989, 0.8048128342245989, 0.8074866310160428, 0.8074866310160428, 0.8101604278074866, 0.8101604278074866, 0.8128342245989305, 0.8128342245989305, 0.8181818181818182, 0.8181818181818182, 0.8235294117647058, 0.8235294117647058, 0.8288770053475936, 0.8288770053475936, 0.8315508021390374, 0.8315508021390374, 0.8342245989304813, 0.8342245989304813, 0.8368983957219251, 0.8368983957219251, 0.8422459893048129, 0.8422459893048129, 0.8449197860962567, 0.8449197860962567, 0.8475935828877005, 0.8475935828877005, 0.8502673796791443, 0.8502673796791443, 0.8556149732620321, 0.8556149732620321, 0.8582887700534759, 0.8582887700534759, 0.8609625668449198, 0.8609625668449198, 0.8636363636363636, 0.8636363636363636, 0.8663101604278075, 0.8663101604278075, 0.8689839572192514, 0.8689839572192514, 0.8716577540106952, 0.8716577540106952, 0.8743315508021391, 0.8743315508021391, 0.8903743315508021, 0.8903743315508021, 0.893048128342246, 0.893048128342246, 0.8957219251336899, 0.8957219251336899, 0.9010695187165776, 0.9010695187165776, 0.9037433155080213, 0.9037433155080213, 0.9064171122994652, 0.9064171122994652, 0.9090909090909091, 0.9090909090909091, 0.9117647058823529, 0.9117647058823529, 0.9144385026737968, 0.9144385026737968, 0.9171122994652406, 0.9171122994652406, 0.9197860962566845, 0.9197860962566845, 0.9224598930481284, 0.9224598930481284, 0.93048128342246, 0.93048128342246, 0.9331550802139037, 0.9331550802139037, 0.9358288770053476, 0.9358288770053476, 0.9385026737967914, 0.9385026737967914, 0.9411764705882353, 0.9411764705882353, 0.9438502673796791, 0.9438502673796791, 0.946524064171123, 0.946524064171123, 0.9491978609625669, 0.9491978609625669, 0.9518716577540107, 0.9518716577540107, 0.9545454545454546, 0.9545454545454546, 0.9598930481283422, 0.9598930481283422, 0.9625668449197861, 0.9625668449197861, 0.9652406417112299, 0.9652406417112299, 0.9679144385026738, 0.9679144385026738, 0.9705882352941176, 0.9705882352941176, 0.9759358288770054, 0.9759358288770054, 0.9786096256684492, 0.9786096256684492, 0.9812834224598931, 0.9812834224598931, 0.983957219251337, 0.983957219251337, 0.9866310160427807, 0.9866310160427807, 0.9893048128342246, 0.9893048128342246, 0.9946524064171123, 0.9946524064171123, 0.9973262032085561, 0.9973262032085561, 1.0, 1.0]}, {\"mode\": \"lines\", \"name\": \"NN\", \"type\": \"scatter\", \"x\": [0.0, 0.0, 0.0, 0.000968054211035818, 0.000968054211035818, 0.001936108422071636, 0.001936108422071636, 0.002904162633107454, 0.002904162633107454, 0.003872216844143272, 0.003872216844143272, 0.005808325266214908, 0.005808325266214908, 0.008712487899322363, 0.008712487899322363, 0.00968054211035818, 0.00968054211035818, 0.010648596321393998, 0.010648596321393998, 0.011616650532429816, 0.011616650532429816, 0.013552758954501452, 0.013552758954501452, 0.01452081316553727, 0.01452081316553727, 0.015488867376573089, 0.015488867376573089, 0.016456921587608905, 0.016456921587608905, 0.01936108422071636, 0.01936108422071636, 0.02032913843175218, 0.02032913843175218, 0.021297192642787996, 0.021297192642787996, 0.022265246853823813, 0.022265246853823813, 0.023233301064859633, 0.023233301064859633, 0.02516940948693127, 0.02516940948693127, 0.027105517909002903, 0.027105517909002903, 0.028073572120038724, 0.028073572120038724, 0.030009680542110357, 0.030009680542110357, 0.031945788964181994, 0.031945788964181994, 0.03581800580832527, 0.03581800580832527, 0.036786060019361085, 0.036786060019361085, 0.0377541142303969, 0.0377541142303969, 0.03969022265246854, 0.03969022265246854, 0.04065827686350436, 0.04065827686350436, 0.041626331074540175, 0.041626331074540175, 0.044530493707647625, 0.044530493707647625, 0.04549854791868345, 0.04549854791868345, 0.046466602129719266, 0.046466602129719266, 0.051306873184898356, 0.051306873184898356, 0.05421103581800581, 0.05421103581800581, 0.05517909002904162, 0.05517909002904162, 0.05614714424007745, 0.05614714424007745, 0.05808325266214908, 0.05808325266214908, 0.060019361084220714, 0.060019361084220714, 0.06098741529525654, 0.06098741529525654, 0.06292352371732816, 0.06292352371732816, 0.06485963213939981, 0.06485963213939981, 0.06582768635043562, 0.06582768635043562, 0.06776379477250725, 0.06776379477250725, 0.07260406582768635, 0.07260406582768635, 0.07357212003872217, 0.07357212003872217, 0.0755082284607938, 0.0755082284607938, 0.07744433688286544, 0.07744433688286544, 0.07841239109390126, 0.07841239109390126, 0.07938044530493708, 0.07938044530493708, 0.08228460793804453, 0.08228460793804453, 0.08422071636011616, 0.08422071636011616, 0.0909970958373669, 0.0909970958373669, 0.09390125847047434, 0.09390125847047434, 0.09486931268151017, 0.09486931268151017, 0.09583736689254599, 0.09583736689254599, 0.0968054211035818, 0.0968054211035818, 0.09970958373668926, 0.09970958373668926, 0.10067763794772508, 0.10067763794772508, 0.10164569215876089, 0.10164569215876089, 0.10261374636979671, 0.10261374636979671, 0.10358180058083252, 0.10358180058083252, 0.10842207163601161, 0.10842207163601161, 0.10939012584704744, 0.10939012584704744, 0.11132623426911907, 0.11132623426911907, 0.1122942884801549, 0.1122942884801549, 0.11423039690222653, 0.11423039690222653, 0.11519845111326234, 0.11519845111326234, 0.11713455953533398, 0.11713455953533398, 0.11907066795740562, 0.11907066795740562, 0.12003872216844143, 0.12003872216844143, 0.12100677637947725, 0.12100677637947725, 0.12391093901258471, 0.12391093901258471, 0.1287512100677638, 0.1287512100677638, 0.13068731848983542, 0.13068731848983542, 0.13262342691190707, 0.13262342691190707, 0.13843175217812198, 0.13843175217812198, 0.14133591481122942, 0.14133591481122942, 0.14327202323330107, 0.14327202323330107, 0.1442400774443369, 0.1442400774443369, 0.1452081316553727, 0.1452081316553727, 0.14714424007744434, 0.14714424007744434, 0.15004840271055178, 0.15004840271055178, 0.15488867376573087, 0.15488867376573087, 0.1558567279767667, 0.1558567279767667, 0.15779283639883834, 0.15779283639883834, 0.15876089060987417, 0.15876089060987417, 0.15972894482090996, 0.15972894482090996, 0.16263310745401743, 0.16263310745401743, 0.16360116166505323, 0.16360116166505323, 0.16456921587608905, 0.16456921587608905, 0.16553727008712488, 0.16553727008712488, 0.1713455953533398, 0.1713455953533398, 0.17424975798644723, 0.17424975798644723, 0.17521781219748306, 0.17521781219748306, 0.1781219748305905, 0.1781219748305905, 0.18102613746369797, 0.18102613746369797, 0.1829622458857696, 0.1829622458857696, 0.18393030009680542, 0.18393030009680542, 0.18586640851887706, 0.18586640851887706, 0.18780251694094868, 0.18780251694094868, 0.1936108422071636, 0.1936108422071636, 0.19651500484027107, 0.19651500484027107, 0.1984511132623427, 0.1984511132623427, 0.20329138431752178, 0.20329138431752178, 0.20522749273959343, 0.20522749273959343, 0.20619554695062922, 0.20619554695062922, 0.20813165537270087, 0.20813165537270087, 0.2090997095837367, 0.2090997095837367, 0.21006776379477252, 0.21006776379477252, 0.21393998063891578, 0.21393998063891578, 0.21684414327202323, 0.21684414327202323, 0.2197483059051307, 0.2197483059051307, 0.22265246853823814, 0.22265246853823814, 0.22362052274927396, 0.22362052274927396, 0.2265246853823814, 0.2265246853823814, 0.22846079380445306, 0.22846079380445306, 0.22942884801548888, 0.22942884801548888, 0.2313649564375605, 0.2313649564375605, 0.23233301064859632, 0.23233301064859632, 0.23330106485963215, 0.23330106485963215, 0.2371732817037754, 0.2371732817037754, 0.24104549854791868, 0.24104549854791868, 0.2420135527589545, 0.2420135527589545, 0.24298160696999033, 0.24298160696999033, 0.24491771539206195, 0.24491771539206195, 0.24588576960309777, 0.24588576960309777, 0.2536302032913843, 0.2536302032913843, 0.25653436592449175, 0.25653436592449175, 0.26040658276863504, 0.26040658276863504, 0.2623426911907067, 0.2623426911907067, 0.26524685382381413, 0.26524685382381413, 0.2739593417231365, 0.2739593417231365, 0.2787996127783156, 0.2787996127783156, 0.28170377541142305, 0.28170377541142305, 0.28267182962245885, 0.28267182962245885, 0.2894482090997096, 0.2894482090997096, 0.2942884801548887, 0.2942884801548887, 0.30396902226524686, 0.30396902226524686, 0.3059051306873185, 0.3059051306873185, 0.31364956437560504, 0.31364956437560504, 0.31461761858664083, 0.31461761858664083, 0.3165537270087125, 0.3165537270087125, 0.3204259438528558, 0.3204259438528558, 0.32236205227492737, 0.32236205227492737, 0.3281703775411423, 0.3281703775411423, 0.33591481122942884, 0.33591481122942884, 0.33688286544046464, 0.33688286544046464, 0.34075508228460794, 0.34075508228460794, 0.34462729912875123, 0.34462729912875123, 0.3465634075508228, 0.3465634075508228, 0.3552758954501452, 0.3552758954501452, 0.35721200387221685, 0.35721200387221685, 0.3649564375605034, 0.3649564375605034, 0.3659244917715392, 0.3659244917715392, 0.37850919651500486, 0.37850919651500486, 0.39012584704743464, 0.39012584704743464, 0.39399806389157793, 0.39399806389157793, 0.3998063891577928, 0.3998063891577928, 0.40077444336882867, 0.40077444336882867, 0.40561471442400776, 0.40561471442400776, 0.40658276863504356, 0.40658276863504356, 0.4075508228460794, 0.4075508228460794, 0.4249757986447241, 0.4249757986447241, 0.42787996127783157, 0.42787996127783157, 0.4346563407550823, 0.4346563407550823, 0.43756050338818975, 0.43756050338818975, 0.44336882865440463, 0.44336882865440463, 0.45982575024201355, 0.45982575024201355, 0.46950629235237173, 0.46950629235237173, 0.4724104549854792, 0.4724104549854792, 0.4753146176185866, 0.4753146176185866, 0.4782187802516941, 0.4782187802516941, 0.4791868344627299, 0.4791868344627299, 0.4801548886737657, 0.4801548886737657, 0.49080348499515974, 0.49080348499515974, 0.5150048402710552, 0.5150048402710552, 0.5198451113262342, 0.5198451113262342, 0.5295256534365924, 0.5295256534365924, 0.5450145208131656, 0.5450145208131656, 0.5663117134559535, 0.5663117134559535, 0.5924491771539206, 0.5924491771539206, 0.6176185866408519, 0.6176185866408519, 0.6515004840271055, 0.6515004840271055, 0.6524685382381413, 0.6524685382381413, 0.6631171345595354, 0.6631171345595354, 0.6718296224588577, 0.6718296224588577, 0.6902226524685382, 0.6902226524685382, 0.8267182962245886, 0.8267182962245886, 1.0], \"y\": [0.0, 0.00267379679144385, 0.0053475935828877, 0.0053475935828877, 0.008021390374331552, 0.008021390374331552, 0.029411764705882353, 0.029411764705882353, 0.06417112299465241, 0.06417112299465241, 0.06951871657754011, 0.06951871657754011, 0.08021390374331551, 0.08021390374331551, 0.10160427807486631, 0.10160427807486631, 0.10962566844919786, 0.10962566844919786, 0.11764705882352941, 0.11764705882352941, 0.13903743315508021, 0.13903743315508021, 0.14171122994652408, 0.14171122994652408, 0.1443850267379679, 0.1443850267379679, 0.1657754010695187, 0.1657754010695187, 0.17379679144385027, 0.17379679144385027, 0.17914438502673796, 0.17914438502673796, 0.18181818181818182, 0.18181818181818182, 0.18983957219251338, 0.18983957219251338, 0.19786096256684493, 0.19786096256684493, 0.20320855614973263, 0.20320855614973263, 0.20588235294117646, 0.20588235294117646, 0.20855614973262032, 0.20855614973262032, 0.21122994652406418, 0.21122994652406418, 0.21390374331550802, 0.21390374331550802, 0.23529411764705882, 0.23529411764705882, 0.24331550802139038, 0.24331550802139038, 0.25133689839572193, 0.25133689839572193, 0.25935828877005346, 0.25935828877005346, 0.27540106951871657, 0.27540106951871657, 0.2807486631016043, 0.2807486631016043, 0.28342245989304815, 0.28342245989304815, 0.28609625668449196, 0.28609625668449196, 0.2887700534759358, 0.2887700534759358, 0.2914438502673797, 0.2914438502673797, 0.31016042780748665, 0.31016042780748665, 0.31283422459893045, 0.31283422459893045, 0.32085561497326204, 0.32085561497326204, 0.32620320855614976, 0.32620320855614976, 0.3342245989304813, 0.3342245989304813, 0.3422459893048128, 0.3422459893048128, 0.3502673796791444, 0.3502673796791444, 0.35561497326203206, 0.35561497326203206, 0.3582887700534759, 0.3582887700534759, 0.36363636363636365, 0.36363636363636365, 0.37433155080213903, 0.37433155080213903, 0.3850267379679144, 0.3850267379679144, 0.3877005347593583, 0.3877005347593583, 0.393048128342246, 0.393048128342246, 0.39572192513368987, 0.39572192513368987, 0.3983957219251337, 0.3983957219251337, 0.40641711229946526, 0.40641711229946526, 0.4144385026737968, 0.4144385026737968, 0.42245989304812837, 0.42245989304812837, 0.42513368983957217, 0.42513368983957217, 0.42780748663101603, 0.42780748663101603, 0.4385026737967914, 0.4385026737967914, 0.4411764705882353, 0.4411764705882353, 0.4572192513368984, 0.4572192513368984, 0.45989304812834225, 0.45989304812834225, 0.4625668449197861, 0.4625668449197861, 0.46524064171123, 0.46524064171123, 0.47058823529411764, 0.47058823529411764, 0.4732620320855615, 0.4732620320855615, 0.48128342245989303, 0.48128342245989303, 0.4839572192513369, 0.4839572192513369, 0.49732620320855614, 0.49732620320855614, 0.5240641711229946, 0.5240641711229946, 0.5267379679144385, 0.5267379679144385, 0.5294117647058824, 0.5294117647058824, 0.5427807486631016, 0.5427807486631016, 0.5588235294117647, 0.5588235294117647, 0.5721925133689839, 0.5721925133689839, 0.5802139037433155, 0.5802139037433155, 0.5828877005347594, 0.5828877005347594, 0.5935828877005348, 0.5935828877005348, 0.5962566844919787, 0.5962566844919787, 0.5989304812834224, 0.5989304812834224, 0.606951871657754, 0.606951871657754, 0.6096256684491979, 0.6096256684491979, 0.6203208556149733, 0.6203208556149733, 0.6229946524064172, 0.6229946524064172, 0.6256684491978609, 0.6256684491978609, 0.6283422459893048, 0.6283422459893048, 0.6336898395721925, 0.6336898395721925, 0.6363636363636364, 0.6363636363636364, 0.6390374331550802, 0.6390374331550802, 0.6417112299465241, 0.6417112299465241, 0.6443850267379679, 0.6443850267379679, 0.6497326203208557, 0.6497326203208557, 0.660427807486631, 0.660427807486631, 0.6684491978609626, 0.6684491978609626, 0.6737967914438503, 0.6737967914438503, 0.6764705882352942, 0.6764705882352942, 0.6871657754010695, 0.6871657754010695, 0.6898395721925134, 0.6898395721925134, 0.6925133689839572, 0.6925133689839572, 0.6978609625668449, 0.6978609625668449, 0.7032085561497327, 0.7032085561497327, 0.7058823529411765, 0.7058823529411765, 0.7085561497326203, 0.7085561497326203, 0.7112299465240641, 0.7112299465240641, 0.713903743315508, 0.713903743315508, 0.7192513368983957, 0.7192513368983957, 0.7245989304812834, 0.7245989304812834, 0.7272727272727273, 0.7272727272727273, 0.7299465240641712, 0.7299465240641712, 0.732620320855615, 0.732620320855615, 0.7352941176470589, 0.7352941176470589, 0.7379679144385026, 0.7379679144385026, 0.7406417112299465, 0.7406417112299465, 0.7486631016042781, 0.7486631016042781, 0.7513368983957219, 0.7513368983957219, 0.7566844919786097, 0.7566844919786097, 0.7593582887700535, 0.7593582887700535, 0.7620320855614974, 0.7620320855614974, 0.767379679144385, 0.767379679144385, 0.7700534759358288, 0.7700534759358288, 0.7727272727272727, 0.7727272727272727, 0.7754010695187166, 0.7754010695187166, 0.7807486631016043, 0.7807486631016043, 0.7834224598930482, 0.7834224598930482, 0.786096256684492, 0.786096256684492, 0.7887700534759359, 0.7887700534759359, 0.7914438502673797, 0.7914438502673797, 0.7941176470588235, 0.7941176470588235, 0.7967914438502673, 0.7967914438502673, 0.8021390374331551, 0.8021390374331551, 0.8048128342245989, 0.8048128342245989, 0.8074866310160428, 0.8074866310160428, 0.8128342245989305, 0.8128342245989305, 0.8155080213903744, 0.8155080213903744, 0.8181818181818182, 0.8181818181818182, 0.820855614973262, 0.820855614973262, 0.8262032085561497, 0.8262032085561497, 0.8288770053475936, 0.8288770053475936, 0.8315508021390374, 0.8315508021390374, 0.839572192513369, 0.839572192513369, 0.8422459893048129, 0.8422459893048129, 0.8449197860962567, 0.8449197860962567, 0.8475935828877005, 0.8475935828877005, 0.8502673796791443, 0.8502673796791443, 0.8556149732620321, 0.8556149732620321, 0.8582887700534759, 0.8582887700534759, 0.8609625668449198, 0.8609625668449198, 0.8636363636363636, 0.8636363636363636, 0.8663101604278075, 0.8663101604278075, 0.8689839572192514, 0.8689839572192514, 0.8716577540106952, 0.8716577540106952, 0.8743315508021391, 0.8743315508021391, 0.8770053475935828, 0.8770053475935828, 0.8823529411764706, 0.8823529411764706, 0.8850267379679144, 0.8850267379679144, 0.8877005347593583, 0.8877005347593583, 0.8903743315508021, 0.8903743315508021, 0.8957219251336899, 0.8957219251336899, 0.9010695187165776, 0.9010695187165776, 0.9037433155080213, 0.9037433155080213, 0.9064171122994652, 0.9064171122994652, 0.9090909090909091, 0.9090909090909091, 0.9117647058823529, 0.9117647058823529, 0.9144385026737968, 0.9144385026737968, 0.9171122994652406, 0.9171122994652406, 0.9197860962566845, 0.9197860962566845, 0.9224598930481284, 0.9224598930481284, 0.9251336898395722, 0.9251336898395722, 0.9278074866310161, 0.9278074866310161, 0.93048128342246, 0.93048128342246, 0.9331550802139037, 0.9331550802139037, 0.9358288770053476, 0.9358288770053476, 0.9385026737967914, 0.9385026737967914, 0.9411764705882353, 0.9411764705882353, 0.946524064171123, 0.946524064171123, 0.9491978609625669, 0.9491978609625669, 0.9545454545454546, 0.9545454545454546, 0.9572192513368984, 0.9572192513368984, 0.9598930481283422, 0.9598930481283422, 0.9625668449197861, 0.9625668449197861, 0.9652406417112299, 0.9652406417112299, 0.9679144385026738, 0.9679144385026738, 0.9705882352941176, 0.9705882352941176, 0.9732620320855615, 0.9732620320855615, 0.9759358288770054, 0.9759358288770054, 0.9786096256684492, 0.9786096256684492, 0.9812834224598931, 0.9812834224598931, 0.983957219251337, 0.983957219251337, 0.9866310160427807, 0.9866310160427807, 0.9893048128342246, 0.9893048128342246, 0.9919786096256684, 0.9919786096256684, 0.9973262032085561, 0.9973262032085561, 1.0, 1.0]}, {\"mode\": \"lines\", \"name\": \"KNN\", \"type\": \"scatter\", \"x\": [0.0, 0.0484027105517909, 0.1335914811229429, 0.23426911907066797, 0.30880929332042595, 0.40561471442400776, 0.49080348499515974, 0.6205227492739593, 1.0], \"y\": [0.0, 0.21122994652406418, 0.4385026737967914, 0.660427807486631, 0.7433155080213903, 0.8342245989304813, 0.8957219251336899, 0.9652406417112299, 1.0]}, {\"mode\": \"lines\", \"name\": \"DT\", \"type\": \"scatter\", \"x\": [0.0, 0.046466602129719266, 0.051306873184898356, 0.05517909002904162, 0.057115198451113264, 0.06292352371732816, 0.06873184898354308, 0.0696999031945789, 0.0755082284607938, 0.08325266214908035, 0.08712487899322362, 0.11713455953533398, 0.12003872216844143, 0.12487899322362052, 0.12584704743465633, 0.12584704743465633, 0.1287512100677638, 0.1287512100677638, 0.13649564375605033, 0.13746369796708616, 0.15972894482090996, 0.1616650532429816, 0.16553727008712488, 0.1713455953533398, 0.17424975798644723, 0.1829622458857696, 0.1887705711519845, 0.20619554695062922, 0.20716360116166505, 0.21781219748305905, 0.2265246853823814, 0.22749273959341723, 0.23039690222652467, 0.23330106485963215, 0.23910939012584706, 0.24394966118102615, 0.2575024201355276, 0.2623426911907067, 0.26524685382381413, 0.26621490803484993, 0.2962245885769603, 0.2962245885769603, 0.2971926427879961, 0.30009680542110356, 0.3020329138431752, 0.30300096805421106, 0.30493707647628265, 0.3059051306873185, 0.3107454017424976, 0.31461761858664083, 0.3155856727976767, 0.3165537270087125, 0.324298160696999, 0.324298160696999, 0.3436592449177154, 0.3465634075508228, 0.35237173281703776, 0.36302032913843174, 0.3688286544046467, 0.3727008712487899, 0.37947725072604066, 0.3910939012584705, 0.3910939012584705, 0.3959341723136496, 0.4027105517909003, 0.4085188770571152, 0.409486931268151, 0.41239109390125844, 0.41239109390125844, 0.42013552758954503, 0.4249757986447241, 0.4269119070667957, 0.4346563407550823, 0.441432720232333, 0.4443368828654405, 0.45595353339787026, 0.46466602129719264, 0.48112294288480156, 0.4898354307841239, 0.4985479186834463, 0.5711519845111326, 1.0], \"y\": [0.0, 0.045454545454545456, 0.07754010695187166, 0.15508021390374332, 0.16042780748663102, 0.16844919786096257, 0.20588235294117646, 0.20588235294117646, 0.21122994652406418, 0.25133689839572193, 0.2620320855614973, 0.42780748663101603, 0.4385026737967914, 0.4411764705882353, 0.446524064171123, 0.44919786096256686, 0.4625668449197861, 0.46524064171123, 0.4732620320855615, 0.4732620320855615, 0.5213903743315508, 0.5267379679144385, 0.5641711229946524, 0.5748663101604278, 0.5748663101604278, 0.5802139037433155, 0.5802139037433155, 0.606951871657754, 0.6096256684491979, 0.6176470588235294, 0.6443850267379679, 0.6443850267379679, 0.6550802139037433, 0.6684491978609626, 0.6818181818181818, 0.6871657754010695, 0.6978609625668449, 0.6978609625668449, 0.6978609625668449, 0.6978609625668449, 0.7085561497326203, 0.7165775401069518, 0.7192513368983957, 0.7245989304812834, 0.7352941176470589, 0.7379679144385026, 0.7433155080213903, 0.7433155080213903, 0.7593582887700535, 0.7700534759358288, 0.7700534759358288, 0.7754010695187166, 0.7834224598930482, 0.786096256684492, 0.8021390374331551, 0.8021390374331551, 0.8048128342245989, 0.8235294117647058, 0.8235294117647058, 0.8315508021390374, 0.8315508021390374, 0.8449197860962567, 0.8475935828877005, 0.8636363636363636, 0.8689839572192514, 0.8743315508021391, 0.8743315508021391, 0.8743315508021391, 0.8770053475935828, 0.8796791443850267, 0.8796791443850267, 0.8823529411764706, 0.8823529411764706, 0.893048128342246, 0.893048128342246, 0.893048128342246, 0.893048128342246, 0.8983957219251337, 0.8983957219251337, 0.9010695187165776, 0.9037433155080213, 1.0]}, {\"mode\": \"lines\", \"name\": \"SVC\", \"type\": \"scatter\", \"x\": [0.0, 0.000968054211035818, 0.000968054211035818, 0.001936108422071636, 0.001936108422071636, 0.002904162633107454, 0.002904162633107454, 0.00484027105517909, 0.00484027105517909, 0.005808325266214908, 0.005808325266214908, 0.008712487899322363, 0.008712487899322363, 0.010648596321393998, 0.010648596321393998, 0.012584704743465635, 0.012584704743465635, 0.013552758954501452, 0.013552758954501452, 0.016456921587608905, 0.016456921587608905, 0.018393030009680542, 0.018393030009680542, 0.01936108422071636, 0.01936108422071636, 0.02032913843175218, 0.02032913843175218, 0.021297192642787996, 0.021297192642787996, 0.022265246853823813, 0.022265246853823813, 0.023233301064859633, 0.023233301064859633, 0.02420135527589545, 0.02420135527589545, 0.027105517909002903, 0.027105517909002903, 0.028073572120038724, 0.028073572120038724, 0.02904162633107454, 0.02904162633107454, 0.03291384317521781, 0.03291384317521781, 0.03581800580832527, 0.03581800580832527, 0.036786060019361085, 0.036786060019361085, 0.0377541142303969, 0.0377541142303969, 0.03969022265246854, 0.03969022265246854, 0.041626331074540175, 0.041626331074540175, 0.04259438528557599, 0.04259438528557599, 0.044530493707647625, 0.044530493707647625, 0.04549854791868345, 0.04549854791868345, 0.046466602129719266, 0.046466602129719266, 0.04743465634075508, 0.04743465634075508, 0.049370764762826716, 0.049370764762826716, 0.05033881897386254, 0.05033881897386254, 0.05227492739593417, 0.05227492739593417, 0.05421103581800581, 0.05421103581800581, 0.05808325266214908, 0.05808325266214908, 0.0590513068731849, 0.0590513068731849, 0.06098741529525654, 0.06098741529525654, 0.061955469506292354, 0.061955469506292354, 0.06292352371732816, 0.06292352371732816, 0.06679574056147145, 0.06679574056147145, 0.06776379477250725, 0.06776379477250725, 0.06873184898354308, 0.06873184898354308, 0.07066795740561471, 0.07066795740561471, 0.07163601161665054, 0.07163601161665054, 0.07357212003872217, 0.07357212003872217, 0.07647628267182963, 0.07647628267182963, 0.07744433688286544, 0.07744433688286544, 0.07841239109390126, 0.07841239109390126, 0.0803484995159729, 0.0803484995159729, 0.08228460793804453, 0.08228460793804453, 0.08325266214908035, 0.08325266214908035, 0.08615682478218781, 0.08615682478218781, 0.08809293320425944, 0.08809293320425944, 0.09002904162633107, 0.09002904162633107, 0.0909970958373669, 0.0909970958373669, 0.09486931268151017, 0.09486931268151017, 0.09583736689254599, 0.09583736689254599, 0.09777347531461762, 0.09777347531461762, 0.09970958373668926, 0.09970958373668926, 0.10067763794772508, 0.10067763794772508, 0.10164569215876089, 0.10164569215876089, 0.10261374636979671, 0.10261374636979671, 0.10454985479186835, 0.10454985479186835, 0.10551790900290416, 0.10551790900290416, 0.10648596321393998, 0.10648596321393998, 0.11132623426911907, 0.11132623426911907, 0.1132623426911907, 0.1132623426911907, 0.11519845111326234, 0.11519845111326234, 0.11616650532429816, 0.11616650532429816, 0.11713455953533398, 0.11713455953533398, 0.12003872216844143, 0.12003872216844143, 0.12197483059051308, 0.12197483059051308, 0.12294288480154889, 0.12294288480154889, 0.12391093901258471, 0.12391093901258471, 0.12487899322362052, 0.12487899322362052, 0.1287512100677638, 0.1287512100677638, 0.13068731848983542, 0.13068731848983542, 0.13165537270087124, 0.13165537270087124, 0.13746369796708616, 0.13746369796708616, 0.1403678606001936, 0.1403678606001936, 0.14133591481122942, 0.14133591481122942, 0.14230396902226525, 0.14230396902226525, 0.14327202323330107, 0.14327202323330107, 0.1452081316553727, 0.1452081316553727, 0.15004840271055178, 0.15004840271055178, 0.15198451113262343, 0.15198451113262343, 0.15392061955469508, 0.15392061955469508, 0.1558567279767667, 0.1558567279767667, 0.15779283639883834, 0.15779283639883834, 0.1616650532429816, 0.1616650532429816, 0.16360116166505323, 0.16360116166505323, 0.1665053242981607, 0.1665053242981607, 0.16747337850919652, 0.16747337850919652, 0.1713455953533398, 0.1713455953533398, 0.17231364956437561, 0.17231364956437561, 0.1732817037754114, 0.1732817037754114, 0.17424975798644723, 0.17424975798644723, 0.17618586640851888, 0.17618586640851888, 0.1771539206195547, 0.1771539206195547, 0.17909002904162633, 0.17909002904162633, 0.18005808325266215, 0.18005808325266215, 0.18102613746369797, 0.18102613746369797, 0.1819941916747338, 0.1819941916747338, 0.1829622458857696, 0.1829622458857696, 0.18586640851887706, 0.18586640851887706, 0.19070667957405615, 0.19070667957405615, 0.19457889641819942, 0.19457889641819942, 0.20135527589545016, 0.20135527589545016, 0.2042594385285576, 0.2042594385285576, 0.21006776379477252, 0.21006776379477252, 0.21393998063891578, 0.21393998063891578, 0.2158760890609874, 0.2158760890609874, 0.21684414327202323, 0.21684414327202323, 0.21781219748305905, 0.21781219748305905, 0.2197483059051307, 0.2197483059051307, 0.22362052274927396, 0.22362052274927396, 0.2265246853823814, 0.22942884801548888, 0.2313649564375605, 0.2313649564375605, 0.23233301064859632, 0.23233301064859632, 0.23330106485963215, 0.23330106485963215, 0.2371732817037754, 0.2371732817037754, 0.23910939012584706, 0.23910939012584706, 0.24007744433688286, 0.24007744433688286, 0.2420135527589545, 0.2420135527589545, 0.24298160696999033, 0.24298160696999033, 0.24782187802516942, 0.24782187802516942, 0.24878993223620524, 0.24878993223620524, 0.25072604065827686, 0.25072604065827686, 0.25169409486931266, 0.25169409486931266, 0.2584704743465634, 0.2584704743465634, 0.25943852855759925, 0.25943852855759925, 0.2623426911907067, 0.2623426911907067, 0.26524685382381413, 0.26524685382381413, 0.2671829622458858, 0.2671829622458858, 0.271055179090029, 0.271055179090029, 0.2749273959341723, 0.2749273959341723, 0.27686350435624396, 0.27686350435624396, 0.27783155856727976, 0.27783155856727976, 0.2797676669893514, 0.2797676669893514, 0.28751210067763794, 0.28751210067763794, 0.2904162633107454, 0.2904162633107454, 0.2942884801548887, 0.2942884801548887, 0.2962245885769603, 0.2962245885769603, 0.2971926427879961, 0.2971926427879961, 0.30009680542110356, 0.30009680542110356, 0.30396902226524686, 0.30396902226524686, 0.31364956437560504, 0.31364956437560504, 0.31461761858664083, 0.31461761858664083, 0.32526621490803487, 0.32526621490803487, 0.3330106485963214, 0.3330106485963214, 0.33494675701839305, 0.33494675701839305, 0.3378509196515005, 0.3378509196515005, 0.33978702807357214, 0.33978702807357214, 0.3465634075508228, 0.3465634075508228, 0.34849951597289447, 0.34849951597289447, 0.3504356243949661, 0.3504356243949661, 0.356243949661181, 0.356243949661181, 0.35721200387221685, 0.35721200387221685, 0.3659244917715392, 0.3659244917715392, 0.36786060019361083, 0.36786060019361083, 0.3727008712487899, 0.3727008712487899, 0.3765730880929332, 0.3765730880929332, 0.3823814133591481, 0.3823814133591481, 0.3862536302032914, 0.3862536302032914, 0.3872216844143272, 0.3872216844143272, 0.38915779283639884, 0.38915779283639884, 0.3959341723136496, 0.3959341723136496, 0.3978702807357212, 0.3978702807357212, 0.4027105517909003, 0.4027105517909003, 0.4046466602129719, 0.4046466602129719, 0.41529525653436594, 0.41529525653436594, 0.41723136495643753, 0.41723136495643753, 0.42110358180058083, 0.42110358180058083, 0.4220716360116166, 0.4220716360116166, 0.4317521781219748, 0.4317521781219748, 0.43272023233301066, 0.43272023233301066, 0.4394966118102614, 0.4394966118102614, 0.4404646660212972, 0.4404646660212972, 0.44240077444336884, 0.44240077444336884, 0.4491771539206196, 0.4491771539206196, 0.46563407550822844, 0.46563407550822844, 0.4782187802516941, 0.4782187802516941, 0.4791868344627299, 0.4791868344627299, 0.505324298160697, 0.505324298160697, 0.5150048402710552, 0.5150048402710552, 0.5208131655372701, 0.5208131655372701, 0.5324298160696999, 0.5324298160696999, 0.5333978702807357, 0.5333978702807357, 0.5343659244917716, 0.5343659244917716, 0.5430784123910939, 0.5430784123910939, 0.5546950629235237, 0.5546950629235237, 0.5895450145208132, 0.5895450145208132, 0.616650532429816, 0.616650532429816, 0.6272991287512101, 0.6272991287512101, 0.6476282671829623, 0.6476282671829623, 0.648596321393998, 0.648596321393998, 0.6505324298160697, 0.6505324298160697, 0.6524685382381413, 0.6524685382381413, 0.6563407550822846, 0.6563407550822846, 0.6621490803484995, 0.6621490803484995, 0.6834462729912875, 0.6834462729912875, 0.718296224588577, 0.718296224588577, 0.7192642787996127, 0.7192642787996127, 0.7376573088092934, 0.7376573088092934, 0.7424975798644724, 0.7424975798644724, 0.7589545014520813, 0.7589545014520813, 0.7618586640851888, 0.7618586640851888, 0.7947725072604066, 0.7947725072604066, 0.8063891577928364, 0.8063891577928364, 0.8286544046466602, 0.8286544046466602, 0.8451113262342691, 0.8451113262342691, 0.8518877057115198, 0.8518877057115198, 0.8693126815101646, 0.8693126815101646, 0.8712487899322362, 0.8712487899322362, 0.9080348499515973, 0.9080348499515973, 0.9119070667957405, 0.9119070667957405, 0.9283639883833494, 0.9283639883833494, 1.0], \"y\": [0.0, 0.0, 0.008021390374331552, 0.008021390374331552, 0.0213903743315508, 0.0213903743315508, 0.02406417112299465, 0.02406417112299465, 0.026737967914438502, 0.026737967914438502, 0.029411764705882353, 0.029411764705882353, 0.034759358288770054, 0.034759358288770054, 0.0374331550802139, 0.0374331550802139, 0.040106951871657755, 0.040106951871657755, 0.045454545454545456, 0.045454545454545456, 0.06149732620320856, 0.06149732620320856, 0.06951871657754011, 0.06951871657754011, 0.0748663101604278, 0.0748663101604278, 0.08288770053475936, 0.08288770053475936, 0.09358288770053476, 0.09358288770053476, 0.12032085561497326, 0.12032085561497326, 0.12299465240641712, 0.12299465240641712, 0.12834224598930483, 0.12834224598930483, 0.13368983957219252, 0.13368983957219252, 0.13636363636363635, 0.13636363636363635, 0.15240641711229946, 0.15240641711229946, 0.15508021390374332, 0.15508021390374332, 0.16310160427807488, 0.16310160427807488, 0.17379679144385027, 0.17379679144385027, 0.17647058823529413, 0.17647058823529413, 0.18716577540106952, 0.18716577540106952, 0.20320855614973263, 0.20320855614973263, 0.20588235294117646, 0.20588235294117646, 0.21122994652406418, 0.21122994652406418, 0.21657754010695188, 0.21657754010695188, 0.2192513368983957, 0.2192513368983957, 0.22192513368983957, 0.22192513368983957, 0.232620320855615, 0.232620320855615, 0.23529411764705882, 0.23529411764705882, 0.24866310160427807, 0.24866310160427807, 0.25133689839572193, 0.25133689839572193, 0.2727272727272727, 0.2727272727272727, 0.27540106951871657, 0.27540106951871657, 0.27807486631016043, 0.27807486631016043, 0.28342245989304815, 0.28342245989304815, 0.2967914438502674, 0.2967914438502674, 0.3048128342245989, 0.3048128342245989, 0.31016042780748665, 0.31016042780748665, 0.32085561497326204, 0.32085561497326204, 0.3235294117647059, 0.3235294117647059, 0.32620320855614976, 0.32620320855614976, 0.3315508021390374, 0.3315508021390374, 0.33689839572192515, 0.33689839572192515, 0.3422459893048128, 0.3422459893048128, 0.3449197860962567, 0.3449197860962567, 0.34759358288770054, 0.34759358288770054, 0.3582887700534759, 0.3582887700534759, 0.3663101604278075, 0.3663101604278075, 0.3689839572192513, 0.3689839572192513, 0.3716577540106952, 0.3716577540106952, 0.38235294117647056, 0.38235294117647056, 0.3850267379679144, 0.3850267379679144, 0.3877005347593583, 0.3877005347593583, 0.39037433155080214, 0.39037433155080214, 0.39572192513368987, 0.39572192513368987, 0.4037433155080214, 0.4037433155080214, 0.40641711229946526, 0.40641711229946526, 0.4090909090909091, 0.4090909090909091, 0.4117647058823529, 0.4117647058823529, 0.42513368983957217, 0.42513368983957217, 0.4304812834224599, 0.4304812834224599, 0.44385026737967914, 0.44385026737967914, 0.44919786096256686, 0.44919786096256686, 0.4572192513368984, 0.4572192513368984, 0.46524064171123, 0.46524064171123, 0.47058823529411764, 0.47058823529411764, 0.4732620320855615, 0.4732620320855615, 0.47593582887700536, 0.47593582887700536, 0.4786096256684492, 0.4786096256684492, 0.48128342245989303, 0.48128342245989303, 0.4919786096256685, 0.4919786096256685, 0.4946524064171123, 0.4946524064171123, 0.5, 0.5, 0.5026737967914439, 0.5026737967914439, 0.5053475935828877, 0.5053475935828877, 0.5080213903743316, 0.5080213903743316, 0.5106951871657754, 0.5106951871657754, 0.5133689839572193, 0.5133689839572193, 0.516042780748663, 0.516042780748663, 0.5187165775401069, 0.5187165775401069, 0.5213903743315508, 0.5213903743315508, 0.5374331550802139, 0.5374331550802139, 0.5401069518716578, 0.5401069518716578, 0.5427807486631016, 0.5427807486631016, 0.5481283422459893, 0.5481283422459893, 0.5508021390374331, 0.5508021390374331, 0.553475935828877, 0.553475935828877, 0.5561497326203209, 0.5561497326203209, 0.5588235294117647, 0.5588235294117647, 0.5614973262032086, 0.5614973262032086, 0.5668449197860963, 0.5668449197860963, 0.5721925133689839, 0.5721925133689839, 0.5748663101604278, 0.5748663101604278, 0.5802139037433155, 0.5802139037433155, 0.5855614973262032, 0.5855614973262032, 0.5882352941176471, 0.5882352941176471, 0.5909090909090909, 0.5909090909090909, 0.5935828877005348, 0.5935828877005348, 0.5989304812834224, 0.5989304812834224, 0.6016042780748663, 0.6016042780748663, 0.606951871657754, 0.606951871657754, 0.6096256684491979, 0.6096256684491979, 0.6122994652406417, 0.6122994652406417, 0.6176470588235294, 0.6176470588235294, 0.6203208556149733, 0.6203208556149733, 0.6256684491978609, 0.6256684491978609, 0.6283422459893048, 0.6283422459893048, 0.6310160427807486, 0.6310160427807486, 0.6336898395721925, 0.6336898395721925, 0.6390374331550802, 0.6390374331550802, 0.6417112299465241, 0.6417112299465241, 0.6470588235294118, 0.6470588235294118, 0.6497326203208557, 0.6497326203208557, 0.660427807486631, 0.660427807486631, 0.6631016042780749, 0.6631016042780749, 0.6657754010695187, 0.6657754010695187, 0.6737967914438503, 0.6737967914438503, 0.6764705882352942, 0.6764705882352942, 0.679144385026738, 0.679144385026738, 0.6818181818181818, 0.6818181818181818, 0.6871657754010695, 0.6871657754010695, 0.6898395721925134, 0.6898395721925134, 0.6951871657754011, 0.6951871657754011, 0.7032085561497327, 0.7032085561497327, 0.7058823529411765, 0.7058823529411765, 0.7085561497326203, 0.7085561497326203, 0.7112299465240641, 0.7112299465240641, 0.7165775401069518, 0.7165775401069518, 0.7219251336898396, 0.7219251336898396, 0.7245989304812834, 0.7245989304812834, 0.7272727272727273, 0.7272727272727273, 0.732620320855615, 0.732620320855615, 0.7352941176470589, 0.7352941176470589, 0.7406417112299465, 0.7406417112299465, 0.7459893048128342, 0.7459893048128342, 0.7486631016042781, 0.7486631016042781, 0.7540106951871658, 0.7540106951871658, 0.7566844919786097, 0.7566844919786097, 0.7593582887700535, 0.7593582887700535, 0.7620320855614974, 0.7620320855614974, 0.7647058823529411, 0.7647058823529411, 0.7700534759358288, 0.7700534759358288, 0.7727272727272727, 0.7727272727272727, 0.7754010695187166, 0.7754010695187166, 0.7780748663101604, 0.7780748663101604, 0.7807486631016043, 0.7807486631016043, 0.7834224598930482, 0.7834224598930482, 0.7887700534759359, 0.7887700534759359, 0.7914438502673797, 0.7914438502673797, 0.7941176470588235, 0.7941176470588235, 0.7967914438502673, 0.7967914438502673, 0.7994652406417112, 0.7994652406417112, 0.8021390374331551, 0.8021390374331551, 0.8048128342245989, 0.8048128342245989, 0.8074866310160428, 0.8074866310160428, 0.8101604278074866, 0.8101604278074866, 0.8155080213903744, 0.8155080213903744, 0.8181818181818182, 0.8181818181818182, 0.820855614973262, 0.820855614973262, 0.8235294117647058, 0.8235294117647058, 0.8315508021390374, 0.8315508021390374, 0.8342245989304813, 0.8342245989304813, 0.8368983957219251, 0.8368983957219251, 0.839572192513369, 0.839572192513369, 0.8422459893048129, 0.8422459893048129, 0.8502673796791443, 0.8502673796791443, 0.8556149732620321, 0.8556149732620321, 0.8582887700534759, 0.8582887700534759, 0.8636363636363636, 0.8636363636363636, 0.8663101604278075, 0.8663101604278075, 0.8689839572192514, 0.8689839572192514, 0.8716577540106952, 0.8716577540106952, 0.8743315508021391, 0.8743315508021391, 0.8770053475935828, 0.8770053475935828, 0.8796791443850267, 0.8796791443850267, 0.8823529411764706, 0.8823529411764706, 0.8850267379679144, 0.8850267379679144, 0.8877005347593583, 0.8877005347593583, 0.8903743315508021, 0.8903743315508021, 0.893048128342246, 0.893048128342246, 0.8957219251336899, 0.8957219251336899, 0.8983957219251337, 0.8983957219251337, 0.9010695187165776, 0.9010695187165776, 0.9037433155080213, 0.9037433155080213, 0.9064171122994652, 0.9064171122994652, 0.9090909090909091, 0.9090909090909091, 0.9117647058823529, 0.9117647058823529, 0.9144385026737968, 0.9144385026737968, 0.9197860962566845, 0.9197860962566845, 0.9251336898395722, 0.9251336898395722, 0.9278074866310161, 0.9278074866310161, 0.93048128342246, 0.93048128342246, 0.9358288770053476, 0.9358288770053476, 0.9385026737967914, 0.9385026737967914, 0.9411764705882353, 0.9411764705882353, 0.9438502673796791, 0.9438502673796791, 0.946524064171123, 0.946524064171123, 0.9491978609625669, 0.9491978609625669, 0.9518716577540107, 0.9518716577540107, 0.9545454545454546, 0.9545454545454546, 0.9598930481283422, 0.9598930481283422, 0.9625668449197861, 0.9625668449197861, 0.9652406417112299, 0.9652406417112299, 0.9679144385026738, 0.9679144385026738, 0.9732620320855615, 0.9732620320855615, 0.9786096256684492, 0.9786096256684492, 0.9812834224598931, 0.9812834224598931, 0.983957219251337, 0.983957219251337, 0.9866310160427807, 0.9866310160427807, 0.9893048128342246, 0.9893048128342246, 0.9919786096256684, 0.9919786096256684, 0.9946524064171123, 0.9946524064171123, 0.9973262032085561, 0.9973262032085561, 1.0, 1.0]}, {\"mode\": \"lines\", \"name\": \"RF\", \"type\": \"scatter\", \"x\": [0.0, 0.0, 0.0, 0.0, 0.0, 0.000968054211035818, 0.000968054211035818, 0.003872216844143272, 0.003872216844143272, 0.00484027105517909, 0.00484027105517909, 0.006776379477250726, 0.006776379477250726, 0.007744433688286544, 0.007744433688286544, 0.008712487899322363, 0.008712487899322363, 0.012584704743465635, 0.012584704743465635, 0.013552758954501452, 0.013552758954501452, 0.01452081316553727, 0.01452081316553727, 0.016456921587608905, 0.016456921587608905, 0.01936108422071636, 0.01936108422071636, 0.02032913843175218, 0.02032913843175218, 0.021297192642787996, 0.021297192642787996, 0.022265246853823813, 0.022265246853823813, 0.02420135527589545, 0.02420135527589545, 0.02516940948693127, 0.02516940948693127, 0.028073572120038724, 0.028073572120038724, 0.030009680542110357, 0.030009680542110357, 0.030977734753146177, 0.030977734753146177, 0.030977734753146177, 0.030977734753146177, 0.031945788964181994, 0.031945788964181994, 0.03388189738625363, 0.03388189738625363, 0.03484995159728945, 0.03484995159728945, 0.036786060019361085, 0.036786060019361085, 0.03872216844143272, 0.03872216844143272, 0.03969022265246854, 0.03969022265246854, 0.04065827686350436, 0.04065827686350436, 0.041626331074540175, 0.041626331074540175, 0.04259438528557599, 0.044530493707647625, 0.044530493707647625, 0.046466602129719266, 0.046466602129719266, 0.046466602129719266, 0.046466602129719266, 0.04743465634075508, 0.04743465634075508, 0.0484027105517909, 0.0484027105517909, 0.049370764762826716, 0.049370764762826716, 0.051306873184898356, 0.051306873184898356, 0.05227492739593417, 0.05227492739593417, 0.05324298160696999, 0.05324298160696999, 0.05517909002904162, 0.05517909002904162, 0.05808325266214908, 0.05808325266214908, 0.0590513068731849, 0.0590513068731849, 0.060019361084220714, 0.06098741529525654, 0.06389157792836399, 0.06389157792836399, 0.06485963213939981, 0.06582768635043562, 0.06582768635043562, 0.0696999031945789, 0.0696999031945789, 0.07163601161665054, 0.07163601161665054, 0.07647628267182963, 0.07647628267182963, 0.07744433688286544, 0.07744433688286544, 0.07841239109390126, 0.0803484995159729, 0.08131655372700872, 0.08131655372700872, 0.08131655372700872, 0.08325266214908035, 0.08325266214908035, 0.08518877057115198, 0.08518877057115198, 0.08615682478218781, 0.08615682478218781, 0.08712487899322362, 0.08906098741529525, 0.08906098741529525, 0.0909970958373669, 0.0909970958373669, 0.09196515004840271, 0.09196515004840271, 0.09293320425943853, 0.09293320425943853, 0.09390125847047434, 0.09390125847047434, 0.09486931268151017, 0.09486931268151017, 0.09874152952565343, 0.09874152952565343, 0.09970958373668926, 0.09970958373668926, 0.10067763794772508, 0.10067763794772508, 0.10164569215876089, 0.10164569215876089, 0.10261374636979671, 0.10261374636979671, 0.10454985479186835, 0.10454985479186835, 0.10551790900290416, 0.10551790900290416, 0.11132623426911907, 0.1122942884801549, 0.1122942884801549, 0.11616650532429816, 0.11616650532429816, 0.11907066795740562, 0.11907066795740562, 0.12003872216844143, 0.12003872216844143, 0.12100677637947725, 0.12100677637947725, 0.12197483059051308, 0.12197483059051308, 0.12584704743465633, 0.12584704743465633, 0.1287512100677638, 0.1287512100677638, 0.12971926427879962, 0.12971926427879962, 0.13068731848983542, 0.13068731848983542, 0.13262342691190707, 0.13262342691190707, 0.1335914811229429, 0.1355275895450145, 0.13649564375605033, 0.13649564375605033, 0.13746369796708616, 0.13746369796708616, 0.1393998063891578, 0.14327202323330107, 0.14327202323330107, 0.1442400774443369, 0.1452081316553727, 0.1452081316553727, 0.14714424007744434, 0.14714424007744434, 0.15004840271055178, 0.15004840271055178, 0.1510164569215876, 0.15295256534365925, 0.15295256534365925, 0.15779283639883834, 0.15779283639883834, 0.15972894482090996, 0.16263310745401743, 0.16263310745401743, 0.16360116166505323, 0.16553727008712488, 0.16553727008712488, 0.1665053242981607, 0.1665053242981607, 0.16844143272023232, 0.16844143272023232, 0.16940948693126814, 0.16940948693126814, 0.1713455953533398, 0.1713455953533398, 0.17424975798644723, 0.17618586640851888, 0.17618586640851888, 0.1781219748305905, 0.1781219748305905, 0.17909002904162633, 0.17909002904162633, 0.18005808325266215, 0.18005808325266215, 0.1829622458857696, 0.18393030009680542, 0.18393030009680542, 0.18586640851887706, 0.18586640851887706, 0.1868344627299129, 0.1868344627299129, 0.18780251694094868, 0.1887705711519845, 0.1887705711519845, 0.19070667957405615, 0.1936108422071636, 0.1936108422071636, 0.19457889641819942, 0.19651500484027107, 0.19651500484027107, 0.1984511132623427, 0.1984511132623427, 0.20232333010648595, 0.20232333010648595, 0.20329138431752178, 0.20329138431752178, 0.2042594385285576, 0.2042594385285576, 0.20522749273959343, 0.2090997095837367, 0.21006776379477252, 0.21006776379477252, 0.2110358180058083, 0.21393998063891578, 0.21393998063891578, 0.2149080348499516, 0.2149080348499516, 0.2158760890609874, 0.2158760890609874, 0.21684414327202323, 0.21781219748305905, 0.2197483059051307, 0.2245885769603098, 0.22749273959341723, 0.22749273959341723, 0.23039690222652467, 0.23426911907066797, 0.2362052274927396, 0.2362052274927396, 0.2371732817037754, 0.23910939012584706, 0.2420135527589545, 0.24394966118102615, 0.24588576960309777, 0.24782187802516942, 0.24782187802516942, 0.24878993223620524, 0.24878993223620524, 0.25072604065827686, 0.25072604065827686, 0.25169409486931266, 0.25169409486931266, 0.2536302032913843, 0.2536302032913843, 0.25459825750242016, 0.25459825750242016, 0.25556631171345595, 0.2575024201355276, 0.2575024201355276, 0.25943852855759925, 0.25943852855759925, 0.26524685382381413, 0.26621490803484993, 0.2681510164569216, 0.2681510164569216, 0.2700871248789932, 0.2739593417231365, 0.2749273959341723, 0.2749273959341723, 0.27783155856727976, 0.27783155856727976, 0.28267182962245885, 0.2846079380445305, 0.2846079380445305, 0.2855759922555663, 0.2894482090997096, 0.2894482090997096, 0.29138431752178123, 0.2933204259438529, 0.2942884801548887, 0.2942884801548887, 0.2971926427879961, 0.2971926427879961, 0.30300096805421106, 0.30493707647628265, 0.3068731848983543, 0.30784123910939015, 0.31268151016456924, 0.31461761858664083, 0.31752178121974833, 0.31848983543078413, 0.32236205227492737, 0.32623426911907066, 0.32623426911907066, 0.3291384317521781, 0.3291384317521781, 0.33010648596321396, 0.3330106485963214, 0.3339787028073572, 0.33688286544046464, 0.3388189738625363, 0.3436592449177154, 0.3436592449177154, 0.3436592449177154, 0.34462729912875123, 0.34462729912875123, 0.35237173281703776, 0.3543078412391094, 0.3543078412391094, 0.3552758954501452, 0.356243949661181, 0.3610842207163601, 0.3610842207163601, 0.36205227492739595, 0.36786060019361083, 0.3688286544046467, 0.3688286544046467, 0.3717328170377541, 0.3736689254598258, 0.3736689254598258, 0.38044530493707646, 0.3823814133591481, 0.3823814133591481, 0.39303000968054214, 0.40174249757986447, 0.4036786060019361, 0.4085188770571152, 0.4085188770571152, 0.409486931268151, 0.409486931268151, 0.4181994191674734, 0.4191674733785092, 0.4298160696999032, 0.4298160696999032, 0.4317521781219748, 0.4356243949661181, 0.4365924491771539, 0.4462729912875121, 0.44724104549854793, 0.44724104549854793, 0.4482090997095837, 0.4569215876089061, 0.45885769603097776, 0.46079380445304935, 0.4617618586640852, 0.4675701839303001, 0.47047434656340753, 0.4801548886737657, 0.48209099709583736, 0.494675701839303, 0.4975798644724105, 0.5062923523717329, 0.5130687318489835, 0.5237173281703775, 0.5256534365924492, 0.5324298160696999, 0.5401742497579864, 0.542110358180058, 0.5488867376573088, 0.5498547918683446, 0.5537270087124879, 0.5556631171345595, 0.5643756050338818, 0.5711519845111326, 0.5730880929332043, 0.5837366892545982, 0.5847047434656341, 0.5982575024201355, 0.6108422071636012, 0.6214908034849952, 0.6214908034849952, 0.6398838334946757, 0.6408518877057116, 0.6408518877057116, 0.6418199419167473, 0.6573088092933205, 0.675701839303001, 0.6882865440464666, 0.6892545982575025, 0.7018393030009681, 0.7144240077444337, 0.7337850919651501, 0.750242013552759, 0.750242013552759, 0.7725072604065828, 0.7928363988383349, 0.8180058083252663, 0.818973862536302, 0.8596321393998064, 0.8606001936108422, 0.9090029041626331, 0.9099709583736689, 1.0], \"y\": [0.0, 0.00267379679144385, 0.008021390374331552, 0.013368983957219251, 0.02406417112299465, 0.02406417112299465, 0.03208556149732621, 0.03208556149732621, 0.0427807486631016, 0.0427807486631016, 0.045454545454545456, 0.045454545454545456, 0.0481283422459893, 0.0481283422459893, 0.08021390374331551, 0.08021390374331551, 0.0855614973262032, 0.0855614973262032, 0.09893048128342247, 0.09893048128342247, 0.11497326203208556, 0.11497326203208556, 0.11764705882352941, 0.11764705882352941, 0.12566844919786097, 0.12566844919786097, 0.13368983957219252, 0.13368983957219252, 0.1443850267379679, 0.1443850267379679, 0.15775401069518716, 0.15775401069518716, 0.16310160427807488, 0.16310160427807488, 0.1657754010695187, 0.1657754010695187, 0.17379679144385027, 0.17379679144385027, 0.18716577540106952, 0.18716577540106952, 0.1925133689839572, 0.1925133689839572, 0.20320855614973263, 0.20855614973262032, 0.2192513368983957, 0.2192513368983957, 0.22192513368983957, 0.22192513368983957, 0.22459893048128343, 0.22459893048128343, 0.22727272727272727, 0.22727272727272727, 0.24331550802139038, 0.24331550802139038, 0.24866310160427807, 0.24866310160427807, 0.25133689839572193, 0.25133689839572193, 0.2540106951871658, 0.2540106951871658, 0.2700534759358289, 0.2700534759358289, 0.2727272727272727, 0.27540106951871657, 0.27540106951871657, 0.28342245989304815, 0.2887700534759358, 0.29411764705882354, 0.29411764705882354, 0.2994652406417112, 0.2994652406417112, 0.3048128342245989, 0.3048128342245989, 0.3074866310160428, 0.3074866310160428, 0.3155080213903743, 0.3155080213903743, 0.32887700534759357, 0.32887700534759357, 0.3342245989304813, 0.3342245989304813, 0.339572192513369, 0.339572192513369, 0.3422459893048128, 0.3422459893048128, 0.34759358288770054, 0.34759358288770054, 0.35294117647058826, 0.35294117647058826, 0.35561497326203206, 0.35561497326203206, 0.3582887700534759, 0.3609625668449198, 0.3609625668449198, 0.3663101604278075, 0.3663101604278075, 0.3689839572192513, 0.3689839572192513, 0.3716577540106952, 0.3716577540106952, 0.37433155080213903, 0.37433155080213903, 0.37967914438502676, 0.37967914438502676, 0.3850267379679144, 0.39037433155080214, 0.39037433155080214, 0.393048128342246, 0.393048128342246, 0.39572192513368987, 0.39572192513368987, 0.3983957219251337, 0.3983957219251337, 0.3983957219251337, 0.4037433155080214, 0.40641711229946526, 0.4117647058823529, 0.4117647058823529, 0.4197860962566845, 0.42245989304812837, 0.42513368983957217, 0.42513368983957217, 0.4304812834224599, 0.4304812834224599, 0.4385026737967914, 0.4385026737967914, 0.4411764705882353, 0.4411764705882353, 0.44919786096256686, 0.44919786096256686, 0.45187165775401067, 0.45454545454545453, 0.4572192513368984, 0.4572192513368984, 0.45989304812834225, 0.45989304812834225, 0.4625668449197861, 0.4625668449197861, 0.4732620320855615, 0.4732620320855615, 0.4786096256684492, 0.48128342245989303, 0.48128342245989303, 0.48663101604278075, 0.48663101604278075, 0.4893048128342246, 0.4893048128342246, 0.4919786096256685, 0.49732620320855614, 0.5026737967914439, 0.5080213903743316, 0.5106951871657754, 0.5106951871657754, 0.5294117647058824, 0.5294117647058824, 0.5320855614973262, 0.5401069518716578, 0.5427807486631016, 0.5427807486631016, 0.5508021390374331, 0.5508021390374331, 0.553475935828877, 0.553475935828877, 0.5561497326203209, 0.5561497326203209, 0.5588235294117647, 0.5588235294117647, 0.5614973262032086, 0.5614973262032086, 0.5614973262032086, 0.56951871657754, 0.5721925133689839, 0.5721925133689839, 0.5748663101604278, 0.5748663101604278, 0.5775401069518716, 0.5775401069518716, 0.5802139037433155, 0.5802139037433155, 0.5802139037433155, 0.5855614973262032, 0.5855614973262032, 0.5909090909090909, 0.5909090909090909, 0.5909090909090909, 0.5962566844919787, 0.5962566844919787, 0.5962566844919787, 0.6096256684491979, 0.6096256684491979, 0.6122994652406417, 0.6122994652406417, 0.6149732620320856, 0.6149732620320856, 0.6176470588235294, 0.6176470588235294, 0.6229946524064172, 0.6229946524064172, 0.6229946524064172, 0.6283422459893048, 0.6283422459893048, 0.6310160427807486, 0.6310160427807486, 0.6336898395721925, 0.6336898395721925, 0.6363636363636364, 0.6363636363636364, 0.6417112299465241, 0.6470588235294118, 0.6470588235294118, 0.6497326203208557, 0.6497326203208557, 0.6577540106951871, 0.6577540106951871, 0.660427807486631, 0.6631016042780749, 0.6631016042780749, 0.6657754010695187, 0.6711229946524064, 0.6711229946524064, 0.6711229946524064, 0.6737967914438503, 0.6737967914438503, 0.6764705882352942, 0.6764705882352942, 0.679144385026738, 0.679144385026738, 0.6818181818181818, 0.6818181818181818, 0.6844919786096256, 0.6844919786096256, 0.6844919786096256, 0.6844919786096256, 0.6871657754010695, 0.6871657754010695, 0.6871657754010695, 0.6898395721925134, 0.6898395721925134, 0.6925133689839572, 0.6925133689839572, 0.6951871657754011, 0.6951871657754011, 0.6978609625668449, 0.6978609625668449, 0.6978609625668449, 0.6978609625668449, 0.7085561497326203, 0.7165775401069518, 0.7165775401069518, 0.7165775401069518, 0.7192513368983957, 0.7192513368983957, 0.7219251336898396, 0.7219251336898396, 0.7245989304812834, 0.7245989304812834, 0.7299465240641712, 0.732620320855615, 0.732620320855615, 0.7352941176470589, 0.7352941176470589, 0.7379679144385026, 0.7379679144385026, 0.7406417112299465, 0.7406417112299465, 0.7433155080213903, 0.7433155080213903, 0.7459893048128342, 0.7459893048128342, 0.7486631016042781, 0.7513368983957219, 0.7513368983957219, 0.7540106951871658, 0.7566844919786097, 0.7566844919786097, 0.7593582887700535, 0.7620320855614974, 0.7620320855614974, 0.767379679144385, 0.767379679144385, 0.7700534759358288, 0.7727272727272727, 0.7754010695187166, 0.7834224598930482, 0.7834224598930482, 0.786096256684492, 0.786096256684492, 0.7941176470588235, 0.7967914438502673, 0.7967914438502673, 0.7967914438502673, 0.7967914438502673, 0.7994652406417112, 0.7994652406417112, 0.8048128342245989, 0.8048128342245989, 0.8048128342245989, 0.8074866310160428, 0.8074866310160428, 0.8101604278074866, 0.8101604278074866, 0.8101604278074866, 0.8101604278074866, 0.8155080213903744, 0.8155080213903744, 0.8181818181818182, 0.8181818181818182, 0.8235294117647058, 0.8235294117647058, 0.8235294117647058, 0.8235294117647058, 0.8315508021390374, 0.8315508021390374, 0.8342245989304813, 0.839572192513369, 0.8422459893048129, 0.8422459893048129, 0.8449197860962567, 0.8502673796791443, 0.8502673796791443, 0.8529411764705882, 0.8529411764705882, 0.8556149732620321, 0.8609625668449198, 0.8663101604278075, 0.8663101604278075, 0.8716577540106952, 0.8716577540106952, 0.8743315508021391, 0.8796791443850267, 0.8796791443850267, 0.8877005347593583, 0.8903743315508021, 0.8903743315508021, 0.893048128342246, 0.8957219251336899, 0.8957219251336899, 0.8957219251336899, 0.8957219251336899, 0.8983957219251337, 0.8983957219251337, 0.9010695187165776, 0.9037433155080213, 0.9037433155080213, 0.9037433155080213, 0.9064171122994652, 0.9064171122994652, 0.9117647058823529, 0.9117647058823529, 0.9144385026737968, 0.9144385026737968, 0.9171122994652406, 0.9171122994652406, 0.9251336898395722, 0.9251336898395722, 0.9251336898395722, 0.9251336898395722, 0.93048128342246, 0.93048128342246, 0.9331550802139037, 0.9331550802139037, 0.9358288770053476, 0.9358288770053476, 0.9385026737967914, 0.9385026737967914, 0.9385026737967914, 0.9385026737967914, 0.9411764705882353, 0.9411764705882353, 0.9411764705882353, 0.946524064171123, 0.946524064171123, 0.9545454545454546, 0.9545454545454546, 0.9625668449197861, 0.9625668449197861, 0.9625668449197861, 0.9652406417112299, 0.9652406417112299, 0.9652406417112299, 0.9652406417112299, 0.9732620320855615, 0.9786096256684492, 0.9786096256684492, 0.9786096256684492, 0.9812834224598931, 0.9812834224598931, 0.9812834224598931, 0.9866310160427807, 0.9893048128342246, 0.9893048128342246, 0.9919786096256684, 0.9919786096256684, 0.9919786096256684, 0.9919786096256684, 0.9946524064171123, 0.9946524064171123, 0.9946524064171123, 0.9946524064171123, 0.9946524064171123, 0.9946524064171123, 0.9946524064171123, 0.9946524064171123, 0.9946524064171123, 1.0]}, {\"mode\": \"lines\", \"name\": \"ADA\", \"type\": \"scatter\", \"x\": [0.0, 0.0, 0.000968054211035818, 0.001936108422071636, 0.001936108422071636, 0.001936108422071636, 0.001936108422071636, 0.002904162633107454, 0.00484027105517909, 0.00484027105517909, 0.00484027105517909, 0.00484027105517909, 0.005808325266214908, 0.005808325266214908, 0.006776379477250726, 0.006776379477250726, 0.006776379477250726, 0.006776379477250726, 0.006776379477250726, 0.006776379477250726, 0.007744433688286544, 0.007744433688286544, 0.007744433688286544, 0.007744433688286544, 0.008712487899322363, 0.008712487899322363, 0.010648596321393998, 0.010648596321393998, 0.011616650532429816, 0.011616650532429816, 0.013552758954501452, 0.01452081316553727, 0.01452081316553727, 0.015488867376573089, 0.015488867376573089, 0.016456921587608905, 0.016456921587608905, 0.017424975798644726, 0.018393030009680542, 0.018393030009680542, 0.018393030009680542, 0.021297192642787996, 0.021297192642787996, 0.02420135527589545, 0.02420135527589545, 0.02516940948693127, 0.027105517909002903, 0.027105517909002903, 0.02904162633107454, 0.02904162633107454, 0.030009680542110357, 0.031945788964181994, 0.03388189738625363, 0.03581800580832527, 0.03581800580832527, 0.0377541142303969, 0.0377541142303969, 0.0377541142303969, 0.0377541142303969, 0.0377541142303969, 0.03969022265246854, 0.03969022265246854, 0.04065827686350436, 0.04065827686350436, 0.041626331074540175, 0.041626331074540175, 0.04259438528557599, 0.04259438528557599, 0.04356243949661181, 0.04356243949661181, 0.04549854791868345, 0.04549854791868345, 0.046466602129719266, 0.046466602129719266, 0.04743465634075508, 0.04743465634075508, 0.0484027105517909, 0.0484027105517909, 0.051306873184898356, 0.051306873184898356, 0.05227492739593417, 0.05227492739593417, 0.05324298160696999, 0.05324298160696999, 0.05517909002904162, 0.05614714424007745, 0.05614714424007745, 0.057115198451113264, 0.057115198451113264, 0.05808325266214908, 0.05808325266214908, 0.0590513068731849, 0.0590513068731849, 0.061955469506292354, 0.061955469506292354, 0.06292352371732816, 0.06389157792836399, 0.06485963213939981, 0.06679574056147145, 0.06679574056147145, 0.06776379477250725, 0.06776379477250725, 0.07066795740561471, 0.07066795740561471, 0.07163601161665054, 0.07260406582768635, 0.07357212003872217, 0.07357212003872217, 0.0755082284607938, 0.0755082284607938, 0.0755082284607938, 0.0755082284607938, 0.07647628267182963, 0.07938044530493708, 0.07938044530493708, 0.08131655372700872, 0.08131655372700872, 0.08518877057115198, 0.08518877057115198, 0.08615682478218781, 0.08615682478218781, 0.08809293320425944, 0.08809293320425944, 0.0909970958373669, 0.0909970958373669, 0.09293320425943853, 0.09293320425943853, 0.09486931268151017, 0.09486931268151017, 0.09874152952565343, 0.09874152952565343, 0.09874152952565343, 0.09874152952565343, 0.09970958373668926, 0.09970958373668926, 0.10164569215876089, 0.10164569215876089, 0.10261374636979671, 0.10358180058083252, 0.10358180058083252, 0.10454985479186835, 0.10454985479186835, 0.10551790900290416, 0.10551790900290416, 0.10648596321393998, 0.10648596321393998, 0.1074540174249758, 0.1074540174249758, 0.10842207163601161, 0.10842207163601161, 0.10939012584704744, 0.10939012584704744, 0.11132623426911907, 0.11132623426911907, 0.11713455953533398, 0.11713455953533398, 0.1181026137463698, 0.11907066795740562, 0.11907066795740562, 0.12100677637947725, 0.12197483059051308, 0.12197483059051308, 0.12584704743465633, 0.12681510164569215, 0.12681510164569215, 0.12778315585672798, 0.12778315585672798, 0.1287512100677638, 0.1287512100677638, 0.12971926427879962, 0.12971926427879962, 0.13068731848983542, 0.13068731848983542, 0.13262342691190707, 0.13262342691190707, 0.1345595353339787, 0.1345595353339787, 0.1355275895450145, 0.1355275895450145, 0.1355275895450145, 0.1393998063891578, 0.14230396902226525, 0.14230396902226525, 0.1442400774443369, 0.1442400774443369, 0.14714424007744434, 0.14714424007744434, 0.14811229428848016, 0.14811229428848016, 0.14908034849951599, 0.14908034849951599, 0.1510164569215876, 0.1510164569215876, 0.15198451113262343, 0.15198451113262343, 0.1558567279767667, 0.1558567279767667, 0.15682478218780252, 0.15682478218780252, 0.15972894482090996, 0.15972894482090996, 0.16263310745401743, 0.16263310745401743, 0.16360116166505323, 0.16360116166505323, 0.16456921587608905, 0.16456921587608905, 0.16553727008712488, 0.16553727008712488, 0.16940948693126814, 0.16940948693126814, 0.17521781219748306, 0.17521781219748306, 0.17618586640851888, 0.17618586640851888, 0.1771539206195547, 0.1771539206195547, 0.17909002904162633, 0.17909002904162633, 0.18102613746369797, 0.18102613746369797, 0.18586640851887706, 0.18586640851887706, 0.1868344627299129, 0.1868344627299129, 0.18780251694094868, 0.18780251694094868, 0.18973862536302033, 0.18973862536302033, 0.19457889641819942, 0.19457889641819942, 0.19651500484027107, 0.19748305905130686, 0.19748305905130686, 0.1984511132623427, 0.1984511132623427, 0.1984511132623427, 0.20522749273959343, 0.20522749273959343, 0.20522749273959343, 0.2090997095837367, 0.2090997095837367, 0.2090997095837367, 0.21006776379477252, 0.2110358180058083, 0.21200387221684414, 0.21200387221684414, 0.21297192642787996, 0.21297192642787996, 0.2158760890609874, 0.2158760890609874, 0.21684414327202323, 0.21684414327202323, 0.2197483059051307, 0.2197483059051307, 0.22265246853823814, 0.22265246853823814, 0.2265246853823814, 0.2265246853823814, 0.22846079380445306, 0.23330106485963215, 0.23330106485963215, 0.24491771539206195, 0.24491771539206195, 0.24588576960309777, 0.24588576960309777, 0.24975798644724104, 0.24975798644724104, 0.2536302032913843, 0.2536302032913843, 0.2575024201355276, 0.2575024201355276, 0.2584704743465634, 0.2584704743465634, 0.26137463697967084, 0.26137463697967084, 0.2633107454017425, 0.2633107454017425, 0.26427879961277834, 0.26427879961277834, 0.2671829622458858, 0.2671829622458858, 0.2681510164569216, 0.271055179090029, 0.271055179090029, 0.27202323330106487, 0.2739593417231365, 0.2739593417231365, 0.2749273959341723, 0.2749273959341723, 0.2758954501452081, 0.2758954501452081, 0.27783155856727976, 0.27783155856727976, 0.2787996127783156, 0.2787996127783156, 0.2797676669893514, 0.2797676669893514, 0.2807357212003872, 0.2807357212003872, 0.28267182962245885, 0.28267182962245885, 0.29138431752178123, 0.29138431752178123, 0.29235237173281703, 0.29235237173281703, 0.2933204259438529, 0.2933204259438529, 0.2952565343659245, 0.2962245885769603, 0.2971926427879961, 0.29912875121006777, 0.30493707647628265, 0.30493707647628265, 0.3059051306873185, 0.3059051306873185, 0.30784123910939015, 0.30784123910939015, 0.3117134559535334, 0.31364956437560504, 0.3155856727976767, 0.3155856727976767, 0.31752178121974833, 0.31752178121974833, 0.3194578896418199, 0.3213939980638916, 0.3330106485963214, 0.3330106485963214, 0.33688286544046464, 0.33688286544046464, 0.34462729912875123, 0.34462729912875123, 0.345595353339787, 0.345595353339787, 0.3465634075508228, 0.34849951597289447, 0.356243949661181, 0.356243949661181, 0.3697967086156825, 0.3697967086156825, 0.37560503388189737, 0.37850919651500486, 0.37850919651500486, 0.38818973862536305, 0.38818973862536305, 0.39012584704743464, 0.39012584704743464, 0.3920619554695063, 0.39399806389157793, 0.3969022265246854, 0.3969022265246854, 0.40077444336882867, 0.40077444336882867, 0.40561471442400776, 0.40561471442400776, 0.4220716360116166, 0.4220716360116166, 0.4269119070667957, 0.4269119070667957, 0.4443368828654405, 0.4443368828654405, 0.4453049370764763, 0.4453049370764763, 0.4462729912875121, 0.4462729912875121, 0.4578896418199419, 0.4578896418199419, 0.46079380445304935, 0.46079380445304935, 0.4617618586640852, 0.4617618586640852, 0.4714424007744434, 0.4714424007744434, 0.47725072604065827, 0.47725072604065827, 0.49080348499515974, 0.49177153920619554, 0.5082284607938045, 0.510164569215876, 0.5198451113262342, 0.5198451113262342, 0.5246853823814134, 0.5246853823814134, 0.5304937076476283, 0.5304937076476283, 0.5401742497579864, 0.5401742497579864, 0.547918683446273, 0.547918683446273, 0.5643756050338818, 0.5643756050338818, 0.5827686350435625, 0.5827686350435625, 0.5982575024201355, 0.6001936108422071, 0.6185866408518877, 0.6185866408518877, 0.6224588576960309, 0.6311713455953534, 0.6311713455953534, 0.6360116166505324, 0.6360116166505324, 0.6660212971926428, 0.6679574056147144, 0.675701839303001, 0.6776379477250726, 0.68054211035818, 0.68054211035818, 0.6824782187802517, 0.6844143272023233, 0.6853823814133592, 0.6853823814133592, 0.7212003872216844, 0.723136495643756, 0.7241045498547919, 0.7241045498547919, 0.739593417231365, 0.7415295256534365, 0.7666989351403679, 0.7686350435624395, 0.782187802516941, 0.7850919651500484, 0.7879961277831559, 0.7899322362052275, 0.797676669893514, 0.7996127783155856, 0.8025169409486931, 0.8063891577928364, 0.8083252662149081, 0.8170377541142304, 0.818973862536302, 0.8267182962245886, 0.8286544046466602, 0.8334946757018393, 0.8363988383349468, 0.8402710551790901, 0.8422071636011617, 0.8431752178121975, 0.846079380445305, 0.8489835430784124, 0.850919651500484, 0.8528557599225557, 0.8547918683446273, 0.8576960309777347, 0.8596321393998064, 0.872216844143272, 0.8751210067763795, 0.8780251694094869, 0.8857696030977735, 0.8877057115198451, 0.8906098741529526, 0.8915779283639884, 0.89351403678606, 0.8983543078412392, 0.9002904162633107, 0.9022265246853823, 0.9060987415295256, 0.9070667957405615, 0.9099709583736689, 0.9119070667957405, 0.9138431752178122, 0.9235237173281704, 0.9264278799612778, 0.9293320425943853, 0.9322362052274927, 0.936108422071636, 0.9390125847047435, 0.9399806389157793, 0.9419167473378509, 0.9438528557599225, 0.9457889641819942, 0.9506292352371732, 0.9515972894482091, 0.9554695062923524, 0.9593417231364957, 0.9612778315585673, 0.968054211035818, 0.9699903194578896, 0.9806389157792836, 0.9825750242013552, 0.9922555663117134, 0.9961277831558567, 1.0], \"y\": [0.0, 0.0053475935828877, 0.0106951871657754, 0.0106951871657754, 0.013368983957219251, 0.01871657754010695, 0.040106951871657755, 0.053475935828877004, 0.053475935828877004, 0.06149732620320856, 0.0748663101604278, 0.08021390374331551, 0.08021390374331551, 0.08823529411764706, 0.09090909090909091, 0.10695187165775401, 0.11497326203208556, 0.12834224598930483, 0.13368983957219252, 0.13636363636363635, 0.13636363636363635, 0.1443850267379679, 0.15240641711229946, 0.15775401069518716, 0.16310160427807488, 0.17379679144385027, 0.17379679144385027, 0.17914438502673796, 0.17914438502673796, 0.18716577540106952, 0.18716577540106952, 0.18716577540106952, 0.19518716577540107, 0.20053475935828877, 0.20320855614973263, 0.20320855614973263, 0.20588235294117646, 0.20588235294117646, 0.21122994652406418, 0.21657754010695188, 0.22192513368983957, 0.22192513368983957, 0.23529411764705882, 0.23529411764705882, 0.24064171122994651, 0.24064171122994651, 0.24064171122994651, 0.24331550802139038, 0.24331550802139038, 0.24866310160427807, 0.24866310160427807, 0.24866310160427807, 0.24866310160427807, 0.25133689839572193, 0.25668449197860965, 0.25668449197860965, 0.2620320855614973, 0.2647058823529412, 0.2700534759358289, 0.2727272727272727, 0.2727272727272727, 0.27807486631016043, 0.27807486631016043, 0.2807486631016043, 0.2807486631016043, 0.28609625668449196, 0.28609625668449196, 0.29411764705882354, 0.29411764705882354, 0.30213903743315507, 0.30213903743315507, 0.3074866310160428, 0.31283422459893045, 0.3155080213903743, 0.3155080213903743, 0.3181818181818182, 0.3181818181818182, 0.32620320855614976, 0.32620320855614976, 0.32887700534759357, 0.3315508021390374, 0.3342245989304813, 0.3342245989304813, 0.339572192513369, 0.339572192513369, 0.3422459893048128, 0.3449197860962567, 0.3449197860962567, 0.34759358288770054, 0.34759358288770054, 0.35561497326203206, 0.35561497326203206, 0.36363636363636365, 0.36363636363636365, 0.3716577540106952, 0.3716577540106952, 0.37433155080213903, 0.37967914438502676, 0.37967914438502676, 0.393048128342246, 0.393048128342246, 0.40106951871657753, 0.40106951871657753, 0.4037433155080214, 0.4037433155080214, 0.40641711229946526, 0.40641711229946526, 0.4090909090909091, 0.4090909090909091, 0.4117647058823529, 0.41711229946524064, 0.4197860962566845, 0.4197860962566845, 0.42245989304812837, 0.42780748663101603, 0.42780748663101603, 0.4304812834224599, 0.4304812834224599, 0.43315508021390375, 0.43315508021390375, 0.4385026737967914, 0.4385026737967914, 0.4411764705882353, 0.4411764705882353, 0.44385026737967914, 0.44385026737967914, 0.44919786096256686, 0.44919786096256686, 0.45187165775401067, 0.45187165775401067, 0.4679144385026738, 0.4732620320855615, 0.47593582887700536, 0.47593582887700536, 0.4839572192513369, 0.4839572192513369, 0.48663101604278075, 0.48663101604278075, 0.4893048128342246, 0.49732620320855614, 0.49732620320855614, 0.5, 0.5, 0.5026737967914439, 0.5026737967914439, 0.5053475935828877, 0.5053475935828877, 0.5106951871657754, 0.5106951871657754, 0.5187165775401069, 0.5213903743315508, 0.5240641711229946, 0.5240641711229946, 0.5267379679144385, 0.5267379679144385, 0.5294117647058824, 0.5294117647058824, 0.5347593582887701, 0.5401069518716578, 0.5401069518716578, 0.5401069518716578, 0.5454545454545454, 0.5454545454545454, 0.5481283422459893, 0.5508021390374331, 0.5508021390374331, 0.553475935828877, 0.553475935828877, 0.5588235294117647, 0.5588235294117647, 0.5641711229946524, 0.5641711229946524, 0.56951871657754, 0.56951871657754, 0.5721925133689839, 0.5721925133689839, 0.5855614973262032, 0.5855614973262032, 0.5882352941176471, 0.5935828877005348, 0.5935828877005348, 0.5935828877005348, 0.5962566844919787, 0.5962566844919787, 0.5989304812834224, 0.5989304812834224, 0.6016042780748663, 0.6016042780748663, 0.606951871657754, 0.606951871657754, 0.6149732620320856, 0.6149732620320856, 0.6229946524064172, 0.6229946524064172, 0.6256684491978609, 0.6256684491978609, 0.6310160427807486, 0.6310160427807486, 0.6336898395721925, 0.6336898395721925, 0.6363636363636364, 0.6363636363636364, 0.6417112299465241, 0.6443850267379679, 0.6470588235294118, 0.6470588235294118, 0.6497326203208557, 0.6497326203208557, 0.6524064171122995, 0.6524064171122995, 0.6550802139037433, 0.6550802139037433, 0.660427807486631, 0.660427807486631, 0.6684491978609626, 0.6684491978609626, 0.6711229946524064, 0.6711229946524064, 0.6764705882352942, 0.6764705882352942, 0.679144385026738, 0.679144385026738, 0.6871657754010695, 0.6871657754010695, 0.6951871657754011, 0.6951871657754011, 0.6978609625668449, 0.6978609625668449, 0.7005347593582888, 0.7005347593582888, 0.7032085561497327, 0.7032085561497327, 0.7058823529411765, 0.7085561497326203, 0.7085561497326203, 0.7112299465240641, 0.7165775401069518, 0.7165775401069518, 0.7192513368983957, 0.7245989304812834, 0.7245989304812834, 0.7272727272727273, 0.732620320855615, 0.732620320855615, 0.7352941176470589, 0.7352941176470589, 0.7459893048128342, 0.7459893048128342, 0.7540106951871658, 0.7540106951871658, 0.7566844919786097, 0.7566844919786097, 0.7593582887700535, 0.7593582887700535, 0.7620320855614974, 0.7620320855614974, 0.7647058823529411, 0.7647058823529411, 0.767379679144385, 0.767379679144385, 0.767379679144385, 0.7700534759358288, 0.7700534759358288, 0.7727272727272727, 0.7727272727272727, 0.7754010695187166, 0.7754010695187166, 0.7780748663101604, 0.7780748663101604, 0.786096256684492, 0.786096256684492, 0.7914438502673797, 0.7914438502673797, 0.7941176470588235, 0.7941176470588235, 0.7967914438502673, 0.7967914438502673, 0.7994652406417112, 0.7994652406417112, 0.8021390374331551, 0.8021390374331551, 0.8074866310160428, 0.8101604278074866, 0.8101604278074866, 0.8155080213903744, 0.8155080213903744, 0.8155080213903744, 0.8181818181818182, 0.8181818181818182, 0.8235294117647058, 0.8235294117647058, 0.8262032085561497, 0.8262032085561497, 0.8288770053475936, 0.8288770053475936, 0.8315508021390374, 0.8315508021390374, 0.8342245989304813, 0.8342245989304813, 0.8368983957219251, 0.8368983957219251, 0.839572192513369, 0.839572192513369, 0.8422459893048129, 0.8422459893048129, 0.8449197860962567, 0.8449197860962567, 0.8475935828877005, 0.8475935828877005, 0.8502673796791443, 0.8502673796791443, 0.8502673796791443, 0.8502673796791443, 0.8529411764705882, 0.8529411764705882, 0.8556149732620321, 0.8556149732620321, 0.8636363636363636, 0.8636363636363636, 0.8636363636363636, 0.8636363636363636, 0.8689839572192514, 0.8689839572192514, 0.8716577540106952, 0.8716577540106952, 0.8716577540106952, 0.8716577540106952, 0.8743315508021391, 0.8743315508021391, 0.8823529411764706, 0.8823529411764706, 0.8877005347593583, 0.8877005347593583, 0.893048128342246, 0.893048128342246, 0.8957219251336899, 0.8957219251336899, 0.9010695187165776, 0.9010695187165776, 0.9037433155080213, 0.9037433155080213, 0.9064171122994652, 0.9090909090909091, 0.9090909090909091, 0.9117647058823529, 0.9117647058823529, 0.9144385026737968, 0.9144385026737968, 0.9144385026737968, 0.9144385026737968, 0.9171122994652406, 0.9171122994652406, 0.9197860962566845, 0.9197860962566845, 0.9224598930481284, 0.9224598930481284, 0.9251336898395722, 0.9251336898395722, 0.9331550802139037, 0.9331550802139037, 0.9358288770053476, 0.9358288770053476, 0.9385026737967914, 0.9385026737967914, 0.9411764705882353, 0.9411764705882353, 0.946524064171123, 0.946524064171123, 0.9491978609625669, 0.9491978609625669, 0.9518716577540107, 0.9518716577540107, 0.9545454545454546, 0.9545454545454546, 0.9572192513368984, 0.9572192513368984, 0.9598930481283422, 0.9598930481283422, 0.9598930481283422, 0.9598930481283422, 0.9625668449197861, 0.9625668449197861, 0.9679144385026738, 0.9679144385026738, 0.9705882352941176, 0.9705882352941176, 0.9732620320855615, 0.9732620320855615, 0.9759358288770054, 0.9759358288770054, 0.9786096256684492, 0.9786096256684492, 0.9812834224598931, 0.9812834224598931, 0.9812834224598931, 0.9812834224598931, 0.983957219251337, 0.983957219251337, 0.983957219251337, 0.9866310160427807, 0.9866310160427807, 0.9893048128342246, 0.9893048128342246, 0.9893048128342246, 0.9893048128342246, 0.9893048128342246, 0.9893048128342246, 0.9919786096256684, 0.9919786096256684, 0.9919786096256684, 0.9919786096256684, 0.9946524064171123, 0.9946524064171123, 0.9946524064171123, 0.9946524064171123, 0.9973262032085561, 0.9973262032085561, 0.9973262032085561, 0.9973262032085561, 0.9973262032085561, 0.9973262032085561, 0.9973262032085561, 0.9973262032085561, 0.9973262032085561, 0.9973262032085561, 0.9973262032085561, 0.9973262032085561, 0.9973262032085561, 0.9973262032085561, 0.9973262032085561, 0.9973262032085561, 0.9973262032085561, 0.9973262032085561, 0.9973262032085561, 0.9973262032085561, 0.9973262032085561, 0.9973262032085561, 0.9973262032085561, 0.9973262032085561, 0.9973262032085561, 0.9973262032085561, 0.9973262032085561, 0.9973262032085561, 0.9973262032085561, 0.9973262032085561, 0.9973262032085561, 0.9973262032085561, 0.9973262032085561, 0.9973262032085561, 0.9973262032085561, 0.9973262032085561, 0.9973262032085561, 0.9973262032085561, 0.9973262032085561, 0.9973262032085561, 0.9973262032085561, 0.9973262032085561, 0.9973262032085561, 0.9973262032085561, 0.9973262032085561, 0.9973262032085561, 0.9973262032085561, 0.9973262032085561, 0.9973262032085561, 0.9973262032085561, 0.9973262032085561, 1.0, 1.0, 1.0, 1.0, 1.0, 1.0, 1.0, 1.0, 1.0, 1.0, 1.0, 1.0, 1.0, 1.0, 1.0, 1.0, 1.0]}, {\"mode\": \"lines\", \"name\": \"CAT\", \"type\": \"scatter\", \"x\": [0.0, 0.0, 0.0, 0.0, 0.000968054211035818, 0.000968054211035818, 0.001936108422071636, 0.001936108422071636, 0.002904162633107454, 0.002904162633107454, 0.003872216844143272, 0.003872216844143272, 0.005808325266214908, 0.005808325266214908, 0.006776379477250726, 0.006776379477250726, 0.006776379477250726, 0.007744433688286544, 0.007744433688286544, 0.008712487899322363, 0.008712487899322363, 0.010648596321393998, 0.010648596321393998, 0.011616650532429816, 0.011616650532429816, 0.012584704743465635, 0.012584704743465635, 0.013552758954501452, 0.013552758954501452, 0.01452081316553727, 0.01452081316553727, 0.016456921587608905, 0.016456921587608905, 0.017424975798644726, 0.017424975798644726, 0.018393030009680542, 0.018393030009680542, 0.02032913843175218, 0.02032913843175218, 0.022265246853823813, 0.022265246853823813, 0.023233301064859633, 0.023233301064859633, 0.027105517909002903, 0.027105517909002903, 0.028073572120038724, 0.028073572120038724, 0.02904162633107454, 0.02904162633107454, 0.030977734753146177, 0.030977734753146177, 0.03291384317521781, 0.03291384317521781, 0.03388189738625363, 0.03388189738625363, 0.03581800580832527, 0.03581800580832527, 0.0377541142303969, 0.0377541142303969, 0.03872216844143272, 0.03872216844143272, 0.03969022265246854, 0.03969022265246854, 0.041626331074540175, 0.041626331074540175, 0.04356243949661181, 0.04356243949661181, 0.044530493707647625, 0.044530493707647625, 0.046466602129719266, 0.046466602129719266, 0.04743465634075508, 0.04743465634075508, 0.0484027105517909, 0.0484027105517909, 0.049370764762826716, 0.049370764762826716, 0.05227492739593417, 0.05227492739593417, 0.05227492739593417, 0.05227492739593417, 0.05324298160696999, 0.05324298160696999, 0.05421103581800581, 0.05421103581800581, 0.05517909002904162, 0.05517909002904162, 0.05808325266214908, 0.05808325266214908, 0.0590513068731849, 0.0590513068731849, 0.060019361084220714, 0.060019361084220714, 0.061955469506292354, 0.06292352371732816, 0.06389157792836399, 0.06389157792836399, 0.06485963213939981, 0.06485963213939981, 0.06582768635043562, 0.06582768635043562, 0.0696999031945789, 0.0696999031945789, 0.07066795740561471, 0.07066795740561471, 0.07163601161665054, 0.07163601161665054, 0.07260406582768635, 0.07260406582768635, 0.07357212003872217, 0.07357212003872217, 0.07744433688286544, 0.07744433688286544, 0.07841239109390126, 0.07841239109390126, 0.07938044530493708, 0.07938044530493708, 0.0803484995159729, 0.0803484995159729, 0.08131655372700872, 0.08131655372700872, 0.08228460793804453, 0.08228460793804453, 0.08325266214908035, 0.08325266214908035, 0.08422071636011616, 0.08422071636011616, 0.08809293320425944, 0.08809293320425944, 0.08906098741529525, 0.08906098741529525, 0.09002904162633107, 0.09002904162633107, 0.09970958373668926, 0.09970958373668926, 0.10067763794772508, 0.10067763794772508, 0.10454985479186835, 0.1074540174249758, 0.1074540174249758, 0.10939012584704744, 0.10939012584704744, 0.1122942884801549, 0.1122942884801549, 0.1132623426911907, 0.1132623426911907, 0.11519845111326234, 0.11519845111326234, 0.1181026137463698, 0.1181026137463698, 0.11907066795740562, 0.11907066795740562, 0.12100677637947725, 0.12100677637947725, 0.12391093901258471, 0.12391093901258471, 0.12487899322362052, 0.12487899322362052, 0.12681510164569215, 0.12681510164569215, 0.12778315585672798, 0.12778315585672798, 0.1287512100677638, 0.1287512100677638, 0.13068731848983542, 0.13165537270087124, 0.13262342691190707, 0.13262342691190707, 0.1345595353339787, 0.1345595353339787, 0.1355275895450145, 0.1355275895450145, 0.13649564375605033, 0.13649564375605033, 0.1403678606001936, 0.1403678606001936, 0.14230396902226525, 0.14230396902226525, 0.1442400774443369, 0.1442400774443369, 0.1452081316553727, 0.1452081316553727, 0.14617618586640851, 0.14617618586640851, 0.14714424007744434, 0.14714424007744434, 0.15004840271055178, 0.15004840271055178, 0.1510164569215876, 0.1510164569215876, 0.15198451113262343, 0.15198451113262343, 0.15488867376573087, 0.15488867376573087, 0.15682478218780252, 0.15682478218780252, 0.15779283639883834, 0.15779283639883834, 0.1606969990319458, 0.1606969990319458, 0.1616650532429816, 0.1616650532429816, 0.16263310745401743, 0.16263310745401743, 0.16456921587608905, 0.16456921587608905, 0.16747337850919652, 0.16747337850919652, 0.16844143272023232, 0.16844143272023232, 0.16940948693126814, 0.16940948693126814, 0.17037754114230397, 0.17037754114230397, 0.17521781219748306, 0.17521781219748306, 0.17618586640851888, 0.17618586640851888, 0.1771539206195547, 0.1771539206195547, 0.17909002904162633, 0.17909002904162633, 0.18102613746369797, 0.18102613746369797, 0.1829622458857696, 0.1829622458857696, 0.18393030009680542, 0.18393030009680542, 0.18489835430784124, 0.18489835430784124, 0.18780251694094868, 0.18780251694094868, 0.18973862536302033, 0.18973862536302033, 0.19070667957405615, 0.19070667957405615, 0.1936108422071636, 0.1936108422071636, 0.19651500484027107, 0.19651500484027107, 0.1984511132623427, 0.1984511132623427, 0.20232333010648595, 0.20232333010648595, 0.20522749273959343, 0.20522749273959343, 0.20813165537270087, 0.20813165537270087, 0.2090997095837367, 0.2090997095837367, 0.21684414327202323, 0.21684414327202323, 0.21781219748305905, 0.21781219748305905, 0.21878025169409487, 0.21878025169409487, 0.22265246853823814, 0.22265246853823814, 0.22362052274927396, 0.22362052274927396, 0.22555663117134558, 0.22555663117134558, 0.22846079380445306, 0.22846079380445306, 0.22942884801548888, 0.22942884801548888, 0.23523717328170377, 0.23523717328170377, 0.2362052274927396, 0.2362052274927396, 0.23910939012584706, 0.23910939012584706, 0.2468538238141336, 0.2468538238141336, 0.24878993223620524, 0.24878993223620524, 0.25072604065827686, 0.25072604065827686, 0.25169409486931266, 0.25169409486931266, 0.2575024201355276, 0.2575024201355276, 0.2633107454017425, 0.2633107454017425, 0.26524685382381413, 0.26524685382381413, 0.26621490803484993, 0.26621490803484993, 0.2681510164569216, 0.2681510164569216, 0.2739593417231365, 0.2739593417231365, 0.27686350435624396, 0.27686350435624396, 0.27783155856727976, 0.27783155856727976, 0.2787996127783156, 0.2787996127783156, 0.2797676669893514, 0.2797676669893514, 0.29816069699903197, 0.29816069699903197, 0.3020329138431752, 0.3020329138431752, 0.30300096805421106, 0.30300096805421106, 0.30493707647628265, 0.30493707647628265, 0.31268151016456924, 0.31268151016456924, 0.31848983543078413, 0.31848983543078413, 0.3213939980638916, 0.3213939980638916, 0.32720232333010646, 0.32720232333010646, 0.3281703775411423, 0.3281703775411423, 0.3291384317521781, 0.3291384317521781, 0.33688286544046464, 0.33688286544046464, 0.33978702807357214, 0.33978702807357214, 0.3426911907066796, 0.3426911907066796, 0.3436592449177154, 0.3436592449177154, 0.3504356243949661, 0.3504356243949661, 0.3514036786060019, 0.3514036786060019, 0.35237173281703776, 0.35237173281703776, 0.36205227492739595, 0.36205227492739595, 0.36302032913843174, 0.36302032913843174, 0.3639883833494676, 0.3639883833494676, 0.3649564375605034, 0.3649564375605034, 0.3697967086156825, 0.3697967086156825, 0.3707647628267183, 0.3707647628267183, 0.3717328170377541, 0.3717328170377541, 0.3765730880929332, 0.3765730880929332, 0.38334946757018395, 0.38334946757018395, 0.3910939012584705, 0.3910939012584705, 0.398838334946757, 0.398838334946757, 0.40077444336882867, 0.40077444336882867, 0.4046466602129719, 0.4046466602129719, 0.40561471442400776, 0.40561471442400776, 0.4075508228460794, 0.4075508228460794, 0.4249757986447241, 0.4249757986447241, 0.43272023233301066, 0.43272023233301066, 0.43852855759922554, 0.43852855759922554, 0.4453049370764763, 0.4453049370764763, 0.45498547918683446, 0.45498547918683446, 0.4569215876089061, 0.4569215876089061, 0.45885769603097776, 0.45885769603097776, 0.4753146176185866, 0.4753146176185866, 0.4801548886737657, 0.4801548886737657, 0.49661181026137463, 0.49661181026137463, 0.4985479186834463, 0.4985479186834463, 0.5033881897386253, 0.5033881897386253, 0.5208131655372701, 0.5208131655372701, 0.526621490803485, 0.526621490803485, 0.5333978702807357, 0.5333978702807357, 0.5527589545014521, 0.5527589545014521, 0.5672797676669894, 0.5672797676669894, 0.569215876089061, 0.569215876089061, 0.5924491771539206, 0.5924491771539206, 0.5953533397870281, 0.5953533397870281, 0.643756050338819, 0.643756050338819, 0.6456921587608906, 0.6456921587608906, 0.665053242981607, 0.665053242981607, 0.6776379477250726, 0.6776379477250726, 0.68054211035818, 0.68054211035818, 0.6844143272023233, 0.6844143272023233, 0.7134559535333979, 0.7134559535333979, 0.7202323330106486, 0.7202323330106486, 0.8528557599225557, 0.8528557599225557, 0.8770571151984511, 0.8770571151984511, 1.0], \"y\": [0.0, 0.0053475935828877, 0.0106951871657754, 0.026737967914438502, 0.026737967914438502, 0.034759358288770054, 0.040106951871657755, 0.05080213903743316, 0.05080213903743316, 0.08021390374331551, 0.08021390374331551, 0.09090909090909091, 0.09090909090909091, 0.09358288770053476, 0.09358288770053476, 0.09893048128342247, 0.10695187165775401, 0.10695187165775401, 0.10962566844919786, 0.10962566844919786, 0.12299465240641712, 0.12299465240641712, 0.12566844919786097, 0.12566844919786097, 0.13903743315508021, 0.13903743315508021, 0.1497326203208556, 0.1497326203208556, 0.15240641711229946, 0.15240641711229946, 0.15508021390374332, 0.15508021390374332, 0.1711229946524064, 0.1711229946524064, 0.17379679144385027, 0.17379679144385027, 0.18181818181818182, 0.18181818181818182, 0.18983957219251338, 0.18983957219251338, 0.20320855614973263, 0.20320855614973263, 0.20588235294117646, 0.20588235294117646, 0.21390374331550802, 0.21390374331550802, 0.21657754010695188, 0.21657754010695188, 0.22994652406417113, 0.22994652406417113, 0.23529411764705882, 0.23529411764705882, 0.24331550802139038, 0.24331550802139038, 0.24598930481283424, 0.24598930481283424, 0.25133689839572193, 0.25133689839572193, 0.25668449197860965, 0.25668449197860965, 0.2620320855614973, 0.2620320855614973, 0.2647058823529412, 0.2647058823529412, 0.26737967914438504, 0.26737967914438504, 0.2887700534759358, 0.2887700534759358, 0.2914438502673797, 0.2914438502673797, 0.29411764705882354, 0.29411764705882354, 0.2967914438502674, 0.2967914438502674, 0.2994652406417112, 0.2994652406417112, 0.3048128342245989, 0.3048128342245989, 0.3074866310160428, 0.31283422459893045, 0.3155080213903743, 0.3155080213903743, 0.32085561497326204, 0.32085561497326204, 0.32620320855614976, 0.32620320855614976, 0.3422459893048128, 0.3422459893048128, 0.3502673796791444, 0.3502673796791444, 0.35294117647058826, 0.35294117647058826, 0.35561497326203206, 0.35561497326203206, 0.3582887700534759, 0.3582887700534759, 0.3609625668449198, 0.3609625668449198, 0.3663101604278075, 0.3663101604278075, 0.3689839572192513, 0.3689839572192513, 0.3716577540106952, 0.3716577540106952, 0.37967914438502676, 0.37967914438502676, 0.38235294117647056, 0.3850267379679144, 0.3877005347593583, 0.3877005347593583, 0.393048128342246, 0.393048128342246, 0.3983957219251337, 0.3983957219251337, 0.40106951871657753, 0.40106951871657753, 0.40641711229946526, 0.40641711229946526, 0.4117647058823529, 0.4117647058823529, 0.4144385026737968, 0.4144385026737968, 0.41711229946524064, 0.41711229946524064, 0.4197860962566845, 0.4197860962566845, 0.42513368983957217, 0.42513368983957217, 0.4358288770053476, 0.4358288770053476, 0.4385026737967914, 0.4385026737967914, 0.4411764705882353, 0.4411764705882353, 0.44385026737967914, 0.44385026737967914, 0.446524064171123, 0.446524064171123, 0.446524064171123, 0.4572192513368984, 0.4572192513368984, 0.4625668449197861, 0.4625668449197861, 0.4679144385026738, 0.4679144385026738, 0.47058823529411764, 0.47058823529411764, 0.4732620320855615, 0.4732620320855615, 0.47593582887700536, 0.47593582887700536, 0.48128342245989303, 0.48128342245989303, 0.4839572192513369, 0.4839572192513369, 0.48663101604278075, 0.48663101604278075, 0.4893048128342246, 0.4893048128342246, 0.4919786096256685, 0.4919786096256685, 0.49732620320855614, 0.49732620320855614, 0.5, 0.5, 0.5026737967914439, 0.5026737967914439, 0.5080213903743316, 0.5080213903743316, 0.5133689839572193, 0.5133689839572193, 0.5240641711229946, 0.5240641711229946, 0.5267379679144385, 0.5267379679144385, 0.5294117647058824, 0.5294117647058824, 0.5320855614973262, 0.5320855614973262, 0.5374331550802139, 0.5374331550802139, 0.5401069518716578, 0.5401069518716578, 0.5427807486631016, 0.5427807486631016, 0.5454545454545454, 0.5454545454545454, 0.5481283422459893, 0.5481283422459893, 0.5588235294117647, 0.5588235294117647, 0.5641711229946524, 0.5641711229946524, 0.56951871657754, 0.56951871657754, 0.5721925133689839, 0.5721925133689839, 0.5748663101604278, 0.5748663101604278, 0.5828877005347594, 0.5828877005347594, 0.5855614973262032, 0.5855614973262032, 0.5909090909090909, 0.5909090909090909, 0.5935828877005348, 0.5935828877005348, 0.5962566844919787, 0.5962566844919787, 0.6016042780748663, 0.6016042780748663, 0.6042780748663101, 0.6042780748663101, 0.606951871657754, 0.606951871657754, 0.6096256684491979, 0.6096256684491979, 0.6122994652406417, 0.6122994652406417, 0.6203208556149733, 0.6203208556149733, 0.6256684491978609, 0.6256684491978609, 0.6283422459893048, 0.6283422459893048, 0.6390374331550802, 0.6390374331550802, 0.6417112299465241, 0.6417112299465241, 0.6443850267379679, 0.6443850267379679, 0.6524064171122995, 0.6524064171122995, 0.6550802139037433, 0.6550802139037433, 0.6577540106951871, 0.6577540106951871, 0.660427807486631, 0.660427807486631, 0.6631016042780749, 0.6631016042780749, 0.6711229946524064, 0.6711229946524064, 0.6764705882352942, 0.6764705882352942, 0.6818181818181818, 0.6818181818181818, 0.6871657754010695, 0.6871657754010695, 0.6898395721925134, 0.6898395721925134, 0.6925133689839572, 0.6925133689839572, 0.6951871657754011, 0.6951871657754011, 0.6978609625668449, 0.6978609625668449, 0.7005347593582888, 0.7005347593582888, 0.7085561497326203, 0.7085561497326203, 0.7112299465240641, 0.7112299465240641, 0.7219251336898396, 0.7219251336898396, 0.7245989304812834, 0.7245989304812834, 0.7272727272727273, 0.7272727272727273, 0.732620320855615, 0.732620320855615, 0.7352941176470589, 0.7352941176470589, 0.7379679144385026, 0.7379679144385026, 0.7406417112299465, 0.7406417112299465, 0.7433155080213903, 0.7433155080213903, 0.7459893048128342, 0.7459893048128342, 0.7486631016042781, 0.7486631016042781, 0.7513368983957219, 0.7513368983957219, 0.7540106951871658, 0.7540106951871658, 0.7566844919786097, 0.7566844919786097, 0.7647058823529411, 0.7647058823529411, 0.767379679144385, 0.767379679144385, 0.7754010695187166, 0.7754010695187166, 0.7780748663101604, 0.7780748663101604, 0.7807486631016043, 0.7807486631016043, 0.7834224598930482, 0.7834224598930482, 0.7914438502673797, 0.7914438502673797, 0.7941176470588235, 0.7941176470588235, 0.7967914438502673, 0.7967914438502673, 0.7994652406417112, 0.7994652406417112, 0.8048128342245989, 0.8048128342245989, 0.8074866310160428, 0.8074866310160428, 0.8155080213903744, 0.8155080213903744, 0.8235294117647058, 0.8235294117647058, 0.8288770053475936, 0.8288770053475936, 0.8315508021390374, 0.8315508021390374, 0.8342245989304813, 0.8342245989304813, 0.8422459893048129, 0.8422459893048129, 0.8449197860962567, 0.8449197860962567, 0.8475935828877005, 0.8475935828877005, 0.8529411764705882, 0.8529411764705882, 0.8556149732620321, 0.8556149732620321, 0.8582887700534759, 0.8582887700534759, 0.8609625668449198, 0.8609625668449198, 0.8663101604278075, 0.8663101604278075, 0.8689839572192514, 0.8689839572192514, 0.8716577540106952, 0.8716577540106952, 0.8743315508021391, 0.8743315508021391, 0.8770053475935828, 0.8770053475935828, 0.8823529411764706, 0.8823529411764706, 0.8850267379679144, 0.8850267379679144, 0.8877005347593583, 0.8877005347593583, 0.893048128342246, 0.893048128342246, 0.8957219251336899, 0.8957219251336899, 0.8983957219251337, 0.8983957219251337, 0.9037433155080213, 0.9037433155080213, 0.9064171122994652, 0.9064171122994652, 0.9090909090909091, 0.9090909090909091, 0.9144385026737968, 0.9144385026737968, 0.9171122994652406, 0.9171122994652406, 0.9197860962566845, 0.9197860962566845, 0.9251336898395722, 0.9251336898395722, 0.9278074866310161, 0.9278074866310161, 0.93048128342246, 0.93048128342246, 0.9331550802139037, 0.9331550802139037, 0.9358288770053476, 0.9358288770053476, 0.9385026737967914, 0.9385026737967914, 0.9411764705882353, 0.9411764705882353, 0.9438502673796791, 0.9438502673796791, 0.946524064171123, 0.946524064171123, 0.9491978609625669, 0.9491978609625669, 0.9518716577540107, 0.9518716577540107, 0.9572192513368984, 0.9572192513368984, 0.9598930481283422, 0.9598930481283422, 0.9625668449197861, 0.9625668449197861, 0.9652406417112299, 0.9652406417112299, 0.9679144385026738, 0.9679144385026738, 0.9705882352941176, 0.9705882352941176, 0.9732620320855615, 0.9732620320855615, 0.9759358288770054, 0.9759358288770054, 0.9786096256684492, 0.9786096256684492, 0.9812834224598931, 0.9812834224598931, 0.983957219251337, 0.983957219251337, 0.9866310160427807, 0.9866310160427807, 0.9893048128342246, 0.9893048128342246, 0.9919786096256684, 0.9919786096256684, 0.9973262032085561, 0.9973262032085561, 1.0, 1.0]}, {\"mode\": \"lines\", \"name\": \"SGB\", \"type\": \"scatter\", \"x\": [0.0, 0.000968054211035818, 0.000968054211035818, 0.000968054211035818, 0.000968054211035818, 0.000968054211035818, 0.003872216844143272, 0.003872216844143272, 0.00484027105517909, 0.00484027105517909, 0.005808325266214908, 0.005808325266214908, 0.006776379477250726, 0.006776379477250726, 0.008712487899322363, 0.008712487899322363, 0.00968054211035818, 0.00968054211035818, 0.010648596321393998, 0.010648596321393998, 0.011616650532429816, 0.011616650532429816, 0.012584704743465635, 0.012584704743465635, 0.013552758954501452, 0.013552758954501452, 0.01452081316553727, 0.01452081316553727, 0.015488867376573089, 0.015488867376573089, 0.016456921587608905, 0.016456921587608905, 0.017424975798644726, 0.017424975798644726, 0.018393030009680542, 0.018393030009680542, 0.02032913843175218, 0.02032913843175218, 0.021297192642787996, 0.021297192642787996, 0.022265246853823813, 0.022265246853823813, 0.023233301064859633, 0.023233301064859633, 0.02420135527589545, 0.02420135527589545, 0.02516940948693127, 0.02516940948693127, 0.026137463697967087, 0.026137463697967087, 0.028073572120038724, 0.028073572120038724, 0.030009680542110357, 0.030009680542110357, 0.030977734753146177, 0.030977734753146177, 0.031945788964181994, 0.031945788964181994, 0.03291384317521781, 0.03291384317521781, 0.03484995159728945, 0.036786060019361085, 0.036786060019361085, 0.03969022265246854, 0.03969022265246854, 0.04065827686350436, 0.04065827686350436, 0.044530493707647625, 0.044530493707647625, 0.046466602129719266, 0.046466602129719266, 0.04743465634075508, 0.04743465634075508, 0.049370764762826716, 0.049370764762826716, 0.051306873184898356, 0.051306873184898356, 0.05324298160696999, 0.05324298160696999, 0.05421103581800581, 0.05421103581800581, 0.05517909002904162, 0.05517909002904162, 0.05614714424007745, 0.05614714424007745, 0.05808325266214908, 0.05808325266214908, 0.060019361084220714, 0.060019361084220714, 0.06292352371732816, 0.06292352371732816, 0.06389157792836399, 0.06389157792836399, 0.06485963213939981, 0.06485963213939981, 0.06776379477250725, 0.06776379477250725, 0.06873184898354308, 0.06873184898354308, 0.0696999031945789, 0.0696999031945789, 0.07454017424975799, 0.07454017424975799, 0.07841239109390126, 0.07841239109390126, 0.07938044530493708, 0.07938044530493708, 0.0803484995159729, 0.0803484995159729, 0.08325266214908035, 0.08325266214908035, 0.08422071636011616, 0.08422071636011616, 0.08518877057115198, 0.08518877057115198, 0.08712487899322362, 0.08712487899322362, 0.08906098741529525, 0.08906098741529525, 0.0909970958373669, 0.0909970958373669, 0.09196515004840271, 0.09196515004840271, 0.0968054211035818, 0.0968054211035818, 0.09777347531461762, 0.09777347531461762, 0.09874152952565343, 0.09874152952565343, 0.09970958373668926, 0.09970958373668926, 0.10067763794772508, 0.10067763794772508, 0.10164569215876089, 0.10164569215876089, 0.10261374636979671, 0.10261374636979671, 0.10551790900290416, 0.10551790900290416, 0.1074540174249758, 0.1074540174249758, 0.10842207163601161, 0.10842207163601161, 0.10939012584704744, 0.10939012584704744, 0.11035818005808325, 0.11035818005808325, 0.11423039690222653, 0.11423039690222653, 0.11519845111326234, 0.11519845111326234, 0.11616650532429816, 0.11616650532429816, 0.12778315585672798, 0.12778315585672798, 0.13165537270087124, 0.13165537270087124, 0.13262342691190707, 0.13262342691190707, 0.1335914811229429, 0.1335914811229429, 0.13746369796708616, 0.13746369796708616, 0.14327202323330107, 0.14327202323330107, 0.1452081316553727, 0.1452081316553727, 0.14714424007744434, 0.14714424007744434, 0.14811229428848016, 0.14811229428848016, 0.14908034849951599, 0.14908034849951599, 0.15198451113262343, 0.15198451113262343, 0.1558567279767667, 0.1558567279767667, 0.16360116166505323, 0.16360116166505323, 0.1665053242981607, 0.1665053242981607, 0.16747337850919652, 0.16747337850919652, 0.17231364956437561, 0.17231364956437561, 0.17909002904162633, 0.17909002904162633, 0.18005808325266215, 0.18005808325266215, 0.18102613746369797, 0.18102613746369797, 0.18393030009680542, 0.18393030009680542, 0.1887705711519845, 0.1887705711519845, 0.19167473378509198, 0.19167473378509198, 0.19264278799612777, 0.19264278799612777, 0.1936108422071636, 0.1936108422071636, 0.1984511132623427, 0.1984511132623427, 0.20232333010648595, 0.20232333010648595, 0.2042594385285576, 0.2042594385285576, 0.21200387221684414, 0.21200387221684414, 0.21393998063891578, 0.21393998063891578, 0.2149080348499516, 0.2149080348499516, 0.2158760890609874, 0.2158760890609874, 0.21781219748305905, 0.21781219748305905, 0.21878025169409487, 0.21878025169409487, 0.2197483059051307, 0.2197483059051307, 0.2207163601161665, 0.2207163601161665, 0.22265246853823814, 0.22265246853823814, 0.22362052274927396, 0.22362052274927396, 0.22749273959341723, 0.22749273959341723, 0.23233301064859632, 0.23233301064859632, 0.23426911907066797, 0.23426911907066797, 0.23523717328170377, 0.23523717328170377, 0.2371732817037754, 0.2371732817037754, 0.24007744433688286, 0.24007744433688286, 0.24298160696999033, 0.24298160696999033, 0.24588576960309777, 0.24588576960309777, 0.25459825750242016, 0.25459825750242016, 0.25556631171345595, 0.25556631171345595, 0.2575024201355276, 0.2575024201355276, 0.26040658276863504, 0.26040658276863504, 0.26427879961277834, 0.26427879961277834, 0.26621490803484993, 0.26621490803484993, 0.2681510164569216, 0.2681510164569216, 0.2739593417231365, 0.2739593417231365, 0.27686350435624396, 0.27686350435624396, 0.27783155856727976, 0.2807357212003872, 0.2807357212003872, 0.28170377541142305, 0.28170377541142305, 0.28751210067763794, 0.28751210067763794, 0.2894482090997096, 0.2894482090997096, 0.29138431752178123, 0.29138431752178123, 0.30009680542110356, 0.30009680542110356, 0.3010648596321394, 0.3010648596321394, 0.31268151016456924, 0.31268151016456924, 0.3194578896418199, 0.3194578896418199, 0.324298160696999, 0.324298160696999, 0.3281703775411423, 0.3281703775411423, 0.33010648596321396, 0.33010648596321396, 0.33494675701839305, 0.33494675701839305, 0.345595353339787, 0.345595353339787, 0.3514036786060019, 0.3514036786060019, 0.3552758954501452, 0.3552758954501452, 0.35721200387221685, 0.35721200387221685, 0.35818005808325265, 0.35818005808325265, 0.3610842207163601, 0.3610842207163601, 0.36786060019361083, 0.36786060019361083, 0.3717328170377541, 0.3717328170377541, 0.3727008712487899, 0.3727008712487899, 0.377541142303969, 0.377541142303969, 0.38528557599225555, 0.38528557599225555, 0.39012584704743464, 0.39012584704743464, 0.3910939012584705, 0.3910939012584705, 0.39399806389157793, 0.39399806389157793, 0.398838334946757, 0.398838334946757, 0.40077444336882867, 0.40077444336882867, 0.40174249757986447, 0.40174249757986447, 0.4036786060019361, 0.4036786060019361, 0.4075508228460794, 0.4075508228460794, 0.41045498547918685, 0.41045498547918685, 0.42110358180058083, 0.42110358180058083, 0.42400774443368827, 0.42400774443368827, 0.42884801548886736, 0.42884801548886736, 0.430784123910939, 0.430784123910939, 0.4317521781219748, 0.4317521781219748, 0.4356243949661181, 0.4356243949661181, 0.4394966118102614, 0.4394966118102614, 0.452081316553727, 0.452081316553727, 0.4530493707647628, 0.4530493707647628, 0.45885769603097776, 0.45885769603097776, 0.4762826718296225, 0.4762826718296225, 0.494675701839303, 0.494675701839303, 0.4985479186834463, 0.4985479186834463, 0.5062923523717329, 0.5062923523717329, 0.5188770571151985, 0.5188770571151985, 0.526621490803485, 0.526621490803485, 0.5304937076476283, 0.5304937076476283, 0.5324298160696999, 0.5324298160696999, 0.5363020329138432, 0.5363020329138432, 0.5382381413359149, 0.5382381413359149, 0.5508228460793805, 0.5508228460793805, 0.558567279767667, 0.558567279767667, 0.5653436592449177, 0.5653436592449177, 0.5672797676669894, 0.5672797676669894, 0.5943852855759922, 0.5943852855759922, 0.6001936108422071, 0.6001936108422071, 0.6060019361084221, 0.6060019361084221, 0.6176185866408519, 0.6176185866408519, 0.6263310745401742, 0.6263310745401742, 0.633107454017425, 0.633107454017425, 0.6369796708615683, 0.6369796708615683, 0.6824782187802517, 0.6824782187802517, 0.6931268151016456, 0.6931268151016456, 0.8121974830590513, 0.8121974830590513, 0.8180058083252663, 0.8199419167473379, 0.8276863504356244, 0.8276863504356244, 0.8731848983543078, 0.8731848983543078, 0.9070667957405615, 0.9070667957405615, 0.9748305905130688, 0.9767666989351403, 1.0], \"y\": [0.0, 0.0, 0.0053475935828877, 0.01871657754010695, 0.02406417112299465, 0.03208556149732621, 0.03208556149732621, 0.09090909090909091, 0.09090909090909091, 0.10427807486631016, 0.10427807486631016, 0.11764705882352941, 0.11764705882352941, 0.12299465240641712, 0.12299465240641712, 0.12566844919786097, 0.12566844919786097, 0.12834224598930483, 0.12834224598930483, 0.13636363636363635, 0.13636363636363635, 0.1443850267379679, 0.1443850267379679, 0.15240641711229946, 0.15240641711229946, 0.16042780748663102, 0.16042780748663102, 0.16310160427807488, 0.16310160427807488, 0.1711229946524064, 0.1711229946524064, 0.18449197860962566, 0.18449197860962566, 0.18983957219251338, 0.1925133689839572, 0.19786096256684493, 0.19786096256684493, 0.20053475935828877, 0.20053475935828877, 0.21657754010695188, 0.21657754010695188, 0.22727272727272727, 0.22727272727272727, 0.232620320855615, 0.232620320855615, 0.23529411764705882, 0.23529411764705882, 0.23796791443850268, 0.23796791443850268, 0.25133689839572193, 0.25133689839572193, 0.25668449197860965, 0.25668449197860965, 0.25935828877005346, 0.25935828877005346, 0.26737967914438504, 0.26737967914438504, 0.27807486631016043, 0.27807486631016043, 0.28342245989304815, 0.28342245989304815, 0.28342245989304815, 0.2887700534759358, 0.2887700534759358, 0.2914438502673797, 0.2914438502673797, 0.30213903743315507, 0.30213903743315507, 0.3074866310160428, 0.3074866310160428, 0.31016042780748665, 0.31016042780748665, 0.31283422459893045, 0.31283422459893045, 0.3155080213903743, 0.3155080213903743, 0.3181818181818182, 0.3181818181818182, 0.32085561497326204, 0.32085561497326204, 0.3235294117647059, 0.3235294117647059, 0.3315508021390374, 0.3315508021390374, 0.3342245989304813, 0.3342245989304813, 0.33689839572192515, 0.33689839572192515, 0.3422459893048128, 0.3422459893048128, 0.34759358288770054, 0.34759358288770054, 0.3502673796791444, 0.3502673796791444, 0.35294117647058826, 0.35294117647058826, 0.35561497326203206, 0.35561497326203206, 0.3582887700534759, 0.3582887700534759, 0.3663101604278075, 0.3663101604278075, 0.3716577540106952, 0.3716577540106952, 0.37433155080213903, 0.37433155080213903, 0.37967914438502676, 0.37967914438502676, 0.38235294117647056, 0.38235294117647056, 0.3850267379679144, 0.3850267379679144, 0.40106951871657753, 0.40106951871657753, 0.40641711229946526, 0.40641711229946526, 0.4144385026737968, 0.4144385026737968, 0.42245989304812837, 0.42245989304812837, 0.42513368983957217, 0.42513368983957217, 0.4385026737967914, 0.4385026737967914, 0.44385026737967914, 0.44385026737967914, 0.45454545454545453, 0.45454545454545453, 0.45989304812834225, 0.45989304812834225, 0.4625668449197861, 0.4625668449197861, 0.4679144385026738, 0.4679144385026738, 0.4732620320855615, 0.4732620320855615, 0.48128342245989303, 0.48128342245989303, 0.48663101604278075, 0.48663101604278075, 0.4919786096256685, 0.4919786096256685, 0.4946524064171123, 0.4946524064171123, 0.49732620320855614, 0.49732620320855614, 0.5026737967914439, 0.5026737967914439, 0.5106951871657754, 0.5106951871657754, 0.516042780748663, 0.516042780748663, 0.5187165775401069, 0.5187165775401069, 0.5213903743315508, 0.5213903743315508, 0.5267379679144385, 0.5267379679144385, 0.5294117647058824, 0.5294117647058824, 0.5320855614973262, 0.5320855614973262, 0.5374331550802139, 0.5374331550802139, 0.5427807486631016, 0.5427807486631016, 0.553475935828877, 0.553475935828877, 0.5561497326203209, 0.5561497326203209, 0.5641711229946524, 0.5641711229946524, 0.5668449197860963, 0.5668449197860963, 0.56951871657754, 0.56951871657754, 0.5721925133689839, 0.5721925133689839, 0.5748663101604278, 0.5748663101604278, 0.5802139037433155, 0.5802139037433155, 0.5828877005347594, 0.5828877005347594, 0.5935828877005348, 0.5935828877005348, 0.6042780748663101, 0.6042780748663101, 0.606951871657754, 0.606951871657754, 0.6096256684491979, 0.6096256684491979, 0.6122994652406417, 0.6122994652406417, 0.6149732620320856, 0.6149732620320856, 0.6176470588235294, 0.6176470588235294, 0.6203208556149733, 0.6203208556149733, 0.6256684491978609, 0.6256684491978609, 0.6283422459893048, 0.6283422459893048, 0.6310160427807486, 0.6310160427807486, 0.6390374331550802, 0.6390374331550802, 0.6417112299465241, 0.6417112299465241, 0.6443850267379679, 0.6443850267379679, 0.6497326203208557, 0.6497326203208557, 0.6524064171122995, 0.6524064171122995, 0.6550802139037433, 0.6550802139037433, 0.6577540106951871, 0.6577540106951871, 0.660427807486631, 0.660427807486631, 0.6657754010695187, 0.6657754010695187, 0.6684491978609626, 0.6684491978609626, 0.6711229946524064, 0.6711229946524064, 0.6764705882352942, 0.6764705882352942, 0.6818181818181818, 0.6818181818181818, 0.6871657754010695, 0.6871657754010695, 0.6951871657754011, 0.6951871657754011, 0.6978609625668449, 0.6978609625668449, 0.7005347593582888, 0.7005347593582888, 0.7112299465240641, 0.7112299465240641, 0.713903743315508, 0.713903743315508, 0.7245989304812834, 0.7245989304812834, 0.7272727272727273, 0.7272727272727273, 0.732620320855615, 0.732620320855615, 0.7379679144385026, 0.7379679144385026, 0.7406417112299465, 0.7406417112299465, 0.7433155080213903, 0.7433155080213903, 0.7459893048128342, 0.7459893048128342, 0.7486631016042781, 0.7486631016042781, 0.7513368983957219, 0.7540106951871658, 0.7540106951871658, 0.7593582887700535, 0.7593582887700535, 0.7620320855614974, 0.7620320855614974, 0.7700534759358288, 0.7700534759358288, 0.7834224598930482, 0.7834224598930482, 0.786096256684492, 0.786096256684492, 0.7941176470588235, 0.7941176470588235, 0.7967914438502673, 0.7967914438502673, 0.7994652406417112, 0.7994652406417112, 0.8021390374331551, 0.8021390374331551, 0.8048128342245989, 0.8048128342245989, 0.8074866310160428, 0.8074866310160428, 0.8101604278074866, 0.8101604278074866, 0.8128342245989305, 0.8128342245989305, 0.8181818181818182, 0.8181818181818182, 0.820855614973262, 0.820855614973262, 0.8235294117647058, 0.8235294117647058, 0.8262032085561497, 0.8262032085561497, 0.8288770053475936, 0.8288770053475936, 0.8315508021390374, 0.8315508021390374, 0.839572192513369, 0.839572192513369, 0.8422459893048129, 0.8422459893048129, 0.8449197860962567, 0.8449197860962567, 0.8475935828877005, 0.8475935828877005, 0.8502673796791443, 0.8502673796791443, 0.8529411764705882, 0.8529411764705882, 0.8582887700534759, 0.8582887700534759, 0.8609625668449198, 0.8609625668449198, 0.8636363636363636, 0.8636363636363636, 0.8663101604278075, 0.8663101604278075, 0.8689839572192514, 0.8689839572192514, 0.8716577540106952, 0.8716577540106952, 0.8850267379679144, 0.8850267379679144, 0.8877005347593583, 0.8877005347593583, 0.8903743315508021, 0.8903743315508021, 0.893048128342246, 0.893048128342246, 0.8957219251336899, 0.8957219251336899, 0.8983957219251337, 0.8983957219251337, 0.9037433155080213, 0.9037433155080213, 0.9090909090909091, 0.9090909090909091, 0.9117647058823529, 0.9117647058823529, 0.9171122994652406, 0.9171122994652406, 0.9197860962566845, 0.9197860962566845, 0.9224598930481284, 0.9224598930481284, 0.9251336898395722, 0.9251336898395722, 0.9278074866310161, 0.9278074866310161, 0.93048128342246, 0.93048128342246, 0.9331550802139037, 0.9331550802139037, 0.9358288770053476, 0.9358288770053476, 0.9411764705882353, 0.9411764705882353, 0.9438502673796791, 0.9438502673796791, 0.946524064171123, 0.946524064171123, 0.9491978609625669, 0.9491978609625669, 0.9518716577540107, 0.9518716577540107, 0.9545454545454546, 0.9545454545454546, 0.9572192513368984, 0.9572192513368984, 0.9598930481283422, 0.9598930481283422, 0.9652406417112299, 0.9652406417112299, 0.9679144385026738, 0.9679144385026738, 0.9705882352941176, 0.9705882352941176, 0.9732620320855615, 0.9732620320855615, 0.9759358288770054, 0.9759358288770054, 0.9786096256684492, 0.9786096256684492, 0.9812834224598931, 0.9812834224598931, 0.983957219251337, 0.983957219251337, 0.9866310160427807, 0.9866310160427807, 0.9893048128342246, 0.9893048128342246, 0.9919786096256684, 0.9919786096256684, 0.9919786096256684, 0.9919786096256684, 0.9946524064171123, 0.9946524064171123, 0.9973262032085561, 0.9973262032085561, 1.0, 1.0, 1.0, 1.0]}, {\"mode\": \"lines\", \"name\": \"XGB\", \"type\": \"scatter\", \"x\": [0.0, 0.0, 0.0, 0.0, 0.001936108422071636, 0.001936108422071636, 0.001936108422071636, 0.003872216844143272, 0.003872216844143272, 0.00484027105517909, 0.00484027105517909, 0.005808325266214908, 0.005808325266214908, 0.006776379477250726, 0.006776379477250726, 0.007744433688286544, 0.007744433688286544, 0.008712487899322363, 0.008712487899322363, 0.00968054211035818, 0.00968054211035818, 0.011616650532429816, 0.011616650532429816, 0.012584704743465635, 0.012584704743465635, 0.013552758954501452, 0.013552758954501452, 0.01452081316553727, 0.01452081316553727, 0.015488867376573089, 0.015488867376573089, 0.018393030009680542, 0.018393030009680542, 0.02032913843175218, 0.02032913843175218, 0.021297192642787996, 0.021297192642787996, 0.022265246853823813, 0.022265246853823813, 0.023233301064859633, 0.023233301064859633, 0.02420135527589545, 0.02420135527589545, 0.02516940948693127, 0.02516940948693127, 0.026137463697967087, 0.026137463697967087, 0.030009680542110357, 0.030009680542110357, 0.030977734753146177, 0.030977734753146177, 0.03388189738625363, 0.03388189738625363, 0.03581800580832527, 0.03581800580832527, 0.03872216844143272, 0.03872216844143272, 0.041626331074540175, 0.041626331074540175, 0.04259438528557599, 0.04259438528557599, 0.04743465634075508, 0.04743465634075508, 0.0484027105517909, 0.0484027105517909, 0.05033881897386254, 0.05033881897386254, 0.05227492739593417, 0.05227492739593417, 0.05421103581800581, 0.05421103581800581, 0.05517909002904162, 0.05517909002904162, 0.05614714424007745, 0.05614714424007745, 0.057115198451113264, 0.057115198451113264, 0.05808325266214908, 0.05808325266214908, 0.0590513068731849, 0.0590513068731849, 0.060019361084220714, 0.060019361084220714, 0.06098741529525654, 0.06098741529525654, 0.06292352371732816, 0.06389157792836399, 0.06389157792836399, 0.06485963213939981, 0.06485963213939981, 0.06582768635043562, 0.06582768635043562, 0.06679574056147145, 0.06679574056147145, 0.07066795740561471, 0.07066795740561471, 0.07357212003872217, 0.07357212003872217, 0.07454017424975799, 0.07454017424975799, 0.07744433688286544, 0.07744433688286544, 0.0803484995159729, 0.0803484995159729, 0.08228460793804453, 0.08228460793804453, 0.08422071636011616, 0.08422071636011616, 0.08518877057115198, 0.08518877057115198, 0.08615682478218781, 0.08615682478218781, 0.08712487899322362, 0.08712487899322362, 0.0909970958373669, 0.0909970958373669, 0.09390125847047434, 0.09390125847047434, 0.09486931268151017, 0.09486931268151017, 0.09777347531461762, 0.09777347531461762, 0.09970958373668926, 0.09970958373668926, 0.10164569215876089, 0.10164569215876089, 0.10261374636979671, 0.10261374636979671, 0.10842207163601161, 0.10842207163601161, 0.1132623426911907, 0.1132623426911907, 0.11519845111326234, 0.11519845111326234, 0.11616650532429816, 0.11616650532429816, 0.12294288480154889, 0.12294288480154889, 0.12487899322362052, 0.12487899322362052, 0.13068731848983542, 0.13068731848983542, 0.1345595353339787, 0.1345595353339787, 0.13843175217812198, 0.13843175217812198, 0.1393998063891578, 0.1393998063891578, 0.14133591481122942, 0.14133591481122942, 0.14617618586640851, 0.14617618586640851, 0.14811229428848016, 0.14811229428848016, 0.14908034849951599, 0.14908034849951599, 0.15004840271055178, 0.15004840271055178, 0.1558567279767667, 0.1558567279767667, 0.15876089060987417, 0.15876089060987417, 0.15972894482090996, 0.15972894482090996, 0.16263310745401743, 0.16263310745401743, 0.16456921587608905, 0.16456921587608905, 0.16940948693126814, 0.16940948693126814, 0.1713455953533398, 0.1713455953533398, 0.17231364956437561, 0.17231364956437561, 0.17618586640851888, 0.17618586640851888, 0.17909002904162633, 0.17909002904162633, 0.18005808325266215, 0.18005808325266215, 0.1819941916747338, 0.1819941916747338, 0.18586640851887706, 0.18586640851887706, 0.1868344627299129, 0.1868344627299129, 0.18780251694094868, 0.18780251694094868, 0.19070667957405615, 0.19070667957405615, 0.19264278799612777, 0.19264278799612777, 0.1936108422071636, 0.1936108422071636, 0.19651500484027107, 0.19651500484027107, 0.19748305905130686, 0.19748305905130686, 0.20038722168441434, 0.20038722168441434, 0.20232333010648595, 0.20232333010648595, 0.2042594385285576, 0.2042594385285576, 0.20522749273959343, 0.20522749273959343, 0.20619554695062922, 0.20619554695062922, 0.2090997095837367, 0.2090997095837367, 0.2197483059051307, 0.2197483059051307, 0.22168441432720232, 0.22168441432720232, 0.2245885769603098, 0.2245885769603098, 0.2265246853823814, 0.2265246853823814, 0.22846079380445306, 0.22846079380445306, 0.2313649564375605, 0.2313649564375605, 0.23426911907066797, 0.23426911907066797, 0.23523717328170377, 0.23523717328170377, 0.2362052274927396, 0.2362052274927396, 0.2371732817037754, 0.2371732817037754, 0.24007744433688286, 0.24007744433688286, 0.24298160696999033, 0.24298160696999033, 0.24394966118102615, 0.24394966118102615, 0.24491771539206195, 0.24491771539206195, 0.24782187802516942, 0.24782187802516942, 0.25072604065827686, 0.25072604065827686, 0.25169409486931266, 0.25169409486931266, 0.25459825750242016, 0.25459825750242016, 0.26040658276863504, 0.26040658276863504, 0.2633107454017425, 0.2633107454017425, 0.26621490803484993, 0.26621490803484993, 0.2671829622458858, 0.2671829622458858, 0.2691190706679574, 0.2691190706679574, 0.2700871248789932, 0.2700871248789932, 0.27686350435624396, 0.27686350435624396, 0.2836398838334947, 0.2836398838334947, 0.28654404646660214, 0.28654404646660214, 0.2933204259438529, 0.2933204259438529, 0.2942884801548887, 0.2942884801548887, 0.2952565343659245, 0.2952565343659245, 0.2971926427879961, 0.2971926427879961, 0.30009680542110356, 0.30009680542110356, 0.3010648596321394, 0.3010648596321394, 0.3020329138431752, 0.3020329138431752, 0.30493707647628265, 0.30493707647628265, 0.3107454017424976, 0.3107454017424976, 0.32623426911907066, 0.32623426911907066, 0.33010648596321396, 0.33010648596321396, 0.33204259438528555, 0.33204259438528555, 0.3330106485963214, 0.3330106485963214, 0.33688286544046464, 0.33688286544046464, 0.345595353339787, 0.345595353339787, 0.3494675701839303, 0.3494675701839303, 0.35237173281703776, 0.35237173281703776, 0.35818005808325265, 0.35818005808325265, 0.36205227492739595, 0.36205227492739595, 0.36302032913843174, 0.36302032913843174, 0.3649564375605034, 0.3649564375605034, 0.3688286544046467, 0.3688286544046467, 0.3697967086156825, 0.3697967086156825, 0.37560503388189737, 0.37560503388189737, 0.37947725072604066, 0.37947725072604066, 0.38334946757018395, 0.38334946757018395, 0.3872216844143272, 0.3872216844143272, 0.38818973862536305, 0.38818973862536305, 0.3920619554695063, 0.3920619554695063, 0.3978702807357212, 0.3978702807357212, 0.398838334946757, 0.398838334946757, 0.40077444336882867, 0.40077444336882867, 0.4036786060019361, 0.4036786060019361, 0.4046466602129719, 0.4046466602129719, 0.41529525653436594, 0.41529525653436594, 0.4259438528557599, 0.4259438528557599, 0.4298160696999032, 0.4298160696999032, 0.4453049370764763, 0.4453049370764763, 0.4462729912875121, 0.4462729912875121, 0.45111326234269117, 0.45111326234269117, 0.46853823814133594, 0.46853823814133594, 0.4830590513068732, 0.4830590513068732, 0.48596321393998065, 0.48596321393998065, 0.4888673765730881, 0.4888673765730881, 0.494675701839303, 0.494675701839303, 0.505324298160697, 0.505324298160697, 0.5062923523717329, 0.5062923523717329, 0.5111326234269119, 0.5111326234269119, 0.515972894482091, 0.515972894482091, 0.526621490803485, 0.526621490803485, 0.5314617618586641, 0.5314617618586641, 0.5333978702807357, 0.5333978702807357, 0.5440464666021297, 0.5440464666021297, 0.547918683446273, 0.547918683446273, 0.5537270087124879, 0.5537270087124879, 0.5566311713455954, 0.5566311713455954, 0.5605033881897387, 0.5605033881897387, 0.5634075508228461, 0.5634075508228461, 0.590513068731849, 0.590513068731849, 0.5972894482090997, 0.5972894482090997, 0.6021297192642788, 0.6021297192642788, 0.6069699903194579, 0.6069699903194579, 0.6176185866408519, 0.6176185866408519, 0.6195546950629235, 0.6195546950629235, 0.6282671829622459, 0.6282671829622459, 0.6311713455953534, 0.6311713455953534, 0.6563407550822846, 0.6563407550822846, 0.6708615682478218, 0.6708615682478218, 0.7512100677637947, 0.7512100677637947, 0.8199419167473379, 0.8199419167473379, 0.8635043562439496, 0.8635043562439496, 0.8877057115198451, 0.8896418199419167, 1.0], \"y\": [0.0, 0.00267379679144385, 0.008021390374331552, 0.013368983957219251, 0.013368983957219251, 0.01871657754010695, 0.0213903743315508, 0.0213903743315508, 0.026737967914438502, 0.026737967914438502, 0.07219251336898395, 0.07219251336898395, 0.09358288770053476, 0.09358288770053476, 0.09893048128342247, 0.09893048128342247, 0.10160427807486631, 0.10160427807486631, 0.12032085561497326, 0.12032085561497326, 0.12566844919786097, 0.12566844919786097, 0.13903743315508021, 0.14171122994652408, 0.1443850267379679, 0.1443850267379679, 0.15508021390374332, 0.15508021390374332, 0.15775401069518716, 0.15775401069518716, 0.17914438502673796, 0.17914438502673796, 0.18716577540106952, 0.18716577540106952, 0.1925133689839572, 0.1925133689839572, 0.19518716577540107, 0.19518716577540107, 0.19786096256684493, 0.19786096256684493, 0.20053475935828877, 0.20053475935828877, 0.2192513368983957, 0.2192513368983957, 0.22459893048128343, 0.22459893048128343, 0.232620320855615, 0.232620320855615, 0.23796791443850268, 0.23796791443850268, 0.24064171122994651, 0.24064171122994651, 0.24866310160427807, 0.24866310160427807, 0.25935828877005346, 0.25935828877005346, 0.27540106951871657, 0.27540106951871657, 0.2914438502673797, 0.2914438502673797, 0.2994652406417112, 0.2994652406417112, 0.30213903743315507, 0.30213903743315507, 0.3074866310160428, 0.3074866310160428, 0.3155080213903743, 0.3155080213903743, 0.3181818181818182, 0.3181818181818182, 0.339572192513369, 0.339572192513369, 0.3449197860962567, 0.3449197860962567, 0.34759358288770054, 0.34759358288770054, 0.3502673796791444, 0.3502673796791444, 0.3609625668449198, 0.3609625668449198, 0.3663101604278075, 0.3663101604278075, 0.37433155080213903, 0.37433155080213903, 0.3770053475935829, 0.3770053475935829, 0.3770053475935829, 0.37967914438502676, 0.37967914438502676, 0.3850267379679144, 0.3850267379679144, 0.393048128342246, 0.393048128342246, 0.4037433155080214, 0.4037433155080214, 0.4090909090909091, 0.4090909090909091, 0.41711229946524064, 0.41711229946524064, 0.4197860962566845, 0.4197860962566845, 0.42245989304812837, 0.42245989304812837, 0.42513368983957217, 0.42513368983957217, 0.42780748663101603, 0.42780748663101603, 0.4385026737967914, 0.4385026737967914, 0.4411764705882353, 0.4411764705882353, 0.446524064171123, 0.446524064171123, 0.45187165775401067, 0.45187165775401067, 0.45454545454545453, 0.45454545454545453, 0.4572192513368984, 0.4572192513368984, 0.4625668449197861, 0.4625668449197861, 0.4679144385026738, 0.4679144385026738, 0.4732620320855615, 0.4732620320855615, 0.47593582887700536, 0.47593582887700536, 0.4786096256684492, 0.4786096256684492, 0.4839572192513369, 0.4839572192513369, 0.4893048128342246, 0.4893048128342246, 0.4946524064171123, 0.4946524064171123, 0.49732620320855614, 0.49732620320855614, 0.5026737967914439, 0.5026737967914439, 0.5080213903743316, 0.5080213903743316, 0.5106951871657754, 0.5106951871657754, 0.5187165775401069, 0.5187165775401069, 0.5213903743315508, 0.5213903743315508, 0.5294117647058824, 0.5294117647058824, 0.5320855614973262, 0.5320855614973262, 0.5401069518716578, 0.5401069518716578, 0.5427807486631016, 0.5427807486631016, 0.5454545454545454, 0.5454545454545454, 0.5481283422459893, 0.5481283422459893, 0.5508021390374331, 0.5508021390374331, 0.553475935828877, 0.553475935828877, 0.5614973262032086, 0.5614973262032086, 0.56951871657754, 0.56951871657754, 0.5721925133689839, 0.5721925133689839, 0.5748663101604278, 0.5748663101604278, 0.5802139037433155, 0.5802139037433155, 0.5828877005347594, 0.5828877005347594, 0.5855614973262032, 0.5855614973262032, 0.5882352941176471, 0.5882352941176471, 0.5909090909090909, 0.5909090909090909, 0.5962566844919787, 0.5962566844919787, 0.5989304812834224, 0.5989304812834224, 0.6042780748663101, 0.6042780748663101, 0.606951871657754, 0.606951871657754, 0.6096256684491979, 0.6096256684491979, 0.6122994652406417, 0.6122994652406417, 0.6149732620320856, 0.6149732620320856, 0.6176470588235294, 0.6176470588235294, 0.6203208556149733, 0.6203208556149733, 0.6283422459893048, 0.6283422459893048, 0.6310160427807486, 0.6310160427807486, 0.6363636363636364, 0.6363636363636364, 0.6390374331550802, 0.6390374331550802, 0.6470588235294118, 0.6470588235294118, 0.6497326203208557, 0.6497326203208557, 0.6631016042780749, 0.6631016042780749, 0.6657754010695187, 0.6657754010695187, 0.6711229946524064, 0.6711229946524064, 0.6737967914438503, 0.6737967914438503, 0.6764705882352942, 0.6764705882352942, 0.679144385026738, 0.679144385026738, 0.6844919786096256, 0.6844919786096256, 0.6871657754010695, 0.6871657754010695, 0.6951871657754011, 0.6951871657754011, 0.6978609625668449, 0.6978609625668449, 0.7058823529411765, 0.7058823529411765, 0.7085561497326203, 0.7085561497326203, 0.7112299465240641, 0.7112299465240641, 0.713903743315508, 0.713903743315508, 0.7192513368983957, 0.7192513368983957, 0.7219251336898396, 0.7219251336898396, 0.7245989304812834, 0.7245989304812834, 0.732620320855615, 0.732620320855615, 0.7379679144385026, 0.7379679144385026, 0.7406417112299465, 0.7406417112299465, 0.7433155080213903, 0.7433155080213903, 0.7486631016042781, 0.7486631016042781, 0.7513368983957219, 0.7513368983957219, 0.7540106951871658, 0.7540106951871658, 0.7566844919786097, 0.7566844919786097, 0.7593582887700535, 0.7593582887700535, 0.7620320855614974, 0.7620320855614974, 0.7647058823529411, 0.7647058823529411, 0.767379679144385, 0.767379679144385, 0.7700534759358288, 0.7700534759358288, 0.7727272727272727, 0.7727272727272727, 0.7754010695187166, 0.7754010695187166, 0.7780748663101604, 0.7780748663101604, 0.7834224598930482, 0.7834224598930482, 0.7914438502673797, 0.7914438502673797, 0.7941176470588235, 0.7941176470588235, 0.7994652406417112, 0.7994652406417112, 0.8021390374331551, 0.8021390374331551, 0.8048128342245989, 0.8048128342245989, 0.8074866310160428, 0.8074866310160428, 0.8101604278074866, 0.8101604278074866, 0.8155080213903744, 0.8155080213903744, 0.8181818181818182, 0.8181818181818182, 0.820855614973262, 0.820855614973262, 0.8235294117647058, 0.8235294117647058, 0.8262032085561497, 0.8262032085561497, 0.8288770053475936, 0.8288770053475936, 0.8315508021390374, 0.8315508021390374, 0.8342245989304813, 0.8342245989304813, 0.8368983957219251, 0.8368983957219251, 0.839572192513369, 0.839572192513369, 0.8422459893048129, 0.8422459893048129, 0.8449197860962567, 0.8449197860962567, 0.8475935828877005, 0.8475935828877005, 0.8502673796791443, 0.8502673796791443, 0.8582887700534759, 0.8582887700534759, 0.8609625668449198, 0.8609625668449198, 0.8636363636363636, 0.8636363636363636, 0.8663101604278075, 0.8663101604278075, 0.8743315508021391, 0.8743315508021391, 0.8850267379679144, 0.8850267379679144, 0.8877005347593583, 0.8877005347593583, 0.893048128342246, 0.893048128342246, 0.8983957219251337, 0.8983957219251337, 0.9010695187165776, 0.9010695187165776, 0.9037433155080213, 0.9037433155080213, 0.9064171122994652, 0.9064171122994652, 0.9090909090909091, 0.9090909090909091, 0.9144385026737968, 0.9144385026737968, 0.9171122994652406, 0.9171122994652406, 0.9224598930481284, 0.9224598930481284, 0.9251336898395722, 0.9251336898395722, 0.93048128342246, 0.93048128342246, 0.9331550802139037, 0.9331550802139037, 0.9358288770053476, 0.9358288770053476, 0.9411764705882353, 0.9411764705882353, 0.9438502673796791, 0.9438502673796791, 0.946524064171123, 0.946524064171123, 0.9491978609625669, 0.9491978609625669, 0.9518716577540107, 0.9518716577540107, 0.9545454545454546, 0.9545454545454546, 0.9572192513368984, 0.9572192513368984, 0.9598930481283422, 0.9598930481283422, 0.9625668449197861, 0.9625668449197861, 0.9652406417112299, 0.9652406417112299, 0.9679144385026738, 0.9679144385026738, 0.9705882352941176, 0.9705882352941176, 0.9732620320855615, 0.9732620320855615, 0.9759358288770054, 0.9759358288770054, 0.9786096256684492, 0.9786096256684492, 0.9812834224598931, 0.9812834224598931, 0.983957219251337, 0.983957219251337, 0.9866310160427807, 0.9866310160427807, 0.9893048128342246, 0.9893048128342246, 0.9919786096256684, 0.9919786096256684, 0.9946524064171123, 0.9946524064171123, 0.9973262032085561, 0.9973262032085561, 1.0, 1.0, 1.0, 1.0]}],\n",
              "                        {\"height\": 500, \"template\": {\"data\": {\"bar\": [{\"error_x\": {\"color\": \"#2a3f5f\"}, \"error_y\": {\"color\": \"#2a3f5f\"}, \"marker\": {\"line\": {\"color\": \"#E5ECF6\", \"width\": 0.5}}, \"type\": \"bar\"}], \"barpolar\": [{\"marker\": {\"line\": {\"color\": \"#E5ECF6\", \"width\": 0.5}}, \"type\": \"barpolar\"}], \"carpet\": [{\"aaxis\": {\"endlinecolor\": \"#2a3f5f\", \"gridcolor\": \"white\", \"linecolor\": \"white\", \"minorgridcolor\": \"white\", \"startlinecolor\": \"#2a3f5f\"}, \"baxis\": {\"endlinecolor\": \"#2a3f5f\", \"gridcolor\": \"white\", \"linecolor\": \"white\", \"minorgridcolor\": \"white\", \"startlinecolor\": \"#2a3f5f\"}, \"type\": \"carpet\"}], \"choropleth\": [{\"colorbar\": {\"outlinewidth\": 0, \"ticks\": \"\"}, \"type\": \"choropleth\"}], \"contour\": [{\"colorbar\": {\"outlinewidth\": 0, \"ticks\": \"\"}, \"colorscale\": [[0.0, \"#0d0887\"], [0.1111111111111111, \"#46039f\"], [0.2222222222222222, \"#7201a8\"], [0.3333333333333333, \"#9c179e\"], [0.4444444444444444, \"#bd3786\"], [0.5555555555555556, \"#d8576b\"], [0.6666666666666666, \"#ed7953\"], [0.7777777777777778, \"#fb9f3a\"], [0.8888888888888888, \"#fdca26\"], [1.0, \"#f0f921\"]], \"type\": \"contour\"}], \"contourcarpet\": [{\"colorbar\": {\"outlinewidth\": 0, \"ticks\": \"\"}, \"type\": \"contourcarpet\"}], \"heatmap\": [{\"colorbar\": {\"outlinewidth\": 0, \"ticks\": \"\"}, \"colorscale\": [[0.0, \"#0d0887\"], [0.1111111111111111, \"#46039f\"], [0.2222222222222222, \"#7201a8\"], [0.3333333333333333, \"#9c179e\"], [0.4444444444444444, \"#bd3786\"], [0.5555555555555556, \"#d8576b\"], [0.6666666666666666, \"#ed7953\"], [0.7777777777777778, \"#fb9f3a\"], [0.8888888888888888, \"#fdca26\"], [1.0, \"#f0f921\"]], \"type\": \"heatmap\"}], \"heatmapgl\": [{\"colorbar\": {\"outlinewidth\": 0, \"ticks\": \"\"}, \"colorscale\": [[0.0, \"#0d0887\"], [0.1111111111111111, \"#46039f\"], [0.2222222222222222, \"#7201a8\"], [0.3333333333333333, \"#9c179e\"], [0.4444444444444444, \"#bd3786\"], [0.5555555555555556, \"#d8576b\"], [0.6666666666666666, \"#ed7953\"], [0.7777777777777778, \"#fb9f3a\"], [0.8888888888888888, \"#fdca26\"], [1.0, \"#f0f921\"]], \"type\": \"heatmapgl\"}], \"histogram\": [{\"marker\": {\"colorbar\": {\"outlinewidth\": 0, \"ticks\": \"\"}}, \"type\": \"histogram\"}], \"histogram2d\": [{\"colorbar\": {\"outlinewidth\": 0, \"ticks\": \"\"}, \"colorscale\": [[0.0, \"#0d0887\"], [0.1111111111111111, \"#46039f\"], [0.2222222222222222, \"#7201a8\"], [0.3333333333333333, \"#9c179e\"], [0.4444444444444444, \"#bd3786\"], [0.5555555555555556, \"#d8576b\"], [0.6666666666666666, \"#ed7953\"], [0.7777777777777778, \"#fb9f3a\"], [0.8888888888888888, \"#fdca26\"], [1.0, \"#f0f921\"]], \"type\": \"histogram2d\"}], \"histogram2dcontour\": [{\"colorbar\": {\"outlinewidth\": 0, \"ticks\": \"\"}, \"colorscale\": [[0.0, \"#0d0887\"], [0.1111111111111111, \"#46039f\"], [0.2222222222222222, \"#7201a8\"], [0.3333333333333333, \"#9c179e\"], [0.4444444444444444, \"#bd3786\"], [0.5555555555555556, \"#d8576b\"], [0.6666666666666666, \"#ed7953\"], [0.7777777777777778, \"#fb9f3a\"], [0.8888888888888888, \"#fdca26\"], [1.0, \"#f0f921\"]], \"type\": \"histogram2dcontour\"}], \"mesh3d\": [{\"colorbar\": {\"outlinewidth\": 0, \"ticks\": \"\"}, \"type\": \"mesh3d\"}], \"parcoords\": [{\"line\": {\"colorbar\": {\"outlinewidth\": 0, \"ticks\": \"\"}}, \"type\": \"parcoords\"}], \"pie\": [{\"automargin\": true, \"type\": \"pie\"}], \"scatter\": [{\"marker\": {\"colorbar\": {\"outlinewidth\": 0, \"ticks\": \"\"}}, \"type\": \"scatter\"}], \"scatter3d\": [{\"line\": {\"colorbar\": {\"outlinewidth\": 0, \"ticks\": \"\"}}, \"marker\": {\"colorbar\": {\"outlinewidth\": 0, \"ticks\": \"\"}}, \"type\": \"scatter3d\"}], \"scattercarpet\": [{\"marker\": {\"colorbar\": {\"outlinewidth\": 0, \"ticks\": \"\"}}, \"type\": \"scattercarpet\"}], \"scattergeo\": [{\"marker\": {\"colorbar\": {\"outlinewidth\": 0, \"ticks\": \"\"}}, \"type\": \"scattergeo\"}], \"scattergl\": [{\"marker\": {\"colorbar\": {\"outlinewidth\": 0, \"ticks\": \"\"}}, \"type\": \"scattergl\"}], \"scattermapbox\": [{\"marker\": {\"colorbar\": {\"outlinewidth\": 0, \"ticks\": \"\"}}, \"type\": \"scattermapbox\"}], \"scatterpolar\": [{\"marker\": {\"colorbar\": {\"outlinewidth\": 0, \"ticks\": \"\"}}, \"type\": \"scatterpolar\"}], \"scatterpolargl\": [{\"marker\": {\"colorbar\": {\"outlinewidth\": 0, \"ticks\": \"\"}}, \"type\": \"scatterpolargl\"}], \"scatterternary\": [{\"marker\": {\"colorbar\": {\"outlinewidth\": 0, \"ticks\": \"\"}}, \"type\": \"scatterternary\"}], \"surface\": [{\"colorbar\": {\"outlinewidth\": 0, \"ticks\": \"\"}, \"colorscale\": [[0.0, \"#0d0887\"], [0.1111111111111111, \"#46039f\"], [0.2222222222222222, \"#7201a8\"], [0.3333333333333333, \"#9c179e\"], [0.4444444444444444, \"#bd3786\"], [0.5555555555555556, \"#d8576b\"], [0.6666666666666666, \"#ed7953\"], [0.7777777777777778, \"#fb9f3a\"], [0.8888888888888888, \"#fdca26\"], [1.0, \"#f0f921\"]], \"type\": \"surface\"}], \"table\": [{\"cells\": {\"fill\": {\"color\": \"#EBF0F8\"}, \"line\": {\"color\": \"white\"}}, \"header\": {\"fill\": {\"color\": \"#C8D4E3\"}, \"line\": {\"color\": \"white\"}}, \"type\": \"table\"}]}, \"layout\": {\"annotationdefaults\": {\"arrowcolor\": \"#2a3f5f\", \"arrowhead\": 0, \"arrowwidth\": 1}, \"coloraxis\": {\"colorbar\": {\"outlinewidth\": 0, \"ticks\": \"\"}}, \"colorscale\": {\"diverging\": [[0, \"#8e0152\"], [0.1, \"#c51b7d\"], [0.2, \"#de77ae\"], [0.3, \"#f1b6da\"], [0.4, \"#fde0ef\"], [0.5, \"#f7f7f7\"], [0.6, \"#e6f5d0\"], [0.7, \"#b8e186\"], [0.8, \"#7fbc41\"], [0.9, \"#4d9221\"], [1, \"#276419\"]], \"sequential\": [[0.0, \"#0d0887\"], [0.1111111111111111, \"#46039f\"], [0.2222222222222222, \"#7201a8\"], [0.3333333333333333, \"#9c179e\"], [0.4444444444444444, \"#bd3786\"], [0.5555555555555556, \"#d8576b\"], [0.6666666666666666, \"#ed7953\"], [0.7777777777777778, \"#fb9f3a\"], [0.8888888888888888, \"#fdca26\"], [1.0, \"#f0f921\"]], \"sequentialminus\": [[0.0, \"#0d0887\"], [0.1111111111111111, \"#46039f\"], [0.2222222222222222, \"#7201a8\"], [0.3333333333333333, \"#9c179e\"], [0.4444444444444444, \"#bd3786\"], [0.5555555555555556, \"#d8576b\"], [0.6666666666666666, \"#ed7953\"], [0.7777777777777778, \"#fb9f3a\"], [0.8888888888888888, \"#fdca26\"], [1.0, \"#f0f921\"]]}, \"colorway\": [\"#636efa\", \"#EF553B\", \"#00cc96\", \"#ab63fa\", \"#FFA15A\", \"#19d3f3\", \"#FF6692\", \"#B6E880\", \"#FF97FF\", \"#FECB52\"], \"font\": {\"color\": \"#2a3f5f\"}, \"geo\": {\"bgcolor\": \"white\", \"lakecolor\": \"white\", \"landcolor\": \"#E5ECF6\", \"showlakes\": true, \"showland\": true, \"subunitcolor\": \"white\"}, \"hoverlabel\": {\"align\": \"left\"}, \"hovermode\": \"closest\", \"mapbox\": {\"style\": \"light\"}, \"paper_bgcolor\": \"white\", \"plot_bgcolor\": \"#E5ECF6\", \"polar\": {\"angularaxis\": {\"gridcolor\": \"white\", \"linecolor\": \"white\", \"ticks\": \"\"}, \"bgcolor\": \"#E5ECF6\", \"radialaxis\": {\"gridcolor\": \"white\", \"linecolor\": \"white\", \"ticks\": \"\"}}, \"scene\": {\"xaxis\": {\"backgroundcolor\": \"#E5ECF6\", \"gridcolor\": \"white\", \"gridwidth\": 2, \"linecolor\": \"white\", \"showbackground\": true, \"ticks\": \"\", \"zerolinecolor\": \"white\"}, \"yaxis\": {\"backgroundcolor\": \"#E5ECF6\", \"gridcolor\": \"white\", \"gridwidth\": 2, \"linecolor\": \"white\", \"showbackground\": true, \"ticks\": \"\", \"zerolinecolor\": \"white\"}, \"zaxis\": {\"backgroundcolor\": \"#E5ECF6\", \"gridcolor\": \"white\", \"gridwidth\": 2, \"linecolor\": \"white\", \"showbackground\": true, \"ticks\": \"\", \"zerolinecolor\": \"white\"}}, \"shapedefaults\": {\"line\": {\"color\": \"#2a3f5f\"}}, \"ternary\": {\"aaxis\": {\"gridcolor\": \"white\", \"linecolor\": \"white\", \"ticks\": \"\"}, \"baxis\": {\"gridcolor\": \"white\", \"linecolor\": \"white\", \"ticks\": \"\"}, \"bgcolor\": \"#E5ECF6\", \"caxis\": {\"gridcolor\": \"white\", \"linecolor\": \"white\", \"ticks\": \"\"}}, \"title\": {\"x\": 0.05}, \"xaxis\": {\"automargin\": true, \"gridcolor\": \"white\", \"linecolor\": \"white\", \"ticks\": \"\", \"title\": {\"standoff\": 15}, \"zerolinecolor\": \"white\", \"zerolinewidth\": 2}, \"yaxis\": {\"automargin\": true, \"gridcolor\": \"white\", \"linecolor\": \"white\", \"ticks\": \"\", \"title\": {\"standoff\": 15}, \"zerolinecolor\": \"white\", \"zerolinewidth\": 2}}}, \"title\": {\"text\": \"ROC\", \"x\": 0.5}, \"width\": 750, \"xaxis\": {\"title\": {\"text\": \"False Positive Rate (Sensitivity)\"}}, \"yaxis\": {\"title\": {\"text\": \"True Positive Rate (1 - Specificity)\"}}},\n",
              "                        {\"responsive\": true}\n",
              "                    ).then(function(){\n",
              "                            \n",
              "var gd = document.getElementById('4f371dde-166c-447a-b921-7414afd03ebf');\n",
              "var x = new MutationObserver(function (mutations, observer) {{\n",
              "        var display = window.getComputedStyle(gd).display;\n",
              "        if (!display || display === 'none') {{\n",
              "            console.log([gd, 'removed!']);\n",
              "            Plotly.purge(gd);\n",
              "            observer.disconnect();\n",
              "        }}\n",
              "}});\n",
              "\n",
              "// Listen for the removal of the full notebook cells\n",
              "var notebookContainer = gd.closest('#notebook-container');\n",
              "if (notebookContainer) {{\n",
              "    x.observe(notebookContainer, {childList: true});\n",
              "}}\n",
              "\n",
              "// Listen for the clearing of the current output cell\n",
              "var outputEl = gd.closest('.output');\n",
              "if (outputEl) {{\n",
              "    x.observe(outputEl, {childList: true});\n",
              "}}\n",
              "\n",
              "                        })\n",
              "                };\n",
              "                \n",
              "            </script>\n",
              "        </div>\n",
              "</body>\n",
              "</html>"
            ]
          },
          "metadata": {}
        }
      ]
    },
    {
      "cell_type": "markdown",
      "source": [
        "### ROC AUC Score\n",
        "\n",
        "The area under the ROC curve can be calculated and provides a single score to summarize the plot that can be used to compare models. ROC Curve score close to 1, represents better model."
      ],
      "metadata": {
        "id": "UNBKl_csm9vz"
      }
    },
    {
      "cell_type": "code",
      "source": [
        "print('--- ROC AUC ---')\n",
        "print(f\"Logistic Regression: {auc_score_lr}\" ) # Logistic Regression\n",
        "print(f\"Naive Bayes: {auc_score_gnb}\") # Gaussian Naive Bayes\n",
        "\n",
        "print(f'Neural Network: {auc_score_nn}')# Neural Network\n",
        "print(f\"K-Nearest Neighbors: {auc_score_knn} \") # K-Nearest Neighbors\n",
        "print(f\"Decision Tree: {auc_score_dt}\")  # Decision Tree\n",
        "print(f\"SVC: {auc_score_svc}\")# support vector classifier\n",
        "\n",
        "print(f\"Random Forest: {auc_score_rf}\") # Random Forest\n",
        "print(f\"ADA: {auc_score_ada}\")# ada boost\n",
        "print(f'SGB: {auc_score_sgb}')   # stochastic gradient boosting\n",
        "print(f'CAT: {auc_score_cat}')   # Catboost classifier\n",
        "print(f'XGB: {auc_score_xgb}')   # XGBoost"
      ],
      "metadata": {
        "colab": {
          "base_uri": "https://localhost:8080/"
        },
        "id": "QHlKvGUGptpt",
        "outputId": "50cb8b98-f4df-4b67-d97b-3aa8bef1c9e8"
      },
      "execution_count": 77,
      "outputs": [
        {
          "output_type": "stream",
          "name": "stdout",
          "text": [
            "--- ROC AUC ---\n",
            "Logistic Regression: 0.7709115239865196\n",
            "Naive Bayes: 0.7398897867692354\n",
            "Neural Network: 0.8476945297171936\n",
            "K-Nearest Neighbors: 0.7172531073504822 \n",
            "Decision Tree: 0.7110293470551998\n",
            "SVC: 0.7200174974504454\n",
            "Random Forest: 0.7349757468771192\n",
            "ADA: 0.7667403492242625\n",
            "SGB: 0.71125712451662\n",
            "CAT: 0.7336621439035881\n",
            "XGB: 0.7130094579414095\n"
          ]
        }
      ]
    },
    {
      "cell_type": "markdown",
      "source": [
        "### Precision Recall Curve \n",
        "\n",
        "Precision-recall curve plots the precision (y-axis) and the recall (x-axis) for different thresholds.  It summarizes the trade-off between the true positive rate and the positive predictive value for a predictive model using different probability thresholds.\n",
        "\n",
        "The calculations of Precision recall curve do not make use of the true negatives.  It focuses on the performance of the classifier on the minority class.  Hence, this metric could be used when correct prediction of the minority class (Churn - Yes) is more important.  "
      ],
      "metadata": {
        "id": "AIL7hBPA8RlU"
      }
    },
    {
      "cell_type": "code",
      "source": [
        "fig = go.Figure()\n",
        "\n",
        "fig.add_trace(go.Scatter(x=recall_lr,y=precision_lr,mode='lines',name='LR'))\n",
        "fig.add_trace(go.Scatter(x=recall_gnb,y=precision_gnb,mode='lines',name='GNB'))\n",
        "\n",
        "fig.add_trace(go.Scatter(x=recall_nn,y=precision_nn,mode='lines',name='NN'))\n",
        "fig.add_trace(go.Scatter(x=recall_knn,y=precision_knn,mode='lines',name='KNN'))\n",
        "fig.add_trace(go.Scatter(x=recall_dt,y=precision_dt,mode='lines',name='DT'))\n",
        "fig.add_trace(go.Scatter(x=recall_svc,y=precision_svc,mode='lines',name='SVC'))\n",
        "\n",
        "fig.add_trace(go.Scatter(x=recall_rf,y=precision_rf,mode='lines',name='RF'))\n",
        "fig.add_trace(go.Scatter(x=recall_ada,y=precision_ada,mode='lines',name='ADA'))\n",
        "fig.add_trace(go.Scatter(x=recall_cat,y=precision_cat,mode='lines',name='CAT'))\n",
        "fig.add_trace(go.Scatter(x=recall_sgb,y=precision_sgb,mode='lines',name='SGB'))\n",
        "fig.add_trace(go.Scatter(x=recall_xgb,y=precision_xgb,mode='lines',name='XGB'))\n",
        "fig.update_layout(title='Precision-Recall Curve',\n",
        "                   xaxis_title='Recall',\n",
        "                   yaxis_title='Precision', title_x = 0.5,\n",
        "                   width = 750, height=500,\n",
        "                 )\n",
        "fig.show()"
      ],
      "metadata": {
        "colab": {
          "base_uri": "https://localhost:8080/",
          "height": 517
        },
        "id": "jqgRn5Cuptxu",
        "outputId": "b1a6d3c7-f76b-4460-9392-fee82e88f22b"
      },
      "execution_count": 78,
      "outputs": [
        {
          "output_type": "display_data",
          "data": {
            "text/html": [
              "<html>\n",
              "<head><meta charset=\"utf-8\" /></head>\n",
              "<body>\n",
              "    <div>\n",
              "            <script src=\"https://cdnjs.cloudflare.com/ajax/libs/mathjax/2.7.5/MathJax.js?config=TeX-AMS-MML_SVG\"></script><script type=\"text/javascript\">if (window.MathJax) {MathJax.Hub.Config({SVG: {font: \"STIX-Web\"}});}</script>\n",
              "                <script type=\"text/javascript\">window.PlotlyConfig = {MathJaxConfig: 'local'};</script>\n",
              "        <script src=\"https://cdn.plot.ly/plotly-latest.min.js\"></script>    \n",
              "            <div id=\"1d44903e-89fa-40a3-9568-ca7e03f13507\" class=\"plotly-graph-div\" style=\"height:500px; width:750px;\"></div>\n",
              "            <script type=\"text/javascript\">\n",
              "                \n",
              "                    window.PLOTLYENV=window.PLOTLYENV || {};\n",
              "                    \n",
              "                if (document.getElementById(\"1d44903e-89fa-40a3-9568-ca7e03f13507\")) {\n",
              "                    Plotly.newPlot(\n",
              "                        '1d44903e-89fa-40a3-9568-ca7e03f13507',\n",
              "                        [{\"mode\": \"lines\", \"name\": \"LR\", \"type\": \"scatter\", \"x\": [1.0, 0.9973262032085561, 0.9973262032085561, 0.9973262032085561, 0.9973262032085561, 0.9973262032085561, 0.9973262032085561, 0.9973262032085561, 0.9973262032085561, 0.9973262032085561, 0.9973262032085561, 0.9973262032085561, 0.9973262032085561, 0.9973262032085561, 0.9973262032085561, 0.9973262032085561, 0.9973262032085561, 0.9973262032085561, 0.9973262032085561, 0.9973262032085561, 0.9973262032085561, 0.9973262032085561, 0.9973262032085561, 0.9973262032085561, 0.9973262032085561, 0.9973262032085561, 0.9973262032085561, 0.9973262032085561, 0.9973262032085561, 0.9973262032085561, 0.9973262032085561, 0.9973262032085561, 0.9973262032085561, 0.9973262032085561, 0.9973262032085561, 0.9973262032085561, 0.9973262032085561, 0.9973262032085561, 0.9973262032085561, 0.9973262032085561, 0.9973262032085561, 0.9973262032085561, 0.9973262032085561, 0.9973262032085561, 0.9973262032085561, 0.9973262032085561, 0.9973262032085561, 0.9973262032085561, 0.9973262032085561, 0.9973262032085561, 0.9973262032085561, 0.9973262032085561, 0.9973262032085561, 0.9973262032085561, 0.9973262032085561, 0.9973262032085561, 0.9973262032085561, 0.9973262032085561, 0.9973262032085561, 0.9973262032085561, 0.9973262032085561, 0.9973262032085561, 0.9973262032085561, 0.9973262032085561, 0.9973262032085561, 0.9973262032085561, 0.9973262032085561, 0.9973262032085561, 0.9973262032085561, 0.9973262032085561, 0.9973262032085561, 0.9973262032085561, 0.9973262032085561, 0.9973262032085561, 0.9973262032085561, 0.9973262032085561, 0.9973262032085561, 0.9973262032085561, 0.9973262032085561, 0.9973262032085561, 0.9973262032085561, 0.9973262032085561, 0.9973262032085561, 0.9973262032085561, 0.9973262032085561, 0.9973262032085561, 0.9973262032085561, 0.9973262032085561, 0.9973262032085561, 0.9973262032085561, 0.9946524064171123, 0.9946524064171123, 0.9946524064171123, 0.9946524064171123, 0.9946524064171123, 0.9919786096256684, 0.9919786096256684, 0.9919786096256684, 0.9919786096256684, 0.9919786096256684, 0.9919786096256684, 0.9919786096256684, 0.9919786096256684, 0.9919786096256684, 0.9919786096256684, 0.9919786096256684, 0.9919786096256684, 0.9919786096256684, 0.9919786096256684, 0.9919786096256684, 0.9919786096256684, 0.9919786096256684, 0.9919786096256684, 0.9919786096256684, 0.9919786096256684, 0.9919786096256684, 0.9919786096256684, 0.9919786096256684, 0.9919786096256684, 0.9919786096256684, 0.9919786096256684, 0.9919786096256684, 0.9919786096256684, 0.9919786096256684, 0.9919786096256684, 0.9919786096256684, 0.9919786096256684, 0.9919786096256684, 0.9919786096256684, 0.9919786096256684, 0.9919786096256684, 0.9919786096256684, 0.9919786096256684, 0.9919786096256684, 0.9893048128342246, 0.9893048128342246, 0.9893048128342246, 0.9893048128342246, 0.9893048128342246, 0.9893048128342246, 0.9893048128342246, 0.9893048128342246, 0.9893048128342246, 0.9893048128342246, 0.9893048128342246, 0.9893048128342246, 0.9893048128342246, 0.9893048128342246, 0.9893048128342246, 0.9893048128342246, 0.9893048128342246, 0.9893048128342246, 0.9893048128342246, 0.9893048128342246, 0.9893048128342246, 0.9893048128342246, 0.9893048128342246, 0.9893048128342246, 0.9893048128342246, 0.9893048128342246, 0.9893048128342246, 0.9893048128342246, 0.9893048128342246, 0.9893048128342246, 0.9893048128342246, 0.9893048128342246, 0.9893048128342246, 0.9893048128342246, 0.9893048128342246, 0.9893048128342246, 0.9893048128342246, 0.9893048128342246, 0.9893048128342246, 0.9893048128342246, 0.9893048128342246, 0.9893048128342246, 0.9893048128342246, 0.9893048128342246, 0.9893048128342246, 0.9893048128342246, 0.9893048128342246, 0.9893048128342246, 0.9893048128342246, 0.9893048128342246, 0.9893048128342246, 0.9893048128342246, 0.9893048128342246, 0.9893048128342246, 0.9893048128342246, 0.9893048128342246, 0.9893048128342246, 0.9893048128342246, 0.9893048128342246, 0.9893048128342246, 0.9893048128342246, 0.9893048128342246, 0.9893048128342246, 0.9893048128342246, 0.9893048128342246, 0.9893048128342246, 0.9893048128342246, 0.9893048128342246, 0.9893048128342246, 0.9893048128342246, 0.9893048128342246, 0.9893048128342246, 0.9893048128342246, 0.9893048128342246, 0.9893048128342246, 0.9893048128342246, 0.9893048128342246, 0.9893048128342246, 0.9893048128342246, 0.9893048128342246, 0.9893048128342246, 0.9893048128342246, 0.9866310160427807, 0.9866310160427807, 0.9866310160427807, 0.9866310160427807, 0.9866310160427807, 0.9866310160427807, 0.9866310160427807, 0.9866310160427807, 0.983957219251337, 0.983957219251337, 0.983957219251337, 0.983957219251337, 0.983957219251337, 0.983957219251337, 0.983957219251337, 0.983957219251337, 0.983957219251337, 0.983957219251337, 0.9812834224598931, 0.9812834224598931, 0.9812834224598931, 0.9812834224598931, 0.9812834224598931, 0.9812834224598931, 0.9812834224598931, 0.9812834224598931, 0.9812834224598931, 0.9812834224598931, 0.9812834224598931, 0.9812834224598931, 0.9812834224598931, 0.9812834224598931, 0.9812834224598931, 0.9812834224598931, 0.9812834224598931, 0.9812834224598931, 0.9812834224598931, 0.9812834224598931, 0.9812834224598931, 0.9812834224598931, 0.9812834224598931, 0.9812834224598931, 0.9812834224598931, 0.9812834224598931, 0.9812834224598931, 0.9812834224598931, 0.9812834224598931, 0.9812834224598931, 0.9812834224598931, 0.9812834224598931, 0.9812834224598931, 0.9786096256684492, 0.9786096256684492, 0.9786096256684492, 0.9786096256684492, 0.9786096256684492, 0.9786096256684492, 0.9786096256684492, 0.9759358288770054, 0.9759358288770054, 0.9759358288770054, 0.9759358288770054, 0.9759358288770054, 0.9759358288770054, 0.9732620320855615, 0.9732620320855615, 0.9732620320855615, 0.9732620320855615, 0.9732620320855615, 0.9732620320855615, 0.9732620320855615, 0.9732620320855615, 0.9732620320855615, 0.9732620320855615, 0.9732620320855615, 0.9732620320855615, 0.9732620320855615, 0.9732620320855615, 0.9732620320855615, 0.9732620320855615, 0.9732620320855615, 0.9732620320855615, 0.9732620320855615, 0.9732620320855615, 0.9732620320855615, 0.9732620320855615, 0.9732620320855615, 0.9732620320855615, 0.9732620320855615, 0.9732620320855615, 0.9732620320855615, 0.9732620320855615, 0.9705882352941176, 0.9705882352941176, 0.9705882352941176, 0.9705882352941176, 0.9705882352941176, 0.9705882352941176, 0.9705882352941176, 0.9705882352941176, 0.9705882352941176, 0.9705882352941176, 0.9705882352941176, 0.9705882352941176, 0.9705882352941176, 0.9705882352941176, 0.9705882352941176, 0.9679144385026738, 0.9679144385026738, 0.9679144385026738, 0.9679144385026738, 0.9679144385026738, 0.9679144385026738, 0.9679144385026738, 0.9679144385026738, 0.9679144385026738, 0.9679144385026738, 0.9679144385026738, 0.9679144385026738, 0.9679144385026738, 0.9679144385026738, 0.9679144385026738, 0.9679144385026738, 0.9679144385026738, 0.9679144385026738, 0.9679144385026738, 0.9679144385026738, 0.9679144385026738, 0.9679144385026738, 0.9679144385026738, 0.9679144385026738, 0.9679144385026738, 0.9679144385026738, 0.9679144385026738, 0.9679144385026738, 0.9679144385026738, 0.9679144385026738, 0.9652406417112299, 0.9652406417112299, 0.9652406417112299, 0.9652406417112299, 0.9652406417112299, 0.9652406417112299, 0.9652406417112299, 0.9652406417112299, 0.9652406417112299, 0.9652406417112299, 0.9652406417112299, 0.9625668449197861, 0.9625668449197861, 0.9625668449197861, 0.9598930481283422, 0.9598930481283422, 0.9598930481283422, 0.9598930481283422, 0.9598930481283422, 0.9598930481283422, 0.9572192513368984, 0.9572192513368984, 0.9572192513368984, 0.9572192513368984, 0.9572192513368984, 0.9545454545454546, 0.9545454545454546, 0.9545454545454546, 0.9545454545454546, 0.9518716577540107, 0.9518716577540107, 0.9518716577540107, 0.9518716577540107, 0.9518716577540107, 0.9518716577540107, 0.9518716577540107, 0.9518716577540107, 0.9518716577540107, 0.9518716577540107, 0.9518716577540107, 0.9518716577540107, 0.9518716577540107, 0.9518716577540107, 0.9518716577540107, 0.9518716577540107, 0.9518716577540107, 0.9491978609625669, 0.9491978609625669, 0.9491978609625669, 0.9491978609625669, 0.9491978609625669, 0.9491978609625669, 0.9491978609625669, 0.9491978609625669, 0.946524064171123, 0.946524064171123, 0.9438502673796791, 0.9438502673796791, 0.9438502673796791, 0.9438502673796791, 0.9438502673796791, 0.9411764705882353, 0.9411764705882353, 0.9411764705882353, 0.9411764705882353, 0.9411764705882353, 0.9411764705882353, 0.9411764705882353, 0.9411764705882353, 0.9411764705882353, 0.9411764705882353, 0.9411764705882353, 0.9411764705882353, 0.9411764705882353, 0.9411764705882353, 0.9411764705882353, 0.9411764705882353, 0.9411764705882353, 0.9411764705882353, 0.9411764705882353, 0.9411764705882353, 0.9411764705882353, 0.9411764705882353, 0.9411764705882353, 0.9411764705882353, 0.9411764705882353, 0.9411764705882353, 0.9411764705882353, 0.9411764705882353, 0.9385026737967914, 0.9385026737967914, 0.9385026737967914, 0.9385026737967914, 0.9385026737967914, 0.9358288770053476, 0.9358288770053476, 0.9358288770053476, 0.9358288770053476, 0.9358288770053476, 0.9358288770053476, 0.9358288770053476, 0.9358288770053476, 0.9358288770053476, 0.9358288770053476, 0.9358288770053476, 0.9358288770053476, 0.9358288770053476, 0.9358288770053476, 0.9358288770053476, 0.9358288770053476, 0.9358288770053476, 0.9358288770053476, 0.9358288770053476, 0.9358288770053476, 0.9358288770053476, 0.9358288770053476, 0.9358288770053476, 0.9358288770053476, 0.9358288770053476, 0.9358288770053476, 0.9358288770053476, 0.9358288770053476, 0.9331550802139037, 0.93048128342246, 0.93048128342246, 0.93048128342246, 0.9278074866310161, 0.9278074866310161, 0.9278074866310161, 0.9251336898395722, 0.9251336898395722, 0.9251336898395722, 0.9251336898395722, 0.9224598930481284, 0.9224598930481284, 0.9224598930481284, 0.9224598930481284, 0.9224598930481284, 0.9224598930481284, 0.9224598930481284, 0.9224598930481284, 0.9224598930481284, 0.9224598930481284, 0.9224598930481284, 0.9224598930481284, 0.9197860962566845, 0.9197860962566845, 0.9197860962566845, 0.9197860962566845, 0.9197860962566845, 0.9197860962566845, 0.9197860962566845, 0.9197860962566845, 0.9197860962566845, 0.9197860962566845, 0.9197860962566845, 0.9197860962566845, 0.9171122994652406, 0.9144385026737968, 0.9144385026737968, 0.9144385026737968, 0.9144385026737968, 0.9144385026737968, 0.9144385026737968, 0.9144385026737968, 0.9117647058823529, 0.9117647058823529, 0.9117647058823529, 0.9117647058823529, 0.9090909090909091, 0.9090909090909091, 0.9090909090909091, 0.9090909090909091, 0.9090909090909091, 0.9090909090909091, 0.9090909090909091, 0.9064171122994652, 0.9037433155080213, 0.9037433155080213, 0.9037433155080213, 0.9037433155080213, 0.9010695187165776, 0.9010695187165776, 0.9010695187165776, 0.8983957219251337, 0.8983957219251337, 0.8983957219251337, 0.8983957219251337, 0.8983957219251337, 0.8957219251336899, 0.8957219251336899, 0.8957219251336899, 0.8957219251336899, 0.8957219251336899, 0.893048128342246, 0.893048128342246, 0.893048128342246, 0.8903743315508021, 0.8903743315508021, 0.8877005347593583, 0.8850267379679144, 0.8850267379679144, 0.8850267379679144, 0.8850267379679144, 0.8823529411764706, 0.8823529411764706, 0.8823529411764706, 0.8823529411764706, 0.8823529411764706, 0.8823529411764706, 0.8823529411764706, 0.8823529411764706, 0.8823529411764706, 0.8796791443850267, 0.8796791443850267, 0.8796791443850267, 0.8796791443850267, 0.8796791443850267, 0.8796791443850267, 0.8796791443850267, 0.8796791443850267, 0.8770053475935828, 0.8770053475935828, 0.8743315508021391, 0.8743315508021391, 0.8743315508021391, 0.8743315508021391, 0.8743315508021391, 0.8743315508021391, 0.8743315508021391, 0.8743315508021391, 0.8743315508021391, 0.8743315508021391, 0.8743315508021391, 0.8743315508021391, 0.8716577540106952, 0.8716577540106952, 0.8716577540106952, 0.8716577540106952, 0.8689839572192514, 0.8689839572192514, 0.8663101604278075, 0.8663101604278075, 0.8636363636363636, 0.8636363636363636, 0.8636363636363636, 0.8609625668449198, 0.8609625668449198, 0.8609625668449198, 0.8609625668449198, 0.8582887700534759, 0.8582887700534759, 0.8582887700534759, 0.8582887700534759, 0.8582887700534759, 0.8582887700534759, 0.8582887700534759, 0.8582887700534759, 0.8556149732620321, 0.8556149732620321, 0.8556149732620321, 0.8556149732620321, 0.8529411764705882, 0.8529411764705882, 0.8529411764705882, 0.8502673796791443, 0.8475935828877005, 0.8449197860962567, 0.8449197860962567, 0.8449197860962567, 0.8422459893048129, 0.8422459893048129, 0.8422459893048129, 0.8422459893048129, 0.8422459893048129, 0.839572192513369, 0.839572192513369, 0.839572192513369, 0.8368983957219251, 0.8368983957219251, 0.8368983957219251, 0.8368983957219251, 0.8342245989304813, 0.8342245989304813, 0.8342245989304813, 0.8342245989304813, 0.8342245989304813, 0.8342245989304813, 0.8342245989304813, 0.8315508021390374, 0.8315508021390374, 0.8315508021390374, 0.8288770053475936, 0.8288770053475936, 0.8288770053475936, 0.8288770053475936, 0.8288770053475936, 0.8288770053475936, 0.8288770053475936, 0.8288770053475936, 0.8288770053475936, 0.8288770053475936, 0.8288770053475936, 0.8288770053475936, 0.8288770053475936, 0.8288770053475936, 0.8288770053475936, 0.8262032085561497, 0.8235294117647058, 0.820855614973262, 0.820855614973262, 0.820855614973262, 0.820855614973262, 0.820855614973262, 0.8181818181818182, 0.8181818181818182, 0.8155080213903744, 0.8155080213903744, 0.8155080213903744, 0.8155080213903744, 0.8128342245989305, 0.8101604278074866, 0.8101604278074866, 0.8101604278074866, 0.8101604278074866, 0.8101604278074866, 0.8074866310160428, 0.8074866310160428, 0.8074866310160428, 0.8074866310160428, 0.8048128342245989, 0.8021390374331551, 0.8021390374331551, 0.8021390374331551, 0.8021390374331551, 0.8021390374331551, 0.8021390374331551, 0.7994652406417112, 0.7994652406417112, 0.7994652406417112, 0.7994652406417112, 0.7994652406417112, 0.7994652406417112, 0.7967914438502673, 0.7967914438502673, 0.7941176470588235, 0.7941176470588235, 0.7914438502673797, 0.7914438502673797, 0.7914438502673797, 0.7914438502673797, 0.7914438502673797, 0.7914438502673797, 0.7914438502673797, 0.7914438502673797, 0.7914438502673797, 0.7887700534759359, 0.7887700534759359, 0.786096256684492, 0.786096256684492, 0.7834224598930482, 0.7834224598930482, 0.7807486631016043, 0.7807486631016043, 0.7807486631016043, 0.7780748663101604, 0.7780748663101604, 0.7754010695187166, 0.7754010695187166, 0.7727272727272727, 0.7727272727272727, 0.7727272727272727, 0.7700534759358288, 0.767379679144385, 0.7647058823529411, 0.7647058823529411, 0.7647058823529411, 0.7647058823529411, 0.7647058823529411, 0.7620320855614974, 0.7593582887700535, 0.7593582887700535, 0.7593582887700535, 0.7593582887700535, 0.7566844919786097, 0.7540106951871658, 0.7540106951871658, 0.7513368983957219, 0.7486631016042781, 0.7486631016042781, 0.7486631016042781, 0.7486631016042781, 0.7486631016042781, 0.7459893048128342, 0.7459893048128342, 0.7433155080213903, 0.7433155080213903, 0.7406417112299465, 0.7379679144385026, 0.7379679144385026, 0.7352941176470589, 0.7352941176470589, 0.732620320855615, 0.732620320855615, 0.732620320855615, 0.732620320855615, 0.7299465240641712, 0.7272727272727273, 0.7272727272727273, 0.7272727272727273, 0.7272727272727273, 0.7245989304812834, 0.7245989304812834, 0.7219251336898396, 0.7219251336898396, 0.7219251336898396, 0.7219251336898396, 0.7219251336898396, 0.7192513368983957, 0.7192513368983957, 0.7165775401069518, 0.713903743315508, 0.713903743315508, 0.7112299465240641, 0.7112299465240641, 0.7112299465240641, 0.7112299465240641, 0.7112299465240641, 0.7085561497326203, 0.7085561497326203, 0.7058823529411765, 0.7058823529411765, 0.7032085561497327, 0.7032085561497327, 0.7032085561497327, 0.7032085561497327, 0.7005347593582888, 0.7005347593582888, 0.7005347593582888, 0.7005347593582888, 0.6978609625668449, 0.6951871657754011, 0.6925133689839572, 0.6925133689839572, 0.6898395721925134, 0.6898395721925134, 0.6871657754010695, 0.6871657754010695, 0.6871657754010695, 0.6844919786096256, 0.6818181818181818, 0.6818181818181818, 0.679144385026738, 0.679144385026738, 0.679144385026738, 0.679144385026738, 0.6764705882352942, 0.6737967914438503, 0.6737967914438503, 0.6711229946524064, 0.6684491978609626, 0.6684491978609626, 0.6684491978609626, 0.6684491978609626, 0.6684491978609626, 0.6684491978609626, 0.6657754010695187, 0.6657754010695187, 0.6657754010695187, 0.6631016042780749, 0.6631016042780749, 0.660427807486631, 0.660427807486631, 0.660427807486631, 0.660427807486631, 0.660427807486631, 0.660427807486631, 0.6577540106951871, 0.6577540106951871, 0.6577540106951871, 0.6577540106951871, 0.6577540106951871, 0.6577540106951871, 0.6550802139037433, 0.6550802139037433, 0.6550802139037433, 0.6524064171122995, 0.6524064171122995, 0.6524064171122995, 0.6497326203208557, 0.6497326203208557, 0.6497326203208557, 0.6470588235294118, 0.6443850267379679, 0.6417112299465241, 0.6417112299465241, 0.6390374331550802, 0.6363636363636364, 0.6363636363636364, 0.6336898395721925, 0.6336898395721925, 0.6310160427807486, 0.6310160427807486, 0.6283422459893048, 0.6256684491978609, 0.6229946524064172, 0.6229946524064172, 0.6229946524064172, 0.6203208556149733, 0.6176470588235294, 0.6149732620320856, 0.6122994652406417, 0.6122994652406417, 0.6096256684491979, 0.6096256684491979, 0.6096256684491979, 0.606951871657754, 0.6042780748663101, 0.6042780748663101, 0.6016042780748663, 0.6016042780748663, 0.6016042780748663, 0.6016042780748663, 0.5989304812834224, 0.5989304812834224, 0.5989304812834224, 0.5962566844919787, 0.5935828877005348, 0.5935828877005348, 0.5909090909090909, 0.5909090909090909, 0.5909090909090909, 0.5882352941176471, 0.5855614973262032, 0.5828877005347594, 0.5828877005347594, 0.5802139037433155, 0.5775401069518716, 0.5775401069518716, 0.5775401069518716, 0.5748663101604278, 0.5748663101604278, 0.5721925133689839, 0.5721925133689839, 0.56951871657754, 0.56951871657754, 0.5668449197860963, 0.5668449197860963, 0.5668449197860963, 0.5641711229946524, 0.5641711229946524, 0.5641711229946524, 0.5641711229946524, 0.5614973262032086, 0.5588235294117647, 0.5561497326203209, 0.5561497326203209, 0.553475935828877, 0.553475935828877, 0.553475935828877, 0.5508021390374331, 0.5481283422459893, 0.5454545454545454, 0.5454545454545454, 0.5454545454545454, 0.5427807486631016, 0.5401069518716578, 0.5401069518716578, 0.5374331550802139, 0.5347593582887701, 0.5320855614973262, 0.5320855614973262, 0.5320855614973262, 0.5294117647058824, 0.5267379679144385, 0.5267379679144385, 0.5267379679144385, 0.5240641711229946, 0.5240641711229946, 0.5240641711229946, 0.5213903743315508, 0.5187165775401069, 0.5187165775401069, 0.516042780748663, 0.516042780748663, 0.516042780748663, 0.5133689839572193, 0.5133689839572193, 0.5106951871657754, 0.5106951871657754, 0.5106951871657754, 0.5080213903743316, 0.5080213903743316, 0.5080213903743316, 0.5053475935828877, 0.5053475935828877, 0.5053475935828877, 0.5053475935828877, 0.5026737967914439, 0.5, 0.5, 0.49732620320855614, 0.49732620320855614, 0.4946524064171123, 0.4919786096256685, 0.4919786096256685, 0.4893048128342246, 0.4893048128342246, 0.48663101604278075, 0.48663101604278075, 0.4839572192513369, 0.48128342245989303, 0.4786096256684492, 0.47593582887700536, 0.47593582887700536, 0.47593582887700536, 0.4732620320855615, 0.4732620320855615, 0.47058823529411764, 0.4679144385026738, 0.46524064171123, 0.46524064171123, 0.46524064171123, 0.46524064171123, 0.4625668449197861, 0.45989304812834225, 0.45989304812834225, 0.45989304812834225, 0.4572192513368984, 0.4572192513368984, 0.45454545454545453, 0.45187165775401067, 0.44919786096256686, 0.446524064171123, 0.44385026737967914, 0.4411764705882353, 0.4385026737967914, 0.4385026737967914, 0.4385026737967914, 0.4385026737967914, 0.4358288770053476, 0.4358288770053476, 0.43315508021390375, 0.4304812834224599, 0.42780748663101603, 0.42513368983957217, 0.42245989304812837, 0.4197860962566845, 0.4197860962566845, 0.41711229946524064, 0.41711229946524064, 0.4144385026737968, 0.4144385026737968, 0.4117647058823529, 0.4090909090909091, 0.40641711229946526, 0.40641711229946526, 0.40641711229946526, 0.4037433155080214, 0.4037433155080214, 0.4037433155080214, 0.4037433155080214, 0.40106951871657753, 0.3983957219251337, 0.39572192513368987, 0.393048128342246, 0.39037433155080214, 0.39037433155080214, 0.3877005347593583, 0.3877005347593583, 0.3850267379679144, 0.38235294117647056, 0.37967914438502676, 0.37967914438502676, 0.3770053475935829, 0.3770053475935829, 0.37433155080213903, 0.37433155080213903, 0.3716577540106952, 0.3716577540106952, 0.3716577540106952, 0.3689839572192513, 0.3663101604278075, 0.3663101604278075, 0.36363636363636365, 0.3609625668449198, 0.3609625668449198, 0.3609625668449198, 0.3582887700534759, 0.3582887700534759, 0.3582887700534759, 0.35561497326203206, 0.35561497326203206, 0.35561497326203206, 0.35294117647058826, 0.3502673796791444, 0.34759358288770054, 0.3449197860962567, 0.3449197860962567, 0.3422459893048128, 0.339572192513369, 0.33689839572192515, 0.33689839572192515, 0.3342245989304813, 0.3315508021390374, 0.3315508021390374, 0.3315508021390374, 0.32887700534759357, 0.32620320855614976, 0.32620320855614976, 0.32620320855614976, 0.32620320855614976, 0.3235294117647059, 0.3235294117647059, 0.32085561497326204, 0.32085561497326204, 0.3181818181818182, 0.3155080213903743, 0.31283422459893045, 0.31283422459893045, 0.31283422459893045, 0.31016042780748665, 0.3074866310160428, 0.3048128342245989, 0.3048128342245989, 0.3048128342245989, 0.3048128342245989, 0.30213903743315507, 0.2994652406417112, 0.2967914438502674, 0.29411764705882354, 0.29411764705882354, 0.2914438502673797, 0.2887700534759358, 0.2887700534759358, 0.28609625668449196, 0.28342245989304815, 0.2807486631016043, 0.2807486631016043, 0.2807486631016043, 0.27807486631016043, 0.27540106951871657, 0.2727272727272727, 0.2700534759358289, 0.26737967914438504, 0.2647058823529412, 0.2620320855614973, 0.2620320855614973, 0.25935828877005346, 0.25935828877005346, 0.25668449197860965, 0.2540106951871658, 0.25133689839572193, 0.25133689839572193, 0.25133689839572193, 0.24866310160427807, 0.24598930481283424, 0.24598930481283424, 0.24331550802139038, 0.24331550802139038, 0.24064171122994651, 0.24064171122994651, 0.24064171122994651, 0.24064171122994651, 0.24064171122994651, 0.23796791443850268, 0.23796791443850268, 0.23796791443850268, 0.23529411764705882, 0.232620320855615, 0.232620320855615, 0.22994652406417113, 0.22994652406417113, 0.22727272727272727, 0.22459893048128343, 0.22192513368983957, 0.22192513368983957, 0.22192513368983957, 0.22192513368983957, 0.22192513368983957, 0.2192513368983957, 0.2192513368983957, 0.2192513368983957, 0.21657754010695188, 0.21657754010695188, 0.21390374331550802, 0.21122994652406418, 0.20855614973262032, 0.20588235294117646, 0.20320855614973263, 0.20053475935828877, 0.20053475935828877, 0.19786096256684493, 0.19786096256684493, 0.19786096256684493, 0.19518716577540107, 0.1925133689839572, 0.18983957219251338, 0.18983957219251338, 0.18716577540106952, 0.18716577540106952, 0.18449197860962566, 0.18181818181818182, 0.17914438502673796, 0.17914438502673796, 0.17914438502673796, 0.17647058823529413, 0.17379679144385027, 0.1711229946524064, 0.16844919786096257, 0.1657754010695187, 0.1657754010695187, 0.1657754010695187, 0.16310160427807488, 0.16042780748663102, 0.15775401069518716, 0.15508021390374332, 0.15508021390374332, 0.15240641711229946, 0.1497326203208556, 0.14705882352941177, 0.1443850267379679, 0.14171122994652408, 0.13903743315508021, 0.13903743315508021, 0.13636363636363635, 0.13368983957219252, 0.13101604278074866, 0.12834224598930483, 0.12566844919786097, 0.12299465240641712, 0.12032085561497326, 0.11764705882352941, 0.11497326203208556, 0.11229946524064172, 0.10962566844919786, 0.10695187165775401, 0.10427807486631016, 0.10427807486631016, 0.10160427807486631, 0.09893048128342247, 0.0962566844919786, 0.09358288770053476, 0.09358288770053476, 0.09090909090909091, 0.08823529411764706, 0.0855614973262032, 0.08288770053475936, 0.08288770053475936, 0.08021390374331551, 0.08021390374331551, 0.07754010695187166, 0.07754010695187166, 0.0748663101604278, 0.07219251336898395, 0.07219251336898395, 0.06951871657754011, 0.06951871657754011, 0.06951871657754011, 0.06951871657754011, 0.06951871657754011, 0.06684491978609626, 0.06417112299465241, 0.06149732620320856, 0.058823529411764705, 0.05614973262032086, 0.053475935828877004, 0.053475935828877004, 0.053475935828877004, 0.053475935828877004, 0.053475935828877004, 0.05080213903743316, 0.0481283422459893, 0.045454545454545456, 0.0427807486631016, 0.040106951871657755, 0.0374331550802139, 0.034759358288770054, 0.03208556149732621, 0.029411764705882353, 0.026737967914438502, 0.02406417112299465, 0.02406417112299465, 0.0213903743315508, 0.01871657754010695, 0.016042780748663103, 0.013368983957219251, 0.0106951871657754, 0.0106951871657754, 0.008021390374331552, 0.0053475935828877, 0.00267379679144385, 0.0, 0.0], \"y\": [0.3001605136436597, 0.2995983935742972, 0.29983922829581994, 0.3000804505229284, 0.3003220611916264, 0.3005640612409347, 0.3008064516129032, 0.30104923325262306, 0.30129240710823907, 0.301535974130962, 0.3017799352750809, 0.3020242914979757, 0.30226904376012964, 0.30251419302514193, 0.3027597402597403, 0.30300568643379366, 0.3032520325203252, 0.30349877949552484, 0.30374592833876224, 0.30399348003259985, 0.30424143556280586, 0.30448979591836733, 0.3047385620915033, 0.30498773507767785, 0.30523731587561376, 0.30548730548730546, 0.30573770491803276, 0.3059885151763741, 0.30623973727422005, 0.3064913722267872, 0.3067434210526316, 0.3069958847736626, 0.30724876441515653, 0.3075020610057708, 0.30775577557755773, 0.30800990916597853, 0.3082644628099174, 0.30851943755169564, 0.3087748344370861, 0.30903065451532724, 0.3092868988391376, 0.3095435684647303, 0.30980066445182725, 0.3100581878636742, 0.3103161397670549, 0.3105745212323064, 0.31083333333333335, 0.311092577147623, 0.3113522537562604, 0.3116123642439432, 0.31187290969899667, 0.31213389121338914, 0.31239530988274705, 0.3126571668063705, 0.31291946308724833, 0.3131821998320739, 0.3134453781512605, 0.3137089991589571, 0.31397306397306396, 0.3142375737152485, 0.3145025295109612, 0.31476793248945145, 0.31503378378378377, 0.3153000845308538, 0.3155668358714044, 0.31583403895004236, 0.31610169491525425, 0.31636980491942324, 0.3166383701188455, 0.3169073916737468, 0.3171768707482993, 0.3174468085106383, 0.31771720613287907, 0.31798806479113384, 0.318259385665529, 0.318531169940222, 0.3188034188034188, 0.31907613344739094, 0.3193493150684932, 0.3196229648671808, 0.31989708404802747, 0.3201716738197425, 0.32044673539518903, 0.3207222699914015, 0.32099827882960413, 0.32127476313522824, 0.32155172413793104, 0.32182916307161347, 0.3221070811744387, 0.32238547968885045, 0.3217993079584775, 0.3220779220779221, 0.3223570190641248, 0.3226366001734605, 0.3229166666666667, 0.32232841007819285, 0.3226086956521739, 0.3228894691035683, 0.3231707317073171, 0.3234524847428073, 0.3237347294938918, 0.3240174672489083, 0.3243006993006993, 0.32458442694663164, 0.3248686514886165, 0.32515337423312884, 0.3254385964912281, 0.3257243195785777, 0.3260105448154657, 0.32629727352682497, 0.3265845070422535, 0.32687224669603526, 0.3271604938271605, 0.32744924977934686, 0.32773851590106007, 0.3280282935455349, 0.32831858407079645, 0.32860938883968116, 0.32890070921985815, 0.32919254658385094, 0.32948490230905864, 0.3297777777777778, 0.3300711743772242, 0.3303650934995548, 0.3306595365418895, 0.33095450490633366, 0.33125, 0.3315460232350313, 0.33184257602862255, 0.3321396598030439, 0.3324372759856631, 0.3327354260089686, 0.33303411131059246, 0.3333333333333333, 0.3327338129496403, 0.33303330333033304, 0.3333333333333333, 0.33363390441839497, 0.33393501805054154, 0.33423667570009036, 0.3345388788426763, 0.334841628959276, 0.3351449275362319, 0.3354487760652765, 0.33575317604355714, 0.33605812897366033, 0.33636363636363636, 0.33666969972702454, 0.33697632058287796, 0.33728350045578853, 0.3375912408759124, 0.3378995433789954, 0.3382084095063985, 0.33851784080512354, 0.33882783882783885, 0.3391384051329056, 0.3394495412844037, 0.3397612488521579, 0.3400735294117647, 0.3403863845446182, 0.3406998158379374, 0.34101382488479265, 0.3413284132841328, 0.34164358264081257, 0.3419593345656192, 0.3422756706753006, 0.3425925925925926, 0.34291010194624655, 0.3432282003710575, 0.3435468895078923, 0.34386617100371747, 0.34418604651162793, 0.34450651769087526, 0.3448275862068966, 0.3451492537313433, 0.34547152194211017, 0.34579439252336447, 0.3461178671655753, 0.3464419475655431, 0.3467666354264292, 0.34709193245778613, 0.3474178403755869, 0.34774436090225563, 0.34807149576669805, 0.3483992467043315, 0.34872761545711595, 0.3490566037735849, 0.3493862134088763, 0.3497164461247637, 0.3500473036896878, 0.3503787878787879, 0.35071090047393366, 0.3510436432637571, 0.3513770180436847, 0.3517110266159696, 0.3520456707897241, 0.3523809523809524, 0.35271687321258344, 0.3530534351145038, 0.3533906399235912, 0.35372848948374763, 0.35406698564593303, 0.3544061302681992, 0.3547459252157239, 0.3550863723608445, 0.3554274735830932, 0.3557692307692308, 0.35611164581328203, 0.35645472061657035, 0.35679845708775315, 0.35714285714285715, 0.357487922705314, 0.3578336557059961, 0.35818005808325265, 0.35852713178294576, 0.3588748787584869, 0.35825242718446604, 0.358600583090379, 0.35894941634241245, 0.3592989289191821, 0.35964912280701755, 0.36, 0.3603515625, 0.36070381231671556, 0.36007827788649704, 0.3604309500489716, 0.3607843137254902, 0.36113837095191365, 0.3614931237721022, 0.36184857423795475, 0.36220472440944884, 0.3625615763546798, 0.3629191321499014, 0.36327739387956565, 0.36264822134387353, 0.3630069238377844, 0.36336633663366336, 0.36372646184340934, 0.36408730158730157, 0.3644488579940417, 0.3648111332007952, 0.36517412935323385, 0.3655378486055777, 0.3659022931206381, 0.3662674650698603, 0.36663336663336665, 0.367, 0.36736736736736736, 0.36773547094188375, 0.36810431293881646, 0.3684738955823293, 0.3688442211055276, 0.369215291750503, 0.36958710976837866, 0.3699596774193548, 0.3703329969727548, 0.3707070707070707, 0.3710819009100101, 0.3714574898785425, 0.3718338399189463, 0.372210953346856, 0.3725888324873096, 0.37296747967479676, 0.3733468972533062, 0.37372708757637474, 0.37410805300713557, 0.37448979591836734, 0.3738508682328907, 0.37423312883435583, 0.37461617195496416, 0.375, 0.37538461538461537, 0.3757700205338809, 0.3761562178828366, 0.37551440329218105, 0.37590113285272914, 0.37628865979381443, 0.3766769865841073, 0.37706611570247933, 0.37745604963805585, 0.37681159420289856, 0.3772020725388601, 0.3775933609958506, 0.37798546209761164, 0.3783783783783784, 0.37877211238293446, 0.37916666666666665, 0.3795620437956204, 0.37995824634655534, 0.38035527690700105, 0.3807531380753138, 0.381151832460733, 0.38155136268343814, 0.38195173137460653, 0.38235294117647056, 0.38275499474237645, 0.3831578947368421, 0.3835616438356164, 0.38396624472573837, 0.3843717001055966, 0.38477801268498946, 0.3851851851851852, 0.3855932203389831, 0.3860021208907741, 0.386411889596603, 0.38682252922422955, 0.3872340425531915, 0.3876464323748669, 0.38699360341151384, 0.3874066168623266, 0.38782051282051283, 0.38823529411764707, 0.3886509635974304, 0.3890675241157556, 0.3894849785407725, 0.38990332975295383, 0.3903225806451613, 0.3907427341227126, 0.3911637931034483, 0.39158576051779936, 0.39200863930885527, 0.3924324324324324, 0.39285714285714285, 0.39219934994582883, 0.3926247288503254, 0.3930510314875136, 0.3934782608695652, 0.3939064200217628, 0.39433551198257083, 0.39476553980370777, 0.3951965065502183, 0.39562841530054643, 0.39606126914660833, 0.3964950711938664, 0.3969298245614035, 0.3973655323819978, 0.3978021978021978, 0.39823982398239827, 0.3986784140969163, 0.39911797133406834, 0.3995584988962472, 0.4, 0.4004424778761062, 0.4008859357696567, 0.401330376940133, 0.4017758046614872, 0.4022222222222222, 0.40266963292547275, 0.40311804008908686, 0.4035674470457079, 0.40401785714285715, 0.4044692737430168, 0.40492170022371365, 0.40425531914893614, 0.4047085201793722, 0.4051627384960718, 0.40561797752808987, 0.40607424071991, 0.40653153153153154, 0.4069898534385569, 0.4074492099322799, 0.40790960451977404, 0.4083710407239819, 0.4088335220838052, 0.40816326530612246, 0.4086265607264472, 0.4090909090909091, 0.40841865756541523, 0.40888382687927105, 0.40935005701254273, 0.4098173515981735, 0.4102857142857143, 0.4107551487414188, 0.41008018327605955, 0.4105504587155963, 0.41102181400688864, 0.4114942528735632, 0.41196777905638665, 0.4112903225806452, 0.4117647058823529, 0.4122401847575058, 0.41271676300578036, 0.41203703703703703, 0.41251448435689453, 0.41299303944315546, 0.413472706155633, 0.413953488372093, 0.41443538998835855, 0.4149184149184149, 0.41540256709451573, 0.4158878504672897, 0.41637426900584795, 0.4168618266978923, 0.41735052754982416, 0.41784037558685444, 0.418331374853114, 0.4188235294117647, 0.4193168433451119, 0.419811320754717, 0.41912632821723733, 0.41962174940898345, 0.42011834319526625, 0.4206161137440758, 0.4211150652431791, 0.42161520190023755, 0.4221165279429251, 0.4226190476190476, 0.42193087008343266, 0.4224343675417661, 0.4217443249701314, 0.4222488038277512, 0.4227544910179641, 0.42326139088729015, 0.4237695078031212, 0.4230769230769231, 0.42358604091456076, 0.42409638554216866, 0.42460796139927626, 0.4251207729468599, 0.42563482466747277, 0.4261501210653753, 0.4266666666666667, 0.42718446601941745, 0.42770352369380316, 0.4282238442822384, 0.4287454323995128, 0.4292682926829268, 0.4297924297924298, 0.43031784841075793, 0.43084455324357407, 0.43137254901960786, 0.43190184049079755, 0.43243243243243246, 0.43296432964329645, 0.43349753694581283, 0.43403205918618987, 0.4345679012345679, 0.43510506798516685, 0.43564356435643564, 0.436183395291202, 0.43672456575682383, 0.4372670807453416, 0.43656716417910446, 0.43711083437110837, 0.4376558603491272, 0.43820224719101125, 0.43875, 0.4380475594493116, 0.43859649122807015, 0.43914680050188204, 0.4396984924623116, 0.44025157232704404, 0.44080604534005036, 0.44136191677175285, 0.44191919191919193, 0.4424778761061947, 0.4430379746835443, 0.4435994930291508, 0.44416243654822335, 0.44472681067344344, 0.44529262086513993, 0.445859872611465, 0.44642857142857145, 0.44699872286079184, 0.4475703324808184, 0.44814340588988477, 0.44871794871794873, 0.4492939666238768, 0.4498714652956298, 0.45045045045045046, 0.45103092783505155, 0.45161290322580644, 0.45219638242894056, 0.45278137128072443, 0.4533678756476684, 0.45265888456549935, 0.45194805194805193, 0.45253576072821844, 0.453125, 0.45241199478487615, 0.45300261096605743, 0.45359477124183006, 0.45287958115183247, 0.4534731323722149, 0.4540682414698163, 0.45466491458607095, 0.45394736842105265, 0.45454545454545453, 0.4551451187335092, 0.4557463672391017, 0.45634920634920634, 0.45695364238410596, 0.45755968169761274, 0.4581673306772908, 0.4587765957446808, 0.459387483355526, 0.46, 0.4606141522029373, 0.45989304812834225, 0.4605087014725569, 0.46112600536193027, 0.46174496644295304, 0.46236559139784944, 0.4629878869448183, 0.4636118598382749, 0.4642375168690958, 0.4648648648648649, 0.4654939106901218, 0.46612466124661245, 0.46675712347354137, 0.46603260869565216, 0.46530612244897956, 0.4659400544959128, 0.4665757162346521, 0.4672131147540984, 0.46785225718194257, 0.4684931506849315, 0.4691358024691358, 0.4684065934065934, 0.469050894085282, 0.4696969696969697, 0.4703448275862069, 0.4696132596685083, 0.4702627939142462, 0.4709141274238227, 0.47156726768377255, 0.4722222222222222, 0.4728789986091794, 0.4735376044568245, 0.47280334728033474, 0.4720670391061452, 0.4727272727272727, 0.4733893557422969, 0.4740532959326788, 0.47331460674157305, 0.4739803094233474, 0.47464788732394364, 0.47390691114245415, 0.4745762711864407, 0.4752475247524752, 0.47592067988668557, 0.4765957446808511, 0.4758522727272727, 0.47652916073968704, 0.4772079772079772, 0.47788873038516405, 0.4785714285714286, 0.47782546494992845, 0.4785100286532951, 0.47919655667144906, 0.47844827586206895, 0.479136690647482, 0.4783861671469741, 0.47763347763347763, 0.47832369942196534, 0.47901591895803186, 0.4797101449275362, 0.47895500725689405, 0.4796511627906977, 0.48034934497816595, 0.48104956268221577, 0.48175182481751827, 0.4824561403508772, 0.48316251830161056, 0.4838709677419355, 0.4845814977973568, 0.4838235294117647, 0.4845360824742268, 0.48525073746312686, 0.4859675036927622, 0.48668639053254437, 0.4874074074074074, 0.48813056379821956, 0.4888558692421991, 0.4880952380952381, 0.488822652757079, 0.4880597014925373, 0.48878923766816146, 0.48952095808383234, 0.49025487256371814, 0.49099099099099097, 0.4917293233082707, 0.4924698795180723, 0.49321266968325794, 0.49395770392749244, 0.4947049924357035, 0.4954545454545455, 0.496206373292868, 0.49544072948328266, 0.4961948249619482, 0.4969512195121951, 0.49770992366412214, 0.4969418960244648, 0.49770290964777947, 0.49693251533742333, 0.4976958525345622, 0.4969230769230769, 0.49768875192604006, 0.4984567901234568, 0.49768160741885625, 0.4984520123839009, 0.4992248062015504, 0.5, 0.49922239502332816, 0.5, 0.500780031201248, 0.5015625, 0.5023474178403756, 0.5031347962382445, 0.5039246467817896, 0.5047169811320755, 0.5039370078740157, 0.5047318611987381, 0.5055292259083728, 0.5063291139240507, 0.5055467511885895, 0.5063492063492063, 0.5071542130365659, 0.5063694267515924, 0.5055821371610846, 0.5047923322683706, 0.5056, 0.5064102564102564, 0.5056179775280899, 0.5064308681672026, 0.5072463768115942, 0.5080645161290323, 0.5088852988691438, 0.5080906148867314, 0.5089141004862237, 0.5097402597402597, 0.5089430894308943, 0.509771986970684, 0.5106035889070146, 0.511437908496732, 0.5106382978723404, 0.5114754098360655, 0.5123152709359606, 0.5131578947368421, 0.514003294892916, 0.5148514851485149, 0.515702479338843, 0.5149006622516556, 0.5157545605306799, 0.5166112956810631, 0.5158069883527454, 0.5166666666666667, 0.5175292153589316, 0.5183946488294314, 0.5192629815745393, 0.5201342281879194, 0.5210084033613446, 0.5218855218855218, 0.5227655986509275, 0.5236486486486487, 0.5245346869712352, 0.5254237288135594, 0.5263157894736842, 0.5272108843537415, 0.5281090289608177, 0.5273037542662116, 0.5264957264957265, 0.5256849315068494, 0.5265866209262435, 0.5274914089347079, 0.5283993115318416, 0.5293103448275862, 0.5284974093264249, 0.5294117647058824, 0.5285961871750433, 0.5295138888888888, 0.5304347826086957, 0.5313588850174216, 0.5305410122164049, 0.5297202797202797, 0.5306479859894921, 0.531578947368421, 0.5325131810193322, 0.5334507042253521, 0.5326278659611993, 0.5335689045936396, 0.5345132743362832, 0.5354609929078015, 0.5346358792184724, 0.5338078291814946, 0.5347593582887701, 0.5357142857142857, 0.5366726296958855, 0.5376344086021505, 0.5385996409335727, 0.5377697841726619, 0.5387387387387388, 0.5397111913357401, 0.5406871609403255, 0.5416666666666666, 0.542649727767695, 0.5418181818181819, 0.5428051001821493, 0.541970802919708, 0.5429616087751371, 0.5421245421245421, 0.5431192660550459, 0.5441176470588235, 0.5451197053406999, 0.5461254612546126, 0.5471349353049908, 0.5481481481481482, 0.549165120593692, 0.550185873605948, 0.5493482309124768, 0.5503731343283582, 0.5495327102803739, 0.550561797752809, 0.549718574108818, 0.5507518796992481, 0.5499058380414312, 0.5509433962264151, 0.5519848771266541, 0.5511363636363636, 0.5521821631878557, 0.5513307984790875, 0.5523809523809524, 0.5515267175572519, 0.5525812619502868, 0.553639846743295, 0.5527831094049904, 0.551923076923077, 0.5510597302504817, 0.5521235521235521, 0.5531914893617021, 0.5542635658914729, 0.5553398058252427, 0.5544747081712063, 0.5536062378167641, 0.5546875, 0.5557729941291585, 0.5568627450980392, 0.555992141453831, 0.5551181102362205, 0.5562130177514792, 0.5553359683794467, 0.5544554455445545, 0.5555555555555556, 0.5566600397614314, 0.5577689243027888, 0.5588822355289421, 0.558, 0.5591182364729459, 0.5582329317269076, 0.5593561368209256, 0.5584677419354839, 0.5575757575757576, 0.5587044534412956, 0.5578093306288032, 0.5589430894308943, 0.5580448065173116, 0.5591836734693878, 0.5603271983640081, 0.5614754098360656, 0.5605749486652978, 0.5596707818930041, 0.5608247422680412, 0.5619834710743802, 0.5631469979296067, 0.5622406639004149, 0.5634095634095634, 0.5625, 0.5636743215031316, 0.5648535564853556, 0.5660377358490566, 0.5672268907563025, 0.5663157894736842, 0.5675105485232067, 0.5665961945031712, 0.565677966101695, 0.5668789808917197, 0.5659574468085107, 0.5671641791044776, 0.5683760683760684, 0.569593147751606, 0.5708154506437768, 0.5698924731182796, 0.5711206896551724, 0.5701943844492441, 0.5714285714285714, 0.5704989154013015, 0.5717391304347826, 0.5729847494553377, 0.574235807860262, 0.5733041575492341, 0.5745614035087719, 0.5758241758241758, 0.5770925110132159, 0.5761589403973509, 0.5752212389380531, 0.5742793791574279, 0.5755555555555556, 0.5746102449888641, 0.5758928571428571, 0.5749440715883669, 0.5762331838565022, 0.5775280898876405, 0.5765765765765766, 0.5756207674943566, 0.5769230769230769, 0.5759637188208617, 0.5772727272727273, 0.5785876993166287, 0.5799086757990868, 0.5789473684210527, 0.5779816513761468, 0.5793103448275863, 0.5783410138248848, 0.5773672055427251, 0.5787037037037037, 0.580046403712297, 0.5813953488372093, 0.5827505827505828, 0.5841121495327103, 0.5831381733021077, 0.5845070422535211, 0.5858823529411765, 0.5849056603773585, 0.5862884160756501, 0.5853080568720379, 0.5866983372921615, 0.5880952380952381, 0.5894988066825776, 0.5909090909090909, 0.592326139088729, 0.5913461538461539, 0.5927710843373494, 0.5942028985507246, 0.5956416464891041, 0.5970873786407767, 0.5985401459854015, 0.5975609756097561, 0.5990220048899756, 0.6004901960784313, 0.5995085995085995, 0.6009852216748769, 0.6024691358024692, 0.6014851485148515, 0.6029776674937966, 0.6044776119402985, 0.6034912718204489, 0.6025, 0.6015037593984962, 0.6030150753768844, 0.6020151133501259, 0.601010101010101, 0.6025316455696202, 0.6015228426395939, 0.6030534351145038, 0.6020408163265306, 0.6035805626598465, 0.6025641025641025, 0.6015424164524421, 0.6005154639175257, 0.6020671834625323, 0.6036269430051814, 0.6025974025974026, 0.6015625, 0.6005221932114883, 0.599476439790576, 0.6010498687664042, 0.6, 0.6015831134564644, 0.6031746031746031, 0.6021220159151194, 0.601063829787234, 0.6026666666666667, 0.6016042780748663, 0.6032171581769437, 0.6048387096774194, 0.6064690026954178, 0.6054054054054054, 0.6070460704607046, 0.6086956521739131, 0.6076294277929155, 0.6065573770491803, 0.6082191780821918, 0.6071428571428571, 0.6088154269972452, 0.6104972375690608, 0.6094182825484764, 0.6083333333333333, 0.6072423398328691, 0.6089385474860335, 0.6078431372549019, 0.6067415730337079, 0.6084507042253521, 0.6101694915254238, 0.6090651558073654, 0.6107954545454546, 0.6096866096866097, 0.6114285714285714, 0.6103151862464183, 0.6120689655172413, 0.6109510086455331, 0.6127167630057804, 0.6144927536231884, 0.6133720930232558, 0.6151603498542274, 0.6169590643274854, 0.6187683284457478, 0.6176470588235294, 0.616519174041298, 0.6153846153846154, 0.6172106824925816, 0.6160714285714286, 0.6179104477611941, 0.6197604790419161, 0.6186186186186187, 0.6174698795180723, 0.6163141993957704, 0.6181818181818182, 0.6200607902735562, 0.6189024390243902, 0.617737003058104, 0.6196319018404908, 0.6184615384615385, 0.6172839506172839, 0.6160990712074303, 0.6180124223602484, 0.6199376947040498, 0.61875, 0.6175548589341693, 0.6194968553459119, 0.6214511041009464, 0.620253164556962, 0.6222222222222222, 0.6242038216560509, 0.6230031948881789, 0.6217948717948718, 0.6237942122186495, 0.6225806451612903, 0.6245954692556634, 0.6266233766233766, 0.6254071661237784, 0.6274509803921569, 0.6262295081967213, 0.6282894736842105, 0.6303630363036303, 0.6291390728476821, 0.6312292358803987, 0.6333333333333333, 0.6321070234113713, 0.6342281879194631, 0.6363636363636364, 0.6385135135135135, 0.6372881355932203, 0.6360544217687075, 0.6382252559726962, 0.636986301369863, 0.6391752577319587, 0.6379310344827587, 0.6366782006920415, 0.6388888888888888, 0.6376306620209059, 0.6398601398601399, 0.6385964912280702, 0.6408450704225352, 0.6395759717314488, 0.6382978723404256, 0.6370106761565836, 0.6357142857142857, 0.6379928315412187, 0.6402877697841727, 0.6389891696750902, 0.6413043478260869, 0.64, 0.6386861313868614, 0.6373626373626373, 0.6397058823529411, 0.6420664206642066, 0.6444444444444445, 0.6431226765799256, 0.6417910447761194, 0.6441947565543071, 0.6466165413533834, 0.6452830188679245, 0.6477272727272727, 0.6463878326996197, 0.6450381679389313, 0.6436781609195402, 0.6423076923076924, 0.640926640926641, 0.6395348837209303, 0.6381322957198443, 0.640625, 0.6431372549019608, 0.6456692913385826, 0.6442687747035574, 0.6468253968253969, 0.6454183266932271, 0.644, 0.642570281124498, 0.6411290322580645, 0.6396761133603239, 0.6382113821138211, 0.6408163265306123, 0.639344262295082, 0.6419753086419753, 0.640495867768595, 0.6431535269709544, 0.6416666666666667, 0.6401673640167364, 0.6386554621848739, 0.6413502109704642, 0.6440677966101694, 0.6425531914893617, 0.6452991452991453, 0.648068669527897, 0.6508620689655172, 0.6493506493506493, 0.6478260869565218, 0.6462882096069869, 0.6447368421052632, 0.6431718061674009, 0.6460176991150443, 0.6444444444444445, 0.6473214285714286, 0.6457399103139013, 0.6441441441441441, 0.6425339366515838, 0.6454545454545455, 0.6438356164383562, 0.6467889908256881, 0.6451612903225806, 0.6481481481481481, 0.6465116279069767, 0.6495327102803738, 0.6525821596244131, 0.6509433962264151, 0.6492890995260664, 0.6523809523809524, 0.6507177033492823, 0.6490384615384616, 0.6521739130434783, 0.6553398058252428, 0.6536585365853659, 0.6568627450980392, 0.6600985221674877, 0.6584158415841584, 0.6616915422885572, 0.665, 0.6633165829145728, 0.6616161616161617, 0.6598984771573604, 0.6581632653061225, 0.6615384615384615, 0.6597938144329897, 0.6580310880829016, 0.65625, 0.6596858638743456, 0.6578947368421053, 0.656084656084656, 0.6595744680851063, 0.6631016042780749, 0.6612903225806451, 0.6594594594594595, 0.6630434782608695, 0.6666666666666666, 0.6703296703296703, 0.6685082872928176, 0.6722222222222223, 0.6703910614525139, 0.6741573033707865, 0.672316384180791, 0.6704545454545454, 0.6685714285714286, 0.6724137931034483, 0.6763005780346821, 0.6744186046511628, 0.672514619883041, 0.6705882352941176, 0.6745562130177515, 0.6785714285714286, 0.6826347305389222, 0.6807228915662651, 0.6787878787878788, 0.676829268292683, 0.6748466257668712, 0.6790123456790124, 0.6770186335403726, 0.675, 0.6792452830188679, 0.6772151898734177, 0.6751592356687898, 0.6730769230769231, 0.6774193548387096, 0.6818181818181818, 0.6797385620915033, 0.6776315789473685, 0.6754966887417219, 0.6733333333333333, 0.6711409395973155, 0.668918918918919, 0.6666666666666666, 0.6712328767123288, 0.6689655172413793, 0.6736111111111112, 0.6713286713286714, 0.6690140845070423, 0.6666666666666666, 0.6714285714285714, 0.6762589928057554, 0.6739130434782609, 0.6715328467153284, 0.6764705882352942, 0.674074074074074, 0.6791044776119403, 0.6766917293233082, 0.6818181818181818, 0.6870229007633588, 0.6923076923076923, 0.6976744186046512, 0.6953125, 0.7007874015748031, 0.7063492063492064, 0.704, 0.7016129032258065, 0.7073170731707317, 0.7049180327868853, 0.7107438016528925, 0.7083333333333334, 0.7058823529411765, 0.7033898305084746, 0.7094017094017094, 0.7155172413793104, 0.7217391304347827, 0.7280701754385965, 0.7256637168141593, 0.7321428571428571, 0.7387387387387387, 0.7363636363636363, 0.7431192660550459, 0.7407407407407407, 0.7383177570093458, 0.7358490566037735, 0.7333333333333333, 0.7307692307692307, 0.7281553398058253, 0.7352941176470589, 0.7326732673267327, 0.74, 0.7474747474747475, 0.7448979591836735, 0.7422680412371134, 0.7395833333333334, 0.7473684210526316, 0.7446808510638298, 0.7526881720430108, 0.75, 0.7472527472527473, 0.7444444444444445, 0.7528089887640449, 0.7613636363636364, 0.7586206896551724, 0.7558139534883721, 0.7529411764705882, 0.75, 0.7469879518072289, 0.7560975609756098, 0.7654320987654321, 0.7625, 0.759493670886076, 0.7564102564102564, 0.7532467532467533, 0.7631578947368421, 0.76, 0.7567567567567568, 0.7534246575342466, 0.75, 0.7464788732394366, 0.7428571428571429, 0.7536231884057971, 0.75, 0.746268656716418, 0.7424242424242424, 0.7384615384615385, 0.734375, 0.7301587301587301, 0.7258064516129032, 0.7213114754098361, 0.7166666666666667, 0.711864406779661, 0.7068965517241379, 0.7017543859649122, 0.6964285714285714, 0.7090909090909091, 0.7037037037037037, 0.6981132075471698, 0.6923076923076923, 0.6862745098039216, 0.7, 0.6938775510204082, 0.6875, 0.6808510638297872, 0.6739130434782609, 0.6888888888888889, 0.6818181818181818, 0.6976744186046512, 0.6904761904761905, 0.7073170731707317, 0.7, 0.6923076923076923, 0.7105263157894737, 0.7027027027027027, 0.7222222222222222, 0.7428571428571429, 0.7647058823529411, 0.7878787878787878, 0.78125, 0.7741935483870968, 0.7666666666666667, 0.7586206896551724, 0.75, 0.7407407407407407, 0.7692307692307693, 0.8, 0.8333333333333334, 0.8695652173913043, 0.8636363636363636, 0.8571428571428571, 0.85, 0.8421052631578947, 0.8333333333333334, 0.8235294117647058, 0.8125, 0.8, 0.7857142857142857, 0.7692307692307693, 0.75, 0.8181818181818182, 0.8, 0.7777777777777778, 0.75, 0.7142857142857143, 0.6666666666666666, 0.8, 0.75, 0.6666666666666666, 0.5, 0.0, 1.0]}, {\"mode\": \"lines\", \"name\": \"GNB\", \"type\": \"scatter\", \"x\": [1.0, 0.9973262032085561, 0.9973262032085561, 0.9973262032085561, 0.9973262032085561, 0.9973262032085561, 0.9973262032085561, 0.9973262032085561, 0.9973262032085561, 0.9973262032085561, 0.9973262032085561, 0.9973262032085561, 0.9973262032085561, 0.9973262032085561, 0.9973262032085561, 0.9973262032085561, 0.9973262032085561, 0.9973262032085561, 0.9973262032085561, 0.9973262032085561, 0.9973262032085561, 0.9973262032085561, 0.9973262032085561, 0.9973262032085561, 0.9973262032085561, 0.9973262032085561, 0.9973262032085561, 0.9973262032085561, 0.9973262032085561, 0.9973262032085561, 0.9973262032085561, 0.9973262032085561, 0.9973262032085561, 0.9973262032085561, 0.9973262032085561, 0.9973262032085561, 0.9973262032085561, 0.9973262032085561, 0.9973262032085561, 0.9973262032085561, 0.9973262032085561, 0.9973262032085561, 0.9973262032085561, 0.9973262032085561, 0.9973262032085561, 0.9973262032085561, 0.9973262032085561, 0.9973262032085561, 0.9973262032085561, 0.9973262032085561, 0.9973262032085561, 0.9973262032085561, 0.9973262032085561, 0.9973262032085561, 0.9973262032085561, 0.9973262032085561, 0.9973262032085561, 0.9973262032085561, 0.9973262032085561, 0.9973262032085561, 0.9973262032085561, 0.9973262032085561, 0.9973262032085561, 0.9973262032085561, 0.9973262032085561, 0.9973262032085561, 0.9973262032085561, 0.9973262032085561, 0.9973262032085561, 0.9973262032085561, 0.9973262032085561, 0.9973262032085561, 0.9973262032085561, 0.9973262032085561, 0.9973262032085561, 0.9973262032085561, 0.9973262032085561, 0.9973262032085561, 0.9946524064171123, 0.9946524064171123, 0.9946524064171123, 0.9946524064171123, 0.9946524064171123, 0.9946524064171123, 0.9946524064171123, 0.9946524064171123, 0.9946524064171123, 0.9946524064171123, 0.9946524064171123, 0.9946524064171123, 0.9946524064171123, 0.9946524064171123, 0.9946524064171123, 0.9946524064171123, 0.9946524064171123, 0.9946524064171123, 0.9946524064171123, 0.9946524064171123, 0.9946524064171123, 0.9946524064171123, 0.9946524064171123, 0.9946524064171123, 0.9946524064171123, 0.9946524064171123, 0.9946524064171123, 0.9946524064171123, 0.9946524064171123, 0.9946524064171123, 0.9946524064171123, 0.9946524064171123, 0.9946524064171123, 0.9946524064171123, 0.9946524064171123, 0.9946524064171123, 0.9946524064171123, 0.9946524064171123, 0.9946524064171123, 0.9946524064171123, 0.9946524064171123, 0.9946524064171123, 0.9946524064171123, 0.9919786096256684, 0.9893048128342246, 0.9893048128342246, 0.9893048128342246, 0.9893048128342246, 0.9893048128342246, 0.9893048128342246, 0.9866310160427807, 0.9866310160427807, 0.9866310160427807, 0.9866310160427807, 0.9866310160427807, 0.9866310160427807, 0.9866310160427807, 0.9866310160427807, 0.983957219251337, 0.983957219251337, 0.983957219251337, 0.983957219251337, 0.983957219251337, 0.983957219251337, 0.983957219251337, 0.983957219251337, 0.983957219251337, 0.983957219251337, 0.983957219251337, 0.983957219251337, 0.983957219251337, 0.983957219251337, 0.983957219251337, 0.983957219251337, 0.983957219251337, 0.983957219251337, 0.983957219251337, 0.9812834224598931, 0.9812834224598931, 0.9812834224598931, 0.9812834224598931, 0.9812834224598931, 0.9812834224598931, 0.9812834224598931, 0.9812834224598931, 0.9812834224598931, 0.9812834224598931, 0.9812834224598931, 0.9812834224598931, 0.9812834224598931, 0.9812834224598931, 0.9812834224598931, 0.9786096256684492, 0.9786096256684492, 0.9786096256684492, 0.9759358288770054, 0.9759358288770054, 0.9759358288770054, 0.9732620320855615, 0.9705882352941176, 0.9705882352941176, 0.9705882352941176, 0.9705882352941176, 0.9679144385026738, 0.9679144385026738, 0.9679144385026738, 0.9652406417112299, 0.9652406417112299, 0.9652406417112299, 0.9652406417112299, 0.9652406417112299, 0.9652406417112299, 0.9625668449197861, 0.9625668449197861, 0.9598930481283422, 0.9598930481283422, 0.9598930481283422, 0.9598930481283422, 0.9598930481283422, 0.9572192513368984, 0.9545454545454546, 0.9545454545454546, 0.9518716577540107, 0.9518716577540107, 0.9518716577540107, 0.9518716577540107, 0.9518716577540107, 0.9518716577540107, 0.9518716577540107, 0.9518716577540107, 0.9518716577540107, 0.9518716577540107, 0.9491978609625669, 0.9491978609625669, 0.946524064171123, 0.946524064171123, 0.9438502673796791, 0.9438502673796791, 0.9411764705882353, 0.9411764705882353, 0.9385026737967914, 0.9385026737967914, 0.9385026737967914, 0.9385026737967914, 0.9385026737967914, 0.9385026737967914, 0.9385026737967914, 0.9385026737967914, 0.9385026737967914, 0.9385026737967914, 0.9385026737967914, 0.9385026737967914, 0.9385026737967914, 0.9385026737967914, 0.9385026737967914, 0.9385026737967914, 0.9385026737967914, 0.9385026737967914, 0.9385026737967914, 0.9385026737967914, 0.9385026737967914, 0.9385026737967914, 0.9385026737967914, 0.9385026737967914, 0.9385026737967914, 0.9385026737967914, 0.9385026737967914, 0.9385026737967914, 0.9385026737967914, 0.9385026737967914, 0.9385026737967914, 0.9385026737967914, 0.9385026737967914, 0.9385026737967914, 0.9385026737967914, 0.9385026737967914, 0.9385026737967914, 0.9385026737967914, 0.9385026737967914, 0.9385026737967914, 0.9385026737967914, 0.9385026737967914, 0.9385026737967914, 0.9385026737967914, 0.9385026737967914, 0.9385026737967914, 0.9385026737967914, 0.9385026737967914, 0.9385026737967914, 0.9385026737967914, 0.9385026737967914, 0.9385026737967914, 0.9385026737967914, 0.9385026737967914, 0.9385026737967914, 0.9385026737967914, 0.9385026737967914, 0.9385026737967914, 0.9385026737967914, 0.9385026737967914, 0.9385026737967914, 0.9385026737967914, 0.9385026737967914, 0.9385026737967914, 0.9385026737967914, 0.9385026737967914, 0.9385026737967914, 0.9385026737967914, 0.9385026737967914, 0.9385026737967914, 0.9385026737967914, 0.9385026737967914, 0.9385026737967914, 0.9385026737967914, 0.9385026737967914, 0.9385026737967914, 0.9385026737967914, 0.9385026737967914, 0.9385026737967914, 0.9385026737967914, 0.9385026737967914, 0.9385026737967914, 0.9385026737967914, 0.9385026737967914, 0.9385026737967914, 0.9385026737967914, 0.9385026737967914, 0.9385026737967914, 0.9385026737967914, 0.9385026737967914, 0.9385026737967914, 0.9385026737967914, 0.9385026737967914, 0.9385026737967914, 0.9385026737967914, 0.9385026737967914, 0.9385026737967914, 0.9385026737967914, 0.9385026737967914, 0.9385026737967914, 0.9385026737967914, 0.9385026737967914, 0.9385026737967914, 0.9385026737967914, 0.9385026737967914, 0.9385026737967914, 0.9385026737967914, 0.9385026737967914, 0.9385026737967914, 0.9385026737967914, 0.9385026737967914, 0.9358288770053476, 0.9358288770053476, 0.9358288770053476, 0.9358288770053476, 0.9358288770053476, 0.9358288770053476, 0.9358288770053476, 0.9358288770053476, 0.9358288770053476, 0.9358288770053476, 0.9358288770053476, 0.9358288770053476, 0.9358288770053476, 0.9358288770053476, 0.9358288770053476, 0.9358288770053476, 0.9358288770053476, 0.9358288770053476, 0.9358288770053476, 0.9358288770053476, 0.9358288770053476, 0.9358288770053476, 0.9358288770053476, 0.9358288770053476, 0.9358288770053476, 0.9358288770053476, 0.9358288770053476, 0.9358288770053476, 0.9358288770053476, 0.9358288770053476, 0.9358288770053476, 0.9358288770053476, 0.9358288770053476, 0.9358288770053476, 0.9358288770053476, 0.9358288770053476, 0.9358288770053476, 0.9358288770053476, 0.9358288770053476, 0.9358288770053476, 0.9358288770053476, 0.9358288770053476, 0.9358288770053476, 0.9358288770053476, 0.9358288770053476, 0.9358288770053476, 0.9358288770053476, 0.9358288770053476, 0.9358288770053476, 0.9358288770053476, 0.9358288770053476, 0.9331550802139037, 0.9331550802139037, 0.93048128342246, 0.93048128342246, 0.93048128342246, 0.93048128342246, 0.93048128342246, 0.93048128342246, 0.93048128342246, 0.93048128342246, 0.93048128342246, 0.93048128342246, 0.93048128342246, 0.93048128342246, 0.93048128342246, 0.93048128342246, 0.93048128342246, 0.93048128342246, 0.93048128342246, 0.93048128342246, 0.93048128342246, 0.93048128342246, 0.93048128342246, 0.93048128342246, 0.93048128342246, 0.93048128342246, 0.93048128342246, 0.93048128342246, 0.93048128342246, 0.9278074866310161, 0.9251336898395722, 0.9224598930481284, 0.9224598930481284, 0.9224598930481284, 0.9224598930481284, 0.9224598930481284, 0.9224598930481284, 0.9224598930481284, 0.9224598930481284, 0.9224598930481284, 0.9224598930481284, 0.9224598930481284, 0.9224598930481284, 0.9224598930481284, 0.9224598930481284, 0.9224598930481284, 0.9224598930481284, 0.9197860962566845, 0.9197860962566845, 0.9197860962566845, 0.9197860962566845, 0.9197860962566845, 0.9197860962566845, 0.9197860962566845, 0.9197860962566845, 0.9197860962566845, 0.9197860962566845, 0.9197860962566845, 0.9197860962566845, 0.9197860962566845, 0.9197860962566845, 0.9197860962566845, 0.9171122994652406, 0.9171122994652406, 0.9171122994652406, 0.9171122994652406, 0.9171122994652406, 0.9171122994652406, 0.9171122994652406, 0.9171122994652406, 0.9171122994652406, 0.9171122994652406, 0.9144385026737968, 0.9144385026737968, 0.9144385026737968, 0.9144385026737968, 0.9144385026737968, 0.9144385026737968, 0.9144385026737968, 0.9144385026737968, 0.9144385026737968, 0.9144385026737968, 0.9144385026737968, 0.9144385026737968, 0.9144385026737968, 0.9144385026737968, 0.9144385026737968, 0.9144385026737968, 0.9117647058823529, 0.9117647058823529, 0.9117647058823529, 0.9117647058823529, 0.9117647058823529, 0.9117647058823529, 0.9117647058823529, 0.9117647058823529, 0.9117647058823529, 0.9117647058823529, 0.9117647058823529, 0.9117647058823529, 0.9117647058823529, 0.9117647058823529, 0.9117647058823529, 0.9117647058823529, 0.9117647058823529, 0.9117647058823529, 0.9117647058823529, 0.9090909090909091, 0.9090909090909091, 0.9090909090909091, 0.9090909090909091, 0.9090909090909091, 0.9090909090909091, 0.9090909090909091, 0.9090909090909091, 0.9090909090909091, 0.9090909090909091, 0.9090909090909091, 0.9090909090909091, 0.9090909090909091, 0.9090909090909091, 0.9090909090909091, 0.9090909090909091, 0.9090909090909091, 0.9090909090909091, 0.9090909090909091, 0.9090909090909091, 0.9090909090909091, 0.9090909090909091, 0.9090909090909091, 0.9090909090909091, 0.9090909090909091, 0.9090909090909091, 0.9090909090909091, 0.9090909090909091, 0.9090909090909091, 0.9090909090909091, 0.9090909090909091, 0.9090909090909091, 0.9090909090909091, 0.9090909090909091, 0.9090909090909091, 0.9064171122994652, 0.9064171122994652, 0.9064171122994652, 0.9064171122994652, 0.9064171122994652, 0.9064171122994652, 0.9064171122994652, 0.9064171122994652, 0.9037433155080213, 0.9037433155080213, 0.9037433155080213, 0.9037433155080213, 0.9037433155080213, 0.9037433155080213, 0.9037433155080213, 0.9037433155080213, 0.9037433155080213, 0.9037433155080213, 0.9010695187165776, 0.9010695187165776, 0.9010695187165776, 0.8983957219251337, 0.8957219251336899, 0.8957219251336899, 0.893048128342246, 0.893048128342246, 0.893048128342246, 0.893048128342246, 0.893048128342246, 0.893048128342246, 0.8903743315508021, 0.8903743315508021, 0.8903743315508021, 0.8903743315508021, 0.8903743315508021, 0.8903743315508021, 0.8903743315508021, 0.8877005347593583, 0.8850267379679144, 0.8823529411764706, 0.8796791443850267, 0.8770053475935828, 0.8743315508021391, 0.8743315508021391, 0.8743315508021391, 0.8716577540106952, 0.8716577540106952, 0.8716577540106952, 0.8716577540106952, 0.8716577540106952, 0.8716577540106952, 0.8689839572192514, 0.8689839572192514, 0.8689839572192514, 0.8689839572192514, 0.8689839572192514, 0.8689839572192514, 0.8663101604278075, 0.8663101604278075, 0.8663101604278075, 0.8663101604278075, 0.8663101604278075, 0.8663101604278075, 0.8663101604278075, 0.8663101604278075, 0.8663101604278075, 0.8663101604278075, 0.8663101604278075, 0.8636363636363636, 0.8636363636363636, 0.8636363636363636, 0.8636363636363636, 0.8609625668449198, 0.8609625668449198, 0.8582887700534759, 0.8582887700534759, 0.8582887700534759, 0.8582887700534759, 0.8582887700534759, 0.8582887700534759, 0.8582887700534759, 0.8582887700534759, 0.8582887700534759, 0.8582887700534759, 0.8582887700534759, 0.8582887700534759, 0.8582887700534759, 0.8556149732620321, 0.8556149732620321, 0.8556149732620321, 0.8556149732620321, 0.8529411764705882, 0.8502673796791443, 0.8502673796791443, 0.8502673796791443, 0.8475935828877005, 0.8475935828877005, 0.8475935828877005, 0.8475935828877005, 0.8475935828877005, 0.8475935828877005, 0.8475935828877005, 0.8475935828877005, 0.8475935828877005, 0.8475935828877005, 0.8475935828877005, 0.8475935828877005, 0.8475935828877005, 0.8475935828877005, 0.8475935828877005, 0.8475935828877005, 0.8449197860962567, 0.8449197860962567, 0.8449197860962567, 0.8449197860962567, 0.8449197860962567, 0.8449197860962567, 0.8449197860962567, 0.8449197860962567, 0.8449197860962567, 0.8449197860962567, 0.8449197860962567, 0.8422459893048129, 0.8422459893048129, 0.839572192513369, 0.8368983957219251, 0.8368983957219251, 0.8368983957219251, 0.8368983957219251, 0.8368983957219251, 0.8368983957219251, 0.8368983957219251, 0.8368983957219251, 0.8368983957219251, 0.8368983957219251, 0.8368983957219251, 0.8368983957219251, 0.8368983957219251, 0.8368983957219251, 0.8368983957219251, 0.8368983957219251, 0.8368983957219251, 0.8368983957219251, 0.8342245989304813, 0.8342245989304813, 0.8342245989304813, 0.8342245989304813, 0.8342245989304813, 0.8342245989304813, 0.8342245989304813, 0.8342245989304813, 0.8342245989304813, 0.8342245989304813, 0.8342245989304813, 0.8342245989304813, 0.8315508021390374, 0.8315508021390374, 0.8315508021390374, 0.8315508021390374, 0.8315508021390374, 0.8315508021390374, 0.8288770053475936, 0.8288770053475936, 0.8288770053475936, 0.8288770053475936, 0.8288770053475936, 0.8288770053475936, 0.8288770053475936, 0.8262032085561497, 0.8235294117647058, 0.8235294117647058, 0.820855614973262, 0.8181818181818182, 0.8181818181818182, 0.8181818181818182, 0.8181818181818182, 0.8181818181818182, 0.8181818181818182, 0.8155080213903744, 0.8128342245989305, 0.8128342245989305, 0.8128342245989305, 0.8101604278074866, 0.8101604278074866, 0.8101604278074866, 0.8101604278074866, 0.8101604278074866, 0.8101604278074866, 0.8101604278074866, 0.8101604278074866, 0.8074866310160428, 0.8074866310160428, 0.8074866310160428, 0.8074866310160428, 0.8074866310160428, 0.8074866310160428, 0.8048128342245989, 0.8048128342245989, 0.8048128342245989, 0.8048128342245989, 0.8048128342245989, 0.8048128342245989, 0.8021390374331551, 0.7994652406417112, 0.7994652406417112, 0.7994652406417112, 0.7994652406417112, 0.7994652406417112, 0.7994652406417112, 0.7994652406417112, 0.7994652406417112, 0.7967914438502673, 0.7941176470588235, 0.7914438502673797, 0.7914438502673797, 0.7914438502673797, 0.7914438502673797, 0.7914438502673797, 0.7887700534759359, 0.786096256684492, 0.786096256684492, 0.7834224598930482, 0.7834224598930482, 0.7834224598930482, 0.7834224598930482, 0.7834224598930482, 0.7834224598930482, 0.7834224598930482, 0.7834224598930482, 0.7834224598930482, 0.7807486631016043, 0.7807486631016043, 0.7807486631016043, 0.7807486631016043, 0.7807486631016043, 0.7807486631016043, 0.7807486631016043, 0.7807486631016043, 0.7807486631016043, 0.7807486631016043, 0.7807486631016043, 0.7807486631016043, 0.7807486631016043, 0.7807486631016043, 0.7807486631016043, 0.7780748663101604, 0.7780748663101604, 0.7754010695187166, 0.7754010695187166, 0.7754010695187166, 0.7754010695187166, 0.7727272727272727, 0.7727272727272727, 0.7727272727272727, 0.7727272727272727, 0.7727272727272727, 0.7727272727272727, 0.7727272727272727, 0.7727272727272727, 0.7727272727272727, 0.7727272727272727, 0.7727272727272727, 0.7727272727272727, 0.7727272727272727, 0.7727272727272727, 0.7727272727272727, 0.7727272727272727, 0.7727272727272727, 0.7727272727272727, 0.7700534759358288, 0.7700534759358288, 0.7700534759358288, 0.767379679144385, 0.767379679144385, 0.7647058823529411, 0.7620320855614974, 0.7620320855614974, 0.7593582887700535, 0.7593582887700535, 0.7566844919786097, 0.7566844919786097, 0.7540106951871658, 0.7513368983957219, 0.7513368983957219, 0.7513368983957219, 0.7513368983957219, 0.7513368983957219, 0.7513368983957219, 0.7486631016042781, 0.7486631016042781, 0.7459893048128342, 0.7433155080213903, 0.7433155080213903, 0.7433155080213903, 0.7433155080213903, 0.7433155080213903, 0.7433155080213903, 0.7433155080213903, 0.7406417112299465, 0.7379679144385026, 0.7352941176470589, 0.732620320855615, 0.7299465240641712, 0.7299465240641712, 0.7299465240641712, 0.7272727272727273, 0.7272727272727273, 0.7272727272727273, 0.7272727272727273, 0.7272727272727273, 0.7245989304812834, 0.7245989304812834, 0.7219251336898396, 0.7219251336898396, 0.7219251336898396, 0.7219251336898396, 0.7219251336898396, 0.7219251336898396, 0.7192513368983957, 0.7165775401069518, 0.7165775401069518, 0.7165775401069518, 0.7165775401069518, 0.7165775401069518, 0.713903743315508, 0.713903743315508, 0.713903743315508, 0.713903743315508, 0.713903743315508, 0.7112299465240641, 0.7085561497326203, 0.7058823529411765, 0.7032085561497327, 0.7005347593582888, 0.6978609625668449, 0.6978609625668449, 0.6951871657754011, 0.6951871657754011, 0.6925133689839572, 0.6925133689839572, 0.6925133689839572, 0.6925133689839572, 0.6898395721925134, 0.6871657754010695, 0.6871657754010695, 0.6871657754010695, 0.6871657754010695, 0.6871657754010695, 0.6871657754010695, 0.6871657754010695, 0.6844919786096256, 0.6844919786096256, 0.6818181818181818, 0.679144385026738, 0.6764705882352942, 0.6764705882352942, 0.6737967914438503, 0.6737967914438503, 0.6711229946524064, 0.6684491978609626, 0.6684491978609626, 0.6684491978609626, 0.6657754010695187, 0.6657754010695187, 0.6657754010695187, 0.6631016042780749, 0.6631016042780749, 0.6631016042780749, 0.660427807486631, 0.660427807486631, 0.660427807486631, 0.6577540106951871, 0.6577540106951871, 0.6577540106951871, 0.6550802139037433, 0.6550802139037433, 0.6550802139037433, 0.6524064171122995, 0.6497326203208557, 0.6497326203208557, 0.6497326203208557, 0.6497326203208557, 0.6497326203208557, 0.6470588235294118, 0.6470588235294118, 0.6470588235294118, 0.6470588235294118, 0.6470588235294118, 0.6470588235294118, 0.6443850267379679, 0.6417112299465241, 0.6417112299465241, 0.6417112299465241, 0.6390374331550802, 0.6390374331550802, 0.6390374331550802, 0.6390374331550802, 0.6390374331550802, 0.6363636363636364, 0.6336898395721925, 0.6336898395721925, 0.6310160427807486, 0.6283422459893048, 0.6256684491978609, 0.6229946524064172, 0.6229946524064172, 0.6229946524064172, 0.6203208556149733, 0.6176470588235294, 0.6176470588235294, 0.6176470588235294, 0.6149732620320856, 0.6149732620320856, 0.6149732620320856, 0.6122994652406417, 0.6122994652406417, 0.6096256684491979, 0.6096256684491979, 0.6096256684491979, 0.606951871657754, 0.6042780748663101, 0.6042780748663101, 0.6016042780748663, 0.6016042780748663, 0.5989304812834224, 0.5989304812834224, 0.5962566844919787, 0.5962566844919787, 0.5935828877005348, 0.5909090909090909, 0.5882352941176471, 0.5882352941176471, 0.5882352941176471, 0.5855614973262032, 0.5828877005347594, 0.5828877005347594, 0.5802139037433155, 0.5775401069518716, 0.5748663101604278, 0.5721925133689839, 0.5721925133689839, 0.5721925133689839, 0.56951871657754, 0.56951871657754, 0.56951871657754, 0.56951871657754, 0.5668449197860963, 0.5641711229946524, 0.5641711229946524, 0.5614973262032086, 0.5588235294117647, 0.5588235294117647, 0.5561497326203209, 0.5561497326203209, 0.553475935828877, 0.553475935828877, 0.5508021390374331, 0.5508021390374331, 0.5508021390374331, 0.5508021390374331, 0.5508021390374331, 0.5508021390374331, 0.5481283422459893, 0.5454545454545454, 0.5427807486631016, 0.5427807486631016, 0.5427807486631016, 0.5401069518716578, 0.5401069518716578, 0.5401069518716578, 0.5374331550802139, 0.5347593582887701, 0.5347593582887701, 0.5347593582887701, 0.5347593582887701, 0.5320855614973262, 0.5294117647058824, 0.5267379679144385, 0.5240641711229946, 0.5240641711229946, 0.5240641711229946, 0.5240641711229946, 0.5213903743315508, 0.5187165775401069, 0.5187165775401069, 0.5187165775401069, 0.516042780748663, 0.5133689839572193, 0.5106951871657754, 0.5106951871657754, 0.5106951871657754, 0.5080213903743316, 0.5080213903743316, 0.5053475935828877, 0.5026737967914439, 0.5, 0.49732620320855614, 0.4946524064171123, 0.4919786096256685, 0.4893048128342246, 0.4893048128342246, 0.48663101604278075, 0.4839572192513369, 0.48128342245989303, 0.4786096256684492, 0.4786096256684492, 0.47593582887700536, 0.4732620320855615, 0.4732620320855615, 0.47058823529411764, 0.4679144385026738, 0.46524064171123, 0.4625668449197861, 0.45989304812834225, 0.45989304812834225, 0.45989304812834225, 0.45989304812834225, 0.45989304812834225, 0.4572192513368984, 0.45454545454545453, 0.45454545454545453, 0.45187165775401067, 0.45187165775401067, 0.45187165775401067, 0.45187165775401067, 0.44919786096256686, 0.44919786096256686, 0.446524064171123, 0.44385026737967914, 0.4411764705882353, 0.4411764705882353, 0.4385026737967914, 0.4358288770053476, 0.4358288770053476, 0.43315508021390375, 0.4304812834224599, 0.42780748663101603, 0.42513368983957217, 0.42513368983957217, 0.42513368983957217, 0.42245989304812837, 0.4197860962566845, 0.4197860962566845, 0.41711229946524064, 0.41711229946524064, 0.4144385026737968, 0.4144385026737968, 0.4117647058823529, 0.4090909090909091, 0.40641711229946526, 0.40641711229946526, 0.40641711229946526, 0.40641711229946526, 0.40641711229946526, 0.40641711229946526, 0.4037433155080214, 0.40106951871657753, 0.40106951871657753, 0.40106951871657753, 0.3983957219251337, 0.39572192513368987, 0.393048128342246, 0.39037433155080214, 0.3877005347593583, 0.3877005347593583, 0.3850267379679144, 0.38235294117647056, 0.37967914438502676, 0.3770053475935829, 0.37433155080213903, 0.37433155080213903, 0.37433155080213903, 0.3716577540106952, 0.3689839572192513, 0.3689839572192513, 0.3689839572192513, 0.3663101604278075, 0.36363636363636365, 0.36363636363636365, 0.3609625668449198, 0.3609625668449198, 0.3582887700534759, 0.3582887700534759, 0.3582887700534759, 0.3582887700534759, 0.35561497326203206, 0.35561497326203206, 0.35561497326203206, 0.35561497326203206, 0.35294117647058826, 0.3502673796791444, 0.3502673796791444, 0.3502673796791444, 0.34759358288770054, 0.3449197860962567, 0.3422459893048128, 0.339572192513369, 0.339572192513369, 0.339572192513369, 0.33689839572192515, 0.3342245989304813, 0.3315508021390374, 0.32887700534759357, 0.32620320855614976, 0.3235294117647059, 0.3235294117647059, 0.3235294117647059, 0.32085561497326204, 0.3181818181818182, 0.3155080213903743, 0.31283422459893045, 0.31283422459893045, 0.31283422459893045, 0.31016042780748665, 0.3074866310160428, 0.3048128342245989, 0.3048128342245989, 0.3048128342245989, 0.30213903743315507, 0.2994652406417112, 0.2967914438502674, 0.29411764705882354, 0.29411764705882354, 0.29411764705882354, 0.2914438502673797, 0.2914438502673797, 0.2914438502673797, 0.2914438502673797, 0.2914438502673797, 0.2887700534759358, 0.28609625668449196, 0.28342245989304815, 0.2807486631016043, 0.2807486631016043, 0.27807486631016043, 0.27807486631016043, 0.27540106951871657, 0.2727272727272727, 0.2700534759358289, 0.2700534759358289, 0.2700534759358289, 0.26737967914438504, 0.26737967914438504, 0.2647058823529412, 0.2647058823529412, 0.2620320855614973, 0.2620320855614973, 0.2620320855614973, 0.2620320855614973, 0.25935828877005346, 0.25668449197860965, 0.2540106951871658, 0.25133689839572193, 0.24866310160427807, 0.24866310160427807, 0.24866310160427807, 0.24598930481283424, 0.24331550802139038, 0.24331550802139038, 0.24331550802139038, 0.24331550802139038, 0.24331550802139038, 0.24331550802139038, 0.24064171122994651, 0.24064171122994651, 0.24064171122994651, 0.24064171122994651, 0.24064171122994651, 0.24064171122994651, 0.23796791443850268, 0.23529411764705882, 0.232620320855615, 0.232620320855615, 0.232620320855615, 0.22994652406417113, 0.22994652406417113, 0.22727272727272727, 0.22459893048128343, 0.22192513368983957, 0.22192513368983957, 0.22192513368983957, 0.22192513368983957, 0.2192513368983957, 0.21657754010695188, 0.21390374331550802, 0.21122994652406418, 0.21122994652406418, 0.20855614973262032, 0.20588235294117646, 0.20320855614973263, 0.20053475935828877, 0.20053475935828877, 0.20053475935828877, 0.19786096256684493, 0.19518716577540107, 0.1925133689839572, 0.18983957219251338, 0.18716577540106952, 0.18716577540106952, 0.18449197860962566, 0.18181818181818182, 0.18181818181818182, 0.18181818181818182, 0.17914438502673796, 0.17647058823529413, 0.17647058823529413, 0.17379679144385027, 0.17379679144385027, 0.17379679144385027, 0.1711229946524064, 0.16844919786096257, 0.1657754010695187, 0.16310160427807488, 0.16042780748663102, 0.15775401069518716, 0.15508021390374332, 0.15240641711229946, 0.1497326203208556, 0.14705882352941177, 0.1443850267379679, 0.14171122994652408, 0.14171122994652408, 0.13903743315508021, 0.13636363636363635, 0.13636363636363635, 0.13368983957219252, 0.13101604278074866, 0.12834224598930483, 0.12566844919786097, 0.12566844919786097, 0.12299465240641712, 0.12299465240641712, 0.12032085561497326, 0.11764705882352941, 0.11497326203208556, 0.11229946524064172, 0.10962566844919786, 0.10695187165775401, 0.10427807486631016, 0.10160427807486631, 0.09893048128342247, 0.0962566844919786, 0.09358288770053476, 0.09090909090909091, 0.09090909090909091, 0.09090909090909091, 0.08823529411764706, 0.08823529411764706, 0.0855614973262032, 0.0855614973262032, 0.08288770053475936, 0.08021390374331551, 0.07754010695187166, 0.0748663101604278, 0.07219251336898395, 0.07219251336898395, 0.07219251336898395, 0.07219251336898395, 0.07219251336898395, 0.06951871657754011, 0.06951871657754011, 0.06684491978609626, 0.06417112299465241, 0.06417112299465241, 0.06149732620320856, 0.058823529411764705, 0.05614973262032086, 0.053475935828877004, 0.05080213903743316, 0.0481283422459893, 0.045454545454545456, 0.045454545454545456, 0.045454545454545456, 0.0427807486631016, 0.0427807486631016, 0.0427807486631016, 0.040106951871657755, 0.0374331550802139, 0.0374331550802139, 0.034759358288770054, 0.03208556149732621, 0.029411764705882353, 0.026737967914438502, 0.02406417112299465, 0.0213903743315508, 0.0213903743315508, 0.0213903743315508, 0.01871657754010695, 0.016042780748663103, 0.013368983957219251, 0.013368983957219251, 0.0106951871657754, 0.008021390374331552, 0.0053475935828877, 0.00267379679144385, 0.0], \"y\": [0.2839787395596052, 0.28343465045592703, 0.28365019011406845, 0.2838660578386606, 0.2840822543792841, 0.2842987804878049, 0.28451563691838294, 0.28473282442748094, 0.2849503437738732, 0.2851681957186544, 0.28538638102524866, 0.28560490045941805, 0.285823754789272, 0.2860429447852761, 0.28626247122026094, 0.28648233486943164, 0.28670253651037664, 0.28692307692307695, 0.28714395688991534, 0.28736517719568566, 0.28758673862760215, 0.28780864197530864, 0.28803088803088805, 0.2882534775888717, 0.288476411446249, 0.2886996904024768, 0.2889233152594888, 0.28914728682170543, 0.28937160589604344, 0.28959627329192544, 0.2898212898212898, 0.2900466562986003, 0.29027237354085605, 0.29049844236760125, 0.2907248636009353, 0.2909516380655226, 0.29117876658860264, 0.29140625, 0.29163408913213446, 0.2918622848200313, 0.2920908379013312, 0.29231974921630094, 0.29254901960784313, 0.29277864992150704, 0.29300864100549884, 0.29323899371069184, 0.2934697088906373, 0.2937007874015748, 0.29393223010244285, 0.2941640378548896, 0.2943962115232833, 0.29462875197472355, 0.2948616600790514, 0.2950949367088608, 0.2953285827395091, 0.29556259904912835, 0.295796986518636, 0.29603174603174603, 0.2962668784749801, 0.29650238473767887, 0.2967382657120127, 0.29697452229299365, 0.2972111553784861, 0.2974481658692185, 0.29768555466879487, 0.2979233226837061, 0.2981614708233413, 0.2984, 0.2986389111289031, 0.2988782051282051, 0.2991178829190056, 0.29935794542536115, 0.2995983935742972, 0.29983922829581994, 0.3000804505229284, 0.3003220611916264, 0.3005640612409347, 0.3008064516129032, 0.30024213075060535, 0.30048465266558966, 0.30072756669361356, 0.30097087378640774, 0.30121457489878545, 0.3014586709886548, 0.30170316301703165, 0.30194805194805197, 0.3021933387489846, 0.3024390243902439, 0.30268510984540276, 0.30293159609120524, 0.30317848410757947, 0.3034257748776509, 0.3036734693877551, 0.30392156862745096, 0.3041700735895339, 0.3044189852700491, 0.3046683046683047, 0.30491803278688523, 0.3051681706316653, 0.3054187192118227, 0.3056696795398521, 0.3059210526315789, 0.30617283950617286, 0.30642504118616143, 0.30667765869744434, 0.3069306930693069, 0.30718414533443433, 0.3074380165289256, 0.3076923076923077, 0.3079470198675497, 0.30820215410107704, 0.30845771144278605, 0.3087136929460581, 0.3089700996677741, 0.3092269326683292, 0.30948419301164726, 0.3097418817651957, 0.31, 0.3102585487906589, 0.3105175292153589, 0.3107769423558897, 0.3102006688963211, 0.30962343096234307, 0.3098827470686767, 0.3101424979044426, 0.3104026845637584, 0.31066330814441645, 0.31092436974789917, 0.3103448275862069, 0.3106060606060606, 0.3108677337826453, 0.3111298482293423, 0.31139240506329113, 0.31165540540540543, 0.31191885038038886, 0.31218274111675126, 0.31160033869602033, 0.31186440677966104, 0.31212892281594573, 0.31239388794567063, 0.31265930331350894, 0.3129251700680272, 0.3131914893617021, 0.313458262350937, 0.3137254901960784, 0.31399317406143346, 0.3142613151152861, 0.3145299145299145, 0.31479897348160824, 0.3150684931506849, 0.31533847472150817, 0.3156089193825043, 0.3158798283261803, 0.3161512027491409, 0.3164230438521066, 0.3158347676419966, 0.3161068044788975, 0.3163793103448276, 0.3166522864538395, 0.3169257340241796, 0.317199654278306, 0.31747404844290655, 0.3177489177489177, 0.31802426343154244, 0.3183000867302689, 0.3185763888888889, 0.3188531711555169, 0.3191304347826087, 0.31940818102698, 0.31968641114982577, 0.3190932868352223, 0.3193717277486911, 0.31965065502183404, 0.31905594405594406, 0.3193350831146107, 0.31961471103327493, 0.31901840490797545, 0.31842105263157894, 0.31870061457418786, 0.3189806678383128, 0.31926121372031663, 0.31866197183098594, 0.31894273127753303, 0.31922398589065254, 0.31862312444836716, 0.31890459363957596, 0.3191865605658709, 0.31946902654867254, 0.31975199291408324, 0.3200354609929078, 0.3194321206743567, 0.3197158081705151, 0.3191111111111111, 0.3193950177935943, 0.3196794300979519, 0.31996434937611407, 0.320249776984835, 0.3196428571428571, 0.3190348525469169, 0.31932021466905186, 0.3187108325872874, 0.31899641577060933, 0.31928251121076234, 0.31956912028725315, 0.3198562443845463, 0.32014388489208634, 0.32043204320432045, 0.3207207207207207, 0.32100991884580704, 0.3212996389891697, 0.3206865401987353, 0.3209764918625678, 0.32036199095022627, 0.32065217391304346, 0.3200362647325476, 0.3203266787658802, 0.31970935513169846, 0.32, 0.31938125568698816, 0.319672131147541, 0.31996353691886964, 0.32025547445255476, 0.32054794520547947, 0.32084095063985374, 0.3211344922232388, 0.32142857142857145, 0.32172318973418884, 0.3220183486238532, 0.32231404958677684, 0.3226102941176471, 0.32290708371665133, 0.32320441988950277, 0.32350230414746545, 0.3238007380073801, 0.32409972299168976, 0.3243992606284658, 0.32469935245143383, 0.325, 0.3253012048192771, 0.32560296846011133, 0.32590529247910865, 0.32620817843866173, 0.32651162790697674, 0.3268156424581006, 0.3271202236719478, 0.32742537313432835, 0.3277310924369748, 0.3280373831775701, 0.3283442469597755, 0.32865168539325845, 0.3289597000937207, 0.32926829268292684, 0.3295774647887324, 0.3298872180451128, 0.3301975540921919, 0.3305084745762712, 0.3308199811498586, 0.3311320754716981, 0.3314447592067989, 0.33175803402646503, 0.33207190160832545, 0.33238636363636365, 0.33270142180094786, 0.33301707779886147, 0.3333333333333333, 0.33365019011406843, 0.3339676498572788, 0.3342857142857143, 0.334604385128694, 0.3349236641221374, 0.335243553008596, 0.3355640535372849, 0.33588516746411484, 0.33620689655172414, 0.336529242569511, 0.33685220729366605, 0.3371757925072046, 0.3375, 0.33782483156881615, 0.33815028901734107, 0.33847637415621984, 0.3388030888030888, 0.3391304347826087, 0.33945841392649906, 0.33978702807357214, 0.34011627906976744, 0.34044616876818623, 0.3407766990291262, 0.34110787172011664, 0.3414396887159533, 0.34177215189873417, 0.34210526315789475, 0.34243902439024393, 0.3427734375, 0.34310850439882695, 0.34344422700587085, 0.3437806072477963, 0.34411764705882353, 0.34445534838076547, 0.34479371316306484, 0.34513274336283184, 0.3454724409448819, 0.3458128078817734, 0.34615384615384615, 0.3464955577492596, 0.3468379446640316, 0.34718100890207715, 0.3475247524752475, 0.3478691774033697, 0.3482142857142857, 0.3485600794438927, 0.3489065606361829, 0.3492537313432836, 0.34960159362549803, 0.34995014955134596, 0.3502994011976048, 0.35064935064935066, 0.351, 0.35135135135135137, 0.3517034068136273, 0.3520561685055166, 0.35240963855421686, 0.3527638190954774, 0.35311871227364183, 0.35347432024169184, 0.3538306451612903, 0.35418768920282545, 0.35454545454545455, 0.35490394337714865, 0.354251012145749, 0.3546099290780142, 0.35496957403651114, 0.3553299492385787, 0.3556910569105691, 0.3560528992878942, 0.3564154786150713, 0.3567787971457696, 0.35714285714285715, 0.3575076608784474, 0.35787321063394684, 0.35823950870010235, 0.35860655737704916, 0.358974358974359, 0.3593429158110883, 0.3597122302158273, 0.360082304526749, 0.3604531410916581, 0.36082474226804123, 0.36119711042311664, 0.3615702479338843, 0.3619441571871768, 0.36231884057971014, 0.3626943005181347, 0.3630705394190871, 0.363447559709242, 0.36382536382536385, 0.36420395421436, 0.3645833333333333, 0.36496350364963503, 0.3653444676409186, 0.3657262277951933, 0.36610878661087864, 0.36649214659685864, 0.3668763102725367, 0.3672612801678909, 0.36764705882352944, 0.36803364879074657, 0.3684210526315789, 0.36880927291886195, 0.3691983122362869, 0.36958817317845827, 0.3699788583509514, 0.37037037037037035, 0.3707627118644068, 0.3711558854718982, 0.37154989384288745, 0.37194473963868224, 0.3723404255319149, 0.37273695420660274, 0.373134328358209, 0.37246531483457845, 0.37286324786324787, 0.37219251336898396, 0.37259100642398285, 0.3729903536977492, 0.37339055793991416, 0.37379162191192267, 0.3741935483870968, 0.3745963401506997, 0.375, 0.37540453074433655, 0.3758099352051836, 0.3762162162162162, 0.37662337662337664, 0.37703141928494044, 0.3774403470715835, 0.3778501628664495, 0.3782608695652174, 0.3786724700761698, 0.3790849673202614, 0.37949836423118866, 0.3799126637554585, 0.380327868852459, 0.38074398249452956, 0.38116100766703176, 0.3815789473684211, 0.38199780461031835, 0.3824175824175824, 0.38283828382838286, 0.38215859030837, 0.3814773980154355, 0.38079470198675497, 0.3812154696132597, 0.38163716814159293, 0.38205980066445183, 0.38248337028824836, 0.38290788013318533, 0.38333333333333336, 0.38375973303670746, 0.3841870824053452, 0.38461538461538464, 0.38504464285714285, 0.3854748603351955, 0.3859060402684564, 0.38633818589025753, 0.3867713004484305, 0.3872053872053872, 0.3865168539325843, 0.38695163104611924, 0.38738738738738737, 0.3878241262683202, 0.38826185101580135, 0.3887005649717514, 0.3891402714932127, 0.3895809739524349, 0.3900226757369615, 0.3904653802497162, 0.39090909090909093, 0.391353811149033, 0.3917995444191344, 0.3922462941847206, 0.3926940639269406, 0.392, 0.39244851258581237, 0.3928980526918671, 0.393348623853211, 0.39380022962112515, 0.39425287356321836, 0.3947065592635213, 0.3951612903225806, 0.3956170703575548, 0.3960739030023095, 0.3953757225433526, 0.3958333333333333, 0.3962920046349942, 0.39675174013921116, 0.397212543554007, 0.39767441860465114, 0.3981373690337602, 0.3986013986013986, 0.3990665110851809, 0.39953271028037385, 0.4, 0.40046838407494145, 0.40093786635404455, 0.4014084507042254, 0.4018801410105758, 0.4023529411764706, 0.4016489988221437, 0.40212264150943394, 0.4025974025974026, 0.4030732860520095, 0.4035502958579882, 0.4040284360189573, 0.4045077105575326, 0.40498812351543945, 0.4054696789536266, 0.40595238095238095, 0.4064362336114422, 0.40692124105011934, 0.4074074074074074, 0.40789473684210525, 0.40838323353293415, 0.4088729016786571, 0.40936374549819926, 0.4098557692307692, 0.41034897713598073, 0.40963855421686746, 0.4101326899879373, 0.4106280193236715, 0.4111245465538089, 0.4116222760290557, 0.4121212121212121, 0.41262135922330095, 0.4131227217496962, 0.41362530413625304, 0.41412911084043846, 0.4146341463414634, 0.41514041514041516, 0.4156479217603912, 0.41615667074663404, 0.4166666666666667, 0.4171779141104294, 0.4176904176904177, 0.4182041820418204, 0.4187192118226601, 0.4192355117139334, 0.41975308641975306, 0.42027194066749074, 0.4207920792079208, 0.42131350681536556, 0.4218362282878412, 0.422360248447205, 0.4228855721393035, 0.42341220423412207, 0.4239401496259352, 0.42446941323345816, 0.425, 0.425531914893617, 0.42606516290726815, 0.42659974905897113, 0.4271356783919598, 0.42641509433962266, 0.4269521410579345, 0.4274905422446406, 0.42803030303030304, 0.42857142857142855, 0.4291139240506329, 0.4296577946768061, 0.4302030456852792, 0.42947903430749684, 0.4300254452926209, 0.4305732484076433, 0.43112244897959184, 0.43167305236270753, 0.4322250639386189, 0.4327784891165173, 0.43333333333333335, 0.4338896020539153, 0.43444730077120824, 0.4337194337194337, 0.43427835051546393, 0.43483870967741933, 0.43410852713178294, 0.4333764553686934, 0.4339378238341969, 0.43320363164721143, 0.43376623376623374, 0.4343302990897269, 0.4348958333333333, 0.43546284224250326, 0.4360313315926893, 0.43529411764705883, 0.43586387434554974, 0.436435124508519, 0.43700787401574803, 0.4375821287779238, 0.4381578947368421, 0.43873517786561267, 0.43799472295514513, 0.4372523117569353, 0.4365079365079365, 0.4357615894039735, 0.4350132625994695, 0.4342629482071713, 0.4348404255319149, 0.43541944074567246, 0.43466666666666665, 0.43524699599465955, 0.4358288770053476, 0.4364123159303882, 0.43699731903485256, 0.4375838926174497, 0.4368279569892473, 0.43741588156123823, 0.4380053908355795, 0.43859649122807015, 0.4391891891891892, 0.4397834912043302, 0.43902439024390244, 0.4396200814111262, 0.44021739130434784, 0.44081632653061226, 0.44141689373297005, 0.44201909959072305, 0.4426229508196721, 0.4432284541723666, 0.4438356164383562, 0.4444444444444444, 0.44505494505494503, 0.4442916093535076, 0.44490358126721763, 0.44551724137931037, 0.44613259668508287, 0.44536652835408025, 0.44598337950138506, 0.44521497919556174, 0.44583333333333336, 0.44645340751043117, 0.44707520891364905, 0.4476987447698745, 0.4483240223463687, 0.4489510489510489, 0.4495798319327731, 0.45021037868162694, 0.4508426966292135, 0.45147679324894513, 0.45211267605633804, 0.4527503526093089, 0.4519774011299435, 0.4526166902404526, 0.45325779036827196, 0.45390070921985815, 0.453125, 0.4523470839260313, 0.452991452991453, 0.4536376604850214, 0.45285714285714285, 0.45350500715307585, 0.45415472779369626, 0.45480631276901007, 0.45545977011494254, 0.45611510791366905, 0.45677233429394815, 0.4574314574314574, 0.45809248554913296, 0.45875542691751087, 0.45942028985507244, 0.46008708272859217, 0.46075581395348836, 0.46142649199417757, 0.4620991253644315, 0.46277372262773725, 0.4619883040935672, 0.46266471449487556, 0.4633431085043988, 0.46402349486049926, 0.4647058823529412, 0.4653902798232695, 0.46607669616519176, 0.4667651403249631, 0.46745562130177515, 0.46814814814814815, 0.4688427299703264, 0.46805349182763745, 0.46875, 0.46795827123695977, 0.4671641791044776, 0.4678624813153961, 0.468562874251497, 0.46926536731634183, 0.46996996996997, 0.4706766917293233, 0.4713855421686747, 0.4720965309200603, 0.472809667673716, 0.4735249621785174, 0.47424242424242424, 0.47496206373292865, 0.4756838905775076, 0.4764079147640791, 0.4771341463414634, 0.4778625954198473, 0.4785932721712538, 0.4793261868300153, 0.4785276073619632, 0.4792626728110599, 0.48, 0.48073959938366717, 0.48148148148148145, 0.482225656877898, 0.48297213622291024, 0.48372093023255813, 0.484472049689441, 0.48522550544323484, 0.48598130841121495, 0.48673946957878317, 0.4859375, 0.486697965571205, 0.48746081504702193, 0.48822605965463106, 0.4889937106918239, 0.48976377952755906, 0.4889589905362776, 0.48973143759873616, 0.49050632911392406, 0.49128367670364503, 0.49206349206349204, 0.492845786963434, 0.49363057324840764, 0.49282296650717705, 0.49201277955271566, 0.4928, 0.49198717948717946, 0.4911717495987159, 0.4919614147909968, 0.4927536231884058, 0.4935483870967742, 0.49434571890145396, 0.49514563106796117, 0.49432739059967584, 0.4935064935064935, 0.4943089430894309, 0.495114006514658, 0.49429037520391517, 0.4950980392156863, 0.4959083469721768, 0.4967213114754098, 0.4975369458128079, 0.49835526315789475, 0.49917627677100496, 0.5, 0.4991735537190083, 0.5, 0.5008291873963516, 0.5016611295681063, 0.502495840266223, 0.5033333333333333, 0.5025041736227045, 0.5033444816053512, 0.5041876046901173, 0.5050335570469798, 0.5058823529411764, 0.5067340067340067, 0.5059021922428331, 0.5050675675675675, 0.505922165820643, 0.5067796610169492, 0.5076400679117148, 0.5085034013605442, 0.5093696763202725, 0.5102389078498294, 0.5111111111111111, 0.5102739726027398, 0.5094339622641509, 0.5085910652920962, 0.5094664371772806, 0.5103448275862069, 0.5112262521588946, 0.5121107266435986, 0.511265164644714, 0.5104166666666666, 0.5113043478260869, 0.5104529616724739, 0.5113438045375218, 0.5122377622377622, 0.5131348511383538, 0.5140350877192983, 0.5149384885764499, 0.5158450704225352, 0.5167548500881834, 0.5176678445229682, 0.5168141592920354, 0.5177304964539007, 0.5186500888099467, 0.5195729537366548, 0.5204991087344029, 0.5214285714285715, 0.5223613595706619, 0.5232974910394266, 0.5242369838420108, 0.5251798561151079, 0.5261261261261261, 0.5270758122743683, 0.5280289330922242, 0.5289855072463768, 0.52994555353902, 0.5290909090909091, 0.5300546448087432, 0.5291970802919708, 0.5301645338208409, 0.5311355311355311, 0.5321100917431193, 0.53125, 0.5322283609576427, 0.533210332103321, 0.5341959334565619, 0.5351851851851852, 0.536178107606679, 0.5371747211895911, 0.5381750465549349, 0.539179104477612, 0.5401869158878505, 0.5411985018726592, 0.5422138836772983, 0.543233082706767, 0.544256120527307, 0.5452830188679245, 0.5463137996219282, 0.5473484848484849, 0.5483870967741935, 0.5475285171102662, 0.5485714285714286, 0.549618320610687, 0.5487571701720841, 0.5498084291187739, 0.5489443378119002, 0.5480769230769231, 0.5491329479768786, 0.5482625482625483, 0.5493230174081238, 0.5484496124031008, 0.5495145631067961, 0.5486381322957199, 0.5477582846003899, 0.548828125, 0.5499021526418787, 0.5509803921568628, 0.5520628683693517, 0.5531496062992126, 0.5522682445759369, 0.5533596837944664, 0.5524752475247525, 0.5515873015873016, 0.5526838966202783, 0.5537848605577689, 0.5548902195608783, 0.556, 0.5571142284569138, 0.5582329317269076, 0.5573440643863179, 0.5564516129032258, 0.5555555555555556, 0.5546558704453441, 0.5537525354969574, 0.5548780487804879, 0.5560081466395111, 0.5551020408163265, 0.556237218813906, 0.5573770491803278, 0.5585215605749486, 0.5596707818930041, 0.5587628865979382, 0.5599173553719008, 0.5590062111801242, 0.5601659751037344, 0.5613305613305614, 0.5625, 0.5636743215031316, 0.5648535564853556, 0.5639412997903563, 0.5630252100840336, 0.5642105263157895, 0.5654008438818565, 0.5665961945031712, 0.5677966101694916, 0.5668789808917197, 0.5680851063829787, 0.5692963752665245, 0.5705128205128205, 0.5717344753747323, 0.5708154506437768, 0.5698924731182796, 0.5689655172413793, 0.5680345572354212, 0.5670995670995671, 0.5661605206073753, 0.5673913043478261, 0.5664488017429193, 0.5676855895196506, 0.5667396061269147, 0.5679824561403509, 0.5692307692307692, 0.5704845814977973, 0.5695364238410596, 0.5685840707964602, 0.5698447893569845, 0.5711111111111111, 0.5723830734966593, 0.5736607142857143, 0.5749440715883669, 0.5762331838565022, 0.5752808988764045, 0.5765765765765766, 0.5756207674943566, 0.5746606334841629, 0.5736961451247166, 0.575, 0.5740318906605922, 0.5753424657534246, 0.5743707093821511, 0.573394495412844, 0.5747126436781609, 0.576036866359447, 0.5750577367205543, 0.5763888888888888, 0.5777262180974478, 0.5767441860465117, 0.578088578088578, 0.5794392523364486, 0.5784543325526932, 0.57981220657277, 0.5811764705882353, 0.5801886792452831, 0.5815602836879432, 0.5829383886255924, 0.5819477434679335, 0.5833333333333334, 0.5847255369928401, 0.583732057416268, 0.5827338129496403, 0.5841346153846154, 0.5855421686746988, 0.5869565217391305, 0.5883777239709443, 0.587378640776699, 0.5888077858880778, 0.5902439024390244, 0.5916870415647921, 0.5931372549019608, 0.5945945945945946, 0.5935960591133005, 0.5925925925925926, 0.594059405940594, 0.5955334987593052, 0.5945273631840796, 0.5960099750623441, 0.5975, 0.5989974937343359, 0.6005025125628141, 0.5994962216624685, 0.5984848484848485, 0.6, 0.5989847715736041, 0.5979643765903307, 0.5969387755102041, 0.5959079283887468, 0.5974358974358974, 0.5989717223650386, 0.5979381443298969, 0.5968992248062015, 0.5984455958549223, 0.6, 0.5989583333333334, 0.6005221932114883, 0.6020942408376964, 0.6010498687664042, 0.6026315789473684, 0.6015831134564644, 0.6031746031746031, 0.6047745358090185, 0.6037234042553191, 0.6026666666666667, 0.6042780748663101, 0.6032171581769437, 0.6048387096774194, 0.6037735849056604, 0.6054054054054054, 0.6043360433604336, 0.6059782608695652, 0.6049046321525886, 0.6038251366120219, 0.6027397260273972, 0.6043956043956044, 0.6060606060606061, 0.6049723756906077, 0.6038781163434903, 0.6055555555555555, 0.6044568245125348, 0.6033519553072626, 0.6022408963585434, 0.601123595505618, 0.6028169014084507, 0.6045197740112994, 0.603399433427762, 0.6051136363636364, 0.6068376068376068, 0.6085714285714285, 0.6074498567335244, 0.6063218390804598, 0.6080691642651297, 0.6069364161849711, 0.6057971014492753, 0.6075581395348837, 0.6064139941690962, 0.6081871345029239, 0.6070381231671554, 0.6088235294117647, 0.6076696165191741, 0.6094674556213018, 0.6112759643916914, 0.6130952380952381, 0.6149253731343284, 0.6167664670658682, 0.6156156156156156, 0.6144578313253012, 0.6132930513595166, 0.6151515151515151, 0.6170212765957447, 0.6158536585365854, 0.617737003058104, 0.6196319018404908, 0.6184615384615385, 0.6172839506172839, 0.6191950464396285, 0.6211180124223602, 0.6230529595015576, 0.621875, 0.6206896551724138, 0.6194968553459119, 0.6182965299684543, 0.620253164556962, 0.6222222222222222, 0.6242038216560509, 0.6230031948881789, 0.6217948717948718, 0.6237942122186495, 0.6258064516129033, 0.6245954692556634, 0.6233766233766234, 0.6221498371335505, 0.6241830065359477, 0.6262295081967213, 0.625, 0.6270627062706271, 0.6258278145695364, 0.6245847176079734, 0.6233333333333333, 0.6220735785953178, 0.6208053691275168, 0.6195286195286195, 0.6182432432432432, 0.6203389830508474, 0.6190476190476191, 0.6177474402730375, 0.6164383561643836, 0.6151202749140894, 0.6172413793103448, 0.615916955017301, 0.6145833333333334, 0.6167247386759582, 0.6153846153846154, 0.6140350877192983, 0.6126760563380281, 0.6113074204946997, 0.6099290780141844, 0.6120996441281139, 0.6142857142857143, 0.6164874551971327, 0.6187050359712231, 0.6173285198555957, 0.6159420289855072, 0.6181818181818182, 0.6167883211678832, 0.6190476190476191, 0.6213235294117647, 0.6236162361623616, 0.6222222222222222, 0.6245353159851301, 0.6231343283582089, 0.6217228464419475, 0.6203007518796992, 0.6226415094339622, 0.6212121212121212, 0.6197718631178707, 0.6221374045801527, 0.6206896551724138, 0.6192307692307693, 0.6177606177606177, 0.6162790697674418, 0.6186770428015564, 0.62109375, 0.6196078431372549, 0.6181102362204725, 0.6205533596837944, 0.6190476190476191, 0.6215139442231076, 0.62, 0.6224899598393574, 0.6209677419354839, 0.6194331983805668, 0.6178861788617886, 0.6204081632653061, 0.6229508196721312, 0.6255144032921811, 0.628099173553719, 0.6307053941908713, 0.6291666666666667, 0.6276150627615062, 0.6302521008403361, 0.6329113924050633, 0.6313559322033898, 0.6297872340425532, 0.6282051282051282, 0.6266094420600858, 0.625, 0.6277056277056277, 0.6260869565217392, 0.6244541484716157, 0.6228070175438597, 0.6211453744493393, 0.6194690265486725, 0.6222222222222222, 0.625, 0.6233183856502242, 0.6216216216216216, 0.6244343891402715, 0.6272727272727273, 0.6255707762557078, 0.6238532110091743, 0.6267281105990783, 0.625, 0.627906976744186, 0.6261682242990654, 0.6291079812206573, 0.6320754716981132, 0.6350710900473934, 0.6333333333333333, 0.6363636363636364, 0.6394230769230769, 0.642512077294686, 0.6407766990291263, 0.6390243902439025, 0.6421568627450981, 0.645320197044335, 0.6435643564356436, 0.6417910447761194, 0.64, 0.6381909547738693, 0.6414141414141414, 0.6446700507614214, 0.6428571428571429, 0.6410256410256411, 0.6391752577319587, 0.6373056994818653, 0.6354166666666666, 0.6335078534031413, 0.6368421052631579, 0.6402116402116402, 0.6382978723404256, 0.6363636363636364, 0.6344086021505376, 0.6324324324324324, 0.6358695652173914, 0.639344262295082, 0.6373626373626373, 0.6353591160220995, 0.6333333333333333, 0.6368715083798883, 0.6404494382022472, 0.6384180790960452, 0.6363636363636364, 0.6342857142857142, 0.632183908045977, 0.6358381502890174, 0.6395348837209303, 0.6374269005847953, 0.6411764705882353, 0.6449704142011834, 0.6488095238095238, 0.6526946107784432, 0.6506024096385542, 0.6484848484848484, 0.6463414634146342, 0.6441717791411042, 0.6481481481481481, 0.6459627329192547, 0.65, 0.6477987421383647, 0.6455696202531646, 0.643312101910828, 0.6474358974358975, 0.6516129032258065, 0.6493506493506493, 0.6535947712418301, 0.6513157894736842, 0.6556291390728477, 0.6533333333333333, 0.6577181208053692, 0.6621621621621622, 0.6666666666666666, 0.6643835616438356, 0.6620689655172414, 0.6597222222222222, 0.6573426573426573, 0.6549295774647887, 0.6595744680851063, 0.6642857142857143, 0.6618705035971223, 0.6594202898550725, 0.6642335766423357, 0.6691176470588235, 0.674074074074074, 0.6791044776119403, 0.6842105263157895, 0.6818181818181818, 0.6870229007633588, 0.6923076923076923, 0.6976744186046512, 0.703125, 0.7086614173228346, 0.7063492063492064, 0.704, 0.7016129032258065, 0.7073170731707317, 0.7131147540983607, 0.7107438016528925, 0.7166666666666667, 0.7142857142857143, 0.711864406779661, 0.7094017094017094, 0.7155172413793104, 0.7217391304347827, 0.7280701754385965, 0.7256637168141593, 0.7232142857142857, 0.7207207207207207, 0.7181818181818181, 0.7247706422018348, 0.7222222222222222, 0.719626168224299, 0.7169811320754716, 0.7142857142857143, 0.7211538461538461, 0.7281553398058253, 0.7254901960784313, 0.7227722772277227, 0.72, 0.7171717171717171, 0.7142857142857143, 0.7216494845360825, 0.71875, 0.7157894736842105, 0.723404255319149, 0.7311827956989247, 0.7282608695652174, 0.7252747252747253, 0.7333333333333333, 0.7303370786516854, 0.7386363636363636, 0.7471264367816092, 0.7441860465116279, 0.7411764705882353, 0.7380952380952381, 0.7349397590361446, 0.7317073170731707, 0.7283950617283951, 0.725, 0.7215189873417721, 0.717948717948718, 0.7142857142857143, 0.7105263157894737, 0.7066666666666667, 0.7162162162162162, 0.7123287671232876, 0.7083333333333334, 0.7183098591549296, 0.7142857142857143, 0.7101449275362319, 0.7058823529411765, 0.7014925373134329, 0.7121212121212122, 0.7076923076923077, 0.71875, 0.7142857142857143, 0.7096774193548387, 0.7049180327868853, 0.7, 0.6949152542372882, 0.6896551724137931, 0.6842105263157895, 0.6785714285714286, 0.6727272727272727, 0.6666666666666666, 0.660377358490566, 0.6538461538461539, 0.6666666666666666, 0.68, 0.673469387755102, 0.6875, 0.6808510638297872, 0.6956521739130435, 0.6888888888888889, 0.6818181818181818, 0.6744186046511628, 0.6666666666666666, 0.6585365853658537, 0.675, 0.6923076923076923, 0.7105263157894737, 0.7297297297297297, 0.7222222222222222, 0.7428571428571429, 0.7352941176470589, 0.7272727272727273, 0.75, 0.7419354838709677, 0.7333333333333333, 0.7241379310344828, 0.7142857142857143, 0.7037037037037037, 0.6923076923076923, 0.68, 0.7083333333333334, 0.7391304347826086, 0.7272727272727273, 0.7619047619047619, 0.8, 0.7894736842105263, 0.7777777777777778, 0.8235294117647058, 0.8125, 0.8, 0.7857142857142857, 0.7692307692307693, 0.75, 0.7272727272727273, 0.8, 0.8888888888888888, 0.875, 0.8571428571428571, 0.8333333333333334, 1.0, 1.0, 1.0, 1.0, 1.0, 1.0]}, {\"mode\": \"lines\", \"name\": \"NN\", \"type\": \"scatter\", \"x\": [1.0, 0.9973262032085561, 0.9973262032085561, 0.9973262032085561, 0.9973262032085561, 0.9973262032085561, 0.9973262032085561, 0.9973262032085561, 0.9973262032085561, 0.9973262032085561, 0.9973262032085561, 0.9973262032085561, 0.9973262032085561, 0.9973262032085561, 0.9973262032085561, 0.9973262032085561, 0.9973262032085561, 0.9973262032085561, 0.9973262032085561, 0.9973262032085561, 0.9973262032085561, 0.9973262032085561, 0.9973262032085561, 0.9973262032085561, 0.9973262032085561, 0.9973262032085561, 0.9973262032085561, 0.9973262032085561, 0.9973262032085561, 0.9973262032085561, 0.9973262032085561, 0.9973262032085561, 0.9973262032085561, 0.9973262032085561, 0.9973262032085561, 0.9973262032085561, 0.9973262032085561, 0.9973262032085561, 0.9973262032085561, 0.9973262032085561, 0.9973262032085561, 0.9973262032085561, 0.9973262032085561, 0.9973262032085561, 0.9973262032085561, 0.9973262032085561, 0.9973262032085561, 0.9973262032085561, 0.9973262032085561, 0.9973262032085561, 0.9973262032085561, 0.9973262032085561, 0.9973262032085561, 0.9973262032085561, 0.9973262032085561, 0.9973262032085561, 0.9973262032085561, 0.9973262032085561, 0.9973262032085561, 0.9973262032085561, 0.9973262032085561, 0.9973262032085561, 0.9973262032085561, 0.9973262032085561, 0.9973262032085561, 0.9973262032085561, 0.9973262032085561, 0.9973262032085561, 0.9973262032085561, 0.9973262032085561, 0.9973262032085561, 0.9973262032085561, 0.9973262032085561, 0.9973262032085561, 0.9973262032085561, 0.9973262032085561, 0.9973262032085561, 0.9973262032085561, 0.9973262032085561, 0.9973262032085561, 0.9973262032085561, 0.9973262032085561, 0.9973262032085561, 0.9973262032085561, 0.9973262032085561, 0.9973262032085561, 0.9973262032085561, 0.9973262032085561, 0.9973262032085561, 0.9973262032085561, 0.9973262032085561, 0.9973262032085561, 0.9973262032085561, 0.9973262032085561, 0.9973262032085561, 0.9973262032085561, 0.9973262032085561, 0.9973262032085561, 0.9973262032085561, 0.9973262032085561, 0.9973262032085561, 0.9973262032085561, 0.9973262032085561, 0.9973262032085561, 0.9973262032085561, 0.9973262032085561, 0.9973262032085561, 0.9973262032085561, 0.9973262032085561, 0.9973262032085561, 0.9973262032085561, 0.9973262032085561, 0.9973262032085561, 0.9973262032085561, 0.9973262032085561, 0.9973262032085561, 0.9973262032085561, 0.9973262032085561, 0.9973262032085561, 0.9973262032085561, 0.9973262032085561, 0.9973262032085561, 0.9973262032085561, 0.9973262032085561, 0.9973262032085561, 0.9973262032085561, 0.9973262032085561, 0.9973262032085561, 0.9973262032085561, 0.9973262032085561, 0.9973262032085561, 0.9973262032085561, 0.9973262032085561, 0.9973262032085561, 0.9973262032085561, 0.9973262032085561, 0.9973262032085561, 0.9973262032085561, 0.9973262032085561, 0.9973262032085561, 0.9973262032085561, 0.9973262032085561, 0.9973262032085561, 0.9946524064171123, 0.9919786096256684, 0.9919786096256684, 0.9919786096256684, 0.9919786096256684, 0.9919786096256684, 0.9919786096256684, 0.9919786096256684, 0.9919786096256684, 0.9919786096256684, 0.9919786096256684, 0.9919786096256684, 0.9919786096256684, 0.9919786096256684, 0.9919786096256684, 0.9919786096256684, 0.9919786096256684, 0.9919786096256684, 0.9919786096256684, 0.9919786096256684, 0.9919786096256684, 0.9893048128342246, 0.9893048128342246, 0.9893048128342246, 0.9893048128342246, 0.9893048128342246, 0.9893048128342246, 0.9893048128342246, 0.9893048128342246, 0.9893048128342246, 0.9893048128342246, 0.9866310160427807, 0.9866310160427807, 0.9866310160427807, 0.9866310160427807, 0.9866310160427807, 0.9866310160427807, 0.9866310160427807, 0.9866310160427807, 0.9866310160427807, 0.9866310160427807, 0.9866310160427807, 0.9866310160427807, 0.983957219251337, 0.983957219251337, 0.9812834224598931, 0.9812834224598931, 0.9812834224598931, 0.9812834224598931, 0.9812834224598931, 0.9812834224598931, 0.9812834224598931, 0.9812834224598931, 0.9812834224598931, 0.9812834224598931, 0.9812834224598931, 0.9812834224598931, 0.9812834224598931, 0.9812834224598931, 0.9812834224598931, 0.9812834224598931, 0.9812834224598931, 0.9812834224598931, 0.9812834224598931, 0.9812834224598931, 0.9812834224598931, 0.9812834224598931, 0.9812834224598931, 0.9812834224598931, 0.9812834224598931, 0.9812834224598931, 0.9812834224598931, 0.9812834224598931, 0.9812834224598931, 0.9812834224598931, 0.9812834224598931, 0.9812834224598931, 0.9812834224598931, 0.9812834224598931, 0.9812834224598931, 0.9812834224598931, 0.9786096256684492, 0.9786096256684492, 0.9786096256684492, 0.9786096256684492, 0.9786096256684492, 0.9786096256684492, 0.9786096256684492, 0.9786096256684492, 0.9786096256684492, 0.9786096256684492, 0.9786096256684492, 0.9786096256684492, 0.9786096256684492, 0.9786096256684492, 0.9786096256684492, 0.9786096256684492, 0.9786096256684492, 0.9786096256684492, 0.9786096256684492, 0.9786096256684492, 0.9786096256684492, 0.9786096256684492, 0.9786096256684492, 0.9786096256684492, 0.9786096256684492, 0.9786096256684492, 0.9786096256684492, 0.9759358288770054, 0.9759358288770054, 0.9759358288770054, 0.9759358288770054, 0.9759358288770054, 0.9759358288770054, 0.9759358288770054, 0.9759358288770054, 0.9759358288770054, 0.9759358288770054, 0.9759358288770054, 0.9759358288770054, 0.9759358288770054, 0.9759358288770054, 0.9759358288770054, 0.9759358288770054, 0.9759358288770054, 0.9759358288770054, 0.9759358288770054, 0.9759358288770054, 0.9759358288770054, 0.9759358288770054, 0.9759358288770054, 0.9759358288770054, 0.9759358288770054, 0.9759358288770054, 0.9759358288770054, 0.9759358288770054, 0.9732620320855615, 0.9732620320855615, 0.9732620320855615, 0.9732620320855615, 0.9732620320855615, 0.9732620320855615, 0.9732620320855615, 0.9732620320855615, 0.9732620320855615, 0.9732620320855615, 0.9732620320855615, 0.9732620320855615, 0.9732620320855615, 0.9732620320855615, 0.9732620320855615, 0.9732620320855615, 0.9732620320855615, 0.9732620320855615, 0.9732620320855615, 0.9732620320855615, 0.9732620320855615, 0.9732620320855615, 0.9732620320855615, 0.9705882352941176, 0.9705882352941176, 0.9705882352941176, 0.9705882352941176, 0.9705882352941176, 0.9705882352941176, 0.9705882352941176, 0.9705882352941176, 0.9705882352941176, 0.9705882352941176, 0.9705882352941176, 0.9705882352941176, 0.9705882352941176, 0.9705882352941176, 0.9705882352941176, 0.9705882352941176, 0.9705882352941176, 0.9679144385026738, 0.9679144385026738, 0.9679144385026738, 0.9679144385026738, 0.9679144385026738, 0.9679144385026738, 0.9679144385026738, 0.9679144385026738, 0.9679144385026738, 0.9679144385026738, 0.9679144385026738, 0.9652406417112299, 0.9652406417112299, 0.9652406417112299, 0.9652406417112299, 0.9652406417112299, 0.9652406417112299, 0.9625668449197861, 0.9625668449197861, 0.9625668449197861, 0.9625668449197861, 0.9625668449197861, 0.9625668449197861, 0.9625668449197861, 0.9625668449197861, 0.9625668449197861, 0.9625668449197861, 0.9625668449197861, 0.9625668449197861, 0.9625668449197861, 0.9625668449197861, 0.9625668449197861, 0.9625668449197861, 0.9625668449197861, 0.9625668449197861, 0.9625668449197861, 0.9625668449197861, 0.9625668449197861, 0.9625668449197861, 0.9625668449197861, 0.9625668449197861, 0.9625668449197861, 0.9625668449197861, 0.9598930481283422, 0.9598930481283422, 0.9598930481283422, 0.9598930481283422, 0.9598930481283422, 0.9598930481283422, 0.9598930481283422, 0.9598930481283422, 0.9598930481283422, 0.9598930481283422, 0.9598930481283422, 0.9598930481283422, 0.9572192513368984, 0.9572192513368984, 0.9545454545454546, 0.9545454545454546, 0.9518716577540107, 0.9491978609625669, 0.9491978609625669, 0.9491978609625669, 0.9491978609625669, 0.946524064171123, 0.946524064171123, 0.946524064171123, 0.946524064171123, 0.9438502673796791, 0.9411764705882353, 0.9411764705882353, 0.9411764705882353, 0.9411764705882353, 0.9385026737967914, 0.9385026737967914, 0.9385026737967914, 0.9385026737967914, 0.9385026737967914, 0.9385026737967914, 0.9385026737967914, 0.9385026737967914, 0.9385026737967914, 0.9385026737967914, 0.9385026737967914, 0.9358288770053476, 0.9358288770053476, 0.9358288770053476, 0.9358288770053476, 0.9358288770053476, 0.9358288770053476, 0.9358288770053476, 0.9358288770053476, 0.9358288770053476, 0.9358288770053476, 0.9358288770053476, 0.9358288770053476, 0.9358288770053476, 0.9358288770053476, 0.9358288770053476, 0.9358288770053476, 0.9358288770053476, 0.9358288770053476, 0.9331550802139037, 0.9331550802139037, 0.9331550802139037, 0.9331550802139037, 0.9331550802139037, 0.9331550802139037, 0.9331550802139037, 0.93048128342246, 0.93048128342246, 0.93048128342246, 0.93048128342246, 0.9278074866310161, 0.9278074866310161, 0.9278074866310161, 0.9278074866310161, 0.9278074866310161, 0.9278074866310161, 0.9278074866310161, 0.9278074866310161, 0.9251336898395722, 0.9251336898395722, 0.9251336898395722, 0.9251336898395722, 0.9224598930481284, 0.9224598930481284, 0.9224598930481284, 0.9224598930481284, 0.9224598930481284, 0.9224598930481284, 0.9224598930481284, 0.9224598930481284, 0.9224598930481284, 0.9224598930481284, 0.9224598930481284, 0.9224598930481284, 0.9224598930481284, 0.9224598930481284, 0.9224598930481284, 0.9224598930481284, 0.9224598930481284, 0.9224598930481284, 0.9224598930481284, 0.9197860962566845, 0.9197860962566845, 0.9171122994652406, 0.9171122994652406, 0.9144385026737968, 0.9144385026737968, 0.9144385026737968, 0.9144385026737968, 0.9144385026737968, 0.9144385026737968, 0.9117647058823529, 0.9117647058823529, 0.9090909090909091, 0.9090909090909091, 0.9090909090909091, 0.9090909090909091, 0.9090909090909091, 0.9090909090909091, 0.9090909090909091, 0.9064171122994652, 0.9064171122994652, 0.9064171122994652, 0.9064171122994652, 0.9064171122994652, 0.9037433155080213, 0.9037433155080213, 0.9037433155080213, 0.9037433155080213, 0.9037433155080213, 0.9037433155080213, 0.9037433155080213, 0.9037433155080213, 0.9037433155080213, 0.9037433155080213, 0.9037433155080213, 0.9037433155080213, 0.9037433155080213, 0.9010695187165776, 0.9010695187165776, 0.9010695187165776, 0.9010695187165776, 0.9010695187165776, 0.9010695187165776, 0.9010695187165776, 0.9010695187165776, 0.9010695187165776, 0.9010695187165776, 0.9010695187165776, 0.9010695187165776, 0.9010695187165776, 0.9010695187165776, 0.8983957219251337, 0.8957219251336899, 0.8957219251336899, 0.893048128342246, 0.8903743315508021, 0.8903743315508021, 0.8903743315508021, 0.8903743315508021, 0.8903743315508021, 0.8903743315508021, 0.8903743315508021, 0.8903743315508021, 0.8903743315508021, 0.8877005347593583, 0.8877005347593583, 0.8877005347593583, 0.8850267379679144, 0.8850267379679144, 0.8850267379679144, 0.8850267379679144, 0.8850267379679144, 0.8850267379679144, 0.8850267379679144, 0.8850267379679144, 0.8850267379679144, 0.8850267379679144, 0.8823529411764706, 0.8823529411764706, 0.8823529411764706, 0.8796791443850267, 0.8770053475935828, 0.8770053475935828, 0.8770053475935828, 0.8770053475935828, 0.8770053475935828, 0.8743315508021391, 0.8743315508021391, 0.8743315508021391, 0.8743315508021391, 0.8743315508021391, 0.8716577540106952, 0.8716577540106952, 0.8689839572192514, 0.8689839572192514, 0.8689839572192514, 0.8689839572192514, 0.8689839572192514, 0.8689839572192514, 0.8689839572192514, 0.8689839572192514, 0.8689839572192514, 0.8663101604278075, 0.8663101604278075, 0.8663101604278075, 0.8663101604278075, 0.8663101604278075, 0.8663101604278075, 0.8663101604278075, 0.8636363636363636, 0.8636363636363636, 0.8636363636363636, 0.8609625668449198, 0.8609625668449198, 0.8609625668449198, 0.8609625668449198, 0.8609625668449198, 0.8582887700534759, 0.8582887700534759, 0.8582887700534759, 0.8556149732620321, 0.8556149732620321, 0.8529411764705882, 0.8502673796791443, 0.8502673796791443, 0.8502673796791443, 0.8502673796791443, 0.8502673796791443, 0.8502673796791443, 0.8502673796791443, 0.8502673796791443, 0.8502673796791443, 0.8475935828877005, 0.8475935828877005, 0.8475935828877005, 0.8449197860962567, 0.8449197860962567, 0.8449197860962567, 0.8449197860962567, 0.8449197860962567, 0.8449197860962567, 0.8449197860962567, 0.8449197860962567, 0.8449197860962567, 0.8449197860962567, 0.8449197860962567, 0.8422459893048129, 0.8422459893048129, 0.8422459893048129, 0.8422459893048129, 0.8422459893048129, 0.8422459893048129, 0.839572192513369, 0.839572192513369, 0.839572192513369, 0.839572192513369, 0.839572192513369, 0.839572192513369, 0.839572192513369, 0.839572192513369, 0.8368983957219251, 0.8342245989304813, 0.8315508021390374, 0.8315508021390374, 0.8288770053475936, 0.8288770053475936, 0.8288770053475936, 0.8288770053475936, 0.8262032085561497, 0.8262032085561497, 0.8262032085561497, 0.8262032085561497, 0.8262032085561497, 0.8262032085561497, 0.8235294117647058, 0.820855614973262, 0.820855614973262, 0.820855614973262, 0.820855614973262, 0.820855614973262, 0.820855614973262, 0.820855614973262, 0.820855614973262, 0.820855614973262, 0.820855614973262, 0.8181818181818182, 0.8181818181818182, 0.8181818181818182, 0.8181818181818182, 0.8155080213903744, 0.8155080213903744, 0.8155080213903744, 0.8128342245989305, 0.8128342245989305, 0.8128342245989305, 0.8128342245989305, 0.8128342245989305, 0.8101604278074866, 0.8074866310160428, 0.8074866310160428, 0.8074866310160428, 0.8074866310160428, 0.8048128342245989, 0.8048128342245989, 0.8048128342245989, 0.8048128342245989, 0.8048128342245989, 0.8048128342245989, 0.8048128342245989, 0.8048128342245989, 0.8048128342245989, 0.8021390374331551, 0.8021390374331551, 0.7994652406417112, 0.7967914438502673, 0.7967914438502673, 0.7967914438502673, 0.7941176470588235, 0.7941176470588235, 0.7914438502673797, 0.7914438502673797, 0.7887700534759359, 0.7887700534759359, 0.7887700534759359, 0.7887700534759359, 0.7887700534759359, 0.786096256684492, 0.786096256684492, 0.786096256684492, 0.786096256684492, 0.786096256684492, 0.7834224598930482, 0.7834224598930482, 0.7807486631016043, 0.7807486631016043, 0.7780748663101604, 0.7754010695187166, 0.7754010695187166, 0.7754010695187166, 0.7727272727272727, 0.7727272727272727, 0.7700534759358288, 0.7700534759358288, 0.7700534759358288, 0.767379679144385, 0.767379679144385, 0.767379679144385, 0.767379679144385, 0.7647058823529411, 0.7620320855614974, 0.7620320855614974, 0.7593582887700535, 0.7593582887700535, 0.7593582887700535, 0.7593582887700535, 0.7566844919786097, 0.7566844919786097, 0.7566844919786097, 0.7566844919786097, 0.7540106951871658, 0.7513368983957219, 0.7513368983957219, 0.7513368983957219, 0.7513368983957219, 0.7486631016042781, 0.7486631016042781, 0.7486631016042781, 0.7486631016042781, 0.7486631016042781, 0.7459893048128342, 0.7433155080213903, 0.7406417112299465, 0.7406417112299465, 0.7379679144385026, 0.7379679144385026, 0.7352941176470589, 0.7352941176470589, 0.7352941176470589, 0.732620320855615, 0.732620320855615, 0.7299465240641712, 0.7299465240641712, 0.7299465240641712, 0.7272727272727273, 0.7272727272727273, 0.7272727272727273, 0.7272727272727273, 0.7272727272727273, 0.7272727272727273, 0.7245989304812834, 0.7245989304812834, 0.7245989304812834, 0.7219251336898396, 0.7192513368983957, 0.7192513368983957, 0.7192513368983957, 0.7192513368983957, 0.7165775401069518, 0.713903743315508, 0.713903743315508, 0.713903743315508, 0.713903743315508, 0.713903743315508, 0.713903743315508, 0.713903743315508, 0.7112299465240641, 0.7112299465240641, 0.7112299465240641, 0.7085561497326203, 0.7085561497326203, 0.7085561497326203, 0.7058823529411765, 0.7058823529411765, 0.7032085561497327, 0.7032085561497327, 0.7032085561497327, 0.7005347593582888, 0.6978609625668449, 0.6978609625668449, 0.6978609625668449, 0.6978609625668449, 0.6951871657754011, 0.6925133689839572, 0.6925133689839572, 0.6925133689839572, 0.6925133689839572, 0.6898395721925134, 0.6898395721925134, 0.6871657754010695, 0.6871657754010695, 0.6871657754010695, 0.6871657754010695, 0.6844919786096256, 0.6818181818181818, 0.679144385026738, 0.6764705882352942, 0.6764705882352942, 0.6764705882352942, 0.6764705882352942, 0.6764705882352942, 0.6764705882352942, 0.6764705882352942, 0.6737967914438503, 0.6737967914438503, 0.6711229946524064, 0.6684491978609626, 0.6684491978609626, 0.6657754010695187, 0.6631016042780749, 0.660427807486631, 0.660427807486631, 0.6577540106951871, 0.6550802139037433, 0.6524064171122995, 0.6497326203208557, 0.6497326203208557, 0.6497326203208557, 0.6497326203208557, 0.6470588235294118, 0.6443850267379679, 0.6443850267379679, 0.6417112299465241, 0.6417112299465241, 0.6390374331550802, 0.6390374331550802, 0.6390374331550802, 0.6363636363636364, 0.6363636363636364, 0.6336898395721925, 0.6336898395721925, 0.6336898395721925, 0.6336898395721925, 0.6336898395721925, 0.6336898395721925, 0.6310160427807486, 0.6283422459893048, 0.6283422459893048, 0.6283422459893048, 0.6283422459893048, 0.6256684491978609, 0.6256684491978609, 0.6256684491978609, 0.6229946524064172, 0.6229946524064172, 0.6203208556149733, 0.6203208556149733, 0.6176470588235294, 0.6149732620320856, 0.6122994652406417, 0.6096256684491979, 0.6096256684491979, 0.6096256684491979, 0.606951871657754, 0.606951871657754, 0.606951871657754, 0.606951871657754, 0.6042780748663101, 0.6016042780748663, 0.5989304812834224, 0.5989304812834224, 0.5989304812834224, 0.5989304812834224, 0.5989304812834224, 0.5989304812834224, 0.5989304812834224, 0.5962566844919787, 0.5962566844919787, 0.5962566844919787, 0.5935828877005348, 0.5935828877005348, 0.5935828877005348, 0.5909090909090909, 0.5882352941176471, 0.5855614973262032, 0.5828877005347594, 0.5828877005347594, 0.5828877005347594, 0.5828877005347594, 0.5828877005347594, 0.5828877005347594, 0.5802139037433155, 0.5802139037433155, 0.5802139037433155, 0.5802139037433155, 0.5775401069518716, 0.5748663101604278, 0.5721925133689839, 0.5721925133689839, 0.56951871657754, 0.5668449197860963, 0.5641711229946524, 0.5614973262032086, 0.5588235294117647, 0.5588235294117647, 0.5561497326203209, 0.553475935828877, 0.5508021390374331, 0.5481283422459893, 0.5454545454545454, 0.5427807486631016, 0.5427807486631016, 0.5427807486631016, 0.5401069518716578, 0.5374331550802139, 0.5347593582887701, 0.5320855614973262, 0.5294117647058824, 0.5294117647058824, 0.5294117647058824, 0.5267379679144385, 0.5267379679144385, 0.5240641711229946, 0.5240641711229946, 0.5240641711229946, 0.5213903743315508, 0.5187165775401069, 0.516042780748663, 0.5133689839572193, 0.5106951871657754, 0.5080213903743316, 0.5053475935828877, 0.5026737967914439, 0.5, 0.49732620320855614, 0.49732620320855614, 0.4946524064171123, 0.4919786096256685, 0.4893048128342246, 0.48663101604278075, 0.4839572192513369, 0.4839572192513369, 0.4839572192513369, 0.48128342245989303, 0.48128342245989303, 0.4786096256684492, 0.47593582887700536, 0.4732620320855615, 0.4732620320855615, 0.4732620320855615, 0.4732620320855615, 0.4732620320855615, 0.4732620320855615, 0.47058823529411764, 0.47058823529411764, 0.4679144385026738, 0.46524064171123, 0.46524064171123, 0.4625668449197861, 0.4625668449197861, 0.45989304812834225, 0.45989304812834225, 0.4572192513368984, 0.4572192513368984, 0.4572192513368984, 0.4572192513368984, 0.45454545454545453, 0.45187165775401067, 0.44919786096256686, 0.446524064171123, 0.44385026737967914, 0.4411764705882353, 0.4411764705882353, 0.4385026737967914, 0.4385026737967914, 0.4358288770053476, 0.43315508021390375, 0.4304812834224599, 0.42780748663101603, 0.42780748663101603, 0.42513368983957217, 0.42513368983957217, 0.42513368983957217, 0.42513368983957217, 0.42245989304812837, 0.42245989304812837, 0.42245989304812837, 0.42245989304812837, 0.42245989304812837, 0.42245989304812837, 0.42245989304812837, 0.42245989304812837, 0.4197860962566845, 0.41711229946524064, 0.4144385026737968, 0.4144385026737968, 0.4144385026737968, 0.4117647058823529, 0.4090909090909091, 0.40641711229946526, 0.40641711229946526, 0.40641711229946526, 0.40641711229946526, 0.4037433155080214, 0.40106951871657753, 0.3983957219251337, 0.3983957219251337, 0.39572192513368987, 0.39572192513368987, 0.393048128342246, 0.393048128342246, 0.393048128342246, 0.39037433155080214, 0.3877005347593583, 0.3877005347593583, 0.3877005347593583, 0.3850267379679144, 0.3850267379679144, 0.38235294117647056, 0.37967914438502676, 0.3770053475935829, 0.37433155080213903, 0.37433155080213903, 0.37433155080213903, 0.37433155080213903, 0.37433155080213903, 0.37433155080213903, 0.3716577540106952, 0.3689839572192513, 0.3663101604278075, 0.36363636363636365, 0.36363636363636365, 0.36363636363636365, 0.3609625668449198, 0.3582887700534759, 0.3582887700534759, 0.35561497326203206, 0.35561497326203206, 0.35561497326203206, 0.35294117647058826, 0.3502673796791444, 0.3502673796791444, 0.3502673796791444, 0.34759358288770054, 0.3449197860962567, 0.3422459893048128, 0.3422459893048128, 0.339572192513369, 0.33689839572192515, 0.3342245989304813, 0.3342245989304813, 0.3342245989304813, 0.3315508021390374, 0.32887700534759357, 0.32620320855614976, 0.32620320855614976, 0.32620320855614976, 0.3235294117647059, 0.32085561497326204, 0.32085561497326204, 0.3181818181818182, 0.3155080213903743, 0.31283422459893045, 0.31283422459893045, 0.31016042780748665, 0.31016042780748665, 0.31016042780748665, 0.31016042780748665, 0.3074866310160428, 0.3048128342245989, 0.30213903743315507, 0.2994652406417112, 0.2967914438502674, 0.29411764705882354, 0.2914438502673797, 0.2914438502673797, 0.2914438502673797, 0.2914438502673797, 0.2914438502673797, 0.2914438502673797, 0.2887700534759358, 0.2887700534759358, 0.28609625668449196, 0.28609625668449196, 0.28342245989304815, 0.28342245989304815, 0.28342245989304815, 0.28342245989304815, 0.2807486631016043, 0.2807486631016043, 0.27807486631016043, 0.27540106951871657, 0.27540106951871657, 0.2727272727272727, 0.2700534759358289, 0.26737967914438504, 0.2647058823529412, 0.2620320855614973, 0.25935828877005346, 0.25935828877005346, 0.25935828877005346, 0.25668449197860965, 0.2540106951871658, 0.25133689839572193, 0.25133689839572193, 0.24866310160427807, 0.24598930481283424, 0.24331550802139038, 0.24331550802139038, 0.24064171122994651, 0.23796791443850268, 0.23529411764705882, 0.23529411764705882, 0.23529411764705882, 0.23529411764705882, 0.23529411764705882, 0.232620320855615, 0.22994652406417113, 0.22727272727272727, 0.22459893048128343, 0.22192513368983957, 0.2192513368983957, 0.21657754010695188, 0.21390374331550802, 0.21390374331550802, 0.21390374331550802, 0.21122994652406418, 0.21122994652406418, 0.21122994652406418, 0.20855614973262032, 0.20855614973262032, 0.20588235294117646, 0.20588235294117646, 0.20588235294117646, 0.20320855614973263, 0.20320855614973263, 0.20320855614973263, 0.20053475935828877, 0.19786096256684493, 0.19786096256684493, 0.19518716577540107, 0.1925133689839572, 0.18983957219251338, 0.18983957219251338, 0.18716577540106952, 0.18449197860962566, 0.18181818181818182, 0.18181818181818182, 0.17914438502673796, 0.17914438502673796, 0.17647058823529413, 0.17379679144385027, 0.17379679144385027, 0.17379679144385027, 0.17379679144385027, 0.1711229946524064, 0.16844919786096257, 0.1657754010695187, 0.1657754010695187, 0.16310160427807488, 0.16042780748663102, 0.15775401069518716, 0.15508021390374332, 0.15240641711229946, 0.1497326203208556, 0.14705882352941177, 0.1443850267379679, 0.1443850267379679, 0.14171122994652408, 0.14171122994652408, 0.13903743315508021, 0.13903743315508021, 0.13903743315508021, 0.13636363636363635, 0.13368983957219252, 0.13101604278074866, 0.12834224598930483, 0.12566844919786097, 0.12299465240641712, 0.12032085561497326, 0.11764705882352941, 0.11764705882352941, 0.11497326203208556, 0.11229946524064172, 0.10962566844919786, 0.10962566844919786, 0.10695187165775401, 0.10427807486631016, 0.10160427807486631, 0.10160427807486631, 0.09893048128342247, 0.0962566844919786, 0.09358288770053476, 0.09090909090909091, 0.08823529411764706, 0.0855614973262032, 0.08288770053475936, 0.08021390374331551, 0.08021390374331551, 0.08021390374331551, 0.08021390374331551, 0.07754010695187166, 0.0748663101604278, 0.07219251336898395, 0.06951871657754011, 0.06951871657754011, 0.06951871657754011, 0.06684491978609626, 0.06417112299465241, 0.06417112299465241, 0.06149732620320856, 0.058823529411764705, 0.05614973262032086, 0.053475935828877004, 0.05080213903743316, 0.0481283422459893, 0.045454545454545456, 0.0427807486631016, 0.040106951871657755, 0.0374331550802139, 0.034759358288770054, 0.03208556149732621, 0.029411764705882353, 0.029411764705882353, 0.026737967914438502, 0.02406417112299465, 0.0213903743315508, 0.01871657754010695, 0.016042780748663103, 0.013368983957219251, 0.0106951871657754, 0.008021390374331552, 0.008021390374331552, 0.0053475935828877, 0.0053475935828877, 0.00267379679144385, 0.0], \"y\": [0.30456026058631924, 0.30399348003259985, 0.30424143556280586, 0.30448979591836733, 0.3047385620915033, 0.30498773507767785, 0.30523731587561376, 0.30548730548730546, 0.30573770491803276, 0.3059885151763741, 0.30623973727422005, 0.3064913722267872, 0.3067434210526316, 0.3069958847736626, 0.30724876441515653, 0.3075020610057708, 0.30775577557755773, 0.30800990916597853, 0.3082644628099174, 0.30851943755169564, 0.3087748344370861, 0.30903065451532724, 0.3092868988391376, 0.3095435684647303, 0.30980066445182725, 0.3100581878636742, 0.3103161397670549, 0.3105745212323064, 0.31083333333333335, 0.311092577147623, 0.3113522537562604, 0.3116123642439432, 0.31187290969899667, 0.31213389121338914, 0.31239530988274705, 0.3126571668063705, 0.31291946308724833, 0.3131821998320739, 0.3134453781512605, 0.3137089991589571, 0.31397306397306396, 0.3142375737152485, 0.3145025295109612, 0.31476793248945145, 0.31503378378378377, 0.3153000845308538, 0.3155668358714044, 0.31583403895004236, 0.31610169491525425, 0.31636980491942324, 0.3166383701188455, 0.3169073916737468, 0.3171768707482993, 0.3174468085106383, 0.31771720613287907, 0.31798806479113384, 0.318259385665529, 0.318531169940222, 0.3188034188034188, 0.31907613344739094, 0.3193493150684932, 0.3196229648671808, 0.31989708404802747, 0.3201716738197425, 0.32044673539518903, 0.3207222699914015, 0.32099827882960413, 0.32127476313522824, 0.32155172413793104, 0.32182916307161347, 0.3221070811744387, 0.32238547968885045, 0.3226643598615917, 0.3229437229437229, 0.32322357019064124, 0.32350390286209885, 0.3237847222222222, 0.32406602953953084, 0.3243478260869565, 0.32463011314186246, 0.3249128919860627, 0.32519616390584133, 0.3254799301919721, 0.325764192139738, 0.32604895104895104, 0.326334208223972, 0.3266199649737303, 0.32690622261174407, 0.32719298245614037, 0.32748024582967517, 0.327768014059754, 0.3280562884784521, 0.3283450704225352, 0.32863436123348017, 0.3289241622574956, 0.3292144748455428, 0.3295053003533569, 0.3297966401414677, 0.33008849557522124, 0.3303808680248007, 0.33067375886524825, 0.33096716947648624, 0.33126110124333924, 0.33155555555555555, 0.3318505338078292, 0.3321460373998219, 0.3324420677361854, 0.3327386262265834, 0.33303571428571427, 0.3333333333333333, 0.3336314847942755, 0.3339301700984781, 0.3342293906810036, 0.3345291479820628, 0.3348294434470377, 0.33513027852650495, 0.335431654676259, 0.3357335733573357, 0.33603603603603605, 0.3363390441839495, 0.33664259927797835, 0.3369467028003613, 0.337251356238698, 0.3375565610859729, 0.3378623188405797, 0.3381686310063463, 0.338475499092559, 0.3387829246139873, 0.3390909090909091, 0.3393994540491356, 0.33970856102003644, 0.34001823154056515, 0.3403284671532847, 0.3406392694063927, 0.34095063985374774, 0.3412625800548948, 0.3415750915750916, 0.34188817598533455, 0.3422018348623853, 0.34251606978879706, 0.3428308823529412, 0.34314627414903404, 0.3434622467771639, 0.34285714285714286, 0.3422509225092251, 0.3425669436749769, 0.34288354898336415, 0.34320074005550416, 0.3435185185185185, 0.3438368860055607, 0.34415584415584416, 0.34447539461467036, 0.3447955390334573, 0.34511627906976744, 0.34543761638733705, 0.34575955265610436, 0.3460820895522388, 0.3464052287581699, 0.3467289719626168, 0.3470533208606174, 0.34737827715355807, 0.3477038425492034, 0.34803001876172607, 0.3483568075117371, 0.34774436090225563, 0.34807149576669805, 0.3483992467043315, 0.34872761545711595, 0.3490566037735849, 0.3493862134088763, 0.3497164461247637, 0.3500473036896878, 0.3503787878787879, 0.35071090047393366, 0.35009487666034156, 0.3504273504273504, 0.35076045627376423, 0.3510941960038059, 0.3514285714285714, 0.3517635843660629, 0.3520992366412214, 0.3524355300859599, 0.3527724665391969, 0.35311004784688993, 0.35344827586206895, 0.3537871524448706, 0.3531669865642994, 0.35350624399615754, 0.3528846153846154, 0.3532242540904716, 0.3535645472061657, 0.35390549662487947, 0.35424710424710426, 0.3545893719806763, 0.35493230174081236, 0.3552758954501452, 0.3556201550387597, 0.3559650824442289, 0.35631067961165047, 0.3566569484936832, 0.35700389105058367, 0.35735150925024345, 0.35769980506822613, 0.35804878048780486, 0.3583984375, 0.3587487781036168, 0.35909980430528377, 0.3594515181194907, 0.35980392156862745, 0.3601570166830226, 0.3605108055009823, 0.3608652900688299, 0.3612204724409449, 0.361576354679803, 0.3619329388560158, 0.36229022704837116, 0.36264822134387353, 0.3630069238377844, 0.36336633663366336, 0.36372646184340934, 0.36408730158730157, 0.3644488579940417, 0.3648111332007952, 0.36517412935323385, 0.3645418326693227, 0.36490528414755735, 0.3652694610778443, 0.36563436563436563, 0.366, 0.3663663663663664, 0.3667334669338677, 0.36710130391173523, 0.3674698795180723, 0.3678391959798995, 0.3682092555331992, 0.3685800604229607, 0.3689516129032258, 0.3693239152371342, 0.3696969696969697, 0.3700707785642063, 0.37044534412955465, 0.3708206686930091, 0.3711967545638945, 0.3715736040609137, 0.3719512195121951, 0.3723296032553408, 0.3727087576374745, 0.3730886850152905, 0.373469387755102, 0.3738508682328907, 0.37423312883435583, 0.3735926305015353, 0.3739754098360656, 0.37435897435897436, 0.37474332648870634, 0.3751284686536485, 0.37551440329218105, 0.37590113285272914, 0.37628865979381443, 0.3766769865841073, 0.37706611570247933, 0.37745604963805585, 0.3778467908902691, 0.37823834196891193, 0.37863070539419086, 0.3790238836967809, 0.3794178794178794, 0.3798126951092612, 0.3802083333333333, 0.3806047966631908, 0.38100208768267224, 0.38140020898641586, 0.3817991631799163, 0.38219895287958117, 0.38259958071278827, 0.3830010493179433, 0.38340336134453784, 0.38380651945320715, 0.38421052631578945, 0.3835616438356164, 0.38396624472573837, 0.3843717001055966, 0.38477801268498946, 0.3851851851851852, 0.3855932203389831, 0.3860021208907741, 0.386411889596603, 0.38682252922422955, 0.3872340425531915, 0.3876464323748669, 0.3880597014925373, 0.38847385272145146, 0.3888888888888889, 0.3893048128342246, 0.3897216274089936, 0.39013933547695606, 0.3905579399141631, 0.39097744360902253, 0.3913978494623656, 0.39181916038751347, 0.3922413793103448, 0.3926645091693635, 0.39200863930885527, 0.3924324324324324, 0.39285714285714285, 0.39328277356446373, 0.39370932754880694, 0.3941368078175896, 0.39456521739130435, 0.39499455930359084, 0.3954248366013072, 0.39585605234460197, 0.3962882096069869, 0.39672131147540984, 0.3971553610503282, 0.39759036144578314, 0.3980263157894737, 0.39846322722283206, 0.3989010989010989, 0.39823982398239827, 0.3986784140969163, 0.39911797133406834, 0.3995584988962472, 0.4, 0.4004424778761062, 0.4008859357696567, 0.401330376940133, 0.4017758046614872, 0.4022222222222222, 0.40266963292547275, 0.40200445434298443, 0.40245261984392416, 0.4029017857142857, 0.4033519553072626, 0.40380313199105144, 0.40425531914893614, 0.40358744394618834, 0.40404040404040403, 0.4044943820224719, 0.4049493813273341, 0.40540540540540543, 0.40586245772266066, 0.40632054176072235, 0.4067796610169492, 0.4072398190045249, 0.40770101925254815, 0.40816326530612246, 0.4086265607264472, 0.4090909090909091, 0.40955631399317405, 0.41002277904328016, 0.4104903078677309, 0.410958904109589, 0.4114285714285714, 0.41189931350114417, 0.41237113402061853, 0.41284403669724773, 0.4133180252583238, 0.41379310344827586, 0.4142692750287687, 0.4147465437788018, 0.41522491349480967, 0.41454965357967666, 0.41502890173410406, 0.41550925925925924, 0.4159907300115875, 0.41647331786542924, 0.4169570267131243, 0.4174418604651163, 0.4179278230500582, 0.4184149184149184, 0.41890315052508753, 0.41939252336448596, 0.4198830409356725, 0.41920374707259955, 0.4196951934349355, 0.41901408450704225, 0.4195064629847238, 0.4188235294117647, 0.41813898704358066, 0.4186320754716981, 0.41912632821723733, 0.41962174940898345, 0.41893491124260357, 0.4194312796208531, 0.4199288256227758, 0.42042755344418054, 0.41973840665873957, 0.41904761904761906, 0.4195470798569726, 0.4200477326968974, 0.42054958183990443, 0.41985645933014354, 0.42035928143712575, 0.420863309352518, 0.42136854741896757, 0.421875, 0.4223826714801444, 0.42289156626506025, 0.4234016887816647, 0.42391304347826086, 0.4244256348246675, 0.42493946731234866, 0.42424242424242425, 0.42475728155339804, 0.425273390036452, 0.4257907542579075, 0.42630937880633374, 0.4268292682926829, 0.42735042735042733, 0.4278728606356968, 0.4283965728274174, 0.42892156862745096, 0.4294478527607362, 0.42997542997543, 0.43050430504305043, 0.43103448275862066, 0.4315659679408138, 0.43209876543209874, 0.4326328800988875, 0.43316831683168316, 0.43246592317224286, 0.43300248138957814, 0.4335403726708075, 0.43407960199004975, 0.43462017434620176, 0.43516209476309226, 0.43570536828963796, 0.435, 0.4355444305381727, 0.43609022556390975, 0.4366373902132999, 0.435929648241206, 0.43647798742138366, 0.43702770780856426, 0.43757881462799497, 0.43813131313131315, 0.438685208596713, 0.43924050632911393, 0.43979721166032953, 0.43908629441624364, 0.43964421855146124, 0.4402035623409669, 0.4407643312101911, 0.44005102040816324, 0.44061302681992337, 0.4411764705882353, 0.44174135723431496, 0.4423076923076923, 0.4428754813863928, 0.4434447300771208, 0.444015444015444, 0.44458762886597936, 0.44516129032258067, 0.44573643410852715, 0.4463130659767141, 0.44689119170984454, 0.4474708171206226, 0.44805194805194803, 0.4486345903771131, 0.44921875, 0.4498044328552803, 0.45039164490861616, 0.4496732026143791, 0.450261780104712, 0.44954128440366975, 0.45013123359580054, 0.44940867279894875, 0.45, 0.4505928853754941, 0.45118733509234826, 0.45178335535006603, 0.4523809523809524, 0.45165562913907287, 0.45225464190981435, 0.45152722443559096, 0.4521276595744681, 0.45272969374167776, 0.4533333333333333, 0.4539385847797063, 0.45454545454545453, 0.45515394912985274, 0.4544235924932976, 0.45503355704697984, 0.45564516129032256, 0.45625841184387617, 0.4568733153638814, 0.45614035087719296, 0.45675675675675675, 0.45737483085250336, 0.45799457994579945, 0.45861601085481685, 0.4592391304347826, 0.4598639455782313, 0.4604904632152589, 0.461118690313779, 0.46174863387978143, 0.46238030095759236, 0.46301369863013697, 0.46364883401920437, 0.46291208791208793, 0.46354883081155435, 0.4641873278236915, 0.46482758620689657, 0.4654696132596685, 0.4661134163208852, 0.4667590027700831, 0.46740638002773927, 0.46805555555555556, 0.46870653685674546, 0.46935933147632314, 0.4700139470013947, 0.47067039106145253, 0.47132867132867134, 0.47058823529411764, 0.46984572230014027, 0.4705056179775281, 0.469760900140647, 0.46901408450704224, 0.4696755994358251, 0.4703389830508475, 0.471004243281471, 0.471671388101983, 0.4723404255319149, 0.47301136363636365, 0.47368421052631576, 0.47435897435897434, 0.47360912981455067, 0.4742857142857143, 0.474964234620887, 0.47421203438395415, 0.4748923959827834, 0.4755747126436782, 0.4762589928057554, 0.4769452449567723, 0.47763347763347763, 0.47832369942196534, 0.47901591895803186, 0.4797101449275362, 0.48040638606676345, 0.4796511627906977, 0.48034934497816595, 0.48104956268221577, 0.4802919708029197, 0.47953216374269003, 0.4802342606149341, 0.4809384164222874, 0.48164464023494863, 0.4823529411764706, 0.48159057437407954, 0.4823008849557522, 0.48301329394387, 0.48372781065088755, 0.48444444444444446, 0.4836795252225519, 0.48439821693907875, 0.4836309523809524, 0.4843517138599106, 0.48507462686567165, 0.4857997010463378, 0.4865269461077844, 0.487256371814093, 0.487987987987988, 0.48872180451127817, 0.4894578313253012, 0.48868778280542985, 0.48942598187311176, 0.49016641452344933, 0.4909090909090909, 0.49165402124430957, 0.49240121580547114, 0.4931506849315068, 0.4923780487804878, 0.49312977099236643, 0.4938837920489297, 0.49310872894333846, 0.4938650306748466, 0.4946236559139785, 0.49538461538461537, 0.49614791987673346, 0.49537037037037035, 0.49613601236476046, 0.4969040247678019, 0.49612403100775193, 0.4968944099378882, 0.49611197511664074, 0.4953271028037383, 0.4960998439937597, 0.496875, 0.49765258215962443, 0.49843260188087773, 0.49921507064364207, 0.5, 0.5007874015748032, 0.501577287066246, 0.5007898894154819, 0.5015822784810127, 0.5023771790808241, 0.5015873015873016, 0.5023847376788553, 0.5031847133757962, 0.5039872408293461, 0.5047923322683706, 0.5056, 0.5064102564102564, 0.507223113964687, 0.5080385852090032, 0.5088566827697263, 0.5096774193548387, 0.5088852988691438, 0.5097087378640777, 0.5105348460291734, 0.5113636363636364, 0.5121951219512195, 0.5130293159609121, 0.5122349102773246, 0.5130718954248366, 0.513911620294599, 0.5147540983606558, 0.5155993431855501, 0.5164473684210527, 0.5172981878088962, 0.5181518151815182, 0.5173553719008265, 0.5165562913907285, 0.5157545605306799, 0.5166112956810631, 0.5158069883527454, 0.5166666666666667, 0.5175292153589316, 0.5183946488294314, 0.5175879396984925, 0.5184563758389261, 0.519327731092437, 0.5202020202020202, 0.521079258010118, 0.5219594594594594, 0.5211505922165821, 0.5203389830508475, 0.5212224108658744, 0.5221088435374149, 0.5229982964224872, 0.5238907849829352, 0.5247863247863248, 0.5256849315068494, 0.5265866209262435, 0.5274914089347079, 0.5283993115318416, 0.5275862068965518, 0.5284974093264249, 0.5294117647058824, 0.5303292894280762, 0.5295138888888888, 0.5304347826086957, 0.5313588850174216, 0.5305410122164049, 0.5314685314685315, 0.532399299474606, 0.5333333333333333, 0.5342706502636204, 0.5334507042253521, 0.5326278659611993, 0.5335689045936396, 0.5345132743362832, 0.5354609929078015, 0.5346358792184724, 0.5355871886120996, 0.5365418894830659, 0.5375, 0.5384615384615384, 0.5394265232974911, 0.5403949730700179, 0.5413669064748201, 0.5423423423423424, 0.5415162454873647, 0.5424954792043399, 0.5416666666666666, 0.5408348457350273, 0.5418181818181819, 0.5428051001821493, 0.541970802919708, 0.5429616087751371, 0.5421245421245421, 0.5431192660550459, 0.5422794117647058, 0.5432780847145487, 0.544280442804428, 0.5452865064695009, 0.5462962962962963, 0.5454545454545454, 0.5464684014869888, 0.547486033519553, 0.5485074626865671, 0.5495327102803739, 0.548689138576779, 0.549718574108818, 0.5488721804511278, 0.5499058380414312, 0.5490566037735849, 0.5482041587901701, 0.5492424242424242, 0.5502846299810247, 0.5494296577946768, 0.5504761904761905, 0.549618320610687, 0.5506692160611855, 0.5517241379310345, 0.5508637236084453, 0.551923076923077, 0.5529865125240848, 0.5540540540540541, 0.5531914893617021, 0.5523255813953488, 0.5533980582524272, 0.5525291828793775, 0.5536062378167641, 0.5546875, 0.5557729941291585, 0.5549019607843138, 0.555992141453831, 0.5570866141732284, 0.5581854043392505, 0.5573122529644269, 0.5564356435643565, 0.5575396825396826, 0.558648111332008, 0.5597609561752988, 0.5588822355289421, 0.56, 0.561122244488978, 0.5622489959839357, 0.5633802816901409, 0.5625, 0.5616161616161616, 0.5607287449392713, 0.5618661257606491, 0.5609756097560976, 0.5621181262729125, 0.5612244897959183, 0.5623721881390593, 0.5635245901639344, 0.5626283367556468, 0.5637860082304527, 0.5628865979381443, 0.5640495867768595, 0.5652173913043478, 0.5643153526970954, 0.5654885654885655, 0.5666666666666667, 0.5678496868475992, 0.5690376569037657, 0.570230607966457, 0.569327731092437, 0.5705263157894737, 0.5717299578059072, 0.5708245243128964, 0.5699152542372882, 0.5711252653927813, 0.5723404255319149, 0.5735607675906184, 0.5726495726495726, 0.5717344753747323, 0.572961373390558, 0.5741935483870968, 0.5754310344827587, 0.5766738660907127, 0.577922077922078, 0.579175704989154, 0.5782608695652174, 0.579520697167756, 0.5807860262008734, 0.5798687089715536, 0.581140350877193, 0.5824175824175825, 0.5814977973568282, 0.5827814569536424, 0.581858407079646, 0.5831485587583148, 0.5844444444444444, 0.5835189309576837, 0.5825892857142857, 0.5838926174496645, 0.5852017937219731, 0.5865168539325842, 0.5855855855855856, 0.5846501128668171, 0.5859728506787331, 0.5873015873015873, 0.5886363636363636, 0.5876993166287016, 0.589041095890411, 0.5881006864988558, 0.5894495412844036, 0.5908045977011495, 0.5921658986175116, 0.5912240184757506, 0.5902777777777778, 0.5893271461716937, 0.5883720930232558, 0.5897435897435898, 0.5911214953271028, 0.5925058548009368, 0.5938967136150235, 0.5952941176470589, 0.5966981132075472, 0.5957446808510638, 0.5971563981042654, 0.5961995249406176, 0.5952380952380952, 0.5966587112171837, 0.5956937799043063, 0.5947242206235012, 0.59375, 0.5951807228915663, 0.5942028985507246, 0.5932203389830508, 0.5922330097087378, 0.5912408759124088, 0.5926829268292683, 0.5941320293398533, 0.5955882352941176, 0.5945945945945946, 0.5935960591133005, 0.5950617283950618, 0.594059405940594, 0.5955334987593052, 0.5945273631840796, 0.5960099750623441, 0.5975, 0.5964912280701754, 0.5979899497487438, 0.5969773299748111, 0.5984848484848485, 0.6, 0.6015228426395939, 0.6030534351145038, 0.6045918367346939, 0.6035805626598465, 0.6025641025641025, 0.6041131105398457, 0.6056701030927835, 0.6072351421188631, 0.6062176165803109, 0.6077922077922078, 0.609375, 0.608355091383812, 0.6099476439790575, 0.6089238845144357, 0.6105263157894737, 0.6094986807387863, 0.6084656084656085, 0.6074270557029178, 0.6063829787234043, 0.608, 0.6096256684491979, 0.6085790884718498, 0.6102150537634409, 0.6118598382749326, 0.6135135135135135, 0.6124661246612466, 0.6114130434782609, 0.6103542234332425, 0.6120218579234973, 0.6136986301369863, 0.6153846153846154, 0.6170798898071626, 0.6187845303867403, 0.6204986149584487, 0.6194444444444445, 0.6211699164345403, 0.6229050279329609, 0.6218487394957983, 0.6235955056179775, 0.6253521126760564, 0.6242937853107344, 0.623229461756374, 0.6221590909090909, 0.6210826210826211, 0.6228571428571429, 0.6246418338108882, 0.6264367816091954, 0.6282420749279539, 0.630057803468208, 0.6289855072463768, 0.6308139534883721, 0.6326530612244898, 0.6345029239766082, 0.6334310850439883, 0.6323529411764706, 0.6312684365781711, 0.6331360946745562, 0.6320474777448071, 0.6309523809523809, 0.6298507462686567, 0.6287425149700598, 0.6276276276276276, 0.6295180722891566, 0.6283987915407855, 0.6272727272727273, 0.6261398176291794, 0.625, 0.6238532110091743, 0.6226993865030674, 0.6246153846153846, 0.6265432098765432, 0.6253869969040248, 0.6242236024844721, 0.6230529595015576, 0.621875, 0.6206896551724138, 0.6226415094339622, 0.6246056782334385, 0.6234177215189873, 0.6253968253968254, 0.6242038216560509, 0.6261980830670927, 0.6282051282051282, 0.6270096463022508, 0.6258064516129033, 0.6245954692556634, 0.6233766233766234, 0.6221498371335505, 0.6209150326797386, 0.6196721311475409, 0.618421052631579, 0.6171617161716172, 0.6158940397350994, 0.6179401993355482, 0.6166666666666667, 0.6153846153846154, 0.6140939597315436, 0.6127946127946128, 0.6114864864864865, 0.6135593220338983, 0.6156462585034014, 0.6143344709897611, 0.6164383561643836, 0.6151202749140894, 0.6137931034482759, 0.6124567474048442, 0.6145833333333334, 0.6167247386759582, 0.6188811188811189, 0.6210526315789474, 0.6232394366197183, 0.6219081272084805, 0.624113475177305, 0.6227758007117438, 0.6214285714285714, 0.6236559139784946, 0.6223021582733813, 0.6245487364620939, 0.6231884057971014, 0.6254545454545455, 0.6240875912408759, 0.6263736263736264, 0.6286764705882353, 0.6309963099630996, 0.6296296296296297, 0.6282527881040892, 0.6268656716417911, 0.6254681647940075, 0.6240601503759399, 0.6226415094339622, 0.625, 0.623574144486692, 0.6259541984732825, 0.6245210727969349, 0.6230769230769231, 0.6216216216216216, 0.6201550387596899, 0.622568093385214, 0.62109375, 0.6235294117647059, 0.6259842519685039, 0.6284584980237155, 0.626984126984127, 0.6294820717131474, 0.632, 0.6345381526104418, 0.6370967741935484, 0.6396761133603239, 0.6422764227642277, 0.6448979591836734, 0.6434426229508197, 0.6419753086419753, 0.640495867768595, 0.6431535269709544, 0.6458333333333334, 0.6443514644351465, 0.6428571428571429, 0.6413502109704642, 0.6440677966101694, 0.6468085106382979, 0.6495726495726496, 0.648068669527897, 0.646551724137931, 0.645021645021645, 0.6478260869565218, 0.6462882096069869, 0.6491228070175439, 0.6475770925110133, 0.6504424778761062, 0.6533333333333333, 0.6517857142857143, 0.6502242152466368, 0.6531531531531531, 0.6561085972850679, 0.6545454545454545, 0.6575342465753424, 0.6559633027522935, 0.6543778801843319, 0.6527777777777778, 0.6511627906976745, 0.6542056074766355, 0.6572769953051644, 0.660377358490566, 0.6635071090047393, 0.6666666666666666, 0.6650717703349283, 0.6634615384615384, 0.6618357487922706, 0.6601941747572816, 0.6634146341463415, 0.6666666666666666, 0.6650246305418719, 0.6633663366336634, 0.6666666666666666, 0.665, 0.6683417085427136, 0.6717171717171717, 0.6700507614213198, 0.6683673469387755, 0.6717948717948717, 0.6752577319587629, 0.6735751295336787, 0.671875, 0.6701570680628273, 0.6736842105263158, 0.671957671957672, 0.6702127659574468, 0.6684491978609626, 0.6720430107526881, 0.6756756756756757, 0.6739130434782609, 0.6721311475409836, 0.6703296703296703, 0.6740331491712708, 0.6777777777777778, 0.6759776536312849, 0.6741573033707865, 0.6779661016949152, 0.6761363636363636, 0.6742857142857143, 0.6724137931034483, 0.6763005780346821, 0.6744186046511628, 0.6783625730994152, 0.6823529411764706, 0.6863905325443787, 0.6845238095238095, 0.6826347305389222, 0.6807228915662651, 0.6787878787878788, 0.676829268292683, 0.6748466257668712, 0.6728395061728395, 0.6770186335403726, 0.68125, 0.6855345911949685, 0.689873417721519, 0.6942675159235668, 0.6923076923076923, 0.6967741935483871, 0.6948051948051948, 0.6993464052287581, 0.6973684210526315, 0.7019867549668874, 0.7066666666666667, 0.7114093959731543, 0.7094594594594594, 0.7142857142857143, 0.7123287671232876, 0.7103448275862069, 0.7152777777777778, 0.7132867132867133, 0.7112676056338029, 0.7092198581560284, 0.7071428571428572, 0.7050359712230215, 0.7028985507246377, 0.708029197080292, 0.7132352941176471, 0.7111111111111111, 0.7089552238805971, 0.706766917293233, 0.7121212121212122, 0.7099236641221374, 0.7076923076923077, 0.7054263565891473, 0.7109375, 0.7086614173228346, 0.7063492063492064, 0.704, 0.7096774193548387, 0.7154471544715447, 0.7213114754098361, 0.7272727272727273, 0.725, 0.7226890756302521, 0.7203389830508474, 0.717948717948718, 0.7155172413793104, 0.7130434782608696, 0.7105263157894737, 0.7079646017699115, 0.7142857142857143, 0.7207207207207207, 0.7181818181818181, 0.7247706422018348, 0.7314814814814815, 0.7289719626168224, 0.7358490566037735, 0.7333333333333333, 0.7403846153846154, 0.7475728155339806, 0.7450980392156863, 0.7524752475247525, 0.76, 0.7575757575757576, 0.7551020408163265, 0.7628865979381443, 0.7604166666666666, 0.7578947368421053, 0.7553191489361702, 0.7634408602150538, 0.7608695652173914, 0.7582417582417582, 0.7555555555555555, 0.7640449438202247, 0.7613636363636364, 0.7701149425287356, 0.7674418604651163, 0.7647058823529411, 0.7738095238095238, 0.7831325301204819, 0.7926829268292683, 0.7901234567901234, 0.7875, 0.7848101265822784, 0.7948717948717948, 0.7922077922077922, 0.7894736842105263, 0.7866666666666666, 0.7837837837837838, 0.7808219178082192, 0.7777777777777778, 0.7746478873239436, 0.7714285714285715, 0.782608695652174, 0.7794117647058824, 0.7910447761194029, 0.7878787878787878, 0.8, 0.8125, 0.8095238095238095, 0.8064516129032258, 0.8032786885245902, 0.8, 0.7966101694915254, 0.7931034482758621, 0.7894736842105263, 0.7857142857142857, 0.8, 0.7962962962962963, 0.7924528301886793, 0.7884615384615384, 0.803921568627451, 0.8, 0.7959183673469388, 0.7916666666666666, 0.8085106382978723, 0.8043478260869565, 0.8, 0.7954545454545454, 0.7906976744186046, 0.7857142857142857, 0.7804878048780488, 0.775, 0.7692307692307693, 0.7894736842105263, 0.8108108108108109, 0.8333333333333334, 0.8285714285714286, 0.8235294117647058, 0.8181818181818182, 0.8125, 0.8387096774193549, 0.8666666666666667, 0.8620689655172413, 0.8571428571428571, 0.8888888888888888, 0.8846153846153846, 0.88, 0.875, 0.8695652173913043, 0.8636363636363636, 0.8571428571428571, 0.85, 0.8421052631578947, 0.8333333333333334, 0.8235294117647058, 0.8125, 0.8, 0.7857142857142857, 0.8461538461538461, 0.8333333333333334, 0.8181818181818182, 0.8, 0.7777777777777778, 0.75, 0.7142857142857143, 0.6666666666666666, 0.6, 0.75, 0.6666666666666666, 1.0, 1.0, 1.0]}, {\"mode\": \"lines\", \"name\": \"KNN\", \"type\": \"scatter\", \"x\": [1.0, 0.9652406417112299, 0.8957219251336899, 0.8342245989304813, 0.7433155080213903, 0.660427807486631, 0.4385026737967914, 0.21122994652406418, 0.0], \"y\": [0.2658137882018479, 0.3602794411177645, 0.3978622327790974, 0.426812585499316, 0.4656616415410385, 0.5051124744376279, 0.543046357615894, 0.6124031007751938, 1.0]}, {\"mode\": \"lines\", \"name\": \"DT\", \"type\": \"scatter\", \"x\": [1.0, 0.9037433155080213, 0.9010695187165776, 0.8983957219251337, 0.8983957219251337, 0.893048128342246, 0.893048128342246, 0.893048128342246, 0.893048128342246, 0.8823529411764706, 0.8823529411764706, 0.8796791443850267, 0.8796791443850267, 0.8770053475935828, 0.8743315508021391, 0.8743315508021391, 0.8743315508021391, 0.8689839572192514, 0.8636363636363636, 0.8475935828877005, 0.8449197860962567, 0.8315508021390374, 0.8315508021390374, 0.8235294117647058, 0.8235294117647058, 0.8048128342245989, 0.8021390374331551, 0.8021390374331551, 0.786096256684492, 0.7834224598930482, 0.7754010695187166, 0.7700534759358288, 0.7700534759358288, 0.7593582887700535, 0.7433155080213903, 0.7433155080213903, 0.7379679144385026, 0.7352941176470589, 0.7245989304812834, 0.7192513368983957, 0.7165775401069518, 0.7085561497326203, 0.6978609625668449, 0.6978609625668449, 0.6978609625668449, 0.6978609625668449, 0.6871657754010695, 0.6818181818181818, 0.6684491978609626, 0.6550802139037433, 0.6443850267379679, 0.6443850267379679, 0.6176470588235294, 0.6096256684491979, 0.606951871657754, 0.5802139037433155, 0.5802139037433155, 0.5748663101604278, 0.5748663101604278, 0.5748663101604278, 0.5748663101604278, 0.5641711229946524, 0.5267379679144385, 0.5213903743315508, 0.4732620320855615, 0.4732620320855615, 0.46524064171123, 0.4625668449197861, 0.44919786096256686, 0.446524064171123, 0.4411764705882353, 0.4385026737967914, 0.42780748663101603, 0.2620320855614973, 0.25133689839572193, 0.21122994652406418, 0.20588235294117646, 0.20588235294117646, 0.16844919786096257, 0.16042780748663102, 0.15508021390374332, 0.07754010695187166, 0.045454545454545456, 0.0], \"y\": [0.2658137882018479, 0.3642241379310345, 0.3955399061032864, 0.3990498812351544, 0.40336134453781514, 0.4103194103194103, 0.41490683229813663, 0.42118537200504413, 0.42278481012658226, 0.42362002567394097, 0.4280155642023346, 0.4283854166666667, 0.43119266055045874, 0.4350132625994695, 0.4342629482071713, 0.436, 0.43658210947930576, 0.43859649122807015, 0.4412568306010929, 0.43966712898751736, 0.4388888888888889, 0.4423897581792319, 0.4468390804597701, 0.44702467343976776, 0.45095168374816985, 0.45263157894736844, 0.45592705167173253, 0.4580152671755725, 0.46740858505564387, 0.46656050955414013, 0.4700162074554295, 0.46905537459283386, 0.4698205546492659, 0.46942148760330576, 0.468013468013468, 0.4688026981450253, 0.4685908319185059, 0.4684838160136286, 0.4664371772805508, 0.4670138888888889, 0.46689895470383275, 0.46409807355516636, 0.4869402985074627, 0.48785046728971965, 0.4906015037593985, 0.4952561669829222, 0.5049115913555993, 0.5079681274900398, 0.5091649694501018, 0.5072463768115942, 0.5063025210084033, 0.5073684210526316, 0.506578947368421, 0.5158371040723982, 0.5159090909090909, 0.5266990291262136, 0.5344827586206896, 0.5443037974683544, 0.5456852791878173, 0.5470737913486005, 0.548469387755102, 0.5523560209424084, 0.5412087912087912, 0.5416666666666666, 0.554858934169279, 0.5566037735849056, 0.5667752442996743, 0.565359477124183, 0.5637583892617449, 0.5622895622895623, 0.5612244897959183, 0.5694444444444444, 0.5693950177935944, 0.5212765957446809, 0.5222222222222223, 0.5031847133757962, 0.5167785234899329, 0.5202702702702703, 0.4921875, 0.5042016806722689, 0.5043478260869565, 0.35365853658536583, 0.26153846153846155, 1.0]}, {\"mode\": \"lines\", \"name\": \"SVC\", \"type\": \"scatter\", \"x\": [1.0, 0.9973262032085561, 0.9973262032085561, 0.9973262032085561, 0.9973262032085561, 0.9973262032085561, 0.9973262032085561, 0.9973262032085561, 0.9973262032085561, 0.9973262032085561, 0.9973262032085561, 0.9973262032085561, 0.9973262032085561, 0.9973262032085561, 0.9973262032085561, 0.9973262032085561, 0.9973262032085561, 0.9973262032085561, 0.9973262032085561, 0.9946524064171123, 0.9946524064171123, 0.9946524064171123, 0.9946524064171123, 0.9946524064171123, 0.9919786096256684, 0.9919786096256684, 0.9919786096256684, 0.9919786096256684, 0.9919786096256684, 0.9919786096256684, 0.9919786096256684, 0.9919786096256684, 0.9919786096256684, 0.9919786096256684, 0.9919786096256684, 0.9919786096256684, 0.9919786096256684, 0.9919786096256684, 0.9919786096256684, 0.9919786096256684, 0.9919786096256684, 0.9919786096256684, 0.9919786096256684, 0.9919786096256684, 0.9919786096256684, 0.9919786096256684, 0.9919786096256684, 0.9919786096256684, 0.9919786096256684, 0.9919786096256684, 0.9919786096256684, 0.9919786096256684, 0.9919786096256684, 0.9919786096256684, 0.9919786096256684, 0.9919786096256684, 0.9919786096256684, 0.9919786096256684, 0.9919786096256684, 0.9919786096256684, 0.9919786096256684, 0.9919786096256684, 0.9919786096256684, 0.9893048128342246, 0.9893048128342246, 0.9893048128342246, 0.9866310160427807, 0.9866310160427807, 0.9866310160427807, 0.9866310160427807, 0.9866310160427807, 0.9866310160427807, 0.9866310160427807, 0.9866310160427807, 0.9866310160427807, 0.9866310160427807, 0.9866310160427807, 0.9866310160427807, 0.9866310160427807, 0.9866310160427807, 0.9866310160427807, 0.9866310160427807, 0.9866310160427807, 0.9866310160427807, 0.9866310160427807, 0.983957219251337, 0.983957219251337, 0.983957219251337, 0.983957219251337, 0.983957219251337, 0.983957219251337, 0.983957219251337, 0.983957219251337, 0.9812834224598931, 0.9812834224598931, 0.9812834224598931, 0.9812834224598931, 0.9812834224598931, 0.9812834224598931, 0.9812834224598931, 0.9812834224598931, 0.9812834224598931, 0.9812834224598931, 0.9812834224598931, 0.9812834224598931, 0.9812834224598931, 0.9812834224598931, 0.9812834224598931, 0.9812834224598931, 0.9812834224598931, 0.9812834224598931, 0.9786096256684492, 0.9786096256684492, 0.9786096256684492, 0.9786096256684492, 0.9786096256684492, 0.9786096256684492, 0.9786096256684492, 0.9786096256684492, 0.9786096256684492, 0.9786096256684492, 0.9786096256684492, 0.9786096256684492, 0.9786096256684492, 0.9786096256684492, 0.9786096256684492, 0.9786096256684492, 0.9786096256684492, 0.9786096256684492, 0.9786096256684492, 0.9786096256684492, 0.9786096256684492, 0.9786096256684492, 0.9786096256684492, 0.9786096256684492, 0.9759358288770054, 0.9732620320855615, 0.9732620320855615, 0.9732620320855615, 0.9732620320855615, 0.9732620320855615, 0.9732620320855615, 0.9732620320855615, 0.9732620320855615, 0.9732620320855615, 0.9732620320855615, 0.9732620320855615, 0.9732620320855615, 0.9732620320855615, 0.9705882352941176, 0.9679144385026738, 0.9679144385026738, 0.9679144385026738, 0.9679144385026738, 0.9679144385026738, 0.9679144385026738, 0.9679144385026738, 0.9679144385026738, 0.9679144385026738, 0.9679144385026738, 0.9679144385026738, 0.9679144385026738, 0.9679144385026738, 0.9679144385026738, 0.9679144385026738, 0.9679144385026738, 0.9679144385026738, 0.9679144385026738, 0.9679144385026738, 0.9679144385026738, 0.9679144385026738, 0.9679144385026738, 0.9679144385026738, 0.9679144385026738, 0.9679144385026738, 0.9679144385026738, 0.9679144385026738, 0.9679144385026738, 0.9679144385026738, 0.9679144385026738, 0.9679144385026738, 0.9679144385026738, 0.9679144385026738, 0.9679144385026738, 0.9679144385026738, 0.9652406417112299, 0.9652406417112299, 0.9652406417112299, 0.9652406417112299, 0.9625668449197861, 0.9625668449197861, 0.9625668449197861, 0.9625668449197861, 0.9625668449197861, 0.9625668449197861, 0.9625668449197861, 0.9625668449197861, 0.9625668449197861, 0.9625668449197861, 0.9625668449197861, 0.9625668449197861, 0.9625668449197861, 0.9625668449197861, 0.9625668449197861, 0.9625668449197861, 0.9625668449197861, 0.9625668449197861, 0.9598930481283422, 0.9598930481283422, 0.9598930481283422, 0.9598930481283422, 0.9598930481283422, 0.9598930481283422, 0.9572192513368984, 0.9545454545454546, 0.9545454545454546, 0.9545454545454546, 0.9545454545454546, 0.9545454545454546, 0.9545454545454546, 0.9545454545454546, 0.9545454545454546, 0.9545454545454546, 0.9545454545454546, 0.9545454545454546, 0.9545454545454546, 0.9545454545454546, 0.9545454545454546, 0.9545454545454546, 0.9545454545454546, 0.9545454545454546, 0.9545454545454546, 0.9545454545454546, 0.9545454545454546, 0.9518716577540107, 0.9518716577540107, 0.9491978609625669, 0.9491978609625669, 0.9491978609625669, 0.9491978609625669, 0.9491978609625669, 0.9491978609625669, 0.9491978609625669, 0.9491978609625669, 0.9491978609625669, 0.9491978609625669, 0.9491978609625669, 0.9491978609625669, 0.9491978609625669, 0.9491978609625669, 0.9491978609625669, 0.9491978609625669, 0.9491978609625669, 0.9491978609625669, 0.9491978609625669, 0.9491978609625669, 0.9491978609625669, 0.9491978609625669, 0.9491978609625669, 0.9491978609625669, 0.9491978609625669, 0.9491978609625669, 0.9491978609625669, 0.9491978609625669, 0.9491978609625669, 0.9491978609625669, 0.9491978609625669, 0.9491978609625669, 0.9491978609625669, 0.9491978609625669, 0.9491978609625669, 0.9491978609625669, 0.9491978609625669, 0.946524064171123, 0.946524064171123, 0.946524064171123, 0.946524064171123, 0.946524064171123, 0.946524064171123, 0.946524064171123, 0.946524064171123, 0.946524064171123, 0.946524064171123, 0.946524064171123, 0.946524064171123, 0.946524064171123, 0.946524064171123, 0.946524064171123, 0.946524064171123, 0.946524064171123, 0.946524064171123, 0.946524064171123, 0.946524064171123, 0.946524064171123, 0.946524064171123, 0.946524064171123, 0.9438502673796791, 0.9438502673796791, 0.9438502673796791, 0.9438502673796791, 0.9438502673796791, 0.9438502673796791, 0.9438502673796791, 0.9411764705882353, 0.9411764705882353, 0.9411764705882353, 0.9411764705882353, 0.9411764705882353, 0.9385026737967914, 0.9385026737967914, 0.9385026737967914, 0.9358288770053476, 0.9358288770053476, 0.9358288770053476, 0.9331550802139037, 0.93048128342246, 0.93048128342246, 0.9278074866310161, 0.9278074866310161, 0.9278074866310161, 0.9278074866310161, 0.9278074866310161, 0.9278074866310161, 0.9278074866310161, 0.9278074866310161, 0.9278074866310161, 0.9278074866310161, 0.9278074866310161, 0.9278074866310161, 0.9278074866310161, 0.9278074866310161, 0.9278074866310161, 0.9278074866310161, 0.9278074866310161, 0.9278074866310161, 0.9278074866310161, 0.9278074866310161, 0.9278074866310161, 0.9278074866310161, 0.9251336898395722, 0.9251336898395722, 0.9251336898395722, 0.9251336898395722, 0.9251336898395722, 0.9251336898395722, 0.9251336898395722, 0.9251336898395722, 0.9251336898395722, 0.9251336898395722, 0.9251336898395722, 0.9251336898395722, 0.9224598930481284, 0.9197860962566845, 0.9197860962566845, 0.9197860962566845, 0.9197860962566845, 0.9197860962566845, 0.9197860962566845, 0.9197860962566845, 0.9197860962566845, 0.9197860962566845, 0.9197860962566845, 0.9197860962566845, 0.9197860962566845, 0.9197860962566845, 0.9197860962566845, 0.9197860962566845, 0.9197860962566845, 0.9197860962566845, 0.9197860962566845, 0.9197860962566845, 0.9197860962566845, 0.9197860962566845, 0.9197860962566845, 0.9197860962566845, 0.9197860962566845, 0.9197860962566845, 0.9197860962566845, 0.9197860962566845, 0.9197860962566845, 0.9197860962566845, 0.9171122994652406, 0.9144385026737968, 0.9144385026737968, 0.9144385026737968, 0.9144385026737968, 0.9144385026737968, 0.9144385026737968, 0.9144385026737968, 0.9144385026737968, 0.9144385026737968, 0.9144385026737968, 0.9144385026737968, 0.9144385026737968, 0.9144385026737968, 0.9144385026737968, 0.9144385026737968, 0.9144385026737968, 0.9144385026737968, 0.9144385026737968, 0.9144385026737968, 0.9144385026737968, 0.9144385026737968, 0.9144385026737968, 0.9144385026737968, 0.9144385026737968, 0.9144385026737968, 0.9144385026737968, 0.9144385026737968, 0.9144385026737968, 0.9144385026737968, 0.9144385026737968, 0.9144385026737968, 0.9144385026737968, 0.9144385026737968, 0.9144385026737968, 0.9144385026737968, 0.9144385026737968, 0.9144385026737968, 0.9117647058823529, 0.9117647058823529, 0.9117647058823529, 0.9117647058823529, 0.9117647058823529, 0.9117647058823529, 0.9117647058823529, 0.9117647058823529, 0.9117647058823529, 0.9117647058823529, 0.9117647058823529, 0.9117647058823529, 0.9117647058823529, 0.9090909090909091, 0.9090909090909091, 0.9090909090909091, 0.9090909090909091, 0.9090909090909091, 0.9090909090909091, 0.9090909090909091, 0.9090909090909091, 0.9090909090909091, 0.9090909090909091, 0.9064171122994652, 0.9064171122994652, 0.9037433155080213, 0.9037433155080213, 0.9010695187165776, 0.9010695187165776, 0.9010695187165776, 0.9010695187165776, 0.9010695187165776, 0.9010695187165776, 0.9010695187165776, 0.9010695187165776, 0.9010695187165776, 0.9010695187165776, 0.9010695187165776, 0.9010695187165776, 0.9010695187165776, 0.8983957219251337, 0.8983957219251337, 0.8983957219251337, 0.8983957219251337, 0.8983957219251337, 0.8983957219251337, 0.8983957219251337, 0.8957219251336899, 0.8957219251336899, 0.8957219251336899, 0.8957219251336899, 0.8957219251336899, 0.8957219251336899, 0.8957219251336899, 0.8957219251336899, 0.8957219251336899, 0.8957219251336899, 0.8957219251336899, 0.893048128342246, 0.893048128342246, 0.893048128342246, 0.893048128342246, 0.893048128342246, 0.893048128342246, 0.893048128342246, 0.893048128342246, 0.893048128342246, 0.893048128342246, 0.893048128342246, 0.893048128342246, 0.893048128342246, 0.893048128342246, 0.893048128342246, 0.893048128342246, 0.893048128342246, 0.893048128342246, 0.893048128342246, 0.893048128342246, 0.893048128342246, 0.893048128342246, 0.893048128342246, 0.893048128342246, 0.893048128342246, 0.893048128342246, 0.893048128342246, 0.893048128342246, 0.8903743315508021, 0.8903743315508021, 0.8877005347593583, 0.8877005347593583, 0.8877005347593583, 0.8877005347593583, 0.8877005347593583, 0.8877005347593583, 0.8877005347593583, 0.8877005347593583, 0.8877005347593583, 0.8877005347593583, 0.8877005347593583, 0.8877005347593583, 0.8877005347593583, 0.8877005347593583, 0.8850267379679144, 0.8850267379679144, 0.8850267379679144, 0.8850267379679144, 0.8850267379679144, 0.8850267379679144, 0.8850267379679144, 0.8850267379679144, 0.8850267379679144, 0.8850267379679144, 0.8850267379679144, 0.8850267379679144, 0.8850267379679144, 0.8850267379679144, 0.8850267379679144, 0.8850267379679144, 0.8850267379679144, 0.8850267379679144, 0.8823529411764706, 0.8823529411764706, 0.8823529411764706, 0.8823529411764706, 0.8823529411764706, 0.8823529411764706, 0.8823529411764706, 0.8823529411764706, 0.8796791443850267, 0.8796791443850267, 0.8796791443850267, 0.8770053475935828, 0.8770053475935828, 0.8743315508021391, 0.8743315508021391, 0.8743315508021391, 0.8743315508021391, 0.8743315508021391, 0.8743315508021391, 0.8743315508021391, 0.8743315508021391, 0.8716577540106952, 0.8716577540106952, 0.8689839572192514, 0.8689839572192514, 0.8689839572192514, 0.8689839572192514, 0.8689839572192514, 0.8689839572192514, 0.8689839572192514, 0.8689839572192514, 0.8689839572192514, 0.8689839572192514, 0.8689839572192514, 0.8663101604278075, 0.8663101604278075, 0.8636363636363636, 0.8636363636363636, 0.8636363636363636, 0.8636363636363636, 0.8636363636363636, 0.8609625668449198, 0.8582887700534759, 0.8582887700534759, 0.8582887700534759, 0.8556149732620321, 0.8556149732620321, 0.8556149732620321, 0.8556149732620321, 0.8556149732620321, 0.8556149732620321, 0.8556149732620321, 0.8556149732620321, 0.8556149732620321, 0.8556149732620321, 0.8556149732620321, 0.8556149732620321, 0.8529411764705882, 0.8502673796791443, 0.8502673796791443, 0.8502673796791443, 0.8475935828877005, 0.8449197860962567, 0.8422459893048129, 0.8422459893048129, 0.8422459893048129, 0.8422459893048129, 0.8422459893048129, 0.8422459893048129, 0.839572192513369, 0.839572192513369, 0.839572192513369, 0.8368983957219251, 0.8368983957219251, 0.8368983957219251, 0.8368983957219251, 0.8368983957219251, 0.8368983957219251, 0.8368983957219251, 0.8368983957219251, 0.8342245989304813, 0.8342245989304813, 0.8342245989304813, 0.8315508021390374, 0.8315508021390374, 0.8288770053475936, 0.8262032085561497, 0.8235294117647058, 0.8235294117647058, 0.8235294117647058, 0.8235294117647058, 0.8235294117647058, 0.820855614973262, 0.820855614973262, 0.820855614973262, 0.820855614973262, 0.820855614973262, 0.820855614973262, 0.820855614973262, 0.8181818181818182, 0.8181818181818182, 0.8181818181818182, 0.8181818181818182, 0.8181818181818182, 0.8155080213903744, 0.8155080213903744, 0.8155080213903744, 0.8155080213903744, 0.8155080213903744, 0.8155080213903744, 0.8128342245989305, 0.8101604278074866, 0.8101604278074866, 0.8101604278074866, 0.8074866310160428, 0.8074866310160428, 0.8074866310160428, 0.8074866310160428, 0.8074866310160428, 0.8074866310160428, 0.8074866310160428, 0.8074866310160428, 0.8074866310160428, 0.8074866310160428, 0.8048128342245989, 0.8048128342245989, 0.8021390374331551, 0.8021390374331551, 0.8021390374331551, 0.8021390374331551, 0.8021390374331551, 0.8021390374331551, 0.8021390374331551, 0.7994652406417112, 0.7994652406417112, 0.7994652406417112, 0.7967914438502673, 0.7967914438502673, 0.7967914438502673, 0.7941176470588235, 0.7941176470588235, 0.7941176470588235, 0.7941176470588235, 0.7941176470588235, 0.7941176470588235, 0.7941176470588235, 0.7941176470588235, 0.7914438502673797, 0.7914438502673797, 0.7914438502673797, 0.7887700534759359, 0.7887700534759359, 0.7887700534759359, 0.7887700534759359, 0.786096256684492, 0.7834224598930482, 0.7834224598930482, 0.7834224598930482, 0.7807486631016043, 0.7807486631016043, 0.7807486631016043, 0.7807486631016043, 0.7807486631016043, 0.7807486631016043, 0.7807486631016043, 0.7807486631016043, 0.7807486631016043, 0.7780748663101604, 0.7780748663101604, 0.7780748663101604, 0.7780748663101604, 0.7780748663101604, 0.7780748663101604, 0.7780748663101604, 0.7780748663101604, 0.7780748663101604, 0.7780748663101604, 0.7780748663101604, 0.7780748663101604, 0.7754010695187166, 0.7754010695187166, 0.7727272727272727, 0.7727272727272727, 0.7727272727272727, 0.7727272727272727, 0.7727272727272727, 0.7727272727272727, 0.7727272727272727, 0.7727272727272727, 0.7727272727272727, 0.7727272727272727, 0.7727272727272727, 0.7700534759358288, 0.7700534759358288, 0.7700534759358288, 0.7700534759358288, 0.7700534759358288, 0.767379679144385, 0.7647058823529411, 0.7647058823529411, 0.7647058823529411, 0.7647058823529411, 0.7620320855614974, 0.7620320855614974, 0.7593582887700535, 0.7593582887700535, 0.7593582887700535, 0.7566844919786097, 0.7566844919786097, 0.7566844919786097, 0.7566844919786097, 0.7566844919786097, 0.7540106951871658, 0.7540106951871658, 0.7540106951871658, 0.7540106951871658, 0.7513368983957219, 0.7486631016042781, 0.7486631016042781, 0.7486631016042781, 0.7486631016042781, 0.7486631016042781, 0.7486631016042781, 0.7486631016042781, 0.7486631016042781, 0.7486631016042781, 0.7459893048128342, 0.7459893048128342, 0.7459893048128342, 0.7433155080213903, 0.7406417112299465, 0.7406417112299465, 0.7379679144385026, 0.7352941176470589, 0.7352941176470589, 0.7352941176470589, 0.732620320855615, 0.732620320855615, 0.732620320855615, 0.732620320855615, 0.732620320855615, 0.7299465240641712, 0.7272727272727273, 0.7272727272727273, 0.7272727272727273, 0.7272727272727273, 0.7272727272727273, 0.7245989304812834, 0.7245989304812834, 0.7245989304812834, 0.7219251336898396, 0.7219251336898396, 0.7219251336898396, 0.7219251336898396, 0.7192513368983957, 0.7165775401069518, 0.7165775401069518, 0.7165775401069518, 0.7165775401069518, 0.713903743315508, 0.7112299465240641, 0.7112299465240641, 0.7085561497326203, 0.7085561497326203, 0.7085561497326203, 0.7085561497326203, 0.7085561497326203, 0.7085561497326203, 0.7085561497326203, 0.7085561497326203, 0.7058823529411765, 0.7058823529411765, 0.7032085561497327, 0.7032085561497327, 0.7032085561497327, 0.7005347593582888, 0.6978609625668449, 0.6951871657754011, 0.6951871657754011, 0.6925133689839572, 0.6898395721925134, 0.6898395721925134, 0.6898395721925134, 0.6898395721925134, 0.6898395721925134, 0.6898395721925134, 0.6871657754010695, 0.6871657754010695, 0.6844919786096256, 0.6818181818181818, 0.6818181818181818, 0.6818181818181818, 0.679144385026738, 0.679144385026738, 0.6764705882352942, 0.6764705882352942, 0.6764705882352942, 0.6737967914438503, 0.6737967914438503, 0.6737967914438503, 0.6737967914438503, 0.6737967914438503, 0.6711229946524064, 0.6684491978609626, 0.6657754010695187, 0.6657754010695187, 0.6631016042780749, 0.6631016042780749, 0.660427807486631, 0.660427807486631, 0.660427807486631, 0.6497326203208557, 0.6497326203208557, 0.6497326203208557, 0.6497326203208557, 0.6470588235294118, 0.6470588235294118, 0.6470588235294118, 0.6470588235294118, 0.6470588235294118, 0.6443850267379679, 0.6417112299465241, 0.6417112299465241, 0.6417112299465241, 0.6390374331550802, 0.6390374331550802, 0.6363636363636364, 0.6336898395721925, 0.6336898395721925, 0.6310160427807486, 0.6310160427807486, 0.6310160427807486, 0.6283422459893048, 0.6283422459893048, 0.6283422459893048, 0.6283422459893048, 0.6283422459893048, 0.6256684491978609, 0.6256684491978609, 0.6256684491978609, 0.6256684491978609, 0.6256684491978609, 0.6256684491978609, 0.6256684491978609, 0.6229946524064172, 0.6203208556149733, 0.6203208556149733, 0.6203208556149733, 0.6203208556149733, 0.6176470588235294, 0.6176470588235294, 0.6176470588235294, 0.6176470588235294, 0.6176470588235294, 0.6176470588235294, 0.6176470588235294, 0.6176470588235294, 0.6149732620320856, 0.6122994652406417, 0.6122994652406417, 0.6122994652406417, 0.6122994652406417, 0.6122994652406417, 0.6096256684491979, 0.6096256684491979, 0.6096256684491979, 0.6096256684491979, 0.6096256684491979, 0.6096256684491979, 0.606951871657754, 0.606951871657754, 0.606951871657754, 0.606951871657754, 0.6042780748663101, 0.6016042780748663, 0.6016042780748663, 0.5989304812834224, 0.5989304812834224, 0.5962566844919787, 0.5935828877005348, 0.5935828877005348, 0.5909090909090909, 0.5909090909090909, 0.5882352941176471, 0.5882352941176471, 0.5882352941176471, 0.5855614973262032, 0.5855614973262032, 0.5828877005347594, 0.5802139037433155, 0.5802139037433155, 0.5802139037433155, 0.5775401069518716, 0.5748663101604278, 0.5748663101604278, 0.5721925133689839, 0.5721925133689839, 0.56951871657754, 0.5668449197860963, 0.5668449197860963, 0.5641711229946524, 0.5614973262032086, 0.5614973262032086, 0.5614973262032086, 0.5614973262032086, 0.5614973262032086, 0.5588235294117647, 0.5588235294117647, 0.5561497326203209, 0.5561497326203209, 0.5561497326203209, 0.5561497326203209, 0.553475935828877, 0.553475935828877, 0.553475935828877, 0.5508021390374331, 0.5508021390374331, 0.5508021390374331, 0.5508021390374331, 0.5508021390374331, 0.5481283422459893, 0.5481283422459893, 0.5481283422459893, 0.5454545454545454, 0.5427807486631016, 0.5427807486631016, 0.5427807486631016, 0.5401069518716578, 0.5401069518716578, 0.5401069518716578, 0.5374331550802139, 0.5374331550802139, 0.5374331550802139, 0.5347593582887701, 0.5320855614973262, 0.5294117647058824, 0.5267379679144385, 0.5240641711229946, 0.5213903743315508, 0.5213903743315508, 0.5213903743315508, 0.5213903743315508, 0.5213903743315508, 0.5213903743315508, 0.5187165775401069, 0.5187165775401069, 0.5187165775401069, 0.516042780748663, 0.516042780748663, 0.5133689839572193, 0.5133689839572193, 0.5106951871657754, 0.5106951871657754, 0.5080213903743316, 0.5080213903743316, 0.5080213903743316, 0.5080213903743316, 0.5053475935828877, 0.5053475935828877, 0.5053475935828877, 0.5053475935828877, 0.5053475935828877, 0.5053475935828877, 0.5053475935828877, 0.5026737967914439, 0.5026737967914439, 0.5, 0.5, 0.5, 0.49732620320855614, 0.4946524064171123, 0.4946524064171123, 0.4946524064171123, 0.4946524064171123, 0.4946524064171123, 0.4919786096256685, 0.4919786096256685, 0.4893048128342246, 0.48663101604278075, 0.4839572192513369, 0.48128342245989303, 0.48128342245989303, 0.4786096256684492, 0.4786096256684492, 0.47593582887700536, 0.47593582887700536, 0.47593582887700536, 0.4732620320855615, 0.4732620320855615, 0.4732620320855615, 0.4732620320855615, 0.47058823529411764, 0.47058823529411764, 0.4679144385026738, 0.46524064171123, 0.46524064171123, 0.4625668449197861, 0.45989304812834225, 0.4572192513368984, 0.4572192513368984, 0.4572192513368984, 0.45454545454545453, 0.45187165775401067, 0.44919786096256686, 0.44919786096256686, 0.44919786096256686, 0.446524064171123, 0.44385026737967914, 0.44385026737967914, 0.44385026737967914, 0.44385026737967914, 0.44385026737967914, 0.44385026737967914, 0.4411764705882353, 0.4385026737967914, 0.4358288770053476, 0.43315508021390375, 0.4304812834224599, 0.4304812834224599, 0.42780748663101603, 0.42513368983957217, 0.42513368983957217, 0.42245989304812837, 0.4197860962566845, 0.41711229946524064, 0.4144385026737968, 0.4117647058823529, 0.4117647058823529, 0.4117647058823529, 0.4090909090909091, 0.4090909090909091, 0.40641711229946526, 0.40641711229946526, 0.4037433155080214, 0.4037433155080214, 0.40106951871657753, 0.3983957219251337, 0.39572192513368987, 0.39572192513368987, 0.39572192513368987, 0.393048128342246, 0.39037433155080214, 0.39037433155080214, 0.39037433155080214, 0.3877005347593583, 0.3877005347593583, 0.3850267379679144, 0.3850267379679144, 0.3850267379679144, 0.3850267379679144, 0.3850267379679144, 0.38235294117647056, 0.38235294117647056, 0.37967914438502676, 0.3770053475935829, 0.37433155080213903, 0.3716577540106952, 0.3716577540106952, 0.3716577540106952, 0.3689839572192513, 0.3689839572192513, 0.3689839572192513, 0.3663101604278075, 0.3663101604278075, 0.3663101604278075, 0.3663101604278075, 0.36363636363636365, 0.3609625668449198, 0.3582887700534759, 0.3582887700534759, 0.35561497326203206, 0.35294117647058826, 0.3502673796791444, 0.34759358288770054, 0.34759358288770054, 0.34759358288770054, 0.3449197860962567, 0.3449197860962567, 0.3449197860962567, 0.3422459893048128, 0.3422459893048128, 0.339572192513369, 0.33689839572192515, 0.33689839572192515, 0.3342245989304813, 0.3315508021390374, 0.3315508021390374, 0.3315508021390374, 0.3315508021390374, 0.32887700534759357, 0.32620320855614976, 0.32620320855614976, 0.32620320855614976, 0.3235294117647059, 0.3235294117647059, 0.32085561497326204, 0.32085561497326204, 0.32085561497326204, 0.3181818181818182, 0.3155080213903743, 0.31283422459893045, 0.31016042780748665, 0.31016042780748665, 0.3074866310160428, 0.3048128342245989, 0.3048128342245989, 0.30213903743315507, 0.2994652406417112, 0.2967914438502674, 0.2967914438502674, 0.2967914438502674, 0.2967914438502674, 0.2967914438502674, 0.29411764705882354, 0.2914438502673797, 0.2887700534759358, 0.28609625668449196, 0.28342245989304815, 0.28342245989304815, 0.2807486631016043, 0.27807486631016043, 0.27807486631016043, 0.27540106951871657, 0.27540106951871657, 0.27540106951871657, 0.2727272727272727, 0.2727272727272727, 0.2700534759358289, 0.26737967914438504, 0.2647058823529412, 0.2620320855614973, 0.25935828877005346, 0.25668449197860965, 0.2540106951871658, 0.25133689839572193, 0.25133689839572193, 0.25133689839572193, 0.25133689839572193, 0.25133689839572193, 0.24866310160427807, 0.24866310160427807, 0.24866310160427807, 0.24598930481283424, 0.24331550802139038, 0.24064171122994651, 0.23796791443850268, 0.23529411764705882, 0.23529411764705882, 0.23529411764705882, 0.232620320855615, 0.232620320855615, 0.22994652406417113, 0.22727272727272727, 0.22459893048128343, 0.22192513368983957, 0.22192513368983957, 0.22192513368983957, 0.2192513368983957, 0.2192513368983957, 0.21657754010695188, 0.21657754010695188, 0.21390374331550802, 0.21122994652406418, 0.21122994652406418, 0.20855614973262032, 0.20588235294117646, 0.20588235294117646, 0.20588235294117646, 0.20320855614973263, 0.20320855614973263, 0.20053475935828877, 0.19786096256684493, 0.19518716577540107, 0.1925133689839572, 0.18983957219251338, 0.18716577540106952, 0.18716577540106952, 0.18716577540106952, 0.18449197860962566, 0.18181818181818182, 0.17914438502673796, 0.17647058823529413, 0.17647058823529413, 0.17647058823529413, 0.17379679144385027, 0.17379679144385027, 0.1711229946524064, 0.16844919786096257, 0.1657754010695187, 0.16310160427807488, 0.16310160427807488, 0.16042780748663102, 0.15775401069518716, 0.15508021390374332, 0.15508021390374332, 0.15508021390374332, 0.15508021390374332, 0.15240641711229946, 0.15240641711229946, 0.15240641711229946, 0.15240641711229946, 0.15240641711229946, 0.1497326203208556, 0.14705882352941177, 0.1443850267379679, 0.14171122994652408, 0.13903743315508021, 0.13636363636363635, 0.13636363636363635, 0.13368983957219252, 0.13368983957219252, 0.13101604278074866, 0.12834224598930483, 0.12834224598930483, 0.12834224598930483, 0.12834224598930483, 0.12566844919786097, 0.12299465240641712, 0.12299465240641712, 0.12032085561497326, 0.12032085561497326, 0.11764705882352941, 0.11497326203208556, 0.11229946524064172, 0.10962566844919786, 0.10695187165775401, 0.10427807486631016, 0.10160427807486631, 0.09893048128342247, 0.0962566844919786, 0.09358288770053476, 0.09358288770053476, 0.09090909090909091, 0.08823529411764706, 0.0855614973262032, 0.08288770053475936, 0.08288770053475936, 0.08021390374331551, 0.07754010695187166, 0.0748663101604278, 0.0748663101604278, 0.07219251336898395, 0.06951871657754011, 0.06951871657754011, 0.06684491978609626, 0.06417112299465241, 0.06149732620320856, 0.06149732620320856, 0.06149732620320856, 0.058823529411764705, 0.05614973262032086, 0.053475935828877004, 0.05080213903743316, 0.0481283422459893, 0.045454545454545456, 0.045454545454545456, 0.045454545454545456, 0.045454545454545456, 0.0427807486631016, 0.040106951871657755, 0.040106951871657755, 0.0374331550802139, 0.0374331550802139, 0.0374331550802139, 0.034759358288770054, 0.034759358288770054, 0.034759358288770054, 0.03208556149732621, 0.029411764705882353, 0.029411764705882353, 0.029411764705882353, 0.029411764705882353, 0.026737967914438502, 0.026737967914438502, 0.02406417112299465, 0.02406417112299465, 0.02406417112299465, 0.0213903743315508, 0.0213903743315508, 0.01871657754010695, 0.016042780748663103, 0.013368983957219251, 0.0106951871657754, 0.008021390374331552, 0.008021390374331552, 0.0053475935828877, 0.00267379679144385, 0.0, 0.0], \"y\": [0.2805701425356339, 0.28003003003003, 0.2802404207362885, 0.2804511278195489, 0.2806621519939804, 0.2808734939759036, 0.28108515448379806, 0.2812971342383107, 0.28150943396226413, 0.28172205438066467, 0.2819349962207105, 0.2821482602118003, 0.28236184708554124, 0.2825757575757576, 0.28278999241849884, 0.2830045523520486, 0.2832194381169324, 0.28343465045592703, 0.28365019011406845, 0.2831050228310502, 0.2833206397562833, 0.28353658536585363, 0.2837528604118993, 0.28396946564885495, 0.28342245989304815, 0.28363914373088683, 0.28385615914307577, 0.28407350689127103, 0.2842911877394636, 0.28450920245398775, 0.2847275518035303, 0.2849462365591398, 0.2851652574942352, 0.2853846153846154, 0.28560431100846806, 0.28582434514637906, 0.28604471858134156, 0.2862654320987654, 0.2864864864864865, 0.2867078825347759, 0.28692962103634956, 0.2871517027863777, 0.28737412858249417, 0.2875968992248062, 0.2878200155159038, 0.28804347826086957, 0.28826728826728826, 0.2884914463452566, 0.28871595330739297, 0.28894080996884736, 0.289166017147311, 0.28939157566302653, 0.2896174863387978, 0.28984375, 0.29007036747458953, 0.29029733959311427, 0.29052466718872355, 0.2907523510971787, 0.2909803921568627, 0.29120879120879123, 0.2914375490966222, 0.2916666666666667, 0.29189614476789927, 0.29133858267716534, 0.2915681639085894, 0.2917981072555205, 0.2912391475927388, 0.2914691943127962, 0.291699604743083, 0.29193037974683544, 0.2921615201900237, 0.29239302694136293, 0.29262490087232357, 0.29285714285714287, 0.2930897537728356, 0.2933227344992051, 0.2935560859188544, 0.29378980891719747, 0.2940239043824701, 0.2942583732057416, 0.2944932162809258, 0.29472843450479236, 0.2949640287769784, 0.2952, 0.2954363490792634, 0.2948717948717949, 0.2951082598235766, 0.2953451043338684, 0.2955823293172691, 0.2958199356913183, 0.29605792437650846, 0.2962962962962963, 0.29653505237711525, 0.29596774193548386, 0.29620661824051653, 0.2964458804523425, 0.29668552950687144, 0.29692556634304207, 0.297165991902834, 0.29740680713128037, 0.29764801297648014, 0.29788961038961037, 0.2981316003249391, 0.2983739837398374, 0.2986167615947925, 0.2988599348534202, 0.2991035044824776, 0.299347471451876, 0.29959183673469386, 0.29983660130718953, 0.3000817661488144, 0.2995090016366612, 0.29975429975429974, 0.3, 0.3002461033634126, 0.30049261083743845, 0.30073952341824156, 0.30098684210526316, 0.3012345679012346, 0.3014827018121911, 0.3017312448474856, 0.30198019801980197, 0.3022295623451693, 0.30247933884297523, 0.3027295285359802, 0.3029801324503311, 0.3032311516155758, 0.3034825870646766, 0.30373443983402487, 0.30398671096345514, 0.30423940149625933, 0.30449251247920134, 0.3047460449625312, 0.305, 0.30525437864887406, 0.3046744574290484, 0.30409356725146197, 0.30434782608695654, 0.30460251046025105, 0.304857621440536, 0.30511316010058676, 0.3053691275167785, 0.3056255247691016, 0.3058823529411765, 0.30613961312026916, 0.3063973063973064, 0.3066554338668913, 0.3069139966273187, 0.3071729957805907, 0.30658783783783783, 0.3060016906170752, 0.3062605752961083, 0.3065198983911939, 0.30677966101694915, 0.3070398642917727, 0.3073005093378608, 0.30756159728122345, 0.3078231292517007, 0.3080851063829787, 0.3083475298126065, 0.30861040068201195, 0.30887372013651876, 0.30913748932536295, 0.3094017094017094, 0.30966638152266895, 0.3099315068493151, 0.3101970865467009, 0.31046312178387653, 0.31072961373390556, 0.31099656357388317, 0.3112639724849527, 0.31153184165232356, 0.31180017226528856, 0.3120689655172414, 0.31233822260569455, 0.3126079447322971, 0.31287813310285223, 0.31314878892733566, 0.31341991341991343, 0.31369150779896016, 0.3139635732870772, 0.3142361111111111, 0.314509122502172, 0.31478260869565217, 0.31505657093124456, 0.3144599303135889, 0.3147340889276373, 0.3150087260034904, 0.31528384279475985, 0.3146853146853147, 0.31496062992125984, 0.31523642732049034, 0.31551270815074495, 0.3157894736842105, 0.3160667251975417, 0.3163444639718805, 0.316622691292876, 0.31690140845070425, 0.31718061674008813, 0.31746031746031744, 0.3177405119152692, 0.31802120141342755, 0.3183023872679045, 0.3185840707964602, 0.31886625332152346, 0.3191489361702128, 0.3194321206743567, 0.3188277087033748, 0.3191111111111111, 0.3193950177935943, 0.3196794300979519, 0.31996434937611407, 0.320249776984835, 0.3196428571428571, 0.3190348525469169, 0.31932021466905186, 0.3196060877350045, 0.31989247311827956, 0.3201793721973094, 0.32046678635547576, 0.32075471698113206, 0.3210431654676259, 0.3213321332133213, 0.3216216216216216, 0.3219116321009919, 0.322202166064982, 0.3224932249322493, 0.3227848101265823, 0.3230769230769231, 0.3233695652173913, 0.3236627379873073, 0.323956442831216, 0.3242506811989101, 0.3245454545454545, 0.32393084622383983, 0.3242258652094718, 0.3236098450319052, 0.3239051094890511, 0.3242009132420091, 0.32449725776965266, 0.32479414455626715, 0.3250915750915751, 0.32538955087076077, 0.3256880733944954, 0.32598714416896235, 0.32628676470588236, 0.3265869365225391, 0.3268876611418048, 0.3271889400921659, 0.3274907749077491, 0.32779316712834716, 0.32809611829944546, 0.3283996299722479, 0.3287037037037037, 0.3290083410565338, 0.3293135435992579, 0.329619312906221, 0.3299256505576208, 0.3302325581395349, 0.33054003724394787, 0.33084808946877914, 0.33115671641791045, 0.3314659197012138, 0.3317757009345794, 0.33208606173994387, 0.33239700374531833, 0.33270852858481725, 0.3330206378986867, 0.3333333333333333, 0.33364661654135336, 0.3339604891815616, 0.3342749529190207, 0.33459000942507067, 0.3339622641509434, 0.3342776203966006, 0.33459357277882795, 0.33491012298959316, 0.3352272727272727, 0.3355450236966825, 0.33586337760910817, 0.33618233618233617, 0.3365019011406844, 0.3368220742150333, 0.33714285714285713, 0.3374642516682555, 0.3377862595419847, 0.33810888252148996, 0.3384321223709369, 0.33875598086124403, 0.3390804597701149, 0.33940556088207097, 0.3397312859884837, 0.3400576368876081, 0.3403846153846154, 0.34071222329162654, 0.34104046242774566, 0.3404050144648023, 0.3407335907335907, 0.34106280193236715, 0.3413926499032882, 0.34172313649564373, 0.34205426356589147, 0.34238603297769155, 0.341747572815534, 0.34207968901846453, 0.3424124513618677, 0.3427458617332035, 0.34307992202729043, 0.34243902439024393, 0.3427734375, 0.34310850439882695, 0.3424657534246575, 0.3428011753183154, 0.3431372549019608, 0.34249263984298334, 0.3418467583497053, 0.3421828908554572, 0.34153543307086615, 0.341871921182266, 0.3422090729783038, 0.3425468904244817, 0.34288537549407117, 0.34322453016815035, 0.3435643564356436, 0.34390485629335976, 0.34424603174603174, 0.3445878848063555, 0.34493041749502984, 0.345273631840796, 0.3456175298804781, 0.3459621136590229, 0.3463073852295409, 0.34665334665334663, 0.347, 0.34734734734734735, 0.34769539078156314, 0.34804413239719156, 0.34839357429718876, 0.3487437185929648, 0.34808853118712274, 0.34843907351460224, 0.3487903225806452, 0.3491422805247225, 0.34949494949494947, 0.34984833164812945, 0.35020242914979755, 0.3505572441742654, 0.3509127789046653, 0.35126903553299493, 0.3516260162601626, 0.35198372329603256, 0.3513238289205703, 0.3506625891946993, 0.3510204081632653, 0.35137895812053116, 0.35173824130879344, 0.35209825997952915, 0.3524590163934426, 0.3528205128205128, 0.3531827515400411, 0.35354573484069884, 0.35390946502057613, 0.35427394438722964, 0.354639175257732, 0.35500515995872034, 0.35537190082644626, 0.3557394002068252, 0.35610766045548653, 0.35647668393782384, 0.35684647302904565, 0.3572170301142264, 0.3575883575883576, 0.35796045785639957, 0.35833333333333334, 0.3587069864442127, 0.35908141962421714, 0.3594566353187043, 0.3598326359832636, 0.36020942408376966, 0.36058700209643607, 0.36096537250786986, 0.3602941176470588, 0.35962145110410093, 0.36, 0.36037934668071653, 0.36075949367088606, 0.3611404435058078, 0.36152219873150104, 0.3619047619047619, 0.3622881355932203, 0.36267232237539765, 0.3630573248407643, 0.36344314558979807, 0.3638297872340426, 0.36421725239616615, 0.3646055437100213, 0.3649946638207044, 0.36538461538461536, 0.3657754010695187, 0.36616702355460384, 0.3665594855305466, 0.3669527896995708, 0.3673469387755102, 0.36774193548387096, 0.3681377825618945, 0.36853448275862066, 0.36893203883495146, 0.3693304535637149, 0.36972972972972973, 0.37012987012987014, 0.3705308775731311, 0.37093275488069416, 0.3713355048859935, 0.3717391304347826, 0.3721436343852013, 0.37254901960784315, 0.37295528898582336, 0.37336244541484714, 0.3737704918032787, 0.3730853391684901, 0.37349397590361444, 0.37390350877192985, 0.3743139407244786, 0.3747252747252747, 0.37513751375137516, 0.3755506607929515, 0.37596471885336274, 0.37637969094922735, 0.37679558011049724, 0.377212389380531, 0.37763012181616834, 0.3780487804878049, 0.37735849056603776, 0.37777777777777777, 0.3781979977753059, 0.37861915367483295, 0.379041248606466, 0.3794642857142857, 0.37988826815642457, 0.38031319910514544, 0.3807390817469205, 0.3811659192825112, 0.38047138047138046, 0.3808988764044944, 0.38020247469066365, 0.38063063063063063, 0.37993235625704624, 0.3803611738148984, 0.3807909604519774, 0.38122171945701355, 0.38165345413363533, 0.3820861678004535, 0.38251986379114644, 0.38295454545454544, 0.3833902161547213, 0.3838268792710706, 0.38426453819840367, 0.384703196347032, 0.3851428571428571, 0.38443935926773454, 0.3848797250859107, 0.3853211009174312, 0.3857634902411022, 0.38620689655172413, 0.3866513233601841, 0.3870967741935484, 0.3863898500576701, 0.38683602771362585, 0.3872832369942196, 0.38773148148148145, 0.388180764774044, 0.388631090487239, 0.389082462253194, 0.38953488372093026, 0.389988358556461, 0.39044289044289043, 0.3908984830805134, 0.3901869158878505, 0.3906432748538012, 0.3911007025761124, 0.39155920281359907, 0.392018779342723, 0.39247943595769685, 0.39294117647058824, 0.3934040047114252, 0.3938679245283019, 0.39433293978748524, 0.3947990543735225, 0.3952662721893491, 0.3957345971563981, 0.3962040332147094, 0.39667458432304037, 0.3971462544589774, 0.3976190476190476, 0.39809296781883197, 0.39856801909307876, 0.39904420549581837, 0.39952153110047844, 0.4, 0.40047961630695444, 0.4009603841536615, 0.4014423076923077, 0.4019253910950662, 0.40240963855421685, 0.4028950542822678, 0.40217391304347827, 0.4026602176541717, 0.4019370460048426, 0.4024242424242424, 0.4029126213592233, 0.40340218712029163, 0.40389294403892945, 0.4043848964677223, 0.40487804878048783, 0.4053724053724054, 0.4058679706601467, 0.40636474908200737, 0.4068627450980392, 0.40736196319018403, 0.40786240786240785, 0.40836408364083643, 0.40763546798029554, 0.4081381011097411, 0.408641975308642, 0.40914709517923364, 0.40965346534653463, 0.41016109045848825, 0.4106699751861042, 0.4111801242236025, 0.4116915422885572, 0.4122042341220423, 0.41271820448877805, 0.4132334581772784, 0.41375, 0.4142678347934919, 0.41478696741854637, 0.41530740276035133, 0.4158291457286432, 0.41635220125786165, 0.4156171284634761, 0.416141235813367, 0.4166666666666667, 0.41719342604298354, 0.4177215189873418, 0.41825095057034223, 0.41878172588832485, 0.4193138500635324, 0.41857506361323155, 0.4191082802547771, 0.41964285714285715, 0.41890166028097064, 0.4194373401534527, 0.4186939820742638, 0.41923076923076924, 0.4197689345314506, 0.4203084832904884, 0.42084942084942084, 0.4213917525773196, 0.42193548387096774, 0.42248062015503873, 0.4217335058214748, 0.422279792746114, 0.42153047989623865, 0.42207792207792205, 0.4226267880364109, 0.4231770833333333, 0.423728813559322, 0.42428198433420367, 0.42483660130718953, 0.42539267015706805, 0.4259501965923984, 0.42650918635170604, 0.42706964520367935, 0.4263157894736842, 0.4268774703557312, 0.4261213720316623, 0.42668428005284015, 0.42724867724867727, 0.4278145695364238, 0.42838196286472147, 0.42762284196547146, 0.42686170212765956, 0.4274300932090546, 0.428, 0.4272363150867824, 0.42780748663101603, 0.428380187416332, 0.4289544235924933, 0.42953020134228187, 0.43010752688172044, 0.4306864064602961, 0.431266846361186, 0.4318488529014845, 0.43243243243243246, 0.4330175913396482, 0.43360433604336046, 0.43283582089552236, 0.4320652173913043, 0.4326530612244898, 0.4332425068119891, 0.4324693042291951, 0.43169398907103823, 0.43091655266757867, 0.4315068493150685, 0.43209876543209874, 0.4326923076923077, 0.4332874828060523, 0.43388429752066116, 0.43310344827586206, 0.43370165745856354, 0.4343015214384509, 0.43351800554016623, 0.43411927877947293, 0.43472222222222223, 0.43532684283727396, 0.435933147632312, 0.43654114365411434, 0.4371508379888268, 0.43776223776223777, 0.4369747899159664, 0.4375876577840112, 0.43820224719101125, 0.43741209563994377, 0.43802816901408453, 0.43723554301833567, 0.4364406779661017, 0.43564356435643564, 0.43626062322946174, 0.4368794326241135, 0.4375, 0.43812233285917496, 0.4373219373219373, 0.43794579172610554, 0.43857142857142856, 0.43919885550786836, 0.43982808022922637, 0.44045911047345765, 0.4410919540229885, 0.44028776978417267, 0.4409221902017291, 0.44155844155844154, 0.4421965317919075, 0.44283646888567296, 0.4420289855072464, 0.4426705370101596, 0.4433139534883721, 0.44395924308588064, 0.4446064139941691, 0.44525547445255476, 0.4444444444444444, 0.44363103953147875, 0.4442815249266862, 0.44493392070484583, 0.4441176470588235, 0.44477172312223856, 0.44542772861356933, 0.4460856720827179, 0.4467455621301775, 0.4474074074074074, 0.44807121661721067, 0.4487369985141159, 0.4494047619047619, 0.45007451564828616, 0.44925373134328356, 0.4499252615844544, 0.4491017964071856, 0.4497751124437781, 0.45045045045045046, 0.45112781954887216, 0.45180722891566266, 0.45248868778280543, 0.45317220543806647, 0.4523449319213313, 0.453030303030303, 0.4537177541729894, 0.45288753799392095, 0.4535768645357686, 0.45426829268292684, 0.4534351145038168, 0.4541284403669725, 0.4548238897396631, 0.455521472392638, 0.45622119815668205, 0.45692307692307693, 0.4576271186440678, 0.4583333333333333, 0.4574961360123648, 0.4582043343653251, 0.45891472868217054, 0.4580745341614907, 0.45878693623639194, 0.45950155763239875, 0.46021840873634945, 0.459375, 0.458528951486698, 0.4592476489028213, 0.4599686028257457, 0.4591194968553459, 0.45984251968503936, 0.4605678233438486, 0.46129541864139023, 0.4620253164556962, 0.46275752773375595, 0.4634920634920635, 0.4642289348171701, 0.46496815286624205, 0.46411483253588515, 0.46485623003194887, 0.4656, 0.46634615384615385, 0.46709470304975925, 0.4678456591639871, 0.46859903381642515, 0.4693548387096774, 0.4701130856219709, 0.470873786407767, 0.47163695299837927, 0.4724025974025974, 0.4715447154471545, 0.4723127035830619, 0.47145187601957583, 0.4722222222222222, 0.47299509001636664, 0.4737704918032787, 0.4745484400656814, 0.4753289473684211, 0.47611202635914335, 0.4768976897689769, 0.47768595041322315, 0.478476821192053, 0.4792703150912106, 0.47840531561461797, 0.47920133111480867, 0.48, 0.48080133555926546, 0.4816053511705686, 0.4807370184254606, 0.4798657718120805, 0.48067226890756304, 0.48148148148148145, 0.4822934232715008, 0.4814189189189189, 0.48223350253807107, 0.48135593220338985, 0.48217317487266553, 0.48299319727891155, 0.48211243611584326, 0.48293515358361777, 0.48376068376068376, 0.4845890410958904, 0.4854202401372213, 0.4845360824742268, 0.4853700516351119, 0.4862068965517241, 0.48704663212435234, 0.486159169550173, 0.4852686308492201, 0.4861111111111111, 0.48695652173913045, 0.4878048780487805, 0.4886561954624782, 0.48951048951048953, 0.4903677758318739, 0.49122807017543857, 0.492091388400703, 0.49119718309859156, 0.49206349206349204, 0.4929328621908127, 0.4920353982300885, 0.49113475177304966, 0.4920071047957371, 0.49110320284697506, 0.49019607843137253, 0.49107142857142855, 0.4919499105545617, 0.4910394265232975, 0.4919210053859964, 0.49280575539568344, 0.4936936936936937, 0.49458483754512633, 0.4936708860759494, 0.4927536231884058, 0.49364791288566245, 0.49454545454545457, 0.49544626593806923, 0.49635036496350365, 0.4954296160877514, 0.49633699633699635, 0.4972477064220184, 0.4963235294117647, 0.4972375690607735, 0.4981549815498155, 0.49907578558225507, 0.4981481481481482, 0.4972170686456401, 0.49814126394052044, 0.49906890130353815, 0.5, 0.49906542056074765, 0.49812734082397003, 0.49906191369606, 0.4981203007518797, 0.4990583804143126, 0.5, 0.500945179584121, 0.5018939393939394, 0.5028462998102466, 0.5038022813688213, 0.5047619047619047, 0.5038167938931297, 0.5047801147227533, 0.5038314176245211, 0.5047984644913628, 0.5057692307692307, 0.5048169556840078, 0.5038610038610039, 0.5029013539651838, 0.5038759689922481, 0.5029126213592233, 0.5019455252918288, 0.5029239766081871, 0.50390625, 0.5048923679060665, 0.5058823529411764, 0.5068762278978389, 0.5059055118110236, 0.5069033530571992, 0.5059288537549407, 0.504950495049505, 0.5059523809523809, 0.5069582504970179, 0.5059760956175299, 0.5069860279441117, 0.506, 0.5070140280561122, 0.5080321285140562, 0.5070422535211268, 0.5080645161290323, 0.509090909090909, 0.5101214574898786, 0.5111561866125761, 0.5101626016260162, 0.5091649694501018, 0.5081632653061224, 0.50920245398773, 0.5081967213114754, 0.5092402464065708, 0.5082304526748971, 0.5092783505154639, 0.5103305785123967, 0.5094339622641509, 0.5105042016806722, 0.511578947368421, 0.5126582278481012, 0.5116279069767442, 0.5127118644067796, 0.5138004246284501, 0.5148936170212766, 0.5159914712153518, 0.5149572649572649, 0.5139186295503212, 0.5150214592274678, 0.5161290322580645, 0.5150862068965517, 0.5161987041036717, 0.5151515151515151, 0.5140997830802603, 0.5152173913043478, 0.514161220043573, 0.5152838427947598, 0.5164113785557987, 0.5153508771929824, 0.5164835164835165, 0.5176211453744494, 0.5187637969094923, 0.5199115044247787, 0.5188470066518847, 0.52, 0.5211581291759465, 0.5223214285714286, 0.5234899328859061, 0.5246636771300448, 0.5258426966292135, 0.5247747747747747, 0.5237020316027088, 0.5248868778280543, 0.5260770975056689, 0.5272727272727272, 0.5261958997722096, 0.5273972602739726, 0.528604118993135, 0.5298165137614679, 0.5310344827586206, 0.532258064516129, 0.5334872979214781, 0.5347222222222222, 0.5336426914153132, 0.5325581395348837, 0.5337995337995338, 0.5350467289719626, 0.5362997658079626, 0.5375586854460094, 0.5364705882352941, 0.5377358490566038, 0.5390070921985816, 0.5402843601895735, 0.5415676959619953, 0.5428571428571428, 0.5417661097852029, 0.5430622009569378, 0.5443645083932853, 0.5456730769230769, 0.5445783132530121, 0.5434782608695652, 0.5447941888619855, 0.5436893203883495, 0.5450121654501217, 0.5439024390243903, 0.5427872860635696, 0.5441176470588235, 0.542997542997543, 0.5443349753694581, 0.5432098765432098, 0.5445544554455446, 0.5459057071960298, 0.5447761194029851, 0.5461346633416458, 0.545, 0.543859649122807, 0.5452261306532663, 0.5465994962216625, 0.5454545454545454, 0.5443037974683544, 0.5456852791878173, 0.544529262086514, 0.5459183673469388, 0.5447570332480819, 0.5435897435897435, 0.5449871465295629, 0.5438144329896907, 0.5426356589147286, 0.5440414507772021, 0.5454545454545454, 0.546875, 0.5483028720626631, 0.5471204188481675, 0.5485564304461942, 0.5473684210526316, 0.5488126649076517, 0.5502645502645502, 0.5517241379310345, 0.550531914893617, 0.552, 0.553475935828877, 0.5522788203753352, 0.553763440860215, 0.555256064690027, 0.5567567567567567, 0.5582655826558266, 0.5570652173913043, 0.55858310626703, 0.5601092896174863, 0.5589041095890411, 0.5576923076923077, 0.559228650137741, 0.5607734806629834, 0.5595567867036011, 0.5611111111111111, 0.5626740947075209, 0.5614525139664804, 0.5630252100840336, 0.5646067415730337, 0.5633802816901409, 0.5621468926553672, 0.5609065155807366, 0.5596590909090909, 0.5584045584045584, 0.5571428571428572, 0.5587392550143266, 0.5603448275862069, 0.5619596541786743, 0.5635838150289018, 0.5652173913043478, 0.563953488372093, 0.565597667638484, 0.5672514619883041, 0.5659824046920822, 0.5676470588235294, 0.5663716814159292, 0.5680473372781065, 0.5667655786350149, 0.5684523809523809, 0.5671641791044776, 0.5688622754491018, 0.5705705705705706, 0.572289156626506, 0.5709969788519638, 0.5727272727272728, 0.574468085106383, 0.5762195121951219, 0.5779816513761468, 0.5797546012269938, 0.5815384615384616, 0.5802469135802469, 0.5820433436532507, 0.5807453416149069, 0.5825545171339563, 0.584375, 0.5830721003134797, 0.5817610062893082, 0.583596214511041, 0.5854430379746836, 0.5873015873015873, 0.589171974522293, 0.5878594249201278, 0.5897435897435898, 0.5884244372990354, 0.5870967741935483, 0.5857605177993528, 0.5844155844155844, 0.5863192182410424, 0.5849673202614379, 0.5868852459016394, 0.5855263157894737, 0.5874587458745875, 0.5894039735099338, 0.5880398671096345, 0.59, 0.5919732441471572, 0.5939597315436241, 0.5925925925925926, 0.5945945945945946, 0.5932203389830508, 0.5918367346938775, 0.5938566552901023, 0.5924657534246576, 0.5910652920962199, 0.5896551724137931, 0.5916955017301038, 0.59375, 0.5923344947735192, 0.5909090909090909, 0.5894736842105263, 0.5915492957746479, 0.5936395759717314, 0.5921985815602837, 0.5907473309608541, 0.5928571428571429, 0.5949820788530465, 0.5971223021582733, 0.5992779783393501, 0.6014492753623188, 0.6, 0.5985401459854015, 0.5970695970695971, 0.5955882352941176, 0.5940959409594095, 0.5962962962962963, 0.5947955390334573, 0.5932835820895522, 0.5955056179775281, 0.5939849624060151, 0.5924528301886792, 0.5909090909090909, 0.5893536121673004, 0.5877862595419847, 0.5900383141762452, 0.5923076923076923, 0.5907335907335908, 0.5930232558139535, 0.5914396887159533, 0.59375, 0.592156862745098, 0.594488188976378, 0.5928853754940712, 0.5912698412698413, 0.5896414342629482, 0.592, 0.5943775100401606, 0.592741935483871, 0.5910931174089069, 0.5934959349593496, 0.5959183673469388, 0.5942622950819673, 0.5967078189300411, 0.5950413223140496, 0.5975103734439834, 0.6, 0.602510460251046, 0.6050420168067226, 0.6033755274261603, 0.6059322033898306, 0.6042553191489362, 0.6025641025641025, 0.6008583690987125, 0.5991379310344828, 0.6017316017316018, 0.6043478260869565, 0.6026200873362445, 0.6052631578947368, 0.6079295154185022, 0.6061946902654868, 0.6088888888888889, 0.6116071428571429, 0.6143497757847534, 0.6126126126126126, 0.6108597285067874, 0.6090909090909091, 0.6118721461187214, 0.6100917431192661, 0.6082949308755761, 0.6064814814814815, 0.6046511627906976, 0.6074766355140186, 0.6103286384976526, 0.6084905660377359, 0.6113744075829384, 0.6142857142857143, 0.6124401913875598, 0.6153846153846154, 0.6135265700483091, 0.6116504854368932, 0.6146341463414634, 0.6127450980392157, 0.6108374384236454, 0.6138613861386139, 0.6169154228855721, 0.62, 0.6180904522613065, 0.6161616161616161, 0.6192893401015228, 0.6224489795918368, 0.6205128205128205, 0.6237113402061856, 0.6217616580310881, 0.625, 0.6282722513089005, 0.6263157894736842, 0.6243386243386243, 0.6223404255319149, 0.6203208556149733, 0.6236559139784946, 0.6216216216216216, 0.6195652173913043, 0.6229508196721312, 0.6208791208791209, 0.6187845303867403, 0.6166666666666667, 0.6201117318435754, 0.6235955056179775, 0.6271186440677966, 0.6306818181818182, 0.6285714285714286, 0.6264367816091954, 0.6242774566473989, 0.622093023255814, 0.6198830409356725, 0.6235294117647059, 0.621301775147929, 0.6190476190476191, 0.6227544910179641, 0.6204819277108434, 0.6242424242424243, 0.6280487804878049, 0.6257668711656442, 0.6296296296296297, 0.6273291925465838, 0.625, 0.6226415094339622, 0.620253164556962, 0.6178343949044586, 0.6153846153846154, 0.6129032258064516, 0.6103896103896104, 0.6143790849673203, 0.618421052631579, 0.6225165562913907, 0.6266666666666667, 0.6241610738255033, 0.6283783783783784, 0.6326530612244898, 0.6301369863013698, 0.6275862068965518, 0.625, 0.6223776223776224, 0.6197183098591549, 0.624113475177305, 0.6285714285714286, 0.6258992805755396, 0.6304347826086957, 0.6277372262773723, 0.625, 0.6222222222222222, 0.6194029850746269, 0.6240601503759399, 0.6287878787878788, 0.6259541984732825, 0.6307692307692307, 0.627906976744186, 0.6328125, 0.6299212598425197, 0.626984126984127, 0.632, 0.6290322580645161, 0.6260162601626016, 0.6311475409836066, 0.6363636363636364, 0.6333333333333333, 0.6386554621848739, 0.635593220338983, 0.6324786324786325, 0.6293103448275862, 0.6260869565217392, 0.6228070175438597, 0.6194690265486725, 0.625, 0.6306306306306306, 0.6272727272727273, 0.6238532110091743, 0.6203703703703703, 0.616822429906542, 0.6226415094339622, 0.6285714285714286, 0.625, 0.6310679611650486, 0.6274509803921569, 0.6237623762376238, 0.62, 0.6161616161616161, 0.6224489795918368, 0.6185567010309279, 0.6145833333333334, 0.6105263157894737, 0.6170212765957447, 0.6236559139784946, 0.6304347826086957, 0.6263736263736264, 0.6333333333333333, 0.6404494382022472, 0.6477272727272727, 0.6551724137931034, 0.6511627906976745, 0.6470588235294118, 0.6428571428571429, 0.6385542168674698, 0.6341463414634146, 0.6296296296296297, 0.6375, 0.6329113924050633, 0.6410256410256411, 0.6363636363636364, 0.631578947368421, 0.64, 0.6486486486486487, 0.6575342465753424, 0.6527777777777778, 0.647887323943662, 0.6571428571428571, 0.6521739130434783, 0.6617647058823529, 0.6567164179104478, 0.6515151515151515, 0.6461538461538462, 0.640625, 0.6349206349206349, 0.6290322580645161, 0.6229508196721312, 0.6166666666666667, 0.6101694915254238, 0.603448275862069, 0.6140350877192983, 0.6071428571428571, 0.6, 0.5925925925925926, 0.5849056603773585, 0.5961538461538461, 0.5882352941176471, 0.58, 0.5714285714285714, 0.5833333333333334, 0.574468085106383, 0.5652173913043478, 0.5777777777777777, 0.5681818181818182, 0.5581395348837209, 0.5476190476190477, 0.5609756097560976, 0.575, 0.5641025641025641, 0.5526315789473685, 0.5405405405405406, 0.5277777777777778, 0.5142857142857142, 0.5, 0.5151515151515151, 0.53125, 0.5483870967741935, 0.5333333333333333, 0.5172413793103449, 0.5357142857142857, 0.5185185185185185, 0.5384615384615384, 0.56, 0.5416666666666666, 0.5652173913043478, 0.5909090909090909, 0.5714285714285714, 0.55, 0.5789473684210527, 0.6111111111111112, 0.6470588235294118, 0.625, 0.6666666666666666, 0.6428571428571429, 0.6923076923076923, 0.75, 0.7272727272727273, 0.8, 0.7777777777777778, 0.75, 0.7142857142857143, 0.6666666666666666, 0.6, 0.75, 0.6666666666666666, 0.5, 0.0, 1.0]}, {\"mode\": \"lines\", \"name\": \"RF\", \"type\": \"scatter\", \"x\": [1.0, 0.9946524064171123, 0.9946524064171123, 0.9946524064171123, 0.9946524064171123, 0.9946524064171123, 0.9946524064171123, 0.9946524064171123, 0.9946524064171123, 0.9946524064171123, 0.9919786096256684, 0.9919786096256684, 0.9919786096256684, 0.9919786096256684, 0.9893048128342246, 0.9893048128342246, 0.9866310160427807, 0.9812834224598931, 0.9812834224598931, 0.9812834224598931, 0.9786096256684492, 0.9786096256684492, 0.9786096256684492, 0.9759358288770054, 0.9732620320855615, 0.9652406417112299, 0.9652406417112299, 0.9652406417112299, 0.9652406417112299, 0.9625668449197861, 0.9625668449197861, 0.9625668449197861, 0.9625668449197861, 0.9545454545454546, 0.9545454545454546, 0.9545454545454546, 0.946524064171123, 0.946524064171123, 0.9411764705882353, 0.9411764705882353, 0.9411764705882353, 0.9411764705882353, 0.9385026737967914, 0.9385026737967914, 0.9385026737967914, 0.9385026737967914, 0.9385026737967914, 0.9358288770053476, 0.9358288770053476, 0.9358288770053476, 0.9358288770053476, 0.9331550802139037, 0.9331550802139037, 0.9331550802139037, 0.93048128342246, 0.93048128342246, 0.93048128342246, 0.93048128342246, 0.9251336898395722, 0.9251336898395722, 0.9251336898395722, 0.9251336898395722, 0.9251336898395722, 0.9171122994652406, 0.9171122994652406, 0.9144385026737968, 0.9144385026737968, 0.9117647058823529, 0.9117647058823529, 0.9064171122994652, 0.9064171122994652, 0.9064171122994652, 0.9037433155080213, 0.9037433155080213, 0.9037433155080213, 0.9010695187165776, 0.8983957219251337, 0.8983957219251337, 0.8957219251336899, 0.8957219251336899, 0.8957219251336899, 0.8957219251336899, 0.8957219251336899, 0.893048128342246, 0.8903743315508021, 0.8903743315508021, 0.8903743315508021, 0.8877005347593583, 0.8850267379679144, 0.8823529411764706, 0.8796791443850267, 0.8796791443850267, 0.8796791443850267, 0.8743315508021391, 0.8716577540106952, 0.8716577540106952, 0.8663101604278075, 0.8663101604278075, 0.8636363636363636, 0.8609625668449198, 0.8556149732620321, 0.8529411764705882, 0.8529411764705882, 0.8502673796791443, 0.8502673796791443, 0.8449197860962567, 0.8422459893048129, 0.8422459893048129, 0.839572192513369, 0.8342245989304813, 0.8315508021390374, 0.8315508021390374, 0.8315508021390374, 0.8235294117647058, 0.8235294117647058, 0.8235294117647058, 0.8235294117647058, 0.820855614973262, 0.8181818181818182, 0.8181818181818182, 0.8155080213903744, 0.8155080213903744, 0.8155080213903744, 0.8155080213903744, 0.8155080213903744, 0.8101604278074866, 0.8101604278074866, 0.8101604278074866, 0.8101604278074866, 0.8101604278074866, 0.8074866310160428, 0.8074866310160428, 0.8048128342245989, 0.8048128342245989, 0.8048128342245989, 0.8048128342245989, 0.8021390374331551, 0.7994652406417112, 0.7994652406417112, 0.7994652406417112, 0.7994652406417112, 0.7967914438502673, 0.7967914438502673, 0.7967914438502673, 0.7967914438502673, 0.7967914438502673, 0.7941176470588235, 0.786096256684492, 0.786096256684492, 0.7834224598930482, 0.7834224598930482, 0.7834224598930482, 0.7754010695187166, 0.7727272727272727, 0.7700534759358288, 0.767379679144385, 0.767379679144385, 0.7620320855614974, 0.7620320855614974, 0.7620320855614974, 0.7593582887700535, 0.7566844919786097, 0.7566844919786097, 0.7540106951871658, 0.7513368983957219, 0.7513368983957219, 0.7513368983957219, 0.7486631016042781, 0.7459893048128342, 0.7459893048128342, 0.7433155080213903, 0.7433155080213903, 0.7406417112299465, 0.7406417112299465, 0.7406417112299465, 0.7379679144385026, 0.7379679144385026, 0.7352941176470589, 0.7352941176470589, 0.7352941176470589, 0.732620320855615, 0.732620320855615, 0.7299465240641712, 0.7245989304812834, 0.7245989304812834, 0.7245989304812834, 0.7219251336898396, 0.7219251336898396, 0.7219251336898396, 0.7219251336898396, 0.7192513368983957, 0.7192513368983957, 0.7165775401069518, 0.7165775401069518, 0.7165775401069518, 0.7165775401069518, 0.7165775401069518, 0.7165775401069518, 0.7085561497326203, 0.7058823529411765, 0.7032085561497327, 0.7005347593582888, 0.6978609625668449, 0.6978609625668449, 0.6978609625668449, 0.6978609625668449, 0.6978609625668449, 0.6978609625668449, 0.6978609625668449, 0.6951871657754011, 0.6951871657754011, 0.6925133689839572, 0.6925133689839572, 0.6898395721925134, 0.6898395721925134, 0.6871657754010695, 0.6871657754010695, 0.6871657754010695, 0.6844919786096256, 0.6844919786096256, 0.6844919786096256, 0.6844919786096256, 0.6818181818181818, 0.6818181818181818, 0.679144385026738, 0.679144385026738, 0.6764705882352942, 0.6764705882352942, 0.6737967914438503, 0.6737967914438503, 0.6737967914438503, 0.6711229946524064, 0.6711229946524064, 0.6711229946524064, 0.6684491978609626, 0.6657754010695187, 0.6631016042780749, 0.6631016042780749, 0.6631016042780749, 0.660427807486631, 0.6577540106951871, 0.6577540106951871, 0.6550802139037433, 0.6524064171122995, 0.6497326203208557, 0.6497326203208557, 0.6470588235294118, 0.6470588235294118, 0.6470588235294118, 0.6443850267379679, 0.6417112299465241, 0.6363636363636364, 0.6363636363636364, 0.6363636363636364, 0.6363636363636364, 0.6336898395721925, 0.6336898395721925, 0.6310160427807486, 0.6310160427807486, 0.6283422459893048, 0.6283422459893048, 0.6256684491978609, 0.6229946524064172, 0.6229946524064172, 0.6229946524064172, 0.6229946524064172, 0.6203208556149733, 0.6176470588235294, 0.6176470588235294, 0.6176470588235294, 0.6149732620320856, 0.6149732620320856, 0.6122994652406417, 0.6122994652406417, 0.6122994652406417, 0.6096256684491979, 0.6096256684491979, 0.606951871657754, 0.6042780748663101, 0.6016042780748663, 0.5989304812834224, 0.5962566844919787, 0.5962566844919787, 0.5962566844919787, 0.5935828877005348, 0.5909090909090909, 0.5909090909090909, 0.5909090909090909, 0.5882352941176471, 0.5855614973262032, 0.5855614973262032, 0.5855614973262032, 0.5855614973262032, 0.5855614973262032, 0.5855614973262032, 0.5828877005347594, 0.5802139037433155, 0.5802139037433155, 0.5802139037433155, 0.5775401069518716, 0.5775401069518716, 0.5775401069518716, 0.5775401069518716, 0.5748663101604278, 0.5748663101604278, 0.5748663101604278, 0.5721925133689839, 0.5721925133689839, 0.56951871657754, 0.5668449197860963, 0.5641711229946524, 0.5614973262032086, 0.5614973262032086, 0.5614973262032086, 0.5614973262032086, 0.5588235294117647, 0.5588235294117647, 0.5561497326203209, 0.5561497326203209, 0.553475935828877, 0.553475935828877, 0.5508021390374331, 0.5508021390374331, 0.5508021390374331, 0.5481283422459893, 0.5454545454545454, 0.5427807486631016, 0.5427807486631016, 0.5401069518716578, 0.5320855614973262, 0.5294117647058824, 0.5294117647058824, 0.5294117647058824, 0.5294117647058824, 0.5267379679144385, 0.5240641711229946, 0.5213903743315508, 0.5187165775401069, 0.516042780748663, 0.5133689839572193, 0.5106951871657754, 0.5106951871657754, 0.5106951871657754, 0.5106951871657754, 0.5106951871657754, 0.5080213903743316, 0.5026737967914439, 0.5, 0.49732620320855614, 0.4919786096256685, 0.4893048128342246, 0.4893048128342246, 0.48663101604278075, 0.48663101604278075, 0.48663101604278075, 0.48663101604278075, 0.4839572192513369, 0.48128342245989303, 0.48128342245989303, 0.48128342245989303, 0.48128342245989303, 0.48128342245989303, 0.4786096256684492, 0.4732620320855615, 0.4732620320855615, 0.4732620320855615, 0.4732620320855615, 0.4732620320855615, 0.4732620320855615, 0.4732620320855615, 0.47058823529411764, 0.4679144385026738, 0.46524064171123, 0.4625668449197861, 0.4625668449197861, 0.45989304812834225, 0.45989304812834225, 0.4572192513368984, 0.4572192513368984, 0.45454545454545453, 0.45187165775401067, 0.44919786096256686, 0.44919786096256686, 0.446524064171123, 0.44385026737967914, 0.4411764705882353, 0.4411764705882353, 0.4385026737967914, 0.4385026737967914, 0.4385026737967914, 0.4385026737967914, 0.4385026737967914, 0.4358288770053476, 0.43315508021390375, 0.4304812834224599, 0.4304812834224599, 0.42780748663101603, 0.42513368983957217, 0.42513368983957217, 0.42245989304812837, 0.4197860962566845, 0.41711229946524064, 0.4144385026737968, 0.4117647058823529, 0.4117647058823529, 0.4090909090909091, 0.40641711229946526, 0.4037433155080214, 0.40106951871657753, 0.3983957219251337, 0.3983957219251337, 0.3983957219251337, 0.39572192513368987, 0.39572192513368987, 0.393048128342246, 0.393048128342246, 0.393048128342246, 0.39037433155080214, 0.39037433155080214, 0.39037433155080214, 0.3850267379679144, 0.38235294117647056, 0.37967914438502676, 0.37967914438502676, 0.37433155080213903, 0.37433155080213903, 0.3716577540106952, 0.3716577540106952, 0.3689839572192513, 0.3689839572192513, 0.3689839572192513, 0.3689839572192513, 0.3689839572192513, 0.3689839572192513, 0.3663101604278075, 0.3663101604278075, 0.3663101604278075, 0.36363636363636365, 0.3609625668449198, 0.3609625668449198, 0.3609625668449198, 0.3609625668449198, 0.3609625668449198, 0.3582887700534759, 0.35561497326203206, 0.35561497326203206, 0.35294117647058826, 0.35294117647058826, 0.35294117647058826, 0.35294117647058826, 0.34759358288770054, 0.34759358288770054, 0.3449197860962567, 0.3422459893048128, 0.3422459893048128, 0.339572192513369, 0.339572192513369, 0.339572192513369, 0.339572192513369, 0.33689839572192515, 0.3342245989304813, 0.3342245989304813, 0.3342245989304813, 0.3315508021390374, 0.32887700534759357, 0.32887700534759357, 0.32620320855614976, 0.3235294117647059, 0.32085561497326204, 0.3181818181818182, 0.3155080213903743, 0.3155080213903743, 0.31283422459893045, 0.31016042780748665, 0.3074866310160428, 0.3074866310160428, 0.3074866310160428, 0.3048128342245989, 0.3048128342245989, 0.30213903743315507, 0.2994652406417112, 0.2994652406417112, 0.2967914438502674, 0.29411764705882354, 0.29411764705882354, 0.2914438502673797, 0.2887700534759358, 0.28342245989304815, 0.2807486631016043, 0.27807486631016043, 0.27540106951871657, 0.27540106951871657, 0.27540106951871657, 0.2727272727272727, 0.2700534759358289, 0.2700534759358289, 0.26737967914438504, 0.2647058823529412, 0.2620320855614973, 0.25935828877005346, 0.25668449197860965, 0.2540106951871658, 0.2540106951871658, 0.25133689839572193, 0.25133689839572193, 0.24866310160427807, 0.24866310160427807, 0.24598930481283424, 0.24331550802139038, 0.24331550802139038, 0.24331550802139038, 0.24064171122994651, 0.23796791443850268, 0.23529411764705882, 0.232620320855615, 0.22994652406417113, 0.22727272727272727, 0.22727272727272727, 0.22727272727272727, 0.22459893048128343, 0.22459893048128343, 0.22192513368983957, 0.22192513368983957, 0.22192513368983957, 0.2192513368983957, 0.2192513368983957, 0.21657754010695188, 0.21390374331550802, 0.21122994652406418, 0.20855614973262032, 0.20320855614973263, 0.20053475935828877, 0.19786096256684493, 0.19518716577540107, 0.1925133689839572, 0.1925133689839572, 0.18983957219251338, 0.18716577540106952, 0.18716577540106952, 0.18716577540106952, 0.18449197860962566, 0.18181818181818182, 0.17914438502673796, 0.17647058823529413, 0.17379679144385027, 0.17379679144385027, 0.17379679144385027, 0.17379679144385027, 0.1711229946524064, 0.16844919786096257, 0.1657754010695187, 0.1657754010695187, 0.16310160427807488, 0.16310160427807488, 0.16310160427807488, 0.16042780748663102, 0.15775401069518716, 0.15775401069518716, 0.15508021390374332, 0.15240641711229946, 0.1497326203208556, 0.14705882352941177, 0.1443850267379679, 0.1443850267379679, 0.14171122994652408, 0.13903743315508021, 0.13636363636363635, 0.13368983957219252, 0.13368983957219252, 0.13101604278074866, 0.12834224598930483, 0.12566844919786097, 0.12566844919786097, 0.12566844919786097, 0.12566844919786097, 0.12299465240641712, 0.12032085561497326, 0.11764705882352941, 0.11764705882352941, 0.11764705882352941, 0.11497326203208556, 0.11497326203208556, 0.11229946524064172, 0.10962566844919786, 0.10695187165775401, 0.10427807486631016, 0.10160427807486631, 0.09893048128342247, 0.09893048128342247, 0.0962566844919786, 0.09358288770053476, 0.09090909090909091, 0.08823529411764706, 0.0855614973262032, 0.0855614973262032, 0.0855614973262032, 0.0855614973262032, 0.0855614973262032, 0.08288770053475936, 0.08021390374331551, 0.08021390374331551, 0.07754010695187166, 0.0748663101604278, 0.07219251336898395, 0.06951871657754011, 0.06684491978609626, 0.06417112299465241, 0.06149732620320856, 0.058823529411764705, 0.05614973262032086, 0.053475935828877004, 0.05080213903743316, 0.0481283422459893, 0.0481283422459893, 0.045454545454545456, 0.045454545454545456, 0.045454545454545456, 0.0427807486631016, 0.0427807486631016, 0.040106951871657755, 0.0374331550802139, 0.034759358288770054, 0.03208556149732621, 0.03208556149732621, 0.03208556149732621, 0.03208556149732621, 0.029411764705882353, 0.026737967914438502, 0.02406417112299465, 0.02406417112299465, 0.0213903743315508, 0.01871657754010695, 0.016042780748663103, 0.013368983957219251, 0.008021390374331552, 0.0053475935828877, 0.00267379679144385, 0.0], \"y\": [0.2658137882018479, 0.28353658536585363, 0.2837528604118993, 0.2950039651070579, 0.29523809523809524, 0.3054187192118227, 0.3056696795398521, 0.3123425692695214, 0.31794871794871793, 0.32432432432432434, 0.3237347294938918, 0.32860938883968116, 0.3345356176735798, 0.3385036496350365, 0.3419593345656192, 0.3422756706753006, 0.3458294283036551, 0.3508604206500956, 0.35631067961165047, 0.3566569484936832, 0.3560311284046693, 0.3563777994157741, 0.3630952380952381, 0.3624627606752731, 0.36182902584493043, 0.3639112903225806, 0.3687436159346272, 0.37409326424870465, 0.3744813278008299, 0.37815126050420167, 0.3785488958990536, 0.37894736842105264, 0.38176033934252385, 0.38345864661654133, 0.38387096774193546, 0.38428417653390745, 0.3839479392624729, 0.38436482084690554, 0.38596491228070173, 0.38638858397365533, 0.3868131868131868, 0.3902439024390244, 0.3926174496644295, 0.393057110862262, 0.39349775784753366, 0.39841089670828606, 0.40160183066361554, 0.4050925925925926, 0.4055619930475087, 0.4060324825986079, 0.4065040650406504, 0.41204250295159384, 0.41252955082742315, 0.41301775147928993, 0.4172661870503597, 0.4177671068427371, 0.4182692307692308, 0.4187725631768953, 0.4204131227217497, 0.4209245742092457, 0.4219512195121951, 0.42246642246642246, 0.4229828850855746, 0.42555831265508687, 0.4260869565217391, 0.4253731343283582, 0.4259028642590286, 0.4305555555555556, 0.4310998735777497, 0.4318471337579618, 0.43239795918367346, 0.4329501915708812, 0.4322250639386189, 0.4383916990920882, 0.43896103896103894, 0.44342105263157894, 0.4426877470355731, 0.44327176781002636, 0.4425363276089828, 0.4454787234042553, 0.44607190412782954, 0.44666666666666666, 0.45209176788124156, 0.45816186556927296, 0.4574175824175824, 0.4580467675378267, 0.45867768595041325, 0.4623955431754875, 0.4616457461645746, 0.46089385474860334, 0.46013986013986014, 0.46078431372549017, 0.46143057503506313, 0.461864406779661, 0.4611032531824611, 0.46175637393767704, 0.46418338108882523, 0.4648493543758967, 0.4640804597701149, 0.4633093525179856, 0.46511627906976744, 0.4650145772594752, 0.4656934306569343, 0.4649122807017544, 0.4662756598240469, 0.47023809523809523, 0.46944858420268254, 0.4701492537313433, 0.4693572496263079, 0.46776611694152925, 0.47049924357034795, 0.4712121212121212, 0.47192716236722304, 0.47166921898928027, 0.4723926380368098, 0.4745762711864407, 0.47530864197530864, 0.47449768160741884, 0.47368421052631576, 0.4758942457231726, 0.4750778816199377, 0.47581903276131043, 0.4765625, 0.47730829420970267, 0.4780564263322884, 0.47943037974683544, 0.48019017432646594, 0.482484076433121, 0.48325358851674644, 0.4840255591054313, 0.4870967741935484, 0.4878836833602585, 0.48863636363636365, 0.4894308943089431, 0.49022801302931596, 0.49506578947368424, 0.4942339373970346, 0.4933993399339934, 0.49421487603305786, 0.49503311258278143, 0.49585406301824214, 0.4950166112956811, 0.49584026622296173, 0.4974958263772955, 0.4983277591973244, 0.4991624790619765, 0.4983221476510067, 0.499151103565365, 0.5, 0.4991482112436116, 0.5, 0.5008547008547009, 0.5025996533795494, 0.5017361111111112, 0.5034965034965035, 0.5026269702276708, 0.5035087719298246, 0.5053191489361702, 0.5062166962699822, 0.5071174377224199, 0.5062388591800356, 0.507168458781362, 0.5080789946140036, 0.5127272727272727, 0.51183970856102, 0.5127737226277372, 0.5137111517367459, 0.5128205128205128, 0.5138121546961326, 0.514760147601476, 0.5138632162661737, 0.5148148148148148, 0.5139146567717996, 0.5148698884758365, 0.515828677839851, 0.5149253731343284, 0.5158878504672897, 0.5149812734082397, 0.5159474671669794, 0.5169172932330827, 0.5160075329566854, 0.5169811320754717, 0.5160680529300568, 0.5161904761904762, 0.517175572519084, 0.5181644359464627, 0.5192307692307693, 0.5202312138728323, 0.5212355212355212, 0.5222437137330754, 0.5233463035019456, 0.5243664717348928, 0.5234375, 0.5254901960784314, 0.5265225933202358, 0.5275590551181102, 0.5285996055226825, 0.5296442687747036, 0.53, 0.5290581162324649, 0.5281124497991968, 0.5271629778672032, 0.5262096774193549, 0.5272727272727272, 0.52834008097166, 0.5294117647058824, 0.5348360655737705, 0.5359342915811088, 0.5370370370370371, 0.5371900826446281, 0.5383022774327122, 0.5373443983402489, 0.5384615384615384, 0.5375, 0.5386221294363257, 0.5376569037656904, 0.5410526315789473, 0.5421940928270043, 0.5412262156448203, 0.5423728813559322, 0.5470085470085471, 0.5481798715203426, 0.5472103004291845, 0.5483870967741935, 0.5474137931034483, 0.5485961123110151, 0.5476190476190477, 0.5524017467248908, 0.5514223194748359, 0.5526315789473685, 0.5538461538461539, 0.552863436123348, 0.5553097345132744, 0.5565410199556541, 0.5555555555555556, 0.5545657015590201, 0.5573033707865168, 0.5585585585585585, 0.5598194130925508, 0.5588235294117647, 0.5590909090909091, 0.5603644646924829, 0.5593607305936074, 0.5583524027459954, 0.5573394495412844, 0.5586206896551724, 0.5576036866359447, 0.558891454965358, 0.5601851851851852, 0.5591647331786543, 0.5581395348837209, 0.5573770491803278, 0.5586854460093896, 0.56, 0.5613207547169812, 0.5602836879432624, 0.5616113744075829, 0.5605700712589073, 0.5619047619047619, 0.5608591885441527, 0.5635491606714629, 0.5625, 0.5614457831325301, 0.5628019323671497, 0.5641646489104116, 0.5682926829268292, 0.5672371638141809, 0.5661764705882353, 0.5675675675675675, 0.5689655172413793, 0.5679012345679012, 0.5693069306930693, 0.5682382133995038, 0.5696517412935324, 0.571072319201995, 0.57, 0.5714285714285714, 0.5703517587939698, 0.5692695214105793, 0.5681818181818182, 0.5670886075949367, 0.565989847715736, 0.5688775510204082, 0.5703324808184144, 0.5692307692307692, 0.5681233933161953, 0.572538860103627, 0.5755208333333334, 0.5744125326370757, 0.5732984293193717, 0.5748031496062992, 0.5763157894736842, 0.5778364116094987, 0.5793650793650794, 0.5809018567639257, 0.5797872340425532, 0.5786666666666667, 0.5817694369973191, 0.5833333333333334, 0.5822102425876011, 0.5837837837837838, 0.5853658536585366, 0.5869565217391305, 0.5858310626702997, 0.587431693989071, 0.589041095890411, 0.5879120879120879, 0.5895316804407713, 0.590027700831025, 0.5888888888888889, 0.5877437325905293, 0.5865921787709497, 0.5932203389830508, 0.5949008498583569, 0.5965909090909091, 0.5954415954415955, 0.5971428571428572, 0.5959885386819485, 0.5977011494252874, 0.6, 0.6017441860465116, 0.6005830903790087, 0.6023391812865497, 0.6041055718475073, 0.6029411764705882, 0.6017699115044248, 0.6005917159763313, 0.6023738872403561, 0.6011904761904762, 0.5993975903614458, 0.5981873111782477, 0.6, 0.601823708206687, 0.6036585365853658, 0.6024464831804281, 0.6012269938650306, 0.6, 0.5987654320987654, 0.5975232198142415, 0.5962732919254659, 0.5950155763239875, 0.596875, 0.5987460815047022, 0.60062893081761, 0.6025236593059937, 0.6012658227848101, 0.6006389776357828, 0.5993589743589743, 0.5980707395498392, 0.5974025974025974, 0.5960912052117264, 0.5980392156862745, 0.5967213114754099, 0.5986842105263158, 0.6006600660066007, 0.6026490066225165, 0.6013289036544851, 0.6, 0.6020066889632107, 0.6040268456375839, 0.6060606060606061, 0.6081081081081081, 0.6067796610169491, 0.6061643835616438, 0.6082474226804123, 0.6103448275862069, 0.6124567474048442, 0.6145833333333334, 0.6167247386759582, 0.6188811188811189, 0.6175438596491228, 0.6161971830985915, 0.6148409893992933, 0.6134751773049646, 0.6156583629893239, 0.6142857142857143, 0.6187050359712231, 0.6173285198555957, 0.6195652173913043, 0.6181818181818182, 0.6190476190476191, 0.6176470588235294, 0.6199261992619927, 0.6185185185185185, 0.6171003717472119, 0.6156716417910447, 0.6179775280898876, 0.6165413533834586, 0.6188679245283019, 0.6212121212121212, 0.623574144486692, 0.6259541984732825, 0.6245210727969349, 0.6230769230769231, 0.6216216216216216, 0.624031007751938, 0.622568093385214, 0.62109375, 0.6235294117647059, 0.6220472440944882, 0.623015873015873, 0.6215139442231076, 0.62, 0.6184738955823293, 0.6209677419354839, 0.6194331983805668, 0.6178861788617886, 0.6213991769547325, 0.6198347107438017, 0.6182572614107884, 0.6234309623430963, 0.6260504201680672, 0.6244725738396625, 0.6271186440677966, 0.625531914893617, 0.6282051282051282, 0.630901287553648, 0.6293103448275862, 0.6320346320346321, 0.6347826086956522, 0.631578947368421, 0.6299559471365639, 0.6283185840707964, 0.6311111111111111, 0.6334841628959276, 0.6363636363636364, 0.634703196347032, 0.6376146788990825, 0.6359447004608295, 0.6388888888888888, 0.641860465116279, 0.6448598130841121, 0.647887323943662, 0.6509433962264151, 0.6492890995260664, 0.6523809523809524, 0.6555023923444976, 0.6538461538461539, 0.6521739130434783, 0.6553398058252428, 0.6585365853658537, 0.6617647058823529, 0.6650246305418719, 0.6633663366336634, 0.665, 0.6683417085427136, 0.6666666666666666, 0.6700507614213198, 0.673469387755102, 0.676923076923077, 0.6770833333333334, 0.680628272251309, 0.6789473684210526, 0.6772486772486772, 0.6808510638297872, 0.679144385026738, 0.6827956989247311, 0.6864864864864865, 0.6902173913043478, 0.6885245901639344, 0.6868131868131868, 0.6906077348066298, 0.6944444444444444, 0.6927374301675978, 0.6910112359550562, 0.6949152542372882, 0.6931818181818182, 0.6914285714285714, 0.6896551724137931, 0.6878612716763006, 0.686046511627907, 0.6900584795321637, 0.6882352941176471, 0.6863905325443787, 0.6845238095238095, 0.688622754491018, 0.6927710843373494, 0.6909090909090909, 0.6951219512195121, 0.6932515337423313, 0.691358024691358, 0.6956521739130435, 0.69375, 0.6918238993710691, 0.6962025316455697, 0.6942675159235668, 0.6923076923076923, 0.6883116883116883, 0.6862745098039216, 0.6842105263157895, 0.6821192052980133, 0.6866666666666666, 0.6912751677852349, 0.6891891891891891, 0.696551724137931, 0.7013888888888888, 0.6993006993006993, 0.6971830985915493, 0.6950354609929078, 0.6928571428571428, 0.6906474820143885, 0.6884057971014492, 0.6934306569343066, 0.6911764705882353, 0.6962962962962963, 0.6940298507462687, 0.6992481203007519, 0.696969696969697, 0.6946564885496184, 0.7, 0.7054263565891473, 0.703125, 0.7007874015748031, 0.6984126984126984, 0.696, 0.6935483870967742, 0.6910569105691057, 0.6967213114754098, 0.7024793388429752, 0.7, 0.7058823529411765, 0.7033898305084746, 0.7094017094017094, 0.7155172413793104, 0.7130434782608696, 0.7192982456140351, 0.7168141592920354, 0.7142857142857143, 0.7117117117117117, 0.7090909090909091, 0.7037037037037037, 0.7009345794392523, 0.6981132075471698, 0.6952380952380952, 0.6923076923076923, 0.6990291262135923, 0.696078431372549, 0.693069306930693, 0.7, 0.7070707070707071, 0.7040816326530612, 0.7010309278350515, 0.6979166666666666, 0.6947368421052632, 0.6914893617021277, 0.6989247311827957, 0.7065217391304348, 0.7142857142857143, 0.7111111111111111, 0.7078651685393258, 0.7045454545454546, 0.7126436781609196, 0.7093023255813954, 0.7176470588235294, 0.7261904761904762, 0.7228915662650602, 0.7195121951219512, 0.7283950617283951, 0.725, 0.7215189873417721, 0.717948717948718, 0.7142857142857143, 0.7105263157894737, 0.72, 0.7162162162162162, 0.7123287671232876, 0.7083333333333334, 0.704225352112676, 0.7142857142857143, 0.7101449275362319, 0.7058823529411765, 0.7014925373134329, 0.7121212121212122, 0.7230769230769231, 0.734375, 0.7301587301587301, 0.7258064516129032, 0.7213114754098361, 0.7333333333333333, 0.7457627118644068, 0.7413793103448276, 0.7543859649122807, 0.75, 0.7454545454545455, 0.7407407407407407, 0.7358490566037735, 0.7307692307692307, 0.7254901960784313, 0.74, 0.7346938775510204, 0.7291666666666666, 0.723404255319149, 0.717391304347826, 0.7111111111111111, 0.7272727272727273, 0.7441860465116279, 0.7619047619047619, 0.7804878048780488, 0.775, 0.7692307692307693, 0.7894736842105263, 0.7837837837837838, 0.7777777777777778, 0.7714285714285715, 0.7647058823529411, 0.7575757575757576, 0.75, 0.7419354838709677, 0.7333333333333333, 0.7241379310344828, 0.7142857142857143, 0.7037037037037037, 0.6923076923076923, 0.72, 0.7083333333333334, 0.7391304347826086, 0.7727272727272727, 0.7619047619047619, 0.8, 0.7894736842105263, 0.7777777777777778, 0.7647058823529411, 0.75, 0.8, 0.8571428571428571, 0.9230769230769231, 0.9166666666666666, 0.9090909090909091, 0.9, 1.0, 1.0, 1.0, 1.0, 1.0, 1.0, 1.0, 1.0, 1.0]}, {\"mode\": \"lines\", \"name\": \"ADA\", \"type\": \"scatter\", \"x\": [1.0, 0.9973262032085561, 0.9973262032085561, 0.9973262032085561, 0.9973262032085561, 0.9973262032085561, 0.9973262032085561, 0.9973262032085561, 0.9973262032085561, 0.9973262032085561, 0.9973262032085561, 0.9973262032085561, 0.9973262032085561, 0.9973262032085561, 0.9973262032085561, 0.9973262032085561, 0.9973262032085561, 0.9973262032085561, 0.9973262032085561, 0.9973262032085561, 0.9973262032085561, 0.9973262032085561, 0.9973262032085561, 0.9973262032085561, 0.9973262032085561, 0.9973262032085561, 0.9973262032085561, 0.9973262032085561, 0.9973262032085561, 0.9973262032085561, 0.9973262032085561, 0.9973262032085561, 0.9973262032085561, 0.9973262032085561, 0.9973262032085561, 0.9973262032085561, 0.9973262032085561, 0.9973262032085561, 0.9973262032085561, 0.9973262032085561, 0.9973262032085561, 0.9973262032085561, 0.9973262032085561, 0.9973262032085561, 0.9973262032085561, 0.9973262032085561, 0.9973262032085561, 0.9973262032085561, 0.9973262032085561, 0.9973262032085561, 0.9973262032085561, 0.9973262032085561, 0.9973262032085561, 0.9973262032085561, 0.9973262032085561, 0.9973262032085561, 0.9973262032085561, 0.9973262032085561, 0.9973262032085561, 0.9973262032085561, 0.9973262032085561, 0.9973262032085561, 0.9973262032085561, 0.9973262032085561, 0.9973262032085561, 0.9973262032085561, 0.9973262032085561, 0.9973262032085561, 0.9973262032085561, 0.9973262032085561, 0.9973262032085561, 0.9973262032085561, 0.9973262032085561, 0.9973262032085561, 0.9973262032085561, 0.9973262032085561, 0.9973262032085561, 0.9973262032085561, 0.9973262032085561, 0.9973262032085561, 0.9973262032085561, 0.9973262032085561, 0.9973262032085561, 0.9973262032085561, 0.9973262032085561, 0.9973262032085561, 0.9973262032085561, 0.9973262032085561, 0.9973262032085561, 0.9973262032085561, 0.9973262032085561, 0.9973262032085561, 0.9973262032085561, 0.9973262032085561, 0.9973262032085561, 0.9973262032085561, 0.9973262032085561, 0.9973262032085561, 0.9973262032085561, 0.9973262032085561, 0.9973262032085561, 0.9973262032085561, 0.9973262032085561, 0.9973262032085561, 0.9973262032085561, 0.9973262032085561, 0.9973262032085561, 0.9973262032085561, 0.9973262032085561, 0.9973262032085561, 0.9973262032085561, 0.9973262032085561, 0.9973262032085561, 0.9973262032085561, 0.9973262032085561, 0.9973262032085561, 0.9973262032085561, 0.9973262032085561, 0.9973262032085561, 0.9973262032085561, 0.9973262032085561, 0.9973262032085561, 0.9973262032085561, 0.9973262032085561, 0.9973262032085561, 0.9973262032085561, 0.9973262032085561, 0.9973262032085561, 0.9973262032085561, 0.9973262032085561, 0.9973262032085561, 0.9973262032085561, 0.9973262032085561, 0.9973262032085561, 0.9973262032085561, 0.9973262032085561, 0.9973262032085561, 0.9973262032085561, 0.9973262032085561, 0.9973262032085561, 0.9973262032085561, 0.9973262032085561, 0.9973262032085561, 0.9973262032085561, 0.9973262032085561, 0.9973262032085561, 0.9973262032085561, 0.9973262032085561, 0.9973262032085561, 0.9973262032085561, 0.9973262032085561, 0.9973262032085561, 0.9973262032085561, 0.9973262032085561, 0.9973262032085561, 0.9973262032085561, 0.9973262032085561, 0.9973262032085561, 0.9973262032085561, 0.9973262032085561, 0.9973262032085561, 0.9973262032085561, 0.9973262032085561, 0.9973262032085561, 0.9973262032085561, 0.9973262032085561, 0.9973262032085561, 0.9973262032085561, 0.9973262032085561, 0.9973262032085561, 0.9973262032085561, 0.9973262032085561, 0.9973262032085561, 0.9973262032085561, 0.9973262032085561, 0.9973262032085561, 0.9973262032085561, 0.9973262032085561, 0.9973262032085561, 0.9973262032085561, 0.9973262032085561, 0.9946524064171123, 0.9946524064171123, 0.9946524064171123, 0.9946524064171123, 0.9946524064171123, 0.9946524064171123, 0.9946524064171123, 0.9946524064171123, 0.9946524064171123, 0.9946524064171123, 0.9946524064171123, 0.9946524064171123, 0.9946524064171123, 0.9946524064171123, 0.9946524064171123, 0.9946524064171123, 0.9946524064171123, 0.9946524064171123, 0.9946524064171123, 0.9946524064171123, 0.9946524064171123, 0.9946524064171123, 0.9946524064171123, 0.9946524064171123, 0.9946524064171123, 0.9946524064171123, 0.9946524064171123, 0.9946524064171123, 0.9946524064171123, 0.9946524064171123, 0.9946524064171123, 0.9946524064171123, 0.9946524064171123, 0.9946524064171123, 0.9946524064171123, 0.9946524064171123, 0.9946524064171123, 0.9946524064171123, 0.9946524064171123, 0.9946524064171123, 0.9919786096256684, 0.9919786096256684, 0.9919786096256684, 0.9919786096256684, 0.9919786096256684, 0.9893048128342246, 0.9893048128342246, 0.9893048128342246, 0.9893048128342246, 0.9893048128342246, 0.9893048128342246, 0.9893048128342246, 0.9893048128342246, 0.9893048128342246, 0.9893048128342246, 0.9893048128342246, 0.9893048128342246, 0.9893048128342246, 0.9893048128342246, 0.9893048128342246, 0.9893048128342246, 0.9893048128342246, 0.9893048128342246, 0.9893048128342246, 0.9893048128342246, 0.9893048128342246, 0.9893048128342246, 0.9893048128342246, 0.9893048128342246, 0.9893048128342246, 0.9893048128342246, 0.9893048128342246, 0.9893048128342246, 0.9893048128342246, 0.9893048128342246, 0.9893048128342246, 0.9893048128342246, 0.9893048128342246, 0.9893048128342246, 0.9893048128342246, 0.9893048128342246, 0.9893048128342246, 0.9893048128342246, 0.9893048128342246, 0.9893048128342246, 0.9893048128342246, 0.9893048128342246, 0.9893048128342246, 0.9893048128342246, 0.9893048128342246, 0.9866310160427807, 0.9866310160427807, 0.9866310160427807, 0.9866310160427807, 0.9866310160427807, 0.9866310160427807, 0.983957219251337, 0.983957219251337, 0.983957219251337, 0.983957219251337, 0.983957219251337, 0.983957219251337, 0.983957219251337, 0.983957219251337, 0.983957219251337, 0.983957219251337, 0.983957219251337, 0.983957219251337, 0.9812834224598931, 0.9812834224598931, 0.9812834224598931, 0.9812834224598931, 0.9812834224598931, 0.9812834224598931, 0.9812834224598931, 0.9812834224598931, 0.9812834224598931, 0.9812834224598931, 0.9812834224598931, 0.9812834224598931, 0.9812834224598931, 0.9812834224598931, 0.9812834224598931, 0.9812834224598931, 0.9812834224598931, 0.9812834224598931, 0.9812834224598931, 0.9812834224598931, 0.9812834224598931, 0.9812834224598931, 0.9812834224598931, 0.9812834224598931, 0.9812834224598931, 0.9812834224598931, 0.9812834224598931, 0.9812834224598931, 0.9812834224598931, 0.9812834224598931, 0.9812834224598931, 0.9812834224598931, 0.9812834224598931, 0.9812834224598931, 0.9812834224598931, 0.9812834224598931, 0.9812834224598931, 0.9786096256684492, 0.9786096256684492, 0.9786096256684492, 0.9786096256684492, 0.9786096256684492, 0.9786096256684492, 0.9786096256684492, 0.9786096256684492, 0.9786096256684492, 0.9786096256684492, 0.9786096256684492, 0.9786096256684492, 0.9786096256684492, 0.9786096256684492, 0.9786096256684492, 0.9786096256684492, 0.9786096256684492, 0.9786096256684492, 0.9786096256684492, 0.9786096256684492, 0.9759358288770054, 0.9759358288770054, 0.9759358288770054, 0.9759358288770054, 0.9759358288770054, 0.9759358288770054, 0.9759358288770054, 0.9759358288770054, 0.9759358288770054, 0.9759358288770054, 0.9759358288770054, 0.9759358288770054, 0.9759358288770054, 0.9759358288770054, 0.9759358288770054, 0.9759358288770054, 0.9759358288770054, 0.9759358288770054, 0.9732620320855615, 0.9732620320855615, 0.9732620320855615, 0.9732620320855615, 0.9732620320855615, 0.9732620320855615, 0.9732620320855615, 0.9732620320855615, 0.9732620320855615, 0.9705882352941176, 0.9705882352941176, 0.9705882352941176, 0.9705882352941176, 0.9705882352941176, 0.9705882352941176, 0.9705882352941176, 0.9705882352941176, 0.9705882352941176, 0.9705882352941176, 0.9705882352941176, 0.9679144385026738, 0.9679144385026738, 0.9679144385026738, 0.9679144385026738, 0.9679144385026738, 0.9679144385026738, 0.9679144385026738, 0.9652406417112299, 0.9625668449197861, 0.9625668449197861, 0.9625668449197861, 0.9625668449197861, 0.9625668449197861, 0.9625668449197861, 0.9598930481283422, 0.9598930481283422, 0.9598930481283422, 0.9598930481283422, 0.9598930481283422, 0.9598930481283422, 0.9598930481283422, 0.9598930481283422, 0.9598930481283422, 0.9598930481283422, 0.9598930481283422, 0.9598930481283422, 0.9598930481283422, 0.9598930481283422, 0.9598930481283422, 0.9598930481283422, 0.9598930481283422, 0.9598930481283422, 0.9598930481283422, 0.9598930481283422, 0.9598930481283422, 0.9598930481283422, 0.9598930481283422, 0.9598930481283422, 0.9598930481283422, 0.9598930481283422, 0.9598930481283422, 0.9598930481283422, 0.9598930481283422, 0.9572192513368984, 0.9572192513368984, 0.9572192513368984, 0.9572192513368984, 0.9572192513368984, 0.9572192513368984, 0.9572192513368984, 0.9572192513368984, 0.9572192513368984, 0.9572192513368984, 0.9572192513368984, 0.9572192513368984, 0.9572192513368984, 0.9572192513368984, 0.9572192513368984, 0.9545454545454546, 0.9545454545454546, 0.9545454545454546, 0.9545454545454546, 0.9545454545454546, 0.9545454545454546, 0.9545454545454546, 0.9518716577540107, 0.9518716577540107, 0.9518716577540107, 0.9518716577540107, 0.9518716577540107, 0.9518716577540107, 0.9518716577540107, 0.9518716577540107, 0.9518716577540107, 0.9518716577540107, 0.9518716577540107, 0.9491978609625669, 0.9491978609625669, 0.946524064171123, 0.946524064171123, 0.946524064171123, 0.946524064171123, 0.9438502673796791, 0.9411764705882353, 0.9411764705882353, 0.9411764705882353, 0.9411764705882353, 0.9411764705882353, 0.9411764705882353, 0.9411764705882353, 0.9411764705882353, 0.9411764705882353, 0.9411764705882353, 0.9411764705882353, 0.9411764705882353, 0.9411764705882353, 0.9385026737967914, 0.9385026737967914, 0.9358288770053476, 0.9358288770053476, 0.9331550802139037, 0.9331550802139037, 0.9331550802139037, 0.9331550802139037, 0.9331550802139037, 0.9331550802139037, 0.9331550802139037, 0.9331550802139037, 0.9331550802139037, 0.9331550802139037, 0.9331550802139037, 0.9331550802139037, 0.9331550802139037, 0.9331550802139037, 0.9331550802139037, 0.9331550802139037, 0.9331550802139037, 0.9331550802139037, 0.9331550802139037, 0.93048128342246, 0.9278074866310161, 0.9251336898395722, 0.9251336898395722, 0.9251336898395722, 0.9251336898395722, 0.9251336898395722, 0.9251336898395722, 0.9224598930481284, 0.9224598930481284, 0.9224598930481284, 0.9224598930481284, 0.9224598930481284, 0.9224598930481284, 0.9224598930481284, 0.9224598930481284, 0.9224598930481284, 0.9224598930481284, 0.9224598930481284, 0.9224598930481284, 0.9224598930481284, 0.9224598930481284, 0.9224598930481284, 0.9224598930481284, 0.9224598930481284, 0.9224598930481284, 0.9197860962566845, 0.9197860962566845, 0.9197860962566845, 0.9197860962566845, 0.9197860962566845, 0.9197860962566845, 0.9171122994652406, 0.9171122994652406, 0.9171122994652406, 0.9171122994652406, 0.9171122994652406, 0.9144385026737968, 0.9144385026737968, 0.9144385026737968, 0.9144385026737968, 0.9144385026737968, 0.9144385026737968, 0.9144385026737968, 0.9117647058823529, 0.9117647058823529, 0.9117647058823529, 0.9090909090909091, 0.9090909090909091, 0.9090909090909091, 0.9090909090909091, 0.9090909090909091, 0.9090909090909091, 0.9090909090909091, 0.9090909090909091, 0.9090909090909091, 0.9090909090909091, 0.9090909090909091, 0.9064171122994652, 0.9037433155080213, 0.9037433155080213, 0.9037433155080213, 0.9037433155080213, 0.9037433155080213, 0.9037433155080213, 0.9037433155080213, 0.9010695187165776, 0.9010695187165776, 0.9010695187165776, 0.9010695187165776, 0.9010695187165776, 0.9010695187165776, 0.9010695187165776, 0.9010695187165776, 0.9010695187165776, 0.9010695187165776, 0.9010695187165776, 0.9010695187165776, 0.9010695187165776, 0.9010695187165776, 0.9010695187165776, 0.8983957219251337, 0.8957219251336899, 0.8957219251336899, 0.8957219251336899, 0.8957219251336899, 0.8957219251336899, 0.8957219251336899, 0.8957219251336899, 0.8957219251336899, 0.8957219251336899, 0.893048128342246, 0.893048128342246, 0.8903743315508021, 0.8877005347593583, 0.8877005347593583, 0.8850267379679144, 0.8823529411764706, 0.8823529411764706, 0.8823529411764706, 0.8823529411764706, 0.8823529411764706, 0.8823529411764706, 0.8823529411764706, 0.8823529411764706, 0.8823529411764706, 0.8796791443850267, 0.8770053475935828, 0.8743315508021391, 0.8743315508021391, 0.8743315508021391, 0.8743315508021391, 0.8743315508021391, 0.8716577540106952, 0.8716577540106952, 0.8716577540106952, 0.8716577540106952, 0.8716577540106952, 0.8716577540106952, 0.8716577540106952, 0.8716577540106952, 0.8716577540106952, 0.8716577540106952, 0.8716577540106952, 0.8716577540106952, 0.8716577540106952, 0.8716577540106952, 0.8716577540106952, 0.8716577540106952, 0.8689839572192514, 0.8689839572192514, 0.8689839572192514, 0.8663101604278075, 0.8636363636363636, 0.8636363636363636, 0.8636363636363636, 0.8636363636363636, 0.8636363636363636, 0.8636363636363636, 0.8636363636363636, 0.8636363636363636, 0.8609625668449198, 0.8582887700534759, 0.8556149732620321, 0.8556149732620321, 0.8556149732620321, 0.8529411764705882, 0.8529411764705882, 0.8502673796791443, 0.8502673796791443, 0.8502673796791443, 0.8502673796791443, 0.8502673796791443, 0.8502673796791443, 0.8502673796791443, 0.8502673796791443, 0.8502673796791443, 0.8475935828877005, 0.8475935828877005, 0.8475935828877005, 0.8449197860962567, 0.8449197860962567, 0.8422459893048129, 0.8422459893048129, 0.839572192513369, 0.839572192513369, 0.839572192513369, 0.839572192513369, 0.839572192513369, 0.839572192513369, 0.839572192513369, 0.839572192513369, 0.839572192513369, 0.839572192513369, 0.8368983957219251, 0.8368983957219251, 0.8368983957219251, 0.8342245989304813, 0.8342245989304813, 0.8315508021390374, 0.8315508021390374, 0.8288770053475936, 0.8288770053475936, 0.8262032085561497, 0.8262032085561497, 0.8262032085561497, 0.8235294117647058, 0.8235294117647058, 0.820855614973262, 0.8181818181818182, 0.8181818181818182, 0.8155080213903744, 0.8155080213903744, 0.8155080213903744, 0.8128342245989305, 0.8101604278074866, 0.8101604278074866, 0.8101604278074866, 0.8101604278074866, 0.8074866310160428, 0.8048128342245989, 0.8021390374331551, 0.8021390374331551, 0.8021390374331551, 0.8021390374331551, 0.7994652406417112, 0.7994652406417112, 0.7967914438502673, 0.7967914438502673, 0.7967914438502673, 0.7941176470588235, 0.7941176470588235, 0.7941176470588235, 0.7941176470588235, 0.7914438502673797, 0.7914438502673797, 0.7887700534759359, 0.786096256684492, 0.786096256684492, 0.786096256684492, 0.786096256684492, 0.786096256684492, 0.7834224598930482, 0.7807486631016043, 0.7780748663101604, 0.7780748663101604, 0.7780748663101604, 0.7780748663101604, 0.7780748663101604, 0.7754010695187166, 0.7754010695187166, 0.7754010695187166, 0.7754010695187166, 0.7754010695187166, 0.7727272727272727, 0.7727272727272727, 0.7700534759358288, 0.7700534759358288, 0.7700534759358288, 0.7700534759358288, 0.7700534759358288, 0.7700534759358288, 0.7700534759358288, 0.7700534759358288, 0.7700534759358288, 0.7700534759358288, 0.7700534759358288, 0.7700534759358288, 0.7700534759358288, 0.767379679144385, 0.767379679144385, 0.767379679144385, 0.767379679144385, 0.767379679144385, 0.767379679144385, 0.767379679144385, 0.7647058823529411, 0.7647058823529411, 0.7647058823529411, 0.7647058823529411, 0.7647058823529411, 0.7620320855614974, 0.7620320855614974, 0.7620320855614974, 0.7620320855614974, 0.7593582887700535, 0.7593582887700535, 0.7593582887700535, 0.7593582887700535, 0.7566844919786097, 0.7566844919786097, 0.7540106951871658, 0.7540106951871658, 0.7540106951871658, 0.7540106951871658, 0.7513368983957219, 0.7486631016042781, 0.7459893048128342, 0.7459893048128342, 0.7433155080213903, 0.7406417112299465, 0.7379679144385026, 0.7352941176470589, 0.7352941176470589, 0.732620320855615, 0.732620320855615, 0.7272727272727273, 0.7245989304812834, 0.7245989304812834, 0.7245989304812834, 0.7245989304812834, 0.7245989304812834, 0.7192513368983957, 0.7165775401069518, 0.7165775401069518, 0.7165775401069518, 0.7165775401069518, 0.7165775401069518, 0.7165775401069518, 0.7165775401069518, 0.7165775401069518, 0.7112299465240641, 0.7085561497326203, 0.7085561497326203, 0.7058823529411765, 0.7032085561497327, 0.7032085561497327, 0.7032085561497327, 0.7005347593582888, 0.7005347593582888, 0.7005347593582888, 0.7005347593582888, 0.7005347593582888, 0.7005347593582888, 0.6978609625668449, 0.6978609625668449, 0.6978609625668449, 0.6951871657754011, 0.6951871657754011, 0.6925133689839572, 0.6898395721925134, 0.6871657754010695, 0.6871657754010695, 0.6844919786096256, 0.6818181818181818, 0.679144385026738, 0.679144385026738, 0.679144385026738, 0.679144385026738, 0.679144385026738, 0.679144385026738, 0.6764705882352942, 0.6764705882352942, 0.6764705882352942, 0.6711229946524064, 0.6711229946524064, 0.6711229946524064, 0.6684491978609626, 0.6684491978609626, 0.6657754010695187, 0.6631016042780749, 0.660427807486631, 0.660427807486631, 0.6577540106951871, 0.6550802139037433, 0.6550802139037433, 0.6550802139037433, 0.6550802139037433, 0.6550802139037433, 0.6550802139037433, 0.6550802139037433, 0.6524064171122995, 0.6524064171122995, 0.6524064171122995, 0.6524064171122995, 0.6524064171122995, 0.6497326203208557, 0.6497326203208557, 0.6470588235294118, 0.6470588235294118, 0.6443850267379679, 0.6417112299465241, 0.6390374331550802, 0.6363636363636364, 0.6363636363636364, 0.6363636363636364, 0.6363636363636364, 0.6336898395721925, 0.6336898395721925, 0.6336898395721925, 0.6336898395721925, 0.6310160427807486, 0.6310160427807486, 0.6283422459893048, 0.6256684491978609, 0.6256684491978609, 0.6256684491978609, 0.6256684491978609, 0.6256684491978609, 0.6229946524064172, 0.6229946524064172, 0.6203208556149733, 0.6176470588235294, 0.6149732620320856, 0.6149732620320856, 0.6122994652406417, 0.6096256684491979, 0.606951871657754, 0.606951871657754, 0.6042780748663101, 0.6016042780748663, 0.6016042780748663, 0.5989304812834224, 0.5989304812834224, 0.5989304812834224, 0.5989304812834224, 0.5962566844919787, 0.5962566844919787, 0.5935828877005348, 0.5935828877005348, 0.5935828877005348, 0.5935828877005348, 0.5935828877005348, 0.5935828877005348, 0.5882352941176471, 0.5855614973262032, 0.5855614973262032, 0.5828877005347594, 0.5802139037433155, 0.5775401069518716, 0.5748663101604278, 0.5721925133689839, 0.5721925133689839, 0.5721925133689839, 0.56951871657754, 0.56951871657754, 0.56951871657754, 0.5668449197860963, 0.5641711229946524, 0.5641711229946524, 0.5614973262032086, 0.5588235294117647, 0.5588235294117647, 0.5561497326203209, 0.553475935828877, 0.553475935828877, 0.5508021390374331, 0.5508021390374331, 0.5481283422459893, 0.5454545454545454, 0.5454545454545454, 0.5454545454545454, 0.5454545454545454, 0.5454545454545454, 0.5427807486631016, 0.5401069518716578, 0.5401069518716578, 0.5401069518716578, 0.5374331550802139, 0.5347593582887701, 0.5294117647058824, 0.5294117647058824, 0.5267379679144385, 0.5267379679144385, 0.5267379679144385, 0.5267379679144385, 0.5267379679144385, 0.5267379679144385, 0.5267379679144385, 0.5240641711229946, 0.5240641711229946, 0.5240641711229946, 0.5213903743315508, 0.5187165775401069, 0.516042780748663, 0.5133689839572193, 0.5106951871657754, 0.5106951871657754, 0.5080213903743316, 0.5053475935828877, 0.5053475935828877, 0.5026737967914439, 0.5026737967914439, 0.5, 0.5, 0.49732620320855614, 0.49732620320855614, 0.4946524064171123, 0.4919786096256685, 0.4893048128342246, 0.48663101604278075, 0.48663101604278075, 0.4839572192513369, 0.4839572192513369, 0.4839572192513369, 0.48128342245989303, 0.4786096256684492, 0.47593582887700536, 0.47593582887700536, 0.4732620320855615, 0.4679144385026738, 0.45989304812834225, 0.45187165775401067, 0.45187165775401067, 0.45187165775401067, 0.45187165775401067, 0.45187165775401067, 0.44919786096256686, 0.44919786096256686, 0.44919786096256686, 0.446524064171123, 0.44385026737967914, 0.44385026737967914, 0.44385026737967914, 0.4411764705882353, 0.4411764705882353, 0.4411764705882353, 0.4411764705882353, 0.4385026737967914, 0.4385026737967914, 0.4385026737967914, 0.4358288770053476, 0.43315508021390375, 0.43315508021390375, 0.4304812834224599, 0.4304812834224599, 0.4304812834224599, 0.4304812834224599, 0.4304812834224599, 0.42780748663101603, 0.42780748663101603, 0.42780748663101603, 0.42513368983957217, 0.42245989304812837, 0.4197860962566845, 0.4197860962566845, 0.41711229946524064, 0.4117647058823529, 0.4090909090909091, 0.4090909090909091, 0.4090909090909091, 0.40641711229946526, 0.40641711229946526, 0.4037433155080214, 0.4037433155080214, 0.40106951871657753, 0.40106951871657753, 0.40106951871657753, 0.40106951871657753, 0.3983957219251337, 0.39572192513368987, 0.393048128342246, 0.393048128342246, 0.39037433155080214, 0.3877005347593583, 0.3850267379679144, 0.38235294117647056, 0.37967914438502676, 0.37967914438502676, 0.37433155080213903, 0.3716577540106952, 0.3716577540106952, 0.36363636363636365, 0.36363636363636365, 0.36363636363636365, 0.36363636363636365, 0.3609625668449198, 0.3582887700534759, 0.35561497326203206, 0.35561497326203206, 0.35294117647058826, 0.3502673796791444, 0.34759358288770054, 0.34759358288770054, 0.3449197860962567, 0.3449197860962567, 0.3422459893048128, 0.339572192513369, 0.339572192513369, 0.339572192513369, 0.33689839572192515, 0.3342245989304813, 0.3342245989304813, 0.3315508021390374, 0.32887700534759357, 0.32620320855614976, 0.32620320855614976, 0.32620320855614976, 0.32620320855614976, 0.3235294117647059, 0.32085561497326204, 0.3181818181818182, 0.3181818181818182, 0.3155080213903743, 0.3155080213903743, 0.31283422459893045, 0.3074866310160428, 0.3048128342245989, 0.30213903743315507, 0.30213903743315507, 0.2994652406417112, 0.2967914438502674, 0.29411764705882354, 0.29411764705882354, 0.2914438502673797, 0.2887700534759358, 0.28609625668449196, 0.28609625668449196, 0.28342245989304815, 0.2807486631016043, 0.2807486631016043, 0.27807486631016043, 0.27807486631016043, 0.27540106951871657, 0.2727272727272727, 0.2727272727272727, 0.2727272727272727, 0.2700534759358289, 0.2647058823529412, 0.2620320855614973, 0.25668449197860965, 0.25668449197860965, 0.25668449197860965, 0.2540106951871658, 0.25133689839572193, 0.24866310160427807, 0.24866310160427807, 0.24866310160427807, 0.24866310160427807, 0.24866310160427807, 0.24331550802139038, 0.24331550802139038, 0.24331550802139038, 0.24064171122994651, 0.24064171122994651, 0.24064171122994651, 0.23796791443850268, 0.23529411764705882, 0.23529411764705882, 0.23529411764705882, 0.23529411764705882, 0.232620320855615, 0.22994652406417113, 0.22727272727272727, 0.22459893048128343, 0.22192513368983957, 0.22192513368983957, 0.22192513368983957, 0.22192513368983957, 0.2192513368983957, 0.21657754010695188, 0.21122994652406418, 0.20588235294117646, 0.20588235294117646, 0.20320855614973263, 0.20320855614973263, 0.20053475935828877, 0.19518716577540107, 0.1925133689839572, 0.18983957219251338, 0.18716577540106952, 0.18716577540106952, 0.18716577540106952, 0.18449197860962566, 0.18181818181818182, 0.17914438502673796, 0.17914438502673796, 0.17647058823529413, 0.17379679144385027, 0.17379679144385027, 0.17379679144385027, 0.1711229946524064, 0.16844919786096257, 0.1657754010695187, 0.16310160427807488, 0.15775401069518716, 0.15508021390374332, 0.15240641711229946, 0.1443850267379679, 0.14171122994652408, 0.13903743315508021, 0.13636363636363635, 0.13636363636363635, 0.13368983957219252, 0.12834224598930483, 0.12566844919786097, 0.12299465240641712, 0.12032085561497326, 0.11764705882352941, 0.11497326203208556, 0.10695187165775401, 0.10427807486631016, 0.10160427807486631, 0.09893048128342247, 0.0962566844919786, 0.09358288770053476, 0.09090909090909091, 0.08823529411764706, 0.0855614973262032, 0.08288770053475936, 0.08021390374331551, 0.08021390374331551, 0.0748663101604278, 0.07219251336898395, 0.06951871657754011, 0.06684491978609626, 0.06417112299465241, 0.06149732620320856, 0.053475935828877004, 0.053475935828877004, 0.053475935828877004, 0.040106951871657755, 0.0374331550802139, 0.034759358288770054, 0.03208556149732621, 0.029411764705882353, 0.026737967914438502, 0.02406417112299465, 0.0213903743315508, 0.01871657754010695, 0.013368983957219251, 0.0106951871657754, 0.0106951871657754, 0.0053475935828877, 0.0], \"y\": [0.27827380952380953, 0.2783582089552239, 0.27856609410007466, 0.2787742899850523, 0.27898279730740466, 0.2791916167664671, 0.2798199549887472, 0.28003003003003, 0.2802404207362885, 0.2804511278195489, 0.28108515448379806, 0.2812971342383107, 0.28150943396226413, 0.28172205438066467, 0.2819349962207105, 0.2821482602118003, 0.28236184708554124, 0.2825757575757576, 0.28278999241849884, 0.2830045523520486, 0.2832194381169324, 0.28365019011406845, 0.2838660578386606, 0.2840822543792841, 0.28473282442748094, 0.2849503437738732, 0.28538638102524866, 0.285823754789272, 0.2860429447852761, 0.28626247122026094, 0.28670253651037664, 0.28692307692307695, 0.28714395688991534, 0.28736517719568566, 0.28758673862760215, 0.28780864197530864, 0.2882534775888717, 0.288476411446249, 0.28914728682170543, 0.28937160589604344, 0.28959627329192544, 0.29049844236760125, 0.29140625, 0.29163408913213446, 0.2918622848200313, 0.2920908379013312, 0.29277864992150704, 0.29300864100549884, 0.29323899371069184, 0.2934697088906373, 0.2937007874015748, 0.29393223010244285, 0.2941640378548896, 0.2943962115232833, 0.29462875197472355, 0.2948616600790514, 0.2950949367088608, 0.2953285827395091, 0.29556259904912835, 0.295796986518636, 0.2962668784749801, 0.29650238473767887, 0.2967382657120127, 0.29697452229299365, 0.2974481658692185, 0.29768555466879487, 0.2979233226837061, 0.2984, 0.2986389111289031, 0.2988782051282051, 0.2991178829190056, 0.29983922829581994, 0.3000804505229284, 0.3005640612409347, 0.3008064516129032, 0.30104923325262306, 0.30129240710823907, 0.301535974130962, 0.30226904376012964, 0.30251419302514193, 0.3027597402597403, 0.30300568643379366, 0.3032520325203252, 0.30349877949552484, 0.30399348003259985, 0.30424143556280586, 0.30448979591836733, 0.3047385620915033, 0.30498773507767785, 0.30523731587561376, 0.30548730548730546, 0.30573770491803276, 0.3059885151763741, 0.3064913722267872, 0.3067434210526316, 0.3069958847736626, 0.30724876441515653, 0.3075020610057708, 0.30775577557755773, 0.30800990916597853, 0.3082644628099174, 0.30851943755169564, 0.3087748344370861, 0.3092868988391376, 0.3095435684647303, 0.30980066445182725, 0.3100581878636742, 0.3103161397670549, 0.311092577147623, 0.3116123642439432, 0.31187290969899667, 0.31213389121338914, 0.31239530988274705, 0.3126571668063705, 0.31291946308724833, 0.3131821998320739, 0.3134453781512605, 0.3137089991589571, 0.3142375737152485, 0.3145025295109612, 0.31476793248945145, 0.31503378378378377, 0.31583403895004236, 0.31610169491525425, 0.31636980491942324, 0.3166383701188455, 0.3169073916737468, 0.3171768707482993, 0.3174468085106383, 0.31771720613287907, 0.31798806479113384, 0.318259385665529, 0.318531169940222, 0.3188034188034188, 0.31907613344739094, 0.3193493150684932, 0.3196229648671808, 0.3201716738197425, 0.32044673539518903, 0.3207222699914015, 0.32099827882960413, 0.32127476313522824, 0.32155172413793104, 0.32182916307161347, 0.3221070811744387, 0.32238547968885045, 0.3226643598615917, 0.3229437229437229, 0.32322357019064124, 0.32350390286209885, 0.3237847222222222, 0.32406602953953084, 0.3243478260869565, 0.32463011314186246, 0.3249128919860627, 0.32519616390584133, 0.3254799301919721, 0.325764192139738, 0.32604895104895104, 0.326334208223972, 0.3266199649737303, 0.32690622261174407, 0.32719298245614037, 0.32748024582967517, 0.3280562884784521, 0.3283450704225352, 0.32863436123348017, 0.3289241622574956, 0.3292144748455428, 0.3295053003533569, 0.3297966401414677, 0.33008849557522124, 0.3303808680248007, 0.33067375886524825, 0.33096716947648624, 0.33126110124333924, 0.33155555555555555, 0.3318505338078292, 0.3321460373998219, 0.3324420677361854, 0.3327386262265834, 0.33214285714285713, 0.3324396782841823, 0.333034914950761, 0.3333333333333333, 0.33363228699551567, 0.3339317773788151, 0.33423180592991913, 0.3345323741007194, 0.33483348334833485, 0.33513513513513515, 0.33543733092876465, 0.33574007220216606, 0.33604336043360433, 0.33634719710669075, 0.33665158371040727, 0.33695652173913043, 0.3372620126926564, 0.33756805807622503, 0.33787465940054495, 0.3381818181818182, 0.33848953594176523, 0.33879781420765026, 0.3391066545123063, 0.33941605839416056, 0.33972602739726027, 0.340036563071298, 0.3403476669716377, 0.34065934065934067, 0.34097158570119157, 0.3412844036697248, 0.3415977961432507, 0.34191176470588236, 0.3422263109475621, 0.3425414364640884, 0.34285714285714286, 0.34317343173431736, 0.34349030470914127, 0.3438077634011091, 0.3441258094357077, 0.34444444444444444, 0.3438368860055607, 0.34415584415584416, 0.3447955390334573, 0.34511627906976744, 0.34543761638733705, 0.3448275862068966, 0.3451492537313433, 0.34547152194211017, 0.34579439252336447, 0.3464419475655431, 0.3467666354264292, 0.34709193245778613, 0.3474178403755869, 0.34774436090225563, 0.34807149576669805, 0.3483992467043315, 0.34872761545711595, 0.3490566037735849, 0.3497164461247637, 0.3500473036896878, 0.3503787878787879, 0.35071090047393366, 0.3510436432637571, 0.3513770180436847, 0.3517110266159696, 0.3520456707897241, 0.3523809523809524, 0.35271687321258344, 0.3530534351145038, 0.3533906399235912, 0.35372848948374763, 0.35406698564593303, 0.3544061302681992, 0.3547459252157239, 0.3550863723608445, 0.3554274735830932, 0.3557692307692308, 0.35611164581328203, 0.35645472061657035, 0.35679845708775315, 0.35714285714285715, 0.357487922705314, 0.3578336557059961, 0.35818005808325265, 0.35852713178294576, 0.3588748787584869, 0.3592233009708738, 0.3595724003887269, 0.35992217898832685, 0.3602726387536514, 0.35964912280701755, 0.36, 0.3603515625, 0.36070381231671556, 0.3610567514677104, 0.3614103819784525, 0.3607843137254902, 0.36113837095191365, 0.3614931237721022, 0.36184857423795475, 0.36220472440944884, 0.3625615763546798, 0.3629191321499014, 0.36327739387956565, 0.36363636363636365, 0.3639960435212661, 0.3647175421209118, 0.365441906653426, 0.3648111332007952, 0.36517412935323385, 0.3655378486055777, 0.3659022931206381, 0.3662674650698603, 0.36663336663336665, 0.367, 0.36736736736736736, 0.36773547094188375, 0.36810431293881646, 0.3684738955823293, 0.3688442211055276, 0.369215291750503, 0.36958710976837866, 0.3699596774193548, 0.3703329969727548, 0.3707070707070707, 0.3710819009100101, 0.3714574898785425, 0.3718338399189463, 0.3725888324873096, 0.37296747967479676, 0.3733468972533062, 0.37372708757637474, 0.37410805300713557, 0.37448979591836734, 0.3748723186925434, 0.37525562372188137, 0.37563971340839303, 0.3760245901639344, 0.3764102564102564, 0.37679671457905545, 0.3771839671120247, 0.3775720164609053, 0.3779608650875386, 0.3783505154639175, 0.37874097007223945, 0.378099173553719, 0.3784901758014478, 0.37888198757763975, 0.37927461139896373, 0.3796680497925311, 0.38006230529595014, 0.3804573804573805, 0.3808532778355879, 0.38125, 0.3816475495307612, 0.38204592901878914, 0.3824451410658307, 0.38284518828451886, 0.3832460732984293, 0.3836477987421384, 0.38405036726128017, 0.38445378151260506, 0.38485804416403785, 0.38526315789473686, 0.3856691253951528, 0.3850210970464135, 0.38542766631467795, 0.3858350951374207, 0.3862433862433862, 0.3866525423728814, 0.3870625662778367, 0.3874734607218684, 0.38788522848034007, 0.3882978723404255, 0.3887113951011715, 0.38912579957356075, 0.3895410885805763, 0.38995726495726496, 0.39037433155080214, 0.39079229122055675, 0.3912111468381565, 0.3916309012875536, 0.3920515574650913, 0.3913978494623656, 0.39181916038751347, 0.3922413793103448, 0.3926645091693635, 0.3930885529157667, 0.3935135135135135, 0.3939393939393939, 0.39436619718309857, 0.3947939262472885, 0.3941368078175896, 0.39456521739130435, 0.39499455930359084, 0.3954248366013072, 0.39585605234460197, 0.3962882096069869, 0.39672131147540984, 0.3971553610503282, 0.39759036144578314, 0.3980263157894737, 0.39846322722283206, 0.3978021978021978, 0.39823982398239827, 0.3986784140969163, 0.39911797133406834, 0.3995584988962472, 0.4, 0.4004424778761062, 0.3997785160575858, 0.3991130820399113, 0.3995560488346282, 0.4, 0.40044493882091214, 0.40089086859688194, 0.4013377926421405, 0.40066964285714285, 0.4011173184357542, 0.4015659955257271, 0.40201567749160133, 0.4024663677130045, 0.40291806958473625, 0.40337078651685393, 0.40382452193475815, 0.40427927927927926, 0.4047350620067644, 0.4051918735891648, 0.4061085972850679, 0.40656851642129105, 0.4070294784580499, 0.40749148694665155, 0.40795454545454546, 0.40841865756541523, 0.40888382687927105, 0.40935005701254273, 0.4098173515981735, 0.4102857142857143, 0.4107551487414188, 0.41122565864833904, 0.411697247706422, 0.4121699196326062, 0.4126436781609195, 0.4131185270425777, 0.41359447004608296, 0.4140715109573241, 0.4138728323699422, 0.41435185185185186, 0.4148319814600232, 0.41531322505800466, 0.41579558652729387, 0.41627906976744183, 0.4167636786961583, 0.4172494172494173, 0.4177362893815636, 0.4182242990654206, 0.41871345029239765, 0.41920374707259955, 0.4196951934349355, 0.42018779342723006, 0.4206815511163337, 0.42, 0.4204946996466431, 0.4209905660377358, 0.4214876033057851, 0.4219858156028369, 0.42248520710059173, 0.42298578199052134, 0.4223013048635824, 0.42280285035629456, 0.4233055885850178, 0.4238095238095238, 0.42431466030989273, 0.42482100238663484, 0.4253285543608124, 0.4258373205741627, 0.42634730538922155, 0.42685851318944845, 0.42737094837935174, 0.4266826923076923, 0.42719614921780985, 0.42650602409638555, 0.4270205066344994, 0.427536231884058, 0.4280532043530834, 0.42736077481840196, 0.4266666666666667, 0.42718446601941745, 0.42770352369380316, 0.4282238442822384, 0.4287454323995128, 0.4292682926829268, 0.4297924297924298, 0.43031784841075793, 0.43084455324357407, 0.43137254901960786, 0.43190184049079755, 0.43243243243243246, 0.43296432964329645, 0.43226600985221675, 0.43279901356350187, 0.43209876543209874, 0.4326328800988875, 0.4319306930693069, 0.43246592317224286, 0.43300248138957814, 0.4335403726708075, 0.43407960199004975, 0.43462017434620176, 0.43516209476309226, 0.43570536828963796, 0.43625, 0.43679599499374216, 0.43734335839599, 0.437892095357591, 0.43844221105527637, 0.4389937106918239, 0.43954659949622166, 0.4401008827238335, 0.44065656565656564, 0.44121365360303416, 0.4417721518987342, 0.44106463878326996, 0.4403553299492386, 0.43964421855146124, 0.4402035623409669, 0.4407643312101911, 0.4413265306122449, 0.44189016602809705, 0.4424552429667519, 0.44174135723431496, 0.4423076923076923, 0.4428754813863928, 0.4434447300771208, 0.444015444015444, 0.44458762886597936, 0.44516129032258067, 0.44573643410852715, 0.4463130659767141, 0.44689119170984454, 0.4474708171206226, 0.44805194805194803, 0.4486345903771131, 0.44921875, 0.4498044328552803, 0.45039164490861616, 0.45098039215686275, 0.45157068062827227, 0.4508519003931848, 0.45144356955380577, 0.4520367936925099, 0.45263157894736844, 0.45322793148880103, 0.45382585751978893, 0.45310435931307796, 0.4537037037037037, 0.4543046357615894, 0.45490716180371354, 0.4555112881806109, 0.45478723404255317, 0.45539280958721706, 0.456, 0.45660881174899864, 0.4578313253012048, 0.4584450402144772, 0.4590604026845638, 0.4583333333333333, 0.458950201884253, 0.45956873315363883, 0.45883940620782726, 0.4594594594594595, 0.46008119079837617, 0.46070460704607047, 0.46132971506105835, 0.46195652173913043, 0.46258503401360546, 0.46321525885558584, 0.4638472032742155, 0.4644808743169399, 0.46511627906976744, 0.4643835616438356, 0.465564738292011, 0.46620689655172415, 0.46685082872928174, 0.46749654218533887, 0.46814404432132967, 0.46879334257975036, 0.46944444444444444, 0.46870653685674546, 0.46935933147632314, 0.4700139470013947, 0.47067039106145253, 0.47132867132867134, 0.47198879551820727, 0.4726507713884993, 0.47331460674157305, 0.4739803094233474, 0.47464788732394364, 0.47531734837799716, 0.4759887005649718, 0.4766619519094767, 0.4773371104815864, 0.47801418439716314, 0.4772727272727273, 0.47652916073968704, 0.4772079772079772, 0.47788873038516405, 0.4785714285714286, 0.4792560801144492, 0.4799426934097421, 0.4806312769010043, 0.4813218390804598, 0.48201438848920863, 0.48265895953757226, 0.4833574529667149, 0.4826086956521739, 0.4818577648766328, 0.48255813953488375, 0.48180494905385735, 0.48104956268221577, 0.48175182481751827, 0.4824561403508772, 0.48316251830161056, 0.4838709677419355, 0.4845814977973568, 0.4852941176470588, 0.48600883652430044, 0.48672566371681414, 0.4859675036927622, 0.48520710059171596, 0.48444444444444446, 0.48516320474777447, 0.48588410104011887, 0.48660714285714285, 0.4873323397913562, 0.48656716417910445, 0.4872944693572496, 0.4880239520958084, 0.48875562218890556, 0.4894894894894895, 0.49022556390977445, 0.49096385542168675, 0.4917043740573152, 0.49244712990936557, 0.49319213313161875, 0.49393939393939396, 0.4946889226100152, 0.49544072948328266, 0.4969512195121951, 0.49770992366412214, 0.4984709480122324, 0.49770290964777947, 0.49846625766871167, 0.49923195084485406, 0.49846153846153846, 0.49768875192604006, 0.4984567901234568, 0.4992272024729521, 0.5007751937984496, 0.5015527950310559, 0.5023328149300156, 0.5031152647975078, 0.5039001560062403, 0.503125, 0.5023474178403756, 0.5015673981191222, 0.5023547880690737, 0.5031446540880503, 0.5023622047244094, 0.5031545741324921, 0.5023696682464455, 0.5031645569620253, 0.5039619651347068, 0.5047619047619047, 0.505564387917329, 0.5063694267515924, 0.507177033492823, 0.5088, 0.5096153846153846, 0.5096463022508039, 0.5104669887278583, 0.5112903225806451, 0.5105008077544426, 0.511326860841424, 0.5105348460291734, 0.5113636363636364, 0.510569105691057, 0.511400651465798, 0.5122349102773246, 0.5130718954248366, 0.513911620294599, 0.5147540983606558, 0.5155993431855501, 0.5164473684210527, 0.5172981878088962, 0.5181518151815182, 0.5173553719008265, 0.5182119205298014, 0.5190713101160862, 0.5182724252491694, 0.519134775374376, 0.5183333333333333, 0.5191986644407346, 0.5183946488294314, 0.5192629815745393, 0.5184563758389261, 0.519327731092437, 0.5202020202020202, 0.5193929173693086, 0.5202702702702703, 0.5194585448392555, 0.5186440677966102, 0.5195246179966044, 0.5187074829931972, 0.5204778156996587, 0.5213675213675214, 0.5205479452054794, 0.5197255574614065, 0.520618556701031, 0.5215146299483648, 0.5224137931034483, 0.5224913494809689, 0.5216637781629117, 0.5208333333333334, 0.5217391304347826, 0.5226480836236934, 0.5235602094240838, 0.5227272727272727, 0.5236427320490368, 0.5228070175438596, 0.523725834797891, 0.5246478873239436, 0.5238095238095238, 0.5247349823321554, 0.5256637168141592, 0.526595744680851, 0.5257548845470693, 0.5266903914590747, 0.5258467023172906, 0.525, 0.5259391771019678, 0.5268817204301075, 0.5278276481149012, 0.5287769784172662, 0.527927927927928, 0.5270758122743683, 0.5262206148282098, 0.5271739130434783, 0.5281306715063521, 0.5290909090909091, 0.5300546448087432, 0.5291970802919708, 0.5301645338208409, 0.5311355311355311, 0.5321100917431193, 0.5330882352941176, 0.5322283609576427, 0.533210332103321, 0.532347504621072, 0.5333333333333333, 0.5343228200371057, 0.5353159851301115, 0.5363128491620112, 0.5373134328358209, 0.5383177570093458, 0.5393258426966292, 0.5403377110694184, 0.5413533834586466, 0.5423728813559322, 0.5433962264150943, 0.5444234404536862, 0.5435606060606061, 0.5445920303605313, 0.5456273764258555, 0.5466666666666666, 0.5477099236641222, 0.5487571701720841, 0.5508637236084453, 0.55, 0.5510597302504817, 0.5521235521235521, 0.5531914893617021, 0.5542635658914729, 0.5533980582524272, 0.5544747081712063, 0.5555555555555556, 0.556640625, 0.5557729941291585, 0.5568627450980392, 0.5579567779960707, 0.5590551181102362, 0.5581854043392505, 0.5592885375494071, 0.5584158415841585, 0.5595238095238095, 0.5606361829025845, 0.5617529880478087, 0.5608782435129741, 0.56, 0.5591182364729459, 0.5602409638554217, 0.5593561368209256, 0.5584677419354839, 0.5575757575757576, 0.5566801619433198, 0.5578093306288032, 0.5580448065173116, 0.5591836734693878, 0.5573770491803278, 0.5564681724845996, 0.5576131687242798, 0.5587628865979382, 0.5599173553719008, 0.5610766045548654, 0.5592515592515592, 0.5583333333333333, 0.5594989561586639, 0.5606694560669456, 0.5618448637316562, 0.5630252100840336, 0.5642105263157895, 0.5654008438818565, 0.5665961945031712, 0.564755838641189, 0.5638297872340425, 0.5650319829424307, 0.5641025641025641, 0.5643776824034334, 0.5655913978494623, 0.5668103448275862, 0.5658747300215983, 0.5670995670995671, 0.5683297180043384, 0.5695652173913044, 0.5708061002178649, 0.5720524017467249, 0.5711159737417943, 0.5723684210526315, 0.5736263736263736, 0.5726872246696035, 0.5739514348785872, 0.5730088495575221, 0.5720620842572062, 0.5711111111111111, 0.5723830734966593, 0.5714285714285714, 0.5704697986577181, 0.5695067264573991, 0.5707865168539326, 0.5720720720720721, 0.5733634311512416, 0.5746606334841629, 0.5759637188208617, 0.575, 0.5763097949886105, 0.5776255707762558, 0.5756880733944955, 0.5770114942528736, 0.5783410138248848, 0.5773672055427251, 0.5787037037037037, 0.5777262180974478, 0.5767441860465117, 0.5757575757575758, 0.5771028037383178, 0.5761124121779859, 0.5751173708920188, 0.5764705882352941, 0.5778301886792453, 0.5791962174940898, 0.580568720379147, 0.5819477434679335, 0.5833333333333334, 0.5823389021479713, 0.583732057416268, 0.5851318944844125, 0.5865384615384616, 0.5879518072289157, 0.5869565217391305, 0.5883777239709443, 0.587378640776699, 0.5888077858880778, 0.5878048780487805, 0.5882352941176471, 0.5872235872235873, 0.5862068965517241, 0.5876543209876544, 0.5891089108910891, 0.5905707196029777, 0.5895522388059702, 0.5910224438902744, 0.5925, 0.5939849624060151, 0.592964824120603, 0.5944584382871536, 0.5934343434343434, 0.5924050632911393, 0.5939086294416244, 0.5954198473282443, 0.5969387755102041, 0.59846547314578, 0.5974358974358974, 0.5989717223650386, 0.5979381443298969, 0.5968992248062015, 0.5958549222797928, 0.5989583333333334, 0.597911227154047, 0.5968586387434555, 0.5958005249343832, 0.5973684210526315, 0.5963060686015831, 0.5952380952380952, 0.596816976127321, 0.5957446808510638, 0.5973333333333334, 0.5989304812834224, 0.6005361930294906, 0.5994623655913979, 0.6027027027027027, 0.6016260162601627, 0.6065573770491803, 0.6082191780821918, 0.6098901098901099, 0.6115702479338843, 0.6132596685082873, 0.6111111111111112, 0.6100278551532033, 0.611731843575419, 0.6106442577030813, 0.6095505617977528, 0.6084507042253521, 0.6073446327683616, 0.6062322946175638, 0.6079545454545454, 0.6096866096866097, 0.6085714285714285, 0.6103151862464183, 0.6120689655172413, 0.6109510086455331, 0.6098265895953757, 0.6115942028985507, 0.6104651162790697, 0.60932944606414, 0.6111111111111112, 0.6099706744868035, 0.6088235294117647, 0.6106194690265486, 0.6094674556213018, 0.6112759643916914, 0.6101190476190477, 0.6107784431137725, 0.6126126126126126, 0.6144578313253012, 0.6163141993957704, 0.6181818181818182, 0.6170212765957447, 0.6158536585365854, 0.617737003058104, 0.6215384615384615, 0.6203703703703703, 0.6191950464396285, 0.61875, 0.6206896551724138, 0.6194968553459119, 0.6214511041009464, 0.6234177215189873, 0.6253968253968254, 0.6273885350318471, 0.6293929712460063, 0.6314102564102564, 0.6302250803858521, 0.632258064516129, 0.6343042071197411, 0.6331168831168831, 0.6339869281045751, 0.6327868852459017, 0.631578947368421, 0.6303630363036303, 0.6324503311258278, 0.6312292358803987, 0.63, 0.6321070234113713, 0.6308724832214765, 0.632996632996633, 0.6317567567567568, 0.6338983050847458, 0.6326530612244898, 0.6348122866894198, 0.6335616438356164, 0.6323024054982818, 0.6310344827586207, 0.6319444444444444, 0.6341463414634146, 0.6328671328671329, 0.6350877192982456, 0.6373239436619719, 0.6360424028268551, 0.6347517730496454, 0.6334519572953736, 0.6357142857142857, 0.6344086021505376, 0.631768953068592, 0.6277372262773723, 0.6236162361623616, 0.6259259259259259, 0.6282527881040892, 0.6305970149253731, 0.6329588014981273, 0.631578947368421, 0.6339622641509434, 0.6363636363636364, 0.6349809885931559, 0.6335877862595419, 0.6360153256704981, 0.6384615384615384, 0.637065637065637, 0.6395348837209303, 0.642023346303502, 0.64453125, 0.6431372549019608, 0.6456692913385826, 0.6482213438735178, 0.6468253968253969, 0.6454183266932271, 0.648, 0.6465863453815262, 0.6491935483870968, 0.6518218623481782, 0.6544715447154471, 0.6571428571428571, 0.6557377049180327, 0.6584362139917695, 0.6611570247933884, 0.6597510373443983, 0.6583333333333333, 0.6652542372881356, 0.6680851063829787, 0.6666666666666666, 0.6637931034482759, 0.6623376623376623, 0.6652173913043479, 0.6681222707423581, 0.6666666666666666, 0.6696035242290749, 0.6711111111111111, 0.6741071428571429, 0.672645739910314, 0.6756756756756757, 0.6787330316742082, 0.6818181818181818, 0.680365296803653, 0.6788990825688074, 0.6774193548387096, 0.6805555555555556, 0.6790697674418604, 0.677570093457944, 0.676056338028169, 0.6745283018867925, 0.6729857819905213, 0.6794258373205742, 0.6796116504854369, 0.6813725490196079, 0.6847290640394089, 0.68, 0.6834170854271356, 0.6868686868686869, 0.6903553299492385, 0.6887755102040817, 0.6871794871794872, 0.6855670103092784, 0.689119170984456, 0.6875, 0.6858638743455497, 0.6842105263157895, 0.6878306878306878, 0.6861702127659575, 0.6898395721925134, 0.6881720430107527, 0.6902173913043478, 0.6939890710382514, 0.6978021978021978, 0.6961325966850829, 0.6944444444444444, 0.6983240223463687, 0.6966292134831461, 0.6988636363636364, 0.6971428571428572, 0.7011494252873564, 0.7052023121387283, 0.7093023255813954, 0.7076023391812866, 0.7058823529411765, 0.7041420118343196, 0.7083333333333334, 0.7065868263473054, 0.7108433734939759, 0.7090909090909091, 0.7098765432098766, 0.7080745341614907, 0.70625, 0.7151898734177216, 0.7133757961783439, 0.7115384615384616, 0.7096774193548387, 0.7142857142857143, 0.7124183006535948, 0.7105263157894737, 0.7086092715231788, 0.7133333333333334, 0.7114093959731543, 0.7094594594594594, 0.7142857142857143, 0.7123287671232876, 0.7172413793103448, 0.7152777777777778, 0.7132867132867133, 0.7183098591549296, 0.723404255319149, 0.7214285714285714, 0.717391304347826, 0.7153284671532847, 0.7111111111111111, 0.7164179104477612, 0.7218045112781954, 0.7196969696969697, 0.7175572519083969, 0.7265625, 0.7322834645669292, 0.7380952380952381, 0.75, 0.7560975609756098, 0.7520661157024794, 0.7583333333333333, 0.7647058823529411, 0.7627118644067796, 0.7758620689655172, 0.782608695652174, 0.7807017543859649, 0.7787610619469026, 0.7857142857142857, 0.7927927927927928, 0.8, 0.7981651376146789, 0.7962962962962963, 0.794392523364486, 0.7924528301886793, 0.7904761904761904, 0.7980769230769231, 0.8058252427184466, 0.8137254901960784, 0.8118811881188119, 0.81, 0.8061224489795918, 0.8105263157894737, 0.8191489361702128, 0.8172043010752689, 0.8260869565217391, 0.8241758241758241, 0.8295454545454546, 0.8275862068965517, 0.8255813953488372, 0.8235294117647058, 0.8333333333333334, 0.8536585365853658, 0.8518518518518519, 0.85, 0.8481012658227848, 0.8589743589743589, 0.8571428571428571, 0.8552631578947368, 0.8666666666666667, 0.8783783783783784, 0.8767123287671232, 0.875, 0.8732394366197183, 0.8714285714285714, 0.8805970149253731, 0.8787878787878788, 0.8769230769230769, 0.8709677419354839, 0.8688524590163934, 0.8666666666666667, 0.864406779661017, 0.8793103448275862, 0.8771929824561403, 0.8727272727272727, 0.8703703703703703, 0.8679245283018868, 0.8653846153846154, 0.8627450980392157, 0.86, 0.851063829787234, 0.8478260869565217, 0.8444444444444444, 0.8409090909090909, 0.8372093023255814, 0.8333333333333334, 0.8292682926829268, 0.8461538461538461, 0.8421052631578947, 0.8378378378378378, 0.8333333333333334, 0.8571428571428571, 0.8484848484848485, 0.84375, 0.8387096774193549, 0.8333333333333334, 0.8275862068965517, 0.8214285714285714, 0.8, 0.8333333333333334, 0.8695652173913043, 0.8823529411764706, 0.875, 0.8666666666666667, 0.8571428571428571, 0.8461538461538461, 0.8333333333333334, 0.8181818181818182, 0.8, 0.7777777777777778, 0.7142857142857143, 0.6666666666666666, 0.8, 1.0, 1.0]}, {\"mode\": \"lines\", \"name\": \"CAT\", \"type\": \"scatter\", \"x\": [1.0, 0.9973262032085561, 0.9973262032085561, 0.9973262032085561, 0.9973262032085561, 0.9973262032085561, 0.9973262032085561, 0.9973262032085561, 0.9973262032085561, 0.9973262032085561, 0.9973262032085561, 0.9973262032085561, 0.9973262032085561, 0.9973262032085561, 0.9973262032085561, 0.9973262032085561, 0.9973262032085561, 0.9973262032085561, 0.9973262032085561, 0.9973262032085561, 0.9973262032085561, 0.9973262032085561, 0.9973262032085561, 0.9973262032085561, 0.9973262032085561, 0.9973262032085561, 0.9973262032085561, 0.9946524064171123, 0.9919786096256684, 0.9919786096256684, 0.9919786096256684, 0.9919786096256684, 0.9919786096256684, 0.9919786096256684, 0.9919786096256684, 0.9919786096256684, 0.9919786096256684, 0.9919786096256684, 0.9919786096256684, 0.9919786096256684, 0.9919786096256684, 0.9919786096256684, 0.9919786096256684, 0.9919786096256684, 0.9919786096256684, 0.9919786096256684, 0.9919786096256684, 0.9919786096256684, 0.9919786096256684, 0.9919786096256684, 0.9919786096256684, 0.9919786096256684, 0.9919786096256684, 0.9919786096256684, 0.9919786096256684, 0.9919786096256684, 0.9919786096256684, 0.9919786096256684, 0.9919786096256684, 0.9919786096256684, 0.9919786096256684, 0.9919786096256684, 0.9919786096256684, 0.9919786096256684, 0.9919786096256684, 0.9919786096256684, 0.9919786096256684, 0.9919786096256684, 0.9919786096256684, 0.9919786096256684, 0.9919786096256684, 0.9919786096256684, 0.9919786096256684, 0.9919786096256684, 0.9919786096256684, 0.9919786096256684, 0.9919786096256684, 0.9919786096256684, 0.9919786096256684, 0.9919786096256684, 0.9919786096256684, 0.9919786096256684, 0.9919786096256684, 0.9919786096256684, 0.9919786096256684, 0.9919786096256684, 0.9919786096256684, 0.9919786096256684, 0.9919786096256684, 0.9919786096256684, 0.9919786096256684, 0.9919786096256684, 0.9919786096256684, 0.9919786096256684, 0.9919786096256684, 0.9919786096256684, 0.9919786096256684, 0.9919786096256684, 0.9919786096256684, 0.9919786096256684, 0.9919786096256684, 0.9919786096256684, 0.9919786096256684, 0.9919786096256684, 0.9919786096256684, 0.9919786096256684, 0.9919786096256684, 0.9919786096256684, 0.9919786096256684, 0.9919786096256684, 0.9919786096256684, 0.9919786096256684, 0.9919786096256684, 0.9919786096256684, 0.9919786096256684, 0.9919786096256684, 0.9919786096256684, 0.9919786096256684, 0.9919786096256684, 0.9919786096256684, 0.9919786096256684, 0.9919786096256684, 0.9919786096256684, 0.9919786096256684, 0.9919786096256684, 0.9919786096256684, 0.9919786096256684, 0.9919786096256684, 0.9919786096256684, 0.9919786096256684, 0.9919786096256684, 0.9919786096256684, 0.9919786096256684, 0.9919786096256684, 0.9919786096256684, 0.9919786096256684, 0.9919786096256684, 0.9919786096256684, 0.9919786096256684, 0.9919786096256684, 0.9919786096256684, 0.9919786096256684, 0.9919786096256684, 0.9919786096256684, 0.9919786096256684, 0.9919786096256684, 0.9919786096256684, 0.9919786096256684, 0.9919786096256684, 0.9919786096256684, 0.9919786096256684, 0.9919786096256684, 0.9919786096256684, 0.9919786096256684, 0.9919786096256684, 0.9919786096256684, 0.9919786096256684, 0.9919786096256684, 0.9919786096256684, 0.9919786096256684, 0.9919786096256684, 0.9919786096256684, 0.9919786096256684, 0.9919786096256684, 0.9919786096256684, 0.9919786096256684, 0.9893048128342246, 0.9893048128342246, 0.9893048128342246, 0.9893048128342246, 0.9893048128342246, 0.9893048128342246, 0.9893048128342246, 0.9893048128342246, 0.9866310160427807, 0.9866310160427807, 0.9866310160427807, 0.9866310160427807, 0.9866310160427807, 0.9866310160427807, 0.9866310160427807, 0.9866310160427807, 0.9866310160427807, 0.9866310160427807, 0.9866310160427807, 0.9866310160427807, 0.9866310160427807, 0.9866310160427807, 0.9866310160427807, 0.9866310160427807, 0.9866310160427807, 0.9866310160427807, 0.9866310160427807, 0.9866310160427807, 0.9866310160427807, 0.9866310160427807, 0.9866310160427807, 0.9866310160427807, 0.9866310160427807, 0.9866310160427807, 0.9866310160427807, 0.9866310160427807, 0.9866310160427807, 0.9866310160427807, 0.9866310160427807, 0.983957219251337, 0.983957219251337, 0.983957219251337, 0.983957219251337, 0.983957219251337, 0.9812834224598931, 0.9812834224598931, 0.9812834224598931, 0.9812834224598931, 0.9786096256684492, 0.9786096256684492, 0.9786096256684492, 0.9786096256684492, 0.9786096256684492, 0.9786096256684492, 0.9786096256684492, 0.9786096256684492, 0.9786096256684492, 0.9786096256684492, 0.9786096256684492, 0.9786096256684492, 0.9786096256684492, 0.9786096256684492, 0.9759358288770054, 0.9759358288770054, 0.9759358288770054, 0.9759358288770054, 0.9759358288770054, 0.9759358288770054, 0.9759358288770054, 0.9759358288770054, 0.9759358288770054, 0.9759358288770054, 0.9759358288770054, 0.9759358288770054, 0.9759358288770054, 0.9759358288770054, 0.9759358288770054, 0.9759358288770054, 0.9759358288770054, 0.9759358288770054, 0.9759358288770054, 0.9759358288770054, 0.9759358288770054, 0.9732620320855615, 0.9732620320855615, 0.9732620320855615, 0.9705882352941176, 0.9705882352941176, 0.9705882352941176, 0.9705882352941176, 0.9705882352941176, 0.9705882352941176, 0.9705882352941176, 0.9705882352941176, 0.9705882352941176, 0.9705882352941176, 0.9705882352941176, 0.9705882352941176, 0.9705882352941176, 0.9705882352941176, 0.9705882352941176, 0.9705882352941176, 0.9705882352941176, 0.9705882352941176, 0.9705882352941176, 0.9705882352941176, 0.9705882352941176, 0.9705882352941176, 0.9705882352941176, 0.9705882352941176, 0.9705882352941176, 0.9705882352941176, 0.9705882352941176, 0.9705882352941176, 0.9705882352941176, 0.9705882352941176, 0.9705882352941176, 0.9705882352941176, 0.9705882352941176, 0.9705882352941176, 0.9705882352941176, 0.9705882352941176, 0.9705882352941176, 0.9705882352941176, 0.9705882352941176, 0.9705882352941176, 0.9705882352941176, 0.9705882352941176, 0.9705882352941176, 0.9705882352941176, 0.9705882352941176, 0.9705882352941176, 0.9705882352941176, 0.9705882352941176, 0.9705882352941176, 0.9705882352941176, 0.9705882352941176, 0.9679144385026738, 0.9679144385026738, 0.9679144385026738, 0.9679144385026738, 0.9652406417112299, 0.9652406417112299, 0.9652406417112299, 0.9652406417112299, 0.9652406417112299, 0.9652406417112299, 0.9652406417112299, 0.9652406417112299, 0.9652406417112299, 0.9652406417112299, 0.9652406417112299, 0.9652406417112299, 0.9652406417112299, 0.9652406417112299, 0.9652406417112299, 0.9652406417112299, 0.9652406417112299, 0.9652406417112299, 0.9652406417112299, 0.9652406417112299, 0.9652406417112299, 0.9652406417112299, 0.9652406417112299, 0.9652406417112299, 0.9652406417112299, 0.9625668449197861, 0.9625668449197861, 0.9625668449197861, 0.9598930481283422, 0.9598930481283422, 0.9598930481283422, 0.9598930481283422, 0.9598930481283422, 0.9598930481283422, 0.9598930481283422, 0.9598930481283422, 0.9598930481283422, 0.9598930481283422, 0.9598930481283422, 0.9598930481283422, 0.9598930481283422, 0.9598930481283422, 0.9598930481283422, 0.9598930481283422, 0.9572192513368984, 0.9572192513368984, 0.9572192513368984, 0.9572192513368984, 0.9572192513368984, 0.9572192513368984, 0.9572192513368984, 0.9572192513368984, 0.9572192513368984, 0.9572192513368984, 0.9572192513368984, 0.9572192513368984, 0.9572192513368984, 0.9572192513368984, 0.9572192513368984, 0.9572192513368984, 0.9572192513368984, 0.9572192513368984, 0.9572192513368984, 0.9572192513368984, 0.9572192513368984, 0.9545454545454546, 0.9518716577540107, 0.9518716577540107, 0.9518716577540107, 0.9518716577540107, 0.9518716577540107, 0.9518716577540107, 0.9518716577540107, 0.9518716577540107, 0.9491978609625669, 0.9491978609625669, 0.9491978609625669, 0.9491978609625669, 0.9491978609625669, 0.9491978609625669, 0.9491978609625669, 0.946524064171123, 0.946524064171123, 0.946524064171123, 0.946524064171123, 0.946524064171123, 0.946524064171123, 0.946524064171123, 0.946524064171123, 0.946524064171123, 0.946524064171123, 0.946524064171123, 0.946524064171123, 0.946524064171123, 0.946524064171123, 0.946524064171123, 0.946524064171123, 0.946524064171123, 0.946524064171123, 0.946524064171123, 0.9438502673796791, 0.9438502673796791, 0.9438502673796791, 0.9438502673796791, 0.9438502673796791, 0.9438502673796791, 0.9411764705882353, 0.9411764705882353, 0.9411764705882353, 0.9385026737967914, 0.9385026737967914, 0.9385026737967914, 0.9385026737967914, 0.9385026737967914, 0.9385026737967914, 0.9385026737967914, 0.9385026737967914, 0.9385026737967914, 0.9385026737967914, 0.9385026737967914, 0.9385026737967914, 0.9385026737967914, 0.9385026737967914, 0.9385026737967914, 0.9385026737967914, 0.9385026737967914, 0.9385026737967914, 0.9358288770053476, 0.9358288770053476, 0.9358288770053476, 0.9358288770053476, 0.9358288770053476, 0.9358288770053476, 0.9331550802139037, 0.9331550802139037, 0.9331550802139037, 0.9331550802139037, 0.9331550802139037, 0.9331550802139037, 0.9331550802139037, 0.9331550802139037, 0.9331550802139037, 0.9331550802139037, 0.9331550802139037, 0.9331550802139037, 0.9331550802139037, 0.9331550802139037, 0.9331550802139037, 0.9331550802139037, 0.9331550802139037, 0.9331550802139037, 0.93048128342246, 0.93048128342246, 0.93048128342246, 0.9278074866310161, 0.9278074866310161, 0.9278074866310161, 0.9251336898395722, 0.9251336898395722, 0.9251336898395722, 0.9251336898395722, 0.9251336898395722, 0.9251336898395722, 0.9251336898395722, 0.9251336898395722, 0.9251336898395722, 0.9251336898395722, 0.9251336898395722, 0.9224598930481284, 0.9197860962566845, 0.9197860962566845, 0.9197860962566845, 0.9197860962566845, 0.9197860962566845, 0.9197860962566845, 0.9197860962566845, 0.9197860962566845, 0.9171122994652406, 0.9171122994652406, 0.9171122994652406, 0.9171122994652406, 0.9171122994652406, 0.9171122994652406, 0.9171122994652406, 0.9144385026737968, 0.9144385026737968, 0.9144385026737968, 0.9144385026737968, 0.9144385026737968, 0.9144385026737968, 0.9144385026737968, 0.9144385026737968, 0.9144385026737968, 0.9117647058823529, 0.9090909090909091, 0.9090909090909091, 0.9090909090909091, 0.9090909090909091, 0.9090909090909091, 0.9090909090909091, 0.9090909090909091, 0.9090909090909091, 0.9090909090909091, 0.9090909090909091, 0.9090909090909091, 0.9090909090909091, 0.9090909090909091, 0.9090909090909091, 0.9090909090909091, 0.9090909090909091, 0.9090909090909091, 0.9090909090909091, 0.9090909090909091, 0.9064171122994652, 0.9064171122994652, 0.9064171122994652, 0.9037433155080213, 0.9037433155080213, 0.9010695187165776, 0.8983957219251337, 0.8983957219251337, 0.8983957219251337, 0.8983957219251337, 0.8983957219251337, 0.8957219251336899, 0.8957219251336899, 0.8957219251336899, 0.893048128342246, 0.893048128342246, 0.893048128342246, 0.893048128342246, 0.893048128342246, 0.893048128342246, 0.893048128342246, 0.893048128342246, 0.893048128342246, 0.8903743315508021, 0.8877005347593583, 0.8877005347593583, 0.8877005347593583, 0.8877005347593583, 0.8877005347593583, 0.8877005347593583, 0.8877005347593583, 0.8877005347593583, 0.8877005347593583, 0.8850267379679144, 0.8850267379679144, 0.8850267379679144, 0.8850267379679144, 0.8850267379679144, 0.8850267379679144, 0.8850267379679144, 0.8850267379679144, 0.8823529411764706, 0.8823529411764706, 0.8823529411764706, 0.8823529411764706, 0.8823529411764706, 0.8823529411764706, 0.8796791443850267, 0.8770053475935828, 0.8770053475935828, 0.8743315508021391, 0.8743315508021391, 0.8716577540106952, 0.8716577540106952, 0.8716577540106952, 0.8716577540106952, 0.8716577540106952, 0.8716577540106952, 0.8689839572192514, 0.8689839572192514, 0.8663101604278075, 0.8663101604278075, 0.8636363636363636, 0.8609625668449198, 0.8609625668449198, 0.8582887700534759, 0.8582887700534759, 0.8582887700534759, 0.8582887700534759, 0.8582887700534759, 0.8582887700534759, 0.8582887700534759, 0.8582887700534759, 0.8582887700534759, 0.8582887700534759, 0.8582887700534759, 0.8556149732620321, 0.8556149732620321, 0.8529411764705882, 0.8529411764705882, 0.8502673796791443, 0.8475935828877005, 0.8475935828877005, 0.8475935828877005, 0.8475935828877005, 0.8475935828877005, 0.8475935828877005, 0.8475935828877005, 0.8475935828877005, 0.8449197860962567, 0.8449197860962567, 0.8422459893048129, 0.8422459893048129, 0.8422459893048129, 0.8422459893048129, 0.839572192513369, 0.8368983957219251, 0.8342245989304813, 0.8342245989304813, 0.8342245989304813, 0.8342245989304813, 0.8315508021390374, 0.8315508021390374, 0.8315508021390374, 0.8315508021390374, 0.8315508021390374, 0.8315508021390374, 0.8315508021390374, 0.8315508021390374, 0.8315508021390374, 0.8288770053475936, 0.8288770053475936, 0.8262032085561497, 0.8235294117647058, 0.8235294117647058, 0.820855614973262, 0.8181818181818182, 0.8155080213903744, 0.8155080213903744, 0.8155080213903744, 0.8155080213903744, 0.8155080213903744, 0.8155080213903744, 0.8155080213903744, 0.8128342245989305, 0.8101604278074866, 0.8074866310160428, 0.8074866310160428, 0.8074866310160428, 0.8074866310160428, 0.8048128342245989, 0.8048128342245989, 0.8048128342245989, 0.8048128342245989, 0.8048128342245989, 0.8048128342245989, 0.8048128342245989, 0.8021390374331551, 0.7994652406417112, 0.7994652406417112, 0.7994652406417112, 0.7994652406417112, 0.7994652406417112, 0.7994652406417112, 0.7994652406417112, 0.7994652406417112, 0.7994652406417112, 0.7967914438502673, 0.7967914438502673, 0.7967914438502673, 0.7941176470588235, 0.7941176470588235, 0.7914438502673797, 0.7914438502673797, 0.7914438502673797, 0.7914438502673797, 0.7914438502673797, 0.7887700534759359, 0.786096256684492, 0.7834224598930482, 0.7834224598930482, 0.7834224598930482, 0.7834224598930482, 0.7834224598930482, 0.7834224598930482, 0.7834224598930482, 0.7834224598930482, 0.7834224598930482, 0.7834224598930482, 0.7834224598930482, 0.7834224598930482, 0.7834224598930482, 0.7834224598930482, 0.7834224598930482, 0.7834224598930482, 0.7834224598930482, 0.7834224598930482, 0.7834224598930482, 0.7834224598930482, 0.7807486631016043, 0.7807486631016043, 0.7780748663101604, 0.7780748663101604, 0.7754010695187166, 0.7754010695187166, 0.7727272727272727, 0.7700534759358288, 0.767379679144385, 0.767379679144385, 0.767379679144385, 0.767379679144385, 0.7647058823529411, 0.7647058823529411, 0.7647058823529411, 0.7647058823529411, 0.7647058823529411, 0.7647058823529411, 0.7647058823529411, 0.7620320855614974, 0.7593582887700535, 0.7566844919786097, 0.7566844919786097, 0.7566844919786097, 0.7540106951871658, 0.7540106951871658, 0.7513368983957219, 0.7513368983957219, 0.7513368983957219, 0.7486631016042781, 0.7486631016042781, 0.7486631016042781, 0.7486631016042781, 0.7486631016042781, 0.7486631016042781, 0.7486631016042781, 0.7459893048128342, 0.7459893048128342, 0.7459893048128342, 0.7459893048128342, 0.7459893048128342, 0.7459893048128342, 0.7459893048128342, 0.7433155080213903, 0.7433155080213903, 0.7406417112299465, 0.7406417112299465, 0.7406417112299465, 0.7379679144385026, 0.7379679144385026, 0.7379679144385026, 0.7352941176470589, 0.7352941176470589, 0.7352941176470589, 0.7352941176470589, 0.7352941176470589, 0.7352941176470589, 0.7352941176470589, 0.7352941176470589, 0.7352941176470589, 0.732620320855615, 0.732620320855615, 0.732620320855615, 0.732620320855615, 0.7299465240641712, 0.7272727272727273, 0.7272727272727273, 0.7245989304812834, 0.7245989304812834, 0.7245989304812834, 0.7245989304812834, 0.7245989304812834, 0.7245989304812834, 0.7245989304812834, 0.7219251336898396, 0.7219251336898396, 0.7192513368983957, 0.7165775401069518, 0.713903743315508, 0.7112299465240641, 0.7112299465240641, 0.7112299465240641, 0.7112299465240641, 0.7085561497326203, 0.7085561497326203, 0.7085561497326203, 0.7058823529411765, 0.7032085561497327, 0.7005347593582888, 0.7005347593582888, 0.6978609625668449, 0.6978609625668449, 0.6978609625668449, 0.6978609625668449, 0.6978609625668449, 0.6951871657754011, 0.6951871657754011, 0.6925133689839572, 0.6925133689839572, 0.6898395721925134, 0.6898395721925134, 0.6898395721925134, 0.6898395721925134, 0.6898395721925134, 0.6898395721925134, 0.6898395721925134, 0.6898395721925134, 0.6898395721925134, 0.6871657754010695, 0.6871657754010695, 0.6844919786096256, 0.6818181818181818, 0.6818181818181818, 0.6818181818181818, 0.6818181818181818, 0.679144385026738, 0.6764705882352942, 0.6764705882352942, 0.6764705882352942, 0.6764705882352942, 0.6737967914438503, 0.6711229946524064, 0.6711229946524064, 0.6711229946524064, 0.6711229946524064, 0.6711229946524064, 0.6684491978609626, 0.6657754010695187, 0.6631016042780749, 0.6631016042780749, 0.6631016042780749, 0.660427807486631, 0.660427807486631, 0.660427807486631, 0.660427807486631, 0.6577540106951871, 0.6577540106951871, 0.6577540106951871, 0.6577540106951871, 0.6550802139037433, 0.6550802139037433, 0.6524064171122995, 0.6524064171122995, 0.6524064171122995, 0.6497326203208557, 0.6470588235294118, 0.6443850267379679, 0.6443850267379679, 0.6443850267379679, 0.6443850267379679, 0.6417112299465241, 0.6417112299465241, 0.6390374331550802, 0.6390374331550802, 0.6363636363636364, 0.6336898395721925, 0.6310160427807486, 0.6283422459893048, 0.6283422459893048, 0.6283422459893048, 0.6256684491978609, 0.6256684491978609, 0.6256684491978609, 0.6229946524064172, 0.6203208556149733, 0.6203208556149733, 0.6203208556149733, 0.6176470588235294, 0.6149732620320856, 0.6122994652406417, 0.6122994652406417, 0.6096256684491979, 0.6096256684491979, 0.606951871657754, 0.606951871657754, 0.606951871657754, 0.606951871657754, 0.606951871657754, 0.606951871657754, 0.6042780748663101, 0.6042780748663101, 0.6016042780748663, 0.6016042780748663, 0.5989304812834224, 0.5962566844919787, 0.5962566844919787, 0.5935828877005348, 0.5935828877005348, 0.5935828877005348, 0.5935828877005348, 0.5909090909090909, 0.5909090909090909, 0.5909090909090909, 0.5882352941176471, 0.5855614973262032, 0.5855614973262032, 0.5828877005347594, 0.5828877005347594, 0.5802139037433155, 0.5775401069518716, 0.5748663101604278, 0.5748663101604278, 0.5748663101604278, 0.5748663101604278, 0.5721925133689839, 0.5721925133689839, 0.56951871657754, 0.56951871657754, 0.56951871657754, 0.5668449197860963, 0.5641711229946524, 0.5641711229946524, 0.5641711229946524, 0.5641711229946524, 0.5614973262032086, 0.5588235294117647, 0.5588235294117647, 0.5561497326203209, 0.553475935828877, 0.5508021390374331, 0.5481283422459893, 0.5481283422459893, 0.5454545454545454, 0.5454545454545454, 0.5454545454545454, 0.5454545454545454, 0.5427807486631016, 0.5427807486631016, 0.5401069518716578, 0.5401069518716578, 0.5374331550802139, 0.5374331550802139, 0.5347593582887701, 0.5320855614973262, 0.5320855614973262, 0.5320855614973262, 0.5294117647058824, 0.5294117647058824, 0.5294117647058824, 0.5267379679144385, 0.5267379679144385, 0.5267379679144385, 0.5267379679144385, 0.5267379679144385, 0.5240641711229946, 0.5240641711229946, 0.5213903743315508, 0.5187165775401069, 0.516042780748663, 0.5133689839572193, 0.5133689839572193, 0.5106951871657754, 0.5080213903743316, 0.5080213903743316, 0.5080213903743316, 0.5053475935828877, 0.5026737967914439, 0.5026737967914439, 0.5, 0.5, 0.5, 0.49732620320855614, 0.49732620320855614, 0.4946524064171123, 0.4919786096256685, 0.4919786096256685, 0.4893048128342246, 0.4893048128342246, 0.4893048128342246, 0.48663101604278075, 0.48663101604278075, 0.4839572192513369, 0.4839572192513369, 0.4839572192513369, 0.4839572192513369, 0.48128342245989303, 0.48128342245989303, 0.48128342245989303, 0.4786096256684492, 0.47593582887700536, 0.47593582887700536, 0.4732620320855615, 0.4732620320855615, 0.4732620320855615, 0.4732620320855615, 0.47058823529411764, 0.47058823529411764, 0.47058823529411764, 0.4679144385026738, 0.4679144385026738, 0.46524064171123, 0.4625668449197861, 0.4625668449197861, 0.4625668449197861, 0.4625668449197861, 0.45989304812834225, 0.4572192513368984, 0.4572192513368984, 0.4572192513368984, 0.45454545454545453, 0.45187165775401067, 0.44919786096256686, 0.446524064171123, 0.446524064171123, 0.446524064171123, 0.446524064171123, 0.446524064171123, 0.446524064171123, 0.44385026737967914, 0.44385026737967914, 0.4411764705882353, 0.4411764705882353, 0.4411764705882353, 0.4411764705882353, 0.4411764705882353, 0.4411764705882353, 0.4411764705882353, 0.4411764705882353, 0.4411764705882353, 0.4411764705882353, 0.4411764705882353, 0.4385026737967914, 0.4385026737967914, 0.4358288770053476, 0.4358288770053476, 0.43315508021390375, 0.4304812834224599, 0.42780748663101603, 0.42513368983957217, 0.42513368983957217, 0.42513368983957217, 0.42513368983957217, 0.42513368983957217, 0.42245989304812837, 0.4197860962566845, 0.4197860962566845, 0.41711229946524064, 0.41711229946524064, 0.4144385026737968, 0.4144385026737968, 0.4117647058823529, 0.4117647058823529, 0.4090909090909091, 0.40641711229946526, 0.40641711229946526, 0.4037433155080214, 0.40106951871657753, 0.40106951871657753, 0.3983957219251337, 0.3983957219251337, 0.39572192513368987, 0.393048128342246, 0.393048128342246, 0.393048128342246, 0.393048128342246, 0.393048128342246, 0.39037433155080214, 0.3877005347593583, 0.3877005347593583, 0.3850267379679144, 0.38235294117647056, 0.37967914438502676, 0.37967914438502676, 0.3770053475935829, 0.37433155080213903, 0.3716577540106952, 0.3716577540106952, 0.3689839572192513, 0.3689839572192513, 0.3689839572192513, 0.3689839572192513, 0.3689839572192513, 0.3663101604278075, 0.3663101604278075, 0.36363636363636365, 0.3609625668449198, 0.3609625668449198, 0.3582887700534759, 0.3582887700534759, 0.35561497326203206, 0.35561497326203206, 0.35561497326203206, 0.35294117647058826, 0.35294117647058826, 0.3502673796791444, 0.3502673796791444, 0.34759358288770054, 0.3449197860962567, 0.3422459893048128, 0.3422459893048128, 0.3422459893048128, 0.3422459893048128, 0.339572192513369, 0.33689839572192515, 0.3342245989304813, 0.3315508021390374, 0.32887700534759357, 0.32620320855614976, 0.32620320855614976, 0.3235294117647059, 0.32085561497326204, 0.32085561497326204, 0.3181818181818182, 0.3155080213903743, 0.3155080213903743, 0.31283422459893045, 0.3074866310160428, 0.3048128342245989, 0.3048128342245989, 0.3048128342245989, 0.3048128342245989, 0.30213903743315507, 0.2994652406417112, 0.2994652406417112, 0.2967914438502674, 0.2967914438502674, 0.29411764705882354, 0.29411764705882354, 0.2914438502673797, 0.2914438502673797, 0.2914438502673797, 0.2887700534759358, 0.2887700534759358, 0.28609625668449196, 0.28342245989304815, 0.2807486631016043, 0.27807486631016043, 0.27540106951871657, 0.2727272727272727, 0.2700534759358289, 0.26737967914438504, 0.26737967914438504, 0.26737967914438504, 0.2647058823529412, 0.2647058823529412, 0.2647058823529412, 0.2620320855614973, 0.2620320855614973, 0.25935828877005346, 0.25668449197860965, 0.25668449197860965, 0.2540106951871658, 0.25133689839572193, 0.25133689839572193, 0.25133689839572193, 0.24866310160427807, 0.24598930481283424, 0.24598930481283424, 0.24598930481283424, 0.24331550802139038, 0.24331550802139038, 0.24064171122994651, 0.23796791443850268, 0.23529411764705882, 0.23529411764705882, 0.23529411764705882, 0.232620320855615, 0.22994652406417113, 0.22994652406417113, 0.22994652406417113, 0.22727272727272727, 0.22459893048128343, 0.22192513368983957, 0.2192513368983957, 0.21657754010695188, 0.21657754010695188, 0.21390374331550802, 0.21390374331550802, 0.21122994652406418, 0.20855614973262032, 0.20588235294117646, 0.20588235294117646, 0.20588235294117646, 0.20588235294117646, 0.20588235294117646, 0.20320855614973263, 0.20320855614973263, 0.20053475935828877, 0.19786096256684493, 0.19518716577540107, 0.1925133689839572, 0.18983957219251338, 0.18983957219251338, 0.18983957219251338, 0.18716577540106952, 0.18449197860962566, 0.18181818181818182, 0.18181818181818182, 0.18181818181818182, 0.17914438502673796, 0.17647058823529413, 0.17379679144385027, 0.17379679144385027, 0.1711229946524064, 0.1711229946524064, 0.16844919786096257, 0.1657754010695187, 0.16310160427807488, 0.16042780748663102, 0.15775401069518716, 0.15508021390374332, 0.15508021390374332, 0.15508021390374332, 0.15240641711229946, 0.15240641711229946, 0.1497326203208556, 0.1497326203208556, 0.14705882352941177, 0.1443850267379679, 0.14171122994652408, 0.13903743315508021, 0.13903743315508021, 0.13636363636363635, 0.13368983957219252, 0.13101604278074866, 0.12834224598930483, 0.12566844919786097, 0.12566844919786097, 0.12299465240641712, 0.12299465240641712, 0.12299465240641712, 0.12032085561497326, 0.11764705882352941, 0.11497326203208556, 0.11229946524064172, 0.10962566844919786, 0.10962566844919786, 0.10695187165775401, 0.10695187165775401, 0.10427807486631016, 0.10160427807486631, 0.09893048128342247, 0.09358288770053476, 0.09358288770053476, 0.09090909090909091, 0.09090909090909091, 0.09090909090909091, 0.08823529411764706, 0.0855614973262032, 0.08288770053475936, 0.08021390374331551, 0.08021390374331551, 0.07754010695187166, 0.0748663101604278, 0.07219251336898395, 0.06951871657754011, 0.06684491978609626, 0.06417112299465241, 0.06149732620320856, 0.058823529411764705, 0.05614973262032086, 0.053475935828877004, 0.05080213903743316, 0.05080213903743316, 0.0481283422459893, 0.045454545454545456, 0.0427807486631016, 0.040106951871657755, 0.034759358288770054, 0.03208556149732621, 0.029411764705882353, 0.026737967914438502, 0.026737967914438502, 0.02406417112299465, 0.0213903743315508, 0.01871657754010695, 0.016042780748663103, 0.013368983957219251, 0.0106951871657754, 0.0053475935828877, 0.0], \"y\": [0.2921875, 0.29163408913213446, 0.2918622848200313, 0.2920908379013312, 0.29231974921630094, 0.29254901960784313, 0.29277864992150704, 0.29300864100549884, 0.29323899371069184, 0.2934697088906373, 0.2937007874015748, 0.29393223010244285, 0.2941640378548896, 0.2943962115232833, 0.29462875197472355, 0.2948616600790514, 0.2950949367088608, 0.2953285827395091, 0.29556259904912835, 0.295796986518636, 0.29603174603174603, 0.2962668784749801, 0.29650238473767887, 0.2967382657120127, 0.29697452229299365, 0.2972111553784861, 0.2974481658692185, 0.2968874700718276, 0.2963258785942492, 0.2965627498001599, 0.2968, 0.29703763010408324, 0.297275641025641, 0.297514033680834, 0.29775280898876405, 0.29799196787148596, 0.2982315112540193, 0.29847144006436044, 0.29871175523349436, 0.2989524576954069, 0.2991935483870968, 0.2994350282485876, 0.29967689822294025, 0.29991915925626517, 0.30016181229773464, 0.3004048582995951, 0.3006482982171799, 0.3008921330089213, 0.30113636363636365, 0.3013809910641755, 0.3016260162601626, 0.3018714401952807, 0.30211726384364823, 0.3023634881825591, 0.30261011419249595, 0.3028571428571429, 0.30310457516339867, 0.30335241210139, 0.30360065466448444, 0.30384930384930386, 0.3040983606557377, 0.30434782608695654, 0.3045977011494253, 0.30484798685291703, 0.3050986842105263, 0.30534979423868314, 0.3056013179571664, 0.30585325638911787, 0.3061056105610561, 0.3063583815028902, 0.3066115702479339, 0.3068651778329198, 0.30711920529801323, 0.30737365368682684, 0.3076285240464345, 0.3078838174273859, 0.3081395348837209, 0.3083956774729842, 0.3086522462562396, 0.3089092422980849, 0.30916666666666665, 0.3094245204336947, 0.3096828046744574, 0.30994152046783624, 0.3102006688963211, 0.3104602510460251, 0.31072026800670016, 0.3109807208717519, 0.311241610738255, 0.31150293870696893, 0.31176470588235294, 0.312026913372582, 0.3122895622895623, 0.3125526537489469, 0.3128161888701518, 0.3130801687763713, 0.31334459459459457, 0.3136094674556213, 0.31387478849407785, 0.3141405588484335, 0.31440677966101693, 0.3146734520780322, 0.3149405772495755, 0.31520815632965166, 0.31547619047619047, 0.31574468085106383, 0.31601362862010224, 0.31628303495311166, 0.3165529010238908, 0.31682322801024765, 0.3170940170940171, 0.31736526946107785, 0.3176369863013699, 0.31790916880891174, 0.3181818181818182, 0.3184549356223176, 0.31872852233676974, 0.31900257953568356, 0.3192771084337349, 0.3195521102497847, 0.31982758620689655, 0.3201035375323555, 0.32037996545768566, 0.320656871218669, 0.3209342560553633, 0.3212121212121212, 0.3214904679376083, 0.3217692974848222, 0.3220486111111111, 0.32232841007819285, 0.3226086956521739, 0.3228894691035683, 0.3231707317073171, 0.3234524847428073, 0.3237347294938918, 0.3240174672489083, 0.3243006993006993, 0.32458442694663164, 0.3248686514886165, 0.32515337423312884, 0.3254385964912281, 0.3257243195785777, 0.3260105448154657, 0.32629727352682497, 0.3265845070422535, 0.32687224669603526, 0.3271604938271605, 0.32744924977934686, 0.32773851590106007, 0.3280282935455349, 0.32831858407079645, 0.32860938883968116, 0.32890070921985815, 0.32919254658385094, 0.32948490230905864, 0.3297777777777778, 0.3300711743772242, 0.3303650934995548, 0.3306595365418895, 0.33095450490633366, 0.33125, 0.3315460232350313, 0.33184257602862255, 0.3321396598030439, 0.3324372759856631, 0.3327354260089686, 0.33213644524236985, 0.33243486073674755, 0.3327338129496403, 0.33303330333033304, 0.3333333333333333, 0.33363390441839497, 0.33393501805054154, 0.33423667570009036, 0.3336347197106691, 0.3339366515837104, 0.3342391304347826, 0.3345421577515866, 0.33484573502722326, 0.335149863760218, 0.33545454545454545, 0.33575978161965425, 0.3360655737704918, 0.33637192342752964, 0.33667883211678834, 0.336986301369863, 0.3372943327239488, 0.3376029277218664, 0.33791208791208793, 0.3382218148487626, 0.3385321100917431, 0.33884297520661155, 0.3391544117647059, 0.33946642134314625, 0.3397790055248619, 0.3400921658986175, 0.3404059040590406, 0.3407202216066482, 0.3410351201478743, 0.34135060129509714, 0.3416666666666667, 0.34198331788693237, 0.3423005565862709, 0.3426183844011142, 0.3429368029739777, 0.34232558139534885, 0.3426443202979516, 0.3429636533084809, 0.34328358208955223, 0.34360410830999066, 0.3429906542056075, 0.343311506080449, 0.34363295880149813, 0.34395501405810686, 0.3433395872420263, 0.3436619718309859, 0.34398496240601506, 0.3443085606773283, 0.3446327683615819, 0.3449575871819039, 0.3452830188679245, 0.34560906515580736, 0.34593572778827975, 0.34626300851466413, 0.3465909090909091, 0.3469194312796208, 0.34724857685009486, 0.3475783475783476, 0.34695817490494296, 0.3472882968601332, 0.3476190476190476, 0.3479504289799809, 0.3482824427480916, 0.34861509073543456, 0.3489483747609943, 0.3492822966507177, 0.3496168582375479, 0.34995206136145734, 0.3502879078694818, 0.3506243996157541, 0.35096153846153844, 0.35129932627526467, 0.3516377649325626, 0.351976856316297, 0.35231660231660233, 0.3526570048309179, 0.3529980657640232, 0.35333978702807356, 0.3536821705426357, 0.3530552861299709, 0.3533980582524272, 0.35374149659863946, 0.3531128404669261, 0.35345666991236613, 0.3538011695906433, 0.3541463414634146, 0.3544921875, 0.3548387096774194, 0.35518590998043054, 0.3555337904015671, 0.3558823529411765, 0.3562315996074583, 0.3565815324165029, 0.35693215339233036, 0.3572834645669291, 0.35763546798029555, 0.35798816568047337, 0.3583415597235933, 0.358695652173913, 0.3590504451038576, 0.3594059405940594, 0.3597621407333994, 0.3601190476190476, 0.36047666335650447, 0.36083499005964215, 0.3611940298507463, 0.3615537848605578, 0.36191425722831505, 0.36227544910179643, 0.3626373626373626, 0.363, 0.3633633633633634, 0.3637274549098196, 0.3640922768304915, 0.3644578313253012, 0.36482412060301506, 0.36519114688128773, 0.36555891238670696, 0.3659274193548387, 0.36629667003027244, 0.36666666666666664, 0.36703741152679475, 0.3674089068825911, 0.3677811550151976, 0.36815415821501013, 0.36852791878172586, 0.36890243902439024, 0.36927772126144454, 0.3696537678207739, 0.37003058103975534, 0.3704081632653061, 0.3707865168539326, 0.37116564417177916, 0.3705220061412487, 0.3709016393442623, 0.3712820512820513, 0.37166324435318276, 0.3710174717368962, 0.3713991769547325, 0.3717816683831102, 0.37216494845360826, 0.37254901960784315, 0.37293388429752067, 0.3733195449844881, 0.37370600414078675, 0.37409326424870465, 0.3744813278008299, 0.37487019730010385, 0.37525987525987525, 0.3756503642039542, 0.37604166666666666, 0.37643378519290926, 0.3768267223382046, 0.3772204806687565, 0.3776150627615063, 0.37801047120418846, 0.37840670859538783, 0.378803777544596, 0.3792016806722689, 0.37960042060988436, 0.38, 0.3804004214963119, 0.379746835443038, 0.3801478352692714, 0.38054968287526425, 0.3798941798941799, 0.3802966101694915, 0.3806998939554613, 0.38110403397027603, 0.38150903294367694, 0.3819148936170213, 0.38232161874334397, 0.38272921108742003, 0.3831376734258271, 0.38354700854700857, 0.3839572192513369, 0.38436830835117775, 0.38478027867095393, 0.3851931330472103, 0.38560687432867885, 0.3860215053763441, 0.38536060279870826, 0.3857758620689655, 0.3861920172599784, 0.38660907127429806, 0.387027027027027, 0.3874458874458874, 0.38786565547128926, 0.3882863340563991, 0.38870792616720956, 0.38913043478260867, 0.3895538628944505, 0.3899782135076253, 0.3904034896401309, 0.39082969432314413, 0.3912568306010929, 0.3916849015317287, 0.39211391018619934, 0.3925438596491228, 0.3929747530186608, 0.3934065934065934, 0.39383938393839385, 0.3931718061674009, 0.39250275633958104, 0.39293598233995586, 0.39337016574585637, 0.3938053097345133, 0.39424141749723146, 0.3946784922394678, 0.3951165371809101, 0.39555555555555555, 0.39488320355951056, 0.39532293986636974, 0.3957636566332218, 0.39620535714285715, 0.39664804469273746, 0.3970917225950783, 0.3975363941769317, 0.3968609865470852, 0.39730639730639733, 0.39775280898876403, 0.3982002249718785, 0.39864864864864863, 0.399098083427283, 0.39954853273137697, 0.4, 0.4004524886877828, 0.40090600226500567, 0.4013605442176871, 0.4018161180476731, 0.4022727272727273, 0.40273037542662116, 0.4031890660592255, 0.40364880273660203, 0.4041095890410959, 0.4045714285714286, 0.40503432494279173, 0.4043528064146621, 0.4048165137614679, 0.4052812858783008, 0.4057471264367816, 0.4062140391254315, 0.4066820276497696, 0.405997693194925, 0.4064665127020785, 0.4069364161849711, 0.40625, 0.406720741599073, 0.4071925754060325, 0.4076655052264808, 0.40813953488372096, 0.4086146682188591, 0.4090909090909091, 0.40956826137689617, 0.4100467289719626, 0.4105263157894737, 0.41100702576112413, 0.4114888628370457, 0.4119718309859155, 0.41245593419506466, 0.41294117647058826, 0.4134275618374558, 0.41391509433962265, 0.41440377804014167, 0.41371158392434987, 0.41420118343195267, 0.4146919431279621, 0.4151838671411625, 0.4156769596199525, 0.4161712247324614, 0.4154761904761905, 0.4159713945172825, 0.41646778042959426, 0.4169653524492234, 0.41746411483253587, 0.4179640718562874, 0.4184652278177458, 0.4189675870348139, 0.41947115384615385, 0.41997593261131166, 0.42048192771084336, 0.4209891435464415, 0.4214975845410628, 0.42200725513905685, 0.4225181598062954, 0.42303030303030303, 0.42354368932038833, 0.4240583232077764, 0.4233576642335766, 0.4238733252131547, 0.424390243902439, 0.4236874236874237, 0.4242053789731051, 0.42472460220318237, 0.42401960784313725, 0.4245398773006135, 0.4250614250614251, 0.42558425584255843, 0.42610837438423643, 0.42663378545006164, 0.4271604938271605, 0.4276885043263288, 0.4282178217821782, 0.42874845105328374, 0.4292803970223325, 0.42857142857142855, 0.42786069651741293, 0.42839352428393523, 0.428927680798005, 0.42946317103620474, 0.43, 0.4305381727158949, 0.43107769423558895, 0.4316185696361355, 0.43090452261306533, 0.43144654088050316, 0.43198992443324935, 0.43253467843631777, 0.43308080808080807, 0.4336283185840708, 0.4341772151898734, 0.43346007604562736, 0.434010152284264, 0.43456162642947904, 0.4351145038167939, 0.4356687898089172, 0.4362244897959184, 0.4367816091954023, 0.4373401534526854, 0.4379001280409731, 0.4371794871794872, 0.43645699614890887, 0.4370179948586118, 0.4375804375804376, 0.4381443298969072, 0.43870967741935485, 0.4392764857881137, 0.4398447606727037, 0.44041450777202074, 0.4409857328145266, 0.44155844155844154, 0.44213263979193757, 0.4427083333333333, 0.44328552803129073, 0.44386422976501305, 0.4444444444444444, 0.44502617801047123, 0.4456094364351245, 0.4461942257217848, 0.4467805519053876, 0.44605263157894737, 0.44664031620553357, 0.4472295514511873, 0.4464993394980185, 0.4470899470899471, 0.4463576158940397, 0.44562334217506633, 0.44621513944223107, 0.44680851063829785, 0.4474034620505992, 0.448, 0.4472630173564753, 0.44786096256684493, 0.4484605087014726, 0.4477211796246649, 0.4483221476510067, 0.4489247311827957, 0.44952893674293404, 0.4501347708894879, 0.4507422402159244, 0.45135135135135135, 0.4519621109607578, 0.45257452574525747, 0.451831750339213, 0.45108695652173914, 0.45170068027210886, 0.45231607629427795, 0.4529331514324693, 0.453551912568306, 0.454172366621067, 0.4547945205479452, 0.4554183813443073, 0.45604395604395603, 0.45529573590096284, 0.4559228650137741, 0.45655172413793105, 0.457182320441989, 0.4578146611341632, 0.4584487534626039, 0.4590846047156727, 0.4597222222222222, 0.45897079276773295, 0.4596100278551532, 0.4602510460251046, 0.46089385474860334, 0.46153846153846156, 0.46218487394957986, 0.46143057503506313, 0.4606741573033708, 0.4613220815752461, 0.46056338028169014, 0.461212976022567, 0.4604519774011299, 0.4611032531824611, 0.46175637393767704, 0.4624113475177305, 0.4630681818181818, 0.46372688477951635, 0.46296296296296297, 0.463623395149786, 0.46285714285714286, 0.463519313304721, 0.46275071633237824, 0.4619799139167862, 0.46264367816091956, 0.4618705035971223, 0.46253602305475505, 0.46320346320346323, 0.4638728323699422, 0.4645441389290883, 0.4652173913043478, 0.46589259796806964, 0.46656976744186046, 0.4672489082969432, 0.4679300291545189, 0.4686131386861314, 0.4678362573099415, 0.4685212298682284, 0.46774193548387094, 0.4684287812041116, 0.4676470588235294, 0.46686303387334316, 0.46755162241887904, 0.46824224519940916, 0.46893491124260356, 0.4696296296296296, 0.47032640949554894, 0.4710252600297177, 0.47172619047619047, 0.47093889716840537, 0.4716417910447761, 0.47085201793721976, 0.47155688622754494, 0.47226386806596704, 0.47297297297297297, 0.47218045112781953, 0.4713855421686747, 0.47058823529411764, 0.47129909365558914, 0.4720121028744327, 0.4727272727272727, 0.47192716236722304, 0.4726443768996961, 0.4733637747336377, 0.4740853658536585, 0.47480916030534354, 0.47553516819571867, 0.4762633996937213, 0.47699386503067487, 0.47772657450076805, 0.47692307692307695, 0.4776579352850539, 0.47685185185185186, 0.4760432766615147, 0.47678018575851394, 0.475968992248062, 0.4751552795031056, 0.47433903576982894, 0.4750778816199377, 0.47581903276131043, 0.4765625, 0.47730829420970267, 0.4780564263322884, 0.478806907378336, 0.4779874213836478, 0.47716535433070867, 0.47634069400630913, 0.47709320695102686, 0.4778481012658228, 0.4786053882725832, 0.4777777777777778, 0.4785373608903021, 0.47929936305732485, 0.4800637958532695, 0.48083067092651754, 0.4816, 0.4823717948717949, 0.48154093097913325, 0.4807073954983923, 0.48148148148148145, 0.482258064516129, 0.48303715670436187, 0.48381877022653724, 0.4846029173419773, 0.48538961038961037, 0.4861788617886179, 0.48697068403908794, 0.48613376835236544, 0.4869281045751634, 0.4877250409165303, 0.48688524590163934, 0.4876847290640394, 0.4868421052631579, 0.4876441515650741, 0.4884488448844885, 0.48925619834710743, 0.4900662251655629, 0.4892205638474295, 0.4883720930232558, 0.4875207986688852, 0.48833333333333334, 0.48914858096828046, 0.4899665551839465, 0.490787269681742, 0.49161073825503354, 0.492436974789916, 0.49326599326599324, 0.49409780775716694, 0.49493243243243246, 0.4957698815566836, 0.4966101694915254, 0.49745331069609505, 0.49829931972789115, 0.4991482112436116, 0.5, 0.5008547008547009, 0.5017123287671232, 0.5025728987993139, 0.5034364261168385, 0.5025817555938038, 0.503448275862069, 0.5025906735751295, 0.5034602076124568, 0.5025996533795494, 0.5034722222222222, 0.5026086956521739, 0.5017421602787456, 0.5008726003490401, 0.5017482517482518, 0.5026269702276708, 0.5035087719298246, 0.5026362038664324, 0.5035211267605634, 0.5044091710758377, 0.5053003533568905, 0.5061946902654867, 0.5070921985815603, 0.5079928952042628, 0.5071174377224199, 0.5062388591800356, 0.5053571428571428, 0.5062611806797853, 0.507168458781362, 0.5062836624775583, 0.5071942446043165, 0.5063063063063064, 0.5072202166064982, 0.5081374321880651, 0.5072463768115942, 0.5081669691470054, 0.509090909090909, 0.5100182149362478, 0.5109489051094891, 0.5118829981718465, 0.5128205128205128, 0.5119266055045871, 0.5128676470588235, 0.5138121546961326, 0.514760147601476, 0.5157116451016636, 0.5166666666666667, 0.5176252319109462, 0.516728624535316, 0.5176908752327747, 0.5167910447761194, 0.5177570093457944, 0.5187265917602997, 0.5178236397748592, 0.518796992481203, 0.519774011299435, 0.5188679245283019, 0.5198487712665406, 0.5208333333333334, 0.5218216318785579, 0.5228136882129277, 0.5238095238095238, 0.5248091603053435, 0.5258126195028681, 0.5268199233716475, 0.525911708253359, 0.5269230769230769, 0.5279383429672447, 0.528957528957529, 0.528046421663443, 0.5271317829457365, 0.5281553398058253, 0.5272373540856031, 0.5282651072124757, 0.529296875, 0.5303326810176126, 0.5313725490196078, 0.5324165029469549, 0.5334645669291339, 0.5325443786982249, 0.5335968379446641, 0.5326732673267327, 0.5317460317460317, 0.5308151093439364, 0.5298804780876494, 0.530938123752495, 0.532, 0.533066132264529, 0.5321285140562249, 0.5331991951710262, 0.5342741935483871, 0.5333333333333333, 0.5323886639676113, 0.5314401622718052, 0.532520325203252, 0.5315682281059063, 0.5326530612244897, 0.5337423312883436, 0.5348360655737705, 0.5359342915811088, 0.5349794238683128, 0.5360824742268041, 0.5351239669421488, 0.5362318840579711, 0.5352697095435685, 0.5363825363825364, 0.5375, 0.5386221294363257, 0.5397489539748954, 0.5408805031446541, 0.542016806722689, 0.5431578947368421, 0.5443037974683544, 0.5433403805496829, 0.5444915254237288, 0.5435244161358811, 0.5425531914893617, 0.5437100213219617, 0.5448717948717948, 0.5460385438972163, 0.5450643776824035, 0.5440860215053763, 0.5452586206896551, 0.5464362850971922, 0.5476190476190477, 0.5466377440347071, 0.5456521739130434, 0.5468409586056645, 0.5480349344978166, 0.5492341356673961, 0.5504385964912281, 0.5494505494505495, 0.5484581497797357, 0.5474613686534217, 0.5486725663716814, 0.549889135254989, 0.5488888888888889, 0.5501113585746102, 0.5513392857142857, 0.5525727069351231, 0.5515695067264574, 0.5528089887640449, 0.5540540540540541, 0.5553047404063205, 0.5542986425339367, 0.5555555555555556, 0.5545454545454546, 0.5558086560364465, 0.5570776255707762, 0.5560640732265446, 0.555045871559633, 0.5540229885057472, 0.5552995391705069, 0.5565819861431871, 0.5578703703703703, 0.5568445475638051, 0.5581395348837209, 0.5571095571095571, 0.5584112149532711, 0.5573770491803278, 0.5563380281690141, 0.5552941176470588, 0.5542452830188679, 0.5555555555555556, 0.556872037914692, 0.5558194774346793, 0.5571428571428572, 0.5584725536992841, 0.5574162679425837, 0.5563549160671463, 0.5576923076923077, 0.5590361445783133, 0.5579710144927537, 0.5569007263922519, 0.5558252427184466, 0.5571776155717761, 0.5560975609756098, 0.5574572127139364, 0.5563725490196079, 0.5577395577395577, 0.5591133004926109, 0.5604938271604938, 0.5618811881188119, 0.5632754342431762, 0.5621890547263682, 0.5635910224438903, 0.5625, 0.5639097744360902, 0.5628140703517588, 0.5617128463476071, 0.5631313131313131, 0.5620253164556962, 0.5634517766497462, 0.5648854961832062, 0.5663265306122449, 0.5652173913043478, 0.5666666666666667, 0.5681233933161953, 0.5670103092783505, 0.5658914728682171, 0.5673575129533679, 0.5662337662337662, 0.5677083333333334, 0.566579634464752, 0.5654450261780105, 0.5643044619422573, 0.5657894736842105, 0.5672823218997362, 0.5687830687830688, 0.5676392572944297, 0.5691489361702128, 0.568, 0.56951871657754, 0.5710455764075067, 0.5698924731182796, 0.568733153638814, 0.5702702702702702, 0.5718157181571816, 0.5733695652173914, 0.5722070844686649, 0.5710382513661202, 0.5726027397260274, 0.5714285714285714, 0.5702479338842975, 0.569060773480663, 0.5678670360110804, 0.5694444444444444, 0.5682451253481894, 0.5698324022346368, 0.5714285714285714, 0.5730337078651685, 0.571830985915493, 0.5734463276836158, 0.5722379603399433, 0.5738636363636364, 0.5726495726495726, 0.5742857142857143, 0.5730659025787965, 0.5718390804597702, 0.5734870317002881, 0.5751445086705202, 0.5739130434782609, 0.5755813953488372, 0.577259475218659, 0.5760233918128655, 0.5777126099706745, 0.5794117647058824, 0.5811209439528023, 0.5828402366863905, 0.5816023738872403, 0.5833333333333334, 0.582089552238806, 0.5808383233532934, 0.5795795795795796, 0.5783132530120482, 0.5800604229607251, 0.5787878787878787, 0.5775075987841946, 0.5792682926829268, 0.581039755351682, 0.5797546012269938, 0.5784615384615385, 0.5802469135802469, 0.5807453416149069, 0.5825545171339563, 0.584375, 0.5830721003134797, 0.5849056603773585, 0.583596214511041, 0.5822784810126582, 0.5841269841269842, 0.5828025477707006, 0.5846645367412141, 0.5865384615384616, 0.5852090032154341, 0.5870967741935483, 0.5857605177993528, 0.5876623376623377, 0.5895765472312704, 0.5915032679738562, 0.5901639344262295, 0.5921052631578947, 0.594059405940594, 0.5927152317880795, 0.5913621262458472, 0.5933333333333334, 0.5919732441471572, 0.5939597315436241, 0.5959595959595959, 0.597972972972973, 0.5966101694915255, 0.5986394557823129, 0.6006825938566553, 0.5993150684931506, 0.6013745704467354, 0.6, 0.5986159169550173, 0.6006944444444444, 0.6027874564459931, 0.6048951048951049, 0.6035087719298246, 0.602112676056338, 0.6042402826855123, 0.6063829787234043, 0.604982206405694, 0.6035714285714285, 0.6021505376344086, 0.6007194244604317, 0.6072727272727273, 0.6094890510948905, 0.6117216117216118, 0.6139705882352942, 0.6162361623616236, 0.6148148148148148, 0.6171003717472119, 0.6156716417910447, 0.6179775280898876, 0.6203007518796992, 0.6226415094339622, 0.625, 0.6273764258555133, 0.6297709923664122, 0.632183908045977, 0.6346153846153846, 0.637065637065637, 0.6395348837209303, 0.6381322957198443, 0.640625, 0.6392156862745098, 0.6417322834645669, 0.6403162055335968, 0.6388888888888888, 0.6374501992031872, 0.636, 0.6385542168674698, 0.6411290322580645, 0.6437246963562753, 0.6463414634146342, 0.6448979591836734, 0.6434426229508197, 0.6460905349794238, 0.6446280991735537, 0.6473029045643154, 0.6458333333333334, 0.6485355648535565, 0.6470588235294118, 0.6497890295358649, 0.6483050847457628, 0.6468085106382979, 0.6495726495726496, 0.648068669527897, 0.646551724137931, 0.6493506493506493, 0.6478260869565218, 0.6506550218340611, 0.6491228070175439, 0.6475770925110133, 0.6504424778761062, 0.6533333333333333, 0.65625, 0.6591928251121076, 0.6576576576576577, 0.6561085972850679, 0.6590909090909091, 0.6575342465753424, 0.6589861751152074, 0.6574074074074074, 0.6604651162790698, 0.6588785046728972, 0.6572769953051644, 0.6556603773584906, 0.6587677725118484, 0.6571428571428571, 0.6602870813397129, 0.6634615384615384, 0.6666666666666666, 0.6699029126213593, 0.6682926829268293, 0.6715686274509803, 0.6699507389162561, 0.6683168316831684, 0.6716417910447762, 0.67, 0.6733668341708543, 0.6751269035532995, 0.6785714285714286, 0.6820512820512821, 0.6804123711340206, 0.6839378238341969, 0.6822916666666666, 0.6858638743455497, 0.6842105263157895, 0.6825396825396826, 0.6808510638297872, 0.6844919786096256, 0.6881720430107527, 0.6918918918918919, 0.6902173913043478, 0.6885245901639344, 0.6868131868131868, 0.6850828729281768, 0.6833333333333333, 0.6815642458100558, 0.6853932584269663, 0.6836158192090396, 0.6818181818181818, 0.6857142857142857, 0.6839080459770115, 0.6820809248554913, 0.686046511627907, 0.6842105263157895, 0.6804733727810651, 0.6785714285714286, 0.6826347305389222, 0.6867469879518072, 0.6909090909090909, 0.6890243902439024, 0.6871165644171779, 0.691358024691358, 0.6894409937888198, 0.69375, 0.6918238993710691, 0.6962025316455697, 0.6942675159235668, 0.6987179487179487, 0.7032258064516129, 0.7012987012987013, 0.7058823529411765, 0.7039473684210527, 0.7019867549668874, 0.7, 0.697986577181208, 0.6959459459459459, 0.6938775510204082, 0.6917808219178082, 0.6896551724137931, 0.6944444444444444, 0.6993006993006993, 0.6971830985915493, 0.7021276595744681, 0.7071428571428572, 0.7050359712230215, 0.7101449275362319, 0.708029197080292, 0.7058823529411765, 0.7111111111111111, 0.7089552238805971, 0.706766917293233, 0.7121212121212122, 0.7175572519083969, 0.7153846153846154, 0.7131782945736435, 0.71875, 0.7244094488188977, 0.7222222222222222, 0.728, 0.7258064516129032, 0.7235772357723578, 0.7213114754098361, 0.7272727272727273, 0.7333333333333333, 0.7310924369747899, 0.7288135593220338, 0.7350427350427351, 0.7413793103448276, 0.7391304347826086, 0.7368421052631579, 0.7345132743362832, 0.7321428571428571, 0.7297297297297297, 0.7363636363636363, 0.7339449541284404, 0.7407407407407407, 0.7383177570093458, 0.7358490566037735, 0.7333333333333333, 0.7403846153846154, 0.7475728155339806, 0.7549019607843137, 0.7623762376237624, 0.76, 0.7676767676767676, 0.7653061224489796, 0.7628865979381443, 0.7604166666666666, 0.7578947368421053, 0.7553191489361702, 0.7634408602150538, 0.7717391304347826, 0.7692307692307693, 0.7666666666666667, 0.7640449438202247, 0.7727272727272727, 0.7816091954022989, 0.7790697674418605, 0.7764705882352941, 0.7738095238095238, 0.7831325301204819, 0.7804878048780488, 0.7901234567901234, 0.7875, 0.7848101265822784, 0.782051282051282, 0.7792207792207793, 0.7763157894736842, 0.7733333333333333, 0.7837837837837838, 0.7945205479452054, 0.7916666666666666, 0.8028169014084507, 0.8, 0.8115942028985508, 0.8088235294117647, 0.8059701492537313, 0.803030303030303, 0.8, 0.8125, 0.8095238095238095, 0.8064516129032258, 0.8032786885245902, 0.8, 0.7966101694915254, 0.8103448275862069, 0.8070175438596491, 0.8214285714285714, 0.8363636363636363, 0.8333333333333334, 0.8301886792452831, 0.8269230769230769, 0.8235294117647058, 0.82, 0.8367346938775511, 0.8333333333333334, 0.851063829787234, 0.8478260869565217, 0.8444444444444444, 0.8409090909090909, 0.8333333333333334, 0.8536585365853658, 0.85, 0.8717948717948718, 0.8947368421052632, 0.8918918918918919, 0.8888888888888888, 0.8857142857142857, 0.8823529411764706, 0.9090909090909091, 0.90625, 0.9032258064516129, 0.9, 0.896551724137931, 0.8928571428571429, 0.8888888888888888, 0.8846153846153846, 0.88, 0.875, 0.8695652173913043, 0.8636363636363636, 0.9047619047619048, 0.9, 0.8947368421052632, 0.8888888888888888, 0.8823529411764706, 0.9285714285714286, 0.9230769230769231, 0.9166666666666666, 0.9090909090909091, 1.0, 1.0, 1.0, 1.0, 1.0, 1.0, 1.0, 1.0, 1.0]}, {\"mode\": \"lines\", \"name\": \"SGB\", \"type\": \"scatter\", \"x\": [1.0, 0.9973262032085561, 0.9973262032085561, 0.9973262032085561, 0.9973262032085561, 0.9973262032085561, 0.9973262032085561, 0.9973262032085561, 0.9973262032085561, 0.9973262032085561, 0.9973262032085561, 0.9973262032085561, 0.9973262032085561, 0.9973262032085561, 0.9973262032085561, 0.9973262032085561, 0.9973262032085561, 0.9973262032085561, 0.9973262032085561, 0.9973262032085561, 0.9973262032085561, 0.9973262032085561, 0.9973262032085561, 0.9973262032085561, 0.9973262032085561, 0.9973262032085561, 0.9973262032085561, 0.9973262032085561, 0.9973262032085561, 0.9973262032085561, 0.9973262032085561, 0.9973262032085561, 0.9973262032085561, 0.9973262032085561, 0.9973262032085561, 0.9973262032085561, 0.9973262032085561, 0.9946524064171123, 0.9946524064171123, 0.9946524064171123, 0.9946524064171123, 0.9946524064171123, 0.9946524064171123, 0.9946524064171123, 0.9946524064171123, 0.9946524064171123, 0.9946524064171123, 0.9946524064171123, 0.9946524064171123, 0.9946524064171123, 0.9946524064171123, 0.9946524064171123, 0.9946524064171123, 0.9946524064171123, 0.9946524064171123, 0.9946524064171123, 0.9946524064171123, 0.9946524064171123, 0.9946524064171123, 0.9946524064171123, 0.9946524064171123, 0.9946524064171123, 0.9946524064171123, 0.9946524064171123, 0.9946524064171123, 0.9946524064171123, 0.9946524064171123, 0.9946524064171123, 0.9946524064171123, 0.9946524064171123, 0.9946524064171123, 0.9946524064171123, 0.9946524064171123, 0.9946524064171123, 0.9946524064171123, 0.9946524064171123, 0.9946524064171123, 0.9946524064171123, 0.9946524064171123, 0.9946524064171123, 0.9946524064171123, 0.9946524064171123, 0.9946524064171123, 0.9946524064171123, 0.9946524064171123, 0.9919786096256684, 0.9919786096256684, 0.9919786096256684, 0.9919786096256684, 0.9919786096256684, 0.9919786096256684, 0.9919786096256684, 0.9919786096256684, 0.9919786096256684, 0.9919786096256684, 0.9919786096256684, 0.9919786096256684, 0.9919786096256684, 0.9919786096256684, 0.9919786096256684, 0.9919786096256684, 0.9893048128342246, 0.9893048128342246, 0.9893048128342246, 0.9893048128342246, 0.9893048128342246, 0.9893048128342246, 0.9893048128342246, 0.9893048128342246, 0.9893048128342246, 0.9893048128342246, 0.9893048128342246, 0.9893048128342246, 0.9893048128342246, 0.9893048128342246, 0.9893048128342246, 0.9893048128342246, 0.9893048128342246, 0.9893048128342246, 0.9893048128342246, 0.9893048128342246, 0.9893048128342246, 0.9893048128342246, 0.9893048128342246, 0.9893048128342246, 0.9893048128342246, 0.9893048128342246, 0.9893048128342246, 0.9893048128342246, 0.9893048128342246, 0.9893048128342246, 0.9893048128342246, 0.9893048128342246, 0.9893048128342246, 0.9893048128342246, 0.9893048128342246, 0.9893048128342246, 0.9893048128342246, 0.9893048128342246, 0.9893048128342246, 0.9893048128342246, 0.9893048128342246, 0.9893048128342246, 0.9893048128342246, 0.9893048128342246, 0.9893048128342246, 0.9893048128342246, 0.9893048128342246, 0.9893048128342246, 0.9893048128342246, 0.9893048128342246, 0.9893048128342246, 0.9893048128342246, 0.9893048128342246, 0.9893048128342246, 0.9893048128342246, 0.9893048128342246, 0.9893048128342246, 0.9893048128342246, 0.9893048128342246, 0.9893048128342246, 0.9893048128342246, 0.9893048128342246, 0.9893048128342246, 0.9893048128342246, 0.9893048128342246, 0.9893048128342246, 0.9893048128342246, 0.9893048128342246, 0.9893048128342246, 0.9893048128342246, 0.9893048128342246, 0.9893048128342246, 0.9893048128342246, 0.9893048128342246, 0.9893048128342246, 0.9893048128342246, 0.9893048128342246, 0.9893048128342246, 0.9893048128342246, 0.9893048128342246, 0.9893048128342246, 0.9893048128342246, 0.9893048128342246, 0.9893048128342246, 0.9893048128342246, 0.9893048128342246, 0.9893048128342246, 0.9893048128342246, 0.9893048128342246, 0.9893048128342246, 0.9893048128342246, 0.9893048128342246, 0.9893048128342246, 0.9893048128342246, 0.9893048128342246, 0.9893048128342246, 0.9893048128342246, 0.9893048128342246, 0.9893048128342246, 0.9893048128342246, 0.9893048128342246, 0.9893048128342246, 0.9893048128342246, 0.9893048128342246, 0.9893048128342246, 0.9893048128342246, 0.9893048128342246, 0.9893048128342246, 0.9893048128342246, 0.9893048128342246, 0.9893048128342246, 0.9893048128342246, 0.9893048128342246, 0.9893048128342246, 0.9893048128342246, 0.9893048128342246, 0.9893048128342246, 0.9893048128342246, 0.9893048128342246, 0.9893048128342246, 0.9893048128342246, 0.9893048128342246, 0.9893048128342246, 0.9893048128342246, 0.9866310160427807, 0.9866310160427807, 0.9866310160427807, 0.9866310160427807, 0.9866310160427807, 0.9866310160427807, 0.9866310160427807, 0.9866310160427807, 0.9866310160427807, 0.9866310160427807, 0.9866310160427807, 0.9866310160427807, 0.983957219251337, 0.983957219251337, 0.983957219251337, 0.983957219251337, 0.983957219251337, 0.983957219251337, 0.983957219251337, 0.983957219251337, 0.983957219251337, 0.983957219251337, 0.983957219251337, 0.983957219251337, 0.983957219251337, 0.983957219251337, 0.983957219251337, 0.983957219251337, 0.983957219251337, 0.983957219251337, 0.983957219251337, 0.983957219251337, 0.983957219251337, 0.983957219251337, 0.983957219251337, 0.983957219251337, 0.983957219251337, 0.983957219251337, 0.983957219251337, 0.983957219251337, 0.983957219251337, 0.983957219251337, 0.983957219251337, 0.983957219251337, 0.983957219251337, 0.983957219251337, 0.983957219251337, 0.983957219251337, 0.983957219251337, 0.983957219251337, 0.983957219251337, 0.983957219251337, 0.983957219251337, 0.983957219251337, 0.983957219251337, 0.983957219251337, 0.983957219251337, 0.983957219251337, 0.983957219251337, 0.983957219251337, 0.9812834224598931, 0.9812834224598931, 0.9812834224598931, 0.9812834224598931, 0.9812834224598931, 0.9786096256684492, 0.9786096256684492, 0.9786096256684492, 0.9786096256684492, 0.9786096256684492, 0.9786096256684492, 0.9786096256684492, 0.9786096256684492, 0.9759358288770054, 0.9759358288770054, 0.9759358288770054, 0.9759358288770054, 0.9759358288770054, 0.9759358288770054, 0.9759358288770054, 0.9759358288770054, 0.9759358288770054, 0.9759358288770054, 0.9732620320855615, 0.9732620320855615, 0.9732620320855615, 0.9732620320855615, 0.9732620320855615, 0.9732620320855615, 0.9732620320855615, 0.9732620320855615, 0.9732620320855615, 0.9732620320855615, 0.9732620320855615, 0.9732620320855615, 0.9732620320855615, 0.9705882352941176, 0.9705882352941176, 0.9705882352941176, 0.9705882352941176, 0.9705882352941176, 0.9705882352941176, 0.9705882352941176, 0.9679144385026738, 0.9679144385026738, 0.9679144385026738, 0.9679144385026738, 0.9679144385026738, 0.9679144385026738, 0.9679144385026738, 0.9652406417112299, 0.9652406417112299, 0.9652406417112299, 0.9652406417112299, 0.9652406417112299, 0.9652406417112299, 0.9652406417112299, 0.9652406417112299, 0.9652406417112299, 0.9652406417112299, 0.9652406417112299, 0.9652406417112299, 0.9652406417112299, 0.9652406417112299, 0.9652406417112299, 0.9652406417112299, 0.9652406417112299, 0.9652406417112299, 0.9652406417112299, 0.9652406417112299, 0.9652406417112299, 0.9652406417112299, 0.9652406417112299, 0.9652406417112299, 0.9652406417112299, 0.9652406417112299, 0.9652406417112299, 0.9652406417112299, 0.9652406417112299, 0.9625668449197861, 0.9598930481283422, 0.9598930481283422, 0.9598930481283422, 0.9572192513368984, 0.9572192513368984, 0.9572192513368984, 0.9572192513368984, 0.9572192513368984, 0.9572192513368984, 0.9572192513368984, 0.9572192513368984, 0.9545454545454546, 0.9545454545454546, 0.9545454545454546, 0.9545454545454546, 0.9545454545454546, 0.9545454545454546, 0.9545454545454546, 0.9545454545454546, 0.9545454545454546, 0.9518716577540107, 0.9518716577540107, 0.9518716577540107, 0.9518716577540107, 0.9518716577540107, 0.9518716577540107, 0.9518716577540107, 0.9518716577540107, 0.9518716577540107, 0.9518716577540107, 0.9518716577540107, 0.9518716577540107, 0.9518716577540107, 0.9518716577540107, 0.9491978609625669, 0.9491978609625669, 0.9491978609625669, 0.946524064171123, 0.946524064171123, 0.946524064171123, 0.946524064171123, 0.946524064171123, 0.9438502673796791, 0.9438502673796791, 0.9438502673796791, 0.9411764705882353, 0.9411764705882353, 0.9411764705882353, 0.9411764705882353, 0.9411764705882353, 0.9385026737967914, 0.9358288770053476, 0.9358288770053476, 0.9358288770053476, 0.9358288770053476, 0.9358288770053476, 0.9358288770053476, 0.9358288770053476, 0.9358288770053476, 0.9358288770053476, 0.9331550802139037, 0.9331550802139037, 0.9331550802139037, 0.9331550802139037, 0.9331550802139037, 0.9331550802139037, 0.9331550802139037, 0.9331550802139037, 0.9331550802139037, 0.9331550802139037, 0.9331550802139037, 0.9331550802139037, 0.9331550802139037, 0.9331550802139037, 0.93048128342246, 0.93048128342246, 0.93048128342246, 0.93048128342246, 0.93048128342246, 0.93048128342246, 0.93048128342246, 0.93048128342246, 0.93048128342246, 0.9278074866310161, 0.9278074866310161, 0.9278074866310161, 0.9278074866310161, 0.9278074866310161, 0.9251336898395722, 0.9251336898395722, 0.9251336898395722, 0.9251336898395722, 0.9251336898395722, 0.9251336898395722, 0.9251336898395722, 0.9251336898395722, 0.9251336898395722, 0.9251336898395722, 0.9251336898395722, 0.9251336898395722, 0.9251336898395722, 0.9251336898395722, 0.9251336898395722, 0.9251336898395722, 0.9251336898395722, 0.9251336898395722, 0.9251336898395722, 0.9251336898395722, 0.9224598930481284, 0.9224598930481284, 0.9224598930481284, 0.9224598930481284, 0.9224598930481284, 0.9224598930481284, 0.9224598930481284, 0.9224598930481284, 0.9224598930481284, 0.9224598930481284, 0.9224598930481284, 0.9224598930481284, 0.9224598930481284, 0.9224598930481284, 0.9224598930481284, 0.9224598930481284, 0.9224598930481284, 0.9224598930481284, 0.9224598930481284, 0.9197860962566845, 0.9197860962566845, 0.9197860962566845, 0.9197860962566845, 0.9197860962566845, 0.9197860962566845, 0.9197860962566845, 0.9171122994652406, 0.9171122994652406, 0.9144385026737968, 0.9117647058823529, 0.9117647058823529, 0.9117647058823529, 0.9117647058823529, 0.9117647058823529, 0.9117647058823529, 0.9117647058823529, 0.9117647058823529, 0.9117647058823529, 0.9117647058823529, 0.9117647058823529, 0.9117647058823529, 0.9117647058823529, 0.9117647058823529, 0.9090909090909091, 0.9090909090909091, 0.9090909090909091, 0.9090909090909091, 0.9090909090909091, 0.9064171122994652, 0.9037433155080213, 0.9037433155080213, 0.9037433155080213, 0.9037433155080213, 0.9037433155080213, 0.9010695187165776, 0.8983957219251337, 0.8983957219251337, 0.8957219251336899, 0.8957219251336899, 0.8957219251336899, 0.893048128342246, 0.893048128342246, 0.893048128342246, 0.893048128342246, 0.893048128342246, 0.893048128342246, 0.8903743315508021, 0.8903743315508021, 0.8903743315508021, 0.8903743315508021, 0.8877005347593583, 0.8877005347593583, 0.8877005347593583, 0.8877005347593583, 0.8877005347593583, 0.8877005347593583, 0.8877005347593583, 0.8877005347593583, 0.8877005347593583, 0.8877005347593583, 0.8877005347593583, 0.8877005347593583, 0.8850267379679144, 0.8850267379679144, 0.8850267379679144, 0.8850267379679144, 0.8823529411764706, 0.8796791443850267, 0.8770053475935828, 0.8743315508021391, 0.8716577540106952, 0.8716577540106952, 0.8716577540106952, 0.8716577540106952, 0.8716577540106952, 0.8689839572192514, 0.8689839572192514, 0.8689839572192514, 0.8663101604278075, 0.8663101604278075, 0.8636363636363636, 0.8636363636363636, 0.8636363636363636, 0.8609625668449198, 0.8609625668449198, 0.8609625668449198, 0.8609625668449198, 0.8609625668449198, 0.8609625668449198, 0.8582887700534759, 0.8582887700534759, 0.8582887700534759, 0.8582887700534759, 0.8556149732620321, 0.8529411764705882, 0.8529411764705882, 0.8502673796791443, 0.8502673796791443, 0.8502673796791443, 0.8502673796791443, 0.8502673796791443, 0.8502673796791443, 0.8475935828877005, 0.8475935828877005, 0.8475935828877005, 0.8475935828877005, 0.8475935828877005, 0.8475935828877005, 0.8475935828877005, 0.8475935828877005, 0.8475935828877005, 0.8449197860962567, 0.8449197860962567, 0.8449197860962567, 0.8449197860962567, 0.8449197860962567, 0.8449197860962567, 0.8422459893048129, 0.8422459893048129, 0.839572192513369, 0.839572192513369, 0.839572192513369, 0.839572192513369, 0.839572192513369, 0.8368983957219251, 0.8342245989304813, 0.8315508021390374, 0.8315508021390374, 0.8315508021390374, 0.8315508021390374, 0.8315508021390374, 0.8315508021390374, 0.8315508021390374, 0.8315508021390374, 0.8288770053475936, 0.8288770053475936, 0.8288770053475936, 0.8288770053475936, 0.8262032085561497, 0.8262032085561497, 0.8235294117647058, 0.8235294117647058, 0.8235294117647058, 0.820855614973262, 0.820855614973262, 0.820855614973262, 0.820855614973262, 0.820855614973262, 0.8181818181818182, 0.8181818181818182, 0.8181818181818182, 0.8181818181818182, 0.8181818181818182, 0.8181818181818182, 0.8181818181818182, 0.8155080213903744, 0.8128342245989305, 0.8128342245989305, 0.8128342245989305, 0.8128342245989305, 0.8128342245989305, 0.8128342245989305, 0.8128342245989305, 0.8128342245989305, 0.8128342245989305, 0.8128342245989305, 0.8128342245989305, 0.8128342245989305, 0.8101604278074866, 0.8101604278074866, 0.8101604278074866, 0.8101604278074866, 0.8101604278074866, 0.8101604278074866, 0.8074866310160428, 0.8074866310160428, 0.8074866310160428, 0.8048128342245989, 0.8048128342245989, 0.8048128342245989, 0.8048128342245989, 0.8048128342245989, 0.8021390374331551, 0.8021390374331551, 0.8021390374331551, 0.8021390374331551, 0.8021390374331551, 0.8021390374331551, 0.7994652406417112, 0.7994652406417112, 0.7994652406417112, 0.7994652406417112, 0.7994652406417112, 0.7994652406417112, 0.7994652406417112, 0.7994652406417112, 0.7967914438502673, 0.7967914438502673, 0.7967914438502673, 0.7967914438502673, 0.7967914438502673, 0.7967914438502673, 0.7967914438502673, 0.7967914438502673, 0.7967914438502673, 0.7967914438502673, 0.7967914438502673, 0.7967914438502673, 0.7967914438502673, 0.7941176470588235, 0.7941176470588235, 0.7914438502673797, 0.7887700534759359, 0.786096256684492, 0.786096256684492, 0.786096256684492, 0.786096256684492, 0.786096256684492, 0.786096256684492, 0.786096256684492, 0.786096256684492, 0.786096256684492, 0.786096256684492, 0.7834224598930482, 0.7834224598930482, 0.7834224598930482, 0.7807486631016043, 0.7780748663101604, 0.7754010695187166, 0.7727272727272727, 0.7700534759358288, 0.7700534759358288, 0.7700534759358288, 0.767379679144385, 0.7647058823529411, 0.7620320855614974, 0.7620320855614974, 0.7620320855614974, 0.7620320855614974, 0.7620320855614974, 0.7620320855614974, 0.7620320855614974, 0.7593582887700535, 0.7593582887700535, 0.7566844919786097, 0.7540106951871658, 0.7540106951871658, 0.7540106951871658, 0.7540106951871658, 0.7513368983957219, 0.7486631016042781, 0.7486631016042781, 0.7486631016042781, 0.7486631016042781, 0.7459893048128342, 0.7459893048128342, 0.7459893048128342, 0.7459893048128342, 0.7459893048128342, 0.7459893048128342, 0.7459893048128342, 0.7433155080213903, 0.7433155080213903, 0.7433155080213903, 0.7406417112299465, 0.7406417112299465, 0.7406417112299465, 0.7379679144385026, 0.7379679144385026, 0.7379679144385026, 0.7379679144385026, 0.7379679144385026, 0.7352941176470589, 0.732620320855615, 0.732620320855615, 0.732620320855615, 0.732620320855615, 0.7299465240641712, 0.7272727272727273, 0.7272727272727273, 0.7272727272727273, 0.7245989304812834, 0.7245989304812834, 0.7219251336898396, 0.7192513368983957, 0.7165775401069518, 0.713903743315508, 0.713903743315508, 0.713903743315508, 0.713903743315508, 0.713903743315508, 0.713903743315508, 0.713903743315508, 0.713903743315508, 0.713903743315508, 0.713903743315508, 0.7112299465240641, 0.7112299465240641, 0.7112299465240641, 0.7112299465240641, 0.7085561497326203, 0.7058823529411765, 0.7032085561497327, 0.7005347593582888, 0.7005347593582888, 0.7005347593582888, 0.7005347593582888, 0.6978609625668449, 0.6978609625668449, 0.6978609625668449, 0.6978609625668449, 0.6951871657754011, 0.6951871657754011, 0.6951871657754011, 0.6925133689839572, 0.6898395721925134, 0.6871657754010695, 0.6871657754010695, 0.6844919786096256, 0.6818181818181818, 0.6818181818181818, 0.6818181818181818, 0.679144385026738, 0.6764705882352942, 0.6764705882352942, 0.6764705882352942, 0.6764705882352942, 0.6764705882352942, 0.6764705882352942, 0.6737967914438503, 0.6711229946524064, 0.6711229946524064, 0.6711229946524064, 0.6711229946524064, 0.6711229946524064, 0.6684491978609626, 0.6684491978609626, 0.6657754010695187, 0.6657754010695187, 0.6657754010695187, 0.6631016042780749, 0.660427807486631, 0.660427807486631, 0.6577540106951871, 0.6577540106951871, 0.6550802139037433, 0.6550802139037433, 0.6524064171122995, 0.6524064171122995, 0.6524064171122995, 0.6497326203208557, 0.6497326203208557, 0.6470588235294118, 0.6443850267379679, 0.6443850267379679, 0.6417112299465241, 0.6417112299465241, 0.6417112299465241, 0.6390374331550802, 0.6390374331550802, 0.6390374331550802, 0.6390374331550802, 0.6390374331550802, 0.6390374331550802, 0.6390374331550802, 0.6390374331550802, 0.6390374331550802, 0.6363636363636364, 0.6336898395721925, 0.6310160427807486, 0.6310160427807486, 0.6310160427807486, 0.6283422459893048, 0.6283422459893048, 0.6283422459893048, 0.6283422459893048, 0.6283422459893048, 0.6256684491978609, 0.6256684491978609, 0.6256684491978609, 0.6256684491978609, 0.6256684491978609, 0.6256684491978609, 0.6229946524064172, 0.6203208556149733, 0.6203208556149733, 0.6176470588235294, 0.6176470588235294, 0.6149732620320856, 0.6149732620320856, 0.6149732620320856, 0.6149732620320856, 0.6122994652406417, 0.6122994652406417, 0.6122994652406417, 0.6122994652406417, 0.6122994652406417, 0.6122994652406417, 0.6096256684491979, 0.6096256684491979, 0.6096256684491979, 0.6096256684491979, 0.606951871657754, 0.606951871657754, 0.6042780748663101, 0.6042780748663101, 0.6016042780748663, 0.5989304812834224, 0.5962566844919787, 0.5935828877005348, 0.5935828877005348, 0.5935828877005348, 0.5935828877005348, 0.5935828877005348, 0.5935828877005348, 0.5935828877005348, 0.5935828877005348, 0.5909090909090909, 0.5882352941176471, 0.5855614973262032, 0.5828877005347594, 0.5828877005347594, 0.5828877005347594, 0.5828877005347594, 0.5828877005347594, 0.5828877005347594, 0.5802139037433155, 0.5802139037433155, 0.5775401069518716, 0.5748663101604278, 0.5748663101604278, 0.5748663101604278, 0.5748663101604278, 0.5721925133689839, 0.5721925133689839, 0.5721925133689839, 0.5721925133689839, 0.5721925133689839, 0.5721925133689839, 0.5721925133689839, 0.5721925133689839, 0.5721925133689839, 0.56951871657754, 0.56951871657754, 0.56951871657754, 0.56951871657754, 0.56951871657754, 0.5668449197860963, 0.5668449197860963, 0.5668449197860963, 0.5668449197860963, 0.5641711229946524, 0.5641711229946524, 0.5614973262032086, 0.5588235294117647, 0.5561497326203209, 0.5561497326203209, 0.553475935828877, 0.553475935828877, 0.553475935828877, 0.5508021390374331, 0.5481283422459893, 0.5454545454545454, 0.5427807486631016, 0.5427807486631016, 0.5427807486631016, 0.5401069518716578, 0.5374331550802139, 0.5374331550802139, 0.5374331550802139, 0.5374331550802139, 0.5374331550802139, 0.5374331550802139, 0.5374331550802139, 0.5347593582887701, 0.5320855614973262, 0.5320855614973262, 0.5320855614973262, 0.5320855614973262, 0.5320855614973262, 0.5294117647058824, 0.5294117647058824, 0.5267379679144385, 0.5267379679144385, 0.5240641711229946, 0.5213903743315508, 0.5213903743315508, 0.5213903743315508, 0.5213903743315508, 0.5213903743315508, 0.5187165775401069, 0.5187165775401069, 0.5187165775401069, 0.5187165775401069, 0.5187165775401069, 0.5187165775401069, 0.5187165775401069, 0.5187165775401069, 0.5187165775401069, 0.5187165775401069, 0.5187165775401069, 0.5187165775401069, 0.5187165775401069, 0.516042780748663, 0.516042780748663, 0.5133689839572193, 0.5106951871657754, 0.5106951871657754, 0.5080213903743316, 0.5053475935828877, 0.5026737967914439, 0.5026737967914439, 0.5026737967914439, 0.5026737967914439, 0.5026737967914439, 0.5, 0.49732620320855614, 0.49732620320855614, 0.4946524064171123, 0.4946524064171123, 0.4919786096256685, 0.4919786096256685, 0.4893048128342246, 0.48663101604278075, 0.48663101604278075, 0.48663101604278075, 0.4839572192513369, 0.48128342245989303, 0.48128342245989303, 0.48128342245989303, 0.48128342245989303, 0.4786096256684492, 0.47593582887700536, 0.4732620320855615, 0.4732620320855615, 0.47058823529411764, 0.4679144385026738, 0.4679144385026738, 0.46524064171123, 0.4625668449197861, 0.4625668449197861, 0.45989304812834225, 0.45989304812834225, 0.4572192513368984, 0.45454545454545453, 0.45454545454545453, 0.45187165775401067, 0.44919786096256686, 0.446524064171123, 0.44385026737967914, 0.44385026737967914, 0.4411764705882353, 0.4385026737967914, 0.4385026737967914, 0.4385026737967914, 0.4385026737967914, 0.4385026737967914, 0.4385026737967914, 0.4358288770053476, 0.43315508021390375, 0.4304812834224599, 0.42780748663101603, 0.42513368983957217, 0.42513368983957217, 0.42245989304812837, 0.42245989304812837, 0.42245989304812837, 0.4197860962566845, 0.41711229946524064, 0.4144385026737968, 0.4144385026737968, 0.4144385026737968, 0.4117647058823529, 0.4090909090909091, 0.40641711229946526, 0.40641711229946526, 0.40641711229946526, 0.4037433155080214, 0.40106951871657753, 0.40106951871657753, 0.3983957219251337, 0.39572192513368987, 0.393048128342246, 0.39037433155080214, 0.3877005347593583, 0.3850267379679144, 0.3850267379679144, 0.38235294117647056, 0.38235294117647056, 0.38235294117647056, 0.38235294117647056, 0.37967914438502676, 0.37967914438502676, 0.3770053475935829, 0.37433155080213903, 0.37433155080213903, 0.3716577540106952, 0.3716577540106952, 0.3716577540106952, 0.3716577540106952, 0.3716577540106952, 0.3689839572192513, 0.3663101604278075, 0.3663101604278075, 0.3663101604278075, 0.3663101604278075, 0.3663101604278075, 0.3663101604278075, 0.36363636363636365, 0.3609625668449198, 0.3582887700534759, 0.3582887700534759, 0.35561497326203206, 0.35561497326203206, 0.35294117647058826, 0.35294117647058826, 0.35294117647058826, 0.35294117647058826, 0.3502673796791444, 0.3502673796791444, 0.34759358288770054, 0.34759358288770054, 0.3449197860962567, 0.3422459893048128, 0.3422459893048128, 0.3422459893048128, 0.3422459893048128, 0.339572192513369, 0.33689839572192515, 0.33689839572192515, 0.33689839572192515, 0.3342245989304813, 0.3342245989304813, 0.3342245989304813, 0.3315508021390374, 0.3315508021390374, 0.32887700534759357, 0.32620320855614976, 0.3235294117647059, 0.3235294117647059, 0.32085561497326204, 0.32085561497326204, 0.3181818181818182, 0.3181818181818182, 0.3181818181818182, 0.3155080213903743, 0.3155080213903743, 0.3155080213903743, 0.31283422459893045, 0.31283422459893045, 0.31283422459893045, 0.31016042780748665, 0.31016042780748665, 0.3074866310160428, 0.3074866310160428, 0.3074866310160428, 0.3048128342245989, 0.30213903743315507, 0.30213903743315507, 0.30213903743315507, 0.30213903743315507, 0.30213903743315507, 0.2994652406417112, 0.2967914438502674, 0.29411764705882354, 0.2914438502673797, 0.2914438502673797, 0.2887700534759358, 0.2887700534759358, 0.2887700534759358, 0.2887700534759358, 0.28609625668449196, 0.28342245989304815, 0.28342245989304815, 0.28342245989304815, 0.28342245989304815, 0.2807486631016043, 0.27807486631016043, 0.27807486631016043, 0.27540106951871657, 0.2727272727272727, 0.2700534759358289, 0.26737967914438504, 0.26737967914438504, 0.2647058823529412, 0.2620320855614973, 0.25935828877005346, 0.25935828877005346, 0.25668449197860965, 0.25668449197860965, 0.25668449197860965, 0.2540106951871658, 0.25133689839572193, 0.25133689839572193, 0.25133689839572193, 0.24866310160427807, 0.24598930481283424, 0.24331550802139038, 0.24064171122994651, 0.23796791443850268, 0.23796791443850268, 0.23529411764705882, 0.23529411764705882, 0.232620320855615, 0.232620320855615, 0.22994652406417113, 0.22727272727272727, 0.22727272727272727, 0.22459893048128343, 0.22192513368983957, 0.2192513368983957, 0.21657754010695188, 0.21657754010695188, 0.21390374331550802, 0.21122994652406418, 0.20855614973262032, 0.20588235294117646, 0.20320855614973263, 0.20053475935828877, 0.20053475935828877, 0.19786096256684493, 0.19786096256684493, 0.19786096256684493, 0.19518716577540107, 0.1925133689839572, 0.18983957219251338, 0.18716577540106952, 0.18449197860962566, 0.18449197860962566, 0.18181818181818182, 0.17914438502673796, 0.17647058823529413, 0.17379679144385027, 0.1711229946524064, 0.1711229946524064, 0.16844919786096257, 0.1657754010695187, 0.16310160427807488, 0.16310160427807488, 0.16042780748663102, 0.16042780748663102, 0.15775401069518716, 0.15508021390374332, 0.15240641711229946, 0.15240641711229946, 0.1497326203208556, 0.14705882352941177, 0.1443850267379679, 0.1443850267379679, 0.14171122994652408, 0.13903743315508021, 0.13636363636363635, 0.13636363636363635, 0.13368983957219252, 0.13101604278074866, 0.12834224598930483, 0.12834224598930483, 0.12566844919786097, 0.12566844919786097, 0.12299465240641712, 0.12299465240641712, 0.12299465240641712, 0.12032085561497326, 0.11764705882352941, 0.11764705882352941, 0.11497326203208556, 0.11229946524064172, 0.10962566844919786, 0.10695187165775401, 0.10427807486631016, 0.10427807486631016, 0.10160427807486631, 0.09893048128342247, 0.0962566844919786, 0.09358288770053476, 0.09090909090909091, 0.09090909090909091, 0.08823529411764706, 0.0855614973262032, 0.08288770053475936, 0.08021390374331551, 0.07754010695187166, 0.0748663101604278, 0.07219251336898395, 0.06951871657754011, 0.06684491978609626, 0.06417112299465241, 0.06149732620320856, 0.058823529411764705, 0.05614973262032086, 0.053475935828877004, 0.05080213903743316, 0.0481283422459893, 0.045454545454545456, 0.0427807486631016, 0.040106951871657755, 0.0374331550802139, 0.034759358288770054, 0.03208556149732621, 0.03208556149732621, 0.03208556149732621, 0.03208556149732621, 0.029411764705882353, 0.026737967914438502, 0.02406417112299465, 0.01871657754010695, 0.016042780748663103, 0.013368983957219251, 0.0106951871657754, 0.008021390374331552, 0.0053475935828877, 0.0, 0.0], \"y\": [0.28527841342486654, 0.28473282442748094, 0.2849503437738732, 0.2851681957186544, 0.28538638102524866, 0.28560490045941805, 0.285823754789272, 0.2860429447852761, 0.28626247122026094, 0.28648233486943164, 0.28670253651037664, 0.28692307692307695, 0.28714395688991534, 0.28736517719568566, 0.28758673862760215, 0.28780864197530864, 0.28803088803088805, 0.2882534775888717, 0.288476411446249, 0.2886996904024768, 0.2889233152594888, 0.28914728682170543, 0.28937160589604344, 0.28959627329192544, 0.2898212898212898, 0.2900466562986003, 0.29027237354085605, 0.29049844236760125, 0.2907248636009353, 0.2909516380655226, 0.29117876658860264, 0.29140625, 0.29163408913213446, 0.2918622848200313, 0.2920908379013312, 0.29231974921630094, 0.29254901960784313, 0.29199372056514916, 0.2922230950510605, 0.29245283018867924, 0.2926829268292683, 0.2929133858267717, 0.29314420803782504, 0.29337539432176657, 0.2936069455406472, 0.2938388625592417, 0.2940711462450593, 0.29430379746835444, 0.29453681710213775, 0.294770206022187, 0.2950039651070579, 0.29523809523809524, 0.29547259729944403, 0.2957074721780604, 0.29594272076372313, 0.2961783439490446, 0.2964143426294821, 0.2966507177033493, 0.2968874700718276, 0.2971246006389776, 0.2973621103117506, 0.2976, 0.2978382706164932, 0.2980769230769231, 0.2983159582999198, 0.2985553772070626, 0.2987951807228916, 0.2990353697749196, 0.29927594529364443, 0.2995169082125604, 0.2997582594681708, 0.3, 0.30024213075060535, 0.30048465266558966, 0.30072756669361356, 0.30097087378640774, 0.30121457489878545, 0.3014586709886548, 0.30170316301703165, 0.30194805194805197, 0.3021933387489846, 0.3024390243902439, 0.30268510984540276, 0.30293159609120524, 0.30317848410757947, 0.30261011419249595, 0.3028571428571429, 0.30310457516339867, 0.30335241210139, 0.30360065466448444, 0.30384930384930386, 0.3040983606557377, 0.30434782608695654, 0.3045977011494253, 0.3050986842105263, 0.30534979423868314, 0.3056013179571664, 0.30585325638911787, 0.3061056105610561, 0.3063583815028902, 0.3066115702479339, 0.30603804797353185, 0.30629139072847683, 0.30654515327257664, 0.3067993366500829, 0.3070539419087137, 0.3073089700996678, 0.30756442227763925, 0.30782029950083195, 0.3080766028309742, 0.30833333333333335, 0.3085904920767306, 0.3088480801335559, 0.3091060985797828, 0.3093645484949833, 0.30962343096234307, 0.3098827470686767, 0.3101424979044426, 0.3104026845637584, 0.31066330814441645, 0.31092436974789917, 0.31118587047939444, 0.3114478114478115, 0.3117101937657961, 0.31197301854974707, 0.31223628691983124, 0.3125, 0.3127641589180051, 0.3130287648054145, 0.31329381879762913, 0.3135593220338983, 0.3138252756573367, 0.3140916808149406, 0.3143585386576041, 0.31462585034013607, 0.3148936170212766, 0.3151618398637138, 0.3154305200341006, 0.31569965870307165, 0.31596925704526047, 0.3162393162393162, 0.3165098374679213, 0.3167808219178082, 0.3170522707797772, 0.31732418524871353, 0.31759656652360513, 0.3178694158075601, 0.3181427343078246, 0.31841652323580033, 0.3186907838070629, 0.31896551724137934, 0.31924072476272647, 0.31951640759930916, 0.3197925669835782, 0.32006920415224915, 0.3203463203463203, 0.32062391681109187, 0.32090199479618386, 0.3211805555555556, 0.3214596003475239, 0.3217391304347826, 0.32201914708442125, 0.32229965156794427, 0.3225806451612903, 0.3228621291448517, 0.3231441048034934, 0.32342657342657344, 0.3237095363079615, 0.3239929947460595, 0.32427695004382123, 0.32456140350877194, 0.32484635645302895, 0.3251318101933216, 0.3254177660510114, 0.3257042253521127, 0.32599118942731276, 0.3262786596119929, 0.3265666372462489, 0.32685512367491165, 0.3271441202475685, 0.3274336283185841, 0.32772364924712133, 0.3280141843971631, 0.3283052351375333, 0.3285968028419183, 0.3288888888888889, 0.3291814946619217, 0.3294746215494212, 0.32976827094474154, 0.33006244424620873, 0.33035714285714285, 0.33065236818588023, 0.33094812164579607, 0.3312444046553268, 0.33154121863799285, 0.33183856502242154, 0.33213644524236985, 0.33243486073674755, 0.3327338129496403, 0.33303330333033304, 0.3333333333333333, 0.33363390441839497, 0.33393501805054154, 0.33423667570009036, 0.3345388788426763, 0.334841628959276, 0.3351449275362319, 0.3354487760652765, 0.33575317604355714, 0.33605812897366033, 0.33636363636363636, 0.33666969972702454, 0.33697632058287796, 0.33728350045578853, 0.3375912408759124, 0.3378995433789954, 0.3382084095063985, 0.33851784080512354, 0.33882783882783885, 0.3391384051329056, 0.3394495412844037, 0.3397612488521579, 0.3400735294117647, 0.3403863845446182, 0.3406998158379374, 0.3400921658986175, 0.3404059040590406, 0.3407202216066482, 0.3410351201478743, 0.34135060129509714, 0.3416666666666667, 0.34198331788693237, 0.3423005565862709, 0.3426183844011142, 0.3429368029739777, 0.34325581395348836, 0.3435754189944134, 0.3429636533084809, 0.34328358208955223, 0.34360410830999066, 0.34392523364485983, 0.34424695977549113, 0.3445692883895131, 0.344892221180881, 0.3452157598499062, 0.3455399061032864, 0.3458646616541353, 0.34619002822201317, 0.3465160075329567, 0.3468426013195099, 0.3471698113207547, 0.34749763928234184, 0.34782608695652173, 0.34815515610217596, 0.3484848484848485, 0.34881516587677724, 0.349146110056926, 0.34947768281101615, 0.34980988593155893, 0.35014272121788775, 0.3504761904761905, 0.3508102955195424, 0.3511450381679389, 0.35148042024832854, 0.35181644359464626, 0.3521531100478469, 0.3524904214559387, 0.35282837967401726, 0.3531669865642994, 0.35350624399615754, 0.35384615384615387, 0.35418671799807505, 0.35452793834296725, 0.3548698167791707, 0.3552123552123552, 0.35555555555555557, 0.35589941972920697, 0.356243949661181, 0.35658914728682173, 0.3569350145489816, 0.3572815533980582, 0.3576287657920311, 0.35797665369649806, 0.35832521908471276, 0.3586744639376218, 0.35804878048780486, 0.3583984375, 0.3587487781036168, 0.35909980430528377, 0.3594515181194907, 0.3588235294117647, 0.3591756624141315, 0.35952848722986247, 0.35988200589970504, 0.36023622047244097, 0.3605911330049261, 0.3609467455621302, 0.36130306021717673, 0.3606719367588933, 0.361028684470821, 0.3613861386138614, 0.36174430128840435, 0.3621031746031746, 0.3624627606752731, 0.3628230616302187, 0.36318407960199006, 0.36354581673306774, 0.36390827517447655, 0.36327345309381237, 0.36363636363636365, 0.364, 0.36436436436436437, 0.36472945891783565, 0.3650952858575727, 0.3654618473895582, 0.3658291457286432, 0.36619718309859156, 0.36656596173212486, 0.36693548387096775, 0.36730575176589303, 0.36767676767676766, 0.36703741152679475, 0.3674089068825911, 0.3677811550151976, 0.36815415821501013, 0.36852791878172586, 0.36890243902439024, 0.36927772126144454, 0.36863543788187375, 0.3690112130479103, 0.3693877551020408, 0.36976506639427986, 0.37014314928425357, 0.3705220061412487, 0.3709016393442623, 0.37025641025641026, 0.37063655030800824, 0.3710174717368962, 0.3713991769547325, 0.3717816683831102, 0.37216494845360826, 0.37254901960784315, 0.37293388429752067, 0.3733195449844881, 0.37370600414078675, 0.37409326424870465, 0.3744813278008299, 0.37487019730010385, 0.37525987525987525, 0.3756503642039542, 0.37604166666666666, 0.37643378519290926, 0.3768267223382046, 0.3772204806687565, 0.3776150627615063, 0.37801047120418846, 0.37840670859538783, 0.378803777544596, 0.3792016806722689, 0.37960042060988436, 0.38, 0.3804004214963119, 0.3808016877637131, 0.3812038014783527, 0.38054968287526425, 0.3798941798941799, 0.3802966101694915, 0.3806998939554613, 0.38004246284501064, 0.3804463336875664, 0.38085106382978723, 0.3812566560170394, 0.3816631130063966, 0.3820704375667022, 0.38247863247863245, 0.38288770053475935, 0.3822269807280514, 0.38263665594855306, 0.3830472103004292, 0.38345864661654133, 0.38387096774193546, 0.38428417653390745, 0.38469827586206895, 0.3851132686084142, 0.3855291576673866, 0.3848648648648649, 0.3852813852813853, 0.3856988082340195, 0.38611713665943603, 0.38653637350705755, 0.3869565217391304, 0.38737758433079433, 0.3877995642701525, 0.3882224645583424, 0.388646288209607, 0.38907103825136613, 0.38949671772428884, 0.3899233296823658, 0.39035087719298245, 0.3896816684961581, 0.3901098901098901, 0.39053905390539057, 0.3898678414096916, 0.39029768467475195, 0.39072847682119205, 0.3911602209944751, 0.3915929203539823, 0.3909191583610188, 0.39135254988913526, 0.39178690344062156, 0.39111111111111113, 0.39154616240266965, 0.39198218262806234, 0.39241917502787066, 0.39285714285714285, 0.39217877094972065, 0.39149888143176736, 0.3919372900335946, 0.3923766816143498, 0.39281705948372614, 0.39325842696629215, 0.3937007874015748, 0.39414414414414417, 0.3945885005636979, 0.39503386004514673, 0.3943502824858757, 0.3947963800904977, 0.3952434881087203, 0.3956916099773243, 0.3961407491486947, 0.3965909090909091, 0.3970420932878271, 0.39749430523917995, 0.3979475484606613, 0.3984018264840183, 0.39885714285714285, 0.39931350114416475, 0.3997709049255441, 0.40022935779816515, 0.399540757749713, 0.4, 0.4004602991944764, 0.4009216589861751, 0.4013840830449827, 0.4018475750577367, 0.4023121387283237, 0.4027777777777778, 0.40324449594438005, 0.4025522041763341, 0.40301974448315914, 0.40348837209302324, 0.4039580908032596, 0.40442890442890445, 0.40373395565927656, 0.40420560747663553, 0.4046783625730994, 0.405152224824356, 0.4056271981242673, 0.4061032863849765, 0.40658049353701525, 0.40705882352941175, 0.4075382803297998, 0.4080188679245283, 0.4085005903187721, 0.408983451536643, 0.40946745562130177, 0.4099526066350711, 0.41043890865954924, 0.41092636579572445, 0.4114149821640904, 0.4119047619047619, 0.4123957091775924, 0.4128878281622912, 0.4121863799283154, 0.4126794258373206, 0.41317365269461076, 0.4136690647482014, 0.4141656662665066, 0.41466346153846156, 0.4151624548736462, 0.41566265060240964, 0.4161640530759952, 0.4166666666666667, 0.41717049576783555, 0.41767554479418884, 0.41818181818181815, 0.4186893203883495, 0.41919805589307413, 0.4197080291970803, 0.42021924482338613, 0.42073170731707316, 0.42124542124542125, 0.42053789731051344, 0.42105263157894735, 0.4215686274509804, 0.42208588957055215, 0.4226044226044226, 0.4231242312423124, 0.4236453201970443, 0.42293464858199753, 0.42345679012345677, 0.4227441285537701, 0.422029702970297, 0.4225526641883519, 0.4230769230769231, 0.4236024844720497, 0.42412935323383083, 0.4246575342465753, 0.4251870324189526, 0.4257178526841448, 0.42625, 0.4267834793491865, 0.4273182957393484, 0.42785445420326224, 0.42839195979899497, 0.4289308176100629, 0.4282115869017632, 0.4287515762925599, 0.4292929292929293, 0.42983565107458915, 0.43037974683544306, 0.4296577946768061, 0.4289340101522843, 0.42947903430749684, 0.4300254452926209, 0.4305732484076433, 0.43112244897959184, 0.43039591315453385, 0.4296675191815857, 0.43021766965428937, 0.42948717948717946, 0.4300385109114249, 0.4305912596401028, 0.42985842985842987, 0.43041237113402064, 0.4309677419354839, 0.4315245478036176, 0.4320827943078913, 0.4326424870466321, 0.43190661478599224, 0.43246753246753245, 0.43302990897269183, 0.43359375, 0.43285528031290743, 0.43342036553524804, 0.4339869281045752, 0.43455497382198954, 0.4351245085190039, 0.4356955380577428, 0.43626806833114323, 0.4368421052631579, 0.43741765480895917, 0.43799472295514513, 0.4385733157199472, 0.43915343915343913, 0.4384105960264901, 0.4389920424403183, 0.4395750332005312, 0.4401595744680851, 0.4394141145139814, 0.43866666666666665, 0.4379172229639519, 0.43716577540106955, 0.4364123159303882, 0.43699731903485256, 0.4375838926174497, 0.4381720430107527, 0.4387617765814266, 0.4380053908355795, 0.43859649122807015, 0.4391891891891892, 0.43843031123139375, 0.43902439024390244, 0.43826322930800543, 0.4388586956521739, 0.43945578231292515, 0.43869209809264303, 0.4392905866302865, 0.43989071038251365, 0.44049247606019154, 0.4410958904109589, 0.44170096021947874, 0.4409340659340659, 0.44154057771664373, 0.44214876033057854, 0.44275862068965516, 0.4419889502762431, 0.4412171507607192, 0.44182825484764543, 0.44105409153952846, 0.44166666666666665, 0.4422809457579972, 0.4428969359331476, 0.4435146443514644, 0.4441340782122905, 0.4433566433566434, 0.44397759103641454, 0.44460028050490885, 0.4452247191011236, 0.44585091420534456, 0.44647887323943664, 0.44710860366713684, 0.4477401129943503, 0.44837340876944837, 0.4475920679886686, 0.4482269503546099, 0.44886363636363635, 0.44950213371266, 0.45014245014245013, 0.4507845934379458, 0.45, 0.45064377682403434, 0.4498567335243553, 0.45050215208034433, 0.4511494252873563, 0.45179856115107914, 0.45244956772334294, 0.45165945165945165, 0.4508670520231214, 0.45007235890014474, 0.45072463768115945, 0.4513788098693759, 0.45203488372093026, 0.45269286754002913, 0.45335276967930027, 0.454014598540146, 0.4546783625730994, 0.4538799414348463, 0.45454545454545453, 0.4552129221732746, 0.45588235294117646, 0.45508100147275404, 0.4557522123893805, 0.4549483013293944, 0.4556213017751479, 0.4562962962962963, 0.45548961424332346, 0.4561664190193165, 0.4568452380952381, 0.45752608047690013, 0.4582089552238806, 0.45739910313901344, 0.45808383233532934, 0.4587706146926537, 0.4594594594594595, 0.46015037593984964, 0.4608433734939759, 0.46153846153846156, 0.4607250755287009, 0.4599092284417549, 0.46060606060606063, 0.4613050075872534, 0.46200607902735563, 0.4627092846270928, 0.4634146341463415, 0.46412213740458014, 0.4648318042813456, 0.4655436447166922, 0.4662576687116564, 0.46697388632872505, 0.4676923076923077, 0.46687211093990755, 0.4675925925925926, 0.46831530139103555, 0.46904024767801855, 0.4697674418604651, 0.4704968944099379, 0.46967340590979784, 0.470404984423676, 0.4711388455538221, 0.4703125, 0.47104851330203446, 0.4717868338557994, 0.4725274725274725, 0.47327044025157233, 0.47244094488188976, 0.47318611987381703, 0.47393364928909953, 0.47468354430379744, 0.4754358161648177, 0.47619047619047616, 0.4753577106518283, 0.47611464968152867, 0.4768740031897927, 0.4776357827476038, 0.4784, 0.4791666666666667, 0.4799357945425361, 0.4807073954983923, 0.47987117552334946, 0.4806451612903226, 0.481421647819063, 0.48220064724919093, 0.4829821717990275, 0.4837662337662338, 0.4845528455284553, 0.48534201954397393, 0.48613376835236544, 0.4869281045751634, 0.4877250409165303, 0.4885245901639344, 0.48932676518883417, 0.48848684210526316, 0.48929159802306427, 0.4884488448844885, 0.48760330578512395, 0.4867549668874172, 0.48756218905472637, 0.4883720930232558, 0.4891846921797005, 0.49, 0.49081803005008345, 0.4916387959866221, 0.49246231155778897, 0.49328859060402686, 0.49411764705882355, 0.49326599326599324, 0.49409780775716694, 0.49493243243243246, 0.494077834179357, 0.49322033898305084, 0.4923599320882852, 0.4914965986394558, 0.4906303236797274, 0.49146757679180886, 0.49230769230769234, 0.4914383561643836, 0.49056603773584906, 0.4896907216494845, 0.4905335628227194, 0.49137931034482757, 0.49222797927461137, 0.4930795847750865, 0.49393414211438474, 0.4947916666666667, 0.49391304347826087, 0.49477351916376305, 0.493891797556719, 0.493006993006993, 0.4938704028021016, 0.49473684210526314, 0.4956063268892794, 0.49559082892416223, 0.49469964664310956, 0.49557522123893805, 0.49645390070921985, 0.49733570159857904, 0.49644128113879005, 0.49732620320855614, 0.4982142857142857, 0.4991055456171735, 0.5, 0.5008976660682226, 0.5017985611510791, 0.5009009009009009, 0.5018050541516246, 0.5027124773960217, 0.5018115942028986, 0.5027223230490018, 0.5036363636363637, 0.5027322404371585, 0.5036496350364964, 0.5045703839122486, 0.5054945054945055, 0.5064220183486239, 0.5055147058823529, 0.5046040515653776, 0.5055350553505535, 0.5064695009242144, 0.5074074074074074, 0.5064935064935064, 0.5055762081784386, 0.5065176908752328, 0.5074626865671642, 0.5065420560747663, 0.5074906367041199, 0.5065666041275797, 0.5056390977443609, 0.504708097928437, 0.5037735849056604, 0.504725897920605, 0.5056818181818182, 0.5066413662239089, 0.5076045627376425, 0.5085714285714286, 0.5095419847328244, 0.5105162523900574, 0.5114942528735632, 0.5124760076775432, 0.5115384615384615, 0.51252408477842, 0.5135135135135135, 0.5145067698259188, 0.5135658914728682, 0.512621359223301, 0.5116731517509727, 0.5107212475633528, 0.51171875, 0.512720156555773, 0.5137254901960784, 0.5127701375245579, 0.5137795275590551, 0.514792899408284, 0.5158102766798419, 0.5148514851485149, 0.5158730158730159, 0.5168986083499006, 0.5159362549800797, 0.5149700598802395, 0.514, 0.5150300601202404, 0.5140562248995983, 0.5130784708249497, 0.5141129032258065, 0.5151515151515151, 0.5141700404858299, 0.513184584178499, 0.5142276422764228, 0.515274949083503, 0.5163265306122449, 0.5173824130879345, 0.5184426229508197, 0.5174537987679672, 0.5164609053497943, 0.5175257731958763, 0.518595041322314, 0.5196687370600414, 0.520746887966805, 0.5197505197505198, 0.5208333333333334, 0.5198329853862212, 0.5209205020920502, 0.5220125786163522, 0.5210084033613446, 0.52, 0.5210970464135021, 0.5200845665961945, 0.5211864406779662, 0.5201698513800425, 0.5212765957446809, 0.5202558635394456, 0.5213675213675214, 0.5224839400428265, 0.5214592274678111, 0.5225806451612903, 0.521551724137931, 0.5205183585313174, 0.5216450216450217, 0.5206073752711496, 0.5217391304347826, 0.5228758169934641, 0.5218340611353712, 0.5229759299781181, 0.5241228070175439, 0.5252747252747253, 0.526431718061674, 0.5275938189845475, 0.5287610619469026, 0.5299334811529933, 0.5311111111111111, 0.5300668151447662, 0.5290178571428571, 0.5279642058165548, 0.5291479820627802, 0.5303370786516854, 0.5292792792792793, 0.5304740406320542, 0.5316742081447964, 0.5328798185941043, 0.5340909090909091, 0.5330296127562643, 0.5342465753424658, 0.5354691075514875, 0.536697247706422, 0.5379310344827586, 0.5391705069124424, 0.5381062355658198, 0.5370370370370371, 0.5382830626450116, 0.5372093023255814, 0.5384615384615384, 0.5373831775700935, 0.5386416861826698, 0.539906103286385, 0.5411764705882353, 0.5400943396226415, 0.541371158392435, 0.542654028436019, 0.5439429928741093, 0.5452380952380952, 0.5465393794749404, 0.5454545454545454, 0.5467625899280576, 0.5480769230769231, 0.5493975903614458, 0.5483091787439613, 0.549636803874092, 0.5485436893203883, 0.5498783454987834, 0.5487804878048781, 0.5476772616136919, 0.5465686274509803, 0.5454545454545454, 0.5467980295566502, 0.5481481481481482, 0.5495049504950495, 0.5508684863523573, 0.5522388059701493, 0.5536159600997507, 0.555, 0.5538847117794486, 0.5527638190954773, 0.5516372795969773, 0.5505050505050505, 0.5518987341772152, 0.5532994923857868, 0.55470737913486, 0.5561224489795918, 0.5575447570332481, 0.5564102564102564, 0.5578406169665809, 0.5567010309278351, 0.5555555555555556, 0.5569948186528497, 0.5584415584415584, 0.5598958333333334, 0.5587467362924282, 0.5602094240837696, 0.5616797900262467, 0.5631578947368421, 0.5646437994722955, 0.5661375661375662, 0.5676392572944297, 0.5691489361702128, 0.5706666666666667, 0.56951871657754, 0.5710455764075067, 0.5725806451612904, 0.5741239892183289, 0.5756756756756757, 0.5745257452574526, 0.5760869565217391, 0.5776566757493188, 0.5792349726775956, 0.5780821917808219, 0.5796703296703297, 0.5785123966942148, 0.5773480662983426, 0.5761772853185596, 0.5777777777777777, 0.5766016713091922, 0.5782122905027933, 0.5798319327731093, 0.5786516853932584, 0.5774647887323944, 0.576271186440678, 0.5750708215297451, 0.5767045454545454, 0.5783475783475783, 0.5771428571428572, 0.5759312320916905, 0.5775862068965517, 0.579250720461095, 0.5809248554913294, 0.5826086956521739, 0.5843023255813954, 0.5860058309037901, 0.5847953216374269, 0.5835777126099707, 0.5852941176470589, 0.5870206489675516, 0.5887573964497042, 0.5905044510385756, 0.5892857142857143, 0.591044776119403, 0.5898203592814372, 0.5915915915915916, 0.5903614457831325, 0.5891238670694864, 0.5909090909090909, 0.5927051671732523, 0.5945121951219512, 0.5963302752293578, 0.5950920245398773, 0.5969230769230769, 0.5987654320987654, 0.6006191950464397, 0.6024844720496895, 0.6043613707165109, 0.60625, 0.6081504702194357, 0.610062893081761, 0.61198738170347, 0.6139240506329114, 0.6158730158730159, 0.6178343949044586, 0.6166134185303515, 0.6185897435897436, 0.617363344051447, 0.6161290322580645, 0.6181229773462783, 0.6168831168831169, 0.6156351791530945, 0.6143790849673203, 0.6163934426229508, 0.618421052631579, 0.6204620462046204, 0.6225165562913907, 0.6212624584717608, 0.62, 0.6220735785953178, 0.6208053691275168, 0.622895622895623, 0.6216216216216216, 0.6237288135593221, 0.6224489795918368, 0.621160409556314, 0.6232876712328768, 0.6254295532646048, 0.6241379310344828, 0.6228373702422145, 0.625, 0.627177700348432, 0.6293706293706294, 0.6280701754385964, 0.6267605633802817, 0.6254416961130742, 0.6276595744680851, 0.6263345195729537, 0.625, 0.6272401433691757, 0.6258992805755396, 0.6245487364620939, 0.6268115942028986, 0.6254545454545455, 0.6277372262773723, 0.6263736263736264, 0.625, 0.6273062730627307, 0.6259259259259259, 0.6245353159851301, 0.6231343283582089, 0.6217228464419475, 0.6240601503759399, 0.6226415094339622, 0.6212121212121212, 0.623574144486692, 0.6259541984732825, 0.6283524904214559, 0.6307692307692307, 0.6332046332046332, 0.6317829457364341, 0.6303501945525292, 0.62890625, 0.6274509803921569, 0.6259842519685039, 0.6284584980237155, 0.626984126984127, 0.6294820717131474, 0.632, 0.6305220883534136, 0.6290322580645161, 0.6275303643724697, 0.6300813008130082, 0.6326530612244898, 0.6311475409836066, 0.6296296296296297, 0.628099173553719, 0.6307053941908713, 0.6333333333333333, 0.6317991631799164, 0.6302521008403361, 0.6329113924050633, 0.6313559322033898, 0.6297872340425532, 0.6282051282051282, 0.6266094420600858, 0.625, 0.6233766233766234, 0.6260869565217392, 0.6244541484716157, 0.6271929824561403, 0.6299559471365639, 0.6327433628318584, 0.6311111111111111, 0.6339285714285714, 0.6322869955156951, 0.6306306306306306, 0.6334841628959276, 0.6318181818181818, 0.634703196347032, 0.6376146788990825, 0.6405529953917051, 0.6435185185185185, 0.641860465116279, 0.6401869158878505, 0.6431924882629108, 0.6462264150943396, 0.6492890995260664, 0.6523809523809524, 0.6555023923444976, 0.6538461538461539, 0.6521739130434783, 0.6504854368932039, 0.6536585365853659, 0.6519607843137255, 0.6551724137931034, 0.6534653465346535, 0.6567164179104478, 0.66, 0.6633165829145728, 0.6616161616161617, 0.6649746192893401, 0.6632653061224489, 0.6666666666666666, 0.6649484536082474, 0.6632124352331606, 0.6666666666666666, 0.6701570680628273, 0.6736842105263158, 0.671957671957672, 0.6702127659574468, 0.6737967914438503, 0.6774193548387096, 0.6756756756756757, 0.6793478260869565, 0.6830601092896175, 0.6813186813186813, 0.6850828729281768, 0.6833333333333333, 0.6815642458100558, 0.6797752808988764, 0.6836158192090396, 0.6818181818181818, 0.6857142857142857, 0.6839080459770115, 0.6878612716763006, 0.6918604651162791, 0.6900584795321637, 0.6941176470588235, 0.6982248520710059, 0.6964285714285714, 0.7005988023952096, 0.7048192771084337, 0.703030303030303, 0.7073170731707317, 0.7055214723926381, 0.7098765432098766, 0.7142857142857143, 0.7125, 0.710691823899371, 0.7151898734177216, 0.7197452229299363, 0.7243589743589743, 0.7290322580645161, 0.7272727272727273, 0.7254901960784313, 0.7236842105263158, 0.7218543046357616, 0.7266666666666667, 0.7248322147651006, 0.7297297297297297, 0.7346938775510204, 0.7397260273972602, 0.7379310344827587, 0.7361111111111112, 0.7464788732394366, 0.75177304964539, 0.7571428571428571, 0.7553956834532374, 0.7536231884057971, 0.7591240875912408, 0.7573529411764706, 0.7555555555555555, 0.753731343283582, 0.7518796992481203, 0.7575757575757576, 0.7557251908396947, 0.7538461538461538, 0.751937984496124, 0.7578125, 0.7559055118110236, 0.7619047619047619, 0.768, 0.7661290322580645, 0.7642276422764228, 0.7704918032786885, 0.7768595041322314, 0.775, 0.773109243697479, 0.7711864406779662, 0.7692307692307693, 0.7672413793103449, 0.7739130434782608, 0.7719298245614035, 0.7787610619469026, 0.7767857142857143, 0.7837837837837838, 0.7818181818181819, 0.7798165137614679, 0.7870370370370371, 0.7850467289719626, 0.7830188679245284, 0.780952380952381, 0.7788461538461539, 0.7864077669902912, 0.7843137254901961, 0.7821782178217822, 0.78, 0.7777777777777778, 0.7755102040816326, 0.7731958762886598, 0.78125, 0.7789473684210526, 0.7872340425531915, 0.7956989247311828, 0.7934782608695652, 0.7912087912087912, 0.797752808988764, 0.7954545454545454, 0.7931034482758621, 0.8023255813953488, 0.8, 0.7976190476190477, 0.7951807228915663, 0.7926829268292683, 0.7901234567901234, 0.8, 0.7974683544303798, 0.7948717948717948, 0.7922077922077922, 0.8026315789473685, 0.8, 0.8108108108108109, 0.8082191780821918, 0.8055555555555556, 0.8028169014084507, 0.8142857142857143, 0.8115942028985508, 0.8088235294117647, 0.8059701492537313, 0.8181818181818182, 0.8153846153846154, 0.8125, 0.8095238095238095, 0.8225806451612904, 0.819672131147541, 0.8166666666666667, 0.8135593220338984, 0.8275862068965517, 0.8245614035087719, 0.8392857142857143, 0.8363636363636363, 0.8518518518518519, 0.8679245283018868, 0.8653846153846154, 0.8627450980392157, 0.88, 0.8775510204081632, 0.875, 0.8723404255319149, 0.8695652173913043, 0.8666666666666667, 0.8863636363636364, 0.8837209302325582, 0.8809523809523809, 0.8780487804878049, 0.875, 0.8717948717948718, 0.8947368421052632, 0.8918918918918919, 0.8888888888888888, 0.8857142857142857, 0.8823529411764706, 0.8787878787878788, 0.875, 0.8709677419354839, 0.8666666666666667, 0.8620689655172413, 0.8571428571428571, 0.8518518518518519, 0.8461538461538461, 0.84, 0.8333333333333334, 0.8260869565217391, 0.8181818181818182, 0.8095238095238095, 0.8, 0.7894736842105263, 0.7777777777777778, 0.7647058823529411, 0.75, 0.8, 0.8571428571428571, 0.9230769230769231, 0.9166666666666666, 0.9090909090909091, 0.9, 0.875, 0.8571428571428571, 0.8333333333333334, 0.8, 0.75, 0.6666666666666666, 0.0, 1.0]}, {\"mode\": \"lines\", \"name\": \"XGB\", \"type\": \"scatter\", \"x\": [1.0, 0.9973262032085561, 0.9973262032085561, 0.9973262032085561, 0.9973262032085561, 0.9973262032085561, 0.9973262032085561, 0.9973262032085561, 0.9973262032085561, 0.9973262032085561, 0.9973262032085561, 0.9973262032085561, 0.9973262032085561, 0.9973262032085561, 0.9973262032085561, 0.9973262032085561, 0.9973262032085561, 0.9973262032085561, 0.9973262032085561, 0.9973262032085561, 0.9973262032085561, 0.9973262032085561, 0.9973262032085561, 0.9973262032085561, 0.9973262032085561, 0.9973262032085561, 0.9973262032085561, 0.9973262032085561, 0.9973262032085561, 0.9973262032085561, 0.9973262032085561, 0.9973262032085561, 0.9973262032085561, 0.9973262032085561, 0.9973262032085561, 0.9973262032085561, 0.9973262032085561, 0.9973262032085561, 0.9973262032085561, 0.9973262032085561, 0.9973262032085561, 0.9973262032085561, 0.9973262032085561, 0.9973262032085561, 0.9973262032085561, 0.9973262032085561, 0.9973262032085561, 0.9946524064171123, 0.9946524064171123, 0.9946524064171123, 0.9946524064171123, 0.9946524064171123, 0.9946524064171123, 0.9946524064171123, 0.9946524064171123, 0.9946524064171123, 0.9946524064171123, 0.9946524064171123, 0.9946524064171123, 0.9946524064171123, 0.9946524064171123, 0.9946524064171123, 0.9946524064171123, 0.9946524064171123, 0.9946524064171123, 0.9946524064171123, 0.9946524064171123, 0.9946524064171123, 0.9946524064171123, 0.9946524064171123, 0.9946524064171123, 0.9946524064171123, 0.9946524064171123, 0.9946524064171123, 0.9946524064171123, 0.9946524064171123, 0.9946524064171123, 0.9946524064171123, 0.9946524064171123, 0.9946524064171123, 0.9946524064171123, 0.9946524064171123, 0.9946524064171123, 0.9946524064171123, 0.9946524064171123, 0.9946524064171123, 0.9946524064171123, 0.9946524064171123, 0.9946524064171123, 0.9946524064171123, 0.9946524064171123, 0.9946524064171123, 0.9946524064171123, 0.9946524064171123, 0.9946524064171123, 0.9946524064171123, 0.9946524064171123, 0.9946524064171123, 0.9946524064171123, 0.9946524064171123, 0.9946524064171123, 0.9946524064171123, 0.9946524064171123, 0.9946524064171123, 0.9946524064171123, 0.9946524064171123, 0.9946524064171123, 0.9946524064171123, 0.9946524064171123, 0.9946524064171123, 0.9946524064171123, 0.9946524064171123, 0.9946524064171123, 0.9946524064171123, 0.9946524064171123, 0.9946524064171123, 0.9946524064171123, 0.9946524064171123, 0.9946524064171123, 0.9919786096256684, 0.9919786096256684, 0.9919786096256684, 0.9919786096256684, 0.9919786096256684, 0.9919786096256684, 0.9919786096256684, 0.9919786096256684, 0.9919786096256684, 0.9919786096256684, 0.9919786096256684, 0.9919786096256684, 0.9919786096256684, 0.9919786096256684, 0.9919786096256684, 0.9919786096256684, 0.9919786096256684, 0.9919786096256684, 0.9919786096256684, 0.9919786096256684, 0.9919786096256684, 0.9919786096256684, 0.9919786096256684, 0.9919786096256684, 0.9919786096256684, 0.9919786096256684, 0.9919786096256684, 0.9919786096256684, 0.9919786096256684, 0.9919786096256684, 0.9919786096256684, 0.9919786096256684, 0.9919786096256684, 0.9919786096256684, 0.9919786096256684, 0.9919786096256684, 0.9919786096256684, 0.9919786096256684, 0.9919786096256684, 0.9919786096256684, 0.9919786096256684, 0.9919786096256684, 0.9919786096256684, 0.9919786096256684, 0.9919786096256684, 0.9919786096256684, 0.9919786096256684, 0.9919786096256684, 0.9919786096256684, 0.9919786096256684, 0.9919786096256684, 0.9919786096256684, 0.9919786096256684, 0.9919786096256684, 0.9919786096256684, 0.9919786096256684, 0.9919786096256684, 0.9919786096256684, 0.9919786096256684, 0.9919786096256684, 0.9919786096256684, 0.9919786096256684, 0.9919786096256684, 0.9919786096256684, 0.9919786096256684, 0.9919786096256684, 0.9919786096256684, 0.9919786096256684, 0.9919786096256684, 0.9919786096256684, 0.9919786096256684, 0.9919786096256684, 0.9919786096256684, 0.9919786096256684, 0.9919786096256684, 0.9919786096256684, 0.9919786096256684, 0.9919786096256684, 0.9919786096256684, 0.9919786096256684, 0.9919786096256684, 0.9919786096256684, 0.9919786096256684, 0.9919786096256684, 0.9893048128342246, 0.9893048128342246, 0.9893048128342246, 0.9893048128342246, 0.9893048128342246, 0.9893048128342246, 0.9893048128342246, 0.9893048128342246, 0.9893048128342246, 0.9893048128342246, 0.9893048128342246, 0.9893048128342246, 0.9893048128342246, 0.9893048128342246, 0.9893048128342246, 0.9893048128342246, 0.9866310160427807, 0.9866310160427807, 0.9866310160427807, 0.9866310160427807, 0.9866310160427807, 0.9866310160427807, 0.9866310160427807, 0.9866310160427807, 0.9866310160427807, 0.9866310160427807, 0.9866310160427807, 0.9866310160427807, 0.9866310160427807, 0.9866310160427807, 0.9866310160427807, 0.9866310160427807, 0.9866310160427807, 0.9866310160427807, 0.9866310160427807, 0.9866310160427807, 0.9866310160427807, 0.9866310160427807, 0.9866310160427807, 0.9866310160427807, 0.9866310160427807, 0.9866310160427807, 0.9866310160427807, 0.983957219251337, 0.983957219251337, 0.983957219251337, 0.983957219251337, 0.9812834224598931, 0.9812834224598931, 0.9812834224598931, 0.9812834224598931, 0.9812834224598931, 0.9812834224598931, 0.9812834224598931, 0.9812834224598931, 0.9812834224598931, 0.9812834224598931, 0.9786096256684492, 0.9786096256684492, 0.9786096256684492, 0.9759358288770054, 0.9759358288770054, 0.9759358288770054, 0.9759358288770054, 0.9759358288770054, 0.9759358288770054, 0.9759358288770054, 0.9759358288770054, 0.9759358288770054, 0.9759358288770054, 0.9759358288770054, 0.9759358288770054, 0.9732620320855615, 0.9732620320855615, 0.9732620320855615, 0.9732620320855615, 0.9732620320855615, 0.9732620320855615, 0.9705882352941176, 0.9705882352941176, 0.9705882352941176, 0.9705882352941176, 0.9705882352941176, 0.9705882352941176, 0.9679144385026738, 0.9679144385026738, 0.9679144385026738, 0.9679144385026738, 0.9679144385026738, 0.9679144385026738, 0.9679144385026738, 0.9679144385026738, 0.9652406417112299, 0.9652406417112299, 0.9652406417112299, 0.9652406417112299, 0.9652406417112299, 0.9652406417112299, 0.9652406417112299, 0.9652406417112299, 0.9652406417112299, 0.9652406417112299, 0.9652406417112299, 0.9652406417112299, 0.9652406417112299, 0.9652406417112299, 0.9652406417112299, 0.9652406417112299, 0.9652406417112299, 0.9652406417112299, 0.9652406417112299, 0.9652406417112299, 0.9652406417112299, 0.9652406417112299, 0.9652406417112299, 0.9652406417112299, 0.9652406417112299, 0.9652406417112299, 0.9652406417112299, 0.9652406417112299, 0.9652406417112299, 0.9625668449197861, 0.9625668449197861, 0.9625668449197861, 0.9625668449197861, 0.9598930481283422, 0.9598930481283422, 0.9598930481283422, 0.9598930481283422, 0.9598930481283422, 0.9572192513368984, 0.9572192513368984, 0.9572192513368984, 0.9572192513368984, 0.9545454545454546, 0.9545454545454546, 0.9545454545454546, 0.9545454545454546, 0.9545454545454546, 0.9545454545454546, 0.9545454545454546, 0.9518716577540107, 0.9518716577540107, 0.9518716577540107, 0.9518716577540107, 0.9518716577540107, 0.9491978609625669, 0.9491978609625669, 0.9491978609625669, 0.9491978609625669, 0.9491978609625669, 0.9491978609625669, 0.9491978609625669, 0.9491978609625669, 0.9491978609625669, 0.9491978609625669, 0.9491978609625669, 0.9491978609625669, 0.946524064171123, 0.946524064171123, 0.946524064171123, 0.9438502673796791, 0.9438502673796791, 0.9438502673796791, 0.9438502673796791, 0.9438502673796791, 0.9438502673796791, 0.9411764705882353, 0.9411764705882353, 0.9411764705882353, 0.9411764705882353, 0.9411764705882353, 0.9411764705882353, 0.9411764705882353, 0.9411764705882353, 0.9411764705882353, 0.9411764705882353, 0.9411764705882353, 0.9411764705882353, 0.9385026737967914, 0.9358288770053476, 0.9358288770053476, 0.9358288770053476, 0.9358288770053476, 0.9358288770053476, 0.9358288770053476, 0.9331550802139037, 0.9331550802139037, 0.9331550802139037, 0.9331550802139037, 0.9331550802139037, 0.9331550802139037, 0.93048128342246, 0.93048128342246, 0.9278074866310161, 0.9251336898395722, 0.9251336898395722, 0.9251336898395722, 0.9251336898395722, 0.9251336898395722, 0.9251336898395722, 0.9251336898395722, 0.9251336898395722, 0.9251336898395722, 0.9251336898395722, 0.9251336898395722, 0.9251336898395722, 0.9224598930481284, 0.9224598930481284, 0.9224598930481284, 0.9224598930481284, 0.9224598930481284, 0.9224598930481284, 0.9224598930481284, 0.9197860962566845, 0.9171122994652406, 0.9171122994652406, 0.9171122994652406, 0.9171122994652406, 0.9144385026737968, 0.9144385026737968, 0.9144385026737968, 0.9144385026737968, 0.9117647058823529, 0.9090909090909091, 0.9090909090909091, 0.9090909090909091, 0.9090909090909091, 0.9090909090909091, 0.9090909090909091, 0.9090909090909091, 0.9090909090909091, 0.9090909090909091, 0.9090909090909091, 0.9090909090909091, 0.9090909090909091, 0.9090909090909091, 0.9090909090909091, 0.9090909090909091, 0.9090909090909091, 0.9064171122994652, 0.9064171122994652, 0.9064171122994652, 0.9064171122994652, 0.9064171122994652, 0.9064171122994652, 0.9064171122994652, 0.9064171122994652, 0.9064171122994652, 0.9064171122994652, 0.9064171122994652, 0.9064171122994652, 0.9064171122994652, 0.9064171122994652, 0.9064171122994652, 0.9064171122994652, 0.9064171122994652, 0.9064171122994652, 0.9064171122994652, 0.9037433155080213, 0.9037433155080213, 0.9037433155080213, 0.9037433155080213, 0.9037433155080213, 0.9037433155080213, 0.9010695187165776, 0.9010695187165776, 0.8983957219251337, 0.8983957219251337, 0.8983957219251337, 0.8983957219251337, 0.8983957219251337, 0.8983957219251337, 0.8983957219251337, 0.8983957219251337, 0.8983957219251337, 0.8983957219251337, 0.8983957219251337, 0.8983957219251337, 0.8983957219251337, 0.8983957219251337, 0.8983957219251337, 0.8983957219251337, 0.8983957219251337, 0.8957219251336899, 0.893048128342246, 0.893048128342246, 0.893048128342246, 0.893048128342246, 0.893048128342246, 0.8903743315508021, 0.8877005347593583, 0.8877005347593583, 0.8877005347593583, 0.8877005347593583, 0.8877005347593583, 0.8877005347593583, 0.8877005347593583, 0.8877005347593583, 0.8877005347593583, 0.8877005347593583, 0.8877005347593583, 0.8877005347593583, 0.8850267379679144, 0.8850267379679144, 0.8850267379679144, 0.8850267379679144, 0.8850267379679144, 0.8850267379679144, 0.8850267379679144, 0.8850267379679144, 0.8850267379679144, 0.8850267379679144, 0.8850267379679144, 0.8850267379679144, 0.8823529411764706, 0.8796791443850267, 0.8770053475935828, 0.8743315508021391, 0.8743315508021391, 0.8716577540106952, 0.8689839572192514, 0.8663101604278075, 0.8663101604278075, 0.8663101604278075, 0.8663101604278075, 0.8636363636363636, 0.8636363636363636, 0.8636363636363636, 0.8609625668449198, 0.8609625668449198, 0.8582887700534759, 0.8582887700534759, 0.8582887700534759, 0.8582887700534759, 0.8582887700534759, 0.8582887700534759, 0.8582887700534759, 0.8556149732620321, 0.8529411764705882, 0.8502673796791443, 0.8502673796791443, 0.8502673796791443, 0.8502673796791443, 0.8502673796791443, 0.8475935828877005, 0.8475935828877005, 0.8449197860962567, 0.8449197860962567, 0.8449197860962567, 0.8449197860962567, 0.8449197860962567, 0.8422459893048129, 0.8422459893048129, 0.8422459893048129, 0.8422459893048129, 0.8422459893048129, 0.839572192513369, 0.839572192513369, 0.839572192513369, 0.839572192513369, 0.839572192513369, 0.8368983957219251, 0.8368983957219251, 0.8368983957219251, 0.8368983957219251, 0.8368983957219251, 0.8368983957219251, 0.8368983957219251, 0.8342245989304813, 0.8342245989304813, 0.8315508021390374, 0.8315508021390374, 0.8315508021390374, 0.8315508021390374, 0.8315508021390374, 0.8288770053475936, 0.8288770053475936, 0.8288770053475936, 0.8262032085561497, 0.8262032085561497, 0.8235294117647058, 0.8235294117647058, 0.8235294117647058, 0.8235294117647058, 0.8235294117647058, 0.820855614973262, 0.820855614973262, 0.820855614973262, 0.820855614973262, 0.820855614973262, 0.820855614973262, 0.820855614973262, 0.8181818181818182, 0.8181818181818182, 0.8181818181818182, 0.8181818181818182, 0.8155080213903744, 0.8155080213903744, 0.8155080213903744, 0.8155080213903744, 0.8155080213903744, 0.8128342245989305, 0.8101604278074866, 0.8101604278074866, 0.8101604278074866, 0.8101604278074866, 0.8101604278074866, 0.8101604278074866, 0.8101604278074866, 0.8101604278074866, 0.8101604278074866, 0.8101604278074866, 0.8074866310160428, 0.8074866310160428, 0.8074866310160428, 0.8074866310160428, 0.8074866310160428, 0.8048128342245989, 0.8048128342245989, 0.8021390374331551, 0.8021390374331551, 0.8021390374331551, 0.7994652406417112, 0.7994652406417112, 0.7994652406417112, 0.7994652406417112, 0.7994652406417112, 0.7967914438502673, 0.7941176470588235, 0.7941176470588235, 0.7941176470588235, 0.7941176470588235, 0.7941176470588235, 0.7941176470588235, 0.7941176470588235, 0.7941176470588235, 0.7941176470588235, 0.7941176470588235, 0.7941176470588235, 0.7941176470588235, 0.7941176470588235, 0.7941176470588235, 0.7941176470588235, 0.7941176470588235, 0.7941176470588235, 0.7914438502673797, 0.7914438502673797, 0.7914438502673797, 0.7914438502673797, 0.7914438502673797, 0.7914438502673797, 0.7914438502673797, 0.7887700534759359, 0.786096256684492, 0.7834224598930482, 0.7834224598930482, 0.7834224598930482, 0.7834224598930482, 0.7807486631016043, 0.7780748663101604, 0.7780748663101604, 0.7754010695187166, 0.7754010695187166, 0.7727272727272727, 0.7727272727272727, 0.7727272727272727, 0.7727272727272727, 0.7700534759358288, 0.7700534759358288, 0.7700534759358288, 0.767379679144385, 0.767379679144385, 0.7647058823529411, 0.7647058823529411, 0.7620320855614974, 0.7620320855614974, 0.7620320855614974, 0.7620320855614974, 0.7620320855614974, 0.7620320855614974, 0.7620320855614974, 0.7620320855614974, 0.7593582887700535, 0.7593582887700535, 0.7593582887700535, 0.7593582887700535, 0.7566844919786097, 0.7566844919786097, 0.7566844919786097, 0.7566844919786097, 0.7566844919786097, 0.7566844919786097, 0.7566844919786097, 0.7566844919786097, 0.7540106951871658, 0.7540106951871658, 0.7540106951871658, 0.7540106951871658, 0.7540106951871658, 0.7540106951871658, 0.7540106951871658, 0.7540106951871658, 0.7513368983957219, 0.7513368983957219, 0.7486631016042781, 0.7486631016042781, 0.7486631016042781, 0.7459893048128342, 0.7433155080213903, 0.7433155080213903, 0.7406417112299465, 0.7406417112299465, 0.7406417112299465, 0.7406417112299465, 0.7379679144385026, 0.7379679144385026, 0.7379679144385026, 0.7379679144385026, 0.7352941176470589, 0.732620320855615, 0.732620320855615, 0.732620320855615, 0.732620320855615, 0.732620320855615, 0.732620320855615, 0.732620320855615, 0.7299465240641712, 0.7272727272727273, 0.7245989304812834, 0.7245989304812834, 0.7245989304812834, 0.7245989304812834, 0.7219251336898396, 0.7219251336898396, 0.7192513368983957, 0.7192513368983957, 0.7192513368983957, 0.7192513368983957, 0.7165775401069518, 0.713903743315508, 0.713903743315508, 0.713903743315508, 0.713903743315508, 0.7112299465240641, 0.7112299465240641, 0.7085561497326203, 0.7085561497326203, 0.7058823529411765, 0.7058823529411765, 0.7058823529411765, 0.7058823529411765, 0.7032085561497327, 0.7005347593582888, 0.6978609625668449, 0.6978609625668449, 0.6978609625668449, 0.6978609625668449, 0.6951871657754011, 0.6951871657754011, 0.6925133689839572, 0.6898395721925134, 0.6871657754010695, 0.6871657754010695, 0.6844919786096256, 0.6844919786096256, 0.6818181818181818, 0.679144385026738, 0.679144385026738, 0.679144385026738, 0.679144385026738, 0.6764705882352942, 0.6764705882352942, 0.6764705882352942, 0.6764705882352942, 0.6737967914438503, 0.6737967914438503, 0.6737967914438503, 0.6711229946524064, 0.6711229946524064, 0.6711229946524064, 0.6684491978609626, 0.6657754010695187, 0.6657754010695187, 0.6657754010695187, 0.6657754010695187, 0.6631016042780749, 0.6631016042780749, 0.6631016042780749, 0.660427807486631, 0.6577540106951871, 0.6550802139037433, 0.6524064171122995, 0.6497326203208557, 0.6497326203208557, 0.6497326203208557, 0.6497326203208557, 0.6497326203208557, 0.6497326203208557, 0.6497326203208557, 0.6497326203208557, 0.6497326203208557, 0.6497326203208557, 0.6497326203208557, 0.6497326203208557, 0.6470588235294118, 0.6470588235294118, 0.6470588235294118, 0.6470588235294118, 0.6443850267379679, 0.6417112299465241, 0.6390374331550802, 0.6390374331550802, 0.6363636363636364, 0.6363636363636364, 0.6336898395721925, 0.6310160427807486, 0.6310160427807486, 0.6310160427807486, 0.6283422459893048, 0.6283422459893048, 0.6283422459893048, 0.6256684491978609, 0.6229946524064172, 0.6203208556149733, 0.6203208556149733, 0.6203208556149733, 0.6203208556149733, 0.6176470588235294, 0.6176470588235294, 0.6149732620320856, 0.6149732620320856, 0.6149732620320856, 0.6149732620320856, 0.6122994652406417, 0.6122994652406417, 0.6096256684491979, 0.6096256684491979, 0.6096256684491979, 0.606951871657754, 0.606951871657754, 0.606951871657754, 0.606951871657754, 0.6042780748663101, 0.6042780748663101, 0.6016042780748663, 0.5989304812834224, 0.5989304812834224, 0.5962566844919787, 0.5962566844919787, 0.5962566844919787, 0.5962566844919787, 0.5962566844919787, 0.5935828877005348, 0.5909090909090909, 0.5909090909090909, 0.5909090909090909, 0.5882352941176471, 0.5882352941176471, 0.5855614973262032, 0.5855614973262032, 0.5855614973262032, 0.5855614973262032, 0.5828877005347594, 0.5828877005347594, 0.5828877005347594, 0.5828877005347594, 0.5828877005347594, 0.5802139037433155, 0.5802139037433155, 0.5775401069518716, 0.5748663101604278, 0.5748663101604278, 0.5748663101604278, 0.5721925133689839, 0.5721925133689839, 0.5721925133689839, 0.5721925133689839, 0.5721925133689839, 0.5721925133689839, 0.56951871657754, 0.56951871657754, 0.56951871657754, 0.5668449197860963, 0.5641711229946524, 0.5614973262032086, 0.5614973262032086, 0.5614973262032086, 0.5614973262032086, 0.5588235294117647, 0.5561497326203209, 0.553475935828877, 0.553475935828877, 0.5508021390374331, 0.5508021390374331, 0.5508021390374331, 0.5508021390374331, 0.5481283422459893, 0.5481283422459893, 0.5481283422459893, 0.5481283422459893, 0.5481283422459893, 0.5481283422459893, 0.5481283422459893, 0.5454545454545454, 0.5454545454545454, 0.5427807486631016, 0.5427807486631016, 0.5401069518716578, 0.5401069518716578, 0.5401069518716578, 0.5374331550802139, 0.5347593582887701, 0.5320855614973262, 0.5320855614973262, 0.5320855614973262, 0.5320855614973262, 0.5320855614973262, 0.5320855614973262, 0.5294117647058824, 0.5294117647058824, 0.5294117647058824, 0.5267379679144385, 0.5240641711229946, 0.5213903743315508, 0.5213903743315508, 0.5187165775401069, 0.5187165775401069, 0.5187165775401069, 0.5187165775401069, 0.5187165775401069, 0.516042780748663, 0.5133689839572193, 0.5106951871657754, 0.5106951871657754, 0.5106951871657754, 0.5106951871657754, 0.5106951871657754, 0.5080213903743316, 0.5080213903743316, 0.5080213903743316, 0.5080213903743316, 0.5080213903743316, 0.5080213903743316, 0.5080213903743316, 0.5053475935828877, 0.5026737967914439, 0.5026737967914439, 0.5026737967914439, 0.5, 0.49732620320855614, 0.49732620320855614, 0.49732620320855614, 0.49732620320855614, 0.49732620320855614, 0.49732620320855614, 0.49732620320855614, 0.49732620320855614, 0.4946524064171123, 0.4946524064171123, 0.4919786096256685, 0.4893048128342246, 0.4893048128342246, 0.4893048128342246, 0.48663101604278075, 0.4839572192513369, 0.4839572192513369, 0.4839572192513369, 0.4839572192513369, 0.4839572192513369, 0.4839572192513369, 0.48128342245989303, 0.4786096256684492, 0.4786096256684492, 0.4786096256684492, 0.4786096256684492, 0.4786096256684492, 0.4786096256684492, 0.4786096256684492, 0.47593582887700536, 0.47593582887700536, 0.4732620320855615, 0.4732620320855615, 0.4732620320855615, 0.47058823529411764, 0.4679144385026738, 0.4679144385026738, 0.4679144385026738, 0.46524064171123, 0.4625668449197861, 0.4625668449197861, 0.4625668449197861, 0.4625668449197861, 0.45989304812834225, 0.4572192513368984, 0.4572192513368984, 0.45454545454545453, 0.45454545454545453, 0.45454545454545453, 0.45454545454545453, 0.45187165775401067, 0.45187165775401067, 0.45187165775401067, 0.45187165775401067, 0.45187165775401067, 0.44919786096256686, 0.446524064171123, 0.446524064171123, 0.44385026737967914, 0.4411764705882353, 0.4411764705882353, 0.4385026737967914, 0.4385026737967914, 0.4358288770053476, 0.43315508021390375, 0.4304812834224599, 0.42780748663101603, 0.42780748663101603, 0.42780748663101603, 0.42513368983957217, 0.42513368983957217, 0.42513368983957217, 0.42245989304812837, 0.42245989304812837, 0.42245989304812837, 0.42245989304812837, 0.4197860962566845, 0.4197860962566845, 0.4197860962566845, 0.4197860962566845, 0.41711229946524064, 0.41711229946524064, 0.4144385026737968, 0.4117647058823529, 0.4090909090909091, 0.4090909090909091, 0.4090909090909091, 0.4090909090909091, 0.40641711229946526, 0.4037433155080214, 0.4037433155080214, 0.4037433155080214, 0.4037433155080214, 0.4037433155080214, 0.40106951871657753, 0.3983957219251337, 0.39572192513368987, 0.393048128342246, 0.393048128342246, 0.39037433155080214, 0.3877005347593583, 0.3850267379679144, 0.3850267379679144, 0.38235294117647056, 0.37967914438502676, 0.37967914438502676, 0.3770053475935829, 0.3770053475935829, 0.3770053475935829, 0.37433155080213903, 0.37433155080213903, 0.3716577540106952, 0.3689839572192513, 0.3663101604278075, 0.3663101604278075, 0.36363636363636365, 0.3609625668449198, 0.3609625668449198, 0.3582887700534759, 0.35561497326203206, 0.35294117647058826, 0.3502673796791444, 0.3502673796791444, 0.34759358288770054, 0.34759358288770054, 0.3449197860962567, 0.3449197860962567, 0.3422459893048128, 0.339572192513369, 0.339572192513369, 0.33689839572192515, 0.3342245989304813, 0.3315508021390374, 0.32887700534759357, 0.32620320855614976, 0.3235294117647059, 0.32085561497326204, 0.3181818181818182, 0.3181818181818182, 0.3181818181818182, 0.3155080213903743, 0.3155080213903743, 0.3155080213903743, 0.31283422459893045, 0.31016042780748665, 0.3074866310160428, 0.3074866310160428, 0.3074866310160428, 0.3048128342245989, 0.30213903743315507, 0.30213903743315507, 0.2994652406417112, 0.2994652406417112, 0.2994652406417112, 0.2994652406417112, 0.2994652406417112, 0.2994652406417112, 0.2967914438502674, 0.29411764705882354, 0.2914438502673797, 0.2914438502673797, 0.2887700534759358, 0.28609625668449196, 0.28342245989304815, 0.2807486631016043, 0.27807486631016043, 0.27540106951871657, 0.27540106951871657, 0.27540106951871657, 0.27540106951871657, 0.2727272727272727, 0.2700534759358289, 0.26737967914438504, 0.2647058823529412, 0.2620320855614973, 0.25935828877005346, 0.25935828877005346, 0.25935828877005346, 0.25935828877005346, 0.25668449197860965, 0.2540106951871658, 0.25133689839572193, 0.24866310160427807, 0.24866310160427807, 0.24866310160427807, 0.24598930481283424, 0.24331550802139038, 0.24064171122994651, 0.24064171122994651, 0.24064171122994651, 0.24064171122994651, 0.23796791443850268, 0.23796791443850268, 0.23529411764705882, 0.232620320855615, 0.232620320855615, 0.232620320855615, 0.232620320855615, 0.232620320855615, 0.22994652406417113, 0.22727272727272727, 0.22459893048128343, 0.22459893048128343, 0.22192513368983957, 0.2192513368983957, 0.2192513368983957, 0.21657754010695188, 0.21390374331550802, 0.21122994652406418, 0.20855614973262032, 0.20588235294117646, 0.20320855614973263, 0.20053475935828877, 0.20053475935828877, 0.19786096256684493, 0.19786096256684493, 0.19518716577540107, 0.19518716577540107, 0.1925133689839572, 0.1925133689839572, 0.18983957219251338, 0.18716577540106952, 0.18716577540106952, 0.18716577540106952, 0.18449197860962566, 0.18181818181818182, 0.17914438502673796, 0.17914438502673796, 0.17914438502673796, 0.17914438502673796, 0.17647058823529413, 0.17379679144385027, 0.1711229946524064, 0.16844919786096257, 0.1657754010695187, 0.16310160427807488, 0.16042780748663102, 0.15775401069518716, 0.15775401069518716, 0.15508021390374332, 0.15508021390374332, 0.15240641711229946, 0.1497326203208556, 0.14705882352941177, 0.1443850267379679, 0.1443850267379679, 0.14171122994652408, 0.13903743315508021, 0.13636363636363635, 0.13368983957219252, 0.13101604278074866, 0.12834224598930483, 0.12566844919786097, 0.12566844919786097, 0.12566844919786097, 0.12299465240641712, 0.12032085561497326, 0.12032085561497326, 0.11764705882352941, 0.11497326203208556, 0.11229946524064172, 0.10962566844919786, 0.10695187165775401, 0.10427807486631016, 0.10160427807486631, 0.10160427807486631, 0.09893048128342247, 0.09893048128342247, 0.0962566844919786, 0.09358288770053476, 0.09358288770053476, 0.09090909090909091, 0.08823529411764706, 0.0855614973262032, 0.08288770053475936, 0.08021390374331551, 0.07754010695187166, 0.0748663101604278, 0.07219251336898395, 0.07219251336898395, 0.06951871657754011, 0.06684491978609626, 0.06417112299465241, 0.06149732620320856, 0.058823529411764705, 0.05614973262032086, 0.053475935828877004, 0.05080213903743316, 0.0481283422459893, 0.045454545454545456, 0.0427807486631016, 0.040106951871657755, 0.0374331550802139, 0.034759358288770054, 0.03208556149732621, 0.029411764705882353, 0.026737967914438502, 0.026737967914438502, 0.02406417112299465, 0.0213903743315508, 0.0213903743315508, 0.0213903743315508, 0.01871657754010695, 0.013368983957219251, 0.013368983957219251, 0.013368983957219251, 0.0106951871657754, 0.008021390374331552, 0.00267379679144385, 0.0], \"y\": [0.29541864139020535, 0.2948616600790514, 0.2950949367088608, 0.2953285827395091, 0.29556259904912835, 0.295796986518636, 0.29603174603174603, 0.2962668784749801, 0.29650238473767887, 0.2967382657120127, 0.29697452229299365, 0.2972111553784861, 0.2974481658692185, 0.29768555466879487, 0.2979233226837061, 0.2981614708233413, 0.2984, 0.2986389111289031, 0.2988782051282051, 0.2991178829190056, 0.29935794542536115, 0.2995983935742972, 0.29983922829581994, 0.3000804505229284, 0.3003220611916264, 0.3005640612409347, 0.3008064516129032, 0.30104923325262306, 0.30129240710823907, 0.301535974130962, 0.3017799352750809, 0.3020242914979757, 0.30226904376012964, 0.30251419302514193, 0.3027597402597403, 0.30300568643379366, 0.3032520325203252, 0.30349877949552484, 0.30374592833876224, 0.30399348003259985, 0.30424143556280586, 0.30448979591836733, 0.3047385620915033, 0.30498773507767785, 0.30523731587561376, 0.30548730548730546, 0.30573770491803276, 0.3051681706316653, 0.3054187192118227, 0.3056696795398521, 0.3059210526315789, 0.30617283950617286, 0.30642504118616143, 0.30667765869744434, 0.3069306930693069, 0.30718414533443433, 0.3074380165289256, 0.3076923076923077, 0.3079470198675497, 0.30820215410107704, 0.30845771144278605, 0.3087136929460581, 0.3089700996677741, 0.3092269326683292, 0.30948419301164726, 0.3097418817651957, 0.31, 0.3102585487906589, 0.3105175292153589, 0.3107769423558897, 0.3110367892976589, 0.3112970711297071, 0.31155778894472363, 0.31181894383906117, 0.31208053691275167, 0.3123425692695214, 0.3126050420168067, 0.3128679562657696, 0.31313131313131315, 0.3133951137320977, 0.3136593591905565, 0.3139240506329114, 0.3141891891891892, 0.3144547759932375, 0.3147208121827411, 0.31498729889923793, 0.3152542372881356, 0.3155216284987277, 0.3157894736842105, 0.3160577740016992, 0.3163265306122449, 0.31659574468085105, 0.31686541737649065, 0.3171355498721228, 0.3174061433447099, 0.31767719897523483, 0.31794871794871793, 0.31822070145423437, 0.3184931506849315, 0.31876606683804626, 0.3190394511149228, 0.31931330472103003, 0.31958762886597936, 0.31986242476354254, 0.32013769363166955, 0.32041343669250644, 0.32068965517241377, 0.32096635030198445, 0.32124352331606215, 0.32152117545375974, 0.3217993079584775, 0.3220779220779221, 0.3223570190641248, 0.3226366001734605, 0.3229166666666667, 0.32319721980886185, 0.3234782608695652, 0.3237597911227154, 0.3240418118466899, 0.3234524847428073, 0.3237347294938918, 0.3240174672489083, 0.3243006993006993, 0.32458442694663164, 0.3248686514886165, 0.32515337423312884, 0.3254385964912281, 0.3257243195785777, 0.3260105448154657, 0.32629727352682497, 0.3265845070422535, 0.32687224669603526, 0.3271604938271605, 0.32744924977934686, 0.32773851590106007, 0.3280282935455349, 0.32831858407079645, 0.32860938883968116, 0.32890070921985815, 0.32919254658385094, 0.32948490230905864, 0.3297777777777778, 0.3300711743772242, 0.3303650934995548, 0.3306595365418895, 0.33095450490633366, 0.33125, 0.3315460232350313, 0.33184257602862255, 0.3321396598030439, 0.3324372759856631, 0.3327354260089686, 0.33303411131059246, 0.3333333333333333, 0.33363309352517984, 0.3339333933393339, 0.3342342342342342, 0.3345356176735798, 0.3348375451263538, 0.33514001806684734, 0.33544303797468356, 0.3357466063348416, 0.33605072463768115, 0.33635539437896644, 0.3366606170598911, 0.3369663941871026, 0.3372727272727273, 0.3375796178343949, 0.33788706739526414, 0.3381950774840474, 0.3385036496350365, 0.33881278538812787, 0.3391224862888483, 0.3394327538883806, 0.33974358974358976, 0.3400549954170486, 0.3403669724770642, 0.34067952249770433, 0.34099264705882354, 0.34130634774609014, 0.3416206261510129, 0.3419354838709677, 0.3422509225092251, 0.3425669436749769, 0.34288354898336415, 0.34320074005550416, 0.3435185185185185, 0.3438368860055607, 0.34415584415584416, 0.34447539461467036, 0.3447955390334573, 0.34511627906976744, 0.34543761638733705, 0.34575955265610436, 0.3460820895522388, 0.3464052287581699, 0.3467289719626168, 0.3470533208606174, 0.34737827715355807, 0.3477038425492034, 0.34803001876172607, 0.3483568075117371, 0.34868421052631576, 0.34807149576669805, 0.3483992467043315, 0.34872761545711595, 0.3490566037735849, 0.3493862134088763, 0.3497164461247637, 0.3500473036896878, 0.3503787878787879, 0.35071090047393366, 0.3510436432637571, 0.3513770180436847, 0.3517110266159696, 0.3520456707897241, 0.3523809523809524, 0.35271687321258344, 0.3530534351145038, 0.3524355300859599, 0.3527724665391969, 0.35311004784688993, 0.35344827586206895, 0.3537871524448706, 0.354126679462572, 0.35446685878962536, 0.3548076923076923, 0.3551491819056785, 0.3554913294797688, 0.3558341369334619, 0.3561776061776062, 0.3565217391304348, 0.3568665377176016, 0.35721200387221685, 0.35755813953488375, 0.35790494665373423, 0.35825242718446604, 0.358600583090379, 0.35894941634241245, 0.3592989289191821, 0.35964912280701755, 0.36, 0.3603515625, 0.36070381231671556, 0.3610567514677104, 0.3614103819784525, 0.3607843137254902, 0.36113837095191365, 0.3614931237721022, 0.36184857423795475, 0.3612204724409449, 0.361576354679803, 0.3619329388560158, 0.36229022704837116, 0.36264822134387353, 0.3630069238377844, 0.36336633663366336, 0.36372646184340934, 0.36408730158730157, 0.3644488579940417, 0.36381709741550694, 0.3641791044776119, 0.3645418326693227, 0.36390827517447655, 0.36427145708582837, 0.3646353646353646, 0.365, 0.36536536536536535, 0.3657314629258517, 0.36609829488465395, 0.36646586345381527, 0.36683417085427134, 0.3672032193158954, 0.3675730110775428, 0.36794354838709675, 0.36730575176589303, 0.36767676767676766, 0.36804853387259856, 0.3684210526315789, 0.36879432624113473, 0.3691683569979716, 0.36852791878172586, 0.36890243902439024, 0.36927772126144454, 0.3696537678207739, 0.37003058103975534, 0.3704081632653061, 0.36976506639427986, 0.37014314928425357, 0.3705220061412487, 0.3709016393442623, 0.3712820512820513, 0.37166324435318276, 0.3720452209660843, 0.3724279835390947, 0.3717816683831102, 0.37216494845360826, 0.37254901960784315, 0.37293388429752067, 0.3733195449844881, 0.37370600414078675, 0.37409326424870465, 0.3744813278008299, 0.37487019730010385, 0.37525987525987525, 0.3756503642039542, 0.37604166666666666, 0.37643378519290926, 0.3768267223382046, 0.3772204806687565, 0.3776150627615063, 0.37801047120418846, 0.37840670859538783, 0.378803777544596, 0.3792016806722689, 0.37960042060988436, 0.38, 0.3804004214963119, 0.3808016877637131, 0.3812038014783527, 0.38160676532769555, 0.382010582010582, 0.3824152542372881, 0.3828207847295864, 0.3821656050955414, 0.38257173219978746, 0.3829787234042553, 0.38338658146964855, 0.38272921108742003, 0.3831376734258271, 0.38354700854700857, 0.3839572192513369, 0.38436830835117775, 0.3837084673097535, 0.38412017167381973, 0.3845327604726101, 0.3849462365591398, 0.38428417653390745, 0.38469827586206895, 0.3851132686084142, 0.3855291576673866, 0.38594594594594595, 0.38636363636363635, 0.38678223185265437, 0.38611713665943603, 0.38653637350705755, 0.3869565217391304, 0.38737758433079433, 0.3877995642701525, 0.3871319520174482, 0.3875545851528384, 0.3879781420765027, 0.38840262582056895, 0.3888280394304491, 0.3892543859649123, 0.3896816684961581, 0.3901098901098901, 0.39053905390539057, 0.3909691629955947, 0.3914002205071665, 0.39183222958057395, 0.3911602209944751, 0.3915929203539823, 0.3920265780730897, 0.39135254988913526, 0.39178690344062156, 0.39222222222222225, 0.39265850945494996, 0.3930957683741648, 0.3935340022296544, 0.39285714285714285, 0.39329608938547483, 0.39373601789709173, 0.39417693169092943, 0.39461883408071746, 0.3950617283950617, 0.3955056179775281, 0.39595050618672667, 0.3963963963963964, 0.3968432919954904, 0.3972911963882618, 0.3977401129943503, 0.39705882352941174, 0.39637599093997733, 0.3968253968253968, 0.39727582292849034, 0.3977272727272727, 0.3981797497155859, 0.39863325740318906, 0.3979475484606613, 0.3984018264840183, 0.39885714285714285, 0.39931350114416475, 0.3997709049255441, 0.40022935779816515, 0.399540757749713, 0.4, 0.3993095512082854, 0.3986175115207373, 0.3990772779700115, 0.3995381062355658, 0.4, 0.40046296296296297, 0.40092699884125144, 0.4013921113689095, 0.40185830429732866, 0.40232558139534885, 0.40279394644935973, 0.40326340326340326, 0.40373395565927656, 0.4030373831775701, 0.40350877192982454, 0.40398126463700235, 0.4044548651817116, 0.40492957746478875, 0.40540540540540543, 0.40588235294117647, 0.40518256772673733, 0.4044811320754717, 0.4049586776859504, 0.40543735224586286, 0.4059171597633136, 0.4052132701421801, 0.40569395017793597, 0.40617577197149646, 0.40665873959571935, 0.40595238095238095, 0.4052443384982122, 0.40572792362768495, 0.4062126642771804, 0.40669856459330145, 0.40718562874251496, 0.407673860911271, 0.40816326530612246, 0.40865384615384615, 0.4091456077015644, 0.40963855421686746, 0.4101326899879373, 0.4106280193236715, 0.4111245465538089, 0.4116222760290557, 0.4121212121212121, 0.41262135922330095, 0.41190765492102066, 0.4124087591240876, 0.41291108404384896, 0.41341463414634144, 0.4139194139194139, 0.41442542787286063, 0.4149326805385557, 0.41544117647058826, 0.41595092024539876, 0.41646191646191644, 0.41697416974169743, 0.41748768472906406, 0.41800246609124536, 0.4185185185185185, 0.41903584672435107, 0.41955445544554454, 0.4200743494423792, 0.4205955334987593, 0.42111801242236024, 0.42039800995024873, 0.42092154420921546, 0.42144638403990026, 0.42197253433208487, 0.4225, 0.4230287859824781, 0.4223057644110276, 0.4228356336260979, 0.4221105527638191, 0.4226415094339623, 0.42317380352644834, 0.42370744010088274, 0.42424242424242425, 0.4247787610619469, 0.4253164556962025, 0.42585551330798477, 0.4263959390862944, 0.4269377382465057, 0.42748091603053434, 0.4280254777070064, 0.42857142857142855, 0.42911877394636017, 0.4296675191815857, 0.43021766965428937, 0.4307692307692308, 0.4300385109114249, 0.42930591259640105, 0.42985842985842987, 0.43041237113402064, 0.4309677419354839, 0.4315245478036176, 0.4307891332470893, 0.43005181347150256, 0.43060959792477305, 0.43116883116883115, 0.4317295188556567, 0.4322916666666667, 0.43285528031290743, 0.43342036553524804, 0.4339869281045752, 0.43455497382198954, 0.4351245085190039, 0.4356955380577428, 0.43626806833114323, 0.4355263157894737, 0.43610013175230566, 0.4366754617414248, 0.4372523117569353, 0.43783068783068785, 0.4384105960264901, 0.4389920424403183, 0.4395750332005312, 0.4401595744680851, 0.440745672436751, 0.44133333333333336, 0.44192256341789055, 0.4411764705882353, 0.4404283801874163, 0.43967828418230565, 0.4389261744966443, 0.43951612903225806, 0.4387617765814266, 0.4380053908355795, 0.43724696356275305, 0.43783783783783786, 0.43843031123139375, 0.43902439024390244, 0.43826322930800543, 0.4388586956521739, 0.43945578231292515, 0.43869209809264303, 0.4392905866302865, 0.4385245901639344, 0.43912448700410395, 0.4397260273972603, 0.4403292181069959, 0.4409340659340659, 0.44154057771664373, 0.44214876033057854, 0.4413793103448276, 0.44060773480662985, 0.43983402489626555, 0.4404432132963989, 0.44105409153952846, 0.44166666666666665, 0.4422809457579972, 0.4415041782729805, 0.4421199442119944, 0.441340782122905, 0.44195804195804195, 0.4425770308123249, 0.4431977559607293, 0.4438202247191011, 0.4430379746835443, 0.44366197183098594, 0.44428772919605075, 0.4449152542372881, 0.44554455445544555, 0.4447592067988669, 0.4453900709219858, 0.4460227272727273, 0.4466571834992888, 0.4472934472934473, 0.44650499286733236, 0.4471428571428571, 0.44778254649499283, 0.4484240687679083, 0.4490674318507891, 0.44971264367816094, 0.4503597122302158, 0.4495677233429395, 0.45021645021645024, 0.44942196531791906, 0.45007235890014474, 0.45072463768115945, 0.4513788098693759, 0.45203488372093026, 0.4512372634643377, 0.4518950437317784, 0.45255474452554745, 0.4517543859649123, 0.45241581259150804, 0.45161290322580644, 0.4522760646108664, 0.45294117647058824, 0.4536082474226804, 0.45427728613569324, 0.4534711964549483, 0.4541420118343195, 0.45481481481481484, 0.45548961424332346, 0.4561664190193165, 0.4568452380952381, 0.45752608047690013, 0.45671641791044776, 0.45739910313901344, 0.45808383233532934, 0.4587706146926537, 0.45795795795795796, 0.45864661654135336, 0.45933734939759036, 0.46003016591251883, 0.4607250755287009, 0.4599092284417549, 0.4590909090909091, 0.4597875569044006, 0.46048632218844987, 0.4611872146118721, 0.46189024390243905, 0.46259541984732827, 0.463302752293578, 0.46401225114854516, 0.4647239263803681, 0.46543778801843316, 0.4646153846153846, 0.46533127889060094, 0.4660493827160494, 0.4667697063369397, 0.4674922600619195, 0.4666666666666667, 0.4673913043478261, 0.4665629860031104, 0.4672897196261682, 0.46801872074882994, 0.4671875, 0.4679186228482003, 0.46865203761755486, 0.46938775510204084, 0.470125786163522, 0.4692913385826772, 0.46845425867507884, 0.46919431279620855, 0.4699367088607595, 0.4706814580031696, 0.4714285714285714, 0.47217806041335453, 0.4729299363057325, 0.47368421052631576, 0.4744408945686901, 0.4752, 0.47596153846153844, 0.4767255216693419, 0.477491961414791, 0.4782608695652174, 0.4790322580645161, 0.4798061389337641, 0.48058252427184467, 0.47974068071312803, 0.4805194805194805, 0.4813008130081301, 0.4820846905537459, 0.4828711256117455, 0.48366013071895425, 0.4844517184942717, 0.48360655737704916, 0.4827586206896552, 0.4819078947368421, 0.4827018121911038, 0.4834983498349835, 0.484297520661157, 0.48344370860927155, 0.48258706467661694, 0.4833887043189369, 0.4825291181364393, 0.48333333333333334, 0.48247078464106846, 0.48327759197324416, 0.48408710217755446, 0.4848993288590604, 0.48403361344537815, 0.48484848484848486, 0.4856661045531197, 0.4847972972972973, 0.4856175972927242, 0.4847457627118644, 0.4855687606112054, 0.4846938775510204, 0.4855195911413969, 0.4863481228668942, 0.48717948717948717, 0.488013698630137, 0.4888507718696398, 0.4896907216494845, 0.4905335628227194, 0.4896551724137931, 0.4905008635578584, 0.4913494809688581, 0.49220103986135183, 0.4913194444444444, 0.49217391304347824, 0.4930313588850174, 0.493891797556719, 0.49475524475524474, 0.4956217162872154, 0.4964912280701754, 0.4973637961335677, 0.4964788732394366, 0.4973544973544973, 0.49823321554770317, 0.49911504424778763, 0.5, 0.5008880994671403, 0.501779359430605, 0.5026737967914439, 0.5017857142857143, 0.5026833631484794, 0.5017921146953405, 0.5026929982046678, 0.5035971223021583, 0.5027027027027027, 0.5018050541516246, 0.5027124773960217, 0.5018115942028986, 0.5027223230490018, 0.5036363636363637, 0.5045537340619308, 0.5036496350364964, 0.5045703839122486, 0.5054945054945055, 0.5064220183486239, 0.5055147058823529, 0.5046040515653776, 0.5055350553505535, 0.5064695009242144, 0.5074074074074074, 0.5083487940630798, 0.5092936802973977, 0.5102420856610801, 0.5093283582089553, 0.508411214953271, 0.5074906367041199, 0.5084427767354597, 0.5093984962406015, 0.5103578154425612, 0.5094339622641509, 0.5103969754253308, 0.509469696969697, 0.5104364326375711, 0.5114068441064639, 0.5123809523809524, 0.5114503816793893, 0.5105162523900574, 0.5114942528735632, 0.5124760076775432, 0.5134615384615384, 0.51252408477842, 0.5135135135135135, 0.5125725338491296, 0.5135658914728682, 0.512621359223301, 0.5136186770428015, 0.5146198830409356, 0.515625, 0.5146771037181996, 0.5137254901960784, 0.5127701375245579, 0.5137795275590551, 0.514792899408284, 0.5158102766798419, 0.5148514851485149, 0.5158730158730159, 0.5149105367793241, 0.5139442231075697, 0.5129740518962076, 0.514, 0.5130260521042084, 0.5140562248995983, 0.5130784708249497, 0.5120967741935484, 0.5131313131313131, 0.5141700404858299, 0.5152129817444219, 0.5142276422764228, 0.515274949083503, 0.5163265306122449, 0.5173824130879345, 0.5163934426229508, 0.5174537987679672, 0.5185185185185185, 0.5175257731958763, 0.518595041322314, 0.5196687370600414, 0.5186721991701245, 0.5176715176715176, 0.51875, 0.5198329853862212, 0.5209205020920502, 0.519916142557652, 0.5210084033613446, 0.5221052631578947, 0.5210970464135021, 0.5200845665961945, 0.5190677966101694, 0.5180467091295117, 0.5170212765957447, 0.5181236673773987, 0.5192307692307693, 0.5203426124197003, 0.5214592274678111, 0.5225806451612903, 0.5237068965517241, 0.5248380129589633, 0.525974025974026, 0.527114967462039, 0.5282608695652173, 0.5294117647058824, 0.5283842794759825, 0.5295404814004376, 0.5307017543859649, 0.5318681318681319, 0.5308370044052864, 0.5298013245033113, 0.5287610619469026, 0.5299334811529933, 0.5288888888888889, 0.5300668151447662, 0.5290178571428571, 0.5279642058165548, 0.5291479820627802, 0.5303370786516854, 0.5292792792792793, 0.5304740406320542, 0.5316742081447964, 0.5306122448979592, 0.5295454545454545, 0.5284738041002278, 0.5296803652968036, 0.5308924485125858, 0.5321100917431193, 0.5310344827586206, 0.532258064516129, 0.5311778290993071, 0.5324074074074074, 0.5336426914153132, 0.5348837209302325, 0.5337995337995338, 0.5350467289719626, 0.5339578454332553, 0.5352112676056338, 0.5364705882352941, 0.535377358490566, 0.5366430260047281, 0.5379146919431279, 0.5391923990498813, 0.5380952380952381, 0.5393794749403341, 0.5382775119617225, 0.5371702637889688, 0.5384615384615384, 0.5373493975903615, 0.538647342995169, 0.5399515738498789, 0.5412621359223301, 0.5425790754257908, 0.5414634146341464, 0.5403422982885085, 0.5416666666666666, 0.542997542997543, 0.541871921182266, 0.5432098765432098, 0.5420792079207921, 0.543424317617866, 0.5447761194029851, 0.5461346633416458, 0.545, 0.5463659147869674, 0.5477386934673367, 0.5491183879093199, 0.5505050505050505, 0.549367088607595, 0.550761421319797, 0.549618320610687, 0.548469387755102, 0.5498721227621484, 0.5512820512820513, 0.5501285347043702, 0.5515463917525774, 0.5529715762273901, 0.5544041450777202, 0.5558441558441558, 0.5572916666666666, 0.556135770234987, 0.5575916230366492, 0.5590551181102362, 0.5578947368421052, 0.5567282321899736, 0.5555555555555556, 0.5570291777188329, 0.5585106382978723, 0.56, 0.5588235294117647, 0.5576407506702413, 0.5564516129032258, 0.5579514824797843, 0.5567567567567567, 0.5582655826558266, 0.5597826086956522, 0.5613079019073569, 0.5601092896174863, 0.5616438356164384, 0.5631868131868132, 0.5647382920110193, 0.5662983425414365, 0.5678670360110804, 0.5694444444444444, 0.5682451253481894, 0.5698324022346368, 0.5686274509803921, 0.5702247191011236, 0.5690140845070423, 0.5706214689265536, 0.5722379603399433, 0.5710227272727273, 0.5698005698005698, 0.5685714285714286, 0.5702005730659025, 0.5718390804597702, 0.5734870317002881, 0.5751445086705202, 0.5768115942028985, 0.5755813953488372, 0.577259475218659, 0.5789473684210527, 0.5777126099706745, 0.5764705882352941, 0.5752212389380531, 0.5769230769230769, 0.5756676557863502, 0.5773809523809523, 0.5791044776119403, 0.5808383233532934, 0.5825825825825826, 0.5813253012048193, 0.5800604229607251, 0.5787878787878787, 0.5805471124620061, 0.5823170731707317, 0.5840978593272171, 0.5858895705521472, 0.5846153846153846, 0.5864197530864198, 0.5882352941176471, 0.5900621118012422, 0.5919003115264797, 0.59375, 0.5956112852664577, 0.5943396226415094, 0.5930599369085173, 0.5949367088607594, 0.5968253968253968, 0.5955414012738853, 0.5942492012779552, 0.5961538461538461, 0.5980707395498392, 0.6, 0.6019417475728155, 0.6038961038961039, 0.6058631921824105, 0.6078431372549019, 0.6065573770491803, 0.6085526315789473, 0.6072607260726073, 0.6059602649006622, 0.6079734219269103, 0.61, 0.6086956521739131, 0.6073825503355704, 0.6094276094276094, 0.6114864864864865, 0.6135593220338983, 0.6156462585034014, 0.6177474402730375, 0.6164383561643836, 0.6151202749140894, 0.6172413793103448, 0.6193771626297578, 0.6215277777777778, 0.6236933797909407, 0.6258741258741258, 0.6280701754385964, 0.6267605633802817, 0.6289752650176679, 0.6276595744680851, 0.6298932384341637, 0.6321428571428571, 0.6308243727598566, 0.6294964028776978, 0.631768953068592, 0.6340579710144928, 0.6327272727272727, 0.6313868613138686, 0.6336996336996337, 0.6360294117647058, 0.6383763837638377, 0.6370370370370371, 0.6356877323420075, 0.6380597014925373, 0.6367041198501873, 0.6390977443609023, 0.6415094339622641, 0.6439393939393939, 0.6425855513307985, 0.6450381679389313, 0.6475095785440613, 0.65, 0.6525096525096525, 0.6511627906976745, 0.6498054474708171, 0.65234375, 0.6509803921568628, 0.6496062992125984, 0.6521739130434783, 0.6507936507936508, 0.6533864541832669, 0.652, 0.6506024096385542, 0.6491935483870968, 0.6477732793522267, 0.6504065040650406, 0.6530612244897959, 0.6516393442622951, 0.654320987654321, 0.6570247933884298, 0.6556016597510373, 0.6583333333333333, 0.6610878661087866, 0.6638655462184874, 0.6624472573839663, 0.6652542372881356, 0.6680851063829787, 0.6709401709401709, 0.6695278969957081, 0.6724137931034483, 0.670995670995671, 0.6695652173913044, 0.6681222707423581, 0.6710526315789473, 0.6740088105726872, 0.6769911504424779, 0.6755555555555556, 0.6741071428571429, 0.6771300448430493, 0.6801801801801802, 0.6832579185520362, 0.6863636363636364, 0.684931506849315, 0.6834862385321101, 0.6820276497695853, 0.6805555555555556, 0.6837209302325581, 0.6822429906542056, 0.6807511737089202, 0.6792452830188679, 0.6824644549763034, 0.680952380952381, 0.6794258373205742, 0.6826923076923077, 0.6811594202898551, 0.6844660194174758, 0.6911764705882353, 0.6896551724137931, 0.693069306930693, 0.6915422885572139, 0.69, 0.6884422110552764, 0.6919191919191919, 0.6903553299492385, 0.6887755102040817, 0.6923076923076923, 0.6907216494845361, 0.689119170984456, 0.6875, 0.6858638743455497, 0.6894736842105263, 0.6878306878306878, 0.6914893617021277, 0.6898395721925134, 0.6935483870967742, 0.6918918918918919, 0.6902173913043478, 0.6939890710382514, 0.6923076923076923, 0.6906077348066298, 0.6888888888888889, 0.6871508379888268, 0.6853932584269663, 0.6836158192090396, 0.6818181818181818, 0.68, 0.6839080459770115, 0.6878612716763006, 0.686046511627907, 0.6900584795321637, 0.6941176470588235, 0.6923076923076923, 0.6904761904761905, 0.688622754491018, 0.6927710843373494, 0.696969696969697, 0.6951219512195121, 0.6932515337423313, 0.6975308641975309, 0.6956521739130435, 0.7, 0.7044025157232704, 0.7088607594936709, 0.7133757961783439, 0.717948717948718, 0.7161290322580646, 0.7142857142857143, 0.7124183006535948, 0.7171052631578947, 0.7152317880794702, 0.7133333333333334, 0.7114093959731543, 0.7094594594594594, 0.7074829931972789, 0.7054794520547946, 0.7103448275862069, 0.7152777777777778, 0.7202797202797203, 0.7183098591549296, 0.7163120567375887, 0.7142857142857143, 0.7122302158273381, 0.7101449275362319, 0.708029197080292, 0.7132352941176471, 0.7185185185185186, 0.7238805970149254, 0.7218045112781954, 0.7196969696969697, 0.7175572519083969, 0.7153846153846154, 0.7209302325581395, 0.7265625, 0.7244094488188977, 0.7222222222222222, 0.72, 0.7258064516129032, 0.7317073170731707, 0.7377049180327869, 0.7355371900826446, 0.7416666666666667, 0.7394957983193278, 0.7372881355932204, 0.7435897435897436, 0.75, 0.7565217391304347, 0.7631578947368421, 0.7610619469026548, 0.7589285714285714, 0.7567567567567568, 0.7636363636363637, 0.7614678899082569, 0.7592592592592593, 0.7663551401869159, 0.7641509433962265, 0.7619047619047619, 0.7596153846153846, 0.7572815533980582, 0.7549019607843137, 0.7524752475247525, 0.75, 0.7575757575757576, 0.7551020408163265, 0.7628865979381443, 0.7604166666666666, 0.7684210526315789, 0.7659574468085106, 0.7741935483870968, 0.7717391304347826, 0.7692307692307693, 0.7777777777777778, 0.7865168539325843, 0.7840909090909091, 0.7816091954022989, 0.7790697674418605, 0.788235294117647, 0.7976190476190477, 0.8072289156626506, 0.8048780487804879, 0.8024691358024691, 0.8, 0.7974683544303798, 0.7948717948717948, 0.7922077922077922, 0.7894736842105263, 0.7866666666666666, 0.7972972972972973, 0.7945205479452054, 0.8055555555555556, 0.8028169014084507, 0.8, 0.7971014492753623, 0.7941176470588235, 0.8059701492537313, 0.803030303030303, 0.8125, 0.8095238095238095, 0.8064516129032258, 0.8032786885245902, 0.8, 0.7966101694915254, 0.8103448275862069, 0.8245614035087719, 0.8214285714285714, 0.8181818181818182, 0.8333333333333334, 0.8301886792452831, 0.8269230769230769, 0.8235294117647058, 0.82, 0.8163265306122449, 0.8125, 0.8085106382978723, 0.8260869565217391, 0.8222222222222222, 0.8409090909090909, 0.8372093023255814, 0.8333333333333334, 0.8536585365853658, 0.85, 0.8461538461538461, 0.8421052631578947, 0.8378378378378378, 0.8333333333333334, 0.8285714285714286, 0.8235294117647058, 0.8181818181818182, 0.84375, 0.8387096774193549, 0.8333333333333334, 0.8275862068965517, 0.8214285714285714, 0.8148148148148148, 0.8076923076923077, 0.8, 0.7916666666666666, 0.782608695652174, 0.7727272727272727, 0.7619047619047619, 0.75, 0.7368421052631579, 0.7222222222222222, 0.7058823529411765, 0.6875, 0.6666666666666666, 0.7142857142857143, 0.6923076923076923, 0.6666666666666666, 0.7272727272727273, 0.8, 0.7777777777777778, 0.7142857142857143, 0.8333333333333334, 1.0, 1.0, 1.0, 1.0, 1.0]}],\n",
              "                        {\"height\": 500, \"template\": {\"data\": {\"bar\": [{\"error_x\": {\"color\": \"#2a3f5f\"}, \"error_y\": {\"color\": \"#2a3f5f\"}, \"marker\": {\"line\": {\"color\": \"#E5ECF6\", \"width\": 0.5}}, \"type\": \"bar\"}], \"barpolar\": [{\"marker\": {\"line\": {\"color\": \"#E5ECF6\", \"width\": 0.5}}, \"type\": \"barpolar\"}], \"carpet\": [{\"aaxis\": {\"endlinecolor\": \"#2a3f5f\", \"gridcolor\": \"white\", \"linecolor\": \"white\", \"minorgridcolor\": \"white\", \"startlinecolor\": \"#2a3f5f\"}, \"baxis\": {\"endlinecolor\": \"#2a3f5f\", \"gridcolor\": \"white\", \"linecolor\": \"white\", \"minorgridcolor\": \"white\", \"startlinecolor\": \"#2a3f5f\"}, \"type\": \"carpet\"}], \"choropleth\": [{\"colorbar\": {\"outlinewidth\": 0, \"ticks\": \"\"}, \"type\": \"choropleth\"}], \"contour\": [{\"colorbar\": {\"outlinewidth\": 0, \"ticks\": \"\"}, \"colorscale\": [[0.0, \"#0d0887\"], [0.1111111111111111, \"#46039f\"], [0.2222222222222222, \"#7201a8\"], [0.3333333333333333, \"#9c179e\"], [0.4444444444444444, \"#bd3786\"], [0.5555555555555556, \"#d8576b\"], [0.6666666666666666, \"#ed7953\"], [0.7777777777777778, \"#fb9f3a\"], [0.8888888888888888, \"#fdca26\"], [1.0, \"#f0f921\"]], \"type\": \"contour\"}], \"contourcarpet\": [{\"colorbar\": {\"outlinewidth\": 0, \"ticks\": \"\"}, \"type\": \"contourcarpet\"}], \"heatmap\": [{\"colorbar\": {\"outlinewidth\": 0, \"ticks\": \"\"}, \"colorscale\": [[0.0, \"#0d0887\"], [0.1111111111111111, \"#46039f\"], [0.2222222222222222, \"#7201a8\"], [0.3333333333333333, \"#9c179e\"], [0.4444444444444444, \"#bd3786\"], [0.5555555555555556, \"#d8576b\"], [0.6666666666666666, \"#ed7953\"], [0.7777777777777778, \"#fb9f3a\"], [0.8888888888888888, \"#fdca26\"], [1.0, \"#f0f921\"]], \"type\": \"heatmap\"}], \"heatmapgl\": [{\"colorbar\": {\"outlinewidth\": 0, \"ticks\": \"\"}, \"colorscale\": [[0.0, \"#0d0887\"], [0.1111111111111111, \"#46039f\"], [0.2222222222222222, \"#7201a8\"], [0.3333333333333333, \"#9c179e\"], [0.4444444444444444, \"#bd3786\"], [0.5555555555555556, \"#d8576b\"], [0.6666666666666666, \"#ed7953\"], [0.7777777777777778, \"#fb9f3a\"], [0.8888888888888888, \"#fdca26\"], [1.0, \"#f0f921\"]], \"type\": \"heatmapgl\"}], \"histogram\": [{\"marker\": {\"colorbar\": {\"outlinewidth\": 0, \"ticks\": \"\"}}, \"type\": \"histogram\"}], \"histogram2d\": [{\"colorbar\": {\"outlinewidth\": 0, \"ticks\": \"\"}, \"colorscale\": [[0.0, \"#0d0887\"], [0.1111111111111111, \"#46039f\"], [0.2222222222222222, \"#7201a8\"], [0.3333333333333333, \"#9c179e\"], [0.4444444444444444, \"#bd3786\"], [0.5555555555555556, \"#d8576b\"], [0.6666666666666666, \"#ed7953\"], [0.7777777777777778, \"#fb9f3a\"], [0.8888888888888888, \"#fdca26\"], [1.0, \"#f0f921\"]], \"type\": \"histogram2d\"}], \"histogram2dcontour\": [{\"colorbar\": {\"outlinewidth\": 0, \"ticks\": \"\"}, \"colorscale\": [[0.0, \"#0d0887\"], [0.1111111111111111, \"#46039f\"], [0.2222222222222222, \"#7201a8\"], [0.3333333333333333, \"#9c179e\"], [0.4444444444444444, \"#bd3786\"], [0.5555555555555556, \"#d8576b\"], [0.6666666666666666, \"#ed7953\"], [0.7777777777777778, \"#fb9f3a\"], [0.8888888888888888, \"#fdca26\"], [1.0, \"#f0f921\"]], \"type\": \"histogram2dcontour\"}], \"mesh3d\": [{\"colorbar\": {\"outlinewidth\": 0, \"ticks\": \"\"}, \"type\": \"mesh3d\"}], \"parcoords\": [{\"line\": {\"colorbar\": {\"outlinewidth\": 0, \"ticks\": \"\"}}, \"type\": \"parcoords\"}], \"pie\": [{\"automargin\": true, \"type\": \"pie\"}], \"scatter\": [{\"marker\": {\"colorbar\": {\"outlinewidth\": 0, \"ticks\": \"\"}}, \"type\": \"scatter\"}], \"scatter3d\": [{\"line\": {\"colorbar\": {\"outlinewidth\": 0, \"ticks\": \"\"}}, \"marker\": {\"colorbar\": {\"outlinewidth\": 0, \"ticks\": \"\"}}, \"type\": \"scatter3d\"}], \"scattercarpet\": [{\"marker\": {\"colorbar\": {\"outlinewidth\": 0, \"ticks\": \"\"}}, \"type\": \"scattercarpet\"}], \"scattergeo\": [{\"marker\": {\"colorbar\": {\"outlinewidth\": 0, \"ticks\": \"\"}}, \"type\": \"scattergeo\"}], \"scattergl\": [{\"marker\": {\"colorbar\": {\"outlinewidth\": 0, \"ticks\": \"\"}}, \"type\": \"scattergl\"}], \"scattermapbox\": [{\"marker\": {\"colorbar\": {\"outlinewidth\": 0, \"ticks\": \"\"}}, \"type\": \"scattermapbox\"}], \"scatterpolar\": [{\"marker\": {\"colorbar\": {\"outlinewidth\": 0, \"ticks\": \"\"}}, \"type\": \"scatterpolar\"}], \"scatterpolargl\": [{\"marker\": {\"colorbar\": {\"outlinewidth\": 0, \"ticks\": \"\"}}, \"type\": \"scatterpolargl\"}], \"scatterternary\": [{\"marker\": {\"colorbar\": {\"outlinewidth\": 0, \"ticks\": \"\"}}, \"type\": \"scatterternary\"}], \"surface\": [{\"colorbar\": {\"outlinewidth\": 0, \"ticks\": \"\"}, \"colorscale\": [[0.0, \"#0d0887\"], [0.1111111111111111, \"#46039f\"], [0.2222222222222222, \"#7201a8\"], [0.3333333333333333, \"#9c179e\"], [0.4444444444444444, \"#bd3786\"], [0.5555555555555556, \"#d8576b\"], [0.6666666666666666, \"#ed7953\"], [0.7777777777777778, \"#fb9f3a\"], [0.8888888888888888, \"#fdca26\"], [1.0, \"#f0f921\"]], \"type\": \"surface\"}], \"table\": [{\"cells\": {\"fill\": {\"color\": \"#EBF0F8\"}, \"line\": {\"color\": \"white\"}}, \"header\": {\"fill\": {\"color\": \"#C8D4E3\"}, \"line\": {\"color\": \"white\"}}, \"type\": \"table\"}]}, \"layout\": {\"annotationdefaults\": {\"arrowcolor\": \"#2a3f5f\", \"arrowhead\": 0, \"arrowwidth\": 1}, \"coloraxis\": {\"colorbar\": {\"outlinewidth\": 0, \"ticks\": \"\"}}, \"colorscale\": {\"diverging\": [[0, \"#8e0152\"], [0.1, \"#c51b7d\"], [0.2, \"#de77ae\"], [0.3, \"#f1b6da\"], [0.4, \"#fde0ef\"], [0.5, \"#f7f7f7\"], [0.6, \"#e6f5d0\"], [0.7, \"#b8e186\"], [0.8, \"#7fbc41\"], [0.9, \"#4d9221\"], [1, \"#276419\"]], \"sequential\": [[0.0, \"#0d0887\"], [0.1111111111111111, \"#46039f\"], [0.2222222222222222, \"#7201a8\"], [0.3333333333333333, \"#9c179e\"], [0.4444444444444444, \"#bd3786\"], [0.5555555555555556, \"#d8576b\"], [0.6666666666666666, \"#ed7953\"], [0.7777777777777778, \"#fb9f3a\"], [0.8888888888888888, \"#fdca26\"], [1.0, \"#f0f921\"]], \"sequentialminus\": [[0.0, \"#0d0887\"], [0.1111111111111111, \"#46039f\"], [0.2222222222222222, \"#7201a8\"], [0.3333333333333333, \"#9c179e\"], [0.4444444444444444, \"#bd3786\"], [0.5555555555555556, \"#d8576b\"], [0.6666666666666666, \"#ed7953\"], [0.7777777777777778, \"#fb9f3a\"], [0.8888888888888888, \"#fdca26\"], [1.0, \"#f0f921\"]]}, \"colorway\": [\"#636efa\", \"#EF553B\", \"#00cc96\", \"#ab63fa\", \"#FFA15A\", \"#19d3f3\", \"#FF6692\", \"#B6E880\", \"#FF97FF\", \"#FECB52\"], \"font\": {\"color\": \"#2a3f5f\"}, \"geo\": {\"bgcolor\": \"white\", \"lakecolor\": \"white\", \"landcolor\": \"#E5ECF6\", \"showlakes\": true, \"showland\": true, \"subunitcolor\": \"white\"}, \"hoverlabel\": {\"align\": \"left\"}, \"hovermode\": \"closest\", \"mapbox\": {\"style\": \"light\"}, \"paper_bgcolor\": \"white\", \"plot_bgcolor\": \"#E5ECF6\", \"polar\": {\"angularaxis\": {\"gridcolor\": \"white\", \"linecolor\": \"white\", \"ticks\": \"\"}, \"bgcolor\": \"#E5ECF6\", \"radialaxis\": {\"gridcolor\": \"white\", \"linecolor\": \"white\", \"ticks\": \"\"}}, \"scene\": {\"xaxis\": {\"backgroundcolor\": \"#E5ECF6\", \"gridcolor\": \"white\", \"gridwidth\": 2, \"linecolor\": \"white\", \"showbackground\": true, \"ticks\": \"\", \"zerolinecolor\": \"white\"}, \"yaxis\": {\"backgroundcolor\": \"#E5ECF6\", \"gridcolor\": \"white\", \"gridwidth\": 2, \"linecolor\": \"white\", \"showbackground\": true, \"ticks\": \"\", \"zerolinecolor\": \"white\"}, \"zaxis\": {\"backgroundcolor\": \"#E5ECF6\", \"gridcolor\": \"white\", \"gridwidth\": 2, \"linecolor\": \"white\", \"showbackground\": true, \"ticks\": \"\", \"zerolinecolor\": \"white\"}}, \"shapedefaults\": {\"line\": {\"color\": \"#2a3f5f\"}}, \"ternary\": {\"aaxis\": {\"gridcolor\": \"white\", \"linecolor\": \"white\", \"ticks\": \"\"}, \"baxis\": {\"gridcolor\": \"white\", \"linecolor\": \"white\", \"ticks\": \"\"}, \"bgcolor\": \"#E5ECF6\", \"caxis\": {\"gridcolor\": \"white\", \"linecolor\": \"white\", \"ticks\": \"\"}}, \"title\": {\"x\": 0.05}, \"xaxis\": {\"automargin\": true, \"gridcolor\": \"white\", \"linecolor\": \"white\", \"ticks\": \"\", \"title\": {\"standoff\": 15}, \"zerolinecolor\": \"white\", \"zerolinewidth\": 2}, \"yaxis\": {\"automargin\": true, \"gridcolor\": \"white\", \"linecolor\": \"white\", \"ticks\": \"\", \"title\": {\"standoff\": 15}, \"zerolinecolor\": \"white\", \"zerolinewidth\": 2}}}, \"title\": {\"text\": \"Precision-Recall Curve\", \"x\": 0.5}, \"width\": 750, \"xaxis\": {\"title\": {\"text\": \"Recall\"}}, \"yaxis\": {\"title\": {\"text\": \"Precision\"}}},\n",
              "                        {\"responsive\": true}\n",
              "                    ).then(function(){\n",
              "                            \n",
              "var gd = document.getElementById('1d44903e-89fa-40a3-9568-ca7e03f13507');\n",
              "var x = new MutationObserver(function (mutations, observer) {{\n",
              "        var display = window.getComputedStyle(gd).display;\n",
              "        if (!display || display === 'none') {{\n",
              "            console.log([gd, 'removed!']);\n",
              "            Plotly.purge(gd);\n",
              "            observer.disconnect();\n",
              "        }}\n",
              "}});\n",
              "\n",
              "// Listen for the removal of the full notebook cells\n",
              "var notebookContainer = gd.closest('#notebook-container');\n",
              "if (notebookContainer) {{\n",
              "    x.observe(notebookContainer, {childList: true});\n",
              "}}\n",
              "\n",
              "// Listen for the clearing of the current output cell\n",
              "var outputEl = gd.closest('.output');\n",
              "if (outputEl) {{\n",
              "    x.observe(outputEl, {childList: true});\n",
              "}}\n",
              "\n",
              "                        })\n",
              "                };\n",
              "                \n",
              "            </script>\n",
              "        </div>\n",
              "</body>\n",
              "</html>"
            ]
          },
          "metadata": {}
        }
      ]
    },
    {
      "cell_type": "markdown",
      "source": [
        "### Precision Recall AUC score\n",
        "\n",
        "Precision Recall AUC summarizes the integral or an approximation of the area under the precision-recall curve."
      ],
      "metadata": {
        "id": "aBeT6OQGpbq6"
      }
    },
    {
      "cell_type": "code",
      "source": [
        "from sklearn.metrics import auc\n",
        "print('--- Precision Recall AUC ---')\n",
        "print(f\"Logistic Regression: {auc(recall_lr,precision_lr)}\" ) # Logistic Regression\n",
        "print(f\"Naive Bayes: {auc(recall_gnb,precision_gnb)}\") # Gaussian Naive Bayes\n",
        "\n",
        "print(f'Neural Network: {auc(recall_nn,precision_nn)}')# Neural Network\n",
        "print(f\"K-Nearest Neighbors: {auc(recall_knn,precision_knn)} \") # K-Nearest Neighbors\n",
        "print(f\"Decision Tree: {auc(recall_dt,precision_dt)}\")  # Decision Tree\n",
        "print(f\"SVC: {auc(recall_svc,precision_svc)}\")# support vector classifier\n",
        "\n",
        "print(f\"Random Forest: {auc(recall_rf,precision_rf)}\") # Random Forest\n",
        "print(f\"ADA: {auc(recall_ada,precision_ada)}\")# ada boost\n",
        "print(f'SGB: {auc(recall_sgb,precision_sgb)}')   # stochastic gradient boosting\n",
        "print(f'CAT: {auc(recall_cat,precision_cat)}')   # Catboost classifier\n",
        "print(f'XGB: {auc(recall_xgb,precision_xgb)}')   # XGBoost"
      ],
      "metadata": {
        "colab": {
          "base_uri": "https://localhost:8080/"
        },
        "id": "mzrw8I7GNxIy",
        "outputId": "7ef83511-7adc-4698-d953-58ab74000b28"
      },
      "execution_count": 79,
      "outputs": [
        {
          "output_type": "stream",
          "name": "stdout",
          "text": [
            "--- Precision Recall AUC ---\n",
            "Logistic Regression: 0.6160892922905588\n",
            "Naive Bayes: 0.5974376835671213\n",
            "Neural Network: 0.6304480091440647\n",
            "K-Nearest Neighbors: 0.5612924727573698 \n",
            "Decision Tree: 0.48441676495767466\n",
            "SVC: 0.5366130611853053\n",
            "Random Forest: 0.6029395576529832\n",
            "ADA: 0.6463655076241783\n",
            "SGB: 0.6129560070924162\n",
            "CAT: 0.6216195281575403\n",
            "XGB: 0.6092666282016119\n"
          ]
        }
      ]
    },
    {
      "cell_type": "markdown",
      "source": [
        "### Summary & Conclusion\n",
        "\n",
        "Customer Churn Prediction involves handling a class imbalanced problem.  To deal with the class imbalaned problem, Synthetic Minority Oversampling TEchnique (SMOTE) method is used to oversample the minority class.\n",
        "\n",
        "11 ML Algorithms are investigated for the Churn Prediction problem.   Hypermeters of these algorithms were tuned using GridSearchCV. (The hypermeters tuning could be improved with further exploration). \n",
        "\n",
        "Performance of various algorithms (linear, nonlinear and ensemble)  are compared against below evaluation metrics.  \n",
        "\n",
        "1.   Precision Recall Curve and PR AUC Score\n",
        "    * If identifying the customers who are highly likely to churn is the most important, then the precision-recall curve and area under curve (PR AUC) can be used. This will optimize both precision and recall across all thresholds.\n",
        "     \n",
        "2.   ROC Curve and ROC AUC Score\n",
        "    * If both classes are equally important, the ROC Curve and area under curve (ROC AUC) can be used. This will maximize the true positive rate and minimize the false positive rate.\n",
        "    * ROC Curve shows false positive rate against the true positive rate (recall).\n",
        "\n",
        "Neural Network, Logistic Regression and ADAboost are the top performers for ROC AUC Score. \n",
        "\n",
        "ADABoost achieves the best PR AUC score.  In general, boosting algorithms perform better on the imbalanced data by giving an opportunity to focus more on the minority class and accordingly tune the training algorithm."
      ],
      "metadata": {
        "id": "J8Qcoj_0JTZC"
      }
    }
  ],
  "metadata": {
    "kernelspec": {
      "display_name": "Python 3",
      "language": "python",
      "name": "python3"
    },
    "language_info": {
      "codemirror_mode": {
        "name": "ipython",
        "version": 3
      },
      "file_extension": ".py",
      "mimetype": "text/x-python",
      "name": "python",
      "nbconvert_exporter": "python",
      "pygments_lexer": "ipython3",
      "version": "3.7.6"
    },
    "colab": {
      "name": "churn-prediction-using-linear-nonlinear-and-ensemble-algorithms.ipynb",
      "provenance": [],
      "collapsed_sections": [],
      "include_colab_link": true
    }
  },
  "nbformat": 4,
  "nbformat_minor": 0
}