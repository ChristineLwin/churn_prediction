{
  "cells": [
    {
      "cell_type": "markdown",
      "metadata": {
        "id": "view-in-github",
        "colab_type": "text"
      },
      "source": [
        "<a href=\"https://colab.research.google.com/github/ChristineLwin/churn_prediction/blob/main/Churn%20Prediction%20with%20ML%20algorithms.ipynb\" target=\"_parent\"><img src=\"https://colab.research.google.com/assets/colab-badge.svg\" alt=\"Open In Colab\"/></a>"
      ]
    },
    {
      "cell_type": "markdown",
      "metadata": {
        "id": "8Pp_kmGvgZpg"
      },
      "source": [
        "### Churn Prediction using ML algorithms\n",
        "* EDA \n",
        "* Preprocessing - Cleaning and Transformation\n",
        "    * Encoding\n",
        "    * Scaling \n",
        "    * Dealing with imbalanced data using synthetic minority oversampling technique, SMOTE \n",
        "* Prediction using ML algorithms \n",
        "    * Linear Algos\n",
        "        1. Naive Bayes\n",
        "        2. Logistic Regression\n",
        "    * Nonlinear Algos\n",
        "        3. NN\n",
        "        4. K Nearest Neighbour\n",
        "        5. Support Vector Classifier\n",
        "        6. Decision Tree Classifier\n",
        "    * Ensemble Algos\n",
        "        * Bagging Approach\n",
        "          7. Random Forest Classifier \n",
        "        * Boosting Approach\n",
        "          8. AdaBoost Classifier \n",
        "          9. CatBoost Classifier \n",
        "          10. Stochastic Gradient Boosting\n",
        "          11. XGBoost Classifier"
      ]
    },
    {
      "cell_type": "code",
      "execution_count": 1,
      "metadata": {
        "id": "0RaiuP6bgZpj"
      },
      "outputs": [],
      "source": [
        "!pip install jovian --upgrade --quiet\n",
        "!pip install statsmodels --quiet\n",
        "!pip install opendatasets --upgrade --quiet\n",
        "!pip install catboost --quiet"
      ]
    },
    {
      "cell_type": "code",
      "source": [
        "import opendatasets as od\n",
        "import pandas as pd\n",
        "import numpy as np\n",
        "import tensorflow as tf\n",
        "\n",
        "from tensorflow import keras\n",
        "from keras.models import Sequential\n",
        "from keras.layers import Dense\n",
        "from sklearn.linear_model import LogisticRegression\n",
        "\n",
        "from sklearn.neighbors import KNeighborsClassifier\n",
        "from sklearn.naive_bayes import GaussianNB\n",
        "from sklearn.svm import SVC\n",
        "\n",
        "from sklearn.tree import DecisionTreeClassifier\n",
        "from sklearn.ensemble import AdaBoostClassifier, GradientBoostingClassifier, RandomForestClassifier\n",
        "from catboost import CatBoostClassifier\n",
        "\n",
        "from sklearn.model_selection import train_test_split, GridSearchCV\n",
        "from sklearn.preprocessing import MinMaxScaler\n",
        "from sklearn.metrics import confusion_matrix, classification_report\n",
        "from sklearn.metrics import roc_curve, roc_auc_score, precision_recall_curve\n",
        "\n",
        "import matplotlib.pyplot as plt\n",
        "import plotly.express as px\n",
        "import plotly.graph_objects as go\n",
        "%matplotlib inline"
      ],
      "metadata": {
        "id": "MjDBMgwRiUU7"
      },
      "execution_count": 2,
      "outputs": []
    },
    {
      "cell_type": "code",
      "source": [
        "od.download('https://www.kaggle.com/blastchar/telco-customer-churn')"
      ],
      "metadata": {
        "colab": {
          "base_uri": "https://localhost:8080/"
        },
        "id": "uUgAk2SgiWJ0",
        "outputId": "45086f6c-af95-4592-a599-4d05c5e54a2a"
      },
      "execution_count": 3,
      "outputs": [
        {
          "output_type": "stream",
          "name": "stdout",
          "text": [
            "Skipping, found downloaded files in \"./telco-customer-churn\" (use force=True to force download)\n"
          ]
        }
      ]
    },
    {
      "cell_type": "code",
      "source": [
        "filepath = './telco-customer-churn/WA_Fn-UseC_-Telco-Customer-Churn.csv'"
      ],
      "metadata": {
        "id": "hPJbaionjAdr"
      },
      "execution_count": 4,
      "outputs": []
    },
    {
      "cell_type": "code",
      "source": [
        "df = pd.read_csv(filepath)\n",
        "print(df.shape)\n",
        "df.sample(3)"
      ],
      "metadata": {
        "colab": {
          "base_uri": "https://localhost:8080/",
          "height": 277
        },
        "id": "8TdWWdzsjGde",
        "outputId": "df6265ae-93e6-416a-8ef6-07d9b6c00111"
      },
      "execution_count": 5,
      "outputs": [
        {
          "output_type": "stream",
          "name": "stdout",
          "text": [
            "(7043, 21)\n"
          ]
        },
        {
          "output_type": "execute_result",
          "data": {
            "text/html": [
              "\n",
              "  <div id=\"df-b069493f-9eb0-4bf5-8561-3cdffb075005\">\n",
              "    <div class=\"colab-df-container\">\n",
              "      <div>\n",
              "<style scoped>\n",
              "    .dataframe tbody tr th:only-of-type {\n",
              "        vertical-align: middle;\n",
              "    }\n",
              "\n",
              "    .dataframe tbody tr th {\n",
              "        vertical-align: top;\n",
              "    }\n",
              "\n",
              "    .dataframe thead th {\n",
              "        text-align: right;\n",
              "    }\n",
              "</style>\n",
              "<table border=\"1\" class=\"dataframe\">\n",
              "  <thead>\n",
              "    <tr style=\"text-align: right;\">\n",
              "      <th></th>\n",
              "      <th>customerID</th>\n",
              "      <th>gender</th>\n",
              "      <th>SeniorCitizen</th>\n",
              "      <th>Partner</th>\n",
              "      <th>Dependents</th>\n",
              "      <th>tenure</th>\n",
              "      <th>PhoneService</th>\n",
              "      <th>MultipleLines</th>\n",
              "      <th>InternetService</th>\n",
              "      <th>OnlineSecurity</th>\n",
              "      <th>OnlineBackup</th>\n",
              "      <th>DeviceProtection</th>\n",
              "      <th>TechSupport</th>\n",
              "      <th>StreamingTV</th>\n",
              "      <th>StreamingMovies</th>\n",
              "      <th>Contract</th>\n",
              "      <th>PaperlessBilling</th>\n",
              "      <th>PaymentMethod</th>\n",
              "      <th>MonthlyCharges</th>\n",
              "      <th>TotalCharges</th>\n",
              "      <th>Churn</th>\n",
              "    </tr>\n",
              "  </thead>\n",
              "  <tbody>\n",
              "    <tr>\n",
              "      <th>1543</th>\n",
              "      <td>0330-IVZHA</td>\n",
              "      <td>Female</td>\n",
              "      <td>0</td>\n",
              "      <td>Yes</td>\n",
              "      <td>No</td>\n",
              "      <td>5</td>\n",
              "      <td>Yes</td>\n",
              "      <td>No</td>\n",
              "      <td>Fiber optic</td>\n",
              "      <td>No</td>\n",
              "      <td>No</td>\n",
              "      <td>No</td>\n",
              "      <td>No</td>\n",
              "      <td>No</td>\n",
              "      <td>No</td>\n",
              "      <td>Month-to-month</td>\n",
              "      <td>No</td>\n",
              "      <td>Electronic check</td>\n",
              "      <td>69.95</td>\n",
              "      <td>330.15</td>\n",
              "      <td>Yes</td>\n",
              "    </tr>\n",
              "    <tr>\n",
              "      <th>3652</th>\n",
              "      <td>0612-RTZZA</td>\n",
              "      <td>Female</td>\n",
              "      <td>1</td>\n",
              "      <td>No</td>\n",
              "      <td>No</td>\n",
              "      <td>1</td>\n",
              "      <td>No</td>\n",
              "      <td>No phone service</td>\n",
              "      <td>DSL</td>\n",
              "      <td>No</td>\n",
              "      <td>No</td>\n",
              "      <td>No</td>\n",
              "      <td>No</td>\n",
              "      <td>No</td>\n",
              "      <td>No</td>\n",
              "      <td>Month-to-month</td>\n",
              "      <td>No</td>\n",
              "      <td>Electronic check</td>\n",
              "      <td>25.25</td>\n",
              "      <td>25.25</td>\n",
              "      <td>Yes</td>\n",
              "    </tr>\n",
              "    <tr>\n",
              "      <th>1565</th>\n",
              "      <td>6968-GMKPR</td>\n",
              "      <td>Female</td>\n",
              "      <td>0</td>\n",
              "      <td>No</td>\n",
              "      <td>No</td>\n",
              "      <td>55</td>\n",
              "      <td>Yes</td>\n",
              "      <td>No</td>\n",
              "      <td>Fiber optic</td>\n",
              "      <td>No</td>\n",
              "      <td>Yes</td>\n",
              "      <td>Yes</td>\n",
              "      <td>No</td>\n",
              "      <td>No</td>\n",
              "      <td>No</td>\n",
              "      <td>Month-to-month</td>\n",
              "      <td>Yes</td>\n",
              "      <td>Electronic check</td>\n",
              "      <td>81.55</td>\n",
              "      <td>4509.5</td>\n",
              "      <td>No</td>\n",
              "    </tr>\n",
              "  </tbody>\n",
              "</table>\n",
              "</div>\n",
              "      <button class=\"colab-df-convert\" onclick=\"convertToInteractive('df-b069493f-9eb0-4bf5-8561-3cdffb075005')\"\n",
              "              title=\"Convert this dataframe to an interactive table.\"\n",
              "              style=\"display:none;\">\n",
              "        \n",
              "  <svg xmlns=\"http://www.w3.org/2000/svg\" height=\"24px\"viewBox=\"0 0 24 24\"\n",
              "       width=\"24px\">\n",
              "    <path d=\"M0 0h24v24H0V0z\" fill=\"none\"/>\n",
              "    <path d=\"M18.56 5.44l.94 2.06.94-2.06 2.06-.94-2.06-.94-.94-2.06-.94 2.06-2.06.94zm-11 1L8.5 8.5l.94-2.06 2.06-.94-2.06-.94L8.5 2.5l-.94 2.06-2.06.94zm10 10l.94 2.06.94-2.06 2.06-.94-2.06-.94-.94-2.06-.94 2.06-2.06.94z\"/><path d=\"M17.41 7.96l-1.37-1.37c-.4-.4-.92-.59-1.43-.59-.52 0-1.04.2-1.43.59L10.3 9.45l-7.72 7.72c-.78.78-.78 2.05 0 2.83L4 21.41c.39.39.9.59 1.41.59.51 0 1.02-.2 1.41-.59l7.78-7.78 2.81-2.81c.8-.78.8-2.07 0-2.86zM5.41 20L4 18.59l7.72-7.72 1.47 1.35L5.41 20z\"/>\n",
              "  </svg>\n",
              "      </button>\n",
              "      \n",
              "  <style>\n",
              "    .colab-df-container {\n",
              "      display:flex;\n",
              "      flex-wrap:wrap;\n",
              "      gap: 12px;\n",
              "    }\n",
              "\n",
              "    .colab-df-convert {\n",
              "      background-color: #E8F0FE;\n",
              "      border: none;\n",
              "      border-radius: 50%;\n",
              "      cursor: pointer;\n",
              "      display: none;\n",
              "      fill: #1967D2;\n",
              "      height: 32px;\n",
              "      padding: 0 0 0 0;\n",
              "      width: 32px;\n",
              "    }\n",
              "\n",
              "    .colab-df-convert:hover {\n",
              "      background-color: #E2EBFA;\n",
              "      box-shadow: 0px 1px 2px rgba(60, 64, 67, 0.3), 0px 1px 3px 1px rgba(60, 64, 67, 0.15);\n",
              "      fill: #174EA6;\n",
              "    }\n",
              "\n",
              "    [theme=dark] .colab-df-convert {\n",
              "      background-color: #3B4455;\n",
              "      fill: #D2E3FC;\n",
              "    }\n",
              "\n",
              "    [theme=dark] .colab-df-convert:hover {\n",
              "      background-color: #434B5C;\n",
              "      box-shadow: 0px 1px 3px 1px rgba(0, 0, 0, 0.15);\n",
              "      filter: drop-shadow(0px 1px 2px rgba(0, 0, 0, 0.3));\n",
              "      fill: #FFFFFF;\n",
              "    }\n",
              "  </style>\n",
              "\n",
              "      <script>\n",
              "        const buttonEl =\n",
              "          document.querySelector('#df-b069493f-9eb0-4bf5-8561-3cdffb075005 button.colab-df-convert');\n",
              "        buttonEl.style.display =\n",
              "          google.colab.kernel.accessAllowed ? 'block' : 'none';\n",
              "\n",
              "        async function convertToInteractive(key) {\n",
              "          const element = document.querySelector('#df-b069493f-9eb0-4bf5-8561-3cdffb075005');\n",
              "          const dataTable =\n",
              "            await google.colab.kernel.invokeFunction('convertToInteractive',\n",
              "                                                     [key], {});\n",
              "          if (!dataTable) return;\n",
              "\n",
              "          const docLinkHtml = 'Like what you see? Visit the ' +\n",
              "            '<a target=\"_blank\" href=https://colab.research.google.com/notebooks/data_table.ipynb>data table notebook</a>'\n",
              "            + ' to learn more about interactive tables.';\n",
              "          element.innerHTML = '';\n",
              "          dataTable['output_type'] = 'display_data';\n",
              "          await google.colab.output.renderOutput(dataTable, element);\n",
              "          const docLink = document.createElement('div');\n",
              "          docLink.innerHTML = docLinkHtml;\n",
              "          element.appendChild(docLink);\n",
              "        }\n",
              "      </script>\n",
              "    </div>\n",
              "  </div>\n",
              "  "
            ],
            "text/plain": [
              "      customerID  gender  SeniorCitizen  ... MonthlyCharges TotalCharges  Churn\n",
              "1543  0330-IVZHA  Female              0  ...          69.95       330.15    Yes\n",
              "3652  0612-RTZZA  Female              1  ...          25.25        25.25    Yes\n",
              "1565  6968-GMKPR  Female              0  ...          81.55       4509.5     No\n",
              "\n",
              "[3 rows x 21 columns]"
            ]
          },
          "metadata": {},
          "execution_count": 5
        }
      ]
    },
    {
      "cell_type": "code",
      "source": [
        "df.columns"
      ],
      "metadata": {
        "colab": {
          "base_uri": "https://localhost:8080/"
        },
        "id": "XuauPqEvjMHs",
        "outputId": "53084a6d-7776-42dd-ad73-c397667c43f2"
      },
      "execution_count": 6,
      "outputs": [
        {
          "output_type": "execute_result",
          "data": {
            "text/plain": [
              "Index(['customerID', 'gender', 'SeniorCitizen', 'Partner', 'Dependents',\n",
              "       'tenure', 'PhoneService', 'MultipleLines', 'InternetService',\n",
              "       'OnlineSecurity', 'OnlineBackup', 'DeviceProtection', 'TechSupport',\n",
              "       'StreamingTV', 'StreamingMovies', 'Contract', 'PaperlessBilling',\n",
              "       'PaymentMethod', 'MonthlyCharges', 'TotalCharges', 'Churn'],\n",
              "      dtype='object')"
            ]
          },
          "metadata": {},
          "execution_count": 6
        }
      ]
    },
    {
      "cell_type": "code",
      "source": [
        "df.dtypes"
      ],
      "metadata": {
        "colab": {
          "base_uri": "https://localhost:8080/"
        },
        "id": "d4SuBQD8jRRb",
        "outputId": "2a3657c3-3d9d-47be-ca1f-48fa259e870a"
      },
      "execution_count": 7,
      "outputs": [
        {
          "output_type": "execute_result",
          "data": {
            "text/plain": [
              "customerID           object\n",
              "gender               object\n",
              "SeniorCitizen         int64\n",
              "Partner              object\n",
              "Dependents           object\n",
              "tenure                int64\n",
              "PhoneService         object\n",
              "MultipleLines        object\n",
              "InternetService      object\n",
              "OnlineSecurity       object\n",
              "OnlineBackup         object\n",
              "DeviceProtection     object\n",
              "TechSupport          object\n",
              "StreamingTV          object\n",
              "StreamingMovies      object\n",
              "Contract             object\n",
              "PaperlessBilling     object\n",
              "PaymentMethod        object\n",
              "MonthlyCharges      float64\n",
              "TotalCharges         object\n",
              "Churn                object\n",
              "dtype: object"
            ]
          },
          "metadata": {},
          "execution_count": 7
        }
      ]
    },
    {
      "cell_type": "markdown",
      "source": [
        "#### Preprocessing and Cleaning"
      ],
      "metadata": {
        "id": "oEvfx1HSj0AS"
      }
    },
    {
      "cell_type": "markdown",
      "source": [
        "TotalCharges type is string object.  Convert it to float type.  "
      ],
      "metadata": {
        "id": "WOBjVT5Vj34P"
      }
    },
    {
      "cell_type": "code",
      "source": [
        "print(df['TotalCharges'].dtype)\n",
        "print(df.TotalCharges.values)"
      ],
      "metadata": {
        "colab": {
          "base_uri": "https://localhost:8080/"
        },
        "id": "M8P60jEvjR1J",
        "outputId": "49285fea-def0-4a08-8516-d74014247160"
      },
      "execution_count": 8,
      "outputs": [
        {
          "output_type": "stream",
          "name": "stdout",
          "text": [
            "object\n",
            "['29.85' '1889.5' '108.15' ... '346.45' '306.6' '6844.5']\n"
          ]
        }
      ]
    },
    {
      "cell_type": "markdown",
      "source": [
        "#### Missing values\n",
        "\n",
        "There are 11 records with missing values(empty string) in TotalCharges column.  Since it is only a small proportion (0.15% of the dataset), those records are dropped."
      ],
      "metadata": {
        "id": "SeW8JLA0j_KK"
      }
    },
    {
      "cell_type": "code",
      "source": [
        "print('No. of records with empty string: ',df[pd.to_numeric(df.TotalCharges,errors='coerce').isnull()].shape[0])\n",
        "\n",
        "#index of the TotalCharges with missing values\n",
        "idxlst = list(df[pd.to_numeric(df.TotalCharges,errors='coerce').isnull()].index)\n",
        "# below results show that totalcharges columns have empty string\n",
        "df.loc[idxlst,['tenure','MonthlyCharges','TotalCharges','Churn']]"
      ],
      "metadata": {
        "colab": {
          "base_uri": "https://localhost:8080/",
          "height": 412
        },
        "id": "d_Cx7b1Ujbbz",
        "outputId": "26dad60f-d004-4c50-9c57-8abd14dd33a7"
      },
      "execution_count": 9,
      "outputs": [
        {
          "output_type": "stream",
          "name": "stdout",
          "text": [
            "No. of records with empty string:  11\n"
          ]
        },
        {
          "output_type": "execute_result",
          "data": {
            "text/html": [
              "\n",
              "  <div id=\"df-c7a26f51-43dc-4775-b915-a7a66274cf5f\">\n",
              "    <div class=\"colab-df-container\">\n",
              "      <div>\n",
              "<style scoped>\n",
              "    .dataframe tbody tr th:only-of-type {\n",
              "        vertical-align: middle;\n",
              "    }\n",
              "\n",
              "    .dataframe tbody tr th {\n",
              "        vertical-align: top;\n",
              "    }\n",
              "\n",
              "    .dataframe thead th {\n",
              "        text-align: right;\n",
              "    }\n",
              "</style>\n",
              "<table border=\"1\" class=\"dataframe\">\n",
              "  <thead>\n",
              "    <tr style=\"text-align: right;\">\n",
              "      <th></th>\n",
              "      <th>tenure</th>\n",
              "      <th>MonthlyCharges</th>\n",
              "      <th>TotalCharges</th>\n",
              "      <th>Churn</th>\n",
              "    </tr>\n",
              "  </thead>\n",
              "  <tbody>\n",
              "    <tr>\n",
              "      <th>488</th>\n",
              "      <td>0</td>\n",
              "      <td>52.55</td>\n",
              "      <td></td>\n",
              "      <td>No</td>\n",
              "    </tr>\n",
              "    <tr>\n",
              "      <th>753</th>\n",
              "      <td>0</td>\n",
              "      <td>20.25</td>\n",
              "      <td></td>\n",
              "      <td>No</td>\n",
              "    </tr>\n",
              "    <tr>\n",
              "      <th>936</th>\n",
              "      <td>0</td>\n",
              "      <td>80.85</td>\n",
              "      <td></td>\n",
              "      <td>No</td>\n",
              "    </tr>\n",
              "    <tr>\n",
              "      <th>1082</th>\n",
              "      <td>0</td>\n",
              "      <td>25.75</td>\n",
              "      <td></td>\n",
              "      <td>No</td>\n",
              "    </tr>\n",
              "    <tr>\n",
              "      <th>1340</th>\n",
              "      <td>0</td>\n",
              "      <td>56.05</td>\n",
              "      <td></td>\n",
              "      <td>No</td>\n",
              "    </tr>\n",
              "    <tr>\n",
              "      <th>3331</th>\n",
              "      <td>0</td>\n",
              "      <td>19.85</td>\n",
              "      <td></td>\n",
              "      <td>No</td>\n",
              "    </tr>\n",
              "    <tr>\n",
              "      <th>3826</th>\n",
              "      <td>0</td>\n",
              "      <td>25.35</td>\n",
              "      <td></td>\n",
              "      <td>No</td>\n",
              "    </tr>\n",
              "    <tr>\n",
              "      <th>4380</th>\n",
              "      <td>0</td>\n",
              "      <td>20.00</td>\n",
              "      <td></td>\n",
              "      <td>No</td>\n",
              "    </tr>\n",
              "    <tr>\n",
              "      <th>5218</th>\n",
              "      <td>0</td>\n",
              "      <td>19.70</td>\n",
              "      <td></td>\n",
              "      <td>No</td>\n",
              "    </tr>\n",
              "    <tr>\n",
              "      <th>6670</th>\n",
              "      <td>0</td>\n",
              "      <td>73.35</td>\n",
              "      <td></td>\n",
              "      <td>No</td>\n",
              "    </tr>\n",
              "    <tr>\n",
              "      <th>6754</th>\n",
              "      <td>0</td>\n",
              "      <td>61.90</td>\n",
              "      <td></td>\n",
              "      <td>No</td>\n",
              "    </tr>\n",
              "  </tbody>\n",
              "</table>\n",
              "</div>\n",
              "      <button class=\"colab-df-convert\" onclick=\"convertToInteractive('df-c7a26f51-43dc-4775-b915-a7a66274cf5f')\"\n",
              "              title=\"Convert this dataframe to an interactive table.\"\n",
              "              style=\"display:none;\">\n",
              "        \n",
              "  <svg xmlns=\"http://www.w3.org/2000/svg\" height=\"24px\"viewBox=\"0 0 24 24\"\n",
              "       width=\"24px\">\n",
              "    <path d=\"M0 0h24v24H0V0z\" fill=\"none\"/>\n",
              "    <path d=\"M18.56 5.44l.94 2.06.94-2.06 2.06-.94-2.06-.94-.94-2.06-.94 2.06-2.06.94zm-11 1L8.5 8.5l.94-2.06 2.06-.94-2.06-.94L8.5 2.5l-.94 2.06-2.06.94zm10 10l.94 2.06.94-2.06 2.06-.94-2.06-.94-.94-2.06-.94 2.06-2.06.94z\"/><path d=\"M17.41 7.96l-1.37-1.37c-.4-.4-.92-.59-1.43-.59-.52 0-1.04.2-1.43.59L10.3 9.45l-7.72 7.72c-.78.78-.78 2.05 0 2.83L4 21.41c.39.39.9.59 1.41.59.51 0 1.02-.2 1.41-.59l7.78-7.78 2.81-2.81c.8-.78.8-2.07 0-2.86zM5.41 20L4 18.59l7.72-7.72 1.47 1.35L5.41 20z\"/>\n",
              "  </svg>\n",
              "      </button>\n",
              "      \n",
              "  <style>\n",
              "    .colab-df-container {\n",
              "      display:flex;\n",
              "      flex-wrap:wrap;\n",
              "      gap: 12px;\n",
              "    }\n",
              "\n",
              "    .colab-df-convert {\n",
              "      background-color: #E8F0FE;\n",
              "      border: none;\n",
              "      border-radius: 50%;\n",
              "      cursor: pointer;\n",
              "      display: none;\n",
              "      fill: #1967D2;\n",
              "      height: 32px;\n",
              "      padding: 0 0 0 0;\n",
              "      width: 32px;\n",
              "    }\n",
              "\n",
              "    .colab-df-convert:hover {\n",
              "      background-color: #E2EBFA;\n",
              "      box-shadow: 0px 1px 2px rgba(60, 64, 67, 0.3), 0px 1px 3px 1px rgba(60, 64, 67, 0.15);\n",
              "      fill: #174EA6;\n",
              "    }\n",
              "\n",
              "    [theme=dark] .colab-df-convert {\n",
              "      background-color: #3B4455;\n",
              "      fill: #D2E3FC;\n",
              "    }\n",
              "\n",
              "    [theme=dark] .colab-df-convert:hover {\n",
              "      background-color: #434B5C;\n",
              "      box-shadow: 0px 1px 3px 1px rgba(0, 0, 0, 0.15);\n",
              "      filter: drop-shadow(0px 1px 2px rgba(0, 0, 0, 0.3));\n",
              "      fill: #FFFFFF;\n",
              "    }\n",
              "  </style>\n",
              "\n",
              "      <script>\n",
              "        const buttonEl =\n",
              "          document.querySelector('#df-c7a26f51-43dc-4775-b915-a7a66274cf5f button.colab-df-convert');\n",
              "        buttonEl.style.display =\n",
              "          google.colab.kernel.accessAllowed ? 'block' : 'none';\n",
              "\n",
              "        async function convertToInteractive(key) {\n",
              "          const element = document.querySelector('#df-c7a26f51-43dc-4775-b915-a7a66274cf5f');\n",
              "          const dataTable =\n",
              "            await google.colab.kernel.invokeFunction('convertToInteractive',\n",
              "                                                     [key], {});\n",
              "          if (!dataTable) return;\n",
              "\n",
              "          const docLinkHtml = 'Like what you see? Visit the ' +\n",
              "            '<a target=\"_blank\" href=https://colab.research.google.com/notebooks/data_table.ipynb>data table notebook</a>'\n",
              "            + ' to learn more about interactive tables.';\n",
              "          element.innerHTML = '';\n",
              "          dataTable['output_type'] = 'display_data';\n",
              "          await google.colab.output.renderOutput(dataTable, element);\n",
              "          const docLink = document.createElement('div');\n",
              "          docLink.innerHTML = docLinkHtml;\n",
              "          element.appendChild(docLink);\n",
              "        }\n",
              "      </script>\n",
              "    </div>\n",
              "  </div>\n",
              "  "
            ],
            "text/plain": [
              "      tenure  MonthlyCharges TotalCharges Churn\n",
              "488        0           52.55                 No\n",
              "753        0           20.25                 No\n",
              "936        0           80.85                 No\n",
              "1082       0           25.75                 No\n",
              "1340       0           56.05                 No\n",
              "3331       0           19.85                 No\n",
              "3826       0           25.35                 No\n",
              "4380       0           20.00                 No\n",
              "5218       0           19.70                 No\n",
              "6670       0           73.35                 No\n",
              "6754       0           61.90                 No"
            ]
          },
          "metadata": {},
          "execution_count": 9
        }
      ]
    },
    {
      "cell_type": "markdown",
      "source": [
        "All missing records are also customers with No churn as well as with Zero tenure. As there are significant samples for No Churn (majority class), these 11 missing records/rows are dropped. Customer ID column/feature is also dropped.  "
      ],
      "metadata": {
        "id": "_47QJATgkNNU"
      }
    },
    {
      "cell_type": "code",
      "source": [
        "#drop the missing records/rows\n",
        "df1 = df.drop(idxlst,axis=0)\n",
        "#drop customerID column\n",
        "df1 = df1.drop('customerID',axis=1)\n",
        "df1.shape"
      ],
      "metadata": {
        "colab": {
          "base_uri": "https://localhost:8080/"
        },
        "id": "INJFwbYFjbe9",
        "outputId": "146678e3-4840-461c-ad1c-d4e340dcd1a7"
      },
      "execution_count": 10,
      "outputs": [
        {
          "output_type": "execute_result",
          "data": {
            "text/plain": [
              "(7032, 20)"
            ]
          },
          "metadata": {},
          "execution_count": 10
        }
      ]
    },
    {
      "cell_type": "code",
      "source": [
        "#convert from string object to float64\n",
        "df1 = df1.astype({'TotalCharges':np.float64})\n",
        "df1.TotalCharges.dtypes"
      ],
      "metadata": {
        "colab": {
          "base_uri": "https://localhost:8080/"
        },
        "id": "GAVngl8wkRDv",
        "outputId": "ea5b8fff-b1b9-4fb7-917f-3debd87e664a"
      },
      "execution_count": 11,
      "outputs": [
        {
          "output_type": "execute_result",
          "data": {
            "text/plain": [
              "dtype('float64')"
            ]
          },
          "metadata": {},
          "execution_count": 11
        }
      ]
    },
    {
      "cell_type": "markdown",
      "source": [
        "Statistics of the numeric features - dataset contains tenure range from 1 to 72 and montlycharges rage from 18 to 118. "
      ],
      "metadata": {
        "id": "zlTTEJOqkbxV"
      }
    },
    {
      "cell_type": "code",
      "source": [
        "df1.describe()"
      ],
      "metadata": {
        "colab": {
          "base_uri": "https://localhost:8080/",
          "height": 300
        },
        "id": "AR-0nW__kRWI",
        "outputId": "9ef26081-64a5-4818-ca44-32aec1d20d7d"
      },
      "execution_count": 12,
      "outputs": [
        {
          "output_type": "execute_result",
          "data": {
            "text/html": [
              "\n",
              "  <div id=\"df-fecc2de1-89b7-4b39-8359-5326a42e0aaa\">\n",
              "    <div class=\"colab-df-container\">\n",
              "      <div>\n",
              "<style scoped>\n",
              "    .dataframe tbody tr th:only-of-type {\n",
              "        vertical-align: middle;\n",
              "    }\n",
              "\n",
              "    .dataframe tbody tr th {\n",
              "        vertical-align: top;\n",
              "    }\n",
              "\n",
              "    .dataframe thead th {\n",
              "        text-align: right;\n",
              "    }\n",
              "</style>\n",
              "<table border=\"1\" class=\"dataframe\">\n",
              "  <thead>\n",
              "    <tr style=\"text-align: right;\">\n",
              "      <th></th>\n",
              "      <th>SeniorCitizen</th>\n",
              "      <th>tenure</th>\n",
              "      <th>MonthlyCharges</th>\n",
              "      <th>TotalCharges</th>\n",
              "    </tr>\n",
              "  </thead>\n",
              "  <tbody>\n",
              "    <tr>\n",
              "      <th>count</th>\n",
              "      <td>7032.000000</td>\n",
              "      <td>7032.000000</td>\n",
              "      <td>7032.000000</td>\n",
              "      <td>7032.000000</td>\n",
              "    </tr>\n",
              "    <tr>\n",
              "      <th>mean</th>\n",
              "      <td>0.162400</td>\n",
              "      <td>32.421786</td>\n",
              "      <td>64.798208</td>\n",
              "      <td>2283.300441</td>\n",
              "    </tr>\n",
              "    <tr>\n",
              "      <th>std</th>\n",
              "      <td>0.368844</td>\n",
              "      <td>24.545260</td>\n",
              "      <td>30.085974</td>\n",
              "      <td>2266.771362</td>\n",
              "    </tr>\n",
              "    <tr>\n",
              "      <th>min</th>\n",
              "      <td>0.000000</td>\n",
              "      <td>1.000000</td>\n",
              "      <td>18.250000</td>\n",
              "      <td>18.800000</td>\n",
              "    </tr>\n",
              "    <tr>\n",
              "      <th>25%</th>\n",
              "      <td>0.000000</td>\n",
              "      <td>9.000000</td>\n",
              "      <td>35.587500</td>\n",
              "      <td>401.450000</td>\n",
              "    </tr>\n",
              "    <tr>\n",
              "      <th>50%</th>\n",
              "      <td>0.000000</td>\n",
              "      <td>29.000000</td>\n",
              "      <td>70.350000</td>\n",
              "      <td>1397.475000</td>\n",
              "    </tr>\n",
              "    <tr>\n",
              "      <th>75%</th>\n",
              "      <td>0.000000</td>\n",
              "      <td>55.000000</td>\n",
              "      <td>89.862500</td>\n",
              "      <td>3794.737500</td>\n",
              "    </tr>\n",
              "    <tr>\n",
              "      <th>max</th>\n",
              "      <td>1.000000</td>\n",
              "      <td>72.000000</td>\n",
              "      <td>118.750000</td>\n",
              "      <td>8684.800000</td>\n",
              "    </tr>\n",
              "  </tbody>\n",
              "</table>\n",
              "</div>\n",
              "      <button class=\"colab-df-convert\" onclick=\"convertToInteractive('df-fecc2de1-89b7-4b39-8359-5326a42e0aaa')\"\n",
              "              title=\"Convert this dataframe to an interactive table.\"\n",
              "              style=\"display:none;\">\n",
              "        \n",
              "  <svg xmlns=\"http://www.w3.org/2000/svg\" height=\"24px\"viewBox=\"0 0 24 24\"\n",
              "       width=\"24px\">\n",
              "    <path d=\"M0 0h24v24H0V0z\" fill=\"none\"/>\n",
              "    <path d=\"M18.56 5.44l.94 2.06.94-2.06 2.06-.94-2.06-.94-.94-2.06-.94 2.06-2.06.94zm-11 1L8.5 8.5l.94-2.06 2.06-.94-2.06-.94L8.5 2.5l-.94 2.06-2.06.94zm10 10l.94 2.06.94-2.06 2.06-.94-2.06-.94-.94-2.06-.94 2.06-2.06.94z\"/><path d=\"M17.41 7.96l-1.37-1.37c-.4-.4-.92-.59-1.43-.59-.52 0-1.04.2-1.43.59L10.3 9.45l-7.72 7.72c-.78.78-.78 2.05 0 2.83L4 21.41c.39.39.9.59 1.41.59.51 0 1.02-.2 1.41-.59l7.78-7.78 2.81-2.81c.8-.78.8-2.07 0-2.86zM5.41 20L4 18.59l7.72-7.72 1.47 1.35L5.41 20z\"/>\n",
              "  </svg>\n",
              "      </button>\n",
              "      \n",
              "  <style>\n",
              "    .colab-df-container {\n",
              "      display:flex;\n",
              "      flex-wrap:wrap;\n",
              "      gap: 12px;\n",
              "    }\n",
              "\n",
              "    .colab-df-convert {\n",
              "      background-color: #E8F0FE;\n",
              "      border: none;\n",
              "      border-radius: 50%;\n",
              "      cursor: pointer;\n",
              "      display: none;\n",
              "      fill: #1967D2;\n",
              "      height: 32px;\n",
              "      padding: 0 0 0 0;\n",
              "      width: 32px;\n",
              "    }\n",
              "\n",
              "    .colab-df-convert:hover {\n",
              "      background-color: #E2EBFA;\n",
              "      box-shadow: 0px 1px 2px rgba(60, 64, 67, 0.3), 0px 1px 3px 1px rgba(60, 64, 67, 0.15);\n",
              "      fill: #174EA6;\n",
              "    }\n",
              "\n",
              "    [theme=dark] .colab-df-convert {\n",
              "      background-color: #3B4455;\n",
              "      fill: #D2E3FC;\n",
              "    }\n",
              "\n",
              "    [theme=dark] .colab-df-convert:hover {\n",
              "      background-color: #434B5C;\n",
              "      box-shadow: 0px 1px 3px 1px rgba(0, 0, 0, 0.15);\n",
              "      filter: drop-shadow(0px 1px 2px rgba(0, 0, 0, 0.3));\n",
              "      fill: #FFFFFF;\n",
              "    }\n",
              "  </style>\n",
              "\n",
              "      <script>\n",
              "        const buttonEl =\n",
              "          document.querySelector('#df-fecc2de1-89b7-4b39-8359-5326a42e0aaa button.colab-df-convert');\n",
              "        buttonEl.style.display =\n",
              "          google.colab.kernel.accessAllowed ? 'block' : 'none';\n",
              "\n",
              "        async function convertToInteractive(key) {\n",
              "          const element = document.querySelector('#df-fecc2de1-89b7-4b39-8359-5326a42e0aaa');\n",
              "          const dataTable =\n",
              "            await google.colab.kernel.invokeFunction('convertToInteractive',\n",
              "                                                     [key], {});\n",
              "          if (!dataTable) return;\n",
              "\n",
              "          const docLinkHtml = 'Like what you see? Visit the ' +\n",
              "            '<a target=\"_blank\" href=https://colab.research.google.com/notebooks/data_table.ipynb>data table notebook</a>'\n",
              "            + ' to learn more about interactive tables.';\n",
              "          element.innerHTML = '';\n",
              "          dataTable['output_type'] = 'display_data';\n",
              "          await google.colab.output.renderOutput(dataTable, element);\n",
              "          const docLink = document.createElement('div');\n",
              "          docLink.innerHTML = docLinkHtml;\n",
              "          element.appendChild(docLink);\n",
              "        }\n",
              "      </script>\n",
              "    </div>\n",
              "  </div>\n",
              "  "
            ],
            "text/plain": [
              "       SeniorCitizen       tenure  MonthlyCharges  TotalCharges\n",
              "count    7032.000000  7032.000000     7032.000000   7032.000000\n",
              "mean        0.162400    32.421786       64.798208   2283.300441\n",
              "std         0.368844    24.545260       30.085974   2266.771362\n",
              "min         0.000000     1.000000       18.250000     18.800000\n",
              "25%         0.000000     9.000000       35.587500    401.450000\n",
              "50%         0.000000    29.000000       70.350000   1397.475000\n",
              "75%         0.000000    55.000000       89.862500   3794.737500\n",
              "max         1.000000    72.000000      118.750000   8684.800000"
            ]
          },
          "metadata": {},
          "execution_count": 12
        }
      ]
    },
    {
      "cell_type": "markdown",
      "source": [
        "#### Preprocessing and Data Transformation \n",
        "Tranform categorical data to numerical data.  "
      ],
      "metadata": {
        "id": "jT3RMCtOkkot"
      }
    },
    {
      "cell_type": "code",
      "source": [
        "telcom_df = df1.copy()\n",
        "telcom_df.sample(3)"
      ],
      "metadata": {
        "colab": {
          "base_uri": "https://localhost:8080/",
          "height": 260
        },
        "id": "gGLmLzZ0kglZ",
        "outputId": "f10b60de-5750-454f-8c05-1dcce6ed082b"
      },
      "execution_count": 13,
      "outputs": [
        {
          "output_type": "execute_result",
          "data": {
            "text/html": [
              "\n",
              "  <div id=\"df-ed20319c-cca2-4445-a3a0-549a4c65204a\">\n",
              "    <div class=\"colab-df-container\">\n",
              "      <div>\n",
              "<style scoped>\n",
              "    .dataframe tbody tr th:only-of-type {\n",
              "        vertical-align: middle;\n",
              "    }\n",
              "\n",
              "    .dataframe tbody tr th {\n",
              "        vertical-align: top;\n",
              "    }\n",
              "\n",
              "    .dataframe thead th {\n",
              "        text-align: right;\n",
              "    }\n",
              "</style>\n",
              "<table border=\"1\" class=\"dataframe\">\n",
              "  <thead>\n",
              "    <tr style=\"text-align: right;\">\n",
              "      <th></th>\n",
              "      <th>gender</th>\n",
              "      <th>SeniorCitizen</th>\n",
              "      <th>Partner</th>\n",
              "      <th>Dependents</th>\n",
              "      <th>tenure</th>\n",
              "      <th>PhoneService</th>\n",
              "      <th>MultipleLines</th>\n",
              "      <th>InternetService</th>\n",
              "      <th>OnlineSecurity</th>\n",
              "      <th>OnlineBackup</th>\n",
              "      <th>DeviceProtection</th>\n",
              "      <th>TechSupport</th>\n",
              "      <th>StreamingTV</th>\n",
              "      <th>StreamingMovies</th>\n",
              "      <th>Contract</th>\n",
              "      <th>PaperlessBilling</th>\n",
              "      <th>PaymentMethod</th>\n",
              "      <th>MonthlyCharges</th>\n",
              "      <th>TotalCharges</th>\n",
              "      <th>Churn</th>\n",
              "    </tr>\n",
              "  </thead>\n",
              "  <tbody>\n",
              "    <tr>\n",
              "      <th>2647</th>\n",
              "      <td>Female</td>\n",
              "      <td>0</td>\n",
              "      <td>No</td>\n",
              "      <td>No</td>\n",
              "      <td>2</td>\n",
              "      <td>Yes</td>\n",
              "      <td>No</td>\n",
              "      <td>No</td>\n",
              "      <td>No internet service</td>\n",
              "      <td>No internet service</td>\n",
              "      <td>No internet service</td>\n",
              "      <td>No internet service</td>\n",
              "      <td>No internet service</td>\n",
              "      <td>No internet service</td>\n",
              "      <td>Month-to-month</td>\n",
              "      <td>Yes</td>\n",
              "      <td>Mailed check</td>\n",
              "      <td>20.00</td>\n",
              "      <td>40.90</td>\n",
              "      <td>No</td>\n",
              "    </tr>\n",
              "    <tr>\n",
              "      <th>5004</th>\n",
              "      <td>Female</td>\n",
              "      <td>0</td>\n",
              "      <td>Yes</td>\n",
              "      <td>No</td>\n",
              "      <td>64</td>\n",
              "      <td>Yes</td>\n",
              "      <td>Yes</td>\n",
              "      <td>Fiber optic</td>\n",
              "      <td>No</td>\n",
              "      <td>Yes</td>\n",
              "      <td>Yes</td>\n",
              "      <td>Yes</td>\n",
              "      <td>Yes</td>\n",
              "      <td>Yes</td>\n",
              "      <td>Month-to-month</td>\n",
              "      <td>Yes</td>\n",
              "      <td>Electronic check</td>\n",
              "      <td>111.15</td>\n",
              "      <td>6953.40</td>\n",
              "      <td>No</td>\n",
              "    </tr>\n",
              "    <tr>\n",
              "      <th>2379</th>\n",
              "      <td>Male</td>\n",
              "      <td>1</td>\n",
              "      <td>Yes</td>\n",
              "      <td>No</td>\n",
              "      <td>32</td>\n",
              "      <td>Yes</td>\n",
              "      <td>Yes</td>\n",
              "      <td>Fiber optic</td>\n",
              "      <td>No</td>\n",
              "      <td>Yes</td>\n",
              "      <td>Yes</td>\n",
              "      <td>No</td>\n",
              "      <td>Yes</td>\n",
              "      <td>Yes</td>\n",
              "      <td>Month-to-month</td>\n",
              "      <td>No</td>\n",
              "      <td>Bank transfer (automatic)</td>\n",
              "      <td>106.35</td>\n",
              "      <td>3520.75</td>\n",
              "      <td>Yes</td>\n",
              "    </tr>\n",
              "  </tbody>\n",
              "</table>\n",
              "</div>\n",
              "      <button class=\"colab-df-convert\" onclick=\"convertToInteractive('df-ed20319c-cca2-4445-a3a0-549a4c65204a')\"\n",
              "              title=\"Convert this dataframe to an interactive table.\"\n",
              "              style=\"display:none;\">\n",
              "        \n",
              "  <svg xmlns=\"http://www.w3.org/2000/svg\" height=\"24px\"viewBox=\"0 0 24 24\"\n",
              "       width=\"24px\">\n",
              "    <path d=\"M0 0h24v24H0V0z\" fill=\"none\"/>\n",
              "    <path d=\"M18.56 5.44l.94 2.06.94-2.06 2.06-.94-2.06-.94-.94-2.06-.94 2.06-2.06.94zm-11 1L8.5 8.5l.94-2.06 2.06-.94-2.06-.94L8.5 2.5l-.94 2.06-2.06.94zm10 10l.94 2.06.94-2.06 2.06-.94-2.06-.94-.94-2.06-.94 2.06-2.06.94z\"/><path d=\"M17.41 7.96l-1.37-1.37c-.4-.4-.92-.59-1.43-.59-.52 0-1.04.2-1.43.59L10.3 9.45l-7.72 7.72c-.78.78-.78 2.05 0 2.83L4 21.41c.39.39.9.59 1.41.59.51 0 1.02-.2 1.41-.59l7.78-7.78 2.81-2.81c.8-.78.8-2.07 0-2.86zM5.41 20L4 18.59l7.72-7.72 1.47 1.35L5.41 20z\"/>\n",
              "  </svg>\n",
              "      </button>\n",
              "      \n",
              "  <style>\n",
              "    .colab-df-container {\n",
              "      display:flex;\n",
              "      flex-wrap:wrap;\n",
              "      gap: 12px;\n",
              "    }\n",
              "\n",
              "    .colab-df-convert {\n",
              "      background-color: #E8F0FE;\n",
              "      border: none;\n",
              "      border-radius: 50%;\n",
              "      cursor: pointer;\n",
              "      display: none;\n",
              "      fill: #1967D2;\n",
              "      height: 32px;\n",
              "      padding: 0 0 0 0;\n",
              "      width: 32px;\n",
              "    }\n",
              "\n",
              "    .colab-df-convert:hover {\n",
              "      background-color: #E2EBFA;\n",
              "      box-shadow: 0px 1px 2px rgba(60, 64, 67, 0.3), 0px 1px 3px 1px rgba(60, 64, 67, 0.15);\n",
              "      fill: #174EA6;\n",
              "    }\n",
              "\n",
              "    [theme=dark] .colab-df-convert {\n",
              "      background-color: #3B4455;\n",
              "      fill: #D2E3FC;\n",
              "    }\n",
              "\n",
              "    [theme=dark] .colab-df-convert:hover {\n",
              "      background-color: #434B5C;\n",
              "      box-shadow: 0px 1px 3px 1px rgba(0, 0, 0, 0.15);\n",
              "      filter: drop-shadow(0px 1px 2px rgba(0, 0, 0, 0.3));\n",
              "      fill: #FFFFFF;\n",
              "    }\n",
              "  </style>\n",
              "\n",
              "      <script>\n",
              "        const buttonEl =\n",
              "          document.querySelector('#df-ed20319c-cca2-4445-a3a0-549a4c65204a button.colab-df-convert');\n",
              "        buttonEl.style.display =\n",
              "          google.colab.kernel.accessAllowed ? 'block' : 'none';\n",
              "\n",
              "        async function convertToInteractive(key) {\n",
              "          const element = document.querySelector('#df-ed20319c-cca2-4445-a3a0-549a4c65204a');\n",
              "          const dataTable =\n",
              "            await google.colab.kernel.invokeFunction('convertToInteractive',\n",
              "                                                     [key], {});\n",
              "          if (!dataTable) return;\n",
              "\n",
              "          const docLinkHtml = 'Like what you see? Visit the ' +\n",
              "            '<a target=\"_blank\" href=https://colab.research.google.com/notebooks/data_table.ipynb>data table notebook</a>'\n",
              "            + ' to learn more about interactive tables.';\n",
              "          element.innerHTML = '';\n",
              "          dataTable['output_type'] = 'display_data';\n",
              "          await google.colab.output.renderOutput(dataTable, element);\n",
              "          const docLink = document.createElement('div');\n",
              "          docLink.innerHTML = docLinkHtml;\n",
              "          element.appendChild(docLink);\n",
              "        }\n",
              "      </script>\n",
              "    </div>\n",
              "  </div>\n",
              "  "
            ],
            "text/plain": [
              "      gender  SeniorCitizen Partner  ... MonthlyCharges  TotalCharges Churn\n",
              "2647  Female              0      No  ...          20.00         40.90    No\n",
              "5004  Female              0     Yes  ...         111.15       6953.40    No\n",
              "2379    Male              1     Yes  ...         106.35       3520.75   Yes\n",
              "\n",
              "[3 rows x 20 columns]"
            ]
          },
          "metadata": {},
          "execution_count": 13
        }
      ]
    },
    {
      "cell_type": "code",
      "source": [
        "# unique values of categorical features\n",
        "def print_unique_cols(df):\n",
        "    for col in df.columns:\n",
        "        if df[col].dtypes=='O':\n",
        "            print(f'{col} = {df[col].unique()}')"
      ],
      "metadata": {
        "id": "B1nzHbwEkmPw"
      },
      "execution_count": 14,
      "outputs": []
    },
    {
      "cell_type": "code",
      "source": [
        "print_unique_cols(telcom_df)"
      ],
      "metadata": {
        "colab": {
          "base_uri": "https://localhost:8080/"
        },
        "id": "OD-X1yq9kq8y",
        "outputId": "6f4ef2ee-35a6-48d5-f4ef-c1299e4b72e3"
      },
      "execution_count": 15,
      "outputs": [
        {
          "output_type": "stream",
          "name": "stdout",
          "text": [
            "gender = ['Female' 'Male']\n",
            "Partner = ['Yes' 'No']\n",
            "Dependents = ['No' 'Yes']\n",
            "PhoneService = ['No' 'Yes']\n",
            "MultipleLines = ['No phone service' 'No' 'Yes']\n",
            "InternetService = ['DSL' 'Fiber optic' 'No']\n",
            "OnlineSecurity = ['No' 'Yes' 'No internet service']\n",
            "OnlineBackup = ['Yes' 'No' 'No internet service']\n",
            "DeviceProtection = ['No' 'Yes' 'No internet service']\n",
            "TechSupport = ['No' 'Yes' 'No internet service']\n",
            "StreamingTV = ['No' 'Yes' 'No internet service']\n",
            "StreamingMovies = ['No' 'Yes' 'No internet service']\n",
            "Contract = ['Month-to-month' 'One year' 'Two year']\n",
            "PaperlessBilling = ['Yes' 'No']\n",
            "PaymentMethod = ['Electronic check' 'Mailed check' 'Bank transfer (automatic)'\n",
            " 'Credit card (automatic)']\n",
            "Churn = ['No' 'Yes']\n"
          ]
        }
      ]
    },
    {
      "cell_type": "markdown",
      "source": [
        "## Encoding\n",
        "\n",
        "#### Convert binary features to 0 and 1.     Female = 0, Male = 1;  No = 0, Yes = 1;"
      ],
      "metadata": {
        "id": "QS8fygoSkzRJ"
      }
    },
    {
      "cell_type": "code",
      "source": [
        "telcom_df.gender.replace({'Female':0,'Male':1},inplace=True)\n",
        "bicols = ['Partner','Dependents','PhoneService','PaperlessBilling','Churn']\n",
        "for c in bicols:\n",
        "    telcom_df[c].replace({'Yes':1,'No':0}, inplace= True)"
      ],
      "metadata": {
        "id": "SCOzQvVEkmTG"
      },
      "execution_count": 16,
      "outputs": []
    },
    {
      "cell_type": "code",
      "source": [
        "for c in telcom_df.columns:\n",
        "    print(f'{c} = {telcom_df[c].unique()}')"
      ],
      "metadata": {
        "colab": {
          "base_uri": "https://localhost:8080/"
        },
        "id": "moXFPOOalGj9",
        "outputId": "9a9422d5-4e94-4779-bae2-bf3478838dd9"
      },
      "execution_count": 17,
      "outputs": [
        {
          "output_type": "stream",
          "name": "stdout",
          "text": [
            "gender = [0 1]\n",
            "SeniorCitizen = [0 1]\n",
            "Partner = [1 0]\n",
            "Dependents = [0 1]\n",
            "tenure = [ 1 34  2 45  8 22 10 28 62 13 16 58 49 25 69 52 71 21 12 30 47 72 17 27\n",
            "  5 46 11 70 63 43 15 60 18 66  9  3 31 50 64 56  7 42 35 48 29 65 38 68\n",
            " 32 55 37 36 41  6  4 33 67 23 57 61 14 20 53 40 59 24 44 19 54 51 26 39]\n",
            "PhoneService = [0 1]\n",
            "MultipleLines = ['No phone service' 'No' 'Yes']\n",
            "InternetService = ['DSL' 'Fiber optic' 'No']\n",
            "OnlineSecurity = ['No' 'Yes' 'No internet service']\n",
            "OnlineBackup = ['Yes' 'No' 'No internet service']\n",
            "DeviceProtection = ['No' 'Yes' 'No internet service']\n",
            "TechSupport = ['No' 'Yes' 'No internet service']\n",
            "StreamingTV = ['No' 'Yes' 'No internet service']\n",
            "StreamingMovies = ['No' 'Yes' 'No internet service']\n",
            "Contract = ['Month-to-month' 'One year' 'Two year']\n",
            "PaperlessBilling = [1 0]\n",
            "PaymentMethod = ['Electronic check' 'Mailed check' 'Bank transfer (automatic)'\n",
            " 'Credit card (automatic)']\n",
            "MonthlyCharges = [29.85 56.95 53.85 ... 63.1  44.2  78.7 ]\n",
            "TotalCharges = [  29.85 1889.5   108.15 ...  346.45  306.6  6844.5 ]\n",
            "Churn = [0 1]\n"
          ]
        }
      ]
    },
    {
      "cell_type": "markdown",
      "source": [
        "#### Convert multi-categorical feature to one hot encoding.  "
      ],
      "metadata": {
        "id": "FU9gaxs1lLkU"
      }
    },
    {
      "cell_type": "code",
      "source": [
        "print_unique_cols(telcom_df)"
      ],
      "metadata": {
        "colab": {
          "base_uri": "https://localhost:8080/"
        },
        "id": "uC4hEYMSk4a0",
        "outputId": "6de09a6f-4a17-4b2d-fb95-ba41b9758301"
      },
      "execution_count": 18,
      "outputs": [
        {
          "output_type": "stream",
          "name": "stdout",
          "text": [
            "MultipleLines = ['No phone service' 'No' 'Yes']\n",
            "InternetService = ['DSL' 'Fiber optic' 'No']\n",
            "OnlineSecurity = ['No' 'Yes' 'No internet service']\n",
            "OnlineBackup = ['Yes' 'No' 'No internet service']\n",
            "DeviceProtection = ['No' 'Yes' 'No internet service']\n",
            "TechSupport = ['No' 'Yes' 'No internet service']\n",
            "StreamingTV = ['No' 'Yes' 'No internet service']\n",
            "StreamingMovies = ['No' 'Yes' 'No internet service']\n",
            "Contract = ['Month-to-month' 'One year' 'Two year']\n",
            "PaymentMethod = ['Electronic check' 'Mailed check' 'Bank transfer (automatic)'\n",
            " 'Credit card (automatic)']\n"
          ]
        }
      ]
    },
    {
      "cell_type": "code",
      "source": [
        "cat_col = ['MultipleLines','InternetService','OnlineSecurity','OnlineBackup',\n",
        "           'DeviceProtection','TechSupport','StreamingTV','StreamingMovies',\n",
        "           'Contract','PaymentMethod']\n",
        "telcom_df = pd.get_dummies(data=telcom_df,columns=cat_col,drop_first=True)\n",
        "telcom_df.sample(3)"
      ],
      "metadata": {
        "colab": {
          "base_uri": "https://localhost:8080/",
          "height": 242
        },
        "id": "TA2WlEWrlM10",
        "outputId": "7e89645b-56b7-4a21-f85a-c17a6a7af8da"
      },
      "execution_count": 19,
      "outputs": [
        {
          "output_type": "execute_result",
          "data": {
            "text/html": [
              "\n",
              "  <div id=\"df-e269693e-ccbe-49dc-b271-898efb4099c7\">\n",
              "    <div class=\"colab-df-container\">\n",
              "      <div>\n",
              "<style scoped>\n",
              "    .dataframe tbody tr th:only-of-type {\n",
              "        vertical-align: middle;\n",
              "    }\n",
              "\n",
              "    .dataframe tbody tr th {\n",
              "        vertical-align: top;\n",
              "    }\n",
              "\n",
              "    .dataframe thead th {\n",
              "        text-align: right;\n",
              "    }\n",
              "</style>\n",
              "<table border=\"1\" class=\"dataframe\">\n",
              "  <thead>\n",
              "    <tr style=\"text-align: right;\">\n",
              "      <th></th>\n",
              "      <th>gender</th>\n",
              "      <th>SeniorCitizen</th>\n",
              "      <th>Partner</th>\n",
              "      <th>Dependents</th>\n",
              "      <th>tenure</th>\n",
              "      <th>PhoneService</th>\n",
              "      <th>PaperlessBilling</th>\n",
              "      <th>MonthlyCharges</th>\n",
              "      <th>TotalCharges</th>\n",
              "      <th>Churn</th>\n",
              "      <th>MultipleLines_No phone service</th>\n",
              "      <th>MultipleLines_Yes</th>\n",
              "      <th>InternetService_Fiber optic</th>\n",
              "      <th>InternetService_No</th>\n",
              "      <th>OnlineSecurity_No internet service</th>\n",
              "      <th>OnlineSecurity_Yes</th>\n",
              "      <th>OnlineBackup_No internet service</th>\n",
              "      <th>OnlineBackup_Yes</th>\n",
              "      <th>DeviceProtection_No internet service</th>\n",
              "      <th>DeviceProtection_Yes</th>\n",
              "      <th>TechSupport_No internet service</th>\n",
              "      <th>TechSupport_Yes</th>\n",
              "      <th>StreamingTV_No internet service</th>\n",
              "      <th>StreamingTV_Yes</th>\n",
              "      <th>StreamingMovies_No internet service</th>\n",
              "      <th>StreamingMovies_Yes</th>\n",
              "      <th>Contract_One year</th>\n",
              "      <th>Contract_Two year</th>\n",
              "      <th>PaymentMethod_Credit card (automatic)</th>\n",
              "      <th>PaymentMethod_Electronic check</th>\n",
              "      <th>PaymentMethod_Mailed check</th>\n",
              "    </tr>\n",
              "  </thead>\n",
              "  <tbody>\n",
              "    <tr>\n",
              "      <th>3595</th>\n",
              "      <td>0</td>\n",
              "      <td>1</td>\n",
              "      <td>0</td>\n",
              "      <td>0</td>\n",
              "      <td>2</td>\n",
              "      <td>1</td>\n",
              "      <td>1</td>\n",
              "      <td>70.2</td>\n",
              "      <td>115.95</td>\n",
              "      <td>1</td>\n",
              "      <td>0</td>\n",
              "      <td>0</td>\n",
              "      <td>1</td>\n",
              "      <td>0</td>\n",
              "      <td>0</td>\n",
              "      <td>0</td>\n",
              "      <td>0</td>\n",
              "      <td>0</td>\n",
              "      <td>0</td>\n",
              "      <td>0</td>\n",
              "      <td>0</td>\n",
              "      <td>0</td>\n",
              "      <td>0</td>\n",
              "      <td>0</td>\n",
              "      <td>0</td>\n",
              "      <td>0</td>\n",
              "      <td>0</td>\n",
              "      <td>0</td>\n",
              "      <td>0</td>\n",
              "      <td>0</td>\n",
              "      <td>0</td>\n",
              "    </tr>\n",
              "    <tr>\n",
              "      <th>1335</th>\n",
              "      <td>1</td>\n",
              "      <td>0</td>\n",
              "      <td>0</td>\n",
              "      <td>0</td>\n",
              "      <td>2</td>\n",
              "      <td>1</td>\n",
              "      <td>1</td>\n",
              "      <td>45.0</td>\n",
              "      <td>96.45</td>\n",
              "      <td>1</td>\n",
              "      <td>0</td>\n",
              "      <td>0</td>\n",
              "      <td>0</td>\n",
              "      <td>0</td>\n",
              "      <td>0</td>\n",
              "      <td>0</td>\n",
              "      <td>0</td>\n",
              "      <td>0</td>\n",
              "      <td>0</td>\n",
              "      <td>0</td>\n",
              "      <td>0</td>\n",
              "      <td>0</td>\n",
              "      <td>0</td>\n",
              "      <td>0</td>\n",
              "      <td>0</td>\n",
              "      <td>0</td>\n",
              "      <td>0</td>\n",
              "      <td>0</td>\n",
              "      <td>0</td>\n",
              "      <td>0</td>\n",
              "      <td>1</td>\n",
              "    </tr>\n",
              "    <tr>\n",
              "      <th>4116</th>\n",
              "      <td>0</td>\n",
              "      <td>0</td>\n",
              "      <td>1</td>\n",
              "      <td>1</td>\n",
              "      <td>20</td>\n",
              "      <td>1</td>\n",
              "      <td>0</td>\n",
              "      <td>19.7</td>\n",
              "      <td>395.60</td>\n",
              "      <td>0</td>\n",
              "      <td>0</td>\n",
              "      <td>0</td>\n",
              "      <td>0</td>\n",
              "      <td>1</td>\n",
              "      <td>1</td>\n",
              "      <td>0</td>\n",
              "      <td>1</td>\n",
              "      <td>0</td>\n",
              "      <td>1</td>\n",
              "      <td>0</td>\n",
              "      <td>1</td>\n",
              "      <td>0</td>\n",
              "      <td>1</td>\n",
              "      <td>0</td>\n",
              "      <td>1</td>\n",
              "      <td>0</td>\n",
              "      <td>1</td>\n",
              "      <td>0</td>\n",
              "      <td>0</td>\n",
              "      <td>0</td>\n",
              "      <td>0</td>\n",
              "    </tr>\n",
              "  </tbody>\n",
              "</table>\n",
              "</div>\n",
              "      <button class=\"colab-df-convert\" onclick=\"convertToInteractive('df-e269693e-ccbe-49dc-b271-898efb4099c7')\"\n",
              "              title=\"Convert this dataframe to an interactive table.\"\n",
              "              style=\"display:none;\">\n",
              "        \n",
              "  <svg xmlns=\"http://www.w3.org/2000/svg\" height=\"24px\"viewBox=\"0 0 24 24\"\n",
              "       width=\"24px\">\n",
              "    <path d=\"M0 0h24v24H0V0z\" fill=\"none\"/>\n",
              "    <path d=\"M18.56 5.44l.94 2.06.94-2.06 2.06-.94-2.06-.94-.94-2.06-.94 2.06-2.06.94zm-11 1L8.5 8.5l.94-2.06 2.06-.94-2.06-.94L8.5 2.5l-.94 2.06-2.06.94zm10 10l.94 2.06.94-2.06 2.06-.94-2.06-.94-.94-2.06-.94 2.06-2.06.94z\"/><path d=\"M17.41 7.96l-1.37-1.37c-.4-.4-.92-.59-1.43-.59-.52 0-1.04.2-1.43.59L10.3 9.45l-7.72 7.72c-.78.78-.78 2.05 0 2.83L4 21.41c.39.39.9.59 1.41.59.51 0 1.02-.2 1.41-.59l7.78-7.78 2.81-2.81c.8-.78.8-2.07 0-2.86zM5.41 20L4 18.59l7.72-7.72 1.47 1.35L5.41 20z\"/>\n",
              "  </svg>\n",
              "      </button>\n",
              "      \n",
              "  <style>\n",
              "    .colab-df-container {\n",
              "      display:flex;\n",
              "      flex-wrap:wrap;\n",
              "      gap: 12px;\n",
              "    }\n",
              "\n",
              "    .colab-df-convert {\n",
              "      background-color: #E8F0FE;\n",
              "      border: none;\n",
              "      border-radius: 50%;\n",
              "      cursor: pointer;\n",
              "      display: none;\n",
              "      fill: #1967D2;\n",
              "      height: 32px;\n",
              "      padding: 0 0 0 0;\n",
              "      width: 32px;\n",
              "    }\n",
              "\n",
              "    .colab-df-convert:hover {\n",
              "      background-color: #E2EBFA;\n",
              "      box-shadow: 0px 1px 2px rgba(60, 64, 67, 0.3), 0px 1px 3px 1px rgba(60, 64, 67, 0.15);\n",
              "      fill: #174EA6;\n",
              "    }\n",
              "\n",
              "    [theme=dark] .colab-df-convert {\n",
              "      background-color: #3B4455;\n",
              "      fill: #D2E3FC;\n",
              "    }\n",
              "\n",
              "    [theme=dark] .colab-df-convert:hover {\n",
              "      background-color: #434B5C;\n",
              "      box-shadow: 0px 1px 3px 1px rgba(0, 0, 0, 0.15);\n",
              "      filter: drop-shadow(0px 1px 2px rgba(0, 0, 0, 0.3));\n",
              "      fill: #FFFFFF;\n",
              "    }\n",
              "  </style>\n",
              "\n",
              "      <script>\n",
              "        const buttonEl =\n",
              "          document.querySelector('#df-e269693e-ccbe-49dc-b271-898efb4099c7 button.colab-df-convert');\n",
              "        buttonEl.style.display =\n",
              "          google.colab.kernel.accessAllowed ? 'block' : 'none';\n",
              "\n",
              "        async function convertToInteractive(key) {\n",
              "          const element = document.querySelector('#df-e269693e-ccbe-49dc-b271-898efb4099c7');\n",
              "          const dataTable =\n",
              "            await google.colab.kernel.invokeFunction('convertToInteractive',\n",
              "                                                     [key], {});\n",
              "          if (!dataTable) return;\n",
              "\n",
              "          const docLinkHtml = 'Like what you see? Visit the ' +\n",
              "            '<a target=\"_blank\" href=https://colab.research.google.com/notebooks/data_table.ipynb>data table notebook</a>'\n",
              "            + ' to learn more about interactive tables.';\n",
              "          element.innerHTML = '';\n",
              "          dataTable['output_type'] = 'display_data';\n",
              "          await google.colab.output.renderOutput(dataTable, element);\n",
              "          const docLink = document.createElement('div');\n",
              "          docLink.innerHTML = docLinkHtml;\n",
              "          element.appendChild(docLink);\n",
              "        }\n",
              "      </script>\n",
              "    </div>\n",
              "  </div>\n",
              "  "
            ],
            "text/plain": [
              "      gender  ...  PaymentMethod_Mailed check\n",
              "3595       0  ...                           0\n",
              "1335       1  ...                           1\n",
              "4116       0  ...                           0\n",
              "\n",
              "[3 rows x 31 columns]"
            ]
          },
          "metadata": {},
          "execution_count": 19
        }
      ]
    },
    {
      "cell_type": "code",
      "source": [
        "telcom_df.nunique()"
      ],
      "metadata": {
        "colab": {
          "base_uri": "https://localhost:8080/"
        },
        "id": "5vwbCgQ1lRKy",
        "outputId": "627e3f9b-491a-4e41-de74-16f6fb8898ac"
      },
      "execution_count": 20,
      "outputs": [
        {
          "output_type": "execute_result",
          "data": {
            "text/plain": [
              "gender                                      2\n",
              "SeniorCitizen                               2\n",
              "Partner                                     2\n",
              "Dependents                                  2\n",
              "tenure                                     72\n",
              "PhoneService                                2\n",
              "PaperlessBilling                            2\n",
              "MonthlyCharges                           1584\n",
              "TotalCharges                             6530\n",
              "Churn                                       2\n",
              "MultipleLines_No phone service              2\n",
              "MultipleLines_Yes                           2\n",
              "InternetService_Fiber optic                 2\n",
              "InternetService_No                          2\n",
              "OnlineSecurity_No internet service          2\n",
              "OnlineSecurity_Yes                          2\n",
              "OnlineBackup_No internet service            2\n",
              "OnlineBackup_Yes                            2\n",
              "DeviceProtection_No internet service        2\n",
              "DeviceProtection_Yes                        2\n",
              "TechSupport_No internet service             2\n",
              "TechSupport_Yes                             2\n",
              "StreamingTV_No internet service             2\n",
              "StreamingTV_Yes                             2\n",
              "StreamingMovies_No internet service         2\n",
              "StreamingMovies_Yes                         2\n",
              "Contract_One year                           2\n",
              "Contract_Two year                           2\n",
              "PaymentMethod_Credit card (automatic)       2\n",
              "PaymentMethod_Electronic check              2\n",
              "PaymentMethod_Mailed check                  2\n",
              "dtype: int64"
            ]
          },
          "metadata": {},
          "execution_count": 20
        }
      ]
    },
    {
      "cell_type": "markdown",
      "source": [
        "#### Scale numeric features to range between 0 and 1.  "
      ],
      "metadata": {
        "id": "lXoF0_8PlYWW"
      }
    },
    {
      "cell_type": "code",
      "source": [
        "scale_col = ['tenure','MonthlyCharges','TotalCharges']\n",
        "\n",
        "sc = MinMaxScaler()\n",
        "telcom_df[scale_col]= sc.fit_transform(telcom_df[scale_col])\n",
        "telcom_df.sample(3)"
      ],
      "metadata": {
        "colab": {
          "base_uri": "https://localhost:8080/",
          "height": 242
        },
        "id": "Y9MNS0EDlUuf",
        "outputId": "077b36e3-cd4f-4543-d7fa-5d9a832fc6aa"
      },
      "execution_count": 21,
      "outputs": [
        {
          "output_type": "execute_result",
          "data": {
            "text/html": [
              "\n",
              "  <div id=\"df-b4721f0b-036c-4416-a163-f87773efb272\">\n",
              "    <div class=\"colab-df-container\">\n",
              "      <div>\n",
              "<style scoped>\n",
              "    .dataframe tbody tr th:only-of-type {\n",
              "        vertical-align: middle;\n",
              "    }\n",
              "\n",
              "    .dataframe tbody tr th {\n",
              "        vertical-align: top;\n",
              "    }\n",
              "\n",
              "    .dataframe thead th {\n",
              "        text-align: right;\n",
              "    }\n",
              "</style>\n",
              "<table border=\"1\" class=\"dataframe\">\n",
              "  <thead>\n",
              "    <tr style=\"text-align: right;\">\n",
              "      <th></th>\n",
              "      <th>gender</th>\n",
              "      <th>SeniorCitizen</th>\n",
              "      <th>Partner</th>\n",
              "      <th>Dependents</th>\n",
              "      <th>tenure</th>\n",
              "      <th>PhoneService</th>\n",
              "      <th>PaperlessBilling</th>\n",
              "      <th>MonthlyCharges</th>\n",
              "      <th>TotalCharges</th>\n",
              "      <th>Churn</th>\n",
              "      <th>MultipleLines_No phone service</th>\n",
              "      <th>MultipleLines_Yes</th>\n",
              "      <th>InternetService_Fiber optic</th>\n",
              "      <th>InternetService_No</th>\n",
              "      <th>OnlineSecurity_No internet service</th>\n",
              "      <th>OnlineSecurity_Yes</th>\n",
              "      <th>OnlineBackup_No internet service</th>\n",
              "      <th>OnlineBackup_Yes</th>\n",
              "      <th>DeviceProtection_No internet service</th>\n",
              "      <th>DeviceProtection_Yes</th>\n",
              "      <th>TechSupport_No internet service</th>\n",
              "      <th>TechSupport_Yes</th>\n",
              "      <th>StreamingTV_No internet service</th>\n",
              "      <th>StreamingTV_Yes</th>\n",
              "      <th>StreamingMovies_No internet service</th>\n",
              "      <th>StreamingMovies_Yes</th>\n",
              "      <th>Contract_One year</th>\n",
              "      <th>Contract_Two year</th>\n",
              "      <th>PaymentMethod_Credit card (automatic)</th>\n",
              "      <th>PaymentMethod_Electronic check</th>\n",
              "      <th>PaymentMethod_Mailed check</th>\n",
              "    </tr>\n",
              "  </thead>\n",
              "  <tbody>\n",
              "    <tr>\n",
              "      <th>6473</th>\n",
              "      <td>0</td>\n",
              "      <td>0</td>\n",
              "      <td>0</td>\n",
              "      <td>0</td>\n",
              "      <td>0.0</td>\n",
              "      <td>1</td>\n",
              "      <td>0</td>\n",
              "      <td>0.757711</td>\n",
              "      <td>0.008724</td>\n",
              "      <td>1</td>\n",
              "      <td>0</td>\n",
              "      <td>0</td>\n",
              "      <td>1</td>\n",
              "      <td>0</td>\n",
              "      <td>0</td>\n",
              "      <td>0</td>\n",
              "      <td>0</td>\n",
              "      <td>0</td>\n",
              "      <td>0</td>\n",
              "      <td>1</td>\n",
              "      <td>0</td>\n",
              "      <td>0</td>\n",
              "      <td>0</td>\n",
              "      <td>1</td>\n",
              "      <td>0</td>\n",
              "      <td>1</td>\n",
              "      <td>0</td>\n",
              "      <td>0</td>\n",
              "      <td>0</td>\n",
              "      <td>1</td>\n",
              "      <td>0</td>\n",
              "    </tr>\n",
              "    <tr>\n",
              "      <th>5828</th>\n",
              "      <td>0</td>\n",
              "      <td>0</td>\n",
              "      <td>1</td>\n",
              "      <td>1</td>\n",
              "      <td>1.0</td>\n",
              "      <td>1</td>\n",
              "      <td>0</td>\n",
              "      <td>0.061692</td>\n",
              "      <td>0.195050</td>\n",
              "      <td>0</td>\n",
              "      <td>0</td>\n",
              "      <td>1</td>\n",
              "      <td>0</td>\n",
              "      <td>1</td>\n",
              "      <td>1</td>\n",
              "      <td>0</td>\n",
              "      <td>1</td>\n",
              "      <td>0</td>\n",
              "      <td>1</td>\n",
              "      <td>0</td>\n",
              "      <td>1</td>\n",
              "      <td>0</td>\n",
              "      <td>1</td>\n",
              "      <td>0</td>\n",
              "      <td>1</td>\n",
              "      <td>0</td>\n",
              "      <td>0</td>\n",
              "      <td>1</td>\n",
              "      <td>0</td>\n",
              "      <td>0</td>\n",
              "      <td>0</td>\n",
              "    </tr>\n",
              "    <tr>\n",
              "      <th>6488</th>\n",
              "      <td>0</td>\n",
              "      <td>0</td>\n",
              "      <td>0</td>\n",
              "      <td>0</td>\n",
              "      <td>0.0</td>\n",
              "      <td>1</td>\n",
              "      <td>1</td>\n",
              "      <td>0.509950</td>\n",
              "      <td>0.005850</td>\n",
              "      <td>1</td>\n",
              "      <td>0</td>\n",
              "      <td>0</td>\n",
              "      <td>1</td>\n",
              "      <td>0</td>\n",
              "      <td>0</td>\n",
              "      <td>0</td>\n",
              "      <td>0</td>\n",
              "      <td>0</td>\n",
              "      <td>0</td>\n",
              "      <td>0</td>\n",
              "      <td>0</td>\n",
              "      <td>0</td>\n",
              "      <td>0</td>\n",
              "      <td>0</td>\n",
              "      <td>0</td>\n",
              "      <td>0</td>\n",
              "      <td>0</td>\n",
              "      <td>0</td>\n",
              "      <td>0</td>\n",
              "      <td>1</td>\n",
              "      <td>0</td>\n",
              "    </tr>\n",
              "  </tbody>\n",
              "</table>\n",
              "</div>\n",
              "      <button class=\"colab-df-convert\" onclick=\"convertToInteractive('df-b4721f0b-036c-4416-a163-f87773efb272')\"\n",
              "              title=\"Convert this dataframe to an interactive table.\"\n",
              "              style=\"display:none;\">\n",
              "        \n",
              "  <svg xmlns=\"http://www.w3.org/2000/svg\" height=\"24px\"viewBox=\"0 0 24 24\"\n",
              "       width=\"24px\">\n",
              "    <path d=\"M0 0h24v24H0V0z\" fill=\"none\"/>\n",
              "    <path d=\"M18.56 5.44l.94 2.06.94-2.06 2.06-.94-2.06-.94-.94-2.06-.94 2.06-2.06.94zm-11 1L8.5 8.5l.94-2.06 2.06-.94-2.06-.94L8.5 2.5l-.94 2.06-2.06.94zm10 10l.94 2.06.94-2.06 2.06-.94-2.06-.94-.94-2.06-.94 2.06-2.06.94z\"/><path d=\"M17.41 7.96l-1.37-1.37c-.4-.4-.92-.59-1.43-.59-.52 0-1.04.2-1.43.59L10.3 9.45l-7.72 7.72c-.78.78-.78 2.05 0 2.83L4 21.41c.39.39.9.59 1.41.59.51 0 1.02-.2 1.41-.59l7.78-7.78 2.81-2.81c.8-.78.8-2.07 0-2.86zM5.41 20L4 18.59l7.72-7.72 1.47 1.35L5.41 20z\"/>\n",
              "  </svg>\n",
              "      </button>\n",
              "      \n",
              "  <style>\n",
              "    .colab-df-container {\n",
              "      display:flex;\n",
              "      flex-wrap:wrap;\n",
              "      gap: 12px;\n",
              "    }\n",
              "\n",
              "    .colab-df-convert {\n",
              "      background-color: #E8F0FE;\n",
              "      border: none;\n",
              "      border-radius: 50%;\n",
              "      cursor: pointer;\n",
              "      display: none;\n",
              "      fill: #1967D2;\n",
              "      height: 32px;\n",
              "      padding: 0 0 0 0;\n",
              "      width: 32px;\n",
              "    }\n",
              "\n",
              "    .colab-df-convert:hover {\n",
              "      background-color: #E2EBFA;\n",
              "      box-shadow: 0px 1px 2px rgba(60, 64, 67, 0.3), 0px 1px 3px 1px rgba(60, 64, 67, 0.15);\n",
              "      fill: #174EA6;\n",
              "    }\n",
              "\n",
              "    [theme=dark] .colab-df-convert {\n",
              "      background-color: #3B4455;\n",
              "      fill: #D2E3FC;\n",
              "    }\n",
              "\n",
              "    [theme=dark] .colab-df-convert:hover {\n",
              "      background-color: #434B5C;\n",
              "      box-shadow: 0px 1px 3px 1px rgba(0, 0, 0, 0.15);\n",
              "      filter: drop-shadow(0px 1px 2px rgba(0, 0, 0, 0.3));\n",
              "      fill: #FFFFFF;\n",
              "    }\n",
              "  </style>\n",
              "\n",
              "      <script>\n",
              "        const buttonEl =\n",
              "          document.querySelector('#df-b4721f0b-036c-4416-a163-f87773efb272 button.colab-df-convert');\n",
              "        buttonEl.style.display =\n",
              "          google.colab.kernel.accessAllowed ? 'block' : 'none';\n",
              "\n",
              "        async function convertToInteractive(key) {\n",
              "          const element = document.querySelector('#df-b4721f0b-036c-4416-a163-f87773efb272');\n",
              "          const dataTable =\n",
              "            await google.colab.kernel.invokeFunction('convertToInteractive',\n",
              "                                                     [key], {});\n",
              "          if (!dataTable) return;\n",
              "\n",
              "          const docLinkHtml = 'Like what you see? Visit the ' +\n",
              "            '<a target=\"_blank\" href=https://colab.research.google.com/notebooks/data_table.ipynb>data table notebook</a>'\n",
              "            + ' to learn more about interactive tables.';\n",
              "          element.innerHTML = '';\n",
              "          dataTable['output_type'] = 'display_data';\n",
              "          await google.colab.output.renderOutput(dataTable, element);\n",
              "          const docLink = document.createElement('div');\n",
              "          docLink.innerHTML = docLinkHtml;\n",
              "          element.appendChild(docLink);\n",
              "        }\n",
              "      </script>\n",
              "    </div>\n",
              "  </div>\n",
              "  "
            ],
            "text/plain": [
              "      gender  ...  PaymentMethod_Mailed check\n",
              "6473       0  ...                           0\n",
              "5828       0  ...                           0\n",
              "6488       0  ...                           0\n",
              "\n",
              "[3 rows x 31 columns]"
            ]
          },
          "metadata": {},
          "execution_count": 21
        }
      ]
    },
    {
      "cell_type": "markdown",
      "source": [
        "#### Split data to training and test set.  "
      ],
      "metadata": {
        "id": "saAV71s8lhVB"
      }
    },
    {
      "cell_type": "code",
      "source": [
        "# Assign input features to X and output to y.   \n",
        "X = telcom_df.drop(columns=['Churn'])\n",
        "y = telcom_df['Churn']"
      ],
      "metadata": {
        "id": "IaHIbFCAlbg_"
      },
      "execution_count": 22,
      "outputs": []
    },
    {
      "cell_type": "code",
      "source": [
        "# Split dataset into training and test sets. \n",
        "train_X,test_X,train_y,test_y = train_test_split(X,y,test_size=0.2,stratify=y,random_state=5)"
      ],
      "metadata": {
        "id": "V_eSInP5lbxF"
      },
      "execution_count": 23,
      "outputs": []
    },
    {
      "cell_type": "code",
      "source": [
        "print(f'training set: {train_X.shape} \\n {train_y.value_counts()}')\n",
        "print('-'*20)\n",
        "print(f'test set: {test_X.shape} \\n {test_y.value_counts()}')"
      ],
      "metadata": {
        "colab": {
          "base_uri": "https://localhost:8080/"
        },
        "id": "FEriGjm-l2wW",
        "outputId": "2941f091-f329-4404-ea4a-521e256b8945"
      },
      "execution_count": 24,
      "outputs": [
        {
          "output_type": "stream",
          "name": "stdout",
          "text": [
            "training set: (5625, 30) \n",
            " 0    4130\n",
            "1    1495\n",
            "Name: Churn, dtype: int64\n",
            "--------------------\n",
            "test set: (1407, 30) \n",
            " 0    1033\n",
            "1     374\n",
            "Name: Churn, dtype: int64\n"
          ]
        }
      ]
    },
    {
      "cell_type": "markdown",
      "source": [
        "### Upsampling method (SMOTE)\n",
        "\n",
        "When dealing with an imbalanced dataset, Synthetic Minority Oversampling TEchnique (SMOTE) method can be used to oversample the minority class. Simply adding duplicate records of minority class often don’t add any new information to the model. In SMOTE new instances are synthesized from the existing data. It randomly selects a point from the minority class and computes the k-nearest neighbors for this point. The synthetic points are then added between the chosen point and its neighbors.\n",
        "\n"
      ],
      "metadata": {
        "id": "up01qFCnl8ZJ"
      }
    },
    {
      "cell_type": "code",
      "source": [
        "from imblearn.over_sampling import SMOTE\n",
        "sm = SMOTE()\n",
        "train_X_re, train_y_re = sm.fit_resample(train_X, train_y)\n",
        "\n",
        "print('resampled class distribution\\n',train_y_re.value_counts())"
      ],
      "metadata": {
        "colab": {
          "base_uri": "https://localhost:8080/"
        },
        "id": "cEtaZki1l2z3",
        "outputId": "707c208d-72da-4c97-a87c-97dbe26a7a8f"
      },
      "execution_count": 25,
      "outputs": [
        {
          "output_type": "stream",
          "name": "stdout",
          "text": [
            "resampled class distribution\n",
            " 1    4130\n",
            "0    4130\n",
            "Name: Churn, dtype: int64\n"
          ]
        }
      ]
    },
    {
      "cell_type": "markdown",
      "source": [
        "### Evaluation: Confustion Matrix & Classification Report \n",
        "\n",
        "Confusion Matrix shows the correct and incorrect predictions for each class. In the first row, the first column indicates how many class 0 are predicted correctly, and the second row, second column, indicates how many class 1 are predicted correctly.  Therefore, the higher the diagonal values of the confusion matrix the better, indicating many correct predictions.\n",
        "\n",
        "A Classification report is used to measure the performance of the classifier prediction.  It shows the main classification metrics precision, recall and f1-score on a per-class basis. F1-score calculates the harmonic mean of the precision and recall.\n"
      ],
      "metadata": {
        "id": "VtQ8hvcpmDFh"
      }
    },
    {
      "cell_type": "code",
      "source": [
        "def test_eval(clf_model, testX, testy):\n",
        "    # Test set prediction\n",
        "    y_pred=clf_model.predict(testX)\n",
        "    y_predict = []\n",
        "    for p in y_pred:\n",
        "        if p > 0.5:\n",
        "            y_predict.append(1)\n",
        "        else:\n",
        "            y_predict.append(0)\n",
        "    print('Confusion Matrix')\n",
        "    print('='*20)\n",
        "    cm = confusion_matrix(testy,y_predict)\n",
        "    print(cm,\"\\n\")\n",
        "    print('Classification Report')\n",
        "    print('='*20)\n",
        "    print(classification_report(testy,y_predict))\n",
        "    cr = classification_report(testy,y_predict,output_dict=True)\n",
        "    score = roc_auc_score(testy, y_pred)\n",
        "\n",
        "    return cm,cr,score,y_predict"
      ],
      "metadata": {
        "id": "h4yuL7KRl7Av"
      },
      "execution_count": 26,
      "outputs": []
    },
    {
      "cell_type": "code",
      "source": [
        "def plot_cmatrix(cmatrix, name):\n",
        "    fig = px.imshow(cmatrix,color_continuous_scale=[[0.0, 'peachpuff'], \n",
        "                                          [0.5, 'lime'], \n",
        "                                          [1.0, 'green']])\n",
        "\n",
        "    fig.update_layout(\n",
        "        title = 'Confusion Matrix ('+name+')', title_x=0.5,\n",
        "        xaxis_title=\"Prediction\", yaxis_title=\"Truth\", \n",
        "        height=400,\n",
        "        width=400,\n",
        "        xaxis = dict(tickmode = 'linear', tick0 = 0, dtick = 1),\n",
        "        yaxis = dict(tickmode = 'linear', tick0 = 0, dtick = 1)\n",
        "    )\n",
        "    for i in range(len(cmatrix)):\n",
        "        for j in range(len(cmatrix[0])):\n",
        "            fig.add_annotation(\n",
        "                x=j,\n",
        "                y=i,\n",
        "                text=str(cmatrix[i,j]),\n",
        "                showarrow=False,\n",
        "                font_size=12, font_color='black'\n",
        "            )\n",
        "\n",
        "    fig.show()"
      ],
      "metadata": {
        "id": "m3PmlvACl7EC"
      },
      "execution_count": 27,
      "outputs": []
    },
    {
      "cell_type": "markdown",
      "source": [
        "## Linear Algorithms\n",
        "\n",
        "#### Churn Prediction using Logistic Regression"
      ],
      "metadata": {
        "id": "CzPDr3egmQru"
      }
    },
    {
      "cell_type": "code",
      "source": [
        "para_lr = {'C': [3,7], \"max_iter\":[100,200]} \n",
        "\n",
        "model_lr = GridSearchCV(estimator = LogisticRegression(),\n",
        "                    param_grid = para_lr,\n",
        "                    cv=10,\n",
        "                    verbose=0,\n",
        "                    n_jobs=-1\n",
        "                   )\n",
        "model_lr.fit(train_X_re,train_y_re)"
      ],
      "metadata": {
        "colab": {
          "base_uri": "https://localhost:8080/"
        },
        "id": "0VlFIg2wmIPi",
        "outputId": "7e1c72c3-6236-4d6c-97b1-7cb8eda71b6e"
      },
      "execution_count": 28,
      "outputs": [
        {
          "output_type": "stream",
          "name": "stderr",
          "text": [
            "/usr/local/lib/python3.7/dist-packages/sklearn/linear_model/_logistic.py:818: ConvergenceWarning:\n",
            "\n",
            "lbfgs failed to converge (status=1):\n",
            "STOP: TOTAL NO. of ITERATIONS REACHED LIMIT.\n",
            "\n",
            "Increase the number of iterations (max_iter) or scale the data as shown in:\n",
            "    https://scikit-learn.org/stable/modules/preprocessing.html\n",
            "Please also refer to the documentation for alternative solver options:\n",
            "    https://scikit-learn.org/stable/modules/linear_model.html#logistic-regression\n",
            "\n"
          ]
        },
        {
          "output_type": "execute_result",
          "data": {
            "text/plain": [
              "GridSearchCV(cv=10, estimator=LogisticRegression(), n_jobs=-1,\n",
              "             param_grid={'C': [3, 7], 'max_iter': [100, 200]})"
            ]
          },
          "metadata": {},
          "execution_count": 28
        }
      ]
    },
    {
      "cell_type": "code",
      "source": [
        "model_lr.best_params_"
      ],
      "metadata": {
        "colab": {
          "base_uri": "https://localhost:8080/"
        },
        "id": "5t_C0laumYgh",
        "outputId": "22d7692e-2945-4334-baf8-31625fa716bb"
      },
      "execution_count": 29,
      "outputs": [
        {
          "output_type": "execute_result",
          "data": {
            "text/plain": [
              "{'C': 7, 'max_iter': 100}"
            ]
          },
          "metadata": {},
          "execution_count": 29
        }
      ]
    },
    {
      "cell_type": "code",
      "source": [
        "cm_lr,cr_lr,auc_score_lr,_  = test_eval(model_lr,test_X,test_y)\n",
        "fpr_lr, tpr_lr, thresh_lr = roc_curve(test_y, model_lr.predict_proba(test_X)[:,1], pos_label = 1)\n",
        "precision_lr, recall_lr, _ = precision_recall_curve(test_y, model_lr.predict_proba(test_X)[:,1], pos_label=1)"
      ],
      "metadata": {
        "colab": {
          "base_uri": "https://localhost:8080/"
        },
        "id": "bOxso1jSmYjj",
        "outputId": "81a58e78-f24f-4021-a467-11f21bce907d"
      },
      "execution_count": 30,
      "outputs": [
        {
          "output_type": "stream",
          "name": "stdout",
          "text": [
            "Confusion Matrix\n",
            "====================\n",
            "[[800 233]\n",
            " [ 87 287]] \n",
            "\n",
            "Classification Report\n",
            "====================\n",
            "              precision    recall  f1-score   support\n",
            "\n",
            "           0       0.90      0.77      0.83      1033\n",
            "           1       0.55      0.77      0.64       374\n",
            "\n",
            "    accuracy                           0.77      1407\n",
            "   macro avg       0.73      0.77      0.74      1407\n",
            "weighted avg       0.81      0.77      0.78      1407\n",
            "\n"
          ]
        }
      ]
    },
    {
      "cell_type": "code",
      "source": [
        "plot_cmatrix(cm_lr, name='LR')"
      ],
      "metadata": {
        "colab": {
          "base_uri": "https://localhost:8080/",
          "height": 417
        },
        "id": "MnfUrGZNmISJ",
        "outputId": "9f7715ac-2b2f-49a4-e686-916408ae46b2"
      },
      "execution_count": 31,
      "outputs": [
        {
          "output_type": "display_data",
          "data": {
            "text/html": [
              "<html>\n",
              "<head><meta charset=\"utf-8\" /></head>\n",
              "<body>\n",
              "    <div>\n",
              "            <script src=\"https://cdnjs.cloudflare.com/ajax/libs/mathjax/2.7.5/MathJax.js?config=TeX-AMS-MML_SVG\"></script><script type=\"text/javascript\">if (window.MathJax) {MathJax.Hub.Config({SVG: {font: \"STIX-Web\"}});}</script>\n",
              "                <script type=\"text/javascript\">window.PlotlyConfig = {MathJaxConfig: 'local'};</script>\n",
              "        <script src=\"https://cdn.plot.ly/plotly-latest.min.js\"></script>    \n",
              "            <div id=\"1b2d2afa-2a09-4419-a197-e3ecfe843349\" class=\"plotly-graph-div\" style=\"height:400px; width:400px;\"></div>\n",
              "            <script type=\"text/javascript\">\n",
              "                \n",
              "                    window.PLOTLYENV=window.PLOTLYENV || {};\n",
              "                    \n",
              "                if (document.getElementById(\"1b2d2afa-2a09-4419-a197-e3ecfe843349\")) {\n",
              "                    Plotly.newPlot(\n",
              "                        '1b2d2afa-2a09-4419-a197-e3ecfe843349',\n",
              "                        [{\"coloraxis\": \"coloraxis\", \"type\": \"heatmap\", \"z\": [[800, 233], [87, 287]]}],\n",
              "                        {\"annotations\": [{\"font\": {\"color\": \"black\", \"size\": 12}, \"showarrow\": false, \"text\": \"800\", \"x\": 0, \"y\": 0}, {\"font\": {\"color\": \"black\", \"size\": 12}, \"showarrow\": false, \"text\": \"233\", \"x\": 1, \"y\": 0}, {\"font\": {\"color\": \"black\", \"size\": 12}, \"showarrow\": false, \"text\": \"87\", \"x\": 0, \"y\": 1}, {\"font\": {\"color\": \"black\", \"size\": 12}, \"showarrow\": false, \"text\": \"287\", \"x\": 1, \"y\": 1}], \"coloraxis\": {\"colorscale\": [[0.0, \"peachpuff\"], [0.5, \"lime\"], [1.0, \"green\"]]}, \"height\": 400, \"margin\": {\"t\": 60}, \"template\": {\"data\": {\"bar\": [{\"error_x\": {\"color\": \"#2a3f5f\"}, \"error_y\": {\"color\": \"#2a3f5f\"}, \"marker\": {\"line\": {\"color\": \"#E5ECF6\", \"width\": 0.5}}, \"type\": \"bar\"}], \"barpolar\": [{\"marker\": {\"line\": {\"color\": \"#E5ECF6\", \"width\": 0.5}}, \"type\": \"barpolar\"}], \"carpet\": [{\"aaxis\": {\"endlinecolor\": \"#2a3f5f\", \"gridcolor\": \"white\", \"linecolor\": \"white\", \"minorgridcolor\": \"white\", \"startlinecolor\": \"#2a3f5f\"}, \"baxis\": {\"endlinecolor\": \"#2a3f5f\", \"gridcolor\": \"white\", \"linecolor\": \"white\", \"minorgridcolor\": \"white\", \"startlinecolor\": \"#2a3f5f\"}, \"type\": \"carpet\"}], \"choropleth\": [{\"colorbar\": {\"outlinewidth\": 0, \"ticks\": \"\"}, \"type\": \"choropleth\"}], \"contour\": [{\"colorbar\": {\"outlinewidth\": 0, \"ticks\": \"\"}, \"colorscale\": [[0.0, \"#0d0887\"], [0.1111111111111111, \"#46039f\"], [0.2222222222222222, \"#7201a8\"], [0.3333333333333333, \"#9c179e\"], [0.4444444444444444, \"#bd3786\"], [0.5555555555555556, \"#d8576b\"], [0.6666666666666666, \"#ed7953\"], [0.7777777777777778, \"#fb9f3a\"], [0.8888888888888888, \"#fdca26\"], [1.0, \"#f0f921\"]], \"type\": \"contour\"}], \"contourcarpet\": [{\"colorbar\": {\"outlinewidth\": 0, \"ticks\": \"\"}, \"type\": \"contourcarpet\"}], \"heatmap\": [{\"colorbar\": {\"outlinewidth\": 0, \"ticks\": \"\"}, \"colorscale\": [[0.0, \"#0d0887\"], [0.1111111111111111, \"#46039f\"], [0.2222222222222222, \"#7201a8\"], [0.3333333333333333, \"#9c179e\"], [0.4444444444444444, \"#bd3786\"], [0.5555555555555556, \"#d8576b\"], [0.6666666666666666, \"#ed7953\"], [0.7777777777777778, \"#fb9f3a\"], [0.8888888888888888, \"#fdca26\"], [1.0, \"#f0f921\"]], \"type\": \"heatmap\"}], \"heatmapgl\": [{\"colorbar\": {\"outlinewidth\": 0, \"ticks\": \"\"}, \"colorscale\": [[0.0, \"#0d0887\"], [0.1111111111111111, \"#46039f\"], [0.2222222222222222, \"#7201a8\"], [0.3333333333333333, \"#9c179e\"], [0.4444444444444444, \"#bd3786\"], [0.5555555555555556, \"#d8576b\"], [0.6666666666666666, \"#ed7953\"], [0.7777777777777778, \"#fb9f3a\"], [0.8888888888888888, \"#fdca26\"], [1.0, \"#f0f921\"]], \"type\": \"heatmapgl\"}], \"histogram\": [{\"marker\": {\"colorbar\": {\"outlinewidth\": 0, \"ticks\": \"\"}}, \"type\": \"histogram\"}], \"histogram2d\": [{\"colorbar\": {\"outlinewidth\": 0, \"ticks\": \"\"}, \"colorscale\": [[0.0, \"#0d0887\"], [0.1111111111111111, \"#46039f\"], [0.2222222222222222, \"#7201a8\"], [0.3333333333333333, \"#9c179e\"], [0.4444444444444444, \"#bd3786\"], [0.5555555555555556, \"#d8576b\"], [0.6666666666666666, \"#ed7953\"], [0.7777777777777778, \"#fb9f3a\"], [0.8888888888888888, \"#fdca26\"], [1.0, \"#f0f921\"]], \"type\": \"histogram2d\"}], \"histogram2dcontour\": [{\"colorbar\": {\"outlinewidth\": 0, \"ticks\": \"\"}, \"colorscale\": [[0.0, \"#0d0887\"], [0.1111111111111111, \"#46039f\"], [0.2222222222222222, \"#7201a8\"], [0.3333333333333333, \"#9c179e\"], [0.4444444444444444, \"#bd3786\"], [0.5555555555555556, \"#d8576b\"], [0.6666666666666666, \"#ed7953\"], [0.7777777777777778, \"#fb9f3a\"], [0.8888888888888888, \"#fdca26\"], [1.0, \"#f0f921\"]], \"type\": \"histogram2dcontour\"}], \"mesh3d\": [{\"colorbar\": {\"outlinewidth\": 0, \"ticks\": \"\"}, \"type\": \"mesh3d\"}], \"parcoords\": [{\"line\": {\"colorbar\": {\"outlinewidth\": 0, \"ticks\": \"\"}}, \"type\": \"parcoords\"}], \"pie\": [{\"automargin\": true, \"type\": \"pie\"}], \"scatter\": [{\"marker\": {\"colorbar\": {\"outlinewidth\": 0, \"ticks\": \"\"}}, \"type\": \"scatter\"}], \"scatter3d\": [{\"line\": {\"colorbar\": {\"outlinewidth\": 0, \"ticks\": \"\"}}, \"marker\": {\"colorbar\": {\"outlinewidth\": 0, \"ticks\": \"\"}}, \"type\": \"scatter3d\"}], \"scattercarpet\": [{\"marker\": {\"colorbar\": {\"outlinewidth\": 0, \"ticks\": \"\"}}, \"type\": \"scattercarpet\"}], \"scattergeo\": [{\"marker\": {\"colorbar\": {\"outlinewidth\": 0, \"ticks\": \"\"}}, \"type\": \"scattergeo\"}], \"scattergl\": [{\"marker\": {\"colorbar\": {\"outlinewidth\": 0, \"ticks\": \"\"}}, \"type\": \"scattergl\"}], \"scattermapbox\": [{\"marker\": {\"colorbar\": {\"outlinewidth\": 0, \"ticks\": \"\"}}, \"type\": \"scattermapbox\"}], \"scatterpolar\": [{\"marker\": {\"colorbar\": {\"outlinewidth\": 0, \"ticks\": \"\"}}, \"type\": \"scatterpolar\"}], \"scatterpolargl\": [{\"marker\": {\"colorbar\": {\"outlinewidth\": 0, \"ticks\": \"\"}}, \"type\": \"scatterpolargl\"}], \"scatterternary\": [{\"marker\": {\"colorbar\": {\"outlinewidth\": 0, \"ticks\": \"\"}}, \"type\": \"scatterternary\"}], \"surface\": [{\"colorbar\": {\"outlinewidth\": 0, \"ticks\": \"\"}, \"colorscale\": [[0.0, \"#0d0887\"], [0.1111111111111111, \"#46039f\"], [0.2222222222222222, \"#7201a8\"], [0.3333333333333333, \"#9c179e\"], [0.4444444444444444, \"#bd3786\"], [0.5555555555555556, \"#d8576b\"], [0.6666666666666666, \"#ed7953\"], [0.7777777777777778, \"#fb9f3a\"], [0.8888888888888888, \"#fdca26\"], [1.0, \"#f0f921\"]], \"type\": \"surface\"}], \"table\": [{\"cells\": {\"fill\": {\"color\": \"#EBF0F8\"}, \"line\": {\"color\": \"white\"}}, \"header\": {\"fill\": {\"color\": \"#C8D4E3\"}, \"line\": {\"color\": \"white\"}}, \"type\": \"table\"}]}, \"layout\": {\"annotationdefaults\": {\"arrowcolor\": \"#2a3f5f\", \"arrowhead\": 0, \"arrowwidth\": 1}, \"coloraxis\": {\"colorbar\": {\"outlinewidth\": 0, \"ticks\": \"\"}}, \"colorscale\": {\"diverging\": [[0, \"#8e0152\"], [0.1, \"#c51b7d\"], [0.2, \"#de77ae\"], [0.3, \"#f1b6da\"], [0.4, \"#fde0ef\"], [0.5, \"#f7f7f7\"], [0.6, \"#e6f5d0\"], [0.7, \"#b8e186\"], [0.8, \"#7fbc41\"], [0.9, \"#4d9221\"], [1, \"#276419\"]], \"sequential\": [[0.0, \"#0d0887\"], [0.1111111111111111, \"#46039f\"], [0.2222222222222222, \"#7201a8\"], [0.3333333333333333, \"#9c179e\"], [0.4444444444444444, \"#bd3786\"], [0.5555555555555556, \"#d8576b\"], [0.6666666666666666, \"#ed7953\"], [0.7777777777777778, \"#fb9f3a\"], [0.8888888888888888, \"#fdca26\"], [1.0, \"#f0f921\"]], \"sequentialminus\": [[0.0, \"#0d0887\"], [0.1111111111111111, \"#46039f\"], [0.2222222222222222, \"#7201a8\"], [0.3333333333333333, \"#9c179e\"], [0.4444444444444444, \"#bd3786\"], [0.5555555555555556, \"#d8576b\"], [0.6666666666666666, \"#ed7953\"], [0.7777777777777778, \"#fb9f3a\"], [0.8888888888888888, \"#fdca26\"], [1.0, \"#f0f921\"]]}, \"colorway\": [\"#636efa\", \"#EF553B\", \"#00cc96\", \"#ab63fa\", \"#FFA15A\", \"#19d3f3\", \"#FF6692\", \"#B6E880\", \"#FF97FF\", \"#FECB52\"], \"font\": {\"color\": \"#2a3f5f\"}, \"geo\": {\"bgcolor\": \"white\", \"lakecolor\": \"white\", \"landcolor\": \"#E5ECF6\", \"showlakes\": true, \"showland\": true, \"subunitcolor\": \"white\"}, \"hoverlabel\": {\"align\": \"left\"}, \"hovermode\": \"closest\", \"mapbox\": {\"style\": \"light\"}, \"paper_bgcolor\": \"white\", \"plot_bgcolor\": \"#E5ECF6\", \"polar\": {\"angularaxis\": {\"gridcolor\": \"white\", \"linecolor\": \"white\", \"ticks\": \"\"}, \"bgcolor\": \"#E5ECF6\", \"radialaxis\": {\"gridcolor\": \"white\", \"linecolor\": \"white\", \"ticks\": \"\"}}, \"scene\": {\"xaxis\": {\"backgroundcolor\": \"#E5ECF6\", \"gridcolor\": \"white\", \"gridwidth\": 2, \"linecolor\": \"white\", \"showbackground\": true, \"ticks\": \"\", \"zerolinecolor\": \"white\"}, \"yaxis\": {\"backgroundcolor\": \"#E5ECF6\", \"gridcolor\": \"white\", \"gridwidth\": 2, \"linecolor\": \"white\", \"showbackground\": true, \"ticks\": \"\", \"zerolinecolor\": \"white\"}, \"zaxis\": {\"backgroundcolor\": \"#E5ECF6\", \"gridcolor\": \"white\", \"gridwidth\": 2, \"linecolor\": \"white\", \"showbackground\": true, \"ticks\": \"\", \"zerolinecolor\": \"white\"}}, \"shapedefaults\": {\"line\": {\"color\": \"#2a3f5f\"}}, \"ternary\": {\"aaxis\": {\"gridcolor\": \"white\", \"linecolor\": \"white\", \"ticks\": \"\"}, \"baxis\": {\"gridcolor\": \"white\", \"linecolor\": \"white\", \"ticks\": \"\"}, \"bgcolor\": \"#E5ECF6\", \"caxis\": {\"gridcolor\": \"white\", \"linecolor\": \"white\", \"ticks\": \"\"}}, \"title\": {\"x\": 0.05}, \"xaxis\": {\"automargin\": true, \"gridcolor\": \"white\", \"linecolor\": \"white\", \"ticks\": \"\", \"title\": {\"standoff\": 15}, \"zerolinecolor\": \"white\", \"zerolinewidth\": 2}, \"yaxis\": {\"automargin\": true, \"gridcolor\": \"white\", \"linecolor\": \"white\", \"ticks\": \"\", \"title\": {\"standoff\": 15}, \"zerolinecolor\": \"white\", \"zerolinewidth\": 2}}}, \"title\": {\"text\": \"Confusion Matrix (LR)\", \"x\": 0.5}, \"width\": 400, \"xaxis\": {\"constrain\": \"domain\", \"dtick\": 1, \"scaleanchor\": \"y\", \"tick0\": 0, \"tickmode\": \"linear\", \"title\": {\"text\": \"Prediction\"}}, \"yaxis\": {\"autorange\": \"reversed\", \"constrain\": \"domain\", \"dtick\": 1, \"tick0\": 0, \"tickmode\": \"linear\", \"title\": {\"text\": \"Truth\"}}},\n",
              "                        {\"responsive\": true}\n",
              "                    ).then(function(){\n",
              "                            \n",
              "var gd = document.getElementById('1b2d2afa-2a09-4419-a197-e3ecfe843349');\n",
              "var x = new MutationObserver(function (mutations, observer) {{\n",
              "        var display = window.getComputedStyle(gd).display;\n",
              "        if (!display || display === 'none') {{\n",
              "            console.log([gd, 'removed!']);\n",
              "            Plotly.purge(gd);\n",
              "            observer.disconnect();\n",
              "        }}\n",
              "}});\n",
              "\n",
              "// Listen for the removal of the full notebook cells\n",
              "var notebookContainer = gd.closest('#notebook-container');\n",
              "if (notebookContainer) {{\n",
              "    x.observe(notebookContainer, {childList: true});\n",
              "}}\n",
              "\n",
              "// Listen for the clearing of the current output cell\n",
              "var outputEl = gd.closest('.output');\n",
              "if (outputEl) {{\n",
              "    x.observe(outputEl, {childList: true});\n",
              "}}\n",
              "\n",
              "                        })\n",
              "                };\n",
              "                \n",
              "            </script>\n",
              "        </div>\n",
              "</body>\n",
              "</html>"
            ]
          },
          "metadata": {}
        }
      ]
    },
    {
      "cell_type": "markdown",
      "source": [
        "#### Churn Prediction using Naive Bayes"
      ],
      "metadata": {
        "id": "NSC4QsVamq1t"
      }
    },
    {
      "cell_type": "code",
      "source": [
        "para_gnb = {'var_smoothing':np.logspace(1,-4,num=50)}\n",
        "\n",
        "model_gnb = GridSearchCV(estimator = GaussianNB(),\n",
        "                    param_grid = para_gnb,\n",
        "                    cv=10,\n",
        "                    verbose=0,\n",
        "                    n_jobs=-1\n",
        "                   )\n",
        "model_gnb.fit(train_X_re,train_y_re)"
      ],
      "metadata": {
        "colab": {
          "base_uri": "https://localhost:8080/"
        },
        "id": "uPzKtJmGmlB7",
        "outputId": "27c470c7-d4c9-447a-802c-8d401e715a85"
      },
      "execution_count": 32,
      "outputs": [
        {
          "output_type": "execute_result",
          "data": {
            "text/plain": [
              "GridSearchCV(cv=10, estimator=GaussianNB(), n_jobs=-1,\n",
              "             param_grid={'var_smoothing': array([1.00000000e+01, 7.90604321e+00, 6.25055193e+00, 4.94171336e+00,\n",
              "       3.90693994e+00, 3.08884360e+00, 2.44205309e+00, 1.93069773e+00,\n",
              "       1.52641797e+00, 1.20679264e+00, 9.54095476e-01, 7.54312006e-01,\n",
              "       5.96362332e-01, 4.71486636e-01, 3.72759372e-01, 2.94705170e-01,\n",
              "       2.32995181e-01, 1.842069...\n",
              "       3.55648031e-02, 2.81176870e-02, 2.22299648e-02, 1.75751062e-02,\n",
              "       1.38949549e-02, 1.09854114e-02, 8.68511374e-03, 6.86648845e-03,\n",
              "       5.42867544e-03, 4.29193426e-03, 3.39322177e-03, 2.68269580e-03,\n",
              "       2.12095089e-03, 1.67683294e-03, 1.32571137e-03, 1.04811313e-03,\n",
              "       8.28642773e-04, 6.55128557e-04, 5.17947468e-04, 4.09491506e-04,\n",
              "       3.23745754e-04, 2.55954792e-04, 2.02358965e-04, 1.59985872e-04,\n",
              "       1.26485522e-04, 1.00000000e-04])})"
            ]
          },
          "metadata": {},
          "execution_count": 32
        }
      ]
    },
    {
      "cell_type": "code",
      "source": [
        "model_gnb.best_params_"
      ],
      "metadata": {
        "colab": {
          "base_uri": "https://localhost:8080/"
        },
        "id": "3BQl_V5bmuir",
        "outputId": "d9522cf9-3700-4c0d-8500-7f3f8010ec0b"
      },
      "execution_count": 33,
      "outputs": [
        {
          "output_type": "execute_result",
          "data": {
            "text/plain": [
              "{'var_smoothing': 0.0026826957952797246}"
            ]
          },
          "metadata": {},
          "execution_count": 33
        }
      ]
    },
    {
      "cell_type": "code",
      "source": [
        "cm_gnb,cr_gnb,auc_score_gnb,_  = test_eval(model_gnb,test_X,test_y)\n",
        "fpr_gnb, tpr_gnb, thresh_gnb = roc_curve(test_y, model_gnb.predict_proba(test_X)[:,1], pos_label = 1)\n",
        "precision_gnb, recall_gnb, _ = precision_recall_curve(test_y, model_gnb.predict_proba(test_X)[:,1],pos_label=1)"
      ],
      "metadata": {
        "colab": {
          "base_uri": "https://localhost:8080/"
        },
        "id": "CSPdrpN1m0Dt",
        "outputId": "7625e406-7955-4b33-e819-ec816dfd4711"
      },
      "execution_count": 34,
      "outputs": [
        {
          "output_type": "stream",
          "name": "stdout",
          "text": [
            "Confusion Matrix\n",
            "====================\n",
            "[[651 382]\n",
            " [ 56 318]] \n",
            "\n",
            "Classification Report\n",
            "====================\n",
            "              precision    recall  f1-score   support\n",
            "\n",
            "           0       0.92      0.63      0.75      1033\n",
            "           1       0.45      0.85      0.59       374\n",
            "\n",
            "    accuracy                           0.69      1407\n",
            "   macro avg       0.69      0.74      0.67      1407\n",
            "weighted avg       0.80      0.69      0.71      1407\n",
            "\n"
          ]
        }
      ]
    },
    {
      "cell_type": "code",
      "source": [
        "plot_cmatrix(cm_gnb, name='GNB')"
      ],
      "metadata": {
        "colab": {
          "base_uri": "https://localhost:8080/",
          "height": 417
        },
        "id": "EVRdfYCfm45y",
        "outputId": "81936899-d830-4518-9c47-6d87b4cf33b0"
      },
      "execution_count": 35,
      "outputs": [
        {
          "output_type": "display_data",
          "data": {
            "text/html": [
              "<html>\n",
              "<head><meta charset=\"utf-8\" /></head>\n",
              "<body>\n",
              "    <div>\n",
              "            <script src=\"https://cdnjs.cloudflare.com/ajax/libs/mathjax/2.7.5/MathJax.js?config=TeX-AMS-MML_SVG\"></script><script type=\"text/javascript\">if (window.MathJax) {MathJax.Hub.Config({SVG: {font: \"STIX-Web\"}});}</script>\n",
              "                <script type=\"text/javascript\">window.PlotlyConfig = {MathJaxConfig: 'local'};</script>\n",
              "        <script src=\"https://cdn.plot.ly/plotly-latest.min.js\"></script>    \n",
              "            <div id=\"63ab1e2a-8cd9-4890-b97b-d2682a9e9e04\" class=\"plotly-graph-div\" style=\"height:400px; width:400px;\"></div>\n",
              "            <script type=\"text/javascript\">\n",
              "                \n",
              "                    window.PLOTLYENV=window.PLOTLYENV || {};\n",
              "                    \n",
              "                if (document.getElementById(\"63ab1e2a-8cd9-4890-b97b-d2682a9e9e04\")) {\n",
              "                    Plotly.newPlot(\n",
              "                        '63ab1e2a-8cd9-4890-b97b-d2682a9e9e04',\n",
              "                        [{\"coloraxis\": \"coloraxis\", \"type\": \"heatmap\", \"z\": [[651, 382], [56, 318]]}],\n",
              "                        {\"annotations\": [{\"font\": {\"color\": \"black\", \"size\": 12}, \"showarrow\": false, \"text\": \"651\", \"x\": 0, \"y\": 0}, {\"font\": {\"color\": \"black\", \"size\": 12}, \"showarrow\": false, \"text\": \"382\", \"x\": 1, \"y\": 0}, {\"font\": {\"color\": \"black\", \"size\": 12}, \"showarrow\": false, \"text\": \"56\", \"x\": 0, \"y\": 1}, {\"font\": {\"color\": \"black\", \"size\": 12}, \"showarrow\": false, \"text\": \"318\", \"x\": 1, \"y\": 1}], \"coloraxis\": {\"colorscale\": [[0.0, \"peachpuff\"], [0.5, \"lime\"], [1.0, \"green\"]]}, \"height\": 400, \"margin\": {\"t\": 60}, \"template\": {\"data\": {\"bar\": [{\"error_x\": {\"color\": \"#2a3f5f\"}, \"error_y\": {\"color\": \"#2a3f5f\"}, \"marker\": {\"line\": {\"color\": \"#E5ECF6\", \"width\": 0.5}}, \"type\": \"bar\"}], \"barpolar\": [{\"marker\": {\"line\": {\"color\": \"#E5ECF6\", \"width\": 0.5}}, \"type\": \"barpolar\"}], \"carpet\": [{\"aaxis\": {\"endlinecolor\": \"#2a3f5f\", \"gridcolor\": \"white\", \"linecolor\": \"white\", \"minorgridcolor\": \"white\", \"startlinecolor\": \"#2a3f5f\"}, \"baxis\": {\"endlinecolor\": \"#2a3f5f\", \"gridcolor\": \"white\", \"linecolor\": \"white\", \"minorgridcolor\": \"white\", \"startlinecolor\": \"#2a3f5f\"}, \"type\": \"carpet\"}], \"choropleth\": [{\"colorbar\": {\"outlinewidth\": 0, \"ticks\": \"\"}, \"type\": \"choropleth\"}], \"contour\": [{\"colorbar\": {\"outlinewidth\": 0, \"ticks\": \"\"}, \"colorscale\": [[0.0, \"#0d0887\"], [0.1111111111111111, \"#46039f\"], [0.2222222222222222, \"#7201a8\"], [0.3333333333333333, \"#9c179e\"], [0.4444444444444444, \"#bd3786\"], [0.5555555555555556, \"#d8576b\"], [0.6666666666666666, \"#ed7953\"], [0.7777777777777778, \"#fb9f3a\"], [0.8888888888888888, \"#fdca26\"], [1.0, \"#f0f921\"]], \"type\": \"contour\"}], \"contourcarpet\": [{\"colorbar\": {\"outlinewidth\": 0, \"ticks\": \"\"}, \"type\": \"contourcarpet\"}], \"heatmap\": [{\"colorbar\": {\"outlinewidth\": 0, \"ticks\": \"\"}, \"colorscale\": [[0.0, \"#0d0887\"], [0.1111111111111111, \"#46039f\"], [0.2222222222222222, \"#7201a8\"], [0.3333333333333333, \"#9c179e\"], [0.4444444444444444, \"#bd3786\"], [0.5555555555555556, \"#d8576b\"], [0.6666666666666666, \"#ed7953\"], [0.7777777777777778, \"#fb9f3a\"], [0.8888888888888888, \"#fdca26\"], [1.0, \"#f0f921\"]], \"type\": \"heatmap\"}], \"heatmapgl\": [{\"colorbar\": {\"outlinewidth\": 0, \"ticks\": \"\"}, \"colorscale\": [[0.0, \"#0d0887\"], [0.1111111111111111, \"#46039f\"], [0.2222222222222222, \"#7201a8\"], [0.3333333333333333, \"#9c179e\"], [0.4444444444444444, \"#bd3786\"], [0.5555555555555556, \"#d8576b\"], [0.6666666666666666, \"#ed7953\"], [0.7777777777777778, \"#fb9f3a\"], [0.8888888888888888, \"#fdca26\"], [1.0, \"#f0f921\"]], \"type\": \"heatmapgl\"}], \"histogram\": [{\"marker\": {\"colorbar\": {\"outlinewidth\": 0, \"ticks\": \"\"}}, \"type\": \"histogram\"}], \"histogram2d\": [{\"colorbar\": {\"outlinewidth\": 0, \"ticks\": \"\"}, \"colorscale\": [[0.0, \"#0d0887\"], [0.1111111111111111, \"#46039f\"], [0.2222222222222222, \"#7201a8\"], [0.3333333333333333, \"#9c179e\"], [0.4444444444444444, \"#bd3786\"], [0.5555555555555556, \"#d8576b\"], [0.6666666666666666, \"#ed7953\"], [0.7777777777777778, \"#fb9f3a\"], [0.8888888888888888, \"#fdca26\"], [1.0, \"#f0f921\"]], \"type\": \"histogram2d\"}], \"histogram2dcontour\": [{\"colorbar\": {\"outlinewidth\": 0, \"ticks\": \"\"}, \"colorscale\": [[0.0, \"#0d0887\"], [0.1111111111111111, \"#46039f\"], [0.2222222222222222, \"#7201a8\"], [0.3333333333333333, \"#9c179e\"], [0.4444444444444444, \"#bd3786\"], [0.5555555555555556, \"#d8576b\"], [0.6666666666666666, \"#ed7953\"], [0.7777777777777778, \"#fb9f3a\"], [0.8888888888888888, \"#fdca26\"], [1.0, \"#f0f921\"]], \"type\": \"histogram2dcontour\"}], \"mesh3d\": [{\"colorbar\": {\"outlinewidth\": 0, \"ticks\": \"\"}, \"type\": \"mesh3d\"}], \"parcoords\": [{\"line\": {\"colorbar\": {\"outlinewidth\": 0, \"ticks\": \"\"}}, \"type\": \"parcoords\"}], \"pie\": [{\"automargin\": true, \"type\": \"pie\"}], \"scatter\": [{\"marker\": {\"colorbar\": {\"outlinewidth\": 0, \"ticks\": \"\"}}, \"type\": \"scatter\"}], \"scatter3d\": [{\"line\": {\"colorbar\": {\"outlinewidth\": 0, \"ticks\": \"\"}}, \"marker\": {\"colorbar\": {\"outlinewidth\": 0, \"ticks\": \"\"}}, \"type\": \"scatter3d\"}], \"scattercarpet\": [{\"marker\": {\"colorbar\": {\"outlinewidth\": 0, \"ticks\": \"\"}}, \"type\": \"scattercarpet\"}], \"scattergeo\": [{\"marker\": {\"colorbar\": {\"outlinewidth\": 0, \"ticks\": \"\"}}, \"type\": \"scattergeo\"}], \"scattergl\": [{\"marker\": {\"colorbar\": {\"outlinewidth\": 0, \"ticks\": \"\"}}, \"type\": \"scattergl\"}], \"scattermapbox\": [{\"marker\": {\"colorbar\": {\"outlinewidth\": 0, \"ticks\": \"\"}}, \"type\": \"scattermapbox\"}], \"scatterpolar\": [{\"marker\": {\"colorbar\": {\"outlinewidth\": 0, \"ticks\": \"\"}}, \"type\": \"scatterpolar\"}], \"scatterpolargl\": [{\"marker\": {\"colorbar\": {\"outlinewidth\": 0, \"ticks\": \"\"}}, \"type\": \"scatterpolargl\"}], \"scatterternary\": [{\"marker\": {\"colorbar\": {\"outlinewidth\": 0, \"ticks\": \"\"}}, \"type\": \"scatterternary\"}], \"surface\": [{\"colorbar\": {\"outlinewidth\": 0, \"ticks\": \"\"}, \"colorscale\": [[0.0, \"#0d0887\"], [0.1111111111111111, \"#46039f\"], [0.2222222222222222, \"#7201a8\"], [0.3333333333333333, \"#9c179e\"], [0.4444444444444444, \"#bd3786\"], [0.5555555555555556, \"#d8576b\"], [0.6666666666666666, \"#ed7953\"], [0.7777777777777778, \"#fb9f3a\"], [0.8888888888888888, \"#fdca26\"], [1.0, \"#f0f921\"]], \"type\": \"surface\"}], \"table\": [{\"cells\": {\"fill\": {\"color\": \"#EBF0F8\"}, \"line\": {\"color\": \"white\"}}, \"header\": {\"fill\": {\"color\": \"#C8D4E3\"}, \"line\": {\"color\": \"white\"}}, \"type\": \"table\"}]}, \"layout\": {\"annotationdefaults\": {\"arrowcolor\": \"#2a3f5f\", \"arrowhead\": 0, \"arrowwidth\": 1}, \"coloraxis\": {\"colorbar\": {\"outlinewidth\": 0, \"ticks\": \"\"}}, \"colorscale\": {\"diverging\": [[0, \"#8e0152\"], [0.1, \"#c51b7d\"], [0.2, \"#de77ae\"], [0.3, \"#f1b6da\"], [0.4, \"#fde0ef\"], [0.5, \"#f7f7f7\"], [0.6, \"#e6f5d0\"], [0.7, \"#b8e186\"], [0.8, \"#7fbc41\"], [0.9, \"#4d9221\"], [1, \"#276419\"]], \"sequential\": [[0.0, \"#0d0887\"], [0.1111111111111111, \"#46039f\"], [0.2222222222222222, \"#7201a8\"], [0.3333333333333333, \"#9c179e\"], [0.4444444444444444, \"#bd3786\"], [0.5555555555555556, \"#d8576b\"], [0.6666666666666666, \"#ed7953\"], [0.7777777777777778, \"#fb9f3a\"], [0.8888888888888888, \"#fdca26\"], [1.0, \"#f0f921\"]], \"sequentialminus\": [[0.0, \"#0d0887\"], [0.1111111111111111, \"#46039f\"], [0.2222222222222222, \"#7201a8\"], [0.3333333333333333, \"#9c179e\"], [0.4444444444444444, \"#bd3786\"], [0.5555555555555556, \"#d8576b\"], [0.6666666666666666, \"#ed7953\"], [0.7777777777777778, \"#fb9f3a\"], [0.8888888888888888, \"#fdca26\"], [1.0, \"#f0f921\"]]}, \"colorway\": [\"#636efa\", \"#EF553B\", \"#00cc96\", \"#ab63fa\", \"#FFA15A\", \"#19d3f3\", \"#FF6692\", \"#B6E880\", \"#FF97FF\", \"#FECB52\"], \"font\": {\"color\": \"#2a3f5f\"}, \"geo\": {\"bgcolor\": \"white\", \"lakecolor\": \"white\", \"landcolor\": \"#E5ECF6\", \"showlakes\": true, \"showland\": true, \"subunitcolor\": \"white\"}, \"hoverlabel\": {\"align\": \"left\"}, \"hovermode\": \"closest\", \"mapbox\": {\"style\": \"light\"}, \"paper_bgcolor\": \"white\", \"plot_bgcolor\": \"#E5ECF6\", \"polar\": {\"angularaxis\": {\"gridcolor\": \"white\", \"linecolor\": \"white\", \"ticks\": \"\"}, \"bgcolor\": \"#E5ECF6\", \"radialaxis\": {\"gridcolor\": \"white\", \"linecolor\": \"white\", \"ticks\": \"\"}}, \"scene\": {\"xaxis\": {\"backgroundcolor\": \"#E5ECF6\", \"gridcolor\": \"white\", \"gridwidth\": 2, \"linecolor\": \"white\", \"showbackground\": true, \"ticks\": \"\", \"zerolinecolor\": \"white\"}, \"yaxis\": {\"backgroundcolor\": \"#E5ECF6\", \"gridcolor\": \"white\", \"gridwidth\": 2, \"linecolor\": \"white\", \"showbackground\": true, \"ticks\": \"\", \"zerolinecolor\": \"white\"}, \"zaxis\": {\"backgroundcolor\": \"#E5ECF6\", \"gridcolor\": \"white\", \"gridwidth\": 2, \"linecolor\": \"white\", \"showbackground\": true, \"ticks\": \"\", \"zerolinecolor\": \"white\"}}, \"shapedefaults\": {\"line\": {\"color\": \"#2a3f5f\"}}, \"ternary\": {\"aaxis\": {\"gridcolor\": \"white\", \"linecolor\": \"white\", \"ticks\": \"\"}, \"baxis\": {\"gridcolor\": \"white\", \"linecolor\": \"white\", \"ticks\": \"\"}, \"bgcolor\": \"#E5ECF6\", \"caxis\": {\"gridcolor\": \"white\", \"linecolor\": \"white\", \"ticks\": \"\"}}, \"title\": {\"x\": 0.05}, \"xaxis\": {\"automargin\": true, \"gridcolor\": \"white\", \"linecolor\": \"white\", \"ticks\": \"\", \"title\": {\"standoff\": 15}, \"zerolinecolor\": \"white\", \"zerolinewidth\": 2}, \"yaxis\": {\"automargin\": true, \"gridcolor\": \"white\", \"linecolor\": \"white\", \"ticks\": \"\", \"title\": {\"standoff\": 15}, \"zerolinecolor\": \"white\", \"zerolinewidth\": 2}}}, \"title\": {\"text\": \"Confusion Matrix (GNB)\", \"x\": 0.5}, \"width\": 400, \"xaxis\": {\"constrain\": \"domain\", \"dtick\": 1, \"scaleanchor\": \"y\", \"tick0\": 0, \"tickmode\": \"linear\", \"title\": {\"text\": \"Prediction\"}}, \"yaxis\": {\"autorange\": \"reversed\", \"constrain\": \"domain\", \"dtick\": 1, \"tick0\": 0, \"tickmode\": \"linear\", \"title\": {\"text\": \"Truth\"}}},\n",
              "                        {\"responsive\": true}\n",
              "                    ).then(function(){\n",
              "                            \n",
              "var gd = document.getElementById('63ab1e2a-8cd9-4890-b97b-d2682a9e9e04');\n",
              "var x = new MutationObserver(function (mutations, observer) {{\n",
              "        var display = window.getComputedStyle(gd).display;\n",
              "        if (!display || display === 'none') {{\n",
              "            console.log([gd, 'removed!']);\n",
              "            Plotly.purge(gd);\n",
              "            observer.disconnect();\n",
              "        }}\n",
              "}});\n",
              "\n",
              "// Listen for the removal of the full notebook cells\n",
              "var notebookContainer = gd.closest('#notebook-container');\n",
              "if (notebookContainer) {{\n",
              "    x.observe(notebookContainer, {childList: true});\n",
              "}}\n",
              "\n",
              "// Listen for the clearing of the current output cell\n",
              "var outputEl = gd.closest('.output');\n",
              "if (outputEl) {{\n",
              "    x.observe(outputEl, {childList: true});\n",
              "}}\n",
              "\n",
              "                        })\n",
              "                };\n",
              "                \n",
              "            </script>\n",
              "        </div>\n",
              "</body>\n",
              "</html>"
            ]
          },
          "metadata": {}
        }
      ]
    },
    {
      "cell_type": "markdown",
      "source": [
        "## Nonlinear Algorithms\n",
        "\n",
        "#### Churn Prediction using ANN with tensorflow, keras"
      ],
      "metadata": {
        "id": "pF5wBErynB_v"
      }
    },
    {
      "cell_type": "code",
      "source": [
        "model_nn = Sequential()\n",
        "model_nn.add(Dense(10,input_shape=(30,),activation='relu'))\n",
        "model_nn.add(Dense(1, activation='sigmoid'))\n",
        "model_nn.summary()"
      ],
      "metadata": {
        "colab": {
          "base_uri": "https://localhost:8080/"
        },
        "id": "48eV6PCmm5BH",
        "outputId": "29b0e7fa-bccd-473a-cfdb-aa920dcc09e7"
      },
      "execution_count": 36,
      "outputs": [
        {
          "output_type": "stream",
          "name": "stdout",
          "text": [
            "Model: \"sequential\"\n",
            "_________________________________________________________________\n",
            " Layer (type)                Output Shape              Param #   \n",
            "=================================================================\n",
            " dense (Dense)               (None, 10)                310       \n",
            "                                                                 \n",
            " dense_1 (Dense)             (None, 1)                 11        \n",
            "                                                                 \n",
            "=================================================================\n",
            "Total params: 321\n",
            "Trainable params: 321\n",
            "Non-trainable params: 0\n",
            "_________________________________________________________________\n"
          ]
        }
      ]
    },
    {
      "cell_type": "code",
      "source": [
        "model_nn.compile(optimizer='adam',metrics=['accuracy'],loss='binary_crossentropy')\n",
        "\n",
        "history_nn = model_nn.fit(train_X_re,train_y_re,\n",
        "                          validation_split=0.2,\n",
        "                          epochs=10,\n",
        "                          verbose=0\n",
        "                         )"
      ],
      "metadata": {
        "id": "ArBQfVuknIvs"
      },
      "execution_count": 37,
      "outputs": []
    },
    {
      "cell_type": "code",
      "source": [
        "def plot_metrics(history):\n",
        "    metrics = ['loss', 'accuracy']\n",
        "    plt.figure(figsize=(12,3))\n",
        "    for n, metric in enumerate(metrics):\n",
        "        name = metric.replace(\"_\",\" \").capitalize()\n",
        "        plt.subplot(1,2,n+1)\n",
        "        plt.plot(history.epoch, history.history[metric], color='red', label='Train')\n",
        "        plt.plot(history.epoch, history.history['val_'+metric],\n",
        "                 color='green', linestyle=\"--\", label='Val')\n",
        "        plt.xlabel('Epoch')\n",
        "        plt.ylabel(name)\n",
        "        plt.legend()\n",
        "\n",
        "\n",
        "plot_metrics(history_nn)"
      ],
      "metadata": {
        "colab": {
          "base_uri": "https://localhost:8080/",
          "height": 225
        },
        "id": "v76xraP3muxw",
        "outputId": "4c2fbb5c-d59f-467d-ed39-16afa66fecef"
      },
      "execution_count": 38,
      "outputs": [
        {
          "output_type": "display_data",
          "data": {
            "image/png": "[encoded data removed]",
            "text/plain": [
              "<Figure size 864x216 with 2 Axes>"
            ]
          },
          "metadata": {
            "needs_background": "light"
          }
        }
      ]
    },
    {
      "cell_type": "code",
      "source": [
        "model_nn.evaluate(test_X,test_y)"
      ],
      "metadata": {
        "colab": {
          "base_uri": "https://localhost:8080/"
        },
        "id": "5E887wr9nZWY",
        "outputId": "5e5caf5f-0a75-497e-9b58-a83f9c1bc7c1"
      },
      "execution_count": 39,
      "outputs": [
        {
          "output_type": "stream",
          "name": "stdout",
          "text": [
            "44/44 [==============================] - 0s 1ms/step - loss: 0.4264 - accuracy: 0.7846\n"
          ]
        },
        {
          "output_type": "execute_result",
          "data": {
            "text/plain": [
              "[0.42642197012901306, 0.7846481800079346]"
            ]
          },
          "metadata": {},
          "execution_count": 39
        }
      ]
    },
    {
      "cell_type": "code",
      "source": [
        "cm_nn,cr_nn,auc_score_nn,_  = test_eval(model_nn,test_X,test_y)\n",
        "fpr_nn, tpr_nn, thresh_nn = roc_curve(test_y, model_nn.predict(test_X), pos_label = 1)\n",
        "precision_nn, recall_nn, _ = precision_recall_curve(test_y, model_nn.predict(test_X))"
      ],
      "metadata": {
        "colab": {
          "base_uri": "https://localhost:8080/"
        },
        "id": "t-XG8IW6nce6",
        "outputId": "e56ffa8a-b334-49d5-b38c-96c9e8167800"
      },
      "execution_count": 40,
      "outputs": [
        {
          "output_type": "stream",
          "name": "stdout",
          "text": [
            "Confusion Matrix\n",
            "====================\n",
            "[[866 167]\n",
            " [136 238]] \n",
            "\n",
            "Classification Report\n",
            "====================\n",
            "              precision    recall  f1-score   support\n",
            "\n",
            "           0       0.86      0.84      0.85      1033\n",
            "           1       0.59      0.64      0.61       374\n",
            "\n",
            "    accuracy                           0.78      1407\n",
            "   macro avg       0.73      0.74      0.73      1407\n",
            "weighted avg       0.79      0.78      0.79      1407\n",
            "\n"
          ]
        }
      ]
    },
    {
      "cell_type": "code",
      "source": [
        "plot_cmatrix(cm_nn, name = 'NN')"
      ],
      "metadata": {
        "colab": {
          "base_uri": "https://localhost:8080/",
          "height": 417
        },
        "id": "1aA2tK48ncim",
        "outputId": "5c462f15-5428-4244-eda2-8b1721a4c6ac"
      },
      "execution_count": 41,
      "outputs": [
        {
          "output_type": "display_data",
          "data": {
            "text/html": [
              "<html>\n",
              "<head><meta charset=\"utf-8\" /></head>\n",
              "<body>\n",
              "    <div>\n",
              "            <script src=\"https://cdnjs.cloudflare.com/ajax/libs/mathjax/2.7.5/MathJax.js?config=TeX-AMS-MML_SVG\"></script><script type=\"text/javascript\">if (window.MathJax) {MathJax.Hub.Config({SVG: {font: \"STIX-Web\"}});}</script>\n",
              "                <script type=\"text/javascript\">window.PlotlyConfig = {MathJaxConfig: 'local'};</script>\n",
              "        <script src=\"https://cdn.plot.ly/plotly-latest.min.js\"></script>    \n",
              "            <div id=\"97057050-181d-4c2e-b469-5bf763a2d42c\" class=\"plotly-graph-div\" style=\"height:400px; width:400px;\"></div>\n",
              "            <script type=\"text/javascript\">\n",
              "                \n",
              "                    window.PLOTLYENV=window.PLOTLYENV || {};\n",
              "                    \n",
              "                if (document.getElementById(\"97057050-181d-4c2e-b469-5bf763a2d42c\")) {\n",
              "                    Plotly.newPlot(\n",
              "                        '97057050-181d-4c2e-b469-5bf763a2d42c',\n",
              "                        [{\"coloraxis\": \"coloraxis\", \"type\": \"heatmap\", \"z\": [[866, 167], [136, 238]]}],\n",
              "                        {\"annotations\": [{\"font\": {\"color\": \"black\", \"size\": 12}, \"showarrow\": false, \"text\": \"866\", \"x\": 0, \"y\": 0}, {\"font\": {\"color\": \"black\", \"size\": 12}, \"showarrow\": false, \"text\": \"167\", \"x\": 1, \"y\": 0}, {\"font\": {\"color\": \"black\", \"size\": 12}, \"showarrow\": false, \"text\": \"136\", \"x\": 0, \"y\": 1}, {\"font\": {\"color\": \"black\", \"size\": 12}, \"showarrow\": false, \"text\": \"238\", \"x\": 1, \"y\": 1}], \"coloraxis\": {\"colorscale\": [[0.0, \"peachpuff\"], [0.5, \"lime\"], [1.0, \"green\"]]}, \"height\": 400, \"margin\": {\"t\": 60}, \"template\": {\"data\": {\"bar\": [{\"error_x\": {\"color\": \"#2a3f5f\"}, \"error_y\": {\"color\": \"#2a3f5f\"}, \"marker\": {\"line\": {\"color\": \"#E5ECF6\", \"width\": 0.5}}, \"type\": \"bar\"}], \"barpolar\": [{\"marker\": {\"line\": {\"color\": \"#E5ECF6\", \"width\": 0.5}}, \"type\": \"barpolar\"}], \"carpet\": [{\"aaxis\": {\"endlinecolor\": \"#2a3f5f\", \"gridcolor\": \"white\", \"linecolor\": \"white\", \"minorgridcolor\": \"white\", \"startlinecolor\": \"#2a3f5f\"}, \"baxis\": {\"endlinecolor\": \"#2a3f5f\", \"gridcolor\": \"white\", \"linecolor\": \"white\", \"minorgridcolor\": \"white\", \"startlinecolor\": \"#2a3f5f\"}, \"type\": \"carpet\"}], \"choropleth\": [{\"colorbar\": {\"outlinewidth\": 0, \"ticks\": \"\"}, \"type\": \"choropleth\"}], \"contour\": [{\"colorbar\": {\"outlinewidth\": 0, \"ticks\": \"\"}, \"colorscale\": [[0.0, \"#0d0887\"], [0.1111111111111111, \"#46039f\"], [0.2222222222222222, \"#7201a8\"], [0.3333333333333333, \"#9c179e\"], [0.4444444444444444, \"#bd3786\"], [0.5555555555555556, \"#d8576b\"], [0.6666666666666666, \"#ed7953\"], [0.7777777777777778, \"#fb9f3a\"], [0.8888888888888888, \"#fdca26\"], [1.0, \"#f0f921\"]], \"type\": \"contour\"}], \"contourcarpet\": [{\"colorbar\": {\"outlinewidth\": 0, \"ticks\": \"\"}, \"type\": \"contourcarpet\"}], \"heatmap\": [{\"colorbar\": {\"outlinewidth\": 0, \"ticks\": \"\"}, \"colorscale\": [[0.0, \"#0d0887\"], [0.1111111111111111, \"#46039f\"], [0.2222222222222222, \"#7201a8\"], [0.3333333333333333, \"#9c179e\"], [0.4444444444444444, \"#bd3786\"], [0.5555555555555556, \"#d8576b\"], [0.6666666666666666, \"#ed7953\"], [0.7777777777777778, \"#fb9f3a\"], [0.8888888888888888, \"#fdca26\"], [1.0, \"#f0f921\"]], \"type\": \"heatmap\"}], \"heatmapgl\": [{\"colorbar\": {\"outlinewidth\": 0, \"ticks\": \"\"}, \"colorscale\": [[0.0, \"#0d0887\"], [0.1111111111111111, \"#46039f\"], [0.2222222222222222, \"#7201a8\"], [0.3333333333333333, \"#9c179e\"], [0.4444444444444444, \"#bd3786\"], [0.5555555555555556, \"#d8576b\"], [0.6666666666666666, \"#ed7953\"], [0.7777777777777778, \"#fb9f3a\"], [0.8888888888888888, \"#fdca26\"], [1.0, \"#f0f921\"]], \"type\": \"heatmapgl\"}], \"histogram\": [{\"marker\": {\"colorbar\": {\"outlinewidth\": 0, \"ticks\": \"\"}}, \"type\": \"histogram\"}], \"histogram2d\": [{\"colorbar\": {\"outlinewidth\": 0, \"ticks\": \"\"}, \"colorscale\": [[0.0, \"#0d0887\"], [0.1111111111111111, \"#46039f\"], [0.2222222222222222, \"#7201a8\"], [0.3333333333333333, \"#9c179e\"], [0.4444444444444444, \"#bd3786\"], [0.5555555555555556, \"#d8576b\"], [0.6666666666666666, \"#ed7953\"], [0.7777777777777778, \"#fb9f3a\"], [0.8888888888888888, \"#fdca26\"], [1.0, \"#f0f921\"]], \"type\": \"histogram2d\"}], \"histogram2dcontour\": [{\"colorbar\": {\"outlinewidth\": 0, \"ticks\": \"\"}, \"colorscale\": [[0.0, \"#0d0887\"], [0.1111111111111111, \"#46039f\"], [0.2222222222222222, \"#7201a8\"], [0.3333333333333333, \"#9c179e\"], [0.4444444444444444, \"#bd3786\"], [0.5555555555555556, \"#d8576b\"], [0.6666666666666666, \"#ed7953\"], [0.7777777777777778, \"#fb9f3a\"], [0.8888888888888888, \"#fdca26\"], [1.0, \"#f0f921\"]], \"type\": \"histogram2dcontour\"}], \"mesh3d\": [{\"colorbar\": {\"outlinewidth\": 0, \"ticks\": \"\"}, \"type\": \"mesh3d\"}], \"parcoords\": [{\"line\": {\"colorbar\": {\"outlinewidth\": 0, \"ticks\": \"\"}}, \"type\": \"parcoords\"}], \"pie\": [{\"automargin\": true, \"type\": \"pie\"}], \"scatter\": [{\"marker\": {\"colorbar\": {\"outlinewidth\": 0, \"ticks\": \"\"}}, \"type\": \"scatter\"}], \"scatter3d\": [{\"line\": {\"colorbar\": {\"outlinewidth\": 0, \"ticks\": \"\"}}, \"marker\": {\"colorbar\": {\"outlinewidth\": 0, \"ticks\": \"\"}}, \"type\": \"scatter3d\"}], \"scattercarpet\": [{\"marker\": {\"colorbar\": {\"outlinewidth\": 0, \"ticks\": \"\"}}, \"type\": \"scattercarpet\"}], \"scattergeo\": [{\"marker\": {\"colorbar\": {\"outlinewidth\": 0, \"ticks\": \"\"}}, \"type\": \"scattergeo\"}], \"scattergl\": [{\"marker\": {\"colorbar\": {\"outlinewidth\": 0, \"ticks\": \"\"}}, \"type\": \"scattergl\"}], \"scattermapbox\": [{\"marker\": {\"colorbar\": {\"outlinewidth\": 0, \"ticks\": \"\"}}, \"type\": \"scattermapbox\"}], \"scatterpolar\": [{\"marker\": {\"colorbar\": {\"outlinewidth\": 0, \"ticks\": \"\"}}, \"type\": \"scatterpolar\"}], \"scatterpolargl\": [{\"marker\": {\"colorbar\": {\"outlinewidth\": 0, \"ticks\": \"\"}}, \"type\": \"scatterpolargl\"}], \"scatterternary\": [{\"marker\": {\"colorbar\": {\"outlinewidth\": 0, \"ticks\": \"\"}}, \"type\": \"scatterternary\"}], \"surface\": [{\"colorbar\": {\"outlinewidth\": 0, \"ticks\": \"\"}, \"colorscale\": [[0.0, \"#0d0887\"], [0.1111111111111111, \"#46039f\"], [0.2222222222222222, \"#7201a8\"], [0.3333333333333333, \"#9c179e\"], [0.4444444444444444, \"#bd3786\"], [0.5555555555555556, \"#d8576b\"], [0.6666666666666666, \"#ed7953\"], [0.7777777777777778, \"#fb9f3a\"], [0.8888888888888888, \"#fdca26\"], [1.0, \"#f0f921\"]], \"type\": \"surface\"}], \"table\": [{\"cells\": {\"fill\": {\"color\": \"#EBF0F8\"}, \"line\": {\"color\": \"white\"}}, \"header\": {\"fill\": {\"color\": \"#C8D4E3\"}, \"line\": {\"color\": \"white\"}}, \"type\": \"table\"}]}, \"layout\": {\"annotationdefaults\": {\"arrowcolor\": \"#2a3f5f\", \"arrowhead\": 0, \"arrowwidth\": 1}, \"coloraxis\": {\"colorbar\": {\"outlinewidth\": 0, \"ticks\": \"\"}}, \"colorscale\": {\"diverging\": [[0, \"#8e0152\"], [0.1, \"#c51b7d\"], [0.2, \"#de77ae\"], [0.3, \"#f1b6da\"], [0.4, \"#fde0ef\"], [0.5, \"#f7f7f7\"], [0.6, \"#e6f5d0\"], [0.7, \"#b8e186\"], [0.8, \"#7fbc41\"], [0.9, \"#4d9221\"], [1, \"#276419\"]], \"sequential\": [[0.0, \"#0d0887\"], [0.1111111111111111, \"#46039f\"], [0.2222222222222222, \"#7201a8\"], [0.3333333333333333, \"#9c179e\"], [0.4444444444444444, \"#bd3786\"], [0.5555555555555556, \"#d8576b\"], [0.6666666666666666, \"#ed7953\"], [0.7777777777777778, \"#fb9f3a\"], [0.8888888888888888, \"#fdca26\"], [1.0, \"#f0f921\"]], \"sequentialminus\": [[0.0, \"#0d0887\"], [0.1111111111111111, \"#46039f\"], [0.2222222222222222, \"#7201a8\"], [0.3333333333333333, \"#9c179e\"], [0.4444444444444444, \"#bd3786\"], [0.5555555555555556, \"#d8576b\"], [0.6666666666666666, \"#ed7953\"], [0.7777777777777778, \"#fb9f3a\"], [0.8888888888888888, \"#fdca26\"], [1.0, \"#f0f921\"]]}, \"colorway\": [\"#636efa\", \"#EF553B\", \"#00cc96\", \"#ab63fa\", \"#FFA15A\", \"#19d3f3\", \"#FF6692\", \"#B6E880\", \"#FF97FF\", \"#FECB52\"], \"font\": {\"color\": \"#2a3f5f\"}, \"geo\": {\"bgcolor\": \"white\", \"lakecolor\": \"white\", \"landcolor\": \"#E5ECF6\", \"showlakes\": true, \"showland\": true, \"subunitcolor\": \"white\"}, \"hoverlabel\": {\"align\": \"left\"}, \"hovermode\": \"closest\", \"mapbox\": {\"style\": \"light\"}, \"paper_bgcolor\": \"white\", \"plot_bgcolor\": \"#E5ECF6\", \"polar\": {\"angularaxis\": {\"gridcolor\": \"white\", \"linecolor\": \"white\", \"ticks\": \"\"}, \"bgcolor\": \"#E5ECF6\", \"radialaxis\": {\"gridcolor\": \"white\", \"linecolor\": \"white\", \"ticks\": \"\"}}, \"scene\": {\"xaxis\": {\"backgroundcolor\": \"#E5ECF6\", \"gridcolor\": \"white\", \"gridwidth\": 2, \"linecolor\": \"white\", \"showbackground\": true, \"ticks\": \"\", \"zerolinecolor\": \"white\"}, \"yaxis\": {\"backgroundcolor\": \"#E5ECF6\", \"gridcolor\": \"white\", \"gridwidth\": 2, \"linecolor\": \"white\", \"showbackground\": true, \"ticks\": \"\", \"zerolinecolor\": \"white\"}, \"zaxis\": {\"backgroundcolor\": \"#E5ECF6\", \"gridcolor\": \"white\", \"gridwidth\": 2, \"linecolor\": \"white\", \"showbackground\": true, \"ticks\": \"\", \"zerolinecolor\": \"white\"}}, \"shapedefaults\": {\"line\": {\"color\": \"#2a3f5f\"}}, \"ternary\": {\"aaxis\": {\"gridcolor\": \"white\", \"linecolor\": \"white\", \"ticks\": \"\"}, \"baxis\": {\"gridcolor\": \"white\", \"linecolor\": \"white\", \"ticks\": \"\"}, \"bgcolor\": \"#E5ECF6\", \"caxis\": {\"gridcolor\": \"white\", \"linecolor\": \"white\", \"ticks\": \"\"}}, \"title\": {\"x\": 0.05}, \"xaxis\": {\"automargin\": true, \"gridcolor\": \"white\", \"linecolor\": \"white\", \"ticks\": \"\", \"title\": {\"standoff\": 15}, \"zerolinecolor\": \"white\", \"zerolinewidth\": 2}, \"yaxis\": {\"automargin\": true, \"gridcolor\": \"white\", \"linecolor\": \"white\", \"ticks\": \"\", \"title\": {\"standoff\": 15}, \"zerolinecolor\": \"white\", \"zerolinewidth\": 2}}}, \"title\": {\"text\": \"Confusion Matrix (NN)\", \"x\": 0.5}, \"width\": 400, \"xaxis\": {\"constrain\": \"domain\", \"dtick\": 1, \"scaleanchor\": \"y\", \"tick0\": 0, \"tickmode\": \"linear\", \"title\": {\"text\": \"Prediction\"}}, \"yaxis\": {\"autorange\": \"reversed\", \"constrain\": \"domain\", \"dtick\": 1, \"tick0\": 0, \"tickmode\": \"linear\", \"title\": {\"text\": \"Truth\"}}},\n",
              "                        {\"responsive\": true}\n",
              "                    ).then(function(){\n",
              "                            \n",
              "var gd = document.getElementById('97057050-181d-4c2e-b469-5bf763a2d42c');\n",
              "var x = new MutationObserver(function (mutations, observer) {{\n",
              "        var display = window.getComputedStyle(gd).display;\n",
              "        if (!display || display === 'none') {{\n",
              "            console.log([gd, 'removed!']);\n",
              "            Plotly.purge(gd);\n",
              "            observer.disconnect();\n",
              "        }}\n",
              "}});\n",
              "\n",
              "// Listen for the removal of the full notebook cells\n",
              "var notebookContainer = gd.closest('#notebook-container');\n",
              "if (notebookContainer) {{\n",
              "    x.observe(notebookContainer, {childList: true});\n",
              "}}\n",
              "\n",
              "// Listen for the clearing of the current output cell\n",
              "var outputEl = gd.closest('.output');\n",
              "if (outputEl) {{\n",
              "    x.observe(outputEl, {childList: true});\n",
              "}}\n",
              "\n",
              "                        })\n",
              "                };\n",
              "                \n",
              "            </script>\n",
              "        </div>\n",
              "</body>\n",
              "</html>"
            ]
          },
          "metadata": {}
        }
      ]
    },
    {
      "cell_type": "markdown",
      "source": [
        "### Churn Prediction using SVC"
      ],
      "metadata": {
        "id": "lPbLgbIAnkvw"
      }
    },
    {
      "cell_type": "code",
      "source": [
        "# SVC probability para has to set True for predict_proba function\n",
        "para_svc = {'C':[1,10,20], \"probability\":[True]}\n",
        "\n",
        "model_svc = GridSearchCV(estimator = SVC(),\n",
        "                    param_grid = para_svc,\n",
        "                    cv=10,\n",
        "                    verbose=0,\n",
        "                    n_jobs=-1\n",
        "                   )\n",
        "model_svc.fit(train_X_re,train_y_re)"
      ],
      "metadata": {
        "colab": {
          "base_uri": "https://localhost:8080/"
        },
        "id": "yPSDuB99nZaO",
        "outputId": "22d744b3-405a-49b6-9aa3-13d7650cb266"
      },
      "execution_count": 42,
      "outputs": [
        {
          "output_type": "execute_result",
          "data": {
            "text/plain": [
              "GridSearchCV(cv=10, estimator=SVC(), n_jobs=-1,\n",
              "             param_grid={'C': [1, 10, 20], 'probability': [True]})"
            ]
          },
          "metadata": {},
          "execution_count": 42
        }
      ]
    },
    {
      "cell_type": "code",
      "source": [
        "model_svc.best_params_"
      ],
      "metadata": {
        "colab": {
          "base_uri": "https://localhost:8080/"
        },
        "id": "442s4P-AnqMO",
        "outputId": "43d0c531-104d-40f1-9fe8-2b4ccc4c27f4"
      },
      "execution_count": 43,
      "outputs": [
        {
          "output_type": "execute_result",
          "data": {
            "text/plain": [
              "{'C': 10, 'probability': True}"
            ]
          },
          "metadata": {},
          "execution_count": 43
        }
      ]
    },
    {
      "cell_type": "code",
      "source": [
        "cm_svc,cr_svc,auc_score_svc,_  = test_eval(model_svc,test_X,test_y)\n",
        "fpr_svc, tpr_svc, thresh_svc = roc_curve(test_y, model_svc.predict_proba(test_X)[:,1], pos_label = 1)\n",
        "precision_svc, recall_svc, _ = precision_recall_curve(test_y, model_svc.predict_proba(test_X)[:,1], pos_label=1)"
      ],
      "metadata": {
        "colab": {
          "base_uri": "https://localhost:8080/"
        },
        "id": "gWoaA761nZdK",
        "outputId": "2b8d7505-2ed7-4f76-bba6-b05b19e1ad9b"
      },
      "execution_count": 44,
      "outputs": [
        {
          "output_type": "stream",
          "name": "stdout",
          "text": [
            "Confusion Matrix\n",
            "====================\n",
            "[[791 242]\n",
            " [112 262]] \n",
            "\n",
            "Classification Report\n",
            "====================\n",
            "              precision    recall  f1-score   support\n",
            "\n",
            "           0       0.88      0.77      0.82      1033\n",
            "           1       0.52      0.70      0.60       374\n",
            "\n",
            "    accuracy                           0.75      1407\n",
            "   macro avg       0.70      0.73      0.71      1407\n",
            "weighted avg       0.78      0.75      0.76      1407\n",
            "\n"
          ]
        }
      ]
    },
    {
      "cell_type": "code",
      "source": [
        "plot_cmatrix(cm_svc, name='SVC')"
      ],
      "metadata": {
        "colab": {
          "base_uri": "https://localhost:8080/",
          "height": 417
        },
        "id": "4_ukYLHrnzY6",
        "outputId": "d2e3a93a-ef59-4ddb-b6da-f96fee5094ed"
      },
      "execution_count": 45,
      "outputs": [
        {
          "output_type": "display_data",
          "data": {
            "text/html": [
              "<html>\n",
              "<head><meta charset=\"utf-8\" /></head>\n",
              "<body>\n",
              "    <div>\n",
              "            <script src=\"https://cdnjs.cloudflare.com/ajax/libs/mathjax/2.7.5/MathJax.js?config=TeX-AMS-MML_SVG\"></script><script type=\"text/javascript\">if (window.MathJax) {MathJax.Hub.Config({SVG: {font: \"STIX-Web\"}});}</script>\n",
              "                <script type=\"text/javascript\">window.PlotlyConfig = {MathJaxConfig: 'local'};</script>\n",
              "        <script src=\"https://cdn.plot.ly/plotly-latest.min.js\"></script>    \n",
              "            <div id=\"7f7a0d72-640c-4217-a519-6137b0dfbe00\" class=\"plotly-graph-div\" style=\"height:400px; width:400px;\"></div>\n",
              "            <script type=\"text/javascript\">\n",
              "                \n",
              "                    window.PLOTLYENV=window.PLOTLYENV || {};\n",
              "                    \n",
              "                if (document.getElementById(\"7f7a0d72-640c-4217-a519-6137b0dfbe00\")) {\n",
              "                    Plotly.newPlot(\n",
              "                        '7f7a0d72-640c-4217-a519-6137b0dfbe00',\n",
              "                        [{\"coloraxis\": \"coloraxis\", \"type\": \"heatmap\", \"z\": [[791, 242], [112, 262]]}],\n",
              "                        {\"annotations\": [{\"font\": {\"color\": \"black\", \"size\": 12}, \"showarrow\": false, \"text\": \"791\", \"x\": 0, \"y\": 0}, {\"font\": {\"color\": \"black\", \"size\": 12}, \"showarrow\": false, \"text\": \"242\", \"x\": 1, \"y\": 0}, {\"font\": {\"color\": \"black\", \"size\": 12}, \"showarrow\": false, \"text\": \"112\", \"x\": 0, \"y\": 1}, {\"font\": {\"color\": \"black\", \"size\": 12}, \"showarrow\": false, \"text\": \"262\", \"x\": 1, \"y\": 1}], \"coloraxis\": {\"colorscale\": [[0.0, \"peachpuff\"], [0.5, \"lime\"], [1.0, \"green\"]]}, \"height\": 400, \"margin\": {\"t\": 60}, \"template\": {\"data\": {\"bar\": [{\"error_x\": {\"color\": \"#2a3f5f\"}, \"error_y\": {\"color\": \"#2a3f5f\"}, \"marker\": {\"line\": {\"color\": \"#E5ECF6\", \"width\": 0.5}}, \"type\": \"bar\"}], \"barpolar\": [{\"marker\": {\"line\": {\"color\": \"#E5ECF6\", \"width\": 0.5}}, \"type\": \"barpolar\"}], \"carpet\": [{\"aaxis\": {\"endlinecolor\": \"#2a3f5f\", \"gridcolor\": \"white\", \"linecolor\": \"white\", \"minorgridcolor\": \"white\", \"startlinecolor\": \"#2a3f5f\"}, \"baxis\": {\"endlinecolor\": \"#2a3f5f\", \"gridcolor\": \"white\", \"linecolor\": \"white\", \"minorgridcolor\": \"white\", \"startlinecolor\": \"#2a3f5f\"}, \"type\": \"carpet\"}], \"choropleth\": [{\"colorbar\": {\"outlinewidth\": 0, \"ticks\": \"\"}, \"type\": \"choropleth\"}], \"contour\": [{\"colorbar\": {\"outlinewidth\": 0, \"ticks\": \"\"}, \"colorscale\": [[0.0, \"#0d0887\"], [0.1111111111111111, \"#46039f\"], [0.2222222222222222, \"#7201a8\"], [0.3333333333333333, \"#9c179e\"], [0.4444444444444444, \"#bd3786\"], [0.5555555555555556, \"#d8576b\"], [0.6666666666666666, \"#ed7953\"], [0.7777777777777778, \"#fb9f3a\"], [0.8888888888888888, \"#fdca26\"], [1.0, \"#f0f921\"]], \"type\": \"contour\"}], \"contourcarpet\": [{\"colorbar\": {\"outlinewidth\": 0, \"ticks\": \"\"}, \"type\": \"contourcarpet\"}], \"heatmap\": [{\"colorbar\": {\"outlinewidth\": 0, \"ticks\": \"\"}, \"colorscale\": [[0.0, \"#0d0887\"], [0.1111111111111111, \"#46039f\"], [0.2222222222222222, \"#7201a8\"], [0.3333333333333333, \"#9c179e\"], [0.4444444444444444, \"#bd3786\"], [0.5555555555555556, \"#d8576b\"], [0.6666666666666666, \"#ed7953\"], [0.7777777777777778, \"#fb9f3a\"], [0.8888888888888888, \"#fdca26\"], [1.0, \"#f0f921\"]], \"type\": \"heatmap\"}], \"heatmapgl\": [{\"colorbar\": {\"outlinewidth\": 0, \"ticks\": \"\"}, \"colorscale\": [[0.0, \"#0d0887\"], [0.1111111111111111, \"#46039f\"], [0.2222222222222222, \"#7201a8\"], [0.3333333333333333, \"#9c179e\"], [0.4444444444444444, \"#bd3786\"], [0.5555555555555556, \"#d8576b\"], [0.6666666666666666, \"#ed7953\"], [0.7777777777777778, \"#fb9f3a\"], [0.8888888888888888, \"#fdca26\"], [1.0, \"#f0f921\"]], \"type\": \"heatmapgl\"}], \"histogram\": [{\"marker\": {\"colorbar\": {\"outlinewidth\": 0, \"ticks\": \"\"}}, \"type\": \"histogram\"}], \"histogram2d\": [{\"colorbar\": {\"outlinewidth\": 0, \"ticks\": \"\"}, \"colorscale\": [[0.0, \"#0d0887\"], [0.1111111111111111, \"#46039f\"], [0.2222222222222222, \"#7201a8\"], [0.3333333333333333, \"#9c179e\"], [0.4444444444444444, \"#bd3786\"], [0.5555555555555556, \"#d8576b\"], [0.6666666666666666, \"#ed7953\"], [0.7777777777777778, \"#fb9f3a\"], [0.8888888888888888, \"#fdca26\"], [1.0, \"#f0f921\"]], \"type\": \"histogram2d\"}], \"histogram2dcontour\": [{\"colorbar\": {\"outlinewidth\": 0, \"ticks\": \"\"}, \"colorscale\": [[0.0, \"#0d0887\"], [0.1111111111111111, \"#46039f\"], [0.2222222222222222, \"#7201a8\"], [0.3333333333333333, \"#9c179e\"], [0.4444444444444444, \"#bd3786\"], [0.5555555555555556, \"#d8576b\"], [0.6666666666666666, \"#ed7953\"], [0.7777777777777778, \"#fb9f3a\"], [0.8888888888888888, \"#fdca26\"], [1.0, \"#f0f921\"]], \"type\": \"histogram2dcontour\"}], \"mesh3d\": [{\"colorbar\": {\"outlinewidth\": 0, \"ticks\": \"\"}, \"type\": \"mesh3d\"}], \"parcoords\": [{\"line\": {\"colorbar\": {\"outlinewidth\": 0, \"ticks\": \"\"}}, \"type\": \"parcoords\"}], \"pie\": [{\"automargin\": true, \"type\": \"pie\"}], \"scatter\": [{\"marker\": {\"colorbar\": {\"outlinewidth\": 0, \"ticks\": \"\"}}, \"type\": \"scatter\"}], \"scatter3d\": [{\"line\": {\"colorbar\": {\"outlinewidth\": 0, \"ticks\": \"\"}}, \"marker\": {\"colorbar\": {\"outlinewidth\": 0, \"ticks\": \"\"}}, \"type\": \"scatter3d\"}], \"scattercarpet\": [{\"marker\": {\"colorbar\": {\"outlinewidth\": 0, \"ticks\": \"\"}}, \"type\": \"scattercarpet\"}], \"scattergeo\": [{\"marker\": {\"colorbar\": {\"outlinewidth\": 0, \"ticks\": \"\"}}, \"type\": \"scattergeo\"}], \"scattergl\": [{\"marker\": {\"colorbar\": {\"outlinewidth\": 0, \"ticks\": \"\"}}, \"type\": \"scattergl\"}], \"scattermapbox\": [{\"marker\": {\"colorbar\": {\"outlinewidth\": 0, \"ticks\": \"\"}}, \"type\": \"scattermapbox\"}], \"scatterpolar\": [{\"marker\": {\"colorbar\": {\"outlinewidth\": 0, \"ticks\": \"\"}}, \"type\": \"scatterpolar\"}], \"scatterpolargl\": [{\"marker\": {\"colorbar\": {\"outlinewidth\": 0, \"ticks\": \"\"}}, \"type\": \"scatterpolargl\"}], \"scatterternary\": [{\"marker\": {\"colorbar\": {\"outlinewidth\": 0, \"ticks\": \"\"}}, \"type\": \"scatterternary\"}], \"surface\": [{\"colorbar\": {\"outlinewidth\": 0, \"ticks\": \"\"}, \"colorscale\": [[0.0, \"#0d0887\"], [0.1111111111111111, \"#46039f\"], [0.2222222222222222, \"#7201a8\"], [0.3333333333333333, \"#9c179e\"], [0.4444444444444444, \"#bd3786\"], [0.5555555555555556, \"#d8576b\"], [0.6666666666666666, \"#ed7953\"], [0.7777777777777778, \"#fb9f3a\"], [0.8888888888888888, \"#fdca26\"], [1.0, \"#f0f921\"]], \"type\": \"surface\"}], \"table\": [{\"cells\": {\"fill\": {\"color\": \"#EBF0F8\"}, \"line\": {\"color\": \"white\"}}, \"header\": {\"fill\": {\"color\": \"#C8D4E3\"}, \"line\": {\"color\": \"white\"}}, \"type\": \"table\"}]}, \"layout\": {\"annotationdefaults\": {\"arrowcolor\": \"#2a3f5f\", \"arrowhead\": 0, \"arrowwidth\": 1}, \"coloraxis\": {\"colorbar\": {\"outlinewidth\": 0, \"ticks\": \"\"}}, \"colorscale\": {\"diverging\": [[0, \"#8e0152\"], [0.1, \"#c51b7d\"], [0.2, \"#de77ae\"], [0.3, \"#f1b6da\"], [0.4, \"#fde0ef\"], [0.5, \"#f7f7f7\"], [0.6, \"#e6f5d0\"], [0.7, \"#b8e186\"], [0.8, \"#7fbc41\"], [0.9, \"#4d9221\"], [1, \"#276419\"]], \"sequential\": [[0.0, \"#0d0887\"], [0.1111111111111111, \"#46039f\"], [0.2222222222222222, \"#7201a8\"], [0.3333333333333333, \"#9c179e\"], [0.4444444444444444, \"#bd3786\"], [0.5555555555555556, \"#d8576b\"], [0.6666666666666666, \"#ed7953\"], [0.7777777777777778, \"#fb9f3a\"], [0.8888888888888888, \"#fdca26\"], [1.0, \"#f0f921\"]], \"sequentialminus\": [[0.0, \"#0d0887\"], [0.1111111111111111, \"#46039f\"], [0.2222222222222222, \"#7201a8\"], [0.3333333333333333, \"#9c179e\"], [0.4444444444444444, \"#bd3786\"], [0.5555555555555556, \"#d8576b\"], [0.6666666666666666, \"#ed7953\"], [0.7777777777777778, \"#fb9f3a\"], [0.8888888888888888, \"#fdca26\"], [1.0, \"#f0f921\"]]}, \"colorway\": [\"#636efa\", \"#EF553B\", \"#00cc96\", \"#ab63fa\", \"#FFA15A\", \"#19d3f3\", \"#FF6692\", \"#B6E880\", \"#FF97FF\", \"#FECB52\"], \"font\": {\"color\": \"#2a3f5f\"}, \"geo\": {\"bgcolor\": \"white\", \"lakecolor\": \"white\", \"landcolor\": \"#E5ECF6\", \"showlakes\": true, \"showland\": true, \"subunitcolor\": \"white\"}, \"hoverlabel\": {\"align\": \"left\"}, \"hovermode\": \"closest\", \"mapbox\": {\"style\": \"light\"}, \"paper_bgcolor\": \"white\", \"plot_bgcolor\": \"#E5ECF6\", \"polar\": {\"angularaxis\": {\"gridcolor\": \"white\", \"linecolor\": \"white\", \"ticks\": \"\"}, \"bgcolor\": \"#E5ECF6\", \"radialaxis\": {\"gridcolor\": \"white\", \"linecolor\": \"white\", \"ticks\": \"\"}}, \"scene\": {\"xaxis\": {\"backgroundcolor\": \"#E5ECF6\", \"gridcolor\": \"white\", \"gridwidth\": 2, \"linecolor\": \"white\", \"showbackground\": true, \"ticks\": \"\", \"zerolinecolor\": \"white\"}, \"yaxis\": {\"backgroundcolor\": \"#E5ECF6\", \"gridcolor\": \"white\", \"gridwidth\": 2, \"linecolor\": \"white\", \"showbackground\": true, \"ticks\": \"\", \"zerolinecolor\": \"white\"}, \"zaxis\": {\"backgroundcolor\": \"#E5ECF6\", \"gridcolor\": \"white\", \"gridwidth\": 2, \"linecolor\": \"white\", \"showbackground\": true, \"ticks\": \"\", \"zerolinecolor\": \"white\"}}, \"shapedefaults\": {\"line\": {\"color\": \"#2a3f5f\"}}, \"ternary\": {\"aaxis\": {\"gridcolor\": \"white\", \"linecolor\": \"white\", \"ticks\": \"\"}, \"baxis\": {\"gridcolor\": \"white\", \"linecolor\": \"white\", \"ticks\": \"\"}, \"bgcolor\": \"#E5ECF6\", \"caxis\": {\"gridcolor\": \"white\", \"linecolor\": \"white\", \"ticks\": \"\"}}, \"title\": {\"x\": 0.05}, \"xaxis\": {\"automargin\": true, \"gridcolor\": \"white\", \"linecolor\": \"white\", \"ticks\": \"\", \"title\": {\"standoff\": 15}, \"zerolinecolor\": \"white\", \"zerolinewidth\": 2}, \"yaxis\": {\"automargin\": true, \"gridcolor\": \"white\", \"linecolor\": \"white\", \"ticks\": \"\", \"title\": {\"standoff\": 15}, \"zerolinecolor\": \"white\", \"zerolinewidth\": 2}}}, \"title\": {\"text\": \"Confusion Matrix (SVC)\", \"x\": 0.5}, \"width\": 400, \"xaxis\": {\"constrain\": \"domain\", \"dtick\": 1, \"scaleanchor\": \"y\", \"tick0\": 0, \"tickmode\": \"linear\", \"title\": {\"text\": \"Prediction\"}}, \"yaxis\": {\"autorange\": \"reversed\", \"constrain\": \"domain\", \"dtick\": 1, \"tick0\": 0, \"tickmode\": \"linear\", \"title\": {\"text\": \"Truth\"}}},\n",
              "                        {\"responsive\": true}\n",
              "                    ).then(function(){\n",
              "                            \n",
              "var gd = document.getElementById('7f7a0d72-640c-4217-a519-6137b0dfbe00');\n",
              "var x = new MutationObserver(function (mutations, observer) {{\n",
              "        var display = window.getComputedStyle(gd).display;\n",
              "        if (!display || display === 'none') {{\n",
              "            console.log([gd, 'removed!']);\n",
              "            Plotly.purge(gd);\n",
              "            observer.disconnect();\n",
              "        }}\n",
              "}});\n",
              "\n",
              "// Listen for the removal of the full notebook cells\n",
              "var notebookContainer = gd.closest('#notebook-container');\n",
              "if (notebookContainer) {{\n",
              "    x.observe(notebookContainer, {childList: true});\n",
              "}}\n",
              "\n",
              "// Listen for the clearing of the current output cell\n",
              "var outputEl = gd.closest('.output');\n",
              "if (outputEl) {{\n",
              "    x.observe(outputEl, {childList: true});\n",
              "}}\n",
              "\n",
              "                        })\n",
              "                };\n",
              "                \n",
              "            </script>\n",
              "        </div>\n",
              "</body>\n",
              "</html>"
            ]
          },
          "metadata": {}
        }
      ]
    },
    {
      "cell_type": "markdown",
      "source": [
        "### Churn Prediction using KNN"
      ],
      "metadata": {
        "id": "KergaSANn6i0"
      }
    },
    {
      "cell_type": "code",
      "source": [
        "para_knn = {'n_neighbors':[7,11]}\n",
        "\n",
        "model_knn = GridSearchCV(estimator = KNeighborsClassifier(),\n",
        "                    param_grid = para_knn,\n",
        "                    cv=10,\n",
        "                    verbose=0,\n",
        "                    n_jobs=-1\n",
        "                   )\n",
        "\n",
        "model_knn.fit(train_X_re,train_y_re)"
      ],
      "metadata": {
        "colab": {
          "base_uri": "https://localhost:8080/"
        },
        "id": "TNB4OK64nzbU",
        "outputId": "67c26f51-f98f-4227-a063-9e2431d3fbc0"
      },
      "execution_count": 46,
      "outputs": [
        {
          "output_type": "execute_result",
          "data": {
            "text/plain": [
              "GridSearchCV(cv=10, estimator=KNeighborsClassifier(), n_jobs=-1,\n",
              "             param_grid={'n_neighbors': [7, 11]})"
            ]
          },
          "metadata": {},
          "execution_count": 46
        }
      ]
    },
    {
      "cell_type": "code",
      "source": [
        "model_knn.best_params_"
      ],
      "metadata": {
        "colab": {
          "base_uri": "https://localhost:8080/"
        },
        "id": "QnbiAhMln_yL",
        "outputId": "652c46d9-68f2-4a01-b88e-1725b8b51610"
      },
      "execution_count": 47,
      "outputs": [
        {
          "output_type": "execute_result",
          "data": {
            "text/plain": [
              "{'n_neighbors': 7}"
            ]
          },
          "metadata": {},
          "execution_count": 47
        }
      ]
    },
    {
      "cell_type": "code",
      "source": [
        "cm_knn,cr_knn,auc_score_knn,_  = test_eval(model_knn,test_X,test_y)\n",
        "fpr_knn, tpr_knn, thresh_knn = roc_curve(test_y, model_knn.predict_proba(test_X)[:,1], pos_label = 1)\n",
        "precision_knn, recall_knn, _ = precision_recall_curve(test_y, model_knn.predict_proba(test_X)[:,1], pos_label=1)"
      ],
      "metadata": {
        "colab": {
          "base_uri": "https://localhost:8080/"
        },
        "id": "4IbXWDjnnzep",
        "outputId": "9e34b5fd-f877-49be-96fd-9d02ec9422a4"
      },
      "execution_count": 48,
      "outputs": [
        {
          "output_type": "stream",
          "name": "stdout",
          "text": [
            "Confusion Matrix\n",
            "====================\n",
            "[[718 315]\n",
            " [ 93 281]] \n",
            "\n",
            "Classification Report\n",
            "====================\n",
            "              precision    recall  f1-score   support\n",
            "\n",
            "           0       0.89      0.70      0.78      1033\n",
            "           1       0.47      0.75      0.58       374\n",
            "\n",
            "    accuracy                           0.71      1407\n",
            "   macro avg       0.68      0.72      0.68      1407\n",
            "weighted avg       0.78      0.71      0.73      1407\n",
            "\n"
          ]
        }
      ]
    },
    {
      "cell_type": "code",
      "source": [
        "plot_cmatrix(cm_knn, name='KNN')"
      ],
      "metadata": {
        "colab": {
          "base_uri": "https://localhost:8080/",
          "height": 417
        },
        "id": "NOy7Tpo3oF_8",
        "outputId": "0de0fd7a-0372-478b-9f8c-34b2af1859b0"
      },
      "execution_count": 49,
      "outputs": [
        {
          "output_type": "display_data",
          "data": {
            "text/html": [
              "<html>\n",
              "<head><meta charset=\"utf-8\" /></head>\n",
              "<body>\n",
              "    <div>\n",
              "            <script src=\"https://cdnjs.cloudflare.com/ajax/libs/mathjax/2.7.5/MathJax.js?config=TeX-AMS-MML_SVG\"></script><script type=\"text/javascript\">if (window.MathJax) {MathJax.Hub.Config({SVG: {font: \"STIX-Web\"}});}</script>\n",
              "                <script type=\"text/javascript\">window.PlotlyConfig = {MathJaxConfig: 'local'};</script>\n",
              "        <script src=\"https://cdn.plot.ly/plotly-latest.min.js\"></script>    \n",
              "            <div id=\"bb3b1fba-6e0b-47e9-a476-8340b864c357\" class=\"plotly-graph-div\" style=\"height:400px; width:400px;\"></div>\n",
              "            <script type=\"text/javascript\">\n",
              "                \n",
              "                    window.PLOTLYENV=window.PLOTLYENV || {};\n",
              "                    \n",
              "                if (document.getElementById(\"bb3b1fba-6e0b-47e9-a476-8340b864c357\")) {\n",
              "                    Plotly.newPlot(\n",
              "                        'bb3b1fba-6e0b-47e9-a476-8340b864c357',\n",
              "                        [{\"coloraxis\": \"coloraxis\", \"type\": \"heatmap\", \"z\": [[718, 315], [93, 281]]}],\n",
              "                        {\"annotations\": [{\"font\": {\"color\": \"black\", \"size\": 12}, \"showarrow\": false, \"text\": \"718\", \"x\": 0, \"y\": 0}, {\"font\": {\"color\": \"black\", \"size\": 12}, \"showarrow\": false, \"text\": \"315\", \"x\": 1, \"y\": 0}, {\"font\": {\"color\": \"black\", \"size\": 12}, \"showarrow\": false, \"text\": \"93\", \"x\": 0, \"y\": 1}, {\"font\": {\"color\": \"black\", \"size\": 12}, \"showarrow\": false, \"text\": \"281\", \"x\": 1, \"y\": 1}], \"coloraxis\": {\"colorscale\": [[0.0, \"peachpuff\"], [0.5, \"lime\"], [1.0, \"green\"]]}, \"height\": 400, \"margin\": {\"t\": 60}, \"template\": {\"data\": {\"bar\": [{\"error_x\": {\"color\": \"#2a3f5f\"}, \"error_y\": {\"color\": \"#2a3f5f\"}, \"marker\": {\"line\": {\"color\": \"#E5ECF6\", \"width\": 0.5}}, \"type\": \"bar\"}], \"barpolar\": [{\"marker\": {\"line\": {\"color\": \"#E5ECF6\", \"width\": 0.5}}, \"type\": \"barpolar\"}], \"carpet\": [{\"aaxis\": {\"endlinecolor\": \"#2a3f5f\", \"gridcolor\": \"white\", \"linecolor\": \"white\", \"minorgridcolor\": \"white\", \"startlinecolor\": \"#2a3f5f\"}, \"baxis\": {\"endlinecolor\": \"#2a3f5f\", \"gridcolor\": \"white\", \"linecolor\": \"white\", \"minorgridcolor\": \"white\", \"startlinecolor\": \"#2a3f5f\"}, \"type\": \"carpet\"}], \"choropleth\": [{\"colorbar\": {\"outlinewidth\": 0, \"ticks\": \"\"}, \"type\": \"choropleth\"}], \"contour\": [{\"colorbar\": {\"outlinewidth\": 0, \"ticks\": \"\"}, \"colorscale\": [[0.0, \"#0d0887\"], [0.1111111111111111, \"#46039f\"], [0.2222222222222222, \"#7201a8\"], [0.3333333333333333, \"#9c179e\"], [0.4444444444444444, \"#bd3786\"], [0.5555555555555556, \"#d8576b\"], [0.6666666666666666, \"#ed7953\"], [0.7777777777777778, \"#fb9f3a\"], [0.8888888888888888, \"#fdca26\"], [1.0, \"#f0f921\"]], \"type\": \"contour\"}], \"contourcarpet\": [{\"colorbar\": {\"outlinewidth\": 0, \"ticks\": \"\"}, \"type\": \"contourcarpet\"}], \"heatmap\": [{\"colorbar\": {\"outlinewidth\": 0, \"ticks\": \"\"}, \"colorscale\": [[0.0, \"#0d0887\"], [0.1111111111111111, \"#46039f\"], [0.2222222222222222, \"#7201a8\"], [0.3333333333333333, \"#9c179e\"], [0.4444444444444444, \"#bd3786\"], [0.5555555555555556, \"#d8576b\"], [0.6666666666666666, \"#ed7953\"], [0.7777777777777778, \"#fb9f3a\"], [0.8888888888888888, \"#fdca26\"], [1.0, \"#f0f921\"]], \"type\": \"heatmap\"}], \"heatmapgl\": [{\"colorbar\": {\"outlinewidth\": 0, \"ticks\": \"\"}, \"colorscale\": [[0.0, \"#0d0887\"], [0.1111111111111111, \"#46039f\"], [0.2222222222222222, \"#7201a8\"], [0.3333333333333333, \"#9c179e\"], [0.4444444444444444, \"#bd3786\"], [0.5555555555555556, \"#d8576b\"], [0.6666666666666666, \"#ed7953\"], [0.7777777777777778, \"#fb9f3a\"], [0.8888888888888888, \"#fdca26\"], [1.0, \"#f0f921\"]], \"type\": \"heatmapgl\"}], \"histogram\": [{\"marker\": {\"colorbar\": {\"outlinewidth\": 0, \"ticks\": \"\"}}, \"type\": \"histogram\"}], \"histogram2d\": [{\"colorbar\": {\"outlinewidth\": 0, \"ticks\": \"\"}, \"colorscale\": [[0.0, \"#0d0887\"], [0.1111111111111111, \"#46039f\"], [0.2222222222222222, \"#7201a8\"], [0.3333333333333333, \"#9c179e\"], [0.4444444444444444, \"#bd3786\"], [0.5555555555555556, \"#d8576b\"], [0.6666666666666666, \"#ed7953\"], [0.7777777777777778, \"#fb9f3a\"], [0.8888888888888888, \"#fdca26\"], [1.0, \"#f0f921\"]], \"type\": \"histogram2d\"}], \"histogram2dcontour\": [{\"colorbar\": {\"outlinewidth\": 0, \"ticks\": \"\"}, \"colorscale\": [[0.0, \"#0d0887\"], [0.1111111111111111, \"#46039f\"], [0.2222222222222222, \"#7201a8\"], [0.3333333333333333, \"#9c179e\"], [0.4444444444444444, \"#bd3786\"], [0.5555555555555556, \"#d8576b\"], [0.6666666666666666, \"#ed7953\"], [0.7777777777777778, \"#fb9f3a\"], [0.8888888888888888, \"#fdca26\"], [1.0, \"#f0f921\"]], \"type\": \"histogram2dcontour\"}], \"mesh3d\": [{\"colorbar\": {\"outlinewidth\": 0, \"ticks\": \"\"}, \"type\": \"mesh3d\"}], \"parcoords\": [{\"line\": {\"colorbar\": {\"outlinewidth\": 0, \"ticks\": \"\"}}, \"type\": \"parcoords\"}], \"pie\": [{\"automargin\": true, \"type\": \"pie\"}], \"scatter\": [{\"marker\": {\"colorbar\": {\"outlinewidth\": 0, \"ticks\": \"\"}}, \"type\": \"scatter\"}], \"scatter3d\": [{\"line\": {\"colorbar\": {\"outlinewidth\": 0, \"ticks\": \"\"}}, \"marker\": {\"colorbar\": {\"outlinewidth\": 0, \"ticks\": \"\"}}, \"type\": \"scatter3d\"}], \"scattercarpet\": [{\"marker\": {\"colorbar\": {\"outlinewidth\": 0, \"ticks\": \"\"}}, \"type\": \"scattercarpet\"}], \"scattergeo\": [{\"marker\": {\"colorbar\": {\"outlinewidth\": 0, \"ticks\": \"\"}}, \"type\": \"scattergeo\"}], \"scattergl\": [{\"marker\": {\"colorbar\": {\"outlinewidth\": 0, \"ticks\": \"\"}}, \"type\": \"scattergl\"}], \"scattermapbox\": [{\"marker\": {\"colorbar\": {\"outlinewidth\": 0, \"ticks\": \"\"}}, \"type\": \"scattermapbox\"}], \"scatterpolar\": [{\"marker\": {\"colorbar\": {\"outlinewidth\": 0, \"ticks\": \"\"}}, \"type\": \"scatterpolar\"}], \"scatterpolargl\": [{\"marker\": {\"colorbar\": {\"outlinewidth\": 0, \"ticks\": \"\"}}, \"type\": \"scatterpolargl\"}], \"scatterternary\": [{\"marker\": {\"colorbar\": {\"outlinewidth\": 0, \"ticks\": \"\"}}, \"type\": \"scatterternary\"}], \"surface\": [{\"colorbar\": {\"outlinewidth\": 0, \"ticks\": \"\"}, \"colorscale\": [[0.0, \"#0d0887\"], [0.1111111111111111, \"#46039f\"], [0.2222222222222222, \"#7201a8\"], [0.3333333333333333, \"#9c179e\"], [0.4444444444444444, \"#bd3786\"], [0.5555555555555556, \"#d8576b\"], [0.6666666666666666, \"#ed7953\"], [0.7777777777777778, \"#fb9f3a\"], [0.8888888888888888, \"#fdca26\"], [1.0, \"#f0f921\"]], \"type\": \"surface\"}], \"table\": [{\"cells\": {\"fill\": {\"color\": \"#EBF0F8\"}, \"line\": {\"color\": \"white\"}}, \"header\": {\"fill\": {\"color\": \"#C8D4E3\"}, \"line\": {\"color\": \"white\"}}, \"type\": \"table\"}]}, \"layout\": {\"annotationdefaults\": {\"arrowcolor\": \"#2a3f5f\", \"arrowhead\": 0, \"arrowwidth\": 1}, \"coloraxis\": {\"colorbar\": {\"outlinewidth\": 0, \"ticks\": \"\"}}, \"colorscale\": {\"diverging\": [[0, \"#8e0152\"], [0.1, \"#c51b7d\"], [0.2, \"#de77ae\"], [0.3, \"#f1b6da\"], [0.4, \"#fde0ef\"], [0.5, \"#f7f7f7\"], [0.6, \"#e6f5d0\"], [0.7, \"#b8e186\"], [0.8, \"#7fbc41\"], [0.9, \"#4d9221\"], [1, \"#276419\"]], \"sequential\": [[0.0, \"#0d0887\"], [0.1111111111111111, \"#46039f\"], [0.2222222222222222, \"#7201a8\"], [0.3333333333333333, \"#9c179e\"], [0.4444444444444444, \"#bd3786\"], [0.5555555555555556, \"#d8576b\"], [0.6666666666666666, \"#ed7953\"], [0.7777777777777778, \"#fb9f3a\"], [0.8888888888888888, \"#fdca26\"], [1.0, \"#f0f921\"]], \"sequentialminus\": [[0.0, \"#0d0887\"], [0.1111111111111111, \"#46039f\"], [0.2222222222222222, \"#7201a8\"], [0.3333333333333333, \"#9c179e\"], [0.4444444444444444, \"#bd3786\"], [0.5555555555555556, \"#d8576b\"], [0.6666666666666666, \"#ed7953\"], [0.7777777777777778, \"#fb9f3a\"], [0.8888888888888888, \"#fdca26\"], [1.0, \"#f0f921\"]]}, \"colorway\": [\"#636efa\", \"#EF553B\", \"#00cc96\", \"#ab63fa\", \"#FFA15A\", \"#19d3f3\", \"#FF6692\", \"#B6E880\", \"#FF97FF\", \"#FECB52\"], \"font\": {\"color\": \"#2a3f5f\"}, \"geo\": {\"bgcolor\": \"white\", \"lakecolor\": \"white\", \"landcolor\": \"#E5ECF6\", \"showlakes\": true, \"showland\": true, \"subunitcolor\": \"white\"}, \"hoverlabel\": {\"align\": \"left\"}, \"hovermode\": \"closest\", \"mapbox\": {\"style\": \"light\"}, \"paper_bgcolor\": \"white\", \"plot_bgcolor\": \"#E5ECF6\", \"polar\": {\"angularaxis\": {\"gridcolor\": \"white\", \"linecolor\": \"white\", \"ticks\": \"\"}, \"bgcolor\": \"#E5ECF6\", \"radialaxis\": {\"gridcolor\": \"white\", \"linecolor\": \"white\", \"ticks\": \"\"}}, \"scene\": {\"xaxis\": {\"backgroundcolor\": \"#E5ECF6\", \"gridcolor\": \"white\", \"gridwidth\": 2, \"linecolor\": \"white\", \"showbackground\": true, \"ticks\": \"\", \"zerolinecolor\": \"white\"}, \"yaxis\": {\"backgroundcolor\": \"#E5ECF6\", \"gridcolor\": \"white\", \"gridwidth\": 2, \"linecolor\": \"white\", \"showbackground\": true, \"ticks\": \"\", \"zerolinecolor\": \"white\"}, \"zaxis\": {\"backgroundcolor\": \"#E5ECF6\", \"gridcolor\": \"white\", \"gridwidth\": 2, \"linecolor\": \"white\", \"showbackground\": true, \"ticks\": \"\", \"zerolinecolor\": \"white\"}}, \"shapedefaults\": {\"line\": {\"color\": \"#2a3f5f\"}}, \"ternary\": {\"aaxis\": {\"gridcolor\": \"white\", \"linecolor\": \"white\", \"ticks\": \"\"}, \"baxis\": {\"gridcolor\": \"white\", \"linecolor\": \"white\", \"ticks\": \"\"}, \"bgcolor\": \"#E5ECF6\", \"caxis\": {\"gridcolor\": \"white\", \"linecolor\": \"white\", \"ticks\": \"\"}}, \"title\": {\"x\": 0.05}, \"xaxis\": {\"automargin\": true, \"gridcolor\": \"white\", \"linecolor\": \"white\", \"ticks\": \"\", \"title\": {\"standoff\": 15}, \"zerolinecolor\": \"white\", \"zerolinewidth\": 2}, \"yaxis\": {\"automargin\": true, \"gridcolor\": \"white\", \"linecolor\": \"white\", \"ticks\": \"\", \"title\": {\"standoff\": 15}, \"zerolinecolor\": \"white\", \"zerolinewidth\": 2}}}, \"title\": {\"text\": \"Confusion Matrix (KNN)\", \"x\": 0.5}, \"width\": 400, \"xaxis\": {\"constrain\": \"domain\", \"dtick\": 1, \"scaleanchor\": \"y\", \"tick0\": 0, \"tickmode\": \"linear\", \"title\": {\"text\": \"Prediction\"}}, \"yaxis\": {\"autorange\": \"reversed\", \"constrain\": \"domain\", \"dtick\": 1, \"tick0\": 0, \"tickmode\": \"linear\", \"title\": {\"text\": \"Truth\"}}},\n",
              "                        {\"responsive\": true}\n",
              "                    ).then(function(){\n",
              "                            \n",
              "var gd = document.getElementById('bb3b1fba-6e0b-47e9-a476-8340b864c357');\n",
              "var x = new MutationObserver(function (mutations, observer) {{\n",
              "        var display = window.getComputedStyle(gd).display;\n",
              "        if (!display || display === 'none') {{\n",
              "            console.log([gd, 'removed!']);\n",
              "            Plotly.purge(gd);\n",
              "            observer.disconnect();\n",
              "        }}\n",
              "}});\n",
              "\n",
              "// Listen for the removal of the full notebook cells\n",
              "var notebookContainer = gd.closest('#notebook-container');\n",
              "if (notebookContainer) {{\n",
              "    x.observe(notebookContainer, {childList: true});\n",
              "}}\n",
              "\n",
              "// Listen for the clearing of the current output cell\n",
              "var outputEl = gd.closest('.output');\n",
              "if (outputEl) {{\n",
              "    x.observe(outputEl, {childList: true});\n",
              "}}\n",
              "\n",
              "                        })\n",
              "                };\n",
              "                \n",
              "            </script>\n",
              "        </div>\n",
              "</body>\n",
              "</html>"
            ]
          },
          "metadata": {}
        }
      ]
    },
    {
      "cell_type": "markdown",
      "source": [
        "### Churn Prediction using Decision Tree"
      ],
      "metadata": {
        "id": "pofmbkBgoNu9"
      }
    },
    {
      "cell_type": "code",
      "source": [
        "para_dt = {'max_depth':[7,10,15]}\n",
        "\n",
        "model_dt = GridSearchCV(estimator = DecisionTreeClassifier(),\n",
        "                    param_grid = para_dt,\n",
        "                    cv=10,\n",
        "                    verbose=0,\n",
        "                    n_jobs=-1\n",
        "                   )\n",
        "\n",
        "model_dt.fit(train_X_re,train_y_re)"
      ],
      "metadata": {
        "colab": {
          "base_uri": "https://localhost:8080/"
        },
        "id": "7OkD23bhoKRh",
        "outputId": "90843871-a270-487e-e3e2-eac59fd6f57e"
      },
      "execution_count": 50,
      "outputs": [
        {
          "output_type": "execute_result",
          "data": {
            "text/plain": [
              "GridSearchCV(cv=10, estimator=DecisionTreeClassifier(), n_jobs=-1,\n",
              "             param_grid={'max_depth': [7, 10, 15]})"
            ]
          },
          "metadata": {},
          "execution_count": 50
        }
      ]
    },
    {
      "cell_type": "code",
      "source": [
        "model_dt.best_params_"
      ],
      "metadata": {
        "colab": {
          "base_uri": "https://localhost:8080/"
        },
        "id": "Xk2cPCPBoKU1",
        "outputId": "4467cb41-f08a-4aed-acda-bfff43b713c6"
      },
      "execution_count": 51,
      "outputs": [
        {
          "output_type": "execute_result",
          "data": {
            "text/plain": [
              "{'max_depth': 10}"
            ]
          },
          "metadata": {},
          "execution_count": 51
        }
      ]
    },
    {
      "cell_type": "code",
      "source": [
        "cm_dt,cr_dt,auc_score_dt,_  = test_eval(model_dt,test_X,test_y)\n",
        "fpr_dt, tpr_dt, thresh_dt = roc_curve(test_y, model_dt.predict_proba(test_X)[:,1], pos_label = 1)\n",
        "precision_dt, recall_dt, _ = precision_recall_curve(test_y, model_dt.predict_proba(test_X)[:,1],pos_label=1)"
      ],
      "metadata": {
        "colab": {
          "base_uri": "https://localhost:8080/"
        },
        "id": "gzhfx460oXCu",
        "outputId": "a3191057-7a16-4777-e14e-47eaed2e5ec4"
      },
      "execution_count": 52,
      "outputs": [
        {
          "output_type": "stream",
          "name": "stdout",
          "text": [
            "Confusion Matrix\n",
            "====================\n",
            "[[741 292]\n",
            " [100 274]] \n",
            "\n",
            "Classification Report\n",
            "====================\n",
            "              precision    recall  f1-score   support\n",
            "\n",
            "           0       0.88      0.72      0.79      1033\n",
            "           1       0.48      0.73      0.58       374\n",
            "\n",
            "    accuracy                           0.72      1407\n",
            "   macro avg       0.68      0.72      0.69      1407\n",
            "weighted avg       0.78      0.72      0.74      1407\n",
            "\n"
          ]
        }
      ]
    },
    {
      "cell_type": "code",
      "source": [
        "plot_cmatrix(cm_dt, name='DT')"
      ],
      "metadata": {
        "colab": {
          "base_uri": "https://localhost:8080/",
          "height": 417
        },
        "id": "fsYLhABRoXGF",
        "outputId": "ec5f74d3-6f96-4342-ba27-54ed7b4de7e2"
      },
      "execution_count": 53,
      "outputs": [
        {
          "output_type": "display_data",
          "data": {
            "text/html": [
              "<html>\n",
              "<head><meta charset=\"utf-8\" /></head>\n",
              "<body>\n",
              "    <div>\n",
              "            <script src=\"https://cdnjs.cloudflare.com/ajax/libs/mathjax/2.7.5/MathJax.js?config=TeX-AMS-MML_SVG\"></script><script type=\"text/javascript\">if (window.MathJax) {MathJax.Hub.Config({SVG: {font: \"STIX-Web\"}});}</script>\n",
              "                <script type=\"text/javascript\">window.PlotlyConfig = {MathJaxConfig: 'local'};</script>\n",
              "        <script src=\"https://cdn.plot.ly/plotly-latest.min.js\"></script>    \n",
              "            <div id=\"468701b2-85cd-4230-aa75-ba854e3db6d4\" class=\"plotly-graph-div\" style=\"height:400px; width:400px;\"></div>\n",
              "            <script type=\"text/javascript\">\n",
              "                \n",
              "                    window.PLOTLYENV=window.PLOTLYENV || {};\n",
              "                    \n",
              "                if (document.getElementById(\"468701b2-85cd-4230-aa75-ba854e3db6d4\")) {\n",
              "                    Plotly.newPlot(\n",
              "                        '468701b2-85cd-4230-aa75-ba854e3db6d4',\n",
              "                        [{\"coloraxis\": \"coloraxis\", \"type\": \"heatmap\", \"z\": [[741, 292], [100, 274]]}],\n",
              "                        {\"annotations\": [{\"font\": {\"color\": \"black\", \"size\": 12}, \"showarrow\": false, \"text\": \"741\", \"x\": 0, \"y\": 0}, {\"font\": {\"color\": \"black\", \"size\": 12}, \"showarrow\": false, \"text\": \"292\", \"x\": 1, \"y\": 0}, {\"font\": {\"color\": \"black\", \"size\": 12}, \"showarrow\": false, \"text\": \"100\", \"x\": 0, \"y\": 1}, {\"font\": {\"color\": \"black\", \"size\": 12}, \"showarrow\": false, \"text\": \"274\", \"x\": 1, \"y\": 1}], \"coloraxis\": {\"colorscale\": [[0.0, \"peachpuff\"], [0.5, \"lime\"], [1.0, \"green\"]]}, \"height\": 400, \"margin\": {\"t\": 60}, \"template\": {\"data\": {\"bar\": [{\"error_x\": {\"color\": \"#2a3f5f\"}, \"error_y\": {\"color\": \"#2a3f5f\"}, \"marker\": {\"line\": {\"color\": \"#E5ECF6\", \"width\": 0.5}}, \"type\": \"bar\"}], \"barpolar\": [{\"marker\": {\"line\": {\"color\": \"#E5ECF6\", \"width\": 0.5}}, \"type\": \"barpolar\"}], \"carpet\": [{\"aaxis\": {\"endlinecolor\": \"#2a3f5f\", \"gridcolor\": \"white\", \"linecolor\": \"white\", \"minorgridcolor\": \"white\", \"startlinecolor\": \"#2a3f5f\"}, \"baxis\": {\"endlinecolor\": \"#2a3f5f\", \"gridcolor\": \"white\", \"linecolor\": \"white\", \"minorgridcolor\": \"white\", \"startlinecolor\": \"#2a3f5f\"}, \"type\": \"carpet\"}], \"choropleth\": [{\"colorbar\": {\"outlinewidth\": 0, \"ticks\": \"\"}, \"type\": \"choropleth\"}], \"contour\": [{\"colorbar\": {\"outlinewidth\": 0, \"ticks\": \"\"}, \"colorscale\": [[0.0, \"#0d0887\"], [0.1111111111111111, \"#46039f\"], [0.2222222222222222, \"#7201a8\"], [0.3333333333333333, \"#9c179e\"], [0.4444444444444444, \"#bd3786\"], [0.5555555555555556, \"#d8576b\"], [0.6666666666666666, \"#ed7953\"], [0.7777777777777778, \"#fb9f3a\"], [0.8888888888888888, \"#fdca26\"], [1.0, \"#f0f921\"]], \"type\": \"contour\"}], \"contourcarpet\": [{\"colorbar\": {\"outlinewidth\": 0, \"ticks\": \"\"}, \"type\": \"contourcarpet\"}], \"heatmap\": [{\"colorbar\": {\"outlinewidth\": 0, \"ticks\": \"\"}, \"colorscale\": [[0.0, \"#0d0887\"], [0.1111111111111111, \"#46039f\"], [0.2222222222222222, \"#7201a8\"], [0.3333333333333333, \"#9c179e\"], [0.4444444444444444, \"#bd3786\"], [0.5555555555555556, \"#d8576b\"], [0.6666666666666666, \"#ed7953\"], [0.7777777777777778, \"#fb9f3a\"], [0.8888888888888888, \"#fdca26\"], [1.0, \"#f0f921\"]], \"type\": \"heatmap\"}], \"heatmapgl\": [{\"colorbar\": {\"outlinewidth\": 0, \"ticks\": \"\"}, \"colorscale\": [[0.0, \"#0d0887\"], [0.1111111111111111, \"#46039f\"], [0.2222222222222222, \"#7201a8\"], [0.3333333333333333, \"#9c179e\"], [0.4444444444444444, \"#bd3786\"], [0.5555555555555556, \"#d8576b\"], [0.6666666666666666, \"#ed7953\"], [0.7777777777777778, \"#fb9f3a\"], [0.8888888888888888, \"#fdca26\"], [1.0, \"#f0f921\"]], \"type\": \"heatmapgl\"}], \"histogram\": [{\"marker\": {\"colorbar\": {\"outlinewidth\": 0, \"ticks\": \"\"}}, \"type\": \"histogram\"}], \"histogram2d\": [{\"colorbar\": {\"outlinewidth\": 0, \"ticks\": \"\"}, \"colorscale\": [[0.0, \"#0d0887\"], [0.1111111111111111, \"#46039f\"], [0.2222222222222222, \"#7201a8\"], [0.3333333333333333, \"#9c179e\"], [0.4444444444444444, \"#bd3786\"], [0.5555555555555556, \"#d8576b\"], [0.6666666666666666, \"#ed7953\"], [0.7777777777777778, \"#fb9f3a\"], [0.8888888888888888, \"#fdca26\"], [1.0, \"#f0f921\"]], \"type\": \"histogram2d\"}], \"histogram2dcontour\": [{\"colorbar\": {\"outlinewidth\": 0, \"ticks\": \"\"}, \"colorscale\": [[0.0, \"#0d0887\"], [0.1111111111111111, \"#46039f\"], [0.2222222222222222, \"#7201a8\"], [0.3333333333333333, \"#9c179e\"], [0.4444444444444444, \"#bd3786\"], [0.5555555555555556, \"#d8576b\"], [0.6666666666666666, \"#ed7953\"], [0.7777777777777778, \"#fb9f3a\"], [0.8888888888888888, \"#fdca26\"], [1.0, \"#f0f921\"]], \"type\": \"histogram2dcontour\"}], \"mesh3d\": [{\"colorbar\": {\"outlinewidth\": 0, \"ticks\": \"\"}, \"type\": \"mesh3d\"}], \"parcoords\": [{\"line\": {\"colorbar\": {\"outlinewidth\": 0, \"ticks\": \"\"}}, \"type\": \"parcoords\"}], \"pie\": [{\"automargin\": true, \"type\": \"pie\"}], \"scatter\": [{\"marker\": {\"colorbar\": {\"outlinewidth\": 0, \"ticks\": \"\"}}, \"type\": \"scatter\"}], \"scatter3d\": [{\"line\": {\"colorbar\": {\"outlinewidth\": 0, \"ticks\": \"\"}}, \"marker\": {\"colorbar\": {\"outlinewidth\": 0, \"ticks\": \"\"}}, \"type\": \"scatter3d\"}], \"scattercarpet\": [{\"marker\": {\"colorbar\": {\"outlinewidth\": 0, \"ticks\": \"\"}}, \"type\": \"scattercarpet\"}], \"scattergeo\": [{\"marker\": {\"colorbar\": {\"outlinewidth\": 0, \"ticks\": \"\"}}, \"type\": \"scattergeo\"}], \"scattergl\": [{\"marker\": {\"colorbar\": {\"outlinewidth\": 0, \"ticks\": \"\"}}, \"type\": \"scattergl\"}], \"scattermapbox\": [{\"marker\": {\"colorbar\": {\"outlinewidth\": 0, \"ticks\": \"\"}}, \"type\": \"scattermapbox\"}], \"scatterpolar\": [{\"marker\": {\"colorbar\": {\"outlinewidth\": 0, \"ticks\": \"\"}}, \"type\": \"scatterpolar\"}], \"scatterpolargl\": [{\"marker\": {\"colorbar\": {\"outlinewidth\": 0, \"ticks\": \"\"}}, \"type\": \"scatterpolargl\"}], \"scatterternary\": [{\"marker\": {\"colorbar\": {\"outlinewidth\": 0, \"ticks\": \"\"}}, \"type\": \"scatterternary\"}], \"surface\": [{\"colorbar\": {\"outlinewidth\": 0, \"ticks\": \"\"}, \"colorscale\": [[0.0, \"#0d0887\"], [0.1111111111111111, \"#46039f\"], [0.2222222222222222, \"#7201a8\"], [0.3333333333333333, \"#9c179e\"], [0.4444444444444444, \"#bd3786\"], [0.5555555555555556, \"#d8576b\"], [0.6666666666666666, \"#ed7953\"], [0.7777777777777778, \"#fb9f3a\"], [0.8888888888888888, \"#fdca26\"], [1.0, \"#f0f921\"]], \"type\": \"surface\"}], \"table\": [{\"cells\": {\"fill\": {\"color\": \"#EBF0F8\"}, \"line\": {\"color\": \"white\"}}, \"header\": {\"fill\": {\"color\": \"#C8D4E3\"}, \"line\": {\"color\": \"white\"}}, \"type\": \"table\"}]}, \"layout\": {\"annotationdefaults\": {\"arrowcolor\": \"#2a3f5f\", \"arrowhead\": 0, \"arrowwidth\": 1}, \"coloraxis\": {\"colorbar\": {\"outlinewidth\": 0, \"ticks\": \"\"}}, \"colorscale\": {\"diverging\": [[0, \"#8e0152\"], [0.1, \"#c51b7d\"], [0.2, \"#de77ae\"], [0.3, \"#f1b6da\"], [0.4, \"#fde0ef\"], [0.5, \"#f7f7f7\"], [0.6, \"#e6f5d0\"], [0.7, \"#b8e186\"], [0.8, \"#7fbc41\"], [0.9, \"#4d9221\"], [1, \"#276419\"]], \"sequential\": [[0.0, \"#0d0887\"], [0.1111111111111111, \"#46039f\"], [0.2222222222222222, \"#7201a8\"], [0.3333333333333333, \"#9c179e\"], [0.4444444444444444, \"#bd3786\"], [0.5555555555555556, \"#d8576b\"], [0.6666666666666666, \"#ed7953\"], [0.7777777777777778, \"#fb9f3a\"], [0.8888888888888888, \"#fdca26\"], [1.0, \"#f0f921\"]], \"sequentialminus\": [[0.0, \"#0d0887\"], [0.1111111111111111, \"#46039f\"], [0.2222222222222222, \"#7201a8\"], [0.3333333333333333, \"#9c179e\"], [0.4444444444444444, \"#bd3786\"], [0.5555555555555556, \"#d8576b\"], [0.6666666666666666, \"#ed7953\"], [0.7777777777777778, \"#fb9f3a\"], [0.8888888888888888, \"#fdca26\"], [1.0, \"#f0f921\"]]}, \"colorway\": [\"#636efa\", \"#EF553B\", \"#00cc96\", \"#ab63fa\", \"#FFA15A\", \"#19d3f3\", \"#FF6692\", \"#B6E880\", \"#FF97FF\", \"#FECB52\"], \"font\": {\"color\": \"#2a3f5f\"}, \"geo\": {\"bgcolor\": \"white\", \"lakecolor\": \"white\", \"landcolor\": \"#E5ECF6\", \"showlakes\": true, \"showland\": true, \"subunitcolor\": \"white\"}, \"hoverlabel\": {\"align\": \"left\"}, \"hovermode\": \"closest\", \"mapbox\": {\"style\": \"light\"}, \"paper_bgcolor\": \"white\", \"plot_bgcolor\": \"#E5ECF6\", \"polar\": {\"angularaxis\": {\"gridcolor\": \"white\", \"linecolor\": \"white\", \"ticks\": \"\"}, \"bgcolor\": \"#E5ECF6\", \"radialaxis\": {\"gridcolor\": \"white\", \"linecolor\": \"white\", \"ticks\": \"\"}}, \"scene\": {\"xaxis\": {\"backgroundcolor\": \"#E5ECF6\", \"gridcolor\": \"white\", \"gridwidth\": 2, \"linecolor\": \"white\", \"showbackground\": true, \"ticks\": \"\", \"zerolinecolor\": \"white\"}, \"yaxis\": {\"backgroundcolor\": \"#E5ECF6\", \"gridcolor\": \"white\", \"gridwidth\": 2, \"linecolor\": \"white\", \"showbackground\": true, \"ticks\": \"\", \"zerolinecolor\": \"white\"}, \"zaxis\": {\"backgroundcolor\": \"#E5ECF6\", \"gridcolor\": \"white\", \"gridwidth\": 2, \"linecolor\": \"white\", \"showbackground\": true, \"ticks\": \"\", \"zerolinecolor\": \"white\"}}, \"shapedefaults\": {\"line\": {\"color\": \"#2a3f5f\"}}, \"ternary\": {\"aaxis\": {\"gridcolor\": \"white\", \"linecolor\": \"white\", \"ticks\": \"\"}, \"baxis\": {\"gridcolor\": \"white\", \"linecolor\": \"white\", \"ticks\": \"\"}, \"bgcolor\": \"#E5ECF6\", \"caxis\": {\"gridcolor\": \"white\", \"linecolor\": \"white\", \"ticks\": \"\"}}, \"title\": {\"x\": 0.05}, \"xaxis\": {\"automargin\": true, \"gridcolor\": \"white\", \"linecolor\": \"white\", \"ticks\": \"\", \"title\": {\"standoff\": 15}, \"zerolinecolor\": \"white\", \"zerolinewidth\": 2}, \"yaxis\": {\"automargin\": true, \"gridcolor\": \"white\", \"linecolor\": \"white\", \"ticks\": \"\", \"title\": {\"standoff\": 15}, \"zerolinecolor\": \"white\", \"zerolinewidth\": 2}}}, \"title\": {\"text\": \"Confusion Matrix (DT)\", \"x\": 0.5}, \"width\": 400, \"xaxis\": {\"constrain\": \"domain\", \"dtick\": 1, \"scaleanchor\": \"y\", \"tick0\": 0, \"tickmode\": \"linear\", \"title\": {\"text\": \"Prediction\"}}, \"yaxis\": {\"autorange\": \"reversed\", \"constrain\": \"domain\", \"dtick\": 1, \"tick0\": 0, \"tickmode\": \"linear\", \"title\": {\"text\": \"Truth\"}}},\n",
              "                        {\"responsive\": true}\n",
              "                    ).then(function(){\n",
              "                            \n",
              "var gd = document.getElementById('468701b2-85cd-4230-aa75-ba854e3db6d4');\n",
              "var x = new MutationObserver(function (mutations, observer) {{\n",
              "        var display = window.getComputedStyle(gd).display;\n",
              "        if (!display || display === 'none') {{\n",
              "            console.log([gd, 'removed!']);\n",
              "            Plotly.purge(gd);\n",
              "            observer.disconnect();\n",
              "        }}\n",
              "}});\n",
              "\n",
              "// Listen for the removal of the full notebook cells\n",
              "var notebookContainer = gd.closest('#notebook-container');\n",
              "if (notebookContainer) {{\n",
              "    x.observe(notebookContainer, {childList: true});\n",
              "}}\n",
              "\n",
              "// Listen for the clearing of the current output cell\n",
              "var outputEl = gd.closest('.output');\n",
              "if (outputEl) {{\n",
              "    x.observe(outputEl, {childList: true});\n",
              "}}\n",
              "\n",
              "                        })\n",
              "                };\n",
              "                \n",
              "            </script>\n",
              "        </div>\n",
              "</body>\n",
              "</html>"
            ]
          },
          "metadata": {}
        }
      ]
    },
    {
      "cell_type": "markdown",
      "source": [
        "## Ensemble Algorithms\n",
        "\n",
        "### Churn Prediction using Random Forest "
      ],
      "metadata": {
        "id": "iI_dFjVxoeY3"
      }
    },
    {
      "cell_type": "code",
      "source": [
        "para_rf = { \"max_depth\": [5,10,20],\n",
        "           \"n_estimators\":[50, 150],\n",
        "           \"min_samples_split\": [2, 5, 10],\n",
        "           \"min_samples_leaf\" : [1, 2, 10] \n",
        "          }\n",
        "model_rf = GridSearchCV(estimator = RandomForestClassifier(),\n",
        "                    param_grid = para_rf,\n",
        "                    cv=10,\n",
        "                    verbose=0,\n",
        "                    n_jobs=-1\n",
        "                   )\n",
        "\n",
        "model_rf.fit(train_X_re,train_y_re)"
      ],
      "metadata": {
        "colab": {
          "base_uri": "https://localhost:8080/"
        },
        "id": "zAJEX8ZXobJF",
        "outputId": "63ce45e3-05fc-4e56-c2a5-f35c8ab12473"
      },
      "execution_count": 54,
      "outputs": [
        {
          "output_type": "execute_result",
          "data": {
            "text/plain": [
              "GridSearchCV(cv=10, estimator=RandomForestClassifier(), n_jobs=-1,\n",
              "             param_grid={'max_depth': [5, 10, 20],\n",
              "                         'min_samples_leaf': [1, 2, 10],\n",
              "                         'min_samples_split': [2, 5, 10],\n",
              "                         'n_estimators': [50, 150]})"
            ]
          },
          "metadata": {},
          "execution_count": 54
        }
      ]
    },
    {
      "cell_type": "code",
      "source": [
        "model_rf.best_params_"
      ],
      "metadata": {
        "colab": {
          "base_uri": "https://localhost:8080/"
        },
        "id": "MbdduExGobML",
        "outputId": "e063d662-9bdc-49e3-e90c-8906d22fb10e"
      },
      "execution_count": 55,
      "outputs": [
        {
          "output_type": "execute_result",
          "data": {
            "text/plain": [
              "{'max_depth': 20,\n",
              " 'min_samples_leaf': 1,\n",
              " 'min_samples_split': 2,\n",
              " 'n_estimators': 150}"
            ]
          },
          "metadata": {},
          "execution_count": 55
        }
      ]
    },
    {
      "cell_type": "code",
      "source": [
        "cm_rf,cr_rf,auc_score_rf,_  = test_eval(model_rf,test_X,test_y)\n",
        "fpr_rf, tpr_rf, thresh_rf = roc_curve(test_y, model_rf.predict_proba(test_X)[:,1], pos_label = 1)\n",
        "precision_rf, recall_rf, _ = precision_recall_curve(test_y, model_rf.predict_proba(test_X)[:,1],pos_label=1)"
      ],
      "metadata": {
        "colab": {
          "base_uri": "https://localhost:8080/"
        },
        "id": "KgU17k57oqgx",
        "outputId": "504f36c2-e799-4b38-8240-d0e668173b1f"
      },
      "execution_count": 56,
      "outputs": [
        {
          "output_type": "stream",
          "name": "stdout",
          "text": [
            "Confusion Matrix\n",
            "====================\n",
            "[[835 198]\n",
            " [124 250]] \n",
            "\n",
            "Classification Report\n",
            "====================\n",
            "              precision    recall  f1-score   support\n",
            "\n",
            "           0       0.87      0.81      0.84      1033\n",
            "           1       0.56      0.67      0.61       374\n",
            "\n",
            "    accuracy                           0.77      1407\n",
            "   macro avg       0.71      0.74      0.72      1407\n",
            "weighted avg       0.79      0.77      0.78      1407\n",
            "\n"
          ]
        }
      ]
    },
    {
      "cell_type": "code",
      "source": [
        "plot_cmatrix(cm_rf, name='RF')"
      ],
      "metadata": {
        "colab": {
          "base_uri": "https://localhost:8080/",
          "height": 417
        },
        "id": "HkpBCXquoy_g",
        "outputId": "12bf543f-8f20-4edf-bfef-d253f1c09f1d"
      },
      "execution_count": 57,
      "outputs": [
        {
          "output_type": "display_data",
          "data": {
            "text/html": [
              "<html>\n",
              "<head><meta charset=\"utf-8\" /></head>\n",
              "<body>\n",
              "    <div>\n",
              "            <script src=\"https://cdnjs.cloudflare.com/ajax/libs/mathjax/2.7.5/MathJax.js?config=TeX-AMS-MML_SVG\"></script><script type=\"text/javascript\">if (window.MathJax) {MathJax.Hub.Config({SVG: {font: \"STIX-Web\"}});}</script>\n",
              "                <script type=\"text/javascript\">window.PlotlyConfig = {MathJaxConfig: 'local'};</script>\n",
              "        <script src=\"https://cdn.plot.ly/plotly-latest.min.js\"></script>    \n",
              "            <div id=\"0f83b9d8-d2c9-4d31-9c29-810f0101d869\" class=\"plotly-graph-div\" style=\"height:400px; width:400px;\"></div>\n",
              "            <script type=\"text/javascript\">\n",
              "                \n",
              "                    window.PLOTLYENV=window.PLOTLYENV || {};\n",
              "                    \n",
              "                if (document.getElementById(\"0f83b9d8-d2c9-4d31-9c29-810f0101d869\")) {\n",
              "                    Plotly.newPlot(\n",
              "                        '0f83b9d8-d2c9-4d31-9c29-810f0101d869',\n",
              "                        [{\"coloraxis\": \"coloraxis\", \"type\": \"heatmap\", \"z\": [[835, 198], [124, 250]]}],\n",
              "                        {\"annotations\": [{\"font\": {\"color\": \"black\", \"size\": 12}, \"showarrow\": false, \"text\": \"835\", \"x\": 0, \"y\": 0}, {\"font\": {\"color\": \"black\", \"size\": 12}, \"showarrow\": false, \"text\": \"198\", \"x\": 1, \"y\": 0}, {\"font\": {\"color\": \"black\", \"size\": 12}, \"showarrow\": false, \"text\": \"124\", \"x\": 0, \"y\": 1}, {\"font\": {\"color\": \"black\", \"size\": 12}, \"showarrow\": false, \"text\": \"250\", \"x\": 1, \"y\": 1}], \"coloraxis\": {\"colorscale\": [[0.0, \"peachpuff\"], [0.5, \"lime\"], [1.0, \"green\"]]}, \"height\": 400, \"margin\": {\"t\": 60}, \"template\": {\"data\": {\"bar\": [{\"error_x\": {\"color\": \"#2a3f5f\"}, \"error_y\": {\"color\": \"#2a3f5f\"}, \"marker\": {\"line\": {\"color\": \"#E5ECF6\", \"width\": 0.5}}, \"type\": \"bar\"}], \"barpolar\": [{\"marker\": {\"line\": {\"color\": \"#E5ECF6\", \"width\": 0.5}}, \"type\": \"barpolar\"}], \"carpet\": [{\"aaxis\": {\"endlinecolor\": \"#2a3f5f\", \"gridcolor\": \"white\", \"linecolor\": \"white\", \"minorgridcolor\": \"white\", \"startlinecolor\": \"#2a3f5f\"}, \"baxis\": {\"endlinecolor\": \"#2a3f5f\", \"gridcolor\": \"white\", \"linecolor\": \"white\", \"minorgridcolor\": \"white\", \"startlinecolor\": \"#2a3f5f\"}, \"type\": \"carpet\"}], \"choropleth\": [{\"colorbar\": {\"outlinewidth\": 0, \"ticks\": \"\"}, \"type\": \"choropleth\"}], \"contour\": [{\"colorbar\": {\"outlinewidth\": 0, \"ticks\": \"\"}, \"colorscale\": [[0.0, \"#0d0887\"], [0.1111111111111111, \"#46039f\"], [0.2222222222222222, \"#7201a8\"], [0.3333333333333333, \"#9c179e\"], [0.4444444444444444, \"#bd3786\"], [0.5555555555555556, \"#d8576b\"], [0.6666666666666666, \"#ed7953\"], [0.7777777777777778, \"#fb9f3a\"], [0.8888888888888888, \"#fdca26\"], [1.0, \"#f0f921\"]], \"type\": \"contour\"}], \"contourcarpet\": [{\"colorbar\": {\"outlinewidth\": 0, \"ticks\": \"\"}, \"type\": \"contourcarpet\"}], \"heatmap\": [{\"colorbar\": {\"outlinewidth\": 0, \"ticks\": \"\"}, \"colorscale\": [[0.0, \"#0d0887\"], [0.1111111111111111, \"#46039f\"], [0.2222222222222222, \"#7201a8\"], [0.3333333333333333, \"#9c179e\"], [0.4444444444444444, \"#bd3786\"], [0.5555555555555556, \"#d8576b\"], [0.6666666666666666, \"#ed7953\"], [0.7777777777777778, \"#fb9f3a\"], [0.8888888888888888, \"#fdca26\"], [1.0, \"#f0f921\"]], \"type\": \"heatmap\"}], \"heatmapgl\": [{\"colorbar\": {\"outlinewidth\": 0, \"ticks\": \"\"}, \"colorscale\": [[0.0, \"#0d0887\"], [0.1111111111111111, \"#46039f\"], [0.2222222222222222, \"#7201a8\"], [0.3333333333333333, \"#9c179e\"], [0.4444444444444444, \"#bd3786\"], [0.5555555555555556, \"#d8576b\"], [0.6666666666666666, \"#ed7953\"], [0.7777777777777778, \"#fb9f3a\"], [0.8888888888888888, \"#fdca26\"], [1.0, \"#f0f921\"]], \"type\": \"heatmapgl\"}], \"histogram\": [{\"marker\": {\"colorbar\": {\"outlinewidth\": 0, \"ticks\": \"\"}}, \"type\": \"histogram\"}], \"histogram2d\": [{\"colorbar\": {\"outlinewidth\": 0, \"ticks\": \"\"}, \"colorscale\": [[0.0, \"#0d0887\"], [0.1111111111111111, \"#46039f\"], [0.2222222222222222, \"#7201a8\"], [0.3333333333333333, \"#9c179e\"], [0.4444444444444444, \"#bd3786\"], [0.5555555555555556, \"#d8576b\"], [0.6666666666666666, \"#ed7953\"], [0.7777777777777778, \"#fb9f3a\"], [0.8888888888888888, \"#fdca26\"], [1.0, \"#f0f921\"]], \"type\": \"histogram2d\"}], \"histogram2dcontour\": [{\"colorbar\": {\"outlinewidth\": 0, \"ticks\": \"\"}, \"colorscale\": [[0.0, \"#0d0887\"], [0.1111111111111111, \"#46039f\"], [0.2222222222222222, \"#7201a8\"], [0.3333333333333333, \"#9c179e\"], [0.4444444444444444, \"#bd3786\"], [0.5555555555555556, \"#d8576b\"], [0.6666666666666666, \"#ed7953\"], [0.7777777777777778, \"#fb9f3a\"], [0.8888888888888888, \"#fdca26\"], [1.0, \"#f0f921\"]], \"type\": \"histogram2dcontour\"}], \"mesh3d\": [{\"colorbar\": {\"outlinewidth\": 0, \"ticks\": \"\"}, \"type\": \"mesh3d\"}], \"parcoords\": [{\"line\": {\"colorbar\": {\"outlinewidth\": 0, \"ticks\": \"\"}}, \"type\": \"parcoords\"}], \"pie\": [{\"automargin\": true, \"type\": \"pie\"}], \"scatter\": [{\"marker\": {\"colorbar\": {\"outlinewidth\": 0, \"ticks\": \"\"}}, \"type\": \"scatter\"}], \"scatter3d\": [{\"line\": {\"colorbar\": {\"outlinewidth\": 0, \"ticks\": \"\"}}, \"marker\": {\"colorbar\": {\"outlinewidth\": 0, \"ticks\": \"\"}}, \"type\": \"scatter3d\"}], \"scattercarpet\": [{\"marker\": {\"colorbar\": {\"outlinewidth\": 0, \"ticks\": \"\"}}, \"type\": \"scattercarpet\"}], \"scattergeo\": [{\"marker\": {\"colorbar\": {\"outlinewidth\": 0, \"ticks\": \"\"}}, \"type\": \"scattergeo\"}], \"scattergl\": [{\"marker\": {\"colorbar\": {\"outlinewidth\": 0, \"ticks\": \"\"}}, \"type\": \"scattergl\"}], \"scattermapbox\": [{\"marker\": {\"colorbar\": {\"outlinewidth\": 0, \"ticks\": \"\"}}, \"type\": \"scattermapbox\"}], \"scatterpolar\": [{\"marker\": {\"colorbar\": {\"outlinewidth\": 0, \"ticks\": \"\"}}, \"type\": \"scatterpolar\"}], \"scatterpolargl\": [{\"marker\": {\"colorbar\": {\"outlinewidth\": 0, \"ticks\": \"\"}}, \"type\": \"scatterpolargl\"}], \"scatterternary\": [{\"marker\": {\"colorbar\": {\"outlinewidth\": 0, \"ticks\": \"\"}}, \"type\": \"scatterternary\"}], \"surface\": [{\"colorbar\": {\"outlinewidth\": 0, \"ticks\": \"\"}, \"colorscale\": [[0.0, \"#0d0887\"], [0.1111111111111111, \"#46039f\"], [0.2222222222222222, \"#7201a8\"], [0.3333333333333333, \"#9c179e\"], [0.4444444444444444, \"#bd3786\"], [0.5555555555555556, \"#d8576b\"], [0.6666666666666666, \"#ed7953\"], [0.7777777777777778, \"#fb9f3a\"], [0.8888888888888888, \"#fdca26\"], [1.0, \"#f0f921\"]], \"type\": \"surface\"}], \"table\": [{\"cells\": {\"fill\": {\"color\": \"#EBF0F8\"}, \"line\": {\"color\": \"white\"}}, \"header\": {\"fill\": {\"color\": \"#C8D4E3\"}, \"line\": {\"color\": \"white\"}}, \"type\": \"table\"}]}, \"layout\": {\"annotationdefaults\": {\"arrowcolor\": \"#2a3f5f\", \"arrowhead\": 0, \"arrowwidth\": 1}, \"coloraxis\": {\"colorbar\": {\"outlinewidth\": 0, \"ticks\": \"\"}}, \"colorscale\": {\"diverging\": [[0, \"#8e0152\"], [0.1, \"#c51b7d\"], [0.2, \"#de77ae\"], [0.3, \"#f1b6da\"], [0.4, \"#fde0ef\"], [0.5, \"#f7f7f7\"], [0.6, \"#e6f5d0\"], [0.7, \"#b8e186\"], [0.8, \"#7fbc41\"], [0.9, \"#4d9221\"], [1, \"#276419\"]], \"sequential\": [[0.0, \"#0d0887\"], [0.1111111111111111, \"#46039f\"], [0.2222222222222222, \"#7201a8\"], [0.3333333333333333, \"#9c179e\"], [0.4444444444444444, \"#bd3786\"], [0.5555555555555556, \"#d8576b\"], [0.6666666666666666, \"#ed7953\"], [0.7777777777777778, \"#fb9f3a\"], [0.8888888888888888, \"#fdca26\"], [1.0, \"#f0f921\"]], \"sequentialminus\": [[0.0, \"#0d0887\"], [0.1111111111111111, \"#46039f\"], [0.2222222222222222, \"#7201a8\"], [0.3333333333333333, \"#9c179e\"], [0.4444444444444444, \"#bd3786\"], [0.5555555555555556, \"#d8576b\"], [0.6666666666666666, \"#ed7953\"], [0.7777777777777778, \"#fb9f3a\"], [0.8888888888888888, \"#fdca26\"], [1.0, \"#f0f921\"]]}, \"colorway\": [\"#636efa\", \"#EF553B\", \"#00cc96\", \"#ab63fa\", \"#FFA15A\", \"#19d3f3\", \"#FF6692\", \"#B6E880\", \"#FF97FF\", \"#FECB52\"], \"font\": {\"color\": \"#2a3f5f\"}, \"geo\": {\"bgcolor\": \"white\", \"lakecolor\": \"white\", \"landcolor\": \"#E5ECF6\", \"showlakes\": true, \"showland\": true, \"subunitcolor\": \"white\"}, \"hoverlabel\": {\"align\": \"left\"}, \"hovermode\": \"closest\", \"mapbox\": {\"style\": \"light\"}, \"paper_bgcolor\": \"white\", \"plot_bgcolor\": \"#E5ECF6\", \"polar\": {\"angularaxis\": {\"gridcolor\": \"white\", \"linecolor\": \"white\", \"ticks\": \"\"}, \"bgcolor\": \"#E5ECF6\", \"radialaxis\": {\"gridcolor\": \"white\", \"linecolor\": \"white\", \"ticks\": \"\"}}, \"scene\": {\"xaxis\": {\"backgroundcolor\": \"#E5ECF6\", \"gridcolor\": \"white\", \"gridwidth\": 2, \"linecolor\": \"white\", \"showbackground\": true, \"ticks\": \"\", \"zerolinecolor\": \"white\"}, \"yaxis\": {\"backgroundcolor\": \"#E5ECF6\", \"gridcolor\": \"white\", \"gridwidth\": 2, \"linecolor\": \"white\", \"showbackground\": true, \"ticks\": \"\", \"zerolinecolor\": \"white\"}, \"zaxis\": {\"backgroundcolor\": \"#E5ECF6\", \"gridcolor\": \"white\", \"gridwidth\": 2, \"linecolor\": \"white\", \"showbackground\": true, \"ticks\": \"\", \"zerolinecolor\": \"white\"}}, \"shapedefaults\": {\"line\": {\"color\": \"#2a3f5f\"}}, \"ternary\": {\"aaxis\": {\"gridcolor\": \"white\", \"linecolor\": \"white\", \"ticks\": \"\"}, \"baxis\": {\"gridcolor\": \"white\", \"linecolor\": \"white\", \"ticks\": \"\"}, \"bgcolor\": \"#E5ECF6\", \"caxis\": {\"gridcolor\": \"white\", \"linecolor\": \"white\", \"ticks\": \"\"}}, \"title\": {\"x\": 0.05}, \"xaxis\": {\"automargin\": true, \"gridcolor\": \"white\", \"linecolor\": \"white\", \"ticks\": \"\", \"title\": {\"standoff\": 15}, \"zerolinecolor\": \"white\", \"zerolinewidth\": 2}, \"yaxis\": {\"automargin\": true, \"gridcolor\": \"white\", \"linecolor\": \"white\", \"ticks\": \"\", \"title\": {\"standoff\": 15}, \"zerolinecolor\": \"white\", \"zerolinewidth\": 2}}}, \"title\": {\"text\": \"Confusion Matrix (RF)\", \"x\": 0.5}, \"width\": 400, \"xaxis\": {\"constrain\": \"domain\", \"dtick\": 1, \"scaleanchor\": \"y\", \"tick0\": 0, \"tickmode\": \"linear\", \"title\": {\"text\": \"Prediction\"}}, \"yaxis\": {\"autorange\": \"reversed\", \"constrain\": \"domain\", \"dtick\": 1, \"tick0\": 0, \"tickmode\": \"linear\", \"title\": {\"text\": \"Truth\"}}},\n",
              "                        {\"responsive\": true}\n",
              "                    ).then(function(){\n",
              "                            \n",
              "var gd = document.getElementById('0f83b9d8-d2c9-4d31-9c29-810f0101d869');\n",
              "var x = new MutationObserver(function (mutations, observer) {{\n",
              "        var display = window.getComputedStyle(gd).display;\n",
              "        if (!display || display === 'none') {{\n",
              "            console.log([gd, 'removed!']);\n",
              "            Plotly.purge(gd);\n",
              "            observer.disconnect();\n",
              "        }}\n",
              "}});\n",
              "\n",
              "// Listen for the removal of the full notebook cells\n",
              "var notebookContainer = gd.closest('#notebook-container');\n",
              "if (notebookContainer) {{\n",
              "    x.observe(notebookContainer, {childList: true});\n",
              "}}\n",
              "\n",
              "// Listen for the clearing of the current output cell\n",
              "var outputEl = gd.closest('.output');\n",
              "if (outputEl) {{\n",
              "    x.observe(outputEl, {childList: true});\n",
              "}}\n",
              "\n",
              "                        })\n",
              "                };\n",
              "                \n",
              "            </script>\n",
              "        </div>\n",
              "</body>\n",
              "</html>"
            ]
          },
          "metadata": {}
        }
      ]
    },
    {
      "cell_type": "markdown",
      "source": [
        "### Churn Prediction using Boosting (Adaboost classifier)"
      ],
      "metadata": {
        "id": "MbNfK-Mio2Y8"
      }
    },
    {
      "cell_type": "code",
      "source": [
        "para_ada = {'n_estimators':[40,60,80],\n",
        "            'learning_rate':[0.85,1.0]\n",
        "           }\n",
        "\n",
        "model_ada = GridSearchCV(estimator = AdaBoostClassifier(),   #base_estimator=SVC(probability=True, kernel='linear')\n",
        "                    param_grid = para_ada,\n",
        "                    cv=10,\n",
        "                    verbose=0,\n",
        "                    n_jobs=-1\n",
        "                   )\n",
        "\n",
        "model_ada.fit(train_X_re,train_y_re)"
      ],
      "metadata": {
        "colab": {
          "base_uri": "https://localhost:8080/"
        },
        "id": "etQZm1tpozEP",
        "outputId": "4565c74c-3151-4c69-df65-c3494254507e"
      },
      "execution_count": 58,
      "outputs": [
        {
          "output_type": "execute_result",
          "data": {
            "text/plain": [
              "GridSearchCV(cv=10, estimator=AdaBoostClassifier(), n_jobs=-1,\n",
              "             param_grid={'learning_rate': [0.85, 1.0],\n",
              "                         'n_estimators': [40, 60, 80]})"
            ]
          },
          "metadata": {},
          "execution_count": 58
        }
      ]
    },
    {
      "cell_type": "code",
      "source": [
        "model_ada.best_params_"
      ],
      "metadata": {
        "colab": {
          "base_uri": "https://localhost:8080/"
        },
        "id": "eFpDxTVUo7GR",
        "outputId": "7151a43e-990b-4fab-ca22-2b48a2aa9c05"
      },
      "execution_count": 59,
      "outputs": [
        {
          "output_type": "execute_result",
          "data": {
            "text/plain": [
              "{'learning_rate': 0.85, 'n_estimators': 80}"
            ]
          },
          "metadata": {},
          "execution_count": 59
        }
      ]
    },
    {
      "cell_type": "code",
      "source": [
        "cm_ada,cr_ada,auc_score_ada,_  = test_eval(model_ada,test_X,test_y)\n",
        "fpr_ada, tpr_ada, thresh_ada = roc_curve(test_y, model_ada.predict_proba(test_X)[:,1], pos_label = 1)\n",
        "precision_ada, recall_ada, _ = precision_recall_curve(test_y, model_ada.predict_proba(test_X)[:,1],pos_label=1)"
      ],
      "metadata": {
        "colab": {
          "base_uri": "https://localhost:8080/"
        },
        "id": "5YA1IF7Jnzi1",
        "outputId": "ce25609e-1dc0-4ace-d72c-f78439ffae51"
      },
      "execution_count": 60,
      "outputs": [
        {
          "output_type": "stream",
          "name": "stdout",
          "text": [
            "Confusion Matrix\n",
            "====================\n",
            "[[759 274]\n",
            " [ 71 303]] \n",
            "\n",
            "Classification Report\n",
            "====================\n",
            "              precision    recall  f1-score   support\n",
            "\n",
            "           0       0.91      0.73      0.81      1033\n",
            "           1       0.53      0.81      0.64       374\n",
            "\n",
            "    accuracy                           0.75      1407\n",
            "   macro avg       0.72      0.77      0.73      1407\n",
            "weighted avg       0.81      0.75      0.77      1407\n",
            "\n"
          ]
        }
      ]
    },
    {
      "cell_type": "code",
      "source": [
        "plot_cmatrix(cm_dt, name='ADA')"
      ],
      "metadata": {
        "colab": {
          "base_uri": "https://localhost:8080/",
          "height": 417
        },
        "id": "X5RWt2RapADg",
        "outputId": "a42d2a49-ecf5-4676-e5af-b6af2b36e62e"
      },
      "execution_count": 61,
      "outputs": [
        {
          "output_type": "display_data",
          "data": {
            "text/html": [
              "<html>\n",
              "<head><meta charset=\"utf-8\" /></head>\n",
              "<body>\n",
              "    <div>\n",
              "            <script src=\"https://cdnjs.cloudflare.com/ajax/libs/mathjax/2.7.5/MathJax.js?config=TeX-AMS-MML_SVG\"></script><script type=\"text/javascript\">if (window.MathJax) {MathJax.Hub.Config({SVG: {font: \"STIX-Web\"}});}</script>\n",
              "                <script type=\"text/javascript\">window.PlotlyConfig = {MathJaxConfig: 'local'};</script>\n",
              "        <script src=\"https://cdn.plot.ly/plotly-latest.min.js\"></script>    \n",
              "            <div id=\"a4818f6b-68d0-4013-89cf-b9db450caf6a\" class=\"plotly-graph-div\" style=\"height:400px; width:400px;\"></div>\n",
              "            <script type=\"text/javascript\">\n",
              "                \n",
              "                    window.PLOTLYENV=window.PLOTLYENV || {};\n",
              "                    \n",
              "                if (document.getElementById(\"a4818f6b-68d0-4013-89cf-b9db450caf6a\")) {\n",
              "                    Plotly.newPlot(\n",
              "                        'a4818f6b-68d0-4013-89cf-b9db450caf6a',\n",
              "                        [{\"coloraxis\": \"coloraxis\", \"type\": \"heatmap\", \"z\": [[741, 292], [100, 274]]}],\n",
              "                        {\"annotations\": [{\"font\": {\"color\": \"black\", \"size\": 12}, \"showarrow\": false, \"text\": \"741\", \"x\": 0, \"y\": 0}, {\"font\": {\"color\": \"black\", \"size\": 12}, \"showarrow\": false, \"text\": \"292\", \"x\": 1, \"y\": 0}, {\"font\": {\"color\": \"black\", \"size\": 12}, \"showarrow\": false, \"text\": \"100\", \"x\": 0, \"y\": 1}, {\"font\": {\"color\": \"black\", \"size\": 12}, \"showarrow\": false, \"text\": \"274\", \"x\": 1, \"y\": 1}], \"coloraxis\": {\"colorscale\": [[0.0, \"peachpuff\"], [0.5, \"lime\"], [1.0, \"green\"]]}, \"height\": 400, \"margin\": {\"t\": 60}, \"template\": {\"data\": {\"bar\": [{\"error_x\": {\"color\": \"#2a3f5f\"}, \"error_y\": {\"color\": \"#2a3f5f\"}, \"marker\": {\"line\": {\"color\": \"#E5ECF6\", \"width\": 0.5}}, \"type\": \"bar\"}], \"barpolar\": [{\"marker\": {\"line\": {\"color\": \"#E5ECF6\", \"width\": 0.5}}, \"type\": \"barpolar\"}], \"carpet\": [{\"aaxis\": {\"endlinecolor\": \"#2a3f5f\", \"gridcolor\": \"white\", \"linecolor\": \"white\", \"minorgridcolor\": \"white\", \"startlinecolor\": \"#2a3f5f\"}, \"baxis\": {\"endlinecolor\": \"#2a3f5f\", \"gridcolor\": \"white\", \"linecolor\": \"white\", \"minorgridcolor\": \"white\", \"startlinecolor\": \"#2a3f5f\"}, \"type\": \"carpet\"}], \"choropleth\": [{\"colorbar\": {\"outlinewidth\": 0, \"ticks\": \"\"}, \"type\": \"choropleth\"}], \"contour\": [{\"colorbar\": {\"outlinewidth\": 0, \"ticks\": \"\"}, \"colorscale\": [[0.0, \"#0d0887\"], [0.1111111111111111, \"#46039f\"], [0.2222222222222222, \"#7201a8\"], [0.3333333333333333, \"#9c179e\"], [0.4444444444444444, \"#bd3786\"], [0.5555555555555556, \"#d8576b\"], [0.6666666666666666, \"#ed7953\"], [0.7777777777777778, \"#fb9f3a\"], [0.8888888888888888, \"#fdca26\"], [1.0, \"#f0f921\"]], \"type\": \"contour\"}], \"contourcarpet\": [{\"colorbar\": {\"outlinewidth\": 0, \"ticks\": \"\"}, \"type\": \"contourcarpet\"}], \"heatmap\": [{\"colorbar\": {\"outlinewidth\": 0, \"ticks\": \"\"}, \"colorscale\": [[0.0, \"#0d0887\"], [0.1111111111111111, \"#46039f\"], [0.2222222222222222, \"#7201a8\"], [0.3333333333333333, \"#9c179e\"], [0.4444444444444444, \"#bd3786\"], [0.5555555555555556, \"#d8576b\"], [0.6666666666666666, \"#ed7953\"], [0.7777777777777778, \"#fb9f3a\"], [0.8888888888888888, \"#fdca26\"], [1.0, \"#f0f921\"]], \"type\": \"heatmap\"}], \"heatmapgl\": [{\"colorbar\": {\"outlinewidth\": 0, \"ticks\": \"\"}, \"colorscale\": [[0.0, \"#0d0887\"], [0.1111111111111111, \"#46039f\"], [0.2222222222222222, \"#7201a8\"], [0.3333333333333333, \"#9c179e\"], [0.4444444444444444, \"#bd3786\"], [0.5555555555555556, \"#d8576b\"], [0.6666666666666666, \"#ed7953\"], [0.7777777777777778, \"#fb9f3a\"], [0.8888888888888888, \"#fdca26\"], [1.0, \"#f0f921\"]], \"type\": \"heatmapgl\"}], \"histogram\": [{\"marker\": {\"colorbar\": {\"outlinewidth\": 0, \"ticks\": \"\"}}, \"type\": \"histogram\"}], \"histogram2d\": [{\"colorbar\": {\"outlinewidth\": 0, \"ticks\": \"\"}, \"colorscale\": [[0.0, \"#0d0887\"], [0.1111111111111111, \"#46039f\"], [0.2222222222222222, \"#7201a8\"], [0.3333333333333333, \"#9c179e\"], [0.4444444444444444, \"#bd3786\"], [0.5555555555555556, \"#d8576b\"], [0.6666666666666666, \"#ed7953\"], [0.7777777777777778, \"#fb9f3a\"], [0.8888888888888888, \"#fdca26\"], [1.0, \"#f0f921\"]], \"type\": \"histogram2d\"}], \"histogram2dcontour\": [{\"colorbar\": {\"outlinewidth\": 0, \"ticks\": \"\"}, \"colorscale\": [[0.0, \"#0d0887\"], [0.1111111111111111, \"#46039f\"], [0.2222222222222222, \"#7201a8\"], [0.3333333333333333, \"#9c179e\"], [0.4444444444444444, \"#bd3786\"], [0.5555555555555556, \"#d8576b\"], [0.6666666666666666, \"#ed7953\"], [0.7777777777777778, \"#fb9f3a\"], [0.8888888888888888, \"#fdca26\"], [1.0, \"#f0f921\"]], \"type\": \"histogram2dcontour\"}], \"mesh3d\": [{\"colorbar\": {\"outlinewidth\": 0, \"ticks\": \"\"}, \"type\": \"mesh3d\"}], \"parcoords\": [{\"line\": {\"colorbar\": {\"outlinewidth\": 0, \"ticks\": \"\"}}, \"type\": \"parcoords\"}], \"pie\": [{\"automargin\": true, \"type\": \"pie\"}], \"scatter\": [{\"marker\": {\"colorbar\": {\"outlinewidth\": 0, \"ticks\": \"\"}}, \"type\": \"scatter\"}], \"scatter3d\": [{\"line\": {\"colorbar\": {\"outlinewidth\": 0, \"ticks\": \"\"}}, \"marker\": {\"colorbar\": {\"outlinewidth\": 0, \"ticks\": \"\"}}, \"type\": \"scatter3d\"}], \"scattercarpet\": [{\"marker\": {\"colorbar\": {\"outlinewidth\": 0, \"ticks\": \"\"}}, \"type\": \"scattercarpet\"}], \"scattergeo\": [{\"marker\": {\"colorbar\": {\"outlinewidth\": 0, \"ticks\": \"\"}}, \"type\": \"scattergeo\"}], \"scattergl\": [{\"marker\": {\"colorbar\": {\"outlinewidth\": 0, \"ticks\": \"\"}}, \"type\": \"scattergl\"}], \"scattermapbox\": [{\"marker\": {\"colorbar\": {\"outlinewidth\": 0, \"ticks\": \"\"}}, \"type\": \"scattermapbox\"}], \"scatterpolar\": [{\"marker\": {\"colorbar\": {\"outlinewidth\": 0, \"ticks\": \"\"}}, \"type\": \"scatterpolar\"}], \"scatterpolargl\": [{\"marker\": {\"colorbar\": {\"outlinewidth\": 0, \"ticks\": \"\"}}, \"type\": \"scatterpolargl\"}], \"scatterternary\": [{\"marker\": {\"colorbar\": {\"outlinewidth\": 0, \"ticks\": \"\"}}, \"type\": \"scatterternary\"}], \"surface\": [{\"colorbar\": {\"outlinewidth\": 0, \"ticks\": \"\"}, \"colorscale\": [[0.0, \"#0d0887\"], [0.1111111111111111, \"#46039f\"], [0.2222222222222222, \"#7201a8\"], [0.3333333333333333, \"#9c179e\"], [0.4444444444444444, \"#bd3786\"], [0.5555555555555556, \"#d8576b\"], [0.6666666666666666, \"#ed7953\"], [0.7777777777777778, \"#fb9f3a\"], [0.8888888888888888, \"#fdca26\"], [1.0, \"#f0f921\"]], \"type\": \"surface\"}], \"table\": [{\"cells\": {\"fill\": {\"color\": \"#EBF0F8\"}, \"line\": {\"color\": \"white\"}}, \"header\": {\"fill\": {\"color\": \"#C8D4E3\"}, \"line\": {\"color\": \"white\"}}, \"type\": \"table\"}]}, \"layout\": {\"annotationdefaults\": {\"arrowcolor\": \"#2a3f5f\", \"arrowhead\": 0, \"arrowwidth\": 1}, \"coloraxis\": {\"colorbar\": {\"outlinewidth\": 0, \"ticks\": \"\"}}, \"colorscale\": {\"diverging\": [[0, \"#8e0152\"], [0.1, \"#c51b7d\"], [0.2, \"#de77ae\"], [0.3, \"#f1b6da\"], [0.4, \"#fde0ef\"], [0.5, \"#f7f7f7\"], [0.6, \"#e6f5d0\"], [0.7, \"#b8e186\"], [0.8, \"#7fbc41\"], [0.9, \"#4d9221\"], [1, \"#276419\"]], \"sequential\": [[0.0, \"#0d0887\"], [0.1111111111111111, \"#46039f\"], [0.2222222222222222, \"#7201a8\"], [0.3333333333333333, \"#9c179e\"], [0.4444444444444444, \"#bd3786\"], [0.5555555555555556, \"#d8576b\"], [0.6666666666666666, \"#ed7953\"], [0.7777777777777778, \"#fb9f3a\"], [0.8888888888888888, \"#fdca26\"], [1.0, \"#f0f921\"]], \"sequentialminus\": [[0.0, \"#0d0887\"], [0.1111111111111111, \"#46039f\"], [0.2222222222222222, \"#7201a8\"], [0.3333333333333333, \"#9c179e\"], [0.4444444444444444, \"#bd3786\"], [0.5555555555555556, \"#d8576b\"], [0.6666666666666666, \"#ed7953\"], [0.7777777777777778, \"#fb9f3a\"], [0.8888888888888888, \"#fdca26\"], [1.0, \"#f0f921\"]]}, \"colorway\": [\"#636efa\", \"#EF553B\", \"#00cc96\", \"#ab63fa\", \"#FFA15A\", \"#19d3f3\", \"#FF6692\", \"#B6E880\", \"#FF97FF\", \"#FECB52\"], \"font\": {\"color\": \"#2a3f5f\"}, \"geo\": {\"bgcolor\": \"white\", \"lakecolor\": \"white\", \"landcolor\": \"#E5ECF6\", \"showlakes\": true, \"showland\": true, \"subunitcolor\": \"white\"}, \"hoverlabel\": {\"align\": \"left\"}, \"hovermode\": \"closest\", \"mapbox\": {\"style\": \"light\"}, \"paper_bgcolor\": \"white\", \"plot_bgcolor\": \"#E5ECF6\", \"polar\": {\"angularaxis\": {\"gridcolor\": \"white\", \"linecolor\": \"white\", \"ticks\": \"\"}, \"bgcolor\": \"#E5ECF6\", \"radialaxis\": {\"gridcolor\": \"white\", \"linecolor\": \"white\", \"ticks\": \"\"}}, \"scene\": {\"xaxis\": {\"backgroundcolor\": \"#E5ECF6\", \"gridcolor\": \"white\", \"gridwidth\": 2, \"linecolor\": \"white\", \"showbackground\": true, \"ticks\": \"\", \"zerolinecolor\": \"white\"}, \"yaxis\": {\"backgroundcolor\": \"#E5ECF6\", \"gridcolor\": \"white\", \"gridwidth\": 2, \"linecolor\": \"white\", \"showbackground\": true, \"ticks\": \"\", \"zerolinecolor\": \"white\"}, \"zaxis\": {\"backgroundcolor\": \"#E5ECF6\", \"gridcolor\": \"white\", \"gridwidth\": 2, \"linecolor\": \"white\", \"showbackground\": true, \"ticks\": \"\", \"zerolinecolor\": \"white\"}}, \"shapedefaults\": {\"line\": {\"color\": \"#2a3f5f\"}}, \"ternary\": {\"aaxis\": {\"gridcolor\": \"white\", \"linecolor\": \"white\", \"ticks\": \"\"}, \"baxis\": {\"gridcolor\": \"white\", \"linecolor\": \"white\", \"ticks\": \"\"}, \"bgcolor\": \"#E5ECF6\", \"caxis\": {\"gridcolor\": \"white\", \"linecolor\": \"white\", \"ticks\": \"\"}}, \"title\": {\"x\": 0.05}, \"xaxis\": {\"automargin\": true, \"gridcolor\": \"white\", \"linecolor\": \"white\", \"ticks\": \"\", \"title\": {\"standoff\": 15}, \"zerolinecolor\": \"white\", \"zerolinewidth\": 2}, \"yaxis\": {\"automargin\": true, \"gridcolor\": \"white\", \"linecolor\": \"white\", \"ticks\": \"\", \"title\": {\"standoff\": 15}, \"zerolinecolor\": \"white\", \"zerolinewidth\": 2}}}, \"title\": {\"text\": \"Confusion Matrix (ADA)\", \"x\": 0.5}, \"width\": 400, \"xaxis\": {\"constrain\": \"domain\", \"dtick\": 1, \"scaleanchor\": \"y\", \"tick0\": 0, \"tickmode\": \"linear\", \"title\": {\"text\": \"Prediction\"}}, \"yaxis\": {\"autorange\": \"reversed\", \"constrain\": \"domain\", \"dtick\": 1, \"tick0\": 0, \"tickmode\": \"linear\", \"title\": {\"text\": \"Truth\"}}},\n",
              "                        {\"responsive\": true}\n",
              "                    ).then(function(){\n",
              "                            \n",
              "var gd = document.getElementById('a4818f6b-68d0-4013-89cf-b9db450caf6a');\n",
              "var x = new MutationObserver(function (mutations, observer) {{\n",
              "        var display = window.getComputedStyle(gd).display;\n",
              "        if (!display || display === 'none') {{\n",
              "            console.log([gd, 'removed!']);\n",
              "            Plotly.purge(gd);\n",
              "            observer.disconnect();\n",
              "        }}\n",
              "}});\n",
              "\n",
              "// Listen for the removal of the full notebook cells\n",
              "var notebookContainer = gd.closest('#notebook-container');\n",
              "if (notebookContainer) {{\n",
              "    x.observe(notebookContainer, {childList: true});\n",
              "}}\n",
              "\n",
              "// Listen for the clearing of the current output cell\n",
              "var outputEl = gd.closest('.output');\n",
              "if (outputEl) {{\n",
              "    x.observe(outputEl, {childList: true});\n",
              "}}\n",
              "\n",
              "                        })\n",
              "                };\n",
              "                \n",
              "            </script>\n",
              "        </div>\n",
              "</body>\n",
              "</html>"
            ]
          },
          "metadata": {}
        }
      ]
    },
    {
      "cell_type": "markdown",
      "source": [
        "## Churn Prediction using Stochastic Gradient Boosting"
      ],
      "metadata": {
        "id": "UGDoazdCpIV7"
      }
    },
    {
      "cell_type": "code",
      "source": [
        "para_sgb = {'n_estimators':[100,200],\n",
        "            'learning_rate':[0.5,1.0],\n",
        "            'subsample':[0.5,1.0],\n",
        "            'max_features':['auto', 'sqrt', 'log2']\n",
        "           }\n",
        "\n",
        "model_sgb = GridSearchCV(estimator = GradientBoostingClassifier(),\n",
        "                    param_grid = para_sgb,\n",
        "                    cv=10,\n",
        "                    verbose=0,\n",
        "                    n_jobs=-1\n",
        "                   )\n",
        "\n",
        "model_sgb.fit(train_X_re,train_y_re)"
      ],
      "metadata": {
        "colab": {
          "base_uri": "https://localhost:8080/"
        },
        "id": "WywDxuDwpAGf",
        "outputId": "2c563c33-41fe-4b2e-f7e8-e9280d9fd545"
      },
      "execution_count": 62,
      "outputs": [
        {
          "output_type": "execute_result",
          "data": {
            "text/plain": [
              "GridSearchCV(cv=10, estimator=GradientBoostingClassifier(), n_jobs=-1,\n",
              "             param_grid={'learning_rate': [0.5, 1.0],\n",
              "                         'max_features': ['auto', 'sqrt', 'log2'],\n",
              "                         'n_estimators': [100, 200], 'subsample': [0.5, 1.0]})"
            ]
          },
          "metadata": {},
          "execution_count": 62
        }
      ]
    },
    {
      "cell_type": "code",
      "source": [
        "model_sgb.best_params_"
      ],
      "metadata": {
        "colab": {
          "base_uri": "https://localhost:8080/"
        },
        "id": "za07XgflpJPC",
        "outputId": "22c08c4f-c88a-408a-f61a-ad58506d1b4b"
      },
      "execution_count": 63,
      "outputs": [
        {
          "output_type": "execute_result",
          "data": {
            "text/plain": [
              "{'learning_rate': 0.5,\n",
              " 'max_features': 'auto',\n",
              " 'n_estimators': 100,\n",
              " 'subsample': 1.0}"
            ]
          },
          "metadata": {},
          "execution_count": 63
        }
      ]
    },
    {
      "cell_type": "code",
      "source": [
        "cm_sgb,cr_sgb,auc_score_sgb,_  = test_eval(model_sgb,test_X,test_y)\n",
        "fpr_sgb, tpr_sgb, thresh_sgb = roc_curve(test_y, model_sgb.predict_proba(test_X)[:,1], pos_label = 1)\n",
        "precision_sgb, recall_sgb, _ = precision_recall_curve(test_y, model_sgb.predict_proba(test_X)[:,1],pos_label=1)"
      ],
      "metadata": {
        "colab": {
          "base_uri": "https://localhost:8080/"
        },
        "id": "S4fMaFeDpOm7",
        "outputId": "60fd6155-5565-40d3-ac73-e2901f93e5b2"
      },
      "execution_count": 64,
      "outputs": [
        {
          "output_type": "stream",
          "name": "stdout",
          "text": [
            "Confusion Matrix\n",
            "====================\n",
            "[[830 203]\n",
            " [122 252]] \n",
            "\n",
            "Classification Report\n",
            "====================\n",
            "              precision    recall  f1-score   support\n",
            "\n",
            "           0       0.87      0.80      0.84      1033\n",
            "           1       0.55      0.67      0.61       374\n",
            "\n",
            "    accuracy                           0.77      1407\n",
            "   macro avg       0.71      0.74      0.72      1407\n",
            "weighted avg       0.79      0.77      0.78      1407\n",
            "\n"
          ]
        }
      ]
    },
    {
      "cell_type": "code",
      "source": [
        "plot_cmatrix(cm_sgb, name='SGB')"
      ],
      "metadata": {
        "colab": {
          "base_uri": "https://localhost:8080/",
          "height": 417
        },
        "id": "u0mkMkVepWRU",
        "outputId": "75c6beb4-a087-4ce7-caa3-862f742864a7"
      },
      "execution_count": 65,
      "outputs": [
        {
          "output_type": "display_data",
          "data": {
            "text/html": [
              "<html>\n",
              "<head><meta charset=\"utf-8\" /></head>\n",
              "<body>\n",
              "    <div>\n",
              "            <script src=\"https://cdnjs.cloudflare.com/ajax/libs/mathjax/2.7.5/MathJax.js?config=TeX-AMS-MML_SVG\"></script><script type=\"text/javascript\">if (window.MathJax) {MathJax.Hub.Config({SVG: {font: \"STIX-Web\"}});}</script>\n",
              "                <script type=\"text/javascript\">window.PlotlyConfig = {MathJaxConfig: 'local'};</script>\n",
              "        <script src=\"https://cdn.plot.ly/plotly-latest.min.js\"></script>    \n",
              "            <div id=\"b7aff718-209c-490c-b041-2299eb0bf319\" class=\"plotly-graph-div\" style=\"height:400px; width:400px;\"></div>\n",
              "            <script type=\"text/javascript\">\n",
              "                \n",
              "                    window.PLOTLYENV=window.PLOTLYENV || {};\n",
              "                    \n",
              "                if (document.getElementById(\"b7aff718-209c-490c-b041-2299eb0bf319\")) {\n",
              "                    Plotly.newPlot(\n",
              "                        'b7aff718-209c-490c-b041-2299eb0bf319',\n",
              "                        [{\"coloraxis\": \"coloraxis\", \"type\": \"heatmap\", \"z\": [[830, 203], [122, 252]]}],\n",
              "                        {\"annotations\": [{\"font\": {\"color\": \"black\", \"size\": 12}, \"showarrow\": false, \"text\": \"830\", \"x\": 0, \"y\": 0}, {\"font\": {\"color\": \"black\", \"size\": 12}, \"showarrow\": false, \"text\": \"203\", \"x\": 1, \"y\": 0}, {\"font\": {\"color\": \"black\", \"size\": 12}, \"showarrow\": false, \"text\": \"122\", \"x\": 0, \"y\": 1}, {\"font\": {\"color\": \"black\", \"size\": 12}, \"showarrow\": false, \"text\": \"252\", \"x\": 1, \"y\": 1}], \"coloraxis\": {\"colorscale\": [[0.0, \"peachpuff\"], [0.5, \"lime\"], [1.0, \"green\"]]}, \"height\": 400, \"margin\": {\"t\": 60}, \"template\": {\"data\": {\"bar\": [{\"error_x\": {\"color\": \"#2a3f5f\"}, \"error_y\": {\"color\": \"#2a3f5f\"}, \"marker\": {\"line\": {\"color\": \"#E5ECF6\", \"width\": 0.5}}, \"type\": \"bar\"}], \"barpolar\": [{\"marker\": {\"line\": {\"color\": \"#E5ECF6\", \"width\": 0.5}}, \"type\": \"barpolar\"}], \"carpet\": [{\"aaxis\": {\"endlinecolor\": \"#2a3f5f\", \"gridcolor\": \"white\", \"linecolor\": \"white\", \"minorgridcolor\": \"white\", \"startlinecolor\": \"#2a3f5f\"}, \"baxis\": {\"endlinecolor\": \"#2a3f5f\", \"gridcolor\": \"white\", \"linecolor\": \"white\", \"minorgridcolor\": \"white\", \"startlinecolor\": \"#2a3f5f\"}, \"type\": \"carpet\"}], \"choropleth\": [{\"colorbar\": {\"outlinewidth\": 0, \"ticks\": \"\"}, \"type\": \"choropleth\"}], \"contour\": [{\"colorbar\": {\"outlinewidth\": 0, \"ticks\": \"\"}, \"colorscale\": [[0.0, \"#0d0887\"], [0.1111111111111111, \"#46039f\"], [0.2222222222222222, \"#7201a8\"], [0.3333333333333333, \"#9c179e\"], [0.4444444444444444, \"#bd3786\"], [0.5555555555555556, \"#d8576b\"], [0.6666666666666666, \"#ed7953\"], [0.7777777777777778, \"#fb9f3a\"], [0.8888888888888888, \"#fdca26\"], [1.0, \"#f0f921\"]], \"type\": \"contour\"}], \"contourcarpet\": [{\"colorbar\": {\"outlinewidth\": 0, \"ticks\": \"\"}, \"type\": \"contourcarpet\"}], \"heatmap\": [{\"colorbar\": {\"outlinewidth\": 0, \"ticks\": \"\"}, \"colorscale\": [[0.0, \"#0d0887\"], [0.1111111111111111, \"#46039f\"], [0.2222222222222222, \"#7201a8\"], [0.3333333333333333, \"#9c179e\"], [0.4444444444444444, \"#bd3786\"], [0.5555555555555556, \"#d8576b\"], [0.6666666666666666, \"#ed7953\"], [0.7777777777777778, \"#fb9f3a\"], [0.8888888888888888, \"#fdca26\"], [1.0, \"#f0f921\"]], \"type\": \"heatmap\"}], \"heatmapgl\": [{\"colorbar\": {\"outlinewidth\": 0, \"ticks\": \"\"}, \"colorscale\": [[0.0, \"#0d0887\"], [0.1111111111111111, \"#46039f\"], [0.2222222222222222, \"#7201a8\"], [0.3333333333333333, \"#9c179e\"], [0.4444444444444444, \"#bd3786\"], [0.5555555555555556, \"#d8576b\"], [0.6666666666666666, \"#ed7953\"], [0.7777777777777778, \"#fb9f3a\"], [0.8888888888888888, \"#fdca26\"], [1.0, \"#f0f921\"]], \"type\": \"heatmapgl\"}], \"histogram\": [{\"marker\": {\"colorbar\": {\"outlinewidth\": 0, \"ticks\": \"\"}}, \"type\": \"histogram\"}], \"histogram2d\": [{\"colorbar\": {\"outlinewidth\": 0, \"ticks\": \"\"}, \"colorscale\": [[0.0, \"#0d0887\"], [0.1111111111111111, \"#46039f\"], [0.2222222222222222, \"#7201a8\"], [0.3333333333333333, \"#9c179e\"], [0.4444444444444444, \"#bd3786\"], [0.5555555555555556, \"#d8576b\"], [0.6666666666666666, \"#ed7953\"], [0.7777777777777778, \"#fb9f3a\"], [0.8888888888888888, \"#fdca26\"], [1.0, \"#f0f921\"]], \"type\": \"histogram2d\"}], \"histogram2dcontour\": [{\"colorbar\": {\"outlinewidth\": 0, \"ticks\": \"\"}, \"colorscale\": [[0.0, \"#0d0887\"], [0.1111111111111111, \"#46039f\"], [0.2222222222222222, \"#7201a8\"], [0.3333333333333333, \"#9c179e\"], [0.4444444444444444, \"#bd3786\"], [0.5555555555555556, \"#d8576b\"], [0.6666666666666666, \"#ed7953\"], [0.7777777777777778, \"#fb9f3a\"], [0.8888888888888888, \"#fdca26\"], [1.0, \"#f0f921\"]], \"type\": \"histogram2dcontour\"}], \"mesh3d\": [{\"colorbar\": {\"outlinewidth\": 0, \"ticks\": \"\"}, \"type\": \"mesh3d\"}], \"parcoords\": [{\"line\": {\"colorbar\": {\"outlinewidth\": 0, \"ticks\": \"\"}}, \"type\": \"parcoords\"}], \"pie\": [{\"automargin\": true, \"type\": \"pie\"}], \"scatter\": [{\"marker\": {\"colorbar\": {\"outlinewidth\": 0, \"ticks\": \"\"}}, \"type\": \"scatter\"}], \"scatter3d\": [{\"line\": {\"colorbar\": {\"outlinewidth\": 0, \"ticks\": \"\"}}, \"marker\": {\"colorbar\": {\"outlinewidth\": 0, \"ticks\": \"\"}}, \"type\": \"scatter3d\"}], \"scattercarpet\": [{\"marker\": {\"colorbar\": {\"outlinewidth\": 0, \"ticks\": \"\"}}, \"type\": \"scattercarpet\"}], \"scattergeo\": [{\"marker\": {\"colorbar\": {\"outlinewidth\": 0, \"ticks\": \"\"}}, \"type\": \"scattergeo\"}], \"scattergl\": [{\"marker\": {\"colorbar\": {\"outlinewidth\": 0, \"ticks\": \"\"}}, \"type\": \"scattergl\"}], \"scattermapbox\": [{\"marker\": {\"colorbar\": {\"outlinewidth\": 0, \"ticks\": \"\"}}, \"type\": \"scattermapbox\"}], \"scatterpolar\": [{\"marker\": {\"colorbar\": {\"outlinewidth\": 0, \"ticks\": \"\"}}, \"type\": \"scatterpolar\"}], \"scatterpolargl\": [{\"marker\": {\"colorbar\": {\"outlinewidth\": 0, \"ticks\": \"\"}}, \"type\": \"scatterpolargl\"}], \"scatterternary\": [{\"marker\": {\"colorbar\": {\"outlinewidth\": 0, \"ticks\": \"\"}}, \"type\": \"scatterternary\"}], \"surface\": [{\"colorbar\": {\"outlinewidth\": 0, \"ticks\": \"\"}, \"colorscale\": [[0.0, \"#0d0887\"], [0.1111111111111111, \"#46039f\"], [0.2222222222222222, \"#7201a8\"], [0.3333333333333333, \"#9c179e\"], [0.4444444444444444, \"#bd3786\"], [0.5555555555555556, \"#d8576b\"], [0.6666666666666666, \"#ed7953\"], [0.7777777777777778, \"#fb9f3a\"], [0.8888888888888888, \"#fdca26\"], [1.0, \"#f0f921\"]], \"type\": \"surface\"}], \"table\": [{\"cells\": {\"fill\": {\"color\": \"#EBF0F8\"}, \"line\": {\"color\": \"white\"}}, \"header\": {\"fill\": {\"color\": \"#C8D4E3\"}, \"line\": {\"color\": \"white\"}}, \"type\": \"table\"}]}, \"layout\": {\"annotationdefaults\": {\"arrowcolor\": \"#2a3f5f\", \"arrowhead\": 0, \"arrowwidth\": 1}, \"coloraxis\": {\"colorbar\": {\"outlinewidth\": 0, \"ticks\": \"\"}}, \"colorscale\": {\"diverging\": [[0, \"#8e0152\"], [0.1, \"#c51b7d\"], [0.2, \"#de77ae\"], [0.3, \"#f1b6da\"], [0.4, \"#fde0ef\"], [0.5, \"#f7f7f7\"], [0.6, \"#e6f5d0\"], [0.7, \"#b8e186\"], [0.8, \"#7fbc41\"], [0.9, \"#4d9221\"], [1, \"#276419\"]], \"sequential\": [[0.0, \"#0d0887\"], [0.1111111111111111, \"#46039f\"], [0.2222222222222222, \"#7201a8\"], [0.3333333333333333, \"#9c179e\"], [0.4444444444444444, \"#bd3786\"], [0.5555555555555556, \"#d8576b\"], [0.6666666666666666, \"#ed7953\"], [0.7777777777777778, \"#fb9f3a\"], [0.8888888888888888, \"#fdca26\"], [1.0, \"#f0f921\"]], \"sequentialminus\": [[0.0, \"#0d0887\"], [0.1111111111111111, \"#46039f\"], [0.2222222222222222, \"#7201a8\"], [0.3333333333333333, \"#9c179e\"], [0.4444444444444444, \"#bd3786\"], [0.5555555555555556, \"#d8576b\"], [0.6666666666666666, \"#ed7953\"], [0.7777777777777778, \"#fb9f3a\"], [0.8888888888888888, \"#fdca26\"], [1.0, \"#f0f921\"]]}, \"colorway\": [\"#636efa\", \"#EF553B\", \"#00cc96\", \"#ab63fa\", \"#FFA15A\", \"#19d3f3\", \"#FF6692\", \"#B6E880\", \"#FF97FF\", \"#FECB52\"], \"font\": {\"color\": \"#2a3f5f\"}, \"geo\": {\"bgcolor\": \"white\", \"lakecolor\": \"white\", \"landcolor\": \"#E5ECF6\", \"showlakes\": true, \"showland\": true, \"subunitcolor\": \"white\"}, \"hoverlabel\": {\"align\": \"left\"}, \"hovermode\": \"closest\", \"mapbox\": {\"style\": \"light\"}, \"paper_bgcolor\": \"white\", \"plot_bgcolor\": \"#E5ECF6\", \"polar\": {\"angularaxis\": {\"gridcolor\": \"white\", \"linecolor\": \"white\", \"ticks\": \"\"}, \"bgcolor\": \"#E5ECF6\", \"radialaxis\": {\"gridcolor\": \"white\", \"linecolor\": \"white\", \"ticks\": \"\"}}, \"scene\": {\"xaxis\": {\"backgroundcolor\": \"#E5ECF6\", \"gridcolor\": \"white\", \"gridwidth\": 2, \"linecolor\": \"white\", \"showbackground\": true, \"ticks\": \"\", \"zerolinecolor\": \"white\"}, \"yaxis\": {\"backgroundcolor\": \"#E5ECF6\", \"gridcolor\": \"white\", \"gridwidth\": 2, \"linecolor\": \"white\", \"showbackground\": true, \"ticks\": \"\", \"zerolinecolor\": \"white\"}, \"zaxis\": {\"backgroundcolor\": \"#E5ECF6\", \"gridcolor\": \"white\", \"gridwidth\": 2, \"linecolor\": \"white\", \"showbackground\": true, \"ticks\": \"\", \"zerolinecolor\": \"white\"}}, \"shapedefaults\": {\"line\": {\"color\": \"#2a3f5f\"}}, \"ternary\": {\"aaxis\": {\"gridcolor\": \"white\", \"linecolor\": \"white\", \"ticks\": \"\"}, \"baxis\": {\"gridcolor\": \"white\", \"linecolor\": \"white\", \"ticks\": \"\"}, \"bgcolor\": \"#E5ECF6\", \"caxis\": {\"gridcolor\": \"white\", \"linecolor\": \"white\", \"ticks\": \"\"}}, \"title\": {\"x\": 0.05}, \"xaxis\": {\"automargin\": true, \"gridcolor\": \"white\", \"linecolor\": \"white\", \"ticks\": \"\", \"title\": {\"standoff\": 15}, \"zerolinecolor\": \"white\", \"zerolinewidth\": 2}, \"yaxis\": {\"automargin\": true, \"gridcolor\": \"white\", \"linecolor\": \"white\", \"ticks\": \"\", \"title\": {\"standoff\": 15}, \"zerolinecolor\": \"white\", \"zerolinewidth\": 2}}}, \"title\": {\"text\": \"Confusion Matrix (SGB)\", \"x\": 0.5}, \"width\": 400, \"xaxis\": {\"constrain\": \"domain\", \"dtick\": 1, \"scaleanchor\": \"y\", \"tick0\": 0, \"tickmode\": \"linear\", \"title\": {\"text\": \"Prediction\"}}, \"yaxis\": {\"autorange\": \"reversed\", \"constrain\": \"domain\", \"dtick\": 1, \"tick0\": 0, \"tickmode\": \"linear\", \"title\": {\"text\": \"Truth\"}}},\n",
              "                        {\"responsive\": true}\n",
              "                    ).then(function(){\n",
              "                            \n",
              "var gd = document.getElementById('b7aff718-209c-490c-b041-2299eb0bf319');\n",
              "var x = new MutationObserver(function (mutations, observer) {{\n",
              "        var display = window.getComputedStyle(gd).display;\n",
              "        if (!display || display === 'none') {{\n",
              "            console.log([gd, 'removed!']);\n",
              "            Plotly.purge(gd);\n",
              "            observer.disconnect();\n",
              "        }}\n",
              "}});\n",
              "\n",
              "// Listen for the removal of the full notebook cells\n",
              "var notebookContainer = gd.closest('#notebook-container');\n",
              "if (notebookContainer) {{\n",
              "    x.observe(notebookContainer, {childList: true});\n",
              "}}\n",
              "\n",
              "// Listen for the clearing of the current output cell\n",
              "var outputEl = gd.closest('.output');\n",
              "if (outputEl) {{\n",
              "    x.observe(outputEl, {childList: true});\n",
              "}}\n",
              "\n",
              "                        })\n",
              "                };\n",
              "                \n",
              "            </script>\n",
              "        </div>\n",
              "</body>\n",
              "</html>"
            ]
          },
          "metadata": {}
        }
      ]
    },
    {
      "cell_type": "markdown",
      "source": [
        "### Churn Prediction using CatBoost"
      ],
      "metadata": {
        "id": "mBKUaA5ZpbUq"
      }
    },
    {
      "cell_type": "code",
      "source": [
        "para_cat = {'iterations':[10,20],\n",
        "            'learning_rate':[0.2,0.3]\n",
        "           }\n",
        "\n",
        "model_cat = GridSearchCV(estimator = CatBoostClassifier(verbose=False),\n",
        "                    param_grid = para_cat,\n",
        "                    cv=10,\n",
        "                    verbose=0,\n",
        "                    n_jobs=-1\n",
        "                   )\n",
        "\n",
        "model_cat.fit(train_X_re,train_y_re)"
      ],
      "metadata": {
        "colab": {
          "base_uri": "https://localhost:8080/"
        },
        "id": "ba6ZTppkpJSf",
        "outputId": "929f37a1-dabe-412e-d628-1890bd443fc6"
      },
      "execution_count": 66,
      "outputs": [
        {
          "output_type": "stream",
          "name": "stderr",
          "text": [
            "/usr/local/lib/python3.7/dist-packages/joblib/externals/loky/process_executor.py:705: UserWarning:\n",
            "\n",
            "A worker stopped while some jobs were given to the executor. This can be caused by a too short worker timeout or by a memory leak.\n",
            "\n"
          ]
        },
        {
          "output_type": "execute_result",
          "data": {
            "text/plain": [
              "GridSearchCV(cv=10,\n",
              "             estimator=<catboost.core.CatBoostClassifier object at 0x7f4e52f2b550>,\n",
              "             n_jobs=-1,\n",
              "             param_grid={'iterations': [10, 20], 'learning_rate': [0.2, 0.3]})"
            ]
          },
          "metadata": {},
          "execution_count": 66
        }
      ]
    },
    {
      "cell_type": "code",
      "source": [
        "model_cat.best_params_"
      ],
      "metadata": {
        "colab": {
          "base_uri": "https://localhost:8080/"
        },
        "id": "pF-QbOlEpYRy",
        "outputId": "2f4d23b2-dc3d-4314-c640-869d58d6987d"
      },
      "execution_count": 67,
      "outputs": [
        {
          "output_type": "execute_result",
          "data": {
            "text/plain": [
              "{'iterations': 20, 'learning_rate': 0.3}"
            ]
          },
          "metadata": {},
          "execution_count": 67
        }
      ]
    },
    {
      "cell_type": "code",
      "source": [
        "cm_cat,cr_cat,auc_score_cat,_  = test_eval(model_cat,test_X,test_y)\n",
        "fpr_cat, tpr_cat, thresh_cat = roc_curve(test_y, model_cat.predict_proba(test_X)[:,1], pos_label = 1)\n",
        "precision_cat, recall_cat, _ = precision_recall_curve(test_y, model_cat.predict_proba(test_X)[:,1],pos_label=1)"
      ],
      "metadata": {
        "colab": {
          "base_uri": "https://localhost:8080/"
        },
        "id": "Dnw-KMAUpn4v",
        "outputId": "21f69385-d6ef-4b91-b21f-4cfb55b3eee7"
      },
      "execution_count": 68,
      "outputs": [
        {
          "output_type": "stream",
          "name": "stdout",
          "text": [
            "Confusion Matrix\n",
            "====================\n",
            "[[791 242]\n",
            " [ 83 291]] \n",
            "\n",
            "Classification Report\n",
            "====================\n",
            "              precision    recall  f1-score   support\n",
            "\n",
            "           0       0.91      0.77      0.83      1033\n",
            "           1       0.55      0.78      0.64       374\n",
            "\n",
            "    accuracy                           0.77      1407\n",
            "   macro avg       0.73      0.77      0.74      1407\n",
            "weighted avg       0.81      0.77      0.78      1407\n",
            "\n"
          ]
        }
      ]
    },
    {
      "cell_type": "code",
      "source": [
        "plot_cmatrix(cm_cat, name='CAT')"
      ],
      "metadata": {
        "colab": {
          "base_uri": "https://localhost:8080/",
          "height": 417
        },
        "id": "TKBpREyKpn8o",
        "outputId": "7bda3907-83c3-471f-d17a-c92cf73888af"
      },
      "execution_count": 69,
      "outputs": [
        {
          "output_type": "display_data",
          "data": {
            "text/html": [
              "<html>\n",
              "<head><meta charset=\"utf-8\" /></head>\n",
              "<body>\n",
              "    <div>\n",
              "            <script src=\"https://cdnjs.cloudflare.com/ajax/libs/mathjax/2.7.5/MathJax.js?config=TeX-AMS-MML_SVG\"></script><script type=\"text/javascript\">if (window.MathJax) {MathJax.Hub.Config({SVG: {font: \"STIX-Web\"}});}</script>\n",
              "                <script type=\"text/javascript\">window.PlotlyConfig = {MathJaxConfig: 'local'};</script>\n",
              "        <script src=\"https://cdn.plot.ly/plotly-latest.min.js\"></script>    \n",
              "            <div id=\"8b403e14-fc94-4b7c-b0a2-bb64ac210dec\" class=\"plotly-graph-div\" style=\"height:400px; width:400px;\"></div>\n",
              "            <script type=\"text/javascript\">\n",
              "                \n",
              "                    window.PLOTLYENV=window.PLOTLYENV || {};\n",
              "                    \n",
              "                if (document.getElementById(\"8b403e14-fc94-4b7c-b0a2-bb64ac210dec\")) {\n",
              "                    Plotly.newPlot(\n",
              "                        '8b403e14-fc94-4b7c-b0a2-bb64ac210dec',\n",
              "                        [{\"coloraxis\": \"coloraxis\", \"type\": \"heatmap\", \"z\": [[791, 242], [83, 291]]}],\n",
              "                        {\"annotations\": [{\"font\": {\"color\": \"black\", \"size\": 12}, \"showarrow\": false, \"text\": \"791\", \"x\": 0, \"y\": 0}, {\"font\": {\"color\": \"black\", \"size\": 12}, \"showarrow\": false, \"text\": \"242\", \"x\": 1, \"y\": 0}, {\"font\": {\"color\": \"black\", \"size\": 12}, \"showarrow\": false, \"text\": \"83\", \"x\": 0, \"y\": 1}, {\"font\": {\"color\": \"black\", \"size\": 12}, \"showarrow\": false, \"text\": \"291\", \"x\": 1, \"y\": 1}], \"coloraxis\": {\"colorscale\": [[0.0, \"peachpuff\"], [0.5, \"lime\"], [1.0, \"green\"]]}, \"height\": 400, \"margin\": {\"t\": 60}, \"template\": {\"data\": {\"bar\": [{\"error_x\": {\"color\": \"#2a3f5f\"}, \"error_y\": {\"color\": \"#2a3f5f\"}, \"marker\": {\"line\": {\"color\": \"#E5ECF6\", \"width\": 0.5}}, \"type\": \"bar\"}], \"barpolar\": [{\"marker\": {\"line\": {\"color\": \"#E5ECF6\", \"width\": 0.5}}, \"type\": \"barpolar\"}], \"carpet\": [{\"aaxis\": {\"endlinecolor\": \"#2a3f5f\", \"gridcolor\": \"white\", \"linecolor\": \"white\", \"minorgridcolor\": \"white\", \"startlinecolor\": \"#2a3f5f\"}, \"baxis\": {\"endlinecolor\": \"#2a3f5f\", \"gridcolor\": \"white\", \"linecolor\": \"white\", \"minorgridcolor\": \"white\", \"startlinecolor\": \"#2a3f5f\"}, \"type\": \"carpet\"}], \"choropleth\": [{\"colorbar\": {\"outlinewidth\": 0, \"ticks\": \"\"}, \"type\": \"choropleth\"}], \"contour\": [{\"colorbar\": {\"outlinewidth\": 0, \"ticks\": \"\"}, \"colorscale\": [[0.0, \"#0d0887\"], [0.1111111111111111, \"#46039f\"], [0.2222222222222222, \"#7201a8\"], [0.3333333333333333, \"#9c179e\"], [0.4444444444444444, \"#bd3786\"], [0.5555555555555556, \"#d8576b\"], [0.6666666666666666, \"#ed7953\"], [0.7777777777777778, \"#fb9f3a\"], [0.8888888888888888, \"#fdca26\"], [1.0, \"#f0f921\"]], \"type\": \"contour\"}], \"contourcarpet\": [{\"colorbar\": {\"outlinewidth\": 0, \"ticks\": \"\"}, \"type\": \"contourcarpet\"}], \"heatmap\": [{\"colorbar\": {\"outlinewidth\": 0, \"ticks\": \"\"}, \"colorscale\": [[0.0, \"#0d0887\"], [0.1111111111111111, \"#46039f\"], [0.2222222222222222, \"#7201a8\"], [0.3333333333333333, \"#9c179e\"], [0.4444444444444444, \"#bd3786\"], [0.5555555555555556, \"#d8576b\"], [0.6666666666666666, \"#ed7953\"], [0.7777777777777778, \"#fb9f3a\"], [0.8888888888888888, \"#fdca26\"], [1.0, \"#f0f921\"]], \"type\": \"heatmap\"}], \"heatmapgl\": [{\"colorbar\": {\"outlinewidth\": 0, \"ticks\": \"\"}, \"colorscale\": [[0.0, \"#0d0887\"], [0.1111111111111111, \"#46039f\"], [0.2222222222222222, \"#7201a8\"], [0.3333333333333333, \"#9c179e\"], [0.4444444444444444, \"#bd3786\"], [0.5555555555555556, \"#d8576b\"], [0.6666666666666666, \"#ed7953\"], [0.7777777777777778, \"#fb9f3a\"], [0.8888888888888888, \"#fdca26\"], [1.0, \"#f0f921\"]], \"type\": \"heatmapgl\"}], \"histogram\": [{\"marker\": {\"colorbar\": {\"outlinewidth\": 0, \"ticks\": \"\"}}, \"type\": \"histogram\"}], \"histogram2d\": [{\"colorbar\": {\"outlinewidth\": 0, \"ticks\": \"\"}, \"colorscale\": [[0.0, \"#0d0887\"], [0.1111111111111111, \"#46039f\"], [0.2222222222222222, \"#7201a8\"], [0.3333333333333333, \"#9c179e\"], [0.4444444444444444, \"#bd3786\"], [0.5555555555555556, \"#d8576b\"], [0.6666666666666666, \"#ed7953\"], [0.7777777777777778, \"#fb9f3a\"], [0.8888888888888888, \"#fdca26\"], [1.0, \"#f0f921\"]], \"type\": \"histogram2d\"}], \"histogram2dcontour\": [{\"colorbar\": {\"outlinewidth\": 0, \"ticks\": \"\"}, \"colorscale\": [[0.0, \"#0d0887\"], [0.1111111111111111, \"#46039f\"], [0.2222222222222222, \"#7201a8\"], [0.3333333333333333, \"#9c179e\"], [0.4444444444444444, \"#bd3786\"], [0.5555555555555556, \"#d8576b\"], [0.6666666666666666, \"#ed7953\"], [0.7777777777777778, \"#fb9f3a\"], [0.8888888888888888, \"#fdca26\"], [1.0, \"#f0f921\"]], \"type\": \"histogram2dcontour\"}], \"mesh3d\": [{\"colorbar\": {\"outlinewidth\": 0, \"ticks\": \"\"}, \"type\": \"mesh3d\"}], \"parcoords\": [{\"line\": {\"colorbar\": {\"outlinewidth\": 0, \"ticks\": \"\"}}, \"type\": \"parcoords\"}], \"pie\": [{\"automargin\": true, \"type\": \"pie\"}], \"scatter\": [{\"marker\": {\"colorbar\": {\"outlinewidth\": 0, \"ticks\": \"\"}}, \"type\": \"scatter\"}], \"scatter3d\": [{\"line\": {\"colorbar\": {\"outlinewidth\": 0, \"ticks\": \"\"}}, \"marker\": {\"colorbar\": {\"outlinewidth\": 0, \"ticks\": \"\"}}, \"type\": \"scatter3d\"}], \"scattercarpet\": [{\"marker\": {\"colorbar\": {\"outlinewidth\": 0, \"ticks\": \"\"}}, \"type\": \"scattercarpet\"}], \"scattergeo\": [{\"marker\": {\"colorbar\": {\"outlinewidth\": 0, \"ticks\": \"\"}}, \"type\": \"scattergeo\"}], \"scattergl\": [{\"marker\": {\"colorbar\": {\"outlinewidth\": 0, \"ticks\": \"\"}}, \"type\": \"scattergl\"}], \"scattermapbox\": [{\"marker\": {\"colorbar\": {\"outlinewidth\": 0, \"ticks\": \"\"}}, \"type\": \"scattermapbox\"}], \"scatterpolar\": [{\"marker\": {\"colorbar\": {\"outlinewidth\": 0, \"ticks\": \"\"}}, \"type\": \"scatterpolar\"}], \"scatterpolargl\": [{\"marker\": {\"colorbar\": {\"outlinewidth\": 0, \"ticks\": \"\"}}, \"type\": \"scatterpolargl\"}], \"scatterternary\": [{\"marker\": {\"colorbar\": {\"outlinewidth\": 0, \"ticks\": \"\"}}, \"type\": \"scatterternary\"}], \"surface\": [{\"colorbar\": {\"outlinewidth\": 0, \"ticks\": \"\"}, \"colorscale\": [[0.0, \"#0d0887\"], [0.1111111111111111, \"#46039f\"], [0.2222222222222222, \"#7201a8\"], [0.3333333333333333, \"#9c179e\"], [0.4444444444444444, \"#bd3786\"], [0.5555555555555556, \"#d8576b\"], [0.6666666666666666, \"#ed7953\"], [0.7777777777777778, \"#fb9f3a\"], [0.8888888888888888, \"#fdca26\"], [1.0, \"#f0f921\"]], \"type\": \"surface\"}], \"table\": [{\"cells\": {\"fill\": {\"color\": \"#EBF0F8\"}, \"line\": {\"color\": \"white\"}}, \"header\": {\"fill\": {\"color\": \"#C8D4E3\"}, \"line\": {\"color\": \"white\"}}, \"type\": \"table\"}]}, \"layout\": {\"annotationdefaults\": {\"arrowcolor\": \"#2a3f5f\", \"arrowhead\": 0, \"arrowwidth\": 1}, \"coloraxis\": {\"colorbar\": {\"outlinewidth\": 0, \"ticks\": \"\"}}, \"colorscale\": {\"diverging\": [[0, \"#8e0152\"], [0.1, \"#c51b7d\"], [0.2, \"#de77ae\"], [0.3, \"#f1b6da\"], [0.4, \"#fde0ef\"], [0.5, \"#f7f7f7\"], [0.6, \"#e6f5d0\"], [0.7, \"#b8e186\"], [0.8, \"#7fbc41\"], [0.9, \"#4d9221\"], [1, \"#276419\"]], \"sequential\": [[0.0, \"#0d0887\"], [0.1111111111111111, \"#46039f\"], [0.2222222222222222, \"#7201a8\"], [0.3333333333333333, \"#9c179e\"], [0.4444444444444444, \"#bd3786\"], [0.5555555555555556, \"#d8576b\"], [0.6666666666666666, \"#ed7953\"], [0.7777777777777778, \"#fb9f3a\"], [0.8888888888888888, \"#fdca26\"], [1.0, \"#f0f921\"]], \"sequentialminus\": [[0.0, \"#0d0887\"], [0.1111111111111111, \"#46039f\"], [0.2222222222222222, \"#7201a8\"], [0.3333333333333333, \"#9c179e\"], [0.4444444444444444, \"#bd3786\"], [0.5555555555555556, \"#d8576b\"], [0.6666666666666666, \"#ed7953\"], [0.7777777777777778, \"#fb9f3a\"], [0.8888888888888888, \"#fdca26\"], [1.0, \"#f0f921\"]]}, \"colorway\": [\"#636efa\", \"#EF553B\", \"#00cc96\", \"#ab63fa\", \"#FFA15A\", \"#19d3f3\", \"#FF6692\", \"#B6E880\", \"#FF97FF\", \"#FECB52\"], \"font\": {\"color\": \"#2a3f5f\"}, \"geo\": {\"bgcolor\": \"white\", \"lakecolor\": \"white\", \"landcolor\": \"#E5ECF6\", \"showlakes\": true, \"showland\": true, \"subunitcolor\": \"white\"}, \"hoverlabel\": {\"align\": \"left\"}, \"hovermode\": \"closest\", \"mapbox\": {\"style\": \"light\"}, \"paper_bgcolor\": \"white\", \"plot_bgcolor\": \"#E5ECF6\", \"polar\": {\"angularaxis\": {\"gridcolor\": \"white\", \"linecolor\": \"white\", \"ticks\": \"\"}, \"bgcolor\": \"#E5ECF6\", \"radialaxis\": {\"gridcolor\": \"white\", \"linecolor\": \"white\", \"ticks\": \"\"}}, \"scene\": {\"xaxis\": {\"backgroundcolor\": \"#E5ECF6\", \"gridcolor\": \"white\", \"gridwidth\": 2, \"linecolor\": \"white\", \"showbackground\": true, \"ticks\": \"\", \"zerolinecolor\": \"white\"}, \"yaxis\": {\"backgroundcolor\": \"#E5ECF6\", \"gridcolor\": \"white\", \"gridwidth\": 2, \"linecolor\": \"white\", \"showbackground\": true, \"ticks\": \"\", \"zerolinecolor\": \"white\"}, \"zaxis\": {\"backgroundcolor\": \"#E5ECF6\", \"gridcolor\": \"white\", \"gridwidth\": 2, \"linecolor\": \"white\", \"showbackground\": true, \"ticks\": \"\", \"zerolinecolor\": \"white\"}}, \"shapedefaults\": {\"line\": {\"color\": \"#2a3f5f\"}}, \"ternary\": {\"aaxis\": {\"gridcolor\": \"white\", \"linecolor\": \"white\", \"ticks\": \"\"}, \"baxis\": {\"gridcolor\": \"white\", \"linecolor\": \"white\", \"ticks\": \"\"}, \"bgcolor\": \"#E5ECF6\", \"caxis\": {\"gridcolor\": \"white\", \"linecolor\": \"white\", \"ticks\": \"\"}}, \"title\": {\"x\": 0.05}, \"xaxis\": {\"automargin\": true, \"gridcolor\": \"white\", \"linecolor\": \"white\", \"ticks\": \"\", \"title\": {\"standoff\": 15}, \"zerolinecolor\": \"white\", \"zerolinewidth\": 2}, \"yaxis\": {\"automargin\": true, \"gridcolor\": \"white\", \"linecolor\": \"white\", \"ticks\": \"\", \"title\": {\"standoff\": 15}, \"zerolinecolor\": \"white\", \"zerolinewidth\": 2}}}, \"title\": {\"text\": \"Confusion Matrix (CAT)\", \"x\": 0.5}, \"width\": 400, \"xaxis\": {\"constrain\": \"domain\", \"dtick\": 1, \"scaleanchor\": \"y\", \"tick0\": 0, \"tickmode\": \"linear\", \"title\": {\"text\": \"Prediction\"}}, \"yaxis\": {\"autorange\": \"reversed\", \"constrain\": \"domain\", \"dtick\": 1, \"tick0\": 0, \"tickmode\": \"linear\", \"title\": {\"text\": \"Truth\"}}},\n",
              "                        {\"responsive\": true}\n",
              "                    ).then(function(){\n",
              "                            \n",
              "var gd = document.getElementById('8b403e14-fc94-4b7c-b0a2-bb64ac210dec');\n",
              "var x = new MutationObserver(function (mutations, observer) {{\n",
              "        var display = window.getComputedStyle(gd).display;\n",
              "        if (!display || display === 'none') {{\n",
              "            console.log([gd, 'removed!']);\n",
              "            Plotly.purge(gd);\n",
              "            observer.disconnect();\n",
              "        }}\n",
              "}});\n",
              "\n",
              "// Listen for the removal of the full notebook cells\n",
              "var notebookContainer = gd.closest('#notebook-container');\n",
              "if (notebookContainer) {{\n",
              "    x.observe(notebookContainer, {childList: true});\n",
              "}}\n",
              "\n",
              "// Listen for the clearing of the current output cell\n",
              "var outputEl = gd.closest('.output');\n",
              "if (outputEl) {{\n",
              "    x.observe(outputEl, {childList: true});\n",
              "}}\n",
              "\n",
              "                        })\n",
              "                };\n",
              "                \n",
              "            </script>\n",
              "        </div>\n",
              "</body>\n",
              "</html>"
            ]
          },
          "metadata": {}
        }
      ]
    },
    {
      "cell_type": "code",
      "source": [
        "from xgboost import XGBClassifier\n",
        "\n",
        "para_xgb = {'iterations':[200,500],\n",
        "            'learning_rate':[0.1,0.98],\n",
        "             'max_depth': [3,5,10],\n",
        "            'booster': ['gblinear','gbtree']\n",
        "           }\n",
        "\n",
        "model_xgb = GridSearchCV(estimator = XGBClassifier(),\n",
        "                    param_grid = para_xgb,\n",
        "                    cv=10,\n",
        "                    verbose=0,\n",
        "                    n_jobs=-1\n",
        "                   )\n",
        "\n",
        "model_xgb.fit(train_X_re,train_y_re)"
      ],
      "metadata": {
        "colab": {
          "base_uri": "https://localhost:8080/"
        },
        "id": "RH5WkHyNDdf6",
        "outputId": "f78921a4-bebc-4639-c783-2dc0a7df3483"
      },
      "execution_count": 70,
      "outputs": [
        {
          "output_type": "execute_result",
          "data": {
            "text/plain": [
              "GridSearchCV(cv=10, estimator=XGBClassifier(), n_jobs=-1,\n",
              "             param_grid={'booster': ['gblinear', 'gbtree'],\n",
              "                         'iterations': [200, 500], 'learning_rate': [0.1, 0.98],\n",
              "                         'max_depth': [3, 5, 10]})"
            ]
          },
          "metadata": {},
          "execution_count": 70
        }
      ]
    },
    {
      "cell_type": "code",
      "source": [
        "model_xgb.best_params_"
      ],
      "metadata": {
        "colab": {
          "base_uri": "https://localhost:8080/"
        },
        "id": "bzHbvI280mvw",
        "outputId": "eb4c20fa-3e64-4cd7-f111-3f3b6d1d3b61"
      },
      "execution_count": 71,
      "outputs": [
        {
          "output_type": "execute_result",
          "data": {
            "text/plain": [
              "{'booster': 'gbtree', 'iterations': 200, 'learning_rate': 0.1, 'max_depth': 10}"
            ]
          },
          "metadata": {},
          "execution_count": 71
        }
      ]
    },
    {
      "cell_type": "code",
      "source": [
        "cm_xgb,cr_xgb,auc_score_xgb,_  = test_eval(model_xgb,test_X,test_y)\n",
        "fpr_xgb, tpr_xgb, thresh_xgb = roc_curve(test_y, model_xgb.predict_proba(test_X)[:,1], pos_label = 1)\n",
        "precision_xgb, recall_xgb, _ = precision_recall_curve(test_y, model_xgb.predict_proba(test_X)[:,1],pos_label=1)"
      ],
      "metadata": {
        "colab": {
          "base_uri": "https://localhost:8080/"
        },
        "id": "qYVG0kDM3yLv",
        "outputId": "2e0c34b1-389a-41b5-b085-a0ac5e2b5a0d"
      },
      "execution_count": 72,
      "outputs": [
        {
          "output_type": "stream",
          "name": "stdout",
          "text": [
            "Confusion Matrix\n",
            "====================\n",
            "[[832 201]\n",
            " [133 241]] \n",
            "\n",
            "Classification Report\n",
            "====================\n",
            "              precision    recall  f1-score   support\n",
            "\n",
            "           0       0.86      0.81      0.83      1033\n",
            "           1       0.55      0.64      0.59       374\n",
            "\n",
            "    accuracy                           0.76      1407\n",
            "   macro avg       0.70      0.72      0.71      1407\n",
            "weighted avg       0.78      0.76      0.77      1407\n",
            "\n"
          ]
        }
      ]
    },
    {
      "cell_type": "code",
      "source": [
        "plot_cmatrix(cm_xgb, name='XGB')"
      ],
      "metadata": {
        "colab": {
          "base_uri": "https://localhost:8080/",
          "height": 417
        },
        "id": "xBm8cdbK4Epn",
        "outputId": "8cf91eb4-fcb0-4079-8c9c-1cd44eac484e"
      },
      "execution_count": 73,
      "outputs": [
        {
          "output_type": "display_data",
          "data": {
            "text/html": [
              "<html>\n",
              "<head><meta charset=\"utf-8\" /></head>\n",
              "<body>\n",
              "    <div>\n",
              "            <script src=\"https://cdnjs.cloudflare.com/ajax/libs/mathjax/2.7.5/MathJax.js?config=TeX-AMS-MML_SVG\"></script><script type=\"text/javascript\">if (window.MathJax) {MathJax.Hub.Config({SVG: {font: \"STIX-Web\"}});}</script>\n",
              "                <script type=\"text/javascript\">window.PlotlyConfig = {MathJaxConfig: 'local'};</script>\n",
              "        <script src=\"https://cdn.plot.ly/plotly-latest.min.js\"></script>    \n",
              "            <div id=\"be373c1a-4deb-4201-8075-d9a29be57d9a\" class=\"plotly-graph-div\" style=\"height:400px; width:400px;\"></div>\n",
              "            <script type=\"text/javascript\">\n",
              "                \n",
              "                    window.PLOTLYENV=window.PLOTLYENV || {};\n",
              "                    \n",
              "                if (document.getElementById(\"be373c1a-4deb-4201-8075-d9a29be57d9a\")) {\n",
              "                    Plotly.newPlot(\n",
              "                        'be373c1a-4deb-4201-8075-d9a29be57d9a',\n",
              "                        [{\"coloraxis\": \"coloraxis\", \"type\": \"heatmap\", \"z\": [[832, 201], [133, 241]]}],\n",
              "                        {\"annotations\": [{\"font\": {\"color\": \"black\", \"size\": 12}, \"showarrow\": false, \"text\": \"832\", \"x\": 0, \"y\": 0}, {\"font\": {\"color\": \"black\", \"size\": 12}, \"showarrow\": false, \"text\": \"201\", \"x\": 1, \"y\": 0}, {\"font\": {\"color\": \"black\", \"size\": 12}, \"showarrow\": false, \"text\": \"133\", \"x\": 0, \"y\": 1}, {\"font\": {\"color\": \"black\", \"size\": 12}, \"showarrow\": false, \"text\": \"241\", \"x\": 1, \"y\": 1}], \"coloraxis\": {\"colorscale\": [[0.0, \"peachpuff\"], [0.5, \"lime\"], [1.0, \"green\"]]}, \"height\": 400, \"margin\": {\"t\": 60}, \"template\": {\"data\": {\"bar\": [{\"error_x\": {\"color\": \"#2a3f5f\"}, \"error_y\": {\"color\": \"#2a3f5f\"}, \"marker\": {\"line\": {\"color\": \"#E5ECF6\", \"width\": 0.5}}, \"type\": \"bar\"}], \"barpolar\": [{\"marker\": {\"line\": {\"color\": \"#E5ECF6\", \"width\": 0.5}}, \"type\": \"barpolar\"}], \"carpet\": [{\"aaxis\": {\"endlinecolor\": \"#2a3f5f\", \"gridcolor\": \"white\", \"linecolor\": \"white\", \"minorgridcolor\": \"white\", \"startlinecolor\": \"#2a3f5f\"}, \"baxis\": {\"endlinecolor\": \"#2a3f5f\", \"gridcolor\": \"white\", \"linecolor\": \"white\", \"minorgridcolor\": \"white\", \"startlinecolor\": \"#2a3f5f\"}, \"type\": \"carpet\"}], \"choropleth\": [{\"colorbar\": {\"outlinewidth\": 0, \"ticks\": \"\"}, \"type\": \"choropleth\"}], \"contour\": [{\"colorbar\": {\"outlinewidth\": 0, \"ticks\": \"\"}, \"colorscale\": [[0.0, \"#0d0887\"], [0.1111111111111111, \"#46039f\"], [0.2222222222222222, \"#7201a8\"], [0.3333333333333333, \"#9c179e\"], [0.4444444444444444, \"#bd3786\"], [0.5555555555555556, \"#d8576b\"], [0.6666666666666666, \"#ed7953\"], [0.7777777777777778, \"#fb9f3a\"], [0.8888888888888888, \"#fdca26\"], [1.0, \"#f0f921\"]], \"type\": \"contour\"}], \"contourcarpet\": [{\"colorbar\": {\"outlinewidth\": 0, \"ticks\": \"\"}, \"type\": \"contourcarpet\"}], \"heatmap\": [{\"colorbar\": {\"outlinewidth\": 0, \"ticks\": \"\"}, \"colorscale\": [[0.0, \"#0d0887\"], [0.1111111111111111, \"#46039f\"], [0.2222222222222222, \"#7201a8\"], [0.3333333333333333, \"#9c179e\"], [0.4444444444444444, \"#bd3786\"], [0.5555555555555556, \"#d8576b\"], [0.6666666666666666, \"#ed7953\"], [0.7777777777777778, \"#fb9f3a\"], [0.8888888888888888, \"#fdca26\"], [1.0, \"#f0f921\"]], \"type\": \"heatmap\"}], \"heatmapgl\": [{\"colorbar\": {\"outlinewidth\": 0, \"ticks\": \"\"}, \"colorscale\": [[0.0, \"#0d0887\"], [0.1111111111111111, \"#46039f\"], [0.2222222222222222, \"#7201a8\"], [0.3333333333333333, \"#9c179e\"], [0.4444444444444444, \"#bd3786\"], [0.5555555555555556, \"#d8576b\"], [0.6666666666666666, \"#ed7953\"], [0.7777777777777778, \"#fb9f3a\"], [0.8888888888888888, \"#fdca26\"], [1.0, \"#f0f921\"]], \"type\": \"heatmapgl\"}], \"histogram\": [{\"marker\": {\"colorbar\": {\"outlinewidth\": 0, \"ticks\": \"\"}}, \"type\": \"histogram\"}], \"histogram2d\": [{\"colorbar\": {\"outlinewidth\": 0, \"ticks\": \"\"}, \"colorscale\": [[0.0, \"#0d0887\"], [0.1111111111111111, \"#46039f\"], [0.2222222222222222, \"#7201a8\"], [0.3333333333333333, \"#9c179e\"], [0.4444444444444444, \"#bd3786\"], [0.5555555555555556, \"#d8576b\"], [0.6666666666666666, \"#ed7953\"], [0.7777777777777778, \"#fb9f3a\"], [0.8888888888888888, \"#fdca26\"], [1.0, \"#f0f921\"]], \"type\": \"histogram2d\"}], \"histogram2dcontour\": [{\"colorbar\": {\"outlinewidth\": 0, \"ticks\": \"\"}, \"colorscale\": [[0.0, \"#0d0887\"], [0.1111111111111111, \"#46039f\"], [0.2222222222222222, \"#7201a8\"], [0.3333333333333333, \"#9c179e\"], [0.4444444444444444, \"#bd3786\"], [0.5555555555555556, \"#d8576b\"], [0.6666666666666666, \"#ed7953\"], [0.7777777777777778, \"#fb9f3a\"], [0.8888888888888888, \"#fdca26\"], [1.0, \"#f0f921\"]], \"type\": \"histogram2dcontour\"}], \"mesh3d\": [{\"colorbar\": {\"outlinewidth\": 0, \"ticks\": \"\"}, \"type\": \"mesh3d\"}], \"parcoords\": [{\"line\": {\"colorbar\": {\"outlinewidth\": 0, \"ticks\": \"\"}}, \"type\": \"parcoords\"}], \"pie\": [{\"automargin\": true, \"type\": \"pie\"}], \"scatter\": [{\"marker\": {\"colorbar\": {\"outlinewidth\": 0, \"ticks\": \"\"}}, \"type\": \"scatter\"}], \"scatter3d\": [{\"line\": {\"colorbar\": {\"outlinewidth\": 0, \"ticks\": \"\"}}, \"marker\": {\"colorbar\": {\"outlinewidth\": 0, \"ticks\": \"\"}}, \"type\": \"scatter3d\"}], \"scattercarpet\": [{\"marker\": {\"colorbar\": {\"outlinewidth\": 0, \"ticks\": \"\"}}, \"type\": \"scattercarpet\"}], \"scattergeo\": [{\"marker\": {\"colorbar\": {\"outlinewidth\": 0, \"ticks\": \"\"}}, \"type\": \"scattergeo\"}], \"scattergl\": [{\"marker\": {\"colorbar\": {\"outlinewidth\": 0, \"ticks\": \"\"}}, \"type\": \"scattergl\"}], \"scattermapbox\": [{\"marker\": {\"colorbar\": {\"outlinewidth\": 0, \"ticks\": \"\"}}, \"type\": \"scattermapbox\"}], \"scatterpolar\": [{\"marker\": {\"colorbar\": {\"outlinewidth\": 0, \"ticks\": \"\"}}, \"type\": \"scatterpolar\"}], \"scatterpolargl\": [{\"marker\": {\"colorbar\": {\"outlinewidth\": 0, \"ticks\": \"\"}}, \"type\": \"scatterpolargl\"}], \"scatterternary\": [{\"marker\": {\"colorbar\": {\"outlinewidth\": 0, \"ticks\": \"\"}}, \"type\": \"scatterternary\"}], \"surface\": [{\"colorbar\": {\"outlinewidth\": 0, \"ticks\": \"\"}, \"colorscale\": [[0.0, \"#0d0887\"], [0.1111111111111111, \"#46039f\"], [0.2222222222222222, \"#7201a8\"], [0.3333333333333333, \"#9c179e\"], [0.4444444444444444, \"#bd3786\"], [0.5555555555555556, \"#d8576b\"], [0.6666666666666666, \"#ed7953\"], [0.7777777777777778, \"#fb9f3a\"], [0.8888888888888888, \"#fdca26\"], [1.0, \"#f0f921\"]], \"type\": \"surface\"}], \"table\": [{\"cells\": {\"fill\": {\"color\": \"#EBF0F8\"}, \"line\": {\"color\": \"white\"}}, \"header\": {\"fill\": {\"color\": \"#C8D4E3\"}, \"line\": {\"color\": \"white\"}}, \"type\": \"table\"}]}, \"layout\": {\"annotationdefaults\": {\"arrowcolor\": \"#2a3f5f\", \"arrowhead\": 0, \"arrowwidth\": 1}, \"coloraxis\": {\"colorbar\": {\"outlinewidth\": 0, \"ticks\": \"\"}}, \"colorscale\": {\"diverging\": [[0, \"#8e0152\"], [0.1, \"#c51b7d\"], [0.2, \"#de77ae\"], [0.3, \"#f1b6da\"], [0.4, \"#fde0ef\"], [0.5, \"#f7f7f7\"], [0.6, \"#e6f5d0\"], [0.7, \"#b8e186\"], [0.8, \"#7fbc41\"], [0.9, \"#4d9221\"], [1, \"#276419\"]], \"sequential\": [[0.0, \"#0d0887\"], [0.1111111111111111, \"#46039f\"], [0.2222222222222222, \"#7201a8\"], [0.3333333333333333, \"#9c179e\"], [0.4444444444444444, \"#bd3786\"], [0.5555555555555556, \"#d8576b\"], [0.6666666666666666, \"#ed7953\"], [0.7777777777777778, \"#fb9f3a\"], [0.8888888888888888, \"#fdca26\"], [1.0, \"#f0f921\"]], \"sequentialminus\": [[0.0, \"#0d0887\"], [0.1111111111111111, \"#46039f\"], [0.2222222222222222, \"#7201a8\"], [0.3333333333333333, \"#9c179e\"], [0.4444444444444444, \"#bd3786\"], [0.5555555555555556, \"#d8576b\"], [0.6666666666666666, \"#ed7953\"], [0.7777777777777778, \"#fb9f3a\"], [0.8888888888888888, \"#fdca26\"], [1.0, \"#f0f921\"]]}, \"colorway\": [\"#636efa\", \"#EF553B\", \"#00cc96\", \"#ab63fa\", \"#FFA15A\", \"#19d3f3\", \"#FF6692\", \"#B6E880\", \"#FF97FF\", \"#FECB52\"], \"font\": {\"color\": \"#2a3f5f\"}, \"geo\": {\"bgcolor\": \"white\", \"lakecolor\": \"white\", \"landcolor\": \"#E5ECF6\", \"showlakes\": true, \"showland\": true, \"subunitcolor\": \"white\"}, \"hoverlabel\": {\"align\": \"left\"}, \"hovermode\": \"closest\", \"mapbox\": {\"style\": \"light\"}, \"paper_bgcolor\": \"white\", \"plot_bgcolor\": \"#E5ECF6\", \"polar\": {\"angularaxis\": {\"gridcolor\": \"white\", \"linecolor\": \"white\", \"ticks\": \"\"}, \"bgcolor\": \"#E5ECF6\", \"radialaxis\": {\"gridcolor\": \"white\", \"linecolor\": \"white\", \"ticks\": \"\"}}, \"scene\": {\"xaxis\": {\"backgroundcolor\": \"#E5ECF6\", \"gridcolor\": \"white\", \"gridwidth\": 2, \"linecolor\": \"white\", \"showbackground\": true, \"ticks\": \"\", \"zerolinecolor\": \"white\"}, \"yaxis\": {\"backgroundcolor\": \"#E5ECF6\", \"gridcolor\": \"white\", \"gridwidth\": 2, \"linecolor\": \"white\", \"showbackground\": true, \"ticks\": \"\", \"zerolinecolor\": \"white\"}, \"zaxis\": {\"backgroundcolor\": \"#E5ECF6\", \"gridcolor\": \"white\", \"gridwidth\": 2, \"linecolor\": \"white\", \"showbackground\": true, \"ticks\": \"\", \"zerolinecolor\": \"white\"}}, \"shapedefaults\": {\"line\": {\"color\": \"#2a3f5f\"}}, \"ternary\": {\"aaxis\": {\"gridcolor\": \"white\", \"linecolor\": \"white\", \"ticks\": \"\"}, \"baxis\": {\"gridcolor\": \"white\", \"linecolor\": \"white\", \"ticks\": \"\"}, \"bgcolor\": \"#E5ECF6\", \"caxis\": {\"gridcolor\": \"white\", \"linecolor\": \"white\", \"ticks\": \"\"}}, \"title\": {\"x\": 0.05}, \"xaxis\": {\"automargin\": true, \"gridcolor\": \"white\", \"linecolor\": \"white\", \"ticks\": \"\", \"title\": {\"standoff\": 15}, \"zerolinecolor\": \"white\", \"zerolinewidth\": 2}, \"yaxis\": {\"automargin\": true, \"gridcolor\": \"white\", \"linecolor\": \"white\", \"ticks\": \"\", \"title\": {\"standoff\": 15}, \"zerolinecolor\": \"white\", \"zerolinewidth\": 2}}}, \"title\": {\"text\": \"Confusion Matrix (XGB)\", \"x\": 0.5}, \"width\": 400, \"xaxis\": {\"constrain\": \"domain\", \"dtick\": 1, \"scaleanchor\": \"y\", \"tick0\": 0, \"tickmode\": \"linear\", \"title\": {\"text\": \"Prediction\"}}, \"yaxis\": {\"autorange\": \"reversed\", \"constrain\": \"domain\", \"dtick\": 1, \"tick0\": 0, \"tickmode\": \"linear\", \"title\": {\"text\": \"Truth\"}}},\n",
              "                        {\"responsive\": true}\n",
              "                    ).then(function(){\n",
              "                            \n",
              "var gd = document.getElementById('be373c1a-4deb-4201-8075-d9a29be57d9a');\n",
              "var x = new MutationObserver(function (mutations, observer) {{\n",
              "        var display = window.getComputedStyle(gd).display;\n",
              "        if (!display || display === 'none') {{\n",
              "            console.log([gd, 'removed!']);\n",
              "            Plotly.purge(gd);\n",
              "            observer.disconnect();\n",
              "        }}\n",
              "}});\n",
              "\n",
              "// Listen for the removal of the full notebook cells\n",
              "var notebookContainer = gd.closest('#notebook-container');\n",
              "if (notebookContainer) {{\n",
              "    x.observe(notebookContainer, {childList: true});\n",
              "}}\n",
              "\n",
              "// Listen for the clearing of the current output cell\n",
              "var outputEl = gd.closest('.output');\n",
              "if (outputEl) {{\n",
              "    x.observe(outputEl, {childList: true});\n",
              "}}\n",
              "\n",
              "                        })\n",
              "                };\n",
              "                \n",
              "            </script>\n",
              "        </div>\n",
              "</body>\n",
              "</html>"
            ]
          },
          "metadata": {}
        }
      ]
    },
    {
      "cell_type": "markdown",
      "source": [
        "F1-score is a weighted average or harmonic mean of precision and recall, where the relative contribution of precision and recall to the F1 score are equal. It merges these precision and recall metrics into a single measure that we can use to compare models.\n",
        "F1 score reaches its best value at 1 and worst score at 0."
      ],
      "metadata": {
        "id": "m3nq3xTAhLsd"
      }
    },
    {
      "cell_type": "code",
      "source": [
        "def extractCR(crdict, id):\n",
        "  rdigit = 4\n",
        "  p = round(crdict['macro avg']['precision'],rdigit)\n",
        "  r = round(crdict['macro avg']['recall'],rdigit)\n",
        "  f = round(crdict['macro avg']['f1-score'],rdigit)\n",
        "  return pd.DataFrame({\n",
        "                    'precision': [p],\n",
        "                    'recall': [r],\n",
        "                    'f1-score': [f]\n",
        "                     }, index = [id])\n"
      ],
      "metadata": {
        "id": "qJXj79O7NnZU"
      },
      "execution_count": 74,
      "outputs": []
    },
    {
      "cell_type": "code",
      "source": [
        "model_dict = {'LR':cr_lr,'GNB':cr_gnb,'NN':cr_nn,'KNN':cr_knn,'DT': cr_dt,\n",
        "              'SVC': cr_svc, 'RF': cr_rf, 'ADA':cr_ada,'CAT': cr_cat, 'SGB': cr_sgb, 'XGB':cr_xgb}\n",
        "\n",
        "df_lst = []\n",
        "for k,v in model_dict.items():\n",
        "  tmp = extractCR(v,k)\n",
        "  df_lst.append(tmp) \n",
        "  \n",
        "  \n",
        "results = pd.concat(df_lst,axis=0)\n",
        "print(results)"
      ],
      "metadata": {
        "colab": {
          "base_uri": "https://localhost:8080/"
        },
        "id": "uO4vZezZJ7VP",
        "outputId": "2f43c86d-39cd-4d20-f74d-541242dc0c41"
      },
      "execution_count": 75,
      "outputs": [
        {
          "output_type": "stream",
          "name": "stdout",
          "text": [
            "     precision  recall  f1-score\n",
            "LR      0.7269  0.7709    0.7377\n",
            "GNB     0.6875  0.7402    0.6702\n",
            "NN      0.7260  0.7373    0.7311\n",
            "KNN     0.6784  0.7232    0.6791\n",
            "DT      0.6826  0.7250    0.6869\n",
            "SVC     0.6979  0.7331    0.7070\n",
            "RF      0.7144  0.7384    0.7233\n",
            "ADA     0.7198  0.7725    0.7260\n",
            "CAT     0.7255  0.7719    0.7356\n",
            "SGB     0.7128  0.7386    0.7221\n",
            "XGB     0.7037  0.7249    0.7118\n"
          ]
        }
      ]
    },
    {
      "cell_type": "markdown",
      "source": [
        "### Evaluation Metrics (Ranking Metrics)\n",
        "\n",
        "  * ROC AUC score\n",
        "  * ROC Curve\n",
        "  * Precision Recall Curve\n",
        "  * Precision Recall AUC score"
      ],
      "metadata": {
        "id": "UZQLgoPgrJ4m"
      }
    },
    {
      "cell_type": "markdown",
      "source": [
        "### Receiver Operating Characteristics (ROC) Curves\n",
        "\n",
        "\n",
        "ROC Curves summarize the trade-off between the true positive rate and false positive rate for a predictive model using different probability thresholds.  \n"
      ],
      "metadata": {
        "id": "gVnXbqny9pwX"
      }
    },
    {
      "cell_type": "code",
      "source": [
        "fig = go.Figure()\n",
        "\n",
        "fig.add_trace(go.Scatter(x=fpr_lr,y=tpr_lr,mode='lines',name='LR'))\n",
        "fig.add_trace(go.Scatter(x=fpr_gnb,y=tpr_gnb,mode='lines',name='GNB'))\n",
        "\n",
        "fig.add_trace(go.Scatter(x=fpr_nn,y=tpr_nn,mode='lines',name='NN'))\n",
        "fig.add_trace(go.Scatter(x=fpr_knn,y=tpr_knn,mode='lines',name='KNN'))\n",
        "fig.add_trace(go.Scatter(x=fpr_dt,y=tpr_dt,mode='lines',name='DT'))\n",
        "fig.add_trace(go.Scatter(x=fpr_svc,y=tpr_svc,mode='lines',name='SVC'))\n",
        "\n",
        "fig.add_trace(go.Scatter(x=fpr_rf,y=tpr_rf,mode='lines',name='RF'))\n",
        "fig.add_trace(go.Scatter(x=fpr_ada,y=tpr_ada,mode='lines',name='ADA'))\n",
        "fig.add_trace(go.Scatter(x=fpr_cat,y=tpr_cat,mode='lines',name='CAT'))\n",
        "fig.add_trace(go.Scatter(x=fpr_sgb,y=tpr_sgb,mode='lines',name='SGB'))\n",
        "fig.add_trace(go.Scatter(x=fpr_xgb,y=tpr_xgb,mode='lines',name='XGB'))\n",
        "fig.update_layout(title='ROC',\n",
        "                   xaxis_title='False Positive Rate (Sensitivity)',\n",
        "                   yaxis_title='True Positive Rate (1 - Specificity)', title_x = 0.5,\n",
        "                   width = 750, height=500,\n",
        "                 )\n",
        "fig.show()"
      ],
      "metadata": {
        "colab": {
          "base_uri": "https://localhost:8080/",
          "height": 517
        },
        "id": "gqkje0ghptsW",
        "outputId": "35df45fe-b02f-4dda-9819-8d966e7613e5"
      },
      "execution_count": 76,
      "outputs": [
        {
          "output_type": "display_data",
          "data": {
            "text/html": [
              "<html>\n",
              "<head><meta charset=\"utf-8\" /></head>\n",
              "<body>\n",
              "    <div>\n",
              "            <script src=\"https://cdnjs.cloudflare.com/ajax/libs/mathjax/2.7.5/MathJax.js?config=TeX-AMS-MML_SVG\"></script><script type=\"text/javascript\">if (window.MathJax) {MathJax.Hub.Config({SVG: {font: \"STIX-Web\"}});}</script>\n",
              "                <script type=\"text/javascript\">window.PlotlyConfig = {MathJaxConfig: 'local'};</script>\n",
              "        <script src=\"https://cdn.plot.ly/plotly-latest.min.js\"></script>    \n",
              "            <div id=\"7d78b0f9-51e3-4e8c-8d7e-76d19d933535\" class=\"plotly-graph-div\" style=\"height:500px; width:750px;\"></div>\n",
              "            <script type=\"text/javascript\">\n",
              "                \n",
              "                    window.PLOTLYENV=window.PLOTLYENV || {};\n",
              "                    \n",
              "                if (document.getElementById(\"7d78b0f9-51e3-4e8c-8d7e-76d19d933535\")) {\n",
              "                    Plotly.newPlot(\n",
              "                        '7d78b0f9-51e3-4e8c-8d7e-76d19d933535',\n",
              "                        [{\"mode\": \"lines\", \"name\": \"LR\", \"type\": \"scatter\", \"x\": [0.0, 0.000968054211035818, 0.000968054211035818, 0.001936108422071636, 0.001936108422071636, 0.002904162633107454, 0.002904162633107454, 0.003872216844143272, 0.003872216844143272, 0.00484027105517909, 0.00484027105517909, 0.008712487899322363, 0.008712487899322363, 0.00968054211035818, 0.00968054211035818, 0.011616650532429816, 0.011616650532429816, 0.012584704743465635, 0.012584704743465635, 0.01452081316553727, 0.01452081316553727, 0.016456921587608905, 0.016456921587608905, 0.017424975798644726, 0.017424975798644726, 0.018393030009680542, 0.018393030009680542, 0.01936108422071636, 0.01936108422071636, 0.02032913843175218, 0.02032913843175218, 0.022265246853823813, 0.022265246853823813, 0.023233301064859633, 0.023233301064859633, 0.02516940948693127, 0.02516940948693127, 0.028073572120038724, 0.028073572120038724, 0.030977734753146177, 0.030977734753146177, 0.031945788964181994, 0.031945788964181994, 0.03291384317521781, 0.03291384317521781, 0.03388189738625363, 0.03388189738625363, 0.03484995159728945, 0.03484995159728945, 0.03581800580832527, 0.03581800580832527, 0.0377541142303969, 0.0377541142303969, 0.04065827686350436, 0.04065827686350436, 0.041626331074540175, 0.041626331074540175, 0.04259438528557599, 0.04259438528557599, 0.04356243949661181, 0.04356243949661181, 0.044530493707647625, 0.044530493707647625, 0.04549854791868345, 0.04549854791868345, 0.046466602129719266, 0.046466602129719266, 0.049370764762826716, 0.049370764762826716, 0.05033881897386254, 0.05033881897386254, 0.05227492739593417, 0.05227492739593417, 0.05421103581800581, 0.05421103581800581, 0.05614714424007745, 0.05614714424007745, 0.057115198451113264, 0.057115198451113264, 0.05808325266214908, 0.05808325266214908, 0.0590513068731849, 0.0590513068731849, 0.06098741529525654, 0.06098741529525654, 0.06292352371732816, 0.06292352371732816, 0.06389157792836399, 0.06389157792836399, 0.06485963213939981, 0.06485963213939981, 0.06582768635043562, 0.06582768635043562, 0.07260406582768635, 0.07260406582768635, 0.07357212003872217, 0.07357212003872217, 0.0755082284607938, 0.0755082284607938, 0.07647628267182963, 0.07647628267182963, 0.07841239109390126, 0.07841239109390126, 0.08131655372700872, 0.08131655372700872, 0.08325266214908035, 0.08325266214908035, 0.08422071636011616, 0.08422071636011616, 0.08615682478218781, 0.08615682478218781, 0.08712487899322362, 0.08712487899322362, 0.08809293320425944, 0.08809293320425944, 0.08906098741529525, 0.08906098741529525, 0.09002904162633107, 0.09002904162633107, 0.09196515004840271, 0.09196515004840271, 0.09293320425943853, 0.09293320425943853, 0.09486931268151017, 0.09486931268151017, 0.09874152952565343, 0.09874152952565343, 0.10067763794772508, 0.10067763794772508, 0.10551790900290416, 0.10551790900290416, 0.1074540174249758, 0.1074540174249758, 0.10842207163601161, 0.10842207163601161, 0.11035818005808325, 0.11035818005808325, 0.11132623426911907, 0.11132623426911907, 0.11423039690222653, 0.11423039690222653, 0.11519845111326234, 0.11519845111326234, 0.11616650532429816, 0.11616650532429816, 0.11907066795740562, 0.11907066795740562, 0.12003872216844143, 0.12003872216844143, 0.12100677637947725, 0.12100677637947725, 0.12197483059051308, 0.12197483059051308, 0.12294288480154889, 0.12294288480154889, 0.12391093901258471, 0.12391093901258471, 0.12584704743465633, 0.12584704743465633, 0.12971926427879962, 0.12971926427879962, 0.13165537270087124, 0.13165537270087124, 0.1335914811229429, 0.1335914811229429, 0.13649564375605033, 0.13649564375605033, 0.13843175217812198, 0.13843175217812198, 0.1393998063891578, 0.1393998063891578, 0.1403678606001936, 0.1403678606001936, 0.14230396902226525, 0.14230396902226525, 0.14327202323330107, 0.14327202323330107, 0.14811229428848016, 0.14811229428848016, 0.14908034849951599, 0.14908034849951599, 0.15004840271055178, 0.15004840271055178, 0.1510164569215876, 0.1510164569215876, 0.15198451113262343, 0.15198451113262343, 0.15295256534365925, 0.15295256534365925, 0.15488867376573087, 0.15488867376573087, 0.1558567279767667, 0.1558567279767667, 0.15972894482090996, 0.15972894482090996, 0.1606969990319458, 0.1606969990319458, 0.1616650532429816, 0.1616650532429816, 0.16263310745401743, 0.16263310745401743, 0.16360116166505323, 0.16360116166505323, 0.16747337850919652, 0.16747337850919652, 0.17521781219748306, 0.17521781219748306, 0.17909002904162633, 0.17909002904162633, 0.1819941916747338, 0.1819941916747338, 0.1868344627299129, 0.1868344627299129, 0.18780251694094868, 0.18780251694094868, 0.1887705711519845, 0.1887705711519845, 0.19070667957405615, 0.19070667957405615, 0.19167473378509198, 0.19167473378509198, 0.19554695062923524, 0.19554695062923524, 0.20038722168441434, 0.20038722168441434, 0.20232333010648595, 0.20232333010648595, 0.2042594385285576, 0.2042594385285576, 0.20522749273959343, 0.20522749273959343, 0.20619554695062922, 0.20619554695062922, 0.20716360116166505, 0.20716360116166505, 0.20813165537270087, 0.20813165537270087, 0.21006776379477252, 0.21006776379477252, 0.2110358180058083, 0.2110358180058083, 0.2158760890609874, 0.2158760890609874, 0.21684414327202323, 0.21684414327202323, 0.2197483059051307, 0.2197483059051307, 0.22749273959341723, 0.22749273959341723, 0.2313649564375605, 0.2313649564375605, 0.23233301064859632, 0.23233301064859632, 0.23330106485963215, 0.23330106485963215, 0.2371732817037754, 0.2371732817037754, 0.24104549854791868, 0.24104549854791868, 0.2468538238141336, 0.2468538238141336, 0.24782187802516942, 0.24782187802516942, 0.24878993223620524, 0.24878993223620524, 0.25072604065827686, 0.25072604065827686, 0.25169409486931266, 0.25169409486931266, 0.26137463697967084, 0.26137463697967084, 0.2671829622458858, 0.2671829622458858, 0.27202323330106487, 0.27202323330106487, 0.28267182962245885, 0.28267182962245885, 0.2846079380445305, 0.2846079380445305, 0.29138431752178123, 0.29138431752178123, 0.2942884801548887, 0.2942884801548887, 0.3068731848983543, 0.3068731848983543, 0.30784123910939015, 0.30784123910939015, 0.3117134559535334, 0.3117134559535334, 0.31364956437560504, 0.31364956437560504, 0.3213939980638916, 0.3213939980638916, 0.3233301064859632, 0.3233301064859632, 0.33010648596321396, 0.33010648596321396, 0.33107454017424975, 0.33107454017424975, 0.33591481122942884, 0.33591481122942884, 0.3388189738625363, 0.3388189738625363, 0.35237173281703776, 0.35237173281703776, 0.35333978702807356, 0.35333978702807356, 0.3543078412391094, 0.3543078412391094, 0.36689254598257504, 0.36689254598257504, 0.3707647628267183, 0.3707647628267183, 0.377541142303969, 0.377541142303969, 0.38044530493707646, 0.38044530493707646, 0.38334946757018395, 0.38334946757018395, 0.3872216844143272, 0.3872216844143272, 0.3910939012584705, 0.3910939012584705, 0.3959341723136496, 0.3959341723136496, 0.3969022265246854, 0.3969022265246854, 0.398838334946757, 0.398838334946757, 0.3998063891577928, 0.3998063891577928, 0.40561471442400776, 0.40561471442400776, 0.4075508228460794, 0.4075508228460794, 0.41239109390125844, 0.41239109390125844, 0.4220716360116166, 0.4220716360116166, 0.4462729912875121, 0.4462729912875121, 0.4482090997095837, 0.4482090997095837, 0.45014520813165537, 0.45014520813165537, 0.4569215876089061, 0.4569215876089061, 0.46369796708615685, 0.46369796708615685, 0.4743465634075508, 0.4743465634075508, 0.48693126815101645, 0.48693126815101645, 0.49661181026137463, 0.49661181026137463, 0.5004840271055179, 0.5004840271055179, 0.5179090029041626, 0.5179090029041626, 0.5227492739593417, 0.5227492739593417, 0.547918683446273, 0.547918683446273, 0.5517909002904162, 0.5517909002904162, 0.5856727976766699, 0.5856727976766699, 0.5982575024201355, 0.5982575024201355, 0.6176185866408519, 0.6176185866408519, 0.6379477250726041, 0.6379477250726041, 0.6418199419167473, 0.6418199419167473, 0.6505324298160697, 0.6505324298160697, 0.718296224588577, 0.718296224588577, 0.7212003872216844, 0.7212003872216844, 0.723136495643756, 0.723136495643756, 0.8412391093901258, 0.8412391093901258, 1.0], \"y\": [0.0, 0.0, 0.01871657754010695, 0.01871657754010695, 0.026737967914438502, 0.026737967914438502, 0.05080213903743316, 0.05080213903743316, 0.06149732620320856, 0.06149732620320856, 0.06417112299465241, 0.06417112299465241, 0.06684491978609626, 0.06684491978609626, 0.07219251336898395, 0.07219251336898395, 0.08288770053475936, 0.08288770053475936, 0.0855614973262032, 0.0855614973262032, 0.0962566844919786, 0.0962566844919786, 0.12566844919786097, 0.12566844919786097, 0.15240641711229946, 0.15240641711229946, 0.1657754010695187, 0.1657754010695187, 0.1711229946524064, 0.1711229946524064, 0.18181818181818182, 0.18181818181818182, 0.18449197860962566, 0.18449197860962566, 0.18716577540106952, 0.18716577540106952, 0.20320855614973263, 0.20320855614973263, 0.20588235294117646, 0.20588235294117646, 0.21122994652406418, 0.21122994652406418, 0.21657754010695188, 0.21657754010695188, 0.22459893048128343, 0.22459893048128343, 0.22727272727272727, 0.22727272727272727, 0.22994652406417113, 0.22994652406417113, 0.23529411764705882, 0.23529411764705882, 0.23796791443850268, 0.23796791443850268, 0.24064171122994651, 0.24064171122994651, 0.24331550802139038, 0.24331550802139038, 0.2540106951871658, 0.2540106951871658, 0.25668449197860965, 0.25668449197860965, 0.25935828877005346, 0.25935828877005346, 0.2647058823529412, 0.2647058823529412, 0.2700534759358289, 0.2700534759358289, 0.2807486631016043, 0.2807486631016043, 0.28342245989304815, 0.28342245989304815, 0.30213903743315507, 0.30213903743315507, 0.3074866310160428, 0.3074866310160428, 0.3181818181818182, 0.3181818181818182, 0.32085561497326204, 0.32085561497326204, 0.3235294117647059, 0.3235294117647059, 0.33689839572192515, 0.33689839572192515, 0.339572192513369, 0.339572192513369, 0.3449197860962567, 0.3449197860962567, 0.3582887700534759, 0.3582887700534759, 0.36363636363636365, 0.36363636363636365, 0.3663101604278075, 0.3663101604278075, 0.37433155080213903, 0.37433155080213903, 0.37967914438502676, 0.37967914438502676, 0.38235294117647056, 0.38235294117647056, 0.3850267379679144, 0.3850267379679144, 0.39572192513368987, 0.39572192513368987, 0.4090909090909091, 0.4090909090909091, 0.4197860962566845, 0.4197860962566845, 0.42245989304812837, 0.42245989304812837, 0.42513368983957217, 0.42513368983957217, 0.43315508021390375, 0.43315508021390375, 0.4385026737967914, 0.4385026737967914, 0.446524064171123, 0.446524064171123, 0.45187165775401067, 0.45187165775401067, 0.4572192513368984, 0.4572192513368984, 0.4679144385026738, 0.4679144385026738, 0.47058823529411764, 0.47058823529411764, 0.4732620320855615, 0.4732620320855615, 0.47593582887700536, 0.47593582887700536, 0.4786096256684492, 0.4786096256684492, 0.4839572192513369, 0.4839572192513369, 0.4893048128342246, 0.4893048128342246, 0.4919786096256685, 0.4919786096256685, 0.49732620320855614, 0.49732620320855614, 0.5, 0.5, 0.5053475935828877, 0.5053475935828877, 0.516042780748663, 0.516042780748663, 0.5187165775401069, 0.5187165775401069, 0.5240641711229946, 0.5240641711229946, 0.5267379679144385, 0.5267379679144385, 0.5320855614973262, 0.5320855614973262, 0.5374331550802139, 0.5374331550802139, 0.5454545454545454, 0.5454545454545454, 0.5588235294117647, 0.5588235294117647, 0.5614973262032086, 0.5614973262032086, 0.5668449197860963, 0.5668449197860963, 0.5721925133689839, 0.5721925133689839, 0.5748663101604278, 0.5748663101604278, 0.5775401069518716, 0.5775401069518716, 0.5802139037433155, 0.5802139037433155, 0.5828877005347594, 0.5828877005347594, 0.5989304812834224, 0.5989304812834224, 0.6016042780748663, 0.6016042780748663, 0.606951871657754, 0.606951871657754, 0.6096256684491979, 0.6096256684491979, 0.6149732620320856, 0.6149732620320856, 0.6203208556149733, 0.6203208556149733, 0.6256684491978609, 0.6256684491978609, 0.6283422459893048, 0.6283422459893048, 0.6417112299465241, 0.6417112299465241, 0.6497326203208557, 0.6497326203208557, 0.6524064171122995, 0.6524064171122995, 0.660427807486631, 0.660427807486631, 0.6657754010695187, 0.6657754010695187, 0.6684491978609626, 0.6684491978609626, 0.6711229946524064, 0.6711229946524064, 0.6737967914438503, 0.6737967914438503, 0.6764705882352942, 0.6764705882352942, 0.679144385026738, 0.679144385026738, 0.6844919786096256, 0.6844919786096256, 0.6871657754010695, 0.6871657754010695, 0.6951871657754011, 0.6951871657754011, 0.6978609625668449, 0.6978609625668449, 0.7032085561497327, 0.7032085561497327, 0.7058823529411765, 0.7058823529411765, 0.7085561497326203, 0.7085561497326203, 0.713903743315508, 0.713903743315508, 0.7192513368983957, 0.7192513368983957, 0.7219251336898396, 0.7219251336898396, 0.7245989304812834, 0.7245989304812834, 0.7272727272727273, 0.7272727272727273, 0.7352941176470589, 0.7352941176470589, 0.7433155080213903, 0.7433155080213903, 0.7459893048128342, 0.7459893048128342, 0.7540106951871658, 0.7540106951871658, 0.7566844919786097, 0.7566844919786097, 0.7620320855614974, 0.7620320855614974, 0.767379679144385, 0.767379679144385, 0.7754010695187166, 0.7754010695187166, 0.7807486631016043, 0.7807486631016043, 0.7834224598930482, 0.7834224598930482, 0.786096256684492, 0.786096256684492, 0.7941176470588235, 0.7941176470588235, 0.7967914438502673, 0.7967914438502673, 0.8021390374331551, 0.8021390374331551, 0.8048128342245989, 0.8048128342245989, 0.8074866310160428, 0.8074866310160428, 0.8101604278074866, 0.8101604278074866, 0.8128342245989305, 0.8128342245989305, 0.8155080213903744, 0.8155080213903744, 0.820855614973262, 0.820855614973262, 0.8235294117647058, 0.8235294117647058, 0.8288770053475936, 0.8288770053475936, 0.8315508021390374, 0.8315508021390374, 0.8368983957219251, 0.8368983957219251, 0.839572192513369, 0.839572192513369, 0.8449197860962567, 0.8449197860962567, 0.8475935828877005, 0.8475935828877005, 0.8556149732620321, 0.8556149732620321, 0.8636363636363636, 0.8636363636363636, 0.8663101604278075, 0.8663101604278075, 0.8716577540106952, 0.8716577540106952, 0.8743315508021391, 0.8743315508021391, 0.8770053475935828, 0.8770053475935828, 0.8823529411764706, 0.8823529411764706, 0.8877005347593583, 0.8877005347593583, 0.8903743315508021, 0.8903743315508021, 0.893048128342246, 0.893048128342246, 0.8957219251336899, 0.8957219251336899, 0.8983957219251337, 0.8983957219251337, 0.9010695187165776, 0.9010695187165776, 0.9037433155080213, 0.9037433155080213, 0.9064171122994652, 0.9064171122994652, 0.9090909090909091, 0.9090909090909091, 0.9117647058823529, 0.9117647058823529, 0.9144385026737968, 0.9144385026737968, 0.9171122994652406, 0.9171122994652406, 0.9197860962566845, 0.9197860962566845, 0.9224598930481284, 0.9224598930481284, 0.9251336898395722, 0.9251336898395722, 0.9278074866310161, 0.9278074866310161, 0.93048128342246, 0.93048128342246, 0.9331550802139037, 0.9331550802139037, 0.9358288770053476, 0.9358288770053476, 0.9385026737967914, 0.9385026737967914, 0.9411764705882353, 0.9411764705882353, 0.9438502673796791, 0.9438502673796791, 0.946524064171123, 0.946524064171123, 0.9491978609625669, 0.9491978609625669, 0.9545454545454546, 0.9545454545454546, 0.9572192513368984, 0.9572192513368984, 0.9598930481283422, 0.9598930481283422, 0.9625668449197861, 0.9625668449197861, 0.9652406417112299, 0.9652406417112299, 0.9679144385026738, 0.9679144385026738, 0.9705882352941176, 0.9705882352941176, 0.9732620320855615, 0.9732620320855615, 0.9759358288770054, 0.9759358288770054, 0.9786096256684492, 0.9786096256684492, 0.9812834224598931, 0.9812834224598931, 0.983957219251337, 0.983957219251337, 0.9866310160427807, 0.9866310160427807, 0.9893048128342246, 0.9893048128342246, 0.9919786096256684, 0.9919786096256684, 0.9946524064171123, 0.9946524064171123, 0.9973262032085561, 0.9973262032085561, 1.0, 1.0]}, {\"mode\": \"lines\", \"name\": \"GNB\", \"type\": \"scatter\", \"x\": [0.0, 0.0, 0.0, 0.000968054211035818, 0.000968054211035818, 0.002904162633107454, 0.002904162633107454, 0.003872216844143272, 0.003872216844143272, 0.00484027105517909, 0.00484027105517909, 0.006776379477250726, 0.006776379477250726, 0.007744433688286544, 0.007744433688286544, 0.008712487899322363, 0.008712487899322363, 0.00968054211035818, 0.00968054211035818, 0.011616650532429816, 0.011616650532429816, 0.012584704743465635, 0.012584704743465635, 0.013552758954501452, 0.013552758954501452, 0.01452081316553727, 0.01452081316553727, 0.015488867376573089, 0.015488867376573089, 0.017424975798644726, 0.017424975798644726, 0.018393030009680542, 0.018393030009680542, 0.01936108422071636, 0.01936108422071636, 0.02032913843175218, 0.02032913843175218, 0.021297192642787996, 0.021297192642787996, 0.022265246853823813, 0.022265246853823813, 0.02516940948693127, 0.02516940948693127, 0.027105517909002903, 0.027105517909002903, 0.02904162633107454, 0.02904162633107454, 0.030009680542110357, 0.030009680542110357, 0.030977734753146177, 0.030977734753146177, 0.03291384317521781, 0.03291384317521781, 0.03388189738625363, 0.03388189738625363, 0.03581800580832527, 0.03581800580832527, 0.04065827686350436, 0.04065827686350436, 0.04259438528557599, 0.04259438528557599, 0.044530493707647625, 0.044530493707647625, 0.046466602129719266, 0.046466602129719266, 0.0484027105517909, 0.0484027105517909, 0.049370764762826716, 0.049370764762826716, 0.05033881897386254, 0.05033881897386254, 0.05227492739593417, 0.05227492739593417, 0.05517909002904162, 0.05517909002904162, 0.05614714424007745, 0.05614714424007745, 0.05808325266214908, 0.05808325266214908, 0.0590513068731849, 0.0590513068731849, 0.060019361084220714, 0.060019361084220714, 0.06292352371732816, 0.06292352371732816, 0.06485963213939981, 0.06485963213939981, 0.06873184898354308, 0.06873184898354308, 0.0696999031945789, 0.0696999031945789, 0.07066795740561471, 0.07066795740561471, 0.07163601161665054, 0.07163601161665054, 0.07454017424975799, 0.07454017424975799, 0.07744433688286544, 0.07744433688286544, 0.07841239109390126, 0.07841239109390126, 0.07938044530493708, 0.07938044530493708, 0.0803484995159729, 0.0803484995159729, 0.08325266214908035, 0.08325266214908035, 0.08422071636011616, 0.08422071636011616, 0.08518877057115198, 0.08518877057115198, 0.08615682478218781, 0.08615682478218781, 0.08712487899322362, 0.08712487899322362, 0.08809293320425944, 0.08809293320425944, 0.09486931268151017, 0.09486931268151017, 0.0968054211035818, 0.0968054211035818, 0.09777347531461762, 0.09777347531461762, 0.10164569215876089, 0.10164569215876089, 0.10261374636979671, 0.10261374636979671, 0.10648596321393998, 0.10648596321393998, 0.1074540174249758, 0.1074540174249758, 0.10842207163601161, 0.10842207163601161, 0.10939012584704744, 0.10939012584704744, 0.11035818005808325, 0.11035818005808325, 0.11132623426911907, 0.11132623426911907, 0.1122942884801549, 0.1122942884801549, 0.1132623426911907, 0.1132623426911907, 0.11423039690222653, 0.11423039690222653, 0.11519845111326234, 0.11519845111326234, 0.11616650532429816, 0.11616650532429816, 0.1181026137463698, 0.1181026137463698, 0.11907066795740562, 0.11907066795740562, 0.12294288480154889, 0.12294288480154889, 0.12391093901258471, 0.12391093901258471, 0.12487899322362052, 0.12487899322362052, 0.12681510164569215, 0.12681510164569215, 0.12971926427879962, 0.12971926427879962, 0.13262342691190707, 0.13262342691190707, 0.1345595353339787, 0.1345595353339787, 0.1393998063891578, 0.1393998063891578, 0.14133591481122942, 0.14133591481122942, 0.14230396902226525, 0.14230396902226525, 0.14327202323330107, 0.14327202323330107, 0.1452081316553727, 0.1452081316553727, 0.14617618586640851, 0.14617618586640851, 0.14811229428848016, 0.14811229428848016, 0.1510164569215876, 0.1510164569215876, 0.1558567279767667, 0.1558567279767667, 0.15876089060987417, 0.15876089060987417, 0.15972894482090996, 0.15972894482090996, 0.1616650532429816, 0.1616650532429816, 0.16263310745401743, 0.16263310745401743, 0.16456921587608905, 0.16456921587608905, 0.16747337850919652, 0.16747337850919652, 0.1713455953533398, 0.1713455953533398, 0.1732817037754114, 0.1732817037754114, 0.17424975798644723, 0.17424975798644723, 0.17521781219748306, 0.17521781219748306, 0.1771539206195547, 0.1771539206195547, 0.17909002904162633, 0.17909002904162633, 0.1829622458857696, 0.1829622458857696, 0.18489835430784124, 0.18489835430784124, 0.18586640851887706, 0.18586640851887706, 0.1868344627299129, 0.1868344627299129, 0.1887705711519845, 0.1887705711519845, 0.19167473378509198, 0.19167473378509198, 0.19554695062923524, 0.19554695062923524, 0.19651500484027107, 0.19651500484027107, 0.20135527589545016, 0.20135527589545016, 0.20232333010648595, 0.20232333010648595, 0.20522749273959343, 0.20522749273959343, 0.20716360116166505, 0.20716360116166505, 0.20813165537270087, 0.20813165537270087, 0.21006776379477252, 0.21006776379477252, 0.2149080348499516, 0.2149080348499516, 0.2158760890609874, 0.2158760890609874, 0.21781219748305905, 0.21781219748305905, 0.2197483059051307, 0.2197483059051307, 0.22362052274927396, 0.22362052274927396, 0.2265246853823814, 0.2265246853823814, 0.23039690222652467, 0.23039690222652467, 0.23426911907066797, 0.23426911907066797, 0.23814133591481124, 0.23814133591481124, 0.24104549854791868, 0.24104549854791868, 0.25169409486931266, 0.25169409486931266, 0.2536302032913843, 0.2536302032913843, 0.26427879961277834, 0.26427879961277834, 0.26621490803484993, 0.26621490803484993, 0.2671829622458858, 0.2671829622458858, 0.27202323330106487, 0.27202323330106487, 0.27783155856727976, 0.27783155856727976, 0.2787996127783156, 0.2787996127783156, 0.2836398838334947, 0.2836398838334947, 0.28654404646660214, 0.28654404646660214, 0.2933204259438529, 0.2933204259438529, 0.2952565343659245, 0.2952565343659245, 0.29912875121006777, 0.29912875121006777, 0.3020329138431752, 0.3020329138431752, 0.30493707647628265, 0.30493707647628265, 0.3059051306873185, 0.3059051306873185, 0.31752178121974833, 0.31752178121974833, 0.33494675701839305, 0.33494675701839305, 0.34075508228460794, 0.34075508228460794, 0.345595353339787, 0.345595353339787, 0.3552758954501452, 0.3552758954501452, 0.356243949661181, 0.356243949661181, 0.36689254598257504, 0.36689254598257504, 0.3717328170377541, 0.3717328170377541, 0.3814133591481123, 0.3814133591481123, 0.3862536302032914, 0.3862536302032914, 0.38818973862536305, 0.38818973862536305, 0.3969022265246854, 0.3969022265246854, 0.40174249757986447, 0.40174249757986447, 0.4027105517909003, 0.4027105517909003, 0.41142303969022265, 0.41142303969022265, 0.41529525653436594, 0.41529525653436594, 0.41626331074540174, 0.41626331074540174, 0.42110358180058083, 0.42110358180058083, 0.4230396902226525, 0.4230396902226525, 0.4259438528557599, 0.4259438528557599, 0.44240077444336884, 0.44240077444336884, 0.44336882865440463, 0.44336882865440463, 0.4617618586640852, 0.4617618586640852, 0.49177153920619554, 0.49177153920619554, 0.5062923523717329, 0.5062923523717329, 0.5150048402710552, 0.5150048402710552, 0.5285575992255567, 0.5285575992255567, 0.542110358180058, 0.542110358180058, 0.5440464666021297, 0.5440464666021297, 0.5450145208131656, 0.5450145208131656, 0.5614714424007744, 0.5614714424007744, 0.5711519845111326, 0.5711519845111326, 0.6214908034849952, 0.6214908034849952, 0.6737657308809293, 0.6737657308809293, 0.675701839303001, 0.675701839303001, 0.6882865440464666, 0.6882865440464666, 0.6892545982575025, 0.6892545982575025, 0.7066795740561471, 0.7066795740561471, 0.718296224588577, 0.718296224588577, 0.7192642787996127, 0.7192642787996127, 0.7250726040658277, 0.7250726040658277, 0.7270087124878993, 0.7270087124878993, 0.7357212003872217, 0.7357212003872217, 0.7386253630203291, 0.7386253630203291, 0.7434656340755083, 0.7434656340755083, 0.744433688286544, 0.744433688286544, 0.7483059051306873, 0.7483059051306873, 0.7618586640851888, 0.7618586640851888, 0.7860600193610843, 0.7860600193610843, 0.7918683446272992, 0.7918683446272992, 0.7986447241045499, 0.7986447241045499, 0.8354307841239109, 0.8354307841239109, 0.9099709583736689, 0.9099709583736689, 1.0], \"y\": [0.0, 0.00267379679144385, 0.0106951871657754, 0.0106951871657754, 0.0213903743315508, 0.0213903743315508, 0.034759358288770054, 0.034759358288770054, 0.040106951871657755, 0.040106951871657755, 0.045454545454545456, 0.045454545454545456, 0.0481283422459893, 0.0481283422459893, 0.06684491978609626, 0.06684491978609626, 0.06951871657754011, 0.06951871657754011, 0.07219251336898395, 0.07219251336898395, 0.0748663101604278, 0.0748663101604278, 0.07754010695187166, 0.07754010695187166, 0.0855614973262032, 0.0855614973262032, 0.08823529411764706, 0.08823529411764706, 0.09090909090909091, 0.09090909090909091, 0.11764705882352941, 0.11764705882352941, 0.13101604278074866, 0.13101604278074866, 0.13903743315508021, 0.13903743315508021, 0.1443850267379679, 0.1443850267379679, 0.1657754010695187, 0.1657754010695187, 0.17379679144385027, 0.17379679144385027, 0.18983957219251338, 0.18983957219251338, 0.20320855614973263, 0.20320855614973263, 0.20855614973262032, 0.20855614973262032, 0.21390374331550802, 0.21390374331550802, 0.2192513368983957, 0.2192513368983957, 0.22727272727272727, 0.22727272727272727, 0.22994652406417113, 0.22994652406417113, 0.23529411764705882, 0.23529411764705882, 0.24331550802139038, 0.24331550802139038, 0.24598930481283424, 0.24598930481283424, 0.2540106951871658, 0.2540106951871658, 0.25935828877005346, 0.25935828877005346, 0.2620320855614973, 0.2620320855614973, 0.2647058823529412, 0.2647058823529412, 0.26737967914438504, 0.26737967914438504, 0.2700534759358289, 0.2700534759358289, 0.2727272727272727, 0.2727272727272727, 0.28609625668449196, 0.28609625668449196, 0.2914438502673797, 0.2914438502673797, 0.2967914438502674, 0.2967914438502674, 0.2994652406417112, 0.2994652406417112, 0.3074866310160428, 0.3074866310160428, 0.3181818181818182, 0.3181818181818182, 0.3342245989304813, 0.3342245989304813, 0.33689839572192515, 0.33689839572192515, 0.34759358288770054, 0.34759358288770054, 0.3502673796791444, 0.3502673796791444, 0.3609625668449198, 0.3609625668449198, 0.36363636363636365, 0.36363636363636365, 0.3770053475935829, 0.3770053475935829, 0.37967914438502676, 0.37967914438502676, 0.38235294117647056, 0.38235294117647056, 0.3877005347593583, 0.3877005347593583, 0.39037433155080214, 0.39037433155080214, 0.393048128342246, 0.393048128342246, 0.39572192513368987, 0.39572192513368987, 0.40641711229946526, 0.40641711229946526, 0.4144385026737968, 0.4144385026737968, 0.41711229946524064, 0.41711229946524064, 0.44385026737967914, 0.44385026737967914, 0.44919786096256686, 0.44919786096256686, 0.45187165775401067, 0.45187165775401067, 0.4572192513368984, 0.4572192513368984, 0.45989304812834225, 0.45989304812834225, 0.4679144385026738, 0.4679144385026738, 0.4732620320855615, 0.4732620320855615, 0.47593582887700536, 0.47593582887700536, 0.4919786096256685, 0.4919786096256685, 0.4946524064171123, 0.4946524064171123, 0.5, 0.5, 0.5053475935828877, 0.5053475935828877, 0.5106951871657754, 0.5106951871657754, 0.5213903743315508, 0.5213903743315508, 0.5240641711229946, 0.5240641711229946, 0.5294117647058824, 0.5294117647058824, 0.5320855614973262, 0.5320855614973262, 0.5347593582887701, 0.5347593582887701, 0.5454545454545454, 0.5454545454545454, 0.5481283422459893, 0.5481283422459893, 0.5561497326203209, 0.5561497326203209, 0.5614973262032086, 0.5614973262032086, 0.5641711229946524, 0.5641711229946524, 0.5748663101604278, 0.5748663101604278, 0.5775401069518716, 0.5775401069518716, 0.5855614973262032, 0.5855614973262032, 0.5935828877005348, 0.5935828877005348, 0.6042780748663101, 0.6042780748663101, 0.606951871657754, 0.606951871657754, 0.6203208556149733, 0.6203208556149733, 0.6229946524064172, 0.6229946524064172, 0.6256684491978609, 0.6256684491978609, 0.6283422459893048, 0.6283422459893048, 0.6310160427807486, 0.6310160427807486, 0.6363636363636364, 0.6363636363636364, 0.6417112299465241, 0.6417112299465241, 0.6443850267379679, 0.6443850267379679, 0.6470588235294118, 0.6470588235294118, 0.6497326203208557, 0.6497326203208557, 0.6524064171122995, 0.6524064171122995, 0.6577540106951871, 0.6577540106951871, 0.6631016042780749, 0.6631016042780749, 0.6684491978609626, 0.6684491978609626, 0.6764705882352942, 0.6764705882352942, 0.679144385026738, 0.679144385026738, 0.6818181818181818, 0.6818181818181818, 0.6871657754010695, 0.6871657754010695, 0.6951871657754011, 0.6951871657754011, 0.6978609625668449, 0.6978609625668449, 0.7005347593582888, 0.7005347593582888, 0.7032085561497327, 0.7032085561497327, 0.7058823529411765, 0.7058823529411765, 0.713903743315508, 0.713903743315508, 0.7219251336898396, 0.7219251336898396, 0.7245989304812834, 0.7245989304812834, 0.7272727272727273, 0.7272727272727273, 0.732620320855615, 0.732620320855615, 0.7352941176470589, 0.7352941176470589, 0.7406417112299465, 0.7406417112299465, 0.7433155080213903, 0.7433155080213903, 0.7459893048128342, 0.7459893048128342, 0.7486631016042781, 0.7486631016042781, 0.7566844919786097, 0.7566844919786097, 0.7593582887700535, 0.7593582887700535, 0.7620320855614974, 0.7620320855614974, 0.7647058823529411, 0.7647058823529411, 0.767379679144385, 0.767379679144385, 0.7700534759358288, 0.7700534759358288, 0.7754010695187166, 0.7754010695187166, 0.7780748663101604, 0.7780748663101604, 0.7807486631016043, 0.7807486631016043, 0.7834224598930482, 0.7834224598930482, 0.786096256684492, 0.786096256684492, 0.7887700534759359, 0.7887700534759359, 0.7914438502673797, 0.7914438502673797, 0.7967914438502673, 0.7967914438502673, 0.8021390374331551, 0.8021390374331551, 0.8048128342245989, 0.8048128342245989, 0.8074866310160428, 0.8074866310160428, 0.8101604278074866, 0.8101604278074866, 0.8128342245989305, 0.8128342245989305, 0.8155080213903744, 0.8155080213903744, 0.820855614973262, 0.820855614973262, 0.8235294117647058, 0.8235294117647058, 0.8262032085561497, 0.8262032085561497, 0.8315508021390374, 0.8315508021390374, 0.8368983957219251, 0.8368983957219251, 0.839572192513369, 0.839572192513369, 0.8422459893048129, 0.8422459893048129, 0.8449197860962567, 0.8449197860962567, 0.8475935828877005, 0.8475935828877005, 0.8502673796791443, 0.8502673796791443, 0.8529411764705882, 0.8529411764705882, 0.8556149732620321, 0.8556149732620321, 0.8609625668449198, 0.8609625668449198, 0.8636363636363636, 0.8636363636363636, 0.8663101604278075, 0.8663101604278075, 0.8689839572192514, 0.8689839572192514, 0.8716577540106952, 0.8716577540106952, 0.8796791443850267, 0.8796791443850267, 0.8823529411764706, 0.8823529411764706, 0.8957219251336899, 0.8957219251336899, 0.8983957219251337, 0.8983957219251337, 0.9010695187165776, 0.9010695187165776, 0.9037433155080213, 0.9037433155080213, 0.9064171122994652, 0.9064171122994652, 0.9090909090909091, 0.9090909090909091, 0.9117647058823529, 0.9117647058823529, 0.9144385026737968, 0.9144385026737968, 0.9171122994652406, 0.9171122994652406, 0.9197860962566845, 0.9197860962566845, 0.9224598930481284, 0.9224598930481284, 0.9251336898395722, 0.9251336898395722, 0.9278074866310161, 0.9278074866310161, 0.93048128342246, 0.93048128342246, 0.9331550802139037, 0.9331550802139037, 0.9358288770053476, 0.9358288770053476, 0.9385026737967914, 0.9385026737967914, 0.9411764705882353, 0.9411764705882353, 0.9438502673796791, 0.9438502673796791, 0.946524064171123, 0.946524064171123, 0.9491978609625669, 0.9491978609625669, 0.9518716577540107, 0.9518716577540107, 0.9545454545454546, 0.9545454545454546, 0.9598930481283422, 0.9598930481283422, 0.9625668449197861, 0.9625668449197861, 0.9652406417112299, 0.9652406417112299, 0.9679144385026738, 0.9679144385026738, 0.9705882352941176, 0.9705882352941176, 0.9759358288770054, 0.9759358288770054, 0.9786096256684492, 0.9786096256684492, 0.9812834224598931, 0.9812834224598931, 0.983957219251337, 0.983957219251337, 0.9866310160427807, 0.9866310160427807, 0.9893048128342246, 0.9893048128342246, 0.9946524064171123, 0.9946524064171123, 0.9973262032085561, 0.9973262032085561, 1.0, 1.0]}, {\"mode\": \"lines\", \"name\": \"NN\", \"type\": \"scatter\", \"x\": [0.0, 0.0, 0.0, 0.000968054211035818, 0.000968054211035818, 0.001936108422071636, 0.001936108422071636, 0.002904162633107454, 0.002904162633107454, 0.00484027105517909, 0.00484027105517909, 0.005808325266214908, 0.005808325266214908, 0.006776379477250726, 0.006776379477250726, 0.007744433688286544, 0.007744433688286544, 0.008712487899322363, 0.008712487899322363, 0.00968054211035818, 0.00968054211035818, 0.010648596321393998, 0.010648596321393998, 0.011616650532429816, 0.011616650532429816, 0.012584704743465635, 0.012584704743465635, 0.013552758954501452, 0.013552758954501452, 0.01452081316553727, 0.01452081316553727, 0.015488867376573089, 0.015488867376573089, 0.01936108422071636, 0.01936108422071636, 0.02032913843175218, 0.02032913843175218, 0.022265246853823813, 0.022265246853823813, 0.023233301064859633, 0.023233301064859633, 0.02516940948693127, 0.02516940948693127, 0.026137463697967087, 0.026137463697967087, 0.027105517909002903, 0.027105517909002903, 0.028073572120038724, 0.028073572120038724, 0.031945788964181994, 0.031945788964181994, 0.03581800580832527, 0.03581800580832527, 0.036786060019361085, 0.036786060019361085, 0.0377541142303969, 0.0377541142303969, 0.03872216844143272, 0.03872216844143272, 0.03969022265246854, 0.03969022265246854, 0.04259438528557599, 0.04259438528557599, 0.04356243949661181, 0.04356243949661181, 0.044530493707647625, 0.044530493707647625, 0.04549854791868345, 0.04549854791868345, 0.046466602129719266, 0.046466602129719266, 0.04743465634075508, 0.04743465634075508, 0.05033881897386254, 0.05033881897386254, 0.051306873184898356, 0.051306873184898356, 0.05324298160696999, 0.05324298160696999, 0.05614714424007745, 0.05614714424007745, 0.0590513068731849, 0.0590513068731849, 0.060019361084220714, 0.060019361084220714, 0.061955469506292354, 0.061955469506292354, 0.06292352371732816, 0.06292352371732816, 0.06389157792836399, 0.06389157792836399, 0.06679574056147145, 0.06679574056147145, 0.06776379477250725, 0.06776379477250725, 0.0696999031945789, 0.0696999031945789, 0.07066795740561471, 0.07066795740561471, 0.07163601161665054, 0.07163601161665054, 0.07260406582768635, 0.07260406582768635, 0.07357212003872217, 0.07357212003872217, 0.07647628267182963, 0.07647628267182963, 0.07744433688286544, 0.07744433688286544, 0.07938044530493708, 0.07938044530493708, 0.08325266214908035, 0.08325266214908035, 0.08422071636011616, 0.08422071636011616, 0.08518877057115198, 0.08518877057115198, 0.08615682478218781, 0.08615682478218781, 0.08906098741529525, 0.08906098741529525, 0.09002904162633107, 0.09002904162633107, 0.09293320425943853, 0.09293320425943853, 0.09390125847047434, 0.09390125847047434, 0.09486931268151017, 0.09486931268151017, 0.0968054211035818, 0.0968054211035818, 0.10067763794772508, 0.10067763794772508, 0.10164569215876089, 0.10164569215876089, 0.10261374636979671, 0.10261374636979671, 0.10454985479186835, 0.10454985479186835, 0.1074540174249758, 0.1074540174249758, 0.10939012584704744, 0.10939012584704744, 0.11035818005808325, 0.11035818005808325, 0.11132623426911907, 0.11132623426911907, 0.1122942884801549, 0.1122942884801549, 0.1132623426911907, 0.1132623426911907, 0.11423039690222653, 0.11423039690222653, 0.11616650532429816, 0.11616650532429816, 0.1181026137463698, 0.1181026137463698, 0.12003872216844143, 0.12003872216844143, 0.12197483059051308, 0.12197483059051308, 0.12294288480154889, 0.12294288480154889, 0.12391093901258471, 0.12391093901258471, 0.12487899322362052, 0.12487899322362052, 0.12584704743465633, 0.12584704743465633, 0.12778315585672798, 0.12778315585672798, 0.1287512100677638, 0.1287512100677638, 0.12971926427879962, 0.12971926427879962, 0.13068731848983542, 0.13068731848983542, 0.13262342691190707, 0.13262342691190707, 0.1335914811229429, 0.1335914811229429, 0.13649564375605033, 0.13649564375605033, 0.14617618586640851, 0.14617618586640851, 0.14714424007744434, 0.14714424007744434, 0.15004840271055178, 0.15004840271055178, 0.15295256534365925, 0.15295256534365925, 0.1558567279767667, 0.1558567279767667, 0.15779283639883834, 0.15779283639883834, 0.15972894482090996, 0.15972894482090996, 0.16456921587608905, 0.16456921587608905, 0.16553727008712488, 0.16553727008712488, 0.1665053242981607, 0.1665053242981607, 0.16747337850919652, 0.16747337850919652, 0.1713455953533398, 0.1713455953533398, 0.1732817037754114, 0.1732817037754114, 0.1771539206195547, 0.1771539206195547, 0.1819941916747338, 0.1819941916747338, 0.18393030009680542, 0.18393030009680542, 0.1887705711519845, 0.1887705711519845, 0.18973862536302033, 0.18973862536302033, 0.19167473378509198, 0.19167473378509198, 0.19264278799612777, 0.19264278799612777, 0.19651500484027107, 0.19651500484027107, 0.1984511132623427, 0.1984511132623427, 0.20135527589545016, 0.20135527589545016, 0.20329138431752178, 0.20329138431752178, 0.20716360116166505, 0.20716360116166505, 0.20813165537270087, 0.20813165537270087, 0.2110358180058083, 0.2110358180058083, 0.21200387221684414, 0.21200387221684414, 0.21878025169409487, 0.21878025169409487, 0.2207163601161665, 0.2207163601161665, 0.2265246853823814, 0.2265246853823814, 0.23330106485963215, 0.23330106485963215, 0.23523717328170377, 0.23523717328170377, 0.2362052274927396, 0.2362052274927396, 0.23814133591481124, 0.23814133591481124, 0.24007744433688286, 0.24007744433688286, 0.24104549854791868, 0.24104549854791868, 0.2420135527589545, 0.2420135527589545, 0.24975798644724104, 0.24975798644724104, 0.25072604065827686, 0.25072604065827686, 0.2536302032913843, 0.2536302032913843, 0.2584704743465634, 0.2584704743465634, 0.26427879961277834, 0.26427879961277834, 0.2700871248789932, 0.2700871248789932, 0.2749273959341723, 0.2749273959341723, 0.2787996127783156, 0.2787996127783156, 0.28267182962245885, 0.28267182962245885, 0.2836398838334947, 0.2836398838334947, 0.2942884801548887, 0.2942884801548887, 0.2962245885769603, 0.2962245885769603, 0.29912875121006777, 0.29912875121006777, 0.3010648596321394, 0.3010648596321394, 0.3059051306873185, 0.3059051306873185, 0.30880929332042595, 0.30880929332042595, 0.30977734753146174, 0.30977734753146174, 0.3165537270087125, 0.3165537270087125, 0.32623426911907066, 0.32623426911907066, 0.3281703775411423, 0.3281703775411423, 0.33107454017424975, 0.33107454017424975, 0.34172313649564373, 0.34172313649564373, 0.3436592449177154, 0.3436592449177154, 0.34462729912875123, 0.34462729912875123, 0.35237173281703776, 0.35237173281703776, 0.35818005808325265, 0.35818005808325265, 0.3639883833494676, 0.3639883833494676, 0.3717328170377541, 0.3717328170377541, 0.3736689254598258, 0.3736689254598258, 0.38044530493707646, 0.38044530493707646, 0.38431752178121975, 0.38431752178121975, 0.39496611810261373, 0.39496611810261373, 0.398838334946757, 0.398838334946757, 0.3998063891577928, 0.3998063891577928, 0.4143272023233301, 0.4143272023233301, 0.41529525653436594, 0.41529525653436594, 0.41723136495643753, 0.41723136495643753, 0.4317521781219748, 0.4317521781219748, 0.44336882865440463, 0.44336882865440463, 0.44724104549854793, 0.44724104549854793, 0.45111326234269117, 0.45111326234269117, 0.4578896418199419, 0.4578896418199419, 0.45885769603097776, 0.45885769603097776, 0.4617618586640852, 0.4617618586640852, 0.47337850919651503, 0.47337850919651503, 0.4830590513068732, 0.4830590513068732, 0.484027105517909, 0.484027105517909, 0.4888673765730881, 0.4888673765730881, 0.4927395934172314, 0.4927395934172314, 0.5043562439496612, 0.5043562439496612, 0.5440464666021297, 0.5440464666021297, 0.5488867376573088, 0.5488867376573088, 0.5614714424007744, 0.5614714424007744, 0.5837366892545982, 0.5837366892545982, 0.5992255566311714, 0.5992255566311714, 0.6098741529525653, 0.6098741529525653, 0.6156824782187803, 0.6156824782187803, 0.6321393998063891, 0.6321393998063891, 0.643756050338819, 0.643756050338819, 0.7657308809293321, 0.7657308809293321, 0.9012584704743466, 0.9012584704743466, 1.0], \"y\": [0.0, 0.00267379679144385, 0.008021390374331552, 0.008021390374331552, 0.013368983957219251, 0.013368983957219251, 0.02406417112299465, 0.02406417112299465, 0.040106951871657755, 0.040106951871657755, 0.05614973262032086, 0.05614973262032086, 0.08021390374331551, 0.08021390374331551, 0.08288770053475936, 0.08288770053475936, 0.09358288770053476, 0.09358288770053476, 0.11764705882352941, 0.11764705882352941, 0.13368983957219252, 0.13368983957219252, 0.13903743315508021, 0.13903743315508021, 0.15775401069518716, 0.15775401069518716, 0.16042780748663102, 0.16042780748663102, 0.16310160427807488, 0.16310160427807488, 0.17914438502673796, 0.17914438502673796, 0.18181818181818182, 0.18181818181818182, 0.18716577540106952, 0.18716577540106952, 0.18983957219251338, 0.18983957219251338, 0.1925133689839572, 0.1925133689839572, 0.19518716577540107, 0.19518716577540107, 0.20855614973262032, 0.20855614973262032, 0.21122994652406418, 0.21122994652406418, 0.21390374331550802, 0.21390374331550802, 0.21657754010695188, 0.21657754010695188, 0.22994652406417113, 0.22994652406417113, 0.232620320855615, 0.232620320855615, 0.24064171122994651, 0.24064171122994651, 0.24331550802139038, 0.24331550802139038, 0.24598930481283424, 0.24598930481283424, 0.25668449197860965, 0.25668449197860965, 0.2700534759358289, 0.2700534759358289, 0.27807486631016043, 0.27807486631016043, 0.28342245989304815, 0.28342245989304815, 0.29411764705882354, 0.29411764705882354, 0.30213903743315507, 0.30213903743315507, 0.3074866310160428, 0.3074866310160428, 0.31016042780748665, 0.31016042780748665, 0.32085561497326204, 0.32085561497326204, 0.32620320855614976, 0.32620320855614976, 0.3342245989304813, 0.3342245989304813, 0.339572192513369, 0.339572192513369, 0.3422459893048128, 0.3422459893048128, 0.3449197860962567, 0.3449197860962567, 0.3502673796791444, 0.3502673796791444, 0.35561497326203206, 0.35561497326203206, 0.3609625668449198, 0.3609625668449198, 0.3663101604278075, 0.3663101604278075, 0.3770053475935829, 0.3770053475935829, 0.37967914438502676, 0.37967914438502676, 0.38235294117647056, 0.38235294117647056, 0.3850267379679144, 0.3850267379679144, 0.39037433155080214, 0.39037433155080214, 0.393048128342246, 0.393048128342246, 0.40641711229946526, 0.40641711229946526, 0.4117647058823529, 0.4117647058823529, 0.41711229946524064, 0.41711229946524064, 0.42513368983957217, 0.42513368983957217, 0.42780748663101603, 0.42780748663101603, 0.4304812834224599, 0.4304812834224599, 0.43315508021390375, 0.43315508021390375, 0.4385026737967914, 0.4385026737967914, 0.4411764705882353, 0.4411764705882353, 0.44919786096256686, 0.44919786096256686, 0.45989304812834225, 0.45989304812834225, 0.4625668449197861, 0.4625668449197861, 0.47058823529411764, 0.47058823529411764, 0.4732620320855615, 0.4732620320855615, 0.48663101604278075, 0.48663101604278075, 0.4893048128342246, 0.4893048128342246, 0.4946524064171123, 0.4946524064171123, 0.49732620320855614, 0.49732620320855614, 0.5026737967914439, 0.5026737967914439, 0.5053475935828877, 0.5053475935828877, 0.5106951871657754, 0.5106951871657754, 0.5133689839572193, 0.5133689839572193, 0.5187165775401069, 0.5187165775401069, 0.5213903743315508, 0.5213903743315508, 0.5320855614973262, 0.5320855614973262, 0.5481283422459893, 0.5481283422459893, 0.5508021390374331, 0.5508021390374331, 0.5641711229946524, 0.5641711229946524, 0.56951871657754, 0.56951871657754, 0.5748663101604278, 0.5748663101604278, 0.5775401069518716, 0.5775401069518716, 0.5802139037433155, 0.5802139037433155, 0.5828877005347594, 0.5828877005347594, 0.5855614973262032, 0.5855614973262032, 0.5882352941176471, 0.5882352941176471, 0.5909090909090909, 0.5909090909090909, 0.5935828877005348, 0.5935828877005348, 0.5989304812834224, 0.5989304812834224, 0.606951871657754, 0.606951871657754, 0.6096256684491979, 0.6096256684491979, 0.6203208556149733, 0.6203208556149733, 0.6229946524064172, 0.6229946524064172, 0.6283422459893048, 0.6283422459893048, 0.6310160427807486, 0.6310160427807486, 0.6363636363636364, 0.6363636363636364, 0.6443850267379679, 0.6443850267379679, 0.6497326203208557, 0.6497326203208557, 0.660427807486631, 0.660427807486631, 0.6631016042780749, 0.6631016042780749, 0.6657754010695187, 0.6657754010695187, 0.6711229946524064, 0.6711229946524064, 0.6737967914438503, 0.6737967914438503, 0.6764705882352942, 0.6764705882352942, 0.6871657754010695, 0.6871657754010695, 0.6898395721925134, 0.6898395721925134, 0.7058823529411765, 0.7058823529411765, 0.7085561497326203, 0.7085561497326203, 0.7112299465240641, 0.7112299465240641, 0.7165775401069518, 0.7165775401069518, 0.7192513368983957, 0.7192513368983957, 0.7219251336898396, 0.7219251336898396, 0.7245989304812834, 0.7245989304812834, 0.7272727272727273, 0.7272727272727273, 0.732620320855615, 0.732620320855615, 0.7352941176470589, 0.7352941176470589, 0.7459893048128342, 0.7459893048128342, 0.7486631016042781, 0.7486631016042781, 0.7513368983957219, 0.7513368983957219, 0.7593582887700535, 0.7593582887700535, 0.7620320855614974, 0.7620320855614974, 0.767379679144385, 0.767379679144385, 0.7700534759358288, 0.7700534759358288, 0.7727272727272727, 0.7727272727272727, 0.7780748663101604, 0.7780748663101604, 0.7807486631016043, 0.7807486631016043, 0.786096256684492, 0.786096256684492, 0.7887700534759359, 0.7887700534759359, 0.7914438502673797, 0.7914438502673797, 0.7941176470588235, 0.7941176470588235, 0.8021390374331551, 0.8021390374331551, 0.8074866310160428, 0.8074866310160428, 0.8101604278074866, 0.8101604278074866, 0.8128342245989305, 0.8128342245989305, 0.8315508021390374, 0.8315508021390374, 0.8342245989304813, 0.8342245989304813, 0.8368983957219251, 0.8368983957219251, 0.839572192513369, 0.839572192513369, 0.8422459893048129, 0.8422459893048129, 0.8449197860962567, 0.8449197860962567, 0.8502673796791443, 0.8502673796791443, 0.8556149732620321, 0.8556149732620321, 0.8582887700534759, 0.8582887700534759, 0.8636363636363636, 0.8636363636363636, 0.8663101604278075, 0.8663101604278075, 0.8716577540106952, 0.8716577540106952, 0.8743315508021391, 0.8743315508021391, 0.8770053475935828, 0.8770053475935828, 0.8796791443850267, 0.8796791443850267, 0.8823529411764706, 0.8823529411764706, 0.8850267379679144, 0.8850267379679144, 0.8877005347593583, 0.8877005347593583, 0.8903743315508021, 0.8903743315508021, 0.893048128342246, 0.893048128342246, 0.8957219251336899, 0.8957219251336899, 0.8983957219251337, 0.8983957219251337, 0.9010695187165776, 0.9010695187165776, 0.9037433155080213, 0.9037433155080213, 0.9064171122994652, 0.9064171122994652, 0.9117647058823529, 0.9117647058823529, 0.9144385026737968, 0.9144385026737968, 0.9171122994652406, 0.9171122994652406, 0.9224598930481284, 0.9224598930481284, 0.9251336898395722, 0.9251336898395722, 0.9278074866310161, 0.9278074866310161, 0.93048128342246, 0.93048128342246, 0.9358288770053476, 0.9358288770053476, 0.9385026737967914, 0.9385026737967914, 0.9411764705882353, 0.9411764705882353, 0.946524064171123, 0.946524064171123, 0.9491978609625669, 0.9491978609625669, 0.9518716577540107, 0.9518716577540107, 0.9545454545454546, 0.9545454545454546, 0.9598930481283422, 0.9598930481283422, 0.9625668449197861, 0.9625668449197861, 0.9652406417112299, 0.9652406417112299, 0.9679144385026738, 0.9679144385026738, 0.9705882352941176, 0.9705882352941176, 0.9732620320855615, 0.9732620320855615, 0.9759358288770054, 0.9759358288770054, 0.9786096256684492, 0.9786096256684492, 0.9812834224598931, 0.9812834224598931, 0.983957219251337, 0.983957219251337, 0.9866310160427807, 0.9866310160427807, 0.9919786096256684, 0.9919786096256684, 0.9946524064171123, 0.9946524064171123, 0.9973262032085561, 0.9973262032085561, 1.0, 1.0]}, {\"mode\": \"lines\", \"name\": \"KNN\", \"type\": \"scatter\", \"x\": [0.0, 0.049370764762826716, 0.12003872216844143, 0.2265246853823814, 0.30493707647628265, 0.3959341723136496, 0.49564375605033884, 0.6205227492739593, 1.0], \"y\": [0.0, 0.21390374331550802, 0.47593582887700536, 0.6497326203208557, 0.7513368983957219, 0.8422459893048129, 0.9144385026737968, 0.9652406417112299, 1.0]}, {\"mode\": \"lines\", \"name\": \"DT\", \"type\": \"scatter\", \"x\": [0.0, 0.05421103581800581, 0.06292352371732816, 0.06582768635043562, 0.07066795740561471, 0.07260406582768635, 0.07357212003872217, 0.0803484995159729, 0.08131655372700872, 0.09196515004840271, 0.0968054211035818, 0.0968054211035818, 0.09970958373668926, 0.10551790900290416, 0.10842207163601161, 0.12197483059051308, 0.1345595353339787, 0.16263310745401743, 0.16263310745401743, 0.16360116166505323, 0.1771539206195547, 0.1771539206195547, 0.1781219748305905, 0.18586640851887706, 0.1887705711519845, 0.19457889641819942, 0.19651500484027107, 0.2090997095837367, 0.21006776379477252, 0.22168441432720232, 0.22362052274927396, 0.23523717328170377, 0.23814133591481124, 0.24491771539206195, 0.25072604065827686, 0.25169409486931266, 0.26040658276863504, 0.26137463697967084, 0.2681510164569216, 0.2749273959341723, 0.2749273959341723, 0.27686350435624396, 0.27686350435624396, 0.28267182962245885, 0.2894482090997096, 0.30300096805421106, 0.30493707647628265, 0.3107454017424976, 0.31752178121974833, 0.32526621490803487, 0.32623426911907066, 0.3281703775411423, 0.3339787028073572, 0.33591481122942884, 0.33978702807357214, 0.33978702807357214, 0.3465634075508228, 0.3543078412391094, 0.356243949661181, 0.3707647628267183, 0.38044530493707646, 0.38528557599225555, 0.38528557599225555, 0.38915779283639884, 0.38915779283639884, 0.3920619554695063, 0.3969022265246854, 0.398838334946757, 0.40077444336882867, 0.409486931268151, 0.4133591481122943, 0.41529525653436594, 0.42110358180058083, 0.42110358180058083, 0.43756050338818975, 0.4404646660212972, 0.441432720232333, 0.45885769603097776, 0.47047434656340753, 0.4724104549854792, 0.4743465634075508, 0.4791868344627299, 0.4830590513068732, 0.484027105517909, 1.0], \"y\": [0.0, 0.040106951871657755, 0.11764705882352941, 0.12032085561497326, 0.14171122994652408, 0.18449197860962566, 0.18449197860962566, 0.19518716577540107, 0.21657754010695188, 0.2967914438502674, 0.2994652406417112, 0.3074866310160428, 0.32085561497326204, 0.3342245989304813, 0.3449197860962567, 0.43315508021390375, 0.4572192513368984, 0.5374331550802139, 0.5454545454545454, 0.5454545454545454, 0.5721925133689839, 0.5748663101604278, 0.5775401069518716, 0.5935828877005348, 0.5935828877005348, 0.5935828877005348, 0.5962566844919787, 0.6042780748663101, 0.6042780748663101, 0.6310160427807486, 0.6417112299465241, 0.6524064171122995, 0.6524064171122995, 0.660427807486631, 0.6657754010695187, 0.6737967914438503, 0.6844919786096256, 0.6871657754010695, 0.6871657754010695, 0.6925133689839572, 0.6978609625668449, 0.7032085561497327, 0.713903743315508, 0.732620320855615, 0.7352941176470589, 0.7486631016042781, 0.7593582887700535, 0.7620320855614974, 0.7727272727272727, 0.7727272727272727, 0.7727272727272727, 0.7727272727272727, 0.7727272727272727, 0.7727272727272727, 0.7754010695187166, 0.7834224598930482, 0.7834224598930482, 0.7941176470588235, 0.7967914438502673, 0.8074866310160428, 0.8128342245989305, 0.820855614973262, 0.8235294117647058, 0.8235294117647058, 0.8262032085561497, 0.8342245989304813, 0.839572192513369, 0.839572192513369, 0.8422459893048129, 0.8502673796791443, 0.8556149732620321, 0.8556149732620321, 0.8636363636363636, 0.8663101604278075, 0.8689839572192514, 0.8689839572192514, 0.8689839572192514, 0.8743315508021391, 0.8743315508021391, 0.8770053475935828, 0.8770053475935828, 0.8823529411764706, 0.8903743315508021, 0.8957219251336899, 1.0]}, {\"mode\": \"lines\", \"name\": \"SVC\", \"type\": \"scatter\", \"x\": [0.0, 0.0, 0.000968054211035818, 0.000968054211035818, 0.002904162633107454, 0.002904162633107454, 0.003872216844143272, 0.003872216844143272, 0.005808325266214908, 0.005808325266214908, 0.006776379477250726, 0.006776379477250726, 0.00968054211035818, 0.00968054211035818, 0.010648596321393998, 0.010648596321393998, 0.012584704743465635, 0.012584704743465635, 0.013552758954501452, 0.013552758954501452, 0.016456921587608905, 0.016456921587608905, 0.017424975798644726, 0.017424975798644726, 0.018393030009680542, 0.018393030009680542, 0.01936108422071636, 0.01936108422071636, 0.021297192642787996, 0.021297192642787996, 0.023233301064859633, 0.023233301064859633, 0.02420135527589545, 0.02420135527589545, 0.027105517909002903, 0.027105517909002903, 0.02904162633107454, 0.02904162633107454, 0.031945788964181994, 0.031945788964181994, 0.03388189738625363, 0.03388189738625363, 0.03484995159728945, 0.03484995159728945, 0.0377541142303969, 0.0377541142303969, 0.03872216844143272, 0.03872216844143272, 0.04065827686350436, 0.04065827686350436, 0.041626331074540175, 0.041626331074540175, 0.04259438528557599, 0.04259438528557599, 0.044530493707647625, 0.044530493707647625, 0.04549854791868345, 0.04549854791868345, 0.04743465634075508, 0.04743465634075508, 0.0484027105517909, 0.0484027105517909, 0.049370764762826716, 0.049370764762826716, 0.051306873184898356, 0.051306873184898356, 0.05227492739593417, 0.05227492739593417, 0.05324298160696999, 0.05324298160696999, 0.05517909002904162, 0.05517909002904162, 0.057115198451113264, 0.057115198451113264, 0.05808325266214908, 0.05808325266214908, 0.06098741529525654, 0.06098741529525654, 0.06292352371732816, 0.06292352371732816, 0.06389157792836399, 0.06389157792836399, 0.06485963213939981, 0.06485963213939981, 0.06582768635043562, 0.06582768635043562, 0.06873184898354308, 0.06873184898354308, 0.0696999031945789, 0.0696999031945789, 0.07066795740561471, 0.07066795740561471, 0.07357212003872217, 0.07357212003872217, 0.07454017424975799, 0.07454017424975799, 0.0755082284607938, 0.0755082284607938, 0.07647628267182963, 0.07647628267182963, 0.07841239109390126, 0.07841239109390126, 0.07938044530493708, 0.07938044530493708, 0.0803484995159729, 0.0803484995159729, 0.08131655372700872, 0.08131655372700872, 0.08325266214908035, 0.08325266214908035, 0.08422071636011616, 0.08422071636011616, 0.08615682478218781, 0.08615682478218781, 0.08809293320425944, 0.08809293320425944, 0.08906098741529525, 0.08906098741529525, 0.0909970958373669, 0.0909970958373669, 0.09196515004840271, 0.09196515004840271, 0.09293320425943853, 0.09293320425943853, 0.09390125847047434, 0.09390125847047434, 0.0968054211035818, 0.0968054211035818, 0.10551790900290416, 0.10551790900290416, 0.1074540174249758, 0.1074540174249758, 0.10842207163601161, 0.10842207163601161, 0.1132623426911907, 0.1132623426911907, 0.11423039690222653, 0.11423039690222653, 0.11616650532429816, 0.11616650532429816, 0.11713455953533398, 0.11713455953533398, 0.12391093901258471, 0.12391093901258471, 0.12584704743465633, 0.12584704743465633, 0.12778315585672798, 0.12778315585672798, 0.12971926427879962, 0.12971926427879962, 0.13262342691190707, 0.13262342691190707, 0.1335914811229429, 0.1335914811229429, 0.13649564375605033, 0.13649564375605033, 0.13843175217812198, 0.13843175217812198, 0.1393998063891578, 0.1393998063891578, 0.1403678606001936, 0.1403678606001936, 0.14133591481122942, 0.14133591481122942, 0.14617618586640851, 0.14617618586640851, 0.14811229428848016, 0.14811229428848016, 0.15488867376573087, 0.15488867376573087, 0.15779283639883834, 0.15779283639883834, 0.1606969990319458, 0.1606969990319458, 0.16263310745401743, 0.16263310745401743, 0.16360116166505323, 0.16360116166505323, 0.16456921587608905, 0.16456921587608905, 0.1665053242981607, 0.1665053242981607, 0.17037754114230397, 0.17037754114230397, 0.17231364956437561, 0.17231364956437561, 0.1732817037754114, 0.1732817037754114, 0.17424975798644723, 0.17424975798644723, 0.17618586640851888, 0.17618586640851888, 0.17909002904162633, 0.17909002904162633, 0.18102613746369797, 0.18102613746369797, 0.1819941916747338, 0.1819941916747338, 0.18393030009680542, 0.18393030009680542, 0.18489835430784124, 0.18489835430784124, 0.1936108422071636, 0.1936108422071636, 0.20232333010648595, 0.20232333010648595, 0.20716360116166505, 0.20716360116166505, 0.2090997095837367, 0.2090997095837367, 0.21006776379477252, 0.21006776379477252, 0.2110358180058083, 0.2110358180058083, 0.21297192642787996, 0.21297192642787996, 0.21393998063891578, 0.21393998063891578, 0.21878025169409487, 0.21878025169409487, 0.22168441432720232, 0.22168441432720232, 0.22265246853823814, 0.22265246853823814, 0.2245885769603098, 0.2245885769603098, 0.22749273959341723, 0.22749273959341723, 0.23039690222652467, 0.23039690222652467, 0.23233301064859632, 0.23233301064859632, 0.23330106485963215, 0.23330106485963215, 0.23426911907066797, 0.23426911907066797, 0.23910939012584706, 0.23910939012584706, 0.24007744433688286, 0.24007744433688286, 0.24104549854791868, 0.24104549854791868, 0.2420135527589545, 0.2420135527589545, 0.24491771539206195, 0.24491771539206195, 0.24782187802516942, 0.24782187802516942, 0.24975798644724104, 0.24975798644724104, 0.25169409486931266, 0.25169409486931266, 0.2526621490803485, 0.2526621490803485, 0.2575024201355276, 0.2575024201355276, 0.2623426911907067, 0.2623426911907067, 0.26524685382381413, 0.26524685382381413, 0.2758954501452081, 0.2758954501452081, 0.27686350435624396, 0.27686350435624396, 0.2787996127783156, 0.2787996127783156, 0.28170377541142305, 0.28170377541142305, 0.28751210067763794, 0.28751210067763794, 0.2904162633107454, 0.2904162633107454, 0.29235237173281703, 0.29235237173281703, 0.2962245885769603, 0.2962245885769603, 0.3020329138431752, 0.3020329138431752, 0.30300096805421106, 0.30300096805421106, 0.30396902226524686, 0.30396902226524686, 0.3068731848983543, 0.3068731848983543, 0.30880929332042595, 0.30880929332042595, 0.31848983543078413, 0.31848983543078413, 0.3213939980638916, 0.3213939980638916, 0.3291384317521781, 0.3291384317521781, 0.33010648596321396, 0.33010648596321396, 0.33494675701839305, 0.33494675701839305, 0.3388189738625363, 0.3388189738625363, 0.33978702807357214, 0.33978702807357214, 0.3475314617618587, 0.3475314617618587, 0.34849951597289447, 0.34849951597289447, 0.35333978702807356, 0.35333978702807356, 0.3552758954501452, 0.3552758954501452, 0.35721200387221685, 0.35721200387221685, 0.3717328170377541, 0.3717328170377541, 0.3736689254598258, 0.3736689254598258, 0.37850919651500486, 0.37850919651500486, 0.3862536302032914, 0.3862536302032914, 0.38915779283639884, 0.38915779283639884, 0.40174249757986447, 0.40174249757986447, 0.4046466602129719, 0.4046466602129719, 0.41529525653436594, 0.41529525653436594, 0.41626331074540174, 0.41626331074540174, 0.41723136495643753, 0.41723136495643753, 0.4230396902226525, 0.4230396902226525, 0.42400774443368827, 0.42400774443368827, 0.43368828654404645, 0.43368828654404645, 0.4356243949661181, 0.4356243949661181, 0.43852855759922554, 0.43852855759922554, 0.44336882865440463, 0.44336882865440463, 0.4491771539206196, 0.4491771539206196, 0.4578896418199419, 0.4578896418199419, 0.4666021297192643, 0.4666021297192643, 0.4791868344627299, 0.4791868344627299, 0.48596321393998065, 0.48596321393998065, 0.4937076476282672, 0.4937076476282672, 0.494675701839303, 0.494675701839303, 0.49564375605033884, 0.49564375605033884, 0.4985479186834463, 0.4985479186834463, 0.5062923523717329, 0.5062923523717329, 0.5304937076476283, 0.5304937076476283, 0.5314617618586641, 0.5314617618586641, 0.5353339787028074, 0.5353339787028074, 0.5634075508228461, 0.5634075508228461, 0.5818005808325266, 0.5818005808325266, 0.5827686350435625, 0.5827686350435625, 0.5876089060987415, 0.5876089060987415, 0.5943852855759922, 0.5943852855759922, 0.5992255566311714, 0.5992255566311714, 0.616650532429816, 0.616650532429816, 0.6185866408518877, 0.6185866408518877, 0.6350435624394967, 0.6350435624394967, 0.6369796708615683, 0.6369796708615683, 0.6408518877057116, 0.6408518877057116, 0.6640851887705711, 0.6640851887705711, 0.6786060019361084, 0.6786060019361084, 0.6824782187802517, 0.6824782187802517, 0.6950629235237173, 0.6950629235237173, 0.7270087124878993, 0.7270087124878993, 0.7279767666989352, 0.7279767666989352, 0.7415295256534365, 0.7415295256534365, 0.7725072604065828, 0.7725072604065828, 0.7889641819941917, 0.7889641819941917, 0.8305905130687319, 0.8305905130687319, 0.8586640851887706, 0.8586640851887706, 0.8625363020329139, 0.8625363020329139, 0.8780251694094869, 0.8780251694094869, 0.8848015488867377, 0.8848015488867377, 0.89351403678606, 0.89351403678606, 1.0], \"y\": [0.0, 0.00267379679144385, 0.00267379679144385, 0.0106951871657754, 0.0106951871657754, 0.013368983957219251, 0.013368983957219251, 0.01871657754010695, 0.01871657754010695, 0.03208556149732621, 0.03208556149732621, 0.0374331550802139, 0.0374331550802139, 0.0481283422459893, 0.0481283422459893, 0.053475935828877004, 0.053475935828877004, 0.05614973262032086, 0.05614973262032086, 0.06951871657754011, 0.06951871657754011, 0.0855614973262032, 0.0855614973262032, 0.09090909090909091, 0.09090909090909091, 0.09358288770053476, 0.09358288770053476, 0.0962566844919786, 0.0962566844919786, 0.09893048128342247, 0.09893048128342247, 0.10427807486631016, 0.10427807486631016, 0.11497326203208556, 0.11497326203208556, 0.13101604278074866, 0.13101604278074866, 0.14171122994652408, 0.14171122994652408, 0.14705882352941177, 0.14705882352941177, 0.15508021390374332, 0.15508021390374332, 0.16310160427807488, 0.16310160427807488, 0.17647058823529413, 0.17647058823529413, 0.21657754010695188, 0.21657754010695188, 0.2192513368983957, 0.2192513368983957, 0.22192513368983957, 0.22192513368983957, 0.22459893048128343, 0.22459893048128343, 0.23529411764705882, 0.23529411764705882, 0.24866310160427807, 0.24866310160427807, 0.25133689839572193, 0.25133689839572193, 0.2540106951871658, 0.2540106951871658, 0.25935828877005346, 0.25935828877005346, 0.2647058823529412, 0.2647058823529412, 0.26737967914438504, 0.26737967914438504, 0.2700534759358289, 0.2700534759358289, 0.27540106951871657, 0.27540106951871657, 0.2807486631016043, 0.2807486631016043, 0.30213903743315507, 0.30213903743315507, 0.3074866310160428, 0.3074866310160428, 0.3181818181818182, 0.3181818181818182, 0.3235294117647059, 0.3235294117647059, 0.32620320855614976, 0.32620320855614976, 0.32887700534759357, 0.32887700534759357, 0.34759358288770054, 0.34759358288770054, 0.3502673796791444, 0.3502673796791444, 0.35294117647058826, 0.35294117647058826, 0.36363636363636365, 0.36363636363636365, 0.3663101604278075, 0.3663101604278075, 0.3716577540106952, 0.3716577540106952, 0.37433155080213903, 0.37433155080213903, 0.38235294117647056, 0.38235294117647056, 0.3850267379679144, 0.3850267379679144, 0.3877005347593583, 0.3877005347593583, 0.393048128342246, 0.393048128342246, 0.39572192513368987, 0.39572192513368987, 0.4037433155080214, 0.4037433155080214, 0.40641711229946526, 0.40641711229946526, 0.4144385026737968, 0.4144385026737968, 0.41711229946524064, 0.41711229946524064, 0.4197860962566845, 0.4197860962566845, 0.42245989304812837, 0.42245989304812837, 0.4304812834224599, 0.4304812834224599, 0.4385026737967914, 0.4385026737967914, 0.446524064171123, 0.446524064171123, 0.45187165775401067, 0.45187165775401067, 0.4625668449197861, 0.4625668449197861, 0.46524064171123, 0.46524064171123, 0.4732620320855615, 0.4732620320855615, 0.4786096256684492, 0.4786096256684492, 0.4839572192513369, 0.4839572192513369, 0.48663101604278075, 0.48663101604278075, 0.4893048128342246, 0.4893048128342246, 0.4946524064171123, 0.4946524064171123, 0.5, 0.5, 0.5026737967914439, 0.5026737967914439, 0.516042780748663, 0.516042780748663, 0.5187165775401069, 0.5187165775401069, 0.5240641711229946, 0.5240641711229946, 0.5267379679144385, 0.5267379679144385, 0.5294117647058824, 0.5294117647058824, 0.5347593582887701, 0.5347593582887701, 0.5374331550802139, 0.5374331550802139, 0.5401069518716578, 0.5401069518716578, 0.5561497326203209, 0.5561497326203209, 0.5588235294117647, 0.5588235294117647, 0.5668449197860963, 0.5668449197860963, 0.56951871657754, 0.56951871657754, 0.5775401069518716, 0.5775401069518716, 0.5802139037433155, 0.5802139037433155, 0.5855614973262032, 0.5855614973262032, 0.5935828877005348, 0.5935828877005348, 0.5962566844919787, 0.5962566844919787, 0.5989304812834224, 0.5989304812834224, 0.6042780748663101, 0.6042780748663101, 0.606951871657754, 0.606951871657754, 0.6149732620320856, 0.6149732620320856, 0.6176470588235294, 0.6176470588235294, 0.6203208556149733, 0.6203208556149733, 0.6283422459893048, 0.6283422459893048, 0.6310160427807486, 0.6310160427807486, 0.6336898395721925, 0.6336898395721925, 0.6363636363636364, 0.6363636363636364, 0.6390374331550802, 0.6390374331550802, 0.6417112299465241, 0.6417112299465241, 0.6443850267379679, 0.6443850267379679, 0.6470588235294118, 0.6470588235294118, 0.6550802139037433, 0.6550802139037433, 0.660427807486631, 0.660427807486631, 0.6631016042780749, 0.6631016042780749, 0.6657754010695187, 0.6764705882352942, 0.679144385026738, 0.679144385026738, 0.6844919786096256, 0.6844919786096256, 0.6871657754010695, 0.6871657754010695, 0.6925133689839572, 0.6925133689839572, 0.6951871657754011, 0.6951871657754011, 0.6978609625668449, 0.6978609625668449, 0.7005347593582888, 0.7005347593582888, 0.7032085561497327, 0.7032085561497327, 0.7058823529411765, 0.7058823529411765, 0.7112299465240641, 0.7112299465240641, 0.713903743315508, 0.713903743315508, 0.7192513368983957, 0.7192513368983957, 0.7219251336898396, 0.7219251336898396, 0.732620320855615, 0.732620320855615, 0.7379679144385026, 0.7379679144385026, 0.7406417112299465, 0.7406417112299465, 0.7433155080213903, 0.7433155080213903, 0.7459893048128342, 0.7459893048128342, 0.7486631016042781, 0.7486631016042781, 0.7566844919786097, 0.7566844919786097, 0.7593582887700535, 0.7593582887700535, 0.7620320855614974, 0.7620320855614974, 0.767379679144385, 0.767379679144385, 0.7700534759358288, 0.7700534759358288, 0.7727272727272727, 0.7727272727272727, 0.7754010695187166, 0.7754010695187166, 0.7780748663101604, 0.7780748663101604, 0.7834224598930482, 0.7834224598930482, 0.7914438502673797, 0.7914438502673797, 0.7941176470588235, 0.7941176470588235, 0.7967914438502673, 0.7967914438502673, 0.7994652406417112, 0.7994652406417112, 0.8021390374331551, 0.8021390374331551, 0.8074866310160428, 0.8074866310160428, 0.8101604278074866, 0.8101604278074866, 0.8128342245989305, 0.8128342245989305, 0.8155080213903744, 0.8155080213903744, 0.8181818181818182, 0.8181818181818182, 0.8235294117647058, 0.8235294117647058, 0.8262032085561497, 0.8262032085561497, 0.8288770053475936, 0.8288770053475936, 0.8342245989304813, 0.8342245989304813, 0.8368983957219251, 0.8368983957219251, 0.8422459893048129, 0.8422459893048129, 0.8449197860962567, 0.8449197860962567, 0.8475935828877005, 0.8475935828877005, 0.8502673796791443, 0.8502673796791443, 0.8529411764705882, 0.8529411764705882, 0.8556149732620321, 0.8556149732620321, 0.8582887700534759, 0.8582887700534759, 0.8609625668449198, 0.8609625668449198, 0.8636363636363636, 0.8636363636363636, 0.8663101604278075, 0.8663101604278075, 0.8716577540106952, 0.8716577540106952, 0.8743315508021391, 0.8743315508021391, 0.8770053475935828, 0.8770053475935828, 0.8823529411764706, 0.8823529411764706, 0.8850267379679144, 0.8850267379679144, 0.8903743315508021, 0.8903743315508021, 0.893048128342246, 0.893048128342246, 0.8957219251336899, 0.8957219251336899, 0.8983957219251337, 0.8983957219251337, 0.9010695187165776, 0.9010695187165776, 0.9037433155080213, 0.9037433155080213, 0.9064171122994652, 0.9064171122994652, 0.9090909090909091, 0.9090909090909091, 0.9117647058823529, 0.9117647058823529, 0.9144385026737968, 0.9144385026737968, 0.9171122994652406, 0.9171122994652406, 0.9197860962566845, 0.9197860962566845, 0.9224598930481284, 0.9224598930481284, 0.9251336898395722, 0.9251336898395722, 0.9278074866310161, 0.9278074866310161, 0.93048128342246, 0.93048128342246, 0.9331550802139037, 0.9331550802139037, 0.9358288770053476, 0.9358288770053476, 0.9385026737967914, 0.9385026737967914, 0.9411764705882353, 0.9411764705882353, 0.9438502673796791, 0.9438502673796791, 0.946524064171123, 0.946524064171123, 0.9491978609625669, 0.9491978609625669, 0.9518716577540107, 0.9518716577540107, 0.9545454545454546, 0.9545454545454546, 0.9572192513368984, 0.9572192513368984, 0.9598930481283422, 0.9598930481283422, 0.9625668449197861, 0.9625668449197861, 0.9652406417112299, 0.9652406417112299, 0.9679144385026738, 0.9679144385026738, 0.9705882352941176, 0.9705882352941176, 0.9732620320855615, 0.9732620320855615, 0.9759358288770054, 0.9759358288770054, 0.9786096256684492, 0.9786096256684492, 0.9812834224598931, 0.9812834224598931, 0.983957219251337, 0.983957219251337, 0.9866310160427807, 0.9866310160427807, 0.9893048128342246, 0.9893048128342246, 0.9919786096256684, 0.9919786096256684, 0.9946524064171123, 0.9946524064171123, 0.9973262032085561, 0.9973262032085561, 1.0, 1.0]}, {\"mode\": \"lines\", \"name\": \"RF\", \"type\": \"scatter\", \"x\": [0.0, 0.0, 0.0, 0.000968054211035818, 0.000968054211035818, 0.001936108422071636, 0.001936108422071636, 0.002904162633107454, 0.002904162633107454, 0.00484027105517909, 0.00484027105517909, 0.005808325266214908, 0.005808325266214908, 0.006776379477250726, 0.006776379477250726, 0.00968054211035818, 0.00968054211035818, 0.010648596321393998, 0.010648596321393998, 0.011616650532429816, 0.011616650532429816, 0.012584704743465635, 0.012584704743465635, 0.012584704743465635, 0.01452081316553727, 0.01452081316553727, 0.015488867376573089, 0.015488867376573089, 0.016456921587608905, 0.016456921587608905, 0.017424975798644726, 0.017424975798644726, 0.018393030009680542, 0.018393030009680542, 0.01936108422071636, 0.01936108422071636, 0.02032913843175218, 0.02032913843175218, 0.021297192642787996, 0.021297192642787996, 0.022265246853823813, 0.02420135527589545, 0.02420135527589545, 0.02516940948693127, 0.02516940948693127, 0.027105517909002903, 0.027105517909002903, 0.02904162633107454, 0.02904162633107454, 0.030009680542110357, 0.030009680542110357, 0.031945788964181994, 0.031945788964181994, 0.03291384317521781, 0.03291384317521781, 0.03388189738625363, 0.03388189738625363, 0.03484995159728945, 0.03581800580832527, 0.03581800580832527, 0.0377541142303969, 0.0377541142303969, 0.03872216844143272, 0.03872216844143272, 0.03969022265246854, 0.03969022265246854, 0.04065827686350436, 0.04065827686350436, 0.041626331074540175, 0.041626331074540175, 0.04259438528557599, 0.04259438528557599, 0.04356243949661181, 0.04356243949661181, 0.04549854791868345, 0.04549854791868345, 0.046466602129719266, 0.04743465634075508, 0.04743465634075508, 0.0484027105517909, 0.0484027105517909, 0.05033881897386254, 0.05033881897386254, 0.051306873184898356, 0.051306873184898356, 0.05227492739593417, 0.05227492739593417, 0.05324298160696999, 0.05324298160696999, 0.05421103581800581, 0.05614714424007745, 0.05614714424007745, 0.057115198451113264, 0.057115198451113264, 0.05808325266214908, 0.05808325266214908, 0.0590513068731849, 0.0590513068731849, 0.06098741529525654, 0.06098741529525654, 0.061955469506292354, 0.061955469506292354, 0.06292352371732816, 0.06292352371732816, 0.06389157792836399, 0.06389157792836399, 0.06582768635043562, 0.06582768635043562, 0.06582768635043562, 0.06679574056147145, 0.06679574056147145, 0.0696999031945789, 0.0696999031945789, 0.07163601161665054, 0.07163601161665054, 0.07357212003872217, 0.07357212003872217, 0.07454017424975799, 0.07454017424975799, 0.0755082284607938, 0.0755082284607938, 0.07744433688286544, 0.07744433688286544, 0.07938044530493708, 0.07938044530493708, 0.08325266214908035, 0.08325266214908035, 0.08422071636011616, 0.08422071636011616, 0.08615682478218781, 0.08615682478218781, 0.08712487899322362, 0.08809293320425944, 0.08809293320425944, 0.08906098741529525, 0.08906098741529525, 0.0909970958373669, 0.09196515004840271, 0.09196515004840271, 0.09486931268151017, 0.09486931268151017, 0.09583736689254599, 0.09583736689254599, 0.0968054211035818, 0.0968054211035818, 0.09777347531461762, 0.09970958373668926, 0.09970958373668926, 0.10067763794772508, 0.10067763794772508, 0.10164569215876089, 0.10261374636979671, 0.10261374636979671, 0.10454985479186835, 0.10454985479186835, 0.10648596321393998, 0.10648596321393998, 0.1074540174249758, 0.1074540174249758, 0.10939012584704744, 0.11035818005808325, 0.11035818005808325, 0.1122942884801549, 0.1122942884801549, 0.1132623426911907, 0.11616650532429816, 0.12197483059051308, 0.12391093901258471, 0.12487899322362052, 0.12487899322362052, 0.12584704743465633, 0.12584704743465633, 0.12778315585672798, 0.12778315585672798, 0.13262342691190707, 0.13262342691190707, 0.1335914811229429, 0.1355275895450145, 0.13649564375605033, 0.13649564375605033, 0.13746369796708616, 0.13746369796708616, 0.13843175217812198, 0.13843175217812198, 0.1403678606001936, 0.1403678606001936, 0.14133591481122942, 0.14230396902226525, 0.14327202323330107, 0.14327202323330107, 0.1442400774443369, 0.1442400774443369, 0.14714424007744434, 0.14714424007744434, 0.14811229428848016, 0.14811229428848016, 0.14908034849951599, 0.14908034849951599, 0.14908034849951599, 0.15004840271055178, 0.15004840271055178, 0.15392061955469508, 0.15488867376573087, 0.15488867376573087, 0.1558567279767667, 0.15682478218780252, 0.15682478218780252, 0.15779283639883834, 0.15779283639883834, 0.16263310745401743, 0.16263310745401743, 0.16360116166505323, 0.16360116166505323, 0.16553727008712488, 0.16844143272023232, 0.16844143272023232, 0.17037754114230397, 0.17037754114230397, 0.17231364956437561, 0.17231364956437561, 0.17521781219748306, 0.1781219748305905, 0.17909002904162633, 0.17909002904162633, 0.18005808325266215, 0.18005808325266215, 0.18102613746369797, 0.18102613746369797, 0.1819941916747338, 0.1819941916747338, 0.18489835430784124, 0.18586640851887706, 0.1868344627299129, 0.18973862536302033, 0.18973862536302033, 0.19167473378509198, 0.19167473378509198, 0.1936108422071636, 0.19651500484027107, 0.19651500484027107, 0.19748305905130686, 0.19748305905130686, 0.1984511132623427, 0.1994191674733785, 0.1994191674733785, 0.20135527589545016, 0.20232333010648595, 0.20232333010648595, 0.20522749273959343, 0.20522749273959343, 0.20619554695062922, 0.20813165537270087, 0.2090997095837367, 0.21006776379477252, 0.21006776379477252, 0.2110358180058083, 0.2149080348499516, 0.21684414327202323, 0.21684414327202323, 0.21878025169409487, 0.2197483059051307, 0.2197483059051307, 0.2207163601161665, 0.22168441432720232, 0.22168441432720232, 0.2265246853823814, 0.22846079380445306, 0.22846079380445306, 0.22942884801548888, 0.23039690222652467, 0.2313649564375605, 0.2313649564375605, 0.23426911907066797, 0.23523717328170377, 0.23910939012584706, 0.23910939012584706, 0.24007744433688286, 0.24298160696999033, 0.24298160696999033, 0.2468538238141336, 0.24782187802516942, 0.24782187802516942, 0.24878993223620524, 0.24878993223620524, 0.24975798644724104, 0.2526621490803485, 0.2536302032913843, 0.2536302032913843, 0.25556631171345595, 0.25653436592449175, 0.25653436592449175, 0.2575024201355276, 0.2681510164569216, 0.2681510164569216, 0.2691190706679574, 0.2739593417231365, 0.2749273959341723, 0.2787996127783156, 0.2797676669893514, 0.2836398838334947, 0.2836398838334947, 0.28654404646660214, 0.2894482090997096, 0.2904162633107454, 0.2904162633107454, 0.29138431752178123, 0.2962245885769603, 0.29912875121006777, 0.30009680542110356, 0.30300096805421106, 0.30977734753146174, 0.3117134559535334, 0.3117134559535334, 0.31752178121974833, 0.31752178121974833, 0.3213939980638916, 0.32236205227492737, 0.32236205227492737, 0.3233301064859632, 0.3291384317521781, 0.33107454017424975, 0.33107454017424975, 0.3378509196515005, 0.3378509196515005, 0.34462729912875123, 0.3465634075508228, 0.3465634075508228, 0.3514036786060019, 0.35237173281703776, 0.35237173281703776, 0.3552758954501452, 0.3552758954501452, 0.356243949661181, 0.356243949661181, 0.3610842207163601, 0.3610842207163601, 0.36205227492739595, 0.36205227492739595, 0.36302032913843174, 0.3697967086156825, 0.3707647628267183, 0.3823814133591481, 0.3823814133591481, 0.38431752178121975, 0.38431752178121975, 0.38528557599225555, 0.39496611810261373, 0.3959341723136496, 0.40174249757986447, 0.4027105517909003, 0.4027105517909003, 0.4075508228460794, 0.41142303969022265, 0.41723136495643753, 0.4269119070667957, 0.42787996127783157, 0.4317521781219748, 0.4317521781219748, 0.43852855759922554, 0.4394966118102614, 0.4462729912875121, 0.44724104549854793, 0.452081316553727, 0.45401742497579867, 0.46079380445304935, 0.46466602129719264, 0.4762826718296225, 0.47725072604065827, 0.47725072604065827, 0.48112294288480156, 0.4830590513068732, 0.4878993223620523, 0.4898354307841239, 0.49080348499515974, 0.4985479186834463, 0.5004840271055179, 0.5004840271055179, 0.5082284607938045, 0.5091965150048403, 0.515972894482091, 0.5179090029041626, 0.526621490803485, 0.5324298160696999, 0.5333978702807357, 0.542110358180058, 0.542110358180058, 0.5430784123910939, 0.5556631171345595, 0.5566311713455954, 0.5566311713455954, 0.5634075508228461, 0.5634075508228461, 0.5643756050338818, 0.5682478218780251, 0.5701839303000968, 0.5779283639883833, 0.5779283639883833, 0.5788964181994192, 0.5885769603097774, 0.5885769603097774, 0.5972894482090997, 0.5982575024201355, 0.6001936108422071, 0.601161665053243, 0.6137463697967086, 0.6156824782187803, 0.6253630203291385, 0.6427879961277831, 0.643756050338819, 0.6621490803484995, 0.6631171345595354, 0.6766698935140368, 0.6873184898354308, 0.7037754114230397, 0.7047434656340755, 0.7250726040658277, 0.7250726040658277, 0.739593417231365, 0.7405614714424008, 0.7628267182962246, 0.7812197483059051, 0.7812197483059051, 0.8015488867376573, 0.8238141335914811, 0.8673765730880929, 0.8693126815101646, 0.9099709583736689, 1.0], \"y\": [0.0, 0.00267379679144385, 0.029411764705882353, 0.029411764705882353, 0.03208556149732621, 0.03208556149732621, 0.0427807486631016, 0.0427807486631016, 0.0481283422459893, 0.0481283422459893, 0.05080213903743316, 0.05080213903743316, 0.05614973262032086, 0.05614973262032086, 0.06149732620320856, 0.06149732620320856, 0.06417112299465241, 0.06417112299465241, 0.0748663101604278, 0.0748663101604278, 0.08288770053475936, 0.08288770053475936, 0.08823529411764706, 0.11497326203208556, 0.11497326203208556, 0.14171122994652408, 0.14171122994652408, 0.14705882352941177, 0.14705882352941177, 0.15775401069518716, 0.15775401069518716, 0.16310160427807488, 0.16310160427807488, 0.1711229946524064, 0.1711229946524064, 0.17647058823529413, 0.17647058823529413, 0.18181818181818182, 0.18181818181818182, 0.18449197860962566, 0.18716577540106952, 0.18716577540106952, 0.20320855614973263, 0.20320855614973263, 0.20855614973262032, 0.20855614973262032, 0.21390374331550802, 0.21390374331550802, 0.2192513368983957, 0.2192513368983957, 0.22192513368983957, 0.22192513368983957, 0.22727272727272727, 0.22727272727272727, 0.22994652406417113, 0.22994652406417113, 0.23529411764705882, 0.23796791443850268, 0.23796791443850268, 0.24598930481283424, 0.24598930481283424, 0.24866310160427807, 0.24866310160427807, 0.25133689839572193, 0.25133689839572193, 0.2540106951871658, 0.2540106951871658, 0.25935828877005346, 0.25935828877005346, 0.2620320855614973, 0.2620320855614973, 0.2647058823529412, 0.2647058823529412, 0.2727272727272727, 0.2727272727272727, 0.27540106951871657, 0.27540106951871657, 0.28342245989304815, 0.28609625668449196, 0.28609625668449196, 0.2887700534759358, 0.2887700534759358, 0.30213903743315507, 0.30213903743315507, 0.3074866310160428, 0.3074866310160428, 0.31016042780748665, 0.31016042780748665, 0.32620320855614976, 0.32620320855614976, 0.32887700534759357, 0.3422459893048128, 0.3422459893048128, 0.3449197860962567, 0.3449197860962567, 0.3502673796791444, 0.3502673796791444, 0.36363636363636365, 0.36363636363636365, 0.3689839572192513, 0.3689839572192513, 0.3716577540106952, 0.3716577540106952, 0.37433155080213903, 0.37433155080213903, 0.3770053475935829, 0.3770053475935829, 0.38235294117647056, 0.3850267379679144, 0.3850267379679144, 0.3877005347593583, 0.3877005347593583, 0.39572192513368987, 0.39572192513368987, 0.3983957219251337, 0.3983957219251337, 0.4037433155080214, 0.4037433155080214, 0.40641711229946526, 0.40641711229946526, 0.4090909090909091, 0.4090909090909091, 0.41711229946524064, 0.41711229946524064, 0.4304812834224599, 0.4304812834224599, 0.43315508021390375, 0.43315508021390375, 0.4358288770053476, 0.4358288770053476, 0.4385026737967914, 0.4385026737967914, 0.4411764705882353, 0.44385026737967914, 0.44385026737967914, 0.446524064171123, 0.446524064171123, 0.45187165775401067, 0.4572192513368984, 0.4572192513368984, 0.45989304812834225, 0.45989304812834225, 0.4679144385026738, 0.4679144385026738, 0.47058823529411764, 0.47058823529411764, 0.47593582887700536, 0.48128342245989303, 0.48128342245989303, 0.4839572192513369, 0.4839572192513369, 0.48663101604278075, 0.4893048128342246, 0.4893048128342246, 0.4919786096256685, 0.4919786096256685, 0.49732620320855614, 0.49732620320855614, 0.5080213903743316, 0.5080213903743316, 0.5080213903743316, 0.5106951871657754, 0.5106951871657754, 0.5133689839572193, 0.5133689839572193, 0.5133689839572193, 0.5133689839572193, 0.516042780748663, 0.516042780748663, 0.5187165775401069, 0.5187165775401069, 0.5240641711229946, 0.5240641711229946, 0.5294117647058824, 0.5294117647058824, 0.5320855614973262, 0.5320855614973262, 0.5374331550802139, 0.5374331550802139, 0.5401069518716578, 0.5401069518716578, 0.5454545454545454, 0.5454545454545454, 0.5481283422459893, 0.5481283422459893, 0.553475935828877, 0.553475935828877, 0.5561497326203209, 0.5561497326203209, 0.5588235294117647, 0.5614973262032086, 0.5641711229946524, 0.5641711229946524, 0.5721925133689839, 0.5721925133689839, 0.5748663101604278, 0.5748663101604278, 0.5775401069518716, 0.5828877005347594, 0.5828877005347594, 0.5855614973262032, 0.5855614973262032, 0.5855614973262032, 0.5962566844919787, 0.6016042780748663, 0.6016042780748663, 0.6042780748663101, 0.6042780748663101, 0.606951871657754, 0.606951871657754, 0.6122994652406417, 0.6122994652406417, 0.6149732620320856, 0.6256684491978609, 0.6256684491978609, 0.6283422459893048, 0.6283422459893048, 0.6310160427807486, 0.6310160427807486, 0.6336898395721925, 0.6336898395721925, 0.6363636363636364, 0.6363636363636364, 0.6390374331550802, 0.6390374331550802, 0.6417112299465241, 0.6417112299465241, 0.6443850267379679, 0.6443850267379679, 0.6470588235294118, 0.6470588235294118, 0.6524064171122995, 0.6524064171122995, 0.6550802139037433, 0.6657754010695187, 0.6657754010695187, 0.6684491978609626, 0.6684491978609626, 0.6684491978609626, 0.6711229946524064, 0.6711229946524064, 0.6737967914438503, 0.6737967914438503, 0.6764705882352942, 0.6844919786096256, 0.6844919786096256, 0.6844919786096256, 0.6925133689839572, 0.6925133689839572, 0.6951871657754011, 0.6978609625668449, 0.6978609625668449, 0.7032085561497327, 0.7032085561497327, 0.7058823529411765, 0.7058823529411765, 0.7085561497326203, 0.7085561497326203, 0.7112299465240641, 0.713903743315508, 0.713903743315508, 0.7165775401069518, 0.7192513368983957, 0.7192513368983957, 0.7219251336898396, 0.7219251336898396, 0.7219251336898396, 0.7245989304812834, 0.7245989304812834, 0.7299465240641712, 0.7299465240641712, 0.7352941176470589, 0.7352941176470589, 0.7352941176470589, 0.7379679144385026, 0.7406417112299465, 0.7406417112299465, 0.7433155080213903, 0.7459893048128342, 0.7459893048128342, 0.7459893048128342, 0.7486631016042781, 0.7486631016042781, 0.7540106951871658, 0.7540106951871658, 0.7593582887700535, 0.7593582887700535, 0.7620320855614974, 0.7647058823529411, 0.7647058823529411, 0.767379679144385, 0.767379679144385, 0.7727272727272727, 0.7754010695187166, 0.7754010695187166, 0.7807486631016043, 0.7807486631016043, 0.786096256684492, 0.786096256684492, 0.7887700534759359, 0.7914438502673797, 0.7914438502673797, 0.7941176470588235, 0.7941176470588235, 0.7967914438502673, 0.7967914438502673, 0.7967914438502673, 0.7967914438502673, 0.8048128342245989, 0.8048128342245989, 0.8074866310160428, 0.8074866310160428, 0.8128342245989305, 0.8155080213903744, 0.820855614973262, 0.820855614973262, 0.8235294117647058, 0.8262032085561497, 0.8262032085561497, 0.8262032085561497, 0.8262032085561497, 0.8288770053475936, 0.8315508021390374, 0.8368983957219251, 0.839572192513369, 0.839572192513369, 0.8422459893048129, 0.8422459893048129, 0.8422459893048129, 0.8449197860962567, 0.8449197860962567, 0.8475935828877005, 0.8475935828877005, 0.8502673796791443, 0.8529411764705882, 0.8556149732620321, 0.8556149732620321, 0.8582887700534759, 0.8582887700534759, 0.8609625668449198, 0.8609625668449198, 0.8663101604278075, 0.8689839572192514, 0.8689839572192514, 0.8716577540106952, 0.8716577540106952, 0.8743315508021391, 0.8743315508021391, 0.8796791443850267, 0.8796791443850267, 0.8823529411764706, 0.8877005347593583, 0.8877005347593583, 0.8957219251336899, 0.8957219251336899, 0.8957219251336899, 0.8983957219251337, 0.9010695187165776, 0.9010695187165776, 0.9010695187165776, 0.9064171122994652, 0.9064171122994652, 0.9090909090909091, 0.9090909090909091, 0.9144385026737968, 0.9144385026737968, 0.9144385026737968, 0.9144385026737968, 0.9171122994652406, 0.9171122994652406, 0.9171122994652406, 0.9197860962566845, 0.9197860962566845, 0.9197860962566845, 0.9197860962566845, 0.9197860962566845, 0.9224598930481284, 0.9331550802139037, 0.9331550802139037, 0.9358288770053476, 0.9358288770053476, 0.9411764705882353, 0.9411764705882353, 0.9411764705882353, 0.9438502673796791, 0.946524064171123, 0.946524064171123, 0.946524064171123, 0.946524064171123, 0.9491978609625669, 0.9518716577540107, 0.9545454545454546, 0.9545454545454546, 0.9598930481283422, 0.9598930481283422, 0.9625668449197861, 0.9652406417112299, 0.9652406417112299, 0.9705882352941176, 0.9732620320855615, 0.9732620320855615, 0.9732620320855615, 0.9732620320855615, 0.9732620320855615, 0.9759358288770054, 0.9759358288770054, 0.9759358288770054, 0.9786096256684492, 0.9786096256684492, 0.9812834224598931, 0.9812834224598931, 0.9812834224598931, 0.9812834224598931, 0.9812834224598931, 0.9812834224598931, 0.9812834224598931, 0.9893048128342246, 0.9893048128342246, 0.9893048128342246, 0.9893048128342246, 0.9919786096256684, 0.9946524064171123, 0.9946524064171123, 0.9973262032085561, 1.0, 1.0, 1.0, 1.0]}, {\"mode\": \"lines\", \"name\": \"ADA\", \"type\": \"scatter\", \"x\": [0.0, 0.0, 0.000968054211035818, 0.000968054211035818, 0.001936108422071636, 0.001936108422071636, 0.001936108422071636, 0.001936108422071636, 0.002904162633107454, 0.002904162633107454, 0.003872216844143272, 0.003872216844143272, 0.00484027105517909, 0.005808325266214908, 0.005808325266214908, 0.005808325266214908, 0.005808325266214908, 0.005808325266214908, 0.006776379477250726, 0.006776379477250726, 0.007744433688286544, 0.007744433688286544, 0.007744433688286544, 0.007744433688286544, 0.007744433688286544, 0.008712487899322363, 0.008712487899322363, 0.00968054211035818, 0.00968054211035818, 0.012584704743465635, 0.012584704743465635, 0.012584704743465635, 0.012584704743465635, 0.013552758954501452, 0.013552758954501452, 0.013552758954501452, 0.01452081316553727, 0.015488867376573089, 0.016456921587608905, 0.016456921587608905, 0.017424975798644726, 0.017424975798644726, 0.017424975798644726, 0.017424975798644726, 0.02032913843175218, 0.022265246853823813, 0.022265246853823813, 0.023233301064859633, 0.02516940948693127, 0.026137463697967087, 0.026137463697967087, 0.027105517909002903, 0.027105517909002903, 0.027105517909002903, 0.028073572120038724, 0.028073572120038724, 0.02904162633107454, 0.030009680542110357, 0.030009680542110357, 0.031945788964181994, 0.031945788964181994, 0.03388189738625363, 0.03388189738625363, 0.03484995159728945, 0.03581800580832527, 0.03581800580832527, 0.036786060019361085, 0.036786060019361085, 0.036786060019361085, 0.0377541142303969, 0.0377541142303969, 0.03872216844143272, 0.03872216844143272, 0.03969022265246854, 0.03969022265246854, 0.04259438528557599, 0.04259438528557599, 0.04259438528557599, 0.044530493707647625, 0.046466602129719266, 0.046466602129719266, 0.04743465634075508, 0.04743465634075508, 0.04743465634075508, 0.049370764762826716, 0.049370764762826716, 0.049370764762826716, 0.049370764762826716, 0.05033881897386254, 0.05033881897386254, 0.05227492739593417, 0.05227492739593417, 0.05517909002904162, 0.05517909002904162, 0.05614714424007745, 0.05808325266214908, 0.05808325266214908, 0.060019361084220714, 0.06098741529525654, 0.06098741529525654, 0.06292352371732816, 0.06292352371732816, 0.06485963213939981, 0.06485963213939981, 0.06679574056147145, 0.06679574056147145, 0.06776379477250725, 0.06776379477250725, 0.07163601161665054, 0.07260406582768635, 0.07357212003872217, 0.0755082284607938, 0.0755082284607938, 0.0755082284607938, 0.0755082284607938, 0.07744433688286544, 0.07744433688286544, 0.07841239109390126, 0.08131655372700872, 0.08325266214908035, 0.08325266214908035, 0.08325266214908035, 0.08518877057115198, 0.08615682478218781, 0.08615682478218781, 0.08712487899322362, 0.08712487899322362, 0.08809293320425944, 0.08809293320425944, 0.09002904162633107, 0.0909970958373669, 0.0909970958373669, 0.0968054211035818, 0.0968054211035818, 0.09874152952565343, 0.09970958373668926, 0.09970958373668926, 0.10358180058083252, 0.10358180058083252, 0.10358180058083252, 0.10454985479186835, 0.10551790900290416, 0.10551790900290416, 0.10551790900290416, 0.10939012584704744, 0.10939012584704744, 0.11132623426911907, 0.11132623426911907, 0.1132623426911907, 0.1132623426911907, 0.11423039690222653, 0.11423039690222653, 0.11423039690222653, 0.11519845111326234, 0.11519845111326234, 0.11616650532429816, 0.11616650532429816, 0.11713455953533398, 0.11713455953533398, 0.1181026137463698, 0.12003872216844143, 0.12003872216844143, 0.12197483059051308, 0.12391093901258471, 0.12487899322362052, 0.12487899322362052, 0.12584704743465633, 0.12584704743465633, 0.12681510164569215, 0.12681510164569215, 0.13068731848983542, 0.13262342691190707, 0.13262342691190707, 0.1335914811229429, 0.1335914811229429, 0.14230396902226525, 0.14230396902226525, 0.14327202323330107, 0.1452081316553727, 0.1452081316553727, 0.14617618586640851, 0.14617618586640851, 0.14811229428848016, 0.14811229428848016, 0.15004840271055178, 0.1510164569215876, 0.15198451113262343, 0.15198451113262343, 0.15392061955469508, 0.15392061955469508, 0.15876089060987417, 0.15876089060987417, 0.1606969990319458, 0.1606969990319458, 0.16263310745401743, 0.16263310745401743, 0.16456921587608905, 0.16456921587608905, 0.16747337850919652, 0.16747337850919652, 0.16844143272023232, 0.16940948693126814, 0.16940948693126814, 0.17037754114230397, 0.1732817037754114, 0.17424975798644723, 0.17424975798644723, 0.17424975798644723, 0.17521781219748306, 0.17521781219748306, 0.17618586640851888, 0.17618586640851888, 0.1781219748305905, 0.1781219748305905, 0.18393030009680542, 0.18586640851887706, 0.18586640851887706, 0.18780251694094868, 0.18780251694094868, 0.19264278799612777, 0.19264278799612777, 0.19554695062923524, 0.19554695062923524, 0.19651500484027107, 0.19651500484027107, 0.1984511132623427, 0.1994191674733785, 0.20135527589545016, 0.20135527589545016, 0.20135527589545016, 0.20232333010648595, 0.20329138431752178, 0.20329138431752178, 0.2042594385285576, 0.20619554695062922, 0.20716360116166505, 0.20716360116166505, 0.20813165537270087, 0.20813165537270087, 0.2090997095837367, 0.2090997095837367, 0.21200387221684414, 0.21393998063891578, 0.21393998063891578, 0.21684414327202323, 0.21781219748305905, 0.2197483059051307, 0.22362052274927396, 0.22749273959341723, 0.22749273959341723, 0.22749273959341723, 0.22749273959341723, 0.22846079380445306, 0.23039690222652467, 0.2313649564375605, 0.2371732817037754, 0.23910939012584706, 0.23910939012584706, 0.24104549854791868, 0.24394966118102615, 0.24394966118102615, 0.24491771539206195, 0.24491771539206195, 0.24588576960309777, 0.24588576960309777, 0.2536302032913843, 0.2536302032913843, 0.25556631171345595, 0.25653436592449175, 0.26040658276863504, 0.26040658276863504, 0.26137463697967084, 0.26137463697967084, 0.2623426911907067, 0.2623426911907067, 0.26427879961277834, 0.26427879961277834, 0.271055179090029, 0.271055179090029, 0.27202323330106487, 0.27202323330106487, 0.2758954501452081, 0.2758954501452081, 0.2758954501452081, 0.27783155856727976, 0.27783155856727976, 0.2797676669893514, 0.2797676669893514, 0.28267182962245885, 0.28267182962245885, 0.2836398838334947, 0.2855759922555663, 0.28751210067763794, 0.28751210067763794, 0.2894482090997096, 0.2904162633107454, 0.29235237173281703, 0.2933204259438529, 0.2933204259438529, 0.2942884801548887, 0.2971926427879961, 0.3068731848983543, 0.3068731848983543, 0.30880929332042595, 0.30880929332042595, 0.3107454017424976, 0.3107454017424976, 0.31268151016456924, 0.31268151016456924, 0.31461761858664083, 0.31461761858664083, 0.3155856727976767, 0.3155856727976767, 0.31752178121974833, 0.31848983543078413, 0.33107454017424975, 0.3330106485963214, 0.3330106485963214, 0.3339787028073572, 0.33591481122942884, 0.33591481122942884, 0.3388189738625363, 0.3388189738625363, 0.34172313649564373, 0.34172313649564373, 0.3436592449177154, 0.3436592449177154, 0.34462729912875123, 0.34849951597289447, 0.34849951597289447, 0.3543078412391094, 0.356243949661181, 0.3591481122942885, 0.36205227492739595, 0.36205227492739595, 0.3659244917715392, 0.3659244917715392, 0.3688286544046467, 0.3688286544046467, 0.38044530493707646, 0.3814133591481123, 0.3823814133591481, 0.3823814133591481, 0.3872216844143272, 0.3872216844143272, 0.39303000968054214, 0.3969022265246854, 0.409486931268151, 0.409486931268151, 0.4356243949661181, 0.4365924491771539, 0.4404646660212972, 0.44240077444336884, 0.44240077444336884, 0.4443368828654405, 0.4443368828654405, 0.452081316553727, 0.452081316553727, 0.45595353339787026, 0.4578896418199419, 0.462729912875121, 0.46369796708615685, 0.4666021297192643, 0.4675701839303001, 0.4762826718296225, 0.4762826718296225, 0.4782187802516941, 0.4782187802516941, 0.4791868344627299, 0.4791868344627299, 0.4801548886737657, 0.4801548886737657, 0.48209099709583736, 0.48209099709583736, 0.48596321393998065, 0.48596321393998065, 0.49080348499515974, 0.4927395934172314, 0.505324298160697, 0.5072604065827686, 0.510164569215876, 0.510164569215876, 0.5150048402710552, 0.5169409486931268, 0.5343659244917716, 0.5343659244917716, 0.5392061955469506, 0.5392061955469506, 0.5556631171345595, 0.5575992255566312, 0.558567279767667, 0.558567279767667, 0.5614714424007744, 0.5614714424007744, 0.5634075508228461, 0.5653436592449177, 0.569215876089061, 0.569215876089061, 0.5750242013552759, 0.5750242013552759, 0.5847047434656341, 0.5885769603097774, 0.5895450145208132, 0.5914811229428848, 0.5982575024201355, 0.5982575024201355, 0.6001936108422071, 0.6021297192642788, 0.6089060987415296, 0.6089060987415296, 0.6108422071636012, 0.611810261374637, 0.6137463697967086, 0.6156824782187803, 0.6176185866408519, 0.6340755082284608, 0.6340755082284608, 0.6360116166505324, 0.643756050338819, 0.6447241045498547, 0.6505324298160697, 0.6524685382381413, 0.6553727008712488, 0.6573088092933205, 0.6940948693126815, 0.6960309777347532, 0.7066795740561471, 0.7086156824782188, 0.7202323330106486, 0.7221684414327202, 0.7299128751210068, 0.7318489835430784, 0.7434656340755083, 0.7454017424975798, 0.7541142303969022, 0.7541142303969022, 0.7599225556631172, 0.7618586640851888, 0.7734753146176185, 0.7773475314617618, 0.78702807357212, 0.7889641819941917, 0.7938044530493708, 0.7957405614714425, 0.797676669893514, 0.7996127783155856, 0.8025169409486931, 0.8102613746369797, 0.8112294288480155, 0.814133591481123, 0.8151016456921588, 0.818973862536302, 0.8228460793804453, 0.8247821878025169, 0.8257502420135527, 0.8276863504356244, 0.8344627299128751, 0.8354307841239109, 0.8373668925459826, 0.8402710551790901, 0.8422071636011617, 0.856727976766699, 0.8586640851887706, 0.8596321393998064, 0.8625363020329139, 0.8644724104549855, 0.8693126815101646, 0.8702807357212003, 0.8760890609874153, 0.8780251694094869, 0.8809293320425944, 0.8818973862536302, 0.8867376573088093, 0.888673765730881, 0.89351403678606, 0.8973862536302033, 0.9022265246853823, 0.9051306873184899, 0.9060987415295256, 0.9099709583736689, 0.9177153920619555, 0.920619554695063, 0.9225556631171346, 0.9244917715392061, 0.9273959341723137, 0.9283639883833494, 0.9303000968054211, 0.9332042594385286, 0.9409486931268151, 0.9428848015488868, 0.9486931268151017, 0.952565343659245, 0.9554695062923524, 0.9612778315585673, 0.9632139399806389, 0.9651500484027106, 0.9670861568247822, 0.968054211035818, 0.9709583736689255, 0.9767666989351403, 0.978702807357212, 0.9796708615682478, 0.9816069699903195, 0.9883833494675702, 0.9903194578896418, 1.0], \"y\": [0.0, 0.0053475935828877, 0.0106951871657754, 0.013368983957219251, 0.01871657754010695, 0.0213903743315508, 0.029411764705882353, 0.034759358288770054, 0.034759358288770054, 0.06684491978609626, 0.07219251336898395, 0.0748663101604278, 0.0748663101604278, 0.07754010695187166, 0.08021390374331551, 0.08823529411764706, 0.0962566844919786, 0.10160427807486631, 0.10160427807486631, 0.11229946524064172, 0.11229946524064172, 0.11764705882352941, 0.12566844919786097, 0.13368983957219252, 0.13636363636363635, 0.13636363636363635, 0.14171122994652408, 0.14171122994652408, 0.1497326203208556, 0.1497326203208556, 0.15508021390374332, 0.16042780748663102, 0.1657754010695187, 0.17379679144385027, 0.17914438502673796, 0.18449197860962566, 0.18449197860962566, 0.18983957219251338, 0.18983957219251338, 0.1925133689839572, 0.19518716577540107, 0.19786096256684493, 0.20320855614973263, 0.20588235294117646, 0.20588235294117646, 0.20588235294117646, 0.21122994652406418, 0.21122994652406418, 0.2192513368983957, 0.2192513368983957, 0.22459893048128343, 0.22459893048128343, 0.22727272727272727, 0.232620320855615, 0.23796791443850268, 0.24331550802139038, 0.24598930481283424, 0.24598930481283424, 0.24866310160427807, 0.24866310160427807, 0.25133689839572193, 0.25133689839572193, 0.2540106951871658, 0.2540106951871658, 0.25668449197860965, 0.25935828877005346, 0.25935828877005346, 0.26737967914438504, 0.2727272727272727, 0.2727272727272727, 0.27807486631016043, 0.2807486631016043, 0.28609625668449196, 0.28609625668449196, 0.29411764705882354, 0.29411764705882354, 0.2994652406417112, 0.30213903743315507, 0.30213903743315507, 0.30213903743315507, 0.3074866310160428, 0.3074866310160428, 0.3155080213903743, 0.32085561497326204, 0.32085561497326204, 0.3235294117647059, 0.3315508021390374, 0.3342245989304813, 0.3342245989304813, 0.339572192513369, 0.339572192513369, 0.3449197860962567, 0.3449197860962567, 0.34759358288770054, 0.34759358288770054, 0.35561497326203206, 0.3582887700534759, 0.36363636363636365, 0.36363636363636365, 0.3663101604278075, 0.3663101604278075, 0.3689839572192513, 0.3689839572192513, 0.37433155080213903, 0.37433155080213903, 0.3770053475935829, 0.3770053475935829, 0.38235294117647056, 0.38235294117647056, 0.3850267379679144, 0.3850267379679144, 0.393048128342246, 0.39572192513368987, 0.4037433155080214, 0.40641711229946526, 0.40641711229946526, 0.41711229946524064, 0.41711229946524064, 0.41711229946524064, 0.41711229946524064, 0.42245989304812837, 0.43315508021390375, 0.43315508021390375, 0.4411764705882353, 0.44919786096256686, 0.44919786096256686, 0.45187165775401067, 0.45187165775401067, 0.45454545454545453, 0.45454545454545453, 0.45454545454545453, 0.4572192513368984, 0.4572192513368984, 0.45989304812834225, 0.4625668449197861, 0.4625668449197861, 0.46524064171123, 0.46524064171123, 0.47058823529411764, 0.4732620320855615, 0.4732620320855615, 0.47593582887700536, 0.4919786096256685, 0.49732620320855614, 0.49732620320855614, 0.5080213903743316, 0.5080213903743316, 0.5133689839572193, 0.5133689839572193, 0.5213903743315508, 0.5213903743315508, 0.5267379679144385, 0.5320855614973262, 0.5320855614973262, 0.5347593582887701, 0.5347593582887701, 0.5374331550802139, 0.5374331550802139, 0.5401069518716578, 0.5427807486631016, 0.5427807486631016, 0.5454545454545454, 0.5508021390374331, 0.5508021390374331, 0.5508021390374331, 0.5561497326203209, 0.5561497326203209, 0.5641711229946524, 0.5641711229946524, 0.5668449197860963, 0.5668449197860963, 0.5721925133689839, 0.5748663101604278, 0.5748663101604278, 0.5775401069518716, 0.5775401069518716, 0.5855614973262032, 0.5882352941176471, 0.5882352941176471, 0.5909090909090909, 0.5909090909090909, 0.5935828877005348, 0.5935828877005348, 0.5962566844919787, 0.5962566844919787, 0.5989304812834224, 0.5989304812834224, 0.6016042780748663, 0.6016042780748663, 0.6042780748663101, 0.6042780748663101, 0.6176470588235294, 0.6176470588235294, 0.6229946524064172, 0.6229946524064172, 0.6283422459893048, 0.6283422459893048, 0.6310160427807486, 0.6310160427807486, 0.6336898395721925, 0.6363636363636364, 0.6363636363636364, 0.6390374331550802, 0.6390374331550802, 0.6390374331550802, 0.6390374331550802, 0.6443850267379679, 0.6470588235294118, 0.6470588235294118, 0.6497326203208557, 0.6497326203208557, 0.6577540106951871, 0.6577540106951871, 0.6657754010695187, 0.6657754010695187, 0.6684491978609626, 0.6711229946524064, 0.6711229946524064, 0.6844919786096256, 0.6844919786096256, 0.6871657754010695, 0.6871657754010695, 0.6925133689839572, 0.6925133689839572, 0.6978609625668449, 0.6978609625668449, 0.7005347593582888, 0.7032085561497327, 0.7085561497326203, 0.7112299465240641, 0.713903743315508, 0.713903743315508, 0.7219251336898396, 0.7219251336898396, 0.7219251336898396, 0.7219251336898396, 0.7272727272727273, 0.7272727272727273, 0.7299465240641712, 0.7299465240641712, 0.7352941176470589, 0.7352941176470589, 0.7379679144385026, 0.7433155080213903, 0.7433155080213903, 0.7459893048128342, 0.7459893048128342, 0.7459893048128342, 0.7459893048128342, 0.7486631016042781, 0.7540106951871658, 0.7593582887700535, 0.7593582887700535, 0.7593582887700535, 0.7620320855614974, 0.7620320855614974, 0.7647058823529411, 0.7700534759358288, 0.7700534759358288, 0.7700534759358288, 0.7727272727272727, 0.7727272727272727, 0.7754010695187166, 0.7754010695187166, 0.7780748663101604, 0.7780748663101604, 0.7807486631016043, 0.7807486631016043, 0.7834224598930482, 0.7834224598930482, 0.7887700534759359, 0.7887700534759359, 0.7914438502673797, 0.7914438502673797, 0.8021390374331551, 0.8021390374331551, 0.8101604278074866, 0.8101604278074866, 0.8128342245989305, 0.8128342245989305, 0.8155080213903744, 0.8155080213903744, 0.8181818181818182, 0.8235294117647058, 0.8235294117647058, 0.8262032085561497, 0.8262032085561497, 0.8288770053475936, 0.8288770053475936, 0.8342245989304813, 0.8342245989304813, 0.8342245989304813, 0.8342245989304813, 0.8368983957219251, 0.8368983957219251, 0.8368983957219251, 0.8368983957219251, 0.8422459893048129, 0.8449197860962567, 0.8449197860962567, 0.8449197860962567, 0.8449197860962567, 0.8475935828877005, 0.8475935828877005, 0.8529411764705882, 0.8529411764705882, 0.8556149732620321, 0.8556149732620321, 0.8609625668449198, 0.8609625668449198, 0.8636363636363636, 0.8636363636363636, 0.8663101604278075, 0.8663101604278075, 0.8716577540106952, 0.8716577540106952, 0.8743315508021391, 0.8796791443850267, 0.8796791443850267, 0.8796791443850267, 0.8877005347593583, 0.8877005347593583, 0.8903743315508021, 0.8903743315508021, 0.893048128342246, 0.8957219251336899, 0.9010695187165776, 0.9010695187165776, 0.9010695187165776, 0.9037433155080213, 0.9037433155080213, 0.9037433155080213, 0.9037433155080213, 0.9037433155080213, 0.9090909090909091, 0.9090909090909091, 0.9117647058823529, 0.9117647058823529, 0.9144385026737968, 0.9144385026737968, 0.9171122994652406, 0.9171122994652406, 0.9197860962566845, 0.9197860962566845, 0.9224598930481284, 0.9224598930481284, 0.9224598930481284, 0.9224598930481284, 0.9251336898395722, 0.9251336898395722, 0.9278074866310161, 0.9278074866310161, 0.9278074866310161, 0.93048128342246, 0.93048128342246, 0.9331550802139037, 0.9331550802139037, 0.9411764705882353, 0.9411764705882353, 0.9411764705882353, 0.9411764705882353, 0.9438502673796791, 0.9438502673796791, 0.946524064171123, 0.946524064171123, 0.9491978609625669, 0.9491978609625669, 0.9518716577540107, 0.9518716577540107, 0.9572192513368984, 0.9572192513368984, 0.9598930481283422, 0.9598930481283422, 0.9625668449197861, 0.9625668449197861, 0.9652406417112299, 0.9652406417112299, 0.9652406417112299, 0.9652406417112299, 0.9652406417112299, 0.9652406417112299, 0.9679144385026738, 0.9679144385026738, 0.9679144385026738, 0.9679144385026738, 0.9705882352941176, 0.9705882352941176, 0.9732620320855615, 0.9732620320855615, 0.9732620320855615, 0.9732620320855615, 0.9759358288770054, 0.9759358288770054, 0.9786096256684492, 0.9786096256684492, 0.9786096256684492, 0.9786096256684492, 0.9812834224598931, 0.9812834224598931, 0.983957219251337, 0.983957219251337, 0.983957219251337, 0.983957219251337, 0.983957219251337, 0.983957219251337, 0.9866310160427807, 0.9866310160427807, 0.9866310160427807, 0.9866310160427807, 0.9893048128342246, 0.9893048128342246, 0.9893048128342246, 0.9893048128342246, 0.9893048128342246, 0.9893048128342246, 0.9893048128342246, 0.9919786096256684, 0.9919786096256684, 0.9919786096256684, 0.9946524064171123, 0.9946524064171123, 0.9946524064171123, 0.9946524064171123, 0.9946524064171123, 0.9946524064171123, 0.9946524064171123, 0.9946524064171123, 0.9946524064171123, 0.9946524064171123, 0.9946524064171123, 0.9946524064171123, 0.9946524064171123, 0.9946524064171123, 0.9946524064171123, 0.9946524064171123, 0.9973262032085561, 0.9973262032085561, 0.9973262032085561, 0.9973262032085561, 0.9973262032085561, 0.9973262032085561, 0.9973262032085561, 0.9973262032085561, 0.9973262032085561, 0.9973262032085561, 0.9973262032085561, 0.9973262032085561, 0.9973262032085561, 0.9973262032085561, 0.9973262032085561, 0.9973262032085561, 0.9973262032085561, 0.9973262032085561, 0.9973262032085561, 0.9973262032085561, 0.9973262032085561, 0.9973262032085561, 0.9973262032085561, 0.9973262032085561, 0.9973262032085561, 0.9973262032085561, 0.9973262032085561, 0.9973262032085561, 0.9973262032085561, 0.9973262032085561, 0.9973262032085561, 0.9973262032085561, 0.9973262032085561, 0.9973262032085561, 0.9973262032085561, 0.9973262032085561, 0.9973262032085561, 0.9973262032085561, 0.9973262032085561, 0.9973262032085561, 0.9973262032085561, 0.9973262032085561, 0.9973262032085561, 0.9973262032085561, 0.9973262032085561, 0.9973262032085561, 0.9973262032085561, 0.9973262032085561, 0.9973262032085561, 0.9973262032085561, 0.9973262032085561, 0.9973262032085561, 0.9973262032085561, 1.0, 1.0, 1.0, 1.0, 1.0, 1.0, 1.0, 1.0, 1.0, 1.0, 1.0, 1.0, 1.0, 1.0, 1.0, 1.0, 1.0, 1.0]}, {\"mode\": \"lines\", \"name\": \"CAT\", \"type\": \"scatter\", \"x\": [0.0, 0.0, 0.0, 0.0, 0.0, 0.000968054211035818, 0.001936108422071636, 0.002904162633107454, 0.002904162633107454, 0.003872216844143272, 0.003872216844143272, 0.003872216844143272, 0.003872216844143272, 0.003872216844143272, 0.003872216844143272, 0.005808325266214908, 0.005808325266214908, 0.007744433688286544, 0.007744433688286544, 0.007744433688286544, 0.007744433688286544, 0.007744433688286544, 0.007744433688286544, 0.008712487899322363, 0.008712487899322363, 0.00968054211035818, 0.00968054211035818, 0.010648596321393998, 0.010648596321393998, 0.011616650532429816, 0.011616650532429816, 0.012584704743465635, 0.013552758954501452, 0.013552758954501452, 0.015488867376573089, 0.015488867376573089, 0.016456921587608905, 0.016456921587608905, 0.017424975798644726, 0.017424975798644726, 0.018393030009680542, 0.018393030009680542, 0.01936108422071636, 0.01936108422071636, 0.022265246853823813, 0.022265246853823813, 0.023233301064859633, 0.023233301064859633, 0.02420135527589545, 0.02420135527589545, 0.026137463697967087, 0.026137463697967087, 0.028073572120038724, 0.028073572120038724, 0.02904162633107454, 0.02904162633107454, 0.031945788964181994, 0.031945788964181994, 0.03291384317521781, 0.03291384317521781, 0.036786060019361085, 0.036786060019361085, 0.0377541142303969, 0.0377541142303969, 0.03872216844143272, 0.03872216844143272, 0.03969022265246854, 0.03969022265246854, 0.04065827686350436, 0.04065827686350436, 0.044530493707647625, 0.044530493707647625, 0.0484027105517909, 0.0484027105517909, 0.049370764762826716, 0.049370764762826716, 0.051306873184898356, 0.051306873184898356, 0.05324298160696999, 0.05324298160696999, 0.05421103581800581, 0.05421103581800581, 0.05614714424007745, 0.05614714424007745, 0.057115198451113264, 0.057115198451113264, 0.060019361084220714, 0.060019361084220714, 0.06098741529525654, 0.06098741529525654, 0.06292352371732816, 0.06292352371732816, 0.06389157792836399, 0.06389157792836399, 0.06485963213939981, 0.06485963213939981, 0.06776379477250725, 0.06776379477250725, 0.06873184898354308, 0.06873184898354308, 0.0696999031945789, 0.0696999031945789, 0.07163601161665054, 0.07163601161665054, 0.07260406582768635, 0.07260406582768635, 0.07357212003872217, 0.07357212003872217, 0.0755082284607938, 0.0755082284607938, 0.07647628267182963, 0.07647628267182963, 0.07744433688286544, 0.07744433688286544, 0.0803484995159729, 0.0803484995159729, 0.08131655372700872, 0.08131655372700872, 0.08228460793804453, 0.08228460793804453, 0.08325266214908035, 0.08422071636011616, 0.08712487899322362, 0.08712487899322362, 0.08809293320425944, 0.08809293320425944, 0.09002904162633107, 0.09002904162633107, 0.09390125847047434, 0.09390125847047434, 0.09583736689254599, 0.09583736689254599, 0.0968054211035818, 0.0968054211035818, 0.09777347531461762, 0.09777347531461762, 0.09874152952565343, 0.09874152952565343, 0.10164569215876089, 0.10261374636979671, 0.10261374636979671, 0.10358180058083252, 0.10358180058083252, 0.10454985479186835, 0.10454985479186835, 0.10648596321393998, 0.10648596321393998, 0.1074540174249758, 0.1074540174249758, 0.10842207163601161, 0.10842207163601161, 0.11035818005808325, 0.11035818005808325, 0.1122942884801549, 0.1122942884801549, 0.11423039690222653, 0.11423039690222653, 0.11519845111326234, 0.11519845111326234, 0.1181026137463698, 0.1181026137463698, 0.12197483059051308, 0.12197483059051308, 0.12391093901258471, 0.12391093901258471, 0.12681510164569215, 0.12681510164569215, 0.12778315585672798, 0.13068731848983542, 0.13068731848983542, 0.1345595353339787, 0.1345595353339787, 0.1393998063891578, 0.1393998063891578, 0.14133591481122942, 0.14133591481122942, 0.14230396902226525, 0.14230396902226525, 0.1442400774443369, 0.1442400774443369, 0.1452081316553727, 0.1452081316553727, 0.14908034849951599, 0.14908034849951599, 0.15198451113262343, 0.15198451113262343, 0.15682478218780252, 0.15682478218780252, 0.15876089060987417, 0.15876089060987417, 0.15876089060987417, 0.15972894482090996, 0.15972894482090996, 0.16456921587608905, 0.16456921587608905, 0.1665053242981607, 0.1665053242981607, 0.16747337850919652, 0.16747337850919652, 0.16844143272023232, 0.16844143272023232, 0.16940948693126814, 0.16940948693126814, 0.17037754114230397, 0.17037754114230397, 0.1713455953533398, 0.1713455953533398, 0.17231364956437561, 0.17231364956437561, 0.17521781219748306, 0.1771539206195547, 0.1771539206195547, 0.18102613746369797, 0.1819941916747338, 0.1819941916747338, 0.1829622458857696, 0.1829622458857696, 0.18489835430784124, 0.18489835430784124, 0.1868344627299129, 0.1868344627299129, 0.19070667957405615, 0.19070667957405615, 0.19651500484027107, 0.19651500484027107, 0.1994191674733785, 0.1994191674733785, 0.20522749273959343, 0.20522749273959343, 0.2090997095837367, 0.2090997095837367, 0.21006776379477252, 0.21006776379477252, 0.21200387221684414, 0.21200387221684414, 0.21297192642787996, 0.21297192642787996, 0.2149080348499516, 0.2149080348499516, 0.2197483059051307, 0.2197483059051307, 0.2207163601161665, 0.2207163601161665, 0.22168441432720232, 0.22168441432720232, 0.22265246853823814, 0.22265246853823814, 0.2245885769603098, 0.2245885769603098, 0.22555663117134558, 0.22555663117134558, 0.22749273959341723, 0.22749273959341723, 0.22942884801548888, 0.22942884801548888, 0.23039690222652467, 0.23039690222652467, 0.2313649564375605, 0.2313649564375605, 0.23330106485963215, 0.23330106485963215, 0.24394966118102615, 0.24394966118102615, 0.24588576960309777, 0.24782187802516942, 0.24782187802516942, 0.2526621490803485, 0.2526621490803485, 0.25459825750242016, 0.25459825750242016, 0.25556631171345595, 0.25556631171345595, 0.25653436592449175, 0.25653436592449175, 0.2584704743465634, 0.2681510164569216, 0.2681510164569216, 0.2691190706679574, 0.2691190706679574, 0.27202323330106487, 0.27202323330106487, 0.2739593417231365, 0.2739593417231365, 0.27783155856727976, 0.27783155856727976, 0.2807357212003872, 0.2807357212003872, 0.28170377541142305, 0.28170377541142305, 0.28751210067763794, 0.28751210067763794, 0.2884801548886738, 0.2884801548886738, 0.29138431752178123, 0.29138431752178123, 0.2952565343659245, 0.2952565343659245, 0.30396902226524686, 0.30396902226524686, 0.30977734753146174, 0.30977734753146174, 0.3107454017424976, 0.3107454017424976, 0.31848983543078413, 0.31848983543078413, 0.3204259438528558, 0.3204259438528558, 0.324298160696999, 0.324298160696999, 0.32623426911907066, 0.32623426911907066, 0.33107454017424975, 0.33107454017424975, 0.3330106485963214, 0.3330106485963214, 0.33591481122942884, 0.33591481122942884, 0.3388189738625363, 0.3388189738625363, 0.33978702807357214, 0.33978702807357214, 0.34075508228460794, 0.34075508228460794, 0.3465634075508228, 0.3465634075508228, 0.3514036786060019, 0.3514036786060019, 0.3543078412391094, 0.3543078412391094, 0.356243949661181, 0.356243949661181, 0.36205227492739595, 0.36205227492739595, 0.3697967086156825, 0.3697967086156825, 0.3707647628267183, 0.3707647628267183, 0.37947725072604066, 0.37947725072604066, 0.38334946757018395, 0.38431752178121975, 0.38431752178121975, 0.38528557599225555, 0.38528557599225555, 0.4269119070667957, 0.4269119070667957, 0.42884801548886736, 0.430784123910939, 0.43272023233301066, 0.43272023233301066, 0.44336882865440463, 0.44336882865440463, 0.45401742497579867, 0.45401742497579867, 0.46369796708615685, 0.46369796708615685, 0.4666021297192643, 0.4666021297192643, 0.4743465634075508, 0.4743465634075508, 0.49661181026137463, 0.4985479186834463, 0.505324298160697, 0.505324298160697, 0.510164569215876, 0.510164569215876, 0.526621490803485, 0.526621490803485, 0.5275895450145208, 0.5275895450145208, 0.5285575992255567, 0.5285575992255567, 0.5304937076476283, 0.5304937076476283, 0.5343659244917716, 0.5343659244917716, 0.537270087124879, 0.537270087124879, 0.5730880929332043, 0.5730880929332043, 0.5963213939980639, 0.5963213939980639, 0.6001936108422071, 0.6001936108422071, 0.6069699903194579, 0.6069699903194579, 0.611810261374637, 0.611810261374637, 0.6137463697967086, 0.6137463697967086, 0.6263310745401742, 0.6263310745401742, 0.7115198451113263, 0.7134559535333979, 0.7657308809293321, 0.7657308809293321, 0.7986447241045499, 0.7986447241045499, 0.8606001936108422, 0.8625363020329139, 0.8760890609874153, 0.8780251694094869, 0.8993223620522749, 0.9012584704743466, 0.9070667957405615, 0.9090029041626331, 0.914811229428848, 0.9167473378509197, 0.9390125847047435, 0.9409486931268151, 0.9438528557599225, 0.9457889641819942, 0.9622458857696031, 0.9641819941916747, 0.968054211035818, 0.968054211035818, 0.9757986447241046, 0.9777347531461762, 1.0], \"y\": [0.0, 0.0053475935828877, 0.016042780748663103, 0.0213903743315508, 0.02406417112299465, 0.02406417112299465, 0.029411764705882353, 0.029411764705882353, 0.034759358288770054, 0.034759358288770054, 0.053475935828877004, 0.058823529411764705, 0.06684491978609626, 0.07219251336898395, 0.0855614973262032, 0.0855614973262032, 0.09893048128342247, 0.09893048128342247, 0.10160427807486631, 0.10695187165775401, 0.11497326203208556, 0.12032085561497326, 0.13101604278074866, 0.13101604278074866, 0.13636363636363635, 0.13636363636363635, 0.13903743315508021, 0.13903743315508021, 0.1443850267379679, 0.1443850267379679, 0.15775401069518716, 0.15775401069518716, 0.16310160427807488, 0.18983957219251338, 0.18983957219251338, 0.19786096256684493, 0.19786096256684493, 0.20588235294117646, 0.20588235294117646, 0.21122994652406418, 0.21122994652406418, 0.21657754010695188, 0.21657754010695188, 0.2192513368983957, 0.2192513368983957, 0.22192513368983957, 0.22192513368983957, 0.22727272727272727, 0.22727272727272727, 0.24064171122994651, 0.24064171122994651, 0.24331550802139038, 0.24331550802139038, 0.24866310160427807, 0.24866310160427807, 0.2540106951871658, 0.2540106951871658, 0.25668449197860965, 0.25668449197860965, 0.2647058823529412, 0.2647058823529412, 0.26737967914438504, 0.26737967914438504, 0.2807486631016043, 0.2807486631016043, 0.28342245989304815, 0.28342245989304815, 0.28609625668449196, 0.28609625668449196, 0.2887700534759358, 0.2887700534759358, 0.3181818181818182, 0.3181818181818182, 0.32085561497326204, 0.32085561497326204, 0.3235294117647059, 0.3235294117647059, 0.3315508021390374, 0.3315508021390374, 0.339572192513369, 0.339572192513369, 0.35294117647058826, 0.35294117647058826, 0.3582887700534759, 0.3582887700534759, 0.3609625668449198, 0.3609625668449198, 0.36363636363636365, 0.36363636363636365, 0.3716577540106952, 0.3716577540106952, 0.37433155080213903, 0.3770053475935829, 0.38235294117647056, 0.38235294117647056, 0.3850267379679144, 0.3850267379679144, 0.3877005347593583, 0.3877005347593583, 0.393048128342246, 0.393048128342246, 0.40641711229946526, 0.40641711229946526, 0.4117647058823529, 0.4117647058823529, 0.4197860962566845, 0.4197860962566845, 0.42245989304812837, 0.42245989304812837, 0.42513368983957217, 0.42513368983957217, 0.43315508021390375, 0.43315508021390375, 0.4385026737967914, 0.4385026737967914, 0.4411764705882353, 0.4411764705882353, 0.446524064171123, 0.446524064171123, 0.45187165775401067, 0.45187165775401067, 0.45454545454545453, 0.45454545454545453, 0.4572192513368984, 0.4572192513368984, 0.4732620320855615, 0.4732620320855615, 0.4786096256684492, 0.4786096256684492, 0.48128342245989303, 0.48128342245989303, 0.48663101604278075, 0.48663101604278075, 0.4893048128342246, 0.4893048128342246, 0.4946524064171123, 0.4946524064171123, 0.5026737967914439, 0.5026737967914439, 0.5053475935828877, 0.5106951871657754, 0.5106951871657754, 0.516042780748663, 0.516042780748663, 0.5187165775401069, 0.5187165775401069, 0.5240641711229946, 0.5240641711229946, 0.5267379679144385, 0.5267379679144385, 0.5320855614973262, 0.5320855614973262, 0.5347593582887701, 0.5347593582887701, 0.553475935828877, 0.553475935828877, 0.5614973262032086, 0.5614973262032086, 0.5641711229946524, 0.5641711229946524, 0.5668449197860963, 0.5668449197860963, 0.5721925133689839, 0.5721925133689839, 0.5828877005347594, 0.5828877005347594, 0.5855614973262032, 0.5882352941176471, 0.5882352941176471, 0.5935828877005348, 0.5935828877005348, 0.5962566844919787, 0.5962566844919787, 0.5989304812834224, 0.5989304812834224, 0.606951871657754, 0.606951871657754, 0.6122994652406417, 0.6122994652406417, 0.6149732620320856, 0.6149732620320856, 0.6203208556149733, 0.6203208556149733, 0.6229946524064172, 0.6229946524064172, 0.6256684491978609, 0.6256684491978609, 0.6283422459893048, 0.6283422459893048, 0.6336898395721925, 0.6363636363636364, 0.6390374331550802, 0.6443850267379679, 0.6443850267379679, 0.6470588235294118, 0.6470588235294118, 0.6497326203208557, 0.6497326203208557, 0.6524064171122995, 0.6524064171122995, 0.6577540106951871, 0.660427807486631, 0.6631016042780749, 0.6631016042780749, 0.6657754010695187, 0.6657754010695187, 0.6684491978609626, 0.6684491978609626, 0.6711229946524064, 0.6711229946524064, 0.6711229946524064, 0.679144385026738, 0.6818181818181818, 0.6818181818181818, 0.6844919786096256, 0.6844919786096256, 0.6871657754010695, 0.6871657754010695, 0.6898395721925134, 0.6898395721925134, 0.6951871657754011, 0.6951871657754011, 0.6978609625668449, 0.6978609625668449, 0.7005347593582888, 0.7005347593582888, 0.7085561497326203, 0.7085561497326203, 0.7112299465240641, 0.7112299465240641, 0.713903743315508, 0.713903743315508, 0.7165775401069518, 0.7165775401069518, 0.7192513368983957, 0.7192513368983957, 0.7219251336898396, 0.7219251336898396, 0.7245989304812834, 0.7245989304812834, 0.7272727272727273, 0.7272727272727273, 0.7352941176470589, 0.7352941176470589, 0.7406417112299465, 0.7406417112299465, 0.7459893048128342, 0.7459893048128342, 0.7486631016042781, 0.7486631016042781, 0.7540106951871658, 0.7540106951871658, 0.7566844919786097, 0.7566844919786097, 0.7620320855614974, 0.7620320855614974, 0.7727272727272727, 0.7727272727272727, 0.7754010695187166, 0.7754010695187166, 0.7780748663101604, 0.7780748663101604, 0.7807486631016043, 0.7807486631016043, 0.7807486631016043, 0.786096256684492, 0.786096256684492, 0.7887700534759359, 0.7887700534759359, 0.7914438502673797, 0.7914438502673797, 0.7941176470588235, 0.7941176470588235, 0.7967914438502673, 0.7967914438502673, 0.7967914438502673, 0.8021390374331551, 0.8021390374331551, 0.8048128342245989, 0.8048128342245989, 0.8101604278074866, 0.8101604278074866, 0.8155080213903744, 0.8155080213903744, 0.8181818181818182, 0.8181818181818182, 0.8235294117647058, 0.8235294117647058, 0.8262032085561497, 0.8262032085561497, 0.8315508021390374, 0.8315508021390374, 0.8342245989304813, 0.8342245989304813, 0.839572192513369, 0.839572192513369, 0.8422459893048129, 0.8422459893048129, 0.8475935828877005, 0.8475935828877005, 0.8502673796791443, 0.8502673796791443, 0.8529411764705882, 0.8529411764705882, 0.8556149732620321, 0.8556149732620321, 0.8582887700534759, 0.8582887700534759, 0.8609625668449198, 0.8609625668449198, 0.8636363636363636, 0.8636363636363636, 0.8663101604278075, 0.8663101604278075, 0.8689839572192514, 0.8689839572192514, 0.8716577540106952, 0.8716577540106952, 0.8743315508021391, 0.8743315508021391, 0.8770053475935828, 0.8770053475935828, 0.8823529411764706, 0.8823529411764706, 0.8877005347593583, 0.8877005347593583, 0.8903743315508021, 0.8903743315508021, 0.8957219251336899, 0.8957219251336899, 0.8983957219251337, 0.8983957219251337, 0.9010695187165776, 0.9010695187165776, 0.9037433155080213, 0.9037433155080213, 0.9064171122994652, 0.9064171122994652, 0.9090909090909091, 0.9090909090909091, 0.9117647058823529, 0.9144385026737968, 0.9144385026737968, 0.9197860962566845, 0.9197860962566845, 0.9224598930481284, 0.9224598930481284, 0.9224598930481284, 0.9224598930481284, 0.93048128342246, 0.93048128342246, 0.9331550802139037, 0.9331550802139037, 0.9358288770053476, 0.9358288770053476, 0.9438502673796791, 0.9438502673796791, 0.946524064171123, 0.946524064171123, 0.9491978609625669, 0.9491978609625669, 0.9491978609625669, 0.9491978609625669, 0.9518716577540107, 0.9518716577540107, 0.9572192513368984, 0.9572192513368984, 0.9598930481283422, 0.9598930481283422, 0.9625668449197861, 0.9625668449197861, 0.9652406417112299, 0.9652406417112299, 0.9679144385026738, 0.9679144385026738, 0.9705882352941176, 0.9705882352941176, 0.9732620320855615, 0.9732620320855615, 0.9759358288770054, 0.9759358288770054, 0.9786096256684492, 0.9786096256684492, 0.9812834224598931, 0.9812834224598931, 0.983957219251337, 0.983957219251337, 0.9866310160427807, 0.9866310160427807, 0.9893048128342246, 0.9893048128342246, 0.9919786096256684, 0.9919786096256684, 0.9919786096256684, 0.9919786096256684, 0.9946524064171123, 0.9946524064171123, 0.9973262032085561, 0.9973262032085561, 0.9973262032085561, 0.9973262032085561, 0.9973262032085561, 0.9973262032085561, 0.9973262032085561, 0.9973262032085561, 0.9973262032085561, 0.9973262032085561, 0.9973262032085561, 0.9973262032085561, 0.9973262032085561, 0.9973262032085561, 0.9973262032085561, 0.9973262032085561, 0.9973262032085561, 0.9973262032085561, 1.0, 1.0, 1.0, 1.0]}, {\"mode\": \"lines\", \"name\": \"SGB\", \"type\": \"scatter\", \"x\": [0.0, 0.0, 0.0, 0.000968054211035818, 0.000968054211035818, 0.000968054211035818, 0.001936108422071636, 0.001936108422071636, 0.001936108422071636, 0.001936108422071636, 0.001936108422071636, 0.002904162633107454, 0.002904162633107454, 0.003872216844143272, 0.003872216844143272, 0.00484027105517909, 0.00484027105517909, 0.005808325266214908, 0.005808325266214908, 0.007744433688286544, 0.007744433688286544, 0.008712487899322363, 0.008712487899322363, 0.00968054211035818, 0.00968054211035818, 0.010648596321393998, 0.010648596321393998, 0.011616650532429816, 0.011616650532429816, 0.013552758954501452, 0.013552758954501452, 0.01452081316553727, 0.01452081316553727, 0.015488867376573089, 0.015488867376573089, 0.016456921587608905, 0.016456921587608905, 0.017424975798644726, 0.017424975798644726, 0.01936108422071636, 0.01936108422071636, 0.021297192642787996, 0.021297192642787996, 0.022265246853823813, 0.022265246853823813, 0.02420135527589545, 0.02420135527589545, 0.026137463697967087, 0.026137463697967087, 0.028073572120038724, 0.028073572120038724, 0.02904162633107454, 0.02904162633107454, 0.030009680542110357, 0.030009680542110357, 0.03291384317521781, 0.03291384317521781, 0.03388189738625363, 0.03388189738625363, 0.03484995159728945, 0.03484995159728945, 0.03581800580832527, 0.03581800580832527, 0.03872216844143272, 0.03872216844143272, 0.03969022265246854, 0.03969022265246854, 0.04065827686350436, 0.04065827686350436, 0.041626331074540175, 0.041626331074540175, 0.04259438528557599, 0.04259438528557599, 0.044530493707647625, 0.044530493707647625, 0.046466602129719266, 0.046466602129719266, 0.04743465634075508, 0.04743465634075508, 0.0484027105517909, 0.0484027105517909, 0.05033881897386254, 0.05033881897386254, 0.051306873184898356, 0.051306873184898356, 0.051306873184898356, 0.05324298160696999, 0.05324298160696999, 0.05421103581800581, 0.05421103581800581, 0.05517909002904162, 0.05517909002904162, 0.057115198451113264, 0.057115198451113264, 0.05808325266214908, 0.05808325266214908, 0.0590513068731849, 0.0590513068731849, 0.060019361084220714, 0.060019361084220714, 0.06098741529525654, 0.06098741529525654, 0.061955469506292354, 0.061955469506292354, 0.06485963213939981, 0.06485963213939981, 0.06873184898354308, 0.06873184898354308, 0.07066795740561471, 0.07066795740561471, 0.07163601161665054, 0.07163601161665054, 0.07260406582768635, 0.07260406582768635, 0.07454017424975799, 0.07454017424975799, 0.07744433688286544, 0.07744433688286544, 0.07938044530493708, 0.07938044530493708, 0.0803484995159729, 0.0803484995159729, 0.08131655372700872, 0.08131655372700872, 0.08325266214908035, 0.08325266214908035, 0.08518877057115198, 0.08518877057115198, 0.08712487899322362, 0.08712487899322362, 0.09002904162633107, 0.09002904162633107, 0.09293320425943853, 0.09293320425943853, 0.09583736689254599, 0.09583736689254599, 0.0968054211035818, 0.0968054211035818, 0.10067763794772508, 0.10067763794772508, 0.10164569215876089, 0.10164569215876089, 0.10261374636979671, 0.10261374636979671, 0.10454985479186835, 0.10454985479186835, 0.10551790900290416, 0.10551790900290416, 0.1074540174249758, 0.1074540174249758, 0.11132623426911907, 0.11132623426911907, 0.11423039690222653, 0.11423039690222653, 0.11616650532429816, 0.11616650532429816, 0.1181026137463698, 0.1181026137463698, 0.12100677637947725, 0.12100677637947725, 0.12197483059051308, 0.12197483059051308, 0.12294288480154889, 0.12294288480154889, 0.12391093901258471, 0.12391093901258471, 0.12487899322362052, 0.12487899322362052, 0.12584704743465633, 0.12584704743465633, 0.12778315585672798, 0.12778315585672798, 0.1287512100677638, 0.1287512100677638, 0.12971926427879962, 0.12971926427879962, 0.13165537270087124, 0.13165537270087124, 0.1335914811229429, 0.1335914811229429, 0.1345595353339787, 0.1345595353339787, 0.1355275895450145, 0.1355275895450145, 0.13649564375605033, 0.13649564375605033, 0.13843175217812198, 0.13843175217812198, 0.14133591481122942, 0.14133591481122942, 0.14230396902226525, 0.14230396902226525, 0.14327202323330107, 0.14327202323330107, 0.1442400774443369, 0.1442400774443369, 0.14617618586640851, 0.14617618586640851, 0.14714424007744434, 0.14714424007744434, 0.14811229428848016, 0.14811229428848016, 0.15004840271055178, 0.15004840271055178, 0.15488867376573087, 0.15488867376573087, 0.15682478218780252, 0.15682478218780252, 0.15779283639883834, 0.15779283639883834, 0.15876089060987417, 0.15876089060987417, 0.15972894482090996, 0.15972894482090996, 0.1606969990319458, 0.1606969990319458, 0.16747337850919652, 0.16747337850919652, 0.17037754114230397, 0.17037754114230397, 0.1713455953533398, 0.1713455953533398, 0.17231364956437561, 0.17231364956437561, 0.1732817037754114, 0.1732817037754114, 0.17618586640851888, 0.17618586640851888, 0.1771539206195547, 0.1771539206195547, 0.1781219748305905, 0.1781219748305905, 0.18005808325266215, 0.18005808325266215, 0.1819941916747338, 0.1819941916747338, 0.1829622458857696, 0.1829622458857696, 0.18393030009680542, 0.18393030009680542, 0.18489835430784124, 0.18489835430784124, 0.18780251694094868, 0.18780251694094868, 0.1887705711519845, 0.1887705711519845, 0.18973862536302033, 0.18973862536302033, 0.19070667957405615, 0.19070667957405615, 0.19651500484027107, 0.19651500484027107, 0.21006776379477252, 0.21006776379477252, 0.21200387221684414, 0.21200387221684414, 0.2197483059051307, 0.2197483059051307, 0.22265246853823814, 0.22265246853823814, 0.22362052274927396, 0.22362052274927396, 0.22555663117134558, 0.22555663117134558, 0.2265246853823814, 0.2265246853823814, 0.22749273959341723, 0.22749273959341723, 0.23233301064859632, 0.23233301064859632, 0.23426911907066797, 0.23426911907066797, 0.23523717328170377, 0.23523717328170377, 0.2362052274927396, 0.2362052274927396, 0.24007744433688286, 0.24007744433688286, 0.24104549854791868, 0.24104549854791868, 0.2468538238141336, 0.2468538238141336, 0.24782187802516942, 0.24782187802516942, 0.24878993223620524, 0.24878993223620524, 0.25072604065827686, 0.25072604065827686, 0.25169409486931266, 0.25169409486931266, 0.2526621490803485, 0.2526621490803485, 0.2584704743465634, 0.2584704743465634, 0.2623426911907067, 0.2623426911907067, 0.26621490803484993, 0.26621490803484993, 0.2671829622458858, 0.2671829622458858, 0.2681510164569216, 0.2681510164569216, 0.27202323330106487, 0.27202323330106487, 0.27299128751210067, 0.27299128751210067, 0.27783155856727976, 0.27783155856727976, 0.2797676669893514, 0.2797676669893514, 0.28170377541142305, 0.28170377541142305, 0.2846079380445305, 0.2846079380445305, 0.2855759922555663, 0.2855759922555663, 0.28654404646660214, 0.28654404646660214, 0.28751210067763794, 0.28751210067763794, 0.2962245885769603, 0.2962245885769603, 0.2971926427879961, 0.2971926427879961, 0.3059051306873185, 0.3059051306873185, 0.30880929332042595, 0.30880929332042595, 0.3107454017424976, 0.3107454017424976, 0.3165537270087125, 0.3165537270087125, 0.32623426911907066, 0.32623426911907066, 0.3281703775411423, 0.3281703775411423, 0.33494675701839305, 0.33494675701839305, 0.3378509196515005, 0.3378509196515005, 0.3388189738625363, 0.3388189738625363, 0.345595353339787, 0.345595353339787, 0.3475314617618587, 0.3475314617618587, 0.35237173281703776, 0.35237173281703776, 0.35818005808325265, 0.35818005808325265, 0.3601161665053243, 0.3601161665053243, 0.36302032913843174, 0.36302032913843174, 0.3765730880929332, 0.3765730880929332, 0.3862536302032914, 0.3862536302032914, 0.38818973862536305, 0.38818973862536305, 0.38915779283639884, 0.38915779283639884, 0.3910939012584705, 0.3910939012584705, 0.39303000968054214, 0.39303000968054214, 0.39496611810261373, 0.39496611810261373, 0.3969022265246854, 0.3969022265246854, 0.40174249757986447, 0.40174249757986447, 0.4036786060019361, 0.4036786060019361, 0.4046466602129719, 0.4046466602129719, 0.41239109390125844, 0.41239109390125844, 0.41529525653436594, 0.41529525653436594, 0.41723136495643753, 0.41723136495643753, 0.4181994191674734, 0.4181994191674734, 0.46079380445304935, 0.46079380445304935, 0.4675701839303001, 0.4675701839303001, 0.46950629235237173, 0.46950629235237173, 0.4714424007744434, 0.4714424007744434, 0.4724104549854792, 0.4724104549854792, 0.4791868344627299, 0.4791868344627299, 0.4801548886737657, 0.4801548886737657, 0.484027105517909, 0.484027105517909, 0.48693126815101645, 0.48693126815101645, 0.4878993223620523, 0.4878993223620523, 0.49564375605033884, 0.49564375605033884, 0.4985479186834463, 0.4985479186834463, 0.5004840271055179, 0.5004840271055179, 0.5014520813165537, 0.5014520813165537, 0.505324298160697, 0.505324298160697, 0.5198451113262342, 0.5198451113262342, 0.5295256534365924, 0.5295256534365924, 0.5750242013552759, 0.5750242013552759, 0.5856727976766699, 0.5856727976766699, 0.5982575024201355, 0.5982575024201355, 0.6156824782187803, 0.6176185866408519, 0.6224588576960309, 0.6224588576960309, 0.6321393998063891, 0.6321393998063891, 0.6456921587608906, 0.6456921587608906, 0.675701839303001, 0.675701839303001, 0.6950629235237173, 0.6950629235237173, 0.7599225556631172, 0.7599225556631172, 0.7938044530493708, 0.7957405614714425, 0.818973862536302, 0.8209099709583737, 0.8218780251694094, 0.8238141335914811, 0.8315585672797676, 0.8354307841239109, 0.8431752178121975, 0.8451113262342691, 0.8576960309777347, 0.8596321393998064, 0.8944820909970959, 0.8944820909970959, 0.9303000968054211, 0.9322362052274927, 0.9593417231364957, 0.9612778315585673, 1.0], \"y\": [0.0, 0.00267379679144385, 0.016042780748663103, 0.016042780748663103, 0.0213903743315508, 0.026737967914438502, 0.026737967914438502, 0.034759358288770054, 0.040106951871657755, 0.045454545454545456, 0.05080213903743316, 0.05080213903743316, 0.05614973262032086, 0.05614973262032086, 0.058823529411764705, 0.06149732620320856, 0.08823529411764706, 0.08823529411764706, 0.10427807486631016, 0.10427807486631016, 0.11764705882352941, 0.11764705882352941, 0.12299465240641712, 0.12299465240641712, 0.1497326203208556, 0.1497326203208556, 0.15240641711229946, 0.15240641711229946, 0.15508021390374332, 0.15508021390374332, 0.15775401069518716, 0.15775401069518716, 0.1657754010695187, 0.1657754010695187, 0.1711229946524064, 0.1711229946524064, 0.18716577540106952, 0.18716577540106952, 0.1925133689839572, 0.1925133689839572, 0.19518716577540107, 0.19518716577540107, 0.19786096256684493, 0.19786096256684493, 0.20320855614973263, 0.20320855614973263, 0.20588235294117646, 0.20588235294117646, 0.21390374331550802, 0.21390374331550802, 0.21657754010695188, 0.21657754010695188, 0.22192513368983957, 0.22192513368983957, 0.22727272727272727, 0.22727272727272727, 0.25133689839572193, 0.25133689839572193, 0.2620320855614973, 0.2620320855614973, 0.26737967914438504, 0.26737967914438504, 0.2700534759358289, 0.2700534759358289, 0.28342245989304815, 0.28342245989304815, 0.28609625668449196, 0.28609625668449196, 0.29411764705882354, 0.29411764705882354, 0.2967914438502674, 0.2967914438502674, 0.3048128342245989, 0.3048128342245989, 0.31283422459893045, 0.31283422459893045, 0.3155080213903743, 0.3155080213903743, 0.3181818181818182, 0.32085561497326204, 0.3235294117647059, 0.3235294117647059, 0.32620320855614976, 0.32620320855614976, 0.3315508021390374, 0.3342245989304813, 0.3342245989304813, 0.3422459893048128, 0.3422459893048128, 0.3449197860962567, 0.3449197860962567, 0.34759358288770054, 0.34759358288770054, 0.35294117647058826, 0.35294117647058826, 0.3582887700534759, 0.3582887700534759, 0.3609625668449198, 0.3609625668449198, 0.36363636363636365, 0.36363636363636365, 0.3663101604278075, 0.3663101604278075, 0.3689839572192513, 0.3689839572192513, 0.3770053475935829, 0.3770053475935829, 0.37967914438502676, 0.37967914438502676, 0.38235294117647056, 0.38235294117647056, 0.3850267379679144, 0.3850267379679144, 0.3877005347593583, 0.3877005347593583, 0.39037433155080214, 0.39037433155080214, 0.3983957219251337, 0.3983957219251337, 0.4037433155080214, 0.4037433155080214, 0.40641711229946526, 0.40641711229946526, 0.4090909090909091, 0.4090909090909091, 0.4117647058823529, 0.4117647058823529, 0.41711229946524064, 0.41711229946524064, 0.4197860962566845, 0.4197860962566845, 0.42513368983957217, 0.42513368983957217, 0.4304812834224599, 0.4304812834224599, 0.43315508021390375, 0.43315508021390375, 0.4358288770053476, 0.4358288770053476, 0.4385026737967914, 0.4385026737967914, 0.4411764705882353, 0.4411764705882353, 0.446524064171123, 0.446524064171123, 0.45187165775401067, 0.45187165775401067, 0.4572192513368984, 0.4572192513368984, 0.45989304812834225, 0.45989304812834225, 0.46524064171123, 0.46524064171123, 0.4732620320855615, 0.4732620320855615, 0.47593582887700536, 0.47593582887700536, 0.48128342245989303, 0.48128342245989303, 0.48663101604278075, 0.48663101604278075, 0.4946524064171123, 0.4946524064171123, 0.49732620320855614, 0.49732620320855614, 0.5026737967914439, 0.5026737967914439, 0.5053475935828877, 0.5053475935828877, 0.5080213903743316, 0.5080213903743316, 0.5106951871657754, 0.5106951871657754, 0.5133689839572193, 0.5133689839572193, 0.516042780748663, 0.516042780748663, 0.5187165775401069, 0.5187165775401069, 0.5213903743315508, 0.5213903743315508, 0.5267379679144385, 0.5267379679144385, 0.5294117647058824, 0.5294117647058824, 0.5401069518716578, 0.5401069518716578, 0.5454545454545454, 0.5454545454545454, 0.553475935828877, 0.553475935828877, 0.5588235294117647, 0.5588235294117647, 0.5614973262032086, 0.5614973262032086, 0.5668449197860963, 0.5668449197860963, 0.56951871657754, 0.56951871657754, 0.5721925133689839, 0.5721925133689839, 0.5802139037433155, 0.5802139037433155, 0.5828877005347594, 0.5828877005347594, 0.5855614973262032, 0.5855614973262032, 0.5882352941176471, 0.5882352941176471, 0.5935828877005348, 0.5935828877005348, 0.5962566844919787, 0.5962566844919787, 0.6042780748663101, 0.6042780748663101, 0.606951871657754, 0.606951871657754, 0.6096256684491979, 0.6096256684491979, 0.6122994652406417, 0.6122994652406417, 0.6149732620320856, 0.6149732620320856, 0.6176470588235294, 0.6176470588235294, 0.6203208556149733, 0.6203208556149733, 0.6229946524064172, 0.6229946524064172, 0.6256684491978609, 0.6256684491978609, 0.6283422459893048, 0.6283422459893048, 0.6310160427807486, 0.6310160427807486, 0.6363636363636364, 0.6363636363636364, 0.6417112299465241, 0.6417112299465241, 0.6497326203208557, 0.6497326203208557, 0.6524064171122995, 0.6524064171122995, 0.6577540106951871, 0.6577540106951871, 0.6657754010695187, 0.6657754010695187, 0.6684491978609626, 0.6684491978609626, 0.6711229946524064, 0.6711229946524064, 0.6737967914438503, 0.6737967914438503, 0.6764705882352942, 0.6764705882352942, 0.679144385026738, 0.679144385026738, 0.6818181818181818, 0.6818181818181818, 0.6844919786096256, 0.6844919786096256, 0.6871657754010695, 0.6871657754010695, 0.6925133689839572, 0.6925133689839572, 0.7005347593582888, 0.7005347593582888, 0.7058823529411765, 0.7058823529411765, 0.7085561497326203, 0.7085561497326203, 0.7112299465240641, 0.7112299465240641, 0.7165775401069518, 0.7165775401069518, 0.7219251336898396, 0.7219251336898396, 0.7245989304812834, 0.7245989304812834, 0.7272727272727273, 0.7272727272727273, 0.7299465240641712, 0.7299465240641712, 0.732620320855615, 0.732620320855615, 0.7379679144385026, 0.7379679144385026, 0.7406417112299465, 0.7406417112299465, 0.7433155080213903, 0.7433155080213903, 0.7459893048128342, 0.7459893048128342, 0.7486631016042781, 0.7486631016042781, 0.7620320855614974, 0.7620320855614974, 0.7647058823529411, 0.7647058823529411, 0.7754010695187166, 0.7754010695187166, 0.7780748663101604, 0.7780748663101604, 0.7807486631016043, 0.7807486631016043, 0.7834224598930482, 0.7834224598930482, 0.786096256684492, 0.786096256684492, 0.7887700534759359, 0.7887700534759359, 0.7914438502673797, 0.7914438502673797, 0.7967914438502673, 0.7967914438502673, 0.8021390374331551, 0.8021390374331551, 0.8074866310160428, 0.8074866310160428, 0.8101604278074866, 0.8101604278074866, 0.8128342245989305, 0.8128342245989305, 0.8155080213903744, 0.8155080213903744, 0.8181818181818182, 0.8181818181818182, 0.820855614973262, 0.820855614973262, 0.8262032085561497, 0.8262032085561497, 0.8288770053475936, 0.8288770053475936, 0.8315508021390374, 0.8315508021390374, 0.839572192513369, 0.839572192513369, 0.8422459893048129, 0.8422459893048129, 0.8449197860962567, 0.8449197860962567, 0.8475935828877005, 0.8475935828877005, 0.8502673796791443, 0.8502673796791443, 0.8529411764705882, 0.8529411764705882, 0.8556149732620321, 0.8556149732620321, 0.8582887700534759, 0.8582887700534759, 0.8609625668449198, 0.8609625668449198, 0.8636363636363636, 0.8636363636363636, 0.8689839572192514, 0.8689839572192514, 0.8716577540106952, 0.8716577540106952, 0.8743315508021391, 0.8743315508021391, 0.8770053475935828, 0.8770053475935828, 0.8796791443850267, 0.8796791443850267, 0.8823529411764706, 0.8823529411764706, 0.8850267379679144, 0.8850267379679144, 0.8877005347593583, 0.8877005347593583, 0.8903743315508021, 0.8903743315508021, 0.893048128342246, 0.893048128342246, 0.8957219251336899, 0.8957219251336899, 0.8983957219251337, 0.8983957219251337, 0.9064171122994652, 0.9064171122994652, 0.9090909090909091, 0.9090909090909091, 0.9117647058823529, 0.9117647058823529, 0.9144385026737968, 0.9144385026737968, 0.9171122994652406, 0.9171122994652406, 0.9224598930481284, 0.9224598930481284, 0.9278074866310161, 0.9278074866310161, 0.9331550802139037, 0.9331550802139037, 0.9358288770053476, 0.9358288770053476, 0.9411764705882353, 0.9411764705882353, 0.9438502673796791, 0.9438502673796791, 0.946524064171123, 0.946524064171123, 0.9491978609625669, 0.9491978609625669, 0.9518716577540107, 0.9518716577540107, 0.9545454545454546, 0.9545454545454546, 0.9572192513368984, 0.9572192513368984, 0.9598930481283422, 0.9598930481283422, 0.9652406417112299, 0.9652406417112299, 0.9679144385026738, 0.9679144385026738, 0.9705882352941176, 0.9705882352941176, 0.9759358288770054, 0.9759358288770054, 0.9786096256684492, 0.9786096256684492, 0.9812834224598931, 0.9812834224598931, 0.9812834224598931, 0.9812834224598931, 0.983957219251337, 0.983957219251337, 0.9866310160427807, 0.9866310160427807, 0.9893048128342246, 0.9893048128342246, 0.9919786096256684, 0.9919786096256684, 0.9946524064171123, 0.9946524064171123, 0.9973262032085561, 0.9973262032085561, 0.9973262032085561, 0.9973262032085561, 0.9973262032085561, 0.9973262032085561, 0.9973262032085561, 0.9973262032085561, 0.9973262032085561, 0.9973262032085561, 0.9973262032085561, 0.9973262032085561, 0.9973262032085561, 0.9973262032085561, 1.0, 1.0, 1.0, 1.0, 1.0, 1.0]}, {\"mode\": \"lines\", \"name\": \"XGB\", \"type\": \"scatter\", \"x\": [0.0, 0.0, 0.0, 0.000968054211035818, 0.000968054211035818, 0.000968054211035818, 0.000968054211035818, 0.000968054211035818, 0.000968054211035818, 0.001936108422071636, 0.001936108422071636, 0.002904162633107454, 0.002904162633107454, 0.003872216844143272, 0.003872216844143272, 0.00484027105517909, 0.00484027105517909, 0.005808325266214908, 0.005808325266214908, 0.006776379477250726, 0.006776379477250726, 0.007744433688286544, 0.007744433688286544, 0.008712487899322363, 0.008712487899322363, 0.00968054211035818, 0.00968054211035818, 0.011616650532429816, 0.011616650532429816, 0.012584704743465635, 0.012584704743465635, 0.013552758954501452, 0.013552758954501452, 0.015488867376573089, 0.015488867376573089, 0.016456921587608905, 0.016456921587608905, 0.017424975798644726, 0.017424975798644726, 0.02032913843175218, 0.02032913843175218, 0.021297192642787996, 0.021297192642787996, 0.022265246853823813, 0.022265246853823813, 0.023233301064859633, 0.023233301064859633, 0.02420135527589545, 0.02420135527589545, 0.027105517909002903, 0.027105517909002903, 0.02904162633107454, 0.02904162633107454, 0.030009680542110357, 0.030009680542110357, 0.030977734753146177, 0.030977734753146177, 0.031945788964181994, 0.031945788964181994, 0.03291384317521781, 0.03291384317521781, 0.03388189738625363, 0.03388189738625363, 0.03581800580832527, 0.03581800580832527, 0.036786060019361085, 0.036786060019361085, 0.03872216844143272, 0.03872216844143272, 0.03969022265246854, 0.03969022265246854, 0.04259438528557599, 0.04259438528557599, 0.04356243949661181, 0.04356243949661181, 0.046466602129719266, 0.046466602129719266, 0.049370764762826716, 0.049370764762826716, 0.05033881897386254, 0.05033881897386254, 0.051306873184898356, 0.051306873184898356, 0.05227492739593417, 0.05227492739593417, 0.05808325266214908, 0.05808325266214908, 0.060019361084220714, 0.060019361084220714, 0.06098741529525654, 0.06098741529525654, 0.06389157792836399, 0.06389157792836399, 0.06679574056147145, 0.06679574056147145, 0.06776379477250725, 0.06776379477250725, 0.0696999031945789, 0.0696999031945789, 0.0755082284607938, 0.0755082284607938, 0.07647628267182963, 0.07647628267182963, 0.07744433688286544, 0.07744433688286544, 0.07841239109390126, 0.07841239109390126, 0.08131655372700872, 0.08131655372700872, 0.08228460793804453, 0.08228460793804453, 0.08518877057115198, 0.08518877057115198, 0.08615682478218781, 0.08615682478218781, 0.08712487899322362, 0.08712487899322362, 0.08809293320425944, 0.08809293320425944, 0.09196515004840271, 0.09196515004840271, 0.09390125847047434, 0.09390125847047434, 0.09583736689254599, 0.09777347531461762, 0.09777347531461762, 0.09874152952565343, 0.09874152952565343, 0.10358180058083252, 0.10358180058083252, 0.10454985479186835, 0.10454985479186835, 0.10551790900290416, 0.10551790900290416, 0.10648596321393998, 0.10648596321393998, 0.10842207163601161, 0.10842207163601161, 0.1122942884801549, 0.1122942884801549, 0.11423039690222653, 0.11423039690222653, 0.11616650532429816, 0.11616650532429816, 0.11713455953533398, 0.11713455953533398, 0.1181026137463698, 0.1181026137463698, 0.11907066795740562, 0.11907066795740562, 0.12197483059051308, 0.12197483059051308, 0.12391093901258471, 0.12391093901258471, 0.12584704743465633, 0.12584704743465633, 0.12778315585672798, 0.12778315585672798, 0.13165537270087124, 0.13165537270087124, 0.1335914811229429, 0.1335914811229429, 0.1345595353339787, 0.1345595353339787, 0.13649564375605033, 0.13649564375605033, 0.13746369796708616, 0.13746369796708616, 0.1393998063891578, 0.1393998063891578, 0.1403678606001936, 0.1403678606001936, 0.14133591481122942, 0.14133591481122942, 0.14230396902226525, 0.14230396902226525, 0.1452081316553727, 0.1452081316553727, 0.14714424007744434, 0.14714424007744434, 0.14811229428848016, 0.14811229428848016, 0.14908034849951599, 0.14908034849951599, 0.15295256534365925, 0.15295256534365925, 0.15392061955469508, 0.15392061955469508, 0.1558567279767667, 0.1558567279767667, 0.15779283639883834, 0.15779283639883834, 0.15876089060987417, 0.15876089060987417, 0.15972894482090996, 0.15972894482090996, 0.1606969990319458, 0.1606969990319458, 0.16263310745401743, 0.16263310745401743, 0.16360116166505323, 0.16360116166505323, 0.16456921587608905, 0.16456921587608905, 0.16553727008712488, 0.16553727008712488, 0.16747337850919652, 0.16747337850919652, 0.17231364956437561, 0.17231364956437561, 0.17424975798644723, 0.17424975798644723, 0.18102613746369797, 0.18102613746369797, 0.18393030009680542, 0.18393030009680542, 0.19167473378509198, 0.19167473378509198, 0.1936108422071636, 0.1936108422071636, 0.19457889641819942, 0.19457889641819942, 0.19554695062923524, 0.19554695062923524, 0.19651500484027107, 0.19651500484027107, 0.19748305905130686, 0.19748305905130686, 0.20135527589545016, 0.20135527589545016, 0.20232333010648595, 0.20232333010648595, 0.2042594385285576, 0.2042594385285576, 0.20522749273959343, 0.20522749273959343, 0.20813165537270087, 0.20813165537270087, 0.2090997095837367, 0.2090997095837367, 0.21006776379477252, 0.21006776379477252, 0.21200387221684414, 0.21200387221684414, 0.21297192642787996, 0.21297192642787996, 0.2149080348499516, 0.2149080348499516, 0.2197483059051307, 0.2197483059051307, 0.22265246853823814, 0.22265246853823814, 0.22846079380445306, 0.22846079380445306, 0.23039690222652467, 0.23039690222652467, 0.2313649564375605, 0.2313649564375605, 0.23330106485963215, 0.23330106485963215, 0.23814133591481124, 0.23814133591481124, 0.23910939012584706, 0.23910939012584706, 0.24394966118102615, 0.24394966118102615, 0.24588576960309777, 0.24588576960309777, 0.2468538238141336, 0.2468538238141336, 0.25459825750242016, 0.25459825750242016, 0.2575024201355276, 0.2575024201355276, 0.26040658276863504, 0.26040658276863504, 0.2633107454017425, 0.2633107454017425, 0.26427879961277834, 0.26427879961277834, 0.2681510164569216, 0.2681510164569216, 0.2691190706679574, 0.2691190706679574, 0.27202323330106487, 0.27202323330106487, 0.2758954501452081, 0.2758954501452081, 0.27686350435624396, 0.27686350435624396, 0.2855759922555663, 0.2855759922555663, 0.28751210067763794, 0.28751210067763794, 0.2904162633107454, 0.2904162633107454, 0.2933204259438529, 0.2933204259438529, 0.2971926427879961, 0.2971926427879961, 0.29912875121006777, 0.29912875121006777, 0.3010648596321394, 0.3010648596321394, 0.30300096805421106, 0.30300096805421106, 0.30396902226524686, 0.30396902226524686, 0.30493707647628265, 0.30493707647628265, 0.31268151016456924, 0.31268151016456924, 0.31364956437560504, 0.31364956437560504, 0.31752178121974833, 0.31752178121974833, 0.32526621490803487, 0.32526621490803487, 0.32623426911907066, 0.32623426911907066, 0.32720232333010646, 0.32720232333010646, 0.3281703775411423, 0.3281703775411423, 0.3339787028073572, 0.3339787028073572, 0.33591481122942884, 0.33591481122942884, 0.34075508228460794, 0.34075508228460794, 0.356243949661181, 0.356243949661181, 0.35721200387221685, 0.35721200387221685, 0.36205227492739595, 0.36205227492739595, 0.3639883833494676, 0.3639883833494676, 0.3862536302032914, 0.3862536302032914, 0.38818973862536305, 0.38818973862536305, 0.39303000968054214, 0.39303000968054214, 0.3959341723136496, 0.3959341723136496, 0.3969022265246854, 0.3969022265246854, 0.3998063891577928, 0.3998063891577928, 0.40174249757986447, 0.40174249757986447, 0.40561471442400776, 0.40561471442400776, 0.4085188770571152, 0.4085188770571152, 0.409486931268151, 0.409486931268151, 0.41142303969022265, 0.41142303969022265, 0.4356243949661181, 0.4356243949661181, 0.4365924491771539, 0.4365924491771539, 0.44336882865440463, 0.44336882865440463, 0.4443368828654405, 0.4443368828654405, 0.45111326234269117, 0.45111326234269117, 0.46369796708615685, 0.46369796708615685, 0.4743465634075508, 0.4743465634075508, 0.4849951597289448, 0.4849951597289448, 0.48596321393998065, 0.48596321393998065, 0.49080348499515974, 0.49080348499515974, 0.4995159728944821, 0.4995159728944821, 0.515972894482091, 0.515972894482091, 0.5208131655372701, 0.5208131655372701, 0.5237173281703775, 0.5237173281703775, 0.5324298160696999, 0.5324298160696999, 0.5411423039690223, 0.5411423039690223, 0.5440464666021297, 0.5440464666021297, 0.5469506292352372, 0.5469506292352372, 0.5682478218780251, 0.5682478218780251, 0.5701839303000968, 0.5701839303000968, 0.5730880929332043, 0.5730880929332043, 0.5779283639883833, 0.5779283639883833, 0.5808325266214908, 0.5808325266214908, 0.5847047434656341, 0.5847047434656341, 0.5914811229428848, 0.5914811229428848, 0.5953533397870281, 0.5953533397870281, 0.6272991287512101, 0.6272991287512101, 0.6379477250726041, 0.6379477250726041, 0.6582768635043562, 0.6582768635043562, 0.6698935140367861, 0.6698935140367861, 0.6747337850919651, 0.6747337850919651, 0.686350435624395, 0.686350435624395, 0.6960309777347532, 0.6960309777347532, 0.8092933204259438, 0.8112294288480155, 0.8383349467570184, 0.8383349467570184, 0.8393030009680542, 0.8393030009680542, 1.0], \"y\": [0.0, 0.00267379679144385, 0.0053475935828877, 0.0053475935828877, 0.0106951871657754, 0.016042780748663103, 0.02406417112299465, 0.029411764705882353, 0.045454545454545456, 0.045454545454545456, 0.0481283422459893, 0.0481283422459893, 0.05080213903743316, 0.053475935828877004, 0.06951871657754011, 0.06951871657754011, 0.08823529411764706, 0.08823529411764706, 0.10160427807486631, 0.10160427807486631, 0.11497326203208556, 0.11497326203208556, 0.12834224598930483, 0.12834224598930483, 0.14171122994652408, 0.14171122994652408, 0.15240641711229946, 0.15240641711229946, 0.16042780748663102, 0.16042780748663102, 0.1711229946524064, 0.1711229946524064, 0.17647058823529413, 0.17647058823529413, 0.19786096256684493, 0.19786096256684493, 0.20588235294117646, 0.20588235294117646, 0.21657754010695188, 0.21657754010695188, 0.22459893048128343, 0.22459893048128343, 0.23529411764705882, 0.23529411764705882, 0.23796791443850268, 0.23796791443850268, 0.24064171122994651, 0.24064171122994651, 0.24331550802139038, 0.24331550802139038, 0.24598930481283424, 0.24598930481283424, 0.25668449197860965, 0.25668449197860965, 0.25935828877005346, 0.25935828877005346, 0.2620320855614973, 0.2620320855614973, 0.27807486631016043, 0.27807486631016043, 0.28342245989304815, 0.28342245989304815, 0.28609625668449196, 0.28609625668449196, 0.2914438502673797, 0.2914438502673797, 0.2967914438502674, 0.2967914438502674, 0.2994652406417112, 0.2994652406417112, 0.30213903743315507, 0.30213903743315507, 0.3074866310160428, 0.3074866310160428, 0.3235294117647059, 0.3235294117647059, 0.33689839572192515, 0.33689839572192515, 0.3422459893048128, 0.3422459893048128, 0.3449197860962567, 0.3449197860962567, 0.3502673796791444, 0.3502673796791444, 0.35294117647058826, 0.35294117647058826, 0.35561497326203206, 0.35561497326203206, 0.3609625668449198, 0.3609625668449198, 0.3689839572192513, 0.3689839572192513, 0.3716577540106952, 0.3716577540106952, 0.3770053475935829, 0.3770053475935829, 0.37967914438502676, 0.37967914438502676, 0.38235294117647056, 0.38235294117647056, 0.3850267379679144, 0.3850267379679144, 0.3877005347593583, 0.3877005347593583, 0.39037433155080214, 0.39037433155080214, 0.39572192513368987, 0.39572192513368987, 0.3983957219251337, 0.3983957219251337, 0.40106951871657753, 0.40106951871657753, 0.4037433155080214, 0.4037433155080214, 0.4090909090909091, 0.4090909090909091, 0.4117647058823529, 0.4117647058823529, 0.42245989304812837, 0.42245989304812837, 0.4304812834224599, 0.4304812834224599, 0.43315508021390375, 0.43315508021390375, 0.43315508021390375, 0.4385026737967914, 0.4385026737967914, 0.44385026737967914, 0.44385026737967914, 0.446524064171123, 0.446524064171123, 0.45187165775401067, 0.45187165775401067, 0.45454545454545453, 0.45454545454545453, 0.46524064171123, 0.46524064171123, 0.4679144385026738, 0.4679144385026738, 0.47593582887700536, 0.47593582887700536, 0.48128342245989303, 0.48128342245989303, 0.48663101604278075, 0.48663101604278075, 0.4946524064171123, 0.4946524064171123, 0.49732620320855614, 0.49732620320855614, 0.5, 0.5, 0.5026737967914439, 0.5026737967914439, 0.5053475935828877, 0.5053475935828877, 0.5080213903743316, 0.5080213903743316, 0.5106951871657754, 0.5106951871657754, 0.5133689839572193, 0.5133689839572193, 0.5187165775401069, 0.5187165775401069, 0.5213903743315508, 0.5213903743315508, 0.5240641711229946, 0.5240641711229946, 0.5267379679144385, 0.5267379679144385, 0.5294117647058824, 0.5294117647058824, 0.5320855614973262, 0.5320855614973262, 0.5401069518716578, 0.5401069518716578, 0.5427807486631016, 0.5427807486631016, 0.5508021390374331, 0.5508021390374331, 0.5561497326203209, 0.5561497326203209, 0.5668449197860963, 0.5668449197860963, 0.5721925133689839, 0.5721925133689839, 0.5748663101604278, 0.5748663101604278, 0.5775401069518716, 0.5775401069518716, 0.5802139037433155, 0.5802139037433155, 0.5828877005347594, 0.5828877005347594, 0.5855614973262032, 0.5855614973262032, 0.5882352941176471, 0.5882352941176471, 0.5909090909090909, 0.5909090909090909, 0.5935828877005348, 0.5935828877005348, 0.5962566844919787, 0.5962566844919787, 0.5989304812834224, 0.5989304812834224, 0.6149732620320856, 0.6149732620320856, 0.6176470588235294, 0.6176470588235294, 0.6229946524064172, 0.6229946524064172, 0.6256684491978609, 0.6256684491978609, 0.6283422459893048, 0.6283422459893048, 0.6310160427807486, 0.6310160427807486, 0.6336898395721925, 0.6336898395721925, 0.6363636363636364, 0.6363636363636364, 0.6470588235294118, 0.6470588235294118, 0.6497326203208557, 0.6497326203208557, 0.6524064171122995, 0.6524064171122995, 0.6550802139037433, 0.6550802139037433, 0.6577540106951871, 0.6577540106951871, 0.660427807486631, 0.660427807486631, 0.6631016042780749, 0.6631016042780749, 0.6711229946524064, 0.6711229946524064, 0.6764705882352942, 0.6764705882352942, 0.6818181818181818, 0.6818181818181818, 0.6844919786096256, 0.6844919786096256, 0.6871657754010695, 0.6871657754010695, 0.6898395721925134, 0.6898395721925134, 0.6925133689839572, 0.6925133689839572, 0.6951871657754011, 0.6951871657754011, 0.6978609625668449, 0.6978609625668449, 0.7005347593582888, 0.7005347593582888, 0.7032085561497327, 0.7032085561497327, 0.7085561497326203, 0.7085561497326203, 0.713903743315508, 0.713903743315508, 0.7165775401069518, 0.7165775401069518, 0.7192513368983957, 0.7192513368983957, 0.7219251336898396, 0.7219251336898396, 0.7272727272727273, 0.7272727272727273, 0.7299465240641712, 0.7299465240641712, 0.732620320855615, 0.732620320855615, 0.7379679144385026, 0.7379679144385026, 0.7486631016042781, 0.7486631016042781, 0.7513368983957219, 0.7513368983957219, 0.7540106951871658, 0.7540106951871658, 0.7566844919786097, 0.7566844919786097, 0.7593582887700535, 0.7593582887700535, 0.7620320855614974, 0.7620320855614974, 0.7647058823529411, 0.7647058823529411, 0.767379679144385, 0.767379679144385, 0.7700534759358288, 0.7700534759358288, 0.7727272727272727, 0.7727272727272727, 0.7754010695187166, 0.7754010695187166, 0.7780748663101604, 0.7780748663101604, 0.7807486631016043, 0.7807486631016043, 0.786096256684492, 0.786096256684492, 0.7887700534759359, 0.7887700534759359, 0.7914438502673797, 0.7914438502673797, 0.7967914438502673, 0.7967914438502673, 0.8048128342245989, 0.8048128342245989, 0.8074866310160428, 0.8074866310160428, 0.8101604278074866, 0.8101604278074866, 0.8128342245989305, 0.8128342245989305, 0.8181818181818182, 0.8181818181818182, 0.8235294117647058, 0.8235294117647058, 0.8262032085561497, 0.8262032085561497, 0.8288770053475936, 0.8288770053475936, 0.8315508021390374, 0.8315508021390374, 0.8342245989304813, 0.8342245989304813, 0.8368983957219251, 0.8368983957219251, 0.839572192513369, 0.839572192513369, 0.8422459893048129, 0.8422459893048129, 0.8449197860962567, 0.8449197860962567, 0.8502673796791443, 0.8502673796791443, 0.8556149732620321, 0.8556149732620321, 0.8582887700534759, 0.8582887700534759, 0.8609625668449198, 0.8609625668449198, 0.8636363636363636, 0.8636363636363636, 0.8663101604278075, 0.8663101604278075, 0.8689839572192514, 0.8689839572192514, 0.8716577540106952, 0.8716577540106952, 0.8743315508021391, 0.8743315508021391, 0.8770053475935828, 0.8770053475935828, 0.8796791443850267, 0.8796791443850267, 0.8850267379679144, 0.8850267379679144, 0.8877005347593583, 0.8877005347593583, 0.8903743315508021, 0.8903743315508021, 0.8957219251336899, 0.8957219251336899, 0.8983957219251337, 0.8983957219251337, 0.9010695187165776, 0.9010695187165776, 0.9064171122994652, 0.9064171122994652, 0.9117647058823529, 0.9117647058823529, 0.9171122994652406, 0.9171122994652406, 0.9197860962566845, 0.9197860962566845, 0.9224598930481284, 0.9224598930481284, 0.9251336898395722, 0.9251336898395722, 0.9278074866310161, 0.9278074866310161, 0.93048128342246, 0.93048128342246, 0.9331550802139037, 0.9331550802139037, 0.9358288770053476, 0.9358288770053476, 0.9385026737967914, 0.9385026737967914, 0.9411764705882353, 0.9411764705882353, 0.9438502673796791, 0.9438502673796791, 0.946524064171123, 0.946524064171123, 0.9491978609625669, 0.9491978609625669, 0.9572192513368984, 0.9572192513368984, 0.9598930481283422, 0.9598930481283422, 0.9625668449197861, 0.9625668449197861, 0.9652406417112299, 0.9652406417112299, 0.9679144385026738, 0.9679144385026738, 0.9705882352941176, 0.9705882352941176, 0.9732620320855615, 0.9732620320855615, 0.9759358288770054, 0.9759358288770054, 0.9812834224598931, 0.9812834224598931, 0.983957219251337, 0.983957219251337, 0.9893048128342246, 0.9893048128342246, 0.9919786096256684, 0.9919786096256684, 0.9946524064171123, 0.9946524064171123, 0.9946524064171123, 0.9946524064171123, 0.9973262032085561, 0.9973262032085561, 1.0, 1.0]}],\n",
              "                        {\"height\": 500, \"template\": {\"data\": {\"bar\": [{\"error_x\": {\"color\": \"#2a3f5f\"}, \"error_y\": {\"color\": \"#2a3f5f\"}, \"marker\": {\"line\": {\"color\": \"#E5ECF6\", \"width\": 0.5}}, \"type\": \"bar\"}], \"barpolar\": [{\"marker\": {\"line\": {\"color\": \"#E5ECF6\", \"width\": 0.5}}, \"type\": \"barpolar\"}], \"carpet\": [{\"aaxis\": {\"endlinecolor\": \"#2a3f5f\", \"gridcolor\": \"white\", \"linecolor\": \"white\", \"minorgridcolor\": \"white\", \"startlinecolor\": \"#2a3f5f\"}, \"baxis\": {\"endlinecolor\": \"#2a3f5f\", \"gridcolor\": \"white\", \"linecolor\": \"white\", \"minorgridcolor\": \"white\", \"startlinecolor\": \"#2a3f5f\"}, \"type\": \"carpet\"}], \"choropleth\": [{\"colorbar\": {\"outlinewidth\": 0, \"ticks\": \"\"}, \"type\": \"choropleth\"}], \"contour\": [{\"colorbar\": {\"outlinewidth\": 0, \"ticks\": \"\"}, \"colorscale\": [[0.0, \"#0d0887\"], [0.1111111111111111, \"#46039f\"], [0.2222222222222222, \"#7201a8\"], [0.3333333333333333, \"#9c179e\"], [0.4444444444444444, \"#bd3786\"], [0.5555555555555556, \"#d8576b\"], [0.6666666666666666, \"#ed7953\"], [0.7777777777777778, \"#fb9f3a\"], [0.8888888888888888, \"#fdca26\"], [1.0, \"#f0f921\"]], \"type\": \"contour\"}], \"contourcarpet\": [{\"colorbar\": {\"outlinewidth\": 0, \"ticks\": \"\"}, \"type\": \"contourcarpet\"}], \"heatmap\": [{\"colorbar\": {\"outlinewidth\": 0, \"ticks\": \"\"}, \"colorscale\": [[0.0, \"#0d0887\"], [0.1111111111111111, \"#46039f\"], [0.2222222222222222, \"#7201a8\"], [0.3333333333333333, \"#9c179e\"], [0.4444444444444444, \"#bd3786\"], [0.5555555555555556, \"#d8576b\"], [0.6666666666666666, \"#ed7953\"], [0.7777777777777778, \"#fb9f3a\"], [0.8888888888888888, \"#fdca26\"], [1.0, \"#f0f921\"]], \"type\": \"heatmap\"}], \"heatmapgl\": [{\"colorbar\": {\"outlinewidth\": 0, \"ticks\": \"\"}, \"colorscale\": [[0.0, \"#0d0887\"], [0.1111111111111111, \"#46039f\"], [0.2222222222222222, \"#7201a8\"], [0.3333333333333333, \"#9c179e\"], [0.4444444444444444, \"#bd3786\"], [0.5555555555555556, \"#d8576b\"], [0.6666666666666666, \"#ed7953\"], [0.7777777777777778, \"#fb9f3a\"], [0.8888888888888888, \"#fdca26\"], [1.0, \"#f0f921\"]], \"type\": \"heatmapgl\"}], \"histogram\": [{\"marker\": {\"colorbar\": {\"outlinewidth\": 0, \"ticks\": \"\"}}, \"type\": \"histogram\"}], \"histogram2d\": [{\"colorbar\": {\"outlinewidth\": 0, \"ticks\": \"\"}, \"colorscale\": [[0.0, \"#0d0887\"], [0.1111111111111111, \"#46039f\"], [0.2222222222222222, \"#7201a8\"], [0.3333333333333333, \"#9c179e\"], [0.4444444444444444, \"#bd3786\"], [0.5555555555555556, \"#d8576b\"], [0.6666666666666666, \"#ed7953\"], [0.7777777777777778, \"#fb9f3a\"], [0.8888888888888888, \"#fdca26\"], [1.0, \"#f0f921\"]], \"type\": \"histogram2d\"}], \"histogram2dcontour\": [{\"colorbar\": {\"outlinewidth\": 0, \"ticks\": \"\"}, \"colorscale\": [[0.0, \"#0d0887\"], [0.1111111111111111, \"#46039f\"], [0.2222222222222222, \"#7201a8\"], [0.3333333333333333, \"#9c179e\"], [0.4444444444444444, \"#bd3786\"], [0.5555555555555556, \"#d8576b\"], [0.6666666666666666, \"#ed7953\"], [0.7777777777777778, \"#fb9f3a\"], [0.8888888888888888, \"#fdca26\"], [1.0, \"#f0f921\"]], \"type\": \"histogram2dcontour\"}], \"mesh3d\": [{\"colorbar\": {\"outlinewidth\": 0, \"ticks\": \"\"}, \"type\": \"mesh3d\"}], \"parcoords\": [{\"line\": {\"colorbar\": {\"outlinewidth\": 0, \"ticks\": \"\"}}, \"type\": \"parcoords\"}], \"pie\": [{\"automargin\": true, \"type\": \"pie\"}], \"scatter\": [{\"marker\": {\"colorbar\": {\"outlinewidth\": 0, \"ticks\": \"\"}}, \"type\": \"scatter\"}], \"scatter3d\": [{\"line\": {\"colorbar\": {\"outlinewidth\": 0, \"ticks\": \"\"}}, \"marker\": {\"colorbar\": {\"outlinewidth\": 0, \"ticks\": \"\"}}, \"type\": \"scatter3d\"}], \"scattercarpet\": [{\"marker\": {\"colorbar\": {\"outlinewidth\": 0, \"ticks\": \"\"}}, \"type\": \"scattercarpet\"}], \"scattergeo\": [{\"marker\": {\"colorbar\": {\"outlinewidth\": 0, \"ticks\": \"\"}}, \"type\": \"scattergeo\"}], \"scattergl\": [{\"marker\": {\"colorbar\": {\"outlinewidth\": 0, \"ticks\": \"\"}}, \"type\": \"scattergl\"}], \"scattermapbox\": [{\"marker\": {\"colorbar\": {\"outlinewidth\": 0, \"ticks\": \"\"}}, \"type\": \"scattermapbox\"}], \"scatterpolar\": [{\"marker\": {\"colorbar\": {\"outlinewidth\": 0, \"ticks\": \"\"}}, \"type\": \"scatterpolar\"}], \"scatterpolargl\": [{\"marker\": {\"colorbar\": {\"outlinewidth\": 0, \"ticks\": \"\"}}, \"type\": \"scatterpolargl\"}], \"scatterternary\": [{\"marker\": {\"colorbar\": {\"outlinewidth\": 0, \"ticks\": \"\"}}, \"type\": \"scatterternary\"}], \"surface\": [{\"colorbar\": {\"outlinewidth\": 0, \"ticks\": \"\"}, \"colorscale\": [[0.0, \"#0d0887\"], [0.1111111111111111, \"#46039f\"], [0.2222222222222222, \"#7201a8\"], [0.3333333333333333, \"#9c179e\"], [0.4444444444444444, \"#bd3786\"], [0.5555555555555556, \"#d8576b\"], [0.6666666666666666, \"#ed7953\"], [0.7777777777777778, \"#fb9f3a\"], [0.8888888888888888, \"#fdca26\"], [1.0, \"#f0f921\"]], \"type\": \"surface\"}], \"table\": [{\"cells\": {\"fill\": {\"color\": \"#EBF0F8\"}, \"line\": {\"color\": \"white\"}}, \"header\": {\"fill\": {\"color\": \"#C8D4E3\"}, \"line\": {\"color\": \"white\"}}, \"type\": \"table\"}]}, \"layout\": {\"annotationdefaults\": {\"arrowcolor\": \"#2a3f5f\", \"arrowhead\": 0, \"arrowwidth\": 1}, \"coloraxis\": {\"colorbar\": {\"outlinewidth\": 0, \"ticks\": \"\"}}, \"colorscale\": {\"diverging\": [[0, \"#8e0152\"], [0.1, \"#c51b7d\"], [0.2, \"#de77ae\"], [0.3, \"#f1b6da\"], [0.4, \"#fde0ef\"], [0.5, \"#f7f7f7\"], [0.6, \"#e6f5d0\"], [0.7, \"#b8e186\"], [0.8, \"#7fbc41\"], [0.9, \"#4d9221\"], [1, \"#276419\"]], \"sequential\": [[0.0, \"#0d0887\"], [0.1111111111111111, \"#46039f\"], [0.2222222222222222, \"#7201a8\"], [0.3333333333333333, \"#9c179e\"], [0.4444444444444444, \"#bd3786\"], [0.5555555555555556, \"#d8576b\"], [0.6666666666666666, \"#ed7953\"], [0.7777777777777778, \"#fb9f3a\"], [0.8888888888888888, \"#fdca26\"], [1.0, \"#f0f921\"]], \"sequentialminus\": [[0.0, \"#0d0887\"], [0.1111111111111111, \"#46039f\"], [0.2222222222222222, \"#7201a8\"], [0.3333333333333333, \"#9c179e\"], [0.4444444444444444, \"#bd3786\"], [0.5555555555555556, \"#d8576b\"], [0.6666666666666666, \"#ed7953\"], [0.7777777777777778, \"#fb9f3a\"], [0.8888888888888888, \"#fdca26\"], [1.0, \"#f0f921\"]]}, \"colorway\": [\"#636efa\", \"#EF553B\", \"#00cc96\", \"#ab63fa\", \"#FFA15A\", \"#19d3f3\", \"#FF6692\", \"#B6E880\", \"#FF97FF\", \"#FECB52\"], \"font\": {\"color\": \"#2a3f5f\"}, \"geo\": {\"bgcolor\": \"white\", \"lakecolor\": \"white\", \"landcolor\": \"#E5ECF6\", \"showlakes\": true, \"showland\": true, \"subunitcolor\": \"white\"}, \"hoverlabel\": {\"align\": \"left\"}, \"hovermode\": \"closest\", \"mapbox\": {\"style\": \"light\"}, \"paper_bgcolor\": \"white\", \"plot_bgcolor\": \"#E5ECF6\", \"polar\": {\"angularaxis\": {\"gridcolor\": \"white\", \"linecolor\": \"white\", \"ticks\": \"\"}, \"bgcolor\": \"#E5ECF6\", \"radialaxis\": {\"gridcolor\": \"white\", \"linecolor\": \"white\", \"ticks\": \"\"}}, \"scene\": {\"xaxis\": {\"backgroundcolor\": \"#E5ECF6\", \"gridcolor\": \"white\", \"gridwidth\": 2, \"linecolor\": \"white\", \"showbackground\": true, \"ticks\": \"\", \"zerolinecolor\": \"white\"}, \"yaxis\": {\"backgroundcolor\": \"#E5ECF6\", \"gridcolor\": \"white\", \"gridwidth\": 2, \"linecolor\": \"white\", \"showbackground\": true, \"ticks\": \"\", \"zerolinecolor\": \"white\"}, \"zaxis\": {\"backgroundcolor\": \"#E5ECF6\", \"gridcolor\": \"white\", \"gridwidth\": 2, \"linecolor\": \"white\", \"showbackground\": true, \"ticks\": \"\", \"zerolinecolor\": \"white\"}}, \"shapedefaults\": {\"line\": {\"color\": \"#2a3f5f\"}}, \"ternary\": {\"aaxis\": {\"gridcolor\": \"white\", \"linecolor\": \"white\", \"ticks\": \"\"}, \"baxis\": {\"gridcolor\": \"white\", \"linecolor\": \"white\", \"ticks\": \"\"}, \"bgcolor\": \"#E5ECF6\", \"caxis\": {\"gridcolor\": \"white\", \"linecolor\": \"white\", \"ticks\": \"\"}}, \"title\": {\"x\": 0.05}, \"xaxis\": {\"automargin\": true, \"gridcolor\": \"white\", \"linecolor\": \"white\", \"ticks\": \"\", \"title\": {\"standoff\": 15}, \"zerolinecolor\": \"white\", \"zerolinewidth\": 2}, \"yaxis\": {\"automargin\": true, \"gridcolor\": \"white\", \"linecolor\": \"white\", \"ticks\": \"\", \"title\": {\"standoff\": 15}, \"zerolinecolor\": \"white\", \"zerolinewidth\": 2}}}, \"title\": {\"text\": \"ROC\", \"x\": 0.5}, \"width\": 750, \"xaxis\": {\"title\": {\"text\": \"False Positive Rate (Sensitivity)\"}}, \"yaxis\": {\"title\": {\"text\": \"True Positive Rate (1 - Specificity)\"}}},\n",
              "                        {\"responsive\": true}\n",
              "                    ).then(function(){\n",
              "                            \n",
              "var gd = document.getElementById('7d78b0f9-51e3-4e8c-8d7e-76d19d933535');\n",
              "var x = new MutationObserver(function (mutations, observer) {{\n",
              "        var display = window.getComputedStyle(gd).display;\n",
              "        if (!display || display === 'none') {{\n",
              "            console.log([gd, 'removed!']);\n",
              "            Plotly.purge(gd);\n",
              "            observer.disconnect();\n",
              "        }}\n",
              "}});\n",
              "\n",
              "// Listen for the removal of the full notebook cells\n",
              "var notebookContainer = gd.closest('#notebook-container');\n",
              "if (notebookContainer) {{\n",
              "    x.observe(notebookContainer, {childList: true});\n",
              "}}\n",
              "\n",
              "// Listen for the clearing of the current output cell\n",
              "var outputEl = gd.closest('.output');\n",
              "if (outputEl) {{\n",
              "    x.observe(outputEl, {childList: true});\n",
              "}}\n",
              "\n",
              "                        })\n",
              "                };\n",
              "                \n",
              "            </script>\n",
              "        </div>\n",
              "</body>\n",
              "</html>"
            ]
          },
          "metadata": {}
        }
      ]
    },
    {
      "cell_type": "markdown",
      "source": [
        "### ROC AUC Score\n",
        "\n",
        "The area under the ROC curve can be calculated and provides a single score to summarize the plot that can be used to compare models. ROC Curve score close to 1, represents better model."
      ],
      "metadata": {
        "id": "UNBKl_csm9vz"
      }
    },
    {
      "cell_type": "code",
      "source": [
        "print('--- ROC AUC ---')\n",
        "print(f\"Logistic Regression: {auc_score_lr}\" ) # Logistic Regression\n",
        "print(f\"Naive Bayes: {auc_score_gnb}\") # Gaussian Naive Bayes\n",
        "\n",
        "print(f'Neural Network: {auc_score_nn}')# Neural Network\n",
        "print(f\"K-Nearest Neighbors: {auc_score_knn} \") # K-Nearest Neighbors\n",
        "print(f\"Decision Tree: {auc_score_dt}\")  # Decision Tree\n",
        "print(f\"SVC: {auc_score_svc}\")# support vector classifier\n",
        "\n",
        "print(f\"Random Forest: {auc_score_rf}\") # Random Forest\n",
        "print(f\"ADA: {auc_score_ada}\")# ada boost\n",
        "print(f'SGB: {auc_score_sgb}')   # stochastic gradient boosting\n",
        "print(f'CAT: {auc_score_cat}')   # Catboost classifier\n",
        "print(f'XGB: {auc_score_xgb}')   # XGBoost"
      ],
      "metadata": {
        "colab": {
          "base_uri": "https://localhost:8080/"
        },
        "id": "QHlKvGUGptpt",
        "outputId": "7019014d-0eff-4dc9-ae4d-d5d50905b6ad"
      },
      "execution_count": 77,
      "outputs": [
        {
          "metadata": {
            "tags": null
          },
          "name": "stdout",
          "output_type": "stream",
          "text": [
            "--- ROC AUC ---\n",
            "Logistic Regression: 0.7709115239865196\n",
            "Naive Bayes: 0.7402353355317308\n",
            "Neural Network: 0.8462553903018569\n",
            "K-Nearest Neighbors: 0.7231999109597197 \n",
            "Decision Tree: 0.7249742456165781\n",
            "SVC: 0.7331328201438105\n",
            "Random Forest: 0.7383872320379353\n",
            "ADA: 0.7724567869918362\n",
            "SGB: 0.7386408933017896\n",
            "CAT: 0.7719028736197463\n",
            "XGB: 0.7249030651598845\n"
          ]
        }
      ]
    },
    {
      "cell_type": "markdown",
      "source": [
        "### Precision Recall Curve \n",
        "\n",
        "Precision-recall curve plots the precision (y-axis) and the recall (x-axis) for different thresholds.  It summarizes the trade-off between the true positive rate and the positive predictive value for a predictive model using different probability thresholds.\n",
        "\n",
        "The calculations of Precision recall curve do not make use of the true negatives.  It focuses on the performance of the classifier on the minority class.  Hence, this metric could be used when correct prediction of the minority class (Churn - Yes) is more important.  "
      ],
      "metadata": {
        "id": "AIL7hBPA8RlU"
      }
    },
    {
      "cell_type": "code",
      "source": [
        "fig = go.Figure()\n",
        "\n",
        "fig.add_trace(go.Scatter(x=recall_lr,y=precision_lr,mode='lines',name='LR'))\n",
        "fig.add_trace(go.Scatter(x=recall_gnb,y=precision_gnb,mode='lines',name='GNB'))\n",
        "\n",
        "fig.add_trace(go.Scatter(x=recall_nn,y=precision_nn,mode='lines',name='NN'))\n",
        "fig.add_trace(go.Scatter(x=recall_knn,y=precision_knn,mode='lines',name='KNN'))\n",
        "fig.add_trace(go.Scatter(x=recall_dt,y=precision_dt,mode='lines',name='DT'))\n",
        "fig.add_trace(go.Scatter(x=recall_svc,y=precision_svc,mode='lines',name='SVC'))\n",
        "\n",
        "fig.add_trace(go.Scatter(x=recall_rf,y=precision_rf,mode='lines',name='RF'))\n",
        "fig.add_trace(go.Scatter(x=recall_ada,y=precision_ada,mode='lines',name='ADA'))\n",
        "fig.add_trace(go.Scatter(x=recall_cat,y=precision_cat,mode='lines',name='CAT'))\n",
        "fig.add_trace(go.Scatter(x=recall_sgb,y=precision_sgb,mode='lines',name='SGB'))\n",
        "fig.add_trace(go.Scatter(x=recall_xgb,y=precision_xgb,mode='lines',name='XGB'))\n",
        "fig.update_layout(title='Precision-Recall Curve',\n",
        "                   xaxis_title='Recall',\n",
        "                   yaxis_title='Precision', title_x = 0.5,\n",
        "                   width = 750, height=500,\n",
        "                 )\n",
        "fig.show()"
      ],
      "metadata": {
        "colab": {
          "base_uri": "https://localhost:8080/",
          "height": 517
        },
        "id": "jqgRn5Cuptxu",
        "outputId": "2178d778-448c-46a1-cb8a-ca1f488169b7"
      },
      "execution_count": 78,
      "outputs": [
        {
          "output_type": "display_data",
          "data": {
            "text/html": [
              "<html>\n",
              "<head><meta charset=\"utf-8\" /></head>\n",
              "<body>\n",
              "    <div>\n",
              "            <script src=\"https://cdnjs.cloudflare.com/ajax/libs/mathjax/2.7.5/MathJax.js?config=TeX-AMS-MML_SVG\"></script><script type=\"text/javascript\">if (window.MathJax) {MathJax.Hub.Config({SVG: {font: \"STIX-Web\"}});}</script>\n",
              "                <script type=\"text/javascript\">window.PlotlyConfig = {MathJaxConfig: 'local'};</script>\n",
              "        <script src=\"https://cdn.plot.ly/plotly-latest.min.js\"></script>    \n",
              "            <div id=\"d4d645c7-c491-4ab6-89df-388d35f4d217\" class=\"plotly-graph-div\" style=\"height:500px; width:750px;\"></div>\n",
              "            <script type=\"text/javascript\">\n",
              "                \n",
              "                    window.PLOTLYENV=window.PLOTLYENV || {};\n",
              "                    \n",
              "                if (document.getElementById(\"d4d645c7-c491-4ab6-89df-388d35f4d217\")) {\n",
              "                    Plotly.newPlot(\n",
              "                        'd4d645c7-c491-4ab6-89df-388d35f4d217',\n",
              "                        [{\"mode\": \"lines\", \"name\": \"LR\", \"type\": \"scatter\", \"x\": [1.0, 0.9973262032085561, 0.9973262032085561, 0.9973262032085561, 0.9973262032085561, 0.9973262032085561, 0.9973262032085561, 0.9973262032085561, 0.9973262032085561, 0.9973262032085561, 0.9973262032085561, 0.9973262032085561, 0.9973262032085561, 0.9973262032085561, 0.9973262032085561, 0.9973262032085561, 0.9973262032085561, 0.9973262032085561, 0.9973262032085561, 0.9973262032085561, 0.9973262032085561, 0.9973262032085561, 0.9973262032085561, 0.9973262032085561, 0.9973262032085561, 0.9973262032085561, 0.9973262032085561, 0.9973262032085561, 0.9973262032085561, 0.9973262032085561, 0.9973262032085561, 0.9973262032085561, 0.9973262032085561, 0.9973262032085561, 0.9973262032085561, 0.9973262032085561, 0.9973262032085561, 0.9973262032085561, 0.9973262032085561, 0.9973262032085561, 0.9973262032085561, 0.9973262032085561, 0.9973262032085561, 0.9973262032085561, 0.9973262032085561, 0.9973262032085561, 0.9973262032085561, 0.9973262032085561, 0.9973262032085561, 0.9973262032085561, 0.9973262032085561, 0.9973262032085561, 0.9973262032085561, 0.9973262032085561, 0.9973262032085561, 0.9973262032085561, 0.9973262032085561, 0.9973262032085561, 0.9973262032085561, 0.9973262032085561, 0.9973262032085561, 0.9973262032085561, 0.9973262032085561, 0.9973262032085561, 0.9973262032085561, 0.9973262032085561, 0.9973262032085561, 0.9973262032085561, 0.9973262032085561, 0.9973262032085561, 0.9973262032085561, 0.9973262032085561, 0.9973262032085561, 0.9973262032085561, 0.9973262032085561, 0.9973262032085561, 0.9973262032085561, 0.9973262032085561, 0.9973262032085561, 0.9973262032085561, 0.9973262032085561, 0.9973262032085561, 0.9973262032085561, 0.9973262032085561, 0.9973262032085561, 0.9973262032085561, 0.9973262032085561, 0.9973262032085561, 0.9973262032085561, 0.9973262032085561, 0.9973262032085561, 0.9973262032085561, 0.9973262032085561, 0.9973262032085561, 0.9973262032085561, 0.9973262032085561, 0.9973262032085561, 0.9973262032085561, 0.9973262032085561, 0.9973262032085561, 0.9973262032085561, 0.9973262032085561, 0.9973262032085561, 0.9973262032085561, 0.9973262032085561, 0.9973262032085561, 0.9973262032085561, 0.9973262032085561, 0.9973262032085561, 0.9973262032085561, 0.9973262032085561, 0.9973262032085561, 0.9973262032085561, 0.9973262032085561, 0.9973262032085561, 0.9973262032085561, 0.9973262032085561, 0.9973262032085561, 0.9973262032085561, 0.9973262032085561, 0.9973262032085561, 0.9973262032085561, 0.9973262032085561, 0.9973262032085561, 0.9946524064171123, 0.9946524064171123, 0.9946524064171123, 0.9919786096256684, 0.9919786096256684, 0.9919786096256684, 0.9919786096256684, 0.9893048128342246, 0.9893048128342246, 0.9893048128342246, 0.9893048128342246, 0.9893048128342246, 0.9893048128342246, 0.9893048128342246, 0.9893048128342246, 0.9893048128342246, 0.9893048128342246, 0.9893048128342246, 0.9893048128342246, 0.9893048128342246, 0.9893048128342246, 0.9893048128342246, 0.9893048128342246, 0.9893048128342246, 0.9893048128342246, 0.9893048128342246, 0.9893048128342246, 0.9893048128342246, 0.9893048128342246, 0.9893048128342246, 0.9893048128342246, 0.9893048128342246, 0.9893048128342246, 0.9893048128342246, 0.9893048128342246, 0.9893048128342246, 0.9893048128342246, 0.9893048128342246, 0.9893048128342246, 0.9893048128342246, 0.9893048128342246, 0.9893048128342246, 0.9893048128342246, 0.9893048128342246, 0.9893048128342246, 0.9893048128342246, 0.9893048128342246, 0.9893048128342246, 0.9893048128342246, 0.9893048128342246, 0.9893048128342246, 0.9893048128342246, 0.9893048128342246, 0.9893048128342246, 0.9893048128342246, 0.9893048128342246, 0.9893048128342246, 0.9893048128342246, 0.9893048128342246, 0.9893048128342246, 0.9893048128342246, 0.9893048128342246, 0.9893048128342246, 0.9893048128342246, 0.9893048128342246, 0.9893048128342246, 0.9893048128342246, 0.9893048128342246, 0.9893048128342246, 0.9893048128342246, 0.9893048128342246, 0.9893048128342246, 0.9893048128342246, 0.9893048128342246, 0.9893048128342246, 0.9893048128342246, 0.9893048128342246, 0.9893048128342246, 0.9866310160427807, 0.9866310160427807, 0.9866310160427807, 0.9866310160427807, 0.9866310160427807, 0.9866310160427807, 0.9866310160427807, 0.9866310160427807, 0.9866310160427807, 0.9866310160427807, 0.983957219251337, 0.983957219251337, 0.983957219251337, 0.983957219251337, 0.983957219251337, 0.9812834224598931, 0.9812834224598931, 0.9812834224598931, 0.9812834224598931, 0.9812834224598931, 0.9812834224598931, 0.9812834224598931, 0.9812834224598931, 0.9812834224598931, 0.9812834224598931, 0.9812834224598931, 0.9812834224598931, 0.9812834224598931, 0.9812834224598931, 0.9812834224598931, 0.9812834224598931, 0.9812834224598931, 0.9812834224598931, 0.9812834224598931, 0.9812834224598931, 0.9812834224598931, 0.9812834224598931, 0.9786096256684492, 0.9786096256684492, 0.9786096256684492, 0.9786096256684492, 0.9786096256684492, 0.9786096256684492, 0.9786096256684492, 0.9786096256684492, 0.9786096256684492, 0.9786096256684492, 0.9786096256684492, 0.9786096256684492, 0.9786096256684492, 0.9786096256684492, 0.9786096256684492, 0.9786096256684492, 0.9786096256684492, 0.9786096256684492, 0.9786096256684492, 0.9786096256684492, 0.9786096256684492, 0.9759358288770054, 0.9759358288770054, 0.9759358288770054, 0.9759358288770054, 0.9759358288770054, 0.9759358288770054, 0.9759358288770054, 0.9759358288770054, 0.9759358288770054, 0.9759358288770054, 0.9759358288770054, 0.9759358288770054, 0.9759358288770054, 0.9759358288770054, 0.9732620320855615, 0.9732620320855615, 0.9732620320855615, 0.9732620320855615, 0.9732620320855615, 0.9732620320855615, 0.9732620320855615, 0.9732620320855615, 0.9732620320855615, 0.9732620320855615, 0.9732620320855615, 0.9732620320855615, 0.9732620320855615, 0.9732620320855615, 0.9732620320855615, 0.9732620320855615, 0.9732620320855615, 0.9732620320855615, 0.9732620320855615, 0.9732620320855615, 0.9732620320855615, 0.9732620320855615, 0.9732620320855615, 0.9732620320855615, 0.9732620320855615, 0.9732620320855615, 0.9732620320855615, 0.9732620320855615, 0.9732620320855615, 0.9732620320855615, 0.9732620320855615, 0.9732620320855615, 0.9732620320855615, 0.9732620320855615, 0.9732620320855615, 0.9732620320855615, 0.9705882352941176, 0.9705882352941176, 0.9705882352941176, 0.9705882352941176, 0.9705882352941176, 0.9679144385026738, 0.9679144385026738, 0.9679144385026738, 0.9679144385026738, 0.9679144385026738, 0.9679144385026738, 0.9679144385026738, 0.9679144385026738, 0.9679144385026738, 0.9679144385026738, 0.9679144385026738, 0.9679144385026738, 0.9679144385026738, 0.9679144385026738, 0.9679144385026738, 0.9679144385026738, 0.9679144385026738, 0.9679144385026738, 0.9679144385026738, 0.9679144385026738, 0.9679144385026738, 0.9679144385026738, 0.9679144385026738, 0.9679144385026738, 0.9679144385026738, 0.9679144385026738, 0.9679144385026738, 0.9652406417112299, 0.9652406417112299, 0.9652406417112299, 0.9652406417112299, 0.9652406417112299, 0.9652406417112299, 0.9625668449197861, 0.9625668449197861, 0.9625668449197861, 0.9625668449197861, 0.9625668449197861, 0.9625668449197861, 0.9625668449197861, 0.9625668449197861, 0.9625668449197861, 0.9625668449197861, 0.9625668449197861, 0.9625668449197861, 0.9625668449197861, 0.9625668449197861, 0.9625668449197861, 0.9625668449197861, 0.9625668449197861, 0.9625668449197861, 0.9625668449197861, 0.9598930481283422, 0.9598930481283422, 0.9598930481283422, 0.9598930481283422, 0.9598930481283422, 0.9572192513368984, 0.9572192513368984, 0.9572192513368984, 0.9572192513368984, 0.9572192513368984, 0.9572192513368984, 0.9572192513368984, 0.9572192513368984, 0.9572192513368984, 0.9572192513368984, 0.9572192513368984, 0.9545454545454546, 0.9545454545454546, 0.9545454545454546, 0.9545454545454546, 0.9545454545454546, 0.9545454545454546, 0.9545454545454546, 0.9545454545454546, 0.9545454545454546, 0.9545454545454546, 0.9545454545454546, 0.9545454545454546, 0.9545454545454546, 0.9545454545454546, 0.9518716577540107, 0.9491978609625669, 0.9491978609625669, 0.9491978609625669, 0.9491978609625669, 0.9491978609625669, 0.9491978609625669, 0.9491978609625669, 0.9491978609625669, 0.9491978609625669, 0.9491978609625669, 0.9491978609625669, 0.9491978609625669, 0.946524064171123, 0.946524064171123, 0.946524064171123, 0.946524064171123, 0.946524064171123, 0.946524064171123, 0.946524064171123, 0.946524064171123, 0.9438502673796791, 0.9438502673796791, 0.9438502673796791, 0.9438502673796791, 0.9438502673796791, 0.9438502673796791, 0.9438502673796791, 0.9438502673796791, 0.9411764705882353, 0.9411764705882353, 0.9411764705882353, 0.9385026737967914, 0.9385026737967914, 0.9385026737967914, 0.9358288770053476, 0.9358288770053476, 0.9358288770053476, 0.9358288770053476, 0.9358288770053476, 0.9358288770053476, 0.9358288770053476, 0.9358288770053476, 0.9358288770053476, 0.9358288770053476, 0.9358288770053476, 0.9358288770053476, 0.9358288770053476, 0.9358288770053476, 0.9358288770053476, 0.9358288770053476, 0.9358288770053476, 0.9358288770053476, 0.9358288770053476, 0.9358288770053476, 0.9358288770053476, 0.9358288770053476, 0.9358288770053476, 0.9358288770053476, 0.9358288770053476, 0.9358288770053476, 0.9331550802139037, 0.9331550802139037, 0.9331550802139037, 0.9331550802139037, 0.9331550802139037, 0.9331550802139037, 0.9331550802139037, 0.9331550802139037, 0.9331550802139037, 0.9331550802139037, 0.9331550802139037, 0.93048128342246, 0.93048128342246, 0.93048128342246, 0.93048128342246, 0.93048128342246, 0.93048128342246, 0.9278074866310161, 0.9278074866310161, 0.9278074866310161, 0.9251336898395722, 0.9251336898395722, 0.9251336898395722, 0.9251336898395722, 0.9251336898395722, 0.9251336898395722, 0.9251336898395722, 0.9224598930481284, 0.9224598930481284, 0.9197860962566845, 0.9197860962566845, 0.9197860962566845, 0.9171122994652406, 0.9171122994652406, 0.9144385026737968, 0.9144385026737968, 0.9144385026737968, 0.9144385026737968, 0.9144385026737968, 0.9144385026737968, 0.9117647058823529, 0.9117647058823529, 0.9117647058823529, 0.9117647058823529, 0.9117647058823529, 0.9090909090909091, 0.9090909090909091, 0.9090909090909091, 0.9090909090909091, 0.9090909090909091, 0.9064171122994652, 0.9064171122994652, 0.9064171122994652, 0.9064171122994652, 0.9037433155080213, 0.9037433155080213, 0.9037433155080213, 0.9037433155080213, 0.9010695187165776, 0.9010695187165776, 0.9010695187165776, 0.9010695187165776, 0.9010695187165776, 0.9010695187165776, 0.9010695187165776, 0.9010695187165776, 0.8983957219251337, 0.8983957219251337, 0.8983957219251337, 0.8983957219251337, 0.8983957219251337, 0.8957219251336899, 0.8957219251336899, 0.8957219251336899, 0.8957219251336899, 0.8957219251336899, 0.8957219251336899, 0.8957219251336899, 0.8957219251336899, 0.8957219251336899, 0.8957219251336899, 0.8957219251336899, 0.8957219251336899, 0.8957219251336899, 0.8957219251336899, 0.893048128342246, 0.893048128342246, 0.8903743315508021, 0.8903743315508021, 0.8877005347593583, 0.8877005347593583, 0.8877005347593583, 0.8877005347593583, 0.8877005347593583, 0.8877005347593583, 0.8877005347593583, 0.8877005347593583, 0.8877005347593583, 0.8877005347593583, 0.8877005347593583, 0.8877005347593583, 0.8877005347593583, 0.8877005347593583, 0.8877005347593583, 0.8850267379679144, 0.8823529411764706, 0.8823529411764706, 0.8823529411764706, 0.8823529411764706, 0.8796791443850267, 0.8770053475935828, 0.8770053475935828, 0.8770053475935828, 0.8770053475935828, 0.8770053475935828, 0.8770053475935828, 0.8743315508021391, 0.8743315508021391, 0.8716577540106952, 0.8716577540106952, 0.8716577540106952, 0.8716577540106952, 0.8716577540106952, 0.8716577540106952, 0.8716577540106952, 0.8716577540106952, 0.8689839572192514, 0.8663101604278075, 0.8663101604278075, 0.8663101604278075, 0.8636363636363636, 0.8636363636363636, 0.8636363636363636, 0.8636363636363636, 0.8636363636363636, 0.8636363636363636, 0.8636363636363636, 0.8636363636363636, 0.8636363636363636, 0.8609625668449198, 0.8582887700534759, 0.8556149732620321, 0.8556149732620321, 0.8556149732620321, 0.8529411764705882, 0.8502673796791443, 0.8475935828877005, 0.8475935828877005, 0.8475935828877005, 0.8475935828877005, 0.8475935828877005, 0.8449197860962567, 0.8449197860962567, 0.8422459893048129, 0.839572192513369, 0.839572192513369, 0.839572192513369, 0.839572192513369, 0.839572192513369, 0.839572192513369, 0.839572192513369, 0.839572192513369, 0.839572192513369, 0.839572192513369, 0.839572192513369, 0.839572192513369, 0.839572192513369, 0.839572192513369, 0.8368983957219251, 0.8368983957219251, 0.8368983957219251, 0.8368983957219251, 0.8342245989304813, 0.8315508021390374, 0.8315508021390374, 0.8315508021390374, 0.8315508021390374, 0.8315508021390374, 0.8315508021390374, 0.8315508021390374, 0.8315508021390374, 0.8288770053475936, 0.8288770053475936, 0.8288770053475936, 0.8262032085561497, 0.8235294117647058, 0.8235294117647058, 0.8235294117647058, 0.8235294117647058, 0.8235294117647058, 0.8235294117647058, 0.8235294117647058, 0.8235294117647058, 0.8235294117647058, 0.8235294117647058, 0.8235294117647058, 0.8235294117647058, 0.820855614973262, 0.820855614973262, 0.820855614973262, 0.820855614973262, 0.820855614973262, 0.820855614973262, 0.8181818181818182, 0.8155080213903744, 0.8155080213903744, 0.8155080213903744, 0.8155080213903744, 0.8155080213903744, 0.8155080213903744, 0.8155080213903744, 0.8128342245989305, 0.8128342245989305, 0.8128342245989305, 0.8128342245989305, 0.8128342245989305, 0.8128342245989305, 0.8128342245989305, 0.8128342245989305, 0.8128342245989305, 0.8128342245989305, 0.8128342245989305, 0.8101604278074866, 0.8101604278074866, 0.8074866310160428, 0.8074866310160428, 0.8074866310160428, 0.8048128342245989, 0.8048128342245989, 0.8021390374331551, 0.8021390374331551, 0.7994652406417112, 0.7967914438502673, 0.7967914438502673, 0.7967914438502673, 0.7967914438502673, 0.7967914438502673, 0.7967914438502673, 0.7967914438502673, 0.7941176470588235, 0.7941176470588235, 0.7941176470588235, 0.7941176470588235, 0.7941176470588235, 0.7914438502673797, 0.7887700534759359, 0.786096256684492, 0.786096256684492, 0.786096256684492, 0.786096256684492, 0.786096256684492, 0.7834224598930482, 0.7834224598930482, 0.7807486631016043, 0.7807486631016043, 0.7780748663101604, 0.7754010695187166, 0.7754010695187166, 0.7754010695187166, 0.7754010695187166, 0.7754010695187166, 0.7727272727272727, 0.7700534759358288, 0.767379679144385, 0.767379679144385, 0.767379679144385, 0.767379679144385, 0.767379679144385, 0.767379679144385, 0.767379679144385, 0.767379679144385, 0.767379679144385, 0.7647058823529411, 0.7620320855614974, 0.7620320855614974, 0.7620320855614974, 0.7620320855614974, 0.7593582887700535, 0.7566844919786097, 0.7566844919786097, 0.7540106951871658, 0.7540106951871658, 0.7540106951871658, 0.7540106951871658, 0.7540106951871658, 0.7540106951871658, 0.7513368983957219, 0.7486631016042781, 0.7459893048128342, 0.7459893048128342, 0.7433155080213903, 0.7433155080213903, 0.7433155080213903, 0.7406417112299465, 0.7379679144385026, 0.7352941176470589, 0.7352941176470589, 0.732620320855615, 0.7299465240641712, 0.7272727272727273, 0.7272727272727273, 0.7245989304812834, 0.7245989304812834, 0.7219251336898396, 0.7219251336898396, 0.7192513368983957, 0.7192513368983957, 0.7192513368983957, 0.7165775401069518, 0.713903743315508, 0.713903743315508, 0.713903743315508, 0.7112299465240641, 0.7085561497326203, 0.7085561497326203, 0.7085561497326203, 0.7085561497326203, 0.7085561497326203, 0.7085561497326203, 0.7058823529411765, 0.7058823529411765, 0.7058823529411765, 0.7058823529411765, 0.7058823529411765, 0.7032085561497327, 0.7032085561497327, 0.7005347593582888, 0.6978609625668449, 0.6978609625668449, 0.6978609625668449, 0.6951871657754011, 0.6951871657754011, 0.6925133689839572, 0.6898395721925134, 0.6871657754010695, 0.6871657754010695, 0.6844919786096256, 0.6844919786096256, 0.6844919786096256, 0.6844919786096256, 0.6844919786096256, 0.6844919786096256, 0.6818181818181818, 0.679144385026738, 0.679144385026738, 0.679144385026738, 0.679144385026738, 0.6764705882352942, 0.6764705882352942, 0.6764705882352942, 0.6764705882352942, 0.6764705882352942, 0.6737967914438503, 0.6737967914438503, 0.6737967914438503, 0.6737967914438503, 0.6737967914438503, 0.6737967914438503, 0.6737967914438503, 0.6737967914438503, 0.6737967914438503, 0.6711229946524064, 0.6711229946524064, 0.6711229946524064, 0.6711229946524064, 0.6711229946524064, 0.6684491978609626, 0.6684491978609626, 0.6657754010695187, 0.6657754010695187, 0.6631016042780749, 0.660427807486631, 0.660427807486631, 0.6577540106951871, 0.6550802139037433, 0.6524064171122995, 0.6524064171122995, 0.6497326203208557, 0.6497326203208557, 0.6497326203208557, 0.6497326203208557, 0.6497326203208557, 0.6470588235294118, 0.6443850267379679, 0.6417112299465241, 0.6417112299465241, 0.6390374331550802, 0.6363636363636364, 0.6336898395721925, 0.6310160427807486, 0.6283422459893048, 0.6283422459893048, 0.6283422459893048, 0.6256684491978609, 0.6256684491978609, 0.6229946524064172, 0.6203208556149733, 0.6203208556149733, 0.6176470588235294, 0.6149732620320856, 0.6149732620320856, 0.6122994652406417, 0.6096256684491979, 0.6096256684491979, 0.606951871657754, 0.606951871657754, 0.6042780748663101, 0.6016042780748663, 0.6016042780748663, 0.6016042780748663, 0.6016042780748663, 0.6016042780748663, 0.6016042780748663, 0.5989304812834224, 0.5989304812834224, 0.5962566844919787, 0.5935828877005348, 0.5909090909090909, 0.5882352941176471, 0.5855614973262032, 0.5828877005347594, 0.5828877005347594, 0.5828877005347594, 0.5802139037433155, 0.5802139037433155, 0.5775401069518716, 0.5775401069518716, 0.5748663101604278, 0.5748663101604278, 0.5748663101604278, 0.5721925133689839, 0.5721925133689839, 0.5721925133689839, 0.5721925133689839, 0.56951871657754, 0.5668449197860963, 0.5668449197860963, 0.5668449197860963, 0.5641711229946524, 0.5614973262032086, 0.5614973262032086, 0.5614973262032086, 0.5588235294117647, 0.5588235294117647, 0.5588235294117647, 0.5588235294117647, 0.5588235294117647, 0.5561497326203209, 0.553475935828877, 0.5508021390374331, 0.5481283422459893, 0.5454545454545454, 0.5454545454545454, 0.5454545454545454, 0.5427807486631016, 0.5401069518716578, 0.5374331550802139, 0.5374331550802139, 0.5347593582887701, 0.5320855614973262, 0.5320855614973262, 0.5294117647058824, 0.5267379679144385, 0.5267379679144385, 0.5240641711229946, 0.5240641711229946, 0.5213903743315508, 0.5187165775401069, 0.5187165775401069, 0.516042780748663, 0.516042780748663, 0.516042780748663, 0.516042780748663, 0.5133689839572193, 0.5106951871657754, 0.5080213903743316, 0.5053475935828877, 0.5053475935828877, 0.5026737967914439, 0.5, 0.5, 0.49732620320855614, 0.49732620320855614, 0.49732620320855614, 0.49732620320855614, 0.4946524064171123, 0.4919786096256685, 0.4919786096256685, 0.4893048128342246, 0.4893048128342246, 0.4893048128342246, 0.48663101604278075, 0.4839572192513369, 0.4839572192513369, 0.48128342245989303, 0.4786096256684492, 0.4786096256684492, 0.4786096256684492, 0.47593582887700536, 0.47593582887700536, 0.47593582887700536, 0.47593582887700536, 0.47593582887700536, 0.47593582887700536, 0.4732620320855615, 0.4732620320855615, 0.4732620320855615, 0.47058823529411764, 0.47058823529411764, 0.47058823529411764, 0.47058823529411764, 0.47058823529411764, 0.4679144385026738, 0.4679144385026738, 0.4679144385026738, 0.46524064171123, 0.4625668449197861, 0.45989304812834225, 0.4572192513368984, 0.4572192513368984, 0.45454545454545453, 0.45187165775401067, 0.45187165775401067, 0.45187165775401067, 0.44919786096256686, 0.446524064171123, 0.446524064171123, 0.44385026737967914, 0.4411764705882353, 0.4385026737967914, 0.4385026737967914, 0.4358288770053476, 0.43315508021390375, 0.43315508021390375, 0.4304812834224599, 0.42780748663101603, 0.42513368983957217, 0.42513368983957217, 0.42245989304812837, 0.42245989304812837, 0.42245989304812837, 0.4197860962566845, 0.4197860962566845, 0.41711229946524064, 0.4144385026737968, 0.4117647058823529, 0.4090909090909091, 0.4090909090909091, 0.4090909090909091, 0.40641711229946526, 0.4037433155080214, 0.40106951871657753, 0.3983957219251337, 0.39572192513368987, 0.39572192513368987, 0.39572192513368987, 0.39572192513368987, 0.393048128342246, 0.39037433155080214, 0.3877005347593583, 0.3850267379679144, 0.3850267379679144, 0.3850267379679144, 0.38235294117647056, 0.38235294117647056, 0.37967914438502676, 0.37967914438502676, 0.37967914438502676, 0.3770053475935829, 0.37433155080213903, 0.37433155080213903, 0.3716577540106952, 0.3689839572192513, 0.3663101604278075, 0.3663101604278075, 0.3663101604278075, 0.3663101604278075, 0.3663101604278075, 0.3663101604278075, 0.3663101604278075, 0.3663101604278075, 0.36363636363636365, 0.36363636363636365, 0.3609625668449198, 0.3582887700534759, 0.3582887700534759, 0.35561497326203206, 0.35294117647058826, 0.3502673796791444, 0.34759358288770054, 0.3449197860962567, 0.3449197860962567, 0.3422459893048128, 0.339572192513369, 0.339572192513369, 0.339572192513369, 0.33689839572192515, 0.33689839572192515, 0.33689839572192515, 0.3342245989304813, 0.3315508021390374, 0.32887700534759357, 0.32620320855614976, 0.3235294117647059, 0.3235294117647059, 0.32085561497326204, 0.32085561497326204, 0.3181818181818182, 0.3181818181818182, 0.3155080213903743, 0.31283422459893045, 0.31016042780748665, 0.3074866310160428, 0.3074866310160428, 0.3074866310160428, 0.3048128342245989, 0.30213903743315507, 0.30213903743315507, 0.30213903743315507, 0.2994652406417112, 0.2967914438502674, 0.29411764705882354, 0.2914438502673797, 0.2887700534759358, 0.28609625668449196, 0.28342245989304815, 0.28342245989304815, 0.28342245989304815, 0.2807486631016043, 0.2807486631016043, 0.27807486631016043, 0.27540106951871657, 0.2727272727272727, 0.2700534759358289, 0.2700534759358289, 0.2700534759358289, 0.2700534759358289, 0.26737967914438504, 0.2647058823529412, 0.2647058823529412, 0.2620320855614973, 0.25935828877005346, 0.25935828877005346, 0.25668449197860965, 0.25668449197860965, 0.2540106951871658, 0.2540106951871658, 0.25133689839572193, 0.24866310160427807, 0.24598930481283424, 0.24331550802139038, 0.24331550802139038, 0.24064171122994651, 0.24064171122994651, 0.23796791443850268, 0.23796791443850268, 0.23796791443850268, 0.23796791443850268, 0.23529411764705882, 0.23529411764705882, 0.23529411764705882, 0.232620320855615, 0.22994652406417113, 0.22994652406417113, 0.22727272727272727, 0.22727272727272727, 0.22459893048128343, 0.22459893048128343, 0.22192513368983957, 0.2192513368983957, 0.21657754010695188, 0.21657754010695188, 0.21390374331550802, 0.21122994652406418, 0.21122994652406418, 0.20855614973262032, 0.20588235294117646, 0.20588235294117646, 0.20588235294117646, 0.20588235294117646, 0.20320855614973263, 0.20320855614973263, 0.20320855614973263, 0.20320855614973263, 0.20053475935828877, 0.19786096256684493, 0.19518716577540107, 0.1925133689839572, 0.18983957219251338, 0.18716577540106952, 0.18716577540106952, 0.18716577540106952, 0.18449197860962566, 0.18449197860962566, 0.18181818181818182, 0.18181818181818182, 0.18181818181818182, 0.17914438502673796, 0.17647058823529413, 0.17379679144385027, 0.1711229946524064, 0.1711229946524064, 0.16844919786096257, 0.1657754010695187, 0.1657754010695187, 0.16310160427807488, 0.16042780748663102, 0.15775401069518716, 0.15508021390374332, 0.15240641711229946, 0.15240641711229946, 0.1497326203208556, 0.14705882352941177, 0.1443850267379679, 0.14171122994652408, 0.13903743315508021, 0.13636363636363635, 0.13368983957219252, 0.13101604278074866, 0.12834224598930483, 0.12566844919786097, 0.12566844919786097, 0.12299465240641712, 0.12032085561497326, 0.11764705882352941, 0.11497326203208556, 0.11229946524064172, 0.10962566844919786, 0.10695187165775401, 0.10427807486631016, 0.10160427807486631, 0.09893048128342247, 0.0962566844919786, 0.0962566844919786, 0.0962566844919786, 0.09358288770053476, 0.09090909090909091, 0.08823529411764706, 0.0855614973262032, 0.0855614973262032, 0.0855614973262032, 0.08288770053475936, 0.08288770053475936, 0.08021390374331551, 0.07754010695187166, 0.0748663101604278, 0.07219251336898395, 0.07219251336898395, 0.07219251336898395, 0.06951871657754011, 0.06684491978609626, 0.06684491978609626, 0.06417112299465241, 0.06417112299465241, 0.06417112299465241, 0.06417112299465241, 0.06417112299465241, 0.06149732620320856, 0.06149732620320856, 0.058823529411764705, 0.05614973262032086, 0.053475935828877004, 0.05080213903743316, 0.05080213903743316, 0.0481283422459893, 0.045454545454545456, 0.0427807486631016, 0.040106951871657755, 0.0374331550802139, 0.034759358288770054, 0.03208556149732621, 0.029411764705882353, 0.026737967914438502, 0.026737967914438502, 0.02406417112299465, 0.0213903743315508, 0.01871657754010695, 0.01871657754010695, 0.016042780748663103, 0.013368983957219251, 0.0106951871657754, 0.008021390374331552, 0.0053475935828877, 0.00267379679144385, 0.0, 0.0], \"y\": [0.3008849557522124, 0.3003220611916264, 0.3005640612409347, 0.3008064516129032, 0.30104923325262306, 0.30129240710823907, 0.301535974130962, 0.3017799352750809, 0.3020242914979757, 0.30226904376012964, 0.30251419302514193, 0.3027597402597403, 0.30300568643379366, 0.3032520325203252, 0.30349877949552484, 0.30374592833876224, 0.30399348003259985, 0.30424143556280586, 0.30448979591836733, 0.3047385620915033, 0.30498773507767785, 0.30523731587561376, 0.30548730548730546, 0.30573770491803276, 0.3059885151763741, 0.30623973727422005, 0.3064913722267872, 0.3067434210526316, 0.3069958847736626, 0.30724876441515653, 0.3075020610057708, 0.30775577557755773, 0.30800990916597853, 0.3082644628099174, 0.30851943755169564, 0.3087748344370861, 0.30903065451532724, 0.3092868988391376, 0.3095435684647303, 0.30980066445182725, 0.3100581878636742, 0.3103161397670549, 0.3105745212323064, 0.31083333333333335, 0.311092577147623, 0.3113522537562604, 0.3116123642439432, 0.31187290969899667, 0.31213389121338914, 0.31239530988274705, 0.3126571668063705, 0.31291946308724833, 0.3131821998320739, 0.3134453781512605, 0.3137089991589571, 0.31397306397306396, 0.3142375737152485, 0.3145025295109612, 0.31476793248945145, 0.31503378378378377, 0.3153000845308538, 0.3155668358714044, 0.31583403895004236, 0.31610169491525425, 0.31636980491942324, 0.3166383701188455, 0.3169073916737468, 0.3171768707482993, 0.3174468085106383, 0.31771720613287907, 0.31798806479113384, 0.318259385665529, 0.318531169940222, 0.3188034188034188, 0.31907613344739094, 0.3193493150684932, 0.3196229648671808, 0.31989708404802747, 0.3201716738197425, 0.32044673539518903, 0.3207222699914015, 0.32099827882960413, 0.32127476313522824, 0.32155172413793104, 0.32182916307161347, 0.3221070811744387, 0.32238547968885045, 0.3226643598615917, 0.3229437229437229, 0.32322357019064124, 0.32350390286209885, 0.3237847222222222, 0.32406602953953084, 0.3243478260869565, 0.32463011314186246, 0.3249128919860627, 0.32519616390584133, 0.3254799301919721, 0.325764192139738, 0.32604895104895104, 0.326334208223972, 0.3266199649737303, 0.32690622261174407, 0.32719298245614037, 0.32748024582967517, 0.327768014059754, 0.3280562884784521, 0.3283450704225352, 0.32863436123348017, 0.3289241622574956, 0.3292144748455428, 0.3295053003533569, 0.3297966401414677, 0.33008849557522124, 0.3303808680248007, 0.33067375886524825, 0.33096716947648624, 0.33126110124333924, 0.33155555555555555, 0.3318505338078292, 0.3321460373998219, 0.3324420677361854, 0.3327386262265834, 0.33303571428571427, 0.3324396782841823, 0.33273703041144903, 0.333034914950761, 0.3324372759856631, 0.3327354260089686, 0.33303411131059246, 0.3333333333333333, 0.3327338129496403, 0.33303330333033304, 0.3333333333333333, 0.33363390441839497, 0.33393501805054154, 0.33423667570009036, 0.3345388788426763, 0.334841628959276, 0.3351449275362319, 0.3354487760652765, 0.33575317604355714, 0.33605812897366033, 0.33636363636363636, 0.33666969972702454, 0.33697632058287796, 0.33728350045578853, 0.3375912408759124, 0.3378995433789954, 0.3382084095063985, 0.33851784080512354, 0.33882783882783885, 0.3391384051329056, 0.3394495412844037, 0.3397612488521579, 0.3400735294117647, 0.3403863845446182, 0.3406998158379374, 0.34101382488479265, 0.3413284132841328, 0.34164358264081257, 0.3419593345656192, 0.3422756706753006, 0.3425925925925926, 0.34291010194624655, 0.3432282003710575, 0.3435468895078923, 0.34386617100371747, 0.34418604651162793, 0.34450651769087526, 0.3448275862068966, 0.3451492537313433, 0.34547152194211017, 0.34579439252336447, 0.3461178671655753, 0.3464419475655431, 0.3467666354264292, 0.34709193245778613, 0.3474178403755869, 0.34774436090225563, 0.34807149576669805, 0.3483992467043315, 0.34872761545711595, 0.3490566037735849, 0.3493862134088763, 0.3497164461247637, 0.3500473036896878, 0.3503787878787879, 0.35071090047393366, 0.3510436432637571, 0.3513770180436847, 0.3517110266159696, 0.3520456707897241, 0.3523809523809524, 0.35271687321258344, 0.3530534351145038, 0.3533906399235912, 0.35372848948374763, 0.35406698564593303, 0.3544061302681992, 0.3547459252157239, 0.3550863723608445, 0.35446685878962536, 0.3548076923076923, 0.3551491819056785, 0.3554913294797688, 0.3558341369334619, 0.3561776061776062, 0.3565217391304348, 0.3568665377176016, 0.35721200387221685, 0.35755813953488375, 0.3569350145489816, 0.3572815533980582, 0.3576287657920311, 0.35797665369649806, 0.35832521908471276, 0.35769980506822613, 0.35804878048780486, 0.3583984375, 0.3587487781036168, 0.35909980430528377, 0.3594515181194907, 0.35980392156862745, 0.3601570166830226, 0.3605108055009823, 0.3608652900688299, 0.3612204724409449, 0.361576354679803, 0.3619329388560158, 0.36229022704837116, 0.36264822134387353, 0.3630069238377844, 0.36336633663366336, 0.36372646184340934, 0.36408730158730157, 0.3644488579940417, 0.3648111332007952, 0.36517412935323385, 0.3645418326693227, 0.36490528414755735, 0.3652694610778443, 0.36563436563436563, 0.366, 0.3663663663663664, 0.3667334669338677, 0.36710130391173523, 0.3674698795180723, 0.3678391959798995, 0.3682092555331992, 0.3685800604229607, 0.3689516129032258, 0.3693239152371342, 0.3696969696969697, 0.3700707785642063, 0.37044534412955465, 0.3708206686930091, 0.3711967545638945, 0.3715736040609137, 0.3719512195121951, 0.3713123092573754, 0.37169042769857435, 0.3720693170234455, 0.37244897959183676, 0.372829417773238, 0.37321063394683024, 0.3735926305015353, 0.3739754098360656, 0.37435897435897436, 0.37474332648870634, 0.3751284686536485, 0.37551440329218105, 0.37590113285272914, 0.37628865979381443, 0.37564499484004127, 0.3760330578512397, 0.3764219234746639, 0.37681159420289856, 0.3772020725388601, 0.3775933609958506, 0.37798546209761164, 0.3783783783783784, 0.37877211238293446, 0.37916666666666665, 0.3795620437956204, 0.37995824634655534, 0.38035527690700105, 0.3807531380753138, 0.381151832460733, 0.38155136268343814, 0.38195173137460653, 0.38235294117647056, 0.38275499474237645, 0.3831578947368421, 0.3835616438356164, 0.38396624472573837, 0.3843717001055966, 0.38477801268498946, 0.3851851851851852, 0.3855932203389831, 0.3860021208907741, 0.386411889596603, 0.38682252922422955, 0.3872340425531915, 0.3876464323748669, 0.3880597014925373, 0.38847385272145146, 0.3888888888888889, 0.3893048128342246, 0.3897216274089936, 0.3890675241157556, 0.3894849785407725, 0.38990332975295383, 0.3903225806451613, 0.3907427341227126, 0.3900862068965517, 0.39050701186623515, 0.39092872570194387, 0.39135135135135135, 0.3917748917748918, 0.39219934994582883, 0.3926247288503254, 0.3930510314875136, 0.3934782608695652, 0.3939064200217628, 0.39433551198257083, 0.39476553980370777, 0.3951965065502183, 0.39562841530054643, 0.39606126914660833, 0.3964950711938664, 0.3969298245614035, 0.3973655323819978, 0.3978021978021978, 0.39823982398239827, 0.3986784140969163, 0.39911797133406834, 0.3995584988962472, 0.4, 0.4004424778761062, 0.4008859357696567, 0.401330376940133, 0.40066592674805773, 0.4011111111111111, 0.40155728587319245, 0.40200445434298443, 0.40245261984392416, 0.4029017857142857, 0.4022346368715084, 0.40268456375838924, 0.40313549832026874, 0.40358744394618834, 0.40404040404040403, 0.4044943820224719, 0.4049493813273341, 0.40540540540540543, 0.40586245772266066, 0.40632054176072235, 0.4067796610169492, 0.4072398190045249, 0.40770101925254815, 0.40816326530612246, 0.4086265607264472, 0.4090909090909091, 0.40955631399317405, 0.41002277904328016, 0.4104903078677309, 0.4098173515981735, 0.4102857142857143, 0.4107551487414188, 0.41122565864833904, 0.411697247706422, 0.41102181400688864, 0.4114942528735632, 0.41196777905638665, 0.41244239631336405, 0.4129181084198385, 0.4133949191685912, 0.4138728323699422, 0.41435185185185186, 0.4148319814600232, 0.41531322505800466, 0.41579558652729387, 0.41511627906976745, 0.41559953434225844, 0.4160839160839161, 0.41656942823803966, 0.41705607476635514, 0.41754385964912283, 0.4180327868852459, 0.41852286049237986, 0.41901408450704225, 0.4195064629847238, 0.42, 0.4204946996466431, 0.4209905660377358, 0.4214876033057851, 0.42080378250591016, 0.42011834319526625, 0.4206161137440758, 0.4211150652431791, 0.42161520190023755, 0.4221165279429251, 0.4226190476190476, 0.4231227651966627, 0.4236276849642005, 0.4241338112305854, 0.4246411483253589, 0.4251497005988024, 0.42565947242206237, 0.4249699879951981, 0.4254807692307692, 0.4259927797833935, 0.42650602409638555, 0.4270205066344994, 0.427536231884058, 0.4280532043530834, 0.42857142857142855, 0.42787878787878786, 0.42839805825242716, 0.4289185905224787, 0.42944038929440387, 0.4299634591961023, 0.4304878048780488, 0.43101343101343104, 0.4315403422982885, 0.43084455324357407, 0.43137254901960786, 0.43190184049079755, 0.4312039312039312, 0.4317343173431734, 0.43226600985221675, 0.4315659679408138, 0.43209876543209874, 0.4326328800988875, 0.43316831683168316, 0.43370508054522927, 0.43424317617866004, 0.43478260869565216, 0.43532338308457713, 0.43586550435865506, 0.43640897755610975, 0.4369538077403246, 0.4375, 0.4380475594493116, 0.43859649122807015, 0.43914680050188204, 0.4396984924623116, 0.44025157232704404, 0.44080604534005036, 0.44136191677175285, 0.44191919191919193, 0.4424778761061947, 0.4430379746835443, 0.4435994930291508, 0.44416243654822335, 0.44472681067344344, 0.44529262086513993, 0.4445859872611465, 0.4451530612244898, 0.44572158365261816, 0.4462915601023018, 0.4468629961587708, 0.44743589743589746, 0.44801026957637996, 0.448586118251928, 0.4491634491634492, 0.4497422680412371, 0.4503225806451613, 0.4496124031007752, 0.4501940491591203, 0.45077720207253885, 0.45136186770428016, 0.45194805194805193, 0.45253576072821844, 0.4518229166666667, 0.45241199478487615, 0.45300261096605743, 0.4522875816993464, 0.45287958115183247, 0.4534731323722149, 0.4540682414698163, 0.45466491458607095, 0.45526315789473687, 0.45586297760210803, 0.4551451187335092, 0.4557463672391017, 0.455026455026455, 0.4556291390728477, 0.4562334217506631, 0.4555112881806109, 0.45611702127659576, 0.45539280958721706, 0.456, 0.45660881174899864, 0.4572192513368984, 0.4578313253012048, 0.4584450402144772, 0.4577181208053691, 0.4583333333333333, 0.458950201884253, 0.45956873315363883, 0.4601889338731444, 0.4594594594594595, 0.46008119079837617, 0.46070460704607047, 0.46132971506105835, 0.46195652173913043, 0.46122448979591835, 0.46185286103542234, 0.46248294679399726, 0.46311475409836067, 0.46238030095759236, 0.46301369863013697, 0.46364883401920437, 0.4642857142857143, 0.46354883081155435, 0.4641873278236915, 0.46482758620689657, 0.4654696132596685, 0.4661134163208852, 0.4667590027700831, 0.46740638002773927, 0.46805555555555556, 0.4673157162726008, 0.467966573816156, 0.4686192468619247, 0.4692737430167598, 0.4699300699300699, 0.469187675070028, 0.46984572230014027, 0.4705056179775281, 0.4711673699015471, 0.47183098591549294, 0.47249647390691113, 0.4731638418079096, 0.4738330975954738, 0.4745042492917847, 0.475177304964539, 0.4758522727272727, 0.47652916073968704, 0.4772079772079772, 0.47788873038516405, 0.47714285714285715, 0.47782546494992845, 0.47707736389684813, 0.47776183644189385, 0.47701149425287354, 0.4776978417266187, 0.4783861671469741, 0.4790764790764791, 0.4797687861271676, 0.4804630969609262, 0.4811594202898551, 0.4818577648766328, 0.48255813953488375, 0.48326055312954874, 0.4839650145772595, 0.4846715328467153, 0.4853801169590643, 0.486090775988287, 0.4868035190615836, 0.48604992657856094, 0.4852941176470588, 0.48600883652430044, 0.48672566371681414, 0.4874446085672083, 0.48668639053254437, 0.48592592592592593, 0.486646884272997, 0.487369985141159, 0.4880952380952381, 0.488822652757079, 0.48955223880597015, 0.48878923766816146, 0.48952095808383234, 0.48875562218890556, 0.4894894894894895, 0.49022556390977445, 0.49096385542168675, 0.4917043740573152, 0.49244712990936557, 0.49319213313161875, 0.49393939393939396, 0.4931714719271624, 0.49240121580547114, 0.4931506849315068, 0.49390243902439024, 0.49312977099236643, 0.4938837920489297, 0.4946401225114854, 0.495398773006135, 0.49615975422427033, 0.4969230769230769, 0.49768875192604006, 0.4984567901234568, 0.4992272024729521, 0.4984520123839009, 0.49767441860465117, 0.4968944099378882, 0.4976671850699845, 0.4984423676012461, 0.49765990639625585, 0.496875, 0.49608763693270735, 0.49686520376175547, 0.4976452119309262, 0.49842767295597484, 0.49921259842519683, 0.49842271293375395, 0.49921011058451814, 0.49841772151898733, 0.4976228209191759, 0.4984126984126984, 0.49920508744038156, 0.5, 0.5007974481658692, 0.5015974440894568, 0.5024, 0.5032051282051282, 0.5040128410914928, 0.5048231511254019, 0.5056360708534622, 0.5064516129032258, 0.5072697899838449, 0.5080906148867314, 0.5072933549432739, 0.5081168831168831, 0.5089430894308943, 0.509771986970684, 0.5089722675367048, 0.5081699346405228, 0.5090016366612111, 0.5098360655737705, 0.5106732348111659, 0.5115131578947368, 0.5123558484349259, 0.5132013201320133, 0.5140495867768595, 0.5132450331125827, 0.5140961857379768, 0.5149501661129569, 0.5141430948419301, 0.5133333333333333, 0.5141903171953256, 0.5150501672240803, 0.5159128978224455, 0.5167785234899329, 0.5176470588235295, 0.5185185185185185, 0.5193929173693086, 0.5202702702702703, 0.5211505922165821, 0.5220338983050847, 0.5229202037351444, 0.5221088435374149, 0.5229982964224872, 0.5238907849829352, 0.5247863247863248, 0.5256849315068494, 0.5265866209262435, 0.5257731958762887, 0.5249569707401033, 0.5258620689655172, 0.5267702936096719, 0.527681660899654, 0.5285961871750433, 0.5295138888888888, 0.5304347826086957, 0.5296167247386759, 0.5305410122164049, 0.5314685314685315, 0.532399299474606, 0.5333333333333333, 0.5342706502636204, 0.5352112676056338, 0.5361552028218695, 0.5371024734982333, 0.5380530973451327, 0.5390070921985816, 0.5381882770870338, 0.5391459074733096, 0.5383244206773619, 0.5392857142857143, 0.5402504472271914, 0.5394265232974911, 0.5403949730700179, 0.539568345323741, 0.5405405405405406, 0.5397111913357401, 0.538878842676311, 0.5398550724637681, 0.5408348457350273, 0.5418181818181819, 0.5428051001821493, 0.5437956204379562, 0.5447897623400365, 0.5439560439560439, 0.544954128440367, 0.5459558823529411, 0.5469613259668509, 0.5479704797047971, 0.5471349353049908, 0.5462962962962963, 0.5454545454545454, 0.5464684014869888, 0.547486033519553, 0.5485074626865671, 0.5495327102803739, 0.548689138576779, 0.549718574108818, 0.5488721804511278, 0.5499058380414312, 0.5490566037735849, 0.5482041587901701, 0.5492424242424242, 0.5502846299810247, 0.5513307984790875, 0.5523809523809524, 0.5515267175572519, 0.5506692160611855, 0.5498084291187739, 0.5508637236084453, 0.551923076923077, 0.5529865125240848, 0.5540540540540541, 0.5551257253384912, 0.5562015503875969, 0.5572815533980583, 0.5583657587548638, 0.557504873294347, 0.556640625, 0.5577299412915852, 0.5588235294117647, 0.5599214145383105, 0.5590551181102362, 0.5581854043392505, 0.5592885375494071, 0.5584158415841585, 0.5595238095238095, 0.5606361829025845, 0.5617529880478087, 0.562874251497006, 0.564, 0.56312625250501, 0.5622489959839357, 0.5613682092555332, 0.5625, 0.5616161616161616, 0.562753036437247, 0.563894523326572, 0.5630081300813008, 0.5621181262729125, 0.5612244897959183, 0.5623721881390593, 0.5614754098360656, 0.5605749486652978, 0.5596707818930041, 0.5608247422680412, 0.5599173553719008, 0.5610766045548654, 0.5601659751037344, 0.5613305613305614, 0.5604166666666667, 0.5615866388308977, 0.5627615062761506, 0.5618448637316562, 0.5609243697478992, 0.5621052631578948, 0.5632911392405063, 0.5623678646934461, 0.5614406779661016, 0.5626326963906582, 0.5638297872340425, 0.5650319829424307, 0.5662393162393162, 0.5674518201284796, 0.5665236051502146, 0.567741935483871, 0.5689655172413793, 0.5701943844492441, 0.5714285714285714, 0.5704989154013015, 0.5717391304347826, 0.5708061002178649, 0.5698689956331878, 0.5711159737417943, 0.5723684210526315, 0.5714285714285714, 0.5726872246696035, 0.5717439293598234, 0.5707964601769911, 0.5698447893569845, 0.5711111111111111, 0.5701559020044543, 0.5714285714285714, 0.5727069351230425, 0.5739910313901345, 0.5752808988764045, 0.5765765765765766, 0.5756207674943566, 0.5746606334841629, 0.5759637188208617, 0.5772727272727273, 0.5785876993166287, 0.5776255707762558, 0.5789473684210527, 0.5802752293577982, 0.5816091954022988, 0.5829493087557603, 0.581986143187067, 0.5833333333333334, 0.5846867749419954, 0.586046511627907, 0.5874125874125874, 0.5887850467289719, 0.5901639344262295, 0.5915492957746479, 0.5929411764705882, 0.5919811320754716, 0.5933806146572104, 0.5947867298578199, 0.5961995249406176, 0.5976190476190476, 0.5966587112171837, 0.5980861244019139, 0.5971223021582733, 0.5985576923076923, 0.5975903614457831, 0.5966183574879227, 0.5980629539951574, 0.5970873786407767, 0.5961070559610706, 0.5951219512195122, 0.5965770171149144, 0.5955882352941176, 0.597051597051597, 0.5985221674876847, 0.6, 0.6014851485148515, 0.6004962779156328, 0.599502487562189, 0.5985037406483791, 0.6, 0.5989974937343359, 0.5979899497487438, 0.5969773299748111, 0.5959595959595959, 0.5949367088607594, 0.5964467005076142, 0.5979643765903307, 0.5969387755102041, 0.59846547314578, 0.5974358974358974, 0.596401028277635, 0.5979381443298969, 0.5968992248062015, 0.5958549222797928, 0.5974025974025974, 0.5963541666666666, 0.5953002610966057, 0.5968586387434555, 0.5958005249343832, 0.5973684210526315, 0.5963060686015831, 0.5952380952380952, 0.596816976127321, 0.598404255319149, 0.6, 0.6016042780748663, 0.6032171581769437, 0.6021505376344086, 0.6037735849056604, 0.6027027027027027, 0.6016260162601627, 0.6005434782608695, 0.5994550408719346, 0.5983606557377049, 0.5972602739726027, 0.5989010989010989, 0.6005509641873278, 0.5994475138121547, 0.6011080332409973, 0.6, 0.6016713091922006, 0.6005586592178771, 0.6022408963585434, 0.6039325842696629, 0.6028169014084507, 0.6045197740112994, 0.6062322946175638, 0.6079545454545454, 0.6068376068376068, 0.6057142857142858, 0.6074498567335244, 0.6091954022988506, 0.6080691642651297, 0.6069364161849711, 0.6086956521739131, 0.6104651162790697, 0.60932944606414, 0.6111111111111112, 0.6129032258064516, 0.6147058823529412, 0.616519174041298, 0.6153846153846154, 0.6142433234421365, 0.6130952380952381, 0.6119402985074627, 0.6107784431137725, 0.6126126126126126, 0.6144578313253012, 0.6132930513595166, 0.6121212121212121, 0.6109422492401215, 0.6128048780487805, 0.6116207951070336, 0.6104294478527608, 0.6123076923076923, 0.6111111111111112, 0.6099071207430341, 0.6118012422360248, 0.6105919003115264, 0.6125, 0.6112852664576802, 0.610062893081761, 0.61198738170347, 0.6107594936708861, 0.6126984126984127, 0.6146496815286624, 0.6166134185303515, 0.6153846153846154, 0.6141479099678456, 0.6129032258064516, 0.6116504854368932, 0.6136363636363636, 0.6123778501628665, 0.6111111111111112, 0.6131147540983607, 0.6118421052631579, 0.6138613861386139, 0.6158940397350994, 0.6179401993355482, 0.6166666666666667, 0.6153846153846154, 0.6174496644295302, 0.6161616161616161, 0.6182432432432432, 0.6203389830508474, 0.6190476190476191, 0.6177474402730375, 0.6198630136986302, 0.6185567010309279, 0.6172413793103448, 0.6193771626297578, 0.6215277777777778, 0.6202090592334495, 0.6223776223776224, 0.624561403508772, 0.6267605633802817, 0.6289752650176679, 0.6312056737588653, 0.6298932384341637, 0.6321428571428571, 0.6344086021505376, 0.6330935251798561, 0.6353790613718412, 0.6376811594202898, 0.64, 0.6423357664233577, 0.6410256410256411, 0.6433823529411765, 0.6457564575645757, 0.6444444444444445, 0.6431226765799256, 0.6417910447761194, 0.6404494382022472, 0.6428571428571429, 0.6415094339622641, 0.6401515151515151, 0.6425855513307985, 0.6450381679389313, 0.6436781609195402, 0.6423076923076924, 0.6447876447876448, 0.6434108527131783, 0.642023346303502, 0.640625, 0.6431372549019608, 0.6417322834645669, 0.6403162055335968, 0.6428571428571429, 0.6414342629482072, 0.64, 0.6385542168674698, 0.6411290322580645, 0.6396761133603239, 0.6422764227642277, 0.6448979591836734, 0.6434426229508197, 0.6460905349794238, 0.6446280991735537, 0.6431535269709544, 0.6416666666666667, 0.6401673640167364, 0.6428571428571429, 0.6455696202531646, 0.6440677966101694, 0.6425531914893617, 0.6410256410256411, 0.6394849785407726, 0.6379310344827587, 0.6406926406926406, 0.6434782608695652, 0.6462882096069869, 0.6447368421052632, 0.6431718061674009, 0.6415929203539823, 0.64, 0.6428571428571429, 0.6457399103139013, 0.6441441441441441, 0.6470588235294118, 0.6454545454545455, 0.6484018264840182, 0.6513761467889908, 0.6497695852534562, 0.6481481481481481, 0.6511627906976745, 0.6495327102803738, 0.647887323943662, 0.6462264150943396, 0.6492890995260664, 0.6523809523809524, 0.6555023923444976, 0.6586538461538461, 0.6618357487922706, 0.6650485436893204, 0.6682926829268293, 0.6666666666666666, 0.6699507389162561, 0.6683168316831684, 0.6666666666666666, 0.67, 0.6683417085427136, 0.6666666666666666, 0.6649746192893401, 0.6632653061224489, 0.6615384615384615, 0.6649484536082474, 0.6632124352331606, 0.6614583333333334, 0.6649214659685864, 0.6684210526315789, 0.6666666666666666, 0.6702127659574468, 0.6737967914438503, 0.6720430107526881, 0.6702702702702703, 0.6684782608695652, 0.6666666666666666, 0.6648351648351648, 0.6685082872928176, 0.6666666666666666, 0.6703910614525139, 0.6685393258426966, 0.672316384180791, 0.6704545454545454, 0.6685714285714286, 0.6666666666666666, 0.6647398843930635, 0.6686046511627907, 0.672514619883041, 0.6705882352941176, 0.6686390532544378, 0.6726190476190477, 0.6766467065868264, 0.6746987951807228, 0.6727272727272727, 0.6707317073170732, 0.6687116564417178, 0.6666666666666666, 0.6645962732919255, 0.6625, 0.6666666666666666, 0.6708860759493671, 0.6687898089171974, 0.6730769230769231, 0.6709677419354839, 0.6688311688311688, 0.6666666666666666, 0.6644736842105263, 0.6688741721854304, 0.6733333333333333, 0.6778523489932886, 0.6756756756756757, 0.673469387755102, 0.678082191780822, 0.6758620689655173, 0.6736111111111112, 0.6783216783216783, 0.676056338028169, 0.6808510638297872, 0.6785714285714286, 0.6834532374100719, 0.6811594202898551, 0.6788321167883211, 0.6764705882352942, 0.674074074074074, 0.6791044776119403, 0.6766917293233082, 0.6818181818181818, 0.6793893129770993, 0.6846153846153846, 0.689922480620155, 0.6953125, 0.6929133858267716, 0.6984126984126984, 0.704, 0.7016129032258065, 0.6991869918699187, 0.7049180327868853, 0.7024793388429752, 0.7083333333333334, 0.7058823529411765, 0.711864406779661, 0.7094017094017094, 0.7068965517241379, 0.7043478260869566, 0.7105263157894737, 0.7079646017699115, 0.7053571428571429, 0.7117117117117117, 0.7090909090909091, 0.7064220183486238, 0.7129629629629629, 0.719626168224299, 0.7264150943396226, 0.7238095238095238, 0.7307692307692307, 0.7378640776699029, 0.7450980392156863, 0.7425742574257426, 0.74, 0.7373737373737373, 0.7346938775510204, 0.7319587628865979, 0.7291666666666666, 0.7368421052631579, 0.7446808510638298, 0.7419354838709677, 0.75, 0.7472527472527473, 0.7555555555555555, 0.7640449438202247, 0.7613636363636364, 0.7586206896551724, 0.7558139534883721, 0.7529411764705882, 0.7619047619047619, 0.7590361445783133, 0.7560975609756098, 0.7654320987654321, 0.7625, 0.759493670886076, 0.7564102564102564, 0.7532467532467533, 0.75, 0.76, 0.7567567567567568, 0.7534246575342466, 0.75, 0.7464788732394366, 0.7428571428571429, 0.7391304347826086, 0.7352941176470589, 0.7313432835820896, 0.7272727272727273, 0.7230769230769231, 0.734375, 0.7301587301587301, 0.7258064516129032, 0.7213114754098361, 0.7166666666666667, 0.711864406779661, 0.7068965517241379, 0.7017543859649122, 0.6964285714285714, 0.6909090909090909, 0.6851851851851852, 0.6792452830188679, 0.6923076923076923, 0.7058823529411765, 0.7, 0.6938775510204082, 0.6875, 0.6808510638297872, 0.6956521739130435, 0.7111111111111111, 0.7045454545454546, 0.7209302325581395, 0.7142857142857143, 0.7073170731707317, 0.7, 0.6923076923076923, 0.7105263157894737, 0.7297297297297297, 0.7222222222222222, 0.7142857142857143, 0.7352941176470589, 0.7272727272727273, 0.75, 0.7741935483870968, 0.8, 0.8275862068965517, 0.8214285714285714, 0.8518518518518519, 0.8461538461538461, 0.84, 0.8333333333333334, 0.8260869565217391, 0.8636363636363636, 0.8571428571428571, 0.85, 0.8421052631578947, 0.8333333333333334, 0.8235294117647058, 0.8125, 0.8, 0.7857142857142857, 0.7692307692307693, 0.8333333333333334, 0.8181818181818182, 0.8, 0.7777777777777778, 0.875, 0.8571428571428571, 0.8333333333333334, 0.8, 0.75, 0.6666666666666666, 0.5, 0.0, 1.0]}, {\"mode\": \"lines\", \"name\": \"GNB\", \"type\": \"scatter\", \"x\": [1.0, 0.9973262032085561, 0.9973262032085561, 0.9973262032085561, 0.9973262032085561, 0.9973262032085561, 0.9973262032085561, 0.9973262032085561, 0.9973262032085561, 0.9973262032085561, 0.9973262032085561, 0.9973262032085561, 0.9973262032085561, 0.9973262032085561, 0.9973262032085561, 0.9973262032085561, 0.9973262032085561, 0.9973262032085561, 0.9973262032085561, 0.9973262032085561, 0.9973262032085561, 0.9973262032085561, 0.9973262032085561, 0.9973262032085561, 0.9973262032085561, 0.9973262032085561, 0.9973262032085561, 0.9973262032085561, 0.9973262032085561, 0.9973262032085561, 0.9973262032085561, 0.9973262032085561, 0.9973262032085561, 0.9973262032085561, 0.9973262032085561, 0.9973262032085561, 0.9973262032085561, 0.9973262032085561, 0.9973262032085561, 0.9973262032085561, 0.9973262032085561, 0.9973262032085561, 0.9973262032085561, 0.9973262032085561, 0.9973262032085561, 0.9973262032085561, 0.9973262032085561, 0.9973262032085561, 0.9973262032085561, 0.9973262032085561, 0.9973262032085561, 0.9973262032085561, 0.9973262032085561, 0.9973262032085561, 0.9973262032085561, 0.9973262032085561, 0.9973262032085561, 0.9973262032085561, 0.9973262032085561, 0.9973262032085561, 0.9973262032085561, 0.9973262032085561, 0.9973262032085561, 0.9973262032085561, 0.9973262032085561, 0.9973262032085561, 0.9973262032085561, 0.9973262032085561, 0.9973262032085561, 0.9973262032085561, 0.9973262032085561, 0.9973262032085561, 0.9973262032085561, 0.9973262032085561, 0.9973262032085561, 0.9973262032085561, 0.9973262032085561, 0.9973262032085561, 0.9973262032085561, 0.9946524064171123, 0.9946524064171123, 0.9946524064171123, 0.9946524064171123, 0.9946524064171123, 0.9946524064171123, 0.9946524064171123, 0.9946524064171123, 0.9946524064171123, 0.9946524064171123, 0.9946524064171123, 0.9946524064171123, 0.9946524064171123, 0.9946524064171123, 0.9946524064171123, 0.9946524064171123, 0.9946524064171123, 0.9946524064171123, 0.9946524064171123, 0.9946524064171123, 0.9946524064171123, 0.9946524064171123, 0.9946524064171123, 0.9946524064171123, 0.9946524064171123, 0.9946524064171123, 0.9946524064171123, 0.9946524064171123, 0.9946524064171123, 0.9946524064171123, 0.9946524064171123, 0.9946524064171123, 0.9946524064171123, 0.9946524064171123, 0.9946524064171123, 0.9946524064171123, 0.9946524064171123, 0.9946524064171123, 0.9946524064171123, 0.9919786096256684, 0.9893048128342246, 0.9893048128342246, 0.9893048128342246, 0.9893048128342246, 0.9893048128342246, 0.9893048128342246, 0.9893048128342246, 0.9893048128342246, 0.9866310160427807, 0.9866310160427807, 0.9866310160427807, 0.9866310160427807, 0.9866310160427807, 0.9866310160427807, 0.9866310160427807, 0.983957219251337, 0.983957219251337, 0.983957219251337, 0.983957219251337, 0.983957219251337, 0.983957219251337, 0.983957219251337, 0.983957219251337, 0.983957219251337, 0.983957219251337, 0.983957219251337, 0.983957219251337, 0.983957219251337, 0.983957219251337, 0.983957219251337, 0.983957219251337, 0.983957219251337, 0.983957219251337, 0.983957219251337, 0.983957219251337, 0.983957219251337, 0.983957219251337, 0.983957219251337, 0.983957219251337, 0.983957219251337, 0.983957219251337, 0.9812834224598931, 0.9812834224598931, 0.9812834224598931, 0.9812834224598931, 0.9812834224598931, 0.9812834224598931, 0.9812834224598931, 0.9812834224598931, 0.9812834224598931, 0.9812834224598931, 0.9812834224598931, 0.9812834224598931, 0.9812834224598931, 0.9812834224598931, 0.9812834224598931, 0.9786096256684492, 0.9786096256684492, 0.9786096256684492, 0.9786096256684492, 0.9786096256684492, 0.9759358288770054, 0.9759358288770054, 0.9732620320855615, 0.9705882352941176, 0.9705882352941176, 0.9705882352941176, 0.9705882352941176, 0.9705882352941176, 0.9705882352941176, 0.9679144385026738, 0.9679144385026738, 0.9679144385026738, 0.9679144385026738, 0.9652406417112299, 0.9652406417112299, 0.9652406417112299, 0.9652406417112299, 0.9652406417112299, 0.9652406417112299, 0.9652406417112299, 0.9652406417112299, 0.9652406417112299, 0.9652406417112299, 0.9625668449197861, 0.9625668449197861, 0.9625668449197861, 0.9598930481283422, 0.9598930481283422, 0.9598930481283422, 0.9598930481283422, 0.9598930481283422, 0.9598930481283422, 0.9598930481283422, 0.9572192513368984, 0.9545454545454546, 0.9545454545454546, 0.9518716577540107, 0.9518716577540107, 0.9518716577540107, 0.9518716577540107, 0.9518716577540107, 0.9518716577540107, 0.9518716577540107, 0.9518716577540107, 0.9518716577540107, 0.9518716577540107, 0.9518716577540107, 0.9518716577540107, 0.9518716577540107, 0.9491978609625669, 0.9491978609625669, 0.9491978609625669, 0.9491978609625669, 0.9491978609625669, 0.9491978609625669, 0.9491978609625669, 0.9491978609625669, 0.9491978609625669, 0.9491978609625669, 0.9491978609625669, 0.9491978609625669, 0.9491978609625669, 0.9491978609625669, 0.9491978609625669, 0.9491978609625669, 0.9491978609625669, 0.9491978609625669, 0.9491978609625669, 0.946524064171123, 0.946524064171123, 0.9438502673796791, 0.9438502673796791, 0.9438502673796791, 0.9438502673796791, 0.9438502673796791, 0.9438502673796791, 0.9438502673796791, 0.9438502673796791, 0.9438502673796791, 0.9438502673796791, 0.9438502673796791, 0.9438502673796791, 0.9438502673796791, 0.9438502673796791, 0.9411764705882353, 0.9411764705882353, 0.9411764705882353, 0.9385026737967914, 0.9385026737967914, 0.9385026737967914, 0.9385026737967914, 0.9385026737967914, 0.9385026737967914, 0.9385026737967914, 0.9385026737967914, 0.9385026737967914, 0.9385026737967914, 0.9385026737967914, 0.9385026737967914, 0.9385026737967914, 0.9385026737967914, 0.9385026737967914, 0.9385026737967914, 0.9385026737967914, 0.9385026737967914, 0.9385026737967914, 0.9385026737967914, 0.9385026737967914, 0.9385026737967914, 0.9385026737967914, 0.9385026737967914, 0.9385026737967914, 0.9385026737967914, 0.9385026737967914, 0.9385026737967914, 0.9385026737967914, 0.9385026737967914, 0.9385026737967914, 0.9385026737967914, 0.9385026737967914, 0.9385026737967914, 0.9385026737967914, 0.9385026737967914, 0.9385026737967914, 0.9385026737967914, 0.9385026737967914, 0.9385026737967914, 0.9385026737967914, 0.9385026737967914, 0.9385026737967914, 0.9385026737967914, 0.9385026737967914, 0.9385026737967914, 0.9385026737967914, 0.9385026737967914, 0.9385026737967914, 0.9385026737967914, 0.9385026737967914, 0.9385026737967914, 0.9385026737967914, 0.9385026737967914, 0.9385026737967914, 0.9358288770053476, 0.9358288770053476, 0.9358288770053476, 0.9358288770053476, 0.9358288770053476, 0.9358288770053476, 0.9358288770053476, 0.9358288770053476, 0.9358288770053476, 0.9358288770053476, 0.9358288770053476, 0.9358288770053476, 0.9358288770053476, 0.9358288770053476, 0.9358288770053476, 0.9358288770053476, 0.9358288770053476, 0.9358288770053476, 0.9358288770053476, 0.9358288770053476, 0.9358288770053476, 0.9358288770053476, 0.9358288770053476, 0.9358288770053476, 0.9358288770053476, 0.9358288770053476, 0.9358288770053476, 0.9358288770053476, 0.9358288770053476, 0.9358288770053476, 0.9358288770053476, 0.9358288770053476, 0.9358288770053476, 0.9358288770053476, 0.9358288770053476, 0.9358288770053476, 0.9358288770053476, 0.9358288770053476, 0.9358288770053476, 0.9358288770053476, 0.9358288770053476, 0.9358288770053476, 0.9358288770053476, 0.9358288770053476, 0.9358288770053476, 0.9358288770053476, 0.9358288770053476, 0.9358288770053476, 0.9358288770053476, 0.9358288770053476, 0.9358288770053476, 0.9358288770053476, 0.9358288770053476, 0.9331550802139037, 0.9331550802139037, 0.9331550802139037, 0.9331550802139037, 0.9331550802139037, 0.9331550802139037, 0.9331550802139037, 0.9331550802139037, 0.9331550802139037, 0.9331550802139037, 0.9331550802139037, 0.93048128342246, 0.93048128342246, 0.93048128342246, 0.93048128342246, 0.93048128342246, 0.93048128342246, 0.93048128342246, 0.93048128342246, 0.93048128342246, 0.93048128342246, 0.93048128342246, 0.93048128342246, 0.93048128342246, 0.93048128342246, 0.93048128342246, 0.93048128342246, 0.93048128342246, 0.93048128342246, 0.9278074866310161, 0.9278074866310161, 0.9251336898395722, 0.9251336898395722, 0.9251336898395722, 0.9224598930481284, 0.9224598930481284, 0.9224598930481284, 0.9224598930481284, 0.9224598930481284, 0.9224598930481284, 0.9224598930481284, 0.9224598930481284, 0.9224598930481284, 0.9224598930481284, 0.9224598930481284, 0.9224598930481284, 0.9224598930481284, 0.9224598930481284, 0.9224598930481284, 0.9197860962566845, 0.9197860962566845, 0.9197860962566845, 0.9197860962566845, 0.9197860962566845, 0.9197860962566845, 0.9197860962566845, 0.9197860962566845, 0.9197860962566845, 0.9197860962566845, 0.9197860962566845, 0.9197860962566845, 0.9197860962566845, 0.9197860962566845, 0.9197860962566845, 0.9171122994652406, 0.9171122994652406, 0.9171122994652406, 0.9171122994652406, 0.9171122994652406, 0.9171122994652406, 0.9171122994652406, 0.9171122994652406, 0.9171122994652406, 0.9171122994652406, 0.9144385026737968, 0.9144385026737968, 0.9144385026737968, 0.9144385026737968, 0.9144385026737968, 0.9144385026737968, 0.9144385026737968, 0.9144385026737968, 0.9144385026737968, 0.9144385026737968, 0.9144385026737968, 0.9144385026737968, 0.9144385026737968, 0.9144385026737968, 0.9144385026737968, 0.9144385026737968, 0.9117647058823529, 0.9117647058823529, 0.9117647058823529, 0.9117647058823529, 0.9117647058823529, 0.9117647058823529, 0.9117647058823529, 0.9117647058823529, 0.9117647058823529, 0.9117647058823529, 0.9117647058823529, 0.9117647058823529, 0.9117647058823529, 0.9117647058823529, 0.9117647058823529, 0.9117647058823529, 0.9117647058823529, 0.9117647058823529, 0.9117647058823529, 0.9117647058823529, 0.9117647058823529, 0.9117647058823529, 0.9117647058823529, 0.9117647058823529, 0.9117647058823529, 0.9117647058823529, 0.9117647058823529, 0.9117647058823529, 0.9117647058823529, 0.9117647058823529, 0.9117647058823529, 0.9117647058823529, 0.9090909090909091, 0.9090909090909091, 0.9090909090909091, 0.9090909090909091, 0.9090909090909091, 0.9090909090909091, 0.9090909090909091, 0.9090909090909091, 0.9090909090909091, 0.9090909090909091, 0.9090909090909091, 0.9090909090909091, 0.9090909090909091, 0.9090909090909091, 0.9090909090909091, 0.9090909090909091, 0.9090909090909091, 0.9090909090909091, 0.9090909090909091, 0.9090909090909091, 0.9064171122994652, 0.9064171122994652, 0.9037433155080213, 0.9037433155080213, 0.9037433155080213, 0.9037433155080213, 0.9037433155080213, 0.9037433155080213, 0.9037433155080213, 0.9037433155080213, 0.9037433155080213, 0.9037433155080213, 0.9037433155080213, 0.9037433155080213, 0.9037433155080213, 0.9037433155080213, 0.9037433155080213, 0.9037433155080213, 0.9037433155080213, 0.9037433155080213, 0.9010695187165776, 0.9010695187165776, 0.9010695187165776, 0.9010695187165776, 0.8983957219251337, 0.8983957219251337, 0.8983957219251337, 0.8957219251336899, 0.8957219251336899, 0.8957219251336899, 0.8957219251336899, 0.8957219251336899, 0.8957219251336899, 0.893048128342246, 0.8903743315508021, 0.8877005347593583, 0.8850267379679144, 0.8823529411764706, 0.8823529411764706, 0.8796791443850267, 0.8796791443850267, 0.8796791443850267, 0.8796791443850267, 0.8796791443850267, 0.8770053475935828, 0.8743315508021391, 0.8716577540106952, 0.8716577540106952, 0.8716577540106952, 0.8716577540106952, 0.8716577540106952, 0.8716577540106952, 0.8716577540106952, 0.8716577540106952, 0.8716577540106952, 0.8716577540106952, 0.8689839572192514, 0.8689839572192514, 0.8663101604278075, 0.8663101604278075, 0.8663101604278075, 0.8663101604278075, 0.8663101604278075, 0.8663101604278075, 0.8636363636363636, 0.8636363636363636, 0.8636363636363636, 0.8636363636363636, 0.8636363636363636, 0.8636363636363636, 0.8636363636363636, 0.8636363636363636, 0.8636363636363636, 0.8636363636363636, 0.8609625668449198, 0.8609625668449198, 0.8609625668449198, 0.8582887700534759, 0.8556149732620321, 0.8556149732620321, 0.8556149732620321, 0.8556149732620321, 0.8556149732620321, 0.8556149732620321, 0.8529411764705882, 0.8529411764705882, 0.8529411764705882, 0.8529411764705882, 0.8529411764705882, 0.8529411764705882, 0.8529411764705882, 0.8529411764705882, 0.8529411764705882, 0.8529411764705882, 0.8529411764705882, 0.8502673796791443, 0.8502673796791443, 0.8502673796791443, 0.8502673796791443, 0.8502673796791443, 0.8502673796791443, 0.8475935828877005, 0.8475935828877005, 0.8475935828877005, 0.8475935828877005, 0.8475935828877005, 0.8475935828877005, 0.8475935828877005, 0.8475935828877005, 0.8475935828877005, 0.8475935828877005, 0.8475935828877005, 0.8475935828877005, 0.8449197860962567, 0.8449197860962567, 0.8422459893048129, 0.8422459893048129, 0.8422459893048129, 0.8422459893048129, 0.8422459893048129, 0.8422459893048129, 0.8422459893048129, 0.8422459893048129, 0.8422459893048129, 0.8422459893048129, 0.8422459893048129, 0.839572192513369, 0.839572192513369, 0.839572192513369, 0.839572192513369, 0.839572192513369, 0.839572192513369, 0.8368983957219251, 0.8368983957219251, 0.8368983957219251, 0.8368983957219251, 0.8368983957219251, 0.8368983957219251, 0.8368983957219251, 0.8342245989304813, 0.8315508021390374, 0.8315508021390374, 0.8315508021390374, 0.8315508021390374, 0.8315508021390374, 0.8315508021390374, 0.8315508021390374, 0.8315508021390374, 0.8315508021390374, 0.8315508021390374, 0.8315508021390374, 0.8315508021390374, 0.8315508021390374, 0.8315508021390374, 0.8315508021390374, 0.8315508021390374, 0.8315508021390374, 0.8315508021390374, 0.8315508021390374, 0.8288770053475936, 0.8262032085561497, 0.8262032085561497, 0.8262032085561497, 0.8262032085561497, 0.8262032085561497, 0.8262032085561497, 0.8262032085561497, 0.8262032085561497, 0.8262032085561497, 0.8262032085561497, 0.8262032085561497, 0.8262032085561497, 0.8262032085561497, 0.8235294117647058, 0.8235294117647058, 0.820855614973262, 0.820855614973262, 0.820855614973262, 0.820855614973262, 0.8181818181818182, 0.8155080213903744, 0.8155080213903744, 0.8155080213903744, 0.8155080213903744, 0.8128342245989305, 0.8128342245989305, 0.8128342245989305, 0.8128342245989305, 0.8128342245989305, 0.8101604278074866, 0.8101604278074866, 0.8101604278074866, 0.8074866310160428, 0.8074866310160428, 0.8074866310160428, 0.8074866310160428, 0.8074866310160428, 0.8074866310160428, 0.8074866310160428, 0.8074866310160428, 0.8048128342245989, 0.8048128342245989, 0.8048128342245989, 0.8048128342245989, 0.8021390374331551, 0.8021390374331551, 0.8021390374331551, 0.8021390374331551, 0.8021390374331551, 0.8021390374331551, 0.7994652406417112, 0.7967914438502673, 0.7967914438502673, 0.7941176470588235, 0.7914438502673797, 0.7914438502673797, 0.7914438502673797, 0.7914438502673797, 0.7914438502673797, 0.7914438502673797, 0.7914438502673797, 0.7887700534759359, 0.7887700534759359, 0.7887700534759359, 0.7887700534759359, 0.7887700534759359, 0.7887700534759359, 0.786096256684492, 0.786096256684492, 0.7834224598930482, 0.7834224598930482, 0.7834224598930482, 0.7807486631016043, 0.7807486631016043, 0.7807486631016043, 0.7807486631016043, 0.7807486631016043, 0.7807486631016043, 0.7807486631016043, 0.7807486631016043, 0.7807486631016043, 0.7807486631016043, 0.7807486631016043, 0.7807486631016043, 0.7780748663101604, 0.7780748663101604, 0.7780748663101604, 0.7754010695187166, 0.7754010695187166, 0.7754010695187166, 0.7754010695187166, 0.7754010695187166, 0.7754010695187166, 0.7754010695187166, 0.7754010695187166, 0.7754010695187166, 0.7754010695187166, 0.7754010695187166, 0.7754010695187166, 0.7727272727272727, 0.7700534759358288, 0.7700534759358288, 0.7700534759358288, 0.7700534759358288, 0.767379679144385, 0.767379679144385, 0.767379679144385, 0.767379679144385, 0.767379679144385, 0.7647058823529411, 0.7647058823529411, 0.7647058823529411, 0.7647058823529411, 0.7647058823529411, 0.7620320855614974, 0.7620320855614974, 0.7620320855614974, 0.7620320855614974, 0.7620320855614974, 0.7593582887700535, 0.7593582887700535, 0.7593582887700535, 0.7593582887700535, 0.7566844919786097, 0.7566844919786097, 0.7566844919786097, 0.7566844919786097, 0.7566844919786097, 0.7540106951871658, 0.7513368983957219, 0.7486631016042781, 0.7486631016042781, 0.7486631016042781, 0.7459893048128342, 0.7459893048128342, 0.7459893048128342, 0.7433155080213903, 0.7433155080213903, 0.7406417112299465, 0.7406417112299465, 0.7406417112299465, 0.7406417112299465, 0.7406417112299465, 0.7406417112299465, 0.7379679144385026, 0.7352941176470589, 0.7352941176470589, 0.7352941176470589, 0.732620320855615, 0.732620320855615, 0.7299465240641712, 0.7272727272727273, 0.7272727272727273, 0.7272727272727273, 0.7245989304812834, 0.7245989304812834, 0.7245989304812834, 0.7245989304812834, 0.7219251336898396, 0.7219251336898396, 0.7192513368983957, 0.7165775401069518, 0.713903743315508, 0.713903743315508, 0.713903743315508, 0.713903743315508, 0.713903743315508, 0.713903743315508, 0.7112299465240641, 0.7085561497326203, 0.7058823529411765, 0.7058823529411765, 0.7032085561497327, 0.7032085561497327, 0.7032085561497327, 0.7032085561497327, 0.7032085561497327, 0.7005347593582888, 0.7005347593582888, 0.7005347593582888, 0.7005347593582888, 0.6978609625668449, 0.6978609625668449, 0.6978609625668449, 0.6951871657754011, 0.6951871657754011, 0.6925133689839572, 0.6898395721925134, 0.6871657754010695, 0.6871657754010695, 0.6844919786096256, 0.6818181818181818, 0.6818181818181818, 0.6818181818181818, 0.679144385026738, 0.679144385026738, 0.679144385026738, 0.679144385026738, 0.679144385026738, 0.6764705882352942, 0.6764705882352942, 0.6764705882352942, 0.6737967914438503, 0.6711229946524064, 0.6684491978609626, 0.6684491978609626, 0.6684491978609626, 0.6657754010695187, 0.6631016042780749, 0.6631016042780749, 0.660427807486631, 0.6577540106951871, 0.6577540106951871, 0.6550802139037433, 0.6524064171122995, 0.6524064171122995, 0.6524064171122995, 0.6497326203208557, 0.6497326203208557, 0.6497326203208557, 0.6497326203208557, 0.6497326203208557, 0.6470588235294118, 0.6470588235294118, 0.6470588235294118, 0.6470588235294118, 0.6443850267379679, 0.6443850267379679, 0.6443850267379679, 0.6417112299465241, 0.6417112299465241, 0.6390374331550802, 0.6363636363636364, 0.6363636363636364, 0.6363636363636364, 0.6336898395721925, 0.6310160427807486, 0.6310160427807486, 0.6283422459893048, 0.6283422459893048, 0.6283422459893048, 0.6283422459893048, 0.6256684491978609, 0.6256684491978609, 0.6256684491978609, 0.6256684491978609, 0.6256684491978609, 0.6256684491978609, 0.6229946524064172, 0.6229946524064172, 0.6229946524064172, 0.6229946524064172, 0.6203208556149733, 0.6203208556149733, 0.6203208556149733, 0.6176470588235294, 0.6149732620320856, 0.6122994652406417, 0.6096256684491979, 0.606951871657754, 0.606951871657754, 0.6042780748663101, 0.6042780748663101, 0.6042780748663101, 0.6016042780748663, 0.5989304812834224, 0.5962566844919787, 0.5935828877005348, 0.5935828877005348, 0.5909090909090909, 0.5882352941176471, 0.5855614973262032, 0.5855614973262032, 0.5828877005347594, 0.5802139037433155, 0.5775401069518716, 0.5775401069518716, 0.5775401069518716, 0.5748663101604278, 0.5748663101604278, 0.5748663101604278, 0.5748663101604278, 0.5748663101604278, 0.5748663101604278, 0.5721925133689839, 0.56951871657754, 0.5668449197860963, 0.5641711229946524, 0.5641711229946524, 0.5641711229946524, 0.5614973262032086, 0.5614973262032086, 0.5614973262032086, 0.5614973262032086, 0.5588235294117647, 0.5561497326203209, 0.5561497326203209, 0.5561497326203209, 0.5561497326203209, 0.553475935828877, 0.5508021390374331, 0.5481283422459893, 0.5481283422459893, 0.5481283422459893, 0.5454545454545454, 0.5454545454545454, 0.5427807486631016, 0.5401069518716578, 0.5374331550802139, 0.5347593582887701, 0.5347593582887701, 0.5320855614973262, 0.5320855614973262, 0.5320855614973262, 0.5320855614973262, 0.5320855614973262, 0.5294117647058824, 0.5294117647058824, 0.5267379679144385, 0.5240641711229946, 0.5240641711229946, 0.5240641711229946, 0.5213903743315508, 0.5213903743315508, 0.5187165775401069, 0.516042780748663, 0.5133689839572193, 0.5106951871657754, 0.5106951871657754, 0.5080213903743316, 0.5053475935828877, 0.5053475935828877, 0.5026737967914439, 0.5, 0.5, 0.49732620320855614, 0.4946524064171123, 0.4946524064171123, 0.4919786096256685, 0.4919786096256685, 0.4893048128342246, 0.48663101604278075, 0.4839572192513369, 0.48128342245989303, 0.4786096256684492, 0.47593582887700536, 0.47593582887700536, 0.4732620320855615, 0.4732620320855615, 0.47058823529411764, 0.4679144385026738, 0.4679144385026738, 0.46524064171123, 0.4625668449197861, 0.45989304812834225, 0.45989304812834225, 0.4572192513368984, 0.4572192513368984, 0.4572192513368984, 0.4572192513368984, 0.4572192513368984, 0.45454545454545453, 0.45187165775401067, 0.45187165775401067, 0.44919786096256686, 0.44919786096256686, 0.44919786096256686, 0.44919786096256686, 0.44919786096256686, 0.446524064171123, 0.44385026737967914, 0.44385026737967914, 0.4411764705882353, 0.4385026737967914, 0.4358288770053476, 0.43315508021390375, 0.4304812834224599, 0.42780748663101603, 0.42513368983957217, 0.42245989304812837, 0.4197860962566845, 0.41711229946524064, 0.41711229946524064, 0.41711229946524064, 0.4144385026737968, 0.4144385026737968, 0.4144385026737968, 0.4144385026737968, 0.4144385026737968, 0.4144385026737968, 0.4144385026737968, 0.4144385026737968, 0.4117647058823529, 0.4090909090909091, 0.40641711229946526, 0.40641711229946526, 0.4037433155080214, 0.40106951871657753, 0.3983957219251337, 0.39572192513368987, 0.39572192513368987, 0.393048128342246, 0.393048128342246, 0.39037433155080214, 0.39037433155080214, 0.3877005347593583, 0.3877005347593583, 0.3850267379679144, 0.38235294117647056, 0.38235294117647056, 0.38235294117647056, 0.38235294117647056, 0.37967914438502676, 0.37967914438502676, 0.3770053475935829, 0.3770053475935829, 0.37433155080213903, 0.3716577540106952, 0.3689839572192513, 0.3663101604278075, 0.36363636363636365, 0.36363636363636365, 0.3609625668449198, 0.3609625668449198, 0.3609625668449198, 0.3609625668449198, 0.3582887700534759, 0.35561497326203206, 0.35294117647058826, 0.3502673796791444, 0.3502673796791444, 0.3502673796791444, 0.3502673796791444, 0.34759358288770054, 0.34759358288770054, 0.3449197860962567, 0.3422459893048128, 0.339572192513369, 0.33689839572192515, 0.33689839572192515, 0.3342245989304813, 0.3342245989304813, 0.3315508021390374, 0.32887700534759357, 0.32620320855614976, 0.3235294117647059, 0.32085561497326204, 0.3181818181818182, 0.3181818181818182, 0.3181818181818182, 0.3181818181818182, 0.3181818181818182, 0.3155080213903743, 0.31283422459893045, 0.31016042780748665, 0.3074866310160428, 0.3074866310160428, 0.3074866310160428, 0.3048128342245989, 0.30213903743315507, 0.2994652406417112, 0.2994652406417112, 0.2994652406417112, 0.2994652406417112, 0.2967914438502674, 0.2967914438502674, 0.29411764705882354, 0.2914438502673797, 0.2914438502673797, 0.2887700534759358, 0.28609625668449196, 0.28609625668449196, 0.28609625668449196, 0.28342245989304815, 0.2807486631016043, 0.27807486631016043, 0.27540106951871657, 0.2727272727272727, 0.2727272727272727, 0.2700534759358289, 0.2700534759358289, 0.2700534759358289, 0.2700534759358289, 0.26737967914438504, 0.26737967914438504, 0.26737967914438504, 0.2647058823529412, 0.2647058823529412, 0.2620320855614973, 0.2620320855614973, 0.25935828877005346, 0.25935828877005346, 0.25935828877005346, 0.25668449197860965, 0.2540106951871658, 0.2540106951871658, 0.2540106951871658, 0.25133689839572193, 0.24866310160427807, 0.24598930481283424, 0.24598930481283424, 0.24598930481283424, 0.24331550802139038, 0.24331550802139038, 0.24331550802139038, 0.24064171122994651, 0.23796791443850268, 0.23529411764705882, 0.23529411764705882, 0.23529411764705882, 0.23529411764705882, 0.23529411764705882, 0.23529411764705882, 0.232620320855615, 0.22994652406417113, 0.22994652406417113, 0.22994652406417113, 0.22727272727272727, 0.22727272727272727, 0.22459893048128343, 0.22192513368983957, 0.2192513368983957, 0.2192513368983957, 0.2192513368983957, 0.21657754010695188, 0.21390374331550802, 0.21390374331550802, 0.21122994652406418, 0.20855614973262032, 0.20855614973262032, 0.20588235294117646, 0.20320855614973263, 0.20320855614973263, 0.20320855614973263, 0.20053475935828877, 0.19786096256684493, 0.19518716577540107, 0.1925133689839572, 0.18983957219251338, 0.18983957219251338, 0.18983957219251338, 0.18716577540106952, 0.18449197860962566, 0.18181818181818182, 0.17914438502673796, 0.17647058823529413, 0.17379679144385027, 0.17379679144385027, 0.17379679144385027, 0.17379679144385027, 0.1711229946524064, 0.16844919786096257, 0.1657754010695187, 0.1657754010695187, 0.16310160427807488, 0.16042780748663102, 0.15775401069518716, 0.15508021390374332, 0.15240641711229946, 0.1497326203208556, 0.14705882352941177, 0.1443850267379679, 0.1443850267379679, 0.14171122994652408, 0.13903743315508021, 0.13903743315508021, 0.13636363636363635, 0.13368983957219252, 0.13101604278074866, 0.13101604278074866, 0.12834224598930483, 0.12566844919786097, 0.12299465240641712, 0.12032085561497326, 0.11764705882352941, 0.11764705882352941, 0.11497326203208556, 0.11229946524064172, 0.10962566844919786, 0.10695187165775401, 0.10427807486631016, 0.10160427807486631, 0.09893048128342247, 0.0962566844919786, 0.09358288770053476, 0.09090909090909091, 0.09090909090909091, 0.09090909090909091, 0.08823529411764706, 0.08823529411764706, 0.0855614973262032, 0.0855614973262032, 0.08288770053475936, 0.08021390374331551, 0.07754010695187166, 0.07754010695187166, 0.0748663101604278, 0.0748663101604278, 0.07219251336898395, 0.07219251336898395, 0.07219251336898395, 0.06951871657754011, 0.06951871657754011, 0.06684491978609626, 0.06684491978609626, 0.06417112299465241, 0.06149732620320856, 0.058823529411764705, 0.05614973262032086, 0.053475935828877004, 0.05080213903743316, 0.0481283422459893, 0.0481283422459893, 0.045454545454545456, 0.045454545454545456, 0.045454545454545456, 0.0427807486631016, 0.040106951871657755, 0.040106951871657755, 0.0374331550802139, 0.034759358288770054, 0.034759358288770054, 0.03208556149732621, 0.029411764705882353, 0.026737967914438502, 0.02406417112299465, 0.0213903743315508, 0.0213903743315508, 0.0213903743315508, 0.01871657754010695, 0.016042780748663103, 0.013368983957219251, 0.0106951871657754, 0.0106951871657754, 0.008021390374331552, 0.0053475935828877, 0.00267379679144385, 0.0], \"y\": [0.2846270928462709, 0.2840822543792841, 0.2842987804878049, 0.28451563691838294, 0.28473282442748094, 0.2849503437738732, 0.2851681957186544, 0.28538638102524866, 0.28560490045941805, 0.285823754789272, 0.2860429447852761, 0.28626247122026094, 0.28648233486943164, 0.28670253651037664, 0.28692307692307695, 0.28714395688991534, 0.28736517719568566, 0.28758673862760215, 0.28780864197530864, 0.28803088803088805, 0.2882534775888717, 0.288476411446249, 0.2886996904024768, 0.2889233152594888, 0.28914728682170543, 0.28937160589604344, 0.28959627329192544, 0.2898212898212898, 0.2900466562986003, 0.29027237354085605, 0.29049844236760125, 0.2907248636009353, 0.2909516380655226, 0.29117876658860264, 0.29140625, 0.29163408913213446, 0.2918622848200313, 0.2920908379013312, 0.29231974921630094, 0.29254901960784313, 0.29277864992150704, 0.29300864100549884, 0.29323899371069184, 0.2934697088906373, 0.2937007874015748, 0.29393223010244285, 0.2941640378548896, 0.2943962115232833, 0.29462875197472355, 0.2948616600790514, 0.2950949367088608, 0.2953285827395091, 0.29556259904912835, 0.295796986518636, 0.29603174603174603, 0.2962668784749801, 0.29650238473767887, 0.2967382657120127, 0.29697452229299365, 0.2972111553784861, 0.2974481658692185, 0.29768555466879487, 0.2979233226837061, 0.2981614708233413, 0.2984, 0.2986389111289031, 0.2988782051282051, 0.2991178829190056, 0.29935794542536115, 0.2995983935742972, 0.29983922829581994, 0.3000804505229284, 0.3003220611916264, 0.3005640612409347, 0.3008064516129032, 0.30104923325262306, 0.30129240710823907, 0.301535974130962, 0.3017799352750809, 0.30121457489878545, 0.3014586709886548, 0.30170316301703165, 0.30194805194805197, 0.3021933387489846, 0.3024390243902439, 0.30268510984540276, 0.30293159609120524, 0.30317848410757947, 0.3034257748776509, 0.3036734693877551, 0.30392156862745096, 0.3041700735895339, 0.3044189852700491, 0.3046683046683047, 0.30491803278688523, 0.3051681706316653, 0.3054187192118227, 0.3056696795398521, 0.3059210526315789, 0.30617283950617286, 0.30642504118616143, 0.30667765869744434, 0.3069306930693069, 0.30718414533443433, 0.3074380165289256, 0.3076923076923077, 0.3079470198675497, 0.30820215410107704, 0.30845771144278605, 0.3087136929460581, 0.3089700996677741, 0.3092269326683292, 0.30948419301164726, 0.3097418817651957, 0.31, 0.3102585487906589, 0.3105175292153589, 0.3107769423558897, 0.3102006688963211, 0.30962343096234307, 0.3098827470686767, 0.3101424979044426, 0.3104026845637584, 0.31066330814441645, 0.31092436974789917, 0.31118587047939444, 0.3114478114478115, 0.3108677337826453, 0.3111298482293423, 0.31139240506329113, 0.31165540540540543, 0.31191885038038886, 0.31218274111675126, 0.3124470787468247, 0.31186440677966104, 0.31212892281594573, 0.31239388794567063, 0.31265930331350894, 0.3129251700680272, 0.3131914893617021, 0.313458262350937, 0.3137254901960784, 0.31399317406143346, 0.3142613151152861, 0.3145299145299145, 0.31479897348160824, 0.3150684931506849, 0.31533847472150817, 0.3156089193825043, 0.3158798283261803, 0.3161512027491409, 0.3164230438521066, 0.31669535283993117, 0.3169681309216193, 0.31724137931034485, 0.3175150992234685, 0.3177892918825561, 0.3180639585133967, 0.31833910034602075, 0.31861471861471863, 0.31802426343154244, 0.3183000867302689, 0.3185763888888889, 0.3188531711555169, 0.3191304347826087, 0.31940818102698, 0.31968641114982577, 0.3199651264167393, 0.32024432809773123, 0.3205240174672489, 0.3208041958041958, 0.321084864391951, 0.3213660245183888, 0.32164767747589834, 0.3219298245614035, 0.32133450395083407, 0.3216168717047452, 0.32189973614775724, 0.3221830985915493, 0.3224669603524229, 0.3218694885361552, 0.32215357458075905, 0.3215547703180212, 0.3209549071618037, 0.32123893805309733, 0.32152347209920284, 0.32180851063829785, 0.3220940550133097, 0.32238010657193605, 0.3217777777777778, 0.3220640569395018, 0.3223508459483526, 0.3226381461675579, 0.3220338983050847, 0.3223214285714286, 0.322609472743521, 0.3228980322003578, 0.3231871083258729, 0.3234767025089606, 0.3237668161434978, 0.3240574506283663, 0.3243486073674753, 0.32464028776978415, 0.324032403240324, 0.32432432432432434, 0.3246167718665464, 0.3240072202166065, 0.32429990966576333, 0.32459312839059673, 0.3248868778280543, 0.32518115942028986, 0.3254759746146872, 0.3257713248638838, 0.32515894641235243, 0.3245454545454545, 0.3248407643312102, 0.3242258652094718, 0.3245214220601641, 0.3248175182481752, 0.32511415525114157, 0.32541133455210236, 0.32570905763952424, 0.326007326007326, 0.32630614115490375, 0.326605504587156, 0.3269054178145087, 0.3272058823529412, 0.32750689972401104, 0.3278084714548803, 0.3271889400921659, 0.3274907749077491, 0.32779316712834716, 0.32809611829944546, 0.3283996299722479, 0.3287037037037037, 0.3290083410565338, 0.3293135435992579, 0.329619312906221, 0.3299256505576208, 0.3302325581395349, 0.33054003724394787, 0.33084808946877914, 0.33115671641791045, 0.3314659197012138, 0.3317757009345794, 0.33208606173994387, 0.33239700374531833, 0.33270852858481725, 0.3320825515947467, 0.3323943661971831, 0.3317669172932331, 0.33207902163687675, 0.332391713747646, 0.33270499528746467, 0.3330188679245283, 0.3333333333333333, 0.333648393194707, 0.3339640491958373, 0.33428030303030304, 0.3345971563981043, 0.3349146110056926, 0.3352326685660019, 0.3355513307984791, 0.3358705994291151, 0.3352380952380952, 0.33555767397521447, 0.33587786259541985, 0.335243553008596, 0.3355640535372849, 0.33588516746411484, 0.33620689655172414, 0.336529242569511, 0.33685220729366605, 0.3371757925072046, 0.3375, 0.33782483156881615, 0.33815028901734107, 0.33847637415621984, 0.3388030888030888, 0.3391304347826087, 0.33945841392649906, 0.33978702807357214, 0.34011627906976744, 0.34044616876818623, 0.3407766990291262, 0.34110787172011664, 0.3414396887159533, 0.34177215189873417, 0.34210526315789475, 0.34243902439024393, 0.3427734375, 0.34310850439882695, 0.34344422700587085, 0.3437806072477963, 0.34411764705882353, 0.34445534838076547, 0.34479371316306484, 0.34513274336283184, 0.3454724409448819, 0.3458128078817734, 0.34615384615384615, 0.3464955577492596, 0.3468379446640316, 0.34718100890207715, 0.3475247524752475, 0.3478691774033697, 0.3482142857142857, 0.3485600794438927, 0.3489065606361829, 0.3492537313432836, 0.34960159362549803, 0.34995014955134596, 0.3502994011976048, 0.35064935064935066, 0.351, 0.35135135135135137, 0.3517034068136273, 0.3520561685055166, 0.35240963855421686, 0.3527638190954774, 0.35311871227364183, 0.35347432024169184, 0.3528225806451613, 0.35317860746720486, 0.35353535353535354, 0.3538928210313448, 0.354251012145749, 0.3546099290780142, 0.35496957403651114, 0.3553299492385787, 0.3556910569105691, 0.3560528992878942, 0.3564154786150713, 0.3567787971457696, 0.35714285714285715, 0.3575076608784474, 0.35787321063394684, 0.35823950870010235, 0.35860655737704916, 0.358974358974359, 0.3593429158110883, 0.3597122302158273, 0.360082304526749, 0.3604531410916581, 0.36082474226804123, 0.36119711042311664, 0.3615702479338843, 0.3619441571871768, 0.36231884057971014, 0.3626943005181347, 0.3630705394190871, 0.363447559709242, 0.36382536382536385, 0.36420395421436, 0.3645833333333333, 0.36496350364963503, 0.3653444676409186, 0.3657262277951933, 0.36610878661087864, 0.36649214659685864, 0.3668763102725367, 0.3672612801678909, 0.36764705882352944, 0.36803364879074657, 0.3684210526315789, 0.36880927291886195, 0.3691983122362869, 0.36958817317845827, 0.3699788583509514, 0.37037037037037035, 0.3707627118644068, 0.3711558854718982, 0.37154989384288745, 0.37194473963868224, 0.3723404255319149, 0.37167199148029817, 0.3720682302771855, 0.37246531483457845, 0.37286324786324787, 0.3732620320855615, 0.37366167023554603, 0.3740621650589496, 0.37446351931330474, 0.3748657357679914, 0.37526881720430105, 0.3756727664155005, 0.375, 0.37540453074433655, 0.3758099352051836, 0.3762162162162162, 0.37662337662337664, 0.37703141928494044, 0.3774403470715835, 0.3778501628664495, 0.3782608695652174, 0.3786724700761698, 0.3790849673202614, 0.37949836423118866, 0.3799126637554585, 0.380327868852459, 0.38074398249452956, 0.38116100766703176, 0.3815789473684211, 0.38199780461031835, 0.3813186813186813, 0.38173817381738173, 0.381057268722467, 0.3814773980154355, 0.3818984547461369, 0.3812154696132597, 0.38163716814159293, 0.38205980066445183, 0.38248337028824836, 0.38290788013318533, 0.38333333333333336, 0.38375973303670746, 0.3841870824053452, 0.38461538461538464, 0.38504464285714285, 0.3854748603351955, 0.3859060402684564, 0.38633818589025753, 0.3867713004484305, 0.3872053872053872, 0.3865168539325843, 0.38695163104611924, 0.38738738738738737, 0.3878241262683202, 0.38826185101580135, 0.3887005649717514, 0.3891402714932127, 0.3895809739524349, 0.3900226757369615, 0.3904653802497162, 0.39090909090909093, 0.391353811149033, 0.3917995444191344, 0.3922462941847206, 0.3926940639269406, 0.392, 0.39244851258581237, 0.3928980526918671, 0.393348623853211, 0.39380022962112515, 0.39425287356321836, 0.3947065592635213, 0.3951612903225806, 0.3956170703575548, 0.3960739030023095, 0.3953757225433526, 0.3958333333333333, 0.3962920046349942, 0.39675174013921116, 0.397212543554007, 0.39767441860465114, 0.3981373690337602, 0.3986013986013986, 0.3990665110851809, 0.39953271028037385, 0.4, 0.40046838407494145, 0.40093786635404455, 0.4014084507042254, 0.4018801410105758, 0.4023529411764706, 0.4016489988221437, 0.40212264150943394, 0.4025974025974026, 0.4030732860520095, 0.4035502958579882, 0.4040284360189573, 0.4045077105575326, 0.40498812351543945, 0.4054696789536266, 0.40595238095238095, 0.4064362336114422, 0.40692124105011934, 0.4074074074074074, 0.40789473684210525, 0.40838323353293415, 0.4088729016786571, 0.40936374549819926, 0.4098557692307692, 0.41034897713598073, 0.4108433734939759, 0.41133896260554886, 0.41183574879227053, 0.41233373639661425, 0.4128329297820823, 0.41333333333333333, 0.41383495145631066, 0.41433778857837184, 0.4148418491484185, 0.415347137637028, 0.41585365853658535, 0.4163614163614164, 0.41687041564792177, 0.41615667074663404, 0.4166666666666667, 0.4171779141104294, 0.4176904176904177, 0.4182041820418204, 0.4187192118226601, 0.4192355117139334, 0.41975308641975306, 0.42027194066749074, 0.4207920792079208, 0.42131350681536556, 0.4218362282878412, 0.422360248447205, 0.4228855721393035, 0.42341220423412207, 0.4239401496259352, 0.42446941323345816, 0.425, 0.425531914893617, 0.42606516290726815, 0.42534504391468003, 0.4258793969849246, 0.42515723270440253, 0.4256926952141058, 0.4262295081967213, 0.42676767676767674, 0.427307206068268, 0.4278481012658228, 0.42839036755386567, 0.4289340101522843, 0.42947903430749684, 0.4300254452926209, 0.4305732484076433, 0.43112244897959184, 0.43167305236270753, 0.4322250639386189, 0.4327784891165173, 0.43333333333333335, 0.4338896020539153, 0.43444730077120824, 0.4337194337194337, 0.43427835051546393, 0.43483870967741933, 0.4354005167958656, 0.4346701164294955, 0.43523316062176165, 0.4357976653696498, 0.43506493506493504, 0.435630689206762, 0.4361979166666667, 0.4367666232073012, 0.43733681462140994, 0.43790849673202614, 0.43717277486910994, 0.436435124508519, 0.4356955380577428, 0.43495400788436267, 0.4342105263157895, 0.43478260869565216, 0.4340369393139842, 0.4346103038309115, 0.4351851851851852, 0.4357615894039735, 0.4363395225464191, 0.4355909694555113, 0.4348404255319149, 0.4340878828229028, 0.43466666666666665, 0.43524699599465955, 0.4358288770053476, 0.4364123159303882, 0.43699731903485256, 0.4375838926174497, 0.4381720430107527, 0.4387617765814266, 0.4393530997304582, 0.43859649122807015, 0.4391891891891892, 0.43843031123139375, 0.43902439024390244, 0.4396200814111262, 0.44021739130434784, 0.44081632653061226, 0.44141689373297005, 0.4406548431105048, 0.4412568306010929, 0.4418604651162791, 0.44246575342465755, 0.4430727023319616, 0.44368131868131866, 0.4442916093535076, 0.44490358126721763, 0.44551724137931037, 0.44613259668508287, 0.44536652835408025, 0.44598337950138506, 0.44660194174757284, 0.44583333333333336, 0.44506258692628653, 0.4456824512534819, 0.44630404463040446, 0.44692737430167595, 0.44755244755244755, 0.4481792717086835, 0.4474053295932679, 0.44803370786516855, 0.44866385372714485, 0.44929577464788734, 0.44992947813822287, 0.4505649717514124, 0.4512022630834512, 0.4518413597733711, 0.4524822695035461, 0.453125, 0.45376955903271693, 0.452991452991453, 0.4536376604850214, 0.4542857142857143, 0.45493562231759654, 0.45558739255014324, 0.4562410329985653, 0.45545977011494254, 0.45611510791366905, 0.45677233429394815, 0.4574314574314574, 0.45809248554913296, 0.45875542691751087, 0.45942028985507244, 0.46008708272859217, 0.46075581395348836, 0.46142649199417757, 0.4620991253644315, 0.46277372262773725, 0.4619883040935672, 0.46266471449487556, 0.46187683284457476, 0.46255506607929514, 0.4632352941176471, 0.4639175257731959, 0.4646017699115044, 0.465288035450517, 0.46597633136094674, 0.4666666666666667, 0.46735905044510384, 0.46805349182763745, 0.46875, 0.46795827123695977, 0.46865671641791046, 0.4693572496263079, 0.47005988023952094, 0.4707646176911544, 0.47147147147147145, 0.4706766917293233, 0.4713855421686747, 0.4720965309200603, 0.472809667673716, 0.4735249621785174, 0.47424242424242424, 0.47496206373292865, 0.47416413373860183, 0.4733637747336377, 0.4740853658536585, 0.47480916030534354, 0.47553516819571867, 0.4762633996937213, 0.47699386503067487, 0.47772657450076805, 0.47846153846153844, 0.47919876733436056, 0.4799382716049383, 0.4806800618238022, 0.48142414860681115, 0.4821705426356589, 0.4829192546583851, 0.48367029548989116, 0.48442367601246106, 0.48517940717628705, 0.4859375, 0.486697965571205, 0.48589341692789967, 0.4850863422291994, 0.4858490566037736, 0.48661417322834644, 0.48738170347003157, 0.4881516587677725, 0.4889240506329114, 0.4896988906497623, 0.49047619047619045, 0.4912559618441971, 0.49203821656050956, 0.49282296650717705, 0.4936102236421725, 0.4944, 0.4935897435897436, 0.4943820224719101, 0.49356913183279744, 0.4943639291465378, 0.49516129032258066, 0.49596122778675283, 0.49514563106796117, 0.49432739059967584, 0.49512987012987014, 0.4959349593495935, 0.496742671009772, 0.49592169657422513, 0.49673202614379086, 0.49754500818330605, 0.49836065573770494, 0.49917898193760263, 0.49835526315789475, 0.49917627677100496, 0.5, 0.4991735537190083, 0.5, 0.5008291873963516, 0.5016611295681063, 0.502495840266223, 0.5033333333333333, 0.5041736227045075, 0.5050167224080268, 0.5041876046901173, 0.5050335570469798, 0.5058823529411764, 0.5067340067340067, 0.5059021922428331, 0.5067567567567568, 0.5076142131979695, 0.5084745762711864, 0.5093378607809848, 0.5102040816326531, 0.5093696763202725, 0.5085324232081911, 0.5094017094017094, 0.5085616438356164, 0.5077186963979416, 0.5085910652920962, 0.5094664371772806, 0.5103448275862069, 0.5112262521588946, 0.5121107266435986, 0.512998266897747, 0.5121527777777778, 0.5130434782608696, 0.5139372822299652, 0.5148342059336823, 0.5157342657342657, 0.5166374781085814, 0.5157894736842106, 0.5166959578207382, 0.5158450704225352, 0.5167548500881834, 0.5176678445229682, 0.5168141592920354, 0.5177304964539007, 0.5186500888099467, 0.5195729537366548, 0.5204991087344029, 0.5214285714285715, 0.5223613595706619, 0.5232974910394266, 0.5242369838420108, 0.5251798561151079, 0.5261261261261261, 0.5270758122743683, 0.5262206148282098, 0.5271739130434783, 0.5281306715063521, 0.5272727272727272, 0.5282331511839709, 0.5291970802919708, 0.5301645338208409, 0.5311355311355311, 0.5321100917431193, 0.5330882352941176, 0.5340699815837937, 0.5350553505535055, 0.5360443622920518, 0.5370370370370371, 0.5380333951762524, 0.5371747211895911, 0.5363128491620112, 0.5373134328358209, 0.5383177570093458, 0.5393258426966292, 0.5384615384615384, 0.5394736842105263, 0.5404896421845574, 0.5415094339622641, 0.5425330812854442, 0.5416666666666666, 0.5426944971537002, 0.5437262357414449, 0.5447619047619048, 0.5458015267175572, 0.5449330783938815, 0.5459770114942529, 0.5470249520153551, 0.5480769230769231, 0.5491329479768786, 0.5482625482625483, 0.5493230174081238, 0.5503875968992248, 0.5514563106796116, 0.5505836575875487, 0.5516569200779727, 0.552734375, 0.5538160469667319, 0.5549019607843138, 0.5540275049115914, 0.5531496062992126, 0.5522682445759369, 0.5533596837944664, 0.5544554455445545, 0.5535714285714286, 0.5546719681908548, 0.5557768924302788, 0.5548902195608783, 0.556, 0.5551102204408818, 0.5562248995983936, 0.5573440643863179, 0.5584677419354839, 0.5595959595959596, 0.5607287449392713, 0.5598377281947262, 0.5589430894308943, 0.560081466395112, 0.5612244897959183, 0.5603271983640081, 0.5614754098360656, 0.5605749486652978, 0.5596707818930041, 0.5608247422680412, 0.5619834710743802, 0.5610766045548654, 0.5622406639004149, 0.5634095634095634, 0.5645833333333333, 0.5636743215031316, 0.5648535564853556, 0.5639412997903563, 0.5630252100840336, 0.5621052631578948, 0.5632911392405063, 0.5644820295983086, 0.565677966101695, 0.5668789808917197, 0.5680851063829787, 0.5671641791044776, 0.5662393162393162, 0.5653104925053534, 0.5665236051502146, 0.5655913978494623, 0.5668103448275862, 0.5680345572354212, 0.5692640692640693, 0.5704989154013015, 0.5695652173913044, 0.5708061002178649, 0.5720524017467249, 0.5733041575492341, 0.5723684210526315, 0.5736263736263736, 0.5748898678414097, 0.5739514348785872, 0.5752212389380531, 0.5742793791574279, 0.5733333333333334, 0.5723830734966593, 0.5736607142857143, 0.5727069351230425, 0.5717488789237668, 0.5730337078651685, 0.5743243243243243, 0.5733634311512416, 0.5746606334841629, 0.5759637188208617, 0.5772727272727273, 0.5785876993166287, 0.5776255707762558, 0.5789473684210527, 0.5802752293577982, 0.5793103448275863, 0.5783410138248848, 0.5773672055427251, 0.5787037037037037, 0.580046403712297, 0.5790697674418605, 0.578088578088578, 0.5794392523364486, 0.5784543325526932, 0.5774647887323944, 0.5788235294117647, 0.5778301886792453, 0.5768321513002365, 0.5781990521327014, 0.5795724465558195, 0.5785714285714286, 0.5799522673031027, 0.5813397129186603, 0.5827338129496403, 0.5841346153846154, 0.5831325301204819, 0.5845410628019324, 0.585956416464891, 0.587378640776699, 0.5863746958637469, 0.5878048780487805, 0.589242053789731, 0.5882352941176471, 0.5896805896805897, 0.5886699507389163, 0.5876543209876544, 0.5891089108910891, 0.5905707196029777, 0.5895522388059702, 0.5885286783042394, 0.59, 0.5889724310776943, 0.5904522613065326, 0.5919395465994962, 0.5934343434343434, 0.5924050632911393, 0.5939086294416244, 0.5954198473282443, 0.5969387755102041, 0.59846547314578, 0.6, 0.5989717223650386, 0.6005154639175257, 0.6020671834625323, 0.6036269430051814, 0.6025974025974026, 0.6041666666666666, 0.6057441253263708, 0.6047120418848168, 0.6036745406824147, 0.6026315789473684, 0.6015831134564644, 0.6005291005291006, 0.6021220159151194, 0.601063829787234, 0.6026666666666667, 0.6042780748663101, 0.6032171581769437, 0.6021505376344086, 0.601078167115903, 0.6, 0.6016260162601627, 0.6005434782608695, 0.5994550408719346, 0.5983606557377049, 0.6, 0.5989010989010989, 0.5977961432506887, 0.5966850828729282, 0.5983379501385041, 0.6, 0.5988857938718662, 0.6005586592178771, 0.6022408963585434, 0.6039325842696629, 0.6056338028169014, 0.6073446327683616, 0.6062322946175638, 0.6051136363636364, 0.603988603988604, 0.6028571428571429, 0.6045845272206304, 0.6063218390804598, 0.6051873198847262, 0.6069364161849711, 0.6086956521739131, 0.6104651162790697, 0.60932944606414, 0.6081871345029239, 0.6099706744868035, 0.611764705882353, 0.6135693215339233, 0.6124260355029586, 0.6112759643916914, 0.6101190476190477, 0.6119402985074627, 0.6137724550898204, 0.6126126126126126, 0.6144578313253012, 0.6132930513595166, 0.6121212121212121, 0.6109422492401215, 0.6097560975609756, 0.6116207951070336, 0.6104294478527608, 0.6123076923076923, 0.6141975308641975, 0.6160990712074303, 0.6180124223602484, 0.616822429906542, 0.61875, 0.6175548589341693, 0.6163522012578616, 0.6182965299684543, 0.620253164556962, 0.6190476190476191, 0.6210191082802548, 0.6198083067092651, 0.6185897435897436, 0.617363344051447, 0.6161290322580645, 0.6181229773462783, 0.6168831168831169, 0.6156351791530945, 0.6176470588235294, 0.6163934426229508, 0.6151315789473685, 0.6171617161716172, 0.6158940397350994, 0.6146179401993356, 0.6166666666666667, 0.6153846153846154, 0.6174496644295302, 0.6161616161616161, 0.6148648648648649, 0.6135593220338983, 0.6122448979591837, 0.6109215017064846, 0.6095890410958904, 0.6116838487972509, 0.6103448275862069, 0.6124567474048442, 0.6111111111111112, 0.6097560975609756, 0.6118881118881119, 0.6105263157894737, 0.6091549295774648, 0.607773851590106, 0.6099290780141844, 0.608540925266904, 0.6107142857142858, 0.6129032258064516, 0.6151079136690647, 0.6173285198555957, 0.6159420289855072, 0.6145454545454545, 0.6167883211678832, 0.6153846153846154, 0.6176470588235294, 0.6199261992619927, 0.6222222222222222, 0.6245353159851301, 0.6231343283582089, 0.6217228464419475, 0.6240601503759399, 0.6226415094339622, 0.6212121212121212, 0.6197718631178707, 0.6183206106870229, 0.6168582375478927, 0.6153846153846154, 0.6138996138996139, 0.6124031007751938, 0.6108949416342413, 0.609375, 0.611764705882353, 0.6141732283464567, 0.6126482213438735, 0.6150793650793651, 0.6175298804780877, 0.62, 0.6224899598393574, 0.625, 0.6275303643724697, 0.6300813008130082, 0.6285714285714286, 0.6270491803278688, 0.6255144032921811, 0.628099173553719, 0.6265560165975104, 0.625, 0.6234309623430963, 0.6218487394957983, 0.6244725738396625, 0.6228813559322034, 0.625531914893617, 0.6239316239316239, 0.6266094420600858, 0.625, 0.6277056277056277, 0.6260869565217392, 0.6244541484716157, 0.6271929824561403, 0.6299559471365639, 0.6327433628318584, 0.6311111111111111, 0.6339285714285714, 0.6322869955156951, 0.6351351351351351, 0.6334841628959276, 0.6318181818181818, 0.6301369863013698, 0.6284403669724771, 0.6267281105990783, 0.6296296296296297, 0.627906976744186, 0.6308411214953271, 0.6338028169014085, 0.6367924528301887, 0.6350710900473934, 0.6333333333333333, 0.631578947368421, 0.6298076923076923, 0.6328502415458938, 0.6359223300970874, 0.6390243902439025, 0.6372549019607843, 0.6403940886699507, 0.6386138613861386, 0.6368159203980099, 0.635, 0.6331658291457286, 0.6363636363636364, 0.6345177664974619, 0.6377551020408163, 0.6358974358974359, 0.634020618556701, 0.6321243523316062, 0.6302083333333334, 0.6282722513089005, 0.6263157894736842, 0.6296296296296297, 0.6329787234042553, 0.6363636363636364, 0.6397849462365591, 0.6378378378378379, 0.6358695652173914, 0.6338797814207651, 0.6318681318681318, 0.6353591160220995, 0.6388888888888888, 0.6368715083798883, 0.6348314606741573, 0.632768361581921, 0.6363636363636364, 0.64, 0.6436781609195402, 0.6416184971098265, 0.6453488372093024, 0.6432748538011696, 0.6411764705882353, 0.6449704142011834, 0.6428571428571429, 0.6407185628742516, 0.6445783132530121, 0.6484848484848484, 0.6463414634146342, 0.6441717791411042, 0.6419753086419753, 0.639751552795031, 0.6375, 0.6415094339622641, 0.6392405063291139, 0.643312101910828, 0.6474358974358975, 0.6516129032258065, 0.6493506493506493, 0.6535947712418301, 0.6578947368421053, 0.6556291390728477, 0.66, 0.6577181208053692, 0.6621621621621622, 0.6598639455782312, 0.6643835616438356, 0.6689655172413793, 0.6666666666666666, 0.6643356643356644, 0.6690140845070423, 0.6737588652482269, 0.6714285714285714, 0.6690647482014388, 0.6666666666666666, 0.6715328467153284, 0.6764705882352942, 0.674074074074074, 0.6791044776119403, 0.6842105263157895, 0.6818181818181818, 0.6793893129770993, 0.676923076923077, 0.6821705426356589, 0.6875, 0.6929133858267716, 0.6984126984126984, 0.704, 0.7016129032258065, 0.6991869918699187, 0.7049180327868853, 0.7107438016528925, 0.7083333333333334, 0.7142857142857143, 0.711864406779661, 0.7094017094017094, 0.7068965517241379, 0.7130434782608696, 0.7192982456140351, 0.7168141592920354, 0.7142857142857143, 0.7207207207207207, 0.7181818181818181, 0.7155963302752294, 0.7222222222222222, 0.719626168224299, 0.7169811320754716, 0.7238095238095238, 0.7307692307692307, 0.7281553398058253, 0.7254901960784313, 0.7227722772277227, 0.72, 0.7171717171717171, 0.7244897959183674, 0.7319587628865979, 0.7291666666666666, 0.7263157894736842, 0.723404255319149, 0.7204301075268817, 0.717391304347826, 0.7142857142857143, 0.7222222222222222, 0.7303370786516854, 0.7386363636363636, 0.735632183908046, 0.7325581395348837, 0.7294117647058823, 0.7380952380952381, 0.7349397590361446, 0.7317073170731707, 0.7283950617283951, 0.725, 0.7215189873417721, 0.717948717948718, 0.7142857142857143, 0.7105263157894737, 0.72, 0.7162162162162162, 0.7123287671232876, 0.7222222222222222, 0.7183098591549296, 0.7142857142857143, 0.7101449275362319, 0.7205882352941176, 0.7164179104477612, 0.7121212121212122, 0.7076923076923077, 0.703125, 0.6984126984126984, 0.7096774193548387, 0.7049180327868853, 0.7, 0.6949152542372882, 0.6896551724137931, 0.6842105263157895, 0.6785714285714286, 0.6727272727272727, 0.6666666666666666, 0.660377358490566, 0.6538461538461539, 0.6666666666666666, 0.68, 0.673469387755102, 0.6875, 0.6808510638297872, 0.6956521739130435, 0.6888888888888889, 0.6818181818181818, 0.6744186046511628, 0.6904761904761905, 0.6829268292682927, 0.7, 0.6923076923076923, 0.7105263157894737, 0.7297297297297297, 0.7222222222222222, 0.7428571428571429, 0.7352941176470589, 0.7575757575757576, 0.75, 0.7419354838709677, 0.7333333333333333, 0.7241379310344828, 0.7142857142857143, 0.7037037037037037, 0.6923076923076923, 0.72, 0.7083333333333334, 0.7391304347826086, 0.7727272727272727, 0.7619047619047619, 0.75, 0.7894736842105263, 0.7777777777777778, 0.7647058823529411, 0.8125, 0.8, 0.7857142857142857, 0.7692307692307693, 0.75, 0.7272727272727273, 0.8, 0.8888888888888888, 0.875, 0.8571428571428571, 0.8333333333333334, 0.8, 1.0, 1.0, 1.0, 1.0, 1.0]}, {\"mode\": \"lines\", \"name\": \"NN\", \"type\": \"scatter\", \"x\": [1.0, 0.9973262032085561, 0.9973262032085561, 0.9973262032085561, 0.9973262032085561, 0.9973262032085561, 0.9973262032085561, 0.9973262032085561, 0.9973262032085561, 0.9973262032085561, 0.9973262032085561, 0.9973262032085561, 0.9973262032085561, 0.9973262032085561, 0.9973262032085561, 0.9973262032085561, 0.9973262032085561, 0.9973262032085561, 0.9973262032085561, 0.9973262032085561, 0.9973262032085561, 0.9973262032085561, 0.9973262032085561, 0.9973262032085561, 0.9973262032085561, 0.9973262032085561, 0.9973262032085561, 0.9973262032085561, 0.9973262032085561, 0.9973262032085561, 0.9973262032085561, 0.9973262032085561, 0.9973262032085561, 0.9973262032085561, 0.9973262032085561, 0.9973262032085561, 0.9973262032085561, 0.9973262032085561, 0.9973262032085561, 0.9973262032085561, 0.9973262032085561, 0.9973262032085561, 0.9973262032085561, 0.9973262032085561, 0.9973262032085561, 0.9973262032085561, 0.9973262032085561, 0.9973262032085561, 0.9973262032085561, 0.9973262032085561, 0.9973262032085561, 0.9973262032085561, 0.9973262032085561, 0.9973262032085561, 0.9973262032085561, 0.9973262032085561, 0.9973262032085561, 0.9973262032085561, 0.9973262032085561, 0.9973262032085561, 0.9973262032085561, 0.9973262032085561, 0.9973262032085561, 0.9973262032085561, 0.9973262032085561, 0.9973262032085561, 0.9973262032085561, 0.9973262032085561, 0.9973262032085561, 0.9973262032085561, 0.9973262032085561, 0.9973262032085561, 0.9973262032085561, 0.9973262032085561, 0.9973262032085561, 0.9973262032085561, 0.9973262032085561, 0.9973262032085561, 0.9973262032085561, 0.9973262032085561, 0.9973262032085561, 0.9973262032085561, 0.9973262032085561, 0.9973262032085561, 0.9973262032085561, 0.9973262032085561, 0.9973262032085561, 0.9973262032085561, 0.9973262032085561, 0.9973262032085561, 0.9973262032085561, 0.9973262032085561, 0.9973262032085561, 0.9973262032085561, 0.9973262032085561, 0.9973262032085561, 0.9973262032085561, 0.9973262032085561, 0.9973262032085561, 0.9973262032085561, 0.9973262032085561, 0.9973262032085561, 0.9973262032085561, 0.9973262032085561, 0.9973262032085561, 0.9973262032085561, 0.9973262032085561, 0.9973262032085561, 0.9973262032085561, 0.9973262032085561, 0.9973262032085561, 0.9973262032085561, 0.9973262032085561, 0.9973262032085561, 0.9973262032085561, 0.9973262032085561, 0.9973262032085561, 0.9973262032085561, 0.9973262032085561, 0.9973262032085561, 0.9973262032085561, 0.9973262032085561, 0.9973262032085561, 0.9973262032085561, 0.9973262032085561, 0.9973262032085561, 0.9973262032085561, 0.9973262032085561, 0.9973262032085561, 0.9973262032085561, 0.9973262032085561, 0.9973262032085561, 0.9973262032085561, 0.9973262032085561, 0.9973262032085561, 0.9973262032085561, 0.9973262032085561, 0.9973262032085561, 0.9973262032085561, 0.9973262032085561, 0.9973262032085561, 0.9973262032085561, 0.9946524064171123, 0.9946524064171123, 0.9946524064171123, 0.9946524064171123, 0.9946524064171123, 0.9946524064171123, 0.9946524064171123, 0.9946524064171123, 0.9946524064171123, 0.9946524064171123, 0.9946524064171123, 0.9946524064171123, 0.9946524064171123, 0.9946524064171123, 0.9946524064171123, 0.9946524064171123, 0.9946524064171123, 0.9946524064171123, 0.9946524064171123, 0.9946524064171123, 0.9946524064171123, 0.9946524064171123, 0.9946524064171123, 0.9946524064171123, 0.9946524064171123, 0.9946524064171123, 0.9946524064171123, 0.9946524064171123, 0.9946524064171123, 0.9946524064171123, 0.9946524064171123, 0.9946524064171123, 0.9946524064171123, 0.9946524064171123, 0.9946524064171123, 0.9946524064171123, 0.9946524064171123, 0.9946524064171123, 0.9946524064171123, 0.9946524064171123, 0.9946524064171123, 0.9946524064171123, 0.9946524064171123, 0.9946524064171123, 0.9946524064171123, 0.9946524064171123, 0.9946524064171123, 0.9946524064171123, 0.9946524064171123, 0.9946524064171123, 0.9946524064171123, 0.9946524064171123, 0.9946524064171123, 0.9946524064171123, 0.9946524064171123, 0.9946524064171123, 0.9946524064171123, 0.9946524064171123, 0.9946524064171123, 0.9946524064171123, 0.9946524064171123, 0.9946524064171123, 0.9946524064171123, 0.9946524064171123, 0.9946524064171123, 0.9946524064171123, 0.9946524064171123, 0.9946524064171123, 0.9946524064171123, 0.9946524064171123, 0.9946524064171123, 0.9946524064171123, 0.9946524064171123, 0.9946524064171123, 0.9946524064171123, 0.9946524064171123, 0.9946524064171123, 0.9946524064171123, 0.9946524064171123, 0.9946524064171123, 0.9946524064171123, 0.9946524064171123, 0.9946524064171123, 0.9946524064171123, 0.9946524064171123, 0.9946524064171123, 0.9946524064171123, 0.9946524064171123, 0.9946524064171123, 0.9946524064171123, 0.9946524064171123, 0.9946524064171123, 0.9946524064171123, 0.9946524064171123, 0.9946524064171123, 0.9946524064171123, 0.9946524064171123, 0.9946524064171123, 0.9946524064171123, 0.9946524064171123, 0.9946524064171123, 0.9946524064171123, 0.9946524064171123, 0.9946524064171123, 0.9946524064171123, 0.9946524064171123, 0.9946524064171123, 0.9946524064171123, 0.9946524064171123, 0.9946524064171123, 0.9946524064171123, 0.9946524064171123, 0.9946524064171123, 0.9946524064171123, 0.9946524064171123, 0.9946524064171123, 0.9946524064171123, 0.9946524064171123, 0.9946524064171123, 0.9946524064171123, 0.9946524064171123, 0.9946524064171123, 0.9946524064171123, 0.9946524064171123, 0.9946524064171123, 0.9946524064171123, 0.9946524064171123, 0.9919786096256684, 0.9919786096256684, 0.9919786096256684, 0.9919786096256684, 0.9919786096256684, 0.9919786096256684, 0.9919786096256684, 0.9919786096256684, 0.9919786096256684, 0.9919786096256684, 0.9919786096256684, 0.9919786096256684, 0.9919786096256684, 0.9893048128342246, 0.9866310160427807, 0.9866310160427807, 0.9866310160427807, 0.9866310160427807, 0.9866310160427807, 0.9866310160427807, 0.9866310160427807, 0.9866310160427807, 0.9866310160427807, 0.9866310160427807, 0.9866310160427807, 0.9866310160427807, 0.9866310160427807, 0.9866310160427807, 0.9866310160427807, 0.9866310160427807, 0.9866310160427807, 0.9866310160427807, 0.983957219251337, 0.983957219251337, 0.983957219251337, 0.983957219251337, 0.983957219251337, 0.983957219251337, 0.983957219251337, 0.9812834224598931, 0.9812834224598931, 0.9812834224598931, 0.9812834224598931, 0.9812834224598931, 0.9812834224598931, 0.9812834224598931, 0.9812834224598931, 0.9812834224598931, 0.9812834224598931, 0.9812834224598931, 0.9812834224598931, 0.9786096256684492, 0.9786096256684492, 0.9786096256684492, 0.9786096256684492, 0.9786096256684492, 0.9786096256684492, 0.9786096256684492, 0.9786096256684492, 0.9786096256684492, 0.9786096256684492, 0.9786096256684492, 0.9786096256684492, 0.9786096256684492, 0.9786096256684492, 0.9786096256684492, 0.9786096256684492, 0.9786096256684492, 0.9759358288770054, 0.9759358288770054, 0.9759358288770054, 0.9759358288770054, 0.9759358288770054, 0.9759358288770054, 0.9759358288770054, 0.9759358288770054, 0.9759358288770054, 0.9759358288770054, 0.9759358288770054, 0.9759358288770054, 0.9759358288770054, 0.9759358288770054, 0.9759358288770054, 0.9759358288770054, 0.9759358288770054, 0.9759358288770054, 0.9759358288770054, 0.9759358288770054, 0.9759358288770054, 0.9759358288770054, 0.9759358288770054, 0.9759358288770054, 0.9732620320855615, 0.9732620320855615, 0.9732620320855615, 0.9732620320855615, 0.9732620320855615, 0.9732620320855615, 0.9732620320855615, 0.9732620320855615, 0.9732620320855615, 0.9732620320855615, 0.9732620320855615, 0.9732620320855615, 0.9732620320855615, 0.9732620320855615, 0.9705882352941176, 0.9705882352941176, 0.9705882352941176, 0.9705882352941176, 0.9705882352941176, 0.9705882352941176, 0.9679144385026738, 0.9679144385026738, 0.9679144385026738, 0.9679144385026738, 0.9679144385026738, 0.9679144385026738, 0.9679144385026738, 0.9679144385026738, 0.9679144385026738, 0.9679144385026738, 0.9679144385026738, 0.9679144385026738, 0.9679144385026738, 0.9679144385026738, 0.9679144385026738, 0.9679144385026738, 0.9679144385026738, 0.9679144385026738, 0.9679144385026738, 0.9679144385026738, 0.9679144385026738, 0.9679144385026738, 0.9679144385026738, 0.9679144385026738, 0.9679144385026738, 0.9679144385026738, 0.9679144385026738, 0.9679144385026738, 0.9679144385026738, 0.9679144385026738, 0.9679144385026738, 0.9679144385026738, 0.9679144385026738, 0.9679144385026738, 0.9679144385026738, 0.9679144385026738, 0.9679144385026738, 0.9679144385026738, 0.9679144385026738, 0.9679144385026738, 0.9679144385026738, 0.9679144385026738, 0.9652406417112299, 0.9652406417112299, 0.9652406417112299, 0.9652406417112299, 0.9652406417112299, 0.9652406417112299, 0.9652406417112299, 0.9652406417112299, 0.9652406417112299, 0.9652406417112299, 0.9652406417112299, 0.9652406417112299, 0.9652406417112299, 0.9625668449197861, 0.9625668449197861, 0.9625668449197861, 0.9625668449197861, 0.9625668449197861, 0.9598930481283422, 0.9598930481283422, 0.9598930481283422, 0.9598930481283422, 0.9598930481283422, 0.9598930481283422, 0.9572192513368984, 0.9545454545454546, 0.9545454545454546, 0.9518716577540107, 0.9518716577540107, 0.9518716577540107, 0.9518716577540107, 0.9518716577540107, 0.9518716577540107, 0.9518716577540107, 0.9518716577540107, 0.9518716577540107, 0.9518716577540107, 0.9518716577540107, 0.9491978609625669, 0.9491978609625669, 0.9491978609625669, 0.9491978609625669, 0.9491978609625669, 0.9491978609625669, 0.9491978609625669, 0.9491978609625669, 0.9491978609625669, 0.9491978609625669, 0.9491978609625669, 0.9491978609625669, 0.9491978609625669, 0.946524064171123, 0.946524064171123, 0.946524064171123, 0.946524064171123, 0.9438502673796791, 0.9411764705882353, 0.9411764705882353, 0.9385026737967914, 0.9385026737967914, 0.9385026737967914, 0.9385026737967914, 0.9385026737967914, 0.9385026737967914, 0.9385026737967914, 0.9385026737967914, 0.9358288770053476, 0.9358288770053476, 0.9358288770053476, 0.9358288770053476, 0.9358288770053476, 0.9331550802139037, 0.93048128342246, 0.93048128342246, 0.93048128342246, 0.93048128342246, 0.93048128342246, 0.9278074866310161, 0.9278074866310161, 0.9278074866310161, 0.9278074866310161, 0.9278074866310161, 0.9278074866310161, 0.9278074866310161, 0.9278074866310161, 0.9278074866310161, 0.9278074866310161, 0.9278074866310161, 0.9278074866310161, 0.9278074866310161, 0.9251336898395722, 0.9251336898395722, 0.9251336898395722, 0.9251336898395722, 0.9251336898395722, 0.9251336898395722, 0.9251336898395722, 0.9251336898395722, 0.9251336898395722, 0.9251336898395722, 0.9251336898395722, 0.9251336898395722, 0.9251336898395722, 0.9251336898395722, 0.9251336898395722, 0.9251336898395722, 0.9224598930481284, 0.9224598930481284, 0.9224598930481284, 0.9197860962566845, 0.9171122994652406, 0.9171122994652406, 0.9144385026737968, 0.9144385026737968, 0.9144385026737968, 0.9144385026737968, 0.9144385026737968, 0.9144385026737968, 0.9144385026737968, 0.9144385026737968, 0.9144385026737968, 0.9144385026737968, 0.9144385026737968, 0.9144385026737968, 0.9144385026737968, 0.9144385026737968, 0.9144385026737968, 0.9144385026737968, 0.9117647058823529, 0.9117647058823529, 0.9090909090909091, 0.9064171122994652, 0.9064171122994652, 0.9064171122994652, 0.9064171122994652, 0.9064171122994652, 0.9037433155080213, 0.9037433155080213, 0.9037433155080213, 0.9037433155080213, 0.9037433155080213, 0.9037433155080213, 0.9037433155080213, 0.9037433155080213, 0.9037433155080213, 0.9037433155080213, 0.9037433155080213, 0.9037433155080213, 0.9010695187165776, 0.9010695187165776, 0.9010695187165776, 0.9010695187165776, 0.9010695187165776, 0.8983957219251337, 0.8983957219251337, 0.8983957219251337, 0.8983957219251337, 0.8983957219251337, 0.8983957219251337, 0.8983957219251337, 0.8983957219251337, 0.8957219251336899, 0.8957219251336899, 0.8957219251336899, 0.893048128342246, 0.893048128342246, 0.893048128342246, 0.893048128342246, 0.893048128342246, 0.893048128342246, 0.893048128342246, 0.893048128342246, 0.893048128342246, 0.8903743315508021, 0.8903743315508021, 0.8903743315508021, 0.8903743315508021, 0.8903743315508021, 0.8903743315508021, 0.8903743315508021, 0.8877005347593583, 0.8877005347593583, 0.8877005347593583, 0.8877005347593583, 0.8877005347593583, 0.8877005347593583, 0.8877005347593583, 0.8850267379679144, 0.8850267379679144, 0.8850267379679144, 0.8850267379679144, 0.8850267379679144, 0.8850267379679144, 0.8850267379679144, 0.8850267379679144, 0.8850267379679144, 0.8823529411764706, 0.8823529411764706, 0.8796791443850267, 0.8796791443850267, 0.8796791443850267, 0.8770053475935828, 0.8770053475935828, 0.8770053475935828, 0.8770053475935828, 0.8770053475935828, 0.8770053475935828, 0.8770053475935828, 0.8770053475935828, 0.8770053475935828, 0.8770053475935828, 0.8770053475935828, 0.8770053475935828, 0.8743315508021391, 0.8743315508021391, 0.8743315508021391, 0.8743315508021391, 0.8716577540106952, 0.8716577540106952, 0.8716577540106952, 0.8689839572192514, 0.8663101604278075, 0.8663101604278075, 0.8663101604278075, 0.8663101604278075, 0.8663101604278075, 0.8663101604278075, 0.8663101604278075, 0.8663101604278075, 0.8663101604278075, 0.8663101604278075, 0.8663101604278075, 0.8636363636363636, 0.8636363636363636, 0.8636363636363636, 0.8636363636363636, 0.8636363636363636, 0.8636363636363636, 0.8636363636363636, 0.8636363636363636, 0.8609625668449198, 0.8582887700534759, 0.8582887700534759, 0.8556149732620321, 0.8556149732620321, 0.8556149732620321, 0.8556149732620321, 0.8529411764705882, 0.8502673796791443, 0.8502673796791443, 0.8502673796791443, 0.8502673796791443, 0.8502673796791443, 0.8502673796791443, 0.8475935828877005, 0.8449197860962567, 0.8449197860962567, 0.8449197860962567, 0.8422459893048129, 0.8422459893048129, 0.8422459893048129, 0.8422459893048129, 0.839572192513369, 0.839572192513369, 0.839572192513369, 0.8368983957219251, 0.8368983957219251, 0.8368983957219251, 0.8368983957219251, 0.8368983957219251, 0.8368983957219251, 0.8368983957219251, 0.8368983957219251, 0.8368983957219251, 0.8368983957219251, 0.8368983957219251, 0.8368983957219251, 0.8342245989304813, 0.8342245989304813, 0.8315508021390374, 0.8315508021390374, 0.8315508021390374, 0.8315508021390374, 0.8315508021390374, 0.8288770053475936, 0.8262032085561497, 0.8235294117647058, 0.820855614973262, 0.8181818181818182, 0.8155080213903744, 0.8128342245989305, 0.8128342245989305, 0.8128342245989305, 0.8128342245989305, 0.8128342245989305, 0.8101604278074866, 0.8101604278074866, 0.8101604278074866, 0.8101604278074866, 0.8101604278074866, 0.8101604278074866, 0.8074866310160428, 0.8074866310160428, 0.8074866310160428, 0.8074866310160428, 0.8074866310160428, 0.8074866310160428, 0.8074866310160428, 0.8048128342245989, 0.8021390374331551, 0.8021390374331551, 0.8021390374331551, 0.8021390374331551, 0.8021390374331551, 0.8021390374331551, 0.8021390374331551, 0.7994652406417112, 0.7967914438502673, 0.7941176470588235, 0.7941176470588235, 0.7941176470588235, 0.7941176470588235, 0.7941176470588235, 0.7941176470588235, 0.7914438502673797, 0.7914438502673797, 0.7914438502673797, 0.7914438502673797, 0.7887700534759359, 0.7887700534759359, 0.786096256684492, 0.786096256684492, 0.786096256684492, 0.786096256684492, 0.786096256684492, 0.786096256684492, 0.786096256684492, 0.786096256684492, 0.786096256684492, 0.7834224598930482, 0.7807486631016043, 0.7807486631016043, 0.7780748663101604, 0.7780748663101604, 0.7754010695187166, 0.7727272727272727, 0.7727272727272727, 0.7727272727272727, 0.7700534759358288, 0.7700534759358288, 0.7700534759358288, 0.767379679144385, 0.767379679144385, 0.7647058823529411, 0.7620320855614974, 0.7620320855614974, 0.7620320855614974, 0.7593582887700535, 0.7593582887700535, 0.7593582887700535, 0.7593582887700535, 0.7593582887700535, 0.7593582887700535, 0.7593582887700535, 0.7593582887700535, 0.7566844919786097, 0.7540106951871658, 0.7513368983957219, 0.7513368983957219, 0.7513368983957219, 0.7513368983957219, 0.7513368983957219, 0.7513368983957219, 0.7513368983957219, 0.7486631016042781, 0.7486631016042781, 0.7486631016042781, 0.7459893048128342, 0.7459893048128342, 0.7459893048128342, 0.7459893048128342, 0.7459893048128342, 0.7459893048128342, 0.7459893048128342, 0.7459893048128342, 0.7433155080213903, 0.7406417112299465, 0.7379679144385026, 0.7352941176470589, 0.7352941176470589, 0.732620320855615, 0.732620320855615, 0.732620320855615, 0.732620320855615, 0.7299465240641712, 0.7272727272727273, 0.7272727272727273, 0.7245989304812834, 0.7245989304812834, 0.7245989304812834, 0.7245989304812834, 0.7245989304812834, 0.7219251336898396, 0.7219251336898396, 0.7219251336898396, 0.7192513368983957, 0.7192513368983957, 0.7192513368983957, 0.7192513368983957, 0.7165775401069518, 0.7165775401069518, 0.7165775401069518, 0.713903743315508, 0.7112299465240641, 0.7112299465240641, 0.7112299465240641, 0.7112299465240641, 0.7112299465240641, 0.7085561497326203, 0.7085561497326203, 0.7058823529411765, 0.7058823529411765, 0.7058823529411765, 0.7032085561497327, 0.7005347593582888, 0.6978609625668449, 0.6951871657754011, 0.6925133689839572, 0.6898395721925134, 0.6898395721925134, 0.6871657754010695, 0.6871657754010695, 0.6871657754010695, 0.6871657754010695, 0.6871657754010695, 0.6871657754010695, 0.6844919786096256, 0.6818181818181818, 0.679144385026738, 0.6764705882352942, 0.6764705882352942, 0.6764705882352942, 0.6737967914438503, 0.6737967914438503, 0.6737967914438503, 0.6737967914438503, 0.6737967914438503, 0.6737967914438503, 0.6711229946524064, 0.6711229946524064, 0.6711229946524064, 0.6711229946524064, 0.6711229946524064, 0.6684491978609626, 0.6657754010695187, 0.6657754010695187, 0.6657754010695187, 0.6631016042780749, 0.6631016042780749, 0.6631016042780749, 0.6631016042780749, 0.6631016042780749, 0.660427807486631, 0.660427807486631, 0.6577540106951871, 0.6550802139037433, 0.6524064171122995, 0.6497326203208557, 0.6497326203208557, 0.6470588235294118, 0.6443850267379679, 0.6443850267379679, 0.6417112299465241, 0.6390374331550802, 0.6363636363636364, 0.6363636363636364, 0.6363636363636364, 0.6363636363636364, 0.6363636363636364, 0.6363636363636364, 0.6336898395721925, 0.6310160427807486, 0.6310160427807486, 0.6310160427807486, 0.6283422459893048, 0.6283422459893048, 0.6283422459893048, 0.6256684491978609, 0.6229946524064172, 0.6229946524064172, 0.6229946524064172, 0.6229946524064172, 0.6203208556149733, 0.6203208556149733, 0.6203208556149733, 0.6203208556149733, 0.6176470588235294, 0.6149732620320856, 0.6122994652406417, 0.6096256684491979, 0.6096256684491979, 0.6096256684491979, 0.6096256684491979, 0.606951871657754, 0.606951871657754, 0.6042780748663101, 0.6016042780748663, 0.5989304812834224, 0.5989304812834224, 0.5989304812834224, 0.5989304812834224, 0.5989304812834224, 0.5989304812834224, 0.5989304812834224, 0.5989304812834224, 0.5989304812834224, 0.5989304812834224, 0.5989304812834224, 0.5962566844919787, 0.5935828877005348, 0.5935828877005348, 0.5935828877005348, 0.5935828877005348, 0.5909090909090909, 0.5909090909090909, 0.5882352941176471, 0.5882352941176471, 0.5882352941176471, 0.5855614973262032, 0.5855614973262032, 0.5828877005347594, 0.5828877005347594, 0.5802139037433155, 0.5802139037433155, 0.5775401069518716, 0.5775401069518716, 0.5775401069518716, 0.5748663101604278, 0.5748663101604278, 0.5721925133689839, 0.56951871657754, 0.56951871657754, 0.5668449197860963, 0.5641711229946524, 0.5641711229946524, 0.5614973262032086, 0.5588235294117647, 0.5561497326203209, 0.553475935828877, 0.5508021390374331, 0.5508021390374331, 0.5481283422459893, 0.5481283422459893, 0.5481283422459893, 0.5454545454545454, 0.5427807486631016, 0.5401069518716578, 0.5374331550802139, 0.5347593582887701, 0.5320855614973262, 0.5320855614973262, 0.5320855614973262, 0.5294117647058824, 0.5267379679144385, 0.5240641711229946, 0.5213903743315508, 0.5213903743315508, 0.5213903743315508, 0.5187165775401069, 0.5187165775401069, 0.5187165775401069, 0.516042780748663, 0.5133689839572193, 0.5133689839572193, 0.5106951871657754, 0.5106951871657754, 0.5080213903743316, 0.5053475935828877, 0.5053475935828877, 0.5026737967914439, 0.5026737967914439, 0.5, 0.49732620320855614, 0.49732620320855614, 0.4946524064171123, 0.4946524064171123, 0.4946524064171123, 0.4919786096256685, 0.4893048128342246, 0.4893048128342246, 0.4893048128342246, 0.4893048128342246, 0.48663101604278075, 0.48663101604278075, 0.48663101604278075, 0.4839572192513369, 0.48128342245989303, 0.4786096256684492, 0.47593582887700536, 0.4732620320855615, 0.4732620320855615, 0.47058823529411764, 0.47058823529411764, 0.4679144385026738, 0.46524064171123, 0.4625668449197861, 0.4625668449197861, 0.4625668449197861, 0.4625668449197861, 0.4625668449197861, 0.45989304812834225, 0.45989304812834225, 0.45989304812834225, 0.4572192513368984, 0.45454545454545453, 0.45187165775401067, 0.44919786096256686, 0.44919786096256686, 0.446524064171123, 0.44385026737967914, 0.4411764705882353, 0.4411764705882353, 0.4385026737967914, 0.4385026737967914, 0.4385026737967914, 0.4385026737967914, 0.4358288770053476, 0.43315508021390375, 0.43315508021390375, 0.4304812834224599, 0.4304812834224599, 0.4304812834224599, 0.4304812834224599, 0.42780748663101603, 0.42780748663101603, 0.42513368983957217, 0.42513368983957217, 0.42245989304812837, 0.4197860962566845, 0.41711229946524064, 0.41711229946524064, 0.4144385026737968, 0.4117647058823529, 0.4117647058823529, 0.4117647058823529, 0.4117647058823529, 0.4117647058823529, 0.4090909090909091, 0.40641711229946526, 0.40641711229946526, 0.40641711229946526, 0.4037433155080214, 0.40106951871657753, 0.3983957219251337, 0.39572192513368987, 0.393048128342246, 0.393048128342246, 0.39037433155080214, 0.39037433155080214, 0.39037433155080214, 0.39037433155080214, 0.3877005347593583, 0.3850267379679144, 0.3850267379679144, 0.38235294117647056, 0.38235294117647056, 0.37967914438502676, 0.37967914438502676, 0.3770053475935829, 0.3770053475935829, 0.37433155080213903, 0.3716577540106952, 0.3689839572192513, 0.3663101604278075, 0.3663101604278075, 0.3663101604278075, 0.36363636363636365, 0.3609625668449198, 0.3609625668449198, 0.3582887700534759, 0.35561497326203206, 0.35561497326203206, 0.35561497326203206, 0.35561497326203206, 0.35294117647058826, 0.3502673796791444, 0.3502673796791444, 0.34759358288770054, 0.3449197860962567, 0.3449197860962567, 0.3422459893048128, 0.3422459893048128, 0.3422459893048128, 0.339572192513369, 0.339572192513369, 0.33689839572192515, 0.3342245989304813, 0.3342245989304813, 0.3342245989304813, 0.3342245989304813, 0.3315508021390374, 0.32887700534759357, 0.32620320855614976, 0.32620320855614976, 0.32620320855614976, 0.32620320855614976, 0.3235294117647059, 0.32085561497326204, 0.32085561497326204, 0.32085561497326204, 0.3181818181818182, 0.3155080213903743, 0.31283422459893045, 0.31016042780748665, 0.31016042780748665, 0.3074866310160428, 0.3074866310160428, 0.3074866310160428, 0.3074866310160428, 0.3048128342245989, 0.30213903743315507, 0.30213903743315507, 0.2994652406417112, 0.2967914438502674, 0.29411764705882354, 0.29411764705882354, 0.2914438502673797, 0.2887700534759358, 0.28609625668449196, 0.28342245989304815, 0.28342245989304815, 0.2807486631016043, 0.27807486631016043, 0.27807486631016043, 0.27540106951871657, 0.2727272727272727, 0.2700534759358289, 0.2700534759358289, 0.26737967914438504, 0.2647058823529412, 0.2620320855614973, 0.25935828877005346, 0.25668449197860965, 0.25668449197860965, 0.25668449197860965, 0.25668449197860965, 0.2540106951871658, 0.25133689839572193, 0.24866310160427807, 0.24598930481283424, 0.24598930481283424, 0.24331550802139038, 0.24331550802139038, 0.24064171122994651, 0.24064171122994651, 0.23796791443850268, 0.23529411764705882, 0.232620320855615, 0.232620320855615, 0.22994652406417113, 0.22994652406417113, 0.22994652406417113, 0.22994652406417113, 0.22994652406417113, 0.22727272727272727, 0.22459893048128343, 0.22192513368983957, 0.2192513368983957, 0.21657754010695188, 0.21657754010695188, 0.21657754010695188, 0.21657754010695188, 0.21657754010695188, 0.21390374331550802, 0.21390374331550802, 0.21122994652406418, 0.21122994652406418, 0.20855614973262032, 0.20855614973262032, 0.20588235294117646, 0.20320855614973263, 0.20053475935828877, 0.19786096256684493, 0.19518716577540107, 0.19518716577540107, 0.19518716577540107, 0.1925133689839572, 0.1925133689839572, 0.18983957219251338, 0.18983957219251338, 0.18983957219251338, 0.18716577540106952, 0.18716577540106952, 0.18449197860962566, 0.18181818181818182, 0.18181818181818182, 0.18181818181818182, 0.18181818181818182, 0.18181818181818182, 0.17914438502673796, 0.17914438502673796, 0.17647058823529413, 0.17379679144385027, 0.1711229946524064, 0.16844919786096257, 0.1657754010695187, 0.16310160427807488, 0.16310160427807488, 0.16042780748663102, 0.16042780748663102, 0.15775401069518716, 0.15775401069518716, 0.15508021390374332, 0.15240641711229946, 0.1497326203208556, 0.14705882352941177, 0.1443850267379679, 0.14171122994652408, 0.13903743315508021, 0.13903743315508021, 0.13636363636363635, 0.13368983957219252, 0.13368983957219252, 0.13101604278074866, 0.12834224598930483, 0.12566844919786097, 0.12299465240641712, 0.12032085561497326, 0.11764705882352941, 0.11764705882352941, 0.11497326203208556, 0.11229946524064172, 0.10962566844919786, 0.10695187165775401, 0.10427807486631016, 0.10160427807486631, 0.09893048128342247, 0.0962566844919786, 0.09358288770053476, 0.09358288770053476, 0.09090909090909091, 0.08823529411764706, 0.0855614973262032, 0.08288770053475936, 0.08288770053475936, 0.08021390374331551, 0.08021390374331551, 0.07754010695187166, 0.0748663101604278, 0.07219251336898395, 0.06951871657754011, 0.06684491978609626, 0.06417112299465241, 0.06149732620320856, 0.058823529411764705, 0.05614973262032086, 0.05614973262032086, 0.053475935828877004, 0.05080213903743316, 0.0481283422459893, 0.045454545454545456, 0.0427807486631016, 0.040106951871657755, 0.040106951871657755, 0.040106951871657755, 0.0374331550802139, 0.034759358288770054, 0.03208556149732621, 0.029411764705882353, 0.026737967914438502, 0.02406417112299465, 0.02406417112299465, 0.0213903743315508, 0.01871657754010695, 0.016042780748663103, 0.013368983957219251, 0.013368983957219251, 0.0106951871657754, 0.008021390374331552, 0.008021390374331552, 0.0053475935828877, 0.00267379679144385, 0.0], \"y\": [0.28659003831417623, 0.2860429447852761, 0.28626247122026094, 0.28648233486943164, 0.28670253651037664, 0.28692307692307695, 0.28714395688991534, 0.28736517719568566, 0.28758673862760215, 0.28780864197530864, 0.28803088803088805, 0.2882534775888717, 0.288476411446249, 0.2886996904024768, 0.2889233152594888, 0.28914728682170543, 0.28937160589604344, 0.28959627329192544, 0.2898212898212898, 0.2900466562986003, 0.29027237354085605, 0.29049844236760125, 0.2907248636009353, 0.2909516380655226, 0.29117876658860264, 0.29140625, 0.29163408913213446, 0.2918622848200313, 0.2920908379013312, 0.29231974921630094, 0.29254901960784313, 0.29277864992150704, 0.29300864100549884, 0.29323899371069184, 0.2934697088906373, 0.2937007874015748, 0.29393223010244285, 0.2941640378548896, 0.2943962115232833, 0.29462875197472355, 0.2948616600790514, 0.2950949367088608, 0.2953285827395091, 0.29556259904912835, 0.295796986518636, 0.29603174603174603, 0.2962668784749801, 0.29650238473767887, 0.2967382657120127, 0.29697452229299365, 0.2972111553784861, 0.2974481658692185, 0.29768555466879487, 0.2979233226837061, 0.2981614708233413, 0.2984, 0.2986389111289031, 0.2988782051282051, 0.2991178829190056, 0.29935794542536115, 0.2995983935742972, 0.29983922829581994, 0.3000804505229284, 0.3003220611916264, 0.3005640612409347, 0.3008064516129032, 0.30104923325262306, 0.30129240710823907, 0.301535974130962, 0.3017799352750809, 0.3020242914979757, 0.30226904376012964, 0.30251419302514193, 0.3027597402597403, 0.30300568643379366, 0.3032520325203252, 0.30349877949552484, 0.30374592833876224, 0.30399348003259985, 0.30424143556280586, 0.30448979591836733, 0.3047385620915033, 0.30498773507767785, 0.30523731587561376, 0.30548730548730546, 0.30573770491803276, 0.3059885151763741, 0.30623973727422005, 0.3064913722267872, 0.3067434210526316, 0.3069958847736626, 0.30724876441515653, 0.3075020610057708, 0.30775577557755773, 0.30800990916597853, 0.3082644628099174, 0.30851943755169564, 0.3087748344370861, 0.30903065451532724, 0.3092868988391376, 0.3095435684647303, 0.30980066445182725, 0.3100581878636742, 0.3103161397670549, 0.3105745212323064, 0.31083333333333335, 0.311092577147623, 0.3113522537562604, 0.3116123642439432, 0.31187290969899667, 0.31213389121338914, 0.31239530988274705, 0.3126571668063705, 0.31291946308724833, 0.3131821998320739, 0.3134453781512605, 0.3137089991589571, 0.31397306397306396, 0.3142375737152485, 0.3145025295109612, 0.31476793248945145, 0.31503378378378377, 0.3153000845308538, 0.3155668358714044, 0.31583403895004236, 0.31610169491525425, 0.31636980491942324, 0.3166383701188455, 0.3169073916737468, 0.3171768707482993, 0.3174468085106383, 0.31771720613287907, 0.31798806479113384, 0.318259385665529, 0.318531169940222, 0.3188034188034188, 0.31907613344739094, 0.3193493150684932, 0.3196229648671808, 0.31989708404802747, 0.3201716738197425, 0.32044673539518903, 0.31986242476354254, 0.32013769363166955, 0.32041343669250644, 0.32068965517241377, 0.32096635030198445, 0.32124352331606215, 0.32152117545375974, 0.3217993079584775, 0.3220779220779221, 0.3223570190641248, 0.3226366001734605, 0.3229166666666667, 0.32319721980886185, 0.3234782608695652, 0.3237597911227154, 0.3240418118466899, 0.32432432432432434, 0.32460732984293195, 0.32489082969432315, 0.32517482517482516, 0.32545931758530183, 0.3257443082311734, 0.32602979842243646, 0.3263157894736842, 0.32660228270412645, 0.3268892794376098, 0.32717678100263853, 0.3274647887323944, 0.3277533039647577, 0.328042328042328, 0.3283318623124448, 0.3286219081272085, 0.32891246684350134, 0.3292035398230089, 0.32949512843224094, 0.32978723404255317, 0.3300798580301686, 0.33037300177619894, 0.33066666666666666, 0.3309608540925267, 0.3312555654496883, 0.3315508021390374, 0.33184656556645853, 0.33214285714285713, 0.3324396782841823, 0.33273703041144903, 0.333034914950761, 0.3333333333333333, 0.33363228699551567, 0.3339317773788151, 0.33423180592991913, 0.3345323741007194, 0.33483348334833485, 0.33513513513513515, 0.33543733092876465, 0.33574007220216606, 0.33604336043360433, 0.33634719710669075, 0.33665158371040727, 0.33695652173913043, 0.3372620126926564, 0.33756805807622503, 0.33787465940054495, 0.3381818181818182, 0.33848953594176523, 0.33879781420765026, 0.3391066545123063, 0.33941605839416056, 0.33972602739726027, 0.340036563071298, 0.3403476669716377, 0.34065934065934067, 0.34097158570119157, 0.3412844036697248, 0.3415977961432507, 0.34191176470588236, 0.3422263109475621, 0.3425414364640884, 0.34285714285714286, 0.34317343173431736, 0.34349030470914127, 0.3438077634011091, 0.3441258094357077, 0.34444444444444444, 0.3447636700648749, 0.3450834879406308, 0.34540389972144847, 0.34572490706319703, 0.34604651162790695, 0.3463687150837989, 0.3466915191053122, 0.34701492537313433, 0.3473389355742297, 0.34766355140186916, 0.3479887745556595, 0.34831460674157305, 0.3486410496719775, 0.34896810506566606, 0.3492957746478873, 0.34962406015037595, 0.34995296331138287, 0.3502824858757062, 0.35061262959472195, 0.35094339622641507, 0.35127478753541075, 0.3516068052930057, 0.3519394512771996, 0.3522727272727273, 0.35260663507109, 0.35294117647058826, 0.35327635327635326, 0.35361216730038025, 0.35394862036156044, 0.35428571428571426, 0.3546234509056244, 0.3549618320610687, 0.3553008595988539, 0.35564053537284895, 0.3559808612440191, 0.3563218390804598, 0.3566634707574305, 0.3570057581573896, 0.3573487031700288, 0.3576923076923077, 0.35803657362848895, 0.3583815028901734, 0.35872709739633557, 0.3581081081081081, 0.35845410628019325, 0.35880077369439073, 0.3591481122942885, 0.3594961240310077, 0.35984481086323955, 0.36019417475728155, 0.36054421768707484, 0.36089494163424124, 0.3612463485881207, 0.361598440545809, 0.3619512195121951, 0.3623046875, 0.3616813294232649, 0.3610567514677104, 0.3614103819784525, 0.36176470588235293, 0.3621197252208047, 0.362475442043222, 0.36283185840707965, 0.3631889763779528, 0.36354679802955664, 0.363905325443787, 0.36426456071076013, 0.36462450592885376, 0.3649851632047478, 0.36534653465346534, 0.3657086223984143, 0.36607142857142855, 0.36643495531281034, 0.3667992047713718, 0.36716417910447763, 0.3665338645418327, 0.36689930209371885, 0.36726546906187624, 0.3676323676323676, 0.368, 0.3683683683683684, 0.3687374749498998, 0.36810431293881646, 0.3684738955823293, 0.3688442211055276, 0.369215291750503, 0.36958710976837866, 0.3699596774193548, 0.3703329969727548, 0.3707070707070707, 0.3710819009100101, 0.3714574898785425, 0.3718338399189463, 0.372210953346856, 0.3715736040609137, 0.3719512195121951, 0.3723296032553408, 0.3727087576374745, 0.3730886850152905, 0.373469387755102, 0.3738508682328907, 0.37423312883435583, 0.37461617195496416, 0.375, 0.37538461538461537, 0.3757700205338809, 0.3761562178828366, 0.3765432098765432, 0.3769309989701339, 0.37731958762886597, 0.37770897832817335, 0.37706611570247933, 0.37745604963805585, 0.3778467908902691, 0.37823834196891193, 0.37863070539419086, 0.3790238836967809, 0.3794178794178794, 0.3798126951092612, 0.3802083333333333, 0.3806047966631908, 0.38100208768267224, 0.38140020898641586, 0.3817991631799163, 0.38219895287958117, 0.38259958071278827, 0.3830010493179433, 0.38340336134453784, 0.38380651945320715, 0.38421052631578945, 0.38461538461538464, 0.3850210970464135, 0.38542766631467795, 0.3858350951374207, 0.3862433862433862, 0.3855932203389831, 0.3860021208907741, 0.386411889596603, 0.38682252922422955, 0.3872340425531915, 0.3876464323748669, 0.3880597014925373, 0.38847385272145146, 0.3888888888888889, 0.3893048128342246, 0.3897216274089936, 0.39013933547695606, 0.3905579399141631, 0.39097744360902253, 0.3903225806451613, 0.3907427341227126, 0.3911637931034483, 0.39158576051779936, 0.39200863930885527, 0.3924324324324324, 0.3917748917748918, 0.39219934994582883, 0.3926247288503254, 0.3930510314875136, 0.3934782608695652, 0.3939064200217628, 0.39433551198257083, 0.39476553980370777, 0.3951965065502183, 0.39562841530054643, 0.39606126914660833, 0.3964950711938664, 0.3969298245614035, 0.3973655323819978, 0.3978021978021978, 0.39823982398239827, 0.3986784140969163, 0.39911797133406834, 0.3995584988962472, 0.4, 0.4004424778761062, 0.4008859357696567, 0.401330376940133, 0.4017758046614872, 0.4022222222222222, 0.40266963292547275, 0.40311804008908686, 0.4035674470457079, 0.40401785714285715, 0.4044692737430168, 0.40492170022371365, 0.4053751399776036, 0.40582959641255606, 0.4062850729517396, 0.4067415730337079, 0.40719910011248595, 0.40765765765765766, 0.4081172491544532, 0.40857787810383744, 0.4090395480225989, 0.4095022624434389, 0.4099660249150623, 0.409297052154195, 0.4097616345062429, 0.4102272727272727, 0.41069397042093286, 0.41116173120728927, 0.41163055872291904, 0.4121004566210046, 0.4125714285714286, 0.41304347826086957, 0.413516609392898, 0.4139908256880734, 0.41446613088404133, 0.4149425287356322, 0.4142692750287687, 0.4147465437788018, 0.41522491349480967, 0.41570438799076215, 0.4161849710982659, 0.41550925925925924, 0.4159907300115875, 0.41647331786542924, 0.4169570267131243, 0.4174418604651163, 0.4179278230500582, 0.4172494172494173, 0.41656942823803966, 0.41705607476635514, 0.41637426900584795, 0.4168618266978923, 0.41735052754982416, 0.41784037558685444, 0.418331374853114, 0.4188235294117647, 0.4193168433451119, 0.419811320754717, 0.4203069657615112, 0.42080378250591016, 0.421301775147929, 0.4206161137440758, 0.4211150652431791, 0.42161520190023755, 0.4221165279429251, 0.4226190476190476, 0.4231227651966627, 0.4236276849642005, 0.4241338112305854, 0.4246411483253589, 0.4251497005988024, 0.42565947242206237, 0.4261704681872749, 0.4266826923076923, 0.4259927797833935, 0.42650602409638555, 0.4270205066344994, 0.427536231884058, 0.4268440145102781, 0.4261501210653753, 0.4266666666666667, 0.42597087378640774, 0.4264884568651276, 0.42700729927007297, 0.42752740560292324, 0.42804878048780487, 0.42857142857142855, 0.4290953545232274, 0.42962056303549573, 0.42892156862745096, 0.4294478527607362, 0.42997542997543, 0.43050430504305043, 0.43103448275862066, 0.43033292231812575, 0.42962962962962964, 0.43016069221260816, 0.4306930693069307, 0.4312267657992565, 0.4317617866004963, 0.43105590062111804, 0.43159203980099503, 0.43212951432129515, 0.43266832917705733, 0.4332084893882647, 0.43375, 0.43429286608260326, 0.4348370927318296, 0.4353826850690088, 0.435929648241206, 0.43647798742138366, 0.43702770780856426, 0.43757881462799497, 0.43686868686868685, 0.43742098609355246, 0.4379746835443038, 0.4385297845373891, 0.43908629441624364, 0.43964421855146124, 0.4402035623409669, 0.4407643312101911, 0.4413265306122449, 0.44189016602809705, 0.4424552429667519, 0.44302176696542894, 0.44358974358974357, 0.4441591784338896, 0.44473007712082263, 0.4453024453024453, 0.44458762886597936, 0.44516129032258067, 0.44573643410852715, 0.445019404915912, 0.44430051813471505, 0.44487678339818415, 0.44415584415584414, 0.4447334200260078, 0.4453125, 0.44589308996088656, 0.4464751958224543, 0.4470588235294118, 0.4476439790575916, 0.44823066841415465, 0.44881889763779526, 0.44940867279894875, 0.45, 0.4505928853754941, 0.45118733509234826, 0.45178335535006603, 0.4523809523809524, 0.45298013245033114, 0.45225464190981435, 0.45285524568393093, 0.4521276595744681, 0.45139813581890814, 0.452, 0.45260347129506007, 0.4532085561497326, 0.4538152610441767, 0.45308310991957107, 0.45369127516778524, 0.4543010752688172, 0.4549125168236878, 0.4555256064690027, 0.45614035087719296, 0.45675675675675675, 0.45737483085250336, 0.45799457994579945, 0.45861601085481685, 0.4592391304347826, 0.4598639455782313, 0.4591280653950954, 0.4597544338335607, 0.4603825136612022, 0.46101231190150477, 0.46164383561643835, 0.4609053497942387, 0.46153846153846156, 0.4621733149931224, 0.4628099173553719, 0.463448275862069, 0.46408839779005523, 0.46473029045643155, 0.46537396121883656, 0.4646324549237171, 0.4652777777777778, 0.4659248956884562, 0.46518105849582175, 0.46582984658298465, 0.4664804469273743, 0.4671328671328671, 0.4677871148459384, 0.4684431977559607, 0.4691011235955056, 0.469760900140647, 0.4704225352112676, 0.4696755994358251, 0.4703389830508475, 0.471004243281471, 0.471671388101983, 0.4723404255319149, 0.47301136363636365, 0.47368421052631576, 0.47293447293447294, 0.47360912981455067, 0.4742857142857143, 0.474964234620887, 0.47564469914040114, 0.4763271162123386, 0.47701149425287354, 0.4762589928057554, 0.4769452449567723, 0.47763347763347763, 0.47832369942196534, 0.47901591895803186, 0.4797101449275362, 0.48040638606676345, 0.4811046511627907, 0.48180494905385735, 0.48104956268221577, 0.48175182481751827, 0.48099415204678364, 0.4816983894582723, 0.48240469208211145, 0.48164464023494863, 0.4823529411764706, 0.48306332842415317, 0.4837758112094395, 0.4844903988183161, 0.48520710059171596, 0.48592592592592593, 0.486646884272997, 0.487369985141159, 0.4880952380952381, 0.488822652757079, 0.48955223880597015, 0.48878923766816146, 0.48952095808383234, 0.49025487256371814, 0.49099099099099097, 0.49022556390977445, 0.49096385542168675, 0.4917043740573152, 0.4909365558912387, 0.49016641452344933, 0.4909090909090909, 0.49165402124430957, 0.49240121580547114, 0.4931506849315068, 0.49390243902439024, 0.4946564885496183, 0.4954128440366973, 0.49617151607963245, 0.49693251533742333, 0.4976958525345622, 0.4969230769230769, 0.49768875192604006, 0.4984567901234568, 0.4992272024729521, 0.5, 0.5007751937984496, 0.5015527950310559, 0.5023328149300156, 0.5015576323987538, 0.500780031201248, 0.5015625, 0.5007824726134585, 0.5015673981191222, 0.5023547880690737, 0.5031446540880503, 0.5023622047244094, 0.501577287066246, 0.5023696682464455, 0.5031645569620253, 0.5039619651347068, 0.5047619047619047, 0.505564387917329, 0.5047770700636943, 0.5039872408293461, 0.5047923322683706, 0.5056, 0.5048076923076923, 0.5056179775280899, 0.5064308681672026, 0.5072463768115942, 0.5064516129032258, 0.5072697899838449, 0.5080906148867314, 0.5072933549432739, 0.5081168831168831, 0.5089430894308943, 0.509771986970684, 0.5106035889070146, 0.511437908496732, 0.5122749590834698, 0.5131147540983606, 0.5139573070607554, 0.5148026315789473, 0.515650741350906, 0.5165016501650165, 0.515702479338843, 0.5165562913907285, 0.5157545605306799, 0.5166112956810631, 0.5174708818635607, 0.5183333333333333, 0.5191986644407346, 0.5183946488294314, 0.5175879396984925, 0.5167785234899329, 0.5159663865546219, 0.5151515151515151, 0.5143338954468802, 0.5135135135135135, 0.5143824027072758, 0.5152542372881356, 0.5161290322580645, 0.5170068027210885, 0.5161839863713799, 0.5170648464163823, 0.517948717948718, 0.5188356164383562, 0.5197255574614065, 0.520618556701031, 0.5197934595524957, 0.5206896551724138, 0.5215889464594128, 0.5224913494809689, 0.5233968804159446, 0.5243055555555556, 0.5252173913043479, 0.524390243902439, 0.5235602094240838, 0.5244755244755245, 0.5253940455341506, 0.5263157894736842, 0.5272407732864675, 0.528169014084507, 0.5291005291005291, 0.5282685512367491, 0.5274336283185841, 0.526595744680851, 0.5275310834813499, 0.5284697508896797, 0.5294117647058824, 0.5303571428571429, 0.5313059033989267, 0.5304659498207885, 0.5314183123877917, 0.5323741007194245, 0.5333333333333333, 0.5324909747292419, 0.5334538878842676, 0.532608695652174, 0.5335753176043557, 0.5345454545454545, 0.5355191256830601, 0.5364963503649635, 0.5374771480804388, 0.5384615384615384, 0.5394495412844037, 0.5404411764705882, 0.5395948434622467, 0.5387453874538746, 0.5397412199630314, 0.5388888888888889, 0.5398886827458256, 0.5390334572490706, 0.5381750465549349, 0.539179104477612, 0.5401869158878505, 0.5393258426966292, 0.5403377110694184, 0.5413533834586466, 0.5404896421845574, 0.5415094339622641, 0.5406427221172023, 0.5397727272727273, 0.540796963946869, 0.5418250950570342, 0.540952380952381, 0.5419847328244275, 0.5430210325047801, 0.5440613026819924, 0.54510556621881, 0.5461538461538461, 0.5472061657032755, 0.5482625482625483, 0.5473887814313346, 0.5465116279069767, 0.545631067961165, 0.546692607003891, 0.5477582846003899, 0.548828125, 0.5499021526418787, 0.5509803921568628, 0.5520628683693517, 0.5511811023622047, 0.5522682445759369, 0.5533596837944664, 0.5524752475247525, 0.5535714285714286, 0.5546719681908548, 0.5557768924302788, 0.5568862275449101, 0.558, 0.5591182364729459, 0.5602409638554217, 0.5593561368209256, 0.5584677419354839, 0.5575757575757576, 0.5566801619433198, 0.5578093306288032, 0.556910569105691, 0.5580448065173116, 0.5591836734693878, 0.5603271983640081, 0.5594262295081968, 0.5585215605749486, 0.5596707818930041, 0.5587628865979382, 0.5599173553719008, 0.5610766045548654, 0.5622406639004149, 0.5634095634095634, 0.5625, 0.5636743215031316, 0.5648535564853556, 0.5639412997903563, 0.5651260504201681, 0.5663157894736842, 0.5675105485232067, 0.5665961945031712, 0.5677966101694916, 0.5690021231422505, 0.5680851063829787, 0.5671641791044776, 0.5683760683760684, 0.569593147751606, 0.5708154506437768, 0.5720430107526882, 0.5711206896551724, 0.572354211663067, 0.5714285714285714, 0.5726681127982647, 0.5739130434782609, 0.5729847494553377, 0.5720524017467249, 0.5711159737417943, 0.5701754385964912, 0.5692307692307692, 0.5682819383259912, 0.5695364238410596, 0.5685840707964602, 0.5698447893569845, 0.5711111111111111, 0.5723830734966593, 0.5736607142857143, 0.5749440715883669, 0.5739910313901345, 0.5730337078651685, 0.5720720720720721, 0.5711060948081265, 0.5723981900452488, 0.5736961451247166, 0.5727272727272728, 0.5740318906605922, 0.5753424657534246, 0.5766590389016019, 0.5779816513761468, 0.5793103448275863, 0.5783410138248848, 0.5796766743648961, 0.5810185185185185, 0.5823665893271461, 0.5837209302325581, 0.5827505827505828, 0.5817757009345794, 0.5831381733021077, 0.5845070422535211, 0.5835294117647059, 0.5849056603773585, 0.5862884160756501, 0.5876777251184834, 0.5890736342042755, 0.5880952380952381, 0.5894988066825776, 0.5885167464114832, 0.5875299760191847, 0.5865384615384616, 0.5855421686746988, 0.5869565217391305, 0.585956416464891, 0.5849514563106796, 0.5863746958637469, 0.5853658536585366, 0.5843520782396088, 0.5833333333333334, 0.5847665847665847, 0.5862068965517241, 0.5876543209876544, 0.5891089108910891, 0.5905707196029777, 0.5895522388059702, 0.5885286783042394, 0.59, 0.5914786967418546, 0.5904522613065326, 0.5919395465994962, 0.5934343434343434, 0.5924050632911393, 0.5913705583756346, 0.5928753180661578, 0.5943877551020408, 0.5959079283887468, 0.5948717948717949, 0.596401028277635, 0.5979381443298969, 0.599483204134367, 0.5984455958549223, 0.5974025974025974, 0.5963541666666666, 0.5953002610966057, 0.5968586387434555, 0.5984251968503937, 0.6, 0.5989445910290238, 0.6005291005291006, 0.5994694960212201, 0.598404255319149, 0.5973333333333334, 0.5989304812834224, 0.6005361930294906, 0.6021505376344086, 0.6037735849056604, 0.6054054054054054, 0.6070460704607046, 0.6086956521739131, 0.6103542234332425, 0.6120218579234973, 0.6136986301369863, 0.6126373626373627, 0.6115702479338843, 0.6132596685082873, 0.6149584487534626, 0.6166666666666667, 0.6155988857938719, 0.61731843575419, 0.6162464985994398, 0.6179775280898876, 0.6197183098591549, 0.6186440677966102, 0.6203966005665722, 0.6193181818181818, 0.6210826210826211, 0.62, 0.6217765042979942, 0.6206896551724138, 0.622478386167147, 0.6242774566473989, 0.6231884057971014, 0.625, 0.6239067055393586, 0.6228070175438597, 0.624633431085044, 0.6235294117647059, 0.6224188790560472, 0.6242603550295858, 0.6231454005934718, 0.6220238095238095, 0.6208955223880597, 0.6197604790419161, 0.6186186186186187, 0.6204819277108434, 0.6193353474320241, 0.6212121212121212, 0.6231003039513677, 0.6219512195121951, 0.6207951070336392, 0.6196319018404908, 0.6184615384615385, 0.6172839506172839, 0.6160990712074303, 0.6180124223602484, 0.6199376947040498, 0.61875, 0.6175548589341693, 0.6163522012578616, 0.6151419558359621, 0.6170886075949367, 0.6190476190476191, 0.6178343949044586, 0.6198083067092651, 0.6217948717948718, 0.6205787781350482, 0.6193548387096774, 0.6213592233009708, 0.6201298701298701, 0.6221498371335505, 0.6209150326797386, 0.6196721311475409, 0.6217105263157895, 0.6204620462046204, 0.6225165562913907, 0.6212624584717608, 0.62, 0.6220735785953178, 0.6208053691275168, 0.622895622895623, 0.625, 0.6237288135593221, 0.6224489795918368, 0.6245733788395904, 0.6267123287671232, 0.6288659793814433, 0.6275862068965518, 0.629757785467128, 0.6319444444444444, 0.6306620209059234, 0.6293706293706294, 0.6280701754385964, 0.6267605633802817, 0.6254416961130742, 0.6276595744680851, 0.6263345195729537, 0.6285714285714286, 0.6272401433691757, 0.6258992805755396, 0.6245487364620939, 0.6268115942028986, 0.6290909090909091, 0.6313868613138686, 0.6336996336996337, 0.6323529411764706, 0.6346863468634686, 0.6370370370370371, 0.6356877323420075, 0.6343283582089553, 0.6329588014981273, 0.631578947368421, 0.6339622641509434, 0.6325757575757576, 0.6311787072243346, 0.6297709923664122, 0.632183908045977, 0.6307692307692307, 0.6332046332046332, 0.6356589147286822, 0.6381322957198443, 0.63671875, 0.6352941176470588, 0.6377952755905512, 0.6363636363636364, 0.6388888888888888, 0.6414342629482072, 0.644, 0.642570281124498, 0.6451612903225806, 0.6437246963562753, 0.6463414634146342, 0.6448979591836734, 0.6434426229508197, 0.6419753086419753, 0.6446280991735537, 0.6431535269709544, 0.6416666666666667, 0.6443514644351465, 0.6470588235294118, 0.6497890295358649, 0.652542372881356, 0.6510638297872341, 0.6495726495726496, 0.6523605150214592, 0.6551724137931034, 0.6536796536796536, 0.6521739130434783, 0.6506550218340611, 0.6491228070175439, 0.6475770925110133, 0.6504424778761062, 0.6488888888888888, 0.6517857142857143, 0.6547085201793722, 0.6576576576576577, 0.6561085972850679, 0.6545454545454545, 0.6575342465753424, 0.6559633027522935, 0.6589861751152074, 0.6574074074074074, 0.6604651162790698, 0.6588785046728972, 0.6619718309859155, 0.660377358490566, 0.6587677725118484, 0.6571428571428571, 0.6555023923444976, 0.6586538461538461, 0.6618357487922706, 0.6601941747572816, 0.6585365853658537, 0.6617647058823529, 0.6600985221674877, 0.6584158415841584, 0.6616915422885572, 0.665, 0.6683417085427136, 0.6666666666666666, 0.6649746192893401, 0.6683673469387755, 0.6666666666666666, 0.6649484536082474, 0.6683937823834197, 0.6666666666666666, 0.6701570680628273, 0.6736842105263158, 0.671957671957672, 0.675531914893617, 0.6737967914438503, 0.6720430107526881, 0.6756756756756757, 0.6793478260869565, 0.6830601092896175, 0.6813186813186813, 0.6795580110497238, 0.6777777777777778, 0.6815642458100558, 0.6853932584269663, 0.6892655367231638, 0.6875, 0.6857142857142857, 0.6896551724137931, 0.6936416184971098, 0.6918604651162791, 0.6900584795321637, 0.6882352941176471, 0.6863905325443787, 0.6904761904761905, 0.688622754491018, 0.6927710843373494, 0.696969696969697, 0.7012195121951219, 0.6993865030674846, 0.6975308641975309, 0.7018633540372671, 0.7, 0.6981132075471698, 0.6962025316455697, 0.7006369426751592, 0.6987179487179487, 0.6967741935483871, 0.6948051948051948, 0.6928104575163399, 0.6973684210526315, 0.695364238410596, 0.6933333333333334, 0.697986577181208, 0.6959459459459459, 0.6938775510204082, 0.6917808219178082, 0.696551724137931, 0.6944444444444444, 0.6923076923076923, 0.6901408450704225, 0.6879432624113475, 0.6857142857142857, 0.6906474820143885, 0.6956521739130435, 0.7007299270072993, 0.6985294117647058, 0.6962962962962963, 0.6940298507462687, 0.6917293233082706, 0.696969696969697, 0.6946564885496184, 0.7, 0.6976744186046512, 0.703125, 0.7007874015748031, 0.6984126984126984, 0.696, 0.7016129032258065, 0.6991869918699187, 0.7049180327868853, 0.7107438016528925, 0.7166666666666667, 0.7226890756302521, 0.7203389830508474, 0.717948717948718, 0.7155172413793104, 0.7130434782608696, 0.7105263157894737, 0.7168141592920354, 0.7232142857142857, 0.7297297297297297, 0.7363636363636363, 0.7339449541284404, 0.7407407407407407, 0.7383177570093458, 0.7452830188679245, 0.7428571428571429, 0.75, 0.7475728155339806, 0.7450980392156863, 0.7425742574257426, 0.74, 0.7373737373737373, 0.7448979591836735, 0.7525773195876289, 0.75, 0.7578947368421053, 0.7553191489361702, 0.7634408602150538, 0.7717391304347826, 0.7692307692307693, 0.7777777777777778, 0.7752808988764045, 0.7727272727272727, 0.7816091954022989, 0.7906976744186046, 0.8, 0.8095238095238095, 0.8072289156626506, 0.8170731707317073, 0.8148148148148148, 0.8125, 0.810126582278481, 0.8076923076923077, 0.8051948051948052, 0.8026315789473685, 0.8133333333333334, 0.8108108108108109, 0.821917808219178, 0.8194444444444444, 0.8309859154929577, 0.8285714285714286, 0.8260869565217391, 0.8235294117647058, 0.8208955223880597, 0.8181818181818182, 0.8153846153846154, 0.8125, 0.8253968253968254, 0.8225806451612904, 0.819672131147541, 0.8333333333333334, 0.8305084745762712, 0.8275862068965517, 0.8245614035087719, 0.8214285714285714, 0.8181818181818182, 0.8148148148148148, 0.8301886792452831, 0.8269230769230769, 0.8235294117647058, 0.82, 0.8163265306122449, 0.8125, 0.8085106382978723, 0.8043478260869565, 0.8, 0.7954545454545454, 0.813953488372093, 0.8095238095238095, 0.8048780487804879, 0.8, 0.7948717948717948, 0.8157894736842105, 0.8108108108108109, 0.8333333333333334, 0.8285714285714286, 0.8235294117647058, 0.8181818181818182, 0.8125, 0.8064516129032258, 0.8, 0.7931034482758621, 0.7857142857142857, 0.7777777777777778, 0.8076923076923077, 0.8, 0.7916666666666666, 0.782608695652174, 0.7727272727272727, 0.7619047619047619, 0.75, 0.7894736842105263, 0.8333333333333334, 0.8235294117647058, 0.8125, 0.8, 0.7857142857142857, 0.7692307692307693, 0.75, 0.8181818181818182, 0.8, 0.7777777777777778, 0.75, 0.7142857142857143, 0.8333333333333334, 0.8, 0.75, 1.0, 1.0, 1.0, 1.0]}, {\"mode\": \"lines\", \"name\": \"KNN\", \"type\": \"scatter\", \"x\": [1.0, 0.9652406417112299, 0.9144385026737968, 0.8422459893048129, 0.7513368983957219, 0.6497326203208557, 0.47593582887700536, 0.21390374331550802, 0.0], \"y\": [0.2658137882018479, 0.3602794411177645, 0.40046838407494145, 0.4350828729281768, 0.4714765100671141, 0.5094339622641509, 0.5894039735099338, 0.6106870229007634, 1.0]}, {\"mode\": \"lines\", \"name\": \"DT\", \"type\": \"scatter\", \"x\": [1.0, 0.8957219251336899, 0.8903743315508021, 0.8823529411764706, 0.8770053475935828, 0.8770053475935828, 0.8743315508021391, 0.8743315508021391, 0.8689839572192514, 0.8689839572192514, 0.8689839572192514, 0.8663101604278075, 0.8636363636363636, 0.8556149732620321, 0.8556149732620321, 0.8502673796791443, 0.8422459893048129, 0.839572192513369, 0.839572192513369, 0.8342245989304813, 0.8262032085561497, 0.8235294117647058, 0.8235294117647058, 0.820855614973262, 0.8128342245989305, 0.8074866310160428, 0.7967914438502673, 0.7941176470588235, 0.7834224598930482, 0.7834224598930482, 0.7754010695187166, 0.7727272727272727, 0.7727272727272727, 0.7727272727272727, 0.7727272727272727, 0.7727272727272727, 0.7727272727272727, 0.7727272727272727, 0.7620320855614974, 0.7593582887700535, 0.7486631016042781, 0.7352941176470589, 0.732620320855615, 0.713903743315508, 0.7032085561497327, 0.6978609625668449, 0.6925133689839572, 0.6871657754010695, 0.6871657754010695, 0.6844919786096256, 0.6737967914438503, 0.6657754010695187, 0.660427807486631, 0.6524064171122995, 0.6524064171122995, 0.6417112299465241, 0.6310160427807486, 0.6042780748663101, 0.6042780748663101, 0.5962566844919787, 0.5935828877005348, 0.5935828877005348, 0.5935828877005348, 0.5775401069518716, 0.5748663101604278, 0.5721925133689839, 0.5454545454545454, 0.5454545454545454, 0.5374331550802139, 0.4572192513368984, 0.43315508021390375, 0.3449197860962567, 0.3342245989304813, 0.32085561497326204, 0.3074866310160428, 0.2994652406417112, 0.2967914438502674, 0.21657754010695188, 0.19518716577540107, 0.18449197860962566, 0.18449197860962566, 0.14171122994652408, 0.12032085561497326, 0.11764705882352941, 0.040106951871657755, 0.0], \"y\": [0.2658137882018479, 0.40119760479041916, 0.40024038461538464, 0.4, 0.40097799511002447, 0.4019607843137255, 0.4022140221402214, 0.40823970037453183, 0.41613316261203587, 0.4166666666666667, 0.41827541827541825, 0.4268774703557312, 0.4261213720316623, 0.4272363150867824, 0.428380187416332, 0.4291497975708502, 0.43209876543209874, 0.4325068870523416, 0.43370165745856354, 0.4351464435146444, 0.4345991561181435, 0.43380281690140843, 0.43626062322946174, 0.43546099290780144, 0.43615494978479197, 0.4408759124087591, 0.44744744744744747, 0.4479638009049774, 0.4500768049155146, 0.4549689440993789, 0.45241809672386896, 0.45440251572327045, 0.4558359621451104, 0.45800316957210774, 0.4601910828025478, 0.46166134185303515, 0.4624, 0.4683954619124797, 0.47029702970297027, 0.4741235392320534, 0.47217537942664417, 0.47909407665505227, 0.4840989399293286, 0.48282097649186256, 0.4790528233151184, 0.47889908256880737, 0.47697974217311234, 0.4812734082397004, 0.4876660341555977, 0.4876190476190476, 0.4921875, 0.49015748031496065, 0.494, 0.49795918367346936, 0.5010266940451745, 0.5095541401273885, 0.5075268817204301, 0.510158013544018, 0.5113122171945701, 0.5234741784037559, 0.524822695035461, 0.5323741007194245, 0.5362318840579711, 0.54, 0.5402010050251256, 0.5390428211586902, 0.546916890080429, 0.5483870967741935, 0.5447154471544715, 0.5516129032258065, 0.5625, 0.5352697095435685, 0.5341880341880342, 0.5381165919282511, 0.5348837209302325, 0.5283018867924528, 0.5388349514563107, 0.4909090909090909, 0.46794871794871795, 0.47586206896551725, 0.4791666666666667, 0.42063492063492064, 0.39823008849557523, 0.4036697247706422, 0.2112676056338028, 1.0]}, {\"mode\": \"lines\", \"name\": \"SVC\", \"type\": \"scatter\", \"x\": [1.0, 0.9973262032085561, 0.9973262032085561, 0.9973262032085561, 0.9973262032085561, 0.9973262032085561, 0.9973262032085561, 0.9973262032085561, 0.9973262032085561, 0.9973262032085561, 0.9973262032085561, 0.9946524064171123, 0.9946524064171123, 0.9946524064171123, 0.9946524064171123, 0.9946524064171123, 0.9946524064171123, 0.9946524064171123, 0.9946524064171123, 0.9919786096256684, 0.9919786096256684, 0.9919786096256684, 0.9919786096256684, 0.9919786096256684, 0.9919786096256684, 0.9919786096256684, 0.9919786096256684, 0.9919786096256684, 0.9919786096256684, 0.9919786096256684, 0.9919786096256684, 0.9919786096256684, 0.9919786096256684, 0.9919786096256684, 0.9919786096256684, 0.9919786096256684, 0.9893048128342246, 0.9893048128342246, 0.9893048128342246, 0.9893048128342246, 0.9893048128342246, 0.9866310160427807, 0.9866310160427807, 0.9866310160427807, 0.9866310160427807, 0.9866310160427807, 0.9866310160427807, 0.9866310160427807, 0.9866310160427807, 0.9866310160427807, 0.9866310160427807, 0.9866310160427807, 0.9866310160427807, 0.9866310160427807, 0.9866310160427807, 0.9866310160427807, 0.9866310160427807, 0.9866310160427807, 0.9866310160427807, 0.9866310160427807, 0.9866310160427807, 0.9866310160427807, 0.9866310160427807, 0.9866310160427807, 0.9866310160427807, 0.9866310160427807, 0.9866310160427807, 0.9866310160427807, 0.9866310160427807, 0.9866310160427807, 0.9866310160427807, 0.983957219251337, 0.983957219251337, 0.983957219251337, 0.983957219251337, 0.983957219251337, 0.983957219251337, 0.983957219251337, 0.983957219251337, 0.983957219251337, 0.983957219251337, 0.983957219251337, 0.983957219251337, 0.983957219251337, 0.983957219251337, 0.983957219251337, 0.983957219251337, 0.983957219251337, 0.983957219251337, 0.983957219251337, 0.983957219251337, 0.983957219251337, 0.983957219251337, 0.983957219251337, 0.983957219251337, 0.983957219251337, 0.983957219251337, 0.983957219251337, 0.983957219251337, 0.983957219251337, 0.983957219251337, 0.983957219251337, 0.983957219251337, 0.983957219251337, 0.983957219251337, 0.983957219251337, 0.983957219251337, 0.983957219251337, 0.983957219251337, 0.983957219251337, 0.983957219251337, 0.983957219251337, 0.983957219251337, 0.983957219251337, 0.983957219251337, 0.9812834224598931, 0.9812834224598931, 0.9812834224598931, 0.9812834224598931, 0.9812834224598931, 0.9812834224598931, 0.9812834224598931, 0.9812834224598931, 0.9812834224598931, 0.9812834224598931, 0.9812834224598931, 0.9812834224598931, 0.9812834224598931, 0.9812834224598931, 0.9812834224598931, 0.9812834224598931, 0.9812834224598931, 0.9812834224598931, 0.9786096256684492, 0.9786096256684492, 0.9786096256684492, 0.9786096256684492, 0.9786096256684492, 0.9786096256684492, 0.9786096256684492, 0.9786096256684492, 0.9786096256684492, 0.9786096256684492, 0.9786096256684492, 0.9786096256684492, 0.9786096256684492, 0.9786096256684492, 0.9786096256684492, 0.9786096256684492, 0.9786096256684492, 0.9786096256684492, 0.9786096256684492, 0.9786096256684492, 0.9786096256684492, 0.9786096256684492, 0.9786096256684492, 0.9786096256684492, 0.9786096256684492, 0.9786096256684492, 0.9786096256684492, 0.9786096256684492, 0.9786096256684492, 0.9786096256684492, 0.9786096256684492, 0.9786096256684492, 0.9786096256684492, 0.9759358288770054, 0.9759358288770054, 0.9759358288770054, 0.9759358288770054, 0.9759358288770054, 0.9759358288770054, 0.9759358288770054, 0.9759358288770054, 0.9759358288770054, 0.9759358288770054, 0.9759358288770054, 0.9759358288770054, 0.9759358288770054, 0.9759358288770054, 0.9759358288770054, 0.9732620320855615, 0.9732620320855615, 0.9705882352941176, 0.9705882352941176, 0.9705882352941176, 0.9705882352941176, 0.9705882352941176, 0.9705882352941176, 0.9705882352941176, 0.9705882352941176, 0.9705882352941176, 0.9705882352941176, 0.9705882352941176, 0.9705882352941176, 0.9705882352941176, 0.9705882352941176, 0.9705882352941176, 0.9705882352941176, 0.9705882352941176, 0.9705882352941176, 0.9705882352941176, 0.9705882352941176, 0.9705882352941176, 0.9705882352941176, 0.9705882352941176, 0.9705882352941176, 0.9705882352941176, 0.9705882352941176, 0.9705882352941176, 0.9705882352941176, 0.9705882352941176, 0.9705882352941176, 0.9705882352941176, 0.9705882352941176, 0.9705882352941176, 0.9705882352941176, 0.9679144385026738, 0.9679144385026738, 0.9679144385026738, 0.9679144385026738, 0.9679144385026738, 0.9679144385026738, 0.9679144385026738, 0.9679144385026738, 0.9679144385026738, 0.9679144385026738, 0.9679144385026738, 0.9679144385026738, 0.9679144385026738, 0.9679144385026738, 0.9652406417112299, 0.9652406417112299, 0.9652406417112299, 0.9652406417112299, 0.9652406417112299, 0.9625668449197861, 0.9625668449197861, 0.9625668449197861, 0.9625668449197861, 0.9625668449197861, 0.9625668449197861, 0.9625668449197861, 0.9625668449197861, 0.9625668449197861, 0.9625668449197861, 0.9625668449197861, 0.9625668449197861, 0.9625668449197861, 0.9625668449197861, 0.9625668449197861, 0.9625668449197861, 0.9598930481283422, 0.9598930481283422, 0.9598930481283422, 0.9598930481283422, 0.9598930481283422, 0.9598930481283422, 0.9598930481283422, 0.9598930481283422, 0.9598930481283422, 0.9598930481283422, 0.9598930481283422, 0.9598930481283422, 0.9598930481283422, 0.9598930481283422, 0.9598930481283422, 0.9598930481283422, 0.9598930481283422, 0.9598930481283422, 0.9598930481283422, 0.9598930481283422, 0.9598930481283422, 0.9598930481283422, 0.9598930481283422, 0.9598930481283422, 0.9598930481283422, 0.9572192513368984, 0.9572192513368984, 0.9572192513368984, 0.9572192513368984, 0.9572192513368984, 0.9545454545454546, 0.9545454545454546, 0.9545454545454546, 0.9518716577540107, 0.9518716577540107, 0.9518716577540107, 0.9518716577540107, 0.9518716577540107, 0.9518716577540107, 0.9518716577540107, 0.9518716577540107, 0.9518716577540107, 0.9518716577540107, 0.9518716577540107, 0.9518716577540107, 0.9518716577540107, 0.9518716577540107, 0.9518716577540107, 0.9518716577540107, 0.9518716577540107, 0.9518716577540107, 0.9491978609625669, 0.9491978609625669, 0.9491978609625669, 0.946524064171123, 0.946524064171123, 0.946524064171123, 0.946524064171123, 0.946524064171123, 0.946524064171123, 0.946524064171123, 0.946524064171123, 0.946524064171123, 0.946524064171123, 0.946524064171123, 0.946524064171123, 0.946524064171123, 0.946524064171123, 0.946524064171123, 0.946524064171123, 0.946524064171123, 0.946524064171123, 0.946524064171123, 0.9438502673796791, 0.9438502673796791, 0.9438502673796791, 0.9438502673796791, 0.9438502673796791, 0.9438502673796791, 0.9411764705882353, 0.9411764705882353, 0.9411764705882353, 0.9411764705882353, 0.9411764705882353, 0.9411764705882353, 0.9411764705882353, 0.9411764705882353, 0.9385026737967914, 0.9385026737967914, 0.9385026737967914, 0.9385026737967914, 0.9385026737967914, 0.9385026737967914, 0.9358288770053476, 0.9358288770053476, 0.9331550802139037, 0.9331550802139037, 0.9331550802139037, 0.9331550802139037, 0.9331550802139037, 0.9331550802139037, 0.9331550802139037, 0.9331550802139037, 0.9331550802139037, 0.9331550802139037, 0.9331550802139037, 0.9331550802139037, 0.9331550802139037, 0.9331550802139037, 0.9331550802139037, 0.9331550802139037, 0.9331550802139037, 0.9331550802139037, 0.9331550802139037, 0.9331550802139037, 0.93048128342246, 0.93048128342246, 0.93048128342246, 0.93048128342246, 0.93048128342246, 0.93048128342246, 0.93048128342246, 0.93048128342246, 0.93048128342246, 0.93048128342246, 0.93048128342246, 0.93048128342246, 0.93048128342246, 0.93048128342246, 0.93048128342246, 0.93048128342246, 0.93048128342246, 0.93048128342246, 0.93048128342246, 0.93048128342246, 0.93048128342246, 0.93048128342246, 0.93048128342246, 0.93048128342246, 0.93048128342246, 0.93048128342246, 0.93048128342246, 0.93048128342246, 0.93048128342246, 0.93048128342246, 0.9278074866310161, 0.9278074866310161, 0.9278074866310161, 0.9278074866310161, 0.9278074866310161, 0.9251336898395722, 0.9251336898395722, 0.9224598930481284, 0.9224598930481284, 0.9224598930481284, 0.9224598930481284, 0.9224598930481284, 0.9224598930481284, 0.9224598930481284, 0.9224598930481284, 0.9224598930481284, 0.9224598930481284, 0.9224598930481284, 0.9224598930481284, 0.9224598930481284, 0.9224598930481284, 0.9224598930481284, 0.9224598930481284, 0.9224598930481284, 0.9224598930481284, 0.9224598930481284, 0.9224598930481284, 0.9224598930481284, 0.9224598930481284, 0.9224598930481284, 0.9224598930481284, 0.9224598930481284, 0.9224598930481284, 0.9197860962566845, 0.9197860962566845, 0.9197860962566845, 0.9197860962566845, 0.9197860962566845, 0.9197860962566845, 0.9197860962566845, 0.9197860962566845, 0.9197860962566845, 0.9171122994652406, 0.9171122994652406, 0.9171122994652406, 0.9171122994652406, 0.9144385026737968, 0.9144385026737968, 0.9117647058823529, 0.9117647058823529, 0.9090909090909091, 0.9090909090909091, 0.9090909090909091, 0.9090909090909091, 0.9090909090909091, 0.9090909090909091, 0.9090909090909091, 0.9090909090909091, 0.9090909090909091, 0.9064171122994652, 0.9064171122994652, 0.9064171122994652, 0.9064171122994652, 0.9064171122994652, 0.9064171122994652, 0.9064171122994652, 0.9064171122994652, 0.9037433155080213, 0.9037433155080213, 0.9037433155080213, 0.9037433155080213, 0.9037433155080213, 0.9037433155080213, 0.9037433155080213, 0.9037433155080213, 0.9037433155080213, 0.9037433155080213, 0.9037433155080213, 0.9037433155080213, 0.9037433155080213, 0.9037433155080213, 0.9010695187165776, 0.9010695187165776, 0.9010695187165776, 0.9010695187165776, 0.9010695187165776, 0.9010695187165776, 0.9010695187165776, 0.9010695187165776, 0.9010695187165776, 0.9010695187165776, 0.8983957219251337, 0.8983957219251337, 0.8983957219251337, 0.8983957219251337, 0.8983957219251337, 0.8983957219251337, 0.8983957219251337, 0.8983957219251337, 0.8983957219251337, 0.8983957219251337, 0.8957219251336899, 0.8957219251336899, 0.8957219251336899, 0.8957219251336899, 0.8957219251336899, 0.8957219251336899, 0.8957219251336899, 0.893048128342246, 0.893048128342246, 0.893048128342246, 0.893048128342246, 0.893048128342246, 0.893048128342246, 0.8903743315508021, 0.8903743315508021, 0.8903743315508021, 0.8903743315508021, 0.8877005347593583, 0.8850267379679144, 0.8850267379679144, 0.8850267379679144, 0.8823529411764706, 0.8823529411764706, 0.8823529411764706, 0.8823529411764706, 0.8823529411764706, 0.8823529411764706, 0.8823529411764706, 0.8823529411764706, 0.8823529411764706, 0.8823529411764706, 0.8823529411764706, 0.8796791443850267, 0.8770053475935828, 0.8770053475935828, 0.8743315508021391, 0.8743315508021391, 0.8743315508021391, 0.8743315508021391, 0.8743315508021391, 0.8743315508021391, 0.8743315508021391, 0.8716577540106952, 0.8716577540106952, 0.8689839572192514, 0.8663101604278075, 0.8663101604278075, 0.8636363636363636, 0.8636363636363636, 0.8636363636363636, 0.8636363636363636, 0.8636363636363636, 0.8636363636363636, 0.8636363636363636, 0.8636363636363636, 0.8636363636363636, 0.8636363636363636, 0.8636363636363636, 0.8636363636363636, 0.8609625668449198, 0.8609625668449198, 0.8609625668449198, 0.8609625668449198, 0.8582887700534759, 0.8582887700534759, 0.8582887700534759, 0.8582887700534759, 0.8582887700534759, 0.8582887700534759, 0.8582887700534759, 0.8582887700534759, 0.8582887700534759, 0.8582887700534759, 0.8582887700534759, 0.8582887700534759, 0.8582887700534759, 0.8582887700534759, 0.8556149732620321, 0.8556149732620321, 0.8556149732620321, 0.8556149732620321, 0.8529411764705882, 0.8529411764705882, 0.8529411764705882, 0.8529411764705882, 0.8529411764705882, 0.8529411764705882, 0.8529411764705882, 0.8529411764705882, 0.8529411764705882, 0.8502673796791443, 0.8502673796791443, 0.8502673796791443, 0.8502673796791443, 0.8502673796791443, 0.8502673796791443, 0.8475935828877005, 0.8475935828877005, 0.8475935828877005, 0.8449197860962567, 0.8449197860962567, 0.8449197860962567, 0.8449197860962567, 0.8449197860962567, 0.8449197860962567, 0.8449197860962567, 0.8449197860962567, 0.8449197860962567, 0.8449197860962567, 0.8449197860962567, 0.8449197860962567, 0.8449197860962567, 0.8449197860962567, 0.8449197860962567, 0.8449197860962567, 0.8422459893048129, 0.8422459893048129, 0.8422459893048129, 0.839572192513369, 0.8368983957219251, 0.8368983957219251, 0.8368983957219251, 0.8342245989304813, 0.8342245989304813, 0.8342245989304813, 0.8342245989304813, 0.8342245989304813, 0.8342245989304813, 0.8315508021390374, 0.8288770053475936, 0.8288770053475936, 0.8262032085561497, 0.8262032085561497, 0.8262032085561497, 0.8262032085561497, 0.8262032085561497, 0.8262032085561497, 0.8262032085561497, 0.8262032085561497, 0.8262032085561497, 0.8235294117647058, 0.8235294117647058, 0.820855614973262, 0.8181818181818182, 0.8181818181818182, 0.8181818181818182, 0.8181818181818182, 0.8181818181818182, 0.8155080213903744, 0.8155080213903744, 0.8155080213903744, 0.8155080213903744, 0.8155080213903744, 0.8155080213903744, 0.8128342245989305, 0.8128342245989305, 0.8101604278074866, 0.8101604278074866, 0.8101604278074866, 0.8101604278074866, 0.8101604278074866, 0.8101604278074866, 0.8101604278074866, 0.8101604278074866, 0.8101604278074866, 0.8074866310160428, 0.8074866310160428, 0.8074866310160428, 0.8074866310160428, 0.8048128342245989, 0.8021390374331551, 0.8021390374331551, 0.8021390374331551, 0.8021390374331551, 0.8021390374331551, 0.8021390374331551, 0.8021390374331551, 0.8021390374331551, 0.8021390374331551, 0.8021390374331551, 0.8021390374331551, 0.7994652406417112, 0.7994652406417112, 0.7994652406417112, 0.7967914438502673, 0.7967914438502673, 0.7967914438502673, 0.7967914438502673, 0.7941176470588235, 0.7941176470588235, 0.7914438502673797, 0.7914438502673797, 0.7887700534759359, 0.786096256684492, 0.7834224598930482, 0.7834224598930482, 0.7834224598930482, 0.7834224598930482, 0.7834224598930482, 0.7834224598930482, 0.7834224598930482, 0.7807486631016043, 0.7780748663101604, 0.7780748663101604, 0.7780748663101604, 0.7780748663101604, 0.7780748663101604, 0.7754010695187166, 0.7754010695187166, 0.7754010695187166, 0.7727272727272727, 0.7727272727272727, 0.7727272727272727, 0.7727272727272727, 0.7700534759358288, 0.7700534759358288, 0.7700534759358288, 0.7700534759358288, 0.7700534759358288, 0.7700534759358288, 0.7700534759358288, 0.767379679144385, 0.767379679144385, 0.767379679144385, 0.767379679144385, 0.7647058823529411, 0.7620320855614974, 0.7620320855614974, 0.7620320855614974, 0.7593582887700535, 0.7593582887700535, 0.7566844919786097, 0.7566844919786097, 0.7566844919786097, 0.7566844919786097, 0.7566844919786097, 0.7566844919786097, 0.7566844919786097, 0.7566844919786097, 0.7566844919786097, 0.7566844919786097, 0.7566844919786097, 0.7566844919786097, 0.7540106951871658, 0.7513368983957219, 0.7486631016042781, 0.7486631016042781, 0.7486631016042781, 0.7486631016042781, 0.7459893048128342, 0.7459893048128342, 0.7459893048128342, 0.7459893048128342, 0.7459893048128342, 0.7459893048128342, 0.7433155080213903, 0.7433155080213903, 0.7433155080213903, 0.7433155080213903, 0.7433155080213903, 0.7433155080213903, 0.7406417112299465, 0.7406417112299465, 0.7379679144385026, 0.7379679144385026, 0.7379679144385026, 0.7352941176470589, 0.732620320855615, 0.732620320855615, 0.732620320855615, 0.7299465240641712, 0.7272727272727273, 0.7245989304812834, 0.7219251336898396, 0.7219251336898396, 0.7219251336898396, 0.7219251336898396, 0.7192513368983957, 0.7192513368983957, 0.7192513368983957, 0.7192513368983957, 0.7165775401069518, 0.713903743315508, 0.713903743315508, 0.7112299465240641, 0.7112299465240641, 0.7085561497326203, 0.7058823529411765, 0.7058823529411765, 0.7032085561497327, 0.7032085561497327, 0.7032085561497327, 0.7032085561497327, 0.7032085561497327, 0.7032085561497327, 0.7005347593582888, 0.7005347593582888, 0.6978609625668449, 0.6978609625668449, 0.6951871657754011, 0.6951871657754011, 0.6951871657754011, 0.6925133689839572, 0.6925133689839572, 0.6925133689839572, 0.6925133689839572, 0.6898395721925134, 0.6871657754010695, 0.6871657754010695, 0.6871657754010695, 0.6871657754010695, 0.6844919786096256, 0.6844919786096256, 0.6844919786096256, 0.6818181818181818, 0.679144385026738, 0.679144385026738, 0.6764705882352942, 0.6657754010695187, 0.6631016042780749, 0.6631016042780749, 0.6631016042780749, 0.6631016042780749, 0.6631016042780749, 0.6631016042780749, 0.660427807486631, 0.660427807486631, 0.6577540106951871, 0.6550802139037433, 0.6550802139037433, 0.6550802139037433, 0.6524064171122995, 0.6497326203208557, 0.6470588235294118, 0.6470588235294118, 0.6443850267379679, 0.6443850267379679, 0.6417112299465241, 0.6417112299465241, 0.6417112299465241, 0.6390374331550802, 0.6390374331550802, 0.6390374331550802, 0.6390374331550802, 0.6390374331550802, 0.6390374331550802, 0.6363636363636364, 0.6363636363636364, 0.6363636363636364, 0.6363636363636364, 0.6363636363636364, 0.6363636363636364, 0.6363636363636364, 0.6363636363636364, 0.6363636363636364, 0.6363636363636364, 0.6336898395721925, 0.6336898395721925, 0.6336898395721925, 0.6336898395721925, 0.6336898395721925, 0.6336898395721925, 0.6336898395721925, 0.6336898395721925, 0.6336898395721925, 0.6336898395721925, 0.6310160427807486, 0.6310160427807486, 0.6283422459893048, 0.6283422459893048, 0.6283422459893048, 0.6256684491978609, 0.6229946524064172, 0.6203208556149733, 0.6203208556149733, 0.6176470588235294, 0.6176470588235294, 0.6176470588235294, 0.6149732620320856, 0.6149732620320856, 0.6149732620320856, 0.6149732620320856, 0.6122994652406417, 0.6096256684491979, 0.606951871657754, 0.606951871657754, 0.606951871657754, 0.6042780748663101, 0.6042780748663101, 0.6016042780748663, 0.5989304812834224, 0.5989304812834224, 0.5962566844919787, 0.5962566844919787, 0.5962566844919787, 0.5935828877005348, 0.5935828877005348, 0.5935828877005348, 0.5935828877005348, 0.5935828877005348, 0.5909090909090909, 0.5882352941176471, 0.5855614973262032, 0.5855614973262032, 0.5855614973262032, 0.5828877005347594, 0.5802139037433155, 0.5802139037433155, 0.5775401069518716, 0.5775401069518716, 0.5748663101604278, 0.5721925133689839, 0.56951871657754, 0.56951871657754, 0.56951871657754, 0.5668449197860963, 0.5668449197860963, 0.5668449197860963, 0.5668449197860963, 0.5641711229946524, 0.5614973262032086, 0.5588235294117647, 0.5588235294117647, 0.5588235294117647, 0.5588235294117647, 0.5561497326203209, 0.5561497326203209, 0.5561497326203209, 0.5561497326203209, 0.5561497326203209, 0.5561497326203209, 0.5561497326203209, 0.5561497326203209, 0.553475935828877, 0.5508021390374331, 0.5481283422459893, 0.5454545454545454, 0.5427807486631016, 0.5401069518716578, 0.5401069518716578, 0.5401069518716578, 0.5374331550802139, 0.5374331550802139, 0.5374331550802139, 0.5374331550802139, 0.5374331550802139, 0.5374331550802139, 0.5347593582887701, 0.5347593582887701, 0.5320855614973262, 0.5294117647058824, 0.5294117647058824, 0.5267379679144385, 0.5267379679144385, 0.5240641711229946, 0.5240641711229946, 0.5240641711229946, 0.5213903743315508, 0.5187165775401069, 0.5187165775401069, 0.5187165775401069, 0.5187165775401069, 0.516042780748663, 0.516042780748663, 0.5133689839572193, 0.5106951871657754, 0.5080213903743316, 0.5053475935828877, 0.5026737967914439, 0.5026737967914439, 0.5026737967914439, 0.5026737967914439, 0.5, 0.5, 0.5, 0.49732620320855614, 0.4946524064171123, 0.4946524064171123, 0.4946524064171123, 0.4919786096256685, 0.4893048128342246, 0.4893048128342246, 0.4893048128342246, 0.48663101604278075, 0.48663101604278075, 0.48663101604278075, 0.48663101604278075, 0.48663101604278075, 0.48663101604278075, 0.48663101604278075, 0.48663101604278075, 0.4839572192513369, 0.4839572192513369, 0.48128342245989303, 0.4786096256684492, 0.4786096256684492, 0.4786096256684492, 0.47593582887700536, 0.4732620320855615, 0.4732620320855615, 0.47058823529411764, 0.4679144385026738, 0.46524064171123, 0.46524064171123, 0.46524064171123, 0.46524064171123, 0.46524064171123, 0.46524064171123, 0.4625668449197861, 0.4625668449197861, 0.45989304812834225, 0.4572192513368984, 0.45454545454545453, 0.45187165775401067, 0.45187165775401067, 0.45187165775401067, 0.44919786096256686, 0.446524064171123, 0.446524064171123, 0.446524064171123, 0.446524064171123, 0.446524064171123, 0.446524064171123, 0.446524064171123, 0.446524064171123, 0.446524064171123, 0.446524064171123, 0.44385026737967914, 0.4411764705882353, 0.4385026737967914, 0.4385026737967914, 0.4385026737967914, 0.4385026737967914, 0.4358288770053476, 0.43315508021390375, 0.4304812834224599, 0.4304812834224599, 0.42780748663101603, 0.42513368983957217, 0.42245989304812837, 0.42245989304812837, 0.4197860962566845, 0.4197860962566845, 0.41711229946524064, 0.41711229946524064, 0.41711229946524064, 0.4144385026737968, 0.4144385026737968, 0.4117647058823529, 0.4090909090909091, 0.40641711229946526, 0.40641711229946526, 0.40641711229946526, 0.4037433155080214, 0.4037433155080214, 0.4037433155080214, 0.40106951871657753, 0.3983957219251337, 0.39572192513368987, 0.39572192513368987, 0.393048128342246, 0.393048128342246, 0.393048128342246, 0.39037433155080214, 0.3877005347593583, 0.3877005347593583, 0.3850267379679144, 0.3850267379679144, 0.38235294117647056, 0.38235294117647056, 0.37967914438502676, 0.3770053475935829, 0.37433155080213903, 0.37433155080213903, 0.37433155080213903, 0.3716577540106952, 0.3716577540106952, 0.3689839572192513, 0.3663101604278075, 0.3663101604278075, 0.36363636363636365, 0.36363636363636365, 0.3609625668449198, 0.3582887700534759, 0.35561497326203206, 0.35294117647058826, 0.35294117647058826, 0.35294117647058826, 0.35294117647058826, 0.3502673796791444, 0.3502673796791444, 0.34759358288770054, 0.34759358288770054, 0.3449197860962567, 0.3422459893048128, 0.339572192513369, 0.33689839572192515, 0.3342245989304813, 0.3315508021390374, 0.32887700534759357, 0.32887700534759357, 0.32887700534759357, 0.32887700534759357, 0.32620320855614976, 0.32620320855614976, 0.3235294117647059, 0.3235294117647059, 0.32085561497326204, 0.3181818181818182, 0.3181818181818182, 0.3155080213903743, 0.31283422459893045, 0.31016042780748665, 0.3074866310160428, 0.3074866310160428, 0.3074866310160428, 0.3048128342245989, 0.30213903743315507, 0.30213903743315507, 0.30213903743315507, 0.30213903743315507, 0.2994652406417112, 0.2967914438502674, 0.29411764705882354, 0.2914438502673797, 0.2887700534759358, 0.28609625668449196, 0.28342245989304815, 0.2807486631016043, 0.2807486631016043, 0.27807486631016043, 0.27540106951871657, 0.27540106951871657, 0.27540106951871657, 0.2727272727272727, 0.2700534759358289, 0.2700534759358289, 0.2700534759358289, 0.26737967914438504, 0.26737967914438504, 0.2647058823529412, 0.2647058823529412, 0.2620320855614973, 0.25935828877005346, 0.25935828877005346, 0.25935828877005346, 0.25668449197860965, 0.2540106951871658, 0.2540106951871658, 0.25133689839572193, 0.25133689839572193, 0.24866310160427807, 0.24866310160427807, 0.24866310160427807, 0.24598930481283424, 0.24331550802139038, 0.24064171122994651, 0.23796791443850268, 0.23529411764705882, 0.23529411764705882, 0.232620320855615, 0.22994652406417113, 0.22727272727272727, 0.22459893048128343, 0.22459893048128343, 0.22459893048128343, 0.22192513368983957, 0.22192513368983957, 0.2192513368983957, 0.2192513368983957, 0.21657754010695188, 0.21657754010695188, 0.21657754010695188, 0.21390374331550802, 0.21122994652406418, 0.20855614973262032, 0.20588235294117646, 0.20320855614973263, 0.20053475935828877, 0.19786096256684493, 0.19518716577540107, 0.1925133689839572, 0.18983957219251338, 0.18716577540106952, 0.18449197860962566, 0.18181818181818182, 0.17914438502673796, 0.17647058823529413, 0.17647058823529413, 0.17379679144385027, 0.1711229946524064, 0.16844919786096257, 0.1657754010695187, 0.16310160427807488, 0.16310160427807488, 0.16310160427807488, 0.16310160427807488, 0.16042780748663102, 0.15775401069518716, 0.15508021390374332, 0.15508021390374332, 0.15240641711229946, 0.1497326203208556, 0.14705882352941177, 0.14705882352941177, 0.14705882352941177, 0.1443850267379679, 0.14171122994652408, 0.14171122994652408, 0.14171122994652408, 0.14171122994652408, 0.13903743315508021, 0.13636363636363635, 0.13368983957219252, 0.13101604278074866, 0.13101604278074866, 0.13101604278074866, 0.12834224598930483, 0.12566844919786097, 0.12299465240641712, 0.12032085561497326, 0.11764705882352941, 0.11497326203208556, 0.11497326203208556, 0.11497326203208556, 0.11497326203208556, 0.11229946524064172, 0.10962566844919786, 0.10695187165775401, 0.10427807486631016, 0.10427807486631016, 0.10160427807486631, 0.09893048128342247, 0.09893048128342247, 0.09893048128342247, 0.0962566844919786, 0.0962566844919786, 0.0962566844919786, 0.09358288770053476, 0.09358288770053476, 0.09090909090909091, 0.09090909090909091, 0.08823529411764706, 0.0855614973262032, 0.0855614973262032, 0.08288770053475936, 0.08021390374331551, 0.07754010695187166, 0.0748663101604278, 0.07219251336898395, 0.06951871657754011, 0.06951871657754011, 0.06951871657754011, 0.06951871657754011, 0.06684491978609626, 0.06417112299465241, 0.06149732620320856, 0.058823529411764705, 0.05614973262032086, 0.05614973262032086, 0.053475935828877004, 0.053475935828877004, 0.053475935828877004, 0.05080213903743316, 0.0481283422459893, 0.0481283422459893, 0.045454545454545456, 0.0427807486631016, 0.040106951871657755, 0.0374331550802139, 0.0374331550802139, 0.0374331550802139, 0.0374331550802139, 0.034759358288770054, 0.03208556149732621, 0.03208556149732621, 0.029411764705882353, 0.026737967914438502, 0.02406417112299465, 0.0213903743315508, 0.01871657754010695, 0.01871657754010695, 0.01871657754010695, 0.016042780748663103, 0.013368983957219251, 0.013368983957219251, 0.0106951871657754, 0.0106951871657754, 0.0106951871657754, 0.008021390374331552, 0.0053475935828877, 0.00267379679144385, 0.00267379679144385, 0.0], \"y\": [0.28835774865073244, 0.28780864197530864, 0.28803088803088805, 0.2882534775888717, 0.288476411446249, 0.2886996904024768, 0.2889233152594888, 0.28914728682170543, 0.28937160589604344, 0.28959627329192544, 0.2898212898212898, 0.2892690513219285, 0.28949416342412454, 0.2897196261682243, 0.2899454403741232, 0.29017160686427457, 0.2903981264637002, 0.290625, 0.290852228303362, 0.29029733959311427, 0.29052466718872355, 0.2907523510971787, 0.2909803921568627, 0.29120879120879123, 0.2914375490966222, 0.2916666666666667, 0.29189614476789927, 0.2921259842519685, 0.2923561859732072, 0.29258675078864355, 0.292817679558011, 0.2930489731437599, 0.2932806324110672, 0.2935126582278481, 0.2937450514647664, 0.29397781299524567, 0.2934179222839017, 0.29365079365079366, 0.29388403494837173, 0.29411764705882354, 0.294351630867144, 0.29378980891719747, 0.2940239043824701, 0.2942583732057416, 0.2944932162809258, 0.29472843450479236, 0.2949640287769784, 0.2952, 0.2954363490792634, 0.2956730769230769, 0.29591018444266237, 0.29614767255216695, 0.2963855421686747, 0.2966237942122186, 0.29686242960579245, 0.2971014492753623, 0.29734085414987915, 0.29758064516129035, 0.29782082324455206, 0.29806138933764137, 0.29830234438156833, 0.29854368932038833, 0.2987854251012146, 0.29902755267423015, 0.29927007299270075, 0.299512987012987, 0.29975629569455725, 0.3, 0.3002441008950366, 0.3004885993485342, 0.30073349633251834, 0.300163132137031, 0.3004081632653061, 0.3006535947712418, 0.3008994276369583, 0.3011456628477905, 0.3013923013923014, 0.3016393442622951, 0.3018867924528302, 0.3021346469622332, 0.30238290879211177, 0.3026315789473684, 0.302880658436214, 0.3031301482701812, 0.3033800494641385, 0.30363036303630364, 0.30388109000825764, 0.30413223140495865, 0.304383788254756, 0.304635761589404, 0.30488815244407624, 0.30514096185737977, 0.3053941908713693, 0.30564784053156147, 0.3059019118869493, 0.30615640599001664, 0.3064113238967527, 0.30666666666666664, 0.30692243536280234, 0.3071786310517529, 0.30743525480367584, 0.3076923076923077, 0.3079497907949791, 0.3082077051926298, 0.30846605196982396, 0.3087248322147651, 0.3089840470193115, 0.3092436974789916, 0.30950378469301937, 0.30976430976430974, 0.3100252737994945, 0.3102866779089376, 0.3105485232067511, 0.3108108108108108, 0.31107354184277264, 0.31049069373942473, 0.3107535986452159, 0.31101694915254235, 0.3112807463952502, 0.31154499151103565, 0.31180968564146133, 0.3120748299319728, 0.3123404255319149, 0.3126064735945486, 0.31287297527706737, 0.31313993174061433, 0.3134073441502989, 0.31367521367521367, 0.31394354148845166, 0.3142123287671233, 0.3144815766923736, 0.31475128644939965, 0.3150214592274678, 0.31443298969072164, 0.31470335339638866, 0.31497418244406195, 0.3152454780361757, 0.31551724137931036, 0.3157894736842105, 0.3160621761658031, 0.3163353500432152, 0.3166089965397924, 0.3168831168831169, 0.317157712305026, 0.31743278404163056, 0.3177083333333333, 0.317984361424848, 0.3182608695652174, 0.3185378590078329, 0.31881533101045295, 0.3190932868352223, 0.3193717277486911, 0.31965065502183404, 0.31993006993006995, 0.32020997375328086, 0.3204903677758319, 0.32077125328659073, 0.32105263157894737, 0.32133450395083407, 0.3216168717047452, 0.32189973614775724, 0.3221830985915493, 0.3224669603524229, 0.32275132275132273, 0.323036187113857, 0.32332155477031804, 0.32272325375773653, 0.3230088495575221, 0.3232949512843224, 0.32358156028368795, 0.323868677905945, 0.3241563055062167, 0.3244444444444444, 0.32473309608540923, 0.3250222617987533, 0.3253119429590018, 0.3256021409455843, 0.32589285714285715, 0.3261840929401251, 0.32647584973166366, 0.3267681289167413, 0.32616487455197135, 0.32645739910313903, 0.3258527827648115, 0.3261455525606469, 0.32643884892086333, 0.32673267326732675, 0.327027027027027, 0.327321911632101, 0.3276173285198556, 0.32791327913279134, 0.3282097649186257, 0.32850678733031674, 0.328804347826087, 0.329102447869447, 0.3294010889292196, 0.329700272479564, 0.33, 0.3303002729754322, 0.33060109289617484, 0.3309024612579763, 0.3312043795620438, 0.3315068493150685, 0.33180987202925044, 0.3321134492223239, 0.3324175824175824, 0.3327222731439047, 0.3330275229357798, 0.3333333333333333, 0.3336397058823529, 0.33394664213431463, 0.3342541436464088, 0.3345622119815668, 0.3348708487084871, 0.33518005540166207, 0.33548983364140483, 0.33580018501387604, 0.3351851851851852, 0.33549582947173306, 0.3358070500927644, 0.3361188486536676, 0.33643122676579923, 0.33674418604651163, 0.3370577281191806, 0.33737185461323393, 0.3376865671641791, 0.33800186741363214, 0.3383177570093458, 0.33863423760523853, 0.3389513108614232, 0.3392689784442362, 0.33864915572232646, 0.3389671361502347, 0.3392857142857143, 0.3396048918156162, 0.339924670433145, 0.3393025447690858, 0.33962264150943394, 0.33994334277620397, 0.34026465028355385, 0.34058656575212864, 0.3409090909090909, 0.3412322274881517, 0.3415559772296015, 0.3418803418803419, 0.34220532319391633, 0.3425309229305423, 0.34285714285714286, 0.34318398474737843, 0.3435114503816794, 0.3438395415472779, 0.3441682600382409, 0.3435406698564593, 0.3438697318007663, 0.34419942473633747, 0.34452975047984646, 0.3448607108549472, 0.3451923076923077, 0.3455245428296439, 0.34585741811175336, 0.3461909353905497, 0.3465250965250965, 0.3468599033816425, 0.3471953578336557, 0.3475314617618587, 0.3478682170542636, 0.34820562560620755, 0.3485436893203884, 0.3488824101068999, 0.34922178988326846, 0.3495618305744888, 0.34990253411306044, 0.35024390243902437, 0.3505859375, 0.3509286412512219, 0.3512720156555773, 0.3516160626836435, 0.3509803921568627, 0.35132482826300293, 0.3516699410609037, 0.352015732546706, 0.35236220472440943, 0.35172413793103446, 0.3520710059171598, 0.35241855873642647, 0.35177865612648224, 0.35212660731948564, 0.35247524752475246, 0.3528245787908821, 0.3531746031746032, 0.3535253227408143, 0.3538767395626243, 0.354228855721393, 0.3545816733067729, 0.35493519441674976, 0.35528942115768464, 0.35564435564435565, 0.356, 0.3563563563563564, 0.35671342685370744, 0.35707121364092276, 0.357429718875502, 0.3577889447236181, 0.35714285714285715, 0.35750251762336355, 0.35786290322580644, 0.35721493440968716, 0.3575757575757576, 0.3579373104145602, 0.3582995951417004, 0.3586626139817629, 0.359026369168357, 0.35939086294416245, 0.3597560975609756, 0.36012207527975587, 0.3604887983706721, 0.36085626911314983, 0.36122448979591837, 0.3615934627170582, 0.3619631901840491, 0.3623336745138178, 0.36270491803278687, 0.3630769230769231, 0.36344969199178645, 0.36382322713257964, 0.3631687242798354, 0.3635427394438723, 0.36391752577319586, 0.36429308565531476, 0.3646694214876033, 0.3650465356773526, 0.36438923395445133, 0.36476683937823834, 0.3651452282157676, 0.3655244029075805, 0.3659043659043659, 0.36628511966701355, 0.36666666666666664, 0.3670490093847758, 0.3663883089770355, 0.3667711598746082, 0.36715481171548114, 0.3675392670157068, 0.36792452830188677, 0.3683105981112277, 0.36764705882352944, 0.36803364879074657, 0.36736842105263157, 0.3677555321390938, 0.3681434599156118, 0.368532206969377, 0.3689217758985201, 0.3693121693121693, 0.3697033898305085, 0.37009544008483564, 0.37048832271762205, 0.3708820403825717, 0.37127659574468086, 0.37167199148029817, 0.3720682302771855, 0.37246531483457845, 0.37286324786324787, 0.3732620320855615, 0.37366167023554603, 0.3740621650589496, 0.37446351931330474, 0.3748657357679914, 0.3741935483870968, 0.3745963401506997, 0.375, 0.37540453074433655, 0.3758099352051836, 0.3762162162162162, 0.37662337662337664, 0.37703141928494044, 0.3774403470715835, 0.3778501628664495, 0.3782608695652174, 0.3786724700761698, 0.3790849673202614, 0.37949836423118866, 0.3799126637554585, 0.380327868852459, 0.38074398249452956, 0.38116100766703176, 0.3815789473684211, 0.38199780461031835, 0.3824175824175824, 0.38283828382838286, 0.3832599118942731, 0.3836824696802646, 0.3841059602649007, 0.38453038674033146, 0.38495575221238937, 0.3853820598006645, 0.3858093126385809, 0.38623751387347394, 0.38555555555555554, 0.38598442714126807, 0.38641425389755013, 0.38684503901895206, 0.3872767857142857, 0.3865921787709497, 0.3870246085011186, 0.38633818589025753, 0.3867713004484305, 0.3872053872053872, 0.38764044943820225, 0.3880764904386952, 0.3885135135135135, 0.38895152198421645, 0.3893905191873589, 0.3898305084745763, 0.3902714932126697, 0.39071347678369195, 0.391156462585034, 0.39160045402951194, 0.39204545454545453, 0.3924914675767918, 0.3929384965831435, 0.3933865450399088, 0.3938356164383562, 0.3942857142857143, 0.39473684210526316, 0.3951890034364261, 0.3956422018348624, 0.3960964408725603, 0.39655172413793105, 0.3970080552359033, 0.39746543778801846, 0.39677047289504036, 0.3972286374133949, 0.3976878612716763, 0.39814814814814814, 0.3986095017381228, 0.3990719257540603, 0.3995354239256678, 0.4, 0.40046565774155995, 0.3997668997668998, 0.4002333722287048, 0.4007009345794392, 0.40116959064327484, 0.40046838407494145, 0.40093786635404455, 0.40023474178403756, 0.4007050528789659, 0.4, 0.4004711425206125, 0.4009433962264151, 0.4014167650531287, 0.40189125295508277, 0.40236686390532544, 0.4028436018957346, 0.4033214709371293, 0.40380047505938244, 0.40309155766944116, 0.4035714285714286, 0.40405244338498214, 0.4045346062052506, 0.4050179211469534, 0.4055023923444976, 0.4059880239520958, 0.4064748201438849, 0.4057623049219688, 0.40625, 0.40673886883273164, 0.4072289156626506, 0.4077201447527141, 0.4082125603864734, 0.40870616686819833, 0.4092009685230024, 0.40969696969696967, 0.41019417475728154, 0.4106925880923451, 0.41119221411192214, 0.41169305724725946, 0.4121951219512195, 0.41147741147741146, 0.4119804400977995, 0.412484700122399, 0.41299019607843135, 0.4134969325153374, 0.414004914004914, 0.4145141451414514, 0.41502463054187194, 0.4155363748458693, 0.4160493827160494, 0.415327564894932, 0.4158415841584158, 0.4163568773234201, 0.41687344913151364, 0.41739130434782606, 0.417910447761194, 0.41843088418430885, 0.41895261845386533, 0.41947565543071164, 0.42, 0.4192740926157697, 0.4197994987468672, 0.4203262233375157, 0.42085427135678394, 0.42138364779874216, 0.42191435768261965, 0.4224464060529634, 0.4217171717171717, 0.4222503160556258, 0.42278481012658226, 0.4233206590621039, 0.42385786802030456, 0.4243964421855146, 0.42366412213740456, 0.42420382165605097, 0.4247448979591837, 0.42528735632183906, 0.42455242966751916, 0.4238156209987196, 0.42435897435897435, 0.4249037227214377, 0.4241645244215938, 0.4247104247104247, 0.4252577319587629, 0.4258064516129032, 0.4263565891472868, 0.4269081500646831, 0.4274611398963731, 0.4280155642023346, 0.42857142857142855, 0.42912873862158646, 0.4296875, 0.42894393741851367, 0.4281984334203655, 0.4287581699346405, 0.4280104712041885, 0.42857142857142855, 0.42913385826771655, 0.4296977660972405, 0.43026315789473685, 0.4308300395256917, 0.4313984168865435, 0.43064729194187584, 0.4312169312169312, 0.4304635761589404, 0.4297082228116711, 0.4302788844621514, 0.4295212765957447, 0.43009320905459386, 0.43066666666666664, 0.43124165554072097, 0.4318181818181818, 0.4323962516733601, 0.43297587131367293, 0.43355704697986575, 0.43413978494623656, 0.4347240915208614, 0.4353099730458221, 0.4358974358974359, 0.43513513513513513, 0.435723951285521, 0.4363143631436314, 0.4369063772048847, 0.4361413043478261, 0.43673469387755104, 0.4373297002724796, 0.4379263301500682, 0.4385245901639344, 0.43912448700410395, 0.4397260273972603, 0.4403292181069959, 0.4409340659340659, 0.44154057771664373, 0.44214876033057854, 0.44275862068965516, 0.44337016574585636, 0.44398340248962653, 0.44321329639889195, 0.44382801664355065, 0.4444444444444444, 0.44506258692628653, 0.44428969359331477, 0.44490934449093444, 0.44553072625698326, 0.4461538461538462, 0.44677871148459386, 0.4474053295932679, 0.44803370786516855, 0.44866385372714485, 0.44929577464788734, 0.44851904090267986, 0.4491525423728814, 0.4497878359264498, 0.45042492917847027, 0.451063829787234, 0.45170454545454547, 0.45092460881934565, 0.4515669515669516, 0.4522111269614836, 0.4514285714285714, 0.4520743919885551, 0.45272206303724927, 0.4533715925394548, 0.4540229885057471, 0.4546762589928058, 0.4553314121037464, 0.455988455988456, 0.45664739884393063, 0.4573082489146165, 0.4579710144927536, 0.45863570391872277, 0.45930232558139533, 0.45997088791848617, 0.4606413994169096, 0.46131386861313867, 0.4605263157894737, 0.4612005856515373, 0.46187683284457476, 0.461086637298091, 0.4602941176470588, 0.46097201767304863, 0.4616519174041298, 0.4608567208271787, 0.46153846153846156, 0.4622222222222222, 0.4629080118694362, 0.4635958395245171, 0.4642857142857143, 0.46348733233979134, 0.4626865671641791, 0.4633781763826607, 0.4625748502994012, 0.46326836581709147, 0.46396396396396394, 0.46466165413533833, 0.46536144578313254, 0.4660633484162896, 0.46676737160120846, 0.46747352496217853, 0.4681818181818182, 0.4673748103186646, 0.46808510638297873, 0.4672754946727549, 0.46646341463414637, 0.467175572519084, 0.46788990825688076, 0.4686064318529862, 0.46932515337423314, 0.4685099846390169, 0.46923076923076923, 0.4699537750385208, 0.470679012345679, 0.4714064914992272, 0.47213622291021673, 0.47131782945736433, 0.4720496894409938, 0.4712286158631415, 0.4719626168224299, 0.47269890795631825, 0.4734375, 0.47417840375586856, 0.47492163009404387, 0.47566718995290425, 0.47641509433962265, 0.47716535433070867, 0.47634069400630913, 0.47709320695102686, 0.4778481012658228, 0.4786053882725832, 0.4777777777777778, 0.4769475357710652, 0.47770700636942676, 0.4784688995215311, 0.4792332268370607, 0.48, 0.4807692307692308, 0.48154093097913325, 0.48231511254019294, 0.4830917874396135, 0.4838709677419355, 0.48465266558966075, 0.48381877022653724, 0.4846029173419773, 0.48538961038961037, 0.4845528455284553, 0.48534201954397393, 0.48613376835236544, 0.4869281045751634, 0.486088379705401, 0.48688524590163934, 0.4860426929392447, 0.4868421052631579, 0.48599670510708404, 0.48514851485148514, 0.484297520661157, 0.48509933774834435, 0.4859038142620232, 0.4867109634551495, 0.4875207986688852, 0.48833333333333334, 0.48914858096828046, 0.4882943143812709, 0.48743718592964824, 0.48825503355704697, 0.4890756302521008, 0.4898989898989899, 0.49072512647554806, 0.48986486486486486, 0.4906937394247039, 0.4915254237288136, 0.4906621392190153, 0.4914965986394558, 0.49233390119250425, 0.4931740614334471, 0.49230769230769234, 0.4931506849315068, 0.4939965694682676, 0.4948453608247423, 0.49569707401032703, 0.496551724137931, 0.49740932642487046, 0.49653979238754326, 0.49740034662045063, 0.4982638888888889, 0.4991304347826087, 0.49825783972125437, 0.4973821989528796, 0.4982517482517482, 0.4991243432574431, 0.4982456140350877, 0.4991212653778559, 0.4982394366197183, 0.4991181657848324, 0.5, 0.5008849557522124, 0.50177304964539, 0.5026642984014209, 0.50355871886121, 0.5044563279857398, 0.5053571428571428, 0.5062611806797853, 0.507168458781362, 0.5080789946140036, 0.5071942446043165, 0.5063063063063064, 0.5054151624548736, 0.5063291139240507, 0.5072463768115942, 0.5081669691470054, 0.5072727272727273, 0.5081967213114754, 0.5091240875912408, 0.5100548446069469, 0.510989010989011, 0.5119266055045871, 0.5110294117647058, 0.5119705340699816, 0.5129151291512916, 0.5138632162661737, 0.5148148148148148, 0.5157699443413729, 0.5148698884758365, 0.515828677839851, 0.5149253731343284, 0.5158878504672897, 0.5168539325842697, 0.5159474671669794, 0.5150375939849624, 0.5160075329566854, 0.5169811320754717, 0.5160680529300568, 0.5151515151515151, 0.5142314990512334, 0.5133079847908745, 0.5142857142857142, 0.5152671755725191, 0.5162523900573613, 0.5153256704980843, 0.5163147792706334, 0.5173076923076924, 0.5183044315992292, 0.5173745173745173, 0.5164410058027079, 0.5174418604651163, 0.516504854368932, 0.5175097276264592, 0.5165692007797271, 0.515625, 0.5166340508806262, 0.515686274509804, 0.5166994106090373, 0.5177165354330708, 0.5187376725838264, 0.5197628458498024, 0.5207920792079208, 0.5198412698412699, 0.5208747514910537, 0.5199203187250996, 0.5209580838323353, 0.52, 0.5210420841683366, 0.5220883534136547, 0.5211267605633803, 0.5221774193548387, 0.5232323232323233, 0.5242914979757085, 0.5233265720081136, 0.5223577235772358, 0.5234215885947047, 0.5244897959183673, 0.5255623721881391, 0.5245901639344263, 0.5256673511293635, 0.5267489711934157, 0.5257731958762887, 0.5247933884297521, 0.525879917184265, 0.524896265560166, 0.5242105263157895, 0.5232067510548524, 0.5243128964059197, 0.5254237288135594, 0.5265392781316348, 0.5276595744680851, 0.5287846481876333, 0.5277777777777778, 0.5289079229122056, 0.5278969957081545, 0.5268817204301075, 0.5280172413793104, 0.5291576673866091, 0.5281385281385281, 0.527114967462039, 0.5260869565217391, 0.5272331154684096, 0.5262008733624454, 0.5273522975929978, 0.5263157894736842, 0.5274725274725275, 0.5286343612334802, 0.5275938189845475, 0.5287610619469026, 0.5299334811529933, 0.5311111111111111, 0.532293986636971, 0.5334821428571429, 0.5324384787472036, 0.5336322869955157, 0.5348314606741573, 0.536036036036036, 0.5372460496613995, 0.5384615384615384, 0.5396825396825397, 0.5409090909090909, 0.5421412300683371, 0.54337899543379, 0.5423340961098398, 0.5435779816513762, 0.5448275862068965, 0.5460829493087558, 0.5473441108545035, 0.5486111111111112, 0.5498839907192575, 0.5511627906976744, 0.5524475524475524, 0.5537383177570093, 0.5526932084309133, 0.5539906103286385, 0.5529411764705883, 0.5542452830188679, 0.5555555555555556, 0.5545023696682464, 0.5534441805225653, 0.5523809523809524, 0.5536992840095465, 0.5526315789473685, 0.5539568345323741, 0.5552884615384616, 0.5542168674698795, 0.5555555555555556, 0.5569007263922519, 0.558252427184466, 0.5571776155717761, 0.5560975609756098, 0.5550122249388753, 0.5563725490196079, 0.5577395577395577, 0.5566502463054187, 0.5580246913580247, 0.556930693069307, 0.5558312655086849, 0.5572139303482587, 0.5561097256857855, 0.5575, 0.5588972431077694, 0.5577889447236181, 0.5591939546599496, 0.5606060606060606, 0.5620253164556962, 0.5634517766497462, 0.5623409669211196, 0.5612244897959183, 0.5601023017902813, 0.5615384615384615, 0.5629820051413882, 0.5618556701030928, 0.5607235142118863, 0.5621761658031088, 0.561038961038961, 0.5625, 0.5613577023498695, 0.5602094240837696, 0.5590551181102362, 0.5605263157894737, 0.5620052770448549, 0.5608465608465608, 0.5623342175066313, 0.5638297872340425, 0.5653333333333334, 0.5641711229946524, 0.5630026809651475, 0.5618279569892473, 0.5633423180592992, 0.5648648648648649, 0.5663956639566395, 0.5652173913043478, 0.5667574931880109, 0.5683060109289617, 0.5698630136986301, 0.5714285714285714, 0.5730027548209367, 0.574585635359116, 0.5761772853185596, 0.575, 0.5738161559888579, 0.5726256983240223, 0.5714285714285714, 0.5702247191011236, 0.5690140845070423, 0.5706214689265536, 0.5722379603399433, 0.5710227272727273, 0.5726495726495726, 0.5742857142857143, 0.5759312320916905, 0.5775862068965517, 0.579250720461095, 0.5780346820809249, 0.5797101449275363, 0.5784883720930233, 0.577259475218659, 0.5789473684210527, 0.5777126099706745, 0.5794117647058824, 0.5781710914454278, 0.5798816568047337, 0.5816023738872403, 0.5803571428571429, 0.5791044776119403, 0.5808383233532934, 0.5825825825825826, 0.5843373493975904, 0.5830815709969789, 0.5848484848484848, 0.5835866261398176, 0.5823170731707317, 0.581039755351682, 0.5797546012269938, 0.5784615384615385, 0.5802469135802469, 0.5820433436532507, 0.5838509316770186, 0.5825545171339563, 0.584375, 0.5862068965517241, 0.5849056603773585, 0.583596214511041, 0.5854430379746836, 0.5873015873015873, 0.5859872611464968, 0.5846645367412141, 0.5865384615384616, 0.5884244372990354, 0.5870967741935483, 0.5889967637540453, 0.5909090909090909, 0.5928338762214984, 0.5947712418300654, 0.5967213114754099, 0.5986842105263158, 0.6006600660066007, 0.5993377483443708, 0.6013289036544851, 0.6, 0.5986622073578596, 0.6006711409395973, 0.6026936026936027, 0.6013513513513513, 0.6, 0.6020408163265306, 0.6006825938566553, 0.5993150684931506, 0.5979381443298969, 0.6, 0.6020761245674741, 0.6041666666666666, 0.6062717770034843, 0.6083916083916084, 0.6070175438596491, 0.6091549295774648, 0.607773851590106, 0.6063829787234043, 0.604982206405694, 0.6035714285714285, 0.6057347670250897, 0.6079136690647482, 0.6064981949458483, 0.605072463768116, 0.6072727272727273, 0.6094890510948905, 0.6117216117216118, 0.6139705882352942, 0.6162361623616236, 0.6185185185185185, 0.620817843866171, 0.6231343283582089, 0.6254681647940075, 0.6240601503759399, 0.6226415094339622, 0.6212121212121212, 0.623574144486692, 0.6259541984732825, 0.6283524904214559, 0.6269230769230769, 0.6254826254826255, 0.624031007751938, 0.6264591439688716, 0.625, 0.6235294117647059, 0.6220472440944882, 0.6245059288537549, 0.623015873015873, 0.6254980079681275, 0.624, 0.6265060240963856, 0.6290322580645161, 0.6275303643724697, 0.6300813008130082, 0.6285714285714286, 0.6270491803278688, 0.6255144032921811, 0.628099173553719, 0.6307053941908713, 0.6291666666666667, 0.6317991631799164, 0.634453781512605, 0.6329113924050633, 0.6313559322033898, 0.6297872340425532, 0.6324786324786325, 0.630901287553648, 0.6336206896551724, 0.6363636363636364, 0.6347826086956522, 0.6331877729257642, 0.6359649122807017, 0.6343612334801763, 0.6371681415929203, 0.6355555555555555, 0.6383928571428571, 0.6367713004484304, 0.6351351351351351, 0.6334841628959276, 0.6363636363636364, 0.639269406392694, 0.6376146788990825, 0.6405529953917051, 0.6388888888888888, 0.6372093023255814, 0.6401869158878505, 0.6384976525821596, 0.6415094339622641, 0.6398104265402843, 0.638095238095238, 0.6363636363636364, 0.6346153846153846, 0.6376811594202898, 0.6407766990291263, 0.6439024390243903, 0.6421568627450981, 0.645320197044335, 0.6435643564356436, 0.6467661691542289, 0.645, 0.6432160804020101, 0.6414141414141414, 0.6395939086294417, 0.6377551020408163, 0.6358974358974359, 0.634020618556701, 0.6373056994818653, 0.640625, 0.643979057591623, 0.6421052631578947, 0.6455026455026455, 0.6436170212765957, 0.6470588235294118, 0.6451612903225806, 0.6432432432432432, 0.6467391304347826, 0.644808743169399, 0.6428571428571429, 0.6408839779005525, 0.6388888888888888, 0.6424581005586593, 0.6460674157303371, 0.6440677966101694, 0.6420454545454546, 0.6457142857142857, 0.6494252873563219, 0.653179190751445, 0.6511627906976745, 0.6491228070175439, 0.6470588235294118, 0.6449704142011834, 0.6428571428571429, 0.6407185628742516, 0.6385542168674698, 0.6363636363636364, 0.6402439024390244, 0.6380368098159509, 0.6358024691358025, 0.639751552795031, 0.64375, 0.6415094339622641, 0.6392405063291139, 0.643312101910828, 0.6474358974358975, 0.6451612903225806, 0.6493506493506493, 0.6470588235294118, 0.6513157894736842, 0.6490066225165563, 0.6466666666666666, 0.6510067114093959, 0.6554054054054054, 0.6530612244897959, 0.6506849315068494, 0.6551724137931034, 0.6527777777777778, 0.6573426573426573, 0.6549295774647887, 0.6595744680851063, 0.6642857142857143, 0.6618705035971223, 0.6594202898550725, 0.656934306569343, 0.6544117647058824, 0.6518518518518519, 0.6567164179104478, 0.6541353383458647, 0.6515151515151515, 0.648854961832061, 0.6461538461538462, 0.6511627906976745, 0.65625, 0.6535433070866141, 0.6587301587301587, 0.656, 0.6612903225806451, 0.6585365853658537, 0.6639344262295082, 0.6694214876033058, 0.6666666666666666, 0.6638655462184874, 0.6610169491525424, 0.6581196581196581, 0.6551724137931034, 0.6521739130434783, 0.6491228070175439, 0.6460176991150443, 0.6428571428571429, 0.6396396396396397, 0.6363636363636364, 0.6330275229357798, 0.6296296296296297, 0.6261682242990654, 0.6226415094339622, 0.6285714285714286, 0.625, 0.6213592233009708, 0.6176470588235294, 0.6138613861386139, 0.61, 0.6161616161616161, 0.6224489795918368, 0.6288659793814433, 0.625, 0.6210526315789474, 0.6170212765957447, 0.6236559139784946, 0.6195652173913043, 0.6153846153846154, 0.6111111111111112, 0.6179775280898876, 0.625, 0.6206896551724138, 0.6162790697674418, 0.6235294117647059, 0.6309523809523809, 0.6385542168674698, 0.6341463414634146, 0.6296296296296297, 0.625, 0.620253164556962, 0.6282051282051282, 0.6363636363636364, 0.631578947368421, 0.6266666666666667, 0.6216216216216216, 0.6164383561643836, 0.6111111111111112, 0.6056338028169014, 0.6142857142857143, 0.6231884057971014, 0.6323529411764706, 0.6268656716417911, 0.6212121212121212, 0.6153846153846154, 0.609375, 0.6190476190476191, 0.6129032258064516, 0.6065573770491803, 0.6166666666666667, 0.6271186440677966, 0.6206896551724138, 0.631578947368421, 0.6428571428571429, 0.6363636363636364, 0.6481481481481481, 0.6415094339622641, 0.6538461538461539, 0.6470588235294118, 0.64, 0.6530612244897959, 0.6458333333333334, 0.6382978723404256, 0.6304347826086957, 0.6222222222222222, 0.6136363636363636, 0.6046511627906976, 0.6190476190476191, 0.6341463414634146, 0.65, 0.6410256410256411, 0.631578947368421, 0.6216216216216216, 0.6111111111111112, 0.6, 0.6176470588235294, 0.6060606060606061, 0.625, 0.6451612903225806, 0.6333333333333333, 0.6206896551724138, 0.6428571428571429, 0.6296296296296297, 0.6153846153846154, 0.6, 0.5833333333333334, 0.6086956521739131, 0.6363636363636364, 0.6666666666666666, 0.65, 0.631578947368421, 0.6666666666666666, 0.6470588235294118, 0.625, 0.6, 0.5714285714285714, 0.5384615384615384, 0.5833333333333334, 0.6363636363636364, 0.6, 0.5555555555555556, 0.625, 0.5714285714285714, 0.6666666666666666, 0.8, 0.75, 0.6666666666666666, 0.5, 1.0, 1.0]}, {\"mode\": \"lines\", \"name\": \"RF\", \"type\": \"scatter\", \"x\": [1.0, 0.9973262032085561, 0.9946524064171123, 0.9946524064171123, 0.9919786096256684, 0.9893048128342246, 0.9893048128342246, 0.9893048128342246, 0.9893048128342246, 0.9866310160427807, 0.983957219251337, 0.9812834224598931, 0.9812834224598931, 0.9812834224598931, 0.9812834224598931, 0.9812834224598931, 0.9812834224598931, 0.9812834224598931, 0.9786096256684492, 0.9786096256684492, 0.9759358288770054, 0.9759358288770054, 0.9759358288770054, 0.9759358288770054, 0.9732620320855615, 0.9732620320855615, 0.9732620320855615, 0.9732620320855615, 0.9732620320855615, 0.9705882352941176, 0.9652406417112299, 0.9652406417112299, 0.9625668449197861, 0.9598930481283422, 0.9598930481283422, 0.9598930481283422, 0.9545454545454546, 0.9545454545454546, 0.9518716577540107, 0.9491978609625669, 0.946524064171123, 0.946524064171123, 0.946524064171123, 0.946524064171123, 0.9438502673796791, 0.9411764705882353, 0.9411764705882353, 0.9411764705882353, 0.9358288770053476, 0.9358288770053476, 0.9358288770053476, 0.9331550802139037, 0.9331550802139037, 0.9224598930481284, 0.9197860962566845, 0.9197860962566845, 0.9197860962566845, 0.9197860962566845, 0.9197860962566845, 0.9197860962566845, 0.9171122994652406, 0.9171122994652406, 0.9171122994652406, 0.9171122994652406, 0.9144385026737968, 0.9144385026737968, 0.9144385026737968, 0.9144385026737968, 0.9144385026737968, 0.9144385026737968, 0.9144385026737968, 0.9090909090909091, 0.9090909090909091, 0.9090909090909091, 0.9064171122994652, 0.9064171122994652, 0.9010695187165776, 0.9010695187165776, 0.9010695187165776, 0.8983957219251337, 0.8957219251336899, 0.8957219251336899, 0.8957219251336899, 0.8877005347593583, 0.8877005347593583, 0.8877005347593583, 0.8877005347593583, 0.8877005347593583, 0.8823529411764706, 0.8796791443850267, 0.8796791443850267, 0.8743315508021391, 0.8743315508021391, 0.8716577540106952, 0.8716577540106952, 0.8689839572192514, 0.8689839572192514, 0.8689839572192514, 0.8663101604278075, 0.8609625668449198, 0.8609625668449198, 0.8582887700534759, 0.8582887700534759, 0.8556149732620321, 0.8556149732620321, 0.8529411764705882, 0.8502673796791443, 0.8475935828877005, 0.8475935828877005, 0.8449197860962567, 0.8449197860962567, 0.8422459893048129, 0.8422459893048129, 0.8422459893048129, 0.839572192513369, 0.839572192513369, 0.839572192513369, 0.8368983957219251, 0.8342245989304813, 0.8315508021390374, 0.8288770053475936, 0.8262032085561497, 0.8262032085561497, 0.8262032085561497, 0.8262032085561497, 0.8262032085561497, 0.8235294117647058, 0.820855614973262, 0.820855614973262, 0.8181818181818182, 0.8155080213903744, 0.8128342245989305, 0.8101604278074866, 0.8074866310160428, 0.8074866310160428, 0.8074866310160428, 0.8048128342245989, 0.8048128342245989, 0.8048128342245989, 0.8048128342245989, 0.7967914438502673, 0.7967914438502673, 0.7967914438502673, 0.7967914438502673, 0.7967914438502673, 0.7967914438502673, 0.7941176470588235, 0.7941176470588235, 0.7914438502673797, 0.7914438502673797, 0.7914438502673797, 0.7914438502673797, 0.7887700534759359, 0.786096256684492, 0.786096256684492, 0.7807486631016043, 0.7807486631016043, 0.7754010695187166, 0.7754010695187166, 0.7727272727272727, 0.767379679144385, 0.767379679144385, 0.7647058823529411, 0.7647058823529411, 0.7620320855614974, 0.7593582887700535, 0.7593582887700535, 0.7540106951871658, 0.7540106951871658, 0.7513368983957219, 0.7486631016042781, 0.7486631016042781, 0.7459893048128342, 0.7459893048128342, 0.7459893048128342, 0.7433155080213903, 0.7406417112299465, 0.7406417112299465, 0.7379679144385026, 0.7352941176470589, 0.7352941176470589, 0.7352941176470589, 0.732620320855615, 0.7299465240641712, 0.7299465240641712, 0.7245989304812834, 0.7245989304812834, 0.7219251336898396, 0.7219251336898396, 0.7219251336898396, 0.7219251336898396, 0.7192513368983957, 0.7192513368983957, 0.7165775401069518, 0.713903743315508, 0.713903743315508, 0.7112299465240641, 0.7085561497326203, 0.7085561497326203, 0.7085561497326203, 0.7058823529411765, 0.7058823529411765, 0.7032085561497327, 0.7032085561497327, 0.6978609625668449, 0.6978609625668449, 0.6978609625668449, 0.6951871657754011, 0.6925133689839572, 0.6925133689839572, 0.6925133689839572, 0.6925133689839572, 0.6898395721925134, 0.6871657754010695, 0.6844919786096256, 0.6844919786096256, 0.6844919786096256, 0.6818181818181818, 0.679144385026738, 0.6764705882352942, 0.6737967914438503, 0.6737967914438503, 0.6711229946524064, 0.6711229946524064, 0.6684491978609626, 0.6684491978609626, 0.6684491978609626, 0.6684491978609626, 0.6684491978609626, 0.6657754010695187, 0.6657754010695187, 0.6631016042780749, 0.660427807486631, 0.6577540106951871, 0.6550802139037433, 0.6524064171122995, 0.6524064171122995, 0.6470588235294118, 0.6470588235294118, 0.6470588235294118, 0.6470588235294118, 0.6443850267379679, 0.6443850267379679, 0.6417112299465241, 0.6417112299465241, 0.6390374331550802, 0.6390374331550802, 0.6363636363636364, 0.6363636363636364, 0.6336898395721925, 0.6336898395721925, 0.6336898395721925, 0.6336898395721925, 0.6310160427807486, 0.6310160427807486, 0.6310160427807486, 0.6283422459893048, 0.6283422459893048, 0.6283422459893048, 0.6256684491978609, 0.6256684491978609, 0.6256684491978609, 0.6256684491978609, 0.6149732620320856, 0.6122994652406417, 0.6122994652406417, 0.6096256684491979, 0.606951871657754, 0.606951871657754, 0.6042780748663101, 0.6042780748663101, 0.6016042780748663, 0.6016042780748663, 0.5962566844919787, 0.5935828877005348, 0.5909090909090909, 0.5882352941176471, 0.5855614973262032, 0.5855614973262032, 0.5855614973262032, 0.5828877005347594, 0.5828877005347594, 0.5775401069518716, 0.5748663101604278, 0.5748663101604278, 0.5721925133689839, 0.5721925133689839, 0.56951871657754, 0.5668449197860963, 0.5641711229946524, 0.5641711229946524, 0.5614973262032086, 0.5588235294117647, 0.5561497326203209, 0.5561497326203209, 0.553475935828877, 0.553475935828877, 0.5508021390374331, 0.5481283422459893, 0.5481283422459893, 0.5481283422459893, 0.5454545454545454, 0.5454545454545454, 0.5427807486631016, 0.5401069518716578, 0.5401069518716578, 0.5374331550802139, 0.5374331550802139, 0.5320855614973262, 0.5320855614973262, 0.5294117647058824, 0.5294117647058824, 0.5294117647058824, 0.5294117647058824, 0.5294117647058824, 0.5294117647058824, 0.5267379679144385, 0.5240641711229946, 0.5240641711229946, 0.5213903743315508, 0.5187165775401069, 0.5187165775401069, 0.516042780748663, 0.516042780748663, 0.5133689839572193, 0.5133689839572193, 0.5133689839572193, 0.5133689839572193, 0.5133689839572193, 0.5133689839572193, 0.5133689839572193, 0.5133689839572193, 0.5133689839572193, 0.5106951871657754, 0.5106951871657754, 0.5106951871657754, 0.5080213903743316, 0.5080213903743316, 0.5080213903743316, 0.5053475935828877, 0.5026737967914439, 0.5, 0.49732620320855614, 0.49732620320855614, 0.4946524064171123, 0.4919786096256685, 0.4919786096256685, 0.4919786096256685, 0.4893048128342246, 0.4893048128342246, 0.4893048128342246, 0.48663101604278075, 0.4839572192513369, 0.4839572192513369, 0.48128342245989303, 0.48128342245989303, 0.4786096256684492, 0.47593582887700536, 0.47058823529411764, 0.47058823529411764, 0.4679144385026738, 0.4679144385026738, 0.46524064171123, 0.4625668449197861, 0.45989304812834225, 0.45989304812834225, 0.4572192513368984, 0.4572192513368984, 0.4572192513368984, 0.4572192513368984, 0.45454545454545453, 0.45187165775401067, 0.446524064171123, 0.446524064171123, 0.446524064171123, 0.44385026737967914, 0.44385026737967914, 0.4411764705882353, 0.4385026737967914, 0.4385026737967914, 0.4358288770053476, 0.4358288770053476, 0.43315508021390375, 0.43315508021390375, 0.4304812834224599, 0.4304812834224599, 0.4304812834224599, 0.4304812834224599, 0.4304812834224599, 0.42780748663101603, 0.42513368983957217, 0.42245989304812837, 0.4197860962566845, 0.41711229946524064, 0.41711229946524064, 0.41711229946524064, 0.4144385026737968, 0.4117647058823529, 0.4090909090909091, 0.4090909090909091, 0.4090909090909091, 0.40641711229946526, 0.40641711229946526, 0.4037433155080214, 0.4037433155080214, 0.3983957219251337, 0.3983957219251337, 0.3983957219251337, 0.39572192513368987, 0.39572192513368987, 0.39572192513368987, 0.393048128342246, 0.39037433155080214, 0.3877005347593583, 0.3877005347593583, 0.3877005347593583, 0.3877005347593583, 0.3850267379679144, 0.3850267379679144, 0.38235294117647056, 0.3770053475935829, 0.3770053475935829, 0.3770053475935829, 0.37433155080213903, 0.37433155080213903, 0.3716577540106952, 0.3716577540106952, 0.3689839572192513, 0.3689839572192513, 0.3663101604278075, 0.36363636363636365, 0.36363636363636365, 0.36363636363636365, 0.3609625668449198, 0.3582887700534759, 0.35561497326203206, 0.35294117647058826, 0.3502673796791444, 0.3502673796791444, 0.34759358288770054, 0.3449197860962567, 0.3449197860962567, 0.3422459893048128, 0.3422459893048128, 0.339572192513369, 0.33689839572192515, 0.3342245989304813, 0.3315508021390374, 0.32887700534759357, 0.32620320855614976, 0.32620320855614976, 0.3235294117647059, 0.32085561497326204, 0.3181818181818182, 0.3155080213903743, 0.31283422459893045, 0.31016042780748665, 0.31016042780748665, 0.3074866310160428, 0.3074866310160428, 0.3048128342245989, 0.30213903743315507, 0.30213903743315507, 0.2994652406417112, 0.2967914438502674, 0.29411764705882354, 0.2914438502673797, 0.2887700534759358, 0.2887700534759358, 0.2887700534759358, 0.28609625668449196, 0.28609625668449196, 0.28342245989304815, 0.27540106951871657, 0.27540106951871657, 0.2727272727272727, 0.2727272727272727, 0.2727272727272727, 0.2700534759358289, 0.26737967914438504, 0.2647058823529412, 0.2647058823529412, 0.2620320855614973, 0.2620320855614973, 0.25935828877005346, 0.25935828877005346, 0.25668449197860965, 0.2540106951871658, 0.2540106951871658, 0.25133689839572193, 0.25133689839572193, 0.24866310160427807, 0.24866310160427807, 0.24598930481283424, 0.24598930481283424, 0.24598930481283424, 0.24331550802139038, 0.24064171122994651, 0.23796791443850268, 0.23796791443850268, 0.23529411764705882, 0.232620320855615, 0.22994652406417113, 0.22994652406417113, 0.22727272727272727, 0.22727272727272727, 0.22459893048128343, 0.22192513368983957, 0.22192513368983957, 0.22192513368983957, 0.2192513368983957, 0.2192513368983957, 0.21657754010695188, 0.21390374331550802, 0.21390374331550802, 0.21390374331550802, 0.21122994652406418, 0.20855614973262032, 0.20855614973262032, 0.20855614973262032, 0.20588235294117646, 0.20320855614973263, 0.20320855614973263, 0.20053475935828877, 0.19786096256684493, 0.19518716577540107, 0.1925133689839572, 0.18983957219251338, 0.18716577540106952, 0.18716577540106952, 0.18716577540106952, 0.18449197860962566, 0.18181818181818182, 0.18181818181818182, 0.17914438502673796, 0.17647058823529413, 0.17647058823529413, 0.17379679144385027, 0.1711229946524064, 0.1711229946524064, 0.16844919786096257, 0.1657754010695187, 0.16310160427807488, 0.16310160427807488, 0.16042780748663102, 0.15775401069518716, 0.15775401069518716, 0.15508021390374332, 0.15240641711229946, 0.1497326203208556, 0.14705882352941177, 0.14705882352941177, 0.1443850267379679, 0.14171122994652408, 0.14171122994652408, 0.13903743315508021, 0.13636363636363635, 0.13368983957219252, 0.13101604278074866, 0.12834224598930483, 0.12566844919786097, 0.12299465240641712, 0.12032085561497326, 0.11764705882352941, 0.11497326203208556, 0.11497326203208556, 0.11497326203208556, 0.11229946524064172, 0.10962566844919786, 0.10695187165775401, 0.10427807486631016, 0.10160427807486631, 0.09893048128342247, 0.0962566844919786, 0.09358288770053476, 0.09090909090909091, 0.08823529411764706, 0.08288770053475936, 0.08288770053475936, 0.08021390374331551, 0.07754010695187166, 0.0748663101604278, 0.0748663101604278, 0.07219251336898395, 0.06951871657754011, 0.06684491978609626, 0.06417112299465241, 0.06417112299465241, 0.06149732620320856, 0.06149732620320856, 0.06149732620320856, 0.06149732620320856, 0.058823529411764705, 0.05614973262032086, 0.05614973262032086, 0.053475935828877004, 0.05080213903743316, 0.05080213903743316, 0.0481283422459893, 0.0481283422459893, 0.0481283422459893, 0.045454545454545456, 0.0427807486631016, 0.0427807486631016, 0.040106951871657755, 0.0374331550802139, 0.034759358288770054, 0.03208556149732621, 0.03208556149732621, 0.029411764705882353, 0.029411764705882353, 0.026737967914438502, 0.02406417112299465, 0.0213903743315508, 0.01871657754010695, 0.016042780748663103, 0.013368983957219251, 0.0106951871657754, 0.008021390374331552, 0.0053475935828877, 0.00267379679144385, 0.0], \"y\": [0.29448818897637796, 0.3047385620915033, 0.31, 0.3155216284987277, 0.3149405772495755, 0.31951640759930916, 0.32599118942731276, 0.3262786596119929, 0.33065236818588023, 0.3300536672629696, 0.3294538943598926, 0.3288530465949821, 0.33515981735159817, 0.33546617915904936, 0.34076137418755803, 0.3442776735459662, 0.3488593155893536, 0.3491912464319695, 0.35499515033947626, 0.3553398058252427, 0.361028684470821, 0.3646353646353646, 0.365, 0.36536536536536535, 0.3695431472081218, 0.3699186991869919, 0.37067209775967414, 0.37104994903160043, 0.37448559670781895, 0.37384140061791965, 0.37643378519290926, 0.3768267223382046, 0.3761755485893417, 0.37869198312236285, 0.3790918690601901, 0.379492600422833, 0.3797872340425532, 0.3801916932907348, 0.3795309168443497, 0.3817204301075269, 0.38105489773950485, 0.38146551724137934, 0.38688524590163936, 0.387308533916849, 0.38663745892661555, 0.38981173864894797, 0.3902439024390244, 0.39285714285714285, 0.3954802259887006, 0.39592760180995473, 0.39637599093997733, 0.39885714285714285, 0.39931350114416475, 0.40023201856148494, 0.3995354239256678, 0.4, 0.40046565774155995, 0.40423031727379555, 0.4047058823529412, 0.4056603773584906, 0.40736342042755347, 0.40784780023781214, 0.4083333333333333, 0.4102870813397129, 0.4095808383233533, 0.41007194244604317, 0.41605839416058393, 0.4165651644336175, 0.4170731707317073, 0.4175824175824176, 0.4180929095354523, 0.42027194066749074, 0.4207920792079208, 0.42131350681536556, 0.4232209737827715, 0.42375, 0.42604298356510745, 0.42658227848101266, 0.43039591315453385, 0.4296675191815857, 0.43114543114543114, 0.43170103092783507, 0.43733681462140994, 0.4385733157199472, 0.43915343915343913, 0.43973509933774835, 0.4403183023872679, 0.4409030544488712, 0.44235924932975873, 0.44161073825503355, 0.4422043010752688, 0.44429347826086957, 0.4448979591836735, 0.45027624309392267, 0.4508990318118949, 0.45013850415512463, 0.4507628294036061, 0.4513888888888889, 0.4506258692628651, 0.45673758865248226, 0.45738636363636365, 0.46120689655172414, 0.4618705035971223, 0.4610951008645533, 0.46176046176046176, 0.46098265895953755, 0.46355685131195334, 0.46277372262773725, 0.46345029239766083, 0.46266471449487556, 0.4647058823529412, 0.4639175257731959, 0.4646017699115044, 0.46805349182763745, 0.46726190476190477, 0.46795827123695977, 0.46865671641791046, 0.472809667673716, 0.4720121028744327, 0.4712121212121212, 0.4754601226993865, 0.47465437788018433, 0.4753846153846154, 0.4761171032357473, 0.48055987558320373, 0.48130841121495327, 0.48049921996879874, 0.48043818466353677, 0.48346456692913387, 0.48264984227129337, 0.48183254344391785, 0.48562300319488816, 0.4848, 0.483974358974359, 0.48475120385232745, 0.4855305466237942, 0.49022801302931596, 0.4910277324632953, 0.4918300653594771, 0.49263502454991814, 0.49093904448105435, 0.49174917491749176, 0.4925619834710744, 0.49337748344370863, 0.4974958263772955, 0.4983277591973244, 0.49748743718592964, 0.4983221476510067, 0.5, 0.5008460236886633, 0.5016949152542373, 0.5025466893039049, 0.5017006802721088, 0.5042881646655232, 0.5051546391752577, 0.5069444444444444, 0.5078260869565218, 0.5105633802816901, 0.5114638447971781, 0.5106007067137809, 0.5189873417721519, 0.519927536231884, 0.5190562613430127, 0.52, 0.5210237659963437, 0.5201465201465202, 0.5211009174311927, 0.5222222222222223, 0.5231910946196661, 0.5223048327137546, 0.521415270018622, 0.5223880597014925, 0.5214953271028038, 0.5224719101123596, 0.5264150943396226, 0.5255198487712666, 0.5276190476190477, 0.5286259541984732, 0.5277246653919694, 0.5308880308880309, 0.5319148936170213, 0.5350194552529183, 0.5341130604288499, 0.533203125, 0.5342465753424658, 0.5334645669291339, 0.534516765285996, 0.5335968379446641, 0.5346534653465347, 0.5357142857142857, 0.5410821643286573, 0.5401606425702812, 0.5412474849094567, 0.5414141414141415, 0.5404858299595142, 0.5415821501014199, 0.5428571428571428, 0.5419222903885481, 0.5430327868852459, 0.5441478439425051, 0.5477178423236515, 0.5488565488565489, 0.5479166666666667, 0.5490605427974948, 0.5483193277310925, 0.5494736842105263, 0.5506329113924051, 0.5508474576271186, 0.5498938428874734, 0.551063829787234, 0.5522388059701493, 0.5534188034188035, 0.5524625267665952, 0.5515021459227468, 0.5505376344086022, 0.5517241379310345, 0.5541125541125541, 0.5531453362255966, 0.5521739130434783, 0.55119825708061, 0.5514223194748359, 0.5526315789473685, 0.5516483516483517, 0.552863436123348, 0.5518763796909493, 0.5530973451327433, 0.5543237250554324, 0.5555555555555556, 0.5580357142857143, 0.5570469798657718, 0.5595505617977528, 0.5585585585585585, 0.5575620767494357, 0.5565610859728507, 0.5555555555555556, 0.5583524027459954, 0.5596330275229358, 0.558891454965358, 0.5601851851851852, 0.5614849187935035, 0.5627906976744186, 0.5617715617715617, 0.5630841121495327, 0.5620608899297423, 0.5633802816901409, 0.5623529411764706, 0.5636792452830188, 0.5626477541371159, 0.5639810426540285, 0.5669856459330144, 0.5683453237410072, 0.5697115384615384, 0.5710843373493976, 0.5700483091787439, 0.5714285714285714, 0.5728155339805825, 0.5717761557177615, 0.573170731707317, 0.5745721271393643, 0.5735294117647058, 0.5749385749385749, 0.5763546798029556, 0.5777777777777777, 0.5764411027568922, 0.5753768844221105, 0.5768261964735516, 0.5757575757575758, 0.5746835443037974, 0.5820512820512821, 0.5809768637532133, 0.5824742268041238, 0.5813953488372093, 0.582901554404145, 0.5822454308093995, 0.581151832460733, 0.5800524934383202, 0.5789473684210527, 0.5778364116094987, 0.5793650793650794, 0.5855614973262032, 0.5844504021447721, 0.5860215053763441, 0.5837837837837838, 0.5826558265582655, 0.5842391304347826, 0.5831062670299727, 0.5846994535519126, 0.5835616438356165, 0.5824175824175825, 0.581267217630854, 0.5861111111111111, 0.584958217270195, 0.5854341736694678, 0.5842696629213483, 0.5859154929577465, 0.5864022662889519, 0.5880681818181818, 0.5868945868945868, 0.5857142857142857, 0.5873925501432665, 0.5890804597701149, 0.5878962536023055, 0.5895953757225434, 0.5884057971014492, 0.5872093023255814, 0.5889212827988338, 0.5877192982456141, 0.5894428152492669, 0.5905044510385756, 0.5922619047619048, 0.591044776119403, 0.592814371257485, 0.5945945945945946, 0.5963855421686747, 0.5981873111782477, 0.6, 0.5987841945288754, 0.5975609756097561, 0.6012269938650306, 0.6, 0.5987654320987654, 0.6006191950464397, 0.5993788819875776, 0.6012461059190031, 0.6037735849056604, 0.6056782334384858, 0.6075949367088608, 0.6095238095238096, 0.6114649681528662, 0.6134185303514377, 0.6153846153846154, 0.6213592233009708, 0.6233766233766234, 0.6221498371335505, 0.6241830065359477, 0.6262295081967213, 0.625, 0.6270627062706271, 0.6312292358803987, 0.63, 0.6287625418060201, 0.62751677852349, 0.6262626262626263, 0.6283783783783784, 0.6271186440677966, 0.6258503401360545, 0.6279863481228669, 0.6301369863013698, 0.6288659793814433, 0.6310344827586207, 0.6332179930795848, 0.6319444444444444, 0.6328671328671329, 0.6350877192982456, 0.6338028169014085, 0.6360424028268551, 0.6347517730496454, 0.6334519572953736, 0.6353790613718412, 0.6376811594202898, 0.6363636363636364, 0.6386861313868614, 0.6373626373626373, 0.6360294117647058, 0.6346863468634686, 0.6370370370370371, 0.6356877323420075, 0.6380597014925373, 0.6404494382022472, 0.6428571428571429, 0.6415094339622641, 0.6401515151515151, 0.6398467432950191, 0.6423076923076924, 0.6447876447876448, 0.6434108527131783, 0.6459143968871596, 0.64453125, 0.6456692913385826, 0.6482213438735178, 0.6468253968253969, 0.652, 0.6506024096385542, 0.6532258064516129, 0.6518218623481782, 0.6544715447154471, 0.6571428571428571, 0.6598360655737705, 0.6625514403292181, 0.6611570247933884, 0.6597510373443983, 0.6583333333333333, 0.6569037656903766, 0.6554621848739496, 0.6582278481012658, 0.6610169491525424, 0.6595744680851063, 0.6581196581196581, 0.6566523605150214, 0.6594827586206896, 0.6623376623376623, 0.6608695652173913, 0.6637554585152838, 0.6622807017543859, 0.6651982378854625, 0.6622222222222223, 0.6651785714285714, 0.6681614349775785, 0.6666666666666666, 0.669683257918552, 0.6727272727272727, 0.6712328767123288, 0.6697247706422018, 0.6682027649769585, 0.6712962962962963, 0.6744186046511628, 0.677570093457944, 0.676056338028169, 0.6792452830188679, 0.6777251184834123, 0.6746411483253588, 0.6778846153846154, 0.6811594202898551, 0.6796116504854369, 0.6829268292682927, 0.6813725490196079, 0.6847290640394089, 0.6831683168316832, 0.6865671641791045, 0.685, 0.6834170854271356, 0.6868686868686869, 0.6903553299492385, 0.6887755102040817, 0.6871794871794872, 0.6855670103092784, 0.6839378238341969, 0.6822916666666666, 0.6858638743455497, 0.6842105263157895, 0.6825396825396826, 0.6861702127659575, 0.6844919786096256, 0.6881720430107527, 0.6864864864864865, 0.6847826086956522, 0.6830601092896175, 0.6813186813186813, 0.6795580110497238, 0.6853932584269663, 0.6892655367231638, 0.6875, 0.6857142857142857, 0.6839080459770115, 0.6820809248554913, 0.6802325581395349, 0.6783625730994152, 0.6823529411764706, 0.6804733727810651, 0.6845238095238095, 0.6826347305389222, 0.6807228915662651, 0.6848484848484848, 0.6829268292682927, 0.6809815950920245, 0.6790123456790124, 0.6770186335403726, 0.675, 0.6792452830188679, 0.6835443037974683, 0.6815286624203821, 0.6858974358974359, 0.6838709677419355, 0.6821192052980133, 0.6866666666666666, 0.6845637583892618, 0.6891891891891891, 0.6938775510204082, 0.6917808219178082, 0.6896551724137931, 0.6875, 0.6923076923076923, 0.6901408450704225, 0.6950354609929078, 0.6928571428571428, 0.697841726618705, 0.6956521739130435, 0.6934306569343066, 0.6985294117647058, 0.6962962962962963, 0.7014925373134329, 0.6992481203007519, 0.7045454545454546, 0.7022900763358778, 0.7076923076923077, 0.7131782945736435, 0.7109375, 0.7086614173228346, 0.7063492063492064, 0.712, 0.7154471544715447, 0.7131147540983607, 0.7107438016528925, 0.7166666666666667, 0.7142857142857143, 0.7203389830508474, 0.717948717948718, 0.7155172413793104, 0.7217391304347827, 0.7280701754385965, 0.7256637168141593, 0.7321428571428571, 0.7297297297297297, 0.7272727272727273, 0.7339449541284404, 0.7407407407407407, 0.7383177570093458, 0.7358490566037735, 0.7428571428571429, 0.75, 0.7475728155339806, 0.7450980392156863, 0.7524752475247525, 0.75, 0.7474747474747475, 0.7448979591836735, 0.7422680412371134, 0.7395833333333334, 0.7368421052631579, 0.7446808510638298, 0.7526881720430108, 0.7582417582417582, 0.7555555555555555, 0.7640449438202247, 0.7613636363636364, 0.7586206896551724, 0.7674418604651163, 0.7647058823529411, 0.7619047619047619, 0.7710843373493976, 0.7682926829268293, 0.7654320987654321, 0.7625, 0.7721518987341772, 0.7692307692307693, 0.7662337662337663, 0.7763157894736842, 0.7733333333333333, 0.7702702702702703, 0.7671232876712328, 0.7638888888888888, 0.7746478873239436, 0.7714285714285715, 0.7681159420289855, 0.7794117647058824, 0.7761194029850746, 0.7727272727272727, 0.7692307692307693, 0.765625, 0.7619047619047619, 0.7580645161290323, 0.7540983606557377, 0.75, 0.7457627118644068, 0.7413793103448276, 0.7543859649122807, 0.7678571428571429, 0.7636363636363637, 0.7592592592592593, 0.7547169811320755, 0.75, 0.7450980392156863, 0.74, 0.7346938775510204, 0.7291666666666666, 0.723404255319149, 0.717391304347826, 0.7045454545454546, 0.7209302325581395, 0.7142857142857143, 0.7073170731707317, 0.7, 0.717948717948718, 0.7105263157894737, 0.7027027027027027, 0.6944444444444444, 0.6857142857142857, 0.7058823529411765, 0.696969696969697, 0.71875, 0.7419354838709677, 0.7666666666666667, 0.7586206896551724, 0.75, 0.7777777777777778, 0.7692307692307693, 0.76, 0.7916666666666666, 0.782608695652174, 0.8181818181818182, 0.8571428571428571, 0.85, 0.8421052631578947, 0.8888888888888888, 0.8823529411764706, 0.875, 0.8666666666666667, 0.8571428571428571, 0.9230769230769231, 0.9166666666666666, 1.0, 1.0, 1.0, 1.0, 1.0, 1.0, 1.0, 1.0, 1.0, 1.0, 1.0, 1.0]}, {\"mode\": \"lines\", \"name\": \"ADA\", \"type\": \"scatter\", \"x\": [1.0, 0.9973262032085561, 0.9973262032085561, 0.9973262032085561, 0.9973262032085561, 0.9973262032085561, 0.9973262032085561, 0.9973262032085561, 0.9973262032085561, 0.9973262032085561, 0.9973262032085561, 0.9973262032085561, 0.9973262032085561, 0.9973262032085561, 0.9973262032085561, 0.9973262032085561, 0.9973262032085561, 0.9973262032085561, 0.9973262032085561, 0.9973262032085561, 0.9973262032085561, 0.9973262032085561, 0.9973262032085561, 0.9973262032085561, 0.9973262032085561, 0.9973262032085561, 0.9973262032085561, 0.9973262032085561, 0.9973262032085561, 0.9973262032085561, 0.9973262032085561, 0.9973262032085561, 0.9973262032085561, 0.9973262032085561, 0.9973262032085561, 0.9973262032085561, 0.9973262032085561, 0.9973262032085561, 0.9973262032085561, 0.9973262032085561, 0.9973262032085561, 0.9973262032085561, 0.9973262032085561, 0.9973262032085561, 0.9973262032085561, 0.9973262032085561, 0.9973262032085561, 0.9973262032085561, 0.9973262032085561, 0.9973262032085561, 0.9973262032085561, 0.9973262032085561, 0.9973262032085561, 0.9973262032085561, 0.9973262032085561, 0.9973262032085561, 0.9973262032085561, 0.9973262032085561, 0.9973262032085561, 0.9973262032085561, 0.9973262032085561, 0.9973262032085561, 0.9973262032085561, 0.9973262032085561, 0.9973262032085561, 0.9973262032085561, 0.9973262032085561, 0.9973262032085561, 0.9973262032085561, 0.9973262032085561, 0.9973262032085561, 0.9973262032085561, 0.9973262032085561, 0.9973262032085561, 0.9973262032085561, 0.9973262032085561, 0.9973262032085561, 0.9973262032085561, 0.9973262032085561, 0.9973262032085561, 0.9973262032085561, 0.9973262032085561, 0.9973262032085561, 0.9973262032085561, 0.9973262032085561, 0.9973262032085561, 0.9973262032085561, 0.9973262032085561, 0.9973262032085561, 0.9973262032085561, 0.9973262032085561, 0.9973262032085561, 0.9973262032085561, 0.9973262032085561, 0.9973262032085561, 0.9973262032085561, 0.9973262032085561, 0.9973262032085561, 0.9973262032085561, 0.9973262032085561, 0.9973262032085561, 0.9973262032085561, 0.9973262032085561, 0.9973262032085561, 0.9973262032085561, 0.9973262032085561, 0.9973262032085561, 0.9973262032085561, 0.9973262032085561, 0.9973262032085561, 0.9973262032085561, 0.9973262032085561, 0.9973262032085561, 0.9973262032085561, 0.9973262032085561, 0.9973262032085561, 0.9973262032085561, 0.9973262032085561, 0.9973262032085561, 0.9973262032085561, 0.9973262032085561, 0.9973262032085561, 0.9946524064171123, 0.9946524064171123, 0.9946524064171123, 0.9946524064171123, 0.9946524064171123, 0.9946524064171123, 0.9946524064171123, 0.9946524064171123, 0.9946524064171123, 0.9946524064171123, 0.9946524064171123, 0.9946524064171123, 0.9946524064171123, 0.9946524064171123, 0.9946524064171123, 0.9946524064171123, 0.9946524064171123, 0.9946524064171123, 0.9946524064171123, 0.9946524064171123, 0.9946524064171123, 0.9946524064171123, 0.9946524064171123, 0.9946524064171123, 0.9946524064171123, 0.9946524064171123, 0.9946524064171123, 0.9946524064171123, 0.9946524064171123, 0.9946524064171123, 0.9946524064171123, 0.9946524064171123, 0.9946524064171123, 0.9946524064171123, 0.9946524064171123, 0.9946524064171123, 0.9946524064171123, 0.9946524064171123, 0.9946524064171123, 0.9946524064171123, 0.9946524064171123, 0.9946524064171123, 0.9946524064171123, 0.9946524064171123, 0.9946524064171123, 0.9946524064171123, 0.9946524064171123, 0.9946524064171123, 0.9946524064171123, 0.9946524064171123, 0.9946524064171123, 0.9946524064171123, 0.9946524064171123, 0.9946524064171123, 0.9946524064171123, 0.9946524064171123, 0.9946524064171123, 0.9946524064171123, 0.9946524064171123, 0.9946524064171123, 0.9946524064171123, 0.9946524064171123, 0.9946524064171123, 0.9946524064171123, 0.9946524064171123, 0.9946524064171123, 0.9946524064171123, 0.9946524064171123, 0.9946524064171123, 0.9946524064171123, 0.9946524064171123, 0.9946524064171123, 0.9946524064171123, 0.9946524064171123, 0.9946524064171123, 0.9946524064171123, 0.9946524064171123, 0.9946524064171123, 0.9946524064171123, 0.9946524064171123, 0.9946524064171123, 0.9946524064171123, 0.9946524064171123, 0.9946524064171123, 0.9946524064171123, 0.9946524064171123, 0.9946524064171123, 0.9946524064171123, 0.9946524064171123, 0.9946524064171123, 0.9946524064171123, 0.9946524064171123, 0.9946524064171123, 0.9946524064171123, 0.9946524064171123, 0.9946524064171123, 0.9946524064171123, 0.9946524064171123, 0.9946524064171123, 0.9946524064171123, 0.9946524064171123, 0.9946524064171123, 0.9946524064171123, 0.9946524064171123, 0.9946524064171123, 0.9946524064171123, 0.9946524064171123, 0.9919786096256684, 0.9919786096256684, 0.9919786096256684, 0.9919786096256684, 0.9919786096256684, 0.9919786096256684, 0.9919786096256684, 0.9919786096256684, 0.9919786096256684, 0.9919786096256684, 0.9893048128342246, 0.9893048128342246, 0.9893048128342246, 0.9893048128342246, 0.9893048128342246, 0.9893048128342246, 0.9893048128342246, 0.9893048128342246, 0.9893048128342246, 0.9893048128342246, 0.9893048128342246, 0.9893048128342246, 0.9893048128342246, 0.9893048128342246, 0.9893048128342246, 0.9893048128342246, 0.9893048128342246, 0.9893048128342246, 0.9893048128342246, 0.9893048128342246, 0.9893048128342246, 0.9893048128342246, 0.9893048128342246, 0.9893048128342246, 0.9866310160427807, 0.9866310160427807, 0.9866310160427807, 0.9866310160427807, 0.9866310160427807, 0.9866310160427807, 0.9866310160427807, 0.9866310160427807, 0.9866310160427807, 0.9866310160427807, 0.9866310160427807, 0.983957219251337, 0.983957219251337, 0.983957219251337, 0.983957219251337, 0.983957219251337, 0.983957219251337, 0.983957219251337, 0.983957219251337, 0.983957219251337, 0.983957219251337, 0.983957219251337, 0.983957219251337, 0.983957219251337, 0.983957219251337, 0.983957219251337, 0.983957219251337, 0.983957219251337, 0.983957219251337, 0.983957219251337, 0.983957219251337, 0.983957219251337, 0.983957219251337, 0.9812834224598931, 0.9812834224598931, 0.9812834224598931, 0.9812834224598931, 0.9812834224598931, 0.9812834224598931, 0.9812834224598931, 0.9786096256684492, 0.9786096256684492, 0.9786096256684492, 0.9786096256684492, 0.9786096256684492, 0.9786096256684492, 0.9786096256684492, 0.9786096256684492, 0.9759358288770054, 0.9759358288770054, 0.9759358288770054, 0.9759358288770054, 0.9732620320855615, 0.9732620320855615, 0.9732620320855615, 0.9732620320855615, 0.9732620320855615, 0.9732620320855615, 0.9732620320855615, 0.9732620320855615, 0.9732620320855615, 0.9732620320855615, 0.9732620320855615, 0.9732620320855615, 0.9732620320855615, 0.9732620320855615, 0.9732620320855615, 0.9732620320855615, 0.9732620320855615, 0.9732620320855615, 0.9732620320855615, 0.9732620320855615, 0.9705882352941176, 0.9705882352941176, 0.9705882352941176, 0.9705882352941176, 0.9705882352941176, 0.9705882352941176, 0.9679144385026738, 0.9679144385026738, 0.9679144385026738, 0.9679144385026738, 0.9679144385026738, 0.9679144385026738, 0.9679144385026738, 0.9679144385026738, 0.9679144385026738, 0.9679144385026738, 0.9679144385026738, 0.9679144385026738, 0.9679144385026738, 0.9679144385026738, 0.9679144385026738, 0.9679144385026738, 0.9679144385026738, 0.9679144385026738, 0.9679144385026738, 0.9679144385026738, 0.9679144385026738, 0.9679144385026738, 0.9679144385026738, 0.9679144385026738, 0.9679144385026738, 0.9652406417112299, 0.9652406417112299, 0.9652406417112299, 0.9652406417112299, 0.9652406417112299, 0.9652406417112299, 0.9652406417112299, 0.9652406417112299, 0.9652406417112299, 0.9652406417112299, 0.9652406417112299, 0.9652406417112299, 0.9652406417112299, 0.9652406417112299, 0.9652406417112299, 0.9652406417112299, 0.9652406417112299, 0.9652406417112299, 0.9652406417112299, 0.9652406417112299, 0.9652406417112299, 0.9652406417112299, 0.9652406417112299, 0.9652406417112299, 0.9625668449197861, 0.9625668449197861, 0.9625668449197861, 0.9625668449197861, 0.9625668449197861, 0.9598930481283422, 0.9598930481283422, 0.9598930481283422, 0.9572192513368984, 0.9572192513368984, 0.9545454545454546, 0.9518716577540107, 0.9518716577540107, 0.9491978609625669, 0.9491978609625669, 0.9491978609625669, 0.946524064171123, 0.946524064171123, 0.946524064171123, 0.946524064171123, 0.946524064171123, 0.946524064171123, 0.946524064171123, 0.946524064171123, 0.946524064171123, 0.946524064171123, 0.9438502673796791, 0.9438502673796791, 0.9438502673796791, 0.9438502673796791, 0.9411764705882353, 0.9411764705882353, 0.9411764705882353, 0.9411764705882353, 0.9411764705882353, 0.9411764705882353, 0.9411764705882353, 0.9411764705882353, 0.9411764705882353, 0.9411764705882353, 0.9411764705882353, 0.9385026737967914, 0.9358288770053476, 0.9331550802139037, 0.9331550802139037, 0.9331550802139037, 0.9331550802139037, 0.9331550802139037, 0.9331550802139037, 0.9331550802139037, 0.9331550802139037, 0.9331550802139037, 0.93048128342246, 0.93048128342246, 0.93048128342246, 0.9278074866310161, 0.9278074866310161, 0.9278074866310161, 0.9278074866310161, 0.9278074866310161, 0.9278074866310161, 0.9251336898395722, 0.9251336898395722, 0.9251336898395722, 0.9251336898395722, 0.9251336898395722, 0.9251336898395722, 0.9251336898395722, 0.9251336898395722, 0.9251336898395722, 0.9251336898395722, 0.9251336898395722, 0.9251336898395722, 0.9251336898395722, 0.9251336898395722, 0.9251336898395722, 0.9251336898395722, 0.9251336898395722, 0.9251336898395722, 0.9251336898395722, 0.9251336898395722, 0.9251336898395722, 0.9251336898395722, 0.9251336898395722, 0.9251336898395722, 0.9251336898395722, 0.9251336898395722, 0.9251336898395722, 0.9251336898395722, 0.9224598930481284, 0.9224598930481284, 0.9224598930481284, 0.9224598930481284, 0.9224598930481284, 0.9224598930481284, 0.9224598930481284, 0.9224598930481284, 0.9224598930481284, 0.9224598930481284, 0.9224598930481284, 0.9224598930481284, 0.9224598930481284, 0.9224598930481284, 0.9224598930481284, 0.9224598930481284, 0.9224598930481284, 0.9224598930481284, 0.9224598930481284, 0.9224598930481284, 0.9224598930481284, 0.9224598930481284, 0.9197860962566845, 0.9197860962566845, 0.9197860962566845, 0.9197860962566845, 0.9197860962566845, 0.9197860962566845, 0.9171122994652406, 0.9171122994652406, 0.9144385026737968, 0.9144385026737968, 0.9144385026737968, 0.9144385026737968, 0.9144385026737968, 0.9144385026737968, 0.9144385026737968, 0.9144385026737968, 0.9144385026737968, 0.9144385026737968, 0.9144385026737968, 0.9144385026737968, 0.9144385026737968, 0.9117647058823529, 0.9117647058823529, 0.9117647058823529, 0.9117647058823529, 0.9090909090909091, 0.9090909090909091, 0.9090909090909091, 0.9090909090909091, 0.9090909090909091, 0.9064171122994652, 0.9037433155080213, 0.9037433155080213, 0.9037433155080213, 0.9037433155080213, 0.9037433155080213, 0.9037433155080213, 0.9037433155080213, 0.9037433155080213, 0.9037433155080213, 0.9037433155080213, 0.9037433155080213, 0.9037433155080213, 0.9010695187165776, 0.9010695187165776, 0.9010695187165776, 0.8983957219251337, 0.8957219251336899, 0.893048128342246, 0.8903743315508021, 0.8903743315508021, 0.8903743315508021, 0.8903743315508021, 0.8877005347593583, 0.8877005347593583, 0.8877005347593583, 0.8877005347593583, 0.8850267379679144, 0.8823529411764706, 0.8796791443850267, 0.8796791443850267, 0.8796791443850267, 0.8770053475935828, 0.8743315508021391, 0.8716577540106952, 0.8716577540106952, 0.8716577540106952, 0.8716577540106952, 0.8716577540106952, 0.8716577540106952, 0.8716577540106952, 0.8716577540106952, 0.8716577540106952, 0.8716577540106952, 0.8716577540106952, 0.8716577540106952, 0.8716577540106952, 0.8716577540106952, 0.8663101604278075, 0.8663101604278075, 0.8636363636363636, 0.8636363636363636, 0.8609625668449198, 0.8609625668449198, 0.8609625668449198, 0.8556149732620321, 0.8556149732620321, 0.8556149732620321, 0.8529411764705882, 0.8529411764705882, 0.8529411764705882, 0.8502673796791443, 0.8475935828877005, 0.8475935828877005, 0.8449197860962567, 0.8449197860962567, 0.8449197860962567, 0.8449197860962567, 0.8449197860962567, 0.8449197860962567, 0.8449197860962567, 0.8449197860962567, 0.8449197860962567, 0.8449197860962567, 0.8449197860962567, 0.8449197860962567, 0.8449197860962567, 0.8422459893048129, 0.8368983957219251, 0.8368983957219251, 0.8368983957219251, 0.8368983957219251, 0.8342245989304813, 0.8342245989304813, 0.8342245989304813, 0.8342245989304813, 0.8342245989304813, 0.8315508021390374, 0.8288770053475936, 0.8288770053475936, 0.8288770053475936, 0.8288770053475936, 0.8262032085561497, 0.8262032085561497, 0.8262032085561497, 0.8235294117647058, 0.8235294117647058, 0.8235294117647058, 0.8181818181818182, 0.8155080213903744, 0.8155080213903744, 0.8155080213903744, 0.8155080213903744, 0.8155080213903744, 0.8128342245989305, 0.8128342245989305, 0.8101604278074866, 0.8101604278074866, 0.8101604278074866, 0.8101604278074866, 0.8101604278074866, 0.8101604278074866, 0.8101604278074866, 0.8101604278074866, 0.8074866310160428, 0.8048128342245989, 0.8021390374331551, 0.8021390374331551, 0.8021390374331551, 0.7994652406417112, 0.7967914438502673, 0.7941176470588235, 0.7914438502673797, 0.7914438502673797, 0.7887700534759359, 0.7887700534759359, 0.786096256684492, 0.7834224598930482, 0.7834224598930482, 0.7834224598930482, 0.7834224598930482, 0.7834224598930482, 0.7807486631016043, 0.7807486631016043, 0.7807486631016043, 0.7780748663101604, 0.7780748663101604, 0.7780748663101604, 0.7780748663101604, 0.7780748663101604, 0.7780748663101604, 0.7780748663101604, 0.7780748663101604, 0.7780748663101604, 0.7754010695187166, 0.7754010695187166, 0.7727272727272727, 0.7727272727272727, 0.7700534759358288, 0.7700534759358288, 0.7700534759358288, 0.7700534759358288, 0.7700534759358288, 0.767379679144385, 0.7647058823529411, 0.7620320855614974, 0.7620320855614974, 0.7620320855614974, 0.7620320855614974, 0.7620320855614974, 0.7620320855614974, 0.7620320855614974, 0.7593582887700535, 0.7593582887700535, 0.7593582887700535, 0.7566844919786097, 0.7540106951871658, 0.7486631016042781, 0.7459893048128342, 0.7459893048128342, 0.7459893048128342, 0.7459893048128342, 0.7459893048128342, 0.7459893048128342, 0.7459893048128342, 0.7459893048128342, 0.7433155080213903, 0.7433155080213903, 0.7433155080213903, 0.7433155080213903, 0.7406417112299465, 0.7379679144385026, 0.7352941176470589, 0.7352941176470589, 0.7352941176470589, 0.7352941176470589, 0.7299465240641712, 0.7299465240641712, 0.7272727272727273, 0.7272727272727273, 0.7245989304812834, 0.7219251336898396, 0.7219251336898396, 0.7219251336898396, 0.7219251336898396, 0.7192513368983957, 0.7165775401069518, 0.713903743315508, 0.713903743315508, 0.7112299465240641, 0.7085561497326203, 0.7032085561497327, 0.7005347593582888, 0.6978609625668449, 0.6978609625668449, 0.6978609625668449, 0.6951871657754011, 0.6925133689839572, 0.6925133689839572, 0.6898395721925134, 0.6871657754010695, 0.6871657754010695, 0.6871657754010695, 0.6871657754010695, 0.6844919786096256, 0.6844919786096256, 0.6844919786096256, 0.6844919786096256, 0.6844919786096256, 0.6844919786096256, 0.6818181818181818, 0.679144385026738, 0.6764705882352942, 0.6737967914438503, 0.6711229946524064, 0.6711229946524064, 0.6711229946524064, 0.6684491978609626, 0.6657754010695187, 0.6657754010695187, 0.6657754010695187, 0.6657754010695187, 0.6657754010695187, 0.6657754010695187, 0.6657754010695187, 0.6631016042780749, 0.660427807486631, 0.6577540106951871, 0.6577540106951871, 0.6577540106951871, 0.6550802139037433, 0.6524064171122995, 0.6497326203208557, 0.6497326203208557, 0.6470588235294118, 0.6470588235294118, 0.6443850267379679, 0.6390374331550802, 0.6390374331550802, 0.6390374331550802, 0.6390374331550802, 0.6363636363636364, 0.6363636363636364, 0.6336898395721925, 0.6310160427807486, 0.6310160427807486, 0.6310160427807486, 0.6310160427807486, 0.6283422459893048, 0.6283422459893048, 0.6283422459893048, 0.6256684491978609, 0.6229946524064172, 0.6229946524064172, 0.6229946524064172, 0.6203208556149733, 0.6176470588235294, 0.6176470588235294, 0.6176470588235294, 0.6149732620320856, 0.6122994652406417, 0.6096256684491979, 0.606951871657754, 0.6042780748663101, 0.6042780748663101, 0.6042780748663101, 0.6042780748663101, 0.6042780748663101, 0.6042780748663101, 0.6016042780748663, 0.6016042780748663, 0.6016042780748663, 0.5989304812834224, 0.5989304812834224, 0.5962566844919787, 0.5962566844919787, 0.5962566844919787, 0.5935828877005348, 0.5935828877005348, 0.5935828877005348, 0.5909090909090909, 0.5909090909090909, 0.5882352941176471, 0.5882352941176471, 0.5882352941176471, 0.5855614973262032, 0.5828877005347594, 0.5802139037433155, 0.5775401069518716, 0.5775401069518716, 0.5775401069518716, 0.5775401069518716, 0.5775401069518716, 0.5775401069518716, 0.5775401069518716, 0.5775401069518716, 0.5775401069518716, 0.5775401069518716, 0.5748663101604278, 0.5748663101604278, 0.5721925133689839, 0.56951871657754, 0.5668449197860963, 0.5668449197860963, 0.5668449197860963, 0.5668449197860963, 0.5668449197860963, 0.5641711229946524, 0.5641711229946524, 0.5614973262032086, 0.5588235294117647, 0.5561497326203209, 0.5561497326203209, 0.5508021390374331, 0.5508021390374331, 0.5508021390374331, 0.5454545454545454, 0.5427807486631016, 0.5427807486631016, 0.5401069518716578, 0.5374331550802139, 0.5374331550802139, 0.5347593582887701, 0.5347593582887701, 0.5320855614973262, 0.5320855614973262, 0.5267379679144385, 0.5240641711229946, 0.5213903743315508, 0.5213903743315508, 0.5187165775401069, 0.516042780748663, 0.5133689839572193, 0.5133689839572193, 0.5133689839572193, 0.5106951871657754, 0.5080213903743316, 0.5080213903743316, 0.5080213903743316, 0.5053475935828877, 0.5026737967914439, 0.5, 0.49732620320855614, 0.49732620320855614, 0.49732620320855614, 0.49732620320855614, 0.49732620320855614, 0.4919786096256685, 0.4893048128342246, 0.48663101604278075, 0.4839572192513369, 0.48128342245989303, 0.4786096256684492, 0.47593582887700536, 0.4732620320855615, 0.4732620320855615, 0.47058823529411764, 0.46524064171123, 0.46524064171123, 0.46524064171123, 0.46524064171123, 0.46524064171123, 0.4625668449197861, 0.4625668449197861, 0.45989304812834225, 0.4572192513368984, 0.4572192513368984, 0.4572192513368984, 0.4572192513368984, 0.4572192513368984, 0.4572192513368984, 0.4572192513368984, 0.45454545454545453, 0.45454545454545453, 0.45454545454545453, 0.45187165775401067, 0.45187165775401067, 0.44919786096256686, 0.44919786096256686, 0.446524064171123, 0.44385026737967914, 0.4411764705882353, 0.43315508021390375, 0.43315508021390375, 0.42245989304812837, 0.4197860962566845, 0.41711229946524064, 0.41711229946524064, 0.41711229946524064, 0.41711229946524064, 0.41711229946524064, 0.40641711229946526, 0.40641711229946526, 0.40641711229946526, 0.4037433155080214, 0.39572192513368987, 0.393048128342246, 0.3850267379679144, 0.3850267379679144, 0.38235294117647056, 0.38235294117647056, 0.38235294117647056, 0.38235294117647056, 0.38235294117647056, 0.37967914438502676, 0.3770053475935829, 0.3770053475935829, 0.37433155080213903, 0.37433155080213903, 0.37433155080213903, 0.3716577540106952, 0.3689839572192513, 0.3689839572192513, 0.3689839572192513, 0.3663101604278075, 0.3663101604278075, 0.36363636363636365, 0.36363636363636365, 0.3582887700534759, 0.35561497326203206, 0.34759358288770054, 0.34759358288770054, 0.3449197860962567, 0.3449197860962567, 0.3449197860962567, 0.3449197860962567, 0.3422459893048128, 0.339572192513369, 0.339572192513369, 0.339572192513369, 0.3342245989304813, 0.3342245989304813, 0.3315508021390374, 0.3235294117647059, 0.32085561497326204, 0.32085561497326204, 0.32085561497326204, 0.3155080213903743, 0.31283422459893045, 0.31016042780748665, 0.3074866310160428, 0.3074866310160428, 0.3048128342245989, 0.30213903743315507, 0.30213903743315507, 0.30213903743315507, 0.30213903743315507, 0.2994652406417112, 0.29411764705882354, 0.29411764705882354, 0.29411764705882354, 0.29411764705882354, 0.2914438502673797, 0.2887700534759358, 0.28609625668449196, 0.28609625668449196, 0.28342245989304815, 0.2807486631016043, 0.27807486631016043, 0.27540106951871657, 0.2727272727272727, 0.2727272727272727, 0.26737967914438504, 0.25935828877005346, 0.25935828877005346, 0.25668449197860965, 0.2540106951871658, 0.2540106951871658, 0.25133689839572193, 0.25133689839572193, 0.25133689839572193, 0.24866310160427807, 0.24866310160427807, 0.24866310160427807, 0.24598930481283424, 0.24598930481283424, 0.24331550802139038, 0.24064171122994651, 0.23796791443850268, 0.232620320855615, 0.22727272727272727, 0.22459893048128343, 0.22459893048128343, 0.22192513368983957, 0.2192513368983957, 0.2192513368983957, 0.21122994652406418, 0.21122994652406418, 0.20855614973262032, 0.20588235294117646, 0.20588235294117646, 0.20588235294117646, 0.20588235294117646, 0.20588235294117646, 0.20320855614973263, 0.19786096256684493, 0.19518716577540107, 0.1925133689839572, 0.18983957219251338, 0.18983957219251338, 0.18449197860962566, 0.18449197860962566, 0.17914438502673796, 0.17647058823529413, 0.17379679144385027, 0.1657754010695187, 0.16310160427807488, 0.16042780748663102, 0.15508021390374332, 0.15240641711229946, 0.1497326203208556, 0.1497326203208556, 0.1497326203208556, 0.1497326203208556, 0.14705882352941177, 0.1443850267379679, 0.14171122994652408, 0.14171122994652408, 0.13903743315508021, 0.13636363636363635, 0.13636363636363635, 0.13368983957219252, 0.12566844919786097, 0.12299465240641712, 0.12032085561497326, 0.11764705882352941, 0.11229946524064172, 0.11229946524064172, 0.10962566844919786, 0.10695187165775401, 0.10427807486631016, 0.10160427807486631, 0.10160427807486631, 0.0962566844919786, 0.09358288770053476, 0.09090909090909091, 0.08823529411764706, 0.08021390374331551, 0.07754010695187166, 0.0748663101604278, 0.0748663101604278, 0.07219251336898395, 0.06684491978609626, 0.06417112299465241, 0.06149732620320856, 0.058823529411764705, 0.05614973262032086, 0.053475935828877004, 0.05080213903743316, 0.0481283422459893, 0.045454545454545456, 0.0427807486631016, 0.040106951871657755, 0.0374331550802139, 0.034759358288770054, 0.034759358288770054, 0.029411764705882353, 0.0213903743315508, 0.01871657754010695, 0.013368983957219251, 0.0106951871657754, 0.0053475935828877, 0.0], \"y\": [0.27786032689450224, 0.27898279730740466, 0.2791916167664671, 0.2794007490636704, 0.27961019490254874, 0.28003003003003, 0.2802404207362885, 0.2808734939759036, 0.28108515448379806, 0.2812971342383107, 0.28172205438066467, 0.2819349962207105, 0.2821482602118003, 0.28236184708554124, 0.2840822543792841, 0.2849503437738732, 0.2851681957186544, 0.285823754789272, 0.2860429447852761, 0.28626247122026094, 0.28648233486943164, 0.28670253651037664, 0.28692307692307695, 0.28780864197530864, 0.28803088803088805, 0.2882534775888717, 0.288476411446249, 0.2886996904024768, 0.2889233152594888, 0.28937160589604344, 0.29049844236760125, 0.2907248636009353, 0.29140625, 0.29163408913213446, 0.2918622848200313, 0.29231974921630094, 0.29277864992150704, 0.29323899371069184, 0.2934697088906373, 0.29462875197472355, 0.2948616600790514, 0.2950949367088608, 0.295796986518636, 0.29603174603174603, 0.29650238473767887, 0.2967382657120127, 0.29697452229299365, 0.2972111553784861, 0.2974481658692185, 0.29768555466879487, 0.2979233226837061, 0.2981614708233413, 0.2984, 0.2986389111289031, 0.2988782051282051, 0.2991178829190056, 0.29935794542536115, 0.2995983935742972, 0.29983922829581994, 0.3000804505229284, 0.3005640612409347, 0.3008064516129032, 0.30104923325262306, 0.30129240710823907, 0.3017799352750809, 0.3020242914979757, 0.30374592833876224, 0.30424143556280586, 0.30448979591836733, 0.30498773507767785, 0.30523731587561376, 0.30548730548730546, 0.30573770491803276, 0.3059885151763741, 0.3069958847736626, 0.30724876441515653, 0.30800990916597853, 0.3082644628099174, 0.3103161397670549, 0.3105745212323064, 0.31083333333333335, 0.311092577147623, 0.3116123642439432, 0.31187290969899667, 0.31213389121338914, 0.3126571668063705, 0.31291946308724833, 0.3131821998320739, 0.3134453781512605, 0.3137089991589571, 0.31397306397306396, 0.3145025295109612, 0.31476793248945145, 0.31503378378378377, 0.3153000845308538, 0.3155668358714044, 0.31583403895004236, 0.31610169491525425, 0.31636980491942324, 0.3166383701188455, 0.3169073916737468, 0.3171768707482993, 0.318259385665529, 0.318531169940222, 0.3188034188034188, 0.31907613344739094, 0.3193493150684932, 0.3196229648671808, 0.31989708404802747, 0.3201716738197425, 0.32044673539518903, 0.3207222699914015, 0.32099827882960413, 0.32127476313522824, 0.32155172413793104, 0.3221070811744387, 0.32238547968885045, 0.3226643598615917, 0.3229437229437229, 0.32322357019064124, 0.32350390286209885, 0.3237847222222222, 0.32319721980886185, 0.3234782608695652, 0.3237597911227154, 0.3240418118466899, 0.32432432432432434, 0.32460732984293195, 0.32489082969432315, 0.32517482517482516, 0.32545931758530183, 0.3257443082311734, 0.3263157894736842, 0.32660228270412645, 0.3268892794376098, 0.32717678100263853, 0.3274647887323944, 0.3277533039647577, 0.328042328042328, 0.3283318623124448, 0.3286219081272085, 0.32891246684350134, 0.3292035398230089, 0.32949512843224094, 0.32978723404255317, 0.33037300177619894, 0.33066666666666666, 0.3309608540925267, 0.3312555654496883, 0.3315508021390374, 0.33184656556645853, 0.33214285714285713, 0.3324396782841823, 0.33273703041144903, 0.3333333333333333, 0.33363228699551567, 0.3339317773788151, 0.33423180592991913, 0.3345323741007194, 0.33483348334833485, 0.33513513513513515, 0.33543733092876465, 0.33574007220216606, 0.33604336043360433, 0.33634719710669075, 0.33665158371040727, 0.33695652173913043, 0.33756805807622503, 0.33787465940054495, 0.3381818181818182, 0.33848953594176523, 0.33879781420765026, 0.3391066545123063, 0.33941605839416056, 0.33972602739726027, 0.340036563071298, 0.3403476669716377, 0.34065934065934067, 0.34097158570119157, 0.3415977961432507, 0.34191176470588236, 0.3422263109475621, 0.3425414364640884, 0.34285714285714286, 0.34317343173431736, 0.34349030470914127, 0.3438077634011091, 0.3441258094357077, 0.34444444444444444, 0.3447636700648749, 0.3450834879406308, 0.34540389972144847, 0.34572490706319703, 0.34604651162790695, 0.3463687150837989, 0.3466915191053122, 0.34701492537313433, 0.3473389355742297, 0.34766355140186916, 0.3479887745556595, 0.34831460674157305, 0.3486410496719775, 0.34896810506566606, 0.3492957746478873, 0.34962406015037595, 0.34995296331138287, 0.3502824858757062, 0.35061262959472195, 0.35094339622641507, 0.35127478753541075, 0.3516068052930057, 0.3519394512771996, 0.3522727272727273, 0.35260663507109, 0.35294117647058826, 0.35327635327635326, 0.35361216730038025, 0.35394862036156044, 0.3546234509056244, 0.3549618320610687, 0.3553008595988539, 0.35564053537284895, 0.3563218390804598, 0.3566634707574305, 0.3570057581573896, 0.3573487031700288, 0.3576923076923077, 0.35803657362848895, 0.3583815028901734, 0.3581081081081081, 0.35845410628019325, 0.35880077369439073, 0.3591481122942885, 0.3594961240310077, 0.35984481086323955, 0.36019417475728155, 0.36054421768707484, 0.36089494163424124, 0.361598440545809, 0.36097560975609755, 0.361328125, 0.3616813294232649, 0.36203522504892366, 0.3623898139079334, 0.3627450980392157, 0.3631010794896958, 0.36345776031434185, 0.3638151425762045, 0.3641732283464567, 0.3645320197044335, 0.36489151873767256, 0.36525172754195456, 0.36561264822134387, 0.3659742828882295, 0.36633663366336633, 0.3666997026759167, 0.36706349206349204, 0.36779324055666, 0.3681592039800995, 0.36852589641434264, 0.36926147704590817, 0.3696303696303696, 0.37037037037037035, 0.3697394789579158, 0.37011033099297896, 0.3704819277108434, 0.3708542713567839, 0.37122736418511065, 0.3716012084592145, 0.3719758064516129, 0.37235116044399597, 0.3731041456016178, 0.3734817813765182, 0.3738601823708207, 0.37322515212981744, 0.37360406091370557, 0.37398373983739835, 0.3743641912512716, 0.37474541751527496, 0.3751274209989806, 0.37551020408163266, 0.37589376915219613, 0.3766632548618219, 0.3770491803278688, 0.37782340862423, 0.3786008230452675, 0.37899073120494337, 0.37938144329896906, 0.3797729618163055, 0.38016528925619836, 0.38055842812823165, 0.38095238095238093, 0.38134715025906735, 0.3817427385892116, 0.3821391484942887, 0.38253638253638256, 0.38189386056191466, 0.38229166666666664, 0.38269030239833157, 0.38308977035490605, 0.3834900731452456, 0.38389121338912136, 0.3842931937172775, 0.3836477987421384, 0.38405036726128017, 0.38445378151260506, 0.38485804416403785, 0.38526315789473686, 0.3860759493670886, 0.3864836325237592, 0.386892177589852, 0.3862433862433862, 0.3866525423728814, 0.3870625662778367, 0.3874734607218684, 0.38682252922422955, 0.3872340425531915, 0.3880597014925373, 0.38847385272145146, 0.3888888888888889, 0.3893048128342246, 0.3897216274089936, 0.39013933547695606, 0.3905579399141631, 0.39097744360902253, 0.3913978494623656, 0.39181916038751347, 0.3922413793103448, 0.3926645091693635, 0.3930885529157667, 0.3935135135135135, 0.3939393939393939, 0.39436619718309857, 0.3947939262472885, 0.3952225841476656, 0.39456521739130435, 0.39499455930359084, 0.3954248366013072, 0.39585605234460197, 0.3962882096069869, 0.39672131147540984, 0.39606126914660833, 0.3964950711938664, 0.3969298245614035, 0.3973655323819978, 0.3978021978021978, 0.39823982398239827, 0.3986784140969163, 0.39911797133406834, 0.3995584988962472, 0.4, 0.4004424778761062, 0.4008859357696567, 0.401330376940133, 0.4017758046614872, 0.4022222222222222, 0.40266963292547275, 0.40311804008908686, 0.4035674470457079, 0.40401785714285715, 0.40492170022371365, 0.4053751399776036, 0.40582959641255606, 0.4062850729517396, 0.4067415730337079, 0.40719910011248595, 0.40653153153153154, 0.4069898534385569, 0.4074492099322799, 0.40790960451977404, 0.4088335220838052, 0.409297052154195, 0.4097616345062429, 0.4102272727272727, 0.41069397042093286, 0.41116173120728927, 0.41163055872291904, 0.4121004566210046, 0.4125714285714286, 0.41304347826086957, 0.413516609392898, 0.4139908256880734, 0.41446613088404133, 0.4149425287356322, 0.41589861751152074, 0.41637831603229525, 0.4168591224018476, 0.41734104046242776, 0.41782407407407407, 0.4183082271147161, 0.4176334106728538, 0.4181184668989547, 0.4186046511627907, 0.4190919674039581, 0.4195804195804196, 0.41890315052508753, 0.41939252336448596, 0.4198830409356725, 0.41920374707259955, 0.4196951934349355, 0.41901408450704225, 0.418331374853114, 0.4188235294117647, 0.41813898704358066, 0.4186320754716981, 0.41912632821723733, 0.41843971631205673, 0.41893491124260357, 0.4194312796208531, 0.4199288256227758, 0.42042755344418054, 0.42092746730083236, 0.42142857142857143, 0.42193087008343266, 0.4224343675417661, 0.4229390681003584, 0.4227544910179641, 0.42326139088729015, 0.4237695078031212, 0.42427884615384615, 0.42409638554216866, 0.42460796139927626, 0.4251207729468599, 0.42563482466747277, 0.4261501210653753, 0.4266666666666667, 0.42770352369380316, 0.4282238442822384, 0.4287454323995128, 0.4292682926829268, 0.4297924297924298, 0.4290953545232274, 0.4283965728274174, 0.42769607843137253, 0.42822085889570555, 0.42874692874692877, 0.42927429274292744, 0.42980295566502463, 0.43033292231812575, 0.4308641975308642, 0.43139678615574784, 0.4319306930693069, 0.4312267657992565, 0.4317617866004963, 0.4322981366459627, 0.43159203980099503, 0.43266832917705733, 0.4332084893882647, 0.43375, 0.43429286608260326, 0.4348370927318296, 0.43467336683417085, 0.43522012578616354, 0.4357682619647355, 0.43631778058007564, 0.43686868686868685, 0.43742098609355246, 0.4379746835443038, 0.4385297845373891, 0.43908629441624364, 0.43964421855146124, 0.4402035623409669, 0.4407643312101911, 0.4413265306122449, 0.44189016602809705, 0.4424552429667519, 0.44302176696542894, 0.44358974358974357, 0.4441591784338896, 0.44473007712082263, 0.4453024453024453, 0.44587628865979384, 0.4464516129032258, 0.4470284237726098, 0.4476067270375162, 0.4481865284974093, 0.4487678339818418, 0.44935064935064933, 0.44993498049414826, 0.44921875, 0.4498044328552803, 0.45039164490861616, 0.45098039215686275, 0.45157068062827227, 0.4521625163826999, 0.452755905511811, 0.4533508541392904, 0.45394736842105265, 0.45454545454545453, 0.4551451187335092, 0.4557463672391017, 0.45634920634920634, 0.45695364238410596, 0.4581673306772908, 0.459387483355526, 0.46, 0.4606141522029373, 0.4612299465240642, 0.46184738955823296, 0.4624664879356568, 0.46308724832214765, 0.46236559139784944, 0.4629878869448183, 0.4636118598382749, 0.4642375168690958, 0.4648648648648649, 0.4654939106901218, 0.46476964769647694, 0.4654002713704206, 0.46530612244897956, 0.4659400544959128, 0.4665757162346521, 0.4672131147540984, 0.46785225718194257, 0.4684931506849315, 0.4691358024691358, 0.4697802197802198, 0.47042640990371387, 0.47107438016528924, 0.47172413793103446, 0.4723756906077348, 0.4730290456431535, 0.47229916897506924, 0.47295423023578365, 0.4736111111111111, 0.47426981919332406, 0.4735376044568245, 0.47419804741980476, 0.4748603351955307, 0.4755244755244755, 0.47619047619047616, 0.47545582047685836, 0.4747191011235955, 0.4767277856135402, 0.4774011299435028, 0.4780763790664781, 0.47875354107648727, 0.48011363636363635, 0.48079658605974396, 0.48148148148148145, 0.48216833095577744, 0.4828571428571429, 0.48354792560801146, 0.48424068767908307, 0.4835007173601148, 0.4862914862914863, 0.4869942196531792, 0.48625180897250364, 0.4855072463768116, 0.4861717612809316, 0.48542274052478135, 0.48613138686131385, 0.4868421052631579, 0.48755490483162517, 0.4868035190615836, 0.48751835535976507, 0.48823529411764705, 0.4889543446244477, 0.4882005899705015, 0.4874446085672083, 0.48668639053254437, 0.48813056379821956, 0.4888558692421991, 0.4880952380952381, 0.4873323397913562, 0.4880239520958084, 0.48875562218890556, 0.4894894894894895, 0.49022556390977445, 0.49096385542168675, 0.4917043740573152, 0.49244712990936557, 0.49319213313161875, 0.49393939393939396, 0.4946889226100152, 0.49544072948328266, 0.4961948249619482, 0.4969512195121951, 0.49770992366412214, 0.49693251533742333, 0.49846153846153846, 0.49768875192604006, 0.4984567901234568, 0.49768160741885625, 0.4984520123839009, 0.4992248062015504, 0.4976671850699845, 0.4984423676012461, 0.49921996879875197, 0.4984375, 0.49921752738654146, 0.5, 0.49921507064364207, 0.49842767295597484, 0.5, 0.49921011058451814, 0.5, 0.5007923930269413, 0.5015873015873016, 0.5023847376788553, 0.5031847133757962, 0.5039872408293461, 0.5047923322683706, 0.5056, 0.5064102564102564, 0.507223113964687, 0.5096774193548387, 0.5105008077544426, 0.5097087378640777, 0.5089430894308943, 0.5106035889070146, 0.511437908496732, 0.5131147540983606, 0.5123152709359606, 0.5131578947368421, 0.514003294892916, 0.515702479338843, 0.5165562913907285, 0.5157545605306799, 0.5149501661129569, 0.5158069883527454, 0.5166666666666667, 0.5175292153589316, 0.5167224080267558, 0.5175879396984925, 0.5184563758389261, 0.5176470588235295, 0.5185185185185185, 0.5193929173693086, 0.5177664974619289, 0.5169491525423728, 0.5178268251273345, 0.5187074829931972, 0.5195911413969335, 0.5204778156996587, 0.5196581196581197, 0.5205479452054794, 0.5197255574614065, 0.520618556701031, 0.5215146299483648, 0.5224137931034483, 0.5233160621761658, 0.5242214532871973, 0.5251299826689775, 0.5260416666666666, 0.5252173913043479, 0.524390243902439, 0.5235602094240838, 0.5244755244755245, 0.5253940455341506, 0.5245614035087719, 0.523725834797891, 0.522887323943662, 0.5220458553791887, 0.5229681978798587, 0.5221238938053098, 0.5230496453900709, 0.522202486678508, 0.5213523131672598, 0.5222816399286988, 0.5232142857142857, 0.5241502683363148, 0.525089605734767, 0.5251798561151079, 0.5261261261261261, 0.5270758122743683, 0.5262206148282098, 0.5271739130434783, 0.5281306715063521, 0.5290909090909091, 0.5300546448087432, 0.531021897810219, 0.5319926873857403, 0.532967032967033, 0.5339449541284403, 0.5330882352941176, 0.5340699815837937, 0.533210332103321, 0.5341959334565619, 0.5333333333333333, 0.5343228200371057, 0.5353159851301115, 0.5363128491620112, 0.5383177570093458, 0.5374531835205992, 0.5365853658536586, 0.5377358490566038, 0.5387523629489603, 0.5397727272727273, 0.540796963946869, 0.5418250950570342, 0.5428571428571428, 0.5438931297709924, 0.5440613026819924, 0.5461538461538461, 0.5472061657032755, 0.5463320463320464, 0.5454545454545454, 0.5436893203883495, 0.5428015564202334, 0.543859649122807, 0.544921875, 0.5459882583170255, 0.5470588235294118, 0.5513833992094862, 0.5524752475247525, 0.5535714285714286, 0.5537848605577689, 0.5548902195608783, 0.556, 0.5571142284569138, 0.5562248995983936, 0.5553319919517102, 0.5566801619433198, 0.5578093306288032, 0.5589430894308943, 0.560081466395112, 0.558282208588957, 0.5594262295081968, 0.5585215605749486, 0.5596707818930041, 0.5587628865979382, 0.5578512396694215, 0.5590062111801242, 0.5613305613305614, 0.5625, 0.5615866388308977, 0.5606694560669456, 0.559748427672956, 0.5609243697478992, 0.5611814345991561, 0.5602536997885835, 0.5583864118895966, 0.5598290598290598, 0.5600858369098712, 0.5612903225806452, 0.5625, 0.5615550755939525, 0.5606060606060606, 0.561822125813449, 0.5608695652173913, 0.5599128540305011, 0.5611353711790393, 0.562363238512035, 0.5635964912280702, 0.5626373626373626, 0.5638766519823789, 0.565121412803532, 0.5663716814159292, 0.5676274944567627, 0.5688888888888889, 0.5679287305122495, 0.5669642857142857, 0.5659955257270693, 0.5650224215246636, 0.5640449438202247, 0.5653153153153153, 0.5665914221218962, 0.5656108597285068, 0.5671981776765376, 0.5684931506849316, 0.5697940503432495, 0.5711009174311926, 0.5724137931034483, 0.5737327188940092, 0.5750577367205543, 0.5740740740740741, 0.5730858468677494, 0.5720930232558139, 0.5734265734265734, 0.5747663551401869, 0.5737704918032787, 0.5727699530516432, 0.571764705882353, 0.5731132075471698, 0.5721040189125296, 0.5734597156398105, 0.5724465558194775, 0.5704057279236276, 0.5717703349282297, 0.5759036144578313, 0.5772946859903382, 0.576271186440678, 0.5776699029126213, 0.5780487804878048, 0.5770171149144254, 0.5784313725490197, 0.5798525798525799, 0.5812807881773399, 0.5802469135802469, 0.5816831683168316, 0.5831265508684863, 0.582089552238806, 0.5810473815461347, 0.5825, 0.5839598997493735, 0.5829145728643216, 0.5818639798488665, 0.5833333333333334, 0.5848101265822785, 0.583756345177665, 0.5826972010178118, 0.5816326530612245, 0.5805626598465473, 0.5794871794871795, 0.5809768637532133, 0.5824742268041238, 0.5839793281653747, 0.5854922279792746, 0.587012987012987, 0.5859375, 0.587467362924282, 0.5890052356020943, 0.5879265091863517, 0.5894736842105263, 0.58994708994709, 0.5915119363395226, 0.5930851063829787, 0.592, 0.5935828877005348, 0.5951742627345844, 0.5940860215053764, 0.5956873315363881, 0.5945945945945946, 0.5962059620596206, 0.5978260869565217, 0.5983606557377049, 0.5972602739726027, 0.5961538461538461, 0.5950413223140496, 0.5966850828729282, 0.5983379501385041, 0.6, 0.6016713091922006, 0.6033519553072626, 0.6050420168067226, 0.6067415730337079, 0.6084507042253521, 0.6101694915254238, 0.6090651558073654, 0.6107954545454546, 0.6096866096866097, 0.6103151862464183, 0.6109510086455331, 0.6127167630057804, 0.6144927536231884, 0.6162790697674418, 0.6180758017492711, 0.6169590643274854, 0.6187683284457478, 0.6176470588235294, 0.616519174041298, 0.6153846153846154, 0.6172106824925816, 0.6149253731343284, 0.6167664670658682, 0.6204819277108434, 0.6219512195121951, 0.6207951070336392, 0.6246153846153846, 0.6253869969040248, 0.6242236024844721, 0.6261682242990654, 0.625, 0.6269592476489029, 0.6257861635220126, 0.6277602523659306, 0.6253968253968254, 0.6242038216560509, 0.6230031948881789, 0.625, 0.6237942122186495, 0.6225806451612903, 0.6213592233009708, 0.6233766233766234, 0.6254071661237784, 0.6241830065359477, 0.6229508196721312, 0.625, 0.6270627062706271, 0.6258278145695364, 0.6245847176079734, 0.6233333333333333, 0.6220735785953178, 0.6241610738255033, 0.6262626262626263, 0.6283783783783784, 0.6305084745762712, 0.6279863481228669, 0.6267123287671232, 0.6254295532646048, 0.6241379310344828, 0.6228373702422145, 0.6215277777777778, 0.6202090592334495, 0.6210526315789474, 0.6232394366197183, 0.6219081272084805, 0.6192170818505338, 0.6214285714285714, 0.6236559139784946, 0.6258992805755396, 0.628158844765343, 0.6268115942028986, 0.6290909090909091, 0.6323529411764706, 0.6309963099630996, 0.6333333333333333, 0.6356877323420075, 0.6380597014925373, 0.6404494382022472, 0.6428571428571429, 0.6452830188679245, 0.6439393939393939, 0.6463878326996197, 0.6513409961685823, 0.65, 0.6525096525096525, 0.6511627906976745, 0.6536964980544747, 0.65234375, 0.6509803921568628, 0.6496062992125984, 0.648, 0.6532258064516129, 0.6475409836065574, 0.6460905349794238, 0.6446280991735537, 0.6473029045643154, 0.65, 0.6582278481012658, 0.6610169491525424, 0.6551724137931034, 0.658008658008658, 0.6608695652173913, 0.6593886462882096, 0.6548672566371682, 0.6533333333333333, 0.6545454545454545, 0.6575342465753424, 0.6589861751152074, 0.6620370370370371, 0.6651162790697674, 0.6682242990654206, 0.6713615023474179, 0.6698113207547169, 0.6682464454976303, 0.6714285714285714, 0.6698564593301436, 0.6730769230769231, 0.6763285024154589, 0.6747572815533981, 0.6731707317073171, 0.6764705882352942, 0.6798029556650246, 0.6782178217821783, 0.685, 0.6834170854271356, 0.6868686868686869, 0.6907216494845361, 0.689119170984456, 0.6914893617021277, 0.6951871657754011, 0.6935483870967742, 0.6972972972972973, 0.7010869565217391, 0.7049180327868853, 0.7032967032967034, 0.7016574585635359, 0.7055555555555556, 0.7094972067039106, 0.7062146892655368, 0.7102272727272727, 0.7085714285714285, 0.7034883720930233, 0.7017543859649122, 0.7058823529411765, 0.7100591715976331, 0.7065868263473054, 0.7048192771084337, 0.703030303030303, 0.7012195121951219, 0.7055214723926381, 0.7037037037037037, 0.7018633540372671, 0.710691823899371, 0.7151898734177216, 0.7197452229299363, 0.717948717948718, 0.7142857142857143, 0.7189542483660131, 0.7236842105263158, 0.7284768211920529, 0.7266666666666667, 0.7248322147651006, 0.722972972972973, 0.7278911564625851, 0.726027397260274, 0.7241379310344828, 0.7272727272727273, 0.7253521126760564, 0.723404255319149, 0.7285714285714285, 0.7246376811594203, 0.7185185185185186, 0.7238805970149254, 0.7218045112781954, 0.7251908396946565, 0.7307692307692307, 0.7286821705426356, 0.734375, 0.7401574803149606, 0.7380952380952381, 0.744, 0.75, 0.7479674796747967, 0.7540983606557377, 0.7583333333333333, 0.7563025210084033, 0.7542372881355932, 0.7565217391304347, 0.7522123893805309, 0.75, 0.7567567567567568, 0.7545454545454545, 0.7522935779816514, 0.7592592592592593, 0.7669902912621359, 0.7745098039215687, 0.7722772277227723, 0.77, 0.7857142857142857, 0.7938144329896907, 0.8020833333333334, 0.8105263157894737, 0.8085106382978723, 0.8043478260869565, 0.8021978021978022, 0.8089887640449438, 0.8068181818181818, 0.8160919540229885, 0.8214285714285714, 0.8313253012048193, 0.8271604938271605, 0.825, 0.8227848101265823, 0.8266666666666667, 0.8243243243243243, 0.821917808219178, 0.8169014084507042, 0.8142857142857143, 0.8115942028985508, 0.8235294117647058, 0.835820895522388, 0.8484848484848485, 0.8461538461538461, 0.84375, 0.8412698412698413, 0.8548387096774194, 0.8524590163934426, 0.85, 0.864406779661017, 0.8620689655172413, 0.8545454545454545, 0.8518518518518519, 0.8490566037735849, 0.8461538461538461, 0.84, 0.8571428571428571, 0.8541666666666666, 0.851063829787234, 0.8478260869565217, 0.8444444444444444, 0.8636363636363636, 0.8571428571428571, 0.8536585365853658, 0.85, 0.8461538461538461, 0.8333333333333334, 0.8285714285714286, 0.8484848484848485, 0.875, 0.8709677419354839, 0.8928571428571429, 0.8888888888888888, 0.8846153846153846, 0.88, 0.875, 0.8695652173913043, 0.8636363636363636, 0.8571428571428571, 0.85, 0.8421052631578947, 0.8333333333333334, 0.8235294117647058, 0.8125, 0.8666666666666667, 0.8461538461538461, 0.8, 0.7777777777777778, 0.8333333333333334, 0.8, 1.0, 1.0]}, {\"mode\": \"lines\", \"name\": \"CAT\", \"type\": \"scatter\", \"x\": [1.0, 0.9973262032085561, 0.9973262032085561, 0.9973262032085561, 0.9973262032085561, 0.9973262032085561, 0.9973262032085561, 0.9973262032085561, 0.9973262032085561, 0.9973262032085561, 0.9973262032085561, 0.9973262032085561, 0.9973262032085561, 0.9973262032085561, 0.9973262032085561, 0.9973262032085561, 0.9973262032085561, 0.9973262032085561, 0.9973262032085561, 0.9973262032085561, 0.9973262032085561, 0.9973262032085561, 0.9973262032085561, 0.9973262032085561, 0.9973262032085561, 0.9973262032085561, 0.9973262032085561, 0.9973262032085561, 0.9973262032085561, 0.9973262032085561, 0.9973262032085561, 0.9973262032085561, 0.9973262032085561, 0.9973262032085561, 0.9973262032085561, 0.9973262032085561, 0.9973262032085561, 0.9973262032085561, 0.9973262032085561, 0.9973262032085561, 0.9973262032085561, 0.9973262032085561, 0.9973262032085561, 0.9973262032085561, 0.9973262032085561, 0.9973262032085561, 0.9973262032085561, 0.9973262032085561, 0.9973262032085561, 0.9973262032085561, 0.9973262032085561, 0.9973262032085561, 0.9973262032085561, 0.9973262032085561, 0.9973262032085561, 0.9973262032085561, 0.9973262032085561, 0.9973262032085561, 0.9973262032085561, 0.9973262032085561, 0.9973262032085561, 0.9973262032085561, 0.9973262032085561, 0.9973262032085561, 0.9973262032085561, 0.9973262032085561, 0.9973262032085561, 0.9973262032085561, 0.9973262032085561, 0.9973262032085561, 0.9973262032085561, 0.9973262032085561, 0.9973262032085561, 0.9973262032085561, 0.9973262032085561, 0.9973262032085561, 0.9973262032085561, 0.9973262032085561, 0.9973262032085561, 0.9973262032085561, 0.9973262032085561, 0.9973262032085561, 0.9973262032085561, 0.9973262032085561, 0.9973262032085561, 0.9973262032085561, 0.9973262032085561, 0.9973262032085561, 0.9973262032085561, 0.9973262032085561, 0.9973262032085561, 0.9973262032085561, 0.9973262032085561, 0.9973262032085561, 0.9973262032085561, 0.9973262032085561, 0.9973262032085561, 0.9973262032085561, 0.9973262032085561, 0.9973262032085561, 0.9973262032085561, 0.9973262032085561, 0.9973262032085561, 0.9973262032085561, 0.9973262032085561, 0.9973262032085561, 0.9973262032085561, 0.9973262032085561, 0.9973262032085561, 0.9973262032085561, 0.9973262032085561, 0.9973262032085561, 0.9973262032085561, 0.9973262032085561, 0.9973262032085561, 0.9973262032085561, 0.9973262032085561, 0.9973262032085561, 0.9973262032085561, 0.9973262032085561, 0.9973262032085561, 0.9973262032085561, 0.9973262032085561, 0.9973262032085561, 0.9973262032085561, 0.9973262032085561, 0.9973262032085561, 0.9973262032085561, 0.9973262032085561, 0.9973262032085561, 0.9973262032085561, 0.9973262032085561, 0.9973262032085561, 0.9973262032085561, 0.9973262032085561, 0.9973262032085561, 0.9973262032085561, 0.9973262032085561, 0.9973262032085561, 0.9973262032085561, 0.9973262032085561, 0.9973262032085561, 0.9973262032085561, 0.9973262032085561, 0.9973262032085561, 0.9973262032085561, 0.9973262032085561, 0.9973262032085561, 0.9973262032085561, 0.9973262032085561, 0.9973262032085561, 0.9973262032085561, 0.9973262032085561, 0.9973262032085561, 0.9973262032085561, 0.9973262032085561, 0.9973262032085561, 0.9973262032085561, 0.9973262032085561, 0.9973262032085561, 0.9973262032085561, 0.9973262032085561, 0.9973262032085561, 0.9973262032085561, 0.9973262032085561, 0.9973262032085561, 0.9973262032085561, 0.9973262032085561, 0.9973262032085561, 0.9946524064171123, 0.9946524064171123, 0.9946524064171123, 0.9946524064171123, 0.9946524064171123, 0.9946524064171123, 0.9946524064171123, 0.9946524064171123, 0.9946524064171123, 0.9946524064171123, 0.9946524064171123, 0.9946524064171123, 0.9946524064171123, 0.9946524064171123, 0.9946524064171123, 0.9946524064171123, 0.9946524064171123, 0.9946524064171123, 0.9946524064171123, 0.9946524064171123, 0.9946524064171123, 0.9946524064171123, 0.9946524064171123, 0.9946524064171123, 0.9946524064171123, 0.9946524064171123, 0.9946524064171123, 0.9946524064171123, 0.9946524064171123, 0.9946524064171123, 0.9946524064171123, 0.9946524064171123, 0.9946524064171123, 0.9946524064171123, 0.9946524064171123, 0.9919786096256684, 0.9919786096256684, 0.9919786096256684, 0.9919786096256684, 0.9919786096256684, 0.9919786096256684, 0.9919786096256684, 0.9919786096256684, 0.9919786096256684, 0.9919786096256684, 0.9919786096256684, 0.9919786096256684, 0.9919786096256684, 0.9919786096256684, 0.9919786096256684, 0.9919786096256684, 0.9919786096256684, 0.9919786096256684, 0.9919786096256684, 0.9919786096256684, 0.9919786096256684, 0.9919786096256684, 0.9919786096256684, 0.9919786096256684, 0.9919786096256684, 0.9919786096256684, 0.9919786096256684, 0.9919786096256684, 0.9919786096256684, 0.9919786096256684, 0.9919786096256684, 0.9919786096256684, 0.9919786096256684, 0.9919786096256684, 0.9919786096256684, 0.9919786096256684, 0.9919786096256684, 0.9919786096256684, 0.9919786096256684, 0.9919786096256684, 0.9919786096256684, 0.9919786096256684, 0.9919786096256684, 0.9919786096256684, 0.9919786096256684, 0.9919786096256684, 0.9919786096256684, 0.9919786096256684, 0.9919786096256684, 0.9919786096256684, 0.9919786096256684, 0.9919786096256684, 0.9919786096256684, 0.9919786096256684, 0.9919786096256684, 0.9919786096256684, 0.9919786096256684, 0.9919786096256684, 0.9919786096256684, 0.9919786096256684, 0.9919786096256684, 0.9919786096256684, 0.9919786096256684, 0.9919786096256684, 0.9919786096256684, 0.9919786096256684, 0.9919786096256684, 0.9919786096256684, 0.9919786096256684, 0.9919786096256684, 0.9919786096256684, 0.9919786096256684, 0.9919786096256684, 0.9919786096256684, 0.9919786096256684, 0.9919786096256684, 0.9919786096256684, 0.9919786096256684, 0.9919786096256684, 0.9919786096256684, 0.9919786096256684, 0.9919786096256684, 0.9919786096256684, 0.9919786096256684, 0.9919786096256684, 0.9919786096256684, 0.9919786096256684, 0.9919786096256684, 0.9919786096256684, 0.9919786096256684, 0.9919786096256684, 0.9919786096256684, 0.9919786096256684, 0.9919786096256684, 0.9919786096256684, 0.9919786096256684, 0.9919786096256684, 0.9919786096256684, 0.9919786096256684, 0.9919786096256684, 0.9919786096256684, 0.9919786096256684, 0.9919786096256684, 0.9919786096256684, 0.9919786096256684, 0.9919786096256684, 0.9919786096256684, 0.9919786096256684, 0.9919786096256684, 0.9919786096256684, 0.9919786096256684, 0.9919786096256684, 0.9919786096256684, 0.9919786096256684, 0.9919786096256684, 0.9919786096256684, 0.9919786096256684, 0.9919786096256684, 0.9919786096256684, 0.9919786096256684, 0.9919786096256684, 0.9919786096256684, 0.9919786096256684, 0.9919786096256684, 0.9919786096256684, 0.9919786096256684, 0.9919786096256684, 0.9919786096256684, 0.9919786096256684, 0.9919786096256684, 0.9919786096256684, 0.9919786096256684, 0.9919786096256684, 0.9919786096256684, 0.9919786096256684, 0.9919786096256684, 0.9919786096256684, 0.9919786096256684, 0.9919786096256684, 0.9919786096256684, 0.9919786096256684, 0.9919786096256684, 0.9919786096256684, 0.9919786096256684, 0.9893048128342246, 0.9893048128342246, 0.9893048128342246, 0.9893048128342246, 0.9893048128342246, 0.9893048128342246, 0.9893048128342246, 0.9893048128342246, 0.9893048128342246, 0.9893048128342246, 0.9893048128342246, 0.9893048128342246, 0.9893048128342246, 0.9893048128342246, 0.9866310160427807, 0.9866310160427807, 0.9866310160427807, 0.983957219251337, 0.983957219251337, 0.983957219251337, 0.983957219251337, 0.983957219251337, 0.983957219251337, 0.9812834224598931, 0.9812834224598931, 0.9812834224598931, 0.9812834224598931, 0.9812834224598931, 0.9812834224598931, 0.9812834224598931, 0.9812834224598931, 0.9786096256684492, 0.9786096256684492, 0.9786096256684492, 0.9786096256684492, 0.9786096256684492, 0.9759358288770054, 0.9759358288770054, 0.9759358288770054, 0.9759358288770054, 0.9759358288770054, 0.9759358288770054, 0.9759358288770054, 0.9759358288770054, 0.9759358288770054, 0.9759358288770054, 0.9759358288770054, 0.9759358288770054, 0.9759358288770054, 0.9759358288770054, 0.9759358288770054, 0.9759358288770054, 0.9759358288770054, 0.9759358288770054, 0.9759358288770054, 0.9759358288770054, 0.9759358288770054, 0.9759358288770054, 0.9759358288770054, 0.9759358288770054, 0.9759358288770054, 0.9732620320855615, 0.9732620320855615, 0.9732620320855615, 0.9732620320855615, 0.9732620320855615, 0.9732620320855615, 0.9732620320855615, 0.9732620320855615, 0.9732620320855615, 0.9732620320855615, 0.9732620320855615, 0.9732620320855615, 0.9732620320855615, 0.9732620320855615, 0.9732620320855615, 0.9732620320855615, 0.9732620320855615, 0.9732620320855615, 0.9732620320855615, 0.9732620320855615, 0.9732620320855615, 0.9732620320855615, 0.9732620320855615, 0.9732620320855615, 0.9732620320855615, 0.9732620320855615, 0.9732620320855615, 0.9732620320855615, 0.9732620320855615, 0.9732620320855615, 0.9732620320855615, 0.9732620320855615, 0.9732620320855615, 0.9732620320855615, 0.9732620320855615, 0.9732620320855615, 0.9732620320855615, 0.9732620320855615, 0.9705882352941176, 0.9705882352941176, 0.9705882352941176, 0.9705882352941176, 0.9679144385026738, 0.9679144385026738, 0.9679144385026738, 0.9679144385026738, 0.9679144385026738, 0.9652406417112299, 0.9652406417112299, 0.9652406417112299, 0.9625668449197861, 0.9625668449197861, 0.9598930481283422, 0.9598930481283422, 0.9572192513368984, 0.9572192513368984, 0.9572192513368984, 0.9572192513368984, 0.9572192513368984, 0.9572192513368984, 0.9572192513368984, 0.9572192513368984, 0.9572192513368984, 0.9572192513368984, 0.9572192513368984, 0.9572192513368984, 0.9572192513368984, 0.9572192513368984, 0.9572192513368984, 0.9572192513368984, 0.9572192513368984, 0.9572192513368984, 0.9545454545454546, 0.9518716577540107, 0.9518716577540107, 0.9518716577540107, 0.9518716577540107, 0.9518716577540107, 0.9518716577540107, 0.9491978609625669, 0.9491978609625669, 0.9491978609625669, 0.9491978609625669, 0.9491978609625669, 0.9491978609625669, 0.9491978609625669, 0.9491978609625669, 0.9491978609625669, 0.9491978609625669, 0.9491978609625669, 0.9491978609625669, 0.9491978609625669, 0.9491978609625669, 0.9491978609625669, 0.9491978609625669, 0.9491978609625669, 0.9491978609625669, 0.9491978609625669, 0.9491978609625669, 0.9491978609625669, 0.9491978609625669, 0.9491978609625669, 0.9491978609625669, 0.9491978609625669, 0.9491978609625669, 0.9491978609625669, 0.9491978609625669, 0.9491978609625669, 0.9491978609625669, 0.9491978609625669, 0.9491978609625669, 0.946524064171123, 0.946524064171123, 0.946524064171123, 0.946524064171123, 0.946524064171123, 0.946524064171123, 0.946524064171123, 0.946524064171123, 0.946524064171123, 0.9438502673796791, 0.9438502673796791, 0.9438502673796791, 0.9438502673796791, 0.9411764705882353, 0.9385026737967914, 0.9358288770053476, 0.9358288770053476, 0.9358288770053476, 0.9358288770053476, 0.9358288770053476, 0.9358288770053476, 0.9358288770053476, 0.9358288770053476, 0.9358288770053476, 0.9358288770053476, 0.9358288770053476, 0.9331550802139037, 0.9331550802139037, 0.9331550802139037, 0.9331550802139037, 0.9331550802139037, 0.9331550802139037, 0.9331550802139037, 0.9331550802139037, 0.9331550802139037, 0.9331550802139037, 0.9331550802139037, 0.9331550802139037, 0.93048128342246, 0.93048128342246, 0.93048128342246, 0.93048128342246, 0.93048128342246, 0.93048128342246, 0.93048128342246, 0.93048128342246, 0.93048128342246, 0.93048128342246, 0.93048128342246, 0.93048128342246, 0.9278074866310161, 0.9251336898395722, 0.9224598930481284, 0.9224598930481284, 0.9224598930481284, 0.9224598930481284, 0.9224598930481284, 0.9224598930481284, 0.9197860962566845, 0.9197860962566845, 0.9197860962566845, 0.9197860962566845, 0.9197860962566845, 0.9197860962566845, 0.9197860962566845, 0.9197860962566845, 0.9197860962566845, 0.9197860962566845, 0.9197860962566845, 0.9197860962566845, 0.9197860962566845, 0.9197860962566845, 0.9197860962566845, 0.9197860962566845, 0.9197860962566845, 0.9197860962566845, 0.9197860962566845, 0.9197860962566845, 0.9197860962566845, 0.9197860962566845, 0.9197860962566845, 0.9197860962566845, 0.9197860962566845, 0.9197860962566845, 0.9197860962566845, 0.9197860962566845, 0.9197860962566845, 0.9197860962566845, 0.9197860962566845, 0.9197860962566845, 0.9197860962566845, 0.9197860962566845, 0.9197860962566845, 0.9197860962566845, 0.9197860962566845, 0.9197860962566845, 0.9197860962566845, 0.9197860962566845, 0.9197860962566845, 0.9197860962566845, 0.9197860962566845, 0.9197860962566845, 0.9171122994652406, 0.9144385026737968, 0.9144385026737968, 0.9117647058823529, 0.9090909090909091, 0.9090909090909091, 0.9090909090909091, 0.9090909090909091, 0.9090909090909091, 0.9064171122994652, 0.9064171122994652, 0.9064171122994652, 0.9064171122994652, 0.9064171122994652, 0.9064171122994652, 0.9064171122994652, 0.9064171122994652, 0.9064171122994652, 0.9064171122994652, 0.9037433155080213, 0.9037433155080213, 0.9010695187165776, 0.9010695187165776, 0.9010695187165776, 0.9010695187165776, 0.9010695187165776, 0.9010695187165776, 0.9010695187165776, 0.9010695187165776, 0.9010695187165776, 0.8983957219251337, 0.8983957219251337, 0.8983957219251337, 0.8983957219251337, 0.8983957219251337, 0.8983957219251337, 0.8983957219251337, 0.8957219251336899, 0.8957219251336899, 0.8957219251336899, 0.893048128342246, 0.8903743315508021, 0.8903743315508021, 0.8903743315508021, 0.8903743315508021, 0.8877005347593583, 0.8877005347593583, 0.8877005347593583, 0.8877005347593583, 0.8877005347593583, 0.8877005347593583, 0.8850267379679144, 0.8823529411764706, 0.8823529411764706, 0.8823529411764706, 0.8823529411764706, 0.8823529411764706, 0.8823529411764706, 0.8823529411764706, 0.8796791443850267, 0.8770053475935828, 0.8770053475935828, 0.8743315508021391, 0.8743315508021391, 0.8716577540106952, 0.8716577540106952, 0.8716577540106952, 0.8716577540106952, 0.8689839572192514, 0.8689839572192514, 0.8689839572192514, 0.8689839572192514, 0.8663101604278075, 0.8663101604278075, 0.8663101604278075, 0.8636363636363636, 0.8636363636363636, 0.8636363636363636, 0.8636363636363636, 0.8636363636363636, 0.8636363636363636, 0.8609625668449198, 0.8609625668449198, 0.8609625668449198, 0.8582887700534759, 0.8582887700534759, 0.8582887700534759, 0.8582887700534759, 0.8582887700534759, 0.8556149732620321, 0.8556149732620321, 0.8556149732620321, 0.8529411764705882, 0.8529411764705882, 0.8529411764705882, 0.8529411764705882, 0.8529411764705882, 0.8529411764705882, 0.8529411764705882, 0.8529411764705882, 0.8529411764705882, 0.8502673796791443, 0.8502673796791443, 0.8475935828877005, 0.8475935828877005, 0.8475935828877005, 0.8475935828877005, 0.8475935828877005, 0.8475935828877005, 0.8475935828877005, 0.8449197860962567, 0.8422459893048129, 0.8422459893048129, 0.8422459893048129, 0.8422459893048129, 0.8422459893048129, 0.8422459893048129, 0.8422459893048129, 0.8422459893048129, 0.8422459893048129, 0.8422459893048129, 0.839572192513369, 0.839572192513369, 0.839572192513369, 0.839572192513369, 0.839572192513369, 0.8368983957219251, 0.8342245989304813, 0.8342245989304813, 0.8342245989304813, 0.8342245989304813, 0.8315508021390374, 0.8315508021390374, 0.8288770053475936, 0.8262032085561497, 0.8262032085561497, 0.8262032085561497, 0.8262032085561497, 0.8262032085561497, 0.8262032085561497, 0.8262032085561497, 0.8235294117647058, 0.8235294117647058, 0.820855614973262, 0.8181818181818182, 0.8181818181818182, 0.8181818181818182, 0.8181818181818182, 0.8155080213903744, 0.8155080213903744, 0.8155080213903744, 0.8155080213903744, 0.8155080213903744, 0.8128342245989305, 0.8101604278074866, 0.8101604278074866, 0.8101604278074866, 0.8074866310160428, 0.8048128342245989, 0.8048128342245989, 0.8048128342245989, 0.8048128342245989, 0.8021390374331551, 0.8021390374331551, 0.7994652406417112, 0.7967914438502673, 0.7967914438502673, 0.7967914438502673, 0.7967914438502673, 0.7967914438502673, 0.7967914438502673, 0.7967914438502673, 0.7967914438502673, 0.7967914438502673, 0.7967914438502673, 0.7967914438502673, 0.7967914438502673, 0.7941176470588235, 0.7941176470588235, 0.7914438502673797, 0.7914438502673797, 0.7887700534759359, 0.7887700534759359, 0.7887700534759359, 0.786096256684492, 0.786096256684492, 0.786096256684492, 0.786096256684492, 0.786096256684492, 0.786096256684492, 0.7834224598930482, 0.7807486631016043, 0.7807486631016043, 0.7807486631016043, 0.7807486631016043, 0.7780748663101604, 0.7780748663101604, 0.7780748663101604, 0.7780748663101604, 0.7780748663101604, 0.7780748663101604, 0.7780748663101604, 0.7780748663101604, 0.7780748663101604, 0.7780748663101604, 0.7780748663101604, 0.7780748663101604, 0.7754010695187166, 0.7754010695187166, 0.7754010695187166, 0.7727272727272727, 0.7727272727272727, 0.7700534759358288, 0.767379679144385, 0.7647058823529411, 0.7620320855614974, 0.7620320855614974, 0.7593582887700535, 0.7566844919786097, 0.7566844919786097, 0.7566844919786097, 0.7540106951871658, 0.7540106951871658, 0.7540106951871658, 0.7513368983957219, 0.7486631016042781, 0.7486631016042781, 0.7459893048128342, 0.7459893048128342, 0.7459893048128342, 0.7433155080213903, 0.7406417112299465, 0.7406417112299465, 0.7379679144385026, 0.7352941176470589, 0.7352941176470589, 0.732620320855615, 0.7299465240641712, 0.7272727272727273, 0.7272727272727273, 0.7245989304812834, 0.7245989304812834, 0.7245989304812834, 0.7245989304812834, 0.7245989304812834, 0.7245989304812834, 0.7219251336898396, 0.7219251336898396, 0.7219251336898396, 0.7192513368983957, 0.7192513368983957, 0.7165775401069518, 0.7165775401069518, 0.7165775401069518, 0.713903743315508, 0.713903743315508, 0.7112299465240641, 0.7112299465240641, 0.7112299465240641, 0.7112299465240641, 0.7112299465240641, 0.7085561497326203, 0.7085561497326203, 0.7085561497326203, 0.7085561497326203, 0.7085561497326203, 0.7085561497326203, 0.7085561497326203, 0.7058823529411765, 0.7032085561497327, 0.7005347593582888, 0.7005347593582888, 0.7005347593582888, 0.7005347593582888, 0.6978609625668449, 0.6978609625668449, 0.6978609625668449, 0.6978609625668449, 0.6978609625668449, 0.6978609625668449, 0.6978609625668449, 0.6951871657754011, 0.6951871657754011, 0.6951871657754011, 0.6951871657754011, 0.6951871657754011, 0.6925133689839572, 0.6898395721925134, 0.6898395721925134, 0.6898395721925134, 0.6871657754010695, 0.6871657754010695, 0.6871657754010695, 0.6844919786096256, 0.6844919786096256, 0.6818181818181818, 0.6818181818181818, 0.679144385026738, 0.6764705882352942, 0.6737967914438503, 0.6711229946524064, 0.6711229946524064, 0.6711229946524064, 0.6711229946524064, 0.6711229946524064, 0.6684491978609626, 0.6684491978609626, 0.6657754010695187, 0.6657754010695187, 0.6631016042780749, 0.6631016042780749, 0.660427807486631, 0.6577540106951871, 0.6550802139037433, 0.6524064171122995, 0.6524064171122995, 0.6497326203208557, 0.6497326203208557, 0.6470588235294118, 0.6470588235294118, 0.6470588235294118, 0.6443850267379679, 0.6443850267379679, 0.6443850267379679, 0.6443850267379679, 0.6443850267379679, 0.6443850267379679, 0.6417112299465241, 0.6390374331550802, 0.6363636363636364, 0.6336898395721925, 0.6283422459893048, 0.6283422459893048, 0.6283422459893048, 0.6256684491978609, 0.6256684491978609, 0.6256684491978609, 0.6256684491978609, 0.6256684491978609, 0.6256684491978609, 0.6229946524064172, 0.6229946524064172, 0.6229946524064172, 0.6229946524064172, 0.6203208556149733, 0.6203208556149733, 0.6203208556149733, 0.6203208556149733, 0.6203208556149733, 0.6176470588235294, 0.6149732620320856, 0.6149732620320856, 0.6122994652406417, 0.6122994652406417, 0.6122994652406417, 0.6096256684491979, 0.606951871657754, 0.606951871657754, 0.6042780748663101, 0.6016042780748663, 0.5989304812834224, 0.5989304812834224, 0.5989304812834224, 0.5962566844919787, 0.5962566844919787, 0.5962566844919787, 0.5962566844919787, 0.5962566844919787, 0.5962566844919787, 0.5935828877005348, 0.5935828877005348, 0.5935828877005348, 0.5935828877005348, 0.5935828877005348, 0.5909090909090909, 0.5882352941176471, 0.5882352941176471, 0.5882352941176471, 0.5882352941176471, 0.5855614973262032, 0.5828877005347594, 0.5828877005347594, 0.5828877005347594, 0.5828877005347594, 0.5802139037433155, 0.5775401069518716, 0.5748663101604278, 0.5721925133689839, 0.5721925133689839, 0.5721925133689839, 0.56951871657754, 0.5668449197860963, 0.5668449197860963, 0.5668449197860963, 0.5668449197860963, 0.5668449197860963, 0.5641711229946524, 0.5641711229946524, 0.5641711229946524, 0.5641711229946524, 0.5614973262032086, 0.5614973262032086, 0.5588235294117647, 0.5561497326203209, 0.553475935828877, 0.553475935828877, 0.553475935828877, 0.5508021390374331, 0.5481283422459893, 0.5454545454545454, 0.5427807486631016, 0.5401069518716578, 0.5374331550802139, 0.5347593582887701, 0.5347593582887701, 0.5347593582887701, 0.5320855614973262, 0.5320855614973262, 0.5320855614973262, 0.5294117647058824, 0.5267379679144385, 0.5267379679144385, 0.5240641711229946, 0.5240641711229946, 0.5213903743315508, 0.5187165775401069, 0.5187165775401069, 0.5187165775401069, 0.516042780748663, 0.516042780748663, 0.5133689839572193, 0.5106951871657754, 0.5106951871657754, 0.5080213903743316, 0.5053475935828877, 0.5026737967914439, 0.5026737967914439, 0.5026737967914439, 0.5026737967914439, 0.5, 0.49732620320855614, 0.4946524064171123, 0.4946524064171123, 0.4919786096256685, 0.4893048128342246, 0.4893048128342246, 0.48663101604278075, 0.48663101604278075, 0.4839572192513369, 0.48128342245989303, 0.48128342245989303, 0.48128342245989303, 0.4786096256684492, 0.4786096256684492, 0.4786096256684492, 0.4786096256684492, 0.4786096256684492, 0.47593582887700536, 0.4732620320855615, 0.4732620320855615, 0.4732620320855615, 0.47058823529411764, 0.4679144385026738, 0.46524064171123, 0.4625668449197861, 0.45989304812834225, 0.4572192513368984, 0.4572192513368984, 0.45454545454545453, 0.45454545454545453, 0.45454545454545453, 0.45454545454545453, 0.45187165775401067, 0.45187165775401067, 0.44919786096256686, 0.446524064171123, 0.446524064171123, 0.44385026737967914, 0.4411764705882353, 0.4411764705882353, 0.4385026737967914, 0.4385026737967914, 0.4385026737967914, 0.4385026737967914, 0.4358288770053476, 0.43315508021390375, 0.43315508021390375, 0.4304812834224599, 0.42780748663101603, 0.42513368983957217, 0.42513368983957217, 0.42245989304812837, 0.42245989304812837, 0.42245989304812837, 0.4197860962566845, 0.4197860962566845, 0.41711229946524064, 0.4144385026737968, 0.4117647058823529, 0.4117647058823529, 0.4090909090909091, 0.40641711229946526, 0.40641711229946526, 0.40641711229946526, 0.4037433155080214, 0.40106951871657753, 0.3983957219251337, 0.39572192513368987, 0.393048128342246, 0.393048128342246, 0.39037433155080214, 0.3877005347593583, 0.3877005347593583, 0.3850267379679144, 0.3850267379679144, 0.3850267379679144, 0.3850267379679144, 0.38235294117647056, 0.38235294117647056, 0.37967914438502676, 0.3770053475935829, 0.37433155080213903, 0.3716577540106952, 0.3716577540106952, 0.3716577540106952, 0.3689839572192513, 0.3663101604278075, 0.36363636363636365, 0.36363636363636365, 0.3609625668449198, 0.3609625668449198, 0.3609625668449198, 0.3609625668449198, 0.3582887700534759, 0.3582887700534759, 0.35294117647058826, 0.35294117647058826, 0.35294117647058826, 0.3502673796791444, 0.34759358288770054, 0.3449197860962567, 0.3422459893048128, 0.339572192513369, 0.339572192513369, 0.33689839572192515, 0.3342245989304813, 0.3315508021390374, 0.3315508021390374, 0.3315508021390374, 0.32887700534759357, 0.32620320855614976, 0.3235294117647059, 0.3235294117647059, 0.3235294117647059, 0.32085561497326204, 0.32085561497326204, 0.3181818181818182, 0.3181818181818182, 0.3181818181818182, 0.3181818181818182, 0.3181818181818182, 0.3155080213903743, 0.31283422459893045, 0.31016042780748665, 0.3074866310160428, 0.3048128342245989, 0.30213903743315507, 0.2994652406417112, 0.2967914438502674, 0.29411764705882354, 0.2914438502673797, 0.2887700534759358, 0.2887700534759358, 0.2887700534759358, 0.2887700534759358, 0.2887700534759358, 0.28609625668449196, 0.28609625668449196, 0.28342245989304815, 0.28342245989304815, 0.2807486631016043, 0.2807486631016043, 0.27807486631016043, 0.27540106951871657, 0.2727272727272727, 0.2700534759358289, 0.26737967914438504, 0.26737967914438504, 0.2647058823529412, 0.2647058823529412, 0.2647058823529412, 0.2647058823529412, 0.2647058823529412, 0.2620320855614973, 0.25935828877005346, 0.25668449197860965, 0.25668449197860965, 0.2540106951871658, 0.2540106951871658, 0.2540106951871658, 0.2540106951871658, 0.25133689839572193, 0.24866310160427807, 0.24866310160427807, 0.24598930481283424, 0.24331550802139038, 0.24331550802139038, 0.24331550802139038, 0.24064171122994651, 0.24064171122994651, 0.24064171122994651, 0.23796791443850268, 0.23529411764705882, 0.232620320855615, 0.22994652406417113, 0.22727272727272727, 0.22727272727272727, 0.22459893048128343, 0.22192513368983957, 0.22192513368983957, 0.2192513368983957, 0.2192513368983957, 0.2192513368983957, 0.2192513368983957, 0.21657754010695188, 0.21657754010695188, 0.21390374331550802, 0.21122994652406418, 0.21122994652406418, 0.20855614973262032, 0.20588235294117646, 0.20588235294117646, 0.20320855614973263, 0.20053475935828877, 0.19786096256684493, 0.19786096256684493, 0.19518716577540107, 0.1925133689839572, 0.18983957219251338, 0.18983957219251338, 0.18983957219251338, 0.18716577540106952, 0.18449197860962566, 0.18181818181818182, 0.17914438502673796, 0.17647058823529413, 0.17379679144385027, 0.1711229946524064, 0.16844919786096257, 0.1657754010695187, 0.16310160427807488, 0.15775401069518716, 0.15775401069518716, 0.15508021390374332, 0.15240641711229946, 0.1497326203208556, 0.14705882352941177, 0.1443850267379679, 0.1443850267379679, 0.14171122994652408, 0.13903743315508021, 0.13903743315508021, 0.13636363636363635, 0.13636363636363635, 0.13368983957219252, 0.13101604278074866, 0.13101604278074866, 0.12834224598930483, 0.12566844919786097, 0.12299465240641712, 0.12032085561497326, 0.11497326203208556, 0.11229946524064172, 0.10962566844919786, 0.10695187165775401, 0.10160427807486631, 0.09893048128342247, 0.09893048128342247, 0.09893048128342247, 0.0962566844919786, 0.09358288770053476, 0.09090909090909091, 0.08823529411764706, 0.0855614973262032, 0.0855614973262032, 0.0855614973262032, 0.08288770053475936, 0.08021390374331551, 0.07754010695187166, 0.0748663101604278, 0.07219251336898395, 0.06684491978609626, 0.06417112299465241, 0.06149732620320856, 0.058823529411764705, 0.053475935828877004, 0.05080213903743316, 0.0481283422459893, 0.045454545454545456, 0.0427807486631016, 0.040106951871657755, 0.0374331550802139, 0.034759358288770054, 0.034759358288770054, 0.03208556149732621, 0.029411764705882353, 0.029411764705882353, 0.02406417112299465, 0.02406417112299465, 0.0213903743315508, 0.016042780748663103, 0.013368983957219251, 0.0106951871657754, 0.008021390374331552, 0.0053475935828877, 0.0], \"y\": [0.27219796215429404, 0.2716678805535324, 0.271865889212828, 0.27206418672501825, 0.27226277372262775, 0.2724616508400292, 0.2728602779809802, 0.2730600292825769, 0.27326007326007323, 0.27346041055718473, 0.2736610418195158, 0.27386196769456683, 0.27406318883174136, 0.27426470588235297, 0.2744665194996321, 0.27466863033873345, 0.2748710390567428, 0.2750737463126844, 0.27527675276752767, 0.275480059084195, 0.2756836659275684, 0.27588757396449703, 0.27609178386380456, 0.2762962962962963, 0.2767062314540059, 0.2769116555308092, 0.2771173848439822, 0.27732342007434946, 0.27773641102010427, 0.2779433681073025, 0.27815063385533184, 0.2783582089552239, 0.27856609410007466, 0.2787742899850523, 0.27898279730740466, 0.2791916167664671, 0.2794007490636704, 0.27961019490254874, 0.2798199549887472, 0.28003003003003, 0.2802404207362885, 0.2804511278195489, 0.2806621519939804, 0.2808734939759036, 0.28108515448379806, 0.2812971342383107, 0.28150943396226413, 0.28172205438066467, 0.2819349962207105, 0.2821482602118003, 0.28236184708554124, 0.2825757575757576, 0.2830045523520486, 0.2832194381169324, 0.28343465045592703, 0.28365019011406845, 0.2838660578386606, 0.2840822543792841, 0.2842987804878049, 0.28473282442748094, 0.2849503437738732, 0.2851681957186544, 0.28538638102524866, 0.28560490045941805, 0.285823754789272, 0.2860429447852761, 0.28648233486943164, 0.28670253651037664, 0.28692307692307695, 0.28714395688991534, 0.28736517719568566, 0.28758673862760215, 0.28780864197530864, 0.28803088803088805, 0.2882534775888717, 0.288476411446249, 0.2886996904024768, 0.2889233152594888, 0.28914728682170543, 0.28937160589604344, 0.28959627329192544, 0.2898212898212898, 0.2900466562986003, 0.29027237354085605, 0.29049844236760125, 0.2907248636009353, 0.2909516380655226, 0.29117876658860264, 0.29140625, 0.2918622848200313, 0.2920908379013312, 0.29231974921630094, 0.29254901960784313, 0.29277864992150704, 0.29300864100549884, 0.29323899371069184, 0.2934697088906373, 0.2937007874015748, 0.29393223010244285, 0.2941640378548896, 0.2943962115232833, 0.29462875197472355, 0.2948616600790514, 0.2950949367088608, 0.29556259904912835, 0.295796986518636, 0.29603174603174603, 0.2962668784749801, 0.29650238473767887, 0.2967382657120127, 0.29697452229299365, 0.2972111553784861, 0.2974481658692185, 0.29768555466879487, 0.2979233226837061, 0.2981614708233413, 0.2984, 0.2986389111289031, 0.2988782051282051, 0.2991178829190056, 0.29935794542536115, 0.2995983935742972, 0.29983922829581994, 0.3000804505229284, 0.3003220611916264, 0.3005640612409347, 0.3008064516129032, 0.30104923325262306, 0.30129240710823907, 0.301535974130962, 0.3017799352750809, 0.3020242914979757, 0.30226904376012964, 0.30251419302514193, 0.3027597402597403, 0.30300568643379366, 0.3032520325203252, 0.30349877949552484, 0.30374592833876224, 0.30399348003259985, 0.30424143556280586, 0.30448979591836733, 0.3047385620915033, 0.30498773507767785, 0.30523731587561376, 0.30548730548730546, 0.30573770491803276, 0.3059885151763741, 0.30623973727422005, 0.3064913722267872, 0.3067434210526316, 0.3069958847736626, 0.30724876441515653, 0.3075020610057708, 0.30775577557755773, 0.30800990916597853, 0.3082644628099174, 0.30851943755169564, 0.3087748344370861, 0.30903065451532724, 0.3092868988391376, 0.3095435684647303, 0.30980066445182725, 0.3100581878636742, 0.3103161397670549, 0.3105745212323064, 0.31083333333333335, 0.311092577147623, 0.3113522537562604, 0.3107769423558897, 0.3110367892976589, 0.3112970711297071, 0.31155778894472363, 0.31181894383906117, 0.31208053691275167, 0.3123425692695214, 0.3126050420168067, 0.3128679562657696, 0.31313131313131315, 0.3133951137320977, 0.3136593591905565, 0.3139240506329114, 0.3141891891891892, 0.3144547759932375, 0.3147208121827411, 0.31498729889923793, 0.3152542372881356, 0.3155216284987277, 0.3157894736842105, 0.3160577740016992, 0.3163265306122449, 0.31659574468085105, 0.31686541737649065, 0.3171355498721228, 0.3174061433447099, 0.31767719897523483, 0.31794871794871793, 0.31822070145423437, 0.3184931506849315, 0.31876606683804626, 0.3190394511149228, 0.31931330472103003, 0.31958762886597936, 0.31986242476354254, 0.3192771084337349, 0.3195521102497847, 0.31982758620689655, 0.3201035375323555, 0.32037996545768566, 0.320656871218669, 0.3209342560553633, 0.3212121212121212, 0.3214904679376083, 0.3217692974848222, 0.3220486111111111, 0.32232841007819285, 0.3226086956521739, 0.3228894691035683, 0.3231707317073171, 0.3234524847428073, 0.3237347294938918, 0.3240174672489083, 0.3243006993006993, 0.32458442694663164, 0.3248686514886165, 0.32515337423312884, 0.3254385964912281, 0.3257243195785777, 0.3260105448154657, 0.32629727352682497, 0.3265845070422535, 0.32687224669603526, 0.3271604938271605, 0.32744924977934686, 0.32773851590106007, 0.3280282935455349, 0.32831858407079645, 0.32860938883968116, 0.32890070921985815, 0.32919254658385094, 0.32948490230905864, 0.3297777777777778, 0.3300711743772242, 0.3303650934995548, 0.3306595365418895, 0.33095450490633366, 0.33125, 0.3315460232350313, 0.33184257602862255, 0.3321396598030439, 0.3324372759856631, 0.3327354260089686, 0.33303411131059246, 0.3333333333333333, 0.33363309352517984, 0.3339333933393339, 0.3342342342342342, 0.3345356176735798, 0.3348375451263538, 0.33544303797468356, 0.3357466063348416, 0.33605072463768115, 0.33635539437896644, 0.3366606170598911, 0.3369663941871026, 0.3372727272727273, 0.3375796178343949, 0.33788706739526414, 0.3381950774840474, 0.3385036496350365, 0.33881278538812787, 0.3391224862888483, 0.3394327538883806, 0.33974358974358976, 0.3400549954170486, 0.3403669724770642, 0.34067952249770433, 0.34099264705882354, 0.34130634774609014, 0.3416206261510129, 0.3419354838709677, 0.3422509225092251, 0.3425669436749769, 0.34288354898336415, 0.34320074005550416, 0.3435185185185185, 0.3438368860055607, 0.34415584415584416, 0.34447539461467036, 0.3447955390334573, 0.34511627906976744, 0.34543761638733705, 0.34575955265610436, 0.3460820895522388, 0.3464052287581699, 0.3467289719626168, 0.3470533208606174, 0.34737827715355807, 0.3477038425492034, 0.34803001876172607, 0.3483568075117371, 0.34868421052631576, 0.34901222953904043, 0.3493408662900188, 0.34967012252591895, 0.35, 0.35033050047214354, 0.3506616257088847, 0.3509933774834437, 0.35132575757575757, 0.35165876777251187, 0.3519924098671727, 0.352326685660019, 0.3526615969581749, 0.35299714557564227, 0.35333333333333333, 0.3536701620591039, 0.35400763358778625, 0.3543457497612225, 0.3546845124282983, 0.3550239234449761, 0.3553639846743295, 0.35570469798657717, 0.3560460652591171, 0.356388088376561, 0.35673076923076924, 0.3570741097208855, 0.35741811175337185, 0.35776277724204436, 0.3581081081081081, 0.35845410628019325, 0.35880077369439073, 0.3591481122942885, 0.3594961240310077, 0.35984481086323955, 0.36019417475728155, 0.36054421768707484, 0.36089494163424124, 0.3612463485881207, 0.361598440545809, 0.3619512195121951, 0.3623046875, 0.3626588465298143, 0.363013698630137, 0.3633692458374143, 0.3637254901960784, 0.36408243375858684, 0.3644400785854617, 0.3638151425762045, 0.3641732283464567, 0.3645320197044335, 0.36489151873767256, 0.36525172754195456, 0.36561264822134387, 0.3659742828882295, 0.36633663366336633, 0.3666997026759167, 0.36706349206349204, 0.36742800397219466, 0.36779324055666, 0.3681592039800995, 0.36852589641434264, 0.3678963110667996, 0.36826347305389223, 0.36863136863136864, 0.368, 0.3683683683683684, 0.3687374749498998, 0.3691073219658977, 0.36947791164658633, 0.3698492462311558, 0.369215291750503, 0.36958710976837866, 0.3699596774193548, 0.3703329969727548, 0.3707070707070707, 0.3710819009100101, 0.3714574898785425, 0.3718338399189463, 0.3711967545638945, 0.3715736040609137, 0.3719512195121951, 0.3723296032553408, 0.3727087576374745, 0.3720693170234455, 0.37244897959183676, 0.372829417773238, 0.37321063394683024, 0.3735926305015353, 0.3739754098360656, 0.37435897435897436, 0.37474332648870634, 0.3751284686536485, 0.37551440329218105, 0.37590113285272914, 0.37628865979381443, 0.3766769865841073, 0.37706611570247933, 0.37745604963805585, 0.3778467908902691, 0.37823834196891193, 0.37863070539419086, 0.3790238836967809, 0.3794178794178794, 0.3798126951092612, 0.3802083333333333, 0.3806047966631908, 0.38100208768267224, 0.38140020898641586, 0.3807531380753138, 0.381151832460733, 0.38155136268343814, 0.38195173137460653, 0.38235294117647056, 0.38275499474237645, 0.3831578947368421, 0.3835616438356164, 0.38396624472573837, 0.3843717001055966, 0.38477801268498946, 0.3851851851851852, 0.3855932203389831, 0.3860021208907741, 0.386411889596603, 0.38682252922422955, 0.3872340425531915, 0.3876464323748669, 0.3880597014925373, 0.38847385272145146, 0.3888888888888889, 0.3893048128342246, 0.3897216274089936, 0.39013933547695606, 0.3905579399141631, 0.39097744360902253, 0.3913978494623656, 0.39181916038751347, 0.3922413793103448, 0.3926645091693635, 0.3930885529157667, 0.3935135135135135, 0.3939393939393939, 0.39436619718309857, 0.3947939262472885, 0.3952225841476656, 0.39565217391304347, 0.39608269858541895, 0.3954248366013072, 0.39585605234460197, 0.3962882096069869, 0.39672131147540984, 0.39606126914660833, 0.3964950711938664, 0.3969298245614035, 0.3973655323819978, 0.3978021978021978, 0.39713971397139713, 0.3975770925110132, 0.3980154355016538, 0.3973509933774834, 0.39779005524861877, 0.3971238938053097, 0.39756367663344405, 0.3968957871396896, 0.3973362930077691, 0.3977777777777778, 0.3982202447163515, 0.3986636971046771, 0.399108138238573, 0.39955357142857145, 0.4, 0.4004474272930649, 0.4008958566629339, 0.4013452914798206, 0.40179573512906847, 0.40224719101123596, 0.4026996625421822, 0.40315315315315314, 0.4036076662908681, 0.4040632054176072, 0.40451977401129946, 0.40384615384615385, 0.4031710079275198, 0.4036281179138322, 0.40408626560726446, 0.40454545454545454, 0.4050056882821388, 0.4054669703872437, 0.4047890535917902, 0.4052511415525114, 0.4057142857142857, 0.4061784897025172, 0.4066437571592211, 0.40711009174311924, 0.40757749712973596, 0.40804597701149425, 0.40898617511520735, 0.40945790080738176, 0.40993071593533487, 0.41040462427745666, 0.41087962962962965, 0.41135573580533025, 0.41183294663573083, 0.41231126596980255, 0.4127906976744186, 0.41327124563445866, 0.41375291375291373, 0.41423570595099185, 0.4147196261682243, 0.4152046783625731, 0.41569086651053866, 0.41617819460726846, 0.4166666666666667, 0.4171562867215041, 0.4176470588235294, 0.41813898704358066, 0.4186320754716981, 0.41912632821723733, 0.41962174940898345, 0.42011834319526625, 0.4194312796208531, 0.4199288256227758, 0.42042755344418054, 0.42092746730083236, 0.42142857142857143, 0.42193087008343266, 0.4224343675417661, 0.4229390681003584, 0.423444976076555, 0.4227544910179641, 0.42326139088729015, 0.4237695078031212, 0.42427884615384615, 0.42358604091456076, 0.42289156626506025, 0.4221954161640531, 0.4227053140096618, 0.42321644498186217, 0.423728813559322, 0.42424242424242425, 0.42475728155339804, 0.425273390036452, 0.4257907542579075, 0.42630937880633374, 0.4268292682926829, 0.42735042735042733, 0.42665036674816625, 0.42717258261933905, 0.42769607843137253, 0.42822085889570555, 0.42874692874692877, 0.42927429274292744, 0.42980295566502463, 0.43033292231812575, 0.4308641975308642, 0.43139678615574784, 0.4319306930693069, 0.43246592317224286, 0.4317617866004963, 0.4322981366459627, 0.43283582089552236, 0.43337484433374845, 0.4339152119700748, 0.4344569288389513, 0.435, 0.4355444305381727, 0.43609022556390975, 0.4366373902132999, 0.4371859296482412, 0.4377358490566038, 0.43702770780856426, 0.43631778058007564, 0.4356060606060606, 0.4361567635903919, 0.43670886075949367, 0.43781725888324874, 0.4383735705209657, 0.4389312977099237, 0.43821656050955415, 0.4387755102040816, 0.4393358876117497, 0.4398976982097187, 0.44046094750320103, 0.441025641025641, 0.441591784338896, 0.442159383033419, 0.44272844272844275, 0.44329896907216493, 0.44387096774193546, 0.4444444444444444, 0.445019404915912, 0.44559585492227977, 0.4461738002594034, 0.44675324675324674, 0.44733420026007803, 0.4479166666666667, 0.4485006518904824, 0.4490861618798956, 0.4496732026143791, 0.450261780104712, 0.4508519003931848, 0.45144356955380577, 0.4520367936925099, 0.45263157894736844, 0.45322793148880103, 0.45382585751978893, 0.45442536327608984, 0.455026455026455, 0.4556291390728477, 0.4562334217506631, 0.45683930942895085, 0.4574468085106383, 0.4580559254327563, 0.45866666666666667, 0.45927903871829107, 0.45989304812834225, 0.4605087014725569, 0.46112600536193027, 0.46174496644295304, 0.46236559139784944, 0.4629878869448183, 0.4636118598382749, 0.46288798920377866, 0.46216216216216216, 0.462787550744249, 0.462059620596206, 0.46195652173913043, 0.46258503401360546, 0.46321525885558584, 0.4638472032742155, 0.4644808743169399, 0.4637482900136799, 0.4643835616438356, 0.46502057613168724, 0.46565934065934067, 0.46629986244841815, 0.4669421487603306, 0.4675862068965517, 0.468232044198895, 0.46887966804979253, 0.4695290858725762, 0.46879334257975036, 0.46944444444444444, 0.46870653685674546, 0.46935933147632314, 0.4700139470013947, 0.47067039106145253, 0.47132867132867134, 0.47198879551820727, 0.4726507713884993, 0.47331460674157305, 0.4739803094233474, 0.4732394366197183, 0.47390691114245415, 0.4745762711864407, 0.4752475247524752, 0.47592067988668557, 0.4765957446808511, 0.4772727272727273, 0.47652916073968704, 0.4772079772079772, 0.47788873038516405, 0.47714285714285715, 0.47639484978540775, 0.47707736389684813, 0.47776183644189385, 0.47844827586206895, 0.4776978417266187, 0.4783861671469741, 0.4790764790764791, 0.4797687861271676, 0.4804630969609262, 0.4811594202898551, 0.48040638606676345, 0.4796511627906977, 0.48034934497816595, 0.48104956268221577, 0.48175182481751827, 0.4824561403508772, 0.48316251830161056, 0.4838709677419355, 0.4831130690161527, 0.4823529411764706, 0.48306332842415317, 0.4823008849557522, 0.48301329394387, 0.4822485207100592, 0.482962962962963, 0.4836795252225519, 0.48439821693907875, 0.4836309523809524, 0.4843517138599106, 0.48507462686567165, 0.4857997010463378, 0.48502994011976047, 0.48575712143928035, 0.4864864864864865, 0.4857142857142857, 0.4864457831325301, 0.48717948717948717, 0.4879154078549849, 0.4886535552193646, 0.4893939393939394, 0.48861911987860396, 0.48936170212765956, 0.4901065449010654, 0.4893292682926829, 0.4900763358778626, 0.4908256880733945, 0.49157733537519144, 0.49233128834355827, 0.4915514592933948, 0.49230769230769234, 0.4930662557781202, 0.49228395061728397, 0.49304482225656876, 0.4938080495356037, 0.4945736434108527, 0.4953416149068323, 0.49611197511664074, 0.4968847352024922, 0.49765990639625585, 0.4984375, 0.49765258215962443, 0.49843260188087773, 0.4976452119309262, 0.49842767295597484, 0.49921259842519683, 0.5, 0.5007898894154819, 0.5015822784810127, 0.5023771790808241, 0.5015873015873016, 0.5007949125596184, 0.5015923566878981, 0.5023923444976076, 0.5031948881789138, 0.504, 0.5048076923076923, 0.5056179775280899, 0.5064308681672026, 0.5072463768115942, 0.5080645161290323, 0.5072697899838449, 0.5080906148867314, 0.5089141004862237, 0.5097402597402597, 0.510569105691057, 0.509771986970684, 0.5089722675367048, 0.5098039215686274, 0.5106382978723404, 0.5114754098360655, 0.5106732348111659, 0.5115131578947368, 0.5107084019769358, 0.5099009900990099, 0.5107438016528926, 0.5115894039735099, 0.5124378109452736, 0.5132890365448505, 0.5141430948419301, 0.515, 0.5141903171953256, 0.5150501672240803, 0.5142378559463987, 0.5134228187919463, 0.5142857142857142, 0.5151515151515151, 0.5160202360876898, 0.5152027027027027, 0.5160744500846024, 0.5169491525423728, 0.5178268251273345, 0.5187074829931972, 0.5178875638841567, 0.5170648464163823, 0.517948717948718, 0.5188356164383562, 0.5180102915951973, 0.5171821305841925, 0.5180722891566265, 0.5189655172413793, 0.5198618307426598, 0.5190311418685121, 0.5199306759098787, 0.5190972222222222, 0.5182608695652174, 0.519163763066202, 0.5200698080279232, 0.5209790209790209, 0.521891418563923, 0.5228070175438596, 0.523725834797891, 0.5246478873239436, 0.5255731922398589, 0.5265017667844523, 0.5274336283185841, 0.5293072824156305, 0.5284697508896797, 0.5294117647058824, 0.5285714285714286, 0.5295169946332737, 0.5286738351254481, 0.5296229802513465, 0.5305755395683454, 0.5297297297297298, 0.5306859205776173, 0.5316455696202531, 0.532608695652174, 0.5335753176043557, 0.5345454545454545, 0.5336976320582878, 0.5328467153284672, 0.5347985347985348, 0.5357798165137615, 0.5367647058823529, 0.5359116022099447, 0.5369003690036901, 0.5378927911275416, 0.5388888888888889, 0.5398886827458256, 0.5408921933085502, 0.5418994413407822, 0.542910447761194, 0.5439252336448598, 0.5449438202247191, 0.5459662288930581, 0.5469924812030075, 0.5461393596986818, 0.5471698113207547, 0.5482041587901701, 0.5473484848484849, 0.5483870967741935, 0.5475285171102662, 0.5466666666666666, 0.5458015267175572, 0.5449330783938815, 0.5459770114942529, 0.54510556621881, 0.5442307692307692, 0.5452793834296724, 0.5463320463320464, 0.5454545454545454, 0.5465116279069767, 0.5475728155339806, 0.546692607003891, 0.5458089668615984, 0.546875, 0.5459882583170255, 0.5470588235294118, 0.5481335952848723, 0.547244094488189, 0.5463510848126233, 0.5474308300395256, 0.5465346534653466, 0.5456349206349206, 0.5467196819085487, 0.545816733067729, 0.5449101796407185, 0.544, 0.5450901803607214, 0.5441767068273092, 0.545271629778672, 0.5463709677419355, 0.5474747474747474, 0.548582995951417, 0.5496957403651116, 0.5487804878048781, 0.5498981670061099, 0.5510204081632653, 0.5501022494887525, 0.5512295081967213, 0.5503080082135524, 0.551440329218107, 0.5525773195876289, 0.5516528925619835, 0.5527950310559007, 0.5518672199170125, 0.553014553014553, 0.5541666666666667, 0.5553235908141962, 0.5564853556485355, 0.5555555555555556, 0.5567226890756303, 0.5578947368421052, 0.5590717299578059, 0.5602536997885835, 0.5614406779661016, 0.5626326963906582, 0.5617021276595745, 0.5607675906183369, 0.5598290598290598, 0.5610278372591007, 0.5622317596566524, 0.5634408602150538, 0.5625, 0.5637149028077754, 0.564935064935065, 0.5661605206073753, 0.5673913043478261, 0.5686274509803921, 0.5698689956331878, 0.5689277899343544, 0.5701754385964912, 0.5714285714285714, 0.5726872246696035, 0.5739514348785872, 0.5730088495575221, 0.5720620842572062, 0.5733333333333334, 0.5746102449888641, 0.5736607142857143, 0.5749440715883669, 0.5762331838565022, 0.5752808988764045, 0.5765765765765766, 0.5756207674943566, 0.5769230769230769, 0.5812356979405034, 0.5802752293577982, 0.5793103448275863, 0.5783410138248848, 0.5810185185185185, 0.5823665893271461, 0.5837209302325581, 0.585081585081585, 0.5841121495327103, 0.585480093676815, 0.5845070422535211, 0.5858823529411765, 0.5849056603773585, 0.5862884160756501, 0.5853080568720379, 0.5857142857142857, 0.5847255369928401, 0.583732057416268, 0.5851318944844125, 0.5841346153846154, 0.5855421686746988, 0.5845410628019324, 0.585956416464891, 0.587378640776699, 0.5863746958637469, 0.5878048780487805, 0.589242053789731, 0.5906862745098039, 0.5921375921375921, 0.5935960591133005, 0.5925925925925926, 0.5915841584158416, 0.5920398009950248, 0.5910224438902744, 0.5889724310776943, 0.5904522613065326, 0.5919395465994962, 0.5909090909090909, 0.5924050632911393, 0.5939086294416244, 0.5954198473282443, 0.5969387755102041, 0.59846547314578, 0.5974358974358974, 0.5989717223650386, 0.6005154639175257, 0.6020671834625323, 0.6010362694300518, 0.6025974025974026, 0.6041666666666666, 0.6057441253263708, 0.6073298429319371, 0.6062992125984252, 0.6052631578947368, 0.6068601583113457, 0.6058201058201058, 0.6074270557029178, 0.6090425531914894, 0.608, 0.606951871657754, 0.6085790884718498, 0.6075268817204301, 0.6064690026954178, 0.6054054054054054, 0.6070460704607046, 0.6086956521739131, 0.6076294277929155, 0.6092896174863388, 0.6109589041095891, 0.6126373626373627, 0.6143250688705234, 0.6160220994475138, 0.6149584487534626, 0.6166666666666667, 0.6183844011142061, 0.6201117318435754, 0.6218487394957983, 0.6207865168539326, 0.6197183098591549, 0.6214689265536724, 0.623229461756374, 0.625, 0.6257142857142857, 0.6246418338108882, 0.6264367816091954, 0.6282420749279539, 0.630057803468208, 0.6289855072463768, 0.627906976744186, 0.6268221574344023, 0.6257309941520468, 0.6275659824046921, 0.6294117647058823, 0.6283185840707964, 0.6272189349112426, 0.629080118694362, 0.6309523809523809, 0.6328358208955224, 0.6347305389221557, 0.6336336336336337, 0.6355421686746988, 0.6374622356495468, 0.6393939393939394, 0.6382978723404256, 0.6402439024390244, 0.6391437308868502, 0.6380368098159509, 0.6369230769230769, 0.6388888888888888, 0.6408668730650154, 0.639751552795031, 0.6386292834890965, 0.6375, 0.6363636363636364, 0.6352201257861635, 0.6340694006309149, 0.6329113924050633, 0.6349206349206349, 0.6369426751592356, 0.6357827476038339, 0.6378205128205128, 0.639871382636656, 0.6387096774193548, 0.6375404530744336, 0.6396103896103896, 0.6384364820846905, 0.6405228758169934, 0.639344262295082, 0.6381578947368421, 0.6402640264026402, 0.6423841059602649, 0.6411960132890365, 0.6433333333333333, 0.6421404682274248, 0.6409395973154363, 0.6430976430976431, 0.6418918918918919, 0.6406779661016949, 0.6416382252559727, 0.6438356164383562, 0.6460481099656358, 0.6482758620689655, 0.6470588235294118, 0.6458333333333334, 0.6445993031358885, 0.6468531468531469, 0.6456140350877193, 0.6443661971830986, 0.6466431095406361, 0.6453900709219859, 0.6476868327402135, 0.6464285714285715, 0.6451612903225806, 0.6474820143884892, 0.6498194945848376, 0.6485507246376812, 0.6509090909090909, 0.6532846715328468, 0.6556776556776557, 0.6580882352941176, 0.6568265682656826, 0.6555555555555556, 0.6579925650557621, 0.6604477611940298, 0.6591760299625468, 0.6578947368421053, 0.6566037735849056, 0.6553030303030303, 0.6539923954372624, 0.6526717557251909, 0.6551724137931034, 0.6538461538461539, 0.6563706563706564, 0.6589147286821705, 0.6614785992217899, 0.6627450980392157, 0.6653543307086615, 0.6640316205533597, 0.6626984126984127, 0.6653386454183267, 0.664, 0.6626506024096386, 0.6653225806451613, 0.6639676113360324, 0.6666666666666666, 0.6693877551020408, 0.6721311475409836, 0.6707818930041153, 0.6694214876033058, 0.6721991701244814, 0.6708333333333333, 0.6694560669456067, 0.6680672268907563, 0.6708860759493671, 0.6694915254237288, 0.6723404255319149, 0.6752136752136753, 0.6738197424892703, 0.6767241379310345, 0.6753246753246753, 0.6739130434782609, 0.6724890829694323, 0.6754385964912281, 0.6740088105726872, 0.672566371681416, 0.6755555555555556, 0.6785714285714286, 0.6771300448430493, 0.6756756756756757, 0.6742081447963801, 0.6727272727272727, 0.6712328767123288, 0.6743119266055045, 0.6728110599078341, 0.6712962962962963, 0.6744186046511628, 0.6728971962616822, 0.676056338028169, 0.6792452830188679, 0.6824644549763034, 0.680952380952381, 0.6842105263157895, 0.6826923076923077, 0.6811594202898551, 0.6829268292682927, 0.6813725490196079, 0.6847290640394089, 0.6881188118811881, 0.6865671641791045, 0.685, 0.6834170854271356, 0.6868686868686869, 0.6852791878172588, 0.6887755102040817, 0.6923076923076923, 0.6958762886597938, 0.694300518134715, 0.6979166666666666, 0.6947368421052632, 0.6984126984126984, 0.7021276595744681, 0.7005347593582888, 0.6989247311827957, 0.6972972972972973, 0.6956521739130435, 0.6939890710382514, 0.6978021978021978, 0.6961325966850829, 0.6944444444444444, 0.6927374301675978, 0.6966292134831461, 0.7005649717514124, 0.6988636363636364, 0.6971428571428572, 0.6954022988505747, 0.6994219653179191, 0.7034883720930233, 0.7017543859649122, 0.7058823529411765, 0.7041420118343196, 0.7083333333333334, 0.7125748502994012, 0.7168674698795181, 0.7212121212121212, 0.7195121951219512, 0.7177914110429447, 0.7160493827160493, 0.7142857142857143, 0.7125, 0.710691823899371, 0.7088607594936709, 0.7070063694267515, 0.7051282051282052, 0.7032258064516129, 0.7012987012987013, 0.7058823529411765, 0.7105263157894737, 0.7152317880794702, 0.72, 0.7181208053691275, 0.722972972972973, 0.7210884353741497, 0.726027397260274, 0.7241379310344828, 0.7291666666666666, 0.7272727272727273, 0.7253521126760564, 0.723404255319149, 0.7214285714285714, 0.7194244604316546, 0.7246376811594203, 0.7226277372262774, 0.7279411764705882, 0.7333333333333333, 0.7388059701492538, 0.7443609022556391, 0.7424242424242424, 0.7404580152671756, 0.7384615384615385, 0.7441860465116279, 0.7421875, 0.7480314960629921, 0.753968253968254, 0.76, 0.7580645161290323, 0.7560975609756098, 0.7622950819672131, 0.7603305785123967, 0.7583333333333333, 0.7647058823529411, 0.7711864406779662, 0.7692307692307693, 0.7758620689655172, 0.782608695652174, 0.7807017543859649, 0.7787610619469026, 0.7767857142857143, 0.7747747747747747, 0.7727272727272727, 0.7798165137614679, 0.7777777777777778, 0.7757009345794392, 0.7830188679245284, 0.780952380952381, 0.7884615384615384, 0.7961165048543689, 0.803921568627451, 0.801980198019802, 0.81, 0.8080808080808081, 0.8061224489795918, 0.8144329896907216, 0.8125, 0.8105263157894737, 0.8191489361702128, 0.8172043010752689, 0.8152173913043478, 0.8131868131868132, 0.8222222222222222, 0.8202247191011236, 0.8181818181818182, 0.8160919540229885, 0.8255813953488372, 0.8352941176470589, 0.8333333333333334, 0.8313253012048193, 0.8292682926829268, 0.8271604938271605, 0.825, 0.8227848101265823, 0.8205128205128205, 0.8181818181818182, 0.8157894736842105, 0.8133333333333334, 0.8194444444444444, 0.8309859154929577, 0.8285714285714286, 0.8260869565217391, 0.8235294117647058, 0.8208955223880597, 0.8181818181818182, 0.8307692307692308, 0.828125, 0.8253968253968254, 0.8387096774193549, 0.8360655737704918, 0.85, 0.847457627118644, 0.8448275862068966, 0.8596491228070176, 0.8571428571428571, 0.8545454545454545, 0.8518518518518519, 0.8490566037735849, 0.8431372549019608, 0.84, 0.8367346938775511, 0.8333333333333334, 0.8260869565217391, 0.8222222222222222, 0.8409090909090909, 0.8604651162790697, 0.8571428571428571, 0.8536585365853658, 0.85, 0.8461538461538461, 0.8421052631578947, 0.8648648648648649, 0.8888888888888888, 0.8857142857142857, 0.8823529411764706, 0.8787878787878788, 0.875, 0.8709677419354839, 0.8620689655172413, 0.8571428571428571, 0.8518518518518519, 0.8461538461538461, 0.8333333333333334, 0.8260869565217391, 0.8181818181818182, 0.8095238095238095, 0.8, 0.7894736842105263, 0.7777777777777778, 0.7647058823529411, 0.8125, 0.8, 0.7857142857142857, 0.8461538461538461, 0.9, 1.0, 1.0, 1.0, 1.0, 1.0, 1.0, 1.0, 1.0]}, {\"mode\": \"lines\", \"name\": \"SGB\", \"type\": \"scatter\", \"x\": [1.0, 0.9973262032085561, 0.9973262032085561, 0.9973262032085561, 0.9973262032085561, 0.9973262032085561, 0.9973262032085561, 0.9973262032085561, 0.9973262032085561, 0.9973262032085561, 0.9973262032085561, 0.9973262032085561, 0.9973262032085561, 0.9973262032085561, 0.9973262032085561, 0.9973262032085561, 0.9973262032085561, 0.9973262032085561, 0.9973262032085561, 0.9973262032085561, 0.9973262032085561, 0.9973262032085561, 0.9973262032085561, 0.9973262032085561, 0.9973262032085561, 0.9973262032085561, 0.9973262032085561, 0.9973262032085561, 0.9973262032085561, 0.9973262032085561, 0.9973262032085561, 0.9973262032085561, 0.9973262032085561, 0.9973262032085561, 0.9973262032085561, 0.9973262032085561, 0.9973262032085561, 0.9973262032085561, 0.9973262032085561, 0.9973262032085561, 0.9973262032085561, 0.9973262032085561, 0.9973262032085561, 0.9973262032085561, 0.9973262032085561, 0.9973262032085561, 0.9973262032085561, 0.9973262032085561, 0.9973262032085561, 0.9973262032085561, 0.9973262032085561, 0.9973262032085561, 0.9973262032085561, 0.9973262032085561, 0.9973262032085561, 0.9973262032085561, 0.9973262032085561, 0.9973262032085561, 0.9973262032085561, 0.9973262032085561, 0.9973262032085561, 0.9973262032085561, 0.9973262032085561, 0.9973262032085561, 0.9973262032085561, 0.9973262032085561, 0.9973262032085561, 0.9973262032085561, 0.9973262032085561, 0.9973262032085561, 0.9973262032085561, 0.9973262032085561, 0.9973262032085561, 0.9973262032085561, 0.9973262032085561, 0.9973262032085561, 0.9973262032085561, 0.9973262032085561, 0.9973262032085561, 0.9973262032085561, 0.9973262032085561, 0.9973262032085561, 0.9973262032085561, 0.9973262032085561, 0.9973262032085561, 0.9973262032085561, 0.9973262032085561, 0.9973262032085561, 0.9973262032085561, 0.9973262032085561, 0.9973262032085561, 0.9973262032085561, 0.9973262032085561, 0.9973262032085561, 0.9973262032085561, 0.9973262032085561, 0.9973262032085561, 0.9973262032085561, 0.9973262032085561, 0.9973262032085561, 0.9973262032085561, 0.9973262032085561, 0.9973262032085561, 0.9973262032085561, 0.9973262032085561, 0.9973262032085561, 0.9973262032085561, 0.9973262032085561, 0.9973262032085561, 0.9973262032085561, 0.9973262032085561, 0.9973262032085561, 0.9973262032085561, 0.9973262032085561, 0.9973262032085561, 0.9973262032085561, 0.9973262032085561, 0.9973262032085561, 0.9973262032085561, 0.9973262032085561, 0.9973262032085561, 0.9973262032085561, 0.9973262032085561, 0.9973262032085561, 0.9973262032085561, 0.9973262032085561, 0.9973262032085561, 0.9973262032085561, 0.9973262032085561, 0.9973262032085561, 0.9973262032085561, 0.9973262032085561, 0.9973262032085561, 0.9946524064171123, 0.9946524064171123, 0.9946524064171123, 0.9946524064171123, 0.9946524064171123, 0.9946524064171123, 0.9946524064171123, 0.9946524064171123, 0.9946524064171123, 0.9946524064171123, 0.9946524064171123, 0.9946524064171123, 0.9946524064171123, 0.9946524064171123, 0.9946524064171123, 0.9946524064171123, 0.9946524064171123, 0.9946524064171123, 0.9946524064171123, 0.9946524064171123, 0.9946524064171123, 0.9946524064171123, 0.9946524064171123, 0.9946524064171123, 0.9946524064171123, 0.9946524064171123, 0.9946524064171123, 0.9946524064171123, 0.9946524064171123, 0.9946524064171123, 0.9946524064171123, 0.9946524064171123, 0.9946524064171123, 0.9946524064171123, 0.9946524064171123, 0.9946524064171123, 0.9946524064171123, 0.9946524064171123, 0.9946524064171123, 0.9946524064171123, 0.9946524064171123, 0.9946524064171123, 0.9946524064171123, 0.9946524064171123, 0.9946524064171123, 0.9946524064171123, 0.9946524064171123, 0.9946524064171123, 0.9946524064171123, 0.9946524064171123, 0.9946524064171123, 0.9946524064171123, 0.9946524064171123, 0.9946524064171123, 0.9946524064171123, 0.9946524064171123, 0.9946524064171123, 0.9946524064171123, 0.9946524064171123, 0.9946524064171123, 0.9946524064171123, 0.9946524064171123, 0.9946524064171123, 0.9946524064171123, 0.9946524064171123, 0.9946524064171123, 0.9946524064171123, 0.9946524064171123, 0.9919786096256684, 0.9919786096256684, 0.9919786096256684, 0.9919786096256684, 0.9919786096256684, 0.9919786096256684, 0.9919786096256684, 0.9919786096256684, 0.9919786096256684, 0.9919786096256684, 0.9919786096256684, 0.9919786096256684, 0.9919786096256684, 0.9919786096256684, 0.9919786096256684, 0.9919786096256684, 0.9919786096256684, 0.9919786096256684, 0.9919786096256684, 0.9919786096256684, 0.9919786096256684, 0.9893048128342246, 0.9893048128342246, 0.9893048128342246, 0.9893048128342246, 0.9893048128342246, 0.9893048128342246, 0.9893048128342246, 0.9893048128342246, 0.9893048128342246, 0.9893048128342246, 0.9893048128342246, 0.9893048128342246, 0.9893048128342246, 0.9893048128342246, 0.9893048128342246, 0.9893048128342246, 0.9893048128342246, 0.9893048128342246, 0.9893048128342246, 0.9893048128342246, 0.9893048128342246, 0.9893048128342246, 0.9893048128342246, 0.9893048128342246, 0.9893048128342246, 0.9893048128342246, 0.9893048128342246, 0.9893048128342246, 0.9893048128342246, 0.9893048128342246, 0.9893048128342246, 0.9893048128342246, 0.9866310160427807, 0.9866310160427807, 0.9866310160427807, 0.9866310160427807, 0.9866310160427807, 0.9866310160427807, 0.9866310160427807, 0.9866310160427807, 0.9866310160427807, 0.9866310160427807, 0.9866310160427807, 0.9866310160427807, 0.9866310160427807, 0.9866310160427807, 0.9866310160427807, 0.983957219251337, 0.983957219251337, 0.983957219251337, 0.983957219251337, 0.983957219251337, 0.983957219251337, 0.983957219251337, 0.983957219251337, 0.983957219251337, 0.983957219251337, 0.983957219251337, 0.9812834224598931, 0.9812834224598931, 0.9812834224598931, 0.9812834224598931, 0.9812834224598931, 0.9812834224598931, 0.9812834224598931, 0.9812834224598931, 0.9812834224598931, 0.9812834224598931, 0.9812834224598931, 0.9812834224598931, 0.9812834224598931, 0.9812834224598931, 0.9812834224598931, 0.9812834224598931, 0.9812834224598931, 0.9812834224598931, 0.9812834224598931, 0.9812834224598931, 0.9812834224598931, 0.9812834224598931, 0.9812834224598931, 0.9812834224598931, 0.9812834224598931, 0.9786096256684492, 0.9786096256684492, 0.9786096256684492, 0.9786096256684492, 0.9786096256684492, 0.9786096256684492, 0.9786096256684492, 0.9786096256684492, 0.9786096256684492, 0.9786096256684492, 0.9786096256684492, 0.9786096256684492, 0.9786096256684492, 0.9786096256684492, 0.9759358288770054, 0.9759358288770054, 0.9759358288770054, 0.9759358288770054, 0.9759358288770054, 0.9759358288770054, 0.9759358288770054, 0.9759358288770054, 0.9759358288770054, 0.9759358288770054, 0.9759358288770054, 0.9759358288770054, 0.9732620320855615, 0.9705882352941176, 0.9705882352941176, 0.9705882352941176, 0.9705882352941176, 0.9705882352941176, 0.9705882352941176, 0.9705882352941176, 0.9705882352941176, 0.9705882352941176, 0.9705882352941176, 0.9705882352941176, 0.9705882352941176, 0.9705882352941176, 0.9705882352941176, 0.9705882352941176, 0.9705882352941176, 0.9705882352941176, 0.9705882352941176, 0.9705882352941176, 0.9705882352941176, 0.9705882352941176, 0.9705882352941176, 0.9705882352941176, 0.9705882352941176, 0.9705882352941176, 0.9705882352941176, 0.9705882352941176, 0.9705882352941176, 0.9705882352941176, 0.9705882352941176, 0.9705882352941176, 0.9705882352941176, 0.9705882352941176, 0.9705882352941176, 0.9705882352941176, 0.9705882352941176, 0.9705882352941176, 0.9705882352941176, 0.9705882352941176, 0.9705882352941176, 0.9705882352941176, 0.9705882352941176, 0.9705882352941176, 0.9705882352941176, 0.9705882352941176, 0.9705882352941176, 0.9705882352941176, 0.9705882352941176, 0.9679144385026738, 0.9679144385026738, 0.9679144385026738, 0.9679144385026738, 0.9679144385026738, 0.9679144385026738, 0.9679144385026738, 0.9679144385026738, 0.9679144385026738, 0.9679144385026738, 0.9679144385026738, 0.9652406417112299, 0.9652406417112299, 0.9652406417112299, 0.9652406417112299, 0.9652406417112299, 0.9652406417112299, 0.9652406417112299, 0.9652406417112299, 0.9652406417112299, 0.9652406417112299, 0.9652406417112299, 0.9652406417112299, 0.9652406417112299, 0.9652406417112299, 0.9652406417112299, 0.9652406417112299, 0.9625668449197861, 0.9598930481283422, 0.9598930481283422, 0.9598930481283422, 0.9598930481283422, 0.9598930481283422, 0.9572192513368984, 0.9572192513368984, 0.9545454545454546, 0.9545454545454546, 0.9545454545454546, 0.9518716577540107, 0.9518716577540107, 0.9518716577540107, 0.9518716577540107, 0.9491978609625669, 0.9491978609625669, 0.9491978609625669, 0.9491978609625669, 0.9491978609625669, 0.9491978609625669, 0.9491978609625669, 0.9491978609625669, 0.9491978609625669, 0.946524064171123, 0.946524064171123, 0.9438502673796791, 0.9438502673796791, 0.9438502673796791, 0.9438502673796791, 0.9411764705882353, 0.9411764705882353, 0.9411764705882353, 0.9411764705882353, 0.9411764705882353, 0.9385026737967914, 0.9358288770053476, 0.9358288770053476, 0.9331550802139037, 0.9331550802139037, 0.9331550802139037, 0.9331550802139037, 0.9331550802139037, 0.9331550802139037, 0.9331550802139037, 0.9331550802139037, 0.93048128342246, 0.9278074866310161, 0.9278074866310161, 0.9251336898395722, 0.9224598930481284, 0.9224598930481284, 0.9224598930481284, 0.9197860962566845, 0.9171122994652406, 0.9171122994652406, 0.9171122994652406, 0.9144385026737968, 0.9144385026737968, 0.9144385026737968, 0.9144385026737968, 0.9144385026737968, 0.9144385026737968, 0.9144385026737968, 0.9144385026737968, 0.9117647058823529, 0.9117647058823529, 0.9117647058823529, 0.9117647058823529, 0.9117647058823529, 0.9117647058823529, 0.9117647058823529, 0.9117647058823529, 0.9117647058823529, 0.9117647058823529, 0.9117647058823529, 0.9117647058823529, 0.9117647058823529, 0.9117647058823529, 0.9117647058823529, 0.9117647058823529, 0.9117647058823529, 0.9117647058823529, 0.9117647058823529, 0.9117647058823529, 0.9117647058823529, 0.9117647058823529, 0.9117647058823529, 0.9117647058823529, 0.9117647058823529, 0.9117647058823529, 0.9117647058823529, 0.9117647058823529, 0.9117647058823529, 0.9117647058823529, 0.9117647058823529, 0.9117647058823529, 0.9117647058823529, 0.9117647058823529, 0.9117647058823529, 0.9117647058823529, 0.9117647058823529, 0.9117647058823529, 0.9117647058823529, 0.9117647058823529, 0.9117647058823529, 0.9117647058823529, 0.9117647058823529, 0.9117647058823529, 0.9117647058823529, 0.9090909090909091, 0.9090909090909091, 0.9064171122994652, 0.9064171122994652, 0.9064171122994652, 0.9037433155080213, 0.9010695187165776, 0.8983957219251337, 0.8983957219251337, 0.8983957219251337, 0.8983957219251337, 0.8957219251336899, 0.8957219251336899, 0.8957219251336899, 0.8957219251336899, 0.8957219251336899, 0.8957219251336899, 0.8957219251336899, 0.8957219251336899, 0.8957219251336899, 0.893048128342246, 0.893048128342246, 0.8903743315508021, 0.8903743315508021, 0.8903743315508021, 0.8877005347593583, 0.8877005347593583, 0.8877005347593583, 0.8877005347593583, 0.8877005347593583, 0.8877005347593583, 0.8850267379679144, 0.8850267379679144, 0.8850267379679144, 0.8823529411764706, 0.8823529411764706, 0.8823529411764706, 0.8796791443850267, 0.8796791443850267, 0.8796791443850267, 0.8770053475935828, 0.8770053475935828, 0.8770053475935828, 0.8743315508021391, 0.8743315508021391, 0.8716577540106952, 0.8716577540106952, 0.8716577540106952, 0.8689839572192514, 0.8689839572192514, 0.8689839572192514, 0.8689839572192514, 0.8689839572192514, 0.8689839572192514, 0.8689839572192514, 0.8689839572192514, 0.8689839572192514, 0.8689839572192514, 0.8689839572192514, 0.8663101604278075, 0.8636363636363636, 0.8636363636363636, 0.8636363636363636, 0.8636363636363636, 0.8636363636363636, 0.8636363636363636, 0.8636363636363636, 0.8636363636363636, 0.8636363636363636, 0.8636363636363636, 0.8636363636363636, 0.8636363636363636, 0.8636363636363636, 0.8636363636363636, 0.8636363636363636, 0.8609625668449198, 0.8609625668449198, 0.8609625668449198, 0.8609625668449198, 0.8582887700534759, 0.8582887700534759, 0.8582887700534759, 0.8556149732620321, 0.8556149732620321, 0.8556149732620321, 0.8556149732620321, 0.8556149732620321, 0.8556149732620321, 0.8556149732620321, 0.8529411764705882, 0.8529411764705882, 0.8529411764705882, 0.8529411764705882, 0.8529411764705882, 0.8529411764705882, 0.8502673796791443, 0.8502673796791443, 0.8502673796791443, 0.8475935828877005, 0.8475935828877005, 0.8475935828877005, 0.8475935828877005, 0.8475935828877005, 0.8475935828877005, 0.8475935828877005, 0.8475935828877005, 0.8449197860962567, 0.8449197860962567, 0.8422459893048129, 0.8422459893048129, 0.8422459893048129, 0.8422459893048129, 0.839572192513369, 0.839572192513369, 0.839572192513369, 0.839572192513369, 0.839572192513369, 0.839572192513369, 0.839572192513369, 0.839572192513369, 0.8368983957219251, 0.8342245989304813, 0.8315508021390374, 0.8315508021390374, 0.8315508021390374, 0.8288770053475936, 0.8288770053475936, 0.8288770053475936, 0.8288770053475936, 0.8288770053475936, 0.8288770053475936, 0.8288770053475936, 0.8288770053475936, 0.8288770053475936, 0.8288770053475936, 0.8288770053475936, 0.8262032085561497, 0.8262032085561497, 0.8262032085561497, 0.8262032085561497, 0.8262032085561497, 0.8262032085561497, 0.8262032085561497, 0.8235294117647058, 0.820855614973262, 0.820855614973262, 0.820855614973262, 0.8181818181818182, 0.8181818181818182, 0.8181818181818182, 0.8181818181818182, 0.8155080213903744, 0.8155080213903744, 0.8155080213903744, 0.8155080213903744, 0.8155080213903744, 0.8155080213903744, 0.8155080213903744, 0.8155080213903744, 0.8155080213903744, 0.8155080213903744, 0.8128342245989305, 0.8128342245989305, 0.8101604278074866, 0.8101604278074866, 0.8101604278074866, 0.8101604278074866, 0.8101604278074866, 0.8101604278074866, 0.8101604278074866, 0.8101604278074866, 0.8101604278074866, 0.8101604278074866, 0.8074866310160428, 0.8074866310160428, 0.8048128342245989, 0.8021390374331551, 0.8021390374331551, 0.7994652406417112, 0.7967914438502673, 0.7967914438502673, 0.7941176470588235, 0.7914438502673797, 0.7914438502673797, 0.7914438502673797, 0.7914438502673797, 0.7887700534759359, 0.7887700534759359, 0.7887700534759359, 0.786096256684492, 0.786096256684492, 0.786096256684492, 0.7834224598930482, 0.7834224598930482, 0.7834224598930482, 0.7834224598930482, 0.7834224598930482, 0.7834224598930482, 0.7807486631016043, 0.7807486631016043, 0.7780748663101604, 0.7780748663101604, 0.7780748663101604, 0.7780748663101604, 0.7780748663101604, 0.7754010695187166, 0.7754010695187166, 0.7727272727272727, 0.7700534759358288, 0.767379679144385, 0.7647058823529411, 0.7647058823529411, 0.7620320855614974, 0.7620320855614974, 0.7620320855614974, 0.7620320855614974, 0.7620320855614974, 0.7593582887700535, 0.7566844919786097, 0.7540106951871658, 0.7513368983957219, 0.7486631016042781, 0.7486631016042781, 0.7486631016042781, 0.7486631016042781, 0.7486631016042781, 0.7459893048128342, 0.7459893048128342, 0.7459893048128342, 0.7459893048128342, 0.7459893048128342, 0.7459893048128342, 0.7459893048128342, 0.7433155080213903, 0.7433155080213903, 0.7406417112299465, 0.7406417112299465, 0.7379679144385026, 0.7379679144385026, 0.7379679144385026, 0.7352941176470589, 0.732620320855615, 0.732620320855615, 0.7299465240641712, 0.7299465240641712, 0.7272727272727273, 0.7272727272727273, 0.7272727272727273, 0.7272727272727273, 0.7272727272727273, 0.7272727272727273, 0.7272727272727273, 0.7245989304812834, 0.7245989304812834, 0.7219251336898396, 0.7219251336898396, 0.7219251336898396, 0.7219251336898396, 0.7219251336898396, 0.7192513368983957, 0.7165775401069518, 0.7165775401069518, 0.713903743315508, 0.7112299465240641, 0.7112299465240641, 0.7085561497326203, 0.7085561497326203, 0.7085561497326203, 0.7058823529411765, 0.7058823529411765, 0.7058823529411765, 0.7058823529411765, 0.7058823529411765, 0.7058823529411765, 0.7032085561497327, 0.7005347593582888, 0.7005347593582888, 0.6978609625668449, 0.6951871657754011, 0.6925133689839572, 0.6925133689839572, 0.6898395721925134, 0.6871657754010695, 0.6871657754010695, 0.6871657754010695, 0.6844919786096256, 0.6844919786096256, 0.6818181818181818, 0.6818181818181818, 0.6818181818181818, 0.6818181818181818, 0.679144385026738, 0.679144385026738, 0.679144385026738, 0.679144385026738, 0.679144385026738, 0.679144385026738, 0.679144385026738, 0.679144385026738, 0.679144385026738, 0.6764705882352942, 0.6764705882352942, 0.6764705882352942, 0.6737967914438503, 0.6737967914438503, 0.6737967914438503, 0.6737967914438503, 0.6737967914438503, 0.6737967914438503, 0.6737967914438503, 0.6737967914438503, 0.6737967914438503, 0.6737967914438503, 0.6737967914438503, 0.6737967914438503, 0.6737967914438503, 0.6737967914438503, 0.6737967914438503, 0.6711229946524064, 0.6711229946524064, 0.6711229946524064, 0.6711229946524064, 0.6711229946524064, 0.6711229946524064, 0.6711229946524064, 0.6684491978609626, 0.6684491978609626, 0.6657754010695187, 0.6657754010695187, 0.6631016042780749, 0.660427807486631, 0.6577540106951871, 0.6577540106951871, 0.6550802139037433, 0.6524064171122995, 0.6524064171122995, 0.6524064171122995, 0.6524064171122995, 0.6497326203208557, 0.6497326203208557, 0.6470588235294118, 0.6443850267379679, 0.6417112299465241, 0.6417112299465241, 0.6390374331550802, 0.6363636363636364, 0.6363636363636364, 0.6336898395721925, 0.6310160427807486, 0.6310160427807486, 0.6310160427807486, 0.6283422459893048, 0.6283422459893048, 0.6283422459893048, 0.6256684491978609, 0.6256684491978609, 0.6229946524064172, 0.6229946524064172, 0.6203208556149733, 0.6203208556149733, 0.6203208556149733, 0.6203208556149733, 0.6176470588235294, 0.6176470588235294, 0.6149732620320856, 0.6149732620320856, 0.6122994652406417, 0.6122994652406417, 0.6096256684491979, 0.6096256684491979, 0.6096256684491979, 0.6096256684491979, 0.606951871657754, 0.606951871657754, 0.606951871657754, 0.606951871657754, 0.606951871657754, 0.606951871657754, 0.606951871657754, 0.606951871657754, 0.6042780748663101, 0.6042780748663101, 0.6016042780748663, 0.5989304812834224, 0.5962566844919787, 0.5962566844919787, 0.5935828877005348, 0.5935828877005348, 0.5909090909090909, 0.5882352941176471, 0.5882352941176471, 0.5855614973262032, 0.5855614973262032, 0.5855614973262032, 0.5828877005347594, 0.5828877005347594, 0.5828877005347594, 0.5828877005347594, 0.5828877005347594, 0.5828877005347594, 0.5802139037433155, 0.5802139037433155, 0.5802139037433155, 0.5775401069518716, 0.5748663101604278, 0.5721925133689839, 0.5721925133689839, 0.56951871657754, 0.56951871657754, 0.5668449197860963, 0.5668449197860963, 0.5668449197860963, 0.5641711229946524, 0.5614973262032086, 0.5614973262032086, 0.5588235294117647, 0.5588235294117647, 0.5561497326203209, 0.553475935828877, 0.553475935828877, 0.5508021390374331, 0.5481283422459893, 0.5454545454545454, 0.5454545454545454, 0.5454545454545454, 0.5454545454545454, 0.5427807486631016, 0.5401069518716578, 0.5401069518716578, 0.5401069518716578, 0.5374331550802139, 0.5347593582887701, 0.5320855614973262, 0.5294117647058824, 0.5294117647058824, 0.5267379679144385, 0.5267379679144385, 0.5240641711229946, 0.5213903743315508, 0.5213903743315508, 0.5187165775401069, 0.5187165775401069, 0.5187165775401069, 0.516042780748663, 0.516042780748663, 0.516042780748663, 0.5133689839572193, 0.5133689839572193, 0.5106951871657754, 0.5106951871657754, 0.5080213903743316, 0.5080213903743316, 0.5080213903743316, 0.5053475935828877, 0.5053475935828877, 0.5026737967914439, 0.5026737967914439, 0.5, 0.49732620320855614, 0.49732620320855614, 0.4946524064171123, 0.4946524064171123, 0.4919786096256685, 0.4893048128342246, 0.48663101604278075, 0.48663101604278075, 0.4839572192513369, 0.48128342245989303, 0.48128342245989303, 0.48128342245989303, 0.48128342245989303, 0.4786096256684492, 0.47593582887700536, 0.47593582887700536, 0.47593582887700536, 0.4732620320855615, 0.4732620320855615, 0.4732620320855615, 0.47058823529411764, 0.4679144385026738, 0.46524064171123, 0.46524064171123, 0.46524064171123, 0.46524064171123, 0.4625668449197861, 0.45989304812834225, 0.45989304812834225, 0.45989304812834225, 0.45989304812834225, 0.45989304812834225, 0.4572192513368984, 0.4572192513368984, 0.4572192513368984, 0.45454545454545453, 0.45187165775401067, 0.45187165775401067, 0.44919786096256686, 0.446524064171123, 0.446524064171123, 0.446524064171123, 0.44385026737967914, 0.4411764705882353, 0.4411764705882353, 0.4385026737967914, 0.4385026737967914, 0.4358288770053476, 0.4358288770053476, 0.4358288770053476, 0.4358288770053476, 0.4358288770053476, 0.43315508021390375, 0.43315508021390375, 0.4304812834224599, 0.4304812834224599, 0.4304812834224599, 0.4304812834224599, 0.42780748663101603, 0.42513368983957217, 0.42513368983957217, 0.42513368983957217, 0.42513368983957217, 0.42245989304812837, 0.4197860962566845, 0.4197860962566845, 0.4197860962566845, 0.4197860962566845, 0.41711229946524064, 0.41711229946524064, 0.41711229946524064, 0.4144385026737968, 0.4117647058823529, 0.4117647058823529, 0.4117647058823529, 0.4090909090909091, 0.4090909090909091, 0.4090909090909091, 0.40641711229946526, 0.40641711229946526, 0.4037433155080214, 0.4037433155080214, 0.40106951871657753, 0.3983957219251337, 0.3983957219251337, 0.3983957219251337, 0.39572192513368987, 0.393048128342246, 0.39037433155080214, 0.39037433155080214, 0.3877005347593583, 0.3877005347593583, 0.3877005347593583, 0.3850267379679144, 0.3850267379679144, 0.38235294117647056, 0.38235294117647056, 0.37967914438502676, 0.37967914438502676, 0.37967914438502676, 0.3770053475935829, 0.3770053475935829, 0.3770053475935829, 0.3770053475935829, 0.3770053475935829, 0.37433155080213903, 0.3716577540106952, 0.3689839572192513, 0.3689839572192513, 0.3689839572192513, 0.3689839572192513, 0.3663101604278075, 0.3663101604278075, 0.36363636363636365, 0.36363636363636365, 0.3609625668449198, 0.3609625668449198, 0.3582887700534759, 0.3582887700534759, 0.35561497326203206, 0.35294117647058826, 0.35294117647058826, 0.3502673796791444, 0.34759358288770054, 0.34759358288770054, 0.34759358288770054, 0.3449197860962567, 0.3449197860962567, 0.3422459893048128, 0.3422459893048128, 0.339572192513369, 0.33689839572192515, 0.3342245989304813, 0.3342245989304813, 0.3342245989304813, 0.3315508021390374, 0.32620320855614976, 0.32620320855614976, 0.3235294117647059, 0.3235294117647059, 0.3235294117647059, 0.32085561497326204, 0.3181818181818182, 0.3155080213903743, 0.3155080213903743, 0.31283422459893045, 0.31283422459893045, 0.31283422459893045, 0.31016042780748665, 0.3074866310160428, 0.3048128342245989, 0.3048128342245989, 0.3048128342245989, 0.30213903743315507, 0.2994652406417112, 0.2967914438502674, 0.2967914438502674, 0.29411764705882354, 0.29411764705882354, 0.2914438502673797, 0.2887700534759358, 0.28609625668449196, 0.28609625668449196, 0.28342245989304815, 0.28342245989304815, 0.2807486631016043, 0.27807486631016043, 0.27540106951871657, 0.2727272727272727, 0.2700534759358289, 0.2700534759358289, 0.2700534759358289, 0.2700534759358289, 0.26737967914438504, 0.26737967914438504, 0.2647058823529412, 0.2620320855614973, 0.2620320855614973, 0.25935828877005346, 0.25668449197860965, 0.2540106951871658, 0.25133689839572193, 0.25133689839572193, 0.24866310160427807, 0.24598930481283424, 0.24331550802139038, 0.24064171122994651, 0.23796791443850268, 0.23529411764705882, 0.232620320855615, 0.22994652406417113, 0.22727272727272727, 0.22727272727272727, 0.22727272727272727, 0.22727272727272727, 0.22459893048128343, 0.22192513368983957, 0.22192513368983957, 0.2192513368983957, 0.21657754010695188, 0.21657754010695188, 0.21390374331550802, 0.21390374331550802, 0.21390374331550802, 0.21122994652406418, 0.20855614973262032, 0.20588235294117646, 0.20588235294117646, 0.20588235294117646, 0.20320855614973263, 0.20320855614973263, 0.20320855614973263, 0.20053475935828877, 0.19786096256684493, 0.19786096256684493, 0.19518716577540107, 0.19518716577540107, 0.19518716577540107, 0.1925133689839572, 0.1925133689839572, 0.1925133689839572, 0.18983957219251338, 0.18716577540106952, 0.18716577540106952, 0.18449197860962566, 0.18181818181818182, 0.17914438502673796, 0.17647058823529413, 0.17379679144385027, 0.1711229946524064, 0.1711229946524064, 0.16844919786096257, 0.1657754010695187, 0.1657754010695187, 0.16310160427807488, 0.16042780748663102, 0.15775401069518716, 0.15775401069518716, 0.15508021390374332, 0.15508021390374332, 0.15508021390374332, 0.15240641711229946, 0.15240641711229946, 0.1497326203208556, 0.1497326203208556, 0.14705882352941177, 0.1443850267379679, 0.14171122994652408, 0.13903743315508021, 0.13636363636363635, 0.13368983957219252, 0.13101604278074866, 0.12834224598930483, 0.12566844919786097, 0.12299465240641712, 0.12299465240641712, 0.12032085561497326, 0.11764705882352941, 0.11764705882352941, 0.11497326203208556, 0.11229946524064172, 0.10962566844919786, 0.10695187165775401, 0.10427807486631016, 0.10427807486631016, 0.10427807486631016, 0.10160427807486631, 0.09893048128342247, 0.0962566844919786, 0.09358288770053476, 0.09090909090909091, 0.08823529411764706, 0.08823529411764706, 0.0855614973262032, 0.08288770053475936, 0.08021390374331551, 0.07754010695187166, 0.0748663101604278, 0.07219251336898395, 0.06951871657754011, 0.06684491978609626, 0.06417112299465241, 0.06149732620320856, 0.058823529411764705, 0.05614973262032086, 0.05614973262032086, 0.05080213903743316, 0.05080213903743316, 0.045454545454545456, 0.0427807486631016, 0.040106951871657755, 0.034759358288770054, 0.03208556149732621, 0.029411764705882353, 0.026737967914438502, 0.026737967914438502, 0.0213903743315508, 0.01871657754010695, 0.016042780748663103, 0.016042780748663103, 0.013368983957219251, 0.0106951871657754, 0.008021390374331552, 0.0053475935828877, 0.00267379679144385, 0.0], \"y\": [0.288135593220339, 0.28758673862760215, 0.28780864197530864, 0.28803088803088805, 0.2882534775888717, 0.288476411446249, 0.2886996904024768, 0.2889233152594888, 0.28914728682170543, 0.28937160589604344, 0.28959627329192544, 0.2898212898212898, 0.2900466562986003, 0.29027237354085605, 0.29049844236760125, 0.2907248636009353, 0.2909516380655226, 0.29117876658860264, 0.29140625, 0.29163408913213446, 0.2918622848200313, 0.2920908379013312, 0.29231974921630094, 0.29254901960784313, 0.29277864992150704, 0.29300864100549884, 0.29323899371069184, 0.2934697088906373, 0.2937007874015748, 0.29393223010244285, 0.2941640378548896, 0.2943962115232833, 0.29462875197472355, 0.2948616600790514, 0.2950949367088608, 0.2953285827395091, 0.29556259904912835, 0.295796986518636, 0.2962668784749801, 0.29650238473767887, 0.2967382657120127, 0.29697452229299365, 0.2972111553784861, 0.2974481658692185, 0.29768555466879487, 0.2979233226837061, 0.2981614708233413, 0.2984, 0.2986389111289031, 0.2988782051282051, 0.2991178829190056, 0.29935794542536115, 0.29983922829581994, 0.3000804505229284, 0.3003220611916264, 0.3005640612409347, 0.3008064516129032, 0.30104923325262306, 0.30129240710823907, 0.301535974130962, 0.3017799352750809, 0.3027597402597403, 0.30300568643379366, 0.3032520325203252, 0.30349877949552484, 0.30374592833876224, 0.30399348003259985, 0.30424143556280586, 0.30448979591836733, 0.3047385620915033, 0.30523731587561376, 0.30548730548730546, 0.3059885151763741, 0.30623973727422005, 0.3064913722267872, 0.3067434210526316, 0.3069958847736626, 0.30724876441515653, 0.3075020610057708, 0.30775577557755773, 0.30800990916597853, 0.3082644628099174, 0.30851943755169564, 0.3087748344370861, 0.30903065451532724, 0.3092868988391376, 0.3095435684647303, 0.30980066445182725, 0.3100581878636742, 0.3103161397670549, 0.3105745212323064, 0.31083333333333335, 0.311092577147623, 0.3113522537562604, 0.3116123642439432, 0.31187290969899667, 0.31213389121338914, 0.3126571668063705, 0.31291946308724833, 0.3131821998320739, 0.3134453781512605, 0.3137089991589571, 0.31397306397306396, 0.3142375737152485, 0.3145025295109612, 0.31476793248945145, 0.31503378378378377, 0.3153000845308538, 0.3155668358714044, 0.31583403895004236, 0.31610169491525425, 0.31636980491942324, 0.3166383701188455, 0.3169073916737468, 0.3171768707482993, 0.3174468085106383, 0.31771720613287907, 0.31798806479113384, 0.318259385665529, 0.318531169940222, 0.3188034188034188, 0.31907613344739094, 0.3193493150684932, 0.3196229648671808, 0.31989708404802747, 0.3201716738197425, 0.32044673539518903, 0.3207222699914015, 0.32099827882960413, 0.32127476313522824, 0.32155172413793104, 0.32182916307161347, 0.3221070811744387, 0.32152117545375974, 0.3217993079584775, 0.3220779220779221, 0.3223570190641248, 0.3226366001734605, 0.3229166666666667, 0.32319721980886185, 0.3234782608695652, 0.3237597911227154, 0.3240418118466899, 0.32432432432432434, 0.32460732984293195, 0.32489082969432315, 0.32517482517482516, 0.32545931758530183, 0.3257443082311734, 0.32602979842243646, 0.3263157894736842, 0.32660228270412645, 0.3268892794376098, 0.32717678100263853, 0.3274647887323944, 0.3277533039647577, 0.328042328042328, 0.3283318623124448, 0.3286219081272085, 0.32891246684350134, 0.3292035398230089, 0.32949512843224094, 0.32978723404255317, 0.3300798580301686, 0.33037300177619894, 0.33066666666666666, 0.3309608540925267, 0.3312555654496883, 0.3315508021390374, 0.33184656556645853, 0.33214285714285713, 0.3324396782841823, 0.33273703041144903, 0.333034914950761, 0.3333333333333333, 0.33363228699551567, 0.3339317773788151, 0.33423180592991913, 0.3345323741007194, 0.33483348334833485, 0.33513513513513515, 0.33543733092876465, 0.33574007220216606, 0.33604336043360433, 0.33634719710669075, 0.33665158371040727, 0.33695652173913043, 0.3372620126926564, 0.33756805807622503, 0.33787465940054495, 0.3381818181818182, 0.33848953594176523, 0.33879781420765026, 0.3391066545123063, 0.33941605839416056, 0.33972602739726027, 0.340036563071298, 0.3403476669716377, 0.34065934065934067, 0.34097158570119157, 0.3412844036697248, 0.34067952249770433, 0.34099264705882354, 0.34130634774609014, 0.3416206261510129, 0.3419354838709677, 0.3422509225092251, 0.3425669436749769, 0.34288354898336415, 0.34320074005550416, 0.3435185185185185, 0.3438368860055607, 0.34415584415584416, 0.34447539461467036, 0.3447955390334573, 0.34511627906976744, 0.34543761638733705, 0.34575955265610436, 0.3460820895522388, 0.3464052287581699, 0.3467289719626168, 0.3470533208606174, 0.3464419475655431, 0.3467666354264292, 0.34709193245778613, 0.3474178403755869, 0.34774436090225563, 0.34807149576669805, 0.3483992467043315, 0.34872761545711595, 0.3490566037735849, 0.3493862134088763, 0.3497164461247637, 0.3500473036896878, 0.3503787878787879, 0.35071090047393366, 0.3510436432637571, 0.3513770180436847, 0.3517110266159696, 0.3520456707897241, 0.3523809523809524, 0.35271687321258344, 0.3530534351145038, 0.3533906399235912, 0.35372848948374763, 0.35406698564593303, 0.3544061302681992, 0.3547459252157239, 0.3550863723608445, 0.3554274735830932, 0.3557692307692308, 0.35611164581328203, 0.35645472061657035, 0.35679845708775315, 0.3561776061776062, 0.3565217391304348, 0.3568665377176016, 0.35721200387221685, 0.35755813953488375, 0.35790494665373423, 0.35825242718446604, 0.358600583090379, 0.35894941634241245, 0.3592989289191821, 0.35964912280701755, 0.36, 0.3603515625, 0.36070381231671556, 0.3610567514677104, 0.3604309500489716, 0.3607843137254902, 0.36113837095191365, 0.3614931237721022, 0.36184857423795475, 0.36220472440944884, 0.3625615763546798, 0.3629191321499014, 0.36327739387956565, 0.36363636363636365, 0.3639960435212661, 0.36336633663366336, 0.36372646184340934, 0.36408730158730157, 0.3644488579940417, 0.3648111332007952, 0.36517412935323385, 0.3659022931206381, 0.3662674650698603, 0.36663336663336665, 0.367, 0.36736736736736736, 0.36773547094188375, 0.36810431293881646, 0.3684738955823293, 0.3688442211055276, 0.369215291750503, 0.36958710976837866, 0.3699596774193548, 0.3703329969727548, 0.3707070707070707, 0.3710819009100101, 0.3714574898785425, 0.3718338399189463, 0.372210953346856, 0.3725888324873096, 0.3719512195121951, 0.3723296032553408, 0.3727087576374745, 0.3730886850152905, 0.373469387755102, 0.3738508682328907, 0.37423312883435583, 0.37461617195496416, 0.375, 0.37538461538461537, 0.3757700205338809, 0.3761562178828366, 0.3765432098765432, 0.3769309989701339, 0.37628865979381443, 0.3766769865841073, 0.37706611570247933, 0.37745604963805585, 0.3778467908902691, 0.37823834196891193, 0.37863070539419086, 0.3790238836967809, 0.3794178794178794, 0.3798126951092612, 0.3802083333333333, 0.3806047966631908, 0.37995824634655534, 0.3793103448275862, 0.3797071129707113, 0.38010471204188484, 0.3805031446540881, 0.3809024134312697, 0.38130252100840334, 0.38170347003154576, 0.3821052631578947, 0.38250790305584825, 0.3829113924050633, 0.3833157338965153, 0.38372093023255816, 0.38412698412698415, 0.3845338983050847, 0.38494167550371156, 0.3853503184713376, 0.38575982996811903, 0.3861702127659574, 0.3865814696485623, 0.38699360341151384, 0.3874066168623266, 0.38782051282051283, 0.38823529411764707, 0.3886509635974304, 0.3890675241157556, 0.3894849785407725, 0.38990332975295383, 0.3903225806451613, 0.3907427341227126, 0.3911637931034483, 0.39158576051779936, 0.39200863930885527, 0.3924324324324324, 0.39285714285714285, 0.39328277356446373, 0.39370932754880694, 0.3941368078175896, 0.39456521739130435, 0.39499455930359084, 0.3954248366013072, 0.39585605234460197, 0.3962882096069869, 0.39672131147540984, 0.3971553610503282, 0.39759036144578314, 0.3980263157894737, 0.39846322722283206, 0.3989010989010989, 0.39823982398239827, 0.3986784140969163, 0.39911797133406834, 0.3995584988962472, 0.4, 0.4004424778761062, 0.4008859357696567, 0.401330376940133, 0.4017758046614872, 0.4022222222222222, 0.40266963292547275, 0.40200445434298443, 0.40245261984392416, 0.4029017857142857, 0.4033519553072626, 0.40380313199105144, 0.40425531914893614, 0.4047085201793722, 0.4051627384960718, 0.40561797752808987, 0.40607424071991, 0.40653153153153154, 0.4069898534385569, 0.4074492099322799, 0.40790960451977404, 0.4083710407239819, 0.4088335220838052, 0.40816326530612246, 0.40749148694665155, 0.40795454545454546, 0.40841865756541523, 0.40888382687927105, 0.40935005701254273, 0.408675799086758, 0.40914285714285714, 0.408466819221968, 0.40893470790378006, 0.40940366972477066, 0.4087256027554535, 0.4091954022988506, 0.4096662830840046, 0.41013824884792627, 0.40945790080738176, 0.40993071593533487, 0.41040462427745666, 0.41087962962962965, 0.41135573580533025, 0.41183294663573083, 0.41231126596980255, 0.4127906976744186, 0.41327124563445866, 0.4125874125874126, 0.4130688448074679, 0.41238317757009346, 0.4128654970760234, 0.4133489461358314, 0.4138335287221571, 0.4131455399061033, 0.4136310223266745, 0.41411764705882353, 0.41460541813898705, 0.41509433962264153, 0.41440377804014167, 0.41371158392434987, 0.41420118343195267, 0.41350710900473936, 0.4139976275207592, 0.4144893111638955, 0.4149821640903686, 0.4154761904761905, 0.4159713945172825, 0.41646778042959426, 0.4169653524492234, 0.41626794258373206, 0.4155688622754491, 0.41606714628297364, 0.41536614645858344, 0.41466346153846156, 0.4151624548736462, 0.41566265060240964, 0.4149577804583836, 0.4142512077294686, 0.4147521160822249, 0.4152542372881356, 0.41454545454545455, 0.41504854368932037, 0.4155528554070474, 0.41605839416058393, 0.4165651644336175, 0.4170731707317073, 0.4175824175824176, 0.4180929095354523, 0.4173806609547124, 0.4178921568627451, 0.41840490797546015, 0.4189189189189189, 0.4194341943419434, 0.41995073891625617, 0.4204685573366215, 0.42098765432098767, 0.4215080346106304, 0.422029702970297, 0.4225526641883519, 0.4230769230769231, 0.4236024844720497, 0.42412935323383083, 0.4246575342465753, 0.4251870324189526, 0.4257178526841448, 0.42625, 0.4267834793491865, 0.4273182957393484, 0.42785445420326224, 0.42839195979899497, 0.4289308176100629, 0.42947103274559195, 0.4300126103404792, 0.4305555555555556, 0.4310998735777497, 0.4316455696202532, 0.43219264892268694, 0.43274111675126903, 0.4332909783989835, 0.43384223918575066, 0.43439490445859874, 0.43494897959183676, 0.4355044699872286, 0.4360613810741688, 0.43661971830985913, 0.4371794871794872, 0.43774069319640563, 0.4383033419023136, 0.43886743886743884, 0.43943298969072164, 0.44, 0.4405684754521964, 0.4411384217335058, 0.44041450777202074, 0.4409857328145266, 0.44025974025974024, 0.4408322496749025, 0.44140625, 0.4406779661016949, 0.43994778067885115, 0.4392156862745098, 0.4397905759162304, 0.44036697247706424, 0.4409448818897638, 0.44021024967148487, 0.4407894736842105, 0.4413702239789196, 0.4419525065963061, 0.4425363276089828, 0.44312169312169314, 0.44370860927152317, 0.4442970822281167, 0.4448871181938911, 0.4441489361702128, 0.4447403462050599, 0.444, 0.4445927903871829, 0.4451871657754011, 0.4444444444444444, 0.4450402144772118, 0.44563758389261743, 0.44623655913978494, 0.4468371467025572, 0.4474393530997305, 0.446693657219973, 0.4472972972972973, 0.4479025710419486, 0.44715447154471544, 0.44776119402985076, 0.4483695652173913, 0.44761904761904764, 0.4482288828337875, 0.4488403819918145, 0.44808743169398907, 0.4487004103967168, 0.44931506849315067, 0.448559670781893, 0.4491758241758242, 0.4484181568088033, 0.4490358126721763, 0.4496551724137931, 0.4488950276243094, 0.44951590594744123, 0.45013850415512463, 0.4507628294036061, 0.4513888888888889, 0.4520166898470097, 0.45264623955431754, 0.45327754532775455, 0.45391061452513964, 0.45454545454545453, 0.45518207282913165, 0.4544179523141655, 0.45365168539325845, 0.4542897327707454, 0.45492957746478874, 0.45557122708039494, 0.4562146892655367, 0.45685997171145687, 0.45750708215297453, 0.4581560283687943, 0.4588068181818182, 0.4594594594594595, 0.4601139601139601, 0.4607703281027104, 0.4614285714285714, 0.46208869814020026, 0.46275071633237824, 0.4619799139167862, 0.46264367816091956, 0.4633093525179856, 0.46397694524495675, 0.46320346320346323, 0.4638728323699422, 0.4645441389290883, 0.463768115942029, 0.4644412191582003, 0.46511627906976744, 0.4657933042212518, 0.46647230320699706, 0.46715328467153283, 0.4678362573099415, 0.4670571010248902, 0.46774193548387094, 0.4684287812041116, 0.46911764705882353, 0.4698085419734904, 0.47050147492625366, 0.46971935007385524, 0.47041420118343197, 0.4711111111111111, 0.47032640949554894, 0.4710252600297177, 0.47172619047619047, 0.47242921013412814, 0.47313432835820896, 0.47384155455904337, 0.4745508982035928, 0.4752623688155922, 0.4744744744744745, 0.47518796992481205, 0.4743975903614458, 0.4751131221719457, 0.47583081570996977, 0.47655068078668683, 0.47575757575757577, 0.4764795144157815, 0.47720364741641336, 0.4779299847792998, 0.47865853658536583, 0.47938931297709925, 0.4801223241590214, 0.48085758039816234, 0.48006134969325154, 0.4792626728110599, 0.47846153846153844, 0.47919876733436056, 0.4799382716049383, 0.47913446676970634, 0.47987616099071206, 0.4806201550387597, 0.4813664596273292, 0.4821150855365474, 0.48286604361370716, 0.4836193447737909, 0.484375, 0.48513302034428796, 0.48589341692789967, 0.48665620094191525, 0.4858490566037736, 0.48661417322834644, 0.48738170347003157, 0.4881516587677725, 0.4889240506329114, 0.4896988906497623, 0.49047619047619045, 0.48966613672496023, 0.4888535031847134, 0.48963317384370014, 0.4904153354632588, 0.4896, 0.49038461538461536, 0.4911717495987159, 0.4919614147909968, 0.49114331723027377, 0.49193548387096775, 0.4927302100161551, 0.4935275080906149, 0.49432739059967584, 0.49512987012987014, 0.4959349593495935, 0.496742671009772, 0.49755301794453505, 0.49836601307189543, 0.49754500818330605, 0.49836065573770494, 0.4975369458128079, 0.49835526315789475, 0.49917627677100496, 0.5, 0.5008264462809917, 0.5016556291390728, 0.5024875621890548, 0.5033222591362126, 0.5041597337770383, 0.505, 0.5041736227045075, 0.5050167224080268, 0.5041876046901173, 0.5033557046979866, 0.5042016806722689, 0.5033670033670034, 0.5025295109612141, 0.5033783783783784, 0.5025380710659898, 0.5016949152542373, 0.5025466893039049, 0.5034013605442177, 0.504258943781942, 0.5034129692832765, 0.5042735042735043, 0.5051369863013698, 0.5042881646655232, 0.5051546391752577, 0.5060240963855421, 0.5051724137931034, 0.5060449050086355, 0.5069204152249135, 0.5077989601386482, 0.5086805555555556, 0.5095652173913043, 0.5087108013937283, 0.5095986038394416, 0.5087412587412588, 0.5096322241681261, 0.5105263157894737, 0.5114235500878734, 0.5123239436619719, 0.5114638447971781, 0.5123674911660777, 0.511504424778761, 0.5106382978723404, 0.5097690941385435, 0.5088967971530249, 0.5098039215686274, 0.5089285714285714, 0.5098389982110912, 0.510752688172043, 0.5116696588868941, 0.512589928057554, 0.5117117117117117, 0.5108303249097473, 0.5099457504520796, 0.5090579710144928, 0.5081669691470054, 0.509090909090909, 0.5100182149362478, 0.5109489051094891, 0.5118829981718465, 0.510989010989011, 0.5119266055045871, 0.5128676470588235, 0.5138121546961326, 0.514760147601476, 0.5157116451016636, 0.5166666666666667, 0.5157699443413729, 0.516728624535316, 0.515828677839851, 0.5167910447761194, 0.5158878504672897, 0.5168539325842697, 0.5178236397748592, 0.5169172932330827, 0.5160075329566854, 0.5169811320754717, 0.5160680529300568, 0.5170454545454546, 0.5161290322580645, 0.5171102661596958, 0.518095238095238, 0.5190839694656488, 0.5200764818355641, 0.5210727969348659, 0.5220729366602687, 0.5211538461538462, 0.5221579961464354, 0.5212355212355212, 0.5222437137330754, 0.5232558139534884, 0.5242718446601942, 0.5252918287937743, 0.5243664717348928, 0.5234375, 0.5244618395303327, 0.5235294117647059, 0.5225933202357563, 0.5236220472440944, 0.5226824457593688, 0.5237154150197628, 0.5247524752475248, 0.5238095238095238, 0.5248508946322068, 0.5258964143426295, 0.5269461077844312, 0.528, 0.5290581162324649, 0.5281124497991968, 0.5271629778672032, 0.5282258064516129, 0.5272727272727272, 0.5263157894736842, 0.5253549695740365, 0.5264227642276422, 0.5254582484725051, 0.5244897959183673, 0.5255623721881391, 0.5266393442622951, 0.5256673511293635, 0.5267489711934157, 0.5257731958762887, 0.5268595041322314, 0.5279503105590062, 0.529045643153527, 0.5280665280665281, 0.5291666666666667, 0.5302713987473904, 0.5313807531380753, 0.5324947589098532, 0.5336134453781513, 0.5347368421052632, 0.5358649789029536, 0.5369978858350951, 0.5360169491525424, 0.5371549893842887, 0.5382978723404256, 0.5373134328358209, 0.5384615384615384, 0.5396145610278372, 0.5407725321888412, 0.5419354838709678, 0.5431034482758621, 0.5442764578833693, 0.5454545454545454, 0.5466377440347071, 0.5478260869565217, 0.5490196078431373, 0.5502183406113537, 0.5514223194748359, 0.5526315789473685, 0.5538461538461539, 0.552863436123348, 0.5540838852097131, 0.5553097345132744, 0.5565410199556541, 0.5577777777777778, 0.5590200445434298, 0.5602678571428571, 0.5592841163310962, 0.5605381165919282, 0.5595505617977528, 0.5608108108108109, 0.5598194130925508, 0.5588235294117647, 0.5578231292517006, 0.5590909090909091, 0.5580865603644647, 0.5570776255707762, 0.5583524027459954, 0.5596330275229358, 0.5609195402298851, 0.5599078341013825, 0.5612009237875288, 0.5601851851851852, 0.5591647331786543, 0.5581395348837209, 0.5594405594405595, 0.5584112149532711, 0.5573770491803278, 0.5586854460093896, 0.5576470588235294, 0.5566037735849056, 0.557919621749409, 0.5592417061611374, 0.5581947743467933, 0.5595238095238095, 0.5608591885441527, 0.5598086124401914, 0.5611510791366906, 0.5600961538461539, 0.5614457831325301, 0.5603864734299517, 0.5617433414043583, 0.5631067961165048, 0.5644768856447688, 0.5634146341463414, 0.5647921760391198, 0.5637254901960784, 0.5651105651105651, 0.5640394088669951, 0.5654320987654321, 0.5643564356435643, 0.56575682382134, 0.5671641791044776, 0.5685785536159601, 0.5675, 0.568922305764411, 0.5703517587939698, 0.5717884130982368, 0.5732323232323232, 0.5746835443037974, 0.5761421319796954, 0.5776081424936387, 0.576530612244898, 0.578005115089514, 0.5769230769230769, 0.5758354755784062, 0.5747422680412371, 0.5762273901808785, 0.5751295336787565, 0.5766233766233766, 0.5755208333333334, 0.5744125326370757, 0.5759162303664922, 0.5748031496062992, 0.5763157894736842, 0.5778364116094987, 0.5767195767195767, 0.5782493368700266, 0.5797872340425532, 0.5813333333333334, 0.5828877005347594, 0.5844504021447721, 0.5833333333333334, 0.5849056603773585, 0.5864864864864865, 0.5853658536585366, 0.5842391304347826, 0.5831062670299727, 0.5846994535519126, 0.5835616438356165, 0.5851648351648352, 0.5840220385674931, 0.585635359116022, 0.5872576177285319, 0.5861111111111111, 0.584958217270195, 0.5865921787709497, 0.5854341736694678, 0.5870786516853933, 0.5859154929577465, 0.5847457627118644, 0.5864022662889519, 0.5852272727272727, 0.584045584045584, 0.5828571428571429, 0.5845272206303725, 0.5862068965517241, 0.5878962536023055, 0.5867052023121387, 0.5855072463768116, 0.5872093023255814, 0.5889212827988338, 0.5877192982456141, 0.5865102639296188, 0.5852941176470589, 0.584070796460177, 0.5857988165680473, 0.5845697329376854, 0.5863095238095238, 0.5850746268656717, 0.5838323353293413, 0.5855855855855856, 0.5843373493975904, 0.5861027190332326, 0.5878787878787879, 0.5866261398176292, 0.5884146341463414, 0.5902140672782875, 0.588957055214724, 0.5907692307692308, 0.5895061728395061, 0.5913312693498453, 0.5900621118012422, 0.5919003115264797, 0.59375, 0.5924764890282131, 0.5943396226415094, 0.5930599369085173, 0.5949367088607594, 0.5936507936507937, 0.5923566878980892, 0.5942492012779552, 0.592948717948718, 0.594855305466238, 0.5935483870967742, 0.5922330097087378, 0.5909090909090909, 0.5928338762214984, 0.5915032679738562, 0.5901639344262295, 0.5921052631578947, 0.594059405940594, 0.5960264900662252, 0.5946843853820598, 0.5933333333333334, 0.5953177257525084, 0.5973154362416108, 0.5959595959595959, 0.597972972972973, 0.6, 0.5986394557823129, 0.5972696245733788, 0.5958904109589042, 0.5979381443298969, 0.6, 0.6020761245674741, 0.6006944444444444, 0.5993031358885017, 0.6013986013986014, 0.6035087719298246, 0.6056338028169014, 0.607773851590106, 0.6063829787234043, 0.608540925266904, 0.6107142857142858, 0.6093189964157706, 0.6079136690647482, 0.6101083032490975, 0.6086956521739131, 0.6072727272727273, 0.6094890510948905, 0.6117216117216118, 0.6102941176470589, 0.6088560885608856, 0.6111111111111112, 0.6096654275092936, 0.6119402985074627, 0.6104868913857678, 0.6127819548872181, 0.6150943396226415, 0.6174242424242424, 0.6197718631178707, 0.6183206106870229, 0.6206896551724138, 0.6192307692307693, 0.6216216216216216, 0.624031007751938, 0.6264591439688716, 0.625, 0.6235294117647059, 0.6259842519685039, 0.6284584980237155, 0.6309523809523809, 0.6294820717131474, 0.628, 0.6305220883534136, 0.6330645161290323, 0.6356275303643725, 0.6341463414634146, 0.636734693877551, 0.639344262295082, 0.6378600823045267, 0.6363636363636364, 0.6390041493775933, 0.6416666666666667, 0.6401673640167364, 0.6428571428571429, 0.6455696202531646, 0.6440677966101694, 0.6468085106382979, 0.6452991452991453, 0.648068669527897, 0.646551724137931, 0.645021645021645, 0.6478260869565218, 0.6506550218340611, 0.6491228070175439, 0.6475770925110133, 0.6460176991150443, 0.6547085201793722, 0.6531531531531531, 0.6561085972850679, 0.6590909090909091, 0.6575342465753424, 0.6605504587155964, 0.6589861751152074, 0.6620370370370371, 0.6604651162790698, 0.6635514018691588, 0.6666666666666666, 0.6650943396226415, 0.6682464454976303, 0.6714285714285714, 0.6746411483253588, 0.6778846153846154, 0.6763285024154589, 0.6747572815533981, 0.6731707317073171, 0.6764705882352942, 0.6798029556650246, 0.6831683168316832, 0.681592039800995, 0.685, 0.6834170854271356, 0.6868686868686869, 0.6852791878172588, 0.6887755102040817, 0.6871794871794872, 0.6907216494845361, 0.689119170984456, 0.6875, 0.6910994764397905, 0.6894736842105263, 0.6878306878306878, 0.6914893617021277, 0.6951871657754011, 0.6935483870967742, 0.6972972972972973, 0.6956521739130435, 0.6994535519125683, 0.6978021978021978, 0.6961325966850829, 0.6944444444444444, 0.6983240223463687, 0.702247191011236, 0.7005649717514124, 0.6971428571428572, 0.7011494252873564, 0.6994219653179191, 0.7034883720930233, 0.7076023391812866, 0.7058823529411765, 0.7083333333333334, 0.7065868263473054, 0.7108433734939759, 0.7090909090909091, 0.7134146341463414, 0.7177914110429447, 0.7160493827160493, 0.7142857142857143, 0.7125, 0.7169811320754716, 0.7215189873417721, 0.7197452229299363, 0.717948717948718, 0.7161290322580646, 0.7207792207792207, 0.7189542483660131, 0.7236842105263158, 0.7218543046357616, 0.72, 0.7181208053691275, 0.722972972972973, 0.7210884353741497, 0.726027397260274, 0.7241379310344828, 0.7222222222222222, 0.7202797202797203, 0.7183098591549296, 0.7163120567375887, 0.7214285714285714, 0.7266187050359713, 0.7318840579710145, 0.7299270072992701, 0.7352941176470589, 0.7333333333333333, 0.7313432835820896, 0.7368421052631579, 0.7348484848484849, 0.732824427480916, 0.7307692307692307, 0.7286821705426356, 0.734375, 0.7322834645669292, 0.7301587301587301, 0.728, 0.7258064516129032, 0.7235772357723578, 0.7213114754098361, 0.71900826446281, 0.7166666666666667, 0.7142857142857143, 0.7203389830508474, 0.7264957264957265, 0.7327586206896551, 0.7304347826086957, 0.7280701754385965, 0.7345132743362832, 0.7321428571428571, 0.7297297297297297, 0.7363636363636363, 0.7339449541284404, 0.7407407407407407, 0.7476635514018691, 0.7452830188679245, 0.7428571428571429, 0.7403846153846154, 0.7475728155339806, 0.7549019607843137, 0.7524752475247525, 0.76, 0.7676767676767676, 0.7653061224489796, 0.7628865979381443, 0.7708333333333334, 0.7684210526315789, 0.776595744680851, 0.7849462365591398, 0.782608695652174, 0.7912087912087912, 0.8, 0.797752808988764, 0.7954545454545454, 0.8045977011494253, 0.8023255813953488, 0.8, 0.7976190476190477, 0.7951807228915663, 0.7926829268292683, 0.7901234567901234, 0.8, 0.7974683544303798, 0.7948717948717948, 0.8051948051948052, 0.8026315789473685, 0.8, 0.7972972972972973, 0.8082191780821918, 0.8055555555555556, 0.8169014084507042, 0.8285714285714286, 0.8260869565217391, 0.8382352941176471, 0.835820895522388, 0.8484848484848485, 0.8461538461538461, 0.84375, 0.8412698412698413, 0.8387096774193549, 0.8360655737704918, 0.8333333333333334, 0.8305084745762712, 0.8275862068965517, 0.8245614035087719, 0.8214285714285714, 0.8363636363636363, 0.8333333333333334, 0.8301886792452831, 0.8461538461538461, 0.8431372549019608, 0.84, 0.8367346938775511, 0.8333333333333334, 0.8297872340425532, 0.8478260869565217, 0.8666666666666667, 0.8636363636363636, 0.8604651162790697, 0.8571428571428571, 0.8536585365853658, 0.85, 0.8461538461538461, 0.868421052631579, 0.8648648648648649, 0.8611111111111112, 0.8571428571428571, 0.8529411764705882, 0.8484848484848485, 0.84375, 0.8387096774193549, 0.8333333333333334, 0.8275862068965517, 0.8214285714285714, 0.8461538461538461, 0.84, 0.875, 0.8636363636363636, 0.9047619047619048, 0.8947368421052632, 0.8888888888888888, 0.8823529411764706, 0.8666666666666667, 0.8571428571428571, 0.8461538461538461, 0.8333333333333334, 0.9090909090909091, 0.8888888888888888, 0.875, 0.8571428571428571, 1.0, 1.0, 1.0, 1.0, 1.0, 1.0, 1.0]}, {\"mode\": \"lines\", \"name\": \"XGB\", \"type\": \"scatter\", \"x\": [1.0, 0.9973262032085561, 0.9973262032085561, 0.9946524064171123, 0.9946524064171123, 0.9946524064171123, 0.9946524064171123, 0.9946524064171123, 0.9946524064171123, 0.9946524064171123, 0.9946524064171123, 0.9946524064171123, 0.9946524064171123, 0.9946524064171123, 0.9946524064171123, 0.9946524064171123, 0.9946524064171123, 0.9946524064171123, 0.9946524064171123, 0.9946524064171123, 0.9946524064171123, 0.9946524064171123, 0.9946524064171123, 0.9946524064171123, 0.9946524064171123, 0.9946524064171123, 0.9946524064171123, 0.9946524064171123, 0.9946524064171123, 0.9946524064171123, 0.9946524064171123, 0.9946524064171123, 0.9946524064171123, 0.9946524064171123, 0.9946524064171123, 0.9946524064171123, 0.9946524064171123, 0.9946524064171123, 0.9946524064171123, 0.9946524064171123, 0.9946524064171123, 0.9946524064171123, 0.9946524064171123, 0.9946524064171123, 0.9946524064171123, 0.9946524064171123, 0.9946524064171123, 0.9946524064171123, 0.9946524064171123, 0.9946524064171123, 0.9946524064171123, 0.9946524064171123, 0.9946524064171123, 0.9946524064171123, 0.9946524064171123, 0.9946524064171123, 0.9946524064171123, 0.9946524064171123, 0.9946524064171123, 0.9946524064171123, 0.9946524064171123, 0.9946524064171123, 0.9946524064171123, 0.9946524064171123, 0.9946524064171123, 0.9946524064171123, 0.9946524064171123, 0.9946524064171123, 0.9946524064171123, 0.9946524064171123, 0.9946524064171123, 0.9946524064171123, 0.9946524064171123, 0.9946524064171123, 0.9946524064171123, 0.9946524064171123, 0.9946524064171123, 0.9946524064171123, 0.9946524064171123, 0.9946524064171123, 0.9946524064171123, 0.9946524064171123, 0.9946524064171123, 0.9946524064171123, 0.9946524064171123, 0.9946524064171123, 0.9946524064171123, 0.9946524064171123, 0.9946524064171123, 0.9946524064171123, 0.9946524064171123, 0.9946524064171123, 0.9946524064171123, 0.9946524064171123, 0.9946524064171123, 0.9946524064171123, 0.9946524064171123, 0.9946524064171123, 0.9946524064171123, 0.9946524064171123, 0.9946524064171123, 0.9946524064171123, 0.9946524064171123, 0.9946524064171123, 0.9946524064171123, 0.9946524064171123, 0.9946524064171123, 0.9946524064171123, 0.9946524064171123, 0.9946524064171123, 0.9946524064171123, 0.9946524064171123, 0.9946524064171123, 0.9946524064171123, 0.9946524064171123, 0.9946524064171123, 0.9946524064171123, 0.9946524064171123, 0.9946524064171123, 0.9946524064171123, 0.9946524064171123, 0.9946524064171123, 0.9946524064171123, 0.9946524064171123, 0.9946524064171123, 0.9946524064171123, 0.9946524064171123, 0.9946524064171123, 0.9946524064171123, 0.9946524064171123, 0.9946524064171123, 0.9946524064171123, 0.9946524064171123, 0.9946524064171123, 0.9946524064171123, 0.9946524064171123, 0.9946524064171123, 0.9946524064171123, 0.9946524064171123, 0.9946524064171123, 0.9946524064171123, 0.9946524064171123, 0.9946524064171123, 0.9946524064171123, 0.9946524064171123, 0.9946524064171123, 0.9946524064171123, 0.9946524064171123, 0.9946524064171123, 0.9946524064171123, 0.9919786096256684, 0.9919786096256684, 0.9919786096256684, 0.9919786096256684, 0.9919786096256684, 0.9919786096256684, 0.9919786096256684, 0.9919786096256684, 0.9919786096256684, 0.9919786096256684, 0.9919786096256684, 0.9893048128342246, 0.9893048128342246, 0.9893048128342246, 0.9893048128342246, 0.9893048128342246, 0.9893048128342246, 0.9893048128342246, 0.9893048128342246, 0.9893048128342246, 0.9893048128342246, 0.9893048128342246, 0.9893048128342246, 0.9893048128342246, 0.9866310160427807, 0.983957219251337, 0.983957219251337, 0.983957219251337, 0.983957219251337, 0.983957219251337, 0.983957219251337, 0.9812834224598931, 0.9812834224598931, 0.9812834224598931, 0.9812834224598931, 0.9812834224598931, 0.9812834224598931, 0.9812834224598931, 0.9812834224598931, 0.9812834224598931, 0.9812834224598931, 0.9812834224598931, 0.9812834224598931, 0.9812834224598931, 0.9786096256684492, 0.9759358288770054, 0.9759358288770054, 0.9759358288770054, 0.9759358288770054, 0.9759358288770054, 0.9759358288770054, 0.9759358288770054, 0.9759358288770054, 0.9759358288770054, 0.9759358288770054, 0.9759358288770054, 0.9759358288770054, 0.9759358288770054, 0.9759358288770054, 0.9759358288770054, 0.9759358288770054, 0.9759358288770054, 0.9759358288770054, 0.9759358288770054, 0.9759358288770054, 0.9759358288770054, 0.9759358288770054, 0.9732620320855615, 0.9732620320855615, 0.9732620320855615, 0.9732620320855615, 0.9732620320855615, 0.9732620320855615, 0.9732620320855615, 0.9732620320855615, 0.9732620320855615, 0.9732620320855615, 0.9732620320855615, 0.9732620320855615, 0.9705882352941176, 0.9705882352941176, 0.9705882352941176, 0.9705882352941176, 0.9705882352941176, 0.9705882352941176, 0.9705882352941176, 0.9705882352941176, 0.9705882352941176, 0.9705882352941176, 0.9705882352941176, 0.9705882352941176, 0.9705882352941176, 0.9705882352941176, 0.9705882352941176, 0.9705882352941176, 0.9705882352941176, 0.9705882352941176, 0.9705882352941176, 0.9705882352941176, 0.9705882352941176, 0.9705882352941176, 0.9705882352941176, 0.9705882352941176, 0.9705882352941176, 0.9705882352941176, 0.9705882352941176, 0.9705882352941176, 0.9705882352941176, 0.9705882352941176, 0.9705882352941176, 0.9705882352941176, 0.9705882352941176, 0.9705882352941176, 0.9679144385026738, 0.9679144385026738, 0.9679144385026738, 0.9679144385026738, 0.9679144385026738, 0.9652406417112299, 0.9652406417112299, 0.9652406417112299, 0.9652406417112299, 0.9652406417112299, 0.9652406417112299, 0.9652406417112299, 0.9652406417112299, 0.9625668449197861, 0.9625668449197861, 0.9625668449197861, 0.9625668449197861, 0.9625668449197861, 0.9598930481283422, 0.9598930481283422, 0.9598930481283422, 0.9598930481283422, 0.9572192513368984, 0.9572192513368984, 0.9572192513368984, 0.9572192513368984, 0.9572192513368984, 0.9572192513368984, 0.9545454545454546, 0.9518716577540107, 0.9491978609625669, 0.9491978609625669, 0.9491978609625669, 0.9491978609625669, 0.946524064171123, 0.946524064171123, 0.946524064171123, 0.9438502673796791, 0.9438502673796791, 0.9438502673796791, 0.9438502673796791, 0.9438502673796791, 0.9438502673796791, 0.9438502673796791, 0.9438502673796791, 0.9438502673796791, 0.9438502673796791, 0.9438502673796791, 0.9438502673796791, 0.9438502673796791, 0.9438502673796791, 0.9438502673796791, 0.9438502673796791, 0.9438502673796791, 0.9438502673796791, 0.9438502673796791, 0.9438502673796791, 0.9438502673796791, 0.9438502673796791, 0.9438502673796791, 0.9411764705882353, 0.9411764705882353, 0.9411764705882353, 0.9411764705882353, 0.9385026737967914, 0.9385026737967914, 0.9385026737967914, 0.9385026737967914, 0.9358288770053476, 0.9358288770053476, 0.9358288770053476, 0.9358288770053476, 0.9358288770053476, 0.9358288770053476, 0.9358288770053476, 0.9358288770053476, 0.9358288770053476, 0.9358288770053476, 0.9331550802139037, 0.9331550802139037, 0.9331550802139037, 0.9331550802139037, 0.9331550802139037, 0.9331550802139037, 0.9331550802139037, 0.9331550802139037, 0.9331550802139037, 0.9331550802139037, 0.93048128342246, 0.93048128342246, 0.93048128342246, 0.93048128342246, 0.9278074866310161, 0.9278074866310161, 0.9278074866310161, 0.9278074866310161, 0.9278074866310161, 0.9278074866310161, 0.9251336898395722, 0.9251336898395722, 0.9251336898395722, 0.9251336898395722, 0.9251336898395722, 0.9251336898395722, 0.9251336898395722, 0.9251336898395722, 0.9251336898395722, 0.9251336898395722, 0.9251336898395722, 0.9251336898395722, 0.9251336898395722, 0.9251336898395722, 0.9251336898395722, 0.9251336898395722, 0.9251336898395722, 0.9251336898395722, 0.9224598930481284, 0.9224598930481284, 0.9224598930481284, 0.9224598930481284, 0.9224598930481284, 0.9224598930481284, 0.9224598930481284, 0.9224598930481284, 0.9224598930481284, 0.9224598930481284, 0.9197860962566845, 0.9197860962566845, 0.9197860962566845, 0.9197860962566845, 0.9197860962566845, 0.9197860962566845, 0.9171122994652406, 0.9171122994652406, 0.9144385026737968, 0.9117647058823529, 0.9117647058823529, 0.9117647058823529, 0.9117647058823529, 0.9117647058823529, 0.9117647058823529, 0.9117647058823529, 0.9117647058823529, 0.9117647058823529, 0.9117647058823529, 0.9117647058823529, 0.9117647058823529, 0.9090909090909091, 0.9064171122994652, 0.9064171122994652, 0.9064171122994652, 0.9064171122994652, 0.9064171122994652, 0.9064171122994652, 0.9064171122994652, 0.9064171122994652, 0.9064171122994652, 0.9064171122994652, 0.9064171122994652, 0.9064171122994652, 0.9037433155080213, 0.9010695187165776, 0.9010695187165776, 0.9010695187165776, 0.9010695187165776, 0.9010695187165776, 0.9010695187165776, 0.9010695187165776, 0.9010695187165776, 0.9010695187165776, 0.9010695187165776, 0.9010695187165776, 0.9010695187165776, 0.9010695187165776, 0.9010695187165776, 0.8983957219251337, 0.8983957219251337, 0.8983957219251337, 0.8983957219251337, 0.8983957219251337, 0.8983957219251337, 0.8983957219251337, 0.8983957219251337, 0.8957219251336899, 0.8957219251336899, 0.893048128342246, 0.8903743315508021, 0.8903743315508021, 0.8903743315508021, 0.8903743315508021, 0.8903743315508021, 0.8903743315508021, 0.8903743315508021, 0.8903743315508021, 0.8877005347593583, 0.8877005347593583, 0.8850267379679144, 0.8850267379679144, 0.8850267379679144, 0.8850267379679144, 0.8850267379679144, 0.8850267379679144, 0.8850267379679144, 0.8850267379679144, 0.8850267379679144, 0.8850267379679144, 0.8850267379679144, 0.8850267379679144, 0.8850267379679144, 0.8850267379679144, 0.8850267379679144, 0.8850267379679144, 0.8850267379679144, 0.8850267379679144, 0.8850267379679144, 0.8850267379679144, 0.8850267379679144, 0.8850267379679144, 0.8850267379679144, 0.8850267379679144, 0.8850267379679144, 0.8850267379679144, 0.8823529411764706, 0.8796791443850267, 0.8796791443850267, 0.8796791443850267, 0.8770053475935828, 0.8770053475935828, 0.8743315508021391, 0.8743315508021391, 0.8743315508021391, 0.8743315508021391, 0.8716577540106952, 0.8716577540106952, 0.8716577540106952, 0.8716577540106952, 0.8716577540106952, 0.8689839572192514, 0.8689839572192514, 0.8689839572192514, 0.8663101604278075, 0.8663101604278075, 0.8663101604278075, 0.8663101604278075, 0.8636363636363636, 0.8636363636363636, 0.8609625668449198, 0.8609625668449198, 0.8609625668449198, 0.8609625668449198, 0.8582887700534759, 0.8582887700534759, 0.8582887700534759, 0.8582887700534759, 0.8582887700534759, 0.8582887700534759, 0.8556149732620321, 0.8556149732620321, 0.8556149732620321, 0.8529411764705882, 0.8502673796791443, 0.8502673796791443, 0.8502673796791443, 0.8502673796791443, 0.8502673796791443, 0.8502673796791443, 0.8502673796791443, 0.8502673796791443, 0.8502673796791443, 0.8502673796791443, 0.8502673796791443, 0.8502673796791443, 0.8502673796791443, 0.8502673796791443, 0.8502673796791443, 0.8502673796791443, 0.8502673796791443, 0.8502673796791443, 0.8502673796791443, 0.8502673796791443, 0.8502673796791443, 0.8502673796791443, 0.8502673796791443, 0.8502673796791443, 0.8475935828877005, 0.8449197860962567, 0.8449197860962567, 0.8449197860962567, 0.8422459893048129, 0.8422459893048129, 0.8422459893048129, 0.8422459893048129, 0.8422459893048129, 0.8422459893048129, 0.839572192513369, 0.839572192513369, 0.8368983957219251, 0.8368983957219251, 0.8368983957219251, 0.8368983957219251, 0.8368983957219251, 0.8368983957219251, 0.8368983957219251, 0.8368983957219251, 0.8368983957219251, 0.8368983957219251, 0.8368983957219251, 0.8368983957219251, 0.8368983957219251, 0.8368983957219251, 0.8368983957219251, 0.8368983957219251, 0.8368983957219251, 0.8342245989304813, 0.8342245989304813, 0.8342245989304813, 0.8342245989304813, 0.8342245989304813, 0.8342245989304813, 0.8315508021390374, 0.8315508021390374, 0.8315508021390374, 0.8288770053475936, 0.8288770053475936, 0.8288770053475936, 0.8288770053475936, 0.8288770053475936, 0.8288770053475936, 0.8288770053475936, 0.8262032085561497, 0.8262032085561497, 0.8235294117647058, 0.8235294117647058, 0.820855614973262, 0.8181818181818182, 0.8181818181818182, 0.8155080213903744, 0.8128342245989305, 0.8128342245989305, 0.8128342245989305, 0.8128342245989305, 0.8128342245989305, 0.8128342245989305, 0.8128342245989305, 0.8128342245989305, 0.8128342245989305, 0.8101604278074866, 0.8101604278074866, 0.8101604278074866, 0.8101604278074866, 0.8101604278074866, 0.8074866310160428, 0.8074866310160428, 0.8048128342245989, 0.8048128342245989, 0.8048128342245989, 0.8048128342245989, 0.8048128342245989, 0.8048128342245989, 0.8048128342245989, 0.8048128342245989, 0.8048128342245989, 0.8021390374331551, 0.7994652406417112, 0.7967914438502673, 0.7967914438502673, 0.7941176470588235, 0.7914438502673797, 0.7914438502673797, 0.7887700534759359, 0.7887700534759359, 0.7887700534759359, 0.786096256684492, 0.786096256684492, 0.786096256684492, 0.7834224598930482, 0.7807486631016043, 0.7807486631016043, 0.7807486631016043, 0.7780748663101604, 0.7780748663101604, 0.7780748663101604, 0.7780748663101604, 0.7780748663101604, 0.7754010695187166, 0.7754010695187166, 0.7754010695187166, 0.7754010695187166, 0.7727272727272727, 0.7727272727272727, 0.7727272727272727, 0.7727272727272727, 0.7700534759358288, 0.7700534759358288, 0.7700534759358288, 0.767379679144385, 0.767379679144385, 0.767379679144385, 0.767379679144385, 0.767379679144385, 0.767379679144385, 0.767379679144385, 0.767379679144385, 0.767379679144385, 0.767379679144385, 0.7647058823529411, 0.7647058823529411, 0.7620320855614974, 0.7620320855614974, 0.7620320855614974, 0.7620320855614974, 0.7620320855614974, 0.7593582887700535, 0.7593582887700535, 0.7593582887700535, 0.7593582887700535, 0.7566844919786097, 0.7566844919786097, 0.7540106951871658, 0.7540106951871658, 0.7540106951871658, 0.7540106951871658, 0.7540106951871658, 0.7513368983957219, 0.7513368983957219, 0.7486631016042781, 0.7486631016042781, 0.7486631016042781, 0.7486631016042781, 0.7459893048128342, 0.7433155080213903, 0.7406417112299465, 0.7379679144385026, 0.7379679144385026, 0.7379679144385026, 0.7379679144385026, 0.7352941176470589, 0.732620320855615, 0.732620320855615, 0.732620320855615, 0.732620320855615, 0.7299465240641712, 0.7299465240641712, 0.7299465240641712, 0.7299465240641712, 0.7299465240641712, 0.7299465240641712, 0.7299465240641712, 0.7299465240641712, 0.7299465240641712, 0.7272727272727273, 0.7272727272727273, 0.7245989304812834, 0.7219251336898396, 0.7219251336898396, 0.7219251336898396, 0.7192513368983957, 0.7192513368983957, 0.7192513368983957, 0.7192513368983957, 0.7192513368983957, 0.7192513368983957, 0.7165775401069518, 0.7165775401069518, 0.713903743315508, 0.713903743315508, 0.713903743315508, 0.713903743315508, 0.713903743315508, 0.713903743315508, 0.7112299465240641, 0.7085561497326203, 0.7085561497326203, 0.7085561497326203, 0.7058823529411765, 0.7032085561497327, 0.7032085561497327, 0.7005347593582888, 0.7005347593582888, 0.7005347593582888, 0.6978609625668449, 0.6978609625668449, 0.6978609625668449, 0.6978609625668449, 0.6978609625668449, 0.6978609625668449, 0.6978609625668449, 0.6951871657754011, 0.6951871657754011, 0.6951871657754011, 0.6951871657754011, 0.6925133689839572, 0.6925133689839572, 0.6925133689839572, 0.6925133689839572, 0.6925133689839572, 0.6925133689839572, 0.6898395721925134, 0.6898395721925134, 0.6898395721925134, 0.6871657754010695, 0.6871657754010695, 0.6844919786096256, 0.6844919786096256, 0.6844919786096256, 0.6818181818181818, 0.6818181818181818, 0.679144385026738, 0.6764705882352942, 0.6764705882352942, 0.6737967914438503, 0.6711229946524064, 0.6711229946524064, 0.6711229946524064, 0.6711229946524064, 0.6684491978609626, 0.6657754010695187, 0.6631016042780749, 0.6631016042780749, 0.660427807486631, 0.660427807486631, 0.660427807486631, 0.6577540106951871, 0.6577540106951871, 0.6550802139037433, 0.6550802139037433, 0.6550802139037433, 0.6550802139037433, 0.6550802139037433, 0.6524064171122995, 0.6524064171122995, 0.6497326203208557, 0.6497326203208557, 0.6470588235294118, 0.6470588235294118, 0.6443850267379679, 0.6417112299465241, 0.6390374331550802, 0.6363636363636364, 0.6363636363636364, 0.6336898395721925, 0.6336898395721925, 0.6336898395721925, 0.6310160427807486, 0.6310160427807486, 0.6310160427807486, 0.6310160427807486, 0.6310160427807486, 0.6310160427807486, 0.6310160427807486, 0.6310160427807486, 0.6310160427807486, 0.6283422459893048, 0.6283422459893048, 0.6283422459893048, 0.6283422459893048, 0.6256684491978609, 0.6256684491978609, 0.6256684491978609, 0.6256684491978609, 0.6256684491978609, 0.6256684491978609, 0.6256684491978609, 0.6256684491978609, 0.6229946524064172, 0.6229946524064172, 0.6229946524064172, 0.6203208556149733, 0.6176470588235294, 0.6176470588235294, 0.6176470588235294, 0.6176470588235294, 0.6176470588235294, 0.6176470588235294, 0.6149732620320856, 0.6149732620320856, 0.6149732620320856, 0.6122994652406417, 0.6096256684491979, 0.606951871657754, 0.6042780748663101, 0.6016042780748663, 0.5989304812834224, 0.5989304812834224, 0.5962566844919787, 0.5962566844919787, 0.5935828877005348, 0.5935828877005348, 0.5909090909090909, 0.5909090909090909, 0.5909090909090909, 0.5882352941176471, 0.5882352941176471, 0.5855614973262032, 0.5855614973262032, 0.5828877005347594, 0.5828877005347594, 0.5802139037433155, 0.5802139037433155, 0.5802139037433155, 0.5775401069518716, 0.5775401069518716, 0.5775401069518716, 0.5748663101604278, 0.5748663101604278, 0.5721925133689839, 0.5721925133689839, 0.5721925133689839, 0.5721925133689839, 0.5721925133689839, 0.56951871657754, 0.5668449197860963, 0.5668449197860963, 0.5641711229946524, 0.5614973262032086, 0.5588235294117647, 0.5561497326203209, 0.5561497326203209, 0.553475935828877, 0.5508021390374331, 0.5508021390374331, 0.5508021390374331, 0.5481283422459893, 0.5454545454545454, 0.5427807486631016, 0.5427807486631016, 0.5427807486631016, 0.5427807486631016, 0.5401069518716578, 0.5401069518716578, 0.5374331550802139, 0.5347593582887701, 0.5320855614973262, 0.5320855614973262, 0.5294117647058824, 0.5294117647058824, 0.5267379679144385, 0.5267379679144385, 0.5267379679144385, 0.5240641711229946, 0.5240641711229946, 0.5213903743315508, 0.5213903743315508, 0.5213903743315508, 0.5187165775401069, 0.5187165775401069, 0.516042780748663, 0.5133689839572193, 0.5133689839572193, 0.5133689839572193, 0.5106951871657754, 0.5106951871657754, 0.5106951871657754, 0.5106951871657754, 0.5106951871657754, 0.5080213903743316, 0.5080213903743316, 0.5080213903743316, 0.5053475935828877, 0.5053475935828877, 0.5053475935828877, 0.5026737967914439, 0.5026737967914439, 0.5026737967914439, 0.5, 0.5, 0.5, 0.5, 0.49732620320855614, 0.49732620320855614, 0.4946524064171123, 0.4946524064171123, 0.4919786096256685, 0.4893048128342246, 0.48663101604278075, 0.48663101604278075, 0.4839572192513369, 0.48128342245989303, 0.48128342245989303, 0.48128342245989303, 0.4786096256684492, 0.47593582887700536, 0.47593582887700536, 0.47593582887700536, 0.4732620320855615, 0.47058823529411764, 0.4679144385026738, 0.4679144385026738, 0.4679144385026738, 0.4679144385026738, 0.4679144385026738, 0.46524064171123, 0.46524064171123, 0.46524064171123, 0.4625668449197861, 0.45989304812834225, 0.4572192513368984, 0.45454545454545453, 0.45454545454545453, 0.45187165775401067, 0.45187165775401067, 0.44919786096256686, 0.446524064171123, 0.446524064171123, 0.44385026737967914, 0.44385026737967914, 0.44385026737967914, 0.44385026737967914, 0.44385026737967914, 0.44385026737967914, 0.4411764705882353, 0.4385026737967914, 0.4385026737967914, 0.4358288770053476, 0.43315508021390375, 0.43315508021390375, 0.43315508021390375, 0.43315508021390375, 0.4304812834224599, 0.4304812834224599, 0.4304812834224599, 0.42780748663101603, 0.42513368983957217, 0.42245989304812837, 0.42245989304812837, 0.42245989304812837, 0.42245989304812837, 0.42245989304812837, 0.4197860962566845, 0.41711229946524064, 0.4144385026737968, 0.4117647058823529, 0.4117647058823529, 0.4090909090909091, 0.4090909090909091, 0.40641711229946526, 0.4037433155080214, 0.4037433155080214, 0.40106951871657753, 0.40106951871657753, 0.40106951871657753, 0.40106951871657753, 0.3983957219251337, 0.3983957219251337, 0.39572192513368987, 0.39572192513368987, 0.39572192513368987, 0.39572192513368987, 0.393048128342246, 0.39037433155080214, 0.39037433155080214, 0.3877005347593583, 0.3877005347593583, 0.3850267379679144, 0.3850267379679144, 0.38235294117647056, 0.38235294117647056, 0.38235294117647056, 0.38235294117647056, 0.38235294117647056, 0.38235294117647056, 0.38235294117647056, 0.37967914438502676, 0.37967914438502676, 0.37967914438502676, 0.3770053475935829, 0.3770053475935829, 0.37433155080213903, 0.3716577540106952, 0.3716577540106952, 0.3716577540106952, 0.3716577540106952, 0.3689839572192513, 0.3689839572192513, 0.3689839572192513, 0.3689839572192513, 0.3663101604278075, 0.36363636363636365, 0.3609625668449198, 0.3609625668449198, 0.3582887700534759, 0.35561497326203206, 0.35561497326203206, 0.35561497326203206, 0.35294117647058826, 0.35294117647058826, 0.35294117647058826, 0.35294117647058826, 0.35294117647058826, 0.35294117647058826, 0.35294117647058826, 0.3502673796791444, 0.3502673796791444, 0.34759358288770054, 0.3449197860962567, 0.3449197860962567, 0.3422459893048128, 0.3422459893048128, 0.339572192513369, 0.33689839572192515, 0.33689839572192515, 0.33689839572192515, 0.33689839572192515, 0.3342245989304813, 0.3315508021390374, 0.32887700534759357, 0.32620320855614976, 0.3235294117647059, 0.3235294117647059, 0.3235294117647059, 0.3235294117647059, 0.32085561497326204, 0.3181818181818182, 0.3155080213903743, 0.31283422459893045, 0.31016042780748665, 0.3074866310160428, 0.3074866310160428, 0.3048128342245989, 0.30213903743315507, 0.30213903743315507, 0.30213903743315507, 0.30213903743315507, 0.2994652406417112, 0.2994652406417112, 0.2967914438502674, 0.2967914438502674, 0.2967914438502674, 0.29411764705882354, 0.2914438502673797, 0.2914438502673797, 0.2887700534759358, 0.28609625668449196, 0.28609625668449196, 0.28609625668449196, 0.28342245989304815, 0.28342245989304815, 0.2807486631016043, 0.27807486631016043, 0.27807486631016043, 0.27540106951871657, 0.2727272727272727, 0.2700534759358289, 0.26737967914438504, 0.2647058823529412, 0.2620320855614973, 0.2620320855614973, 0.25935828877005346, 0.25935828877005346, 0.25668449197860965, 0.25668449197860965, 0.2540106951871658, 0.25133689839572193, 0.24866310160427807, 0.24598930481283424, 0.24598930481283424, 0.24598930481283424, 0.24331550802139038, 0.24331550802139038, 0.24331550802139038, 0.24331550802139038, 0.24064171122994651, 0.24064171122994651, 0.23796791443850268, 0.23796791443850268, 0.23529411764705882, 0.23529411764705882, 0.232620320855615, 0.22994652406417113, 0.22727272727272727, 0.22459893048128343, 0.22459893048128343, 0.22192513368983957, 0.2192513368983957, 0.21657754010695188, 0.21657754010695188, 0.21657754010695188, 0.21657754010695188, 0.21390374331550802, 0.21122994652406418, 0.20855614973262032, 0.20588235294117646, 0.20588235294117646, 0.20320855614973263, 0.20053475935828877, 0.19786096256684493, 0.19786096256684493, 0.19518716577540107, 0.1925133689839572, 0.18983957219251338, 0.18716577540106952, 0.18449197860962566, 0.18181818181818182, 0.17914438502673796, 0.17647058823529413, 0.17647058823529413, 0.17647058823529413, 0.17379679144385027, 0.1711229946524064, 0.1711229946524064, 0.16844919786096257, 0.1657754010695187, 0.16310160427807488, 0.16042780748663102, 0.16042780748663102, 0.15775401069518716, 0.15508021390374332, 0.15240641711229946, 0.15240641711229946, 0.15240641711229946, 0.1497326203208556, 0.14705882352941177, 0.1443850267379679, 0.14171122994652408, 0.14171122994652408, 0.13903743315508021, 0.13636363636363635, 0.13368983957219252, 0.13101604278074866, 0.12834224598930483, 0.12834224598930483, 0.12566844919786097, 0.12299465240641712, 0.12032085561497326, 0.11764705882352941, 0.11497326203208556, 0.11497326203208556, 0.11229946524064172, 0.10962566844919786, 0.10695187165775401, 0.10427807486631016, 0.10160427807486631, 0.10160427807486631, 0.09893048128342247, 0.0962566844919786, 0.09358288770053476, 0.09090909090909091, 0.08823529411764706, 0.08823529411764706, 0.0855614973262032, 0.08288770053475936, 0.08021390374331551, 0.07754010695187166, 0.0748663101604278, 0.07219251336898395, 0.06951871657754011, 0.06951871657754011, 0.06684491978609626, 0.06417112299465241, 0.06149732620320856, 0.058823529411764705, 0.05614973262032086, 0.053475935828877004, 0.05080213903743316, 0.0481283422459893, 0.0481283422459893, 0.045454545454545456, 0.045454545454545456, 0.0427807486631016, 0.040106951871657755, 0.0374331550802139, 0.034759358288770054, 0.03208556149732621, 0.029411764705882353, 0.02406417112299465, 0.0213903743315508, 0.01871657754010695, 0.016042780748663103, 0.0106951871657754, 0.008021390374331552, 0.0053475935828877, 0.0053475935828877, 0.00267379679144385, 0.0], \"y\": [0.3013698630136986, 0.3008064516129032, 0.30104923325262306, 0.30048465266558966, 0.30072756669361356, 0.30097087378640774, 0.30121457489878545, 0.3014586709886548, 0.30170316301703165, 0.30194805194805197, 0.3021933387489846, 0.3024390243902439, 0.30268510984540276, 0.30293159609120524, 0.30317848410757947, 0.3034257748776509, 0.3036734693877551, 0.30392156862745096, 0.3041700735895339, 0.3044189852700491, 0.3046683046683047, 0.30491803278688523, 0.3051681706316653, 0.3054187192118227, 0.3056696795398521, 0.3059210526315789, 0.30617283950617286, 0.30642504118616143, 0.30667765869744434, 0.3069306930693069, 0.30718414533443433, 0.3074380165289256, 0.3079470198675497, 0.30820215410107704, 0.30845771144278605, 0.3087136929460581, 0.3089700996677741, 0.3092269326683292, 0.30948419301164726, 0.3097418817651957, 0.31, 0.3102585487906589, 0.3105175292153589, 0.3107769423558897, 0.3110367892976589, 0.3112970711297071, 0.31155778894472363, 0.31181894383906117, 0.31208053691275167, 0.3123425692695214, 0.3126050420168067, 0.3128679562657696, 0.31313131313131315, 0.3133951137320977, 0.3136593591905565, 0.3139240506329114, 0.3141891891891892, 0.3144547759932375, 0.3147208121827411, 0.31498729889923793, 0.3152542372881356, 0.3155216284987277, 0.3157894736842105, 0.3160577740016992, 0.3163265306122449, 0.31659574468085105, 0.31686541737649065, 0.3171355498721228, 0.3174061433447099, 0.31767719897523483, 0.31794871794871793, 0.31822070145423437, 0.3184931506849315, 0.31876606683804626, 0.3190394511149228, 0.31931330472103003, 0.31958762886597936, 0.31986242476354254, 0.32013769363166955, 0.32041343669250644, 0.32068965517241377, 0.32096635030198445, 0.32124352331606215, 0.32152117545375974, 0.3217993079584775, 0.3220779220779221, 0.3223570190641248, 0.3226366001734605, 0.3229166666666667, 0.32319721980886185, 0.3234782608695652, 0.3237597911227154, 0.3240418118466899, 0.32432432432432434, 0.32460732984293195, 0.32489082969432315, 0.32517482517482516, 0.32545931758530183, 0.3257443082311734, 0.32602979842243646, 0.3263157894736842, 0.32660228270412645, 0.3268892794376098, 0.32717678100263853, 0.3274647887323944, 0.3277533039647577, 0.328042328042328, 0.3283318623124448, 0.3286219081272085, 0.32891246684350134, 0.3292035398230089, 0.32949512843224094, 0.32978723404255317, 0.3300798580301686, 0.33037300177619894, 0.33066666666666666, 0.3309608540925267, 0.3312555654496883, 0.3315508021390374, 0.33184656556645853, 0.33214285714285713, 0.3324396782841823, 0.33273703041144903, 0.333034914950761, 0.3333333333333333, 0.33363228699551567, 0.3339317773788151, 0.33423180592991913, 0.3345323741007194, 0.33483348334833485, 0.33513513513513515, 0.33543733092876465, 0.33574007220216606, 0.33604336043360433, 0.33634719710669075, 0.33665158371040727, 0.33695652173913043, 0.3372620126926564, 0.33756805807622503, 0.33787465940054495, 0.3381818181818182, 0.33848953594176523, 0.33879781420765026, 0.3391066545123063, 0.33941605839416056, 0.33972602739726027, 0.340036563071298, 0.3403476669716377, 0.34065934065934067, 0.34097158570119157, 0.3403669724770642, 0.34067952249770433, 0.34099264705882354, 0.34130634774609014, 0.3416206261510129, 0.3419354838709677, 0.3422509225092251, 0.3425669436749769, 0.34288354898336415, 0.34320074005550416, 0.3435185185185185, 0.34291010194624655, 0.3432282003710575, 0.3435468895078923, 0.34386617100371747, 0.34418604651162793, 0.34450651769087526, 0.3448275862068966, 0.3451492537313433, 0.34547152194211017, 0.34579439252336447, 0.3461178671655753, 0.3464419475655431, 0.3467666354264292, 0.34615384615384615, 0.3455399061032864, 0.3458646616541353, 0.34619002822201317, 0.3465160075329567, 0.3468426013195099, 0.3471698113207547, 0.3465533522190746, 0.34688090737240074, 0.34720908230842007, 0.3475378787878788, 0.34786729857819904, 0.34819734345351044, 0.34852801519468185, 0.3488593155893536, 0.3491912464319695, 0.3495238095238095, 0.34985700667302194, 0.3501908396946565, 0.35052531041069723, 0.34990439770554493, 0.3492822966507177, 0.3496168582375479, 0.34995206136145734, 0.3502879078694818, 0.3506243996157541, 0.35096153846153844, 0.35129932627526467, 0.3516377649325626, 0.351976856316297, 0.35231660231660233, 0.3526570048309179, 0.3529980657640232, 0.35333978702807356, 0.3536821705426357, 0.35402521823472355, 0.35436893203883496, 0.35471331389698735, 0.3550583657587549, 0.35540408958130476, 0.3557504873294347, 0.35609756097560974, 0.3564453125, 0.35581622678396874, 0.3561643835616438, 0.356513222331048, 0.3568627450980392, 0.3572129538763494, 0.3575638506876228, 0.3579154375614553, 0.35826771653543305, 0.3586206896551724, 0.358974358974359, 0.35932872655478776, 0.35968379446640314, 0.3590504451038576, 0.3594059405940594, 0.3597621407333994, 0.3601190476190476, 0.36047666335650447, 0.36083499005964215, 0.3611940298507463, 0.3615537848605578, 0.36191425722831505, 0.36227544910179643, 0.3626373626373626, 0.363, 0.3633633633633634, 0.3637274549098196, 0.3640922768304915, 0.3644578313253012, 0.36482412060301506, 0.36519114688128773, 0.36555891238670696, 0.3659274193548387, 0.36629667003027244, 0.36666666666666664, 0.36703741152679475, 0.3674089068825911, 0.3677811550151976, 0.36815415821501013, 0.36852791878172586, 0.36890243902439024, 0.36927772126144454, 0.3696537678207739, 0.37003058103975534, 0.3704081632653061, 0.3707865168539326, 0.37116564417177916, 0.3705220061412487, 0.3709016393442623, 0.3712820512820513, 0.37166324435318276, 0.3720452209660843, 0.3713991769547325, 0.3717816683831102, 0.37216494845360826, 0.37254901960784315, 0.37293388429752067, 0.3733195449844881, 0.37370600414078675, 0.37409326424870465, 0.37344398340248963, 0.37383177570093457, 0.37422037422037424, 0.37460978147762747, 0.375, 0.3743482794577685, 0.3747390396659708, 0.37513061650992685, 0.37552301255230125, 0.374869109947644, 0.3752620545073375, 0.3756558237145855, 0.3760504201680672, 0.3764458464773922, 0.37684210526315787, 0.3761854583772392, 0.3755274261603376, 0.37486800422386485, 0.3752642706131078, 0.37566137566137564, 0.3760593220338983, 0.3753976670201485, 0.37579617834394907, 0.37619553666312433, 0.37553191489361704, 0.3759318423855165, 0.3763326226012793, 0.3767342582710779, 0.37713675213675213, 0.3775401069518717, 0.37794432548179874, 0.3783494105037513, 0.37875536480686695, 0.3791621911922664, 0.3795698924731183, 0.379978471474704, 0.38038793103448276, 0.3807982740021575, 0.38120950323974084, 0.3816216216216216, 0.38203463203463206, 0.38244853737811485, 0.38286334056399135, 0.38327904451682954, 0.38369565217391305, 0.38411316648531013, 0.38453159041394336, 0.38386041439476554, 0.38427947598253276, 0.3846994535519126, 0.3851203501094092, 0.384446878422782, 0.3848684210526316, 0.38529088913282106, 0.38571428571428573, 0.385038503850385, 0.3854625550660793, 0.38588754134509373, 0.38631346578366443, 0.3867403314917127, 0.38716814159292035, 0.3875968992248062, 0.38802660753880264, 0.38845726970033295, 0.3888888888888889, 0.3882091212458287, 0.388641425389755, 0.3890746934225195, 0.38950892857142855, 0.38994413407821227, 0.39038031319910516, 0.3908174692049272, 0.39125560538116594, 0.39169472502805835, 0.3921348314606742, 0.3914510686164229, 0.3918918918918919, 0.3923337091319053, 0.3927765237020316, 0.392090395480226, 0.3925339366515837, 0.3929784824462061, 0.3934240362811791, 0.3938706015891033, 0.39431818181818185, 0.39362912400455063, 0.3940774487471526, 0.3945267958950969, 0.3949771689497717, 0.3954285714285714, 0.39588100686498856, 0.3963344788087056, 0.3967889908256881, 0.39724454649827784, 0.39770114942528734, 0.39815880322209435, 0.3986175115207373, 0.3990772779700115, 0.3995381062355658, 0.4, 0.40046296296296297, 0.40092699884125144, 0.4013921113689095, 0.40069686411149824, 0.4011627906976744, 0.40162980209545984, 0.4020979020979021, 0.4025670945157526, 0.4030373831775701, 0.40350877192982454, 0.40398126463700235, 0.4044548651817116, 0.40492957746478875, 0.40423031727379555, 0.4047058823529412, 0.40518256772673733, 0.4056603773584906, 0.40613931523022434, 0.4066193853427896, 0.4059171597633136, 0.40639810426540285, 0.40569395017793597, 0.40498812351543945, 0.4054696789536266, 0.40595238095238095, 0.4064362336114422, 0.40692124105011934, 0.4074074074074074, 0.40789473684210525, 0.40838323353293415, 0.4088729016786571, 0.40936374549819926, 0.4098557692307692, 0.41034897713598073, 0.40963855421686746, 0.4089264173703257, 0.40942028985507245, 0.40991535671100365, 0.41041162227602906, 0.4109090909090909, 0.41140776699029125, 0.41190765492102066, 0.4124087591240876, 0.41291108404384896, 0.41341463414634144, 0.4139194139194139, 0.41442542787286063, 0.41370869033047736, 0.41299019607843135, 0.4134969325153374, 0.414004914004914, 0.4145141451414514, 0.41502463054187194, 0.4155363748458693, 0.4160493827160494, 0.41656365883807167, 0.41707920792079206, 0.41759603469640644, 0.41811414392059554, 0.4186335403726708, 0.4191542288557214, 0.41967621419676215, 0.41895261845386533, 0.41947565543071164, 0.42, 0.42052565707133915, 0.42105263157894735, 0.4215809284818068, 0.4221105527638191, 0.4226415094339623, 0.42191435768261965, 0.4224464060529634, 0.4217171717171717, 0.42098609355246525, 0.4215189873417722, 0.4220532319391635, 0.42258883248730966, 0.42312579415501905, 0.42366412213740456, 0.42420382165605097, 0.4247448979591837, 0.4240102171136654, 0.42455242966751916, 0.4238156209987196, 0.42435897435897435, 0.4249037227214377, 0.4254498714652956, 0.425997425997426, 0.4265463917525773, 0.4270967741935484, 0.42764857881136953, 0.4282018111254851, 0.42875647668393785, 0.4293125810635538, 0.42987012987012985, 0.4304291287386216, 0.4309895833333333, 0.4315514993481095, 0.4321148825065274, 0.4326797385620915, 0.43324607329842935, 0.4338138925294889, 0.4343832020997375, 0.43495400788436267, 0.4355263157894737, 0.43610013175230566, 0.4366754617414248, 0.4372523117569353, 0.43783068783068785, 0.4370860927152318, 0.4363395225464191, 0.43691899070385126, 0.4375, 0.4367509986684421, 0.43733333333333335, 0.43658210947930576, 0.43716577540106955, 0.43775100401606426, 0.4383378016085791, 0.4375838926174497, 0.4381720430107527, 0.4387617765814266, 0.4393530997304582, 0.4399460188933873, 0.4391891891891892, 0.4397834912043302, 0.44037940379403795, 0.4396200814111262, 0.44021739130434784, 0.44081632653061226, 0.44141689373297005, 0.4406548431105048, 0.4412568306010929, 0.44049247606019154, 0.4410958904109589, 0.44170096021947874, 0.4423076923076923, 0.44154057771664373, 0.44214876033057854, 0.44275862068965516, 0.44337016574585636, 0.44398340248962653, 0.4445983379501385, 0.44382801664355065, 0.4444444444444444, 0.44506258692628653, 0.44428969359331477, 0.4435146443514644, 0.4441340782122905, 0.44475524475524475, 0.44537815126050423, 0.44600280504908835, 0.44662921348314605, 0.4472573839662447, 0.447887323943662, 0.44851904090267986, 0.4491525423728814, 0.4497878359264498, 0.45042492917847027, 0.451063829787234, 0.45170454545454547, 0.4523470839260313, 0.452991452991453, 0.4536376604850214, 0.4542857142857143, 0.45493562231759654, 0.45558739255014324, 0.4562410329985653, 0.45689655172413796, 0.45755395683453237, 0.45821325648414984, 0.4574314574314574, 0.45664739884393063, 0.4573082489146165, 0.4579710144927536, 0.45718432510885343, 0.4578488372093023, 0.4585152838427948, 0.45918367346938777, 0.45985401459854014, 0.4605263157894737, 0.45973645680819913, 0.4604105571847507, 0.45961820851688695, 0.4602941176470588, 0.46097201767304863, 0.4616519174041298, 0.4623338257016248, 0.4630177514792899, 0.46370370370370373, 0.46439169139465875, 0.4650817236255572, 0.46577380952380953, 0.46646795827123694, 0.4671641791044776, 0.4678624813153961, 0.468562874251497, 0.46926536731634183, 0.46996996996997, 0.4706766917293233, 0.46987951807228917, 0.47058823529411764, 0.47129909365558914, 0.4720121028744327, 0.4727272727272727, 0.47344461305007585, 0.4726443768996961, 0.4733637747336377, 0.4740853658536585, 0.4732824427480916, 0.4740061162079511, 0.47473200612557426, 0.4754601226993865, 0.47619047619047616, 0.47692307692307695, 0.4776579352850539, 0.47685185185185186, 0.4775888717156105, 0.47678018575851394, 0.47751937984496123, 0.4767080745341615, 0.4758942457231726, 0.4766355140186916, 0.47581903276131043, 0.475, 0.4757433489827856, 0.47648902821316613, 0.4772370486656201, 0.4779874213836478, 0.47874015748031495, 0.4794952681388013, 0.4802527646129542, 0.4810126582278481, 0.48019017432646594, 0.48095238095238096, 0.48171701112877585, 0.482484076433121, 0.48325358851674644, 0.48242811501597443, 0.4832, 0.4823717948717949, 0.48314606741573035, 0.48392282958199356, 0.48470209339774556, 0.4854838709677419, 0.4862681744749596, 0.48705501618122976, 0.4878444084278768, 0.48863636363636365, 0.4878048780487805, 0.48697068403908794, 0.48613376835236544, 0.4869281045751634, 0.486088379705401, 0.4852459016393443, 0.4860426929392447, 0.48519736842105265, 0.48599670510708404, 0.4867986798679868, 0.4859504132231405, 0.4867549668874172, 0.48756218905472637, 0.4867109634551495, 0.4858569051580699, 0.4866666666666667, 0.48747913188647746, 0.4866220735785953, 0.48743718592964824, 0.48825503355704697, 0.4890756302521008, 0.4898989898989899, 0.48903878583473864, 0.48986486486486486, 0.4906937394247039, 0.4915254237288136, 0.4906621392190153, 0.4914965986394558, 0.49233390119250425, 0.4931740614334471, 0.49230769230769234, 0.4931506849315068, 0.4939965694682676, 0.49312714776632305, 0.4939759036144578, 0.49482758620689654, 0.49568221070811747, 0.49653979238754326, 0.49740034662045063, 0.4982638888888889, 0.4991304347826087, 0.5, 0.5008726003490401, 0.5, 0.500875656742557, 0.5, 0.5008787346221442, 0.5017605633802817, 0.5026455026455027, 0.5035335689045937, 0.5026548672566372, 0.5035460992907801, 0.5044404973357016, 0.505338078291815, 0.5044563279857398, 0.5053571428571428, 0.5044722719141324, 0.5053763440860215, 0.5062836624775583, 0.5071942446043165, 0.5081081081081081, 0.5072202166064982, 0.5081374321880651, 0.5072463768115942, 0.5081669691470054, 0.509090909090909, 0.5100182149362478, 0.5091240875912408, 0.5082266910420475, 0.5073260073260073, 0.5064220183486239, 0.5073529411764706, 0.5082872928176796, 0.5092250922509225, 0.5083179297597042, 0.5074074074074074, 0.5083487940630798, 0.5092936802973977, 0.5102420856610801, 0.5093283582089553, 0.5102803738317757, 0.5112359550561798, 0.5121951219512195, 0.5131578947368421, 0.5141242937853108, 0.5150943396226415, 0.5160680529300568, 0.5170454545454546, 0.5161290322580645, 0.5171102661596958, 0.5161904761904762, 0.5152671755725191, 0.5162523900573613, 0.5172413793103449, 0.5163147792706334, 0.5173076923076924, 0.5183044315992292, 0.5193050193050193, 0.5203094777562862, 0.5213178294573644, 0.5203883495145631, 0.5214007782101168, 0.52046783625731, 0.521484375, 0.5225048923679061, 0.5235294117647059, 0.5245579567779961, 0.5255905511811023, 0.52465483234714, 0.5237154150197628, 0.5247524752475248, 0.5257936507936508, 0.5248508946322068, 0.5239043824701195, 0.5249500998003992, 0.524, 0.5250501002004008, 0.5261044176706827, 0.5251509054325956, 0.5262096774193549, 0.5272727272727272, 0.52834008097166, 0.5294117647058824, 0.5304878048780488, 0.5315682281059063, 0.5306122448979592, 0.5316973415132924, 0.5327868852459017, 0.5338809034907598, 0.5329218106995884, 0.534020618556701, 0.5351239669421488, 0.5362318840579711, 0.5373443983402489, 0.5384615384615384, 0.5375, 0.5386221294363257, 0.5397489539748954, 0.5387840670859538, 0.5399159663865546, 0.5389473684210526, 0.540084388185654, 0.5412262156448203, 0.5402542372881356, 0.5414012738853503, 0.5404255319148936, 0.5394456289978679, 0.5405982905982906, 0.5396145610278372, 0.5386266094420601, 0.5397849462365591, 0.540948275862069, 0.5421166306695464, 0.5411255411255411, 0.5401301518438177, 0.5391304347826087, 0.5403050108932462, 0.5393013100436681, 0.5404814004376368, 0.5416666666666666, 0.5406593406593406, 0.5418502202643172, 0.5408388520971302, 0.5420353982300885, 0.5432372505543237, 0.5444444444444444, 0.5456570155902004, 0.5446428571428571, 0.5458612975391499, 0.5448430493273543, 0.5460674157303371, 0.545045045045045, 0.54627539503386, 0.5452488687782805, 0.54421768707483, 0.5431818181818182, 0.5421412300683371, 0.54337899543379, 0.5423340961098398, 0.5435779816513762, 0.5448275862068965, 0.543778801843318, 0.5450346420323325, 0.5462962962962963, 0.5475638051044084, 0.5488372093023256, 0.5501165501165501, 0.5514018691588785, 0.5526932084309133, 0.5539906103286385, 0.5529411764705883, 0.5542452830188679, 0.5555555555555556, 0.556872037914692, 0.5558194774346793, 0.5571428571428572, 0.5584725536992841, 0.5598086124401914, 0.5611510791366906, 0.5625, 0.563855421686747, 0.5652173913043478, 0.5641646489104116, 0.5655339805825242, 0.5669099756690997, 0.5658536585365853, 0.5647921760391198, 0.5661764705882353, 0.5675675675675675, 0.5689655172413793, 0.5703703703703704, 0.5717821782178217, 0.5707196029776674, 0.572139303482587, 0.57356608478803, 0.5725, 0.5714285714285714, 0.5703517587939698, 0.5692695214105793, 0.5681818181818182, 0.5670886075949367, 0.5685279187817259, 0.5674300254452926, 0.5688775510204082, 0.5677749360613811, 0.5692307692307692, 0.5681233933161953, 0.5695876288659794, 0.5710594315245479, 0.5699481865284974, 0.5714285714285714, 0.5703125, 0.5718015665796344, 0.5706806282722513, 0.5721784776902887, 0.5710526315789474, 0.5725593667546174, 0.5740740740740741, 0.5729442970822282, 0.574468085106383, 0.576, 0.5748663101604278, 0.5764075067024129, 0.5752688172043011, 0.5768194070080862, 0.5783783783783784, 0.5799457994579946, 0.5815217391304348, 0.5803814713896458, 0.5792349726775956, 0.5808219178082191, 0.5796703296703297, 0.5785123966942148, 0.5773480662983426, 0.5761772853185596, 0.5777777777777777, 0.5766016713091922, 0.5754189944134078, 0.5770308123249299, 0.5786516853932584, 0.5774647887323944, 0.576271186440678, 0.5750708215297451, 0.5767045454545454, 0.5783475783475783, 0.58, 0.5787965616045845, 0.5804597701149425, 0.579250720461095, 0.5780346820809249, 0.5768115942028985, 0.5784883720930233, 0.577259475218659, 0.5789473684210527, 0.5777126099706745, 0.5794117647058824, 0.5811209439528023, 0.5798816568047337, 0.5816023738872403, 0.5803571428571429, 0.582089552238806, 0.5838323353293413, 0.5825825825825826, 0.5843373493975904, 0.5830815709969789, 0.5818181818181818, 0.5835866261398176, 0.5853658536585366, 0.5840978593272171, 0.5858895705521472, 0.5876923076923077, 0.5895061728395061, 0.5913312693498453, 0.5900621118012422, 0.5919003115264797, 0.59375, 0.5924764890282131, 0.5943396226415094, 0.5962145110410094, 0.5949367088607594, 0.5968253968253968, 0.5987261146496815, 0.597444089456869, 0.5993589743589743, 0.6012861736334405, 0.603225806451613, 0.6019417475728155, 0.6038961038961039, 0.6026058631921825, 0.6045751633986928, 0.6032786885245902, 0.6019736842105263, 0.6006600660066007, 0.6026490066225165, 0.6013289036544851, 0.6, 0.6020066889632107, 0.6040268456375839, 0.6026936026936027, 0.6013513513513513, 0.6033898305084746, 0.6054421768707483, 0.6040955631399317, 0.6027397260273972, 0.6013745704467354, 0.603448275862069, 0.6055363321799307, 0.6076388888888888, 0.6097560975609756, 0.6083916083916084, 0.6105263157894737, 0.6126760563380281, 0.6113074204946997, 0.6099290780141844, 0.608540925266904, 0.6071428571428571, 0.6093189964157706, 0.6079136690647482, 0.6101083032490975, 0.6086956521739131, 0.6072727272727273, 0.6094890510948905, 0.608058608058608, 0.6102941176470589, 0.6125461254612546, 0.6148148148148148, 0.6171003717472119, 0.6194029850746269, 0.6179775280898876, 0.6165413533834586, 0.6188679245283019, 0.6174242424242424, 0.6159695817490495, 0.6183206106870229, 0.6206896551724138, 0.6254826254826255, 0.624031007751938, 0.6264591439688716, 0.62890625, 0.6274509803921569, 0.6259842519685039, 0.6245059288537549, 0.626984126984127, 0.6294820717131474, 0.632, 0.6345381526104418, 0.6330645161290323, 0.631578947368421, 0.6300813008130082, 0.6285714285714286, 0.6311475409836066, 0.6296296296296297, 0.6322314049586777, 0.6307053941908713, 0.6291666666666667, 0.6317991631799164, 0.6302521008403361, 0.6329113924050633, 0.635593220338983, 0.6382978723404256, 0.6367521367521367, 0.6394849785407726, 0.6379310344827587, 0.6406926406926406, 0.6434782608695652, 0.6462882096069869, 0.6447368421052632, 0.6431718061674009, 0.6460176991150443, 0.6444444444444445, 0.6473214285714286, 0.6457399103139013, 0.6486486486486487, 0.6470588235294118, 0.65, 0.6529680365296804, 0.6559633027522935, 0.6589861751152074, 0.6620370370370371, 0.6651162790697674, 0.6635514018691588, 0.6666666666666666, 0.6698113207547169, 0.6682464454976303, 0.6714285714285714, 0.6698564593301436, 0.6682692307692307, 0.6714975845410628, 0.6747572815533981, 0.6780487804878049, 0.6764705882352942, 0.6798029556650246, 0.6831683168316832, 0.6865671641791045, 0.685, 0.6834170854271356, 0.6818181818181818, 0.6852791878172588, 0.6836734693877551, 0.6820512820512821, 0.6855670103092784, 0.689119170984456, 0.6875, 0.6910994764397905, 0.6947368421052632, 0.6984126984126984, 0.7021276595744681, 0.7058823529411765, 0.7096774193548387, 0.7081081081081081, 0.7119565217391305, 0.7103825136612022, 0.7087912087912088, 0.712707182320442, 0.7111111111111111, 0.7150837988826816, 0.7134831460674157, 0.711864406779661, 0.7159090909090909, 0.72, 0.7241379310344828, 0.7225433526011561, 0.7209302325581395, 0.7192982456140351, 0.7176470588235294, 0.7159763313609467, 0.7202380952380952, 0.7245508982035929, 0.7289156626506024, 0.7272727272727273, 0.725609756097561, 0.7239263803680982, 0.7222222222222222, 0.7204968944099379, 0.71875, 0.7232704402515723, 0.7215189873417721, 0.7197452229299363, 0.7243589743589743, 0.7290322580645161, 0.7337662337662337, 0.7320261437908496, 0.7368421052631579, 0.7350993377483444, 0.74, 0.7449664429530202, 0.7432432432432432, 0.7414965986394558, 0.7465753424657534, 0.7448275862068966, 0.7430555555555556, 0.7482517482517482, 0.7535211267605634, 0.75177304964539, 0.7571428571428571, 0.7553956834532374, 0.7536231884057971, 0.7591240875912408, 0.7573529411764706, 0.7555555555555555, 0.753731343283582, 0.7518796992481203, 0.75, 0.7480916030534351, 0.7538461538461538, 0.751937984496124, 0.7578125, 0.7559055118110236, 0.7619047619047619, 0.76, 0.7580645161290323, 0.7560975609756098, 0.7540983606557377, 0.7603305785123967, 0.7666666666666667, 0.7647058823529411, 0.7711864406779662, 0.7777777777777778, 0.7844827586206896, 0.782608695652174, 0.7894736842105263, 0.7876106194690266, 0.7946428571428571, 0.7927927927927928, 0.8, 0.7981651376146789, 0.7962962962962963, 0.794392523364486, 0.7924528301886793, 0.8, 0.7980769230769231, 0.7961165048543689, 0.7941176470588235, 0.801980198019802, 0.81, 0.8181818181818182, 0.8163265306122449, 0.8144329896907216, 0.8125, 0.8105263157894737, 0.8191489361702128, 0.8172043010752689, 0.8152173913043478, 0.8131868131868132, 0.8222222222222222, 0.8202247191011236, 0.8181818181818182, 0.8160919540229885, 0.813953488372093, 0.8117647058823529, 0.8095238095238095, 0.8072289156626506, 0.8048780487804879, 0.8148148148148148, 0.825, 0.8227848101265823, 0.8205128205128205, 0.8311688311688312, 0.8289473684210527, 0.8266666666666667, 0.8243243243243243, 0.821917808219178, 0.8333333333333334, 0.8309859154929577, 0.8285714285714286, 0.8260869565217391, 0.8382352941176471, 0.8507462686567164, 0.8484848484848485, 0.8461538461538461, 0.84375, 0.8412698412698413, 0.8548387096774194, 0.8524590163934426, 0.85, 0.847457627118644, 0.8448275862068966, 0.8421052631578947, 0.8571428571428571, 0.8545454545454545, 0.8518518518518519, 0.8490566037735849, 0.8461538461538461, 0.8431372549019608, 0.86, 0.8571428571428571, 0.8541666666666666, 0.851063829787234, 0.8478260869565217, 0.8444444444444444, 0.8636363636363636, 0.8604651162790697, 0.8571428571428571, 0.8536585365853658, 0.85, 0.8461538461538461, 0.868421052631579, 0.8648648648648649, 0.8611111111111112, 0.8571428571428571, 0.8529411764705882, 0.8484848484848485, 0.84375, 0.8387096774193549, 0.8666666666666667, 0.8620689655172413, 0.8571428571428571, 0.8518518518518519, 0.8461538461538461, 0.84, 0.8333333333333334, 0.8636363636363636, 0.8571428571428571, 0.9, 0.8947368421052632, 0.9444444444444444, 0.9411764705882353, 0.9375, 0.9333333333333333, 0.9285714285714286, 0.9230769230769231, 0.9166666666666666, 0.9, 0.8888888888888888, 0.875, 0.8571428571428571, 0.8, 0.75, 0.6666666666666666, 1.0, 1.0, 1.0]}],\n",
              "                        {\"height\": 500, \"template\": {\"data\": {\"bar\": [{\"error_x\": {\"color\": \"#2a3f5f\"}, \"error_y\": {\"color\": \"#2a3f5f\"}, \"marker\": {\"line\": {\"color\": \"#E5ECF6\", \"width\": 0.5}}, \"type\": \"bar\"}], \"barpolar\": [{\"marker\": {\"line\": {\"color\": \"#E5ECF6\", \"width\": 0.5}}, \"type\": \"barpolar\"}], \"carpet\": [{\"aaxis\": {\"endlinecolor\": \"#2a3f5f\", \"gridcolor\": \"white\", \"linecolor\": \"white\", \"minorgridcolor\": \"white\", \"startlinecolor\": \"#2a3f5f\"}, \"baxis\": {\"endlinecolor\": \"#2a3f5f\", \"gridcolor\": \"white\", \"linecolor\": \"white\", \"minorgridcolor\": \"white\", \"startlinecolor\": \"#2a3f5f\"}, \"type\": \"carpet\"}], \"choropleth\": [{\"colorbar\": {\"outlinewidth\": 0, \"ticks\": \"\"}, \"type\": \"choropleth\"}], \"contour\": [{\"colorbar\": {\"outlinewidth\": 0, \"ticks\": \"\"}, \"colorscale\": [[0.0, \"#0d0887\"], [0.1111111111111111, \"#46039f\"], [0.2222222222222222, \"#7201a8\"], [0.3333333333333333, \"#9c179e\"], [0.4444444444444444, \"#bd3786\"], [0.5555555555555556, \"#d8576b\"], [0.6666666666666666, \"#ed7953\"], [0.7777777777777778, \"#fb9f3a\"], [0.8888888888888888, \"#fdca26\"], [1.0, \"#f0f921\"]], \"type\": \"contour\"}], \"contourcarpet\": [{\"colorbar\": {\"outlinewidth\": 0, \"ticks\": \"\"}, \"type\": \"contourcarpet\"}], \"heatmap\": [{\"colorbar\": {\"outlinewidth\": 0, \"ticks\": \"\"}, \"colorscale\": [[0.0, \"#0d0887\"], [0.1111111111111111, \"#46039f\"], [0.2222222222222222, \"#7201a8\"], [0.3333333333333333, \"#9c179e\"], [0.4444444444444444, \"#bd3786\"], [0.5555555555555556, \"#d8576b\"], [0.6666666666666666, \"#ed7953\"], [0.7777777777777778, \"#fb9f3a\"], [0.8888888888888888, \"#fdca26\"], [1.0, \"#f0f921\"]], \"type\": \"heatmap\"}], \"heatmapgl\": [{\"colorbar\": {\"outlinewidth\": 0, \"ticks\": \"\"}, \"colorscale\": [[0.0, \"#0d0887\"], [0.1111111111111111, \"#46039f\"], [0.2222222222222222, \"#7201a8\"], [0.3333333333333333, \"#9c179e\"], [0.4444444444444444, \"#bd3786\"], [0.5555555555555556, \"#d8576b\"], [0.6666666666666666, \"#ed7953\"], [0.7777777777777778, \"#fb9f3a\"], [0.8888888888888888, \"#fdca26\"], [1.0, \"#f0f921\"]], \"type\": \"heatmapgl\"}], \"histogram\": [{\"marker\": {\"colorbar\": {\"outlinewidth\": 0, \"ticks\": \"\"}}, \"type\": \"histogram\"}], \"histogram2d\": [{\"colorbar\": {\"outlinewidth\": 0, \"ticks\": \"\"}, \"colorscale\": [[0.0, \"#0d0887\"], [0.1111111111111111, \"#46039f\"], [0.2222222222222222, \"#7201a8\"], [0.3333333333333333, \"#9c179e\"], [0.4444444444444444, \"#bd3786\"], [0.5555555555555556, \"#d8576b\"], [0.6666666666666666, \"#ed7953\"], [0.7777777777777778, \"#fb9f3a\"], [0.8888888888888888, \"#fdca26\"], [1.0, \"#f0f921\"]], \"type\": \"histogram2d\"}], \"histogram2dcontour\": [{\"colorbar\": {\"outlinewidth\": 0, \"ticks\": \"\"}, \"colorscale\": [[0.0, \"#0d0887\"], [0.1111111111111111, \"#46039f\"], [0.2222222222222222, \"#7201a8\"], [0.3333333333333333, \"#9c179e\"], [0.4444444444444444, \"#bd3786\"], [0.5555555555555556, \"#d8576b\"], [0.6666666666666666, \"#ed7953\"], [0.7777777777777778, \"#fb9f3a\"], [0.8888888888888888, \"#fdca26\"], [1.0, \"#f0f921\"]], \"type\": \"histogram2dcontour\"}], \"mesh3d\": [{\"colorbar\": {\"outlinewidth\": 0, \"ticks\": \"\"}, \"type\": \"mesh3d\"}], \"parcoords\": [{\"line\": {\"colorbar\": {\"outlinewidth\": 0, \"ticks\": \"\"}}, \"type\": \"parcoords\"}], \"pie\": [{\"automargin\": true, \"type\": \"pie\"}], \"scatter\": [{\"marker\": {\"colorbar\": {\"outlinewidth\": 0, \"ticks\": \"\"}}, \"type\": \"scatter\"}], \"scatter3d\": [{\"line\": {\"colorbar\": {\"outlinewidth\": 0, \"ticks\": \"\"}}, \"marker\": {\"colorbar\": {\"outlinewidth\": 0, \"ticks\": \"\"}}, \"type\": \"scatter3d\"}], \"scattercarpet\": [{\"marker\": {\"colorbar\": {\"outlinewidth\": 0, \"ticks\": \"\"}}, \"type\": \"scattercarpet\"}], \"scattergeo\": [{\"marker\": {\"colorbar\": {\"outlinewidth\": 0, \"ticks\": \"\"}}, \"type\": \"scattergeo\"}], \"scattergl\": [{\"marker\": {\"colorbar\": {\"outlinewidth\": 0, \"ticks\": \"\"}}, \"type\": \"scattergl\"}], \"scattermapbox\": [{\"marker\": {\"colorbar\": {\"outlinewidth\": 0, \"ticks\": \"\"}}, \"type\": \"scattermapbox\"}], \"scatterpolar\": [{\"marker\": {\"colorbar\": {\"outlinewidth\": 0, \"ticks\": \"\"}}, \"type\": \"scatterpolar\"}], \"scatterpolargl\": [{\"marker\": {\"colorbar\": {\"outlinewidth\": 0, \"ticks\": \"\"}}, \"type\": \"scatterpolargl\"}], \"scatterternary\": [{\"marker\": {\"colorbar\": {\"outlinewidth\": 0, \"ticks\": \"\"}}, \"type\": \"scatterternary\"}], \"surface\": [{\"colorbar\": {\"outlinewidth\": 0, \"ticks\": \"\"}, \"colorscale\": [[0.0, \"#0d0887\"], [0.1111111111111111, \"#46039f\"], [0.2222222222222222, \"#7201a8\"], [0.3333333333333333, \"#9c179e\"], [0.4444444444444444, \"#bd3786\"], [0.5555555555555556, \"#d8576b\"], [0.6666666666666666, \"#ed7953\"], [0.7777777777777778, \"#fb9f3a\"], [0.8888888888888888, \"#fdca26\"], [1.0, \"#f0f921\"]], \"type\": \"surface\"}], \"table\": [{\"cells\": {\"fill\": {\"color\": \"#EBF0F8\"}, \"line\": {\"color\": \"white\"}}, \"header\": {\"fill\": {\"color\": \"#C8D4E3\"}, \"line\": {\"color\": \"white\"}}, \"type\": \"table\"}]}, \"layout\": {\"annotationdefaults\": {\"arrowcolor\": \"#2a3f5f\", \"arrowhead\": 0, \"arrowwidth\": 1}, \"coloraxis\": {\"colorbar\": {\"outlinewidth\": 0, \"ticks\": \"\"}}, \"colorscale\": {\"diverging\": [[0, \"#8e0152\"], [0.1, \"#c51b7d\"], [0.2, \"#de77ae\"], [0.3, \"#f1b6da\"], [0.4, \"#fde0ef\"], [0.5, \"#f7f7f7\"], [0.6, \"#e6f5d0\"], [0.7, \"#b8e186\"], [0.8, \"#7fbc41\"], [0.9, \"#4d9221\"], [1, \"#276419\"]], \"sequential\": [[0.0, \"#0d0887\"], [0.1111111111111111, \"#46039f\"], [0.2222222222222222, \"#7201a8\"], [0.3333333333333333, \"#9c179e\"], [0.4444444444444444, \"#bd3786\"], [0.5555555555555556, \"#d8576b\"], [0.6666666666666666, \"#ed7953\"], [0.7777777777777778, \"#fb9f3a\"], [0.8888888888888888, \"#fdca26\"], [1.0, \"#f0f921\"]], \"sequentialminus\": [[0.0, \"#0d0887\"], [0.1111111111111111, \"#46039f\"], [0.2222222222222222, \"#7201a8\"], [0.3333333333333333, \"#9c179e\"], [0.4444444444444444, \"#bd3786\"], [0.5555555555555556, \"#d8576b\"], [0.6666666666666666, \"#ed7953\"], [0.7777777777777778, \"#fb9f3a\"], [0.8888888888888888, \"#fdca26\"], [1.0, \"#f0f921\"]]}, \"colorway\": [\"#636efa\", \"#EF553B\", \"#00cc96\", \"#ab63fa\", \"#FFA15A\", \"#19d3f3\", \"#FF6692\", \"#B6E880\", \"#FF97FF\", \"#FECB52\"], \"font\": {\"color\": \"#2a3f5f\"}, \"geo\": {\"bgcolor\": \"white\", \"lakecolor\": \"white\", \"landcolor\": \"#E5ECF6\", \"showlakes\": true, \"showland\": true, \"subunitcolor\": \"white\"}, \"hoverlabel\": {\"align\": \"left\"}, \"hovermode\": \"closest\", \"mapbox\": {\"style\": \"light\"}, \"paper_bgcolor\": \"white\", \"plot_bgcolor\": \"#E5ECF6\", \"polar\": {\"angularaxis\": {\"gridcolor\": \"white\", \"linecolor\": \"white\", \"ticks\": \"\"}, \"bgcolor\": \"#E5ECF6\", \"radialaxis\": {\"gridcolor\": \"white\", \"linecolor\": \"white\", \"ticks\": \"\"}}, \"scene\": {\"xaxis\": {\"backgroundcolor\": \"#E5ECF6\", \"gridcolor\": \"white\", \"gridwidth\": 2, \"linecolor\": \"white\", \"showbackground\": true, \"ticks\": \"\", \"zerolinecolor\": \"white\"}, \"yaxis\": {\"backgroundcolor\": \"#E5ECF6\", \"gridcolor\": \"white\", \"gridwidth\": 2, \"linecolor\": \"white\", \"showbackground\": true, \"ticks\": \"\", \"zerolinecolor\": \"white\"}, \"zaxis\": {\"backgroundcolor\": \"#E5ECF6\", \"gridcolor\": \"white\", \"gridwidth\": 2, \"linecolor\": \"white\", \"showbackground\": true, \"ticks\": \"\", \"zerolinecolor\": \"white\"}}, \"shapedefaults\": {\"line\": {\"color\": \"#2a3f5f\"}}, \"ternary\": {\"aaxis\": {\"gridcolor\": \"white\", \"linecolor\": \"white\", \"ticks\": \"\"}, \"baxis\": {\"gridcolor\": \"white\", \"linecolor\": \"white\", \"ticks\": \"\"}, \"bgcolor\": \"#E5ECF6\", \"caxis\": {\"gridcolor\": \"white\", \"linecolor\": \"white\", \"ticks\": \"\"}}, \"title\": {\"x\": 0.05}, \"xaxis\": {\"automargin\": true, \"gridcolor\": \"white\", \"linecolor\": \"white\", \"ticks\": \"\", \"title\": {\"standoff\": 15}, \"zerolinecolor\": \"white\", \"zerolinewidth\": 2}, \"yaxis\": {\"automargin\": true, \"gridcolor\": \"white\", \"linecolor\": \"white\", \"ticks\": \"\", \"title\": {\"standoff\": 15}, \"zerolinecolor\": \"white\", \"zerolinewidth\": 2}}}, \"title\": {\"text\": \"Precision-Recall Curve\", \"x\": 0.5}, \"width\": 750, \"xaxis\": {\"title\": {\"text\": \"Recall\"}}, \"yaxis\": {\"title\": {\"text\": \"Precision\"}}},\n",
              "                        {\"responsive\": true}\n",
              "                    ).then(function(){\n",
              "                            \n",
              "var gd = document.getElementById('d4d645c7-c491-4ab6-89df-388d35f4d217');\n",
              "var x = new MutationObserver(function (mutations, observer) {{\n",
              "        var display = window.getComputedStyle(gd).display;\n",
              "        if (!display || display === 'none') {{\n",
              "            console.log([gd, 'removed!']);\n",
              "            Plotly.purge(gd);\n",
              "            observer.disconnect();\n",
              "        }}\n",
              "}});\n",
              "\n",
              "// Listen for the removal of the full notebook cells\n",
              "var notebookContainer = gd.closest('#notebook-container');\n",
              "if (notebookContainer) {{\n",
              "    x.observe(notebookContainer, {childList: true});\n",
              "}}\n",
              "\n",
              "// Listen for the clearing of the current output cell\n",
              "var outputEl = gd.closest('.output');\n",
              "if (outputEl) {{\n",
              "    x.observe(outputEl, {childList: true});\n",
              "}}\n",
              "\n",
              "                        })\n",
              "                };\n",
              "                \n",
              "            </script>\n",
              "        </div>\n",
              "</body>\n",
              "</html>"
            ]
          },
          "metadata": {}
        }
      ]
    },
    {
      "cell_type": "markdown",
      "source": [
        "### Precision Recall AUC score\n",
        "\n",
        "Precision Recall AUC summarizes the integral or an approximation of the area under the precision-recall curve."
      ],
      "metadata": {
        "id": "aBeT6OQGpbq6"
      }
    },
    {
      "cell_type": "code",
      "source": [
        "from sklearn.metrics import auc\n",
        "print('--- Precision Recall AUC ---')\n",
        "print(f\"Logistic Regression: {auc(recall_lr,precision_lr)}\" ) # Logistic Regression\n",
        "print(f\"Naive Bayes: {auc(recall_gnb,precision_gnb)}\") # Gaussian Naive Bayes\n",
        "\n",
        "print(f'Neural Network: {auc(recall_nn,precision_nn)}')# Neural Network\n",
        "print(f\"K-Nearest Neighbors: {auc(recall_knn,precision_knn)} \") # K-Nearest Neighbors\n",
        "print(f\"Decision Tree: {auc(recall_dt,precision_dt)}\")  # Decision Tree\n",
        "print(f\"SVC: {auc(recall_svc,precision_svc)}\")# support vector classifier\n",
        "\n",
        "print(f\"Random Forest: {auc(recall_rf,precision_rf)}\") # Random Forest\n",
        "print(f\"ADA: {auc(recall_ada,precision_ada)}\")# ada boost\n",
        "print(f'SGB: {auc(recall_sgb,precision_sgb)}')   # stochastic gradient boosting\n",
        "print(f'CAT: {auc(recall_cat,precision_cat)}')   # Catboost classifier\n",
        "print(f'XGB: {auc(recall_xgb,precision_xgb)}')   # XGBoost"
      ],
      "metadata": {
        "colab": {
          "base_uri": "https://localhost:8080/"
        },
        "id": "mzrw8I7GNxIy",
        "outputId": "36669e88-c157-47aa-b4d5-b0bbd008f5ad"
      },
      "execution_count": 79,
      "outputs": [
        {
          "metadata": {
            "tags": null
          },
          "name": "stdout",
          "output_type": "stream",
          "text": [
            "--- Precision Recall AUC ---\n",
            "Logistic Regression: 0.6152290997645365\n",
            "Naive Bayes: 0.5963564771598513\n",
            "Neural Network: 0.6299552910448243\n",
            "K-Nearest Neighbors: 0.5763893942178522 \n",
            "Decision Tree: 0.47147007382961775\n",
            "SVC: 0.5580756909903285\n",
            "Random Forest: 0.6147024732520345\n",
            "ADA: 0.6420331231331387\n",
            "SGB: 0.6252939194164903\n",
            "CAT: 0.6497711573382073\n",
            "XGB: 0.6253331866567144\n"
          ]
        }
      ]
    },
    {
      "cell_type": "markdown",
      "source": [
        "### Summary & Conclusion\n",
        "\n",
        "Customer Churn Prediction involves handling a class imbalanced problem.  To deal with the class imbalaned problem, Synthetic Minority Oversampling TEchnique (SMOTE) method is used to oversample the minority class.\n",
        "\n",
        "11 ML Algorithms are investigated for the Churn Prediction problem.   Hypermeters of these algorithms were tuned using GridSearchCV. (The hypermeters tuning could be improved with further exploration). \n",
        "\n",
        "Performance of various algorithms (linear, nonlinear and ensemble)  are compared against below evaluation metrics.  \n",
        "\n",
        "1.   Precision Recall Curve and PR AUC Score\n",
        "    * If identifying the customers who are highly likely to churn is the most important, then the precision-recall curve and area under curve (PR AUC) can be used. This will optimize both precision and recall across all thresholds.\n",
        "     \n",
        "2.   ROC Curve and ROC AUC Score\n",
        "    * If both classes are equally important, the ROC Curve and area under curve (ROC AUC) can be used. This will maximize the true positive rate and minimize the false positive rate.\n",
        "    * ROC Curve shows false positive rate against the true positive rate (recall).\n",
        "\n",
        "Neural Network, Logistic Regression and ADAboost are the top performers for ROC AUC Score. \n",
        "\n",
        "ADABoost achieves the best PR AUC score.  In general, boosting algorithms perform better on the imbalanced data by giving an opportunity to focus more on the minority class and accordingly tune the training algorithm."
      ],
      "metadata": {
        "id": "J8Qcoj_0JTZC"
      }
    }
  ],
  "metadata": {
    "kernelspec": {
      "display_name": "Python 3",
      "language": "python",
      "name": "python3"
    },
    "language_info": {
      "codemirror_mode": {
        "name": "ipython",
        "version": 3
      },
      "file_extension": ".py",
      "mimetype": "text/x-python",
      "name": "python",
      "nbconvert_exporter": "python",
      "pygments_lexer": "ipython3",
      "version": "3.7.6"
    },
    "colab": {
      "name": "Churn Prediction with ML algorithms.ipynb",
      "provenance": [],
      "collapsed_sections": [],
      "include_colab_link": true
    }
  },
  "nbformat": 4,
  "nbformat_minor": 0
}