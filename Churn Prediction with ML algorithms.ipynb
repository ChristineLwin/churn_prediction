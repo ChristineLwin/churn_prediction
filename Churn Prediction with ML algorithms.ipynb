{
  "cells": [
    {
      "cell_type": "markdown",
      "metadata": {
        "id": "view-in-github",
        "colab_type": "text"
      },
      "source": [
        "<a href=\"https://colab.research.google.com/github/ChristineLwin/churn_prediction/blob/main/Churn%20Prediction%20with%20ML%20algorithms.ipynb\" target=\"_parent\"><img src=\"https://colab.research.google.com/assets/colab-badge.svg\" alt=\"Open In Colab\"/></a>"
      ]
    },
    {
      "cell_type": "code",
      "execution_count": 1,
      "metadata": {
        "id": "-DCkcrgvgZpb"
      },
      "outputs": [],
      "source": [
        "# Jovian Commit Essentials\n",
        "# Please retain and execute this cell without modifying the contents for `jovian.commit` to work\n",
        "!pip install jovian --upgrade -q\n",
        "import jovian\n",
        "jovian.set_project('churn-prediction-using-linear-nonlinear-and-ensemble-algorithms')\n",
        "jovian.set_colab_id('1SEGIBYzA6bgeGYlsIk-1jmXB1Xb7LTqc')"
      ]
    },
    {
      "cell_type": "markdown",
      "metadata": {
        "id": "8Pp_kmGvgZpg"
      },
      "source": [
        "### Churn Prediction using linear, nonlinear & ensemble algorithms\n",
        "* EDA \n",
        "* Preprocessing - Cleaning and Transformation\n",
        "    * Encoding\n",
        "    * Scaling \n",
        "    * Dealing with imbalanced data using synthetic minority oversampling technique, SMOTE \n",
        "* Prediction using ML algorithms \n",
        "    * Linear Algos\n",
        "        1. Naive Bayes\n",
        "        2. Logistic Regression\n",
        "    * Nonlinear Algos\n",
        "        3. NN\n",
        "        4. K Nearest Neighbour\n",
        "        5. Support Vector Classifier\n",
        "        6. Decision Tree Classifier\n",
        "    * Ensemble Algos\n",
        "        * Bagging Approach\n",
        "          7. Random Forest Classifier \n",
        "        * Boosting Approach\n",
        "          8. AdaBoost Classifier \n",
        "          9. CatBoost Classifier \n",
        "          10. Stochastic Gradient Boosting\n",
        "          11. XGBoost Classifier"
      ]
    },
    {
      "cell_type": "code",
      "execution_count": 2,
      "metadata": {
        "id": "0RaiuP6bgZpj"
      },
      "outputs": [],
      "source": [
        "!pip install jovian --upgrade --quiet\n",
        "!pip install statsmodels --quiet\n",
        "!pip install opendatasets --upgrade --quiet\n",
        "!pip install catboost --quiet"
      ]
    },
    {
      "cell_type": "code",
      "source": [
        "import opendatasets as od\n",
        "import pandas as pd\n",
        "import numpy as np\n",
        "import tensorflow as tf\n",
        "\n",
        "from tensorflow import keras\n",
        "from keras.models import Sequential\n",
        "from keras.layers import Dense\n",
        "from sklearn.linear_model import LogisticRegression\n",
        "\n",
        "from sklearn.neighbors import KNeighborsClassifier\n",
        "from sklearn.naive_bayes import GaussianNB\n",
        "from sklearn.svm import SVC\n",
        "\n",
        "from sklearn.tree import DecisionTreeClassifier\n",
        "from sklearn.ensemble import AdaBoostClassifier, GradientBoostingClassifier, RandomForestClassifier\n",
        "from catboost import CatBoostClassifier\n",
        "\n",
        "from sklearn.model_selection import train_test_split, GridSearchCV\n",
        "from sklearn.preprocessing import MinMaxScaler\n",
        "from sklearn.metrics import confusion_matrix, classification_report\n",
        "from sklearn.metrics import roc_curve, roc_auc_score, precision_recall_curve\n",
        "\n",
        "import matplotlib.pyplot as plt\n",
        "import plotly.express as px\n",
        "import plotly.graph_objects as go\n",
        "%matplotlib inline"
      ],
      "metadata": {
        "id": "MjDBMgwRiUU7"
      },
      "execution_count": 3,
      "outputs": []
    },
    {
      "cell_type": "code",
      "source": [
        "od.download('https://www.kaggle.com/blastchar/telco-customer-churn')"
      ],
      "metadata": {
        "colab": {
          "base_uri": "https://localhost:8080/"
        },
        "id": "uUgAk2SgiWJ0",
        "outputId": "37cb4641-5a94-4900-e365-ebf2cb561798"
      },
      "execution_count": 4,
      "outputs": [
        {
          "output_type": "stream",
          "name": "stdout",
          "text": [
            "Skipping, found downloaded files in \"./telco-customer-churn\" (use force=True to force download)\n"
          ]
        }
      ]
    },
    {
      "cell_type": "code",
      "source": [
        "filepath = './telco-customer-churn/WA_Fn-UseC_-Telco-Customer-Churn.csv'"
      ],
      "metadata": {
        "id": "hPJbaionjAdr"
      },
      "execution_count": 5,
      "outputs": []
    },
    {
      "cell_type": "code",
      "source": [
        "df = pd.read_csv(filepath)\n",
        "print(df.shape)\n",
        "df.sample(3)"
      ],
      "metadata": {
        "colab": {
          "base_uri": "https://localhost:8080/",
          "height": 277
        },
        "id": "8TdWWdzsjGde",
        "outputId": "dadf4c5d-1bba-4767-a73a-0b823b6df33b"
      },
      "execution_count": 6,
      "outputs": [
        {
          "output_type": "stream",
          "name": "stdout",
          "text": [
            "(7043, 21)\n"
          ]
        },
        {
          "output_type": "execute_result",
          "data": {
            "text/html": [
              "\n",
              "  <div id=\"df-d905d4f7-ea3c-4f1f-9716-8e9ac61badd6\">\n",
              "    <div class=\"colab-df-container\">\n",
              "      <div>\n",
              "<style scoped>\n",
              "    .dataframe tbody tr th:only-of-type {\n",
              "        vertical-align: middle;\n",
              "    }\n",
              "\n",
              "    .dataframe tbody tr th {\n",
              "        vertical-align: top;\n",
              "    }\n",
              "\n",
              "    .dataframe thead th {\n",
              "        text-align: right;\n",
              "    }\n",
              "</style>\n",
              "<table border=\"1\" class=\"dataframe\">\n",
              "  <thead>\n",
              "    <tr style=\"text-align: right;\">\n",
              "      <th></th>\n",
              "      <th>customerID</th>\n",
              "      <th>gender</th>\n",
              "      <th>SeniorCitizen</th>\n",
              "      <th>Partner</th>\n",
              "      <th>Dependents</th>\n",
              "      <th>tenure</th>\n",
              "      <th>PhoneService</th>\n",
              "      <th>MultipleLines</th>\n",
              "      <th>InternetService</th>\n",
              "      <th>OnlineSecurity</th>\n",
              "      <th>OnlineBackup</th>\n",
              "      <th>DeviceProtection</th>\n",
              "      <th>TechSupport</th>\n",
              "      <th>StreamingTV</th>\n",
              "      <th>StreamingMovies</th>\n",
              "      <th>Contract</th>\n",
              "      <th>PaperlessBilling</th>\n",
              "      <th>PaymentMethod</th>\n",
              "      <th>MonthlyCharges</th>\n",
              "      <th>TotalCharges</th>\n",
              "      <th>Churn</th>\n",
              "    </tr>\n",
              "  </thead>\n",
              "  <tbody>\n",
              "    <tr>\n",
              "      <th>1644</th>\n",
              "      <td>3331-HQDTW</td>\n",
              "      <td>Female</td>\n",
              "      <td>0</td>\n",
              "      <td>No</td>\n",
              "      <td>No</td>\n",
              "      <td>34</td>\n",
              "      <td>Yes</td>\n",
              "      <td>Yes</td>\n",
              "      <td>Fiber optic</td>\n",
              "      <td>Yes</td>\n",
              "      <td>Yes</td>\n",
              "      <td>Yes</td>\n",
              "      <td>No</td>\n",
              "      <td>Yes</td>\n",
              "      <td>Yes</td>\n",
              "      <td>Month-to-month</td>\n",
              "      <td>Yes</td>\n",
              "      <td>Mailed check</td>\n",
              "      <td>109.80</td>\n",
              "      <td>3587.25</td>\n",
              "      <td>Yes</td>\n",
              "    </tr>\n",
              "    <tr>\n",
              "      <th>5870</th>\n",
              "      <td>0568-ONFPC</td>\n",
              "      <td>Male</td>\n",
              "      <td>0</td>\n",
              "      <td>Yes</td>\n",
              "      <td>Yes</td>\n",
              "      <td>5</td>\n",
              "      <td>Yes</td>\n",
              "      <td>Yes</td>\n",
              "      <td>No</td>\n",
              "      <td>No internet service</td>\n",
              "      <td>No internet service</td>\n",
              "      <td>No internet service</td>\n",
              "      <td>No internet service</td>\n",
              "      <td>No internet service</td>\n",
              "      <td>No internet service</td>\n",
              "      <td>Month-to-month</td>\n",
              "      <td>Yes</td>\n",
              "      <td>Bank transfer (automatic)</td>\n",
              "      <td>25.90</td>\n",
              "      <td>135</td>\n",
              "      <td>Yes</td>\n",
              "    </tr>\n",
              "    <tr>\n",
              "      <th>212</th>\n",
              "      <td>7157-SMCFK</td>\n",
              "      <td>Male</td>\n",
              "      <td>0</td>\n",
              "      <td>No</td>\n",
              "      <td>Yes</td>\n",
              "      <td>61</td>\n",
              "      <td>Yes</td>\n",
              "      <td>No</td>\n",
              "      <td>No</td>\n",
              "      <td>No internet service</td>\n",
              "      <td>No internet service</td>\n",
              "      <td>No internet service</td>\n",
              "      <td>No internet service</td>\n",
              "      <td>No internet service</td>\n",
              "      <td>No internet service</td>\n",
              "      <td>Two year</td>\n",
              "      <td>No</td>\n",
              "      <td>Mailed check</td>\n",
              "      <td>19.75</td>\n",
              "      <td>1124.2</td>\n",
              "      <td>No</td>\n",
              "    </tr>\n",
              "  </tbody>\n",
              "</table>\n",
              "</div>\n",
              "      <button class=\"colab-df-convert\" onclick=\"convertToInteractive('df-d905d4f7-ea3c-4f1f-9716-8e9ac61badd6')\"\n",
              "              title=\"Convert this dataframe to an interactive table.\"\n",
              "              style=\"display:none;\">\n",
              "        \n",
              "  <svg xmlns=\"http://www.w3.org/2000/svg\" height=\"24px\"viewBox=\"0 0 24 24\"\n",
              "       width=\"24px\">\n",
              "    <path d=\"M0 0h24v24H0V0z\" fill=\"none\"/>\n",
              "    <path d=\"M18.56 5.44l.94 2.06.94-2.06 2.06-.94-2.06-.94-.94-2.06-.94 2.06-2.06.94zm-11 1L8.5 8.5l.94-2.06 2.06-.94-2.06-.94L8.5 2.5l-.94 2.06-2.06.94zm10 10l.94 2.06.94-2.06 2.06-.94-2.06-.94-.94-2.06-.94 2.06-2.06.94z\"/><path d=\"M17.41 7.96l-1.37-1.37c-.4-.4-.92-.59-1.43-.59-.52 0-1.04.2-1.43.59L10.3 9.45l-7.72 7.72c-.78.78-.78 2.05 0 2.83L4 21.41c.39.39.9.59 1.41.59.51 0 1.02-.2 1.41-.59l7.78-7.78 2.81-2.81c.8-.78.8-2.07 0-2.86zM5.41 20L4 18.59l7.72-7.72 1.47 1.35L5.41 20z\"/>\n",
              "  </svg>\n",
              "      </button>\n",
              "      \n",
              "  <style>\n",
              "    .colab-df-container {\n",
              "      display:flex;\n",
              "      flex-wrap:wrap;\n",
              "      gap: 12px;\n",
              "    }\n",
              "\n",
              "    .colab-df-convert {\n",
              "      background-color: #E8F0FE;\n",
              "      border: none;\n",
              "      border-radius: 50%;\n",
              "      cursor: pointer;\n",
              "      display: none;\n",
              "      fill: #1967D2;\n",
              "      height: 32px;\n",
              "      padding: 0 0 0 0;\n",
              "      width: 32px;\n",
              "    }\n",
              "\n",
              "    .colab-df-convert:hover {\n",
              "      background-color: #E2EBFA;\n",
              "      box-shadow: 0px 1px 2px rgba(60, 64, 67, 0.3), 0px 1px 3px 1px rgba(60, 64, 67, 0.15);\n",
              "      fill: #174EA6;\n",
              "    }\n",
              "\n",
              "    [theme=dark] .colab-df-convert {\n",
              "      background-color: #3B4455;\n",
              "      fill: #D2E3FC;\n",
              "    }\n",
              "\n",
              "    [theme=dark] .colab-df-convert:hover {\n",
              "      background-color: #434B5C;\n",
              "      box-shadow: 0px 1px 3px 1px rgba(0, 0, 0, 0.15);\n",
              "      filter: drop-shadow(0px 1px 2px rgba(0, 0, 0, 0.3));\n",
              "      fill: #FFFFFF;\n",
              "    }\n",
              "  </style>\n",
              "\n",
              "      <script>\n",
              "        const buttonEl =\n",
              "          document.querySelector('#df-d905d4f7-ea3c-4f1f-9716-8e9ac61badd6 button.colab-df-convert');\n",
              "        buttonEl.style.display =\n",
              "          google.colab.kernel.accessAllowed ? 'block' : 'none';\n",
              "\n",
              "        async function convertToInteractive(key) {\n",
              "          const element = document.querySelector('#df-d905d4f7-ea3c-4f1f-9716-8e9ac61badd6');\n",
              "          const dataTable =\n",
              "            await google.colab.kernel.invokeFunction('convertToInteractive',\n",
              "                                                     [key], {});\n",
              "          if (!dataTable) return;\n",
              "\n",
              "          const docLinkHtml = 'Like what you see? Visit the ' +\n",
              "            '<a target=\"_blank\" href=https://colab.research.google.com/notebooks/data_table.ipynb>data table notebook</a>'\n",
              "            + ' to learn more about interactive tables.';\n",
              "          element.innerHTML = '';\n",
              "          dataTable['output_type'] = 'display_data';\n",
              "          await google.colab.output.renderOutput(dataTable, element);\n",
              "          const docLink = document.createElement('div');\n",
              "          docLink.innerHTML = docLinkHtml;\n",
              "          element.appendChild(docLink);\n",
              "        }\n",
              "      </script>\n",
              "    </div>\n",
              "  </div>\n",
              "  "
            ],
            "text/plain": [
              "      customerID  gender  SeniorCitizen  ... MonthlyCharges TotalCharges  Churn\n",
              "1644  3331-HQDTW  Female              0  ...         109.80      3587.25    Yes\n",
              "5870  0568-ONFPC    Male              0  ...          25.90          135    Yes\n",
              "212   7157-SMCFK    Male              0  ...          19.75       1124.2     No\n",
              "\n",
              "[3 rows x 21 columns]"
            ]
          },
          "metadata": {},
          "execution_count": 6
        }
      ]
    },
    {
      "cell_type": "code",
      "source": [
        "df.columns"
      ],
      "metadata": {
        "colab": {
          "base_uri": "https://localhost:8080/"
        },
        "id": "XuauPqEvjMHs",
        "outputId": "f6096f95-1447-48fd-e6f1-1a03c0ee9a2c"
      },
      "execution_count": 7,
      "outputs": [
        {
          "output_type": "execute_result",
          "data": {
            "text/plain": [
              "Index(['customerID', 'gender', 'SeniorCitizen', 'Partner', 'Dependents',\n",
              "       'tenure', 'PhoneService', 'MultipleLines', 'InternetService',\n",
              "       'OnlineSecurity', 'OnlineBackup', 'DeviceProtection', 'TechSupport',\n",
              "       'StreamingTV', 'StreamingMovies', 'Contract', 'PaperlessBilling',\n",
              "       'PaymentMethod', 'MonthlyCharges', 'TotalCharges', 'Churn'],\n",
              "      dtype='object')"
            ]
          },
          "metadata": {},
          "execution_count": 7
        }
      ]
    },
    {
      "cell_type": "code",
      "source": [
        "df.dtypes"
      ],
      "metadata": {
        "colab": {
          "base_uri": "https://localhost:8080/"
        },
        "id": "d4SuBQD8jRRb",
        "outputId": "61e0b4a2-ffda-4eb9-8071-a42476b0da8c"
      },
      "execution_count": 8,
      "outputs": [
        {
          "output_type": "execute_result",
          "data": {
            "text/plain": [
              "customerID           object\n",
              "gender               object\n",
              "SeniorCitizen         int64\n",
              "Partner              object\n",
              "Dependents           object\n",
              "tenure                int64\n",
              "PhoneService         object\n",
              "MultipleLines        object\n",
              "InternetService      object\n",
              "OnlineSecurity       object\n",
              "OnlineBackup         object\n",
              "DeviceProtection     object\n",
              "TechSupport          object\n",
              "StreamingTV          object\n",
              "StreamingMovies      object\n",
              "Contract             object\n",
              "PaperlessBilling     object\n",
              "PaymentMethod        object\n",
              "MonthlyCharges      float64\n",
              "TotalCharges         object\n",
              "Churn                object\n",
              "dtype: object"
            ]
          },
          "metadata": {},
          "execution_count": 8
        }
      ]
    },
    {
      "cell_type": "markdown",
      "source": [
        "#### Preprocessing and Cleaning"
      ],
      "metadata": {
        "id": "oEvfx1HSj0AS"
      }
    },
    {
      "cell_type": "markdown",
      "source": [
        "TotalCharges type is string object.  Convert it to float type.  "
      ],
      "metadata": {
        "id": "WOBjVT5Vj34P"
      }
    },
    {
      "cell_type": "code",
      "source": [
        "print(df['TotalCharges'].dtype)\n",
        "print(df.TotalCharges.values)"
      ],
      "metadata": {
        "colab": {
          "base_uri": "https://localhost:8080/"
        },
        "id": "M8P60jEvjR1J",
        "outputId": "72c9d56a-9abb-460d-c18d-72e02428fc05"
      },
      "execution_count": 9,
      "outputs": [
        {
          "output_type": "stream",
          "name": "stdout",
          "text": [
            "object\n",
            "['29.85' '1889.5' '108.15' ... '346.45' '306.6' '6844.5']\n"
          ]
        }
      ]
    },
    {
      "cell_type": "markdown",
      "source": [
        "#### Missing values\n",
        "\n",
        "There are 11 records with missing values(empty string) in TotalCharges column.  Since it is only a small proportion (0.15% of the dataset), those records are dropped."
      ],
      "metadata": {
        "id": "SeW8JLA0j_KK"
      }
    },
    {
      "cell_type": "code",
      "source": [
        "print('No. of records with empty string: ',df[pd.to_numeric(df.TotalCharges,errors='coerce').isnull()].shape[0])\n",
        "\n",
        "#index of the TotalCharges with missing values\n",
        "idxlst = list(df[pd.to_numeric(df.TotalCharges,errors='coerce').isnull()].index)\n",
        "# below results show that totalcharges columns have empty string\n",
        "df.loc[idxlst,['tenure','MonthlyCharges','TotalCharges','Churn']]"
      ],
      "metadata": {
        "colab": {
          "base_uri": "https://localhost:8080/",
          "height": 412
        },
        "id": "d_Cx7b1Ujbbz",
        "outputId": "a180a0d1-7fb3-410f-ed89-c3f41fb72e73"
      },
      "execution_count": 10,
      "outputs": [
        {
          "output_type": "stream",
          "name": "stdout",
          "text": [
            "No. of records with empty string:  11\n"
          ]
        },
        {
          "output_type": "execute_result",
          "data": {
            "text/html": [
              "\n",
              "  <div id=\"df-70538c81-2d7d-4f93-92e7-d145ed248c8b\">\n",
              "    <div class=\"colab-df-container\">\n",
              "      <div>\n",
              "<style scoped>\n",
              "    .dataframe tbody tr th:only-of-type {\n",
              "        vertical-align: middle;\n",
              "    }\n",
              "\n",
              "    .dataframe tbody tr th {\n",
              "        vertical-align: top;\n",
              "    }\n",
              "\n",
              "    .dataframe thead th {\n",
              "        text-align: right;\n",
              "    }\n",
              "</style>\n",
              "<table border=\"1\" class=\"dataframe\">\n",
              "  <thead>\n",
              "    <tr style=\"text-align: right;\">\n",
              "      <th></th>\n",
              "      <th>tenure</th>\n",
              "      <th>MonthlyCharges</th>\n",
              "      <th>TotalCharges</th>\n",
              "      <th>Churn</th>\n",
              "    </tr>\n",
              "  </thead>\n",
              "  <tbody>\n",
              "    <tr>\n",
              "      <th>488</th>\n",
              "      <td>0</td>\n",
              "      <td>52.55</td>\n",
              "      <td></td>\n",
              "      <td>No</td>\n",
              "    </tr>\n",
              "    <tr>\n",
              "      <th>753</th>\n",
              "      <td>0</td>\n",
              "      <td>20.25</td>\n",
              "      <td></td>\n",
              "      <td>No</td>\n",
              "    </tr>\n",
              "    <tr>\n",
              "      <th>936</th>\n",
              "      <td>0</td>\n",
              "      <td>80.85</td>\n",
              "      <td></td>\n",
              "      <td>No</td>\n",
              "    </tr>\n",
              "    <tr>\n",
              "      <th>1082</th>\n",
              "      <td>0</td>\n",
              "      <td>25.75</td>\n",
              "      <td></td>\n",
              "      <td>No</td>\n",
              "    </tr>\n",
              "    <tr>\n",
              "      <th>1340</th>\n",
              "      <td>0</td>\n",
              "      <td>56.05</td>\n",
              "      <td></td>\n",
              "      <td>No</td>\n",
              "    </tr>\n",
              "    <tr>\n",
              "      <th>3331</th>\n",
              "      <td>0</td>\n",
              "      <td>19.85</td>\n",
              "      <td></td>\n",
              "      <td>No</td>\n",
              "    </tr>\n",
              "    <tr>\n",
              "      <th>3826</th>\n",
              "      <td>0</td>\n",
              "      <td>25.35</td>\n",
              "      <td></td>\n",
              "      <td>No</td>\n",
              "    </tr>\n",
              "    <tr>\n",
              "      <th>4380</th>\n",
              "      <td>0</td>\n",
              "      <td>20.00</td>\n",
              "      <td></td>\n",
              "      <td>No</td>\n",
              "    </tr>\n",
              "    <tr>\n",
              "      <th>5218</th>\n",
              "      <td>0</td>\n",
              "      <td>19.70</td>\n",
              "      <td></td>\n",
              "      <td>No</td>\n",
              "    </tr>\n",
              "    <tr>\n",
              "      <th>6670</th>\n",
              "      <td>0</td>\n",
              "      <td>73.35</td>\n",
              "      <td></td>\n",
              "      <td>No</td>\n",
              "    </tr>\n",
              "    <tr>\n",
              "      <th>6754</th>\n",
              "      <td>0</td>\n",
              "      <td>61.90</td>\n",
              "      <td></td>\n",
              "      <td>No</td>\n",
              "    </tr>\n",
              "  </tbody>\n",
              "</table>\n",
              "</div>\n",
              "      <button class=\"colab-df-convert\" onclick=\"convertToInteractive('df-70538c81-2d7d-4f93-92e7-d145ed248c8b')\"\n",
              "              title=\"Convert this dataframe to an interactive table.\"\n",
              "              style=\"display:none;\">\n",
              "        \n",
              "  <svg xmlns=\"http://www.w3.org/2000/svg\" height=\"24px\"viewBox=\"0 0 24 24\"\n",
              "       width=\"24px\">\n",
              "    <path d=\"M0 0h24v24H0V0z\" fill=\"none\"/>\n",
              "    <path d=\"M18.56 5.44l.94 2.06.94-2.06 2.06-.94-2.06-.94-.94-2.06-.94 2.06-2.06.94zm-11 1L8.5 8.5l.94-2.06 2.06-.94-2.06-.94L8.5 2.5l-.94 2.06-2.06.94zm10 10l.94 2.06.94-2.06 2.06-.94-2.06-.94-.94-2.06-.94 2.06-2.06.94z\"/><path d=\"M17.41 7.96l-1.37-1.37c-.4-.4-.92-.59-1.43-.59-.52 0-1.04.2-1.43.59L10.3 9.45l-7.72 7.72c-.78.78-.78 2.05 0 2.83L4 21.41c.39.39.9.59 1.41.59.51 0 1.02-.2 1.41-.59l7.78-7.78 2.81-2.81c.8-.78.8-2.07 0-2.86zM5.41 20L4 18.59l7.72-7.72 1.47 1.35L5.41 20z\"/>\n",
              "  </svg>\n",
              "      </button>\n",
              "      \n",
              "  <style>\n",
              "    .colab-df-container {\n",
              "      display:flex;\n",
              "      flex-wrap:wrap;\n",
              "      gap: 12px;\n",
              "    }\n",
              "\n",
              "    .colab-df-convert {\n",
              "      background-color: #E8F0FE;\n",
              "      border: none;\n",
              "      border-radius: 50%;\n",
              "      cursor: pointer;\n",
              "      display: none;\n",
              "      fill: #1967D2;\n",
              "      height: 32px;\n",
              "      padding: 0 0 0 0;\n",
              "      width: 32px;\n",
              "    }\n",
              "\n",
              "    .colab-df-convert:hover {\n",
              "      background-color: #E2EBFA;\n",
              "      box-shadow: 0px 1px 2px rgba(60, 64, 67, 0.3), 0px 1px 3px 1px rgba(60, 64, 67, 0.15);\n",
              "      fill: #174EA6;\n",
              "    }\n",
              "\n",
              "    [theme=dark] .colab-df-convert {\n",
              "      background-color: #3B4455;\n",
              "      fill: #D2E3FC;\n",
              "    }\n",
              "\n",
              "    [theme=dark] .colab-df-convert:hover {\n",
              "      background-color: #434B5C;\n",
              "      box-shadow: 0px 1px 3px 1px rgba(0, 0, 0, 0.15);\n",
              "      filter: drop-shadow(0px 1px 2px rgba(0, 0, 0, 0.3));\n",
              "      fill: #FFFFFF;\n",
              "    }\n",
              "  </style>\n",
              "\n",
              "      <script>\n",
              "        const buttonEl =\n",
              "          document.querySelector('#df-70538c81-2d7d-4f93-92e7-d145ed248c8b button.colab-df-convert');\n",
              "        buttonEl.style.display =\n",
              "          google.colab.kernel.accessAllowed ? 'block' : 'none';\n",
              "\n",
              "        async function convertToInteractive(key) {\n",
              "          const element = document.querySelector('#df-70538c81-2d7d-4f93-92e7-d145ed248c8b');\n",
              "          const dataTable =\n",
              "            await google.colab.kernel.invokeFunction('convertToInteractive',\n",
              "                                                     [key], {});\n",
              "          if (!dataTable) return;\n",
              "\n",
              "          const docLinkHtml = 'Like what you see? Visit the ' +\n",
              "            '<a target=\"_blank\" href=https://colab.research.google.com/notebooks/data_table.ipynb>data table notebook</a>'\n",
              "            + ' to learn more about interactive tables.';\n",
              "          element.innerHTML = '';\n",
              "          dataTable['output_type'] = 'display_data';\n",
              "          await google.colab.output.renderOutput(dataTable, element);\n",
              "          const docLink = document.createElement('div');\n",
              "          docLink.innerHTML = docLinkHtml;\n",
              "          element.appendChild(docLink);\n",
              "        }\n",
              "      </script>\n",
              "    </div>\n",
              "  </div>\n",
              "  "
            ],
            "text/plain": [
              "      tenure  MonthlyCharges TotalCharges Churn\n",
              "488        0           52.55                 No\n",
              "753        0           20.25                 No\n",
              "936        0           80.85                 No\n",
              "1082       0           25.75                 No\n",
              "1340       0           56.05                 No\n",
              "3331       0           19.85                 No\n",
              "3826       0           25.35                 No\n",
              "4380       0           20.00                 No\n",
              "5218       0           19.70                 No\n",
              "6670       0           73.35                 No\n",
              "6754       0           61.90                 No"
            ]
          },
          "metadata": {},
          "execution_count": 10
        }
      ]
    },
    {
      "cell_type": "markdown",
      "source": [
        "All missing records are also customers with No churn as well as with Zero tenure. As there are significant samples for No Churn (majority class), these 11 missing records/rows are dropped. Customer ID column/feature is also dropped.  "
      ],
      "metadata": {
        "id": "_47QJATgkNNU"
      }
    },
    {
      "cell_type": "code",
      "source": [
        "#drop the missing records/rows\n",
        "df1 = df.drop(idxlst,axis=0)\n",
        "#drop customerID column\n",
        "df1 = df1.drop('customerID',axis=1)\n",
        "df1.shape"
      ],
      "metadata": {
        "colab": {
          "base_uri": "https://localhost:8080/"
        },
        "id": "INJFwbYFjbe9",
        "outputId": "a4e4392c-d29b-4c5c-aee2-b3bd7ab281a4"
      },
      "execution_count": 11,
      "outputs": [
        {
          "output_type": "execute_result",
          "data": {
            "text/plain": [
              "(7032, 20)"
            ]
          },
          "metadata": {},
          "execution_count": 11
        }
      ]
    },
    {
      "cell_type": "code",
      "source": [
        "#convert from string object to float64\n",
        "df1 = df1.astype({'TotalCharges':np.float64})\n",
        "df1.TotalCharges.dtypes"
      ],
      "metadata": {
        "colab": {
          "base_uri": "https://localhost:8080/"
        },
        "id": "GAVngl8wkRDv",
        "outputId": "797a8c2a-92ea-4df5-a82a-e66a917967dc"
      },
      "execution_count": 12,
      "outputs": [
        {
          "output_type": "execute_result",
          "data": {
            "text/plain": [
              "dtype('float64')"
            ]
          },
          "metadata": {},
          "execution_count": 12
        }
      ]
    },
    {
      "cell_type": "markdown",
      "source": [
        "Statistics of the numeric features - dataset contains tenure range from 1 to 72 and montlycharges rage from 18 to 118. "
      ],
      "metadata": {
        "id": "zlTTEJOqkbxV"
      }
    },
    {
      "cell_type": "code",
      "source": [
        "df1.describe()"
      ],
      "metadata": {
        "colab": {
          "base_uri": "https://localhost:8080/",
          "height": 300
        },
        "id": "AR-0nW__kRWI",
        "outputId": "fa64b1cb-a8b0-4c2f-8265-1ac1efae9293"
      },
      "execution_count": 13,
      "outputs": [
        {
          "output_type": "execute_result",
          "data": {
            "text/html": [
              "\n",
              "  <div id=\"df-b8404e33-373e-400a-bbdd-7e69e2e70ae0\">\n",
              "    <div class=\"colab-df-container\">\n",
              "      <div>\n",
              "<style scoped>\n",
              "    .dataframe tbody tr th:only-of-type {\n",
              "        vertical-align: middle;\n",
              "    }\n",
              "\n",
              "    .dataframe tbody tr th {\n",
              "        vertical-align: top;\n",
              "    }\n",
              "\n",
              "    .dataframe thead th {\n",
              "        text-align: right;\n",
              "    }\n",
              "</style>\n",
              "<table border=\"1\" class=\"dataframe\">\n",
              "  <thead>\n",
              "    <tr style=\"text-align: right;\">\n",
              "      <th></th>\n",
              "      <th>SeniorCitizen</th>\n",
              "      <th>tenure</th>\n",
              "      <th>MonthlyCharges</th>\n",
              "      <th>TotalCharges</th>\n",
              "    </tr>\n",
              "  </thead>\n",
              "  <tbody>\n",
              "    <tr>\n",
              "      <th>count</th>\n",
              "      <td>7032.000000</td>\n",
              "      <td>7032.000000</td>\n",
              "      <td>7032.000000</td>\n",
              "      <td>7032.000000</td>\n",
              "    </tr>\n",
              "    <tr>\n",
              "      <th>mean</th>\n",
              "      <td>0.162400</td>\n",
              "      <td>32.421786</td>\n",
              "      <td>64.798208</td>\n",
              "      <td>2283.300441</td>\n",
              "    </tr>\n",
              "    <tr>\n",
              "      <th>std</th>\n",
              "      <td>0.368844</td>\n",
              "      <td>24.545260</td>\n",
              "      <td>30.085974</td>\n",
              "      <td>2266.771362</td>\n",
              "    </tr>\n",
              "    <tr>\n",
              "      <th>min</th>\n",
              "      <td>0.000000</td>\n",
              "      <td>1.000000</td>\n",
              "      <td>18.250000</td>\n",
              "      <td>18.800000</td>\n",
              "    </tr>\n",
              "    <tr>\n",
              "      <th>25%</th>\n",
              "      <td>0.000000</td>\n",
              "      <td>9.000000</td>\n",
              "      <td>35.587500</td>\n",
              "      <td>401.450000</td>\n",
              "    </tr>\n",
              "    <tr>\n",
              "      <th>50%</th>\n",
              "      <td>0.000000</td>\n",
              "      <td>29.000000</td>\n",
              "      <td>70.350000</td>\n",
              "      <td>1397.475000</td>\n",
              "    </tr>\n",
              "    <tr>\n",
              "      <th>75%</th>\n",
              "      <td>0.000000</td>\n",
              "      <td>55.000000</td>\n",
              "      <td>89.862500</td>\n",
              "      <td>3794.737500</td>\n",
              "    </tr>\n",
              "    <tr>\n",
              "      <th>max</th>\n",
              "      <td>1.000000</td>\n",
              "      <td>72.000000</td>\n",
              "      <td>118.750000</td>\n",
              "      <td>8684.800000</td>\n",
              "    </tr>\n",
              "  </tbody>\n",
              "</table>\n",
              "</div>\n",
              "      <button class=\"colab-df-convert\" onclick=\"convertToInteractive('df-b8404e33-373e-400a-bbdd-7e69e2e70ae0')\"\n",
              "              title=\"Convert this dataframe to an interactive table.\"\n",
              "              style=\"display:none;\">\n",
              "        \n",
              "  <svg xmlns=\"http://www.w3.org/2000/svg\" height=\"24px\"viewBox=\"0 0 24 24\"\n",
              "       width=\"24px\">\n",
              "    <path d=\"M0 0h24v24H0V0z\" fill=\"none\"/>\n",
              "    <path d=\"M18.56 5.44l.94 2.06.94-2.06 2.06-.94-2.06-.94-.94-2.06-.94 2.06-2.06.94zm-11 1L8.5 8.5l.94-2.06 2.06-.94-2.06-.94L8.5 2.5l-.94 2.06-2.06.94zm10 10l.94 2.06.94-2.06 2.06-.94-2.06-.94-.94-2.06-.94 2.06-2.06.94z\"/><path d=\"M17.41 7.96l-1.37-1.37c-.4-.4-.92-.59-1.43-.59-.52 0-1.04.2-1.43.59L10.3 9.45l-7.72 7.72c-.78.78-.78 2.05 0 2.83L4 21.41c.39.39.9.59 1.41.59.51 0 1.02-.2 1.41-.59l7.78-7.78 2.81-2.81c.8-.78.8-2.07 0-2.86zM5.41 20L4 18.59l7.72-7.72 1.47 1.35L5.41 20z\"/>\n",
              "  </svg>\n",
              "      </button>\n",
              "      \n",
              "  <style>\n",
              "    .colab-df-container {\n",
              "      display:flex;\n",
              "      flex-wrap:wrap;\n",
              "      gap: 12px;\n",
              "    }\n",
              "\n",
              "    .colab-df-convert {\n",
              "      background-color: #E8F0FE;\n",
              "      border: none;\n",
              "      border-radius: 50%;\n",
              "      cursor: pointer;\n",
              "      display: none;\n",
              "      fill: #1967D2;\n",
              "      height: 32px;\n",
              "      padding: 0 0 0 0;\n",
              "      width: 32px;\n",
              "    }\n",
              "\n",
              "    .colab-df-convert:hover {\n",
              "      background-color: #E2EBFA;\n",
              "      box-shadow: 0px 1px 2px rgba(60, 64, 67, 0.3), 0px 1px 3px 1px rgba(60, 64, 67, 0.15);\n",
              "      fill: #174EA6;\n",
              "    }\n",
              "\n",
              "    [theme=dark] .colab-df-convert {\n",
              "      background-color: #3B4455;\n",
              "      fill: #D2E3FC;\n",
              "    }\n",
              "\n",
              "    [theme=dark] .colab-df-convert:hover {\n",
              "      background-color: #434B5C;\n",
              "      box-shadow: 0px 1px 3px 1px rgba(0, 0, 0, 0.15);\n",
              "      filter: drop-shadow(0px 1px 2px rgba(0, 0, 0, 0.3));\n",
              "      fill: #FFFFFF;\n",
              "    }\n",
              "  </style>\n",
              "\n",
              "      <script>\n",
              "        const buttonEl =\n",
              "          document.querySelector('#df-b8404e33-373e-400a-bbdd-7e69e2e70ae0 button.colab-df-convert');\n",
              "        buttonEl.style.display =\n",
              "          google.colab.kernel.accessAllowed ? 'block' : 'none';\n",
              "\n",
              "        async function convertToInteractive(key) {\n",
              "          const element = document.querySelector('#df-b8404e33-373e-400a-bbdd-7e69e2e70ae0');\n",
              "          const dataTable =\n",
              "            await google.colab.kernel.invokeFunction('convertToInteractive',\n",
              "                                                     [key], {});\n",
              "          if (!dataTable) return;\n",
              "\n",
              "          const docLinkHtml = 'Like what you see? Visit the ' +\n",
              "            '<a target=\"_blank\" href=https://colab.research.google.com/notebooks/data_table.ipynb>data table notebook</a>'\n",
              "            + ' to learn more about interactive tables.';\n",
              "          element.innerHTML = '';\n",
              "          dataTable['output_type'] = 'display_data';\n",
              "          await google.colab.output.renderOutput(dataTable, element);\n",
              "          const docLink = document.createElement('div');\n",
              "          docLink.innerHTML = docLinkHtml;\n",
              "          element.appendChild(docLink);\n",
              "        }\n",
              "      </script>\n",
              "    </div>\n",
              "  </div>\n",
              "  "
            ],
            "text/plain": [
              "       SeniorCitizen       tenure  MonthlyCharges  TotalCharges\n",
              "count    7032.000000  7032.000000     7032.000000   7032.000000\n",
              "mean        0.162400    32.421786       64.798208   2283.300441\n",
              "std         0.368844    24.545260       30.085974   2266.771362\n",
              "min         0.000000     1.000000       18.250000     18.800000\n",
              "25%         0.000000     9.000000       35.587500    401.450000\n",
              "50%         0.000000    29.000000       70.350000   1397.475000\n",
              "75%         0.000000    55.000000       89.862500   3794.737500\n",
              "max         1.000000    72.000000      118.750000   8684.800000"
            ]
          },
          "metadata": {},
          "execution_count": 13
        }
      ]
    },
    {
      "cell_type": "markdown",
      "source": [
        "#### Preprocessing and Data Transformation \n",
        "Tranform categorical data to numerical data.  "
      ],
      "metadata": {
        "id": "jT3RMCtOkkot"
      }
    },
    {
      "cell_type": "code",
      "source": [
        "telcom_df = df1.copy()\n",
        "telcom_df.sample(3)"
      ],
      "metadata": {
        "colab": {
          "base_uri": "https://localhost:8080/",
          "height": 242
        },
        "id": "gGLmLzZ0kglZ",
        "outputId": "15ecea6b-6cce-4091-8f7a-c1fad16e0886"
      },
      "execution_count": 14,
      "outputs": [
        {
          "output_type": "execute_result",
          "data": {
            "text/html": [
              "\n",
              "  <div id=\"df-172dfa73-efb9-40d7-bf40-4fbb05d8fce6\">\n",
              "    <div class=\"colab-df-container\">\n",
              "      <div>\n",
              "<style scoped>\n",
              "    .dataframe tbody tr th:only-of-type {\n",
              "        vertical-align: middle;\n",
              "    }\n",
              "\n",
              "    .dataframe tbody tr th {\n",
              "        vertical-align: top;\n",
              "    }\n",
              "\n",
              "    .dataframe thead th {\n",
              "        text-align: right;\n",
              "    }\n",
              "</style>\n",
              "<table border=\"1\" class=\"dataframe\">\n",
              "  <thead>\n",
              "    <tr style=\"text-align: right;\">\n",
              "      <th></th>\n",
              "      <th>gender</th>\n",
              "      <th>SeniorCitizen</th>\n",
              "      <th>Partner</th>\n",
              "      <th>Dependents</th>\n",
              "      <th>tenure</th>\n",
              "      <th>PhoneService</th>\n",
              "      <th>MultipleLines</th>\n",
              "      <th>InternetService</th>\n",
              "      <th>OnlineSecurity</th>\n",
              "      <th>OnlineBackup</th>\n",
              "      <th>DeviceProtection</th>\n",
              "      <th>TechSupport</th>\n",
              "      <th>StreamingTV</th>\n",
              "      <th>StreamingMovies</th>\n",
              "      <th>Contract</th>\n",
              "      <th>PaperlessBilling</th>\n",
              "      <th>PaymentMethod</th>\n",
              "      <th>MonthlyCharges</th>\n",
              "      <th>TotalCharges</th>\n",
              "      <th>Churn</th>\n",
              "    </tr>\n",
              "  </thead>\n",
              "  <tbody>\n",
              "    <tr>\n",
              "      <th>2785</th>\n",
              "      <td>Female</td>\n",
              "      <td>0</td>\n",
              "      <td>No</td>\n",
              "      <td>No</td>\n",
              "      <td>25</td>\n",
              "      <td>Yes</td>\n",
              "      <td>Yes</td>\n",
              "      <td>Fiber optic</td>\n",
              "      <td>No</td>\n",
              "      <td>Yes</td>\n",
              "      <td>Yes</td>\n",
              "      <td>Yes</td>\n",
              "      <td>Yes</td>\n",
              "      <td>Yes</td>\n",
              "      <td>Two year</td>\n",
              "      <td>No</td>\n",
              "      <td>Electronic check</td>\n",
              "      <td>108.90</td>\n",
              "      <td>2809.05</td>\n",
              "      <td>No</td>\n",
              "    </tr>\n",
              "    <tr>\n",
              "      <th>1840</th>\n",
              "      <td>Male</td>\n",
              "      <td>0</td>\n",
              "      <td>Yes</td>\n",
              "      <td>Yes</td>\n",
              "      <td>65</td>\n",
              "      <td>Yes</td>\n",
              "      <td>Yes</td>\n",
              "      <td>Fiber optic</td>\n",
              "      <td>Yes</td>\n",
              "      <td>No</td>\n",
              "      <td>Yes</td>\n",
              "      <td>Yes</td>\n",
              "      <td>Yes</td>\n",
              "      <td>Yes</td>\n",
              "      <td>Two year</td>\n",
              "      <td>No</td>\n",
              "      <td>Bank transfer (automatic)</td>\n",
              "      <td>108.65</td>\n",
              "      <td>6937.95</td>\n",
              "      <td>Yes</td>\n",
              "    </tr>\n",
              "    <tr>\n",
              "      <th>5436</th>\n",
              "      <td>Female</td>\n",
              "      <td>0</td>\n",
              "      <td>No</td>\n",
              "      <td>Yes</td>\n",
              "      <td>1</td>\n",
              "      <td>Yes</td>\n",
              "      <td>No</td>\n",
              "      <td>DSL</td>\n",
              "      <td>Yes</td>\n",
              "      <td>No</td>\n",
              "      <td>No</td>\n",
              "      <td>Yes</td>\n",
              "      <td>No</td>\n",
              "      <td>No</td>\n",
              "      <td>Month-to-month</td>\n",
              "      <td>No</td>\n",
              "      <td>Electronic check</td>\n",
              "      <td>54.50</td>\n",
              "      <td>54.50</td>\n",
              "      <td>No</td>\n",
              "    </tr>\n",
              "  </tbody>\n",
              "</table>\n",
              "</div>\n",
              "      <button class=\"colab-df-convert\" onclick=\"convertToInteractive('df-172dfa73-efb9-40d7-bf40-4fbb05d8fce6')\"\n",
              "              title=\"Convert this dataframe to an interactive table.\"\n",
              "              style=\"display:none;\">\n",
              "        \n",
              "  <svg xmlns=\"http://www.w3.org/2000/svg\" height=\"24px\"viewBox=\"0 0 24 24\"\n",
              "       width=\"24px\">\n",
              "    <path d=\"M0 0h24v24H0V0z\" fill=\"none\"/>\n",
              "    <path d=\"M18.56 5.44l.94 2.06.94-2.06 2.06-.94-2.06-.94-.94-2.06-.94 2.06-2.06.94zm-11 1L8.5 8.5l.94-2.06 2.06-.94-2.06-.94L8.5 2.5l-.94 2.06-2.06.94zm10 10l.94 2.06.94-2.06 2.06-.94-2.06-.94-.94-2.06-.94 2.06-2.06.94z\"/><path d=\"M17.41 7.96l-1.37-1.37c-.4-.4-.92-.59-1.43-.59-.52 0-1.04.2-1.43.59L10.3 9.45l-7.72 7.72c-.78.78-.78 2.05 0 2.83L4 21.41c.39.39.9.59 1.41.59.51 0 1.02-.2 1.41-.59l7.78-7.78 2.81-2.81c.8-.78.8-2.07 0-2.86zM5.41 20L4 18.59l7.72-7.72 1.47 1.35L5.41 20z\"/>\n",
              "  </svg>\n",
              "      </button>\n",
              "      \n",
              "  <style>\n",
              "    .colab-df-container {\n",
              "      display:flex;\n",
              "      flex-wrap:wrap;\n",
              "      gap: 12px;\n",
              "    }\n",
              "\n",
              "    .colab-df-convert {\n",
              "      background-color: #E8F0FE;\n",
              "      border: none;\n",
              "      border-radius: 50%;\n",
              "      cursor: pointer;\n",
              "      display: none;\n",
              "      fill: #1967D2;\n",
              "      height: 32px;\n",
              "      padding: 0 0 0 0;\n",
              "      width: 32px;\n",
              "    }\n",
              "\n",
              "    .colab-df-convert:hover {\n",
              "      background-color: #E2EBFA;\n",
              "      box-shadow: 0px 1px 2px rgba(60, 64, 67, 0.3), 0px 1px 3px 1px rgba(60, 64, 67, 0.15);\n",
              "      fill: #174EA6;\n",
              "    }\n",
              "\n",
              "    [theme=dark] .colab-df-convert {\n",
              "      background-color: #3B4455;\n",
              "      fill: #D2E3FC;\n",
              "    }\n",
              "\n",
              "    [theme=dark] .colab-df-convert:hover {\n",
              "      background-color: #434B5C;\n",
              "      box-shadow: 0px 1px 3px 1px rgba(0, 0, 0, 0.15);\n",
              "      filter: drop-shadow(0px 1px 2px rgba(0, 0, 0, 0.3));\n",
              "      fill: #FFFFFF;\n",
              "    }\n",
              "  </style>\n",
              "\n",
              "      <script>\n",
              "        const buttonEl =\n",
              "          document.querySelector('#df-172dfa73-efb9-40d7-bf40-4fbb05d8fce6 button.colab-df-convert');\n",
              "        buttonEl.style.display =\n",
              "          google.colab.kernel.accessAllowed ? 'block' : 'none';\n",
              "\n",
              "        async function convertToInteractive(key) {\n",
              "          const element = document.querySelector('#df-172dfa73-efb9-40d7-bf40-4fbb05d8fce6');\n",
              "          const dataTable =\n",
              "            await google.colab.kernel.invokeFunction('convertToInteractive',\n",
              "                                                     [key], {});\n",
              "          if (!dataTable) return;\n",
              "\n",
              "          const docLinkHtml = 'Like what you see? Visit the ' +\n",
              "            '<a target=\"_blank\" href=https://colab.research.google.com/notebooks/data_table.ipynb>data table notebook</a>'\n",
              "            + ' to learn more about interactive tables.';\n",
              "          element.innerHTML = '';\n",
              "          dataTable['output_type'] = 'display_data';\n",
              "          await google.colab.output.renderOutput(dataTable, element);\n",
              "          const docLink = document.createElement('div');\n",
              "          docLink.innerHTML = docLinkHtml;\n",
              "          element.appendChild(docLink);\n",
              "        }\n",
              "      </script>\n",
              "    </div>\n",
              "  </div>\n",
              "  "
            ],
            "text/plain": [
              "      gender  SeniorCitizen Partner  ... MonthlyCharges  TotalCharges Churn\n",
              "2785  Female              0      No  ...         108.90       2809.05    No\n",
              "1840    Male              0     Yes  ...         108.65       6937.95   Yes\n",
              "5436  Female              0      No  ...          54.50         54.50    No\n",
              "\n",
              "[3 rows x 20 columns]"
            ]
          },
          "metadata": {},
          "execution_count": 14
        }
      ]
    },
    {
      "cell_type": "code",
      "source": [
        "# unique values of categorical features\n",
        "def print_unique_cols(df):\n",
        "    for col in df.columns:\n",
        "        if df[col].dtypes=='O':\n",
        "            print(f'{col} = {df[col].unique()}')"
      ],
      "metadata": {
        "id": "B1nzHbwEkmPw"
      },
      "execution_count": 15,
      "outputs": []
    },
    {
      "cell_type": "code",
      "source": [
        "print_unique_cols(telcom_df)"
      ],
      "metadata": {
        "colab": {
          "base_uri": "https://localhost:8080/"
        },
        "id": "OD-X1yq9kq8y",
        "outputId": "f5e2f2fb-6575-435d-ad1a-0432a4f99641"
      },
      "execution_count": 16,
      "outputs": [
        {
          "output_type": "stream",
          "name": "stdout",
          "text": [
            "gender = ['Female' 'Male']\n",
            "Partner = ['Yes' 'No']\n",
            "Dependents = ['No' 'Yes']\n",
            "PhoneService = ['No' 'Yes']\n",
            "MultipleLines = ['No phone service' 'No' 'Yes']\n",
            "InternetService = ['DSL' 'Fiber optic' 'No']\n",
            "OnlineSecurity = ['No' 'Yes' 'No internet service']\n",
            "OnlineBackup = ['Yes' 'No' 'No internet service']\n",
            "DeviceProtection = ['No' 'Yes' 'No internet service']\n",
            "TechSupport = ['No' 'Yes' 'No internet service']\n",
            "StreamingTV = ['No' 'Yes' 'No internet service']\n",
            "StreamingMovies = ['No' 'Yes' 'No internet service']\n",
            "Contract = ['Month-to-month' 'One year' 'Two year']\n",
            "PaperlessBilling = ['Yes' 'No']\n",
            "PaymentMethod = ['Electronic check' 'Mailed check' 'Bank transfer (automatic)'\n",
            " 'Credit card (automatic)']\n",
            "Churn = ['No' 'Yes']\n"
          ]
        }
      ]
    },
    {
      "cell_type": "markdown",
      "source": [
        "## Encoding\n",
        "\n",
        "#### Convert binary features to 0 and 1.     Female = 0, Male = 1;  No = 0, Yes = 1;"
      ],
      "metadata": {
        "id": "QS8fygoSkzRJ"
      }
    },
    {
      "cell_type": "code",
      "source": [
        "telcom_df.gender.replace({'Female':0,'Male':1},inplace=True)\n",
        "bicols = ['Partner','Dependents','PhoneService','PaperlessBilling','Churn']\n",
        "for c in bicols:\n",
        "    telcom_df[c].replace({'Yes':1,'No':0}, inplace= True)"
      ],
      "metadata": {
        "id": "SCOzQvVEkmTG"
      },
      "execution_count": 17,
      "outputs": []
    },
    {
      "cell_type": "code",
      "source": [
        "for c in telcom_df.columns:\n",
        "    print(f'{c} = {telcom_df[c].unique()}')"
      ],
      "metadata": {
        "colab": {
          "base_uri": "https://localhost:8080/"
        },
        "id": "moXFPOOalGj9",
        "outputId": "39700171-2bd5-4675-ba9c-346536a6d3c9"
      },
      "execution_count": 18,
      "outputs": [
        {
          "output_type": "stream",
          "name": "stdout",
          "text": [
            "gender = [0 1]\n",
            "SeniorCitizen = [0 1]\n",
            "Partner = [1 0]\n",
            "Dependents = [0 1]\n",
            "tenure = [ 1 34  2 45  8 22 10 28 62 13 16 58 49 25 69 52 71 21 12 30 47 72 17 27\n",
            "  5 46 11 70 63 43 15 60 18 66  9  3 31 50 64 56  7 42 35 48 29 65 38 68\n",
            " 32 55 37 36 41  6  4 33 67 23 57 61 14 20 53 40 59 24 44 19 54 51 26 39]\n",
            "PhoneService = [0 1]\n",
            "MultipleLines = ['No phone service' 'No' 'Yes']\n",
            "InternetService = ['DSL' 'Fiber optic' 'No']\n",
            "OnlineSecurity = ['No' 'Yes' 'No internet service']\n",
            "OnlineBackup = ['Yes' 'No' 'No internet service']\n",
            "DeviceProtection = ['No' 'Yes' 'No internet service']\n",
            "TechSupport = ['No' 'Yes' 'No internet service']\n",
            "StreamingTV = ['No' 'Yes' 'No internet service']\n",
            "StreamingMovies = ['No' 'Yes' 'No internet service']\n",
            "Contract = ['Month-to-month' 'One year' 'Two year']\n",
            "PaperlessBilling = [1 0]\n",
            "PaymentMethod = ['Electronic check' 'Mailed check' 'Bank transfer (automatic)'\n",
            " 'Credit card (automatic)']\n",
            "MonthlyCharges = [29.85 56.95 53.85 ... 63.1  44.2  78.7 ]\n",
            "TotalCharges = [  29.85 1889.5   108.15 ...  346.45  306.6  6844.5 ]\n",
            "Churn = [0 1]\n"
          ]
        }
      ]
    },
    {
      "cell_type": "markdown",
      "source": [
        "#### Convert multi-categorical feature to one hot encoding.  "
      ],
      "metadata": {
        "id": "FU9gaxs1lLkU"
      }
    },
    {
      "cell_type": "code",
      "source": [
        "print_unique_cols(telcom_df)"
      ],
      "metadata": {
        "colab": {
          "base_uri": "https://localhost:8080/"
        },
        "id": "uC4hEYMSk4a0",
        "outputId": "6595841b-0ed4-400a-8339-01fa36b8425a"
      },
      "execution_count": 19,
      "outputs": [
        {
          "output_type": "stream",
          "name": "stdout",
          "text": [
            "MultipleLines = ['No phone service' 'No' 'Yes']\n",
            "InternetService = ['DSL' 'Fiber optic' 'No']\n",
            "OnlineSecurity = ['No' 'Yes' 'No internet service']\n",
            "OnlineBackup = ['Yes' 'No' 'No internet service']\n",
            "DeviceProtection = ['No' 'Yes' 'No internet service']\n",
            "TechSupport = ['No' 'Yes' 'No internet service']\n",
            "StreamingTV = ['No' 'Yes' 'No internet service']\n",
            "StreamingMovies = ['No' 'Yes' 'No internet service']\n",
            "Contract = ['Month-to-month' 'One year' 'Two year']\n",
            "PaymentMethod = ['Electronic check' 'Mailed check' 'Bank transfer (automatic)'\n",
            " 'Credit card (automatic)']\n"
          ]
        }
      ]
    },
    {
      "cell_type": "code",
      "source": [
        "cat_col = ['MultipleLines','InternetService','OnlineSecurity','OnlineBackup',\n",
        "           'DeviceProtection','TechSupport','StreamingTV','StreamingMovies',\n",
        "           'Contract','PaymentMethod']\n",
        "telcom_df = pd.get_dummies(data=telcom_df,columns=cat_col,drop_first=True)\n",
        "telcom_df.sample(3)"
      ],
      "metadata": {
        "colab": {
          "base_uri": "https://localhost:8080/",
          "height": 242
        },
        "id": "TA2WlEWrlM10",
        "outputId": "bf41a575-334d-4be3-dbc8-f10e96af1801"
      },
      "execution_count": 20,
      "outputs": [
        {
          "output_type": "execute_result",
          "data": {
            "text/html": [
              "\n",
              "  <div id=\"df-f51bbc25-5cee-40d7-96c6-d3c1696997e3\">\n",
              "    <div class=\"colab-df-container\">\n",
              "      <div>\n",
              "<style scoped>\n",
              "    .dataframe tbody tr th:only-of-type {\n",
              "        vertical-align: middle;\n",
              "    }\n",
              "\n",
              "    .dataframe tbody tr th {\n",
              "        vertical-align: top;\n",
              "    }\n",
              "\n",
              "    .dataframe thead th {\n",
              "        text-align: right;\n",
              "    }\n",
              "</style>\n",
              "<table border=\"1\" class=\"dataframe\">\n",
              "  <thead>\n",
              "    <tr style=\"text-align: right;\">\n",
              "      <th></th>\n",
              "      <th>gender</th>\n",
              "      <th>SeniorCitizen</th>\n",
              "      <th>Partner</th>\n",
              "      <th>Dependents</th>\n",
              "      <th>tenure</th>\n",
              "      <th>PhoneService</th>\n",
              "      <th>PaperlessBilling</th>\n",
              "      <th>MonthlyCharges</th>\n",
              "      <th>TotalCharges</th>\n",
              "      <th>Churn</th>\n",
              "      <th>MultipleLines_No phone service</th>\n",
              "      <th>MultipleLines_Yes</th>\n",
              "      <th>InternetService_Fiber optic</th>\n",
              "      <th>InternetService_No</th>\n",
              "      <th>OnlineSecurity_No internet service</th>\n",
              "      <th>OnlineSecurity_Yes</th>\n",
              "      <th>OnlineBackup_No internet service</th>\n",
              "      <th>OnlineBackup_Yes</th>\n",
              "      <th>DeviceProtection_No internet service</th>\n",
              "      <th>DeviceProtection_Yes</th>\n",
              "      <th>TechSupport_No internet service</th>\n",
              "      <th>TechSupport_Yes</th>\n",
              "      <th>StreamingTV_No internet service</th>\n",
              "      <th>StreamingTV_Yes</th>\n",
              "      <th>StreamingMovies_No internet service</th>\n",
              "      <th>StreamingMovies_Yes</th>\n",
              "      <th>Contract_One year</th>\n",
              "      <th>Contract_Two year</th>\n",
              "      <th>PaymentMethod_Credit card (automatic)</th>\n",
              "      <th>PaymentMethod_Electronic check</th>\n",
              "      <th>PaymentMethod_Mailed check</th>\n",
              "    </tr>\n",
              "  </thead>\n",
              "  <tbody>\n",
              "    <tr>\n",
              "      <th>4262</th>\n",
              "      <td>1</td>\n",
              "      <td>1</td>\n",
              "      <td>0</td>\n",
              "      <td>0</td>\n",
              "      <td>2</td>\n",
              "      <td>1</td>\n",
              "      <td>0</td>\n",
              "      <td>66.4</td>\n",
              "      <td>94.55</td>\n",
              "      <td>1</td>\n",
              "      <td>0</td>\n",
              "      <td>0</td>\n",
              "      <td>0</td>\n",
              "      <td>0</td>\n",
              "      <td>0</td>\n",
              "      <td>1</td>\n",
              "      <td>0</td>\n",
              "      <td>0</td>\n",
              "      <td>0</td>\n",
              "      <td>1</td>\n",
              "      <td>0</td>\n",
              "      <td>0</td>\n",
              "      <td>0</td>\n",
              "      <td>1</td>\n",
              "      <td>0</td>\n",
              "      <td>0</td>\n",
              "      <td>0</td>\n",
              "      <td>0</td>\n",
              "      <td>0</td>\n",
              "      <td>0</td>\n",
              "      <td>0</td>\n",
              "    </tr>\n",
              "    <tr>\n",
              "      <th>3466</th>\n",
              "      <td>1</td>\n",
              "      <td>0</td>\n",
              "      <td>1</td>\n",
              "      <td>1</td>\n",
              "      <td>72</td>\n",
              "      <td>1</td>\n",
              "      <td>1</td>\n",
              "      <td>25.1</td>\n",
              "      <td>1790.80</td>\n",
              "      <td>0</td>\n",
              "      <td>0</td>\n",
              "      <td>1</td>\n",
              "      <td>0</td>\n",
              "      <td>1</td>\n",
              "      <td>1</td>\n",
              "      <td>0</td>\n",
              "      <td>1</td>\n",
              "      <td>0</td>\n",
              "      <td>1</td>\n",
              "      <td>0</td>\n",
              "      <td>1</td>\n",
              "      <td>0</td>\n",
              "      <td>1</td>\n",
              "      <td>0</td>\n",
              "      <td>1</td>\n",
              "      <td>0</td>\n",
              "      <td>0</td>\n",
              "      <td>1</td>\n",
              "      <td>1</td>\n",
              "      <td>0</td>\n",
              "      <td>0</td>\n",
              "    </tr>\n",
              "    <tr>\n",
              "      <th>3834</th>\n",
              "      <td>0</td>\n",
              "      <td>0</td>\n",
              "      <td>1</td>\n",
              "      <td>1</td>\n",
              "      <td>57</td>\n",
              "      <td>1</td>\n",
              "      <td>1</td>\n",
              "      <td>70.1</td>\n",
              "      <td>3913.30</td>\n",
              "      <td>1</td>\n",
              "      <td>0</td>\n",
              "      <td>0</td>\n",
              "      <td>0</td>\n",
              "      <td>0</td>\n",
              "      <td>0</td>\n",
              "      <td>1</td>\n",
              "      <td>0</td>\n",
              "      <td>0</td>\n",
              "      <td>0</td>\n",
              "      <td>0</td>\n",
              "      <td>0</td>\n",
              "      <td>0</td>\n",
              "      <td>0</td>\n",
              "      <td>1</td>\n",
              "      <td>0</td>\n",
              "      <td>1</td>\n",
              "      <td>1</td>\n",
              "      <td>0</td>\n",
              "      <td>0</td>\n",
              "      <td>0</td>\n",
              "      <td>0</td>\n",
              "    </tr>\n",
              "  </tbody>\n",
              "</table>\n",
              "</div>\n",
              "      <button class=\"colab-df-convert\" onclick=\"convertToInteractive('df-f51bbc25-5cee-40d7-96c6-d3c1696997e3')\"\n",
              "              title=\"Convert this dataframe to an interactive table.\"\n",
              "              style=\"display:none;\">\n",
              "        \n",
              "  <svg xmlns=\"http://www.w3.org/2000/svg\" height=\"24px\"viewBox=\"0 0 24 24\"\n",
              "       width=\"24px\">\n",
              "    <path d=\"M0 0h24v24H0V0z\" fill=\"none\"/>\n",
              "    <path d=\"M18.56 5.44l.94 2.06.94-2.06 2.06-.94-2.06-.94-.94-2.06-.94 2.06-2.06.94zm-11 1L8.5 8.5l.94-2.06 2.06-.94-2.06-.94L8.5 2.5l-.94 2.06-2.06.94zm10 10l.94 2.06.94-2.06 2.06-.94-2.06-.94-.94-2.06-.94 2.06-2.06.94z\"/><path d=\"M17.41 7.96l-1.37-1.37c-.4-.4-.92-.59-1.43-.59-.52 0-1.04.2-1.43.59L10.3 9.45l-7.72 7.72c-.78.78-.78 2.05 0 2.83L4 21.41c.39.39.9.59 1.41.59.51 0 1.02-.2 1.41-.59l7.78-7.78 2.81-2.81c.8-.78.8-2.07 0-2.86zM5.41 20L4 18.59l7.72-7.72 1.47 1.35L5.41 20z\"/>\n",
              "  </svg>\n",
              "      </button>\n",
              "      \n",
              "  <style>\n",
              "    .colab-df-container {\n",
              "      display:flex;\n",
              "      flex-wrap:wrap;\n",
              "      gap: 12px;\n",
              "    }\n",
              "\n",
              "    .colab-df-convert {\n",
              "      background-color: #E8F0FE;\n",
              "      border: none;\n",
              "      border-radius: 50%;\n",
              "      cursor: pointer;\n",
              "      display: none;\n",
              "      fill: #1967D2;\n",
              "      height: 32px;\n",
              "      padding: 0 0 0 0;\n",
              "      width: 32px;\n",
              "    }\n",
              "\n",
              "    .colab-df-convert:hover {\n",
              "      background-color: #E2EBFA;\n",
              "      box-shadow: 0px 1px 2px rgba(60, 64, 67, 0.3), 0px 1px 3px 1px rgba(60, 64, 67, 0.15);\n",
              "      fill: #174EA6;\n",
              "    }\n",
              "\n",
              "    [theme=dark] .colab-df-convert {\n",
              "      background-color: #3B4455;\n",
              "      fill: #D2E3FC;\n",
              "    }\n",
              "\n",
              "    [theme=dark] .colab-df-convert:hover {\n",
              "      background-color: #434B5C;\n",
              "      box-shadow: 0px 1px 3px 1px rgba(0, 0, 0, 0.15);\n",
              "      filter: drop-shadow(0px 1px 2px rgba(0, 0, 0, 0.3));\n",
              "      fill: #FFFFFF;\n",
              "    }\n",
              "  </style>\n",
              "\n",
              "      <script>\n",
              "        const buttonEl =\n",
              "          document.querySelector('#df-f51bbc25-5cee-40d7-96c6-d3c1696997e3 button.colab-df-convert');\n",
              "        buttonEl.style.display =\n",
              "          google.colab.kernel.accessAllowed ? 'block' : 'none';\n",
              "\n",
              "        async function convertToInteractive(key) {\n",
              "          const element = document.querySelector('#df-f51bbc25-5cee-40d7-96c6-d3c1696997e3');\n",
              "          const dataTable =\n",
              "            await google.colab.kernel.invokeFunction('convertToInteractive',\n",
              "                                                     [key], {});\n",
              "          if (!dataTable) return;\n",
              "\n",
              "          const docLinkHtml = 'Like what you see? Visit the ' +\n",
              "            '<a target=\"_blank\" href=https://colab.research.google.com/notebooks/data_table.ipynb>data table notebook</a>'\n",
              "            + ' to learn more about interactive tables.';\n",
              "          element.innerHTML = '';\n",
              "          dataTable['output_type'] = 'display_data';\n",
              "          await google.colab.output.renderOutput(dataTable, element);\n",
              "          const docLink = document.createElement('div');\n",
              "          docLink.innerHTML = docLinkHtml;\n",
              "          element.appendChild(docLink);\n",
              "        }\n",
              "      </script>\n",
              "    </div>\n",
              "  </div>\n",
              "  "
            ],
            "text/plain": [
              "      gender  ...  PaymentMethod_Mailed check\n",
              "4262       1  ...                           0\n",
              "3466       1  ...                           0\n",
              "3834       0  ...                           0\n",
              "\n",
              "[3 rows x 31 columns]"
            ]
          },
          "metadata": {},
          "execution_count": 20
        }
      ]
    },
    {
      "cell_type": "code",
      "source": [
        "telcom_df.nunique()"
      ],
      "metadata": {
        "colab": {
          "base_uri": "https://localhost:8080/"
        },
        "id": "5vwbCgQ1lRKy",
        "outputId": "6eedeebc-296f-4b9e-ba02-2b45ebd98d30"
      },
      "execution_count": 21,
      "outputs": [
        {
          "output_type": "execute_result",
          "data": {
            "text/plain": [
              "gender                                      2\n",
              "SeniorCitizen                               2\n",
              "Partner                                     2\n",
              "Dependents                                  2\n",
              "tenure                                     72\n",
              "PhoneService                                2\n",
              "PaperlessBilling                            2\n",
              "MonthlyCharges                           1584\n",
              "TotalCharges                             6530\n",
              "Churn                                       2\n",
              "MultipleLines_No phone service              2\n",
              "MultipleLines_Yes                           2\n",
              "InternetService_Fiber optic                 2\n",
              "InternetService_No                          2\n",
              "OnlineSecurity_No internet service          2\n",
              "OnlineSecurity_Yes                          2\n",
              "OnlineBackup_No internet service            2\n",
              "OnlineBackup_Yes                            2\n",
              "DeviceProtection_No internet service        2\n",
              "DeviceProtection_Yes                        2\n",
              "TechSupport_No internet service             2\n",
              "TechSupport_Yes                             2\n",
              "StreamingTV_No internet service             2\n",
              "StreamingTV_Yes                             2\n",
              "StreamingMovies_No internet service         2\n",
              "StreamingMovies_Yes                         2\n",
              "Contract_One year                           2\n",
              "Contract_Two year                           2\n",
              "PaymentMethod_Credit card (automatic)       2\n",
              "PaymentMethod_Electronic check              2\n",
              "PaymentMethod_Mailed check                  2\n",
              "dtype: int64"
            ]
          },
          "metadata": {},
          "execution_count": 21
        }
      ]
    },
    {
      "cell_type": "markdown",
      "source": [
        "#### Scale numeric features to range between 0 and 1.  "
      ],
      "metadata": {
        "id": "lXoF0_8PlYWW"
      }
    },
    {
      "cell_type": "code",
      "source": [
        "scale_col = ['tenure','MonthlyCharges','TotalCharges']\n",
        "\n",
        "sc = MinMaxScaler()\n",
        "telcom_df[scale_col]= sc.fit_transform(telcom_df[scale_col])\n",
        "telcom_df.sample(3)"
      ],
      "metadata": {
        "colab": {
          "base_uri": "https://localhost:8080/",
          "height": 242
        },
        "id": "Y9MNS0EDlUuf",
        "outputId": "b8c585b6-9730-4385-abe3-6ed53b88ccf4"
      },
      "execution_count": 22,
      "outputs": [
        {
          "output_type": "execute_result",
          "data": {
            "text/html": [
              "\n",
              "  <div id=\"df-4f1918b0-9f06-4c0c-a093-116254466864\">\n",
              "    <div class=\"colab-df-container\">\n",
              "      <div>\n",
              "<style scoped>\n",
              "    .dataframe tbody tr th:only-of-type {\n",
              "        vertical-align: middle;\n",
              "    }\n",
              "\n",
              "    .dataframe tbody tr th {\n",
              "        vertical-align: top;\n",
              "    }\n",
              "\n",
              "    .dataframe thead th {\n",
              "        text-align: right;\n",
              "    }\n",
              "</style>\n",
              "<table border=\"1\" class=\"dataframe\">\n",
              "  <thead>\n",
              "    <tr style=\"text-align: right;\">\n",
              "      <th></th>\n",
              "      <th>gender</th>\n",
              "      <th>SeniorCitizen</th>\n",
              "      <th>Partner</th>\n",
              "      <th>Dependents</th>\n",
              "      <th>tenure</th>\n",
              "      <th>PhoneService</th>\n",
              "      <th>PaperlessBilling</th>\n",
              "      <th>MonthlyCharges</th>\n",
              "      <th>TotalCharges</th>\n",
              "      <th>Churn</th>\n",
              "      <th>MultipleLines_No phone service</th>\n",
              "      <th>MultipleLines_Yes</th>\n",
              "      <th>InternetService_Fiber optic</th>\n",
              "      <th>InternetService_No</th>\n",
              "      <th>OnlineSecurity_No internet service</th>\n",
              "      <th>OnlineSecurity_Yes</th>\n",
              "      <th>OnlineBackup_No internet service</th>\n",
              "      <th>OnlineBackup_Yes</th>\n",
              "      <th>DeviceProtection_No internet service</th>\n",
              "      <th>DeviceProtection_Yes</th>\n",
              "      <th>TechSupport_No internet service</th>\n",
              "      <th>TechSupport_Yes</th>\n",
              "      <th>StreamingTV_No internet service</th>\n",
              "      <th>StreamingTV_Yes</th>\n",
              "      <th>StreamingMovies_No internet service</th>\n",
              "      <th>StreamingMovies_Yes</th>\n",
              "      <th>Contract_One year</th>\n",
              "      <th>Contract_Two year</th>\n",
              "      <th>PaymentMethod_Credit card (automatic)</th>\n",
              "      <th>PaymentMethod_Electronic check</th>\n",
              "      <th>PaymentMethod_Mailed check</th>\n",
              "    </tr>\n",
              "  </thead>\n",
              "  <tbody>\n",
              "    <tr>\n",
              "      <th>3165</th>\n",
              "      <td>1</td>\n",
              "      <td>0</td>\n",
              "      <td>1</td>\n",
              "      <td>1</td>\n",
              "      <td>0.323944</td>\n",
              "      <td>1</td>\n",
              "      <td>0</td>\n",
              "      <td>0.019900</td>\n",
              "      <td>0.048575</td>\n",
              "      <td>0</td>\n",
              "      <td>0</td>\n",
              "      <td>0</td>\n",
              "      <td>0</td>\n",
              "      <td>1</td>\n",
              "      <td>1</td>\n",
              "      <td>0</td>\n",
              "      <td>1</td>\n",
              "      <td>0</td>\n",
              "      <td>1</td>\n",
              "      <td>0</td>\n",
              "      <td>1</td>\n",
              "      <td>0</td>\n",
              "      <td>1</td>\n",
              "      <td>0</td>\n",
              "      <td>1</td>\n",
              "      <td>0</td>\n",
              "      <td>1</td>\n",
              "      <td>0</td>\n",
              "      <td>0</td>\n",
              "      <td>0</td>\n",
              "      <td>1</td>\n",
              "    </tr>\n",
              "    <tr>\n",
              "      <th>1679</th>\n",
              "      <td>1</td>\n",
              "      <td>1</td>\n",
              "      <td>0</td>\n",
              "      <td>1</td>\n",
              "      <td>0.084507</td>\n",
              "      <td>1</td>\n",
              "      <td>1</td>\n",
              "      <td>0.273632</td>\n",
              "      <td>0.037549</td>\n",
              "      <td>0</td>\n",
              "      <td>0</td>\n",
              "      <td>0</td>\n",
              "      <td>0</td>\n",
              "      <td>0</td>\n",
              "      <td>0</td>\n",
              "      <td>0</td>\n",
              "      <td>0</td>\n",
              "      <td>0</td>\n",
              "      <td>0</td>\n",
              "      <td>0</td>\n",
              "      <td>0</td>\n",
              "      <td>0</td>\n",
              "      <td>0</td>\n",
              "      <td>0</td>\n",
              "      <td>0</td>\n",
              "      <td>0</td>\n",
              "      <td>0</td>\n",
              "      <td>0</td>\n",
              "      <td>0</td>\n",
              "      <td>0</td>\n",
              "      <td>1</td>\n",
              "    </tr>\n",
              "    <tr>\n",
              "      <th>2157</th>\n",
              "      <td>1</td>\n",
              "      <td>0</td>\n",
              "      <td>1</td>\n",
              "      <td>0</td>\n",
              "      <td>0.704225</td>\n",
              "      <td>1</td>\n",
              "      <td>1</td>\n",
              "      <td>0.881095</td>\n",
              "      <td>0.632356</td>\n",
              "      <td>0</td>\n",
              "      <td>0</td>\n",
              "      <td>1</td>\n",
              "      <td>1</td>\n",
              "      <td>0</td>\n",
              "      <td>0</td>\n",
              "      <td>0</td>\n",
              "      <td>0</td>\n",
              "      <td>1</td>\n",
              "      <td>0</td>\n",
              "      <td>1</td>\n",
              "      <td>0</td>\n",
              "      <td>0</td>\n",
              "      <td>0</td>\n",
              "      <td>1</td>\n",
              "      <td>0</td>\n",
              "      <td>1</td>\n",
              "      <td>1</td>\n",
              "      <td>0</td>\n",
              "      <td>0</td>\n",
              "      <td>0</td>\n",
              "      <td>0</td>\n",
              "    </tr>\n",
              "  </tbody>\n",
              "</table>\n",
              "</div>\n",
              "      <button class=\"colab-df-convert\" onclick=\"convertToInteractive('df-4f1918b0-9f06-4c0c-a093-116254466864')\"\n",
              "              title=\"Convert this dataframe to an interactive table.\"\n",
              "              style=\"display:none;\">\n",
              "        \n",
              "  <svg xmlns=\"http://www.w3.org/2000/svg\" height=\"24px\"viewBox=\"0 0 24 24\"\n",
              "       width=\"24px\">\n",
              "    <path d=\"M0 0h24v24H0V0z\" fill=\"none\"/>\n",
              "    <path d=\"M18.56 5.44l.94 2.06.94-2.06 2.06-.94-2.06-.94-.94-2.06-.94 2.06-2.06.94zm-11 1L8.5 8.5l.94-2.06 2.06-.94-2.06-.94L8.5 2.5l-.94 2.06-2.06.94zm10 10l.94 2.06.94-2.06 2.06-.94-2.06-.94-.94-2.06-.94 2.06-2.06.94z\"/><path d=\"M17.41 7.96l-1.37-1.37c-.4-.4-.92-.59-1.43-.59-.52 0-1.04.2-1.43.59L10.3 9.45l-7.72 7.72c-.78.78-.78 2.05 0 2.83L4 21.41c.39.39.9.59 1.41.59.51 0 1.02-.2 1.41-.59l7.78-7.78 2.81-2.81c.8-.78.8-2.07 0-2.86zM5.41 20L4 18.59l7.72-7.72 1.47 1.35L5.41 20z\"/>\n",
              "  </svg>\n",
              "      </button>\n",
              "      \n",
              "  <style>\n",
              "    .colab-df-container {\n",
              "      display:flex;\n",
              "      flex-wrap:wrap;\n",
              "      gap: 12px;\n",
              "    }\n",
              "\n",
              "    .colab-df-convert {\n",
              "      background-color: #E8F0FE;\n",
              "      border: none;\n",
              "      border-radius: 50%;\n",
              "      cursor: pointer;\n",
              "      display: none;\n",
              "      fill: #1967D2;\n",
              "      height: 32px;\n",
              "      padding: 0 0 0 0;\n",
              "      width: 32px;\n",
              "    }\n",
              "\n",
              "    .colab-df-convert:hover {\n",
              "      background-color: #E2EBFA;\n",
              "      box-shadow: 0px 1px 2px rgba(60, 64, 67, 0.3), 0px 1px 3px 1px rgba(60, 64, 67, 0.15);\n",
              "      fill: #174EA6;\n",
              "    }\n",
              "\n",
              "    [theme=dark] .colab-df-convert {\n",
              "      background-color: #3B4455;\n",
              "      fill: #D2E3FC;\n",
              "    }\n",
              "\n",
              "    [theme=dark] .colab-df-convert:hover {\n",
              "      background-color: #434B5C;\n",
              "      box-shadow: 0px 1px 3px 1px rgba(0, 0, 0, 0.15);\n",
              "      filter: drop-shadow(0px 1px 2px rgba(0, 0, 0, 0.3));\n",
              "      fill: #FFFFFF;\n",
              "    }\n",
              "  </style>\n",
              "\n",
              "      <script>\n",
              "        const buttonEl =\n",
              "          document.querySelector('#df-4f1918b0-9f06-4c0c-a093-116254466864 button.colab-df-convert');\n",
              "        buttonEl.style.display =\n",
              "          google.colab.kernel.accessAllowed ? 'block' : 'none';\n",
              "\n",
              "        async function convertToInteractive(key) {\n",
              "          const element = document.querySelector('#df-4f1918b0-9f06-4c0c-a093-116254466864');\n",
              "          const dataTable =\n",
              "            await google.colab.kernel.invokeFunction('convertToInteractive',\n",
              "                                                     [key], {});\n",
              "          if (!dataTable) return;\n",
              "\n",
              "          const docLinkHtml = 'Like what you see? Visit the ' +\n",
              "            '<a target=\"_blank\" href=https://colab.research.google.com/notebooks/data_table.ipynb>data table notebook</a>'\n",
              "            + ' to learn more about interactive tables.';\n",
              "          element.innerHTML = '';\n",
              "          dataTable['output_type'] = 'display_data';\n",
              "          await google.colab.output.renderOutput(dataTable, element);\n",
              "          const docLink = document.createElement('div');\n",
              "          docLink.innerHTML = docLinkHtml;\n",
              "          element.appendChild(docLink);\n",
              "        }\n",
              "      </script>\n",
              "    </div>\n",
              "  </div>\n",
              "  "
            ],
            "text/plain": [
              "      gender  ...  PaymentMethod_Mailed check\n",
              "3165       1  ...                           1\n",
              "1679       1  ...                           1\n",
              "2157       1  ...                           0\n",
              "\n",
              "[3 rows x 31 columns]"
            ]
          },
          "metadata": {},
          "execution_count": 22
        }
      ]
    },
    {
      "cell_type": "markdown",
      "source": [
        "#### Split data to training and test set.  "
      ],
      "metadata": {
        "id": "saAV71s8lhVB"
      }
    },
    {
      "cell_type": "code",
      "source": [
        "# Assign input features to X and output to y.   \n",
        "X = telcom_df.drop(columns=['Churn'])\n",
        "y = telcom_df['Churn']"
      ],
      "metadata": {
        "id": "IaHIbFCAlbg_"
      },
      "execution_count": 23,
      "outputs": []
    },
    {
      "cell_type": "code",
      "source": [
        "# Split dataset into training and test sets. \n",
        "train_X,test_X,train_y,test_y = train_test_split(X,y,test_size=0.2,stratify=y,random_state=5)"
      ],
      "metadata": {
        "id": "V_eSInP5lbxF"
      },
      "execution_count": 24,
      "outputs": []
    },
    {
      "cell_type": "code",
      "source": [
        "print(f'training set: {train_X.shape} \\n {train_y.value_counts()}')\n",
        "print('-'*20)\n",
        "print(f'test set: {test_X.shape} \\n {test_y.value_counts()}')"
      ],
      "metadata": {
        "colab": {
          "base_uri": "https://localhost:8080/"
        },
        "id": "FEriGjm-l2wW",
        "outputId": "d3c08c88-35ed-43b8-bdf9-eab9aa03caa0"
      },
      "execution_count": 25,
      "outputs": [
        {
          "output_type": "stream",
          "name": "stdout",
          "text": [
            "training set: (5625, 30) \n",
            " 0    4130\n",
            "1    1495\n",
            "Name: Churn, dtype: int64\n",
            "--------------------\n",
            "test set: (1407, 30) \n",
            " 0    1033\n",
            "1     374\n",
            "Name: Churn, dtype: int64\n"
          ]
        }
      ]
    },
    {
      "cell_type": "markdown",
      "source": [
        "### Upsampling method (SMOTE)\n",
        "\n",
        "When dealing with an imbalanced dataset, Synthetic Minority Oversampling TEchnique (SMOTE) method can be used to oversample the minority class. Simply adding duplicate records of minority class often don’t add any new information to the model. In SMOTE new instances are synthesized from the existing data. It randomly selects a point from the minority class and computes the k-nearest neighbors for this point. The synthetic points are then added between the chosen point and its neighbors.\n",
        "\n"
      ],
      "metadata": {
        "id": "up01qFCnl8ZJ"
      }
    },
    {
      "cell_type": "code",
      "source": [
        "from imblearn.over_sampling import SMOTE\n",
        "sm = SMOTE()\n",
        "train_X_re, train_y_re = sm.fit_resample(train_X, train_y)\n",
        "\n",
        "print('resampled class distribution\\n',train_y_re.value_counts())"
      ],
      "metadata": {
        "colab": {
          "base_uri": "https://localhost:8080/"
        },
        "id": "cEtaZki1l2z3",
        "outputId": "94e3a3d6-6703-405e-8b8f-074dd604b477"
      },
      "execution_count": 26,
      "outputs": [
        {
          "output_type": "stream",
          "name": "stdout",
          "text": [
            "resampled class distribution\n",
            " 1    4130\n",
            "0    4130\n",
            "Name: Churn, dtype: int64\n"
          ]
        }
      ]
    },
    {
      "cell_type": "markdown",
      "source": [
        "### Evaluation: Confustion Matrix & Classification Report \n",
        "\n",
        "Confusion Matrix shows the correct and incorrect predictions for each class. In the first row, the first column indicates how many class 0 are predicted correctly, and the second row, second column, indicates how many class 1 are predicted correctly.  Therefore, the higher the diagonal values of the confusion matrix the better, indicating many correct predictions.\n",
        "\n",
        "A Classification report is used to measure the performance of the classifier prediction.  It shows the main classification metrics precision, recall and f1-score on a per-class basis. F1-score calculates the harmonic mean of the precision and recall.\n"
      ],
      "metadata": {
        "id": "VtQ8hvcpmDFh"
      }
    },
    {
      "cell_type": "code",
      "source": [
        "def test_eval(clf_model, testX, testy):\n",
        "    # Test set prediction\n",
        "    y_pred=clf_model.predict(testX)\n",
        "    y_predict = []\n",
        "    for p in y_pred:\n",
        "        if p > 0.5:\n",
        "            y_predict.append(1)\n",
        "        else:\n",
        "            y_predict.append(0)\n",
        "    print('Confusion Matrix')\n",
        "    print('='*20)\n",
        "    cm = confusion_matrix(testy,y_predict)\n",
        "    print(cm,\"\\n\")\n",
        "    print('Classification Report')\n",
        "    print('='*20)\n",
        "    print(classification_report(testy,y_predict))\n",
        "    cr = classification_report(testy,y_predict,output_dict=True)\n",
        "    score = roc_auc_score(testy, y_pred)\n",
        "\n",
        "    return cm,cr,score,y_predict"
      ],
      "metadata": {
        "id": "h4yuL7KRl7Av"
      },
      "execution_count": 27,
      "outputs": []
    },
    {
      "cell_type": "code",
      "source": [
        "def plot_cmatrix(cmatrix, name):\n",
        "    fig = px.imshow(cmatrix,color_continuous_scale=[[0.0, 'peachpuff'], \n",
        "                                          [0.5, 'lime'], \n",
        "                                          [1.0, 'green']])\n",
        "\n",
        "    fig.update_layout(\n",
        "        title = 'Confusion Matrix ('+name+')', title_x=0.5,\n",
        "        xaxis_title=\"Prediction\", yaxis_title=\"Truth\", \n",
        "        height=400,\n",
        "        width=400,\n",
        "        xaxis = dict(tickmode = 'linear', tick0 = 0, dtick = 1),\n",
        "        yaxis = dict(tickmode = 'linear', tick0 = 0, dtick = 1)\n",
        "    )\n",
        "    for i in range(len(cmatrix)):\n",
        "        for j in range(len(cmatrix[0])):\n",
        "            fig.add_annotation(\n",
        "                x=j,\n",
        "                y=i,\n",
        "                text=str(cmatrix[i,j]),\n",
        "                showarrow=False,\n",
        "                font_size=12, font_color='black'\n",
        "            )\n",
        "\n",
        "    fig.show()"
      ],
      "metadata": {
        "id": "m3PmlvACl7EC"
      },
      "execution_count": 28,
      "outputs": []
    },
    {
      "cell_type": "markdown",
      "source": [
        "## Linear Algorithms\n",
        "\n",
        "#### Churn Prediction using Logistic Regression"
      ],
      "metadata": {
        "id": "CzPDr3egmQru"
      }
    },
    {
      "cell_type": "code",
      "source": [
        "para_lr = {'C': [5,10,20], \"max_iter\":[200,400]} \n",
        "\n",
        "model_lr = GridSearchCV(estimator = LogisticRegression(),\n",
        "                    param_grid = para_lr,\n",
        "                    cv=10,\n",
        "                    verbose=0,\n",
        "                    n_jobs=-1\n",
        "                   )\n",
        "model_lr.fit(train_X_re,train_y_re)"
      ],
      "metadata": {
        "colab": {
          "base_uri": "https://localhost:8080/"
        },
        "id": "0VlFIg2wmIPi",
        "outputId": "ba36e320-9344-49b8-93e0-560a6fe3c928"
      },
      "execution_count": 29,
      "outputs": [
        {
          "output_type": "execute_result",
          "data": {
            "text/plain": [
              "GridSearchCV(cv=10, estimator=LogisticRegression(), n_jobs=-1,\n",
              "             param_grid={'C': [5, 10, 20], 'max_iter': [200, 400]})"
            ]
          },
          "metadata": {},
          "execution_count": 29
        }
      ]
    },
    {
      "cell_type": "code",
      "source": [
        "model_lr.best_params_"
      ],
      "metadata": {
        "colab": {
          "base_uri": "https://localhost:8080/"
        },
        "id": "5t_C0laumYgh",
        "outputId": "4ff800c8-36b5-4137-c023-140eb60d0602"
      },
      "execution_count": 30,
      "outputs": [
        {
          "output_type": "execute_result",
          "data": {
            "text/plain": [
              "{'C': 20, 'max_iter': 200}"
            ]
          },
          "metadata": {},
          "execution_count": 30
        }
      ]
    },
    {
      "cell_type": "code",
      "source": [
        "cm_lr,cr_lr,auc_score_lr,_  = test_eval(model_lr,test_X,test_y)\n",
        "fpr_lr, tpr_lr, thresh_lr = roc_curve(test_y, model_lr.predict_proba(test_X)[:,1], pos_label = 1)\n",
        "precision_lr, recall_lr, _ = precision_recall_curve(test_y, model_lr.predict_proba(test_X)[:,1], pos_label=1)"
      ],
      "metadata": {
        "colab": {
          "base_uri": "https://localhost:8080/"
        },
        "id": "bOxso1jSmYjj",
        "outputId": "f146996f-ea4a-433c-ecf7-879062d350b6"
      },
      "execution_count": 31,
      "outputs": [
        {
          "output_type": "stream",
          "name": "stdout",
          "text": [
            "Confusion Matrix\n",
            "====================\n",
            "[[807 226]\n",
            " [ 92 282]] \n",
            "\n",
            "Classification Report\n",
            "====================\n",
            "              precision    recall  f1-score   support\n",
            "\n",
            "           0       0.90      0.78      0.84      1033\n",
            "           1       0.56      0.75      0.64       374\n",
            "\n",
            "    accuracy                           0.77      1407\n",
            "   macro avg       0.73      0.77      0.74      1407\n",
            "weighted avg       0.81      0.77      0.78      1407\n",
            "\n"
          ]
        }
      ]
    },
    {
      "cell_type": "code",
      "source": [
        "plot_cmatrix(cm_lr, name='LR')"
      ],
      "metadata": {
        "colab": {
          "base_uri": "https://localhost:8080/",
          "height": 417
        },
        "id": "MnfUrGZNmISJ",
        "outputId": "a97bbb3d-9b27-4a99-d52a-e34871f50a80"
      },
      "execution_count": 32,
      "outputs": [
        {
          "output_type": "display_data",
          "data": {
            "text/html": [
              "<html>\n",
              "<head><meta charset=\"utf-8\" /></head>\n",
              "<body>\n",
              "    <div>\n",
              "            <script src=\"https://cdnjs.cloudflare.com/ajax/libs/mathjax/2.7.5/MathJax.js?config=TeX-AMS-MML_SVG\"></script><script type=\"text/javascript\">if (window.MathJax) {MathJax.Hub.Config({SVG: {font: \"STIX-Web\"}});}</script>\n",
              "                <script type=\"text/javascript\">window.PlotlyConfig = {MathJaxConfig: 'local'};</script>\n",
              "        <script src=\"https://cdn.plot.ly/plotly-latest.min.js\"></script>    \n",
              "            <div id=\"dafadedc-8ffc-415f-8e9b-c64c417667ec\" class=\"plotly-graph-div\" style=\"height:400px; width:400px;\"></div>\n",
              "            <script type=\"text/javascript\">\n",
              "                \n",
              "                    window.PLOTLYENV=window.PLOTLYENV || {};\n",
              "                    \n",
              "                if (document.getElementById(\"dafadedc-8ffc-415f-8e9b-c64c417667ec\")) {\n",
              "                    Plotly.newPlot(\n",
              "                        'dafadedc-8ffc-415f-8e9b-c64c417667ec',\n",
              "                        [{\"coloraxis\": \"coloraxis\", \"type\": \"heatmap\", \"z\": [[807, 226], [92, 282]]}],\n",
              "                        {\"annotations\": [{\"font\": {\"color\": \"black\", \"size\": 12}, \"showarrow\": false, \"text\": \"807\", \"x\": 0, \"y\": 0}, {\"font\": {\"color\": \"black\", \"size\": 12}, \"showarrow\": false, \"text\": \"226\", \"x\": 1, \"y\": 0}, {\"font\": {\"color\": \"black\", \"size\": 12}, \"showarrow\": false, \"text\": \"92\", \"x\": 0, \"y\": 1}, {\"font\": {\"color\": \"black\", \"size\": 12}, \"showarrow\": false, \"text\": \"282\", \"x\": 1, \"y\": 1}], \"coloraxis\": {\"colorscale\": [[0.0, \"peachpuff\"], [0.5, \"lime\"], [1.0, \"green\"]]}, \"height\": 400, \"margin\": {\"t\": 60}, \"template\": {\"data\": {\"bar\": [{\"error_x\": {\"color\": \"#2a3f5f\"}, \"error_y\": {\"color\": \"#2a3f5f\"}, \"marker\": {\"line\": {\"color\": \"#E5ECF6\", \"width\": 0.5}}, \"type\": \"bar\"}], \"barpolar\": [{\"marker\": {\"line\": {\"color\": \"#E5ECF6\", \"width\": 0.5}}, \"type\": \"barpolar\"}], \"carpet\": [{\"aaxis\": {\"endlinecolor\": \"#2a3f5f\", \"gridcolor\": \"white\", \"linecolor\": \"white\", \"minorgridcolor\": \"white\", \"startlinecolor\": \"#2a3f5f\"}, \"baxis\": {\"endlinecolor\": \"#2a3f5f\", \"gridcolor\": \"white\", \"linecolor\": \"white\", \"minorgridcolor\": \"white\", \"startlinecolor\": \"#2a3f5f\"}, \"type\": \"carpet\"}], \"choropleth\": [{\"colorbar\": {\"outlinewidth\": 0, \"ticks\": \"\"}, \"type\": \"choropleth\"}], \"contour\": [{\"colorbar\": {\"outlinewidth\": 0, \"ticks\": \"\"}, \"colorscale\": [[0.0, \"#0d0887\"], [0.1111111111111111, \"#46039f\"], [0.2222222222222222, \"#7201a8\"], [0.3333333333333333, \"#9c179e\"], [0.4444444444444444, \"#bd3786\"], [0.5555555555555556, \"#d8576b\"], [0.6666666666666666, \"#ed7953\"], [0.7777777777777778, \"#fb9f3a\"], [0.8888888888888888, \"#fdca26\"], [1.0, \"#f0f921\"]], \"type\": \"contour\"}], \"contourcarpet\": [{\"colorbar\": {\"outlinewidth\": 0, \"ticks\": \"\"}, \"type\": \"contourcarpet\"}], \"heatmap\": [{\"colorbar\": {\"outlinewidth\": 0, \"ticks\": \"\"}, \"colorscale\": [[0.0, \"#0d0887\"], [0.1111111111111111, \"#46039f\"], [0.2222222222222222, \"#7201a8\"], [0.3333333333333333, \"#9c179e\"], [0.4444444444444444, \"#bd3786\"], [0.5555555555555556, \"#d8576b\"], [0.6666666666666666, \"#ed7953\"], [0.7777777777777778, \"#fb9f3a\"], [0.8888888888888888, \"#fdca26\"], [1.0, \"#f0f921\"]], \"type\": \"heatmap\"}], \"heatmapgl\": [{\"colorbar\": {\"outlinewidth\": 0, \"ticks\": \"\"}, \"colorscale\": [[0.0, \"#0d0887\"], [0.1111111111111111, \"#46039f\"], [0.2222222222222222, \"#7201a8\"], [0.3333333333333333, \"#9c179e\"], [0.4444444444444444, \"#bd3786\"], [0.5555555555555556, \"#d8576b\"], [0.6666666666666666, \"#ed7953\"], [0.7777777777777778, \"#fb9f3a\"], [0.8888888888888888, \"#fdca26\"], [1.0, \"#f0f921\"]], \"type\": \"heatmapgl\"}], \"histogram\": [{\"marker\": {\"colorbar\": {\"outlinewidth\": 0, \"ticks\": \"\"}}, \"type\": \"histogram\"}], \"histogram2d\": [{\"colorbar\": {\"outlinewidth\": 0, \"ticks\": \"\"}, \"colorscale\": [[0.0, \"#0d0887\"], [0.1111111111111111, \"#46039f\"], [0.2222222222222222, \"#7201a8\"], [0.3333333333333333, \"#9c179e\"], [0.4444444444444444, \"#bd3786\"], [0.5555555555555556, \"#d8576b\"], [0.6666666666666666, \"#ed7953\"], [0.7777777777777778, \"#fb9f3a\"], [0.8888888888888888, \"#fdca26\"], [1.0, \"#f0f921\"]], \"type\": \"histogram2d\"}], \"histogram2dcontour\": [{\"colorbar\": {\"outlinewidth\": 0, \"ticks\": \"\"}, \"colorscale\": [[0.0, \"#0d0887\"], [0.1111111111111111, \"#46039f\"], [0.2222222222222222, \"#7201a8\"], [0.3333333333333333, \"#9c179e\"], [0.4444444444444444, \"#bd3786\"], [0.5555555555555556, \"#d8576b\"], [0.6666666666666666, \"#ed7953\"], [0.7777777777777778, \"#fb9f3a\"], [0.8888888888888888, \"#fdca26\"], [1.0, \"#f0f921\"]], \"type\": \"histogram2dcontour\"}], \"mesh3d\": [{\"colorbar\": {\"outlinewidth\": 0, \"ticks\": \"\"}, \"type\": \"mesh3d\"}], \"parcoords\": [{\"line\": {\"colorbar\": {\"outlinewidth\": 0, \"ticks\": \"\"}}, \"type\": \"parcoords\"}], \"pie\": [{\"automargin\": true, \"type\": \"pie\"}], \"scatter\": [{\"marker\": {\"colorbar\": {\"outlinewidth\": 0, \"ticks\": \"\"}}, \"type\": \"scatter\"}], \"scatter3d\": [{\"line\": {\"colorbar\": {\"outlinewidth\": 0, \"ticks\": \"\"}}, \"marker\": {\"colorbar\": {\"outlinewidth\": 0, \"ticks\": \"\"}}, \"type\": \"scatter3d\"}], \"scattercarpet\": [{\"marker\": {\"colorbar\": {\"outlinewidth\": 0, \"ticks\": \"\"}}, \"type\": \"scattercarpet\"}], \"scattergeo\": [{\"marker\": {\"colorbar\": {\"outlinewidth\": 0, \"ticks\": \"\"}}, \"type\": \"scattergeo\"}], \"scattergl\": [{\"marker\": {\"colorbar\": {\"outlinewidth\": 0, \"ticks\": \"\"}}, \"type\": \"scattergl\"}], \"scattermapbox\": [{\"marker\": {\"colorbar\": {\"outlinewidth\": 0, \"ticks\": \"\"}}, \"type\": \"scattermapbox\"}], \"scatterpolar\": [{\"marker\": {\"colorbar\": {\"outlinewidth\": 0, \"ticks\": \"\"}}, \"type\": \"scatterpolar\"}], \"scatterpolargl\": [{\"marker\": {\"colorbar\": {\"outlinewidth\": 0, \"ticks\": \"\"}}, \"type\": \"scatterpolargl\"}], \"scatterternary\": [{\"marker\": {\"colorbar\": {\"outlinewidth\": 0, \"ticks\": \"\"}}, \"type\": \"scatterternary\"}], \"surface\": [{\"colorbar\": {\"outlinewidth\": 0, \"ticks\": \"\"}, \"colorscale\": [[0.0, \"#0d0887\"], [0.1111111111111111, \"#46039f\"], [0.2222222222222222, \"#7201a8\"], [0.3333333333333333, \"#9c179e\"], [0.4444444444444444, \"#bd3786\"], [0.5555555555555556, \"#d8576b\"], [0.6666666666666666, \"#ed7953\"], [0.7777777777777778, \"#fb9f3a\"], [0.8888888888888888, \"#fdca26\"], [1.0, \"#f0f921\"]], \"type\": \"surface\"}], \"table\": [{\"cells\": {\"fill\": {\"color\": \"#EBF0F8\"}, \"line\": {\"color\": \"white\"}}, \"header\": {\"fill\": {\"color\": \"#C8D4E3\"}, \"line\": {\"color\": \"white\"}}, \"type\": \"table\"}]}, \"layout\": {\"annotationdefaults\": {\"arrowcolor\": \"#2a3f5f\", \"arrowhead\": 0, \"arrowwidth\": 1}, \"coloraxis\": {\"colorbar\": {\"outlinewidth\": 0, \"ticks\": \"\"}}, \"colorscale\": {\"diverging\": [[0, \"#8e0152\"], [0.1, \"#c51b7d\"], [0.2, \"#de77ae\"], [0.3, \"#f1b6da\"], [0.4, \"#fde0ef\"], [0.5, \"#f7f7f7\"], [0.6, \"#e6f5d0\"], [0.7, \"#b8e186\"], [0.8, \"#7fbc41\"], [0.9, \"#4d9221\"], [1, \"#276419\"]], \"sequential\": [[0.0, \"#0d0887\"], [0.1111111111111111, \"#46039f\"], [0.2222222222222222, \"#7201a8\"], [0.3333333333333333, \"#9c179e\"], [0.4444444444444444, \"#bd3786\"], [0.5555555555555556, \"#d8576b\"], [0.6666666666666666, \"#ed7953\"], [0.7777777777777778, \"#fb9f3a\"], [0.8888888888888888, \"#fdca26\"], [1.0, \"#f0f921\"]], \"sequentialminus\": [[0.0, \"#0d0887\"], [0.1111111111111111, \"#46039f\"], [0.2222222222222222, \"#7201a8\"], [0.3333333333333333, \"#9c179e\"], [0.4444444444444444, \"#bd3786\"], [0.5555555555555556, \"#d8576b\"], [0.6666666666666666, \"#ed7953\"], [0.7777777777777778, \"#fb9f3a\"], [0.8888888888888888, \"#fdca26\"], [1.0, \"#f0f921\"]]}, \"colorway\": [\"#636efa\", \"#EF553B\", \"#00cc96\", \"#ab63fa\", \"#FFA15A\", \"#19d3f3\", \"#FF6692\", \"#B6E880\", \"#FF97FF\", \"#FECB52\"], \"font\": {\"color\": \"#2a3f5f\"}, \"geo\": {\"bgcolor\": \"white\", \"lakecolor\": \"white\", \"landcolor\": \"#E5ECF6\", \"showlakes\": true, \"showland\": true, \"subunitcolor\": \"white\"}, \"hoverlabel\": {\"align\": \"left\"}, \"hovermode\": \"closest\", \"mapbox\": {\"style\": \"light\"}, \"paper_bgcolor\": \"white\", \"plot_bgcolor\": \"#E5ECF6\", \"polar\": {\"angularaxis\": {\"gridcolor\": \"white\", \"linecolor\": \"white\", \"ticks\": \"\"}, \"bgcolor\": \"#E5ECF6\", \"radialaxis\": {\"gridcolor\": \"white\", \"linecolor\": \"white\", \"ticks\": \"\"}}, \"scene\": {\"xaxis\": {\"backgroundcolor\": \"#E5ECF6\", \"gridcolor\": \"white\", \"gridwidth\": 2, \"linecolor\": \"white\", \"showbackground\": true, \"ticks\": \"\", \"zerolinecolor\": \"white\"}, \"yaxis\": {\"backgroundcolor\": \"#E5ECF6\", \"gridcolor\": \"white\", \"gridwidth\": 2, \"linecolor\": \"white\", \"showbackground\": true, \"ticks\": \"\", \"zerolinecolor\": \"white\"}, \"zaxis\": {\"backgroundcolor\": \"#E5ECF6\", \"gridcolor\": \"white\", \"gridwidth\": 2, \"linecolor\": \"white\", \"showbackground\": true, \"ticks\": \"\", \"zerolinecolor\": \"white\"}}, \"shapedefaults\": {\"line\": {\"color\": \"#2a3f5f\"}}, \"ternary\": {\"aaxis\": {\"gridcolor\": \"white\", \"linecolor\": \"white\", \"ticks\": \"\"}, \"baxis\": {\"gridcolor\": \"white\", \"linecolor\": \"white\", \"ticks\": \"\"}, \"bgcolor\": \"#E5ECF6\", \"caxis\": {\"gridcolor\": \"white\", \"linecolor\": \"white\", \"ticks\": \"\"}}, \"title\": {\"x\": 0.05}, \"xaxis\": {\"automargin\": true, \"gridcolor\": \"white\", \"linecolor\": \"white\", \"ticks\": \"\", \"title\": {\"standoff\": 15}, \"zerolinecolor\": \"white\", \"zerolinewidth\": 2}, \"yaxis\": {\"automargin\": true, \"gridcolor\": \"white\", \"linecolor\": \"white\", \"ticks\": \"\", \"title\": {\"standoff\": 15}, \"zerolinecolor\": \"white\", \"zerolinewidth\": 2}}}, \"title\": {\"text\": \"Confusion Matrix (LR)\", \"x\": 0.5}, \"width\": 400, \"xaxis\": {\"constrain\": \"domain\", \"dtick\": 1, \"scaleanchor\": \"y\", \"tick0\": 0, \"tickmode\": \"linear\", \"title\": {\"text\": \"Prediction\"}}, \"yaxis\": {\"autorange\": \"reversed\", \"constrain\": \"domain\", \"dtick\": 1, \"tick0\": 0, \"tickmode\": \"linear\", \"title\": {\"text\": \"Truth\"}}},\n",
              "                        {\"responsive\": true}\n",
              "                    ).then(function(){\n",
              "                            \n",
              "var gd = document.getElementById('dafadedc-8ffc-415f-8e9b-c64c417667ec');\n",
              "var x = new MutationObserver(function (mutations, observer) {{\n",
              "        var display = window.getComputedStyle(gd).display;\n",
              "        if (!display || display === 'none') {{\n",
              "            console.log([gd, 'removed!']);\n",
              "            Plotly.purge(gd);\n",
              "            observer.disconnect();\n",
              "        }}\n",
              "}});\n",
              "\n",
              "// Listen for the removal of the full notebook cells\n",
              "var notebookContainer = gd.closest('#notebook-container');\n",
              "if (notebookContainer) {{\n",
              "    x.observe(notebookContainer, {childList: true});\n",
              "}}\n",
              "\n",
              "// Listen for the clearing of the current output cell\n",
              "var outputEl = gd.closest('.output');\n",
              "if (outputEl) {{\n",
              "    x.observe(outputEl, {childList: true});\n",
              "}}\n",
              "\n",
              "                        })\n",
              "                };\n",
              "                \n",
              "            </script>\n",
              "        </div>\n",
              "</body>\n",
              "</html>"
            ]
          },
          "metadata": {}
        }
      ]
    },
    {
      "cell_type": "markdown",
      "source": [
        "#### Churn Prediction using Naive Bayes"
      ],
      "metadata": {
        "id": "NSC4QsVamq1t"
      }
    },
    {
      "cell_type": "code",
      "source": [
        "para_gnb = {'var_smoothing':np.logspace(1,-4,num=50)}\n",
        "\n",
        "model_gnb = GridSearchCV(estimator = GaussianNB(),\n",
        "                    param_grid = para_gnb,\n",
        "                    cv=10,\n",
        "                    verbose=0,\n",
        "                    n_jobs=-1\n",
        "                   )\n",
        "model_gnb.fit(train_X_re,train_y_re)"
      ],
      "metadata": {
        "colab": {
          "base_uri": "https://localhost:8080/"
        },
        "id": "uPzKtJmGmlB7",
        "outputId": "ae9c2e33-5102-4cb0-8e4b-bac9f74d8b6f"
      },
      "execution_count": 33,
      "outputs": [
        {
          "output_type": "execute_result",
          "data": {
            "text/plain": [
              "GridSearchCV(cv=10, estimator=GaussianNB(), n_jobs=-1,\n",
              "             param_grid={'var_smoothing': array([1.00000000e+01, 7.90604321e+00, 6.25055193e+00, 4.94171336e+00,\n",
              "       3.90693994e+00, 3.08884360e+00, 2.44205309e+00, 1.93069773e+00,\n",
              "       1.52641797e+00, 1.20679264e+00, 9.54095476e-01, 7.54312006e-01,\n",
              "       5.96362332e-01, 4.71486636e-01, 3.72759372e-01, 2.94705170e-01,\n",
              "       2.32995181e-01, 1.842069...\n",
              "       3.55648031e-02, 2.81176870e-02, 2.22299648e-02, 1.75751062e-02,\n",
              "       1.38949549e-02, 1.09854114e-02, 8.68511374e-03, 6.86648845e-03,\n",
              "       5.42867544e-03, 4.29193426e-03, 3.39322177e-03, 2.68269580e-03,\n",
              "       2.12095089e-03, 1.67683294e-03, 1.32571137e-03, 1.04811313e-03,\n",
              "       8.28642773e-04, 6.55128557e-04, 5.17947468e-04, 4.09491506e-04,\n",
              "       3.23745754e-04, 2.55954792e-04, 2.02358965e-04, 1.59985872e-04,\n",
              "       1.26485522e-04, 1.00000000e-04])})"
            ]
          },
          "metadata": {},
          "execution_count": 33
        }
      ]
    },
    {
      "cell_type": "code",
      "source": [
        "model_gnb.best_params_"
      ],
      "metadata": {
        "colab": {
          "base_uri": "https://localhost:8080/"
        },
        "id": "3BQl_V5bmuir",
        "outputId": "f5cf49cc-6c6e-4c06-ed72-5916a43cbdd5"
      },
      "execution_count": 34,
      "outputs": [
        {
          "output_type": "execute_result",
          "data": {
            "text/plain": [
              "{'var_smoothing': 0.00025595479226995333}"
            ]
          },
          "metadata": {},
          "execution_count": 34
        }
      ]
    },
    {
      "cell_type": "code",
      "source": [
        "cm_gnb,cr_gnb,auc_score_gnb,_  = test_eval(model_gnb,test_X,test_y)\n",
        "fpr_gnb, tpr_gnb, thresh_gnb = roc_curve(test_y, model_gnb.predict_proba(test_X)[:,1], pos_label = 1)\n",
        "precision_gnb, recall_gnb, _ = precision_recall_curve(test_y, model_gnb.predict_proba(test_X)[:,1],pos_label=1)"
      ],
      "metadata": {
        "colab": {
          "base_uri": "https://localhost:8080/"
        },
        "id": "CSPdrpN1m0Dt",
        "outputId": "df8bb1b5-be1d-459e-8918-ae159390ef18"
      },
      "execution_count": 35,
      "outputs": [
        {
          "output_type": "stream",
          "name": "stdout",
          "text": [
            "Confusion Matrix\n",
            "====================\n",
            "[[637 396]\n",
            " [ 54 320]] \n",
            "\n",
            "Classification Report\n",
            "====================\n",
            "              precision    recall  f1-score   support\n",
            "\n",
            "           0       0.92      0.62      0.74      1033\n",
            "           1       0.45      0.86      0.59       374\n",
            "\n",
            "    accuracy                           0.68      1407\n",
            "   macro avg       0.68      0.74      0.66      1407\n",
            "weighted avg       0.80      0.68      0.70      1407\n",
            "\n"
          ]
        }
      ]
    },
    {
      "cell_type": "code",
      "source": [
        "plot_cmatrix(cm_gnb, name='GNB')"
      ],
      "metadata": {
        "colab": {
          "base_uri": "https://localhost:8080/",
          "height": 417
        },
        "id": "EVRdfYCfm45y",
        "outputId": "273d8738-dc56-4da0-fbf6-24eccb3f6746"
      },
      "execution_count": 36,
      "outputs": [
        {
          "output_type": "display_data",
          "data": {
            "text/html": [
              "<html>\n",
              "<head><meta charset=\"utf-8\" /></head>\n",
              "<body>\n",
              "    <div>\n",
              "            <script src=\"https://cdnjs.cloudflare.com/ajax/libs/mathjax/2.7.5/MathJax.js?config=TeX-AMS-MML_SVG\"></script><script type=\"text/javascript\">if (window.MathJax) {MathJax.Hub.Config({SVG: {font: \"STIX-Web\"}});}</script>\n",
              "                <script type=\"text/javascript\">window.PlotlyConfig = {MathJaxConfig: 'local'};</script>\n",
              "        <script src=\"https://cdn.plot.ly/plotly-latest.min.js\"></script>    \n",
              "            <div id=\"cd4d267a-c460-43b1-af34-78b3b2a234e0\" class=\"plotly-graph-div\" style=\"height:400px; width:400px;\"></div>\n",
              "            <script type=\"text/javascript\">\n",
              "                \n",
              "                    window.PLOTLYENV=window.PLOTLYENV || {};\n",
              "                    \n",
              "                if (document.getElementById(\"cd4d267a-c460-43b1-af34-78b3b2a234e0\")) {\n",
              "                    Plotly.newPlot(\n",
              "                        'cd4d267a-c460-43b1-af34-78b3b2a234e0',\n",
              "                        [{\"coloraxis\": \"coloraxis\", \"type\": \"heatmap\", \"z\": [[637, 396], [54, 320]]}],\n",
              "                        {\"annotations\": [{\"font\": {\"color\": \"black\", \"size\": 12}, \"showarrow\": false, \"text\": \"637\", \"x\": 0, \"y\": 0}, {\"font\": {\"color\": \"black\", \"size\": 12}, \"showarrow\": false, \"text\": \"396\", \"x\": 1, \"y\": 0}, {\"font\": {\"color\": \"black\", \"size\": 12}, \"showarrow\": false, \"text\": \"54\", \"x\": 0, \"y\": 1}, {\"font\": {\"color\": \"black\", \"size\": 12}, \"showarrow\": false, \"text\": \"320\", \"x\": 1, \"y\": 1}], \"coloraxis\": {\"colorscale\": [[0.0, \"peachpuff\"], [0.5, \"lime\"], [1.0, \"green\"]]}, \"height\": 400, \"margin\": {\"t\": 60}, \"template\": {\"data\": {\"bar\": [{\"error_x\": {\"color\": \"#2a3f5f\"}, \"error_y\": {\"color\": \"#2a3f5f\"}, \"marker\": {\"line\": {\"color\": \"#E5ECF6\", \"width\": 0.5}}, \"type\": \"bar\"}], \"barpolar\": [{\"marker\": {\"line\": {\"color\": \"#E5ECF6\", \"width\": 0.5}}, \"type\": \"barpolar\"}], \"carpet\": [{\"aaxis\": {\"endlinecolor\": \"#2a3f5f\", \"gridcolor\": \"white\", \"linecolor\": \"white\", \"minorgridcolor\": \"white\", \"startlinecolor\": \"#2a3f5f\"}, \"baxis\": {\"endlinecolor\": \"#2a3f5f\", \"gridcolor\": \"white\", \"linecolor\": \"white\", \"minorgridcolor\": \"white\", \"startlinecolor\": \"#2a3f5f\"}, \"type\": \"carpet\"}], \"choropleth\": [{\"colorbar\": {\"outlinewidth\": 0, \"ticks\": \"\"}, \"type\": \"choropleth\"}], \"contour\": [{\"colorbar\": {\"outlinewidth\": 0, \"ticks\": \"\"}, \"colorscale\": [[0.0, \"#0d0887\"], [0.1111111111111111, \"#46039f\"], [0.2222222222222222, \"#7201a8\"], [0.3333333333333333, \"#9c179e\"], [0.4444444444444444, \"#bd3786\"], [0.5555555555555556, \"#d8576b\"], [0.6666666666666666, \"#ed7953\"], [0.7777777777777778, \"#fb9f3a\"], [0.8888888888888888, \"#fdca26\"], [1.0, \"#f0f921\"]], \"type\": \"contour\"}], \"contourcarpet\": [{\"colorbar\": {\"outlinewidth\": 0, \"ticks\": \"\"}, \"type\": \"contourcarpet\"}], \"heatmap\": [{\"colorbar\": {\"outlinewidth\": 0, \"ticks\": \"\"}, \"colorscale\": [[0.0, \"#0d0887\"], [0.1111111111111111, \"#46039f\"], [0.2222222222222222, \"#7201a8\"], [0.3333333333333333, \"#9c179e\"], [0.4444444444444444, \"#bd3786\"], [0.5555555555555556, \"#d8576b\"], [0.6666666666666666, \"#ed7953\"], [0.7777777777777778, \"#fb9f3a\"], [0.8888888888888888, \"#fdca26\"], [1.0, \"#f0f921\"]], \"type\": \"heatmap\"}], \"heatmapgl\": [{\"colorbar\": {\"outlinewidth\": 0, \"ticks\": \"\"}, \"colorscale\": [[0.0, \"#0d0887\"], [0.1111111111111111, \"#46039f\"], [0.2222222222222222, \"#7201a8\"], [0.3333333333333333, \"#9c179e\"], [0.4444444444444444, \"#bd3786\"], [0.5555555555555556, \"#d8576b\"], [0.6666666666666666, \"#ed7953\"], [0.7777777777777778, \"#fb9f3a\"], [0.8888888888888888, \"#fdca26\"], [1.0, \"#f0f921\"]], \"type\": \"heatmapgl\"}], \"histogram\": [{\"marker\": {\"colorbar\": {\"outlinewidth\": 0, \"ticks\": \"\"}}, \"type\": \"histogram\"}], \"histogram2d\": [{\"colorbar\": {\"outlinewidth\": 0, \"ticks\": \"\"}, \"colorscale\": [[0.0, \"#0d0887\"], [0.1111111111111111, \"#46039f\"], [0.2222222222222222, \"#7201a8\"], [0.3333333333333333, \"#9c179e\"], [0.4444444444444444, \"#bd3786\"], [0.5555555555555556, \"#d8576b\"], [0.6666666666666666, \"#ed7953\"], [0.7777777777777778, \"#fb9f3a\"], [0.8888888888888888, \"#fdca26\"], [1.0, \"#f0f921\"]], \"type\": \"histogram2d\"}], \"histogram2dcontour\": [{\"colorbar\": {\"outlinewidth\": 0, \"ticks\": \"\"}, \"colorscale\": [[0.0, \"#0d0887\"], [0.1111111111111111, \"#46039f\"], [0.2222222222222222, \"#7201a8\"], [0.3333333333333333, \"#9c179e\"], [0.4444444444444444, \"#bd3786\"], [0.5555555555555556, \"#d8576b\"], [0.6666666666666666, \"#ed7953\"], [0.7777777777777778, \"#fb9f3a\"], [0.8888888888888888, \"#fdca26\"], [1.0, \"#f0f921\"]], \"type\": \"histogram2dcontour\"}], \"mesh3d\": [{\"colorbar\": {\"outlinewidth\": 0, \"ticks\": \"\"}, \"type\": \"mesh3d\"}], \"parcoords\": [{\"line\": {\"colorbar\": {\"outlinewidth\": 0, \"ticks\": \"\"}}, \"type\": \"parcoords\"}], \"pie\": [{\"automargin\": true, \"type\": \"pie\"}], \"scatter\": [{\"marker\": {\"colorbar\": {\"outlinewidth\": 0, \"ticks\": \"\"}}, \"type\": \"scatter\"}], \"scatter3d\": [{\"line\": {\"colorbar\": {\"outlinewidth\": 0, \"ticks\": \"\"}}, \"marker\": {\"colorbar\": {\"outlinewidth\": 0, \"ticks\": \"\"}}, \"type\": \"scatter3d\"}], \"scattercarpet\": [{\"marker\": {\"colorbar\": {\"outlinewidth\": 0, \"ticks\": \"\"}}, \"type\": \"scattercarpet\"}], \"scattergeo\": [{\"marker\": {\"colorbar\": {\"outlinewidth\": 0, \"ticks\": \"\"}}, \"type\": \"scattergeo\"}], \"scattergl\": [{\"marker\": {\"colorbar\": {\"outlinewidth\": 0, \"ticks\": \"\"}}, \"type\": \"scattergl\"}], \"scattermapbox\": [{\"marker\": {\"colorbar\": {\"outlinewidth\": 0, \"ticks\": \"\"}}, \"type\": \"scattermapbox\"}], \"scatterpolar\": [{\"marker\": {\"colorbar\": {\"outlinewidth\": 0, \"ticks\": \"\"}}, \"type\": \"scatterpolar\"}], \"scatterpolargl\": [{\"marker\": {\"colorbar\": {\"outlinewidth\": 0, \"ticks\": \"\"}}, \"type\": \"scatterpolargl\"}], \"scatterternary\": [{\"marker\": {\"colorbar\": {\"outlinewidth\": 0, \"ticks\": \"\"}}, \"type\": \"scatterternary\"}], \"surface\": [{\"colorbar\": {\"outlinewidth\": 0, \"ticks\": \"\"}, \"colorscale\": [[0.0, \"#0d0887\"], [0.1111111111111111, \"#46039f\"], [0.2222222222222222, \"#7201a8\"], [0.3333333333333333, \"#9c179e\"], [0.4444444444444444, \"#bd3786\"], [0.5555555555555556, \"#d8576b\"], [0.6666666666666666, \"#ed7953\"], [0.7777777777777778, \"#fb9f3a\"], [0.8888888888888888, \"#fdca26\"], [1.0, \"#f0f921\"]], \"type\": \"surface\"}], \"table\": [{\"cells\": {\"fill\": {\"color\": \"#EBF0F8\"}, \"line\": {\"color\": \"white\"}}, \"header\": {\"fill\": {\"color\": \"#C8D4E3\"}, \"line\": {\"color\": \"white\"}}, \"type\": \"table\"}]}, \"layout\": {\"annotationdefaults\": {\"arrowcolor\": \"#2a3f5f\", \"arrowhead\": 0, \"arrowwidth\": 1}, \"coloraxis\": {\"colorbar\": {\"outlinewidth\": 0, \"ticks\": \"\"}}, \"colorscale\": {\"diverging\": [[0, \"#8e0152\"], [0.1, \"#c51b7d\"], [0.2, \"#de77ae\"], [0.3, \"#f1b6da\"], [0.4, \"#fde0ef\"], [0.5, \"#f7f7f7\"], [0.6, \"#e6f5d0\"], [0.7, \"#b8e186\"], [0.8, \"#7fbc41\"], [0.9, \"#4d9221\"], [1, \"#276419\"]], \"sequential\": [[0.0, \"#0d0887\"], [0.1111111111111111, \"#46039f\"], [0.2222222222222222, \"#7201a8\"], [0.3333333333333333, \"#9c179e\"], [0.4444444444444444, \"#bd3786\"], [0.5555555555555556, \"#d8576b\"], [0.6666666666666666, \"#ed7953\"], [0.7777777777777778, \"#fb9f3a\"], [0.8888888888888888, \"#fdca26\"], [1.0, \"#f0f921\"]], \"sequentialminus\": [[0.0, \"#0d0887\"], [0.1111111111111111, \"#46039f\"], [0.2222222222222222, \"#7201a8\"], [0.3333333333333333, \"#9c179e\"], [0.4444444444444444, \"#bd3786\"], [0.5555555555555556, \"#d8576b\"], [0.6666666666666666, \"#ed7953\"], [0.7777777777777778, \"#fb9f3a\"], [0.8888888888888888, \"#fdca26\"], [1.0, \"#f0f921\"]]}, \"colorway\": [\"#636efa\", \"#EF553B\", \"#00cc96\", \"#ab63fa\", \"#FFA15A\", \"#19d3f3\", \"#FF6692\", \"#B6E880\", \"#FF97FF\", \"#FECB52\"], \"font\": {\"color\": \"#2a3f5f\"}, \"geo\": {\"bgcolor\": \"white\", \"lakecolor\": \"white\", \"landcolor\": \"#E5ECF6\", \"showlakes\": true, \"showland\": true, \"subunitcolor\": \"white\"}, \"hoverlabel\": {\"align\": \"left\"}, \"hovermode\": \"closest\", \"mapbox\": {\"style\": \"light\"}, \"paper_bgcolor\": \"white\", \"plot_bgcolor\": \"#E5ECF6\", \"polar\": {\"angularaxis\": {\"gridcolor\": \"white\", \"linecolor\": \"white\", \"ticks\": \"\"}, \"bgcolor\": \"#E5ECF6\", \"radialaxis\": {\"gridcolor\": \"white\", \"linecolor\": \"white\", \"ticks\": \"\"}}, \"scene\": {\"xaxis\": {\"backgroundcolor\": \"#E5ECF6\", \"gridcolor\": \"white\", \"gridwidth\": 2, \"linecolor\": \"white\", \"showbackground\": true, \"ticks\": \"\", \"zerolinecolor\": \"white\"}, \"yaxis\": {\"backgroundcolor\": \"#E5ECF6\", \"gridcolor\": \"white\", \"gridwidth\": 2, \"linecolor\": \"white\", \"showbackground\": true, \"ticks\": \"\", \"zerolinecolor\": \"white\"}, \"zaxis\": {\"backgroundcolor\": \"#E5ECF6\", \"gridcolor\": \"white\", \"gridwidth\": 2, \"linecolor\": \"white\", \"showbackground\": true, \"ticks\": \"\", \"zerolinecolor\": \"white\"}}, \"shapedefaults\": {\"line\": {\"color\": \"#2a3f5f\"}}, \"ternary\": {\"aaxis\": {\"gridcolor\": \"white\", \"linecolor\": \"white\", \"ticks\": \"\"}, \"baxis\": {\"gridcolor\": \"white\", \"linecolor\": \"white\", \"ticks\": \"\"}, \"bgcolor\": \"#E5ECF6\", \"caxis\": {\"gridcolor\": \"white\", \"linecolor\": \"white\", \"ticks\": \"\"}}, \"title\": {\"x\": 0.05}, \"xaxis\": {\"automargin\": true, \"gridcolor\": \"white\", \"linecolor\": \"white\", \"ticks\": \"\", \"title\": {\"standoff\": 15}, \"zerolinecolor\": \"white\", \"zerolinewidth\": 2}, \"yaxis\": {\"automargin\": true, \"gridcolor\": \"white\", \"linecolor\": \"white\", \"ticks\": \"\", \"title\": {\"standoff\": 15}, \"zerolinecolor\": \"white\", \"zerolinewidth\": 2}}}, \"title\": {\"text\": \"Confusion Matrix (GNB)\", \"x\": 0.5}, \"width\": 400, \"xaxis\": {\"constrain\": \"domain\", \"dtick\": 1, \"scaleanchor\": \"y\", \"tick0\": 0, \"tickmode\": \"linear\", \"title\": {\"text\": \"Prediction\"}}, \"yaxis\": {\"autorange\": \"reversed\", \"constrain\": \"domain\", \"dtick\": 1, \"tick0\": 0, \"tickmode\": \"linear\", \"title\": {\"text\": \"Truth\"}}},\n",
              "                        {\"responsive\": true}\n",
              "                    ).then(function(){\n",
              "                            \n",
              "var gd = document.getElementById('cd4d267a-c460-43b1-af34-78b3b2a234e0');\n",
              "var x = new MutationObserver(function (mutations, observer) {{\n",
              "        var display = window.getComputedStyle(gd).display;\n",
              "        if (!display || display === 'none') {{\n",
              "            console.log([gd, 'removed!']);\n",
              "            Plotly.purge(gd);\n",
              "            observer.disconnect();\n",
              "        }}\n",
              "}});\n",
              "\n",
              "// Listen for the removal of the full notebook cells\n",
              "var notebookContainer = gd.closest('#notebook-container');\n",
              "if (notebookContainer) {{\n",
              "    x.observe(notebookContainer, {childList: true});\n",
              "}}\n",
              "\n",
              "// Listen for the clearing of the current output cell\n",
              "var outputEl = gd.closest('.output');\n",
              "if (outputEl) {{\n",
              "    x.observe(outputEl, {childList: true});\n",
              "}}\n",
              "\n",
              "                        })\n",
              "                };\n",
              "                \n",
              "            </script>\n",
              "        </div>\n",
              "</body>\n",
              "</html>"
            ]
          },
          "metadata": {}
        }
      ]
    },
    {
      "cell_type": "markdown",
      "source": [
        "## Nonlinear Algorithms\n",
        "\n",
        "#### Churn Prediction using ANN with tensorflow, keras"
      ],
      "metadata": {
        "id": "pF5wBErynB_v"
      }
    },
    {
      "cell_type": "code",
      "source": [
        "model_nn = Sequential()\n",
        "model_nn.add(Dense(10,input_shape=(30,),activation='relu'))\n",
        "model_nn.add(Dense(1, activation='sigmoid'))\n",
        "model_nn.summary()"
      ],
      "metadata": {
        "colab": {
          "base_uri": "https://localhost:8080/"
        },
        "id": "48eV6PCmm5BH",
        "outputId": "599ab4ae-829a-45a1-d838-8621cdc6ff41"
      },
      "execution_count": 37,
      "outputs": [
        {
          "output_type": "stream",
          "name": "stdout",
          "text": [
            "Model: \"sequential\"\n",
            "_________________________________________________________________\n",
            " Layer (type)                Output Shape              Param #   \n",
            "=================================================================\n",
            " dense (Dense)               (None, 10)                310       \n",
            "                                                                 \n",
            " dense_1 (Dense)             (None, 1)                 11        \n",
            "                                                                 \n",
            "=================================================================\n",
            "Total params: 321\n",
            "Trainable params: 321\n",
            "Non-trainable params: 0\n",
            "_________________________________________________________________\n"
          ]
        }
      ]
    },
    {
      "cell_type": "code",
      "source": [
        "model_nn.compile(optimizer='adam',metrics=['accuracy'],loss='binary_crossentropy')\n",
        "\n",
        "history_nn = model_nn.fit(train_X_re,train_y_re,\n",
        "                          validation_split=0.2,\n",
        "                          epochs=10,\n",
        "                          verbose=0\n",
        "                         )"
      ],
      "metadata": {
        "id": "ArBQfVuknIvs"
      },
      "execution_count": 38,
      "outputs": []
    },
    {
      "cell_type": "code",
      "source": [
        "def plot_metrics(history):\n",
        "    metrics = ['loss', 'accuracy']\n",
        "    plt.figure(figsize=(12,3))\n",
        "    for n, metric in enumerate(metrics):\n",
        "        name = metric.replace(\"_\",\" \").capitalize()\n",
        "        plt.subplot(1,2,n+1)\n",
        "        plt.plot(history.epoch, history.history[metric], color='red', label='Train')\n",
        "        plt.plot(history.epoch, history.history['val_'+metric],\n",
        "                 color='green', linestyle=\"--\", label='Val')\n",
        "        plt.xlabel('Epoch')\n",
        "        plt.ylabel(name)\n",
        "        plt.legend()\n",
        "\n",
        "\n",
        "plot_metrics(history_nn)"
      ],
      "metadata": {
        "colab": {
          "base_uri": "https://localhost:8080/",
          "height": 225
        },
        "id": "v76xraP3muxw",
        "outputId": "a93ccb6b-e18d-451b-a06a-8a7d7778feee"
      },
      "execution_count": 39,
      "outputs": [
        {
          "output_type": "display_data",
          "data": {
            "image/png": "[encoded data removed]",
            "text/plain": [
              "<Figure size 864x216 with 2 Axes>"
            ]
          },
          "metadata": {
            "needs_background": "light"
          }
        }
      ]
    },
    {
      "cell_type": "code",
      "source": [
        "model_nn.evaluate(test_X,test_y)"
      ],
      "metadata": {
        "colab": {
          "base_uri": "https://localhost:8080/"
        },
        "id": "5E887wr9nZWY",
        "outputId": "66b63263-60be-45f9-8332-ebdbe3871a1e"
      },
      "execution_count": 40,
      "outputs": [
        {
          "output_type": "stream",
          "name": "stdout",
          "text": [
            "44/44 [==============================] - 0s 1ms/step - loss: 0.4247 - accuracy: 0.7875\n"
          ]
        },
        {
          "output_type": "execute_result",
          "data": {
            "text/plain": [
              "[0.4247138500213623, 0.7874911427497864]"
            ]
          },
          "metadata": {},
          "execution_count": 40
        }
      ]
    },
    {
      "cell_type": "code",
      "source": [
        "cm_nn,cr_nn,auc_score_nn,_  = test_eval(model_nn,test_X,test_y)\n",
        "fpr_nn, tpr_nn, thresh_nn = roc_curve(test_y, model_nn.predict(test_X), pos_label = 1)\n",
        "precision_nn, recall_nn, _ = precision_recall_curve(test_y, model_nn.predict(test_X))"
      ],
      "metadata": {
        "colab": {
          "base_uri": "https://localhost:8080/"
        },
        "id": "t-XG8IW6nce6",
        "outputId": "beecae81-ff75-4ae6-bd18-1edcb8354ece"
      },
      "execution_count": 41,
      "outputs": [
        {
          "output_type": "stream",
          "name": "stdout",
          "text": [
            "Confusion Matrix\n",
            "====================\n",
            "[[868 165]\n",
            " [134 240]] \n",
            "\n",
            "Classification Report\n",
            "====================\n",
            "              precision    recall  f1-score   support\n",
            "\n",
            "           0       0.87      0.84      0.85      1033\n",
            "           1       0.59      0.64      0.62       374\n",
            "\n",
            "    accuracy                           0.79      1407\n",
            "   macro avg       0.73      0.74      0.73      1407\n",
            "weighted avg       0.79      0.79      0.79      1407\n",
            "\n"
          ]
        }
      ]
    },
    {
      "cell_type": "code",
      "source": [
        "plot_cmatrix(cm_nn, name = 'NN')"
      ],
      "metadata": {
        "colab": {
          "base_uri": "https://localhost:8080/",
          "height": 417
        },
        "id": "1aA2tK48ncim",
        "outputId": "d36b9172-484e-454c-c20d-7f2b11d88e67"
      },
      "execution_count": 42,
      "outputs": [
        {
          "output_type": "display_data",
          "data": {
            "text/html": [
              "<html>\n",
              "<head><meta charset=\"utf-8\" /></head>\n",
              "<body>\n",
              "    <div>\n",
              "            <script src=\"https://cdnjs.cloudflare.com/ajax/libs/mathjax/2.7.5/MathJax.js?config=TeX-AMS-MML_SVG\"></script><script type=\"text/javascript\">if (window.MathJax) {MathJax.Hub.Config({SVG: {font: \"STIX-Web\"}});}</script>\n",
              "                <script type=\"text/javascript\">window.PlotlyConfig = {MathJaxConfig: 'local'};</script>\n",
              "        <script src=\"https://cdn.plot.ly/plotly-latest.min.js\"></script>    \n",
              "            <div id=\"7960b6e6-d814-4939-b565-b862ce74a2b8\" class=\"plotly-graph-div\" style=\"height:400px; width:400px;\"></div>\n",
              "            <script type=\"text/javascript\">\n",
              "                \n",
              "                    window.PLOTLYENV=window.PLOTLYENV || {};\n",
              "                    \n",
              "                if (document.getElementById(\"7960b6e6-d814-4939-b565-b862ce74a2b8\")) {\n",
              "                    Plotly.newPlot(\n",
              "                        '7960b6e6-d814-4939-b565-b862ce74a2b8',\n",
              "                        [{\"coloraxis\": \"coloraxis\", \"type\": \"heatmap\", \"z\": [[868, 165], [134, 240]]}],\n",
              "                        {\"annotations\": [{\"font\": {\"color\": \"black\", \"size\": 12}, \"showarrow\": false, \"text\": \"868\", \"x\": 0, \"y\": 0}, {\"font\": {\"color\": \"black\", \"size\": 12}, \"showarrow\": false, \"text\": \"165\", \"x\": 1, \"y\": 0}, {\"font\": {\"color\": \"black\", \"size\": 12}, \"showarrow\": false, \"text\": \"134\", \"x\": 0, \"y\": 1}, {\"font\": {\"color\": \"black\", \"size\": 12}, \"showarrow\": false, \"text\": \"240\", \"x\": 1, \"y\": 1}], \"coloraxis\": {\"colorscale\": [[0.0, \"peachpuff\"], [0.5, \"lime\"], [1.0, \"green\"]]}, \"height\": 400, \"margin\": {\"t\": 60}, \"template\": {\"data\": {\"bar\": [{\"error_x\": {\"color\": \"#2a3f5f\"}, \"error_y\": {\"color\": \"#2a3f5f\"}, \"marker\": {\"line\": {\"color\": \"#E5ECF6\", \"width\": 0.5}}, \"type\": \"bar\"}], \"barpolar\": [{\"marker\": {\"line\": {\"color\": \"#E5ECF6\", \"width\": 0.5}}, \"type\": \"barpolar\"}], \"carpet\": [{\"aaxis\": {\"endlinecolor\": \"#2a3f5f\", \"gridcolor\": \"white\", \"linecolor\": \"white\", \"minorgridcolor\": \"white\", \"startlinecolor\": \"#2a3f5f\"}, \"baxis\": {\"endlinecolor\": \"#2a3f5f\", \"gridcolor\": \"white\", \"linecolor\": \"white\", \"minorgridcolor\": \"white\", \"startlinecolor\": \"#2a3f5f\"}, \"type\": \"carpet\"}], \"choropleth\": [{\"colorbar\": {\"outlinewidth\": 0, \"ticks\": \"\"}, \"type\": \"choropleth\"}], \"contour\": [{\"colorbar\": {\"outlinewidth\": 0, \"ticks\": \"\"}, \"colorscale\": [[0.0, \"#0d0887\"], [0.1111111111111111, \"#46039f\"], [0.2222222222222222, \"#7201a8\"], [0.3333333333333333, \"#9c179e\"], [0.4444444444444444, \"#bd3786\"], [0.5555555555555556, \"#d8576b\"], [0.6666666666666666, \"#ed7953\"], [0.7777777777777778, \"#fb9f3a\"], [0.8888888888888888, \"#fdca26\"], [1.0, \"#f0f921\"]], \"type\": \"contour\"}], \"contourcarpet\": [{\"colorbar\": {\"outlinewidth\": 0, \"ticks\": \"\"}, \"type\": \"contourcarpet\"}], \"heatmap\": [{\"colorbar\": {\"outlinewidth\": 0, \"ticks\": \"\"}, \"colorscale\": [[0.0, \"#0d0887\"], [0.1111111111111111, \"#46039f\"], [0.2222222222222222, \"#7201a8\"], [0.3333333333333333, \"#9c179e\"], [0.4444444444444444, \"#bd3786\"], [0.5555555555555556, \"#d8576b\"], [0.6666666666666666, \"#ed7953\"], [0.7777777777777778, \"#fb9f3a\"], [0.8888888888888888, \"#fdca26\"], [1.0, \"#f0f921\"]], \"type\": \"heatmap\"}], \"heatmapgl\": [{\"colorbar\": {\"outlinewidth\": 0, \"ticks\": \"\"}, \"colorscale\": [[0.0, \"#0d0887\"], [0.1111111111111111, \"#46039f\"], [0.2222222222222222, \"#7201a8\"], [0.3333333333333333, \"#9c179e\"], [0.4444444444444444, \"#bd3786\"], [0.5555555555555556, \"#d8576b\"], [0.6666666666666666, \"#ed7953\"], [0.7777777777777778, \"#fb9f3a\"], [0.8888888888888888, \"#fdca26\"], [1.0, \"#f0f921\"]], \"type\": \"heatmapgl\"}], \"histogram\": [{\"marker\": {\"colorbar\": {\"outlinewidth\": 0, \"ticks\": \"\"}}, \"type\": \"histogram\"}], \"histogram2d\": [{\"colorbar\": {\"outlinewidth\": 0, \"ticks\": \"\"}, \"colorscale\": [[0.0, \"#0d0887\"], [0.1111111111111111, \"#46039f\"], [0.2222222222222222, \"#7201a8\"], [0.3333333333333333, \"#9c179e\"], [0.4444444444444444, \"#bd3786\"], [0.5555555555555556, \"#d8576b\"], [0.6666666666666666, \"#ed7953\"], [0.7777777777777778, \"#fb9f3a\"], [0.8888888888888888, \"#fdca26\"], [1.0, \"#f0f921\"]], \"type\": \"histogram2d\"}], \"histogram2dcontour\": [{\"colorbar\": {\"outlinewidth\": 0, \"ticks\": \"\"}, \"colorscale\": [[0.0, \"#0d0887\"], [0.1111111111111111, \"#46039f\"], [0.2222222222222222, \"#7201a8\"], [0.3333333333333333, \"#9c179e\"], [0.4444444444444444, \"#bd3786\"], [0.5555555555555556, \"#d8576b\"], [0.6666666666666666, \"#ed7953\"], [0.7777777777777778, \"#fb9f3a\"], [0.8888888888888888, \"#fdca26\"], [1.0, \"#f0f921\"]], \"type\": \"histogram2dcontour\"}], \"mesh3d\": [{\"colorbar\": {\"outlinewidth\": 0, \"ticks\": \"\"}, \"type\": \"mesh3d\"}], \"parcoords\": [{\"line\": {\"colorbar\": {\"outlinewidth\": 0, \"ticks\": \"\"}}, \"type\": \"parcoords\"}], \"pie\": [{\"automargin\": true, \"type\": \"pie\"}], \"scatter\": [{\"marker\": {\"colorbar\": {\"outlinewidth\": 0, \"ticks\": \"\"}}, \"type\": \"scatter\"}], \"scatter3d\": [{\"line\": {\"colorbar\": {\"outlinewidth\": 0, \"ticks\": \"\"}}, \"marker\": {\"colorbar\": {\"outlinewidth\": 0, \"ticks\": \"\"}}, \"type\": \"scatter3d\"}], \"scattercarpet\": [{\"marker\": {\"colorbar\": {\"outlinewidth\": 0, \"ticks\": \"\"}}, \"type\": \"scattercarpet\"}], \"scattergeo\": [{\"marker\": {\"colorbar\": {\"outlinewidth\": 0, \"ticks\": \"\"}}, \"type\": \"scattergeo\"}], \"scattergl\": [{\"marker\": {\"colorbar\": {\"outlinewidth\": 0, \"ticks\": \"\"}}, \"type\": \"scattergl\"}], \"scattermapbox\": [{\"marker\": {\"colorbar\": {\"outlinewidth\": 0, \"ticks\": \"\"}}, \"type\": \"scattermapbox\"}], \"scatterpolar\": [{\"marker\": {\"colorbar\": {\"outlinewidth\": 0, \"ticks\": \"\"}}, \"type\": \"scatterpolar\"}], \"scatterpolargl\": [{\"marker\": {\"colorbar\": {\"outlinewidth\": 0, \"ticks\": \"\"}}, \"type\": \"scatterpolargl\"}], \"scatterternary\": [{\"marker\": {\"colorbar\": {\"outlinewidth\": 0, \"ticks\": \"\"}}, \"type\": \"scatterternary\"}], \"surface\": [{\"colorbar\": {\"outlinewidth\": 0, \"ticks\": \"\"}, \"colorscale\": [[0.0, \"#0d0887\"], [0.1111111111111111, \"#46039f\"], [0.2222222222222222, \"#7201a8\"], [0.3333333333333333, \"#9c179e\"], [0.4444444444444444, \"#bd3786\"], [0.5555555555555556, \"#d8576b\"], [0.6666666666666666, \"#ed7953\"], [0.7777777777777778, \"#fb9f3a\"], [0.8888888888888888, \"#fdca26\"], [1.0, \"#f0f921\"]], \"type\": \"surface\"}], \"table\": [{\"cells\": {\"fill\": {\"color\": \"#EBF0F8\"}, \"line\": {\"color\": \"white\"}}, \"header\": {\"fill\": {\"color\": \"#C8D4E3\"}, \"line\": {\"color\": \"white\"}}, \"type\": \"table\"}]}, \"layout\": {\"annotationdefaults\": {\"arrowcolor\": \"#2a3f5f\", \"arrowhead\": 0, \"arrowwidth\": 1}, \"coloraxis\": {\"colorbar\": {\"outlinewidth\": 0, \"ticks\": \"\"}}, \"colorscale\": {\"diverging\": [[0, \"#8e0152\"], [0.1, \"#c51b7d\"], [0.2, \"#de77ae\"], [0.3, \"#f1b6da\"], [0.4, \"#fde0ef\"], [0.5, \"#f7f7f7\"], [0.6, \"#e6f5d0\"], [0.7, \"#b8e186\"], [0.8, \"#7fbc41\"], [0.9, \"#4d9221\"], [1, \"#276419\"]], \"sequential\": [[0.0, \"#0d0887\"], [0.1111111111111111, \"#46039f\"], [0.2222222222222222, \"#7201a8\"], [0.3333333333333333, \"#9c179e\"], [0.4444444444444444, \"#bd3786\"], [0.5555555555555556, \"#d8576b\"], [0.6666666666666666, \"#ed7953\"], [0.7777777777777778, \"#fb9f3a\"], [0.8888888888888888, \"#fdca26\"], [1.0, \"#f0f921\"]], \"sequentialminus\": [[0.0, \"#0d0887\"], [0.1111111111111111, \"#46039f\"], [0.2222222222222222, \"#7201a8\"], [0.3333333333333333, \"#9c179e\"], [0.4444444444444444, \"#bd3786\"], [0.5555555555555556, \"#d8576b\"], [0.6666666666666666, \"#ed7953\"], [0.7777777777777778, \"#fb9f3a\"], [0.8888888888888888, \"#fdca26\"], [1.0, \"#f0f921\"]]}, \"colorway\": [\"#636efa\", \"#EF553B\", \"#00cc96\", \"#ab63fa\", \"#FFA15A\", \"#19d3f3\", \"#FF6692\", \"#B6E880\", \"#FF97FF\", \"#FECB52\"], \"font\": {\"color\": \"#2a3f5f\"}, \"geo\": {\"bgcolor\": \"white\", \"lakecolor\": \"white\", \"landcolor\": \"#E5ECF6\", \"showlakes\": true, \"showland\": true, \"subunitcolor\": \"white\"}, \"hoverlabel\": {\"align\": \"left\"}, \"hovermode\": \"closest\", \"mapbox\": {\"style\": \"light\"}, \"paper_bgcolor\": \"white\", \"plot_bgcolor\": \"#E5ECF6\", \"polar\": {\"angularaxis\": {\"gridcolor\": \"white\", \"linecolor\": \"white\", \"ticks\": \"\"}, \"bgcolor\": \"#E5ECF6\", \"radialaxis\": {\"gridcolor\": \"white\", \"linecolor\": \"white\", \"ticks\": \"\"}}, \"scene\": {\"xaxis\": {\"backgroundcolor\": \"#E5ECF6\", \"gridcolor\": \"white\", \"gridwidth\": 2, \"linecolor\": \"white\", \"showbackground\": true, \"ticks\": \"\", \"zerolinecolor\": \"white\"}, \"yaxis\": {\"backgroundcolor\": \"#E5ECF6\", \"gridcolor\": \"white\", \"gridwidth\": 2, \"linecolor\": \"white\", \"showbackground\": true, \"ticks\": \"\", \"zerolinecolor\": \"white\"}, \"zaxis\": {\"backgroundcolor\": \"#E5ECF6\", \"gridcolor\": \"white\", \"gridwidth\": 2, \"linecolor\": \"white\", \"showbackground\": true, \"ticks\": \"\", \"zerolinecolor\": \"white\"}}, \"shapedefaults\": {\"line\": {\"color\": \"#2a3f5f\"}}, \"ternary\": {\"aaxis\": {\"gridcolor\": \"white\", \"linecolor\": \"white\", \"ticks\": \"\"}, \"baxis\": {\"gridcolor\": \"white\", \"linecolor\": \"white\", \"ticks\": \"\"}, \"bgcolor\": \"#E5ECF6\", \"caxis\": {\"gridcolor\": \"white\", \"linecolor\": \"white\", \"ticks\": \"\"}}, \"title\": {\"x\": 0.05}, \"xaxis\": {\"automargin\": true, \"gridcolor\": \"white\", \"linecolor\": \"white\", \"ticks\": \"\", \"title\": {\"standoff\": 15}, \"zerolinecolor\": \"white\", \"zerolinewidth\": 2}, \"yaxis\": {\"automargin\": true, \"gridcolor\": \"white\", \"linecolor\": \"white\", \"ticks\": \"\", \"title\": {\"standoff\": 15}, \"zerolinecolor\": \"white\", \"zerolinewidth\": 2}}}, \"title\": {\"text\": \"Confusion Matrix (NN)\", \"x\": 0.5}, \"width\": 400, \"xaxis\": {\"constrain\": \"domain\", \"dtick\": 1, \"scaleanchor\": \"y\", \"tick0\": 0, \"tickmode\": \"linear\", \"title\": {\"text\": \"Prediction\"}}, \"yaxis\": {\"autorange\": \"reversed\", \"constrain\": \"domain\", \"dtick\": 1, \"tick0\": 0, \"tickmode\": \"linear\", \"title\": {\"text\": \"Truth\"}}},\n",
              "                        {\"responsive\": true}\n",
              "                    ).then(function(){\n",
              "                            \n",
              "var gd = document.getElementById('7960b6e6-d814-4939-b565-b862ce74a2b8');\n",
              "var x = new MutationObserver(function (mutations, observer) {{\n",
              "        var display = window.getComputedStyle(gd).display;\n",
              "        if (!display || display === 'none') {{\n",
              "            console.log([gd, 'removed!']);\n",
              "            Plotly.purge(gd);\n",
              "            observer.disconnect();\n",
              "        }}\n",
              "}});\n",
              "\n",
              "// Listen for the removal of the full notebook cells\n",
              "var notebookContainer = gd.closest('#notebook-container');\n",
              "if (notebookContainer) {{\n",
              "    x.observe(notebookContainer, {childList: true});\n",
              "}}\n",
              "\n",
              "// Listen for the clearing of the current output cell\n",
              "var outputEl = gd.closest('.output');\n",
              "if (outputEl) {{\n",
              "    x.observe(outputEl, {childList: true});\n",
              "}}\n",
              "\n",
              "                        })\n",
              "                };\n",
              "                \n",
              "            </script>\n",
              "        </div>\n",
              "</body>\n",
              "</html>"
            ]
          },
          "metadata": {}
        }
      ]
    },
    {
      "cell_type": "markdown",
      "source": [
        "### Churn Prediction using SVC"
      ],
      "metadata": {
        "id": "lPbLgbIAnkvw"
      }
    },
    {
      "cell_type": "code",
      "source": [
        "# SVC probability para has to set True for predict_proba function\n",
        "para_svc = {'C':[1,10,20], \"probability\":[True]}\n",
        "\n",
        "model_svc = GridSearchCV(estimator = SVC(),\n",
        "                    param_grid = para_svc,\n",
        "                    cv=10,\n",
        "                    verbose=0,\n",
        "                    n_jobs=-1\n",
        "                   )\n",
        "model_svc.fit(train_X_re,train_y_re)"
      ],
      "metadata": {
        "colab": {
          "base_uri": "https://localhost:8080/"
        },
        "id": "yPSDuB99nZaO",
        "outputId": "55b8c069-0510-40fd-cc55-5486b8d9c29e"
      },
      "execution_count": 43,
      "outputs": [
        {
          "output_type": "execute_result",
          "data": {
            "text/plain": [
              "GridSearchCV(cv=10, estimator=SVC(), n_jobs=-1,\n",
              "             param_grid={'C': [1, 10, 20], 'probability': [True]})"
            ]
          },
          "metadata": {},
          "execution_count": 43
        }
      ]
    },
    {
      "cell_type": "code",
      "source": [
        "model_svc.best_params_"
      ],
      "metadata": {
        "colab": {
          "base_uri": "https://localhost:8080/"
        },
        "id": "442s4P-AnqMO",
        "outputId": "caae58b3-b589-4e14-b127-dfecf072701f"
      },
      "execution_count": 44,
      "outputs": [
        {
          "output_type": "execute_result",
          "data": {
            "text/plain": [
              "{'C': 20, 'probability': True}"
            ]
          },
          "metadata": {},
          "execution_count": 44
        }
      ]
    },
    {
      "cell_type": "code",
      "source": [
        "cm_svc,cr_svc,auc_score_svc,_  = test_eval(model_svc,test_X,test_y)\n",
        "fpr_svc, tpr_svc, thresh_svc = roc_curve(test_y, model_svc.predict_proba(test_X)[:,1], pos_label = 1)\n",
        "precision_svc, recall_svc, _ = precision_recall_curve(test_y, model_svc.predict_proba(test_X)[:,1], pos_label=1)"
      ],
      "metadata": {
        "colab": {
          "base_uri": "https://localhost:8080/"
        },
        "id": "gWoaA761nZdK",
        "outputId": "589eee5e-09a8-4627-9941-69c21fd95b14"
      },
      "execution_count": 45,
      "outputs": [
        {
          "output_type": "stream",
          "name": "stdout",
          "text": [
            "Confusion Matrix\n",
            "====================\n",
            "[[796 237]\n",
            " [127 247]] \n",
            "\n",
            "Classification Report\n",
            "====================\n",
            "              precision    recall  f1-score   support\n",
            "\n",
            "           0       0.86      0.77      0.81      1033\n",
            "           1       0.51      0.66      0.58       374\n",
            "\n",
            "    accuracy                           0.74      1407\n",
            "   macro avg       0.69      0.72      0.69      1407\n",
            "weighted avg       0.77      0.74      0.75      1407\n",
            "\n"
          ]
        }
      ]
    },
    {
      "cell_type": "code",
      "source": [
        "plot_cmatrix(cm_svc, name='SVC')"
      ],
      "metadata": {
        "colab": {
          "base_uri": "https://localhost:8080/",
          "height": 417
        },
        "id": "4_ukYLHrnzY6",
        "outputId": "b52bb27c-1b62-46b8-97c4-53c13d6a5d63"
      },
      "execution_count": 46,
      "outputs": [
        {
          "output_type": "display_data",
          "data": {
            "text/html": [
              "<html>\n",
              "<head><meta charset=\"utf-8\" /></head>\n",
              "<body>\n",
              "    <div>\n",
              "            <script src=\"https://cdnjs.cloudflare.com/ajax/libs/mathjax/2.7.5/MathJax.js?config=TeX-AMS-MML_SVG\"></script><script type=\"text/javascript\">if (window.MathJax) {MathJax.Hub.Config({SVG: {font: \"STIX-Web\"}});}</script>\n",
              "                <script type=\"text/javascript\">window.PlotlyConfig = {MathJaxConfig: 'local'};</script>\n",
              "        <script src=\"https://cdn.plot.ly/plotly-latest.min.js\"></script>    \n",
              "            <div id=\"5dc2b378-3a71-4d69-b878-39952289b6c4\" class=\"plotly-graph-div\" style=\"height:400px; width:400px;\"></div>\n",
              "            <script type=\"text/javascript\">\n",
              "                \n",
              "                    window.PLOTLYENV=window.PLOTLYENV || {};\n",
              "                    \n",
              "                if (document.getElementById(\"5dc2b378-3a71-4d69-b878-39952289b6c4\")) {\n",
              "                    Plotly.newPlot(\n",
              "                        '5dc2b378-3a71-4d69-b878-39952289b6c4',\n",
              "                        [{\"coloraxis\": \"coloraxis\", \"type\": \"heatmap\", \"z\": [[796, 237], [127, 247]]}],\n",
              "                        {\"annotations\": [{\"font\": {\"color\": \"black\", \"size\": 12}, \"showarrow\": false, \"text\": \"796\", \"x\": 0, \"y\": 0}, {\"font\": {\"color\": \"black\", \"size\": 12}, \"showarrow\": false, \"text\": \"237\", \"x\": 1, \"y\": 0}, {\"font\": {\"color\": \"black\", \"size\": 12}, \"showarrow\": false, \"text\": \"127\", \"x\": 0, \"y\": 1}, {\"font\": {\"color\": \"black\", \"size\": 12}, \"showarrow\": false, \"text\": \"247\", \"x\": 1, \"y\": 1}], \"coloraxis\": {\"colorscale\": [[0.0, \"peachpuff\"], [0.5, \"lime\"], [1.0, \"green\"]]}, \"height\": 400, \"margin\": {\"t\": 60}, \"template\": {\"data\": {\"bar\": [{\"error_x\": {\"color\": \"#2a3f5f\"}, \"error_y\": {\"color\": \"#2a3f5f\"}, \"marker\": {\"line\": {\"color\": \"#E5ECF6\", \"width\": 0.5}}, \"type\": \"bar\"}], \"barpolar\": [{\"marker\": {\"line\": {\"color\": \"#E5ECF6\", \"width\": 0.5}}, \"type\": \"barpolar\"}], \"carpet\": [{\"aaxis\": {\"endlinecolor\": \"#2a3f5f\", \"gridcolor\": \"white\", \"linecolor\": \"white\", \"minorgridcolor\": \"white\", \"startlinecolor\": \"#2a3f5f\"}, \"baxis\": {\"endlinecolor\": \"#2a3f5f\", \"gridcolor\": \"white\", \"linecolor\": \"white\", \"minorgridcolor\": \"white\", \"startlinecolor\": \"#2a3f5f\"}, \"type\": \"carpet\"}], \"choropleth\": [{\"colorbar\": {\"outlinewidth\": 0, \"ticks\": \"\"}, \"type\": \"choropleth\"}], \"contour\": [{\"colorbar\": {\"outlinewidth\": 0, \"ticks\": \"\"}, \"colorscale\": [[0.0, \"#0d0887\"], [0.1111111111111111, \"#46039f\"], [0.2222222222222222, \"#7201a8\"], [0.3333333333333333, \"#9c179e\"], [0.4444444444444444, \"#bd3786\"], [0.5555555555555556, \"#d8576b\"], [0.6666666666666666, \"#ed7953\"], [0.7777777777777778, \"#fb9f3a\"], [0.8888888888888888, \"#fdca26\"], [1.0, \"#f0f921\"]], \"type\": \"contour\"}], \"contourcarpet\": [{\"colorbar\": {\"outlinewidth\": 0, \"ticks\": \"\"}, \"type\": \"contourcarpet\"}], \"heatmap\": [{\"colorbar\": {\"outlinewidth\": 0, \"ticks\": \"\"}, \"colorscale\": [[0.0, \"#0d0887\"], [0.1111111111111111, \"#46039f\"], [0.2222222222222222, \"#7201a8\"], [0.3333333333333333, \"#9c179e\"], [0.4444444444444444, \"#bd3786\"], [0.5555555555555556, \"#d8576b\"], [0.6666666666666666, \"#ed7953\"], [0.7777777777777778, \"#fb9f3a\"], [0.8888888888888888, \"#fdca26\"], [1.0, \"#f0f921\"]], \"type\": \"heatmap\"}], \"heatmapgl\": [{\"colorbar\": {\"outlinewidth\": 0, \"ticks\": \"\"}, \"colorscale\": [[0.0, \"#0d0887\"], [0.1111111111111111, \"#46039f\"], [0.2222222222222222, \"#7201a8\"], [0.3333333333333333, \"#9c179e\"], [0.4444444444444444, \"#bd3786\"], [0.5555555555555556, \"#d8576b\"], [0.6666666666666666, \"#ed7953\"], [0.7777777777777778, \"#fb9f3a\"], [0.8888888888888888, \"#fdca26\"], [1.0, \"#f0f921\"]], \"type\": \"heatmapgl\"}], \"histogram\": [{\"marker\": {\"colorbar\": {\"outlinewidth\": 0, \"ticks\": \"\"}}, \"type\": \"histogram\"}], \"histogram2d\": [{\"colorbar\": {\"outlinewidth\": 0, \"ticks\": \"\"}, \"colorscale\": [[0.0, \"#0d0887\"], [0.1111111111111111, \"#46039f\"], [0.2222222222222222, \"#7201a8\"], [0.3333333333333333, \"#9c179e\"], [0.4444444444444444, \"#bd3786\"], [0.5555555555555556, \"#d8576b\"], [0.6666666666666666, \"#ed7953\"], [0.7777777777777778, \"#fb9f3a\"], [0.8888888888888888, \"#fdca26\"], [1.0, \"#f0f921\"]], \"type\": \"histogram2d\"}], \"histogram2dcontour\": [{\"colorbar\": {\"outlinewidth\": 0, \"ticks\": \"\"}, \"colorscale\": [[0.0, \"#0d0887\"], [0.1111111111111111, \"#46039f\"], [0.2222222222222222, \"#7201a8\"], [0.3333333333333333, \"#9c179e\"], [0.4444444444444444, \"#bd3786\"], [0.5555555555555556, \"#d8576b\"], [0.6666666666666666, \"#ed7953\"], [0.7777777777777778, \"#fb9f3a\"], [0.8888888888888888, \"#fdca26\"], [1.0, \"#f0f921\"]], \"type\": \"histogram2dcontour\"}], \"mesh3d\": [{\"colorbar\": {\"outlinewidth\": 0, \"ticks\": \"\"}, \"type\": \"mesh3d\"}], \"parcoords\": [{\"line\": {\"colorbar\": {\"outlinewidth\": 0, \"ticks\": \"\"}}, \"type\": \"parcoords\"}], \"pie\": [{\"automargin\": true, \"type\": \"pie\"}], \"scatter\": [{\"marker\": {\"colorbar\": {\"outlinewidth\": 0, \"ticks\": \"\"}}, \"type\": \"scatter\"}], \"scatter3d\": [{\"line\": {\"colorbar\": {\"outlinewidth\": 0, \"ticks\": \"\"}}, \"marker\": {\"colorbar\": {\"outlinewidth\": 0, \"ticks\": \"\"}}, \"type\": \"scatter3d\"}], \"scattercarpet\": [{\"marker\": {\"colorbar\": {\"outlinewidth\": 0, \"ticks\": \"\"}}, \"type\": \"scattercarpet\"}], \"scattergeo\": [{\"marker\": {\"colorbar\": {\"outlinewidth\": 0, \"ticks\": \"\"}}, \"type\": \"scattergeo\"}], \"scattergl\": [{\"marker\": {\"colorbar\": {\"outlinewidth\": 0, \"ticks\": \"\"}}, \"type\": \"scattergl\"}], \"scattermapbox\": [{\"marker\": {\"colorbar\": {\"outlinewidth\": 0, \"ticks\": \"\"}}, \"type\": \"scattermapbox\"}], \"scatterpolar\": [{\"marker\": {\"colorbar\": {\"outlinewidth\": 0, \"ticks\": \"\"}}, \"type\": \"scatterpolar\"}], \"scatterpolargl\": [{\"marker\": {\"colorbar\": {\"outlinewidth\": 0, \"ticks\": \"\"}}, \"type\": \"scatterpolargl\"}], \"scatterternary\": [{\"marker\": {\"colorbar\": {\"outlinewidth\": 0, \"ticks\": \"\"}}, \"type\": \"scatterternary\"}], \"surface\": [{\"colorbar\": {\"outlinewidth\": 0, \"ticks\": \"\"}, \"colorscale\": [[0.0, \"#0d0887\"], [0.1111111111111111, \"#46039f\"], [0.2222222222222222, \"#7201a8\"], [0.3333333333333333, \"#9c179e\"], [0.4444444444444444, \"#bd3786\"], [0.5555555555555556, \"#d8576b\"], [0.6666666666666666, \"#ed7953\"], [0.7777777777777778, \"#fb9f3a\"], [0.8888888888888888, \"#fdca26\"], [1.0, \"#f0f921\"]], \"type\": \"surface\"}], \"table\": [{\"cells\": {\"fill\": {\"color\": \"#EBF0F8\"}, \"line\": {\"color\": \"white\"}}, \"header\": {\"fill\": {\"color\": \"#C8D4E3\"}, \"line\": {\"color\": \"white\"}}, \"type\": \"table\"}]}, \"layout\": {\"annotationdefaults\": {\"arrowcolor\": \"#2a3f5f\", \"arrowhead\": 0, \"arrowwidth\": 1}, \"coloraxis\": {\"colorbar\": {\"outlinewidth\": 0, \"ticks\": \"\"}}, \"colorscale\": {\"diverging\": [[0, \"#8e0152\"], [0.1, \"#c51b7d\"], [0.2, \"#de77ae\"], [0.3, \"#f1b6da\"], [0.4, \"#fde0ef\"], [0.5, \"#f7f7f7\"], [0.6, \"#e6f5d0\"], [0.7, \"#b8e186\"], [0.8, \"#7fbc41\"], [0.9, \"#4d9221\"], [1, \"#276419\"]], \"sequential\": [[0.0, \"#0d0887\"], [0.1111111111111111, \"#46039f\"], [0.2222222222222222, \"#7201a8\"], [0.3333333333333333, \"#9c179e\"], [0.4444444444444444, \"#bd3786\"], [0.5555555555555556, \"#d8576b\"], [0.6666666666666666, \"#ed7953\"], [0.7777777777777778, \"#fb9f3a\"], [0.8888888888888888, \"#fdca26\"], [1.0, \"#f0f921\"]], \"sequentialminus\": [[0.0, \"#0d0887\"], [0.1111111111111111, \"#46039f\"], [0.2222222222222222, \"#7201a8\"], [0.3333333333333333, \"#9c179e\"], [0.4444444444444444, \"#bd3786\"], [0.5555555555555556, \"#d8576b\"], [0.6666666666666666, \"#ed7953\"], [0.7777777777777778, \"#fb9f3a\"], [0.8888888888888888, \"#fdca26\"], [1.0, \"#f0f921\"]]}, \"colorway\": [\"#636efa\", \"#EF553B\", \"#00cc96\", \"#ab63fa\", \"#FFA15A\", \"#19d3f3\", \"#FF6692\", \"#B6E880\", \"#FF97FF\", \"#FECB52\"], \"font\": {\"color\": \"#2a3f5f\"}, \"geo\": {\"bgcolor\": \"white\", \"lakecolor\": \"white\", \"landcolor\": \"#E5ECF6\", \"showlakes\": true, \"showland\": true, \"subunitcolor\": \"white\"}, \"hoverlabel\": {\"align\": \"left\"}, \"hovermode\": \"closest\", \"mapbox\": {\"style\": \"light\"}, \"paper_bgcolor\": \"white\", \"plot_bgcolor\": \"#E5ECF6\", \"polar\": {\"angularaxis\": {\"gridcolor\": \"white\", \"linecolor\": \"white\", \"ticks\": \"\"}, \"bgcolor\": \"#E5ECF6\", \"radialaxis\": {\"gridcolor\": \"white\", \"linecolor\": \"white\", \"ticks\": \"\"}}, \"scene\": {\"xaxis\": {\"backgroundcolor\": \"#E5ECF6\", \"gridcolor\": \"white\", \"gridwidth\": 2, \"linecolor\": \"white\", \"showbackground\": true, \"ticks\": \"\", \"zerolinecolor\": \"white\"}, \"yaxis\": {\"backgroundcolor\": \"#E5ECF6\", \"gridcolor\": \"white\", \"gridwidth\": 2, \"linecolor\": \"white\", \"showbackground\": true, \"ticks\": \"\", \"zerolinecolor\": \"white\"}, \"zaxis\": {\"backgroundcolor\": \"#E5ECF6\", \"gridcolor\": \"white\", \"gridwidth\": 2, \"linecolor\": \"white\", \"showbackground\": true, \"ticks\": \"\", \"zerolinecolor\": \"white\"}}, \"shapedefaults\": {\"line\": {\"color\": \"#2a3f5f\"}}, \"ternary\": {\"aaxis\": {\"gridcolor\": \"white\", \"linecolor\": \"white\", \"ticks\": \"\"}, \"baxis\": {\"gridcolor\": \"white\", \"linecolor\": \"white\", \"ticks\": \"\"}, \"bgcolor\": \"#E5ECF6\", \"caxis\": {\"gridcolor\": \"white\", \"linecolor\": \"white\", \"ticks\": \"\"}}, \"title\": {\"x\": 0.05}, \"xaxis\": {\"automargin\": true, \"gridcolor\": \"white\", \"linecolor\": \"white\", \"ticks\": \"\", \"title\": {\"standoff\": 15}, \"zerolinecolor\": \"white\", \"zerolinewidth\": 2}, \"yaxis\": {\"automargin\": true, \"gridcolor\": \"white\", \"linecolor\": \"white\", \"ticks\": \"\", \"title\": {\"standoff\": 15}, \"zerolinecolor\": \"white\", \"zerolinewidth\": 2}}}, \"title\": {\"text\": \"Confusion Matrix (SVC)\", \"x\": 0.5}, \"width\": 400, \"xaxis\": {\"constrain\": \"domain\", \"dtick\": 1, \"scaleanchor\": \"y\", \"tick0\": 0, \"tickmode\": \"linear\", \"title\": {\"text\": \"Prediction\"}}, \"yaxis\": {\"autorange\": \"reversed\", \"constrain\": \"domain\", \"dtick\": 1, \"tick0\": 0, \"tickmode\": \"linear\", \"title\": {\"text\": \"Truth\"}}},\n",
              "                        {\"responsive\": true}\n",
              "                    ).then(function(){\n",
              "                            \n",
              "var gd = document.getElementById('5dc2b378-3a71-4d69-b878-39952289b6c4');\n",
              "var x = new MutationObserver(function (mutations, observer) {{\n",
              "        var display = window.getComputedStyle(gd).display;\n",
              "        if (!display || display === 'none') {{\n",
              "            console.log([gd, 'removed!']);\n",
              "            Plotly.purge(gd);\n",
              "            observer.disconnect();\n",
              "        }}\n",
              "}});\n",
              "\n",
              "// Listen for the removal of the full notebook cells\n",
              "var notebookContainer = gd.closest('#notebook-container');\n",
              "if (notebookContainer) {{\n",
              "    x.observe(notebookContainer, {childList: true});\n",
              "}}\n",
              "\n",
              "// Listen for the clearing of the current output cell\n",
              "var outputEl = gd.closest('.output');\n",
              "if (outputEl) {{\n",
              "    x.observe(outputEl, {childList: true});\n",
              "}}\n",
              "\n",
              "                        })\n",
              "                };\n",
              "                \n",
              "            </script>\n",
              "        </div>\n",
              "</body>\n",
              "</html>"
            ]
          },
          "metadata": {}
        }
      ]
    },
    {
      "cell_type": "markdown",
      "source": [
        "### Churn Prediction using KNN"
      ],
      "metadata": {
        "id": "KergaSANn6i0"
      }
    },
    {
      "cell_type": "code",
      "source": [
        "para_knn = {'n_neighbors':[7,11]}\n",
        "\n",
        "model_knn = GridSearchCV(estimator = KNeighborsClassifier(),\n",
        "                    param_grid = para_knn,\n",
        "                    cv=10,\n",
        "                    verbose=0,\n",
        "                    n_jobs=-1\n",
        "                   )\n",
        "\n",
        "model_knn.fit(train_X_re,train_y_re)"
      ],
      "metadata": {
        "colab": {
          "base_uri": "https://localhost:8080/"
        },
        "id": "TNB4OK64nzbU",
        "outputId": "db51a66b-b3fc-4998-b93d-746a7252c90d"
      },
      "execution_count": 47,
      "outputs": [
        {
          "output_type": "execute_result",
          "data": {
            "text/plain": [
              "GridSearchCV(cv=10, estimator=KNeighborsClassifier(), n_jobs=-1,\n",
              "             param_grid={'n_neighbors': [7, 11]})"
            ]
          },
          "metadata": {},
          "execution_count": 47
        }
      ]
    },
    {
      "cell_type": "code",
      "source": [
        "model_knn.best_params_"
      ],
      "metadata": {
        "colab": {
          "base_uri": "https://localhost:8080/"
        },
        "id": "QnbiAhMln_yL",
        "outputId": "83b0aa3e-a7dc-463d-dff8-2fc93cceca5a"
      },
      "execution_count": 48,
      "outputs": [
        {
          "output_type": "execute_result",
          "data": {
            "text/plain": [
              "{'n_neighbors': 7}"
            ]
          },
          "metadata": {},
          "execution_count": 48
        }
      ]
    },
    {
      "cell_type": "code",
      "source": [
        "cm_knn,cr_knn,auc_score_knn,_  = test_eval(model_knn,test_X,test_y)\n",
        "fpr_knn, tpr_knn, thresh_knn = roc_curve(test_y, model_knn.predict_proba(test_X)[:,1], pos_label = 1)\n",
        "precision_knn, recall_knn, _ = precision_recall_curve(test_y, model_knn.predict_proba(test_X)[:,1], pos_label=1)"
      ],
      "metadata": {
        "colab": {
          "base_uri": "https://localhost:8080/"
        },
        "id": "4IbXWDjnnzep",
        "outputId": "2a515295-f40d-4646-c7fe-2babfd97c987"
      },
      "execution_count": 49,
      "outputs": [
        {
          "output_type": "stream",
          "name": "stdout",
          "text": [
            "Confusion Matrix\n",
            "====================\n",
            "[[708 325]\n",
            " [ 96 278]] \n",
            "\n",
            "Classification Report\n",
            "====================\n",
            "              precision    recall  f1-score   support\n",
            "\n",
            "           0       0.88      0.69      0.77      1033\n",
            "           1       0.46      0.74      0.57       374\n",
            "\n",
            "    accuracy                           0.70      1407\n",
            "   macro avg       0.67      0.71      0.67      1407\n",
            "weighted avg       0.77      0.70      0.72      1407\n",
            "\n"
          ]
        }
      ]
    },
    {
      "cell_type": "code",
      "source": [
        "plot_cmatrix(cm_knn, name='KNN')"
      ],
      "metadata": {
        "colab": {
          "base_uri": "https://localhost:8080/",
          "height": 417
        },
        "id": "NOy7Tpo3oF_8",
        "outputId": "f66f8509-a966-4c02-e1da-32ce921b253a"
      },
      "execution_count": 50,
      "outputs": [
        {
          "output_type": "display_data",
          "data": {
            "text/html": [
              "<html>\n",
              "<head><meta charset=\"utf-8\" /></head>\n",
              "<body>\n",
              "    <div>\n",
              "            <script src=\"https://cdnjs.cloudflare.com/ajax/libs/mathjax/2.7.5/MathJax.js?config=TeX-AMS-MML_SVG\"></script><script type=\"text/javascript\">if (window.MathJax) {MathJax.Hub.Config({SVG: {font: \"STIX-Web\"}});}</script>\n",
              "                <script type=\"text/javascript\">window.PlotlyConfig = {MathJaxConfig: 'local'};</script>\n",
              "        <script src=\"https://cdn.plot.ly/plotly-latest.min.js\"></script>    \n",
              "            <div id=\"3fa3d215-e1a1-4dab-b602-c769b2831617\" class=\"plotly-graph-div\" style=\"height:400px; width:400px;\"></div>\n",
              "            <script type=\"text/javascript\">\n",
              "                \n",
              "                    window.PLOTLYENV=window.PLOTLYENV || {};\n",
              "                    \n",
              "                if (document.getElementById(\"3fa3d215-e1a1-4dab-b602-c769b2831617\")) {\n",
              "                    Plotly.newPlot(\n",
              "                        '3fa3d215-e1a1-4dab-b602-c769b2831617',\n",
              "                        [{\"coloraxis\": \"coloraxis\", \"type\": \"heatmap\", \"z\": [[708, 325], [96, 278]]}],\n",
              "                        {\"annotations\": [{\"font\": {\"color\": \"black\", \"size\": 12}, \"showarrow\": false, \"text\": \"708\", \"x\": 0, \"y\": 0}, {\"font\": {\"color\": \"black\", \"size\": 12}, \"showarrow\": false, \"text\": \"325\", \"x\": 1, \"y\": 0}, {\"font\": {\"color\": \"black\", \"size\": 12}, \"showarrow\": false, \"text\": \"96\", \"x\": 0, \"y\": 1}, {\"font\": {\"color\": \"black\", \"size\": 12}, \"showarrow\": false, \"text\": \"278\", \"x\": 1, \"y\": 1}], \"coloraxis\": {\"colorscale\": [[0.0, \"peachpuff\"], [0.5, \"lime\"], [1.0, \"green\"]]}, \"height\": 400, \"margin\": {\"t\": 60}, \"template\": {\"data\": {\"bar\": [{\"error_x\": {\"color\": \"#2a3f5f\"}, \"error_y\": {\"color\": \"#2a3f5f\"}, \"marker\": {\"line\": {\"color\": \"#E5ECF6\", \"width\": 0.5}}, \"type\": \"bar\"}], \"barpolar\": [{\"marker\": {\"line\": {\"color\": \"#E5ECF6\", \"width\": 0.5}}, \"type\": \"barpolar\"}], \"carpet\": [{\"aaxis\": {\"endlinecolor\": \"#2a3f5f\", \"gridcolor\": \"white\", \"linecolor\": \"white\", \"minorgridcolor\": \"white\", \"startlinecolor\": \"#2a3f5f\"}, \"baxis\": {\"endlinecolor\": \"#2a3f5f\", \"gridcolor\": \"white\", \"linecolor\": \"white\", \"minorgridcolor\": \"white\", \"startlinecolor\": \"#2a3f5f\"}, \"type\": \"carpet\"}], \"choropleth\": [{\"colorbar\": {\"outlinewidth\": 0, \"ticks\": \"\"}, \"type\": \"choropleth\"}], \"contour\": [{\"colorbar\": {\"outlinewidth\": 0, \"ticks\": \"\"}, \"colorscale\": [[0.0, \"#0d0887\"], [0.1111111111111111, \"#46039f\"], [0.2222222222222222, \"#7201a8\"], [0.3333333333333333, \"#9c179e\"], [0.4444444444444444, \"#bd3786\"], [0.5555555555555556, \"#d8576b\"], [0.6666666666666666, \"#ed7953\"], [0.7777777777777778, \"#fb9f3a\"], [0.8888888888888888, \"#fdca26\"], [1.0, \"#f0f921\"]], \"type\": \"contour\"}], \"contourcarpet\": [{\"colorbar\": {\"outlinewidth\": 0, \"ticks\": \"\"}, \"type\": \"contourcarpet\"}], \"heatmap\": [{\"colorbar\": {\"outlinewidth\": 0, \"ticks\": \"\"}, \"colorscale\": [[0.0, \"#0d0887\"], [0.1111111111111111, \"#46039f\"], [0.2222222222222222, \"#7201a8\"], [0.3333333333333333, \"#9c179e\"], [0.4444444444444444, \"#bd3786\"], [0.5555555555555556, \"#d8576b\"], [0.6666666666666666, \"#ed7953\"], [0.7777777777777778, \"#fb9f3a\"], [0.8888888888888888, \"#fdca26\"], [1.0, \"#f0f921\"]], \"type\": \"heatmap\"}], \"heatmapgl\": [{\"colorbar\": {\"outlinewidth\": 0, \"ticks\": \"\"}, \"colorscale\": [[0.0, \"#0d0887\"], [0.1111111111111111, \"#46039f\"], [0.2222222222222222, \"#7201a8\"], [0.3333333333333333, \"#9c179e\"], [0.4444444444444444, \"#bd3786\"], [0.5555555555555556, \"#d8576b\"], [0.6666666666666666, \"#ed7953\"], [0.7777777777777778, \"#fb9f3a\"], [0.8888888888888888, \"#fdca26\"], [1.0, \"#f0f921\"]], \"type\": \"heatmapgl\"}], \"histogram\": [{\"marker\": {\"colorbar\": {\"outlinewidth\": 0, \"ticks\": \"\"}}, \"type\": \"histogram\"}], \"histogram2d\": [{\"colorbar\": {\"outlinewidth\": 0, \"ticks\": \"\"}, \"colorscale\": [[0.0, \"#0d0887\"], [0.1111111111111111, \"#46039f\"], [0.2222222222222222, \"#7201a8\"], [0.3333333333333333, \"#9c179e\"], [0.4444444444444444, \"#bd3786\"], [0.5555555555555556, \"#d8576b\"], [0.6666666666666666, \"#ed7953\"], [0.7777777777777778, \"#fb9f3a\"], [0.8888888888888888, \"#fdca26\"], [1.0, \"#f0f921\"]], \"type\": \"histogram2d\"}], \"histogram2dcontour\": [{\"colorbar\": {\"outlinewidth\": 0, \"ticks\": \"\"}, \"colorscale\": [[0.0, \"#0d0887\"], [0.1111111111111111, \"#46039f\"], [0.2222222222222222, \"#7201a8\"], [0.3333333333333333, \"#9c179e\"], [0.4444444444444444, \"#bd3786\"], [0.5555555555555556, \"#d8576b\"], [0.6666666666666666, \"#ed7953\"], [0.7777777777777778, \"#fb9f3a\"], [0.8888888888888888, \"#fdca26\"], [1.0, \"#f0f921\"]], \"type\": \"histogram2dcontour\"}], \"mesh3d\": [{\"colorbar\": {\"outlinewidth\": 0, \"ticks\": \"\"}, \"type\": \"mesh3d\"}], \"parcoords\": [{\"line\": {\"colorbar\": {\"outlinewidth\": 0, \"ticks\": \"\"}}, \"type\": \"parcoords\"}], \"pie\": [{\"automargin\": true, \"type\": \"pie\"}], \"scatter\": [{\"marker\": {\"colorbar\": {\"outlinewidth\": 0, \"ticks\": \"\"}}, \"type\": \"scatter\"}], \"scatter3d\": [{\"line\": {\"colorbar\": {\"outlinewidth\": 0, \"ticks\": \"\"}}, \"marker\": {\"colorbar\": {\"outlinewidth\": 0, \"ticks\": \"\"}}, \"type\": \"scatter3d\"}], \"scattercarpet\": [{\"marker\": {\"colorbar\": {\"outlinewidth\": 0, \"ticks\": \"\"}}, \"type\": \"scattercarpet\"}], \"scattergeo\": [{\"marker\": {\"colorbar\": {\"outlinewidth\": 0, \"ticks\": \"\"}}, \"type\": \"scattergeo\"}], \"scattergl\": [{\"marker\": {\"colorbar\": {\"outlinewidth\": 0, \"ticks\": \"\"}}, \"type\": \"scattergl\"}], \"scattermapbox\": [{\"marker\": {\"colorbar\": {\"outlinewidth\": 0, \"ticks\": \"\"}}, \"type\": \"scattermapbox\"}], \"scatterpolar\": [{\"marker\": {\"colorbar\": {\"outlinewidth\": 0, \"ticks\": \"\"}}, \"type\": \"scatterpolar\"}], \"scatterpolargl\": [{\"marker\": {\"colorbar\": {\"outlinewidth\": 0, \"ticks\": \"\"}}, \"type\": \"scatterpolargl\"}], \"scatterternary\": [{\"marker\": {\"colorbar\": {\"outlinewidth\": 0, \"ticks\": \"\"}}, \"type\": \"scatterternary\"}], \"surface\": [{\"colorbar\": {\"outlinewidth\": 0, \"ticks\": \"\"}, \"colorscale\": [[0.0, \"#0d0887\"], [0.1111111111111111, \"#46039f\"], [0.2222222222222222, \"#7201a8\"], [0.3333333333333333, \"#9c179e\"], [0.4444444444444444, \"#bd3786\"], [0.5555555555555556, \"#d8576b\"], [0.6666666666666666, \"#ed7953\"], [0.7777777777777778, \"#fb9f3a\"], [0.8888888888888888, \"#fdca26\"], [1.0, \"#f0f921\"]], \"type\": \"surface\"}], \"table\": [{\"cells\": {\"fill\": {\"color\": \"#EBF0F8\"}, \"line\": {\"color\": \"white\"}}, \"header\": {\"fill\": {\"color\": \"#C8D4E3\"}, \"line\": {\"color\": \"white\"}}, \"type\": \"table\"}]}, \"layout\": {\"annotationdefaults\": {\"arrowcolor\": \"#2a3f5f\", \"arrowhead\": 0, \"arrowwidth\": 1}, \"coloraxis\": {\"colorbar\": {\"outlinewidth\": 0, \"ticks\": \"\"}}, \"colorscale\": {\"diverging\": [[0, \"#8e0152\"], [0.1, \"#c51b7d\"], [0.2, \"#de77ae\"], [0.3, \"#f1b6da\"], [0.4, \"#fde0ef\"], [0.5, \"#f7f7f7\"], [0.6, \"#e6f5d0\"], [0.7, \"#b8e186\"], [0.8, \"#7fbc41\"], [0.9, \"#4d9221\"], [1, \"#276419\"]], \"sequential\": [[0.0, \"#0d0887\"], [0.1111111111111111, \"#46039f\"], [0.2222222222222222, \"#7201a8\"], [0.3333333333333333, \"#9c179e\"], [0.4444444444444444, \"#bd3786\"], [0.5555555555555556, \"#d8576b\"], [0.6666666666666666, \"#ed7953\"], [0.7777777777777778, \"#fb9f3a\"], [0.8888888888888888, \"#fdca26\"], [1.0, \"#f0f921\"]], \"sequentialminus\": [[0.0, \"#0d0887\"], [0.1111111111111111, \"#46039f\"], [0.2222222222222222, \"#7201a8\"], [0.3333333333333333, \"#9c179e\"], [0.4444444444444444, \"#bd3786\"], [0.5555555555555556, \"#d8576b\"], [0.6666666666666666, \"#ed7953\"], [0.7777777777777778, \"#fb9f3a\"], [0.8888888888888888, \"#fdca26\"], [1.0, \"#f0f921\"]]}, \"colorway\": [\"#636efa\", \"#EF553B\", \"#00cc96\", \"#ab63fa\", \"#FFA15A\", \"#19d3f3\", \"#FF6692\", \"#B6E880\", \"#FF97FF\", \"#FECB52\"], \"font\": {\"color\": \"#2a3f5f\"}, \"geo\": {\"bgcolor\": \"white\", \"lakecolor\": \"white\", \"landcolor\": \"#E5ECF6\", \"showlakes\": true, \"showland\": true, \"subunitcolor\": \"white\"}, \"hoverlabel\": {\"align\": \"left\"}, \"hovermode\": \"closest\", \"mapbox\": {\"style\": \"light\"}, \"paper_bgcolor\": \"white\", \"plot_bgcolor\": \"#E5ECF6\", \"polar\": {\"angularaxis\": {\"gridcolor\": \"white\", \"linecolor\": \"white\", \"ticks\": \"\"}, \"bgcolor\": \"#E5ECF6\", \"radialaxis\": {\"gridcolor\": \"white\", \"linecolor\": \"white\", \"ticks\": \"\"}}, \"scene\": {\"xaxis\": {\"backgroundcolor\": \"#E5ECF6\", \"gridcolor\": \"white\", \"gridwidth\": 2, \"linecolor\": \"white\", \"showbackground\": true, \"ticks\": \"\", \"zerolinecolor\": \"white\"}, \"yaxis\": {\"backgroundcolor\": \"#E5ECF6\", \"gridcolor\": \"white\", \"gridwidth\": 2, \"linecolor\": \"white\", \"showbackground\": true, \"ticks\": \"\", \"zerolinecolor\": \"white\"}, \"zaxis\": {\"backgroundcolor\": \"#E5ECF6\", \"gridcolor\": \"white\", \"gridwidth\": 2, \"linecolor\": \"white\", \"showbackground\": true, \"ticks\": \"\", \"zerolinecolor\": \"white\"}}, \"shapedefaults\": {\"line\": {\"color\": \"#2a3f5f\"}}, \"ternary\": {\"aaxis\": {\"gridcolor\": \"white\", \"linecolor\": \"white\", \"ticks\": \"\"}, \"baxis\": {\"gridcolor\": \"white\", \"linecolor\": \"white\", \"ticks\": \"\"}, \"bgcolor\": \"#E5ECF6\", \"caxis\": {\"gridcolor\": \"white\", \"linecolor\": \"white\", \"ticks\": \"\"}}, \"title\": {\"x\": 0.05}, \"xaxis\": {\"automargin\": true, \"gridcolor\": \"white\", \"linecolor\": \"white\", \"ticks\": \"\", \"title\": {\"standoff\": 15}, \"zerolinecolor\": \"white\", \"zerolinewidth\": 2}, \"yaxis\": {\"automargin\": true, \"gridcolor\": \"white\", \"linecolor\": \"white\", \"ticks\": \"\", \"title\": {\"standoff\": 15}, \"zerolinecolor\": \"white\", \"zerolinewidth\": 2}}}, \"title\": {\"text\": \"Confusion Matrix (KNN)\", \"x\": 0.5}, \"width\": 400, \"xaxis\": {\"constrain\": \"domain\", \"dtick\": 1, \"scaleanchor\": \"y\", \"tick0\": 0, \"tickmode\": \"linear\", \"title\": {\"text\": \"Prediction\"}}, \"yaxis\": {\"autorange\": \"reversed\", \"constrain\": \"domain\", \"dtick\": 1, \"tick0\": 0, \"tickmode\": \"linear\", \"title\": {\"text\": \"Truth\"}}},\n",
              "                        {\"responsive\": true}\n",
              "                    ).then(function(){\n",
              "                            \n",
              "var gd = document.getElementById('3fa3d215-e1a1-4dab-b602-c769b2831617');\n",
              "var x = new MutationObserver(function (mutations, observer) {{\n",
              "        var display = window.getComputedStyle(gd).display;\n",
              "        if (!display || display === 'none') {{\n",
              "            console.log([gd, 'removed!']);\n",
              "            Plotly.purge(gd);\n",
              "            observer.disconnect();\n",
              "        }}\n",
              "}});\n",
              "\n",
              "// Listen for the removal of the full notebook cells\n",
              "var notebookContainer = gd.closest('#notebook-container');\n",
              "if (notebookContainer) {{\n",
              "    x.observe(notebookContainer, {childList: true});\n",
              "}}\n",
              "\n",
              "// Listen for the clearing of the current output cell\n",
              "var outputEl = gd.closest('.output');\n",
              "if (outputEl) {{\n",
              "    x.observe(outputEl, {childList: true});\n",
              "}}\n",
              "\n",
              "                        })\n",
              "                };\n",
              "                \n",
              "            </script>\n",
              "        </div>\n",
              "</body>\n",
              "</html>"
            ]
          },
          "metadata": {}
        }
      ]
    },
    {
      "cell_type": "markdown",
      "source": [
        "### Churn Prediction using Decision Tree"
      ],
      "metadata": {
        "id": "pofmbkBgoNu9"
      }
    },
    {
      "cell_type": "code",
      "source": [
        "para_dt = {'max_depth':[7,10,15]}\n",
        "\n",
        "model_dt = GridSearchCV(estimator = DecisionTreeClassifier(),\n",
        "                    param_grid = para_dt,\n",
        "                    cv=10,\n",
        "                    verbose=0,\n",
        "                    n_jobs=-1\n",
        "                   )\n",
        "\n",
        "model_dt.fit(train_X_re,train_y_re)"
      ],
      "metadata": {
        "colab": {
          "base_uri": "https://localhost:8080/"
        },
        "id": "7OkD23bhoKRh",
        "outputId": "92043e9f-1cf0-43bb-9b8a-9ba995bb51e1"
      },
      "execution_count": 51,
      "outputs": [
        {
          "output_type": "execute_result",
          "data": {
            "text/plain": [
              "GridSearchCV(cv=10, estimator=DecisionTreeClassifier(), n_jobs=-1,\n",
              "             param_grid={'max_depth': [7, 10, 15]})"
            ]
          },
          "metadata": {},
          "execution_count": 51
        }
      ]
    },
    {
      "cell_type": "code",
      "source": [
        "model_dt.best_params_"
      ],
      "metadata": {
        "colab": {
          "base_uri": "https://localhost:8080/"
        },
        "id": "Xk2cPCPBoKU1",
        "outputId": "41c67a09-4818-4b8a-ff83-32387f3398df"
      },
      "execution_count": 52,
      "outputs": [
        {
          "output_type": "execute_result",
          "data": {
            "text/plain": [
              "{'max_depth': 15}"
            ]
          },
          "metadata": {},
          "execution_count": 52
        }
      ]
    },
    {
      "cell_type": "code",
      "source": [
        "cm_dt,cr_dt,auc_score_dt,_  = test_eval(model_dt,test_X,test_y)\n",
        "fpr_dt, tpr_dt, thresh_dt = roc_curve(test_y, model_dt.predict_proba(test_X)[:,1], pos_label = 1)\n",
        "precision_dt, recall_dt, _ = precision_recall_curve(test_y, model_dt.predict_proba(test_X)[:,1],pos_label=1)"
      ],
      "metadata": {
        "colab": {
          "base_uri": "https://localhost:8080/"
        },
        "id": "gzhfx460oXCu",
        "outputId": "18da5865-e44f-4ae4-9d05-66febba729fe"
      },
      "execution_count": 53,
      "outputs": [
        {
          "output_type": "stream",
          "name": "stdout",
          "text": [
            "Confusion Matrix\n",
            "====================\n",
            "[[760 273]\n",
            " [122 252]] \n",
            "\n",
            "Classification Report\n",
            "====================\n",
            "              precision    recall  f1-score   support\n",
            "\n",
            "           0       0.86      0.74      0.79      1033\n",
            "           1       0.48      0.67      0.56       374\n",
            "\n",
            "    accuracy                           0.72      1407\n",
            "   macro avg       0.67      0.70      0.68      1407\n",
            "weighted avg       0.76      0.72      0.73      1407\n",
            "\n"
          ]
        }
      ]
    },
    {
      "cell_type": "code",
      "source": [
        "plot_cmatrix(cm_dt, name='DT')"
      ],
      "metadata": {
        "colab": {
          "base_uri": "https://localhost:8080/",
          "height": 417
        },
        "id": "fsYLhABRoXGF",
        "outputId": "c68d59d8-1120-4d91-c9d6-d06b08adc7ab"
      },
      "execution_count": 54,
      "outputs": [
        {
          "output_type": "display_data",
          "data": {
            "text/html": [
              "<html>\n",
              "<head><meta charset=\"utf-8\" /></head>\n",
              "<body>\n",
              "    <div>\n",
              "            <script src=\"https://cdnjs.cloudflare.com/ajax/libs/mathjax/2.7.5/MathJax.js?config=TeX-AMS-MML_SVG\"></script><script type=\"text/javascript\">if (window.MathJax) {MathJax.Hub.Config({SVG: {font: \"STIX-Web\"}});}</script>\n",
              "                <script type=\"text/javascript\">window.PlotlyConfig = {MathJaxConfig: 'local'};</script>\n",
              "        <script src=\"https://cdn.plot.ly/plotly-latest.min.js\"></script>    \n",
              "            <div id=\"6076c115-0ca0-4139-8efe-f18e16751e86\" class=\"plotly-graph-div\" style=\"height:400px; width:400px;\"></div>\n",
              "            <script type=\"text/javascript\">\n",
              "                \n",
              "                    window.PLOTLYENV=window.PLOTLYENV || {};\n",
              "                    \n",
              "                if (document.getElementById(\"6076c115-0ca0-4139-8efe-f18e16751e86\")) {\n",
              "                    Plotly.newPlot(\n",
              "                        '6076c115-0ca0-4139-8efe-f18e16751e86',\n",
              "                        [{\"coloraxis\": \"coloraxis\", \"type\": \"heatmap\", \"z\": [[760, 273], [122, 252]]}],\n",
              "                        {\"annotations\": [{\"font\": {\"color\": \"black\", \"size\": 12}, \"showarrow\": false, \"text\": \"760\", \"x\": 0, \"y\": 0}, {\"font\": {\"color\": \"black\", \"size\": 12}, \"showarrow\": false, \"text\": \"273\", \"x\": 1, \"y\": 0}, {\"font\": {\"color\": \"black\", \"size\": 12}, \"showarrow\": false, \"text\": \"122\", \"x\": 0, \"y\": 1}, {\"font\": {\"color\": \"black\", \"size\": 12}, \"showarrow\": false, \"text\": \"252\", \"x\": 1, \"y\": 1}], \"coloraxis\": {\"colorscale\": [[0.0, \"peachpuff\"], [0.5, \"lime\"], [1.0, \"green\"]]}, \"height\": 400, \"margin\": {\"t\": 60}, \"template\": {\"data\": {\"bar\": [{\"error_x\": {\"color\": \"#2a3f5f\"}, \"error_y\": {\"color\": \"#2a3f5f\"}, \"marker\": {\"line\": {\"color\": \"#E5ECF6\", \"width\": 0.5}}, \"type\": \"bar\"}], \"barpolar\": [{\"marker\": {\"line\": {\"color\": \"#E5ECF6\", \"width\": 0.5}}, \"type\": \"barpolar\"}], \"carpet\": [{\"aaxis\": {\"endlinecolor\": \"#2a3f5f\", \"gridcolor\": \"white\", \"linecolor\": \"white\", \"minorgridcolor\": \"white\", \"startlinecolor\": \"#2a3f5f\"}, \"baxis\": {\"endlinecolor\": \"#2a3f5f\", \"gridcolor\": \"white\", \"linecolor\": \"white\", \"minorgridcolor\": \"white\", \"startlinecolor\": \"#2a3f5f\"}, \"type\": \"carpet\"}], \"choropleth\": [{\"colorbar\": {\"outlinewidth\": 0, \"ticks\": \"\"}, \"type\": \"choropleth\"}], \"contour\": [{\"colorbar\": {\"outlinewidth\": 0, \"ticks\": \"\"}, \"colorscale\": [[0.0, \"#0d0887\"], [0.1111111111111111, \"#46039f\"], [0.2222222222222222, \"#7201a8\"], [0.3333333333333333, \"#9c179e\"], [0.4444444444444444, \"#bd3786\"], [0.5555555555555556, \"#d8576b\"], [0.6666666666666666, \"#ed7953\"], [0.7777777777777778, \"#fb9f3a\"], [0.8888888888888888, \"#fdca26\"], [1.0, \"#f0f921\"]], \"type\": \"contour\"}], \"contourcarpet\": [{\"colorbar\": {\"outlinewidth\": 0, \"ticks\": \"\"}, \"type\": \"contourcarpet\"}], \"heatmap\": [{\"colorbar\": {\"outlinewidth\": 0, \"ticks\": \"\"}, \"colorscale\": [[0.0, \"#0d0887\"], [0.1111111111111111, \"#46039f\"], [0.2222222222222222, \"#7201a8\"], [0.3333333333333333, \"#9c179e\"], [0.4444444444444444, \"#bd3786\"], [0.5555555555555556, \"#d8576b\"], [0.6666666666666666, \"#ed7953\"], [0.7777777777777778, \"#fb9f3a\"], [0.8888888888888888, \"#fdca26\"], [1.0, \"#f0f921\"]], \"type\": \"heatmap\"}], \"heatmapgl\": [{\"colorbar\": {\"outlinewidth\": 0, \"ticks\": \"\"}, \"colorscale\": [[0.0, \"#0d0887\"], [0.1111111111111111, \"#46039f\"], [0.2222222222222222, \"#7201a8\"], [0.3333333333333333, \"#9c179e\"], [0.4444444444444444, \"#bd3786\"], [0.5555555555555556, \"#d8576b\"], [0.6666666666666666, \"#ed7953\"], [0.7777777777777778, \"#fb9f3a\"], [0.8888888888888888, \"#fdca26\"], [1.0, \"#f0f921\"]], \"type\": \"heatmapgl\"}], \"histogram\": [{\"marker\": {\"colorbar\": {\"outlinewidth\": 0, \"ticks\": \"\"}}, \"type\": \"histogram\"}], \"histogram2d\": [{\"colorbar\": {\"outlinewidth\": 0, \"ticks\": \"\"}, \"colorscale\": [[0.0, \"#0d0887\"], [0.1111111111111111, \"#46039f\"], [0.2222222222222222, \"#7201a8\"], [0.3333333333333333, \"#9c179e\"], [0.4444444444444444, \"#bd3786\"], [0.5555555555555556, \"#d8576b\"], [0.6666666666666666, \"#ed7953\"], [0.7777777777777778, \"#fb9f3a\"], [0.8888888888888888, \"#fdca26\"], [1.0, \"#f0f921\"]], \"type\": \"histogram2d\"}], \"histogram2dcontour\": [{\"colorbar\": {\"outlinewidth\": 0, \"ticks\": \"\"}, \"colorscale\": [[0.0, \"#0d0887\"], [0.1111111111111111, \"#46039f\"], [0.2222222222222222, \"#7201a8\"], [0.3333333333333333, \"#9c179e\"], [0.4444444444444444, \"#bd3786\"], [0.5555555555555556, \"#d8576b\"], [0.6666666666666666, \"#ed7953\"], [0.7777777777777778, \"#fb9f3a\"], [0.8888888888888888, \"#fdca26\"], [1.0, \"#f0f921\"]], \"type\": \"histogram2dcontour\"}], \"mesh3d\": [{\"colorbar\": {\"outlinewidth\": 0, \"ticks\": \"\"}, \"type\": \"mesh3d\"}], \"parcoords\": [{\"line\": {\"colorbar\": {\"outlinewidth\": 0, \"ticks\": \"\"}}, \"type\": \"parcoords\"}], \"pie\": [{\"automargin\": true, \"type\": \"pie\"}], \"scatter\": [{\"marker\": {\"colorbar\": {\"outlinewidth\": 0, \"ticks\": \"\"}}, \"type\": \"scatter\"}], \"scatter3d\": [{\"line\": {\"colorbar\": {\"outlinewidth\": 0, \"ticks\": \"\"}}, \"marker\": {\"colorbar\": {\"outlinewidth\": 0, \"ticks\": \"\"}}, \"type\": \"scatter3d\"}], \"scattercarpet\": [{\"marker\": {\"colorbar\": {\"outlinewidth\": 0, \"ticks\": \"\"}}, \"type\": \"scattercarpet\"}], \"scattergeo\": [{\"marker\": {\"colorbar\": {\"outlinewidth\": 0, \"ticks\": \"\"}}, \"type\": \"scattergeo\"}], \"scattergl\": [{\"marker\": {\"colorbar\": {\"outlinewidth\": 0, \"ticks\": \"\"}}, \"type\": \"scattergl\"}], \"scattermapbox\": [{\"marker\": {\"colorbar\": {\"outlinewidth\": 0, \"ticks\": \"\"}}, \"type\": \"scattermapbox\"}], \"scatterpolar\": [{\"marker\": {\"colorbar\": {\"outlinewidth\": 0, \"ticks\": \"\"}}, \"type\": \"scatterpolar\"}], \"scatterpolargl\": [{\"marker\": {\"colorbar\": {\"outlinewidth\": 0, \"ticks\": \"\"}}, \"type\": \"scatterpolargl\"}], \"scatterternary\": [{\"marker\": {\"colorbar\": {\"outlinewidth\": 0, \"ticks\": \"\"}}, \"type\": \"scatterternary\"}], \"surface\": [{\"colorbar\": {\"outlinewidth\": 0, \"ticks\": \"\"}, \"colorscale\": [[0.0, \"#0d0887\"], [0.1111111111111111, \"#46039f\"], [0.2222222222222222, \"#7201a8\"], [0.3333333333333333, \"#9c179e\"], [0.4444444444444444, \"#bd3786\"], [0.5555555555555556, \"#d8576b\"], [0.6666666666666666, \"#ed7953\"], [0.7777777777777778, \"#fb9f3a\"], [0.8888888888888888, \"#fdca26\"], [1.0, \"#f0f921\"]], \"type\": \"surface\"}], \"table\": [{\"cells\": {\"fill\": {\"color\": \"#EBF0F8\"}, \"line\": {\"color\": \"white\"}}, \"header\": {\"fill\": {\"color\": \"#C8D4E3\"}, \"line\": {\"color\": \"white\"}}, \"type\": \"table\"}]}, \"layout\": {\"annotationdefaults\": {\"arrowcolor\": \"#2a3f5f\", \"arrowhead\": 0, \"arrowwidth\": 1}, \"coloraxis\": {\"colorbar\": {\"outlinewidth\": 0, \"ticks\": \"\"}}, \"colorscale\": {\"diverging\": [[0, \"#8e0152\"], [0.1, \"#c51b7d\"], [0.2, \"#de77ae\"], [0.3, \"#f1b6da\"], [0.4, \"#fde0ef\"], [0.5, \"#f7f7f7\"], [0.6, \"#e6f5d0\"], [0.7, \"#b8e186\"], [0.8, \"#7fbc41\"], [0.9, \"#4d9221\"], [1, \"#276419\"]], \"sequential\": [[0.0, \"#0d0887\"], [0.1111111111111111, \"#46039f\"], [0.2222222222222222, \"#7201a8\"], [0.3333333333333333, \"#9c179e\"], [0.4444444444444444, \"#bd3786\"], [0.5555555555555556, \"#d8576b\"], [0.6666666666666666, \"#ed7953\"], [0.7777777777777778, \"#fb9f3a\"], [0.8888888888888888, \"#fdca26\"], [1.0, \"#f0f921\"]], \"sequentialminus\": [[0.0, \"#0d0887\"], [0.1111111111111111, \"#46039f\"], [0.2222222222222222, \"#7201a8\"], [0.3333333333333333, \"#9c179e\"], [0.4444444444444444, \"#bd3786\"], [0.5555555555555556, \"#d8576b\"], [0.6666666666666666, \"#ed7953\"], [0.7777777777777778, \"#fb9f3a\"], [0.8888888888888888, \"#fdca26\"], [1.0, \"#f0f921\"]]}, \"colorway\": [\"#636efa\", \"#EF553B\", \"#00cc96\", \"#ab63fa\", \"#FFA15A\", \"#19d3f3\", \"#FF6692\", \"#B6E880\", \"#FF97FF\", \"#FECB52\"], \"font\": {\"color\": \"#2a3f5f\"}, \"geo\": {\"bgcolor\": \"white\", \"lakecolor\": \"white\", \"landcolor\": \"#E5ECF6\", \"showlakes\": true, \"showland\": true, \"subunitcolor\": \"white\"}, \"hoverlabel\": {\"align\": \"left\"}, \"hovermode\": \"closest\", \"mapbox\": {\"style\": \"light\"}, \"paper_bgcolor\": \"white\", \"plot_bgcolor\": \"#E5ECF6\", \"polar\": {\"angularaxis\": {\"gridcolor\": \"white\", \"linecolor\": \"white\", \"ticks\": \"\"}, \"bgcolor\": \"#E5ECF6\", \"radialaxis\": {\"gridcolor\": \"white\", \"linecolor\": \"white\", \"ticks\": \"\"}}, \"scene\": {\"xaxis\": {\"backgroundcolor\": \"#E5ECF6\", \"gridcolor\": \"white\", \"gridwidth\": 2, \"linecolor\": \"white\", \"showbackground\": true, \"ticks\": \"\", \"zerolinecolor\": \"white\"}, \"yaxis\": {\"backgroundcolor\": \"#E5ECF6\", \"gridcolor\": \"white\", \"gridwidth\": 2, \"linecolor\": \"white\", \"showbackground\": true, \"ticks\": \"\", \"zerolinecolor\": \"white\"}, \"zaxis\": {\"backgroundcolor\": \"#E5ECF6\", \"gridcolor\": \"white\", \"gridwidth\": 2, \"linecolor\": \"white\", \"showbackground\": true, \"ticks\": \"\", \"zerolinecolor\": \"white\"}}, \"shapedefaults\": {\"line\": {\"color\": \"#2a3f5f\"}}, \"ternary\": {\"aaxis\": {\"gridcolor\": \"white\", \"linecolor\": \"white\", \"ticks\": \"\"}, \"baxis\": {\"gridcolor\": \"white\", \"linecolor\": \"white\", \"ticks\": \"\"}, \"bgcolor\": \"#E5ECF6\", \"caxis\": {\"gridcolor\": \"white\", \"linecolor\": \"white\", \"ticks\": \"\"}}, \"title\": {\"x\": 0.05}, \"xaxis\": {\"automargin\": true, \"gridcolor\": \"white\", \"linecolor\": \"white\", \"ticks\": \"\", \"title\": {\"standoff\": 15}, \"zerolinecolor\": \"white\", \"zerolinewidth\": 2}, \"yaxis\": {\"automargin\": true, \"gridcolor\": \"white\", \"linecolor\": \"white\", \"ticks\": \"\", \"title\": {\"standoff\": 15}, \"zerolinecolor\": \"white\", \"zerolinewidth\": 2}}}, \"title\": {\"text\": \"Confusion Matrix (DT)\", \"x\": 0.5}, \"width\": 400, \"xaxis\": {\"constrain\": \"domain\", \"dtick\": 1, \"scaleanchor\": \"y\", \"tick0\": 0, \"tickmode\": \"linear\", \"title\": {\"text\": \"Prediction\"}}, \"yaxis\": {\"autorange\": \"reversed\", \"constrain\": \"domain\", \"dtick\": 1, \"tick0\": 0, \"tickmode\": \"linear\", \"title\": {\"text\": \"Truth\"}}},\n",
              "                        {\"responsive\": true}\n",
              "                    ).then(function(){\n",
              "                            \n",
              "var gd = document.getElementById('6076c115-0ca0-4139-8efe-f18e16751e86');\n",
              "var x = new MutationObserver(function (mutations, observer) {{\n",
              "        var display = window.getComputedStyle(gd).display;\n",
              "        if (!display || display === 'none') {{\n",
              "            console.log([gd, 'removed!']);\n",
              "            Plotly.purge(gd);\n",
              "            observer.disconnect();\n",
              "        }}\n",
              "}});\n",
              "\n",
              "// Listen for the removal of the full notebook cells\n",
              "var notebookContainer = gd.closest('#notebook-container');\n",
              "if (notebookContainer) {{\n",
              "    x.observe(notebookContainer, {childList: true});\n",
              "}}\n",
              "\n",
              "// Listen for the clearing of the current output cell\n",
              "var outputEl = gd.closest('.output');\n",
              "if (outputEl) {{\n",
              "    x.observe(outputEl, {childList: true});\n",
              "}}\n",
              "\n",
              "                        })\n",
              "                };\n",
              "                \n",
              "            </script>\n",
              "        </div>\n",
              "</body>\n",
              "</html>"
            ]
          },
          "metadata": {}
        }
      ]
    },
    {
      "cell_type": "markdown",
      "source": [
        "## Ensemble Algorithms\n",
        "\n",
        "### Churn Prediction using Random Forest "
      ],
      "metadata": {
        "id": "iI_dFjVxoeY3"
      }
    },
    {
      "cell_type": "code",
      "source": [
        "para_rf = { \"max_depth\": [5,10,20],\n",
        "           \"n_estimators\":[50, 150],\n",
        "           \"min_samples_split\": [2, 5, 10],\n",
        "           \"min_samples_leaf\" : [1, 2, 10] \n",
        "          }\n",
        "model_rf = GridSearchCV(estimator = RandomForestClassifier(),\n",
        "                    param_grid = para_rf,\n",
        "                    cv=10,\n",
        "                    verbose=0,\n",
        "                    n_jobs=-1\n",
        "                   )\n",
        "\n",
        "model_rf.fit(train_X_re,train_y_re)"
      ],
      "metadata": {
        "colab": {
          "base_uri": "https://localhost:8080/"
        },
        "id": "zAJEX8ZXobJF",
        "outputId": "d04ba987-af87-4744-b289-2aae1bf4d459"
      },
      "execution_count": 55,
      "outputs": [
        {
          "output_type": "execute_result",
          "data": {
            "text/plain": [
              "GridSearchCV(cv=10, estimator=RandomForestClassifier(), n_jobs=-1,\n",
              "             param_grid={'max_depth': [5, 10, 20],\n",
              "                         'min_samples_leaf': [1, 2, 10],\n",
              "                         'min_samples_split': [2, 5, 10],\n",
              "                         'n_estimators': [50, 150]})"
            ]
          },
          "metadata": {},
          "execution_count": 55
        }
      ]
    },
    {
      "cell_type": "code",
      "source": [
        "model_rf.best_params_"
      ],
      "metadata": {
        "colab": {
          "base_uri": "https://localhost:8080/"
        },
        "id": "MbdduExGobML",
        "outputId": "ed7aa5ac-b986-4bcf-ab7e-762e6455a5fc"
      },
      "execution_count": 56,
      "outputs": [
        {
          "output_type": "execute_result",
          "data": {
            "text/plain": [
              "{'max_depth': 20,\n",
              " 'min_samples_leaf': 1,\n",
              " 'min_samples_split': 2,\n",
              " 'n_estimators': 150}"
            ]
          },
          "metadata": {},
          "execution_count": 56
        }
      ]
    },
    {
      "cell_type": "code",
      "source": [
        "cm_rf,cr_rf,auc_score_rf,_  = test_eval(model_rf,test_X,test_y)\n",
        "fpr_rf, tpr_rf, thresh_rf = roc_curve(test_y, model_rf.predict_proba(test_X)[:,1], pos_label = 1)\n",
        "precision_rf, recall_rf, _ = precision_recall_curve(test_y, model_rf.predict_proba(test_X)[:,1],pos_label=1)"
      ],
      "metadata": {
        "colab": {
          "base_uri": "https://localhost:8080/"
        },
        "id": "KgU17k57oqgx",
        "outputId": "ca96dfc6-787f-4534-a846-244abac5587c"
      },
      "execution_count": 57,
      "outputs": [
        {
          "output_type": "stream",
          "name": "stdout",
          "text": [
            "Confusion Matrix\n",
            "====================\n",
            "[[848 185]\n",
            " [133 241]] \n",
            "\n",
            "Classification Report\n",
            "====================\n",
            "              precision    recall  f1-score   support\n",
            "\n",
            "           0       0.86      0.82      0.84      1033\n",
            "           1       0.57      0.64      0.60       374\n",
            "\n",
            "    accuracy                           0.77      1407\n",
            "   macro avg       0.72      0.73      0.72      1407\n",
            "weighted avg       0.79      0.77      0.78      1407\n",
            "\n"
          ]
        }
      ]
    },
    {
      "cell_type": "code",
      "source": [
        "plot_cmatrix(cm_rf, name='RF')"
      ],
      "metadata": {
        "colab": {
          "base_uri": "https://localhost:8080/",
          "height": 417
        },
        "id": "HkpBCXquoy_g",
        "outputId": "2c48f22c-8929-45da-e6f2-1a97e066faca"
      },
      "execution_count": 58,
      "outputs": [
        {
          "output_type": "display_data",
          "data": {
            "text/html": [
              "<html>\n",
              "<head><meta charset=\"utf-8\" /></head>\n",
              "<body>\n",
              "    <div>\n",
              "            <script src=\"https://cdnjs.cloudflare.com/ajax/libs/mathjax/2.7.5/MathJax.js?config=TeX-AMS-MML_SVG\"></script><script type=\"text/javascript\">if (window.MathJax) {MathJax.Hub.Config({SVG: {font: \"STIX-Web\"}});}</script>\n",
              "                <script type=\"text/javascript\">window.PlotlyConfig = {MathJaxConfig: 'local'};</script>\n",
              "        <script src=\"https://cdn.plot.ly/plotly-latest.min.js\"></script>    \n",
              "            <div id=\"66594440-21e9-4660-8c8b-2e671e896675\" class=\"plotly-graph-div\" style=\"height:400px; width:400px;\"></div>\n",
              "            <script type=\"text/javascript\">\n",
              "                \n",
              "                    window.PLOTLYENV=window.PLOTLYENV || {};\n",
              "                    \n",
              "                if (document.getElementById(\"66594440-21e9-4660-8c8b-2e671e896675\")) {\n",
              "                    Plotly.newPlot(\n",
              "                        '66594440-21e9-4660-8c8b-2e671e896675',\n",
              "                        [{\"coloraxis\": \"coloraxis\", \"type\": \"heatmap\", \"z\": [[848, 185], [133, 241]]}],\n",
              "                        {\"annotations\": [{\"font\": {\"color\": \"black\", \"size\": 12}, \"showarrow\": false, \"text\": \"848\", \"x\": 0, \"y\": 0}, {\"font\": {\"color\": \"black\", \"size\": 12}, \"showarrow\": false, \"text\": \"185\", \"x\": 1, \"y\": 0}, {\"font\": {\"color\": \"black\", \"size\": 12}, \"showarrow\": false, \"text\": \"133\", \"x\": 0, \"y\": 1}, {\"font\": {\"color\": \"black\", \"size\": 12}, \"showarrow\": false, \"text\": \"241\", \"x\": 1, \"y\": 1}], \"coloraxis\": {\"colorscale\": [[0.0, \"peachpuff\"], [0.5, \"lime\"], [1.0, \"green\"]]}, \"height\": 400, \"margin\": {\"t\": 60}, \"template\": {\"data\": {\"bar\": [{\"error_x\": {\"color\": \"#2a3f5f\"}, \"error_y\": {\"color\": \"#2a3f5f\"}, \"marker\": {\"line\": {\"color\": \"#E5ECF6\", \"width\": 0.5}}, \"type\": \"bar\"}], \"barpolar\": [{\"marker\": {\"line\": {\"color\": \"#E5ECF6\", \"width\": 0.5}}, \"type\": \"barpolar\"}], \"carpet\": [{\"aaxis\": {\"endlinecolor\": \"#2a3f5f\", \"gridcolor\": \"white\", \"linecolor\": \"white\", \"minorgridcolor\": \"white\", \"startlinecolor\": \"#2a3f5f\"}, \"baxis\": {\"endlinecolor\": \"#2a3f5f\", \"gridcolor\": \"white\", \"linecolor\": \"white\", \"minorgridcolor\": \"white\", \"startlinecolor\": \"#2a3f5f\"}, \"type\": \"carpet\"}], \"choropleth\": [{\"colorbar\": {\"outlinewidth\": 0, \"ticks\": \"\"}, \"type\": \"choropleth\"}], \"contour\": [{\"colorbar\": {\"outlinewidth\": 0, \"ticks\": \"\"}, \"colorscale\": [[0.0, \"#0d0887\"], [0.1111111111111111, \"#46039f\"], [0.2222222222222222, \"#7201a8\"], [0.3333333333333333, \"#9c179e\"], [0.4444444444444444, \"#bd3786\"], [0.5555555555555556, \"#d8576b\"], [0.6666666666666666, \"#ed7953\"], [0.7777777777777778, \"#fb9f3a\"], [0.8888888888888888, \"#fdca26\"], [1.0, \"#f0f921\"]], \"type\": \"contour\"}], \"contourcarpet\": [{\"colorbar\": {\"outlinewidth\": 0, \"ticks\": \"\"}, \"type\": \"contourcarpet\"}], \"heatmap\": [{\"colorbar\": {\"outlinewidth\": 0, \"ticks\": \"\"}, \"colorscale\": [[0.0, \"#0d0887\"], [0.1111111111111111, \"#46039f\"], [0.2222222222222222, \"#7201a8\"], [0.3333333333333333, \"#9c179e\"], [0.4444444444444444, \"#bd3786\"], [0.5555555555555556, \"#d8576b\"], [0.6666666666666666, \"#ed7953\"], [0.7777777777777778, \"#fb9f3a\"], [0.8888888888888888, \"#fdca26\"], [1.0, \"#f0f921\"]], \"type\": \"heatmap\"}], \"heatmapgl\": [{\"colorbar\": {\"outlinewidth\": 0, \"ticks\": \"\"}, \"colorscale\": [[0.0, \"#0d0887\"], [0.1111111111111111, \"#46039f\"], [0.2222222222222222, \"#7201a8\"], [0.3333333333333333, \"#9c179e\"], [0.4444444444444444, \"#bd3786\"], [0.5555555555555556, \"#d8576b\"], [0.6666666666666666, \"#ed7953\"], [0.7777777777777778, \"#fb9f3a\"], [0.8888888888888888, \"#fdca26\"], [1.0, \"#f0f921\"]], \"type\": \"heatmapgl\"}], \"histogram\": [{\"marker\": {\"colorbar\": {\"outlinewidth\": 0, \"ticks\": \"\"}}, \"type\": \"histogram\"}], \"histogram2d\": [{\"colorbar\": {\"outlinewidth\": 0, \"ticks\": \"\"}, \"colorscale\": [[0.0, \"#0d0887\"], [0.1111111111111111, \"#46039f\"], [0.2222222222222222, \"#7201a8\"], [0.3333333333333333, \"#9c179e\"], [0.4444444444444444, \"#bd3786\"], [0.5555555555555556, \"#d8576b\"], [0.6666666666666666, \"#ed7953\"], [0.7777777777777778, \"#fb9f3a\"], [0.8888888888888888, \"#fdca26\"], [1.0, \"#f0f921\"]], \"type\": \"histogram2d\"}], \"histogram2dcontour\": [{\"colorbar\": {\"outlinewidth\": 0, \"ticks\": \"\"}, \"colorscale\": [[0.0, \"#0d0887\"], [0.1111111111111111, \"#46039f\"], [0.2222222222222222, \"#7201a8\"], [0.3333333333333333, \"#9c179e\"], [0.4444444444444444, \"#bd3786\"], [0.5555555555555556, \"#d8576b\"], [0.6666666666666666, \"#ed7953\"], [0.7777777777777778, \"#fb9f3a\"], [0.8888888888888888, \"#fdca26\"], [1.0, \"#f0f921\"]], \"type\": \"histogram2dcontour\"}], \"mesh3d\": [{\"colorbar\": {\"outlinewidth\": 0, \"ticks\": \"\"}, \"type\": \"mesh3d\"}], \"parcoords\": [{\"line\": {\"colorbar\": {\"outlinewidth\": 0, \"ticks\": \"\"}}, \"type\": \"parcoords\"}], \"pie\": [{\"automargin\": true, \"type\": \"pie\"}], \"scatter\": [{\"marker\": {\"colorbar\": {\"outlinewidth\": 0, \"ticks\": \"\"}}, \"type\": \"scatter\"}], \"scatter3d\": [{\"line\": {\"colorbar\": {\"outlinewidth\": 0, \"ticks\": \"\"}}, \"marker\": {\"colorbar\": {\"outlinewidth\": 0, \"ticks\": \"\"}}, \"type\": \"scatter3d\"}], \"scattercarpet\": [{\"marker\": {\"colorbar\": {\"outlinewidth\": 0, \"ticks\": \"\"}}, \"type\": \"scattercarpet\"}], \"scattergeo\": [{\"marker\": {\"colorbar\": {\"outlinewidth\": 0, \"ticks\": \"\"}}, \"type\": \"scattergeo\"}], \"scattergl\": [{\"marker\": {\"colorbar\": {\"outlinewidth\": 0, \"ticks\": \"\"}}, \"type\": \"scattergl\"}], \"scattermapbox\": [{\"marker\": {\"colorbar\": {\"outlinewidth\": 0, \"ticks\": \"\"}}, \"type\": \"scattermapbox\"}], \"scatterpolar\": [{\"marker\": {\"colorbar\": {\"outlinewidth\": 0, \"ticks\": \"\"}}, \"type\": \"scatterpolar\"}], \"scatterpolargl\": [{\"marker\": {\"colorbar\": {\"outlinewidth\": 0, \"ticks\": \"\"}}, \"type\": \"scatterpolargl\"}], \"scatterternary\": [{\"marker\": {\"colorbar\": {\"outlinewidth\": 0, \"ticks\": \"\"}}, \"type\": \"scatterternary\"}], \"surface\": [{\"colorbar\": {\"outlinewidth\": 0, \"ticks\": \"\"}, \"colorscale\": [[0.0, \"#0d0887\"], [0.1111111111111111, \"#46039f\"], [0.2222222222222222, \"#7201a8\"], [0.3333333333333333, \"#9c179e\"], [0.4444444444444444, \"#bd3786\"], [0.5555555555555556, \"#d8576b\"], [0.6666666666666666, \"#ed7953\"], [0.7777777777777778, \"#fb9f3a\"], [0.8888888888888888, \"#fdca26\"], [1.0, \"#f0f921\"]], \"type\": \"surface\"}], \"table\": [{\"cells\": {\"fill\": {\"color\": \"#EBF0F8\"}, \"line\": {\"color\": \"white\"}}, \"header\": {\"fill\": {\"color\": \"#C8D4E3\"}, \"line\": {\"color\": \"white\"}}, \"type\": \"table\"}]}, \"layout\": {\"annotationdefaults\": {\"arrowcolor\": \"#2a3f5f\", \"arrowhead\": 0, \"arrowwidth\": 1}, \"coloraxis\": {\"colorbar\": {\"outlinewidth\": 0, \"ticks\": \"\"}}, \"colorscale\": {\"diverging\": [[0, \"#8e0152\"], [0.1, \"#c51b7d\"], [0.2, \"#de77ae\"], [0.3, \"#f1b6da\"], [0.4, \"#fde0ef\"], [0.5, \"#f7f7f7\"], [0.6, \"#e6f5d0\"], [0.7, \"#b8e186\"], [0.8, \"#7fbc41\"], [0.9, \"#4d9221\"], [1, \"#276419\"]], \"sequential\": [[0.0, \"#0d0887\"], [0.1111111111111111, \"#46039f\"], [0.2222222222222222, \"#7201a8\"], [0.3333333333333333, \"#9c179e\"], [0.4444444444444444, \"#bd3786\"], [0.5555555555555556, \"#d8576b\"], [0.6666666666666666, \"#ed7953\"], [0.7777777777777778, \"#fb9f3a\"], [0.8888888888888888, \"#fdca26\"], [1.0, \"#f0f921\"]], \"sequentialminus\": [[0.0, \"#0d0887\"], [0.1111111111111111, \"#46039f\"], [0.2222222222222222, \"#7201a8\"], [0.3333333333333333, \"#9c179e\"], [0.4444444444444444, \"#bd3786\"], [0.5555555555555556, \"#d8576b\"], [0.6666666666666666, \"#ed7953\"], [0.7777777777777778, \"#fb9f3a\"], [0.8888888888888888, \"#fdca26\"], [1.0, \"#f0f921\"]]}, \"colorway\": [\"#636efa\", \"#EF553B\", \"#00cc96\", \"#ab63fa\", \"#FFA15A\", \"#19d3f3\", \"#FF6692\", \"#B6E880\", \"#FF97FF\", \"#FECB52\"], \"font\": {\"color\": \"#2a3f5f\"}, \"geo\": {\"bgcolor\": \"white\", \"lakecolor\": \"white\", \"landcolor\": \"#E5ECF6\", \"showlakes\": true, \"showland\": true, \"subunitcolor\": \"white\"}, \"hoverlabel\": {\"align\": \"left\"}, \"hovermode\": \"closest\", \"mapbox\": {\"style\": \"light\"}, \"paper_bgcolor\": \"white\", \"plot_bgcolor\": \"#E5ECF6\", \"polar\": {\"angularaxis\": {\"gridcolor\": \"white\", \"linecolor\": \"white\", \"ticks\": \"\"}, \"bgcolor\": \"#E5ECF6\", \"radialaxis\": {\"gridcolor\": \"white\", \"linecolor\": \"white\", \"ticks\": \"\"}}, \"scene\": {\"xaxis\": {\"backgroundcolor\": \"#E5ECF6\", \"gridcolor\": \"white\", \"gridwidth\": 2, \"linecolor\": \"white\", \"showbackground\": true, \"ticks\": \"\", \"zerolinecolor\": \"white\"}, \"yaxis\": {\"backgroundcolor\": \"#E5ECF6\", \"gridcolor\": \"white\", \"gridwidth\": 2, \"linecolor\": \"white\", \"showbackground\": true, \"ticks\": \"\", \"zerolinecolor\": \"white\"}, \"zaxis\": {\"backgroundcolor\": \"#E5ECF6\", \"gridcolor\": \"white\", \"gridwidth\": 2, \"linecolor\": \"white\", \"showbackground\": true, \"ticks\": \"\", \"zerolinecolor\": \"white\"}}, \"shapedefaults\": {\"line\": {\"color\": \"#2a3f5f\"}}, \"ternary\": {\"aaxis\": {\"gridcolor\": \"white\", \"linecolor\": \"white\", \"ticks\": \"\"}, \"baxis\": {\"gridcolor\": \"white\", \"linecolor\": \"white\", \"ticks\": \"\"}, \"bgcolor\": \"#E5ECF6\", \"caxis\": {\"gridcolor\": \"white\", \"linecolor\": \"white\", \"ticks\": \"\"}}, \"title\": {\"x\": 0.05}, \"xaxis\": {\"automargin\": true, \"gridcolor\": \"white\", \"linecolor\": \"white\", \"ticks\": \"\", \"title\": {\"standoff\": 15}, \"zerolinecolor\": \"white\", \"zerolinewidth\": 2}, \"yaxis\": {\"automargin\": true, \"gridcolor\": \"white\", \"linecolor\": \"white\", \"ticks\": \"\", \"title\": {\"standoff\": 15}, \"zerolinecolor\": \"white\", \"zerolinewidth\": 2}}}, \"title\": {\"text\": \"Confusion Matrix (RF)\", \"x\": 0.5}, \"width\": 400, \"xaxis\": {\"constrain\": \"domain\", \"dtick\": 1, \"scaleanchor\": \"y\", \"tick0\": 0, \"tickmode\": \"linear\", \"title\": {\"text\": \"Prediction\"}}, \"yaxis\": {\"autorange\": \"reversed\", \"constrain\": \"domain\", \"dtick\": 1, \"tick0\": 0, \"tickmode\": \"linear\", \"title\": {\"text\": \"Truth\"}}},\n",
              "                        {\"responsive\": true}\n",
              "                    ).then(function(){\n",
              "                            \n",
              "var gd = document.getElementById('66594440-21e9-4660-8c8b-2e671e896675');\n",
              "var x = new MutationObserver(function (mutations, observer) {{\n",
              "        var display = window.getComputedStyle(gd).display;\n",
              "        if (!display || display === 'none') {{\n",
              "            console.log([gd, 'removed!']);\n",
              "            Plotly.purge(gd);\n",
              "            observer.disconnect();\n",
              "        }}\n",
              "}});\n",
              "\n",
              "// Listen for the removal of the full notebook cells\n",
              "var notebookContainer = gd.closest('#notebook-container');\n",
              "if (notebookContainer) {{\n",
              "    x.observe(notebookContainer, {childList: true});\n",
              "}}\n",
              "\n",
              "// Listen for the clearing of the current output cell\n",
              "var outputEl = gd.closest('.output');\n",
              "if (outputEl) {{\n",
              "    x.observe(outputEl, {childList: true});\n",
              "}}\n",
              "\n",
              "                        })\n",
              "                };\n",
              "                \n",
              "            </script>\n",
              "        </div>\n",
              "</body>\n",
              "</html>"
            ]
          },
          "metadata": {}
        }
      ]
    },
    {
      "cell_type": "markdown",
      "source": [
        "### Churn Prediction using Boosting (Adaboost classifier)"
      ],
      "metadata": {
        "id": "MbNfK-Mio2Y8"
      }
    },
    {
      "cell_type": "code",
      "source": [
        "para_ada = {'n_estimators':[40,60,80],\n",
        "            'learning_rate':[0.85,1.0]\n",
        "           }\n",
        "\n",
        "model_ada = GridSearchCV(estimator = AdaBoostClassifier(),   #base_estimator=SVC(probability=True, kernel='linear')\n",
        "                    param_grid = para_ada,\n",
        "                    cv=10,\n",
        "                    verbose=0,\n",
        "                    n_jobs=-1\n",
        "                   )\n",
        "\n",
        "model_ada.fit(train_X_re,train_y_re)"
      ],
      "metadata": {
        "colab": {
          "base_uri": "https://localhost:8080/"
        },
        "id": "etQZm1tpozEP",
        "outputId": "9dc8a2ca-3969-467c-af28-f8138a137385"
      },
      "execution_count": 88,
      "outputs": [
        {
          "output_type": "execute_result",
          "data": {
            "text/plain": [
              "GridSearchCV(cv=10, estimator=AdaBoostClassifier(), n_jobs=-1,\n",
              "             param_grid={'learning_rate': [0.85, 1.0],\n",
              "                         'n_estimators': [40, 60, 80]})"
            ]
          },
          "metadata": {},
          "execution_count": 88
        }
      ]
    },
    {
      "cell_type": "code",
      "source": [
        "model_ada.best_params_"
      ],
      "metadata": {
        "colab": {
          "base_uri": "https://localhost:8080/"
        },
        "id": "eFpDxTVUo7GR",
        "outputId": "066041c2-4a95-4851-b0df-1698237af9e7"
      },
      "execution_count": 89,
      "outputs": [
        {
          "output_type": "execute_result",
          "data": {
            "text/plain": [
              "{'learning_rate': 1.0, 'n_estimators': 60}"
            ]
          },
          "metadata": {},
          "execution_count": 89
        }
      ]
    },
    {
      "cell_type": "code",
      "source": [
        "cm_ada,cr_ada,auc_score_ada,_  = test_eval(model_ada,test_X,test_y)\n",
        "fpr_ada, tpr_ada, thresh_ada = roc_curve(test_y, model_ada.predict_proba(test_X)[:,1], pos_label = 1)\n",
        "precision_ada, recall_ada, _ = precision_recall_curve(test_y, model_ada.predict_proba(test_X)[:,1],pos_label=1)"
      ],
      "metadata": {
        "colab": {
          "base_uri": "https://localhost:8080/"
        },
        "id": "5YA1IF7Jnzi1",
        "outputId": "82acce8c-2330-4bad-cef9-b01301e06e53"
      },
      "execution_count": 90,
      "outputs": [
        {
          "output_type": "stream",
          "name": "stdout",
          "text": [
            "Confusion Matrix\n",
            "====================\n",
            "[[759 274]\n",
            " [ 72 302]] \n",
            "\n",
            "Classification Report\n",
            "====================\n",
            "              precision    recall  f1-score   support\n",
            "\n",
            "           0       0.91      0.73      0.81      1033\n",
            "           1       0.52      0.81      0.64       374\n",
            "\n",
            "    accuracy                           0.75      1407\n",
            "   macro avg       0.72      0.77      0.73      1407\n",
            "weighted avg       0.81      0.75      0.77      1407\n",
            "\n"
          ]
        }
      ]
    },
    {
      "cell_type": "code",
      "source": [
        "plot_cmatrix(cm_dt, name='ADA')"
      ],
      "metadata": {
        "colab": {
          "base_uri": "https://localhost:8080/",
          "height": 417
        },
        "id": "X5RWt2RapADg",
        "outputId": "fc94939b-94bb-411e-fe17-df1b5abd33a9"
      },
      "execution_count": 62,
      "outputs": [
        {
          "output_type": "display_data",
          "data": {
            "text/html": [
              "<html>\n",
              "<head><meta charset=\"utf-8\" /></head>\n",
              "<body>\n",
              "    <div>\n",
              "            <script src=\"https://cdnjs.cloudflare.com/ajax/libs/mathjax/2.7.5/MathJax.js?config=TeX-AMS-MML_SVG\"></script><script type=\"text/javascript\">if (window.MathJax) {MathJax.Hub.Config({SVG: {font: \"STIX-Web\"}});}</script>\n",
              "                <script type=\"text/javascript\">window.PlotlyConfig = {MathJaxConfig: 'local'};</script>\n",
              "        <script src=\"https://cdn.plot.ly/plotly-latest.min.js\"></script>    \n",
              "            <div id=\"5ef02273-3d89-48b8-a857-bc0d04d9f2de\" class=\"plotly-graph-div\" style=\"height:400px; width:400px;\"></div>\n",
              "            <script type=\"text/javascript\">\n",
              "                \n",
              "                    window.PLOTLYENV=window.PLOTLYENV || {};\n",
              "                    \n",
              "                if (document.getElementById(\"5ef02273-3d89-48b8-a857-bc0d04d9f2de\")) {\n",
              "                    Plotly.newPlot(\n",
              "                        '5ef02273-3d89-48b8-a857-bc0d04d9f2de',\n",
              "                        [{\"coloraxis\": \"coloraxis\", \"type\": \"heatmap\", \"z\": [[760, 273], [122, 252]]}],\n",
              "                        {\"annotations\": [{\"font\": {\"color\": \"black\", \"size\": 12}, \"showarrow\": false, \"text\": \"760\", \"x\": 0, \"y\": 0}, {\"font\": {\"color\": \"black\", \"size\": 12}, \"showarrow\": false, \"text\": \"273\", \"x\": 1, \"y\": 0}, {\"font\": {\"color\": \"black\", \"size\": 12}, \"showarrow\": false, \"text\": \"122\", \"x\": 0, \"y\": 1}, {\"font\": {\"color\": \"black\", \"size\": 12}, \"showarrow\": false, \"text\": \"252\", \"x\": 1, \"y\": 1}], \"coloraxis\": {\"colorscale\": [[0.0, \"peachpuff\"], [0.5, \"lime\"], [1.0, \"green\"]]}, \"height\": 400, \"margin\": {\"t\": 60}, \"template\": {\"data\": {\"bar\": [{\"error_x\": {\"color\": \"#2a3f5f\"}, \"error_y\": {\"color\": \"#2a3f5f\"}, \"marker\": {\"line\": {\"color\": \"#E5ECF6\", \"width\": 0.5}}, \"type\": \"bar\"}], \"barpolar\": [{\"marker\": {\"line\": {\"color\": \"#E5ECF6\", \"width\": 0.5}}, \"type\": \"barpolar\"}], \"carpet\": [{\"aaxis\": {\"endlinecolor\": \"#2a3f5f\", \"gridcolor\": \"white\", \"linecolor\": \"white\", \"minorgridcolor\": \"white\", \"startlinecolor\": \"#2a3f5f\"}, \"baxis\": {\"endlinecolor\": \"#2a3f5f\", \"gridcolor\": \"white\", \"linecolor\": \"white\", \"minorgridcolor\": \"white\", \"startlinecolor\": \"#2a3f5f\"}, \"type\": \"carpet\"}], \"choropleth\": [{\"colorbar\": {\"outlinewidth\": 0, \"ticks\": \"\"}, \"type\": \"choropleth\"}], \"contour\": [{\"colorbar\": {\"outlinewidth\": 0, \"ticks\": \"\"}, \"colorscale\": [[0.0, \"#0d0887\"], [0.1111111111111111, \"#46039f\"], [0.2222222222222222, \"#7201a8\"], [0.3333333333333333, \"#9c179e\"], [0.4444444444444444, \"#bd3786\"], [0.5555555555555556, \"#d8576b\"], [0.6666666666666666, \"#ed7953\"], [0.7777777777777778, \"#fb9f3a\"], [0.8888888888888888, \"#fdca26\"], [1.0, \"#f0f921\"]], \"type\": \"contour\"}], \"contourcarpet\": [{\"colorbar\": {\"outlinewidth\": 0, \"ticks\": \"\"}, \"type\": \"contourcarpet\"}], \"heatmap\": [{\"colorbar\": {\"outlinewidth\": 0, \"ticks\": \"\"}, \"colorscale\": [[0.0, \"#0d0887\"], [0.1111111111111111, \"#46039f\"], [0.2222222222222222, \"#7201a8\"], [0.3333333333333333, \"#9c179e\"], [0.4444444444444444, \"#bd3786\"], [0.5555555555555556, \"#d8576b\"], [0.6666666666666666, \"#ed7953\"], [0.7777777777777778, \"#fb9f3a\"], [0.8888888888888888, \"#fdca26\"], [1.0, \"#f0f921\"]], \"type\": \"heatmap\"}], \"heatmapgl\": [{\"colorbar\": {\"outlinewidth\": 0, \"ticks\": \"\"}, \"colorscale\": [[0.0, \"#0d0887\"], [0.1111111111111111, \"#46039f\"], [0.2222222222222222, \"#7201a8\"], [0.3333333333333333, \"#9c179e\"], [0.4444444444444444, \"#bd3786\"], [0.5555555555555556, \"#d8576b\"], [0.6666666666666666, \"#ed7953\"], [0.7777777777777778, \"#fb9f3a\"], [0.8888888888888888, \"#fdca26\"], [1.0, \"#f0f921\"]], \"type\": \"heatmapgl\"}], \"histogram\": [{\"marker\": {\"colorbar\": {\"outlinewidth\": 0, \"ticks\": \"\"}}, \"type\": \"histogram\"}], \"histogram2d\": [{\"colorbar\": {\"outlinewidth\": 0, \"ticks\": \"\"}, \"colorscale\": [[0.0, \"#0d0887\"], [0.1111111111111111, \"#46039f\"], [0.2222222222222222, \"#7201a8\"], [0.3333333333333333, \"#9c179e\"], [0.4444444444444444, \"#bd3786\"], [0.5555555555555556, \"#d8576b\"], [0.6666666666666666, \"#ed7953\"], [0.7777777777777778, \"#fb9f3a\"], [0.8888888888888888, \"#fdca26\"], [1.0, \"#f0f921\"]], \"type\": \"histogram2d\"}], \"histogram2dcontour\": [{\"colorbar\": {\"outlinewidth\": 0, \"ticks\": \"\"}, \"colorscale\": [[0.0, \"#0d0887\"], [0.1111111111111111, \"#46039f\"], [0.2222222222222222, \"#7201a8\"], [0.3333333333333333, \"#9c179e\"], [0.4444444444444444, \"#bd3786\"], [0.5555555555555556, \"#d8576b\"], [0.6666666666666666, \"#ed7953\"], [0.7777777777777778, \"#fb9f3a\"], [0.8888888888888888, \"#fdca26\"], [1.0, \"#f0f921\"]], \"type\": \"histogram2dcontour\"}], \"mesh3d\": [{\"colorbar\": {\"outlinewidth\": 0, \"ticks\": \"\"}, \"type\": \"mesh3d\"}], \"parcoords\": [{\"line\": {\"colorbar\": {\"outlinewidth\": 0, \"ticks\": \"\"}}, \"type\": \"parcoords\"}], \"pie\": [{\"automargin\": true, \"type\": \"pie\"}], \"scatter\": [{\"marker\": {\"colorbar\": {\"outlinewidth\": 0, \"ticks\": \"\"}}, \"type\": \"scatter\"}], \"scatter3d\": [{\"line\": {\"colorbar\": {\"outlinewidth\": 0, \"ticks\": \"\"}}, \"marker\": {\"colorbar\": {\"outlinewidth\": 0, \"ticks\": \"\"}}, \"type\": \"scatter3d\"}], \"scattercarpet\": [{\"marker\": {\"colorbar\": {\"outlinewidth\": 0, \"ticks\": \"\"}}, \"type\": \"scattercarpet\"}], \"scattergeo\": [{\"marker\": {\"colorbar\": {\"outlinewidth\": 0, \"ticks\": \"\"}}, \"type\": \"scattergeo\"}], \"scattergl\": [{\"marker\": {\"colorbar\": {\"outlinewidth\": 0, \"ticks\": \"\"}}, \"type\": \"scattergl\"}], \"scattermapbox\": [{\"marker\": {\"colorbar\": {\"outlinewidth\": 0, \"ticks\": \"\"}}, \"type\": \"scattermapbox\"}], \"scatterpolar\": [{\"marker\": {\"colorbar\": {\"outlinewidth\": 0, \"ticks\": \"\"}}, \"type\": \"scatterpolar\"}], \"scatterpolargl\": [{\"marker\": {\"colorbar\": {\"outlinewidth\": 0, \"ticks\": \"\"}}, \"type\": \"scatterpolargl\"}], \"scatterternary\": [{\"marker\": {\"colorbar\": {\"outlinewidth\": 0, \"ticks\": \"\"}}, \"type\": \"scatterternary\"}], \"surface\": [{\"colorbar\": {\"outlinewidth\": 0, \"ticks\": \"\"}, \"colorscale\": [[0.0, \"#0d0887\"], [0.1111111111111111, \"#46039f\"], [0.2222222222222222, \"#7201a8\"], [0.3333333333333333, \"#9c179e\"], [0.4444444444444444, \"#bd3786\"], [0.5555555555555556, \"#d8576b\"], [0.6666666666666666, \"#ed7953\"], [0.7777777777777778, \"#fb9f3a\"], [0.8888888888888888, \"#fdca26\"], [1.0, \"#f0f921\"]], \"type\": \"surface\"}], \"table\": [{\"cells\": {\"fill\": {\"color\": \"#EBF0F8\"}, \"line\": {\"color\": \"white\"}}, \"header\": {\"fill\": {\"color\": \"#C8D4E3\"}, \"line\": {\"color\": \"white\"}}, \"type\": \"table\"}]}, \"layout\": {\"annotationdefaults\": {\"arrowcolor\": \"#2a3f5f\", \"arrowhead\": 0, \"arrowwidth\": 1}, \"coloraxis\": {\"colorbar\": {\"outlinewidth\": 0, \"ticks\": \"\"}}, \"colorscale\": {\"diverging\": [[0, \"#8e0152\"], [0.1, \"#c51b7d\"], [0.2, \"#de77ae\"], [0.3, \"#f1b6da\"], [0.4, \"#fde0ef\"], [0.5, \"#f7f7f7\"], [0.6, \"#e6f5d0\"], [0.7, \"#b8e186\"], [0.8, \"#7fbc41\"], [0.9, \"#4d9221\"], [1, \"#276419\"]], \"sequential\": [[0.0, \"#0d0887\"], [0.1111111111111111, \"#46039f\"], [0.2222222222222222, \"#7201a8\"], [0.3333333333333333, \"#9c179e\"], [0.4444444444444444, \"#bd3786\"], [0.5555555555555556, \"#d8576b\"], [0.6666666666666666, \"#ed7953\"], [0.7777777777777778, \"#fb9f3a\"], [0.8888888888888888, \"#fdca26\"], [1.0, \"#f0f921\"]], \"sequentialminus\": [[0.0, \"#0d0887\"], [0.1111111111111111, \"#46039f\"], [0.2222222222222222, \"#7201a8\"], [0.3333333333333333, \"#9c179e\"], [0.4444444444444444, \"#bd3786\"], [0.5555555555555556, \"#d8576b\"], [0.6666666666666666, \"#ed7953\"], [0.7777777777777778, \"#fb9f3a\"], [0.8888888888888888, \"#fdca26\"], [1.0, \"#f0f921\"]]}, \"colorway\": [\"#636efa\", \"#EF553B\", \"#00cc96\", \"#ab63fa\", \"#FFA15A\", \"#19d3f3\", \"#FF6692\", \"#B6E880\", \"#FF97FF\", \"#FECB52\"], \"font\": {\"color\": \"#2a3f5f\"}, \"geo\": {\"bgcolor\": \"white\", \"lakecolor\": \"white\", \"landcolor\": \"#E5ECF6\", \"showlakes\": true, \"showland\": true, \"subunitcolor\": \"white\"}, \"hoverlabel\": {\"align\": \"left\"}, \"hovermode\": \"closest\", \"mapbox\": {\"style\": \"light\"}, \"paper_bgcolor\": \"white\", \"plot_bgcolor\": \"#E5ECF6\", \"polar\": {\"angularaxis\": {\"gridcolor\": \"white\", \"linecolor\": \"white\", \"ticks\": \"\"}, \"bgcolor\": \"#E5ECF6\", \"radialaxis\": {\"gridcolor\": \"white\", \"linecolor\": \"white\", \"ticks\": \"\"}}, \"scene\": {\"xaxis\": {\"backgroundcolor\": \"#E5ECF6\", \"gridcolor\": \"white\", \"gridwidth\": 2, \"linecolor\": \"white\", \"showbackground\": true, \"ticks\": \"\", \"zerolinecolor\": \"white\"}, \"yaxis\": {\"backgroundcolor\": \"#E5ECF6\", \"gridcolor\": \"white\", \"gridwidth\": 2, \"linecolor\": \"white\", \"showbackground\": true, \"ticks\": \"\", \"zerolinecolor\": \"white\"}, \"zaxis\": {\"backgroundcolor\": \"#E5ECF6\", \"gridcolor\": \"white\", \"gridwidth\": 2, \"linecolor\": \"white\", \"showbackground\": true, \"ticks\": \"\", \"zerolinecolor\": \"white\"}}, \"shapedefaults\": {\"line\": {\"color\": \"#2a3f5f\"}}, \"ternary\": {\"aaxis\": {\"gridcolor\": \"white\", \"linecolor\": \"white\", \"ticks\": \"\"}, \"baxis\": {\"gridcolor\": \"white\", \"linecolor\": \"white\", \"ticks\": \"\"}, \"bgcolor\": \"#E5ECF6\", \"caxis\": {\"gridcolor\": \"white\", \"linecolor\": \"white\", \"ticks\": \"\"}}, \"title\": {\"x\": 0.05}, \"xaxis\": {\"automargin\": true, \"gridcolor\": \"white\", \"linecolor\": \"white\", \"ticks\": \"\", \"title\": {\"standoff\": 15}, \"zerolinecolor\": \"white\", \"zerolinewidth\": 2}, \"yaxis\": {\"automargin\": true, \"gridcolor\": \"white\", \"linecolor\": \"white\", \"ticks\": \"\", \"title\": {\"standoff\": 15}, \"zerolinecolor\": \"white\", \"zerolinewidth\": 2}}}, \"title\": {\"text\": \"Confusion Matrix (ADA)\", \"x\": 0.5}, \"width\": 400, \"xaxis\": {\"constrain\": \"domain\", \"dtick\": 1, \"scaleanchor\": \"y\", \"tick0\": 0, \"tickmode\": \"linear\", \"title\": {\"text\": \"Prediction\"}}, \"yaxis\": {\"autorange\": \"reversed\", \"constrain\": \"domain\", \"dtick\": 1, \"tick0\": 0, \"tickmode\": \"linear\", \"title\": {\"text\": \"Truth\"}}},\n",
              "                        {\"responsive\": true}\n",
              "                    ).then(function(){\n",
              "                            \n",
              "var gd = document.getElementById('5ef02273-3d89-48b8-a857-bc0d04d9f2de');\n",
              "var x = new MutationObserver(function (mutations, observer) {{\n",
              "        var display = window.getComputedStyle(gd).display;\n",
              "        if (!display || display === 'none') {{\n",
              "            console.log([gd, 'removed!']);\n",
              "            Plotly.purge(gd);\n",
              "            observer.disconnect();\n",
              "        }}\n",
              "}});\n",
              "\n",
              "// Listen for the removal of the full notebook cells\n",
              "var notebookContainer = gd.closest('#notebook-container');\n",
              "if (notebookContainer) {{\n",
              "    x.observe(notebookContainer, {childList: true});\n",
              "}}\n",
              "\n",
              "// Listen for the clearing of the current output cell\n",
              "var outputEl = gd.closest('.output');\n",
              "if (outputEl) {{\n",
              "    x.observe(outputEl, {childList: true});\n",
              "}}\n",
              "\n",
              "                        })\n",
              "                };\n",
              "                \n",
              "            </script>\n",
              "        </div>\n",
              "</body>\n",
              "</html>"
            ]
          },
          "metadata": {}
        }
      ]
    },
    {
      "cell_type": "markdown",
      "source": [
        "## Churn Prediction using Stochastic Gradient Boosting"
      ],
      "metadata": {
        "id": "UGDoazdCpIV7"
      }
    },
    {
      "cell_type": "code",
      "source": [
        "para_sgb = {'n_estimators':[100,200],\n",
        "            'learning_rate':[0.5,1.0],\n",
        "            'subsample':[0.5,1.0],\n",
        "            'max_features':['auto', 'sqrt', 'log2']\n",
        "           }\n",
        "\n",
        "model_sgb = GridSearchCV(estimator = GradientBoostingClassifier(),\n",
        "                    param_grid = para_sgb,\n",
        "                    cv=10,\n",
        "                    verbose=0,\n",
        "                    n_jobs=-1\n",
        "                   )\n",
        "\n",
        "model_sgb.fit(train_X_re,train_y_re)"
      ],
      "metadata": {
        "colab": {
          "base_uri": "https://localhost:8080/"
        },
        "id": "WywDxuDwpAGf",
        "outputId": "bc2154c5-519e-4ce0-9c4b-0c0afb7e6b7f"
      },
      "execution_count": 63,
      "outputs": [
        {
          "output_type": "execute_result",
          "data": {
            "text/plain": [
              "GridSearchCV(cv=10, estimator=GradientBoostingClassifier(), n_jobs=-1,\n",
              "             param_grid={'learning_rate': [0.5, 1.0],\n",
              "                         'max_features': ['auto', 'sqrt', 'log2'],\n",
              "                         'n_estimators': [100, 200], 'subsample': [0.5, 1.0]})"
            ]
          },
          "metadata": {},
          "execution_count": 63
        }
      ]
    },
    {
      "cell_type": "code",
      "source": [
        "model_sgb.best_params_"
      ],
      "metadata": {
        "colab": {
          "base_uri": "https://localhost:8080/"
        },
        "id": "za07XgflpJPC",
        "outputId": "ee687c02-ea3a-4892-b99e-c138e0e4b386"
      },
      "execution_count": 64,
      "outputs": [
        {
          "output_type": "execute_result",
          "data": {
            "text/plain": [
              "{'learning_rate': 0.5,\n",
              " 'max_features': 'auto',\n",
              " 'n_estimators': 200,\n",
              " 'subsample': 1.0}"
            ]
          },
          "metadata": {},
          "execution_count": 64
        }
      ]
    },
    {
      "cell_type": "code",
      "source": [
        "cm_sgb,cr_sgb,auc_score_sgb,_  = test_eval(model_sgb,test_X,test_y)\n",
        "fpr_sgb, tpr_sgb, thresh_sgb = roc_curve(test_y, model_sgb.predict_proba(test_X)[:,1], pos_label = 1)\n",
        "precision_sgb, recall_sgb, _ = precision_recall_curve(test_y, model_sgb.predict_proba(test_X)[:,1],pos_label=1)"
      ],
      "metadata": {
        "colab": {
          "base_uri": "https://localhost:8080/"
        },
        "id": "S4fMaFeDpOm7",
        "outputId": "8cd762b4-954c-4369-f6c2-2090dd4e6eae"
      },
      "execution_count": 65,
      "outputs": [
        {
          "output_type": "stream",
          "name": "stdout",
          "text": [
            "Confusion Matrix\n",
            "====================\n",
            "[[852 181]\n",
            " [148 226]] \n",
            "\n",
            "Classification Report\n",
            "====================\n",
            "              precision    recall  f1-score   support\n",
            "\n",
            "           0       0.85      0.82      0.84      1033\n",
            "           1       0.56      0.60      0.58       374\n",
            "\n",
            "    accuracy                           0.77      1407\n",
            "   macro avg       0.70      0.71      0.71      1407\n",
            "weighted avg       0.77      0.77      0.77      1407\n",
            "\n"
          ]
        }
      ]
    },
    {
      "cell_type": "code",
      "source": [
        "plot_cmatrix(cm_sgb, name='SGB')"
      ],
      "metadata": {
        "colab": {
          "base_uri": "https://localhost:8080/",
          "height": 417
        },
        "id": "u0mkMkVepWRU",
        "outputId": "3a450afe-c56d-44df-e53a-9959bb93b251"
      },
      "execution_count": 66,
      "outputs": [
        {
          "output_type": "display_data",
          "data": {
            "text/html": [
              "<html>\n",
              "<head><meta charset=\"utf-8\" /></head>\n",
              "<body>\n",
              "    <div>\n",
              "            <script src=\"https://cdnjs.cloudflare.com/ajax/libs/mathjax/2.7.5/MathJax.js?config=TeX-AMS-MML_SVG\"></script><script type=\"text/javascript\">if (window.MathJax) {MathJax.Hub.Config({SVG: {font: \"STIX-Web\"}});}</script>\n",
              "                <script type=\"text/javascript\">window.PlotlyConfig = {MathJaxConfig: 'local'};</script>\n",
              "        <script src=\"https://cdn.plot.ly/plotly-latest.min.js\"></script>    \n",
              "            <div id=\"0f4a97c6-588b-46b0-977b-0c450b1c1aa8\" class=\"plotly-graph-div\" style=\"height:400px; width:400px;\"></div>\n",
              "            <script type=\"text/javascript\">\n",
              "                \n",
              "                    window.PLOTLYENV=window.PLOTLYENV || {};\n",
              "                    \n",
              "                if (document.getElementById(\"0f4a97c6-588b-46b0-977b-0c450b1c1aa8\")) {\n",
              "                    Plotly.newPlot(\n",
              "                        '0f4a97c6-588b-46b0-977b-0c450b1c1aa8',\n",
              "                        [{\"coloraxis\": \"coloraxis\", \"type\": \"heatmap\", \"z\": [[852, 181], [148, 226]]}],\n",
              "                        {\"annotations\": [{\"font\": {\"color\": \"black\", \"size\": 12}, \"showarrow\": false, \"text\": \"852\", \"x\": 0, \"y\": 0}, {\"font\": {\"color\": \"black\", \"size\": 12}, \"showarrow\": false, \"text\": \"181\", \"x\": 1, \"y\": 0}, {\"font\": {\"color\": \"black\", \"size\": 12}, \"showarrow\": false, \"text\": \"148\", \"x\": 0, \"y\": 1}, {\"font\": {\"color\": \"black\", \"size\": 12}, \"showarrow\": false, \"text\": \"226\", \"x\": 1, \"y\": 1}], \"coloraxis\": {\"colorscale\": [[0.0, \"peachpuff\"], [0.5, \"lime\"], [1.0, \"green\"]]}, \"height\": 400, \"margin\": {\"t\": 60}, \"template\": {\"data\": {\"bar\": [{\"error_x\": {\"color\": \"#2a3f5f\"}, \"error_y\": {\"color\": \"#2a3f5f\"}, \"marker\": {\"line\": {\"color\": \"#E5ECF6\", \"width\": 0.5}}, \"type\": \"bar\"}], \"barpolar\": [{\"marker\": {\"line\": {\"color\": \"#E5ECF6\", \"width\": 0.5}}, \"type\": \"barpolar\"}], \"carpet\": [{\"aaxis\": {\"endlinecolor\": \"#2a3f5f\", \"gridcolor\": \"white\", \"linecolor\": \"white\", \"minorgridcolor\": \"white\", \"startlinecolor\": \"#2a3f5f\"}, \"baxis\": {\"endlinecolor\": \"#2a3f5f\", \"gridcolor\": \"white\", \"linecolor\": \"white\", \"minorgridcolor\": \"white\", \"startlinecolor\": \"#2a3f5f\"}, \"type\": \"carpet\"}], \"choropleth\": [{\"colorbar\": {\"outlinewidth\": 0, \"ticks\": \"\"}, \"type\": \"choropleth\"}], \"contour\": [{\"colorbar\": {\"outlinewidth\": 0, \"ticks\": \"\"}, \"colorscale\": [[0.0, \"#0d0887\"], [0.1111111111111111, \"#46039f\"], [0.2222222222222222, \"#7201a8\"], [0.3333333333333333, \"#9c179e\"], [0.4444444444444444, \"#bd3786\"], [0.5555555555555556, \"#d8576b\"], [0.6666666666666666, \"#ed7953\"], [0.7777777777777778, \"#fb9f3a\"], [0.8888888888888888, \"#fdca26\"], [1.0, \"#f0f921\"]], \"type\": \"contour\"}], \"contourcarpet\": [{\"colorbar\": {\"outlinewidth\": 0, \"ticks\": \"\"}, \"type\": \"contourcarpet\"}], \"heatmap\": [{\"colorbar\": {\"outlinewidth\": 0, \"ticks\": \"\"}, \"colorscale\": [[0.0, \"#0d0887\"], [0.1111111111111111, \"#46039f\"], [0.2222222222222222, \"#7201a8\"], [0.3333333333333333, \"#9c179e\"], [0.4444444444444444, \"#bd3786\"], [0.5555555555555556, \"#d8576b\"], [0.6666666666666666, \"#ed7953\"], [0.7777777777777778, \"#fb9f3a\"], [0.8888888888888888, \"#fdca26\"], [1.0, \"#f0f921\"]], \"type\": \"heatmap\"}], \"heatmapgl\": [{\"colorbar\": {\"outlinewidth\": 0, \"ticks\": \"\"}, \"colorscale\": [[0.0, \"#0d0887\"], [0.1111111111111111, \"#46039f\"], [0.2222222222222222, \"#7201a8\"], [0.3333333333333333, \"#9c179e\"], [0.4444444444444444, \"#bd3786\"], [0.5555555555555556, \"#d8576b\"], [0.6666666666666666, \"#ed7953\"], [0.7777777777777778, \"#fb9f3a\"], [0.8888888888888888, \"#fdca26\"], [1.0, \"#f0f921\"]], \"type\": \"heatmapgl\"}], \"histogram\": [{\"marker\": {\"colorbar\": {\"outlinewidth\": 0, \"ticks\": \"\"}}, \"type\": \"histogram\"}], \"histogram2d\": [{\"colorbar\": {\"outlinewidth\": 0, \"ticks\": \"\"}, \"colorscale\": [[0.0, \"#0d0887\"], [0.1111111111111111, \"#46039f\"], [0.2222222222222222, \"#7201a8\"], [0.3333333333333333, \"#9c179e\"], [0.4444444444444444, \"#bd3786\"], [0.5555555555555556, \"#d8576b\"], [0.6666666666666666, \"#ed7953\"], [0.7777777777777778, \"#fb9f3a\"], [0.8888888888888888, \"#fdca26\"], [1.0, \"#f0f921\"]], \"type\": \"histogram2d\"}], \"histogram2dcontour\": [{\"colorbar\": {\"outlinewidth\": 0, \"ticks\": \"\"}, \"colorscale\": [[0.0, \"#0d0887\"], [0.1111111111111111, \"#46039f\"], [0.2222222222222222, \"#7201a8\"], [0.3333333333333333, \"#9c179e\"], [0.4444444444444444, \"#bd3786\"], [0.5555555555555556, \"#d8576b\"], [0.6666666666666666, \"#ed7953\"], [0.7777777777777778, \"#fb9f3a\"], [0.8888888888888888, \"#fdca26\"], [1.0, \"#f0f921\"]], \"type\": \"histogram2dcontour\"}], \"mesh3d\": [{\"colorbar\": {\"outlinewidth\": 0, \"ticks\": \"\"}, \"type\": \"mesh3d\"}], \"parcoords\": [{\"line\": {\"colorbar\": {\"outlinewidth\": 0, \"ticks\": \"\"}}, \"type\": \"parcoords\"}], \"pie\": [{\"automargin\": true, \"type\": \"pie\"}], \"scatter\": [{\"marker\": {\"colorbar\": {\"outlinewidth\": 0, \"ticks\": \"\"}}, \"type\": \"scatter\"}], \"scatter3d\": [{\"line\": {\"colorbar\": {\"outlinewidth\": 0, \"ticks\": \"\"}}, \"marker\": {\"colorbar\": {\"outlinewidth\": 0, \"ticks\": \"\"}}, \"type\": \"scatter3d\"}], \"scattercarpet\": [{\"marker\": {\"colorbar\": {\"outlinewidth\": 0, \"ticks\": \"\"}}, \"type\": \"scattercarpet\"}], \"scattergeo\": [{\"marker\": {\"colorbar\": {\"outlinewidth\": 0, \"ticks\": \"\"}}, \"type\": \"scattergeo\"}], \"scattergl\": [{\"marker\": {\"colorbar\": {\"outlinewidth\": 0, \"ticks\": \"\"}}, \"type\": \"scattergl\"}], \"scattermapbox\": [{\"marker\": {\"colorbar\": {\"outlinewidth\": 0, \"ticks\": \"\"}}, \"type\": \"scattermapbox\"}], \"scatterpolar\": [{\"marker\": {\"colorbar\": {\"outlinewidth\": 0, \"ticks\": \"\"}}, \"type\": \"scatterpolar\"}], \"scatterpolargl\": [{\"marker\": {\"colorbar\": {\"outlinewidth\": 0, \"ticks\": \"\"}}, \"type\": \"scatterpolargl\"}], \"scatterternary\": [{\"marker\": {\"colorbar\": {\"outlinewidth\": 0, \"ticks\": \"\"}}, \"type\": \"scatterternary\"}], \"surface\": [{\"colorbar\": {\"outlinewidth\": 0, \"ticks\": \"\"}, \"colorscale\": [[0.0, \"#0d0887\"], [0.1111111111111111, \"#46039f\"], [0.2222222222222222, \"#7201a8\"], [0.3333333333333333, \"#9c179e\"], [0.4444444444444444, \"#bd3786\"], [0.5555555555555556, \"#d8576b\"], [0.6666666666666666, \"#ed7953\"], [0.7777777777777778, \"#fb9f3a\"], [0.8888888888888888, \"#fdca26\"], [1.0, \"#f0f921\"]], \"type\": \"surface\"}], \"table\": [{\"cells\": {\"fill\": {\"color\": \"#EBF0F8\"}, \"line\": {\"color\": \"white\"}}, \"header\": {\"fill\": {\"color\": \"#C8D4E3\"}, \"line\": {\"color\": \"white\"}}, \"type\": \"table\"}]}, \"layout\": {\"annotationdefaults\": {\"arrowcolor\": \"#2a3f5f\", \"arrowhead\": 0, \"arrowwidth\": 1}, \"coloraxis\": {\"colorbar\": {\"outlinewidth\": 0, \"ticks\": \"\"}}, \"colorscale\": {\"diverging\": [[0, \"#8e0152\"], [0.1, \"#c51b7d\"], [0.2, \"#de77ae\"], [0.3, \"#f1b6da\"], [0.4, \"#fde0ef\"], [0.5, \"#f7f7f7\"], [0.6, \"#e6f5d0\"], [0.7, \"#b8e186\"], [0.8, \"#7fbc41\"], [0.9, \"#4d9221\"], [1, \"#276419\"]], \"sequential\": [[0.0, \"#0d0887\"], [0.1111111111111111, \"#46039f\"], [0.2222222222222222, \"#7201a8\"], [0.3333333333333333, \"#9c179e\"], [0.4444444444444444, \"#bd3786\"], [0.5555555555555556, \"#d8576b\"], [0.6666666666666666, \"#ed7953\"], [0.7777777777777778, \"#fb9f3a\"], [0.8888888888888888, \"#fdca26\"], [1.0, \"#f0f921\"]], \"sequentialminus\": [[0.0, \"#0d0887\"], [0.1111111111111111, \"#46039f\"], [0.2222222222222222, \"#7201a8\"], [0.3333333333333333, \"#9c179e\"], [0.4444444444444444, \"#bd3786\"], [0.5555555555555556, \"#d8576b\"], [0.6666666666666666, \"#ed7953\"], [0.7777777777777778, \"#fb9f3a\"], [0.8888888888888888, \"#fdca26\"], [1.0, \"#f0f921\"]]}, \"colorway\": [\"#636efa\", \"#EF553B\", \"#00cc96\", \"#ab63fa\", \"#FFA15A\", \"#19d3f3\", \"#FF6692\", \"#B6E880\", \"#FF97FF\", \"#FECB52\"], \"font\": {\"color\": \"#2a3f5f\"}, \"geo\": {\"bgcolor\": \"white\", \"lakecolor\": \"white\", \"landcolor\": \"#E5ECF6\", \"showlakes\": true, \"showland\": true, \"subunitcolor\": \"white\"}, \"hoverlabel\": {\"align\": \"left\"}, \"hovermode\": \"closest\", \"mapbox\": {\"style\": \"light\"}, \"paper_bgcolor\": \"white\", \"plot_bgcolor\": \"#E5ECF6\", \"polar\": {\"angularaxis\": {\"gridcolor\": \"white\", \"linecolor\": \"white\", \"ticks\": \"\"}, \"bgcolor\": \"#E5ECF6\", \"radialaxis\": {\"gridcolor\": \"white\", \"linecolor\": \"white\", \"ticks\": \"\"}}, \"scene\": {\"xaxis\": {\"backgroundcolor\": \"#E5ECF6\", \"gridcolor\": \"white\", \"gridwidth\": 2, \"linecolor\": \"white\", \"showbackground\": true, \"ticks\": \"\", \"zerolinecolor\": \"white\"}, \"yaxis\": {\"backgroundcolor\": \"#E5ECF6\", \"gridcolor\": \"white\", \"gridwidth\": 2, \"linecolor\": \"white\", \"showbackground\": true, \"ticks\": \"\", \"zerolinecolor\": \"white\"}, \"zaxis\": {\"backgroundcolor\": \"#E5ECF6\", \"gridcolor\": \"white\", \"gridwidth\": 2, \"linecolor\": \"white\", \"showbackground\": true, \"ticks\": \"\", \"zerolinecolor\": \"white\"}}, \"shapedefaults\": {\"line\": {\"color\": \"#2a3f5f\"}}, \"ternary\": {\"aaxis\": {\"gridcolor\": \"white\", \"linecolor\": \"white\", \"ticks\": \"\"}, \"baxis\": {\"gridcolor\": \"white\", \"linecolor\": \"white\", \"ticks\": \"\"}, \"bgcolor\": \"#E5ECF6\", \"caxis\": {\"gridcolor\": \"white\", \"linecolor\": \"white\", \"ticks\": \"\"}}, \"title\": {\"x\": 0.05}, \"xaxis\": {\"automargin\": true, \"gridcolor\": \"white\", \"linecolor\": \"white\", \"ticks\": \"\", \"title\": {\"standoff\": 15}, \"zerolinecolor\": \"white\", \"zerolinewidth\": 2}, \"yaxis\": {\"automargin\": true, \"gridcolor\": \"white\", \"linecolor\": \"white\", \"ticks\": \"\", \"title\": {\"standoff\": 15}, \"zerolinecolor\": \"white\", \"zerolinewidth\": 2}}}, \"title\": {\"text\": \"Confusion Matrix (SGB)\", \"x\": 0.5}, \"width\": 400, \"xaxis\": {\"constrain\": \"domain\", \"dtick\": 1, \"scaleanchor\": \"y\", \"tick0\": 0, \"tickmode\": \"linear\", \"title\": {\"text\": \"Prediction\"}}, \"yaxis\": {\"autorange\": \"reversed\", \"constrain\": \"domain\", \"dtick\": 1, \"tick0\": 0, \"tickmode\": \"linear\", \"title\": {\"text\": \"Truth\"}}},\n",
              "                        {\"responsive\": true}\n",
              "                    ).then(function(){\n",
              "                            \n",
              "var gd = document.getElementById('0f4a97c6-588b-46b0-977b-0c450b1c1aa8');\n",
              "var x = new MutationObserver(function (mutations, observer) {{\n",
              "        var display = window.getComputedStyle(gd).display;\n",
              "        if (!display || display === 'none') {{\n",
              "            console.log([gd, 'removed!']);\n",
              "            Plotly.purge(gd);\n",
              "            observer.disconnect();\n",
              "        }}\n",
              "}});\n",
              "\n",
              "// Listen for the removal of the full notebook cells\n",
              "var notebookContainer = gd.closest('#notebook-container');\n",
              "if (notebookContainer) {{\n",
              "    x.observe(notebookContainer, {childList: true});\n",
              "}}\n",
              "\n",
              "// Listen for the clearing of the current output cell\n",
              "var outputEl = gd.closest('.output');\n",
              "if (outputEl) {{\n",
              "    x.observe(outputEl, {childList: true});\n",
              "}}\n",
              "\n",
              "                        })\n",
              "                };\n",
              "                \n",
              "            </script>\n",
              "        </div>\n",
              "</body>\n",
              "</html>"
            ]
          },
          "metadata": {}
        }
      ]
    },
    {
      "cell_type": "markdown",
      "source": [
        "### Churn Prediction using CatBoost"
      ],
      "metadata": {
        "id": "mBKUaA5ZpbUq"
      }
    },
    {
      "cell_type": "code",
      "source": [
        "para_cat = {'iterations':[100,200],\n",
        "            'learning_rate':[0.1,0.2]\n",
        "           }\n",
        "\n",
        "model_cat = GridSearchCV(estimator = CatBoostClassifier(verbose=False),\n",
        "                    param_grid = para_cat,\n",
        "                    cv=10,\n",
        "                    verbose=0,\n",
        "                    n_jobs=-1\n",
        "                   )\n",
        "\n",
        "model_cat.fit(train_X_re,train_y_re)"
      ],
      "metadata": {
        "colab": {
          "base_uri": "https://localhost:8080/"
        },
        "id": "ba6ZTppkpJSf",
        "outputId": "21de987b-5614-46ab-c7b8-fee550b7254e"
      },
      "execution_count": 68,
      "outputs": [
        {
          "output_type": "execute_result",
          "data": {
            "text/plain": [
              "GridSearchCV(cv=10,\n",
              "             estimator=<catboost.core.CatBoostClassifier object at 0x7f1cd6a08890>,\n",
              "             n_jobs=-1,\n",
              "             param_grid={'iterations': [100, 200], 'learning_rate': [0.1, 0.2]})"
            ]
          },
          "metadata": {},
          "execution_count": 68
        }
      ]
    },
    {
      "cell_type": "code",
      "source": [
        "model_cat.best_params_"
      ],
      "metadata": {
        "colab": {
          "base_uri": "https://localhost:8080/"
        },
        "id": "pF-QbOlEpYRy",
        "outputId": "4847fc6e-6848-4330-a333-7754164b7272"
      },
      "execution_count": 69,
      "outputs": [
        {
          "output_type": "execute_result",
          "data": {
            "text/plain": [
              "{'iterations': 200, 'learning_rate': 0.2}"
            ]
          },
          "metadata": {},
          "execution_count": 69
        }
      ]
    },
    {
      "cell_type": "code",
      "source": [
        "cm_cat,cr_cat,auc_score_cat,_  = test_eval(model_cat,test_X,test_y)\n",
        "fpr_cat, tpr_cat, thresh_cat = roc_curve(test_y, model_cat.predict_proba(test_X)[:,1], pos_label = 1)\n",
        "precision_cat, recall_cat, _ = precision_recall_curve(test_y, model_cat.predict_proba(test_X)[:,1],pos_label=1)"
      ],
      "metadata": {
        "colab": {
          "base_uri": "https://localhost:8080/"
        },
        "id": "Dnw-KMAUpn4v",
        "outputId": "5e6e5c75-e65f-4bf6-ee94-395273dfb795"
      },
      "execution_count": 70,
      "outputs": [
        {
          "output_type": "stream",
          "name": "stdout",
          "text": [
            "Confusion Matrix\n",
            "====================\n",
            "[[832 201]\n",
            " [130 244]] \n",
            "\n",
            "Classification Report\n",
            "====================\n",
            "              precision    recall  f1-score   support\n",
            "\n",
            "           0       0.86      0.81      0.83      1033\n",
            "           1       0.55      0.65      0.60       374\n",
            "\n",
            "    accuracy                           0.76      1407\n",
            "   macro avg       0.71      0.73      0.71      1407\n",
            "weighted avg       0.78      0.76      0.77      1407\n",
            "\n"
          ]
        }
      ]
    },
    {
      "cell_type": "code",
      "source": [
        "plot_cmatrix(cm_cat, name='CAT')"
      ],
      "metadata": {
        "colab": {
          "base_uri": "https://localhost:8080/",
          "height": 417
        },
        "id": "TKBpREyKpn8o",
        "outputId": "26a9828f-3d83-456b-91fd-8f1885412467"
      },
      "execution_count": 71,
      "outputs": [
        {
          "output_type": "display_data",
          "data": {
            "text/html": [
              "<html>\n",
              "<head><meta charset=\"utf-8\" /></head>\n",
              "<body>\n",
              "    <div>\n",
              "            <script src=\"https://cdnjs.cloudflare.com/ajax/libs/mathjax/2.7.5/MathJax.js?config=TeX-AMS-MML_SVG\"></script><script type=\"text/javascript\">if (window.MathJax) {MathJax.Hub.Config({SVG: {font: \"STIX-Web\"}});}</script>\n",
              "                <script type=\"text/javascript\">window.PlotlyConfig = {MathJaxConfig: 'local'};</script>\n",
              "        <script src=\"https://cdn.plot.ly/plotly-latest.min.js\"></script>    \n",
              "            <div id=\"2cbe5ec3-fe95-4339-8f0f-22a7e54256b5\" class=\"plotly-graph-div\" style=\"height:400px; width:400px;\"></div>\n",
              "            <script type=\"text/javascript\">\n",
              "                \n",
              "                    window.PLOTLYENV=window.PLOTLYENV || {};\n",
              "                    \n",
              "                if (document.getElementById(\"2cbe5ec3-fe95-4339-8f0f-22a7e54256b5\")) {\n",
              "                    Plotly.newPlot(\n",
              "                        '2cbe5ec3-fe95-4339-8f0f-22a7e54256b5',\n",
              "                        [{\"coloraxis\": \"coloraxis\", \"type\": \"heatmap\", \"z\": [[832, 201], [130, 244]]}],\n",
              "                        {\"annotations\": [{\"font\": {\"color\": \"black\", \"size\": 12}, \"showarrow\": false, \"text\": \"832\", \"x\": 0, \"y\": 0}, {\"font\": {\"color\": \"black\", \"size\": 12}, \"showarrow\": false, \"text\": \"201\", \"x\": 1, \"y\": 0}, {\"font\": {\"color\": \"black\", \"size\": 12}, \"showarrow\": false, \"text\": \"130\", \"x\": 0, \"y\": 1}, {\"font\": {\"color\": \"black\", \"size\": 12}, \"showarrow\": false, \"text\": \"244\", \"x\": 1, \"y\": 1}], \"coloraxis\": {\"colorscale\": [[0.0, \"peachpuff\"], [0.5, \"lime\"], [1.0, \"green\"]]}, \"height\": 400, \"margin\": {\"t\": 60}, \"template\": {\"data\": {\"bar\": [{\"error_x\": {\"color\": \"#2a3f5f\"}, \"error_y\": {\"color\": \"#2a3f5f\"}, \"marker\": {\"line\": {\"color\": \"#E5ECF6\", \"width\": 0.5}}, \"type\": \"bar\"}], \"barpolar\": [{\"marker\": {\"line\": {\"color\": \"#E5ECF6\", \"width\": 0.5}}, \"type\": \"barpolar\"}], \"carpet\": [{\"aaxis\": {\"endlinecolor\": \"#2a3f5f\", \"gridcolor\": \"white\", \"linecolor\": \"white\", \"minorgridcolor\": \"white\", \"startlinecolor\": \"#2a3f5f\"}, \"baxis\": {\"endlinecolor\": \"#2a3f5f\", \"gridcolor\": \"white\", \"linecolor\": \"white\", \"minorgridcolor\": \"white\", \"startlinecolor\": \"#2a3f5f\"}, \"type\": \"carpet\"}], \"choropleth\": [{\"colorbar\": {\"outlinewidth\": 0, \"ticks\": \"\"}, \"type\": \"choropleth\"}], \"contour\": [{\"colorbar\": {\"outlinewidth\": 0, \"ticks\": \"\"}, \"colorscale\": [[0.0, \"#0d0887\"], [0.1111111111111111, \"#46039f\"], [0.2222222222222222, \"#7201a8\"], [0.3333333333333333, \"#9c179e\"], [0.4444444444444444, \"#bd3786\"], [0.5555555555555556, \"#d8576b\"], [0.6666666666666666, \"#ed7953\"], [0.7777777777777778, \"#fb9f3a\"], [0.8888888888888888, \"#fdca26\"], [1.0, \"#f0f921\"]], \"type\": \"contour\"}], \"contourcarpet\": [{\"colorbar\": {\"outlinewidth\": 0, \"ticks\": \"\"}, \"type\": \"contourcarpet\"}], \"heatmap\": [{\"colorbar\": {\"outlinewidth\": 0, \"ticks\": \"\"}, \"colorscale\": [[0.0, \"#0d0887\"], [0.1111111111111111, \"#46039f\"], [0.2222222222222222, \"#7201a8\"], [0.3333333333333333, \"#9c179e\"], [0.4444444444444444, \"#bd3786\"], [0.5555555555555556, \"#d8576b\"], [0.6666666666666666, \"#ed7953\"], [0.7777777777777778, \"#fb9f3a\"], [0.8888888888888888, \"#fdca26\"], [1.0, \"#f0f921\"]], \"type\": \"heatmap\"}], \"heatmapgl\": [{\"colorbar\": {\"outlinewidth\": 0, \"ticks\": \"\"}, \"colorscale\": [[0.0, \"#0d0887\"], [0.1111111111111111, \"#46039f\"], [0.2222222222222222, \"#7201a8\"], [0.3333333333333333, \"#9c179e\"], [0.4444444444444444, \"#bd3786\"], [0.5555555555555556, \"#d8576b\"], [0.6666666666666666, \"#ed7953\"], [0.7777777777777778, \"#fb9f3a\"], [0.8888888888888888, \"#fdca26\"], [1.0, \"#f0f921\"]], \"type\": \"heatmapgl\"}], \"histogram\": [{\"marker\": {\"colorbar\": {\"outlinewidth\": 0, \"ticks\": \"\"}}, \"type\": \"histogram\"}], \"histogram2d\": [{\"colorbar\": {\"outlinewidth\": 0, \"ticks\": \"\"}, \"colorscale\": [[0.0, \"#0d0887\"], [0.1111111111111111, \"#46039f\"], [0.2222222222222222, \"#7201a8\"], [0.3333333333333333, \"#9c179e\"], [0.4444444444444444, \"#bd3786\"], [0.5555555555555556, \"#d8576b\"], [0.6666666666666666, \"#ed7953\"], [0.7777777777777778, \"#fb9f3a\"], [0.8888888888888888, \"#fdca26\"], [1.0, \"#f0f921\"]], \"type\": \"histogram2d\"}], \"histogram2dcontour\": [{\"colorbar\": {\"outlinewidth\": 0, \"ticks\": \"\"}, \"colorscale\": [[0.0, \"#0d0887\"], [0.1111111111111111, \"#46039f\"], [0.2222222222222222, \"#7201a8\"], [0.3333333333333333, \"#9c179e\"], [0.4444444444444444, \"#bd3786\"], [0.5555555555555556, \"#d8576b\"], [0.6666666666666666, \"#ed7953\"], [0.7777777777777778, \"#fb9f3a\"], [0.8888888888888888, \"#fdca26\"], [1.0, \"#f0f921\"]], \"type\": \"histogram2dcontour\"}], \"mesh3d\": [{\"colorbar\": {\"outlinewidth\": 0, \"ticks\": \"\"}, \"type\": \"mesh3d\"}], \"parcoords\": [{\"line\": {\"colorbar\": {\"outlinewidth\": 0, \"ticks\": \"\"}}, \"type\": \"parcoords\"}], \"pie\": [{\"automargin\": true, \"type\": \"pie\"}], \"scatter\": [{\"marker\": {\"colorbar\": {\"outlinewidth\": 0, \"ticks\": \"\"}}, \"type\": \"scatter\"}], \"scatter3d\": [{\"line\": {\"colorbar\": {\"outlinewidth\": 0, \"ticks\": \"\"}}, \"marker\": {\"colorbar\": {\"outlinewidth\": 0, \"ticks\": \"\"}}, \"type\": \"scatter3d\"}], \"scattercarpet\": [{\"marker\": {\"colorbar\": {\"outlinewidth\": 0, \"ticks\": \"\"}}, \"type\": \"scattercarpet\"}], \"scattergeo\": [{\"marker\": {\"colorbar\": {\"outlinewidth\": 0, \"ticks\": \"\"}}, \"type\": \"scattergeo\"}], \"scattergl\": [{\"marker\": {\"colorbar\": {\"outlinewidth\": 0, \"ticks\": \"\"}}, \"type\": \"scattergl\"}], \"scattermapbox\": [{\"marker\": {\"colorbar\": {\"outlinewidth\": 0, \"ticks\": \"\"}}, \"type\": \"scattermapbox\"}], \"scatterpolar\": [{\"marker\": {\"colorbar\": {\"outlinewidth\": 0, \"ticks\": \"\"}}, \"type\": \"scatterpolar\"}], \"scatterpolargl\": [{\"marker\": {\"colorbar\": {\"outlinewidth\": 0, \"ticks\": \"\"}}, \"type\": \"scatterpolargl\"}], \"scatterternary\": [{\"marker\": {\"colorbar\": {\"outlinewidth\": 0, \"ticks\": \"\"}}, \"type\": \"scatterternary\"}], \"surface\": [{\"colorbar\": {\"outlinewidth\": 0, \"ticks\": \"\"}, \"colorscale\": [[0.0, \"#0d0887\"], [0.1111111111111111, \"#46039f\"], [0.2222222222222222, \"#7201a8\"], [0.3333333333333333, \"#9c179e\"], [0.4444444444444444, \"#bd3786\"], [0.5555555555555556, \"#d8576b\"], [0.6666666666666666, \"#ed7953\"], [0.7777777777777778, \"#fb9f3a\"], [0.8888888888888888, \"#fdca26\"], [1.0, \"#f0f921\"]], \"type\": \"surface\"}], \"table\": [{\"cells\": {\"fill\": {\"color\": \"#EBF0F8\"}, \"line\": {\"color\": \"white\"}}, \"header\": {\"fill\": {\"color\": \"#C8D4E3\"}, \"line\": {\"color\": \"white\"}}, \"type\": \"table\"}]}, \"layout\": {\"annotationdefaults\": {\"arrowcolor\": \"#2a3f5f\", \"arrowhead\": 0, \"arrowwidth\": 1}, \"coloraxis\": {\"colorbar\": {\"outlinewidth\": 0, \"ticks\": \"\"}}, \"colorscale\": {\"diverging\": [[0, \"#8e0152\"], [0.1, \"#c51b7d\"], [0.2, \"#de77ae\"], [0.3, \"#f1b6da\"], [0.4, \"#fde0ef\"], [0.5, \"#f7f7f7\"], [0.6, \"#e6f5d0\"], [0.7, \"#b8e186\"], [0.8, \"#7fbc41\"], [0.9, \"#4d9221\"], [1, \"#276419\"]], \"sequential\": [[0.0, \"#0d0887\"], [0.1111111111111111, \"#46039f\"], [0.2222222222222222, \"#7201a8\"], [0.3333333333333333, \"#9c179e\"], [0.4444444444444444, \"#bd3786\"], [0.5555555555555556, \"#d8576b\"], [0.6666666666666666, \"#ed7953\"], [0.7777777777777778, \"#fb9f3a\"], [0.8888888888888888, \"#fdca26\"], [1.0, \"#f0f921\"]], \"sequentialminus\": [[0.0, \"#0d0887\"], [0.1111111111111111, \"#46039f\"], [0.2222222222222222, \"#7201a8\"], [0.3333333333333333, \"#9c179e\"], [0.4444444444444444, \"#bd3786\"], [0.5555555555555556, \"#d8576b\"], [0.6666666666666666, \"#ed7953\"], [0.7777777777777778, \"#fb9f3a\"], [0.8888888888888888, \"#fdca26\"], [1.0, \"#f0f921\"]]}, \"colorway\": [\"#636efa\", \"#EF553B\", \"#00cc96\", \"#ab63fa\", \"#FFA15A\", \"#19d3f3\", \"#FF6692\", \"#B6E880\", \"#FF97FF\", \"#FECB52\"], \"font\": {\"color\": \"#2a3f5f\"}, \"geo\": {\"bgcolor\": \"white\", \"lakecolor\": \"white\", \"landcolor\": \"#E5ECF6\", \"showlakes\": true, \"showland\": true, \"subunitcolor\": \"white\"}, \"hoverlabel\": {\"align\": \"left\"}, \"hovermode\": \"closest\", \"mapbox\": {\"style\": \"light\"}, \"paper_bgcolor\": \"white\", \"plot_bgcolor\": \"#E5ECF6\", \"polar\": {\"angularaxis\": {\"gridcolor\": \"white\", \"linecolor\": \"white\", \"ticks\": \"\"}, \"bgcolor\": \"#E5ECF6\", \"radialaxis\": {\"gridcolor\": \"white\", \"linecolor\": \"white\", \"ticks\": \"\"}}, \"scene\": {\"xaxis\": {\"backgroundcolor\": \"#E5ECF6\", \"gridcolor\": \"white\", \"gridwidth\": 2, \"linecolor\": \"white\", \"showbackground\": true, \"ticks\": \"\", \"zerolinecolor\": \"white\"}, \"yaxis\": {\"backgroundcolor\": \"#E5ECF6\", \"gridcolor\": \"white\", \"gridwidth\": 2, \"linecolor\": \"white\", \"showbackground\": true, \"ticks\": \"\", \"zerolinecolor\": \"white\"}, \"zaxis\": {\"backgroundcolor\": \"#E5ECF6\", \"gridcolor\": \"white\", \"gridwidth\": 2, \"linecolor\": \"white\", \"showbackground\": true, \"ticks\": \"\", \"zerolinecolor\": \"white\"}}, \"shapedefaults\": {\"line\": {\"color\": \"#2a3f5f\"}}, \"ternary\": {\"aaxis\": {\"gridcolor\": \"white\", \"linecolor\": \"white\", \"ticks\": \"\"}, \"baxis\": {\"gridcolor\": \"white\", \"linecolor\": \"white\", \"ticks\": \"\"}, \"bgcolor\": \"#E5ECF6\", \"caxis\": {\"gridcolor\": \"white\", \"linecolor\": \"white\", \"ticks\": \"\"}}, \"title\": {\"x\": 0.05}, \"xaxis\": {\"automargin\": true, \"gridcolor\": \"white\", \"linecolor\": \"white\", \"ticks\": \"\", \"title\": {\"standoff\": 15}, \"zerolinecolor\": \"white\", \"zerolinewidth\": 2}, \"yaxis\": {\"automargin\": true, \"gridcolor\": \"white\", \"linecolor\": \"white\", \"ticks\": \"\", \"title\": {\"standoff\": 15}, \"zerolinecolor\": \"white\", \"zerolinewidth\": 2}}}, \"title\": {\"text\": \"Confusion Matrix (CAT)\", \"x\": 0.5}, \"width\": 400, \"xaxis\": {\"constrain\": \"domain\", \"dtick\": 1, \"scaleanchor\": \"y\", \"tick0\": 0, \"tickmode\": \"linear\", \"title\": {\"text\": \"Prediction\"}}, \"yaxis\": {\"autorange\": \"reversed\", \"constrain\": \"domain\", \"dtick\": 1, \"tick0\": 0, \"tickmode\": \"linear\", \"title\": {\"text\": \"Truth\"}}},\n",
              "                        {\"responsive\": true}\n",
              "                    ).then(function(){\n",
              "                            \n",
              "var gd = document.getElementById('2cbe5ec3-fe95-4339-8f0f-22a7e54256b5');\n",
              "var x = new MutationObserver(function (mutations, observer) {{\n",
              "        var display = window.getComputedStyle(gd).display;\n",
              "        if (!display || display === 'none') {{\n",
              "            console.log([gd, 'removed!']);\n",
              "            Plotly.purge(gd);\n",
              "            observer.disconnect();\n",
              "        }}\n",
              "}});\n",
              "\n",
              "// Listen for the removal of the full notebook cells\n",
              "var notebookContainer = gd.closest('#notebook-container');\n",
              "if (notebookContainer) {{\n",
              "    x.observe(notebookContainer, {childList: true});\n",
              "}}\n",
              "\n",
              "// Listen for the clearing of the current output cell\n",
              "var outputEl = gd.closest('.output');\n",
              "if (outputEl) {{\n",
              "    x.observe(outputEl, {childList: true});\n",
              "}}\n",
              "\n",
              "                        })\n",
              "                };\n",
              "                \n",
              "            </script>\n",
              "        </div>\n",
              "</body>\n",
              "</html>"
            ]
          },
          "metadata": {}
        }
      ]
    },
    {
      "cell_type": "code",
      "source": [
        "from xgboost import XGBClassifier\n",
        "\n",
        "para_xgb = {'iterations':[200,500],\n",
        "            'learning_rate':[0.1,0.98],\n",
        "             'max_depth': [3,5,10],\n",
        "            'booster': ['gblinear','gbtree']\n",
        "           }\n",
        "\n",
        "model_xgb = GridSearchCV(estimator = XGBClassifier(),\n",
        "                    param_grid = para_xgb,\n",
        "                    cv=10,\n",
        "                    verbose=0,\n",
        "                    n_jobs=-1\n",
        "                   )\n",
        "\n",
        "model_xgb.fit(train_X_re,train_y_re)"
      ],
      "metadata": {
        "colab": {
          "base_uri": "https://localhost:8080/"
        },
        "id": "RH5WkHyNDdf6",
        "outputId": "17399d69-494e-448c-931b-2cd1836e236b"
      },
      "execution_count": 72,
      "outputs": [
        {
          "output_type": "execute_result",
          "data": {
            "text/plain": [
              "GridSearchCV(cv=10, estimator=XGBClassifier(), n_jobs=-1,\n",
              "             param_grid={'booster': ['gblinear', 'gbtree'],\n",
              "                         'iterations': [200, 500], 'learning_rate': [0.1, 0.98],\n",
              "                         'max_depth': [3, 5, 10]})"
            ]
          },
          "metadata": {},
          "execution_count": 72
        }
      ]
    },
    {
      "cell_type": "code",
      "source": [
        "model_xgb.best_params_"
      ],
      "metadata": {
        "colab": {
          "base_uri": "https://localhost:8080/"
        },
        "id": "bzHbvI280mvw",
        "outputId": "c6a38e45-6347-4d94-8cb6-972540306256"
      },
      "execution_count": 91,
      "outputs": [
        {
          "output_type": "execute_result",
          "data": {
            "text/plain": [
              "{'booster': 'gbtree', 'iterations': 200, 'learning_rate': 0.1, 'max_depth': 10}"
            ]
          },
          "metadata": {},
          "execution_count": 91
        }
      ]
    },
    {
      "cell_type": "code",
      "source": [
        "cm_xgb,cr_xgb,auc_score_xgb,_  = test_eval(model_xgb,test_X,test_y)\n",
        "fpr_xgb, tpr_xgb, thresh_xgb = roc_curve(test_y, model_xgb.predict_proba(test_X)[:,1], pos_label = 1)\n",
        "precision_xgb, recall_xgb, _ = precision_recall_curve(test_y, model_xgb.predict_proba(test_X)[:,1],pos_label=1)"
      ],
      "metadata": {
        "colab": {
          "base_uri": "https://localhost:8080/"
        },
        "id": "qYVG0kDM3yLv",
        "outputId": "e3843881-6b8f-4bda-ab6f-56598c6f0171"
      },
      "execution_count": 92,
      "outputs": [
        {
          "output_type": "stream",
          "name": "stdout",
          "text": [
            "Confusion Matrix\n",
            "====================\n",
            "[[823 210]\n",
            " [131 243]] \n",
            "\n",
            "Classification Report\n",
            "====================\n",
            "              precision    recall  f1-score   support\n",
            "\n",
            "           0       0.86      0.80      0.83      1033\n",
            "           1       0.54      0.65      0.59       374\n",
            "\n",
            "    accuracy                           0.76      1407\n",
            "   macro avg       0.70      0.72      0.71      1407\n",
            "weighted avg       0.78      0.76      0.76      1407\n",
            "\n"
          ]
        }
      ]
    },
    {
      "cell_type": "code",
      "source": [
        "plot_cmatrix(cm_xgb, name='XGB')"
      ],
      "metadata": {
        "colab": {
          "base_uri": "https://localhost:8080/",
          "height": 417
        },
        "id": "xBm8cdbK4Epn",
        "outputId": "fc9387b2-ebfc-4d66-a45e-c43421a6494a"
      },
      "execution_count": 93,
      "outputs": [
        {
          "output_type": "display_data",
          "data": {
            "text/html": [
              "<html>\n",
              "<head><meta charset=\"utf-8\" /></head>\n",
              "<body>\n",
              "    <div>\n",
              "            <script src=\"https://cdnjs.cloudflare.com/ajax/libs/mathjax/2.7.5/MathJax.js?config=TeX-AMS-MML_SVG\"></script><script type=\"text/javascript\">if (window.MathJax) {MathJax.Hub.Config({SVG: {font: \"STIX-Web\"}});}</script>\n",
              "                <script type=\"text/javascript\">window.PlotlyConfig = {MathJaxConfig: 'local'};</script>\n",
              "        <script src=\"https://cdn.plot.ly/plotly-latest.min.js\"></script>    \n",
              "            <div id=\"e36b3038-164c-4873-a004-5bbcde6e1c29\" class=\"plotly-graph-div\" style=\"height:400px; width:400px;\"></div>\n",
              "            <script type=\"text/javascript\">\n",
              "                \n",
              "                    window.PLOTLYENV=window.PLOTLYENV || {};\n",
              "                    \n",
              "                if (document.getElementById(\"e36b3038-164c-4873-a004-5bbcde6e1c29\")) {\n",
              "                    Plotly.newPlot(\n",
              "                        'e36b3038-164c-4873-a004-5bbcde6e1c29',\n",
              "                        [{\"coloraxis\": \"coloraxis\", \"type\": \"heatmap\", \"z\": [[823, 210], [131, 243]]}],\n",
              "                        {\"annotations\": [{\"font\": {\"color\": \"black\", \"size\": 12}, \"showarrow\": false, \"text\": \"823\", \"x\": 0, \"y\": 0}, {\"font\": {\"color\": \"black\", \"size\": 12}, \"showarrow\": false, \"text\": \"210\", \"x\": 1, \"y\": 0}, {\"font\": {\"color\": \"black\", \"size\": 12}, \"showarrow\": false, \"text\": \"131\", \"x\": 0, \"y\": 1}, {\"font\": {\"color\": \"black\", \"size\": 12}, \"showarrow\": false, \"text\": \"243\", \"x\": 1, \"y\": 1}], \"coloraxis\": {\"colorscale\": [[0.0, \"peachpuff\"], [0.5, \"lime\"], [1.0, \"green\"]]}, \"height\": 400, \"margin\": {\"t\": 60}, \"template\": {\"data\": {\"bar\": [{\"error_x\": {\"color\": \"#2a3f5f\"}, \"error_y\": {\"color\": \"#2a3f5f\"}, \"marker\": {\"line\": {\"color\": \"#E5ECF6\", \"width\": 0.5}}, \"type\": \"bar\"}], \"barpolar\": [{\"marker\": {\"line\": {\"color\": \"#E5ECF6\", \"width\": 0.5}}, \"type\": \"barpolar\"}], \"carpet\": [{\"aaxis\": {\"endlinecolor\": \"#2a3f5f\", \"gridcolor\": \"white\", \"linecolor\": \"white\", \"minorgridcolor\": \"white\", \"startlinecolor\": \"#2a3f5f\"}, \"baxis\": {\"endlinecolor\": \"#2a3f5f\", \"gridcolor\": \"white\", \"linecolor\": \"white\", \"minorgridcolor\": \"white\", \"startlinecolor\": \"#2a3f5f\"}, \"type\": \"carpet\"}], \"choropleth\": [{\"colorbar\": {\"outlinewidth\": 0, \"ticks\": \"\"}, \"type\": \"choropleth\"}], \"contour\": [{\"colorbar\": {\"outlinewidth\": 0, \"ticks\": \"\"}, \"colorscale\": [[0.0, \"#0d0887\"], [0.1111111111111111, \"#46039f\"], [0.2222222222222222, \"#7201a8\"], [0.3333333333333333, \"#9c179e\"], [0.4444444444444444, \"#bd3786\"], [0.5555555555555556, \"#d8576b\"], [0.6666666666666666, \"#ed7953\"], [0.7777777777777778, \"#fb9f3a\"], [0.8888888888888888, \"#fdca26\"], [1.0, \"#f0f921\"]], \"type\": \"contour\"}], \"contourcarpet\": [{\"colorbar\": {\"outlinewidth\": 0, \"ticks\": \"\"}, \"type\": \"contourcarpet\"}], \"heatmap\": [{\"colorbar\": {\"outlinewidth\": 0, \"ticks\": \"\"}, \"colorscale\": [[0.0, \"#0d0887\"], [0.1111111111111111, \"#46039f\"], [0.2222222222222222, \"#7201a8\"], [0.3333333333333333, \"#9c179e\"], [0.4444444444444444, \"#bd3786\"], [0.5555555555555556, \"#d8576b\"], [0.6666666666666666, \"#ed7953\"], [0.7777777777777778, \"#fb9f3a\"], [0.8888888888888888, \"#fdca26\"], [1.0, \"#f0f921\"]], \"type\": \"heatmap\"}], \"heatmapgl\": [{\"colorbar\": {\"outlinewidth\": 0, \"ticks\": \"\"}, \"colorscale\": [[0.0, \"#0d0887\"], [0.1111111111111111, \"#46039f\"], [0.2222222222222222, \"#7201a8\"], [0.3333333333333333, \"#9c179e\"], [0.4444444444444444, \"#bd3786\"], [0.5555555555555556, \"#d8576b\"], [0.6666666666666666, \"#ed7953\"], [0.7777777777777778, \"#fb9f3a\"], [0.8888888888888888, \"#fdca26\"], [1.0, \"#f0f921\"]], \"type\": \"heatmapgl\"}], \"histogram\": [{\"marker\": {\"colorbar\": {\"outlinewidth\": 0, \"ticks\": \"\"}}, \"type\": \"histogram\"}], \"histogram2d\": [{\"colorbar\": {\"outlinewidth\": 0, \"ticks\": \"\"}, \"colorscale\": [[0.0, \"#0d0887\"], [0.1111111111111111, \"#46039f\"], [0.2222222222222222, \"#7201a8\"], [0.3333333333333333, \"#9c179e\"], [0.4444444444444444, \"#bd3786\"], [0.5555555555555556, \"#d8576b\"], [0.6666666666666666, \"#ed7953\"], [0.7777777777777778, \"#fb9f3a\"], [0.8888888888888888, \"#fdca26\"], [1.0, \"#f0f921\"]], \"type\": \"histogram2d\"}], \"histogram2dcontour\": [{\"colorbar\": {\"outlinewidth\": 0, \"ticks\": \"\"}, \"colorscale\": [[0.0, \"#0d0887\"], [0.1111111111111111, \"#46039f\"], [0.2222222222222222, \"#7201a8\"], [0.3333333333333333, \"#9c179e\"], [0.4444444444444444, \"#bd3786\"], [0.5555555555555556, \"#d8576b\"], [0.6666666666666666, \"#ed7953\"], [0.7777777777777778, \"#fb9f3a\"], [0.8888888888888888, \"#fdca26\"], [1.0, \"#f0f921\"]], \"type\": \"histogram2dcontour\"}], \"mesh3d\": [{\"colorbar\": {\"outlinewidth\": 0, \"ticks\": \"\"}, \"type\": \"mesh3d\"}], \"parcoords\": [{\"line\": {\"colorbar\": {\"outlinewidth\": 0, \"ticks\": \"\"}}, \"type\": \"parcoords\"}], \"pie\": [{\"automargin\": true, \"type\": \"pie\"}], \"scatter\": [{\"marker\": {\"colorbar\": {\"outlinewidth\": 0, \"ticks\": \"\"}}, \"type\": \"scatter\"}], \"scatter3d\": [{\"line\": {\"colorbar\": {\"outlinewidth\": 0, \"ticks\": \"\"}}, \"marker\": {\"colorbar\": {\"outlinewidth\": 0, \"ticks\": \"\"}}, \"type\": \"scatter3d\"}], \"scattercarpet\": [{\"marker\": {\"colorbar\": {\"outlinewidth\": 0, \"ticks\": \"\"}}, \"type\": \"scattercarpet\"}], \"scattergeo\": [{\"marker\": {\"colorbar\": {\"outlinewidth\": 0, \"ticks\": \"\"}}, \"type\": \"scattergeo\"}], \"scattergl\": [{\"marker\": {\"colorbar\": {\"outlinewidth\": 0, \"ticks\": \"\"}}, \"type\": \"scattergl\"}], \"scattermapbox\": [{\"marker\": {\"colorbar\": {\"outlinewidth\": 0, \"ticks\": \"\"}}, \"type\": \"scattermapbox\"}], \"scatterpolar\": [{\"marker\": {\"colorbar\": {\"outlinewidth\": 0, \"ticks\": \"\"}}, \"type\": \"scatterpolar\"}], \"scatterpolargl\": [{\"marker\": {\"colorbar\": {\"outlinewidth\": 0, \"ticks\": \"\"}}, \"type\": \"scatterpolargl\"}], \"scatterternary\": [{\"marker\": {\"colorbar\": {\"outlinewidth\": 0, \"ticks\": \"\"}}, \"type\": \"scatterternary\"}], \"surface\": [{\"colorbar\": {\"outlinewidth\": 0, \"ticks\": \"\"}, \"colorscale\": [[0.0, \"#0d0887\"], [0.1111111111111111, \"#46039f\"], [0.2222222222222222, \"#7201a8\"], [0.3333333333333333, \"#9c179e\"], [0.4444444444444444, \"#bd3786\"], [0.5555555555555556, \"#d8576b\"], [0.6666666666666666, \"#ed7953\"], [0.7777777777777778, \"#fb9f3a\"], [0.8888888888888888, \"#fdca26\"], [1.0, \"#f0f921\"]], \"type\": \"surface\"}], \"table\": [{\"cells\": {\"fill\": {\"color\": \"#EBF0F8\"}, \"line\": {\"color\": \"white\"}}, \"header\": {\"fill\": {\"color\": \"#C8D4E3\"}, \"line\": {\"color\": \"white\"}}, \"type\": \"table\"}]}, \"layout\": {\"annotationdefaults\": {\"arrowcolor\": \"#2a3f5f\", \"arrowhead\": 0, \"arrowwidth\": 1}, \"coloraxis\": {\"colorbar\": {\"outlinewidth\": 0, \"ticks\": \"\"}}, \"colorscale\": {\"diverging\": [[0, \"#8e0152\"], [0.1, \"#c51b7d\"], [0.2, \"#de77ae\"], [0.3, \"#f1b6da\"], [0.4, \"#fde0ef\"], [0.5, \"#f7f7f7\"], [0.6, \"#e6f5d0\"], [0.7, \"#b8e186\"], [0.8, \"#7fbc41\"], [0.9, \"#4d9221\"], [1, \"#276419\"]], \"sequential\": [[0.0, \"#0d0887\"], [0.1111111111111111, \"#46039f\"], [0.2222222222222222, \"#7201a8\"], [0.3333333333333333, \"#9c179e\"], [0.4444444444444444, \"#bd3786\"], [0.5555555555555556, \"#d8576b\"], [0.6666666666666666, \"#ed7953\"], [0.7777777777777778, \"#fb9f3a\"], [0.8888888888888888, \"#fdca26\"], [1.0, \"#f0f921\"]], \"sequentialminus\": [[0.0, \"#0d0887\"], [0.1111111111111111, \"#46039f\"], [0.2222222222222222, \"#7201a8\"], [0.3333333333333333, \"#9c179e\"], [0.4444444444444444, \"#bd3786\"], [0.5555555555555556, \"#d8576b\"], [0.6666666666666666, \"#ed7953\"], [0.7777777777777778, \"#fb9f3a\"], [0.8888888888888888, \"#fdca26\"], [1.0, \"#f0f921\"]]}, \"colorway\": [\"#636efa\", \"#EF553B\", \"#00cc96\", \"#ab63fa\", \"#FFA15A\", \"#19d3f3\", \"#FF6692\", \"#B6E880\", \"#FF97FF\", \"#FECB52\"], \"font\": {\"color\": \"#2a3f5f\"}, \"geo\": {\"bgcolor\": \"white\", \"lakecolor\": \"white\", \"landcolor\": \"#E5ECF6\", \"showlakes\": true, \"showland\": true, \"subunitcolor\": \"white\"}, \"hoverlabel\": {\"align\": \"left\"}, \"hovermode\": \"closest\", \"mapbox\": {\"style\": \"light\"}, \"paper_bgcolor\": \"white\", \"plot_bgcolor\": \"#E5ECF6\", \"polar\": {\"angularaxis\": {\"gridcolor\": \"white\", \"linecolor\": \"white\", \"ticks\": \"\"}, \"bgcolor\": \"#E5ECF6\", \"radialaxis\": {\"gridcolor\": \"white\", \"linecolor\": \"white\", \"ticks\": \"\"}}, \"scene\": {\"xaxis\": {\"backgroundcolor\": \"#E5ECF6\", \"gridcolor\": \"white\", \"gridwidth\": 2, \"linecolor\": \"white\", \"showbackground\": true, \"ticks\": \"\", \"zerolinecolor\": \"white\"}, \"yaxis\": {\"backgroundcolor\": \"#E5ECF6\", \"gridcolor\": \"white\", \"gridwidth\": 2, \"linecolor\": \"white\", \"showbackground\": true, \"ticks\": \"\", \"zerolinecolor\": \"white\"}, \"zaxis\": {\"backgroundcolor\": \"#E5ECF6\", \"gridcolor\": \"white\", \"gridwidth\": 2, \"linecolor\": \"white\", \"showbackground\": true, \"ticks\": \"\", \"zerolinecolor\": \"white\"}}, \"shapedefaults\": {\"line\": {\"color\": \"#2a3f5f\"}}, \"ternary\": {\"aaxis\": {\"gridcolor\": \"white\", \"linecolor\": \"white\", \"ticks\": \"\"}, \"baxis\": {\"gridcolor\": \"white\", \"linecolor\": \"white\", \"ticks\": \"\"}, \"bgcolor\": \"#E5ECF6\", \"caxis\": {\"gridcolor\": \"white\", \"linecolor\": \"white\", \"ticks\": \"\"}}, \"title\": {\"x\": 0.05}, \"xaxis\": {\"automargin\": true, \"gridcolor\": \"white\", \"linecolor\": \"white\", \"ticks\": \"\", \"title\": {\"standoff\": 15}, \"zerolinecolor\": \"white\", \"zerolinewidth\": 2}, \"yaxis\": {\"automargin\": true, \"gridcolor\": \"white\", \"linecolor\": \"white\", \"ticks\": \"\", \"title\": {\"standoff\": 15}, \"zerolinecolor\": \"white\", \"zerolinewidth\": 2}}}, \"title\": {\"text\": \"Confusion Matrix (XGB)\", \"x\": 0.5}, \"width\": 400, \"xaxis\": {\"constrain\": \"domain\", \"dtick\": 1, \"scaleanchor\": \"y\", \"tick0\": 0, \"tickmode\": \"linear\", \"title\": {\"text\": \"Prediction\"}}, \"yaxis\": {\"autorange\": \"reversed\", \"constrain\": \"domain\", \"dtick\": 1, \"tick0\": 0, \"tickmode\": \"linear\", \"title\": {\"text\": \"Truth\"}}},\n",
              "                        {\"responsive\": true}\n",
              "                    ).then(function(){\n",
              "                            \n",
              "var gd = document.getElementById('e36b3038-164c-4873-a004-5bbcde6e1c29');\n",
              "var x = new MutationObserver(function (mutations, observer) {{\n",
              "        var display = window.getComputedStyle(gd).display;\n",
              "        if (!display || display === 'none') {{\n",
              "            console.log([gd, 'removed!']);\n",
              "            Plotly.purge(gd);\n",
              "            observer.disconnect();\n",
              "        }}\n",
              "}});\n",
              "\n",
              "// Listen for the removal of the full notebook cells\n",
              "var notebookContainer = gd.closest('#notebook-container');\n",
              "if (notebookContainer) {{\n",
              "    x.observe(notebookContainer, {childList: true});\n",
              "}}\n",
              "\n",
              "// Listen for the clearing of the current output cell\n",
              "var outputEl = gd.closest('.output');\n",
              "if (outputEl) {{\n",
              "    x.observe(outputEl, {childList: true});\n",
              "}}\n",
              "\n",
              "                        })\n",
              "                };\n",
              "                \n",
              "            </script>\n",
              "        </div>\n",
              "</body>\n",
              "</html>"
            ]
          },
          "metadata": {}
        }
      ]
    },
    {
      "cell_type": "markdown",
      "source": [
        "F1-score is a weighted average or harmonic mean of precision and recall, where the relative contribution of precision and recall to the F1 score are equal. It merges these precision and recall metrics into a single measure that we can use to compare models.\n",
        "F1 score reaches its best value at 1 and worst score at 0."
      ],
      "metadata": {
        "id": "m3nq3xTAhLsd"
      }
    },
    {
      "cell_type": "code",
      "source": [
        "def extractCR(crdict, id):\n",
        "  rdigit = 4\n",
        "  p = round(crdict['macro avg']['precision'],rdigit)\n",
        "  r = round(crdict['macro avg']['recall'],rdigit)\n",
        "  f = round(crdict['macro avg']['f1-score'],rdigit)\n",
        "  return pd.DataFrame({\n",
        "                    'precision': [p],\n",
        "                    'recall': [r],\n",
        "                    'f1-score': [f]\n",
        "                     }, index = [id])\n"
      ],
      "metadata": {
        "id": "qJXj79O7NnZU"
      },
      "execution_count": 94,
      "outputs": []
    },
    {
      "cell_type": "code",
      "source": [
        "model_dict = {'LR':cr_lr,'GNB':cr_gnb,'NN':cr_nn,'KNN':cr_knn,'DT': cr_dt,\n",
        "              'SVC': cr_svc, 'RF': cr_rf, 'ADA':cr_ada,'CAT': cr_cat, 'SGB': cr_sgb, 'XGB':cr_xgb}\n",
        "\n",
        "df_lst = []\n",
        "for k,v in model_dict.items():\n",
        "  tmp = extractCR(v,k)\n",
        "  df_lst.append(tmp) \n",
        "  \n",
        "  \n",
        "results = pd.concat(df_lst,axis=0)\n",
        "print(results)"
      ],
      "metadata": {
        "colab": {
          "base_uri": "https://localhost:8080/"
        },
        "id": "uO4vZezZJ7VP",
        "outputId": "277c72ef-fff4-45ee-cb34-c0fd895e2005"
      },
      "execution_count": 95,
      "outputs": [
        {
          "output_type": "stream",
          "name": "stdout",
          "text": [
            "     precision  recall  f1-score\n",
            "LR      0.7264  0.7676    0.7374\n",
            "GNB     0.6844  0.7361    0.6631\n",
            "NN      0.7294  0.7410    0.7346\n",
            "KNN     0.6708  0.7143    0.6700\n",
            "DT      0.6708  0.7048    0.6772\n",
            "SVC     0.6864  0.7155    0.6948\n",
            "RF      0.7151  0.7326    0.7223\n",
            "ADA     0.7188  0.7711    0.7251\n",
            "CAT     0.7066  0.7289    0.7150\n",
            "SGB     0.7036  0.7145    0.7085\n",
            "XGB     0.6996  0.7232    0.7080\n"
          ]
        }
      ]
    },
    {
      "cell_type": "markdown",
      "source": [
        "### Evaluation Metrics (Ranking Metrics)\n",
        "\n",
        "  * ROC AUC score\n",
        "  * ROC Curve\n",
        "  * Precision Recall Curve\n",
        "  * Precision Recall AUC score"
      ],
      "metadata": {
        "id": "UZQLgoPgrJ4m"
      }
    },
    {
      "cell_type": "markdown",
      "source": [
        "### Receiver Operating Characteristics (ROC) Curves\n",
        "\n",
        "\n",
        "ROC Curves summarize the trade-off between the true positive rate and false positive rate for a predictive model using different probability thresholds.  \n"
      ],
      "metadata": {
        "id": "gVnXbqny9pwX"
      }
    },
    {
      "cell_type": "code",
      "source": [
        "fig = go.Figure()\n",
        "\n",
        "fig.add_trace(go.Scatter(x=fpr_lr,y=tpr_lr,mode='lines',name='LR'))\n",
        "fig.add_trace(go.Scatter(x=fpr_gnb,y=tpr_gnb,mode='lines',name='GNB'))\n",
        "\n",
        "fig.add_trace(go.Scatter(x=fpr_nn,y=tpr_nn,mode='lines',name='NN'))\n",
        "fig.add_trace(go.Scatter(x=fpr_knn,y=tpr_knn,mode='lines',name='KNN'))\n",
        "fig.add_trace(go.Scatter(x=fpr_dt,y=tpr_dt,mode='lines',name='DT'))\n",
        "fig.add_trace(go.Scatter(x=fpr_svc,y=tpr_svc,mode='lines',name='SVC'))\n",
        "\n",
        "fig.add_trace(go.Scatter(x=fpr_rf,y=tpr_rf,mode='lines',name='RF'))\n",
        "fig.add_trace(go.Scatter(x=fpr_ada,y=tpr_ada,mode='lines',name='ADA'))\n",
        "fig.add_trace(go.Scatter(x=fpr_cat,y=tpr_cat,mode='lines',name='CAT'))\n",
        "fig.add_trace(go.Scatter(x=fpr_sgb,y=tpr_sgb,mode='lines',name='SGB'))\n",
        "fig.add_trace(go.Scatter(x=fpr_xgb,y=tpr_xgb,mode='lines',name='XGB'))\n",
        "fig.update_layout(title='ROC',\n",
        "                   xaxis_title='False Positive Rate (Sensitivity)',\n",
        "                   yaxis_title='True Positive Rate (1 - Specificity)', title_x = 0.5,\n",
        "                   width = 700, height=500,\n",
        "                 )\n",
        "fig.show()"
      ],
      "metadata": {
        "colab": {
          "base_uri": "https://localhost:8080/",
          "height": 517
        },
        "id": "gqkje0ghptsW",
        "outputId": "c916adb0-b00f-403c-e7c6-ef4173f47f35"
      },
      "execution_count": 96,
      "outputs": [
        {
          "output_type": "display_data",
          "data": {
            "text/html": [
              "<html>\n",
              "<head><meta charset=\"utf-8\" /></head>\n",
              "<body>\n",
              "    <div>\n",
              "            <script src=\"https://cdnjs.cloudflare.com/ajax/libs/mathjax/2.7.5/MathJax.js?config=TeX-AMS-MML_SVG\"></script><script type=\"text/javascript\">if (window.MathJax) {MathJax.Hub.Config({SVG: {font: \"STIX-Web\"}});}</script>\n",
              "                <script type=\"text/javascript\">window.PlotlyConfig = {MathJaxConfig: 'local'};</script>\n",
              "        <script src=\"https://cdn.plot.ly/plotly-latest.min.js\"></script>    \n",
              "            <div id=\"5db36649-750a-4afe-9de7-99b7d3082394\" class=\"plotly-graph-div\" style=\"height:500px; width:700px;\"></div>\n",
              "            <script type=\"text/javascript\">\n",
              "                \n",
              "                    window.PLOTLYENV=window.PLOTLYENV || {};\n",
              "                    \n",
              "                if (document.getElementById(\"5db36649-750a-4afe-9de7-99b7d3082394\")) {\n",
              "                    Plotly.newPlot(\n",
              "                        '5db36649-750a-4afe-9de7-99b7d3082394',\n",
              "                        [{\"mode\": \"lines\", \"name\": \"LR\", \"type\": \"scatter\", \"x\": [0.0, 0.000968054211035818, 0.000968054211035818, 0.001936108422071636, 0.001936108422071636, 0.002904162633107454, 0.002904162633107454, 0.003872216844143272, 0.003872216844143272, 0.00484027105517909, 0.00484027105517909, 0.005808325266214908, 0.005808325266214908, 0.007744433688286544, 0.007744433688286544, 0.00968054211035818, 0.00968054211035818, 0.010648596321393998, 0.010648596321393998, 0.011616650532429816, 0.011616650532429816, 0.01452081316553727, 0.01452081316553727, 0.015488867376573089, 0.015488867376573089, 0.016456921587608905, 0.016456921587608905, 0.018393030009680542, 0.018393030009680542, 0.01936108422071636, 0.01936108422071636, 0.021297192642787996, 0.021297192642787996, 0.023233301064859633, 0.023233301064859633, 0.02420135527589545, 0.02420135527589545, 0.02516940948693127, 0.02516940948693127, 0.027105517909002903, 0.027105517909002903, 0.030977734753146177, 0.030977734753146177, 0.031945788964181994, 0.031945788964181994, 0.03388189738625363, 0.03388189738625363, 0.03484995159728945, 0.03484995159728945, 0.03969022265246854, 0.03969022265246854, 0.04065827686350436, 0.04065827686350436, 0.04259438528557599, 0.04259438528557599, 0.04356243949661181, 0.04356243949661181, 0.044530493707647625, 0.044530493707647625, 0.04743465634075508, 0.04743465634075508, 0.0484027105517909, 0.0484027105517909, 0.05033881897386254, 0.05033881897386254, 0.051306873184898356, 0.051306873184898356, 0.05227492739593417, 0.05227492739593417, 0.05324298160696999, 0.05324298160696999, 0.05517909002904162, 0.05517909002904162, 0.05614714424007745, 0.05614714424007745, 0.05808325266214908, 0.05808325266214908, 0.060019361084220714, 0.060019361084220714, 0.06098741529525654, 0.06098741529525654, 0.06485963213939981, 0.06485963213939981, 0.06679574056147145, 0.06679574056147145, 0.06776379477250725, 0.06776379477250725, 0.07260406582768635, 0.07260406582768635, 0.07357212003872217, 0.07357212003872217, 0.0755082284607938, 0.0755082284607938, 0.07647628267182963, 0.07647628267182963, 0.07744433688286544, 0.07744433688286544, 0.0803484995159729, 0.0803484995159729, 0.08131655372700872, 0.08131655372700872, 0.08325266214908035, 0.08325266214908035, 0.08712487899322362, 0.08712487899322362, 0.09002904162633107, 0.09002904162633107, 0.0909970958373669, 0.0909970958373669, 0.09196515004840271, 0.09196515004840271, 0.09293320425943853, 0.09293320425943853, 0.09874152952565343, 0.09874152952565343, 0.09970958373668926, 0.09970958373668926, 0.10551790900290416, 0.10551790900290416, 0.1074540174249758, 0.1074540174249758, 0.11132623426911907, 0.11132623426911907, 0.1122942884801549, 0.1122942884801549, 0.1132623426911907, 0.1132623426911907, 0.11423039690222653, 0.11423039690222653, 0.11519845111326234, 0.11519845111326234, 0.11616650532429816, 0.11616650532429816, 0.1181026137463698, 0.1181026137463698, 0.12003872216844143, 0.12003872216844143, 0.12100677637947725, 0.12100677637947725, 0.12294288480154889, 0.12294288480154889, 0.12584704743465633, 0.12584704743465633, 0.12778315585672798, 0.12778315585672798, 0.1287512100677638, 0.1287512100677638, 0.12971926427879962, 0.12971926427879962, 0.13068731848983542, 0.13068731848983542, 0.13165537270087124, 0.13165537270087124, 0.1335914811229429, 0.1335914811229429, 0.1345595353339787, 0.1345595353339787, 0.13746369796708616, 0.13746369796708616, 0.1403678606001936, 0.1403678606001936, 0.14133591481122942, 0.14133591481122942, 0.14230396902226525, 0.14230396902226525, 0.1442400774443369, 0.1442400774443369, 0.14617618586640851, 0.14617618586640851, 0.14714424007744434, 0.14714424007744434, 0.14908034849951599, 0.14908034849951599, 0.15004840271055178, 0.15004840271055178, 0.15295256534365925, 0.15295256534365925, 0.1558567279767667, 0.1558567279767667, 0.16263310745401743, 0.16263310745401743, 0.16360116166505323, 0.16360116166505323, 0.1665053242981607, 0.1665053242981607, 0.16844143272023232, 0.16844143272023232, 0.17231364956437561, 0.17231364956437561, 0.1732817037754114, 0.1732817037754114, 0.17521781219748306, 0.17521781219748306, 0.1771539206195547, 0.1771539206195547, 0.1781219748305905, 0.1781219748305905, 0.18005808325266215, 0.18005808325266215, 0.1819941916747338, 0.1819941916747338, 0.18393030009680542, 0.18393030009680542, 0.18973862536302033, 0.18973862536302033, 0.19070667957405615, 0.19070667957405615, 0.19167473378509198, 0.19167473378509198, 0.19264278799612777, 0.19264278799612777, 0.19651500484027107, 0.19651500484027107, 0.19748305905130686, 0.19748305905130686, 0.20038722168441434, 0.20038722168441434, 0.20232333010648595, 0.20232333010648595, 0.20329138431752178, 0.20329138431752178, 0.20619554695062922, 0.20619554695062922, 0.20813165537270087, 0.20813165537270087, 0.2090997095837367, 0.2090997095837367, 0.21200387221684414, 0.21200387221684414, 0.2158760890609874, 0.2158760890609874, 0.21684414327202323, 0.21684414327202323, 0.21781219748305905, 0.21781219748305905, 0.22168441432720232, 0.22168441432720232, 0.2245885769603098, 0.2245885769603098, 0.22555663117134558, 0.22555663117134558, 0.22846079380445306, 0.22846079380445306, 0.22942884801548888, 0.22942884801548888, 0.23330106485963215, 0.23330106485963215, 0.23523717328170377, 0.23523717328170377, 0.23910939012584706, 0.23910939012584706, 0.24104549854791868, 0.24104549854791868, 0.24588576960309777, 0.24588576960309777, 0.2468538238141336, 0.2468538238141336, 0.24975798644724104, 0.24975798644724104, 0.25072604065827686, 0.25072604065827686, 0.2526621490803485, 0.2526621490803485, 0.25653436592449175, 0.25653436592449175, 0.2700871248789932, 0.2700871248789932, 0.271055179090029, 0.271055179090029, 0.2739593417231365, 0.2739593417231365, 0.27783155856727976, 0.27783155856727976, 0.2797676669893514, 0.2797676669893514, 0.28267182962245885, 0.28267182962245885, 0.2884801548886738, 0.2884801548886738, 0.2894482090997096, 0.2894482090997096, 0.2904162633107454, 0.2904162633107454, 0.2971926427879961, 0.2971926427879961, 0.29816069699903197, 0.29816069699903197, 0.29912875121006777, 0.29912875121006777, 0.3068731848983543, 0.3068731848983543, 0.30880929332042595, 0.30880929332042595, 0.3117134559535334, 0.3117134559535334, 0.31752178121974833, 0.31752178121974833, 0.3204259438528558, 0.3204259438528558, 0.32526621490803487, 0.32526621490803487, 0.32623426911907066, 0.32623426911907066, 0.33107454017424975, 0.33107454017424975, 0.3330106485963214, 0.3330106485963214, 0.3339787028073572, 0.3339787028073572, 0.34172313649564373, 0.34172313649564373, 0.3436592449177154, 0.3436592449177154, 0.3601161665053243, 0.3601161665053243, 0.3697967086156825, 0.3697967086156825, 0.3727008712487899, 0.3727008712487899, 0.3736689254598258, 0.3736689254598258, 0.3765730880929332, 0.3765730880929332, 0.37850919651500486, 0.37850919651500486, 0.38044530493707646, 0.38044530493707646, 0.3814133591481123, 0.3814133591481123, 0.3823814133591481, 0.3823814133591481, 0.38334946757018395, 0.38334946757018395, 0.3920619554695063, 0.3920619554695063, 0.39399806389157793, 0.39399806389157793, 0.40174249757986447, 0.40174249757986447, 0.41142303969022265, 0.41142303969022265, 0.4453049370764763, 0.4453049370764763, 0.44724104549854793, 0.44724104549854793, 0.45595353339787026, 0.45595353339787026, 0.4617618586640852, 0.4617618586640852, 0.4675701839303001, 0.4675701839303001, 0.47337850919651503, 0.47337850919651503, 0.47725072604065827, 0.47725072604065827, 0.48209099709583736, 0.48209099709583736, 0.4898354307841239, 0.4898354307841239, 0.510164569215876, 0.510164569215876, 0.5188770571151985, 0.5188770571151985, 0.5537270087124879, 0.5537270087124879, 0.57405614714424, 0.57405614714424, 0.6001936108422071, 0.6001936108422071, 0.6050338818973863, 0.6050338818973863, 0.6272991287512101, 0.6272991287512101, 0.6292352371732817, 0.6292352371732817, 0.6427879961277831, 0.6427879961277831, 0.643756050338819, 0.643756050338819, 0.7318489835430784, 0.7318489835430784, 0.7366892545982575, 0.7366892545982575, 0.7376573088092934, 0.7376573088092934, 0.8422071636011617, 0.8422071636011617, 1.0], \"y\": [0.0, 0.0, 0.0053475935828877, 0.0053475935828877, 0.02406417112299465, 0.02406417112299465, 0.034759358288770054, 0.034759358288770054, 0.040106951871657755, 0.040106951871657755, 0.053475935828877004, 0.053475935828877004, 0.058823529411764705, 0.058823529411764705, 0.06149732620320856, 0.06149732620320856, 0.06951871657754011, 0.06951871657754011, 0.0748663101604278, 0.0748663101604278, 0.08021390374331551, 0.08021390374331551, 0.0855614973262032, 0.0855614973262032, 0.09893048128342247, 0.09893048128342247, 0.10962566844919786, 0.10962566844919786, 0.15508021390374332, 0.15508021390374332, 0.16042780748663102, 0.16042780748663102, 0.1657754010695187, 0.1657754010695187, 0.16844919786096257, 0.16844919786096257, 0.17379679144385027, 0.17379679144385027, 0.18449197860962566, 0.18449197860962566, 0.1925133689839572, 0.1925133689839572, 0.19786096256684493, 0.19786096256684493, 0.20320855614973263, 0.20320855614973263, 0.20588235294117646, 0.20588235294117646, 0.21390374331550802, 0.21390374331550802, 0.22192513368983957, 0.22192513368983957, 0.22459893048128343, 0.22459893048128343, 0.22727272727272727, 0.22727272727272727, 0.22994652406417113, 0.22994652406417113, 0.24331550802139038, 0.24331550802139038, 0.26737967914438504, 0.26737967914438504, 0.28609625668449196, 0.28609625668449196, 0.2967914438502674, 0.2967914438502674, 0.31016042780748665, 0.31016042780748665, 0.31283422459893045, 0.31283422459893045, 0.32085561497326204, 0.32085561497326204, 0.32620320855614976, 0.32620320855614976, 0.3342245989304813, 0.3342245989304813, 0.33689839572192515, 0.33689839572192515, 0.339572192513369, 0.339572192513369, 0.3502673796791444, 0.3502673796791444, 0.35294117647058826, 0.35294117647058826, 0.3582887700534759, 0.3582887700534759, 0.36363636363636365, 0.36363636363636365, 0.3716577540106952, 0.3716577540106952, 0.37967914438502676, 0.37967914438502676, 0.38235294117647056, 0.38235294117647056, 0.393048128342246, 0.393048128342246, 0.4037433155080214, 0.4037433155080214, 0.4090909090909091, 0.4090909090909091, 0.42780748663101603, 0.42780748663101603, 0.4304812834224599, 0.4304812834224599, 0.4385026737967914, 0.4385026737967914, 0.44385026737967914, 0.44385026737967914, 0.446524064171123, 0.446524064171123, 0.45454545454545453, 0.45454545454545453, 0.4572192513368984, 0.4572192513368984, 0.4679144385026738, 0.4679144385026738, 0.48128342245989303, 0.48128342245989303, 0.4839572192513369, 0.4839572192513369, 0.48663101604278075, 0.48663101604278075, 0.4893048128342246, 0.4893048128342246, 0.4919786096256685, 0.4919786096256685, 0.5106951871657754, 0.5106951871657754, 0.5133689839572193, 0.5133689839572193, 0.516042780748663, 0.516042780748663, 0.5267379679144385, 0.5267379679144385, 0.5347593582887701, 0.5347593582887701, 0.5374331550802139, 0.5374331550802139, 0.5401069518716578, 0.5401069518716578, 0.5454545454545454, 0.5454545454545454, 0.5481283422459893, 0.5481283422459893, 0.5508021390374331, 0.5508021390374331, 0.553475935828877, 0.553475935828877, 0.5561497326203209, 0.5561497326203209, 0.5668449197860963, 0.5668449197860963, 0.56951871657754, 0.56951871657754, 0.5721925133689839, 0.5721925133689839, 0.5748663101604278, 0.5748663101604278, 0.5828877005347594, 0.5828877005347594, 0.5855614973262032, 0.5855614973262032, 0.5909090909090909, 0.5909090909090909, 0.5935828877005348, 0.5935828877005348, 0.5962566844919787, 0.5962566844919787, 0.6122994652406417, 0.6122994652406417, 0.6149732620320856, 0.6149732620320856, 0.6229946524064172, 0.6229946524064172, 0.6283422459893048, 0.6283422459893048, 0.6310160427807486, 0.6310160427807486, 0.6390374331550802, 0.6390374331550802, 0.6443850267379679, 0.6443850267379679, 0.6470588235294118, 0.6470588235294118, 0.6524064171122995, 0.6524064171122995, 0.6684491978609626, 0.6684491978609626, 0.6737967914438503, 0.6737967914438503, 0.6764705882352942, 0.6764705882352942, 0.679144385026738, 0.679144385026738, 0.6818181818181818, 0.6818181818181818, 0.6844919786096256, 0.6844919786096256, 0.6871657754010695, 0.6871657754010695, 0.6925133689839572, 0.6925133689839572, 0.6951871657754011, 0.6951871657754011, 0.6978609625668449, 0.6978609625668449, 0.7005347593582888, 0.7005347593582888, 0.7032085561497327, 0.7032085561497327, 0.7058823529411765, 0.7058823529411765, 0.7085561497326203, 0.7085561497326203, 0.7112299465240641, 0.7112299465240641, 0.713903743315508, 0.713903743315508, 0.7165775401069518, 0.7165775401069518, 0.7192513368983957, 0.7192513368983957, 0.7245989304812834, 0.7245989304812834, 0.732620320855615, 0.732620320855615, 0.7379679144385026, 0.7379679144385026, 0.7433155080213903, 0.7433155080213903, 0.7459893048128342, 0.7459893048128342, 0.7486631016042781, 0.7486631016042781, 0.7540106951871658, 0.7540106951871658, 0.7593582887700535, 0.7593582887700535, 0.7620320855614974, 0.7620320855614974, 0.767379679144385, 0.767379679144385, 0.7700534759358288, 0.7700534759358288, 0.7754010695187166, 0.7754010695187166, 0.7780748663101604, 0.7780748663101604, 0.7834224598930482, 0.7834224598930482, 0.786096256684492, 0.786096256684492, 0.7887700534759359, 0.7887700534759359, 0.7914438502673797, 0.7914438502673797, 0.7941176470588235, 0.7941176470588235, 0.7967914438502673, 0.7967914438502673, 0.7994652406417112, 0.7994652406417112, 0.8101604278074866, 0.8101604278074866, 0.8128342245989305, 0.8128342245989305, 0.8155080213903744, 0.8155080213903744, 0.8181818181818182, 0.8181818181818182, 0.820855614973262, 0.820855614973262, 0.8235294117647058, 0.8235294117647058, 0.8288770053475936, 0.8288770053475936, 0.8315508021390374, 0.8315508021390374, 0.8342245989304813, 0.8342245989304813, 0.8368983957219251, 0.8368983957219251, 0.839572192513369, 0.839572192513369, 0.8422459893048129, 0.8422459893048129, 0.8449197860962567, 0.8449197860962567, 0.8475935828877005, 0.8475935828877005, 0.8502673796791443, 0.8502673796791443, 0.8529411764705882, 0.8529411764705882, 0.8609625668449198, 0.8609625668449198, 0.8636363636363636, 0.8636363636363636, 0.8663101604278075, 0.8663101604278075, 0.8689839572192514, 0.8689839572192514, 0.8716577540106952, 0.8716577540106952, 0.8743315508021391, 0.8743315508021391, 0.8796791443850267, 0.8796791443850267, 0.8823529411764706, 0.8823529411764706, 0.8850267379679144, 0.8850267379679144, 0.8903743315508021, 0.8903743315508021, 0.893048128342246, 0.893048128342246, 0.8957219251336899, 0.8957219251336899, 0.8983957219251337, 0.8983957219251337, 0.9010695187165776, 0.9010695187165776, 0.9064171122994652, 0.9064171122994652, 0.9090909090909091, 0.9090909090909091, 0.9117647058823529, 0.9117647058823529, 0.9171122994652406, 0.9171122994652406, 0.9224598930481284, 0.9224598930481284, 0.9251336898395722, 0.9251336898395722, 0.9278074866310161, 0.9278074866310161, 0.93048128342246, 0.93048128342246, 0.9331550802139037, 0.9331550802139037, 0.9358288770053476, 0.9358288770053476, 0.9385026737967914, 0.9385026737967914, 0.9411764705882353, 0.9411764705882353, 0.9438502673796791, 0.9438502673796791, 0.946524064171123, 0.946524064171123, 0.9491978609625669, 0.9491978609625669, 0.9518716577540107, 0.9518716577540107, 0.9545454545454546, 0.9545454545454546, 0.9572192513368984, 0.9572192513368984, 0.9625668449197861, 0.9625668449197861, 0.9652406417112299, 0.9652406417112299, 0.9679144385026738, 0.9679144385026738, 0.9705882352941176, 0.9705882352941176, 0.9732620320855615, 0.9732620320855615, 0.9759358288770054, 0.9759358288770054, 0.9786096256684492, 0.9786096256684492, 0.9812834224598931, 0.9812834224598931, 0.983957219251337, 0.983957219251337, 0.9866310160427807, 0.9866310160427807, 0.9893048128342246, 0.9893048128342246, 0.9919786096256684, 0.9919786096256684, 0.9946524064171123, 0.9946524064171123, 0.9973262032085561, 0.9973262032085561, 1.0, 1.0]}, {\"mode\": \"lines\", \"name\": \"GNB\", \"type\": \"scatter\", \"x\": [0.0, 0.0, 0.0, 0.000968054211035818, 0.000968054211035818, 0.002904162633107454, 0.002904162633107454, 0.003872216844143272, 0.003872216844143272, 0.00484027105517909, 0.00484027105517909, 0.007744433688286544, 0.007744433688286544, 0.010648596321393998, 0.010648596321393998, 0.011616650532429816, 0.011616650532429816, 0.012584704743465635, 0.012584704743465635, 0.013552758954501452, 0.013552758954501452, 0.01452081316553727, 0.01452081316553727, 0.015488867376573089, 0.015488867376573089, 0.016456921587608905, 0.016456921587608905, 0.017424975798644726, 0.017424975798644726, 0.018393030009680542, 0.018393030009680542, 0.02032913843175218, 0.02032913843175218, 0.021297192642787996, 0.021297192642787996, 0.022265246853823813, 0.022265246853823813, 0.02516940948693127, 0.02516940948693127, 0.026137463697967087, 0.026137463697967087, 0.028073572120038724, 0.028073572120038724, 0.02904162633107454, 0.02904162633107454, 0.030009680542110357, 0.030009680542110357, 0.030977734753146177, 0.030977734753146177, 0.031945788964181994, 0.031945788964181994, 0.03291384317521781, 0.03291384317521781, 0.03388189738625363, 0.03388189738625363, 0.03484995159728945, 0.03484995159728945, 0.036786060019361085, 0.036786060019361085, 0.03872216844143272, 0.03872216844143272, 0.04356243949661181, 0.04356243949661181, 0.04549854791868345, 0.04549854791868345, 0.04743465634075508, 0.04743465634075508, 0.049370764762826716, 0.049370764762826716, 0.05033881897386254, 0.05033881897386254, 0.05227492739593417, 0.05227492739593417, 0.05324298160696999, 0.05324298160696999, 0.05517909002904162, 0.05517909002904162, 0.05614714424007745, 0.05614714424007745, 0.057115198451113264, 0.057115198451113264, 0.060019361084220714, 0.060019361084220714, 0.06098741529525654, 0.06098741529525654, 0.061955469506292354, 0.061955469506292354, 0.06389157792836399, 0.06389157792836399, 0.06485963213939981, 0.06485963213939981, 0.06582768635043562, 0.06582768635043562, 0.06776379477250725, 0.06776379477250725, 0.06873184898354308, 0.06873184898354308, 0.07066795740561471, 0.07066795740561471, 0.07260406582768635, 0.07260406582768635, 0.07357212003872217, 0.07357212003872217, 0.07841239109390126, 0.07841239109390126, 0.07938044530493708, 0.07938044530493708, 0.0803484995159729, 0.0803484995159729, 0.08131655372700872, 0.08131655372700872, 0.08228460793804453, 0.08228460793804453, 0.08325266214908035, 0.08325266214908035, 0.08422071636011616, 0.08422071636011616, 0.08518877057115198, 0.08518877057115198, 0.08712487899322362, 0.08712487899322362, 0.08906098741529525, 0.08906098741529525, 0.09002904162633107, 0.09002904162633107, 0.09293320425943853, 0.09293320425943853, 0.09583736689254599, 0.09583736689254599, 0.0968054211035818, 0.0968054211035818, 0.09777347531461762, 0.09777347531461762, 0.10067763794772508, 0.10067763794772508, 0.10164569215876089, 0.10164569215876089, 0.10454985479186835, 0.10454985479186835, 0.10648596321393998, 0.10648596321393998, 0.1074540174249758, 0.1074540174249758, 0.10842207163601161, 0.10842207163601161, 0.10939012584704744, 0.10939012584704744, 0.11132623426911907, 0.11132623426911907, 0.1122942884801549, 0.1122942884801549, 0.1132623426911907, 0.1132623426911907, 0.11713455953533398, 0.11713455953533398, 0.1181026137463698, 0.1181026137463698, 0.12003872216844143, 0.12003872216844143, 0.12197483059051308, 0.12197483059051308, 0.12391093901258471, 0.12391093901258471, 0.12487899322362052, 0.12487899322362052, 0.12584704743465633, 0.12584704743465633, 0.13165537270087124, 0.13165537270087124, 0.13262342691190707, 0.13262342691190707, 0.1335914811229429, 0.1335914811229429, 0.1355275895450145, 0.1355275895450145, 0.13649564375605033, 0.13649564375605033, 0.1403678606001936, 0.1403678606001936, 0.14133591481122942, 0.14133591481122942, 0.14327202323330107, 0.14327202323330107, 0.1442400774443369, 0.1442400774443369, 0.1452081316553727, 0.1452081316553727, 0.14617618586640851, 0.14617618586640851, 0.15004840271055178, 0.15004840271055178, 0.15198451113262343, 0.15198451113262343, 0.15295256534365925, 0.15295256534365925, 0.15488867376573087, 0.15488867376573087, 0.1558567279767667, 0.1558567279767667, 0.15682478218780252, 0.15682478218780252, 0.1606969990319458, 0.1606969990319458, 0.16263310745401743, 0.16263310745401743, 0.16456921587608905, 0.16456921587608905, 0.16553727008712488, 0.16553727008712488, 0.1732817037754114, 0.1732817037754114, 0.17521781219748306, 0.17521781219748306, 0.1771539206195547, 0.1771539206195547, 0.1781219748305905, 0.1781219748305905, 0.17909002904162633, 0.17909002904162633, 0.1819941916747338, 0.1819941916747338, 0.18393030009680542, 0.18393030009680542, 0.18586640851887706, 0.18586640851887706, 0.1887705711519845, 0.1887705711519845, 0.19070667957405615, 0.19070667957405615, 0.19264278799612777, 0.19264278799612777, 0.1936108422071636, 0.1936108422071636, 0.19457889641819942, 0.19457889641819942, 0.19554695062923524, 0.19554695062923524, 0.1984511132623427, 0.1984511132623427, 0.1994191674733785, 0.1994191674733785, 0.20038722168441434, 0.20038722168441434, 0.20232333010648595, 0.20232333010648595, 0.2042594385285576, 0.2042594385285576, 0.20716360116166505, 0.20716360116166505, 0.2090997095837367, 0.2090997095837367, 0.2110358180058083, 0.2110358180058083, 0.21200387221684414, 0.21200387221684414, 0.2158760890609874, 0.2158760890609874, 0.21684414327202323, 0.21684414327202323, 0.2197483059051307, 0.2197483059051307, 0.22265246853823814, 0.22265246853823814, 0.2265246853823814, 0.2265246853823814, 0.22846079380445306, 0.22846079380445306, 0.23039690222652467, 0.23039690222652467, 0.2313649564375605, 0.2313649564375605, 0.23330106485963215, 0.23330106485963215, 0.23814133591481124, 0.23814133591481124, 0.24007744433688286, 0.24007744433688286, 0.25169409486931266, 0.25169409486931266, 0.26524685382381413, 0.26524685382381413, 0.2671829622458858, 0.2671829622458858, 0.27202323330106487, 0.27202323330106487, 0.2749273959341723, 0.2749273959341723, 0.2797676669893514, 0.2797676669893514, 0.2846079380445305, 0.2846079380445305, 0.2904162633107454, 0.2904162633107454, 0.29138431752178123, 0.29138431752178123, 0.2942884801548887, 0.2942884801548887, 0.2952565343659245, 0.2952565343659245, 0.29912875121006777, 0.29912875121006777, 0.3155856727976767, 0.3155856727976767, 0.3165537270087125, 0.3165537270087125, 0.31752178121974833, 0.31752178121974833, 0.32526621490803487, 0.32526621490803487, 0.3330106485963214, 0.3330106485963214, 0.3339787028073572, 0.3339787028073572, 0.34849951597289447, 0.34849951597289447, 0.3543078412391094, 0.3543078412391094, 0.356243949661181, 0.356243949661181, 0.35721200387221685, 0.35721200387221685, 0.3707647628267183, 0.3707647628267183, 0.3823814133591481, 0.3823814133591481, 0.38431752178121975, 0.38431752178121975, 0.3872216844143272, 0.3872216844143272, 0.3920619554695063, 0.3920619554695063, 0.3969022265246854, 0.3969022265246854, 0.40077444336882867, 0.40077444336882867, 0.4036786060019361, 0.4036786060019361, 0.41045498547918685, 0.41045498547918685, 0.4143272023233301, 0.4143272023233301, 0.41529525653436594, 0.41529525653436594, 0.41626331074540174, 0.41626331074540174, 0.41723136495643753, 0.41723136495643753, 0.4259438528557599, 0.4259438528557599, 0.43756050338818975, 0.43756050338818975, 0.4453049370764763, 0.4453049370764763, 0.45595353339787026, 0.45595353339787026, 0.49080348499515974, 0.49080348499515974, 0.5062923523717329, 0.5062923523717329, 0.5150048402710552, 0.5150048402710552, 0.5285575992255567, 0.5285575992255567, 0.5411423039690223, 0.5411423039690223, 0.542110358180058, 0.542110358180058, 0.5430784123910939, 0.5430784123910939, 0.5682478218780251, 0.5682478218780251, 0.5721200387221684, 0.5721200387221684, 0.6234269119070668, 0.6234269119070668, 0.7241045498547919, 0.7241045498547919, 0.7260406582768635, 0.7260406582768635, 0.7270087124878993, 0.7270087124878993, 0.7289448209099709, 0.7289448209099709, 0.7347531461761858, 0.7347531461761858, 0.7376573088092934, 0.7376573088092934, 0.7415295256534365, 0.7415295256534365, 0.7424975798644724, 0.7424975798644724, 0.7473378509196515, 0.7473378509196515, 0.7492739593417231, 0.7492739593417231, 0.7512100677637947, 0.7512100677637947, 0.7541142303969022, 0.7541142303969022, 0.7560503388189739, 0.7560503388189739, 0.7686350435624395, 0.7686350435624395, 0.78702807357212, 0.78702807357212, 0.7918683446272992, 0.7918683446272992, 0.7986447241045499, 0.7986447241045499, 0.8354307841239109, 0.8354307841239109, 0.914811229428848, 0.914811229428848, 1.0], \"y\": [0.0, 0.00267379679144385, 0.013368983957219251, 0.013368983957219251, 0.0213903743315508, 0.0213903743315508, 0.0374331550802139, 0.0374331550802139, 0.040106951871657755, 0.040106951871657755, 0.045454545454545456, 0.045454545454545456, 0.06149732620320856, 0.06149732620320856, 0.06951871657754011, 0.06951871657754011, 0.0748663101604278, 0.0748663101604278, 0.07754010695187166, 0.07754010695187166, 0.08288770053475936, 0.08288770053475936, 0.0855614973262032, 0.0855614973262032, 0.08823529411764706, 0.08823529411764706, 0.09358288770053476, 0.09358288770053476, 0.11497326203208556, 0.11497326203208556, 0.12032085561497326, 0.12032085561497326, 0.13903743315508021, 0.13903743315508021, 0.17379679144385027, 0.17379679144385027, 0.17647058823529413, 0.17647058823529413, 0.18983957219251338, 0.18983957219251338, 0.1925133689839572, 0.1925133689839572, 0.20320855614973263, 0.20320855614973263, 0.21390374331550802, 0.21390374331550802, 0.2192513368983957, 0.2192513368983957, 0.22192513368983957, 0.22192513368983957, 0.22459893048128343, 0.22459893048128343, 0.22727272727272727, 0.22727272727272727, 0.22994652406417113, 0.22994652406417113, 0.23529411764705882, 0.23529411764705882, 0.23796791443850268, 0.23796791443850268, 0.24331550802139038, 0.24331550802139038, 0.24866310160427807, 0.24866310160427807, 0.25668449197860965, 0.25668449197860965, 0.2620320855614973, 0.2620320855614973, 0.26737967914438504, 0.26737967914438504, 0.2700534759358289, 0.2700534759358289, 0.2727272727272727, 0.2727272727272727, 0.27807486631016043, 0.27807486631016043, 0.2807486631016043, 0.2807486631016043, 0.28342245989304815, 0.28342245989304815, 0.2887700534759358, 0.2887700534759358, 0.2914438502673797, 0.2914438502673797, 0.2967914438502674, 0.2967914438502674, 0.2994652406417112, 0.2994652406417112, 0.32085561497326204, 0.32085561497326204, 0.3235294117647059, 0.3235294117647059, 0.32620320855614976, 0.32620320855614976, 0.3422459893048128, 0.3422459893048128, 0.3502673796791444, 0.3502673796791444, 0.35561497326203206, 0.35561497326203206, 0.3609625668449198, 0.3609625668449198, 0.36363636363636365, 0.36363636363636365, 0.3663101604278075, 0.3663101604278075, 0.37433155080213903, 0.37433155080213903, 0.3770053475935829, 0.3770053475935829, 0.37967914438502676, 0.37967914438502676, 0.38235294117647056, 0.38235294117647056, 0.39037433155080214, 0.39037433155080214, 0.39572192513368987, 0.39572192513368987, 0.40106951871657753, 0.40106951871657753, 0.4037433155080214, 0.4037433155080214, 0.4144385026737968, 0.4144385026737968, 0.42245989304812837, 0.42245989304812837, 0.42780748663101603, 0.42780748663101603, 0.4358288770053476, 0.4358288770053476, 0.446524064171123, 0.446524064171123, 0.45187165775401067, 0.45187165775401067, 0.4572192513368984, 0.4572192513368984, 0.4625668449197861, 0.4625668449197861, 0.46524064171123, 0.46524064171123, 0.4679144385026738, 0.4679144385026738, 0.4732620320855615, 0.4732620320855615, 0.4786096256684492, 0.4786096256684492, 0.4893048128342246, 0.4893048128342246, 0.49732620320855614, 0.49732620320855614, 0.5133689839572193, 0.5133689839572193, 0.516042780748663, 0.516042780748663, 0.5187165775401069, 0.5187165775401069, 0.5320855614973262, 0.5320855614973262, 0.5347593582887701, 0.5347593582887701, 0.5427807486631016, 0.5427807486631016, 0.5454545454545454, 0.5454545454545454, 0.5641711229946524, 0.5641711229946524, 0.5668449197860963, 0.5668449197860963, 0.5721925133689839, 0.5721925133689839, 0.5748663101604278, 0.5748663101604278, 0.5775401069518716, 0.5775401069518716, 0.5855614973262032, 0.5855614973262032, 0.5882352941176471, 0.5882352941176471, 0.5909090909090909, 0.5909090909090909, 0.5962566844919787, 0.5962566844919787, 0.5989304812834224, 0.5989304812834224, 0.6016042780748663, 0.6016042780748663, 0.6042780748663101, 0.6042780748663101, 0.6096256684491979, 0.6096256684491979, 0.6122994652406417, 0.6122994652406417, 0.6149732620320856, 0.6149732620320856, 0.6203208556149733, 0.6203208556149733, 0.6256684491978609, 0.6256684491978609, 0.6283422459893048, 0.6283422459893048, 0.6390374331550802, 0.6390374331550802, 0.6470588235294118, 0.6470588235294118, 0.6497326203208557, 0.6497326203208557, 0.6524064171122995, 0.6524064171122995, 0.6550802139037433, 0.6550802139037433, 0.6577540106951871, 0.6577540106951871, 0.660427807486631, 0.660427807486631, 0.6631016042780749, 0.6631016042780749, 0.6737967914438503, 0.6737967914438503, 0.6764705882352942, 0.6764705882352942, 0.6818181818181818, 0.6818181818181818, 0.6844919786096256, 0.6844919786096256, 0.6871657754010695, 0.6871657754010695, 0.6898395721925134, 0.6898395721925134, 0.6925133689839572, 0.6925133689839572, 0.6978609625668449, 0.6978609625668449, 0.7005347593582888, 0.7005347593582888, 0.7032085561497327, 0.7032085561497327, 0.7058823529411765, 0.7058823529411765, 0.7112299465240641, 0.7112299465240641, 0.713903743315508, 0.713903743315508, 0.7192513368983957, 0.7192513368983957, 0.7219251336898396, 0.7219251336898396, 0.7245989304812834, 0.7245989304812834, 0.7299465240641712, 0.7299465240641712, 0.732620320855615, 0.732620320855615, 0.7352941176470589, 0.7352941176470589, 0.7379679144385026, 0.7379679144385026, 0.7433155080213903, 0.7433155080213903, 0.7459893048128342, 0.7459893048128342, 0.7513368983957219, 0.7513368983957219, 0.7566844919786097, 0.7566844919786097, 0.7593582887700535, 0.7593582887700535, 0.7620320855614974, 0.7620320855614974, 0.7647058823529411, 0.7647058823529411, 0.767379679144385, 0.767379679144385, 0.7727272727272727, 0.7727272727272727, 0.7754010695187166, 0.7754010695187166, 0.7780748663101604, 0.7780748663101604, 0.7807486631016043, 0.7807486631016043, 0.7834224598930482, 0.7834224598930482, 0.786096256684492, 0.786096256684492, 0.7887700534759359, 0.7887700534759359, 0.7941176470588235, 0.7941176470588235, 0.7994652406417112, 0.7994652406417112, 0.8021390374331551, 0.8021390374331551, 0.8048128342245989, 0.8048128342245989, 0.8074866310160428, 0.8074866310160428, 0.8128342245989305, 0.8128342245989305, 0.8155080213903744, 0.8155080213903744, 0.820855614973262, 0.820855614973262, 0.8235294117647058, 0.8235294117647058, 0.8288770053475936, 0.8288770053475936, 0.8315508021390374, 0.8315508021390374, 0.8342245989304813, 0.8342245989304813, 0.8368983957219251, 0.8368983957219251, 0.839572192513369, 0.839572192513369, 0.8422459893048129, 0.8422459893048129, 0.8449197860962567, 0.8449197860962567, 0.8475935828877005, 0.8475935828877005, 0.8502673796791443, 0.8502673796791443, 0.8529411764705882, 0.8529411764705882, 0.8556149732620321, 0.8556149732620321, 0.8582887700534759, 0.8582887700534759, 0.8609625668449198, 0.8609625668449198, 0.8689839572192514, 0.8689839572192514, 0.8716577540106952, 0.8716577540106952, 0.8743315508021391, 0.8743315508021391, 0.8770053475935828, 0.8770053475935828, 0.8796791443850267, 0.8796791443850267, 0.8823529411764706, 0.8823529411764706, 0.8877005347593583, 0.8877005347593583, 0.893048128342246, 0.893048128342246, 0.8957219251336899, 0.8957219251336899, 0.9037433155080213, 0.9037433155080213, 0.9064171122994652, 0.9064171122994652, 0.9090909090909091, 0.9090909090909091, 0.9117647058823529, 0.9117647058823529, 0.9144385026737968, 0.9144385026737968, 0.9171122994652406, 0.9171122994652406, 0.9197860962566845, 0.9197860962566845, 0.9224598930481284, 0.9224598930481284, 0.9251336898395722, 0.9251336898395722, 0.9278074866310161, 0.9278074866310161, 0.93048128342246, 0.93048128342246, 0.9331550802139037, 0.9331550802139037, 0.9358288770053476, 0.9358288770053476, 0.9385026737967914, 0.9385026737967914, 0.9411764705882353, 0.9411764705882353, 0.946524064171123, 0.946524064171123, 0.9491978609625669, 0.9491978609625669, 0.9518716577540107, 0.9518716577540107, 0.9545454545454546, 0.9545454545454546, 0.9598930481283422, 0.9598930481283422, 0.9625668449197861, 0.9625668449197861, 0.9652406417112299, 0.9652406417112299, 0.9679144385026738, 0.9679144385026738, 0.9705882352941176, 0.9705882352941176, 0.9759358288770054, 0.9759358288770054, 0.9786096256684492, 0.9786096256684492, 0.9812834224598931, 0.9812834224598931, 0.983957219251337, 0.983957219251337, 0.9866310160427807, 0.9866310160427807, 0.9893048128342246, 0.9893048128342246, 0.9946524064171123, 0.9946524064171123, 0.9973262032085561, 0.9973262032085561, 1.0, 1.0]}, {\"mode\": \"lines\", \"name\": \"NN\", \"type\": \"scatter\", \"x\": [0.0, 0.0, 0.0, 0.000968054211035818, 0.000968054211035818, 0.001936108422071636, 0.001936108422071636, 0.002904162633107454, 0.002904162633107454, 0.003872216844143272, 0.003872216844143272, 0.00484027105517909, 0.00484027105517909, 0.006776379477250726, 0.006776379477250726, 0.007744433688286544, 0.007744433688286544, 0.008712487899322363, 0.008712487899322363, 0.010648596321393998, 0.010648596321393998, 0.011616650532429816, 0.011616650532429816, 0.012584704743465635, 0.012584704743465635, 0.013552758954501452, 0.013552758954501452, 0.015488867376573089, 0.015488867376573089, 0.016456921587608905, 0.016456921587608905, 0.017424975798644726, 0.017424975798644726, 0.023233301064859633, 0.023233301064859633, 0.02516940948693127, 0.02516940948693127, 0.026137463697967087, 0.026137463697967087, 0.028073572120038724, 0.028073572120038724, 0.031945788964181994, 0.031945788964181994, 0.03484995159728945, 0.03484995159728945, 0.036786060019361085, 0.036786060019361085, 0.0377541142303969, 0.0377541142303969, 0.04065827686350436, 0.04065827686350436, 0.04356243949661181, 0.04356243949661181, 0.044530493707647625, 0.044530493707647625, 0.04549854791868345, 0.04549854791868345, 0.046466602129719266, 0.046466602129719266, 0.0484027105517909, 0.0484027105517909, 0.049370764762826716, 0.049370764762826716, 0.05033881897386254, 0.05033881897386254, 0.051306873184898356, 0.051306873184898356, 0.05227492739593417, 0.05227492739593417, 0.05421103581800581, 0.05421103581800581, 0.05808325266214908, 0.05808325266214908, 0.06098741529525654, 0.06098741529525654, 0.061955469506292354, 0.061955469506292354, 0.06389157792836399, 0.06389157792836399, 0.06582768635043562, 0.06582768635043562, 0.06776379477250725, 0.06776379477250725, 0.06873184898354308, 0.06873184898354308, 0.0696999031945789, 0.0696999031945789, 0.07163601161665054, 0.07163601161665054, 0.07454017424975799, 0.07454017424975799, 0.07647628267182963, 0.07647628267182963, 0.07841239109390126, 0.07841239109390126, 0.07938044530493708, 0.07938044530493708, 0.0803484995159729, 0.0803484995159729, 0.08228460793804453, 0.08228460793804453, 0.08325266214908035, 0.08325266214908035, 0.08422071636011616, 0.08422071636011616, 0.08518877057115198, 0.08518877057115198, 0.09002904162633107, 0.09002904162633107, 0.0909970958373669, 0.0909970958373669, 0.09390125847047434, 0.09390125847047434, 0.09583736689254599, 0.09583736689254599, 0.09777347531461762, 0.09777347531461762, 0.09874152952565343, 0.09874152952565343, 0.10067763794772508, 0.10067763794772508, 0.10164569215876089, 0.10164569215876089, 0.10261374636979671, 0.10261374636979671, 0.10358180058083252, 0.10358180058083252, 0.10551790900290416, 0.10551790900290416, 0.10648596321393998, 0.10648596321393998, 0.11035818005808325, 0.11035818005808325, 0.11132623426911907, 0.11132623426911907, 0.1132623426911907, 0.1132623426911907, 0.11713455953533398, 0.11713455953533398, 0.1181026137463698, 0.1181026137463698, 0.11907066795740562, 0.11907066795740562, 0.12391093901258471, 0.12391093901258471, 0.12487899322362052, 0.12487899322362052, 0.12584704743465633, 0.12584704743465633, 0.12778315585672798, 0.12778315585672798, 0.12971926427879962, 0.12971926427879962, 0.13068731848983542, 0.13068731848983542, 0.13165537270087124, 0.13165537270087124, 0.1335914811229429, 0.1335914811229429, 0.13746369796708616, 0.13746369796708616, 0.13843175217812198, 0.13843175217812198, 0.14133591481122942, 0.14133591481122942, 0.14327202323330107, 0.14327202323330107, 0.1442400774443369, 0.1442400774443369, 0.1452081316553727, 0.1452081316553727, 0.14714424007744434, 0.14714424007744434, 0.14811229428848016, 0.14811229428848016, 0.15004840271055178, 0.15004840271055178, 0.15198451113262343, 0.15198451113262343, 0.15392061955469508, 0.15392061955469508, 0.15779283639883834, 0.15779283639883834, 0.15972894482090996, 0.15972894482090996, 0.1606969990319458, 0.1606969990319458, 0.16456921587608905, 0.16456921587608905, 0.16747337850919652, 0.16747337850919652, 0.16940948693126814, 0.16940948693126814, 0.1732817037754114, 0.1732817037754114, 0.17521781219748306, 0.17521781219748306, 0.17618586640851888, 0.17618586640851888, 0.17909002904162633, 0.17909002904162633, 0.18005808325266215, 0.18005808325266215, 0.18102613746369797, 0.18102613746369797, 0.1819941916747338, 0.1819941916747338, 0.1829622458857696, 0.1829622458857696, 0.18393030009680542, 0.18393030009680542, 0.1868344627299129, 0.1868344627299129, 0.1887705711519845, 0.1887705711519845, 0.18973862536302033, 0.18973862536302033, 0.19070667957405615, 0.19070667957405615, 0.19264278799612777, 0.19264278799612777, 0.19554695062923524, 0.19554695062923524, 0.19651500484027107, 0.19651500484027107, 0.1984511132623427, 0.1984511132623427, 0.20038722168441434, 0.20038722168441434, 0.20232333010648595, 0.20232333010648595, 0.20716360116166505, 0.20716360116166505, 0.21297192642787996, 0.21297192642787996, 0.21781219748305905, 0.21781219748305905, 0.2207163601161665, 0.2207163601161665, 0.22168441432720232, 0.22168441432720232, 0.2245885769603098, 0.2245885769603098, 0.22555663117134558, 0.22555663117134558, 0.2313649564375605, 0.2313649564375605, 0.23330106485963215, 0.23330106485963215, 0.24298160696999033, 0.24298160696999033, 0.24588576960309777, 0.24588576960309777, 0.24878993223620524, 0.24878993223620524, 0.25556631171345595, 0.25556631171345595, 0.2575024201355276, 0.2575024201355276, 0.26524685382381413, 0.26524685382381413, 0.2671829622458858, 0.2671829622458858, 0.271055179090029, 0.271055179090029, 0.2787996127783156, 0.2787996127783156, 0.2807357212003872, 0.2807357212003872, 0.29235237173281703, 0.29235237173281703, 0.2962245885769603, 0.2962245885769603, 0.29816069699903197, 0.29816069699903197, 0.29912875121006777, 0.29912875121006777, 0.3010648596321394, 0.3010648596321394, 0.3020329138431752, 0.3020329138431752, 0.3059051306873185, 0.3059051306873185, 0.3068731848983543, 0.3068731848983543, 0.30880929332042595, 0.30880929332042595, 0.3107454017424976, 0.3107454017424976, 0.3165537270087125, 0.3165537270087125, 0.3281703775411423, 0.3281703775411423, 0.33591481122942884, 0.33591481122942884, 0.33978702807357214, 0.33978702807357214, 0.34462729912875123, 0.34462729912875123, 0.3465634075508228, 0.3465634075508228, 0.34849951597289447, 0.34849951597289447, 0.3504356243949661, 0.3504356243949661, 0.3514036786060019, 0.3514036786060019, 0.35333978702807356, 0.35333978702807356, 0.356243949661181, 0.356243949661181, 0.3610842207163601, 0.3610842207163601, 0.37463697967086157, 0.37463697967086157, 0.37560503388189737, 0.37560503388189737, 0.37947725072604066, 0.37947725072604066, 0.41142303969022265, 0.41142303969022265, 0.42013552758954503, 0.42013552758954503, 0.4259438528557599, 0.4259438528557599, 0.42884801548886736, 0.42884801548886736, 0.43272023233301066, 0.43272023233301066, 0.4394966118102614, 0.4394966118102614, 0.4404646660212972, 0.4404646660212972, 0.44240077444336884, 0.44240077444336884, 0.4453049370764763, 0.4453049370764763, 0.4530493707647628, 0.4530493707647628, 0.45401742497579867, 0.45401742497579867, 0.45498547918683446, 0.45498547918683446, 0.4569215876089061, 0.4569215876089061, 0.4675701839303001, 0.4675701839303001, 0.46853823814133594, 0.46853823814133594, 0.46950629235237173, 0.46950629235237173, 0.48112294288480156, 0.48112294288480156, 0.48596321393998065, 0.48596321393998065, 0.4898354307841239, 0.4898354307841239, 0.510164569215876, 0.510164569215876, 0.5237173281703775, 0.5237173281703775, 0.5353339787028074, 0.5353339787028074, 0.5459825750242013, 0.5459825750242013, 0.5788964181994192, 0.5788964181994192, 0.5914811229428848, 0.5914811229428848, 0.5934172313649564, 0.5934172313649564, 0.5963213939980639, 0.5963213939980639, 0.6263310745401742, 0.6263310745401742, 0.6621490803484995, 0.6621490803484995, 0.6795740561471443, 0.6795740561471443, 0.7328170377541142, 0.7328170377541142, 0.8344627299128751, 0.8344627299128751, 1.0], \"y\": [0.0, 0.00267379679144385, 0.016042780748663103, 0.016042780748663103, 0.0213903743315508, 0.0213903743315508, 0.03208556149732621, 0.03208556149732621, 0.0374331550802139, 0.0374331550802139, 0.0427807486631016, 0.0427807486631016, 0.06417112299465241, 0.06417112299465241, 0.07754010695187166, 0.07754010695187166, 0.09358288770053476, 0.09358288770053476, 0.10427807486631016, 0.10427807486631016, 0.11497326203208556, 0.11497326203208556, 0.12032085561497326, 0.12032085561497326, 0.1497326203208556, 0.1497326203208556, 0.15240641711229946, 0.15240641711229946, 0.15775401069518716, 0.15775401069518716, 0.16844919786096257, 0.16844919786096257, 0.1925133689839572, 0.1925133689839572, 0.19786096256684493, 0.19786096256684493, 0.20320855614973263, 0.20320855614973263, 0.20588235294117646, 0.20588235294117646, 0.21122994652406418, 0.21122994652406418, 0.22459893048128343, 0.22459893048128343, 0.22727272727272727, 0.22727272727272727, 0.23529411764705882, 0.23529411764705882, 0.23796791443850268, 0.23796791443850268, 0.2540106951871658, 0.2540106951871658, 0.26737967914438504, 0.26737967914438504, 0.2700534759358289, 0.2700534759358289, 0.27540106951871657, 0.27540106951871657, 0.2807486631016043, 0.2807486631016043, 0.29411764705882354, 0.29411764705882354, 0.2994652406417112, 0.2994652406417112, 0.30213903743315507, 0.30213903743315507, 0.31283422459893045, 0.31283422459893045, 0.3235294117647059, 0.3235294117647059, 0.32887700534759357, 0.32887700534759357, 0.339572192513369, 0.339572192513369, 0.3422459893048128, 0.3422459893048128, 0.35561497326203206, 0.35561497326203206, 0.3609625668449198, 0.3609625668449198, 0.36363636363636365, 0.36363636363636365, 0.3689839572192513, 0.3689839572192513, 0.3877005347593583, 0.3877005347593583, 0.39037433155080214, 0.39037433155080214, 0.393048128342246, 0.393048128342246, 0.39572192513368987, 0.39572192513368987, 0.3983957219251337, 0.3983957219251337, 0.40641711229946526, 0.40641711229946526, 0.4144385026737968, 0.4144385026737968, 0.42780748663101603, 0.42780748663101603, 0.4304812834224599, 0.4304812834224599, 0.4411764705882353, 0.4411764705882353, 0.44385026737967914, 0.44385026737967914, 0.44919786096256686, 0.44919786096256686, 0.45187165775401067, 0.45187165775401067, 0.45454545454545453, 0.45454545454545453, 0.45989304812834225, 0.45989304812834225, 0.4625668449197861, 0.4625668449197861, 0.4679144385026738, 0.4679144385026738, 0.47058823529411764, 0.47058823529411764, 0.4732620320855615, 0.4732620320855615, 0.47593582887700536, 0.47593582887700536, 0.4839572192513369, 0.4839572192513369, 0.4893048128342246, 0.4893048128342246, 0.5053475935828877, 0.5053475935828877, 0.5080213903743316, 0.5080213903743316, 0.5133689839572193, 0.5133689839572193, 0.516042780748663, 0.516042780748663, 0.5187165775401069, 0.5187165775401069, 0.5213903743315508, 0.5213903743315508, 0.5240641711229946, 0.5240641711229946, 0.5427807486631016, 0.5427807486631016, 0.5588235294117647, 0.5588235294117647, 0.5614973262032086, 0.5614973262032086, 0.5668449197860963, 0.5668449197860963, 0.56951871657754, 0.56951871657754, 0.5721925133689839, 0.5721925133689839, 0.5748663101604278, 0.5748663101604278, 0.5775401069518716, 0.5775401069518716, 0.5802139037433155, 0.5802139037433155, 0.5882352941176471, 0.5882352941176471, 0.5935828877005348, 0.5935828877005348, 0.6016042780748663, 0.6016042780748663, 0.6042780748663101, 0.6042780748663101, 0.606951871657754, 0.606951871657754, 0.6096256684491979, 0.6096256684491979, 0.6122994652406417, 0.6122994652406417, 0.6229946524064172, 0.6229946524064172, 0.6310160427807486, 0.6310160427807486, 0.6336898395721925, 0.6336898395721925, 0.6363636363636364, 0.6363636363636364, 0.6417112299465241, 0.6417112299465241, 0.6443850267379679, 0.6443850267379679, 0.6470588235294118, 0.6470588235294118, 0.6497326203208557, 0.6497326203208557, 0.6550802139037433, 0.6550802139037433, 0.6577540106951871, 0.6577540106951871, 0.6631016042780749, 0.6631016042780749, 0.6657754010695187, 0.6657754010695187, 0.6684491978609626, 0.6684491978609626, 0.6711229946524064, 0.6711229946524064, 0.6737967914438503, 0.6737967914438503, 0.679144385026738, 0.679144385026738, 0.6818181818181818, 0.6818181818181818, 0.6871657754010695, 0.6871657754010695, 0.6898395721925134, 0.6898395721925134, 0.6978609625668449, 0.6978609625668449, 0.7005347593582888, 0.7005347593582888, 0.7085561497326203, 0.7085561497326203, 0.7112299465240641, 0.7112299465240641, 0.713903743315508, 0.713903743315508, 0.7219251336898396, 0.7219251336898396, 0.7272727272727273, 0.7272727272727273, 0.7299465240641712, 0.7299465240641712, 0.732620320855615, 0.732620320855615, 0.7406417112299465, 0.7406417112299465, 0.7433155080213903, 0.7433155080213903, 0.7486631016042781, 0.7486631016042781, 0.7513368983957219, 0.7513368983957219, 0.7540106951871658, 0.7540106951871658, 0.7566844919786097, 0.7566844919786097, 0.7647058823529411, 0.7647058823529411, 0.7700534759358288, 0.7700534759358288, 0.7727272727272727, 0.7727272727272727, 0.7780748663101604, 0.7780748663101604, 0.7834224598930482, 0.7834224598930482, 0.7887700534759359, 0.7887700534759359, 0.7914438502673797, 0.7914438502673797, 0.8021390374331551, 0.8021390374331551, 0.8074866310160428, 0.8074866310160428, 0.8128342245989305, 0.8128342245989305, 0.8181818181818182, 0.8181818181818182, 0.8235294117647058, 0.8235294117647058, 0.8288770053475936, 0.8288770053475936, 0.8315508021390374, 0.8315508021390374, 0.8342245989304813, 0.8342245989304813, 0.8368983957219251, 0.8368983957219251, 0.839572192513369, 0.839572192513369, 0.8422459893048129, 0.8422459893048129, 0.8449197860962567, 0.8449197860962567, 0.8475935828877005, 0.8475935828877005, 0.8502673796791443, 0.8502673796791443, 0.8529411764705882, 0.8529411764705882, 0.8582887700534759, 0.8582887700534759, 0.8609625668449198, 0.8609625668449198, 0.8636363636363636, 0.8636363636363636, 0.8663101604278075, 0.8663101604278075, 0.8716577540106952, 0.8716577540106952, 0.8743315508021391, 0.8743315508021391, 0.8770053475935828, 0.8770053475935828, 0.8823529411764706, 0.8823529411764706, 0.8850267379679144, 0.8850267379679144, 0.8877005347593583, 0.8877005347593583, 0.8903743315508021, 0.8903743315508021, 0.893048128342246, 0.893048128342246, 0.8957219251336899, 0.8957219251336899, 0.8983957219251337, 0.8983957219251337, 0.9010695187165776, 0.9010695187165776, 0.9037433155080213, 0.9037433155080213, 0.9064171122994652, 0.9064171122994652, 0.9090909090909091, 0.9090909090909091, 0.9117647058823529, 0.9117647058823529, 0.9171122994652406, 0.9171122994652406, 0.9197860962566845, 0.9197860962566845, 0.9224598930481284, 0.9224598930481284, 0.9251336898395722, 0.9251336898395722, 0.9278074866310161, 0.9278074866310161, 0.93048128342246, 0.93048128342246, 0.9331550802139037, 0.9331550802139037, 0.9358288770053476, 0.9358288770053476, 0.9385026737967914, 0.9385026737967914, 0.9438502673796791, 0.9438502673796791, 0.946524064171123, 0.946524064171123, 0.9491978609625669, 0.9491978609625669, 0.9518716577540107, 0.9518716577540107, 0.9545454545454546, 0.9545454545454546, 0.9598930481283422, 0.9598930481283422, 0.9625668449197861, 0.9625668449197861, 0.9652406417112299, 0.9652406417112299, 0.9679144385026738, 0.9679144385026738, 0.9705882352941176, 0.9705882352941176, 0.9732620320855615, 0.9732620320855615, 0.9759358288770054, 0.9759358288770054, 0.9786096256684492, 0.9786096256684492, 0.9812834224598931, 0.9812834224598931, 0.983957219251337, 0.983957219251337, 0.9866310160427807, 0.9866310160427807, 0.9893048128342246, 0.9893048128342246, 0.9919786096256684, 0.9919786096256684, 0.9946524064171123, 0.9946524064171123, 0.9973262032085561, 0.9973262032085561, 1.0, 1.0]}, {\"mode\": \"lines\", \"name\": \"KNN\", \"type\": \"scatter\", \"x\": [0.0, 0.04743465634075508, 0.12100677637947725, 0.2197483059051307, 0.31461761858664083, 0.41045498547918685, 0.5043562439496612, 0.6185866408518877, 1.0], \"y\": [0.0, 0.20053475935828877, 0.47058823529411764, 0.6550802139037433, 0.7433155080213903, 0.8315508021390374, 0.9010695187165776, 0.9705882352941176, 1.0]}, {\"mode\": \"lines\", \"name\": \"DT\", \"type\": \"scatter\", \"x\": [0.0, 0.15392061955469508, 0.1558567279767667, 0.15779283639883834, 0.15876089060987417, 0.1616650532429816, 0.1616650532429816, 0.16263310745401743, 0.16456921587608905, 0.16940948693126814, 0.17231364956437561, 0.17231364956437561, 0.17521781219748306, 0.1781219748305905, 0.18489835430784124, 0.18586640851887706, 0.18586640851887706, 0.18780251694094868, 0.1936108422071636, 0.19651500484027107, 0.1994191674733785, 0.20619554695062922, 0.20619554695062922, 0.21006776379477252, 0.22362052274927396, 0.2245885769603098, 0.22749273959341723, 0.22846079380445306, 0.23039690222652467, 0.23233301064859632, 0.23523717328170377, 0.2371732817037754, 0.23910939012584706, 0.24104549854791868, 0.24394966118102615, 0.25072604065827686, 0.2536302032913843, 0.25556631171345595, 0.25943852855759925, 0.26137463697967084, 0.26137463697967084, 0.26427879961277834, 0.26427879961277834, 0.26621490803484993, 0.2671829622458858, 0.2671829622458858, 0.2681510164569216, 0.2700871248789932, 0.271055179090029, 0.271055179090029, 0.27299128751210067, 0.2749273959341723, 0.27686350435624396, 1.0], \"y\": [0.0, 0.25668449197860965, 0.2807486631016043, 0.28609625668449196, 0.2887700534759358, 0.3074866310160428, 0.31016042780748665, 0.3155080213903743, 0.3582887700534759, 0.36363636363636365, 0.4197860962566845, 0.42245989304812837, 0.42780748663101603, 0.446524064171123, 0.46524064171123, 0.46524064171123, 0.4679144385026738, 0.4679144385026738, 0.48663101604278075, 0.48663101604278075, 0.5240641711229946, 0.5508021390374331, 0.5561497326203209, 0.5588235294117647, 0.5828877005347594, 0.5855614973262032, 0.5855614973262032, 0.5882352941176471, 0.5882352941176471, 0.5962566844919787, 0.606951871657754, 0.606951871657754, 0.606951871657754, 0.606951871657754, 0.6122994652406417, 0.6256684491978609, 0.6310160427807486, 0.6336898395721925, 0.660427807486631, 0.6631016042780749, 0.6657754010695187, 0.6711229946524064, 0.6737967914438503, 0.6764705882352942, 0.6764705882352942, 0.6844919786096256, 0.6844919786096256, 0.6844919786096256, 0.6844919786096256, 0.6871657754010695, 0.6925133689839572, 0.6925133689839572, 0.6951871657754011, 1.0]}, {\"mode\": \"lines\", \"name\": \"SVC\", \"type\": \"scatter\", \"x\": [0.0, 0.000968054211035818, 0.001936108422071636, 0.001936108422071636, 0.00484027105517909, 0.00484027105517909, 0.006776379477250726, 0.006776379477250726, 0.008712487899322363, 0.008712487899322363, 0.00968054211035818, 0.00968054211035818, 0.010648596321393998, 0.010648596321393998, 0.011616650532429816, 0.011616650532429816, 0.013552758954501452, 0.013552758954501452, 0.01452081316553727, 0.01452081316553727, 0.016456921587608905, 0.016456921587608905, 0.017424975798644726, 0.017424975798644726, 0.018393030009680542, 0.018393030009680542, 0.02032913843175218, 0.02032913843175218, 0.021297192642787996, 0.021297192642787996, 0.023233301064859633, 0.023233301064859633, 0.02516940948693127, 0.02516940948693127, 0.026137463697967087, 0.026137463697967087, 0.027105517909002903, 0.027105517909002903, 0.028073572120038724, 0.028073572120038724, 0.02904162633107454, 0.02904162633107454, 0.031945788964181994, 0.031945788964181994, 0.03291384317521781, 0.03291384317521781, 0.03388189738625363, 0.03388189738625363, 0.036786060019361085, 0.036786060019361085, 0.0377541142303969, 0.0377541142303969, 0.03969022265246854, 0.03969022265246854, 0.04065827686350436, 0.04065827686350436, 0.041626331074540175, 0.041626331074540175, 0.04356243949661181, 0.04356243949661181, 0.044530493707647625, 0.044530493707647625, 0.04549854791868345, 0.04549854791868345, 0.046466602129719266, 0.046466602129719266, 0.05033881897386254, 0.05033881897386254, 0.051306873184898356, 0.051306873184898356, 0.05614714424007745, 0.05614714424007745, 0.057115198451113264, 0.057115198451113264, 0.05808325266214908, 0.05808325266214908, 0.060019361084220714, 0.060019361084220714, 0.06098741529525654, 0.06098741529525654, 0.061955469506292354, 0.061955469506292354, 0.06292352371732816, 0.06292352371732816, 0.06485963213939981, 0.06485963213939981, 0.06582768635043562, 0.06582768635043562, 0.06679574056147145, 0.06679574056147145, 0.06776379477250725, 0.06776379477250725, 0.06873184898354308, 0.06873184898354308, 0.0696999031945789, 0.0696999031945789, 0.07163601161665054, 0.07163601161665054, 0.07357212003872217, 0.07357212003872217, 0.07454017424975799, 0.07454017424975799, 0.0755082284607938, 0.0755082284607938, 0.07647628267182963, 0.07647628267182963, 0.07744433688286544, 0.07744433688286544, 0.07841239109390126, 0.07841239109390126, 0.07938044530493708, 0.07938044530493708, 0.0803484995159729, 0.0803484995159729, 0.08131655372700872, 0.08131655372700872, 0.08228460793804453, 0.08228460793804453, 0.08422071636011616, 0.08422071636011616, 0.08518877057115198, 0.08518877057115198, 0.08615682478218781, 0.08615682478218781, 0.08809293320425944, 0.08809293320425944, 0.09196515004840271, 0.09196515004840271, 0.09390125847047434, 0.09390125847047434, 0.09583736689254599, 0.09583736689254599, 0.09874152952565343, 0.09874152952565343, 0.09970958373668926, 0.09970958373668926, 0.10067763794772508, 0.10067763794772508, 0.10164569215876089, 0.10164569215876089, 0.1074540174249758, 0.1074540174249758, 0.10842207163601161, 0.10842207163601161, 0.11035818005808325, 0.11035818005808325, 0.1122942884801549, 0.1122942884801549, 0.1132623426911907, 0.1132623426911907, 0.11713455953533398, 0.11713455953533398, 0.1181026137463698, 0.1181026137463698, 0.12584704743465633, 0.12584704743465633, 0.12778315585672798, 0.12778315585672798, 0.13068731848983542, 0.13068731848983542, 0.1335914811229429, 0.1335914811229429, 0.1355275895450145, 0.1355275895450145, 0.13746369796708616, 0.13746369796708616, 0.13843175217812198, 0.13843175217812198, 0.14230396902226525, 0.14230396902226525, 0.14617618586640851, 0.14617618586640851, 0.14908034849951599, 0.14908034849951599, 0.15004840271055178, 0.15004840271055178, 0.15392061955469508, 0.15392061955469508, 0.15876089060987417, 0.15876089060987417, 0.15972894482090996, 0.15972894482090996, 0.1606969990319458, 0.1606969990319458, 0.16263310745401743, 0.16263310745401743, 0.1665053242981607, 0.1665053242981607, 0.16844143272023232, 0.16844143272023232, 0.1732817037754114, 0.1732817037754114, 0.1781219748305905, 0.1781219748305905, 0.18005808325266215, 0.18005808325266215, 0.1819941916747338, 0.1819941916747338, 0.18586640851887706, 0.18586640851887706, 0.1887705711519845, 0.1887705711519845, 0.19554695062923524, 0.19554695062923524, 0.19651500484027107, 0.19651500484027107, 0.19748305905130686, 0.19748305905130686, 0.1984511132623427, 0.1984511132623427, 0.1994191674733785, 0.1994191674733785, 0.20329138431752178, 0.20329138431752178, 0.20522749273959343, 0.20522749273959343, 0.20813165537270087, 0.20813165537270087, 0.2090997095837367, 0.2090997095837367, 0.21006776379477252, 0.21006776379477252, 0.21200387221684414, 0.21200387221684414, 0.21393998063891578, 0.21684414327202323, 0.21684414327202323, 0.2197483059051307, 0.2197483059051307, 0.22362052274927396, 0.22362052274927396, 0.22942884801548888, 0.22942884801548888, 0.23039690222652467, 0.23039690222652467, 0.2420135527589545, 0.2420135527589545, 0.24298160696999033, 0.24298160696999033, 0.24588576960309777, 0.24588576960309777, 0.25072604065827686, 0.25072604065827686, 0.25169409486931266, 0.25169409486931266, 0.2536302032913843, 0.2536302032913843, 0.25459825750242016, 0.25459825750242016, 0.25556631171345595, 0.25556631171345595, 0.25653436592449175, 0.25653436592449175, 0.2575024201355276, 0.2575024201355276, 0.26137463697967084, 0.26137463697967084, 0.2623426911907067, 0.2623426911907067, 0.26524685382381413, 0.26524685382381413, 0.2691190706679574, 0.2691190706679574, 0.271055179090029, 0.271055179090029, 0.2739593417231365, 0.2739593417231365, 0.2749273959341723, 0.2749273959341723, 0.2758954501452081, 0.2758954501452081, 0.27783155856727976, 0.27783155856727976, 0.2787996127783156, 0.2787996127783156, 0.2855759922555663, 0.2855759922555663, 0.28654404646660214, 0.28654404646660214, 0.2933204259438529, 0.2933204259438529, 0.29816069699903197, 0.29816069699903197, 0.30009680542110356, 0.30009680542110356, 0.30396902226524686, 0.30396902226524686, 0.3107454017424976, 0.3107454017424976, 0.31268151016456924, 0.31268151016456924, 0.31364956437560504, 0.31364956437560504, 0.31848983543078413, 0.31848983543078413, 0.3233301064859632, 0.3233301064859632, 0.32720232333010646, 0.32720232333010646, 0.33204259438528555, 0.33204259438528555, 0.3339787028073572, 0.3339787028073572, 0.3436592449177154, 0.3436592449177154, 0.345595353339787, 0.345595353339787, 0.3601161665053243, 0.3601161665053243, 0.36786060019361083, 0.36786060019361083, 0.3717328170377541, 0.3717328170377541, 0.3727008712487899, 0.3727008712487899, 0.3814133591481123, 0.3814133591481123, 0.38431752178121975, 0.38431752178121975, 0.38818973862536305, 0.38818973862536305, 0.39012584704743464, 0.39012584704743464, 0.3920619554695063, 0.3920619554695063, 0.39496611810261373, 0.39496611810261373, 0.3969022265246854, 0.3969022265246854, 0.40077444336882867, 0.40077444336882867, 0.4027105517909003, 0.4027105517909003, 0.4036786060019361, 0.4036786060019361, 0.40561471442400776, 0.40561471442400776, 0.4085188770571152, 0.4085188770571152, 0.409486931268151, 0.409486931268151, 0.4133591481122943, 0.4133591481122943, 0.4181994191674734, 0.4181994191674734, 0.42110358180058083, 0.42110358180058083, 0.4230396902226525, 0.4230396902226525, 0.4249757986447241, 0.4249757986447241, 0.43272023233301066, 0.43272023233301066, 0.43852855759922554, 0.43852855759922554, 0.441432720232333, 0.441432720232333, 0.44240077444336884, 0.44240077444336884, 0.4482090997095837, 0.4482090997095837, 0.4569215876089061, 0.4569215876089061, 0.47725072604065827, 0.47725072604065827, 0.4782187802516941, 0.4782187802516941, 0.48596321393998065, 0.48596321393998065, 0.49080348499515974, 0.49080348499515974, 0.49177153920619554, 0.49177153920619554, 0.4985479186834463, 0.4985479186834463, 0.5014520813165537, 0.5014520813165537, 0.5130687318489835, 0.5130687318489835, 0.5169409486931268, 0.5169409486931268, 0.5198451113262342, 0.5198451113262342, 0.5256534365924492, 0.5256534365924492, 0.5285575992255567, 0.5285575992255567, 0.5343659244917716, 0.5343659244917716, 0.5488867376573088, 0.5488867376573088, 0.5643756050338818, 0.5643756050338818, 0.5653436592449177, 0.5653436592449177, 0.57405614714424, 0.57405614714424, 0.5847047434656341, 0.5847047434656341, 0.5895450145208132, 0.5895450145208132, 0.6001936108422071, 0.6001936108422071, 0.6050338818973863, 0.6050338818973863, 0.6156824782187803, 0.6156824782187803, 0.6272991287512101, 0.6272991287512101, 0.6350435624394967, 0.6350435624394967, 0.6495643756050339, 0.6495643756050339, 0.6505324298160697, 0.6505324298160697, 0.6727976766698935, 0.6727976766698935, 0.6737657308809293, 0.6737657308809293, 0.6815101645692159, 0.6815101645692159, 0.6969990319457889, 0.6969990319457889, 0.7202323330106486, 0.7202323330106486, 0.7337850919651501, 0.7337850919651501, 0.7386253630203291, 0.7386253630203291, 0.7676669893514037, 0.7676669893514037, 0.7754114230396902, 0.7754114230396902, 0.7783155856727977, 0.7783155856727977, 0.8160696999031946, 0.8160696999031946, 0.8402710551790901, 0.8402710551790901, 0.8576960309777347, 0.8576960309777347, 0.8760890609874153, 0.8760890609874153, 0.8780251694094869, 0.8780251694094869, 0.8857696030977735, 0.8857696030977735, 0.8973862536302033, 0.8973862536302033, 1.0], \"y\": [0.0, 0.0, 0.0, 0.008021390374331552, 0.008021390374331552, 0.0106951871657754, 0.0106951871657754, 0.013368983957219251, 0.013368983957219251, 0.016042780748663103, 0.016042780748663103, 0.03208556149732621, 0.03208556149732621, 0.034759358288770054, 0.034759358288770054, 0.0374331550802139, 0.0374331550802139, 0.040106951871657755, 0.040106951871657755, 0.045454545454545456, 0.045454545454545456, 0.053475935828877004, 0.053475935828877004, 0.06684491978609626, 0.06684491978609626, 0.07219251336898395, 0.07219251336898395, 0.08288770053475936, 0.08288770053475936, 0.0962566844919786, 0.0962566844919786, 0.10427807486631016, 0.10427807486631016, 0.10695187165775401, 0.10695187165775401, 0.13101604278074866, 0.13101604278074866, 0.13368983957219252, 0.13368983957219252, 0.1443850267379679, 0.1443850267379679, 0.15508021390374332, 0.15508021390374332, 0.1657754010695187, 0.1657754010695187, 0.1711229946524064, 0.1711229946524064, 0.18449197860962566, 0.18449197860962566, 0.18983957219251338, 0.18983957219251338, 0.19786096256684493, 0.19786096256684493, 0.20855614973262032, 0.20855614973262032, 0.21122994652406418, 0.21122994652406418, 0.21390374331550802, 0.21390374331550802, 0.21657754010695188, 0.21657754010695188, 0.2192513368983957, 0.2192513368983957, 0.25133689839572193, 0.25133689839572193, 0.25935828877005346, 0.25935828877005346, 0.2807486631016043, 0.2807486631016043, 0.28609625668449196, 0.28609625668449196, 0.2887700534759358, 0.2887700534759358, 0.2914438502673797, 0.2914438502673797, 0.2967914438502674, 0.2967914438502674, 0.30213903743315507, 0.30213903743315507, 0.3048128342245989, 0.3048128342245989, 0.31283422459893045, 0.31283422459893045, 0.3155080213903743, 0.3155080213903743, 0.3181818181818182, 0.3181818181818182, 0.3235294117647059, 0.3235294117647059, 0.32620320855614976, 0.32620320855614976, 0.3315508021390374, 0.3315508021390374, 0.3342245989304813, 0.3342245989304813, 0.33689839572192515, 0.33689839572192515, 0.3422459893048128, 0.3422459893048128, 0.34759358288770054, 0.34759358288770054, 0.3502673796791444, 0.3502673796791444, 0.35294117647058826, 0.35294117647058826, 0.36363636363636365, 0.36363636363636365, 0.3663101604278075, 0.3663101604278075, 0.3689839572192513, 0.3689839572192513, 0.37967914438502676, 0.37967914438502676, 0.3877005347593583, 0.3877005347593583, 0.39037433155080214, 0.39037433155080214, 0.393048128342246, 0.393048128342246, 0.39572192513368987, 0.39572192513368987, 0.40106951871657753, 0.40106951871657753, 0.4037433155080214, 0.4037433155080214, 0.4090909090909091, 0.4090909090909091, 0.4117647058823529, 0.4117647058823529, 0.41711229946524064, 0.41711229946524064, 0.4197860962566845, 0.4197860962566845, 0.4304812834224599, 0.4304812834224599, 0.4358288770053476, 0.4358288770053476, 0.446524064171123, 0.446524064171123, 0.4572192513368984, 0.4572192513368984, 0.4625668449197861, 0.4625668449197861, 0.4679144385026738, 0.4679144385026738, 0.48128342245989303, 0.48128342245989303, 0.4839572192513369, 0.4839572192513369, 0.48663101604278075, 0.48663101604278075, 0.4893048128342246, 0.4893048128342246, 0.4946524064171123, 0.4946524064171123, 0.5026737967914439, 0.5026737967914439, 0.5053475935828877, 0.5053475935828877, 0.5080213903743316, 0.5080213903743316, 0.516042780748663, 0.516042780748663, 0.5213903743315508, 0.5213903743315508, 0.5320855614973262, 0.5320855614973262, 0.5347593582887701, 0.5347593582887701, 0.5374331550802139, 0.5374331550802139, 0.5401069518716578, 0.5401069518716578, 0.5427807486631016, 0.5427807486631016, 0.5481283422459893, 0.5481283422459893, 0.553475935828877, 0.553475935828877, 0.5641711229946524, 0.5641711229946524, 0.5668449197860963, 0.5668449197860963, 0.5748663101604278, 0.5748663101604278, 0.5775401069518716, 0.5775401069518716, 0.5828877005347594, 0.5828877005347594, 0.5855614973262032, 0.5855614973262032, 0.5882352941176471, 0.5882352941176471, 0.5909090909090909, 0.5909090909090909, 0.5935828877005348, 0.5935828877005348, 0.5962566844919787, 0.5962566844919787, 0.5989304812834224, 0.5989304812834224, 0.6016042780748663, 0.6016042780748663, 0.6042780748663101, 0.6042780748663101, 0.606951871657754, 0.606951871657754, 0.6096256684491979, 0.6096256684491979, 0.6176470588235294, 0.6176470588235294, 0.6203208556149733, 0.6203208556149733, 0.6229946524064172, 0.6229946524064172, 0.6256684491978609, 0.6256684491978609, 0.6283422459893048, 0.6283422459893048, 0.6336898395721925, 0.6336898395721925, 0.6390374331550802, 0.6390374331550802, 0.6417112299465241, 0.6417112299465241, 0.6497326203208557, 0.6524064171122995, 0.6524064171122995, 0.6577540106951871, 0.6577540106951871, 0.660427807486631, 0.660427807486631, 0.6684491978609626, 0.6684491978609626, 0.6711229946524064, 0.6711229946524064, 0.6737967914438503, 0.6737967914438503, 0.6764705882352942, 0.6764705882352942, 0.679144385026738, 0.679144385026738, 0.6818181818181818, 0.6818181818181818, 0.6844919786096256, 0.6844919786096256, 0.6871657754010695, 0.6871657754010695, 0.6925133689839572, 0.6925133689839572, 0.6951871657754011, 0.6951871657754011, 0.6978609625668449, 0.6978609625668449, 0.7005347593582888, 0.7005347593582888, 0.7058823529411765, 0.7058823529411765, 0.7112299465240641, 0.7112299465240641, 0.7165775401069518, 0.7165775401069518, 0.7192513368983957, 0.7192513368983957, 0.7219251336898396, 0.7219251336898396, 0.7272727272727273, 0.7272727272727273, 0.7299465240641712, 0.7299465240641712, 0.7379679144385026, 0.7379679144385026, 0.7406417112299465, 0.7406417112299465, 0.7433155080213903, 0.7433155080213903, 0.7486631016042781, 0.7486631016042781, 0.7513368983957219, 0.7513368983957219, 0.7540106951871658, 0.7540106951871658, 0.7566844919786097, 0.7566844919786097, 0.7620320855614974, 0.7620320855614974, 0.7647058823529411, 0.7647058823529411, 0.7700534759358288, 0.7700534759358288, 0.7727272727272727, 0.7727272727272727, 0.7754010695187166, 0.7754010695187166, 0.7780748663101604, 0.7780748663101604, 0.7807486631016043, 0.7807486631016043, 0.7834224598930482, 0.7834224598930482, 0.786096256684492, 0.786096256684492, 0.7887700534759359, 0.7887700534759359, 0.7914438502673797, 0.7914438502673797, 0.7941176470588235, 0.7941176470588235, 0.7967914438502673, 0.7967914438502673, 0.7994652406417112, 0.7994652406417112, 0.8021390374331551, 0.8021390374331551, 0.8048128342245989, 0.8048128342245989, 0.8074866310160428, 0.8074866310160428, 0.8101604278074866, 0.8101604278074866, 0.8128342245989305, 0.8128342245989305, 0.8155080213903744, 0.8155080213903744, 0.8181818181818182, 0.8181818181818182, 0.820855614973262, 0.820855614973262, 0.8235294117647058, 0.8235294117647058, 0.8262032085561497, 0.8262032085561497, 0.8288770053475936, 0.8288770053475936, 0.8315508021390374, 0.8315508021390374, 0.8368983957219251, 0.8368983957219251, 0.839572192513369, 0.839572192513369, 0.8422459893048129, 0.8422459893048129, 0.8449197860962567, 0.8449197860962567, 0.8475935828877005, 0.8475935828877005, 0.8502673796791443, 0.8502673796791443, 0.8529411764705882, 0.8529411764705882, 0.8582887700534759, 0.8582887700534759, 0.8609625668449198, 0.8609625668449198, 0.8636363636363636, 0.8636363636363636, 0.8663101604278075, 0.8663101604278075, 0.8689839572192514, 0.8689839572192514, 0.8716577540106952, 0.8716577540106952, 0.8743315508021391, 0.8743315508021391, 0.8770053475935828, 0.8770053475935828, 0.8796791443850267, 0.8796791443850267, 0.8823529411764706, 0.8823529411764706, 0.8850267379679144, 0.8850267379679144, 0.8877005347593583, 0.8877005347593583, 0.8903743315508021, 0.8903743315508021, 0.893048128342246, 0.893048128342246, 0.8957219251336899, 0.8957219251336899, 0.8983957219251337, 0.8983957219251337, 0.9010695187165776, 0.9010695187165776, 0.9037433155080213, 0.9037433155080213, 0.9090909090909091, 0.9090909090909091, 0.9117647058823529, 0.9117647058823529, 0.9144385026737968, 0.9144385026737968, 0.9171122994652406, 0.9171122994652406, 0.9197860962566845, 0.9197860962566845, 0.9224598930481284, 0.9224598930481284, 0.9278074866310161, 0.9278074866310161, 0.9331550802139037, 0.9331550802139037, 0.9358288770053476, 0.9358288770053476, 0.9385026737967914, 0.9385026737967914, 0.9411764705882353, 0.9411764705882353, 0.9438502673796791, 0.9438502673796791, 0.946524064171123, 0.946524064171123, 0.9491978609625669, 0.9491978609625669, 0.9518716577540107, 0.9518716577540107, 0.9545454545454546, 0.9545454545454546, 0.9572192513368984, 0.9572192513368984, 0.9598930481283422, 0.9598930481283422, 0.9625668449197861, 0.9625668449197861, 0.9652406417112299, 0.9652406417112299, 0.9679144385026738, 0.9679144385026738, 0.9705882352941176, 0.9705882352941176, 0.9759358288770054, 0.9759358288770054, 0.9786096256684492, 0.9786096256684492, 0.9812834224598931, 0.9812834224598931, 0.983957219251337, 0.983957219251337, 0.9866310160427807, 0.9866310160427807, 0.9893048128342246, 0.9893048128342246, 0.9919786096256684, 0.9919786096256684, 0.9946524064171123, 0.9946524064171123, 0.9973262032085561, 0.9973262032085561, 1.0, 1.0]}, {\"mode\": \"lines\", \"name\": \"RF\", \"type\": \"scatter\", \"x\": [0.0, 0.0, 0.0, 0.000968054211035818, 0.000968054211035818, 0.001936108422071636, 0.001936108422071636, 0.002904162633107454, 0.002904162633107454, 0.003872216844143272, 0.003872216844143272, 0.00484027105517909, 0.00484027105517909, 0.005808325266214908, 0.005808325266214908, 0.006776379477250726, 0.006776379477250726, 0.007744433688286544, 0.007744433688286544, 0.008712487899322363, 0.008712487899322363, 0.00968054211035818, 0.00968054211035818, 0.010648596321393998, 0.010648596321393998, 0.011616650532429816, 0.011616650532429816, 0.012584704743465635, 0.012584704743465635, 0.013552758954501452, 0.013552758954501452, 0.015488867376573089, 0.015488867376573089, 0.016456921587608905, 0.016456921587608905, 0.017424975798644726, 0.017424975798644726, 0.018393030009680542, 0.018393030009680542, 0.01936108422071636, 0.01936108422071636, 0.022265246853823813, 0.022265246853823813, 0.02420135527589545, 0.02420135527589545, 0.02516940948693127, 0.02516940948693127, 0.026137463697967087, 0.026137463697967087, 0.028073572120038724, 0.028073572120038724, 0.02904162633107454, 0.02904162633107454, 0.030009680542110357, 0.030009680542110357, 0.030977734753146177, 0.030977734753146177, 0.031945788964181994, 0.031945788964181994, 0.03291384317521781, 0.03291384317521781, 0.03388189738625363, 0.03388189738625363, 0.03484995159728945, 0.03484995159728945, 0.03581800580832527, 0.03581800580832527, 0.03872216844143272, 0.03872216844143272, 0.03969022265246854, 0.03969022265246854, 0.04065827686350436, 0.04065827686350436, 0.041626331074540175, 0.041626331074540175, 0.04259438528557599, 0.04259438528557599, 0.04356243949661181, 0.04356243949661181, 0.044530493707647625, 0.044530493707647625, 0.046466602129719266, 0.04743465634075508, 0.04743465634075508, 0.0484027105517909, 0.0484027105517909, 0.049370764762826716, 0.049370764762826716, 0.05227492739593417, 0.05227492739593417, 0.05324298160696999, 0.05324298160696999, 0.05421103581800581, 0.05421103581800581, 0.05614714424007745, 0.05614714424007745, 0.057115198451113264, 0.057115198451113264, 0.06098741529525654, 0.06098741529525654, 0.061955469506292354, 0.061955469506292354, 0.06292352371732816, 0.06292352371732816, 0.06389157792836399, 0.06389157792836399, 0.06485963213939981, 0.06582768635043562, 0.06582768635043562, 0.06776379477250725, 0.06776379477250725, 0.06873184898354308, 0.06873184898354308, 0.0696999031945789, 0.0696999031945789, 0.07163601161665054, 0.07163601161665054, 0.07260406582768635, 0.07260406582768635, 0.07454017424975799, 0.07454017424975799, 0.0755082284607938, 0.0755082284607938, 0.07647628267182963, 0.07647628267182963, 0.07744433688286544, 0.07744433688286544, 0.07938044530493708, 0.07938044530493708, 0.08131655372700872, 0.08131655372700872, 0.08325266214908035, 0.08325266214908035, 0.08422071636011616, 0.08422071636011616, 0.08615682478218781, 0.08615682478218781, 0.08712487899322362, 0.08712487899322362, 0.08809293320425944, 0.08809293320425944, 0.09002904162633107, 0.09196515004840271, 0.09196515004840271, 0.09293320425943853, 0.09293320425943853, 0.09486931268151017, 0.0968054211035818, 0.0968054211035818, 0.09777347531461762, 0.09777347531461762, 0.09874152952565343, 0.09970958373668926, 0.09970958373668926, 0.10067763794772508, 0.10067763794772508, 0.10164569215876089, 0.10164569215876089, 0.10261374636979671, 0.10261374636979671, 0.10454985479186835, 0.10648596321393998, 0.10842207163601161, 0.11035818005808325, 0.11035818005808325, 0.1132623426911907, 0.1132623426911907, 0.1132623426911907, 0.11423039690222653, 0.11423039690222653, 0.11713455953533398, 0.12294288480154889, 0.12294288480154889, 0.12391093901258471, 0.12584704743465633, 0.12778315585672798, 0.12778315585672798, 0.1287512100677638, 0.1287512100677638, 0.1345595353339787, 0.13649564375605033, 0.13746369796708616, 0.13746369796708616, 0.1393998063891578, 0.1403678606001936, 0.1403678606001936, 0.14133591481122942, 0.14133591481122942, 0.14230396902226525, 0.14230396902226525, 0.1442400774443369, 0.1442400774443369, 0.1452081316553727, 0.1452081316553727, 0.15295256534365925, 0.15295256534365925, 0.15488867376573087, 0.15488867376573087, 0.1558567279767667, 0.1558567279767667, 0.15682478218780252, 0.15779283639883834, 0.15876089060987417, 0.15876089060987417, 0.15972894482090996, 0.15972894482090996, 0.15972894482090996, 0.15972894482090996, 0.15972894482090996, 0.1616650532429816, 0.1616650532429816, 0.16263310745401743, 0.16456921587608905, 0.1665053242981607, 0.1665053242981607, 0.17231364956437561, 0.17231364956437561, 0.1732817037754114, 0.1771539206195547, 0.1771539206195547, 0.17909002904162633, 0.18102613746369797, 0.18393030009680542, 0.18393030009680542, 0.18586640851887706, 0.18586640851887706, 0.1868344627299129, 0.1868344627299129, 0.1887705711519845, 0.19167473378509198, 0.19167473378509198, 0.19264278799612777, 0.19264278799612777, 0.19457889641819942, 0.19457889641819942, 0.19748305905130686, 0.1984511132623427, 0.20038722168441434, 0.20038722168441434, 0.20135527589545016, 0.20619554695062922, 0.20716360116166505, 0.20716360116166505, 0.2090997095837367, 0.2090997095837367, 0.21006776379477252, 0.21297192642787996, 0.21297192642787996, 0.2158760890609874, 0.21878025169409487, 0.21878025169409487, 0.22265246853823814, 0.22265246853823814, 0.22362052274927396, 0.22362052274927396, 0.22555663117134558, 0.22846079380445306, 0.23330106485963215, 0.23330106485963215, 0.23523717328170377, 0.2371732817037754, 0.24007744433688286, 0.24007744433688286, 0.24104549854791868, 0.24104549854791868, 0.2468538238141336, 0.2468538238141336, 0.24782187802516942, 0.2526621490803485, 0.25459825750242016, 0.25459825750242016, 0.25556631171345595, 0.2584704743465634, 0.25943852855759925, 0.25943852855759925, 0.26137463697967084, 0.26137463697967084, 0.26524685382381413, 0.26524685382381413, 0.2681510164569216, 0.271055179090029, 0.271055179090029, 0.2758954501452081, 0.27686350435624396, 0.2807357212003872, 0.28170377541142305, 0.2855759922555663, 0.28654404646660214, 0.2894482090997096, 0.2894482090997096, 0.2933204259438529, 0.2952565343659245, 0.2971926427879961, 0.2971926427879961, 0.29816069699903197, 0.29816069699903197, 0.3020329138431752, 0.30396902226524686, 0.3059051306873185, 0.3068731848983543, 0.30880929332042595, 0.3107454017424976, 0.31752178121974833, 0.31848983543078413, 0.32623426911907066, 0.32623426911907066, 0.3281703775411423, 0.3339787028073572, 0.3378509196515005, 0.3436592449177154, 0.3436592449177154, 0.34462729912875123, 0.34849951597289447, 0.34849951597289447, 0.3494675701839303, 0.3494675701839303, 0.35237173281703776, 0.35237173281703776, 0.356243949661181, 0.356243949661181, 0.356243949661181, 0.3591481122942885, 0.3601161665053243, 0.3601161665053243, 0.3610842207163601, 0.3610842207163601, 0.3659244917715392, 0.3659244917715392, 0.36689254598257504, 0.3717328170377541, 0.3727008712487899, 0.37947725072604066, 0.37947725072604066, 0.38044530493707646, 0.39012584704743464, 0.3910939012584705, 0.3910939012584705, 0.398838334946757, 0.40174249757986447, 0.41142303969022265, 0.4133591481122943, 0.4133591481122943, 0.41529525653436594, 0.4220716360116166, 0.4230396902226525, 0.43272023233301066, 0.43368828654404645, 0.43368828654404645, 0.441432720232333, 0.44336882865440463, 0.45111326234269117, 0.45401742497579867, 0.45595353339787026, 0.4675701839303001, 0.46853823814133594, 0.4743465634075508, 0.4762826718296225, 0.4762826718296225, 0.4801548886737657, 0.48112294288480156, 0.48112294288480156, 0.4878993223620523, 0.4888673765730881, 0.4985479186834463, 0.5014520813165537, 0.5082284607938045, 0.5082284607938045, 0.5111326234269119, 0.5169409486931268, 0.5169409486931268, 0.5198451113262342, 0.5295256534365924, 0.5304937076476283, 0.5304937076476283, 0.5324298160696999, 0.5411423039690223, 0.542110358180058, 0.542110358180058, 0.5488867376573088, 0.5488867376573088, 0.5605033881897387, 0.5605033881897387, 0.5701839303000968, 0.5711519845111326, 0.5847047434656341, 0.5895450145208132, 0.5924491771539206, 0.6060019361084221, 0.6060019361084221, 0.6205227492739593, 0.6224588576960309, 0.6360116166505324, 0.6369796708615683, 0.6476282671829623, 0.6476282671829623, 0.648596321393998, 0.6602129719264279, 0.6611810261374637, 0.6737657308809293, 0.6747337850919651, 0.6882865440464666, 0.6979670861568248, 0.712487899322362, 0.7299128751210068, 0.7521781219748306, 0.7696030977734754, 0.7889641819941917, 0.8160696999031946, 0.8518877057115198, 0.9090029041626331, 0.9099709583736689, 1.0], \"y\": [0.0, 0.00267379679144385, 0.016042780748663103, 0.016042780748663103, 0.01871657754010695, 0.01871657754010695, 0.02406417112299465, 0.02406417112299465, 0.026737967914438502, 0.026737967914438502, 0.058823529411764705, 0.058823529411764705, 0.06149732620320856, 0.06149732620320856, 0.06417112299465241, 0.06417112299465241, 0.06684491978609626, 0.06684491978609626, 0.07754010695187166, 0.07754010695187166, 0.08288770053475936, 0.08288770053475936, 0.08823529411764706, 0.08823529411764706, 0.09358288770053476, 0.09358288770053476, 0.09893048128342247, 0.09893048128342247, 0.11497326203208556, 0.11497326203208556, 0.11764705882352941, 0.11764705882352941, 0.12299465240641712, 0.12299465240641712, 0.13101604278074866, 0.13101604278074866, 0.13636363636363635, 0.13636363636363635, 0.13903743315508021, 0.13903743315508021, 0.14171122994652408, 0.14171122994652408, 0.15240641711229946, 0.15240641711229946, 0.15508021390374332, 0.15508021390374332, 0.16844919786096257, 0.16844919786096257, 0.17379679144385027, 0.17379679144385027, 0.17914438502673796, 0.17914438502673796, 0.18181818181818182, 0.18181818181818182, 0.18449197860962566, 0.18449197860962566, 0.18983957219251338, 0.18983957219251338, 0.1925133689839572, 0.1925133689839572, 0.20053475935828877, 0.20053475935828877, 0.21122994652406418, 0.21122994652406418, 0.21390374331550802, 0.21390374331550802, 0.2192513368983957, 0.2192513368983957, 0.232620320855615, 0.232620320855615, 0.24331550802139038, 0.24331550802139038, 0.24866310160427807, 0.24866310160427807, 0.25133689839572193, 0.25133689839572193, 0.2540106951871658, 0.2540106951871658, 0.25935828877005346, 0.25935828877005346, 0.2620320855614973, 0.2620320855614973, 0.26737967914438504, 0.2700534759358289, 0.2700534759358289, 0.27807486631016043, 0.27807486631016043, 0.2914438502673797, 0.2914438502673797, 0.2967914438502674, 0.2967914438502674, 0.3048128342245989, 0.3048128342245989, 0.31016042780748665, 0.31016042780748665, 0.3155080213903743, 0.3155080213903743, 0.3235294117647059, 0.3235294117647059, 0.32620320855614976, 0.32620320855614976, 0.3342245989304813, 0.3342245989304813, 0.33689839572192515, 0.33689839572192515, 0.339572192513369, 0.339572192513369, 0.3422459893048128, 0.3502673796791444, 0.3502673796791444, 0.35561497326203206, 0.35561497326203206, 0.3609625668449198, 0.3609625668449198, 0.36363636363636365, 0.36363636363636365, 0.3770053475935829, 0.3770053475935829, 0.37967914438502676, 0.37967914438502676, 0.38235294117647056, 0.38235294117647056, 0.39037433155080214, 0.39037433155080214, 0.393048128342246, 0.393048128342246, 0.3983957219251337, 0.3983957219251337, 0.4090909090909091, 0.4090909090909091, 0.4144385026737968, 0.41711229946524064, 0.42245989304812837, 0.42245989304812837, 0.42513368983957217, 0.42513368983957217, 0.42780748663101603, 0.42780748663101603, 0.43315508021390375, 0.43315508021390375, 0.4358288770053476, 0.4358288770053476, 0.4358288770053476, 0.446524064171123, 0.446524064171123, 0.4572192513368984, 0.4572192513368984, 0.45989304812834225, 0.4625668449197861, 0.4625668449197861, 0.4679144385026738, 0.47058823529411764, 0.47058823529411764, 0.4839572192513369, 0.48663101604278075, 0.4919786096256685, 0.4919786096256685, 0.4946524064171123, 0.4946524064171123, 0.49732620320855614, 0.49732620320855614, 0.5, 0.5, 0.5, 0.5026737967914439, 0.5026737967914439, 0.516042780748663, 0.5213903743315508, 0.5213903743315508, 0.5320855614973262, 0.5320855614973262, 0.5320855614973262, 0.5347593582887701, 0.5347593582887701, 0.5374331550802139, 0.5374331550802139, 0.5427807486631016, 0.5454545454545454, 0.5481283422459893, 0.5481283422459893, 0.5481283422459893, 0.5481283422459893, 0.5561497326203209, 0.5588235294117647, 0.5588235294117647, 0.5614973262032086, 0.5614973262032086, 0.5668449197860963, 0.5668449197860963, 0.56951871657754, 0.56951871657754, 0.5775401069518716, 0.5775401069518716, 0.5855614973262032, 0.5855614973262032, 0.5882352941176471, 0.5882352941176471, 0.5909090909090909, 0.5909090909090909, 0.5935828877005348, 0.5962566844919787, 0.5962566844919787, 0.5989304812834224, 0.6096256684491979, 0.6096256684491979, 0.6149732620320856, 0.6176470588235294, 0.6229946524064172, 0.6283422459893048, 0.6283422459893048, 0.6310160427807486, 0.6310160427807486, 0.6336898395721925, 0.6336898395721925, 0.6363636363636364, 0.6363636363636364, 0.6390374331550802, 0.6417112299465241, 0.6417112299465241, 0.6443850267379679, 0.6443850267379679, 0.6443850267379679, 0.6443850267379679, 0.6470588235294118, 0.6470588235294118, 0.6497326203208557, 0.6497326203208557, 0.6550802139037433, 0.6631016042780749, 0.6631016042780749, 0.6657754010695187, 0.6657754010695187, 0.6737967914438503, 0.6737967914438503, 0.6764705882352942, 0.6764705882352942, 0.6844919786096256, 0.6844919786096256, 0.6898395721925134, 0.6898395721925134, 0.6925133689839572, 0.6925133689839572, 0.6951871657754011, 0.6951871657754011, 0.6978609625668449, 0.7058823529411765, 0.7058823529411765, 0.7085561497326203, 0.7085561497326203, 0.7085561497326203, 0.713903743315508, 0.713903743315508, 0.7165775401069518, 0.7165775401069518, 0.7192513368983957, 0.7219251336898396, 0.7219251336898396, 0.7245989304812834, 0.7299465240641712, 0.7299465240641712, 0.7299465240641712, 0.7379679144385026, 0.7406417112299465, 0.7406417112299465, 0.7459893048128342, 0.7459893048128342, 0.7486631016042781, 0.7486631016042781, 0.7486631016042781, 0.7486631016042781, 0.7540106951871658, 0.7540106951871658, 0.7566844919786097, 0.7566844919786097, 0.7593582887700535, 0.7593582887700535, 0.7620320855614974, 0.7620320855614974, 0.7647058823529411, 0.7647058823529411, 0.7647058823529411, 0.767379679144385, 0.767379679144385, 0.767379679144385, 0.7754010695187166, 0.7754010695187166, 0.7780748663101604, 0.7780748663101604, 0.786096256684492, 0.7887700534759359, 0.7887700534759359, 0.7914438502673797, 0.7914438502673797, 0.7941176470588235, 0.7941176470588235, 0.7967914438502673, 0.8048128342245989, 0.8048128342245989, 0.8048128342245989, 0.8074866310160428, 0.8101604278074866, 0.8101604278074866, 0.8155080213903744, 0.8155080213903744, 0.8235294117647058, 0.8262032085561497, 0.8262032085561497, 0.8288770053475936, 0.8288770053475936, 0.8288770053475936, 0.8315508021390374, 0.8315508021390374, 0.8342245989304813, 0.8368983957219251, 0.8368983957219251, 0.8422459893048129, 0.8422459893048129, 0.8449197860962567, 0.8502673796791443, 0.8529411764705882, 0.8582887700534759, 0.8609625668449198, 0.8609625668449198, 0.8636363636363636, 0.8636363636363636, 0.8663101604278075, 0.8689839572192514, 0.8716577540106952, 0.8716577540106952, 0.8743315508021391, 0.8743315508021391, 0.8770053475935828, 0.8823529411764706, 0.8823529411764706, 0.8877005347593583, 0.8877005347593583, 0.8903743315508021, 0.8983957219251337, 0.8983957219251337, 0.9010695187165776, 0.9010695187165776, 0.9037433155080213, 0.9037433155080213, 0.9037433155080213, 0.9037433155080213, 0.9037433155080213, 0.9037433155080213, 0.9064171122994652, 0.9064171122994652, 0.9064171122994652, 0.9090909090909091, 0.9117647058823529, 0.9117647058823529, 0.9117647058823529, 0.9117647058823529, 0.9117647058823529, 0.9117647058823529, 0.9144385026737968, 0.9171122994652406, 0.9171122994652406, 0.9197860962566845, 0.9197860962566845, 0.9197860962566845, 0.9224598930481284, 0.9224598930481284, 0.9224598930481284, 0.9251336898395722, 0.9251336898395722, 0.9251336898395722, 0.9278074866310161, 0.9278074866310161, 0.9278074866310161, 0.9278074866310161, 0.93048128342246, 0.93048128342246, 0.9385026737967914, 0.9385026737967914, 0.9411764705882353, 0.9411764705882353, 0.9438502673796791, 0.946524064171123, 0.9491978609625669, 0.9545454545454546, 0.9545454545454546, 0.9598930481283422, 0.9652406417112299, 0.9652406417112299, 0.9679144385026738, 0.9705882352941176, 0.9732620320855615, 0.9732620320855615, 0.9786096256684492, 0.9786096256684492, 0.9812834224598931, 0.983957219251337, 0.983957219251337, 0.983957219251337, 0.983957219251337, 0.9866310160427807, 0.9866310160427807, 0.9893048128342246, 0.9893048128342246, 0.9893048128342246, 0.9893048128342246, 0.9893048128342246, 0.9893048128342246, 0.9893048128342246, 0.9893048128342246, 0.9973262032085561, 0.9973262032085561, 0.9973262032085561, 1.0]}, {\"mode\": \"lines\", \"name\": \"ADA\", \"type\": \"scatter\", \"x\": [0.0, 0.0, 0.000968054211035818, 0.000968054211035818, 0.001936108422071636, 0.001936108422071636, 0.001936108422071636, 0.002904162633107454, 0.002904162633107454, 0.002904162633107454, 0.003872216844143272, 0.003872216844143272, 0.003872216844143272, 0.003872216844143272, 0.003872216844143272, 0.003872216844143272, 0.00484027105517909, 0.007744433688286544, 0.007744433688286544, 0.007744433688286544, 0.007744433688286544, 0.008712487899322363, 0.008712487899322363, 0.00968054211035818, 0.00968054211035818, 0.00968054211035818, 0.00968054211035818, 0.00968054211035818, 0.010648596321393998, 0.010648596321393998, 0.010648596321393998, 0.012584704743465635, 0.012584704743465635, 0.012584704743465635, 0.01452081316553727, 0.015488867376573089, 0.015488867376573089, 0.016456921587608905, 0.016456921587608905, 0.018393030009680542, 0.01936108422071636, 0.01936108422071636, 0.02032913843175218, 0.02032913843175218, 0.021297192642787996, 0.023233301064859633, 0.02420135527589545, 0.02420135527589545, 0.02420135527589545, 0.027105517909002903, 0.030977734753146177, 0.030977734753146177, 0.031945788964181994, 0.031945788964181994, 0.03388189738625363, 0.03388189738625363, 0.03388189738625363, 0.03581800580832527, 0.03581800580832527, 0.0377541142303969, 0.0377541142303969, 0.03969022265246854, 0.03969022265246854, 0.03969022265246854, 0.03969022265246854, 0.041626331074540175, 0.04259438528557599, 0.04259438528557599, 0.04356243949661181, 0.04356243949661181, 0.04549854791868345, 0.04549854791868345, 0.04549854791868345, 0.04549854791868345, 0.046466602129719266, 0.046466602129719266, 0.046466602129719266, 0.046466602129719266, 0.049370764762826716, 0.05033881897386254, 0.05033881897386254, 0.05227492739593417, 0.05227492739593417, 0.05227492739593417, 0.05227492739593417, 0.05227492739593417, 0.05324298160696999, 0.05324298160696999, 0.057115198451113264, 0.057115198451113264, 0.05808325266214908, 0.0590513068731849, 0.0590513068731849, 0.060019361084220714, 0.060019361084220714, 0.06098741529525654, 0.06098741529525654, 0.06389157792836399, 0.06582768635043562, 0.06679574056147145, 0.06679574056147145, 0.06873184898354308, 0.07066795740561471, 0.07066795740561471, 0.0755082284607938, 0.0755082284607938, 0.07647628267182963, 0.07647628267182963, 0.07647628267182963, 0.07647628267182963, 0.07938044530493708, 0.0803484995159729, 0.0803484995159729, 0.08131655372700872, 0.08131655372700872, 0.08228460793804453, 0.08228460793804453, 0.08325266214908035, 0.08325266214908035, 0.08422071636011616, 0.08615682478218781, 0.08712487899322362, 0.08712487899322362, 0.09002904162633107, 0.0909970958373669, 0.0909970958373669, 0.09293320425943853, 0.09293320425943853, 0.09583736689254599, 0.09583736689254599, 0.09777347531461762, 0.09970958373668926, 0.10067763794772508, 0.10164569215876089, 0.10164569215876089, 0.10358180058083252, 0.10454985479186835, 0.10551790900290416, 0.10648596321393998, 0.10648596321393998, 0.10648596321393998, 0.10842207163601161, 0.10842207163601161, 0.10842207163601161, 0.10939012584704744, 0.11035818005808325, 0.1132623426911907, 0.1132623426911907, 0.1132623426911907, 0.11519845111326234, 0.11519845111326234, 0.11616650532429816, 0.11616650532429816, 0.11616650532429816, 0.11616650532429816, 0.1181026137463698, 0.1181026137463698, 0.12294288480154889, 0.12294288480154889, 0.12487899322362052, 0.12681510164569215, 0.12681510164569215, 0.12778315585672798, 0.12778315585672798, 0.1287512100677638, 0.1287512100677638, 0.12971926427879962, 0.13165537270087124, 0.13165537270087124, 0.13262342691190707, 0.13262342691190707, 0.13649564375605033, 0.13746369796708616, 0.13843175217812198, 0.13843175217812198, 0.1403678606001936, 0.14133591481122942, 0.14133591481122942, 0.14230396902226525, 0.14230396902226525, 0.14327202323330107, 0.14327202323330107, 0.14617618586640851, 0.14617618586640851, 0.14617618586640851, 0.14714424007744434, 0.14714424007744434, 0.1510164569215876, 0.1510164569215876, 0.15198451113262343, 0.15198451113262343, 0.15198451113262343, 0.15392061955469508, 0.15488867376573087, 0.15682478218780252, 0.15876089060987417, 0.15876089060987417, 0.16456921587608905, 0.16456921587608905, 0.16844143272023232, 0.16844143272023232, 0.17037754114230397, 0.17037754114230397, 0.1713455953533398, 0.1713455953533398, 0.17424975798644723, 0.17424975798644723, 0.17618586640851888, 0.1771539206195547, 0.1771539206195547, 0.1781219748305905, 0.1781219748305905, 0.17909002904162633, 0.17909002904162633, 0.17909002904162633, 0.18102613746369797, 0.18102613746369797, 0.18102613746369797, 0.18489835430784124, 0.18489835430784124, 0.18586640851887706, 0.1868344627299129, 0.1868344627299129, 0.18780251694094868, 0.1887705711519845, 0.1887705711519845, 0.18973862536302033, 0.19167473378509198, 0.1936108422071636, 0.1936108422071636, 0.19457889641819942, 0.19457889641819942, 0.19554695062923524, 0.1984511132623427, 0.20232333010648595, 0.20232333010648595, 0.20619554695062922, 0.20619554695062922, 0.20813165537270087, 0.20813165537270087, 0.21297192642787996, 0.21297192642787996, 0.21297192642787996, 0.21393998063891578, 0.2149080348499516, 0.2149080348499516, 0.21684414327202323, 0.21781219748305905, 0.2197483059051307, 0.22265246853823814, 0.2245885769603098, 0.22846079380445306, 0.22846079380445306, 0.22942884801548888, 0.22942884801548888, 0.23330106485963215, 0.23330106485963215, 0.23426911907066797, 0.23426911907066797, 0.23523717328170377, 0.23523717328170377, 0.24007744433688286, 0.24104549854791868, 0.24104549854791868, 0.24588576960309777, 0.24588576960309777, 0.24782187802516942, 0.24782187802516942, 0.24975798644724104, 0.25169409486931266, 0.25459825750242016, 0.25459825750242016, 0.26040658276863504, 0.26040658276863504, 0.2623426911907067, 0.2623426911907067, 0.2633107454017425, 0.2633107454017425, 0.2671829622458858, 0.2681510164569216, 0.2681510164569216, 0.27299128751210067, 0.27299128751210067, 0.2749273959341723, 0.27783155856727976, 0.27783155856727976, 0.28267182962245885, 0.28267182962245885, 0.2836398838334947, 0.2846079380445305, 0.28654404646660214, 0.28654404646660214, 0.28751210067763794, 0.28751210067763794, 0.29138431752178123, 0.2933204259438529, 0.2942884801548887, 0.2942884801548887, 0.2952565343659245, 0.2971926427879961, 0.2971926427879961, 0.2971926427879961, 0.29816069699903197, 0.29912875121006777, 0.29912875121006777, 0.3010648596321394, 0.3010648596321394, 0.30396902226524686, 0.3059051306873185, 0.3117134559535334, 0.31268151016456924, 0.31461761858664083, 0.31461761858664083, 0.3165537270087125, 0.31752178121974833, 0.3194578896418199, 0.3194578896418199, 0.3204259438528558, 0.32236205227492737, 0.3233301064859632, 0.3233301064859632, 0.32623426911907066, 0.32623426911907066, 0.33107454017424975, 0.33107454017424975, 0.33204259438528555, 0.33204259438528555, 0.3330106485963214, 0.3330106485963214, 0.33494675701839305, 0.33494675701839305, 0.33591481122942884, 0.33591481122942884, 0.3436592449177154, 0.3436592449177154, 0.3475314617618587, 0.3475314617618587, 0.34849951597289447, 0.3504356243949661, 0.3543078412391094, 0.356243949661181, 0.356243949661181, 0.35721200387221685, 0.35818005808325265, 0.3601161665053243, 0.3601161665053243, 0.36205227492739595, 0.3659244917715392, 0.36786060019361083, 0.3736689254598258, 0.37560503388189737, 0.3910939012584705, 0.3910939012584705, 0.3998063891577928, 0.40077444336882867, 0.4046466602129719, 0.40561471442400776, 0.40561471442400776, 0.41239109390125844, 0.41239109390125844, 0.4191674733785092, 0.4191674733785092, 0.42110358180058083, 0.42110358180058083, 0.4230396902226525, 0.4259438528557599, 0.42884801548886736, 0.42884801548886736, 0.4317521781219748, 0.4317521781219748, 0.4356243949661181, 0.4356243949661181, 0.43756050338818975, 0.43756050338818975, 0.4394966118102614, 0.4453049370764763, 0.4462729912875121, 0.45014520813165537, 0.452081316553727, 0.4530493707647628, 0.4530493707647628, 0.4569215876089061, 0.4569215876089061, 0.45982575024201355, 0.45982575024201355, 0.46079380445304935, 0.46079380445304935, 0.462729912875121, 0.462729912875121, 0.46950629235237173, 0.4714424007744434, 0.47337850919651503, 0.4753146176185866, 0.47725072604065827, 0.47725072604065827, 0.48693126815101645, 0.4888673765730881, 0.49661181026137463, 0.4975798644724105, 0.4995159728944821, 0.4995159728944821, 0.5014520813165537, 0.5121006776379478, 0.5121006776379478, 0.515972894482091, 0.515972894482091, 0.5227492739593417, 0.5246853823814134, 0.537270087124879, 0.537270087124879, 0.5401742497579864, 0.5401742497579864, 0.5469506292352372, 0.5488867376573088, 0.5605033881897387, 0.5624394966118103, 0.5721200387221684, 0.5721200387221684, 0.5779283639883833, 0.5779283639883833, 0.5788964181994192, 0.5808325266214908, 0.5866408518877058, 0.5885769603097774, 0.5895450145208132, 0.5895450145208132, 0.5914811229428848, 0.5934172313649564, 0.5972894482090997, 0.5972894482090997, 0.6030977734753146, 0.6050338818973863, 0.6243949661181026, 0.6263310745401742, 0.6418199419167473, 0.6418199419167473, 0.6427879961277831, 0.6456921587608906, 0.6573088092933205, 0.6592449177153921, 0.6621490803484995, 0.6640851887705711, 0.6718296224588577, 0.6737657308809293, 0.6844143272023233, 0.686350435624395, 0.6931268151016456, 0.6940948693126815, 0.6969990319457889, 0.6969990319457889, 0.6989351403678606, 0.7008712487899322, 0.7095837366892546, 0.712487899322362, 0.7134559535333979, 0.7153920619554696, 0.7260406582768635, 0.7318489835430784, 0.7328170377541142, 0.7347531461761858, 0.7492739593417231, 0.7512100677637947, 0.7531461761858664, 0.755082284607938, 0.7637947725072604, 0.7657308809293321, 0.7666989351403679, 0.7686350435624395, 0.7763794772507261, 0.7783155856727977, 0.7812197483059051, 0.7831558567279767, 0.78702807357212, 0.7889641819941917, 0.7909002904162633, 0.8112294288480155, 0.814133591481123, 0.8180058083252663, 0.8199419167473379, 0.8228460793804453, 0.8247821878025169, 0.8286544046466602, 0.8354307841239109, 0.8363988383349468, 0.8383349467570184, 0.8470474346563408, 0.8489835430784124, 0.8576960309777347, 0.8596321393998064, 0.861568247821878, 0.8673765730880929, 0.8702807357212003, 0.8712487899322362, 0.8760890609874153, 0.8770571151984511, 0.8789932236205228, 0.882865440464666, 0.8848015488867377, 0.8906098741529526, 0.8944820909970959, 0.8973862536302033, 0.8983543078412392, 0.9022265246853823, 0.9031945788964182, 0.9051306873184899, 0.9099709583736689, 0.9119070667957405, 0.9138431752178122, 0.9196515004840271, 0.9225556631171346, 0.9312681510164569, 0.9341723136495643, 0.9351403678606002, 0.9370764762826719, 0.9380445304937076, 0.9419167473378509, 0.9515972894482091, 0.952565343659245, 0.9554695062923524, 0.9564375605033882, 0.9632139399806389, 0.9661181026137464, 0.9699903194578896, 0.9719264278799613, 0.9738625363020329, 0.9757986447241046, 0.9777347531461762, 0.9806389157792836, 0.9845111326234269, 0.9854791868344628, 0.989351403678606, 0.9922555663117134, 0.9941916747337851, 1.0], \"y\": [0.0, 0.0053475935828877, 0.0106951871657754, 0.013368983957219251, 0.01871657754010695, 0.02406417112299465, 0.026737967914438502, 0.026737967914438502, 0.029411764705882353, 0.0374331550802139, 0.05614973262032086, 0.06149732620320856, 0.07219251336898395, 0.08288770053475936, 0.08823529411764706, 0.0962566844919786, 0.0962566844919786, 0.09893048128342247, 0.10695187165775401, 0.11229946524064172, 0.11497326203208556, 0.11497326203208556, 0.12299465240641712, 0.12566844919786097, 0.13101604278074866, 0.13636363636363635, 0.14705882352941177, 0.1497326203208556, 0.1497326203208556, 0.15508021390374332, 0.16042780748663102, 0.16042780748663102, 0.1711229946524064, 0.17647058823529413, 0.18181818181818182, 0.18181818181818182, 0.18716577540106952, 0.18716577540106952, 0.18983957219251338, 0.18983957219251338, 0.18983957219251338, 0.19518716577540107, 0.19518716577540107, 0.20053475935828877, 0.20053475935828877, 0.20053475935828877, 0.20320855614973263, 0.20588235294117646, 0.21657754010695188, 0.21657754010695188, 0.22459893048128343, 0.22994652406417113, 0.232620320855615, 0.23529411764705882, 0.23529411764705882, 0.23796791443850268, 0.24331550802139038, 0.2540106951871658, 0.25668449197860965, 0.25668449197860965, 0.25935828877005346, 0.2620320855614973, 0.2647058823529412, 0.2727272727272727, 0.27540106951871657, 0.28342245989304815, 0.2914438502673797, 0.2967914438502674, 0.2967914438502674, 0.2994652406417112, 0.3048128342245989, 0.31283422459893045, 0.3181818181818182, 0.3235294117647059, 0.3235294117647059, 0.3315508021390374, 0.339572192513369, 0.3449197860962567, 0.3449197860962567, 0.3502673796791444, 0.35294117647058826, 0.35294117647058826, 0.3582887700534759, 0.3609625668449198, 0.3663101604278075, 0.3716577540106952, 0.3716577540106952, 0.37433155080213903, 0.37433155080213903, 0.3770053475935829, 0.37967914438502676, 0.37967914438502676, 0.3877005347593583, 0.3877005347593583, 0.39037433155080214, 0.39037433155080214, 0.393048128342246, 0.393048128342246, 0.393048128342246, 0.393048128342246, 0.39572192513368987, 0.39572192513368987, 0.39572192513368987, 0.3983957219251337, 0.40641711229946526, 0.4090909090909091, 0.4090909090909091, 0.4144385026737968, 0.42513368983957217, 0.42780748663101603, 0.42780748663101603, 0.42780748663101603, 0.43315508021390375, 0.4411764705882353, 0.44385026737967914, 0.44385026737967914, 0.446524064171123, 0.446524064171123, 0.45187165775401067, 0.45187165775401067, 0.45187165775401067, 0.45187165775401067, 0.45454545454545453, 0.45454545454545453, 0.4572192513368984, 0.46524064171123, 0.46524064171123, 0.4679144385026738, 0.4679144385026738, 0.47058823529411764, 0.47058823529411764, 0.47058823529411764, 0.47058823529411764, 0.4732620320855615, 0.4786096256684492, 0.4786096256684492, 0.4786096256684492, 0.4839572192513369, 0.4839572192513369, 0.48663101604278075, 0.4919786096256685, 0.4919786096256685, 0.4946524064171123, 0.5, 0.5053475935828877, 0.5080213903743316, 0.5080213903743316, 0.5106951871657754, 0.5187165775401069, 0.5187165775401069, 0.5213903743315508, 0.5213903743315508, 0.5240641711229946, 0.5347593582887701, 0.5374331550802139, 0.5374331550802139, 0.5401069518716578, 0.5401069518716578, 0.553475935828877, 0.553475935828877, 0.553475935828877, 0.5561497326203209, 0.5561497326203209, 0.5614973262032086, 0.5614973262032086, 0.5668449197860963, 0.5668449197860963, 0.5721925133689839, 0.5748663101604278, 0.5748663101604278, 0.5855614973262032, 0.5855614973262032, 0.5882352941176471, 0.5882352941176471, 0.5909090909090909, 0.5909090909090909, 0.5909090909090909, 0.5989304812834224, 0.5989304812834224, 0.6042780748663101, 0.6042780748663101, 0.606951871657754, 0.606951871657754, 0.6096256684491979, 0.6149732620320856, 0.6149732620320856, 0.6176470588235294, 0.6176470588235294, 0.6203208556149733, 0.6203208556149733, 0.6256684491978609, 0.6283422459893048, 0.6283422459893048, 0.6310160427807486, 0.6310160427807486, 0.6310160427807486, 0.6336898395721925, 0.6336898395721925, 0.6363636363636364, 0.6363636363636364, 0.6417112299465241, 0.6417112299465241, 0.6470588235294118, 0.6470588235294118, 0.6497326203208557, 0.6497326203208557, 0.6524064171122995, 0.6550802139037433, 0.6550802139037433, 0.6631016042780749, 0.6631016042780749, 0.6684491978609626, 0.6684491978609626, 0.6711229946524064, 0.6764705882352942, 0.6764705882352942, 0.6818181818181818, 0.6871657754010695, 0.6871657754010695, 0.6898395721925134, 0.6925133689839572, 0.6925133689839572, 0.6978609625668449, 0.6978609625668449, 0.7005347593582888, 0.7112299465240641, 0.7112299465240641, 0.7165775401069518, 0.7165775401069518, 0.7192513368983957, 0.7192513368983957, 0.7219251336898396, 0.7245989304812834, 0.7245989304812834, 0.7245989304812834, 0.7272727272727273, 0.7272727272727273, 0.7299465240641712, 0.7299465240641712, 0.7352941176470589, 0.7352941176470589, 0.7406417112299465, 0.7433155080213903, 0.7433155080213903, 0.7459893048128342, 0.7486631016042781, 0.7486631016042781, 0.7486631016042781, 0.7486631016042781, 0.7486631016042781, 0.7513368983957219, 0.7513368983957219, 0.7566844919786097, 0.7566844919786097, 0.7620320855614974, 0.7620320855614974, 0.7727272727272727, 0.7727272727272727, 0.7754010695187166, 0.7754010695187166, 0.7780748663101604, 0.7780748663101604, 0.7807486631016043, 0.7834224598930482, 0.7834224598930482, 0.7914438502673797, 0.7914438502673797, 0.7941176470588235, 0.7941176470588235, 0.7941176470588235, 0.7941176470588235, 0.7994652406417112, 0.7994652406417112, 0.8021390374331551, 0.8021390374331551, 0.8048128342245989, 0.8048128342245989, 0.8074866310160428, 0.8074866310160428, 0.8101604278074866, 0.8155080213903744, 0.820855614973262, 0.8235294117647058, 0.8235294117647058, 0.8235294117647058, 0.8262032085561497, 0.8262032085561497, 0.8315508021390374, 0.8342245989304813, 0.8342245989304813, 0.8342245989304813, 0.8368983957219251, 0.8368983957219251, 0.839572192513369, 0.839572192513369, 0.839572192513369, 0.839572192513369, 0.8422459893048129, 0.8422459893048129, 0.8422459893048129, 0.8449197860962567, 0.8502673796791443, 0.8502673796791443, 0.8529411764705882, 0.8556149732620321, 0.8556149732620321, 0.8582887700534759, 0.8582887700534759, 0.8582887700534759, 0.8582887700534759, 0.8636363636363636, 0.8663101604278075, 0.8689839572192514, 0.8689839572192514, 0.8689839572192514, 0.8689839572192514, 0.8716577540106952, 0.8716577540106952, 0.8716577540106952, 0.8716577540106952, 0.8743315508021391, 0.8743315508021391, 0.8796791443850267, 0.8796791443850267, 0.8823529411764706, 0.8823529411764706, 0.8850267379679144, 0.8850267379679144, 0.8903743315508021, 0.8903743315508021, 0.893048128342246, 0.893048128342246, 0.8957219251336899, 0.8957219251336899, 0.9010695187165776, 0.9010695187165776, 0.9037433155080213, 0.9037433155080213, 0.9037433155080213, 0.9037433155080213, 0.9037433155080213, 0.9064171122994652, 0.9064171122994652, 0.9090909090909091, 0.9090909090909091, 0.9117647058823529, 0.9144385026737968, 0.9144385026737968, 0.9144385026737968, 0.9144385026737968, 0.9144385026737968, 0.9144385026737968, 0.9171122994652406, 0.9171122994652406, 0.9197860962566845, 0.9197860962566845, 0.9197860962566845, 0.9224598930481284, 0.9224598930481284, 0.9278074866310161, 0.9278074866310161, 0.93048128342246, 0.93048128342246, 0.9331550802139037, 0.9331550802139037, 0.9331550802139037, 0.9331550802139037, 0.9358288770053476, 0.9358288770053476, 0.9385026737967914, 0.9385026737967914, 0.9411764705882353, 0.9411764705882353, 0.9438502673796791, 0.9438502673796791, 0.9438502673796791, 0.946524064171123, 0.946524064171123, 0.946524064171123, 0.946524064171123, 0.9491978609625669, 0.9491978609625669, 0.9518716577540107, 0.9518716577540107, 0.9545454545454546, 0.9545454545454546, 0.9572192513368984, 0.9572192513368984, 0.9598930481283422, 0.9598930481283422, 0.9598930481283422, 0.9598930481283422, 0.9598930481283422, 0.9598930481283422, 0.9625668449197861, 0.9625668449197861, 0.9625668449197861, 0.9625668449197861, 0.9652406417112299, 0.9652406417112299, 0.9679144385026738, 0.9679144385026738, 0.9679144385026738, 0.9705882352941176, 0.9705882352941176, 0.9732620320855615, 0.9732620320855615, 0.9732620320855615, 0.9732620320855615, 0.9759358288770054, 0.9759358288770054, 0.9786096256684492, 0.9786096256684492, 0.9786096256684492, 0.9786096256684492, 0.9786096256684492, 0.9786096256684492, 0.9812834224598931, 0.9812834224598931, 0.983957219251337, 0.983957219251337, 0.983957219251337, 0.983957219251337, 0.983957219251337, 0.983957219251337, 0.9866310160427807, 0.9866310160427807, 0.9866310160427807, 0.9866310160427807, 0.9893048128342246, 0.9893048128342246, 0.9893048128342246, 0.9893048128342246, 0.9893048128342246, 0.9893048128342246, 0.9919786096256684, 0.9919786096256684, 0.9919786096256684, 0.9919786096256684, 0.9919786096256684, 0.9919786096256684, 0.9919786096256684, 0.9919786096256684, 0.9919786096256684, 0.9919786096256684, 0.9919786096256684, 0.9919786096256684, 0.9946524064171123, 0.9946524064171123, 0.9973262032085561, 0.9973262032085561, 0.9973262032085561, 0.9973262032085561, 0.9973262032085561, 0.9973262032085561, 0.9973262032085561, 0.9973262032085561, 0.9973262032085561, 0.9973262032085561, 0.9973262032085561, 0.9973262032085561, 0.9973262032085561, 0.9973262032085561, 0.9973262032085561, 0.9973262032085561, 0.9973262032085561, 0.9973262032085561, 0.9973262032085561, 0.9973262032085561, 0.9973262032085561, 0.9973262032085561, 0.9973262032085561, 0.9973262032085561, 0.9973262032085561, 0.9973262032085561, 0.9973262032085561, 0.9973262032085561, 0.9973262032085561, 0.9973262032085561, 0.9973262032085561, 0.9973262032085561, 0.9973262032085561, 0.9973262032085561, 0.9973262032085561, 0.9973262032085561, 0.9973262032085561, 0.9973262032085561, 0.9973262032085561, 0.9973262032085561, 0.9973262032085561, 0.9973262032085561, 0.9973262032085561, 0.9973262032085561, 0.9973262032085561, 0.9973262032085561, 0.9973262032085561, 0.9973262032085561, 0.9973262032085561, 0.9973262032085561, 0.9973262032085561, 0.9973262032085561, 0.9973262032085561, 0.9973262032085561, 0.9973262032085561, 0.9973262032085561, 0.9973262032085561, 0.9973262032085561, 0.9973262032085561, 0.9973262032085561, 0.9973262032085561, 0.9973262032085561, 0.9973262032085561, 0.9973262032085561, 0.9973262032085561, 0.9973262032085561, 0.9973262032085561, 1.0, 1.0, 1.0, 1.0, 1.0, 1.0, 1.0, 1.0, 1.0, 1.0, 1.0, 1.0, 1.0, 1.0, 1.0, 1.0, 1.0, 1.0]}, {\"mode\": \"lines\", \"name\": \"CAT\", \"type\": \"scatter\", \"x\": [0.0, 0.0, 0.0, 0.000968054211035818, 0.000968054211035818, 0.001936108422071636, 0.001936108422071636, 0.001936108422071636, 0.002904162633107454, 0.002904162633107454, 0.00484027105517909, 0.00484027105517909, 0.005808325266214908, 0.005808325266214908, 0.006776379477250726, 0.006776379477250726, 0.007744433688286544, 0.007744433688286544, 0.008712487899322363, 0.008712487899322363, 0.00968054211035818, 0.00968054211035818, 0.010648596321393998, 0.010648596321393998, 0.011616650532429816, 0.011616650532429816, 0.013552758954501452, 0.013552758954501452, 0.015488867376573089, 0.015488867376573089, 0.016456921587608905, 0.016456921587608905, 0.018393030009680542, 0.018393030009680542, 0.01936108422071636, 0.01936108422071636, 0.02032913843175218, 0.02032913843175218, 0.021297192642787996, 0.021297192642787996, 0.022265246853823813, 0.022265246853823813, 0.023233301064859633, 0.023233301064859633, 0.02420135527589545, 0.02420135527589545, 0.026137463697967087, 0.026137463697967087, 0.028073572120038724, 0.028073572120038724, 0.030977734753146177, 0.030977734753146177, 0.03388189738625363, 0.03388189738625363, 0.03484995159728945, 0.03484995159728945, 0.03581800580832527, 0.03581800580832527, 0.036786060019361085, 0.036786060019361085, 0.0377541142303969, 0.0377541142303969, 0.03872216844143272, 0.03872216844143272, 0.03969022265246854, 0.03969022265246854, 0.04065827686350436, 0.04065827686350436, 0.04356243949661181, 0.04356243949661181, 0.044530493707647625, 0.044530493707647625, 0.04549854791868345, 0.04549854791868345, 0.046466602129719266, 0.046466602129719266, 0.04743465634075508, 0.04743465634075508, 0.0484027105517909, 0.0484027105517909, 0.049370764762826716, 0.049370764762826716, 0.05227492739593417, 0.05227492739593417, 0.05324298160696999, 0.05324298160696999, 0.05517909002904162, 0.05517909002904162, 0.05808325266214908, 0.05808325266214908, 0.0590513068731849, 0.0590513068731849, 0.060019361084220714, 0.060019361084220714, 0.06098741529525654, 0.06098741529525654, 0.061955469506292354, 0.061955469506292354, 0.06582768635043562, 0.06582768635043562, 0.06776379477250725, 0.06776379477250725, 0.0696999031945789, 0.0696999031945789, 0.07163601161665054, 0.07163601161665054, 0.0755082284607938, 0.0755082284607938, 0.07744433688286544, 0.07744433688286544, 0.07841239109390126, 0.07841239109390126, 0.07938044530493708, 0.07938044530493708, 0.0803484995159729, 0.0803484995159729, 0.08131655372700872, 0.08131655372700872, 0.08228460793804453, 0.08325266214908035, 0.08518877057115198, 0.09002904162633107, 0.09002904162633107, 0.0909970958373669, 0.0909970958373669, 0.09196515004840271, 0.09196515004840271, 0.09390125847047434, 0.09390125847047434, 0.09777347531461762, 0.09777347531461762, 0.09874152952565343, 0.09874152952565343, 0.09970958373668926, 0.09970958373668926, 0.10454985479186835, 0.10454985479186835, 0.1074540174249758, 0.1074540174249758, 0.10939012584704744, 0.10939012584704744, 0.11132623426911907, 0.11132623426911907, 0.1122942884801549, 0.1122942884801549, 0.11616650532429816, 0.11616650532429816, 0.11713455953533398, 0.11713455953533398, 0.1181026137463698, 0.1181026137463698, 0.12100677637947725, 0.12100677637947725, 0.12487899322362052, 0.12487899322362052, 0.12584704743465633, 0.12584704743465633, 0.13068731848983542, 0.13068731848983542, 0.1335914811229429, 0.1335914811229429, 0.13843175217812198, 0.13843175217812198, 0.14230396902226525, 0.14230396902226525, 0.14811229428848016, 0.14811229428848016, 0.14908034849951599, 0.14908034849951599, 0.15004840271055178, 0.15004840271055178, 0.1510164569215876, 0.1510164569215876, 0.15198451113262343, 0.15198451113262343, 0.15295256534365925, 0.15295256534365925, 0.15876089060987417, 0.15876089060987417, 0.15972894482090996, 0.15972894482090996, 0.1606969990319458, 0.1606969990319458, 0.1665053242981607, 0.1665053242981607, 0.16747337850919652, 0.16747337850919652, 0.16940948693126814, 0.16940948693126814, 0.17037754114230397, 0.17037754114230397, 0.17231364956437561, 0.17231364956437561, 0.1732817037754114, 0.1732817037754114, 0.1781219748305905, 0.1781219748305905, 0.1819941916747338, 0.1819941916747338, 0.1829622458857696, 0.1829622458857696, 0.18393030009680542, 0.18393030009680542, 0.18489835430784124, 0.18489835430784124, 0.18973862536302033, 0.18973862536302033, 0.19167473378509198, 0.19167473378509198, 0.1984511132623427, 0.1984511132623427, 0.1994191674733785, 0.1994191674733785, 0.20813165537270087, 0.20813165537270087, 0.2110358180058083, 0.2110358180058083, 0.22168441432720232, 0.22168441432720232, 0.22265246853823814, 0.22265246853823814, 0.22749273959341723, 0.22749273959341723, 0.23039690222652467, 0.23039690222652467, 0.23330106485963215, 0.23330106485963215, 0.23426911907066797, 0.23426911907066797, 0.23523717328170377, 0.23523717328170377, 0.24104549854791868, 0.24104549854791868, 0.2420135527589545, 0.2420135527589545, 0.24394966118102615, 0.24394966118102615, 0.2468538238141336, 0.2468538238141336, 0.25072604065827686, 0.25072604065827686, 0.25169409486931266, 0.25169409486931266, 0.25556631171345595, 0.25556631171345595, 0.2584704743465634, 0.2584704743465634, 0.26040658276863504, 0.26040658276863504, 0.26524685382381413, 0.26524685382381413, 0.27202323330106487, 0.27202323330106487, 0.2739593417231365, 0.2739593417231365, 0.27783155856727976, 0.27783155856727976, 0.2807357212003872, 0.2807357212003872, 0.2855759922555663, 0.2855759922555663, 0.2884801548886738, 0.2884801548886738, 0.2962245885769603, 0.2962245885769603, 0.3010648596321394, 0.3010648596321394, 0.30493707647628265, 0.30493707647628265, 0.3059051306873185, 0.3059051306873185, 0.3068731848983543, 0.3068731848983543, 0.3107454017424976, 0.3107454017424976, 0.3117134559535334, 0.3117134559535334, 0.3165537270087125, 0.3165537270087125, 0.32236205227492737, 0.32236205227492737, 0.3233301064859632, 0.3233301064859632, 0.32720232333010646, 0.32720232333010646, 0.3281703775411423, 0.3281703775411423, 0.33204259438528555, 0.33204259438528555, 0.34075508228460794, 0.34075508228460794, 0.34462729912875123, 0.34462729912875123, 0.3514036786060019, 0.3514036786060019, 0.3649564375605034, 0.3649564375605034, 0.3727008712487899, 0.3727008712487899, 0.37463697967086157, 0.37463697967086157, 0.37560503388189737, 0.37560503388189737, 0.377541142303969, 0.377541142303969, 0.37947725072604066, 0.37947725072604066, 0.3814133591481123, 0.3814133591481123, 0.38528557599225555, 0.38528557599225555, 0.3862536302032914, 0.3862536302032914, 0.3872216844143272, 0.3872216844143272, 0.39012584704743464, 0.39012584704743464, 0.3910939012584705, 0.3910939012584705, 0.3969022265246854, 0.3969022265246854, 0.4036786060019361, 0.4036786060019361, 0.40561471442400776, 0.40561471442400776, 0.42013552758954503, 0.42013552758954503, 0.42110358180058083, 0.42110358180058083, 0.4365924491771539, 0.4365924491771539, 0.43756050338818975, 0.43756050338818975, 0.43852855759922554, 0.43852855759922554, 0.4404646660212972, 0.4404646660212972, 0.4443368828654405, 0.4443368828654405, 0.4462729912875121, 0.4462729912875121, 0.4530493707647628, 0.4530493707647628, 0.45595353339787026, 0.45595353339787026, 0.4569215876089061, 0.4569215876089061, 0.46079380445304935, 0.46079380445304935, 0.46466602129719264, 0.46466602129719264, 0.46950629235237173, 0.46950629235237173, 0.4714424007744434, 0.4714424007744434, 0.4937076476282672, 0.4937076476282672, 0.4975798644724105, 0.4975798644724105, 0.5091965150048403, 0.5091965150048403, 0.5208131655372701, 0.5208131655372701, 0.5343659244917716, 0.5343659244917716, 0.5527589545014521, 0.5527589545014521, 0.5546950629235237, 0.5546950629235237, 0.569215876089061, 0.569215876089061, 0.5701839303000968, 0.5701839303000968, 0.5788964181994192, 0.5788964181994192, 0.6021297192642788, 0.6021297192642788, 0.6321393998063891, 0.6321393998063891, 0.6369796708615683, 0.6369796708615683, 0.6505324298160697, 0.6505324298160697, 0.6515004840271055, 0.6515004840271055, 0.6669893514036787, 0.6669893514036787, 0.6747337850919651, 0.6747337850919651, 0.6786060019361084, 0.6786060019361084, 0.7028073572120038, 0.7028073572120038, 0.7250726040658277, 0.7250726040658277, 0.7318489835430784, 0.7318489835430784, 0.7841239109390126, 0.7841239109390126, 0.8818973862536302, 0.8818973862536302, 0.9303000968054211, 0.9303000968054211, 0.9428848015488868, 0.9428848015488868, 1.0], \"y\": [0.0, 0.00267379679144385, 0.013368983957219251, 0.01871657754010695, 0.0213903743315508, 0.0213903743315508, 0.026737967914438502, 0.03208556149732621, 0.03208556149732621, 0.0427807486631016, 0.0427807486631016, 0.09090909090909091, 0.09090909090909091, 0.09358288770053476, 0.09358288770053476, 0.0962566844919786, 0.0962566844919786, 0.10962566844919786, 0.10962566844919786, 0.11229946524064172, 0.11229946524064172, 0.12032085561497326, 0.12032085561497326, 0.15240641711229946, 0.15240641711229946, 0.15508021390374332, 0.15508021390374332, 0.16310160427807488, 0.16310160427807488, 0.17647058823529413, 0.17647058823529413, 0.17914438502673796, 0.17914438502673796, 0.18449197860962566, 0.18449197860962566, 0.18716577540106952, 0.18716577540106952, 0.1925133689839572, 0.1925133689839572, 0.19786096256684493, 0.19786096256684493, 0.20320855614973263, 0.20320855614973263, 0.20588235294117646, 0.20588235294117646, 0.20855614973262032, 0.20855614973262032, 0.22994652406417113, 0.22994652406417113, 0.232620320855615, 0.232620320855615, 0.2540106951871658, 0.2540106951871658, 0.2647058823529412, 0.2647058823529412, 0.2807486631016043, 0.2807486631016043, 0.2887700534759358, 0.2887700534759358, 0.2967914438502674, 0.2967914438502674, 0.3048128342245989, 0.3048128342245989, 0.32085561497326204, 0.32085561497326204, 0.32887700534759357, 0.32887700534759357, 0.3315508021390374, 0.3315508021390374, 0.339572192513369, 0.339572192513369, 0.3422459893048128, 0.3422459893048128, 0.34759358288770054, 0.34759358288770054, 0.3582887700534759, 0.3582887700534759, 0.36363636363636365, 0.36363636363636365, 0.3716577540106952, 0.3716577540106952, 0.38235294117647056, 0.38235294117647056, 0.3877005347593583, 0.3877005347593583, 0.39037433155080214, 0.39037433155080214, 0.39572192513368987, 0.39572192513368987, 0.3983957219251337, 0.3983957219251337, 0.40106951871657753, 0.40106951871657753, 0.4090909090909091, 0.4090909090909091, 0.4117647058823529, 0.4117647058823529, 0.41711229946524064, 0.41711229946524064, 0.4197860962566845, 0.4197860962566845, 0.42513368983957217, 0.42513368983957217, 0.42780748663101603, 0.42780748663101603, 0.4304812834224599, 0.4304812834224599, 0.43315508021390375, 0.43315508021390375, 0.45187165775401067, 0.45187165775401067, 0.4572192513368984, 0.4572192513368984, 0.46524064171123, 0.46524064171123, 0.47058823529411764, 0.47058823529411764, 0.4732620320855615, 0.4732620320855615, 0.47593582887700536, 0.47593582887700536, 0.47593582887700536, 0.4786096256684492, 0.4786096256684492, 0.48128342245989303, 0.48128342245989303, 0.4839572192513369, 0.4839572192513369, 0.4919786096256685, 0.4919786096256685, 0.5, 0.5, 0.5026737967914439, 0.5026737967914439, 0.5053475935828877, 0.5053475935828877, 0.5106951871657754, 0.5106951871657754, 0.5133689839572193, 0.5133689839572193, 0.516042780748663, 0.516042780748663, 0.5213903743315508, 0.5213903743315508, 0.5240641711229946, 0.5240641711229946, 0.5267379679144385, 0.5267379679144385, 0.5294117647058824, 0.5294117647058824, 0.5347593582887701, 0.5347593582887701, 0.5454545454545454, 0.5454545454545454, 0.5481283422459893, 0.5481283422459893, 0.5508021390374331, 0.5508021390374331, 0.553475935828877, 0.553475935828877, 0.5588235294117647, 0.5588235294117647, 0.5668449197860963, 0.5668449197860963, 0.56951871657754, 0.56951871657754, 0.5721925133689839, 0.5721925133689839, 0.5748663101604278, 0.5748663101604278, 0.5775401069518716, 0.5775401069518716, 0.5802139037433155, 0.5802139037433155, 0.5828877005347594, 0.5828877005347594, 0.5855614973262032, 0.5855614973262032, 0.5882352941176471, 0.5882352941176471, 0.5909090909090909, 0.5909090909090909, 0.5962566844919787, 0.5962566844919787, 0.6016042780748663, 0.6016042780748663, 0.6042780748663101, 0.6042780748663101, 0.606951871657754, 0.606951871657754, 0.6176470588235294, 0.6176470588235294, 0.6203208556149733, 0.6203208556149733, 0.6256684491978609, 0.6256684491978609, 0.6283422459893048, 0.6283422459893048, 0.6336898395721925, 0.6336898395721925, 0.6363636363636364, 0.6363636363636364, 0.6417112299465241, 0.6417112299465241, 0.6443850267379679, 0.6443850267379679, 0.6497326203208557, 0.6497326203208557, 0.6524064171122995, 0.6524064171122995, 0.6577540106951871, 0.6577540106951871, 0.660427807486631, 0.660427807486631, 0.6631016042780749, 0.6631016042780749, 0.6711229946524064, 0.6711229946524064, 0.6737967914438503, 0.6737967914438503, 0.6764705882352942, 0.6764705882352942, 0.6818181818181818, 0.6818181818181818, 0.6844919786096256, 0.6844919786096256, 0.6898395721925134, 0.6898395721925134, 0.6925133689839572, 0.6925133689839572, 0.6951871657754011, 0.6951871657754011, 0.7032085561497327, 0.7032085561497327, 0.7058823529411765, 0.7058823529411765, 0.7085561497326203, 0.7085561497326203, 0.713903743315508, 0.713903743315508, 0.7219251336898396, 0.7219251336898396, 0.7245989304812834, 0.7245989304812834, 0.7299465240641712, 0.7299465240641712, 0.7406417112299465, 0.7406417112299465, 0.7486631016042781, 0.7486631016042781, 0.7513368983957219, 0.7513368983957219, 0.7540106951871658, 0.7540106951871658, 0.7566844919786097, 0.7566844919786097, 0.7593582887700535, 0.7593582887700535, 0.7647058823529411, 0.7647058823529411, 0.7727272727272727, 0.7727272727272727, 0.7754010695187166, 0.7754010695187166, 0.7780748663101604, 0.7780748663101604, 0.7807486631016043, 0.7807486631016043, 0.7834224598930482, 0.7834224598930482, 0.786096256684492, 0.786096256684492, 0.7887700534759359, 0.7887700534759359, 0.8021390374331551, 0.8021390374331551, 0.8048128342245989, 0.8048128342245989, 0.8101604278074866, 0.8101604278074866, 0.8128342245989305, 0.8128342245989305, 0.8155080213903744, 0.8155080213903744, 0.8181818181818182, 0.8181818181818182, 0.820855614973262, 0.820855614973262, 0.8235294117647058, 0.8235294117647058, 0.8262032085561497, 0.8262032085561497, 0.8288770053475936, 0.8288770053475936, 0.8315508021390374, 0.8315508021390374, 0.8342245989304813, 0.8342245989304813, 0.8368983957219251, 0.8368983957219251, 0.839572192513369, 0.839572192513369, 0.8422459893048129, 0.8422459893048129, 0.8449197860962567, 0.8449197860962567, 0.8475935828877005, 0.8475935828877005, 0.8502673796791443, 0.8502673796791443, 0.8529411764705882, 0.8529411764705882, 0.8556149732620321, 0.8556149732620321, 0.8609625668449198, 0.8609625668449198, 0.8636363636363636, 0.8636363636363636, 0.8663101604278075, 0.8663101604278075, 0.8689839572192514, 0.8689839572192514, 0.8716577540106952, 0.8716577540106952, 0.8743315508021391, 0.8743315508021391, 0.8770053475935828, 0.8770053475935828, 0.8796791443850267, 0.8796791443850267, 0.8823529411764706, 0.8823529411764706, 0.8850267379679144, 0.8850267379679144, 0.8877005347593583, 0.8877005347593583, 0.8903743315508021, 0.8903743315508021, 0.893048128342246, 0.893048128342246, 0.8983957219251337, 0.8983957219251337, 0.9010695187165776, 0.9010695187165776, 0.9037433155080213, 0.9037433155080213, 0.9064171122994652, 0.9064171122994652, 0.9090909090909091, 0.9090909090909091, 0.9144385026737968, 0.9144385026737968, 0.9171122994652406, 0.9171122994652406, 0.9197860962566845, 0.9197860962566845, 0.9251336898395722, 0.9251336898395722, 0.9278074866310161, 0.9278074866310161, 0.9385026737967914, 0.9385026737967914, 0.9411764705882353, 0.9411764705882353, 0.9438502673796791, 0.9438502673796791, 0.946524064171123, 0.946524064171123, 0.9491978609625669, 0.9491978609625669, 0.9518716577540107, 0.9518716577540107, 0.9545454545454546, 0.9545454545454546, 0.9572192513368984, 0.9572192513368984, 0.9598930481283422, 0.9598930481283422, 0.9625668449197861, 0.9625668449197861, 0.9679144385026738, 0.9679144385026738, 0.9705882352941176, 0.9705882352941176, 0.9732620320855615, 0.9732620320855615, 0.9759358288770054, 0.9759358288770054, 0.9786096256684492, 0.9786096256684492, 0.9812834224598931, 0.9812834224598931, 0.983957219251337, 0.983957219251337, 0.9866310160427807, 0.9866310160427807, 0.9893048128342246, 0.9893048128342246, 0.9919786096256684, 0.9919786096256684, 0.9946524064171123, 0.9946524064171123, 0.9973262032085561, 0.9973262032085561, 1.0, 1.0]}, {\"mode\": \"lines\", \"name\": \"SGB\", \"type\": \"scatter\", \"x\": [0.0, 0.0, 0.0, 0.000968054211035818, 0.000968054211035818, 0.000968054211035818, 0.000968054211035818, 0.000968054211035818, 0.000968054211035818, 0.001936108422071636, 0.001936108422071636, 0.001936108422071636, 0.001936108422071636, 0.003872216844143272, 0.003872216844143272, 0.00484027105517909, 0.00484027105517909, 0.005808325266214908, 0.005808325266214908, 0.006776379477250726, 0.006776379477250726, 0.008712487899322363, 0.008712487899322363, 0.00968054211035818, 0.00968054211035818, 0.011616650532429816, 0.011616650532429816, 0.012584704743465635, 0.012584704743465635, 0.01452081316553727, 0.01452081316553727, 0.015488867376573089, 0.015488867376573089, 0.016456921587608905, 0.016456921587608905, 0.018393030009680542, 0.018393030009680542, 0.01936108422071636, 0.01936108422071636, 0.02032913843175218, 0.02032913843175218, 0.021297192642787996, 0.021297192642787996, 0.022265246853823813, 0.022265246853823813, 0.023233301064859633, 0.023233301064859633, 0.02420135527589545, 0.02420135527589545, 0.02516940948693127, 0.02516940948693127, 0.027105517909002903, 0.027105517909002903, 0.028073572120038724, 0.028073572120038724, 0.030009680542110357, 0.030009680542110357, 0.030977734753146177, 0.030977734753146177, 0.031945788964181994, 0.031945788964181994, 0.03581800580832527, 0.03581800580832527, 0.036786060019361085, 0.036786060019361085, 0.03969022265246854, 0.03969022265246854, 0.04259438528557599, 0.04259438528557599, 0.04356243949661181, 0.04356243949661181, 0.044530493707647625, 0.044530493707647625, 0.046466602129719266, 0.046466602129719266, 0.04743465634075508, 0.04743465634075508, 0.0484027105517909, 0.0484027105517909, 0.05033881897386254, 0.05033881897386254, 0.05517909002904162, 0.05517909002904162, 0.05614714424007745, 0.05614714424007745, 0.0590513068731849, 0.0590513068731849, 0.06098741529525654, 0.06098741529525654, 0.061955469506292354, 0.061955469506292354, 0.06292352371732816, 0.06292352371732816, 0.06485963213939981, 0.06485963213939981, 0.06582768635043562, 0.06582768635043562, 0.06873184898354308, 0.06873184898354308, 0.0696999031945789, 0.0696999031945789, 0.07066795740561471, 0.07066795740561471, 0.07260406582768635, 0.07260406582768635, 0.07647628267182963, 0.07647628267182963, 0.07744433688286544, 0.07744433688286544, 0.07841239109390126, 0.07841239109390126, 0.0803484995159729, 0.0803484995159729, 0.08422071636011616, 0.08422071636011616, 0.08712487899322362, 0.08712487899322362, 0.08809293320425944, 0.08809293320425944, 0.09390125847047434, 0.09390125847047434, 0.09486931268151017, 0.09486931268151017, 0.09583736689254599, 0.09583736689254599, 0.09777347531461762, 0.09777347531461762, 0.09874152952565343, 0.09874152952565343, 0.09970958373668926, 0.09970958373668926, 0.10067763794772508, 0.10067763794772508, 0.10454985479186835, 0.10454985479186835, 0.10842207163601161, 0.10842207163601161, 0.11132623426911907, 0.11132623426911907, 0.1132623426911907, 0.1132623426911907, 0.11423039690222653, 0.11423039690222653, 0.11616650532429816, 0.11616650532429816, 0.11713455953533398, 0.11713455953533398, 0.1181026137463698, 0.1181026137463698, 0.12100677637947725, 0.12100677637947725, 0.12294288480154889, 0.12294288480154889, 0.12584704743465633, 0.12584704743465633, 0.13068731848983542, 0.13068731848983542, 0.13165537270087124, 0.13165537270087124, 0.1345595353339787, 0.1345595353339787, 0.1355275895450145, 0.1355275895450145, 0.13649564375605033, 0.13649564375605033, 0.14133591481122942, 0.14133591481122942, 0.14327202323330107, 0.14327202323330107, 0.1452081316553727, 0.1452081316553727, 0.14714424007744434, 0.14714424007744434, 0.15004840271055178, 0.15004840271055178, 0.15295256534365925, 0.15295256534365925, 0.15392061955469508, 0.15392061955469508, 0.15488867376573087, 0.15488867376573087, 0.15682478218780252, 0.15682478218780252, 0.15779283639883834, 0.15779283639883834, 0.1616650532429816, 0.1616650532429816, 0.16263310745401743, 0.16263310745401743, 0.16747337850919652, 0.16747337850919652, 0.16940948693126814, 0.16940948693126814, 0.1713455953533398, 0.1713455953533398, 0.17521781219748306, 0.17521781219748306, 0.17618586640851888, 0.17618586640851888, 0.1771539206195547, 0.1771539206195547, 0.18393030009680542, 0.18393030009680542, 0.18489835430784124, 0.18489835430784124, 0.18586640851887706, 0.18586640851887706, 0.1887705711519845, 0.1887705711519845, 0.18973862536302033, 0.18973862536302033, 0.19070667957405615, 0.19070667957405615, 0.19651500484027107, 0.19651500484027107, 0.1984511132623427, 0.1984511132623427, 0.20038722168441434, 0.20038722168441434, 0.20232333010648595, 0.20232333010648595, 0.2110358180058083, 0.2110358180058083, 0.21297192642787996, 0.21297192642787996, 0.2149080348499516, 0.2149080348499516, 0.2158760890609874, 0.2158760890609874, 0.21684414327202323, 0.21684414327202323, 0.2197483059051307, 0.2197483059051307, 0.2207163601161665, 0.2207163601161665, 0.2245885769603098, 0.2245885769603098, 0.23523717328170377, 0.23523717328170377, 0.2362052274927396, 0.2362052274927396, 0.2371732817037754, 0.2371732817037754, 0.23910939012584706, 0.23910939012584706, 0.24007744433688286, 0.24007744433688286, 0.24588576960309777, 0.24588576960309777, 0.25072604065827686, 0.25072604065827686, 0.2584704743465634, 0.2584704743465634, 0.26137463697967084, 0.26137463697967084, 0.26621490803484993, 0.26621490803484993, 0.27202323330106487, 0.27202323330106487, 0.2797676669893514, 0.2797676669893514, 0.2836398838334947, 0.2836398838334947, 0.29235237173281703, 0.29235237173281703, 0.2942884801548887, 0.2942884801548887, 0.2952565343659245, 0.2952565343659245, 0.2971926427879961, 0.2971926427879961, 0.29816069699903197, 0.29816069699903197, 0.29912875121006777, 0.29912875121006777, 0.30300096805421106, 0.30300096805421106, 0.30784123910939015, 0.30784123910939015, 0.3117134559535334, 0.3117134559535334, 0.31364956437560504, 0.31364956437560504, 0.3233301064859632, 0.3233301064859632, 0.32526621490803487, 0.32526621490803487, 0.32623426911907066, 0.32623426911907066, 0.33107454017424975, 0.33107454017424975, 0.34075508228460794, 0.34075508228460794, 0.34172313649564373, 0.34172313649564373, 0.34849951597289447, 0.34849951597289447, 0.3514036786060019, 0.3514036786060019, 0.3552758954501452, 0.3552758954501452, 0.36205227492739595, 0.36205227492739595, 0.36302032913843174, 0.36302032913843174, 0.3639883833494676, 0.3639883833494676, 0.3649564375605034, 0.3649564375605034, 0.3727008712487899, 0.3727008712487899, 0.37947725072604066, 0.37947725072604066, 0.38044530493707646, 0.38044530493707646, 0.3823814133591481, 0.3823814133591481, 0.3862536302032914, 0.3862536302032914, 0.38818973862536305, 0.38818973862536305, 0.40174249757986447, 0.40174249757986447, 0.4036786060019361, 0.4036786060019361, 0.4075508228460794, 0.4075508228460794, 0.41529525653436594, 0.41529525653436594, 0.4220716360116166, 0.4220716360116166, 0.4249757986447241, 0.4249757986447241, 0.42787996127783157, 0.42787996127783157, 0.430784123910939, 0.430784123910939, 0.43272023233301066, 0.43272023233301066, 0.43368828654404645, 0.43368828654404645, 0.4356243949661181, 0.4356243949661181, 0.4365924491771539, 0.4365924491771539, 0.4482090997095837, 0.4482090997095837, 0.46369796708615685, 0.46369796708615685, 0.4782187802516941, 0.4782187802516941, 0.4888673765730881, 0.4888673765730881, 0.49080348499515974, 0.49080348499515974, 0.49564375605033884, 0.49564375605033884, 0.49661181026137463, 0.49661181026137463, 0.5004840271055179, 0.5004840271055179, 0.5082284607938045, 0.5082284607938045, 0.5150048402710552, 0.5150048402710552, 0.5237173281703775, 0.5237173281703775, 0.5256534365924492, 0.5256534365924492, 0.5343659244917716, 0.5343659244917716, 0.5382381413359149, 0.5382381413359149, 0.5392061955469506, 0.5392061955469506, 0.542110358180058, 0.542110358180058, 0.5575992255566312, 0.5575992255566312, 0.558567279767667, 0.558567279767667, 0.5721200387221684, 0.5721200387221684, 0.57405614714424, 0.57405614714424, 0.6089060987415296, 0.6089060987415296, 0.6137463697967086, 0.6137463697967086, 0.6176185866408519, 0.6176185866408519, 0.6302032913843175, 0.6302032913843175, 0.6534365924491772, 0.6534365924491772, 0.6553727008712488, 0.6553727008712488, 0.6747337850919651, 0.6747337850919651, 0.68054211035818, 0.68054211035818, 0.6844143272023233, 0.6844143272023233, 0.7192642787996127, 0.7192642787996127, 0.7492739593417231, 0.7492739593417231, 0.7928363988383349, 0.7928363988383349, 0.8044530493707648, 0.8063891577928364, 0.8547918683446273, 0.8547918683446273, 0.8702807357212003, 0.872216844143272, 0.9128751210067764, 0.914811229428848, 0.9351403678606002, 0.9351403678606002, 0.9486931268151017, 0.9486931268151017, 0.9564375605033882, 0.9583736689254598, 0.9593417231364957, 0.9612778315585673, 1.0], \"y\": [0.0, 0.00267379679144385, 0.008021390374331552, 0.008021390374331552, 0.0106951871657754, 0.016042780748663103, 0.029411764705882353, 0.034759358288770054, 0.040106951871657755, 0.040106951871657755, 0.0427807486631016, 0.0481283422459893, 0.06684491978609626, 0.06684491978609626, 0.06951871657754011, 0.06951871657754011, 0.0748663101604278, 0.0748663101604278, 0.07754010695187166, 0.08021390374331551, 0.08288770053475936, 0.08288770053475936, 0.09090909090909091, 0.09090909090909091, 0.10695187165775401, 0.10695187165775401, 0.11497326203208556, 0.11497326203208556, 0.12032085561497326, 0.12032085561497326, 0.12834224598930483, 0.12834224598930483, 0.14705882352941177, 0.14705882352941177, 0.15240641711229946, 0.15240641711229946, 0.1657754010695187, 0.1657754010695187, 0.17914438502673796, 0.17914438502673796, 0.18181818181818182, 0.18181818181818182, 0.18449197860962566, 0.18449197860962566, 0.18716577540106952, 0.18716577540106952, 0.18983957219251338, 0.18983957219251338, 0.19518716577540107, 0.19518716577540107, 0.19786096256684493, 0.19786096256684493, 0.20053475935828877, 0.20053475935828877, 0.20320855614973263, 0.20320855614973263, 0.22459893048128343, 0.22459893048128343, 0.24331550802139038, 0.24331550802139038, 0.24598930481283424, 0.24598930481283424, 0.24866310160427807, 0.24866310160427807, 0.2540106951871658, 0.2540106951871658, 0.25935828877005346, 0.25935828877005346, 0.2700534759358289, 0.2700534759358289, 0.2727272727272727, 0.2727272727272727, 0.2807486631016043, 0.2807486631016043, 0.28342245989304815, 0.28342245989304815, 0.28609625668449196, 0.28609625668449196, 0.2887700534759358, 0.2887700534759358, 0.31016042780748665, 0.31016042780748665, 0.31283422459893045, 0.31283422459893045, 0.3155080213903743, 0.3155080213903743, 0.32085561497326204, 0.32085561497326204, 0.3235294117647059, 0.3235294117647059, 0.32887700534759357, 0.32887700534759357, 0.3315508021390374, 0.3315508021390374, 0.33689839572192515, 0.33689839572192515, 0.3422459893048128, 0.3422459893048128, 0.3449197860962567, 0.3449197860962567, 0.3609625668449198, 0.3609625668449198, 0.36363636363636365, 0.36363636363636365, 0.3663101604278075, 0.3663101604278075, 0.3689839572192513, 0.3689839572192513, 0.37433155080213903, 0.37433155080213903, 0.3770053475935829, 0.3770053475935829, 0.3850267379679144, 0.3850267379679144, 0.3877005347593583, 0.3877005347593583, 0.39037433155080214, 0.39037433155080214, 0.39572192513368987, 0.39572192513368987, 0.40106951871657753, 0.40106951871657753, 0.4144385026737968, 0.4144385026737968, 0.4197860962566845, 0.4197860962566845, 0.4304812834224599, 0.4304812834224599, 0.4358288770053476, 0.4358288770053476, 0.4385026737967914, 0.4385026737967914, 0.4411764705882353, 0.4411764705882353, 0.44385026737967914, 0.44385026737967914, 0.446524064171123, 0.446524064171123, 0.44919786096256686, 0.44919786096256686, 0.4625668449197861, 0.4625668449197861, 0.4679144385026738, 0.4679144385026738, 0.47058823529411764, 0.47058823529411764, 0.4732620320855615, 0.4732620320855615, 0.4786096256684492, 0.4786096256684492, 0.48128342245989303, 0.48128342245989303, 0.4839572192513369, 0.4839572192513369, 0.4893048128342246, 0.4893048128342246, 0.4919786096256685, 0.4919786096256685, 0.4946524064171123, 0.4946524064171123, 0.5080213903743316, 0.5080213903743316, 0.5106951871657754, 0.5106951871657754, 0.5133689839572193, 0.5133689839572193, 0.5240641711229946, 0.5240641711229946, 0.5267379679144385, 0.5267379679144385, 0.5320855614973262, 0.5320855614973262, 0.5347593582887701, 0.5347593582887701, 0.5401069518716578, 0.5401069518716578, 0.5427807486631016, 0.5427807486631016, 0.553475935828877, 0.553475935828877, 0.5561497326203209, 0.5561497326203209, 0.56951871657754, 0.56951871657754, 0.5721925133689839, 0.5721925133689839, 0.5748663101604278, 0.5748663101604278, 0.5802139037433155, 0.5802139037433155, 0.5828877005347594, 0.5828877005347594, 0.5855614973262032, 0.5855614973262032, 0.5909090909090909, 0.5909090909090909, 0.6042780748663101, 0.6042780748663101, 0.6149732620320856, 0.6149732620320856, 0.6176470588235294, 0.6176470588235294, 0.6203208556149733, 0.6203208556149733, 0.6229946524064172, 0.6229946524064172, 0.6256684491978609, 0.6256684491978609, 0.6310160427807486, 0.6310160427807486, 0.6336898395721925, 0.6336898395721925, 0.6363636363636364, 0.6363636363636364, 0.6470588235294118, 0.6470588235294118, 0.6497326203208557, 0.6497326203208557, 0.6550802139037433, 0.6550802139037433, 0.6577540106951871, 0.6577540106951871, 0.6631016042780749, 0.6631016042780749, 0.6657754010695187, 0.6657754010695187, 0.6737967914438503, 0.6737967914438503, 0.6764705882352942, 0.6764705882352942, 0.6871657754010695, 0.6871657754010695, 0.6898395721925134, 0.6898395721925134, 0.7005347593582888, 0.7005347593582888, 0.7032085561497327, 0.7032085561497327, 0.7058823529411765, 0.7058823529411765, 0.7112299465240641, 0.7112299465240641, 0.713903743315508, 0.713903743315508, 0.7219251336898396, 0.7219251336898396, 0.7272727272727273, 0.7272727272727273, 0.7299465240641712, 0.7299465240641712, 0.732620320855615, 0.732620320855615, 0.7352941176470589, 0.7352941176470589, 0.7379679144385026, 0.7379679144385026, 0.7433155080213903, 0.7433155080213903, 0.7513368983957219, 0.7513368983957219, 0.7540106951871658, 0.7540106951871658, 0.7566844919786097, 0.7566844919786097, 0.7593582887700535, 0.7593582887700535, 0.7620320855614974, 0.7620320855614974, 0.7647058823529411, 0.7647058823529411, 0.767379679144385, 0.767379679144385, 0.7700534759358288, 0.7700534759358288, 0.7727272727272727, 0.7727272727272727, 0.7754010695187166, 0.7754010695187166, 0.7780748663101604, 0.7780748663101604, 0.7807486631016043, 0.7807486631016043, 0.786096256684492, 0.786096256684492, 0.7887700534759359, 0.7887700534759359, 0.7941176470588235, 0.7941176470588235, 0.7967914438502673, 0.7967914438502673, 0.7994652406417112, 0.7994652406417112, 0.8021390374331551, 0.8021390374331551, 0.8074866310160428, 0.8074866310160428, 0.8101604278074866, 0.8101604278074866, 0.8128342245989305, 0.8128342245989305, 0.8181818181818182, 0.8181818181818182, 0.820855614973262, 0.820855614973262, 0.8262032085561497, 0.8262032085561497, 0.8288770053475936, 0.8288770053475936, 0.8315508021390374, 0.8315508021390374, 0.8342245989304813, 0.8342245989304813, 0.8368983957219251, 0.8368983957219251, 0.839572192513369, 0.839572192513369, 0.8422459893048129, 0.8422459893048129, 0.8449197860962567, 0.8449197860962567, 0.8475935828877005, 0.8475935828877005, 0.8556149732620321, 0.8556149732620321, 0.8582887700534759, 0.8582887700534759, 0.8609625668449198, 0.8609625668449198, 0.8636363636363636, 0.8636363636363636, 0.8663101604278075, 0.8663101604278075, 0.8689839572192514, 0.8689839572192514, 0.8716577540106952, 0.8716577540106952, 0.8743315508021391, 0.8743315508021391, 0.8770053475935828, 0.8770053475935828, 0.8823529411764706, 0.8823529411764706, 0.8850267379679144, 0.8850267379679144, 0.8877005347593583, 0.8877005347593583, 0.8903743315508021, 0.8903743315508021, 0.893048128342246, 0.893048128342246, 0.8983957219251337, 0.8983957219251337, 0.9010695187165776, 0.9010695187165776, 0.9037433155080213, 0.9037433155080213, 0.9064171122994652, 0.9064171122994652, 0.9090909090909091, 0.9090909090909091, 0.9117647058823529, 0.9117647058823529, 0.9144385026737968, 0.9144385026737968, 0.9171122994652406, 0.9171122994652406, 0.9224598930481284, 0.9224598930481284, 0.9278074866310161, 0.9278074866310161, 0.93048128342246, 0.93048128342246, 0.9358288770053476, 0.9358288770053476, 0.9385026737967914, 0.9385026737967914, 0.9411764705882353, 0.9411764705882353, 0.9491978609625669, 0.9491978609625669, 0.9518716577540107, 0.9518716577540107, 0.9545454545454546, 0.9545454545454546, 0.9572192513368984, 0.9572192513368984, 0.9598930481283422, 0.9598930481283422, 0.9625668449197861, 0.9625668449197861, 0.9652406417112299, 0.9652406417112299, 0.9705882352941176, 0.9705882352941176, 0.9732620320855615, 0.9732620320855615, 0.9759358288770054, 0.9759358288770054, 0.9786096256684492, 0.9786096256684492, 0.9812834224598931, 0.9812834224598931, 0.983957219251337, 0.983957219251337, 0.9866310160427807, 0.9866310160427807, 0.9893048128342246, 0.9893048128342246, 0.9919786096256684, 0.9919786096256684, 0.9919786096256684, 0.9919786096256684, 0.9946524064171123, 0.9946524064171123, 0.9946524064171123, 0.9946524064171123, 0.9946524064171123, 0.9946524064171123, 0.9973262032085561, 0.9973262032085561, 1.0, 1.0, 1.0, 1.0, 1.0, 1.0]}, {\"mode\": \"lines\", \"name\": \"XGB\", \"type\": \"scatter\", \"x\": [0.0, 0.0, 0.0, 0.000968054211035818, 0.000968054211035818, 0.001936108422071636, 0.001936108422071636, 0.002904162633107454, 0.002904162633107454, 0.003872216844143272, 0.003872216844143272, 0.00484027105517909, 0.00484027105517909, 0.005808325266214908, 0.005808325266214908, 0.006776379477250726, 0.006776379477250726, 0.007744433688286544, 0.007744433688286544, 0.008712487899322363, 0.008712487899322363, 0.00968054211035818, 0.00968054211035818, 0.010648596321393998, 0.011616650532429816, 0.011616650532429816, 0.012584704743465635, 0.012584704743465635, 0.013552758954501452, 0.013552758954501452, 0.01452081316553727, 0.01452081316553727, 0.015488867376573089, 0.015488867376573089, 0.016456921587608905, 0.016456921587608905, 0.017424975798644726, 0.017424975798644726, 0.01936108422071636, 0.01936108422071636, 0.028073572120038724, 0.028073572120038724, 0.02904162633107454, 0.02904162633107454, 0.030977734753146177, 0.030977734753146177, 0.031945788964181994, 0.031945788964181994, 0.03484995159728945, 0.03484995159728945, 0.03581800580832527, 0.03581800580832527, 0.036786060019361085, 0.036786060019361085, 0.0377541142303969, 0.0377541142303969, 0.03872216844143272, 0.03872216844143272, 0.03969022265246854, 0.03969022265246854, 0.04065827686350436, 0.04065827686350436, 0.04259438528557599, 0.04259438528557599, 0.04549854791868345, 0.04549854791868345, 0.05033881897386254, 0.05033881897386254, 0.05227492739593417, 0.05227492739593417, 0.05324298160696999, 0.05324298160696999, 0.057115198451113264, 0.057115198451113264, 0.0590513068731849, 0.0590513068731849, 0.060019361084220714, 0.060019361084220714, 0.061955469506292354, 0.061955469506292354, 0.06582768635043562, 0.06582768635043562, 0.06776379477250725, 0.06776379477250725, 0.0696999031945789, 0.0696999031945789, 0.07357212003872217, 0.07357212003872217, 0.07647628267182963, 0.07647628267182963, 0.07744433688286544, 0.07744433688286544, 0.07938044530493708, 0.07938044530493708, 0.0803484995159729, 0.0803484995159729, 0.08131655372700872, 0.08131655372700872, 0.08615682478218781, 0.08615682478218781, 0.0909970958373669, 0.0909970958373669, 0.09196515004840271, 0.09196515004840271, 0.09293320425943853, 0.09293320425943853, 0.09390125847047434, 0.09390125847047434, 0.09874152952565343, 0.09874152952565343, 0.10067763794772508, 0.10067763794772508, 0.10164569215876089, 0.10164569215876089, 0.10261374636979671, 0.10261374636979671, 0.10358180058083252, 0.10358180058083252, 0.10551790900290416, 0.10551790900290416, 0.1074540174249758, 0.1074540174249758, 0.10842207163601161, 0.10842207163601161, 0.10939012584704744, 0.10939012584704744, 0.11132623426911907, 0.11132623426911907, 0.1122942884801549, 0.1122942884801549, 0.1132623426911907, 0.1132623426911907, 0.11423039690222653, 0.11423039690222653, 0.11519845111326234, 0.11519845111326234, 0.11713455953533398, 0.11713455953533398, 0.11907066795740562, 0.11907066795740562, 0.12294288480154889, 0.12294288480154889, 0.12391093901258471, 0.12391093901258471, 0.12584704743465633, 0.12584704743465633, 0.13262342691190707, 0.13262342691190707, 0.1335914811229429, 0.1335914811229429, 0.1345595353339787, 0.1345595353339787, 0.13649564375605033, 0.13649564375605033, 0.13746369796708616, 0.13746369796708616, 0.1403678606001936, 0.1403678606001936, 0.14230396902226525, 0.14230396902226525, 0.1442400774443369, 0.1442400774443369, 0.1452081316553727, 0.1452081316553727, 0.14617618586640851, 0.14617618586640851, 0.14811229428848016, 0.14811229428848016, 0.15295256534365925, 0.15295256534365925, 0.15682478218780252, 0.15682478218780252, 0.15876089060987417, 0.15876089060987417, 0.15972894482090996, 0.15972894482090996, 0.1616650532429816, 0.1616650532429816, 0.16263310745401743, 0.16263310745401743, 0.16360116166505323, 0.16360116166505323, 0.16747337850919652, 0.16747337850919652, 0.16844143272023232, 0.16844143272023232, 0.16940948693126814, 0.16940948693126814, 0.17618586640851888, 0.17618586640851888, 0.18102613746369797, 0.18102613746369797, 0.18393030009680542, 0.18393030009680542, 0.18489835430784124, 0.18489835430784124, 0.19554695062923524, 0.19554695062923524, 0.19748305905130686, 0.19748305905130686, 0.1984511132623427, 0.1984511132623427, 0.20329138431752178, 0.20329138431752178, 0.20619554695062922, 0.20619554695062922, 0.21200387221684414, 0.21200387221684414, 0.21684414327202323, 0.21684414327202323, 0.21781219748305905, 0.21781219748305905, 0.21878025169409487, 0.21878025169409487, 0.22362052274927396, 0.22362052274927396, 0.2362052274927396, 0.2362052274927396, 0.2371732817037754, 0.2371732817037754, 0.23814133591481124, 0.23814133591481124, 0.23910939012584706, 0.23910939012584706, 0.24491771539206195, 0.24491771539206195, 0.24878993223620524, 0.24878993223620524, 0.25169409486931266, 0.25169409486931266, 0.2526621490803485, 0.2526621490803485, 0.2536302032913843, 0.2536302032913843, 0.25459825750242016, 0.25459825750242016, 0.2575024201355276, 0.2575024201355276, 0.25943852855759925, 0.25943852855759925, 0.26040658276863504, 0.26040658276863504, 0.26137463697967084, 0.26137463697967084, 0.26427879961277834, 0.26427879961277834, 0.27299128751210067, 0.27299128751210067, 0.2739593417231365, 0.2739593417231365, 0.2749273959341723, 0.2749273959341723, 0.27686350435624396, 0.27686350435624396, 0.27783155856727976, 0.27783155856727976, 0.2797676669893514, 0.2797676669893514, 0.28267182962245885, 0.28267182962245885, 0.2836398838334947, 0.2836398838334947, 0.2894482090997096, 0.2894482090997096, 0.29138431752178123, 0.29138431752178123, 0.2942884801548887, 0.2942884801548887, 0.2971926427879961, 0.2971926427879961, 0.29912875121006777, 0.29912875121006777, 0.30396902226524686, 0.30396902226524686, 0.30493707647628265, 0.30493707647628265, 0.3068731848983543, 0.3068731848983543, 0.3117134559535334, 0.3117134559535334, 0.31268151016456924, 0.31268151016456924, 0.31752178121974833, 0.31752178121974833, 0.31848983543078413, 0.31848983543078413, 0.32236205227492737, 0.32236205227492737, 0.3233301064859632, 0.3233301064859632, 0.33204259438528555, 0.33204259438528555, 0.3388189738625363, 0.3388189738625363, 0.35333978702807356, 0.35333978702807356, 0.35818005808325265, 0.35818005808325265, 0.36205227492739595, 0.36205227492739595, 0.36786060019361083, 0.36786060019361083, 0.3727008712487899, 0.3727008712487899, 0.3765730880929332, 0.3765730880929332, 0.3814133591481123, 0.3814133591481123, 0.38818973862536305, 0.38818973862536305, 0.398838334946757, 0.398838334946757, 0.40077444336882867, 0.40077444336882867, 0.40174249757986447, 0.40174249757986447, 0.4036786060019361, 0.4036786060019361, 0.40658276863504356, 0.40658276863504356, 0.4085188770571152, 0.4085188770571152, 0.41626331074540174, 0.41626331074540174, 0.4230396902226525, 0.4230396902226525, 0.4249757986447241, 0.4249757986447241, 0.4269119070667957, 0.4269119070667957, 0.43272023233301066, 0.43272023233301066, 0.43852855759922554, 0.43852855759922554, 0.45401742497579867, 0.45401742497579867, 0.46563407550822844, 0.46563407550822844, 0.4762826718296225, 0.4762826718296225, 0.47725072604065827, 0.47725072604065827, 0.4791868344627299, 0.4791868344627299, 0.48693126815101645, 0.48693126815101645, 0.49080348499515974, 0.49080348499515974, 0.4975798644724105, 0.4975798644724105, 0.5014520813165537, 0.5014520813165537, 0.505324298160697, 0.505324298160697, 0.5062923523717329, 0.5062923523717329, 0.510164569215876, 0.510164569215876, 0.5140367860600193, 0.5140367860600193, 0.5227492739593417, 0.5227492739593417, 0.5237173281703775, 0.5237173281703775, 0.526621490803485, 0.526621490803485, 0.5324298160696999, 0.5324298160696999, 0.5450145208131656, 0.5450145208131656, 0.5546950629235237, 0.5546950629235237, 0.5595353339787028, 0.5595353339787028, 0.5711519845111326, 0.5711519845111326, 0.5759922555663117, 0.5759922555663117, 0.5837366892545982, 0.5837366892545982, 0.5924491771539206, 0.5924491771539206, 0.5953533397870281, 0.5953533397870281, 0.6069699903194579, 0.6069699903194579, 0.616650532429816, 0.616650532429816, 0.6272991287512101, 0.6272991287512101, 0.633107454017425, 0.633107454017425, 0.6466602129719264, 0.6466602129719264, 0.6824782187802517, 0.6824782187802517, 0.7105517909002904, 0.7105517909002904, 0.8073572120038722, 0.8073572120038722, 0.8209099709583737, 0.8228460793804453, 0.8238141335914811, 0.8238141335914811, 0.861568247821878, 0.8635043562439496, 0.8789932236205228, 0.8789932236205228, 1.0], \"y\": [0.0, 0.00267379679144385, 0.013368983957219251, 0.013368983957219251, 0.016042780748663103, 0.016042780748663103, 0.01871657754010695, 0.01871657754010695, 0.02406417112299465, 0.02406417112299465, 0.026737967914438502, 0.026737967914438502, 0.029411764705882353, 0.029411764705882353, 0.0374331550802139, 0.0374331550802139, 0.045454545454545456, 0.045454545454545456, 0.06951871657754011, 0.06951871657754011, 0.11229946524064172, 0.11229946524064172, 0.11497326203208556, 0.11497326203208556, 0.11764705882352941, 0.13368983957219252, 0.13368983957219252, 0.14171122994652408, 0.14171122994652408, 0.16042780748663102, 0.16042780748663102, 0.17379679144385027, 0.17379679144385027, 0.17647058823529413, 0.17647058823529413, 0.17914438502673796, 0.17914438502673796, 0.18983957219251338, 0.18983957219251338, 0.19518716577540107, 0.19518716577540107, 0.22192513368983957, 0.22192513368983957, 0.22994652406417113, 0.22994652406417113, 0.23796791443850268, 0.23796791443850268, 0.24598930481283424, 0.24598930481283424, 0.24866310160427807, 0.24866310160427807, 0.2540106951871658, 0.2540106951871658, 0.2620320855614973, 0.2620320855614973, 0.2647058823529412, 0.2647058823529412, 0.2727272727272727, 0.2727272727272727, 0.2967914438502674, 0.2967914438502674, 0.2994652406417112, 0.2994652406417112, 0.3048128342245989, 0.3048128342245989, 0.31016042780748665, 0.31016042780748665, 0.3181818181818182, 0.3181818181818182, 0.3235294117647059, 0.3235294117647059, 0.32887700534759357, 0.32887700534759357, 0.3342245989304813, 0.3342245989304813, 0.33689839572192515, 0.33689839572192515, 0.3449197860962567, 0.3449197860962567, 0.35561497326203206, 0.35561497326203206, 0.36363636363636365, 0.36363636363636365, 0.3663101604278075, 0.3663101604278075, 0.3689839572192513, 0.3689839572192513, 0.3716577540106952, 0.3716577540106952, 0.37967914438502676, 0.37967914438502676, 0.3850267379679144, 0.3850267379679144, 0.39572192513368987, 0.39572192513368987, 0.4037433155080214, 0.4037433155080214, 0.40641711229946526, 0.40641711229946526, 0.4090909090909091, 0.4090909090909091, 0.4117647058823529, 0.4117647058823529, 0.4197860962566845, 0.4197860962566845, 0.42513368983957217, 0.42513368983957217, 0.43315508021390375, 0.43315508021390375, 0.4358288770053476, 0.4358288770053476, 0.4385026737967914, 0.4385026737967914, 0.4411764705882353, 0.4411764705882353, 0.446524064171123, 0.446524064171123, 0.45187165775401067, 0.45187165775401067, 0.45454545454545453, 0.45454545454545453, 0.4572192513368984, 0.4572192513368984, 0.4679144385026738, 0.4679144385026738, 0.47058823529411764, 0.47058823529411764, 0.4786096256684492, 0.4786096256684492, 0.48128342245989303, 0.48128342245989303, 0.4839572192513369, 0.4839572192513369, 0.48663101604278075, 0.48663101604278075, 0.49732620320855614, 0.49732620320855614, 0.5026737967914439, 0.5026737967914439, 0.5053475935828877, 0.5053475935828877, 0.5106951871657754, 0.5106951871657754, 0.5133689839572193, 0.5133689839572193, 0.5240641711229946, 0.5240641711229946, 0.5294117647058824, 0.5294117647058824, 0.5401069518716578, 0.5401069518716578, 0.5427807486631016, 0.5427807486631016, 0.5454545454545454, 0.5454545454545454, 0.553475935828877, 0.553475935828877, 0.5561497326203209, 0.5561497326203209, 0.5588235294117647, 0.5588235294117647, 0.5614973262032086, 0.5614973262032086, 0.5641711229946524, 0.5641711229946524, 0.5721925133689839, 0.5721925133689839, 0.5775401069518716, 0.5775401069518716, 0.5802139037433155, 0.5802139037433155, 0.5828877005347594, 0.5828877005347594, 0.5909090909090909, 0.5909090909090909, 0.5935828877005348, 0.5935828877005348, 0.5962566844919787, 0.5962566844919787, 0.5989304812834224, 0.5989304812834224, 0.6042780748663101, 0.6042780748663101, 0.6096256684491979, 0.6096256684491979, 0.6122994652406417, 0.6122994652406417, 0.6203208556149733, 0.6203208556149733, 0.6229946524064172, 0.6229946524064172, 0.6283422459893048, 0.6283422459893048, 0.6336898395721925, 0.6336898395721925, 0.6363636363636364, 0.6363636363636364, 0.6417112299465241, 0.6417112299465241, 0.6443850267379679, 0.6443850267379679, 0.6470588235294118, 0.6470588235294118, 0.6524064171122995, 0.6524064171122995, 0.6577540106951871, 0.6577540106951871, 0.660427807486631, 0.660427807486631, 0.6684491978609626, 0.6684491978609626, 0.6711229946524064, 0.6711229946524064, 0.6737967914438503, 0.6737967914438503, 0.679144385026738, 0.679144385026738, 0.6844919786096256, 0.6844919786096256, 0.6871657754010695, 0.6871657754010695, 0.6898395721925134, 0.6898395721925134, 0.6951871657754011, 0.6951871657754011, 0.6978609625668449, 0.6978609625668449, 0.7005347593582888, 0.7005347593582888, 0.7058823529411765, 0.7058823529411765, 0.7085561497326203, 0.7085561497326203, 0.7112299465240641, 0.7112299465240641, 0.713903743315508, 0.713903743315508, 0.7165775401069518, 0.7165775401069518, 0.7219251336898396, 0.7219251336898396, 0.7272727272727273, 0.7272727272727273, 0.7299465240641712, 0.7299465240641712, 0.732620320855615, 0.732620320855615, 0.7352941176470589, 0.7352941176470589, 0.7379679144385026, 0.7379679144385026, 0.7459893048128342, 0.7459893048128342, 0.7486631016042781, 0.7486631016042781, 0.7513368983957219, 0.7513368983957219, 0.7566844919786097, 0.7566844919786097, 0.7620320855614974, 0.7620320855614974, 0.7647058823529411, 0.7647058823529411, 0.7700534759358288, 0.7700534759358288, 0.7754010695187166, 0.7754010695187166, 0.7807486631016043, 0.7807486631016043, 0.7834224598930482, 0.7834224598930482, 0.786096256684492, 0.786096256684492, 0.7887700534759359, 0.7887700534759359, 0.7941176470588235, 0.7941176470588235, 0.7994652406417112, 0.7994652406417112, 0.8021390374331551, 0.8021390374331551, 0.8048128342245989, 0.8048128342245989, 0.8128342245989305, 0.8128342245989305, 0.8155080213903744, 0.8155080213903744, 0.8181818181818182, 0.8181818181818182, 0.820855614973262, 0.820855614973262, 0.8262032085561497, 0.8262032085561497, 0.8288770053475936, 0.8288770053475936, 0.8315508021390374, 0.8315508021390374, 0.8342245989304813, 0.8342245989304813, 0.8368983957219251, 0.8368983957219251, 0.839572192513369, 0.839572192513369, 0.8529411764705882, 0.8529411764705882, 0.8556149732620321, 0.8556149732620321, 0.8582887700534759, 0.8582887700534759, 0.8636363636363636, 0.8636363636363636, 0.8663101604278075, 0.8663101604278075, 0.8689839572192514, 0.8689839572192514, 0.8716577540106952, 0.8716577540106952, 0.8743315508021391, 0.8743315508021391, 0.8796791443850267, 0.8796791443850267, 0.8823529411764706, 0.8823529411764706, 0.8850267379679144, 0.8850267379679144, 0.8877005347593583, 0.8877005347593583, 0.8903743315508021, 0.8903743315508021, 0.893048128342246, 0.893048128342246, 0.8957219251336899, 0.8957219251336899, 0.8983957219251337, 0.8983957219251337, 0.9010695187165776, 0.9010695187165776, 0.9064171122994652, 0.9064171122994652, 0.9117647058823529, 0.9117647058823529, 0.9144385026737968, 0.9144385026737968, 0.9197860962566845, 0.9197860962566845, 0.9224598930481284, 0.9224598930481284, 0.9251336898395722, 0.9251336898395722, 0.9278074866310161, 0.9278074866310161, 0.93048128342246, 0.93048128342246, 0.9331550802139037, 0.9331550802139037, 0.9358288770053476, 0.9358288770053476, 0.9385026737967914, 0.9385026737967914, 0.9411764705882353, 0.9411764705882353, 0.9438502673796791, 0.9438502673796791, 0.946524064171123, 0.946524064171123, 0.9491978609625669, 0.9491978609625669, 0.9518716577540107, 0.9518716577540107, 0.9545454545454546, 0.9545454545454546, 0.9572192513368984, 0.9572192513368984, 0.9598930481283422, 0.9598930481283422, 0.9625668449197861, 0.9625668449197861, 0.9652406417112299, 0.9652406417112299, 0.9679144385026738, 0.9679144385026738, 0.9705882352941176, 0.9705882352941176, 0.9732620320855615, 0.9732620320855615, 0.9759358288770054, 0.9759358288770054, 0.9786096256684492, 0.9786096256684492, 0.9812834224598931, 0.9812834224598931, 0.983957219251337, 0.983957219251337, 0.9866310160427807, 0.9866310160427807, 0.9893048128342246, 0.9893048128342246, 0.9919786096256684, 0.9919786096256684, 0.9946524064171123, 0.9946524064171123, 0.9946524064171123, 0.9946524064171123, 0.9973262032085561, 0.9973262032085561, 0.9973262032085561, 0.9973262032085561, 1.0, 1.0]}],\n",
              "                        {\"height\": 500, \"template\": {\"data\": {\"bar\": [{\"error_x\": {\"color\": \"#2a3f5f\"}, \"error_y\": {\"color\": \"#2a3f5f\"}, \"marker\": {\"line\": {\"color\": \"#E5ECF6\", \"width\": 0.5}}, \"type\": \"bar\"}], \"barpolar\": [{\"marker\": {\"line\": {\"color\": \"#E5ECF6\", \"width\": 0.5}}, \"type\": \"barpolar\"}], \"carpet\": [{\"aaxis\": {\"endlinecolor\": \"#2a3f5f\", \"gridcolor\": \"white\", \"linecolor\": \"white\", \"minorgridcolor\": \"white\", \"startlinecolor\": \"#2a3f5f\"}, \"baxis\": {\"endlinecolor\": \"#2a3f5f\", \"gridcolor\": \"white\", \"linecolor\": \"white\", \"minorgridcolor\": \"white\", \"startlinecolor\": \"#2a3f5f\"}, \"type\": \"carpet\"}], \"choropleth\": [{\"colorbar\": {\"outlinewidth\": 0, \"ticks\": \"\"}, \"type\": \"choropleth\"}], \"contour\": [{\"colorbar\": {\"outlinewidth\": 0, \"ticks\": \"\"}, \"colorscale\": [[0.0, \"#0d0887\"], [0.1111111111111111, \"#46039f\"], [0.2222222222222222, \"#7201a8\"], [0.3333333333333333, \"#9c179e\"], [0.4444444444444444, \"#bd3786\"], [0.5555555555555556, \"#d8576b\"], [0.6666666666666666, \"#ed7953\"], [0.7777777777777778, \"#fb9f3a\"], [0.8888888888888888, \"#fdca26\"], [1.0, \"#f0f921\"]], \"type\": \"contour\"}], \"contourcarpet\": [{\"colorbar\": {\"outlinewidth\": 0, \"ticks\": \"\"}, \"type\": \"contourcarpet\"}], \"heatmap\": [{\"colorbar\": {\"outlinewidth\": 0, \"ticks\": \"\"}, \"colorscale\": [[0.0, \"#0d0887\"], [0.1111111111111111, \"#46039f\"], [0.2222222222222222, \"#7201a8\"], [0.3333333333333333, \"#9c179e\"], [0.4444444444444444, \"#bd3786\"], [0.5555555555555556, \"#d8576b\"], [0.6666666666666666, \"#ed7953\"], [0.7777777777777778, \"#fb9f3a\"], [0.8888888888888888, \"#fdca26\"], [1.0, \"#f0f921\"]], \"type\": \"heatmap\"}], \"heatmapgl\": [{\"colorbar\": {\"outlinewidth\": 0, \"ticks\": \"\"}, \"colorscale\": [[0.0, \"#0d0887\"], [0.1111111111111111, \"#46039f\"], [0.2222222222222222, \"#7201a8\"], [0.3333333333333333, \"#9c179e\"], [0.4444444444444444, \"#bd3786\"], [0.5555555555555556, \"#d8576b\"], [0.6666666666666666, \"#ed7953\"], [0.7777777777777778, \"#fb9f3a\"], [0.8888888888888888, \"#fdca26\"], [1.0, \"#f0f921\"]], \"type\": \"heatmapgl\"}], \"histogram\": [{\"marker\": {\"colorbar\": {\"outlinewidth\": 0, \"ticks\": \"\"}}, \"type\": \"histogram\"}], \"histogram2d\": [{\"colorbar\": {\"outlinewidth\": 0, \"ticks\": \"\"}, \"colorscale\": [[0.0, \"#0d0887\"], [0.1111111111111111, \"#46039f\"], [0.2222222222222222, \"#7201a8\"], [0.3333333333333333, \"#9c179e\"], [0.4444444444444444, \"#bd3786\"], [0.5555555555555556, \"#d8576b\"], [0.6666666666666666, \"#ed7953\"], [0.7777777777777778, \"#fb9f3a\"], [0.8888888888888888, \"#fdca26\"], [1.0, \"#f0f921\"]], \"type\": \"histogram2d\"}], \"histogram2dcontour\": [{\"colorbar\": {\"outlinewidth\": 0, \"ticks\": \"\"}, \"colorscale\": [[0.0, \"#0d0887\"], [0.1111111111111111, \"#46039f\"], [0.2222222222222222, \"#7201a8\"], [0.3333333333333333, \"#9c179e\"], [0.4444444444444444, \"#bd3786\"], [0.5555555555555556, \"#d8576b\"], [0.6666666666666666, \"#ed7953\"], [0.7777777777777778, \"#fb9f3a\"], [0.8888888888888888, \"#fdca26\"], [1.0, \"#f0f921\"]], \"type\": \"histogram2dcontour\"}], \"mesh3d\": [{\"colorbar\": {\"outlinewidth\": 0, \"ticks\": \"\"}, \"type\": \"mesh3d\"}], \"parcoords\": [{\"line\": {\"colorbar\": {\"outlinewidth\": 0, \"ticks\": \"\"}}, \"type\": \"parcoords\"}], \"pie\": [{\"automargin\": true, \"type\": \"pie\"}], \"scatter\": [{\"marker\": {\"colorbar\": {\"outlinewidth\": 0, \"ticks\": \"\"}}, \"type\": \"scatter\"}], \"scatter3d\": [{\"line\": {\"colorbar\": {\"outlinewidth\": 0, \"ticks\": \"\"}}, \"marker\": {\"colorbar\": {\"outlinewidth\": 0, \"ticks\": \"\"}}, \"type\": \"scatter3d\"}], \"scattercarpet\": [{\"marker\": {\"colorbar\": {\"outlinewidth\": 0, \"ticks\": \"\"}}, \"type\": \"scattercarpet\"}], \"scattergeo\": [{\"marker\": {\"colorbar\": {\"outlinewidth\": 0, \"ticks\": \"\"}}, \"type\": \"scattergeo\"}], \"scattergl\": [{\"marker\": {\"colorbar\": {\"outlinewidth\": 0, \"ticks\": \"\"}}, \"type\": \"scattergl\"}], \"scattermapbox\": [{\"marker\": {\"colorbar\": {\"outlinewidth\": 0, \"ticks\": \"\"}}, \"type\": \"scattermapbox\"}], \"scatterpolar\": [{\"marker\": {\"colorbar\": {\"outlinewidth\": 0, \"ticks\": \"\"}}, \"type\": \"scatterpolar\"}], \"scatterpolargl\": [{\"marker\": {\"colorbar\": {\"outlinewidth\": 0, \"ticks\": \"\"}}, \"type\": \"scatterpolargl\"}], \"scatterternary\": [{\"marker\": {\"colorbar\": {\"outlinewidth\": 0, \"ticks\": \"\"}}, \"type\": \"scatterternary\"}], \"surface\": [{\"colorbar\": {\"outlinewidth\": 0, \"ticks\": \"\"}, \"colorscale\": [[0.0, \"#0d0887\"], [0.1111111111111111, \"#46039f\"], [0.2222222222222222, \"#7201a8\"], [0.3333333333333333, \"#9c179e\"], [0.4444444444444444, \"#bd3786\"], [0.5555555555555556, \"#d8576b\"], [0.6666666666666666, \"#ed7953\"], [0.7777777777777778, \"#fb9f3a\"], [0.8888888888888888, \"#fdca26\"], [1.0, \"#f0f921\"]], \"type\": \"surface\"}], \"table\": [{\"cells\": {\"fill\": {\"color\": \"#EBF0F8\"}, \"line\": {\"color\": \"white\"}}, \"header\": {\"fill\": {\"color\": \"#C8D4E3\"}, \"line\": {\"color\": \"white\"}}, \"type\": \"table\"}]}, \"layout\": {\"annotationdefaults\": {\"arrowcolor\": \"#2a3f5f\", \"arrowhead\": 0, \"arrowwidth\": 1}, \"coloraxis\": {\"colorbar\": {\"outlinewidth\": 0, \"ticks\": \"\"}}, \"colorscale\": {\"diverging\": [[0, \"#8e0152\"], [0.1, \"#c51b7d\"], [0.2, \"#de77ae\"], [0.3, \"#f1b6da\"], [0.4, \"#fde0ef\"], [0.5, \"#f7f7f7\"], [0.6, \"#e6f5d0\"], [0.7, \"#b8e186\"], [0.8, \"#7fbc41\"], [0.9, \"#4d9221\"], [1, \"#276419\"]], \"sequential\": [[0.0, \"#0d0887\"], [0.1111111111111111, \"#46039f\"], [0.2222222222222222, \"#7201a8\"], [0.3333333333333333, \"#9c179e\"], [0.4444444444444444, \"#bd3786\"], [0.5555555555555556, \"#d8576b\"], [0.6666666666666666, \"#ed7953\"], [0.7777777777777778, \"#fb9f3a\"], [0.8888888888888888, \"#fdca26\"], [1.0, \"#f0f921\"]], \"sequentialminus\": [[0.0, \"#0d0887\"], [0.1111111111111111, \"#46039f\"], [0.2222222222222222, \"#7201a8\"], [0.3333333333333333, \"#9c179e\"], [0.4444444444444444, \"#bd3786\"], [0.5555555555555556, \"#d8576b\"], [0.6666666666666666, \"#ed7953\"], [0.7777777777777778, \"#fb9f3a\"], [0.8888888888888888, \"#fdca26\"], [1.0, \"#f0f921\"]]}, \"colorway\": [\"#636efa\", \"#EF553B\", \"#00cc96\", \"#ab63fa\", \"#FFA15A\", \"#19d3f3\", \"#FF6692\", \"#B6E880\", \"#FF97FF\", \"#FECB52\"], \"font\": {\"color\": \"#2a3f5f\"}, \"geo\": {\"bgcolor\": \"white\", \"lakecolor\": \"white\", \"landcolor\": \"#E5ECF6\", \"showlakes\": true, \"showland\": true, \"subunitcolor\": \"white\"}, \"hoverlabel\": {\"align\": \"left\"}, \"hovermode\": \"closest\", \"mapbox\": {\"style\": \"light\"}, \"paper_bgcolor\": \"white\", \"plot_bgcolor\": \"#E5ECF6\", \"polar\": {\"angularaxis\": {\"gridcolor\": \"white\", \"linecolor\": \"white\", \"ticks\": \"\"}, \"bgcolor\": \"#E5ECF6\", \"radialaxis\": {\"gridcolor\": \"white\", \"linecolor\": \"white\", \"ticks\": \"\"}}, \"scene\": {\"xaxis\": {\"backgroundcolor\": \"#E5ECF6\", \"gridcolor\": \"white\", \"gridwidth\": 2, \"linecolor\": \"white\", \"showbackground\": true, \"ticks\": \"\", \"zerolinecolor\": \"white\"}, \"yaxis\": {\"backgroundcolor\": \"#E5ECF6\", \"gridcolor\": \"white\", \"gridwidth\": 2, \"linecolor\": \"white\", \"showbackground\": true, \"ticks\": \"\", \"zerolinecolor\": \"white\"}, \"zaxis\": {\"backgroundcolor\": \"#E5ECF6\", \"gridcolor\": \"white\", \"gridwidth\": 2, \"linecolor\": \"white\", \"showbackground\": true, \"ticks\": \"\", \"zerolinecolor\": \"white\"}}, \"shapedefaults\": {\"line\": {\"color\": \"#2a3f5f\"}}, \"ternary\": {\"aaxis\": {\"gridcolor\": \"white\", \"linecolor\": \"white\", \"ticks\": \"\"}, \"baxis\": {\"gridcolor\": \"white\", \"linecolor\": \"white\", \"ticks\": \"\"}, \"bgcolor\": \"#E5ECF6\", \"caxis\": {\"gridcolor\": \"white\", \"linecolor\": \"white\", \"ticks\": \"\"}}, \"title\": {\"x\": 0.05}, \"xaxis\": {\"automargin\": true, \"gridcolor\": \"white\", \"linecolor\": \"white\", \"ticks\": \"\", \"title\": {\"standoff\": 15}, \"zerolinecolor\": \"white\", \"zerolinewidth\": 2}, \"yaxis\": {\"automargin\": true, \"gridcolor\": \"white\", \"linecolor\": \"white\", \"ticks\": \"\", \"title\": {\"standoff\": 15}, \"zerolinecolor\": \"white\", \"zerolinewidth\": 2}}}, \"title\": {\"text\": \"ROC\", \"x\": 0.5}, \"width\": 700, \"xaxis\": {\"title\": {\"text\": \"False Positive Rate (Sensitivity)\"}}, \"yaxis\": {\"title\": {\"text\": \"True Positive Rate (1 - Specificity)\"}}},\n",
              "                        {\"responsive\": true}\n",
              "                    ).then(function(){\n",
              "                            \n",
              "var gd = document.getElementById('5db36649-750a-4afe-9de7-99b7d3082394');\n",
              "var x = new MutationObserver(function (mutations, observer) {{\n",
              "        var display = window.getComputedStyle(gd).display;\n",
              "        if (!display || display === 'none') {{\n",
              "            console.log([gd, 'removed!']);\n",
              "            Plotly.purge(gd);\n",
              "            observer.disconnect();\n",
              "        }}\n",
              "}});\n",
              "\n",
              "// Listen for the removal of the full notebook cells\n",
              "var notebookContainer = gd.closest('#notebook-container');\n",
              "if (notebookContainer) {{\n",
              "    x.observe(notebookContainer, {childList: true});\n",
              "}}\n",
              "\n",
              "// Listen for the clearing of the current output cell\n",
              "var outputEl = gd.closest('.output');\n",
              "if (outputEl) {{\n",
              "    x.observe(outputEl, {childList: true});\n",
              "}}\n",
              "\n",
              "                        })\n",
              "                };\n",
              "                \n",
              "            </script>\n",
              "        </div>\n",
              "</body>\n",
              "</html>"
            ]
          },
          "metadata": {}
        }
      ]
    },
    {
      "cell_type": "markdown",
      "source": [
        "### ROC AUC Score\n",
        "\n",
        "The area under the ROC curve can be calculated and provides a single score to summarize the plot that can be used to compare models. ROC Curve score close to 1, represents better model."
      ],
      "metadata": {
        "id": "UNBKl_csm9vz"
      }
    },
    {
      "cell_type": "code",
      "source": [
        "print('--- ROC AUC ---')\n",
        "print(f\"Logistic Regression: {auc_score_lr}\" ) # Logistic Regression\n",
        "print(f\"Naive Bayes: {auc_score_gnb}\") # Gaussian Naive Bayes\n",
        "\n",
        "print(f'Neural Network: {auc_score_nn}')# Neural Network\n",
        "print(f\"K-Nearest Neighbors: {auc_score_knn} \") # K-Nearest Neighbors\n",
        "print(f\"Decision Tree: {auc_score_dt}\")  # Decision Tree\n",
        "print(f\"SVC: {auc_score_svc}\")# support vector classifier\n",
        "\n",
        "print(f\"Random Forest: {auc_score_rf}\") # Random Forest\n",
        "print(f\"ADA: {auc_score_ada}\")# ada boost\n",
        "print(f'SGB: {auc_score_sgb}')   # stochastic gradient boosting\n",
        "print(f'CAT: {auc_score_cat}')   # Catboost classifier\n",
        "print(f'XGB: {auc_score_xgb}')   # XGBoost"
      ],
      "metadata": {
        "colab": {
          "base_uri": "https://localhost:8080/"
        },
        "id": "QHlKvGUGptpt",
        "outputId": "981de9b0-6dbe-47df-9599-b3d655d9353d"
      },
      "execution_count": 97,
      "outputs": [
        {
          "output_type": "stream",
          "name": "stdout",
          "text": [
            "--- ROC AUC ---\n",
            "Logistic Regression: 0.7676152217465354\n",
            "Naive Bayes: 0.736132752845924\n",
            "Neural Network: 0.8469128388836834\n",
            "K-Nearest Neighbors: 0.7143489447173748 \n",
            "Decision Tree: 0.704758995915536\n",
            "SVC: 0.715499479735571\n",
            "Random Forest: 0.7326474988481708\n",
            "ADA: 0.7711198885961144\n",
            "SGB: 0.7145301313344136\n",
            "CAT: 0.72891376034705\n",
            "XGB: 0.7232206180016669\n"
          ]
        }
      ]
    },
    {
      "cell_type": "markdown",
      "source": [
        "### Precision Recall Curve \n",
        "\n",
        "Precision-recall curve plots the precision (y-axis) and the recall (x-axis) for different thresholds.  It summarizes the trade-off between the true positive rate and the positive predictive value for a predictive model using different probability thresholds.\n",
        "\n",
        "The calculations of Precision recall curve do not make use of the true negatives.  It focuses on the performance of the classifier on the minority class.  Hence, this metric could be used when correct prediction of the minority class (Churn - Yes) is more important.  "
      ],
      "metadata": {
        "id": "AIL7hBPA8RlU"
      }
    },
    {
      "cell_type": "code",
      "source": [
        "fig = go.Figure()\n",
        "\n",
        "fig.add_trace(go.Scatter(x=recall_lr,y=precision_lr,mode='lines',name='LR'))\n",
        "fig.add_trace(go.Scatter(x=recall_gnb,y=precision_gnb,mode='lines',name='GNB'))\n",
        "\n",
        "fig.add_trace(go.Scatter(x=recall_nn,y=precision_nn,mode='lines',name='NN'))\n",
        "fig.add_trace(go.Scatter(x=recall_knn,y=precision_knn,mode='lines',name='KNN'))\n",
        "fig.add_trace(go.Scatter(x=recall_dt,y=precision_dt,mode='lines',name='DT'))\n",
        "fig.add_trace(go.Scatter(x=recall_svc,y=precision_svc,mode='lines',name='SVC'))\n",
        "\n",
        "fig.add_trace(go.Scatter(x=recall_rf,y=precision_rf,mode='lines',name='RF'))\n",
        "fig.add_trace(go.Scatter(x=recall_ada,y=precision_ada,mode='lines',name='ADA'))\n",
        "fig.add_trace(go.Scatter(x=recall_cat,y=precision_cat,mode='lines',name='CAT'))\n",
        "fig.add_trace(go.Scatter(x=recall_sgb,y=precision_sgb,mode='lines',name='SGB'))\n",
        "fig.add_trace(go.Scatter(x=recall_xgb,y=precision_xgb,mode='lines',name='XGB'))\n",
        "fig.update_layout(title='Precision-Recall Curve',\n",
        "                   xaxis_title='Recall',\n",
        "                   yaxis_title='Precision', title_x = 0.5,\n",
        "                   width = 750, height=450,\n",
        "                 )\n",
        "fig.show()"
      ],
      "metadata": {
        "colab": {
          "base_uri": "https://localhost:8080/",
          "height": 467
        },
        "id": "jqgRn5Cuptxu",
        "outputId": "d9b9ec95-4f4d-4753-846f-8a0e2cea26a5"
      },
      "execution_count": 98,
      "outputs": [
        {
          "output_type": "display_data",
          "data": {
            "text/html": [
              "<html>\n",
              "<head><meta charset=\"utf-8\" /></head>\n",
              "<body>\n",
              "    <div>\n",
              "            <script src=\"https://cdnjs.cloudflare.com/ajax/libs/mathjax/2.7.5/MathJax.js?config=TeX-AMS-MML_SVG\"></script><script type=\"text/javascript\">if (window.MathJax) {MathJax.Hub.Config({SVG: {font: \"STIX-Web\"}});}</script>\n",
              "                <script type=\"text/javascript\">window.PlotlyConfig = {MathJaxConfig: 'local'};</script>\n",
              "        <script src=\"https://cdn.plot.ly/plotly-latest.min.js\"></script>    \n",
              "            <div id=\"0d54be37-2a51-4a12-a169-9d42c990db76\" class=\"plotly-graph-div\" style=\"height:450px; width:750px;\"></div>\n",
              "            <script type=\"text/javascript\">\n",
              "                \n",
              "                    window.PLOTLYENV=window.PLOTLYENV || {};\n",
              "                    \n",
              "                if (document.getElementById(\"0d54be37-2a51-4a12-a169-9d42c990db76\")) {\n",
              "                    Plotly.newPlot(\n",
              "                        '0d54be37-2a51-4a12-a169-9d42c990db76',\n",
              "                        [{\"mode\": \"lines\", \"name\": \"LR\", \"type\": \"scatter\", \"x\": [1.0, 0.9973262032085561, 0.9973262032085561, 0.9973262032085561, 0.9973262032085561, 0.9973262032085561, 0.9973262032085561, 0.9973262032085561, 0.9973262032085561, 0.9973262032085561, 0.9973262032085561, 0.9973262032085561, 0.9973262032085561, 0.9973262032085561, 0.9973262032085561, 0.9973262032085561, 0.9973262032085561, 0.9973262032085561, 0.9973262032085561, 0.9973262032085561, 0.9973262032085561, 0.9973262032085561, 0.9973262032085561, 0.9973262032085561, 0.9973262032085561, 0.9973262032085561, 0.9973262032085561, 0.9973262032085561, 0.9973262032085561, 0.9973262032085561, 0.9973262032085561, 0.9973262032085561, 0.9973262032085561, 0.9973262032085561, 0.9973262032085561, 0.9973262032085561, 0.9973262032085561, 0.9973262032085561, 0.9973262032085561, 0.9973262032085561, 0.9973262032085561, 0.9973262032085561, 0.9973262032085561, 0.9973262032085561, 0.9973262032085561, 0.9973262032085561, 0.9973262032085561, 0.9973262032085561, 0.9973262032085561, 0.9973262032085561, 0.9973262032085561, 0.9973262032085561, 0.9973262032085561, 0.9973262032085561, 0.9973262032085561, 0.9973262032085561, 0.9973262032085561, 0.9973262032085561, 0.9973262032085561, 0.9973262032085561, 0.9973262032085561, 0.9973262032085561, 0.9973262032085561, 0.9973262032085561, 0.9973262032085561, 0.9973262032085561, 0.9973262032085561, 0.9973262032085561, 0.9973262032085561, 0.9973262032085561, 0.9973262032085561, 0.9973262032085561, 0.9973262032085561, 0.9973262032085561, 0.9973262032085561, 0.9973262032085561, 0.9973262032085561, 0.9973262032085561, 0.9973262032085561, 0.9973262032085561, 0.9973262032085561, 0.9973262032085561, 0.9973262032085561, 0.9973262032085561, 0.9973262032085561, 0.9973262032085561, 0.9973262032085561, 0.9973262032085561, 0.9973262032085561, 0.9973262032085561, 0.9973262032085561, 0.9973262032085561, 0.9973262032085561, 0.9973262032085561, 0.9973262032085561, 0.9973262032085561, 0.9973262032085561, 0.9973262032085561, 0.9973262032085561, 0.9973262032085561, 0.9973262032085561, 0.9973262032085561, 0.9973262032085561, 0.9973262032085561, 0.9973262032085561, 0.9973262032085561, 0.9973262032085561, 0.9973262032085561, 0.9973262032085561, 0.9973262032085561, 0.9946524064171123, 0.9946524064171123, 0.9919786096256684, 0.9919786096256684, 0.9919786096256684, 0.9919786096256684, 0.9919786096256684, 0.9919786096256684, 0.9893048128342246, 0.9893048128342246, 0.9893048128342246, 0.9893048128342246, 0.9893048128342246, 0.9893048128342246, 0.9893048128342246, 0.9893048128342246, 0.9893048128342246, 0.9893048128342246, 0.9893048128342246, 0.9893048128342246, 0.9893048128342246, 0.9893048128342246, 0.9893048128342246, 0.9893048128342246, 0.9893048128342246, 0.9893048128342246, 0.9893048128342246, 0.9893048128342246, 0.9893048128342246, 0.9893048128342246, 0.9893048128342246, 0.9893048128342246, 0.9893048128342246, 0.9893048128342246, 0.9893048128342246, 0.9893048128342246, 0.9893048128342246, 0.9893048128342246, 0.9893048128342246, 0.9893048128342246, 0.9893048128342246, 0.9893048128342246, 0.9893048128342246, 0.9893048128342246, 0.9893048128342246, 0.9893048128342246, 0.9893048128342246, 0.9893048128342246, 0.9893048128342246, 0.9893048128342246, 0.9893048128342246, 0.9893048128342246, 0.9893048128342246, 0.9893048128342246, 0.9893048128342246, 0.9893048128342246, 0.9893048128342246, 0.9893048128342246, 0.9893048128342246, 0.9893048128342246, 0.9893048128342246, 0.9893048128342246, 0.9893048128342246, 0.9893048128342246, 0.9893048128342246, 0.9893048128342246, 0.9893048128342246, 0.9893048128342246, 0.9893048128342246, 0.9893048128342246, 0.9893048128342246, 0.9893048128342246, 0.9893048128342246, 0.9893048128342246, 0.9893048128342246, 0.9893048128342246, 0.9893048128342246, 0.9893048128342246, 0.9893048128342246, 0.9893048128342246, 0.9893048128342246, 0.9893048128342246, 0.9893048128342246, 0.9893048128342246, 0.9893048128342246, 0.9893048128342246, 0.9893048128342246, 0.9893048128342246, 0.9893048128342246, 0.9893048128342246, 0.9893048128342246, 0.9893048128342246, 0.9893048128342246, 0.9893048128342246, 0.9893048128342246, 0.9893048128342246, 0.9893048128342246, 0.9893048128342246, 0.9893048128342246, 0.9893048128342246, 0.9866310160427807, 0.9866310160427807, 0.983957219251337, 0.983957219251337, 0.983957219251337, 0.983957219251337, 0.983957219251337, 0.983957219251337, 0.983957219251337, 0.983957219251337, 0.983957219251337, 0.983957219251337, 0.983957219251337, 0.983957219251337, 0.983957219251337, 0.983957219251337, 0.983957219251337, 0.9812834224598931, 0.9812834224598931, 0.9812834224598931, 0.9786096256684492, 0.9786096256684492, 0.9786096256684492, 0.9786096256684492, 0.9786096256684492, 0.9786096256684492, 0.9786096256684492, 0.9786096256684492, 0.9786096256684492, 0.9786096256684492, 0.9786096256684492, 0.9786096256684492, 0.9786096256684492, 0.9786096256684492, 0.9786096256684492, 0.9786096256684492, 0.9786096256684492, 0.9786096256684492, 0.9786096256684492, 0.9786096256684492, 0.9786096256684492, 0.9786096256684492, 0.9786096256684492, 0.9786096256684492, 0.9759358288770054, 0.9759358288770054, 0.9759358288770054, 0.9759358288770054, 0.9759358288770054, 0.9759358288770054, 0.9732620320855615, 0.9732620320855615, 0.9732620320855615, 0.9732620320855615, 0.9732620320855615, 0.9732620320855615, 0.9732620320855615, 0.9732620320855615, 0.9732620320855615, 0.9732620320855615, 0.9732620320855615, 0.9732620320855615, 0.9732620320855615, 0.9732620320855615, 0.9732620320855615, 0.9732620320855615, 0.9732620320855615, 0.9732620320855615, 0.9732620320855615, 0.9732620320855615, 0.9732620320855615, 0.9732620320855615, 0.9732620320855615, 0.9732620320855615, 0.9732620320855615, 0.9732620320855615, 0.9732620320855615, 0.9732620320855615, 0.9705882352941176, 0.9705882352941176, 0.9705882352941176, 0.9705882352941176, 0.9705882352941176, 0.9705882352941176, 0.9705882352941176, 0.9705882352941176, 0.9705882352941176, 0.9705882352941176, 0.9705882352941176, 0.9705882352941176, 0.9705882352941176, 0.9705882352941176, 0.9705882352941176, 0.9705882352941176, 0.9705882352941176, 0.9705882352941176, 0.9705882352941176, 0.9705882352941176, 0.9705882352941176, 0.9705882352941176, 0.9679144385026738, 0.9679144385026738, 0.9679144385026738, 0.9679144385026738, 0.9679144385026738, 0.9679144385026738, 0.9679144385026738, 0.9679144385026738, 0.9679144385026738, 0.9679144385026738, 0.9679144385026738, 0.9679144385026738, 0.9679144385026738, 0.9679144385026738, 0.9679144385026738, 0.9679144385026738, 0.9679144385026738, 0.9679144385026738, 0.9679144385026738, 0.9679144385026738, 0.9679144385026738, 0.9679144385026738, 0.9679144385026738, 0.9679144385026738, 0.9679144385026738, 0.9679144385026738, 0.9679144385026738, 0.9679144385026738, 0.9679144385026738, 0.9679144385026738, 0.9679144385026738, 0.9679144385026738, 0.9679144385026738, 0.9679144385026738, 0.9679144385026738, 0.9679144385026738, 0.9679144385026738, 0.9652406417112299, 0.9652406417112299, 0.9652406417112299, 0.9652406417112299, 0.9652406417112299, 0.9652406417112299, 0.9652406417112299, 0.9652406417112299, 0.9652406417112299, 0.9652406417112299, 0.9625668449197861, 0.9625668449197861, 0.9625668449197861, 0.9625668449197861, 0.9625668449197861, 0.9625668449197861, 0.9625668449197861, 0.9625668449197861, 0.9625668449197861, 0.9625668449197861, 0.9625668449197861, 0.9625668449197861, 0.9625668449197861, 0.9625668449197861, 0.9625668449197861, 0.9625668449197861, 0.9625668449197861, 0.9625668449197861, 0.9625668449197861, 0.9625668449197861, 0.9625668449197861, 0.9625668449197861, 0.9598930481283422, 0.9572192513368984, 0.9572192513368984, 0.9572192513368984, 0.9572192513368984, 0.9572192513368984, 0.9572192513368984, 0.9572192513368984, 0.9572192513368984, 0.9572192513368984, 0.9545454545454546, 0.9545454545454546, 0.9545454545454546, 0.9545454545454546, 0.9545454545454546, 0.9545454545454546, 0.9518716577540107, 0.9518716577540107, 0.9518716577540107, 0.9518716577540107, 0.9518716577540107, 0.9491978609625669, 0.9491978609625669, 0.9491978609625669, 0.9491978609625669, 0.9491978609625669, 0.9491978609625669, 0.9491978609625669, 0.946524064171123, 0.946524064171123, 0.946524064171123, 0.946524064171123, 0.946524064171123, 0.946524064171123, 0.946524064171123, 0.9438502673796791, 0.9438502673796791, 0.9438502673796791, 0.9438502673796791, 0.9438502673796791, 0.9438502673796791, 0.9438502673796791, 0.9411764705882353, 0.9411764705882353, 0.9411764705882353, 0.9411764705882353, 0.9411764705882353, 0.9411764705882353, 0.9411764705882353, 0.9411764705882353, 0.9411764705882353, 0.9411764705882353, 0.9385026737967914, 0.9385026737967914, 0.9385026737967914, 0.9358288770053476, 0.9358288770053476, 0.9358288770053476, 0.9358288770053476, 0.9358288770053476, 0.9358288770053476, 0.9358288770053476, 0.9358288770053476, 0.9358288770053476, 0.9358288770053476, 0.9358288770053476, 0.9358288770053476, 0.9358288770053476, 0.9358288770053476, 0.9358288770053476, 0.9358288770053476, 0.9358288770053476, 0.9358288770053476, 0.9358288770053476, 0.9358288770053476, 0.9358288770053476, 0.9358288770053476, 0.9358288770053476, 0.9358288770053476, 0.9358288770053476, 0.9358288770053476, 0.9358288770053476, 0.9358288770053476, 0.9358288770053476, 0.9358288770053476, 0.9358288770053476, 0.9358288770053476, 0.9358288770053476, 0.9358288770053476, 0.9358288770053476, 0.9358288770053476, 0.9331550802139037, 0.9331550802139037, 0.9331550802139037, 0.9331550802139037, 0.9331550802139037, 0.9331550802139037, 0.9331550802139037, 0.9331550802139037, 0.9331550802139037, 0.9331550802139037, 0.9331550802139037, 0.93048128342246, 0.93048128342246, 0.93048128342246, 0.93048128342246, 0.93048128342246, 0.93048128342246, 0.93048128342246, 0.93048128342246, 0.93048128342246, 0.9278074866310161, 0.9278074866310161, 0.9278074866310161, 0.9251336898395722, 0.9251336898395722, 0.9251336898395722, 0.9251336898395722, 0.9251336898395722, 0.9251336898395722, 0.9251336898395722, 0.9251336898395722, 0.9251336898395722, 0.9251336898395722, 0.9224598930481284, 0.9224598930481284, 0.9197860962566845, 0.9171122994652406, 0.9171122994652406, 0.9144385026737968, 0.9117647058823529, 0.9117647058823529, 0.9090909090909091, 0.9090909090909091, 0.9090909090909091, 0.9064171122994652, 0.9064171122994652, 0.9064171122994652, 0.9037433155080213, 0.9010695187165776, 0.9010695187165776, 0.9010695187165776, 0.9010695187165776, 0.8983957219251337, 0.8983957219251337, 0.8957219251336899, 0.8957219251336899, 0.8957219251336899, 0.8957219251336899, 0.893048128342246, 0.893048128342246, 0.893048128342246, 0.893048128342246, 0.893048128342246, 0.893048128342246, 0.893048128342246, 0.893048128342246, 0.893048128342246, 0.893048128342246, 0.893048128342246, 0.8903743315508021, 0.8903743315508021, 0.8903743315508021, 0.8903743315508021, 0.8903743315508021, 0.8903743315508021, 0.8903743315508021, 0.8903743315508021, 0.8903743315508021, 0.8903743315508021, 0.8903743315508021, 0.8903743315508021, 0.8903743315508021, 0.8903743315508021, 0.8903743315508021, 0.8903743315508021, 0.8903743315508021, 0.8903743315508021, 0.8877005347593583, 0.8850267379679144, 0.8850267379679144, 0.8850267379679144, 0.8823529411764706, 0.8823529411764706, 0.8823529411764706, 0.8823529411764706, 0.8823529411764706, 0.8823529411764706, 0.8823529411764706, 0.8823529411764706, 0.8823529411764706, 0.8796791443850267, 0.8796791443850267, 0.8770053475935828, 0.8743315508021391, 0.8743315508021391, 0.8743315508021391, 0.8716577540106952, 0.8716577540106952, 0.8716577540106952, 0.8716577540106952, 0.8716577540106952, 0.8716577540106952, 0.8689839572192514, 0.8689839572192514, 0.8663101604278075, 0.8663101604278075, 0.8663101604278075, 0.8663101604278075, 0.8663101604278075, 0.8663101604278075, 0.8636363636363636, 0.8636363636363636, 0.8636363636363636, 0.8636363636363636, 0.8609625668449198, 0.8609625668449198, 0.8609625668449198, 0.8609625668449198, 0.8609625668449198, 0.8609625668449198, 0.8609625668449198, 0.8582887700534759, 0.8556149732620321, 0.8529411764705882, 0.8529411764705882, 0.8529411764705882, 0.8529411764705882, 0.8502673796791443, 0.8502673796791443, 0.8502673796791443, 0.8475935828877005, 0.8475935828877005, 0.8475935828877005, 0.8475935828877005, 0.8475935828877005, 0.8475935828877005, 0.8475935828877005, 0.8475935828877005, 0.8475935828877005, 0.8449197860962567, 0.8449197860962567, 0.8422459893048129, 0.8422459893048129, 0.839572192513369, 0.839572192513369, 0.839572192513369, 0.839572192513369, 0.839572192513369, 0.839572192513369, 0.839572192513369, 0.839572192513369, 0.8368983957219251, 0.8368983957219251, 0.8342245989304813, 0.8342245989304813, 0.8315508021390374, 0.8315508021390374, 0.8315508021390374, 0.8315508021390374, 0.8315508021390374, 0.8315508021390374, 0.8315508021390374, 0.8288770053475936, 0.8288770053475936, 0.8288770053475936, 0.8288770053475936, 0.8262032085561497, 0.8235294117647058, 0.8235294117647058, 0.8235294117647058, 0.820855614973262, 0.820855614973262, 0.820855614973262, 0.820855614973262, 0.820855614973262, 0.8181818181818182, 0.8181818181818182, 0.8181818181818182, 0.8181818181818182, 0.8155080213903744, 0.8155080213903744, 0.8128342245989305, 0.8128342245989305, 0.8128342245989305, 0.8128342245989305, 0.8128342245989305, 0.8128342245989305, 0.8128342245989305, 0.8128342245989305, 0.8128342245989305, 0.8128342245989305, 0.8128342245989305, 0.8128342245989305, 0.8128342245989305, 0.8128342245989305, 0.8128342245989305, 0.8101604278074866, 0.8101604278074866, 0.8101604278074866, 0.8101604278074866, 0.8101604278074866, 0.8074866310160428, 0.8048128342245989, 0.8021390374331551, 0.7994652406417112, 0.7994652406417112, 0.7994652406417112, 0.7967914438502673, 0.7967914438502673, 0.7941176470588235, 0.7941176470588235, 0.7941176470588235, 0.7941176470588235, 0.7914438502673797, 0.7914438502673797, 0.7887700534759359, 0.7887700534759359, 0.7887700534759359, 0.7887700534759359, 0.7887700534759359, 0.7887700534759359, 0.786096256684492, 0.786096256684492, 0.786096256684492, 0.7834224598930482, 0.7834224598930482, 0.7834224598930482, 0.7834224598930482, 0.7834224598930482, 0.7807486631016043, 0.7780748663101604, 0.7780748663101604, 0.7780748663101604, 0.7754010695187166, 0.7754010695187166, 0.7754010695187166, 0.7754010695187166, 0.7754010695187166, 0.7727272727272727, 0.7700534759358288, 0.7700534759358288, 0.767379679144385, 0.767379679144385, 0.767379679144385, 0.767379679144385, 0.7647058823529411, 0.7620320855614974, 0.7620320855614974, 0.7593582887700535, 0.7593582887700535, 0.7593582887700535, 0.7593582887700535, 0.7566844919786097, 0.7540106951871658, 0.7540106951871658, 0.7540106951871658, 0.7540106951871658, 0.7540106951871658, 0.7513368983957219, 0.7486631016042781, 0.7486631016042781, 0.7459893048128342, 0.7459893048128342, 0.7433155080213903, 0.7433155080213903, 0.7433155080213903, 0.7433155080213903, 0.7433155080213903, 0.7406417112299465, 0.7379679144385026, 0.7379679144385026, 0.7379679144385026, 0.7379679144385026, 0.7352941176470589, 0.732620320855615, 0.732620320855615, 0.7299465240641712, 0.7272727272727273, 0.7245989304812834, 0.7245989304812834, 0.7245989304812834, 0.7219251336898396, 0.7192513368983957, 0.7192513368983957, 0.7192513368983957, 0.7192513368983957, 0.7165775401069518, 0.7165775401069518, 0.713903743315508, 0.713903743315508, 0.713903743315508, 0.7112299465240641, 0.7112299465240641, 0.7112299465240641, 0.7112299465240641, 0.7085561497326203, 0.7085561497326203, 0.7058823529411765, 0.7058823529411765, 0.7058823529411765, 0.7058823529411765, 0.7058823529411765, 0.7032085561497327, 0.7032085561497327, 0.7005347593582888, 0.7005347593582888, 0.6978609625668449, 0.6978609625668449, 0.6951871657754011, 0.6951871657754011, 0.6951871657754011, 0.6951871657754011, 0.6951871657754011, 0.6951871657754011, 0.6951871657754011, 0.6925133689839572, 0.6925133689839572, 0.6925133689839572, 0.6898395721925134, 0.6871657754010695, 0.6871657754010695, 0.6871657754010695, 0.6844919786096256, 0.6844919786096256, 0.6844919786096256, 0.6818181818181818, 0.6818181818181818, 0.679144385026738, 0.679144385026738, 0.679144385026738, 0.6764705882352942, 0.6764705882352942, 0.6764705882352942, 0.6737967914438503, 0.6737967914438503, 0.6711229946524064, 0.6684491978609626, 0.6684491978609626, 0.6684491978609626, 0.6684491978609626, 0.6684491978609626, 0.6657754010695187, 0.6631016042780749, 0.660427807486631, 0.6577540106951871, 0.6550802139037433, 0.6524064171122995, 0.6524064171122995, 0.6524064171122995, 0.6497326203208557, 0.6470588235294118, 0.6470588235294118, 0.6470588235294118, 0.6470588235294118, 0.6443850267379679, 0.6443850267379679, 0.6417112299465241, 0.6390374331550802, 0.6390374331550802, 0.6390374331550802, 0.6390374331550802, 0.6390374331550802, 0.6390374331550802, 0.6390374331550802, 0.6390374331550802, 0.6363636363636364, 0.6336898395721925, 0.6310160427807486, 0.6310160427807486, 0.6310160427807486, 0.6310160427807486, 0.6283422459893048, 0.6283422459893048, 0.6283422459893048, 0.6283422459893048, 0.6256684491978609, 0.6229946524064172, 0.6229946524064172, 0.6203208556149733, 0.6176470588235294, 0.6149732620320856, 0.6149732620320856, 0.6149732620320856, 0.6122994652406417, 0.6122994652406417, 0.6096256684491979, 0.606951871657754, 0.6042780748663101, 0.6016042780748663, 0.5989304812834224, 0.5962566844919787, 0.5962566844919787, 0.5962566844919787, 0.5935828877005348, 0.5935828877005348, 0.5935828877005348, 0.5909090909090909, 0.5909090909090909, 0.5882352941176471, 0.5855614973262032, 0.5855614973262032, 0.5828877005347594, 0.5828877005347594, 0.5828877005347594, 0.5828877005347594, 0.5802139037433155, 0.5775401069518716, 0.5748663101604278, 0.5748663101604278, 0.5748663101604278, 0.5748663101604278, 0.5721925133689839, 0.5721925133689839, 0.56951871657754, 0.56951871657754, 0.56951871657754, 0.5668449197860963, 0.5668449197860963, 0.5641711229946524, 0.5614973262032086, 0.5588235294117647, 0.5561497326203209, 0.5561497326203209, 0.553475935828877, 0.553475935828877, 0.5508021390374331, 0.5508021390374331, 0.5481283422459893, 0.5481283422459893, 0.5481283422459893, 0.5454545454545454, 0.5454545454545454, 0.5454545454545454, 0.5454545454545454, 0.5427807486631016, 0.5401069518716578, 0.5401069518716578, 0.5401069518716578, 0.5374331550802139, 0.5374331550802139, 0.5347593582887701, 0.5347593582887701, 0.5347593582887701, 0.5320855614973262, 0.5294117647058824, 0.5267379679144385, 0.5267379679144385, 0.5267379679144385, 0.5240641711229946, 0.5213903743315508, 0.5187165775401069, 0.516042780748663, 0.516042780748663, 0.5133689839572193, 0.5133689839572193, 0.5106951871657754, 0.5106951871657754, 0.5080213903743316, 0.5053475935828877, 0.5026737967914439, 0.5, 0.49732620320855614, 0.4946524064171123, 0.4919786096256685, 0.4919786096256685, 0.4893048128342246, 0.4893048128342246, 0.48663101604278075, 0.48663101604278075, 0.48663101604278075, 0.48663101604278075, 0.48663101604278075, 0.4839572192513369, 0.4839572192513369, 0.4839572192513369, 0.48128342245989303, 0.48128342245989303, 0.48128342245989303, 0.48128342245989303, 0.48128342245989303, 0.48128342245989303, 0.48128342245989303, 0.4786096256684492, 0.47593582887700536, 0.4732620320855615, 0.47058823529411764, 0.4679144385026738, 0.4679144385026738, 0.46524064171123, 0.4625668449197861, 0.45989304812834225, 0.4572192513368984, 0.4572192513368984, 0.4572192513368984, 0.4572192513368984, 0.4572192513368984, 0.4572192513368984, 0.4572192513368984, 0.45454545454545453, 0.45454545454545453, 0.45187165775401067, 0.44919786096256686, 0.446524064171123, 0.446524064171123, 0.44385026737967914, 0.44385026737967914, 0.4411764705882353, 0.4385026737967914, 0.4385026737967914, 0.4385026737967914, 0.4385026737967914, 0.4358288770053476, 0.43315508021390375, 0.4304812834224599, 0.4304812834224599, 0.4304812834224599, 0.4304812834224599, 0.4304812834224599, 0.42780748663101603, 0.42780748663101603, 0.42780748663101603, 0.42513368983957217, 0.42245989304812837, 0.4197860962566845, 0.41711229946524064, 0.4144385026737968, 0.4117647058823529, 0.4090909090909091, 0.4090909090909091, 0.40641711229946526, 0.4037433155080214, 0.4037433155080214, 0.4037433155080214, 0.4037433155080214, 0.40106951871657753, 0.3983957219251337, 0.39572192513368987, 0.393048128342246, 0.393048128342246, 0.39037433155080214, 0.3877005347593583, 0.3850267379679144, 0.38235294117647056, 0.38235294117647056, 0.37967914438502676, 0.37967914438502676, 0.37967914438502676, 0.3770053475935829, 0.37433155080213903, 0.3716577540106952, 0.3716577540106952, 0.3689839572192513, 0.3663101604278075, 0.36363636363636365, 0.36363636363636365, 0.36363636363636365, 0.36363636363636365, 0.36363636363636365, 0.36363636363636365, 0.3609625668449198, 0.3582887700534759, 0.3582887700534759, 0.35561497326203206, 0.35294117647058826, 0.35294117647058826, 0.35294117647058826, 0.3502673796791444, 0.3502673796791444, 0.3502673796791444, 0.3502673796791444, 0.3502673796791444, 0.34759358288770054, 0.3449197860962567, 0.3422459893048128, 0.339572192513369, 0.339572192513369, 0.33689839572192515, 0.33689839572192515, 0.33689839572192515, 0.3342245989304813, 0.3342245989304813, 0.3342245989304813, 0.3315508021390374, 0.32887700534759357, 0.32620320855614976, 0.32620320855614976, 0.3235294117647059, 0.32085561497326204, 0.32085561497326204, 0.32085561497326204, 0.3181818181818182, 0.3155080213903743, 0.31283422459893045, 0.31283422459893045, 0.31016042780748665, 0.31016042780748665, 0.3074866310160428, 0.3048128342245989, 0.30213903743315507, 0.2994652406417112, 0.2967914438502674, 0.2967914438502674, 0.29411764705882354, 0.2914438502673797, 0.2887700534759358, 0.28609625668449196, 0.28609625668449196, 0.28609625668449196, 0.28342245989304815, 0.2807486631016043, 0.27807486631016043, 0.27540106951871657, 0.2727272727272727, 0.2700534759358289, 0.26737967914438504, 0.26737967914438504, 0.2647058823529412, 0.2620320855614973, 0.25935828877005346, 0.25668449197860965, 0.2540106951871658, 0.25133689839572193, 0.24866310160427807, 0.24598930481283424, 0.24331550802139038, 0.24331550802139038, 0.24331550802139038, 0.24331550802139038, 0.24064171122994651, 0.23796791443850268, 0.23529411764705882, 0.232620320855615, 0.22994652406417113, 0.22994652406417113, 0.22727272727272727, 0.22727272727272727, 0.22459893048128343, 0.22459893048128343, 0.22459893048128343, 0.22192513368983957, 0.22192513368983957, 0.2192513368983957, 0.21657754010695188, 0.21390374331550802, 0.21390374331550802, 0.21390374331550802, 0.21390374331550802, 0.21390374331550802, 0.21390374331550802, 0.21122994652406418, 0.20855614973262032, 0.20588235294117646, 0.20588235294117646, 0.20320855614973263, 0.20320855614973263, 0.20320855614973263, 0.20053475935828877, 0.19786096256684493, 0.19786096256684493, 0.19518716577540107, 0.1925133689839572, 0.1925133689839572, 0.1925133689839572, 0.1925133689839572, 0.1925133689839572, 0.18983957219251338, 0.18716577540106952, 0.18449197860962566, 0.18449197860962566, 0.18449197860962566, 0.18181818181818182, 0.17914438502673796, 0.17647058823529413, 0.17379679144385027, 0.17379679144385027, 0.1711229946524064, 0.16844919786096257, 0.16844919786096257, 0.1657754010695187, 0.1657754010695187, 0.1657754010695187, 0.16310160427807488, 0.16042780748663102, 0.16042780748663102, 0.16042780748663102, 0.15775401069518716, 0.15508021390374332, 0.15508021390374332, 0.15240641711229946, 0.1497326203208556, 0.14705882352941177, 0.1443850267379679, 0.14171122994652408, 0.13903743315508021, 0.13636363636363635, 0.13368983957219252, 0.13101604278074866, 0.12834224598930483, 0.12566844919786097, 0.12299465240641712, 0.12032085561497326, 0.11764705882352941, 0.11497326203208556, 0.11229946524064172, 0.10962566844919786, 0.10962566844919786, 0.10962566844919786, 0.10695187165775401, 0.10427807486631016, 0.10160427807486631, 0.09893048128342247, 0.09893048128342247, 0.0962566844919786, 0.09358288770053476, 0.09090909090909091, 0.08823529411764706, 0.0855614973262032, 0.0855614973262032, 0.08288770053475936, 0.08021390374331551, 0.08021390374331551, 0.08021390374331551, 0.08021390374331551, 0.07754010695187166, 0.0748663101604278, 0.0748663101604278, 0.07219251336898395, 0.06951871657754011, 0.06951871657754011, 0.06684491978609626, 0.06417112299465241, 0.06149732620320856, 0.06149732620320856, 0.06149732620320856, 0.058823529411764705, 0.058823529411764705, 0.058823529411764705, 0.05614973262032086, 0.053475935828877004, 0.053475935828877004, 0.05080213903743316, 0.0481283422459893, 0.045454545454545456, 0.0427807486631016, 0.040106951871657755, 0.040106951871657755, 0.0374331550802139, 0.034759358288770054, 0.034759358288770054, 0.03208556149732621, 0.029411764705882353, 0.026737967914438502, 0.02406417112299465, 0.02406417112299465, 0.0213903743315508, 0.01871657754010695, 0.016042780748663103, 0.013368983957219251, 0.0106951871657754, 0.008021390374331552, 0.0053475935828877, 0.0053475935828877, 0.00267379679144385, 0.0, 0.0], \"y\": [0.30064308681672025, 0.3000804505229284, 0.3003220611916264, 0.3005640612409347, 0.3008064516129032, 0.30104923325262306, 0.30129240710823907, 0.301535974130962, 0.3017799352750809, 0.3020242914979757, 0.30226904376012964, 0.30251419302514193, 0.3027597402597403, 0.30300568643379366, 0.3032520325203252, 0.30349877949552484, 0.30374592833876224, 0.30399348003259985, 0.30424143556280586, 0.30448979591836733, 0.3047385620915033, 0.30498773507767785, 0.30523731587561376, 0.30548730548730546, 0.30573770491803276, 0.3059885151763741, 0.30623973727422005, 0.3064913722267872, 0.3067434210526316, 0.3069958847736626, 0.30724876441515653, 0.3075020610057708, 0.30775577557755773, 0.30800990916597853, 0.3082644628099174, 0.30851943755169564, 0.3087748344370861, 0.30903065451532724, 0.3092868988391376, 0.3095435684647303, 0.30980066445182725, 0.3100581878636742, 0.3103161397670549, 0.3105745212323064, 0.31083333333333335, 0.311092577147623, 0.3113522537562604, 0.3116123642439432, 0.31187290969899667, 0.31213389121338914, 0.31239530988274705, 0.3126571668063705, 0.31291946308724833, 0.3131821998320739, 0.3134453781512605, 0.3137089991589571, 0.31397306397306396, 0.3142375737152485, 0.3145025295109612, 0.31476793248945145, 0.31503378378378377, 0.3153000845308538, 0.3155668358714044, 0.31583403895004236, 0.31610169491525425, 0.31636980491942324, 0.3166383701188455, 0.3169073916737468, 0.3171768707482993, 0.3174468085106383, 0.31771720613287907, 0.31798806479113384, 0.318259385665529, 0.318531169940222, 0.3188034188034188, 0.31907613344739094, 0.3193493150684932, 0.3196229648671808, 0.31989708404802747, 0.3201716738197425, 0.32044673539518903, 0.3207222699914015, 0.32099827882960413, 0.32127476313522824, 0.32155172413793104, 0.32182916307161347, 0.3221070811744387, 0.32238547968885045, 0.3226643598615917, 0.3229437229437229, 0.32322357019064124, 0.32350390286209885, 0.3237847222222222, 0.32406602953953084, 0.3243478260869565, 0.32463011314186246, 0.3249128919860627, 0.32519616390584133, 0.3254799301919721, 0.325764192139738, 0.32604895104895104, 0.326334208223972, 0.3266199649737303, 0.32690622261174407, 0.32719298245614037, 0.32748024582967517, 0.327768014059754, 0.3280562884784521, 0.3283450704225352, 0.32863436123348017, 0.328042328042328, 0.3283318623124448, 0.32773851590106007, 0.3280282935455349, 0.32831858407079645, 0.32860938883968116, 0.32890070921985815, 0.32919254658385094, 0.3285968028419183, 0.3288888888888889, 0.3291814946619217, 0.3294746215494212, 0.32976827094474154, 0.33006244424620873, 0.33035714285714285, 0.33065236818588023, 0.33094812164579607, 0.3312444046553268, 0.33154121863799285, 0.33183856502242154, 0.33213644524236985, 0.33243486073674755, 0.3327338129496403, 0.33303330333033304, 0.3333333333333333, 0.33363390441839497, 0.33393501805054154, 0.33423667570009036, 0.3345388788426763, 0.334841628959276, 0.3351449275362319, 0.3354487760652765, 0.33575317604355714, 0.33605812897366033, 0.33636363636363636, 0.33666969972702454, 0.33697632058287796, 0.33728350045578853, 0.3375912408759124, 0.3378995433789954, 0.3382084095063985, 0.33851784080512354, 0.33882783882783885, 0.3391384051329056, 0.3394495412844037, 0.3397612488521579, 0.3400735294117647, 0.3403863845446182, 0.3406998158379374, 0.34101382488479265, 0.3413284132841328, 0.34164358264081257, 0.3419593345656192, 0.3422756706753006, 0.3425925925925926, 0.34291010194624655, 0.3432282003710575, 0.3435468895078923, 0.34386617100371747, 0.34418604651162793, 0.34450651769087526, 0.3448275862068966, 0.3451492537313433, 0.34547152194211017, 0.34579439252336447, 0.3461178671655753, 0.3464419475655431, 0.3467666354264292, 0.34709193245778613, 0.3474178403755869, 0.34774436090225563, 0.34807149576669805, 0.3483992467043315, 0.34872761545711595, 0.3490566037735849, 0.3493862134088763, 0.3497164461247637, 0.3500473036896878, 0.3503787878787879, 0.35071090047393366, 0.3510436432637571, 0.3513770180436847, 0.3517110266159696, 0.3520456707897241, 0.3523809523809524, 0.35271687321258344, 0.3530534351145038, 0.3533906399235912, 0.35372848948374763, 0.35406698564593303, 0.3544061302681992, 0.3547459252157239, 0.3550863723608445, 0.3554274735830932, 0.3557692307692308, 0.35611164581328203, 0.35645472061657035, 0.35679845708775315, 0.35714285714285715, 0.357487922705314, 0.3568665377176016, 0.35721200387221685, 0.35658914728682173, 0.3569350145489816, 0.3572815533980582, 0.3576287657920311, 0.35797665369649806, 0.35832521908471276, 0.3586744639376218, 0.3590243902439024, 0.359375, 0.3597262952101662, 0.36007827788649704, 0.3604309500489716, 0.3607843137254902, 0.36113837095191365, 0.3614931237721022, 0.3608652900688299, 0.3612204724409449, 0.361576354679803, 0.3609467455621302, 0.36130306021717673, 0.3616600790513834, 0.3620178041543027, 0.36237623762376237, 0.36273538156590684, 0.3630952380952381, 0.3634558093346574, 0.36381709741550694, 0.3641791044776119, 0.3645418326693227, 0.36490528414755735, 0.3652694610778443, 0.36563436563436563, 0.366, 0.3663663663663664, 0.3667334669338677, 0.36710130391173523, 0.3674698795180723, 0.3678391959798995, 0.3682092555331992, 0.3685800604229607, 0.3689516129032258, 0.3693239152371342, 0.3686868686868687, 0.3690596562184024, 0.3694331983805668, 0.3698074974670719, 0.37018255578093306, 0.37055837563451777, 0.3699186991869919, 0.37029501525940994, 0.37067209775967414, 0.37104994903160043, 0.37142857142857144, 0.3718079673135853, 0.3721881390593047, 0.3725690890481064, 0.3729508196721312, 0.37333333333333335, 0.3737166324435318, 0.37410071942446044, 0.37448559670781895, 0.3748712667353244, 0.3752577319587629, 0.37564499484004127, 0.3760330578512397, 0.3764219234746639, 0.37681159420289856, 0.3772020725388601, 0.3775933609958506, 0.37798546209761164, 0.3783783783783784, 0.37877211238293446, 0.37916666666666665, 0.3795620437956204, 0.37995824634655534, 0.38035527690700105, 0.3797071129707113, 0.38010471204188484, 0.3805031446540881, 0.3809024134312697, 0.38130252100840334, 0.38170347003154576, 0.3821052631578947, 0.38250790305584825, 0.3829113924050633, 0.3833157338965153, 0.38372093023255816, 0.38412698412698415, 0.3845338983050847, 0.38494167550371156, 0.3853503184713376, 0.38575982996811903, 0.3861702127659574, 0.3865814696485623, 0.38699360341151384, 0.3874066168623266, 0.38782051282051283, 0.38823529411764707, 0.3875802997858672, 0.3879957127545552, 0.388412017167382, 0.38882921589688507, 0.38924731182795697, 0.38966630785791173, 0.3900862068965517, 0.39050701186623515, 0.39092872570194387, 0.39135135135135135, 0.3917748917748918, 0.39219934994582883, 0.3926247288503254, 0.3930510314875136, 0.3934782608695652, 0.3939064200217628, 0.39433551198257083, 0.39476553980370777, 0.3951965065502183, 0.39562841530054643, 0.39606126914660833, 0.3964950711938664, 0.3969298245614035, 0.3973655323819978, 0.3978021978021978, 0.39823982398239827, 0.3986784140969163, 0.39911797133406834, 0.3995584988962472, 0.4, 0.4004424778761062, 0.4008859357696567, 0.401330376940133, 0.4017758046614872, 0.4022222222222222, 0.40266963292547275, 0.40311804008908686, 0.40245261984392416, 0.4029017857142857, 0.4033519553072626, 0.40380313199105144, 0.40425531914893614, 0.4047085201793722, 0.4051627384960718, 0.40561797752808987, 0.40607424071991, 0.40653153153153154, 0.40586245772266066, 0.40632054176072235, 0.4067796610169492, 0.4072398190045249, 0.40770101925254815, 0.40816326530612246, 0.4086265607264472, 0.4090909090909091, 0.40955631399317405, 0.41002277904328016, 0.4104903078677309, 0.410958904109589, 0.4114285714285714, 0.41189931350114417, 0.41237113402061853, 0.41284403669724773, 0.4133180252583238, 0.41379310344827586, 0.4142692750287687, 0.4147465437788018, 0.41522491349480967, 0.41570438799076215, 0.41502890173410406, 0.41435185185185186, 0.4148319814600232, 0.41531322505800466, 0.41579558652729387, 0.41627906976744183, 0.4167636786961583, 0.4172494172494173, 0.4177362893815636, 0.4182242990654206, 0.41754385964912283, 0.4180327868852459, 0.41852286049237986, 0.41901408450704225, 0.4195064629847238, 0.42, 0.4193168433451119, 0.419811320754717, 0.4203069657615112, 0.42080378250591016, 0.421301775147929, 0.4206161137440758, 0.4211150652431791, 0.42161520190023755, 0.4221165279429251, 0.4226190476190476, 0.4231227651966627, 0.4236276849642005, 0.4229390681003584, 0.423444976076555, 0.4239520958083832, 0.4244604316546763, 0.4249699879951981, 0.4254807692307692, 0.4259927797833935, 0.42530120481927713, 0.42581423401688784, 0.42632850241545894, 0.4268440145102781, 0.42736077481840196, 0.42787878787878786, 0.42839805825242716, 0.42770352369380316, 0.4282238442822384, 0.4287454323995128, 0.4292682926829268, 0.4297924297924298, 0.43031784841075793, 0.43084455324357407, 0.43137254901960786, 0.43190184049079755, 0.43243243243243246, 0.4317343173431734, 0.43226600985221675, 0.43279901356350187, 0.43209876543209874, 0.4326328800988875, 0.43316831683168316, 0.43370508054522927, 0.43424317617866004, 0.43478260869565216, 0.43532338308457713, 0.43586550435865506, 0.43640897755610975, 0.4369538077403246, 0.4375, 0.4380475594493116, 0.43859649122807015, 0.43914680050188204, 0.4396984924623116, 0.44025157232704404, 0.44080604534005036, 0.44136191677175285, 0.44191919191919193, 0.4424778761061947, 0.4430379746835443, 0.4435994930291508, 0.44416243654822335, 0.44472681067344344, 0.44529262086513993, 0.445859872611465, 0.44642857142857145, 0.44699872286079184, 0.4475703324808184, 0.44814340588988477, 0.44871794871794873, 0.4492939666238768, 0.4498714652956298, 0.45045045045045046, 0.45103092783505155, 0.45161290322580644, 0.4509043927648579, 0.4514877102199224, 0.4520725388601036, 0.45265888456549935, 0.45324675324675323, 0.4538361508452536, 0.4544270833333333, 0.455019556714472, 0.4556135770234987, 0.4562091503267974, 0.4568062827225131, 0.45609436435124506, 0.4566929133858268, 0.45729303547963207, 0.45789473684210524, 0.45849802371541504, 0.45910290237467016, 0.45970937912813736, 0.4603174603174603, 0.4609271523178808, 0.46021220159151194, 0.46082337317397076, 0.46143617021276595, 0.4607190412782956, 0.4613333333333333, 0.46194926568758343, 0.4625668449197861, 0.46318607764390896, 0.46380697050938335, 0.46442953020134226, 0.4650537634408602, 0.46567967698519513, 0.46630727762803237, 0.46558704453441296, 0.46621621621621623, 0.4654939106901218, 0.46476964769647694, 0.4654002713704206, 0.46467391304347827, 0.4639455782312925, 0.4645776566757493, 0.4638472032742155, 0.4644808743169399, 0.46511627906976744, 0.4643835616438356, 0.46502057613168724, 0.46565934065934067, 0.4649243466299862, 0.4641873278236915, 0.46482758620689657, 0.4654696132596685, 0.4661134163208852, 0.46537396121883656, 0.46601941747572817, 0.4652777777777778, 0.4659248956884562, 0.46657381615598886, 0.46722454672245467, 0.4664804469273743, 0.4671328671328671, 0.4677871148459384, 0.4684431977559607, 0.4691011235955056, 0.469760900140647, 0.4704225352112676, 0.4710860366713681, 0.4717514124293785, 0.4724186704384724, 0.4730878186968839, 0.4723404255319149, 0.47301136363636365, 0.47368421052631576, 0.47435897435897434, 0.47503566333808844, 0.4757142857142857, 0.47639484978540775, 0.47707736389684813, 0.47776183644189385, 0.47844827586206895, 0.479136690647482, 0.47982708933717577, 0.4805194805194805, 0.48121387283236994, 0.48191027496382055, 0.4826086956521739, 0.4833091436865022, 0.48401162790697677, 0.48326055312954874, 0.48250728862973763, 0.4832116788321168, 0.48391812865497075, 0.48316251830161056, 0.4838709677419355, 0.4845814977973568, 0.4852941176470588, 0.48600883652430044, 0.48672566371681414, 0.4874446085672083, 0.4881656804733728, 0.4888888888888889, 0.48813056379821956, 0.4888558692421991, 0.4880952380952381, 0.4873323397913562, 0.4880597014925373, 0.48878923766816146, 0.4880239520958084, 0.48875562218890556, 0.4894894894894895, 0.49022556390977445, 0.49096385542168675, 0.4917043740573152, 0.4909365558912387, 0.491679273827534, 0.4909090909090909, 0.49165402124430957, 0.49240121580547114, 0.4931506849315068, 0.49390243902439024, 0.4946564885496183, 0.4938837920489297, 0.4946401225114854, 0.495398773006135, 0.49615975422427033, 0.49538461538461537, 0.49614791987673346, 0.49691358024691357, 0.49768160741885625, 0.4984520123839009, 0.4992248062015504, 0.5, 0.49922239502332816, 0.4984423676012461, 0.49765990639625585, 0.4984375, 0.49921752738654146, 0.5, 0.49921507064364207, 0.5, 0.5007874015748032, 0.5, 0.5007898894154819, 0.5015822784810127, 0.5023771790808241, 0.5031746031746032, 0.5039745627980922, 0.5047770700636943, 0.5055821371610846, 0.5063897763578274, 0.5056, 0.5064102564102564, 0.5056179775280899, 0.5064308681672026, 0.5056360708534622, 0.5064516129032258, 0.5072697899838449, 0.5080906148867314, 0.5089141004862237, 0.5097402597402597, 0.510569105691057, 0.511400651465798, 0.5106035889070146, 0.511437908496732, 0.5106382978723404, 0.5114754098360655, 0.5106732348111659, 0.5115131578947368, 0.5123558484349259, 0.5132013201320133, 0.5140495867768595, 0.5149006622516556, 0.5157545605306799, 0.5149501661129569, 0.5158069883527454, 0.5166666666666667, 0.5175292153589316, 0.5167224080267558, 0.5159128978224455, 0.5167785234899329, 0.5176470588235295, 0.5168350168350169, 0.5177065767284992, 0.518581081081081, 0.5194585448392555, 0.5203389830508475, 0.5195246179966044, 0.5204081632653061, 0.5212947189097104, 0.5221843003412969, 0.5213675213675214, 0.5222602739726028, 0.5214408233276158, 0.5223367697594502, 0.5232358003442341, 0.5241379310344828, 0.5250431778929189, 0.5259515570934256, 0.5268630849220104, 0.5277777777777778, 0.528695652173913, 0.5296167247386759, 0.5305410122164049, 0.5314685314685315, 0.532399299474606, 0.5333333333333333, 0.5342706502636204, 0.5334507042253521, 0.5343915343915344, 0.5353356890459364, 0.536283185840708, 0.5372340425531915, 0.5364120781527532, 0.5355871886120996, 0.5347593582887701, 0.5339285714285714, 0.5348837209302325, 0.53584229390681, 0.5350089766606823, 0.5359712230215827, 0.5351351351351351, 0.5361010830324909, 0.5370705244122965, 0.5380434782608695, 0.5372050816696915, 0.5381818181818182, 0.5373406193078324, 0.5383211678832117, 0.5393053016453382, 0.5402930402930403, 0.5412844036697247, 0.5422794117647058, 0.5414364640883977, 0.5424354243542435, 0.5434380776340111, 0.5425925925925926, 0.5435992578849722, 0.5446096654275093, 0.5456238361266295, 0.5466417910447762, 0.5457943925233645, 0.5449438202247191, 0.5459662288930581, 0.5469924812030075, 0.5461393596986818, 0.5471698113207547, 0.5482041587901701, 0.5492424242424242, 0.5502846299810247, 0.5494296577946768, 0.5485714285714286, 0.549618320610687, 0.5487571701720841, 0.5498084291187739, 0.5508637236084453, 0.551923076923077, 0.5510597302504817, 0.5501930501930502, 0.5512572533849129, 0.5503875968992248, 0.5514563106796116, 0.5525291828793775, 0.5536062378167641, 0.552734375, 0.5518590998043053, 0.5529411764705883, 0.5540275049115914, 0.5551181102362205, 0.5562130177514792, 0.5553359683794467, 0.5544554455445545, 0.5555555555555556, 0.5546719681908548, 0.5557768924302788, 0.5548902195608783, 0.556, 0.5571142284569138, 0.5582329317269076, 0.5593561368209256, 0.5584677419354839, 0.5575757575757576, 0.5587044534412956, 0.5598377281947262, 0.5609756097560976, 0.560081466395112, 0.5591836734693878, 0.5603271983640081, 0.5594262295081968, 0.5585215605749486, 0.5576131687242798, 0.5587628865979382, 0.5599173553719008, 0.5590062111801242, 0.558091286307054, 0.5592515592515592, 0.5604166666666667, 0.5615866388308977, 0.5606694560669456, 0.5618448637316562, 0.5609243697478992, 0.5621052631578948, 0.5632911392405063, 0.5623678646934461, 0.5635593220338984, 0.564755838641189, 0.5659574468085107, 0.5650319829424307, 0.5662393162393162, 0.5653104925053534, 0.5665236051502146, 0.567741935483871, 0.5689655172413793, 0.5701943844492441, 0.5692640692640693, 0.5704989154013015, 0.5695652173913044, 0.5708061002178649, 0.5698689956331878, 0.5711159737417943, 0.5701754385964912, 0.5714285714285714, 0.5726872246696035, 0.5739514348785872, 0.5752212389380531, 0.5764966740576497, 0.5777777777777777, 0.576837416481069, 0.578125, 0.5794183445190156, 0.57847533632287, 0.5775280898876405, 0.5788288288288288, 0.5801354401805869, 0.579185520361991, 0.5804988662131519, 0.5818181818181818, 0.5808656036446469, 0.5821917808219178, 0.5812356979405034, 0.5825688073394495, 0.5839080459770115, 0.5829493087557603, 0.5842956120092379, 0.5856481481481481, 0.5846867749419954, 0.586046511627907, 0.585081585081585, 0.5841121495327103, 0.585480093676815, 0.5868544600938967, 0.5882352941176471, 0.589622641509434, 0.5886524822695035, 0.5876777251184834, 0.5866983372921615, 0.5857142857142857, 0.5847255369928401, 0.583732057416268, 0.5851318944844125, 0.5865384615384616, 0.5855421686746988, 0.5845410628019324, 0.585956416464891, 0.587378640776699, 0.5888077858880778, 0.5878048780487805, 0.589242053789731, 0.5882352941176471, 0.5872235872235873, 0.5886699507389163, 0.5901234567901235, 0.5915841584158416, 0.5930521091811415, 0.5945273631840796, 0.5960099750623441, 0.5975, 0.5964912280701754, 0.5954773869346733, 0.5944584382871536, 0.5959595959595959, 0.5974683544303797, 0.5989847715736041, 0.5979643765903307, 0.5994897959183674, 0.6010230179028133, 0.6025641025641025, 0.6015424164524421, 0.6005154639175257, 0.6020671834625323, 0.6010362694300518, 0.6, 0.5989583333333334, 0.6005221932114883, 0.6020942408376964, 0.6010498687664042, 0.6026315789473684, 0.6015831134564644, 0.6005291005291006, 0.5994694960212201, 0.598404255319149, 0.5973333333333334, 0.5962566844919787, 0.5978552278820375, 0.5994623655913979, 0.5983827493261455, 0.6, 0.6016260162601627, 0.6005434782608695, 0.6021798365122616, 0.6010928961748634, 0.6, 0.6016483516483516, 0.6005509641873278, 0.6022099447513812, 0.6038781163434903, 0.6055555555555555, 0.6044568245125348, 0.6033519553072626, 0.6022408963585434, 0.6039325842696629, 0.6056338028169014, 0.6073446327683616, 0.6062322946175638, 0.6079545454545454, 0.6068376068376068, 0.6085714285714285, 0.6103151862464183, 0.6091954022988506, 0.6109510086455331, 0.6098265895953757, 0.6086956521739131, 0.6075581395348837, 0.6064139941690962, 0.6081871345029239, 0.6070381231671554, 0.6088235294117647, 0.6076696165191741, 0.6094674556213018, 0.6083086053412463, 0.6101190476190477, 0.6119402985074627, 0.6107784431137725, 0.6126126126126126, 0.6144578313253012, 0.6163141993957704, 0.6151515151515151, 0.6139817629179332, 0.6158536585365854, 0.617737003058104, 0.6165644171779141, 0.6184615384615385, 0.6172839506172839, 0.6191950464396285, 0.6211180124223602, 0.6199376947040498, 0.61875, 0.6175548589341693, 0.6194968553459119, 0.6214511041009464, 0.620253164556962, 0.6190476190476191, 0.6178343949044586, 0.6166134185303515, 0.6185897435897436, 0.617363344051447, 0.6193548387096774, 0.6181229773462783, 0.6201298701298701, 0.6188925081433225, 0.6176470588235294, 0.6163934426229508, 0.6151315789473685, 0.6138613861386139, 0.6125827814569537, 0.6112956810631229, 0.6133333333333333, 0.6120401337792643, 0.6140939597315436, 0.6127946127946128, 0.6148648648648649, 0.6169491525423729, 0.6190476190476191, 0.621160409556314, 0.6198630136986302, 0.6219931271477663, 0.6241379310344828, 0.6228373702422145, 0.625, 0.627177700348432, 0.6293706293706294, 0.631578947368421, 0.6338028169014085, 0.6360424028268551, 0.6347517730496454, 0.6334519572953736, 0.6321428571428571, 0.6308243727598566, 0.6294964028776978, 0.631768953068592, 0.6304347826086957, 0.6290909090909091, 0.6277372262773723, 0.6263736263736264, 0.6286764705882353, 0.6309963099630996, 0.6333333333333333, 0.6356877323420075, 0.6380597014925373, 0.6404494382022472, 0.6390977443609023, 0.6415094339622641, 0.6401515151515151, 0.6387832699619772, 0.6374045801526718, 0.6398467432950191, 0.6384615384615384, 0.640926640926641, 0.6395348837209303, 0.6381322957198443, 0.640625, 0.6431372549019608, 0.6456692913385826, 0.6442687747035574, 0.6428571428571429, 0.6414342629482072, 0.644, 0.6465863453815262, 0.6491935483870968, 0.6518218623481782, 0.6504065040650406, 0.6530612244897959, 0.6557377049180327, 0.654320987654321, 0.6528925619834711, 0.6514522821576764, 0.65, 0.6485355648535565, 0.6470588235294118, 0.6455696202531646, 0.6483050847457628, 0.6468085106382979, 0.6452991452991453, 0.648068669527897, 0.6508620689655172, 0.6536796536796536, 0.6521739130434783, 0.6506550218340611, 0.6491228070175439, 0.6475770925110133, 0.6504424778761062, 0.6488888888888888, 0.6473214285714286, 0.6457399103139013, 0.6441441441441441, 0.6470588235294118, 0.6454545454545455, 0.6484018264840182, 0.6513761467889908, 0.6497695852534562, 0.6481481481481481, 0.6465116279069767, 0.6495327102803738, 0.647887323943662, 0.6462264150943396, 0.6445497630331753, 0.6476190476190476, 0.6507177033492823, 0.6538461538461539, 0.6570048309178744, 0.6601941747572816, 0.6585365853658537, 0.6568627450980392, 0.6600985221674877, 0.6584158415841584, 0.6567164179104478, 0.66, 0.6633165829145728, 0.6616161616161617, 0.6649746192893401, 0.6683673469387755, 0.6717948717948717, 0.6752577319587629, 0.6735751295336787, 0.671875, 0.6701570680628273, 0.6684210526315789, 0.671957671957672, 0.6702127659574468, 0.6737967914438503, 0.6774193548387096, 0.6756756756756757, 0.6793478260869565, 0.6830601092896175, 0.6813186813186813, 0.6795580110497238, 0.6777777777777778, 0.6815642458100558, 0.6797752808988764, 0.6779661016949152, 0.6818181818181818, 0.6857142857142857, 0.6839080459770115, 0.6820809248554913, 0.6802325581395349, 0.6842105263157895, 0.6823529411764706, 0.6863905325443787, 0.6845238095238095, 0.6826347305389222, 0.6807228915662651, 0.6787878787878788, 0.676829268292683, 0.6809815950920245, 0.6790123456790124, 0.6770186335403726, 0.675, 0.6729559748427673, 0.6772151898734177, 0.6815286624203821, 0.6794871794871795, 0.6774193548387096, 0.6753246753246753, 0.673202614379085, 0.6710526315789473, 0.6688741721854304, 0.6666666666666666, 0.6711409395973155, 0.668918918918919, 0.6666666666666666, 0.6643835616438356, 0.6620689655172414, 0.6597222222222222, 0.6573426573426573, 0.6549295774647887, 0.6524822695035462, 0.65, 0.6546762589928058, 0.6594202898550725, 0.6642335766423357, 0.6617647058823529, 0.6592592592592592, 0.6567164179104478, 0.6541353383458647, 0.6515151515151515, 0.6564885496183206, 0.6538461538461539, 0.6589147286821705, 0.65625, 0.6614173228346457, 0.6666666666666666, 0.664, 0.6693548387096774, 0.6666666666666666, 0.6639344262295082, 0.6611570247933884, 0.6666666666666666, 0.6722689075630253, 0.6779661016949152, 0.6837606837606838, 0.6896551724137931, 0.6869565217391305, 0.6842105263157895, 0.6814159292035398, 0.6875, 0.6846846846846847, 0.6909090909090909, 0.6972477064220184, 0.6944444444444444, 0.6915887850467289, 0.6981132075471698, 0.6952380952380952, 0.6923076923076923, 0.6990291262135923, 0.7058823529411765, 0.7128712871287128, 0.72, 0.7171717171717171, 0.7142857142857143, 0.711340206185567, 0.71875, 0.7263157894736842, 0.723404255319149, 0.7204301075268817, 0.717391304347826, 0.7142857142857143, 0.7222222222222222, 0.7191011235955056, 0.7159090909090909, 0.7241379310344828, 0.7209302325581395, 0.7294117647058823, 0.7380952380952381, 0.7349397590361446, 0.7317073170731707, 0.7407407407407407, 0.75, 0.7468354430379747, 0.7435897435897436, 0.7532467532467533, 0.75, 0.7466666666666667, 0.7432432432432432, 0.7397260273972602, 0.7361111111111112, 0.7323943661971831, 0.7285714285714285, 0.7246376811594203, 0.7205882352941176, 0.7164179104477612, 0.7121212121212122, 0.7076923076923077, 0.703125, 0.6984126984126984, 0.6935483870967742, 0.6885245901639344, 0.6833333333333333, 0.6949152542372882, 0.7068965517241379, 0.7017543859649122, 0.6964285714285714, 0.6909090909090909, 0.6851851851851852, 0.6981132075471698, 0.6923076923076923, 0.6862745098039216, 0.68, 0.673469387755102, 0.6666666666666666, 0.6808510638297872, 0.6739130434782609, 0.6666666666666666, 0.6818181818181818, 0.6976744186046512, 0.7142857142857143, 0.7073170731707317, 0.7, 0.717948717948718, 0.7105263157894737, 0.7027027027027027, 0.7222222222222222, 0.7142857142857143, 0.7058823529411765, 0.696969696969697, 0.71875, 0.7419354838709677, 0.7333333333333333, 0.7586206896551724, 0.7857142857142857, 0.7777777777777778, 0.7692307692307693, 0.8, 0.7916666666666666, 0.782608695652174, 0.7727272727272727, 0.7619047619047619, 0.75, 0.7894736842105263, 0.7777777777777778, 0.7647058823529411, 0.8125, 0.8, 0.7857142857142857, 0.7692307692307693, 0.75, 0.8181818181818182, 0.8, 0.7777777777777778, 0.75, 0.7142857142857143, 0.6666666666666666, 0.6, 0.5, 0.6666666666666666, 0.5, 0.0, 1.0]}, {\"mode\": \"lines\", \"name\": \"GNB\", \"type\": \"scatter\", \"x\": [1.0, 0.9973262032085561, 0.9973262032085561, 0.9973262032085561, 0.9973262032085561, 0.9973262032085561, 0.9973262032085561, 0.9973262032085561, 0.9973262032085561, 0.9973262032085561, 0.9973262032085561, 0.9973262032085561, 0.9973262032085561, 0.9973262032085561, 0.9973262032085561, 0.9973262032085561, 0.9973262032085561, 0.9973262032085561, 0.9973262032085561, 0.9973262032085561, 0.9973262032085561, 0.9973262032085561, 0.9973262032085561, 0.9973262032085561, 0.9973262032085561, 0.9973262032085561, 0.9973262032085561, 0.9973262032085561, 0.9973262032085561, 0.9973262032085561, 0.9973262032085561, 0.9973262032085561, 0.9973262032085561, 0.9973262032085561, 0.9973262032085561, 0.9973262032085561, 0.9973262032085561, 0.9973262032085561, 0.9973262032085561, 0.9973262032085561, 0.9973262032085561, 0.9973262032085561, 0.9973262032085561, 0.9973262032085561, 0.9973262032085561, 0.9973262032085561, 0.9973262032085561, 0.9973262032085561, 0.9973262032085561, 0.9973262032085561, 0.9973262032085561, 0.9973262032085561, 0.9973262032085561, 0.9973262032085561, 0.9973262032085561, 0.9973262032085561, 0.9973262032085561, 0.9973262032085561, 0.9973262032085561, 0.9973262032085561, 0.9973262032085561, 0.9973262032085561, 0.9973262032085561, 0.9973262032085561, 0.9973262032085561, 0.9973262032085561, 0.9973262032085561, 0.9973262032085561, 0.9973262032085561, 0.9973262032085561, 0.9973262032085561, 0.9973262032085561, 0.9973262032085561, 0.9973262032085561, 0.9973262032085561, 0.9973262032085561, 0.9973262032085561, 0.9973262032085561, 0.9973262032085561, 0.9973262032085561, 0.9973262032085561, 0.9973262032085561, 0.9973262032085561, 0.9973262032085561, 0.9946524064171123, 0.9946524064171123, 0.9946524064171123, 0.9946524064171123, 0.9946524064171123, 0.9946524064171123, 0.9946524064171123, 0.9946524064171123, 0.9946524064171123, 0.9946524064171123, 0.9946524064171123, 0.9946524064171123, 0.9946524064171123, 0.9946524064171123, 0.9946524064171123, 0.9946524064171123, 0.9946524064171123, 0.9946524064171123, 0.9946524064171123, 0.9946524064171123, 0.9946524064171123, 0.9946524064171123, 0.9946524064171123, 0.9946524064171123, 0.9946524064171123, 0.9946524064171123, 0.9946524064171123, 0.9946524064171123, 0.9946524064171123, 0.9946524064171123, 0.9946524064171123, 0.9946524064171123, 0.9946524064171123, 0.9946524064171123, 0.9946524064171123, 0.9946524064171123, 0.9946524064171123, 0.9946524064171123, 0.9946524064171123, 0.9919786096256684, 0.9893048128342246, 0.9893048128342246, 0.9893048128342246, 0.9893048128342246, 0.9893048128342246, 0.9893048128342246, 0.9893048128342246, 0.9893048128342246, 0.9866310160427807, 0.9866310160427807, 0.9866310160427807, 0.9866310160427807, 0.9866310160427807, 0.9866310160427807, 0.983957219251337, 0.983957219251337, 0.983957219251337, 0.983957219251337, 0.983957219251337, 0.983957219251337, 0.983957219251337, 0.983957219251337, 0.983957219251337, 0.983957219251337, 0.983957219251337, 0.983957219251337, 0.983957219251337, 0.983957219251337, 0.983957219251337, 0.983957219251337, 0.983957219251337, 0.983957219251337, 0.983957219251337, 0.983957219251337, 0.9812834224598931, 0.9812834224598931, 0.9812834224598931, 0.9812834224598931, 0.9812834224598931, 0.9812834224598931, 0.9812834224598931, 0.9812834224598931, 0.9812834224598931, 0.9812834224598931, 0.9812834224598931, 0.9812834224598931, 0.9812834224598931, 0.9812834224598931, 0.9786096256684492, 0.9786096256684492, 0.9786096256684492, 0.9759358288770054, 0.9759358288770054, 0.9759358288770054, 0.9759358288770054, 0.9732620320855615, 0.9705882352941176, 0.9705882352941176, 0.9705882352941176, 0.9679144385026738, 0.9679144385026738, 0.9679144385026738, 0.9652406417112299, 0.9652406417112299, 0.9652406417112299, 0.9652406417112299, 0.9652406417112299, 0.9652406417112299, 0.9625668449197861, 0.9625668449197861, 0.9598930481283422, 0.9598930481283422, 0.9598930481283422, 0.9598930481283422, 0.9598930481283422, 0.9572192513368984, 0.9545454545454546, 0.9545454545454546, 0.9545454545454546, 0.9545454545454546, 0.9518716577540107, 0.9518716577540107, 0.9518716577540107, 0.9518716577540107, 0.9518716577540107, 0.9518716577540107, 0.9518716577540107, 0.9491978609625669, 0.9491978609625669, 0.9491978609625669, 0.946524064171123, 0.946524064171123, 0.9438502673796791, 0.9411764705882353, 0.9411764705882353, 0.9411764705882353, 0.9385026737967914, 0.9385026737967914, 0.9385026737967914, 0.9385026737967914, 0.9385026737967914, 0.9385026737967914, 0.9385026737967914, 0.9385026737967914, 0.9385026737967914, 0.9385026737967914, 0.9385026737967914, 0.9385026737967914, 0.9385026737967914, 0.9385026737967914, 0.9385026737967914, 0.9385026737967914, 0.9385026737967914, 0.9385026737967914, 0.9385026737967914, 0.9385026737967914, 0.9385026737967914, 0.9385026737967914, 0.9385026737967914, 0.9385026737967914, 0.9385026737967914, 0.9385026737967914, 0.9385026737967914, 0.9385026737967914, 0.9385026737967914, 0.9385026737967914, 0.9385026737967914, 0.9385026737967914, 0.9385026737967914, 0.9385026737967914, 0.9385026737967914, 0.9385026737967914, 0.9385026737967914, 0.9385026737967914, 0.9385026737967914, 0.9385026737967914, 0.9385026737967914, 0.9385026737967914, 0.9385026737967914, 0.9385026737967914, 0.9385026737967914, 0.9385026737967914, 0.9385026737967914, 0.9385026737967914, 0.9385026737967914, 0.9385026737967914, 0.9385026737967914, 0.9385026737967914, 0.9385026737967914, 0.9385026737967914, 0.9385026737967914, 0.9385026737967914, 0.9385026737967914, 0.9385026737967914, 0.9385026737967914, 0.9385026737967914, 0.9385026737967914, 0.9385026737967914, 0.9385026737967914, 0.9385026737967914, 0.9385026737967914, 0.9385026737967914, 0.9385026737967914, 0.9385026737967914, 0.9385026737967914, 0.9385026737967914, 0.9385026737967914, 0.9385026737967914, 0.9385026737967914, 0.9385026737967914, 0.9385026737967914, 0.9385026737967914, 0.9385026737967914, 0.9385026737967914, 0.9385026737967914, 0.9385026737967914, 0.9385026737967914, 0.9385026737967914, 0.9385026737967914, 0.9385026737967914, 0.9385026737967914, 0.9385026737967914, 0.9385026737967914, 0.9385026737967914, 0.9385026737967914, 0.9385026737967914, 0.9385026737967914, 0.9385026737967914, 0.9385026737967914, 0.9385026737967914, 0.9385026737967914, 0.9385026737967914, 0.9385026737967914, 0.9385026737967914, 0.9385026737967914, 0.9385026737967914, 0.9385026737967914, 0.9385026737967914, 0.9385026737967914, 0.9385026737967914, 0.9385026737967914, 0.9358288770053476, 0.9358288770053476, 0.9358288770053476, 0.9358288770053476, 0.9358288770053476, 0.9358288770053476, 0.9358288770053476, 0.9358288770053476, 0.9358288770053476, 0.9358288770053476, 0.9358288770053476, 0.9358288770053476, 0.9358288770053476, 0.9358288770053476, 0.9358288770053476, 0.9358288770053476, 0.9358288770053476, 0.9358288770053476, 0.9358288770053476, 0.9358288770053476, 0.9358288770053476, 0.9358288770053476, 0.9358288770053476, 0.9358288770053476, 0.9358288770053476, 0.9358288770053476, 0.9358288770053476, 0.9358288770053476, 0.9358288770053476, 0.9358288770053476, 0.9358288770053476, 0.9358288770053476, 0.9358288770053476, 0.9358288770053476, 0.9358288770053476, 0.9358288770053476, 0.9358288770053476, 0.9358288770053476, 0.9358288770053476, 0.9358288770053476, 0.9358288770053476, 0.9358288770053476, 0.9358288770053476, 0.9358288770053476, 0.9358288770053476, 0.9358288770053476, 0.9358288770053476, 0.9358288770053476, 0.9358288770053476, 0.9358288770053476, 0.9358288770053476, 0.9358288770053476, 0.9358288770053476, 0.9358288770053476, 0.9331550802139037, 0.9331550802139037, 0.9331550802139037, 0.9331550802139037, 0.9331550802139037, 0.93048128342246, 0.93048128342246, 0.93048128342246, 0.93048128342246, 0.93048128342246, 0.93048128342246, 0.93048128342246, 0.93048128342246, 0.93048128342246, 0.93048128342246, 0.93048128342246, 0.93048128342246, 0.93048128342246, 0.93048128342246, 0.93048128342246, 0.93048128342246, 0.93048128342246, 0.93048128342246, 0.93048128342246, 0.93048128342246, 0.93048128342246, 0.93048128342246, 0.93048128342246, 0.93048128342246, 0.93048128342246, 0.93048128342246, 0.93048128342246, 0.9278074866310161, 0.9278074866310161, 0.9251336898395722, 0.9251336898395722, 0.9224598930481284, 0.9224598930481284, 0.9224598930481284, 0.9224598930481284, 0.9224598930481284, 0.9224598930481284, 0.9224598930481284, 0.9224598930481284, 0.9224598930481284, 0.9224598930481284, 0.9224598930481284, 0.9224598930481284, 0.9224598930481284, 0.9224598930481284, 0.9197860962566845, 0.9197860962566845, 0.9197860962566845, 0.9197860962566845, 0.9197860962566845, 0.9197860962566845, 0.9197860962566845, 0.9197860962566845, 0.9197860962566845, 0.9197860962566845, 0.9197860962566845, 0.9197860962566845, 0.9197860962566845, 0.9197860962566845, 0.9197860962566845, 0.9171122994652406, 0.9171122994652406, 0.9171122994652406, 0.9171122994652406, 0.9171122994652406, 0.9171122994652406, 0.9171122994652406, 0.9171122994652406, 0.9171122994652406, 0.9171122994652406, 0.9144385026737968, 0.9144385026737968, 0.9144385026737968, 0.9144385026737968, 0.9144385026737968, 0.9144385026737968, 0.9144385026737968, 0.9144385026737968, 0.9144385026737968, 0.9144385026737968, 0.9144385026737968, 0.9144385026737968, 0.9144385026737968, 0.9144385026737968, 0.9144385026737968, 0.9144385026737968, 0.9144385026737968, 0.9117647058823529, 0.9117647058823529, 0.9117647058823529, 0.9117647058823529, 0.9117647058823529, 0.9117647058823529, 0.9117647058823529, 0.9117647058823529, 0.9117647058823529, 0.9117647058823529, 0.9117647058823529, 0.9117647058823529, 0.9117647058823529, 0.9117647058823529, 0.9117647058823529, 0.9117647058823529, 0.9117647058823529, 0.9117647058823529, 0.9117647058823529, 0.9117647058823529, 0.9117647058823529, 0.9117647058823529, 0.9117647058823529, 0.9117647058823529, 0.9117647058823529, 0.9117647058823529, 0.9117647058823529, 0.9117647058823529, 0.9117647058823529, 0.9117647058823529, 0.9117647058823529, 0.9117647058823529, 0.9117647058823529, 0.9117647058823529, 0.9117647058823529, 0.9117647058823529, 0.9117647058823529, 0.9090909090909091, 0.9090909090909091, 0.9090909090909091, 0.9090909090909091, 0.9090909090909091, 0.9090909090909091, 0.9090909090909091, 0.9090909090909091, 0.9090909090909091, 0.9090909090909091, 0.9090909090909091, 0.9090909090909091, 0.9064171122994652, 0.9064171122994652, 0.9064171122994652, 0.9064171122994652, 0.9064171122994652, 0.9064171122994652, 0.9064171122994652, 0.9064171122994652, 0.9064171122994652, 0.9037433155080213, 0.9037433155080213, 0.9037433155080213, 0.9037433155080213, 0.9037433155080213, 0.9037433155080213, 0.9037433155080213, 0.9037433155080213, 0.9037433155080213, 0.9037433155080213, 0.9037433155080213, 0.9037433155080213, 0.9037433155080213, 0.9010695187165776, 0.8983957219251337, 0.8957219251336899, 0.8957219251336899, 0.8957219251336899, 0.8957219251336899, 0.8957219251336899, 0.8957219251336899, 0.8957219251336899, 0.8957219251336899, 0.8957219251336899, 0.8957219251336899, 0.893048128342246, 0.893048128342246, 0.8903743315508021, 0.8877005347593583, 0.8877005347593583, 0.8850267379679144, 0.8823529411764706, 0.8823529411764706, 0.8796791443850267, 0.8796791443850267, 0.8796791443850267, 0.8796791443850267, 0.8796791443850267, 0.8770053475935828, 0.8770053475935828, 0.8770053475935828, 0.8770053475935828, 0.8770053475935828, 0.8770053475935828, 0.8770053475935828, 0.8770053475935828, 0.8743315508021391, 0.8743315508021391, 0.8743315508021391, 0.8743315508021391, 0.8716577540106952, 0.8716577540106952, 0.8716577540106952, 0.8716577540106952, 0.8716577540106952, 0.8689839572192514, 0.8689839572192514, 0.8689839572192514, 0.8689839572192514, 0.8689839572192514, 0.8689839572192514, 0.8663101604278075, 0.8636363636363636, 0.8609625668449198, 0.8609625668449198, 0.8609625668449198, 0.8609625668449198, 0.8609625668449198, 0.8609625668449198, 0.8582887700534759, 0.8582887700534759, 0.8582887700534759, 0.8582887700534759, 0.8556149732620321, 0.8556149732620321, 0.8556149732620321, 0.8529411764705882, 0.8529411764705882, 0.8529411764705882, 0.8529411764705882, 0.8529411764705882, 0.8529411764705882, 0.8529411764705882, 0.8529411764705882, 0.8529411764705882, 0.8529411764705882, 0.8529411764705882, 0.8529411764705882, 0.8529411764705882, 0.8502673796791443, 0.8502673796791443, 0.8502673796791443, 0.8502673796791443, 0.8502673796791443, 0.8502673796791443, 0.8502673796791443, 0.8502673796791443, 0.8502673796791443, 0.8502673796791443, 0.8502673796791443, 0.8502673796791443, 0.8502673796791443, 0.8502673796791443, 0.8502673796791443, 0.8475935828877005, 0.8475935828877005, 0.8449197860962567, 0.8449197860962567, 0.8449197860962567, 0.8422459893048129, 0.8422459893048129, 0.8422459893048129, 0.8422459893048129, 0.8422459893048129, 0.8422459893048129, 0.8422459893048129, 0.839572192513369, 0.839572192513369, 0.839572192513369, 0.839572192513369, 0.839572192513369, 0.839572192513369, 0.839572192513369, 0.839572192513369, 0.839572192513369, 0.839572192513369, 0.839572192513369, 0.839572192513369, 0.839572192513369, 0.839572192513369, 0.839572192513369, 0.839572192513369, 0.8368983957219251, 0.8368983957219251, 0.8342245989304813, 0.8342245989304813, 0.8342245989304813, 0.8342245989304813, 0.8342245989304813, 0.8342245989304813, 0.8342245989304813, 0.8342245989304813, 0.8342245989304813, 0.8315508021390374, 0.8315508021390374, 0.8315508021390374, 0.8315508021390374, 0.8315508021390374, 0.8315508021390374, 0.8315508021390374, 0.8315508021390374, 0.8315508021390374, 0.8288770053475936, 0.8288770053475936, 0.8262032085561497, 0.8235294117647058, 0.8235294117647058, 0.820855614973262, 0.820855614973262, 0.820855614973262, 0.820855614973262, 0.820855614973262, 0.820855614973262, 0.820855614973262, 0.820855614973262, 0.820855614973262, 0.820855614973262, 0.820855614973262, 0.820855614973262, 0.820855614973262, 0.820855614973262, 0.820855614973262, 0.820855614973262, 0.820855614973262, 0.820855614973262, 0.8181818181818182, 0.8155080213903744, 0.8155080213903744, 0.8155080213903744, 0.8155080213903744, 0.8155080213903744, 0.8128342245989305, 0.8128342245989305, 0.8101604278074866, 0.8074866310160428, 0.8074866310160428, 0.8074866310160428, 0.8074866310160428, 0.8048128342245989, 0.8048128342245989, 0.8021390374331551, 0.8021390374331551, 0.8021390374331551, 0.8021390374331551, 0.8021390374331551, 0.8021390374331551, 0.8021390374331551, 0.7994652406417112, 0.7994652406417112, 0.7994652406417112, 0.7994652406417112, 0.7994652406417112, 0.7994652406417112, 0.7967914438502673, 0.7941176470588235, 0.7941176470588235, 0.7941176470588235, 0.7941176470588235, 0.7941176470588235, 0.7941176470588235, 0.7914438502673797, 0.7887700534759359, 0.7887700534759359, 0.7887700534759359, 0.7887700534759359, 0.786096256684492, 0.786096256684492, 0.786096256684492, 0.786096256684492, 0.786096256684492, 0.786096256684492, 0.7834224598930482, 0.7834224598930482, 0.7834224598930482, 0.7807486631016043, 0.7807486631016043, 0.7807486631016043, 0.7807486631016043, 0.7807486631016043, 0.7807486631016043, 0.7807486631016043, 0.7807486631016043, 0.7807486631016043, 0.7807486631016043, 0.7807486631016043, 0.7807486631016043, 0.7807486631016043, 0.7807486631016043, 0.7807486631016043, 0.7780748663101604, 0.7780748663101604, 0.7780748663101604, 0.7780748663101604, 0.7780748663101604, 0.7780748663101604, 0.7780748663101604, 0.7780748663101604, 0.7780748663101604, 0.7780748663101604, 0.7780748663101604, 0.7780748663101604, 0.7780748663101604, 0.7754010695187166, 0.7754010695187166, 0.7754010695187166, 0.7727272727272727, 0.7727272727272727, 0.7727272727272727, 0.7727272727272727, 0.7727272727272727, 0.7727272727272727, 0.7700534759358288, 0.767379679144385, 0.767379679144385, 0.767379679144385, 0.7647058823529411, 0.7647058823529411, 0.7620320855614974, 0.7620320855614974, 0.7620320855614974, 0.7593582887700535, 0.7593582887700535, 0.7593582887700535, 0.7566844919786097, 0.7566844919786097, 0.7566844919786097, 0.7566844919786097, 0.7566844919786097, 0.7540106951871658, 0.7513368983957219, 0.7513368983957219, 0.7513368983957219, 0.7513368983957219, 0.7486631016042781, 0.7459893048128342, 0.7459893048128342, 0.7459893048128342, 0.7459893048128342, 0.7433155080213903, 0.7433155080213903, 0.7406417112299465, 0.7379679144385026, 0.7379679144385026, 0.7379679144385026, 0.7379679144385026, 0.7379679144385026, 0.7352941176470589, 0.7352941176470589, 0.732620320855615, 0.732620320855615, 0.732620320855615, 0.7299465240641712, 0.7299465240641712, 0.7299465240641712, 0.7272727272727273, 0.7245989304812834, 0.7245989304812834, 0.7245989304812834, 0.7245989304812834, 0.7219251336898396, 0.7219251336898396, 0.7219251336898396, 0.7192513368983957, 0.7192513368983957, 0.7192513368983957, 0.7165775401069518, 0.713903743315508, 0.713903743315508, 0.7112299465240641, 0.7112299465240641, 0.7085561497326203, 0.7058823529411765, 0.7058823529411765, 0.7058823529411765, 0.7058823529411765, 0.7032085561497327, 0.7032085561497327, 0.7005347593582888, 0.7005347593582888, 0.6978609625668449, 0.6978609625668449, 0.6951871657754011, 0.6925133689839572, 0.6925133689839572, 0.6925133689839572, 0.6898395721925134, 0.6898395721925134, 0.6898395721925134, 0.6871657754010695, 0.6871657754010695, 0.6871657754010695, 0.6871657754010695, 0.6844919786096256, 0.6844919786096256, 0.6844919786096256, 0.6818181818181818, 0.6818181818181818, 0.6818181818181818, 0.679144385026738, 0.6764705882352942, 0.6764705882352942, 0.6764705882352942, 0.6764705882352942, 0.6737967914438503, 0.6737967914438503, 0.6711229946524064, 0.6684491978609626, 0.6657754010695187, 0.6631016042780749, 0.6631016042780749, 0.660427807486631, 0.660427807486631, 0.660427807486631, 0.6577540106951871, 0.6577540106951871, 0.6577540106951871, 0.6550802139037433, 0.6550802139037433, 0.6550802139037433, 0.6550802139037433, 0.6550802139037433, 0.6550802139037433, 0.6550802139037433, 0.6550802139037433, 0.6550802139037433, 0.6524064171122995, 0.6524064171122995, 0.6497326203208557, 0.6497326203208557, 0.6497326203208557, 0.6470588235294118, 0.6470588235294118, 0.6470588235294118, 0.6443850267379679, 0.6417112299465241, 0.6390374331550802, 0.6390374331550802, 0.6390374331550802, 0.6390374331550802, 0.6390374331550802, 0.6363636363636364, 0.6336898395721925, 0.6310160427807486, 0.6283422459893048, 0.6283422459893048, 0.6256684491978609, 0.6256684491978609, 0.6229946524064172, 0.6203208556149733, 0.6203208556149733, 0.6203208556149733, 0.6176470588235294, 0.6149732620320856, 0.6149732620320856, 0.6122994652406417, 0.6122994652406417, 0.6122994652406417, 0.6096256684491979, 0.6096256684491979, 0.6096256684491979, 0.6096256684491979, 0.6096256684491979, 0.606951871657754, 0.6042780748663101, 0.6042780748663101, 0.6016042780748663, 0.6016042780748663, 0.5989304812834224, 0.5989304812834224, 0.5962566844919787, 0.5962566844919787, 0.5962566844919787, 0.5935828877005348, 0.5909090909090909, 0.5909090909090909, 0.5882352941176471, 0.5882352941176471, 0.5882352941176471, 0.5882352941176471, 0.5882352941176471, 0.5855614973262032, 0.5855614973262032, 0.5828877005347594, 0.5802139037433155, 0.5775401069518716, 0.5775401069518716, 0.5775401069518716, 0.5748663101604278, 0.5748663101604278, 0.5721925133689839, 0.5721925133689839, 0.56951871657754, 0.5668449197860963, 0.5668449197860963, 0.5668449197860963, 0.5668449197860963, 0.5668449197860963, 0.5668449197860963, 0.5668449197860963, 0.5641711229946524, 0.5641711229946524, 0.5614973262032086, 0.5588235294117647, 0.5561497326203209, 0.553475935828877, 0.5508021390374331, 0.5481283422459893, 0.5454545454545454, 0.5454545454545454, 0.5427807486631016, 0.5427807486631016, 0.5427807486631016, 0.5401069518716578, 0.5374331550802139, 0.5347593582887701, 0.5347593582887701, 0.5347593582887701, 0.5320855614973262, 0.5320855614973262, 0.5320855614973262, 0.5294117647058824, 0.5267379679144385, 0.5240641711229946, 0.5213903743315508, 0.5187165775401069, 0.5187165775401069, 0.516042780748663, 0.516042780748663, 0.516042780748663, 0.516042780748663, 0.516042780748663, 0.5133689839572193, 0.5133689839572193, 0.5106951871657754, 0.5080213903743316, 0.5053475935828877, 0.5026737967914439, 0.5, 0.49732620320855614, 0.49732620320855614, 0.4946524064171123, 0.4919786096256685, 0.4893048128342246, 0.4893048128342246, 0.4893048128342246, 0.48663101604278075, 0.4839572192513369, 0.48128342245989303, 0.4786096256684492, 0.4786096256684492, 0.47593582887700536, 0.4732620320855615, 0.4732620320855615, 0.47058823529411764, 0.4679144385026738, 0.4679144385026738, 0.46524064171123, 0.46524064171123, 0.46524064171123, 0.4625668449197861, 0.4625668449197861, 0.4625668449197861, 0.4625668449197861, 0.45989304812834225, 0.4572192513368984, 0.4572192513368984, 0.45454545454545453, 0.45187165775401067, 0.45187165775401067, 0.45187165775401067, 0.45187165775401067, 0.44919786096256686, 0.446524064171123, 0.446524064171123, 0.44385026737967914, 0.4411764705882353, 0.4385026737967914, 0.4358288770053476, 0.4358288770053476, 0.43315508021390375, 0.4304812834224599, 0.42780748663101603, 0.42780748663101603, 0.42780748663101603, 0.42780748663101603, 0.42513368983957217, 0.42245989304812837, 0.42245989304812837, 0.42245989304812837, 0.42245989304812837, 0.4197860962566845, 0.41711229946524064, 0.4144385026737968, 0.4144385026737968, 0.4117647058823529, 0.4090909090909091, 0.40641711229946526, 0.4037433155080214, 0.4037433155080214, 0.4037433155080214, 0.40106951871657753, 0.40106951871657753, 0.40106951871657753, 0.3983957219251337, 0.39572192513368987, 0.39572192513368987, 0.393048128342246, 0.39037433155080214, 0.39037433155080214, 0.3877005347593583, 0.3850267379679144, 0.38235294117647056, 0.38235294117647056, 0.37967914438502676, 0.37967914438502676, 0.3770053475935829, 0.3770053475935829, 0.37433155080213903, 0.37433155080213903, 0.3716577540106952, 0.3689839572192513, 0.3663101604278075, 0.3663101604278075, 0.36363636363636365, 0.36363636363636365, 0.36363636363636365, 0.36363636363636365, 0.36363636363636365, 0.36363636363636365, 0.3609625668449198, 0.3609625668449198, 0.3582887700534759, 0.35561497326203206, 0.35561497326203206, 0.35561497326203206, 0.35294117647058826, 0.3502673796791444, 0.3502673796791444, 0.3502673796791444, 0.34759358288770054, 0.3449197860962567, 0.3422459893048128, 0.3422459893048128, 0.339572192513369, 0.33689839572192515, 0.3342245989304813, 0.3315508021390374, 0.32887700534759357, 0.32620320855614976, 0.32620320855614976, 0.32620320855614976, 0.3235294117647059, 0.3235294117647059, 0.32085561497326204, 0.32085561497326204, 0.3181818181818182, 0.3155080213903743, 0.31283422459893045, 0.31016042780748665, 0.3074866310160428, 0.3048128342245989, 0.30213903743315507, 0.2994652406417112, 0.2994652406417112, 0.2994652406417112, 0.2967914438502674, 0.2967914438502674, 0.29411764705882354, 0.2914438502673797, 0.2914438502673797, 0.2887700534759358, 0.2887700534759358, 0.2887700534759358, 0.2887700534759358, 0.28609625668449196, 0.28342245989304815, 0.28342245989304815, 0.2807486631016043, 0.2807486631016043, 0.27807486631016043, 0.27807486631016043, 0.27807486631016043, 0.27540106951871657, 0.2727272727272727, 0.2727272727272727, 0.2700534759358289, 0.2700534759358289, 0.2700534759358289, 0.26737967914438504, 0.26737967914438504, 0.2647058823529412, 0.2620320855614973, 0.2620320855614973, 0.2620320855614973, 0.25935828877005346, 0.25668449197860965, 0.25668449197860965, 0.25668449197860965, 0.2540106951871658, 0.25133689839572193, 0.24866310160427807, 0.24866310160427807, 0.24866310160427807, 0.24598930481283424, 0.24331550802139038, 0.24331550802139038, 0.24331550802139038, 0.24331550802139038, 0.24331550802139038, 0.24331550802139038, 0.24064171122994651, 0.23796791443850268, 0.23796791443850268, 0.23796791443850268, 0.23529411764705882, 0.23529411764705882, 0.23529411764705882, 0.232620320855615, 0.22994652406417113, 0.22994652406417113, 0.22727272727272727, 0.22727272727272727, 0.22459893048128343, 0.22459893048128343, 0.22192513368983957, 0.22192513368983957, 0.2192513368983957, 0.2192513368983957, 0.21657754010695188, 0.21390374331550802, 0.21390374331550802, 0.21122994652406418, 0.20855614973262032, 0.20588235294117646, 0.20320855614973263, 0.20320855614973263, 0.20053475935828877, 0.19786096256684493, 0.19518716577540107, 0.1925133689839572, 0.1925133689839572, 0.1925133689839572, 0.18983957219251338, 0.18983957219251338, 0.18716577540106952, 0.18449197860962566, 0.18181818181818182, 0.17914438502673796, 0.17647058823529413, 0.17647058823529413, 0.17647058823529413, 0.17647058823529413, 0.17379679144385027, 0.17379679144385027, 0.1711229946524064, 0.16844919786096257, 0.1657754010695187, 0.16310160427807488, 0.16042780748663102, 0.15775401069518716, 0.15508021390374332, 0.15240641711229946, 0.1497326203208556, 0.14705882352941177, 0.1443850267379679, 0.14171122994652408, 0.13903743315508021, 0.13903743315508021, 0.13636363636363635, 0.13368983957219252, 0.13101604278074866, 0.12834224598930483, 0.12566844919786097, 0.12299465240641712, 0.12032085561497326, 0.12032085561497326, 0.12032085561497326, 0.11764705882352941, 0.11497326203208556, 0.11497326203208556, 0.11229946524064172, 0.10962566844919786, 0.10695187165775401, 0.10427807486631016, 0.10160427807486631, 0.09893048128342247, 0.0962566844919786, 0.09358288770053476, 0.09358288770053476, 0.09090909090909091, 0.08823529411764706, 0.08823529411764706, 0.0855614973262032, 0.0855614973262032, 0.08288770053475936, 0.08288770053475936, 0.08021390374331551, 0.07754010695187166, 0.07754010695187166, 0.0748663101604278, 0.0748663101604278, 0.07219251336898395, 0.06951871657754011, 0.06951871657754011, 0.06684491978609626, 0.06417112299465241, 0.06149732620320856, 0.06149732620320856, 0.06149732620320856, 0.06149732620320856, 0.058823529411764705, 0.05614973262032086, 0.053475935828877004, 0.05080213903743316, 0.0481283422459893, 0.045454545454545456, 0.045454545454545456, 0.045454545454545456, 0.045454545454545456, 0.0427807486631016, 0.040106951871657755, 0.040106951871657755, 0.0374331550802139, 0.0374331550802139, 0.034759358288770054, 0.03208556149732621, 0.029411764705882353, 0.026737967914438502, 0.02406417112299465, 0.0213903743315508, 0.0213903743315508, 0.0213903743315508, 0.01871657754010695, 0.016042780748663103, 0.013368983957219251, 0.013368983957219251, 0.0106951871657754, 0.008021390374331552, 0.0053475935828877, 0.00267379679144385, 0.0], \"y\": [0.2835481425322214, 0.2830045523520486, 0.2832194381169324, 0.28343465045592703, 0.28365019011406845, 0.2838660578386606, 0.2840822543792841, 0.2842987804878049, 0.28451563691838294, 0.28473282442748094, 0.2849503437738732, 0.2851681957186544, 0.28538638102524866, 0.28560490045941805, 0.285823754789272, 0.2860429447852761, 0.28626247122026094, 0.28648233486943164, 0.28670253651037664, 0.28692307692307695, 0.28714395688991534, 0.28736517719568566, 0.28758673862760215, 0.28780864197530864, 0.28803088803088805, 0.2882534775888717, 0.288476411446249, 0.2886996904024768, 0.2889233152594888, 0.28914728682170543, 0.28937160589604344, 0.28959627329192544, 0.2898212898212898, 0.2900466562986003, 0.29027237354085605, 0.29049844236760125, 0.2907248636009353, 0.2909516380655226, 0.29117876658860264, 0.29140625, 0.29163408913213446, 0.2918622848200313, 0.2920908379013312, 0.29231974921630094, 0.29254901960784313, 0.29277864992150704, 0.29300864100549884, 0.29323899371069184, 0.2934697088906373, 0.2937007874015748, 0.29393223010244285, 0.2941640378548896, 0.2943962115232833, 0.29462875197472355, 0.2948616600790514, 0.2950949367088608, 0.2953285827395091, 0.29556259904912835, 0.295796986518636, 0.29603174603174603, 0.2962668784749801, 0.29650238473767887, 0.2967382657120127, 0.29697452229299365, 0.2972111553784861, 0.2974481658692185, 0.29768555466879487, 0.2979233226837061, 0.2981614708233413, 0.2984, 0.2986389111289031, 0.2988782051282051, 0.2991178829190056, 0.29935794542536115, 0.2995983935742972, 0.29983922829581994, 0.3000804505229284, 0.3003220611916264, 0.3005640612409347, 0.3008064516129032, 0.30104923325262306, 0.30129240710823907, 0.301535974130962, 0.3017799352750809, 0.30121457489878545, 0.3014586709886548, 0.30170316301703165, 0.30194805194805197, 0.3021933387489846, 0.3024390243902439, 0.30268510984540276, 0.30293159609120524, 0.30317848410757947, 0.3034257748776509, 0.3036734693877551, 0.30392156862745096, 0.3041700735895339, 0.3044189852700491, 0.3046683046683047, 0.30491803278688523, 0.3051681706316653, 0.3054187192118227, 0.3056696795398521, 0.3059210526315789, 0.30617283950617286, 0.30642504118616143, 0.30667765869744434, 0.3069306930693069, 0.30718414533443433, 0.3074380165289256, 0.3076923076923077, 0.3079470198675497, 0.30820215410107704, 0.30845771144278605, 0.3087136929460581, 0.3089700996677741, 0.3092269326683292, 0.30948419301164726, 0.3097418817651957, 0.31, 0.3102585487906589, 0.3105175292153589, 0.3107769423558897, 0.3102006688963211, 0.30962343096234307, 0.3098827470686767, 0.3101424979044426, 0.3104026845637584, 0.31066330814441645, 0.31092436974789917, 0.31118587047939444, 0.3114478114478115, 0.3108677337826453, 0.3111298482293423, 0.31139240506329113, 0.31165540540540543, 0.31191885038038886, 0.31218274111675126, 0.31160033869602033, 0.31186440677966104, 0.31212892281594573, 0.31239388794567063, 0.31265930331350894, 0.3129251700680272, 0.3131914893617021, 0.313458262350937, 0.3137254901960784, 0.31399317406143346, 0.3142613151152861, 0.3145299145299145, 0.31479897348160824, 0.3150684931506849, 0.31533847472150817, 0.3156089193825043, 0.3158798283261803, 0.3161512027491409, 0.3164230438521066, 0.31669535283993117, 0.3161068044788975, 0.3163793103448276, 0.3166522864538395, 0.3169257340241796, 0.317199654278306, 0.31747404844290655, 0.3177489177489177, 0.31802426343154244, 0.3183000867302689, 0.3185763888888889, 0.3188531711555169, 0.3191304347826087, 0.31940818102698, 0.31968641114982577, 0.3190932868352223, 0.3193717277486911, 0.31965065502183404, 0.31905594405594406, 0.3193350831146107, 0.31961471103327493, 0.31989482909728306, 0.3192982456140351, 0.31870061457418786, 0.3189806678383128, 0.31926121372031663, 0.31866197183098594, 0.31894273127753303, 0.31922398589065254, 0.31862312444836716, 0.31890459363957596, 0.3191865605658709, 0.31946902654867254, 0.31975199291408324, 0.3200354609929078, 0.3194321206743567, 0.3197158081705151, 0.3191111111111111, 0.3193950177935943, 0.3196794300979519, 0.31996434937611407, 0.320249776984835, 0.3196428571428571, 0.3190348525469169, 0.31932021466905186, 0.3196060877350045, 0.31989247311827956, 0.31928251121076234, 0.31956912028725315, 0.3198562443845463, 0.32014388489208634, 0.32043204320432045, 0.3207207207207207, 0.32100991884580704, 0.3203971119133574, 0.3206865401987353, 0.3209764918625678, 0.32036199095022627, 0.32065217391304346, 0.3200362647325476, 0.3194192377495463, 0.31970935513169846, 0.32, 0.31938125568698816, 0.319672131147541, 0.31996353691886964, 0.32025547445255476, 0.32054794520547947, 0.32084095063985374, 0.3211344922232388, 0.32142857142857145, 0.32172318973418884, 0.3220183486238532, 0.32231404958677684, 0.3226102941176471, 0.32290708371665133, 0.32320441988950277, 0.32350230414746545, 0.3238007380073801, 0.32409972299168976, 0.3243992606284658, 0.32469935245143383, 0.325, 0.3253012048192771, 0.32560296846011133, 0.32590529247910865, 0.32620817843866173, 0.32651162790697674, 0.3268156424581006, 0.3271202236719478, 0.32742537313432835, 0.3277310924369748, 0.3280373831775701, 0.3283442469597755, 0.32865168539325845, 0.3289597000937207, 0.32926829268292684, 0.3295774647887324, 0.3298872180451128, 0.3301975540921919, 0.3305084745762712, 0.3308199811498586, 0.3311320754716981, 0.3314447592067989, 0.33175803402646503, 0.33207190160832545, 0.33238636363636365, 0.33270142180094786, 0.33301707779886147, 0.3333333333333333, 0.33365019011406843, 0.3339676498572788, 0.3342857142857143, 0.334604385128694, 0.3349236641221374, 0.335243553008596, 0.3355640535372849, 0.33588516746411484, 0.33620689655172414, 0.336529242569511, 0.33685220729366605, 0.3371757925072046, 0.3375, 0.33782483156881615, 0.33815028901734107, 0.33847637415621984, 0.3388030888030888, 0.3391304347826087, 0.33945841392649906, 0.33978702807357214, 0.34011627906976744, 0.34044616876818623, 0.3407766990291262, 0.34110787172011664, 0.3414396887159533, 0.34177215189873417, 0.34210526315789475, 0.34243902439024393, 0.3427734375, 0.34310850439882695, 0.34344422700587085, 0.3437806072477963, 0.34411764705882353, 0.34445534838076547, 0.34479371316306484, 0.34513274336283184, 0.3454724409448819, 0.3458128078817734, 0.34615384615384615, 0.3464955577492596, 0.3468379446640316, 0.34718100890207715, 0.3475247524752475, 0.3478691774033697, 0.3482142857142857, 0.3485600794438927, 0.3489065606361829, 0.3492537313432836, 0.34960159362549803, 0.34995014955134596, 0.3502994011976048, 0.35064935064935066, 0.351, 0.35135135135135137, 0.3517034068136273, 0.3520561685055166, 0.35240963855421686, 0.3527638190954774, 0.352112676056338, 0.35246727089627394, 0.3528225806451613, 0.35317860746720486, 0.35353535353535354, 0.3538928210313448, 0.354251012145749, 0.3546099290780142, 0.35496957403651114, 0.3553299492385787, 0.3556910569105691, 0.3560528992878942, 0.3564154786150713, 0.3567787971457696, 0.35714285714285715, 0.3575076608784474, 0.35787321063394684, 0.35823950870010235, 0.35860655737704916, 0.358974358974359, 0.3593429158110883, 0.3597122302158273, 0.360082304526749, 0.3604531410916581, 0.36082474226804123, 0.36119711042311664, 0.3615702479338843, 0.3619441571871768, 0.36231884057971014, 0.3626943005181347, 0.3630705394190871, 0.363447559709242, 0.36382536382536385, 0.36420395421436, 0.3645833333333333, 0.36496350364963503, 0.3653444676409186, 0.3657262277951933, 0.36610878661087864, 0.36649214659685864, 0.3668763102725367, 0.3672612801678909, 0.36764705882352944, 0.36803364879074657, 0.3684210526315789, 0.36880927291886195, 0.3691983122362869, 0.36958817317845827, 0.3699788583509514, 0.37037037037037035, 0.3707627118644068, 0.3711558854718982, 0.37154989384288745, 0.37194473963868224, 0.37127659574468086, 0.37167199148029817, 0.3720682302771855, 0.37246531483457845, 0.37286324786324787, 0.37219251336898396, 0.37259100642398285, 0.3729903536977492, 0.37339055793991416, 0.37379162191192267, 0.3741935483870968, 0.3745963401506997, 0.375, 0.37540453074433655, 0.3758099352051836, 0.3762162162162162, 0.37662337662337664, 0.37703141928494044, 0.3774403470715835, 0.3778501628664495, 0.3782608695652174, 0.3786724700761698, 0.3790849673202614, 0.37949836423118866, 0.3799126637554585, 0.380327868852459, 0.38074398249452956, 0.38116100766703176, 0.3815789473684211, 0.38199780461031835, 0.3824175824175824, 0.38283828382838286, 0.38215859030837, 0.38257993384785005, 0.3818984547461369, 0.38232044198895027, 0.38163716814159293, 0.38205980066445183, 0.38248337028824836, 0.38290788013318533, 0.38333333333333336, 0.38375973303670746, 0.3841870824053452, 0.38461538461538464, 0.38504464285714285, 0.3854748603351955, 0.3859060402684564, 0.38633818589025753, 0.3867713004484305, 0.3872053872053872, 0.3865168539325843, 0.38695163104611924, 0.38738738738738737, 0.3878241262683202, 0.38826185101580135, 0.3887005649717514, 0.3891402714932127, 0.3895809739524349, 0.3900226757369615, 0.3904653802497162, 0.39090909090909093, 0.391353811149033, 0.3917995444191344, 0.3922462941847206, 0.3926940639269406, 0.392, 0.39244851258581237, 0.3928980526918671, 0.393348623853211, 0.39380022962112515, 0.39425287356321836, 0.3947065592635213, 0.3951612903225806, 0.3956170703575548, 0.3960739030023095, 0.3953757225433526, 0.3958333333333333, 0.3962920046349942, 0.39675174013921116, 0.397212543554007, 0.39767441860465114, 0.3981373690337602, 0.3986013986013986, 0.3990665110851809, 0.39953271028037385, 0.4, 0.40046838407494145, 0.40093786635404455, 0.4014084507042254, 0.4018801410105758, 0.4023529411764706, 0.4028268551236749, 0.40212264150943394, 0.4025974025974026, 0.4030732860520095, 0.4035502958579882, 0.4040284360189573, 0.4045077105575326, 0.40498812351543945, 0.4054696789536266, 0.40595238095238095, 0.4064362336114422, 0.40692124105011934, 0.4074074074074074, 0.40789473684210525, 0.40838323353293415, 0.4088729016786571, 0.40936374549819926, 0.4098557692307692, 0.41034897713598073, 0.4108433734939759, 0.41133896260554886, 0.41183574879227053, 0.41233373639661425, 0.4128329297820823, 0.41333333333333333, 0.41383495145631066, 0.41433778857837184, 0.4148418491484185, 0.415347137637028, 0.41585365853658535, 0.4163614163614164, 0.41687041564792177, 0.4173806609547124, 0.4178921568627451, 0.41840490797546015, 0.4189189189189189, 0.4194341943419434, 0.41995073891625617, 0.4192355117139334, 0.41975308641975306, 0.42027194066749074, 0.4207920792079208, 0.42131350681536556, 0.4218362282878412, 0.422360248447205, 0.4228855721393035, 0.42341220423412207, 0.4239401496259352, 0.42446941323345816, 0.425, 0.42428035043804757, 0.424812030075188, 0.42534504391468003, 0.4258793969849246, 0.42641509433962266, 0.4269521410579345, 0.4274905422446406, 0.42803030303030304, 0.42857142857142855, 0.4278481012658228, 0.42839036755386567, 0.4289340101522843, 0.42947903430749684, 0.4300254452926209, 0.4305732484076433, 0.43112244897959184, 0.43167305236270753, 0.4322250639386189, 0.4327784891165173, 0.43333333333333335, 0.4338896020539153, 0.43444730077120824, 0.4337194337194337, 0.4329896907216495, 0.432258064516129, 0.43281653746770027, 0.4333764553686934, 0.4339378238341969, 0.4345006485084306, 0.43506493506493504, 0.435630689206762, 0.4361979166666667, 0.4367666232073012, 0.43733681462140994, 0.4366013071895425, 0.43717277486910994, 0.436435124508519, 0.4356955380577428, 0.43626806833114323, 0.4355263157894737, 0.43478260869565216, 0.43535620052770446, 0.4346103038309115, 0.4351851851851852, 0.4357615894039735, 0.4363395225464191, 0.43691899070385126, 0.43617021276595747, 0.4367509986684421, 0.43733333333333335, 0.4379172229639519, 0.4385026737967914, 0.4390896921017403, 0.43967828418230565, 0.44026845637583895, 0.43951612903225806, 0.44010767160161507, 0.44070080862533695, 0.44129554655870445, 0.44054054054054054, 0.44113667117726657, 0.44173441734417346, 0.4423337856173677, 0.4429347826086957, 0.4421768707482993, 0.4427792915531335, 0.4433833560709413, 0.44398907103825136, 0.44459644322845415, 0.4452054794520548, 0.4444444444444444, 0.44368131868131866, 0.44291609353507566, 0.44352617079889806, 0.44413793103448274, 0.4447513812154696, 0.44536652835408025, 0.44598337950138506, 0.44521497919556174, 0.44583333333333336, 0.44645340751043117, 0.44707520891364905, 0.44630404463040446, 0.44692737430167595, 0.44755244755244755, 0.44677871148459386, 0.4474053295932679, 0.44803370786516855, 0.44866385372714485, 0.44929577464788734, 0.44992947813822287, 0.4505649717514124, 0.4512022630834512, 0.4518413597733711, 0.4524822695035461, 0.453125, 0.45376955903271693, 0.4544159544159544, 0.4536376604850214, 0.4542857142857143, 0.45493562231759654, 0.45558739255014324, 0.4562410329985653, 0.45689655172413796, 0.45755395683453237, 0.45821325648414984, 0.4588744588744589, 0.4595375722543353, 0.4602026049204052, 0.4608695652173913, 0.46153846153846156, 0.4622093023255814, 0.462882096069869, 0.4620991253644315, 0.46277372262773725, 0.4619883040935672, 0.46266471449487556, 0.4633431085043988, 0.46255506607929514, 0.4632352941176471, 0.4639175257731959, 0.4646017699115044, 0.465288035450517, 0.46597633136094674, 0.4666666666666667, 0.4658753709198813, 0.46656760772659733, 0.46726190476190477, 0.46795827123695977, 0.46865671641791046, 0.4693572496263079, 0.47005988023952094, 0.4707646176911544, 0.47147147147147145, 0.47218045112781953, 0.47289156626506024, 0.473604826546003, 0.4743202416918429, 0.4750378214826021, 0.47575757575757577, 0.4764795144157815, 0.4756838905775076, 0.4764079147640791, 0.47560975609756095, 0.4763358778625954, 0.47706422018348627, 0.4777947932618683, 0.4785276073619632, 0.4792626728110599, 0.48, 0.48073959938366717, 0.48148148148148145, 0.4806800618238022, 0.48142414860681115, 0.4821705426356589, 0.4829192546583851, 0.48367029548989116, 0.48442367601246106, 0.48517940717628705, 0.4859375, 0.486697965571205, 0.48589341692789967, 0.48665620094191525, 0.4858490566037736, 0.48503937007874015, 0.48580441640378547, 0.4849921011058452, 0.48575949367088606, 0.4865293185419968, 0.4873015873015873, 0.48807631160572335, 0.4888535031847134, 0.48963317384370014, 0.4904153354632588, 0.4912, 0.49198717948717946, 0.492776886035313, 0.49356913183279744, 0.4943639291465378, 0.49516129032258066, 0.49596122778675283, 0.4967637540453074, 0.49756888168557534, 0.49837662337662336, 0.4975609756097561, 0.496742671009772, 0.49755301794453505, 0.49836601307189543, 0.49918166939443537, 0.5, 0.49917898193760263, 0.5, 0.49917627677100496, 0.49834983498349833, 0.4991735537190083, 0.5, 0.5008291873963516, 0.5, 0.5008319467554077, 0.5, 0.5008347245409015, 0.5016722408026756, 0.5025125628140703, 0.5033557046979866, 0.5042016806722689, 0.5050505050505051, 0.5042158516020236, 0.5050675675675675, 0.505922165820643, 0.5067796610169492, 0.5076400679117148, 0.5085034013605442, 0.5076660988074957, 0.5068259385665529, 0.5076923076923077, 0.5085616438356164, 0.5094339622641509, 0.5103092783505154, 0.5111876075731497, 0.5103448275862069, 0.5094991364421416, 0.5103806228373703, 0.511265164644714, 0.5121527777777778, 0.5113043478260869, 0.5121951219512195, 0.5130890052356021, 0.513986013986014, 0.5148861646234676, 0.5157894736842106, 0.5149384885764499, 0.5158450704225352, 0.5167548500881834, 0.5159010600706714, 0.5168141592920354, 0.5177304964539007, 0.5186500888099467, 0.5195729537366548, 0.5204991087344029, 0.5214285714285715, 0.5223613595706619, 0.5232974910394266, 0.5242369838420108, 0.5251798561151079, 0.5261261261261261, 0.5270758122743683, 0.5280289330922242, 0.5289855072463768, 0.5281306715063521, 0.5290909090909091, 0.5300546448087432, 0.531021897810219, 0.5319926873857403, 0.532967032967033, 0.5339449541284403, 0.5349264705882353, 0.5359116022099447, 0.5369003690036901, 0.5378927911275416, 0.5388888888888889, 0.5398886827458256, 0.5390334572490706, 0.5400372439478585, 0.5410447761194029, 0.5401869158878505, 0.5411985018726592, 0.5422138836772983, 0.543233082706767, 0.544256120527307, 0.5452830188679245, 0.5444234404536862, 0.5435606060606061, 0.5445920303605313, 0.5456273764258555, 0.5447619047619048, 0.5458015267175572, 0.5449330783938815, 0.5459770114942529, 0.5470249520153551, 0.5461538461538461, 0.5472061657032755, 0.5482625482625483, 0.5473887814313346, 0.5484496124031008, 0.5495145631067961, 0.5505836575875487, 0.5516569200779727, 0.55078125, 0.5499021526418787, 0.5509803921568628, 0.5520628683693517, 0.5531496062992126, 0.5522682445759369, 0.5513833992094862, 0.5524752475247525, 0.5535714285714286, 0.5546719681908548, 0.5537848605577689, 0.5548902195608783, 0.554, 0.5531062124248497, 0.5542168674698795, 0.5553319919517102, 0.5564516129032258, 0.5575757575757576, 0.5566801619433198, 0.5578093306288032, 0.556910569105691, 0.5580448065173116, 0.5591836734693878, 0.558282208588957, 0.5594262295081968, 0.5605749486652978, 0.5596707818930041, 0.5587628865979382, 0.5599173553719008, 0.5610766045548654, 0.5622406639004149, 0.5613305613305614, 0.5625, 0.5636743215031316, 0.5627615062761506, 0.5639412997903563, 0.5651260504201681, 0.5642105263157895, 0.5632911392405063, 0.5644820295983086, 0.5635593220338984, 0.564755838641189, 0.5638297872340425, 0.5628997867803838, 0.5641025641025641, 0.5653104925053534, 0.5665236051502146, 0.5655913978494623, 0.5668103448275862, 0.5658747300215983, 0.5670995670995671, 0.5661605206073753, 0.5673913043478261, 0.5664488017429193, 0.5655021834061136, 0.5667396061269147, 0.5679824561403509, 0.567032967032967, 0.5682819383259912, 0.5695364238410596, 0.5685840707964602, 0.5698447893569845, 0.5711111111111111, 0.5723830734966593, 0.5714285714285714, 0.5727069351230425, 0.5739910313901345, 0.5730337078651685, 0.5743243243243243, 0.5756207674943566, 0.5746606334841629, 0.5736961451247166, 0.575, 0.5763097949886105, 0.5776255707762558, 0.5766590389016019, 0.5779816513761468, 0.5770114942528736, 0.576036866359447, 0.5750577367205543, 0.5740740740740741, 0.5754060324825986, 0.5744186046511628, 0.5757575757575758, 0.5771028037383178, 0.5761124121779859, 0.5774647887323944, 0.5788235294117647, 0.5778301886792453, 0.5791962174940898, 0.580568720379147, 0.5819477434679335, 0.5833333333333334, 0.5847255369928401, 0.5861244019138756, 0.5875299760191847, 0.5889423076923077, 0.5879518072289157, 0.5893719806763285, 0.5883777239709443, 0.5898058252427184, 0.5912408759124088, 0.5902439024390244, 0.5916870415647921, 0.5931372549019608, 0.5921375921375921, 0.5911330049261084, 0.5901234567901235, 0.5915841584158416, 0.5930521091811415, 0.5945273631840796, 0.5960099750623441, 0.595, 0.5939849624060151, 0.592964824120603, 0.5919395465994962, 0.5934343434343434, 0.5924050632911393, 0.5939086294416244, 0.5928753180661578, 0.5918367346938775, 0.5933503836317136, 0.5948717948717949, 0.5938303341902313, 0.5927835051546392, 0.5943152454780362, 0.5932642487046632, 0.5948051948051948, 0.5963541666666666, 0.5953002610966057, 0.5968586387434555, 0.5984251968503937, 0.6, 0.6015831134564644, 0.6005291005291006, 0.5994694960212201, 0.601063829787234, 0.6, 0.6016042780748663, 0.6005361930294906, 0.6021505376344086, 0.601078167115903, 0.6027027027027027, 0.6043360433604336, 0.6032608695652174, 0.6021798365122616, 0.6038251366120219, 0.6027397260273972, 0.6043956043956044, 0.6060606060606061, 0.6077348066298343, 0.6094182825484764, 0.6083333333333333, 0.6100278551532033, 0.6089385474860335, 0.6078431372549019, 0.6067415730337079, 0.6084507042253521, 0.6101694915254238, 0.6090651558073654, 0.6107954545454546, 0.6096866096866097, 0.6114285714285714, 0.6103151862464183, 0.6091954022988506, 0.6109510086455331, 0.6127167630057804, 0.6144927536231884, 0.6162790697674418, 0.6180758017492711, 0.6198830409356725, 0.6187683284457478, 0.6205882352941177, 0.6194690265486725, 0.6183431952662722, 0.6172106824925816, 0.6160714285714286, 0.6149253731343284, 0.6137724550898204, 0.6126126126126126, 0.6144578313253012, 0.6132930513595166, 0.6151515151515151, 0.6170212765957447, 0.6158536585365854, 0.6146788990825688, 0.6134969325153374, 0.6153846153846154, 0.6172839506172839, 0.6160990712074303, 0.6180124223602484, 0.6199376947040498, 0.61875, 0.6175548589341693, 0.6163522012578616, 0.6151419558359621, 0.6139240506329114, 0.6158730158730159, 0.6146496815286624, 0.6166134185303515, 0.6185897435897436, 0.6205787781350482, 0.6225806451612903, 0.6213592233009708, 0.6233766233766234, 0.6221498371335505, 0.6209150326797386, 0.6196721311475409, 0.618421052631579, 0.6171617161716172, 0.6158940397350994, 0.6179401993355482, 0.6166666666666667, 0.6153846153846154, 0.6140939597315436, 0.6161616161616161, 0.6182432432432432, 0.6169491525423729, 0.6156462585034014, 0.6143344709897611, 0.613013698630137, 0.6151202749140894, 0.6137931034482759, 0.6124567474048442, 0.6145833333333334, 0.6132404181184669, 0.6118881118881119, 0.6140350877192983, 0.6126760563380281, 0.6148409893992933, 0.6170212765957447, 0.6156583629893239, 0.6178571428571429, 0.6200716845878136, 0.6223021582733813, 0.6209386281588448, 0.6195652173913043, 0.6218181818181818, 0.6204379562043796, 0.6190476190476191, 0.6213235294117647, 0.6236162361623616, 0.6259259259259259, 0.6245353159851301, 0.6231343283582089, 0.6254681647940075, 0.6240601503759399, 0.6226415094339622, 0.6212121212121212, 0.6197718631178707, 0.6221374045801527, 0.6206896551724138, 0.6192307692307693, 0.6177606177606177, 0.6201550387596899, 0.622568093385214, 0.625, 0.6235294117647059, 0.6220472440944882, 0.6245059288537549, 0.626984126984127, 0.6294820717131474, 0.628, 0.6265060240963856, 0.625, 0.6275303643724697, 0.6260162601626016, 0.6244897959183674, 0.6229508196721312, 0.6213991769547325, 0.6239669421487604, 0.6265560165975104, 0.625, 0.6276150627615062, 0.6302521008403361, 0.6286919831223629, 0.6271186440677966, 0.6297872340425532, 0.6282051282051282, 0.6266094420600858, 0.6293103448275862, 0.6277056277056277, 0.6260869565217392, 0.6244541484716157, 0.6271929824561403, 0.6255506607929515, 0.6283185840707964, 0.6266666666666667, 0.6294642857142857, 0.6278026905829597, 0.6306306306306306, 0.6289592760180995, 0.6272727272727273, 0.6255707762557078, 0.6284403669724771, 0.6267281105990783, 0.6296296296296297, 0.6325581395348837, 0.6355140186915887, 0.6384976525821596, 0.6415094339622641, 0.6398104265402843, 0.6428571428571429, 0.6411483253588517, 0.6394230769230769, 0.642512077294686, 0.6456310679611651, 0.6439024390243903, 0.6421568627450981, 0.645320197044335, 0.6485148514851485, 0.6467661691542289, 0.645, 0.6432160804020101, 0.6464646464646465, 0.6446700507614214, 0.6428571428571429, 0.6410256410256411, 0.6391752577319587, 0.6373056994818653, 0.6354166666666666, 0.6387434554973822, 0.6421052631578947, 0.6402116402116402, 0.6436170212765957, 0.6417112299465241, 0.6451612903225806, 0.6432432432432432, 0.6413043478260869, 0.639344262295082, 0.6373626373626373, 0.6353591160220995, 0.6333333333333333, 0.6312849162011173, 0.6292134831460674, 0.632768361581921, 0.6363636363636364, 0.6342857142857142, 0.6379310344827587, 0.6358381502890174, 0.6337209302325582, 0.6374269005847953, 0.6352941176470588, 0.6390532544378699, 0.6428571428571429, 0.6467065868263473, 0.6445783132530121, 0.6424242424242425, 0.6463414634146342, 0.6441717791411042, 0.6481481481481481, 0.6459627329192547, 0.65, 0.6540880503144654, 0.6518987341772152, 0.6496815286624203, 0.6538461538461539, 0.6516129032258065, 0.6558441558441559, 0.6601307189542484, 0.6578947368421053, 0.6622516556291391, 0.66, 0.6577181208053692, 0.6621621621621622, 0.6666666666666666, 0.6643835616438356, 0.6620689655172414, 0.6666666666666666, 0.6713286713286714, 0.6690140845070423, 0.6666666666666666, 0.6642857142857143, 0.6690647482014388, 0.6739130434782609, 0.6715328467153284, 0.6691176470588235, 0.674074074074074, 0.6791044776119403, 0.6842105263157895, 0.6893939393939394, 0.6946564885496184, 0.6923076923076923, 0.689922480620155, 0.6953125, 0.7007874015748031, 0.6984126984126984, 0.704, 0.7096774193548387, 0.7073170731707317, 0.7049180327868853, 0.7107438016528925, 0.7083333333333334, 0.7142857142857143, 0.711864406779661, 0.717948717948718, 0.7155172413793104, 0.7217391304347827, 0.7192982456140351, 0.7256637168141593, 0.7232142857142857, 0.7207207207207207, 0.7272727272727273, 0.7247706422018348, 0.7222222222222222, 0.719626168224299, 0.7169811320754716, 0.7238095238095238, 0.7211538461538461, 0.7184466019417476, 0.7156862745098039, 0.7128712871287128, 0.72, 0.7272727272727273, 0.7244897959183674, 0.7319587628865979, 0.7291666666666666, 0.7263157894736842, 0.723404255319149, 0.7204301075268817, 0.717391304347826, 0.7252747252747253, 0.7333333333333333, 0.7415730337078652, 0.7386363636363636, 0.7471264367816092, 0.7441860465116279, 0.7411764705882353, 0.7380952380952381, 0.7349397590361446, 0.7317073170731707, 0.7283950617283951, 0.725, 0.7215189873417721, 0.717948717948718, 0.7142857142857143, 0.7105263157894737, 0.7066666666666667, 0.7027027027027027, 0.7123287671232876, 0.7083333333333334, 0.704225352112676, 0.7, 0.6956521739130435, 0.6911764705882353, 0.6865671641791045, 0.6818181818181818, 0.6923076923076923, 0.703125, 0.6984126984126984, 0.6935483870967742, 0.7049180327868853, 0.7, 0.6949152542372882, 0.6896551724137931, 0.6842105263157895, 0.6785714285714286, 0.6727272727272727, 0.6666666666666666, 0.660377358490566, 0.6730769230769231, 0.6666666666666666, 0.66, 0.673469387755102, 0.6666666666666666, 0.6808510638297872, 0.6739130434782609, 0.6888888888888889, 0.6818181818181818, 0.6744186046511628, 0.6904761904761905, 0.6829268292682927, 0.7, 0.6923076923076923, 0.6842105263157895, 0.7027027027027027, 0.6944444444444444, 0.6857142857142857, 0.6764705882352942, 0.696969696969697, 0.71875, 0.7419354838709677, 0.7333333333333333, 0.7241379310344828, 0.7142857142857143, 0.7037037037037037, 0.6923076923076923, 0.68, 0.7083333333333334, 0.7391304347826086, 0.7727272727272727, 0.7619047619047619, 0.75, 0.7894736842105263, 0.7777777777777778, 0.8235294117647058, 0.8125, 0.8, 0.7857142857142857, 0.7692307692307693, 0.75, 0.7272727272727273, 0.8, 0.8888888888888888, 0.875, 0.8571428571428571, 0.8333333333333334, 1.0, 1.0, 1.0, 1.0, 1.0, 1.0]}, {\"mode\": \"lines\", \"name\": \"NN\", \"type\": \"scatter\", \"x\": [1.0, 0.9973262032085561, 0.9973262032085561, 0.9973262032085561, 0.9973262032085561, 0.9973262032085561, 0.9973262032085561, 0.9973262032085561, 0.9973262032085561, 0.9973262032085561, 0.9973262032085561, 0.9973262032085561, 0.9973262032085561, 0.9973262032085561, 0.9973262032085561, 0.9973262032085561, 0.9973262032085561, 0.9973262032085561, 0.9973262032085561, 0.9973262032085561, 0.9973262032085561, 0.9973262032085561, 0.9973262032085561, 0.9973262032085561, 0.9973262032085561, 0.9973262032085561, 0.9973262032085561, 0.9973262032085561, 0.9973262032085561, 0.9973262032085561, 0.9973262032085561, 0.9973262032085561, 0.9973262032085561, 0.9973262032085561, 0.9973262032085561, 0.9973262032085561, 0.9973262032085561, 0.9973262032085561, 0.9973262032085561, 0.9973262032085561, 0.9973262032085561, 0.9973262032085561, 0.9973262032085561, 0.9973262032085561, 0.9973262032085561, 0.9973262032085561, 0.9973262032085561, 0.9973262032085561, 0.9973262032085561, 0.9973262032085561, 0.9973262032085561, 0.9973262032085561, 0.9973262032085561, 0.9973262032085561, 0.9973262032085561, 0.9973262032085561, 0.9973262032085561, 0.9973262032085561, 0.9973262032085561, 0.9973262032085561, 0.9973262032085561, 0.9973262032085561, 0.9973262032085561, 0.9973262032085561, 0.9973262032085561, 0.9973262032085561, 0.9973262032085561, 0.9973262032085561, 0.9973262032085561, 0.9973262032085561, 0.9973262032085561, 0.9973262032085561, 0.9973262032085561, 0.9973262032085561, 0.9973262032085561, 0.9973262032085561, 0.9973262032085561, 0.9973262032085561, 0.9973262032085561, 0.9973262032085561, 0.9973262032085561, 0.9973262032085561, 0.9973262032085561, 0.9973262032085561, 0.9973262032085561, 0.9973262032085561, 0.9973262032085561, 0.9973262032085561, 0.9973262032085561, 0.9973262032085561, 0.9973262032085561, 0.9973262032085561, 0.9973262032085561, 0.9973262032085561, 0.9973262032085561, 0.9973262032085561, 0.9973262032085561, 0.9973262032085561, 0.9973262032085561, 0.9973262032085561, 0.9973262032085561, 0.9973262032085561, 0.9973262032085561, 0.9973262032085561, 0.9973262032085561, 0.9973262032085561, 0.9973262032085561, 0.9946524064171123, 0.9946524064171123, 0.9946524064171123, 0.9946524064171123, 0.9946524064171123, 0.9946524064171123, 0.9946524064171123, 0.9946524064171123, 0.9946524064171123, 0.9946524064171123, 0.9946524064171123, 0.9946524064171123, 0.9946524064171123, 0.9946524064171123, 0.9946524064171123, 0.9946524064171123, 0.9946524064171123, 0.9946524064171123, 0.9946524064171123, 0.9946524064171123, 0.9946524064171123, 0.9946524064171123, 0.9946524064171123, 0.9946524064171123, 0.9946524064171123, 0.9946524064171123, 0.9946524064171123, 0.9946524064171123, 0.9946524064171123, 0.9946524064171123, 0.9946524064171123, 0.9946524064171123, 0.9946524064171123, 0.9946524064171123, 0.9946524064171123, 0.9946524064171123, 0.9946524064171123, 0.9946524064171123, 0.9946524064171123, 0.9946524064171123, 0.9946524064171123, 0.9946524064171123, 0.9946524064171123, 0.9946524064171123, 0.9946524064171123, 0.9946524064171123, 0.9946524064171123, 0.9946524064171123, 0.9946524064171123, 0.9946524064171123, 0.9946524064171123, 0.9946524064171123, 0.9946524064171123, 0.9946524064171123, 0.9946524064171123, 0.9946524064171123, 0.9919786096256684, 0.9919786096256684, 0.9919786096256684, 0.9919786096256684, 0.9919786096256684, 0.9919786096256684, 0.9919786096256684, 0.9919786096256684, 0.9919786096256684, 0.9919786096256684, 0.9919786096256684, 0.9919786096256684, 0.9919786096256684, 0.9919786096256684, 0.9919786096256684, 0.9919786096256684, 0.9919786096256684, 0.9919786096256684, 0.9919786096256684, 0.9893048128342246, 0.9893048128342246, 0.9893048128342246, 0.9893048128342246, 0.9893048128342246, 0.9893048128342246, 0.9893048128342246, 0.9893048128342246, 0.9893048128342246, 0.9893048128342246, 0.9893048128342246, 0.9893048128342246, 0.9893048128342246, 0.9893048128342246, 0.9893048128342246, 0.9893048128342246, 0.9893048128342246, 0.9893048128342246, 0.9893048128342246, 0.9893048128342246, 0.9893048128342246, 0.9893048128342246, 0.9893048128342246, 0.9893048128342246, 0.9893048128342246, 0.9893048128342246, 0.9893048128342246, 0.9893048128342246, 0.9893048128342246, 0.9893048128342246, 0.9893048128342246, 0.9893048128342246, 0.9893048128342246, 0.9893048128342246, 0.9893048128342246, 0.9893048128342246, 0.9893048128342246, 0.9893048128342246, 0.9866310160427807, 0.9866310160427807, 0.9866310160427807, 0.9866310160427807, 0.9866310160427807, 0.9866310160427807, 0.9866310160427807, 0.9866310160427807, 0.9866310160427807, 0.9866310160427807, 0.9866310160427807, 0.9866310160427807, 0.9866310160427807, 0.9866310160427807, 0.9866310160427807, 0.9866310160427807, 0.9866310160427807, 0.9866310160427807, 0.9866310160427807, 0.9866310160427807, 0.9866310160427807, 0.9866310160427807, 0.9866310160427807, 0.9866310160427807, 0.9866310160427807, 0.9866310160427807, 0.9866310160427807, 0.9866310160427807, 0.9866310160427807, 0.9866310160427807, 0.9866310160427807, 0.9866310160427807, 0.983957219251337, 0.983957219251337, 0.983957219251337, 0.983957219251337, 0.9812834224598931, 0.9812834224598931, 0.9812834224598931, 0.9786096256684492, 0.9786096256684492, 0.9786096256684492, 0.9786096256684492, 0.9786096256684492, 0.9786096256684492, 0.9786096256684492, 0.9786096256684492, 0.9786096256684492, 0.9786096256684492, 0.9786096256684492, 0.9786096256684492, 0.9786096256684492, 0.9786096256684492, 0.9759358288770054, 0.9759358288770054, 0.9759358288770054, 0.9759358288770054, 0.9759358288770054, 0.9759358288770054, 0.9759358288770054, 0.9759358288770054, 0.9759358288770054, 0.9759358288770054, 0.9759358288770054, 0.9759358288770054, 0.9759358288770054, 0.9759358288770054, 0.9759358288770054, 0.9759358288770054, 0.9759358288770054, 0.9759358288770054, 0.9759358288770054, 0.9759358288770054, 0.9759358288770054, 0.9759358288770054, 0.9759358288770054, 0.9759358288770054, 0.9759358288770054, 0.9759358288770054, 0.9759358288770054, 0.9759358288770054, 0.9759358288770054, 0.9759358288770054, 0.9759358288770054, 0.9759358288770054, 0.9759358288770054, 0.9759358288770054, 0.9759358288770054, 0.9732620320855615, 0.9732620320855615, 0.9732620320855615, 0.9732620320855615, 0.9732620320855615, 0.9732620320855615, 0.9732620320855615, 0.9732620320855615, 0.9732620320855615, 0.9732620320855615, 0.9732620320855615, 0.9732620320855615, 0.9705882352941176, 0.9705882352941176, 0.9705882352941176, 0.9705882352941176, 0.9705882352941176, 0.9705882352941176, 0.9705882352941176, 0.9705882352941176, 0.9705882352941176, 0.9705882352941176, 0.9705882352941176, 0.9705882352941176, 0.9705882352941176, 0.9679144385026738, 0.9679144385026738, 0.9679144385026738, 0.9679144385026738, 0.9679144385026738, 0.9679144385026738, 0.9679144385026738, 0.9679144385026738, 0.9679144385026738, 0.9679144385026738, 0.9679144385026738, 0.9679144385026738, 0.9679144385026738, 0.9679144385026738, 0.9679144385026738, 0.9652406417112299, 0.9652406417112299, 0.9652406417112299, 0.9652406417112299, 0.9652406417112299, 0.9652406417112299, 0.9652406417112299, 0.9652406417112299, 0.9652406417112299, 0.9652406417112299, 0.9652406417112299, 0.9652406417112299, 0.9652406417112299, 0.9652406417112299, 0.9652406417112299, 0.9652406417112299, 0.9652406417112299, 0.9652406417112299, 0.9652406417112299, 0.9652406417112299, 0.9652406417112299, 0.9652406417112299, 0.9625668449197861, 0.9625668449197861, 0.9625668449197861, 0.9625668449197861, 0.9625668449197861, 0.9598930481283422, 0.9598930481283422, 0.9598930481283422, 0.9598930481283422, 0.9598930481283422, 0.9598930481283422, 0.9572192513368984, 0.9545454545454546, 0.9545454545454546, 0.9545454545454546, 0.9545454545454546, 0.9545454545454546, 0.9545454545454546, 0.9545454545454546, 0.9545454545454546, 0.9545454545454546, 0.9545454545454546, 0.9545454545454546, 0.9545454545454546, 0.9545454545454546, 0.9518716577540107, 0.9518716577540107, 0.9491978609625669, 0.9491978609625669, 0.946524064171123, 0.946524064171123, 0.946524064171123, 0.946524064171123, 0.946524064171123, 0.946524064171123, 0.946524064171123, 0.946524064171123, 0.946524064171123, 0.946524064171123, 0.946524064171123, 0.946524064171123, 0.9438502673796791, 0.9438502673796791, 0.9438502673796791, 0.9411764705882353, 0.9385026737967914, 0.9385026737967914, 0.9358288770053476, 0.9358288770053476, 0.9331550802139037, 0.9331550802139037, 0.9331550802139037, 0.9331550802139037, 0.9331550802139037, 0.9331550802139037, 0.9331550802139037, 0.9331550802139037, 0.9331550802139037, 0.93048128342246, 0.93048128342246, 0.93048128342246, 0.93048128342246, 0.9278074866310161, 0.9278074866310161, 0.9278074866310161, 0.9251336898395722, 0.9251336898395722, 0.9224598930481284, 0.9224598930481284, 0.9224598930481284, 0.9224598930481284, 0.9224598930481284, 0.9224598930481284, 0.9224598930481284, 0.9224598930481284, 0.9197860962566845, 0.9197860962566845, 0.9197860962566845, 0.9197860962566845, 0.9197860962566845, 0.9171122994652406, 0.9171122994652406, 0.9171122994652406, 0.9171122994652406, 0.9144385026737968, 0.9117647058823529, 0.9117647058823529, 0.9117647058823529, 0.9117647058823529, 0.9117647058823529, 0.9117647058823529, 0.9117647058823529, 0.9090909090909091, 0.9090909090909091, 0.9090909090909091, 0.9090909090909091, 0.9090909090909091, 0.9090909090909091, 0.9090909090909091, 0.9090909090909091, 0.9090909090909091, 0.9090909090909091, 0.9064171122994652, 0.9064171122994652, 0.9064171122994652, 0.9064171122994652, 0.9064171122994652, 0.9064171122994652, 0.9064171122994652, 0.9064171122994652, 0.9064171122994652, 0.9064171122994652, 0.9064171122994652, 0.9064171122994652, 0.9064171122994652, 0.9064171122994652, 0.9064171122994652, 0.9064171122994652, 0.9064171122994652, 0.9064171122994652, 0.9064171122994652, 0.9064171122994652, 0.9064171122994652, 0.9064171122994652, 0.9064171122994652, 0.9064171122994652, 0.9064171122994652, 0.9064171122994652, 0.9064171122994652, 0.9064171122994652, 0.9064171122994652, 0.9064171122994652, 0.9064171122994652, 0.9064171122994652, 0.9064171122994652, 0.9064171122994652, 0.9037433155080213, 0.9037433155080213, 0.9037433155080213, 0.9037433155080213, 0.9037433155080213, 0.9010695187165776, 0.9010695187165776, 0.8983957219251337, 0.8983957219251337, 0.8983957219251337, 0.8983957219251337, 0.8983957219251337, 0.8983957219251337, 0.8983957219251337, 0.8983957219251337, 0.8983957219251337, 0.8983957219251337, 0.8983957219251337, 0.8983957219251337, 0.8983957219251337, 0.8983957219251337, 0.8983957219251337, 0.8957219251336899, 0.8957219251336899, 0.8957219251336899, 0.8957219251336899, 0.8957219251336899, 0.8957219251336899, 0.893048128342246, 0.893048128342246, 0.893048128342246, 0.893048128342246, 0.8903743315508021, 0.8903743315508021, 0.8903743315508021, 0.8877005347593583, 0.8877005347593583, 0.8850267379679144, 0.8850267379679144, 0.8850267379679144, 0.8823529411764706, 0.8823529411764706, 0.8823529411764706, 0.8796791443850267, 0.8770053475935828, 0.8770053475935828, 0.8770053475935828, 0.8743315508021391, 0.8743315508021391, 0.8743315508021391, 0.8743315508021391, 0.8743315508021391, 0.8743315508021391, 0.8716577540106952, 0.8716577540106952, 0.8716577540106952, 0.8716577540106952, 0.8716577540106952, 0.8689839572192514, 0.8663101604278075, 0.8663101604278075, 0.8663101604278075, 0.8663101604278075, 0.8663101604278075, 0.8663101604278075, 0.8663101604278075, 0.8663101604278075, 0.8663101604278075, 0.8636363636363636, 0.8636363636363636, 0.8636363636363636, 0.8636363636363636, 0.8636363636363636, 0.8636363636363636, 0.8636363636363636, 0.8636363636363636, 0.8636363636363636, 0.8636363636363636, 0.8636363636363636, 0.8636363636363636, 0.8636363636363636, 0.8609625668449198, 0.8609625668449198, 0.8609625668449198, 0.8609625668449198, 0.8609625668449198, 0.8609625668449198, 0.8609625668449198, 0.8582887700534759, 0.8582887700534759, 0.8582887700534759, 0.8556149732620321, 0.8529411764705882, 0.8529411764705882, 0.8529411764705882, 0.8502673796791443, 0.8502673796791443, 0.8475935828877005, 0.8475935828877005, 0.8475935828877005, 0.8475935828877005, 0.8475935828877005, 0.8449197860962567, 0.8449197860962567, 0.8422459893048129, 0.8422459893048129, 0.8422459893048129, 0.839572192513369, 0.839572192513369, 0.8368983957219251, 0.8368983957219251, 0.8368983957219251, 0.8342245989304813, 0.8342245989304813, 0.8342245989304813, 0.8342245989304813, 0.8342245989304813, 0.8315508021390374, 0.8315508021390374, 0.8315508021390374, 0.8315508021390374, 0.8315508021390374, 0.8315508021390374, 0.8315508021390374, 0.8315508021390374, 0.8315508021390374, 0.8315508021390374, 0.8315508021390374, 0.8315508021390374, 0.8315508021390374, 0.8288770053475936, 0.8288770053475936, 0.8288770053475936, 0.8262032085561497, 0.8235294117647058, 0.8235294117647058, 0.8235294117647058, 0.8235294117647058, 0.8235294117647058, 0.8235294117647058, 0.8235294117647058, 0.8235294117647058, 0.8235294117647058, 0.820855614973262, 0.8181818181818182, 0.8181818181818182, 0.8181818181818182, 0.8181818181818182, 0.8181818181818182, 0.8155080213903744, 0.8128342245989305, 0.8128342245989305, 0.8128342245989305, 0.8101604278074866, 0.8074866310160428, 0.8074866310160428, 0.8074866310160428, 0.8074866310160428, 0.8074866310160428, 0.8074866310160428, 0.8074866310160428, 0.8074866310160428, 0.8074866310160428, 0.8048128342245989, 0.8021390374331551, 0.8021390374331551, 0.8021390374331551, 0.7994652406417112, 0.7967914438502673, 0.7941176470588235, 0.7914438502673797, 0.7914438502673797, 0.7914438502673797, 0.7914438502673797, 0.7914438502673797, 0.7914438502673797, 0.7914438502673797, 0.7914438502673797, 0.7887700534759359, 0.7887700534759359, 0.7887700534759359, 0.7887700534759359, 0.786096256684492, 0.7834224598930482, 0.7834224598930482, 0.7834224598930482, 0.7834224598930482, 0.7807486631016043, 0.7780748663101604, 0.7780748663101604, 0.7780748663101604, 0.7780748663101604, 0.7780748663101604, 0.7780748663101604, 0.7780748663101604, 0.7780748663101604, 0.7780748663101604, 0.7780748663101604, 0.7780748663101604, 0.7754010695187166, 0.7727272727272727, 0.7727272727272727, 0.7727272727272727, 0.7700534759358288, 0.7700534759358288, 0.7700534759358288, 0.7700534759358288, 0.7700534759358288, 0.7700534759358288, 0.7700534759358288, 0.767379679144385, 0.7647058823529411, 0.7647058823529411, 0.7620320855614974, 0.7593582887700535, 0.7566844919786097, 0.7566844919786097, 0.7566844919786097, 0.7566844919786097, 0.7540106951871658, 0.7540106951871658, 0.7513368983957219, 0.7513368983957219, 0.7513368983957219, 0.7513368983957219, 0.7486631016042781, 0.7486631016042781, 0.7486631016042781, 0.7486631016042781, 0.7486631016042781, 0.7486631016042781, 0.7459893048128342, 0.7433155080213903, 0.7433155080213903, 0.7433155080213903, 0.7433155080213903, 0.7433155080213903, 0.7433155080213903, 0.7433155080213903, 0.7406417112299465, 0.7406417112299465, 0.7406417112299465, 0.7406417112299465, 0.7406417112299465, 0.7406417112299465, 0.7379679144385026, 0.7352941176470589, 0.732620320855615, 0.732620320855615, 0.732620320855615, 0.7299465240641712, 0.7299465240641712, 0.7299465240641712, 0.7272727272727273, 0.7272727272727273, 0.7272727272727273, 0.7245989304812834, 0.7219251336898396, 0.7219251336898396, 0.7192513368983957, 0.7165775401069518, 0.713903743315508, 0.713903743315508, 0.713903743315508, 0.713903743315508, 0.7112299465240641, 0.7112299465240641, 0.7112299465240641, 0.7085561497326203, 0.7085561497326203, 0.7058823529411765, 0.7032085561497327, 0.7005347593582888, 0.7005347593582888, 0.6978609625668449, 0.6978609625668449, 0.6978609625668449, 0.6951871657754011, 0.6925133689839572, 0.6898395721925134, 0.6898395721925134, 0.6898395721925134, 0.6898395721925134, 0.6871657754010695, 0.6871657754010695, 0.6844919786096256, 0.6818181818181818, 0.6818181818181818, 0.679144385026738, 0.679144385026738, 0.6764705882352942, 0.6737967914438503, 0.6737967914438503, 0.6711229946524064, 0.6711229946524064, 0.6684491978609626, 0.6684491978609626, 0.6684491978609626, 0.6684491978609626, 0.6657754010695187, 0.6657754010695187, 0.6631016042780749, 0.6631016042780749, 0.6631016042780749, 0.660427807486631, 0.6577540106951871, 0.6577540106951871, 0.6577540106951871, 0.6577540106951871, 0.6577540106951871, 0.6550802139037433, 0.6550802139037433, 0.6550802139037433, 0.6524064171122995, 0.6497326203208557, 0.6497326203208557, 0.6497326203208557, 0.6497326203208557, 0.6470588235294118, 0.6470588235294118, 0.6470588235294118, 0.6470588235294118, 0.6470588235294118, 0.6443850267379679, 0.6443850267379679, 0.6417112299465241, 0.6417112299465241, 0.6417112299465241, 0.6390374331550802, 0.6363636363636364, 0.6363636363636364, 0.6363636363636364, 0.6363636363636364, 0.6363636363636364, 0.6336898395721925, 0.6336898395721925, 0.6336898395721925, 0.6310160427807486, 0.6310160427807486, 0.6310160427807486, 0.6283422459893048, 0.6256684491978609, 0.6229946524064172, 0.6229946524064172, 0.6229946524064172, 0.6203208556149733, 0.6176470588235294, 0.6149732620320856, 0.6122994652406417, 0.6122994652406417, 0.6096256684491979, 0.6096256684491979, 0.6096256684491979, 0.606951871657754, 0.606951871657754, 0.6042780748663101, 0.6042780748663101, 0.6016042780748663, 0.6016042780748663, 0.6016042780748663, 0.5989304812834224, 0.5962566844919787, 0.5935828877005348, 0.5935828877005348, 0.5935828877005348, 0.5935828877005348, 0.5909090909090909, 0.5882352941176471, 0.5882352941176471, 0.5855614973262032, 0.5828877005347594, 0.5802139037433155, 0.5802139037433155, 0.5802139037433155, 0.5802139037433155, 0.5802139037433155, 0.5775401069518716, 0.5775401069518716, 0.5775401069518716, 0.5748663101604278, 0.5748663101604278, 0.5721925133689839, 0.5721925133689839, 0.56951871657754, 0.56951871657754, 0.56951871657754, 0.5668449197860963, 0.5668449197860963, 0.5668449197860963, 0.5641711229946524, 0.5614973262032086, 0.5614973262032086, 0.5588235294117647, 0.5588235294117647, 0.5561497326203209, 0.553475935828877, 0.5508021390374331, 0.5481283422459893, 0.5454545454545454, 0.5427807486631016, 0.5427807486631016, 0.5427807486631016, 0.5427807486631016, 0.5427807486631016, 0.5427807486631016, 0.5401069518716578, 0.5374331550802139, 0.5347593582887701, 0.5320855614973262, 0.5294117647058824, 0.5267379679144385, 0.5240641711229946, 0.5240641711229946, 0.5213903743315508, 0.5213903743315508, 0.5187165775401069, 0.5187165775401069, 0.5187165775401069, 0.5187165775401069, 0.5187165775401069, 0.516042780748663, 0.516042780748663, 0.516042780748663, 0.5133689839572193, 0.5133689839572193, 0.5106951871657754, 0.5080213903743316, 0.5080213903743316, 0.5080213903743316, 0.5080213903743316, 0.5080213903743316, 0.5053475935828877, 0.5053475935828877, 0.5026737967914439, 0.5, 0.49732620320855614, 0.4946524064171123, 0.4919786096256685, 0.4893048128342246, 0.4893048128342246, 0.4893048128342246, 0.48663101604278075, 0.4839572192513369, 0.4839572192513369, 0.48128342245989303, 0.4786096256684492, 0.47593582887700536, 0.47593582887700536, 0.4732620320855615, 0.4732620320855615, 0.47058823529411764, 0.47058823529411764, 0.47058823529411764, 0.4679144385026738, 0.4679144385026738, 0.46524064171123, 0.4625668449197861, 0.4625668449197861, 0.4625668449197861, 0.45989304812834225, 0.45989304812834225, 0.45989304812834225, 0.4572192513368984, 0.45454545454545453, 0.45454545454545453, 0.45454545454545453, 0.45454545454545453, 0.45187165775401067, 0.45187165775401067, 0.44919786096256686, 0.44919786096256686, 0.44919786096256686, 0.44919786096256686, 0.44919786096256686, 0.44919786096256686, 0.446524064171123, 0.44385026737967914, 0.44385026737967914, 0.4411764705882353, 0.4411764705882353, 0.4385026737967914, 0.4358288770053476, 0.43315508021390375, 0.4304812834224599, 0.4304812834224599, 0.42780748663101603, 0.42780748663101603, 0.42780748663101603, 0.42513368983957217, 0.42245989304812837, 0.4197860962566845, 0.41711229946524064, 0.4144385026737968, 0.4144385026737968, 0.4117647058823529, 0.4090909090909091, 0.40641711229946526, 0.40641711229946526, 0.4037433155080214, 0.40106951871657753, 0.3983957219251337, 0.3983957219251337, 0.3983957219251337, 0.39572192513368987, 0.39572192513368987, 0.39572192513368987, 0.393048128342246, 0.393048128342246, 0.393048128342246, 0.393048128342246, 0.39037433155080214, 0.39037433155080214, 0.39037433155080214, 0.3877005347593583, 0.3877005347593583, 0.3850267379679144, 0.38235294117647056, 0.37967914438502676, 0.3770053475935829, 0.37433155080213903, 0.3716577540106952, 0.3689839572192513, 0.3689839572192513, 0.3663101604278075, 0.36363636363636365, 0.36363636363636365, 0.36363636363636365, 0.3609625668449198, 0.3609625668449198, 0.3609625668449198, 0.3582887700534759, 0.35561497326203206, 0.35561497326203206, 0.35561497326203206, 0.35294117647058826, 0.3502673796791444, 0.34759358288770054, 0.3449197860962567, 0.3422459893048128, 0.3422459893048128, 0.339572192513369, 0.339572192513369, 0.339572192513369, 0.339572192513369, 0.33689839572192515, 0.3342245989304813, 0.3315508021390374, 0.32887700534759357, 0.32887700534759357, 0.32887700534759357, 0.32887700534759357, 0.32887700534759357, 0.32620320855614976, 0.3235294117647059, 0.3235294117647059, 0.3235294117647059, 0.32085561497326204, 0.3181818181818182, 0.3155080213903743, 0.31283422459893045, 0.31283422459893045, 0.31016042780748665, 0.3074866310160428, 0.3048128342245989, 0.30213903743315507, 0.30213903743315507, 0.2994652406417112, 0.2994652406417112, 0.2967914438502674, 0.29411764705882354, 0.29411764705882354, 0.2914438502673797, 0.2887700534759358, 0.28609625668449196, 0.28342245989304815, 0.2807486631016043, 0.2807486631016043, 0.2807486631016043, 0.27807486631016043, 0.27540106951871657, 0.27540106951871657, 0.2727272727272727, 0.2700534759358289, 0.2700534759358289, 0.26737967914438504, 0.26737967914438504, 0.2647058823529412, 0.2620320855614973, 0.25935828877005346, 0.25668449197860965, 0.2540106951871658, 0.2540106951871658, 0.2540106951871658, 0.2540106951871658, 0.25133689839572193, 0.24866310160427807, 0.24598930481283424, 0.24331550802139038, 0.24064171122994651, 0.23796791443850268, 0.23796791443850268, 0.23796791443850268, 0.23796791443850268, 0.23529411764705882, 0.23529411764705882, 0.232620320855615, 0.22994652406417113, 0.22727272727272727, 0.22727272727272727, 0.22727272727272727, 0.22459893048128343, 0.22459893048128343, 0.22459893048128343, 0.22459893048128343, 0.22192513368983957, 0.2192513368983957, 0.21657754010695188, 0.21390374331550802, 0.21122994652406418, 0.21122994652406418, 0.21122994652406418, 0.21122994652406418, 0.21122994652406418, 0.20855614973262032, 0.20588235294117646, 0.20588235294117646, 0.20588235294117646, 0.20320855614973263, 0.20320855614973263, 0.20053475935828877, 0.19786096256684493, 0.19786096256684493, 0.19786096256684493, 0.19518716577540107, 0.1925133689839572, 0.1925133689839572, 0.1925133689839572, 0.1925133689839572, 0.1925133689839572, 0.1925133689839572, 0.1925133689839572, 0.18983957219251338, 0.18716577540106952, 0.18449197860962566, 0.18181818181818182, 0.17914438502673796, 0.17647058823529413, 0.17379679144385027, 0.1711229946524064, 0.16844919786096257, 0.16844919786096257, 0.1657754010695187, 0.16310160427807488, 0.16042780748663102, 0.15775401069518716, 0.15775401069518716, 0.15508021390374332, 0.15240641711229946, 0.15240641711229946, 0.15240641711229946, 0.1497326203208556, 0.1497326203208556, 0.14705882352941177, 0.1443850267379679, 0.14171122994652408, 0.13903743315508021, 0.13636363636363635, 0.13368983957219252, 0.13101604278074866, 0.12834224598930483, 0.12566844919786097, 0.12299465240641712, 0.12032085561497326, 0.12032085561497326, 0.11764705882352941, 0.11497326203208556, 0.11497326203208556, 0.11229946524064172, 0.10962566844919786, 0.10695187165775401, 0.10427807486631016, 0.10427807486631016, 0.10427807486631016, 0.10160427807486631, 0.09893048128342247, 0.0962566844919786, 0.09358288770053476, 0.09358288770053476, 0.09090909090909091, 0.08823529411764706, 0.0855614973262032, 0.08288770053475936, 0.08021390374331551, 0.07754010695187166, 0.07754010695187166, 0.0748663101604278, 0.07219251336898395, 0.06951871657754011, 0.06684491978609626, 0.06417112299465241, 0.06417112299465241, 0.06417112299465241, 0.06149732620320856, 0.058823529411764705, 0.05614973262032086, 0.053475935828877004, 0.05080213903743316, 0.0481283422459893, 0.045454545454545456, 0.0427807486631016, 0.0427807486631016, 0.040106951871657755, 0.0374331550802139, 0.0374331550802139, 0.034759358288770054, 0.03208556149732621, 0.03208556149732621, 0.029411764705882353, 0.026737967914438502, 0.02406417112299465, 0.0213903743315508, 0.0213903743315508, 0.01871657754010695, 0.016042780748663103, 0.016042780748663103, 0.013368983957219251, 0.0106951871657754, 0.008021390374331552, 0.0053475935828877, 0.00267379679144385, 0.0], \"y\": [0.30258899676375406, 0.3020242914979757, 0.30226904376012964, 0.30251419302514193, 0.3027597402597403, 0.30300568643379366, 0.3032520325203252, 0.30349877949552484, 0.30374592833876224, 0.30399348003259985, 0.30424143556280586, 0.30448979591836733, 0.3047385620915033, 0.30498773507767785, 0.30523731587561376, 0.30548730548730546, 0.30573770491803276, 0.3059885151763741, 0.30623973727422005, 0.3064913722267872, 0.3067434210526316, 0.3069958847736626, 0.30724876441515653, 0.3075020610057708, 0.30775577557755773, 0.30800990916597853, 0.3082644628099174, 0.30851943755169564, 0.3087748344370861, 0.30903065451532724, 0.3092868988391376, 0.3095435684647303, 0.30980066445182725, 0.3100581878636742, 0.3103161397670549, 0.3105745212323064, 0.31083333333333335, 0.311092577147623, 0.3113522537562604, 0.3116123642439432, 0.31187290969899667, 0.31213389121338914, 0.31239530988274705, 0.3126571668063705, 0.31291946308724833, 0.3131821998320739, 0.3134453781512605, 0.3137089991589571, 0.31397306397306396, 0.3142375737152485, 0.3145025295109612, 0.31476793248945145, 0.31503378378378377, 0.3153000845308538, 0.3155668358714044, 0.31583403895004236, 0.31610169491525425, 0.31636980491942324, 0.3166383701188455, 0.3169073916737468, 0.3171768707482993, 0.3174468085106383, 0.31771720613287907, 0.31798806479113384, 0.318259385665529, 0.318531169940222, 0.3188034188034188, 0.31907613344739094, 0.3193493150684932, 0.3196229648671808, 0.31989708404802747, 0.3201716738197425, 0.32044673539518903, 0.3207222699914015, 0.32099827882960413, 0.32127476313522824, 0.32155172413793104, 0.32182916307161347, 0.3221070811744387, 0.32238547968885045, 0.3226643598615917, 0.3229437229437229, 0.32322357019064124, 0.32350390286209885, 0.3237847222222222, 0.32406602953953084, 0.3243478260869565, 0.32463011314186246, 0.3249128919860627, 0.32519616390584133, 0.3254799301919721, 0.325764192139738, 0.32604895104895104, 0.326334208223972, 0.3266199649737303, 0.32690622261174407, 0.32719298245614037, 0.32748024582967517, 0.327768014059754, 0.3280562884784521, 0.3283450704225352, 0.32863436123348017, 0.3289241622574956, 0.3292144748455428, 0.3295053003533569, 0.3297966401414677, 0.33008849557522124, 0.32949512843224094, 0.32978723404255317, 0.3300798580301686, 0.33037300177619894, 0.33066666666666666, 0.3309608540925267, 0.3312555654496883, 0.3315508021390374, 0.33184656556645853, 0.33214285714285713, 0.3324396782841823, 0.33273703041144903, 0.333034914950761, 0.3333333333333333, 0.33363228699551567, 0.3339317773788151, 0.33423180592991913, 0.3345323741007194, 0.33483348334833485, 0.33513513513513515, 0.33543733092876465, 0.33574007220216606, 0.33604336043360433, 0.33634719710669075, 0.33665158371040727, 0.33695652173913043, 0.3372620126926564, 0.33756805807622503, 0.33787465940054495, 0.3381818181818182, 0.33848953594176523, 0.33879781420765026, 0.3391066545123063, 0.33941605839416056, 0.33972602739726027, 0.340036563071298, 0.3403476669716377, 0.34065934065934067, 0.34097158570119157, 0.3412844036697248, 0.3415977961432507, 0.34191176470588236, 0.3422263109475621, 0.3425414364640884, 0.34285714285714286, 0.34317343173431736, 0.34349030470914127, 0.3438077634011091, 0.3441258094357077, 0.34444444444444444, 0.3447636700648749, 0.3450834879406308, 0.34540389972144847, 0.34572490706319703, 0.34604651162790695, 0.3463687150837989, 0.34575955265610436, 0.3460820895522388, 0.3464052287581699, 0.3467289719626168, 0.3470533208606174, 0.34737827715355807, 0.3477038425492034, 0.34803001876172607, 0.3483568075117371, 0.34868421052631576, 0.34901222953904043, 0.3493408662900188, 0.34967012252591895, 0.35, 0.35033050047214354, 0.3506616257088847, 0.3509933774834437, 0.35132575757575757, 0.35165876777251187, 0.3510436432637571, 0.3513770180436847, 0.3517110266159696, 0.3520456707897241, 0.3523809523809524, 0.35271687321258344, 0.3530534351145038, 0.3533906399235912, 0.35372848948374763, 0.35406698564593303, 0.3544061302681992, 0.3547459252157239, 0.3550863723608445, 0.3554274735830932, 0.3557692307692308, 0.35611164581328203, 0.35645472061657035, 0.35679845708775315, 0.35714285714285715, 0.357487922705314, 0.3578336557059961, 0.35818005808325265, 0.35852713178294576, 0.3588748787584869, 0.3592233009708738, 0.3595724003887269, 0.35992217898832685, 0.3602726387536514, 0.36062378167641324, 0.36097560975609755, 0.361328125, 0.3616813294232649, 0.36203522504892366, 0.3623898139079334, 0.3627450980392157, 0.3631010794896958, 0.36345776031434185, 0.3638151425762045, 0.3631889763779528, 0.36354679802955664, 0.363905325443787, 0.36426456071076013, 0.36462450592885376, 0.3649851632047478, 0.36534653465346534, 0.3657086223984143, 0.36607142857142855, 0.36643495531281034, 0.3667992047713718, 0.36716417910447763, 0.36752988047808766, 0.3678963110667996, 0.36826347305389223, 0.36863136863136864, 0.369, 0.36936936936936937, 0.3697394789579158, 0.37011033099297896, 0.3704819277108434, 0.3708542713567839, 0.37122736418511065, 0.3716012084592145, 0.3719758064516129, 0.37235116044399597, 0.37272727272727274, 0.3731041456016178, 0.3734817813765182, 0.3738601823708207, 0.3742393509127789, 0.3746192893401015, 0.37398373983739835, 0.3743641912512716, 0.37474541751527496, 0.3751274209989806, 0.37448979591836734, 0.3748723186925434, 0.37525562372188137, 0.37461617195496416, 0.375, 0.37538461538461537, 0.3757700205338809, 0.3761562178828366, 0.3765432098765432, 0.3769309989701339, 0.37731958762886597, 0.37770897832817335, 0.378099173553719, 0.3784901758014478, 0.37888198757763975, 0.37927461139896373, 0.3796680497925311, 0.3790238836967809, 0.3794178794178794, 0.3798126951092612, 0.3802083333333333, 0.3806047966631908, 0.38100208768267224, 0.38140020898641586, 0.3817991631799163, 0.38219895287958117, 0.38259958071278827, 0.3830010493179433, 0.38340336134453784, 0.38380651945320715, 0.38421052631578945, 0.38461538461538464, 0.3850210970464135, 0.38542766631467795, 0.3858350951374207, 0.3862433862433862, 0.3866525423728814, 0.3870625662778367, 0.3874734607218684, 0.38788522848034007, 0.3882978723404255, 0.3887113951011715, 0.38912579957356075, 0.3895410885805763, 0.38995726495726496, 0.39037433155080214, 0.39079229122055675, 0.3912111468381565, 0.3916309012875536, 0.3920515574650913, 0.3924731182795699, 0.39289558665231433, 0.3922413793103448, 0.3926645091693635, 0.3930885529157667, 0.3935135135135135, 0.3939393939393939, 0.39436619718309857, 0.3947939262472885, 0.3952225841476656, 0.39565217391304347, 0.39608269858541895, 0.39651416122004357, 0.3969465648854962, 0.3962882096069869, 0.39672131147540984, 0.3971553610503282, 0.39759036144578314, 0.3980263157894737, 0.39846322722283206, 0.3989010989010989, 0.39933993399339934, 0.3997797356828194, 0.4002205071664829, 0.40066225165562913, 0.4011049723756906, 0.40154867256637167, 0.4008859357696567, 0.401330376940133, 0.4017758046614872, 0.4022222222222222, 0.40266963292547275, 0.40311804008908686, 0.4035674470457079, 0.40401785714285715, 0.4044692737430168, 0.40492170022371365, 0.4053751399776036, 0.40582959641255606, 0.4062850729517396, 0.4067415730337079, 0.40719910011248595, 0.40653153153153154, 0.4069898534385569, 0.4074492099322799, 0.40790960451977404, 0.4083710407239819, 0.4088335220838052, 0.409297052154195, 0.4097616345062429, 0.4102272727272727, 0.41069397042093286, 0.41116173120728927, 0.41163055872291904, 0.4121004566210046, 0.4125714285714286, 0.41304347826086957, 0.413516609392898, 0.4139908256880734, 0.41446613088404133, 0.4149425287356322, 0.4154200230149597, 0.41589861751152074, 0.41637831603229525, 0.41570438799076215, 0.4161849710982659, 0.4166666666666667, 0.4171494785631518, 0.4176334106728538, 0.4169570267131243, 0.4174418604651163, 0.4179278230500582, 0.4184149184149184, 0.41890315052508753, 0.41939252336448596, 0.41871345029239765, 0.4180327868852459, 0.41852286049237986, 0.41901408450704225, 0.4195064629847238, 0.42, 0.4204946996466431, 0.4209905660377358, 0.4214876033057851, 0.4219858156028369, 0.42248520710059173, 0.42298578199052134, 0.4234875444839858, 0.42399049881235157, 0.4233055885850178, 0.4238095238095238, 0.4231227651966627, 0.4236276849642005, 0.4229390681003584, 0.423444976076555, 0.4239520958083832, 0.4244604316546763, 0.4249699879951981, 0.4254807692307692, 0.4259927797833935, 0.42650602409638555, 0.4270205066344994, 0.427536231884058, 0.4280532043530834, 0.42857142857142855, 0.42787878787878786, 0.42839805825242716, 0.4289185905224787, 0.4282238442822384, 0.42752740560292324, 0.42804878048780487, 0.42735042735042733, 0.4278728606356968, 0.42717258261933905, 0.42769607843137253, 0.42822085889570555, 0.42874692874692877, 0.42927429274292744, 0.42980295566502463, 0.43033292231812575, 0.4308641975308642, 0.43139678615574784, 0.4306930693069307, 0.4312267657992565, 0.4317617866004963, 0.4322981366459627, 0.43159203980099503, 0.43212951432129515, 0.43266832917705733, 0.43196004993757803, 0.4325, 0.43178973717146435, 0.4323308270676692, 0.4328732747804266, 0.4334170854271357, 0.4339622641509434, 0.4345088161209068, 0.43505674653215637, 0.4356060606060606, 0.43489254108723135, 0.43544303797468353, 0.43599493029150826, 0.4365482233502538, 0.4371029224904701, 0.43638676844783714, 0.4369426751592357, 0.4375, 0.438058748403576, 0.4373401534526854, 0.43661971830985913, 0.4371794871794872, 0.43774069319640563, 0.4383033419023136, 0.43886743886743884, 0.43943298969072164, 0.44, 0.4392764857881137, 0.4398447606727037, 0.44041450777202074, 0.4409857328145266, 0.44155844155844154, 0.44213263979193757, 0.4427083333333333, 0.44328552803129073, 0.44386422976501305, 0.4444444444444444, 0.443717277486911, 0.4442988204456094, 0.4448818897637795, 0.4454664914586071, 0.44605263157894737, 0.44664031620553357, 0.4472295514511873, 0.4478203434610304, 0.44841269841269843, 0.44900662251655626, 0.4496021220159151, 0.450199203187251, 0.4507978723404255, 0.45139813581890814, 0.452, 0.45260347129506007, 0.4532085561497326, 0.4538152610441767, 0.4544235924932976, 0.45503355704697984, 0.45564516129032256, 0.45625841184387617, 0.4568733153638814, 0.4574898785425101, 0.4581081081081081, 0.4587280108254398, 0.45934959349593496, 0.4599728629579376, 0.46059782608695654, 0.46122448979591835, 0.46185286103542234, 0.46248294679399726, 0.46311475409836067, 0.4637482900136799, 0.46301369863013697, 0.46364883401920437, 0.4642857142857143, 0.4649243466299862, 0.465564738292011, 0.46482758620689657, 0.4654696132596685, 0.46473029045643155, 0.46537396121883656, 0.46601941747572817, 0.4666666666666667, 0.4673157162726008, 0.467966573816156, 0.4686192468619247, 0.4692737430167598, 0.4699300699300699, 0.47058823529411764, 0.47124824684431976, 0.47191011235955055, 0.47257383966244726, 0.4732394366197183, 0.47390691114245415, 0.4731638418079096, 0.4738330975954738, 0.4745042492917847, 0.475177304964539, 0.4758522727272727, 0.47652916073968704, 0.4757834757834758, 0.4764621968616263, 0.47714285714285715, 0.47782546494992845, 0.47707736389684813, 0.47776183644189385, 0.47844827586206895, 0.4776978417266187, 0.4783861671469741, 0.47763347763347763, 0.47832369942196534, 0.47901591895803186, 0.4782608695652174, 0.47895500725689405, 0.4796511627906977, 0.47889374090247455, 0.478134110787172, 0.47883211678832116, 0.47953216374269003, 0.4787701317715959, 0.47947214076246336, 0.4801762114537445, 0.4808823529411765, 0.48159057437407954, 0.4823008849557522, 0.4815361890694239, 0.4822485207100592, 0.482962962962963, 0.4836795252225519, 0.48439821693907875, 0.4836309523809524, 0.4828614008941878, 0.4835820895522388, 0.484304932735426, 0.48502994011976047, 0.48575712143928035, 0.4864864864864865, 0.48721804511278194, 0.4879518072289157, 0.48868778280542985, 0.4879154078549849, 0.4886535552193646, 0.4893939393939394, 0.49013657056145676, 0.4908814589665654, 0.4916286149162861, 0.4923780487804878, 0.49312977099236643, 0.4938837920489297, 0.4946401225114854, 0.495398773006135, 0.49615975422427033, 0.4969230769230769, 0.49614791987673346, 0.49691358024691357, 0.49768160741885625, 0.4984520123839009, 0.4992248062015504, 0.5, 0.5007776049766719, 0.5, 0.500780031201248, 0.5015625, 0.5007824726134585, 0.5, 0.5007849293563579, 0.5015723270440252, 0.5007874015748032, 0.501577287066246, 0.5007898894154819, 0.5015822784810127, 0.5023771790808241, 0.5031746031746032, 0.5039745627980922, 0.5031847133757962, 0.5039872408293461, 0.5031948881789138, 0.504, 0.5048076923076923, 0.5040128410914928, 0.5048231511254019, 0.5040257648953301, 0.5048387096774194, 0.505654281098546, 0.5048543689320388, 0.5056726094003241, 0.5064935064935064, 0.5073170731707317, 0.50814332247557, 0.5073409461663948, 0.5081699346405228, 0.5090016366612111, 0.5098360655737705, 0.5106732348111659, 0.5115131578947368, 0.5123558484349259, 0.5132013201320133, 0.5140495867768595, 0.5149006622516556, 0.5157545605306799, 0.5166112956810631, 0.5174708818635607, 0.5166666666666667, 0.5175292153589316, 0.5183946488294314, 0.5175879396984925, 0.5167785234899329, 0.5176470588235295, 0.5185185185185185, 0.5193929173693086, 0.5202702702702703, 0.5211505922165821, 0.5220338983050847, 0.5229202037351444, 0.5238095238095238, 0.5229982964224872, 0.5221843003412969, 0.5230769230769231, 0.523972602739726, 0.5248713550600344, 0.5257731958762887, 0.5249569707401033, 0.5241379310344828, 0.5250431778929189, 0.5259515570934256, 0.5251299826689775, 0.5243055555555556, 0.5252173913043479, 0.5261324041811847, 0.5270506108202443, 0.527972027972028, 0.5288966725043783, 0.5298245614035088, 0.5307557117750439, 0.5316901408450704, 0.5308641975308642, 0.5300353356890459, 0.5309734513274337, 0.5319148936170213, 0.5310834813499112, 0.5302491103202847, 0.5294117647058824, 0.5285714285714286, 0.5295169946332737, 0.5304659498207885, 0.5314183123877917, 0.5323741007194245, 0.5333333333333333, 0.5342960288808665, 0.5352622061482821, 0.5344202898550725, 0.5353901996370236, 0.5363636363636364, 0.5373406193078324, 0.5364963503649635, 0.5356489945155393, 0.5366300366300366, 0.5376146788990825, 0.5386029411764706, 0.5377532228360957, 0.5369003690036901, 0.5378927911275416, 0.5388888888888889, 0.5398886827458256, 0.5408921933085502, 0.5418994413407822, 0.542910447761194, 0.5439252336448598, 0.5449438202247191, 0.5459662288930581, 0.5469924812030075, 0.5461393596986818, 0.5452830188679245, 0.5463137996219282, 0.5473484848484849, 0.5464895635673624, 0.5475285171102662, 0.5485714285714286, 0.549618320610687, 0.5506692160611855, 0.5517241379310345, 0.5527831094049904, 0.551923076923077, 0.5510597302504817, 0.5521235521235521, 0.5512572533849129, 0.5503875968992248, 0.5495145631067961, 0.5505836575875487, 0.5516569200779727, 0.552734375, 0.5518590998043053, 0.5529411764705883, 0.5520628683693517, 0.5531496062992126, 0.5542406311637081, 0.5553359683794467, 0.5544554455445545, 0.5555555555555556, 0.5566600397614314, 0.5577689243027888, 0.5588822355289421, 0.56, 0.5591182364729459, 0.5582329317269076, 0.5593561368209256, 0.5604838709677419, 0.5616161616161616, 0.562753036437247, 0.563894523326572, 0.5650406504065041, 0.5641547861507128, 0.5653061224489796, 0.5664621676891616, 0.5676229508196722, 0.5687885010266941, 0.5699588477366255, 0.5690721649484536, 0.5681818181818182, 0.567287784679089, 0.5684647302904564, 0.5696465696465697, 0.56875, 0.569937369519833, 0.5711297071129707, 0.570230607966457, 0.5714285714285714, 0.5726315789473684, 0.5717299578059072, 0.5708245243128964, 0.5720338983050848, 0.5711252653927813, 0.5702127659574469, 0.5692963752665245, 0.5705128205128205, 0.5717344753747323, 0.572961373390558, 0.5720430107526882, 0.5732758620689655, 0.5745140388768899, 0.5735930735930735, 0.5748373101952278, 0.5739130434782609, 0.5729847494553377, 0.5720524017467249, 0.5733041575492341, 0.5723684210526315, 0.5736263736263736, 0.5748898678414097, 0.5739514348785872, 0.5730088495575221, 0.5720620842572062, 0.5733333333333334, 0.5746102449888641, 0.5758928571428571, 0.5749440715883669, 0.5762331838565022, 0.5752808988764045, 0.5743243243243243, 0.5756207674943566, 0.5746606334841629, 0.5759637188208617, 0.575, 0.5740318906605922, 0.5753424657534246, 0.5743707093821511, 0.5756880733944955, 0.5747126436781609, 0.576036866359447, 0.5773672055427251, 0.5787037037037037, 0.5777262180974478, 0.5790697674418605, 0.578088578088578, 0.5794392523364486, 0.5807962529274004, 0.57981220657277, 0.5788235294117647, 0.5801886792452831, 0.5815602836879432, 0.5829383886255924, 0.5843230403800475, 0.5833333333333334, 0.5847255369928401, 0.5861244019138756, 0.5851318944844125, 0.5841346153846154, 0.5855421686746988, 0.5869565217391305, 0.5883777239709443, 0.587378640776699, 0.5888077858880778, 0.5902439024390244, 0.5916870415647921, 0.5931372549019608, 0.5921375921375921, 0.5935960591133005, 0.5925925925925926, 0.594059405940594, 0.5955334987593052, 0.5945273631840796, 0.5935162094763092, 0.595, 0.5964912280701754, 0.5979899497487438, 0.5994962216624685, 0.5984848484848485, 0.6, 0.6015228426395939, 0.6005089058524173, 0.6020408163265306, 0.6035805626598465, 0.6025641025641025, 0.6015424164524421, 0.6005154639175257, 0.6020671834625323, 0.6036269430051814, 0.6025974025974026, 0.6015625, 0.6005221932114883, 0.599476439790576, 0.6010498687664042, 0.6, 0.6015831134564644, 0.6031746031746031, 0.6021220159151194, 0.6037234042553191, 0.6026666666666667, 0.6042780748663101, 0.6032171581769437, 0.6048387096774194, 0.6064690026954178, 0.6054054054054054, 0.6043360433604336, 0.6032608695652174, 0.6049046321525886, 0.6065573770491803, 0.6082191780821918, 0.6071428571428571, 0.6060606060606061, 0.6077348066298343, 0.6066481994459834, 0.6055555555555555, 0.6044568245125348, 0.6061452513966481, 0.6078431372549019, 0.6095505617977528, 0.6112676056338028, 0.6101694915254238, 0.6118980169971672, 0.6136363636363636, 0.6125356125356125, 0.6142857142857143, 0.6131805157593123, 0.6149425287356322, 0.6138328530259366, 0.615606936416185, 0.6173913043478261, 0.6162790697674418, 0.6180758017492711, 0.6198830409356725, 0.6187683284457478, 0.6176470588235294, 0.6194690265486725, 0.6183431952662722, 0.6201780415430267, 0.6190476190476191, 0.6179104477611941, 0.6167664670658682, 0.6156156156156156, 0.6144578313253012, 0.6132930513595166, 0.6151515151515151, 0.6170212765957447, 0.6189024390243902, 0.6207951070336392, 0.6226993865030674, 0.6215384615384615, 0.6203703703703703, 0.6191950464396285, 0.6180124223602484, 0.616822429906542, 0.615625, 0.6144200626959248, 0.6163522012578616, 0.6151419558359621, 0.6170886075949367, 0.6158730158730159, 0.6178343949044586, 0.6198083067092651, 0.6217948717948718, 0.6237942122186495, 0.6225806451612903, 0.6245954692556634, 0.6266233766233766, 0.6254071661237784, 0.6274509803921569, 0.6262295081967213, 0.625, 0.6270627062706271, 0.6291390728476821, 0.6312292358803987, 0.6333333333333333, 0.6321070234113713, 0.6342281879194631, 0.632996632996633, 0.6317567567567568, 0.6305084745762712, 0.6292517006802721, 0.6279863481228669, 0.6267123287671232, 0.6288659793814433, 0.6310344827586207, 0.629757785467128, 0.6284722222222222, 0.6306620209059234, 0.6293706293706294, 0.6280701754385964, 0.6267605633802817, 0.6289752650176679, 0.6276595744680851, 0.6298932384341637, 0.6285714285714286, 0.6308243727598566, 0.6330935251798561, 0.631768953068592, 0.6340579710144928, 0.6327272727272727, 0.6313868613138686, 0.6336996336996337, 0.6360294117647058, 0.6346863468634686, 0.6370370370370371, 0.6394052044609665, 0.6380597014925373, 0.6367041198501873, 0.6390977443609023, 0.6415094339622641, 0.6439393939393939, 0.6425855513307985, 0.6450381679389313, 0.6436781609195402, 0.6461538461538462, 0.6486486486486487, 0.6511627906976745, 0.6536964980544747, 0.65625, 0.6549019607843137, 0.6535433070866141, 0.6561264822134387, 0.6547619047619048, 0.6573705179282868, 0.656, 0.6546184738955824, 0.6532258064516129, 0.6518218623481782, 0.6544715447154471, 0.6530612244897959, 0.6557377049180327, 0.6584362139917695, 0.6570247933884298, 0.6556016597510373, 0.6541666666666667, 0.6527196652719666, 0.6512605042016807, 0.6540084388185654, 0.652542372881356, 0.6510638297872341, 0.6495726495726496, 0.6523605150214592, 0.6508620689655172, 0.6493506493506493, 0.6478260869565218, 0.6506550218340611, 0.6535087719298246, 0.6519823788546255, 0.6548672566371682, 0.6577777777777778, 0.65625, 0.6591928251121076, 0.6621621621621622, 0.665158371040724, 0.6636363636363637, 0.6666666666666666, 0.6697247706422018, 0.6682027649769585, 0.6712962962962963, 0.6697674418604651, 0.6682242990654206, 0.6666666666666666, 0.6650943396226415, 0.6635071090047393, 0.6619047619047619, 0.6602870813397129, 0.6634615384615384, 0.6618357487922706, 0.6601941747572816, 0.6634146341463415, 0.6666666666666666, 0.6650246305418719, 0.6683168316831684, 0.6716417910447762, 0.67, 0.6683417085427136, 0.6717171717171717, 0.6751269035532995, 0.673469387755102, 0.6717948717948717, 0.6701030927835051, 0.6683937823834197, 0.6666666666666666, 0.6701570680628273, 0.6684210526315789, 0.671957671957672, 0.675531914893617, 0.679144385026738, 0.6774193548387096, 0.6756756756756757, 0.6739130434782609, 0.6721311475409836, 0.6758241758241759, 0.6795580110497238, 0.6833333333333333, 0.6871508379888268, 0.6853932584269663, 0.6836158192090396, 0.6875, 0.6914285714285714, 0.6896551724137931, 0.6878612716763006, 0.686046511627907, 0.6842105263157895, 0.6882352941176471, 0.6863905325443787, 0.6845238095238095, 0.6826347305389222, 0.6807228915662651, 0.6848484848484848, 0.6829268292682927, 0.6871165644171779, 0.6851851851851852, 0.6832298136645962, 0.6875, 0.6855345911949685, 0.6835443037974683, 0.6815286624203821, 0.6794871794871795, 0.6774193548387096, 0.6818181818181818, 0.6862745098039216, 0.6842105263157895, 0.6821192052980133, 0.6866666666666666, 0.6845637583892618, 0.6824324324324325, 0.6870748299319728, 0.684931506849315, 0.6896551724137931, 0.6875, 0.6853146853146853, 0.6830985915492958, 0.6808510638297872, 0.6785714285714286, 0.6834532374100719, 0.6884057971014492, 0.6934306569343066, 0.6911764705882353, 0.6888888888888889, 0.6865671641791045, 0.6842105263157895, 0.6818181818181818, 0.6793893129770993, 0.6846153846153846, 0.689922480620155, 0.6953125, 0.6929133858267716, 0.6984126984126984, 0.696, 0.6935483870967742, 0.6910569105691057, 0.6967213114754098, 0.7024793388429752, 0.7, 0.7058823529411765, 0.711864406779661, 0.717948717948718, 0.7155172413793104, 0.7130434782608696, 0.7105263157894737, 0.7079646017699115, 0.7053571428571429, 0.7117117117117117, 0.7181818181818181, 0.7247706422018348, 0.7314814814814815, 0.7289719626168224, 0.7264150943396226, 0.7333333333333333, 0.7403846153846154, 0.7378640776699029, 0.7450980392156863, 0.7425742574257426, 0.74, 0.7474747474747475, 0.7551020408163265, 0.7525773195876289, 0.75, 0.7578947368421053, 0.7659574468085106, 0.7741935483870968, 0.782608695652174, 0.7912087912087912, 0.8, 0.797752808988764, 0.7954545454545454, 0.7931034482758621, 0.7906976744186046, 0.788235294117647, 0.7857142857142857, 0.7831325301204819, 0.7804878048780488, 0.7777777777777778, 0.7875, 0.7848101265822784, 0.782051282051282, 0.7792207792207793, 0.7763157894736842, 0.7866666666666666, 0.7837837837837838, 0.7808219178082192, 0.7916666666666666, 0.8028169014084507, 0.8, 0.8115942028985508, 0.8088235294117647, 0.8059701492537313, 0.803030303030303, 0.8, 0.796875, 0.7936507936507936, 0.7903225806451613, 0.7868852459016393, 0.7833333333333333, 0.7796610169491526, 0.7758620689655172, 0.7894736842105263, 0.7857142857142857, 0.7818181818181819, 0.7962962962962963, 0.7924528301886793, 0.7884615384615384, 0.7843137254901961, 0.78, 0.7959183673469388, 0.8125, 0.8085106382978723, 0.8043478260869565, 0.8, 0.7954545454545454, 0.813953488372093, 0.8095238095238095, 0.8048780487804879, 0.8, 0.7948717948717948, 0.7894736842105263, 0.7837837837837838, 0.8055555555555556, 0.8, 0.7941176470588235, 0.7878787878787878, 0.78125, 0.7741935483870968, 0.8, 0.8275862068965517, 0.8214285714285714, 0.8148148148148148, 0.8076923076923077, 0.8, 0.7916666666666666, 0.782608695652174, 0.7727272727272727, 0.7619047619047619, 0.8, 0.7894736842105263, 0.7777777777777778, 0.8235294117647058, 0.8125, 0.8, 0.8571428571428571, 0.8461538461538461, 0.8333333333333334, 0.8181818181818182, 0.8, 0.8888888888888888, 0.875, 0.8571428571428571, 1.0, 1.0, 1.0, 1.0, 1.0, 1.0, 1.0]}, {\"mode\": \"lines\", \"name\": \"KNN\", \"type\": \"scatter\", \"x\": [1.0, 0.9705882352941176, 0.9010695187165776, 0.8315508021390374, 0.7433155080213903, 0.6550802139037433, 0.47058823529411764, 0.20053475935828877, 0.0], \"y\": [0.2658137882018479, 0.36227544910179643, 0.3927738927738928, 0.4231292517006803, 0.46102819237147596, 0.5190677966101694, 0.584717607973422, 0.6048387096774194, 1.0]}, {\"mode\": \"lines\", \"name\": \"DT\", \"type\": \"scatter\", \"x\": [1.0, 0.6951871657754011, 0.6925133689839572, 0.6925133689839572, 0.6871657754010695, 0.6844919786096256, 0.6844919786096256, 0.6844919786096256, 0.6844919786096256, 0.6764705882352942, 0.6764705882352942, 0.6737967914438503, 0.6711229946524064, 0.6657754010695187, 0.6631016042780749, 0.660427807486631, 0.6336898395721925, 0.6310160427807486, 0.6256684491978609, 0.6122994652406417, 0.606951871657754, 0.606951871657754, 0.606951871657754, 0.606951871657754, 0.606951871657754, 0.5962566844919787, 0.5882352941176471, 0.5882352941176471, 0.5882352941176471, 0.5855614973262032, 0.5855614973262032, 0.5828877005347594, 0.5588235294117647, 0.5561497326203209, 0.5508021390374331, 0.5240641711229946, 0.48663101604278075, 0.48663101604278075, 0.4679144385026738, 0.4679144385026738, 0.46524064171123, 0.46524064171123, 0.446524064171123, 0.42780748663101603, 0.42245989304812837, 0.4197860962566845, 0.36363636363636365, 0.3582887700534759, 0.3155080213903743, 0.31016042780748665, 0.3074866310160428, 0.2887700534759358, 0.28609625668449196, 0.2807486631016043, 0.25668449197860965, 0.0], \"y\": [0.2658137882018479, 0.47619047619047616, 0.47697974217311234, 0.4787430683918669, 0.478584729981378, 0.47761194029850745, 0.4785046728971963, 0.4803001876172608, 0.48120300751879697, 0.4782608695652174, 0.4791666666666667, 0.48, 0.47900763358778625, 0.4797687861271676, 0.47876447876447875, 0.4796116504854369, 0.47305389221556887, 0.4738955823293173, 0.4746450304259635, 0.4760914760914761, 0.47689075630252103, 0.47890295358649787, 0.4799154334038055, 0.4809322033898305, 0.4829787234042553, 0.4816414686825054, 0.48034934497816595, 0.4814004376367615, 0.4824561403508772, 0.48237885462555063, 0.48558758314855877, 0.48552338530066813, 0.49061032863849763, 0.49406175771971494, 0.4916467780429594, 0.48756218905472637, 0.4727272727272727, 0.47643979057591623, 0.4742547425474255, 0.4768392370572207, 0.47540983606557374, 0.4767123287671233, 0.4757834757834758, 0.46920821114369504, 0.47023809523809523, 0.46865671641791046, 0.43729903536977494, 0.4407894736842105, 0.4125874125874126, 0.4098939929328622, 0.4078014184397163, 0.39705882352941174, 0.3962962962962963, 0.39473684210526316, 0.3764705882352941, 1.0]}, {\"mode\": \"lines\", \"name\": \"SVC\", \"type\": \"scatter\", \"x\": [1.0, 0.9973262032085561, 0.9973262032085561, 0.9973262032085561, 0.9973262032085561, 0.9973262032085561, 0.9973262032085561, 0.9973262032085561, 0.9973262032085561, 0.9973262032085561, 0.9973262032085561, 0.9973262032085561, 0.9973262032085561, 0.9973262032085561, 0.9946524064171123, 0.9946524064171123, 0.9946524064171123, 0.9946524064171123, 0.9946524064171123, 0.9946524064171123, 0.9946524064171123, 0.9946524064171123, 0.9946524064171123, 0.9919786096256684, 0.9919786096256684, 0.9919786096256684, 0.9893048128342246, 0.9893048128342246, 0.9893048128342246, 0.9893048128342246, 0.9893048128342246, 0.9893048128342246, 0.9893048128342246, 0.9893048128342246, 0.9893048128342246, 0.9893048128342246, 0.9893048128342246, 0.9893048128342246, 0.9893048128342246, 0.9893048128342246, 0.9893048128342246, 0.9893048128342246, 0.9893048128342246, 0.9893048128342246, 0.9893048128342246, 0.9893048128342246, 0.9866310160427807, 0.9866310160427807, 0.9866310160427807, 0.9866310160427807, 0.9866310160427807, 0.9866310160427807, 0.9866310160427807, 0.9866310160427807, 0.9866310160427807, 0.9866310160427807, 0.9866310160427807, 0.9866310160427807, 0.9866310160427807, 0.9866310160427807, 0.9866310160427807, 0.9866310160427807, 0.9866310160427807, 0.9866310160427807, 0.9866310160427807, 0.983957219251337, 0.983957219251337, 0.983957219251337, 0.983957219251337, 0.983957219251337, 0.983957219251337, 0.983957219251337, 0.983957219251337, 0.983957219251337, 0.983957219251337, 0.983957219251337, 0.983957219251337, 0.983957219251337, 0.983957219251337, 0.983957219251337, 0.983957219251337, 0.983957219251337, 0.983957219251337, 0.983957219251337, 0.983957219251337, 0.983957219251337, 0.983957219251337, 0.983957219251337, 0.983957219251337, 0.983957219251337, 0.983957219251337, 0.9812834224598931, 0.9812834224598931, 0.9812834224598931, 0.9812834224598931, 0.9812834224598931, 0.9812834224598931, 0.9812834224598931, 0.9812834224598931, 0.9812834224598931, 0.9812834224598931, 0.9812834224598931, 0.9812834224598931, 0.9812834224598931, 0.9812834224598931, 0.9812834224598931, 0.9812834224598931, 0.9812834224598931, 0.9812834224598931, 0.9812834224598931, 0.9812834224598931, 0.9812834224598931, 0.9812834224598931, 0.9812834224598931, 0.9812834224598931, 0.9812834224598931, 0.9812834224598931, 0.9812834224598931, 0.9812834224598931, 0.9812834224598931, 0.9812834224598931, 0.9812834224598931, 0.9812834224598931, 0.9812834224598931, 0.9812834224598931, 0.9812834224598931, 0.9812834224598931, 0.9812834224598931, 0.9812834224598931, 0.9812834224598931, 0.9812834224598931, 0.9786096256684492, 0.9786096256684492, 0.9786096256684492, 0.9786096256684492, 0.9759358288770054, 0.9759358288770054, 0.9759358288770054, 0.9759358288770054, 0.9759358288770054, 0.9759358288770054, 0.9759358288770054, 0.9759358288770054, 0.9759358288770054, 0.9732620320855615, 0.9705882352941176, 0.9705882352941176, 0.9705882352941176, 0.9705882352941176, 0.9705882352941176, 0.9705882352941176, 0.9705882352941176, 0.9705882352941176, 0.9705882352941176, 0.9705882352941176, 0.9705882352941176, 0.9705882352941176, 0.9705882352941176, 0.9705882352941176, 0.9705882352941176, 0.9705882352941176, 0.9705882352941176, 0.9705882352941176, 0.9705882352941176, 0.9705882352941176, 0.9705882352941176, 0.9705882352941176, 0.9705882352941176, 0.9705882352941176, 0.9705882352941176, 0.9705882352941176, 0.9705882352941176, 0.9705882352941176, 0.9705882352941176, 0.9705882352941176, 0.9705882352941176, 0.9679144385026738, 0.9679144385026738, 0.9679144385026738, 0.9679144385026738, 0.9679144385026738, 0.9679144385026738, 0.9652406417112299, 0.9652406417112299, 0.9652406417112299, 0.9652406417112299, 0.9652406417112299, 0.9652406417112299, 0.9652406417112299, 0.9652406417112299, 0.9652406417112299, 0.9652406417112299, 0.9652406417112299, 0.9652406417112299, 0.9652406417112299, 0.9652406417112299, 0.9652406417112299, 0.9625668449197861, 0.9625668449197861, 0.9625668449197861, 0.9625668449197861, 0.9625668449197861, 0.9625668449197861, 0.9625668449197861, 0.9625668449197861, 0.9625668449197861, 0.9625668449197861, 0.9625668449197861, 0.9625668449197861, 0.9625668449197861, 0.9625668449197861, 0.9625668449197861, 0.9625668449197861, 0.9625668449197861, 0.9625668449197861, 0.9625668449197861, 0.9625668449197861, 0.9625668449197861, 0.9625668449197861, 0.9625668449197861, 0.9625668449197861, 0.9625668449197861, 0.9598930481283422, 0.9598930481283422, 0.9598930481283422, 0.9598930481283422, 0.9598930481283422, 0.9598930481283422, 0.9598930481283422, 0.9598930481283422, 0.9598930481283422, 0.9598930481283422, 0.9598930481283422, 0.9598930481283422, 0.9598930481283422, 0.9598930481283422, 0.9598930481283422, 0.9598930481283422, 0.9598930481283422, 0.9572192513368984, 0.9572192513368984, 0.9572192513368984, 0.9572192513368984, 0.9572192513368984, 0.9572192513368984, 0.9572192513368984, 0.9572192513368984, 0.9572192513368984, 0.9545454545454546, 0.9545454545454546, 0.9518716577540107, 0.9518716577540107, 0.9518716577540107, 0.9518716577540107, 0.9518716577540107, 0.9518716577540107, 0.9518716577540107, 0.9518716577540107, 0.9518716577540107, 0.9518716577540107, 0.9518716577540107, 0.9518716577540107, 0.9518716577540107, 0.9518716577540107, 0.9518716577540107, 0.9518716577540107, 0.9518716577540107, 0.9518716577540107, 0.9518716577540107, 0.9518716577540107, 0.9518716577540107, 0.9518716577540107, 0.9518716577540107, 0.9518716577540107, 0.9491978609625669, 0.9491978609625669, 0.946524064171123, 0.946524064171123, 0.946524064171123, 0.946524064171123, 0.946524064171123, 0.946524064171123, 0.946524064171123, 0.946524064171123, 0.946524064171123, 0.946524064171123, 0.946524064171123, 0.946524064171123, 0.946524064171123, 0.946524064171123, 0.946524064171123, 0.946524064171123, 0.9438502673796791, 0.9438502673796791, 0.9438502673796791, 0.9438502673796791, 0.9438502673796791, 0.9438502673796791, 0.9438502673796791, 0.9438502673796791, 0.9438502673796791, 0.9411764705882353, 0.9411764705882353, 0.9411764705882353, 0.9411764705882353, 0.9411764705882353, 0.9411764705882353, 0.9411764705882353, 0.9411764705882353, 0.9411764705882353, 0.9411764705882353, 0.9411764705882353, 0.9411764705882353, 0.9411764705882353, 0.9385026737967914, 0.9385026737967914, 0.9385026737967914, 0.9385026737967914, 0.9385026737967914, 0.9385026737967914, 0.9385026737967914, 0.9385026737967914, 0.9385026737967914, 0.9385026737967914, 0.9385026737967914, 0.9385026737967914, 0.9358288770053476, 0.9358288770053476, 0.9358288770053476, 0.9358288770053476, 0.9358288770053476, 0.9358288770053476, 0.9331550802139037, 0.9331550802139037, 0.9331550802139037, 0.9331550802139037, 0.9331550802139037, 0.9331550802139037, 0.9331550802139037, 0.9331550802139037, 0.9331550802139037, 0.9331550802139037, 0.9331550802139037, 0.9331550802139037, 0.93048128342246, 0.9278074866310161, 0.9278074866310161, 0.9278074866310161, 0.9278074866310161, 0.9278074866310161, 0.9278074866310161, 0.9251336898395722, 0.9224598930481284, 0.9224598930481284, 0.9224598930481284, 0.9224598930481284, 0.9224598930481284, 0.9224598930481284, 0.9224598930481284, 0.9224598930481284, 0.9224598930481284, 0.9224598930481284, 0.9224598930481284, 0.9224598930481284, 0.9197860962566845, 0.9197860962566845, 0.9197860962566845, 0.9197860962566845, 0.9197860962566845, 0.9197860962566845, 0.9197860962566845, 0.9197860962566845, 0.9197860962566845, 0.9197860962566845, 0.9171122994652406, 0.9171122994652406, 0.9144385026737968, 0.9144385026737968, 0.9144385026737968, 0.9144385026737968, 0.9144385026737968, 0.9144385026737968, 0.9144385026737968, 0.9144385026737968, 0.9144385026737968, 0.9144385026737968, 0.9144385026737968, 0.9144385026737968, 0.9144385026737968, 0.9144385026737968, 0.9144385026737968, 0.9144385026737968, 0.9144385026737968, 0.9117647058823529, 0.9117647058823529, 0.9117647058823529, 0.9117647058823529, 0.9117647058823529, 0.9117647058823529, 0.9117647058823529, 0.9117647058823529, 0.9117647058823529, 0.9117647058823529, 0.9117647058823529, 0.9117647058823529, 0.9117647058823529, 0.9117647058823529, 0.9117647058823529, 0.9117647058823529, 0.9090909090909091, 0.9090909090909091, 0.9090909090909091, 0.9090909090909091, 0.9090909090909091, 0.9090909090909091, 0.9090909090909091, 0.9064171122994652, 0.9037433155080213, 0.9037433155080213, 0.9037433155080213, 0.9037433155080213, 0.9010695187165776, 0.9010695187165776, 0.9010695187165776, 0.9010695187165776, 0.9010695187165776, 0.9010695187165776, 0.9010695187165776, 0.8983957219251337, 0.8983957219251337, 0.8983957219251337, 0.8983957219251337, 0.8957219251336899, 0.8957219251336899, 0.8957219251336899, 0.8957219251336899, 0.8957219251336899, 0.893048128342246, 0.893048128342246, 0.893048128342246, 0.893048128342246, 0.893048128342246, 0.893048128342246, 0.893048128342246, 0.893048128342246, 0.893048128342246, 0.893048128342246, 0.893048128342246, 0.893048128342246, 0.893048128342246, 0.8903743315508021, 0.8903743315508021, 0.8903743315508021, 0.8903743315508021, 0.8877005347593583, 0.8877005347593583, 0.8877005347593583, 0.8877005347593583, 0.8877005347593583, 0.8877005347593583, 0.8877005347593583, 0.8877005347593583, 0.8850267379679144, 0.8850267379679144, 0.8823529411764706, 0.8823529411764706, 0.8823529411764706, 0.8823529411764706, 0.8823529411764706, 0.8823529411764706, 0.8796791443850267, 0.8796791443850267, 0.8796791443850267, 0.8796791443850267, 0.8796791443850267, 0.8796791443850267, 0.8796791443850267, 0.8796791443850267, 0.8796791443850267, 0.8770053475935828, 0.8770053475935828, 0.8743315508021391, 0.8743315508021391, 0.8743315508021391, 0.8743315508021391, 0.8743315508021391, 0.8743315508021391, 0.8743315508021391, 0.8743315508021391, 0.8743315508021391, 0.8743315508021391, 0.8743315508021391, 0.8743315508021391, 0.8743315508021391, 0.8743315508021391, 0.8743315508021391, 0.8743315508021391, 0.8743315508021391, 0.8743315508021391, 0.8743315508021391, 0.8743315508021391, 0.8743315508021391, 0.8743315508021391, 0.8716577540106952, 0.8716577540106952, 0.8716577540106952, 0.8716577540106952, 0.8716577540106952, 0.8716577540106952, 0.8716577540106952, 0.8716577540106952, 0.8716577540106952, 0.8716577540106952, 0.8689839572192514, 0.8689839572192514, 0.8689839572192514, 0.8689839572192514, 0.8689839572192514, 0.8689839572192514, 0.8689839572192514, 0.8663101604278075, 0.8663101604278075, 0.8636363636363636, 0.8636363636363636, 0.8636363636363636, 0.8636363636363636, 0.8609625668449198, 0.8609625668449198, 0.8609625668449198, 0.8609625668449198, 0.8609625668449198, 0.8609625668449198, 0.8609625668449198, 0.8582887700534759, 0.8582887700534759, 0.8582887700534759, 0.8582887700534759, 0.8582887700534759, 0.8582887700534759, 0.8582887700534759, 0.8582887700534759, 0.8582887700534759, 0.8556149732620321, 0.8529411764705882, 0.8529411764705882, 0.8529411764705882, 0.8502673796791443, 0.8502673796791443, 0.8502673796791443, 0.8475935828877005, 0.8475935828877005, 0.8475935828877005, 0.8475935828877005, 0.8449197860962567, 0.8449197860962567, 0.8449197860962567, 0.8449197860962567, 0.8449197860962567, 0.8449197860962567, 0.8422459893048129, 0.8422459893048129, 0.8422459893048129, 0.8422459893048129, 0.8422459893048129, 0.839572192513369, 0.839572192513369, 0.8368983957219251, 0.8368983957219251, 0.8368983957219251, 0.8368983957219251, 0.8342245989304813, 0.8315508021390374, 0.8315508021390374, 0.8315508021390374, 0.8288770053475936, 0.8288770053475936, 0.8262032085561497, 0.8262032085561497, 0.8262032085561497, 0.8235294117647058, 0.8235294117647058, 0.8235294117647058, 0.8235294117647058, 0.8235294117647058, 0.820855614973262, 0.820855614973262, 0.820855614973262, 0.8181818181818182, 0.8181818181818182, 0.8181818181818182, 0.8181818181818182, 0.8155080213903744, 0.8155080213903744, 0.8155080213903744, 0.8128342245989305, 0.8128342245989305, 0.8128342245989305, 0.8101604278074866, 0.8101604278074866, 0.8101604278074866, 0.8101604278074866, 0.8101604278074866, 0.8074866310160428, 0.8074866310160428, 0.8074866310160428, 0.8074866310160428, 0.8048128342245989, 0.8048128342245989, 0.8048128342245989, 0.8048128342245989, 0.8048128342245989, 0.8048128342245989, 0.8048128342245989, 0.8048128342245989, 0.8048128342245989, 0.8048128342245989, 0.8021390374331551, 0.8021390374331551, 0.7994652406417112, 0.7994652406417112, 0.7994652406417112, 0.7994652406417112, 0.7994652406417112, 0.7967914438502673, 0.7967914438502673, 0.7967914438502673, 0.7967914438502673, 0.7967914438502673, 0.7967914438502673, 0.7967914438502673, 0.7967914438502673, 0.7967914438502673, 0.7941176470588235, 0.7941176470588235, 0.7941176470588235, 0.7941176470588235, 0.7941176470588235, 0.7941176470588235, 0.7941176470588235, 0.7941176470588235, 0.7941176470588235, 0.7941176470588235, 0.7941176470588235, 0.7941176470588235, 0.7941176470588235, 0.7941176470588235, 0.7941176470588235, 0.7941176470588235, 0.7914438502673797, 0.7914438502673797, 0.7914438502673797, 0.7887700534759359, 0.7887700534759359, 0.7887700534759359, 0.7887700534759359, 0.7887700534759359, 0.7887700534759359, 0.7887700534759359, 0.7887700534759359, 0.7887700534759359, 0.7887700534759359, 0.7887700534759359, 0.786096256684492, 0.786096256684492, 0.786096256684492, 0.7834224598930482, 0.7834224598930482, 0.7834224598930482, 0.7834224598930482, 0.7834224598930482, 0.7834224598930482, 0.7807486631016043, 0.7807486631016043, 0.7807486631016043, 0.7807486631016043, 0.7807486631016043, 0.7780748663101604, 0.7780748663101604, 0.7780748663101604, 0.7780748663101604, 0.7780748663101604, 0.7780748663101604, 0.7754010695187166, 0.7754010695187166, 0.7754010695187166, 0.7754010695187166, 0.7754010695187166, 0.7754010695187166, 0.7727272727272727, 0.7727272727272727, 0.7700534759358288, 0.7700534759358288, 0.7700534759358288, 0.767379679144385, 0.7647058823529411, 0.7647058823529411, 0.7647058823529411, 0.7647058823529411, 0.7647058823529411, 0.7647058823529411, 0.7647058823529411, 0.7647058823529411, 0.7620320855614974, 0.7620320855614974, 0.7620320855614974, 0.7620320855614974, 0.7620320855614974, 0.7593582887700535, 0.7566844919786097, 0.7566844919786097, 0.7566844919786097, 0.7540106951871658, 0.7540106951871658, 0.7540106951871658, 0.7540106951871658, 0.7540106951871658, 0.7540106951871658, 0.7513368983957219, 0.7513368983957219, 0.7513368983957219, 0.7513368983957219, 0.7513368983957219, 0.7513368983957219, 0.7513368983957219, 0.7513368983957219, 0.7486631016042781, 0.7486631016042781, 0.7459893048128342, 0.7433155080213903, 0.7433155080213903, 0.7433155080213903, 0.7433155080213903, 0.7433155080213903, 0.7433155080213903, 0.7433155080213903, 0.7433155080213903, 0.7406417112299465, 0.7406417112299465, 0.7379679144385026, 0.7379679144385026, 0.7379679144385026, 0.7352941176470589, 0.732620320855615, 0.7299465240641712, 0.7299465240641712, 0.7272727272727273, 0.7272727272727273, 0.7245989304812834, 0.7219251336898396, 0.7219251336898396, 0.7219251336898396, 0.7219251336898396, 0.7192513368983957, 0.7192513368983957, 0.7192513368983957, 0.7165775401069518, 0.7165775401069518, 0.7165775401069518, 0.7165775401069518, 0.7165775401069518, 0.713903743315508, 0.7112299465240641, 0.7112299465240641, 0.7112299465240641, 0.7112299465240641, 0.7085561497326203, 0.7058823529411765, 0.7058823529411765, 0.7032085561497327, 0.7005347593582888, 0.7005347593582888, 0.7005347593582888, 0.7005347593582888, 0.7005347593582888, 0.6978609625668449, 0.6978609625668449, 0.6951871657754011, 0.6951871657754011, 0.6925133689839572, 0.6925133689839572, 0.6898395721925134, 0.6871657754010695, 0.6871657754010695, 0.6844919786096256, 0.6844919786096256, 0.6844919786096256, 0.6818181818181818, 0.6818181818181818, 0.679144385026738, 0.679144385026738, 0.679144385026738, 0.679144385026738, 0.679144385026738, 0.679144385026738, 0.6764705882352942, 0.6764705882352942, 0.6764705882352942, 0.6764705882352942, 0.6737967914438503, 0.6737967914438503, 0.6711229946524064, 0.6711229946524064, 0.6711229946524064, 0.6711229946524064, 0.6711229946524064, 0.6711229946524064, 0.6711229946524064, 0.6711229946524064, 0.6711229946524064, 0.6711229946524064, 0.6711229946524064, 0.6711229946524064, 0.6711229946524064, 0.6684491978609626, 0.6684491978609626, 0.6657754010695187, 0.6631016042780749, 0.660427807486631, 0.660427807486631, 0.660427807486631, 0.660427807486631, 0.660427807486631, 0.660427807486631, 0.660427807486631, 0.6577540106951871, 0.6577540106951871, 0.6577540106951871, 0.6577540106951871, 0.6577540106951871, 0.6550802139037433, 0.6524064171122995, 0.6524064171122995, 0.6524064171122995, 0.6524064171122995, 0.6497326203208557, 0.6417112299465241, 0.6417112299465241, 0.6417112299465241, 0.6390374331550802, 0.6390374331550802, 0.6390374331550802, 0.6363636363636364, 0.6336898395721925, 0.6336898395721925, 0.6310160427807486, 0.6283422459893048, 0.6283422459893048, 0.6256684491978609, 0.6256684491978609, 0.6256684491978609, 0.6256684491978609, 0.6229946524064172, 0.6229946524064172, 0.6229946524064172, 0.6203208556149733, 0.6203208556149733, 0.6203208556149733, 0.6203208556149733, 0.6203208556149733, 0.6176470588235294, 0.6176470588235294, 0.6149732620320856, 0.6122994652406417, 0.6096256684491979, 0.6096256684491979, 0.606951871657754, 0.606951871657754, 0.6042780748663101, 0.6042780748663101, 0.6016042780748663, 0.6016042780748663, 0.6016042780748663, 0.6016042780748663, 0.6016042780748663, 0.6016042780748663, 0.6016042780748663, 0.6016042780748663, 0.5989304812834224, 0.5989304812834224, 0.5989304812834224, 0.5989304812834224, 0.5962566844919787, 0.5962566844919787, 0.5962566844919787, 0.5962566844919787, 0.5962566844919787, 0.5935828877005348, 0.5935828877005348, 0.5935828877005348, 0.5909090909090909, 0.5909090909090909, 0.5909090909090909, 0.5882352941176471, 0.5882352941176471, 0.5882352941176471, 0.5882352941176471, 0.5882352941176471, 0.5882352941176471, 0.5855614973262032, 0.5855614973262032, 0.5855614973262032, 0.5855614973262032, 0.5855614973262032, 0.5855614973262032, 0.5828877005347594, 0.5828877005347594, 0.5828877005347594, 0.5802139037433155, 0.5775401069518716, 0.5775401069518716, 0.5775401069518716, 0.5775401069518716, 0.5775401069518716, 0.5748663101604278, 0.5748663101604278, 0.5748663101604278, 0.5721925133689839, 0.56951871657754, 0.5668449197860963, 0.5668449197860963, 0.5641711229946524, 0.5641711229946524, 0.5614973262032086, 0.5588235294117647, 0.5561497326203209, 0.553475935828877, 0.553475935828877, 0.553475935828877, 0.553475935828877, 0.553475935828877, 0.553475935828877, 0.5508021390374331, 0.5481283422459893, 0.5481283422459893, 0.5481283422459893, 0.5481283422459893, 0.5481283422459893, 0.5454545454545454, 0.5427807486631016, 0.5427807486631016, 0.5401069518716578, 0.5401069518716578, 0.5401069518716578, 0.5401069518716578, 0.5374331550802139, 0.5374331550802139, 0.5374331550802139, 0.5374331550802139, 0.5374331550802139, 0.5347593582887701, 0.5347593582887701, 0.5347593582887701, 0.5347593582887701, 0.5347593582887701, 0.5320855614973262, 0.5320855614973262, 0.5294117647058824, 0.5267379679144385, 0.5240641711229946, 0.5213903743315508, 0.5213903743315508, 0.5213903743315508, 0.5187165775401069, 0.516042780748663, 0.516042780748663, 0.516042780748663, 0.5133689839572193, 0.5106951871657754, 0.5080213903743316, 0.5080213903743316, 0.5080213903743316, 0.5080213903743316, 0.5053475935828877, 0.5053475935828877, 0.5053475935828877, 0.5053475935828877, 0.5026737967914439, 0.5026737967914439, 0.5026737967914439, 0.5, 0.49732620320855614, 0.4946524064171123, 0.4946524064171123, 0.4946524064171123, 0.4946524064171123, 0.4946524064171123, 0.4946524064171123, 0.4946524064171123, 0.4946524064171123, 0.4946524064171123, 0.4919786096256685, 0.4893048128342246, 0.4893048128342246, 0.48663101604278075, 0.48663101604278075, 0.48663101604278075, 0.48663101604278075, 0.48663101604278075, 0.4839572192513369, 0.4839572192513369, 0.48128342245989303, 0.48128342245989303, 0.48128342245989303, 0.4786096256684492, 0.47593582887700536, 0.4732620320855615, 0.47058823529411764, 0.4679144385026738, 0.4679144385026738, 0.4679144385026738, 0.46524064171123, 0.4625668449197861, 0.4625668449197861, 0.45989304812834225, 0.4572192513368984, 0.4572192513368984, 0.4572192513368984, 0.4572192513368984, 0.4572192513368984, 0.4572192513368984, 0.4572192513368984, 0.45454545454545453, 0.45187165775401067, 0.44919786096256686, 0.446524064171123, 0.446524064171123, 0.44385026737967914, 0.4411764705882353, 0.4385026737967914, 0.4358288770053476, 0.4358288770053476, 0.43315508021390375, 0.4304812834224599, 0.4304812834224599, 0.42780748663101603, 0.42513368983957217, 0.42245989304812837, 0.4197860962566845, 0.4197860962566845, 0.4197860962566845, 0.4197860962566845, 0.41711229946524064, 0.41711229946524064, 0.41711229946524064, 0.4144385026737968, 0.4117647058823529, 0.4117647058823529, 0.4117647058823529, 0.4090909090909091, 0.4090909090909091, 0.4090909090909091, 0.4090909090909091, 0.4090909090909091, 0.40641711229946526, 0.4037433155080214, 0.4037433155080214, 0.4037433155080214, 0.40106951871657753, 0.40106951871657753, 0.3983957219251337, 0.39572192513368987, 0.39572192513368987, 0.393048128342246, 0.393048128342246, 0.393048128342246, 0.39037433155080214, 0.39037433155080214, 0.3877005347593583, 0.3877005347593583, 0.3850267379679144, 0.38235294117647056, 0.37967914438502676, 0.37967914438502676, 0.3770053475935829, 0.37433155080213903, 0.3716577540106952, 0.3689839572192513, 0.3689839572192513, 0.3663101604278075, 0.3663101604278075, 0.36363636363636365, 0.36363636363636365, 0.3609625668449198, 0.3582887700534759, 0.35561497326203206, 0.35294117647058826, 0.35294117647058826, 0.3502673796791444, 0.3502673796791444, 0.34759358288770054, 0.34759358288770054, 0.3449197860962567, 0.3422459893048128, 0.3422459893048128, 0.3422459893048128, 0.339572192513369, 0.33689839572192515, 0.33689839572192515, 0.33689839572192515, 0.3342245989304813, 0.3342245989304813, 0.3315508021390374, 0.3315508021390374, 0.32887700534759357, 0.32620320855614976, 0.32620320855614976, 0.3235294117647059, 0.3235294117647059, 0.32085561497326204, 0.3181818181818182, 0.3181818181818182, 0.3155080213903743, 0.3155080213903743, 0.3155080213903743, 0.31283422459893045, 0.31283422459893045, 0.31016042780748665, 0.3074866310160428, 0.3048128342245989, 0.3048128342245989, 0.30213903743315507, 0.30213903743315507, 0.2994652406417112, 0.2967914438502674, 0.2967914438502674, 0.2967914438502674, 0.29411764705882354, 0.2914438502673797, 0.2914438502673797, 0.2887700534759358, 0.2887700534759358, 0.28609625668449196, 0.28609625668449196, 0.28609625668449196, 0.28609625668449196, 0.28609625668449196, 0.28609625668449196, 0.28342245989304815, 0.2807486631016043, 0.2807486631016043, 0.27807486631016043, 0.27540106951871657, 0.2727272727272727, 0.2700534759358289, 0.26737967914438504, 0.2647058823529412, 0.2620320855614973, 0.25935828877005346, 0.25935828877005346, 0.25935828877005346, 0.25935828877005346, 0.25935828877005346, 0.25668449197860965, 0.2540106951871658, 0.25133689839572193, 0.25133689839572193, 0.24866310160427807, 0.24598930481283424, 0.24331550802139038, 0.24064171122994651, 0.23796791443850268, 0.23529411764705882, 0.232620320855615, 0.22994652406417113, 0.22727272727272727, 0.22459893048128343, 0.22192513368983957, 0.2192513368983957, 0.2192513368983957, 0.21657754010695188, 0.21657754010695188, 0.21390374331550802, 0.21390374331550802, 0.21390374331550802, 0.21122994652406418, 0.21122994652406418, 0.20855614973262032, 0.20855614973262032, 0.20588235294117646, 0.20320855614973263, 0.20053475935828877, 0.19786096256684493, 0.19786096256684493, 0.19786096256684493, 0.19518716577540107, 0.1925133689839572, 0.18983957219251338, 0.18983957219251338, 0.18716577540106952, 0.18449197860962566, 0.18449197860962566, 0.18449197860962566, 0.18449197860962566, 0.18181818181818182, 0.17914438502673796, 0.17647058823529413, 0.17379679144385027, 0.1711229946524064, 0.1711229946524064, 0.16844919786096257, 0.1657754010695187, 0.1657754010695187, 0.16310160427807488, 0.16042780748663102, 0.15775401069518716, 0.15508021390374332, 0.15508021390374332, 0.15508021390374332, 0.15508021390374332, 0.15240641711229946, 0.1497326203208556, 0.14705882352941177, 0.1443850267379679, 0.1443850267379679, 0.14171122994652408, 0.13903743315508021, 0.13636363636363635, 0.13368983957219252, 0.13368983957219252, 0.13101604278074866, 0.13101604278074866, 0.12834224598930483, 0.12566844919786097, 0.12299465240641712, 0.12032085561497326, 0.11764705882352941, 0.11497326203208556, 0.11229946524064172, 0.10962566844919786, 0.10695187165775401, 0.10695187165775401, 0.10427807486631016, 0.10427807486631016, 0.10427807486631016, 0.10160427807486631, 0.09893048128342247, 0.0962566844919786, 0.0962566844919786, 0.0962566844919786, 0.09358288770053476, 0.09090909090909091, 0.08823529411764706, 0.0855614973262032, 0.08288770053475936, 0.08288770053475936, 0.08021390374331551, 0.07754010695187166, 0.0748663101604278, 0.07219251336898395, 0.07219251336898395, 0.07219251336898395, 0.06951871657754011, 0.06684491978609626, 0.06684491978609626, 0.06417112299465241, 0.06149732620320856, 0.058823529411764705, 0.05614973262032086, 0.053475935828877004, 0.053475935828877004, 0.05080213903743316, 0.0481283422459893, 0.045454545454545456, 0.045454545454545456, 0.045454545454545456, 0.0427807486631016, 0.040106951871657755, 0.040106951871657755, 0.0374331550802139, 0.0374331550802139, 0.0374331550802139, 0.034759358288770054, 0.034759358288770054, 0.03208556149732621, 0.03208556149732621, 0.029411764705882353, 0.026737967914438502, 0.02406417112299465, 0.0213903743315508, 0.01871657754010695, 0.016042780748663103, 0.016042780748663103, 0.013368983957219251, 0.013368983957219251, 0.013368983957219251, 0.0106951871657754, 0.0106951871657754, 0.0106951871657754, 0.008021390374331552, 0.008021390374331552, 0.008021390374331552, 0.008021390374331552, 0.0053475935828877, 0.00267379679144385, 0.0, 0.0, 0.0], \"y\": [0.28747117601844735, 0.28692307692307695, 0.28714395688991534, 0.28736517719568566, 0.28758673862760215, 0.28780864197530864, 0.28803088803088805, 0.2882534775888717, 0.288476411446249, 0.2886996904024768, 0.2889233152594888, 0.28914728682170543, 0.28937160589604344, 0.28959627329192544, 0.289044289044289, 0.2892690513219285, 0.28949416342412454, 0.2897196261682243, 0.2899454403741232, 0.29017160686427457, 0.2903981264637002, 0.290625, 0.290852228303362, 0.29029733959311427, 0.29052466718872355, 0.2907523510971787, 0.2901960784313726, 0.2904238618524333, 0.2906520031421838, 0.2908805031446541, 0.2911093627065303, 0.29133858267716534, 0.2915681639085894, 0.2917981072555205, 0.2920284135753749, 0.292259083728278, 0.2924901185770751, 0.2927215189873418, 0.2929532858273951, 0.2931854199683043, 0.2934179222839017, 0.29365079365079366, 0.29388403494837173, 0.29411764705882354, 0.294351630867144, 0.2945859872611465, 0.2940239043824701, 0.2942583732057416, 0.2944932162809258, 0.29472843450479236, 0.2949640287769784, 0.2952, 0.2954363490792634, 0.2956730769230769, 0.29591018444266237, 0.29614767255216695, 0.2963855421686747, 0.2966237942122186, 0.29686242960579245, 0.2971014492753623, 0.29734085414987915, 0.29758064516129035, 0.29782082324455206, 0.29806138933764137, 0.29830234438156833, 0.2977346278317152, 0.2979757085020243, 0.29821717990275526, 0.2984590429845904, 0.2987012987012987, 0.29894394800974816, 0.2991869918699187, 0.2994304312449146, 0.2996742671009772, 0.29991850040749796, 0.300163132137031, 0.3004081632653061, 0.3006535947712418, 0.3008994276369583, 0.3011456628477905, 0.3013923013923014, 0.3016393442622951, 0.3018867924528302, 0.3021346469622332, 0.30238290879211177, 0.3026315789473684, 0.302880658436214, 0.3031301482701812, 0.3033800494641385, 0.30363036303630364, 0.30388109000825764, 0.30330578512396694, 0.30355665839536805, 0.3038079470198676, 0.304059652029826, 0.3043117744610282, 0.30456431535269707, 0.30481727574750833, 0.3050706566916043, 0.305324459234609, 0.305578684429642, 0.30583333333333335, 0.3060884070058382, 0.3063439065108514, 0.3065998329156224, 0.3068561872909699, 0.30711297071129706, 0.3073701842546064, 0.3076278290025147, 0.30788590604026844, 0.30814441645675905, 0.30840336134453783, 0.3086627417998318, 0.30892255892255893, 0.3091828138163437, 0.3094435075885329, 0.309704641350211, 0.30996621621621623, 0.31022823330515636, 0.31049069373942473, 0.3107535986452159, 0.31101694915254235, 0.3112807463952502, 0.31154499151103565, 0.31180968564146133, 0.3120748299319728, 0.3123404255319149, 0.3126064735945486, 0.31287297527706737, 0.31313993174061433, 0.3134073441502989, 0.3128205128205128, 0.31308810949529514, 0.3133561643835616, 0.31362467866323906, 0.3130360205831904, 0.3133047210300429, 0.313573883161512, 0.3138435081685297, 0.31411359724612736, 0.3143841515934539, 0.3146551724137931, 0.31492666091458155, 0.31519861830742657, 0.3146067415730337, 0.3140138408304498, 0.3142857142857143, 0.3145580589254766, 0.3148308759757155, 0.3151041666666667, 0.315377932232841, 0.31565217391304345, 0.31592689295039167, 0.3162020905923345, 0.3164777680906713, 0.31675392670157065, 0.3170305676855895, 0.3173076923076923, 0.31758530183727035, 0.3178633975481611, 0.31814198071866784, 0.31842105263157894, 0.31870061457418786, 0.3189806678383128, 0.31926121372031663, 0.31954225352112675, 0.3198237885462555, 0.3201058201058201, 0.32038834951456313, 0.3206713780918728, 0.3209549071618037, 0.32123893805309733, 0.32152347209920284, 0.32180851063829785, 0.3220940550133097, 0.32238010657193605, 0.3217777777777778, 0.3220640569395018, 0.3223508459483526, 0.3226381461675579, 0.32292595896520965, 0.32321428571428573, 0.322609472743521, 0.3228980322003578, 0.3231871083258729, 0.3234767025089606, 0.3237668161434978, 0.3240574506283663, 0.3243486073674753, 0.32464028776978415, 0.32493249324932494, 0.32522522522522523, 0.3255184851217313, 0.32581227436823107, 0.3261065943992773, 0.32640144665461124, 0.3266968325791855, 0.32608695652173914, 0.3263825929283772, 0.32667876588021777, 0.32697547683923706, 0.32727272727272727, 0.3275705186533212, 0.32786885245901637, 0.3281677301731996, 0.3284671532846715, 0.3287671232876712, 0.3290676416819013, 0.32936870997255263, 0.32967032967032966, 0.32997250229147573, 0.3302752293577982, 0.3305785123966942, 0.33088235294117646, 0.3311867525298988, 0.3314917127071823, 0.3317972350230415, 0.33210332103321033, 0.33240997229916897, 0.33271719038817005, 0.3330249768732655, 0.3333333333333333, 0.33271547729379053, 0.33302411873840443, 0.3333333333333333, 0.3336431226765799, 0.33395348837209304, 0.33426443202979517, 0.33457595526561046, 0.33488805970149255, 0.3352007469654528, 0.3355140186915888, 0.33582787652011226, 0.33614232209737827, 0.3364573570759138, 0.33677298311444653, 0.3370892018779343, 0.337406015037594, 0.3377234242709313, 0.3370998116760829, 0.3374175306314797, 0.33773584905660375, 0.3380547686496695, 0.3383742911153119, 0.3386944181646168, 0.3390151515151515, 0.33933649289099527, 0.3396584440227704, 0.33903133903133903, 0.33935361216730037, 0.33872502378686964, 0.33904761904761904, 0.3393708293612965, 0.33969465648854963, 0.34001910219675263, 0.3403441682600382, 0.3406698564593301, 0.34099616858237547, 0.34132310642377756, 0.3416506717850288, 0.34197886647454373, 0.3423076923076923, 0.3426371511068335, 0.34296724470134876, 0.343297974927676, 0.3436293436293436, 0.34396135265700484, 0.344294003868472, 0.34462729912875123, 0.3449612403100775, 0.3452958292919496, 0.34563106796116505, 0.3459669582118562, 0.3463035019455253, 0.3456669912366115, 0.3460038986354776, 0.34536585365853656, 0.345703125, 0.3460410557184751, 0.34637964774951074, 0.346718903036239, 0.34705882352941175, 0.34739941118743867, 0.3477406679764244, 0.3480825958702065, 0.3484251968503937, 0.34876847290640395, 0.34911242603550297, 0.34945705824284307, 0.34980237154150196, 0.35014836795252224, 0.3504950495049505, 0.34985133795837464, 0.3501984126984127, 0.35054617676266137, 0.3508946322067594, 0.35124378109452736, 0.351593625498008, 0.35194416749750745, 0.3522954091816367, 0.35264735264735264, 0.352, 0.35235235235235235, 0.3527054108216433, 0.3530591775325978, 0.3534136546184739, 0.35376884422110555, 0.35412474849094566, 0.3544813695871098, 0.3548387096774194, 0.35519677093844604, 0.35555555555555557, 0.35591506572295245, 0.3562753036437247, 0.3556231003039514, 0.35598377281947263, 0.35634517766497464, 0.3567073170731707, 0.3570701932858596, 0.3574338085539715, 0.3577981651376147, 0.35816326530612247, 0.3585291113381001, 0.3588957055214724, 0.3592630501535312, 0.35963114754098363, 0.358974358974359, 0.3593429158110883, 0.3597122302158273, 0.360082304526749, 0.3604531410916581, 0.36082474226804123, 0.36016511867905054, 0.3605371900826446, 0.3609100310237849, 0.3612836438923395, 0.3616580310880829, 0.3620331950207469, 0.3624091381100727, 0.3627858627858628, 0.3631633714880333, 0.36354166666666665, 0.36392075078206465, 0.36430062630480164, 0.36363636363636365, 0.36297071129707115, 0.3633507853403141, 0.3637316561844864, 0.3641133263378804, 0.3644957983193277, 0.3648790746582545, 0.3642105263157895, 0.3635405690200211, 0.3639240506329114, 0.36430834213305174, 0.36469344608879495, 0.36507936507936506, 0.3654661016949153, 0.36585365853658536, 0.3662420382165605, 0.36663124335812963, 0.3670212765957447, 0.36741214057507987, 0.3678038379530917, 0.3671291355389541, 0.36752136752136755, 0.3679144385026738, 0.3683083511777302, 0.3687031082529475, 0.36909871244635195, 0.3694951664876477, 0.36989247311827955, 0.37029063509149623, 0.3706896551724138, 0.37001078748651567, 0.37041036717062636, 0.36972972972972973, 0.37012987012987014, 0.3705308775731311, 0.37093275488069416, 0.3713355048859935, 0.3717391304347826, 0.3721436343852013, 0.37254901960784315, 0.37295528898582336, 0.37336244541484714, 0.3737704918032787, 0.3741794310722101, 0.37458926615553123, 0.375, 0.3754116355653128, 0.3758241758241758, 0.37623762376237624, 0.3755506607929515, 0.37596471885336274, 0.37637969094922735, 0.37679558011049724, 0.377212389380531, 0.37763012181616834, 0.3780487804878049, 0.37846836847946724, 0.3788888888888889, 0.3793103448275862, 0.37973273942093544, 0.3801560758082497, 0.38058035714285715, 0.38100558659217876, 0.3814317673378076, 0.3818589025755879, 0.3811659192825112, 0.38159371492704824, 0.38202247191011235, 0.38245219347581555, 0.38288288288288286, 0.3833145434047351, 0.3837471783295711, 0.38305084745762713, 0.38235294117647056, 0.3827859569648924, 0.3832199546485261, 0.3836549375709421, 0.38295454545454544, 0.3833902161547213, 0.3838268792710706, 0.38426453819840367, 0.384703196347032, 0.3851428571428571, 0.38558352402745993, 0.3848797250859107, 0.3853211009174312, 0.3857634902411022, 0.38620689655172413, 0.38550057537399307, 0.3859447004608295, 0.3863898500576701, 0.38683602771362585, 0.3872832369942196, 0.38657407407407407, 0.3870220162224797, 0.3874709976798144, 0.3879210220673635, 0.3883720930232558, 0.38882421420256114, 0.38927738927738925, 0.3897316219369895, 0.3901869158878505, 0.3906432748538012, 0.3911007025761124, 0.39155920281359907, 0.392018779342723, 0.391304347826087, 0.39176470588235296, 0.392226148409894, 0.392688679245283, 0.3919716646989374, 0.39243498817966904, 0.39289940828402364, 0.3933649289099526, 0.39383155397390274, 0.39429928741092635, 0.3947681331747919, 0.3952380952380952, 0.39451728247914186, 0.39498806682577564, 0.3942652329749104, 0.39473684210526316, 0.39520958083832336, 0.39568345323741005, 0.39615846338535415, 0.39663461538461536, 0.39590854392298436, 0.3963855421686747, 0.3968636911942099, 0.3973429951690821, 0.3978234582829504, 0.3983050847457627, 0.3987878787878788, 0.39927184466019416, 0.3997569866342649, 0.39902676399026765, 0.3995127892813642, 0.39878048780487807, 0.3992673992673993, 0.39975550122249387, 0.40024479804161567, 0.4007352941176471, 0.4012269938650307, 0.40171990171990174, 0.4022140221402214, 0.4027093596059113, 0.4032059186189889, 0.40370370370370373, 0.4042027194066749, 0.40470297029702973, 0.4052044609665427, 0.4057071960297767, 0.4062111801242236, 0.40671641791044777, 0.40722291407222916, 0.4077306733167082, 0.40823970037453183, 0.40875, 0.409261576971214, 0.40852130325814534, 0.4090338770388959, 0.40954773869346733, 0.410062893081761, 0.4105793450881612, 0.4110970996216898, 0.4116161616161616, 0.41213653603034134, 0.41265822784810124, 0.4131812420785805, 0.41243654822335024, 0.41296060991105465, 0.41348600508905853, 0.4140127388535032, 0.4145408163265306, 0.41507024265644954, 0.4156010230179028, 0.4148527528809219, 0.4153846153846154, 0.4146341463414634, 0.41516709511568123, 0.4157014157014157, 0.4162371134020619, 0.4154838709677419, 0.4160206718346253, 0.4165588615782665, 0.4170984455958549, 0.4176394293125811, 0.41818181818181815, 0.4187256176853056, 0.41796875, 0.41851368970013036, 0.41906005221932113, 0.4196078431372549, 0.4201570680628272, 0.42070773263433814, 0.421259842519685, 0.42181340341655715, 0.42236842105263156, 0.42160737812911725, 0.420844327176781, 0.42140026420079263, 0.421957671957672, 0.42119205298013246, 0.4217506631299735, 0.42231075697211157, 0.42154255319148937, 0.422103861517976, 0.4226666666666667, 0.4232309746328438, 0.42245989304812837, 0.42302543507362783, 0.42359249329758714, 0.42416107382550333, 0.42473118279569894, 0.4253028263795424, 0.42452830188679247, 0.4251012145748988, 0.42567567567567566, 0.42625169147496617, 0.4268292682926829, 0.4260515603799186, 0.4266304347826087, 0.42585034013605444, 0.4264305177111717, 0.42701227830832195, 0.4275956284153005, 0.426812585499316, 0.426027397260274, 0.42661179698216734, 0.4271978021978022, 0.4264099037138927, 0.42699724517906334, 0.4262068965517241, 0.42679558011049723, 0.42738589211618255, 0.4265927977839335, 0.42718446601941745, 0.42777777777777776, 0.4283727399165508, 0.42896935933147634, 0.4281729428172943, 0.42877094972067037, 0.42937062937062936, 0.42857142857142855, 0.42917251051893407, 0.4297752808988764, 0.43037974683544306, 0.4295774647887324, 0.4301833568406206, 0.4307909604519774, 0.42998585572843, 0.43059490084985835, 0.43120567375886526, 0.4303977272727273, 0.4310099573257468, 0.43162393162393164, 0.4322396576319544, 0.4328571428571429, 0.43204577968526464, 0.4326647564469914, 0.4332855093256815, 0.4339080459770115, 0.4330935251798561, 0.43371757925072046, 0.43434343434343436, 0.434971098265896, 0.4356005788712012, 0.43623188405797103, 0.43686502177068215, 0.4375, 0.438136826783115, 0.4387755102040816, 0.43795620437956206, 0.43859649122807015, 0.4377745241581259, 0.43841642228739003, 0.4390602055800294, 0.43970588235294117, 0.44035346097201766, 0.43952802359882004, 0.4401772525849335, 0.4408284023668639, 0.4414814814814815, 0.4421364985163205, 0.4427934621099554, 0.44345238095238093, 0.44411326378539495, 0.44477611940298506, 0.4439461883408072, 0.44461077844311375, 0.4452773613193403, 0.44594594594594594, 0.44661654135338347, 0.44728915662650603, 0.4479638009049774, 0.4486404833836858, 0.4493192133131619, 0.45, 0.45068285280728376, 0.4513677811550152, 0.4520547945205479, 0.4527439024390244, 0.4534351145038168, 0.4541284403669725, 0.45329249617151607, 0.4539877300613497, 0.45468509984639016, 0.45384615384615384, 0.45454545454545453, 0.45524691358024694, 0.4559505409582689, 0.456656346749226, 0.4573643410852713, 0.4580745341614907, 0.45878693623639194, 0.45950155763239875, 0.46021840873634945, 0.4609375, 0.460093896713615, 0.4608150470219436, 0.46153846153846156, 0.4606918238993711, 0.46141732283464565, 0.46214511041009465, 0.4628751974723539, 0.46360759493670883, 0.4643423137876387, 0.4634920634920635, 0.4642289348171701, 0.46496815286624205, 0.46570972886762363, 0.46645367412140576, 0.4656, 0.46634615384615385, 0.46709470304975925, 0.4678456591639871, 0.46859903381642515, 0.4693548387096774, 0.46849757673667203, 0.4692556634304207, 0.4700162074554295, 0.4707792207792208, 0.4715447154471545, 0.4723127035830619, 0.47145187601957583, 0.4722222222222222, 0.4713584288052373, 0.4721311475409836, 0.4729064039408867, 0.4720394736842105, 0.471169686985173, 0.47194719471947194, 0.4727272727272727, 0.4735099337748344, 0.47429519071310117, 0.4750830564784053, 0.47587354409317806, 0.4766666666666667, 0.4757929883138564, 0.4765886287625418, 0.47738693467336685, 0.47818791946308725, 0.4789915966386555, 0.4781144781144781, 0.4772344013490725, 0.4780405405405405, 0.47884940778341795, 0.47796610169491527, 0.47877758913412566, 0.47959183673469385, 0.4804088586030664, 0.4812286689419795, 0.48205128205128206, 0.4811643835616438, 0.48198970840480276, 0.48281786941580757, 0.4836488812392427, 0.4844827586206897, 0.4853195164075993, 0.486159169550173, 0.48700173310225303, 0.4861111111111111, 0.48695652173913045, 0.48606271777003485, 0.4851657940663176, 0.486013986013986, 0.4868651488616462, 0.48771929824561405, 0.48857644991212656, 0.4894366197183099, 0.49029982363315694, 0.4911660777385159, 0.4902654867256637, 0.49113475177304966, 0.49023090586145646, 0.49110320284697506, 0.4919786096256685, 0.49107142857142855, 0.49016100178890876, 0.489247311827957, 0.49012567324955114, 0.4892086330935252, 0.4900900900900901, 0.4891696750902527, 0.488245931283906, 0.4891304347826087, 0.4900181488203267, 0.4909090909090909, 0.4899817850637523, 0.4908759124087591, 0.49177330895795246, 0.4908424908424908, 0.4917431192660551, 0.49264705882352944, 0.49355432780847147, 0.4944649446494465, 0.49353049907578556, 0.4925925925925926, 0.4935064935064935, 0.4944237918215613, 0.49534450651769085, 0.4944029850746269, 0.4934579439252336, 0.4943820224719101, 0.49343339587242024, 0.4924812030075188, 0.4934086629001883, 0.49433962264150944, 0.4952741020793951, 0.4962121212121212, 0.4952561669829222, 0.49619771863117873, 0.49523809523809526, 0.4961832061068702, 0.49521988527724664, 0.49616858237547895, 0.4952015355086372, 0.49423076923076925, 0.4951830443159923, 0.4942084942084942, 0.4951644100580271, 0.49612403100775193, 0.49514563106796117, 0.4961089494163424, 0.4951267056530214, 0.49609375, 0.49706457925636005, 0.4980392156862745, 0.49901768172888017, 0.5, 0.4990138067061144, 0.5, 0.500990099009901, 0.501984126984127, 0.5009940357852882, 0.50199203187251, 0.500998003992016, 0.502, 0.503006012024048, 0.5040160642570282, 0.5050301810865191, 0.5060483870967742, 0.5070707070707071, 0.5080971659919028, 0.5091277890466531, 0.5101626016260162, 0.5112016293279023, 0.5122448979591837, 0.5132924335378323, 0.5122950819672131, 0.5133470225872689, 0.5123456790123457, 0.511340206185567, 0.5103305785123967, 0.5113871635610766, 0.5124481327800829, 0.5135135135135135, 0.5145833333333333, 0.5156576200417536, 0.5167364016736402, 0.5157232704402516, 0.5168067226890757, 0.5178947368421053, 0.5189873417721519, 0.5200845665961945, 0.5190677966101694, 0.5180467091295117, 0.5191489361702127, 0.5202558635394456, 0.5213675213675214, 0.5203426124197003, 0.5206073752711496, 0.5217391304347826, 0.5228758169934641, 0.5218340611353712, 0.5229759299781181, 0.5241228070175439, 0.5230769230769231, 0.5220264317180616, 0.5231788079470199, 0.5221238938053098, 0.5210643015521065, 0.5222222222222223, 0.5211581291759465, 0.5223214285714286, 0.5234899328859061, 0.5246636771300448, 0.5235955056179775, 0.5247747747747747, 0.5259593679458239, 0.5248868778280543, 0.5260770975056689, 0.5272727272727272, 0.5284738041002278, 0.5296803652968036, 0.528604118993135, 0.5298165137614679, 0.5287356321839081, 0.5276497695852534, 0.5265588914549654, 0.5277777777777778, 0.5266821345707656, 0.5279069767441861, 0.5268065268065268, 0.5280373831775701, 0.5269320843091335, 0.528169014084507, 0.5294117647058824, 0.5306603773584906, 0.5319148936170213, 0.533175355450237, 0.5344418052256532, 0.5357142857142857, 0.5346062052505967, 0.5358851674641149, 0.5371702637889688, 0.5384615384615384, 0.5373493975903615, 0.538647342995169, 0.5399515738498789, 0.5412621359223301, 0.5425790754257908, 0.5414634146341464, 0.5427872860635696, 0.5441176470588235, 0.542997542997543, 0.5443349753694581, 0.5456790123456791, 0.5445544554455446, 0.5459057071960298, 0.5472636815920398, 0.5486284289276808, 0.55, 0.5513784461152882, 0.550251256281407, 0.5516372795969773, 0.553030303030303, 0.5544303797468354, 0.5558375634517766, 0.5572519083969466, 0.5561224489795918, 0.5575447570332481, 0.558974358974359, 0.5578406169665809, 0.5567010309278351, 0.5581395348837209, 0.5595854922279793, 0.561038961038961, 0.5625, 0.5613577023498695, 0.56282722513089, 0.5643044619422573, 0.5631578947368421, 0.5620052770448549, 0.5608465608465608, 0.5623342175066313, 0.5611702127659575, 0.5626666666666666, 0.5614973262032086, 0.5603217158176944, 0.5591397849462365, 0.5579514824797843, 0.5594594594594594, 0.5609756097560976, 0.5625, 0.5640326975476839, 0.5655737704918032, 0.5643835616438356, 0.5631868131868132, 0.5647382920110193, 0.5662983425414365, 0.5678670360110804, 0.5694444444444444, 0.5682451253481894, 0.5670391061452514, 0.5686274509803921, 0.5674157303370787, 0.5690140845070423, 0.5706214689265536, 0.5722379603399433, 0.5710227272727273, 0.5726495726495726, 0.5742857142857143, 0.5759312320916905, 0.5775862068965517, 0.5763688760806917, 0.5780346820809249, 0.5797101449275363, 0.5813953488372093, 0.5830903790087464, 0.5818713450292398, 0.5835777126099707, 0.5823529411764706, 0.5811209439528023, 0.5798816568047337, 0.5786350148367952, 0.5803571428571429, 0.582089552238806, 0.5808383233532934, 0.5795795795795796, 0.5813253012048193, 0.5830815709969789, 0.5818181818181818, 0.5805471124620061, 0.5792682926829268, 0.581039755351682, 0.5828220858895705, 0.5846153846153846, 0.5833333333333334, 0.5851393188854489, 0.5869565217391305, 0.5887850467289719, 0.5875, 0.5893416927899686, 0.5911949685534591, 0.5899053627760252, 0.5886075949367089, 0.5873015873015873, 0.589171974522293, 0.5910543130990416, 0.592948717948718, 0.594855305466238, 0.5967741935483871, 0.598705501618123, 0.6006493506493507, 0.6026058631921825, 0.6013071895424836, 0.6, 0.6019736842105263, 0.6006600660066007, 0.6026490066225165, 0.6046511627906976, 0.6066666666666667, 0.6086956521739131, 0.6073825503355704, 0.6094276094276094, 0.6081081081081081, 0.6101694915254238, 0.6122448979591837, 0.6109215017064846, 0.6095890410958904, 0.6082474226804123, 0.6068965517241379, 0.6055363321799307, 0.6076388888888888, 0.6097560975609756, 0.6083916083916084, 0.6070175438596491, 0.6091549295774648, 0.607773851590106, 0.6063829787234043, 0.608540925266904, 0.6107142857142858, 0.6129032258064516, 0.6151079136690647, 0.6173285198555957, 0.6195652173913043, 0.6181818181818182, 0.6167883211678832, 0.6153846153846154, 0.6139705882352942, 0.6162361623616236, 0.6148148148148148, 0.6133828996282528, 0.6119402985074627, 0.6104868913857678, 0.6127819548872181, 0.6113207547169811, 0.6098484848484849, 0.6121673003802282, 0.6106870229007634, 0.6091954022988506, 0.6076923076923076, 0.6061776061776062, 0.6085271317829457, 0.6108949416342413, 0.61328125, 0.611764705882353, 0.6141732283464567, 0.616600790513834, 0.6150793650793651, 0.6135458167330677, 0.616, 0.6184738955823293, 0.6169354838709677, 0.6194331983805668, 0.6219512195121951, 0.6244897959183674, 0.6270491803278688, 0.6255144032921811, 0.6239669421487604, 0.6265560165975104, 0.6291666666666667, 0.6276150627615062, 0.6302521008403361, 0.6286919831223629, 0.6271186440677966, 0.6297872340425532, 0.6282051282051282, 0.630901287553648, 0.6336206896551724, 0.6320346320346321, 0.6347826086956522, 0.6331877729257642, 0.6359649122807017, 0.6343612334801763, 0.6327433628318584, 0.6311111111111111, 0.6339285714285714, 0.6322869955156951, 0.6306306306306306, 0.6289592760180995, 0.6272727272727273, 0.6301369863013698, 0.6284403669724771, 0.631336405529954, 0.6296296296296297, 0.6325581395348837, 0.6308411214953271, 0.6291079812206573, 0.6273584905660378, 0.6255924170616114, 0.6285714285714286, 0.6267942583732058, 0.6298076923076923, 0.6280193236714976, 0.6310679611650486, 0.6292682926829268, 0.6274509803921569, 0.6305418719211823, 0.6336633663366337, 0.6318407960199005, 0.63, 0.6331658291457286, 0.6363636363636364, 0.6345177664974619, 0.6377551020408163, 0.6358974358974359, 0.6391752577319587, 0.6373056994818653, 0.6354166666666666, 0.6387434554973822, 0.6368421052631579, 0.6402116402116402, 0.6382978723404256, 0.6363636363636364, 0.6397849462365591, 0.6378378378378379, 0.6413043478260869, 0.644808743169399, 0.6428571428571429, 0.6464088397790055, 0.6444444444444445, 0.6424581005586593, 0.6404494382022472, 0.6440677966101694, 0.6420454545454546, 0.6457142857142857, 0.6436781609195402, 0.6416184971098265, 0.6453488372093024, 0.6491228070175439, 0.6470588235294118, 0.6449704142011834, 0.6488095238095238, 0.6467065868263473, 0.6506024096385542, 0.6484848484848484, 0.6524390243902439, 0.656441717791411, 0.6604938271604939, 0.6645962732919255, 0.66875, 0.6666666666666666, 0.6645569620253164, 0.6687898089171974, 0.6666666666666666, 0.6645161290322581, 0.6623376623376623, 0.6601307189542484, 0.6578947368421053, 0.6556291390728477, 0.6533333333333333, 0.6510067114093959, 0.6554054054054054, 0.6598639455782312, 0.6643835616438356, 0.6689655172413793, 0.6666666666666666, 0.6643356643356644, 0.6619718309859155, 0.6666666666666666, 0.6642857142857143, 0.6618705035971223, 0.6594202898550725, 0.656934306569343, 0.6544117647058824, 0.6518518518518519, 0.6492537313432836, 0.6466165413533834, 0.6439393939393939, 0.6412213740458015, 0.6384615384615384, 0.6356589147286822, 0.640625, 0.6377952755905512, 0.6428571428571429, 0.64, 0.6451612903225806, 0.6504065040650406, 0.6475409836065574, 0.6528925619834711, 0.65, 0.6554621848739496, 0.652542372881356, 0.6495726495726496, 0.646551724137931, 0.6434782608695652, 0.6491228070175439, 0.6548672566371682, 0.6517857142857143, 0.6486486486486487, 0.6454545454545455, 0.6513761467889908, 0.6481481481481481, 0.6448598130841121, 0.6509433962264151, 0.6571428571428571, 0.6634615384615384, 0.6601941747572816, 0.6568627450980392, 0.6534653465346535, 0.65, 0.6464646464646465, 0.6530612244897959, 0.6494845360824743, 0.6458333333333334, 0.6526315789473685, 0.648936170212766, 0.6451612903225806, 0.6413043478260869, 0.6373626373626373, 0.6444444444444445, 0.651685393258427, 0.6590909090909091, 0.6551724137931034, 0.6511627906976745, 0.6470588235294118, 0.6428571428571429, 0.6506024096385542, 0.6463414634146342, 0.6419753086419753, 0.6375, 0.6329113924050633, 0.6410256410256411, 0.6363636363636364, 0.6447368421052632, 0.64, 0.6351351351351351, 0.6301369863013698, 0.625, 0.6197183098591549, 0.6142857142857143, 0.6086956521739131, 0.6029411764705882, 0.5970149253731343, 0.6060606060606061, 0.6, 0.609375, 0.6190476190476191, 0.6129032258064516, 0.6065573770491803, 0.6, 0.6101694915254238, 0.6206896551724138, 0.6140350877192983, 0.6071428571428571, 0.6, 0.5925925925925926, 0.5849056603773585, 0.5961538461538461, 0.5882352941176471, 0.58, 0.5714285714285714, 0.5625, 0.574468085106383, 0.5869565217391305, 0.5777777777777777, 0.5681818181818182, 0.5813953488372093, 0.5714285714285714, 0.5609756097560976, 0.55, 0.5384615384615384, 0.5263157894736842, 0.5405405405405406, 0.5277777777777778, 0.5142857142857142, 0.5, 0.5151515151515151, 0.53125, 0.5161290322580645, 0.5, 0.5172413793103449, 0.5, 0.5185185185185185, 0.5384615384615384, 0.52, 0.5416666666666666, 0.5217391304347826, 0.5454545454545454, 0.5238095238095238, 0.5, 0.47368421052631576, 0.4444444444444444, 0.4117647058823529, 0.375, 0.4, 0.35714285714285715, 0.38461538461538464, 0.4166666666666667, 0.36363636363636365, 0.4, 0.4444444444444444, 0.375, 0.42857142857142855, 0.5, 0.6, 0.5, 0.3333333333333333, 0.0, 0.0, 1.0]}, {\"mode\": \"lines\", \"name\": \"RF\", \"type\": \"scatter\", \"x\": [1.0, 0.9973262032085561, 0.9973262032085561, 0.9973262032085561, 0.9893048128342246, 0.9893048128342246, 0.9893048128342246, 0.9893048128342246, 0.9893048128342246, 0.9893048128342246, 0.9893048128342246, 0.9893048128342246, 0.9866310160427807, 0.9866310160427807, 0.983957219251337, 0.983957219251337, 0.983957219251337, 0.983957219251337, 0.9812834224598931, 0.9786096256684492, 0.9786096256684492, 0.9732620320855615, 0.9732620320855615, 0.9732620320855615, 0.9705882352941176, 0.9679144385026738, 0.9652406417112299, 0.9652406417112299, 0.9652406417112299, 0.9652406417112299, 0.9598930481283422, 0.9545454545454546, 0.9545454545454546, 0.9491978609625669, 0.946524064171123, 0.9438502673796791, 0.9411764705882353, 0.9411764705882353, 0.9385026737967914, 0.9385026737967914, 0.93048128342246, 0.93048128342246, 0.93048128342246, 0.9278074866310161, 0.9278074866310161, 0.9278074866310161, 0.9278074866310161, 0.9278074866310161, 0.9278074866310161, 0.9251336898395722, 0.9251336898395722, 0.9251336898395722, 0.9251336898395722, 0.9251336898395722, 0.9224598930481284, 0.9224598930481284, 0.9224598930481284, 0.9224598930481284, 0.9224598930481284, 0.9197860962566845, 0.9197860962566845, 0.9197860962566845, 0.9171122994652406, 0.9171122994652406, 0.9144385026737968, 0.9117647058823529, 0.9117647058823529, 0.9117647058823529, 0.9117647058823529, 0.9117647058823529, 0.9117647058823529, 0.9117647058823529, 0.9117647058823529, 0.9090909090909091, 0.9064171122994652, 0.9064171122994652, 0.9064171122994652, 0.9064171122994652, 0.9037433155080213, 0.9037433155080213, 0.9037433155080213, 0.9037433155080213, 0.9037433155080213, 0.9037433155080213, 0.9037433155080213, 0.9010695187165776, 0.9010695187165776, 0.9010695187165776, 0.8983957219251337, 0.8983957219251337, 0.8983957219251337, 0.8983957219251337, 0.8903743315508021, 0.8877005347593583, 0.8877005347593583, 0.8823529411764706, 0.8823529411764706, 0.8796791443850267, 0.8770053475935828, 0.8743315508021391, 0.8743315508021391, 0.8716577540106952, 0.8716577540106952, 0.8689839572192514, 0.8663101604278075, 0.8636363636363636, 0.8636363636363636, 0.8609625668449198, 0.8609625668449198, 0.8582887700534759, 0.8529411764705882, 0.8502673796791443, 0.8449197860962567, 0.8422459893048129, 0.8422459893048129, 0.8422459893048129, 0.8422459893048129, 0.839572192513369, 0.8368983957219251, 0.8368983957219251, 0.8342245989304813, 0.8315508021390374, 0.8315508021390374, 0.8288770053475936, 0.8288770053475936, 0.8288770053475936, 0.8288770053475936, 0.8288770053475936, 0.8288770053475936, 0.8262032085561497, 0.8262032085561497, 0.8262032085561497, 0.8235294117647058, 0.8155080213903744, 0.8155080213903744, 0.8101604278074866, 0.8101604278074866, 0.8101604278074866, 0.8074866310160428, 0.8048128342245989, 0.8048128342245989, 0.8048128342245989, 0.8048128342245989, 0.7967914438502673, 0.7941176470588235, 0.7941176470588235, 0.7914438502673797, 0.7914438502673797, 0.7914438502673797, 0.7887700534759359, 0.7887700534759359, 0.7887700534759359, 0.7887700534759359, 0.7887700534759359, 0.786096256684492, 0.7780748663101604, 0.7780748663101604, 0.7754010695187166, 0.7754010695187166, 0.767379679144385, 0.767379679144385, 0.767379679144385, 0.7647058823529411, 0.7647058823529411, 0.7647058823529411, 0.7647058823529411, 0.7647058823529411, 0.7620320855614974, 0.7620320855614974, 0.7620320855614974, 0.7620320855614974, 0.7620320855614974, 0.7593582887700535, 0.7593582887700535, 0.7593582887700535, 0.7566844919786097, 0.7566844919786097, 0.7540106951871658, 0.7540106951871658, 0.7513368983957219, 0.7486631016042781, 0.7486631016042781, 0.7486631016042781, 0.7486631016042781, 0.7486631016042781, 0.7459893048128342, 0.7459893048128342, 0.7433155080213903, 0.7406417112299465, 0.7406417112299465, 0.7379679144385026, 0.7299465240641712, 0.7299465240641712, 0.7299465240641712, 0.7299465240641712, 0.7272727272727273, 0.7245989304812834, 0.7219251336898396, 0.7219251336898396, 0.7219251336898396, 0.7219251336898396, 0.7192513368983957, 0.7165775401069518, 0.7165775401069518, 0.713903743315508, 0.713903743315508, 0.713903743315508, 0.713903743315508, 0.713903743315508, 0.7112299465240641, 0.7085561497326203, 0.7085561497326203, 0.7085561497326203, 0.7085561497326203, 0.7085561497326203, 0.7058823529411765, 0.7058823529411765, 0.7058823529411765, 0.7058823529411765, 0.6978609625668449, 0.6951871657754011, 0.6951871657754011, 0.6951871657754011, 0.6925133689839572, 0.6925133689839572, 0.6898395721925134, 0.6898395721925134, 0.6871657754010695, 0.6844919786096256, 0.6844919786096256, 0.6844919786096256, 0.6764705882352942, 0.6764705882352942, 0.6737967914438503, 0.6737967914438503, 0.6737967914438503, 0.6711229946524064, 0.6684491978609626, 0.6657754010695187, 0.6657754010695187, 0.6631016042780749, 0.6631016042780749, 0.6631016042780749, 0.6631016042780749, 0.6550802139037433, 0.6524064171122995, 0.6497326203208557, 0.6497326203208557, 0.6470588235294118, 0.6470588235294118, 0.6470588235294118, 0.6443850267379679, 0.6443850267379679, 0.6443850267379679, 0.6443850267379679, 0.6443850267379679, 0.6443850267379679, 0.6443850267379679, 0.6417112299465241, 0.6417112299465241, 0.6417112299465241, 0.6417112299465241, 0.6417112299465241, 0.6390374331550802, 0.6363636363636364, 0.6363636363636364, 0.6363636363636364, 0.6363636363636364, 0.6363636363636364, 0.6363636363636364, 0.6363636363636364, 0.6336898395721925, 0.6336898395721925, 0.6336898395721925, 0.6310160427807486, 0.6310160427807486, 0.6283422459893048, 0.6283422459893048, 0.6283422459893048, 0.6256684491978609, 0.6229946524064172, 0.6176470588235294, 0.6149732620320856, 0.6096256684491979, 0.6096256684491979, 0.606951871657754, 0.6042780748663101, 0.6016042780748663, 0.5989304812834224, 0.5962566844919787, 0.5962566844919787, 0.5935828877005348, 0.5909090909090909, 0.5909090909090909, 0.5882352941176471, 0.5882352941176471, 0.5882352941176471, 0.5855614973262032, 0.5855614973262032, 0.5855614973262032, 0.5855614973262032, 0.5855614973262032, 0.5855614973262032, 0.5855614973262032, 0.5855614973262032, 0.5855614973262032, 0.5828877005347594, 0.5802139037433155, 0.5775401069518716, 0.5775401069518716, 0.5748663101604278, 0.5721925133689839, 0.56951871657754, 0.56951871657754, 0.56951871657754, 0.5668449197860963, 0.5668449197860963, 0.5641711229946524, 0.5614973262032086, 0.5614973262032086, 0.5588235294117647, 0.5588235294117647, 0.5561497326203209, 0.553475935828877, 0.5508021390374331, 0.5481283422459893, 0.5481283422459893, 0.5481283422459893, 0.5481283422459893, 0.5481283422459893, 0.5481283422459893, 0.5481283422459893, 0.5481283422459893, 0.5481283422459893, 0.5454545454545454, 0.5427807486631016, 0.5401069518716578, 0.5374331550802139, 0.5374331550802139, 0.5374331550802139, 0.5347593582887701, 0.5347593582887701, 0.5320855614973262, 0.5320855614973262, 0.5320855614973262, 0.5320855614973262, 0.5320855614973262, 0.5320855614973262, 0.5320855614973262, 0.5320855614973262, 0.5294117647058824, 0.5267379679144385, 0.5240641711229946, 0.5213903743315508, 0.5213903743315508, 0.516042780748663, 0.5133689839572193, 0.5106951871657754, 0.5080213903743316, 0.5053475935828877, 0.5026737967914439, 0.5026737967914439, 0.5026737967914439, 0.5026737967914439, 0.5, 0.5, 0.5, 0.5, 0.49732620320855614, 0.49732620320855614, 0.49732620320855614, 0.4946524064171123, 0.4946524064171123, 0.4919786096256685, 0.4919786096256685, 0.4893048128342246, 0.48663101604278075, 0.4839572192513369, 0.48128342245989303, 0.4786096256684492, 0.47593582887700536, 0.4732620320855615, 0.47058823529411764, 0.47058823529411764, 0.4679144385026738, 0.46524064171123, 0.4625668449197861, 0.4625668449197861, 0.45989304812834225, 0.4572192513368984, 0.4572192513368984, 0.4572192513368984, 0.45454545454545453, 0.45187165775401067, 0.44919786096256686, 0.446524064171123, 0.446524064171123, 0.44385026737967914, 0.4411764705882353, 0.4385026737967914, 0.4358288770053476, 0.4358288770053476, 0.4358288770053476, 0.4358288770053476, 0.43315508021390375, 0.43315508021390375, 0.4304812834224599, 0.42780748663101603, 0.42780748663101603, 0.42513368983957217, 0.42513368983957217, 0.42513368983957217, 0.42245989304812837, 0.42245989304812837, 0.4197860962566845, 0.41711229946524064, 0.4144385026737968, 0.4117647058823529, 0.4090909090909091, 0.4090909090909091, 0.4090909090909091, 0.40641711229946526, 0.4037433155080214, 0.40106951871657753, 0.3983957219251337, 0.3983957219251337, 0.3983957219251337, 0.39572192513368987, 0.393048128342246, 0.393048128342246, 0.39037433155080214, 0.39037433155080214, 0.3877005347593583, 0.3850267379679144, 0.38235294117647056, 0.38235294117647056, 0.37967914438502676, 0.37967914438502676, 0.37967914438502676, 0.3770053475935829, 0.3770053475935829, 0.37433155080213903, 0.3716577540106952, 0.3689839572192513, 0.3663101604278075, 0.36363636363636365, 0.36363636363636365, 0.36363636363636365, 0.3609625668449198, 0.3609625668449198, 0.3582887700534759, 0.35561497326203206, 0.35561497326203206, 0.35294117647058826, 0.3502673796791444, 0.3502673796791444, 0.3502673796791444, 0.34759358288770054, 0.3449197860962567, 0.3422459893048128, 0.339572192513369, 0.339572192513369, 0.33689839572192515, 0.33689839572192515, 0.3342245989304813, 0.3342245989304813, 0.3315508021390374, 0.32887700534759357, 0.32620320855614976, 0.32620320855614976, 0.3235294117647059, 0.3235294117647059, 0.3235294117647059, 0.3235294117647059, 0.3235294117647059, 0.32085561497326204, 0.3181818181818182, 0.3155080213903743, 0.3155080213903743, 0.31283422459893045, 0.31016042780748665, 0.31016042780748665, 0.31016042780748665, 0.3074866310160428, 0.3048128342245989, 0.3048128342245989, 0.30213903743315507, 0.2994652406417112, 0.2967914438502674, 0.2967914438502674, 0.29411764705882354, 0.2914438502673797, 0.2914438502673797, 0.2914438502673797, 0.2914438502673797, 0.2887700534759358, 0.28609625668449196, 0.28342245989304815, 0.2807486631016043, 0.27807486631016043, 0.27807486631016043, 0.27540106951871657, 0.2727272727272727, 0.2700534759358289, 0.2700534759358289, 0.26737967914438504, 0.2620320855614973, 0.2620320855614973, 0.2620320855614973, 0.25935828877005346, 0.25935828877005346, 0.25668449197860965, 0.2540106951871658, 0.2540106951871658, 0.25133689839572193, 0.25133689839572193, 0.24866310160427807, 0.24866310160427807, 0.24598930481283424, 0.24331550802139038, 0.24331550802139038, 0.24064171122994651, 0.23796791443850268, 0.23529411764705882, 0.232620320855615, 0.232620320855615, 0.22994652406417113, 0.22727272727272727, 0.22459893048128343, 0.22192513368983957, 0.2192513368983957, 0.2192513368983957, 0.2192513368983957, 0.2192513368983957, 0.21657754010695188, 0.21390374331550802, 0.21390374331550802, 0.21122994652406418, 0.21122994652406418, 0.20855614973262032, 0.20588235294117646, 0.20320855614973263, 0.20053475935828877, 0.20053475935828877, 0.19786096256684493, 0.19518716577540107, 0.1925133689839572, 0.1925133689839572, 0.18983957219251338, 0.18983957219251338, 0.18716577540106952, 0.18449197860962566, 0.18449197860962566, 0.18181818181818182, 0.18181818181818182, 0.17914438502673796, 0.17914438502673796, 0.17647058823529413, 0.17379679144385027, 0.17379679144385027, 0.17379679144385027, 0.1711229946524064, 0.16844919786096257, 0.16844919786096257, 0.1657754010695187, 0.16310160427807488, 0.16042780748663102, 0.15775401069518716, 0.15508021390374332, 0.15508021390374332, 0.15240641711229946, 0.15240641711229946, 0.15240641711229946, 0.1497326203208556, 0.14705882352941177, 0.1443850267379679, 0.14171122994652408, 0.14171122994652408, 0.14171122994652408, 0.14171122994652408, 0.13903743315508021, 0.13903743315508021, 0.13636363636363635, 0.13636363636363635, 0.13368983957219252, 0.13101604278074866, 0.13101604278074866, 0.12834224598930483, 0.12566844919786097, 0.12299465240641712, 0.12299465240641712, 0.12032085561497326, 0.11764705882352941, 0.11764705882352941, 0.11764705882352941, 0.11497326203208556, 0.11497326203208556, 0.11229946524064172, 0.10962566844919786, 0.10695187165775401, 0.10427807486631016, 0.10160427807486631, 0.09893048128342247, 0.09893048128342247, 0.0962566844919786, 0.09358288770053476, 0.09358288770053476, 0.09090909090909091, 0.08823529411764706, 0.08823529411764706, 0.0855614973262032, 0.08288770053475936, 0.08288770053475936, 0.08021390374331551, 0.07754010695187166, 0.07754010695187166, 0.0748663101604278, 0.07219251336898395, 0.06951871657754011, 0.06684491978609626, 0.06684491978609626, 0.06417112299465241, 0.06417112299465241, 0.06149732620320856, 0.06149732620320856, 0.058823529411764705, 0.058823529411764705, 0.05614973262032086, 0.053475935828877004, 0.05080213903743316, 0.0481283422459893, 0.045454545454545456, 0.0427807486631016, 0.040106951871657755, 0.0374331550802139, 0.034759358288770054, 0.03208556149732621, 0.029411764705882353, 0.026737967914438502, 0.026737967914438502, 0.02406417112299465, 0.02406417112299465, 0.0213903743315508, 0.01871657754010695, 0.01871657754010695, 0.016042780748663103, 0.016042780748663103, 0.013368983957219251, 0.0106951871657754, 0.008021390374331552, 0.0053475935828877, 0.00267379679144385, 0.0], \"y\": [0.2658137882018479, 0.2840822543792841, 0.2842987804878049, 0.29768555466879487, 0.30502885408079145, 0.31223628691983124, 0.31759656652360513, 0.3225806451612903, 0.3291814946619217, 0.3345388788426763, 0.3391384051329056, 0.3422756706753006, 0.34615384615384615, 0.3464788732394366, 0.35014272121788775, 0.3504761904761905, 0.35452793834296725, 0.3548698167791707, 0.35424710424710426, 0.357421875, 0.35777126099706746, 0.3614697120158888, 0.36182902584493043, 0.36218905472636814, 0.36703741152679475, 0.36639676113360325, 0.3710174717368962, 0.3713991769547325, 0.3717816683831102, 0.37216494845360826, 0.37279335410176534, 0.37697993664202745, 0.3773784355179704, 0.38008565310492504, 0.37942122186495175, 0.38369565217391305, 0.383025027203482, 0.38596491228070173, 0.38529088913282106, 0.38571428571428573, 0.38752783964365256, 0.3879598662207358, 0.38839285714285715, 0.3877094972067039, 0.38814317673378074, 0.3925339366515837, 0.3929784824462061, 0.3934240362811791, 0.3938706015891033, 0.3931818181818182, 0.39588100686498856, 0.3963344788087056, 0.3967889908256881, 0.39724454649827784, 0.39655172413793105, 0.39976825028968715, 0.40023201856148494, 0.40069686411149824, 0.4011627906976744, 0.40518256772673733, 0.4056603773584906, 0.4090368608799049, 0.4083333333333333, 0.4088200238379023, 0.41007194244604317, 0.40936374549819926, 0.4098557692307692, 0.41034897713598073, 0.41333333333333333, 0.41383495145631066, 0.41995073891625617, 0.4204685573366215, 0.42098765432098767, 0.4218362282878412, 0.42534504391468003, 0.4258793969849246, 0.42641509433962266, 0.4307496823379924, 0.4300254452926209, 0.4305732484076433, 0.43612903225806454, 0.43669250645994834, 0.4406779661016949, 0.4412532637075718, 0.4418300653594771, 0.4410994764397906, 0.4416775884665793, 0.442257217847769, 0.4474034620505992, 0.448, 0.4485981308411215, 0.44919786096256686, 0.451831750339213, 0.45108695652173914, 0.45170068027210886, 0.45643153526970953, 0.45706371191135736, 0.4563106796116505, 0.45555555555555555, 0.4592696629213483, 0.459915611814346, 0.4624113475177305, 0.4630681818181818, 0.4623044096728307, 0.4648493543758967, 0.4640804597701149, 0.46474820143884893, 0.46397694524495675, 0.46464646464646464, 0.46589259796806964, 0.4643377001455604, 0.46355685131195334, 0.4647058823529412, 0.4639175257731959, 0.4646017699115044, 0.465288035450517, 0.46597633136094674, 0.4651851851851852, 0.46439169139465875, 0.4650817236255572, 0.4642857142857143, 0.4662668665667166, 0.466966966966967, 0.46616541353383456, 0.47040971168437024, 0.47112462006079026, 0.471841704718417, 0.4725609756097561, 0.4732824427480916, 0.47685185185185186, 0.4775888717156105, 0.47832817337461303, 0.47751937984496123, 0.4810725552050473, 0.48183254344391785, 0.4855769230769231, 0.48635634028892455, 0.4871382636655949, 0.4878836833602585, 0.4878444084278768, 0.4894308943089431, 0.49022801302931596, 0.4910277324632953, 0.49174917491749176, 0.4909090909090909, 0.4917218543046358, 0.49087893864013266, 0.49169435215946844, 0.4925124792013311, 0.49331103678929766, 0.49413735343383586, 0.4949664429530201, 0.4957983193277311, 0.49663299663299665, 0.4957841483979764, 0.4957410562180579, 0.49658703071672355, 0.4991394148020654, 0.5, 0.5008726003490401, 0.5017482517482518, 0.5061728395061729, 0.5053003533568905, 0.5061946902654867, 0.5070921985815603, 0.5079928952042628, 0.5107142857142857, 0.5098389982110912, 0.510752688172043, 0.5116696588868941, 0.512589928057554, 0.5135135135135135, 0.5126353790613718, 0.5135623869801085, 0.5144927536231884, 0.5136116152450091, 0.5145454545454545, 0.5164835164835165, 0.5174311926605505, 0.5165441176470589, 0.5156537753222836, 0.5166051660516605, 0.5175600739371534, 0.5223880597014925, 0.5233644859813084, 0.5224719101123596, 0.5284090909090909, 0.5275142314990512, 0.526615969581749, 0.5276190476190477, 0.5267175572519084, 0.527027027027027, 0.528046421663443, 0.5290697674418605, 0.5311284046692607, 0.530214424951267, 0.529296875, 0.5335968379446641, 0.5346534653465347, 0.5357142857142857, 0.536779324055666, 0.538, 0.5370741482965932, 0.5381526104417671, 0.5372233400402414, 0.5383064516129032, 0.5393939393939394, 0.5404858299595142, 0.5415821501014199, 0.540650406504065, 0.539714867617108, 0.5430327868852459, 0.5441478439425051, 0.5452674897119342, 0.5463917525773195, 0.5454545454545454, 0.546583850931677, 0.5477178423236515, 0.5488565488565489, 0.5471698113207547, 0.5462184873949579, 0.5473684210526316, 0.5485232067510548, 0.547568710359408, 0.548728813559322, 0.5536480686695279, 0.5548387096774193, 0.5538793103448276, 0.5529157667386609, 0.5541125541125541, 0.5553145336225597, 0.5536105032822757, 0.5572687224669604, 0.5562913907284768, 0.5575221238938053, 0.5587583148558758, 0.5577777777777778, 0.5567928730512249, 0.5558035714285714, 0.5570469798657718, 0.5560538116591929, 0.5573033707865168, 0.5585585585585585, 0.5598194130925508, 0.5593607305936074, 0.5583524027459954, 0.5573394495412844, 0.5586206896551724, 0.5576036866359447, 0.558891454965358, 0.5601851851851852, 0.5591647331786543, 0.5604651162790698, 0.5617715617715617, 0.5630841121495327, 0.5657276995305164, 0.5670588235294117, 0.5683962264150944, 0.5673758865248227, 0.5687203791469194, 0.5700712589073634, 0.5714285714285714, 0.5727923627684964, 0.5731414868105515, 0.5721153846153846, 0.5734939759036145, 0.5748792270531401, 0.576271186440678, 0.5776699029126213, 0.5790754257907542, 0.5804878048780487, 0.5794621026894865, 0.5808823529411765, 0.5823095823095823, 0.5841584158415841, 0.5856079404466501, 0.5845771144278606, 0.5860349127182045, 0.5875, 0.5864661654135338, 0.585427135678392, 0.5833333333333334, 0.5822784810126582, 0.5801526717557252, 0.5816326530612245, 0.5805626598465473, 0.5794871794871795, 0.5784061696658098, 0.5773195876288659, 0.5777202072538861, 0.5792207792207792, 0.5796344647519582, 0.5785340314136126, 0.5800524934383202, 0.5789473684210527, 0.5804749340369393, 0.582010582010582, 0.5809018567639257, 0.5824468085106383, 0.584, 0.5855614973262032, 0.5871313672922251, 0.5887096774193549, 0.5902964959568733, 0.5918918918918918, 0.5934959349593496, 0.592391304347826, 0.5912806539509536, 0.5901639344262295, 0.5917808219178082, 0.5906593406593407, 0.5895316804407713, 0.5883977900552486, 0.590027700831025, 0.5916666666666667, 0.5905292479108635, 0.5921787709497207, 0.5910364145658263, 0.5898876404494382, 0.5915492957746479, 0.5903954802259888, 0.5920679886685553, 0.5942857142857143, 0.5931232091690545, 0.5919540229885057, 0.590778097982709, 0.5924855491329479, 0.5959302325581395, 0.597667638483965, 0.5994152046783626, 0.6011730205278593, 0.6029411764705882, 0.6047197640117994, 0.606508875739645, 0.6053412462908012, 0.6059701492537314, 0.6047904191616766, 0.6036036036036037, 0.6054216867469879, 0.6072507552870091, 0.6097560975609756, 0.6116207951070336, 0.6104294478527608, 0.6123076923076923, 0.6141975308641975, 0.6160990712074303, 0.6180124223602484, 0.6199376947040498, 0.621875, 0.6277602523659306, 0.6265822784810127, 0.6253968253968254, 0.6242038216560509, 0.6230031948881789, 0.625, 0.6225806451612903, 0.6213592233009708, 0.6201298701298701, 0.6188925081433225, 0.6176470588235294, 0.6163934426229508, 0.618421052631579, 0.6204620462046204, 0.6225165562913907, 0.6212624584717608, 0.6254180602006689, 0.62751677852349, 0.6296296296296297, 0.6326530612244898, 0.6348122866894198, 0.636986301369863, 0.6357388316151202, 0.6379310344827587, 0.6366782006920415, 0.6388888888888888, 0.6376306620209059, 0.6363636363636364, 0.6373239436619719, 0.6360424028268551, 0.6347517730496454, 0.6334519572953736, 0.6321428571428571, 0.6308243727598566, 0.6330935251798561, 0.6340579710144928, 0.6327272727272727, 0.6313868613138686, 0.6336996336996337, 0.6323529411764706, 0.6356877323420075, 0.6380597014925373, 0.6404494382022472, 0.6390977443609023, 0.6377358490566037, 0.6363636363636364, 0.6349809885931559, 0.6374045801526718, 0.6360153256704981, 0.6346153846153846, 0.6332046332046332, 0.6317829457364341, 0.6342412451361867, 0.63671875, 0.6417322834645669, 0.6403162055335968, 0.6428571428571429, 0.6414342629482072, 0.64, 0.642570281124498, 0.6411290322580645, 0.6437246963562753, 0.6463414634146342, 0.6448979591836734, 0.6475409836065574, 0.6460905349794238, 0.6446280991735537, 0.6485355648535565, 0.6470588235294118, 0.6455696202531646, 0.6483050847457628, 0.6510638297872341, 0.6495726495726496, 0.648068669527897, 0.646551724137931, 0.645021645021645, 0.6478260869565218, 0.6506550218340611, 0.6491228070175439, 0.6475770925110133, 0.6504424778761062, 0.6488888888888888, 0.6517857142857143, 0.6502242152466368, 0.6486486486486487, 0.6470588235294118, 0.65, 0.6484018264840182, 0.6513761467889908, 0.6543778801843319, 0.6527777777777778, 0.6558139534883721, 0.6542056074766355, 0.6525821596244131, 0.6509433962264151, 0.6492890995260664, 0.6476190476190476, 0.6507177033492823, 0.6538461538461539, 0.6521739130434783, 0.6553398058252428, 0.6536585365853659, 0.6519607843137255, 0.6551724137931034, 0.6534653465346535, 0.6517412935323383, 0.655, 0.6582914572864321, 0.6565656565656566, 0.6548223350253807, 0.6530612244897959, 0.654639175257732, 0.6580310880829016, 0.65625, 0.6596858638743456, 0.6578947368421053, 0.6613756613756614, 0.6595744680851063, 0.6577540106951871, 0.6559139784946236, 0.6594594594594595, 0.657608695652174, 0.6612021857923497, 0.6648351648351648, 0.6685082872928176, 0.6722222222222223, 0.6703910614525139, 0.6685393258426966, 0.6666666666666666, 0.6704545454545454, 0.6685714285714286, 0.6666666666666666, 0.6705202312138728, 0.6744186046511628, 0.672514619883041, 0.6705882352941176, 0.6745562130177515, 0.6726190476190477, 0.6706586826347305, 0.6686746987951807, 0.6727272727272727, 0.6707317073170732, 0.6687116564417178, 0.6728395061728395, 0.6770186335403726, 0.68125, 0.6792452830188679, 0.6772151898734177, 0.6751592356687898, 0.6730769230769231, 0.6709677419354839, 0.6753246753246753, 0.673202614379085, 0.6710526315789473, 0.6688741721854304, 0.6733333333333333, 0.6711409395973155, 0.6712328767123288, 0.6758620689655173, 0.6805555555555556, 0.6783216783216783, 0.6830985915492958, 0.6808510638297872, 0.6785714285714286, 0.6834532374100719, 0.6811594202898551, 0.6861313868613139, 0.6838235294117647, 0.6888888888888889, 0.6865671641791045, 0.6842105263157895, 0.6893939393939394, 0.6870229007633588, 0.6846153846153846, 0.6821705426356589, 0.6796875, 0.6850393700787402, 0.6825396825396826, 0.68, 0.6774193548387096, 0.6747967479674797, 0.6721311475409836, 0.6776859504132231, 0.6833333333333333, 0.6890756302521008, 0.6864406779661016, 0.6837606837606838, 0.6896551724137931, 0.6869565217391305, 0.6929824561403509, 0.6902654867256637, 0.6875, 0.6846846846846847, 0.6818181818181818, 0.6880733944954128, 0.6851851851851852, 0.6822429906542056, 0.6792452830188679, 0.6857142857142857, 0.6826923076923077, 0.6893203883495146, 0.6862745098039216, 0.6831683168316832, 0.69, 0.6868686868686869, 0.6938775510204082, 0.6907216494845361, 0.6979166666666666, 0.6947368421052632, 0.6914893617021277, 0.6989247311827957, 0.7065217391304348, 0.7032967032967034, 0.7, 0.7078651685393258, 0.7045454545454546, 0.7011494252873564, 0.6976744186046512, 0.6941176470588235, 0.6904761904761905, 0.6987951807228916, 0.6951219512195121, 0.7037037037037037, 0.7125, 0.7088607594936709, 0.7051282051282052, 0.7012987012987013, 0.6973684210526315, 0.7066666666666667, 0.7162162162162162, 0.726027397260274, 0.7222222222222222, 0.7323943661971831, 0.7285714285714285, 0.7391304347826086, 0.7352941176470589, 0.7313432835820896, 0.7424242424242424, 0.7384615384615385, 0.734375, 0.7301587301587301, 0.7419354838709677, 0.7377049180327869, 0.7333333333333333, 0.7457627118644068, 0.7586206896551724, 0.7543859649122807, 0.7678571428571429, 0.7636363636363637, 0.7592592592592593, 0.7547169811320755, 0.75, 0.7450980392156863, 0.74, 0.7551020408163265, 0.75, 0.7446808510638298, 0.7608695652173914, 0.7555555555555555, 0.75, 0.7674418604651163, 0.7619047619047619, 0.7560975609756098, 0.775, 0.7692307692307693, 0.7631578947368421, 0.7837837837837838, 0.7777777777777778, 0.7714285714285715, 0.7647058823529411, 0.7575757575757576, 0.78125, 0.7741935483870968, 0.8, 0.7931034482758621, 0.8214285714285714, 0.8148148148148148, 0.8461538461538461, 0.84, 0.8333333333333334, 0.8260869565217391, 0.8181818181818182, 0.8095238095238095, 0.8, 0.7894736842105263, 0.7777777777777778, 0.7647058823529411, 0.75, 0.7333333333333333, 0.7142857142857143, 0.7692307692307693, 0.75, 0.8181818181818182, 0.8, 0.7777777777777778, 0.875, 0.8571428571428571, 1.0, 1.0, 1.0, 1.0, 1.0, 1.0, 1.0]}, {\"mode\": \"lines\", \"name\": \"ADA\", \"type\": \"scatter\", \"x\": [1.0, 0.9973262032085561, 0.9973262032085561, 0.9973262032085561, 0.9973262032085561, 0.9973262032085561, 0.9973262032085561, 0.9973262032085561, 0.9973262032085561, 0.9973262032085561, 0.9973262032085561, 0.9973262032085561, 0.9973262032085561, 0.9973262032085561, 0.9973262032085561, 0.9973262032085561, 0.9973262032085561, 0.9973262032085561, 0.9973262032085561, 0.9973262032085561, 0.9973262032085561, 0.9973262032085561, 0.9973262032085561, 0.9973262032085561, 0.9973262032085561, 0.9973262032085561, 0.9973262032085561, 0.9973262032085561, 0.9973262032085561, 0.9973262032085561, 0.9973262032085561, 0.9973262032085561, 0.9973262032085561, 0.9973262032085561, 0.9973262032085561, 0.9973262032085561, 0.9973262032085561, 0.9973262032085561, 0.9973262032085561, 0.9973262032085561, 0.9973262032085561, 0.9973262032085561, 0.9973262032085561, 0.9973262032085561, 0.9973262032085561, 0.9973262032085561, 0.9973262032085561, 0.9973262032085561, 0.9973262032085561, 0.9973262032085561, 0.9973262032085561, 0.9973262032085561, 0.9973262032085561, 0.9973262032085561, 0.9973262032085561, 0.9973262032085561, 0.9973262032085561, 0.9973262032085561, 0.9973262032085561, 0.9973262032085561, 0.9973262032085561, 0.9973262032085561, 0.9973262032085561, 0.9973262032085561, 0.9973262032085561, 0.9973262032085561, 0.9973262032085561, 0.9973262032085561, 0.9973262032085561, 0.9973262032085561, 0.9973262032085561, 0.9973262032085561, 0.9973262032085561, 0.9973262032085561, 0.9973262032085561, 0.9973262032085561, 0.9973262032085561, 0.9973262032085561, 0.9973262032085561, 0.9973262032085561, 0.9973262032085561, 0.9973262032085561, 0.9973262032085561, 0.9973262032085561, 0.9973262032085561, 0.9973262032085561, 0.9973262032085561, 0.9973262032085561, 0.9973262032085561, 0.9973262032085561, 0.9973262032085561, 0.9973262032085561, 0.9973262032085561, 0.9973262032085561, 0.9973262032085561, 0.9973262032085561, 0.9973262032085561, 0.9973262032085561, 0.9973262032085561, 0.9973262032085561, 0.9973262032085561, 0.9973262032085561, 0.9973262032085561, 0.9973262032085561, 0.9973262032085561, 0.9973262032085561, 0.9973262032085561, 0.9973262032085561, 0.9973262032085561, 0.9973262032085561, 0.9973262032085561, 0.9973262032085561, 0.9973262032085561, 0.9973262032085561, 0.9973262032085561, 0.9973262032085561, 0.9973262032085561, 0.9973262032085561, 0.9973262032085561, 0.9973262032085561, 0.9973262032085561, 0.9973262032085561, 0.9973262032085561, 0.9973262032085561, 0.9973262032085561, 0.9973262032085561, 0.9973262032085561, 0.9973262032085561, 0.9973262032085561, 0.9973262032085561, 0.9973262032085561, 0.9973262032085561, 0.9973262032085561, 0.9973262032085561, 0.9973262032085561, 0.9973262032085561, 0.9973262032085561, 0.9973262032085561, 0.9973262032085561, 0.9973262032085561, 0.9973262032085561, 0.9973262032085561, 0.9973262032085561, 0.9973262032085561, 0.9973262032085561, 0.9973262032085561, 0.9973262032085561, 0.9973262032085561, 0.9973262032085561, 0.9973262032085561, 0.9973262032085561, 0.9973262032085561, 0.9973262032085561, 0.9973262032085561, 0.9973262032085561, 0.9973262032085561, 0.9973262032085561, 0.9973262032085561, 0.9973262032085561, 0.9973262032085561, 0.9973262032085561, 0.9973262032085561, 0.9973262032085561, 0.9973262032085561, 0.9973262032085561, 0.9973262032085561, 0.9973262032085561, 0.9973262032085561, 0.9973262032085561, 0.9946524064171123, 0.9946524064171123, 0.9946524064171123, 0.9946524064171123, 0.9919786096256684, 0.9919786096256684, 0.9919786096256684, 0.9919786096256684, 0.9919786096256684, 0.9919786096256684, 0.9919786096256684, 0.9919786096256684, 0.9919786096256684, 0.9919786096256684, 0.9919786096256684, 0.9919786096256684, 0.9919786096256684, 0.9919786096256684, 0.9919786096256684, 0.9919786096256684, 0.9919786096256684, 0.9919786096256684, 0.9919786096256684, 0.9919786096256684, 0.9919786096256684, 0.9919786096256684, 0.9919786096256684, 0.9919786096256684, 0.9919786096256684, 0.9919786096256684, 0.9919786096256684, 0.9919786096256684, 0.9919786096256684, 0.9919786096256684, 0.9919786096256684, 0.9919786096256684, 0.9919786096256684, 0.9919786096256684, 0.9919786096256684, 0.9919786096256684, 0.9919786096256684, 0.9919786096256684, 0.9919786096256684, 0.9919786096256684, 0.9919786096256684, 0.9919786096256684, 0.9919786096256684, 0.9919786096256684, 0.9919786096256684, 0.9919786096256684, 0.9919786096256684, 0.9919786096256684, 0.9893048128342246, 0.9893048128342246, 0.9893048128342246, 0.9893048128342246, 0.9893048128342246, 0.9893048128342246, 0.9893048128342246, 0.9893048128342246, 0.9893048128342246, 0.9893048128342246, 0.9893048128342246, 0.9893048128342246, 0.9893048128342246, 0.9893048128342246, 0.9893048128342246, 0.9893048128342246, 0.9893048128342246, 0.9893048128342246, 0.9893048128342246, 0.9893048128342246, 0.9893048128342246, 0.9893048128342246, 0.9893048128342246, 0.9893048128342246, 0.9893048128342246, 0.9893048128342246, 0.9893048128342246, 0.9893048128342246, 0.9893048128342246, 0.9893048128342246, 0.9893048128342246, 0.9893048128342246, 0.9893048128342246, 0.9893048128342246, 0.9893048128342246, 0.9893048128342246, 0.9893048128342246, 0.9893048128342246, 0.9893048128342246, 0.9893048128342246, 0.9893048128342246, 0.9893048128342246, 0.9893048128342246, 0.9893048128342246, 0.9893048128342246, 0.9866310160427807, 0.9866310160427807, 0.9866310160427807, 0.9866310160427807, 0.9866310160427807, 0.9866310160427807, 0.9866310160427807, 0.9866310160427807, 0.983957219251337, 0.983957219251337, 0.983957219251337, 0.983957219251337, 0.983957219251337, 0.983957219251337, 0.983957219251337, 0.983957219251337, 0.983957219251337, 0.983957219251337, 0.983957219251337, 0.9812834224598931, 0.9812834224598931, 0.9812834224598931, 0.9812834224598931, 0.9812834224598931, 0.9812834224598931, 0.9812834224598931, 0.9786096256684492, 0.9786096256684492, 0.9786096256684492, 0.9786096256684492, 0.9786096256684492, 0.9786096256684492, 0.9786096256684492, 0.9786096256684492, 0.9786096256684492, 0.9786096256684492, 0.9786096256684492, 0.9786096256684492, 0.9786096256684492, 0.9786096256684492, 0.9786096256684492, 0.9786096256684492, 0.9786096256684492, 0.9786096256684492, 0.9786096256684492, 0.9786096256684492, 0.9786096256684492, 0.9786096256684492, 0.9786096256684492, 0.9786096256684492, 0.9786096256684492, 0.9786096256684492, 0.9786096256684492, 0.9786096256684492, 0.9786096256684492, 0.9786096256684492, 0.9786096256684492, 0.9786096256684492, 0.9759358288770054, 0.9759358288770054, 0.9759358288770054, 0.9759358288770054, 0.9732620320855615, 0.9732620320855615, 0.9732620320855615, 0.9732620320855615, 0.9732620320855615, 0.9732620320855615, 0.9732620320855615, 0.9732620320855615, 0.9732620320855615, 0.9732620320855615, 0.9732620320855615, 0.9732620320855615, 0.9732620320855615, 0.9732620320855615, 0.9732620320855615, 0.9732620320855615, 0.9732620320855615, 0.9732620320855615, 0.9732620320855615, 0.9732620320855615, 0.9732620320855615, 0.9732620320855615, 0.9705882352941176, 0.9705882352941176, 0.9705882352941176, 0.9705882352941176, 0.9705882352941176, 0.9679144385026738, 0.9679144385026738, 0.9679144385026738, 0.9679144385026738, 0.9679144385026738, 0.9679144385026738, 0.9679144385026738, 0.9679144385026738, 0.9679144385026738, 0.9679144385026738, 0.9679144385026738, 0.9679144385026738, 0.9679144385026738, 0.9652406417112299, 0.9652406417112299, 0.9652406417112299, 0.9625668449197861, 0.9625668449197861, 0.9625668449197861, 0.9625668449197861, 0.9625668449197861, 0.9625668449197861, 0.9625668449197861, 0.9625668449197861, 0.9625668449197861, 0.9625668449197861, 0.9625668449197861, 0.9625668449197861, 0.9625668449197861, 0.9625668449197861, 0.9625668449197861, 0.9625668449197861, 0.9625668449197861, 0.9625668449197861, 0.9625668449197861, 0.9625668449197861, 0.9598930481283422, 0.9598930481283422, 0.9598930481283422, 0.9598930481283422, 0.9598930481283422, 0.9598930481283422, 0.9598930481283422, 0.9598930481283422, 0.9598930481283422, 0.9598930481283422, 0.9598930481283422, 0.9598930481283422, 0.9598930481283422, 0.9598930481283422, 0.9572192513368984, 0.9572192513368984, 0.9572192513368984, 0.9545454545454546, 0.9545454545454546, 0.9518716577540107, 0.9518716577540107, 0.9518716577540107, 0.9518716577540107, 0.9491978609625669, 0.9491978609625669, 0.9491978609625669, 0.9491978609625669, 0.9491978609625669, 0.946524064171123, 0.946524064171123, 0.946524064171123, 0.946524064171123, 0.946524064171123, 0.946524064171123, 0.946524064171123, 0.9438502673796791, 0.9438502673796791, 0.9438502673796791, 0.9438502673796791, 0.9438502673796791, 0.9438502673796791, 0.9438502673796791, 0.9438502673796791, 0.9411764705882353, 0.9411764705882353, 0.9411764705882353, 0.9385026737967914, 0.9385026737967914, 0.9385026737967914, 0.9385026737967914, 0.9385026737967914, 0.9358288770053476, 0.9358288770053476, 0.9358288770053476, 0.9358288770053476, 0.9331550802139037, 0.9331550802139037, 0.9331550802139037, 0.9331550802139037, 0.9331550802139037, 0.9331550802139037, 0.9331550802139037, 0.93048128342246, 0.93048128342246, 0.93048128342246, 0.9278074866310161, 0.9278074866310161, 0.9278074866310161, 0.9278074866310161, 0.9278074866310161, 0.9278074866310161, 0.9278074866310161, 0.9278074866310161, 0.9251336898395722, 0.9224598930481284, 0.9224598930481284, 0.9224598930481284, 0.9224598930481284, 0.9224598930481284, 0.9224598930481284, 0.9224598930481284, 0.9224598930481284, 0.9197860962566845, 0.9197860962566845, 0.9197860962566845, 0.9171122994652406, 0.9171122994652406, 0.9171122994652406, 0.9171122994652406, 0.9171122994652406, 0.9171122994652406, 0.9171122994652406, 0.9171122994652406, 0.9171122994652406, 0.9171122994652406, 0.9144385026737968, 0.9144385026737968, 0.9144385026737968, 0.9144385026737968, 0.9144385026737968, 0.9144385026737968, 0.9144385026737968, 0.9144385026737968, 0.9144385026737968, 0.9144385026737968, 0.9144385026737968, 0.9144385026737968, 0.9144385026737968, 0.9144385026737968, 0.9144385026737968, 0.9144385026737968, 0.9144385026737968, 0.9144385026737968, 0.9144385026737968, 0.9144385026737968, 0.9144385026737968, 0.9144385026737968, 0.9144385026737968, 0.9144385026737968, 0.9144385026737968, 0.9144385026737968, 0.9144385026737968, 0.9144385026737968, 0.9144385026737968, 0.9117647058823529, 0.9090909090909091, 0.9090909090909091, 0.9090909090909091, 0.9064171122994652, 0.9064171122994652, 0.9037433155080213, 0.9037433155080213, 0.9037433155080213, 0.9037433155080213, 0.9037433155080213, 0.9037433155080213, 0.9037433155080213, 0.9037433155080213, 0.9010695187165776, 0.9010695187165776, 0.9010695187165776, 0.9010695187165776, 0.9010695187165776, 0.8983957219251337, 0.8957219251336899, 0.8957219251336899, 0.8957219251336899, 0.8957219251336899, 0.8957219251336899, 0.8957219251336899, 0.8957219251336899, 0.8957219251336899, 0.8957219251336899, 0.893048128342246, 0.893048128342246, 0.8903743315508021, 0.8903743315508021, 0.8903743315508021, 0.8877005347593583, 0.8850267379679144, 0.8850267379679144, 0.8823529411764706, 0.8823529411764706, 0.8796791443850267, 0.8796791443850267, 0.8796791443850267, 0.8796791443850267, 0.8796791443850267, 0.8796791443850267, 0.8770053475935828, 0.8743315508021391, 0.8743315508021391, 0.8743315508021391, 0.8743315508021391, 0.8716577540106952, 0.8716577540106952, 0.8716577540106952, 0.8716577540106952, 0.8689839572192514, 0.8689839572192514, 0.8689839572192514, 0.8689839572192514, 0.8663101604278075, 0.8636363636363636, 0.8582887700534759, 0.8582887700534759, 0.8582887700534759, 0.8582887700534759, 0.8582887700534759, 0.8582887700534759, 0.8582887700534759, 0.8582887700534759, 0.8582887700534759, 0.8582887700534759, 0.8582887700534759, 0.8556149732620321, 0.8556149732620321, 0.8556149732620321, 0.8529411764705882, 0.8502673796791443, 0.8502673796791443, 0.8449197860962567, 0.8422459893048129, 0.8422459893048129, 0.8422459893048129, 0.839572192513369, 0.839572192513369, 0.839572192513369, 0.839572192513369, 0.839572192513369, 0.839572192513369, 0.839572192513369, 0.8368983957219251, 0.8368983957219251, 0.8342245989304813, 0.8342245989304813, 0.8342245989304813, 0.8315508021390374, 0.8288770053475936, 0.8262032085561497, 0.8262032085561497, 0.8262032085561497, 0.8262032085561497, 0.8262032085561497, 0.8262032085561497, 0.8235294117647058, 0.8235294117647058, 0.8235294117647058, 0.8235294117647058, 0.8235294117647058, 0.820855614973262, 0.8155080213903744, 0.8128342245989305, 0.8101604278074866, 0.8074866310160428, 0.8074866310160428, 0.8074866310160428, 0.8074866310160428, 0.8074866310160428, 0.8048128342245989, 0.8048128342245989, 0.8021390374331551, 0.8021390374331551, 0.7994652406417112, 0.7994652406417112, 0.7994652406417112, 0.7994652406417112, 0.7994652406417112, 0.7994652406417112, 0.7994652406417112, 0.7967914438502673, 0.7941176470588235, 0.7941176470588235, 0.7941176470588235, 0.7941176470588235, 0.7941176470588235, 0.7941176470588235, 0.7941176470588235, 0.7914438502673797, 0.7914438502673797, 0.7914438502673797, 0.7834224598930482, 0.7834224598930482, 0.7834224598930482, 0.7834224598930482, 0.7834224598930482, 0.7834224598930482, 0.7807486631016043, 0.7780748663101604, 0.7780748663101604, 0.7780748663101604, 0.7780748663101604, 0.7780748663101604, 0.7780748663101604, 0.7754010695187166, 0.7754010695187166, 0.7727272727272727, 0.7727272727272727, 0.7700534759358288, 0.767379679144385, 0.7647058823529411, 0.7620320855614974, 0.7620320855614974, 0.7620320855614974, 0.7620320855614974, 0.7620320855614974, 0.7566844919786097, 0.7566844919786097, 0.7540106951871658, 0.7513368983957219, 0.7513368983957219, 0.7513368983957219, 0.7513368983957219, 0.7513368983957219, 0.7486631016042781, 0.7486631016042781, 0.7486631016042781, 0.7486631016042781, 0.7486631016042781, 0.7486631016042781, 0.7486631016042781, 0.7459893048128342, 0.7433155080213903, 0.7433155080213903, 0.7406417112299465, 0.7352941176470589, 0.7352941176470589, 0.7352941176470589, 0.7352941176470589, 0.7352941176470589, 0.7352941176470589, 0.732620320855615, 0.7299465240641712, 0.7299465240641712, 0.7299465240641712, 0.7272727272727273, 0.7272727272727273, 0.7272727272727273, 0.7272727272727273, 0.7272727272727273, 0.7245989304812834, 0.7245989304812834, 0.7245989304812834, 0.7245989304812834, 0.7245989304812834, 0.7245989304812834, 0.7219251336898396, 0.7192513368983957, 0.7192513368983957, 0.7165775401069518, 0.7165775401069518, 0.7165775401069518, 0.7112299465240641, 0.7112299465240641, 0.7085561497326203, 0.7058823529411765, 0.7032085561497327, 0.7005347593582888, 0.6978609625668449, 0.6978609625668449, 0.6951871657754011, 0.6925133689839572, 0.6925133689839572, 0.6898395721925134, 0.6871657754010695, 0.6871657754010695, 0.6871657754010695, 0.6871657754010695, 0.6871657754010695, 0.6818181818181818, 0.679144385026738, 0.6764705882352942, 0.6764705882352942, 0.6764705882352942, 0.6711229946524064, 0.6684491978609626, 0.6684491978609626, 0.6631016042780749, 0.6631016042780749, 0.660427807486631, 0.6577540106951871, 0.6550802139037433, 0.6550802139037433, 0.6524064171122995, 0.6497326203208557, 0.6497326203208557, 0.6497326203208557, 0.6497326203208557, 0.6470588235294118, 0.6470588235294118, 0.6443850267379679, 0.6417112299465241, 0.6417112299465241, 0.6417112299465241, 0.6390374331550802, 0.6363636363636364, 0.6363636363636364, 0.6363636363636364, 0.6363636363636364, 0.6363636363636364, 0.6336898395721925, 0.6336898395721925, 0.6336898395721925, 0.6336898395721925, 0.6336898395721925, 0.6336898395721925, 0.6336898395721925, 0.6310160427807486, 0.6310160427807486, 0.6310160427807486, 0.6310160427807486, 0.6283422459893048, 0.6283422459893048, 0.6256684491978609, 0.6203208556149733, 0.6203208556149733, 0.6176470588235294, 0.6176470588235294, 0.6176470588235294, 0.6176470588235294, 0.6176470588235294, 0.6149732620320856, 0.6149732620320856, 0.6096256684491979, 0.606951871657754, 0.606951871657754, 0.606951871657754, 0.606951871657754, 0.6042780748663101, 0.6042780748663101, 0.6016042780748663, 0.5989304812834224, 0.5989304812834224, 0.5962566844919787, 0.5935828877005348, 0.5909090909090909, 0.5909090909090909, 0.5909090909090909, 0.5882352941176471, 0.5882352941176471, 0.5855614973262032, 0.5855614973262032, 0.5855614973262032, 0.5855614973262032, 0.5855614973262032, 0.5828877005347594, 0.5802139037433155, 0.5775401069518716, 0.5748663101604278, 0.5748663101604278, 0.5721925133689839, 0.56951871657754, 0.5668449197860963, 0.5668449197860963, 0.5641711229946524, 0.5614973262032086, 0.5614973262032086, 0.5588235294117647, 0.5561497326203209, 0.5561497326203209, 0.553475935828877, 0.553475935828877, 0.553475935828877, 0.553475935828877, 0.5508021390374331, 0.5481283422459893, 0.5454545454545454, 0.5427807486631016, 0.5401069518716578, 0.5401069518716578, 0.5401069518716578, 0.5401069518716578, 0.5401069518716578, 0.5401069518716578, 0.5374331550802139, 0.5374331550802139, 0.5374331550802139, 0.5347593582887701, 0.5240641711229946, 0.5213903743315508, 0.5213903743315508, 0.5187165775401069, 0.5187165775401069, 0.5187165775401069, 0.5106951871657754, 0.5080213903743316, 0.5080213903743316, 0.5080213903743316, 0.5080213903743316, 0.5053475935828877, 0.5, 0.4946524064171123, 0.4919786096256685, 0.4919786096256685, 0.4919786096256685, 0.48663101604278075, 0.4839572192513369, 0.4839572192513369, 0.4786096256684492, 0.4786096256684492, 0.4786096256684492, 0.47593582887700536, 0.4732620320855615, 0.47058823529411764, 0.47058823529411764, 0.47058823529411764, 0.47058823529411764, 0.47058823529411764, 0.4679144385026738, 0.4679144385026738, 0.4679144385026738, 0.4679144385026738, 0.46524064171123, 0.46524064171123, 0.4625668449197861, 0.45989304812834225, 0.4572192513368984, 0.45454545454545453, 0.45454545454545453, 0.45454545454545453, 0.45454545454545453, 0.45187165775401067, 0.45187165775401067, 0.45187165775401067, 0.45187165775401067, 0.446524064171123, 0.446524064171123, 0.44385026737967914, 0.44385026737967914, 0.4411764705882353, 0.43315508021390375, 0.4304812834224599, 0.42780748663101603, 0.42780748663101603, 0.42780748663101603, 0.42513368983957217, 0.4144385026737968, 0.4117647058823529, 0.4090909090909091, 0.4090909090909091, 0.40641711229946526, 0.3983957219251337, 0.39572192513368987, 0.39572192513368987, 0.39572192513368987, 0.39572192513368987, 0.393048128342246, 0.393048128342246, 0.393048128342246, 0.393048128342246, 0.393048128342246, 0.393048128342246, 0.39037433155080214, 0.39037433155080214, 0.3877005347593583, 0.3877005347593583, 0.37967914438502676, 0.37967914438502676, 0.3770053475935829, 0.37433155080213903, 0.37433155080213903, 0.37433155080213903, 0.37433155080213903, 0.37433155080213903, 0.3716577540106952, 0.3716577540106952, 0.3689839572192513, 0.3663101604278075, 0.3609625668449198, 0.3582887700534759, 0.35294117647058826, 0.35294117647058826, 0.35294117647058826, 0.3502673796791444, 0.3449197860962567, 0.3449197860962567, 0.3449197860962567, 0.3449197860962567, 0.3422459893048128, 0.339572192513369, 0.3315508021390374, 0.32887700534759357, 0.32620320855614976, 0.3235294117647059, 0.3235294117647059, 0.32085561497326204, 0.3181818181818182, 0.31283422459893045, 0.31016042780748665, 0.3074866310160428, 0.3048128342245989, 0.30213903743315507, 0.2994652406417112, 0.2967914438502674, 0.2967914438502674, 0.29411764705882354, 0.2914438502673797, 0.28342245989304815, 0.27540106951871657, 0.2727272727272727, 0.2647058823529412, 0.2620320855614973, 0.25935828877005346, 0.25668449197860965, 0.25668449197860965, 0.2540106951871658, 0.24331550802139038, 0.23796791443850268, 0.23529411764705882, 0.23529411764705882, 0.23529411764705882, 0.232620320855615, 0.22994652406417113, 0.22727272727272727, 0.22459893048128343, 0.21657754010695188, 0.21657754010695188, 0.21657754010695188, 0.21657754010695188, 0.20588235294117646, 0.20320855614973263, 0.20053475935828877, 0.20053475935828877, 0.20053475935828877, 0.19786096256684493, 0.19518716577540107, 0.19518716577540107, 0.1925133689839572, 0.18983957219251338, 0.18983957219251338, 0.18983957219251338, 0.18716577540106952, 0.18716577540106952, 0.18181818181818182, 0.18181818181818182, 0.17647058823529413, 0.1711229946524064, 0.16844919786096257, 0.1657754010695187, 0.16310160427807488, 0.16042780748663102, 0.16042780748663102, 0.16042780748663102, 0.15508021390374332, 0.15240641711229946, 0.1497326203208556, 0.1497326203208556, 0.14705882352941177, 0.13636363636363635, 0.13101604278074866, 0.12834224598930483, 0.12566844919786097, 0.12299465240641712, 0.11497326203208556, 0.11497326203208556, 0.11229946524064172, 0.10695187165775401, 0.10427807486631016, 0.10160427807486631, 0.09893048128342247, 0.0962566844919786, 0.0962566844919786, 0.09358288770053476, 0.09090909090909091, 0.08823529411764706, 0.08288770053475936, 0.08021390374331551, 0.07754010695187166, 0.0748663101604278, 0.07219251336898395, 0.06149732620320856, 0.058823529411764705, 0.05614973262032086, 0.0374331550802139, 0.029411764705882353, 0.026737967914438502, 0.026737967914438502, 0.02406417112299465, 0.01871657754010695, 0.013368983957219251, 0.0106951871657754, 0.0053475935828877, 0.0], \"y\": [0.27560795873249816, 0.2771173848439822, 0.2779433681073025, 0.27815063385533184, 0.27856609410007466, 0.2787742899850523, 0.2794007490636704, 0.2812971342383107, 0.28150943396226413, 0.28172205438066467, 0.2819349962207105, 0.2832194381169324, 0.28343465045592703, 0.28365019011406845, 0.2840822543792841, 0.2851681957186544, 0.28560490045941805, 0.285823754789272, 0.28670253651037664, 0.28692307692307695, 0.28758673862760215, 0.28780864197530864, 0.28803088803088805, 0.2882534775888717, 0.288476411446249, 0.2898212898212898, 0.29027237354085605, 0.29049844236760125, 0.2907248636009353, 0.2909516380655226, 0.29117876658860264, 0.29163408913213446, 0.2918622848200313, 0.29300864100549884, 0.29323899371069184, 0.29393223010244285, 0.2941640378548896, 0.2943962115232833, 0.29462875197472355, 0.2948616600790514, 0.2950949367088608, 0.2953285827395091, 0.295796986518636, 0.29603174603174603, 0.2962668784749801, 0.2984, 0.2988782051282051, 0.2991178829190056, 0.29935794542536115, 0.2995983935742972, 0.29983922829581994, 0.3000804505229284, 0.3003220611916264, 0.3005640612409347, 0.3008064516129032, 0.30104923325262306, 0.301535974130962, 0.3017799352750809, 0.30349877949552484, 0.30448979591836733, 0.3047385620915033, 0.30498773507767785, 0.30573770491803276, 0.30623973727422005, 0.3064913722267872, 0.3067434210526316, 0.3069958847736626, 0.30724876441515653, 0.30800990916597853, 0.3082644628099174, 0.30851943755169564, 0.3087748344370861, 0.30903065451532724, 0.3092868988391376, 0.3095435684647303, 0.30980066445182725, 0.3100581878636742, 0.3103161397670549, 0.3105745212323064, 0.31083333333333335, 0.311092577147623, 0.3113522537562604, 0.3116123642439432, 0.31187290969899667, 0.31213389121338914, 0.31239530988274705, 0.3126571668063705, 0.31291946308724833, 0.3131821998320739, 0.3134453781512605, 0.31397306397306396, 0.3142375737152485, 0.3145025295109612, 0.3155668358714044, 0.31610169491525425, 0.31636980491942324, 0.3166383701188455, 0.3169073916737468, 0.3174468085106383, 0.31771720613287907, 0.31798806479113384, 0.318259385665529, 0.318531169940222, 0.3188034188034188, 0.31907613344739094, 0.3193493150684932, 0.3196229648671808, 0.3201716738197425, 0.32044673539518903, 0.32099827882960413, 0.32127476313522824, 0.32155172413793104, 0.32182916307161347, 0.3221070811744387, 0.32238547968885045, 0.3226643598615917, 0.3229437229437229, 0.32322357019064124, 0.32350390286209885, 0.32406602953953084, 0.3243478260869565, 0.32463011314186246, 0.32519616390584133, 0.3254799301919721, 0.325764192139738, 0.32604895104895104, 0.326334208223972, 0.3266199649737303, 0.32690622261174407, 0.32719298245614037, 0.32748024582967517, 0.327768014059754, 0.3280562884784521, 0.3283450704225352, 0.32863436123348017, 0.3289241622574956, 0.3292144748455428, 0.3295053003533569, 0.33008849557522124, 0.3303808680248007, 0.33096716947648624, 0.33155555555555555, 0.3321460373998219, 0.3324420677361854, 0.3327386262265834, 0.33303571428571427, 0.3333333333333333, 0.3336314847942755, 0.3339301700984781, 0.3342293906810036, 0.3345291479820628, 0.3348294434470377, 0.33513027852650495, 0.335431654676259, 0.33603603603603605, 0.3363390441839495, 0.337251356238698, 0.3375565610859729, 0.3378623188405797, 0.3381686310063463, 0.338475499092559, 0.3387829246139873, 0.3390909090909091, 0.3393994540491356, 0.33970856102003644, 0.34001823154056515, 0.3406392694063927, 0.34095063985374774, 0.3412625800548948, 0.34065934065934067, 0.34097158570119157, 0.3412844036697248, 0.3415977961432507, 0.34130634774609014, 0.3416206261510129, 0.3419354838709677, 0.3422509225092251, 0.3425669436749769, 0.34288354898336415, 0.34320074005550416, 0.3435185185185185, 0.34415584415584416, 0.34447539461467036, 0.3447955390334573, 0.34511627906976744, 0.34543761638733705, 0.34575955265610436, 0.3460820895522388, 0.3464052287581699, 0.3467289719626168, 0.3470533208606174, 0.34737827715355807, 0.3477038425492034, 0.3483568075117371, 0.34868421052631576, 0.34901222953904043, 0.3493408662900188, 0.34967012252591895, 0.35, 0.35033050047214354, 0.3506616257088847, 0.3509933774834437, 0.35165876777251187, 0.3519924098671727, 0.352326685660019, 0.3526615969581749, 0.35333333333333333, 0.3536701620591039, 0.35400763358778625, 0.3543457497612225, 0.3546845124282983, 0.3550239234449761, 0.3553639846743295, 0.35570469798657717, 0.3560460652591171, 0.356388088376561, 0.35673076923076924, 0.3570741097208855, 0.35741811175337185, 0.35845410628019325, 0.35880077369439073, 0.35818005808325265, 0.35852713178294576, 0.3588748787584869, 0.3592233009708738, 0.3595724003887269, 0.35992217898832685, 0.3602726387536514, 0.36062378167641324, 0.36097560975609755, 0.361328125, 0.3616813294232649, 0.36203522504892366, 0.3623898139079334, 0.3627450980392157, 0.3631010794896958, 0.36345776031434185, 0.3638151425762045, 0.3645320197044335, 0.36489151873767256, 0.36525172754195456, 0.36561264822134387, 0.3659742828882295, 0.36633663366336633, 0.3666997026759167, 0.36706349206349204, 0.36742800397219466, 0.36779324055666, 0.3681592039800995, 0.36852589641434264, 0.36889332003988035, 0.36926147704590817, 0.3696303696303696, 0.37, 0.37037037037037035, 0.37074148296593185, 0.3711133400200602, 0.3714859437751004, 0.37185929648241206, 0.3726082578046324, 0.37298387096774194, 0.37336024217961655, 0.37373737373737376, 0.3741152679474216, 0.37449392712550605, 0.37487335359675783, 0.3742393509127789, 0.3746192893401015, 0.375, 0.37538148524923703, 0.3757637474541752, 0.376530612244898, 0.3769152196118488, 0.3773006134969325, 0.3766632548618219, 0.3770491803278688, 0.37782340862423, 0.37821171634121276, 0.3786008230452675, 0.37899073120494337, 0.37938144329896906, 0.3797729618163055, 0.38016528925619836, 0.38095238095238093, 0.38134715025906735, 0.38070539419087135, 0.3811007268951194, 0.3814968814968815, 0.38189386056191466, 0.38229166666666664, 0.38269030239833157, 0.38308977035490605, 0.3824451410658307, 0.38284518828451886, 0.3832460732984293, 0.3836477987421384, 0.38405036726128017, 0.38445378151260506, 0.38485804416403785, 0.38526315789473686, 0.3856691253951528, 0.3860759493670886, 0.3864836325237592, 0.3873015873015873, 0.3877118644067797, 0.38812301166489926, 0.3885350318471338, 0.3889479277364506, 0.3893617021276596, 0.38977635782747605, 0.39019189765458423, 0.39060832443970117, 0.391025641025641, 0.39144385026737966, 0.39186295503211993, 0.39228295819935693, 0.39312567132116005, 0.3935483870967742, 0.3939720129171152, 0.39439655172413796, 0.3948220064724919, 0.3952483801295896, 0.3956756756756757, 0.3961038961038961, 0.39544962080173346, 0.3958785249457701, 0.3963083604777416, 0.3967391304347826, 0.39608269858541895, 0.39651416122004357, 0.3969465648854962, 0.39737991266375544, 0.3978142076502732, 0.3982494529540481, 0.39868565169769987, 0.3991228070175439, 0.3995609220636663, 0.4, 0.4004400440044004, 0.4008810572687225, 0.4013230429988975, 0.40176600441501104, 0.4026548672566372, 0.40310077519379844, 0.4035476718403548, 0.4039955604883463, 0.40444444444444444, 0.40489432703003336, 0.4053452115812918, 0.4057971014492754, 0.40513392857142855, 0.40558659217877097, 0.40604026845637586, 0.406494960806271, 0.4069506726457399, 0.4062850729517396, 0.4067415730337079, 0.40719910011248595, 0.40765765765765766, 0.4081172491544532, 0.40857787810383744, 0.4090395480225989, 0.4095022624434389, 0.4099660249150623, 0.41043083900226757, 0.4108967082860386, 0.4113636363636364, 0.4123006833712984, 0.41163055872291904, 0.4121004566210046, 0.4125714285714286, 0.41237113402061853, 0.41284403669724773, 0.4133180252583238, 0.41379310344827586, 0.4142692750287687, 0.4147465437788018, 0.41522491349480967, 0.41570438799076215, 0.4161849710982659, 0.4171494785631518, 0.4176334106728538, 0.4181184668989547, 0.4186046511627907, 0.4190919674039581, 0.4195804195804196, 0.4200700116686114, 0.4205607476635514, 0.42105263157894735, 0.4215456674473068, 0.4220398593200469, 0.4213615023474178, 0.4218566392479436, 0.4223529411764706, 0.4233490566037736, 0.42384887839433294, 0.4243498817966903, 0.4253554502369668, 0.4258600237247924, 0.42636579572446553, 0.4268727705112961, 0.42738095238095236, 0.42789034564958284, 0.42840095465393796, 0.42891278375149344, 0.42822966507177035, 0.4287425149700599, 0.4292565947242206, 0.42857142857142855, 0.42908653846153844, 0.42839951865222625, 0.42891566265060244, 0.4294330518697226, 0.42995169082125606, 0.42926239419588874, 0.4297820823244552, 0.4303030303030303, 0.4308252427184466, 0.4313487241798299, 0.4306569343065693, 0.43118148599269185, 0.43223443223443225, 0.43276283618581907, 0.43329253365973075, 0.4338235294117647, 0.4343558282208589, 0.43419434194341944, 0.43472906403940886, 0.4352651048088779, 0.43580246913580245, 0.4363411619283066, 0.4368811881188119, 0.43742255266418834, 0.43850931677018634, 0.43781094527363185, 0.4383561643835616, 0.4389027431421446, 0.43820224719101125, 0.43875, 0.43929912390488113, 0.4398496240601504, 0.44040150564617314, 0.4396984924623116, 0.44025157232704404, 0.44080604534005036, 0.44136191677175285, 0.44065656565656564, 0.44121365360303416, 0.4417721518987342, 0.4423320659062104, 0.4440203562340967, 0.4445859872611465, 0.4451530612244898, 0.4444444444444444, 0.44501278772378516, 0.44558258642765686, 0.44487179487179485, 0.4454428754813864, 0.44601542416452444, 0.4465894465894466, 0.44716494845360827, 0.447741935483871, 0.4483204134366925, 0.4489003880983182, 0.4481865284974093, 0.4474708171206226, 0.44805194805194803, 0.4486345903771131, 0.44921875, 0.4498044328552803, 0.45039164490861616, 0.45098039215686275, 0.45157068062827227, 0.4508519003931848, 0.45144356955380577, 0.45382585751978893, 0.4537037037037037, 0.4543046357615894, 0.45490716180371354, 0.4555112881806109, 0.45611702127659576, 0.4567243675099867, 0.4573333333333333, 0.45794392523364486, 0.4585561497326203, 0.45917001338688085, 0.4584450402144772, 0.4590604026845638, 0.4596774193548387, 0.46029609690444145, 0.4609164420485175, 0.46153846153846156, 0.46216216216216216, 0.462787550744249, 0.4634146341463415, 0.46404341926729986, 0.46467391304347827, 0.46530612244897956, 0.4659400544959128, 0.4665757162346521, 0.4672131147540984, 0.46785225718194257, 0.4684931506849315, 0.4697802197802198, 0.47042640990371387, 0.47107438016528924, 0.47172413793103446, 0.4723756906077348, 0.4730290456431535, 0.47368421052631576, 0.475, 0.4756606397774687, 0.4763231197771588, 0.4769874476987448, 0.4776536312849162, 0.4782608695652174, 0.47752808988764045, 0.4781997187060478, 0.4788732394366197, 0.4788135593220339, 0.4794908062234795, 0.47875354107648727, 0.48011363636363635, 0.48079658605974396, 0.48148148148148145, 0.48216833095577744, 0.4828571428571429, 0.48424068767908307, 0.48493543758967, 0.48419540229885055, 0.4848920863309353, 0.48559077809798273, 0.4862914862914863, 0.4869942196531792, 0.48625180897250364, 0.4855072463768116, 0.4862119013062409, 0.48691860465116277, 0.487627365356623, 0.48833819241982507, 0.48905109489051096, 0.489766081871345, 0.4904831625183016, 0.4912023460410557, 0.49045521292217326, 0.49117647058823527, 0.49042709867452133, 0.4911504424778761, 0.4918759231905465, 0.4911242603550296, 0.49037037037037035, 0.4910979228486647, 0.4903417533432392, 0.49107142857142855, 0.4903129657228018, 0.491044776119403, 0.49177877428998507, 0.49251497005988026, 0.49325337331334335, 0.493993993993994, 0.4932330827067669, 0.4924698795180723, 0.49321266968325794, 0.49395770392749244, 0.4947049924357035, 0.49393939393939396, 0.4946889226100152, 0.4961948249619482, 0.4969512195121951, 0.4961832061068702, 0.49770290964777947, 0.49846625766871167, 0.5, 0.49922958397534667, 0.5, 0.49922239502332816, 0.5, 0.500780031201248, 0.5015625, 0.5023474178403756, 0.5031347962382445, 0.5039246467817896, 0.5055118110236221, 0.5063091482649842, 0.5071090047393365, 0.5079113924050633, 0.5071315372424723, 0.5079365079365079, 0.5087440381558028, 0.5079617834394905, 0.5079872204472844, 0.5088, 0.507223113964687, 0.5064308681672026, 0.5080645161290323, 0.5088852988691438, 0.5080906148867314, 0.5089141004862237, 0.510569105691057, 0.511400651465798, 0.5122349102773246, 0.5130718954248366, 0.513911620294599, 0.5131147540983606, 0.5139573070607554, 0.5131578947368421, 0.5148514851485149, 0.515702479338843, 0.5157545605306799, 0.5149501661129569, 0.5141430948419301, 0.515, 0.5158597662771286, 0.5167224080267558, 0.5175879396984925, 0.5184563758389261, 0.5176470588235295, 0.5185185185185185, 0.5193929173693086, 0.5202702702702703, 0.5220338983050847, 0.5212224108658744, 0.5240549828178694, 0.5232358003442341, 0.5224137931034483, 0.5224913494809689, 0.5233968804159446, 0.5243055555555556, 0.5252173913043479, 0.5261324041811847, 0.525305410122164, 0.5262237762237763, 0.5253940455341506, 0.5272407732864675, 0.5264084507042254, 0.527336860670194, 0.5282685512367491, 0.5292035398230088, 0.5301418439716312, 0.5310834813499112, 0.5320284697508897, 0.5311942959001783, 0.5303571428571429, 0.5313059033989267, 0.532258064516129, 0.533213644524237, 0.5351351351351351, 0.5361010830324909, 0.5370705244122965, 0.5362318840579711, 0.5372050816696915, 0.5381818181818182, 0.5356489945155393, 0.5366300366300366, 0.5376146788990825, 0.5386029411764706, 0.5395948434622467, 0.540590405904059, 0.5397412199630314, 0.5398886827458256, 0.5408921933085502, 0.5418994413407822, 0.542910447761194, 0.5439252336448598, 0.5449438202247191, 0.5440900562851783, 0.5451127819548872, 0.544256120527307, 0.5452830188679245, 0.5444234404536862, 0.5435606060606061, 0.5426944971537002, 0.5418250950570342, 0.5428571428571428, 0.5438931297709924, 0.5449330783938815, 0.5459770114942529, 0.5442307692307692, 0.5452793834296724, 0.5444015444015444, 0.5435203094777563, 0.5445736434108527, 0.545631067961165, 0.546692607003891, 0.5477582846003899, 0.5490196078431373, 0.550098231827112, 0.5511811023622047, 0.5522682445759369, 0.5544554455445545, 0.5555555555555556, 0.5577689243027888, 0.5568862275449101, 0.5571142284569138, 0.5582329317269076, 0.5573440643863179, 0.5555555555555556, 0.5566801619433198, 0.5578093306288032, 0.5589430894308943, 0.560081466395112, 0.5612244897959183, 0.5603271983640081, 0.5594262295081968, 0.5605749486652978, 0.5617283950617284, 0.5608247422680412, 0.5619834710743802, 0.5631469979296067, 0.5643153526970954, 0.5654885654885655, 0.5645833333333333, 0.5657620041753654, 0.5669456066945606, 0.5681341719077568, 0.569327731092437, 0.572938689217759, 0.5732484076433121, 0.5723404255319149, 0.5735607675906184, 0.5726495726495726, 0.5738758029978587, 0.575107296137339, 0.5757575757575758, 0.5770065075921909, 0.5760869565217391, 0.5751633986928104, 0.574235807860262, 0.5733041575492341, 0.5736263736263736, 0.5748898678414097, 0.5739514348785872, 0.5730088495575221, 0.5742793791574279, 0.5746102449888641, 0.5736607142857143, 0.5749440715883669, 0.5762331838565022, 0.5775280898876405, 0.5788288288288288, 0.5769230769230769, 0.5759637188208617, 0.575, 0.5763097949886105, 0.5776255707762558, 0.5756880733944955, 0.5747126436781609, 0.576036866359447, 0.5740740740740741, 0.5754060324825986, 0.5744186046511628, 0.5734265734265734, 0.572429906542056, 0.5737704918032787, 0.5754716981132075, 0.574468085106383, 0.5758293838862559, 0.5771971496437055, 0.5785714285714286, 0.5775656324582339, 0.5789473684210527, 0.5779376498800959, 0.5769230769230769, 0.5783132530120482, 0.5797101449275363, 0.5786924939467313, 0.5776699029126213, 0.5790754257907542, 0.5804878048780487, 0.5819070904645477, 0.5833333333333334, 0.5823095823095823, 0.583743842364532, 0.5851851851851851, 0.5866336633663366, 0.5880893300248139, 0.5895522388059702, 0.5910224438902744, 0.59, 0.5914786967418546, 0.592964824120603, 0.5959595959595959, 0.5964467005076142, 0.5994897959183674, 0.59846547314578, 0.596401028277635, 0.5979381443298969, 0.5968992248062015, 0.5984455958549223, 0.6, 0.6015625, 0.6031331592689295, 0.6020942408376964, 0.6036745406824147, 0.6015831134564644, 0.6005291005291006, 0.6021220159151194, 0.6037234042553191, 0.6053333333333333, 0.6042780748663101, 0.6058981233243967, 0.6048387096774194, 0.6037735849056604, 0.6054054054054054, 0.6043360433604336, 0.6032608695652174, 0.6021798365122616, 0.6038251366120219, 0.6071428571428571, 0.6060606060606061, 0.6077348066298343, 0.6083333333333333, 0.6100278551532033, 0.611731843575419, 0.6134453781512605, 0.6151685393258427, 0.6140845070422535, 0.6129943502824858, 0.6118980169971672, 0.6107954545454546, 0.6125356125356125, 0.6114285714285714, 0.6120689655172413, 0.6127167630057804, 0.6144927536231884, 0.6133720930232558, 0.6122448979591837, 0.6140350877192983, 0.6129032258064516, 0.611764705882353, 0.6135693215339233, 0.6124260355029586, 0.6142433234421365, 0.6160714285714286, 0.6197604790419161, 0.6186186186186187, 0.6174698795180723, 0.6163141993957704, 0.6151515151515151, 0.6139817629179332, 0.6158536585365854, 0.617737003058104, 0.6196319018404908, 0.6215384615384615, 0.6234567901234568, 0.6222910216718266, 0.6242236024844721, 0.6261682242990654, 0.625, 0.620253164556962, 0.6190476190476191, 0.6210191082802548, 0.6198083067092651, 0.6217948717948718, 0.6237942122186495, 0.6201298701298701, 0.6188925081433225, 0.6209150326797386, 0.6229508196721312, 0.625, 0.6258278145695364, 0.6254180602006689, 0.622895622895623, 0.6216216216216216, 0.6237288135593221, 0.6258503401360545, 0.6232876712328768, 0.6219931271477663, 0.6241379310344828, 0.6236933797909407, 0.6258741258741258, 0.6302816901408451, 0.6289752650176679, 0.6276595744680851, 0.6285714285714286, 0.6308243727598566, 0.6353790613718412, 0.6376811594202898, 0.64, 0.6386861313868614, 0.6410256410256411, 0.6433823529411765, 0.6457564575645757, 0.6444444444444445, 0.6492537313432836, 0.6479400749063671, 0.6466165413533834, 0.6452830188679245, 0.6463878326996197, 0.648854961832061, 0.6513409961685823, 0.6538461538461539, 0.6525096525096525, 0.6550387596899225, 0.66015625, 0.6627450980392157, 0.6600790513833992, 0.6626984126984127, 0.6613545816733067, 0.664, 0.6626506024096386, 0.6612244897959184, 0.6598360655737705, 0.6584362139917695, 0.6611570247933884, 0.6694560669456067, 0.6680672268907563, 0.6623931623931624, 0.6609442060085837, 0.6594827586206896, 0.6623376623376623, 0.6608695652173913, 0.6711711711711712, 0.669683257918552, 0.6757990867579908, 0.6788990825688074, 0.6820276497695853, 0.6805555555555556, 0.6837209302325581, 0.6901408450704225, 0.6933962264150944, 0.6966824644549763, 0.7, 0.6985645933014354, 0.7019230769230769, 0.7004830917874396, 0.7038834951456311, 0.6995073891625616, 0.7029702970297029, 0.705, 0.7035175879396985, 0.7070707070707071, 0.7106598984771574, 0.7142857142857143, 0.717948717948718, 0.7164948453608248, 0.7202072538860104, 0.71875, 0.7172774869109948, 0.7142857142857143, 0.7127659574468085, 0.7096774193548387, 0.7135135135135136, 0.717391304347826, 0.7158469945355191, 0.7166666666666667, 0.7206703910614525, 0.7247191011235955, 0.7288135593220338, 0.7272727272727273, 0.7257142857142858, 0.7209302325581395, 0.7192982456140351, 0.7176470588235294, 0.7159763313609467, 0.7202380952380952, 0.718562874251497, 0.7168674698795181, 0.7134146341463414, 0.7116564417177914, 0.7098765432098766, 0.7080745341614907, 0.710691823899371, 0.7133757961783439, 0.7115384615384616, 0.7161290322580646, 0.7142857142857143, 0.7124183006535948, 0.7114093959731543, 0.7152777777777778, 0.7132867132867133, 0.7071428571428572, 0.7050359712230215, 0.7132352941176471, 0.7111111111111111, 0.7218045112781954, 0.7196969696969697, 0.7222222222222222, 0.717741935483871, 0.7154471544715447, 0.7213114754098361, 0.7272727272727273, 0.725, 0.7288135593220338, 0.7264957264957265, 0.7241379310344828, 0.7431192660550459, 0.75, 0.7570093457943925, 0.7641509433962265, 0.7549019607843137, 0.7524752475247525, 0.7575757575757576, 0.7731958762886598, 0.78125, 0.7789473684210526, 0.776595744680851, 0.7849462365591398, 0.782608695652174, 0.7802197802197802, 0.7888888888888889, 0.8068181818181818, 0.8045977011494253, 0.813953488372093, 0.8095238095238095, 0.8192771084337349, 0.8354430379746836, 0.8311688311688312, 0.8289473684210527, 0.8266666666666667, 0.8243243243243243, 0.821917808219178, 0.8333333333333334, 0.8450704225352113, 0.8405797101449275, 0.8382352941176471, 0.835820895522388, 0.8484848484848485, 0.8461538461538461, 0.8360655737704918, 0.8305084745762712, 0.8275862068965517, 0.8245614035087719, 0.8363636363636363, 0.8269230769230769, 0.8431372549019608, 0.84, 0.8333333333333334, 0.8297872340425532, 0.8260869565217391, 0.8222222222222222, 0.8780487804878049, 0.9, 0.8974358974358975, 0.8947368421052632, 0.8918918918918919, 0.8857142857142857, 0.8823529411764706, 0.8787878787878788, 0.875, 0.8709677419354839, 0.8518518518518519, 0.8461538461538461, 0.84, 0.8235294117647058, 0.7857142857142857, 0.7692307692307693, 0.8333333333333334, 0.8181818181818182, 0.7777777777777778, 0.8333333333333334, 0.8, 1.0, 1.0]}, {\"mode\": \"lines\", \"name\": \"CAT\", \"type\": \"scatter\", \"x\": [1.0, 0.9973262032085561, 0.9973262032085561, 0.9973262032085561, 0.9973262032085561, 0.9973262032085561, 0.9973262032085561, 0.9973262032085561, 0.9973262032085561, 0.9973262032085561, 0.9973262032085561, 0.9973262032085561, 0.9973262032085561, 0.9973262032085561, 0.9973262032085561, 0.9946524064171123, 0.9946524064171123, 0.9946524064171123, 0.9946524064171123, 0.9946524064171123, 0.9946524064171123, 0.9946524064171123, 0.9946524064171123, 0.9946524064171123, 0.9946524064171123, 0.9946524064171123, 0.9946524064171123, 0.9946524064171123, 0.9946524064171123, 0.9946524064171123, 0.9946524064171123, 0.9946524064171123, 0.9946524064171123, 0.9946524064171123, 0.9946524064171123, 0.9946524064171123, 0.9946524064171123, 0.9946524064171123, 0.9946524064171123, 0.9946524064171123, 0.9946524064171123, 0.9946524064171123, 0.9946524064171123, 0.9946524064171123, 0.9946524064171123, 0.9946524064171123, 0.9946524064171123, 0.9946524064171123, 0.9946524064171123, 0.9946524064171123, 0.9946524064171123, 0.9946524064171123, 0.9946524064171123, 0.9946524064171123, 0.9946524064171123, 0.9946524064171123, 0.9946524064171123, 0.9946524064171123, 0.9946524064171123, 0.9946524064171123, 0.9946524064171123, 0.9946524064171123, 0.9946524064171123, 0.9946524064171123, 0.9946524064171123, 0.9946524064171123, 0.9919786096256684, 0.9919786096256684, 0.9919786096256684, 0.9919786096256684, 0.9919786096256684, 0.9919786096256684, 0.9919786096256684, 0.9919786096256684, 0.9919786096256684, 0.9919786096256684, 0.9919786096256684, 0.9919786096256684, 0.9919786096256684, 0.9919786096256684, 0.9919786096256684, 0.9919786096256684, 0.9919786096256684, 0.9919786096256684, 0.9919786096256684, 0.9919786096256684, 0.9919786096256684, 0.9919786096256684, 0.9919786096256684, 0.9919786096256684, 0.9919786096256684, 0.9919786096256684, 0.9919786096256684, 0.9919786096256684, 0.9919786096256684, 0.9919786096256684, 0.9919786096256684, 0.9919786096256684, 0.9919786096256684, 0.9919786096256684, 0.9919786096256684, 0.9919786096256684, 0.9919786096256684, 0.9919786096256684, 0.9919786096256684, 0.9919786096256684, 0.9919786096256684, 0.9919786096256684, 0.9919786096256684, 0.9919786096256684, 0.9919786096256684, 0.9919786096256684, 0.9919786096256684, 0.9919786096256684, 0.9919786096256684, 0.9919786096256684, 0.9919786096256684, 0.9919786096256684, 0.9919786096256684, 0.9919786096256684, 0.9919786096256684, 0.9919786096256684, 0.9919786096256684, 0.9919786096256684, 0.9919786096256684, 0.9919786096256684, 0.9919786096256684, 0.9919786096256684, 0.9919786096256684, 0.9919786096256684, 0.9919786096256684, 0.9919786096256684, 0.9919786096256684, 0.9919786096256684, 0.9919786096256684, 0.9919786096256684, 0.9919786096256684, 0.9919786096256684, 0.9919786096256684, 0.9919786096256684, 0.9919786096256684, 0.9919786096256684, 0.9919786096256684, 0.9919786096256684, 0.9919786096256684, 0.9919786096256684, 0.9919786096256684, 0.9919786096256684, 0.9919786096256684, 0.9919786096256684, 0.9919786096256684, 0.9919786096256684, 0.9919786096256684, 0.9919786096256684, 0.9919786096256684, 0.9919786096256684, 0.9919786096256684, 0.9919786096256684, 0.9919786096256684, 0.9919786096256684, 0.9919786096256684, 0.9919786096256684, 0.9919786096256684, 0.9919786096256684, 0.9919786096256684, 0.9919786096256684, 0.9919786096256684, 0.9919786096256684, 0.9893048128342246, 0.9893048128342246, 0.9893048128342246, 0.9893048128342246, 0.9893048128342246, 0.9893048128342246, 0.9893048128342246, 0.9893048128342246, 0.9893048128342246, 0.9893048128342246, 0.9893048128342246, 0.9893048128342246, 0.9893048128342246, 0.9893048128342246, 0.9893048128342246, 0.9893048128342246, 0.9893048128342246, 0.9893048128342246, 0.9893048128342246, 0.9893048128342246, 0.9893048128342246, 0.9893048128342246, 0.9893048128342246, 0.9893048128342246, 0.9893048128342246, 0.9893048128342246, 0.9893048128342246, 0.9893048128342246, 0.9893048128342246, 0.9893048128342246, 0.9893048128342246, 0.9893048128342246, 0.9893048128342246, 0.9893048128342246, 0.9893048128342246, 0.9893048128342246, 0.9893048128342246, 0.9893048128342246, 0.9893048128342246, 0.9893048128342246, 0.9893048128342246, 0.9893048128342246, 0.9893048128342246, 0.9893048128342246, 0.9893048128342246, 0.9893048128342246, 0.9893048128342246, 0.9893048128342246, 0.9893048128342246, 0.9893048128342246, 0.9893048128342246, 0.9893048128342246, 0.9893048128342246, 0.9893048128342246, 0.9893048128342246, 0.9866310160427807, 0.9866310160427807, 0.9866310160427807, 0.9866310160427807, 0.9866310160427807, 0.9866310160427807, 0.9866310160427807, 0.9866310160427807, 0.983957219251337, 0.983957219251337, 0.983957219251337, 0.983957219251337, 0.983957219251337, 0.983957219251337, 0.983957219251337, 0.983957219251337, 0.983957219251337, 0.983957219251337, 0.983957219251337, 0.983957219251337, 0.983957219251337, 0.983957219251337, 0.983957219251337, 0.983957219251337, 0.983957219251337, 0.983957219251337, 0.983957219251337, 0.983957219251337, 0.983957219251337, 0.983957219251337, 0.983957219251337, 0.983957219251337, 0.9812834224598931, 0.9812834224598931, 0.9812834224598931, 0.9812834224598931, 0.9812834224598931, 0.9812834224598931, 0.9812834224598931, 0.9812834224598931, 0.9812834224598931, 0.9812834224598931, 0.9812834224598931, 0.9812834224598931, 0.9812834224598931, 0.9812834224598931, 0.9812834224598931, 0.9812834224598931, 0.9812834224598931, 0.9812834224598931, 0.9812834224598931, 0.9812834224598931, 0.9812834224598931, 0.9812834224598931, 0.9812834224598931, 0.9812834224598931, 0.9812834224598931, 0.9812834224598931, 0.9786096256684492, 0.9786096256684492, 0.9786096256684492, 0.9786096256684492, 0.9786096256684492, 0.9759358288770054, 0.9759358288770054, 0.9759358288770054, 0.9759358288770054, 0.9759358288770054, 0.9759358288770054, 0.9759358288770054, 0.9759358288770054, 0.9759358288770054, 0.9732620320855615, 0.9732620320855615, 0.9732620320855615, 0.9732620320855615, 0.9732620320855615, 0.9732620320855615, 0.9732620320855615, 0.9732620320855615, 0.9732620320855615, 0.9732620320855615, 0.9732620320855615, 0.9732620320855615, 0.9732620320855615, 0.9732620320855615, 0.9732620320855615, 0.9732620320855615, 0.9732620320855615, 0.9705882352941176, 0.9705882352941176, 0.9679144385026738, 0.9679144385026738, 0.9679144385026738, 0.9679144385026738, 0.9679144385026738, 0.9679144385026738, 0.9679144385026738, 0.9679144385026738, 0.9679144385026738, 0.9679144385026738, 0.9679144385026738, 0.9679144385026738, 0.9679144385026738, 0.9679144385026738, 0.9679144385026738, 0.9652406417112299, 0.9625668449197861, 0.9625668449197861, 0.9625668449197861, 0.9625668449197861, 0.9625668449197861, 0.9625668449197861, 0.9598930481283422, 0.9598930481283422, 0.9598930481283422, 0.9598930481283422, 0.9598930481283422, 0.9598930481283422, 0.9598930481283422, 0.9598930481283422, 0.9598930481283422, 0.9598930481283422, 0.9598930481283422, 0.9598930481283422, 0.9598930481283422, 0.9598930481283422, 0.9598930481283422, 0.9598930481283422, 0.9598930481283422, 0.9598930481283422, 0.9598930481283422, 0.9598930481283422, 0.9598930481283422, 0.9598930481283422, 0.9598930481283422, 0.9598930481283422, 0.9598930481283422, 0.9598930481283422, 0.9598930481283422, 0.9598930481283422, 0.9598930481283422, 0.9598930481283422, 0.9598930481283422, 0.9598930481283422, 0.9572192513368984, 0.9572192513368984, 0.9572192513368984, 0.9572192513368984, 0.9572192513368984, 0.9572192513368984, 0.9572192513368984, 0.9572192513368984, 0.9572192513368984, 0.9572192513368984, 0.9572192513368984, 0.9572192513368984, 0.9572192513368984, 0.9572192513368984, 0.9572192513368984, 0.9572192513368984, 0.9572192513368984, 0.9572192513368984, 0.9572192513368984, 0.9572192513368984, 0.9572192513368984, 0.9572192513368984, 0.9572192513368984, 0.9572192513368984, 0.9572192513368984, 0.9545454545454546, 0.9545454545454546, 0.9545454545454546, 0.9545454545454546, 0.9545454545454546, 0.9545454545454546, 0.9545454545454546, 0.9545454545454546, 0.9545454545454546, 0.9545454545454546, 0.9518716577540107, 0.9518716577540107, 0.9491978609625669, 0.9491978609625669, 0.9491978609625669, 0.9491978609625669, 0.9491978609625669, 0.9491978609625669, 0.9491978609625669, 0.9491978609625669, 0.9491978609625669, 0.9491978609625669, 0.9491978609625669, 0.9491978609625669, 0.9491978609625669, 0.9491978609625669, 0.9491978609625669, 0.9491978609625669, 0.946524064171123, 0.946524064171123, 0.946524064171123, 0.9438502673796791, 0.9438502673796791, 0.9438502673796791, 0.9438502673796791, 0.9438502673796791, 0.9438502673796791, 0.9438502673796791, 0.9438502673796791, 0.9438502673796791, 0.9438502673796791, 0.9438502673796791, 0.9438502673796791, 0.9438502673796791, 0.9438502673796791, 0.9438502673796791, 0.9438502673796791, 0.9438502673796791, 0.9438502673796791, 0.9438502673796791, 0.9438502673796791, 0.9411764705882353, 0.9411764705882353, 0.9411764705882353, 0.9411764705882353, 0.9411764705882353, 0.9411764705882353, 0.9411764705882353, 0.9411764705882353, 0.9411764705882353, 0.9411764705882353, 0.9411764705882353, 0.9411764705882353, 0.9411764705882353, 0.9411764705882353, 0.9411764705882353, 0.9385026737967914, 0.9385026737967914, 0.9385026737967914, 0.9385026737967914, 0.9385026737967914, 0.9385026737967914, 0.9385026737967914, 0.9385026737967914, 0.9385026737967914, 0.9385026737967914, 0.9385026737967914, 0.9385026737967914, 0.9385026737967914, 0.9358288770053476, 0.9331550802139037, 0.93048128342246, 0.9278074866310161, 0.9278074866310161, 0.9278074866310161, 0.9278074866310161, 0.9278074866310161, 0.9278074866310161, 0.9278074866310161, 0.9278074866310161, 0.9278074866310161, 0.9278074866310161, 0.9278074866310161, 0.9278074866310161, 0.9278074866310161, 0.9251336898395722, 0.9251336898395722, 0.9251336898395722, 0.9251336898395722, 0.9251336898395722, 0.9224598930481284, 0.9197860962566845, 0.9197860962566845, 0.9197860962566845, 0.9197860962566845, 0.9197860962566845, 0.9197860962566845, 0.9197860962566845, 0.9197860962566845, 0.9197860962566845, 0.9197860962566845, 0.9197860962566845, 0.9197860962566845, 0.9197860962566845, 0.9197860962566845, 0.9197860962566845, 0.9197860962566845, 0.9197860962566845, 0.9197860962566845, 0.9197860962566845, 0.9197860962566845, 0.9197860962566845, 0.9197860962566845, 0.9197860962566845, 0.9197860962566845, 0.9171122994652406, 0.9171122994652406, 0.9171122994652406, 0.9144385026737968, 0.9144385026737968, 0.9144385026737968, 0.9144385026737968, 0.9144385026737968, 0.9144385026737968, 0.9117647058823529, 0.9090909090909091, 0.9090909090909091, 0.9090909090909091, 0.9090909090909091, 0.9090909090909091, 0.9064171122994652, 0.9064171122994652, 0.9064171122994652, 0.9064171122994652, 0.9064171122994652, 0.9037433155080213, 0.9037433155080213, 0.9010695187165776, 0.9010695187165776, 0.9010695187165776, 0.9010695187165776, 0.8983957219251337, 0.8983957219251337, 0.8983957219251337, 0.8983957219251337, 0.8983957219251337, 0.8983957219251337, 0.8983957219251337, 0.8983957219251337, 0.8957219251336899, 0.893048128342246, 0.893048128342246, 0.893048128342246, 0.8903743315508021, 0.8903743315508021, 0.8903743315508021, 0.8903743315508021, 0.8903743315508021, 0.8877005347593583, 0.8877005347593583, 0.8877005347593583, 0.8850267379679144, 0.8850267379679144, 0.8823529411764706, 0.8823529411764706, 0.8796791443850267, 0.8796791443850267, 0.8796791443850267, 0.8796791443850267, 0.8796791443850267, 0.8796791443850267, 0.8796791443850267, 0.8796791443850267, 0.8796791443850267, 0.8796791443850267, 0.8796791443850267, 0.8796791443850267, 0.8796791443850267, 0.8796791443850267, 0.8796791443850267, 0.8796791443850267, 0.8796791443850267, 0.8770053475935828, 0.8770053475935828, 0.8743315508021391, 0.8743315508021391, 0.8743315508021391, 0.8743315508021391, 0.8743315508021391, 0.8743315508021391, 0.8743315508021391, 0.8743315508021391, 0.8743315508021391, 0.8743315508021391, 0.8743315508021391, 0.8743315508021391, 0.8743315508021391, 0.8743315508021391, 0.8743315508021391, 0.8743315508021391, 0.8716577540106952, 0.8716577540106952, 0.8716577540106952, 0.8689839572192514, 0.8689839572192514, 0.8689839572192514, 0.8689839572192514, 0.8689839572192514, 0.8689839572192514, 0.8689839572192514, 0.8689839572192514, 0.8663101604278075, 0.8663101604278075, 0.8663101604278075, 0.8663101604278075, 0.8663101604278075, 0.8663101604278075, 0.8663101604278075, 0.8636363636363636, 0.8636363636363636, 0.8609625668449198, 0.8609625668449198, 0.8609625668449198, 0.8609625668449198, 0.8582887700534759, 0.8556149732620321, 0.8556149732620321, 0.8529411764705882, 0.8529411764705882, 0.8502673796791443, 0.8502673796791443, 0.8502673796791443, 0.8502673796791443, 0.8502673796791443, 0.8475935828877005, 0.8475935828877005, 0.8475935828877005, 0.8449197860962567, 0.8449197860962567, 0.8449197860962567, 0.8422459893048129, 0.8422459893048129, 0.8422459893048129, 0.839572192513369, 0.839572192513369, 0.8368983957219251, 0.8368983957219251, 0.8368983957219251, 0.8342245989304813, 0.8342245989304813, 0.8342245989304813, 0.8342245989304813, 0.8342245989304813, 0.8342245989304813, 0.8342245989304813, 0.8342245989304813, 0.8342245989304813, 0.8315508021390374, 0.8315508021390374, 0.8315508021390374, 0.8315508021390374, 0.8315508021390374, 0.8315508021390374, 0.8315508021390374, 0.8315508021390374, 0.8315508021390374, 0.8315508021390374, 0.8315508021390374, 0.8315508021390374, 0.8315508021390374, 0.8315508021390374, 0.8315508021390374, 0.8288770053475936, 0.8288770053475936, 0.8288770053475936, 0.8288770053475936, 0.8288770053475936, 0.8288770053475936, 0.8288770053475936, 0.8288770053475936, 0.8262032085561497, 0.8262032085561497, 0.8262032085561497, 0.8262032085561497, 0.8262032085561497, 0.8235294117647058, 0.8235294117647058, 0.8235294117647058, 0.8235294117647058, 0.8235294117647058, 0.8235294117647058, 0.8235294117647058, 0.8235294117647058, 0.8235294117647058, 0.8235294117647058, 0.820855614973262, 0.820855614973262, 0.820855614973262, 0.820855614973262, 0.820855614973262, 0.8181818181818182, 0.8181818181818182, 0.8155080213903744, 0.8155080213903744, 0.8155080213903744, 0.8155080213903744, 0.8155080213903744, 0.8128342245989305, 0.8128342245989305, 0.8101604278074866, 0.8101604278074866, 0.8101604278074866, 0.8101604278074866, 0.8101604278074866, 0.8101604278074866, 0.8101604278074866, 0.8074866310160428, 0.8048128342245989, 0.8048128342245989, 0.8048128342245989, 0.8048128342245989, 0.8048128342245989, 0.8048128342245989, 0.8021390374331551, 0.8021390374331551, 0.7994652406417112, 0.7967914438502673, 0.7941176470588235, 0.7914438502673797, 0.7887700534759359, 0.7887700534759359, 0.7887700534759359, 0.7887700534759359, 0.7887700534759359, 0.786096256684492, 0.786096256684492, 0.7834224598930482, 0.7834224598930482, 0.7807486631016043, 0.7807486631016043, 0.7807486631016043, 0.7807486631016043, 0.7807486631016043, 0.7780748663101604, 0.7780748663101604, 0.7780748663101604, 0.7780748663101604, 0.7780748663101604, 0.7780748663101604, 0.7754010695187166, 0.7754010695187166, 0.7754010695187166, 0.7754010695187166, 0.7754010695187166, 0.7754010695187166, 0.7754010695187166, 0.7754010695187166, 0.7754010695187166, 0.7727272727272727, 0.7727272727272727, 0.7727272727272727, 0.7727272727272727, 0.7700534759358288, 0.767379679144385, 0.7647058823529411, 0.7647058823529411, 0.7647058823529411, 0.7647058823529411, 0.7647058823529411, 0.7647058823529411, 0.7620320855614974, 0.7593582887700535, 0.7593582887700535, 0.7593582887700535, 0.7593582887700535, 0.7566844919786097, 0.7566844919786097, 0.7566844919786097, 0.7566844919786097, 0.7566844919786097, 0.7540106951871658, 0.7540106951871658, 0.7540106951871658, 0.7513368983957219, 0.7513368983957219, 0.7513368983957219, 0.7513368983957219, 0.7513368983957219, 0.7513368983957219, 0.7513368983957219, 0.7513368983957219, 0.7486631016042781, 0.7486631016042781, 0.7486631016042781, 0.7486631016042781, 0.7486631016042781, 0.7486631016042781, 0.7459893048128342, 0.7433155080213903, 0.7406417112299465, 0.7406417112299465, 0.7406417112299465, 0.7379679144385026, 0.7352941176470589, 0.732620320855615, 0.7299465240641712, 0.7299465240641712, 0.7299465240641712, 0.7299465240641712, 0.7272727272727273, 0.7245989304812834, 0.7245989304812834, 0.7245989304812834, 0.7245989304812834, 0.7245989304812834, 0.7219251336898396, 0.7219251336898396, 0.7192513368983957, 0.7165775401069518, 0.713903743315508, 0.713903743315508, 0.713903743315508, 0.713903743315508, 0.713903743315508, 0.7112299465240641, 0.7085561497326203, 0.7085561497326203, 0.7085561497326203, 0.7085561497326203, 0.7058823529411765, 0.7058823529411765, 0.7058823529411765, 0.7032085561497327, 0.7032085561497327, 0.7005347593582888, 0.6978609625668449, 0.6951871657754011, 0.6951871657754011, 0.6951871657754011, 0.6951871657754011, 0.6951871657754011, 0.6951871657754011, 0.6951871657754011, 0.6925133689839572, 0.6925133689839572, 0.6898395721925134, 0.6898395721925134, 0.6871657754010695, 0.6844919786096256, 0.6844919786096256, 0.6844919786096256, 0.6844919786096256, 0.6818181818181818, 0.6818181818181818, 0.6818181818181818, 0.6818181818181818, 0.679144385026738, 0.6764705882352942, 0.6764705882352942, 0.6764705882352942, 0.6764705882352942, 0.6764705882352942, 0.6764705882352942, 0.6737967914438503, 0.6737967914438503, 0.6711229946524064, 0.6711229946524064, 0.6711229946524064, 0.6711229946524064, 0.6711229946524064, 0.6711229946524064, 0.6711229946524064, 0.6711229946524064, 0.6711229946524064, 0.6711229946524064, 0.6711229946524064, 0.6711229946524064, 0.6684491978609626, 0.6657754010695187, 0.6631016042780749, 0.6631016042780749, 0.6631016042780749, 0.6631016042780749, 0.660427807486631, 0.660427807486631, 0.660427807486631, 0.660427807486631, 0.660427807486631, 0.660427807486631, 0.660427807486631, 0.660427807486631, 0.660427807486631, 0.660427807486631, 0.6577540106951871, 0.6577540106951871, 0.6550802139037433, 0.6524064171122995, 0.6524064171122995, 0.6524064171122995, 0.6524064171122995, 0.6524064171122995, 0.6524064171122995, 0.6524064171122995, 0.6524064171122995, 0.6497326203208557, 0.6497326203208557, 0.6497326203208557, 0.6470588235294118, 0.6443850267379679, 0.6443850267379679, 0.6443850267379679, 0.6443850267379679, 0.6443850267379679, 0.6443850267379679, 0.6417112299465241, 0.6417112299465241, 0.6390374331550802, 0.6363636363636364, 0.6363636363636364, 0.6336898395721925, 0.6336898395721925, 0.6310160427807486, 0.6283422459893048, 0.6283422459893048, 0.6283422459893048, 0.6283422459893048, 0.6283422459893048, 0.6256684491978609, 0.6256684491978609, 0.6256684491978609, 0.6256684491978609, 0.6256684491978609, 0.6256684491978609, 0.6229946524064172, 0.6203208556149733, 0.6203208556149733, 0.6176470588235294, 0.6176470588235294, 0.6176470588235294, 0.6149732620320856, 0.6122994652406417, 0.6096256684491979, 0.606951871657754, 0.606951871657754, 0.6042780748663101, 0.6042780748663101, 0.6042780748663101, 0.6016042780748663, 0.6016042780748663, 0.5989304812834224, 0.5962566844919787, 0.5962566844919787, 0.5962566844919787, 0.5962566844919787, 0.5962566844919787, 0.5962566844919787, 0.5962566844919787, 0.5935828877005348, 0.5909090909090909, 0.5909090909090909, 0.5882352941176471, 0.5882352941176471, 0.5855614973262032, 0.5855614973262032, 0.5855614973262032, 0.5855614973262032, 0.5855614973262032, 0.5855614973262032, 0.5855614973262032, 0.5828877005347594, 0.5828877005347594, 0.5802139037433155, 0.5802139037433155, 0.5775401069518716, 0.5775401069518716, 0.5748663101604278, 0.5748663101604278, 0.5721925133689839, 0.5721925133689839, 0.56951871657754, 0.56951871657754, 0.56951871657754, 0.56951871657754, 0.56951871657754, 0.56951871657754, 0.56951871657754, 0.5668449197860963, 0.5668449197860963, 0.5668449197860963, 0.5668449197860963, 0.5668449197860963, 0.5641711229946524, 0.5614973262032086, 0.5588235294117647, 0.5588235294117647, 0.5588235294117647, 0.5588235294117647, 0.5588235294117647, 0.5588235294117647, 0.5561497326203209, 0.553475935828877, 0.553475935828877, 0.553475935828877, 0.553475935828877, 0.5508021390374331, 0.5508021390374331, 0.5508021390374331, 0.5508021390374331, 0.5508021390374331, 0.5508021390374331, 0.5481283422459893, 0.5481283422459893, 0.5454545454545454, 0.5454545454545454, 0.5454545454545454, 0.5454545454545454, 0.5454545454545454, 0.5427807486631016, 0.5401069518716578, 0.5374331550802139, 0.5347593582887701, 0.5347593582887701, 0.5347593582887701, 0.5347593582887701, 0.5320855614973262, 0.5294117647058824, 0.5294117647058824, 0.5267379679144385, 0.5267379679144385, 0.5240641711229946, 0.5240641711229946, 0.5240641711229946, 0.5240641711229946, 0.5240641711229946, 0.5213903743315508, 0.5213903743315508, 0.5187165775401069, 0.516042780748663, 0.516042780748663, 0.516042780748663, 0.5133689839572193, 0.5133689839572193, 0.5133689839572193, 0.5106951871657754, 0.5106951871657754, 0.5106951871657754, 0.5106951871657754, 0.5080213903743316, 0.5053475935828877, 0.5053475935828877, 0.5053475935828877, 0.5053475935828877, 0.5053475935828877, 0.5053475935828877, 0.5026737967914439, 0.5026737967914439, 0.5, 0.5, 0.49732620320855614, 0.4946524064171123, 0.4919786096256685, 0.4919786096256685, 0.4919786096256685, 0.4919786096256685, 0.4919786096256685, 0.4893048128342246, 0.48663101604278075, 0.4839572192513369, 0.4839572192513369, 0.4839572192513369, 0.48128342245989303, 0.48128342245989303, 0.4786096256684492, 0.4786096256684492, 0.47593582887700536, 0.47593582887700536, 0.47593582887700536, 0.47593582887700536, 0.47593582887700536, 0.47593582887700536, 0.47593582887700536, 0.4732620320855615, 0.4732620320855615, 0.47058823529411764, 0.47058823529411764, 0.4679144385026738, 0.46524064171123, 0.46524064171123, 0.4625668449197861, 0.45989304812834225, 0.4572192513368984, 0.4572192513368984, 0.45454545454545453, 0.45187165775401067, 0.45187165775401067, 0.44919786096256686, 0.446524064171123, 0.44385026737967914, 0.4411764705882353, 0.4385026737967914, 0.4358288770053476, 0.43315508021390375, 0.43315508021390375, 0.43315508021390375, 0.4304812834224599, 0.4304812834224599, 0.4304812834224599, 0.4304812834224599, 0.4304812834224599, 0.42780748663101603, 0.42780748663101603, 0.42780748663101603, 0.42513368983957217, 0.42513368983957217, 0.42513368983957217, 0.42245989304812837, 0.4197860962566845, 0.4197860962566845, 0.4197860962566845, 0.41711229946524064, 0.41711229946524064, 0.41711229946524064, 0.41711229946524064, 0.41711229946524064, 0.4144385026737968, 0.4117647058823529, 0.4117647058823529, 0.4090909090909091, 0.4090909090909091, 0.40641711229946526, 0.4037433155080214, 0.40106951871657753, 0.40106951871657753, 0.3983957219251337, 0.3983957219251337, 0.39572192513368987, 0.39572192513368987, 0.39572192513368987, 0.39572192513368987, 0.393048128342246, 0.39037433155080214, 0.39037433155080214, 0.39037433155080214, 0.3877005347593583, 0.3877005347593583, 0.3850267379679144, 0.38235294117647056, 0.38235294117647056, 0.38235294117647056, 0.38235294117647056, 0.37967914438502676, 0.3770053475935829, 0.37433155080213903, 0.3716577540106952, 0.3716577540106952, 0.3689839572192513, 0.3663101604278075, 0.36363636363636365, 0.36363636363636365, 0.3609625668449198, 0.3582887700534759, 0.3582887700534759, 0.35561497326203206, 0.35294117647058826, 0.3502673796791444, 0.34759358288770054, 0.34759358288770054, 0.3449197860962567, 0.3422459893048128, 0.3422459893048128, 0.339572192513369, 0.339572192513369, 0.33689839572192515, 0.3342245989304813, 0.3315508021390374, 0.3315508021390374, 0.3315508021390374, 0.3315508021390374, 0.32887700534759357, 0.32887700534759357, 0.32620320855614976, 0.3235294117647059, 0.32085561497326204, 0.32085561497326204, 0.3181818181818182, 0.3155080213903743, 0.31283422459893045, 0.31016042780748665, 0.3074866310160428, 0.3048128342245989, 0.3048128342245989, 0.30213903743315507, 0.2994652406417112, 0.2967914438502674, 0.2967914438502674, 0.29411764705882354, 0.2914438502673797, 0.2887700534759358, 0.2887700534759358, 0.28609625668449196, 0.28342245989304815, 0.2807486631016043, 0.2807486631016043, 0.27807486631016043, 0.27540106951871657, 0.2727272727272727, 0.2700534759358289, 0.26737967914438504, 0.2647058823529412, 0.2647058823529412, 0.2620320855614973, 0.25935828877005346, 0.25668449197860965, 0.2540106951871658, 0.2540106951871658, 0.2540106951871658, 0.2540106951871658, 0.25133689839572193, 0.24866310160427807, 0.24598930481283424, 0.24331550802139038, 0.24064171122994651, 0.23796791443850268, 0.23529411764705882, 0.232620320855615, 0.232620320855615, 0.232620320855615, 0.232620320855615, 0.22994652406417113, 0.22994652406417113, 0.22994652406417113, 0.22727272727272727, 0.22459893048128343, 0.22192513368983957, 0.2192513368983957, 0.21657754010695188, 0.21390374331550802, 0.21122994652406418, 0.20855614973262032, 0.20855614973262032, 0.20855614973262032, 0.20588235294117646, 0.20588235294117646, 0.20320855614973263, 0.20320855614973263, 0.20053475935828877, 0.19786096256684493, 0.19786096256684493, 0.19518716577540107, 0.1925133689839572, 0.1925133689839572, 0.18983957219251338, 0.18716577540106952, 0.18716577540106952, 0.18449197860962566, 0.18449197860962566, 0.18181818181818182, 0.17914438502673796, 0.17914438502673796, 0.17914438502673796, 0.17647058823529413, 0.17647058823529413, 0.17379679144385027, 0.1711229946524064, 0.16844919786096257, 0.1657754010695187, 0.16310160427807488, 0.16310160427807488, 0.16310160427807488, 0.16042780748663102, 0.15775401069518716, 0.15508021390374332, 0.15508021390374332, 0.15508021390374332, 0.15240641711229946, 0.15240641711229946, 0.1497326203208556, 0.14705882352941177, 0.1443850267379679, 0.14171122994652408, 0.13903743315508021, 0.13636363636363635, 0.13368983957219252, 0.13101604278074866, 0.12834224598930483, 0.12566844919786097, 0.12299465240641712, 0.12032085561497326, 0.12032085561497326, 0.11764705882352941, 0.11497326203208556, 0.11229946524064172, 0.11229946524064172, 0.10962566844919786, 0.10962566844919786, 0.10695187165775401, 0.10427807486631016, 0.10160427807486631, 0.09893048128342247, 0.0962566844919786, 0.0962566844919786, 0.09358288770053476, 0.09358288770053476, 0.09090909090909091, 0.09090909090909091, 0.08823529411764706, 0.0855614973262032, 0.08288770053475936, 0.08021390374331551, 0.07754010695187166, 0.0748663101604278, 0.07219251336898395, 0.06951871657754011, 0.06684491978609626, 0.06417112299465241, 0.06149732620320856, 0.058823529411764705, 0.05614973262032086, 0.053475935828877004, 0.05080213903743316, 0.0481283422459893, 0.045454545454545456, 0.0427807486631016, 0.0427807486631016, 0.0427807486631016, 0.040106951871657755, 0.0374331550802139, 0.034759358288770054, 0.03208556149732621, 0.03208556149732621, 0.026737967914438502, 0.02406417112299465, 0.0213903743315508, 0.0213903743315508, 0.01871657754010695, 0.013368983957219251, 0.0106951871657754, 0.008021390374331552, 0.0053475935828877, 0.00267379679144385, 0.0], \"y\": [0.2774480712166172, 0.2769116555308092, 0.2771173848439822, 0.27732342007434946, 0.2775297619047619, 0.27773641102010427, 0.2779433681073025, 0.27815063385533184, 0.2783582089552239, 0.27856609410007466, 0.2787742899850523, 0.27898279730740466, 0.2791916167664671, 0.2794007490636704, 0.27961019490254874, 0.27906976744186046, 0.27927927927927926, 0.27948910593538695, 0.2796992481203007, 0.2799097065462754, 0.28012048192771083, 0.2803315749811605, 0.28054298642533937, 0.2807547169811321, 0.2809667673716012, 0.2811791383219955, 0.2813918305597579, 0.28160484481453446, 0.2818181818181818, 0.28203184230477635, 0.2822458270106222, 0.2824601366742597, 0.2826747720364742, 0.2828897338403042, 0.2831050228310502, 0.2833206397562833, 0.28353658536585363, 0.2837528604118993, 0.28396946564885495, 0.28418640183346067, 0.28440366972477066, 0.2846212700841622, 0.28483920367534454, 0.2850574712643678, 0.2852760736196319, 0.2854950115118956, 0.2857142857142857, 0.2859338970023059, 0.28615384615384615, 0.2863741339491917, 0.28659476117103233, 0.28681572860447185, 0.28703703703703703, 0.28725868725868725, 0.2874806800618238, 0.2877030162412993, 0.28792569659442724, 0.2881487219209915, 0.28837209302325584, 0.2885958107059736, 0.2888198757763975, 0.289044289044289, 0.2892690513219285, 0.28949416342412454, 0.2897196261682243, 0.2899454403741232, 0.28939157566302653, 0.2896174863387978, 0.28984375, 0.29007036747458953, 0.29029733959311427, 0.29052466718872355, 0.2907523510971787, 0.2909803921568627, 0.29120879120879123, 0.2914375490966222, 0.2916666666666667, 0.29189614476789927, 0.2921259842519685, 0.2923561859732072, 0.29258675078864355, 0.292817679558011, 0.2930489731437599, 0.2932806324110672, 0.2935126582278481, 0.2937450514647664, 0.29397781299524567, 0.2942109436954798, 0.29444444444444445, 0.2946783161239079, 0.294912559618442, 0.2951471758154336, 0.29538216560509556, 0.29561752988047807, 0.2958532695374801, 0.29608938547486036, 0.2963258785942492, 0.2965627498001599, 0.2968, 0.29703763010408324, 0.297275641025641, 0.297514033680834, 0.29775280898876405, 0.29799196787148596, 0.2982315112540193, 0.29847144006436044, 0.29871175523349436, 0.2989524576954069, 0.2991935483870968, 0.2994350282485876, 0.29967689822294025, 0.29991915925626517, 0.30016181229773464, 0.3004048582995951, 0.3006482982171799, 0.3008921330089213, 0.30113636363636365, 0.3013809910641755, 0.3016260162601626, 0.3018714401952807, 0.30211726384364823, 0.3023634881825591, 0.30261011419249595, 0.3028571428571429, 0.30310457516339867, 0.30335241210139, 0.30360065466448444, 0.30384930384930386, 0.3040983606557377, 0.30434782608695654, 0.3045977011494253, 0.30484798685291703, 0.3050986842105263, 0.30534979423868314, 0.3056013179571664, 0.30585325638911787, 0.3061056105610561, 0.3063583815028902, 0.3066115702479339, 0.3068651778329198, 0.30711920529801323, 0.30737365368682684, 0.3076285240464345, 0.3078838174273859, 0.3081395348837209, 0.3083956774729842, 0.3086522462562396, 0.3089092422980849, 0.30916666666666665, 0.3094245204336947, 0.3096828046744574, 0.30994152046783624, 0.3102006688963211, 0.3104602510460251, 0.31072026800670016, 0.3109807208717519, 0.311241610738255, 0.31150293870696893, 0.31176470588235294, 0.312026913372582, 0.3122895622895623, 0.3125526537489469, 0.3128161888701518, 0.3130801687763713, 0.31334459459459457, 0.3136094674556213, 0.31387478849407785, 0.3141405588484335, 0.3135593220338983, 0.3138252756573367, 0.3140916808149406, 0.3143585386576041, 0.31462585034013607, 0.3148936170212766, 0.3151618398637138, 0.3154305200341006, 0.31569965870307165, 0.31596925704526047, 0.3162393162393162, 0.3165098374679213, 0.3167808219178082, 0.3170522707797772, 0.31732418524871353, 0.31759656652360513, 0.3178694158075601, 0.3181427343078246, 0.31841652323580033, 0.3186907838070629, 0.31896551724137934, 0.31924072476272647, 0.31951640759930916, 0.3197925669835782, 0.32006920415224915, 0.3203463203463203, 0.32062391681109187, 0.32090199479618386, 0.3211805555555556, 0.3214596003475239, 0.3217391304347826, 0.32201914708442125, 0.32229965156794427, 0.3225806451612903, 0.3228621291448517, 0.3231441048034934, 0.32342657342657344, 0.3237095363079615, 0.3239929947460595, 0.32427695004382123, 0.32456140350877194, 0.32484635645302895, 0.3251318101933216, 0.3254177660510114, 0.3257042253521127, 0.32599118942731276, 0.3262786596119929, 0.3265666372462489, 0.32685512367491165, 0.3271441202475685, 0.3274336283185841, 0.32772364924712133, 0.3280141843971631, 0.3283052351375333, 0.3285968028419183, 0.328, 0.32829181494661924, 0.3285841495992876, 0.32887700534759357, 0.32917038358608386, 0.3294642857142857, 0.3297587131367292, 0.3300536672629696, 0.3294538943598926, 0.32974910394265233, 0.33004484304932735, 0.3303411131059246, 0.3306379155435759, 0.33093525179856115, 0.33123312331233123, 0.33153153153153153, 0.3318304779080252, 0.33212996389891697, 0.3324299909665763, 0.33273056057866185, 0.3330316742081448, 0.3333333333333333, 0.33363553943789664, 0.3339382940108893, 0.33424159854677565, 0.33454545454545453, 0.3348498635122839, 0.33515482695810567, 0.33546034639927075, 0.3357664233576642, 0.3360730593607306, 0.33638025594149906, 0.3357731015553522, 0.3360805860805861, 0.3363886342804766, 0.336697247706422, 0.3370064279155188, 0.33731617647058826, 0.3376264949402024, 0.3379373848987109, 0.3382488479262673, 0.3385608856088561, 0.33887349953831947, 0.3391866913123845, 0.33950046253469013, 0.3398148148148148, 0.340129749768304, 0.3404452690166976, 0.34076137418755803, 0.34107806691449816, 0.3413953488372093, 0.34171322160148976, 0.34203168685927304, 0.3423507462686567, 0.3426704014939309, 0.3429906542056075, 0.343311506080449, 0.34363295880149813, 0.3430178069353327, 0.3433395872420263, 0.3436619718309859, 0.34398496240601506, 0.3443085606773283, 0.3436911487758945, 0.34401508011310084, 0.3443396226415094, 0.34466477809254015, 0.3449905482041588, 0.34531693472090824, 0.3456439393939394, 0.3459715639810427, 0.34629981024667933, 0.345679012345679, 0.34600760456273766, 0.346336822074215, 0.3466666666666667, 0.34699714013346045, 0.3473282442748092, 0.34765998089780326, 0.3479923518164436, 0.34832535885167465, 0.3486590038314176, 0.348993288590604, 0.3493282149712092, 0.34966378482228627, 0.35, 0.3503368623676612, 0.35067437379576105, 0.3510125361620058, 0.3503861003861004, 0.3507246376811594, 0.35009671179883944, 0.3504356243949661, 0.3507751937984496, 0.3511154219204656, 0.35145631067961164, 0.35179786200194363, 0.3521400778210117, 0.3524829600778968, 0.35282651072124754, 0.35317073170731705, 0.353515625, 0.35386119257087, 0.3542074363992172, 0.3545543584720862, 0.35490196078431374, 0.35426889106967613, 0.35363457760314343, 0.35398230088495575, 0.3543307086614173, 0.35467980295566504, 0.35502958579881655, 0.35538005923000987, 0.3547430830039526, 0.35509396636993074, 0.35544554455445543, 0.3557978196233895, 0.35615079365079366, 0.35650446871896724, 0.35685884691848907, 0.3572139303482587, 0.35756972111553786, 0.357926221335992, 0.3582834331337325, 0.35864135864135865, 0.359, 0.35935935935935936, 0.35971943887775554, 0.3600802407221665, 0.3604417670682731, 0.3608040201005025, 0.3611670020120724, 0.36153071500503525, 0.36189516129032256, 0.3622603430877901, 0.36262626262626263, 0.36299292214357937, 0.3633603238866397, 0.3637284701114488, 0.3640973630831643, 0.36446700507614216, 0.3648373983739837, 0.3652085452695829, 0.3655804480651731, 0.3659531090723751, 0.3653061224489796, 0.36567926455566907, 0.3660531697341513, 0.3664278403275333, 0.3668032786885246, 0.3671794871794872, 0.3675564681724846, 0.36793422404933196, 0.3683127572016461, 0.368692070030896, 0.36907216494845363, 0.36945304437564497, 0.36983471074380164, 0.3702171664943123, 0.37060041407867494, 0.37098445595854923, 0.37136929460580914, 0.37175493250259606, 0.37214137214137216, 0.372528616024974, 0.3729166666666667, 0.3733055265901981, 0.3736951983298539, 0.37408568443051204, 0.37447698744769875, 0.3738219895287958, 0.3742138364779874, 0.3746065057712487, 0.375, 0.3753943217665615, 0.3757894736842105, 0.3761854583772392, 0.37658227848101267, 0.37697993664202745, 0.3773784355179704, 0.37671957671957673, 0.3771186440677966, 0.37645811240721105, 0.37685774946921446, 0.37725823591923485, 0.3776595744680851, 0.3780617678381257, 0.3784648187633262, 0.37886872998932764, 0.37927350427350426, 0.37967914438502676, 0.38008565310492504, 0.3804930332261522, 0.38090128755364805, 0.38131041890440387, 0.3817204301075269, 0.3821313240043057, 0.38254310344827586, 0.3818770226537217, 0.38228941684665224, 0.3827027027027027, 0.38203463203463206, 0.38244853737811485, 0.38286334056399135, 0.38327904451682954, 0.38369565217391305, 0.38411316648531013, 0.38453159041394336, 0.38495092693565974, 0.3853711790393013, 0.38579234972677595, 0.3862144420131291, 0.38663745892661555, 0.38706140350877194, 0.38748627881448955, 0.3879120879120879, 0.38833883388338836, 0.38876651982378857, 0.38919514884233736, 0.38962472406181015, 0.39005524861878454, 0.3893805309734513, 0.38981173864894797, 0.3902439024390244, 0.390677025527192, 0.39111111111111113, 0.39154616240266965, 0.39198218262806234, 0.39241917502787066, 0.39285714285714285, 0.39329608938547483, 0.39373601789709173, 0.39417693169092943, 0.39461883408071746, 0.3950617283950617, 0.3955056179775281, 0.3948256467941507, 0.3952702702702703, 0.39571589627959414, 0.3961625282167043, 0.39661016949152544, 0.39705882352941174, 0.39750849377123443, 0.3979591836734694, 0.39841089670828606, 0.39886363636363636, 0.3993174061433447, 0.39977220956719817, 0.40022805017103763, 0.3995433789954338, 0.39885714285714285, 0.39816933638443935, 0.3974799541809851, 0.39793577981651373, 0.3983926521239954, 0.3988505747126437, 0.3993095512082854, 0.39976958525345624, 0.4002306805074971, 0.4006928406466513, 0.40115606936416187, 0.40162037037037035, 0.4020857473928158, 0.4025522041763341, 0.40301974448315914, 0.40232558139534885, 0.40279394644935973, 0.40326340326340326, 0.40373395565927656, 0.40420560747663553, 0.40350877192982454, 0.4028103044496487, 0.40328253223915594, 0.40375586854460094, 0.40423031727379555, 0.4047058823529412, 0.40518256772673733, 0.4056603773584906, 0.40613931523022434, 0.4066193853427896, 0.40710059171597635, 0.4075829383886256, 0.4080664294187426, 0.4085510688836104, 0.4090368608799049, 0.4095238095238095, 0.4100119189511323, 0.4105011933174224, 0.4109916367980884, 0.41148325358851673, 0.4119760479041916, 0.41247002398081534, 0.4129651860744298, 0.41346153846153844, 0.4139590854392298, 0.41325301204819276, 0.413751507840772, 0.4142512077294686, 0.4135429262394196, 0.41404358353510895, 0.41454545454545455, 0.41504854368932037, 0.4155528554070474, 0.41605839416058393, 0.415347137637028, 0.4146341463414634, 0.41514041514041516, 0.4156479217603912, 0.41615667074663404, 0.4166666666666667, 0.41595092024539876, 0.41646191646191644, 0.41697416974169743, 0.41748768472906406, 0.41800246609124536, 0.41728395061728396, 0.4177997527812114, 0.41707920792079206, 0.41759603469640644, 0.41811414392059554, 0.4186335403726708, 0.417910447761194, 0.41843088418430885, 0.41895261845386533, 0.41947565543071164, 0.42, 0.42052565707133915, 0.42105263157894735, 0.4215809284818068, 0.42085427135678394, 0.42012578616352203, 0.42065491183879095, 0.42118537200504413, 0.42045454545454547, 0.42098609355246525, 0.4215189873417722, 0.4220532319391635, 0.42258883248730966, 0.4218551461245235, 0.4223918575063613, 0.4229299363057325, 0.4221938775510204, 0.4227330779054917, 0.4219948849104859, 0.4225352112676056, 0.4217948717948718, 0.42233632862644416, 0.42287917737789205, 0.42342342342342343, 0.42396907216494845, 0.42451612903225805, 0.42506459948320413, 0.425614489003881, 0.4261658031088083, 0.4267185473411154, 0.42727272727272725, 0.42782834850455137, 0.4283854166666667, 0.42894393741851367, 0.42950391644908614, 0.4300653594771242, 0.4306282722513089, 0.42988204456094364, 0.4304461942257218, 0.4296977660972405, 0.43026315789473685, 0.4308300395256917, 0.4313984168865435, 0.4319682959048877, 0.43253968253968256, 0.433112582781457, 0.4336870026525199, 0.4342629482071713, 0.4348404255319149, 0.43541944074567246, 0.436, 0.43658210947930576, 0.43716577540106955, 0.43775100401606426, 0.4383378016085791, 0.4375838926174497, 0.4381720430107527, 0.4387617765814266, 0.4380053908355795, 0.43859649122807015, 0.4391891891891892, 0.4397834912043302, 0.44037940379403795, 0.44097693351424694, 0.44157608695652173, 0.4421768707482993, 0.44141689373297005, 0.44201909959072305, 0.4426229508196721, 0.4432284541723666, 0.4438356164383562, 0.4444444444444444, 0.44505494505494503, 0.4442916093535076, 0.44490358126721763, 0.44413793103448274, 0.4447513812154696, 0.44536652835408025, 0.44598337950138506, 0.44521497919556174, 0.4444444444444444, 0.44506258692628653, 0.44428969359331477, 0.44490934449093444, 0.4441340782122905, 0.44475524475524475, 0.44537815126050423, 0.44600280504908835, 0.44662921348314605, 0.44585091420534456, 0.44647887323943664, 0.44710860366713684, 0.4463276836158192, 0.44695898161244696, 0.4475920679886686, 0.44680851063829785, 0.4474431818181818, 0.4480796586059744, 0.4472934472934473, 0.4479315263908702, 0.4471428571428571, 0.44778254649499283, 0.4484240687679083, 0.44763271162123386, 0.4482758620689655, 0.4489208633093525, 0.4495677233429395, 0.45021645021645024, 0.4508670520231214, 0.4515195369030391, 0.45217391304347826, 0.4528301886792453, 0.45203488372093026, 0.45269286754002913, 0.45335276967930027, 0.454014598540146, 0.4546783625730994, 0.45534407027818447, 0.4560117302052786, 0.4566813509544787, 0.4573529411764706, 0.4580265095729013, 0.45870206489675514, 0.45937961595273263, 0.46005917159763315, 0.46074074074074073, 0.46142433234421365, 0.4606240713224368, 0.46130952380952384, 0.46199701937406856, 0.4626865671641791, 0.4633781763826607, 0.46407185628742514, 0.46476761619190404, 0.46546546546546547, 0.46466165413533833, 0.46536144578313254, 0.4660633484162896, 0.46676737160120846, 0.46747352496217853, 0.4666666666666667, 0.4673748103186646, 0.46808510638297873, 0.4687975646879756, 0.4695121951219512, 0.47022900763358777, 0.4709480122324159, 0.47166921898928027, 0.4723926380368098, 0.4731182795698925, 0.4723076923076923, 0.47303543913713403, 0.4737654320987654, 0.47449768160741884, 0.47523219814241485, 0.4744186046511628, 0.4751552795031056, 0.47433903576982894, 0.4750778816199377, 0.47581903276131043, 0.4765625, 0.47730829420970267, 0.47648902821316613, 0.4772370486656201, 0.47641509433962265, 0.47716535433070867, 0.47791798107255523, 0.4786729857819905, 0.47943037974683544, 0.48019017432646594, 0.48095238095238096, 0.48012718600953896, 0.47929936305732485, 0.4800637958532695, 0.48083067092651754, 0.4816, 0.4823717948717949, 0.48314606741573035, 0.48231511254019294, 0.4830917874396135, 0.482258064516129, 0.481421647819063, 0.48058252427184467, 0.47974068071312803, 0.4788961038961039, 0.4796747967479675, 0.4804560260586319, 0.4812398042414356, 0.4820261437908497, 0.48117839607201307, 0.4819672131147541, 0.48111658456486045, 0.4819078947368421, 0.48105436573311366, 0.48184818481848185, 0.4826446280991736, 0.48344370860927155, 0.4842454394693201, 0.4833887043189369, 0.4841930116472546, 0.485, 0.48580968280467446, 0.4866220735785953, 0.48743718592964824, 0.4865771812080537, 0.48739495798319327, 0.4882154882154882, 0.48903878583473864, 0.48986486486486486, 0.4906937394247039, 0.4915254237288136, 0.4923599320882852, 0.4931972789115646, 0.49233390119250425, 0.4931740614334471, 0.49401709401709404, 0.4948630136986301, 0.4939965694682676, 0.49312714776632305, 0.49225473321858865, 0.49310344827586206, 0.4939550949913644, 0.49480968858131485, 0.49566724436741766, 0.4965277777777778, 0.4956521739130435, 0.49477351916376305, 0.4956369982547993, 0.4965034965034965, 0.4973730297723292, 0.4964912280701754, 0.4973637961335677, 0.4982394366197183, 0.4991181657848324, 0.5, 0.49911504424778763, 0.5, 0.5008880994671403, 0.5, 0.5008912655971479, 0.5017857142857143, 0.5026833631484794, 0.503584229390681, 0.5044883303411131, 0.5053956834532374, 0.5063063063063064, 0.5054151624548736, 0.5063291139240507, 0.5072463768115942, 0.5081669691470054, 0.509090909090909, 0.5100182149362478, 0.5091240875912408, 0.5082266910420475, 0.5073260073260073, 0.5082568807339449, 0.5091911764705882, 0.5082872928176796, 0.507380073800738, 0.5064695009242144, 0.5055555555555555, 0.5064935064935064, 0.5074349442379182, 0.5083798882681564, 0.5074626865671642, 0.5065420560747663, 0.5074906367041199, 0.5084427767354597, 0.5093984962406015, 0.5103578154425612, 0.5094339622641509, 0.5103969754253308, 0.509469696969697, 0.50853889943074, 0.5076045627376425, 0.5085714285714286, 0.5095419847328244, 0.5105162523900574, 0.5114942528735632, 0.510556621880998, 0.5096153846153846, 0.5105973025048169, 0.5115830115830116, 0.5125725338491296, 0.5116279069767442, 0.512621359223301, 0.5136186770428015, 0.5126705653021443, 0.513671875, 0.512720156555773, 0.5117647058823529, 0.5108055009823183, 0.5118110236220472, 0.5128205128205128, 0.5138339920948617, 0.5148514851485149, 0.5158730158730159, 0.5168986083499006, 0.5159362549800797, 0.5169660678642715, 0.516, 0.5170340681362725, 0.5160642570281124, 0.5150905432595574, 0.5161290322580645, 0.5171717171717172, 0.5182186234817814, 0.5172413793103449, 0.5182926829268293, 0.5193482688391039, 0.5204081632653061, 0.5194274028629857, 0.5184426229508197, 0.5195071868583162, 0.5205761316872428, 0.5216494845360825, 0.5227272727272727, 0.5238095238095238, 0.5228215767634855, 0.5239085239085239, 0.5229166666666667, 0.524008350730689, 0.5251046025104602, 0.5262054507337526, 0.5273109243697479, 0.5284210526315789, 0.5295358649789029, 0.5306553911205074, 0.5317796610169492, 0.5329087048832272, 0.5340425531914894, 0.535181236673774, 0.5341880341880342, 0.5331905781584583, 0.5321888412017167, 0.5333333333333333, 0.5344827586206896, 0.5356371490280778, 0.5346320346320347, 0.5357917570498916, 0.5369565217391304, 0.5381263616557734, 0.5393013100436681, 0.5404814004376368, 0.5416666666666666, 0.5428571428571428, 0.5440528634361234, 0.5452538631346578, 0.5442477876106194, 0.5454545454545454, 0.5444444444444444, 0.5434298440979956, 0.5446428571428571, 0.5458612975391499, 0.547085201793722, 0.5483146067415731, 0.5495495495495496, 0.5507900677200903, 0.5520361990950227, 0.5510204081632653, 0.5522727272727272, 0.5535307517084282, 0.5525114155251142, 0.551487414187643, 0.5527522935779816, 0.5540229885057472, 0.5552995391705069, 0.5565819861431871, 0.5578703703703703, 0.5568445475638051, 0.5581395348837209, 0.5571095571095571, 0.5560747663551402, 0.5573770491803278, 0.5563380281690141, 0.5576470588235294, 0.5566037735849056, 0.5555555555555556, 0.556872037914692, 0.5581947743467933, 0.5595238095238095, 0.5608591885441527, 0.5598086124401914, 0.5611510791366906, 0.5625, 0.563855421686747, 0.5652173913043478, 0.5665859564164649, 0.5655339805825242, 0.5644768856447688, 0.5658536585365853, 0.5647921760391198, 0.5661764705882353, 0.5675675675675675, 0.5665024630541872, 0.5654320987654321, 0.5643564356435643, 0.5632754342431762, 0.5646766169154229, 0.5635910224438903, 0.565, 0.5664160401002506, 0.5653266331658291, 0.5667506297229219, 0.5656565656565656, 0.5645569620253165, 0.565989847715736, 0.5674300254452926, 0.5688775510204082, 0.5703324808184144, 0.5717948717948718, 0.5732647814910026, 0.5721649484536082, 0.5710594315245479, 0.572538860103627, 0.5714285714285714, 0.5729166666666666, 0.5718015665796344, 0.5732984293193717, 0.5748031496062992, 0.5763157894736842, 0.5778364116094987, 0.5793650793650794, 0.5809018567639257, 0.5797872340425532, 0.5813333333333334, 0.5802139037433155, 0.5817694369973191, 0.5806451612903226, 0.5822102425876011, 0.581081081081081, 0.5826558265582655, 0.5815217391304348, 0.5831062670299727, 0.5819672131147541, 0.5835616438356165, 0.5851648351648352, 0.5867768595041323, 0.5883977900552486, 0.590027700831025, 0.5916666666666667, 0.5905292479108635, 0.5921787709497207, 0.5938375350140056, 0.5955056179775281, 0.5971830985915493, 0.596045197740113, 0.5949008498583569, 0.59375, 0.5954415954415955, 0.5971428571428572, 0.5988538681948424, 0.6005747126436781, 0.6023054755043228, 0.6011560693641619, 0.6, 0.6017441860465116, 0.6034985422740525, 0.6052631578947368, 0.6041055718475073, 0.6058823529411764, 0.6076696165191741, 0.6094674556213018, 0.6112759643916914, 0.6130952380952381, 0.6119402985074627, 0.6137724550898204, 0.6126126126126126, 0.6144578313253012, 0.6163141993957704, 0.6181818181818182, 0.6200607902735562, 0.6189024390243902, 0.617737003058104, 0.6165644171779141, 0.6153846153846154, 0.6172839506172839, 0.6191950464396285, 0.6211180124223602, 0.6199376947040498, 0.61875, 0.6206896551724138, 0.6194968553459119, 0.6214511041009464, 0.620253164556962, 0.6222222222222222, 0.6242038216560509, 0.6261980830670927, 0.6282051282051282, 0.6270096463022508, 0.6290322580645161, 0.627831715210356, 0.6266233766233766, 0.6286644951140065, 0.630718954248366, 0.6295081967213115, 0.631578947368421, 0.6336633663366337, 0.6324503311258278, 0.6345514950166113, 0.6366666666666667, 0.6387959866220736, 0.6375838926174496, 0.6363636363636364, 0.6385135135135135, 0.6406779661016949, 0.6428571428571429, 0.6450511945392492, 0.6472602739726028, 0.6460481099656358, 0.6482758620689655, 0.6470588235294118, 0.6493055555555556, 0.6480836236933798, 0.6468531468531469, 0.6456140350877193, 0.647887323943662, 0.6501766784452296, 0.6524822695035462, 0.6548042704626335, 0.6535714285714286, 0.6523297491039427, 0.6510791366906474, 0.6534296028880866, 0.6557971014492754, 0.6545454545454545, 0.656934306569343, 0.6556776556776557, 0.6580882352941176, 0.6568265682656826, 0.6592592592592592, 0.6617100371747212, 0.664179104477612, 0.6666666666666666, 0.6691729323308271, 0.6742424242424242, 0.6755725190839694, 0.6781609195402298, 0.676923076923077, 0.6795366795366795, 0.6782945736434108, 0.6770428015564203, 0.6796875, 0.6784313725490196, 0.6771653543307087, 0.6758893280632411, 0.6785714285714286, 0.6772908366533864, 0.676, 0.678714859437751, 0.6774193548387096, 0.6761133603238867, 0.6747967479674797, 0.673469387755102, 0.6721311475409836, 0.6707818930041153, 0.6694214876033058, 0.6721991701244814, 0.675, 0.6736401673640168, 0.6764705882352942, 0.679324894514768, 0.6822033898305084, 0.6851063829787234, 0.6837606837606838, 0.6866952789699571, 0.6896551724137931, 0.6883116883116883, 0.691304347826087, 0.6943231441048034, 0.6929824561403509, 0.6916299559471366, 0.6946902654867256, 0.6977777777777778, 0.6964285714285714, 0.6995515695067265, 0.7027027027027027, 0.7058823529411765, 0.7090909090909091, 0.7077625570776256, 0.7064220183486238, 0.7096774193548387, 0.7083333333333334, 0.7116279069767442, 0.7102803738317757, 0.7089201877934272, 0.7075471698113207, 0.7109004739336493, 0.7095238095238096, 0.7129186602870813, 0.7115384615384616, 0.714975845410628, 0.7184466019417476, 0.7219512195121951, 0.7205882352941176, 0.7192118226600985, 0.7227722772277227, 0.7263681592039801, 0.725, 0.7286432160804021, 0.7272727272727273, 0.7258883248730964, 0.7295918367346939, 0.7333333333333333, 0.7371134020618557, 0.7357512953367875, 0.734375, 0.7329842931937173, 0.7315789473684211, 0.7354497354497355, 0.7340425531914894, 0.732620320855615, 0.7311827956989247, 0.7351351351351352, 0.7336956521739131, 0.73224043715847, 0.7362637362637363, 0.7348066298342542, 0.7333333333333333, 0.7318435754189944, 0.7303370786516854, 0.7344632768361582, 0.7329545454545454, 0.7314285714285714, 0.735632183908046, 0.7341040462427746, 0.7383720930232558, 0.7368421052631579, 0.7352941176470589, 0.7337278106508875, 0.7380952380952381, 0.7425149700598802, 0.7469879518072289, 0.7454545454545455, 0.75, 0.7484662576687117, 0.7469135802469136, 0.7453416149068323, 0.75, 0.7484276729559748, 0.7468354430379747, 0.7452229299363057, 0.7435897435897436, 0.7419354838709677, 0.7402597402597403, 0.7450980392156863, 0.743421052631579, 0.7417218543046358, 0.74, 0.7449664429530202, 0.7432432432432432, 0.7414965986394558, 0.7397260273972602, 0.7448275862068966, 0.7430555555555556, 0.7412587412587412, 0.7394366197183099, 0.7446808510638298, 0.7428571428571429, 0.7410071942446043, 0.7391304347826086, 0.7372262773722628, 0.7352941176470589, 0.7333333333333333, 0.7388059701492538, 0.7368421052631579, 0.7348484848484849, 0.732824427480916, 0.7307692307692307, 0.7364341085271318, 0.7421875, 0.7480314960629921, 0.746031746031746, 0.744, 0.7419354838709677, 0.7398373983739838, 0.7377049180327869, 0.7355371900826446, 0.7333333333333333, 0.7310924369747899, 0.7372881355932204, 0.7435897435897436, 0.75, 0.7478260869565218, 0.7543859649122807, 0.7610619469026548, 0.7589285714285714, 0.7567567567567568, 0.7545454545454545, 0.7522935779816514, 0.75, 0.7476635514018691, 0.7452830188679245, 0.7428571428571429, 0.75, 0.7572815533980582, 0.7549019607843137, 0.7623762376237624, 0.76, 0.7676767676767676, 0.7653061224489796, 0.7628865979381443, 0.7708333333333334, 0.7684210526315789, 0.7659574468085106, 0.7741935483870968, 0.7717391304347826, 0.7692307692307693, 0.7777777777777778, 0.7752808988764045, 0.7840909090909091, 0.7816091954022989, 0.7790697674418605, 0.788235294117647, 0.7976190476190477, 0.7951807228915663, 0.8048780487804879, 0.8024691358024691, 0.8, 0.7974683544303798, 0.7948717948717948, 0.7922077922077922, 0.8026315789473685, 0.8133333333333334, 0.8108108108108109, 0.8082191780821918, 0.8055555555555556, 0.8169014084507042, 0.8285714285714286, 0.8260869565217391, 0.8382352941176471, 0.835820895522388, 0.8333333333333334, 0.8307692307692308, 0.828125, 0.8253968253968254, 0.8225806451612904, 0.819672131147541, 0.8166666666666667, 0.8135593220338984, 0.8103448275862069, 0.8070175438596491, 0.8035714285714286, 0.8181818181818182, 0.8148148148148148, 0.8113207547169812, 0.8076923076923077, 0.8235294117647058, 0.82, 0.8367346938775511, 0.8333333333333334, 0.8297872340425532, 0.8260869565217391, 0.8222222222222222, 0.8181818181818182, 0.8372093023255814, 0.8333333333333334, 0.8536585365853658, 0.85, 0.8717948717948718, 0.868421052631579, 0.8648648648648649, 0.8611111111111112, 0.8571428571428571, 0.8529411764705882, 0.8484848484848485, 0.84375, 0.8387096774193549, 0.8333333333333334, 0.8275862068965517, 0.8214285714285714, 0.8148148148148148, 0.8076923076923077, 0.8, 0.7916666666666666, 0.782608695652174, 0.7727272727272727, 0.7619047619047619, 0.8, 0.8421052631578947, 0.8333333333333334, 0.8235294117647058, 0.8125, 0.8, 0.8571428571428571, 0.8333333333333334, 0.8181818181818182, 0.8, 0.8888888888888888, 0.875, 1.0, 1.0, 1.0, 1.0, 1.0, 1.0]}, {\"mode\": \"lines\", \"name\": \"SGB\", \"type\": \"scatter\", \"x\": [1.0, 0.9973262032085561, 0.9973262032085561, 0.9973262032085561, 0.9973262032085561, 0.9973262032085561, 0.9973262032085561, 0.9973262032085561, 0.9973262032085561, 0.9973262032085561, 0.9973262032085561, 0.9973262032085561, 0.9973262032085561, 0.9973262032085561, 0.9973262032085561, 0.9973262032085561, 0.9946524064171123, 0.9946524064171123, 0.9946524064171123, 0.9946524064171123, 0.9946524064171123, 0.9946524064171123, 0.9946524064171123, 0.9946524064171123, 0.9946524064171123, 0.9946524064171123, 0.9946524064171123, 0.9946524064171123, 0.9946524064171123, 0.9946524064171123, 0.9946524064171123, 0.9946524064171123, 0.9946524064171123, 0.9946524064171123, 0.9946524064171123, 0.9946524064171123, 0.9946524064171123, 0.9946524064171123, 0.9946524064171123, 0.9946524064171123, 0.9946524064171123, 0.9946524064171123, 0.9946524064171123, 0.9946524064171123, 0.9946524064171123, 0.9946524064171123, 0.9946524064171123, 0.9946524064171123, 0.9946524064171123, 0.9946524064171123, 0.9946524064171123, 0.9946524064171123, 0.9946524064171123, 0.9946524064171123, 0.9946524064171123, 0.9946524064171123, 0.9946524064171123, 0.9946524064171123, 0.9946524064171123, 0.9946524064171123, 0.9946524064171123, 0.9946524064171123, 0.9946524064171123, 0.9946524064171123, 0.9946524064171123, 0.9946524064171123, 0.9946524064171123, 0.9946524064171123, 0.9946524064171123, 0.9946524064171123, 0.9946524064171123, 0.9946524064171123, 0.9946524064171123, 0.9946524064171123, 0.9946524064171123, 0.9946524064171123, 0.9946524064171123, 0.9946524064171123, 0.9946524064171123, 0.9946524064171123, 0.9946524064171123, 0.9946524064171123, 0.9946524064171123, 0.9946524064171123, 0.9946524064171123, 0.9946524064171123, 0.9946524064171123, 0.9946524064171123, 0.9946524064171123, 0.9946524064171123, 0.9946524064171123, 0.9946524064171123, 0.9946524064171123, 0.9946524064171123, 0.9946524064171123, 0.9946524064171123, 0.9946524064171123, 0.9946524064171123, 0.9919786096256684, 0.9919786096256684, 0.9919786096256684, 0.9919786096256684, 0.9919786096256684, 0.9919786096256684, 0.9919786096256684, 0.9919786096256684, 0.9919786096256684, 0.9919786096256684, 0.9919786096256684, 0.9919786096256684, 0.9919786096256684, 0.9919786096256684, 0.9919786096256684, 0.9919786096256684, 0.9919786096256684, 0.9919786096256684, 0.9919786096256684, 0.9919786096256684, 0.9919786096256684, 0.9919786096256684, 0.9919786096256684, 0.9919786096256684, 0.9919786096256684, 0.9919786096256684, 0.9919786096256684, 0.9919786096256684, 0.9919786096256684, 0.9919786096256684, 0.9919786096256684, 0.9919786096256684, 0.9919786096256684, 0.9919786096256684, 0.9919786096256684, 0.9919786096256684, 0.9919786096256684, 0.9919786096256684, 0.9919786096256684, 0.9919786096256684, 0.9919786096256684, 0.9919786096256684, 0.9919786096256684, 0.9919786096256684, 0.9919786096256684, 0.9919786096256684, 0.9919786096256684, 0.9919786096256684, 0.9919786096256684, 0.9919786096256684, 0.9919786096256684, 0.9919786096256684, 0.9919786096256684, 0.9919786096256684, 0.9919786096256684, 0.9919786096256684, 0.9919786096256684, 0.9919786096256684, 0.9919786096256684, 0.9919786096256684, 0.9919786096256684, 0.9919786096256684, 0.9919786096256684, 0.9919786096256684, 0.9893048128342246, 0.9893048128342246, 0.9893048128342246, 0.9893048128342246, 0.9893048128342246, 0.9893048128342246, 0.9893048128342246, 0.9893048128342246, 0.9893048128342246, 0.9893048128342246, 0.9893048128342246, 0.9893048128342246, 0.9893048128342246, 0.9893048128342246, 0.9893048128342246, 0.9893048128342246, 0.9893048128342246, 0.9893048128342246, 0.9893048128342246, 0.9893048128342246, 0.9893048128342246, 0.9893048128342246, 0.9893048128342246, 0.9893048128342246, 0.9893048128342246, 0.9893048128342246, 0.9893048128342246, 0.9893048128342246, 0.9893048128342246, 0.9893048128342246, 0.9893048128342246, 0.9893048128342246, 0.9893048128342246, 0.9893048128342246, 0.9893048128342246, 0.9893048128342246, 0.9893048128342246, 0.9893048128342246, 0.9893048128342246, 0.9893048128342246, 0.9893048128342246, 0.9893048128342246, 0.9893048128342246, 0.9893048128342246, 0.9893048128342246, 0.9893048128342246, 0.9866310160427807, 0.9866310160427807, 0.9866310160427807, 0.9866310160427807, 0.9866310160427807, 0.9866310160427807, 0.9866310160427807, 0.9866310160427807, 0.9866310160427807, 0.9866310160427807, 0.9866310160427807, 0.9866310160427807, 0.9866310160427807, 0.9866310160427807, 0.9866310160427807, 0.9866310160427807, 0.9866310160427807, 0.9866310160427807, 0.9866310160427807, 0.9866310160427807, 0.9866310160427807, 0.9866310160427807, 0.9866310160427807, 0.9866310160427807, 0.9866310160427807, 0.9866310160427807, 0.9866310160427807, 0.9866310160427807, 0.9866310160427807, 0.9866310160427807, 0.9866310160427807, 0.9866310160427807, 0.983957219251337, 0.983957219251337, 0.983957219251337, 0.983957219251337, 0.983957219251337, 0.983957219251337, 0.983957219251337, 0.983957219251337, 0.983957219251337, 0.983957219251337, 0.983957219251337, 0.983957219251337, 0.983957219251337, 0.983957219251337, 0.983957219251337, 0.983957219251337, 0.983957219251337, 0.983957219251337, 0.983957219251337, 0.983957219251337, 0.983957219251337, 0.983957219251337, 0.983957219251337, 0.983957219251337, 0.983957219251337, 0.983957219251337, 0.983957219251337, 0.983957219251337, 0.983957219251337, 0.983957219251337, 0.983957219251337, 0.983957219251337, 0.983957219251337, 0.983957219251337, 0.983957219251337, 0.983957219251337, 0.983957219251337, 0.9812834224598931, 0.9812834224598931, 0.9812834224598931, 0.9812834224598931, 0.9812834224598931, 0.9786096256684492, 0.9786096256684492, 0.9786096256684492, 0.9786096256684492, 0.9786096256684492, 0.9786096256684492, 0.9786096256684492, 0.9759358288770054, 0.9759358288770054, 0.9759358288770054, 0.9759358288770054, 0.9759358288770054, 0.9759358288770054, 0.9759358288770054, 0.9759358288770054, 0.9759358288770054, 0.9759358288770054, 0.9759358288770054, 0.9759358288770054, 0.9759358288770054, 0.9759358288770054, 0.9759358288770054, 0.9759358288770054, 0.9759358288770054, 0.9759358288770054, 0.9759358288770054, 0.9759358288770054, 0.9759358288770054, 0.9732620320855615, 0.9732620320855615, 0.9732620320855615, 0.9705882352941176, 0.9705882352941176, 0.9705882352941176, 0.9705882352941176, 0.9705882352941176, 0.9705882352941176, 0.9705882352941176, 0.9705882352941176, 0.9705882352941176, 0.9705882352941176, 0.9705882352941176, 0.9705882352941176, 0.9705882352941176, 0.9705882352941176, 0.9705882352941176, 0.9705882352941176, 0.9705882352941176, 0.9705882352941176, 0.9705882352941176, 0.9705882352941176, 0.9705882352941176, 0.9705882352941176, 0.9705882352941176, 0.9705882352941176, 0.9705882352941176, 0.9679144385026738, 0.9652406417112299, 0.9652406417112299, 0.9652406417112299, 0.9652406417112299, 0.9652406417112299, 0.9652406417112299, 0.9652406417112299, 0.9652406417112299, 0.9652406417112299, 0.9652406417112299, 0.9652406417112299, 0.9652406417112299, 0.9652406417112299, 0.9652406417112299, 0.9625668449197861, 0.9625668449197861, 0.9625668449197861, 0.9625668449197861, 0.9625668449197861, 0.9598930481283422, 0.9598930481283422, 0.9598930481283422, 0.9598930481283422, 0.9598930481283422, 0.9598930481283422, 0.9572192513368984, 0.9572192513368984, 0.9572192513368984, 0.9572192513368984, 0.9572192513368984, 0.9572192513368984, 0.9572192513368984, 0.9572192513368984, 0.9572192513368984, 0.9572192513368984, 0.9572192513368984, 0.9572192513368984, 0.9572192513368984, 0.9572192513368984, 0.9572192513368984, 0.9572192513368984, 0.9572192513368984, 0.9572192513368984, 0.9572192513368984, 0.9572192513368984, 0.9572192513368984, 0.9572192513368984, 0.9572192513368984, 0.9572192513368984, 0.9572192513368984, 0.9572192513368984, 0.9572192513368984, 0.9572192513368984, 0.9572192513368984, 0.9572192513368984, 0.9572192513368984, 0.9572192513368984, 0.9572192513368984, 0.9572192513368984, 0.9572192513368984, 0.9572192513368984, 0.9572192513368984, 0.9545454545454546, 0.9545454545454546, 0.9545454545454546, 0.9518716577540107, 0.9518716577540107, 0.9518716577540107, 0.9518716577540107, 0.9518716577540107, 0.9518716577540107, 0.9518716577540107, 0.9518716577540107, 0.9518716577540107, 0.9518716577540107, 0.9518716577540107, 0.9518716577540107, 0.9518716577540107, 0.9518716577540107, 0.9518716577540107, 0.9491978609625669, 0.9491978609625669, 0.946524064171123, 0.9438502673796791, 0.9411764705882353, 0.9411764705882353, 0.9411764705882353, 0.9411764705882353, 0.9411764705882353, 0.9411764705882353, 0.9411764705882353, 0.9411764705882353, 0.9411764705882353, 0.9411764705882353, 0.9411764705882353, 0.9411764705882353, 0.9411764705882353, 0.9411764705882353, 0.9411764705882353, 0.9411764705882353, 0.9411764705882353, 0.9385026737967914, 0.9385026737967914, 0.9385026737967914, 0.9385026737967914, 0.9358288770053476, 0.9358288770053476, 0.9331550802139037, 0.93048128342246, 0.93048128342246, 0.93048128342246, 0.93048128342246, 0.93048128342246, 0.9278074866310161, 0.9278074866310161, 0.9278074866310161, 0.9278074866310161, 0.9278074866310161, 0.9278074866310161, 0.9278074866310161, 0.9278074866310161, 0.9278074866310161, 0.9278074866310161, 0.9251336898395722, 0.9224598930481284, 0.9224598930481284, 0.9224598930481284, 0.9197860962566845, 0.9171122994652406, 0.9171122994652406, 0.9171122994652406, 0.9171122994652406, 0.9171122994652406, 0.9171122994652406, 0.9171122994652406, 0.9171122994652406, 0.9171122994652406, 0.9171122994652406, 0.9144385026737968, 0.9144385026737968, 0.9144385026737968, 0.9144385026737968, 0.9144385026737968, 0.9144385026737968, 0.9144385026737968, 0.9144385026737968, 0.9117647058823529, 0.9117647058823529, 0.9117647058823529, 0.9117647058823529, 0.9117647058823529, 0.9117647058823529, 0.9117647058823529, 0.9117647058823529, 0.9117647058823529, 0.9090909090909091, 0.9090909090909091, 0.9090909090909091, 0.9090909090909091, 0.9090909090909091, 0.9064171122994652, 0.9064171122994652, 0.9037433155080213, 0.9037433155080213, 0.9037433155080213, 0.9037433155080213, 0.9037433155080213, 0.9037433155080213, 0.9010695187165776, 0.9010695187165776, 0.9010695187165776, 0.8983957219251337, 0.8983957219251337, 0.8983957219251337, 0.8983957219251337, 0.8983957219251337, 0.8983957219251337, 0.8983957219251337, 0.8983957219251337, 0.8983957219251337, 0.8983957219251337, 0.8983957219251337, 0.8983957219251337, 0.8957219251336899, 0.893048128342246, 0.893048128342246, 0.893048128342246, 0.893048128342246, 0.893048128342246, 0.893048128342246, 0.893048128342246, 0.893048128342246, 0.893048128342246, 0.893048128342246, 0.893048128342246, 0.893048128342246, 0.893048128342246, 0.893048128342246, 0.893048128342246, 0.893048128342246, 0.8903743315508021, 0.8903743315508021, 0.8903743315508021, 0.8903743315508021, 0.8903743315508021, 0.8903743315508021, 0.8903743315508021, 0.8903743315508021, 0.8903743315508021, 0.8903743315508021, 0.8903743315508021, 0.8903743315508021, 0.8903743315508021, 0.8903743315508021, 0.8903743315508021, 0.8903743315508021, 0.8903743315508021, 0.8877005347593583, 0.8877005347593583, 0.8877005347593583, 0.8877005347593583, 0.8877005347593583, 0.8877005347593583, 0.8877005347593583, 0.8877005347593583, 0.8877005347593583, 0.8877005347593583, 0.8877005347593583, 0.8877005347593583, 0.8877005347593583, 0.8850267379679144, 0.8850267379679144, 0.8823529411764706, 0.8823529411764706, 0.8823529411764706, 0.8796791443850267, 0.8770053475935828, 0.8770053475935828, 0.8743315508021391, 0.8743315508021391, 0.8743315508021391, 0.8716577540106952, 0.8716577540106952, 0.8716577540106952, 0.8716577540106952, 0.8689839572192514, 0.8689839572192514, 0.8689839572192514, 0.8689839572192514, 0.8663101604278075, 0.8663101604278075, 0.8663101604278075, 0.8663101604278075, 0.8636363636363636, 0.8636363636363636, 0.8636363636363636, 0.8636363636363636, 0.8636363636363636, 0.8636363636363636, 0.8636363636363636, 0.8636363636363636, 0.8609625668449198, 0.8609625668449198, 0.8609625668449198, 0.8609625668449198, 0.8609625668449198, 0.8609625668449198, 0.8609625668449198, 0.8609625668449198, 0.8609625668449198, 0.8582887700534759, 0.8582887700534759, 0.8582887700534759, 0.8582887700534759, 0.8582887700534759, 0.8556149732620321, 0.8556149732620321, 0.8556149732620321, 0.8529411764705882, 0.8502673796791443, 0.8475935828877005, 0.8475935828877005, 0.8475935828877005, 0.8475935828877005, 0.8475935828877005, 0.8475935828877005, 0.8475935828877005, 0.8475935828877005, 0.8475935828877005, 0.8475935828877005, 0.8475935828877005, 0.8475935828877005, 0.8475935828877005, 0.8475935828877005, 0.8475935828877005, 0.8449197860962567, 0.8449197860962567, 0.8449197860962567, 0.8422459893048129, 0.8422459893048129, 0.8422459893048129, 0.8422459893048129, 0.8422459893048129, 0.839572192513369, 0.839572192513369, 0.839572192513369, 0.8368983957219251, 0.8368983957219251, 0.8342245989304813, 0.8342245989304813, 0.8342245989304813, 0.8342245989304813, 0.8342245989304813, 0.8342245989304813, 0.8342245989304813, 0.8342245989304813, 0.8315508021390374, 0.8315508021390374, 0.8315508021390374, 0.8315508021390374, 0.8315508021390374, 0.8315508021390374, 0.8315508021390374, 0.8315508021390374, 0.8315508021390374, 0.8288770053475936, 0.8288770053475936, 0.8262032085561497, 0.8262032085561497, 0.8235294117647058, 0.820855614973262, 0.820855614973262, 0.8181818181818182, 0.8181818181818182, 0.8181818181818182, 0.8181818181818182, 0.8181818181818182, 0.8181818181818182, 0.8181818181818182, 0.8181818181818182, 0.8155080213903744, 0.8128342245989305, 0.8128342245989305, 0.8128342245989305, 0.8128342245989305, 0.8128342245989305, 0.8101604278074866, 0.8101604278074866, 0.8101604278074866, 0.8101604278074866, 0.8074866310160428, 0.8074866310160428, 0.8074866310160428, 0.8074866310160428, 0.8074866310160428, 0.8074866310160428, 0.8074866310160428, 0.8074866310160428, 0.8048128342245989, 0.8021390374331551, 0.8021390374331551, 0.7994652406417112, 0.7994652406417112, 0.7994652406417112, 0.7994652406417112, 0.7994652406417112, 0.7994652406417112, 0.7994652406417112, 0.7994652406417112, 0.7994652406417112, 0.7994652406417112, 0.7994652406417112, 0.7967914438502673, 0.7967914438502673, 0.7967914438502673, 0.7967914438502673, 0.7967914438502673, 0.7967914438502673, 0.7941176470588235, 0.7941176470588235, 0.7914438502673797, 0.7887700534759359, 0.7887700534759359, 0.7887700534759359, 0.786096256684492, 0.786096256684492, 0.786096256684492, 0.786096256684492, 0.786096256684492, 0.786096256684492, 0.786096256684492, 0.786096256684492, 0.786096256684492, 0.786096256684492, 0.786096256684492, 0.7834224598930482, 0.7807486631016043, 0.7807486631016043, 0.7807486631016043, 0.7780748663101604, 0.7780748663101604, 0.7780748663101604, 0.7780748663101604, 0.7780748663101604, 0.7754010695187166, 0.7754010695187166, 0.7754010695187166, 0.7754010695187166, 0.7754010695187166, 0.7754010695187166, 0.7727272727272727, 0.7727272727272727, 0.7727272727272727, 0.7727272727272727, 0.7727272727272727, 0.7700534759358288, 0.7700534759358288, 0.767379679144385, 0.767379679144385, 0.7647058823529411, 0.7647058823529411, 0.7647058823529411, 0.7620320855614974, 0.7620320855614974, 0.7593582887700535, 0.7593582887700535, 0.7593582887700535, 0.7566844919786097, 0.7566844919786097, 0.7566844919786097, 0.7566844919786097, 0.7566844919786097, 0.7566844919786097, 0.7566844919786097, 0.7566844919786097, 0.7566844919786097, 0.7566844919786097, 0.7540106951871658, 0.7540106951871658, 0.7540106951871658, 0.7540106951871658, 0.7540106951871658, 0.7513368983957219, 0.7513368983957219, 0.7513368983957219, 0.7513368983957219, 0.7513368983957219, 0.7513368983957219, 0.7513368983957219, 0.7513368983957219, 0.7513368983957219, 0.7486631016042781, 0.7459893048128342, 0.7433155080213903, 0.7433155080213903, 0.7433155080213903, 0.7433155080213903, 0.7433155080213903, 0.7433155080213903, 0.7433155080213903, 0.7406417112299465, 0.7379679144385026, 0.7379679144385026, 0.7379679144385026, 0.7379679144385026, 0.7379679144385026, 0.7379679144385026, 0.7352941176470589, 0.7352941176470589, 0.7352941176470589, 0.7352941176470589, 0.732620320855615, 0.732620320855615, 0.732620320855615, 0.732620320855615, 0.732620320855615, 0.732620320855615, 0.732620320855615, 0.732620320855615, 0.732620320855615, 0.7299465240641712, 0.7299465240641712, 0.7299465240641712, 0.7299465240641712, 0.7299465240641712, 0.7299465240641712, 0.7272727272727273, 0.7272727272727273, 0.7272727272727273, 0.7272727272727273, 0.7272727272727273, 0.7272727272727273, 0.7272727272727273, 0.7245989304812834, 0.7219251336898396, 0.7219251336898396, 0.7192513368983957, 0.7165775401069518, 0.713903743315508, 0.713903743315508, 0.713903743315508, 0.7112299465240641, 0.7112299465240641, 0.7085561497326203, 0.7058823529411765, 0.7058823529411765, 0.7032085561497327, 0.7032085561497327, 0.7032085561497327, 0.7032085561497327, 0.7032085561497327, 0.7032085561497327, 0.7032085561497327, 0.7032085561497327, 0.7032085561497327, 0.7032085561497327, 0.7032085561497327, 0.7032085561497327, 0.7005347593582888, 0.7005347593582888, 0.7005347593582888, 0.7005347593582888, 0.7005347593582888, 0.6978609625668449, 0.6951871657754011, 0.6925133689839572, 0.6898395721925134, 0.6898395721925134, 0.6871657754010695, 0.6871657754010695, 0.6871657754010695, 0.6871657754010695, 0.6844919786096256, 0.6818181818181818, 0.679144385026738, 0.6764705882352942, 0.6764705882352942, 0.6737967914438503, 0.6737967914438503, 0.6711229946524064, 0.6684491978609626, 0.6657754010695187, 0.6657754010695187, 0.6657754010695187, 0.6631016042780749, 0.6631016042780749, 0.6631016042780749, 0.660427807486631, 0.6577540106951871, 0.6577540106951871, 0.6577540106951871, 0.6577540106951871, 0.6577540106951871, 0.6577540106951871, 0.6577540106951871, 0.6577540106951871, 0.6577540106951871, 0.6577540106951871, 0.6550802139037433, 0.6550802139037433, 0.6550802139037433, 0.6524064171122995, 0.6497326203208557, 0.6497326203208557, 0.6497326203208557, 0.6470588235294118, 0.6470588235294118, 0.6470588235294118, 0.6443850267379679, 0.6417112299465241, 0.6390374331550802, 0.6363636363636364, 0.6363636363636364, 0.6363636363636364, 0.6363636363636364, 0.6363636363636364, 0.6363636363636364, 0.6363636363636364, 0.6336898395721925, 0.6336898395721925, 0.6310160427807486, 0.6310160427807486, 0.6283422459893048, 0.6256684491978609, 0.6256684491978609, 0.6256684491978609, 0.6256684491978609, 0.6229946524064172, 0.6229946524064172, 0.6203208556149733, 0.6203208556149733, 0.6176470588235294, 0.6176470588235294, 0.6176470588235294, 0.6176470588235294, 0.6176470588235294, 0.6176470588235294, 0.6176470588235294, 0.6176470588235294, 0.6149732620320856, 0.6149732620320856, 0.6122994652406417, 0.6096256684491979, 0.606951871657754, 0.6042780748663101, 0.6042780748663101, 0.6016042780748663, 0.5989304812834224, 0.5962566844919787, 0.5935828877005348, 0.5909090909090909, 0.5909090909090909, 0.5909090909090909, 0.5909090909090909, 0.5909090909090909, 0.5882352941176471, 0.5855614973262032, 0.5855614973262032, 0.5855614973262032, 0.5828877005347594, 0.5828877005347594, 0.5828877005347594, 0.5802139037433155, 0.5802139037433155, 0.5802139037433155, 0.5802139037433155, 0.5802139037433155, 0.5802139037433155, 0.5775401069518716, 0.5748663101604278, 0.5748663101604278, 0.5721925133689839, 0.5721925133689839, 0.5721925133689839, 0.5721925133689839, 0.5721925133689839, 0.56951871657754, 0.56951871657754, 0.5668449197860963, 0.5641711229946524, 0.5614973262032086, 0.5588235294117647, 0.5561497326203209, 0.5561497326203209, 0.5561497326203209, 0.553475935828877, 0.553475935828877, 0.5508021390374331, 0.5481283422459893, 0.5454545454545454, 0.5427807486631016, 0.5427807486631016, 0.5401069518716578, 0.5401069518716578, 0.5401069518716578, 0.5401069518716578, 0.5374331550802139, 0.5347593582887701, 0.5347593582887701, 0.5347593582887701, 0.5347593582887701, 0.5320855614973262, 0.5320855614973262, 0.5320855614973262, 0.5294117647058824, 0.5267379679144385, 0.5267379679144385, 0.5267379679144385, 0.5240641711229946, 0.5240641711229946, 0.5240641711229946, 0.5213903743315508, 0.5187165775401069, 0.516042780748663, 0.5133689839572193, 0.5133689839572193, 0.5133689839572193, 0.5133689839572193, 0.5133689839572193, 0.5133689839572193, 0.5106951871657754, 0.5106951871657754, 0.5080213903743316, 0.5080213903743316, 0.5053475935828877, 0.5026737967914439, 0.5, 0.49732620320855614, 0.4946524064171123, 0.4946524064171123, 0.4946524064171123, 0.4946524064171123, 0.4919786096256685, 0.4919786096256685, 0.4893048128342246, 0.4893048128342246, 0.4893048128342246, 0.4893048128342246, 0.4893048128342246, 0.4893048128342246, 0.48663101604278075, 0.4839572192513369, 0.4839572192513369, 0.4839572192513369, 0.4839572192513369, 0.48128342245989303, 0.48128342245989303, 0.48128342245989303, 0.4786096256684492, 0.4786096256684492, 0.4786096256684492, 0.4786096256684492, 0.47593582887700536, 0.4732620320855615, 0.4732620320855615, 0.47058823529411764, 0.47058823529411764, 0.4679144385026738, 0.4679144385026738, 0.4679144385026738, 0.46524064171123, 0.4625668449197861, 0.4625668449197861, 0.45989304812834225, 0.4572192513368984, 0.45454545454545453, 0.45187165775401067, 0.44919786096256686, 0.44919786096256686, 0.44919786096256686, 0.446524064171123, 0.446524064171123, 0.446524064171123, 0.446524064171123, 0.44385026737967914, 0.44385026737967914, 0.44385026737967914, 0.44385026737967914, 0.44385026737967914, 0.4411764705882353, 0.4411764705882353, 0.4411764705882353, 0.4411764705882353, 0.4411764705882353, 0.4385026737967914, 0.4385026737967914, 0.4358288770053476, 0.4358288770053476, 0.43315508021390375, 0.4304812834224599, 0.4304812834224599, 0.42780748663101603, 0.42513368983957217, 0.42245989304812837, 0.4197860962566845, 0.4197860962566845, 0.4197860962566845, 0.41711229946524064, 0.4144385026737968, 0.4144385026737968, 0.4117647058823529, 0.4090909090909091, 0.40641711229946526, 0.4037433155080214, 0.40106951871657753, 0.40106951871657753, 0.3983957219251337, 0.39572192513368987, 0.39572192513368987, 0.39572192513368987, 0.39572192513368987, 0.39572192513368987, 0.39572192513368987, 0.39572192513368987, 0.393048128342246, 0.39037433155080214, 0.39037433155080214, 0.3877005347593583, 0.3877005347593583, 0.3877005347593583, 0.3877005347593583, 0.3850267379679144, 0.3850267379679144, 0.3850267379679144, 0.3850267379679144, 0.3850267379679144, 0.38235294117647056, 0.37967914438502676, 0.3770053475935829, 0.3770053475935829, 0.3770053475935829, 0.37433155080213903, 0.37433155080213903, 0.3716577540106952, 0.3689839572192513, 0.3689839572192513, 0.3663101604278075, 0.3663101604278075, 0.3663101604278075, 0.3663101604278075, 0.3663101604278075, 0.36363636363636365, 0.36363636363636365, 0.36363636363636365, 0.3609625668449198, 0.3609625668449198, 0.3582887700534759, 0.35561497326203206, 0.35294117647058826, 0.3502673796791444, 0.34759358288770054, 0.3449197860962567, 0.3449197860962567, 0.3422459893048128, 0.3422459893048128, 0.3422459893048128, 0.3422459893048128, 0.339572192513369, 0.33689839572192515, 0.33689839572192515, 0.3342245989304813, 0.3315508021390374, 0.3315508021390374, 0.3315508021390374, 0.32887700534759357, 0.32887700534759357, 0.32620320855614976, 0.3235294117647059, 0.3235294117647059, 0.32085561497326204, 0.32085561497326204, 0.32085561497326204, 0.3181818181818182, 0.3155080213903743, 0.3155080213903743, 0.3155080213903743, 0.3155080213903743, 0.31283422459893045, 0.31283422459893045, 0.31016042780748665, 0.31016042780748665, 0.31016042780748665, 0.31016042780748665, 0.31016042780748665, 0.31016042780748665, 0.3074866310160428, 0.3048128342245989, 0.30213903743315507, 0.2994652406417112, 0.2967914438502674, 0.29411764705882354, 0.2914438502673797, 0.2887700534759358, 0.2887700534759358, 0.2887700534759358, 0.28609625668449196, 0.28609625668449196, 0.28342245989304815, 0.28342245989304815, 0.2807486631016043, 0.2807486631016043, 0.2807486631016043, 0.27807486631016043, 0.27540106951871657, 0.2727272727272727, 0.2727272727272727, 0.2700534759358289, 0.2700534759358289, 0.26737967914438504, 0.2647058823529412, 0.2620320855614973, 0.25935828877005346, 0.25935828877005346, 0.25935828877005346, 0.25935828877005346, 0.25668449197860965, 0.2540106951871658, 0.2540106951871658, 0.2540106951871658, 0.2540106951871658, 0.25133689839572193, 0.24866310160427807, 0.24866310160427807, 0.24598930481283424, 0.24598930481283424, 0.24598930481283424, 0.24598930481283424, 0.24598930481283424, 0.24331550802139038, 0.24331550802139038, 0.24064171122994651, 0.23796791443850268, 0.23529411764705882, 0.232620320855615, 0.22994652406417113, 0.22727272727272727, 0.22459893048128343, 0.22459893048128343, 0.22192513368983957, 0.2192513368983957, 0.21657754010695188, 0.21390374331550802, 0.21122994652406418, 0.20855614973262032, 0.20588235294117646, 0.20320855614973263, 0.20320855614973263, 0.20320855614973263, 0.20053475935828877, 0.20053475935828877, 0.19786096256684493, 0.19786096256684493, 0.19786096256684493, 0.19518716577540107, 0.19518716577540107, 0.1925133689839572, 0.18983957219251338, 0.18983957219251338, 0.18716577540106952, 0.18716577540106952, 0.18449197860962566, 0.18449197860962566, 0.18181818181818182, 0.18181818181818182, 0.17914438502673796, 0.17914438502673796, 0.17647058823529413, 0.17379679144385027, 0.1711229946524064, 0.16844919786096257, 0.1657754010695187, 0.1657754010695187, 0.16310160427807488, 0.16042780748663102, 0.15775401069518716, 0.15508021390374332, 0.15240641711229946, 0.15240641711229946, 0.15240641711229946, 0.1497326203208556, 0.14705882352941177, 0.14705882352941177, 0.1443850267379679, 0.14171122994652408, 0.13903743315508021, 0.13636363636363635, 0.13368983957219252, 0.13101604278074866, 0.12834224598930483, 0.12834224598930483, 0.12566844919786097, 0.12299465240641712, 0.12032085561497326, 0.12032085561497326, 0.12032085561497326, 0.11764705882352941, 0.11497326203208556, 0.11497326203208556, 0.11229946524064172, 0.10962566844919786, 0.10695187165775401, 0.10695187165775401, 0.10695187165775401, 0.10427807486631016, 0.10160427807486631, 0.09893048128342247, 0.0962566844919786, 0.09358288770053476, 0.09090909090909091, 0.09090909090909091, 0.08823529411764706, 0.0855614973262032, 0.08288770053475936, 0.08288770053475936, 0.08288770053475936, 0.08021390374331551, 0.07754010695187166, 0.0748663101604278, 0.0748663101604278, 0.07219251336898395, 0.06951871657754011, 0.06951871657754011, 0.06684491978609626, 0.06684491978609626, 0.06684491978609626, 0.06417112299465241, 0.06149732620320856, 0.058823529411764705, 0.05614973262032086, 0.053475935828877004, 0.05080213903743316, 0.0481283422459893, 0.0427807486631016, 0.040106951871657755, 0.040106951871657755, 0.0374331550802139, 0.034759358288770054, 0.029411764705882353, 0.026737967914438502, 0.02406417112299465, 0.0213903743315508, 0.01871657754010695, 0.016042780748663103, 0.0106951871657754, 0.008021390374331552, 0.008021390374331552, 0.0053475935828877, 0.00267379679144385, 0.0], \"y\": [0.276218611521418, 0.2756836659275684, 0.27588757396449703, 0.27609178386380456, 0.2762962962962963, 0.2765011119347665, 0.2767062314540059, 0.2769116555308092, 0.2771173848439822, 0.27732342007434946, 0.2775297619047619, 0.27773641102010427, 0.2779433681073025, 0.27815063385533184, 0.2783582089552239, 0.27856609410007466, 0.27802690582959644, 0.2782348541510845, 0.27844311377245506, 0.2786516853932584, 0.27886056971514245, 0.27906976744186046, 0.27927927927927926, 0.27948910593538695, 0.2796992481203007, 0.2799097065462754, 0.28012048192771083, 0.2803315749811605, 0.28054298642533937, 0.2807547169811321, 0.2809667673716012, 0.2811791383219955, 0.2813918305597579, 0.28160484481453446, 0.2818181818181818, 0.28203184230477635, 0.2822458270106222, 0.2824601366742597, 0.2828897338403042, 0.2831050228310502, 0.2833206397562833, 0.28353658536585363, 0.2837528604118993, 0.28396946564885495, 0.28418640183346067, 0.28440366972477066, 0.2846212700841622, 0.28483920367534454, 0.2850574712643678, 0.2852760736196319, 0.2854950115118956, 0.2857142857142857, 0.2859338970023059, 0.28615384615384615, 0.2863741339491917, 0.28659476117103233, 0.28681572860447185, 0.28703703703703703, 0.28725868725868725, 0.2874806800618238, 0.2877030162412993, 0.28792569659442724, 0.2881487219209915, 0.28837209302325584, 0.2885958107059736, 0.2888198757763975, 0.289044289044289, 0.2892690513219285, 0.28949416342412454, 0.2897196261682243, 0.2899454403741232, 0.29017160686427457, 0.2903981264637002, 0.290625, 0.290852228303362, 0.29107981220657275, 0.2913077525450274, 0.29153605015673983, 0.2917647058823529, 0.29199372056514916, 0.2922230950510605, 0.2926829268292683, 0.2929133858267717, 0.29314420803782504, 0.29337539432176657, 0.2936069455406472, 0.2938388625592417, 0.2940711462450593, 0.29430379746835444, 0.29453681710213775, 0.294770206022187, 0.2950039651070579, 0.29523809523809524, 0.29547259729944403, 0.2957074721780604, 0.29594272076372313, 0.2961783439490446, 0.2964143426294821, 0.2958532695374801, 0.29608938547486036, 0.2963258785942492, 0.2965627498001599, 0.2968, 0.29703763010408324, 0.297275641025641, 0.297514033680834, 0.29775280898876405, 0.29799196787148596, 0.2982315112540193, 0.29847144006436044, 0.29871175523349436, 0.2989524576954069, 0.2991935483870968, 0.2994350282485876, 0.29967689822294025, 0.29991915925626517, 0.30016181229773464, 0.3004048582995951, 0.3006482982171799, 0.3008921330089213, 0.30113636363636365, 0.3013809910641755, 0.3016260162601626, 0.3018714401952807, 0.30211726384364823, 0.3023634881825591, 0.30261011419249595, 0.3028571428571429, 0.30310457516339867, 0.30335241210139, 0.30360065466448444, 0.30384930384930386, 0.3040983606557377, 0.30434782608695654, 0.3045977011494253, 0.30484798685291703, 0.3050986842105263, 0.30534979423868314, 0.3056013179571664, 0.30585325638911787, 0.3061056105610561, 0.3063583815028902, 0.3066115702479339, 0.3068651778329198, 0.30711920529801323, 0.30737365368682684, 0.3076285240464345, 0.3078838174273859, 0.3081395348837209, 0.3086522462562396, 0.3089092422980849, 0.30916666666666665, 0.3094245204336947, 0.3096828046744574, 0.30994152046783624, 0.3102006688963211, 0.3104602510460251, 0.31072026800670016, 0.3109807208717519, 0.311241610738255, 0.31150293870696893, 0.31176470588235294, 0.31118587047939444, 0.3114478114478115, 0.3117101937657961, 0.31197301854974707, 0.31223628691983124, 0.3125, 0.3127641589180051, 0.3130287648054145, 0.31329381879762913, 0.3135593220338983, 0.3138252756573367, 0.3140916808149406, 0.3143585386576041, 0.31462585034013607, 0.3148936170212766, 0.3151618398637138, 0.3154305200341006, 0.31569965870307165, 0.31596925704526047, 0.3162393162393162, 0.3165098374679213, 0.3167808219178082, 0.3170522707797772, 0.31732418524871353, 0.31759656652360513, 0.3178694158075601, 0.3181427343078246, 0.31841652323580033, 0.3186907838070629, 0.31896551724137934, 0.31924072476272647, 0.31951640759930916, 0.3197925669835782, 0.32006920415224915, 0.3203463203463203, 0.32062391681109187, 0.32090199479618386, 0.3211805555555556, 0.3214596003475239, 0.3217391304347826, 0.32201914708442125, 0.32229965156794427, 0.3225806451612903, 0.3228621291448517, 0.3231441048034934, 0.32342657342657344, 0.3228346456692913, 0.3231173380035026, 0.32340052585451357, 0.3236842105263158, 0.32396839332748023, 0.3242530755711775, 0.3245382585751979, 0.3248239436619718, 0.3251101321585903, 0.3253968253968254, 0.32568402471315094, 0.32597173144876324, 0.32625994694960214, 0.32654867256637166, 0.32683790965456155, 0.3271276595744681, 0.32741792369121564, 0.327708703374778, 0.328, 0.32829181494661924, 0.3285841495992876, 0.32887700534759357, 0.32917038358608386, 0.3294642857142857, 0.3297587131367292, 0.3300536672629696, 0.3303491495076097, 0.33064516129032256, 0.3309417040358744, 0.33123877917414724, 0.33153638814016173, 0.3318345323741007, 0.33123312331233123, 0.33153153153153153, 0.3318304779080252, 0.33212996389891697, 0.3324299909665763, 0.33273056057866185, 0.3330316742081448, 0.3333333333333333, 0.33363553943789664, 0.3339382940108893, 0.33424159854677565, 0.33454545454545453, 0.3348498635122839, 0.33515482695810567, 0.33546034639927075, 0.3357664233576642, 0.3360730593607306, 0.33638025594149906, 0.3366880146386093, 0.336996336996337, 0.3373052245646196, 0.3376146788990826, 0.3379247015610652, 0.3382352941176471, 0.33854645814167433, 0.3388581952117864, 0.3391705069124424, 0.33948339483394835, 0.3397968605724838, 0.34011090573012936, 0.3404255319148936, 0.34074074074074073, 0.3410565338276182, 0.34137291280148424, 0.34168987929433614, 0.3420074349442379, 0.34232558139534885, 0.34171322160148976, 0.34203168685927304, 0.3423507462686567, 0.3426704014939309, 0.3429906542056075, 0.3423760523854069, 0.34269662921348315, 0.3430178069353327, 0.3433395872420263, 0.3436619718309859, 0.34398496240601506, 0.3443085606773283, 0.3436911487758945, 0.34401508011310084, 0.3443396226415094, 0.34466477809254015, 0.3449905482041588, 0.34531693472090824, 0.3456439393939394, 0.3459715639810427, 0.34629981024667933, 0.3466286799620133, 0.34695817490494296, 0.3472882968601332, 0.3476190476190476, 0.3479504289799809, 0.3482824427480916, 0.34861509073543456, 0.3489483747609943, 0.3492822966507177, 0.3496168582375479, 0.34995206136145734, 0.3502879078694818, 0.34966378482228627, 0.35, 0.3503368623676612, 0.34971098265895956, 0.3500482160077146, 0.3503861003861004, 0.3507246376811594, 0.35106382978723405, 0.3514036786060019, 0.35174418604651164, 0.35208535402521823, 0.3524271844660194, 0.35276967930029157, 0.3531128404669261, 0.35345666991236613, 0.3538011695906433, 0.3541463414634146, 0.3544921875, 0.3548387096774194, 0.35518590998043054, 0.3555337904015671, 0.3558823529411765, 0.3562315996074583, 0.3565815324165029, 0.35693215339233036, 0.3572834645669291, 0.35763546798029555, 0.35798816568047337, 0.35735439289239884, 0.3567193675889328, 0.3570722057368942, 0.3574257425742574, 0.35777998017839446, 0.35813492063492064, 0.3584905660377358, 0.3588469184890656, 0.3592039800995025, 0.3595617529880478, 0.35992023928215355, 0.3602794411177645, 0.36063936063936064, 0.361, 0.3613613613613614, 0.36072144288577157, 0.36108324974924777, 0.3614457831325301, 0.36180904522613067, 0.36217303822937624, 0.36153071500503525, 0.36189516129032256, 0.3622603430877901, 0.36262626262626263, 0.36299292214357937, 0.3633603238866397, 0.36271529888551163, 0.3630831643002028, 0.3634517766497462, 0.3638211382113821, 0.3641912512716175, 0.3645621181262729, 0.36493374108053006, 0.3653061224489796, 0.36567926455566907, 0.3660531697341513, 0.3664278403275333, 0.3668032786885246, 0.3671794871794872, 0.3675564681724846, 0.36793422404933196, 0.3683127572016461, 0.368692070030896, 0.36907216494845363, 0.36945304437564497, 0.36983471074380164, 0.3702171664943123, 0.37060041407867494, 0.37098445595854923, 0.37136929460580914, 0.37175493250259606, 0.37214137214137216, 0.372528616024974, 0.3729166666666667, 0.3733055265901981, 0.3736951983298539, 0.37408568443051204, 0.37447698744769875, 0.374869109947644, 0.3752620545073375, 0.3756558237145855, 0.3760504201680672, 0.3764458464773922, 0.3757894736842105, 0.3761854583772392, 0.37658227848101267, 0.3759239704329461, 0.3763213530655391, 0.37671957671957673, 0.3771186440677966, 0.37751855779427357, 0.37791932059447986, 0.3783209351753454, 0.37872340425531914, 0.37912673056443025, 0.3795309168443497, 0.3799359658484525, 0.3803418803418803, 0.38074866310160427, 0.3811563169164882, 0.3815648445873526, 0.38090128755364805, 0.38131041890440387, 0.38064516129032255, 0.379978471474704, 0.3793103448275862, 0.37971952535059333, 0.3801295896328294, 0.38054054054054054, 0.38095238095238093, 0.38136511375947996, 0.38177874186550975, 0.38219326818675353, 0.3826086956521739, 0.383025027203482, 0.38344226579520696, 0.38386041439476554, 0.38427947598253276, 0.3846994535519126, 0.3851203501094092, 0.3855421686746988, 0.38596491228070173, 0.38529088913282106, 0.38571428571428573, 0.38613861386138615, 0.3865638766519824, 0.38588754134509373, 0.38631346578366443, 0.3856353591160221, 0.38495575221238937, 0.3853820598006645, 0.3858093126385809, 0.38623751387347394, 0.38666666666666666, 0.38598442714126807, 0.38641425389755013, 0.38684503901895206, 0.3872767857142857, 0.3877094972067039, 0.38814317673378074, 0.3885778275475924, 0.3890134529147982, 0.3894500561167228, 0.3898876404494382, 0.3892013498312711, 0.3885135135135135, 0.38895152198421645, 0.3893905191873589, 0.3887005649717514, 0.38800904977375567, 0.3884484711211778, 0.3888888888888889, 0.38933030646992056, 0.38977272727272727, 0.3902161547212742, 0.3906605922551253, 0.39110604332953247, 0.3915525114155251, 0.392, 0.391304347826087, 0.3917525773195876, 0.3922018348623853, 0.39265212399540755, 0.3931034482758621, 0.39355581127733025, 0.39400921658986177, 0.3944636678200692, 0.39376443418013857, 0.3942196531791908, 0.39467592592592593, 0.3951332560834299, 0.39559164733178653, 0.39605110336817656, 0.39651162790697675, 0.3969732246798603, 0.3974358974358974, 0.396732788798133, 0.397196261682243, 0.39766081871345027, 0.3981264637002342, 0.39859320046893315, 0.397887323943662, 0.3983548766157462, 0.3976470588235294, 0.39811542991755006, 0.39858490566037735, 0.3990554899645809, 0.39952718676122934, 0.4, 0.39928909952606634, 0.3997627520759193, 0.4002375296912114, 0.3995243757431629, 0.4, 0.40047675804529204, 0.4009546539379475, 0.4014336917562724, 0.4019138755980861, 0.4023952095808383, 0.4028776978417266, 0.40336134453781514, 0.40384615384615385, 0.4043321299638989, 0.40481927710843374, 0.4041013268998794, 0.4033816425120773, 0.40386940749697703, 0.4043583535108959, 0.40484848484848485, 0.4053398058252427, 0.40583232077764275, 0.40632603406326034, 0.40682095006090135, 0.4073170731707317, 0.4078144078144078, 0.4083129584352078, 0.408812729498164, 0.40931372549019607, 0.4098159509202454, 0.4103194103194103, 0.4108241082410824, 0.4100985221674877, 0.41060419235511714, 0.4111111111111111, 0.411619283065513, 0.4121287128712871, 0.41263940520446096, 0.413151364764268, 0.41366459627329194, 0.4141791044776119, 0.41469489414694893, 0.415211970074813, 0.4157303370786517, 0.41625, 0.4167709637046308, 0.41729323308270677, 0.4178168130489335, 0.4183417085427136, 0.4176100628930818, 0.4181360201511335, 0.41866330390920553, 0.41919191919191917, 0.4197218710493047, 0.42025316455696204, 0.4207858048162231, 0.4213197969543147, 0.4218551461245235, 0.4223918575063613, 0.4229299363057325, 0.42346938775510207, 0.4240102171136654, 0.42327365728900257, 0.4238156209987196, 0.4230769230769231, 0.42362002567394097, 0.4241645244215938, 0.42342342342342343, 0.422680412371134, 0.4232258064516129, 0.42248062015503873, 0.4230271668822768, 0.42357512953367876, 0.42282749675745784, 0.42337662337662335, 0.42392717815344605, 0.4244791666666667, 0.423728813559322, 0.42428198433420367, 0.42483660130718953, 0.42539267015706805, 0.42463958060288337, 0.4251968503937008, 0.42575558475689884, 0.4263157894736842, 0.42555994729907776, 0.4261213720316623, 0.42668428005284015, 0.42724867724867727, 0.4278145695364238, 0.42838196286472147, 0.42895086321381143, 0.4295212765957447, 0.42876165113182424, 0.42933333333333334, 0.42990654205607476, 0.4304812834224599, 0.43105756358768405, 0.4316353887399464, 0.43221476510067114, 0.4327956989247312, 0.43337819650067294, 0.4326145552560647, 0.4331983805668016, 0.4337837837837838, 0.43437077131258456, 0.4349593495934959, 0.43419267299864317, 0.43478260869565216, 0.43537414965986393, 0.43460490463215257, 0.43383356070941337, 0.43306010928961747, 0.43365253077975374, 0.43424657534246575, 0.4348422496570645, 0.43543956043956045, 0.4360385144429161, 0.4366391184573003, 0.43724137931034485, 0.43784530386740333, 0.4384508990318119, 0.4390581717451524, 0.43966712898751736, 0.44027777777777777, 0.44089012517385257, 0.4415041782729805, 0.4407252440725244, 0.441340782122905, 0.44195804195804195, 0.4411764705882353, 0.4417952314165498, 0.44241573033707865, 0.4430379746835443, 0.44366197183098594, 0.44287729196050774, 0.4435028248587571, 0.44413012729844414, 0.443342776203966, 0.44397163120567373, 0.4431818181818182, 0.4438122332859175, 0.4444444444444444, 0.4450784593437946, 0.44571428571428573, 0.44635193133047213, 0.4469914040114613, 0.44763271162123386, 0.4468390804597701, 0.4474820143884892, 0.44812680115273773, 0.44877344877344877, 0.44942196531791906, 0.45007235890014474, 0.45072463768115945, 0.4513788098693759, 0.45203488372093026, 0.4512372634643377, 0.4518950437317784, 0.4510948905109489, 0.4517543859649123, 0.45095168374816985, 0.4501466275659824, 0.45080763582966227, 0.45, 0.45066273932253315, 0.45132743362831856, 0.4519940915805022, 0.4526627218934911, 0.4533333333333333, 0.4540059347181009, 0.45468053491827637, 0.4538690476190476, 0.45305514157973176, 0.4537313432835821, 0.45440956651718983, 0.4550898203592814, 0.45577211394302847, 0.45495495495495497, 0.4556390977443609, 0.4563253012048193, 0.45701357466063347, 0.4561933534743202, 0.4568835098335855, 0.4575757575757576, 0.4582701062215478, 0.45896656534954405, 0.4596651445966514, 0.4603658536585366, 0.46106870229007635, 0.4602446483180428, 0.45941807044410415, 0.4601226993865031, 0.4592933947772657, 0.46, 0.46070878274268107, 0.46141975308641975, 0.46213292117465227, 0.4628482972136223, 0.4635658914728682, 0.4642857142857143, 0.46500777604976673, 0.4657320872274143, 0.4664586583463339, 0.465625, 0.46635367762128327, 0.4670846394984326, 0.46781789638932497, 0.46855345911949686, 0.4692913385826772, 0.46845425867507884, 0.46919431279620855, 0.46835443037974683, 0.4675118858954041, 0.46825396825396826, 0.46899841017488075, 0.4681528662420382, 0.4688995215311005, 0.4696485623003195, 0.4704, 0.47115384615384615, 0.47191011235955055, 0.47266881028938906, 0.47342995169082125, 0.47419354838709676, 0.47495961227786754, 0.47572815533980584, 0.47487844408427876, 0.474025974025974, 0.47479674796747967, 0.4755700325732899, 0.47471451876019577, 0.47549019607843135, 0.4762684124386252, 0.47704918032786886, 0.47783251231527096, 0.4769736842105263, 0.47775947281713343, 0.47854785478547857, 0.4793388429752066, 0.48013245033112584, 0.48092868988391374, 0.48006644518272423, 0.480865224625624, 0.4816666666666667, 0.48247078464106846, 0.48327759197324416, 0.4824120603015075, 0.48322147651006714, 0.4823529411764706, 0.4831649831649832, 0.4822934232715008, 0.4831081081081081, 0.48392554991539766, 0.4830508474576271, 0.4838709677419355, 0.48299319727891155, 0.4838160136286201, 0.48464163822525597, 0.48376068376068376, 0.4845890410958904, 0.4854202401372213, 0.48625429553264604, 0.48709122203098104, 0.4879310344827586, 0.48877374784110533, 0.48961937716262977, 0.4904679376083189, 0.4913194444444444, 0.49043478260869566, 0.4912891986062718, 0.49214659685863876, 0.493006993006993, 0.4938704028021016, 0.49298245614035086, 0.4938488576449912, 0.49471830985915494, 0.49559082892416223, 0.49646643109540634, 0.49734513274336284, 0.49822695035460995, 0.4991119005328597, 0.5, 0.49910873440285203, 0.4982142857142857, 0.49731663685152055, 0.4982078853046595, 0.4991023339317774, 0.5, 0.5009009009009009, 0.5018050541516246, 0.5027124773960217, 0.5018115942028986, 0.5009074410163339, 0.5018181818181818, 0.5027322404371585, 0.5036496350364964, 0.5045703839122486, 0.5054945054945055, 0.5045871559633027, 0.5055147058823529, 0.5064456721915286, 0.507380073800738, 0.5064695009242144, 0.5074074074074074, 0.5083487940630798, 0.5092936802973977, 0.5102420856610801, 0.5111940298507462, 0.5121495327102804, 0.5131086142322098, 0.5140712945590994, 0.5131578947368421, 0.5141242937853108, 0.5150943396226415, 0.5160680529300568, 0.5170454545454546, 0.5180265654648957, 0.5171102661596958, 0.518095238095238, 0.5190839694656488, 0.5200764818355641, 0.5210727969348659, 0.5220729366602687, 0.5230769230769231, 0.5221579961464354, 0.5212355212355212, 0.5222437137330754, 0.5213178294573644, 0.5203883495145631, 0.519455252918288, 0.52046783625731, 0.521484375, 0.5205479452054794, 0.5215686274509804, 0.5206286836935167, 0.5196850393700787, 0.5207100591715976, 0.5197628458498024, 0.5207920792079208, 0.5218253968253969, 0.5228628230616302, 0.5239043824701195, 0.5249500998003992, 0.526, 0.5270541082164328, 0.5281124497991968, 0.5291750503018109, 0.530241935483871, 0.5313131313131313, 0.5303643724696356, 0.5314401622718052, 0.532520325203252, 0.5336048879837068, 0.5346938775510204, 0.5337423312883436, 0.5327868852459017, 0.5318275154004107, 0.5308641975308642, 0.5319587628865979, 0.53099173553719, 0.5320910973084886, 0.533195020746888, 0.5343035343035343, 0.5333333333333333, 0.5323590814196242, 0.5313807531380753, 0.5303983228511531, 0.5315126050420168, 0.5305263157894737, 0.5316455696202531, 0.5306553911205074, 0.5296610169491526, 0.5286624203821656, 0.5297872340425532, 0.5309168443496801, 0.5299145299145299, 0.5310492505353319, 0.5321888412017167, 0.5311827956989247, 0.5301724137931034, 0.531317494600432, 0.5324675324675324, 0.5336225596529284, 0.5347826086956522, 0.5359477124183006, 0.537117903930131, 0.5382932166301969, 0.5394736842105263, 0.5406593406593406, 0.539647577092511, 0.5408388520971302, 0.5420353982300885, 0.541019955654102, 0.54, 0.5412026726057907, 0.5424107142857143, 0.5413870246085011, 0.5426008968609866, 0.5438202247191011, 0.5427927927927928, 0.5417607223476298, 0.5407239819004525, 0.5396825396825397, 0.5409090909090909, 0.5421412300683371, 0.54337899543379, 0.5446224256292906, 0.5458715596330275, 0.5471264367816092, 0.5460829493087558, 0.5473441108545035, 0.5462962962962963, 0.5475638051044084, 0.5465116279069767, 0.5454545454545454, 0.5467289719626168, 0.5480093676814989, 0.5492957746478874, 0.548235294117647, 0.5495283018867925, 0.5484633569739953, 0.5497630331753555, 0.5486935866983373, 0.55, 0.5513126491646778, 0.5526315789473685, 0.5539568345323741, 0.5552884615384616, 0.5566265060240964, 0.5579710144927537, 0.5569007263922519, 0.558252427184466, 0.5571776155717761, 0.5560975609756098, 0.5550122249388753, 0.553921568627451, 0.5552825552825553, 0.5541871921182266, 0.5530864197530864, 0.551980198019802, 0.5508684863523573, 0.5497512437810945, 0.5511221945137157, 0.5525, 0.5538847117794486, 0.5552763819095478, 0.5541561712846348, 0.553030303030303, 0.5544303797468354, 0.5558375634517766, 0.55470737913486, 0.5561224489795918, 0.5575447570332481, 0.5564102564102564, 0.5578406169665809, 0.5592783505154639, 0.5607235142118863, 0.5621761658031088, 0.5636363636363636, 0.5625, 0.5613577023498695, 0.56282722513089, 0.5616797900262467, 0.5631578947368421, 0.5646437994722955, 0.5661375661375662, 0.5676392572944297, 0.5664893617021277, 0.568, 0.5668449197860963, 0.5656836461126006, 0.5645161290322581, 0.5633423180592992, 0.5621621621621622, 0.5636856368563685, 0.5652173913043478, 0.5640326975476839, 0.5655737704918032, 0.5643835616438356, 0.5631868131868132, 0.5619834710743802, 0.5607734806629834, 0.5623268698060941, 0.5611111111111111, 0.5626740947075209, 0.5642458100558659, 0.5658263305322129, 0.5646067415730337, 0.5633802816901409, 0.5649717514124294, 0.56657223796034, 0.5681818181818182, 0.5669515669515669, 0.5685714285714286, 0.5702005730659025, 0.5689655172413793, 0.5677233429394812, 0.569364161849711, 0.5710144927536231, 0.5697674418604651, 0.5714285714285714, 0.5730994152046783, 0.5718475073313783, 0.5705882352941176, 0.5693215339233039, 0.5680473372781065, 0.56973293768546, 0.5714285714285714, 0.573134328358209, 0.5748502994011976, 0.5765765765765766, 0.5753012048192772, 0.5770392749244713, 0.5757575757575758, 0.5775075987841946, 0.5762195121951219, 0.5749235474006116, 0.5736196319018405, 0.5723076923076923, 0.5709876543209876, 0.5727554179566563, 0.5745341614906833, 0.5763239875389408, 0.575, 0.5768025078369906, 0.5754716981132075, 0.5772870662460567, 0.5791139240506329, 0.580952380952381, 0.5828025477707006, 0.5846645367412141, 0.5833333333333334, 0.5819935691318328, 0.5838709677419355, 0.5857605177993528, 0.5876623376623377, 0.5863192182410424, 0.5882352941176471, 0.5901639344262295, 0.5888157894736842, 0.5907590759075908, 0.5927152317880795, 0.5946843853820598, 0.5933333333333334, 0.5919732441471572, 0.5939597315436241, 0.5925925925925926, 0.5945945945945946, 0.5932203389830508, 0.5952380952380952, 0.5972696245733788, 0.5958904109589042, 0.5945017182130584, 0.596551724137931, 0.5951557093425606, 0.59375, 0.5923344947735192, 0.5909090909090909, 0.5894736842105263, 0.5915492957746479, 0.5936395759717314, 0.5921985815602837, 0.594306049822064, 0.5964285714285714, 0.5985663082437276, 0.5971223021582733, 0.5992779783393501, 0.6014492753623188, 0.6036363636363636, 0.6058394160583942, 0.6043956043956044, 0.6066176470588235, 0.6088560885608856, 0.6111111111111112, 0.6133828996282528, 0.6119402985074627, 0.6142322097378277, 0.6127819548872181, 0.6150943396226415, 0.6136363636363636, 0.6121673003802282, 0.6145038167938931, 0.6130268199233716, 0.6115384615384616, 0.61003861003861, 0.6085271317829457, 0.6108949416342413, 0.61328125, 0.611764705882353, 0.610236220472441, 0.6126482213438735, 0.6111111111111112, 0.6095617529880478, 0.608, 0.606425702811245, 0.6048387096774194, 0.6072874493927125, 0.6056910569105691, 0.6040816326530613, 0.6065573770491803, 0.6090534979423868, 0.6115702479338843, 0.6141078838174274, 0.6166666666666667, 0.6192468619246861, 0.6176470588235294, 0.6160337552742616, 0.6186440677966102, 0.6170212765957447, 0.6196581196581197, 0.6223175965665236, 0.625, 0.6233766233766234, 0.6260869565217392, 0.62882096069869, 0.631578947368421, 0.6343612334801763, 0.6327433628318584, 0.6311111111111111, 0.6294642857142857, 0.6322869955156951, 0.6351351351351351, 0.6334841628959276, 0.6363636363636364, 0.634703196347032, 0.6330275229357798, 0.6359447004608295, 0.6342592592592593, 0.6372093023255814, 0.6401869158878505, 0.6431924882629108, 0.6462264150943396, 0.6445497630331753, 0.6476190476190476, 0.6507177033492823, 0.6490384615384616, 0.6521739130434783, 0.6504854368932039, 0.6487804878048781, 0.6470588235294118, 0.645320197044335, 0.6435643564356436, 0.6417910447761194, 0.645, 0.6432160804020101, 0.6464646464646465, 0.649746192893401, 0.6530612244897959, 0.6512820512820513, 0.6494845360824743, 0.6528497409326425, 0.6510416666666666, 0.6492146596858639, 0.6526315789473685, 0.656084656084656, 0.6542553191489362, 0.6577540106951871, 0.6559139784946236, 0.654054054054054, 0.657608695652174, 0.6557377049180327, 0.6593406593406593, 0.6629834254143646, 0.6611111111111111, 0.659217877094972, 0.6629213483146067, 0.6666666666666666, 0.6704545454545454, 0.6685714285714286, 0.6724137931034483, 0.6705202312138728, 0.6744186046511628, 0.6783625730994152, 0.6823529411764706, 0.6863905325443787, 0.6904761904761905, 0.688622754491018, 0.6867469879518072, 0.6848484848484848, 0.6829268292682927, 0.6809815950920245, 0.6790123456790124, 0.6770186335403726, 0.675, 0.6792452830188679, 0.6835443037974683, 0.6815286624203821, 0.6858974358974359, 0.6838709677419355, 0.6883116883116883, 0.6862745098039216, 0.6907894736842105, 0.695364238410596, 0.6933333333333334, 0.6912751677852349, 0.6891891891891891, 0.6938775510204082, 0.6917808219178082, 0.696551724137931, 0.6944444444444444, 0.6923076923076923, 0.6901408450704225, 0.6879432624113475, 0.6928571428571428, 0.697841726618705, 0.7028985507246377, 0.7007299270072993, 0.6985294117647058, 0.7037037037037037, 0.7089552238805971, 0.7142857142857143, 0.7121212121212122, 0.7099236641221374, 0.7153846153846154, 0.7131782945736435, 0.71875, 0.7244094488188977, 0.7301587301587301, 0.736, 0.7338709677419355, 0.7398373983739838, 0.7377049180327869, 0.7355371900826446, 0.7333333333333333, 0.7310924369747899, 0.7288135593220338, 0.7264957264957265, 0.7241379310344828, 0.7304347826086957, 0.7280701754385965, 0.7256637168141593, 0.7232142857142857, 0.7207207207207207, 0.7181818181818181, 0.7155963302752294, 0.7129629629629629, 0.7102803738317757, 0.7169811320754716, 0.7238095238095238, 0.7211538461538461, 0.7281553398058253, 0.7254901960784313, 0.7326732673267327, 0.74, 0.7373737373737373, 0.7448979591836735, 0.7422680412371134, 0.7395833333333334, 0.7473684210526316, 0.7446808510638298, 0.7526881720430108, 0.75, 0.7582417582417582, 0.7555555555555555, 0.7640449438202247, 0.7613636363636364, 0.7701149425287356, 0.7674418604651163, 0.7647058823529411, 0.7619047619047619, 0.7590361445783133, 0.7560975609756098, 0.7654320987654321, 0.7625, 0.759493670886076, 0.7564102564102564, 0.7532467532467533, 0.75, 0.76, 0.7702702702702703, 0.7671232876712328, 0.7638888888888888, 0.7746478873239436, 0.7714285714285715, 0.7681159420289855, 0.7647058823529411, 0.7611940298507462, 0.7575757575757576, 0.7538461538461538, 0.75, 0.7619047619047619, 0.7580645161290323, 0.7540983606557377, 0.75, 0.7627118644067796, 0.7758620689655172, 0.7719298245614035, 0.7678571428571429, 0.7818181818181819, 0.7777777777777778, 0.7735849056603774, 0.7692307692307693, 0.7843137254901961, 0.8, 0.7959183673469388, 0.7916666666666666, 0.7872340425531915, 0.782608695652174, 0.7777777777777778, 0.7727272727272727, 0.7906976744186046, 0.7857142857142857, 0.7804878048780488, 0.775, 0.7948717948717948, 0.8157894736842105, 0.8108108108108109, 0.8285714285714286, 0.8235294117647058, 0.8484848484848485, 0.84375, 0.8387096774193549, 0.8666666666666667, 0.8620689655172413, 0.8928571428571429, 0.9259259259259259, 0.9230769230769231, 0.92, 0.9166666666666666, 0.9130434782608695, 0.9090909090909091, 0.9047619047619048, 0.9, 0.8888888888888888, 0.8823529411764706, 0.9375, 0.9333333333333333, 0.9285714285714286, 0.9166666666666666, 0.9090909090909091, 0.9, 0.8888888888888888, 0.875, 0.8571428571428571, 0.8, 0.75, 1.0, 1.0, 1.0, 1.0]}, {\"mode\": \"lines\", \"name\": \"XGB\", \"type\": \"scatter\", \"x\": [1.0, 0.9973262032085561, 0.9973262032085561, 0.9973262032085561, 0.9973262032085561, 0.9973262032085561, 0.9973262032085561, 0.9973262032085561, 0.9973262032085561, 0.9973262032085561, 0.9973262032085561, 0.9973262032085561, 0.9973262032085561, 0.9973262032085561, 0.9973262032085561, 0.9973262032085561, 0.9973262032085561, 0.9973262032085561, 0.9973262032085561, 0.9973262032085561, 0.9973262032085561, 0.9973262032085561, 0.9973262032085561, 0.9973262032085561, 0.9973262032085561, 0.9973262032085561, 0.9973262032085561, 0.9973262032085561, 0.9973262032085561, 0.9973262032085561, 0.9973262032085561, 0.9973262032085561, 0.9973262032085561, 0.9973262032085561, 0.9973262032085561, 0.9973262032085561, 0.9973262032085561, 0.9973262032085561, 0.9973262032085561, 0.9973262032085561, 0.9973262032085561, 0.9973262032085561, 0.9973262032085561, 0.9973262032085561, 0.9973262032085561, 0.9973262032085561, 0.9973262032085561, 0.9973262032085561, 0.9973262032085561, 0.9973262032085561, 0.9973262032085561, 0.9973262032085561, 0.9973262032085561, 0.9973262032085561, 0.9973262032085561, 0.9973262032085561, 0.9973262032085561, 0.9973262032085561, 0.9946524064171123, 0.9946524064171123, 0.9946524064171123, 0.9946524064171123, 0.9946524064171123, 0.9946524064171123, 0.9946524064171123, 0.9946524064171123, 0.9946524064171123, 0.9946524064171123, 0.9946524064171123, 0.9946524064171123, 0.9946524064171123, 0.9946524064171123, 0.9946524064171123, 0.9946524064171123, 0.9946524064171123, 0.9919786096256684, 0.9919786096256684, 0.9919786096256684, 0.9919786096256684, 0.9919786096256684, 0.9919786096256684, 0.9919786096256684, 0.9919786096256684, 0.9919786096256684, 0.9919786096256684, 0.9919786096256684, 0.9919786096256684, 0.9919786096256684, 0.9919786096256684, 0.9919786096256684, 0.9919786096256684, 0.9919786096256684, 0.9919786096256684, 0.9919786096256684, 0.9919786096256684, 0.9919786096256684, 0.9919786096256684, 0.9919786096256684, 0.9919786096256684, 0.9919786096256684, 0.9919786096256684, 0.9919786096256684, 0.9919786096256684, 0.9919786096256684, 0.9919786096256684, 0.9919786096256684, 0.9919786096256684, 0.9919786096256684, 0.9919786096256684, 0.9919786096256684, 0.9919786096256684, 0.9919786096256684, 0.9919786096256684, 0.9919786096256684, 0.9919786096256684, 0.9919786096256684, 0.9919786096256684, 0.9919786096256684, 0.9919786096256684, 0.9919786096256684, 0.9919786096256684, 0.9919786096256684, 0.9919786096256684, 0.9919786096256684, 0.9919786096256684, 0.9919786096256684, 0.9919786096256684, 0.9919786096256684, 0.9919786096256684, 0.9919786096256684, 0.9919786096256684, 0.9919786096256684, 0.9919786096256684, 0.9919786096256684, 0.9919786096256684, 0.9919786096256684, 0.9919786096256684, 0.9919786096256684, 0.9919786096256684, 0.9919786096256684, 0.9919786096256684, 0.9919786096256684, 0.9919786096256684, 0.9919786096256684, 0.9919786096256684, 0.9919786096256684, 0.9919786096256684, 0.9919786096256684, 0.9919786096256684, 0.9919786096256684, 0.9919786096256684, 0.9919786096256684, 0.9919786096256684, 0.9919786096256684, 0.9919786096256684, 0.9919786096256684, 0.9919786096256684, 0.9919786096256684, 0.9919786096256684, 0.9919786096256684, 0.9919786096256684, 0.9919786096256684, 0.9919786096256684, 0.9919786096256684, 0.9919786096256684, 0.9919786096256684, 0.9919786096256684, 0.9919786096256684, 0.9919786096256684, 0.9919786096256684, 0.9919786096256684, 0.9919786096256684, 0.9919786096256684, 0.9919786096256684, 0.9919786096256684, 0.9919786096256684, 0.9893048128342246, 0.9893048128342246, 0.9893048128342246, 0.9893048128342246, 0.9893048128342246, 0.9893048128342246, 0.9893048128342246, 0.9893048128342246, 0.9893048128342246, 0.9893048128342246, 0.9893048128342246, 0.9893048128342246, 0.9893048128342246, 0.9893048128342246, 0.9893048128342246, 0.9893048128342246, 0.9893048128342246, 0.9893048128342246, 0.9893048128342246, 0.9893048128342246, 0.9893048128342246, 0.9893048128342246, 0.9893048128342246, 0.9893048128342246, 0.9893048128342246, 0.9893048128342246, 0.9893048128342246, 0.9893048128342246, 0.9893048128342246, 0.9893048128342246, 0.9866310160427807, 0.9866310160427807, 0.9866310160427807, 0.9866310160427807, 0.9866310160427807, 0.9866310160427807, 0.9866310160427807, 0.9866310160427807, 0.9866310160427807, 0.9866310160427807, 0.9866310160427807, 0.9866310160427807, 0.9866310160427807, 0.9866310160427807, 0.9866310160427807, 0.9866310160427807, 0.9866310160427807, 0.9866310160427807, 0.9866310160427807, 0.9866310160427807, 0.9866310160427807, 0.9866310160427807, 0.9866310160427807, 0.9866310160427807, 0.9866310160427807, 0.9866310160427807, 0.9866310160427807, 0.9866310160427807, 0.9866310160427807, 0.9866310160427807, 0.9866310160427807, 0.9866310160427807, 0.9866310160427807, 0.9866310160427807, 0.9866310160427807, 0.9866310160427807, 0.9866310160427807, 0.9866310160427807, 0.983957219251337, 0.983957219251337, 0.983957219251337, 0.983957219251337, 0.983957219251337, 0.983957219251337, 0.983957219251337, 0.983957219251337, 0.983957219251337, 0.983957219251337, 0.983957219251337, 0.983957219251337, 0.983957219251337, 0.983957219251337, 0.983957219251337, 0.9812834224598931, 0.9812834224598931, 0.9812834224598931, 0.9812834224598931, 0.9812834224598931, 0.9812834224598931, 0.9812834224598931, 0.9786096256684492, 0.9786096256684492, 0.9786096256684492, 0.9786096256684492, 0.9786096256684492, 0.9786096256684492, 0.9786096256684492, 0.9786096256684492, 0.9786096256684492, 0.9786096256684492, 0.9786096256684492, 0.9786096256684492, 0.9759358288770054, 0.9759358288770054, 0.9759358288770054, 0.9759358288770054, 0.9759358288770054, 0.9759358288770054, 0.9759358288770054, 0.9759358288770054, 0.9759358288770054, 0.9759358288770054, 0.9759358288770054, 0.9732620320855615, 0.9732620320855615, 0.9732620320855615, 0.9732620320855615, 0.9732620320855615, 0.9732620320855615, 0.9732620320855615, 0.9732620320855615, 0.9732620320855615, 0.9732620320855615, 0.9732620320855615, 0.9732620320855615, 0.9732620320855615, 0.9705882352941176, 0.9705882352941176, 0.9705882352941176, 0.9705882352941176, 0.9679144385026738, 0.9679144385026738, 0.9679144385026738, 0.9679144385026738, 0.9679144385026738, 0.9679144385026738, 0.9679144385026738, 0.9679144385026738, 0.9679144385026738, 0.9679144385026738, 0.9652406417112299, 0.9652406417112299, 0.9652406417112299, 0.9652406417112299, 0.9652406417112299, 0.9652406417112299, 0.9652406417112299, 0.9652406417112299, 0.9652406417112299, 0.9625668449197861, 0.9625668449197861, 0.9625668449197861, 0.9625668449197861, 0.9625668449197861, 0.9625668449197861, 0.9598930481283422, 0.9598930481283422, 0.9598930481283422, 0.9598930481283422, 0.9598930481283422, 0.9598930481283422, 0.9598930481283422, 0.9598930481283422, 0.9598930481283422, 0.9598930481283422, 0.9598930481283422, 0.9598930481283422, 0.9598930481283422, 0.9572192513368984, 0.9572192513368984, 0.9572192513368984, 0.9572192513368984, 0.9572192513368984, 0.9572192513368984, 0.9545454545454546, 0.9545454545454546, 0.9545454545454546, 0.9545454545454546, 0.9545454545454546, 0.9545454545454546, 0.9545454545454546, 0.9545454545454546, 0.9545454545454546, 0.9545454545454546, 0.9545454545454546, 0.9518716577540107, 0.9518716577540107, 0.9518716577540107, 0.9518716577540107, 0.9518716577540107, 0.9518716577540107, 0.9518716577540107, 0.9518716577540107, 0.9518716577540107, 0.9518716577540107, 0.9518716577540107, 0.9518716577540107, 0.9518716577540107, 0.9518716577540107, 0.9491978609625669, 0.9491978609625669, 0.9491978609625669, 0.9491978609625669, 0.9491978609625669, 0.9491978609625669, 0.9491978609625669, 0.946524064171123, 0.946524064171123, 0.946524064171123, 0.946524064171123, 0.9438502673796791, 0.9438502673796791, 0.9411764705882353, 0.9411764705882353, 0.9411764705882353, 0.9411764705882353, 0.9411764705882353, 0.9411764705882353, 0.9411764705882353, 0.9411764705882353, 0.9411764705882353, 0.9411764705882353, 0.9385026737967914, 0.9385026737967914, 0.9385026737967914, 0.9385026737967914, 0.9385026737967914, 0.9358288770053476, 0.9358288770053476, 0.9358288770053476, 0.9358288770053476, 0.9358288770053476, 0.9331550802139037, 0.9331550802139037, 0.93048128342246, 0.93048128342246, 0.93048128342246, 0.93048128342246, 0.93048128342246, 0.9278074866310161, 0.9278074866310161, 0.9278074866310161, 0.9278074866310161, 0.9278074866310161, 0.9251336898395722, 0.9251336898395722, 0.9251336898395722, 0.9251336898395722, 0.9251336898395722, 0.9251336898395722, 0.9251336898395722, 0.9251336898395722, 0.9224598930481284, 0.9224598930481284, 0.9224598930481284, 0.9224598930481284, 0.9224598930481284, 0.9197860962566845, 0.9197860962566845, 0.9197860962566845, 0.9197860962566845, 0.9197860962566845, 0.9197860962566845, 0.9197860962566845, 0.9197860962566845, 0.9197860962566845, 0.9171122994652406, 0.9144385026737968, 0.9144385026737968, 0.9144385026737968, 0.9117647058823529, 0.9117647058823529, 0.9090909090909091, 0.9064171122994652, 0.9064171122994652, 0.9064171122994652, 0.9064171122994652, 0.9064171122994652, 0.9064171122994652, 0.9064171122994652, 0.9064171122994652, 0.9064171122994652, 0.9064171122994652, 0.9064171122994652, 0.9064171122994652, 0.9037433155080213, 0.9010695187165776, 0.9010695187165776, 0.9010695187165776, 0.9010695187165776, 0.9010695187165776, 0.9010695187165776, 0.9010695187165776, 0.9010695187165776, 0.9010695187165776, 0.9010695187165776, 0.9010695187165776, 0.9010695187165776, 0.9010695187165776, 0.8983957219251337, 0.8983957219251337, 0.8983957219251337, 0.8983957219251337, 0.8983957219251337, 0.8983957219251337, 0.8983957219251337, 0.8983957219251337, 0.8983957219251337, 0.8983957219251337, 0.8983957219251337, 0.8983957219251337, 0.8983957219251337, 0.8983957219251337, 0.8983957219251337, 0.8983957219251337, 0.8983957219251337, 0.8957219251336899, 0.8957219251336899, 0.8957219251336899, 0.8957219251336899, 0.8957219251336899, 0.8957219251336899, 0.8957219251336899, 0.893048128342246, 0.893048128342246, 0.893048128342246, 0.893048128342246, 0.893048128342246, 0.893048128342246, 0.893048128342246, 0.8903743315508021, 0.8903743315508021, 0.8903743315508021, 0.8877005347593583, 0.8877005347593583, 0.8877005347593583, 0.8850267379679144, 0.8850267379679144, 0.8850267379679144, 0.8850267379679144, 0.8850267379679144, 0.8850267379679144, 0.8850267379679144, 0.8850267379679144, 0.8823529411764706, 0.8823529411764706, 0.8823529411764706, 0.8823529411764706, 0.8823529411764706, 0.8823529411764706, 0.8823529411764706, 0.8823529411764706, 0.8823529411764706, 0.8796791443850267, 0.8796791443850267, 0.8796791443850267, 0.8770053475935828, 0.8743315508021391, 0.8743315508021391, 0.8743315508021391, 0.8743315508021391, 0.8716577540106952, 0.8716577540106952, 0.8716577540106952, 0.8689839572192514, 0.8689839572192514, 0.8663101604278075, 0.8663101604278075, 0.8663101604278075, 0.8636363636363636, 0.8636363636363636, 0.8636363636363636, 0.8636363636363636, 0.8636363636363636, 0.8636363636363636, 0.8636363636363636, 0.8636363636363636, 0.8636363636363636, 0.8636363636363636, 0.8636363636363636, 0.8636363636363636, 0.8609625668449198, 0.8582887700534759, 0.8582887700534759, 0.8582887700534759, 0.8582887700534759, 0.8582887700534759, 0.8582887700534759, 0.8582887700534759, 0.8582887700534759, 0.8556149732620321, 0.8556149732620321, 0.8556149732620321, 0.8556149732620321, 0.8556149732620321, 0.8556149732620321, 0.8529411764705882, 0.8529411764705882, 0.8529411764705882, 0.8529411764705882, 0.8529411764705882, 0.8502673796791443, 0.8475935828877005, 0.8449197860962567, 0.8422459893048129, 0.839572192513369, 0.839572192513369, 0.839572192513369, 0.839572192513369, 0.839572192513369, 0.839572192513369, 0.8368983957219251, 0.8368983957219251, 0.8368983957219251, 0.8368983957219251, 0.8368983957219251, 0.8368983957219251, 0.8368983957219251, 0.8342245989304813, 0.8342245989304813, 0.8342245989304813, 0.8342245989304813, 0.8342245989304813, 0.8315508021390374, 0.8315508021390374, 0.8315508021390374, 0.8315508021390374, 0.8315508021390374, 0.8315508021390374, 0.8288770053475936, 0.8288770053475936, 0.8288770053475936, 0.8288770053475936, 0.8288770053475936, 0.8288770053475936, 0.8288770053475936, 0.8288770053475936, 0.8288770053475936, 0.8288770053475936, 0.8288770053475936, 0.8288770053475936, 0.8288770053475936, 0.8288770053475936, 0.8288770053475936, 0.8288770053475936, 0.8262032085561497, 0.8262032085561497, 0.8262032085561497, 0.8262032085561497, 0.8262032085561497, 0.8262032085561497, 0.8262032085561497, 0.8262032085561497, 0.8235294117647058, 0.820855614973262, 0.820855614973262, 0.820855614973262, 0.820855614973262, 0.820855614973262, 0.820855614973262, 0.820855614973262, 0.820855614973262, 0.820855614973262, 0.820855614973262, 0.8181818181818182, 0.8181818181818182, 0.8155080213903744, 0.8155080213903744, 0.8155080213903744, 0.8155080213903744, 0.8155080213903744, 0.8128342245989305, 0.8128342245989305, 0.8101604278074866, 0.8074866310160428, 0.8048128342245989, 0.8048128342245989, 0.8048128342245989, 0.8048128342245989, 0.8048128342245989, 0.8048128342245989, 0.8021390374331551, 0.8021390374331551, 0.7994652406417112, 0.7994652406417112, 0.7994652406417112, 0.7994652406417112, 0.7994652406417112, 0.7994652406417112, 0.7967914438502673, 0.7941176470588235, 0.7941176470588235, 0.7941176470588235, 0.7914438502673797, 0.7887700534759359, 0.7887700534759359, 0.786096256684492, 0.786096256684492, 0.786096256684492, 0.786096256684492, 0.786096256684492, 0.786096256684492, 0.7834224598930482, 0.7834224598930482, 0.7834224598930482, 0.7807486631016043, 0.7807486631016043, 0.7807486631016043, 0.7807486631016043, 0.7780748663101604, 0.7754010695187166, 0.7754010695187166, 0.7754010695187166, 0.7754010695187166, 0.7727272727272727, 0.7700534759358288, 0.7700534759358288, 0.7700534759358288, 0.767379679144385, 0.7647058823529411, 0.7647058823529411, 0.7647058823529411, 0.7647058823529411, 0.7647058823529411, 0.7647058823529411, 0.7647058823529411, 0.7620320855614974, 0.7620320855614974, 0.7593582887700535, 0.7566844919786097, 0.7566844919786097, 0.7566844919786097, 0.7566844919786097, 0.7540106951871658, 0.7513368983957219, 0.7513368983957219, 0.7513368983957219, 0.7486631016042781, 0.7486631016042781, 0.7459893048128342, 0.7459893048128342, 0.7459893048128342, 0.7433155080213903, 0.7406417112299465, 0.7379679144385026, 0.7379679144385026, 0.7352941176470589, 0.7352941176470589, 0.732620320855615, 0.732620320855615, 0.732620320855615, 0.732620320855615, 0.732620320855615, 0.732620320855615, 0.732620320855615, 0.732620320855615, 0.732620320855615, 0.732620320855615, 0.7299465240641712, 0.7299465240641712, 0.7299465240641712, 0.7299465240641712, 0.7272727272727273, 0.7272727272727273, 0.7245989304812834, 0.7219251336898396, 0.7219251336898396, 0.7192513368983957, 0.7165775401069518, 0.7165775401069518, 0.7165775401069518, 0.713903743315508, 0.713903743315508, 0.713903743315508, 0.713903743315508, 0.7112299465240641, 0.7112299465240641, 0.7085561497326203, 0.7085561497326203, 0.7058823529411765, 0.7058823529411765, 0.7032085561497327, 0.7005347593582888, 0.7005347593582888, 0.7005347593582888, 0.7005347593582888, 0.6978609625668449, 0.6978609625668449, 0.6978609625668449, 0.6978609625668449, 0.6978609625668449, 0.6951871657754011, 0.6951871657754011, 0.6951871657754011, 0.6951871657754011, 0.6951871657754011, 0.6951871657754011, 0.6951871657754011, 0.6925133689839572, 0.6898395721925134, 0.6898395721925134, 0.6871657754010695, 0.6871657754010695, 0.6844919786096256, 0.6844919786096256, 0.6818181818181818, 0.679144385026738, 0.679144385026738, 0.679144385026738, 0.679144385026738, 0.679144385026738, 0.679144385026738, 0.679144385026738, 0.679144385026738, 0.679144385026738, 0.679144385026738, 0.679144385026738, 0.679144385026738, 0.679144385026738, 0.679144385026738, 0.6764705882352942, 0.6737967914438503, 0.6737967914438503, 0.6737967914438503, 0.6737967914438503, 0.6737967914438503, 0.6737967914438503, 0.6711229946524064, 0.6711229946524064, 0.6684491978609626, 0.6684491978609626, 0.6657754010695187, 0.6631016042780749, 0.660427807486631, 0.660427807486631, 0.660427807486631, 0.660427807486631, 0.660427807486631, 0.660427807486631, 0.6577540106951871, 0.6577540106951871, 0.6577540106951871, 0.6577540106951871, 0.6577540106951871, 0.6577540106951871, 0.6577540106951871, 0.6550802139037433, 0.6524064171122995, 0.6524064171122995, 0.6524064171122995, 0.6524064171122995, 0.6497326203208557, 0.6470588235294118, 0.6470588235294118, 0.6470588235294118, 0.6470588235294118, 0.6470588235294118, 0.6470588235294118, 0.6443850267379679, 0.6443850267379679, 0.6417112299465241, 0.6417112299465241, 0.6417112299465241, 0.6390374331550802, 0.6363636363636364, 0.6363636363636364, 0.6363636363636364, 0.6363636363636364, 0.6363636363636364, 0.6363636363636364, 0.6363636363636364, 0.6363636363636364, 0.6363636363636364, 0.6363636363636364, 0.6363636363636364, 0.6363636363636364, 0.6336898395721925, 0.6336898395721925, 0.6310160427807486, 0.6283422459893048, 0.6283422459893048, 0.6283422459893048, 0.6283422459893048, 0.6256684491978609, 0.6229946524064172, 0.6229946524064172, 0.6229946524064172, 0.6229946524064172, 0.6229946524064172, 0.6229946524064172, 0.6203208556149733, 0.6203208556149733, 0.6203208556149733, 0.6203208556149733, 0.6203208556149733, 0.6203208556149733, 0.6203208556149733, 0.6203208556149733, 0.6176470588235294, 0.6149732620320856, 0.6122994652406417, 0.6122994652406417, 0.6096256684491979, 0.6096256684491979, 0.606951871657754, 0.6042780748663101, 0.6042780748663101, 0.6042780748663101, 0.6042780748663101, 0.6042780748663101, 0.6016042780748663, 0.5989304812834224, 0.5989304812834224, 0.5962566844919787, 0.5962566844919787, 0.5935828877005348, 0.5935828877005348, 0.5935828877005348, 0.5909090909090909, 0.5909090909090909, 0.5882352941176471, 0.5855614973262032, 0.5828877005347594, 0.5828877005347594, 0.5828877005347594, 0.5802139037433155, 0.5802139037433155, 0.5802139037433155, 0.5802139037433155, 0.5802139037433155, 0.5775401069518716, 0.5775401069518716, 0.5775401069518716, 0.5775401069518716, 0.5775401069518716, 0.5775401069518716, 0.5748663101604278, 0.5721925133689839, 0.5721925133689839, 0.5721925133689839, 0.56951871657754, 0.5668449197860963, 0.5641711229946524, 0.5641711229946524, 0.5614973262032086, 0.5614973262032086, 0.5588235294117647, 0.5588235294117647, 0.5588235294117647, 0.5561497326203209, 0.5561497326203209, 0.5561497326203209, 0.553475935828877, 0.553475935828877, 0.553475935828877, 0.553475935828877, 0.5508021390374331, 0.5481283422459893, 0.5454545454545454, 0.5454545454545454, 0.5427807486631016, 0.5427807486631016, 0.5427807486631016, 0.5401069518716578, 0.5401069518716578, 0.5374331550802139, 0.5347593582887701, 0.5320855614973262, 0.5294117647058824, 0.5294117647058824, 0.5267379679144385, 0.5240641711229946, 0.5240641711229946, 0.5240641711229946, 0.5240641711229946, 0.5240641711229946, 0.5240641711229946, 0.5240641711229946, 0.5240641711229946, 0.5213903743315508, 0.5187165775401069, 0.516042780748663, 0.5133689839572193, 0.5133689839572193, 0.5133689839572193, 0.5106951871657754, 0.5106951871657754, 0.5080213903743316, 0.5053475935828877, 0.5053475935828877, 0.5053475935828877, 0.5053475935828877, 0.5053475935828877, 0.5026737967914439, 0.5026737967914439, 0.5026737967914439, 0.5, 0.49732620320855614, 0.49732620320855614, 0.49732620320855614, 0.4946524064171123, 0.4919786096256685, 0.4893048128342246, 0.48663101604278075, 0.48663101604278075, 0.4839572192513369, 0.4839572192513369, 0.48128342245989303, 0.48128342245989303, 0.4786096256684492, 0.4786096256684492, 0.47593582887700536, 0.4732620320855615, 0.47058823529411764, 0.47058823529411764, 0.47058823529411764, 0.4679144385026738, 0.4679144385026738, 0.46524064171123, 0.4625668449197861, 0.45989304812834225, 0.4572192513368984, 0.4572192513368984, 0.45454545454545453, 0.45454545454545453, 0.45454545454545453, 0.45187165775401067, 0.45187165775401067, 0.45187165775401067, 0.44919786096256686, 0.446524064171123, 0.446524064171123, 0.44385026737967914, 0.4411764705882353, 0.4411764705882353, 0.4385026737967914, 0.4385026737967914, 0.4358288770053476, 0.4358288770053476, 0.4358288770053476, 0.43315508021390375, 0.43315508021390375, 0.43315508021390375, 0.43315508021390375, 0.43315508021390375, 0.43315508021390375, 0.4304812834224599, 0.42780748663101603, 0.42513368983957217, 0.42513368983957217, 0.42245989304812837, 0.4197860962566845, 0.4197860962566845, 0.41711229946524064, 0.4144385026737968, 0.4117647058823529, 0.4117647058823529, 0.4090909090909091, 0.4090909090909091, 0.4090909090909091, 0.4090909090909091, 0.4090909090909091, 0.4090909090909091, 0.40641711229946526, 0.40641711229946526, 0.40641711229946526, 0.40641711229946526, 0.40641711229946526, 0.40641711229946526, 0.4037433155080214, 0.4037433155080214, 0.40106951871657753, 0.3983957219251337, 0.39572192513368987, 0.39572192513368987, 0.393048128342246, 0.39037433155080214, 0.3877005347593583, 0.3850267379679144, 0.3850267379679144, 0.3850267379679144, 0.38235294117647056, 0.37967914438502676, 0.37967914438502676, 0.3770053475935829, 0.37433155080213903, 0.3716577540106952, 0.3716577540106952, 0.3716577540106952, 0.3716577540106952, 0.3689839572192513, 0.3689839572192513, 0.3689839572192513, 0.3689839572192513, 0.3689839572192513, 0.3663101604278075, 0.3663101604278075, 0.3663101604278075, 0.36363636363636365, 0.36363636363636365, 0.36363636363636365, 0.3609625668449198, 0.3582887700534759, 0.35561497326203206, 0.35561497326203206, 0.35561497326203206, 0.35561497326203206, 0.35561497326203206, 0.35294117647058826, 0.3502673796791444, 0.34759358288770054, 0.3449197860962567, 0.3449197860962567, 0.3449197860962567, 0.3422459893048128, 0.339572192513369, 0.33689839572192515, 0.33689839572192515, 0.3342245989304813, 0.3342245989304813, 0.3342245989304813, 0.3315508021390374, 0.32887700534759357, 0.32887700534759357, 0.32887700534759357, 0.32887700534759357, 0.32887700534759357, 0.32620320855614976, 0.3235294117647059, 0.3235294117647059, 0.32085561497326204, 0.3181818181818182, 0.3181818181818182, 0.3181818181818182, 0.3155080213903743, 0.31283422459893045, 0.31016042780748665, 0.31016042780748665, 0.31016042780748665, 0.31016042780748665, 0.31016042780748665, 0.31016042780748665, 0.3074866310160428, 0.3048128342245989, 0.3048128342245989, 0.3048128342245989, 0.3048128342245989, 0.30213903743315507, 0.2994652406417112, 0.2994652406417112, 0.2994652406417112, 0.2967914438502674, 0.2967914438502674, 0.29411764705882354, 0.2914438502673797, 0.2887700534759358, 0.28609625668449196, 0.28342245989304815, 0.2807486631016043, 0.27807486631016043, 0.27540106951871657, 0.2727272727272727, 0.2727272727272727, 0.2700534759358289, 0.26737967914438504, 0.2647058823529412, 0.2647058823529412, 0.2620320855614973, 0.2620320855614973, 0.25935828877005346, 0.25668449197860965, 0.2540106951871658, 0.2540106951871658, 0.25133689839572193, 0.24866310160427807, 0.24866310160427807, 0.24598930481283424, 0.24598930481283424, 0.24598930481283424, 0.24598930481283424, 0.24331550802139038, 0.24064171122994651, 0.23796791443850268, 0.23796791443850268, 0.23529411764705882, 0.232620320855615, 0.22994652406417113, 0.22994652406417113, 0.22994652406417113, 0.22727272727272727, 0.22459893048128343, 0.22192513368983957, 0.22192513368983957, 0.2192513368983957, 0.21657754010695188, 0.21390374331550802, 0.21122994652406418, 0.20855614973262032, 0.20588235294117646, 0.20320855614973263, 0.20053475935828877, 0.19786096256684493, 0.19518716577540107, 0.19518716577540107, 0.19518716577540107, 0.19518716577540107, 0.19518716577540107, 0.19518716577540107, 0.19518716577540107, 0.19518716577540107, 0.19518716577540107, 0.19518716577540107, 0.1925133689839572, 0.18983957219251338, 0.18983957219251338, 0.18983957219251338, 0.18716577540106952, 0.18449197860962566, 0.18181818181818182, 0.17914438502673796, 0.17914438502673796, 0.17647058823529413, 0.17647058823529413, 0.17379679144385027, 0.17379679144385027, 0.1711229946524064, 0.16844919786096257, 0.1657754010695187, 0.16310160427807488, 0.16042780748663102, 0.16042780748663102, 0.15775401069518716, 0.15508021390374332, 0.15240641711229946, 0.1497326203208556, 0.14705882352941177, 0.1443850267379679, 0.14171122994652408, 0.14171122994652408, 0.13903743315508021, 0.13636363636363635, 0.13368983957219252, 0.13368983957219252, 0.13101604278074866, 0.12834224598930483, 0.12566844919786097, 0.12299465240641712, 0.12032085561497326, 0.11764705882352941, 0.11497326203208556, 0.11497326203208556, 0.11229946524064172, 0.11229946524064172, 0.10962566844919786, 0.10695187165775401, 0.10427807486631016, 0.10160427807486631, 0.09893048128342247, 0.0962566844919786, 0.09358288770053476, 0.09090909090909091, 0.08823529411764706, 0.0855614973262032, 0.08288770053475936, 0.08021390374331551, 0.07754010695187166, 0.0748663101604278, 0.07219251336898395, 0.06951871657754011, 0.06951871657754011, 0.06684491978609626, 0.06417112299465241, 0.06149732620320856, 0.058823529411764705, 0.05614973262032086, 0.053475935828877004, 0.05080213903743316, 0.0481283422459893, 0.045454545454545456, 0.045454545454545456, 0.0427807486631016, 0.040106951871657755, 0.0374331550802139, 0.0374331550802139, 0.034759358288770054, 0.03208556149732621, 0.029411764705882353, 0.029411764705882353, 0.026737967914438502, 0.026737967914438502, 0.02406417112299465, 0.02406417112299465, 0.0213903743315508, 0.01871657754010695, 0.01871657754010695, 0.016042780748663103, 0.016042780748663103, 0.013368983957219251, 0.013368983957219251, 0.0106951871657754, 0.008021390374331552, 0.0053475935828877, 0.00267379679144385, 0.0], \"y\": [0.2917316692667707, 0.29117876658860264, 0.29140625, 0.29163408913213446, 0.2918622848200313, 0.2920908379013312, 0.29231974921630094, 0.29254901960784313, 0.29277864992150704, 0.29300864100549884, 0.29323899371069184, 0.2934697088906373, 0.2937007874015748, 0.29393223010244285, 0.2941640378548896, 0.2943962115232833, 0.29462875197472355, 0.2948616600790514, 0.2953285827395091, 0.29556259904912835, 0.295796986518636, 0.29603174603174603, 0.2962668784749801, 0.29650238473767887, 0.2967382657120127, 0.29697452229299365, 0.2972111553784861, 0.2974481658692185, 0.29768555466879487, 0.2979233226837061, 0.2981614708233413, 0.2984, 0.2986389111289031, 0.2988782051282051, 0.2991178829190056, 0.29935794542536115, 0.2995983935742972, 0.29983922829581994, 0.3000804505229284, 0.3003220611916264, 0.3005640612409347, 0.3008064516129032, 0.30104923325262306, 0.30129240710823907, 0.301535974130962, 0.3017799352750809, 0.3020242914979757, 0.30226904376012964, 0.30251419302514193, 0.3027597402597403, 0.30300568643379366, 0.3032520325203252, 0.30349877949552484, 0.30374592833876224, 0.30399348003259985, 0.30424143556280586, 0.30448979591836733, 0.3047385620915033, 0.3041700735895339, 0.3044189852700491, 0.30491803278688523, 0.3051681706316653, 0.3054187192118227, 0.3056696795398521, 0.3059210526315789, 0.30617283950617286, 0.30642504118616143, 0.30667765869744434, 0.3069306930693069, 0.30718414533443433, 0.3074380165289256, 0.3076923076923077, 0.3079470198675497, 0.30820215410107704, 0.30845771144278605, 0.3078838174273859, 0.3081395348837209, 0.3083956774729842, 0.3086522462562396, 0.3089092422980849, 0.30916666666666665, 0.3094245204336947, 0.3096828046744574, 0.30994152046783624, 0.3102006688963211, 0.3104602510460251, 0.31072026800670016, 0.3109807208717519, 0.311241610738255, 0.31150293870696893, 0.31176470588235294, 0.312026913372582, 0.3122895622895623, 0.3125526537489469, 0.3128161888701518, 0.3130801687763713, 0.31334459459459457, 0.3136094674556213, 0.31387478849407785, 0.3141405588484335, 0.31440677966101693, 0.3146734520780322, 0.3149405772495755, 0.31520815632965166, 0.31547619047619047, 0.31574468085106383, 0.31601362862010224, 0.31628303495311166, 0.3165529010238908, 0.31682322801024765, 0.3170940170940171, 0.31736526946107785, 0.3176369863013699, 0.31790916880891174, 0.3181818181818182, 0.3184549356223176, 0.31872852233676974, 0.31900257953568356, 0.3192771084337349, 0.3195521102497847, 0.31982758620689655, 0.3201035375323555, 0.32037996545768566, 0.320656871218669, 0.3209342560553633, 0.3212121212121212, 0.3214904679376083, 0.3217692974848222, 0.3220486111111111, 0.32232841007819285, 0.3226086956521739, 0.3228894691035683, 0.3231707317073171, 0.3234524847428073, 0.3237347294938918, 0.3240174672489083, 0.3243006993006993, 0.32458442694663164, 0.3248686514886165, 0.32515337423312884, 0.3254385964912281, 0.3257243195785777, 0.3260105448154657, 0.32629727352682497, 0.3265845070422535, 0.32687224669603526, 0.3271604938271605, 0.32744924977934686, 0.32773851590106007, 0.3280282935455349, 0.32831858407079645, 0.32860938883968116, 0.32890070921985815, 0.32919254658385094, 0.32948490230905864, 0.3297777777777778, 0.3300711743772242, 0.3303650934995548, 0.3306595365418895, 0.33095450490633366, 0.33125, 0.3315460232350313, 0.33184257602862255, 0.3321396598030439, 0.3324372759856631, 0.3327354260089686, 0.33303411131059246, 0.3333333333333333, 0.33363309352517984, 0.3339333933393339, 0.3342342342342342, 0.3345356176735798, 0.3348375451263538, 0.33514001806684734, 0.33544303797468356, 0.3357466063348416, 0.3351449275362319, 0.3354487760652765, 0.33575317604355714, 0.33605812897366033, 0.33636363636363636, 0.33666969972702454, 0.33697632058287796, 0.33728350045578853, 0.3375912408759124, 0.3378995433789954, 0.3382084095063985, 0.33851784080512354, 0.33882783882783885, 0.3391384051329056, 0.3394495412844037, 0.3397612488521579, 0.3400735294117647, 0.3403863845446182, 0.3406998158379374, 0.34101382488479265, 0.3413284132841328, 0.34164358264081257, 0.3419593345656192, 0.3422756706753006, 0.3425925925925926, 0.34291010194624655, 0.3432282003710575, 0.3435468895078923, 0.34386617100371747, 0.34418604651162793, 0.3435754189944134, 0.34389561975768873, 0.34421641791044777, 0.3445378151260504, 0.3448598130841122, 0.3451824134705332, 0.3455056179775281, 0.3458294283036551, 0.34615384615384615, 0.3464788732394366, 0.3468045112781955, 0.3471307619943556, 0.3474576271186441, 0.3477851083883129, 0.3481132075471698, 0.34844192634560905, 0.3487712665406427, 0.3491012298959319, 0.3494318181818182, 0.34976303317535545, 0.35009487666034156, 0.3504273504273504, 0.35076045627376423, 0.3510941960038059, 0.3514285714285714, 0.3517635843660629, 0.3520992366412214, 0.3524355300859599, 0.3527724665391969, 0.35311004784688993, 0.35344827586206895, 0.3537871524448706, 0.354126679462572, 0.35446685878962536, 0.3548076923076923, 0.3551491819056785, 0.3554913294797688, 0.3558341369334619, 0.3552123552123552, 0.35555555555555557, 0.35589941972920697, 0.356243949661181, 0.35658914728682173, 0.3569350145489816, 0.3572815533980582, 0.3576287657920311, 0.35797665369649806, 0.35832521908471276, 0.3586744639376218, 0.3590243902439024, 0.359375, 0.3597262952101662, 0.36007827788649704, 0.3594515181194907, 0.35980392156862745, 0.3601570166830226, 0.3605108055009823, 0.3608652900688299, 0.3612204724409449, 0.361576354679803, 0.3609467455621302, 0.36130306021717673, 0.3616600790513834, 0.3620178041543027, 0.36237623762376237, 0.36273538156590684, 0.3630952380952381, 0.3634558093346574, 0.36381709741550694, 0.3641791044776119, 0.3645418326693227, 0.36490528414755735, 0.36427145708582837, 0.3646353646353646, 0.365, 0.36536536536536535, 0.3657314629258517, 0.36609829488465395, 0.36646586345381527, 0.36683417085427134, 0.3672032193158954, 0.3675730110775428, 0.36794354838709675, 0.36730575176589303, 0.36767676767676766, 0.36804853387259856, 0.3684210526315789, 0.36879432624113473, 0.3691683569979716, 0.3695431472081218, 0.3699186991869919, 0.37029501525940994, 0.37067209775967414, 0.37104994903160043, 0.37142857142857144, 0.3718079673135853, 0.37116564417177916, 0.37154554759467756, 0.3719262295081967, 0.3723076923076923, 0.37166324435318276, 0.3720452209660843, 0.3724279835390947, 0.3728115345005149, 0.3731958762886598, 0.3735810113519092, 0.3739669421487603, 0.37435367114788004, 0.3747412008281574, 0.37512953367875645, 0.3744813278008299, 0.37487019730010385, 0.37525987525987525, 0.3756503642039542, 0.37604166666666666, 0.37643378519290926, 0.3768267223382046, 0.3772204806687565, 0.3776150627615063, 0.3769633507853403, 0.37735849056603776, 0.3777544596012592, 0.37815126050420167, 0.3785488958990536, 0.37894736842105264, 0.37829293993677554, 0.37869198312236285, 0.3790918690601901, 0.379492600422833, 0.3798941798941799, 0.3802966101694915, 0.3806998939554613, 0.38110403397027603, 0.38150903294367694, 0.3819148936170213, 0.38232161874334397, 0.38272921108742003, 0.3831376734258271, 0.38247863247863245, 0.38288770053475935, 0.38329764453961457, 0.3837084673097535, 0.38412017167381973, 0.3845327604726101, 0.38387096774193546, 0.38428417653390745, 0.38469827586206895, 0.3851132686084142, 0.3855291576673866, 0.38594594594594595, 0.38636363636363635, 0.38678223185265437, 0.3872017353579176, 0.38762214983713356, 0.38804347826086955, 0.38737758433079433, 0.3877995642701525, 0.3882224645583424, 0.388646288209607, 0.38907103825136613, 0.38949671772428884, 0.3899233296823658, 0.39035087719298245, 0.3907793633369923, 0.3912087912087912, 0.39163916391639164, 0.3920704845814978, 0.39250275633958104, 0.39293598233995586, 0.39226519337016574, 0.3926991150442478, 0.39313399778516056, 0.39356984478935697, 0.3940066592674806, 0.39444444444444443, 0.39488320355951056, 0.39420935412026725, 0.39464882943143814, 0.3950892857142857, 0.39553072625698327, 0.39485458612975394, 0.39529675251959684, 0.39461883408071746, 0.3950617283950617, 0.3955056179775281, 0.39595050618672667, 0.3963963963963964, 0.3968432919954904, 0.3972911963882618, 0.3977401129943503, 0.39819004524886875, 0.3986409966024915, 0.3979591836734694, 0.39841089670828606, 0.39886363636363636, 0.3993174061433447, 0.39977220956719817, 0.3990877993158495, 0.3995433789954338, 0.4, 0.40045766590389015, 0.4009163802978236, 0.40022935779816515, 0.4006888633754305, 0.4, 0.4004602991944764, 0.4009216589861751, 0.4013840830449827, 0.4018475750577367, 0.40115606936416187, 0.40162037037037035, 0.4020857473928158, 0.4025522041763341, 0.40301974448315914, 0.40232558139534885, 0.40279394644935973, 0.40326340326340326, 0.40373395565927656, 0.40420560747663553, 0.4046783625730994, 0.405152224824356, 0.4056271981242673, 0.40492957746478875, 0.40540540540540543, 0.40588235294117647, 0.40636042402826855, 0.4068396226415094, 0.40613931523022434, 0.4066193853427896, 0.40710059171597635, 0.4075829383886256, 0.4080664294187426, 0.4085510688836104, 0.4090368608799049, 0.4095238095238095, 0.4100119189511323, 0.40930787589498807, 0.40860215053763443, 0.4090909090909091, 0.4095808383233533, 0.4088729016786571, 0.40936374549819926, 0.40865384615384615, 0.40794223826714804, 0.40843373493975904, 0.4089264173703257, 0.40942028985507245, 0.40991535671100365, 0.41041162227602906, 0.4109090909090909, 0.41140776699029125, 0.41190765492102066, 0.4124087591240876, 0.41291108404384896, 0.41341463414634144, 0.4126984126984127, 0.4119804400977995, 0.412484700122399, 0.41299019607843135, 0.4134969325153374, 0.414004914004914, 0.4145141451414514, 0.41502463054187194, 0.4155363748458693, 0.4160493827160494, 0.41656365883807167, 0.41707920792079206, 0.41759603469640644, 0.41811414392059554, 0.41739130434782606, 0.417910447761194, 0.41843088418430885, 0.41895261845386533, 0.41947565543071164, 0.42, 0.42052565707133915, 0.42105263157894735, 0.4215809284818068, 0.4221105527638191, 0.4226415094339623, 0.42317380352644834, 0.42370744010088274, 0.42424242424242425, 0.4247787610619469, 0.4253164556962025, 0.42585551330798477, 0.4251269035532995, 0.4256670902160102, 0.4262086513994911, 0.4267515923566879, 0.4272959183673469, 0.4278416347381865, 0.42838874680306904, 0.42765685019206146, 0.4282051282051282, 0.4287548138639281, 0.42930591259640105, 0.42985842985842987, 0.43041237113402064, 0.4309677419354839, 0.43023255813953487, 0.4307891332470893, 0.43134715025906734, 0.43060959792477305, 0.43116883116883115, 0.4317295188556567, 0.4309895833333333, 0.4315514993481095, 0.4321148825065274, 0.4326797385620915, 0.43324607329842935, 0.4338138925294889, 0.4343832020997375, 0.43495400788436267, 0.4342105263157895, 0.43478260869565216, 0.43535620052770446, 0.43593130779392336, 0.4365079365079365, 0.4370860927152318, 0.4376657824933687, 0.43824701195219123, 0.43882978723404253, 0.4380825565912117, 0.43866666666666665, 0.4392523364485981, 0.4385026737967914, 0.43775100401606426, 0.4383378016085791, 0.4389261744966443, 0.43951612903225806, 0.4387617765814266, 0.4393530997304582, 0.4399460188933873, 0.4391891891891892, 0.4397834912043302, 0.43902439024390244, 0.4396200814111262, 0.44021739130434784, 0.43945578231292515, 0.44005449591280654, 0.4406548431105048, 0.4412568306010929, 0.4418604651162791, 0.44246575342465755, 0.4430727023319616, 0.44368131868131866, 0.4442916093535076, 0.44490358126721763, 0.44551724137931037, 0.44613259668508287, 0.44536652835408025, 0.4445983379501385, 0.44521497919556174, 0.44583333333333336, 0.44645340751043117, 0.44707520891364905, 0.4476987447698745, 0.4483240223463687, 0.4489510489510489, 0.4481792717086835, 0.4488078541374474, 0.449438202247191, 0.450070323488045, 0.4507042253521127, 0.4513399153737659, 0.4505649717514124, 0.4512022630834512, 0.4518413597733711, 0.4524822695035461, 0.453125, 0.4523470839260313, 0.4515669515669516, 0.4507845934379458, 0.45, 0.4492131616595136, 0.4498567335243553, 0.45050215208034433, 0.4511494252873563, 0.45179856115107914, 0.45244956772334294, 0.45165945165945165, 0.4523121387283237, 0.45296671490593343, 0.45362318840579713, 0.45428156748911463, 0.45494186046511625, 0.4556040756914119, 0.45481049562682213, 0.4554744525547445, 0.45614035087719296, 0.4568081991215227, 0.4574780058651026, 0.4566813509544787, 0.4573529411764706, 0.4580265095729013, 0.45870206489675514, 0.45937961595273263, 0.46005917159763315, 0.45925925925925926, 0.4599406528189911, 0.4606240713224368, 0.46130952380952384, 0.46199701937406856, 0.4626865671641791, 0.4633781763826607, 0.46407185628742514, 0.46476761619190404, 0.46546546546546547, 0.46616541353383456, 0.46686746987951805, 0.4675716440422323, 0.46827794561933533, 0.4689863842662632, 0.4696969696969697, 0.46889226100151743, 0.4696048632218845, 0.4703196347031963, 0.47103658536585363, 0.4717557251908397, 0.4724770642201835, 0.47320061255742724, 0.47392638036809814, 0.4731182795698925, 0.4723076923076923, 0.47303543913713403, 0.4737654320987654, 0.47449768160741884, 0.47523219814241485, 0.475968992248062, 0.4767080745341615, 0.4774494556765163, 0.4781931464174455, 0.4789391575663027, 0.478125, 0.4788732394366197, 0.4780564263322884, 0.478806907378336, 0.47955974842767296, 0.48031496062992124, 0.4810725552050473, 0.4802527646129542, 0.4810126582278481, 0.48019017432646594, 0.4793650793650794, 0.4785373608903021, 0.47929936305732485, 0.4800637958532695, 0.48083067092651754, 0.4816, 0.4823717948717949, 0.48154093097913325, 0.48231511254019294, 0.48148148148148145, 0.482258064516129, 0.48303715670436187, 0.48381877022653724, 0.4846029173419773, 0.48538961038961037, 0.4845528455284553, 0.4837133550488599, 0.48450244698205547, 0.4852941176470588, 0.4844517184942717, 0.48360655737704916, 0.48440065681444994, 0.48355263157894735, 0.4843492586490939, 0.48514851485148514, 0.4859504132231405, 0.4867549668874172, 0.48756218905472637, 0.4867109634551495, 0.4875207986688852, 0.48833333333333334, 0.48747913188647746, 0.4882943143812709, 0.48911222780569513, 0.4899328859060403, 0.4890756302521008, 0.4882154882154882, 0.48903878583473864, 0.48986486486486486, 0.4906937394247039, 0.48983050847457626, 0.48896434634974534, 0.4897959183673469, 0.4906303236797274, 0.48976109215017066, 0.4888888888888889, 0.4897260273972603, 0.49056603773584906, 0.49140893470790376, 0.49225473321858865, 0.49310344827586206, 0.4939550949913644, 0.4930795847750865, 0.49393414211438474, 0.4930555555555556, 0.49217391304347824, 0.4930313588850174, 0.493891797556719, 0.49475524475524474, 0.4938704028021016, 0.49298245614035086, 0.4938488576449912, 0.49471830985915494, 0.49382716049382713, 0.49469964664310956, 0.49380530973451325, 0.4946808510638298, 0.4955595026642984, 0.49466192170818507, 0.49376114081996436, 0.4928571428571429, 0.4937388193202147, 0.492831541218638, 0.49371633752244165, 0.49280575539568344, 0.4936936936936937, 0.49458483754512633, 0.49547920433996384, 0.4963768115942029, 0.49727767695099817, 0.49818181818181817, 0.4990892531876138, 0.5, 0.5009140767824497, 0.5, 0.5009174311926605, 0.5018382352941176, 0.5027624309392266, 0.5018450184501845, 0.5027726432532348, 0.5018518518518519, 0.5009276437847866, 0.5018587360594795, 0.5009310986964618, 0.5, 0.5009345794392523, 0.50187265917603, 0.50093808630394, 0.5018796992481203, 0.5028248587570622, 0.5037735849056604, 0.502835538752363, 0.5037878787878788, 0.5028462998102466, 0.5038022813688213, 0.5028571428571429, 0.5038167938931297, 0.502868068833652, 0.5019157088122606, 0.5028790786948176, 0.5038461538461538, 0.5048169556840078, 0.5038610038610039, 0.504835589941973, 0.5058139534883721, 0.5067961165048543, 0.5077821011673151, 0.50682261208577, 0.5078125, 0.5088062622309197, 0.5098039215686274, 0.5108055009823183, 0.5118110236220472, 0.5128205128205128, 0.5118577075098815, 0.5108910891089109, 0.5119047619047619, 0.510934393638171, 0.5119521912350598, 0.5109780439121756, 0.512, 0.5110220440881763, 0.5100401606425703, 0.5110663983903421, 0.5120967741935484, 0.5131313131313131, 0.5141700404858299, 0.5152129817444219, 0.516260162601626, 0.5173116089613035, 0.5183673469387755, 0.5194274028629857, 0.5204918032786885, 0.5215605749486653, 0.522633744855967, 0.5237113402061856, 0.5227272727272727, 0.5217391304347826, 0.5228215767634855, 0.5239085239085239, 0.525, 0.5260960334029228, 0.5271966527196653, 0.5262054507337526, 0.5273109243697479, 0.5263157894736842, 0.5274261603375527, 0.5264270613107822, 0.5254237288135594, 0.524416135881104, 0.5255319148936171, 0.5266524520255863, 0.5277777777777778, 0.5289079229122056, 0.5300429184549357, 0.5290322580645161, 0.5301724137931034, 0.531317494600432, 0.5324675324675324, 0.5336225596529284, 0.5347826086956522, 0.5359477124183006, 0.5349344978165939, 0.5339168490153173, 0.5350877192982456, 0.5362637362637362, 0.5374449339207048, 0.5364238410596026, 0.5353982300884956, 0.5365853658536586, 0.5377777777777778, 0.5389755011135857, 0.5401785714285714, 0.5413870246085011, 0.5403587443946188, 0.5415730337078651, 0.5405405405405406, 0.5417607223476298, 0.5429864253393665, 0.5419501133786848, 0.5409090909090909, 0.5421412300683371, 0.54337899543379, 0.5446224256292906, 0.5458715596330275, 0.5471264367816092, 0.5483870967741935, 0.5496535796766744, 0.5509259259259259, 0.5522041763341067, 0.5534883720930233, 0.5547785547785548, 0.5537383177570093, 0.5550351288056206, 0.5539906103286385, 0.5529411764705883, 0.5542452830188679, 0.5555555555555556, 0.556872037914692, 0.5558194774346793, 0.5547619047619048, 0.5560859188544153, 0.5574162679425837, 0.5587529976019184, 0.5600961538461539, 0.5614457831325301, 0.5603864734299517, 0.5617433414043583, 0.5631067961165048, 0.5644768856447688, 0.5658536585365853, 0.5672371638141809, 0.5686274509803921, 0.5700245700245701, 0.5689655172413793, 0.5679012345679012, 0.5668316831683168, 0.5682382133995038, 0.5671641791044776, 0.5685785536159601, 0.5675, 0.5664160401002506, 0.5678391959798995, 0.5692695214105793, 0.5707070707070707, 0.5721518987341773, 0.5710659898477157, 0.5699745547073791, 0.5714285714285714, 0.5703324808184144, 0.5717948717948718, 0.570694087403599, 0.5721649484536082, 0.5736434108527132, 0.572538860103627, 0.574025974025974, 0.5729166666666666, 0.5718015665796344, 0.5706806282722513, 0.5721784776902887, 0.5736842105263158, 0.5725593667546174, 0.5740740740740741, 0.5755968169761273, 0.5771276595744681, 0.5786666666666667, 0.5775401069518716, 0.579088471849866, 0.5806451612903226, 0.5822102425876011, 0.5837837837837838, 0.5853658536585366, 0.5842391304347826, 0.5831062670299727, 0.5846994535519126, 0.5863013698630137, 0.5851648351648352, 0.5840220385674931, 0.5828729281767956, 0.5844875346260388, 0.5833333333333334, 0.584958217270195, 0.5837988826815642, 0.5854341736694678, 0.5870786516853933, 0.5859154929577465, 0.5875706214689266, 0.5892351274787535, 0.5880681818181818, 0.5897435897435898, 0.5914285714285714, 0.5931232091690545, 0.5919540229885057, 0.590778097982709, 0.5895953757225434, 0.591304347826087, 0.5901162790697675, 0.5918367346938775, 0.5935672514619883, 0.592375366568915, 0.5941176470588235, 0.5929203539823009, 0.591715976331361, 0.5905044510385756, 0.5892857142857143, 0.591044776119403, 0.5898203592814372, 0.5885885885885885, 0.5903614457831325, 0.5921450151057401, 0.593939393939394, 0.5957446808510638, 0.5975609756097561, 0.599388379204893, 0.6012269938650306, 0.6, 0.5987654320987654, 0.5975232198142415, 0.5962732919254659, 0.5981308411214953, 0.6, 0.5987460815047022, 0.60062893081761, 0.5993690851735016, 0.5981012658227848, 0.6, 0.6019108280254777, 0.6038338658146964, 0.6057692307692307, 0.6045016077170418, 0.6064516129032258, 0.6084142394822006, 0.6071428571428571, 0.6058631921824105, 0.6078431372549019, 0.6098360655737705, 0.6085526315789473, 0.6072607260726073, 0.6059602649006622, 0.6046511627906976, 0.6066666666666667, 0.6053511705685619, 0.6073825503355704, 0.6060606060606061, 0.6081081081081081, 0.6067796610169491, 0.608843537414966, 0.6075085324232082, 0.6061643835616438, 0.6048109965635738, 0.6068965517241379, 0.6089965397923875, 0.6076388888888888, 0.6097560975609756, 0.6083916083916084, 0.6070175438596491, 0.6056338028169014, 0.6042402826855123, 0.6063829787234043, 0.604982206405694, 0.6071428571428571, 0.6093189964157706, 0.6079136690647482, 0.6101083032490975, 0.6123188405797102, 0.610909090909091, 0.6094890510948905, 0.6117216117216118, 0.6102941176470589, 0.6088560885608856, 0.6111111111111112, 0.6096654275092936, 0.6119402985074627, 0.6104868913857678, 0.6127819548872181, 0.6150943396226415, 0.6136363636363636, 0.6159695817490495, 0.6183206106870229, 0.6206896551724138, 0.6230769230769231, 0.6254826254826255, 0.624031007751938, 0.622568093385214, 0.62109375, 0.6235294117647059, 0.6220472440944882, 0.6205533596837944, 0.623015873015873, 0.6215139442231076, 0.62, 0.6184738955823293, 0.6209677419354839, 0.6194331983805668, 0.6219512195121951, 0.6244897959183674, 0.6270491803278688, 0.6296296296296297, 0.6322314049586777, 0.6307053941908713, 0.6333333333333333, 0.6359832635983264, 0.6386554621848739, 0.6413502109704642, 0.6440677966101694, 0.6425531914893617, 0.6452991452991453, 0.6437768240343348, 0.6422413793103449, 0.6406926406926406, 0.6434782608695652, 0.6419213973799127, 0.6403508771929824, 0.6387665198237885, 0.6371681415929203, 0.64, 0.6428571428571429, 0.6412556053811659, 0.6396396396396397, 0.6425339366515838, 0.6409090909090909, 0.639269406392694, 0.6376146788990825, 0.6405529953917051, 0.6435185185185185, 0.6465116279069767, 0.6448598130841121, 0.647887323943662, 0.6509433962264151, 0.6540284360189573, 0.6571428571428571, 0.6555023923444976, 0.6586538461538461, 0.6618357487922706, 0.6601941747572816, 0.6634146341463415, 0.6666666666666666, 0.6650246305418719, 0.6633663366336634, 0.6616915422885572, 0.665, 0.6683417085427136, 0.6717171717171717, 0.6751269035532995, 0.673469387755102, 0.6717948717948717, 0.6701030927835051, 0.6683937823834197, 0.671875, 0.675392670157068, 0.6736842105263158, 0.671957671957672, 0.6702127659574468, 0.6737967914438503, 0.6720430107526881, 0.6756756756756757, 0.6793478260869565, 0.6775956284153005, 0.6758241758241759, 0.6795580110497238, 0.6833333333333333, 0.6871508379888268, 0.6910112359550562, 0.6892655367231638, 0.6875, 0.6914285714285714, 0.6896551724137931, 0.6878612716763006, 0.6918604651162791, 0.695906432748538, 0.6941176470588235, 0.6923076923076923, 0.6904761904761905, 0.6946107784431138, 0.6987951807228916, 0.703030303030303, 0.7073170731707317, 0.7116564417177914, 0.7098765432098766, 0.7080745341614907, 0.7125, 0.7169811320754716, 0.7215189873417721, 0.7197452229299363, 0.717948717948718, 0.7225806451612903, 0.7272727272727273, 0.7254901960784313, 0.7302631578947368, 0.7284768211920529, 0.7266666666666667, 0.7248322147651006, 0.722972972972973, 0.7210884353741497, 0.7191780821917808, 0.7172413793103448, 0.7152777777777778, 0.7132867132867133, 0.7183098591549296, 0.7163120567375887, 0.7142857142857143, 0.7122302158273381, 0.717391304347826, 0.7153284671532847, 0.7205882352941176, 0.7185185185185186, 0.7164179104477612, 0.7142857142857143, 0.7196969696969697, 0.7175572519083969, 0.7153846153846154, 0.7209302325581395, 0.71875, 0.7244094488188977, 0.7301587301587301, 0.736, 0.7338709677419355, 0.7317073170731707, 0.7295081967213115, 0.7355371900826446, 0.7333333333333333, 0.7310924369747899, 0.7288135593220338, 0.7350427350427351, 0.7413793103448276, 0.7391304347826086, 0.7368421052631579, 0.7345132743362832, 0.7410714285714286, 0.7387387387387387, 0.7363636363636363, 0.7339449541284404, 0.7314814814814815, 0.7289719626168224, 0.7264150943396226, 0.7238095238095238, 0.7211538461538461, 0.7184466019417476, 0.7156862745098039, 0.7227722772277227, 0.73, 0.7373737373737373, 0.7448979591836735, 0.7525773195876289, 0.7604166666666666, 0.7684210526315789, 0.776595744680851, 0.7849462365591398, 0.782608695652174, 0.7802197802197802, 0.7888888888888889, 0.797752808988764, 0.7954545454545454, 0.7931034482758621, 0.7906976744186046, 0.788235294117647, 0.7976190476190477, 0.7951807228915663, 0.8048780487804879, 0.8024691358024691, 0.8125, 0.810126582278481, 0.8076923076923077, 0.8051948051948052, 0.8026315789473685, 0.8, 0.8108108108108109, 0.8082191780821918, 0.8055555555555556, 0.8028169014084507, 0.8, 0.7971014492753623, 0.7941176470588235, 0.7910447761194029, 0.803030303030303, 0.8, 0.796875, 0.7936507936507936, 0.8064516129032258, 0.8032786885245902, 0.8, 0.7966101694915254, 0.7931034482758621, 0.7894736842105263, 0.7857142857142857, 0.7962962962962963, 0.8113207547169812, 0.8076923076923077, 0.8235294117647058, 0.82, 0.8163265306122449, 0.8125, 0.8085106382978723, 0.8043478260869565, 0.8, 0.7954545454545454, 0.7906976744186046, 0.7857142857142857, 0.7804878048780488, 0.775, 0.7692307692307693, 0.7631578947368421, 0.7567567567567568, 0.75, 0.7428571428571429, 0.7647058823529411, 0.7575757575757576, 0.75, 0.7419354838709677, 0.7333333333333333, 0.7241379310344828, 0.7142857142857143, 0.7037037037037037, 0.6923076923076923, 0.68, 0.7083333333333334, 0.6956521739130435, 0.6818181818181818, 0.6666666666666666, 0.7, 0.6842105263157895, 0.6666666666666666, 0.6470588235294118, 0.6875, 0.6666666666666666, 0.7142857142857143, 0.6923076923076923, 0.75, 0.7272727272727273, 0.7, 0.7777777777777778, 0.75, 0.8571428571428571, 0.8333333333333334, 1.0, 1.0, 1.0, 1.0, 1.0, 1.0]}],\n",
              "                        {\"height\": 450, \"template\": {\"data\": {\"bar\": [{\"error_x\": {\"color\": \"#2a3f5f\"}, \"error_y\": {\"color\": \"#2a3f5f\"}, \"marker\": {\"line\": {\"color\": \"#E5ECF6\", \"width\": 0.5}}, \"type\": \"bar\"}], \"barpolar\": [{\"marker\": {\"line\": {\"color\": \"#E5ECF6\", \"width\": 0.5}}, \"type\": \"barpolar\"}], \"carpet\": [{\"aaxis\": {\"endlinecolor\": \"#2a3f5f\", \"gridcolor\": \"white\", \"linecolor\": \"white\", \"minorgridcolor\": \"white\", \"startlinecolor\": \"#2a3f5f\"}, \"baxis\": {\"endlinecolor\": \"#2a3f5f\", \"gridcolor\": \"white\", \"linecolor\": \"white\", \"minorgridcolor\": \"white\", \"startlinecolor\": \"#2a3f5f\"}, \"type\": \"carpet\"}], \"choropleth\": [{\"colorbar\": {\"outlinewidth\": 0, \"ticks\": \"\"}, \"type\": \"choropleth\"}], \"contour\": [{\"colorbar\": {\"outlinewidth\": 0, \"ticks\": \"\"}, \"colorscale\": [[0.0, \"#0d0887\"], [0.1111111111111111, \"#46039f\"], [0.2222222222222222, \"#7201a8\"], [0.3333333333333333, \"#9c179e\"], [0.4444444444444444, \"#bd3786\"], [0.5555555555555556, \"#d8576b\"], [0.6666666666666666, \"#ed7953\"], [0.7777777777777778, \"#fb9f3a\"], [0.8888888888888888, \"#fdca26\"], [1.0, \"#f0f921\"]], \"type\": \"contour\"}], \"contourcarpet\": [{\"colorbar\": {\"outlinewidth\": 0, \"ticks\": \"\"}, \"type\": \"contourcarpet\"}], \"heatmap\": [{\"colorbar\": {\"outlinewidth\": 0, \"ticks\": \"\"}, \"colorscale\": [[0.0, \"#0d0887\"], [0.1111111111111111, \"#46039f\"], [0.2222222222222222, \"#7201a8\"], [0.3333333333333333, \"#9c179e\"], [0.4444444444444444, \"#bd3786\"], [0.5555555555555556, \"#d8576b\"], [0.6666666666666666, \"#ed7953\"], [0.7777777777777778, \"#fb9f3a\"], [0.8888888888888888, \"#fdca26\"], [1.0, \"#f0f921\"]], \"type\": \"heatmap\"}], \"heatmapgl\": [{\"colorbar\": {\"outlinewidth\": 0, \"ticks\": \"\"}, \"colorscale\": [[0.0, \"#0d0887\"], [0.1111111111111111, \"#46039f\"], [0.2222222222222222, \"#7201a8\"], [0.3333333333333333, \"#9c179e\"], [0.4444444444444444, \"#bd3786\"], [0.5555555555555556, \"#d8576b\"], [0.6666666666666666, \"#ed7953\"], [0.7777777777777778, \"#fb9f3a\"], [0.8888888888888888, \"#fdca26\"], [1.0, \"#f0f921\"]], \"type\": \"heatmapgl\"}], \"histogram\": [{\"marker\": {\"colorbar\": {\"outlinewidth\": 0, \"ticks\": \"\"}}, \"type\": \"histogram\"}], \"histogram2d\": [{\"colorbar\": {\"outlinewidth\": 0, \"ticks\": \"\"}, \"colorscale\": [[0.0, \"#0d0887\"], [0.1111111111111111, \"#46039f\"], [0.2222222222222222, \"#7201a8\"], [0.3333333333333333, \"#9c179e\"], [0.4444444444444444, \"#bd3786\"], [0.5555555555555556, \"#d8576b\"], [0.6666666666666666, \"#ed7953\"], [0.7777777777777778, \"#fb9f3a\"], [0.8888888888888888, \"#fdca26\"], [1.0, \"#f0f921\"]], \"type\": \"histogram2d\"}], \"histogram2dcontour\": [{\"colorbar\": {\"outlinewidth\": 0, \"ticks\": \"\"}, \"colorscale\": [[0.0, \"#0d0887\"], [0.1111111111111111, \"#46039f\"], [0.2222222222222222, \"#7201a8\"], [0.3333333333333333, \"#9c179e\"], [0.4444444444444444, \"#bd3786\"], [0.5555555555555556, \"#d8576b\"], [0.6666666666666666, \"#ed7953\"], [0.7777777777777778, \"#fb9f3a\"], [0.8888888888888888, \"#fdca26\"], [1.0, \"#f0f921\"]], \"type\": \"histogram2dcontour\"}], \"mesh3d\": [{\"colorbar\": {\"outlinewidth\": 0, \"ticks\": \"\"}, \"type\": \"mesh3d\"}], \"parcoords\": [{\"line\": {\"colorbar\": {\"outlinewidth\": 0, \"ticks\": \"\"}}, \"type\": \"parcoords\"}], \"pie\": [{\"automargin\": true, \"type\": \"pie\"}], \"scatter\": [{\"marker\": {\"colorbar\": {\"outlinewidth\": 0, \"ticks\": \"\"}}, \"type\": \"scatter\"}], \"scatter3d\": [{\"line\": {\"colorbar\": {\"outlinewidth\": 0, \"ticks\": \"\"}}, \"marker\": {\"colorbar\": {\"outlinewidth\": 0, \"ticks\": \"\"}}, \"type\": \"scatter3d\"}], \"scattercarpet\": [{\"marker\": {\"colorbar\": {\"outlinewidth\": 0, \"ticks\": \"\"}}, \"type\": \"scattercarpet\"}], \"scattergeo\": [{\"marker\": {\"colorbar\": {\"outlinewidth\": 0, \"ticks\": \"\"}}, \"type\": \"scattergeo\"}], \"scattergl\": [{\"marker\": {\"colorbar\": {\"outlinewidth\": 0, \"ticks\": \"\"}}, \"type\": \"scattergl\"}], \"scattermapbox\": [{\"marker\": {\"colorbar\": {\"outlinewidth\": 0, \"ticks\": \"\"}}, \"type\": \"scattermapbox\"}], \"scatterpolar\": [{\"marker\": {\"colorbar\": {\"outlinewidth\": 0, \"ticks\": \"\"}}, \"type\": \"scatterpolar\"}], \"scatterpolargl\": [{\"marker\": {\"colorbar\": {\"outlinewidth\": 0, \"ticks\": \"\"}}, \"type\": \"scatterpolargl\"}], \"scatterternary\": [{\"marker\": {\"colorbar\": {\"outlinewidth\": 0, \"ticks\": \"\"}}, \"type\": \"scatterternary\"}], \"surface\": [{\"colorbar\": {\"outlinewidth\": 0, \"ticks\": \"\"}, \"colorscale\": [[0.0, \"#0d0887\"], [0.1111111111111111, \"#46039f\"], [0.2222222222222222, \"#7201a8\"], [0.3333333333333333, \"#9c179e\"], [0.4444444444444444, \"#bd3786\"], [0.5555555555555556, \"#d8576b\"], [0.6666666666666666, \"#ed7953\"], [0.7777777777777778, \"#fb9f3a\"], [0.8888888888888888, \"#fdca26\"], [1.0, \"#f0f921\"]], \"type\": \"surface\"}], \"table\": [{\"cells\": {\"fill\": {\"color\": \"#EBF0F8\"}, \"line\": {\"color\": \"white\"}}, \"header\": {\"fill\": {\"color\": \"#C8D4E3\"}, \"line\": {\"color\": \"white\"}}, \"type\": \"table\"}]}, \"layout\": {\"annotationdefaults\": {\"arrowcolor\": \"#2a3f5f\", \"arrowhead\": 0, \"arrowwidth\": 1}, \"coloraxis\": {\"colorbar\": {\"outlinewidth\": 0, \"ticks\": \"\"}}, \"colorscale\": {\"diverging\": [[0, \"#8e0152\"], [0.1, \"#c51b7d\"], [0.2, \"#de77ae\"], [0.3, \"#f1b6da\"], [0.4, \"#fde0ef\"], [0.5, \"#f7f7f7\"], [0.6, \"#e6f5d0\"], [0.7, \"#b8e186\"], [0.8, \"#7fbc41\"], [0.9, \"#4d9221\"], [1, \"#276419\"]], \"sequential\": [[0.0, \"#0d0887\"], [0.1111111111111111, \"#46039f\"], [0.2222222222222222, \"#7201a8\"], [0.3333333333333333, \"#9c179e\"], [0.4444444444444444, \"#bd3786\"], [0.5555555555555556, \"#d8576b\"], [0.6666666666666666, \"#ed7953\"], [0.7777777777777778, \"#fb9f3a\"], [0.8888888888888888, \"#fdca26\"], [1.0, \"#f0f921\"]], \"sequentialminus\": [[0.0, \"#0d0887\"], [0.1111111111111111, \"#46039f\"], [0.2222222222222222, \"#7201a8\"], [0.3333333333333333, \"#9c179e\"], [0.4444444444444444, \"#bd3786\"], [0.5555555555555556, \"#d8576b\"], [0.6666666666666666, \"#ed7953\"], [0.7777777777777778, \"#fb9f3a\"], [0.8888888888888888, \"#fdca26\"], [1.0, \"#f0f921\"]]}, \"colorway\": [\"#636efa\", \"#EF553B\", \"#00cc96\", \"#ab63fa\", \"#FFA15A\", \"#19d3f3\", \"#FF6692\", \"#B6E880\", \"#FF97FF\", \"#FECB52\"], \"font\": {\"color\": \"#2a3f5f\"}, \"geo\": {\"bgcolor\": \"white\", \"lakecolor\": \"white\", \"landcolor\": \"#E5ECF6\", \"showlakes\": true, \"showland\": true, \"subunitcolor\": \"white\"}, \"hoverlabel\": {\"align\": \"left\"}, \"hovermode\": \"closest\", \"mapbox\": {\"style\": \"light\"}, \"paper_bgcolor\": \"white\", \"plot_bgcolor\": \"#E5ECF6\", \"polar\": {\"angularaxis\": {\"gridcolor\": \"white\", \"linecolor\": \"white\", \"ticks\": \"\"}, \"bgcolor\": \"#E5ECF6\", \"radialaxis\": {\"gridcolor\": \"white\", \"linecolor\": \"white\", \"ticks\": \"\"}}, \"scene\": {\"xaxis\": {\"backgroundcolor\": \"#E5ECF6\", \"gridcolor\": \"white\", \"gridwidth\": 2, \"linecolor\": \"white\", \"showbackground\": true, \"ticks\": \"\", \"zerolinecolor\": \"white\"}, \"yaxis\": {\"backgroundcolor\": \"#E5ECF6\", \"gridcolor\": \"white\", \"gridwidth\": 2, \"linecolor\": \"white\", \"showbackground\": true, \"ticks\": \"\", \"zerolinecolor\": \"white\"}, \"zaxis\": {\"backgroundcolor\": \"#E5ECF6\", \"gridcolor\": \"white\", \"gridwidth\": 2, \"linecolor\": \"white\", \"showbackground\": true, \"ticks\": \"\", \"zerolinecolor\": \"white\"}}, \"shapedefaults\": {\"line\": {\"color\": \"#2a3f5f\"}}, \"ternary\": {\"aaxis\": {\"gridcolor\": \"white\", \"linecolor\": \"white\", \"ticks\": \"\"}, \"baxis\": {\"gridcolor\": \"white\", \"linecolor\": \"white\", \"ticks\": \"\"}, \"bgcolor\": \"#E5ECF6\", \"caxis\": {\"gridcolor\": \"white\", \"linecolor\": \"white\", \"ticks\": \"\"}}, \"title\": {\"x\": 0.05}, \"xaxis\": {\"automargin\": true, \"gridcolor\": \"white\", \"linecolor\": \"white\", \"ticks\": \"\", \"title\": {\"standoff\": 15}, \"zerolinecolor\": \"white\", \"zerolinewidth\": 2}, \"yaxis\": {\"automargin\": true, \"gridcolor\": \"white\", \"linecolor\": \"white\", \"ticks\": \"\", \"title\": {\"standoff\": 15}, \"zerolinecolor\": \"white\", \"zerolinewidth\": 2}}}, \"title\": {\"text\": \"Precision-Recall Curve\", \"x\": 0.5}, \"width\": 750, \"xaxis\": {\"title\": {\"text\": \"Recall\"}}, \"yaxis\": {\"title\": {\"text\": \"Precision\"}}},\n",
              "                        {\"responsive\": true}\n",
              "                    ).then(function(){\n",
              "                            \n",
              "var gd = document.getElementById('0d54be37-2a51-4a12-a169-9d42c990db76');\n",
              "var x = new MutationObserver(function (mutations, observer) {{\n",
              "        var display = window.getComputedStyle(gd).display;\n",
              "        if (!display || display === 'none') {{\n",
              "            console.log([gd, 'removed!']);\n",
              "            Plotly.purge(gd);\n",
              "            observer.disconnect();\n",
              "        }}\n",
              "}});\n",
              "\n",
              "// Listen for the removal of the full notebook cells\n",
              "var notebookContainer = gd.closest('#notebook-container');\n",
              "if (notebookContainer) {{\n",
              "    x.observe(notebookContainer, {childList: true});\n",
              "}}\n",
              "\n",
              "// Listen for the clearing of the current output cell\n",
              "var outputEl = gd.closest('.output');\n",
              "if (outputEl) {{\n",
              "    x.observe(outputEl, {childList: true});\n",
              "}}\n",
              "\n",
              "                        })\n",
              "                };\n",
              "                \n",
              "            </script>\n",
              "        </div>\n",
              "</body>\n",
              "</html>"
            ]
          },
          "metadata": {}
        }
      ]
    },
    {
      "cell_type": "markdown",
      "source": [
        "### Precision Recall AUC score\n",
        "\n",
        "Precision Recall AUC summarizes the integral or an approximation of the area under the precision-recall curve."
      ],
      "metadata": {
        "id": "aBeT6OQGpbq6"
      }
    },
    {
      "cell_type": "code",
      "source": [
        "from sklearn.metrics import auc\n",
        "print('--- Precision Recall AUC ---')\n",
        "print(f\"Logistic Regression: {auc(recall_lr,precision_lr)}\" ) # Logistic Regression\n",
        "print(f\"Naive Bayes: {auc(recall_gnb,precision_gnb)}\") # Gaussian Naive Bayes\n",
        "\n",
        "print(f'Neural Network: {auc(recall_nn,precision_nn)}')# Neural Network\n",
        "print(f\"K-Nearest Neighbors: {auc(recall_knn,precision_knn)} \") # K-Nearest Neighbors\n",
        "print(f\"Decision Tree: {auc(recall_dt,precision_dt)}\")  # Decision Tree\n",
        "print(f\"SVC: {auc(recall_svc,precision_svc)}\")# support vector classifier\n",
        "\n",
        "print(f\"Random Forest: {auc(recall_rf,precision_rf)}\") # Random Forest\n",
        "print(f\"ADA: {auc(recall_ada,precision_ada)}\")# ada boost\n",
        "print(f'SGB: {auc(recall_sgb,precision_sgb)}')   # stochastic gradient boosting\n",
        "print(f'CAT: {auc(recall_cat,precision_cat)}')   # Catboost classifier\n",
        "print(f'XGB: {auc(recall_xgb,precision_xgb)}')   # XGBoost"
      ],
      "metadata": {
        "colab": {
          "base_uri": "https://localhost:8080/"
        },
        "id": "mzrw8I7GNxIy",
        "outputId": "cfbd06ae-c2c6-4e5f-d2a8-e6d15346e515"
      },
      "execution_count": 99,
      "outputs": [
        {
          "output_type": "stream",
          "name": "stdout",
          "text": [
            "--- Precision Recall AUC ---\n",
            "Logistic Regression: 0.6073191068301664\n",
            "Naive Bayes: 0.5969875504364095\n",
            "Neural Network: 0.6309017617369164\n",
            "K-Nearest Neighbors: 0.5694430398008443 \n",
            "Decision Tree: 0.4912144881281736\n",
            "SVC: 0.5374486773323249\n",
            "Random Forest: 0.6038105846158617\n",
            "ADA: 0.644798495797311\n",
            "SGB: 0.5993020818266886\n",
            "CAT: 0.6292165803325802\n",
            "XGB: 0.6034401763099356\n"
          ]
        }
      ]
    },
    {
      "cell_type": "markdown",
      "source": [
        "### Summary & Conclusion\n",
        "\n",
        "Customer Churn Prediction involves handling a class imbalanced problem.  To deal with the class imbalaned problem, Synthetic Minority Oversampling TEchnique (SMOTE) method is used to oversample the minority class.\n",
        "\n",
        "11 ML Algorithms are investigated for the Churn Prediction problem.   Hypermeters of these algorithms were tuned using GridSearchCV. (The hypermeters tuning could be improved with further exploration). \n",
        "\n",
        "Performance of various algorithms (linear, nonlinear and ensemble)  are compared against below evaluation metrics.  \n",
        "\n",
        "1.   Precision Recall Curve and PR AUC Score\n",
        "    * If identifying the customers who are highly likely to churn is the most important, then the precision-recall curve and area under curve (PR AUC) can be used. This will optimize both precision and recall across all thresholds.\n",
        "     \n",
        "2.   ROC Curve and ROC AUC Score\n",
        "    * If both classes are equally important, the ROC Curve and area under curve (ROC AUC) can be used. This will maximize the true positive rate and minimize the false positive rate.\n",
        "    * ROC Curve shows false positive rate against the true positive rate (recall).\n",
        "\n",
        "Neural Network, Logistic Regression and ADAboost are the top performance for ROC AUC Score. \n",
        "\n",
        "ADABoost achieves the best PR AUC score.  In general, boosting algorithms perform better on the imbalanced data by giving an opportunity to focus more on the minority class and accordingly tune the training algorithm."
      ],
      "metadata": {
        "id": "J8Qcoj_0JTZC"
      }
    },
    {
      "cell_type": "code",
      "execution_count": 100,
      "metadata": {
        "colab": {
          "base_uri": "https://localhost:8080/",
          "height": 87
        },
        "id": "L6SGRcyAgZpk",
        "outputId": "592b8a0f-84fd-4066-9239-3ffb9730bfc4"
      },
      "outputs": [
        {
          "output_type": "stream",
          "name": "stdout",
          "text": [
            "[jovian] Detected Colab notebook...\u001b[0m\n",
            "[jovian] Uploading colab notebook to Jovian...\u001b[0m\n",
            "Committed successfully! https://jovian.ai/ddd/churn-prediction-using-linear-nonlinear-and-ensemble-algorithms\n"
          ]
        },
        {
          "output_type": "execute_result",
          "data": {
            "application/vnd.google.colaboratory.intrinsic+json": {
              "type": "string"
            },
            "text/plain": [
              "'https://jovian.ai/ddd/churn-prediction-using-linear-nonlinear-and-ensemble-algorithms'"
            ]
          },
          "metadata": {},
          "execution_count": 100
        }
      ],
      "source": [
        "# Execute this to save new versions of the notebook\n",
        "jovian.commit(project=\"churn-prediction-using-linear-nonlinear-and-ensemble-algorithms\")"
      ]
    }
  ],
  "metadata": {
    "kernelspec": {
      "display_name": "Python 3",
      "language": "python",
      "name": "python3"
    },
    "language_info": {
      "codemirror_mode": {
        "name": "ipython",
        "version": 3
      },
      "file_extension": ".py",
      "mimetype": "text/x-python",
      "name": "python",
      "nbconvert_exporter": "python",
      "pygments_lexer": "ipython3",
      "version": "3.7.6"
    },
    "colab": {
      "name": "churn-prediction-using-linear-nonlinear-and-ensemble-algorithms.ipynb",
      "provenance": [],
      "collapsed_sections": [],
      "include_colab_link": true
    }
  },
  "nbformat": 4,
  "nbformat_minor": 0
}