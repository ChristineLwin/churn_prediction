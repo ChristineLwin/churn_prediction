{
  "cells": [
    {
      "cell_type": "markdown",
      "metadata": {
        "id": "view-in-github",
        "colab_type": "text"
      },
      "source": [
        "<a href=\"https://colab.research.google.com/github/ChristineLwin/churn_prediction/blob/main/Churn%20Prediction%20using%20ML%20algorithms.ipynb\" target=\"_parent\"><img src=\"https://colab.research.google.com/assets/colab-badge.svg\" alt=\"Open In Colab\"/></a>"
      ]
    },
    {
      "cell_type": "code",
      "execution_count": 88,
      "metadata": {
        "id": "-DCkcrgvgZpb"
      },
      "outputs": [],
      "source": [
        "# Jovian Commit Essentials\n",
        "# Please retain and execute this cell without modifying the contents for `jovian.commit` to work\n",
        "!pip install jovian --upgrade -q\n",
        "import jovian\n",
        "jovian.set_project('churn-prediction-using-linear-nonlinear-and-ensemble-algorithms')\n",
        "jovian.set_colab_id('1SEGIBYzA6bgeGYlsIk-1jmXB1Xb7LTqc')"
      ]
    },
    {
      "cell_type": "markdown",
      "metadata": {
        "id": "8Pp_kmGvgZpg"
      },
      "source": [
        "### Churn Prediction using linear, nonlinear & ensemble algorithms\n",
        "* EDA \n",
        "* Preprocessing - Cleaning and Transformation\n",
        "    * Encoding\n",
        "    * Scaling \n",
        "    * Dealing with imbalanced data using synthetic minority oversampling technique, SMOTE \n",
        "* Prediction using ML algorithms \n",
        "    * Linear Algos\n",
        "        1. Naive Bayes\n",
        "        2. Logistic Regression\n",
        "    * Nonlinear Algos\n",
        "        3. NN\n",
        "        4. K Nearest Neighbour\n",
        "        5. Support Vector Classifier\n",
        "        6. Decision Tree Classifier\n",
        "    * Ensemble Algos\n",
        "        * Bagging Approach\n",
        "          7. Random Forest Classifier \n",
        "        * Boosting Approach\n",
        "          8. AdaBoost Classifier \n",
        "          9. CatBoost Classifier \n",
        "          10. Stochastic Gradient Boosting\n",
        "          11. XGBoost Classifier"
      ]
    },
    {
      "cell_type": "code",
      "execution_count": 2,
      "metadata": {
        "colab": {
          "base_uri": "https://localhost:8080/"
        },
        "id": "0RaiuP6bgZpj",
        "outputId": "8e0097f6-da27-474b-c724-330c0b089642"
      },
      "outputs": [
        {
          "output_type": "stream",
          "name": "stdout",
          "text": [
            "\u001b[K     |████████████████████████████████| 76.3 MB 1.3 MB/s \n",
            "\u001b[?25h"
          ]
        }
      ],
      "source": [
        "!pip install jovian --upgrade --quiet\n",
        "!pip install statsmodels --quiet\n",
        "!pip install opendatasets --upgrade --quiet\n",
        "!pip install catboost --quiet"
      ]
    },
    {
      "cell_type": "code",
      "source": [
        "import opendatasets as od\n",
        "import pandas as pd\n",
        "import numpy as np\n",
        "import tensorflow as tf\n",
        "\n",
        "from tensorflow import keras\n",
        "from keras.models import Sequential\n",
        "from keras.layers import Dense\n",
        "from sklearn.linear_model import LogisticRegression\n",
        "\n",
        "from sklearn.neighbors import KNeighborsClassifier\n",
        "from sklearn.naive_bayes import GaussianNB\n",
        "from sklearn.svm import SVC\n",
        "\n",
        "from sklearn.tree import DecisionTreeClassifier\n",
        "from sklearn.ensemble import AdaBoostClassifier, GradientBoostingClassifier, RandomForestClassifier\n",
        "from catboost import CatBoostClassifier\n",
        "\n",
        "from sklearn.model_selection import train_test_split, GridSearchCV\n",
        "from sklearn.preprocessing import MinMaxScaler\n",
        "from sklearn.metrics import confusion_matrix, classification_report\n",
        "from sklearn.metrics import roc_curve, roc_auc_score, precision_recall_curve\n",
        "\n",
        "import matplotlib.pyplot as plt\n",
        "import plotly.express as px\n",
        "import plotly.graph_objects as go\n",
        "%matplotlib inline"
      ],
      "metadata": {
        "id": "MjDBMgwRiUU7"
      },
      "execution_count": 3,
      "outputs": []
    },
    {
      "cell_type": "code",
      "source": [
        "od.download('https://www.kaggle.com/blastchar/telco-customer-churn')"
      ],
      "metadata": {
        "colab": {
          "base_uri": "https://localhost:8080/"
        },
        "id": "uUgAk2SgiWJ0",
        "outputId": "2c54165c-e3ca-457f-c53c-0f5d34c4e592"
      },
      "execution_count": 4,
      "outputs": [
        {
          "output_type": "stream",
          "name": "stdout",
          "text": [
            "Please provide your Kaggle credentials to download this dataset. Learn more: http://bit.ly/kaggle-creds\n",
            "Your Kaggle username: christinelwin\n",
            "Your Kaggle Key: ··········\n",
            "Downloading telco-customer-churn.zip to ./telco-customer-churn\n"
          ]
        },
        {
          "output_type": "stream",
          "name": "stderr",
          "text": [
            "100%|██████████| 172k/172k [00:00<00:00, 21.4MB/s]"
          ]
        },
        {
          "output_type": "stream",
          "name": "stdout",
          "text": [
            "\n"
          ]
        },
        {
          "output_type": "stream",
          "name": "stderr",
          "text": [
            "\n"
          ]
        }
      ]
    },
    {
      "cell_type": "code",
      "source": [
        "filepath = './telco-customer-churn/WA_Fn-UseC_-Telco-Customer-Churn.csv'"
      ],
      "metadata": {
        "id": "hPJbaionjAdr"
      },
      "execution_count": 5,
      "outputs": []
    },
    {
      "cell_type": "code",
      "source": [
        "df = pd.read_csv(filepath)\n",
        "print(df.shape)\n",
        "df.sample(3)"
      ],
      "metadata": {
        "colab": {
          "base_uri": "https://localhost:8080/",
          "height": 277
        },
        "id": "8TdWWdzsjGde",
        "outputId": "bdea3bca-e182-451e-83e0-31cd3ce749d5"
      },
      "execution_count": 6,
      "outputs": [
        {
          "output_type": "stream",
          "name": "stdout",
          "text": [
            "(7043, 21)\n"
          ]
        },
        {
          "output_type": "execute_result",
          "data": {
            "text/html": [
              "\n",
              "  <div id=\"df-c29a1f10-3d46-46aa-ace6-8dcf299edab4\">\n",
              "    <div class=\"colab-df-container\">\n",
              "      <div>\n",
              "<style scoped>\n",
              "    .dataframe tbody tr th:only-of-type {\n",
              "        vertical-align: middle;\n",
              "    }\n",
              "\n",
              "    .dataframe tbody tr th {\n",
              "        vertical-align: top;\n",
              "    }\n",
              "\n",
              "    .dataframe thead th {\n",
              "        text-align: right;\n",
              "    }\n",
              "</style>\n",
              "<table border=\"1\" class=\"dataframe\">\n",
              "  <thead>\n",
              "    <tr style=\"text-align: right;\">\n",
              "      <th></th>\n",
              "      <th>customerID</th>\n",
              "      <th>gender</th>\n",
              "      <th>SeniorCitizen</th>\n",
              "      <th>Partner</th>\n",
              "      <th>Dependents</th>\n",
              "      <th>tenure</th>\n",
              "      <th>PhoneService</th>\n",
              "      <th>MultipleLines</th>\n",
              "      <th>InternetService</th>\n",
              "      <th>OnlineSecurity</th>\n",
              "      <th>OnlineBackup</th>\n",
              "      <th>DeviceProtection</th>\n",
              "      <th>TechSupport</th>\n",
              "      <th>StreamingTV</th>\n",
              "      <th>StreamingMovies</th>\n",
              "      <th>Contract</th>\n",
              "      <th>PaperlessBilling</th>\n",
              "      <th>PaymentMethod</th>\n",
              "      <th>MonthlyCharges</th>\n",
              "      <th>TotalCharges</th>\n",
              "      <th>Churn</th>\n",
              "    </tr>\n",
              "  </thead>\n",
              "  <tbody>\n",
              "    <tr>\n",
              "      <th>5784</th>\n",
              "      <td>7401-RUBNK</td>\n",
              "      <td>Female</td>\n",
              "      <td>0</td>\n",
              "      <td>Yes</td>\n",
              "      <td>No</td>\n",
              "      <td>18</td>\n",
              "      <td>Yes</td>\n",
              "      <td>No</td>\n",
              "      <td>Fiber optic</td>\n",
              "      <td>Yes</td>\n",
              "      <td>No</td>\n",
              "      <td>No</td>\n",
              "      <td>No</td>\n",
              "      <td>No</td>\n",
              "      <td>No</td>\n",
              "      <td>Month-to-month</td>\n",
              "      <td>No</td>\n",
              "      <td>Electronic check</td>\n",
              "      <td>74.80</td>\n",
              "      <td>1438.05</td>\n",
              "      <td>No</td>\n",
              "    </tr>\n",
              "    <tr>\n",
              "      <th>6327</th>\n",
              "      <td>3736-BLEPA</td>\n",
              "      <td>Male</td>\n",
              "      <td>0</td>\n",
              "      <td>No</td>\n",
              "      <td>No</td>\n",
              "      <td>28</td>\n",
              "      <td>Yes</td>\n",
              "      <td>No</td>\n",
              "      <td>Fiber optic</td>\n",
              "      <td>No</td>\n",
              "      <td>Yes</td>\n",
              "      <td>No</td>\n",
              "      <td>Yes</td>\n",
              "      <td>Yes</td>\n",
              "      <td>No</td>\n",
              "      <td>One year</td>\n",
              "      <td>Yes</td>\n",
              "      <td>Bank transfer (automatic)</td>\n",
              "      <td>91.25</td>\n",
              "      <td>2483.65</td>\n",
              "      <td>No</td>\n",
              "    </tr>\n",
              "    <tr>\n",
              "      <th>1633</th>\n",
              "      <td>1478-VPOAD</td>\n",
              "      <td>Female</td>\n",
              "      <td>0</td>\n",
              "      <td>No</td>\n",
              "      <td>No</td>\n",
              "      <td>1</td>\n",
              "      <td>Yes</td>\n",
              "      <td>No</td>\n",
              "      <td>DSL</td>\n",
              "      <td>No</td>\n",
              "      <td>No</td>\n",
              "      <td>No</td>\n",
              "      <td>No</td>\n",
              "      <td>No</td>\n",
              "      <td>No</td>\n",
              "      <td>Month-to-month</td>\n",
              "      <td>No</td>\n",
              "      <td>Electronic check</td>\n",
              "      <td>43.80</td>\n",
              "      <td>43.8</td>\n",
              "      <td>No</td>\n",
              "    </tr>\n",
              "  </tbody>\n",
              "</table>\n",
              "</div>\n",
              "      <button class=\"colab-df-convert\" onclick=\"convertToInteractive('df-c29a1f10-3d46-46aa-ace6-8dcf299edab4')\"\n",
              "              title=\"Convert this dataframe to an interactive table.\"\n",
              "              style=\"display:none;\">\n",
              "        \n",
              "  <svg xmlns=\"http://www.w3.org/2000/svg\" height=\"24px\"viewBox=\"0 0 24 24\"\n",
              "       width=\"24px\">\n",
              "    <path d=\"M0 0h24v24H0V0z\" fill=\"none\"/>\n",
              "    <path d=\"M18.56 5.44l.94 2.06.94-2.06 2.06-.94-2.06-.94-.94-2.06-.94 2.06-2.06.94zm-11 1L8.5 8.5l.94-2.06 2.06-.94-2.06-.94L8.5 2.5l-.94 2.06-2.06.94zm10 10l.94 2.06.94-2.06 2.06-.94-2.06-.94-.94-2.06-.94 2.06-2.06.94z\"/><path d=\"M17.41 7.96l-1.37-1.37c-.4-.4-.92-.59-1.43-.59-.52 0-1.04.2-1.43.59L10.3 9.45l-7.72 7.72c-.78.78-.78 2.05 0 2.83L4 21.41c.39.39.9.59 1.41.59.51 0 1.02-.2 1.41-.59l7.78-7.78 2.81-2.81c.8-.78.8-2.07 0-2.86zM5.41 20L4 18.59l7.72-7.72 1.47 1.35L5.41 20z\"/>\n",
              "  </svg>\n",
              "      </button>\n",
              "      \n",
              "  <style>\n",
              "    .colab-df-container {\n",
              "      display:flex;\n",
              "      flex-wrap:wrap;\n",
              "      gap: 12px;\n",
              "    }\n",
              "\n",
              "    .colab-df-convert {\n",
              "      background-color: #E8F0FE;\n",
              "      border: none;\n",
              "      border-radius: 50%;\n",
              "      cursor: pointer;\n",
              "      display: none;\n",
              "      fill: #1967D2;\n",
              "      height: 32px;\n",
              "      padding: 0 0 0 0;\n",
              "      width: 32px;\n",
              "    }\n",
              "\n",
              "    .colab-df-convert:hover {\n",
              "      background-color: #E2EBFA;\n",
              "      box-shadow: 0px 1px 2px rgba(60, 64, 67, 0.3), 0px 1px 3px 1px rgba(60, 64, 67, 0.15);\n",
              "      fill: #174EA6;\n",
              "    }\n",
              "\n",
              "    [theme=dark] .colab-df-convert {\n",
              "      background-color: #3B4455;\n",
              "      fill: #D2E3FC;\n",
              "    }\n",
              "\n",
              "    [theme=dark] .colab-df-convert:hover {\n",
              "      background-color: #434B5C;\n",
              "      box-shadow: 0px 1px 3px 1px rgba(0, 0, 0, 0.15);\n",
              "      filter: drop-shadow(0px 1px 2px rgba(0, 0, 0, 0.3));\n",
              "      fill: #FFFFFF;\n",
              "    }\n",
              "  </style>\n",
              "\n",
              "      <script>\n",
              "        const buttonEl =\n",
              "          document.querySelector('#df-c29a1f10-3d46-46aa-ace6-8dcf299edab4 button.colab-df-convert');\n",
              "        buttonEl.style.display =\n",
              "          google.colab.kernel.accessAllowed ? 'block' : 'none';\n",
              "\n",
              "        async function convertToInteractive(key) {\n",
              "          const element = document.querySelector('#df-c29a1f10-3d46-46aa-ace6-8dcf299edab4');\n",
              "          const dataTable =\n",
              "            await google.colab.kernel.invokeFunction('convertToInteractive',\n",
              "                                                     [key], {});\n",
              "          if (!dataTable) return;\n",
              "\n",
              "          const docLinkHtml = 'Like what you see? Visit the ' +\n",
              "            '<a target=\"_blank\" href=https://colab.research.google.com/notebooks/data_table.ipynb>data table notebook</a>'\n",
              "            + ' to learn more about interactive tables.';\n",
              "          element.innerHTML = '';\n",
              "          dataTable['output_type'] = 'display_data';\n",
              "          await google.colab.output.renderOutput(dataTable, element);\n",
              "          const docLink = document.createElement('div');\n",
              "          docLink.innerHTML = docLinkHtml;\n",
              "          element.appendChild(docLink);\n",
              "        }\n",
              "      </script>\n",
              "    </div>\n",
              "  </div>\n",
              "  "
            ],
            "text/plain": [
              "      customerID  gender  SeniorCitizen  ... MonthlyCharges TotalCharges  Churn\n",
              "5784  7401-RUBNK  Female              0  ...          74.80      1438.05     No\n",
              "6327  3736-BLEPA    Male              0  ...          91.25      2483.65     No\n",
              "1633  1478-VPOAD  Female              0  ...          43.80         43.8     No\n",
              "\n",
              "[3 rows x 21 columns]"
            ]
          },
          "metadata": {},
          "execution_count": 6
        }
      ]
    },
    {
      "cell_type": "code",
      "source": [
        "df.columns"
      ],
      "metadata": {
        "colab": {
          "base_uri": "https://localhost:8080/"
        },
        "id": "XuauPqEvjMHs",
        "outputId": "960e691e-d982-4263-d9d4-49716342e826"
      },
      "execution_count": 7,
      "outputs": [
        {
          "output_type": "execute_result",
          "data": {
            "text/plain": [
              "Index(['customerID', 'gender', 'SeniorCitizen', 'Partner', 'Dependents',\n",
              "       'tenure', 'PhoneService', 'MultipleLines', 'InternetService',\n",
              "       'OnlineSecurity', 'OnlineBackup', 'DeviceProtection', 'TechSupport',\n",
              "       'StreamingTV', 'StreamingMovies', 'Contract', 'PaperlessBilling',\n",
              "       'PaymentMethod', 'MonthlyCharges', 'TotalCharges', 'Churn'],\n",
              "      dtype='object')"
            ]
          },
          "metadata": {},
          "execution_count": 7
        }
      ]
    },
    {
      "cell_type": "code",
      "source": [
        "df.dtypes"
      ],
      "metadata": {
        "colab": {
          "base_uri": "https://localhost:8080/"
        },
        "id": "d4SuBQD8jRRb",
        "outputId": "6235617c-ff8f-473d-e968-1ed813bcb64b"
      },
      "execution_count": 8,
      "outputs": [
        {
          "output_type": "execute_result",
          "data": {
            "text/plain": [
              "customerID           object\n",
              "gender               object\n",
              "SeniorCitizen         int64\n",
              "Partner              object\n",
              "Dependents           object\n",
              "tenure                int64\n",
              "PhoneService         object\n",
              "MultipleLines        object\n",
              "InternetService      object\n",
              "OnlineSecurity       object\n",
              "OnlineBackup         object\n",
              "DeviceProtection     object\n",
              "TechSupport          object\n",
              "StreamingTV          object\n",
              "StreamingMovies      object\n",
              "Contract             object\n",
              "PaperlessBilling     object\n",
              "PaymentMethod        object\n",
              "MonthlyCharges      float64\n",
              "TotalCharges         object\n",
              "Churn                object\n",
              "dtype: object"
            ]
          },
          "metadata": {},
          "execution_count": 8
        }
      ]
    },
    {
      "cell_type": "markdown",
      "source": [
        "#### Preprocessing and Cleaning"
      ],
      "metadata": {
        "id": "oEvfx1HSj0AS"
      }
    },
    {
      "cell_type": "markdown",
      "source": [
        "TotalCharges type is string object.  Convert it to float type.  "
      ],
      "metadata": {
        "id": "WOBjVT5Vj34P"
      }
    },
    {
      "cell_type": "code",
      "source": [
        "print(df['TotalCharges'].dtype)\n",
        "print(df.TotalCharges.values)"
      ],
      "metadata": {
        "colab": {
          "base_uri": "https://localhost:8080/"
        },
        "id": "M8P60jEvjR1J",
        "outputId": "e338be83-344c-4cd4-9b26-b4f4ab45392f"
      },
      "execution_count": 9,
      "outputs": [
        {
          "output_type": "stream",
          "name": "stdout",
          "text": [
            "object\n",
            "['29.85' '1889.5' '108.15' ... '346.45' '306.6' '6844.5']\n"
          ]
        }
      ]
    },
    {
      "cell_type": "markdown",
      "source": [
        "#### Missing values\n",
        "\n",
        "There are 11 records with missing values(empty string) in TotalCharges column.  Since it is only a small proportion (0.15% of the dataset), those records are dropped."
      ],
      "metadata": {
        "id": "SeW8JLA0j_KK"
      }
    },
    {
      "cell_type": "code",
      "source": [
        "print('No. of records with empty string: ',df[pd.to_numeric(df.TotalCharges,errors='coerce').isnull()].shape[0])\n",
        "\n",
        "#index of the TotalCharges with missing values\n",
        "idxlst = list(df[pd.to_numeric(df.TotalCharges,errors='coerce').isnull()].index)\n",
        "# below results show that totalcharges columns have empty string\n",
        "df.loc[idxlst,['tenure','MonthlyCharges','TotalCharges','Churn']]"
      ],
      "metadata": {
        "colab": {
          "base_uri": "https://localhost:8080/",
          "height": 412
        },
        "id": "d_Cx7b1Ujbbz",
        "outputId": "2c882700-e9b3-4e2c-9e89-3ff29b0ae4a8"
      },
      "execution_count": 10,
      "outputs": [
        {
          "output_type": "stream",
          "name": "stdout",
          "text": [
            "No. of records with empty string:  11\n"
          ]
        },
        {
          "output_type": "execute_result",
          "data": {
            "text/html": [
              "\n",
              "  <div id=\"df-3eefe500-ad36-4fb6-a44d-4717a6c17aa5\">\n",
              "    <div class=\"colab-df-container\">\n",
              "      <div>\n",
              "<style scoped>\n",
              "    .dataframe tbody tr th:only-of-type {\n",
              "        vertical-align: middle;\n",
              "    }\n",
              "\n",
              "    .dataframe tbody tr th {\n",
              "        vertical-align: top;\n",
              "    }\n",
              "\n",
              "    .dataframe thead th {\n",
              "        text-align: right;\n",
              "    }\n",
              "</style>\n",
              "<table border=\"1\" class=\"dataframe\">\n",
              "  <thead>\n",
              "    <tr style=\"text-align: right;\">\n",
              "      <th></th>\n",
              "      <th>tenure</th>\n",
              "      <th>MonthlyCharges</th>\n",
              "      <th>TotalCharges</th>\n",
              "      <th>Churn</th>\n",
              "    </tr>\n",
              "  </thead>\n",
              "  <tbody>\n",
              "    <tr>\n",
              "      <th>488</th>\n",
              "      <td>0</td>\n",
              "      <td>52.55</td>\n",
              "      <td></td>\n",
              "      <td>No</td>\n",
              "    </tr>\n",
              "    <tr>\n",
              "      <th>753</th>\n",
              "      <td>0</td>\n",
              "      <td>20.25</td>\n",
              "      <td></td>\n",
              "      <td>No</td>\n",
              "    </tr>\n",
              "    <tr>\n",
              "      <th>936</th>\n",
              "      <td>0</td>\n",
              "      <td>80.85</td>\n",
              "      <td></td>\n",
              "      <td>No</td>\n",
              "    </tr>\n",
              "    <tr>\n",
              "      <th>1082</th>\n",
              "      <td>0</td>\n",
              "      <td>25.75</td>\n",
              "      <td></td>\n",
              "      <td>No</td>\n",
              "    </tr>\n",
              "    <tr>\n",
              "      <th>1340</th>\n",
              "      <td>0</td>\n",
              "      <td>56.05</td>\n",
              "      <td></td>\n",
              "      <td>No</td>\n",
              "    </tr>\n",
              "    <tr>\n",
              "      <th>3331</th>\n",
              "      <td>0</td>\n",
              "      <td>19.85</td>\n",
              "      <td></td>\n",
              "      <td>No</td>\n",
              "    </tr>\n",
              "    <tr>\n",
              "      <th>3826</th>\n",
              "      <td>0</td>\n",
              "      <td>25.35</td>\n",
              "      <td></td>\n",
              "      <td>No</td>\n",
              "    </tr>\n",
              "    <tr>\n",
              "      <th>4380</th>\n",
              "      <td>0</td>\n",
              "      <td>20.00</td>\n",
              "      <td></td>\n",
              "      <td>No</td>\n",
              "    </tr>\n",
              "    <tr>\n",
              "      <th>5218</th>\n",
              "      <td>0</td>\n",
              "      <td>19.70</td>\n",
              "      <td></td>\n",
              "      <td>No</td>\n",
              "    </tr>\n",
              "    <tr>\n",
              "      <th>6670</th>\n",
              "      <td>0</td>\n",
              "      <td>73.35</td>\n",
              "      <td></td>\n",
              "      <td>No</td>\n",
              "    </tr>\n",
              "    <tr>\n",
              "      <th>6754</th>\n",
              "      <td>0</td>\n",
              "      <td>61.90</td>\n",
              "      <td></td>\n",
              "      <td>No</td>\n",
              "    </tr>\n",
              "  </tbody>\n",
              "</table>\n",
              "</div>\n",
              "      <button class=\"colab-df-convert\" onclick=\"convertToInteractive('df-3eefe500-ad36-4fb6-a44d-4717a6c17aa5')\"\n",
              "              title=\"Convert this dataframe to an interactive table.\"\n",
              "              style=\"display:none;\">\n",
              "        \n",
              "  <svg xmlns=\"http://www.w3.org/2000/svg\" height=\"24px\"viewBox=\"0 0 24 24\"\n",
              "       width=\"24px\">\n",
              "    <path d=\"M0 0h24v24H0V0z\" fill=\"none\"/>\n",
              "    <path d=\"M18.56 5.44l.94 2.06.94-2.06 2.06-.94-2.06-.94-.94-2.06-.94 2.06-2.06.94zm-11 1L8.5 8.5l.94-2.06 2.06-.94-2.06-.94L8.5 2.5l-.94 2.06-2.06.94zm10 10l.94 2.06.94-2.06 2.06-.94-2.06-.94-.94-2.06-.94 2.06-2.06.94z\"/><path d=\"M17.41 7.96l-1.37-1.37c-.4-.4-.92-.59-1.43-.59-.52 0-1.04.2-1.43.59L10.3 9.45l-7.72 7.72c-.78.78-.78 2.05 0 2.83L4 21.41c.39.39.9.59 1.41.59.51 0 1.02-.2 1.41-.59l7.78-7.78 2.81-2.81c.8-.78.8-2.07 0-2.86zM5.41 20L4 18.59l7.72-7.72 1.47 1.35L5.41 20z\"/>\n",
              "  </svg>\n",
              "      </button>\n",
              "      \n",
              "  <style>\n",
              "    .colab-df-container {\n",
              "      display:flex;\n",
              "      flex-wrap:wrap;\n",
              "      gap: 12px;\n",
              "    }\n",
              "\n",
              "    .colab-df-convert {\n",
              "      background-color: #E8F0FE;\n",
              "      border: none;\n",
              "      border-radius: 50%;\n",
              "      cursor: pointer;\n",
              "      display: none;\n",
              "      fill: #1967D2;\n",
              "      height: 32px;\n",
              "      padding: 0 0 0 0;\n",
              "      width: 32px;\n",
              "    }\n",
              "\n",
              "    .colab-df-convert:hover {\n",
              "      background-color: #E2EBFA;\n",
              "      box-shadow: 0px 1px 2px rgba(60, 64, 67, 0.3), 0px 1px 3px 1px rgba(60, 64, 67, 0.15);\n",
              "      fill: #174EA6;\n",
              "    }\n",
              "\n",
              "    [theme=dark] .colab-df-convert {\n",
              "      background-color: #3B4455;\n",
              "      fill: #D2E3FC;\n",
              "    }\n",
              "\n",
              "    [theme=dark] .colab-df-convert:hover {\n",
              "      background-color: #434B5C;\n",
              "      box-shadow: 0px 1px 3px 1px rgba(0, 0, 0, 0.15);\n",
              "      filter: drop-shadow(0px 1px 2px rgba(0, 0, 0, 0.3));\n",
              "      fill: #FFFFFF;\n",
              "    }\n",
              "  </style>\n",
              "\n",
              "      <script>\n",
              "        const buttonEl =\n",
              "          document.querySelector('#df-3eefe500-ad36-4fb6-a44d-4717a6c17aa5 button.colab-df-convert');\n",
              "        buttonEl.style.display =\n",
              "          google.colab.kernel.accessAllowed ? 'block' : 'none';\n",
              "\n",
              "        async function convertToInteractive(key) {\n",
              "          const element = document.querySelector('#df-3eefe500-ad36-4fb6-a44d-4717a6c17aa5');\n",
              "          const dataTable =\n",
              "            await google.colab.kernel.invokeFunction('convertToInteractive',\n",
              "                                                     [key], {});\n",
              "          if (!dataTable) return;\n",
              "\n",
              "          const docLinkHtml = 'Like what you see? Visit the ' +\n",
              "            '<a target=\"_blank\" href=https://colab.research.google.com/notebooks/data_table.ipynb>data table notebook</a>'\n",
              "            + ' to learn more about interactive tables.';\n",
              "          element.innerHTML = '';\n",
              "          dataTable['output_type'] = 'display_data';\n",
              "          await google.colab.output.renderOutput(dataTable, element);\n",
              "          const docLink = document.createElement('div');\n",
              "          docLink.innerHTML = docLinkHtml;\n",
              "          element.appendChild(docLink);\n",
              "        }\n",
              "      </script>\n",
              "    </div>\n",
              "  </div>\n",
              "  "
            ],
            "text/plain": [
              "      tenure  MonthlyCharges TotalCharges Churn\n",
              "488        0           52.55                 No\n",
              "753        0           20.25                 No\n",
              "936        0           80.85                 No\n",
              "1082       0           25.75                 No\n",
              "1340       0           56.05                 No\n",
              "3331       0           19.85                 No\n",
              "3826       0           25.35                 No\n",
              "4380       0           20.00                 No\n",
              "5218       0           19.70                 No\n",
              "6670       0           73.35                 No\n",
              "6754       0           61.90                 No"
            ]
          },
          "metadata": {},
          "execution_count": 10
        }
      ]
    },
    {
      "cell_type": "markdown",
      "source": [
        "All missing records are also customers with No churn as well as with Zero tenure. As there are significant samples for No Churn (majority class), these 11 missing records/rows are dropped. Customer ID column/feature is also dropped.  "
      ],
      "metadata": {
        "id": "_47QJATgkNNU"
      }
    },
    {
      "cell_type": "code",
      "source": [
        "#drop the missing records/rows\n",
        "df1 = df.drop(idxlst,axis=0)\n",
        "#drop customerID column\n",
        "df1 = df1.drop('customerID',axis=1)\n",
        "df1.shape"
      ],
      "metadata": {
        "colab": {
          "base_uri": "https://localhost:8080/"
        },
        "id": "INJFwbYFjbe9",
        "outputId": "8940beaa-dab1-479f-8437-2f977a9c597c"
      },
      "execution_count": 11,
      "outputs": [
        {
          "output_type": "execute_result",
          "data": {
            "text/plain": [
              "(7032, 20)"
            ]
          },
          "metadata": {},
          "execution_count": 11
        }
      ]
    },
    {
      "cell_type": "code",
      "source": [
        "#convert from string object to float64\n",
        "df1 = df1.astype({'TotalCharges':np.float64})\n",
        "df1.TotalCharges.dtypes"
      ],
      "metadata": {
        "colab": {
          "base_uri": "https://localhost:8080/"
        },
        "id": "GAVngl8wkRDv",
        "outputId": "b0a02d2c-b43e-4114-c79d-9b406ce0b6b6"
      },
      "execution_count": 12,
      "outputs": [
        {
          "output_type": "execute_result",
          "data": {
            "text/plain": [
              "dtype('float64')"
            ]
          },
          "metadata": {},
          "execution_count": 12
        }
      ]
    },
    {
      "cell_type": "markdown",
      "source": [
        "Statistics of the numeric features - dataset contains tenure range from 1 to 72 and montlycharges rage from 18 to 118. "
      ],
      "metadata": {
        "id": "zlTTEJOqkbxV"
      }
    },
    {
      "cell_type": "code",
      "source": [
        "df1.describe()"
      ],
      "metadata": {
        "colab": {
          "base_uri": "https://localhost:8080/",
          "height": 300
        },
        "id": "AR-0nW__kRWI",
        "outputId": "23282d5b-a9d4-4105-c60c-17b1411defb9"
      },
      "execution_count": 13,
      "outputs": [
        {
          "output_type": "execute_result",
          "data": {
            "text/html": [
              "\n",
              "  <div id=\"df-14a7c14f-dfd3-40a8-9ba8-b4a28b661bad\">\n",
              "    <div class=\"colab-df-container\">\n",
              "      <div>\n",
              "<style scoped>\n",
              "    .dataframe tbody tr th:only-of-type {\n",
              "        vertical-align: middle;\n",
              "    }\n",
              "\n",
              "    .dataframe tbody tr th {\n",
              "        vertical-align: top;\n",
              "    }\n",
              "\n",
              "    .dataframe thead th {\n",
              "        text-align: right;\n",
              "    }\n",
              "</style>\n",
              "<table border=\"1\" class=\"dataframe\">\n",
              "  <thead>\n",
              "    <tr style=\"text-align: right;\">\n",
              "      <th></th>\n",
              "      <th>SeniorCitizen</th>\n",
              "      <th>tenure</th>\n",
              "      <th>MonthlyCharges</th>\n",
              "      <th>TotalCharges</th>\n",
              "    </tr>\n",
              "  </thead>\n",
              "  <tbody>\n",
              "    <tr>\n",
              "      <th>count</th>\n",
              "      <td>7032.000000</td>\n",
              "      <td>7032.000000</td>\n",
              "      <td>7032.000000</td>\n",
              "      <td>7032.000000</td>\n",
              "    </tr>\n",
              "    <tr>\n",
              "      <th>mean</th>\n",
              "      <td>0.162400</td>\n",
              "      <td>32.421786</td>\n",
              "      <td>64.798208</td>\n",
              "      <td>2283.300441</td>\n",
              "    </tr>\n",
              "    <tr>\n",
              "      <th>std</th>\n",
              "      <td>0.368844</td>\n",
              "      <td>24.545260</td>\n",
              "      <td>30.085974</td>\n",
              "      <td>2266.771362</td>\n",
              "    </tr>\n",
              "    <tr>\n",
              "      <th>min</th>\n",
              "      <td>0.000000</td>\n",
              "      <td>1.000000</td>\n",
              "      <td>18.250000</td>\n",
              "      <td>18.800000</td>\n",
              "    </tr>\n",
              "    <tr>\n",
              "      <th>25%</th>\n",
              "      <td>0.000000</td>\n",
              "      <td>9.000000</td>\n",
              "      <td>35.587500</td>\n",
              "      <td>401.450000</td>\n",
              "    </tr>\n",
              "    <tr>\n",
              "      <th>50%</th>\n",
              "      <td>0.000000</td>\n",
              "      <td>29.000000</td>\n",
              "      <td>70.350000</td>\n",
              "      <td>1397.475000</td>\n",
              "    </tr>\n",
              "    <tr>\n",
              "      <th>75%</th>\n",
              "      <td>0.000000</td>\n",
              "      <td>55.000000</td>\n",
              "      <td>89.862500</td>\n",
              "      <td>3794.737500</td>\n",
              "    </tr>\n",
              "    <tr>\n",
              "      <th>max</th>\n",
              "      <td>1.000000</td>\n",
              "      <td>72.000000</td>\n",
              "      <td>118.750000</td>\n",
              "      <td>8684.800000</td>\n",
              "    </tr>\n",
              "  </tbody>\n",
              "</table>\n",
              "</div>\n",
              "      <button class=\"colab-df-convert\" onclick=\"convertToInteractive('df-14a7c14f-dfd3-40a8-9ba8-b4a28b661bad')\"\n",
              "              title=\"Convert this dataframe to an interactive table.\"\n",
              "              style=\"display:none;\">\n",
              "        \n",
              "  <svg xmlns=\"http://www.w3.org/2000/svg\" height=\"24px\"viewBox=\"0 0 24 24\"\n",
              "       width=\"24px\">\n",
              "    <path d=\"M0 0h24v24H0V0z\" fill=\"none\"/>\n",
              "    <path d=\"M18.56 5.44l.94 2.06.94-2.06 2.06-.94-2.06-.94-.94-2.06-.94 2.06-2.06.94zm-11 1L8.5 8.5l.94-2.06 2.06-.94-2.06-.94L8.5 2.5l-.94 2.06-2.06.94zm10 10l.94 2.06.94-2.06 2.06-.94-2.06-.94-.94-2.06-.94 2.06-2.06.94z\"/><path d=\"M17.41 7.96l-1.37-1.37c-.4-.4-.92-.59-1.43-.59-.52 0-1.04.2-1.43.59L10.3 9.45l-7.72 7.72c-.78.78-.78 2.05 0 2.83L4 21.41c.39.39.9.59 1.41.59.51 0 1.02-.2 1.41-.59l7.78-7.78 2.81-2.81c.8-.78.8-2.07 0-2.86zM5.41 20L4 18.59l7.72-7.72 1.47 1.35L5.41 20z\"/>\n",
              "  </svg>\n",
              "      </button>\n",
              "      \n",
              "  <style>\n",
              "    .colab-df-container {\n",
              "      display:flex;\n",
              "      flex-wrap:wrap;\n",
              "      gap: 12px;\n",
              "    }\n",
              "\n",
              "    .colab-df-convert {\n",
              "      background-color: #E8F0FE;\n",
              "      border: none;\n",
              "      border-radius: 50%;\n",
              "      cursor: pointer;\n",
              "      display: none;\n",
              "      fill: #1967D2;\n",
              "      height: 32px;\n",
              "      padding: 0 0 0 0;\n",
              "      width: 32px;\n",
              "    }\n",
              "\n",
              "    .colab-df-convert:hover {\n",
              "      background-color: #E2EBFA;\n",
              "      box-shadow: 0px 1px 2px rgba(60, 64, 67, 0.3), 0px 1px 3px 1px rgba(60, 64, 67, 0.15);\n",
              "      fill: #174EA6;\n",
              "    }\n",
              "\n",
              "    [theme=dark] .colab-df-convert {\n",
              "      background-color: #3B4455;\n",
              "      fill: #D2E3FC;\n",
              "    }\n",
              "\n",
              "    [theme=dark] .colab-df-convert:hover {\n",
              "      background-color: #434B5C;\n",
              "      box-shadow: 0px 1px 3px 1px rgba(0, 0, 0, 0.15);\n",
              "      filter: drop-shadow(0px 1px 2px rgba(0, 0, 0, 0.3));\n",
              "      fill: #FFFFFF;\n",
              "    }\n",
              "  </style>\n",
              "\n",
              "      <script>\n",
              "        const buttonEl =\n",
              "          document.querySelector('#df-14a7c14f-dfd3-40a8-9ba8-b4a28b661bad button.colab-df-convert');\n",
              "        buttonEl.style.display =\n",
              "          google.colab.kernel.accessAllowed ? 'block' : 'none';\n",
              "\n",
              "        async function convertToInteractive(key) {\n",
              "          const element = document.querySelector('#df-14a7c14f-dfd3-40a8-9ba8-b4a28b661bad');\n",
              "          const dataTable =\n",
              "            await google.colab.kernel.invokeFunction('convertToInteractive',\n",
              "                                                     [key], {});\n",
              "          if (!dataTable) return;\n",
              "\n",
              "          const docLinkHtml = 'Like what you see? Visit the ' +\n",
              "            '<a target=\"_blank\" href=https://colab.research.google.com/notebooks/data_table.ipynb>data table notebook</a>'\n",
              "            + ' to learn more about interactive tables.';\n",
              "          element.innerHTML = '';\n",
              "          dataTable['output_type'] = 'display_data';\n",
              "          await google.colab.output.renderOutput(dataTable, element);\n",
              "          const docLink = document.createElement('div');\n",
              "          docLink.innerHTML = docLinkHtml;\n",
              "          element.appendChild(docLink);\n",
              "        }\n",
              "      </script>\n",
              "    </div>\n",
              "  </div>\n",
              "  "
            ],
            "text/plain": [
              "       SeniorCitizen       tenure  MonthlyCharges  TotalCharges\n",
              "count    7032.000000  7032.000000     7032.000000   7032.000000\n",
              "mean        0.162400    32.421786       64.798208   2283.300441\n",
              "std         0.368844    24.545260       30.085974   2266.771362\n",
              "min         0.000000     1.000000       18.250000     18.800000\n",
              "25%         0.000000     9.000000       35.587500    401.450000\n",
              "50%         0.000000    29.000000       70.350000   1397.475000\n",
              "75%         0.000000    55.000000       89.862500   3794.737500\n",
              "max         1.000000    72.000000      118.750000   8684.800000"
            ]
          },
          "metadata": {},
          "execution_count": 13
        }
      ]
    },
    {
      "cell_type": "markdown",
      "source": [
        "#### Preprocessing and Data Transformation \n",
        "Tranform categorical data to numerical data.  "
      ],
      "metadata": {
        "id": "jT3RMCtOkkot"
      }
    },
    {
      "cell_type": "code",
      "source": [
        "telcom_df = df1.copy()\n",
        "telcom_df.sample(3)"
      ],
      "metadata": {
        "colab": {
          "base_uri": "https://localhost:8080/",
          "height": 260
        },
        "id": "gGLmLzZ0kglZ",
        "outputId": "bd0c2799-2bfc-426c-831b-b7700aa705b9"
      },
      "execution_count": 14,
      "outputs": [
        {
          "output_type": "execute_result",
          "data": {
            "text/html": [
              "\n",
              "  <div id=\"df-f62d0c5a-366f-466b-96fd-3491c7ffd595\">\n",
              "    <div class=\"colab-df-container\">\n",
              "      <div>\n",
              "<style scoped>\n",
              "    .dataframe tbody tr th:only-of-type {\n",
              "        vertical-align: middle;\n",
              "    }\n",
              "\n",
              "    .dataframe tbody tr th {\n",
              "        vertical-align: top;\n",
              "    }\n",
              "\n",
              "    .dataframe thead th {\n",
              "        text-align: right;\n",
              "    }\n",
              "</style>\n",
              "<table border=\"1\" class=\"dataframe\">\n",
              "  <thead>\n",
              "    <tr style=\"text-align: right;\">\n",
              "      <th></th>\n",
              "      <th>gender</th>\n",
              "      <th>SeniorCitizen</th>\n",
              "      <th>Partner</th>\n",
              "      <th>Dependents</th>\n",
              "      <th>tenure</th>\n",
              "      <th>PhoneService</th>\n",
              "      <th>MultipleLines</th>\n",
              "      <th>InternetService</th>\n",
              "      <th>OnlineSecurity</th>\n",
              "      <th>OnlineBackup</th>\n",
              "      <th>DeviceProtection</th>\n",
              "      <th>TechSupport</th>\n",
              "      <th>StreamingTV</th>\n",
              "      <th>StreamingMovies</th>\n",
              "      <th>Contract</th>\n",
              "      <th>PaperlessBilling</th>\n",
              "      <th>PaymentMethod</th>\n",
              "      <th>MonthlyCharges</th>\n",
              "      <th>TotalCharges</th>\n",
              "      <th>Churn</th>\n",
              "    </tr>\n",
              "  </thead>\n",
              "  <tbody>\n",
              "    <tr>\n",
              "      <th>1460</th>\n",
              "      <td>Male</td>\n",
              "      <td>0</td>\n",
              "      <td>No</td>\n",
              "      <td>No</td>\n",
              "      <td>5</td>\n",
              "      <td>Yes</td>\n",
              "      <td>Yes</td>\n",
              "      <td>Fiber optic</td>\n",
              "      <td>No</td>\n",
              "      <td>Yes</td>\n",
              "      <td>Yes</td>\n",
              "      <td>No</td>\n",
              "      <td>No</td>\n",
              "      <td>No</td>\n",
              "      <td>Month-to-month</td>\n",
              "      <td>Yes</td>\n",
              "      <td>Electronic check</td>\n",
              "      <td>85.30</td>\n",
              "      <td>424.15</td>\n",
              "      <td>Yes</td>\n",
              "    </tr>\n",
              "    <tr>\n",
              "      <th>6150</th>\n",
              "      <td>Male</td>\n",
              "      <td>0</td>\n",
              "      <td>No</td>\n",
              "      <td>No</td>\n",
              "      <td>32</td>\n",
              "      <td>Yes</td>\n",
              "      <td>No</td>\n",
              "      <td>Fiber optic</td>\n",
              "      <td>No</td>\n",
              "      <td>No</td>\n",
              "      <td>No</td>\n",
              "      <td>No</td>\n",
              "      <td>Yes</td>\n",
              "      <td>Yes</td>\n",
              "      <td>Month-to-month</td>\n",
              "      <td>No</td>\n",
              "      <td>Electronic check</td>\n",
              "      <td>91.05</td>\n",
              "      <td>2871.50</td>\n",
              "      <td>No</td>\n",
              "    </tr>\n",
              "    <tr>\n",
              "      <th>602</th>\n",
              "      <td>Female</td>\n",
              "      <td>0</td>\n",
              "      <td>Yes</td>\n",
              "      <td>Yes</td>\n",
              "      <td>66</td>\n",
              "      <td>Yes</td>\n",
              "      <td>Yes</td>\n",
              "      <td>Fiber optic</td>\n",
              "      <td>No</td>\n",
              "      <td>No</td>\n",
              "      <td>No</td>\n",
              "      <td>No</td>\n",
              "      <td>No</td>\n",
              "      <td>No</td>\n",
              "      <td>One year</td>\n",
              "      <td>Yes</td>\n",
              "      <td>Bank transfer (automatic)</td>\n",
              "      <td>74.25</td>\n",
              "      <td>4859.25</td>\n",
              "      <td>No</td>\n",
              "    </tr>\n",
              "  </tbody>\n",
              "</table>\n",
              "</div>\n",
              "      <button class=\"colab-df-convert\" onclick=\"convertToInteractive('df-f62d0c5a-366f-466b-96fd-3491c7ffd595')\"\n",
              "              title=\"Convert this dataframe to an interactive table.\"\n",
              "              style=\"display:none;\">\n",
              "        \n",
              "  <svg xmlns=\"http://www.w3.org/2000/svg\" height=\"24px\"viewBox=\"0 0 24 24\"\n",
              "       width=\"24px\">\n",
              "    <path d=\"M0 0h24v24H0V0z\" fill=\"none\"/>\n",
              "    <path d=\"M18.56 5.44l.94 2.06.94-2.06 2.06-.94-2.06-.94-.94-2.06-.94 2.06-2.06.94zm-11 1L8.5 8.5l.94-2.06 2.06-.94-2.06-.94L8.5 2.5l-.94 2.06-2.06.94zm10 10l.94 2.06.94-2.06 2.06-.94-2.06-.94-.94-2.06-.94 2.06-2.06.94z\"/><path d=\"M17.41 7.96l-1.37-1.37c-.4-.4-.92-.59-1.43-.59-.52 0-1.04.2-1.43.59L10.3 9.45l-7.72 7.72c-.78.78-.78 2.05 0 2.83L4 21.41c.39.39.9.59 1.41.59.51 0 1.02-.2 1.41-.59l7.78-7.78 2.81-2.81c.8-.78.8-2.07 0-2.86zM5.41 20L4 18.59l7.72-7.72 1.47 1.35L5.41 20z\"/>\n",
              "  </svg>\n",
              "      </button>\n",
              "      \n",
              "  <style>\n",
              "    .colab-df-container {\n",
              "      display:flex;\n",
              "      flex-wrap:wrap;\n",
              "      gap: 12px;\n",
              "    }\n",
              "\n",
              "    .colab-df-convert {\n",
              "      background-color: #E8F0FE;\n",
              "      border: none;\n",
              "      border-radius: 50%;\n",
              "      cursor: pointer;\n",
              "      display: none;\n",
              "      fill: #1967D2;\n",
              "      height: 32px;\n",
              "      padding: 0 0 0 0;\n",
              "      width: 32px;\n",
              "    }\n",
              "\n",
              "    .colab-df-convert:hover {\n",
              "      background-color: #E2EBFA;\n",
              "      box-shadow: 0px 1px 2px rgba(60, 64, 67, 0.3), 0px 1px 3px 1px rgba(60, 64, 67, 0.15);\n",
              "      fill: #174EA6;\n",
              "    }\n",
              "\n",
              "    [theme=dark] .colab-df-convert {\n",
              "      background-color: #3B4455;\n",
              "      fill: #D2E3FC;\n",
              "    }\n",
              "\n",
              "    [theme=dark] .colab-df-convert:hover {\n",
              "      background-color: #434B5C;\n",
              "      box-shadow: 0px 1px 3px 1px rgba(0, 0, 0, 0.15);\n",
              "      filter: drop-shadow(0px 1px 2px rgba(0, 0, 0, 0.3));\n",
              "      fill: #FFFFFF;\n",
              "    }\n",
              "  </style>\n",
              "\n",
              "      <script>\n",
              "        const buttonEl =\n",
              "          document.querySelector('#df-f62d0c5a-366f-466b-96fd-3491c7ffd595 button.colab-df-convert');\n",
              "        buttonEl.style.display =\n",
              "          google.colab.kernel.accessAllowed ? 'block' : 'none';\n",
              "\n",
              "        async function convertToInteractive(key) {\n",
              "          const element = document.querySelector('#df-f62d0c5a-366f-466b-96fd-3491c7ffd595');\n",
              "          const dataTable =\n",
              "            await google.colab.kernel.invokeFunction('convertToInteractive',\n",
              "                                                     [key], {});\n",
              "          if (!dataTable) return;\n",
              "\n",
              "          const docLinkHtml = 'Like what you see? Visit the ' +\n",
              "            '<a target=\"_blank\" href=https://colab.research.google.com/notebooks/data_table.ipynb>data table notebook</a>'\n",
              "            + ' to learn more about interactive tables.';\n",
              "          element.innerHTML = '';\n",
              "          dataTable['output_type'] = 'display_data';\n",
              "          await google.colab.output.renderOutput(dataTable, element);\n",
              "          const docLink = document.createElement('div');\n",
              "          docLink.innerHTML = docLinkHtml;\n",
              "          element.appendChild(docLink);\n",
              "        }\n",
              "      </script>\n",
              "    </div>\n",
              "  </div>\n",
              "  "
            ],
            "text/plain": [
              "      gender  SeniorCitizen Partner  ... MonthlyCharges  TotalCharges Churn\n",
              "1460    Male              0      No  ...          85.30        424.15   Yes\n",
              "6150    Male              0      No  ...          91.05       2871.50    No\n",
              "602   Female              0     Yes  ...          74.25       4859.25    No\n",
              "\n",
              "[3 rows x 20 columns]"
            ]
          },
          "metadata": {},
          "execution_count": 14
        }
      ]
    },
    {
      "cell_type": "code",
      "source": [
        "# unique values of categorical features\n",
        "def print_unique_cols(df):\n",
        "    for col in df.columns:\n",
        "        if df[col].dtypes=='O':\n",
        "            print(f'{col} = {df[col].unique()}')"
      ],
      "metadata": {
        "id": "B1nzHbwEkmPw"
      },
      "execution_count": 15,
      "outputs": []
    },
    {
      "cell_type": "code",
      "source": [
        "print_unique_cols(telcom_df)"
      ],
      "metadata": {
        "colab": {
          "base_uri": "https://localhost:8080/"
        },
        "id": "OD-X1yq9kq8y",
        "outputId": "9048ca71-7cf2-4fc4-d74d-385e652417da"
      },
      "execution_count": 16,
      "outputs": [
        {
          "output_type": "stream",
          "name": "stdout",
          "text": [
            "gender = ['Female' 'Male']\n",
            "Partner = ['Yes' 'No']\n",
            "Dependents = ['No' 'Yes']\n",
            "PhoneService = ['No' 'Yes']\n",
            "MultipleLines = ['No phone service' 'No' 'Yes']\n",
            "InternetService = ['DSL' 'Fiber optic' 'No']\n",
            "OnlineSecurity = ['No' 'Yes' 'No internet service']\n",
            "OnlineBackup = ['Yes' 'No' 'No internet service']\n",
            "DeviceProtection = ['No' 'Yes' 'No internet service']\n",
            "TechSupport = ['No' 'Yes' 'No internet service']\n",
            "StreamingTV = ['No' 'Yes' 'No internet service']\n",
            "StreamingMovies = ['No' 'Yes' 'No internet service']\n",
            "Contract = ['Month-to-month' 'One year' 'Two year']\n",
            "PaperlessBilling = ['Yes' 'No']\n",
            "PaymentMethod = ['Electronic check' 'Mailed check' 'Bank transfer (automatic)'\n",
            " 'Credit card (automatic)']\n",
            "Churn = ['No' 'Yes']\n"
          ]
        }
      ]
    },
    {
      "cell_type": "markdown",
      "source": [
        "## Encoding\n",
        "\n",
        "#### Convert binary features to 0 and 1.     Female = 0, Male = 1;  No = 0, Yes = 1;"
      ],
      "metadata": {
        "id": "QS8fygoSkzRJ"
      }
    },
    {
      "cell_type": "code",
      "source": [
        "telcom_df.gender.replace({'Female':0,'Male':1},inplace=True)\n",
        "bicols = ['Partner','Dependents','PhoneService','PaperlessBilling','Churn']\n",
        "for c in bicols:\n",
        "    telcom_df[c].replace({'Yes':1,'No':0}, inplace= True)"
      ],
      "metadata": {
        "id": "SCOzQvVEkmTG"
      },
      "execution_count": 17,
      "outputs": []
    },
    {
      "cell_type": "code",
      "source": [
        "for c in telcom_df.columns:\n",
        "    print(f'{c} = {telcom_df[c].unique()}')"
      ],
      "metadata": {
        "colab": {
          "base_uri": "https://localhost:8080/"
        },
        "id": "moXFPOOalGj9",
        "outputId": "df37536e-1b03-4672-8f2e-d459c2a4155e"
      },
      "execution_count": 18,
      "outputs": [
        {
          "output_type": "stream",
          "name": "stdout",
          "text": [
            "gender = [0 1]\n",
            "SeniorCitizen = [0 1]\n",
            "Partner = [1 0]\n",
            "Dependents = [0 1]\n",
            "tenure = [ 1 34  2 45  8 22 10 28 62 13 16 58 49 25 69 52 71 21 12 30 47 72 17 27\n",
            "  5 46 11 70 63 43 15 60 18 66  9  3 31 50 64 56  7 42 35 48 29 65 38 68\n",
            " 32 55 37 36 41  6  4 33 67 23 57 61 14 20 53 40 59 24 44 19 54 51 26 39]\n",
            "PhoneService = [0 1]\n",
            "MultipleLines = ['No phone service' 'No' 'Yes']\n",
            "InternetService = ['DSL' 'Fiber optic' 'No']\n",
            "OnlineSecurity = ['No' 'Yes' 'No internet service']\n",
            "OnlineBackup = ['Yes' 'No' 'No internet service']\n",
            "DeviceProtection = ['No' 'Yes' 'No internet service']\n",
            "TechSupport = ['No' 'Yes' 'No internet service']\n",
            "StreamingTV = ['No' 'Yes' 'No internet service']\n",
            "StreamingMovies = ['No' 'Yes' 'No internet service']\n",
            "Contract = ['Month-to-month' 'One year' 'Two year']\n",
            "PaperlessBilling = [1 0]\n",
            "PaymentMethod = ['Electronic check' 'Mailed check' 'Bank transfer (automatic)'\n",
            " 'Credit card (automatic)']\n",
            "MonthlyCharges = [29.85 56.95 53.85 ... 63.1  44.2  78.7 ]\n",
            "TotalCharges = [  29.85 1889.5   108.15 ...  346.45  306.6  6844.5 ]\n",
            "Churn = [0 1]\n"
          ]
        }
      ]
    },
    {
      "cell_type": "markdown",
      "source": [
        "#### Convert multi-categorical feature to one hot encoding.  "
      ],
      "metadata": {
        "id": "FU9gaxs1lLkU"
      }
    },
    {
      "cell_type": "code",
      "source": [
        "print_unique_cols(telcom_df)"
      ],
      "metadata": {
        "colab": {
          "base_uri": "https://localhost:8080/"
        },
        "id": "uC4hEYMSk4a0",
        "outputId": "6686e514-12ef-4118-d2c6-c2f9ef978b01"
      },
      "execution_count": 19,
      "outputs": [
        {
          "output_type": "stream",
          "name": "stdout",
          "text": [
            "MultipleLines = ['No phone service' 'No' 'Yes']\n",
            "InternetService = ['DSL' 'Fiber optic' 'No']\n",
            "OnlineSecurity = ['No' 'Yes' 'No internet service']\n",
            "OnlineBackup = ['Yes' 'No' 'No internet service']\n",
            "DeviceProtection = ['No' 'Yes' 'No internet service']\n",
            "TechSupport = ['No' 'Yes' 'No internet service']\n",
            "StreamingTV = ['No' 'Yes' 'No internet service']\n",
            "StreamingMovies = ['No' 'Yes' 'No internet service']\n",
            "Contract = ['Month-to-month' 'One year' 'Two year']\n",
            "PaymentMethod = ['Electronic check' 'Mailed check' 'Bank transfer (automatic)'\n",
            " 'Credit card (automatic)']\n"
          ]
        }
      ]
    },
    {
      "cell_type": "code",
      "source": [
        "cat_col = ['MultipleLines','InternetService','OnlineSecurity','OnlineBackup',\n",
        "           'DeviceProtection','TechSupport','StreamingTV','StreamingMovies',\n",
        "           'Contract','PaymentMethod']\n",
        "telcom_df = pd.get_dummies(data=telcom_df,columns=cat_col,drop_first=True)\n",
        "telcom_df.sample(3)"
      ],
      "metadata": {
        "colab": {
          "base_uri": "https://localhost:8080/",
          "height": 242
        },
        "id": "TA2WlEWrlM10",
        "outputId": "4ed7d290-167e-4f93-b7d3-52d7399824c5"
      },
      "execution_count": 20,
      "outputs": [
        {
          "output_type": "execute_result",
          "data": {
            "text/html": [
              "\n",
              "  <div id=\"df-cd39abbf-dae7-4c5a-a9cf-5120ff24c611\">\n",
              "    <div class=\"colab-df-container\">\n",
              "      <div>\n",
              "<style scoped>\n",
              "    .dataframe tbody tr th:only-of-type {\n",
              "        vertical-align: middle;\n",
              "    }\n",
              "\n",
              "    .dataframe tbody tr th {\n",
              "        vertical-align: top;\n",
              "    }\n",
              "\n",
              "    .dataframe thead th {\n",
              "        text-align: right;\n",
              "    }\n",
              "</style>\n",
              "<table border=\"1\" class=\"dataframe\">\n",
              "  <thead>\n",
              "    <tr style=\"text-align: right;\">\n",
              "      <th></th>\n",
              "      <th>gender</th>\n",
              "      <th>SeniorCitizen</th>\n",
              "      <th>Partner</th>\n",
              "      <th>Dependents</th>\n",
              "      <th>tenure</th>\n",
              "      <th>PhoneService</th>\n",
              "      <th>PaperlessBilling</th>\n",
              "      <th>MonthlyCharges</th>\n",
              "      <th>TotalCharges</th>\n",
              "      <th>Churn</th>\n",
              "      <th>MultipleLines_No phone service</th>\n",
              "      <th>MultipleLines_Yes</th>\n",
              "      <th>InternetService_Fiber optic</th>\n",
              "      <th>InternetService_No</th>\n",
              "      <th>OnlineSecurity_No internet service</th>\n",
              "      <th>OnlineSecurity_Yes</th>\n",
              "      <th>OnlineBackup_No internet service</th>\n",
              "      <th>OnlineBackup_Yes</th>\n",
              "      <th>DeviceProtection_No internet service</th>\n",
              "      <th>DeviceProtection_Yes</th>\n",
              "      <th>TechSupport_No internet service</th>\n",
              "      <th>TechSupport_Yes</th>\n",
              "      <th>StreamingTV_No internet service</th>\n",
              "      <th>StreamingTV_Yes</th>\n",
              "      <th>StreamingMovies_No internet service</th>\n",
              "      <th>StreamingMovies_Yes</th>\n",
              "      <th>Contract_One year</th>\n",
              "      <th>Contract_Two year</th>\n",
              "      <th>PaymentMethod_Credit card (automatic)</th>\n",
              "      <th>PaymentMethod_Electronic check</th>\n",
              "      <th>PaymentMethod_Mailed check</th>\n",
              "    </tr>\n",
              "  </thead>\n",
              "  <tbody>\n",
              "    <tr>\n",
              "      <th>4421</th>\n",
              "      <td>1</td>\n",
              "      <td>0</td>\n",
              "      <td>1</td>\n",
              "      <td>0</td>\n",
              "      <td>34</td>\n",
              "      <td>1</td>\n",
              "      <td>0</td>\n",
              "      <td>88.85</td>\n",
              "      <td>3000.25</td>\n",
              "      <td>0</td>\n",
              "      <td>0</td>\n",
              "      <td>1</td>\n",
              "      <td>1</td>\n",
              "      <td>0</td>\n",
              "      <td>0</td>\n",
              "      <td>0</td>\n",
              "      <td>0</td>\n",
              "      <td>1</td>\n",
              "      <td>0</td>\n",
              "      <td>0</td>\n",
              "      <td>0</td>\n",
              "      <td>0</td>\n",
              "      <td>0</td>\n",
              "      <td>0</td>\n",
              "      <td>0</td>\n",
              "      <td>1</td>\n",
              "      <td>0</td>\n",
              "      <td>0</td>\n",
              "      <td>0</td>\n",
              "      <td>0</td>\n",
              "      <td>1</td>\n",
              "    </tr>\n",
              "    <tr>\n",
              "      <th>5466</th>\n",
              "      <td>1</td>\n",
              "      <td>0</td>\n",
              "      <td>0</td>\n",
              "      <td>1</td>\n",
              "      <td>10</td>\n",
              "      <td>1</td>\n",
              "      <td>1</td>\n",
              "      <td>19.95</td>\n",
              "      <td>219.50</td>\n",
              "      <td>0</td>\n",
              "      <td>0</td>\n",
              "      <td>0</td>\n",
              "      <td>0</td>\n",
              "      <td>1</td>\n",
              "      <td>1</td>\n",
              "      <td>0</td>\n",
              "      <td>1</td>\n",
              "      <td>0</td>\n",
              "      <td>1</td>\n",
              "      <td>0</td>\n",
              "      <td>1</td>\n",
              "      <td>0</td>\n",
              "      <td>1</td>\n",
              "      <td>0</td>\n",
              "      <td>1</td>\n",
              "      <td>0</td>\n",
              "      <td>1</td>\n",
              "      <td>0</td>\n",
              "      <td>0</td>\n",
              "      <td>0</td>\n",
              "      <td>0</td>\n",
              "    </tr>\n",
              "    <tr>\n",
              "      <th>1035</th>\n",
              "      <td>1</td>\n",
              "      <td>0</td>\n",
              "      <td>0</td>\n",
              "      <td>0</td>\n",
              "      <td>66</td>\n",
              "      <td>1</td>\n",
              "      <td>0</td>\n",
              "      <td>25.10</td>\n",
              "      <td>1697.70</td>\n",
              "      <td>0</td>\n",
              "      <td>0</td>\n",
              "      <td>1</td>\n",
              "      <td>0</td>\n",
              "      <td>1</td>\n",
              "      <td>1</td>\n",
              "      <td>0</td>\n",
              "      <td>1</td>\n",
              "      <td>0</td>\n",
              "      <td>1</td>\n",
              "      <td>0</td>\n",
              "      <td>1</td>\n",
              "      <td>0</td>\n",
              "      <td>1</td>\n",
              "      <td>0</td>\n",
              "      <td>1</td>\n",
              "      <td>0</td>\n",
              "      <td>0</td>\n",
              "      <td>1</td>\n",
              "      <td>0</td>\n",
              "      <td>0</td>\n",
              "      <td>1</td>\n",
              "    </tr>\n",
              "  </tbody>\n",
              "</table>\n",
              "</div>\n",
              "      <button class=\"colab-df-convert\" onclick=\"convertToInteractive('df-cd39abbf-dae7-4c5a-a9cf-5120ff24c611')\"\n",
              "              title=\"Convert this dataframe to an interactive table.\"\n",
              "              style=\"display:none;\">\n",
              "        \n",
              "  <svg xmlns=\"http://www.w3.org/2000/svg\" height=\"24px\"viewBox=\"0 0 24 24\"\n",
              "       width=\"24px\">\n",
              "    <path d=\"M0 0h24v24H0V0z\" fill=\"none\"/>\n",
              "    <path d=\"M18.56 5.44l.94 2.06.94-2.06 2.06-.94-2.06-.94-.94-2.06-.94 2.06-2.06.94zm-11 1L8.5 8.5l.94-2.06 2.06-.94-2.06-.94L8.5 2.5l-.94 2.06-2.06.94zm10 10l.94 2.06.94-2.06 2.06-.94-2.06-.94-.94-2.06-.94 2.06-2.06.94z\"/><path d=\"M17.41 7.96l-1.37-1.37c-.4-.4-.92-.59-1.43-.59-.52 0-1.04.2-1.43.59L10.3 9.45l-7.72 7.72c-.78.78-.78 2.05 0 2.83L4 21.41c.39.39.9.59 1.41.59.51 0 1.02-.2 1.41-.59l7.78-7.78 2.81-2.81c.8-.78.8-2.07 0-2.86zM5.41 20L4 18.59l7.72-7.72 1.47 1.35L5.41 20z\"/>\n",
              "  </svg>\n",
              "      </button>\n",
              "      \n",
              "  <style>\n",
              "    .colab-df-container {\n",
              "      display:flex;\n",
              "      flex-wrap:wrap;\n",
              "      gap: 12px;\n",
              "    }\n",
              "\n",
              "    .colab-df-convert {\n",
              "      background-color: #E8F0FE;\n",
              "      border: none;\n",
              "      border-radius: 50%;\n",
              "      cursor: pointer;\n",
              "      display: none;\n",
              "      fill: #1967D2;\n",
              "      height: 32px;\n",
              "      padding: 0 0 0 0;\n",
              "      width: 32px;\n",
              "    }\n",
              "\n",
              "    .colab-df-convert:hover {\n",
              "      background-color: #E2EBFA;\n",
              "      box-shadow: 0px 1px 2px rgba(60, 64, 67, 0.3), 0px 1px 3px 1px rgba(60, 64, 67, 0.15);\n",
              "      fill: #174EA6;\n",
              "    }\n",
              "\n",
              "    [theme=dark] .colab-df-convert {\n",
              "      background-color: #3B4455;\n",
              "      fill: #D2E3FC;\n",
              "    }\n",
              "\n",
              "    [theme=dark] .colab-df-convert:hover {\n",
              "      background-color: #434B5C;\n",
              "      box-shadow: 0px 1px 3px 1px rgba(0, 0, 0, 0.15);\n",
              "      filter: drop-shadow(0px 1px 2px rgba(0, 0, 0, 0.3));\n",
              "      fill: #FFFFFF;\n",
              "    }\n",
              "  </style>\n",
              "\n",
              "      <script>\n",
              "        const buttonEl =\n",
              "          document.querySelector('#df-cd39abbf-dae7-4c5a-a9cf-5120ff24c611 button.colab-df-convert');\n",
              "        buttonEl.style.display =\n",
              "          google.colab.kernel.accessAllowed ? 'block' : 'none';\n",
              "\n",
              "        async function convertToInteractive(key) {\n",
              "          const element = document.querySelector('#df-cd39abbf-dae7-4c5a-a9cf-5120ff24c611');\n",
              "          const dataTable =\n",
              "            await google.colab.kernel.invokeFunction('convertToInteractive',\n",
              "                                                     [key], {});\n",
              "          if (!dataTable) return;\n",
              "\n",
              "          const docLinkHtml = 'Like what you see? Visit the ' +\n",
              "            '<a target=\"_blank\" href=https://colab.research.google.com/notebooks/data_table.ipynb>data table notebook</a>'\n",
              "            + ' to learn more about interactive tables.';\n",
              "          element.innerHTML = '';\n",
              "          dataTable['output_type'] = 'display_data';\n",
              "          await google.colab.output.renderOutput(dataTable, element);\n",
              "          const docLink = document.createElement('div');\n",
              "          docLink.innerHTML = docLinkHtml;\n",
              "          element.appendChild(docLink);\n",
              "        }\n",
              "      </script>\n",
              "    </div>\n",
              "  </div>\n",
              "  "
            ],
            "text/plain": [
              "      gender  ...  PaymentMethod_Mailed check\n",
              "4421       1  ...                           1\n",
              "5466       1  ...                           0\n",
              "1035       1  ...                           1\n",
              "\n",
              "[3 rows x 31 columns]"
            ]
          },
          "metadata": {},
          "execution_count": 20
        }
      ]
    },
    {
      "cell_type": "code",
      "source": [
        "telcom_df.nunique()"
      ],
      "metadata": {
        "colab": {
          "base_uri": "https://localhost:8080/"
        },
        "id": "5vwbCgQ1lRKy",
        "outputId": "831b47d7-3000-41c9-d118-d1b0335c3a57"
      },
      "execution_count": 21,
      "outputs": [
        {
          "output_type": "execute_result",
          "data": {
            "text/plain": [
              "gender                                      2\n",
              "SeniorCitizen                               2\n",
              "Partner                                     2\n",
              "Dependents                                  2\n",
              "tenure                                     72\n",
              "PhoneService                                2\n",
              "PaperlessBilling                            2\n",
              "MonthlyCharges                           1584\n",
              "TotalCharges                             6530\n",
              "Churn                                       2\n",
              "MultipleLines_No phone service              2\n",
              "MultipleLines_Yes                           2\n",
              "InternetService_Fiber optic                 2\n",
              "InternetService_No                          2\n",
              "OnlineSecurity_No internet service          2\n",
              "OnlineSecurity_Yes                          2\n",
              "OnlineBackup_No internet service            2\n",
              "OnlineBackup_Yes                            2\n",
              "DeviceProtection_No internet service        2\n",
              "DeviceProtection_Yes                        2\n",
              "TechSupport_No internet service             2\n",
              "TechSupport_Yes                             2\n",
              "StreamingTV_No internet service             2\n",
              "StreamingTV_Yes                             2\n",
              "StreamingMovies_No internet service         2\n",
              "StreamingMovies_Yes                         2\n",
              "Contract_One year                           2\n",
              "Contract_Two year                           2\n",
              "PaymentMethod_Credit card (automatic)       2\n",
              "PaymentMethod_Electronic check              2\n",
              "PaymentMethod_Mailed check                  2\n",
              "dtype: int64"
            ]
          },
          "metadata": {},
          "execution_count": 21
        }
      ]
    },
    {
      "cell_type": "markdown",
      "source": [
        "#### Scale numeric features to range between 0 and 1.  "
      ],
      "metadata": {
        "id": "lXoF0_8PlYWW"
      }
    },
    {
      "cell_type": "code",
      "source": [
        "scale_col = ['tenure','MonthlyCharges','TotalCharges']\n",
        "\n",
        "sc = MinMaxScaler()\n",
        "telcom_df[scale_col]= sc.fit_transform(telcom_df[scale_col])\n",
        "telcom_df.sample(3)"
      ],
      "metadata": {
        "colab": {
          "base_uri": "https://localhost:8080/",
          "height": 242
        },
        "id": "Y9MNS0EDlUuf",
        "outputId": "18eac101-1ab0-44e1-9503-73161418d339"
      },
      "execution_count": 22,
      "outputs": [
        {
          "output_type": "execute_result",
          "data": {
            "text/html": [
              "\n",
              "  <div id=\"df-492ffed9-4694-4228-9f8b-a5358a477b6e\">\n",
              "    <div class=\"colab-df-container\">\n",
              "      <div>\n",
              "<style scoped>\n",
              "    .dataframe tbody tr th:only-of-type {\n",
              "        vertical-align: middle;\n",
              "    }\n",
              "\n",
              "    .dataframe tbody tr th {\n",
              "        vertical-align: top;\n",
              "    }\n",
              "\n",
              "    .dataframe thead th {\n",
              "        text-align: right;\n",
              "    }\n",
              "</style>\n",
              "<table border=\"1\" class=\"dataframe\">\n",
              "  <thead>\n",
              "    <tr style=\"text-align: right;\">\n",
              "      <th></th>\n",
              "      <th>gender</th>\n",
              "      <th>SeniorCitizen</th>\n",
              "      <th>Partner</th>\n",
              "      <th>Dependents</th>\n",
              "      <th>tenure</th>\n",
              "      <th>PhoneService</th>\n",
              "      <th>PaperlessBilling</th>\n",
              "      <th>MonthlyCharges</th>\n",
              "      <th>TotalCharges</th>\n",
              "      <th>Churn</th>\n",
              "      <th>MultipleLines_No phone service</th>\n",
              "      <th>MultipleLines_Yes</th>\n",
              "      <th>InternetService_Fiber optic</th>\n",
              "      <th>InternetService_No</th>\n",
              "      <th>OnlineSecurity_No internet service</th>\n",
              "      <th>OnlineSecurity_Yes</th>\n",
              "      <th>OnlineBackup_No internet service</th>\n",
              "      <th>OnlineBackup_Yes</th>\n",
              "      <th>DeviceProtection_No internet service</th>\n",
              "      <th>DeviceProtection_Yes</th>\n",
              "      <th>TechSupport_No internet service</th>\n",
              "      <th>TechSupport_Yes</th>\n",
              "      <th>StreamingTV_No internet service</th>\n",
              "      <th>StreamingTV_Yes</th>\n",
              "      <th>StreamingMovies_No internet service</th>\n",
              "      <th>StreamingMovies_Yes</th>\n",
              "      <th>Contract_One year</th>\n",
              "      <th>Contract_Two year</th>\n",
              "      <th>PaymentMethod_Credit card (automatic)</th>\n",
              "      <th>PaymentMethod_Electronic check</th>\n",
              "      <th>PaymentMethod_Mailed check</th>\n",
              "    </tr>\n",
              "  </thead>\n",
              "  <tbody>\n",
              "    <tr>\n",
              "      <th>5098</th>\n",
              "      <td>1</td>\n",
              "      <td>1</td>\n",
              "      <td>0</td>\n",
              "      <td>0</td>\n",
              "      <td>0.028169</td>\n",
              "      <td>1</td>\n",
              "      <td>1</td>\n",
              "      <td>0.584577</td>\n",
              "      <td>0.025265</td>\n",
              "      <td>1</td>\n",
              "      <td>0</td>\n",
              "      <td>1</td>\n",
              "      <td>1</td>\n",
              "      <td>0</td>\n",
              "      <td>0</td>\n",
              "      <td>0</td>\n",
              "      <td>0</td>\n",
              "      <td>0</td>\n",
              "      <td>0</td>\n",
              "      <td>0</td>\n",
              "      <td>0</td>\n",
              "      <td>0</td>\n",
              "      <td>0</td>\n",
              "      <td>0</td>\n",
              "      <td>0</td>\n",
              "      <td>0</td>\n",
              "      <td>0</td>\n",
              "      <td>0</td>\n",
              "      <td>0</td>\n",
              "      <td>1</td>\n",
              "      <td>0</td>\n",
              "    </tr>\n",
              "    <tr>\n",
              "      <th>4866</th>\n",
              "      <td>0</td>\n",
              "      <td>0</td>\n",
              "      <td>0</td>\n",
              "      <td>0</td>\n",
              "      <td>0.211268</td>\n",
              "      <td>1</td>\n",
              "      <td>1</td>\n",
              "      <td>0.445771</td>\n",
              "      <td>0.120961</td>\n",
              "      <td>0</td>\n",
              "      <td>0</td>\n",
              "      <td>1</td>\n",
              "      <td>0</td>\n",
              "      <td>0</td>\n",
              "      <td>0</td>\n",
              "      <td>0</td>\n",
              "      <td>0</td>\n",
              "      <td>0</td>\n",
              "      <td>0</td>\n",
              "      <td>0</td>\n",
              "      <td>0</td>\n",
              "      <td>0</td>\n",
              "      <td>0</td>\n",
              "      <td>0</td>\n",
              "      <td>0</td>\n",
              "      <td>1</td>\n",
              "      <td>0</td>\n",
              "      <td>0</td>\n",
              "      <td>0</td>\n",
              "      <td>0</td>\n",
              "      <td>0</td>\n",
              "    </tr>\n",
              "    <tr>\n",
              "      <th>133</th>\n",
              "      <td>1</td>\n",
              "      <td>0</td>\n",
              "      <td>0</td>\n",
              "      <td>0</td>\n",
              "      <td>0.000000</td>\n",
              "      <td>0</td>\n",
              "      <td>1</td>\n",
              "      <td>0.171144</td>\n",
              "      <td>0.001921</td>\n",
              "      <td>1</td>\n",
              "      <td>1</td>\n",
              "      <td>0</td>\n",
              "      <td>0</td>\n",
              "      <td>0</td>\n",
              "      <td>0</td>\n",
              "      <td>0</td>\n",
              "      <td>0</td>\n",
              "      <td>0</td>\n",
              "      <td>0</td>\n",
              "      <td>0</td>\n",
              "      <td>0</td>\n",
              "      <td>0</td>\n",
              "      <td>0</td>\n",
              "      <td>0</td>\n",
              "      <td>0</td>\n",
              "      <td>1</td>\n",
              "      <td>0</td>\n",
              "      <td>0</td>\n",
              "      <td>0</td>\n",
              "      <td>1</td>\n",
              "      <td>0</td>\n",
              "    </tr>\n",
              "  </tbody>\n",
              "</table>\n",
              "</div>\n",
              "      <button class=\"colab-df-convert\" onclick=\"convertToInteractive('df-492ffed9-4694-4228-9f8b-a5358a477b6e')\"\n",
              "              title=\"Convert this dataframe to an interactive table.\"\n",
              "              style=\"display:none;\">\n",
              "        \n",
              "  <svg xmlns=\"http://www.w3.org/2000/svg\" height=\"24px\"viewBox=\"0 0 24 24\"\n",
              "       width=\"24px\">\n",
              "    <path d=\"M0 0h24v24H0V0z\" fill=\"none\"/>\n",
              "    <path d=\"M18.56 5.44l.94 2.06.94-2.06 2.06-.94-2.06-.94-.94-2.06-.94 2.06-2.06.94zm-11 1L8.5 8.5l.94-2.06 2.06-.94-2.06-.94L8.5 2.5l-.94 2.06-2.06.94zm10 10l.94 2.06.94-2.06 2.06-.94-2.06-.94-.94-2.06-.94 2.06-2.06.94z\"/><path d=\"M17.41 7.96l-1.37-1.37c-.4-.4-.92-.59-1.43-.59-.52 0-1.04.2-1.43.59L10.3 9.45l-7.72 7.72c-.78.78-.78 2.05 0 2.83L4 21.41c.39.39.9.59 1.41.59.51 0 1.02-.2 1.41-.59l7.78-7.78 2.81-2.81c.8-.78.8-2.07 0-2.86zM5.41 20L4 18.59l7.72-7.72 1.47 1.35L5.41 20z\"/>\n",
              "  </svg>\n",
              "      </button>\n",
              "      \n",
              "  <style>\n",
              "    .colab-df-container {\n",
              "      display:flex;\n",
              "      flex-wrap:wrap;\n",
              "      gap: 12px;\n",
              "    }\n",
              "\n",
              "    .colab-df-convert {\n",
              "      background-color: #E8F0FE;\n",
              "      border: none;\n",
              "      border-radius: 50%;\n",
              "      cursor: pointer;\n",
              "      display: none;\n",
              "      fill: #1967D2;\n",
              "      height: 32px;\n",
              "      padding: 0 0 0 0;\n",
              "      width: 32px;\n",
              "    }\n",
              "\n",
              "    .colab-df-convert:hover {\n",
              "      background-color: #E2EBFA;\n",
              "      box-shadow: 0px 1px 2px rgba(60, 64, 67, 0.3), 0px 1px 3px 1px rgba(60, 64, 67, 0.15);\n",
              "      fill: #174EA6;\n",
              "    }\n",
              "\n",
              "    [theme=dark] .colab-df-convert {\n",
              "      background-color: #3B4455;\n",
              "      fill: #D2E3FC;\n",
              "    }\n",
              "\n",
              "    [theme=dark] .colab-df-convert:hover {\n",
              "      background-color: #434B5C;\n",
              "      box-shadow: 0px 1px 3px 1px rgba(0, 0, 0, 0.15);\n",
              "      filter: drop-shadow(0px 1px 2px rgba(0, 0, 0, 0.3));\n",
              "      fill: #FFFFFF;\n",
              "    }\n",
              "  </style>\n",
              "\n",
              "      <script>\n",
              "        const buttonEl =\n",
              "          document.querySelector('#df-492ffed9-4694-4228-9f8b-a5358a477b6e button.colab-df-convert');\n",
              "        buttonEl.style.display =\n",
              "          google.colab.kernel.accessAllowed ? 'block' : 'none';\n",
              "\n",
              "        async function convertToInteractive(key) {\n",
              "          const element = document.querySelector('#df-492ffed9-4694-4228-9f8b-a5358a477b6e');\n",
              "          const dataTable =\n",
              "            await google.colab.kernel.invokeFunction('convertToInteractive',\n",
              "                                                     [key], {});\n",
              "          if (!dataTable) return;\n",
              "\n",
              "          const docLinkHtml = 'Like what you see? Visit the ' +\n",
              "            '<a target=\"_blank\" href=https://colab.research.google.com/notebooks/data_table.ipynb>data table notebook</a>'\n",
              "            + ' to learn more about interactive tables.';\n",
              "          element.innerHTML = '';\n",
              "          dataTable['output_type'] = 'display_data';\n",
              "          await google.colab.output.renderOutput(dataTable, element);\n",
              "          const docLink = document.createElement('div');\n",
              "          docLink.innerHTML = docLinkHtml;\n",
              "          element.appendChild(docLink);\n",
              "        }\n",
              "      </script>\n",
              "    </div>\n",
              "  </div>\n",
              "  "
            ],
            "text/plain": [
              "      gender  ...  PaymentMethod_Mailed check\n",
              "5098       1  ...                           0\n",
              "4866       0  ...                           0\n",
              "133        1  ...                           0\n",
              "\n",
              "[3 rows x 31 columns]"
            ]
          },
          "metadata": {},
          "execution_count": 22
        }
      ]
    },
    {
      "cell_type": "markdown",
      "source": [
        "#### Split data to training and test set.  "
      ],
      "metadata": {
        "id": "saAV71s8lhVB"
      }
    },
    {
      "cell_type": "code",
      "source": [
        "# Assign input features to X and output to y.   \n",
        "X = telcom_df.drop(columns=['Churn'])\n",
        "y = telcom_df['Churn']"
      ],
      "metadata": {
        "id": "IaHIbFCAlbg_"
      },
      "execution_count": 23,
      "outputs": []
    },
    {
      "cell_type": "code",
      "source": [
        "# Split dataset into training and test sets. \n",
        "train_X,test_X,train_y,test_y = train_test_split(X,y,test_size=0.2,stratify=y,random_state=5)"
      ],
      "metadata": {
        "id": "V_eSInP5lbxF"
      },
      "execution_count": 24,
      "outputs": []
    },
    {
      "cell_type": "code",
      "source": [
        "print(f'training set: {train_X.shape} \\n {train_y.value_counts()}')\n",
        "print('-'*20)\n",
        "print(f'test set: {test_X.shape} \\n {test_y.value_counts()}')"
      ],
      "metadata": {
        "colab": {
          "base_uri": "https://localhost:8080/"
        },
        "id": "FEriGjm-l2wW",
        "outputId": "1eb980ea-c670-435a-b72e-79a493aa0370"
      },
      "execution_count": 25,
      "outputs": [
        {
          "output_type": "stream",
          "name": "stdout",
          "text": [
            "training set: (5625, 30) \n",
            " 0    4130\n",
            "1    1495\n",
            "Name: Churn, dtype: int64\n",
            "--------------------\n",
            "test set: (1407, 30) \n",
            " 0    1033\n",
            "1     374\n",
            "Name: Churn, dtype: int64\n"
          ]
        }
      ]
    },
    {
      "cell_type": "markdown",
      "source": [
        "### Upsampling method (SMOTE)\n",
        "\n",
        "When dealing with an imbalanced dataset, Synthetic Minority Oversampling TEchnique (SMOTE) method can be used to oversample the minority class. Simply adding duplicate records of minority class often don’t add any new information to the model. In SMOTE new instances are synthesized from the existing data. It randomly selects a point from the minority class and computes the k-nearest neighbors for this point. The synthetic points are then added between the chosen point and its neighbors.\n",
        "\n"
      ],
      "metadata": {
        "id": "up01qFCnl8ZJ"
      }
    },
    {
      "cell_type": "code",
      "source": [
        "from imblearn.over_sampling import SMOTE\n",
        "sm = SMOTE()\n",
        "train_X_re, train_y_re = sm.fit_resample(train_X, train_y)\n",
        "\n",
        "print('resampled class distribution\\n',train_y_re.value_counts())"
      ],
      "metadata": {
        "colab": {
          "base_uri": "https://localhost:8080/"
        },
        "id": "cEtaZki1l2z3",
        "outputId": "2474279c-b1b1-4635-ed94-50947c1cd895"
      },
      "execution_count": 26,
      "outputs": [
        {
          "output_type": "stream",
          "name": "stdout",
          "text": [
            "resampled class distribution\n",
            " 1    4130\n",
            "0    4130\n",
            "Name: Churn, dtype: int64\n"
          ]
        }
      ]
    },
    {
      "cell_type": "markdown",
      "source": [
        "### Evaluation: Confustion Matrix & Classification Report \n",
        "\n",
        "Confusion Matrix shows the correct and incorrect predictions for each class. In the first row, the first column indicates how many class 0 are predicted correctly, and the second row, second column, indicates how many class 1 are predicted correctly.  Therefore, the higher the diagonal values of the confusion matrix the better, indicating many correct predictions.\n",
        "\n",
        "A Classification report is used to measure the performance of the classifier prediction.  It shows the main classification metrics precision, recall and f1-score on a per-class basis. F1-score calculates the harmonic mean of the precision and recall.\n"
      ],
      "metadata": {
        "id": "VtQ8hvcpmDFh"
      }
    },
    {
      "cell_type": "code",
      "source": [
        "def test_eval(clf_model, testX, testy):\n",
        "    # Test set prediction\n",
        "    y_pred=clf_model.predict(testX)\n",
        "    y_predict = []\n",
        "    for p in y_pred:\n",
        "        if p > 0.5:\n",
        "            y_predict.append(1)\n",
        "        else:\n",
        "            y_predict.append(0)\n",
        "    print('Confusion Matrix')\n",
        "    print('='*20)\n",
        "    cm = confusion_matrix(testy,y_predict)\n",
        "    print(cm,\"\\n\")\n",
        "    print('Classification Report')\n",
        "    print('='*20)\n",
        "    print(classification_report(testy,y_predict))\n",
        "    cr = classification_report(testy,y_predict,output_dict=True)\n",
        "    score = roc_auc_score(testy, y_pred)\n",
        "\n",
        "    return cm,cr,score,y_predict"
      ],
      "metadata": {
        "id": "h4yuL7KRl7Av"
      },
      "execution_count": 27,
      "outputs": []
    },
    {
      "cell_type": "code",
      "source": [
        "def plot_cmatrix(cmatrix, name):\n",
        "    fig = px.imshow(cmatrix,color_continuous_scale=[[0.0, 'peachpuff'], \n",
        "                                          [0.5, 'lime'], \n",
        "                                          [1.0, 'green']])\n",
        "\n",
        "    fig.update_layout(\n",
        "        title = 'Confusion Matrix ('+name+')', title_x=0.5,\n",
        "        xaxis_title=\"Prediction\", yaxis_title=\"Truth\", \n",
        "        height=400,\n",
        "        width=400,\n",
        "        xaxis = dict(tickmode = 'linear', tick0 = 0, dtick = 1),\n",
        "        yaxis = dict(tickmode = 'linear', tick0 = 0, dtick = 1)\n",
        "    )\n",
        "    for i in range(len(cmatrix)):\n",
        "        for j in range(len(cmatrix[0])):\n",
        "            fig.add_annotation(\n",
        "                x=j,\n",
        "                y=i,\n",
        "                text=str(cmatrix[i,j]),\n",
        "                showarrow=False,\n",
        "                font_size=12, font_color='black'\n",
        "            )\n",
        "\n",
        "    fig.show()"
      ],
      "metadata": {
        "id": "m3PmlvACl7EC"
      },
      "execution_count": 28,
      "outputs": []
    },
    {
      "cell_type": "markdown",
      "source": [
        "## Linear Algorithms\n",
        "\n",
        "#### Churn Prediction using Logistic Regression"
      ],
      "metadata": {
        "id": "CzPDr3egmQru"
      }
    },
    {
      "cell_type": "code",
      "source": [
        "para_lr = {'C': [5,10,20], \"max_iter\":[200,400]} \n",
        "\n",
        "model_lr = GridSearchCV(estimator = LogisticRegression(),\n",
        "                    param_grid = para_lr,\n",
        "                    cv=10,\n",
        "                    verbose=0,\n",
        "                    n_jobs=-1\n",
        "                   )\n",
        "model_lr.fit(train_X_re,train_y_re)"
      ],
      "metadata": {
        "colab": {
          "base_uri": "https://localhost:8080/"
        },
        "id": "0VlFIg2wmIPi",
        "outputId": "a0fad759-ac83-461b-a34b-bc3e4d36b2d6"
      },
      "execution_count": 29,
      "outputs": [
        {
          "output_type": "execute_result",
          "data": {
            "text/plain": [
              "GridSearchCV(cv=10, estimator=LogisticRegression(), n_jobs=-1,\n",
              "             param_grid={'C': [5, 10, 20], 'max_iter': [200, 400]})"
            ]
          },
          "metadata": {},
          "execution_count": 29
        }
      ]
    },
    {
      "cell_type": "code",
      "source": [
        "model_lr.best_params_"
      ],
      "metadata": {
        "colab": {
          "base_uri": "https://localhost:8080/"
        },
        "id": "5t_C0laumYgh",
        "outputId": "2ebcab4e-fe86-41f4-ede3-471c013e247b"
      },
      "execution_count": 30,
      "outputs": [
        {
          "output_type": "execute_result",
          "data": {
            "text/plain": [
              "{'C': 20, 'max_iter': 200}"
            ]
          },
          "metadata": {},
          "execution_count": 30
        }
      ]
    },
    {
      "cell_type": "code",
      "source": [
        "cm_lr,cr_lr,auc_score_lr,_  = test_eval(model_lr,test_X,test_y)\n",
        "fpr_lr, tpr_lr, thresh_lr = roc_curve(test_y, model_lr.predict_proba(test_X)[:,1], pos_label = 1)\n",
        "precision_lr, recall_lr, _ = precision_recall_curve(test_y, model_lr.predict_proba(test_X)[:,1], pos_label=1)"
      ],
      "metadata": {
        "colab": {
          "base_uri": "https://localhost:8080/"
        },
        "id": "bOxso1jSmYjj",
        "outputId": "4ac7f54f-01ab-4b10-dde4-b7094f25692f"
      },
      "execution_count": 31,
      "outputs": [
        {
          "output_type": "stream",
          "name": "stdout",
          "text": [
            "Confusion Matrix\n",
            "====================\n",
            "[[803 230]\n",
            " [ 93 281]] \n",
            "\n",
            "Classification Report\n",
            "====================\n",
            "              precision    recall  f1-score   support\n",
            "\n",
            "           0       0.90      0.78      0.83      1033\n",
            "           1       0.55      0.75      0.64       374\n",
            "\n",
            "    accuracy                           0.77      1407\n",
            "   macro avg       0.72      0.76      0.73      1407\n",
            "weighted avg       0.80      0.77      0.78      1407\n",
            "\n"
          ]
        }
      ]
    },
    {
      "cell_type": "code",
      "source": [
        "plot_cmatrix(cm_lr, name='LR')"
      ],
      "metadata": {
        "colab": {
          "base_uri": "https://localhost:8080/",
          "height": 417
        },
        "id": "MnfUrGZNmISJ",
        "outputId": "5f05f545-ac09-4ff8-b9da-e8812d8ddd2b"
      },
      "execution_count": 32,
      "outputs": [
        {
          "output_type": "display_data",
          "data": {
            "text/html": [
              "<html>\n",
              "<head><meta charset=\"utf-8\" /></head>\n",
              "<body>\n",
              "    <div>\n",
              "            <script src=\"https://cdnjs.cloudflare.com/ajax/libs/mathjax/2.7.5/MathJax.js?config=TeX-AMS-MML_SVG\"></script><script type=\"text/javascript\">if (window.MathJax) {MathJax.Hub.Config({SVG: {font: \"STIX-Web\"}});}</script>\n",
              "                <script type=\"text/javascript\">window.PlotlyConfig = {MathJaxConfig: 'local'};</script>\n",
              "        <script src=\"https://cdn.plot.ly/plotly-latest.min.js\"></script>    \n",
              "            <div id=\"56683f04-f7c4-433b-bedf-192cf6728a13\" class=\"plotly-graph-div\" style=\"height:400px; width:400px;\"></div>\n",
              "            <script type=\"text/javascript\">\n",
              "                \n",
              "                    window.PLOTLYENV=window.PLOTLYENV || {};\n",
              "                    \n",
              "                if (document.getElementById(\"56683f04-f7c4-433b-bedf-192cf6728a13\")) {\n",
              "                    Plotly.newPlot(\n",
              "                        '56683f04-f7c4-433b-bedf-192cf6728a13',\n",
              "                        [{\"coloraxis\": \"coloraxis\", \"type\": \"heatmap\", \"z\": [[803, 230], [93, 281]]}],\n",
              "                        {\"annotations\": [{\"font\": {\"color\": \"black\", \"size\": 12}, \"showarrow\": false, \"text\": \"803\", \"x\": 0, \"y\": 0}, {\"font\": {\"color\": \"black\", \"size\": 12}, \"showarrow\": false, \"text\": \"230\", \"x\": 1, \"y\": 0}, {\"font\": {\"color\": \"black\", \"size\": 12}, \"showarrow\": false, \"text\": \"93\", \"x\": 0, \"y\": 1}, {\"font\": {\"color\": \"black\", \"size\": 12}, \"showarrow\": false, \"text\": \"281\", \"x\": 1, \"y\": 1}], \"coloraxis\": {\"colorscale\": [[0.0, \"peachpuff\"], [0.5, \"lime\"], [1.0, \"green\"]]}, \"height\": 400, \"margin\": {\"t\": 60}, \"template\": {\"data\": {\"bar\": [{\"error_x\": {\"color\": \"#2a3f5f\"}, \"error_y\": {\"color\": \"#2a3f5f\"}, \"marker\": {\"line\": {\"color\": \"#E5ECF6\", \"width\": 0.5}}, \"type\": \"bar\"}], \"barpolar\": [{\"marker\": {\"line\": {\"color\": \"#E5ECF6\", \"width\": 0.5}}, \"type\": \"barpolar\"}], \"carpet\": [{\"aaxis\": {\"endlinecolor\": \"#2a3f5f\", \"gridcolor\": \"white\", \"linecolor\": \"white\", \"minorgridcolor\": \"white\", \"startlinecolor\": \"#2a3f5f\"}, \"baxis\": {\"endlinecolor\": \"#2a3f5f\", \"gridcolor\": \"white\", \"linecolor\": \"white\", \"minorgridcolor\": \"white\", \"startlinecolor\": \"#2a3f5f\"}, \"type\": \"carpet\"}], \"choropleth\": [{\"colorbar\": {\"outlinewidth\": 0, \"ticks\": \"\"}, \"type\": \"choropleth\"}], \"contour\": [{\"colorbar\": {\"outlinewidth\": 0, \"ticks\": \"\"}, \"colorscale\": [[0.0, \"#0d0887\"], [0.1111111111111111, \"#46039f\"], [0.2222222222222222, \"#7201a8\"], [0.3333333333333333, \"#9c179e\"], [0.4444444444444444, \"#bd3786\"], [0.5555555555555556, \"#d8576b\"], [0.6666666666666666, \"#ed7953\"], [0.7777777777777778, \"#fb9f3a\"], [0.8888888888888888, \"#fdca26\"], [1.0, \"#f0f921\"]], \"type\": \"contour\"}], \"contourcarpet\": [{\"colorbar\": {\"outlinewidth\": 0, \"ticks\": \"\"}, \"type\": \"contourcarpet\"}], \"heatmap\": [{\"colorbar\": {\"outlinewidth\": 0, \"ticks\": \"\"}, \"colorscale\": [[0.0, \"#0d0887\"], [0.1111111111111111, \"#46039f\"], [0.2222222222222222, \"#7201a8\"], [0.3333333333333333, \"#9c179e\"], [0.4444444444444444, \"#bd3786\"], [0.5555555555555556, \"#d8576b\"], [0.6666666666666666, \"#ed7953\"], [0.7777777777777778, \"#fb9f3a\"], [0.8888888888888888, \"#fdca26\"], [1.0, \"#f0f921\"]], \"type\": \"heatmap\"}], \"heatmapgl\": [{\"colorbar\": {\"outlinewidth\": 0, \"ticks\": \"\"}, \"colorscale\": [[0.0, \"#0d0887\"], [0.1111111111111111, \"#46039f\"], [0.2222222222222222, \"#7201a8\"], [0.3333333333333333, \"#9c179e\"], [0.4444444444444444, \"#bd3786\"], [0.5555555555555556, \"#d8576b\"], [0.6666666666666666, \"#ed7953\"], [0.7777777777777778, \"#fb9f3a\"], [0.8888888888888888, \"#fdca26\"], [1.0, \"#f0f921\"]], \"type\": \"heatmapgl\"}], \"histogram\": [{\"marker\": {\"colorbar\": {\"outlinewidth\": 0, \"ticks\": \"\"}}, \"type\": \"histogram\"}], \"histogram2d\": [{\"colorbar\": {\"outlinewidth\": 0, \"ticks\": \"\"}, \"colorscale\": [[0.0, \"#0d0887\"], [0.1111111111111111, \"#46039f\"], [0.2222222222222222, \"#7201a8\"], [0.3333333333333333, \"#9c179e\"], [0.4444444444444444, \"#bd3786\"], [0.5555555555555556, \"#d8576b\"], [0.6666666666666666, \"#ed7953\"], [0.7777777777777778, \"#fb9f3a\"], [0.8888888888888888, \"#fdca26\"], [1.0, \"#f0f921\"]], \"type\": \"histogram2d\"}], \"histogram2dcontour\": [{\"colorbar\": {\"outlinewidth\": 0, \"ticks\": \"\"}, \"colorscale\": [[0.0, \"#0d0887\"], [0.1111111111111111, \"#46039f\"], [0.2222222222222222, \"#7201a8\"], [0.3333333333333333, \"#9c179e\"], [0.4444444444444444, \"#bd3786\"], [0.5555555555555556, \"#d8576b\"], [0.6666666666666666, \"#ed7953\"], [0.7777777777777778, \"#fb9f3a\"], [0.8888888888888888, \"#fdca26\"], [1.0, \"#f0f921\"]], \"type\": \"histogram2dcontour\"}], \"mesh3d\": [{\"colorbar\": {\"outlinewidth\": 0, \"ticks\": \"\"}, \"type\": \"mesh3d\"}], \"parcoords\": [{\"line\": {\"colorbar\": {\"outlinewidth\": 0, \"ticks\": \"\"}}, \"type\": \"parcoords\"}], \"pie\": [{\"automargin\": true, \"type\": \"pie\"}], \"scatter\": [{\"marker\": {\"colorbar\": {\"outlinewidth\": 0, \"ticks\": \"\"}}, \"type\": \"scatter\"}], \"scatter3d\": [{\"line\": {\"colorbar\": {\"outlinewidth\": 0, \"ticks\": \"\"}}, \"marker\": {\"colorbar\": {\"outlinewidth\": 0, \"ticks\": \"\"}}, \"type\": \"scatter3d\"}], \"scattercarpet\": [{\"marker\": {\"colorbar\": {\"outlinewidth\": 0, \"ticks\": \"\"}}, \"type\": \"scattercarpet\"}], \"scattergeo\": [{\"marker\": {\"colorbar\": {\"outlinewidth\": 0, \"ticks\": \"\"}}, \"type\": \"scattergeo\"}], \"scattergl\": [{\"marker\": {\"colorbar\": {\"outlinewidth\": 0, \"ticks\": \"\"}}, \"type\": \"scattergl\"}], \"scattermapbox\": [{\"marker\": {\"colorbar\": {\"outlinewidth\": 0, \"ticks\": \"\"}}, \"type\": \"scattermapbox\"}], \"scatterpolar\": [{\"marker\": {\"colorbar\": {\"outlinewidth\": 0, \"ticks\": \"\"}}, \"type\": \"scatterpolar\"}], \"scatterpolargl\": [{\"marker\": {\"colorbar\": {\"outlinewidth\": 0, \"ticks\": \"\"}}, \"type\": \"scatterpolargl\"}], \"scatterternary\": [{\"marker\": {\"colorbar\": {\"outlinewidth\": 0, \"ticks\": \"\"}}, \"type\": \"scatterternary\"}], \"surface\": [{\"colorbar\": {\"outlinewidth\": 0, \"ticks\": \"\"}, \"colorscale\": [[0.0, \"#0d0887\"], [0.1111111111111111, \"#46039f\"], [0.2222222222222222, \"#7201a8\"], [0.3333333333333333, \"#9c179e\"], [0.4444444444444444, \"#bd3786\"], [0.5555555555555556, \"#d8576b\"], [0.6666666666666666, \"#ed7953\"], [0.7777777777777778, \"#fb9f3a\"], [0.8888888888888888, \"#fdca26\"], [1.0, \"#f0f921\"]], \"type\": \"surface\"}], \"table\": [{\"cells\": {\"fill\": {\"color\": \"#EBF0F8\"}, \"line\": {\"color\": \"white\"}}, \"header\": {\"fill\": {\"color\": \"#C8D4E3\"}, \"line\": {\"color\": \"white\"}}, \"type\": \"table\"}]}, \"layout\": {\"annotationdefaults\": {\"arrowcolor\": \"#2a3f5f\", \"arrowhead\": 0, \"arrowwidth\": 1}, \"coloraxis\": {\"colorbar\": {\"outlinewidth\": 0, \"ticks\": \"\"}}, \"colorscale\": {\"diverging\": [[0, \"#8e0152\"], [0.1, \"#c51b7d\"], [0.2, \"#de77ae\"], [0.3, \"#f1b6da\"], [0.4, \"#fde0ef\"], [0.5, \"#f7f7f7\"], [0.6, \"#e6f5d0\"], [0.7, \"#b8e186\"], [0.8, \"#7fbc41\"], [0.9, \"#4d9221\"], [1, \"#276419\"]], \"sequential\": [[0.0, \"#0d0887\"], [0.1111111111111111, \"#46039f\"], [0.2222222222222222, \"#7201a8\"], [0.3333333333333333, \"#9c179e\"], [0.4444444444444444, \"#bd3786\"], [0.5555555555555556, \"#d8576b\"], [0.6666666666666666, \"#ed7953\"], [0.7777777777777778, \"#fb9f3a\"], [0.8888888888888888, \"#fdca26\"], [1.0, \"#f0f921\"]], \"sequentialminus\": [[0.0, \"#0d0887\"], [0.1111111111111111, \"#46039f\"], [0.2222222222222222, \"#7201a8\"], [0.3333333333333333, \"#9c179e\"], [0.4444444444444444, \"#bd3786\"], [0.5555555555555556, \"#d8576b\"], [0.6666666666666666, \"#ed7953\"], [0.7777777777777778, \"#fb9f3a\"], [0.8888888888888888, \"#fdca26\"], [1.0, \"#f0f921\"]]}, \"colorway\": [\"#636efa\", \"#EF553B\", \"#00cc96\", \"#ab63fa\", \"#FFA15A\", \"#19d3f3\", \"#FF6692\", \"#B6E880\", \"#FF97FF\", \"#FECB52\"], \"font\": {\"color\": \"#2a3f5f\"}, \"geo\": {\"bgcolor\": \"white\", \"lakecolor\": \"white\", \"landcolor\": \"#E5ECF6\", \"showlakes\": true, \"showland\": true, \"subunitcolor\": \"white\"}, \"hoverlabel\": {\"align\": \"left\"}, \"hovermode\": \"closest\", \"mapbox\": {\"style\": \"light\"}, \"paper_bgcolor\": \"white\", \"plot_bgcolor\": \"#E5ECF6\", \"polar\": {\"angularaxis\": {\"gridcolor\": \"white\", \"linecolor\": \"white\", \"ticks\": \"\"}, \"bgcolor\": \"#E5ECF6\", \"radialaxis\": {\"gridcolor\": \"white\", \"linecolor\": \"white\", \"ticks\": \"\"}}, \"scene\": {\"xaxis\": {\"backgroundcolor\": \"#E5ECF6\", \"gridcolor\": \"white\", \"gridwidth\": 2, \"linecolor\": \"white\", \"showbackground\": true, \"ticks\": \"\", \"zerolinecolor\": \"white\"}, \"yaxis\": {\"backgroundcolor\": \"#E5ECF6\", \"gridcolor\": \"white\", \"gridwidth\": 2, \"linecolor\": \"white\", \"showbackground\": true, \"ticks\": \"\", \"zerolinecolor\": \"white\"}, \"zaxis\": {\"backgroundcolor\": \"#E5ECF6\", \"gridcolor\": \"white\", \"gridwidth\": 2, \"linecolor\": \"white\", \"showbackground\": true, \"ticks\": \"\", \"zerolinecolor\": \"white\"}}, \"shapedefaults\": {\"line\": {\"color\": \"#2a3f5f\"}}, \"ternary\": {\"aaxis\": {\"gridcolor\": \"white\", \"linecolor\": \"white\", \"ticks\": \"\"}, \"baxis\": {\"gridcolor\": \"white\", \"linecolor\": \"white\", \"ticks\": \"\"}, \"bgcolor\": \"#E5ECF6\", \"caxis\": {\"gridcolor\": \"white\", \"linecolor\": \"white\", \"ticks\": \"\"}}, \"title\": {\"x\": 0.05}, \"xaxis\": {\"automargin\": true, \"gridcolor\": \"white\", \"linecolor\": \"white\", \"ticks\": \"\", \"title\": {\"standoff\": 15}, \"zerolinecolor\": \"white\", \"zerolinewidth\": 2}, \"yaxis\": {\"automargin\": true, \"gridcolor\": \"white\", \"linecolor\": \"white\", \"ticks\": \"\", \"title\": {\"standoff\": 15}, \"zerolinecolor\": \"white\", \"zerolinewidth\": 2}}}, \"title\": {\"text\": \"Confusion Matrix (LR)\", \"x\": 0.5}, \"width\": 400, \"xaxis\": {\"constrain\": \"domain\", \"dtick\": 1, \"scaleanchor\": \"y\", \"tick0\": 0, \"tickmode\": \"linear\", \"title\": {\"text\": \"Prediction\"}}, \"yaxis\": {\"autorange\": \"reversed\", \"constrain\": \"domain\", \"dtick\": 1, \"tick0\": 0, \"tickmode\": \"linear\", \"title\": {\"text\": \"Truth\"}}},\n",
              "                        {\"responsive\": true}\n",
              "                    ).then(function(){\n",
              "                            \n",
              "var gd = document.getElementById('56683f04-f7c4-433b-bedf-192cf6728a13');\n",
              "var x = new MutationObserver(function (mutations, observer) {{\n",
              "        var display = window.getComputedStyle(gd).display;\n",
              "        if (!display || display === 'none') {{\n",
              "            console.log([gd, 'removed!']);\n",
              "            Plotly.purge(gd);\n",
              "            observer.disconnect();\n",
              "        }}\n",
              "}});\n",
              "\n",
              "// Listen for the removal of the full notebook cells\n",
              "var notebookContainer = gd.closest('#notebook-container');\n",
              "if (notebookContainer) {{\n",
              "    x.observe(notebookContainer, {childList: true});\n",
              "}}\n",
              "\n",
              "// Listen for the clearing of the current output cell\n",
              "var outputEl = gd.closest('.output');\n",
              "if (outputEl) {{\n",
              "    x.observe(outputEl, {childList: true});\n",
              "}}\n",
              "\n",
              "                        })\n",
              "                };\n",
              "                \n",
              "            </script>\n",
              "        </div>\n",
              "</body>\n",
              "</html>"
            ]
          },
          "metadata": {}
        }
      ]
    },
    {
      "cell_type": "markdown",
      "source": [
        "#### Churn Prediction using Naive Bayes"
      ],
      "metadata": {
        "id": "NSC4QsVamq1t"
      }
    },
    {
      "cell_type": "code",
      "source": [
        "para_gnb = {'var_smoothing':np.logspace(1,-4,num=50)}\n",
        "\n",
        "model_gnb = GridSearchCV(estimator = GaussianNB(),\n",
        "                    param_grid = para_gnb,\n",
        "                    cv=10,\n",
        "                    verbose=0,\n",
        "                    n_jobs=-1\n",
        "                   )\n",
        "model_gnb.fit(train_X_re,train_y_re)"
      ],
      "metadata": {
        "colab": {
          "base_uri": "https://localhost:8080/"
        },
        "id": "uPzKtJmGmlB7",
        "outputId": "7ebd32e3-de03-433f-9aeb-b4800756a5f9"
      },
      "execution_count": 33,
      "outputs": [
        {
          "output_type": "execute_result",
          "data": {
            "text/plain": [
              "GridSearchCV(cv=10, estimator=GaussianNB(), n_jobs=-1,\n",
              "             param_grid={'var_smoothing': array([1.00000000e+01, 7.90604321e+00, 6.25055193e+00, 4.94171336e+00,\n",
              "       3.90693994e+00, 3.08884360e+00, 2.44205309e+00, 1.93069773e+00,\n",
              "       1.52641797e+00, 1.20679264e+00, 9.54095476e-01, 7.54312006e-01,\n",
              "       5.96362332e-01, 4.71486636e-01, 3.72759372e-01, 2.94705170e-01,\n",
              "       2.32995181e-01, 1.842069...\n",
              "       3.55648031e-02, 2.81176870e-02, 2.22299648e-02, 1.75751062e-02,\n",
              "       1.38949549e-02, 1.09854114e-02, 8.68511374e-03, 6.86648845e-03,\n",
              "       5.42867544e-03, 4.29193426e-03, 3.39322177e-03, 2.68269580e-03,\n",
              "       2.12095089e-03, 1.67683294e-03, 1.32571137e-03, 1.04811313e-03,\n",
              "       8.28642773e-04, 6.55128557e-04, 5.17947468e-04, 4.09491506e-04,\n",
              "       3.23745754e-04, 2.55954792e-04, 2.02358965e-04, 1.59985872e-04,\n",
              "       1.26485522e-04, 1.00000000e-04])})"
            ]
          },
          "metadata": {},
          "execution_count": 33
        }
      ]
    },
    {
      "cell_type": "code",
      "source": [
        "model_gnb.best_params_"
      ],
      "metadata": {
        "colab": {
          "base_uri": "https://localhost:8080/"
        },
        "id": "3BQl_V5bmuir",
        "outputId": "781da12d-43b1-4825-f918-c6ead44b29a1"
      },
      "execution_count": 34,
      "outputs": [
        {
          "output_type": "execute_result",
          "data": {
            "text/plain": [
              "{'var_smoothing': 0.0021209508879201904}"
            ]
          },
          "metadata": {},
          "execution_count": 34
        }
      ]
    },
    {
      "cell_type": "code",
      "source": [
        "cm_gnb,cr_gnb,auc_score_gnb,_  = test_eval(model_gnb,test_X,test_y)\n",
        "fpr_gnb, tpr_gnb, thresh_gnb = roc_curve(test_y, model_gnb.predict_proba(test_X)[:,1], pos_label = 1)\n",
        "precision_gnb, recall_gnb, _ = precision_recall_curve(test_y, model_gnb.predict_proba(test_X)[:,1],pos_label=1)"
      ],
      "metadata": {
        "colab": {
          "base_uri": "https://localhost:8080/"
        },
        "id": "CSPdrpN1m0Dt",
        "outputId": "fc3fe553-e3bb-49e4-f8c1-b5b73d05d87f"
      },
      "execution_count": 35,
      "outputs": [
        {
          "output_type": "stream",
          "name": "stdout",
          "text": [
            "Confusion Matrix\n",
            "====================\n",
            "[[658 375]\n",
            " [ 57 317]] \n",
            "\n",
            "Classification Report\n",
            "====================\n",
            "              precision    recall  f1-score   support\n",
            "\n",
            "           0       0.92      0.64      0.75      1033\n",
            "           1       0.46      0.85      0.59       374\n",
            "\n",
            "    accuracy                           0.69      1407\n",
            "   macro avg       0.69      0.74      0.67      1407\n",
            "weighted avg       0.80      0.69      0.71      1407\n",
            "\n"
          ]
        }
      ]
    },
    {
      "cell_type": "code",
      "source": [
        "plot_cmatrix(cm_gnb, name='GNB')"
      ],
      "metadata": {
        "colab": {
          "base_uri": "https://localhost:8080/",
          "height": 417
        },
        "id": "EVRdfYCfm45y",
        "outputId": "943fd7d7-364a-4df1-af18-b27f0fff0260"
      },
      "execution_count": 36,
      "outputs": [
        {
          "output_type": "display_data",
          "data": {
            "text/html": [
              "<html>\n",
              "<head><meta charset=\"utf-8\" /></head>\n",
              "<body>\n",
              "    <div>\n",
              "            <script src=\"https://cdnjs.cloudflare.com/ajax/libs/mathjax/2.7.5/MathJax.js?config=TeX-AMS-MML_SVG\"></script><script type=\"text/javascript\">if (window.MathJax) {MathJax.Hub.Config({SVG: {font: \"STIX-Web\"}});}</script>\n",
              "                <script type=\"text/javascript\">window.PlotlyConfig = {MathJaxConfig: 'local'};</script>\n",
              "        <script src=\"https://cdn.plot.ly/plotly-latest.min.js\"></script>    \n",
              "            <div id=\"a0fa0ba4-4431-4f3d-b457-87666914b419\" class=\"plotly-graph-div\" style=\"height:400px; width:400px;\"></div>\n",
              "            <script type=\"text/javascript\">\n",
              "                \n",
              "                    window.PLOTLYENV=window.PLOTLYENV || {};\n",
              "                    \n",
              "                if (document.getElementById(\"a0fa0ba4-4431-4f3d-b457-87666914b419\")) {\n",
              "                    Plotly.newPlot(\n",
              "                        'a0fa0ba4-4431-4f3d-b457-87666914b419',\n",
              "                        [{\"coloraxis\": \"coloraxis\", \"type\": \"heatmap\", \"z\": [[658, 375], [57, 317]]}],\n",
              "                        {\"annotations\": [{\"font\": {\"color\": \"black\", \"size\": 12}, \"showarrow\": false, \"text\": \"658\", \"x\": 0, \"y\": 0}, {\"font\": {\"color\": \"black\", \"size\": 12}, \"showarrow\": false, \"text\": \"375\", \"x\": 1, \"y\": 0}, {\"font\": {\"color\": \"black\", \"size\": 12}, \"showarrow\": false, \"text\": \"57\", \"x\": 0, \"y\": 1}, {\"font\": {\"color\": \"black\", \"size\": 12}, \"showarrow\": false, \"text\": \"317\", \"x\": 1, \"y\": 1}], \"coloraxis\": {\"colorscale\": [[0.0, \"peachpuff\"], [0.5, \"lime\"], [1.0, \"green\"]]}, \"height\": 400, \"margin\": {\"t\": 60}, \"template\": {\"data\": {\"bar\": [{\"error_x\": {\"color\": \"#2a3f5f\"}, \"error_y\": {\"color\": \"#2a3f5f\"}, \"marker\": {\"line\": {\"color\": \"#E5ECF6\", \"width\": 0.5}}, \"type\": \"bar\"}], \"barpolar\": [{\"marker\": {\"line\": {\"color\": \"#E5ECF6\", \"width\": 0.5}}, \"type\": \"barpolar\"}], \"carpet\": [{\"aaxis\": {\"endlinecolor\": \"#2a3f5f\", \"gridcolor\": \"white\", \"linecolor\": \"white\", \"minorgridcolor\": \"white\", \"startlinecolor\": \"#2a3f5f\"}, \"baxis\": {\"endlinecolor\": \"#2a3f5f\", \"gridcolor\": \"white\", \"linecolor\": \"white\", \"minorgridcolor\": \"white\", \"startlinecolor\": \"#2a3f5f\"}, \"type\": \"carpet\"}], \"choropleth\": [{\"colorbar\": {\"outlinewidth\": 0, \"ticks\": \"\"}, \"type\": \"choropleth\"}], \"contour\": [{\"colorbar\": {\"outlinewidth\": 0, \"ticks\": \"\"}, \"colorscale\": [[0.0, \"#0d0887\"], [0.1111111111111111, \"#46039f\"], [0.2222222222222222, \"#7201a8\"], [0.3333333333333333, \"#9c179e\"], [0.4444444444444444, \"#bd3786\"], [0.5555555555555556, \"#d8576b\"], [0.6666666666666666, \"#ed7953\"], [0.7777777777777778, \"#fb9f3a\"], [0.8888888888888888, \"#fdca26\"], [1.0, \"#f0f921\"]], \"type\": \"contour\"}], \"contourcarpet\": [{\"colorbar\": {\"outlinewidth\": 0, \"ticks\": \"\"}, \"type\": \"contourcarpet\"}], \"heatmap\": [{\"colorbar\": {\"outlinewidth\": 0, \"ticks\": \"\"}, \"colorscale\": [[0.0, \"#0d0887\"], [0.1111111111111111, \"#46039f\"], [0.2222222222222222, \"#7201a8\"], [0.3333333333333333, \"#9c179e\"], [0.4444444444444444, \"#bd3786\"], [0.5555555555555556, \"#d8576b\"], [0.6666666666666666, \"#ed7953\"], [0.7777777777777778, \"#fb9f3a\"], [0.8888888888888888, \"#fdca26\"], [1.0, \"#f0f921\"]], \"type\": \"heatmap\"}], \"heatmapgl\": [{\"colorbar\": {\"outlinewidth\": 0, \"ticks\": \"\"}, \"colorscale\": [[0.0, \"#0d0887\"], [0.1111111111111111, \"#46039f\"], [0.2222222222222222, \"#7201a8\"], [0.3333333333333333, \"#9c179e\"], [0.4444444444444444, \"#bd3786\"], [0.5555555555555556, \"#d8576b\"], [0.6666666666666666, \"#ed7953\"], [0.7777777777777778, \"#fb9f3a\"], [0.8888888888888888, \"#fdca26\"], [1.0, \"#f0f921\"]], \"type\": \"heatmapgl\"}], \"histogram\": [{\"marker\": {\"colorbar\": {\"outlinewidth\": 0, \"ticks\": \"\"}}, \"type\": \"histogram\"}], \"histogram2d\": [{\"colorbar\": {\"outlinewidth\": 0, \"ticks\": \"\"}, \"colorscale\": [[0.0, \"#0d0887\"], [0.1111111111111111, \"#46039f\"], [0.2222222222222222, \"#7201a8\"], [0.3333333333333333, \"#9c179e\"], [0.4444444444444444, \"#bd3786\"], [0.5555555555555556, \"#d8576b\"], [0.6666666666666666, \"#ed7953\"], [0.7777777777777778, \"#fb9f3a\"], [0.8888888888888888, \"#fdca26\"], [1.0, \"#f0f921\"]], \"type\": \"histogram2d\"}], \"histogram2dcontour\": [{\"colorbar\": {\"outlinewidth\": 0, \"ticks\": \"\"}, \"colorscale\": [[0.0, \"#0d0887\"], [0.1111111111111111, \"#46039f\"], [0.2222222222222222, \"#7201a8\"], [0.3333333333333333, \"#9c179e\"], [0.4444444444444444, \"#bd3786\"], [0.5555555555555556, \"#d8576b\"], [0.6666666666666666, \"#ed7953\"], [0.7777777777777778, \"#fb9f3a\"], [0.8888888888888888, \"#fdca26\"], [1.0, \"#f0f921\"]], \"type\": \"histogram2dcontour\"}], \"mesh3d\": [{\"colorbar\": {\"outlinewidth\": 0, \"ticks\": \"\"}, \"type\": \"mesh3d\"}], \"parcoords\": [{\"line\": {\"colorbar\": {\"outlinewidth\": 0, \"ticks\": \"\"}}, \"type\": \"parcoords\"}], \"pie\": [{\"automargin\": true, \"type\": \"pie\"}], \"scatter\": [{\"marker\": {\"colorbar\": {\"outlinewidth\": 0, \"ticks\": \"\"}}, \"type\": \"scatter\"}], \"scatter3d\": [{\"line\": {\"colorbar\": {\"outlinewidth\": 0, \"ticks\": \"\"}}, \"marker\": {\"colorbar\": {\"outlinewidth\": 0, \"ticks\": \"\"}}, \"type\": \"scatter3d\"}], \"scattercarpet\": [{\"marker\": {\"colorbar\": {\"outlinewidth\": 0, \"ticks\": \"\"}}, \"type\": \"scattercarpet\"}], \"scattergeo\": [{\"marker\": {\"colorbar\": {\"outlinewidth\": 0, \"ticks\": \"\"}}, \"type\": \"scattergeo\"}], \"scattergl\": [{\"marker\": {\"colorbar\": {\"outlinewidth\": 0, \"ticks\": \"\"}}, \"type\": \"scattergl\"}], \"scattermapbox\": [{\"marker\": {\"colorbar\": {\"outlinewidth\": 0, \"ticks\": \"\"}}, \"type\": \"scattermapbox\"}], \"scatterpolar\": [{\"marker\": {\"colorbar\": {\"outlinewidth\": 0, \"ticks\": \"\"}}, \"type\": \"scatterpolar\"}], \"scatterpolargl\": [{\"marker\": {\"colorbar\": {\"outlinewidth\": 0, \"ticks\": \"\"}}, \"type\": \"scatterpolargl\"}], \"scatterternary\": [{\"marker\": {\"colorbar\": {\"outlinewidth\": 0, \"ticks\": \"\"}}, \"type\": \"scatterternary\"}], \"surface\": [{\"colorbar\": {\"outlinewidth\": 0, \"ticks\": \"\"}, \"colorscale\": [[0.0, \"#0d0887\"], [0.1111111111111111, \"#46039f\"], [0.2222222222222222, \"#7201a8\"], [0.3333333333333333, \"#9c179e\"], [0.4444444444444444, \"#bd3786\"], [0.5555555555555556, \"#d8576b\"], [0.6666666666666666, \"#ed7953\"], [0.7777777777777778, \"#fb9f3a\"], [0.8888888888888888, \"#fdca26\"], [1.0, \"#f0f921\"]], \"type\": \"surface\"}], \"table\": [{\"cells\": {\"fill\": {\"color\": \"#EBF0F8\"}, \"line\": {\"color\": \"white\"}}, \"header\": {\"fill\": {\"color\": \"#C8D4E3\"}, \"line\": {\"color\": \"white\"}}, \"type\": \"table\"}]}, \"layout\": {\"annotationdefaults\": {\"arrowcolor\": \"#2a3f5f\", \"arrowhead\": 0, \"arrowwidth\": 1}, \"coloraxis\": {\"colorbar\": {\"outlinewidth\": 0, \"ticks\": \"\"}}, \"colorscale\": {\"diverging\": [[0, \"#8e0152\"], [0.1, \"#c51b7d\"], [0.2, \"#de77ae\"], [0.3, \"#f1b6da\"], [0.4, \"#fde0ef\"], [0.5, \"#f7f7f7\"], [0.6, \"#e6f5d0\"], [0.7, \"#b8e186\"], [0.8, \"#7fbc41\"], [0.9, \"#4d9221\"], [1, \"#276419\"]], \"sequential\": [[0.0, \"#0d0887\"], [0.1111111111111111, \"#46039f\"], [0.2222222222222222, \"#7201a8\"], [0.3333333333333333, \"#9c179e\"], [0.4444444444444444, \"#bd3786\"], [0.5555555555555556, \"#d8576b\"], [0.6666666666666666, \"#ed7953\"], [0.7777777777777778, \"#fb9f3a\"], [0.8888888888888888, \"#fdca26\"], [1.0, \"#f0f921\"]], \"sequentialminus\": [[0.0, \"#0d0887\"], [0.1111111111111111, \"#46039f\"], [0.2222222222222222, \"#7201a8\"], [0.3333333333333333, \"#9c179e\"], [0.4444444444444444, \"#bd3786\"], [0.5555555555555556, \"#d8576b\"], [0.6666666666666666, \"#ed7953\"], [0.7777777777777778, \"#fb9f3a\"], [0.8888888888888888, \"#fdca26\"], [1.0, \"#f0f921\"]]}, \"colorway\": [\"#636efa\", \"#EF553B\", \"#00cc96\", \"#ab63fa\", \"#FFA15A\", \"#19d3f3\", \"#FF6692\", \"#B6E880\", \"#FF97FF\", \"#FECB52\"], \"font\": {\"color\": \"#2a3f5f\"}, \"geo\": {\"bgcolor\": \"white\", \"lakecolor\": \"white\", \"landcolor\": \"#E5ECF6\", \"showlakes\": true, \"showland\": true, \"subunitcolor\": \"white\"}, \"hoverlabel\": {\"align\": \"left\"}, \"hovermode\": \"closest\", \"mapbox\": {\"style\": \"light\"}, \"paper_bgcolor\": \"white\", \"plot_bgcolor\": \"#E5ECF6\", \"polar\": {\"angularaxis\": {\"gridcolor\": \"white\", \"linecolor\": \"white\", \"ticks\": \"\"}, \"bgcolor\": \"#E5ECF6\", \"radialaxis\": {\"gridcolor\": \"white\", \"linecolor\": \"white\", \"ticks\": \"\"}}, \"scene\": {\"xaxis\": {\"backgroundcolor\": \"#E5ECF6\", \"gridcolor\": \"white\", \"gridwidth\": 2, \"linecolor\": \"white\", \"showbackground\": true, \"ticks\": \"\", \"zerolinecolor\": \"white\"}, \"yaxis\": {\"backgroundcolor\": \"#E5ECF6\", \"gridcolor\": \"white\", \"gridwidth\": 2, \"linecolor\": \"white\", \"showbackground\": true, \"ticks\": \"\", \"zerolinecolor\": \"white\"}, \"zaxis\": {\"backgroundcolor\": \"#E5ECF6\", \"gridcolor\": \"white\", \"gridwidth\": 2, \"linecolor\": \"white\", \"showbackground\": true, \"ticks\": \"\", \"zerolinecolor\": \"white\"}}, \"shapedefaults\": {\"line\": {\"color\": \"#2a3f5f\"}}, \"ternary\": {\"aaxis\": {\"gridcolor\": \"white\", \"linecolor\": \"white\", \"ticks\": \"\"}, \"baxis\": {\"gridcolor\": \"white\", \"linecolor\": \"white\", \"ticks\": \"\"}, \"bgcolor\": \"#E5ECF6\", \"caxis\": {\"gridcolor\": \"white\", \"linecolor\": \"white\", \"ticks\": \"\"}}, \"title\": {\"x\": 0.05}, \"xaxis\": {\"automargin\": true, \"gridcolor\": \"white\", \"linecolor\": \"white\", \"ticks\": \"\", \"title\": {\"standoff\": 15}, \"zerolinecolor\": \"white\", \"zerolinewidth\": 2}, \"yaxis\": {\"automargin\": true, \"gridcolor\": \"white\", \"linecolor\": \"white\", \"ticks\": \"\", \"title\": {\"standoff\": 15}, \"zerolinecolor\": \"white\", \"zerolinewidth\": 2}}}, \"title\": {\"text\": \"Confusion Matrix (GNB)\", \"x\": 0.5}, \"width\": 400, \"xaxis\": {\"constrain\": \"domain\", \"dtick\": 1, \"scaleanchor\": \"y\", \"tick0\": 0, \"tickmode\": \"linear\", \"title\": {\"text\": \"Prediction\"}}, \"yaxis\": {\"autorange\": \"reversed\", \"constrain\": \"domain\", \"dtick\": 1, \"tick0\": 0, \"tickmode\": \"linear\", \"title\": {\"text\": \"Truth\"}}},\n",
              "                        {\"responsive\": true}\n",
              "                    ).then(function(){\n",
              "                            \n",
              "var gd = document.getElementById('a0fa0ba4-4431-4f3d-b457-87666914b419');\n",
              "var x = new MutationObserver(function (mutations, observer) {{\n",
              "        var display = window.getComputedStyle(gd).display;\n",
              "        if (!display || display === 'none') {{\n",
              "            console.log([gd, 'removed!']);\n",
              "            Plotly.purge(gd);\n",
              "            observer.disconnect();\n",
              "        }}\n",
              "}});\n",
              "\n",
              "// Listen for the removal of the full notebook cells\n",
              "var notebookContainer = gd.closest('#notebook-container');\n",
              "if (notebookContainer) {{\n",
              "    x.observe(notebookContainer, {childList: true});\n",
              "}}\n",
              "\n",
              "// Listen for the clearing of the current output cell\n",
              "var outputEl = gd.closest('.output');\n",
              "if (outputEl) {{\n",
              "    x.observe(outputEl, {childList: true});\n",
              "}}\n",
              "\n",
              "                        })\n",
              "                };\n",
              "                \n",
              "            </script>\n",
              "        </div>\n",
              "</body>\n",
              "</html>"
            ]
          },
          "metadata": {}
        }
      ]
    },
    {
      "cell_type": "markdown",
      "source": [
        "## Nonlinear Algorithms\n",
        "\n",
        "#### Churn Prediction using ANN with tensorflow, keras"
      ],
      "metadata": {
        "id": "pF5wBErynB_v"
      }
    },
    {
      "cell_type": "code",
      "source": [
        "model_nn = Sequential()\n",
        "model_nn.add(Dense(10,input_shape=(30,),activation='relu'))\n",
        "model_nn.add(Dense(1, activation='sigmoid'))\n",
        "model_nn.summary()"
      ],
      "metadata": {
        "colab": {
          "base_uri": "https://localhost:8080/"
        },
        "id": "48eV6PCmm5BH",
        "outputId": "b3b48947-4ceb-41f1-bfcf-534d74b4364d"
      },
      "execution_count": 37,
      "outputs": [
        {
          "output_type": "stream",
          "name": "stdout",
          "text": [
            "Model: \"sequential\"\n",
            "_________________________________________________________________\n",
            " Layer (type)                Output Shape              Param #   \n",
            "=================================================================\n",
            " dense (Dense)               (None, 10)                310       \n",
            "                                                                 \n",
            " dense_1 (Dense)             (None, 1)                 11        \n",
            "                                                                 \n",
            "=================================================================\n",
            "Total params: 321\n",
            "Trainable params: 321\n",
            "Non-trainable params: 0\n",
            "_________________________________________________________________\n"
          ]
        }
      ]
    },
    {
      "cell_type": "code",
      "source": [
        "model_nn.compile(optimizer='adam',metrics=['accuracy'],loss='binary_crossentropy')\n",
        "\n",
        "history_nn = model_nn.fit(train_X_re,train_y_re,\n",
        "                          validation_split=0.2,\n",
        "                          epochs=10,\n",
        "                          verbose=0\n",
        "                         )"
      ],
      "metadata": {
        "id": "ArBQfVuknIvs"
      },
      "execution_count": 38,
      "outputs": []
    },
    {
      "cell_type": "code",
      "source": [
        "def plot_metrics(history):\n",
        "    metrics = ['loss', 'accuracy']\n",
        "    plt.figure(figsize=(12,3))\n",
        "    for n, metric in enumerate(metrics):\n",
        "        name = metric.replace(\"_\",\" \").capitalize()\n",
        "        plt.subplot(1,2,n+1)\n",
        "        plt.plot(history.epoch, history.history[metric], color='red', label='Train')\n",
        "        plt.plot(history.epoch, history.history['val_'+metric],\n",
        "                 color='green', linestyle=\"--\", label='Val')\n",
        "        plt.xlabel('Epoch')\n",
        "        plt.ylabel(name)\n",
        "        plt.legend()\n",
        "\n",
        "\n",
        "plot_metrics(history_nn)"
      ],
      "metadata": {
        "colab": {
          "base_uri": "https://localhost:8080/",
          "height": 225
        },
        "id": "v76xraP3muxw",
        "outputId": "b6a925e9-2a16-4bae-ebbf-b75f29dd833f"
      },
      "execution_count": 39,
      "outputs": [
        {
          "output_type": "display_data",
          "data": {
            "image/png": "[encoded data removed]",
            "text/plain": [
              "<Figure size 864x216 with 2 Axes>"
            ]
          },
          "metadata": {
            "needs_background": "light"
          }
        }
      ]
    },
    {
      "cell_type": "code",
      "source": [
        "model_nn.evaluate(test_X,test_y)"
      ],
      "metadata": {
        "colab": {
          "base_uri": "https://localhost:8080/"
        },
        "id": "5E887wr9nZWY",
        "outputId": "b0f10f6e-c29f-4ca4-eb8d-20bf5d58d714"
      },
      "execution_count": 40,
      "outputs": [
        {
          "output_type": "stream",
          "name": "stdout",
          "text": [
            "44/44 [==============================] - 0s 1ms/step - loss: 0.4277 - accuracy: 0.7889\n"
          ]
        },
        {
          "output_type": "execute_result",
          "data": {
            "text/plain": [
              "[0.427734375, 0.7889125943183899]"
            ]
          },
          "metadata": {},
          "execution_count": 40
        }
      ]
    },
    {
      "cell_type": "code",
      "source": [
        "cm_nn,cr_nn,auc_score_nn,_  = test_eval(model_nn,test_X,test_y)\n",
        "fpr_nn, tpr_nn, thresh_nn = roc_curve(test_y, model_nn.predict(test_X), pos_label = 1)\n",
        "precision_nn, recall_nn, _ = precision_recall_curve(test_y, model_nn.predict(test_X))"
      ],
      "metadata": {
        "colab": {
          "base_uri": "https://localhost:8080/"
        },
        "id": "t-XG8IW6nce6",
        "outputId": "dcfc3c18-7319-4b88-b2c0-fd777f045d8c"
      },
      "execution_count": 41,
      "outputs": [
        {
          "output_type": "stream",
          "name": "stdout",
          "text": [
            "Confusion Matrix\n",
            "====================\n",
            "[[865 168]\n",
            " [129 245]] \n",
            "\n",
            "Classification Report\n",
            "====================\n",
            "              precision    recall  f1-score   support\n",
            "\n",
            "           0       0.87      0.84      0.85      1033\n",
            "           1       0.59      0.66      0.62       374\n",
            "\n",
            "    accuracy                           0.79      1407\n",
            "   macro avg       0.73      0.75      0.74      1407\n",
            "weighted avg       0.80      0.79      0.79      1407\n",
            "\n"
          ]
        }
      ]
    },
    {
      "cell_type": "code",
      "source": [
        "plot_cmatrix(cm_nn, name = 'NN')"
      ],
      "metadata": {
        "colab": {
          "base_uri": "https://localhost:8080/",
          "height": 417
        },
        "id": "1aA2tK48ncim",
        "outputId": "5169613c-7de1-4a94-872b-82be135d9758"
      },
      "execution_count": 42,
      "outputs": [
        {
          "output_type": "display_data",
          "data": {
            "text/html": [
              "<html>\n",
              "<head><meta charset=\"utf-8\" /></head>\n",
              "<body>\n",
              "    <div>\n",
              "            <script src=\"https://cdnjs.cloudflare.com/ajax/libs/mathjax/2.7.5/MathJax.js?config=TeX-AMS-MML_SVG\"></script><script type=\"text/javascript\">if (window.MathJax) {MathJax.Hub.Config({SVG: {font: \"STIX-Web\"}});}</script>\n",
              "                <script type=\"text/javascript\">window.PlotlyConfig = {MathJaxConfig: 'local'};</script>\n",
              "        <script src=\"https://cdn.plot.ly/plotly-latest.min.js\"></script>    \n",
              "            <div id=\"d7541c45-e444-4fca-b979-f064e6ed1c93\" class=\"plotly-graph-div\" style=\"height:400px; width:400px;\"></div>\n",
              "            <script type=\"text/javascript\">\n",
              "                \n",
              "                    window.PLOTLYENV=window.PLOTLYENV || {};\n",
              "                    \n",
              "                if (document.getElementById(\"d7541c45-e444-4fca-b979-f064e6ed1c93\")) {\n",
              "                    Plotly.newPlot(\n",
              "                        'd7541c45-e444-4fca-b979-f064e6ed1c93',\n",
              "                        [{\"coloraxis\": \"coloraxis\", \"type\": \"heatmap\", \"z\": [[865, 168], [129, 245]]}],\n",
              "                        {\"annotations\": [{\"font\": {\"color\": \"black\", \"size\": 12}, \"showarrow\": false, \"text\": \"865\", \"x\": 0, \"y\": 0}, {\"font\": {\"color\": \"black\", \"size\": 12}, \"showarrow\": false, \"text\": \"168\", \"x\": 1, \"y\": 0}, {\"font\": {\"color\": \"black\", \"size\": 12}, \"showarrow\": false, \"text\": \"129\", \"x\": 0, \"y\": 1}, {\"font\": {\"color\": \"black\", \"size\": 12}, \"showarrow\": false, \"text\": \"245\", \"x\": 1, \"y\": 1}], \"coloraxis\": {\"colorscale\": [[0.0, \"peachpuff\"], [0.5, \"lime\"], [1.0, \"green\"]]}, \"height\": 400, \"margin\": {\"t\": 60}, \"template\": {\"data\": {\"bar\": [{\"error_x\": {\"color\": \"#2a3f5f\"}, \"error_y\": {\"color\": \"#2a3f5f\"}, \"marker\": {\"line\": {\"color\": \"#E5ECF6\", \"width\": 0.5}}, \"type\": \"bar\"}], \"barpolar\": [{\"marker\": {\"line\": {\"color\": \"#E5ECF6\", \"width\": 0.5}}, \"type\": \"barpolar\"}], \"carpet\": [{\"aaxis\": {\"endlinecolor\": \"#2a3f5f\", \"gridcolor\": \"white\", \"linecolor\": \"white\", \"minorgridcolor\": \"white\", \"startlinecolor\": \"#2a3f5f\"}, \"baxis\": {\"endlinecolor\": \"#2a3f5f\", \"gridcolor\": \"white\", \"linecolor\": \"white\", \"minorgridcolor\": \"white\", \"startlinecolor\": \"#2a3f5f\"}, \"type\": \"carpet\"}], \"choropleth\": [{\"colorbar\": {\"outlinewidth\": 0, \"ticks\": \"\"}, \"type\": \"choropleth\"}], \"contour\": [{\"colorbar\": {\"outlinewidth\": 0, \"ticks\": \"\"}, \"colorscale\": [[0.0, \"#0d0887\"], [0.1111111111111111, \"#46039f\"], [0.2222222222222222, \"#7201a8\"], [0.3333333333333333, \"#9c179e\"], [0.4444444444444444, \"#bd3786\"], [0.5555555555555556, \"#d8576b\"], [0.6666666666666666, \"#ed7953\"], [0.7777777777777778, \"#fb9f3a\"], [0.8888888888888888, \"#fdca26\"], [1.0, \"#f0f921\"]], \"type\": \"contour\"}], \"contourcarpet\": [{\"colorbar\": {\"outlinewidth\": 0, \"ticks\": \"\"}, \"type\": \"contourcarpet\"}], \"heatmap\": [{\"colorbar\": {\"outlinewidth\": 0, \"ticks\": \"\"}, \"colorscale\": [[0.0, \"#0d0887\"], [0.1111111111111111, \"#46039f\"], [0.2222222222222222, \"#7201a8\"], [0.3333333333333333, \"#9c179e\"], [0.4444444444444444, \"#bd3786\"], [0.5555555555555556, \"#d8576b\"], [0.6666666666666666, \"#ed7953\"], [0.7777777777777778, \"#fb9f3a\"], [0.8888888888888888, \"#fdca26\"], [1.0, \"#f0f921\"]], \"type\": \"heatmap\"}], \"heatmapgl\": [{\"colorbar\": {\"outlinewidth\": 0, \"ticks\": \"\"}, \"colorscale\": [[0.0, \"#0d0887\"], [0.1111111111111111, \"#46039f\"], [0.2222222222222222, \"#7201a8\"], [0.3333333333333333, \"#9c179e\"], [0.4444444444444444, \"#bd3786\"], [0.5555555555555556, \"#d8576b\"], [0.6666666666666666, \"#ed7953\"], [0.7777777777777778, \"#fb9f3a\"], [0.8888888888888888, \"#fdca26\"], [1.0, \"#f0f921\"]], \"type\": \"heatmapgl\"}], \"histogram\": [{\"marker\": {\"colorbar\": {\"outlinewidth\": 0, \"ticks\": \"\"}}, \"type\": \"histogram\"}], \"histogram2d\": [{\"colorbar\": {\"outlinewidth\": 0, \"ticks\": \"\"}, \"colorscale\": [[0.0, \"#0d0887\"], [0.1111111111111111, \"#46039f\"], [0.2222222222222222, \"#7201a8\"], [0.3333333333333333, \"#9c179e\"], [0.4444444444444444, \"#bd3786\"], [0.5555555555555556, \"#d8576b\"], [0.6666666666666666, \"#ed7953\"], [0.7777777777777778, \"#fb9f3a\"], [0.8888888888888888, \"#fdca26\"], [1.0, \"#f0f921\"]], \"type\": \"histogram2d\"}], \"histogram2dcontour\": [{\"colorbar\": {\"outlinewidth\": 0, \"ticks\": \"\"}, \"colorscale\": [[0.0, \"#0d0887\"], [0.1111111111111111, \"#46039f\"], [0.2222222222222222, \"#7201a8\"], [0.3333333333333333, \"#9c179e\"], [0.4444444444444444, \"#bd3786\"], [0.5555555555555556, \"#d8576b\"], [0.6666666666666666, \"#ed7953\"], [0.7777777777777778, \"#fb9f3a\"], [0.8888888888888888, \"#fdca26\"], [1.0, \"#f0f921\"]], \"type\": \"histogram2dcontour\"}], \"mesh3d\": [{\"colorbar\": {\"outlinewidth\": 0, \"ticks\": \"\"}, \"type\": \"mesh3d\"}], \"parcoords\": [{\"line\": {\"colorbar\": {\"outlinewidth\": 0, \"ticks\": \"\"}}, \"type\": \"parcoords\"}], \"pie\": [{\"automargin\": true, \"type\": \"pie\"}], \"scatter\": [{\"marker\": {\"colorbar\": {\"outlinewidth\": 0, \"ticks\": \"\"}}, \"type\": \"scatter\"}], \"scatter3d\": [{\"line\": {\"colorbar\": {\"outlinewidth\": 0, \"ticks\": \"\"}}, \"marker\": {\"colorbar\": {\"outlinewidth\": 0, \"ticks\": \"\"}}, \"type\": \"scatter3d\"}], \"scattercarpet\": [{\"marker\": {\"colorbar\": {\"outlinewidth\": 0, \"ticks\": \"\"}}, \"type\": \"scattercarpet\"}], \"scattergeo\": [{\"marker\": {\"colorbar\": {\"outlinewidth\": 0, \"ticks\": \"\"}}, \"type\": \"scattergeo\"}], \"scattergl\": [{\"marker\": {\"colorbar\": {\"outlinewidth\": 0, \"ticks\": \"\"}}, \"type\": \"scattergl\"}], \"scattermapbox\": [{\"marker\": {\"colorbar\": {\"outlinewidth\": 0, \"ticks\": \"\"}}, \"type\": \"scattermapbox\"}], \"scatterpolar\": [{\"marker\": {\"colorbar\": {\"outlinewidth\": 0, \"ticks\": \"\"}}, \"type\": \"scatterpolar\"}], \"scatterpolargl\": [{\"marker\": {\"colorbar\": {\"outlinewidth\": 0, \"ticks\": \"\"}}, \"type\": \"scatterpolargl\"}], \"scatterternary\": [{\"marker\": {\"colorbar\": {\"outlinewidth\": 0, \"ticks\": \"\"}}, \"type\": \"scatterternary\"}], \"surface\": [{\"colorbar\": {\"outlinewidth\": 0, \"ticks\": \"\"}, \"colorscale\": [[0.0, \"#0d0887\"], [0.1111111111111111, \"#46039f\"], [0.2222222222222222, \"#7201a8\"], [0.3333333333333333, \"#9c179e\"], [0.4444444444444444, \"#bd3786\"], [0.5555555555555556, \"#d8576b\"], [0.6666666666666666, \"#ed7953\"], [0.7777777777777778, \"#fb9f3a\"], [0.8888888888888888, \"#fdca26\"], [1.0, \"#f0f921\"]], \"type\": \"surface\"}], \"table\": [{\"cells\": {\"fill\": {\"color\": \"#EBF0F8\"}, \"line\": {\"color\": \"white\"}}, \"header\": {\"fill\": {\"color\": \"#C8D4E3\"}, \"line\": {\"color\": \"white\"}}, \"type\": \"table\"}]}, \"layout\": {\"annotationdefaults\": {\"arrowcolor\": \"#2a3f5f\", \"arrowhead\": 0, \"arrowwidth\": 1}, \"coloraxis\": {\"colorbar\": {\"outlinewidth\": 0, \"ticks\": \"\"}}, \"colorscale\": {\"diverging\": [[0, \"#8e0152\"], [0.1, \"#c51b7d\"], [0.2, \"#de77ae\"], [0.3, \"#f1b6da\"], [0.4, \"#fde0ef\"], [0.5, \"#f7f7f7\"], [0.6, \"#e6f5d0\"], [0.7, \"#b8e186\"], [0.8, \"#7fbc41\"], [0.9, \"#4d9221\"], [1, \"#276419\"]], \"sequential\": [[0.0, \"#0d0887\"], [0.1111111111111111, \"#46039f\"], [0.2222222222222222, \"#7201a8\"], [0.3333333333333333, \"#9c179e\"], [0.4444444444444444, \"#bd3786\"], [0.5555555555555556, \"#d8576b\"], [0.6666666666666666, \"#ed7953\"], [0.7777777777777778, \"#fb9f3a\"], [0.8888888888888888, \"#fdca26\"], [1.0, \"#f0f921\"]], \"sequentialminus\": [[0.0, \"#0d0887\"], [0.1111111111111111, \"#46039f\"], [0.2222222222222222, \"#7201a8\"], [0.3333333333333333, \"#9c179e\"], [0.4444444444444444, \"#bd3786\"], [0.5555555555555556, \"#d8576b\"], [0.6666666666666666, \"#ed7953\"], [0.7777777777777778, \"#fb9f3a\"], [0.8888888888888888, \"#fdca26\"], [1.0, \"#f0f921\"]]}, \"colorway\": [\"#636efa\", \"#EF553B\", \"#00cc96\", \"#ab63fa\", \"#FFA15A\", \"#19d3f3\", \"#FF6692\", \"#B6E880\", \"#FF97FF\", \"#FECB52\"], \"font\": {\"color\": \"#2a3f5f\"}, \"geo\": {\"bgcolor\": \"white\", \"lakecolor\": \"white\", \"landcolor\": \"#E5ECF6\", \"showlakes\": true, \"showland\": true, \"subunitcolor\": \"white\"}, \"hoverlabel\": {\"align\": \"left\"}, \"hovermode\": \"closest\", \"mapbox\": {\"style\": \"light\"}, \"paper_bgcolor\": \"white\", \"plot_bgcolor\": \"#E5ECF6\", \"polar\": {\"angularaxis\": {\"gridcolor\": \"white\", \"linecolor\": \"white\", \"ticks\": \"\"}, \"bgcolor\": \"#E5ECF6\", \"radialaxis\": {\"gridcolor\": \"white\", \"linecolor\": \"white\", \"ticks\": \"\"}}, \"scene\": {\"xaxis\": {\"backgroundcolor\": \"#E5ECF6\", \"gridcolor\": \"white\", \"gridwidth\": 2, \"linecolor\": \"white\", \"showbackground\": true, \"ticks\": \"\", \"zerolinecolor\": \"white\"}, \"yaxis\": {\"backgroundcolor\": \"#E5ECF6\", \"gridcolor\": \"white\", \"gridwidth\": 2, \"linecolor\": \"white\", \"showbackground\": true, \"ticks\": \"\", \"zerolinecolor\": \"white\"}, \"zaxis\": {\"backgroundcolor\": \"#E5ECF6\", \"gridcolor\": \"white\", \"gridwidth\": 2, \"linecolor\": \"white\", \"showbackground\": true, \"ticks\": \"\", \"zerolinecolor\": \"white\"}}, \"shapedefaults\": {\"line\": {\"color\": \"#2a3f5f\"}}, \"ternary\": {\"aaxis\": {\"gridcolor\": \"white\", \"linecolor\": \"white\", \"ticks\": \"\"}, \"baxis\": {\"gridcolor\": \"white\", \"linecolor\": \"white\", \"ticks\": \"\"}, \"bgcolor\": \"#E5ECF6\", \"caxis\": {\"gridcolor\": \"white\", \"linecolor\": \"white\", \"ticks\": \"\"}}, \"title\": {\"x\": 0.05}, \"xaxis\": {\"automargin\": true, \"gridcolor\": \"white\", \"linecolor\": \"white\", \"ticks\": \"\", \"title\": {\"standoff\": 15}, \"zerolinecolor\": \"white\", \"zerolinewidth\": 2}, \"yaxis\": {\"automargin\": true, \"gridcolor\": \"white\", \"linecolor\": \"white\", \"ticks\": \"\", \"title\": {\"standoff\": 15}, \"zerolinecolor\": \"white\", \"zerolinewidth\": 2}}}, \"title\": {\"text\": \"Confusion Matrix (NN)\", \"x\": 0.5}, \"width\": 400, \"xaxis\": {\"constrain\": \"domain\", \"dtick\": 1, \"scaleanchor\": \"y\", \"tick0\": 0, \"tickmode\": \"linear\", \"title\": {\"text\": \"Prediction\"}}, \"yaxis\": {\"autorange\": \"reversed\", \"constrain\": \"domain\", \"dtick\": 1, \"tick0\": 0, \"tickmode\": \"linear\", \"title\": {\"text\": \"Truth\"}}},\n",
              "                        {\"responsive\": true}\n",
              "                    ).then(function(){\n",
              "                            \n",
              "var gd = document.getElementById('d7541c45-e444-4fca-b979-f064e6ed1c93');\n",
              "var x = new MutationObserver(function (mutations, observer) {{\n",
              "        var display = window.getComputedStyle(gd).display;\n",
              "        if (!display || display === 'none') {{\n",
              "            console.log([gd, 'removed!']);\n",
              "            Plotly.purge(gd);\n",
              "            observer.disconnect();\n",
              "        }}\n",
              "}});\n",
              "\n",
              "// Listen for the removal of the full notebook cells\n",
              "var notebookContainer = gd.closest('#notebook-container');\n",
              "if (notebookContainer) {{\n",
              "    x.observe(notebookContainer, {childList: true});\n",
              "}}\n",
              "\n",
              "// Listen for the clearing of the current output cell\n",
              "var outputEl = gd.closest('.output');\n",
              "if (outputEl) {{\n",
              "    x.observe(outputEl, {childList: true});\n",
              "}}\n",
              "\n",
              "                        })\n",
              "                };\n",
              "                \n",
              "            </script>\n",
              "        </div>\n",
              "</body>\n",
              "</html>"
            ]
          },
          "metadata": {}
        }
      ]
    },
    {
      "cell_type": "markdown",
      "source": [
        "### Churn Prediction using SVC"
      ],
      "metadata": {
        "id": "lPbLgbIAnkvw"
      }
    },
    {
      "cell_type": "code",
      "source": [
        "# SVC probability para has to set True for predict_proba function\n",
        "para_svc = {'C':[1,10,20], \"probability\":[True]}\n",
        "\n",
        "model_svc = GridSearchCV(estimator = SVC(),\n",
        "                    param_grid = para_svc,\n",
        "                    cv=10,\n",
        "                    verbose=0,\n",
        "                    n_jobs=-1\n",
        "                   )\n",
        "model_svc.fit(train_X_re,train_y_re)"
      ],
      "metadata": {
        "colab": {
          "base_uri": "https://localhost:8080/"
        },
        "id": "yPSDuB99nZaO",
        "outputId": "72679973-f6ae-4371-b44d-9d32fea54276"
      },
      "execution_count": 43,
      "outputs": [
        {
          "output_type": "execute_result",
          "data": {
            "text/plain": [
              "GridSearchCV(cv=10, estimator=SVC(), n_jobs=-1,\n",
              "             param_grid={'C': [1, 10, 20], 'probability': [True]})"
            ]
          },
          "metadata": {},
          "execution_count": 43
        }
      ]
    },
    {
      "cell_type": "code",
      "source": [
        "model_svc.best_params_"
      ],
      "metadata": {
        "colab": {
          "base_uri": "https://localhost:8080/"
        },
        "id": "442s4P-AnqMO",
        "outputId": "aae0b329-96c3-4e0e-f20d-de9a2c2555be"
      },
      "execution_count": 44,
      "outputs": [
        {
          "output_type": "execute_result",
          "data": {
            "text/plain": [
              "{'C': 20, 'probability': True}"
            ]
          },
          "metadata": {},
          "execution_count": 44
        }
      ]
    },
    {
      "cell_type": "code",
      "source": [
        "cm_svc,cr_svc,auc_score_svc,_  = test_eval(model_svc,test_X,test_y)\n",
        "fpr_svc, tpr_svc, thresh_svc = roc_curve(test_y, model_svc.predict_proba(test_X)[:,1], pos_label = 1)\n",
        "precision_svc, recall_svc, _ = precision_recall_curve(test_y, model_svc.predict_proba(test_X)[:,1], pos_label=1)"
      ],
      "metadata": {
        "colab": {
          "base_uri": "https://localhost:8080/"
        },
        "id": "gWoaA761nZdK",
        "outputId": "d2905da2-b25a-42d3-f12c-d5cacbe1e9c3"
      },
      "execution_count": 45,
      "outputs": [
        {
          "output_type": "stream",
          "name": "stdout",
          "text": [
            "Confusion Matrix\n",
            "====================\n",
            "[[785 248]\n",
            " [121 253]] \n",
            "\n",
            "Classification Report\n",
            "====================\n",
            "              precision    recall  f1-score   support\n",
            "\n",
            "           0       0.87      0.76      0.81      1033\n",
            "           1       0.50      0.68      0.58       374\n",
            "\n",
            "    accuracy                           0.74      1407\n",
            "   macro avg       0.69      0.72      0.69      1407\n",
            "weighted avg       0.77      0.74      0.75      1407\n",
            "\n"
          ]
        }
      ]
    },
    {
      "cell_type": "code",
      "source": [
        "plot_cmatrix(cm_svc, name='SVC')"
      ],
      "metadata": {
        "colab": {
          "base_uri": "https://localhost:8080/",
          "height": 417
        },
        "id": "4_ukYLHrnzY6",
        "outputId": "e3d1d0ed-43d5-4fe8-c720-861656f6f0c7"
      },
      "execution_count": 46,
      "outputs": [
        {
          "output_type": "display_data",
          "data": {
            "text/html": [
              "<html>\n",
              "<head><meta charset=\"utf-8\" /></head>\n",
              "<body>\n",
              "    <div>\n",
              "            <script src=\"https://cdnjs.cloudflare.com/ajax/libs/mathjax/2.7.5/MathJax.js?config=TeX-AMS-MML_SVG\"></script><script type=\"text/javascript\">if (window.MathJax) {MathJax.Hub.Config({SVG: {font: \"STIX-Web\"}});}</script>\n",
              "                <script type=\"text/javascript\">window.PlotlyConfig = {MathJaxConfig: 'local'};</script>\n",
              "        <script src=\"https://cdn.plot.ly/plotly-latest.min.js\"></script>    \n",
              "            <div id=\"577fb03b-29a8-4e8f-9f9f-868f105c9149\" class=\"plotly-graph-div\" style=\"height:400px; width:400px;\"></div>\n",
              "            <script type=\"text/javascript\">\n",
              "                \n",
              "                    window.PLOTLYENV=window.PLOTLYENV || {};\n",
              "                    \n",
              "                if (document.getElementById(\"577fb03b-29a8-4e8f-9f9f-868f105c9149\")) {\n",
              "                    Plotly.newPlot(\n",
              "                        '577fb03b-29a8-4e8f-9f9f-868f105c9149',\n",
              "                        [{\"coloraxis\": \"coloraxis\", \"type\": \"heatmap\", \"z\": [[785, 248], [121, 253]]}],\n",
              "                        {\"annotations\": [{\"font\": {\"color\": \"black\", \"size\": 12}, \"showarrow\": false, \"text\": \"785\", \"x\": 0, \"y\": 0}, {\"font\": {\"color\": \"black\", \"size\": 12}, \"showarrow\": false, \"text\": \"248\", \"x\": 1, \"y\": 0}, {\"font\": {\"color\": \"black\", \"size\": 12}, \"showarrow\": false, \"text\": \"121\", \"x\": 0, \"y\": 1}, {\"font\": {\"color\": \"black\", \"size\": 12}, \"showarrow\": false, \"text\": \"253\", \"x\": 1, \"y\": 1}], \"coloraxis\": {\"colorscale\": [[0.0, \"peachpuff\"], [0.5, \"lime\"], [1.0, \"green\"]]}, \"height\": 400, \"margin\": {\"t\": 60}, \"template\": {\"data\": {\"bar\": [{\"error_x\": {\"color\": \"#2a3f5f\"}, \"error_y\": {\"color\": \"#2a3f5f\"}, \"marker\": {\"line\": {\"color\": \"#E5ECF6\", \"width\": 0.5}}, \"type\": \"bar\"}], \"barpolar\": [{\"marker\": {\"line\": {\"color\": \"#E5ECF6\", \"width\": 0.5}}, \"type\": \"barpolar\"}], \"carpet\": [{\"aaxis\": {\"endlinecolor\": \"#2a3f5f\", \"gridcolor\": \"white\", \"linecolor\": \"white\", \"minorgridcolor\": \"white\", \"startlinecolor\": \"#2a3f5f\"}, \"baxis\": {\"endlinecolor\": \"#2a3f5f\", \"gridcolor\": \"white\", \"linecolor\": \"white\", \"minorgridcolor\": \"white\", \"startlinecolor\": \"#2a3f5f\"}, \"type\": \"carpet\"}], \"choropleth\": [{\"colorbar\": {\"outlinewidth\": 0, \"ticks\": \"\"}, \"type\": \"choropleth\"}], \"contour\": [{\"colorbar\": {\"outlinewidth\": 0, \"ticks\": \"\"}, \"colorscale\": [[0.0, \"#0d0887\"], [0.1111111111111111, \"#46039f\"], [0.2222222222222222, \"#7201a8\"], [0.3333333333333333, \"#9c179e\"], [0.4444444444444444, \"#bd3786\"], [0.5555555555555556, \"#d8576b\"], [0.6666666666666666, \"#ed7953\"], [0.7777777777777778, \"#fb9f3a\"], [0.8888888888888888, \"#fdca26\"], [1.0, \"#f0f921\"]], \"type\": \"contour\"}], \"contourcarpet\": [{\"colorbar\": {\"outlinewidth\": 0, \"ticks\": \"\"}, \"type\": \"contourcarpet\"}], \"heatmap\": [{\"colorbar\": {\"outlinewidth\": 0, \"ticks\": \"\"}, \"colorscale\": [[0.0, \"#0d0887\"], [0.1111111111111111, \"#46039f\"], [0.2222222222222222, \"#7201a8\"], [0.3333333333333333, \"#9c179e\"], [0.4444444444444444, \"#bd3786\"], [0.5555555555555556, \"#d8576b\"], [0.6666666666666666, \"#ed7953\"], [0.7777777777777778, \"#fb9f3a\"], [0.8888888888888888, \"#fdca26\"], [1.0, \"#f0f921\"]], \"type\": \"heatmap\"}], \"heatmapgl\": [{\"colorbar\": {\"outlinewidth\": 0, \"ticks\": \"\"}, \"colorscale\": [[0.0, \"#0d0887\"], [0.1111111111111111, \"#46039f\"], [0.2222222222222222, \"#7201a8\"], [0.3333333333333333, \"#9c179e\"], [0.4444444444444444, \"#bd3786\"], [0.5555555555555556, \"#d8576b\"], [0.6666666666666666, \"#ed7953\"], [0.7777777777777778, \"#fb9f3a\"], [0.8888888888888888, \"#fdca26\"], [1.0, \"#f0f921\"]], \"type\": \"heatmapgl\"}], \"histogram\": [{\"marker\": {\"colorbar\": {\"outlinewidth\": 0, \"ticks\": \"\"}}, \"type\": \"histogram\"}], \"histogram2d\": [{\"colorbar\": {\"outlinewidth\": 0, \"ticks\": \"\"}, \"colorscale\": [[0.0, \"#0d0887\"], [0.1111111111111111, \"#46039f\"], [0.2222222222222222, \"#7201a8\"], [0.3333333333333333, \"#9c179e\"], [0.4444444444444444, \"#bd3786\"], [0.5555555555555556, \"#d8576b\"], [0.6666666666666666, \"#ed7953\"], [0.7777777777777778, \"#fb9f3a\"], [0.8888888888888888, \"#fdca26\"], [1.0, \"#f0f921\"]], \"type\": \"histogram2d\"}], \"histogram2dcontour\": [{\"colorbar\": {\"outlinewidth\": 0, \"ticks\": \"\"}, \"colorscale\": [[0.0, \"#0d0887\"], [0.1111111111111111, \"#46039f\"], [0.2222222222222222, \"#7201a8\"], [0.3333333333333333, \"#9c179e\"], [0.4444444444444444, \"#bd3786\"], [0.5555555555555556, \"#d8576b\"], [0.6666666666666666, \"#ed7953\"], [0.7777777777777778, \"#fb9f3a\"], [0.8888888888888888, \"#fdca26\"], [1.0, \"#f0f921\"]], \"type\": \"histogram2dcontour\"}], \"mesh3d\": [{\"colorbar\": {\"outlinewidth\": 0, \"ticks\": \"\"}, \"type\": \"mesh3d\"}], \"parcoords\": [{\"line\": {\"colorbar\": {\"outlinewidth\": 0, \"ticks\": \"\"}}, \"type\": \"parcoords\"}], \"pie\": [{\"automargin\": true, \"type\": \"pie\"}], \"scatter\": [{\"marker\": {\"colorbar\": {\"outlinewidth\": 0, \"ticks\": \"\"}}, \"type\": \"scatter\"}], \"scatter3d\": [{\"line\": {\"colorbar\": {\"outlinewidth\": 0, \"ticks\": \"\"}}, \"marker\": {\"colorbar\": {\"outlinewidth\": 0, \"ticks\": \"\"}}, \"type\": \"scatter3d\"}], \"scattercarpet\": [{\"marker\": {\"colorbar\": {\"outlinewidth\": 0, \"ticks\": \"\"}}, \"type\": \"scattercarpet\"}], \"scattergeo\": [{\"marker\": {\"colorbar\": {\"outlinewidth\": 0, \"ticks\": \"\"}}, \"type\": \"scattergeo\"}], \"scattergl\": [{\"marker\": {\"colorbar\": {\"outlinewidth\": 0, \"ticks\": \"\"}}, \"type\": \"scattergl\"}], \"scattermapbox\": [{\"marker\": {\"colorbar\": {\"outlinewidth\": 0, \"ticks\": \"\"}}, \"type\": \"scattermapbox\"}], \"scatterpolar\": [{\"marker\": {\"colorbar\": {\"outlinewidth\": 0, \"ticks\": \"\"}}, \"type\": \"scatterpolar\"}], \"scatterpolargl\": [{\"marker\": {\"colorbar\": {\"outlinewidth\": 0, \"ticks\": \"\"}}, \"type\": \"scatterpolargl\"}], \"scatterternary\": [{\"marker\": {\"colorbar\": {\"outlinewidth\": 0, \"ticks\": \"\"}}, \"type\": \"scatterternary\"}], \"surface\": [{\"colorbar\": {\"outlinewidth\": 0, \"ticks\": \"\"}, \"colorscale\": [[0.0, \"#0d0887\"], [0.1111111111111111, \"#46039f\"], [0.2222222222222222, \"#7201a8\"], [0.3333333333333333, \"#9c179e\"], [0.4444444444444444, \"#bd3786\"], [0.5555555555555556, \"#d8576b\"], [0.6666666666666666, \"#ed7953\"], [0.7777777777777778, \"#fb9f3a\"], [0.8888888888888888, \"#fdca26\"], [1.0, \"#f0f921\"]], \"type\": \"surface\"}], \"table\": [{\"cells\": {\"fill\": {\"color\": \"#EBF0F8\"}, \"line\": {\"color\": \"white\"}}, \"header\": {\"fill\": {\"color\": \"#C8D4E3\"}, \"line\": {\"color\": \"white\"}}, \"type\": \"table\"}]}, \"layout\": {\"annotationdefaults\": {\"arrowcolor\": \"#2a3f5f\", \"arrowhead\": 0, \"arrowwidth\": 1}, \"coloraxis\": {\"colorbar\": {\"outlinewidth\": 0, \"ticks\": \"\"}}, \"colorscale\": {\"diverging\": [[0, \"#8e0152\"], [0.1, \"#c51b7d\"], [0.2, \"#de77ae\"], [0.3, \"#f1b6da\"], [0.4, \"#fde0ef\"], [0.5, \"#f7f7f7\"], [0.6, \"#e6f5d0\"], [0.7, \"#b8e186\"], [0.8, \"#7fbc41\"], [0.9, \"#4d9221\"], [1, \"#276419\"]], \"sequential\": [[0.0, \"#0d0887\"], [0.1111111111111111, \"#46039f\"], [0.2222222222222222, \"#7201a8\"], [0.3333333333333333, \"#9c179e\"], [0.4444444444444444, \"#bd3786\"], [0.5555555555555556, \"#d8576b\"], [0.6666666666666666, \"#ed7953\"], [0.7777777777777778, \"#fb9f3a\"], [0.8888888888888888, \"#fdca26\"], [1.0, \"#f0f921\"]], \"sequentialminus\": [[0.0, \"#0d0887\"], [0.1111111111111111, \"#46039f\"], [0.2222222222222222, \"#7201a8\"], [0.3333333333333333, \"#9c179e\"], [0.4444444444444444, \"#bd3786\"], [0.5555555555555556, \"#d8576b\"], [0.6666666666666666, \"#ed7953\"], [0.7777777777777778, \"#fb9f3a\"], [0.8888888888888888, \"#fdca26\"], [1.0, \"#f0f921\"]]}, \"colorway\": [\"#636efa\", \"#EF553B\", \"#00cc96\", \"#ab63fa\", \"#FFA15A\", \"#19d3f3\", \"#FF6692\", \"#B6E880\", \"#FF97FF\", \"#FECB52\"], \"font\": {\"color\": \"#2a3f5f\"}, \"geo\": {\"bgcolor\": \"white\", \"lakecolor\": \"white\", \"landcolor\": \"#E5ECF6\", \"showlakes\": true, \"showland\": true, \"subunitcolor\": \"white\"}, \"hoverlabel\": {\"align\": \"left\"}, \"hovermode\": \"closest\", \"mapbox\": {\"style\": \"light\"}, \"paper_bgcolor\": \"white\", \"plot_bgcolor\": \"#E5ECF6\", \"polar\": {\"angularaxis\": {\"gridcolor\": \"white\", \"linecolor\": \"white\", \"ticks\": \"\"}, \"bgcolor\": \"#E5ECF6\", \"radialaxis\": {\"gridcolor\": \"white\", \"linecolor\": \"white\", \"ticks\": \"\"}}, \"scene\": {\"xaxis\": {\"backgroundcolor\": \"#E5ECF6\", \"gridcolor\": \"white\", \"gridwidth\": 2, \"linecolor\": \"white\", \"showbackground\": true, \"ticks\": \"\", \"zerolinecolor\": \"white\"}, \"yaxis\": {\"backgroundcolor\": \"#E5ECF6\", \"gridcolor\": \"white\", \"gridwidth\": 2, \"linecolor\": \"white\", \"showbackground\": true, \"ticks\": \"\", \"zerolinecolor\": \"white\"}, \"zaxis\": {\"backgroundcolor\": \"#E5ECF6\", \"gridcolor\": \"white\", \"gridwidth\": 2, \"linecolor\": \"white\", \"showbackground\": true, \"ticks\": \"\", \"zerolinecolor\": \"white\"}}, \"shapedefaults\": {\"line\": {\"color\": \"#2a3f5f\"}}, \"ternary\": {\"aaxis\": {\"gridcolor\": \"white\", \"linecolor\": \"white\", \"ticks\": \"\"}, \"baxis\": {\"gridcolor\": \"white\", \"linecolor\": \"white\", \"ticks\": \"\"}, \"bgcolor\": \"#E5ECF6\", \"caxis\": {\"gridcolor\": \"white\", \"linecolor\": \"white\", \"ticks\": \"\"}}, \"title\": {\"x\": 0.05}, \"xaxis\": {\"automargin\": true, \"gridcolor\": \"white\", \"linecolor\": \"white\", \"ticks\": \"\", \"title\": {\"standoff\": 15}, \"zerolinecolor\": \"white\", \"zerolinewidth\": 2}, \"yaxis\": {\"automargin\": true, \"gridcolor\": \"white\", \"linecolor\": \"white\", \"ticks\": \"\", \"title\": {\"standoff\": 15}, \"zerolinecolor\": \"white\", \"zerolinewidth\": 2}}}, \"title\": {\"text\": \"Confusion Matrix (SVC)\", \"x\": 0.5}, \"width\": 400, \"xaxis\": {\"constrain\": \"domain\", \"dtick\": 1, \"scaleanchor\": \"y\", \"tick0\": 0, \"tickmode\": \"linear\", \"title\": {\"text\": \"Prediction\"}}, \"yaxis\": {\"autorange\": \"reversed\", \"constrain\": \"domain\", \"dtick\": 1, \"tick0\": 0, \"tickmode\": \"linear\", \"title\": {\"text\": \"Truth\"}}},\n",
              "                        {\"responsive\": true}\n",
              "                    ).then(function(){\n",
              "                            \n",
              "var gd = document.getElementById('577fb03b-29a8-4e8f-9f9f-868f105c9149');\n",
              "var x = new MutationObserver(function (mutations, observer) {{\n",
              "        var display = window.getComputedStyle(gd).display;\n",
              "        if (!display || display === 'none') {{\n",
              "            console.log([gd, 'removed!']);\n",
              "            Plotly.purge(gd);\n",
              "            observer.disconnect();\n",
              "        }}\n",
              "}});\n",
              "\n",
              "// Listen for the removal of the full notebook cells\n",
              "var notebookContainer = gd.closest('#notebook-container');\n",
              "if (notebookContainer) {{\n",
              "    x.observe(notebookContainer, {childList: true});\n",
              "}}\n",
              "\n",
              "// Listen for the clearing of the current output cell\n",
              "var outputEl = gd.closest('.output');\n",
              "if (outputEl) {{\n",
              "    x.observe(outputEl, {childList: true});\n",
              "}}\n",
              "\n",
              "                        })\n",
              "                };\n",
              "                \n",
              "            </script>\n",
              "        </div>\n",
              "</body>\n",
              "</html>"
            ]
          },
          "metadata": {}
        }
      ]
    },
    {
      "cell_type": "markdown",
      "source": [
        "### Churn Prediction using KNN"
      ],
      "metadata": {
        "id": "KergaSANn6i0"
      }
    },
    {
      "cell_type": "code",
      "source": [
        "para_knn = {'n_neighbors':[7,11]}\n",
        "\n",
        "model_knn = GridSearchCV(estimator = KNeighborsClassifier(),\n",
        "                    param_grid = para_knn,\n",
        "                    cv=10,\n",
        "                    verbose=0,\n",
        "                    n_jobs=-1\n",
        "                   )\n",
        "\n",
        "model_knn.fit(train_X_re,train_y_re)"
      ],
      "metadata": {
        "colab": {
          "base_uri": "https://localhost:8080/"
        },
        "id": "TNB4OK64nzbU",
        "outputId": "3906a065-2d5f-40de-f0d1-bbd769813805"
      },
      "execution_count": 47,
      "outputs": [
        {
          "output_type": "execute_result",
          "data": {
            "text/plain": [
              "GridSearchCV(cv=10, estimator=KNeighborsClassifier(), n_jobs=-1,\n",
              "             param_grid={'n_neighbors': [7, 11]})"
            ]
          },
          "metadata": {},
          "execution_count": 47
        }
      ]
    },
    {
      "cell_type": "code",
      "source": [
        "model_knn.best_params_"
      ],
      "metadata": {
        "colab": {
          "base_uri": "https://localhost:8080/"
        },
        "id": "QnbiAhMln_yL",
        "outputId": "d7d13ba9-74c7-4226-b05c-8373f387e816"
      },
      "execution_count": 48,
      "outputs": [
        {
          "output_type": "execute_result",
          "data": {
            "text/plain": [
              "{'n_neighbors': 7}"
            ]
          },
          "metadata": {},
          "execution_count": 48
        }
      ]
    },
    {
      "cell_type": "code",
      "source": [
        "cm_knn,cr_knn,auc_score_knn,_  = test_eval(model_knn,test_X,test_y)\n",
        "fpr_knn, tpr_knn, thresh_knn = roc_curve(test_y, model_knn.predict_proba(test_X)[:,1], pos_label = 1)\n",
        "precision_knn, recall_knn, _ = precision_recall_curve(test_y, model_knn.predict_proba(test_X)[:,1], pos_label=1)"
      ],
      "metadata": {
        "colab": {
          "base_uri": "https://localhost:8080/"
        },
        "id": "4IbXWDjnnzep",
        "outputId": "a1a7af29-0f84-4776-c58e-7467498fec01"
      },
      "execution_count": 49,
      "outputs": [
        {
          "output_type": "stream",
          "name": "stdout",
          "text": [
            "Confusion Matrix\n",
            "====================\n",
            "[[713 320]\n",
            " [ 93 281]] \n",
            "\n",
            "Classification Report\n",
            "====================\n",
            "              precision    recall  f1-score   support\n",
            "\n",
            "           0       0.88      0.69      0.78      1033\n",
            "           1       0.47      0.75      0.58       374\n",
            "\n",
            "    accuracy                           0.71      1407\n",
            "   macro avg       0.68      0.72      0.68      1407\n",
            "weighted avg       0.77      0.71      0.72      1407\n",
            "\n"
          ]
        }
      ]
    },
    {
      "cell_type": "code",
      "source": [
        "plot_cmatrix(cm_knn, name='KNN')"
      ],
      "metadata": {
        "colab": {
          "base_uri": "https://localhost:8080/",
          "height": 417
        },
        "id": "NOy7Tpo3oF_8",
        "outputId": "3b460a63-1f05-47ee-88e3-22ef5b09c273"
      },
      "execution_count": 50,
      "outputs": [
        {
          "output_type": "display_data",
          "data": {
            "text/html": [
              "<html>\n",
              "<head><meta charset=\"utf-8\" /></head>\n",
              "<body>\n",
              "    <div>\n",
              "            <script src=\"https://cdnjs.cloudflare.com/ajax/libs/mathjax/2.7.5/MathJax.js?config=TeX-AMS-MML_SVG\"></script><script type=\"text/javascript\">if (window.MathJax) {MathJax.Hub.Config({SVG: {font: \"STIX-Web\"}});}</script>\n",
              "                <script type=\"text/javascript\">window.PlotlyConfig = {MathJaxConfig: 'local'};</script>\n",
              "        <script src=\"https://cdn.plot.ly/plotly-latest.min.js\"></script>    \n",
              "            <div id=\"a51ecdf4-76b8-44da-bbb9-59893937bd8c\" class=\"plotly-graph-div\" style=\"height:400px; width:400px;\"></div>\n",
              "            <script type=\"text/javascript\">\n",
              "                \n",
              "                    window.PLOTLYENV=window.PLOTLYENV || {};\n",
              "                    \n",
              "                if (document.getElementById(\"a51ecdf4-76b8-44da-bbb9-59893937bd8c\")) {\n",
              "                    Plotly.newPlot(\n",
              "                        'a51ecdf4-76b8-44da-bbb9-59893937bd8c',\n",
              "                        [{\"coloraxis\": \"coloraxis\", \"type\": \"heatmap\", \"z\": [[713, 320], [93, 281]]}],\n",
              "                        {\"annotations\": [{\"font\": {\"color\": \"black\", \"size\": 12}, \"showarrow\": false, \"text\": \"713\", \"x\": 0, \"y\": 0}, {\"font\": {\"color\": \"black\", \"size\": 12}, \"showarrow\": false, \"text\": \"320\", \"x\": 1, \"y\": 0}, {\"font\": {\"color\": \"black\", \"size\": 12}, \"showarrow\": false, \"text\": \"93\", \"x\": 0, \"y\": 1}, {\"font\": {\"color\": \"black\", \"size\": 12}, \"showarrow\": false, \"text\": \"281\", \"x\": 1, \"y\": 1}], \"coloraxis\": {\"colorscale\": [[0.0, \"peachpuff\"], [0.5, \"lime\"], [1.0, \"green\"]]}, \"height\": 400, \"margin\": {\"t\": 60}, \"template\": {\"data\": {\"bar\": [{\"error_x\": {\"color\": \"#2a3f5f\"}, \"error_y\": {\"color\": \"#2a3f5f\"}, \"marker\": {\"line\": {\"color\": \"#E5ECF6\", \"width\": 0.5}}, \"type\": \"bar\"}], \"barpolar\": [{\"marker\": {\"line\": {\"color\": \"#E5ECF6\", \"width\": 0.5}}, \"type\": \"barpolar\"}], \"carpet\": [{\"aaxis\": {\"endlinecolor\": \"#2a3f5f\", \"gridcolor\": \"white\", \"linecolor\": \"white\", \"minorgridcolor\": \"white\", \"startlinecolor\": \"#2a3f5f\"}, \"baxis\": {\"endlinecolor\": \"#2a3f5f\", \"gridcolor\": \"white\", \"linecolor\": \"white\", \"minorgridcolor\": \"white\", \"startlinecolor\": \"#2a3f5f\"}, \"type\": \"carpet\"}], \"choropleth\": [{\"colorbar\": {\"outlinewidth\": 0, \"ticks\": \"\"}, \"type\": \"choropleth\"}], \"contour\": [{\"colorbar\": {\"outlinewidth\": 0, \"ticks\": \"\"}, \"colorscale\": [[0.0, \"#0d0887\"], [0.1111111111111111, \"#46039f\"], [0.2222222222222222, \"#7201a8\"], [0.3333333333333333, \"#9c179e\"], [0.4444444444444444, \"#bd3786\"], [0.5555555555555556, \"#d8576b\"], [0.6666666666666666, \"#ed7953\"], [0.7777777777777778, \"#fb9f3a\"], [0.8888888888888888, \"#fdca26\"], [1.0, \"#f0f921\"]], \"type\": \"contour\"}], \"contourcarpet\": [{\"colorbar\": {\"outlinewidth\": 0, \"ticks\": \"\"}, \"type\": \"contourcarpet\"}], \"heatmap\": [{\"colorbar\": {\"outlinewidth\": 0, \"ticks\": \"\"}, \"colorscale\": [[0.0, \"#0d0887\"], [0.1111111111111111, \"#46039f\"], [0.2222222222222222, \"#7201a8\"], [0.3333333333333333, \"#9c179e\"], [0.4444444444444444, \"#bd3786\"], [0.5555555555555556, \"#d8576b\"], [0.6666666666666666, \"#ed7953\"], [0.7777777777777778, \"#fb9f3a\"], [0.8888888888888888, \"#fdca26\"], [1.0, \"#f0f921\"]], \"type\": \"heatmap\"}], \"heatmapgl\": [{\"colorbar\": {\"outlinewidth\": 0, \"ticks\": \"\"}, \"colorscale\": [[0.0, \"#0d0887\"], [0.1111111111111111, \"#46039f\"], [0.2222222222222222, \"#7201a8\"], [0.3333333333333333, \"#9c179e\"], [0.4444444444444444, \"#bd3786\"], [0.5555555555555556, \"#d8576b\"], [0.6666666666666666, \"#ed7953\"], [0.7777777777777778, \"#fb9f3a\"], [0.8888888888888888, \"#fdca26\"], [1.0, \"#f0f921\"]], \"type\": \"heatmapgl\"}], \"histogram\": [{\"marker\": {\"colorbar\": {\"outlinewidth\": 0, \"ticks\": \"\"}}, \"type\": \"histogram\"}], \"histogram2d\": [{\"colorbar\": {\"outlinewidth\": 0, \"ticks\": \"\"}, \"colorscale\": [[0.0, \"#0d0887\"], [0.1111111111111111, \"#46039f\"], [0.2222222222222222, \"#7201a8\"], [0.3333333333333333, \"#9c179e\"], [0.4444444444444444, \"#bd3786\"], [0.5555555555555556, \"#d8576b\"], [0.6666666666666666, \"#ed7953\"], [0.7777777777777778, \"#fb9f3a\"], [0.8888888888888888, \"#fdca26\"], [1.0, \"#f0f921\"]], \"type\": \"histogram2d\"}], \"histogram2dcontour\": [{\"colorbar\": {\"outlinewidth\": 0, \"ticks\": \"\"}, \"colorscale\": [[0.0, \"#0d0887\"], [0.1111111111111111, \"#46039f\"], [0.2222222222222222, \"#7201a8\"], [0.3333333333333333, \"#9c179e\"], [0.4444444444444444, \"#bd3786\"], [0.5555555555555556, \"#d8576b\"], [0.6666666666666666, \"#ed7953\"], [0.7777777777777778, \"#fb9f3a\"], [0.8888888888888888, \"#fdca26\"], [1.0, \"#f0f921\"]], \"type\": \"histogram2dcontour\"}], \"mesh3d\": [{\"colorbar\": {\"outlinewidth\": 0, \"ticks\": \"\"}, \"type\": \"mesh3d\"}], \"parcoords\": [{\"line\": {\"colorbar\": {\"outlinewidth\": 0, \"ticks\": \"\"}}, \"type\": \"parcoords\"}], \"pie\": [{\"automargin\": true, \"type\": \"pie\"}], \"scatter\": [{\"marker\": {\"colorbar\": {\"outlinewidth\": 0, \"ticks\": \"\"}}, \"type\": \"scatter\"}], \"scatter3d\": [{\"line\": {\"colorbar\": {\"outlinewidth\": 0, \"ticks\": \"\"}}, \"marker\": {\"colorbar\": {\"outlinewidth\": 0, \"ticks\": \"\"}}, \"type\": \"scatter3d\"}], \"scattercarpet\": [{\"marker\": {\"colorbar\": {\"outlinewidth\": 0, \"ticks\": \"\"}}, \"type\": \"scattercarpet\"}], \"scattergeo\": [{\"marker\": {\"colorbar\": {\"outlinewidth\": 0, \"ticks\": \"\"}}, \"type\": \"scattergeo\"}], \"scattergl\": [{\"marker\": {\"colorbar\": {\"outlinewidth\": 0, \"ticks\": \"\"}}, \"type\": \"scattergl\"}], \"scattermapbox\": [{\"marker\": {\"colorbar\": {\"outlinewidth\": 0, \"ticks\": \"\"}}, \"type\": \"scattermapbox\"}], \"scatterpolar\": [{\"marker\": {\"colorbar\": {\"outlinewidth\": 0, \"ticks\": \"\"}}, \"type\": \"scatterpolar\"}], \"scatterpolargl\": [{\"marker\": {\"colorbar\": {\"outlinewidth\": 0, \"ticks\": \"\"}}, \"type\": \"scatterpolargl\"}], \"scatterternary\": [{\"marker\": {\"colorbar\": {\"outlinewidth\": 0, \"ticks\": \"\"}}, \"type\": \"scatterternary\"}], \"surface\": [{\"colorbar\": {\"outlinewidth\": 0, \"ticks\": \"\"}, \"colorscale\": [[0.0, \"#0d0887\"], [0.1111111111111111, \"#46039f\"], [0.2222222222222222, \"#7201a8\"], [0.3333333333333333, \"#9c179e\"], [0.4444444444444444, \"#bd3786\"], [0.5555555555555556, \"#d8576b\"], [0.6666666666666666, \"#ed7953\"], [0.7777777777777778, \"#fb9f3a\"], [0.8888888888888888, \"#fdca26\"], [1.0, \"#f0f921\"]], \"type\": \"surface\"}], \"table\": [{\"cells\": {\"fill\": {\"color\": \"#EBF0F8\"}, \"line\": {\"color\": \"white\"}}, \"header\": {\"fill\": {\"color\": \"#C8D4E3\"}, \"line\": {\"color\": \"white\"}}, \"type\": \"table\"}]}, \"layout\": {\"annotationdefaults\": {\"arrowcolor\": \"#2a3f5f\", \"arrowhead\": 0, \"arrowwidth\": 1}, \"coloraxis\": {\"colorbar\": {\"outlinewidth\": 0, \"ticks\": \"\"}}, \"colorscale\": {\"diverging\": [[0, \"#8e0152\"], [0.1, \"#c51b7d\"], [0.2, \"#de77ae\"], [0.3, \"#f1b6da\"], [0.4, \"#fde0ef\"], [0.5, \"#f7f7f7\"], [0.6, \"#e6f5d0\"], [0.7, \"#b8e186\"], [0.8, \"#7fbc41\"], [0.9, \"#4d9221\"], [1, \"#276419\"]], \"sequential\": [[0.0, \"#0d0887\"], [0.1111111111111111, \"#46039f\"], [0.2222222222222222, \"#7201a8\"], [0.3333333333333333, \"#9c179e\"], [0.4444444444444444, \"#bd3786\"], [0.5555555555555556, \"#d8576b\"], [0.6666666666666666, \"#ed7953\"], [0.7777777777777778, \"#fb9f3a\"], [0.8888888888888888, \"#fdca26\"], [1.0, \"#f0f921\"]], \"sequentialminus\": [[0.0, \"#0d0887\"], [0.1111111111111111, \"#46039f\"], [0.2222222222222222, \"#7201a8\"], [0.3333333333333333, \"#9c179e\"], [0.4444444444444444, \"#bd3786\"], [0.5555555555555556, \"#d8576b\"], [0.6666666666666666, \"#ed7953\"], [0.7777777777777778, \"#fb9f3a\"], [0.8888888888888888, \"#fdca26\"], [1.0, \"#f0f921\"]]}, \"colorway\": [\"#636efa\", \"#EF553B\", \"#00cc96\", \"#ab63fa\", \"#FFA15A\", \"#19d3f3\", \"#FF6692\", \"#B6E880\", \"#FF97FF\", \"#FECB52\"], \"font\": {\"color\": \"#2a3f5f\"}, \"geo\": {\"bgcolor\": \"white\", \"lakecolor\": \"white\", \"landcolor\": \"#E5ECF6\", \"showlakes\": true, \"showland\": true, \"subunitcolor\": \"white\"}, \"hoverlabel\": {\"align\": \"left\"}, \"hovermode\": \"closest\", \"mapbox\": {\"style\": \"light\"}, \"paper_bgcolor\": \"white\", \"plot_bgcolor\": \"#E5ECF6\", \"polar\": {\"angularaxis\": {\"gridcolor\": \"white\", \"linecolor\": \"white\", \"ticks\": \"\"}, \"bgcolor\": \"#E5ECF6\", \"radialaxis\": {\"gridcolor\": \"white\", \"linecolor\": \"white\", \"ticks\": \"\"}}, \"scene\": {\"xaxis\": {\"backgroundcolor\": \"#E5ECF6\", \"gridcolor\": \"white\", \"gridwidth\": 2, \"linecolor\": \"white\", \"showbackground\": true, \"ticks\": \"\", \"zerolinecolor\": \"white\"}, \"yaxis\": {\"backgroundcolor\": \"#E5ECF6\", \"gridcolor\": \"white\", \"gridwidth\": 2, \"linecolor\": \"white\", \"showbackground\": true, \"ticks\": \"\", \"zerolinecolor\": \"white\"}, \"zaxis\": {\"backgroundcolor\": \"#E5ECF6\", \"gridcolor\": \"white\", \"gridwidth\": 2, \"linecolor\": \"white\", \"showbackground\": true, \"ticks\": \"\", \"zerolinecolor\": \"white\"}}, \"shapedefaults\": {\"line\": {\"color\": \"#2a3f5f\"}}, \"ternary\": {\"aaxis\": {\"gridcolor\": \"white\", \"linecolor\": \"white\", \"ticks\": \"\"}, \"baxis\": {\"gridcolor\": \"white\", \"linecolor\": \"white\", \"ticks\": \"\"}, \"bgcolor\": \"#E5ECF6\", \"caxis\": {\"gridcolor\": \"white\", \"linecolor\": \"white\", \"ticks\": \"\"}}, \"title\": {\"x\": 0.05}, \"xaxis\": {\"automargin\": true, \"gridcolor\": \"white\", \"linecolor\": \"white\", \"ticks\": \"\", \"title\": {\"standoff\": 15}, \"zerolinecolor\": \"white\", \"zerolinewidth\": 2}, \"yaxis\": {\"automargin\": true, \"gridcolor\": \"white\", \"linecolor\": \"white\", \"ticks\": \"\", \"title\": {\"standoff\": 15}, \"zerolinecolor\": \"white\", \"zerolinewidth\": 2}}}, \"title\": {\"text\": \"Confusion Matrix (KNN)\", \"x\": 0.5}, \"width\": 400, \"xaxis\": {\"constrain\": \"domain\", \"dtick\": 1, \"scaleanchor\": \"y\", \"tick0\": 0, \"tickmode\": \"linear\", \"title\": {\"text\": \"Prediction\"}}, \"yaxis\": {\"autorange\": \"reversed\", \"constrain\": \"domain\", \"dtick\": 1, \"tick0\": 0, \"tickmode\": \"linear\", \"title\": {\"text\": \"Truth\"}}},\n",
              "                        {\"responsive\": true}\n",
              "                    ).then(function(){\n",
              "                            \n",
              "var gd = document.getElementById('a51ecdf4-76b8-44da-bbb9-59893937bd8c');\n",
              "var x = new MutationObserver(function (mutations, observer) {{\n",
              "        var display = window.getComputedStyle(gd).display;\n",
              "        if (!display || display === 'none') {{\n",
              "            console.log([gd, 'removed!']);\n",
              "            Plotly.purge(gd);\n",
              "            observer.disconnect();\n",
              "        }}\n",
              "}});\n",
              "\n",
              "// Listen for the removal of the full notebook cells\n",
              "var notebookContainer = gd.closest('#notebook-container');\n",
              "if (notebookContainer) {{\n",
              "    x.observe(notebookContainer, {childList: true});\n",
              "}}\n",
              "\n",
              "// Listen for the clearing of the current output cell\n",
              "var outputEl = gd.closest('.output');\n",
              "if (outputEl) {{\n",
              "    x.observe(outputEl, {childList: true});\n",
              "}}\n",
              "\n",
              "                        })\n",
              "                };\n",
              "                \n",
              "            </script>\n",
              "        </div>\n",
              "</body>\n",
              "</html>"
            ]
          },
          "metadata": {}
        }
      ]
    },
    {
      "cell_type": "markdown",
      "source": [
        "### Churn Prediction using Decision Tree"
      ],
      "metadata": {
        "id": "pofmbkBgoNu9"
      }
    },
    {
      "cell_type": "code",
      "source": [
        "para_dt = {'max_depth':[7,10,15]}\n",
        "\n",
        "model_dt = GridSearchCV(estimator = DecisionTreeClassifier(),\n",
        "                    param_grid = para_dt,\n",
        "                    cv=10,\n",
        "                    verbose=0,\n",
        "                    n_jobs=-1\n",
        "                   )\n",
        "\n",
        "model_dt.fit(train_X_re,train_y_re)"
      ],
      "metadata": {
        "colab": {
          "base_uri": "https://localhost:8080/"
        },
        "id": "7OkD23bhoKRh",
        "outputId": "1b1748ce-41de-4a37-d817-9f1aed81562d"
      },
      "execution_count": 51,
      "outputs": [
        {
          "output_type": "execute_result",
          "data": {
            "text/plain": [
              "GridSearchCV(cv=10, estimator=DecisionTreeClassifier(), n_jobs=-1,\n",
              "             param_grid={'max_depth': [7, 10, 15]})"
            ]
          },
          "metadata": {},
          "execution_count": 51
        }
      ]
    },
    {
      "cell_type": "code",
      "source": [
        "model_dt.best_params_"
      ],
      "metadata": {
        "colab": {
          "base_uri": "https://localhost:8080/"
        },
        "id": "Xk2cPCPBoKU1",
        "outputId": "867efba5-ae94-4ed6-a0c1-610c9c51d800"
      },
      "execution_count": 52,
      "outputs": [
        {
          "output_type": "execute_result",
          "data": {
            "text/plain": [
              "{'max_depth': 10}"
            ]
          },
          "metadata": {},
          "execution_count": 52
        }
      ]
    },
    {
      "cell_type": "code",
      "source": [
        "cm_dt,cr_dt,auc_score_dt,_  = test_eval(model_dt,test_X,test_y)\n",
        "fpr_dt, tpr_dt, thresh_dt = roc_curve(test_y, model_dt.predict_proba(test_X)[:,1], pos_label = 1)\n",
        "precision_dt, recall_dt, _ = precision_recall_curve(test_y, model_dt.predict_proba(test_X)[:,1],pos_label=1)"
      ],
      "metadata": {
        "colab": {
          "base_uri": "https://localhost:8080/"
        },
        "id": "gzhfx460oXCu",
        "outputId": "c786647c-efca-4f16-9b2e-d76a01b400f0"
      },
      "execution_count": 53,
      "outputs": [
        {
          "output_type": "stream",
          "name": "stdout",
          "text": [
            "Confusion Matrix\n",
            "====================\n",
            "[[783 250]\n",
            " [115 259]] \n",
            "\n",
            "Classification Report\n",
            "====================\n",
            "              precision    recall  f1-score   support\n",
            "\n",
            "           0       0.87      0.76      0.81      1033\n",
            "           1       0.51      0.69      0.59       374\n",
            "\n",
            "    accuracy                           0.74      1407\n",
            "   macro avg       0.69      0.73      0.70      1407\n",
            "weighted avg       0.78      0.74      0.75      1407\n",
            "\n"
          ]
        }
      ]
    },
    {
      "cell_type": "code",
      "source": [
        "plot_cmatrix(cm_dt, name='DT')"
      ],
      "metadata": {
        "colab": {
          "base_uri": "https://localhost:8080/",
          "height": 417
        },
        "id": "fsYLhABRoXGF",
        "outputId": "94afdaae-a9d4-4c87-bc09-ddfe3b7d21ce"
      },
      "execution_count": 54,
      "outputs": [
        {
          "output_type": "display_data",
          "data": {
            "text/html": [
              "<html>\n",
              "<head><meta charset=\"utf-8\" /></head>\n",
              "<body>\n",
              "    <div>\n",
              "            <script src=\"https://cdnjs.cloudflare.com/ajax/libs/mathjax/2.7.5/MathJax.js?config=TeX-AMS-MML_SVG\"></script><script type=\"text/javascript\">if (window.MathJax) {MathJax.Hub.Config({SVG: {font: \"STIX-Web\"}});}</script>\n",
              "                <script type=\"text/javascript\">window.PlotlyConfig = {MathJaxConfig: 'local'};</script>\n",
              "        <script src=\"https://cdn.plot.ly/plotly-latest.min.js\"></script>    \n",
              "            <div id=\"5b9f5e2c-6d6f-4f42-9b31-08a6e15133c2\" class=\"plotly-graph-div\" style=\"height:400px; width:400px;\"></div>\n",
              "            <script type=\"text/javascript\">\n",
              "                \n",
              "                    window.PLOTLYENV=window.PLOTLYENV || {};\n",
              "                    \n",
              "                if (document.getElementById(\"5b9f5e2c-6d6f-4f42-9b31-08a6e15133c2\")) {\n",
              "                    Plotly.newPlot(\n",
              "                        '5b9f5e2c-6d6f-4f42-9b31-08a6e15133c2',\n",
              "                        [{\"coloraxis\": \"coloraxis\", \"type\": \"heatmap\", \"z\": [[783, 250], [115, 259]]}],\n",
              "                        {\"annotations\": [{\"font\": {\"color\": \"black\", \"size\": 12}, \"showarrow\": false, \"text\": \"783\", \"x\": 0, \"y\": 0}, {\"font\": {\"color\": \"black\", \"size\": 12}, \"showarrow\": false, \"text\": \"250\", \"x\": 1, \"y\": 0}, {\"font\": {\"color\": \"black\", \"size\": 12}, \"showarrow\": false, \"text\": \"115\", \"x\": 0, \"y\": 1}, {\"font\": {\"color\": \"black\", \"size\": 12}, \"showarrow\": false, \"text\": \"259\", \"x\": 1, \"y\": 1}], \"coloraxis\": {\"colorscale\": [[0.0, \"peachpuff\"], [0.5, \"lime\"], [1.0, \"green\"]]}, \"height\": 400, \"margin\": {\"t\": 60}, \"template\": {\"data\": {\"bar\": [{\"error_x\": {\"color\": \"#2a3f5f\"}, \"error_y\": {\"color\": \"#2a3f5f\"}, \"marker\": {\"line\": {\"color\": \"#E5ECF6\", \"width\": 0.5}}, \"type\": \"bar\"}], \"barpolar\": [{\"marker\": {\"line\": {\"color\": \"#E5ECF6\", \"width\": 0.5}}, \"type\": \"barpolar\"}], \"carpet\": [{\"aaxis\": {\"endlinecolor\": \"#2a3f5f\", \"gridcolor\": \"white\", \"linecolor\": \"white\", \"minorgridcolor\": \"white\", \"startlinecolor\": \"#2a3f5f\"}, \"baxis\": {\"endlinecolor\": \"#2a3f5f\", \"gridcolor\": \"white\", \"linecolor\": \"white\", \"minorgridcolor\": \"white\", \"startlinecolor\": \"#2a3f5f\"}, \"type\": \"carpet\"}], \"choropleth\": [{\"colorbar\": {\"outlinewidth\": 0, \"ticks\": \"\"}, \"type\": \"choropleth\"}], \"contour\": [{\"colorbar\": {\"outlinewidth\": 0, \"ticks\": \"\"}, \"colorscale\": [[0.0, \"#0d0887\"], [0.1111111111111111, \"#46039f\"], [0.2222222222222222, \"#7201a8\"], [0.3333333333333333, \"#9c179e\"], [0.4444444444444444, \"#bd3786\"], [0.5555555555555556, \"#d8576b\"], [0.6666666666666666, \"#ed7953\"], [0.7777777777777778, \"#fb9f3a\"], [0.8888888888888888, \"#fdca26\"], [1.0, \"#f0f921\"]], \"type\": \"contour\"}], \"contourcarpet\": [{\"colorbar\": {\"outlinewidth\": 0, \"ticks\": \"\"}, \"type\": \"contourcarpet\"}], \"heatmap\": [{\"colorbar\": {\"outlinewidth\": 0, \"ticks\": \"\"}, \"colorscale\": [[0.0, \"#0d0887\"], [0.1111111111111111, \"#46039f\"], [0.2222222222222222, \"#7201a8\"], [0.3333333333333333, \"#9c179e\"], [0.4444444444444444, \"#bd3786\"], [0.5555555555555556, \"#d8576b\"], [0.6666666666666666, \"#ed7953\"], [0.7777777777777778, \"#fb9f3a\"], [0.8888888888888888, \"#fdca26\"], [1.0, \"#f0f921\"]], \"type\": \"heatmap\"}], \"heatmapgl\": [{\"colorbar\": {\"outlinewidth\": 0, \"ticks\": \"\"}, \"colorscale\": [[0.0, \"#0d0887\"], [0.1111111111111111, \"#46039f\"], [0.2222222222222222, \"#7201a8\"], [0.3333333333333333, \"#9c179e\"], [0.4444444444444444, \"#bd3786\"], [0.5555555555555556, \"#d8576b\"], [0.6666666666666666, \"#ed7953\"], [0.7777777777777778, \"#fb9f3a\"], [0.8888888888888888, \"#fdca26\"], [1.0, \"#f0f921\"]], \"type\": \"heatmapgl\"}], \"histogram\": [{\"marker\": {\"colorbar\": {\"outlinewidth\": 0, \"ticks\": \"\"}}, \"type\": \"histogram\"}], \"histogram2d\": [{\"colorbar\": {\"outlinewidth\": 0, \"ticks\": \"\"}, \"colorscale\": [[0.0, \"#0d0887\"], [0.1111111111111111, \"#46039f\"], [0.2222222222222222, \"#7201a8\"], [0.3333333333333333, \"#9c179e\"], [0.4444444444444444, \"#bd3786\"], [0.5555555555555556, \"#d8576b\"], [0.6666666666666666, \"#ed7953\"], [0.7777777777777778, \"#fb9f3a\"], [0.8888888888888888, \"#fdca26\"], [1.0, \"#f0f921\"]], \"type\": \"histogram2d\"}], \"histogram2dcontour\": [{\"colorbar\": {\"outlinewidth\": 0, \"ticks\": \"\"}, \"colorscale\": [[0.0, \"#0d0887\"], [0.1111111111111111, \"#46039f\"], [0.2222222222222222, \"#7201a8\"], [0.3333333333333333, \"#9c179e\"], [0.4444444444444444, \"#bd3786\"], [0.5555555555555556, \"#d8576b\"], [0.6666666666666666, \"#ed7953\"], [0.7777777777777778, \"#fb9f3a\"], [0.8888888888888888, \"#fdca26\"], [1.0, \"#f0f921\"]], \"type\": \"histogram2dcontour\"}], \"mesh3d\": [{\"colorbar\": {\"outlinewidth\": 0, \"ticks\": \"\"}, \"type\": \"mesh3d\"}], \"parcoords\": [{\"line\": {\"colorbar\": {\"outlinewidth\": 0, \"ticks\": \"\"}}, \"type\": \"parcoords\"}], \"pie\": [{\"automargin\": true, \"type\": \"pie\"}], \"scatter\": [{\"marker\": {\"colorbar\": {\"outlinewidth\": 0, \"ticks\": \"\"}}, \"type\": \"scatter\"}], \"scatter3d\": [{\"line\": {\"colorbar\": {\"outlinewidth\": 0, \"ticks\": \"\"}}, \"marker\": {\"colorbar\": {\"outlinewidth\": 0, \"ticks\": \"\"}}, \"type\": \"scatter3d\"}], \"scattercarpet\": [{\"marker\": {\"colorbar\": {\"outlinewidth\": 0, \"ticks\": \"\"}}, \"type\": \"scattercarpet\"}], \"scattergeo\": [{\"marker\": {\"colorbar\": {\"outlinewidth\": 0, \"ticks\": \"\"}}, \"type\": \"scattergeo\"}], \"scattergl\": [{\"marker\": {\"colorbar\": {\"outlinewidth\": 0, \"ticks\": \"\"}}, \"type\": \"scattergl\"}], \"scattermapbox\": [{\"marker\": {\"colorbar\": {\"outlinewidth\": 0, \"ticks\": \"\"}}, \"type\": \"scattermapbox\"}], \"scatterpolar\": [{\"marker\": {\"colorbar\": {\"outlinewidth\": 0, \"ticks\": \"\"}}, \"type\": \"scatterpolar\"}], \"scatterpolargl\": [{\"marker\": {\"colorbar\": {\"outlinewidth\": 0, \"ticks\": \"\"}}, \"type\": \"scatterpolargl\"}], \"scatterternary\": [{\"marker\": {\"colorbar\": {\"outlinewidth\": 0, \"ticks\": \"\"}}, \"type\": \"scatterternary\"}], \"surface\": [{\"colorbar\": {\"outlinewidth\": 0, \"ticks\": \"\"}, \"colorscale\": [[0.0, \"#0d0887\"], [0.1111111111111111, \"#46039f\"], [0.2222222222222222, \"#7201a8\"], [0.3333333333333333, \"#9c179e\"], [0.4444444444444444, \"#bd3786\"], [0.5555555555555556, \"#d8576b\"], [0.6666666666666666, \"#ed7953\"], [0.7777777777777778, \"#fb9f3a\"], [0.8888888888888888, \"#fdca26\"], [1.0, \"#f0f921\"]], \"type\": \"surface\"}], \"table\": [{\"cells\": {\"fill\": {\"color\": \"#EBF0F8\"}, \"line\": {\"color\": \"white\"}}, \"header\": {\"fill\": {\"color\": \"#C8D4E3\"}, \"line\": {\"color\": \"white\"}}, \"type\": \"table\"}]}, \"layout\": {\"annotationdefaults\": {\"arrowcolor\": \"#2a3f5f\", \"arrowhead\": 0, \"arrowwidth\": 1}, \"coloraxis\": {\"colorbar\": {\"outlinewidth\": 0, \"ticks\": \"\"}}, \"colorscale\": {\"diverging\": [[0, \"#8e0152\"], [0.1, \"#c51b7d\"], [0.2, \"#de77ae\"], [0.3, \"#f1b6da\"], [0.4, \"#fde0ef\"], [0.5, \"#f7f7f7\"], [0.6, \"#e6f5d0\"], [0.7, \"#b8e186\"], [0.8, \"#7fbc41\"], [0.9, \"#4d9221\"], [1, \"#276419\"]], \"sequential\": [[0.0, \"#0d0887\"], [0.1111111111111111, \"#46039f\"], [0.2222222222222222, \"#7201a8\"], [0.3333333333333333, \"#9c179e\"], [0.4444444444444444, \"#bd3786\"], [0.5555555555555556, \"#d8576b\"], [0.6666666666666666, \"#ed7953\"], [0.7777777777777778, \"#fb9f3a\"], [0.8888888888888888, \"#fdca26\"], [1.0, \"#f0f921\"]], \"sequentialminus\": [[0.0, \"#0d0887\"], [0.1111111111111111, \"#46039f\"], [0.2222222222222222, \"#7201a8\"], [0.3333333333333333, \"#9c179e\"], [0.4444444444444444, \"#bd3786\"], [0.5555555555555556, \"#d8576b\"], [0.6666666666666666, \"#ed7953\"], [0.7777777777777778, \"#fb9f3a\"], [0.8888888888888888, \"#fdca26\"], [1.0, \"#f0f921\"]]}, \"colorway\": [\"#636efa\", \"#EF553B\", \"#00cc96\", \"#ab63fa\", \"#FFA15A\", \"#19d3f3\", \"#FF6692\", \"#B6E880\", \"#FF97FF\", \"#FECB52\"], \"font\": {\"color\": \"#2a3f5f\"}, \"geo\": {\"bgcolor\": \"white\", \"lakecolor\": \"white\", \"landcolor\": \"#E5ECF6\", \"showlakes\": true, \"showland\": true, \"subunitcolor\": \"white\"}, \"hoverlabel\": {\"align\": \"left\"}, \"hovermode\": \"closest\", \"mapbox\": {\"style\": \"light\"}, \"paper_bgcolor\": \"white\", \"plot_bgcolor\": \"#E5ECF6\", \"polar\": {\"angularaxis\": {\"gridcolor\": \"white\", \"linecolor\": \"white\", \"ticks\": \"\"}, \"bgcolor\": \"#E5ECF6\", \"radialaxis\": {\"gridcolor\": \"white\", \"linecolor\": \"white\", \"ticks\": \"\"}}, \"scene\": {\"xaxis\": {\"backgroundcolor\": \"#E5ECF6\", \"gridcolor\": \"white\", \"gridwidth\": 2, \"linecolor\": \"white\", \"showbackground\": true, \"ticks\": \"\", \"zerolinecolor\": \"white\"}, \"yaxis\": {\"backgroundcolor\": \"#E5ECF6\", \"gridcolor\": \"white\", \"gridwidth\": 2, \"linecolor\": \"white\", \"showbackground\": true, \"ticks\": \"\", \"zerolinecolor\": \"white\"}, \"zaxis\": {\"backgroundcolor\": \"#E5ECF6\", \"gridcolor\": \"white\", \"gridwidth\": 2, \"linecolor\": \"white\", \"showbackground\": true, \"ticks\": \"\", \"zerolinecolor\": \"white\"}}, \"shapedefaults\": {\"line\": {\"color\": \"#2a3f5f\"}}, \"ternary\": {\"aaxis\": {\"gridcolor\": \"white\", \"linecolor\": \"white\", \"ticks\": \"\"}, \"baxis\": {\"gridcolor\": \"white\", \"linecolor\": \"white\", \"ticks\": \"\"}, \"bgcolor\": \"#E5ECF6\", \"caxis\": {\"gridcolor\": \"white\", \"linecolor\": \"white\", \"ticks\": \"\"}}, \"title\": {\"x\": 0.05}, \"xaxis\": {\"automargin\": true, \"gridcolor\": \"white\", \"linecolor\": \"white\", \"ticks\": \"\", \"title\": {\"standoff\": 15}, \"zerolinecolor\": \"white\", \"zerolinewidth\": 2}, \"yaxis\": {\"automargin\": true, \"gridcolor\": \"white\", \"linecolor\": \"white\", \"ticks\": \"\", \"title\": {\"standoff\": 15}, \"zerolinecolor\": \"white\", \"zerolinewidth\": 2}}}, \"title\": {\"text\": \"Confusion Matrix (DT)\", \"x\": 0.5}, \"width\": 400, \"xaxis\": {\"constrain\": \"domain\", \"dtick\": 1, \"scaleanchor\": \"y\", \"tick0\": 0, \"tickmode\": \"linear\", \"title\": {\"text\": \"Prediction\"}}, \"yaxis\": {\"autorange\": \"reversed\", \"constrain\": \"domain\", \"dtick\": 1, \"tick0\": 0, \"tickmode\": \"linear\", \"title\": {\"text\": \"Truth\"}}},\n",
              "                        {\"responsive\": true}\n",
              "                    ).then(function(){\n",
              "                            \n",
              "var gd = document.getElementById('5b9f5e2c-6d6f-4f42-9b31-08a6e15133c2');\n",
              "var x = new MutationObserver(function (mutations, observer) {{\n",
              "        var display = window.getComputedStyle(gd).display;\n",
              "        if (!display || display === 'none') {{\n",
              "            console.log([gd, 'removed!']);\n",
              "            Plotly.purge(gd);\n",
              "            observer.disconnect();\n",
              "        }}\n",
              "}});\n",
              "\n",
              "// Listen for the removal of the full notebook cells\n",
              "var notebookContainer = gd.closest('#notebook-container');\n",
              "if (notebookContainer) {{\n",
              "    x.observe(notebookContainer, {childList: true});\n",
              "}}\n",
              "\n",
              "// Listen for the clearing of the current output cell\n",
              "var outputEl = gd.closest('.output');\n",
              "if (outputEl) {{\n",
              "    x.observe(outputEl, {childList: true});\n",
              "}}\n",
              "\n",
              "                        })\n",
              "                };\n",
              "                \n",
              "            </script>\n",
              "        </div>\n",
              "</body>\n",
              "</html>"
            ]
          },
          "metadata": {}
        }
      ]
    },
    {
      "cell_type": "markdown",
      "source": [
        "## Ensemble Algorithms\n",
        "\n",
        "### Churn Prediction using Random Forest "
      ],
      "metadata": {
        "id": "iI_dFjVxoeY3"
      }
    },
    {
      "cell_type": "code",
      "source": [
        "para_rf = { \"max_depth\": [5,10,20],\n",
        "           \"n_estimators\":[50, 150],\n",
        "           \"min_samples_split\": [2, 5, 10],\n",
        "           \"min_samples_leaf\" : [1, 2, 10] \n",
        "          }\n",
        "model_rf = GridSearchCV(estimator = RandomForestClassifier(),\n",
        "                    param_grid = para_rf,\n",
        "                    cv=10,\n",
        "                    verbose=0,\n",
        "                    n_jobs=-1\n",
        "                   )\n",
        "\n",
        "model_rf.fit(train_X_re,train_y_re)"
      ],
      "metadata": {
        "colab": {
          "base_uri": "https://localhost:8080/"
        },
        "id": "zAJEX8ZXobJF",
        "outputId": "9d7b656e-8d50-410b-b27f-4abd336d6652"
      },
      "execution_count": 55,
      "outputs": [
        {
          "output_type": "execute_result",
          "data": {
            "text/plain": [
              "GridSearchCV(cv=10, estimator=RandomForestClassifier(), n_jobs=-1,\n",
              "             param_grid={'max_depth': [5, 10, 20],\n",
              "                         'min_samples_leaf': [1, 2, 10],\n",
              "                         'min_samples_split': [2, 5, 10],\n",
              "                         'n_estimators': [50, 150]})"
            ]
          },
          "metadata": {},
          "execution_count": 55
        }
      ]
    },
    {
      "cell_type": "code",
      "source": [
        "model_rf.best_params_"
      ],
      "metadata": {
        "colab": {
          "base_uri": "https://localhost:8080/"
        },
        "id": "MbdduExGobML",
        "outputId": "2124a786-c3b1-42f0-93ee-b5f28fd75021"
      },
      "execution_count": 56,
      "outputs": [
        {
          "output_type": "execute_result",
          "data": {
            "text/plain": [
              "{'max_depth': 20,\n",
              " 'min_samples_leaf': 1,\n",
              " 'min_samples_split': 2,\n",
              " 'n_estimators': 150}"
            ]
          },
          "metadata": {},
          "execution_count": 56
        }
      ]
    },
    {
      "cell_type": "code",
      "source": [
        "cm_rf,cr_rf,auc_score_rf,_  = test_eval(model_rf,test_X,test_y)\n",
        "fpr_rf, tpr_rf, thresh_rf = roc_curve(test_y, model_rf.predict_proba(test_X)[:,1], pos_label = 1)\n",
        "precision_rf, recall_rf, _ = precision_recall_curve(test_y, model_rf.predict_proba(test_X)[:,1],pos_label=1)"
      ],
      "metadata": {
        "colab": {
          "base_uri": "https://localhost:8080/"
        },
        "id": "KgU17k57oqgx",
        "outputId": "12133656-f887-4f2d-841f-6ed4061ddd11"
      },
      "execution_count": 57,
      "outputs": [
        {
          "output_type": "stream",
          "name": "stdout",
          "text": [
            "Confusion Matrix\n",
            "====================\n",
            "[[841 192]\n",
            " [124 250]] \n",
            "\n",
            "Classification Report\n",
            "====================\n",
            "              precision    recall  f1-score   support\n",
            "\n",
            "           0       0.87      0.81      0.84      1033\n",
            "           1       0.57      0.67      0.61       374\n",
            "\n",
            "    accuracy                           0.78      1407\n",
            "   macro avg       0.72      0.74      0.73      1407\n",
            "weighted avg       0.79      0.78      0.78      1407\n",
            "\n"
          ]
        }
      ]
    },
    {
      "cell_type": "code",
      "source": [
        "plot_cmatrix(cm_rf, name='RF')"
      ],
      "metadata": {
        "colab": {
          "base_uri": "https://localhost:8080/",
          "height": 417
        },
        "id": "HkpBCXquoy_g",
        "outputId": "62f623e6-d510-4ee1-b790-f32ff3dd9b06"
      },
      "execution_count": 58,
      "outputs": [
        {
          "output_type": "display_data",
          "data": {
            "text/html": [
              "<html>\n",
              "<head><meta charset=\"utf-8\" /></head>\n",
              "<body>\n",
              "    <div>\n",
              "            <script src=\"https://cdnjs.cloudflare.com/ajax/libs/mathjax/2.7.5/MathJax.js?config=TeX-AMS-MML_SVG\"></script><script type=\"text/javascript\">if (window.MathJax) {MathJax.Hub.Config({SVG: {font: \"STIX-Web\"}});}</script>\n",
              "                <script type=\"text/javascript\">window.PlotlyConfig = {MathJaxConfig: 'local'};</script>\n",
              "        <script src=\"https://cdn.plot.ly/plotly-latest.min.js\"></script>    \n",
              "            <div id=\"03f5ed88-56e4-4918-88eb-cc073a0059a5\" class=\"plotly-graph-div\" style=\"height:400px; width:400px;\"></div>\n",
              "            <script type=\"text/javascript\">\n",
              "                \n",
              "                    window.PLOTLYENV=window.PLOTLYENV || {};\n",
              "                    \n",
              "                if (document.getElementById(\"03f5ed88-56e4-4918-88eb-cc073a0059a5\")) {\n",
              "                    Plotly.newPlot(\n",
              "                        '03f5ed88-56e4-4918-88eb-cc073a0059a5',\n",
              "                        [{\"coloraxis\": \"coloraxis\", \"type\": \"heatmap\", \"z\": [[841, 192], [124, 250]]}],\n",
              "                        {\"annotations\": [{\"font\": {\"color\": \"black\", \"size\": 12}, \"showarrow\": false, \"text\": \"841\", \"x\": 0, \"y\": 0}, {\"font\": {\"color\": \"black\", \"size\": 12}, \"showarrow\": false, \"text\": \"192\", \"x\": 1, \"y\": 0}, {\"font\": {\"color\": \"black\", \"size\": 12}, \"showarrow\": false, \"text\": \"124\", \"x\": 0, \"y\": 1}, {\"font\": {\"color\": \"black\", \"size\": 12}, \"showarrow\": false, \"text\": \"250\", \"x\": 1, \"y\": 1}], \"coloraxis\": {\"colorscale\": [[0.0, \"peachpuff\"], [0.5, \"lime\"], [1.0, \"green\"]]}, \"height\": 400, \"margin\": {\"t\": 60}, \"template\": {\"data\": {\"bar\": [{\"error_x\": {\"color\": \"#2a3f5f\"}, \"error_y\": {\"color\": \"#2a3f5f\"}, \"marker\": {\"line\": {\"color\": \"#E5ECF6\", \"width\": 0.5}}, \"type\": \"bar\"}], \"barpolar\": [{\"marker\": {\"line\": {\"color\": \"#E5ECF6\", \"width\": 0.5}}, \"type\": \"barpolar\"}], \"carpet\": [{\"aaxis\": {\"endlinecolor\": \"#2a3f5f\", \"gridcolor\": \"white\", \"linecolor\": \"white\", \"minorgridcolor\": \"white\", \"startlinecolor\": \"#2a3f5f\"}, \"baxis\": {\"endlinecolor\": \"#2a3f5f\", \"gridcolor\": \"white\", \"linecolor\": \"white\", \"minorgridcolor\": \"white\", \"startlinecolor\": \"#2a3f5f\"}, \"type\": \"carpet\"}], \"choropleth\": [{\"colorbar\": {\"outlinewidth\": 0, \"ticks\": \"\"}, \"type\": \"choropleth\"}], \"contour\": [{\"colorbar\": {\"outlinewidth\": 0, \"ticks\": \"\"}, \"colorscale\": [[0.0, \"#0d0887\"], [0.1111111111111111, \"#46039f\"], [0.2222222222222222, \"#7201a8\"], [0.3333333333333333, \"#9c179e\"], [0.4444444444444444, \"#bd3786\"], [0.5555555555555556, \"#d8576b\"], [0.6666666666666666, \"#ed7953\"], [0.7777777777777778, \"#fb9f3a\"], [0.8888888888888888, \"#fdca26\"], [1.0, \"#f0f921\"]], \"type\": \"contour\"}], \"contourcarpet\": [{\"colorbar\": {\"outlinewidth\": 0, \"ticks\": \"\"}, \"type\": \"contourcarpet\"}], \"heatmap\": [{\"colorbar\": {\"outlinewidth\": 0, \"ticks\": \"\"}, \"colorscale\": [[0.0, \"#0d0887\"], [0.1111111111111111, \"#46039f\"], [0.2222222222222222, \"#7201a8\"], [0.3333333333333333, \"#9c179e\"], [0.4444444444444444, \"#bd3786\"], [0.5555555555555556, \"#d8576b\"], [0.6666666666666666, \"#ed7953\"], [0.7777777777777778, \"#fb9f3a\"], [0.8888888888888888, \"#fdca26\"], [1.0, \"#f0f921\"]], \"type\": \"heatmap\"}], \"heatmapgl\": [{\"colorbar\": {\"outlinewidth\": 0, \"ticks\": \"\"}, \"colorscale\": [[0.0, \"#0d0887\"], [0.1111111111111111, \"#46039f\"], [0.2222222222222222, \"#7201a8\"], [0.3333333333333333, \"#9c179e\"], [0.4444444444444444, \"#bd3786\"], [0.5555555555555556, \"#d8576b\"], [0.6666666666666666, \"#ed7953\"], [0.7777777777777778, \"#fb9f3a\"], [0.8888888888888888, \"#fdca26\"], [1.0, \"#f0f921\"]], \"type\": \"heatmapgl\"}], \"histogram\": [{\"marker\": {\"colorbar\": {\"outlinewidth\": 0, \"ticks\": \"\"}}, \"type\": \"histogram\"}], \"histogram2d\": [{\"colorbar\": {\"outlinewidth\": 0, \"ticks\": \"\"}, \"colorscale\": [[0.0, \"#0d0887\"], [0.1111111111111111, \"#46039f\"], [0.2222222222222222, \"#7201a8\"], [0.3333333333333333, \"#9c179e\"], [0.4444444444444444, \"#bd3786\"], [0.5555555555555556, \"#d8576b\"], [0.6666666666666666, \"#ed7953\"], [0.7777777777777778, \"#fb9f3a\"], [0.8888888888888888, \"#fdca26\"], [1.0, \"#f0f921\"]], \"type\": \"histogram2d\"}], \"histogram2dcontour\": [{\"colorbar\": {\"outlinewidth\": 0, \"ticks\": \"\"}, \"colorscale\": [[0.0, \"#0d0887\"], [0.1111111111111111, \"#46039f\"], [0.2222222222222222, \"#7201a8\"], [0.3333333333333333, \"#9c179e\"], [0.4444444444444444, \"#bd3786\"], [0.5555555555555556, \"#d8576b\"], [0.6666666666666666, \"#ed7953\"], [0.7777777777777778, \"#fb9f3a\"], [0.8888888888888888, \"#fdca26\"], [1.0, \"#f0f921\"]], \"type\": \"histogram2dcontour\"}], \"mesh3d\": [{\"colorbar\": {\"outlinewidth\": 0, \"ticks\": \"\"}, \"type\": \"mesh3d\"}], \"parcoords\": [{\"line\": {\"colorbar\": {\"outlinewidth\": 0, \"ticks\": \"\"}}, \"type\": \"parcoords\"}], \"pie\": [{\"automargin\": true, \"type\": \"pie\"}], \"scatter\": [{\"marker\": {\"colorbar\": {\"outlinewidth\": 0, \"ticks\": \"\"}}, \"type\": \"scatter\"}], \"scatter3d\": [{\"line\": {\"colorbar\": {\"outlinewidth\": 0, \"ticks\": \"\"}}, \"marker\": {\"colorbar\": {\"outlinewidth\": 0, \"ticks\": \"\"}}, \"type\": \"scatter3d\"}], \"scattercarpet\": [{\"marker\": {\"colorbar\": {\"outlinewidth\": 0, \"ticks\": \"\"}}, \"type\": \"scattercarpet\"}], \"scattergeo\": [{\"marker\": {\"colorbar\": {\"outlinewidth\": 0, \"ticks\": \"\"}}, \"type\": \"scattergeo\"}], \"scattergl\": [{\"marker\": {\"colorbar\": {\"outlinewidth\": 0, \"ticks\": \"\"}}, \"type\": \"scattergl\"}], \"scattermapbox\": [{\"marker\": {\"colorbar\": {\"outlinewidth\": 0, \"ticks\": \"\"}}, \"type\": \"scattermapbox\"}], \"scatterpolar\": [{\"marker\": {\"colorbar\": {\"outlinewidth\": 0, \"ticks\": \"\"}}, \"type\": \"scatterpolar\"}], \"scatterpolargl\": [{\"marker\": {\"colorbar\": {\"outlinewidth\": 0, \"ticks\": \"\"}}, \"type\": \"scatterpolargl\"}], \"scatterternary\": [{\"marker\": {\"colorbar\": {\"outlinewidth\": 0, \"ticks\": \"\"}}, \"type\": \"scatterternary\"}], \"surface\": [{\"colorbar\": {\"outlinewidth\": 0, \"ticks\": \"\"}, \"colorscale\": [[0.0, \"#0d0887\"], [0.1111111111111111, \"#46039f\"], [0.2222222222222222, \"#7201a8\"], [0.3333333333333333, \"#9c179e\"], [0.4444444444444444, \"#bd3786\"], [0.5555555555555556, \"#d8576b\"], [0.6666666666666666, \"#ed7953\"], [0.7777777777777778, \"#fb9f3a\"], [0.8888888888888888, \"#fdca26\"], [1.0, \"#f0f921\"]], \"type\": \"surface\"}], \"table\": [{\"cells\": {\"fill\": {\"color\": \"#EBF0F8\"}, \"line\": {\"color\": \"white\"}}, \"header\": {\"fill\": {\"color\": \"#C8D4E3\"}, \"line\": {\"color\": \"white\"}}, \"type\": \"table\"}]}, \"layout\": {\"annotationdefaults\": {\"arrowcolor\": \"#2a3f5f\", \"arrowhead\": 0, \"arrowwidth\": 1}, \"coloraxis\": {\"colorbar\": {\"outlinewidth\": 0, \"ticks\": \"\"}}, \"colorscale\": {\"diverging\": [[0, \"#8e0152\"], [0.1, \"#c51b7d\"], [0.2, \"#de77ae\"], [0.3, \"#f1b6da\"], [0.4, \"#fde0ef\"], [0.5, \"#f7f7f7\"], [0.6, \"#e6f5d0\"], [0.7, \"#b8e186\"], [0.8, \"#7fbc41\"], [0.9, \"#4d9221\"], [1, \"#276419\"]], \"sequential\": [[0.0, \"#0d0887\"], [0.1111111111111111, \"#46039f\"], [0.2222222222222222, \"#7201a8\"], [0.3333333333333333, \"#9c179e\"], [0.4444444444444444, \"#bd3786\"], [0.5555555555555556, \"#d8576b\"], [0.6666666666666666, \"#ed7953\"], [0.7777777777777778, \"#fb9f3a\"], [0.8888888888888888, \"#fdca26\"], [1.0, \"#f0f921\"]], \"sequentialminus\": [[0.0, \"#0d0887\"], [0.1111111111111111, \"#46039f\"], [0.2222222222222222, \"#7201a8\"], [0.3333333333333333, \"#9c179e\"], [0.4444444444444444, \"#bd3786\"], [0.5555555555555556, \"#d8576b\"], [0.6666666666666666, \"#ed7953\"], [0.7777777777777778, \"#fb9f3a\"], [0.8888888888888888, \"#fdca26\"], [1.0, \"#f0f921\"]]}, \"colorway\": [\"#636efa\", \"#EF553B\", \"#00cc96\", \"#ab63fa\", \"#FFA15A\", \"#19d3f3\", \"#FF6692\", \"#B6E880\", \"#FF97FF\", \"#FECB52\"], \"font\": {\"color\": \"#2a3f5f\"}, \"geo\": {\"bgcolor\": \"white\", \"lakecolor\": \"white\", \"landcolor\": \"#E5ECF6\", \"showlakes\": true, \"showland\": true, \"subunitcolor\": \"white\"}, \"hoverlabel\": {\"align\": \"left\"}, \"hovermode\": \"closest\", \"mapbox\": {\"style\": \"light\"}, \"paper_bgcolor\": \"white\", \"plot_bgcolor\": \"#E5ECF6\", \"polar\": {\"angularaxis\": {\"gridcolor\": \"white\", \"linecolor\": \"white\", \"ticks\": \"\"}, \"bgcolor\": \"#E5ECF6\", \"radialaxis\": {\"gridcolor\": \"white\", \"linecolor\": \"white\", \"ticks\": \"\"}}, \"scene\": {\"xaxis\": {\"backgroundcolor\": \"#E5ECF6\", \"gridcolor\": \"white\", \"gridwidth\": 2, \"linecolor\": \"white\", \"showbackground\": true, \"ticks\": \"\", \"zerolinecolor\": \"white\"}, \"yaxis\": {\"backgroundcolor\": \"#E5ECF6\", \"gridcolor\": \"white\", \"gridwidth\": 2, \"linecolor\": \"white\", \"showbackground\": true, \"ticks\": \"\", \"zerolinecolor\": \"white\"}, \"zaxis\": {\"backgroundcolor\": \"#E5ECF6\", \"gridcolor\": \"white\", \"gridwidth\": 2, \"linecolor\": \"white\", \"showbackground\": true, \"ticks\": \"\", \"zerolinecolor\": \"white\"}}, \"shapedefaults\": {\"line\": {\"color\": \"#2a3f5f\"}}, \"ternary\": {\"aaxis\": {\"gridcolor\": \"white\", \"linecolor\": \"white\", \"ticks\": \"\"}, \"baxis\": {\"gridcolor\": \"white\", \"linecolor\": \"white\", \"ticks\": \"\"}, \"bgcolor\": \"#E5ECF6\", \"caxis\": {\"gridcolor\": \"white\", \"linecolor\": \"white\", \"ticks\": \"\"}}, \"title\": {\"x\": 0.05}, \"xaxis\": {\"automargin\": true, \"gridcolor\": \"white\", \"linecolor\": \"white\", \"ticks\": \"\", \"title\": {\"standoff\": 15}, \"zerolinecolor\": \"white\", \"zerolinewidth\": 2}, \"yaxis\": {\"automargin\": true, \"gridcolor\": \"white\", \"linecolor\": \"white\", \"ticks\": \"\", \"title\": {\"standoff\": 15}, \"zerolinecolor\": \"white\", \"zerolinewidth\": 2}}}, \"title\": {\"text\": \"Confusion Matrix (RF)\", \"x\": 0.5}, \"width\": 400, \"xaxis\": {\"constrain\": \"domain\", \"dtick\": 1, \"scaleanchor\": \"y\", \"tick0\": 0, \"tickmode\": \"linear\", \"title\": {\"text\": \"Prediction\"}}, \"yaxis\": {\"autorange\": \"reversed\", \"constrain\": \"domain\", \"dtick\": 1, \"tick0\": 0, \"tickmode\": \"linear\", \"title\": {\"text\": \"Truth\"}}},\n",
              "                        {\"responsive\": true}\n",
              "                    ).then(function(){\n",
              "                            \n",
              "var gd = document.getElementById('03f5ed88-56e4-4918-88eb-cc073a0059a5');\n",
              "var x = new MutationObserver(function (mutations, observer) {{\n",
              "        var display = window.getComputedStyle(gd).display;\n",
              "        if (!display || display === 'none') {{\n",
              "            console.log([gd, 'removed!']);\n",
              "            Plotly.purge(gd);\n",
              "            observer.disconnect();\n",
              "        }}\n",
              "}});\n",
              "\n",
              "// Listen for the removal of the full notebook cells\n",
              "var notebookContainer = gd.closest('#notebook-container');\n",
              "if (notebookContainer) {{\n",
              "    x.observe(notebookContainer, {childList: true});\n",
              "}}\n",
              "\n",
              "// Listen for the clearing of the current output cell\n",
              "var outputEl = gd.closest('.output');\n",
              "if (outputEl) {{\n",
              "    x.observe(outputEl, {childList: true});\n",
              "}}\n",
              "\n",
              "                        })\n",
              "                };\n",
              "                \n",
              "            </script>\n",
              "        </div>\n",
              "</body>\n",
              "</html>"
            ]
          },
          "metadata": {}
        }
      ]
    },
    {
      "cell_type": "markdown",
      "source": [
        "### Churn Prediction using Boosting (Adaboost classifier)"
      ],
      "metadata": {
        "id": "MbNfK-Mio2Y8"
      }
    },
    {
      "cell_type": "code",
      "source": [
        "para_ada = {'n_estimators':[20,38,52],\n",
        "            'learning_rate':[0.85,0.98,1.0]\n",
        "           }\n",
        "\n",
        "model_ada = GridSearchCV(estimator = AdaBoostClassifier(),   #base_estimator=SVC(probability=True, kernel='linear')\n",
        "                    param_grid = para_ada,\n",
        "                    cv=10,\n",
        "                    verbose=0,\n",
        "                    n_jobs=-1\n",
        "                   )\n",
        "\n",
        "model_ada.fit(train_X_re,train_y_re)"
      ],
      "metadata": {
        "colab": {
          "base_uri": "https://localhost:8080/"
        },
        "id": "etQZm1tpozEP",
        "outputId": "d150b111-8e66-49e6-e26f-ee7d8bd2ec56"
      },
      "execution_count": 59,
      "outputs": [
        {
          "output_type": "execute_result",
          "data": {
            "text/plain": [
              "GridSearchCV(cv=10, estimator=AdaBoostClassifier(), n_jobs=-1,\n",
              "             param_grid={'learning_rate': [0.85, 0.98, 1.0],\n",
              "                         'n_estimators': [20, 38, 52]})"
            ]
          },
          "metadata": {},
          "execution_count": 59
        }
      ]
    },
    {
      "cell_type": "code",
      "source": [
        "model_ada.best_params_"
      ],
      "metadata": {
        "colab": {
          "base_uri": "https://localhost:8080/"
        },
        "id": "eFpDxTVUo7GR",
        "outputId": "ea9b9f43-0f81-411a-9b9e-83cfd66583f1"
      },
      "execution_count": 60,
      "outputs": [
        {
          "output_type": "execute_result",
          "data": {
            "text/plain": [
              "{'learning_rate': 1.0, 'n_estimators': 52}"
            ]
          },
          "metadata": {},
          "execution_count": 60
        }
      ]
    },
    {
      "cell_type": "code",
      "source": [
        "cm_ada,cr_ada,auc_score_ada,_  = test_eval(model_ada,test_X,test_y)\n",
        "fpr_ada, tpr_ada, thresh_ada = roc_curve(test_y, model_ada.predict_proba(test_X)[:,1], pos_label = 1)\n",
        "precision_ada, recall_ada, _ = precision_recall_curve(test_y, model_ada.predict_proba(test_X)[:,1],pos_label=1)"
      ],
      "metadata": {
        "colab": {
          "base_uri": "https://localhost:8080/"
        },
        "id": "5YA1IF7Jnzi1",
        "outputId": "c8d1952a-9c28-4bdd-dd46-bb126ba0cb7d"
      },
      "execution_count": 61,
      "outputs": [
        {
          "output_type": "stream",
          "name": "stdout",
          "text": [
            "Confusion Matrix\n",
            "====================\n",
            "[[755 278]\n",
            " [ 72 302]] \n",
            "\n",
            "Classification Report\n",
            "====================\n",
            "              precision    recall  f1-score   support\n",
            "\n",
            "           0       0.91      0.73      0.81      1033\n",
            "           1       0.52      0.81      0.63       374\n",
            "\n",
            "    accuracy                           0.75      1407\n",
            "   macro avg       0.72      0.77      0.72      1407\n",
            "weighted avg       0.81      0.75      0.76      1407\n",
            "\n"
          ]
        }
      ]
    },
    {
      "cell_type": "code",
      "source": [
        "plot_cmatrix(cm_dt, name='ADA')"
      ],
      "metadata": {
        "colab": {
          "base_uri": "https://localhost:8080/",
          "height": 417
        },
        "id": "X5RWt2RapADg",
        "outputId": "df7e8865-4bca-48f2-ed30-4dc33722c9ac"
      },
      "execution_count": 62,
      "outputs": [
        {
          "output_type": "display_data",
          "data": {
            "text/html": [
              "<html>\n",
              "<head><meta charset=\"utf-8\" /></head>\n",
              "<body>\n",
              "    <div>\n",
              "            <script src=\"https://cdnjs.cloudflare.com/ajax/libs/mathjax/2.7.5/MathJax.js?config=TeX-AMS-MML_SVG\"></script><script type=\"text/javascript\">if (window.MathJax) {MathJax.Hub.Config({SVG: {font: \"STIX-Web\"}});}</script>\n",
              "                <script type=\"text/javascript\">window.PlotlyConfig = {MathJaxConfig: 'local'};</script>\n",
              "        <script src=\"https://cdn.plot.ly/plotly-latest.min.js\"></script>    \n",
              "            <div id=\"28ccf3ff-9c9f-4727-98e7-68832a854e76\" class=\"plotly-graph-div\" style=\"height:400px; width:400px;\"></div>\n",
              "            <script type=\"text/javascript\">\n",
              "                \n",
              "                    window.PLOTLYENV=window.PLOTLYENV || {};\n",
              "                    \n",
              "                if (document.getElementById(\"28ccf3ff-9c9f-4727-98e7-68832a854e76\")) {\n",
              "                    Plotly.newPlot(\n",
              "                        '28ccf3ff-9c9f-4727-98e7-68832a854e76',\n",
              "                        [{\"coloraxis\": \"coloraxis\", \"type\": \"heatmap\", \"z\": [[783, 250], [115, 259]]}],\n",
              "                        {\"annotations\": [{\"font\": {\"color\": \"black\", \"size\": 12}, \"showarrow\": false, \"text\": \"783\", \"x\": 0, \"y\": 0}, {\"font\": {\"color\": \"black\", \"size\": 12}, \"showarrow\": false, \"text\": \"250\", \"x\": 1, \"y\": 0}, {\"font\": {\"color\": \"black\", \"size\": 12}, \"showarrow\": false, \"text\": \"115\", \"x\": 0, \"y\": 1}, {\"font\": {\"color\": \"black\", \"size\": 12}, \"showarrow\": false, \"text\": \"259\", \"x\": 1, \"y\": 1}], \"coloraxis\": {\"colorscale\": [[0.0, \"peachpuff\"], [0.5, \"lime\"], [1.0, \"green\"]]}, \"height\": 400, \"margin\": {\"t\": 60}, \"template\": {\"data\": {\"bar\": [{\"error_x\": {\"color\": \"#2a3f5f\"}, \"error_y\": {\"color\": \"#2a3f5f\"}, \"marker\": {\"line\": {\"color\": \"#E5ECF6\", \"width\": 0.5}}, \"type\": \"bar\"}], \"barpolar\": [{\"marker\": {\"line\": {\"color\": \"#E5ECF6\", \"width\": 0.5}}, \"type\": \"barpolar\"}], \"carpet\": [{\"aaxis\": {\"endlinecolor\": \"#2a3f5f\", \"gridcolor\": \"white\", \"linecolor\": \"white\", \"minorgridcolor\": \"white\", \"startlinecolor\": \"#2a3f5f\"}, \"baxis\": {\"endlinecolor\": \"#2a3f5f\", \"gridcolor\": \"white\", \"linecolor\": \"white\", \"minorgridcolor\": \"white\", \"startlinecolor\": \"#2a3f5f\"}, \"type\": \"carpet\"}], \"choropleth\": [{\"colorbar\": {\"outlinewidth\": 0, \"ticks\": \"\"}, \"type\": \"choropleth\"}], \"contour\": [{\"colorbar\": {\"outlinewidth\": 0, \"ticks\": \"\"}, \"colorscale\": [[0.0, \"#0d0887\"], [0.1111111111111111, \"#46039f\"], [0.2222222222222222, \"#7201a8\"], [0.3333333333333333, \"#9c179e\"], [0.4444444444444444, \"#bd3786\"], [0.5555555555555556, \"#d8576b\"], [0.6666666666666666, \"#ed7953\"], [0.7777777777777778, \"#fb9f3a\"], [0.8888888888888888, \"#fdca26\"], [1.0, \"#f0f921\"]], \"type\": \"contour\"}], \"contourcarpet\": [{\"colorbar\": {\"outlinewidth\": 0, \"ticks\": \"\"}, \"type\": \"contourcarpet\"}], \"heatmap\": [{\"colorbar\": {\"outlinewidth\": 0, \"ticks\": \"\"}, \"colorscale\": [[0.0, \"#0d0887\"], [0.1111111111111111, \"#46039f\"], [0.2222222222222222, \"#7201a8\"], [0.3333333333333333, \"#9c179e\"], [0.4444444444444444, \"#bd3786\"], [0.5555555555555556, \"#d8576b\"], [0.6666666666666666, \"#ed7953\"], [0.7777777777777778, \"#fb9f3a\"], [0.8888888888888888, \"#fdca26\"], [1.0, \"#f0f921\"]], \"type\": \"heatmap\"}], \"heatmapgl\": [{\"colorbar\": {\"outlinewidth\": 0, \"ticks\": \"\"}, \"colorscale\": [[0.0, \"#0d0887\"], [0.1111111111111111, \"#46039f\"], [0.2222222222222222, \"#7201a8\"], [0.3333333333333333, \"#9c179e\"], [0.4444444444444444, \"#bd3786\"], [0.5555555555555556, \"#d8576b\"], [0.6666666666666666, \"#ed7953\"], [0.7777777777777778, \"#fb9f3a\"], [0.8888888888888888, \"#fdca26\"], [1.0, \"#f0f921\"]], \"type\": \"heatmapgl\"}], \"histogram\": [{\"marker\": {\"colorbar\": {\"outlinewidth\": 0, \"ticks\": \"\"}}, \"type\": \"histogram\"}], \"histogram2d\": [{\"colorbar\": {\"outlinewidth\": 0, \"ticks\": \"\"}, \"colorscale\": [[0.0, \"#0d0887\"], [0.1111111111111111, \"#46039f\"], [0.2222222222222222, \"#7201a8\"], [0.3333333333333333, \"#9c179e\"], [0.4444444444444444, \"#bd3786\"], [0.5555555555555556, \"#d8576b\"], [0.6666666666666666, \"#ed7953\"], [0.7777777777777778, \"#fb9f3a\"], [0.8888888888888888, \"#fdca26\"], [1.0, \"#f0f921\"]], \"type\": \"histogram2d\"}], \"histogram2dcontour\": [{\"colorbar\": {\"outlinewidth\": 0, \"ticks\": \"\"}, \"colorscale\": [[0.0, \"#0d0887\"], [0.1111111111111111, \"#46039f\"], [0.2222222222222222, \"#7201a8\"], [0.3333333333333333, \"#9c179e\"], [0.4444444444444444, \"#bd3786\"], [0.5555555555555556, \"#d8576b\"], [0.6666666666666666, \"#ed7953\"], [0.7777777777777778, \"#fb9f3a\"], [0.8888888888888888, \"#fdca26\"], [1.0, \"#f0f921\"]], \"type\": \"histogram2dcontour\"}], \"mesh3d\": [{\"colorbar\": {\"outlinewidth\": 0, \"ticks\": \"\"}, \"type\": \"mesh3d\"}], \"parcoords\": [{\"line\": {\"colorbar\": {\"outlinewidth\": 0, \"ticks\": \"\"}}, \"type\": \"parcoords\"}], \"pie\": [{\"automargin\": true, \"type\": \"pie\"}], \"scatter\": [{\"marker\": {\"colorbar\": {\"outlinewidth\": 0, \"ticks\": \"\"}}, \"type\": \"scatter\"}], \"scatter3d\": [{\"line\": {\"colorbar\": {\"outlinewidth\": 0, \"ticks\": \"\"}}, \"marker\": {\"colorbar\": {\"outlinewidth\": 0, \"ticks\": \"\"}}, \"type\": \"scatter3d\"}], \"scattercarpet\": [{\"marker\": {\"colorbar\": {\"outlinewidth\": 0, \"ticks\": \"\"}}, \"type\": \"scattercarpet\"}], \"scattergeo\": [{\"marker\": {\"colorbar\": {\"outlinewidth\": 0, \"ticks\": \"\"}}, \"type\": \"scattergeo\"}], \"scattergl\": [{\"marker\": {\"colorbar\": {\"outlinewidth\": 0, \"ticks\": \"\"}}, \"type\": \"scattergl\"}], \"scattermapbox\": [{\"marker\": {\"colorbar\": {\"outlinewidth\": 0, \"ticks\": \"\"}}, \"type\": \"scattermapbox\"}], \"scatterpolar\": [{\"marker\": {\"colorbar\": {\"outlinewidth\": 0, \"ticks\": \"\"}}, \"type\": \"scatterpolar\"}], \"scatterpolargl\": [{\"marker\": {\"colorbar\": {\"outlinewidth\": 0, \"ticks\": \"\"}}, \"type\": \"scatterpolargl\"}], \"scatterternary\": [{\"marker\": {\"colorbar\": {\"outlinewidth\": 0, \"ticks\": \"\"}}, \"type\": \"scatterternary\"}], \"surface\": [{\"colorbar\": {\"outlinewidth\": 0, \"ticks\": \"\"}, \"colorscale\": [[0.0, \"#0d0887\"], [0.1111111111111111, \"#46039f\"], [0.2222222222222222, \"#7201a8\"], [0.3333333333333333, \"#9c179e\"], [0.4444444444444444, \"#bd3786\"], [0.5555555555555556, \"#d8576b\"], [0.6666666666666666, \"#ed7953\"], [0.7777777777777778, \"#fb9f3a\"], [0.8888888888888888, \"#fdca26\"], [1.0, \"#f0f921\"]], \"type\": \"surface\"}], \"table\": [{\"cells\": {\"fill\": {\"color\": \"#EBF0F8\"}, \"line\": {\"color\": \"white\"}}, \"header\": {\"fill\": {\"color\": \"#C8D4E3\"}, \"line\": {\"color\": \"white\"}}, \"type\": \"table\"}]}, \"layout\": {\"annotationdefaults\": {\"arrowcolor\": \"#2a3f5f\", \"arrowhead\": 0, \"arrowwidth\": 1}, \"coloraxis\": {\"colorbar\": {\"outlinewidth\": 0, \"ticks\": \"\"}}, \"colorscale\": {\"diverging\": [[0, \"#8e0152\"], [0.1, \"#c51b7d\"], [0.2, \"#de77ae\"], [0.3, \"#f1b6da\"], [0.4, \"#fde0ef\"], [0.5, \"#f7f7f7\"], [0.6, \"#e6f5d0\"], [0.7, \"#b8e186\"], [0.8, \"#7fbc41\"], [0.9, \"#4d9221\"], [1, \"#276419\"]], \"sequential\": [[0.0, \"#0d0887\"], [0.1111111111111111, \"#46039f\"], [0.2222222222222222, \"#7201a8\"], [0.3333333333333333, \"#9c179e\"], [0.4444444444444444, \"#bd3786\"], [0.5555555555555556, \"#d8576b\"], [0.6666666666666666, \"#ed7953\"], [0.7777777777777778, \"#fb9f3a\"], [0.8888888888888888, \"#fdca26\"], [1.0, \"#f0f921\"]], \"sequentialminus\": [[0.0, \"#0d0887\"], [0.1111111111111111, \"#46039f\"], [0.2222222222222222, \"#7201a8\"], [0.3333333333333333, \"#9c179e\"], [0.4444444444444444, \"#bd3786\"], [0.5555555555555556, \"#d8576b\"], [0.6666666666666666, \"#ed7953\"], [0.7777777777777778, \"#fb9f3a\"], [0.8888888888888888, \"#fdca26\"], [1.0, \"#f0f921\"]]}, \"colorway\": [\"#636efa\", \"#EF553B\", \"#00cc96\", \"#ab63fa\", \"#FFA15A\", \"#19d3f3\", \"#FF6692\", \"#B6E880\", \"#FF97FF\", \"#FECB52\"], \"font\": {\"color\": \"#2a3f5f\"}, \"geo\": {\"bgcolor\": \"white\", \"lakecolor\": \"white\", \"landcolor\": \"#E5ECF6\", \"showlakes\": true, \"showland\": true, \"subunitcolor\": \"white\"}, \"hoverlabel\": {\"align\": \"left\"}, \"hovermode\": \"closest\", \"mapbox\": {\"style\": \"light\"}, \"paper_bgcolor\": \"white\", \"plot_bgcolor\": \"#E5ECF6\", \"polar\": {\"angularaxis\": {\"gridcolor\": \"white\", \"linecolor\": \"white\", \"ticks\": \"\"}, \"bgcolor\": \"#E5ECF6\", \"radialaxis\": {\"gridcolor\": \"white\", \"linecolor\": \"white\", \"ticks\": \"\"}}, \"scene\": {\"xaxis\": {\"backgroundcolor\": \"#E5ECF6\", \"gridcolor\": \"white\", \"gridwidth\": 2, \"linecolor\": \"white\", \"showbackground\": true, \"ticks\": \"\", \"zerolinecolor\": \"white\"}, \"yaxis\": {\"backgroundcolor\": \"#E5ECF6\", \"gridcolor\": \"white\", \"gridwidth\": 2, \"linecolor\": \"white\", \"showbackground\": true, \"ticks\": \"\", \"zerolinecolor\": \"white\"}, \"zaxis\": {\"backgroundcolor\": \"#E5ECF6\", \"gridcolor\": \"white\", \"gridwidth\": 2, \"linecolor\": \"white\", \"showbackground\": true, \"ticks\": \"\", \"zerolinecolor\": \"white\"}}, \"shapedefaults\": {\"line\": {\"color\": \"#2a3f5f\"}}, \"ternary\": {\"aaxis\": {\"gridcolor\": \"white\", \"linecolor\": \"white\", \"ticks\": \"\"}, \"baxis\": {\"gridcolor\": \"white\", \"linecolor\": \"white\", \"ticks\": \"\"}, \"bgcolor\": \"#E5ECF6\", \"caxis\": {\"gridcolor\": \"white\", \"linecolor\": \"white\", \"ticks\": \"\"}}, \"title\": {\"x\": 0.05}, \"xaxis\": {\"automargin\": true, \"gridcolor\": \"white\", \"linecolor\": \"white\", \"ticks\": \"\", \"title\": {\"standoff\": 15}, \"zerolinecolor\": \"white\", \"zerolinewidth\": 2}, \"yaxis\": {\"automargin\": true, \"gridcolor\": \"white\", \"linecolor\": \"white\", \"ticks\": \"\", \"title\": {\"standoff\": 15}, \"zerolinecolor\": \"white\", \"zerolinewidth\": 2}}}, \"title\": {\"text\": \"Confusion Matrix (ADA)\", \"x\": 0.5}, \"width\": 400, \"xaxis\": {\"constrain\": \"domain\", \"dtick\": 1, \"scaleanchor\": \"y\", \"tick0\": 0, \"tickmode\": \"linear\", \"title\": {\"text\": \"Prediction\"}}, \"yaxis\": {\"autorange\": \"reversed\", \"constrain\": \"domain\", \"dtick\": 1, \"tick0\": 0, \"tickmode\": \"linear\", \"title\": {\"text\": \"Truth\"}}},\n",
              "                        {\"responsive\": true}\n",
              "                    ).then(function(){\n",
              "                            \n",
              "var gd = document.getElementById('28ccf3ff-9c9f-4727-98e7-68832a854e76');\n",
              "var x = new MutationObserver(function (mutations, observer) {{\n",
              "        var display = window.getComputedStyle(gd).display;\n",
              "        if (!display || display === 'none') {{\n",
              "            console.log([gd, 'removed!']);\n",
              "            Plotly.purge(gd);\n",
              "            observer.disconnect();\n",
              "        }}\n",
              "}});\n",
              "\n",
              "// Listen for the removal of the full notebook cells\n",
              "var notebookContainer = gd.closest('#notebook-container');\n",
              "if (notebookContainer) {{\n",
              "    x.observe(notebookContainer, {childList: true});\n",
              "}}\n",
              "\n",
              "// Listen for the clearing of the current output cell\n",
              "var outputEl = gd.closest('.output');\n",
              "if (outputEl) {{\n",
              "    x.observe(outputEl, {childList: true});\n",
              "}}\n",
              "\n",
              "                        })\n",
              "                };\n",
              "                \n",
              "            </script>\n",
              "        </div>\n",
              "</body>\n",
              "</html>"
            ]
          },
          "metadata": {}
        }
      ]
    },
    {
      "cell_type": "markdown",
      "source": [
        "## Churn Prediction using Stochastic Gradient Boosting"
      ],
      "metadata": {
        "id": "UGDoazdCpIV7"
      }
    },
    {
      "cell_type": "code",
      "source": [
        "para_sgb = {'n_estimators':[100,200],\n",
        "            'learning_rate':[0.5,1.0],\n",
        "            'subsample':[0.5,1.0],\n",
        "            'max_features':['auto', 'sqrt', 'log2']\n",
        "           }\n",
        "\n",
        "model_sgb = GridSearchCV(estimator = GradientBoostingClassifier(),\n",
        "                    param_grid = para_sgb,\n",
        "                    cv=10,\n",
        "                    verbose=0,\n",
        "                    n_jobs=-1\n",
        "                   )\n",
        "\n",
        "model_sgb.fit(train_X_re,train_y_re)"
      ],
      "metadata": {
        "colab": {
          "base_uri": "https://localhost:8080/"
        },
        "id": "WywDxuDwpAGf",
        "outputId": "b605166f-c913-4aa1-925c-d8649d3233d8"
      },
      "execution_count": 63,
      "outputs": [
        {
          "output_type": "execute_result",
          "data": {
            "text/plain": [
              "GridSearchCV(cv=10, estimator=GradientBoostingClassifier(), n_jobs=-1,\n",
              "             param_grid={'learning_rate': [0.5, 1.0],\n",
              "                         'max_features': ['auto', 'sqrt', 'log2'],\n",
              "                         'n_estimators': [100, 200], 'subsample': [0.5, 1.0]})"
            ]
          },
          "metadata": {},
          "execution_count": 63
        }
      ]
    },
    {
      "cell_type": "code",
      "source": [
        "model_sgb.best_params_"
      ],
      "metadata": {
        "colab": {
          "base_uri": "https://localhost:8080/"
        },
        "id": "za07XgflpJPC",
        "outputId": "1b940f1c-40b4-4584-b270-932f5b2d685f"
      },
      "execution_count": 64,
      "outputs": [
        {
          "output_type": "execute_result",
          "data": {
            "text/plain": [
              "{'learning_rate': 1.0,\n",
              " 'max_features': 'sqrt',\n",
              " 'n_estimators': 200,\n",
              " 'subsample': 1.0}"
            ]
          },
          "metadata": {},
          "execution_count": 64
        }
      ]
    },
    {
      "cell_type": "code",
      "source": [
        "cm_sgb,cr_sgb,auc_score_sgb,_  = test_eval(model_sgb,test_X,test_y)\n",
        "fpr_sgb, tpr_sgb, thresh_sgb = roc_curve(test_y, model_sgb.predict_proba(test_X)[:,1], pos_label = 1)\n",
        "precision_sgb, recall_sgb, _ = precision_recall_curve(test_y, model_sgb.predict_proba(test_X)[:,1],pos_label=1)"
      ],
      "metadata": {
        "colab": {
          "base_uri": "https://localhost:8080/"
        },
        "id": "S4fMaFeDpOm7",
        "outputId": "c7625cf0-4f6c-4f3d-bda0-6421e8b2b3c8"
      },
      "execution_count": 65,
      "outputs": [
        {
          "output_type": "stream",
          "name": "stdout",
          "text": [
            "Confusion Matrix\n",
            "====================\n",
            "[[817 216]\n",
            " [147 227]] \n",
            "\n",
            "Classification Report\n",
            "====================\n",
            "              precision    recall  f1-score   support\n",
            "\n",
            "           0       0.85      0.79      0.82      1033\n",
            "           1       0.51      0.61      0.56       374\n",
            "\n",
            "    accuracy                           0.74      1407\n",
            "   macro avg       0.68      0.70      0.69      1407\n",
            "weighted avg       0.76      0.74      0.75      1407\n",
            "\n"
          ]
        }
      ]
    },
    {
      "cell_type": "code",
      "source": [
        "plot_cmatrix(cm_sgb, name='SGB')"
      ],
      "metadata": {
        "colab": {
          "base_uri": "https://localhost:8080/",
          "height": 417
        },
        "id": "u0mkMkVepWRU",
        "outputId": "516a2e17-2569-4b5a-f572-b0995a4a2216"
      },
      "execution_count": 66,
      "outputs": [
        {
          "output_type": "display_data",
          "data": {
            "text/html": [
              "<html>\n",
              "<head><meta charset=\"utf-8\" /></head>\n",
              "<body>\n",
              "    <div>\n",
              "            <script src=\"https://cdnjs.cloudflare.com/ajax/libs/mathjax/2.7.5/MathJax.js?config=TeX-AMS-MML_SVG\"></script><script type=\"text/javascript\">if (window.MathJax) {MathJax.Hub.Config({SVG: {font: \"STIX-Web\"}});}</script>\n",
              "                <script type=\"text/javascript\">window.PlotlyConfig = {MathJaxConfig: 'local'};</script>\n",
              "        <script src=\"https://cdn.plot.ly/plotly-latest.min.js\"></script>    \n",
              "            <div id=\"9568ad27-8ce1-45ff-99e3-7799150661cb\" class=\"plotly-graph-div\" style=\"height:400px; width:400px;\"></div>\n",
              "            <script type=\"text/javascript\">\n",
              "                \n",
              "                    window.PLOTLYENV=window.PLOTLYENV || {};\n",
              "                    \n",
              "                if (document.getElementById(\"9568ad27-8ce1-45ff-99e3-7799150661cb\")) {\n",
              "                    Plotly.newPlot(\n",
              "                        '9568ad27-8ce1-45ff-99e3-7799150661cb',\n",
              "                        [{\"coloraxis\": \"coloraxis\", \"type\": \"heatmap\", \"z\": [[817, 216], [147, 227]]}],\n",
              "                        {\"annotations\": [{\"font\": {\"color\": \"black\", \"size\": 12}, \"showarrow\": false, \"text\": \"817\", \"x\": 0, \"y\": 0}, {\"font\": {\"color\": \"black\", \"size\": 12}, \"showarrow\": false, \"text\": \"216\", \"x\": 1, \"y\": 0}, {\"font\": {\"color\": \"black\", \"size\": 12}, \"showarrow\": false, \"text\": \"147\", \"x\": 0, \"y\": 1}, {\"font\": {\"color\": \"black\", \"size\": 12}, \"showarrow\": false, \"text\": \"227\", \"x\": 1, \"y\": 1}], \"coloraxis\": {\"colorscale\": [[0.0, \"peachpuff\"], [0.5, \"lime\"], [1.0, \"green\"]]}, \"height\": 400, \"margin\": {\"t\": 60}, \"template\": {\"data\": {\"bar\": [{\"error_x\": {\"color\": \"#2a3f5f\"}, \"error_y\": {\"color\": \"#2a3f5f\"}, \"marker\": {\"line\": {\"color\": \"#E5ECF6\", \"width\": 0.5}}, \"type\": \"bar\"}], \"barpolar\": [{\"marker\": {\"line\": {\"color\": \"#E5ECF6\", \"width\": 0.5}}, \"type\": \"barpolar\"}], \"carpet\": [{\"aaxis\": {\"endlinecolor\": \"#2a3f5f\", \"gridcolor\": \"white\", \"linecolor\": \"white\", \"minorgridcolor\": \"white\", \"startlinecolor\": \"#2a3f5f\"}, \"baxis\": {\"endlinecolor\": \"#2a3f5f\", \"gridcolor\": \"white\", \"linecolor\": \"white\", \"minorgridcolor\": \"white\", \"startlinecolor\": \"#2a3f5f\"}, \"type\": \"carpet\"}], \"choropleth\": [{\"colorbar\": {\"outlinewidth\": 0, \"ticks\": \"\"}, \"type\": \"choropleth\"}], \"contour\": [{\"colorbar\": {\"outlinewidth\": 0, \"ticks\": \"\"}, \"colorscale\": [[0.0, \"#0d0887\"], [0.1111111111111111, \"#46039f\"], [0.2222222222222222, \"#7201a8\"], [0.3333333333333333, \"#9c179e\"], [0.4444444444444444, \"#bd3786\"], [0.5555555555555556, \"#d8576b\"], [0.6666666666666666, \"#ed7953\"], [0.7777777777777778, \"#fb9f3a\"], [0.8888888888888888, \"#fdca26\"], [1.0, \"#f0f921\"]], \"type\": \"contour\"}], \"contourcarpet\": [{\"colorbar\": {\"outlinewidth\": 0, \"ticks\": \"\"}, \"type\": \"contourcarpet\"}], \"heatmap\": [{\"colorbar\": {\"outlinewidth\": 0, \"ticks\": \"\"}, \"colorscale\": [[0.0, \"#0d0887\"], [0.1111111111111111, \"#46039f\"], [0.2222222222222222, \"#7201a8\"], [0.3333333333333333, \"#9c179e\"], [0.4444444444444444, \"#bd3786\"], [0.5555555555555556, \"#d8576b\"], [0.6666666666666666, \"#ed7953\"], [0.7777777777777778, \"#fb9f3a\"], [0.8888888888888888, \"#fdca26\"], [1.0, \"#f0f921\"]], \"type\": \"heatmap\"}], \"heatmapgl\": [{\"colorbar\": {\"outlinewidth\": 0, \"ticks\": \"\"}, \"colorscale\": [[0.0, \"#0d0887\"], [0.1111111111111111, \"#46039f\"], [0.2222222222222222, \"#7201a8\"], [0.3333333333333333, \"#9c179e\"], [0.4444444444444444, \"#bd3786\"], [0.5555555555555556, \"#d8576b\"], [0.6666666666666666, \"#ed7953\"], [0.7777777777777778, \"#fb9f3a\"], [0.8888888888888888, \"#fdca26\"], [1.0, \"#f0f921\"]], \"type\": \"heatmapgl\"}], \"histogram\": [{\"marker\": {\"colorbar\": {\"outlinewidth\": 0, \"ticks\": \"\"}}, \"type\": \"histogram\"}], \"histogram2d\": [{\"colorbar\": {\"outlinewidth\": 0, \"ticks\": \"\"}, \"colorscale\": [[0.0, \"#0d0887\"], [0.1111111111111111, \"#46039f\"], [0.2222222222222222, \"#7201a8\"], [0.3333333333333333, \"#9c179e\"], [0.4444444444444444, \"#bd3786\"], [0.5555555555555556, \"#d8576b\"], [0.6666666666666666, \"#ed7953\"], [0.7777777777777778, \"#fb9f3a\"], [0.8888888888888888, \"#fdca26\"], [1.0, \"#f0f921\"]], \"type\": \"histogram2d\"}], \"histogram2dcontour\": [{\"colorbar\": {\"outlinewidth\": 0, \"ticks\": \"\"}, \"colorscale\": [[0.0, \"#0d0887\"], [0.1111111111111111, \"#46039f\"], [0.2222222222222222, \"#7201a8\"], [0.3333333333333333, \"#9c179e\"], [0.4444444444444444, \"#bd3786\"], [0.5555555555555556, \"#d8576b\"], [0.6666666666666666, \"#ed7953\"], [0.7777777777777778, \"#fb9f3a\"], [0.8888888888888888, \"#fdca26\"], [1.0, \"#f0f921\"]], \"type\": \"histogram2dcontour\"}], \"mesh3d\": [{\"colorbar\": {\"outlinewidth\": 0, \"ticks\": \"\"}, \"type\": \"mesh3d\"}], \"parcoords\": [{\"line\": {\"colorbar\": {\"outlinewidth\": 0, \"ticks\": \"\"}}, \"type\": \"parcoords\"}], \"pie\": [{\"automargin\": true, \"type\": \"pie\"}], \"scatter\": [{\"marker\": {\"colorbar\": {\"outlinewidth\": 0, \"ticks\": \"\"}}, \"type\": \"scatter\"}], \"scatter3d\": [{\"line\": {\"colorbar\": {\"outlinewidth\": 0, \"ticks\": \"\"}}, \"marker\": {\"colorbar\": {\"outlinewidth\": 0, \"ticks\": \"\"}}, \"type\": \"scatter3d\"}], \"scattercarpet\": [{\"marker\": {\"colorbar\": {\"outlinewidth\": 0, \"ticks\": \"\"}}, \"type\": \"scattercarpet\"}], \"scattergeo\": [{\"marker\": {\"colorbar\": {\"outlinewidth\": 0, \"ticks\": \"\"}}, \"type\": \"scattergeo\"}], \"scattergl\": [{\"marker\": {\"colorbar\": {\"outlinewidth\": 0, \"ticks\": \"\"}}, \"type\": \"scattergl\"}], \"scattermapbox\": [{\"marker\": {\"colorbar\": {\"outlinewidth\": 0, \"ticks\": \"\"}}, \"type\": \"scattermapbox\"}], \"scatterpolar\": [{\"marker\": {\"colorbar\": {\"outlinewidth\": 0, \"ticks\": \"\"}}, \"type\": \"scatterpolar\"}], \"scatterpolargl\": [{\"marker\": {\"colorbar\": {\"outlinewidth\": 0, \"ticks\": \"\"}}, \"type\": \"scatterpolargl\"}], \"scatterternary\": [{\"marker\": {\"colorbar\": {\"outlinewidth\": 0, \"ticks\": \"\"}}, \"type\": \"scatterternary\"}], \"surface\": [{\"colorbar\": {\"outlinewidth\": 0, \"ticks\": \"\"}, \"colorscale\": [[0.0, \"#0d0887\"], [0.1111111111111111, \"#46039f\"], [0.2222222222222222, \"#7201a8\"], [0.3333333333333333, \"#9c179e\"], [0.4444444444444444, \"#bd3786\"], [0.5555555555555556, \"#d8576b\"], [0.6666666666666666, \"#ed7953\"], [0.7777777777777778, \"#fb9f3a\"], [0.8888888888888888, \"#fdca26\"], [1.0, \"#f0f921\"]], \"type\": \"surface\"}], \"table\": [{\"cells\": {\"fill\": {\"color\": \"#EBF0F8\"}, \"line\": {\"color\": \"white\"}}, \"header\": {\"fill\": {\"color\": \"#C8D4E3\"}, \"line\": {\"color\": \"white\"}}, \"type\": \"table\"}]}, \"layout\": {\"annotationdefaults\": {\"arrowcolor\": \"#2a3f5f\", \"arrowhead\": 0, \"arrowwidth\": 1}, \"coloraxis\": {\"colorbar\": {\"outlinewidth\": 0, \"ticks\": \"\"}}, \"colorscale\": {\"diverging\": [[0, \"#8e0152\"], [0.1, \"#c51b7d\"], [0.2, \"#de77ae\"], [0.3, \"#f1b6da\"], [0.4, \"#fde0ef\"], [0.5, \"#f7f7f7\"], [0.6, \"#e6f5d0\"], [0.7, \"#b8e186\"], [0.8, \"#7fbc41\"], [0.9, \"#4d9221\"], [1, \"#276419\"]], \"sequential\": [[0.0, \"#0d0887\"], [0.1111111111111111, \"#46039f\"], [0.2222222222222222, \"#7201a8\"], [0.3333333333333333, \"#9c179e\"], [0.4444444444444444, \"#bd3786\"], [0.5555555555555556, \"#d8576b\"], [0.6666666666666666, \"#ed7953\"], [0.7777777777777778, \"#fb9f3a\"], [0.8888888888888888, \"#fdca26\"], [1.0, \"#f0f921\"]], \"sequentialminus\": [[0.0, \"#0d0887\"], [0.1111111111111111, \"#46039f\"], [0.2222222222222222, \"#7201a8\"], [0.3333333333333333, \"#9c179e\"], [0.4444444444444444, \"#bd3786\"], [0.5555555555555556, \"#d8576b\"], [0.6666666666666666, \"#ed7953\"], [0.7777777777777778, \"#fb9f3a\"], [0.8888888888888888, \"#fdca26\"], [1.0, \"#f0f921\"]]}, \"colorway\": [\"#636efa\", \"#EF553B\", \"#00cc96\", \"#ab63fa\", \"#FFA15A\", \"#19d3f3\", \"#FF6692\", \"#B6E880\", \"#FF97FF\", \"#FECB52\"], \"font\": {\"color\": \"#2a3f5f\"}, \"geo\": {\"bgcolor\": \"white\", \"lakecolor\": \"white\", \"landcolor\": \"#E5ECF6\", \"showlakes\": true, \"showland\": true, \"subunitcolor\": \"white\"}, \"hoverlabel\": {\"align\": \"left\"}, \"hovermode\": \"closest\", \"mapbox\": {\"style\": \"light\"}, \"paper_bgcolor\": \"white\", \"plot_bgcolor\": \"#E5ECF6\", \"polar\": {\"angularaxis\": {\"gridcolor\": \"white\", \"linecolor\": \"white\", \"ticks\": \"\"}, \"bgcolor\": \"#E5ECF6\", \"radialaxis\": {\"gridcolor\": \"white\", \"linecolor\": \"white\", \"ticks\": \"\"}}, \"scene\": {\"xaxis\": {\"backgroundcolor\": \"#E5ECF6\", \"gridcolor\": \"white\", \"gridwidth\": 2, \"linecolor\": \"white\", \"showbackground\": true, \"ticks\": \"\", \"zerolinecolor\": \"white\"}, \"yaxis\": {\"backgroundcolor\": \"#E5ECF6\", \"gridcolor\": \"white\", \"gridwidth\": 2, \"linecolor\": \"white\", \"showbackground\": true, \"ticks\": \"\", \"zerolinecolor\": \"white\"}, \"zaxis\": {\"backgroundcolor\": \"#E5ECF6\", \"gridcolor\": \"white\", \"gridwidth\": 2, \"linecolor\": \"white\", \"showbackground\": true, \"ticks\": \"\", \"zerolinecolor\": \"white\"}}, \"shapedefaults\": {\"line\": {\"color\": \"#2a3f5f\"}}, \"ternary\": {\"aaxis\": {\"gridcolor\": \"white\", \"linecolor\": \"white\", \"ticks\": \"\"}, \"baxis\": {\"gridcolor\": \"white\", \"linecolor\": \"white\", \"ticks\": \"\"}, \"bgcolor\": \"#E5ECF6\", \"caxis\": {\"gridcolor\": \"white\", \"linecolor\": \"white\", \"ticks\": \"\"}}, \"title\": {\"x\": 0.05}, \"xaxis\": {\"automargin\": true, \"gridcolor\": \"white\", \"linecolor\": \"white\", \"ticks\": \"\", \"title\": {\"standoff\": 15}, \"zerolinecolor\": \"white\", \"zerolinewidth\": 2}, \"yaxis\": {\"automargin\": true, \"gridcolor\": \"white\", \"linecolor\": \"white\", \"ticks\": \"\", \"title\": {\"standoff\": 15}, \"zerolinecolor\": \"white\", \"zerolinewidth\": 2}}}, \"title\": {\"text\": \"Confusion Matrix (SGB)\", \"x\": 0.5}, \"width\": 400, \"xaxis\": {\"constrain\": \"domain\", \"dtick\": 1, \"scaleanchor\": \"y\", \"tick0\": 0, \"tickmode\": \"linear\", \"title\": {\"text\": \"Prediction\"}}, \"yaxis\": {\"autorange\": \"reversed\", \"constrain\": \"domain\", \"dtick\": 1, \"tick0\": 0, \"tickmode\": \"linear\", \"title\": {\"text\": \"Truth\"}}},\n",
              "                        {\"responsive\": true}\n",
              "                    ).then(function(){\n",
              "                            \n",
              "var gd = document.getElementById('9568ad27-8ce1-45ff-99e3-7799150661cb');\n",
              "var x = new MutationObserver(function (mutations, observer) {{\n",
              "        var display = window.getComputedStyle(gd).display;\n",
              "        if (!display || display === 'none') {{\n",
              "            console.log([gd, 'removed!']);\n",
              "            Plotly.purge(gd);\n",
              "            observer.disconnect();\n",
              "        }}\n",
              "}});\n",
              "\n",
              "// Listen for the removal of the full notebook cells\n",
              "var notebookContainer = gd.closest('#notebook-container');\n",
              "if (notebookContainer) {{\n",
              "    x.observe(notebookContainer, {childList: true});\n",
              "}}\n",
              "\n",
              "// Listen for the clearing of the current output cell\n",
              "var outputEl = gd.closest('.output');\n",
              "if (outputEl) {{\n",
              "    x.observe(outputEl, {childList: true});\n",
              "}}\n",
              "\n",
              "                        })\n",
              "                };\n",
              "                \n",
              "            </script>\n",
              "        </div>\n",
              "</body>\n",
              "</html>"
            ]
          },
          "metadata": {}
        }
      ]
    },
    {
      "cell_type": "markdown",
      "source": [
        "### Churn Prediction using CatBoost"
      ],
      "metadata": {
        "id": "mBKUaA5ZpbUq"
      }
    },
    {
      "cell_type": "code",
      "source": [
        "para_cat = {'iterations':[200,500],\n",
        "            'learning_rate':[0.1,0.2]\n",
        "           }\n",
        "\n",
        "model_cat = GridSearchCV(estimator = CatBoostClassifier(verbose=False),\n",
        "                    param_grid = para_cat,\n",
        "                    cv=10,\n",
        "                    verbose=0,\n",
        "                    n_jobs=-1\n",
        "                   )\n",
        "\n",
        "model_cat.fit(train_X_re,train_y_re)"
      ],
      "metadata": {
        "colab": {
          "base_uri": "https://localhost:8080/"
        },
        "id": "ba6ZTppkpJSf",
        "outputId": "7435c844-23af-4543-9749-c8f94095611a"
      },
      "execution_count": 83,
      "outputs": [
        {
          "output_type": "execute_result",
          "data": {
            "text/plain": [
              "GridSearchCV(cv=10,\n",
              "             estimator=<catboost.core.CatBoostClassifier object at 0x7f35bdcb8e10>,\n",
              "             n_jobs=-1,\n",
              "             param_grid={'iterations': [200, 500], 'learning_rate': [0.1, 0.2]})"
            ]
          },
          "metadata": {},
          "execution_count": 83
        }
      ]
    },
    {
      "cell_type": "code",
      "source": [
        "model_cat.best_params_"
      ],
      "metadata": {
        "colab": {
          "base_uri": "https://localhost:8080/"
        },
        "id": "pF-QbOlEpYRy",
        "outputId": "5dcb9b1f-973d-4e4a-e33c-8a55cb42bb14"
      },
      "execution_count": 84,
      "outputs": [
        {
          "output_type": "execute_result",
          "data": {
            "text/plain": [
              "{'iterations': 500, 'learning_rate': 0.2}"
            ]
          },
          "metadata": {},
          "execution_count": 84
        }
      ]
    },
    {
      "cell_type": "code",
      "source": [
        "cm_cat,cr_cat,auc_score_cat,_  = test_eval(model_cat,test_X,test_y)\n",
        "fpr_cat, tpr_cat, thresh_cat = roc_curve(test_y, model_cat.predict_proba(test_X)[:,1], pos_label = 1)\n",
        "precision_cat, recall_cat, _ = precision_recall_curve(test_y, model_cat.predict_proba(test_X)[:,1],pos_label=1)"
      ],
      "metadata": {
        "colab": {
          "base_uri": "https://localhost:8080/"
        },
        "id": "Dnw-KMAUpn4v",
        "outputId": "a9b3f990-0033-462c-f540-23df934f75e3"
      },
      "execution_count": 85,
      "outputs": [
        {
          "output_type": "stream",
          "name": "stdout",
          "text": [
            "Confusion Matrix\n",
            "====================\n",
            "[[851 182]\n",
            " [150 224]] \n",
            "\n",
            "Classification Report\n",
            "====================\n",
            "              precision    recall  f1-score   support\n",
            "\n",
            "           0       0.85      0.82      0.84      1033\n",
            "           1       0.55      0.60      0.57       374\n",
            "\n",
            "    accuracy                           0.76      1407\n",
            "   macro avg       0.70      0.71      0.71      1407\n",
            "weighted avg       0.77      0.76      0.77      1407\n",
            "\n"
          ]
        }
      ]
    },
    {
      "cell_type": "code",
      "source": [
        "plot_cmatrix(cm_cat, name='CAT')"
      ],
      "metadata": {
        "colab": {
          "base_uri": "https://localhost:8080/",
          "height": 417
        },
        "id": "TKBpREyKpn8o",
        "outputId": "b315a81a-bd80-4270-9814-c927ea8c1f4a"
      },
      "execution_count": 70,
      "outputs": [
        {
          "output_type": "display_data",
          "data": {
            "text/html": [
              "<html>\n",
              "<head><meta charset=\"utf-8\" /></head>\n",
              "<body>\n",
              "    <div>\n",
              "            <script src=\"https://cdnjs.cloudflare.com/ajax/libs/mathjax/2.7.5/MathJax.js?config=TeX-AMS-MML_SVG\"></script><script type=\"text/javascript\">if (window.MathJax) {MathJax.Hub.Config({SVG: {font: \"STIX-Web\"}});}</script>\n",
              "                <script type=\"text/javascript\">window.PlotlyConfig = {MathJaxConfig: 'local'};</script>\n",
              "        <script src=\"https://cdn.plot.ly/plotly-latest.min.js\"></script>    \n",
              "            <div id=\"c1d67682-2a6b-4f88-8d3f-4e8fed3a2f92\" class=\"plotly-graph-div\" style=\"height:400px; width:400px;\"></div>\n",
              "            <script type=\"text/javascript\">\n",
              "                \n",
              "                    window.PLOTLYENV=window.PLOTLYENV || {};\n",
              "                    \n",
              "                if (document.getElementById(\"c1d67682-2a6b-4f88-8d3f-4e8fed3a2f92\")) {\n",
              "                    Plotly.newPlot(\n",
              "                        'c1d67682-2a6b-4f88-8d3f-4e8fed3a2f92',\n",
              "                        [{\"coloraxis\": \"coloraxis\", \"type\": \"heatmap\", \"z\": [[851, 182], [150, 224]]}],\n",
              "                        {\"annotations\": [{\"font\": {\"color\": \"black\", \"size\": 12}, \"showarrow\": false, \"text\": \"851\", \"x\": 0, \"y\": 0}, {\"font\": {\"color\": \"black\", \"size\": 12}, \"showarrow\": false, \"text\": \"182\", \"x\": 1, \"y\": 0}, {\"font\": {\"color\": \"black\", \"size\": 12}, \"showarrow\": false, \"text\": \"150\", \"x\": 0, \"y\": 1}, {\"font\": {\"color\": \"black\", \"size\": 12}, \"showarrow\": false, \"text\": \"224\", \"x\": 1, \"y\": 1}], \"coloraxis\": {\"colorscale\": [[0.0, \"peachpuff\"], [0.5, \"lime\"], [1.0, \"green\"]]}, \"height\": 400, \"margin\": {\"t\": 60}, \"template\": {\"data\": {\"bar\": [{\"error_x\": {\"color\": \"#2a3f5f\"}, \"error_y\": {\"color\": \"#2a3f5f\"}, \"marker\": {\"line\": {\"color\": \"#E5ECF6\", \"width\": 0.5}}, \"type\": \"bar\"}], \"barpolar\": [{\"marker\": {\"line\": {\"color\": \"#E5ECF6\", \"width\": 0.5}}, \"type\": \"barpolar\"}], \"carpet\": [{\"aaxis\": {\"endlinecolor\": \"#2a3f5f\", \"gridcolor\": \"white\", \"linecolor\": \"white\", \"minorgridcolor\": \"white\", \"startlinecolor\": \"#2a3f5f\"}, \"baxis\": {\"endlinecolor\": \"#2a3f5f\", \"gridcolor\": \"white\", \"linecolor\": \"white\", \"minorgridcolor\": \"white\", \"startlinecolor\": \"#2a3f5f\"}, \"type\": \"carpet\"}], \"choropleth\": [{\"colorbar\": {\"outlinewidth\": 0, \"ticks\": \"\"}, \"type\": \"choropleth\"}], \"contour\": [{\"colorbar\": {\"outlinewidth\": 0, \"ticks\": \"\"}, \"colorscale\": [[0.0, \"#0d0887\"], [0.1111111111111111, \"#46039f\"], [0.2222222222222222, \"#7201a8\"], [0.3333333333333333, \"#9c179e\"], [0.4444444444444444, \"#bd3786\"], [0.5555555555555556, \"#d8576b\"], [0.6666666666666666, \"#ed7953\"], [0.7777777777777778, \"#fb9f3a\"], [0.8888888888888888, \"#fdca26\"], [1.0, \"#f0f921\"]], \"type\": \"contour\"}], \"contourcarpet\": [{\"colorbar\": {\"outlinewidth\": 0, \"ticks\": \"\"}, \"type\": \"contourcarpet\"}], \"heatmap\": [{\"colorbar\": {\"outlinewidth\": 0, \"ticks\": \"\"}, \"colorscale\": [[0.0, \"#0d0887\"], [0.1111111111111111, \"#46039f\"], [0.2222222222222222, \"#7201a8\"], [0.3333333333333333, \"#9c179e\"], [0.4444444444444444, \"#bd3786\"], [0.5555555555555556, \"#d8576b\"], [0.6666666666666666, \"#ed7953\"], [0.7777777777777778, \"#fb9f3a\"], [0.8888888888888888, \"#fdca26\"], [1.0, \"#f0f921\"]], \"type\": \"heatmap\"}], \"heatmapgl\": [{\"colorbar\": {\"outlinewidth\": 0, \"ticks\": \"\"}, \"colorscale\": [[0.0, \"#0d0887\"], [0.1111111111111111, \"#46039f\"], [0.2222222222222222, \"#7201a8\"], [0.3333333333333333, \"#9c179e\"], [0.4444444444444444, \"#bd3786\"], [0.5555555555555556, \"#d8576b\"], [0.6666666666666666, \"#ed7953\"], [0.7777777777777778, \"#fb9f3a\"], [0.8888888888888888, \"#fdca26\"], [1.0, \"#f0f921\"]], \"type\": \"heatmapgl\"}], \"histogram\": [{\"marker\": {\"colorbar\": {\"outlinewidth\": 0, \"ticks\": \"\"}}, \"type\": \"histogram\"}], \"histogram2d\": [{\"colorbar\": {\"outlinewidth\": 0, \"ticks\": \"\"}, \"colorscale\": [[0.0, \"#0d0887\"], [0.1111111111111111, \"#46039f\"], [0.2222222222222222, \"#7201a8\"], [0.3333333333333333, \"#9c179e\"], [0.4444444444444444, \"#bd3786\"], [0.5555555555555556, \"#d8576b\"], [0.6666666666666666, \"#ed7953\"], [0.7777777777777778, \"#fb9f3a\"], [0.8888888888888888, \"#fdca26\"], [1.0, \"#f0f921\"]], \"type\": \"histogram2d\"}], \"histogram2dcontour\": [{\"colorbar\": {\"outlinewidth\": 0, \"ticks\": \"\"}, \"colorscale\": [[0.0, \"#0d0887\"], [0.1111111111111111, \"#46039f\"], [0.2222222222222222, \"#7201a8\"], [0.3333333333333333, \"#9c179e\"], [0.4444444444444444, \"#bd3786\"], [0.5555555555555556, \"#d8576b\"], [0.6666666666666666, \"#ed7953\"], [0.7777777777777778, \"#fb9f3a\"], [0.8888888888888888, \"#fdca26\"], [1.0, \"#f0f921\"]], \"type\": \"histogram2dcontour\"}], \"mesh3d\": [{\"colorbar\": {\"outlinewidth\": 0, \"ticks\": \"\"}, \"type\": \"mesh3d\"}], \"parcoords\": [{\"line\": {\"colorbar\": {\"outlinewidth\": 0, \"ticks\": \"\"}}, \"type\": \"parcoords\"}], \"pie\": [{\"automargin\": true, \"type\": \"pie\"}], \"scatter\": [{\"marker\": {\"colorbar\": {\"outlinewidth\": 0, \"ticks\": \"\"}}, \"type\": \"scatter\"}], \"scatter3d\": [{\"line\": {\"colorbar\": {\"outlinewidth\": 0, \"ticks\": \"\"}}, \"marker\": {\"colorbar\": {\"outlinewidth\": 0, \"ticks\": \"\"}}, \"type\": \"scatter3d\"}], \"scattercarpet\": [{\"marker\": {\"colorbar\": {\"outlinewidth\": 0, \"ticks\": \"\"}}, \"type\": \"scattercarpet\"}], \"scattergeo\": [{\"marker\": {\"colorbar\": {\"outlinewidth\": 0, \"ticks\": \"\"}}, \"type\": \"scattergeo\"}], \"scattergl\": [{\"marker\": {\"colorbar\": {\"outlinewidth\": 0, \"ticks\": \"\"}}, \"type\": \"scattergl\"}], \"scattermapbox\": [{\"marker\": {\"colorbar\": {\"outlinewidth\": 0, \"ticks\": \"\"}}, \"type\": \"scattermapbox\"}], \"scatterpolar\": [{\"marker\": {\"colorbar\": {\"outlinewidth\": 0, \"ticks\": \"\"}}, \"type\": \"scatterpolar\"}], \"scatterpolargl\": [{\"marker\": {\"colorbar\": {\"outlinewidth\": 0, \"ticks\": \"\"}}, \"type\": \"scatterpolargl\"}], \"scatterternary\": [{\"marker\": {\"colorbar\": {\"outlinewidth\": 0, \"ticks\": \"\"}}, \"type\": \"scatterternary\"}], \"surface\": [{\"colorbar\": {\"outlinewidth\": 0, \"ticks\": \"\"}, \"colorscale\": [[0.0, \"#0d0887\"], [0.1111111111111111, \"#46039f\"], [0.2222222222222222, \"#7201a8\"], [0.3333333333333333, \"#9c179e\"], [0.4444444444444444, \"#bd3786\"], [0.5555555555555556, \"#d8576b\"], [0.6666666666666666, \"#ed7953\"], [0.7777777777777778, \"#fb9f3a\"], [0.8888888888888888, \"#fdca26\"], [1.0, \"#f0f921\"]], \"type\": \"surface\"}], \"table\": [{\"cells\": {\"fill\": {\"color\": \"#EBF0F8\"}, \"line\": {\"color\": \"white\"}}, \"header\": {\"fill\": {\"color\": \"#C8D4E3\"}, \"line\": {\"color\": \"white\"}}, \"type\": \"table\"}]}, \"layout\": {\"annotationdefaults\": {\"arrowcolor\": \"#2a3f5f\", \"arrowhead\": 0, \"arrowwidth\": 1}, \"coloraxis\": {\"colorbar\": {\"outlinewidth\": 0, \"ticks\": \"\"}}, \"colorscale\": {\"diverging\": [[0, \"#8e0152\"], [0.1, \"#c51b7d\"], [0.2, \"#de77ae\"], [0.3, \"#f1b6da\"], [0.4, \"#fde0ef\"], [0.5, \"#f7f7f7\"], [0.6, \"#e6f5d0\"], [0.7, \"#b8e186\"], [0.8, \"#7fbc41\"], [0.9, \"#4d9221\"], [1, \"#276419\"]], \"sequential\": [[0.0, \"#0d0887\"], [0.1111111111111111, \"#46039f\"], [0.2222222222222222, \"#7201a8\"], [0.3333333333333333, \"#9c179e\"], [0.4444444444444444, \"#bd3786\"], [0.5555555555555556, \"#d8576b\"], [0.6666666666666666, \"#ed7953\"], [0.7777777777777778, \"#fb9f3a\"], [0.8888888888888888, \"#fdca26\"], [1.0, \"#f0f921\"]], \"sequentialminus\": [[0.0, \"#0d0887\"], [0.1111111111111111, \"#46039f\"], [0.2222222222222222, \"#7201a8\"], [0.3333333333333333, \"#9c179e\"], [0.4444444444444444, \"#bd3786\"], [0.5555555555555556, \"#d8576b\"], [0.6666666666666666, \"#ed7953\"], [0.7777777777777778, \"#fb9f3a\"], [0.8888888888888888, \"#fdca26\"], [1.0, \"#f0f921\"]]}, \"colorway\": [\"#636efa\", \"#EF553B\", \"#00cc96\", \"#ab63fa\", \"#FFA15A\", \"#19d3f3\", \"#FF6692\", \"#B6E880\", \"#FF97FF\", \"#FECB52\"], \"font\": {\"color\": \"#2a3f5f\"}, \"geo\": {\"bgcolor\": \"white\", \"lakecolor\": \"white\", \"landcolor\": \"#E5ECF6\", \"showlakes\": true, \"showland\": true, \"subunitcolor\": \"white\"}, \"hoverlabel\": {\"align\": \"left\"}, \"hovermode\": \"closest\", \"mapbox\": {\"style\": \"light\"}, \"paper_bgcolor\": \"white\", \"plot_bgcolor\": \"#E5ECF6\", \"polar\": {\"angularaxis\": {\"gridcolor\": \"white\", \"linecolor\": \"white\", \"ticks\": \"\"}, \"bgcolor\": \"#E5ECF6\", \"radialaxis\": {\"gridcolor\": \"white\", \"linecolor\": \"white\", \"ticks\": \"\"}}, \"scene\": {\"xaxis\": {\"backgroundcolor\": \"#E5ECF6\", \"gridcolor\": \"white\", \"gridwidth\": 2, \"linecolor\": \"white\", \"showbackground\": true, \"ticks\": \"\", \"zerolinecolor\": \"white\"}, \"yaxis\": {\"backgroundcolor\": \"#E5ECF6\", \"gridcolor\": \"white\", \"gridwidth\": 2, \"linecolor\": \"white\", \"showbackground\": true, \"ticks\": \"\", \"zerolinecolor\": \"white\"}, \"zaxis\": {\"backgroundcolor\": \"#E5ECF6\", \"gridcolor\": \"white\", \"gridwidth\": 2, \"linecolor\": \"white\", \"showbackground\": true, \"ticks\": \"\", \"zerolinecolor\": \"white\"}}, \"shapedefaults\": {\"line\": {\"color\": \"#2a3f5f\"}}, \"ternary\": {\"aaxis\": {\"gridcolor\": \"white\", \"linecolor\": \"white\", \"ticks\": \"\"}, \"baxis\": {\"gridcolor\": \"white\", \"linecolor\": \"white\", \"ticks\": \"\"}, \"bgcolor\": \"#E5ECF6\", \"caxis\": {\"gridcolor\": \"white\", \"linecolor\": \"white\", \"ticks\": \"\"}}, \"title\": {\"x\": 0.05}, \"xaxis\": {\"automargin\": true, \"gridcolor\": \"white\", \"linecolor\": \"white\", \"ticks\": \"\", \"title\": {\"standoff\": 15}, \"zerolinecolor\": \"white\", \"zerolinewidth\": 2}, \"yaxis\": {\"automargin\": true, \"gridcolor\": \"white\", \"linecolor\": \"white\", \"ticks\": \"\", \"title\": {\"standoff\": 15}, \"zerolinecolor\": \"white\", \"zerolinewidth\": 2}}}, \"title\": {\"text\": \"Confusion Matrix (CAT)\", \"x\": 0.5}, \"width\": 400, \"xaxis\": {\"constrain\": \"domain\", \"dtick\": 1, \"scaleanchor\": \"y\", \"tick0\": 0, \"tickmode\": \"linear\", \"title\": {\"text\": \"Prediction\"}}, \"yaxis\": {\"autorange\": \"reversed\", \"constrain\": \"domain\", \"dtick\": 1, \"tick0\": 0, \"tickmode\": \"linear\", \"title\": {\"text\": \"Truth\"}}},\n",
              "                        {\"responsive\": true}\n",
              "                    ).then(function(){\n",
              "                            \n",
              "var gd = document.getElementById('c1d67682-2a6b-4f88-8d3f-4e8fed3a2f92');\n",
              "var x = new MutationObserver(function (mutations, observer) {{\n",
              "        var display = window.getComputedStyle(gd).display;\n",
              "        if (!display || display === 'none') {{\n",
              "            console.log([gd, 'removed!']);\n",
              "            Plotly.purge(gd);\n",
              "            observer.disconnect();\n",
              "        }}\n",
              "}});\n",
              "\n",
              "// Listen for the removal of the full notebook cells\n",
              "var notebookContainer = gd.closest('#notebook-container');\n",
              "if (notebookContainer) {{\n",
              "    x.observe(notebookContainer, {childList: true});\n",
              "}}\n",
              "\n",
              "// Listen for the clearing of the current output cell\n",
              "var outputEl = gd.closest('.output');\n",
              "if (outputEl) {{\n",
              "    x.observe(outputEl, {childList: true});\n",
              "}}\n",
              "\n",
              "                        })\n",
              "                };\n",
              "                \n",
              "            </script>\n",
              "        </div>\n",
              "</body>\n",
              "</html>"
            ]
          },
          "metadata": {}
        }
      ]
    },
    {
      "cell_type": "code",
      "source": [
        "from xgboost import XGBClassifier\n",
        "\n",
        "para_xgb = {'iterations':[200,500],\n",
        "            'learning_rate':[0.1,0.98],\n",
        "             'max_depth': [3,5,10],\n",
        "            'booster': ['gblinear','gbtree']\n",
        "           }\n",
        "\n",
        "model_xgb = GridSearchCV(estimator = XGBClassifier(),\n",
        "                    param_grid = para_xgb,\n",
        "                    cv=10,\n",
        "                    verbose=0,\n",
        "                    n_jobs=-1\n",
        "                   )\n",
        "\n",
        "model_xgb.fit(train_X_re,train_y_re)"
      ],
      "metadata": {
        "colab": {
          "base_uri": "https://localhost:8080/"
        },
        "id": "RH5WkHyNDdf6",
        "outputId": "7768d4ce-f516-49bd-e61b-75b2c303bfa9"
      },
      "execution_count": 71,
      "outputs": [
        {
          "output_type": "execute_result",
          "data": {
            "text/plain": [
              "GridSearchCV(cv=10, estimator=XGBClassifier(), n_jobs=-1,\n",
              "             param_grid={'booster': ['gblinear', 'gbtree'],\n",
              "                         'iterations': [200, 500], 'learning_rate': [0.1, 0.98],\n",
              "                         'max_depth': [3, 5, 10]})"
            ]
          },
          "metadata": {},
          "execution_count": 71
        }
      ]
    },
    {
      "cell_type": "code",
      "source": [
        "model_xgb.best_params_"
      ],
      "metadata": {
        "colab": {
          "base_uri": "https://localhost:8080/"
        },
        "id": "bzHbvI280mvw",
        "outputId": "1fe18aa5-93e7-44d4-f0b9-fe7d958d5663"
      },
      "execution_count": 72,
      "outputs": [
        {
          "output_type": "execute_result",
          "data": {
            "text/plain": [
              "{'booster': 'gbtree', 'iterations': 200, 'learning_rate': 0.1, 'max_depth': 10}"
            ]
          },
          "metadata": {},
          "execution_count": 72
        }
      ]
    },
    {
      "cell_type": "code",
      "source": [
        "cm_xgb,cr_xgb,auc_score_xgb,_  = test_eval(model_xgb,test_X,test_y)\n",
        "fpr_xgb, tpr_xgb, thresh_xgb = roc_curve(test_y, model_xgb.predict_proba(test_X)[:,1], pos_label = 1)\n",
        "precision_xgb, recall_xgb, _ = precision_recall_curve(test_y, model_xgb.predict_proba(test_X)[:,1],pos_label=1)"
      ],
      "metadata": {
        "colab": {
          "base_uri": "https://localhost:8080/"
        },
        "id": "qYVG0kDM3yLv",
        "outputId": "c85a00d3-1622-4bdf-ebd0-2b2127230c50"
      },
      "execution_count": 73,
      "outputs": [
        {
          "output_type": "stream",
          "name": "stdout",
          "text": [
            "Confusion Matrix\n",
            "====================\n",
            "[[827 206]\n",
            " [132 242]] \n",
            "\n",
            "Classification Report\n",
            "====================\n",
            "              precision    recall  f1-score   support\n",
            "\n",
            "           0       0.86      0.80      0.83      1033\n",
            "           1       0.54      0.65      0.59       374\n",
            "\n",
            "    accuracy                           0.76      1407\n",
            "   macro avg       0.70      0.72      0.71      1407\n",
            "weighted avg       0.78      0.76      0.77      1407\n",
            "\n"
          ]
        }
      ]
    },
    {
      "cell_type": "code",
      "source": [
        "plot_cmatrix(cm_xgb, name='XGB')"
      ],
      "metadata": {
        "colab": {
          "base_uri": "https://localhost:8080/",
          "height": 417
        },
        "id": "xBm8cdbK4Epn",
        "outputId": "a6c0a99a-7078-451a-8319-1d6e61f4a82a"
      },
      "execution_count": 74,
      "outputs": [
        {
          "output_type": "display_data",
          "data": {
            "text/html": [
              "<html>\n",
              "<head><meta charset=\"utf-8\" /></head>\n",
              "<body>\n",
              "    <div>\n",
              "            <script src=\"https://cdnjs.cloudflare.com/ajax/libs/mathjax/2.7.5/MathJax.js?config=TeX-AMS-MML_SVG\"></script><script type=\"text/javascript\">if (window.MathJax) {MathJax.Hub.Config({SVG: {font: \"STIX-Web\"}});}</script>\n",
              "                <script type=\"text/javascript\">window.PlotlyConfig = {MathJaxConfig: 'local'};</script>\n",
              "        <script src=\"https://cdn.plot.ly/plotly-latest.min.js\"></script>    \n",
              "            <div id=\"d15da828-6dda-4261-90ba-e5a1f469a915\" class=\"plotly-graph-div\" style=\"height:400px; width:400px;\"></div>\n",
              "            <script type=\"text/javascript\">\n",
              "                \n",
              "                    window.PLOTLYENV=window.PLOTLYENV || {};\n",
              "                    \n",
              "                if (document.getElementById(\"d15da828-6dda-4261-90ba-e5a1f469a915\")) {\n",
              "                    Plotly.newPlot(\n",
              "                        'd15da828-6dda-4261-90ba-e5a1f469a915',\n",
              "                        [{\"coloraxis\": \"coloraxis\", \"type\": \"heatmap\", \"z\": [[827, 206], [132, 242]]}],\n",
              "                        {\"annotations\": [{\"font\": {\"color\": \"black\", \"size\": 12}, \"showarrow\": false, \"text\": \"827\", \"x\": 0, \"y\": 0}, {\"font\": {\"color\": \"black\", \"size\": 12}, \"showarrow\": false, \"text\": \"206\", \"x\": 1, \"y\": 0}, {\"font\": {\"color\": \"black\", \"size\": 12}, \"showarrow\": false, \"text\": \"132\", \"x\": 0, \"y\": 1}, {\"font\": {\"color\": \"black\", \"size\": 12}, \"showarrow\": false, \"text\": \"242\", \"x\": 1, \"y\": 1}], \"coloraxis\": {\"colorscale\": [[0.0, \"peachpuff\"], [0.5, \"lime\"], [1.0, \"green\"]]}, \"height\": 400, \"margin\": {\"t\": 60}, \"template\": {\"data\": {\"bar\": [{\"error_x\": {\"color\": \"#2a3f5f\"}, \"error_y\": {\"color\": \"#2a3f5f\"}, \"marker\": {\"line\": {\"color\": \"#E5ECF6\", \"width\": 0.5}}, \"type\": \"bar\"}], \"barpolar\": [{\"marker\": {\"line\": {\"color\": \"#E5ECF6\", \"width\": 0.5}}, \"type\": \"barpolar\"}], \"carpet\": [{\"aaxis\": {\"endlinecolor\": \"#2a3f5f\", \"gridcolor\": \"white\", \"linecolor\": \"white\", \"minorgridcolor\": \"white\", \"startlinecolor\": \"#2a3f5f\"}, \"baxis\": {\"endlinecolor\": \"#2a3f5f\", \"gridcolor\": \"white\", \"linecolor\": \"white\", \"minorgridcolor\": \"white\", \"startlinecolor\": \"#2a3f5f\"}, \"type\": \"carpet\"}], \"choropleth\": [{\"colorbar\": {\"outlinewidth\": 0, \"ticks\": \"\"}, \"type\": \"choropleth\"}], \"contour\": [{\"colorbar\": {\"outlinewidth\": 0, \"ticks\": \"\"}, \"colorscale\": [[0.0, \"#0d0887\"], [0.1111111111111111, \"#46039f\"], [0.2222222222222222, \"#7201a8\"], [0.3333333333333333, \"#9c179e\"], [0.4444444444444444, \"#bd3786\"], [0.5555555555555556, \"#d8576b\"], [0.6666666666666666, \"#ed7953\"], [0.7777777777777778, \"#fb9f3a\"], [0.8888888888888888, \"#fdca26\"], [1.0, \"#f0f921\"]], \"type\": \"contour\"}], \"contourcarpet\": [{\"colorbar\": {\"outlinewidth\": 0, \"ticks\": \"\"}, \"type\": \"contourcarpet\"}], \"heatmap\": [{\"colorbar\": {\"outlinewidth\": 0, \"ticks\": \"\"}, \"colorscale\": [[0.0, \"#0d0887\"], [0.1111111111111111, \"#46039f\"], [0.2222222222222222, \"#7201a8\"], [0.3333333333333333, \"#9c179e\"], [0.4444444444444444, \"#bd3786\"], [0.5555555555555556, \"#d8576b\"], [0.6666666666666666, \"#ed7953\"], [0.7777777777777778, \"#fb9f3a\"], [0.8888888888888888, \"#fdca26\"], [1.0, \"#f0f921\"]], \"type\": \"heatmap\"}], \"heatmapgl\": [{\"colorbar\": {\"outlinewidth\": 0, \"ticks\": \"\"}, \"colorscale\": [[0.0, \"#0d0887\"], [0.1111111111111111, \"#46039f\"], [0.2222222222222222, \"#7201a8\"], [0.3333333333333333, \"#9c179e\"], [0.4444444444444444, \"#bd3786\"], [0.5555555555555556, \"#d8576b\"], [0.6666666666666666, \"#ed7953\"], [0.7777777777777778, \"#fb9f3a\"], [0.8888888888888888, \"#fdca26\"], [1.0, \"#f0f921\"]], \"type\": \"heatmapgl\"}], \"histogram\": [{\"marker\": {\"colorbar\": {\"outlinewidth\": 0, \"ticks\": \"\"}}, \"type\": \"histogram\"}], \"histogram2d\": [{\"colorbar\": {\"outlinewidth\": 0, \"ticks\": \"\"}, \"colorscale\": [[0.0, \"#0d0887\"], [0.1111111111111111, \"#46039f\"], [0.2222222222222222, \"#7201a8\"], [0.3333333333333333, \"#9c179e\"], [0.4444444444444444, \"#bd3786\"], [0.5555555555555556, \"#d8576b\"], [0.6666666666666666, \"#ed7953\"], [0.7777777777777778, \"#fb9f3a\"], [0.8888888888888888, \"#fdca26\"], [1.0, \"#f0f921\"]], \"type\": \"histogram2d\"}], \"histogram2dcontour\": [{\"colorbar\": {\"outlinewidth\": 0, \"ticks\": \"\"}, \"colorscale\": [[0.0, \"#0d0887\"], [0.1111111111111111, \"#46039f\"], [0.2222222222222222, \"#7201a8\"], [0.3333333333333333, \"#9c179e\"], [0.4444444444444444, \"#bd3786\"], [0.5555555555555556, \"#d8576b\"], [0.6666666666666666, \"#ed7953\"], [0.7777777777777778, \"#fb9f3a\"], [0.8888888888888888, \"#fdca26\"], [1.0, \"#f0f921\"]], \"type\": \"histogram2dcontour\"}], \"mesh3d\": [{\"colorbar\": {\"outlinewidth\": 0, \"ticks\": \"\"}, \"type\": \"mesh3d\"}], \"parcoords\": [{\"line\": {\"colorbar\": {\"outlinewidth\": 0, \"ticks\": \"\"}}, \"type\": \"parcoords\"}], \"pie\": [{\"automargin\": true, \"type\": \"pie\"}], \"scatter\": [{\"marker\": {\"colorbar\": {\"outlinewidth\": 0, \"ticks\": \"\"}}, \"type\": \"scatter\"}], \"scatter3d\": [{\"line\": {\"colorbar\": {\"outlinewidth\": 0, \"ticks\": \"\"}}, \"marker\": {\"colorbar\": {\"outlinewidth\": 0, \"ticks\": \"\"}}, \"type\": \"scatter3d\"}], \"scattercarpet\": [{\"marker\": {\"colorbar\": {\"outlinewidth\": 0, \"ticks\": \"\"}}, \"type\": \"scattercarpet\"}], \"scattergeo\": [{\"marker\": {\"colorbar\": {\"outlinewidth\": 0, \"ticks\": \"\"}}, \"type\": \"scattergeo\"}], \"scattergl\": [{\"marker\": {\"colorbar\": {\"outlinewidth\": 0, \"ticks\": \"\"}}, \"type\": \"scattergl\"}], \"scattermapbox\": [{\"marker\": {\"colorbar\": {\"outlinewidth\": 0, \"ticks\": \"\"}}, \"type\": \"scattermapbox\"}], \"scatterpolar\": [{\"marker\": {\"colorbar\": {\"outlinewidth\": 0, \"ticks\": \"\"}}, \"type\": \"scatterpolar\"}], \"scatterpolargl\": [{\"marker\": {\"colorbar\": {\"outlinewidth\": 0, \"ticks\": \"\"}}, \"type\": \"scatterpolargl\"}], \"scatterternary\": [{\"marker\": {\"colorbar\": {\"outlinewidth\": 0, \"ticks\": \"\"}}, \"type\": \"scatterternary\"}], \"surface\": [{\"colorbar\": {\"outlinewidth\": 0, \"ticks\": \"\"}, \"colorscale\": [[0.0, \"#0d0887\"], [0.1111111111111111, \"#46039f\"], [0.2222222222222222, \"#7201a8\"], [0.3333333333333333, \"#9c179e\"], [0.4444444444444444, \"#bd3786\"], [0.5555555555555556, \"#d8576b\"], [0.6666666666666666, \"#ed7953\"], [0.7777777777777778, \"#fb9f3a\"], [0.8888888888888888, \"#fdca26\"], [1.0, \"#f0f921\"]], \"type\": \"surface\"}], \"table\": [{\"cells\": {\"fill\": {\"color\": \"#EBF0F8\"}, \"line\": {\"color\": \"white\"}}, \"header\": {\"fill\": {\"color\": \"#C8D4E3\"}, \"line\": {\"color\": \"white\"}}, \"type\": \"table\"}]}, \"layout\": {\"annotationdefaults\": {\"arrowcolor\": \"#2a3f5f\", \"arrowhead\": 0, \"arrowwidth\": 1}, \"coloraxis\": {\"colorbar\": {\"outlinewidth\": 0, \"ticks\": \"\"}}, \"colorscale\": {\"diverging\": [[0, \"#8e0152\"], [0.1, \"#c51b7d\"], [0.2, \"#de77ae\"], [0.3, \"#f1b6da\"], [0.4, \"#fde0ef\"], [0.5, \"#f7f7f7\"], [0.6, \"#e6f5d0\"], [0.7, \"#b8e186\"], [0.8, \"#7fbc41\"], [0.9, \"#4d9221\"], [1, \"#276419\"]], \"sequential\": [[0.0, \"#0d0887\"], [0.1111111111111111, \"#46039f\"], [0.2222222222222222, \"#7201a8\"], [0.3333333333333333, \"#9c179e\"], [0.4444444444444444, \"#bd3786\"], [0.5555555555555556, \"#d8576b\"], [0.6666666666666666, \"#ed7953\"], [0.7777777777777778, \"#fb9f3a\"], [0.8888888888888888, \"#fdca26\"], [1.0, \"#f0f921\"]], \"sequentialminus\": [[0.0, \"#0d0887\"], [0.1111111111111111, \"#46039f\"], [0.2222222222222222, \"#7201a8\"], [0.3333333333333333, \"#9c179e\"], [0.4444444444444444, \"#bd3786\"], [0.5555555555555556, \"#d8576b\"], [0.6666666666666666, \"#ed7953\"], [0.7777777777777778, \"#fb9f3a\"], [0.8888888888888888, \"#fdca26\"], [1.0, \"#f0f921\"]]}, \"colorway\": [\"#636efa\", \"#EF553B\", \"#00cc96\", \"#ab63fa\", \"#FFA15A\", \"#19d3f3\", \"#FF6692\", \"#B6E880\", \"#FF97FF\", \"#FECB52\"], \"font\": {\"color\": \"#2a3f5f\"}, \"geo\": {\"bgcolor\": \"white\", \"lakecolor\": \"white\", \"landcolor\": \"#E5ECF6\", \"showlakes\": true, \"showland\": true, \"subunitcolor\": \"white\"}, \"hoverlabel\": {\"align\": \"left\"}, \"hovermode\": \"closest\", \"mapbox\": {\"style\": \"light\"}, \"paper_bgcolor\": \"white\", \"plot_bgcolor\": \"#E5ECF6\", \"polar\": {\"angularaxis\": {\"gridcolor\": \"white\", \"linecolor\": \"white\", \"ticks\": \"\"}, \"bgcolor\": \"#E5ECF6\", \"radialaxis\": {\"gridcolor\": \"white\", \"linecolor\": \"white\", \"ticks\": \"\"}}, \"scene\": {\"xaxis\": {\"backgroundcolor\": \"#E5ECF6\", \"gridcolor\": \"white\", \"gridwidth\": 2, \"linecolor\": \"white\", \"showbackground\": true, \"ticks\": \"\", \"zerolinecolor\": \"white\"}, \"yaxis\": {\"backgroundcolor\": \"#E5ECF6\", \"gridcolor\": \"white\", \"gridwidth\": 2, \"linecolor\": \"white\", \"showbackground\": true, \"ticks\": \"\", \"zerolinecolor\": \"white\"}, \"zaxis\": {\"backgroundcolor\": \"#E5ECF6\", \"gridcolor\": \"white\", \"gridwidth\": 2, \"linecolor\": \"white\", \"showbackground\": true, \"ticks\": \"\", \"zerolinecolor\": \"white\"}}, \"shapedefaults\": {\"line\": {\"color\": \"#2a3f5f\"}}, \"ternary\": {\"aaxis\": {\"gridcolor\": \"white\", \"linecolor\": \"white\", \"ticks\": \"\"}, \"baxis\": {\"gridcolor\": \"white\", \"linecolor\": \"white\", \"ticks\": \"\"}, \"bgcolor\": \"#E5ECF6\", \"caxis\": {\"gridcolor\": \"white\", \"linecolor\": \"white\", \"ticks\": \"\"}}, \"title\": {\"x\": 0.05}, \"xaxis\": {\"automargin\": true, \"gridcolor\": \"white\", \"linecolor\": \"white\", \"ticks\": \"\", \"title\": {\"standoff\": 15}, \"zerolinecolor\": \"white\", \"zerolinewidth\": 2}, \"yaxis\": {\"automargin\": true, \"gridcolor\": \"white\", \"linecolor\": \"white\", \"ticks\": \"\", \"title\": {\"standoff\": 15}, \"zerolinecolor\": \"white\", \"zerolinewidth\": 2}}}, \"title\": {\"text\": \"Confusion Matrix (XGB)\", \"x\": 0.5}, \"width\": 400, \"xaxis\": {\"constrain\": \"domain\", \"dtick\": 1, \"scaleanchor\": \"y\", \"tick0\": 0, \"tickmode\": \"linear\", \"title\": {\"text\": \"Prediction\"}}, \"yaxis\": {\"autorange\": \"reversed\", \"constrain\": \"domain\", \"dtick\": 1, \"tick0\": 0, \"tickmode\": \"linear\", \"title\": {\"text\": \"Truth\"}}},\n",
              "                        {\"responsive\": true}\n",
              "                    ).then(function(){\n",
              "                            \n",
              "var gd = document.getElementById('d15da828-6dda-4261-90ba-e5a1f469a915');\n",
              "var x = new MutationObserver(function (mutations, observer) {{\n",
              "        var display = window.getComputedStyle(gd).display;\n",
              "        if (!display || display === 'none') {{\n",
              "            console.log([gd, 'removed!']);\n",
              "            Plotly.purge(gd);\n",
              "            observer.disconnect();\n",
              "        }}\n",
              "}});\n",
              "\n",
              "// Listen for the removal of the full notebook cells\n",
              "var notebookContainer = gd.closest('#notebook-container');\n",
              "if (notebookContainer) {{\n",
              "    x.observe(notebookContainer, {childList: true});\n",
              "}}\n",
              "\n",
              "// Listen for the clearing of the current output cell\n",
              "var outputEl = gd.closest('.output');\n",
              "if (outputEl) {{\n",
              "    x.observe(outputEl, {childList: true});\n",
              "}}\n",
              "\n",
              "                        })\n",
              "                };\n",
              "                \n",
              "            </script>\n",
              "        </div>\n",
              "</body>\n",
              "</html>"
            ]
          },
          "metadata": {}
        }
      ]
    },
    {
      "cell_type": "markdown",
      "source": [
        "F1-score is a weighted average or harmonic mean of precision and recall, where the relative contribution of precision and recall to the F1 score are equal. It merges these precision and recall metrics into a single measure that we can use to compare models.\n",
        "F1 score reaches its best value at 1 and worst score at 0."
      ],
      "metadata": {
        "id": "m3nq3xTAhLsd"
      }
    },
    {
      "cell_type": "code",
      "source": [
        "def extractCR(crdict, id):\n",
        "  rdigit = 4\n",
        "  p = round(crdict['macro avg']['precision'],rdigit)\n",
        "  r = round(crdict['macro avg']['recall'],rdigit)\n",
        "  f = round(crdict['macro avg']['f1-score'],rdigit)\n",
        "  return pd.DataFrame({\n",
        "                    'precision': [p],\n",
        "                    'recall': [r],\n",
        "                    'f1-score': [f]\n",
        "                     }, index = [id])\n"
      ],
      "metadata": {
        "id": "qJXj79O7NnZU"
      },
      "execution_count": 75,
      "outputs": []
    },
    {
      "cell_type": "code",
      "source": [
        "model_dict = {'LR':cr_lr,'GNB':cr_gnb,'NN':cr_nn,'KNN':cr_knn,'DT': cr_dt,\n",
        "              'SVC': cr_svc, 'RF': cr_rf, 'ADA':cr_ada,'CAT': cr_cat, 'SGB': cr_sgb, 'XGB':cr_xgb}\n",
        "\n",
        "df_lst = []\n",
        "for k,v in model_dict.items():\n",
        "  tmp = extractCR(v,k)\n",
        "  df_lst.append(tmp) \n",
        "  \n",
        "  \n",
        "results = pd.concat(df_lst,axis=0)\n",
        "print(results)"
      ],
      "metadata": {
        "colab": {
          "base_uri": "https://localhost:8080/"
        },
        "id": "uO4vZezZJ7VP",
        "outputId": "c29598a1-fd6f-46f4-b393-7fb682e225f6"
      },
      "execution_count": 76,
      "outputs": [
        {
          "output_type": "stream",
          "name": "stdout",
          "text": [
            "     precision  recall  f1-score\n",
            "LR      0.7231  0.7643    0.7338\n",
            "GNB     0.6892  0.7423    0.6738\n",
            "NN      0.7317  0.7462    0.7380\n",
            "KNN     0.6761  0.7208    0.6759\n",
            "DT      0.6904  0.7252    0.6988\n",
            "SVC     0.6857  0.7182    0.6940\n",
            "RF      0.7186  0.7413    0.7273\n",
            "ADA     0.7168  0.7692    0.7225\n",
            "CAT     0.7009  0.7114    0.7056\n",
            "SGB     0.6800  0.6989    0.6870\n",
            "XGB     0.7013  0.7238    0.7096\n"
          ]
        }
      ]
    },
    {
      "cell_type": "markdown",
      "source": [
        "### Evaluation Metrics (Ranking Metrics)\n",
        "\n",
        "  * ROC AUC score\n",
        "  * ROC Curve\n",
        "  * Precision Recall Curve\n",
        "  * Precision Recall AUC score"
      ],
      "metadata": {
        "id": "UZQLgoPgrJ4m"
      }
    },
    {
      "cell_type": "markdown",
      "source": [
        "### Receiver Operating Characteristics (ROC) Curves\n",
        "\n",
        "\n",
        "ROC Curves summarize the trade-off between the true positive rate and false positive rate for a predictive model using different probability thresholds.  \n"
      ],
      "metadata": {
        "id": "gVnXbqny9pwX"
      }
    },
    {
      "cell_type": "code",
      "source": [
        "fig = go.Figure()\n",
        "\n",
        "fig.add_trace(go.Scatter(x=fpr_lr,y=tpr_lr,mode='lines',name='LR'))\n",
        "fig.add_trace(go.Scatter(x=fpr_gnb,y=tpr_gnb,mode='lines',name='GNB'))\n",
        "\n",
        "fig.add_trace(go.Scatter(x=fpr_nn,y=tpr_nn,mode='lines',name='NN'))\n",
        "fig.add_trace(go.Scatter(x=fpr_knn,y=tpr_knn,mode='lines',name='KNN'))\n",
        "fig.add_trace(go.Scatter(x=fpr_dt,y=tpr_dt,mode='lines',name='DT'))\n",
        "fig.add_trace(go.Scatter(x=fpr_svc,y=tpr_svc,mode='lines',name='SVC'))\n",
        "\n",
        "fig.add_trace(go.Scatter(x=fpr_rf,y=tpr_rf,mode='lines',name='RF'))\n",
        "fig.add_trace(go.Scatter(x=fpr_ada,y=tpr_ada,mode='lines',name='ADA'))\n",
        "fig.add_trace(go.Scatter(x=fpr_cat,y=tpr_cat,mode='lines',name='CAT'))\n",
        "fig.add_trace(go.Scatter(x=fpr_sgb,y=tpr_sgb,mode='lines',name='SGB'))\n",
        "fig.add_trace(go.Scatter(x=fpr_xgb,y=tpr_xgb,mode='lines',name='XGB'))\n",
        "fig.update_layout(title='ROC',\n",
        "                   xaxis_title='False Positive Rate (Sensitivity)',\n",
        "                   yaxis_title='True Positive Rate (1 - Specificity)', title_x = 0.5,\n",
        "                   width = 700, height=500,\n",
        "                 )\n",
        "fig.show()"
      ],
      "metadata": {
        "colab": {
          "base_uri": "https://localhost:8080/",
          "height": 517
        },
        "id": "gqkje0ghptsW",
        "outputId": "b0d4fb90-f2af-4fe3-bf8d-3e4d6e01cd93"
      },
      "execution_count": 77,
      "outputs": [
        {
          "output_type": "display_data",
          "data": {
            "text/html": [
              "<html>\n",
              "<head><meta charset=\"utf-8\" /></head>\n",
              "<body>\n",
              "    <div>\n",
              "            <script src=\"https://cdnjs.cloudflare.com/ajax/libs/mathjax/2.7.5/MathJax.js?config=TeX-AMS-MML_SVG\"></script><script type=\"text/javascript\">if (window.MathJax) {MathJax.Hub.Config({SVG: {font: \"STIX-Web\"}});}</script>\n",
              "                <script type=\"text/javascript\">window.PlotlyConfig = {MathJaxConfig: 'local'};</script>\n",
              "        <script src=\"https://cdn.plot.ly/plotly-latest.min.js\"></script>    \n",
              "            <div id=\"725826d4-c6c1-4760-85be-c8c468e0ca47\" class=\"plotly-graph-div\" style=\"height:500px; width:700px;\"></div>\n",
              "            <script type=\"text/javascript\">\n",
              "                \n",
              "                    window.PLOTLYENV=window.PLOTLYENV || {};\n",
              "                    \n",
              "                if (document.getElementById(\"725826d4-c6c1-4760-85be-c8c468e0ca47\")) {\n",
              "                    Plotly.newPlot(\n",
              "                        '725826d4-c6c1-4760-85be-c8c468e0ca47',\n",
              "                        [{\"mode\": \"lines\", \"name\": \"LR\", \"type\": \"scatter\", \"x\": [0.0, 0.000968054211035818, 0.000968054211035818, 0.001936108422071636, 0.001936108422071636, 0.002904162633107454, 0.002904162633107454, 0.003872216844143272, 0.003872216844143272, 0.00484027105517909, 0.00484027105517909, 0.006776379477250726, 0.006776379477250726, 0.007744433688286544, 0.007744433688286544, 0.00968054211035818, 0.00968054211035818, 0.010648596321393998, 0.010648596321393998, 0.011616650532429816, 0.011616650532429816, 0.012584704743465635, 0.012584704743465635, 0.013552758954501452, 0.013552758954501452, 0.01452081316553727, 0.01452081316553727, 0.015488867376573089, 0.015488867376573089, 0.018393030009680542, 0.018393030009680542, 0.01936108422071636, 0.01936108422071636, 0.02032913843175218, 0.02032913843175218, 0.022265246853823813, 0.022265246853823813, 0.023233301064859633, 0.023233301064859633, 0.02516940948693127, 0.02516940948693127, 0.026137463697967087, 0.026137463697967087, 0.027105517909002903, 0.027105517909002903, 0.028073572120038724, 0.028073572120038724, 0.030009680542110357, 0.030009680542110357, 0.031945788964181994, 0.031945788964181994, 0.03388189738625363, 0.03388189738625363, 0.03484995159728945, 0.03484995159728945, 0.03581800580832527, 0.03581800580832527, 0.036786060019361085, 0.036786060019361085, 0.03969022265246854, 0.03969022265246854, 0.041626331074540175, 0.041626331074540175, 0.044530493707647625, 0.044530493707647625, 0.04549854791868345, 0.04549854791868345, 0.04743465634075508, 0.04743465634075508, 0.0484027105517909, 0.0484027105517909, 0.05033881897386254, 0.05033881897386254, 0.05227492739593417, 0.05227492739593417, 0.05324298160696999, 0.05324298160696999, 0.05421103581800581, 0.05421103581800581, 0.05517909002904162, 0.05517909002904162, 0.0590513068731849, 0.0590513068731849, 0.06292352371732816, 0.06292352371732816, 0.06389157792836399, 0.06389157792836399, 0.06582768635043562, 0.06582768635043562, 0.06679574056147145, 0.06679574056147145, 0.06776379477250725, 0.06776379477250725, 0.07066795740561471, 0.07066795740561471, 0.07260406582768635, 0.07260406582768635, 0.07357212003872217, 0.07357212003872217, 0.0755082284607938, 0.0755082284607938, 0.07938044530493708, 0.07938044530493708, 0.08131655372700872, 0.08131655372700872, 0.08228460793804453, 0.08228460793804453, 0.08325266214908035, 0.08325266214908035, 0.08422071636011616, 0.08422071636011616, 0.08518877057115198, 0.08518877057115198, 0.08615682478218781, 0.08615682478218781, 0.08712487899322362, 0.08712487899322362, 0.08809293320425944, 0.08809293320425944, 0.09002904162633107, 0.09002904162633107, 0.0909970958373669, 0.0909970958373669, 0.09293320425943853, 0.09293320425943853, 0.09390125847047434, 0.09390125847047434, 0.09486931268151017, 0.09486931268151017, 0.09583736689254599, 0.09583736689254599, 0.09777347531461762, 0.09777347531461762, 0.09874152952565343, 0.09874152952565343, 0.10358180058083252, 0.10358180058083252, 0.1074540174249758, 0.1074540174249758, 0.10842207163601161, 0.10842207163601161, 0.11035818005808325, 0.11035818005808325, 0.1132623426911907, 0.1132623426911907, 0.11423039690222653, 0.11423039690222653, 0.11616650532429816, 0.11616650532429816, 0.1181026137463698, 0.1181026137463698, 0.11907066795740562, 0.11907066795740562, 0.12003872216844143, 0.12003872216844143, 0.12197483059051308, 0.12197483059051308, 0.12584704743465633, 0.12584704743465633, 0.1287512100677638, 0.1287512100677638, 0.13165537270087124, 0.13165537270087124, 0.13262342691190707, 0.13262342691190707, 0.1355275895450145, 0.1355275895450145, 0.13649564375605033, 0.13649564375605033, 0.13746369796708616, 0.13746369796708616, 0.13843175217812198, 0.13843175217812198, 0.14133591481122942, 0.14133591481122942, 0.1442400774443369, 0.1442400774443369, 0.14617618586640851, 0.14617618586640851, 0.14714424007744434, 0.14714424007744434, 0.14811229428848016, 0.14811229428848016, 0.15004840271055178, 0.15004840271055178, 0.1510164569215876, 0.1510164569215876, 0.15295256534365925, 0.15295256534365925, 0.15392061955469508, 0.15392061955469508, 0.15876089060987417, 0.15876089060987417, 0.1616650532429816, 0.1616650532429816, 0.16456921587608905, 0.16456921587608905, 0.16747337850919652, 0.16747337850919652, 0.16844143272023232, 0.16844143272023232, 0.17037754114230397, 0.17037754114230397, 0.1713455953533398, 0.1713455953533398, 0.1781219748305905, 0.1781219748305905, 0.17909002904162633, 0.17909002904162633, 0.1829622458857696, 0.1829622458857696, 0.18393030009680542, 0.18393030009680542, 0.18973862536302033, 0.18973862536302033, 0.1936108422071636, 0.1936108422071636, 0.19554695062923524, 0.19554695062923524, 0.19748305905130686, 0.19748305905130686, 0.20135527589545016, 0.20135527589545016, 0.2042594385285576, 0.2042594385285576, 0.20619554695062922, 0.20619554695062922, 0.21684414327202323, 0.21684414327202323, 0.21781219748305905, 0.21781219748305905, 0.22265246853823814, 0.22265246853823814, 0.2265246853823814, 0.2265246853823814, 0.22942884801548888, 0.22942884801548888, 0.23039690222652467, 0.23039690222652467, 0.23233301064859632, 0.23233301064859632, 0.23330106485963215, 0.23330106485963215, 0.23523717328170377, 0.23523717328170377, 0.2371732817037754, 0.2371732817037754, 0.2420135527589545, 0.2420135527589545, 0.24491771539206195, 0.24491771539206195, 0.2468538238141336, 0.2468538238141336, 0.24878993223620524, 0.24878993223620524, 0.25072604065827686, 0.25072604065827686, 0.2691190706679574, 0.2691190706679574, 0.2700871248789932, 0.2700871248789932, 0.27299128751210067, 0.27299128751210067, 0.27686350435624396, 0.27686350435624396, 0.2787996127783156, 0.2787996127783156, 0.28751210067763794, 0.28751210067763794, 0.2884801548886738, 0.2884801548886738, 0.29138431752178123, 0.29138431752178123, 0.2952565343659245, 0.2952565343659245, 0.29912875121006777, 0.29912875121006777, 0.3068731848983543, 0.3068731848983543, 0.30784123910939015, 0.30784123910939015, 0.30977734753146174, 0.30977734753146174, 0.31461761858664083, 0.31461761858664083, 0.3165537270087125, 0.3165537270087125, 0.31752178121974833, 0.31752178121974833, 0.31848983543078413, 0.31848983543078413, 0.3233301064859632, 0.3233301064859632, 0.33494675701839305, 0.33494675701839305, 0.3378509196515005, 0.3378509196515005, 0.3388189738625363, 0.3388189738625363, 0.33978702807357214, 0.33978702807357214, 0.3601161665053243, 0.3601161665053243, 0.3659244917715392, 0.3659244917715392, 0.3707647628267183, 0.3707647628267183, 0.3717328170377541, 0.3717328170377541, 0.37560503388189737, 0.37560503388189737, 0.3765730880929332, 0.3765730880929332, 0.377541142303969, 0.377541142303969, 0.37947725072604066, 0.37947725072604066, 0.3814133591481123, 0.3814133591481123, 0.3969022265246854, 0.3969022265246854, 0.40077444336882867, 0.40077444336882867, 0.4027105517909003, 0.4027105517909003, 0.41529525653436594, 0.41529525653436594, 0.4220716360116166, 0.4220716360116166, 0.4346563407550823, 0.4346563407550823, 0.441432720232333, 0.441432720232333, 0.4578896418199419, 0.4578896418199419, 0.46853823814133594, 0.46853823814133594, 0.48693126815101645, 0.48693126815101645, 0.49661181026137463, 0.49661181026137463, 0.4985479186834463, 0.4985479186834463, 0.5091965150048403, 0.5091965150048403, 0.5140367860600193, 0.5140367860600193, 0.5198451113262342, 0.5198451113262342, 0.5488867376573088, 0.5488867376573088, 0.558567279767667, 0.558567279767667, 0.5963213939980639, 0.5963213939980639, 0.6195546950629235, 0.6195546950629235, 0.6205227492739593, 0.6205227492739593, 0.6340755082284608, 0.6340755082284608, 0.6573088092933205, 0.6573088092933205, 0.6592449177153921, 0.6592449177153921, 0.7105517909002904, 0.7105517909002904, 0.7241045498547919, 0.7241045498547919, 0.7541142303969022, 0.7541142303969022, 0.8402710551790901, 0.8402710551790901, 1.0], \"y\": [0.0, 0.0, 0.00267379679144385, 0.00267379679144385, 0.01871657754010695, 0.01871657754010695, 0.029411764705882353, 0.029411764705882353, 0.053475935828877004, 0.053475935828877004, 0.058823529411764705, 0.058823529411764705, 0.06149732620320856, 0.06149732620320856, 0.06417112299465241, 0.06417112299465241, 0.06684491978609626, 0.06684491978609626, 0.0855614973262032, 0.0855614973262032, 0.09090909090909091, 0.09090909090909091, 0.09358288770053476, 0.09358288770053476, 0.10160427807486631, 0.10160427807486631, 0.10695187165775401, 0.10695187165775401, 0.10962566844919786, 0.10962566844919786, 0.11229946524064172, 0.11229946524064172, 0.15240641711229946, 0.15240641711229946, 0.16042780748663102, 0.16042780748663102, 0.1657754010695187, 0.1657754010695187, 0.16844919786096257, 0.16844919786096257, 0.17647058823529413, 0.17647058823529413, 0.17914438502673796, 0.17914438502673796, 0.18181818181818182, 0.18181818181818182, 0.18449197860962566, 0.18449197860962566, 0.18983957219251338, 0.18983957219251338, 0.1925133689839572, 0.1925133689839572, 0.20588235294117646, 0.20588235294117646, 0.20855614973262032, 0.20855614973262032, 0.21122994652406418, 0.21122994652406418, 0.2192513368983957, 0.2192513368983957, 0.22459893048128343, 0.22459893048128343, 0.22727272727272727, 0.22727272727272727, 0.24598930481283424, 0.24598930481283424, 0.2620320855614973, 0.2620320855614973, 0.26737967914438504, 0.26737967914438504, 0.30213903743315507, 0.30213903743315507, 0.31016042780748665, 0.31016042780748665, 0.31283422459893045, 0.31283422459893045, 0.3155080213903743, 0.3155080213903743, 0.32085561497326204, 0.32085561497326204, 0.3235294117647059, 0.3235294117647059, 0.3315508021390374, 0.3315508021390374, 0.3342245989304813, 0.3342245989304813, 0.339572192513369, 0.339572192513369, 0.3422459893048128, 0.3422459893048128, 0.3449197860962567, 0.3449197860962567, 0.34759358288770054, 0.34759358288770054, 0.3582887700534759, 0.3582887700534759, 0.3609625668449198, 0.3609625668449198, 0.37433155080213903, 0.37433155080213903, 0.3877005347593583, 0.3877005347593583, 0.39037433155080214, 0.39037433155080214, 0.393048128342246, 0.393048128342246, 0.4037433155080214, 0.4037433155080214, 0.40641711229946526, 0.40641711229946526, 0.4090909090909091, 0.4090909090909091, 0.4144385026737968, 0.4144385026737968, 0.4358288770053476, 0.4358288770053476, 0.4385026737967914, 0.4385026737967914, 0.4411764705882353, 0.4411764705882353, 0.44385026737967914, 0.44385026737967914, 0.446524064171123, 0.446524064171123, 0.44919786096256686, 0.44919786096256686, 0.4572192513368984, 0.4572192513368984, 0.45989304812834225, 0.45989304812834225, 0.46524064171123, 0.46524064171123, 0.4679144385026738, 0.4679144385026738, 0.47058823529411764, 0.47058823529411764, 0.48128342245989303, 0.48128342245989303, 0.4839572192513369, 0.4839572192513369, 0.4893048128342246, 0.4893048128342246, 0.4919786096256685, 0.4919786096256685, 0.5, 0.5, 0.5053475935828877, 0.5053475935828877, 0.5106951871657754, 0.5106951871657754, 0.5213903743315508, 0.5213903743315508, 0.5320855614973262, 0.5320855614973262, 0.5347593582887701, 0.5347593582887701, 0.5508021390374331, 0.5508021390374331, 0.553475935828877, 0.553475935828877, 0.5588235294117647, 0.5588235294117647, 0.5668449197860963, 0.5668449197860963, 0.56951871657754, 0.56951871657754, 0.5721925133689839, 0.5721925133689839, 0.5748663101604278, 0.5748663101604278, 0.5802139037433155, 0.5802139037433155, 0.5935828877005348, 0.5935828877005348, 0.5962566844919787, 0.5962566844919787, 0.5989304812834224, 0.5989304812834224, 0.6016042780748663, 0.6016042780748663, 0.6042780748663101, 0.6042780748663101, 0.6096256684491979, 0.6096256684491979, 0.6256684491978609, 0.6256684491978609, 0.6283422459893048, 0.6283422459893048, 0.6310160427807486, 0.6310160427807486, 0.6336898395721925, 0.6336898395721925, 0.6443850267379679, 0.6443850267379679, 0.6470588235294118, 0.6470588235294118, 0.6497326203208557, 0.6497326203208557, 0.6631016042780749, 0.6631016042780749, 0.6684491978609626, 0.6684491978609626, 0.6711229946524064, 0.6711229946524064, 0.6737967914438503, 0.6737967914438503, 0.6764705882352942, 0.6764705882352942, 0.6898395721925134, 0.6898395721925134, 0.6951871657754011, 0.6951871657754011, 0.7005347593582888, 0.7005347593582888, 0.7085561497326203, 0.7085561497326203, 0.713903743315508, 0.713903743315508, 0.7192513368983957, 0.7192513368983957, 0.7219251336898396, 0.7219251336898396, 0.7272727272727273, 0.7272727272727273, 0.732620320855615, 0.732620320855615, 0.7379679144385026, 0.7379679144385026, 0.7406417112299465, 0.7406417112299465, 0.7459893048128342, 0.7459893048128342, 0.7540106951871658, 0.7540106951871658, 0.7620320855614974, 0.7620320855614974, 0.7647058823529411, 0.7647058823529411, 0.767379679144385, 0.767379679144385, 0.7700534759358288, 0.7700534759358288, 0.7727272727272727, 0.7727272727272727, 0.7780748663101604, 0.7780748663101604, 0.7807486631016043, 0.7807486631016043, 0.7887700534759359, 0.7887700534759359, 0.7914438502673797, 0.7914438502673797, 0.7967914438502673, 0.7967914438502673, 0.7994652406417112, 0.7994652406417112, 0.8021390374331551, 0.8021390374331551, 0.8048128342245989, 0.8048128342245989, 0.8101604278074866, 0.8101604278074866, 0.8128342245989305, 0.8128342245989305, 0.820855614973262, 0.820855614973262, 0.8262032085561497, 0.8262032085561497, 0.8288770053475936, 0.8288770053475936, 0.8315508021390374, 0.8315508021390374, 0.8342245989304813, 0.8342245989304813, 0.8368983957219251, 0.8368983957219251, 0.839572192513369, 0.839572192513369, 0.8422459893048129, 0.8422459893048129, 0.8475935828877005, 0.8475935828877005, 0.8529411764705882, 0.8529411764705882, 0.8556149732620321, 0.8556149732620321, 0.8582887700534759, 0.8582887700534759, 0.8609625668449198, 0.8609625668449198, 0.8689839572192514, 0.8689839572192514, 0.8716577540106952, 0.8716577540106952, 0.8743315508021391, 0.8743315508021391, 0.8770053475935828, 0.8770053475935828, 0.8796791443850267, 0.8796791443850267, 0.8850267379679144, 0.8850267379679144, 0.8877005347593583, 0.8877005347593583, 0.8903743315508021, 0.8903743315508021, 0.893048128342246, 0.893048128342246, 0.8983957219251337, 0.8983957219251337, 0.9010695187165776, 0.9010695187165776, 0.9090909090909091, 0.9090909090909091, 0.9117647058823529, 0.9117647058823529, 0.9171122994652406, 0.9171122994652406, 0.9224598930481284, 0.9224598930481284, 0.9251336898395722, 0.9251336898395722, 0.9278074866310161, 0.9278074866310161, 0.93048128342246, 0.93048128342246, 0.9331550802139037, 0.9331550802139037, 0.9358288770053476, 0.9358288770053476, 0.9385026737967914, 0.9385026737967914, 0.9411764705882353, 0.9411764705882353, 0.9438502673796791, 0.9438502673796791, 0.9491978609625669, 0.9491978609625669, 0.9518716577540107, 0.9518716577540107, 0.9545454545454546, 0.9545454545454546, 0.9572192513368984, 0.9572192513368984, 0.9598930481283422, 0.9598930481283422, 0.9625668449197861, 0.9625668449197861, 0.9679144385026738, 0.9679144385026738, 0.9705882352941176, 0.9705882352941176, 0.9732620320855615, 0.9732620320855615, 0.9759358288770054, 0.9759358288770054, 0.9786096256684492, 0.9786096256684492, 0.9812834224598931, 0.9812834224598931, 0.983957219251337, 0.983957219251337, 0.9866310160427807, 0.9866310160427807, 0.9893048128342246, 0.9893048128342246, 0.9919786096256684, 0.9919786096256684, 0.9946524064171123, 0.9946524064171123, 0.9973262032085561, 0.9973262032085561, 1.0, 1.0]}, {\"mode\": \"lines\", \"name\": \"GNB\", \"type\": \"scatter\", \"x\": [0.0, 0.0, 0.0, 0.000968054211035818, 0.000968054211035818, 0.001936108422071636, 0.001936108422071636, 0.002904162633107454, 0.002904162633107454, 0.003872216844143272, 0.003872216844143272, 0.005808325266214908, 0.005808325266214908, 0.007744433688286544, 0.007744433688286544, 0.008712487899322363, 0.008712487899322363, 0.00968054211035818, 0.00968054211035818, 0.011616650532429816, 0.011616650532429816, 0.013552758954501452, 0.013552758954501452, 0.01452081316553727, 0.01452081316553727, 0.016456921587608905, 0.016456921587608905, 0.017424975798644726, 0.017424975798644726, 0.018393030009680542, 0.018393030009680542, 0.01936108422071636, 0.01936108422071636, 0.021297192642787996, 0.021297192642787996, 0.022265246853823813, 0.022265246853823813, 0.02516940948693127, 0.02516940948693127, 0.026137463697967087, 0.026137463697967087, 0.027105517909002903, 0.027105517909002903, 0.028073572120038724, 0.028073572120038724, 0.02904162633107454, 0.02904162633107454, 0.030009680542110357, 0.030009680542110357, 0.030977734753146177, 0.030977734753146177, 0.03291384317521781, 0.03291384317521781, 0.03484995159728945, 0.03484995159728945, 0.03872216844143272, 0.03872216844143272, 0.03969022265246854, 0.03969022265246854, 0.04065827686350436, 0.04065827686350436, 0.04356243949661181, 0.04356243949661181, 0.044530493707647625, 0.044530493707647625, 0.046466602129719266, 0.046466602129719266, 0.04743465634075508, 0.04743465634075508, 0.049370764762826716, 0.049370764762826716, 0.05033881897386254, 0.05033881897386254, 0.05421103581800581, 0.05421103581800581, 0.05808325266214908, 0.05808325266214908, 0.0590513068731849, 0.0590513068731849, 0.060019361084220714, 0.060019361084220714, 0.061955469506292354, 0.061955469506292354, 0.06389157792836399, 0.06389157792836399, 0.06485963213939981, 0.06485963213939981, 0.06582768635043562, 0.06582768635043562, 0.06679574056147145, 0.06679574056147145, 0.06776379477250725, 0.06776379477250725, 0.0696999031945789, 0.0696999031945789, 0.07163601161665054, 0.07163601161665054, 0.07260406582768635, 0.07260406582768635, 0.0755082284607938, 0.0755082284607938, 0.07647628267182963, 0.07647628267182963, 0.07841239109390126, 0.07841239109390126, 0.08228460793804453, 0.08228460793804453, 0.08325266214908035, 0.08325266214908035, 0.08422071636011616, 0.08422071636011616, 0.08518877057115198, 0.08518877057115198, 0.08615682478218781, 0.08615682478218781, 0.08809293320425944, 0.08809293320425944, 0.08906098741529525, 0.08906098741529525, 0.0909970958373669, 0.0909970958373669, 0.09390125847047434, 0.09390125847047434, 0.09486931268151017, 0.09486931268151017, 0.0968054211035818, 0.0968054211035818, 0.09777347531461762, 0.09777347531461762, 0.10164569215876089, 0.10164569215876089, 0.10261374636979671, 0.10261374636979671, 0.10454985479186835, 0.10454985479186835, 0.10551790900290416, 0.10551790900290416, 0.1074540174249758, 0.1074540174249758, 0.11035818005808325, 0.11035818005808325, 0.1122942884801549, 0.1122942884801549, 0.1132623426911907, 0.1132623426911907, 0.11423039690222653, 0.11423039690222653, 0.11713455953533398, 0.11713455953533398, 0.1181026137463698, 0.1181026137463698, 0.12391093901258471, 0.12391093901258471, 0.12487899322362052, 0.12487899322362052, 0.12681510164569215, 0.12681510164569215, 0.12778315585672798, 0.12778315585672798, 0.13165537270087124, 0.13165537270087124, 0.1345595353339787, 0.1345595353339787, 0.13843175217812198, 0.13843175217812198, 0.14133591481122942, 0.14133591481122942, 0.14230396902226525, 0.14230396902226525, 0.14327202323330107, 0.14327202323330107, 0.1442400774443369, 0.1442400774443369, 0.14811229428848016, 0.14811229428848016, 0.14908034849951599, 0.14908034849951599, 0.1510164569215876, 0.1510164569215876, 0.15295256534365925, 0.15295256534365925, 0.15682478218780252, 0.15682478218780252, 0.15876089060987417, 0.15876089060987417, 0.16360116166505323, 0.16360116166505323, 0.16553727008712488, 0.16553727008712488, 0.17037754114230397, 0.17037754114230397, 0.17618586640851888, 0.17618586640851888, 0.1771539206195547, 0.1771539206195547, 0.18005808325266215, 0.18005808325266215, 0.1829622458857696, 0.1829622458857696, 0.18393030009680542, 0.18393030009680542, 0.18586640851887706, 0.18586640851887706, 0.18780251694094868, 0.18780251694094868, 0.18973862536302033, 0.18973862536302033, 0.1936108422071636, 0.1936108422071636, 0.19457889641819942, 0.19457889641819942, 0.19554695062923524, 0.19554695062923524, 0.1994191674733785, 0.1994191674733785, 0.20135527589545016, 0.20135527589545016, 0.20619554695062922, 0.20619554695062922, 0.21006776379477252, 0.21006776379477252, 0.2110358180058083, 0.2110358180058083, 0.21200387221684414, 0.21200387221684414, 0.21393998063891578, 0.21393998063891578, 0.2158760890609874, 0.2158760890609874, 0.22168441432720232, 0.22168441432720232, 0.22362052274927396, 0.22362052274927396, 0.2265246853823814, 0.2265246853823814, 0.23039690222652467, 0.23039690222652467, 0.2313649564375605, 0.2313649564375605, 0.23426911907066797, 0.23426911907066797, 0.23814133591481124, 0.23814133591481124, 0.24298160696999033, 0.24298160696999033, 0.2468538238141336, 0.2468538238141336, 0.25943852855759925, 0.25943852855759925, 0.26137463697967084, 0.26137463697967084, 0.26427879961277834, 0.26427879961277834, 0.2671829622458858, 0.2671829622458858, 0.2700871248789932, 0.2700871248789932, 0.27202323330106487, 0.27202323330106487, 0.27299128751210067, 0.27299128751210067, 0.2749273959341723, 0.2749273959341723, 0.2836398838334947, 0.2836398838334947, 0.28654404646660214, 0.28654404646660214, 0.29816069699903197, 0.29816069699903197, 0.3068731848983543, 0.3068731848983543, 0.3107454017424976, 0.3107454017424976, 0.3117134559535334, 0.3117134559535334, 0.3155856727976767, 0.3155856727976767, 0.3204259438528558, 0.3204259438528558, 0.32526621490803487, 0.32526621490803487, 0.34172313649564373, 0.34172313649564373, 0.3436592449177154, 0.3436592449177154, 0.3543078412391094, 0.3543078412391094, 0.3601161665053243, 0.3601161665053243, 0.3649564375605034, 0.3649564375605034, 0.37463697967086157, 0.37463697967086157, 0.3814133591481123, 0.3814133591481123, 0.38334946757018395, 0.38334946757018395, 0.39303000968054214, 0.39303000968054214, 0.39496611810261373, 0.39496611810261373, 0.3959341723136496, 0.3959341723136496, 0.3969022265246854, 0.3969022265246854, 0.40174249757986447, 0.40174249757986447, 0.4046466602129719, 0.4046466602129719, 0.4191674733785092, 0.4191674733785092, 0.42013552758954503, 0.42013552758954503, 0.4220716360116166, 0.4220716360116166, 0.4249757986447241, 0.4249757986447241, 0.42884801548886736, 0.42884801548886736, 0.4346563407550823, 0.4346563407550823, 0.4462729912875121, 0.4462729912875121, 0.45111326234269117, 0.45111326234269117, 0.494675701839303, 0.494675701839303, 0.5033881897386253, 0.5033881897386253, 0.5150048402710552, 0.5150048402710552, 0.5295256534365924, 0.5295256534365924, 0.547918683446273, 0.547918683446273, 0.5498547918683446, 0.5498547918683446, 0.5517909002904162, 0.5517909002904162, 0.5624394966118103, 0.5624394966118103, 0.5769603097773476, 0.5769603097773476, 0.6195546950629235, 0.6195546950629235, 0.6214908034849952, 0.6214908034849952, 0.6302032913843175, 0.6302032913843175, 0.633107454017425, 0.633107454017425, 0.6398838334946757, 0.6398838334946757, 0.6563407550822846, 0.6563407550822846, 0.6669893514036787, 0.6669893514036787, 0.6679574056147144, 0.6679574056147144, 0.6689254598257502, 0.6689254598257502, 0.6727976766698935, 0.6727976766698935, 0.6747337850919651, 0.6747337850919651, 0.6853823814133592, 0.6853823814133592, 0.6902226524685382, 0.6902226524685382, 0.6979670861568248, 0.6979670861568248, 0.7008712487899322, 0.7008712487899322, 0.7028073572120038, 0.7028073572120038, 0.718296224588577, 0.718296224588577, 0.7725072604065828, 0.7725072604065828, 0.7792836398838335, 0.7792836398838335, 0.7909002904162633, 0.7909002904162633, 0.7918683446272992, 0.7918683446272992, 0.8383349467570184, 0.8383349467570184, 0.9099709583736689, 0.9099709583736689, 1.0], \"y\": [0.0, 0.00267379679144385, 0.0106951871657754, 0.0106951871657754, 0.0213903743315508, 0.0213903743315508, 0.026737967914438502, 0.026737967914438502, 0.03208556149732621, 0.03208556149732621, 0.0427807486631016, 0.0427807486631016, 0.045454545454545456, 0.045454545454545456, 0.06149732620320856, 0.06149732620320856, 0.06417112299465241, 0.06417112299465241, 0.06684491978609626, 0.06684491978609626, 0.07219251336898395, 0.07219251336898395, 0.07754010695187166, 0.07754010695187166, 0.0855614973262032, 0.0855614973262032, 0.08823529411764706, 0.08823529411764706, 0.10962566844919786, 0.10962566844919786, 0.12299465240641712, 0.12299465240641712, 0.1443850267379679, 0.1443850267379679, 0.16310160427807488, 0.16310160427807488, 0.16844919786096257, 0.16844919786096257, 0.18983957219251338, 0.18983957219251338, 0.1925133689839572, 0.1925133689839572, 0.19786096256684493, 0.19786096256684493, 0.20053475935828877, 0.20053475935828877, 0.20320855614973263, 0.20320855614973263, 0.21122994652406418, 0.21122994652406418, 0.22192513368983957, 0.22192513368983957, 0.22459893048128343, 0.22459893048128343, 0.22727272727272727, 0.22727272727272727, 0.23529411764705882, 0.23529411764705882, 0.23796791443850268, 0.23796791443850268, 0.24064171122994651, 0.24064171122994651, 0.24598930481283424, 0.24598930481283424, 0.24866310160427807, 0.24866310160427807, 0.2620320855614973, 0.2620320855614973, 0.2700534759358289, 0.2700534759358289, 0.27540106951871657, 0.27540106951871657, 0.27807486631016043, 0.27807486631016043, 0.28342245989304815, 0.28342245989304815, 0.29411764705882354, 0.29411764705882354, 0.2967914438502674, 0.2967914438502674, 0.31016042780748665, 0.31016042780748665, 0.3155080213903743, 0.3155080213903743, 0.3181818181818182, 0.3181818181818182, 0.32085561497326204, 0.32085561497326204, 0.32887700534759357, 0.32887700534759357, 0.3342245989304813, 0.3342245989304813, 0.3422459893048128, 0.3422459893048128, 0.35561497326203206, 0.35561497326203206, 0.3582887700534759, 0.3582887700534759, 0.36363636363636365, 0.36363636363636365, 0.3663101604278075, 0.3663101604278075, 0.37433155080213903, 0.37433155080213903, 0.37967914438502676, 0.37967914438502676, 0.3877005347593583, 0.3877005347593583, 0.393048128342246, 0.393048128342246, 0.39572192513368987, 0.39572192513368987, 0.40641711229946526, 0.40641711229946526, 0.4090909090909091, 0.4090909090909091, 0.4197860962566845, 0.4197860962566845, 0.42780748663101603, 0.42780748663101603, 0.4358288770053476, 0.4358288770053476, 0.4411764705882353, 0.4411764705882353, 0.446524064171123, 0.446524064171123, 0.45454545454545453, 0.45454545454545453, 0.45989304812834225, 0.45989304812834225, 0.4625668449197861, 0.4625668449197861, 0.46524064171123, 0.46524064171123, 0.47058823529411764, 0.47058823529411764, 0.4786096256684492, 0.4786096256684492, 0.4893048128342246, 0.4893048128342246, 0.49732620320855614, 0.49732620320855614, 0.5, 0.5, 0.516042780748663, 0.516042780748663, 0.5240641711229946, 0.5240641711229946, 0.5294117647058824, 0.5294117647058824, 0.5561497326203209, 0.5561497326203209, 0.5614973262032086, 0.5614973262032086, 0.5641711229946524, 0.5641711229946524, 0.56951871657754, 0.56951871657754, 0.5748663101604278, 0.5748663101604278, 0.5802139037433155, 0.5802139037433155, 0.5828877005347594, 0.5828877005347594, 0.5855614973262032, 0.5855614973262032, 0.5909090909090909, 0.5909090909090909, 0.5935828877005348, 0.5935828877005348, 0.5962566844919787, 0.5962566844919787, 0.5989304812834224, 0.5989304812834224, 0.6122994652406417, 0.6122994652406417, 0.6149732620320856, 0.6149732620320856, 0.6229946524064172, 0.6229946524064172, 0.6283422459893048, 0.6283422459893048, 0.6310160427807486, 0.6310160427807486, 0.6417112299465241, 0.6417112299465241, 0.6470588235294118, 0.6470588235294118, 0.6524064171122995, 0.6524064171122995, 0.6577540106951871, 0.6577540106951871, 0.660427807486631, 0.660427807486631, 0.6631016042780749, 0.6631016042780749, 0.6657754010695187, 0.6657754010695187, 0.6737967914438503, 0.6737967914438503, 0.679144385026738, 0.679144385026738, 0.6818181818181818, 0.6818181818181818, 0.6951871657754011, 0.6951871657754011, 0.7005347593582888, 0.7005347593582888, 0.7032085561497327, 0.7032085561497327, 0.7058823529411765, 0.7058823529411765, 0.7085561497326203, 0.7085561497326203, 0.713903743315508, 0.713903743315508, 0.7165775401069518, 0.7165775401069518, 0.7245989304812834, 0.7245989304812834, 0.7299465240641712, 0.7299465240641712, 0.732620320855615, 0.732620320855615, 0.7379679144385026, 0.7379679144385026, 0.7433155080213903, 0.7433155080213903, 0.7459893048128342, 0.7459893048128342, 0.7513368983957219, 0.7513368983957219, 0.7566844919786097, 0.7566844919786097, 0.7620320855614974, 0.7620320855614974, 0.7647058823529411, 0.7647058823529411, 0.767379679144385, 0.767379679144385, 0.7700534759358288, 0.7700534759358288, 0.7727272727272727, 0.7727272727272727, 0.7754010695187166, 0.7754010695187166, 0.7780748663101604, 0.7780748663101604, 0.7807486631016043, 0.7807486631016043, 0.7834224598930482, 0.7834224598930482, 0.786096256684492, 0.786096256684492, 0.7887700534759359, 0.7887700534759359, 0.7914438502673797, 0.7914438502673797, 0.7967914438502673, 0.7967914438502673, 0.7994652406417112, 0.7994652406417112, 0.8021390374331551, 0.8021390374331551, 0.8101604278074866, 0.8101604278074866, 0.8155080213903744, 0.8155080213903744, 0.8181818181818182, 0.8181818181818182, 0.820855614973262, 0.820855614973262, 0.8235294117647058, 0.8235294117647058, 0.8262032085561497, 0.8262032085561497, 0.8288770053475936, 0.8288770053475936, 0.8315508021390374, 0.8315508021390374, 0.8342245989304813, 0.8342245989304813, 0.8368983957219251, 0.8368983957219251, 0.8422459893048129, 0.8422459893048129, 0.8449197860962567, 0.8449197860962567, 0.8475935828877005, 0.8475935828877005, 0.8502673796791443, 0.8502673796791443, 0.8556149732620321, 0.8556149732620321, 0.8582887700534759, 0.8582887700534759, 0.8609625668449198, 0.8609625668449198, 0.8663101604278075, 0.8663101604278075, 0.8689839572192514, 0.8689839572192514, 0.8716577540106952, 0.8716577540106952, 0.8743315508021391, 0.8743315508021391, 0.8796791443850267, 0.8796791443850267, 0.8823529411764706, 0.8823529411764706, 0.8850267379679144, 0.8850267379679144, 0.8877005347593583, 0.8877005347593583, 0.893048128342246, 0.893048128342246, 0.8957219251336899, 0.8957219251336899, 0.8983957219251337, 0.8983957219251337, 0.9037433155080213, 0.9037433155080213, 0.9090909090909091, 0.9090909090909091, 0.9117647058823529, 0.9117647058823529, 0.9144385026737968, 0.9144385026737968, 0.9171122994652406, 0.9171122994652406, 0.9197860962566845, 0.9197860962566845, 0.9224598930481284, 0.9224598930481284, 0.9251336898395722, 0.9251336898395722, 0.9278074866310161, 0.9278074866310161, 0.93048128342246, 0.93048128342246, 0.9331550802139037, 0.9331550802139037, 0.9358288770053476, 0.9358288770053476, 0.9385026737967914, 0.9385026737967914, 0.9411764705882353, 0.9411764705882353, 0.9438502673796791, 0.9438502673796791, 0.946524064171123, 0.946524064171123, 0.9491978609625669, 0.9491978609625669, 0.9518716577540107, 0.9518716577540107, 0.9545454545454546, 0.9545454545454546, 0.9572192513368984, 0.9572192513368984, 0.9598930481283422, 0.9598930481283422, 0.9625668449197861, 0.9625668449197861, 0.9652406417112299, 0.9652406417112299, 0.9679144385026738, 0.9679144385026738, 0.9705882352941176, 0.9705882352941176, 0.9759358288770054, 0.9759358288770054, 0.9786096256684492, 0.9786096256684492, 0.9812834224598931, 0.9812834224598931, 0.983957219251337, 0.983957219251337, 0.9866310160427807, 0.9866310160427807, 0.9893048128342246, 0.9893048128342246, 0.9919786096256684, 0.9919786096256684, 0.9946524064171123, 0.9946524064171123, 0.9973262032085561, 0.9973262032085561, 1.0, 1.0]}, {\"mode\": \"lines\", \"name\": \"NN\", \"type\": \"scatter\", \"x\": [0.0, 0.0, 0.0, 0.000968054211035818, 0.000968054211035818, 0.001936108422071636, 0.001936108422071636, 0.003872216844143272, 0.003872216844143272, 0.005808325266214908, 0.005808325266214908, 0.006776379477250726, 0.006776379477250726, 0.007744433688286544, 0.007744433688286544, 0.008712487899322363, 0.008712487899322363, 0.00968054211035818, 0.00968054211035818, 0.011616650532429816, 0.011616650532429816, 0.012584704743465635, 0.012584704743465635, 0.013552758954501452, 0.013552758954501452, 0.015488867376573089, 0.015488867376573089, 0.016456921587608905, 0.016456921587608905, 0.017424975798644726, 0.017424975798644726, 0.021297192642787996, 0.021297192642787996, 0.022265246853823813, 0.022265246853823813, 0.023233301064859633, 0.023233301064859633, 0.02516940948693127, 0.02516940948693127, 0.026137463697967087, 0.026137463697967087, 0.02904162633107454, 0.02904162633107454, 0.030009680542110357, 0.030009680542110357, 0.031945788964181994, 0.031945788964181994, 0.03291384317521781, 0.03291384317521781, 0.03581800580832527, 0.03581800580832527, 0.036786060019361085, 0.036786060019361085, 0.03872216844143272, 0.03872216844143272, 0.03969022265246854, 0.03969022265246854, 0.04065827686350436, 0.04065827686350436, 0.041626331074540175, 0.041626331074540175, 0.04259438528557599, 0.04259438528557599, 0.044530493707647625, 0.044530493707647625, 0.04743465634075508, 0.04743465634075508, 0.0484027105517909, 0.0484027105517909, 0.049370764762826716, 0.049370764762826716, 0.051306873184898356, 0.051306873184898356, 0.05517909002904162, 0.05517909002904162, 0.057115198451113264, 0.057115198451113264, 0.05808325266214908, 0.05808325266214908, 0.0590513068731849, 0.0590513068731849, 0.060019361084220714, 0.060019361084220714, 0.061955469506292354, 0.061955469506292354, 0.06389157792836399, 0.06389157792836399, 0.06582768635043562, 0.06582768635043562, 0.06776379477250725, 0.06776379477250725, 0.06873184898354308, 0.06873184898354308, 0.0696999031945789, 0.0696999031945789, 0.07163601161665054, 0.07163601161665054, 0.07357212003872217, 0.07357212003872217, 0.0755082284607938, 0.0755082284607938, 0.07744433688286544, 0.07744433688286544, 0.0803484995159729, 0.0803484995159729, 0.08131655372700872, 0.08131655372700872, 0.08228460793804453, 0.08228460793804453, 0.08422071636011616, 0.08422071636011616, 0.08518877057115198, 0.08518877057115198, 0.08712487899322362, 0.08712487899322362, 0.0909970958373669, 0.0909970958373669, 0.09196515004840271, 0.09196515004840271, 0.09293320425943853, 0.09293320425943853, 0.09390125847047434, 0.09390125847047434, 0.09777347531461762, 0.09777347531461762, 0.09874152952565343, 0.09874152952565343, 0.09970958373668926, 0.09970958373668926, 0.10067763794772508, 0.10067763794772508, 0.10261374636979671, 0.10261374636979671, 0.10358180058083252, 0.10358180058083252, 0.10454985479186835, 0.10454985479186835, 0.10551790900290416, 0.10551790900290416, 0.1074540174249758, 0.1074540174249758, 0.10842207163601161, 0.10842207163601161, 0.10939012584704744, 0.10939012584704744, 0.1132623426911907, 0.1132623426911907, 0.11423039690222653, 0.11423039690222653, 0.11713455953533398, 0.11713455953533398, 0.1181026137463698, 0.1181026137463698, 0.12100677637947725, 0.12100677637947725, 0.12197483059051308, 0.12197483059051308, 0.12391093901258471, 0.12391093901258471, 0.12487899322362052, 0.12487899322362052, 0.12584704743465633, 0.12584704743465633, 0.12778315585672798, 0.12778315585672798, 0.13262342691190707, 0.13262342691190707, 0.1335914811229429, 0.1335914811229429, 0.13649564375605033, 0.13649564375605033, 0.13843175217812198, 0.13843175217812198, 0.14133591481122942, 0.14133591481122942, 0.14230396902226525, 0.14230396902226525, 0.14327202323330107, 0.14327202323330107, 0.1442400774443369, 0.1442400774443369, 0.14617618586640851, 0.14617618586640851, 0.14714424007744434, 0.14714424007744434, 0.1510164569215876, 0.1510164569215876, 0.15295256534365925, 0.15295256534365925, 0.15392061955469508, 0.15392061955469508, 0.15488867376573087, 0.15488867376573087, 0.1558567279767667, 0.1558567279767667, 0.15682478218780252, 0.15682478218780252, 0.15876089060987417, 0.15876089060987417, 0.1606969990319458, 0.1606969990319458, 0.16263310745401743, 0.16263310745401743, 0.16456921587608905, 0.16456921587608905, 0.16553727008712488, 0.16553727008712488, 0.16747337850919652, 0.16747337850919652, 0.17037754114230397, 0.17037754114230397, 0.1713455953533398, 0.1713455953533398, 0.1732817037754114, 0.1732817037754114, 0.17424975798644723, 0.17424975798644723, 0.17521781219748306, 0.17521781219748306, 0.18005808325266215, 0.18005808325266215, 0.1819941916747338, 0.1819941916747338, 0.1829622458857696, 0.1829622458857696, 0.18780251694094868, 0.18780251694094868, 0.18973862536302033, 0.18973862536302033, 0.19264278799612777, 0.19264278799612777, 0.1936108422071636, 0.1936108422071636, 0.20619554695062922, 0.20619554695062922, 0.20813165537270087, 0.20813165537270087, 0.2090997095837367, 0.2090997095837367, 0.21200387221684414, 0.21200387221684414, 0.21393998063891578, 0.21393998063891578, 0.2149080348499516, 0.2149080348499516, 0.21878025169409487, 0.21878025169409487, 0.2207163601161665, 0.2207163601161665, 0.22362052274927396, 0.22362052274927396, 0.2245885769603098, 0.2245885769603098, 0.2265246853823814, 0.2265246853823814, 0.23233301064859632, 0.23233301064859632, 0.23330106485963215, 0.23330106485963215, 0.23523717328170377, 0.23523717328170377, 0.23910939012584706, 0.23910939012584706, 0.24007744433688286, 0.24007744433688286, 0.24298160696999033, 0.24298160696999033, 0.24491771539206195, 0.24491771539206195, 0.2584704743465634, 0.2584704743465634, 0.25943852855759925, 0.25943852855759925, 0.26040658276863504, 0.26040658276863504, 0.2633107454017425, 0.2633107454017425, 0.2671829622458858, 0.2671829622458858, 0.2700871248789932, 0.2700871248789932, 0.271055179090029, 0.271055179090029, 0.27299128751210067, 0.27299128751210067, 0.2739593417231365, 0.2739593417231365, 0.2797676669893514, 0.2797676669893514, 0.2884801548886738, 0.2884801548886738, 0.30009680542110356, 0.30009680542110356, 0.3010648596321394, 0.3010648596321394, 0.3020329138431752, 0.3020329138431752, 0.30300096805421106, 0.30300096805421106, 0.30396902226524686, 0.30396902226524686, 0.3068731848983543, 0.3068731848983543, 0.30784123910939015, 0.30784123910939015, 0.31461761858664083, 0.31461761858664083, 0.31848983543078413, 0.31848983543078413, 0.32236205227492737, 0.32236205227492737, 0.3233301064859632, 0.3233301064859632, 0.32720232333010646, 0.32720232333010646, 0.33107454017424975, 0.33107454017424975, 0.33494675701839305, 0.33494675701839305, 0.34075508228460794, 0.34075508228460794, 0.3494675701839303, 0.3494675701839303, 0.3504356243949661, 0.3504356243949661, 0.35237173281703776, 0.35237173281703776, 0.3552758954501452, 0.3552758954501452, 0.35721200387221685, 0.35721200387221685, 0.3601161665053243, 0.3601161665053243, 0.3727008712487899, 0.3727008712487899, 0.3765730880929332, 0.3765730880929332, 0.4027105517909003, 0.4027105517909003, 0.4191674733785092, 0.4191674733785092, 0.42013552758954503, 0.42013552758954503, 0.4230396902226525, 0.4230396902226525, 0.4249757986447241, 0.4249757986447241, 0.42884801548886736, 0.42884801548886736, 0.43852855759922554, 0.43852855759922554, 0.4482090997095837, 0.4482090997095837, 0.45885769603097776, 0.45885769603097776, 0.4666021297192643, 0.4666021297192643, 0.4675701839303001, 0.4675701839303001, 0.46950629235237173, 0.46950629235237173, 0.4714424007744434, 0.4714424007744434, 0.47725072604065827, 0.47725072604065827, 0.48112294288480156, 0.48112294288480156, 0.4830590513068732, 0.4830590513068732, 0.48596321393998065, 0.48596321393998065, 0.4927395934172314, 0.4927395934172314, 0.5014520813165537, 0.5014520813165537, 0.5091965150048403, 0.5091965150048403, 0.5324298160696999, 0.5324298160696999, 0.5508228460793805, 0.5508228460793805, 0.5566311713455954, 0.5566311713455954, 0.5818005808325266, 0.5818005808325266, 0.601161665053243, 0.601161665053243, 0.611810261374637, 0.611810261374637, 0.6466602129719264, 0.6466602129719264, 0.6534365924491772, 0.6534365924491772, 0.6602129719264279, 0.6602129719264279, 0.6660212971926428, 0.6660212971926428, 0.6931268151016456, 0.6931268151016456, 0.7066795740561471, 0.7066795740561471, 0.8228460793804453, 0.8228460793804453, 1.0], \"y\": [0.0, 0.00267379679144385, 0.0213903743315508, 0.0213903743315508, 0.02406417112299465, 0.02406417112299465, 0.045454545454545456, 0.045454545454545456, 0.05080213903743316, 0.05080213903743316, 0.06684491978609626, 0.06684491978609626, 0.0748663101604278, 0.0748663101604278, 0.08823529411764706, 0.08823529411764706, 0.10695187165775401, 0.10695187165775401, 0.12299465240641712, 0.12299465240641712, 0.14171122994652408, 0.14171122994652408, 0.1443850267379679, 0.1443850267379679, 0.1497326203208556, 0.1497326203208556, 0.1711229946524064, 0.1711229946524064, 0.17914438502673796, 0.17914438502673796, 0.18716577540106952, 0.18716577540106952, 0.1925133689839572, 0.1925133689839572, 0.20053475935828877, 0.20053475935828877, 0.20320855614973263, 0.20320855614973263, 0.21122994652406418, 0.21122994652406418, 0.2192513368983957, 0.2192513368983957, 0.22727272727272727, 0.22727272727272727, 0.23529411764705882, 0.23529411764705882, 0.23796791443850268, 0.23796791443850268, 0.24064171122994651, 0.24064171122994651, 0.24598930481283424, 0.24598930481283424, 0.24866310160427807, 0.24866310160427807, 0.2540106951871658, 0.2540106951871658, 0.25668449197860965, 0.25668449197860965, 0.2647058823529412, 0.2647058823529412, 0.2727272727272727, 0.2727272727272727, 0.27540106951871657, 0.27540106951871657, 0.27807486631016043, 0.27807486631016043, 0.28609625668449196, 0.28609625668449196, 0.2887700534759358, 0.2887700534759358, 0.2967914438502674, 0.2967914438502674, 0.3074866310160428, 0.3074866310160428, 0.31016042780748665, 0.31016042780748665, 0.31283422459893045, 0.31283422459893045, 0.3155080213903743, 0.3155080213903743, 0.32620320855614976, 0.32620320855614976, 0.32887700534759357, 0.32887700534759357, 0.3342245989304813, 0.3342245989304813, 0.339572192513369, 0.339572192513369, 0.35294117647058826, 0.35294117647058826, 0.3582887700534759, 0.3582887700534759, 0.36363636363636365, 0.36363636363636365, 0.3663101604278075, 0.3663101604278075, 0.3716577540106952, 0.3716577540106952, 0.37433155080213903, 0.37433155080213903, 0.38235294117647056, 0.38235294117647056, 0.39572192513368987, 0.39572192513368987, 0.40106951871657753, 0.40106951871657753, 0.4037433155080214, 0.4037433155080214, 0.4144385026737968, 0.4144385026737968, 0.41711229946524064, 0.41711229946524064, 0.42245989304812837, 0.42245989304812837, 0.42513368983957217, 0.42513368983957217, 0.42780748663101603, 0.42780748663101603, 0.4304812834224599, 0.4304812834224599, 0.4358288770053476, 0.4358288770053476, 0.4385026737967914, 0.4385026737967914, 0.4411764705882353, 0.4411764705882353, 0.44385026737967914, 0.44385026737967914, 0.4572192513368984, 0.4572192513368984, 0.47058823529411764, 0.47058823529411764, 0.4839572192513369, 0.4839572192513369, 0.48663101604278075, 0.48663101604278075, 0.4946524064171123, 0.4946524064171123, 0.49732620320855614, 0.49732620320855614, 0.5106951871657754, 0.5106951871657754, 0.5187165775401069, 0.5187165775401069, 0.5213903743315508, 0.5213903743315508, 0.5240641711229946, 0.5240641711229946, 0.5320855614973262, 0.5320855614973262, 0.5347593582887701, 0.5347593582887701, 0.5401069518716578, 0.5401069518716578, 0.5454545454545454, 0.5454545454545454, 0.5481283422459893, 0.5481283422459893, 0.553475935828877, 0.553475935828877, 0.5561497326203209, 0.5561497326203209, 0.5641711229946524, 0.5641711229946524, 0.56951871657754, 0.56951871657754, 0.5775401069518716, 0.5775401069518716, 0.5828877005347594, 0.5828877005347594, 0.5855614973262032, 0.5855614973262032, 0.5882352941176471, 0.5882352941176471, 0.5909090909090909, 0.5909090909090909, 0.5935828877005348, 0.5935828877005348, 0.5962566844919787, 0.5962566844919787, 0.5989304812834224, 0.5989304812834224, 0.6042780748663101, 0.6042780748663101, 0.606951871657754, 0.606951871657754, 0.6229946524064172, 0.6229946524064172, 0.6310160427807486, 0.6310160427807486, 0.6336898395721925, 0.6336898395721925, 0.6417112299465241, 0.6417112299465241, 0.6470588235294118, 0.6470588235294118, 0.6497326203208557, 0.6497326203208557, 0.6524064171122995, 0.6524064171122995, 0.6550802139037433, 0.6550802139037433, 0.6577540106951871, 0.6577540106951871, 0.6631016042780749, 0.6631016042780749, 0.6657754010695187, 0.6657754010695187, 0.6684491978609626, 0.6684491978609626, 0.6737967914438503, 0.6737967914438503, 0.6818181818181818, 0.6818181818181818, 0.6844919786096256, 0.6844919786096256, 0.6871657754010695, 0.6871657754010695, 0.6898395721925134, 0.6898395721925134, 0.6925133689839572, 0.6925133689839572, 0.7005347593582888, 0.7005347593582888, 0.7032085561497327, 0.7032085561497327, 0.7058823529411765, 0.7058823529411765, 0.7165775401069518, 0.7165775401069518, 0.7192513368983957, 0.7192513368983957, 0.7219251336898396, 0.7219251336898396, 0.7272727272727273, 0.7272727272727273, 0.7352941176470589, 0.7352941176470589, 0.7379679144385026, 0.7379679144385026, 0.7433155080213903, 0.7433155080213903, 0.7486631016042781, 0.7486631016042781, 0.7513368983957219, 0.7513368983957219, 0.7540106951871658, 0.7540106951871658, 0.7593582887700535, 0.7593582887700535, 0.7620320855614974, 0.7620320855614974, 0.7647058823529411, 0.7647058823529411, 0.7700534759358288, 0.7700534759358288, 0.7754010695187166, 0.7754010695187166, 0.7780748663101604, 0.7780748663101604, 0.7834224598930482, 0.7834224598930482, 0.786096256684492, 0.786096256684492, 0.7887700534759359, 0.7887700534759359, 0.7914438502673797, 0.7914438502673797, 0.7941176470588235, 0.7941176470588235, 0.7967914438502673, 0.7967914438502673, 0.7994652406417112, 0.7994652406417112, 0.8048128342245989, 0.8048128342245989, 0.8074866310160428, 0.8074866310160428, 0.8181818181818182, 0.8181818181818182, 0.820855614973262, 0.820855614973262, 0.8262032085561497, 0.8262032085561497, 0.8288770053475936, 0.8288770053475936, 0.8315508021390374, 0.8315508021390374, 0.8342245989304813, 0.8342245989304813, 0.8368983957219251, 0.8368983957219251, 0.839572192513369, 0.839572192513369, 0.8422459893048129, 0.8422459893048129, 0.8449197860962567, 0.8449197860962567, 0.8475935828877005, 0.8475935828877005, 0.8502673796791443, 0.8502673796791443, 0.8529411764705882, 0.8529411764705882, 0.8556149732620321, 0.8556149732620321, 0.8582887700534759, 0.8582887700534759, 0.8609625668449198, 0.8609625668449198, 0.8636363636363636, 0.8636363636363636, 0.8716577540106952, 0.8716577540106952, 0.8743315508021391, 0.8743315508021391, 0.8770053475935828, 0.8770053475935828, 0.8796791443850267, 0.8796791443850267, 0.8823529411764706, 0.8823529411764706, 0.8850267379679144, 0.8850267379679144, 0.8903743315508021, 0.8903743315508021, 0.893048128342246, 0.893048128342246, 0.8957219251336899, 0.8957219251336899, 0.8983957219251337, 0.8983957219251337, 0.9010695187165776, 0.9010695187165776, 0.9037433155080213, 0.9037433155080213, 0.9064171122994652, 0.9064171122994652, 0.9090909090909091, 0.9090909090909091, 0.9117647058823529, 0.9117647058823529, 0.9144385026737968, 0.9144385026737968, 0.9171122994652406, 0.9171122994652406, 0.9197860962566845, 0.9197860962566845, 0.9224598930481284, 0.9224598930481284, 0.9251336898395722, 0.9251336898395722, 0.93048128342246, 0.93048128342246, 0.9331550802139037, 0.9331550802139037, 0.9385026737967914, 0.9385026737967914, 0.9411764705882353, 0.9411764705882353, 0.9438502673796791, 0.9438502673796791, 0.946524064171123, 0.946524064171123, 0.9491978609625669, 0.9491978609625669, 0.9518716577540107, 0.9518716577540107, 0.9545454545454546, 0.9545454545454546, 0.9572192513368984, 0.9572192513368984, 0.9598930481283422, 0.9598930481283422, 0.9625668449197861, 0.9625668449197861, 0.9652406417112299, 0.9652406417112299, 0.9679144385026738, 0.9679144385026738, 0.9705882352941176, 0.9705882352941176, 0.9732620320855615, 0.9732620320855615, 0.9759358288770054, 0.9759358288770054, 0.9786096256684492, 0.9786096256684492, 0.9812834224598931, 0.9812834224598931, 0.983957219251337, 0.983957219251337, 0.9866310160427807, 0.9866310160427807, 0.9893048128342246, 0.9893048128342246, 0.9919786096256684, 0.9919786096256684, 0.9946524064171123, 0.9946524064171123, 0.9973262032085561, 0.9973262032085561, 1.0, 1.0]}, {\"mode\": \"lines\", \"name\": \"KNN\", \"type\": \"scatter\", \"x\": [0.0, 0.05033881897386254, 0.13262342691190707, 0.22265246853823814, 0.30977734753146174, 0.38528557599225555, 0.4937076476282672, 0.6253630203291385, 1.0], \"y\": [0.0, 0.20588235294117646, 0.45989304812834225, 0.6363636363636364, 0.7513368983957219, 0.839572192513369, 0.9144385026737968, 0.9598930481283422, 1.0]}, {\"mode\": \"lines\", \"name\": \"DT\", \"type\": \"scatter\", \"x\": [0.0, 0.03872216844143272, 0.04356243949661181, 0.04743465634075508, 0.049370764762826716, 0.05421103581800581, 0.057115198451113264, 0.0755082284607938, 0.07647628267182963, 0.08712487899322362, 0.08906098741529525, 0.09002904162633107, 0.09196515004840271, 0.09293320425943853, 0.10939012584704744, 0.1132623426911907, 0.1181026137463698, 0.12003872216844143, 0.14714424007744434, 0.15198451113262343, 0.1665053242981607, 0.16747337850919652, 0.17037754114230397, 0.1713455953533398, 0.17521781219748306, 0.1771539206195547, 0.1887705711519845, 0.19651500484027107, 0.19748305905130686, 0.1994191674733785, 0.20619554695062922, 0.21006776379477252, 0.21781219748305905, 0.2197483059051307, 0.2207163601161665, 0.2245885769603098, 0.22555663117134558, 0.23039690222652467, 0.23330106485963215, 0.23910939012584706, 0.24007744433688286, 0.2420135527589545, 0.2536302032913843, 0.25943852855759925, 0.26427879961277834, 0.2681510164569216, 0.2700871248789932, 0.3010648596321394, 0.30300096805421106, 0.30300096805421106, 0.30493707647628265, 0.30880929332042595, 0.3165537270087125, 0.32236205227492737, 0.3552758954501452, 0.35818005808325265, 0.3639883833494676, 0.3639883833494676, 0.36786060019361083, 0.3707647628267183, 0.38044530493707646, 0.398838334946757, 0.4027105517909003, 0.41142303969022265, 0.41239109390125844, 0.4181994191674734, 0.4230396902226525, 0.441432720232333, 0.4453049370764763, 0.44724104549854793, 0.4530493707647628, 0.46853823814133594, 0.4714424007744434, 0.48596321393998065, 0.4878993223620523, 0.494675701839303, 0.49661181026137463, 0.4975798644724105, 0.5024201355275896, 0.5062923523717329, 0.5188770571151985, 1.0], \"y\": [0.0, 0.034759358288770054, 0.05614973262032086, 0.13903743315508021, 0.13903743315508021, 0.1497326203208556, 0.15240641711229946, 0.23529411764705882, 0.23529411764705882, 0.3155080213903743, 0.3181818181818182, 0.32085561497326204, 0.32620320855614976, 0.32620320855614976, 0.35561497326203206, 0.3582887700534759, 0.36363636363636365, 0.3716577540106952, 0.45187165775401067, 0.45989304812834225, 0.5427807486631016, 0.5454545454545454, 0.5454545454545454, 0.5454545454545454, 0.5508021390374331, 0.553475935828877, 0.5721925133689839, 0.5935828877005348, 0.5935828877005348, 0.5935828877005348, 0.6203208556149733, 0.6203208556149733, 0.6390374331550802, 0.6497326203208557, 0.6497326203208557, 0.6497326203208557, 0.660427807486631, 0.6737967914438503, 0.6737967914438503, 0.6925133689839572, 0.6925133689839572, 0.6925133689839572, 0.7165775401069518, 0.7299465240641712, 0.7299465240641712, 0.732620320855615, 0.7352941176470589, 0.7566844919786097, 0.7593582887700535, 0.7647058823529411, 0.767379679144385, 0.7700534759358288, 0.7780748663101604, 0.7834224598930482, 0.7994652406417112, 0.8074866310160428, 0.8074866310160428, 0.8128342245989305, 0.8155080213903744, 0.8235294117647058, 0.8342245989304813, 0.8422459893048129, 0.8449197860962567, 0.8475935828877005, 0.8502673796791443, 0.8502673796791443, 0.8502673796791443, 0.8609625668449198, 0.8609625668449198, 0.8609625668449198, 0.8689839572192514, 0.8716577540106952, 0.8743315508021391, 0.8823529411764706, 0.8823529411764706, 0.8823529411764706, 0.8823529411764706, 0.8850267379679144, 0.8877005347593583, 0.8877005347593583, 0.8877005347593583, 1.0]}, {\"mode\": \"lines\", \"name\": \"SVC\", \"type\": \"scatter\", \"x\": [0.0, 0.0, 0.001936108422071636, 0.001936108422071636, 0.00484027105517909, 0.00484027105517909, 0.006776379477250726, 0.006776379477250726, 0.008712487899322363, 0.008712487899322363, 0.00968054211035818, 0.00968054211035818, 0.011616650532429816, 0.011616650532429816, 0.012584704743465635, 0.012584704743465635, 0.01452081316553727, 0.01452081316553727, 0.015488867376573089, 0.015488867376573089, 0.016456921587608905, 0.016456921587608905, 0.017424975798644726, 0.017424975798644726, 0.01936108422071636, 0.01936108422071636, 0.021297192642787996, 0.021297192642787996, 0.02420135527589545, 0.02420135527589545, 0.026137463697967087, 0.026137463697967087, 0.027105517909002903, 0.027105517909002903, 0.028073572120038724, 0.028073572120038724, 0.02904162633107454, 0.02904162633107454, 0.03291384317521781, 0.03291384317521781, 0.03484995159728945, 0.03484995159728945, 0.03581800580832527, 0.03581800580832527, 0.036786060019361085, 0.036786060019361085, 0.03872216844143272, 0.03872216844143272, 0.03969022265246854, 0.03969022265246854, 0.04259438528557599, 0.04259438528557599, 0.04356243949661181, 0.04356243949661181, 0.044530493707647625, 0.044530493707647625, 0.04549854791868345, 0.04549854791868345, 0.046466602129719266, 0.046466602129719266, 0.04743465634075508, 0.04743465634075508, 0.0484027105517909, 0.0484027105517909, 0.049370764762826716, 0.049370764762826716, 0.05324298160696999, 0.05324298160696999, 0.05421103581800581, 0.05421103581800581, 0.05517909002904162, 0.05517909002904162, 0.05614714424007745, 0.05614714424007745, 0.05808325266214908, 0.05808325266214908, 0.0590513068731849, 0.0590513068731849, 0.060019361084220714, 0.060019361084220714, 0.06292352371732816, 0.06292352371732816, 0.06389157792836399, 0.06389157792836399, 0.06485963213939981, 0.06485963213939981, 0.06679574056147145, 0.06679574056147145, 0.06776379477250725, 0.06776379477250725, 0.07066795740561471, 0.07066795740561471, 0.07163601161665054, 0.07163601161665054, 0.0755082284607938, 0.0755082284607938, 0.07841239109390126, 0.07841239109390126, 0.07938044530493708, 0.07938044530493708, 0.08615682478218781, 0.08615682478218781, 0.08712487899322362, 0.08712487899322362, 0.09002904162633107, 0.09002904162633107, 0.0909970958373669, 0.0909970958373669, 0.09293320425943853, 0.09293320425943853, 0.09486931268151017, 0.09486931268151017, 0.09583736689254599, 0.09583736689254599, 0.0968054211035818, 0.0968054211035818, 0.09874152952565343, 0.09874152952565343, 0.10067763794772508, 0.10067763794772508, 0.10164569215876089, 0.10164569215876089, 0.10261374636979671, 0.10261374636979671, 0.10358180058083252, 0.10358180058083252, 0.10551790900290416, 0.10551790900290416, 0.10648596321393998, 0.10648596321393998, 0.11132623426911907, 0.11132623426911907, 0.1122942884801549, 0.1122942884801549, 0.1132623426911907, 0.1132623426911907, 0.11616650532429816, 0.11616650532429816, 0.1181026137463698, 0.1181026137463698, 0.12003872216844143, 0.12003872216844143, 0.12100677637947725, 0.12100677637947725, 0.12197483059051308, 0.12197483059051308, 0.12294288480154889, 0.12294288480154889, 0.1287512100677638, 0.1287512100677638, 0.13068731848983542, 0.13068731848983542, 0.13165537270087124, 0.13165537270087124, 0.13262342691190707, 0.13262342691190707, 0.1335914811229429, 0.1335914811229429, 0.1355275895450145, 0.1355275895450145, 0.13746369796708616, 0.13746369796708616, 0.13843175217812198, 0.13843175217812198, 0.14133591481122942, 0.14133591481122942, 0.14230396902226525, 0.14230396902226525, 0.14327202323330107, 0.14327202323330107, 0.1442400774443369, 0.1442400774443369, 0.14714424007744434, 0.14714424007744434, 0.15004840271055178, 0.15004840271055178, 0.15198451113262343, 0.15198451113262343, 0.15488867376573087, 0.15488867376573087, 0.1616650532429816, 0.1616650532429816, 0.16263310745401743, 0.16263310745401743, 0.16844143272023232, 0.16844143272023232, 0.1713455953533398, 0.1713455953533398, 0.1732817037754114, 0.1732817037754114, 0.17424975798644723, 0.17424975798644723, 0.1771539206195547, 0.1771539206195547, 0.1781219748305905, 0.1781219748305905, 0.17909002904162633, 0.17909002904162633, 0.18005808325266215, 0.18005808325266215, 0.18102613746369797, 0.18102613746369797, 0.18393030009680542, 0.18393030009680542, 0.1868344627299129, 0.1868344627299129, 0.18780251694094868, 0.18780251694094868, 0.19457889641819942, 0.19457889641819942, 0.19651500484027107, 0.19651500484027107, 0.20038722168441434, 0.20038722168441434, 0.20619554695062922, 0.20619554695062922, 0.20716360116166505, 0.20716360116166505, 0.21297192642787996, 0.21297192642787996, 0.2149080348499516, 0.21878025169409487, 0.2207163601161665, 0.2207163601161665, 0.22168441432720232, 0.22168441432720232, 0.2265246853823814, 0.2265246853823814, 0.23330106485963215, 0.23330106485963215, 0.2468538238141336, 0.2468538238141336, 0.24975798644724104, 0.24975798644724104, 0.25072604065827686, 0.25072604065827686, 0.2526621490803485, 0.2526621490803485, 0.2575024201355276, 0.2575024201355276, 0.2584704743465634, 0.2584704743465634, 0.26040658276863504, 0.26040658276863504, 0.26137463697967084, 0.26137463697967084, 0.2623426911907067, 0.2623426911907067, 0.26524685382381413, 0.26524685382381413, 0.2700871248789932, 0.2700871248789932, 0.271055179090029, 0.271055179090029, 0.2758954501452081, 0.2758954501452081, 0.27783155856727976, 0.27783155856727976, 0.2807357212003872, 0.2807357212003872, 0.2836398838334947, 0.2836398838334947, 0.2884801548886738, 0.2884801548886738, 0.29235237173281703, 0.29235237173281703, 0.2933204259438529, 0.2933204259438529, 0.2952565343659245, 0.2952565343659245, 0.3020329138431752, 0.3020329138431752, 0.3117134559535334, 0.3117134559535334, 0.32236205227492737, 0.32236205227492737, 0.3233301064859632, 0.3233301064859632, 0.324298160696999, 0.324298160696999, 0.32526621490803487, 0.32526621490803487, 0.3281703775411423, 0.3281703775411423, 0.3291384317521781, 0.3291384317521781, 0.33010648596321396, 0.33010648596321396, 0.3330106485963214, 0.3330106485963214, 0.3339787028073572, 0.3339787028073572, 0.35333978702807356, 0.35333978702807356, 0.35818005808325265, 0.35818005808325265, 0.3601161665053243, 0.3601161665053243, 0.3639883833494676, 0.3639883833494676, 0.3688286544046467, 0.3688286544046467, 0.3697967086156825, 0.3697967086156825, 0.377541142303969, 0.377541142303969, 0.3814133591481123, 0.3814133591481123, 0.38431752178121975, 0.38431752178121975, 0.38528557599225555, 0.38528557599225555, 0.39303000968054214, 0.39303000968054214, 0.3959341723136496, 0.3959341723136496, 0.3978702807357212, 0.3978702807357212, 0.398838334946757, 0.398838334946757, 0.3998063891577928, 0.3998063891577928, 0.4036786060019361, 0.4036786060019361, 0.4085188770571152, 0.4085188770571152, 0.41626331074540174, 0.41626331074540174, 0.4220716360116166, 0.4220716360116166, 0.4249757986447241, 0.4249757986447241, 0.42884801548886736, 0.42884801548886736, 0.4356243949661181, 0.4356243949661181, 0.4365924491771539, 0.4365924491771539, 0.441432720232333, 0.441432720232333, 0.44240077444336884, 0.44240077444336884, 0.44336882865440463, 0.44336882865440463, 0.4462729912875121, 0.4462729912875121, 0.45498547918683446, 0.45498547918683446, 0.45982575024201355, 0.45982575024201355, 0.462729912875121, 0.462729912875121, 0.46369796708615685, 0.46369796708615685, 0.46563407550822844, 0.46563407550822844, 0.4743465634075508, 0.4743465634075508, 0.48209099709583736, 0.48209099709583736, 0.484027105517909, 0.484027105517909, 0.4849951597289448, 0.4849951597289448, 0.49177153920619554, 0.49177153920619554, 0.4937076476282672, 0.4937076476282672, 0.49661181026137463, 0.49661181026137463, 0.5217812197483059, 0.5217812197483059, 0.5246853823814134, 0.5246853823814134, 0.5508228460793805, 0.5508228460793805, 0.5527589545014521, 0.5527589545014521, 0.5634075508228461, 0.5634075508228461, 0.5895450145208132, 0.5895450145208132, 0.6060019361084221, 0.6060019361084221, 0.6079380445304937, 0.6079380445304937, 0.6156824782187803, 0.6156824782187803, 0.643756050338819, 0.643756050338819, 0.6582768635043562, 0.6582768635043562, 0.6602129719264279, 0.6602129719264279, 0.6795740561471443, 0.6795740561471443, 0.6892545982575025, 0.6892545982575025, 0.6921587608906099, 0.6921587608906099, 0.6960309777347532, 0.6960309777347532, 0.7057115198451114, 0.7057115198451114, 0.7357212003872217, 0.7357212003872217, 0.7386253630203291, 0.7386253630203291, 0.7454017424975798, 0.7454017424975798, 0.750242013552759, 0.750242013552759, 0.7812197483059051, 0.7812197483059051, 0.782187802516941, 0.782187802516941, 0.7841239109390126, 0.7841239109390126, 0.7996127783155856, 0.7996127783155856, 0.8305905130687319, 0.8305905130687319, 0.8664085188770572, 0.8664085188770572, 0.872216844143272, 0.872216844143272, 0.8789932236205228, 0.8789932236205228, 0.8838334946757018, 0.8838334946757018, 0.9312681510164569, 0.9312681510164569, 0.9496611810261375, 0.9496611810261375, 1.0], \"y\": [0.0, 0.00267379679144385, 0.00267379679144385, 0.008021390374331552, 0.008021390374331552, 0.029411764705882353, 0.029411764705882353, 0.034759358288770054, 0.034759358288770054, 0.0374331550802139, 0.0374331550802139, 0.040106951871657755, 0.040106951871657755, 0.05614973262032086, 0.05614973262032086, 0.06684491978609626, 0.06684491978609626, 0.07754010695187166, 0.07754010695187166, 0.08288770053475936, 0.08288770053475936, 0.09090909090909091, 0.09090909090909091, 0.0962566844919786, 0.0962566844919786, 0.10160427807486631, 0.10160427807486631, 0.10427807486631016, 0.10427807486631016, 0.11229946524064172, 0.11229946524064172, 0.12834224598930483, 0.12834224598930483, 0.13636363636363635, 0.13636363636363635, 0.14171122994652408, 0.14171122994652408, 0.1443850267379679, 0.1443850267379679, 0.1497326203208556, 0.1497326203208556, 0.15240641711229946, 0.15240641711229946, 0.17379679144385027, 0.17379679144385027, 0.17914438502673796, 0.17914438502673796, 0.18181818181818182, 0.18181818181818182, 0.18449197860962566, 0.18449197860962566, 0.19518716577540107, 0.19518716577540107, 0.20053475935828877, 0.20053475935828877, 0.20320855614973263, 0.20320855614973263, 0.20588235294117646, 0.20588235294117646, 0.21122994652406418, 0.21122994652406418, 0.2192513368983957, 0.2192513368983957, 0.22727272727272727, 0.22727272727272727, 0.22994652406417113, 0.22994652406417113, 0.23529411764705882, 0.23529411764705882, 0.25935828877005346, 0.25935828877005346, 0.2620320855614973, 0.2620320855614973, 0.2647058823529412, 0.2647058823529412, 0.27807486631016043, 0.27807486631016043, 0.2887700534759358, 0.2887700534759358, 0.29411764705882354, 0.29411764705882354, 0.2967914438502674, 0.2967914438502674, 0.2994652406417112, 0.2994652406417112, 0.3048128342245989, 0.3048128342245989, 0.31283422459893045, 0.31283422459893045, 0.32887700534759357, 0.32887700534759357, 0.3315508021390374, 0.3315508021390374, 0.3342245989304813, 0.3342245989304813, 0.33689839572192515, 0.33689839572192515, 0.3449197860962567, 0.3449197860962567, 0.3502673796791444, 0.3502673796791444, 0.3582887700534759, 0.3582887700534759, 0.3609625668449198, 0.3609625668449198, 0.3716577540106952, 0.3716577540106952, 0.37433155080213903, 0.37433155080213903, 0.3877005347593583, 0.3877005347593583, 0.39037433155080214, 0.39037433155080214, 0.393048128342246, 0.393048128342246, 0.40106951871657753, 0.40106951871657753, 0.40641711229946526, 0.40641711229946526, 0.4090909090909091, 0.4090909090909091, 0.41711229946524064, 0.41711229946524064, 0.4197860962566845, 0.4197860962566845, 0.42780748663101603, 0.42780748663101603, 0.4385026737967914, 0.4385026737967914, 0.4411764705882353, 0.4411764705882353, 0.44385026737967914, 0.44385026737967914, 0.45454545454545453, 0.45454545454545453, 0.4572192513368984, 0.4572192513368984, 0.45989304812834225, 0.45989304812834225, 0.4625668449197861, 0.4625668449197861, 0.46524064171123, 0.46524064171123, 0.47058823529411764, 0.47058823529411764, 0.47593582887700536, 0.47593582887700536, 0.4786096256684492, 0.4786096256684492, 0.48128342245989303, 0.48128342245989303, 0.4839572192513369, 0.4839572192513369, 0.48663101604278075, 0.48663101604278075, 0.4893048128342246, 0.4893048128342246, 0.4946524064171123, 0.4946524064171123, 0.5026737967914439, 0.5026737967914439, 0.5053475935828877, 0.5053475935828877, 0.5080213903743316, 0.5080213903743316, 0.5106951871657754, 0.5106951871657754, 0.516042780748663, 0.516042780748663, 0.5187165775401069, 0.5187165775401069, 0.5240641711229946, 0.5240641711229946, 0.5267379679144385, 0.5267379679144385, 0.5294117647058824, 0.5294117647058824, 0.5374331550802139, 0.5374331550802139, 0.5427807486631016, 0.5427807486631016, 0.5454545454545454, 0.5454545454545454, 0.5481283422459893, 0.5481283422459893, 0.553475935828877, 0.553475935828877, 0.5561497326203209, 0.5561497326203209, 0.5588235294117647, 0.5588235294117647, 0.5614973262032086, 0.5614973262032086, 0.5641711229946524, 0.5641711229946524, 0.5668449197860963, 0.5668449197860963, 0.5721925133689839, 0.5721925133689839, 0.5909090909090909, 0.5909090909090909, 0.5935828877005348, 0.5935828877005348, 0.5962566844919787, 0.5962566844919787, 0.606951871657754, 0.606951871657754, 0.6203208556149733, 0.6203208556149733, 0.6229946524064172, 0.6229946524064172, 0.6256684491978609, 0.6256684491978609, 0.6497326203208557, 0.6497326203208557, 0.6524064171122995, 0.6524064171122995, 0.660427807486631, 0.660427807486631, 0.6631016042780749, 0.6631016042780749, 0.6657754010695187, 0.6657754010695187, 0.6684491978609626, 0.6684491978609626, 0.6711229946524064, 0.6711229946524064, 0.6737967914438503, 0.6737967914438503, 0.6764705882352942, 0.6764705882352942, 0.679144385026738, 0.679144385026738, 0.6871657754010695, 0.6871657754010695, 0.6898395721925134, 0.6898395721925134, 0.6925133689839572, 0.6925133689839572, 0.6978609625668449, 0.6978609625668449, 0.7005347593582888, 0.7005347593582888, 0.7058823529411765, 0.7058823529411765, 0.7085561497326203, 0.7085561497326203, 0.7112299465240641, 0.7112299465240641, 0.713903743315508, 0.713903743315508, 0.7165775401069518, 0.7165775401069518, 0.7192513368983957, 0.7192513368983957, 0.7219251336898396, 0.7219251336898396, 0.7245989304812834, 0.7245989304812834, 0.7272727272727273, 0.7272727272727273, 0.7299465240641712, 0.7299465240641712, 0.732620320855615, 0.732620320855615, 0.7352941176470589, 0.7352941176470589, 0.7406417112299465, 0.7406417112299465, 0.7433155080213903, 0.7433155080213903, 0.7486631016042781, 0.7486631016042781, 0.7566844919786097, 0.7566844919786097, 0.7620320855614974, 0.7620320855614974, 0.7647058823529411, 0.7647058823529411, 0.767379679144385, 0.767379679144385, 0.7727272727272727, 0.7727272727272727, 0.7754010695187166, 0.7754010695187166, 0.7780748663101604, 0.7780748663101604, 0.7834224598930482, 0.7834224598930482, 0.786096256684492, 0.786096256684492, 0.7887700534759359, 0.7887700534759359, 0.7914438502673797, 0.7914438502673797, 0.7941176470588235, 0.7941176470588235, 0.8048128342245989, 0.8048128342245989, 0.8074866310160428, 0.8074866310160428, 0.8101604278074866, 0.8101604278074866, 0.8128342245989305, 0.8128342245989305, 0.8155080213903744, 0.8155080213903744, 0.8181818181818182, 0.8181818181818182, 0.820855614973262, 0.820855614973262, 0.8235294117647058, 0.8235294117647058, 0.8262032085561497, 0.8262032085561497, 0.8315508021390374, 0.8315508021390374, 0.8342245989304813, 0.8342245989304813, 0.8368983957219251, 0.8368983957219251, 0.839572192513369, 0.839572192513369, 0.8422459893048129, 0.8422459893048129, 0.8475935828877005, 0.8475935828877005, 0.8502673796791443, 0.8502673796791443, 0.8529411764705882, 0.8529411764705882, 0.8556149732620321, 0.8556149732620321, 0.8582887700534759, 0.8582887700534759, 0.8609625668449198, 0.8609625668449198, 0.8636363636363636, 0.8636363636363636, 0.8663101604278075, 0.8663101604278075, 0.8689839572192514, 0.8689839572192514, 0.8716577540106952, 0.8716577540106952, 0.8743315508021391, 0.8743315508021391, 0.8770053475935828, 0.8770053475935828, 0.8796791443850267, 0.8796791443850267, 0.8823529411764706, 0.8823529411764706, 0.8850267379679144, 0.8850267379679144, 0.8877005347593583, 0.8877005347593583, 0.8903743315508021, 0.8903743315508021, 0.893048128342246, 0.893048128342246, 0.8957219251336899, 0.8957219251336899, 0.8983957219251337, 0.8983957219251337, 0.9037433155080213, 0.9037433155080213, 0.9064171122994652, 0.9064171122994652, 0.9090909090909091, 0.9090909090909091, 0.9117647058823529, 0.9117647058823529, 0.9144385026737968, 0.9144385026737968, 0.9171122994652406, 0.9171122994652406, 0.9197860962566845, 0.9197860962566845, 0.9224598930481284, 0.9224598930481284, 0.9278074866310161, 0.9278074866310161, 0.93048128342246, 0.93048128342246, 0.9331550802139037, 0.9331550802139037, 0.9358288770053476, 0.9358288770053476, 0.9411764705882353, 0.9411764705882353, 0.9438502673796791, 0.9438502673796791, 0.946524064171123, 0.946524064171123, 0.9491978609625669, 0.9491978609625669, 0.9518716577540107, 0.9518716577540107, 0.9545454545454546, 0.9545454545454546, 0.9572192513368984, 0.9572192513368984, 0.9598930481283422, 0.9598930481283422, 0.9625668449197861, 0.9625668449197861, 0.9652406417112299, 0.9652406417112299, 0.9679144385026738, 0.9679144385026738, 0.9705882352941176, 0.9705882352941176, 0.9732620320855615, 0.9732620320855615, 0.9759358288770054, 0.9759358288770054, 0.9786096256684492, 0.9786096256684492, 0.9812834224598931, 0.9812834224598931, 0.983957219251337, 0.983957219251337, 0.9866310160427807, 0.9866310160427807, 0.9893048128342246, 0.9893048128342246, 0.9919786096256684, 0.9919786096256684, 0.9946524064171123, 0.9946524064171123, 0.9973262032085561, 0.9973262032085561, 1.0, 1.0]}, {\"mode\": \"lines\", \"name\": \"RF\", \"type\": \"scatter\", \"x\": [0.0, 0.0, 0.0, 0.0, 0.0, 0.000968054211035818, 0.000968054211035818, 0.001936108422071636, 0.001936108422071636, 0.005808325266214908, 0.005808325266214908, 0.006776379477250726, 0.006776379477250726, 0.008712487899322363, 0.008712487899322363, 0.010648596321393998, 0.010648596321393998, 0.011616650532429816, 0.011616650532429816, 0.012584704743465635, 0.012584704743465635, 0.013552758954501452, 0.013552758954501452, 0.01452081316553727, 0.01452081316553727, 0.015488867376573089, 0.015488867376573089, 0.016456921587608905, 0.016456921587608905, 0.018393030009680542, 0.018393030009680542, 0.01936108422071636, 0.01936108422071636, 0.01936108422071636, 0.01936108422071636, 0.021297192642787996, 0.021297192642787996, 0.022265246853823813, 0.022265246853823813, 0.02420135527589545, 0.02420135527589545, 0.026137463697967087, 0.026137463697967087, 0.027105517909002903, 0.027105517909002903, 0.028073572120038724, 0.028073572120038724, 0.02904162633107454, 0.02904162633107454, 0.030977734753146177, 0.030977734753146177, 0.036786060019361085, 0.036786060019361085, 0.0377541142303969, 0.0377541142303969, 0.03872216844143272, 0.03872216844143272, 0.03969022265246854, 0.04065827686350436, 0.04065827686350436, 0.041626331074540175, 0.041626331074540175, 0.04259438528557599, 0.04259438528557599, 0.04356243949661181, 0.04356243949661181, 0.04549854791868345, 0.04743465634075508, 0.04743465634075508, 0.0484027105517909, 0.0484027105517909, 0.049370764762826716, 0.049370764762826716, 0.05033881897386254, 0.05033881897386254, 0.051306873184898356, 0.051306873184898356, 0.05227492739593417, 0.05227492739593417, 0.05324298160696999, 0.05324298160696999, 0.05517909002904162, 0.05614714424007745, 0.05614714424007745, 0.057115198451113264, 0.05808325266214908, 0.061955469506292354, 0.061955469506292354, 0.06292352371732816, 0.06292352371732816, 0.06485963213939981, 0.06485963213939981, 0.06679574056147145, 0.06679574056147145, 0.0696999031945789, 0.0696999031945789, 0.07066795740561471, 0.07066795740561471, 0.07163601161665054, 0.07163601161665054, 0.07357212003872217, 0.07357212003872217, 0.07454017424975799, 0.07454017424975799, 0.0755082284607938, 0.0755082284607938, 0.07647628267182963, 0.07647628267182963, 0.08228460793804453, 0.08228460793804453, 0.08325266214908035, 0.08422071636011616, 0.08422071636011616, 0.08712487899322362, 0.08712487899322362, 0.08712487899322362, 0.08809293320425944, 0.08809293320425944, 0.0909970958373669, 0.09293320425943853, 0.09486931268151017, 0.09486931268151017, 0.09583736689254599, 0.09583736689254599, 0.0968054211035818, 0.0968054211035818, 0.09874152952565343, 0.10067763794772508, 0.10067763794772508, 0.10164569215876089, 0.10164569215876089, 0.10261374636979671, 0.10261374636979671, 0.10358180058083252, 0.10358180058083252, 0.10358180058083252, 0.10358180058083252, 0.10454985479186835, 0.10454985479186835, 0.10551790900290416, 0.10551790900290416, 0.10551790900290416, 0.10842207163601161, 0.10842207163601161, 0.11035818005808325, 0.1132623426911907, 0.1132623426911907, 0.11713455953533398, 0.11907066795740562, 0.11907066795740562, 0.12100677637947725, 0.12100677637947725, 0.12391093901258471, 0.12391093901258471, 0.12487899322362052, 0.12487899322362052, 0.12584704743465633, 0.12584704743465633, 0.12778315585672798, 0.12778315585672798, 0.12971926427879962, 0.12971926427879962, 0.13165537270087124, 0.1335914811229429, 0.1345595353339787, 0.1345595353339787, 0.1355275895450145, 0.1355275895450145, 0.13649564375605033, 0.13843175217812198, 0.13843175217812198, 0.14230396902226525, 0.14327202323330107, 0.14327202323330107, 0.14617618586640851, 0.14617618586640851, 0.14714424007744434, 0.14714424007744434, 0.1510164569215876, 0.1510164569215876, 0.15295256534365925, 0.15295256534365925, 0.15488867376573087, 0.15488867376573087, 0.15779283639883834, 0.15972894482090996, 0.1606969990319458, 0.1606969990319458, 0.16360116166505323, 0.16360116166505323, 0.16456921587608905, 0.16456921587608905, 0.1665053242981607, 0.1665053242981607, 0.16747337850919652, 0.16747337850919652, 0.16844143272023232, 0.1713455953533398, 0.1713455953533398, 0.17231364956437561, 0.1771539206195547, 0.17909002904162633, 0.18005808325266215, 0.18005808325266215, 0.18102613746369797, 0.18102613746369797, 0.18393030009680542, 0.18393030009680542, 0.18489835430784124, 0.18489835430784124, 0.18586640851887706, 0.18586640851887706, 0.1887705711519845, 0.1887705711519845, 0.19167473378509198, 0.19167473378509198, 0.19554695062923524, 0.19651500484027107, 0.1984511132623427, 0.1984511132623427, 0.20329138431752178, 0.20329138431752178, 0.2042594385285576, 0.20522749273959343, 0.20522749273959343, 0.20619554695062922, 0.20619554695062922, 0.2090997095837367, 0.21200387221684414, 0.2158760890609874, 0.21684414327202323, 0.21878025169409487, 0.2197483059051307, 0.2197483059051307, 0.22265246853823814, 0.22362052274927396, 0.22362052274927396, 0.2245885769603098, 0.2265246853823814, 0.2313649564375605, 0.23330106485963215, 0.2371732817037754, 0.23814133591481124, 0.24104549854791868, 0.24298160696999033, 0.24298160696999033, 0.24491771539206195, 0.24491771539206195, 0.24588576960309777, 0.24878993223620524, 0.25072604065827686, 0.25072604065827686, 0.2526621490803485, 0.25459825750242016, 0.25459825750242016, 0.25653436592449175, 0.2623426911907067, 0.2623426911907067, 0.26524685382381413, 0.2681510164569216, 0.27299128751210067, 0.27686350435624396, 0.27783155856727976, 0.2787996127783156, 0.2807357212003872, 0.2807357212003872, 0.28170377541142305, 0.2846079380445305, 0.28654404646660214, 0.29235237173281703, 0.2933204259438529, 0.2971926427879961, 0.2971926427879961, 0.29816069699903197, 0.29816069699903197, 0.3020329138431752, 0.3020329138431752, 0.30396902226524686, 0.30396902226524686, 0.30493707647628265, 0.3107454017424976, 0.3117134559535334, 0.3117134559535334, 0.3194578896418199, 0.3194578896418199, 0.3204259438528558, 0.32720232333010646, 0.3281703775411423, 0.3330106485963214, 0.3339787028073572, 0.3339787028073572, 0.33494675701839305, 0.3388189738625363, 0.34172313649564373, 0.34172313649564373, 0.345595353339787, 0.345595353339787, 0.3504356243949661, 0.3514036786060019, 0.3552758954501452, 0.3591481122942885, 0.36302032913843174, 0.3639883833494676, 0.3707647628267183, 0.3717328170377541, 0.3717328170377541, 0.3727008712487899, 0.3765730880929332, 0.3765730880929332, 0.3862536302032914, 0.3862536302032914, 0.38915779283639884, 0.39496611810261373, 0.3969022265246854, 0.3969022265246854, 0.398838334946757, 0.398838334946757, 0.40658276863504356, 0.41239109390125844, 0.41626331074540174, 0.4249757986447241, 0.4298160696999032, 0.430784123910939, 0.430784123910939, 0.4317521781219748, 0.43852855759922554, 0.441432720232333, 0.4530493707647628, 0.45498547918683446, 0.4666021297192643, 0.4675701839303001, 0.4675701839303001, 0.46853823814133594, 0.47337850919651503, 0.4753146176185866, 0.48209099709583736, 0.484027105517909, 0.49080348499515974, 0.4927395934172314, 0.5014520813165537, 0.5024201355275896, 0.5082284607938045, 0.510164569215876, 0.5237173281703775, 0.5246853823814134, 0.5256534365924492, 0.5304937076476283, 0.5324298160696999, 0.5411423039690223, 0.5411423039690223, 0.5488867376573088, 0.5517909002904162, 0.5605033881897387, 0.5605033881897387, 0.5624394966118103, 0.5701839303000968, 0.5779283639883833, 0.5788964181994192, 0.5866408518877058, 0.5972894482090997, 0.5992255566311714, 0.6176185866408519, 0.6253630203291385, 0.6272991287512101, 0.6379477250726041, 0.6379477250726041, 0.6389157792836399, 0.6505324298160697, 0.6640851887705711, 0.665053242981607, 0.68054211035818, 0.6940948693126815, 0.7037754114230397, 0.7163601161665053, 0.718296224588577, 0.7366892545982575, 0.7492739593417231, 0.7492739593417231, 0.7725072604065828, 0.7725072604065828, 0.7734753146176185, 0.7967086156824782, 0.8238141335914811, 0.8576960309777347, 0.9109390125847048, 1.0], \"y\": [0.0, 0.00267379679144385, 0.008021390374331552, 0.01871657754010695, 0.0213903743315508, 0.0213903743315508, 0.029411764705882353, 0.029411764705882353, 0.05080213903743316, 0.05080213903743316, 0.053475935828877004, 0.053475935828877004, 0.06149732620320856, 0.06149732620320856, 0.07219251336898395, 0.07219251336898395, 0.0748663101604278, 0.0748663101604278, 0.08288770053475936, 0.08288770053475936, 0.09893048128342247, 0.09893048128342247, 0.10160427807486631, 0.10160427807486631, 0.10427807486631016, 0.10427807486631016, 0.11229946524064172, 0.11229946524064172, 0.12566844919786097, 0.12566844919786097, 0.12834224598930483, 0.12834224598930483, 0.14171122994652408, 0.1497326203208556, 0.15775401069518716, 0.15775401069518716, 0.16042780748663102, 0.16042780748663102, 0.16310160427807488, 0.16310160427807488, 0.1711229946524064, 0.1711229946524064, 0.17379679144385027, 0.17379679144385027, 0.17647058823529413, 0.17647058823529413, 0.17914438502673796, 0.17914438502673796, 0.18716577540106952, 0.18716577540106952, 0.20053475935828877, 0.20053475935828877, 0.20320855614973263, 0.20320855614973263, 0.20588235294117646, 0.20588235294117646, 0.21390374331550802, 0.2192513368983957, 0.2192513368983957, 0.22192513368983957, 0.22192513368983957, 0.22727272727272727, 0.22727272727272727, 0.232620320855615, 0.232620320855615, 0.24866310160427807, 0.25668449197860965, 0.25668449197860965, 0.25935828877005346, 0.25935828877005346, 0.2647058823529412, 0.2647058823529412, 0.28342245989304815, 0.28342245989304815, 0.2914438502673797, 0.2914438502673797, 0.30213903743315507, 0.30213903743315507, 0.3048128342245989, 0.3048128342245989, 0.3074866310160428, 0.3074866310160428, 0.3155080213903743, 0.3235294117647059, 0.3235294117647059, 0.32620320855614976, 0.32620320855614976, 0.3315508021390374, 0.3315508021390374, 0.33689839572192515, 0.33689839572192515, 0.3502673796791444, 0.3502673796791444, 0.35561497326203206, 0.35561497326203206, 0.3609625668449198, 0.3609625668449198, 0.36363636363636365, 0.36363636363636365, 0.3663101604278075, 0.3663101604278075, 0.3689839572192513, 0.3689839572192513, 0.37433155080213903, 0.37433155080213903, 0.3770053475935829, 0.3770053475935829, 0.3850267379679144, 0.3850267379679144, 0.39037433155080214, 0.39037433155080214, 0.39572192513368987, 0.3983957219251337, 0.3983957219251337, 0.40641711229946526, 0.4117647058823529, 0.4117647058823529, 0.4144385026737968, 0.4144385026737968, 0.4197860962566845, 0.4197860962566845, 0.42245989304812837, 0.42245989304812837, 0.42513368983957217, 0.42513368983957217, 0.4304812834224599, 0.43315508021390375, 0.43315508021390375, 0.446524064171123, 0.446524064171123, 0.44919786096256686, 0.44919786096256686, 0.45187165775401067, 0.45187165775401067, 0.4572192513368984, 0.4625668449197861, 0.46524064171123, 0.46524064171123, 0.4732620320855615, 0.4732620320855615, 0.4839572192513369, 0.4893048128342246, 0.4893048128342246, 0.4946524064171123, 0.4946524064171123, 0.4946524064171123, 0.49732620320855614, 0.49732620320855614, 0.49732620320855614, 0.5053475935828877, 0.5053475935828877, 0.5106951871657754, 0.5106951871657754, 0.5133689839572193, 0.5240641711229946, 0.5267379679144385, 0.5267379679144385, 0.5347593582887701, 0.5347593582887701, 0.5427807486631016, 0.5427807486631016, 0.5454545454545454, 0.5454545454545454, 0.5508021390374331, 0.5508021390374331, 0.5561497326203209, 0.5561497326203209, 0.5588235294117647, 0.5614973262032086, 0.5614973262032086, 0.5748663101604278, 0.5775401069518716, 0.5775401069518716, 0.5828877005347594, 0.5828877005347594, 0.5855614973262032, 0.5855614973262032, 0.5882352941176471, 0.5882352941176471, 0.5909090909090909, 0.5909090909090909, 0.5989304812834224, 0.5989304812834224, 0.6016042780748663, 0.6016042780748663, 0.6042780748663101, 0.6042780748663101, 0.606951871657754, 0.606951871657754, 0.6122994652406417, 0.6176470588235294, 0.6203208556149733, 0.6203208556149733, 0.6229946524064172, 0.6283422459893048, 0.6310160427807486, 0.6310160427807486, 0.6417112299465241, 0.6443850267379679, 0.6443850267379679, 0.6470588235294118, 0.6470588235294118, 0.6497326203208557, 0.6524064171122995, 0.6524064171122995, 0.6550802139037433, 0.6577540106951871, 0.660427807486631, 0.660427807486631, 0.6631016042780749, 0.6657754010695187, 0.6684491978609626, 0.6711229946524064, 0.6737967914438503, 0.6737967914438503, 0.6764705882352942, 0.6818181818181818, 0.6844919786096256, 0.6844919786096256, 0.6871657754010695, 0.6871657754010695, 0.6898395721925134, 0.6951871657754011, 0.6951871657754011, 0.6978609625668449, 0.6978609625668449, 0.7005347593582888, 0.7005347593582888, 0.7005347593582888, 0.7005347593582888, 0.7058823529411765, 0.7085561497326203, 0.7085561497326203, 0.7112299465240641, 0.7192513368983957, 0.7192513368983957, 0.7219251336898396, 0.7219251336898396, 0.7245989304812834, 0.7245989304812834, 0.7299465240641712, 0.7299465240641712, 0.7299465240641712, 0.7299465240641712, 0.7299465240641712, 0.732620320855615, 0.732620320855615, 0.7379679144385026, 0.7379679144385026, 0.7379679144385026, 0.7379679144385026, 0.7433155080213903, 0.7433155080213903, 0.7433155080213903, 0.7459893048128342, 0.7459893048128342, 0.7513368983957219, 0.7593582887700535, 0.7620320855614974, 0.7620320855614974, 0.767379679144385, 0.767379679144385, 0.7727272727272727, 0.7727272727272727, 0.7727272727272727, 0.7754010695187166, 0.7754010695187166, 0.7780748663101604, 0.7780748663101604, 0.7834224598930482, 0.7834224598930482, 0.7887700534759359, 0.7914438502673797, 0.7914438502673797, 0.7941176470588235, 0.7994652406417112, 0.8048128342245989, 0.8048128342245989, 0.8074866310160428, 0.8074866310160428, 0.8074866310160428, 0.8074866310160428, 0.8101604278074866, 0.8181818181818182, 0.820855614973262, 0.820855614973262, 0.820855614973262, 0.820855614973262, 0.8288770053475936, 0.8288770053475936, 0.8315508021390374, 0.8315508021390374, 0.8342245989304813, 0.8342245989304813, 0.8368983957219251, 0.8422459893048129, 0.8502673796791443, 0.8529411764705882, 0.8529411764705882, 0.8582887700534759, 0.8582887700534759, 0.8663101604278075, 0.8663101604278075, 0.8663101604278075, 0.8663101604278075, 0.8716577540106952, 0.8716577540106952, 0.8743315508021391, 0.8823529411764706, 0.8850267379679144, 0.8877005347593583, 0.8877005347593583, 0.8877005347593583, 0.8877005347593583, 0.8903743315508021, 0.8903743315508021, 0.893048128342246, 0.8957219251336899, 0.8983957219251337, 0.9010695187165776, 0.9037433155080213, 0.9064171122994652, 0.9064171122994652, 0.9117647058823529, 0.9117647058823529, 0.9117647058823529, 0.9117647058823529, 0.9117647058823529, 0.9117647058823529, 0.9144385026737968, 0.9144385026737968, 0.9171122994652406, 0.9171122994652406, 0.9171122994652406, 0.9171122994652406, 0.9224598930481284, 0.9224598930481284, 0.9251336898395722, 0.9251336898395722, 0.93048128342246, 0.93048128342246, 0.93048128342246, 0.93048128342246, 0.9385026737967914, 0.9385026737967914, 0.9411764705882353, 0.9411764705882353, 0.9411764705882353, 0.946524064171123, 0.9491978609625669, 0.9491978609625669, 0.9491978609625669, 0.9518716577540107, 0.9545454545454546, 0.9545454545454546, 0.9572192513368984, 0.9625668449197861, 0.9625668449197861, 0.9625668449197861, 0.9625668449197861, 0.9625668449197861, 0.9625668449197861, 0.9732620320855615, 0.9732620320855615, 0.9759358288770054, 0.9786096256684492, 0.9786096256684492, 0.9786096256684492, 0.9786096256684492, 0.9786096256684492, 0.9786096256684492, 0.9812834224598931, 0.9812834224598931, 0.9812834224598931, 0.9812834224598931, 0.983957219251337, 0.9866310160427807, 0.9893048128342246, 0.9919786096256684, 0.9946524064171123, 0.9946524064171123, 0.9946524064171123, 0.9946524064171123, 0.9973262032085561, 0.9973262032085561, 1.0]}, {\"mode\": \"lines\", \"name\": \"ADA\", \"type\": \"scatter\", \"x\": [0.0, 0.000968054211035818, 0.000968054211035818, 0.001936108422071636, 0.002904162633107454, 0.002904162633107454, 0.003872216844143272, 0.003872216844143272, 0.003872216844143272, 0.003872216844143272, 0.005808325266214908, 0.005808325266214908, 0.005808325266214908, 0.005808325266214908, 0.006776379477250726, 0.006776379477250726, 0.007744433688286544, 0.007744433688286544, 0.008712487899322363, 0.008712487899322363, 0.008712487899322363, 0.00968054211035818, 0.00968054211035818, 0.00968054211035818, 0.00968054211035818, 0.012584704743465635, 0.01452081316553727, 0.01452081316553727, 0.016456921587608905, 0.016456921587608905, 0.016456921587608905, 0.016456921587608905, 0.017424975798644726, 0.017424975798644726, 0.01936108422071636, 0.02032913843175218, 0.021297192642787996, 0.021297192642787996, 0.022265246853823813, 0.02420135527589545, 0.026137463697967087, 0.02904162633107454, 0.02904162633107454, 0.030009680542110357, 0.030009680542110357, 0.030977734753146177, 0.030977734753146177, 0.030977734753146177, 0.031945788964181994, 0.031945788964181994, 0.031945788964181994, 0.03291384317521781, 0.03388189738625363, 0.03581800580832527, 0.0377541142303969, 0.0377541142303969, 0.03872216844143272, 0.04065827686350436, 0.04065827686350436, 0.04065827686350436, 0.041626331074540175, 0.04356243949661181, 0.04356243949661181, 0.04549854791868345, 0.04549854791868345, 0.046466602129719266, 0.046466602129719266, 0.04743465634075508, 0.04743465634075508, 0.0484027105517909, 0.049370764762826716, 0.049370764762826716, 0.05033881897386254, 0.05033881897386254, 0.051306873184898356, 0.05227492739593417, 0.05324298160696999, 0.05324298160696999, 0.05421103581800581, 0.05421103581800581, 0.05517909002904162, 0.05517909002904162, 0.05614714424007745, 0.05614714424007745, 0.060019361084220714, 0.060019361084220714, 0.06485963213939981, 0.06485963213939981, 0.06679574056147145, 0.07066795740561471, 0.07744433688286544, 0.07744433688286544, 0.07841239109390126, 0.08131655372700872, 0.08131655372700872, 0.08325266214908035, 0.08615682478218781, 0.08712487899322362, 0.08712487899322362, 0.08809293320425944, 0.08809293320425944, 0.08906098741529525, 0.09002904162633107, 0.09002904162633107, 0.0909970958373669, 0.09293320425943853, 0.09293320425943853, 0.09293320425943853, 0.09874152952565343, 0.10067763794772508, 0.10067763794772508, 0.10164569215876089, 0.10164569215876089, 0.10261374636979671, 0.10454985479186835, 0.10454985479186835, 0.10551790900290416, 0.1074540174249758, 0.10939012584704744, 0.11132623426911907, 0.11132623426911907, 0.1122942884801549, 0.1122942884801549, 0.1132623426911907, 0.11616650532429816, 0.11713455953533398, 0.11907066795740562, 0.11907066795740562, 0.12100677637947725, 0.12197483059051308, 0.12294288480154889, 0.12294288480154889, 0.12294288480154889, 0.12294288480154889, 0.12294288480154889, 0.12584704743465633, 0.13068731848983542, 0.13165537270087124, 0.13262342691190707, 0.13262342691190707, 0.1335914811229429, 0.1335914811229429, 0.13649564375605033, 0.13843175217812198, 0.1393998063891578, 0.1393998063891578, 0.1403678606001936, 0.1403678606001936, 0.14230396902226525, 0.14230396902226525, 0.14230396902226525, 0.1442400774443369, 0.1442400774443369, 0.14908034849951599, 0.14908034849951599, 0.1510164569215876, 0.15198451113262343, 0.15198451113262343, 0.15295256534365925, 0.15295256534365925, 0.1558567279767667, 0.1558567279767667, 0.15682478218780252, 0.15876089060987417, 0.15876089060987417, 0.15972894482090996, 0.1616650532429816, 0.1616650532429816, 0.16263310745401743, 0.16360116166505323, 0.16747337850919652, 0.16747337850919652, 0.16940948693126814, 0.16940948693126814, 0.17037754114230397, 0.1732817037754114, 0.17424975798644723, 0.17424975798644723, 0.1771539206195547, 0.17909002904162633, 0.18005808325266215, 0.18005808325266215, 0.18102613746369797, 0.18489835430784124, 0.18586640851887706, 0.18586640851887706, 0.18780251694094868, 0.18780251694094868, 0.1887705711519845, 0.1887705711519845, 0.19070667957405615, 0.19070667957405615, 0.20038722168441434, 0.20038722168441434, 0.20329138431752178, 0.20329138431752178, 0.20329138431752178, 0.2042594385285576, 0.20619554695062922, 0.20813165537270087, 0.20813165537270087, 0.2090997095837367, 0.21200387221684414, 0.21200387221684414, 0.21297192642787996, 0.21297192642787996, 0.2149080348499516, 0.2149080348499516, 0.2158760890609874, 0.2158760890609874, 0.21684414327202323, 0.21684414327202323, 0.21684414327202323, 0.2207163601161665, 0.2207163601161665, 0.2207163601161665, 0.22265246853823814, 0.22749273959341723, 0.22749273959341723, 0.22942884801548888, 0.22942884801548888, 0.2313649564375605, 0.23233301064859632, 0.23426911907066797, 0.23523717328170377, 0.23523717328170377, 0.24007744433688286, 0.24007744433688286, 0.2420135527589545, 0.24394966118102615, 0.24394966118102615, 0.24588576960309777, 0.2468538238141336, 0.24878993223620524, 0.24878993223620524, 0.25072604065827686, 0.25072604065827686, 0.25169409486931266, 0.2526621490803485, 0.2536302032913843, 0.2536302032913843, 0.25459825750242016, 0.25653436592449175, 0.2584704743465634, 0.2584704743465634, 0.26040658276863504, 0.2623426911907067, 0.2633107454017425, 0.2633107454017425, 0.26427879961277834, 0.26427879961277834, 0.2671829622458858, 0.2691190706679574, 0.2700871248789932, 0.2700871248789932, 0.271055179090029, 0.271055179090029, 0.27783155856727976, 0.27783155856727976, 0.27783155856727976, 0.28170377541142305, 0.2846079380445305, 0.2855759922555663, 0.2894482090997096, 0.2894482090997096, 0.2904162633107454, 0.29235237173281703, 0.2933204259438529, 0.2933204259438529, 0.2952565343659245, 0.2971926427879961, 0.29816069699903197, 0.3068731848983543, 0.3068731848983543, 0.30977734753146174, 0.3117134559535334, 0.31364956437560504, 0.3155856727976767, 0.3155856727976767, 0.31752178121974833, 0.3233301064859632, 0.3233301064859632, 0.324298160696999, 0.324298160696999, 0.32623426911907066, 0.32623426911907066, 0.32720232333010646, 0.32720232333010646, 0.3291384317521781, 0.33107454017424975, 0.33204259438528555, 0.33494675701839305, 0.3378509196515005, 0.3378509196515005, 0.3388189738625363, 0.34075508228460794, 0.34172313649564373, 0.34172313649564373, 0.34462729912875123, 0.34462729912875123, 0.345595353339787, 0.3475314617618587, 0.34849951597289447, 0.34849951597289447, 0.35237173281703776, 0.3543078412391094, 0.3591481122942885, 0.3601161665053243, 0.36205227492739595, 0.36205227492739595, 0.3639883833494676, 0.36689254598257504, 0.36689254598257504, 0.36786060019361083, 0.36786060019361083, 0.3697967086156825, 0.3697967086156825, 0.3727008712487899, 0.3727008712487899, 0.37560503388189737, 0.37560503388189737, 0.3823814133591481, 0.38334946757018395, 0.3872216844143272, 0.39399806389157793, 0.3978702807357212, 0.3978702807357212, 0.4133591481122943, 0.4133591481122943, 0.41529525653436594, 0.41529525653436594, 0.4191674733785092, 0.4191674733785092, 0.42110358180058083, 0.430784123910939, 0.430784123910939, 0.43272023233301066, 0.4365924491771539, 0.43852855759922554, 0.43852855759922554, 0.4394966118102614, 0.4394966118102614, 0.441432720232333, 0.44336882865440463, 0.44336882865440463, 0.4453049370764763, 0.4453049370764763, 0.44724104549854793, 0.4491771539206196, 0.4491771539206196, 0.4569215876089061, 0.45885769603097776, 0.462729912875121, 0.46563407550822844, 0.4714424007744434, 0.4714424007744434, 0.4782187802516941, 0.4801548886737657, 0.48112294288480156, 0.48112294288480156, 0.484027105517909, 0.48596321393998065, 0.48596321393998065, 0.49564375605033884, 0.49564375605033884, 0.5043562439496612, 0.5062923523717329, 0.5062923523717329, 0.5082284607938045, 0.5091965150048403, 0.5111326234269119, 0.5140367860600193, 0.5237173281703775, 0.526621490803485, 0.5295256534365924, 0.5314617618586641, 0.5411423039690223, 0.5430784123910939, 0.5517909002904162, 0.5517909002904162, 0.5566311713455954, 0.5566311713455954, 0.558567279767667, 0.558567279767667, 0.5624394966118103, 0.5643756050338818, 0.57405614714424, 0.5759922555663117, 0.5818005808325266, 0.5837366892545982, 0.5866408518877058, 0.5866408518877058, 0.5876089060987415, 0.5876089060987415, 0.5963213939980639, 0.5982575024201355, 0.6060019361084221, 0.6079380445304937, 0.6098741529525653, 0.611810261374637, 0.6156824782187803, 0.6176185866408519, 0.6185866408518877, 0.6214908034849952, 0.6350435624394967, 0.6369796708615683, 0.6505324298160697, 0.6524685382381413, 0.6553727008712488, 0.6582768635043562, 0.6621490803484995, 0.6621490803484995, 0.6679574056147144, 0.6698935140367861, 0.6727976766698935, 0.675701839303001, 0.6815101645692159, 0.6844143272023233, 0.6931268151016456, 0.6950629235237173, 0.6969990319457889, 0.6989351403678606, 0.6999031945788964, 0.7018393030009681, 0.7066795740561471, 0.7086156824782188, 0.7173281703775412, 0.7202323330106486, 0.7202323330106486, 0.7221684414327202, 0.7250726040658277, 0.7289448209099709, 0.7337850919651501, 0.7337850919651501, 0.7366892545982575, 0.7386253630203291, 0.739593417231365, 0.7405614714424008, 0.7454017424975798, 0.7483059051306873, 0.7541142303969022, 0.7560503388189739, 0.7628267182962246, 0.7657308809293321, 0.7696030977734754, 0.771539206195547, 0.7812197483059051, 0.7841239109390126, 0.7850919651500484, 0.7879961277831559, 0.7918683446272992, 0.7957405614714425, 0.7986447241045499, 0.8015488867376573, 0.8044530493707648, 0.8121974830590513, 0.8180058083252663, 0.8218780251694094, 0.8238141335914811, 0.8257502420135527, 0.8276863504356244, 0.8305905130687319, 0.8325266214908035, 0.8393030009680542, 0.8412391093901258, 0.8422071636011617, 0.8441432720232332, 0.8480154888673765, 0.850919651500484, 0.8518877057115198, 0.8538238141335914, 0.8625363020329139, 0.8683446272991288, 0.872216844143272, 0.8770571151984511, 0.8838334946757018, 0.8857696030977735, 0.8877057115198451, 0.8906098741529526, 0.8944820909970959, 0.9022265246853823, 0.9051306873184899, 0.9080348499515973, 0.9099709583736689, 0.9177153920619555, 0.9215876089060987, 0.9244917715392061, 0.925459825750242, 0.9303000968054211, 0.9341723136495643, 0.9428848015488868, 0.9467570183930301, 0.9515972894482091, 0.9545014520813165, 0.9583736689254598, 0.9641819941916747, 0.9651500484027106, 0.9690222652468539, 0.9709583736689255, 0.972894482090997, 0.9748305905130688, 0.9757986447241046, 0.978702807357212, 0.9796708615682478, 0.9816069699903195, 0.9864472410454985, 0.9883833494675702, 0.989351403678606, 0.9912875121006777, 0.9922555663117134, 0.9941916747337851, 0.995159728944821, 0.9980638915779284, 1.0], \"y\": [0.0, 0.0106951871657754, 0.013368983957219251, 0.013368983957219251, 0.026737967914438502, 0.03208556149732621, 0.0481283422459893, 0.05080213903743316, 0.06149732620320856, 0.06417112299465241, 0.06684491978609626, 0.08021390374331551, 0.09090909090909091, 0.09893048128342247, 0.10962566844919786, 0.11497326203208556, 0.11764705882352941, 0.12834224598930483, 0.12834224598930483, 0.13368983957219252, 0.13903743315508021, 0.13903743315508021, 0.14171122994652408, 0.14705882352941177, 0.1497326203208556, 0.1497326203208556, 0.15508021390374332, 0.16042780748663102, 0.16310160427807488, 0.16844919786096257, 0.17914438502673796, 0.18181818181818182, 0.18449197860962566, 0.1925133689839572, 0.1925133689839572, 0.20053475935828877, 0.20320855614973263, 0.20588235294117646, 0.20588235294117646, 0.21122994652406418, 0.21122994652406418, 0.23529411764705882, 0.23796791443850268, 0.23796791443850268, 0.24331550802139038, 0.24331550802139038, 0.24866310160427807, 0.25935828877005346, 0.25935828877005346, 0.26737967914438504, 0.27807486631016043, 0.2807486631016043, 0.2807486631016043, 0.2807486631016043, 0.2807486631016043, 0.28342245989304815, 0.28342245989304815, 0.28342245989304815, 0.2887700534759358, 0.29411764705882354, 0.29411764705882354, 0.2967914438502674, 0.2994652406417112, 0.3155080213903743, 0.3181818181818182, 0.3181818181818182, 0.32620320855614976, 0.32620320855614976, 0.3315508021390374, 0.3342245989304813, 0.3342245989304813, 0.33689839572192515, 0.33689839572192515, 0.3422459893048128, 0.3422459893048128, 0.35561497326203206, 0.35561497326203206, 0.3582887700534759, 0.3582887700534759, 0.3609625668449198, 0.3609625668449198, 0.3716577540106952, 0.3716577540106952, 0.37433155080213903, 0.39037433155080214, 0.393048128342246, 0.393048128342246, 0.39572192513368987, 0.39572192513368987, 0.39572192513368987, 0.4090909090909091, 0.4117647058823529, 0.4144385026737968, 0.42513368983957217, 0.42780748663101603, 0.42780748663101603, 0.42780748663101603, 0.42780748663101603, 0.4304812834224599, 0.43315508021390375, 0.4385026737967914, 0.44385026737967914, 0.44385026737967914, 0.446524064171123, 0.44919786096256686, 0.44919786096256686, 0.45187165775401067, 0.4625668449197861, 0.4625668449197861, 0.4625668449197861, 0.4679144385026738, 0.47058823529411764, 0.4732620320855615, 0.4732620320855615, 0.47593582887700536, 0.4786096256684492, 0.4786096256684492, 0.4786096256684492, 0.48663101604278075, 0.4893048128342246, 0.4946524064171123, 0.49732620320855614, 0.5026737967914439, 0.5053475935828877, 0.5106951871657754, 0.5106951871657754, 0.5133689839572193, 0.5240641711229946, 0.5240641711229946, 0.5267379679144385, 0.5267379679144385, 0.5294117647058824, 0.5401069518716578, 0.5454545454545454, 0.5481283422459893, 0.5481283422459893, 0.553475935828877, 0.553475935828877, 0.5588235294117647, 0.5614973262032086, 0.5614973262032086, 0.5668449197860963, 0.5668449197860963, 0.5668449197860963, 0.56951871657754, 0.5748663101604278, 0.5748663101604278, 0.5775401069518716, 0.5775401069518716, 0.5828877005347594, 0.5882352941176471, 0.5935828877005348, 0.5962566844919787, 0.5962566844919787, 0.5989304812834224, 0.5989304812834224, 0.6016042780748663, 0.606951871657754, 0.606951871657754, 0.6096256684491979, 0.6096256684491979, 0.6122994652406417, 0.6176470588235294, 0.6176470588235294, 0.6229946524064172, 0.6256684491978609, 0.6256684491978609, 0.6310160427807486, 0.6310160427807486, 0.6336898395721925, 0.6336898395721925, 0.6417112299465241, 0.6417112299465241, 0.6443850267379679, 0.6443850267379679, 0.6470588235294118, 0.6470588235294118, 0.6497326203208557, 0.6497326203208557, 0.6524064171122995, 0.6524064171122995, 0.6550802139037433, 0.6550802139037433, 0.6550802139037433, 0.6550802139037433, 0.6577540106951871, 0.6577540106951871, 0.660427807486631, 0.660427807486631, 0.6657754010695187, 0.6657754010695187, 0.6684491978609626, 0.6684491978609626, 0.6737967914438503, 0.6737967914438503, 0.679144385026738, 0.6951871657754011, 0.6951871657754011, 0.7032085561497327, 0.7032085561497327, 0.7058823529411765, 0.7085561497326203, 0.7085561497326203, 0.7112299465240641, 0.7112299465240641, 0.7165775401069518, 0.7165775401069518, 0.7192513368983957, 0.7192513368983957, 0.7219251336898396, 0.7219251336898396, 0.7245989304812834, 0.7352941176470589, 0.7406417112299465, 0.7459893048128342, 0.7486631016042781, 0.7566844919786097, 0.7566844919786097, 0.7593582887700535, 0.7593582887700535, 0.7620320855614974, 0.7620320855614974, 0.7620320855614974, 0.7620320855614974, 0.7620320855614974, 0.7647058823529411, 0.7647058823529411, 0.767379679144385, 0.767379679144385, 0.767379679144385, 0.7754010695187166, 0.7754010695187166, 0.7780748663101604, 0.7780748663101604, 0.7807486631016043, 0.7807486631016043, 0.7834224598930482, 0.7834224598930482, 0.786096256684492, 0.786096256684492, 0.7887700534759359, 0.7887700534759359, 0.7941176470588235, 0.7941176470588235, 0.7967914438502673, 0.7967914438502673, 0.7967914438502673, 0.7994652406417112, 0.8021390374331551, 0.8021390374331551, 0.8048128342245989, 0.8048128342245989, 0.8074866310160428, 0.8074866310160428, 0.8101604278074866, 0.8101604278074866, 0.8155080213903744, 0.8155080213903744, 0.8181818181818182, 0.8262032085561497, 0.8262032085561497, 0.8262032085561497, 0.8368983957219251, 0.8368983957219251, 0.839572192513369, 0.839572192513369, 0.839572192513369, 0.839572192513369, 0.8422459893048129, 0.8422459893048129, 0.8422459893048129, 0.8449197860962567, 0.8449197860962567, 0.8502673796791443, 0.8502673796791443, 0.8529411764705882, 0.8529411764705882, 0.8529411764705882, 0.8582887700534759, 0.8582887700534759, 0.8582887700534759, 0.8609625668449198, 0.8609625668449198, 0.8663101604278075, 0.8663101604278075, 0.8689839572192514, 0.8689839572192514, 0.8716577540106952, 0.8716577540106952, 0.8743315508021391, 0.8796791443850267, 0.8796791443850267, 0.8796791443850267, 0.8823529411764706, 0.8823529411764706, 0.8823529411764706, 0.8823529411764706, 0.8850267379679144, 0.8850267379679144, 0.8877005347593583, 0.8877005347593583, 0.8877005347593583, 0.8877005347593583, 0.8903743315508021, 0.8903743315508021, 0.8903743315508021, 0.8903743315508021, 0.893048128342246, 0.893048128342246, 0.8957219251336899, 0.8957219251336899, 0.8957219251336899, 0.8983957219251337, 0.8983957219251337, 0.9010695187165776, 0.9010695187165776, 0.9064171122994652, 0.9064171122994652, 0.9090909090909091, 0.9090909090909091, 0.9117647058823529, 0.9117647058823529, 0.9144385026737968, 0.9144385026737968, 0.9144385026737968, 0.9144385026737968, 0.9171122994652406, 0.9171122994652406, 0.9224598930481284, 0.9224598930481284, 0.9278074866310161, 0.9278074866310161, 0.93048128342246, 0.93048128342246, 0.93048128342246, 0.9331550802139037, 0.9331550802139037, 0.9331550802139037, 0.9331550802139037, 0.9358288770053476, 0.9358288770053476, 0.9385026737967914, 0.9385026737967914, 0.9385026737967914, 0.9411764705882353, 0.9411764705882353, 0.9438502673796791, 0.9438502673796791, 0.9438502673796791, 0.9491978609625669, 0.9491978609625669, 0.9491978609625669, 0.9491978609625669, 0.9518716577540107, 0.9518716577540107, 0.9545454545454546, 0.9545454545454546, 0.9545454545454546, 0.9545454545454546, 0.9572192513368984, 0.9572192513368984, 0.9572192513368984, 0.9598930481283422, 0.9598930481283422, 0.9625668449197861, 0.9625668449197861, 0.9625668449197861, 0.9652406417112299, 0.9652406417112299, 0.9652406417112299, 0.9652406417112299, 0.9679144385026738, 0.9679144385026738, 0.9679144385026738, 0.9679144385026738, 0.9679144385026738, 0.9679144385026738, 0.9679144385026738, 0.9679144385026738, 0.9705882352941176, 0.9705882352941176, 0.9732620320855615, 0.9732620320855615, 0.9759358288770054, 0.9759358288770054, 0.9759358288770054, 0.9759358288770054, 0.9759358288770054, 0.9759358288770054, 0.9759358288770054, 0.9759358288770054, 0.9786096256684492, 0.9786096256684492, 0.9812834224598931, 0.9812834224598931, 0.983957219251337, 0.983957219251337, 0.983957219251337, 0.983957219251337, 0.983957219251337, 0.983957219251337, 0.983957219251337, 0.983957219251337, 0.983957219251337, 0.983957219251337, 0.983957219251337, 0.983957219251337, 0.983957219251337, 0.983957219251337, 0.983957219251337, 0.983957219251337, 0.9866310160427807, 0.9866310160427807, 0.9866310160427807, 0.9866310160427807, 0.9866310160427807, 0.9866310160427807, 0.9893048128342246, 0.9893048128342246, 0.9893048128342246, 0.9893048128342246, 0.9893048128342246, 0.9893048128342246, 0.9893048128342246, 0.9893048128342246, 0.9893048128342246, 0.9893048128342246, 0.9893048128342246, 0.9919786096256684, 0.9919786096256684, 0.9919786096256684, 0.9919786096256684, 0.9919786096256684, 0.9946524064171123, 0.9946524064171123, 0.9946524064171123, 0.9946524064171123, 0.9973262032085561, 0.9973262032085561, 0.9973262032085561, 0.9973262032085561, 0.9973262032085561, 0.9973262032085561, 0.9973262032085561, 0.9973262032085561, 0.9973262032085561, 0.9973262032085561, 0.9973262032085561, 0.9973262032085561, 0.9973262032085561, 0.9973262032085561, 0.9973262032085561, 0.9973262032085561, 0.9973262032085561, 0.9973262032085561, 0.9973262032085561, 0.9973262032085561, 0.9973262032085561, 0.9973262032085561, 0.9973262032085561, 0.9973262032085561, 0.9973262032085561, 0.9973262032085561, 0.9973262032085561, 0.9973262032085561, 0.9973262032085561, 0.9973262032085561, 0.9973262032085561, 0.9973262032085561, 0.9973262032085561, 0.9973262032085561, 0.9973262032085561, 0.9973262032085561, 0.9973262032085561, 0.9973262032085561, 0.9973262032085561, 0.9973262032085561, 0.9973262032085561, 0.9973262032085561, 0.9973262032085561, 0.9973262032085561, 0.9973262032085561, 0.9973262032085561, 0.9973262032085561, 0.9973262032085561, 0.9973262032085561, 0.9973262032085561, 0.9973262032085561, 0.9973262032085561, 0.9973262032085561, 1.0, 1.0, 1.0, 1.0, 1.0, 1.0, 1.0, 1.0, 1.0, 1.0, 1.0, 1.0, 1.0, 1.0, 1.0, 1.0, 1.0, 1.0, 1.0, 1.0, 1.0, 1.0, 1.0, 1.0]}, {\"mode\": \"lines\", \"name\": \"CAT\", \"type\": \"scatter\", \"x\": [0.0, 0.0, 0.0, 0.000968054211035818, 0.000968054211035818, 0.002904162633107454, 0.002904162633107454, 0.003872216844143272, 0.003872216844143272, 0.00484027105517909, 0.00484027105517909, 0.005808325266214908, 0.005808325266214908, 0.007744433688286544, 0.007744433688286544, 0.008712487899322363, 0.008712487899322363, 0.00968054211035818, 0.00968054211035818, 0.010648596321393998, 0.010648596321393998, 0.013552758954501452, 0.013552758954501452, 0.016456921587608905, 0.016456921587608905, 0.017424975798644726, 0.017424975798644726, 0.018393030009680542, 0.018393030009680542, 0.01936108422071636, 0.01936108422071636, 0.02032913843175218, 0.02032913843175218, 0.021297192642787996, 0.021297192642787996, 0.023233301064859633, 0.023233301064859633, 0.02420135527589545, 0.02420135527589545, 0.02516940948693127, 0.02516940948693127, 0.028073572120038724, 0.028073572120038724, 0.030009680542110357, 0.030009680542110357, 0.030977734753146177, 0.030977734753146177, 0.031945788964181994, 0.031945788964181994, 0.03581800580832527, 0.03581800580832527, 0.0377541142303969, 0.0377541142303969, 0.03872216844143272, 0.03872216844143272, 0.03969022265246854, 0.03969022265246854, 0.041626331074540175, 0.041626331074540175, 0.04356243949661181, 0.04356243949661181, 0.044530493707647625, 0.044530493707647625, 0.04549854791868345, 0.04549854791868345, 0.046466602129719266, 0.046466602129719266, 0.04743465634075508, 0.04743465634075508, 0.049370764762826716, 0.049370764762826716, 0.051306873184898356, 0.051306873184898356, 0.05227492739593417, 0.05227492739593417, 0.05324298160696999, 0.05324298160696999, 0.05421103581800581, 0.05421103581800581, 0.05517909002904162, 0.05517909002904162, 0.05614714424007745, 0.05614714424007745, 0.05808325266214908, 0.05808325266214908, 0.060019361084220714, 0.060019361084220714, 0.06389157792836399, 0.06389157792836399, 0.06485963213939981, 0.06485963213939981, 0.06873184898354308, 0.06873184898354308, 0.0696999031945789, 0.0696999031945789, 0.07163601161665054, 0.07163601161665054, 0.07357212003872217, 0.07357212003872217, 0.07454017424975799, 0.07454017424975799, 0.0755082284607938, 0.0755082284607938, 0.07647628267182963, 0.07647628267182963, 0.0803484995159729, 0.0803484995159729, 0.08131655372700872, 0.08131655372700872, 0.08422071636011616, 0.08422071636011616, 0.08518877057115198, 0.08518877057115198, 0.08615682478218781, 0.08615682478218781, 0.08712487899322362, 0.08712487899322362, 0.08906098741529525, 0.08906098741529525, 0.0909970958373669, 0.0909970958373669, 0.09196515004840271, 0.09196515004840271, 0.09293320425943853, 0.09293320425943853, 0.0968054211035818, 0.0968054211035818, 0.09777347531461762, 0.09777347531461762, 0.09874152952565343, 0.09874152952565343, 0.10067763794772508, 0.10067763794772508, 0.10164569215876089, 0.10164569215876089, 0.10261374636979671, 0.10261374636979671, 0.10358180058083252, 0.10358180058083252, 0.10454985479186835, 0.10454985479186835, 0.10842207163601161, 0.10842207163601161, 0.11035818005808325, 0.11035818005808325, 0.11132623426911907, 0.11132623426911907, 0.1122942884801549, 0.1122942884801549, 0.11423039690222653, 0.11423039690222653, 0.11616650532429816, 0.11616650532429816, 0.12100677637947725, 0.12100677637947725, 0.12197483059051308, 0.12197483059051308, 0.12681510164569215, 0.12681510164569215, 0.12778315585672798, 0.12778315585672798, 0.12971926427879962, 0.12971926427879962, 0.1345595353339787, 0.1345595353339787, 0.1355275895450145, 0.1355275895450145, 0.13649564375605033, 0.13649564375605033, 0.14133591481122942, 0.14133591481122942, 0.1452081316553727, 0.1452081316553727, 0.14617618586640851, 0.14617618586640851, 0.14908034849951599, 0.14908034849951599, 0.1510164569215876, 0.1510164569215876, 0.15198451113262343, 0.15198451113262343, 0.15295256534365925, 0.15295256534365925, 0.15488867376573087, 0.15488867376573087, 0.1558567279767667, 0.1558567279767667, 0.15682478218780252, 0.15682478218780252, 0.15779283639883834, 0.15779283639883834, 0.15876089060987417, 0.15876089060987417, 0.1606969990319458, 0.1606969990319458, 0.16553727008712488, 0.16553727008712488, 0.1665053242981607, 0.1665053242981607, 0.1713455953533398, 0.1713455953533398, 0.1732817037754114, 0.1732817037754114, 0.17521781219748306, 0.17521781219748306, 0.17618586640851888, 0.17618586640851888, 0.1781219748305905, 0.1781219748305905, 0.18102613746369797, 0.18102613746369797, 0.18489835430784124, 0.18489835430784124, 0.1868344627299129, 0.1868344627299129, 0.18780251694094868, 0.18780251694094868, 0.1887705711519845, 0.1887705711519845, 0.18973862536302033, 0.18973862536302033, 0.19070667957405615, 0.19070667957405615, 0.19554695062923524, 0.19554695062923524, 0.20038722168441434, 0.20038722168441434, 0.20135527589545016, 0.20135527589545016, 0.20329138431752178, 0.20329138431752178, 0.20522749273959343, 0.20522749273959343, 0.20716360116166505, 0.20716360116166505, 0.2090997095837367, 0.2090997095837367, 0.21006776379477252, 0.21006776379477252, 0.2110358180058083, 0.2110358180058083, 0.21878025169409487, 0.21878025169409487, 0.22362052274927396, 0.22362052274927396, 0.2265246853823814, 0.2265246853823814, 0.22942884801548888, 0.22942884801548888, 0.23039690222652467, 0.23039690222652467, 0.23233301064859632, 0.23233301064859632, 0.23523717328170377, 0.23523717328170377, 0.23910939012584706, 0.23910939012584706, 0.24394966118102615, 0.24394966118102615, 0.2468538238141336, 0.2468538238141336, 0.24878993223620524, 0.24878993223620524, 0.25072604065827686, 0.25072604065827686, 0.2536302032913843, 0.2536302032913843, 0.25459825750242016, 0.25459825750242016, 0.25653436592449175, 0.25653436592449175, 0.2575024201355276, 0.2575024201355276, 0.26621490803484993, 0.26621490803484993, 0.2691190706679574, 0.2691190706679574, 0.27299128751210067, 0.27299128751210067, 0.2758954501452081, 0.2758954501452081, 0.27783155856727976, 0.27783155856727976, 0.2787996127783156, 0.2787996127783156, 0.2807357212003872, 0.2807357212003872, 0.2846079380445305, 0.2846079380445305, 0.2855759922555663, 0.2855759922555663, 0.2884801548886738, 0.2884801548886738, 0.2894482090997096, 0.2894482090997096, 0.29138431752178123, 0.29138431752178123, 0.2942884801548887, 0.2942884801548887, 0.2971926427879961, 0.2971926427879961, 0.29912875121006777, 0.29912875121006777, 0.30493707647628265, 0.30493707647628265, 0.30784123910939015, 0.30784123910939015, 0.30880929332042595, 0.30880929332042595, 0.30977734753146174, 0.30977734753146174, 0.31752178121974833, 0.31752178121974833, 0.3194578896418199, 0.3194578896418199, 0.34075508228460794, 0.34075508228460794, 0.3426911907066796, 0.3426911907066796, 0.3475314617618587, 0.3475314617618587, 0.3601161665053243, 0.3601161665053243, 0.36689254598257504, 0.36689254598257504, 0.3697967086156825, 0.3697967086156825, 0.3765730880929332, 0.3765730880929332, 0.3823814133591481, 0.3823814133591481, 0.38528557599225555, 0.38528557599225555, 0.38915779283639884, 0.38915779283639884, 0.39012584704743464, 0.39012584704743464, 0.3969022265246854, 0.3969022265246854, 0.398838334946757, 0.398838334946757, 0.3998063891577928, 0.3998063891577928, 0.40077444336882867, 0.40077444336882867, 0.4046466602129719, 0.4046466602129719, 0.42013552758954503, 0.42013552758954503, 0.4220716360116166, 0.4220716360116166, 0.4230396902226525, 0.4230396902226525, 0.43368828654404645, 0.43368828654404645, 0.4394966118102614, 0.4394966118102614, 0.441432720232333, 0.441432720232333, 0.44240077444336884, 0.44240077444336884, 0.4462729912875121, 0.4462729912875121, 0.4530493707647628, 0.4530493707647628, 0.4791868344627299, 0.4791868344627299, 0.484027105517909, 0.484027105517909, 0.4878993223620523, 0.4878993223620523, 0.5024201355275896, 0.5024201355275896, 0.5033881897386253, 0.5033881897386253, 0.5072604065827686, 0.5072604065827686, 0.5121006776379478, 0.5121006776379478, 0.5140367860600193, 0.5140367860600193, 0.5217812197483059, 0.5217812197483059, 0.5324298160696999, 0.5324298160696999, 0.5353339787028074, 0.5353339787028074, 0.5401742497579864, 0.5401742497579864, 0.542110358180058, 0.542110358180058, 0.5430784123910939, 0.5430784123910939, 0.5488867376573088, 0.5488867376573088, 0.5546950629235237, 0.5546950629235237, 0.5634075508228461, 0.5634075508228461, 0.5672797676669894, 0.5672797676669894, 0.5759922555663117, 0.5759922555663117, 0.5847047434656341, 0.5847047434656341, 0.5953533397870281, 0.5953533397870281, 0.6021297192642788, 0.6021297192642788, 0.6147144240077445, 0.6147144240077445, 0.6282671829622459, 0.6282671829622459, 0.6447241045498547, 0.6447241045498547, 0.6456921587608906, 0.6456921587608906, 0.6592449177153921, 0.6592449177153921, 0.6708615682478218, 0.6708615682478218, 0.6727976766698935, 0.6727976766698935, 0.675701839303001, 0.675701839303001, 0.6786060019361084, 0.6786060019361084, 0.6921587608906099, 0.6921587608906099, 0.7492739593417231, 0.7492739593417231, 0.7589545014520813, 0.7589545014520813, 0.8034849951597289, 0.8034849951597289, 0.8635043562439496, 0.8635043562439496, 0.9138431752178122, 0.9138431752178122, 0.9583736689254598, 0.9583736689254598, 1.0], \"y\": [0.0, 0.00267379679144385, 0.040106951871657755, 0.040106951871657755, 0.0427807486631016, 0.0427807486631016, 0.0481283422459893, 0.0481283422459893, 0.05080213903743316, 0.05080213903743316, 0.06684491978609626, 0.06684491978609626, 0.07754010695187166, 0.07754010695187166, 0.09893048128342247, 0.09893048128342247, 0.11229946524064172, 0.11229946524064172, 0.12834224598930483, 0.12834224598930483, 0.13101604278074866, 0.13101604278074866, 0.13368983957219252, 0.13368983957219252, 0.13636363636363635, 0.13636363636363635, 0.15240641711229946, 0.15240641711229946, 0.15775401069518716, 0.15775401069518716, 0.16042780748663102, 0.16042780748663102, 0.16310160427807488, 0.16310160427807488, 0.16844919786096257, 0.16844919786096257, 0.17647058823529413, 0.17647058823529413, 0.17914438502673796, 0.17914438502673796, 0.18716577540106952, 0.18716577540106952, 0.19518716577540107, 0.19518716577540107, 0.19786096256684493, 0.19786096256684493, 0.20588235294117646, 0.20588235294117646, 0.22994652406417113, 0.22994652406417113, 0.23529411764705882, 0.23529411764705882, 0.24331550802139038, 0.24331550802139038, 0.2540106951871658, 0.2540106951871658, 0.2647058823529412, 0.2647058823529412, 0.26737967914438504, 0.26737967914438504, 0.27540106951871657, 0.27540106951871657, 0.27807486631016043, 0.27807486631016043, 0.2807486631016043, 0.2807486631016043, 0.28342245989304815, 0.28342245989304815, 0.28609625668449196, 0.28609625668449196, 0.2887700534759358, 0.2887700534759358, 0.3155080213903743, 0.3155080213903743, 0.3181818181818182, 0.3181818181818182, 0.32085561497326204, 0.32085561497326204, 0.32620320855614976, 0.32620320855614976, 0.32887700534759357, 0.32887700534759357, 0.3342245989304813, 0.3342245989304813, 0.33689839572192515, 0.33689839572192515, 0.339572192513369, 0.339572192513369, 0.3422459893048128, 0.3422459893048128, 0.3449197860962567, 0.3449197860962567, 0.34759358288770054, 0.34759358288770054, 0.3582887700534759, 0.3582887700534759, 0.3609625668449198, 0.3609625668449198, 0.36363636363636365, 0.36363636363636365, 0.3663101604278075, 0.3663101604278075, 0.3716577540106952, 0.3716577540106952, 0.37433155080213903, 0.37433155080213903, 0.3770053475935829, 0.3770053475935829, 0.3850267379679144, 0.3850267379679144, 0.3877005347593583, 0.3877005347593583, 0.39037433155080214, 0.39037433155080214, 0.393048128342246, 0.393048128342246, 0.40106951871657753, 0.40106951871657753, 0.4037433155080214, 0.4037433155080214, 0.4090909090909091, 0.4090909090909091, 0.4144385026737968, 0.4144385026737968, 0.4197860962566845, 0.4197860962566845, 0.42245989304812837, 0.42245989304812837, 0.4304812834224599, 0.4304812834224599, 0.4358288770053476, 0.4358288770053476, 0.4411764705882353, 0.4411764705882353, 0.44385026737967914, 0.44385026737967914, 0.44919786096256686, 0.44919786096256686, 0.45187165775401067, 0.45187165775401067, 0.45454545454545453, 0.45454545454545453, 0.4572192513368984, 0.4572192513368984, 0.4679144385026738, 0.4679144385026738, 0.4732620320855615, 0.4732620320855615, 0.47593582887700536, 0.47593582887700536, 0.4839572192513369, 0.4839572192513369, 0.48663101604278075, 0.48663101604278075, 0.49732620320855614, 0.49732620320855614, 0.5, 0.5, 0.5053475935828877, 0.5053475935828877, 0.5080213903743316, 0.5080213903743316, 0.5106951871657754, 0.5106951871657754, 0.5133689839572193, 0.5133689839572193, 0.516042780748663, 0.516042780748663, 0.5187165775401069, 0.5187165775401069, 0.5240641711229946, 0.5240641711229946, 0.5294117647058824, 0.5294117647058824, 0.5320855614973262, 0.5320855614973262, 0.5401069518716578, 0.5401069518716578, 0.5427807486631016, 0.5427807486631016, 0.5481283422459893, 0.5481283422459893, 0.5561497326203209, 0.5561497326203209, 0.5614973262032086, 0.5614973262032086, 0.5641711229946524, 0.5641711229946524, 0.56951871657754, 0.56951871657754, 0.5721925133689839, 0.5721925133689839, 0.5748663101604278, 0.5748663101604278, 0.5775401069518716, 0.5775401069518716, 0.5828877005347594, 0.5828877005347594, 0.5882352941176471, 0.5882352941176471, 0.5909090909090909, 0.5909090909090909, 0.5935828877005348, 0.5935828877005348, 0.5962566844919787, 0.5962566844919787, 0.5989304812834224, 0.5989304812834224, 0.6016042780748663, 0.6016042780748663, 0.6042780748663101, 0.6042780748663101, 0.606951871657754, 0.606951871657754, 0.6176470588235294, 0.6176470588235294, 0.6203208556149733, 0.6203208556149733, 0.6229946524064172, 0.6229946524064172, 0.6256684491978609, 0.6256684491978609, 0.6283422459893048, 0.6283422459893048, 0.6363636363636364, 0.6363636363636364, 0.6390374331550802, 0.6390374331550802, 0.6443850267379679, 0.6443850267379679, 0.6524064171122995, 0.6524064171122995, 0.6550802139037433, 0.6550802139037433, 0.6631016042780749, 0.6631016042780749, 0.6657754010695187, 0.6657754010695187, 0.6684491978609626, 0.6684491978609626, 0.6711229946524064, 0.6711229946524064, 0.6737967914438503, 0.6737967914438503, 0.6764705882352942, 0.6764705882352942, 0.679144385026738, 0.679144385026738, 0.6818181818181818, 0.6818181818181818, 0.6844919786096256, 0.6844919786096256, 0.6871657754010695, 0.6871657754010695, 0.6898395721925134, 0.6898395721925134, 0.6925133689839572, 0.6925133689839572, 0.6978609625668449, 0.6978609625668449, 0.7005347593582888, 0.7005347593582888, 0.7032085561497327, 0.7032085561497327, 0.7058823529411765, 0.7058823529411765, 0.7085561497326203, 0.7085561497326203, 0.7112299465240641, 0.7112299465240641, 0.7165775401069518, 0.7165775401069518, 0.7219251336898396, 0.7219251336898396, 0.7299465240641712, 0.7299465240641712, 0.732620320855615, 0.732620320855615, 0.7379679144385026, 0.7379679144385026, 0.7433155080213903, 0.7433155080213903, 0.7459893048128342, 0.7459893048128342, 0.7486631016042781, 0.7486631016042781, 0.7513368983957219, 0.7513368983957219, 0.7540106951871658, 0.7540106951871658, 0.7566844919786097, 0.7566844919786097, 0.7647058823529411, 0.7647058823529411, 0.767379679144385, 0.767379679144385, 0.7700534759358288, 0.7700534759358288, 0.7754010695187166, 0.7754010695187166, 0.7780748663101604, 0.7780748663101604, 0.7807486631016043, 0.7807486631016043, 0.7834224598930482, 0.7834224598930482, 0.786096256684492, 0.786096256684492, 0.7887700534759359, 0.7887700534759359, 0.7914438502673797, 0.7914438502673797, 0.7941176470588235, 0.7941176470588235, 0.7967914438502673, 0.7967914438502673, 0.7994652406417112, 0.7994652406417112, 0.8021390374331551, 0.8021390374331551, 0.8048128342245989, 0.8048128342245989, 0.8074866310160428, 0.8074866310160428, 0.8101604278074866, 0.8101604278074866, 0.8128342245989305, 0.8128342245989305, 0.8181818181818182, 0.8181818181818182, 0.820855614973262, 0.820855614973262, 0.8315508021390374, 0.8315508021390374, 0.8342245989304813, 0.8342245989304813, 0.8368983957219251, 0.8368983957219251, 0.839572192513369, 0.839572192513369, 0.8449197860962567, 0.8449197860962567, 0.8475935828877005, 0.8475935828877005, 0.8529411764705882, 0.8529411764705882, 0.8556149732620321, 0.8556149732620321, 0.8582887700534759, 0.8582887700534759, 0.8609625668449198, 0.8609625668449198, 0.8636363636363636, 0.8636363636363636, 0.8663101604278075, 0.8663101604278075, 0.8689839572192514, 0.8689839572192514, 0.8743315508021391, 0.8743315508021391, 0.8770053475935828, 0.8770053475935828, 0.8823529411764706, 0.8823529411764706, 0.8877005347593583, 0.8877005347593583, 0.8903743315508021, 0.8903743315508021, 0.893048128342246, 0.893048128342246, 0.8957219251336899, 0.8957219251336899, 0.8983957219251337, 0.8983957219251337, 0.9010695187165776, 0.9010695187165776, 0.9037433155080213, 0.9037433155080213, 0.9064171122994652, 0.9064171122994652, 0.9090909090909091, 0.9090909090909091, 0.9171122994652406, 0.9171122994652406, 0.9197860962566845, 0.9197860962566845, 0.9224598930481284, 0.9224598930481284, 0.9251336898395722, 0.9251336898395722, 0.9278074866310161, 0.9278074866310161, 0.93048128342246, 0.93048128342246, 0.9331550802139037, 0.9331550802139037, 0.9358288770053476, 0.9358288770053476, 0.9385026737967914, 0.9385026737967914, 0.9411764705882353, 0.9411764705882353, 0.9438502673796791, 0.9438502673796791, 0.946524064171123, 0.946524064171123, 0.9491978609625669, 0.9491978609625669, 0.9518716577540107, 0.9518716577540107, 0.9545454545454546, 0.9545454545454546, 0.9572192513368984, 0.9572192513368984, 0.9625668449197861, 0.9625668449197861, 0.9679144385026738, 0.9679144385026738, 0.9705882352941176, 0.9705882352941176, 0.9732620320855615, 0.9732620320855615, 0.9759358288770054, 0.9759358288770054, 0.9786096256684492, 0.9786096256684492, 0.9812834224598931, 0.9812834224598931, 0.983957219251337, 0.983957219251337, 0.9866310160427807, 0.9866310160427807, 0.9893048128342246, 0.9893048128342246, 0.9919786096256684, 0.9919786096256684, 0.9946524064171123, 0.9946524064171123, 0.9973262032085561, 0.9973262032085561, 1.0, 1.0]}, {\"mode\": \"lines\", \"name\": \"SGB\", \"type\": \"scatter\", \"x\": [0.0, 0.0, 0.0, 0.0, 0.0, 0.001936108422071636, 0.001936108422071636, 0.00484027105517909, 0.00484027105517909, 0.005808325266214908, 0.005808325266214908, 0.007744433688286544, 0.007744433688286544, 0.008712487899322363, 0.008712487899322363, 0.011616650532429816, 0.011616650532429816, 0.012584704743465635, 0.012584704743465635, 0.017424975798644726, 0.017424975798644726, 0.022265246853823813, 0.022265246853823813, 0.023233301064859633, 0.023233301064859633, 0.02420135527589545, 0.02420135527589545, 0.02516940948693127, 0.02516940948693127, 0.026137463697967087, 0.026137463697967087, 0.02904162633107454, 0.02904162633107454, 0.030009680542110357, 0.030009680542110357, 0.030977734753146177, 0.030977734753146177, 0.031945788964181994, 0.031945788964181994, 0.03388189738625363, 0.03388189738625363, 0.03484995159728945, 0.03484995159728945, 0.03581800580832527, 0.03581800580832527, 0.036786060019361085, 0.036786060019361085, 0.0377541142303969, 0.0377541142303969, 0.03872216844143272, 0.03872216844143272, 0.04065827686350436, 0.04065827686350436, 0.04259438528557599, 0.04259438528557599, 0.044530493707647625, 0.044530493707647625, 0.05421103581800581, 0.05421103581800581, 0.05614714424007745, 0.05614714424007745, 0.057115198451113264, 0.057115198451113264, 0.05808325266214908, 0.05808325266214908, 0.0590513068731849, 0.0590513068731849, 0.06098741529525654, 0.06098741529525654, 0.061955469506292354, 0.061955469506292354, 0.06292352371732816, 0.06292352371732816, 0.06389157792836399, 0.06389157792836399, 0.06582768635043562, 0.06582768635043562, 0.06679574056147145, 0.06679574056147145, 0.06776379477250725, 0.06776379477250725, 0.06873184898354308, 0.06873184898354308, 0.0696999031945789, 0.0696999031945789, 0.07066795740561471, 0.07066795740561471, 0.07163601161665054, 0.07163601161665054, 0.07260406582768635, 0.07260406582768635, 0.07454017424975799, 0.07454017424975799, 0.0755082284607938, 0.0755082284607938, 0.07647628267182963, 0.07647628267182963, 0.07744433688286544, 0.07744433688286544, 0.07841239109390126, 0.07841239109390126, 0.07938044530493708, 0.07938044530493708, 0.0803484995159729, 0.0803484995159729, 0.08228460793804453, 0.08228460793804453, 0.08325266214908035, 0.08325266214908035, 0.08422071636011616, 0.08422071636011616, 0.08518877057115198, 0.08518877057115198, 0.08906098741529525, 0.09002904162633107, 0.0909970958373669, 0.0909970958373669, 0.09196515004840271, 0.09196515004840271, 0.09293320425943853, 0.09293320425943853, 0.09390125847047434, 0.09390125847047434, 0.09486931268151017, 0.09486931268151017, 0.09777347531461762, 0.09777347531461762, 0.09874152952565343, 0.09874152952565343, 0.10164569215876089, 0.10164569215876089, 0.10261374636979671, 0.10261374636979671, 0.10648596321393998, 0.10648596321393998, 0.1074540174249758, 0.1074540174249758, 0.10842207163601161, 0.10842207163601161, 0.11616650532429816, 0.11616650532429816, 0.11713455953533398, 0.11713455953533398, 0.12681510164569215, 0.12681510164569215, 0.1287512100677638, 0.1287512100677638, 0.13068731848983542, 0.13068731848983542, 0.13262342691190707, 0.13262342691190707, 0.14133591481122942, 0.14133591481122942, 0.14617618586640851, 0.14617618586640851, 0.14908034849951599, 0.14908034849951599, 0.15004840271055178, 0.15004840271055178, 0.15682478218780252, 0.15682478218780252, 0.15876089060987417, 0.15876089060987417, 0.15972894482090996, 0.15972894482090996, 0.1616650532429816, 0.1616650532429816, 0.16360116166505323, 0.16360116166505323, 0.16456921587608905, 0.16456921587608905, 0.16844143272023232, 0.16844143272023232, 0.16940948693126814, 0.16940948693126814, 0.17231364956437561, 0.17231364956437561, 0.1732817037754114, 0.1732817037754114, 0.18005808325266215, 0.18005808325266215, 0.1819941916747338, 0.1819941916747338, 0.1829622458857696, 0.1829622458857696, 0.18489835430784124, 0.18489835430784124, 0.1936108422071636, 0.1936108422071636, 0.19554695062923524, 0.19554695062923524, 0.20135527589545016, 0.20135527589545016, 0.2042594385285576, 0.2042594385285576, 0.20716360116166505, 0.20716360116166505, 0.21006776379477252, 0.21006776379477252, 0.22362052274927396, 0.22362052274927396, 0.2245885769603098, 0.2245885769603098, 0.22749273959341723, 0.22749273959341723, 0.22846079380445306, 0.22846079380445306, 0.23039690222652467, 0.23039690222652467, 0.2313649564375605, 0.2313649564375605, 0.23814133591481124, 0.23814133591481124, 0.23910939012584706, 0.23910939012584706, 0.24878993223620524, 0.24878993223620524, 0.25169409486931266, 0.25169409486931266, 0.2536302032913843, 0.2536302032913843, 0.25556631171345595, 0.25556631171345595, 0.25943852855759925, 0.25943852855759925, 0.26040658276863504, 0.26040658276863504, 0.26137463697967084, 0.26137463697967084, 0.2623426911907067, 0.2623426911907067, 0.2633107454017425, 0.2633107454017425, 0.26427879961277834, 0.26427879961277834, 0.26524685382381413, 0.26524685382381413, 0.2681510164569216, 0.2681510164569216, 0.2739593417231365, 0.2739593417231365, 0.27783155856727976, 0.27783155856727976, 0.28170377541142305, 0.28170377541142305, 0.28267182962245885, 0.28267182962245885, 0.2836398838334947, 0.2836398838334947, 0.28654404646660214, 0.28654404646660214, 0.2884801548886738, 0.2884801548886738, 0.2904162633107454, 0.2904162633107454, 0.2942884801548887, 0.2942884801548887, 0.2952565343659245, 0.2952565343659245, 0.2962245885769603, 0.2962245885769603, 0.2971926427879961, 0.2971926427879961, 0.30300096805421106, 0.30300096805421106, 0.30784123910939015, 0.30784123910939015, 0.3107454017424976, 0.3107454017424976, 0.31268151016456924, 0.31268151016456924, 0.31752178121974833, 0.31752178121974833, 0.31848983543078413, 0.31848983543078413, 0.3213939980638916, 0.3213939980638916, 0.32236205227492737, 0.32236205227492737, 0.32623426911907066, 0.32623426911907066, 0.3291384317521781, 0.3291384317521781, 0.33204259438528555, 0.33204259438528555, 0.3339787028073572, 0.3339787028073572, 0.33494675701839305, 0.33494675701839305, 0.33591481122942884, 0.33591481122942884, 0.34075508228460794, 0.34075508228460794, 0.3436592449177154, 0.3436592449177154, 0.34462729912875123, 0.34462729912875123, 0.345595353339787, 0.345595353339787, 0.3504356243949661, 0.3504356243949661, 0.356243949661181, 0.356243949661181, 0.35818005808325265, 0.35818005808325265, 0.3601161665053243, 0.3601161665053243, 0.36205227492739595, 0.36205227492739595, 0.3639883833494676, 0.3639883833494676, 0.3659244917715392, 0.3659244917715392, 0.3688286544046467, 0.3688286544046467, 0.38044530493707646, 0.38044530493707646, 0.3872216844143272, 0.3872216844143272, 0.38915779283639884, 0.38915779283639884, 0.3959341723136496, 0.3959341723136496, 0.3969022265246854, 0.3969022265246854, 0.3978702807357212, 0.3978702807357212, 0.3998063891577928, 0.3998063891577928, 0.409486931268151, 0.409486931268151, 0.41045498547918685, 0.41045498547918685, 0.41142303969022265, 0.41142303969022265, 0.41239109390125844, 0.41239109390125844, 0.4143272023233301, 0.4143272023233301, 0.4269119070667957, 0.4269119070667957, 0.4298160696999032, 0.4298160696999032, 0.4346563407550823, 0.4346563407550823, 0.43756050338818975, 0.43756050338818975, 0.4491771539206196, 0.4491771539206196, 0.452081316553727, 0.452081316553727, 0.4530493707647628, 0.4530493707647628, 0.45401742497579867, 0.45401742497579867, 0.45982575024201355, 0.45982575024201355, 0.46369796708615685, 0.46369796708615685, 0.4666021297192643, 0.4666021297192643, 0.47337850919651503, 0.47337850919651503, 0.4801548886737657, 0.4801548886737657, 0.48112294288480156, 0.48112294288480156, 0.4849951597289448, 0.4849951597289448, 0.48596321393998065, 0.48596321393998065, 0.4878993223620523, 0.4878993223620523, 0.4975798644724105, 0.4975798644724105, 0.4995159728944821, 0.4995159728944821, 0.5014520813165537, 0.5014520813165537, 0.5043562439496612, 0.5043562439496612, 0.5072604065827686, 0.5072604065827686, 0.5111326234269119, 0.5111326234269119, 0.5188770571151985, 0.5188770571151985, 0.526621490803485, 0.526621490803485, 0.5285575992255567, 0.5285575992255567, 0.5304937076476283, 0.5304937076476283, 0.5314617618586641, 0.5314617618586641, 0.5779283639883833, 0.5779283639883833, 0.5818005808325266, 0.5818005808325266, 0.6340755082284608, 0.6340755082284608, 0.6456921587608906, 0.6456921587608906, 0.6534365924491772, 0.6534365924491772, 0.6679574056147144, 0.6679574056147144, 0.686350435624395, 0.686350435624395, 0.6882865440464666, 0.7173281703775412, 0.7173281703775412, 0.7192642787996127, 0.7192642787996127, 0.7250726040658277, 0.7250726040658277, 0.750242013552759, 0.750242013552759, 0.7512100677637947, 0.7512100677637947, 0.771539206195547, 0.771539206195547, 0.814133591481123, 0.814133591481123, 0.8238141335914811, 0.8238141335914811, 0.8267182962245886, 0.8286544046466602, 0.8528557599225557, 0.8528557599225557, 0.8538238141335914, 0.8557599225556631, 0.9051306873184899, 0.9070667957405615, 0.9593417231364957, 0.9593417231364957, 0.972894482090997, 0.972894482090997, 0.9757986447241046, 0.9757986447241046, 0.9767666989351403, 0.978702807357212, 0.9941916747337851, 0.9961277831558567, 1.0], \"y\": [0.0, 0.00267379679144385, 0.016042780748663103, 0.026737967914438502, 0.045454545454545456, 0.045454545454545456, 0.0481283422459893, 0.0481283422459893, 0.06149732620320856, 0.06149732620320856, 0.06417112299465241, 0.06417112299465241, 0.06684491978609626, 0.06684491978609626, 0.0855614973262032, 0.0855614973262032, 0.0962566844919786, 0.0962566844919786, 0.11764705882352941, 0.11764705882352941, 0.12032085561497326, 0.12032085561497326, 0.13368983957219252, 0.13368983957219252, 0.14171122994652408, 0.14171122994652408, 0.14705882352941177, 0.14705882352941177, 0.1711229946524064, 0.1711229946524064, 0.17647058823529413, 0.17647058823529413, 0.1925133689839572, 0.1925133689839572, 0.20855614973262032, 0.20855614973262032, 0.21390374331550802, 0.21390374331550802, 0.21657754010695188, 0.21657754010695188, 0.2192513368983957, 0.2192513368983957, 0.22459893048128343, 0.22459893048128343, 0.22727272727272727, 0.22727272727272727, 0.22994652406417113, 0.22994652406417113, 0.232620320855615, 0.232620320855615, 0.24598930481283424, 0.24598930481283424, 0.25668449197860965, 0.25668449197860965, 0.2620320855614973, 0.2620320855614973, 0.2647058823529412, 0.2647058823529412, 0.2700534759358289, 0.2700534759358289, 0.27540106951871657, 0.27540106951871657, 0.28342245989304815, 0.28342245989304815, 0.28609625668449196, 0.28609625668449196, 0.2994652406417112, 0.2994652406417112, 0.3048128342245989, 0.3048128342245989, 0.31016042780748665, 0.31016042780748665, 0.31283422459893045, 0.31283422459893045, 0.3181818181818182, 0.3181818181818182, 0.32085561497326204, 0.32085561497326204, 0.3315508021390374, 0.3315508021390374, 0.3449197860962567, 0.3449197860962567, 0.35561497326203206, 0.35561497326203206, 0.3689839572192513, 0.3689839572192513, 0.3716577540106952, 0.3716577540106952, 0.37967914438502676, 0.37967914438502676, 0.38235294117647056, 0.38235294117647056, 0.3850267379679144, 0.3850267379679144, 0.39037433155080214, 0.39037433155080214, 0.40106951871657753, 0.40106951871657753, 0.40641711229946526, 0.40641711229946526, 0.4144385026737968, 0.4144385026737968, 0.4197860962566845, 0.4197860962566845, 0.42245989304812837, 0.42245989304812837, 0.42513368983957217, 0.42513368983957217, 0.4304812834224599, 0.4304812834224599, 0.43315508021390375, 0.43315508021390375, 0.4358288770053476, 0.4358288770053476, 0.4385026737967914, 0.4385026737967914, 0.4411764705882353, 0.4411764705882353, 0.44385026737967914, 0.44385026737967914, 0.45454545454545453, 0.45454545454545453, 0.4572192513368984, 0.4572192513368984, 0.45989304812834225, 0.45989304812834225, 0.4625668449197861, 0.4625668449197861, 0.46524064171123, 0.46524064171123, 0.4679144385026738, 0.4679144385026738, 0.47058823529411764, 0.47058823529411764, 0.4786096256684492, 0.4786096256684492, 0.48128342245989303, 0.48128342245989303, 0.4839572192513369, 0.4839572192513369, 0.48663101604278075, 0.48663101604278075, 0.4919786096256685, 0.4919786096256685, 0.4946524064171123, 0.4946524064171123, 0.49732620320855614, 0.49732620320855614, 0.5026737967914439, 0.5026737967914439, 0.5053475935828877, 0.5053475935828877, 0.5106951871657754, 0.5106951871657754, 0.5133689839572193, 0.5133689839572193, 0.516042780748663, 0.516042780748663, 0.5187165775401069, 0.5187165775401069, 0.5213903743315508, 0.5213903743315508, 0.5240641711229946, 0.5240641711229946, 0.5267379679144385, 0.5267379679144385, 0.5294117647058824, 0.5294117647058824, 0.5347593582887701, 0.5347593582887701, 0.5401069518716578, 0.5401069518716578, 0.5427807486631016, 0.5427807486631016, 0.5454545454545454, 0.5454545454545454, 0.5508021390374331, 0.5508021390374331, 0.5614973262032086, 0.5614973262032086, 0.5721925133689839, 0.5721925133689839, 0.5775401069518716, 0.5775401069518716, 0.5802139037433155, 0.5802139037433155, 0.5828877005347594, 0.5828877005347594, 0.5935828877005348, 0.5935828877005348, 0.5962566844919787, 0.5962566844919787, 0.6016042780748663, 0.6016042780748663, 0.6042780748663101, 0.6042780748663101, 0.606951871657754, 0.606951871657754, 0.6149732620320856, 0.6149732620320856, 0.6176470588235294, 0.6176470588235294, 0.6203208556149733, 0.6203208556149733, 0.6229946524064172, 0.6229946524064172, 0.6256684491978609, 0.6256684491978609, 0.6283422459893048, 0.6283422459893048, 0.6336898395721925, 0.6336898395721925, 0.6390374331550802, 0.6390374331550802, 0.6497326203208557, 0.6497326203208557, 0.6524064171122995, 0.6524064171122995, 0.6550802139037433, 0.6550802139037433, 0.6577540106951871, 0.6577540106951871, 0.660427807486631, 0.660427807486631, 0.6631016042780749, 0.6631016042780749, 0.6657754010695187, 0.6657754010695187, 0.6684491978609626, 0.6684491978609626, 0.6711229946524064, 0.6711229946524064, 0.6737967914438503, 0.6737967914438503, 0.679144385026738, 0.679144385026738, 0.6818181818181818, 0.6818181818181818, 0.6844919786096256, 0.6844919786096256, 0.6951871657754011, 0.6951871657754011, 0.6978609625668449, 0.6978609625668449, 0.7032085561497327, 0.7032085561497327, 0.7058823529411765, 0.7058823529411765, 0.7085561497326203, 0.7085561497326203, 0.7112299465240641, 0.7112299465240641, 0.713903743315508, 0.713903743315508, 0.7165775401069518, 0.7165775401069518, 0.7192513368983957, 0.7192513368983957, 0.7245989304812834, 0.7245989304812834, 0.7299465240641712, 0.7299465240641712, 0.732620320855615, 0.732620320855615, 0.7352941176470589, 0.7352941176470589, 0.7406417112299465, 0.7406417112299465, 0.7459893048128342, 0.7459893048128342, 0.7486631016042781, 0.7486631016042781, 0.7566844919786097, 0.7566844919786097, 0.7620320855614974, 0.7620320855614974, 0.7647058823529411, 0.7647058823529411, 0.767379679144385, 0.767379679144385, 0.7700534759358288, 0.7700534759358288, 0.7727272727272727, 0.7727272727272727, 0.7754010695187166, 0.7754010695187166, 0.7780748663101604, 0.7780748663101604, 0.7834224598930482, 0.7834224598930482, 0.786096256684492, 0.786096256684492, 0.7887700534759359, 0.7887700534759359, 0.7914438502673797, 0.7914438502673797, 0.7967914438502673, 0.7967914438502673, 0.8021390374331551, 0.8021390374331551, 0.8048128342245989, 0.8048128342245989, 0.8074866310160428, 0.8074866310160428, 0.8101604278074866, 0.8101604278074866, 0.8128342245989305, 0.8128342245989305, 0.8155080213903744, 0.8155080213903744, 0.820855614973262, 0.820855614973262, 0.8235294117647058, 0.8235294117647058, 0.8262032085561497, 0.8262032085561497, 0.8288770053475936, 0.8288770053475936, 0.8315508021390374, 0.8315508021390374, 0.8342245989304813, 0.8342245989304813, 0.8368983957219251, 0.8368983957219251, 0.839572192513369, 0.839572192513369, 0.8449197860962567, 0.8449197860962567, 0.8475935828877005, 0.8475935828877005, 0.8502673796791443, 0.8502673796791443, 0.8529411764705882, 0.8529411764705882, 0.8556149732620321, 0.8556149732620321, 0.8582887700534759, 0.8582887700534759, 0.8636363636363636, 0.8636363636363636, 0.8663101604278075, 0.8663101604278075, 0.8716577540106952, 0.8716577540106952, 0.8743315508021391, 0.8743315508021391, 0.8770053475935828, 0.8770053475935828, 0.8796791443850267, 0.8796791443850267, 0.8823529411764706, 0.8823529411764706, 0.8850267379679144, 0.8850267379679144, 0.8877005347593583, 0.8877005347593583, 0.8903743315508021, 0.8903743315508021, 0.893048128342246, 0.893048128342246, 0.8983957219251337, 0.8983957219251337, 0.9010695187165776, 0.9010695187165776, 0.9037433155080213, 0.9037433155080213, 0.9064171122994652, 0.9064171122994652, 0.9090909090909091, 0.9090909090909091, 0.9117647058823529, 0.9117647058823529, 0.9144385026737968, 0.9144385026737968, 0.9171122994652406, 0.9171122994652406, 0.9197860962566845, 0.9197860962566845, 0.9224598930481284, 0.9224598930481284, 0.9251336898395722, 0.9251336898395722, 0.9278074866310161, 0.9278074866310161, 0.93048128342246, 0.93048128342246, 0.9331550802139037, 0.9331550802139037, 0.9385026737967914, 0.9385026737967914, 0.9411764705882353, 0.9411764705882353, 0.9438502673796791, 0.9438502673796791, 0.946524064171123, 0.946524064171123, 0.9491978609625669, 0.9491978609625669, 0.9518716577540107, 0.9518716577540107, 0.9545454545454546, 0.9545454545454546, 0.9572192513368984, 0.9572192513368984, 0.9598930481283422, 0.9598930481283422, 0.9652406417112299, 0.9652406417112299, 0.9679144385026738, 0.9679144385026738, 0.9679144385026738, 0.9705882352941176, 0.9705882352941176, 0.9732620320855615, 0.9732620320855615, 0.9759358288770054, 0.9759358288770054, 0.9786096256684492, 0.9786096256684492, 0.9812834224598931, 0.9812834224598931, 0.983957219251337, 0.983957219251337, 0.9866310160427807, 0.9866310160427807, 0.9893048128342246, 0.9893048128342246, 0.9893048128342246, 0.9893048128342246, 0.9919786096256684, 0.9919786096256684, 0.9919786096256684, 0.9919786096256684, 0.9919786096256684, 0.9919786096256684, 0.9946524064171123, 0.9946524064171123, 0.9973262032085561, 0.9973262032085561, 1.0, 1.0, 1.0, 1.0, 1.0, 1.0]}, {\"mode\": \"lines\", \"name\": \"XGB\", \"type\": \"scatter\", \"x\": [0.0, 0.0, 0.0, 0.002904162633107454, 0.002904162633107454, 0.003872216844143272, 0.003872216844143272, 0.00484027105517909, 0.00484027105517909, 0.005808325266214908, 0.005808325266214908, 0.007744433688286544, 0.007744433688286544, 0.00968054211035818, 0.00968054211035818, 0.010648596321393998, 0.010648596321393998, 0.011616650532429816, 0.011616650532429816, 0.012584704743465635, 0.012584704743465635, 0.013552758954501452, 0.013552758954501452, 0.01452081316553727, 0.01452081316553727, 0.015488867376573089, 0.015488867376573089, 0.016456921587608905, 0.016456921587608905, 0.01936108422071636, 0.01936108422071636, 0.023233301064859633, 0.023233301064859633, 0.02420135527589545, 0.02420135527589545, 0.026137463697967087, 0.026137463697967087, 0.027105517909002903, 0.027105517909002903, 0.030009680542110357, 0.030009680542110357, 0.031945788964181994, 0.031945788964181994, 0.03291384317521781, 0.03291384317521781, 0.03388189738625363, 0.03388189738625363, 0.03484995159728945, 0.03484995159728945, 0.03581800580832527, 0.03581800580832527, 0.03969022265246854, 0.03969022265246854, 0.04065827686350436, 0.04065827686350436, 0.041626331074540175, 0.041626331074540175, 0.04549854791868345, 0.04549854791868345, 0.046466602129719266, 0.046466602129719266, 0.04743465634075508, 0.04743465634075508, 0.05033881897386254, 0.05033881897386254, 0.05227492739593417, 0.05227492739593417, 0.05324298160696999, 0.05324298160696999, 0.05614714424007745, 0.05614714424007745, 0.057115198451113264, 0.057115198451113264, 0.05808325266214908, 0.05808325266214908, 0.0590513068731849, 0.0590513068731849, 0.060019361084220714, 0.060019361084220714, 0.06582768635043562, 0.06582768635043562, 0.06873184898354308, 0.06873184898354308, 0.07066795740561471, 0.07066795740561471, 0.07260406582768635, 0.07260406582768635, 0.07841239109390126, 0.07841239109390126, 0.07938044530493708, 0.07938044530493708, 0.0803484995159729, 0.0803484995159729, 0.08131655372700872, 0.08131655372700872, 0.08615682478218781, 0.08615682478218781, 0.08809293320425944, 0.08809293320425944, 0.08906098741529525, 0.08906098741529525, 0.09002904162633107, 0.09002904162633107, 0.0968054211035818, 0.0968054211035818, 0.09777347531461762, 0.09777347531461762, 0.09874152952565343, 0.09874152952565343, 0.10067763794772508, 0.10067763794772508, 0.10164569215876089, 0.10164569215876089, 0.10261374636979671, 0.10261374636979671, 0.10454985479186835, 0.10454985479186835, 0.10648596321393998, 0.10648596321393998, 0.1074540174249758, 0.1074540174249758, 0.10842207163601161, 0.10842207163601161, 0.1132623426911907, 0.1132623426911907, 0.11519845111326234, 0.11519845111326234, 0.1181026137463698, 0.1181026137463698, 0.11907066795740562, 0.11907066795740562, 0.12003872216844143, 0.12003872216844143, 0.12391093901258471, 0.12391093901258471, 0.12681510164569215, 0.12681510164569215, 0.13165537270087124, 0.13165537270087124, 0.1345595353339787, 0.1345595353339787, 0.1355275895450145, 0.1355275895450145, 0.13649564375605033, 0.13649564375605033, 0.13746369796708616, 0.13746369796708616, 0.1393998063891578, 0.1393998063891578, 0.1403678606001936, 0.1403678606001936, 0.1452081316553727, 0.1452081316553727, 0.14617618586640851, 0.14617618586640851, 0.14811229428848016, 0.14811229428848016, 0.14908034849951599, 0.14908034849951599, 0.1510164569215876, 0.1510164569215876, 0.15392061955469508, 0.15392061955469508, 0.15488867376573087, 0.15488867376573087, 0.1558567279767667, 0.1558567279767667, 0.15779283639883834, 0.15779283639883834, 0.1616650532429816, 0.1616650532429816, 0.16360116166505323, 0.16360116166505323, 0.16456921587608905, 0.16456921587608905, 0.16844143272023232, 0.16844143272023232, 0.17618586640851888, 0.17618586640851888, 0.18005808325266215, 0.18005808325266215, 0.1829622458857696, 0.1829622458857696, 0.18489835430784124, 0.18489835430784124, 0.18586640851887706, 0.18586640851887706, 0.1868344627299129, 0.1868344627299129, 0.1887705711519845, 0.1887705711519845, 0.19167473378509198, 0.19167473378509198, 0.1936108422071636, 0.1936108422071636, 0.19651500484027107, 0.19651500484027107, 0.1984511132623427, 0.1984511132623427, 0.1994191674733785, 0.1994191674733785, 0.20038722168441434, 0.20038722168441434, 0.20232333010648595, 0.20232333010648595, 0.20329138431752178, 0.20329138431752178, 0.20619554695062922, 0.20619554695062922, 0.20813165537270087, 0.20813165537270087, 0.2110358180058083, 0.2110358180058083, 0.21200387221684414, 0.21200387221684414, 0.22168441432720232, 0.22168441432720232, 0.22265246853823814, 0.22265246853823814, 0.22362052274927396, 0.22362052274927396, 0.22749273959341723, 0.22749273959341723, 0.23233301064859632, 0.23233301064859632, 0.23523717328170377, 0.23523717328170377, 0.23910939012584706, 0.23910939012584706, 0.24104549854791868, 0.24104549854791868, 0.24491771539206195, 0.24491771539206195, 0.24782187802516942, 0.24782187802516942, 0.24975798644724104, 0.24975798644724104, 0.25072604065827686, 0.25072604065827686, 0.2536302032913843, 0.2536302032913843, 0.2584704743465634, 0.2584704743465634, 0.26137463697967084, 0.26137463697967084, 0.2633107454017425, 0.2633107454017425, 0.26524685382381413, 0.26524685382381413, 0.26621490803484993, 0.26621490803484993, 0.2671829622458858, 0.2671829622458858, 0.2691190706679574, 0.2691190706679574, 0.271055179090029, 0.271055179090029, 0.2739593417231365, 0.2739593417231365, 0.2749273959341723, 0.2749273959341723, 0.2787996127783156, 0.2787996127783156, 0.2797676669893514, 0.2797676669893514, 0.2807357212003872, 0.2807357212003872, 0.28267182962245885, 0.28267182962245885, 0.2846079380445305, 0.2846079380445305, 0.30009680542110356, 0.30009680542110356, 0.30300096805421106, 0.30300096805421106, 0.30396902226524686, 0.30396902226524686, 0.30880929332042595, 0.30880929332042595, 0.3155856727976767, 0.3155856727976767, 0.3165537270087125, 0.3165537270087125, 0.3194578896418199, 0.3194578896418199, 0.3233301064859632, 0.3233301064859632, 0.324298160696999, 0.324298160696999, 0.32526621490803487, 0.32526621490803487, 0.33010648596321396, 0.33010648596321396, 0.3330106485963214, 0.3330106485963214, 0.3378509196515005, 0.3378509196515005, 0.3514036786060019, 0.3514036786060019, 0.35237173281703776, 0.35237173281703776, 0.35333978702807356, 0.35333978702807356, 0.35721200387221685, 0.35721200387221685, 0.3610842207163601, 0.3610842207163601, 0.3649564375605034, 0.3649564375605034, 0.3659244917715392, 0.3659244917715392, 0.36786060019361083, 0.36786060019361083, 0.3688286544046467, 0.3688286544046467, 0.3697967086156825, 0.3697967086156825, 0.3736689254598258, 0.3736689254598258, 0.3765730880929332, 0.3765730880929332, 0.38431752178121975, 0.38431752178121975, 0.3862536302032914, 0.3862536302032914, 0.3872216844143272, 0.3872216844143272, 0.3959341723136496, 0.3959341723136496, 0.40561471442400776, 0.40561471442400776, 0.4075508228460794, 0.4075508228460794, 0.42013552758954503, 0.42013552758954503, 0.4220716360116166, 0.4220716360116166, 0.4230396902226525, 0.4230396902226525, 0.4259438528557599, 0.4259438528557599, 0.42884801548886736, 0.42884801548886736, 0.43756050338818975, 0.43756050338818975, 0.4666021297192643, 0.4666021297192643, 0.4714424007744434, 0.4714424007744434, 0.47337850919651503, 0.47337850919651503, 0.4762826718296225, 0.4762826718296225, 0.4830590513068732, 0.4830590513068732, 0.48596321393998065, 0.48596321393998065, 0.48693126815101645, 0.48693126815101645, 0.49661181026137463, 0.49661181026137463, 0.5024201355275896, 0.5024201355275896, 0.5072604065827686, 0.5072604065827686, 0.5082284607938045, 0.5082284607938045, 0.5111326234269119, 0.5111326234269119, 0.515972894482091, 0.515972894482091, 0.5217812197483059, 0.5217812197483059, 0.5246853823814134, 0.5246853823814134, 0.5275895450145208, 0.5275895450145208, 0.5614714424007744, 0.5614714424007744, 0.5730880929332043, 0.5730880929332043, 0.5750242013552759, 0.5750242013552759, 0.5759922555663117, 0.5759922555663117, 0.5963213939980639, 0.5963213939980639, 0.6089060987415296, 0.6089060987415296, 0.6195546950629235, 0.6195546950629235, 0.6408518877057116, 0.6408518877057116, 0.6553727008712488, 0.6553727008712488, 0.686350435624395, 0.686350435624395, 0.707647628267183, 0.707647628267183, 0.7289448209099709, 0.7289448209099709, 0.7299128751210068, 0.7299128751210068, 0.7947725072604066, 0.7947725072604066, 0.7967086156824782, 0.7967086156824782, 0.8112294288480155, 0.8112294288480155, 0.8557599225556631, 0.8557599225556631, 1.0], \"y\": [0.0, 0.00267379679144385, 0.0053475935828877, 0.0053475935828877, 0.01871657754010695, 0.01871657754010695, 0.0213903743315508, 0.0213903743315508, 0.05080213903743316, 0.05080213903743316, 0.07219251336898395, 0.07219251336898395, 0.0748663101604278, 0.0748663101604278, 0.07754010695187166, 0.07754010695187166, 0.11229946524064172, 0.11229946524064172, 0.13101604278074866, 0.13101604278074866, 0.13368983957219252, 0.13368983957219252, 0.13636363636363635, 0.13636363636363635, 0.16310160427807488, 0.16310160427807488, 0.17379679144385027, 0.17379679144385027, 0.17914438502673796, 0.17914438502673796, 0.18983957219251338, 0.18983957219251338, 0.20053475935828877, 0.20053475935828877, 0.20320855614973263, 0.20320855614973263, 0.20588235294117646, 0.20588235294117646, 0.20855614973262032, 0.20855614973262032, 0.232620320855615, 0.232620320855615, 0.23529411764705882, 0.23529411764705882, 0.23796791443850268, 0.23796791443850268, 0.24064171122994651, 0.24064171122994651, 0.25133689839572193, 0.25133689839572193, 0.25668449197860965, 0.25668449197860965, 0.25935828877005346, 0.25935828877005346, 0.2620320855614973, 0.2620320855614973, 0.26737967914438504, 0.26737967914438504, 0.2700534759358289, 0.2700534759358289, 0.27807486631016043, 0.27807486631016043, 0.28609625668449196, 0.28609625668449196, 0.29411764705882354, 0.29411764705882354, 0.30213903743315507, 0.30213903743315507, 0.3048128342245989, 0.3048128342245989, 0.3074866310160428, 0.3074866310160428, 0.31016042780748665, 0.31016042780748665, 0.3181818181818182, 0.3181818181818182, 0.32085561497326204, 0.32085561497326204, 0.3422459893048128, 0.3422459893048128, 0.35561497326203206, 0.35561497326203206, 0.36363636363636365, 0.36363636363636365, 0.37433155080213903, 0.37433155080213903, 0.39572192513368987, 0.39572192513368987, 0.3983957219251337, 0.3983957219251337, 0.40106951871657753, 0.40106951871657753, 0.40641711229946526, 0.40641711229946526, 0.4090909090909091, 0.4090909090909091, 0.4304812834224599, 0.4304812834224599, 0.43315508021390375, 0.43315508021390375, 0.4411764705882353, 0.4411764705882353, 0.44385026737967914, 0.44385026737967914, 0.446524064171123, 0.446524064171123, 0.44919786096256686, 0.44919786096256686, 0.45187165775401067, 0.45187165775401067, 0.45454545454545453, 0.45454545454545453, 0.4572192513368984, 0.4572192513368984, 0.45989304812834225, 0.45989304812834225, 0.47593582887700536, 0.47593582887700536, 0.4786096256684492, 0.4786096256684492, 0.48128342245989303, 0.48128342245989303, 0.48663101604278075, 0.48663101604278075, 0.4893048128342246, 0.4893048128342246, 0.4946524064171123, 0.4946524064171123, 0.49732620320855614, 0.49732620320855614, 0.5, 0.5, 0.5053475935828877, 0.5053475935828877, 0.5106951871657754, 0.5106951871657754, 0.5187165775401069, 0.5187165775401069, 0.5294117647058824, 0.5294117647058824, 0.5320855614973262, 0.5320855614973262, 0.5347593582887701, 0.5347593582887701, 0.5374331550802139, 0.5374331550802139, 0.5401069518716578, 0.5401069518716578, 0.5427807486631016, 0.5427807486631016, 0.5454545454545454, 0.5454545454545454, 0.5481283422459893, 0.5481283422459893, 0.5508021390374331, 0.5508021390374331, 0.553475935828877, 0.553475935828877, 0.5588235294117647, 0.5588235294117647, 0.5641711229946524, 0.5641711229946524, 0.5668449197860963, 0.5668449197860963, 0.56951871657754, 0.56951871657754, 0.5748663101604278, 0.5748663101604278, 0.5802139037433155, 0.5802139037433155, 0.5828877005347594, 0.5828877005347594, 0.5909090909090909, 0.5909090909090909, 0.5962566844919787, 0.5962566844919787, 0.5989304812834224, 0.5989304812834224, 0.6042780748663101, 0.6042780748663101, 0.606951871657754, 0.606951871657754, 0.6149732620320856, 0.6149732620320856, 0.6203208556149733, 0.6203208556149733, 0.6229946524064172, 0.6229946524064172, 0.6256684491978609, 0.6256684491978609, 0.6283422459893048, 0.6283422459893048, 0.6336898395721925, 0.6336898395721925, 0.6363636363636364, 0.6363636363636364, 0.6390374331550802, 0.6390374331550802, 0.6443850267379679, 0.6443850267379679, 0.6470588235294118, 0.6470588235294118, 0.6524064171122995, 0.6524064171122995, 0.6550802139037433, 0.6550802139037433, 0.6577540106951871, 0.6577540106951871, 0.6631016042780749, 0.6631016042780749, 0.6737967914438503, 0.6737967914438503, 0.679144385026738, 0.679144385026738, 0.6818181818181818, 0.6818181818181818, 0.6844919786096256, 0.6844919786096256, 0.6871657754010695, 0.6871657754010695, 0.6951871657754011, 0.6951871657754011, 0.7005347593582888, 0.7005347593582888, 0.7032085561497327, 0.7032085561497327, 0.7058823529411765, 0.7058823529411765, 0.7085561497326203, 0.7085561497326203, 0.7112299465240641, 0.7112299465240641, 0.7192513368983957, 0.7192513368983957, 0.7219251336898396, 0.7219251336898396, 0.7245989304812834, 0.7245989304812834, 0.7272727272727273, 0.7272727272727273, 0.7299465240641712, 0.7299465240641712, 0.732620320855615, 0.732620320855615, 0.7352941176470589, 0.7352941176470589, 0.7379679144385026, 0.7379679144385026, 0.7406417112299465, 0.7406417112299465, 0.7433155080213903, 0.7433155080213903, 0.7459893048128342, 0.7459893048128342, 0.7486631016042781, 0.7486631016042781, 0.7513368983957219, 0.7513368983957219, 0.7540106951871658, 0.7540106951871658, 0.7566844919786097, 0.7566844919786097, 0.7593582887700535, 0.7593582887700535, 0.7620320855614974, 0.7620320855614974, 0.7647058823529411, 0.7647058823529411, 0.767379679144385, 0.767379679144385, 0.7700534759358288, 0.7700534759358288, 0.7727272727272727, 0.7727272727272727, 0.7754010695187166, 0.7754010695187166, 0.7780748663101604, 0.7780748663101604, 0.7834224598930482, 0.7834224598930482, 0.7887700534759359, 0.7887700534759359, 0.7914438502673797, 0.7914438502673797, 0.7941176470588235, 0.7941176470588235, 0.7967914438502673, 0.7967914438502673, 0.8021390374331551, 0.8021390374331551, 0.8048128342245989, 0.8048128342245989, 0.8074866310160428, 0.8074866310160428, 0.8101604278074866, 0.8101604278074866, 0.8128342245989305, 0.8128342245989305, 0.8155080213903744, 0.8155080213903744, 0.8262032085561497, 0.8262032085561497, 0.8315508021390374, 0.8315508021390374, 0.8342245989304813, 0.8342245989304813, 0.8368983957219251, 0.8368983957219251, 0.839572192513369, 0.839572192513369, 0.8422459893048129, 0.8422459893048129, 0.8475935828877005, 0.8475935828877005, 0.8502673796791443, 0.8502673796791443, 0.8582887700534759, 0.8582887700534759, 0.8609625668449198, 0.8609625668449198, 0.8663101604278075, 0.8663101604278075, 0.8689839572192514, 0.8689839572192514, 0.8716577540106952, 0.8716577540106952, 0.8770053475935828, 0.8770053475935828, 0.8823529411764706, 0.8823529411764706, 0.8850267379679144, 0.8850267379679144, 0.8877005347593583, 0.8877005347593583, 0.8903743315508021, 0.8903743315508021, 0.893048128342246, 0.893048128342246, 0.8983957219251337, 0.8983957219251337, 0.9010695187165776, 0.9010695187165776, 0.9037433155080213, 0.9037433155080213, 0.9064171122994652, 0.9064171122994652, 0.9090909090909091, 0.9090909090909091, 0.9117647058823529, 0.9117647058823529, 0.9144385026737968, 0.9144385026737968, 0.9171122994652406, 0.9171122994652406, 0.9224598930481284, 0.9224598930481284, 0.9251336898395722, 0.9251336898395722, 0.9278074866310161, 0.9278074866310161, 0.93048128342246, 0.93048128342246, 0.9331550802139037, 0.9331550802139037, 0.9358288770053476, 0.9358288770053476, 0.9411764705882353, 0.9411764705882353, 0.9438502673796791, 0.9438502673796791, 0.946524064171123, 0.946524064171123, 0.9491978609625669, 0.9491978609625669, 0.9518716577540107, 0.9518716577540107, 0.9545454545454546, 0.9545454545454546, 0.9572192513368984, 0.9572192513368984, 0.9598930481283422, 0.9598930481283422, 0.9625668449197861, 0.9625668449197861, 0.9652406417112299, 0.9652406417112299, 0.9679144385026738, 0.9679144385026738, 0.9705882352941176, 0.9705882352941176, 0.9732620320855615, 0.9732620320855615, 0.9759358288770054, 0.9759358288770054, 0.9786096256684492, 0.9786096256684492, 0.9812834224598931, 0.9812834224598931, 0.983957219251337, 0.983957219251337, 0.9866310160427807, 0.9866310160427807, 0.9893048128342246, 0.9893048128342246, 0.9919786096256684, 0.9919786096256684, 0.9946524064171123, 0.9946524064171123, 0.9973262032085561, 0.9973262032085561, 1.0, 1.0]}],\n",
              "                        {\"height\": 500, \"template\": {\"data\": {\"bar\": [{\"error_x\": {\"color\": \"#2a3f5f\"}, \"error_y\": {\"color\": \"#2a3f5f\"}, \"marker\": {\"line\": {\"color\": \"#E5ECF6\", \"width\": 0.5}}, \"type\": \"bar\"}], \"barpolar\": [{\"marker\": {\"line\": {\"color\": \"#E5ECF6\", \"width\": 0.5}}, \"type\": \"barpolar\"}], \"carpet\": [{\"aaxis\": {\"endlinecolor\": \"#2a3f5f\", \"gridcolor\": \"white\", \"linecolor\": \"white\", \"minorgridcolor\": \"white\", \"startlinecolor\": \"#2a3f5f\"}, \"baxis\": {\"endlinecolor\": \"#2a3f5f\", \"gridcolor\": \"white\", \"linecolor\": \"white\", \"minorgridcolor\": \"white\", \"startlinecolor\": \"#2a3f5f\"}, \"type\": \"carpet\"}], \"choropleth\": [{\"colorbar\": {\"outlinewidth\": 0, \"ticks\": \"\"}, \"type\": \"choropleth\"}], \"contour\": [{\"colorbar\": {\"outlinewidth\": 0, \"ticks\": \"\"}, \"colorscale\": [[0.0, \"#0d0887\"], [0.1111111111111111, \"#46039f\"], [0.2222222222222222, \"#7201a8\"], [0.3333333333333333, \"#9c179e\"], [0.4444444444444444, \"#bd3786\"], [0.5555555555555556, \"#d8576b\"], [0.6666666666666666, \"#ed7953\"], [0.7777777777777778, \"#fb9f3a\"], [0.8888888888888888, \"#fdca26\"], [1.0, \"#f0f921\"]], \"type\": \"contour\"}], \"contourcarpet\": [{\"colorbar\": {\"outlinewidth\": 0, \"ticks\": \"\"}, \"type\": \"contourcarpet\"}], \"heatmap\": [{\"colorbar\": {\"outlinewidth\": 0, \"ticks\": \"\"}, \"colorscale\": [[0.0, \"#0d0887\"], [0.1111111111111111, \"#46039f\"], [0.2222222222222222, \"#7201a8\"], [0.3333333333333333, \"#9c179e\"], [0.4444444444444444, \"#bd3786\"], [0.5555555555555556, \"#d8576b\"], [0.6666666666666666, \"#ed7953\"], [0.7777777777777778, \"#fb9f3a\"], [0.8888888888888888, \"#fdca26\"], [1.0, \"#f0f921\"]], \"type\": \"heatmap\"}], \"heatmapgl\": [{\"colorbar\": {\"outlinewidth\": 0, \"ticks\": \"\"}, \"colorscale\": [[0.0, \"#0d0887\"], [0.1111111111111111, \"#46039f\"], [0.2222222222222222, \"#7201a8\"], [0.3333333333333333, \"#9c179e\"], [0.4444444444444444, \"#bd3786\"], [0.5555555555555556, \"#d8576b\"], [0.6666666666666666, \"#ed7953\"], [0.7777777777777778, \"#fb9f3a\"], [0.8888888888888888, \"#fdca26\"], [1.0, \"#f0f921\"]], \"type\": \"heatmapgl\"}], \"histogram\": [{\"marker\": {\"colorbar\": {\"outlinewidth\": 0, \"ticks\": \"\"}}, \"type\": \"histogram\"}], \"histogram2d\": [{\"colorbar\": {\"outlinewidth\": 0, \"ticks\": \"\"}, \"colorscale\": [[0.0, \"#0d0887\"], [0.1111111111111111, \"#46039f\"], [0.2222222222222222, \"#7201a8\"], [0.3333333333333333, \"#9c179e\"], [0.4444444444444444, \"#bd3786\"], [0.5555555555555556, \"#d8576b\"], [0.6666666666666666, \"#ed7953\"], [0.7777777777777778, \"#fb9f3a\"], [0.8888888888888888, \"#fdca26\"], [1.0, \"#f0f921\"]], \"type\": \"histogram2d\"}], \"histogram2dcontour\": [{\"colorbar\": {\"outlinewidth\": 0, \"ticks\": \"\"}, \"colorscale\": [[0.0, \"#0d0887\"], [0.1111111111111111, \"#46039f\"], [0.2222222222222222, \"#7201a8\"], [0.3333333333333333, \"#9c179e\"], [0.4444444444444444, \"#bd3786\"], [0.5555555555555556, \"#d8576b\"], [0.6666666666666666, \"#ed7953\"], [0.7777777777777778, \"#fb9f3a\"], [0.8888888888888888, \"#fdca26\"], [1.0, \"#f0f921\"]], \"type\": \"histogram2dcontour\"}], \"mesh3d\": [{\"colorbar\": {\"outlinewidth\": 0, \"ticks\": \"\"}, \"type\": \"mesh3d\"}], \"parcoords\": [{\"line\": {\"colorbar\": {\"outlinewidth\": 0, \"ticks\": \"\"}}, \"type\": \"parcoords\"}], \"pie\": [{\"automargin\": true, \"type\": \"pie\"}], \"scatter\": [{\"marker\": {\"colorbar\": {\"outlinewidth\": 0, \"ticks\": \"\"}}, \"type\": \"scatter\"}], \"scatter3d\": [{\"line\": {\"colorbar\": {\"outlinewidth\": 0, \"ticks\": \"\"}}, \"marker\": {\"colorbar\": {\"outlinewidth\": 0, \"ticks\": \"\"}}, \"type\": \"scatter3d\"}], \"scattercarpet\": [{\"marker\": {\"colorbar\": {\"outlinewidth\": 0, \"ticks\": \"\"}}, \"type\": \"scattercarpet\"}], \"scattergeo\": [{\"marker\": {\"colorbar\": {\"outlinewidth\": 0, \"ticks\": \"\"}}, \"type\": \"scattergeo\"}], \"scattergl\": [{\"marker\": {\"colorbar\": {\"outlinewidth\": 0, \"ticks\": \"\"}}, \"type\": \"scattergl\"}], \"scattermapbox\": [{\"marker\": {\"colorbar\": {\"outlinewidth\": 0, \"ticks\": \"\"}}, \"type\": \"scattermapbox\"}], \"scatterpolar\": [{\"marker\": {\"colorbar\": {\"outlinewidth\": 0, \"ticks\": \"\"}}, \"type\": \"scatterpolar\"}], \"scatterpolargl\": [{\"marker\": {\"colorbar\": {\"outlinewidth\": 0, \"ticks\": \"\"}}, \"type\": \"scatterpolargl\"}], \"scatterternary\": [{\"marker\": {\"colorbar\": {\"outlinewidth\": 0, \"ticks\": \"\"}}, \"type\": \"scatterternary\"}], \"surface\": [{\"colorbar\": {\"outlinewidth\": 0, \"ticks\": \"\"}, \"colorscale\": [[0.0, \"#0d0887\"], [0.1111111111111111, \"#46039f\"], [0.2222222222222222, \"#7201a8\"], [0.3333333333333333, \"#9c179e\"], [0.4444444444444444, \"#bd3786\"], [0.5555555555555556, \"#d8576b\"], [0.6666666666666666, \"#ed7953\"], [0.7777777777777778, \"#fb9f3a\"], [0.8888888888888888, \"#fdca26\"], [1.0, \"#f0f921\"]], \"type\": \"surface\"}], \"table\": [{\"cells\": {\"fill\": {\"color\": \"#EBF0F8\"}, \"line\": {\"color\": \"white\"}}, \"header\": {\"fill\": {\"color\": \"#C8D4E3\"}, \"line\": {\"color\": \"white\"}}, \"type\": \"table\"}]}, \"layout\": {\"annotationdefaults\": {\"arrowcolor\": \"#2a3f5f\", \"arrowhead\": 0, \"arrowwidth\": 1}, \"coloraxis\": {\"colorbar\": {\"outlinewidth\": 0, \"ticks\": \"\"}}, \"colorscale\": {\"diverging\": [[0, \"#8e0152\"], [0.1, \"#c51b7d\"], [0.2, \"#de77ae\"], [0.3, \"#f1b6da\"], [0.4, \"#fde0ef\"], [0.5, \"#f7f7f7\"], [0.6, \"#e6f5d0\"], [0.7, \"#b8e186\"], [0.8, \"#7fbc41\"], [0.9, \"#4d9221\"], [1, \"#276419\"]], \"sequential\": [[0.0, \"#0d0887\"], [0.1111111111111111, \"#46039f\"], [0.2222222222222222, \"#7201a8\"], [0.3333333333333333, \"#9c179e\"], [0.4444444444444444, \"#bd3786\"], [0.5555555555555556, \"#d8576b\"], [0.6666666666666666, \"#ed7953\"], [0.7777777777777778, \"#fb9f3a\"], [0.8888888888888888, \"#fdca26\"], [1.0, \"#f0f921\"]], \"sequentialminus\": [[0.0, \"#0d0887\"], [0.1111111111111111, \"#46039f\"], [0.2222222222222222, \"#7201a8\"], [0.3333333333333333, \"#9c179e\"], [0.4444444444444444, \"#bd3786\"], [0.5555555555555556, \"#d8576b\"], [0.6666666666666666, \"#ed7953\"], [0.7777777777777778, \"#fb9f3a\"], [0.8888888888888888, \"#fdca26\"], [1.0, \"#f0f921\"]]}, \"colorway\": [\"#636efa\", \"#EF553B\", \"#00cc96\", \"#ab63fa\", \"#FFA15A\", \"#19d3f3\", \"#FF6692\", \"#B6E880\", \"#FF97FF\", \"#FECB52\"], \"font\": {\"color\": \"#2a3f5f\"}, \"geo\": {\"bgcolor\": \"white\", \"lakecolor\": \"white\", \"landcolor\": \"#E5ECF6\", \"showlakes\": true, \"showland\": true, \"subunitcolor\": \"white\"}, \"hoverlabel\": {\"align\": \"left\"}, \"hovermode\": \"closest\", \"mapbox\": {\"style\": \"light\"}, \"paper_bgcolor\": \"white\", \"plot_bgcolor\": \"#E5ECF6\", \"polar\": {\"angularaxis\": {\"gridcolor\": \"white\", \"linecolor\": \"white\", \"ticks\": \"\"}, \"bgcolor\": \"#E5ECF6\", \"radialaxis\": {\"gridcolor\": \"white\", \"linecolor\": \"white\", \"ticks\": \"\"}}, \"scene\": {\"xaxis\": {\"backgroundcolor\": \"#E5ECF6\", \"gridcolor\": \"white\", \"gridwidth\": 2, \"linecolor\": \"white\", \"showbackground\": true, \"ticks\": \"\", \"zerolinecolor\": \"white\"}, \"yaxis\": {\"backgroundcolor\": \"#E5ECF6\", \"gridcolor\": \"white\", \"gridwidth\": 2, \"linecolor\": \"white\", \"showbackground\": true, \"ticks\": \"\", \"zerolinecolor\": \"white\"}, \"zaxis\": {\"backgroundcolor\": \"#E5ECF6\", \"gridcolor\": \"white\", \"gridwidth\": 2, \"linecolor\": \"white\", \"showbackground\": true, \"ticks\": \"\", \"zerolinecolor\": \"white\"}}, \"shapedefaults\": {\"line\": {\"color\": \"#2a3f5f\"}}, \"ternary\": {\"aaxis\": {\"gridcolor\": \"white\", \"linecolor\": \"white\", \"ticks\": \"\"}, \"baxis\": {\"gridcolor\": \"white\", \"linecolor\": \"white\", \"ticks\": \"\"}, \"bgcolor\": \"#E5ECF6\", \"caxis\": {\"gridcolor\": \"white\", \"linecolor\": \"white\", \"ticks\": \"\"}}, \"title\": {\"x\": 0.05}, \"xaxis\": {\"automargin\": true, \"gridcolor\": \"white\", \"linecolor\": \"white\", \"ticks\": \"\", \"title\": {\"standoff\": 15}, \"zerolinecolor\": \"white\", \"zerolinewidth\": 2}, \"yaxis\": {\"automargin\": true, \"gridcolor\": \"white\", \"linecolor\": \"white\", \"ticks\": \"\", \"title\": {\"standoff\": 15}, \"zerolinecolor\": \"white\", \"zerolinewidth\": 2}}}, \"title\": {\"text\": \"ROC\", \"x\": 0.5}, \"width\": 700, \"xaxis\": {\"title\": {\"text\": \"False Positive Rate (Sensitivity)\"}}, \"yaxis\": {\"title\": {\"text\": \"True Positive Rate (1 - Specificity)\"}}},\n",
              "                        {\"responsive\": true}\n",
              "                    ).then(function(){\n",
              "                            \n",
              "var gd = document.getElementById('725826d4-c6c1-4760-85be-c8c468e0ca47');\n",
              "var x = new MutationObserver(function (mutations, observer) {{\n",
              "        var display = window.getComputedStyle(gd).display;\n",
              "        if (!display || display === 'none') {{\n",
              "            console.log([gd, 'removed!']);\n",
              "            Plotly.purge(gd);\n",
              "            observer.disconnect();\n",
              "        }}\n",
              "}});\n",
              "\n",
              "// Listen for the removal of the full notebook cells\n",
              "var notebookContainer = gd.closest('#notebook-container');\n",
              "if (notebookContainer) {{\n",
              "    x.observe(notebookContainer, {childList: true});\n",
              "}}\n",
              "\n",
              "// Listen for the clearing of the current output cell\n",
              "var outputEl = gd.closest('.output');\n",
              "if (outputEl) {{\n",
              "    x.observe(outputEl, {childList: true});\n",
              "}}\n",
              "\n",
              "                        })\n",
              "                };\n",
              "                \n",
              "            </script>\n",
              "        </div>\n",
              "</body>\n",
              "</html>"
            ]
          },
          "metadata": {}
        }
      ]
    },
    {
      "cell_type": "markdown",
      "source": [
        "### ROC AUC Score\n",
        "\n",
        "The area under the ROC curve can be calculated and provides a single score to summarize the plot that can be used to compare models. ROC Curve score close to 1, represents better model."
      ],
      "metadata": {
        "id": "UNBKl_csm9vz"
      }
    },
    {
      "cell_type": "code",
      "source": [
        "print('--- ROC AUC ---')\n",
        "print(f\"Logistic Regression: {auc_score_lr}\" ) # Logistic Regression\n",
        "print(f\"Naive Bayes: {auc_score_gnb}\") # Gaussian Naive Bayes\n",
        "\n",
        "print(f'Neural Network: {auc_score_nn}')# Neural Network\n",
        "print(f\"K-Nearest Neighbors: {auc_score_knn} \") # K-Nearest Neighbors\n",
        "print(f\"Decision Tree: {auc_score_dt}\")  # Decision Tree\n",
        "print(f\"SVC: {auc_score_svc}\")# support vector classifier\n",
        "\n",
        "print(f\"Random Forest: {auc_score_rf}\") # Random Forest\n",
        "print(f\"ADA: {auc_score_ada}\")# ada boost\n",
        "print(f'SGB: {auc_score_sgb}')   # stochastic gradient boosting\n",
        "print(f'CAT: {auc_score_cat}')   # Catboost classifier\n",
        "print(f'XGB: {auc_score_xgb}')   # XGBoost"
      ],
      "metadata": {
        "colab": {
          "base_uri": "https://localhost:8080/"
        },
        "id": "QHlKvGUGptpt",
        "outputId": "a0f29d9f-eef3-4c46-a962-ed08bfab71a4"
      },
      "execution_count": 78,
      "outputs": [
        {
          "output_type": "stream",
          "name": "stdout",
          "text": [
            "--- ROC AUC ---\n",
            "Logistic Regression: 0.764342214928742\n",
            "Naive Bayes: 0.7422866268746344\n",
            "Neural Network: 0.8458567797443716\n",
            "K-Nearest Neighbors: 0.7207797754321301 \n",
            "Decision Tree: 0.7252499081125013\n",
            "SVC: 0.7181965719492056\n",
            "Random Forest: 0.7412913946710428\n",
            "ADA: 0.7691837801740428\n",
            "SGB: 0.6989260810370086\n",
            "CAT: 0.7113723074374518\n",
            "XGB: 0.7238198280280166\n"
          ]
        }
      ]
    },
    {
      "cell_type": "markdown",
      "source": [
        "### Precision Recall Curve \n",
        "\n",
        "Precision-recall curve plots the precision (y-axis) and the recall (x-axis) for different thresholds.  It summarizes the trade-off between the true positive rate and the positive predictive value for a predictive model using different probability thresholds.\n",
        "\n",
        "The calculations of Precision recall curve do not make use of the true negatives.  It focuses on the performance of the classifier on the minority class.  Hence, this metric could be used when correct prediction of the minority class (Churn - Yes) is more important.  "
      ],
      "metadata": {
        "id": "AIL7hBPA8RlU"
      }
    },
    {
      "cell_type": "code",
      "source": [
        "fig = go.Figure()\n",
        "\n",
        "fig.add_trace(go.Scatter(x=recall_lr,y=precision_lr,mode='lines',name='LR'))\n",
        "fig.add_trace(go.Scatter(x=recall_gnb,y=precision_gnb,mode='lines',name='GNB'))\n",
        "\n",
        "fig.add_trace(go.Scatter(x=recall_nn,y=precision_nn,mode='lines',name='NN'))\n",
        "fig.add_trace(go.Scatter(x=recall_knn,y=precision_knn,mode='lines',name='KNN'))\n",
        "fig.add_trace(go.Scatter(x=recall_dt,y=precision_dt,mode='lines',name='DT'))\n",
        "fig.add_trace(go.Scatter(x=recall_svc,y=precision_svc,mode='lines',name='SVC'))\n",
        "\n",
        "fig.add_trace(go.Scatter(x=recall_rf,y=precision_rf,mode='lines',name='RF'))\n",
        "fig.add_trace(go.Scatter(x=recall_ada,y=precision_ada,mode='lines',name='ADA'))\n",
        "fig.add_trace(go.Scatter(x=recall_cat,y=precision_cat,mode='lines',name='CAT'))\n",
        "fig.add_trace(go.Scatter(x=recall_sgb,y=precision_sgb,mode='lines',name='SGB'))\n",
        "fig.add_trace(go.Scatter(x=recall_xgb,y=precision_xgb,mode='lines',name='XGB'))\n",
        "fig.update_layout(title='Precision-Recall Curve',\n",
        "                   xaxis_title='Recall',\n",
        "                   yaxis_title='Precision', title_x = 0.5,\n",
        "                   width = 750, height=450,\n",
        "                 )\n",
        "fig.show()"
      ],
      "metadata": {
        "colab": {
          "base_uri": "https://localhost:8080/",
          "height": 467
        },
        "id": "jqgRn5Cuptxu",
        "outputId": "a8f4a18c-5354-4cb2-a840-ee988c03f668"
      },
      "execution_count": 79,
      "outputs": [
        {
          "output_type": "display_data",
          "data": {
            "text/html": [
              "<html>\n",
              "<head><meta charset=\"utf-8\" /></head>\n",
              "<body>\n",
              "    <div>\n",
              "            <script src=\"https://cdnjs.cloudflare.com/ajax/libs/mathjax/2.7.5/MathJax.js?config=TeX-AMS-MML_SVG\"></script><script type=\"text/javascript\">if (window.MathJax) {MathJax.Hub.Config({SVG: {font: \"STIX-Web\"}});}</script>\n",
              "                <script type=\"text/javascript\">window.PlotlyConfig = {MathJaxConfig: 'local'};</script>\n",
              "        <script src=\"https://cdn.plot.ly/plotly-latest.min.js\"></script>    \n",
              "            <div id=\"2754a325-a9ba-457c-9b7f-51108e999e5e\" class=\"plotly-graph-div\" style=\"height:450px; width:750px;\"></div>\n",
              "            <script type=\"text/javascript\">\n",
              "                \n",
              "                    window.PLOTLYENV=window.PLOTLYENV || {};\n",
              "                    \n",
              "                if (document.getElementById(\"2754a325-a9ba-457c-9b7f-51108e999e5e\")) {\n",
              "                    Plotly.newPlot(\n",
              "                        '2754a325-a9ba-457c-9b7f-51108e999e5e',\n",
              "                        [{\"mode\": \"lines\", \"name\": \"LR\", \"type\": \"scatter\", \"x\": [1.0, 0.9973262032085561, 0.9973262032085561, 0.9973262032085561, 0.9973262032085561, 0.9973262032085561, 0.9973262032085561, 0.9973262032085561, 0.9973262032085561, 0.9973262032085561, 0.9973262032085561, 0.9973262032085561, 0.9973262032085561, 0.9973262032085561, 0.9973262032085561, 0.9973262032085561, 0.9973262032085561, 0.9973262032085561, 0.9973262032085561, 0.9973262032085561, 0.9973262032085561, 0.9973262032085561, 0.9973262032085561, 0.9973262032085561, 0.9973262032085561, 0.9973262032085561, 0.9973262032085561, 0.9973262032085561, 0.9973262032085561, 0.9973262032085561, 0.9973262032085561, 0.9973262032085561, 0.9973262032085561, 0.9973262032085561, 0.9973262032085561, 0.9973262032085561, 0.9973262032085561, 0.9973262032085561, 0.9973262032085561, 0.9973262032085561, 0.9973262032085561, 0.9973262032085561, 0.9973262032085561, 0.9973262032085561, 0.9973262032085561, 0.9973262032085561, 0.9973262032085561, 0.9973262032085561, 0.9973262032085561, 0.9973262032085561, 0.9973262032085561, 0.9973262032085561, 0.9973262032085561, 0.9973262032085561, 0.9973262032085561, 0.9973262032085561, 0.9973262032085561, 0.9973262032085561, 0.9973262032085561, 0.9973262032085561, 0.9973262032085561, 0.9973262032085561, 0.9973262032085561, 0.9973262032085561, 0.9973262032085561, 0.9973262032085561, 0.9973262032085561, 0.9973262032085561, 0.9973262032085561, 0.9973262032085561, 0.9973262032085561, 0.9973262032085561, 0.9973262032085561, 0.9973262032085561, 0.9973262032085561, 0.9973262032085561, 0.9973262032085561, 0.9973262032085561, 0.9973262032085561, 0.9973262032085561, 0.9973262032085561, 0.9973262032085561, 0.9973262032085561, 0.9973262032085561, 0.9973262032085561, 0.9973262032085561, 0.9973262032085561, 0.9973262032085561, 0.9973262032085561, 0.9973262032085561, 0.9973262032085561, 0.9946524064171123, 0.9946524064171123, 0.9946524064171123, 0.9946524064171123, 0.9946524064171123, 0.9946524064171123, 0.9946524064171123, 0.9946524064171123, 0.9946524064171123, 0.9946524064171123, 0.9946524064171123, 0.9946524064171123, 0.9946524064171123, 0.9946524064171123, 0.9946524064171123, 0.9946524064171123, 0.9946524064171123, 0.9946524064171123, 0.9946524064171123, 0.9946524064171123, 0.9946524064171123, 0.9946524064171123, 0.9946524064171123, 0.9946524064171123, 0.9946524064171123, 0.9946524064171123, 0.9946524064171123, 0.9946524064171123, 0.9946524064171123, 0.9946524064171123, 0.9946524064171123, 0.9946524064171123, 0.9919786096256684, 0.9919786096256684, 0.9919786096256684, 0.9919786096256684, 0.9919786096256684, 0.9919786096256684, 0.9919786096256684, 0.9919786096256684, 0.9919786096256684, 0.9919786096256684, 0.9919786096256684, 0.9919786096256684, 0.9919786096256684, 0.9919786096256684, 0.9919786096256684, 0.9893048128342246, 0.9893048128342246, 0.9893048128342246, 0.9893048128342246, 0.9893048128342246, 0.9893048128342246, 0.9893048128342246, 0.9893048128342246, 0.9893048128342246, 0.9893048128342246, 0.9893048128342246, 0.9893048128342246, 0.9893048128342246, 0.9893048128342246, 0.9893048128342246, 0.9893048128342246, 0.9893048128342246, 0.9893048128342246, 0.9893048128342246, 0.9893048128342246, 0.9893048128342246, 0.9893048128342246, 0.9893048128342246, 0.9893048128342246, 0.9893048128342246, 0.9893048128342246, 0.9893048128342246, 0.9893048128342246, 0.9893048128342246, 0.9893048128342246, 0.9893048128342246, 0.9893048128342246, 0.9893048128342246, 0.9893048128342246, 0.9893048128342246, 0.9893048128342246, 0.9893048128342246, 0.9893048128342246, 0.9893048128342246, 0.9893048128342246, 0.9893048128342246, 0.9893048128342246, 0.9893048128342246, 0.9893048128342246, 0.9893048128342246, 0.9893048128342246, 0.9893048128342246, 0.9893048128342246, 0.9893048128342246, 0.9893048128342246, 0.9893048128342246, 0.9893048128342246, 0.9893048128342246, 0.9893048128342246, 0.9866310160427807, 0.9866310160427807, 0.9866310160427807, 0.983957219251337, 0.983957219251337, 0.983957219251337, 0.983957219251337, 0.983957219251337, 0.983957219251337, 0.983957219251337, 0.983957219251337, 0.983957219251337, 0.983957219251337, 0.983957219251337, 0.983957219251337, 0.983957219251337, 0.983957219251337, 0.983957219251337, 0.983957219251337, 0.983957219251337, 0.983957219251337, 0.983957219251337, 0.983957219251337, 0.983957219251337, 0.983957219251337, 0.983957219251337, 0.983957219251337, 0.983957219251337, 0.9812834224598931, 0.9812834224598931, 0.9812834224598931, 0.9812834224598931, 0.9812834224598931, 0.9812834224598931, 0.9812834224598931, 0.9812834224598931, 0.9812834224598931, 0.9812834224598931, 0.9812834224598931, 0.9812834224598931, 0.9812834224598931, 0.9812834224598931, 0.9812834224598931, 0.9786096256684492, 0.9786096256684492, 0.9759358288770054, 0.9759358288770054, 0.9759358288770054, 0.9759358288770054, 0.9759358288770054, 0.9759358288770054, 0.9759358288770054, 0.9759358288770054, 0.9759358288770054, 0.9759358288770054, 0.9759358288770054, 0.9759358288770054, 0.9759358288770054, 0.9759358288770054, 0.9759358288770054, 0.9759358288770054, 0.9759358288770054, 0.9759358288770054, 0.9759358288770054, 0.9759358288770054, 0.9759358288770054, 0.9759358288770054, 0.9759358288770054, 0.9759358288770054, 0.9759358288770054, 0.9732620320855615, 0.9732620320855615, 0.9732620320855615, 0.9732620320855615, 0.9732620320855615, 0.9732620320855615, 0.9732620320855615, 0.9732620320855615, 0.9732620320855615, 0.9732620320855615, 0.9732620320855615, 0.9732620320855615, 0.9732620320855615, 0.9732620320855615, 0.9732620320855615, 0.9732620320855615, 0.9732620320855615, 0.9732620320855615, 0.9732620320855615, 0.9732620320855615, 0.9732620320855615, 0.9732620320855615, 0.9732620320855615, 0.9732620320855615, 0.9732620320855615, 0.9732620320855615, 0.9732620320855615, 0.9732620320855615, 0.9732620320855615, 0.9732620320855615, 0.9732620320855615, 0.9732620320855615, 0.9732620320855615, 0.9732620320855615, 0.9732620320855615, 0.9732620320855615, 0.9732620320855615, 0.9732620320855615, 0.9732620320855615, 0.9732620320855615, 0.9705882352941176, 0.9705882352941176, 0.9705882352941176, 0.9705882352941176, 0.9705882352941176, 0.9705882352941176, 0.9705882352941176, 0.9705882352941176, 0.9705882352941176, 0.9705882352941176, 0.9705882352941176, 0.9679144385026738, 0.9679144385026738, 0.9679144385026738, 0.9679144385026738, 0.9679144385026738, 0.9679144385026738, 0.9679144385026738, 0.9679144385026738, 0.9679144385026738, 0.9679144385026738, 0.9679144385026738, 0.9679144385026738, 0.9679144385026738, 0.9679144385026738, 0.9679144385026738, 0.9679144385026738, 0.9679144385026738, 0.9679144385026738, 0.9679144385026738, 0.9679144385026738, 0.9679144385026738, 0.9679144385026738, 0.9679144385026738, 0.9679144385026738, 0.9679144385026738, 0.9679144385026738, 0.9679144385026738, 0.9679144385026738, 0.9679144385026738, 0.9679144385026738, 0.9679144385026738, 0.9652406417112299, 0.9625668449197861, 0.9625668449197861, 0.9625668449197861, 0.9625668449197861, 0.9625668449197861, 0.9625668449197861, 0.9625668449197861, 0.9598930481283422, 0.9598930481283422, 0.9598930481283422, 0.9598930481283422, 0.9598930481283422, 0.9598930481283422, 0.9572192513368984, 0.9572192513368984, 0.9572192513368984, 0.9572192513368984, 0.9572192513368984, 0.9572192513368984, 0.9572192513368984, 0.9572192513368984, 0.9572192513368984, 0.9572192513368984, 0.9572192513368984, 0.9572192513368984, 0.9545454545454546, 0.9545454545454546, 0.9545454545454546, 0.9518716577540107, 0.9518716577540107, 0.9518716577540107, 0.9518716577540107, 0.9518716577540107, 0.9518716577540107, 0.9518716577540107, 0.9518716577540107, 0.9518716577540107, 0.9518716577540107, 0.9518716577540107, 0.9491978609625669, 0.9491978609625669, 0.9491978609625669, 0.9491978609625669, 0.9491978609625669, 0.9491978609625669, 0.9491978609625669, 0.9491978609625669, 0.9491978609625669, 0.9491978609625669, 0.9491978609625669, 0.9491978609625669, 0.9491978609625669, 0.9491978609625669, 0.9491978609625669, 0.9491978609625669, 0.9491978609625669, 0.9491978609625669, 0.9491978609625669, 0.9491978609625669, 0.946524064171123, 0.9438502673796791, 0.9438502673796791, 0.9438502673796791, 0.9438502673796791, 0.9438502673796791, 0.9438502673796791, 0.9438502673796791, 0.9438502673796791, 0.9438502673796791, 0.9438502673796791, 0.9438502673796791, 0.9438502673796791, 0.9411764705882353, 0.9411764705882353, 0.9411764705882353, 0.9411764705882353, 0.9411764705882353, 0.9411764705882353, 0.9411764705882353, 0.9411764705882353, 0.9411764705882353, 0.9411764705882353, 0.9411764705882353, 0.9411764705882353, 0.9411764705882353, 0.9411764705882353, 0.9411764705882353, 0.9411764705882353, 0.9411764705882353, 0.9411764705882353, 0.9385026737967914, 0.9385026737967914, 0.9385026737967914, 0.9385026737967914, 0.9385026737967914, 0.9385026737967914, 0.9385026737967914, 0.9385026737967914, 0.9358288770053476, 0.9358288770053476, 0.9358288770053476, 0.9358288770053476, 0.9358288770053476, 0.9358288770053476, 0.9358288770053476, 0.9358288770053476, 0.9358288770053476, 0.9358288770053476, 0.9358288770053476, 0.9358288770053476, 0.9358288770053476, 0.9358288770053476, 0.9331550802139037, 0.9331550802139037, 0.9331550802139037, 0.9331550802139037, 0.9331550802139037, 0.9331550802139037, 0.9331550802139037, 0.9331550802139037, 0.93048128342246, 0.93048128342246, 0.93048128342246, 0.93048128342246, 0.93048128342246, 0.93048128342246, 0.93048128342246, 0.93048128342246, 0.93048128342246, 0.93048128342246, 0.93048128342246, 0.93048128342246, 0.93048128342246, 0.93048128342246, 0.9278074866310161, 0.9278074866310161, 0.9278074866310161, 0.9251336898395722, 0.9251336898395722, 0.9251336898395722, 0.9251336898395722, 0.9251336898395722, 0.9224598930481284, 0.9224598930481284, 0.9224598930481284, 0.9224598930481284, 0.9224598930481284, 0.9224598930481284, 0.9224598930481284, 0.9224598930481284, 0.9224598930481284, 0.9224598930481284, 0.9224598930481284, 0.9224598930481284, 0.9224598930481284, 0.9224598930481284, 0.9224598930481284, 0.9224598930481284, 0.9224598930481284, 0.9197860962566845, 0.9171122994652406, 0.9171122994652406, 0.9171122994652406, 0.9144385026737968, 0.9117647058823529, 0.9117647058823529, 0.9117647058823529, 0.9090909090909091, 0.9090909090909091, 0.9064171122994652, 0.9037433155080213, 0.9010695187165776, 0.9010695187165776, 0.8983957219251337, 0.8983957219251337, 0.8983957219251337, 0.8983957219251337, 0.8983957219251337, 0.8957219251336899, 0.893048128342246, 0.893048128342246, 0.8903743315508021, 0.8903743315508021, 0.8903743315508021, 0.8903743315508021, 0.8903743315508021, 0.8903743315508021, 0.8877005347593583, 0.8877005347593583, 0.8877005347593583, 0.8877005347593583, 0.8877005347593583, 0.8877005347593583, 0.8877005347593583, 0.8850267379679144, 0.8850267379679144, 0.8850267379679144, 0.8850267379679144, 0.8850267379679144, 0.8850267379679144, 0.8850267379679144, 0.8850267379679144, 0.8850267379679144, 0.8850267379679144, 0.8850267379679144, 0.8850267379679144, 0.8850267379679144, 0.8850267379679144, 0.8850267379679144, 0.8850267379679144, 0.8850267379679144, 0.8850267379679144, 0.8850267379679144, 0.8850267379679144, 0.8850267379679144, 0.8850267379679144, 0.8823529411764706, 0.8796791443850267, 0.8796791443850267, 0.8770053475935828, 0.8770053475935828, 0.8743315508021391, 0.8743315508021391, 0.8743315508021391, 0.8743315508021391, 0.8716577540106952, 0.8716577540106952, 0.8716577540106952, 0.8716577540106952, 0.8716577540106952, 0.8716577540106952, 0.8716577540106952, 0.8716577540106952, 0.8716577540106952, 0.8716577540106952, 0.8716577540106952, 0.8716577540106952, 0.8716577540106952, 0.8689839572192514, 0.8689839572192514, 0.8689839572192514, 0.8689839572192514, 0.8689839572192514, 0.8689839572192514, 0.8663101604278075, 0.8636363636363636, 0.8609625668449198, 0.8609625668449198, 0.8582887700534759, 0.8582887700534759, 0.8556149732620321, 0.8556149732620321, 0.8556149732620321, 0.8529411764705882, 0.8529411764705882, 0.8529411764705882, 0.8529411764705882, 0.8529411764705882, 0.8529411764705882, 0.8502673796791443, 0.8475935828877005, 0.8475935828877005, 0.8475935828877005, 0.8449197860962567, 0.8422459893048129, 0.8422459893048129, 0.839572192513369, 0.839572192513369, 0.839572192513369, 0.839572192513369, 0.839572192513369, 0.839572192513369, 0.839572192513369, 0.839572192513369, 0.839572192513369, 0.8368983957219251, 0.8368983957219251, 0.8368983957219251, 0.8368983957219251, 0.8368983957219251, 0.8342245989304813, 0.8342245989304813, 0.8342245989304813, 0.8342245989304813, 0.8342245989304813, 0.8315508021390374, 0.8315508021390374, 0.8315508021390374, 0.8315508021390374, 0.8288770053475936, 0.8288770053475936, 0.8262032085561497, 0.8262032085561497, 0.8262032085561497, 0.8262032085561497, 0.8262032085561497, 0.8262032085561497, 0.8262032085561497, 0.8262032085561497, 0.8262032085561497, 0.8262032085561497, 0.8235294117647058, 0.820855614973262, 0.820855614973262, 0.820855614973262, 0.8181818181818182, 0.8155080213903744, 0.8128342245989305, 0.8128342245989305, 0.8128342245989305, 0.8128342245989305, 0.8128342245989305, 0.8101604278074866, 0.8101604278074866, 0.8101604278074866, 0.8101604278074866, 0.8074866310160428, 0.8048128342245989, 0.8048128342245989, 0.8021390374331551, 0.8021390374331551, 0.8021390374331551, 0.8021390374331551, 0.8021390374331551, 0.8021390374331551, 0.8021390374331551, 0.8021390374331551, 0.8021390374331551, 0.8021390374331551, 0.8021390374331551, 0.8021390374331551, 0.8021390374331551, 0.8021390374331551, 0.8021390374331551, 0.8021390374331551, 0.8021390374331551, 0.8021390374331551, 0.8021390374331551, 0.8021390374331551, 0.7994652406417112, 0.7994652406417112, 0.7994652406417112, 0.7967914438502673, 0.7967914438502673, 0.7967914438502673, 0.7941176470588235, 0.7914438502673797, 0.7914438502673797, 0.7914438502673797, 0.7887700534759359, 0.7887700534759359, 0.7887700534759359, 0.7887700534759359, 0.786096256684492, 0.7834224598930482, 0.7807486631016043, 0.7807486631016043, 0.7807486631016043, 0.7807486631016043, 0.7807486631016043, 0.7807486631016043, 0.7780748663101604, 0.7780748663101604, 0.7780748663101604, 0.7754010695187166, 0.7727272727272727, 0.7727272727272727, 0.7727272727272727, 0.7700534759358288, 0.7700534759358288, 0.767379679144385, 0.767379679144385, 0.767379679144385, 0.7647058823529411, 0.7647058823529411, 0.7620320855614974, 0.7620320855614974, 0.7620320855614974, 0.7620320855614974, 0.7593582887700535, 0.7566844919786097, 0.7540106951871658, 0.7540106951871658, 0.7540106951871658, 0.7540106951871658, 0.7540106951871658, 0.7513368983957219, 0.7486631016042781, 0.7459893048128342, 0.7459893048128342, 0.7459893048128342, 0.7459893048128342, 0.7459893048128342, 0.7459893048128342, 0.7433155080213903, 0.7406417112299465, 0.7406417112299465, 0.7379679144385026, 0.7379679144385026, 0.7379679144385026, 0.7379679144385026, 0.7379679144385026, 0.7379679144385026, 0.7379679144385026, 0.7379679144385026, 0.7379679144385026, 0.7379679144385026, 0.7379679144385026, 0.7379679144385026, 0.7352941176470589, 0.732620320855615, 0.732620320855615, 0.732620320855615, 0.7299465240641712, 0.7272727272727273, 0.7272727272727273, 0.7272727272727273, 0.7272727272727273, 0.7245989304812834, 0.7219251336898396, 0.7219251336898396, 0.7219251336898396, 0.7219251336898396, 0.7219251336898396, 0.7192513368983957, 0.7192513368983957, 0.7192513368983957, 0.7165775401069518, 0.713903743315508, 0.713903743315508, 0.713903743315508, 0.7112299465240641, 0.7085561497326203, 0.7085561497326203, 0.7085561497326203, 0.7085561497326203, 0.7085561497326203, 0.7058823529411765, 0.7032085561497327, 0.7005347593582888, 0.7005347593582888, 0.7005347593582888, 0.7005347593582888, 0.7005347593582888, 0.7005347593582888, 0.7005347593582888, 0.6978609625668449, 0.6951871657754011, 0.6951871657754011, 0.6925133689839572, 0.6898395721925134, 0.6898395721925134, 0.6898395721925134, 0.6898395721925134, 0.6898395721925134, 0.6871657754010695, 0.6844919786096256, 0.6818181818181818, 0.679144385026738, 0.6764705882352942, 0.6764705882352942, 0.6737967914438503, 0.6737967914438503, 0.6737967914438503, 0.6737967914438503, 0.6737967914438503, 0.6737967914438503, 0.6737967914438503, 0.6737967914438503, 0.6711229946524064, 0.6711229946524064, 0.6684491978609626, 0.6684491978609626, 0.6684491978609626, 0.6657754010695187, 0.6631016042780749, 0.6631016042780749, 0.660427807486631, 0.6577540106951871, 0.6550802139037433, 0.6524064171122995, 0.6497326203208557, 0.6497326203208557, 0.6497326203208557, 0.6497326203208557, 0.6470588235294118, 0.6470588235294118, 0.6470588235294118, 0.6470588235294118, 0.6443850267379679, 0.6443850267379679, 0.6443850267379679, 0.6443850267379679, 0.6417112299465241, 0.6390374331550802, 0.6363636363636364, 0.6336898395721925, 0.6336898395721925, 0.6336898395721925, 0.6336898395721925, 0.6336898395721925, 0.6336898395721925, 0.6310160427807486, 0.6310160427807486, 0.6283422459893048, 0.6283422459893048, 0.6283422459893048, 0.6256684491978609, 0.6256684491978609, 0.6229946524064172, 0.6203208556149733, 0.6176470588235294, 0.6149732620320856, 0.6122994652406417, 0.6096256684491979, 0.6096256684491979, 0.6096256684491979, 0.606951871657754, 0.6042780748663101, 0.6042780748663101, 0.6016042780748663, 0.6016042780748663, 0.5989304812834224, 0.5989304812834224, 0.5989304812834224, 0.5962566844919787, 0.5962566844919787, 0.5962566844919787, 0.5962566844919787, 0.5935828877005348, 0.5935828877005348, 0.5935828877005348, 0.5935828877005348, 0.5909090909090909, 0.5882352941176471, 0.5855614973262032, 0.5828877005347594, 0.5802139037433155, 0.5802139037433155, 0.5775401069518716, 0.5748663101604278, 0.5748663101604278, 0.5721925133689839, 0.5721925133689839, 0.56951871657754, 0.56951871657754, 0.56951871657754, 0.56951871657754, 0.5668449197860963, 0.5668449197860963, 0.5641711229946524, 0.5614973262032086, 0.5588235294117647, 0.5588235294117647, 0.5588235294117647, 0.5588235294117647, 0.5561497326203209, 0.553475935828877, 0.553475935828877, 0.553475935828877, 0.553475935828877, 0.5508021390374331, 0.5508021390374331, 0.5508021390374331, 0.5508021390374331, 0.5508021390374331, 0.5481283422459893, 0.5454545454545454, 0.5427807486631016, 0.5401069518716578, 0.5374331550802139, 0.5347593582887701, 0.5347593582887701, 0.5347593582887701, 0.5320855614973262, 0.5320855614973262, 0.5294117647058824, 0.5267379679144385, 0.5240641711229946, 0.5213903743315508, 0.5213903743315508, 0.5187165775401069, 0.516042780748663, 0.5133689839572193, 0.5106951871657754, 0.5106951871657754, 0.5106951871657754, 0.5080213903743316, 0.5053475935828877, 0.5053475935828877, 0.5053475935828877, 0.5026737967914439, 0.5, 0.5, 0.49732620320855614, 0.4946524064171123, 0.4919786096256685, 0.4919786096256685, 0.4919786096256685, 0.4919786096256685, 0.4893048128342246, 0.4893048128342246, 0.4893048128342246, 0.48663101604278075, 0.4839572192513369, 0.4839572192513369, 0.48128342245989303, 0.48128342245989303, 0.48128342245989303, 0.48128342245989303, 0.48128342245989303, 0.4786096256684492, 0.47593582887700536, 0.4732620320855615, 0.47058823529411764, 0.47058823529411764, 0.47058823529411764, 0.47058823529411764, 0.47058823529411764, 0.47058823529411764, 0.4679144385026738, 0.4679144385026738, 0.46524064171123, 0.46524064171123, 0.46524064171123, 0.4625668449197861, 0.45989304812834225, 0.45989304812834225, 0.4572192513368984, 0.4572192513368984, 0.45454545454545453, 0.45187165775401067, 0.44919786096256686, 0.44919786096256686, 0.446524064171123, 0.446524064171123, 0.446524064171123, 0.44385026737967914, 0.44385026737967914, 0.4411764705882353, 0.4411764705882353, 0.4411764705882353, 0.4385026737967914, 0.4385026737967914, 0.4358288770053476, 0.4358288770053476, 0.43315508021390375, 0.4304812834224599, 0.42780748663101603, 0.42513368983957217, 0.42245989304812837, 0.4197860962566845, 0.41711229946524064, 0.4144385026737968, 0.4144385026737968, 0.4117647058823529, 0.4090909090909091, 0.4090909090909091, 0.40641711229946526, 0.40641711229946526, 0.4037433155080214, 0.4037433155080214, 0.40106951871657753, 0.3983957219251337, 0.39572192513368987, 0.393048128342246, 0.393048128342246, 0.39037433155080214, 0.39037433155080214, 0.39037433155080214, 0.3877005347593583, 0.3877005347593583, 0.3877005347593583, 0.3877005347593583, 0.3877005347593583, 0.3850267379679144, 0.38235294117647056, 0.37967914438502676, 0.3770053475935829, 0.37433155080213903, 0.37433155080213903, 0.37433155080213903, 0.3716577540106952, 0.3689839572192513, 0.3663101604278075, 0.36363636363636365, 0.3609625668449198, 0.3609625668449198, 0.3582887700534759, 0.3582887700534759, 0.3582887700534759, 0.35561497326203206, 0.35294117647058826, 0.3502673796791444, 0.34759358288770054, 0.34759358288770054, 0.34759358288770054, 0.34759358288770054, 0.3449197860962567, 0.3449197860962567, 0.3422459893048128, 0.3422459893048128, 0.339572192513369, 0.339572192513369, 0.339572192513369, 0.33689839572192515, 0.3342245989304813, 0.3342245989304813, 0.3315508021390374, 0.3315508021390374, 0.3315508021390374, 0.3315508021390374, 0.3315508021390374, 0.32887700534759357, 0.32620320855614976, 0.3235294117647059, 0.3235294117647059, 0.3235294117647059, 0.3235294117647059, 0.3235294117647059, 0.32085561497326204, 0.32085561497326204, 0.3181818181818182, 0.3155080213903743, 0.3155080213903743, 0.31283422459893045, 0.31283422459893045, 0.31016042780748665, 0.31016042780748665, 0.31016042780748665, 0.3074866310160428, 0.3048128342245989, 0.30213903743315507, 0.30213903743315507, 0.30213903743315507, 0.2994652406417112, 0.2967914438502674, 0.29411764705882354, 0.2914438502673797, 0.2887700534759358, 0.28609625668449196, 0.28342245989304815, 0.2807486631016043, 0.27807486631016043, 0.27540106951871657, 0.2727272727272727, 0.2700534759358289, 0.26737967914438504, 0.26737967914438504, 0.2647058823529412, 0.2620320855614973, 0.2620320855614973, 0.2620320855614973, 0.25935828877005346, 0.25668449197860965, 0.2540106951871658, 0.25133689839572193, 0.24866310160427807, 0.24598930481283424, 0.24598930481283424, 0.24331550802139038, 0.24064171122994651, 0.23796791443850268, 0.23529411764705882, 0.232620320855615, 0.22994652406417113, 0.22727272727272727, 0.22727272727272727, 0.22727272727272727, 0.22727272727272727, 0.22459893048128343, 0.22459893048128343, 0.22459893048128343, 0.22192513368983957, 0.2192513368983957, 0.2192513368983957, 0.2192513368983957, 0.2192513368983957, 0.21657754010695188, 0.21390374331550802, 0.21122994652406418, 0.21122994652406418, 0.20855614973262032, 0.20855614973262032, 0.20588235294117646, 0.20588235294117646, 0.20320855614973263, 0.20053475935828877, 0.19786096256684493, 0.19518716577540107, 0.1925133689839572, 0.1925133689839572, 0.1925133689839572, 0.18983957219251338, 0.18983957219251338, 0.18983957219251338, 0.18716577540106952, 0.18449197860962566, 0.18449197860962566, 0.18449197860962566, 0.18181818181818182, 0.18181818181818182, 0.17914438502673796, 0.17914438502673796, 0.17647058823529413, 0.17647058823529413, 0.17379679144385027, 0.1711229946524064, 0.16844919786096257, 0.16844919786096257, 0.16844919786096257, 0.1657754010695187, 0.1657754010695187, 0.16310160427807488, 0.16042780748663102, 0.16042780748663102, 0.16042780748663102, 0.15775401069518716, 0.15508021390374332, 0.15240641711229946, 0.15240641711229946, 0.1497326203208556, 0.14705882352941177, 0.1443850267379679, 0.14171122994652408, 0.13903743315508021, 0.13636363636363635, 0.13368983957219252, 0.13101604278074866, 0.12834224598930483, 0.12566844919786097, 0.12299465240641712, 0.12032085561497326, 0.11764705882352941, 0.11497326203208556, 0.11229946524064172, 0.11229946524064172, 0.10962566844919786, 0.10962566844919786, 0.10962566844919786, 0.10962566844919786, 0.10695187165775401, 0.10695187165775401, 0.10427807486631016, 0.10160427807486631, 0.10160427807486631, 0.09893048128342247, 0.0962566844919786, 0.09358288770053476, 0.09358288770053476, 0.09090909090909091, 0.09090909090909091, 0.08823529411764706, 0.0855614973262032, 0.0855614973262032, 0.08288770053475936, 0.08021390374331551, 0.07754010695187166, 0.0748663101604278, 0.07219251336898395, 0.06951871657754011, 0.06684491978609626, 0.06684491978609626, 0.06417112299465241, 0.06417112299465241, 0.06417112299465241, 0.06149732620320856, 0.06149732620320856, 0.058823529411764705, 0.058823529411764705, 0.058823529411764705, 0.05614973262032086, 0.053475935828877004, 0.053475935828877004, 0.05080213903743316, 0.0481283422459893, 0.045454545454545456, 0.0427807486631016, 0.040106951871657755, 0.0374331550802139, 0.034759358288770054, 0.03208556149732621, 0.029411764705882353, 0.029411764705882353, 0.026737967914438502, 0.02406417112299465, 0.0213903743315508, 0.01871657754010695, 0.01871657754010695, 0.016042780748663103, 0.013368983957219251, 0.0106951871657754, 0.008021390374331552, 0.0053475935828877, 0.00267379679144385, 0.00267379679144385, 0.0, 0.0], \"y\": [0.30112721417069244, 0.3005640612409347, 0.3008064516129032, 0.30104923325262306, 0.30129240710823907, 0.301535974130962, 0.3017799352750809, 0.3020242914979757, 0.30226904376012964, 0.30251419302514193, 0.3027597402597403, 0.30300568643379366, 0.3032520325203252, 0.30349877949552484, 0.30374592833876224, 0.30399348003259985, 0.30424143556280586, 0.30448979591836733, 0.3047385620915033, 0.30498773507767785, 0.30523731587561376, 0.30548730548730546, 0.30573770491803276, 0.3059885151763741, 0.30623973727422005, 0.3064913722267872, 0.3067434210526316, 0.3069958847736626, 0.30724876441515653, 0.3075020610057708, 0.30775577557755773, 0.30800990916597853, 0.3082644628099174, 0.30851943755169564, 0.3087748344370861, 0.30903065451532724, 0.3092868988391376, 0.3095435684647303, 0.30980066445182725, 0.3100581878636742, 0.3103161397670549, 0.3105745212323064, 0.31083333333333335, 0.311092577147623, 0.3113522537562604, 0.3116123642439432, 0.31187290969899667, 0.31213389121338914, 0.31239530988274705, 0.3126571668063705, 0.31291946308724833, 0.3131821998320739, 0.3134453781512605, 0.3137089991589571, 0.31397306397306396, 0.3142375737152485, 0.3145025295109612, 0.31476793248945145, 0.31503378378378377, 0.3153000845308538, 0.3155668358714044, 0.31583403895004236, 0.31610169491525425, 0.31636980491942324, 0.3166383701188455, 0.3169073916737468, 0.3171768707482993, 0.3174468085106383, 0.31771720613287907, 0.31798806479113384, 0.318259385665529, 0.318531169940222, 0.3188034188034188, 0.31907613344739094, 0.3193493150684932, 0.3196229648671808, 0.31989708404802747, 0.3201716738197425, 0.32044673539518903, 0.3207222699914015, 0.32099827882960413, 0.32127476313522824, 0.32155172413793104, 0.32182916307161347, 0.3221070811744387, 0.32238547968885045, 0.3226643598615917, 0.3229437229437229, 0.32322357019064124, 0.32350390286209885, 0.3237847222222222, 0.32319721980886185, 0.3234782608695652, 0.3237597911227154, 0.3240418118466899, 0.32432432432432434, 0.32460732984293195, 0.32489082969432315, 0.32517482517482516, 0.32545931758530183, 0.3257443082311734, 0.32602979842243646, 0.3263157894736842, 0.32660228270412645, 0.3268892794376098, 0.32717678100263853, 0.3274647887323944, 0.3277533039647577, 0.328042328042328, 0.3283318623124448, 0.3286219081272085, 0.32891246684350134, 0.3292035398230089, 0.32949512843224094, 0.32978723404255317, 0.3300798580301686, 0.33037300177619894, 0.33066666666666666, 0.3309608540925267, 0.3312555654496883, 0.3315508021390374, 0.33184656556645853, 0.33214285714285713, 0.3315460232350313, 0.33184257602862255, 0.3321396598030439, 0.3324372759856631, 0.3327354260089686, 0.33303411131059246, 0.3333333333333333, 0.33363309352517984, 0.3339333933393339, 0.3342342342342342, 0.3345356176735798, 0.3348375451263538, 0.33514001806684734, 0.33544303797468356, 0.3357466063348416, 0.3351449275362319, 0.3354487760652765, 0.33575317604355714, 0.33605812897366033, 0.33636363636363636, 0.33666969972702454, 0.33697632058287796, 0.33728350045578853, 0.3375912408759124, 0.3378995433789954, 0.3382084095063985, 0.33851784080512354, 0.33882783882783885, 0.3391384051329056, 0.3394495412844037, 0.3397612488521579, 0.3400735294117647, 0.3403863845446182, 0.3406998158379374, 0.34101382488479265, 0.3413284132841328, 0.34164358264081257, 0.3419593345656192, 0.3422756706753006, 0.3425925925925926, 0.34291010194624655, 0.3432282003710575, 0.3435468895078923, 0.34386617100371747, 0.34418604651162793, 0.34450651769087526, 0.3448275862068966, 0.3451492537313433, 0.34547152194211017, 0.34579439252336447, 0.3461178671655753, 0.3464419475655431, 0.3467666354264292, 0.34709193245778613, 0.3474178403755869, 0.34774436090225563, 0.34807149576669805, 0.3483992467043315, 0.34872761545711595, 0.3490566037735849, 0.3493862134088763, 0.3497164461247637, 0.3500473036896878, 0.3503787878787879, 0.35071090047393366, 0.3510436432637571, 0.3513770180436847, 0.3517110266159696, 0.3520456707897241, 0.3514285714285714, 0.3517635843660629, 0.3520992366412214, 0.35148042024832854, 0.35181644359464626, 0.3521531100478469, 0.3524904214559387, 0.35282837967401726, 0.3531669865642994, 0.35350624399615754, 0.35384615384615387, 0.35418671799807505, 0.35452793834296725, 0.3548698167791707, 0.3552123552123552, 0.35555555555555557, 0.35589941972920697, 0.356243949661181, 0.35658914728682173, 0.3569350145489816, 0.3572815533980582, 0.3576287657920311, 0.35797665369649806, 0.35832521908471276, 0.3586744639376218, 0.3590243902439024, 0.359375, 0.3597262952101662, 0.35909980430528377, 0.3594515181194907, 0.35980392156862745, 0.3601570166830226, 0.3605108055009823, 0.3608652900688299, 0.3612204724409449, 0.361576354679803, 0.3619329388560158, 0.36229022704837116, 0.36264822134387353, 0.3630069238377844, 0.36336633663366336, 0.36372646184340934, 0.36408730158730157, 0.3634558093346574, 0.36381709741550694, 0.36318407960199006, 0.36354581673306774, 0.36390827517447655, 0.36427145708582837, 0.3646353646353646, 0.365, 0.36536536536536535, 0.3657314629258517, 0.36609829488465395, 0.36646586345381527, 0.36683417085427134, 0.3672032193158954, 0.3675730110775428, 0.36794354838709675, 0.3683148335015136, 0.3686868686868687, 0.3690596562184024, 0.3694331983805668, 0.3698074974670719, 0.37018255578093306, 0.37055837563451777, 0.3709349593495935, 0.3713123092573754, 0.37169042769857435, 0.3720693170234455, 0.37142857142857144, 0.3718079673135853, 0.3721881390593047, 0.3725690890481064, 0.3729508196721312, 0.37333333333333335, 0.3737166324435318, 0.37410071942446044, 0.37448559670781895, 0.3748712667353244, 0.3752577319587629, 0.37564499484004127, 0.3760330578512397, 0.3764219234746639, 0.37681159420289856, 0.3772020725388601, 0.3775933609958506, 0.37798546209761164, 0.3783783783783784, 0.37877211238293446, 0.37916666666666665, 0.3795620437956204, 0.37995824634655534, 0.38035527690700105, 0.3807531380753138, 0.381151832460733, 0.38155136268343814, 0.38195173137460653, 0.38235294117647056, 0.38275499474237645, 0.3831578947368421, 0.3835616438356164, 0.38396624472573837, 0.3843717001055966, 0.38477801268498946, 0.3851851851851852, 0.3855932203389831, 0.3860021208907741, 0.386411889596603, 0.38682252922422955, 0.3861702127659574, 0.3865814696485623, 0.38699360341151384, 0.3874066168623266, 0.38782051282051283, 0.38823529411764707, 0.3886509635974304, 0.3890675241157556, 0.3894849785407725, 0.38990332975295383, 0.3903225806451613, 0.38966630785791173, 0.3900862068965517, 0.39050701186623515, 0.39092872570194387, 0.39135135135135135, 0.3917748917748918, 0.39219934994582883, 0.3926247288503254, 0.3930510314875136, 0.3934782608695652, 0.3939064200217628, 0.39433551198257083, 0.39476553980370777, 0.3951965065502183, 0.39562841530054643, 0.39606126914660833, 0.3964950711938664, 0.3969298245614035, 0.3973655323819978, 0.3978021978021978, 0.39823982398239827, 0.3986784140969163, 0.39911797133406834, 0.3995584988962472, 0.4, 0.4004424778761062, 0.4008859357696567, 0.401330376940133, 0.4017758046614872, 0.4022222222222222, 0.40266963292547275, 0.40200445434298443, 0.4013377926421405, 0.4017857142857143, 0.4022346368715084, 0.40268456375838924, 0.40313549832026874, 0.40358744394618834, 0.40404040404040403, 0.40337078651685393, 0.40382452193475815, 0.40427927927927926, 0.4047350620067644, 0.4051918735891648, 0.4056497175141243, 0.40497737556561086, 0.40543601359003395, 0.40589569160997735, 0.40635641316685583, 0.4068181818181818, 0.4072810011376564, 0.40774487471526194, 0.40820980615735464, 0.408675799086758, 0.40914285714285714, 0.4096109839816934, 0.41008018327605955, 0.40940366972477066, 0.40987370838117104, 0.4103448275862069, 0.4096662830840046, 0.41013824884792627, 0.41061130334486734, 0.4110854503464203, 0.4115606936416185, 0.41203703703703703, 0.41251448435689453, 0.41299303944315546, 0.413472706155633, 0.413953488372093, 0.41443538998835855, 0.41375291375291373, 0.41423570595099185, 0.4147196261682243, 0.4152046783625731, 0.41569086651053866, 0.41617819460726846, 0.4166666666666667, 0.4171562867215041, 0.4176470588235294, 0.41813898704358066, 0.4186320754716981, 0.41912632821723733, 0.41962174940898345, 0.42011834319526625, 0.4206161137440758, 0.4211150652431791, 0.42161520190023755, 0.4221165279429251, 0.4226190476190476, 0.4231227651966627, 0.4224343675417661, 0.4217443249701314, 0.4222488038277512, 0.4227544910179641, 0.42326139088729015, 0.4237695078031212, 0.42427884615384615, 0.42478941034897716, 0.42530120481927713, 0.42581423401688784, 0.42632850241545894, 0.4268440145102781, 0.42736077481840196, 0.4266666666666667, 0.42718446601941745, 0.42770352369380316, 0.4282238442822384, 0.4287454323995128, 0.4292682926829268, 0.4297924297924298, 0.43031784841075793, 0.43084455324357407, 0.43137254901960786, 0.43190184049079755, 0.43243243243243246, 0.43296432964329645, 0.43349753694581283, 0.43403205918618987, 0.4345679012345679, 0.43510506798516685, 0.43564356435643564, 0.4349442379182156, 0.43548387096774194, 0.4360248447204969, 0.43656716417910446, 0.43711083437110837, 0.4376558603491272, 0.43820224719101125, 0.43875, 0.4380475594493116, 0.43859649122807015, 0.43914680050188204, 0.4396984924623116, 0.44025157232704404, 0.44080604534005036, 0.44136191677175285, 0.44191919191919193, 0.4424778761061947, 0.4430379746835443, 0.4435994930291508, 0.44416243654822335, 0.44472681067344344, 0.44529262086513993, 0.4445859872611465, 0.4451530612244898, 0.44572158365261816, 0.4462915601023018, 0.4468629961587708, 0.44743589743589746, 0.44801026957637996, 0.448586118251928, 0.44787644787644787, 0.4484536082474227, 0.44903225806451613, 0.4496124031007752, 0.4501940491591203, 0.45077720207253885, 0.45136186770428016, 0.45194805194805193, 0.45253576072821844, 0.453125, 0.45371577574967403, 0.45430809399477806, 0.4549019607843137, 0.45549738219895286, 0.45478374836173, 0.4553805774278215, 0.4559789750328515, 0.45526315789473687, 0.45586297760210803, 0.45646437994722955, 0.4570673712021136, 0.4576719576719577, 0.45695364238410596, 0.45755968169761274, 0.4581673306772908, 0.4587765957446808, 0.459387483355526, 0.46, 0.4606141522029373, 0.4612299465240642, 0.46184738955823296, 0.4624664879356568, 0.46308724832214765, 0.4637096774193548, 0.46433378196500674, 0.46495956873315364, 0.46558704453441296, 0.46621621621621623, 0.4668470906630582, 0.46612466124661245, 0.4654002713704206, 0.46603260869565216, 0.4666666666666667, 0.4659400544959128, 0.46521145975443384, 0.46584699453551914, 0.466484268125855, 0.4657534246575342, 0.4663923182441701, 0.46565934065934067, 0.4649243466299862, 0.4641873278236915, 0.46482758620689657, 0.46408839779005523, 0.46473029045643155, 0.46537396121883656, 0.46601941747572817, 0.4666666666666667, 0.4659248956884562, 0.46518105849582175, 0.46582984658298465, 0.4650837988826816, 0.46573426573426574, 0.46638655462184875, 0.4670406732117812, 0.46769662921348315, 0.46835443037974683, 0.4676056338028169, 0.4682651622002821, 0.4689265536723164, 0.4695898161244696, 0.4702549575070821, 0.47092198581560285, 0.4715909090909091, 0.47083926031294454, 0.47150997150997154, 0.47218259629101283, 0.47285714285714286, 0.47353361945636624, 0.47421203438395415, 0.4748923959827834, 0.4755747126436782, 0.4762589928057554, 0.4769452449567723, 0.47763347763347763, 0.47832369942196534, 0.47901591895803186, 0.4797101449275362, 0.48040638606676345, 0.4811046511627907, 0.48180494905385735, 0.48250728862973763, 0.4832116788321168, 0.48391812865497075, 0.48462664714494874, 0.48533724340175954, 0.4845814977973568, 0.4838235294117647, 0.4845360824742268, 0.4837758112094395, 0.4844903988183161, 0.48372781065088755, 0.48444444444444446, 0.48516320474777447, 0.48588410104011887, 0.4851190476190476, 0.4858420268256334, 0.48656716417910445, 0.4872944693572496, 0.4880239520958084, 0.48875562218890556, 0.4894894894894895, 0.49022556390977445, 0.49096385542168675, 0.4917043740573152, 0.49244712990936557, 0.49319213313161875, 0.49393939393939396, 0.4931714719271624, 0.4939209726443769, 0.4946727549467275, 0.4954268292682927, 0.4961832061068702, 0.4969418960244648, 0.49617151607963245, 0.495398773006135, 0.4946236559139785, 0.49538461538461537, 0.4946070878274268, 0.49537037037037035, 0.4945904173106646, 0.4953560371517028, 0.49612403100775193, 0.4953416149068323, 0.49611197511664074, 0.4968847352024922, 0.49765990639625585, 0.4984375, 0.49921752738654146, 0.49843260188087773, 0.4976452119309262, 0.49842767295597484, 0.49921259842519683, 0.49842271293375395, 0.4976303317535545, 0.49841772151898733, 0.4976228209191759, 0.4984126984126984, 0.49920508744038156, 0.5, 0.5007974481658692, 0.5015974440894568, 0.5024, 0.5032051282051282, 0.5040128410914928, 0.5032154340836013, 0.5040257648953301, 0.5048387096774194, 0.505654281098546, 0.5064724919093851, 0.5056726094003241, 0.5064935064935064, 0.5073170731707317, 0.50814332247557, 0.5089722675367048, 0.5081699346405228, 0.5090016366612111, 0.5098360655737705, 0.5106732348111659, 0.5098684210526315, 0.5107084019769358, 0.5099009900990099, 0.5107438016528926, 0.5115894039735099, 0.5124378109452736, 0.5132890365448505, 0.5141430948419301, 0.515, 0.5158597662771286, 0.5167224080267558, 0.5175879396984925, 0.5167785234899329, 0.5159663865546219, 0.5168350168350169, 0.5177065767284992, 0.5168918918918919, 0.5160744500846024, 0.5152542372881356, 0.5161290322580645, 0.5170068027210885, 0.5178875638841567, 0.5187713310580204, 0.517948717948718, 0.5188356164383562, 0.5197255574614065, 0.520618556701031, 0.5197934595524957, 0.5189655172413793, 0.5198618307426598, 0.5190311418685121, 0.5199306759098787, 0.5208333333333334, 0.5217391304347826, 0.5226480836236934, 0.5235602094240838, 0.5244755244755245, 0.5253940455341506, 0.5263157894736842, 0.5272407732864675, 0.528169014084507, 0.5291005291005291, 0.5300353356890459, 0.5309734513274337, 0.5319148936170213, 0.5328596802841918, 0.5338078291814946, 0.5347593582887701, 0.5357142857142857, 0.5366726296958855, 0.53584229390681, 0.5368043087971275, 0.5377697841726619, 0.5369369369369369, 0.5379061371841155, 0.538878842676311, 0.5380434782608695, 0.5372050816696915, 0.5381818181818182, 0.5391621129326047, 0.5383211678832117, 0.5393053016453382, 0.5402930402930403, 0.5412844036697247, 0.5404411764705882, 0.5395948434622467, 0.5387453874538746, 0.5397412199630314, 0.5407407407407407, 0.5417439703153989, 0.5427509293680297, 0.5437616387337058, 0.542910447761194, 0.5439252336448598, 0.5449438202247191, 0.5440900562851783, 0.543233082706767, 0.544256120527307, 0.5452830188679245, 0.5444234404536862, 0.5454545454545454, 0.5445920303605313, 0.5456273764258555, 0.5466666666666666, 0.5458015267175572, 0.5468451242829828, 0.5459770114942529, 0.5470249520153551, 0.5480769230769231, 0.5491329479768786, 0.5482625482625483, 0.5473887814313346, 0.5465116279069767, 0.5475728155339806, 0.5486381322957199, 0.5497076023391813, 0.55078125, 0.5499021526418787, 0.5490196078431373, 0.5481335952848723, 0.5492125984251969, 0.5502958579881657, 0.5513833992094862, 0.5524752475247525, 0.5535714285714286, 0.5526838966202783, 0.5517928286852589, 0.5528942115768463, 0.552, 0.5531062124248497, 0.5542168674698795, 0.5553319919517102, 0.5564516129032258, 0.5575757575757576, 0.5587044534412956, 0.5598377281947262, 0.5609756097560976, 0.5621181262729125, 0.563265306122449, 0.5644171779141104, 0.5635245901639344, 0.5626283367556468, 0.5637860082304527, 0.5649484536082474, 0.5640495867768595, 0.5631469979296067, 0.5643153526970954, 0.5654885654885655, 0.5666666666666667, 0.5657620041753654, 0.5648535564853556, 0.5660377358490566, 0.5672268907563025, 0.5684210526315789, 0.569620253164557, 0.5687103594080338, 0.5699152542372882, 0.5711252653927813, 0.5702127659574469, 0.5692963752665245, 0.5705128205128205, 0.5717344753747323, 0.5708154506437768, 0.5698924731182796, 0.5711206896551724, 0.572354211663067, 0.5735930735930735, 0.5748373101952278, 0.5739130434782609, 0.5729847494553377, 0.5720524017467249, 0.5733041575492341, 0.5745614035087719, 0.5758241758241758, 0.5770925110132159, 0.5783664459161147, 0.5796460176991151, 0.5787139689578714, 0.5777777777777777, 0.579064587973274, 0.578125, 0.5771812080536913, 0.57847533632287, 0.5797752808988764, 0.581081081081081, 0.582392776523702, 0.581447963800905, 0.5804988662131519, 0.5795454545454546, 0.5785876993166287, 0.5776255707762558, 0.5789473684210527, 0.5779816513761468, 0.5793103448275863, 0.5806451612903226, 0.581986143187067, 0.5833333333333334, 0.5846867749419954, 0.586046511627907, 0.5874125874125874, 0.5864485981308412, 0.5878220140515222, 0.5868544600938967, 0.5882352941176471, 0.589622641509434, 0.5886524822695035, 0.5876777251184834, 0.5890736342042755, 0.5880952380952381, 0.5871121718377088, 0.5861244019138756, 0.5851318944844125, 0.5841346153846154, 0.5855421686746988, 0.5869565217391305, 0.5883777239709443, 0.587378640776699, 0.5888077858880778, 0.5902439024390244, 0.5916870415647921, 0.5906862745098039, 0.5921375921375921, 0.5935960591133005, 0.5950617283950618, 0.594059405940594, 0.5930521091811415, 0.5920398009950248, 0.5910224438902744, 0.5925, 0.5939849624060151, 0.5954773869346733, 0.5969773299748111, 0.5984848484848485, 0.5974683544303797, 0.5989847715736041, 0.5979643765903307, 0.5994897959183674, 0.6010230179028133, 0.6, 0.6015424164524421, 0.6005154639175257, 0.599483204134367, 0.5984455958549223, 0.5974025974025974, 0.5963541666666666, 0.5953002610966057, 0.5968586387434555, 0.5984251968503937, 0.5973684210526315, 0.5963060686015831, 0.5978835978835979, 0.596816976127321, 0.598404255319149, 0.5973333333333334, 0.5989304812834224, 0.6005361930294906, 0.5994623655913979, 0.601078167115903, 0.6027027027027027, 0.6043360433604336, 0.6032608695652174, 0.6049046321525886, 0.6065573770491803, 0.6082191780821918, 0.6071428571428571, 0.6060606060606061, 0.6049723756906077, 0.6038781163434903, 0.6027777777777777, 0.6044568245125348, 0.6033519553072626, 0.6022408963585434, 0.6039325842696629, 0.6028169014084507, 0.6045197740112994, 0.603399433427762, 0.6051136363636364, 0.6068376068376068, 0.6085714285714285, 0.6074498567335244, 0.6091954022988506, 0.6080691642651297, 0.6069364161849711, 0.6057971014492753, 0.6075581395348837, 0.60932944606414, 0.6111111111111112, 0.6099706744868035, 0.6088235294117647, 0.6106194690265486, 0.6124260355029586, 0.6142433234421365, 0.6130952380952381, 0.6149253731343284, 0.6167664670658682, 0.6186186186186187, 0.6204819277108434, 0.6193353474320241, 0.6181818181818182, 0.6170212765957447, 0.6158536585365854, 0.6146788990825688, 0.6134969325153374, 0.6153846153846154, 0.6172839506172839, 0.6160990712074303, 0.6180124223602484, 0.616822429906542, 0.615625, 0.6144200626959248, 0.6132075471698113, 0.6151419558359621, 0.6139240506329114, 0.6126984126984127, 0.6114649681528662, 0.610223642172524, 0.6121794871794872, 0.6141479099678456, 0.6129032258064516, 0.6116504854368932, 0.6136363636363636, 0.6156351791530945, 0.6143790849673203, 0.6131147540983607, 0.6151315789473685, 0.6138613861386139, 0.6125827814569537, 0.6112956810631229, 0.6133333333333333, 0.6153846153846154, 0.6174496644295302, 0.6161616161616161, 0.6182432432432432, 0.6203389830508474, 0.6190476190476191, 0.6177474402730375, 0.6198630136986302, 0.6185567010309279, 0.6206896551724138, 0.6228373702422145, 0.625, 0.627177700348432, 0.6258741258741258, 0.624561403508772, 0.6232394366197183, 0.6219081272084805, 0.624113475177305, 0.6263345195729537, 0.6285714285714286, 0.6308243727598566, 0.6330935251798561, 0.631768953068592, 0.6340579710144928, 0.6327272727272727, 0.635036496350365, 0.6373626373626373, 0.6360294117647058, 0.6346863468634686, 0.6370370370370371, 0.6356877323420075, 0.6380597014925373, 0.6367041198501873, 0.6353383458646616, 0.6339622641509434, 0.6363636363636364, 0.6349809885931559, 0.6374045801526718, 0.6398467432950191, 0.6384615384615384, 0.640926640926641, 0.6395348837209303, 0.642023346303502, 0.64453125, 0.6431372549019608, 0.6456692913385826, 0.6442687747035574, 0.6468253968253969, 0.6454183266932271, 0.644, 0.642570281124498, 0.6411290322580645, 0.6396761133603239, 0.6382113821138211, 0.636734693877551, 0.6352459016393442, 0.6378600823045267, 0.6363636363636364, 0.6348547717842323, 0.6375, 0.6359832635983264, 0.6386554621848739, 0.6371308016877637, 0.6398305084745762, 0.6382978723404256, 0.6367521367521367, 0.6351931330472103, 0.6336206896551724, 0.6363636363636364, 0.6347826086956522, 0.6375545851528385, 0.6403508771929824, 0.6387665198237885, 0.6415929203539823, 0.6444444444444445, 0.6473214285714286, 0.6502242152466368, 0.6486486486486487, 0.6470588235294118, 0.6454545454545455, 0.6438356164383562, 0.6422018348623854, 0.6451612903225806, 0.6481481481481481, 0.6465116279069767, 0.6448598130841121, 0.6431924882629108, 0.6415094339622641, 0.6398104265402843, 0.6428571428571429, 0.6411483253588517, 0.6442307692307693, 0.6473429951690821, 0.6456310679611651, 0.6439024390243903, 0.6421568627450981, 0.6403940886699507, 0.6435643564356436, 0.6467661691542289, 0.65, 0.6482412060301508, 0.6515151515151515, 0.649746192893401, 0.6530612244897959, 0.6512820512820513, 0.654639175257732, 0.6580310880829016, 0.65625, 0.6544502617801047, 0.6578947368421053, 0.656084656084656, 0.6595744680851063, 0.6631016042780749, 0.6666666666666666, 0.6702702702702703, 0.6684782608695652, 0.6666666666666666, 0.6648351648351648, 0.6685082872928176, 0.6722222222222223, 0.6759776536312849, 0.6797752808988764, 0.6779661016949152, 0.6818181818181818, 0.68, 0.6781609195402298, 0.6820809248554913, 0.6802325581395349, 0.6842105263157895, 0.6823529411764706, 0.6863905325443787, 0.6904761904761905, 0.688622754491018, 0.6867469879518072, 0.6848484848484848, 0.6890243902439024, 0.6932515337423313, 0.691358024691358, 0.6894409937888198, 0.6875, 0.6855345911949685, 0.6835443037974683, 0.6815286624203821, 0.6794871794871795, 0.6774193548387096, 0.6753246753246753, 0.673202614379085, 0.6710526315789473, 0.6688741721854304, 0.6666666666666666, 0.6711409395973155, 0.668918918918919, 0.6666666666666666, 0.6712328767123288, 0.6758620689655173, 0.6736111111111112, 0.6713286713286714, 0.6690140845070423, 0.6666666666666666, 0.6642857142857143, 0.6618705035971223, 0.6666666666666666, 0.6642335766423357, 0.6617647058823529, 0.6592592592592592, 0.6567164179104478, 0.6541353383458647, 0.6515151515151515, 0.648854961832061, 0.6538461538461539, 0.6589147286821705, 0.6640625, 0.6614173228346457, 0.6666666666666666, 0.672, 0.6693548387096774, 0.6666666666666666, 0.6721311475409836, 0.6776859504132231, 0.6833333333333333, 0.680672268907563, 0.6779661016949152, 0.6752136752136753, 0.6810344827586207, 0.6782608695652174, 0.6842105263157895, 0.6814159292035398, 0.6875, 0.6846846846846847, 0.6818181818181818, 0.6788990825688074, 0.6759259259259259, 0.6728971962616822, 0.6792452830188679, 0.6857142857142857, 0.6826923076923077, 0.6893203883495146, 0.696078431372549, 0.693069306930693, 0.69, 0.696969696969697, 0.7040816326530612, 0.7010309278350515, 0.7083333333333334, 0.7052631578947368, 0.7127659574468085, 0.7096774193548387, 0.717391304347826, 0.7142857142857143, 0.7111111111111111, 0.7078651685393258, 0.7159090909090909, 0.7241379310344828, 0.7209302325581395, 0.7294117647058823, 0.7261904761904762, 0.7228915662650602, 0.7317073170731707, 0.7407407407407407, 0.7375, 0.7341772151898734, 0.7307692307692307, 0.7402597402597403, 0.7368421052631579, 0.7333333333333333, 0.7297297297297297, 0.726027397260274, 0.7222222222222222, 0.7183098591549296, 0.7142857142857143, 0.7101449275362319, 0.7058823529411765, 0.7014925373134329, 0.696969696969697, 0.6923076923076923, 0.6875, 0.6825396825396826, 0.6774193548387096, 0.6885245901639344, 0.6833333333333333, 0.6949152542372882, 0.7068965517241379, 0.7192982456140351, 0.7142857142857143, 0.7272727272727273, 0.7222222222222222, 0.7169811320754716, 0.7307692307692307, 0.7254901960784313, 0.72, 0.7142857142857143, 0.7291666666666666, 0.723404255319149, 0.7391304347826086, 0.7333333333333333, 0.7272727272727273, 0.7441860465116279, 0.7380952380952381, 0.7317073170731707, 0.725, 0.717948717948718, 0.7105263157894737, 0.7027027027027027, 0.6944444444444444, 0.7142857142857143, 0.7058823529411765, 0.7272727272727273, 0.75, 0.7419354838709677, 0.7666666666666667, 0.7586206896551724, 0.7857142857142857, 0.8148148148148148, 0.8076923076923077, 0.8, 0.8333333333333334, 0.8260869565217391, 0.8181818181818182, 0.8095238095238095, 0.8, 0.7894736842105263, 0.7777777777777778, 0.7647058823529411, 0.75, 0.7333333333333333, 0.7857142857142857, 0.7692307692307693, 0.75, 0.7272727272727273, 0.7, 0.7777777777777778, 0.75, 0.7142857142857143, 0.6666666666666666, 0.6, 0.5, 0.3333333333333333, 0.5, 0.0, 1.0]}, {\"mode\": \"lines\", \"name\": \"GNB\", \"type\": \"scatter\", \"x\": [1.0, 0.9973262032085561, 0.9973262032085561, 0.9973262032085561, 0.9973262032085561, 0.9973262032085561, 0.9973262032085561, 0.9973262032085561, 0.9973262032085561, 0.9973262032085561, 0.9973262032085561, 0.9973262032085561, 0.9973262032085561, 0.9973262032085561, 0.9973262032085561, 0.9973262032085561, 0.9973262032085561, 0.9973262032085561, 0.9973262032085561, 0.9973262032085561, 0.9973262032085561, 0.9973262032085561, 0.9973262032085561, 0.9973262032085561, 0.9973262032085561, 0.9973262032085561, 0.9973262032085561, 0.9973262032085561, 0.9973262032085561, 0.9973262032085561, 0.9973262032085561, 0.9973262032085561, 0.9973262032085561, 0.9973262032085561, 0.9973262032085561, 0.9973262032085561, 0.9973262032085561, 0.9973262032085561, 0.9973262032085561, 0.9973262032085561, 0.9973262032085561, 0.9973262032085561, 0.9973262032085561, 0.9973262032085561, 0.9973262032085561, 0.9973262032085561, 0.9973262032085561, 0.9973262032085561, 0.9973262032085561, 0.9973262032085561, 0.9973262032085561, 0.9973262032085561, 0.9973262032085561, 0.9973262032085561, 0.9973262032085561, 0.9973262032085561, 0.9973262032085561, 0.9973262032085561, 0.9973262032085561, 0.9973262032085561, 0.9973262032085561, 0.9973262032085561, 0.9973262032085561, 0.9973262032085561, 0.9973262032085561, 0.9973262032085561, 0.9973262032085561, 0.9973262032085561, 0.9973262032085561, 0.9973262032085561, 0.9973262032085561, 0.9973262032085561, 0.9973262032085561, 0.9973262032085561, 0.9973262032085561, 0.9973262032085561, 0.9946524064171123, 0.9946524064171123, 0.9946524064171123, 0.9946524064171123, 0.9946524064171123, 0.9946524064171123, 0.9946524064171123, 0.9946524064171123, 0.9946524064171123, 0.9946524064171123, 0.9946524064171123, 0.9946524064171123, 0.9946524064171123, 0.9946524064171123, 0.9946524064171123, 0.9946524064171123, 0.9946524064171123, 0.9946524064171123, 0.9946524064171123, 0.9946524064171123, 0.9946524064171123, 0.9946524064171123, 0.9946524064171123, 0.9946524064171123, 0.9946524064171123, 0.9946524064171123, 0.9946524064171123, 0.9946524064171123, 0.9946524064171123, 0.9946524064171123, 0.9946524064171123, 0.9946524064171123, 0.9946524064171123, 0.9946524064171123, 0.9946524064171123, 0.9946524064171123, 0.9946524064171123, 0.9946524064171123, 0.9946524064171123, 0.9946524064171123, 0.9946524064171123, 0.9946524064171123, 0.9946524064171123, 0.9946524064171123, 0.9946524064171123, 0.9946524064171123, 0.9946524064171123, 0.9946524064171123, 0.9946524064171123, 0.9919786096256684, 0.9919786096256684, 0.9893048128342246, 0.9893048128342246, 0.9893048128342246, 0.9893048128342246, 0.9893048128342246, 0.9893048128342246, 0.9893048128342246, 0.9893048128342246, 0.9893048128342246, 0.9893048128342246, 0.9893048128342246, 0.9893048128342246, 0.9893048128342246, 0.9866310160427807, 0.9866310160427807, 0.9866310160427807, 0.9866310160427807, 0.9866310160427807, 0.9866310160427807, 0.9866310160427807, 0.9866310160427807, 0.983957219251337, 0.983957219251337, 0.983957219251337, 0.983957219251337, 0.983957219251337, 0.983957219251337, 0.983957219251337, 0.983957219251337, 0.983957219251337, 0.983957219251337, 0.983957219251337, 0.983957219251337, 0.983957219251337, 0.983957219251337, 0.983957219251337, 0.983957219251337, 0.983957219251337, 0.983957219251337, 0.983957219251337, 0.983957219251337, 0.983957219251337, 0.983957219251337, 0.983957219251337, 0.983957219251337, 0.983957219251337, 0.983957219251337, 0.983957219251337, 0.983957219251337, 0.983957219251337, 0.983957219251337, 0.983957219251337, 0.983957219251337, 0.983957219251337, 0.983957219251337, 0.983957219251337, 0.983957219251337, 0.983957219251337, 0.983957219251337, 0.983957219251337, 0.983957219251337, 0.983957219251337, 0.983957219251337, 0.983957219251337, 0.983957219251337, 0.983957219251337, 0.983957219251337, 0.983957219251337, 0.983957219251337, 0.983957219251337, 0.983957219251337, 0.983957219251337, 0.983957219251337, 0.983957219251337, 0.983957219251337, 0.983957219251337, 0.983957219251337, 0.983957219251337, 0.9812834224598931, 0.9812834224598931, 0.9812834224598931, 0.9812834224598931, 0.9812834224598931, 0.9812834224598931, 0.9812834224598931, 0.9812834224598931, 0.9812834224598931, 0.9812834224598931, 0.9812834224598931, 0.9812834224598931, 0.9812834224598931, 0.9812834224598931, 0.9812834224598931, 0.9812834224598931, 0.9812834224598931, 0.9786096256684492, 0.9786096256684492, 0.9786096256684492, 0.9759358288770054, 0.9759358288770054, 0.9759358288770054, 0.9759358288770054, 0.9732620320855615, 0.9705882352941176, 0.9705882352941176, 0.9705882352941176, 0.9705882352941176, 0.9705882352941176, 0.9705882352941176, 0.9705882352941176, 0.9705882352941176, 0.9705882352941176, 0.9679144385026738, 0.9679144385026738, 0.9679144385026738, 0.9679144385026738, 0.9679144385026738, 0.9679144385026738, 0.9652406417112299, 0.9652406417112299, 0.9652406417112299, 0.9652406417112299, 0.9652406417112299, 0.9652406417112299, 0.9652406417112299, 0.9652406417112299, 0.9652406417112299, 0.9652406417112299, 0.9652406417112299, 0.9652406417112299, 0.9625668449197861, 0.9625668449197861, 0.9625668449197861, 0.9598930481283422, 0.9598930481283422, 0.9598930481283422, 0.9598930481283422, 0.9598930481283422, 0.9572192513368984, 0.9572192513368984, 0.9545454545454546, 0.9545454545454546, 0.9518716577540107, 0.9518716577540107, 0.9518716577540107, 0.9518716577540107, 0.9518716577540107, 0.9518716577540107, 0.9518716577540107, 0.9518716577540107, 0.9518716577540107, 0.9518716577540107, 0.9518716577540107, 0.9518716577540107, 0.9491978609625669, 0.9491978609625669, 0.9491978609625669, 0.9491978609625669, 0.9491978609625669, 0.9491978609625669, 0.9491978609625669, 0.9491978609625669, 0.9491978609625669, 0.9491978609625669, 0.9491978609625669, 0.9491978609625669, 0.9491978609625669, 0.9491978609625669, 0.9491978609625669, 0.9491978609625669, 0.9491978609625669, 0.9491978609625669, 0.946524064171123, 0.946524064171123, 0.946524064171123, 0.946524064171123, 0.946524064171123, 0.946524064171123, 0.946524064171123, 0.946524064171123, 0.9438502673796791, 0.9438502673796791, 0.9438502673796791, 0.9438502673796791, 0.9411764705882353, 0.9411764705882353, 0.9411764705882353, 0.9411764705882353, 0.9411764705882353, 0.9411764705882353, 0.9411764705882353, 0.9411764705882353, 0.9411764705882353, 0.9411764705882353, 0.9385026737967914, 0.9385026737967914, 0.9385026737967914, 0.9358288770053476, 0.9358288770053476, 0.9358288770053476, 0.9358288770053476, 0.9358288770053476, 0.9358288770053476, 0.9358288770053476, 0.9358288770053476, 0.9358288770053476, 0.9358288770053476, 0.9358288770053476, 0.9358288770053476, 0.9358288770053476, 0.9358288770053476, 0.9358288770053476, 0.9358288770053476, 0.9358288770053476, 0.9358288770053476, 0.9358288770053476, 0.9358288770053476, 0.9358288770053476, 0.9358288770053476, 0.9358288770053476, 0.9358288770053476, 0.9358288770053476, 0.9358288770053476, 0.9358288770053476, 0.9358288770053476, 0.9358288770053476, 0.9358288770053476, 0.9358288770053476, 0.9358288770053476, 0.9358288770053476, 0.9358288770053476, 0.9358288770053476, 0.9358288770053476, 0.9358288770053476, 0.9358288770053476, 0.9358288770053476, 0.9358288770053476, 0.9358288770053476, 0.9358288770053476, 0.9358288770053476, 0.9358288770053476, 0.9358288770053476, 0.9331550802139037, 0.9331550802139037, 0.9331550802139037, 0.9331550802139037, 0.9331550802139037, 0.9331550802139037, 0.9331550802139037, 0.9331550802139037, 0.9331550802139037, 0.9331550802139037, 0.9331550802139037, 0.9331550802139037, 0.9331550802139037, 0.9331550802139037, 0.9331550802139037, 0.9331550802139037, 0.93048128342246, 0.93048128342246, 0.93048128342246, 0.93048128342246, 0.93048128342246, 0.93048128342246, 0.93048128342246, 0.93048128342246, 0.93048128342246, 0.93048128342246, 0.93048128342246, 0.93048128342246, 0.9278074866310161, 0.9278074866310161, 0.9278074866310161, 0.9251336898395722, 0.9251336898395722, 0.9251336898395722, 0.9224598930481284, 0.9224598930481284, 0.9224598930481284, 0.9224598930481284, 0.9224598930481284, 0.9224598930481284, 0.9224598930481284, 0.9224598930481284, 0.9224598930481284, 0.9224598930481284, 0.9224598930481284, 0.9224598930481284, 0.9224598930481284, 0.9224598930481284, 0.9224598930481284, 0.9224598930481284, 0.9224598930481284, 0.9224598930481284, 0.9224598930481284, 0.9224598930481284, 0.9197860962566845, 0.9197860962566845, 0.9197860962566845, 0.9197860962566845, 0.9197860962566845, 0.9197860962566845, 0.9197860962566845, 0.9197860962566845, 0.9197860962566845, 0.9197860962566845, 0.9197860962566845, 0.9197860962566845, 0.9197860962566845, 0.9197860962566845, 0.9197860962566845, 0.9197860962566845, 0.9171122994652406, 0.9171122994652406, 0.9171122994652406, 0.9171122994652406, 0.9171122994652406, 0.9171122994652406, 0.9171122994652406, 0.9171122994652406, 0.9171122994652406, 0.9171122994652406, 0.9171122994652406, 0.9171122994652406, 0.9171122994652406, 0.9144385026737968, 0.9144385026737968, 0.9144385026737968, 0.9144385026737968, 0.9144385026737968, 0.9144385026737968, 0.9144385026737968, 0.9144385026737968, 0.9144385026737968, 0.9144385026737968, 0.9117647058823529, 0.9117647058823529, 0.9117647058823529, 0.9117647058823529, 0.9117647058823529, 0.9117647058823529, 0.9117647058823529, 0.9117647058823529, 0.9117647058823529, 0.9117647058823529, 0.9117647058823529, 0.9117647058823529, 0.9117647058823529, 0.9117647058823529, 0.9117647058823529, 0.9117647058823529, 0.9117647058823529, 0.9117647058823529, 0.9117647058823529, 0.9117647058823529, 0.9117647058823529, 0.9117647058823529, 0.9117647058823529, 0.9117647058823529, 0.9117647058823529, 0.9117647058823529, 0.9117647058823529, 0.9117647058823529, 0.9117647058823529, 0.9117647058823529, 0.9117647058823529, 0.9117647058823529, 0.9117647058823529, 0.9117647058823529, 0.9117647058823529, 0.9117647058823529, 0.9117647058823529, 0.9117647058823529, 0.9117647058823529, 0.9117647058823529, 0.9117647058823529, 0.9117647058823529, 0.9117647058823529, 0.9117647058823529, 0.9117647058823529, 0.9117647058823529, 0.9090909090909091, 0.9090909090909091, 0.9090909090909091, 0.9090909090909091, 0.9090909090909091, 0.9090909090909091, 0.9064171122994652, 0.9037433155080213, 0.9037433155080213, 0.9037433155080213, 0.9037433155080213, 0.9037433155080213, 0.9037433155080213, 0.9037433155080213, 0.9037433155080213, 0.9037433155080213, 0.9037433155080213, 0.9037433155080213, 0.9037433155080213, 0.9037433155080213, 0.9010695187165776, 0.8983957219251337, 0.8983957219251337, 0.8983957219251337, 0.8983957219251337, 0.8983957219251337, 0.8983957219251337, 0.8983957219251337, 0.8957219251336899, 0.8957219251336899, 0.8957219251336899, 0.8957219251336899, 0.8957219251336899, 0.893048128342246, 0.893048128342246, 0.893048128342246, 0.893048128342246, 0.8903743315508021, 0.8877005347593583, 0.8877005347593583, 0.8877005347593583, 0.8850267379679144, 0.8850267379679144, 0.8823529411764706, 0.8823529411764706, 0.8823529411764706, 0.8823529411764706, 0.8823529411764706, 0.8823529411764706, 0.8823529411764706, 0.8823529411764706, 0.8823529411764706, 0.8823529411764706, 0.8823529411764706, 0.8823529411764706, 0.8823529411764706, 0.8823529411764706, 0.8823529411764706, 0.8823529411764706, 0.8796791443850267, 0.8796791443850267, 0.8796791443850267, 0.8796791443850267, 0.8770053475935828, 0.8743315508021391, 0.8743315508021391, 0.8743315508021391, 0.8743315508021391, 0.8743315508021391, 0.8743315508021391, 0.8716577540106952, 0.8716577540106952, 0.8689839572192514, 0.8689839572192514, 0.8663101604278075, 0.8663101604278075, 0.8663101604278075, 0.8636363636363636, 0.8609625668449198, 0.8609625668449198, 0.8609625668449198, 0.8609625668449198, 0.8609625668449198, 0.8609625668449198, 0.8609625668449198, 0.8609625668449198, 0.8609625668449198, 0.8609625668449198, 0.8609625668449198, 0.8582887700534759, 0.8582887700534759, 0.8582887700534759, 0.8556149732620321, 0.8556149732620321, 0.8556149732620321, 0.8556149732620321, 0.8556149732620321, 0.8556149732620321, 0.8556149732620321, 0.8556149732620321, 0.8529411764705882, 0.8502673796791443, 0.8502673796791443, 0.8502673796791443, 0.8502673796791443, 0.8502673796791443, 0.8502673796791443, 0.8502673796791443, 0.8502673796791443, 0.8502673796791443, 0.8502673796791443, 0.8502673796791443, 0.8475935828877005, 0.8475935828877005, 0.8475935828877005, 0.8475935828877005, 0.8475935828877005, 0.8475935828877005, 0.8449197860962567, 0.8449197860962567, 0.8449197860962567, 0.8449197860962567, 0.8449197860962567, 0.8449197860962567, 0.8449197860962567, 0.8422459893048129, 0.8422459893048129, 0.8422459893048129, 0.8422459893048129, 0.8422459893048129, 0.8422459893048129, 0.8422459893048129, 0.8422459893048129, 0.8422459893048129, 0.8422459893048129, 0.8422459893048129, 0.8422459893048129, 0.839572192513369, 0.8368983957219251, 0.8368983957219251, 0.8368983957219251, 0.8342245989304813, 0.8342245989304813, 0.8342245989304813, 0.8342245989304813, 0.8342245989304813, 0.8342245989304813, 0.8342245989304813, 0.8342245989304813, 0.8342245989304813, 0.8342245989304813, 0.8342245989304813, 0.8342245989304813, 0.8342245989304813, 0.8342245989304813, 0.8342245989304813, 0.8342245989304813, 0.8342245989304813, 0.8342245989304813, 0.8315508021390374, 0.8315508021390374, 0.8315508021390374, 0.8315508021390374, 0.8315508021390374, 0.8315508021390374, 0.8288770053475936, 0.8288770053475936, 0.8288770053475936, 0.8288770053475936, 0.8288770053475936, 0.8288770053475936, 0.8262032085561497, 0.8262032085561497, 0.8262032085561497, 0.8262032085561497, 0.8262032085561497, 0.8235294117647058, 0.8235294117647058, 0.820855614973262, 0.820855614973262, 0.820855614973262, 0.820855614973262, 0.820855614973262, 0.8181818181818182, 0.8181818181818182, 0.8181818181818182, 0.8181818181818182, 0.8181818181818182, 0.8181818181818182, 0.8181818181818182, 0.8181818181818182, 0.8181818181818182, 0.8181818181818182, 0.8155080213903744, 0.8155080213903744, 0.8155080213903744, 0.8155080213903744, 0.8155080213903744, 0.8155080213903744, 0.8155080213903744, 0.8155080213903744, 0.8155080213903744, 0.8155080213903744, 0.8155080213903744, 0.8155080213903744, 0.8155080213903744, 0.8128342245989305, 0.8101604278074866, 0.8101604278074866, 0.8101604278074866, 0.8101604278074866, 0.8074866310160428, 0.8048128342245989, 0.8021390374331551, 0.8021390374331551, 0.8021390374331551, 0.8021390374331551, 0.8021390374331551, 0.8021390374331551, 0.8021390374331551, 0.8021390374331551, 0.8021390374331551, 0.8021390374331551, 0.7994652406417112, 0.7994652406417112, 0.7994652406417112, 0.7967914438502673, 0.7967914438502673, 0.7941176470588235, 0.7914438502673797, 0.7914438502673797, 0.7914438502673797, 0.7887700534759359, 0.7887700534759359, 0.7887700534759359, 0.7887700534759359, 0.786096256684492, 0.786096256684492, 0.786096256684492, 0.786096256684492, 0.7834224598930482, 0.7834224598930482, 0.7834224598930482, 0.7834224598930482, 0.7807486631016043, 0.7807486631016043, 0.7807486631016043, 0.7780748663101604, 0.7780748663101604, 0.7780748663101604, 0.7780748663101604, 0.7780748663101604, 0.7780748663101604, 0.7780748663101604, 0.7780748663101604, 0.7780748663101604, 0.7780748663101604, 0.7780748663101604, 0.7780748663101604, 0.7780748663101604, 0.7780748663101604, 0.7754010695187166, 0.7754010695187166, 0.7754010695187166, 0.7754010695187166, 0.7754010695187166, 0.7727272727272727, 0.7727272727272727, 0.7727272727272727, 0.7727272727272727, 0.7727272727272727, 0.7727272727272727, 0.7700534759358288, 0.7700534759358288, 0.7700534759358288, 0.7700534759358288, 0.7700534759358288, 0.767379679144385, 0.767379679144385, 0.767379679144385, 0.767379679144385, 0.7647058823529411, 0.7647058823529411, 0.7620320855614974, 0.7620320855614974, 0.7620320855614974, 0.7620320855614974, 0.7620320855614974, 0.7593582887700535, 0.7566844919786097, 0.7566844919786097, 0.7566844919786097, 0.7566844919786097, 0.7540106951871658, 0.7513368983957219, 0.7513368983957219, 0.7513368983957219, 0.7486631016042781, 0.7459893048128342, 0.7459893048128342, 0.7459893048128342, 0.7459893048128342, 0.7459893048128342, 0.7459893048128342, 0.7459893048128342, 0.7433155080213903, 0.7433155080213903, 0.7433155080213903, 0.7406417112299465, 0.7379679144385026, 0.7379679144385026, 0.7379679144385026, 0.7352941176470589, 0.732620320855615, 0.732620320855615, 0.7299465240641712, 0.7299465240641712, 0.7272727272727273, 0.7245989304812834, 0.7245989304812834, 0.7245989304812834, 0.7245989304812834, 0.7245989304812834, 0.7219251336898396, 0.7192513368983957, 0.7165775401069518, 0.7165775401069518, 0.7165775401069518, 0.7165775401069518, 0.7165775401069518, 0.7165775401069518, 0.713903743315508, 0.713903743315508, 0.713903743315508, 0.7112299465240641, 0.7085561497326203, 0.7085561497326203, 0.7085561497326203, 0.7085561497326203, 0.7085561497326203, 0.7058823529411765, 0.7058823529411765, 0.7032085561497327, 0.7032085561497327, 0.7005347593582888, 0.7005347593582888, 0.7005347593582888, 0.7005347593582888, 0.7005347593582888, 0.6978609625668449, 0.6951871657754011, 0.6951871657754011, 0.6951871657754011, 0.6925133689839572, 0.6898395721925134, 0.6871657754010695, 0.6844919786096256, 0.6818181818181818, 0.6818181818181818, 0.6818181818181818, 0.679144385026738, 0.679144385026738, 0.679144385026738, 0.6764705882352942, 0.6737967914438503, 0.6737967914438503, 0.6711229946524064, 0.6684491978609626, 0.6657754010695187, 0.6657754010695187, 0.6657754010695187, 0.6657754010695187, 0.6631016042780749, 0.6631016042780749, 0.6631016042780749, 0.6631016042780749, 0.660427807486631, 0.660427807486631, 0.6577540106951871, 0.6577540106951871, 0.6577540106951871, 0.6577540106951871, 0.6577540106951871, 0.6577540106951871, 0.6577540106951871, 0.6550802139037433, 0.6524064171122995, 0.6524064171122995, 0.6524064171122995, 0.6524064171122995, 0.6524064171122995, 0.6524064171122995, 0.6497326203208557, 0.6470588235294118, 0.6470588235294118, 0.6470588235294118, 0.6443850267379679, 0.6417112299465241, 0.6417112299465241, 0.6417112299465241, 0.6417112299465241, 0.6417112299465241, 0.6417112299465241, 0.6390374331550802, 0.6363636363636364, 0.6336898395721925, 0.6310160427807486, 0.6310160427807486, 0.6310160427807486, 0.6283422459893048, 0.6283422459893048, 0.6283422459893048, 0.6283422459893048, 0.6283422459893048, 0.6256684491978609, 0.6229946524064172, 0.6229946524064172, 0.6229946524064172, 0.6203208556149733, 0.6176470588235294, 0.6149732620320856, 0.6149732620320856, 0.6149732620320856, 0.6122994652406417, 0.6122994652406417, 0.6096256684491979, 0.606951871657754, 0.6042780748663101, 0.6016042780748663, 0.5989304812834224, 0.5989304812834224, 0.5989304812834224, 0.5989304812834224, 0.5989304812834224, 0.5962566844919787, 0.5962566844919787, 0.5935828877005348, 0.5935828877005348, 0.5909090909090909, 0.5909090909090909, 0.5882352941176471, 0.5855614973262032, 0.5855614973262032, 0.5855614973262032, 0.5855614973262032, 0.5828877005347594, 0.5828877005347594, 0.5828877005347594, 0.5828877005347594, 0.5828877005347594, 0.5802139037433155, 0.5802139037433155, 0.5802139037433155, 0.5802139037433155, 0.5775401069518716, 0.5748663101604278, 0.5748663101604278, 0.5748663101604278, 0.5748663101604278, 0.5748663101604278, 0.5721925133689839, 0.56951871657754, 0.56951871657754, 0.5668449197860963, 0.5641711229946524, 0.5641711229946524, 0.5641711229946524, 0.5614973262032086, 0.5614973262032086, 0.5588235294117647, 0.5561497326203209, 0.5561497326203209, 0.5561497326203209, 0.5561497326203209, 0.5561497326203209, 0.5561497326203209, 0.5561497326203209, 0.553475935828877, 0.5508021390374331, 0.5481283422459893, 0.5454545454545454, 0.5427807486631016, 0.5401069518716578, 0.5374331550802139, 0.5347593582887701, 0.5320855614973262, 0.5294117647058824, 0.5294117647058824, 0.5267379679144385, 0.5240641711229946, 0.5240641711229946, 0.5240641711229946, 0.5240641711229946, 0.5213903743315508, 0.5187165775401069, 0.516042780748663, 0.516042780748663, 0.5133689839572193, 0.5106951871657754, 0.5080213903743316, 0.5053475935828877, 0.5026737967914439, 0.5, 0.5, 0.49732620320855614, 0.49732620320855614, 0.49732620320855614, 0.4946524064171123, 0.4919786096256685, 0.4893048128342246, 0.4893048128342246, 0.4893048128342246, 0.4893048128342246, 0.48663101604278075, 0.4839572192513369, 0.48128342245989303, 0.4786096256684492, 0.4786096256684492, 0.4786096256684492, 0.47593582887700536, 0.4732620320855615, 0.47058823529411764, 0.47058823529411764, 0.4679144385026738, 0.46524064171123, 0.46524064171123, 0.46524064171123, 0.4625668449197861, 0.4625668449197861, 0.45989304812834225, 0.45989304812834225, 0.45989304812834225, 0.45989304812834225, 0.45989304812834225, 0.4572192513368984, 0.45454545454545453, 0.45454545454545453, 0.45187165775401067, 0.44919786096256686, 0.446524064171123, 0.446524064171123, 0.446524064171123, 0.44385026737967914, 0.4411764705882353, 0.4411764705882353, 0.4385026737967914, 0.4358288770053476, 0.4358288770053476, 0.4358288770053476, 0.4358288770053476, 0.43315508021390375, 0.4304812834224599, 0.42780748663101603, 0.42780748663101603, 0.42780748663101603, 0.42513368983957217, 0.42245989304812837, 0.4197860962566845, 0.4197860962566845, 0.41711229946524064, 0.4144385026737968, 0.4117647058823529, 0.4090909090909091, 0.4090909090909091, 0.4090909090909091, 0.40641711229946526, 0.40641711229946526, 0.4037433155080214, 0.40106951871657753, 0.3983957219251337, 0.39572192513368987, 0.39572192513368987, 0.393048128342246, 0.393048128342246, 0.39037433155080214, 0.3877005347593583, 0.3877005347593583, 0.3850267379679144, 0.38235294117647056, 0.37967914438502676, 0.37967914438502676, 0.37967914438502676, 0.37967914438502676, 0.37967914438502676, 0.3770053475935829, 0.37433155080213903, 0.37433155080213903, 0.37433155080213903, 0.3716577540106952, 0.3689839572192513, 0.3663101604278075, 0.3663101604278075, 0.36363636363636365, 0.36363636363636365, 0.36363636363636365, 0.36363636363636365, 0.3609625668449198, 0.3582887700534759, 0.3582887700534759, 0.35561497326203206, 0.35561497326203206, 0.35561497326203206, 0.35294117647058826, 0.3502673796791444, 0.34759358288770054, 0.3449197860962567, 0.3422459893048128, 0.3422459893048128, 0.3422459893048128, 0.339572192513369, 0.33689839572192515, 0.3342245989304813, 0.3342245989304813, 0.3315508021390374, 0.32887700534759357, 0.32887700534759357, 0.32620320855614976, 0.3235294117647059, 0.32085561497326204, 0.32085561497326204, 0.3181818181818182, 0.3181818181818182, 0.3155080213903743, 0.3155080213903743, 0.3155080213903743, 0.31283422459893045, 0.31016042780748665, 0.31016042780748665, 0.31016042780748665, 0.3074866310160428, 0.3048128342245989, 0.30213903743315507, 0.2994652406417112, 0.2967914438502674, 0.2967914438502674, 0.29411764705882354, 0.29411764705882354, 0.2914438502673797, 0.2887700534759358, 0.28609625668449196, 0.28342245989304815, 0.28342245989304815, 0.28342245989304815, 0.28342245989304815, 0.28342245989304815, 0.2807486631016043, 0.27807486631016043, 0.27807486631016043, 0.27807486631016043, 0.27807486631016043, 0.27807486631016043, 0.27540106951871657, 0.27540106951871657, 0.2727272727272727, 0.2700534759358289, 0.2700534759358289, 0.2700534759358289, 0.26737967914438504, 0.2647058823529412, 0.2620320855614973, 0.2620320855614973, 0.25935828877005346, 0.25668449197860965, 0.2540106951871658, 0.25133689839572193, 0.24866310160427807, 0.24866310160427807, 0.24866310160427807, 0.24598930481283424, 0.24598930481283424, 0.24331550802139038, 0.24064171122994651, 0.24064171122994651, 0.24064171122994651, 0.24064171122994651, 0.23796791443850268, 0.23796791443850268, 0.23529411764705882, 0.23529411764705882, 0.232620320855615, 0.22994652406417113, 0.22727272727272727, 0.22727272727272727, 0.22727272727272727, 0.22727272727272727, 0.22727272727272727, 0.22459893048128343, 0.22459893048128343, 0.22459893048128343, 0.22192513368983957, 0.22192513368983957, 0.22192513368983957, 0.2192513368983957, 0.21657754010695188, 0.21390374331550802, 0.21122994652406418, 0.21122994652406418, 0.20855614973262032, 0.20588235294117646, 0.20320855614973263, 0.20320855614973263, 0.20053475935828877, 0.20053475935828877, 0.19786096256684493, 0.19786096256684493, 0.19518716577540107, 0.1925133689839572, 0.1925133689839572, 0.18983957219251338, 0.18983957219251338, 0.18716577540106952, 0.18449197860962566, 0.18181818181818182, 0.17914438502673796, 0.17647058823529413, 0.17379679144385027, 0.1711229946524064, 0.16844919786096257, 0.16844919786096257, 0.16844919786096257, 0.16844919786096257, 0.1657754010695187, 0.16310160427807488, 0.16310160427807488, 0.16042780748663102, 0.15775401069518716, 0.15508021390374332, 0.15240641711229946, 0.1497326203208556, 0.14705882352941177, 0.1443850267379679, 0.1443850267379679, 0.1443850267379679, 0.14171122994652408, 0.13903743315508021, 0.13636363636363635, 0.13368983957219252, 0.13101604278074866, 0.12834224598930483, 0.12566844919786097, 0.12299465240641712, 0.12299465240641712, 0.12032085561497326, 0.11764705882352941, 0.11497326203208556, 0.11229946524064172, 0.10962566844919786, 0.10962566844919786, 0.10695187165775401, 0.10427807486631016, 0.10160427807486631, 0.09893048128342247, 0.0962566844919786, 0.09358288770053476, 0.09090909090909091, 0.08823529411764706, 0.08823529411764706, 0.0855614973262032, 0.0855614973262032, 0.0855614973262032, 0.08288770053475936, 0.08021390374331551, 0.07754010695187166, 0.07754010695187166, 0.0748663101604278, 0.07219251336898395, 0.07219251336898395, 0.07219251336898395, 0.06951871657754011, 0.06684491978609626, 0.06684491978609626, 0.06684491978609626, 0.06417112299465241, 0.06417112299465241, 0.06149732620320856, 0.06149732620320856, 0.058823529411764705, 0.05614973262032086, 0.053475935828877004, 0.05080213903743316, 0.0481283422459893, 0.045454545454545456, 0.045454545454545456, 0.045454545454545456, 0.0427807486631016, 0.0427807486631016, 0.0427807486631016, 0.040106951871657755, 0.0374331550802139, 0.034759358288770054, 0.03208556149732621, 0.03208556149732621, 0.029411764705882353, 0.026737967914438502, 0.026737967914438502, 0.02406417112299465, 0.0213903743315508, 0.0213903743315508, 0.01871657754010695, 0.016042780748663103, 0.013368983957219251, 0.0106951871657754, 0.0106951871657754, 0.008021390374331552, 0.0053475935828877, 0.00267379679144385, 0.0], \"y\": [0.2846270928462709, 0.2840822543792841, 0.2842987804878049, 0.28451563691838294, 0.28473282442748094, 0.2849503437738732, 0.2851681957186544, 0.28538638102524866, 0.28560490045941805, 0.285823754789272, 0.2860429447852761, 0.28626247122026094, 0.28648233486943164, 0.28670253651037664, 0.28692307692307695, 0.28714395688991534, 0.28736517719568566, 0.28758673862760215, 0.28780864197530864, 0.28803088803088805, 0.2882534775888717, 0.288476411446249, 0.2886996904024768, 0.2889233152594888, 0.28914728682170543, 0.28937160589604344, 0.28959627329192544, 0.2898212898212898, 0.2900466562986003, 0.29027237354085605, 0.29049844236760125, 0.2907248636009353, 0.2909516380655226, 0.29117876658860264, 0.29140625, 0.29163408913213446, 0.2918622848200313, 0.2920908379013312, 0.29231974921630094, 0.29254901960784313, 0.29277864992150704, 0.29300864100549884, 0.29323899371069184, 0.2934697088906373, 0.2937007874015748, 0.29393223010244285, 0.2941640378548896, 0.2943962115232833, 0.29462875197472355, 0.2948616600790514, 0.2950949367088608, 0.2953285827395091, 0.29556259904912835, 0.295796986518636, 0.29603174603174603, 0.2962668784749801, 0.29650238473767887, 0.2967382657120127, 0.29697452229299365, 0.2972111553784861, 0.2974481658692185, 0.29768555466879487, 0.2979233226837061, 0.2981614708233413, 0.2984, 0.2986389111289031, 0.2988782051282051, 0.2991178829190056, 0.29935794542536115, 0.2995983935742972, 0.29983922829581994, 0.3000804505229284, 0.3003220611916264, 0.3005640612409347, 0.3008064516129032, 0.30104923325262306, 0.30048465266558966, 0.30072756669361356, 0.30097087378640774, 0.30121457489878545, 0.3014586709886548, 0.30170316301703165, 0.30194805194805197, 0.3021933387489846, 0.3024390243902439, 0.30268510984540276, 0.30293159609120524, 0.30317848410757947, 0.3034257748776509, 0.3036734693877551, 0.30392156862745096, 0.3041700735895339, 0.3044189852700491, 0.3046683046683047, 0.30491803278688523, 0.3051681706316653, 0.3054187192118227, 0.3056696795398521, 0.3059210526315789, 0.30617283950617286, 0.30642504118616143, 0.30667765869744434, 0.3069306930693069, 0.30718414533443433, 0.3074380165289256, 0.3076923076923077, 0.3079470198675497, 0.30820215410107704, 0.30845771144278605, 0.3087136929460581, 0.3089700996677741, 0.3092269326683292, 0.30948419301164726, 0.3097418817651957, 0.31, 0.3102585487906589, 0.3105175292153589, 0.3107769423558897, 0.3110367892976589, 0.3112970711297071, 0.31155778894472363, 0.31181894383906117, 0.31208053691275167, 0.3123425692695214, 0.3126050420168067, 0.312026913372582, 0.3122895622895623, 0.3117101937657961, 0.31197301854974707, 0.31223628691983124, 0.3125, 0.3127641589180051, 0.3130287648054145, 0.31329381879762913, 0.3135593220338983, 0.3138252756573367, 0.3140916808149406, 0.3143585386576041, 0.31462585034013607, 0.3148936170212766, 0.3143100511073254, 0.3145780051150895, 0.3148464163822526, 0.3151152860802733, 0.3153846153846154, 0.31565440547476475, 0.3159246575342466, 0.3161953727506427, 0.3156089193825043, 0.3158798283261803, 0.3161512027491409, 0.3164230438521066, 0.31669535283993117, 0.3169681309216193, 0.31724137931034485, 0.3175150992234685, 0.3177892918825561, 0.3180639585133967, 0.31833910034602075, 0.31861471861471863, 0.3188908145580589, 0.3191673894189072, 0.3194444444444444, 0.3197219808861859, 0.32, 0.3202785030461271, 0.3205574912891986, 0.32083696599825634, 0.32111692844677137, 0.32139737991266376, 0.32167832167832167, 0.3219597550306212, 0.3222416812609457, 0.32252410166520595, 0.32280701754385965, 0.3230904302019315, 0.3233743409490334, 0.32365875109938436, 0.323943661971831, 0.32422907488986785, 0.32451499118165783, 0.324801412180053, 0.3250883392226148, 0.3253757736516357, 0.3256637168141593, 0.3259521700620018, 0.3262411347517731, 0.32653061224489793, 0.3268206039076377, 0.32711111111111113, 0.3274021352313167, 0.327693677649154, 0.32798573975044565, 0.328278322925959, 0.32857142857142857, 0.3288650580875782, 0.3291592128801431, 0.3294538943598926, 0.32974910394265233, 0.33004484304932735, 0.3303411131059246, 0.3306379155435759, 0.33093525179856115, 0.33123312331233123, 0.33153153153153153, 0.3309287646528404, 0.3312274368231047, 0.33152664859981934, 0.3318264014466546, 0.33212669683257917, 0.33242753623188404, 0.3327289211242067, 0.33303085299455537, 0.3333333333333333, 0.3336363636363636, 0.33393994540491356, 0.3342440801457195, 0.33454876937101186, 0.33485401459854014, 0.33515981735159817, 0.33546617915904936, 0.3357731015553522, 0.33516483516483514, 0.3354720439963336, 0.3357798165137615, 0.3351698806244261, 0.33547794117647056, 0.3357865685372585, 0.3360957642725598, 0.33548387096774196, 0.3348708487084871, 0.33518005540166207, 0.33548983364140483, 0.33580018501387604, 0.33611111111111114, 0.33642261353104724, 0.336734693877551, 0.3370473537604457, 0.33736059479553904, 0.33674418604651163, 0.3370577281191806, 0.33737185461323393, 0.3376865671641791, 0.33800186741363214, 0.3383177570093458, 0.3376987839101964, 0.33801498127340823, 0.338331771321462, 0.33864915572232646, 0.3389671361502347, 0.3392857142857143, 0.3396048918156162, 0.339924670433145, 0.3402450518378888, 0.34056603773584904, 0.3408876298394712, 0.34120982986767484, 0.34058656575212864, 0.3409090909090909, 0.3412322274881517, 0.340607210626186, 0.3409306742640076, 0.34125475285171103, 0.34157944814462415, 0.3419047619047619, 0.34127740705433746, 0.3416030534351145, 0.34097421203438394, 0.34130019120458893, 0.3406698564593301, 0.34099616858237547, 0.34132310642377756, 0.3416506717850288, 0.34197886647454373, 0.3423076923076923, 0.3426371511068335, 0.34296724470134876, 0.343297974927676, 0.3436293436293436, 0.34396135265700484, 0.344294003868472, 0.3436592449177154, 0.3439922480620155, 0.3443258971871969, 0.3446601941747573, 0.34499514091350825, 0.3453307392996109, 0.3456669912366115, 0.3460038986354776, 0.3463414634146341, 0.3466796875, 0.34701857282502446, 0.3473581213307241, 0.3476983349657199, 0.3480392156862745, 0.34838076545632973, 0.3487229862475442, 0.34906588003933137, 0.3494094488188976, 0.34876847290640395, 0.34911242603550297, 0.34945705824284307, 0.34980237154150196, 0.35014836795252224, 0.3504950495049505, 0.3508424182358771, 0.35119047619047616, 0.35054617676266137, 0.3508946322067594, 0.35124378109452736, 0.351593625498008, 0.3509471585244267, 0.35129740518962077, 0.3516483516483517, 0.352, 0.35235235235235235, 0.3527054108216433, 0.3530591775325978, 0.3534136546184739, 0.35376884422110555, 0.35412474849094566, 0.35347432024169184, 0.3538306451612903, 0.35418768920282545, 0.35353535353535354, 0.3538928210313448, 0.354251012145749, 0.3546099290780142, 0.35496957403651114, 0.3553299492385787, 0.3556910569105691, 0.3560528992878942, 0.3564154786150713, 0.3567787971457696, 0.35714285714285715, 0.3575076608784474, 0.35787321063394684, 0.35823950870010235, 0.35860655737704916, 0.358974358974359, 0.3593429158110883, 0.3597122302158273, 0.360082304526749, 0.3604531410916581, 0.36082474226804123, 0.36119711042311664, 0.3615702479338843, 0.3619441571871768, 0.36231884057971014, 0.3626943005181347, 0.3630705394190871, 0.363447559709242, 0.36382536382536385, 0.36420395421436, 0.3645833333333333, 0.36496350364963503, 0.3653444676409186, 0.3657262277951933, 0.36610878661087864, 0.36649214659685864, 0.3668763102725367, 0.3672612801678909, 0.36764705882352944, 0.36803364879074657, 0.3684210526315789, 0.36880927291886195, 0.3691983122362869, 0.36958817317845827, 0.3699788583509514, 0.3693121693121693, 0.3697033898305085, 0.37009544008483564, 0.37048832271762205, 0.3708820403825717, 0.37127659574468086, 0.37167199148029817, 0.3720682302771855, 0.37246531483457845, 0.37286324786324787, 0.3732620320855615, 0.37366167023554603, 0.3740621650589496, 0.37446351931330474, 0.3748657357679914, 0.37526881720430105, 0.3745963401506997, 0.375, 0.37540453074433655, 0.3758099352051836, 0.3762162162162162, 0.37662337662337664, 0.37703141928494044, 0.3774403470715835, 0.3778501628664495, 0.3782608695652174, 0.3786724700761698, 0.3790849673202614, 0.37840785169029445, 0.37882096069869, 0.37923497267759565, 0.3785557986870897, 0.37897042716319823, 0.3793859649122807, 0.3787047200878156, 0.3791208791208791, 0.3795379537953795, 0.3799559471365639, 0.38037486218302097, 0.38079470198675497, 0.3812154696132597, 0.38163716814159293, 0.38205980066445183, 0.38248337028824836, 0.38290788013318533, 0.38333333333333336, 0.38375973303670746, 0.3841870824053452, 0.38461538461538464, 0.38504464285714285, 0.3854748603351955, 0.3859060402684564, 0.38633818589025753, 0.3867713004484305, 0.38608305274971944, 0.3865168539325843, 0.38695163104611924, 0.38738738738738737, 0.3878241262683202, 0.38826185101580135, 0.3887005649717514, 0.3891402714932127, 0.3895809739524349, 0.3900226757369615, 0.3904653802497162, 0.39090909090909093, 0.391353811149033, 0.3917995444191344, 0.3922462941847206, 0.3926940639269406, 0.392, 0.39244851258581237, 0.3928980526918671, 0.393348623853211, 0.39380022962112515, 0.39425287356321836, 0.3947065592635213, 0.3951612903225806, 0.3956170703575548, 0.3960739030023095, 0.3965317919075145, 0.39699074074074076, 0.39745075318655854, 0.39675174013921116, 0.397212543554007, 0.39767441860465114, 0.3981373690337602, 0.3986013986013986, 0.3990665110851809, 0.39953271028037385, 0.4, 0.40046838407494145, 0.40093786635404455, 0.40023474178403756, 0.4007050528789659, 0.4011764705882353, 0.4016489988221437, 0.40212264150943394, 0.4025974025974026, 0.4030732860520095, 0.4035502958579882, 0.4040284360189573, 0.4045077105575326, 0.40498812351543945, 0.4054696789536266, 0.40595238095238095, 0.4064362336114422, 0.40692124105011934, 0.4074074074074074, 0.40789473684210525, 0.40838323353293415, 0.4088729016786571, 0.40936374549819926, 0.4098557692307692, 0.41034897713598073, 0.4108433734939759, 0.41133896260554886, 0.41183574879227053, 0.41233373639661425, 0.4128329297820823, 0.41333333333333333, 0.41383495145631066, 0.41433778857837184, 0.4148418491484185, 0.415347137637028, 0.41585365853658535, 0.4163614163614164, 0.41687041564792177, 0.4173806609547124, 0.4178921568627451, 0.41840490797546015, 0.4189189189189189, 0.4194341943419434, 0.41995073891625617, 0.4204685573366215, 0.42098765432098767, 0.4215080346106304, 0.422029702970297, 0.4225526641883519, 0.4218362282878412, 0.422360248447205, 0.4228855721393035, 0.42341220423412207, 0.4239401496259352, 0.42446941323345816, 0.42375, 0.4230287859824781, 0.42355889724310775, 0.424090338770389, 0.42462311557788945, 0.42515723270440253, 0.4256926952141058, 0.4262295081967213, 0.42676767676767674, 0.427307206068268, 0.4278481012658228, 0.42839036755386567, 0.4289340101522843, 0.42947903430749684, 0.4287531806615776, 0.4280254777070064, 0.42857142857142855, 0.42911877394636017, 0.4296675191815857, 0.43021766965428937, 0.4307692307692308, 0.4313222079589217, 0.4305912596401028, 0.43114543114543114, 0.43170103092783507, 0.432258064516129, 0.43281653746770027, 0.4320827943078913, 0.4326424870466321, 0.43320363164721143, 0.43376623376623374, 0.43302990897269183, 0.4322916666666667, 0.43285528031290743, 0.43342036553524804, 0.4326797385620915, 0.43324607329842935, 0.4325032765399738, 0.4330708661417323, 0.4336399474375821, 0.4342105263157895, 0.43478260869565216, 0.43535620052770446, 0.43593130779392336, 0.4365079365079365, 0.4370860927152318, 0.4376657824933687, 0.43824701195219123, 0.43882978723404253, 0.4394141145139814, 0.44, 0.44058744993324434, 0.4411764705882353, 0.4404283801874163, 0.4410187667560322, 0.44161073825503355, 0.4422043010752688, 0.4414535666218035, 0.44070080862533695, 0.44129554655870445, 0.4418918918918919, 0.44248985115020295, 0.44308943089430897, 0.44369063772048845, 0.4429347826086957, 0.4435374149659864, 0.4427792915531335, 0.4433833560709413, 0.4426229508196721, 0.4432284541723666, 0.4438356164383562, 0.4430727023319616, 0.4423076923076923, 0.44291609353507566, 0.44352617079889806, 0.44413793103448274, 0.4447513812154696, 0.44536652835408025, 0.44598337950138506, 0.44660194174757284, 0.44722222222222224, 0.4478442280945758, 0.44846796657381616, 0.4476987447698745, 0.4483240223463687, 0.4489510489510489, 0.4481792717086835, 0.4488078541374474, 0.449438202247191, 0.450070323488045, 0.4507042253521127, 0.4513399153737659, 0.4519774011299435, 0.4526166902404526, 0.4518413597733711, 0.451063829787234, 0.45170454545454547, 0.4523470839260313, 0.452991452991453, 0.4536376604850214, 0.4542857142857143, 0.45493562231759654, 0.45558739255014324, 0.4562410329985653, 0.45689655172413796, 0.45755395683453237, 0.45677233429394815, 0.4574314574314574, 0.45809248554913296, 0.45875542691751087, 0.45942028985507244, 0.46008708272859217, 0.45930232558139533, 0.45997088791848617, 0.4606413994169096, 0.46131386861313867, 0.4619883040935672, 0.46266471449487556, 0.4633431085043988, 0.46255506607929514, 0.4632352941176471, 0.4639175257731959, 0.4646017699115044, 0.465288035450517, 0.46597633136094674, 0.4666666666666667, 0.46735905044510384, 0.46805349182763745, 0.46875, 0.46944858420268254, 0.4701492537313433, 0.4693572496263079, 0.468562874251497, 0.46926536731634183, 0.46996996996997, 0.4691729323308271, 0.46987951807228917, 0.47058823529411764, 0.47129909365558914, 0.4720121028744327, 0.4727272727272727, 0.47344461305007585, 0.47416413373860183, 0.4748858447488584, 0.47560975609756095, 0.4763358778625954, 0.47706422018348627, 0.4777947932618683, 0.4785276073619632, 0.4792626728110599, 0.48, 0.48073959938366717, 0.48148148148148145, 0.4806800618238022, 0.48142414860681115, 0.4821705426356589, 0.4829192546583851, 0.48367029548989116, 0.48442367601246106, 0.4836193447737909, 0.484375, 0.48513302034428796, 0.48589341692789967, 0.48665620094191525, 0.48742138364779874, 0.48661417322834644, 0.48738170347003157, 0.4881516587677725, 0.4889240506329114, 0.4896988906497623, 0.4888888888888889, 0.48966613672496023, 0.4888535031847134, 0.48963317384370014, 0.4904153354632588, 0.4912, 0.49198717948717946, 0.4911717495987159, 0.4919614147909968, 0.4927536231884058, 0.4935483870967742, 0.49434571890145396, 0.49514563106796117, 0.4959481361426256, 0.4967532467532468, 0.4975609756097561, 0.498371335504886, 0.49755301794453505, 0.49836601307189543, 0.49918166939443537, 0.5, 0.5008210180623974, 0.5016447368421053, 0.5024711696869851, 0.5033003300330033, 0.5041322314049587, 0.5049668874172185, 0.5058043117744611, 0.5066445182724253, 0.5074875207986689, 0.5066666666666667, 0.5058430717863105, 0.5066889632107023, 0.507537688442211, 0.5083892617449665, 0.507563025210084, 0.5067340067340067, 0.5059021922428331, 0.5067567567567568, 0.5076142131979695, 0.5084745762711864, 0.5093378607809848, 0.5102040816326531, 0.5110732538330494, 0.5119453924914675, 0.5128205128205128, 0.5136986301369864, 0.5128644939965694, 0.5137457044673539, 0.5146299483648882, 0.5137931034482759, 0.5146804835924007, 0.513840830449827, 0.512998266897747, 0.5138888888888888, 0.5147826086956522, 0.5139372822299652, 0.5148342059336823, 0.5157342657342657, 0.5166374781085814, 0.5157894736842106, 0.5166959578207382, 0.5176056338028169, 0.5185185185185185, 0.5176678445229682, 0.5185840707964602, 0.5195035460992907, 0.5204262877442274, 0.5195729537366548, 0.5204991087344029, 0.5214285714285715, 0.5205724508050089, 0.521505376344086, 0.5224416517055656, 0.5233812949640287, 0.5243243243243243, 0.5252707581227437, 0.5262206148282098, 0.5271739130434783, 0.5281306715063521, 0.5290909090909091, 0.5300546448087432, 0.531021897810219, 0.5319926873857403, 0.532967032967033, 0.5321100917431193, 0.5330882352941176, 0.5340699815837937, 0.5350553505535055, 0.5360443622920518, 0.5351851851851852, 0.536178107606679, 0.5371747211895911, 0.5381750465549349, 0.539179104477612, 0.5401869158878505, 0.5393258426966292, 0.5403377110694184, 0.5413533834586466, 0.5423728813559322, 0.5433962264150943, 0.5425330812854442, 0.5435606060606061, 0.5445920303605313, 0.5456273764258555, 0.5447619047619048, 0.5458015267175572, 0.5449330783938815, 0.5459770114942529, 0.5470249520153551, 0.5480769230769231, 0.5491329479768786, 0.5482625482625483, 0.5473887814313346, 0.5484496124031008, 0.5495145631067961, 0.5505836575875487, 0.5497076023391813, 0.548828125, 0.5499021526418787, 0.5509803921568628, 0.550098231827112, 0.5492125984251969, 0.5502958579881657, 0.5513833992094862, 0.5524752475247525, 0.5535714285714286, 0.5546719681908548, 0.5557768924302788, 0.5548902195608783, 0.556, 0.5571142284569138, 0.5562248995983936, 0.5553319919517102, 0.5564516129032258, 0.5575757575757576, 0.5566801619433198, 0.5557809330628803, 0.556910569105691, 0.5560081466395111, 0.5571428571428572, 0.556237218813906, 0.555327868852459, 0.5564681724845996, 0.5576131687242798, 0.5587628865979382, 0.5599173553719008, 0.5590062111801242, 0.558091286307054, 0.5571725571725572, 0.5583333333333333, 0.5594989561586639, 0.5606694560669456, 0.5618448637316562, 0.5630252100840336, 0.5621052631578948, 0.5632911392405063, 0.5644820295983086, 0.5635593220338984, 0.5626326963906582, 0.5638297872340425, 0.5650319829424307, 0.5662393162393162, 0.5674518201284796, 0.5665236051502146, 0.567741935483871, 0.5668103448275862, 0.5680345572354212, 0.5670995670995671, 0.5683297180043384, 0.5695652173913044, 0.5708061002178649, 0.5720524017467249, 0.5711159737417943, 0.5701754385964912, 0.5714285714285714, 0.5726872246696035, 0.5717439293598234, 0.5707964601769911, 0.5698447893569845, 0.5688888888888889, 0.5679287305122495, 0.5691964285714286, 0.5704697986577181, 0.5695067264573991, 0.5707865168539326, 0.5720720720720721, 0.5711060948081265, 0.5701357466063348, 0.5714285714285714, 0.5704545454545454, 0.5694760820045558, 0.5684931506849316, 0.5697940503432495, 0.5711009174311926, 0.5724137931034483, 0.5714285714285714, 0.5727482678983834, 0.5740740740740741, 0.5754060324825986, 0.5744186046511628, 0.5757575757575758, 0.5747663551401869, 0.5761124121779859, 0.5774647887323944, 0.5788235294117647, 0.5801886792452831, 0.5815602836879432, 0.5829383886255924, 0.5819477434679335, 0.580952380952381, 0.5823389021479713, 0.583732057416268, 0.5851318944844125, 0.5865384615384616, 0.5879518072289157, 0.5869565217391305, 0.585956416464891, 0.587378640776699, 0.5888077858880778, 0.5878048780487805, 0.58679706601467, 0.5882352941176471, 0.5896805896805897, 0.5911330049261084, 0.5925925925925926, 0.594059405940594, 0.5930521091811415, 0.5920398009950248, 0.5910224438902744, 0.59, 0.5914786967418546, 0.592964824120603, 0.5919395465994962, 0.5934343434343434, 0.5949367088607594, 0.5964467005076142, 0.5979643765903307, 0.5969387755102041, 0.5959079283887468, 0.5974358974358974, 0.5989717223650386, 0.5979381443298969, 0.5968992248062015, 0.5958549222797928, 0.5974025974025974, 0.5989583333333334, 0.597911227154047, 0.599476439790576, 0.5984251968503937, 0.5973684210526315, 0.5963060686015831, 0.5952380952380952, 0.5941644562334217, 0.5957446808510638, 0.5973333333333334, 0.5989304812834224, 0.6005361930294906, 0.5994623655913979, 0.601078167115903, 0.6, 0.6016260162601627, 0.6005434782608695, 0.6021798365122616, 0.6010928961748634, 0.6, 0.6016483516483516, 0.6033057851239669, 0.6049723756906077, 0.6038781163434903, 0.6055555555555555, 0.6072423398328691, 0.6089385474860335, 0.6106442577030813, 0.6095505617977528, 0.6112676056338028, 0.6129943502824858, 0.6147308781869688, 0.6136363636363636, 0.6125356125356125, 0.6142857142857143, 0.6160458452722063, 0.617816091954023, 0.6195965417867435, 0.6184971098265896, 0.6173913043478261, 0.6191860465116279, 0.6180758017492711, 0.6169590643274854, 0.6187683284457478, 0.6205882352941177, 0.6194690265486725, 0.621301775147929, 0.6201780415430267, 0.6190476190476191, 0.6208955223880597, 0.6227544910179641, 0.6246246246246246, 0.6265060240963856, 0.6283987915407855, 0.6303030303030303, 0.6291793313069909, 0.6280487804878049, 0.6269113149847095, 0.6257668711656442, 0.6246153846153846, 0.6234567901234568, 0.6222910216718266, 0.6211180124223602, 0.6199376947040498, 0.61875, 0.6206896551724138, 0.6194968553459119, 0.6182965299684543, 0.620253164556962, 0.6222222222222222, 0.6242038216560509, 0.6230031948881789, 0.6217948717948718, 0.6205787781350482, 0.6225806451612903, 0.6213592233009708, 0.6201298701298701, 0.6188925081433225, 0.6176470588235294, 0.6163934426229508, 0.6151315789473685, 0.6171617161716172, 0.6158940397350994, 0.6179401993355482, 0.62, 0.6187290969899666, 0.6174496644295302, 0.6161616161616161, 0.6182432432432432, 0.6203389830508474, 0.6224489795918368, 0.621160409556314, 0.6198630136986302, 0.6185567010309279, 0.6172413793103448, 0.6193771626297578, 0.6215277777777778, 0.6202090592334495, 0.6188811188811189, 0.6175438596491228, 0.6197183098591549, 0.6183745583038869, 0.6170212765957447, 0.6192170818505338, 0.6214285714285714, 0.6200716845878136, 0.6223021582733813, 0.6209386281588448, 0.6231884057971014, 0.6254545454545455, 0.6277372262773723, 0.63003663003663, 0.6286764705882353, 0.6273062730627307, 0.6296296296296297, 0.6282527881040892, 0.6268656716417911, 0.6254681647940075, 0.6278195488721805, 0.630188679245283, 0.6287878787878788, 0.6273764258555133, 0.6297709923664122, 0.6283524904214559, 0.6269230769230769, 0.6293436293436293, 0.6317829457364341, 0.6342412451361867, 0.6328125, 0.6313725490196078, 0.6299212598425197, 0.6324110671936759, 0.6349206349206349, 0.6334661354581673, 0.632, 0.6305220883534136, 0.6330645161290323, 0.631578947368421, 0.6300813008130082, 0.6285714285714286, 0.6270491803278688, 0.6296296296296297, 0.6322314049586777, 0.6307053941908713, 0.6333333333333333, 0.6317991631799164, 0.6302521008403361, 0.6286919831223629, 0.6271186440677966, 0.6297872340425532, 0.6282051282051282, 0.630901287553648, 0.6293103448275862, 0.6277056277056277, 0.6304347826086957, 0.62882096069869, 0.6271929824561403, 0.6255506607929515, 0.6283185840707964, 0.6311111111111111, 0.6339285714285714, 0.6367713004484304, 0.6351351351351351, 0.6334841628959276, 0.6363636363636364, 0.639269406392694, 0.6376146788990825, 0.6359447004608295, 0.6342592592592593, 0.6372093023255814, 0.6355140186915887, 0.6384976525821596, 0.6415094339622641, 0.6445497630331753, 0.6428571428571429, 0.6411483253588517, 0.6442307692307693, 0.642512077294686, 0.6456310679611651, 0.6487804878048781, 0.6470588235294118, 0.645320197044335, 0.6435643564356436, 0.6417910447761194, 0.64, 0.6432160804020101, 0.6464646464646465, 0.6446700507614214, 0.6428571428571429, 0.6410256410256411, 0.6443298969072165, 0.6424870466321243, 0.640625, 0.643979057591623, 0.6421052631578947, 0.6402116402116402, 0.6382978723404256, 0.6417112299465241, 0.6397849462365591, 0.6432432432432432, 0.6413043478260869, 0.644808743169399, 0.6483516483516484, 0.6464088397790055, 0.6444444444444445, 0.6480446927374302, 0.651685393258427, 0.6497175141242938, 0.6477272727272727, 0.6457142857142857, 0.6436781609195402, 0.6416184971098265, 0.6453488372093024, 0.6432748538011696, 0.6470588235294118, 0.6449704142011834, 0.6428571428571429, 0.6407185628742516, 0.6385542168674698, 0.6424242424242425, 0.6463414634146342, 0.6503067484662577, 0.654320987654321, 0.6521739130434783, 0.65, 0.6540880503144654, 0.6582278481012658, 0.6624203821656051, 0.6666666666666666, 0.6645161290322581, 0.6688311688311688, 0.6666666666666666, 0.6644736842105263, 0.6688741721854304, 0.6733333333333333, 0.6711409395973155, 0.668918918918919, 0.6666666666666666, 0.6712328767123288, 0.6689655172413793, 0.6666666666666666, 0.6643356643356644, 0.6619718309859155, 0.6595744680851063, 0.6642857142857143, 0.6690647482014388, 0.6666666666666666, 0.6715328467153284, 0.6691176470588235, 0.6666666666666666, 0.6716417910447762, 0.6766917293233082, 0.6818181818181818, 0.6793893129770993, 0.6846153846153846, 0.6821705426356589, 0.6875, 0.6850393700787402, 0.6825396825396826, 0.68, 0.6854838709677419, 0.6910569105691057, 0.6967213114754098, 0.7024793388429752, 0.7, 0.7058823529411765, 0.711864406779661, 0.7094017094017094, 0.7155172413793104, 0.7217391304347827, 0.7192982456140351, 0.7168141592920354, 0.7142857142857143, 0.7117117117117117, 0.7181818181818181, 0.7155963302752294, 0.7129629629629629, 0.7102803738317757, 0.7169811320754716, 0.7142857142857143, 0.7211538461538461, 0.7184466019417476, 0.7254901960784313, 0.7227722772277227, 0.72, 0.7272727272727273, 0.7244897959183674, 0.7319587628865979, 0.7291666666666666, 0.7263157894736842, 0.723404255319149, 0.7204301075268817, 0.717391304347826, 0.7142857142857143, 0.7111111111111111, 0.7078651685393258, 0.7159090909090909, 0.7241379310344828, 0.7325581395348837, 0.7294117647058823, 0.7261904761904762, 0.7349397590361446, 0.7317073170731707, 0.7283950617283951, 0.725, 0.7215189873417721, 0.717948717948718, 0.7142857142857143, 0.7105263157894737, 0.72, 0.7297297297297297, 0.726027397260274, 0.7222222222222222, 0.7183098591549296, 0.7142857142857143, 0.7101449275362319, 0.7058823529411765, 0.7014925373134329, 0.696969696969697, 0.7076923076923077, 0.703125, 0.6984126984126984, 0.6935483870967742, 0.6885245901639344, 0.6833333333333333, 0.6949152542372882, 0.6896551724137931, 0.6842105263157895, 0.6785714285714286, 0.6727272727272727, 0.6666666666666666, 0.660377358490566, 0.6538461538461539, 0.6470588235294118, 0.66, 0.6530612244897959, 0.6666666666666666, 0.6808510638297872, 0.6739130434782609, 0.6666666666666666, 0.6590909090909091, 0.6744186046511628, 0.6666666666666666, 0.6585365853658537, 0.675, 0.6923076923076923, 0.6842105263157895, 0.6756756756756757, 0.6944444444444444, 0.7142857142857143, 0.7058823529411765, 0.7272727272727273, 0.71875, 0.7419354838709677, 0.7333333333333333, 0.7241379310344828, 0.7142857142857143, 0.7037037037037037, 0.6923076923076923, 0.68, 0.7083333333333334, 0.7391304347826086, 0.7272727272727273, 0.7619047619047619, 0.8, 0.7894736842105263, 0.7777777777777778, 0.7647058823529411, 0.75, 0.8, 0.7857142857142857, 0.7692307692307693, 0.8333333333333334, 0.8181818181818182, 0.8, 0.8888888888888888, 0.875, 0.8571428571428571, 0.8333333333333334, 0.8, 1.0, 1.0, 1.0, 1.0, 1.0]}, {\"mode\": \"lines\", \"name\": \"NN\", \"type\": \"scatter\", \"x\": [1.0, 0.9973262032085561, 0.9973262032085561, 0.9973262032085561, 0.9973262032085561, 0.9973262032085561, 0.9973262032085561, 0.9973262032085561, 0.9973262032085561, 0.9973262032085561, 0.9973262032085561, 0.9973262032085561, 0.9973262032085561, 0.9973262032085561, 0.9973262032085561, 0.9973262032085561, 0.9973262032085561, 0.9973262032085561, 0.9973262032085561, 0.9973262032085561, 0.9973262032085561, 0.9973262032085561, 0.9973262032085561, 0.9973262032085561, 0.9973262032085561, 0.9973262032085561, 0.9973262032085561, 0.9973262032085561, 0.9973262032085561, 0.9973262032085561, 0.9973262032085561, 0.9973262032085561, 0.9973262032085561, 0.9973262032085561, 0.9973262032085561, 0.9973262032085561, 0.9973262032085561, 0.9973262032085561, 0.9973262032085561, 0.9973262032085561, 0.9973262032085561, 0.9973262032085561, 0.9973262032085561, 0.9973262032085561, 0.9973262032085561, 0.9973262032085561, 0.9973262032085561, 0.9973262032085561, 0.9973262032085561, 0.9973262032085561, 0.9973262032085561, 0.9973262032085561, 0.9973262032085561, 0.9973262032085561, 0.9973262032085561, 0.9973262032085561, 0.9973262032085561, 0.9973262032085561, 0.9973262032085561, 0.9973262032085561, 0.9973262032085561, 0.9973262032085561, 0.9973262032085561, 0.9973262032085561, 0.9973262032085561, 0.9973262032085561, 0.9973262032085561, 0.9973262032085561, 0.9973262032085561, 0.9973262032085561, 0.9973262032085561, 0.9973262032085561, 0.9973262032085561, 0.9973262032085561, 0.9973262032085561, 0.9973262032085561, 0.9973262032085561, 0.9973262032085561, 0.9973262032085561, 0.9973262032085561, 0.9973262032085561, 0.9973262032085561, 0.9973262032085561, 0.9973262032085561, 0.9973262032085561, 0.9973262032085561, 0.9973262032085561, 0.9973262032085561, 0.9973262032085561, 0.9973262032085561, 0.9973262032085561, 0.9973262032085561, 0.9973262032085561, 0.9973262032085561, 0.9973262032085561, 0.9973262032085561, 0.9973262032085561, 0.9973262032085561, 0.9973262032085561, 0.9973262032085561, 0.9973262032085561, 0.9973262032085561, 0.9973262032085561, 0.9973262032085561, 0.9973262032085561, 0.9973262032085561, 0.9973262032085561, 0.9973262032085561, 0.9973262032085561, 0.9973262032085561, 0.9973262032085561, 0.9973262032085561, 0.9973262032085561, 0.9973262032085561, 0.9973262032085561, 0.9973262032085561, 0.9973262032085561, 0.9973262032085561, 0.9973262032085561, 0.9973262032085561, 0.9973262032085561, 0.9973262032085561, 0.9946524064171123, 0.9946524064171123, 0.9946524064171123, 0.9946524064171123, 0.9946524064171123, 0.9946524064171123, 0.9946524064171123, 0.9946524064171123, 0.9946524064171123, 0.9946524064171123, 0.9946524064171123, 0.9946524064171123, 0.9946524064171123, 0.9946524064171123, 0.9946524064171123, 0.9919786096256684, 0.9919786096256684, 0.9919786096256684, 0.9919786096256684, 0.9919786096256684, 0.9919786096256684, 0.9919786096256684, 0.9919786096256684, 0.9919786096256684, 0.9919786096256684, 0.9919786096256684, 0.9919786096256684, 0.9919786096256684, 0.9919786096256684, 0.9919786096256684, 0.9919786096256684, 0.9919786096256684, 0.9919786096256684, 0.9919786096256684, 0.9919786096256684, 0.9919786096256684, 0.9919786096256684, 0.9919786096256684, 0.9919786096256684, 0.9919786096256684, 0.9919786096256684, 0.9919786096256684, 0.9919786096256684, 0.9919786096256684, 0.9893048128342246, 0.9893048128342246, 0.9893048128342246, 0.9893048128342246, 0.9893048128342246, 0.9893048128342246, 0.9893048128342246, 0.9866310160427807, 0.9866310160427807, 0.9866310160427807, 0.9866310160427807, 0.9866310160427807, 0.9866310160427807, 0.9866310160427807, 0.9866310160427807, 0.983957219251337, 0.983957219251337, 0.983957219251337, 0.983957219251337, 0.983957219251337, 0.983957219251337, 0.983957219251337, 0.983957219251337, 0.9812834224598931, 0.9812834224598931, 0.9812834224598931, 0.9812834224598931, 0.9812834224598931, 0.9812834224598931, 0.9812834224598931, 0.9812834224598931, 0.9812834224598931, 0.9812834224598931, 0.9812834224598931, 0.9812834224598931, 0.9812834224598931, 0.9812834224598931, 0.9812834224598931, 0.9812834224598931, 0.9812834224598931, 0.9812834224598931, 0.9812834224598931, 0.9812834224598931, 0.9812834224598931, 0.9812834224598931, 0.9812834224598931, 0.9812834224598931, 0.9812834224598931, 0.9812834224598931, 0.9812834224598931, 0.9812834224598931, 0.9812834224598931, 0.9812834224598931, 0.9812834224598931, 0.9812834224598931, 0.9812834224598931, 0.9812834224598931, 0.9812834224598931, 0.9812834224598931, 0.9812834224598931, 0.9786096256684492, 0.9786096256684492, 0.9786096256684492, 0.9786096256684492, 0.9786096256684492, 0.9786096256684492, 0.9786096256684492, 0.9786096256684492, 0.9786096256684492, 0.9786096256684492, 0.9786096256684492, 0.9786096256684492, 0.9759358288770054, 0.9759358288770054, 0.9759358288770054, 0.9759358288770054, 0.9759358288770054, 0.9759358288770054, 0.9759358288770054, 0.9759358288770054, 0.9759358288770054, 0.9759358288770054, 0.9759358288770054, 0.9759358288770054, 0.9759358288770054, 0.9759358288770054, 0.9759358288770054, 0.9759358288770054, 0.9759358288770054, 0.9759358288770054, 0.9759358288770054, 0.9759358288770054, 0.9759358288770054, 0.9732620320855615, 0.9732620320855615, 0.9732620320855615, 0.9732620320855615, 0.9732620320855615, 0.9732620320855615, 0.9732620320855615, 0.9732620320855615, 0.9732620320855615, 0.9732620320855615, 0.9732620320855615, 0.9732620320855615, 0.9732620320855615, 0.9732620320855615, 0.9732620320855615, 0.9732620320855615, 0.9732620320855615, 0.9732620320855615, 0.9732620320855615, 0.9732620320855615, 0.9732620320855615, 0.9732620320855615, 0.9732620320855615, 0.9732620320855615, 0.9732620320855615, 0.9732620320855615, 0.9732620320855615, 0.9705882352941176, 0.9705882352941176, 0.9705882352941176, 0.9705882352941176, 0.9705882352941176, 0.9705882352941176, 0.9705882352941176, 0.9679144385026738, 0.9679144385026738, 0.9679144385026738, 0.9679144385026738, 0.9679144385026738, 0.9679144385026738, 0.9679144385026738, 0.9679144385026738, 0.9679144385026738, 0.9679144385026738, 0.9679144385026738, 0.9679144385026738, 0.9679144385026738, 0.9679144385026738, 0.9679144385026738, 0.9679144385026738, 0.9679144385026738, 0.9679144385026738, 0.9679144385026738, 0.9679144385026738, 0.9652406417112299, 0.9652406417112299, 0.9652406417112299, 0.9652406417112299, 0.9652406417112299, 0.9652406417112299, 0.9652406417112299, 0.9652406417112299, 0.9652406417112299, 0.9652406417112299, 0.9652406417112299, 0.9652406417112299, 0.9652406417112299, 0.9652406417112299, 0.9652406417112299, 0.9652406417112299, 0.9652406417112299, 0.9652406417112299, 0.9652406417112299, 0.9652406417112299, 0.9652406417112299, 0.9652406417112299, 0.9652406417112299, 0.9652406417112299, 0.9652406417112299, 0.9625668449197861, 0.9625668449197861, 0.9625668449197861, 0.9625668449197861, 0.9625668449197861, 0.9625668449197861, 0.9625668449197861, 0.9625668449197861, 0.9625668449197861, 0.9598930481283422, 0.9598930481283422, 0.9598930481283422, 0.9598930481283422, 0.9598930481283422, 0.9598930481283422, 0.9598930481283422, 0.9598930481283422, 0.9598930481283422, 0.9598930481283422, 0.9572192513368984, 0.9572192513368984, 0.9572192513368984, 0.9572192513368984, 0.9572192513368984, 0.9572192513368984, 0.9572192513368984, 0.9572192513368984, 0.9545454545454546, 0.9545454545454546, 0.9545454545454546, 0.9545454545454546, 0.9518716577540107, 0.9518716577540107, 0.9518716577540107, 0.9491978609625669, 0.9491978609625669, 0.9491978609625669, 0.9491978609625669, 0.9491978609625669, 0.946524064171123, 0.946524064171123, 0.946524064171123, 0.946524064171123, 0.946524064171123, 0.946524064171123, 0.946524064171123, 0.9438502673796791, 0.9438502673796791, 0.9438502673796791, 0.9411764705882353, 0.9411764705882353, 0.9411764705882353, 0.9385026737967914, 0.9385026737967914, 0.9358288770053476, 0.9331550802139037, 0.9331550802139037, 0.9331550802139037, 0.9331550802139037, 0.9331550802139037, 0.9331550802139037, 0.9331550802139037, 0.9331550802139037, 0.9331550802139037, 0.93048128342246, 0.93048128342246, 0.93048128342246, 0.93048128342246, 0.93048128342246, 0.93048128342246, 0.93048128342246, 0.93048128342246, 0.93048128342246, 0.93048128342246, 0.93048128342246, 0.93048128342246, 0.9278074866310161, 0.9251336898395722, 0.9251336898395722, 0.9251336898395722, 0.9251336898395722, 0.9251336898395722, 0.9251336898395722, 0.9251336898395722, 0.9251336898395722, 0.9251336898395722, 0.9251336898395722, 0.9251336898395722, 0.9224598930481284, 0.9224598930481284, 0.9224598930481284, 0.9224598930481284, 0.9224598930481284, 0.9224598930481284, 0.9224598930481284, 0.9224598930481284, 0.9224598930481284, 0.9224598930481284, 0.9224598930481284, 0.9197860962566845, 0.9197860962566845, 0.9197860962566845, 0.9197860962566845, 0.9197860962566845, 0.9171122994652406, 0.9171122994652406, 0.9171122994652406, 0.9144385026737968, 0.9144385026737968, 0.9144385026737968, 0.9144385026737968, 0.9117647058823529, 0.9117647058823529, 0.9090909090909091, 0.9090909090909091, 0.9090909090909091, 0.9090909090909091, 0.9090909090909091, 0.9090909090909091, 0.9090909090909091, 0.9090909090909091, 0.9090909090909091, 0.9090909090909091, 0.9090909090909091, 0.9090909090909091, 0.9090909090909091, 0.9090909090909091, 0.9090909090909091, 0.9090909090909091, 0.9090909090909091, 0.9090909090909091, 0.9064171122994652, 0.9064171122994652, 0.9064171122994652, 0.9064171122994652, 0.9064171122994652, 0.9064171122994652, 0.9064171122994652, 0.9064171122994652, 0.9064171122994652, 0.9064171122994652, 0.9064171122994652, 0.9064171122994652, 0.9064171122994652, 0.9064171122994652, 0.9064171122994652, 0.9064171122994652, 0.9064171122994652, 0.9064171122994652, 0.9064171122994652, 0.9064171122994652, 0.9064171122994652, 0.9064171122994652, 0.9064171122994652, 0.9064171122994652, 0.9064171122994652, 0.9064171122994652, 0.9064171122994652, 0.9064171122994652, 0.9037433155080213, 0.9037433155080213, 0.9037433155080213, 0.9037433155080213, 0.9037433155080213, 0.9010695187165776, 0.9010695187165776, 0.9010695187165776, 0.9010695187165776, 0.9010695187165776, 0.9010695187165776, 0.9010695187165776, 0.9010695187165776, 0.9010695187165776, 0.9010695187165776, 0.9010695187165776, 0.9010695187165776, 0.9010695187165776, 0.9010695187165776, 0.8983957219251337, 0.8983957219251337, 0.8983957219251337, 0.8983957219251337, 0.8957219251336899, 0.8957219251336899, 0.8957219251336899, 0.893048128342246, 0.893048128342246, 0.893048128342246, 0.893048128342246, 0.8903743315508021, 0.8903743315508021, 0.8903743315508021, 0.8877005347593583, 0.8850267379679144, 0.8850267379679144, 0.8823529411764706, 0.8823529411764706, 0.8823529411764706, 0.8823529411764706, 0.8823529411764706, 0.8823529411764706, 0.8823529411764706, 0.8823529411764706, 0.8823529411764706, 0.8823529411764706, 0.8796791443850267, 0.8796791443850267, 0.8796791443850267, 0.8796791443850267, 0.8796791443850267, 0.8796791443850267, 0.8796791443850267, 0.8770053475935828, 0.8770053475935828, 0.8770053475935828, 0.8770053475935828, 0.8770053475935828, 0.8743315508021391, 0.8743315508021391, 0.8743315508021391, 0.8743315508021391, 0.8743315508021391, 0.8716577540106952, 0.8716577540106952, 0.8716577540106952, 0.8716577540106952, 0.8716577540106952, 0.8689839572192514, 0.8663101604278075, 0.8636363636363636, 0.8636363636363636, 0.8609625668449198, 0.8609625668449198, 0.8609625668449198, 0.8609625668449198, 0.8609625668449198, 0.8582887700534759, 0.8582887700534759, 0.8582887700534759, 0.8582887700534759, 0.8582887700534759, 0.8556149732620321, 0.8556149732620321, 0.8556149732620321, 0.8556149732620321, 0.8556149732620321, 0.8556149732620321, 0.8556149732620321, 0.8556149732620321, 0.8529411764705882, 0.8529411764705882, 0.8502673796791443, 0.8502673796791443, 0.8502673796791443, 0.8502673796791443, 0.8475935828877005, 0.8475935828877005, 0.8449197860962567, 0.8449197860962567, 0.8422459893048129, 0.8422459893048129, 0.839572192513369, 0.839572192513369, 0.8368983957219251, 0.8368983957219251, 0.8368983957219251, 0.8368983957219251, 0.8368983957219251, 0.8368983957219251, 0.8368983957219251, 0.8368983957219251, 0.8368983957219251, 0.8368983957219251, 0.8368983957219251, 0.8368983957219251, 0.8368983957219251, 0.8342245989304813, 0.8342245989304813, 0.8342245989304813, 0.8342245989304813, 0.8342245989304813, 0.8342245989304813, 0.8342245989304813, 0.8342245989304813, 0.8342245989304813, 0.8342245989304813, 0.8315508021390374, 0.8315508021390374, 0.8315508021390374, 0.8315508021390374, 0.8315508021390374, 0.8315508021390374, 0.8315508021390374, 0.8288770053475936, 0.8288770053475936, 0.8262032085561497, 0.8262032085561497, 0.8262032085561497, 0.8235294117647058, 0.820855614973262, 0.820855614973262, 0.8181818181818182, 0.8181818181818182, 0.8181818181818182, 0.8181818181818182, 0.8155080213903744, 0.8128342245989305, 0.8101604278074866, 0.8074866310160428, 0.8074866310160428, 0.8074866310160428, 0.8074866310160428, 0.8074866310160428, 0.8048128342245989, 0.8048128342245989, 0.8048128342245989, 0.8048128342245989, 0.8021390374331551, 0.7994652406417112, 0.7994652406417112, 0.7967914438502673, 0.7967914438502673, 0.7941176470588235, 0.7941176470588235, 0.7941176470588235, 0.7941176470588235, 0.7941176470588235, 0.7941176470588235, 0.7941176470588235, 0.7941176470588235, 0.7941176470588235, 0.7941176470588235, 0.7941176470588235, 0.7941176470588235, 0.7941176470588235, 0.7941176470588235, 0.7941176470588235, 0.7914438502673797, 0.7914438502673797, 0.7914438502673797, 0.7887700534759359, 0.7887700534759359, 0.7887700534759359, 0.7887700534759359, 0.786096256684492, 0.786096256684492, 0.7834224598930482, 0.7834224598930482, 0.7834224598930482, 0.7834224598930482, 0.7834224598930482, 0.7807486631016043, 0.7780748663101604, 0.7780748663101604, 0.7780748663101604, 0.7754010695187166, 0.7754010695187166, 0.7727272727272727, 0.7700534759358288, 0.7700534759358288, 0.7700534759358288, 0.7700534759358288, 0.7700534759358288, 0.7700534759358288, 0.7700534759358288, 0.767379679144385, 0.7647058823529411, 0.7647058823529411, 0.7647058823529411, 0.7620320855614974, 0.7620320855614974, 0.7593582887700535, 0.7593582887700535, 0.7593582887700535, 0.7593582887700535, 0.7566844919786097, 0.7540106951871658, 0.7540106951871658, 0.7540106951871658, 0.7513368983957219, 0.7513368983957219, 0.7513368983957219, 0.7513368983957219, 0.7513368983957219, 0.7486631016042781, 0.7486631016042781, 0.7459893048128342, 0.7433155080213903, 0.7433155080213903, 0.7433155080213903, 0.7406417112299465, 0.7379679144385026, 0.7379679144385026, 0.7379679144385026, 0.7379679144385026, 0.7352941176470589, 0.7352941176470589, 0.732620320855615, 0.7299465240641712, 0.7272727272727273, 0.7272727272727273, 0.7272727272727273, 0.7245989304812834, 0.7219251336898396, 0.7219251336898396, 0.7219251336898396, 0.7219251336898396, 0.7219251336898396, 0.7219251336898396, 0.7219251336898396, 0.7219251336898396, 0.7219251336898396, 0.7219251336898396, 0.7219251336898396, 0.7219251336898396, 0.7219251336898396, 0.7219251336898396, 0.7192513368983957, 0.7192513368983957, 0.7165775401069518, 0.7165775401069518, 0.7165775401069518, 0.7165775401069518, 0.713903743315508, 0.7112299465240641, 0.7085561497326203, 0.7058823529411765, 0.7058823529411765, 0.7058823529411765, 0.7032085561497327, 0.7032085561497327, 0.7032085561497327, 0.7032085561497327, 0.7032085561497327, 0.7032085561497327, 0.7005347593582888, 0.7005347593582888, 0.6978609625668449, 0.6951871657754011, 0.6925133689839572, 0.6925133689839572, 0.6925133689839572, 0.6898395721925134, 0.6898395721925134, 0.6898395721925134, 0.6898395721925134, 0.6898395721925134, 0.6898395721925134, 0.6871657754010695, 0.6871657754010695, 0.6844919786096256, 0.6844919786096256, 0.6818181818181818, 0.6818181818181818, 0.6818181818181818, 0.679144385026738, 0.6764705882352942, 0.6737967914438503, 0.6737967914438503, 0.6711229946524064, 0.6684491978609626, 0.6684491978609626, 0.6684491978609626, 0.6684491978609626, 0.6657754010695187, 0.6657754010695187, 0.6657754010695187, 0.6631016042780749, 0.6631016042780749, 0.660427807486631, 0.6577540106951871, 0.6577540106951871, 0.6577540106951871, 0.6550802139037433, 0.6550802139037433, 0.6550802139037433, 0.6524064171122995, 0.6524064171122995, 0.6524064171122995, 0.6497326203208557, 0.6497326203208557, 0.6497326203208557, 0.6470588235294118, 0.6470588235294118, 0.6443850267379679, 0.6417112299465241, 0.6417112299465241, 0.6390374331550802, 0.6363636363636364, 0.6336898395721925, 0.6336898395721925, 0.6310160427807486, 0.6310160427807486, 0.6283422459893048, 0.6256684491978609, 0.6229946524064172, 0.6229946524064172, 0.6229946524064172, 0.6203208556149733, 0.6176470588235294, 0.6149732620320856, 0.6122994652406417, 0.6096256684491979, 0.606951871657754, 0.606951871657754, 0.606951871657754, 0.606951871657754, 0.606951871657754, 0.6042780748663101, 0.6042780748663101, 0.6016042780748663, 0.5989304812834224, 0.5989304812834224, 0.5989304812834224, 0.5962566844919787, 0.5962566844919787, 0.5935828877005348, 0.5935828877005348, 0.5909090909090909, 0.5909090909090909, 0.5882352941176471, 0.5882352941176471, 0.5882352941176471, 0.5882352941176471, 0.5855614973262032, 0.5855614973262032, 0.5855614973262032, 0.5828877005347594, 0.5828877005347594, 0.5828877005347594, 0.5828877005347594, 0.5802139037433155, 0.5775401069518716, 0.5775401069518716, 0.5748663101604278, 0.5721925133689839, 0.56951871657754, 0.56951871657754, 0.56951871657754, 0.56951871657754, 0.56951871657754, 0.56951871657754, 0.5668449197860963, 0.5641711229946524, 0.5641711229946524, 0.5641711229946524, 0.5614973262032086, 0.5588235294117647, 0.5561497326203209, 0.5561497326203209, 0.553475935828877, 0.553475935828877, 0.5508021390374331, 0.5481283422459893, 0.5481283422459893, 0.5481283422459893, 0.5454545454545454, 0.5454545454545454, 0.5427807486631016, 0.5401069518716578, 0.5401069518716578, 0.5401069518716578, 0.5401069518716578, 0.5374331550802139, 0.5347593582887701, 0.5347593582887701, 0.5320855614973262, 0.5320855614973262, 0.5320855614973262, 0.5320855614973262, 0.5294117647058824, 0.5267379679144385, 0.5240641711229946, 0.5240641711229946, 0.5213903743315508, 0.5213903743315508, 0.5213903743315508, 0.5213903743315508, 0.5213903743315508, 0.5187165775401069, 0.5187165775401069, 0.516042780748663, 0.5133689839572193, 0.5106951871657754, 0.5106951871657754, 0.5080213903743316, 0.5053475935828877, 0.5026737967914439, 0.5, 0.49732620320855614, 0.49732620320855614, 0.49732620320855614, 0.4946524064171123, 0.4946524064171123, 0.4919786096256685, 0.4893048128342246, 0.48663101604278075, 0.48663101604278075, 0.4839572192513369, 0.4839572192513369, 0.48128342245989303, 0.4786096256684492, 0.47593582887700536, 0.4732620320855615, 0.47058823529411764, 0.47058823529411764, 0.47058823529411764, 0.4679144385026738, 0.46524064171123, 0.4625668449197861, 0.45989304812834225, 0.4572192513368984, 0.4572192513368984, 0.45454545454545453, 0.45187165775401067, 0.44919786096256686, 0.446524064171123, 0.44385026737967914, 0.44385026737967914, 0.4411764705882353, 0.4411764705882353, 0.4385026737967914, 0.4385026737967914, 0.4385026737967914, 0.4385026737967914, 0.4385026737967914, 0.4358288770053476, 0.4358288770053476, 0.43315508021390375, 0.4304812834224599, 0.4304812834224599, 0.42780748663101603, 0.42780748663101603, 0.42513368983957217, 0.42513368983957217, 0.42513368983957217, 0.42513368983957217, 0.42513368983957217, 0.42245989304812837, 0.42245989304812837, 0.42245989304812837, 0.4197860962566845, 0.41711229946524064, 0.41711229946524064, 0.4144385026737968, 0.4144385026737968, 0.4144385026737968, 0.4117647058823529, 0.4090909090909091, 0.40641711229946526, 0.4037433155080214, 0.4037433155080214, 0.40106951871657753, 0.40106951871657753, 0.3983957219251337, 0.39572192513368987, 0.39572192513368987, 0.39572192513368987, 0.39572192513368987, 0.393048128342246, 0.39037433155080214, 0.3877005347593583, 0.3850267379679144, 0.38235294117647056, 0.38235294117647056, 0.38235294117647056, 0.37967914438502676, 0.3770053475935829, 0.37433155080213903, 0.37433155080213903, 0.37433155080213903, 0.3716577540106952, 0.3716577540106952, 0.3716577540106952, 0.3689839572192513, 0.3663101604278075, 0.3663101604278075, 0.3663101604278075, 0.36363636363636365, 0.36363636363636365, 0.3609625668449198, 0.3582887700534759, 0.3582887700534759, 0.35561497326203206, 0.35294117647058826, 0.35294117647058826, 0.35294117647058826, 0.3502673796791444, 0.34759358288770054, 0.3449197860962567, 0.3422459893048128, 0.339572192513369, 0.339572192513369, 0.339572192513369, 0.33689839572192515, 0.3342245989304813, 0.3342245989304813, 0.3342245989304813, 0.3315508021390374, 0.32887700534759357, 0.32887700534759357, 0.32887700534759357, 0.32620320855614976, 0.32620320855614976, 0.3235294117647059, 0.32085561497326204, 0.3181818181818182, 0.3155080213903743, 0.3155080213903743, 0.31283422459893045, 0.31283422459893045, 0.31016042780748665, 0.31016042780748665, 0.31016042780748665, 0.3074866310160428, 0.3074866310160428, 0.3074866310160428, 0.3074866310160428, 0.3074866310160428, 0.3048128342245989, 0.30213903743315507, 0.2994652406417112, 0.2967914438502674, 0.2967914438502674, 0.2967914438502674, 0.29411764705882354, 0.2914438502673797, 0.2887700534759358, 0.2887700534759358, 0.28609625668449196, 0.28609625668449196, 0.28342245989304815, 0.2807486631016043, 0.27807486631016043, 0.27807486631016043, 0.27807486631016043, 0.27807486631016043, 0.27540106951871657, 0.27540106951871657, 0.27540106951871657, 0.2727272727272727, 0.2727272727272727, 0.2700534759358289, 0.26737967914438504, 0.2647058823529412, 0.2647058823529412, 0.2620320855614973, 0.25935828877005346, 0.25668449197860965, 0.25668449197860965, 0.2540106951871658, 0.2540106951871658, 0.25133689839572193, 0.24866310160427807, 0.24866310160427807, 0.24866310160427807, 0.24598930481283424, 0.24598930481283424, 0.24331550802139038, 0.24064171122994651, 0.24064171122994651, 0.24064171122994651, 0.24064171122994651, 0.23796791443850268, 0.23796791443850268, 0.23529411764705882, 0.23529411764705882, 0.23529411764705882, 0.232620320855615, 0.22994652406417113, 0.22727272727272727, 0.22727272727272727, 0.22459893048128343, 0.22192513368983957, 0.2192513368983957, 0.2192513368983957, 0.2192513368983957, 0.2192513368983957, 0.21657754010695188, 0.21390374331550802, 0.21122994652406418, 0.21122994652406418, 0.20855614973262032, 0.20588235294117646, 0.20320855614973263, 0.20320855614973263, 0.20320855614973263, 0.20053475935828877, 0.20053475935828877, 0.19786096256684493, 0.19518716577540107, 0.1925133689839572, 0.1925133689839572, 0.18983957219251338, 0.18716577540106952, 0.18716577540106952, 0.18716577540106952, 0.18716577540106952, 0.18716577540106952, 0.18449197860962566, 0.18181818181818182, 0.17914438502673796, 0.17914438502673796, 0.17647058823529413, 0.17379679144385027, 0.1711229946524064, 0.1711229946524064, 0.16844919786096257, 0.1657754010695187, 0.16310160427807488, 0.16042780748663102, 0.15775401069518716, 0.15508021390374332, 0.15240641711229946, 0.1497326203208556, 0.1497326203208556, 0.1497326203208556, 0.14705882352941177, 0.1443850267379679, 0.1443850267379679, 0.14171122994652408, 0.14171122994652408, 0.13903743315508021, 0.13636363636363635, 0.13368983957219252, 0.13101604278074866, 0.12834224598930483, 0.12566844919786097, 0.12299465240641712, 0.12299465240641712, 0.12299465240641712, 0.12032085561497326, 0.11764705882352941, 0.11497326203208556, 0.11229946524064172, 0.10962566844919786, 0.10695187165775401, 0.10695187165775401, 0.10427807486631016, 0.10160427807486631, 0.09893048128342247, 0.0962566844919786, 0.09358288770053476, 0.09090909090909091, 0.08823529411764706, 0.08823529411764706, 0.0855614973262032, 0.08288770053475936, 0.08021390374331551, 0.07754010695187166, 0.0748663101604278, 0.0748663101604278, 0.07219251336898395, 0.06951871657754011, 0.06684491978609626, 0.06684491978609626, 0.06417112299465241, 0.06149732620320856, 0.058823529411764705, 0.05614973262032086, 0.053475935828877004, 0.05080213903743316, 0.05080213903743316, 0.05080213903743316, 0.0481283422459893, 0.045454545454545456, 0.045454545454545456, 0.045454545454545456, 0.0427807486631016, 0.040106951871657755, 0.0374331550802139, 0.034759358288770054, 0.03208556149732621, 0.029411764705882353, 0.026737967914438502, 0.02406417112299465, 0.02406417112299465, 0.0213903743315508, 0.0213903743315508, 0.01871657754010695, 0.016042780748663103, 0.013368983957219251, 0.0106951871657754, 0.008021390374331552, 0.0053475935828877, 0.00267379679144385, 0.0], \"y\": [0.3055555555555556, 0.30498773507767785, 0.30523731587561376, 0.30548730548730546, 0.30573770491803276, 0.3059885151763741, 0.30623973727422005, 0.3064913722267872, 0.3067434210526316, 0.3069958847736626, 0.30724876441515653, 0.3075020610057708, 0.30775577557755773, 0.30800990916597853, 0.3082644628099174, 0.30851943755169564, 0.3087748344370861, 0.30903065451532724, 0.3092868988391376, 0.3095435684647303, 0.30980066445182725, 0.3100581878636742, 0.3103161397670549, 0.3105745212323064, 0.31083333333333335, 0.311092577147623, 0.3113522537562604, 0.3116123642439432, 0.31187290969899667, 0.31213389121338914, 0.31239530988274705, 0.3126571668063705, 0.31291946308724833, 0.3131821998320739, 0.3134453781512605, 0.3137089991589571, 0.31397306397306396, 0.3142375737152485, 0.3145025295109612, 0.31476793248945145, 0.31503378378378377, 0.3153000845308538, 0.3155668358714044, 0.31583403895004236, 0.31610169491525425, 0.31636980491942324, 0.3166383701188455, 0.3169073916737468, 0.3171768707482993, 0.3174468085106383, 0.31771720613287907, 0.31798806479113384, 0.318259385665529, 0.318531169940222, 0.3188034188034188, 0.31907613344739094, 0.3193493150684932, 0.3196229648671808, 0.31989708404802747, 0.3201716738197425, 0.32044673539518903, 0.3207222699914015, 0.32099827882960413, 0.32127476313522824, 0.32155172413793104, 0.32182916307161347, 0.3221070811744387, 0.32238547968885045, 0.3226643598615917, 0.3229437229437229, 0.32322357019064124, 0.32350390286209885, 0.3237847222222222, 0.32406602953953084, 0.3243478260869565, 0.32463011314186246, 0.3249128919860627, 0.32519616390584133, 0.3254799301919721, 0.325764192139738, 0.32604895104895104, 0.326334208223972, 0.3266199649737303, 0.32690622261174407, 0.32719298245614037, 0.32748024582967517, 0.327768014059754, 0.3280562884784521, 0.3283450704225352, 0.32863436123348017, 0.3289241622574956, 0.3292144748455428, 0.3295053003533569, 0.3297966401414677, 0.33008849557522124, 0.3303808680248007, 0.33067375886524825, 0.33096716947648624, 0.33126110124333924, 0.33155555555555555, 0.3318505338078292, 0.3321460373998219, 0.3324420677361854, 0.3327386262265834, 0.33303571428571427, 0.3333333333333333, 0.3336314847942755, 0.3339301700984781, 0.3342293906810036, 0.3345291479820628, 0.3348294434470377, 0.33513027852650495, 0.335431654676259, 0.3357335733573357, 0.33603603603603605, 0.3363390441839495, 0.33664259927797835, 0.3369467028003613, 0.337251356238698, 0.3375565610859729, 0.3378623188405797, 0.3381686310063463, 0.33756805807622503, 0.33787465940054495, 0.3381818181818182, 0.33848953594176523, 0.33879781420765026, 0.3391066545123063, 0.33941605839416056, 0.33972602739726027, 0.340036563071298, 0.3403476669716377, 0.34065934065934067, 0.34097158570119157, 0.3412844036697248, 0.3415977961432507, 0.34191176470588236, 0.34130634774609014, 0.3416206261510129, 0.3419354838709677, 0.3422509225092251, 0.3425669436749769, 0.34288354898336415, 0.34320074005550416, 0.3435185185185185, 0.3438368860055607, 0.34415584415584416, 0.34447539461467036, 0.3447955390334573, 0.34511627906976744, 0.34543761638733705, 0.34575955265610436, 0.3460820895522388, 0.3464052287581699, 0.3467289719626168, 0.3470533208606174, 0.34737827715355807, 0.3477038425492034, 0.34803001876172607, 0.3483568075117371, 0.34868421052631576, 0.34901222953904043, 0.3493408662900188, 0.34967012252591895, 0.35, 0.35033050047214354, 0.3497164461247637, 0.3500473036896878, 0.3503787878787879, 0.35071090047393366, 0.3510436432637571, 0.3513770180436847, 0.3517110266159696, 0.3510941960038059, 0.3514285714285714, 0.3517635843660629, 0.3520992366412214, 0.3524355300859599, 0.3527724665391969, 0.35311004784688993, 0.35344827586206895, 0.35282837967401726, 0.3531669865642994, 0.35350624399615754, 0.35384615384615387, 0.35418671799807505, 0.35452793834296725, 0.3548698167791707, 0.3552123552123552, 0.3545893719806763, 0.35493230174081236, 0.3552758954501452, 0.3556201550387597, 0.3559650824442289, 0.35631067961165047, 0.3566569484936832, 0.35700389105058367, 0.35735150925024345, 0.35769980506822613, 0.35804878048780486, 0.3583984375, 0.3587487781036168, 0.35909980430528377, 0.3594515181194907, 0.35980392156862745, 0.3601570166830226, 0.3605108055009823, 0.3608652900688299, 0.3612204724409449, 0.361576354679803, 0.3619329388560158, 0.36229022704837116, 0.36264822134387353, 0.3630069238377844, 0.36336633663366336, 0.36372646184340934, 0.36408730158730157, 0.3644488579940417, 0.3648111332007952, 0.36517412935323385, 0.3655378486055777, 0.3659022931206381, 0.3662674650698603, 0.36663336663336665, 0.367, 0.36736736736736736, 0.3667334669338677, 0.36710130391173523, 0.3674698795180723, 0.3678391959798995, 0.3682092555331992, 0.3685800604229607, 0.3689516129032258, 0.3693239152371342, 0.3696969696969697, 0.3700707785642063, 0.37044534412955465, 0.3708206686930091, 0.37018255578093306, 0.37055837563451777, 0.3709349593495935, 0.3713123092573754, 0.37169042769857435, 0.3720693170234455, 0.37244897959183676, 0.372829417773238, 0.37321063394683024, 0.3735926305015353, 0.3739754098360656, 0.37435897435897436, 0.37474332648870634, 0.3751284686536485, 0.37551440329218105, 0.37590113285272914, 0.37628865979381443, 0.3766769865841073, 0.37706611570247933, 0.37745604963805585, 0.3778467908902691, 0.3772020725388601, 0.3775933609958506, 0.37798546209761164, 0.3783783783783784, 0.37877211238293446, 0.37916666666666665, 0.3795620437956204, 0.37995824634655534, 0.38035527690700105, 0.3807531380753138, 0.381151832460733, 0.38155136268343814, 0.38195173137460653, 0.38235294117647056, 0.38275499474237645, 0.3831578947368421, 0.3835616438356164, 0.38396624472573837, 0.3843717001055966, 0.38477801268498946, 0.3851851851851852, 0.3855932203389831, 0.3860021208907741, 0.386411889596603, 0.38682252922422955, 0.3872340425531915, 0.3876464323748669, 0.38699360341151384, 0.3874066168623266, 0.38782051282051283, 0.38823529411764707, 0.3886509635974304, 0.3890675241157556, 0.3894849785407725, 0.38882921589688507, 0.38924731182795697, 0.38966630785791173, 0.3900862068965517, 0.39050701186623515, 0.39092872570194387, 0.39135135135135135, 0.3917748917748918, 0.39219934994582883, 0.3926247288503254, 0.3930510314875136, 0.3934782608695652, 0.3939064200217628, 0.39433551198257083, 0.39476553980370777, 0.3951965065502183, 0.39562841530054643, 0.39606126914660833, 0.3964950711938664, 0.3969298245614035, 0.39626783754116357, 0.3967032967032967, 0.39713971397139713, 0.3975770925110132, 0.3980154355016538, 0.3984547461368653, 0.3988950276243094, 0.3993362831858407, 0.3997785160575858, 0.40022172949002216, 0.40066592674805773, 0.4011111111111111, 0.40155728587319245, 0.40200445434298443, 0.40245261984392416, 0.4029017857142857, 0.4033519553072626, 0.40380313199105144, 0.40425531914893614, 0.4047085201793722, 0.4051627384960718, 0.40561797752808987, 0.40607424071991, 0.40653153153153154, 0.4069898534385569, 0.40632054176072235, 0.4067796610169492, 0.4072398190045249, 0.40770101925254815, 0.40816326530612246, 0.4086265607264472, 0.4090909090909091, 0.40955631399317405, 0.41002277904328016, 0.40935005701254273, 0.4098173515981735, 0.4102857142857143, 0.4107551487414188, 0.41122565864833904, 0.411697247706422, 0.4121699196326062, 0.4126436781609195, 0.4131185270425777, 0.41359447004608296, 0.4129181084198385, 0.4133949191685912, 0.4138728323699422, 0.41435185185185186, 0.4148319814600232, 0.41531322505800466, 0.41579558652729387, 0.41627906976744183, 0.41559953434225844, 0.4160839160839161, 0.41656942823803966, 0.41705607476635514, 0.41637426900584795, 0.4168618266978923, 0.41735052754982416, 0.4166666666666667, 0.4171562867215041, 0.4176470588235294, 0.41813898704358066, 0.4186320754716981, 0.4179456906729634, 0.41843971631205673, 0.41893491124260357, 0.4194312796208531, 0.4199288256227758, 0.42042755344418054, 0.42092746730083236, 0.42023809523809524, 0.42073897497020263, 0.4212410501193317, 0.42054958183990443, 0.42105263157894735, 0.4215568862275449, 0.420863309352518, 0.42136854741896757, 0.4206730769230769, 0.41997593261131166, 0.42048192771084336, 0.4209891435464415, 0.4214975845410628, 0.42200725513905685, 0.4225181598062954, 0.42303030303030303, 0.42354368932038833, 0.4240583232077764, 0.4233576642335766, 0.4238733252131547, 0.424390243902439, 0.4249084249084249, 0.4254278728606357, 0.4259485924112607, 0.4264705882352941, 0.4269938650306748, 0.4275184275184275, 0.4280442804428044, 0.42857142857142855, 0.42909987669543775, 0.4283950617283951, 0.4276885043263288, 0.4282178217821782, 0.42874845105328374, 0.4292803970223325, 0.4298136645962733, 0.43034825870646765, 0.43088418430884184, 0.4314214463840399, 0.43196004993757803, 0.4325, 0.4330413016270338, 0.4323308270676692, 0.4328732747804266, 0.4334170854271357, 0.4339622641509434, 0.4345088161209068, 0.43505674653215637, 0.4356060606060606, 0.4361567635903919, 0.43670886075949367, 0.4372623574144487, 0.43781725888324874, 0.4371029224904701, 0.43765903307888043, 0.43821656050955415, 0.4387755102040816, 0.4393358876117497, 0.43861892583120204, 0.43918053777208704, 0.43974358974358974, 0.43902439024390244, 0.43958868894601544, 0.44015444015444016, 0.44072164948453607, 0.44, 0.4405684754521964, 0.4398447606727037, 0.44041450777202074, 0.4409857328145266, 0.44155844155844154, 0.44213263979193757, 0.4427083333333333, 0.44328552803129073, 0.44386422976501305, 0.4444444444444444, 0.44502617801047123, 0.4456094364351245, 0.4461942257217848, 0.4467805519053876, 0.4473684210526316, 0.4479578392621871, 0.44854881266490765, 0.44914134742404227, 0.4497354497354497, 0.44900662251655626, 0.4496021220159151, 0.450199203187251, 0.4507978723404255, 0.45139813581890814, 0.452, 0.45260347129506007, 0.4532085561497326, 0.4538152610441767, 0.4544235924932976, 0.45503355704697984, 0.45564516129032256, 0.45625841184387617, 0.4568733153638814, 0.4574898785425101, 0.4581081081081081, 0.4587280108254398, 0.45934959349593496, 0.4599728629579376, 0.46059782608695654, 0.46122448979591835, 0.46185286103542234, 0.46248294679399726, 0.46311475409836067, 0.4637482900136799, 0.4643835616438356, 0.46502057613168724, 0.46565934065934067, 0.4649243466299862, 0.465564738292011, 0.46620689655172415, 0.46685082872928174, 0.46749654218533887, 0.4667590027700831, 0.46740638002773927, 0.46805555555555556, 0.46870653685674546, 0.46935933147632314, 0.4700139470013947, 0.47067039106145253, 0.47132867132867134, 0.47198879551820727, 0.4726507713884993, 0.47331460674157305, 0.4739803094233474, 0.47464788732394364, 0.47531734837799716, 0.4745762711864407, 0.4752475247524752, 0.47592067988668557, 0.4765957446808511, 0.4758522727272727, 0.47652916073968704, 0.4772079772079772, 0.4764621968616263, 0.47714285714285715, 0.47782546494992845, 0.4785100286532951, 0.47776183644189385, 0.47844827586206895, 0.479136690647482, 0.4783861671469741, 0.47763347763347763, 0.47832369942196534, 0.47756874095513746, 0.4782608695652174, 0.47895500725689405, 0.4796511627906977, 0.48034934497816595, 0.48104956268221577, 0.48175182481751827, 0.4824561403508772, 0.48316251830161056, 0.4838709677419355, 0.4831130690161527, 0.4838235294117647, 0.4845360824742268, 0.48525073746312686, 0.4859675036927622, 0.48668639053254437, 0.4874074074074074, 0.486646884272997, 0.487369985141159, 0.4880952380952381, 0.488822652757079, 0.48955223880597015, 0.48878923766816146, 0.48952095808383234, 0.49025487256371814, 0.49099099099099097, 0.4917293233082707, 0.49096385542168675, 0.4917043740573152, 0.49244712990936557, 0.49319213313161875, 0.49393939393939396, 0.4931714719271624, 0.49240121580547114, 0.4916286149162861, 0.4923780487804878, 0.4916030534351145, 0.4923547400611621, 0.49310872894333846, 0.4938650306748466, 0.4946236559139785, 0.4938461538461538, 0.4946070878274268, 0.49537037037037035, 0.49613601236476046, 0.4969040247678019, 0.49612403100775193, 0.4968944099378882, 0.4976671850699845, 0.4984423676012461, 0.49921996879875197, 0.5, 0.5007824726134585, 0.5015673981191222, 0.5007849293563579, 0.5015723270440252, 0.5007874015748032, 0.501577287066246, 0.5023696682464455, 0.5031645569620253, 0.5023771790808241, 0.5031746031746032, 0.5023847376788553, 0.5031847133757962, 0.5023923444976076, 0.5031948881789138, 0.5024, 0.5032051282051282, 0.5024077046548957, 0.5032154340836013, 0.5040257648953301, 0.5048387096774194, 0.505654281098546, 0.5064724919093851, 0.5072933549432739, 0.5081168831168831, 0.5089430894308943, 0.509771986970684, 0.5106035889070146, 0.511437908496732, 0.5122749590834698, 0.5114754098360655, 0.5123152709359606, 0.5131578947368421, 0.514003294892916, 0.5148514851485149, 0.515702479338843, 0.5165562913907285, 0.5174129353233831, 0.5182724252491694, 0.519134775374376, 0.5183333333333333, 0.5191986644407346, 0.520066889632107, 0.5209380234505863, 0.5218120805369127, 0.5226890756302521, 0.5235690235690236, 0.5227655986509275, 0.5236486486486487, 0.5228426395939086, 0.523728813559322, 0.5246179966044142, 0.5238095238095238, 0.5229982964224872, 0.5238907849829352, 0.5230769230769231, 0.523972602739726, 0.5248713550600344, 0.5257731958762887, 0.5249569707401033, 0.5241379310344828, 0.5233160621761658, 0.5224913494809689, 0.5233968804159446, 0.5243055555555556, 0.5252173913043479, 0.5261324041811847, 0.525305410122164, 0.5262237762237763, 0.5271453590192644, 0.5280701754385965, 0.5272407732864675, 0.5264084507042254, 0.527336860670194, 0.5265017667844523, 0.5274336283185841, 0.526595744680851, 0.5275310834813499, 0.5284697508896797, 0.5294117647058824, 0.5303571428571429, 0.5313059033989267, 0.532258064516129, 0.533213644524237, 0.5341726618705036, 0.5351351351351351, 0.5361010830324909, 0.5370705244122965, 0.5380434782608695, 0.5390199637023594, 0.54, 0.5391621129326047, 0.5401459854014599, 0.5411334552102377, 0.5402930402930403, 0.5412844036697247, 0.5422794117647058, 0.5432780847145487, 0.5424354243542435, 0.5434380776340111, 0.5425925925925926, 0.5435992578849722, 0.5446096654275093, 0.5456238361266295, 0.5466417910447762, 0.5457943925233645, 0.5449438202247191, 0.5459662288930581, 0.5469924812030075, 0.5461393596986818, 0.5471698113207547, 0.5463137996219282, 0.5454545454545454, 0.5464895635673624, 0.5475285171102662, 0.5485714285714286, 0.549618320610687, 0.5506692160611855, 0.5517241379310345, 0.5508637236084453, 0.55, 0.5510597302504817, 0.5521235521235521, 0.5512572533849129, 0.5523255813953488, 0.5514563106796116, 0.5525291828793775, 0.5536062378167641, 0.5546875, 0.5538160469667319, 0.5529411764705883, 0.5540275049115914, 0.5551181102362205, 0.5542406311637081, 0.5553359683794467, 0.5564356435643565, 0.5575396825396826, 0.558648111332008, 0.5577689243027888, 0.5588822355289421, 0.558, 0.5571142284569138, 0.5582329317269076, 0.5593561368209256, 0.5584677419354839, 0.5575757575757576, 0.5587044534412956, 0.5598377281947262, 0.5609756097560976, 0.560081466395112, 0.5612244897959183, 0.5603271983640081, 0.5594262295081968, 0.5585215605749486, 0.5596707818930041, 0.5608247422680412, 0.5599173553719008, 0.5590062111801242, 0.5601659751037344, 0.5613305613305614, 0.5625, 0.5636743215031316, 0.5648535564853556, 0.5660377358490566, 0.5672268907563025, 0.5684210526315789, 0.569620253164557, 0.5708245243128964, 0.5720338983050848, 0.5732484076433121, 0.574468085106383, 0.5735607675906184, 0.5747863247863247, 0.5738758029978587, 0.575107296137339, 0.5763440860215053, 0.5775862068965517, 0.5766738660907127, 0.5757575757575758, 0.5748373101952278, 0.5739130434782609, 0.5751633986928104, 0.5764192139737991, 0.5754923413566739, 0.5767543859649122, 0.578021978021978, 0.579295154185022, 0.5805739514348786, 0.581858407079646, 0.5809312638580931, 0.5822222222222222, 0.5812917594654788, 0.5803571428571429, 0.5794183445190156, 0.5807174887892377, 0.5820224719101124, 0.581081081081081, 0.582392776523702, 0.583710407239819, 0.5850340136054422, 0.5863636363636363, 0.5876993166287016, 0.58675799086758, 0.5881006864988558, 0.5871559633027523, 0.5885057471264368, 0.5875576036866359, 0.5889145496535797, 0.5902777777777778, 0.5893271461716937, 0.5883720930232558, 0.5874125874125874, 0.5887850467289719, 0.5878220140515222, 0.5868544600938967, 0.5882352941176471, 0.589622641509434, 0.5910165484633569, 0.590047393364929, 0.5914489311163895, 0.5928571428571429, 0.5918854415274463, 0.5933014354066986, 0.592326139088729, 0.5913461538461539, 0.5927710843373494, 0.5942028985507246, 0.5932203389830508, 0.5946601941747572, 0.5961070559610706, 0.5951219512195122, 0.5965770171149144, 0.5980392156862745, 0.597051597051597, 0.5985221674876847, 0.6, 0.599009900990099, 0.6004962779156328, 0.599502487562189, 0.5985037406483791, 0.6, 0.5989974937343359, 0.5979899497487438, 0.5969773299748111, 0.5984848484848485, 0.5974683544303797, 0.5989847715736041, 0.5979643765903307, 0.5969387755102041, 0.5959079283887468, 0.5974358974358974, 0.5989717223650386, 0.5979381443298969, 0.5968992248062015, 0.5958549222797928, 0.5948051948051948, 0.59375, 0.5926892950391645, 0.5942408376963351, 0.5958005249343832, 0.5973684210526315, 0.5989445910290238, 0.5978835978835979, 0.5994694960212201, 0.598404255319149, 0.5973333333333334, 0.5989304812834224, 0.6005361930294906, 0.5994623655913979, 0.601078167115903, 0.6, 0.6016260162601627, 0.6005434782608695, 0.6021798365122616, 0.6010928961748634, 0.6027397260273972, 0.6043956043956044, 0.6060606060606061, 0.6049723756906077, 0.6066481994459834, 0.6083333333333333, 0.6072423398328691, 0.6089385474860335, 0.6106442577030813, 0.6123595505617978, 0.6112676056338028, 0.6101694915254238, 0.6118980169971672, 0.6107954545454546, 0.6096866096866097, 0.6085714285714285, 0.6103151862464183, 0.6120689655172413, 0.6138328530259366, 0.615606936416185, 0.6173913043478261, 0.6162790697674418, 0.6151603498542274, 0.6169590643274854, 0.6187683284457478, 0.6176470588235294, 0.616519174041298, 0.6153846153846154, 0.6172106824925816, 0.6160714285714286, 0.6179104477611941, 0.6167664670658682, 0.6156156156156156, 0.6174698795180723, 0.6193353474320241, 0.6181818181818182, 0.6200607902735562, 0.6189024390243902, 0.617737003058104, 0.6196319018404908, 0.6215384615384615, 0.6234567901234568, 0.6222910216718266, 0.6211180124223602, 0.6230529595015576, 0.621875, 0.6238244514106583, 0.6257861635220126, 0.6277602523659306, 0.6265822784810127, 0.6253968253968254, 0.6242038216560509, 0.6261980830670927, 0.625, 0.6270096463022508, 0.6290322580645161, 0.6310679611650486, 0.6331168831168831, 0.6319218241042345, 0.6339869281045751, 0.6327868852459017, 0.631578947368421, 0.6303630363036303, 0.6324503311258278, 0.6312292358803987, 0.63, 0.6287625418060201, 0.62751677852349, 0.6262626262626263, 0.6283783783783784, 0.6305084745762712, 0.6292517006802721, 0.6313993174061433, 0.6301369863013698, 0.6288659793814433, 0.6275862068965518, 0.629757785467128, 0.6284722222222222, 0.6306620209059234, 0.6293706293706294, 0.6280701754385964, 0.6267605633802817, 0.6254416961130742, 0.624113475177305, 0.6263345195729537, 0.6285714285714286, 0.6272401433691757, 0.6258992805755396, 0.6245487364620939, 0.6231884057971014, 0.6218181818181818, 0.6240875912408759, 0.6227106227106227, 0.6213235294117647, 0.6199261992619927, 0.6185185185185185, 0.6171003717472119, 0.6194029850746269, 0.6179775280898876, 0.6203007518796992, 0.6188679245283019, 0.6212121212121212, 0.623574144486692, 0.6259541984732825, 0.6283524904214559, 0.6269230769230769, 0.6293436293436293, 0.627906976744186, 0.6264591439688716, 0.62890625, 0.6274509803921569, 0.6299212598425197, 0.6284584980237155, 0.6309523809523809, 0.6334661354581673, 0.636, 0.6385542168674698, 0.6370967741935484, 0.6396761133603239, 0.6422764227642277, 0.6408163265306123, 0.639344262295082, 0.6419753086419753, 0.640495867768595, 0.6431535269709544, 0.6458333333333334, 0.6443514644351465, 0.6428571428571429, 0.6413502109704642, 0.6398305084745762, 0.6425531914893617, 0.6410256410256411, 0.6437768240343348, 0.6422413793103449, 0.6406926406926406, 0.6434782608695652, 0.6462882096069869, 0.6491228070175439, 0.6475770925110133, 0.6460176991150443, 0.6444444444444445, 0.6428571428571429, 0.6412556053811659, 0.6441441441441441, 0.6470588235294118, 0.6454545454545455, 0.6438356164383562, 0.6422018348623854, 0.6451612903225806, 0.6481481481481481, 0.6465116279069767, 0.6495327102803738, 0.6525821596244131, 0.6509433962264151, 0.6492890995260664, 0.6523809523809524, 0.6555023923444976, 0.6538461538461539, 0.6570048309178744, 0.6553398058252428, 0.6536585365853659, 0.6568627450980392, 0.6551724137931034, 0.6534653465346535, 0.6567164179104478, 0.66, 0.6582914572864321, 0.6565656565656566, 0.6548223350253807, 0.6530612244897959, 0.6512820512820513, 0.654639175257732, 0.6580310880829016, 0.65625, 0.6544502617801047, 0.6578947368421053, 0.6613756613756614, 0.6595744680851063, 0.6577540106951871, 0.6612903225806451, 0.6648648648648648, 0.6630434782608695, 0.6666666666666666, 0.6648351648351648, 0.6629834254143646, 0.6611111111111111, 0.659217877094972, 0.6629213483146067, 0.6610169491525424, 0.6647727272727273, 0.6628571428571428, 0.6666666666666666, 0.6705202312138728, 0.6686046511627907, 0.672514619883041, 0.6764705882352942, 0.6804733727810651, 0.6845238095238095, 0.6826347305389222, 0.6807228915662651, 0.6787878787878788, 0.676829268292683, 0.6809815950920245, 0.6851851851851852, 0.6832298136645962, 0.68125, 0.6792452830188679, 0.6835443037974683, 0.6815286624203821, 0.6858974358974359, 0.6838709677419355, 0.6818181818181818, 0.6797385620915033, 0.6842105263157895, 0.6887417218543046, 0.6933333333333334, 0.6912751677852349, 0.6959459459459459, 0.7006802721088435, 0.6986301369863014, 0.7034482758620689, 0.7013888888888888, 0.6993006993006993, 0.6971830985915493, 0.7021276595744681, 0.7, 0.697841726618705, 0.6956521739130435, 0.7007299270072993, 0.6985294117647058, 0.7037037037037037, 0.7014925373134329, 0.6992481203007519, 0.7045454545454546, 0.7099236641221374, 0.7076923076923077, 0.7131782945736435, 0.7109375, 0.7086614173228346, 0.7142857142857143, 0.72, 0.7258064516129032, 0.7235772357723578, 0.7295081967213115, 0.7272727272727273, 0.7333333333333333, 0.7394957983193278, 0.7372881355932204, 0.7350427350427351, 0.7327586206896551, 0.7391304347826086, 0.7368421052631579, 0.7345132743362832, 0.7321428571428571, 0.7387387387387387, 0.7454545454545455, 0.7522935779816514, 0.75, 0.7476635514018691, 0.7452830188679245, 0.7523809523809524, 0.75, 0.7475728155339806, 0.7450980392156863, 0.7524752475247525, 0.76, 0.7575757575757576, 0.7653061224489796, 0.7628865979381443, 0.7604166666666666, 0.7578947368421053, 0.7659574468085106, 0.7634408602150538, 0.7608695652173914, 0.7692307692307693, 0.7777777777777778, 0.7865168539325843, 0.7954545454545454, 0.7931034482758621, 0.7906976744186046, 0.788235294117647, 0.7976190476190477, 0.7951807228915663, 0.7926829268292683, 0.7901234567901234, 0.8, 0.7974683544303798, 0.7948717948717948, 0.7922077922077922, 0.7894736842105263, 0.7866666666666666, 0.7837837837837838, 0.7808219178082192, 0.7777777777777778, 0.7887323943661971, 0.8, 0.7971014492753623, 0.7941176470588235, 0.8059701492537313, 0.803030303030303, 0.8153846153846154, 0.8125, 0.8095238095238095, 0.8064516129032258, 0.8032786885245902, 0.8, 0.7966101694915254, 0.7931034482758621, 0.8070175438596491, 0.8214285714285714, 0.8181818181818182, 0.8148148148148148, 0.8113207547169812, 0.8076923076923077, 0.803921568627451, 0.8, 0.8163265306122449, 0.8125, 0.8085106382978723, 0.8043478260869565, 0.8, 0.7954545454545454, 0.7906976744186046, 0.7857142857142857, 0.8048780487804879, 0.8, 0.7948717948717948, 0.7894736842105263, 0.7837837837837838, 0.7777777777777778, 0.8, 0.7941176470588235, 0.7878787878787878, 0.78125, 0.8064516129032258, 0.8, 0.7931034482758621, 0.7857142857142857, 0.7777777777777778, 0.7692307692307693, 0.76, 0.7916666666666666, 0.8260869565217391, 0.8181818181818182, 0.8095238095238095, 0.85, 0.8947368421052632, 0.8888888888888888, 0.8823529411764706, 0.875, 0.8666666666666667, 0.8571428571428571, 0.8461538461538461, 0.8333333333333334, 0.8181818181818182, 0.9, 0.8888888888888888, 1.0, 1.0, 1.0, 1.0, 1.0, 1.0, 1.0, 1.0, 1.0]}, {\"mode\": \"lines\", \"name\": \"KNN\", \"type\": \"scatter\", \"x\": [1.0, 0.9598930481283422, 0.9144385026737968, 0.839572192513369, 0.7513368983957219, 0.6363636363636364, 0.45989304812834225, 0.20588235294117646, 0.0], \"y\": [0.2658137882018479, 0.3572139303482587, 0.4014084507042254, 0.4410112359550562, 0.46755407653910147, 0.5085470085470085, 0.5566343042071198, 0.5968992248062015, 1.0]}, {\"mode\": \"lines\", \"name\": \"DT\", \"type\": \"scatter\", \"x\": [1.0, 0.8877005347593583, 0.8877005347593583, 0.8877005347593583, 0.8850267379679144, 0.8823529411764706, 0.8823529411764706, 0.8823529411764706, 0.8823529411764706, 0.8743315508021391, 0.8716577540106952, 0.8689839572192514, 0.8609625668449198, 0.8609625668449198, 0.8609625668449198, 0.8502673796791443, 0.8502673796791443, 0.8502673796791443, 0.8475935828877005, 0.8449197860962567, 0.8422459893048129, 0.8342245989304813, 0.8235294117647058, 0.8155080213903744, 0.8128342245989305, 0.8074866310160428, 0.8074866310160428, 0.7994652406417112, 0.7834224598930482, 0.7780748663101604, 0.7700534759358288, 0.767379679144385, 0.7647058823529411, 0.7593582887700535, 0.7566844919786097, 0.7352941176470589, 0.732620320855615, 0.7299465240641712, 0.7299465240641712, 0.7165775401069518, 0.6925133689839572, 0.6925133689839572, 0.6925133689839572, 0.6737967914438503, 0.6737967914438503, 0.660427807486631, 0.6497326203208557, 0.6497326203208557, 0.6497326203208557, 0.6390374331550802, 0.6203208556149733, 0.6203208556149733, 0.5935828877005348, 0.5935828877005348, 0.5935828877005348, 0.5721925133689839, 0.553475935828877, 0.5508021390374331, 0.5454545454545454, 0.5454545454545454, 0.5454545454545454, 0.5427807486631016, 0.45989304812834225, 0.45187165775401067, 0.3716577540106952, 0.36363636363636365, 0.3582887700534759, 0.35561497326203206, 0.32620320855614976, 0.32620320855614976, 0.32085561497326204, 0.3181818181818182, 0.3155080213903743, 0.23529411764705882, 0.23529411764705882, 0.15240641711229946, 0.1497326203208556, 0.13903743315508021, 0.13903743315508021, 0.13903743315508021, 0.05614973262032086, 0.034759358288770054, 0.0], \"y\": [0.2658137882018479, 0.3824884792626728, 0.3883040935672515, 0.3901292596944771, 0.39171597633136096, 0.3914590747330961, 0.3923900118906064, 0.39568345323741005, 0.39663461538461536, 0.40171990171990174, 0.4024691358024691, 0.4098360655737705, 0.4107142857142857, 0.4117647058823529, 0.4138817480719794, 0.42119205298013246, 0.424, 0.4274193548387097, 0.4272237196765499, 0.43169398907103823, 0.4332874828060523, 0.4425531914893617, 0.44573082489146165, 0.44525547445255476, 0.4470588235294118, 0.44542772861356933, 0.4494047619047619, 0.44894894894894893, 0.4680511182108626, 0.470873786407767, 0.4744645799011532, 0.47674418604651164, 0.4774624373956594, 0.47571189279731996, 0.4764309764309764, 0.4963898916967509, 0.49727767695099817, 0.5, 0.5046210720887245, 0.5056603773584906, 0.5088408644400786, 0.5108481262327417, 0.5118577075098815, 0.5111561866125761, 0.5142857142857142, 0.5145833333333333, 0.511578947368421, 0.5159235668789809, 0.5170212765957447, 0.5150862068965517, 0.5167037861915368, 0.5213483146067416, 0.5186915887850467, 0.5211267605633803, 0.5223529411764706, 0.5232273838630807, 0.5307692307692308, 0.5322997416020672, 0.5354330708661418, 0.5368421052631579, 0.5411140583554377, 0.5413333333333333, 0.5227963525835866, 0.5264797507788161, 0.5285171102661597, 0.5271317829457365, 0.5338645418326693, 0.540650406504065, 0.5596330275229358, 0.5622119815668203, 0.5633802816901409, 0.5639810426540285, 0.5673076923076923, 0.5269461077844312, 0.5301204819277109, 0.49137931034482757, 0.5, 0.5048543689320388, 0.5098039215686274, 0.5148514851485149, 0.3181818181818182, 0.24528301886792453, 1.0]}, {\"mode\": \"lines\", \"name\": \"SVC\", \"type\": \"scatter\", \"x\": [1.0, 0.9973262032085561, 0.9973262032085561, 0.9973262032085561, 0.9973262032085561, 0.9973262032085561, 0.9973262032085561, 0.9973262032085561, 0.9973262032085561, 0.9973262032085561, 0.9973262032085561, 0.9973262032085561, 0.9973262032085561, 0.9973262032085561, 0.9973262032085561, 0.9973262032085561, 0.9973262032085561, 0.9973262032085561, 0.9973262032085561, 0.9973262032085561, 0.9973262032085561, 0.9946524064171123, 0.9946524064171123, 0.9946524064171123, 0.9946524064171123, 0.9946524064171123, 0.9946524064171123, 0.9946524064171123, 0.9946524064171123, 0.9946524064171123, 0.9946524064171123, 0.9946524064171123, 0.9946524064171123, 0.9946524064171123, 0.9946524064171123, 0.9946524064171123, 0.9946524064171123, 0.9946524064171123, 0.9946524064171123, 0.9946524064171123, 0.9946524064171123, 0.9946524064171123, 0.9946524064171123, 0.9946524064171123, 0.9946524064171123, 0.9946524064171123, 0.9946524064171123, 0.9946524064171123, 0.9946524064171123, 0.9946524064171123, 0.9946524064171123, 0.9946524064171123, 0.9946524064171123, 0.9946524064171123, 0.9946524064171123, 0.9946524064171123, 0.9946524064171123, 0.9946524064171123, 0.9946524064171123, 0.9946524064171123, 0.9946524064171123, 0.9946524064171123, 0.9946524064171123, 0.9946524064171123, 0.9946524064171123, 0.9946524064171123, 0.9946524064171123, 0.9946524064171123, 0.9946524064171123, 0.9946524064171123, 0.9946524064171123, 0.9919786096256684, 0.9919786096256684, 0.9919786096256684, 0.9919786096256684, 0.9919786096256684, 0.9919786096256684, 0.9893048128342246, 0.9893048128342246, 0.9893048128342246, 0.9893048128342246, 0.9893048128342246, 0.9893048128342246, 0.9893048128342246, 0.9893048128342246, 0.9866310160427807, 0.9866310160427807, 0.9866310160427807, 0.9866310160427807, 0.9866310160427807, 0.9866310160427807, 0.9866310160427807, 0.983957219251337, 0.983957219251337, 0.983957219251337, 0.983957219251337, 0.983957219251337, 0.983957219251337, 0.983957219251337, 0.983957219251337, 0.983957219251337, 0.983957219251337, 0.983957219251337, 0.983957219251337, 0.983957219251337, 0.983957219251337, 0.983957219251337, 0.983957219251337, 0.983957219251337, 0.983957219251337, 0.983957219251337, 0.983957219251337, 0.983957219251337, 0.983957219251337, 0.983957219251337, 0.983957219251337, 0.983957219251337, 0.983957219251337, 0.983957219251337, 0.983957219251337, 0.983957219251337, 0.983957219251337, 0.983957219251337, 0.983957219251337, 0.983957219251337, 0.983957219251337, 0.983957219251337, 0.983957219251337, 0.983957219251337, 0.983957219251337, 0.9812834224598931, 0.9812834224598931, 0.9812834224598931, 0.9812834224598931, 0.9812834224598931, 0.9812834224598931, 0.9812834224598931, 0.9812834224598931, 0.9812834224598931, 0.9812834224598931, 0.9812834224598931, 0.9812834224598931, 0.9812834224598931, 0.9812834224598931, 0.9812834224598931, 0.9812834224598931, 0.9812834224598931, 0.9812834224598931, 0.9812834224598931, 0.9812834224598931, 0.9812834224598931, 0.9812834224598931, 0.9812834224598931, 0.9812834224598931, 0.9812834224598931, 0.9812834224598931, 0.9812834224598931, 0.9812834224598931, 0.9812834224598931, 0.9812834224598931, 0.9812834224598931, 0.9812834224598931, 0.9812834224598931, 0.9786096256684492, 0.9786096256684492, 0.9786096256684492, 0.9786096256684492, 0.9786096256684492, 0.9786096256684492, 0.9786096256684492, 0.9786096256684492, 0.9786096256684492, 0.9786096256684492, 0.9786096256684492, 0.9786096256684492, 0.9786096256684492, 0.9786096256684492, 0.9786096256684492, 0.9786096256684492, 0.9786096256684492, 0.9759358288770054, 0.9759358288770054, 0.9759358288770054, 0.9732620320855615, 0.9732620320855615, 0.9705882352941176, 0.9705882352941176, 0.9705882352941176, 0.9705882352941176, 0.9705882352941176, 0.9705882352941176, 0.9705882352941176, 0.9705882352941176, 0.9705882352941176, 0.9705882352941176, 0.9705882352941176, 0.9705882352941176, 0.9705882352941176, 0.9705882352941176, 0.9705882352941176, 0.9705882352941176, 0.9705882352941176, 0.9705882352941176, 0.9705882352941176, 0.9705882352941176, 0.9705882352941176, 0.9705882352941176, 0.9705882352941176, 0.9705882352941176, 0.9705882352941176, 0.9705882352941176, 0.9705882352941176, 0.9705882352941176, 0.9705882352941176, 0.9705882352941176, 0.9705882352941176, 0.9705882352941176, 0.9705882352941176, 0.9679144385026738, 0.9679144385026738, 0.9679144385026738, 0.9679144385026738, 0.9679144385026738, 0.9679144385026738, 0.9652406417112299, 0.9652406417112299, 0.9652406417112299, 0.9652406417112299, 0.9652406417112299, 0.9652406417112299, 0.9652406417112299, 0.9652406417112299, 0.9625668449197861, 0.9625668449197861, 0.9625668449197861, 0.9625668449197861, 0.9598930481283422, 0.9598930481283422, 0.9598930481283422, 0.9598930481283422, 0.9598930481283422, 0.9598930481283422, 0.9598930481283422, 0.9598930481283422, 0.9598930481283422, 0.9598930481283422, 0.9598930481283422, 0.9598930481283422, 0.9598930481283422, 0.9598930481283422, 0.9598930481283422, 0.9598930481283422, 0.9598930481283422, 0.9598930481283422, 0.9598930481283422, 0.9598930481283422, 0.9598930481283422, 0.9598930481283422, 0.9598930481283422, 0.9598930481283422, 0.9598930481283422, 0.9598930481283422, 0.9598930481283422, 0.9598930481283422, 0.9598930481283422, 0.9598930481283422, 0.9598930481283422, 0.9598930481283422, 0.9572192513368984, 0.9572192513368984, 0.9572192513368984, 0.9572192513368984, 0.9572192513368984, 0.9572192513368984, 0.9572192513368984, 0.9572192513368984, 0.9572192513368984, 0.9572192513368984, 0.9572192513368984, 0.9545454545454546, 0.9545454545454546, 0.9545454545454546, 0.9545454545454546, 0.9545454545454546, 0.9518716577540107, 0.9518716577540107, 0.9518716577540107, 0.9518716577540107, 0.9491978609625669, 0.9491978609625669, 0.9491978609625669, 0.9491978609625669, 0.9491978609625669, 0.9491978609625669, 0.9491978609625669, 0.9491978609625669, 0.9491978609625669, 0.9491978609625669, 0.9491978609625669, 0.946524064171123, 0.946524064171123, 0.946524064171123, 0.946524064171123, 0.946524064171123, 0.946524064171123, 0.946524064171123, 0.946524064171123, 0.946524064171123, 0.946524064171123, 0.946524064171123, 0.946524064171123, 0.946524064171123, 0.946524064171123, 0.946524064171123, 0.946524064171123, 0.946524064171123, 0.946524064171123, 0.946524064171123, 0.946524064171123, 0.946524064171123, 0.9438502673796791, 0.9438502673796791, 0.9438502673796791, 0.9411764705882353, 0.9411764705882353, 0.9411764705882353, 0.9411764705882353, 0.9411764705882353, 0.9411764705882353, 0.9411764705882353, 0.9411764705882353, 0.9411764705882353, 0.9411764705882353, 0.9411764705882353, 0.9411764705882353, 0.9411764705882353, 0.9411764705882353, 0.9411764705882353, 0.9411764705882353, 0.9385026737967914, 0.9358288770053476, 0.9358288770053476, 0.9358288770053476, 0.9358288770053476, 0.9358288770053476, 0.9358288770053476, 0.9358288770053476, 0.9358288770053476, 0.9358288770053476, 0.9358288770053476, 0.9358288770053476, 0.9358288770053476, 0.9358288770053476, 0.9358288770053476, 0.9358288770053476, 0.9358288770053476, 0.9358288770053476, 0.9358288770053476, 0.9358288770053476, 0.9358288770053476, 0.9358288770053476, 0.9358288770053476, 0.9358288770053476, 0.9358288770053476, 0.9358288770053476, 0.9358288770053476, 0.9358288770053476, 0.9358288770053476, 0.9358288770053476, 0.9358288770053476, 0.9331550802139037, 0.9331550802139037, 0.9331550802139037, 0.9331550802139037, 0.9331550802139037, 0.9331550802139037, 0.9331550802139037, 0.9331550802139037, 0.9331550802139037, 0.93048128342246, 0.93048128342246, 0.93048128342246, 0.9278074866310161, 0.9278074866310161, 0.9278074866310161, 0.9278074866310161, 0.9278074866310161, 0.9278074866310161, 0.9278074866310161, 0.9278074866310161, 0.9278074866310161, 0.9278074866310161, 0.9278074866310161, 0.9278074866310161, 0.9278074866310161, 0.9278074866310161, 0.9278074866310161, 0.9278074866310161, 0.9278074866310161, 0.9278074866310161, 0.9251336898395722, 0.9224598930481284, 0.9224598930481284, 0.9224598930481284, 0.9224598930481284, 0.9224598930481284, 0.9224598930481284, 0.9224598930481284, 0.9224598930481284, 0.9224598930481284, 0.9224598930481284, 0.9224598930481284, 0.9224598930481284, 0.9224598930481284, 0.9224598930481284, 0.9224598930481284, 0.9224598930481284, 0.9224598930481284, 0.9224598930481284, 0.9224598930481284, 0.9224598930481284, 0.9224598930481284, 0.9224598930481284, 0.9224598930481284, 0.9224598930481284, 0.9224598930481284, 0.9224598930481284, 0.9224598930481284, 0.9224598930481284, 0.9197860962566845, 0.9197860962566845, 0.9197860962566845, 0.9197860962566845, 0.9197860962566845, 0.9197860962566845, 0.9197860962566845, 0.9197860962566845, 0.9197860962566845, 0.9197860962566845, 0.9197860962566845, 0.9197860962566845, 0.9171122994652406, 0.9171122994652406, 0.9171122994652406, 0.9144385026737968, 0.9144385026737968, 0.9144385026737968, 0.9144385026737968, 0.9144385026737968, 0.9144385026737968, 0.9144385026737968, 0.9144385026737968, 0.9144385026737968, 0.9144385026737968, 0.9144385026737968, 0.9144385026737968, 0.9144385026737968, 0.9144385026737968, 0.9144385026737968, 0.9144385026737968, 0.9144385026737968, 0.9144385026737968, 0.9144385026737968, 0.9144385026737968, 0.9144385026737968, 0.9144385026737968, 0.9144385026737968, 0.9144385026737968, 0.9144385026737968, 0.9144385026737968, 0.9144385026737968, 0.9144385026737968, 0.9117647058823529, 0.9117647058823529, 0.9117647058823529, 0.9117647058823529, 0.9090909090909091, 0.9090909090909091, 0.9090909090909091, 0.9090909090909091, 0.9090909090909091, 0.9090909090909091, 0.9090909090909091, 0.9090909090909091, 0.9090909090909091, 0.9090909090909091, 0.9090909090909091, 0.9090909090909091, 0.9090909090909091, 0.9090909090909091, 0.9090909090909091, 0.9090909090909091, 0.9090909090909091, 0.9090909090909091, 0.9090909090909091, 0.9090909090909091, 0.9090909090909091, 0.9090909090909091, 0.9090909090909091, 0.9090909090909091, 0.9090909090909091, 0.9090909090909091, 0.9090909090909091, 0.9064171122994652, 0.9064171122994652, 0.9064171122994652, 0.9064171122994652, 0.9037433155080213, 0.9037433155080213, 0.9037433155080213, 0.9010695187165776, 0.8983957219251337, 0.8983957219251337, 0.8983957219251337, 0.8983957219251337, 0.8983957219251337, 0.8983957219251337, 0.8983957219251337, 0.8983957219251337, 0.8957219251336899, 0.8957219251336899, 0.893048128342246, 0.893048128342246, 0.893048128342246, 0.8903743315508021, 0.8903743315508021, 0.8903743315508021, 0.8903743315508021, 0.8903743315508021, 0.8903743315508021, 0.8903743315508021, 0.8903743315508021, 0.8903743315508021, 0.8877005347593583, 0.8877005347593583, 0.8877005347593583, 0.8877005347593583, 0.8877005347593583, 0.8877005347593583, 0.8877005347593583, 0.8877005347593583, 0.8877005347593583, 0.8877005347593583, 0.8850267379679144, 0.8850267379679144, 0.8850267379679144, 0.8823529411764706, 0.8823529411764706, 0.8796791443850267, 0.8796791443850267, 0.8796791443850267, 0.8796791443850267, 0.8770053475935828, 0.8770053475935828, 0.8770053475935828, 0.8770053475935828, 0.8770053475935828, 0.8770053475935828, 0.8743315508021391, 0.8743315508021391, 0.8743315508021391, 0.8743315508021391, 0.8743315508021391, 0.8743315508021391, 0.8743315508021391, 0.8743315508021391, 0.8743315508021391, 0.8743315508021391, 0.8716577540106952, 0.8716577540106952, 0.8716577540106952, 0.8716577540106952, 0.8689839572192514, 0.8689839572192514, 0.8663101604278075, 0.8663101604278075, 0.8636363636363636, 0.8636363636363636, 0.8636363636363636, 0.8636363636363636, 0.8636363636363636, 0.8636363636363636, 0.8609625668449198, 0.8609625668449198, 0.8582887700534759, 0.8582887700534759, 0.8582887700534759, 0.8582887700534759, 0.8582887700534759, 0.8582887700534759, 0.8582887700534759, 0.8582887700534759, 0.8556149732620321, 0.8556149732620321, 0.8556149732620321, 0.8556149732620321, 0.8556149732620321, 0.8529411764705882, 0.8529411764705882, 0.8529411764705882, 0.8529411764705882, 0.8502673796791443, 0.8502673796791443, 0.8502673796791443, 0.8502673796791443, 0.8502673796791443, 0.8502673796791443, 0.8502673796791443, 0.8475935828877005, 0.8475935828877005, 0.8475935828877005, 0.8475935828877005, 0.8475935828877005, 0.8475935828877005, 0.8475935828877005, 0.8475935828877005, 0.8475935828877005, 0.8449197860962567, 0.8422459893048129, 0.8422459893048129, 0.8422459893048129, 0.8422459893048129, 0.8422459893048129, 0.8422459893048129, 0.839572192513369, 0.839572192513369, 0.839572192513369, 0.839572192513369, 0.839572192513369, 0.8368983957219251, 0.8368983957219251, 0.8342245989304813, 0.8342245989304813, 0.8315508021390374, 0.8315508021390374, 0.8315508021390374, 0.8288770053475936, 0.8262032085561497, 0.8262032085561497, 0.8262032085561497, 0.8262032085561497, 0.8235294117647058, 0.8235294117647058, 0.8235294117647058, 0.8235294117647058, 0.8235294117647058, 0.8235294117647058, 0.8235294117647058, 0.8235294117647058, 0.8235294117647058, 0.820855614973262, 0.820855614973262, 0.8181818181818182, 0.8181818181818182, 0.8181818181818182, 0.8181818181818182, 0.8155080213903744, 0.8155080213903744, 0.8155080213903744, 0.8155080213903744, 0.8155080213903744, 0.8128342245989305, 0.8128342245989305, 0.8128342245989305, 0.8128342245989305, 0.8128342245989305, 0.8128342245989305, 0.8128342245989305, 0.8128342245989305, 0.8128342245989305, 0.8101604278074866, 0.8101604278074866, 0.8074866310160428, 0.8074866310160428, 0.8074866310160428, 0.8074866310160428, 0.8074866310160428, 0.8074866310160428, 0.8048128342245989, 0.8048128342245989, 0.8048128342245989, 0.8048128342245989, 0.8048128342245989, 0.8021390374331551, 0.7994652406417112, 0.7967914438502673, 0.7941176470588235, 0.7941176470588235, 0.7941176470588235, 0.7914438502673797, 0.7914438502673797, 0.7914438502673797, 0.7914438502673797, 0.7914438502673797, 0.7914438502673797, 0.7887700534759359, 0.7887700534759359, 0.7887700534759359, 0.7887700534759359, 0.7887700534759359, 0.7887700534759359, 0.7887700534759359, 0.7887700534759359, 0.7887700534759359, 0.7887700534759359, 0.7887700534759359, 0.7887700534759359, 0.7887700534759359, 0.7887700534759359, 0.7887700534759359, 0.7887700534759359, 0.7887700534759359, 0.7887700534759359, 0.7887700534759359, 0.7887700534759359, 0.7887700534759359, 0.786096256684492, 0.786096256684492, 0.7834224598930482, 0.7834224598930482, 0.7834224598930482, 0.7834224598930482, 0.7807486631016043, 0.7780748663101604, 0.7780748663101604, 0.7754010695187166, 0.7754010695187166, 0.7727272727272727, 0.7727272727272727, 0.7727272727272727, 0.7727272727272727, 0.7700534759358288, 0.767379679144385, 0.767379679144385, 0.7647058823529411, 0.7647058823529411, 0.7620320855614974, 0.7620320855614974, 0.7593582887700535, 0.7566844919786097, 0.7566844919786097, 0.7566844919786097, 0.7566844919786097, 0.7566844919786097, 0.7566844919786097, 0.7566844919786097, 0.7566844919786097, 0.7566844919786097, 0.7566844919786097, 0.7566844919786097, 0.7566844919786097, 0.7540106951871658, 0.7513368983957219, 0.7486631016042781, 0.7486631016042781, 0.7486631016042781, 0.7486631016042781, 0.7486631016042781, 0.7486631016042781, 0.7486631016042781, 0.7486631016042781, 0.7486631016042781, 0.7486631016042781, 0.7486631016042781, 0.7459893048128342, 0.7433155080213903, 0.7433155080213903, 0.7433155080213903, 0.7433155080213903, 0.7433155080213903, 0.7433155080213903, 0.7433155080213903, 0.7433155080213903, 0.7406417112299465, 0.7406417112299465, 0.7406417112299465, 0.7379679144385026, 0.7352941176470589, 0.7352941176470589, 0.732620320855615, 0.732620320855615, 0.732620320855615, 0.732620320855615, 0.732620320855615, 0.7299465240641712, 0.7299465240641712, 0.7299465240641712, 0.7299465240641712, 0.7299465240641712, 0.7299465240641712, 0.7272727272727273, 0.7272727272727273, 0.7272727272727273, 0.7272727272727273, 0.7245989304812834, 0.7245989304812834, 0.7245989304812834, 0.7245989304812834, 0.7219251336898396, 0.7219251336898396, 0.7219251336898396, 0.7192513368983957, 0.7192513368983957, 0.7192513368983957, 0.7192513368983957, 0.7192513368983957, 0.7192513368983957, 0.7165775401069518, 0.7165775401069518, 0.713903743315508, 0.713903743315508, 0.713903743315508, 0.713903743315508, 0.713903743315508, 0.713903743315508, 0.7112299465240641, 0.7112299465240641, 0.7112299465240641, 0.7112299465240641, 0.7085561497326203, 0.7085561497326203, 0.7058823529411765, 0.7058823529411765, 0.7032085561497327, 0.7005347593582888, 0.7005347593582888, 0.7005347593582888, 0.6978609625668449, 0.6978609625668449, 0.6951871657754011, 0.6925133689839572, 0.6925133689839572, 0.6925133689839572, 0.6925133689839572, 0.6925133689839572, 0.6925133689839572, 0.6898395721925134, 0.6898395721925134, 0.6898395721925134, 0.6871657754010695, 0.6871657754010695, 0.6844919786096256, 0.6818181818181818, 0.679144385026738, 0.679144385026738, 0.679144385026738, 0.679144385026738, 0.6764705882352942, 0.6764705882352942, 0.6764705882352942, 0.6764705882352942, 0.6764705882352942, 0.6764705882352942, 0.6764705882352942, 0.6764705882352942, 0.6764705882352942, 0.6764705882352942, 0.6764705882352942, 0.6764705882352942, 0.6764705882352942, 0.6764705882352942, 0.6764705882352942, 0.6737967914438503, 0.6737967914438503, 0.6737967914438503, 0.6737967914438503, 0.6737967914438503, 0.6737967914438503, 0.6737967914438503, 0.6737967914438503, 0.6711229946524064, 0.6711229946524064, 0.6711229946524064, 0.6711229946524064, 0.6711229946524064, 0.6711229946524064, 0.6684491978609626, 0.6684491978609626, 0.6657754010695187, 0.6657754010695187, 0.6657754010695187, 0.6631016042780749, 0.6631016042780749, 0.6631016042780749, 0.660427807486631, 0.660427807486631, 0.660427807486631, 0.660427807486631, 0.660427807486631, 0.660427807486631, 0.660427807486631, 0.6577540106951871, 0.6550802139037433, 0.6524064171122995, 0.6524064171122995, 0.6497326203208557, 0.6497326203208557, 0.6497326203208557, 0.6497326203208557, 0.6497326203208557, 0.6497326203208557, 0.6497326203208557, 0.6470588235294118, 0.6443850267379679, 0.6417112299465241, 0.6390374331550802, 0.6363636363636364, 0.6336898395721925, 0.6310160427807486, 0.6283422459893048, 0.6256684491978609, 0.6256684491978609, 0.6256684491978609, 0.6256684491978609, 0.6256684491978609, 0.6229946524064172, 0.6229946524064172, 0.6229946524064172, 0.6203208556149733, 0.6203208556149733, 0.6203208556149733, 0.6203208556149733, 0.6203208556149733, 0.6203208556149733, 0.6203208556149733, 0.6203208556149733, 0.6176470588235294, 0.6149732620320856, 0.6122994652406417, 0.6096256684491979, 0.606951871657754, 0.606951871657754, 0.6042780748663101, 0.6016042780748663, 0.5989304812834224, 0.5962566844919787, 0.5962566844919787, 0.5962566844919787, 0.5962566844919787, 0.5935828877005348, 0.5935828877005348, 0.5935828877005348, 0.5935828877005348, 0.5909090909090909, 0.5909090909090909, 0.5882352941176471, 0.5855614973262032, 0.5828877005347594, 0.5802139037433155, 0.5775401069518716, 0.5748663101604278, 0.5721925133689839, 0.5721925133689839, 0.56951871657754, 0.5668449197860963, 0.5668449197860963, 0.5641711229946524, 0.5641711229946524, 0.5614973262032086, 0.5614973262032086, 0.5614973262032086, 0.5614973262032086, 0.5588235294117647, 0.5588235294117647, 0.5561497326203209, 0.5561497326203209, 0.5561497326203209, 0.553475935828877, 0.553475935828877, 0.553475935828877, 0.553475935828877, 0.5508021390374331, 0.5481283422459893, 0.5481283422459893, 0.5481283422459893, 0.5481283422459893, 0.5481283422459893, 0.5481283422459893, 0.5481283422459893, 0.5454545454545454, 0.5454545454545454, 0.5427807486631016, 0.5427807486631016, 0.5427807486631016, 0.5427807486631016, 0.5427807486631016, 0.5427807486631016, 0.5427807486631016, 0.5427807486631016, 0.5401069518716578, 0.5374331550802139, 0.5374331550802139, 0.5374331550802139, 0.5374331550802139, 0.5347593582887701, 0.5320855614973262, 0.5294117647058824, 0.5294117647058824, 0.5294117647058824, 0.5267379679144385, 0.5267379679144385, 0.5267379679144385, 0.5267379679144385, 0.5240641711229946, 0.5240641711229946, 0.5240641711229946, 0.5240641711229946, 0.5213903743315508, 0.5187165775401069, 0.5187165775401069, 0.516042780748663, 0.516042780748663, 0.5133689839572193, 0.5106951871657754, 0.5106951871657754, 0.5080213903743316, 0.5080213903743316, 0.5080213903743316, 0.5080213903743316, 0.5053475935828877, 0.5053475935828877, 0.5026737967914439, 0.5026737967914439, 0.5026737967914439, 0.5, 0.49732620320855614, 0.4946524064171123, 0.4946524064171123, 0.4946524064171123, 0.4919786096256685, 0.4893048128342246, 0.4893048128342246, 0.48663101604278075, 0.48663101604278075, 0.4839572192513369, 0.4839572192513369, 0.48128342245989303, 0.48128342245989303, 0.48128342245989303, 0.4786096256684492, 0.4786096256684492, 0.4786096256684492, 0.4786096256684492, 0.4786096256684492, 0.4786096256684492, 0.4786096256684492, 0.47593582887700536, 0.47593582887700536, 0.4732620320855615, 0.47058823529411764, 0.47058823529411764, 0.4679144385026738, 0.46524064171123, 0.46524064171123, 0.4625668449197861, 0.4625668449197861, 0.4625668449197861, 0.45989304812834225, 0.45989304812834225, 0.45989304812834225, 0.4572192513368984, 0.4572192513368984, 0.4572192513368984, 0.4572192513368984, 0.45454545454545453, 0.45454545454545453, 0.45187165775401067, 0.44919786096256686, 0.446524064171123, 0.44385026737967914, 0.44385026737967914, 0.4411764705882353, 0.4411764705882353, 0.4411764705882353, 0.4411764705882353, 0.4411764705882353, 0.4411764705882353, 0.4385026737967914, 0.4385026737967914, 0.4358288770053476, 0.43315508021390375, 0.4304812834224599, 0.42780748663101603, 0.42780748663101603, 0.42780748663101603, 0.42513368983957217, 0.42245989304812837, 0.4197860962566845, 0.4197860962566845, 0.41711229946524064, 0.41711229946524064, 0.4144385026737968, 0.4117647058823529, 0.4090909090909091, 0.4090909090909091, 0.40641711229946526, 0.40641711229946526, 0.40641711229946526, 0.4037433155080214, 0.40106951871657753, 0.40106951871657753, 0.40106951871657753, 0.3983957219251337, 0.39572192513368987, 0.393048128342246, 0.393048128342246, 0.39037433155080214, 0.39037433155080214, 0.3877005347593583, 0.3877005347593583, 0.3877005347593583, 0.3850267379679144, 0.38235294117647056, 0.37967914438502676, 0.3770053475935829, 0.37433155080213903, 0.37433155080213903, 0.37433155080213903, 0.3716577540106952, 0.3716577540106952, 0.3689839572192513, 0.3663101604278075, 0.36363636363636365, 0.3609625668449198, 0.3609625668449198, 0.3609625668449198, 0.3609625668449198, 0.3582887700534759, 0.3582887700534759, 0.35561497326203206, 0.35294117647058826, 0.3502673796791444, 0.3502673796791444, 0.3502673796791444, 0.3502673796791444, 0.3502673796791444, 0.3502673796791444, 0.3502673796791444, 0.3502673796791444, 0.34759358288770054, 0.3449197860962567, 0.3449197860962567, 0.3422459893048128, 0.339572192513369, 0.33689839572192515, 0.33689839572192515, 0.33689839572192515, 0.33689839572192515, 0.3342245989304813, 0.3342245989304813, 0.3342245989304813, 0.3342245989304813, 0.3342245989304813, 0.3315508021390374, 0.3315508021390374, 0.32887700534759357, 0.32887700534759357, 0.32887700534759357, 0.32887700534759357, 0.32620320855614976, 0.3235294117647059, 0.32085561497326204, 0.3181818181818182, 0.3155080213903743, 0.31283422459893045, 0.31283422459893045, 0.31016042780748665, 0.3074866310160428, 0.3048128342245989, 0.3048128342245989, 0.3048128342245989, 0.30213903743315507, 0.2994652406417112, 0.2994652406417112, 0.2967914438502674, 0.2967914438502674, 0.29411764705882354, 0.29411764705882354, 0.29411764705882354, 0.29411764705882354, 0.2914438502673797, 0.2887700534759358, 0.2887700534759358, 0.28609625668449196, 0.28342245989304815, 0.2807486631016043, 0.27807486631016043, 0.27807486631016043, 0.27540106951871657, 0.2727272727272727, 0.2700534759358289, 0.26737967914438504, 0.2647058823529412, 0.2647058823529412, 0.2647058823529412, 0.2620320855614973, 0.2620320855614973, 0.25935828877005346, 0.25935828877005346, 0.25668449197860965, 0.2540106951871658, 0.25133689839572193, 0.24866310160427807, 0.24598930481283424, 0.24331550802139038, 0.24064171122994651, 0.23796791443850268, 0.23529411764705882, 0.23529411764705882, 0.232620320855615, 0.22994652406417113, 0.22994652406417113, 0.22994652406417113, 0.22994652406417113, 0.22994652406417113, 0.22727272727272727, 0.22727272727272727, 0.22459893048128343, 0.22192513368983957, 0.2192513368983957, 0.2192513368983957, 0.21657754010695188, 0.21390374331550802, 0.21122994652406418, 0.21122994652406418, 0.20855614973262032, 0.20588235294117646, 0.20588235294117646, 0.20320855614973263, 0.20320855614973263, 0.20053475935828877, 0.20053475935828877, 0.19786096256684493, 0.19518716577540107, 0.19518716577540107, 0.1925133689839572, 0.18983957219251338, 0.18716577540106952, 0.18449197860962566, 0.18449197860962566, 0.18449197860962566, 0.18449197860962566, 0.18181818181818182, 0.18181818181818182, 0.17914438502673796, 0.17914438502673796, 0.17914438502673796, 0.17647058823529413, 0.17379679144385027, 0.17379679144385027, 0.1711229946524064, 0.16844919786096257, 0.1657754010695187, 0.16310160427807488, 0.16042780748663102, 0.15775401069518716, 0.15508021390374332, 0.15240641711229946, 0.15240641711229946, 0.1497326203208556, 0.1497326203208556, 0.1497326203208556, 0.14705882352941177, 0.1443850267379679, 0.1443850267379679, 0.1443850267379679, 0.1443850267379679, 0.1443850267379679, 0.14171122994652408, 0.14171122994652408, 0.13903743315508021, 0.13636363636363635, 0.13636363636363635, 0.13368983957219252, 0.13101604278074866, 0.12834224598930483, 0.12834224598930483, 0.12566844919786097, 0.12299465240641712, 0.12032085561497326, 0.11764705882352941, 0.11497326203208556, 0.11229946524064172, 0.11229946524064172, 0.11229946524064172, 0.10962566844919786, 0.10695187165775401, 0.10427807486631016, 0.10427807486631016, 0.10427807486631016, 0.10427807486631016, 0.10160427807486631, 0.10160427807486631, 0.10160427807486631, 0.09893048128342247, 0.0962566844919786, 0.0962566844919786, 0.0962566844919786, 0.09358288770053476, 0.09090909090909091, 0.09090909090909091, 0.08823529411764706, 0.0855614973262032, 0.08288770053475936, 0.08288770053475936, 0.08021390374331551, 0.07754010695187166, 0.07754010695187166, 0.0748663101604278, 0.07219251336898395, 0.06951871657754011, 0.06684491978609626, 0.06684491978609626, 0.06684491978609626, 0.06417112299465241, 0.06149732620320856, 0.058823529411764705, 0.05614973262032086, 0.05614973262032086, 0.053475935828877004, 0.05080213903743316, 0.0481283422459893, 0.045454545454545456, 0.0427807486631016, 0.040106951871657755, 0.040106951871657755, 0.040106951871657755, 0.0374331550802139, 0.0374331550802139, 0.034759358288770054, 0.034759358288770054, 0.034759358288770054, 0.03208556149732621, 0.029411764705882353, 0.029411764705882353, 0.029411764705882353, 0.026737967914438502, 0.02406417112299465, 0.0213903743315508, 0.01871657754010695, 0.016042780748663103, 0.013368983957219251, 0.0106951871657754, 0.008021390374331552, 0.008021390374331552, 0.008021390374331552, 0.008021390374331552, 0.0053475935828877, 0.00267379679144385, 0.00267379679144385, 0.00267379679144385, 0.0], \"y\": [0.27601476014760146, 0.275480059084195, 0.2756836659275684, 0.27588757396449703, 0.27609178386380456, 0.2762962962962963, 0.2765011119347665, 0.2767062314540059, 0.2769116555308092, 0.2771173848439822, 0.27732342007434946, 0.2775297619047619, 0.27773641102010427, 0.2779433681073025, 0.27815063385533184, 0.2783582089552239, 0.27856609410007466, 0.2787742899850523, 0.27898279730740466, 0.2791916167664671, 0.2794007490636704, 0.27886056971514245, 0.27906976744186046, 0.27927927927927926, 0.27948910593538695, 0.2796992481203007, 0.2799097065462754, 0.28012048192771083, 0.2803315749811605, 0.28054298642533937, 0.2807547169811321, 0.2809667673716012, 0.2811791383219955, 0.2813918305597579, 0.28160484481453446, 0.2818181818181818, 0.28203184230477635, 0.2822458270106222, 0.2824601366742597, 0.2826747720364742, 0.2828897338403042, 0.2831050228310502, 0.2833206397562833, 0.28353658536585363, 0.2837528604118993, 0.28396946564885495, 0.28418640183346067, 0.28440366972477066, 0.2846212700841622, 0.28483920367534454, 0.2850574712643678, 0.2852760736196319, 0.2854950115118956, 0.2857142857142857, 0.2859338970023059, 0.28615384615384615, 0.2863741339491917, 0.28659476117103233, 0.28681572860447185, 0.28703703703703703, 0.28725868725868725, 0.2874806800618238, 0.2877030162412993, 0.28792569659442724, 0.2881487219209915, 0.28837209302325584, 0.2885958107059736, 0.2888198757763975, 0.289044289044289, 0.2892690513219285, 0.28949416342412454, 0.28894080996884736, 0.289166017147311, 0.28939157566302653, 0.2896174863387978, 0.28984375, 0.29007036747458953, 0.2895148669796557, 0.2897415818324197, 0.28996865203761757, 0.2901960784313726, 0.2904238618524333, 0.2906520031421838, 0.2908805031446541, 0.2911093627065303, 0.2905511811023622, 0.2907801418439716, 0.2910094637223975, 0.2912391475927388, 0.2914691943127962, 0.291699604743083, 0.29193037974683544, 0.2913697545526524, 0.29160063391442154, 0.29183187946074546, 0.2920634920634921, 0.29229547259729943, 0.29252782193958665, 0.29276054097056486, 0.2929936305732484, 0.2932270916334661, 0.2934609250398724, 0.2936951316839585, 0.2939297124600639, 0.2941646682653877, 0.2944, 0.2946357085668535, 0.2948717948717949, 0.2951082598235766, 0.2953451043338684, 0.2955823293172691, 0.2958199356913183, 0.29605792437650846, 0.2962962962962963, 0.29653505237711525, 0.2967741935483871, 0.2970137207425343, 0.2972536348949919, 0.2974939369442199, 0.2977346278317152, 0.2979757085020243, 0.29821717990275526, 0.2984590429845904, 0.2987012987012987, 0.29894394800974816, 0.2991869918699187, 0.2994304312449146, 0.2996742671009772, 0.29991850040749796, 0.300163132137031, 0.29959183673469386, 0.29983660130718953, 0.3000817661488144, 0.30032733224222585, 0.30057330057330056, 0.3008196721311475, 0.3010664479081214, 0.3013136288998358, 0.30156121610517667, 0.30180921052631576, 0.30205761316872426, 0.30230642504118616, 0.302555647155812, 0.3028052805280528, 0.30305532617671344, 0.30330578512396694, 0.30355665839536805, 0.3038079470198676, 0.304059652029826, 0.3043117744610282, 0.30456431535269707, 0.30481727574750833, 0.3050706566916043, 0.305324459234609, 0.305578684429642, 0.30583333333333335, 0.3060884070058382, 0.3063439065108514, 0.3065998329156224, 0.3068561872909699, 0.30711297071129706, 0.3073701842546064, 0.3076278290025147, 0.3070469798657718, 0.30730478589420657, 0.30756302521008405, 0.30782169890664424, 0.30808080808080807, 0.3083403538331929, 0.3086003372681282, 0.30886075949367087, 0.3091216216216216, 0.30938292476754015, 0.3096446700507614, 0.3099068585944115, 0.3101694915254237, 0.3104325699745547, 0.31069609507640067, 0.3109600679694138, 0.3112244897959184, 0.31063829787234043, 0.31090289608177174, 0.3111679454390452, 0.310580204778157, 0.3108454312553373, 0.31025641025641026, 0.3105218135158255, 0.3107876712328767, 0.3110539845758355, 0.3113207547169811, 0.311587982832618, 0.3118556701030928, 0.31212381771281167, 0.3123924268502582, 0.31266149870801035, 0.3129310344827586, 0.31320103537532357, 0.3134715025906736, 0.31374243733794294, 0.3140138408304498, 0.3142857142857143, 0.3145580589254766, 0.3148308759757155, 0.3151041666666667, 0.315377932232841, 0.31565217391304345, 0.31592689295039167, 0.3162020905923345, 0.3164777680906713, 0.31675392670157065, 0.3170305676855895, 0.3173076923076923, 0.31758530183727035, 0.3178633975481611, 0.31814198071866784, 0.31842105263157894, 0.31870061457418786, 0.3189806678383128, 0.31838170624450307, 0.31866197183098594, 0.31894273127753303, 0.31922398589065254, 0.3195057369814651, 0.3197879858657244, 0.3191865605658709, 0.31946902654867254, 0.31975199291408324, 0.3200354609929078, 0.3203194321206744, 0.3206039076376554, 0.3208888888888889, 0.3211743772241993, 0.3205699020480855, 0.32085561497326204, 0.32114183764495985, 0.32142857142857145, 0.32082216264521896, 0.3211091234347048, 0.3213965980304387, 0.3216845878136201, 0.3219730941704036, 0.322262118491921, 0.3225516621743037, 0.322841726618705, 0.32313231323132313, 0.32342342342342345, 0.3237150586113616, 0.3240072202166065, 0.32429990966576333, 0.32459312839059673, 0.3248868778280543, 0.32518115942028986, 0.3254759746146872, 0.3257713248638838, 0.3260672116257947, 0.32636363636363636, 0.32666060054595086, 0.32695810564663025, 0.3272561531449407, 0.32755474452554745, 0.3278538812785388, 0.3281535648994516, 0.3284537968892955, 0.32875457875457875, 0.3290559120073327, 0.3293577981651376, 0.32966023875114786, 0.32996323529411764, 0.32934682612695493, 0.3296500920810313, 0.32995391705069127, 0.33025830258302585, 0.33056325023084027, 0.33086876155268025, 0.33117483811285847, 0.3314814814814815, 0.33178869323447635, 0.3320964749536178, 0.33240482822655526, 0.33178438661710036, 0.33209302325581397, 0.3324022346368715, 0.33271202236719477, 0.33302238805970147, 0.33239962651727356, 0.33271028037383177, 0.333021515434986, 0.3333333333333333, 0.33270852858481725, 0.3330206378986867, 0.3333333333333333, 0.33364661654135336, 0.3339604891815616, 0.3342749529190207, 0.33459000942507067, 0.33490566037735847, 0.3352219074598678, 0.33553875236294894, 0.3358561967833491, 0.3352272727272727, 0.3355450236966825, 0.33586337760910817, 0.33618233618233617, 0.3365019011406844, 0.3368220742150333, 0.33714285714285713, 0.3374642516682555, 0.3377862595419847, 0.33810888252148996, 0.3384321223709369, 0.33875598086124403, 0.3390804597701149, 0.33940556088207097, 0.3397312859884837, 0.3400576368876081, 0.3403846153846154, 0.34071222329162654, 0.34104046242774566, 0.3413693346190935, 0.3416988416988417, 0.34106280193236715, 0.3413926499032882, 0.34172313649564373, 0.34108527131782945, 0.3414161008729389, 0.341747572815534, 0.34207968901846453, 0.3424124513618677, 0.3427458617332035, 0.34307992202729043, 0.3434146341463415, 0.34375, 0.34408602150537637, 0.34442270058708413, 0.34476003917727716, 0.34509803921568627, 0.34543670264965654, 0.34577603143418467, 0.34611602753195675, 0.3454724409448819, 0.3448275862068966, 0.34516765285996054, 0.3455083909180652, 0.3458498023715415, 0.34619188921859545, 0.3465346534653465, 0.3468780971258672, 0.3472222222222222, 0.34756703078450846, 0.34791252485089463, 0.3482587064676617, 0.34860557768924305, 0.3489531405782652, 0.34930139720558884, 0.34965034965034963, 0.35, 0.35035035035035034, 0.35070140280561124, 0.3510531594784353, 0.3514056224899598, 0.35175879396984927, 0.352112676056338, 0.35246727089627394, 0.3528225806451613, 0.35317860746720486, 0.35353535353535354, 0.3538928210313448, 0.354251012145749, 0.3546099290780142, 0.35496957403651114, 0.35431472081218274, 0.3546747967479675, 0.3550356052899288, 0.35539714867617106, 0.35575942915392456, 0.35612244897959183, 0.3564862104187947, 0.35685071574642124, 0.3572159672466735, 0.35655737704918034, 0.3569230769230769, 0.35728952772073924, 0.3566289825282631, 0.35699588477366256, 0.3573635427394439, 0.3577319587628866, 0.35810113519091846, 0.3584710743801653, 0.358841778697001, 0.35921325051759834, 0.35958549222797925, 0.3599585062240664, 0.3603322949117342, 0.3607068607068607, 0.3610822060353798, 0.3614583333333333, 0.3618352450469239, 0.36221294363256784, 0.3625914315569488, 0.36297071129707115, 0.362303664921466, 0.36163522012578614, 0.3620146904512067, 0.36239495798319327, 0.3627760252365931, 0.3631578947368421, 0.3635405690200211, 0.3639240506329114, 0.36430834213305174, 0.36469344608879495, 0.36507936507936506, 0.3654661016949153, 0.36585365853658536, 0.3662420382165605, 0.36663124335812963, 0.3670212765957447, 0.36741214057507987, 0.3678038379530917, 0.368196371398079, 0.3685897435897436, 0.3689839572192513, 0.3693790149892934, 0.36977491961414793, 0.3701716738197425, 0.37056928034371645, 0.3709677419354839, 0.3713670613562971, 0.37176724137931033, 0.37216828478964403, 0.3714902807775378, 0.37189189189189187, 0.3722943722943723, 0.37269772481040087, 0.37310195227765725, 0.3735070575461455, 0.3739130434782609, 0.37431991294885747, 0.3747276688453159, 0.3751363140676118, 0.37554585152838427, 0.37595628415300547, 0.37527352297593, 0.37568455640744797, 0.37609649122807015, 0.3754116355653128, 0.3758241758241758, 0.37623762376237624, 0.3766519823788546, 0.3770672546857773, 0.37748344370860926, 0.37790055248618787, 0.37831858407079644, 0.3787375415282392, 0.37915742793791574, 0.3795782463928968, 0.38, 0.3804226918798665, 0.38084632516703787, 0.38127090301003347, 0.38169642857142855, 0.38212290502793295, 0.3825503355704698, 0.3829787234042553, 0.3834080717488789, 0.3838383838383838, 0.3842696629213483, 0.3847019122609674, 0.38513513513513514, 0.3855693348365276, 0.3860045146726862, 0.3864406779661017, 0.38687782805429866, 0.38618346545866367, 0.3866213151927438, 0.3870601589103292, 0.3875, 0.38680318543799774, 0.38724373576309795, 0.38768529076396807, 0.3881278538812785, 0.38857142857142857, 0.3890160183066362, 0.38946162657502864, 0.38990825688073394, 0.39035591274397247, 0.39080459770114945, 0.3912543153049482, 0.391705069124424, 0.39215686274509803, 0.39260969976905313, 0.3930635838150289, 0.39351851851851855, 0.3939745075318656, 0.39443155452436196, 0.3948896631823461, 0.3953488372093023, 0.3958090803259604, 0.3962703962703963, 0.396732788798133, 0.397196261682243, 0.39766081871345027, 0.3981264637002342, 0.39859320046893315, 0.397887323943662, 0.3983548766157462, 0.3988235294117647, 0.3992932862190813, 0.39858490566037735, 0.3990554899645809, 0.39952718676122934, 0.3988165680473373, 0.3981042654028436, 0.398576512455516, 0.3990498812351544, 0.3995243757431629, 0.4, 0.40047675804529204, 0.4009546539379475, 0.4014336917562724, 0.4007177033492823, 0.40119760479041916, 0.40047961630695444, 0.4009603841536615, 0.4014423076923077, 0.4007220216606498, 0.40120481927710844, 0.4016887816646562, 0.40217391304347827, 0.4026602176541717, 0.40314769975786924, 0.4036363636363636, 0.404126213592233, 0.4046172539489672, 0.40389294403892945, 0.4043848964677223, 0.40487804878048783, 0.4053724053724054, 0.4058679706601467, 0.40636474908200737, 0.4068627450980392, 0.40736196319018403, 0.40786240786240785, 0.40836408364083643, 0.40763546798029554, 0.4081381011097411, 0.408641975308642, 0.4079110012360939, 0.4084158415841584, 0.4076827757125155, 0.40818858560794047, 0.40869565217391307, 0.4092039800995025, 0.40846824408468246, 0.4089775561097257, 0.4094881398252185, 0.41, 0.41051314142678347, 0.41102756892230574, 0.410288582183187, 0.4108040201005025, 0.41132075471698115, 0.41183879093198994, 0.4123581336696091, 0.4128787878787879, 0.4134007585335019, 0.4139240506329114, 0.4144486692015209, 0.4149746192893401, 0.4142312579415502, 0.41475826972010177, 0.4152866242038217, 0.41581632653061223, 0.41507024265644954, 0.4156010230179028, 0.4148527528809219, 0.4153846153846154, 0.4146341463414634, 0.41516709511568123, 0.4157014157014157, 0.4162371134020619, 0.4167741935483871, 0.417312661498708, 0.4165588615782665, 0.4170984455958549, 0.4163424124513619, 0.41688311688311686, 0.4174252275682705, 0.41796875, 0.41851368970013036, 0.41906005221932113, 0.4196078431372549, 0.4201570680628272, 0.41939711664482304, 0.4199475065616798, 0.4204993429697766, 0.42105263157894735, 0.42160737812911725, 0.420844327176781, 0.42140026420079263, 0.421957671957672, 0.42251655629139073, 0.4217506631299735, 0.42231075697211157, 0.4228723404255319, 0.4234354194407457, 0.424, 0.42456608811748997, 0.42513368983957217, 0.4243641231593039, 0.4249329758713137, 0.425503355704698, 0.4260752688172043, 0.4266487213997308, 0.4272237196765499, 0.42780026990553305, 0.4283783783783784, 0.428958051420839, 0.4281842818428184, 0.42740841248303935, 0.4279891304347826, 0.42857142857142855, 0.42915531335149865, 0.4297407912687585, 0.430327868852459, 0.42954856361149113, 0.4301369863013699, 0.43072702331961593, 0.43131868131868134, 0.43191196698762035, 0.43112947658402206, 0.4317241379310345, 0.430939226519337, 0.4315352697095436, 0.4307479224376731, 0.43134535367545074, 0.43194444444444446, 0.43115438108484005, 0.43036211699164345, 0.4309623430962343, 0.43156424581005587, 0.43216783216783217, 0.43137254901960786, 0.4319775596072931, 0.43258426966292135, 0.43319268635724334, 0.43380281690140843, 0.43441466854724964, 0.4350282485875706, 0.43564356435643564, 0.43626062322946174, 0.43546099290780144, 0.43607954545454547, 0.4352773826458037, 0.4358974358974359, 0.43651925820256776, 0.43714285714285717, 0.4363376251788269, 0.4369627507163324, 0.4375896700143472, 0.4382183908045977, 0.43884892086330934, 0.43804034582132567, 0.43867243867243866, 0.4393063583815029, 0.4399421128798842, 0.4405797101449275, 0.4412191582002903, 0.4418604651162791, 0.44250363901018924, 0.44314868804664725, 0.44233576642335765, 0.44298245614035087, 0.44216691068814057, 0.44281524926686217, 0.4434654919236417, 0.4441176470588235, 0.44477172312223856, 0.44542772861356933, 0.4446085672082718, 0.4452662721893491, 0.44592592592592595, 0.4465875370919881, 0.4472511144130758, 0.44642857142857145, 0.4456035767511177, 0.44477611940298506, 0.4439461883408072, 0.44461077844311375, 0.4452773613193403, 0.4444444444444444, 0.44511278195488724, 0.4457831325301205, 0.4464555052790347, 0.4471299093655589, 0.44780635400907715, 0.44696969696969696, 0.44764795144157815, 0.44832826747720367, 0.4490106544901065, 0.4496951219512195, 0.45038167938931295, 0.4510703363914373, 0.45176110260336905, 0.45245398773006135, 0.45314900153609833, 0.45384615384615384, 0.45454545454545453, 0.45524691358024694, 0.4559505409582689, 0.456656346749226, 0.4573643410852713, 0.4580745341614907, 0.45878693623639194, 0.45950155763239875, 0.46021840873634945, 0.4609375, 0.460093896713615, 0.4608150470219436, 0.4599686028257457, 0.4606918238993711, 0.46141732283464565, 0.46214511041009465, 0.46129541864139023, 0.46044303797468356, 0.4611727416798732, 0.4603174603174603, 0.4610492845786963, 0.4601910828025478, 0.4609250398724083, 0.46166134185303515, 0.4624, 0.46153846153846156, 0.4606741573033708, 0.46141479099678456, 0.4605475040257649, 0.4612903225806452, 0.4604200323101777, 0.46116504854368934, 0.46029173419773095, 0.4594155844155844, 0.46016260162601624, 0.4609120521172638, 0.46166394779771613, 0.4624183006535948, 0.46317512274959083, 0.4639344262295082, 0.46469622331691296, 0.4654605263157895, 0.46622734761120266, 0.466996699669967, 0.4677685950413223, 0.46688741721854304, 0.4660033167495854, 0.46511627906976744, 0.46589018302828616, 0.4666666666666667, 0.4674457429048414, 0.4682274247491639, 0.46901172529313234, 0.4697986577181208, 0.47058823529411764, 0.4713804713804714, 0.47217537942664417, 0.47297297297297297, 0.4720812182741117, 0.4711864406779661, 0.47198641765704585, 0.47278911564625853, 0.4735945485519591, 0.47440273037542663, 0.4752136752136752, 0.476027397260274, 0.47684391080617494, 0.47594501718213056, 0.47676419965576594, 0.47758620689655173, 0.47668393782383417, 0.4757785467128028, 0.47660311958405543, 0.4756944444444444, 0.4765217391304348, 0.47735191637630664, 0.4781849912739965, 0.479020979020979, 0.47810858143607704, 0.4789473684210526, 0.4797891036906854, 0.48063380281690143, 0.48148148148148145, 0.4823321554770318, 0.4814159292035398, 0.48226950354609927, 0.48312611012433393, 0.48398576512455516, 0.483065953654189, 0.48392857142857143, 0.4847942754919499, 0.48566308243727596, 0.48473967684021546, 0.4856115107913669, 0.4864864864864865, 0.4855595667870036, 0.4864376130198915, 0.48731884057971014, 0.4882032667876588, 0.4890909090909091, 0.4899817850637523, 0.48905109489051096, 0.489945155393053, 0.489010989010989, 0.48990825688073397, 0.49080882352941174, 0.49171270718232046, 0.492619926199262, 0.49353049907578556, 0.4925925925925926, 0.4935064935064935, 0.4944237918215613, 0.49534450651769085, 0.4944029850746269, 0.4953271028037383, 0.4943820224719101, 0.49530956848030017, 0.4943609022556391, 0.4934086629001883, 0.49433962264150944, 0.4952741020793951, 0.4943181818181818, 0.4952561669829222, 0.49429657794676807, 0.49333333333333335, 0.49427480916030536, 0.49521988527724664, 0.49616858237547895, 0.4971209213051823, 0.4980769230769231, 0.49710982658959535, 0.4980694980694981, 0.4990328820116054, 0.49806201550387597, 0.49902912621359224, 0.4980544747081712, 0.49707602339181284, 0.49609375, 0.49706457925636005, 0.4980392156862745, 0.49901768172888017, 0.49803149606299213, 0.4990138067061144, 0.5, 0.500990099009901, 0.501984126984127, 0.5029821073558648, 0.5039840637450199, 0.5049900199600799, 0.506, 0.5070140280561122, 0.5080321285140562, 0.5090543259557344, 0.5100806451612904, 0.5111111111111111, 0.5121457489878543, 0.5111561866125761, 0.5121951219512195, 0.5132382892057027, 0.5142857142857142, 0.5153374233128835, 0.5163934426229508, 0.5174537987679672, 0.5185185185185185, 0.5175257731958763, 0.518595041322314, 0.5196687370600414, 0.520746887966805, 0.5218295218295218, 0.5229166666666667, 0.5219206680584552, 0.5230125523012552, 0.5220125786163522, 0.523109243697479, 0.5242105263157895, 0.5276595744680851, 0.5287846481876333, 0.5299145299145299, 0.5289079229122056, 0.5300429184549357, 0.5311827956989247, 0.5323275862068966, 0.5334773218142549, 0.5346320346320347, 0.5357917570498916, 0.5347826086956522, 0.5337690631808278, 0.5327510917030568, 0.5339168490153173, 0.5328947368421053, 0.5340659340659341, 0.5352422907488987, 0.5364238410596026, 0.5376106194690266, 0.5388026607538803, 0.54, 0.5389755011135857, 0.5379464285714286, 0.5369127516778524, 0.5358744394618834, 0.5348314606741573, 0.5337837837837838, 0.5327313769751693, 0.5316742081447964, 0.5306122448979592, 0.5318181818181819, 0.5330296127562643, 0.5342465753424658, 0.5354691075514875, 0.5344036697247706, 0.535632183908046, 0.5368663594470046, 0.535796766743649, 0.5370370370370371, 0.5382830626450116, 0.5395348837209303, 0.5407925407925408, 0.5420560747663551, 0.5433255269320844, 0.5446009389671361, 0.5435294117647059, 0.5424528301886793, 0.541371158392435, 0.5402843601895735, 0.5391923990498813, 0.5404761904761904, 0.5393794749403341, 0.5382775119617225, 0.5371702637889688, 0.5360576923076923, 0.5373493975903615, 0.538647342995169, 0.5399515738498789, 0.5388349514563107, 0.5401459854014599, 0.5414634146341464, 0.5427872860635696, 0.5416666666666666, 0.542997542997543, 0.541871921182266, 0.5407407407407407, 0.5396039603960396, 0.5384615384615384, 0.5373134328358209, 0.5361596009975063, 0.535, 0.5363408521303258, 0.535175879396985, 0.5340050377833753, 0.5353535353535354, 0.5341772151898734, 0.5355329949238579, 0.5343511450381679, 0.5357142857142857, 0.5370843989769821, 0.5384615384615384, 0.5372750642673522, 0.538659793814433, 0.537467700258398, 0.538860103626943, 0.5402597402597402, 0.5390625, 0.5404699738903395, 0.5418848167539267, 0.5433070866141733, 0.5421052631578948, 0.5408970976253298, 0.5423280423280423, 0.5437665782493368, 0.5452127659574468, 0.5466666666666666, 0.5481283422459893, 0.5495978552278821, 0.5483870967741935, 0.5498652291105122, 0.5486486486486486, 0.5501355013550135, 0.5516304347826086, 0.553133514986376, 0.5546448087431693, 0.5561643835616439, 0.5576923076923077, 0.559228650137741, 0.5580110497237569, 0.556786703601108, 0.5583333333333333, 0.5598885793871866, 0.5614525139664804, 0.5602240896358543, 0.5589887640449438, 0.5577464788732395, 0.559322033898305, 0.5609065155807366, 0.5596590909090909, 0.5612535612535613, 0.5628571428571428, 0.5644699140401146, 0.5632183908045977, 0.5648414985590778, 0.5664739884393064, 0.5681159420289855, 0.5668604651162791, 0.565597667638484, 0.5672514619883041, 0.5659824046920822, 0.5676470588235294, 0.5663716814159292, 0.5650887573964497, 0.5667655786350149, 0.5654761904761905, 0.5671641791044776, 0.5688622754491018, 0.5705705705705706, 0.5692771084337349, 0.5709969788519638, 0.5696969696969697, 0.5714285714285714, 0.573170731707317, 0.5718654434250765, 0.5705521472392638, 0.5692307692307692, 0.5709876543209876, 0.5727554179566563, 0.5714285714285714, 0.5700934579439252, 0.571875, 0.5705329153605015, 0.5723270440251572, 0.5709779179810726, 0.5727848101265823, 0.5714285714285714, 0.5732484076433121, 0.5750798722044729, 0.5737179487179487, 0.5755627009646302, 0.5774193548387097, 0.5792880258899676, 0.5811688311688312, 0.5830618892508144, 0.5849673202614379, 0.5836065573770491, 0.5855263157894737, 0.5841584158415841, 0.5827814569536424, 0.584717607973422, 0.5833333333333334, 0.5819397993311036, 0.5838926174496645, 0.5824915824915825, 0.5844594594594594, 0.5864406779661017, 0.5850340136054422, 0.5870307167235495, 0.589041095890411, 0.5876288659793815, 0.5896551724137931, 0.5916955017301038, 0.59375, 0.5923344947735192, 0.5944055944055944, 0.5929824561403508, 0.5915492957746479, 0.5901060070671378, 0.5886524822695035, 0.5907473309608541, 0.5892857142857143, 0.5913978494623656, 0.5935251798561151, 0.5956678700361011, 0.5978260869565217, 0.6, 0.5985401459854015, 0.6007326007326007, 0.5992647058823529, 0.5977859778597786, 0.5962962962962963, 0.5947955390334573, 0.5970149253731343, 0.599250936329588, 0.5977443609022557, 0.5962264150943396, 0.5946969696969697, 0.596958174904943, 0.5954198473282443, 0.5977011494252874, 0.5961538461538461, 0.5945945945945946, 0.5930232558139535, 0.5953307392996109, 0.59375, 0.596078431372549, 0.5984251968503937, 0.5968379446640316, 0.5952380952380952, 0.5976095617529881, 0.6, 0.5983935742971888, 0.5967741935483871, 0.5951417004048583, 0.5975609756097561, 0.5959183673469388, 0.5983606557377049, 0.5967078189300411, 0.5991735537190083, 0.6016597510373444, 0.6, 0.5983263598326359, 0.5966386554621849, 0.5949367088607594, 0.5932203389830508, 0.5957446808510638, 0.5982905982905983, 0.5965665236051502, 0.5991379310344828, 0.5974025974025974, 0.5956521739130435, 0.5938864628820961, 0.5921052631578947, 0.5947136563876652, 0.5973451327433629, 0.6, 0.5982142857142857, 0.600896860986547, 0.5990990990990991, 0.5972850678733032, 0.5954545454545455, 0.5981735159817352, 0.6009174311926605, 0.6036866359447005, 0.6064814814814815, 0.6093023255813953, 0.6121495327102804, 0.6150234741784038, 0.6132075471698113, 0.6113744075829384, 0.6142857142857143, 0.6124401913875598, 0.6105769230769231, 0.6086956521739131, 0.6116504854368932, 0.6146341463414634, 0.6176470588235294, 0.6157635467980296, 0.6188118811881188, 0.6218905472636815, 0.625, 0.628140703517588, 0.6262626262626263, 0.6294416243654822, 0.6275510204081632, 0.6307692307692307, 0.634020618556701, 0.6373056994818653, 0.6354166666666666, 0.6335078534031413, 0.631578947368421, 0.6296296296296297, 0.6276595744680851, 0.6256684491978609, 0.6290322580645161, 0.6270270270270271, 0.625, 0.6229508196721312, 0.6263736263736264, 0.6298342541436464, 0.6277777777777778, 0.6256983240223464, 0.6292134831460674, 0.6271186440677966, 0.6306818181818182, 0.6285714285714286, 0.632183908045977, 0.6358381502890174, 0.6395348837209303, 0.6374269005847953, 0.6352941176470588, 0.6390532544378699, 0.6369047619047619, 0.6347305389221557, 0.6325301204819277, 0.6303030303030303, 0.6341463414634146, 0.6319018404907976, 0.6296296296296297, 0.6273291925465838, 0.625, 0.6226415094339622, 0.6265822784810127, 0.6305732484076433, 0.6282051282051282, 0.632258064516129, 0.6298701298701299, 0.6339869281045751, 0.631578947368421, 0.6291390728476821, 0.6266666666666667, 0.6241610738255033, 0.6216216216216216, 0.6190476190476191, 0.6164383561643836, 0.6137931034482759, 0.6111111111111112, 0.6153846153846154, 0.6126760563380281, 0.6099290780141844, 0.6142857142857143, 0.6187050359712231, 0.6231884057971014, 0.6277372262773723, 0.625, 0.6296296296296297, 0.6268656716417911, 0.6240601503759399, 0.6212121212121212, 0.6259541984732825, 0.6230769230769231, 0.6201550387596899, 0.6171875, 0.6220472440944882, 0.6190476190476191, 0.616, 0.6209677419354839, 0.6178861788617886, 0.6229508196721312, 0.6198347107438017, 0.625, 0.6218487394957983, 0.6186440677966102, 0.6239316239316239, 0.6206896551724138, 0.6173913043478261, 0.6140350877192983, 0.6106194690265486, 0.6160714285714286, 0.6216216216216216, 0.6272727272727273, 0.6238532110091743, 0.6296296296296297, 0.6261682242990654, 0.6320754716981132, 0.638095238095238, 0.6346153846153846, 0.6310679611650486, 0.6372549019607843, 0.6336633663366337, 0.63, 0.6262626262626263, 0.6224489795918368, 0.6185567010309279, 0.6145833333333334, 0.6105263157894737, 0.6063829787234043, 0.6129032258064516, 0.6086956521739131, 0.6153846153846154, 0.6222222222222222, 0.6179775280898876, 0.6136363636363636, 0.6206896551724138, 0.627906976744186, 0.6352941176470588, 0.6428571428571429, 0.6385542168674698, 0.6463414634146342, 0.6419753086419753, 0.6375, 0.6455696202531646, 0.6410256410256411, 0.6363636363636364, 0.631578947368421, 0.64, 0.6351351351351351, 0.6301369863013698, 0.625, 0.6197183098591549, 0.6142857142857143, 0.6086956521739131, 0.6176470588235294, 0.6268656716417911, 0.6212121212121212, 0.6153846153846154, 0.609375, 0.6190476190476191, 0.6290322580645161, 0.639344262295082, 0.6333333333333333, 0.6440677966101694, 0.6551724137931034, 0.6491228070175439, 0.6428571428571429, 0.6545454545454545, 0.6666666666666666, 0.660377358490566, 0.6538461538461539, 0.6666666666666666, 0.66, 0.6530612244897959, 0.6458333333333334, 0.6595744680851063, 0.6521739130434783, 0.6444444444444445, 0.6590909090909091, 0.6511627906976745, 0.6428571428571429, 0.6341463414634146, 0.625, 0.6410256410256411, 0.6578947368421053, 0.6486486486486487, 0.6388888888888888, 0.6285714285714286, 0.6176470588235294, 0.6363636363636364, 0.625, 0.6129032258064516, 0.6, 0.5862068965517241, 0.5714285714285714, 0.5555555555555556, 0.5769230769230769, 0.6, 0.5833333333333334, 0.6086956521739131, 0.5909090909090909, 0.6190476190476191, 0.65, 0.631578947368421, 0.6111111111111112, 0.6470588235294118, 0.6875, 0.6666666666666666, 0.6428571428571429, 0.6153846153846154, 0.5833333333333334, 0.5454545454545454, 0.5, 0.4444444444444444, 0.375, 0.42857142857142855, 0.5, 0.6, 0.5, 0.3333333333333333, 0.5, 1.0, 1.0]}, {\"mode\": \"lines\", \"name\": \"RF\", \"type\": \"scatter\", \"x\": [1.0, 0.9973262032085561, 0.9973262032085561, 0.9946524064171123, 0.9946524064171123, 0.9946524064171123, 0.9946524064171123, 0.9919786096256684, 0.9893048128342246, 0.9866310160427807, 0.983957219251337, 0.9812834224598931, 0.9812834224598931, 0.9812834224598931, 0.9812834224598931, 0.9812834224598931, 0.9786096256684492, 0.9786096256684492, 0.9786096256684492, 0.9786096256684492, 0.9786096256684492, 0.9786096256684492, 0.9759358288770054, 0.9732620320855615, 0.9732620320855615, 0.9732620320855615, 0.9625668449197861, 0.9625668449197861, 0.9625668449197861, 0.9625668449197861, 0.9625668449197861, 0.9625668449197861, 0.9625668449197861, 0.9572192513368984, 0.9545454545454546, 0.9545454545454546, 0.9545454545454546, 0.9518716577540107, 0.9491978609625669, 0.9491978609625669, 0.9491978609625669, 0.9491978609625669, 0.9491978609625669, 0.946524064171123, 0.9411764705882353, 0.9411764705882353, 0.9411764705882353, 0.9411764705882353, 0.9385026737967914, 0.9385026737967914, 0.93048128342246, 0.93048128342246, 0.93048128342246, 0.93048128342246, 0.93048128342246, 0.9251336898395722, 0.9251336898395722, 0.9251336898395722, 0.9224598930481284, 0.9224598930481284, 0.9224598930481284, 0.9171122994652406, 0.9171122994652406, 0.9171122994652406, 0.9171122994652406, 0.9171122994652406, 0.9144385026737968, 0.9144385026737968, 0.9117647058823529, 0.9117647058823529, 0.9117647058823529, 0.9117647058823529, 0.9117647058823529, 0.9117647058823529, 0.9117647058823529, 0.9117647058823529, 0.9090909090909091, 0.9064171122994652, 0.9064171122994652, 0.9037433155080213, 0.9010695187165776, 0.8983957219251337, 0.8957219251336899, 0.893048128342246, 0.8903743315508021, 0.8903743315508021, 0.8903743315508021, 0.8877005347593583, 0.8877005347593583, 0.8877005347593583, 0.8877005347593583, 0.8877005347593583, 0.8877005347593583, 0.8877005347593583, 0.8850267379679144, 0.8823529411764706, 0.8796791443850267, 0.8770053475935828, 0.8743315508021391, 0.8716577540106952, 0.8716577540106952, 0.8689839572192514, 0.8663101604278075, 0.8663101604278075, 0.8663101604278075, 0.8663101604278075, 0.8582887700534759, 0.8582887700534759, 0.8582887700534759, 0.8582887700534759, 0.8582887700534759, 0.8529411764705882, 0.8529411764705882, 0.8502673796791443, 0.8475935828877005, 0.8449197860962567, 0.8422459893048129, 0.8368983957219251, 0.8342245989304813, 0.8342245989304813, 0.8342245989304813, 0.8342245989304813, 0.8315508021390374, 0.8315508021390374, 0.8288770053475936, 0.8288770053475936, 0.820855614973262, 0.820855614973262, 0.820855614973262, 0.820855614973262, 0.8181818181818182, 0.8101604278074866, 0.8074866310160428, 0.8074866310160428, 0.8074866310160428, 0.8074866310160428, 0.8048128342245989, 0.8048128342245989, 0.8048128342245989, 0.8021390374331551, 0.7994652406417112, 0.7941176470588235, 0.7914438502673797, 0.7914438502673797, 0.7887700534759359, 0.7834224598930482, 0.7834224598930482, 0.7780748663101604, 0.7780748663101604, 0.7780748663101604, 0.7754010695187166, 0.7754010695187166, 0.7727272727272727, 0.7727272727272727, 0.7727272727272727, 0.767379679144385, 0.767379679144385, 0.767379679144385, 0.767379679144385, 0.767379679144385, 0.7620320855614974, 0.7620320855614974, 0.7620320855614974, 0.7620320855614974, 0.7593582887700535, 0.7566844919786097, 0.7540106951871658, 0.7513368983957219, 0.7459893048128342, 0.7459893048128342, 0.7459893048128342, 0.7433155080213903, 0.7433155080213903, 0.7433155080213903, 0.7433155080213903, 0.7406417112299465, 0.7379679144385026, 0.7379679144385026, 0.7379679144385026, 0.7379679144385026, 0.7379679144385026, 0.7352941176470589, 0.732620320855615, 0.732620320855615, 0.732620320855615, 0.7299465240641712, 0.7299465240641712, 0.7299465240641712, 0.7299465240641712, 0.7299465240641712, 0.7299465240641712, 0.7299465240641712, 0.7245989304812834, 0.7245989304812834, 0.7245989304812834, 0.7245989304812834, 0.7245989304812834, 0.7245989304812834, 0.7219251336898396, 0.7219251336898396, 0.7192513368983957, 0.7192513368983957, 0.7112299465240641, 0.7085561497326203, 0.7085561497326203, 0.7058823529411765, 0.7005347593582888, 0.7005347593582888, 0.7005347593582888, 0.7005347593582888, 0.7005347593582888, 0.7005347593582888, 0.7005347593582888, 0.7005347593582888, 0.7005347593582888, 0.6978609625668449, 0.6978609625668449, 0.6951871657754011, 0.6951871657754011, 0.6898395721925134, 0.6871657754010695, 0.6871657754010695, 0.6871657754010695, 0.6871657754010695, 0.6871657754010695, 0.6871657754010695, 0.6844919786096256, 0.6844919786096256, 0.6844919786096256, 0.6818181818181818, 0.6764705882352942, 0.6737967914438503, 0.6737967914438503, 0.6737967914438503, 0.6737967914438503, 0.6711229946524064, 0.6684491978609626, 0.6657754010695187, 0.6631016042780749, 0.660427807486631, 0.660427807486631, 0.6577540106951871, 0.6550802139037433, 0.6524064171122995, 0.6524064171122995, 0.6497326203208557, 0.6470588235294118, 0.6470588235294118, 0.6470588235294118, 0.6443850267379679, 0.6443850267379679, 0.6417112299465241, 0.6310160427807486, 0.6310160427807486, 0.6283422459893048, 0.6229946524064172, 0.6203208556149733, 0.6203208556149733, 0.6203208556149733, 0.6176470588235294, 0.6122994652406417, 0.6096256684491979, 0.606951871657754, 0.606951871657754, 0.606951871657754, 0.606951871657754, 0.6042780748663101, 0.6042780748663101, 0.6016042780748663, 0.6016042780748663, 0.6016042780748663, 0.6016042780748663, 0.5989304812834224, 0.5989304812834224, 0.5962566844919787, 0.5935828877005348, 0.5909090909090909, 0.5909090909090909, 0.5909090909090909, 0.5882352941176471, 0.5882352941176471, 0.5882352941176471, 0.5882352941176471, 0.5882352941176471, 0.5855614973262032, 0.5855614973262032, 0.5828877005347594, 0.5828877005347594, 0.5828877005347594, 0.5828877005347594, 0.5802139037433155, 0.5775401069518716, 0.5775401069518716, 0.5748663101604278, 0.5721925133689839, 0.56951871657754, 0.5668449197860963, 0.5641711229946524, 0.5614973262032086, 0.5614973262032086, 0.5614973262032086, 0.5588235294117647, 0.5561497326203209, 0.5561497326203209, 0.553475935828877, 0.5508021390374331, 0.5508021390374331, 0.5454545454545454, 0.5454545454545454, 0.5454545454545454, 0.5427807486631016, 0.5427807486631016, 0.5427807486631016, 0.5401069518716578, 0.5374331550802139, 0.5347593582887701, 0.5347593582887701, 0.5347593582887701, 0.5320855614973262, 0.5294117647058824, 0.5267379679144385, 0.5267379679144385, 0.5240641711229946, 0.5133689839572193, 0.5106951871657754, 0.5106951871657754, 0.5106951871657754, 0.5106951871657754, 0.5080213903743316, 0.5053475935828877, 0.5053475935828877, 0.5053475935828877, 0.5026737967914439, 0.5, 0.49732620320855614, 0.49732620320855614, 0.49732620320855614, 0.49732620320855614, 0.4946524064171123, 0.4946524064171123, 0.4946524064171123, 0.4946524064171123, 0.4946524064171123, 0.4919786096256685, 0.4893048128342246, 0.4893048128342246, 0.4893048128342246, 0.4893048128342246, 0.4839572192513369, 0.48128342245989303, 0.4786096256684492, 0.47593582887700536, 0.4732620320855615, 0.4732620320855615, 0.47058823529411764, 0.4679144385026738, 0.46524064171123, 0.46524064171123, 0.4625668449197861, 0.4572192513368984, 0.45454545454545453, 0.45187165775401067, 0.45187165775401067, 0.44919786096256686, 0.44919786096256686, 0.446524064171123, 0.446524064171123, 0.44385026737967914, 0.4411764705882353, 0.4385026737967914, 0.4358288770053476, 0.43315508021390375, 0.43315508021390375, 0.43315508021390375, 0.4304812834224599, 0.42780748663101603, 0.42513368983957217, 0.42513368983957217, 0.42245989304812837, 0.42245989304812837, 0.4197860962566845, 0.4197860962566845, 0.4197860962566845, 0.4144385026737968, 0.4144385026737968, 0.4144385026737968, 0.4144385026737968, 0.4117647058823529, 0.4117647058823529, 0.40641711229946526, 0.4037433155080214, 0.40106951871657753, 0.3983957219251337, 0.3983957219251337, 0.3983957219251337, 0.3983957219251337, 0.39572192513368987, 0.39037433155080214, 0.39037433155080214, 0.3877005347593583, 0.3850267379679144, 0.3850267379679144, 0.3850267379679144, 0.3850267379679144, 0.3850267379679144, 0.3850267379679144, 0.3850267379679144, 0.38235294117647056, 0.37967914438502676, 0.3770053475935829, 0.3770053475935829, 0.37433155080213903, 0.37433155080213903, 0.3716577540106952, 0.3689839572192513, 0.3689839572192513, 0.3663101604278075, 0.3663101604278075, 0.3663101604278075, 0.36363636363636365, 0.36363636363636365, 0.3609625668449198, 0.3609625668449198, 0.3582887700534759, 0.35561497326203206, 0.35561497326203206, 0.35561497326203206, 0.35561497326203206, 0.35294117647058826, 0.3502673796791444, 0.3502673796791444, 0.3502673796791444, 0.34759358288770054, 0.3449197860962567, 0.3422459893048128, 0.339572192513369, 0.33689839572192515, 0.33689839572192515, 0.33689839572192515, 0.3342245989304813, 0.3315508021390374, 0.3315508021390374, 0.32887700534759357, 0.32620320855614976, 0.32620320855614976, 0.32620320855614976, 0.32620320855614976, 0.32620320855614976, 0.3235294117647059, 0.3235294117647059, 0.32085561497326204, 0.3181818181818182, 0.3155080213903743, 0.3074866310160428, 0.3074866310160428, 0.3074866310160428, 0.3048128342245989, 0.3048128342245989, 0.30213903743315507, 0.30213903743315507, 0.2994652406417112, 0.2967914438502674, 0.29411764705882354, 0.2914438502673797, 0.2914438502673797, 0.2887700534759358, 0.28609625668449196, 0.28342245989304815, 0.28342245989304815, 0.2807486631016043, 0.27807486631016043, 0.27540106951871657, 0.2727272727272727, 0.2700534759358289, 0.26737967914438504, 0.2647058823529412, 0.2647058823529412, 0.2620320855614973, 0.25935828877005346, 0.25935828877005346, 0.25668449197860965, 0.25668449197860965, 0.25668449197860965, 0.24866310160427807, 0.24598930481283424, 0.24331550802139038, 0.24064171122994651, 0.23796791443850268, 0.23529411764705882, 0.232620320855615, 0.232620320855615, 0.22994652406417113, 0.22727272727272727, 0.22727272727272727, 0.22459893048128343, 0.22192513368983957, 0.22192513368983957, 0.2192513368983957, 0.2192513368983957, 0.21390374331550802, 0.21122994652406418, 0.20855614973262032, 0.20588235294117646, 0.20588235294117646, 0.20320855614973263, 0.20320855614973263, 0.20053475935828877, 0.20053475935828877, 0.20053475935828877, 0.20053475935828877, 0.20053475935828877, 0.20053475935828877, 0.20053475935828877, 0.19786096256684493, 0.19518716577540107, 0.1925133689839572, 0.18983957219251338, 0.18716577540106952, 0.18716577540106952, 0.18716577540106952, 0.18449197860962566, 0.18181818181818182, 0.17914438502673796, 0.17914438502673796, 0.17647058823529413, 0.17647058823529413, 0.17379679144385027, 0.17379679144385027, 0.1711229946524064, 0.1711229946524064, 0.1711229946524064, 0.16844919786096257, 0.1657754010695187, 0.16310160427807488, 0.16310160427807488, 0.16310160427807488, 0.16042780748663102, 0.16042780748663102, 0.15775401069518716, 0.15775401069518716, 0.15775401069518716, 0.15508021390374332, 0.15240641711229946, 0.1497326203208556, 0.14171122994652408, 0.13903743315508021, 0.13636363636363635, 0.13368983957219252, 0.13101604278074866, 0.12834224598930483, 0.12834224598930483, 0.12566844919786097, 0.12566844919786097, 0.12566844919786097, 0.12299465240641712, 0.12032085561497326, 0.11764705882352941, 0.11497326203208556, 0.11229946524064172, 0.11229946524064172, 0.10962566844919786, 0.10695187165775401, 0.10427807486631016, 0.10427807486631016, 0.10160427807486631, 0.10160427807486631, 0.09893048128342247, 0.09893048128342247, 0.0962566844919786, 0.09358288770053476, 0.09090909090909091, 0.08823529411764706, 0.0855614973262032, 0.08288770053475936, 0.08288770053475936, 0.08021390374331551, 0.07754010695187166, 0.0748663101604278, 0.0748663101604278, 0.07219251336898395, 0.07219251336898395, 0.07219251336898395, 0.06951871657754011, 0.06684491978609626, 0.06417112299465241, 0.06149732620320856, 0.06149732620320856, 0.06149732620320856, 0.058823529411764705, 0.05614973262032086, 0.053475935828877004, 0.053475935828877004, 0.05080213903743316, 0.05080213903743316, 0.05080213903743316, 0.05080213903743316, 0.05080213903743316, 0.0481283422459893, 0.045454545454545456, 0.0427807486631016, 0.040106951871657755, 0.0374331550802139, 0.034759358288770054, 0.03208556149732621, 0.029411764705882353, 0.029411764705882353, 0.026737967914438502, 0.02406417112299465, 0.0213903743315508, 0.0213903743315508, 0.01871657754010695, 0.013368983957219251, 0.008021390374331552, 0.0053475935828877, 0.00267379679144385, 0.0], \"y\": [0.2658137882018479, 0.2838660578386606, 0.2962668784749801, 0.3041700735895339, 0.3112970711297071, 0.31767719897523483, 0.31794871794871793, 0.31736526946107785, 0.32342657342657344, 0.3228346456692913, 0.3259521700620018, 0.3309287646528404, 0.3312274368231047, 0.33152664859981934, 0.33546617915904936, 0.3385608856088561, 0.3423760523854069, 0.3475783475783476, 0.34790874524714827, 0.35260115606936415, 0.3567251461988304, 0.3570731707317073, 0.3564453125, 0.35968379446640314, 0.3600395647873393, 0.3603960396039604, 0.36072144288577157, 0.36772216547497444, 0.36809815950920244, 0.368474923234391, 0.37267080745341613, 0.3757828810020877, 0.3761755485893417, 0.3780359028511088, 0.3805970149253731, 0.3810032017075774, 0.3814102564102564, 0.38074866310160427, 0.3837837837837838, 0.3841991341991342, 0.38461538461538464, 0.38503253796095444, 0.38840262582056895, 0.3877327491785323, 0.3902439024390244, 0.390677025527192, 0.39111111111111113, 0.39329608938547483, 0.393057110862262, 0.39349775784753366, 0.3977142857142857, 0.39816933638443935, 0.39862542955326463, 0.4013840830449827, 0.4018475750577367, 0.4046783625730994, 0.405152224824356, 0.4056271981242673, 0.40828402366863903, 0.4087677725118483, 0.4092526690391459, 0.41127098321342925, 0.4117647058823529, 0.41225961538461536, 0.4147521160822249, 0.4152542372881356, 0.41454545454545455, 0.41504854368932037, 0.4204685573366215, 0.4215080346106304, 0.42785445420326224, 0.42839195979899497, 0.4289308176100629, 0.42947103274559195, 0.4332909783989835, 0.43384223918575066, 0.43312101910828027, 0.43239795918367346, 0.4329501915708812, 0.435006435006435, 0.439374185136897, 0.4409448818897638, 0.44370860927152317, 0.4477211796246649, 0.4469798657718121, 0.4475806451612903, 0.44818304172274565, 0.4474393530997305, 0.44804318488529016, 0.4486486486486487, 0.45231607629427795, 0.4529331514324693, 0.453551912568306, 0.454172366621067, 0.4534246575342466, 0.45897079276773295, 0.4582172701949861, 0.45746164574616455, 0.45670391061452514, 0.45850914205344584, 0.4591549295774648, 0.45839210155148097, 0.4576271186440678, 0.4582743988684583, 0.46285714285714286, 0.463519313304721, 0.4638728323699422, 0.4645441389290883, 0.4652173913043478, 0.46589259796806964, 0.46656976744186046, 0.46774193548387094, 0.4684287812041116, 0.4711111111111111, 0.47032640949554894, 0.46953937592867756, 0.46875, 0.46996996996997, 0.4691729323308271, 0.46987951807228917, 0.47058823529411764, 0.47129909365558914, 0.4733637747336377, 0.4740853658536585, 0.4732824427480916, 0.4740061162079511, 0.47523219814241485, 0.475968992248062, 0.48119122257053293, 0.48194662480376765, 0.4811320754716981, 0.4848, 0.483974358974359, 0.48475120385232745, 0.48946515397082657, 0.4902597402597403, 0.4894308943089431, 0.49022801302931596, 0.4910277324632953, 0.49019607843137253, 0.48936170212765956, 0.4909090909090909, 0.4900662251655629, 0.49087893864013266, 0.4900332225913621, 0.49161073825503354, 0.492436974789916, 0.4957410562180579, 0.49658703071672355, 0.49743589743589745, 0.4991394148020654, 0.5, 0.4991364421416235, 0.5008665511265165, 0.5017361111111112, 0.5008726003490401, 0.5017482517482518, 0.5026269702276708, 0.5035087719298246, 0.5043936731107206, 0.5071174377224199, 0.5080213903743316, 0.5089285714285714, 0.5098389982110912, 0.5117117117117117, 0.5108303249097473, 0.5099457504520796, 0.5090579710144928, 0.5128676470588235, 0.5138121546961326, 0.514760147601476, 0.5138632162661737, 0.5148148148148148, 0.5157699443413729, 0.5176908752327747, 0.5167910447761194, 0.5158878504672897, 0.5168539325842697, 0.5178236397748592, 0.5207547169811321, 0.5217391304347826, 0.5208333333333334, 0.5199240986717267, 0.5209125475285171, 0.5219047619047619, 0.5209923664122137, 0.5219885277246654, 0.5229885057471264, 0.5260115606936416, 0.527027027027027, 0.5290697674418605, 0.5311284046692607, 0.5313725490196078, 0.5324165029469549, 0.5334645669291339, 0.534516765285996, 0.5355731225296443, 0.5366336633663367, 0.5378486055776892, 0.5389221556886228, 0.538, 0.5390781563126252, 0.539553752535497, 0.5386178861788617, 0.539714867617108, 0.5409836065573771, 0.5402061855670103, 0.5413223140495868, 0.5424430641821946, 0.5435684647302904, 0.5446985446985447, 0.5481171548117155, 0.549266247379455, 0.5504201680672269, 0.5515789473684211, 0.5506329113924051, 0.5517970401691332, 0.5508474576271186, 0.5520169851380042, 0.5512820512820513, 0.550321199143469, 0.5515021459227468, 0.5526881720430108, 0.5538793103448276, 0.5550755939524838, 0.5562770562770563, 0.5553145336225597, 0.5565217391304348, 0.5577342047930284, 0.5579868708971554, 0.5609756097560976, 0.56, 0.5612472160356348, 0.5625, 0.5637583892617449, 0.5627802690582959, 0.5656108597285068, 0.564625850340136, 0.5649202733485194, 0.5639269406392694, 0.5652173913043478, 0.5642201834862385, 0.5671296296296297, 0.5661252900232019, 0.5674418604651162, 0.5664335664335665, 0.5667447306791569, 0.568075117370892, 0.5694117647058824, 0.5751789976133651, 0.5765550239234449, 0.5755395683453237, 0.5756097560975609, 0.5770171149144254, 0.5759803921568627, 0.5753086419753086, 0.5742574257425742, 0.575682382133995, 0.5771144278606966, 0.5760598503740648, 0.5753768844221105, 0.5743073047858942, 0.5732323232323232, 0.5746835443037974, 0.5761421319796954, 0.5776081424936387, 0.576530612244898, 0.578005115089514, 0.5798969072164949, 0.5813953488372093, 0.582901554404145, 0.5844155844155844, 0.5833333333333334, 0.5863874345549738, 0.5853018372703412, 0.5842105263157895, 0.58311345646438, 0.5846560846560847, 0.5862068965517241, 0.5851063829787234, 0.5866666666666667, 0.5882352941176471, 0.5898123324396782, 0.5913978494623656, 0.5902964959568733, 0.5918918918918918, 0.5907859078590786, 0.592391304347826, 0.5940054495912807, 0.5956284153005464, 0.5945205479452055, 0.5934065934065934, 0.5950413223140496, 0.6005586592178771, 0.5994397759103641, 0.598314606741573, 0.5971830985915493, 0.596045197740113, 0.5949008498583569, 0.5965909090909091, 0.5982905982905983, 0.5988538681948424, 0.5977011494252874, 0.5994236311239193, 0.5982658959537572, 0.5971014492753624, 0.5988372093023255, 0.6, 0.6017699115044248, 0.6035502958579881, 0.6023738872403561, 0.6041666666666666, 0.6059701492537314, 0.6047904191616766, 0.6036036036036037, 0.6024096385542169, 0.6042296072507553, 0.6060606060606061, 0.6048632218844985, 0.6036585365853658, 0.6024464831804281, 0.6042944785276073, 0.6030769230769231, 0.6, 0.5987460815047022, 0.60062893081761, 0.6025236593059937, 0.6044303797468354, 0.6031746031746031, 0.6019108280254777, 0.6038338658146964, 0.6057692307692307, 0.6045016077170418, 0.603225806451613, 0.6019417475728155, 0.6038961038961039, 0.6058631921824105, 0.6138613861386139, 0.6125827814569537, 0.6146179401993356, 0.6166666666666667, 0.6187290969899666, 0.622895622895623, 0.6216216216216216, 0.6203389830508474, 0.6224489795918368, 0.6245733788395904, 0.6267123287671232, 0.6241379310344828, 0.6228373702422145, 0.6215277777777778, 0.6202090592334495, 0.6188811188811189, 0.6210526315789474, 0.6197183098591549, 0.6183745583038869, 0.6170212765957447, 0.6192170818505338, 0.6178571428571429, 0.6151079136690647, 0.6137184115523465, 0.6123188405797102, 0.6145454545454545, 0.6131386861313869, 0.6153846153846154, 0.6139705882352942, 0.6162361623616236, 0.6148148148148148, 0.6133828996282528, 0.6119402985074627, 0.6104868913857678, 0.6090225563909775, 0.6113207547169811, 0.6136363636363636, 0.6168582375478927, 0.6153846153846154, 0.6138996138996139, 0.6162790697674418, 0.6147859922178989, 0.6171875, 0.615686274509804, 0.6181102362204725, 0.6205533596837944, 0.6224899598393574, 0.625, 0.6275303643724697, 0.6300813008130082, 0.6285714285714286, 0.6311475409836066, 0.628099173553719, 0.6265560165975104, 0.625, 0.6234309623430963, 0.6260504201680672, 0.6286919831223629, 0.6313559322033898, 0.6297872340425532, 0.6293103448275862, 0.6320346320346321, 0.6304347826086957, 0.62882096069869, 0.631578947368421, 0.6343612334801763, 0.6371681415929203, 0.64, 0.6428571428571429, 0.6457399103139013, 0.6441441441441441, 0.6425339366515838, 0.6409090909090909, 0.6438356164383562, 0.6422018348623854, 0.6451612903225806, 0.6435185185185185, 0.641860465116279, 0.6448598130841121, 0.6431924882629108, 0.6462264150943396, 0.6492890995260664, 0.6476190476190476, 0.6507177033492823, 0.6490384615384616, 0.6521739130434783, 0.6504854368932039, 0.6487804878048781, 0.6519607843137255, 0.6551724137931034, 0.6584158415841584, 0.6567164179104478, 0.655, 0.6582914572864321, 0.6616161616161617, 0.6598984771573604, 0.6581632653061225, 0.6564102564102564, 0.654639175257732, 0.6528497409326425, 0.65625, 0.6596858638743456, 0.6578947368421053, 0.656084656084656, 0.6595744680851063, 0.6577540106951871, 0.6559139784946236, 0.6594594594594595, 0.6630434782608695, 0.6666666666666666, 0.6703296703296703, 0.6722222222222223, 0.6759776536312849, 0.6741573033707865, 0.672316384180791, 0.6704545454545454, 0.6686046511627907, 0.672514619883041, 0.6764705882352942, 0.6745562130177515, 0.6785714285714286, 0.6766467065868264, 0.6807228915662651, 0.6787878787878788, 0.676829268292683, 0.6748466257668712, 0.6728395061728395, 0.6770186335403726, 0.675, 0.6729559748427673, 0.6708860759493671, 0.6751592356687898, 0.6730769230769231, 0.6709677419354839, 0.6688311688311688, 0.6666666666666666, 0.6644736842105263, 0.6622516556291391, 0.66, 0.6644295302013423, 0.6621621621621622, 0.6598639455782312, 0.6643835616438356, 0.6620689655172414, 0.6666666666666666, 0.6713286713286714, 0.6739130434782609, 0.6715328467153284, 0.6691176470588235, 0.6666666666666666, 0.664179104477612, 0.6616541353383458, 0.6590909090909091, 0.6641221374045801, 0.6615384615384615, 0.6589147286821705, 0.6640625, 0.6614173228346457, 0.6587301587301587, 0.664, 0.6612903225806451, 0.6666666666666666, 0.6666666666666666, 0.6638655462184874, 0.6610169491525424, 0.6581196581196581, 0.6637931034482759, 0.6608695652173913, 0.6666666666666666, 0.6637168141592921, 0.6696428571428571, 0.6756756756756757, 0.6818181818181818, 0.6880733944954128, 0.6944444444444444, 0.7009345794392523, 0.6981132075471698, 0.6952380952380952, 0.6923076923076923, 0.6893203883495146, 0.6862745098039216, 0.693069306930693, 0.7, 0.696969696969697, 0.6938775510204082, 0.6907216494845361, 0.6979166666666666, 0.6947368421052632, 0.7021276595744681, 0.6989247311827957, 0.7065217391304348, 0.7032967032967034, 0.7111111111111111, 0.7191011235955056, 0.7159090909090909, 0.7126436781609196, 0.7093023255813954, 0.7176470588235294, 0.7261904761904762, 0.7228915662650602, 0.7317073170731707, 0.7283950617283951, 0.7375, 0.7468354430379747, 0.7435897435897436, 0.7402597402597403, 0.7368421052631579, 0.726027397260274, 0.7222222222222222, 0.7183098591549296, 0.7142857142857143, 0.7101449275362319, 0.7058823529411765, 0.7164179104477612, 0.7121212121212122, 0.7230769230769231, 0.734375, 0.7301587301587301, 0.7258064516129032, 0.7213114754098361, 0.7166666666666667, 0.711864406779661, 0.7241379310344828, 0.7192982456140351, 0.7142857142857143, 0.7090909090909091, 0.7222222222222222, 0.7169811320754716, 0.7307692307692307, 0.7254901960784313, 0.74, 0.7346938775510204, 0.7291666666666666, 0.723404255319149, 0.717391304347826, 0.7111111111111111, 0.7045454545454546, 0.7209302325581395, 0.7142857142857143, 0.7073170731707317, 0.7, 0.717948717948718, 0.7105263157894737, 0.7297297297297297, 0.75, 0.7428571428571429, 0.7352941176470589, 0.7272727272727273, 0.71875, 0.7419354838709677, 0.7666666666666667, 0.7586206896551724, 0.75, 0.7407407407407407, 0.7692307692307693, 0.76, 0.7916666666666666, 0.8260869565217391, 0.8636363636363636, 0.9047619047619048, 0.9, 0.8947368421052632, 0.8888888888888888, 0.8823529411764706, 0.875, 0.8666666666666667, 0.8571428571428571, 0.8461538461538461, 0.9166666666666666, 0.9090909090909091, 0.9, 0.8888888888888888, 1.0, 1.0, 1.0, 1.0, 1.0, 1.0, 1.0]}, {\"mode\": \"lines\", \"name\": \"ADA\", \"type\": \"scatter\", \"x\": [1.0, 0.9973262032085561, 0.9973262032085561, 0.9973262032085561, 0.9973262032085561, 0.9973262032085561, 0.9973262032085561, 0.9973262032085561, 0.9973262032085561, 0.9973262032085561, 0.9973262032085561, 0.9973262032085561, 0.9973262032085561, 0.9973262032085561, 0.9973262032085561, 0.9973262032085561, 0.9973262032085561, 0.9973262032085561, 0.9973262032085561, 0.9973262032085561, 0.9973262032085561, 0.9973262032085561, 0.9973262032085561, 0.9973262032085561, 0.9973262032085561, 0.9973262032085561, 0.9973262032085561, 0.9973262032085561, 0.9973262032085561, 0.9973262032085561, 0.9973262032085561, 0.9973262032085561, 0.9973262032085561, 0.9973262032085561, 0.9973262032085561, 0.9973262032085561, 0.9973262032085561, 0.9973262032085561, 0.9973262032085561, 0.9973262032085561, 0.9973262032085561, 0.9973262032085561, 0.9973262032085561, 0.9973262032085561, 0.9973262032085561, 0.9973262032085561, 0.9973262032085561, 0.9973262032085561, 0.9973262032085561, 0.9973262032085561, 0.9973262032085561, 0.9973262032085561, 0.9973262032085561, 0.9973262032085561, 0.9973262032085561, 0.9973262032085561, 0.9973262032085561, 0.9973262032085561, 0.9973262032085561, 0.9973262032085561, 0.9973262032085561, 0.9973262032085561, 0.9973262032085561, 0.9973262032085561, 0.9973262032085561, 0.9973262032085561, 0.9973262032085561, 0.9973262032085561, 0.9973262032085561, 0.9973262032085561, 0.9973262032085561, 0.9973262032085561, 0.9973262032085561, 0.9973262032085561, 0.9973262032085561, 0.9973262032085561, 0.9973262032085561, 0.9973262032085561, 0.9973262032085561, 0.9973262032085561, 0.9973262032085561, 0.9973262032085561, 0.9973262032085561, 0.9973262032085561, 0.9973262032085561, 0.9973262032085561, 0.9973262032085561, 0.9973262032085561, 0.9973262032085561, 0.9973262032085561, 0.9973262032085561, 0.9973262032085561, 0.9973262032085561, 0.9973262032085561, 0.9973262032085561, 0.9973262032085561, 0.9973262032085561, 0.9973262032085561, 0.9973262032085561, 0.9973262032085561, 0.9973262032085561, 0.9973262032085561, 0.9973262032085561, 0.9973262032085561, 0.9973262032085561, 0.9973262032085561, 0.9973262032085561, 0.9973262032085561, 0.9973262032085561, 0.9973262032085561, 0.9973262032085561, 0.9973262032085561, 0.9973262032085561, 0.9973262032085561, 0.9973262032085561, 0.9973262032085561, 0.9973262032085561, 0.9973262032085561, 0.9973262032085561, 0.9973262032085561, 0.9973262032085561, 0.9973262032085561, 0.9973262032085561, 0.9946524064171123, 0.9946524064171123, 0.9946524064171123, 0.9946524064171123, 0.9946524064171123, 0.9946524064171123, 0.9919786096256684, 0.9919786096256684, 0.9919786096256684, 0.9919786096256684, 0.9919786096256684, 0.9919786096256684, 0.9919786096256684, 0.9919786096256684, 0.9919786096256684, 0.9893048128342246, 0.9893048128342246, 0.9893048128342246, 0.9893048128342246, 0.9893048128342246, 0.9893048128342246, 0.9893048128342246, 0.9893048128342246, 0.9893048128342246, 0.9893048128342246, 0.9893048128342246, 0.9893048128342246, 0.9893048128342246, 0.9893048128342246, 0.9893048128342246, 0.9893048128342246, 0.9893048128342246, 0.9893048128342246, 0.9893048128342246, 0.9893048128342246, 0.9893048128342246, 0.9893048128342246, 0.9893048128342246, 0.9893048128342246, 0.9893048128342246, 0.9893048128342246, 0.9893048128342246, 0.9893048128342246, 0.9893048128342246, 0.9893048128342246, 0.9893048128342246, 0.9893048128342246, 0.9866310160427807, 0.9866310160427807, 0.9866310160427807, 0.9866310160427807, 0.9866310160427807, 0.9866310160427807, 0.9866310160427807, 0.9866310160427807, 0.9866310160427807, 0.9866310160427807, 0.9866310160427807, 0.9866310160427807, 0.9866310160427807, 0.9866310160427807, 0.9866310160427807, 0.9866310160427807, 0.9866310160427807, 0.9866310160427807, 0.983957219251337, 0.983957219251337, 0.983957219251337, 0.983957219251337, 0.983957219251337, 0.983957219251337, 0.983957219251337, 0.983957219251337, 0.983957219251337, 0.983957219251337, 0.983957219251337, 0.983957219251337, 0.983957219251337, 0.983957219251337, 0.983957219251337, 0.983957219251337, 0.983957219251337, 0.983957219251337, 0.983957219251337, 0.983957219251337, 0.983957219251337, 0.983957219251337, 0.983957219251337, 0.983957219251337, 0.983957219251337, 0.983957219251337, 0.983957219251337, 0.983957219251337, 0.983957219251337, 0.983957219251337, 0.983957219251337, 0.983957219251337, 0.983957219251337, 0.983957219251337, 0.983957219251337, 0.983957219251337, 0.983957219251337, 0.983957219251337, 0.983957219251337, 0.983957219251337, 0.983957219251337, 0.983957219251337, 0.983957219251337, 0.983957219251337, 0.983957219251337, 0.983957219251337, 0.983957219251337, 0.983957219251337, 0.983957219251337, 0.983957219251337, 0.983957219251337, 0.983957219251337, 0.983957219251337, 0.983957219251337, 0.983957219251337, 0.983957219251337, 0.983957219251337, 0.983957219251337, 0.9812834224598931, 0.9812834224598931, 0.9812834224598931, 0.9812834224598931, 0.9812834224598931, 0.9812834224598931, 0.9812834224598931, 0.9812834224598931, 0.9812834224598931, 0.9812834224598931, 0.9786096256684492, 0.9786096256684492, 0.9759358288770054, 0.9759358288770054, 0.9759358288770054, 0.9759358288770054, 0.9759358288770054, 0.9759358288770054, 0.9759358288770054, 0.9759358288770054, 0.9759358288770054, 0.9759358288770054, 0.9759358288770054, 0.9759358288770054, 0.9759358288770054, 0.9759358288770054, 0.9759358288770054, 0.9759358288770054, 0.9759358288770054, 0.9759358288770054, 0.9759358288770054, 0.9759358288770054, 0.9759358288770054, 0.9759358288770054, 0.9759358288770054, 0.9759358288770054, 0.9759358288770054, 0.9759358288770054, 0.9759358288770054, 0.9732620320855615, 0.9732620320855615, 0.9732620320855615, 0.9705882352941176, 0.9705882352941176, 0.9705882352941176, 0.9705882352941176, 0.9705882352941176, 0.9705882352941176, 0.9679144385026738, 0.9679144385026738, 0.9679144385026738, 0.9679144385026738, 0.9679144385026738, 0.9679144385026738, 0.9679144385026738, 0.9679144385026738, 0.9679144385026738, 0.9679144385026738, 0.9679144385026738, 0.9679144385026738, 0.9679144385026738, 0.9679144385026738, 0.9679144385026738, 0.9679144385026738, 0.9679144385026738, 0.9679144385026738, 0.9679144385026738, 0.9679144385026738, 0.9679144385026738, 0.9679144385026738, 0.9679144385026738, 0.9679144385026738, 0.9679144385026738, 0.9679144385026738, 0.9679144385026738, 0.9679144385026738, 0.9679144385026738, 0.9679144385026738, 0.9679144385026738, 0.9679144385026738, 0.9679144385026738, 0.9679144385026738, 0.9679144385026738, 0.9679144385026738, 0.9652406417112299, 0.9652406417112299, 0.9652406417112299, 0.9652406417112299, 0.9625668449197861, 0.9625668449197861, 0.9625668449197861, 0.9625668449197861, 0.9625668449197861, 0.9625668449197861, 0.9625668449197861, 0.9625668449197861, 0.9625668449197861, 0.9625668449197861, 0.9625668449197861, 0.9598930481283422, 0.9598930481283422, 0.9598930481283422, 0.9598930481283422, 0.9598930481283422, 0.9598930481283422, 0.9598930481283422, 0.9598930481283422, 0.9598930481283422, 0.9598930481283422, 0.9598930481283422, 0.9572192513368984, 0.9572192513368984, 0.9572192513368984, 0.9572192513368984, 0.9572192513368984, 0.9545454545454546, 0.9545454545454546, 0.9545454545454546, 0.9545454545454546, 0.9545454545454546, 0.9545454545454546, 0.9545454545454546, 0.9545454545454546, 0.9545454545454546, 0.9545454545454546, 0.9518716577540107, 0.9518716577540107, 0.9518716577540107, 0.9518716577540107, 0.9518716577540107, 0.9518716577540107, 0.9518716577540107, 0.9491978609625669, 0.9491978609625669, 0.9491978609625669, 0.9491978609625669, 0.9491978609625669, 0.9491978609625669, 0.9491978609625669, 0.9491978609625669, 0.9491978609625669, 0.9491978609625669, 0.9491978609625669, 0.9491978609625669, 0.9491978609625669, 0.9491978609625669, 0.946524064171123, 0.9438502673796791, 0.9438502673796791, 0.9438502673796791, 0.9438502673796791, 0.9411764705882353, 0.9411764705882353, 0.9411764705882353, 0.9385026737967914, 0.9385026737967914, 0.9385026737967914, 0.9385026737967914, 0.9358288770053476, 0.9358288770053476, 0.9331550802139037, 0.9331550802139037, 0.9331550802139037, 0.9331550802139037, 0.9331550802139037, 0.9331550802139037, 0.93048128342246, 0.93048128342246, 0.93048128342246, 0.93048128342246, 0.93048128342246, 0.93048128342246, 0.93048128342246, 0.93048128342246, 0.93048128342246, 0.93048128342246, 0.93048128342246, 0.93048128342246, 0.9278074866310161, 0.9278074866310161, 0.9278074866310161, 0.9278074866310161, 0.9278074866310161, 0.9251336898395722, 0.9224598930481284, 0.9224598930481284, 0.9197860962566845, 0.9171122994652406, 0.9171122994652406, 0.9171122994652406, 0.9171122994652406, 0.9171122994652406, 0.9171122994652406, 0.9171122994652406, 0.9171122994652406, 0.9171122994652406, 0.9171122994652406, 0.9171122994652406, 0.9171122994652406, 0.9171122994652406, 0.9171122994652406, 0.9171122994652406, 0.9171122994652406, 0.9171122994652406, 0.9144385026737968, 0.9144385026737968, 0.9144385026737968, 0.9144385026737968, 0.9144385026737968, 0.9144385026737968, 0.9144385026737968, 0.9144385026737968, 0.9144385026737968, 0.9144385026737968, 0.9117647058823529, 0.9117647058823529, 0.9117647058823529, 0.9117647058823529, 0.9117647058823529, 0.9117647058823529, 0.9117647058823529, 0.9117647058823529, 0.9090909090909091, 0.9090909090909091, 0.9090909090909091, 0.9090909090909091, 0.9064171122994652, 0.9064171122994652, 0.9064171122994652, 0.9064171122994652, 0.9010695187165776, 0.9010695187165776, 0.8983957219251337, 0.8983957219251337, 0.8957219251336899, 0.8957219251336899, 0.8957219251336899, 0.8957219251336899, 0.8957219251336899, 0.893048128342246, 0.893048128342246, 0.893048128342246, 0.8903743315508021, 0.8903743315508021, 0.8903743315508021, 0.8903743315508021, 0.8903743315508021, 0.8903743315508021, 0.8903743315508021, 0.8903743315508021, 0.8903743315508021, 0.8903743315508021, 0.8903743315508021, 0.8877005347593583, 0.8877005347593583, 0.8877005347593583, 0.8877005347593583, 0.8850267379679144, 0.8850267379679144, 0.8850267379679144, 0.8850267379679144, 0.8823529411764706, 0.8823529411764706, 0.8823529411764706, 0.8823529411764706, 0.8796791443850267, 0.8796791443850267, 0.8796791443850267, 0.8796791443850267, 0.8796791443850267, 0.8743315508021391, 0.8716577540106952, 0.8716577540106952, 0.8716577540106952, 0.8689839572192514, 0.8689839572192514, 0.8663101604278075, 0.8663101604278075, 0.8636363636363636, 0.8609625668449198, 0.8609625668449198, 0.8582887700534759, 0.8582887700534759, 0.8582887700534759, 0.8582887700534759, 0.8556149732620321, 0.8529411764705882, 0.8529411764705882, 0.8529411764705882, 0.8529411764705882, 0.8502673796791443, 0.8502673796791443, 0.8502673796791443, 0.8502673796791443, 0.8475935828877005, 0.8449197860962567, 0.8449197860962567, 0.8449197860962567, 0.8449197860962567, 0.8449197860962567, 0.8449197860962567, 0.8449197860962567, 0.8449197860962567, 0.8449197860962567, 0.8449197860962567, 0.8422459893048129, 0.8422459893048129, 0.8422459893048129, 0.8422459893048129, 0.839572192513369, 0.839572192513369, 0.839572192513369, 0.839572192513369, 0.8368983957219251, 0.8368983957219251, 0.8368983957219251, 0.8368983957219251, 0.8368983957219251, 0.8262032085561497, 0.8262032085561497, 0.8262032085561497, 0.8262032085561497, 0.8262032085561497, 0.8262032085561497, 0.8181818181818182, 0.8155080213903744, 0.8155080213903744, 0.8155080213903744, 0.8155080213903744, 0.8155080213903744, 0.8155080213903744, 0.8155080213903744, 0.8155080213903744, 0.8128342245989305, 0.8101604278074866, 0.8101604278074866, 0.8074866310160428, 0.8074866310160428, 0.8048128342245989, 0.8048128342245989, 0.8048128342245989, 0.8048128342245989, 0.8021390374331551, 0.8021390374331551, 0.7994652406417112, 0.7967914438502673, 0.7967914438502673, 0.7967914438502673, 0.7967914438502673, 0.7941176470588235, 0.7941176470588235, 0.7887700534759359, 0.7887700534759359, 0.786096256684492, 0.786096256684492, 0.7834224598930482, 0.7834224598930482, 0.7807486631016043, 0.7807486631016043, 0.7780748663101604, 0.7780748663101604, 0.7780748663101604, 0.7754010695187166, 0.7754010695187166, 0.7754010695187166, 0.7727272727272727, 0.7700534759358288, 0.767379679144385, 0.767379679144385, 0.767379679144385, 0.767379679144385, 0.7647058823529411, 0.7647058823529411, 0.7647058823529411, 0.7647058823529411, 0.7647058823529411, 0.7647058823529411, 0.7620320855614974, 0.7620320855614974, 0.7620320855614974, 0.7620320855614974, 0.7620320855614974, 0.7593582887700535, 0.7593582887700535, 0.7566844919786097, 0.7566844919786097, 0.7566844919786097, 0.7566844919786097, 0.7566844919786097, 0.7566844919786097, 0.7486631016042781, 0.7459893048128342, 0.7406417112299465, 0.7352941176470589, 0.7299465240641712, 0.7245989304812834, 0.7219251336898396, 0.7219251336898396, 0.7192513368983957, 0.7192513368983957, 0.7165775401069518, 0.7165775401069518, 0.7112299465240641, 0.7112299465240641, 0.7085561497326203, 0.7085561497326203, 0.7085561497326203, 0.7085561497326203, 0.7058823529411765, 0.7032085561497327, 0.7032085561497327, 0.7032085561497327, 0.6951871657754011, 0.6951871657754011, 0.6925133689839572, 0.6898395721925134, 0.6871657754010695, 0.6844919786096256, 0.6818181818181818, 0.679144385026738, 0.6737967914438503, 0.6737967914438503, 0.6737967914438503, 0.6737967914438503, 0.6711229946524064, 0.6684491978609626, 0.6684491978609626, 0.6684491978609626, 0.6684491978609626, 0.6684491978609626, 0.6684491978609626, 0.6684491978609626, 0.6684491978609626, 0.6684491978609626, 0.6684491978609626, 0.6684491978609626, 0.6657754010695187, 0.6657754010695187, 0.660427807486631, 0.660427807486631, 0.6577540106951871, 0.6577540106951871, 0.6577540106951871, 0.6550802139037433, 0.6550802139037433, 0.6550802139037433, 0.6550802139037433, 0.6524064171122995, 0.6524064171122995, 0.6497326203208557, 0.6497326203208557, 0.6497326203208557, 0.6497326203208557, 0.6470588235294118, 0.6470588235294118, 0.6443850267379679, 0.6443850267379679, 0.6417112299465241, 0.6417112299465241, 0.6417112299465241, 0.6390374331550802, 0.6363636363636364, 0.6336898395721925, 0.6336898395721925, 0.6336898395721925, 0.6336898395721925, 0.6336898395721925, 0.6310160427807486, 0.6310160427807486, 0.6256684491978609, 0.6256684491978609, 0.6256684491978609, 0.6229946524064172, 0.6203208556149733, 0.6176470588235294, 0.6176470588235294, 0.6176470588235294, 0.6122994652406417, 0.6096256684491979, 0.6096256684491979, 0.6096256684491979, 0.6096256684491979, 0.606951871657754, 0.606951871657754, 0.6042780748663101, 0.6016042780748663, 0.5989304812834224, 0.5989304812834224, 0.5989304812834224, 0.5962566844919787, 0.5962566844919787, 0.5962566844919787, 0.5962566844919787, 0.5962566844919787, 0.5962566844919787, 0.5935828877005348, 0.5882352941176471, 0.5855614973262032, 0.5828877005347594, 0.5775401069518716, 0.5775401069518716, 0.5775401069518716, 0.5748663101604278, 0.5748663101604278, 0.56951871657754, 0.5668449197860963, 0.5668449197860963, 0.5668449197860963, 0.5668449197860963, 0.5641711229946524, 0.5614973262032086, 0.5614973262032086, 0.5588235294117647, 0.553475935828877, 0.553475935828877, 0.5481283422459893, 0.5481283422459893, 0.5481283422459893, 0.5481283422459893, 0.5454545454545454, 0.5401069518716578, 0.5294117647058824, 0.5267379679144385, 0.5267379679144385, 0.5240641711229946, 0.5240641711229946, 0.5240641711229946, 0.5213903743315508, 0.5187165775401069, 0.516042780748663, 0.5133689839572193, 0.5106951871657754, 0.5106951871657754, 0.5053475935828877, 0.5026737967914439, 0.5, 0.49732620320855614, 0.4946524064171123, 0.4919786096256685, 0.4893048128342246, 0.48663101604278075, 0.4786096256684492, 0.4786096256684492, 0.4786096256684492, 0.47593582887700536, 0.4732620320855615, 0.4732620320855615, 0.47058823529411764, 0.4679144385026738, 0.4625668449197861, 0.4625668449197861, 0.4625668449197861, 0.4625668449197861, 0.4625668449197861, 0.4625668449197861, 0.4625668449197861, 0.4625668449197861, 0.45187165775401067, 0.44919786096256686, 0.44919786096256686, 0.44919786096256686, 0.446524064171123, 0.44385026737967914, 0.44385026737967914, 0.4385026737967914, 0.4358288770053476, 0.43315508021390375, 0.4304812834224599, 0.42780748663101603, 0.42780748663101603, 0.42780748663101603, 0.42780748663101603, 0.42513368983957217, 0.4144385026737968, 0.4117647058823529, 0.4090909090909091, 0.39572192513368987, 0.39572192513368987, 0.39572192513368987, 0.39572192513368987, 0.39572192513368987, 0.393048128342246, 0.393048128342246, 0.393048128342246, 0.393048128342246, 0.393048128342246, 0.393048128342246, 0.39037433155080214, 0.38235294117647056, 0.37433155080213903, 0.3716577540106952, 0.3716577540106952, 0.3609625668449198, 0.3609625668449198, 0.3582887700534759, 0.3582887700534759, 0.35561497326203206, 0.35561497326203206, 0.3422459893048128, 0.3422459893048128, 0.33689839572192515, 0.33689839572192515, 0.3342245989304813, 0.3342245989304813, 0.3315508021390374, 0.32887700534759357, 0.32620320855614976, 0.32620320855614976, 0.3181818181818182, 0.3181818181818182, 0.3155080213903743, 0.2994652406417112, 0.2967914438502674, 0.29411764705882354, 0.29411764705882354, 0.2914438502673797, 0.2887700534759358, 0.28342245989304815, 0.28342245989304815, 0.28342245989304815, 0.2807486631016043, 0.2807486631016043, 0.2807486631016043, 0.2807486631016043, 0.2807486631016043, 0.27807486631016043, 0.27540106951871657, 0.2727272727272727, 0.2700534759358289, 0.26737967914438504, 0.25935828877005346, 0.25935828877005346, 0.2540106951871658, 0.24866310160427807, 0.24598930481283424, 0.24331550802139038, 0.24331550802139038, 0.24064171122994651, 0.23796791443850268, 0.23796791443850268, 0.23529411764705882, 0.21122994652406418, 0.21122994652406418, 0.21122994652406418, 0.20588235294117646, 0.20588235294117646, 0.20320855614973263, 0.20053475935828877, 0.1925133689839572, 0.1925133689839572, 0.18983957219251338, 0.18716577540106952, 0.18449197860962566, 0.18181818181818182, 0.17914438502673796, 0.16844919786096257, 0.1657754010695187, 0.16310160427807488, 0.16042780748663102, 0.15775401069518716, 0.15508021390374332, 0.1497326203208556, 0.1497326203208556, 0.1497326203208556, 0.1497326203208556, 0.14705882352941177, 0.14171122994652408, 0.13903743315508021, 0.13903743315508021, 0.13368983957219252, 0.13101604278074866, 0.12834224598930483, 0.12834224598930483, 0.11764705882352941, 0.11497326203208556, 0.10962566844919786, 0.09893048128342247, 0.09090909090909091, 0.08823529411764706, 0.0855614973262032, 0.08288770053475936, 0.08021390374331551, 0.06684491978609626, 0.06417112299465241, 0.06149732620320856, 0.05614973262032086, 0.05080213903743316, 0.0481283422459893, 0.03208556149732621, 0.026737967914438502, 0.013368983957219251, 0.013368983957219251, 0.0106951871657754, 0.0], \"y\": [0.2774480712166172, 0.2787742899850523, 0.27898279730740466, 0.2791916167664671, 0.2794007490636704, 0.27961019490254874, 0.2806621519939804, 0.2808734939759036, 0.28150943396226413, 0.28236184708554124, 0.2840822543792841, 0.28451563691838294, 0.28473282442748094, 0.2849503437738732, 0.2851681957186544, 0.285823754789272, 0.28758673862760215, 0.288476411446249, 0.2886996904024768, 0.2889233152594888, 0.28914728682170543, 0.28959627329192544, 0.2898212898212898, 0.2900466562986003, 0.29163408913213446, 0.29277864992150704, 0.29300864100549884, 0.29323899371069184, 0.2934697088906373, 0.2937007874015748, 0.2941640378548896, 0.29462875197472355, 0.2950949367088608, 0.2953285827395091, 0.29556259904912835, 0.295796986518636, 0.29603174603174603, 0.2962668784749801, 0.29650238473767887, 0.2967382657120127, 0.29697452229299365, 0.2972111553784861, 0.29768555466879487, 0.2979233226837061, 0.2986389111289031, 0.2988782051282051, 0.2991178829190056, 0.29935794542536115, 0.2995983935742972, 0.3000804505229284, 0.3003220611916264, 0.3008064516129032, 0.30251419302514193, 0.3027597402597403, 0.30300568643379366, 0.30374592833876224, 0.30424143556280586, 0.30448979591836733, 0.3047385620915033, 0.30523731587561376, 0.30548730548730546, 0.30573770491803276, 0.3059885151763741, 0.30623973727422005, 0.30775577557755773, 0.30800990916597853, 0.3082644628099174, 0.30851943755169564, 0.3087748344370861, 0.30903065451532724, 0.3092868988391376, 0.3095435684647303, 0.30980066445182725, 0.3105745212323064, 0.31083333333333335, 0.311092577147623, 0.3113522537562604, 0.31213389121338914, 0.3126571668063705, 0.3131821998320739, 0.3134453781512605, 0.3137089991589571, 0.31397306397306396, 0.3142375737152485, 0.31503378378378377, 0.3153000845308538, 0.31610169491525425, 0.31636980491942324, 0.3166383701188455, 0.3169073916737468, 0.3171768707482993, 0.3174468085106383, 0.31771720613287907, 0.31798806479113384, 0.318259385665529, 0.318531169940222, 0.3188034188034188, 0.3193493150684932, 0.3196229648671808, 0.31989708404802747, 0.3201716738197425, 0.32044673539518903, 0.32127476313522824, 0.32155172413793104, 0.32182916307161347, 0.3221070811744387, 0.32238547968885045, 0.3226643598615917, 0.3229437229437229, 0.32322357019064124, 0.3237847222222222, 0.32406602953953084, 0.3243478260869565, 0.32463011314186246, 0.3249128919860627, 0.32519616390584133, 0.3254799301919721, 0.326334208223972, 0.3266199649737303, 0.32690622261174407, 0.32719298245614037, 0.32748024582967517, 0.327768014059754, 0.3274647887323944, 0.3277533039647577, 0.3283318623124448, 0.3286219081272085, 0.32891246684350134, 0.3292035398230089, 0.32860938883968116, 0.3300711743772242, 0.3303650934995548, 0.3306595365418895, 0.33095450490633366, 0.33125, 0.3321396598030439, 0.3324372759856631, 0.3327354260089686, 0.33213644524236985, 0.33303330333033304, 0.3333333333333333, 0.33363390441839497, 0.33393501805054154, 0.33423667570009036, 0.3345388788426763, 0.334841628959276, 0.3351449275362319, 0.3354487760652765, 0.33575317604355714, 0.33636363636363636, 0.33666969972702454, 0.33697632058287796, 0.33728350045578853, 0.3375912408759124, 0.3378995433789954, 0.33851784080512354, 0.33882783882783885, 0.3394495412844037, 0.3397612488521579, 0.3400735294117647, 0.3406998158379374, 0.34101382488479265, 0.3413284132841328, 0.34164358264081257, 0.3419593345656192, 0.3422756706753006, 0.3425925925925926, 0.34291010194624655, 0.3432282003710575, 0.3435468895078923, 0.34389561975768873, 0.34421641791044777, 0.3445378151260504, 0.3448598130841122, 0.3451824134705332, 0.3455056179775281, 0.3458294283036551, 0.3468045112781955, 0.3471307619943556, 0.3474576271186441, 0.3477851083883129, 0.34844192634560905, 0.3487712665406427, 0.3491012298959319, 0.3494318181818182, 0.34976303317535545, 0.35009487666034156, 0.3504273504273504, 0.34980988593155893, 0.35014272121788775, 0.3504761904761905, 0.3508102955195424, 0.3511450381679389, 0.3521531100478469, 0.3524904214559387, 0.35282837967401726, 0.3531669865642994, 0.35384615384615387, 0.35418671799807505, 0.35452793834296725, 0.3548698167791707, 0.3552123552123552, 0.35555555555555557, 0.35589941972920697, 0.356243949661181, 0.35658914728682173, 0.3569350145489816, 0.3572815533980582, 0.3576287657920311, 0.35797665369649806, 0.35832521908471276, 0.3586744639376218, 0.359375, 0.3597262952101662, 0.36007827788649704, 0.3604309500489716, 0.3607843137254902, 0.36113837095191365, 0.3614931237721022, 0.36184857423795475, 0.36220472440944884, 0.3625615763546798, 0.3629191321499014, 0.36327739387956565, 0.36363636363636365, 0.3639960435212661, 0.36435643564356435, 0.365441906653426, 0.3658051689860835, 0.3665338645418327, 0.36689930209371885, 0.36726546906187624, 0.3676323676323676, 0.368, 0.3687374749498998, 0.3691073219658977, 0.36947791164658633, 0.3702213279678068, 0.37059415911379656, 0.3709677419354839, 0.3713420787083754, 0.3717171717171717, 0.37209302325581395, 0.3724696356275304, 0.3728470111448835, 0.37322515212981744, 0.3733468972533062, 0.37372708757637474, 0.37410805300713557, 0.37448979591836734, 0.3748723186925434, 0.37525562372188137, 0.37563971340839303, 0.3760245901639344, 0.3764102564102564, 0.37679671457905545, 0.3761562178828366, 0.3765432098765432, 0.37590113285272914, 0.37628865979381443, 0.3766769865841073, 0.37706611570247933, 0.3778467908902691, 0.37823834196891193, 0.37863070539419086, 0.3790238836967809, 0.3794178794178794, 0.3798126951092612, 0.3802083333333333, 0.38100208768267224, 0.38140020898641586, 0.3817991631799163, 0.38219895287958117, 0.38259958071278827, 0.3830010493179433, 0.38340336134453784, 0.38380651945320715, 0.38421052631578945, 0.38461538461538464, 0.3850210970464135, 0.3858350951374207, 0.3862433862433862, 0.3866525423728814, 0.3870625662778367, 0.3874734607218684, 0.38682252922422955, 0.3872340425531915, 0.3876464323748669, 0.38699360341151384, 0.3874066168623266, 0.38782051282051283, 0.38823529411764707, 0.3886509635974304, 0.3890675241157556, 0.388412017167382, 0.38882921589688507, 0.38924731182795697, 0.38966630785791173, 0.3900862068965517, 0.39050701186623515, 0.39092872570194387, 0.39135135135135135, 0.3917748917748918, 0.39219934994582883, 0.3930510314875136, 0.3934782608695652, 0.3939064200217628, 0.39433551198257083, 0.39476553980370777, 0.3951965065502183, 0.39562841530054643, 0.39606126914660833, 0.3964950711938664, 0.3969298245614035, 0.3973655323819978, 0.39823982398239827, 0.3986784140969163, 0.39911797133406834, 0.3995584988962472, 0.4008859357696567, 0.401330376940133, 0.4017758046614872, 0.4022222222222222, 0.40266963292547275, 0.40311804008908686, 0.4035674470457079, 0.40401785714285715, 0.4044692737430168, 0.40492170022371365, 0.4053751399776036, 0.40607424071991, 0.4069898534385569, 0.4074492099322799, 0.4083710407239819, 0.40770101925254815, 0.4086265607264472, 0.4090909090909091, 0.40955631399317405, 0.41002277904328016, 0.4104903078677309, 0.410958904109589, 0.4114285714285714, 0.41189931350114417, 0.41237113402061853, 0.41284403669724773, 0.4121699196326062, 0.4126436781609195, 0.4131185270425777, 0.41359447004608296, 0.4140715109573241, 0.41454965357967666, 0.41502890173410406, 0.41550925925925924, 0.4159907300115875, 0.41647331786542924, 0.4169570267131243, 0.41627906976744183, 0.4172494172494173, 0.4177362893815636, 0.4182242990654206, 0.41871345029239765, 0.4180327868852459, 0.41852286049237986, 0.4195064629847238, 0.42, 0.4204946996466431, 0.4209905660377358, 0.4214876033057851, 0.4219858156028369, 0.42248520710059173, 0.42298578199052134, 0.4223013048635824, 0.42280285035629456, 0.4233055885850178, 0.4238095238095238, 0.42431466030989273, 0.42482100238663484, 0.4253285543608124, 0.4261704681872749, 0.4266826923076923, 0.42719614921780985, 0.42771084337349397, 0.428226779252111, 0.42926239419588874, 0.4297820823244552, 0.4303030303030303, 0.4308252427184466, 0.4313487241798299, 0.4318734793187348, 0.43239951278928135, 0.4329268292682927, 0.43345543345543347, 0.43276283618581907, 0.4320685434516524, 0.4325980392156863, 0.4331288343558282, 0.43419434194341944, 0.43349753694581283, 0.43403205918618987, 0.4345679012345679, 0.4338689740420272, 0.4349442379182156, 0.43548387096774194, 0.4360248447204969, 0.43532338308457713, 0.43586550435865506, 0.43516209476309226, 0.43570536828963796, 0.43625, 0.43844221105527637, 0.4389937106918239, 0.43954659949622166, 0.43883984867591425, 0.4393939393939394, 0.43994943109987356, 0.44050632911392407, 0.44106463878326996, 0.4416243654822335, 0.44218551461245237, 0.44274809160305345, 0.44331210191082804, 0.44387755102040816, 0.4444444444444444, 0.44558258642765686, 0.44487179487179485, 0.4454428754813864, 0.44601542416452444, 0.4465894465894466, 0.44716494845360827, 0.4464516129032258, 0.44573643410852715, 0.44689119170984454, 0.4461738002594034, 0.44545454545454544, 0.4460338101430429, 0.4466145833333333, 0.4471968709256845, 0.44778067885117495, 0.44836601307189544, 0.4489528795811518, 0.44954128440366975, 0.45013123359580054, 0.4507227332457293, 0.4513157894736842, 0.4519104084321476, 0.4525065963060686, 0.45310435931307796, 0.4537037037037037, 0.4543046357615894, 0.45490716180371354, 0.4541832669322709, 0.45478723404255317, 0.45539280958721706, 0.456, 0.45660881174899864, 0.4609164420485175, 0.46153846153846156, 0.46216216216216216, 0.462787550744249, 0.4634146341463415, 0.4633152173913043, 0.4639455782312925, 0.4645776566757493, 0.46521145975443384, 0.46584699453551914, 0.466484268125855, 0.4671232876712329, 0.46776406035665297, 0.46703296703296704, 0.4676753782668501, 0.46831955922865015, 0.4689655172413793, 0.468232044198895, 0.46887966804979253, 0.4695290858725762, 0.47018030513176146, 0.46870653685674546, 0.4700139470013947, 0.4692737430167598, 0.4699300699300699, 0.469187675070028, 0.46984572230014027, 0.4705056179775281, 0.4711673699015471, 0.47249647390691113, 0.4717514124293785, 0.4724186704384724, 0.4730878186968839, 0.47301136363636365, 0.47368421052631576, 0.47435897435897434, 0.47503566333808844, 0.4757142857142857, 0.47639484978540775, 0.47776183644189385, 0.47844827586206895, 0.479136690647482, 0.47982708933717577, 0.4805194805194805, 0.4797687861271676, 0.4804630969609262, 0.4818577648766328, 0.48255813953488375, 0.48180494905385735, 0.48250728862973763, 0.4832116788321168, 0.48391812865497075, 0.48316251830161056, 0.4838709677419355, 0.4852941176470588, 0.48600883652430044, 0.48525073746312686, 0.4859675036927622, 0.48668639053254437, 0.4874074074074074, 0.4895833333333333, 0.48878923766816146, 0.4894894894894895, 0.49022556390977445, 0.49096385542168675, 0.49019607843137253, 0.4909365558912387, 0.49016641452344933, 0.49165402124430957, 0.4908814589665654, 0.4901065449010654, 0.49085365853658536, 0.4900763358778626, 0.4946070878274268, 0.49537037037037035, 0.49613601236476046, 0.4953560371517028, 0.4945736434108527, 0.49611197511664074, 0.4968847352024922, 0.49765990639625585, 0.49843260188087773, 0.49921507064364207, 0.5, 0.5007874015748032, 0.5, 0.49921011058451814, 0.5, 0.5007923930269413, 0.5015873015873016, 0.5023847376788553, 0.5031847133757962, 0.5039872408293461, 0.5047923322683706, 0.5056, 0.5064102564102564, 0.5064308681672026, 0.5080645161290323, 0.5088852988691438, 0.5097087378640777, 0.5089141004862237, 0.5097402597402597, 0.511400651465798, 0.5122349102773246, 0.511437908496732, 0.5122749590834698, 0.5131147540983606, 0.5139573070607554, 0.5148026315789473, 0.5124378109452736, 0.515, 0.5158597662771286, 0.5167224080267558, 0.5175879396984925, 0.5184563758389261, 0.5160202360876898, 0.5152027027027027, 0.5160744500846024, 0.5169491525423728, 0.5178268251273345, 0.5187074829931972, 0.5195911413969335, 0.5204778156996587, 0.5213675213675214, 0.5205479452054794, 0.5197255574614065, 0.520618556701031, 0.5197934595524957, 0.5206896551724138, 0.5216637781629117, 0.5225694444444444, 0.5234782608695652, 0.524390243902439, 0.5235602094240838, 0.5244755244755245, 0.5236427320490368, 0.523725834797891, 0.5255731922398589, 0.5265017667844523, 0.5274336283185841, 0.526595744680851, 0.5284697508896797, 0.5286738351254481, 0.5296229802513465, 0.5287769784172662, 0.5297297297297298, 0.5298372513562387, 0.5307971014492754, 0.52994555353902, 0.5318761384335154, 0.531021897810219, 0.5319926873857403, 0.532967032967033, 0.5330882352941176, 0.5340699815837937, 0.5350553505535055, 0.5341959334565619, 0.5333333333333333, 0.5324675324675324, 0.533457249070632, 0.5344506517690876, 0.5364485981308411, 0.5355805243445693, 0.5365853658536586, 0.5375939849624061, 0.5386064030131826, 0.539622641509434, 0.5406427221172023, 0.5397727272727273, 0.540796963946869, 0.5428571428571428, 0.5438931297709924, 0.5459770114942529, 0.54510556621881, 0.5472061657032755, 0.5463320463320464, 0.5473887814313346, 0.5484496124031008, 0.5495145631067961, 0.5505836575875487, 0.5516569200779727, 0.5511811023622047, 0.5502958579881657, 0.5485148514851486, 0.5511022044088176, 0.5492957746478874, 0.5474747474747474, 0.5465587044534413, 0.5476673427991886, 0.5467479674796748, 0.5478615071283096, 0.5469387755102041, 0.5491803278688525, 0.5473251028806584, 0.5484536082474227, 0.5475206611570248, 0.5486542443064182, 0.549792531120332, 0.5509355509355509, 0.5511482254697286, 0.5502092050209205, 0.5513626834381551, 0.5525210084033614, 0.5520169851380042, 0.5531914893617021, 0.5522388059701493, 0.5512820512820513, 0.550321199143469, 0.5493562231759657, 0.5483870967741935, 0.5474137931034483, 0.5454545454545454, 0.5466377440347071, 0.5478260869565217, 0.5490196078431373, 0.5480349344978166, 0.5470459518599562, 0.5482456140350878, 0.5494505494505495, 0.5506607929515418, 0.5518763796909493, 0.5530973451327433, 0.5543237250554324, 0.5555555555555556, 0.5567928730512249, 0.5580357142857143, 0.5592841163310962, 0.5582959641255605, 0.5608108108108109, 0.5588235294117647, 0.5600907029478458, 0.5590909090909091, 0.5603644646924829, 0.5616438356164384, 0.5606407322654462, 0.5619266055045872, 0.5671296296296297, 0.568445475638051, 0.5674418604651162, 0.5687645687645687, 0.5704225352112676, 0.571764705882353, 0.5731132075471698, 0.574468085106383, 0.5734597156398105, 0.5748218527315915, 0.5779376498800959, 0.5793269230769231, 0.5783132530120482, 0.5797101449275363, 0.5811138014527845, 0.5800970873786407, 0.5790754257907542, 0.5780487804878048, 0.5794621026894865, 0.5808823529411765, 0.5823095823095823, 0.583743842364532, 0.5841584158415841, 0.5856079404466501, 0.5835411471321695, 0.585, 0.5864661654135338, 0.5869017632241813, 0.5858585858585859, 0.5848101265822785, 0.5862944162436549, 0.5877862595419847, 0.5871794871794872, 0.5861182519280206, 0.5876288659793815, 0.5891472868217055, 0.5906735751295337, 0.5896103896103896, 0.5911458333333334, 0.5900783289817232, 0.5890052356020943, 0.5894736842105263, 0.5910290237467019, 0.5925925925925926, 0.5915119363395226, 0.5930851063829787, 0.5946666666666667, 0.5962566844919787, 0.5978552278820375, 0.5994623655913979, 0.5983827493261455, 0.5994550408719346, 0.5983606557377049, 0.5972602739726027, 0.5950413223140496, 0.5966850828729282, 0.5983379501385041, 0.5972222222222222, 0.5988857938718662, 0.5966386554621849, 0.5971830985915493, 0.5988700564971752, 0.6005665722379604, 0.6057142857142858, 0.6045845272206304, 0.603448275862069, 0.6051873198847262, 0.6040462427745664, 0.6034985422740525, 0.6052631578947368, 0.6119402985074627, 0.6137724550898204, 0.6156156156156156, 0.6174698795180723, 0.6163141993957704, 0.6139817629179332, 0.6092307692307692, 0.6080246913580247, 0.6099071207430341, 0.6105919003115264, 0.6125, 0.6144200626959248, 0.6132075471698113, 0.61198738170347, 0.6107594936708861, 0.6095238095238096, 0.6121794871794872, 0.6141479099678456, 0.6176470588235294, 0.618421052631579, 0.6171617161716172, 0.6158940397350994, 0.6166666666666667, 0.6153846153846154, 0.6140939597315436, 0.6169491525423729, 0.6172413793103448, 0.6215277777777778, 0.6236933797909407, 0.6223776223776224, 0.6254416961130742, 0.6276595744680851, 0.6263345195729537, 0.6272401433691757, 0.6245487364620939, 0.6290909090909091, 0.6313868613138686, 0.6336996336996337, 0.6360294117647058, 0.6383763837638377, 0.6407407407407407, 0.6431226765799256, 0.6377358490566037, 0.6363636363636364, 0.6387832699619772, 0.6412213740458015, 0.6423076923076924, 0.640926640926641, 0.6434108527131783, 0.6431372549019608, 0.6417322834645669, 0.6403162055335968, 0.6414342629482072, 0.64, 0.642570281124498, 0.6504065040650406, 0.6557377049180327, 0.654320987654321, 0.6567796610169492, 0.6581196581196581, 0.6566523605150214, 0.669683257918552, 0.6757990867579908, 0.6820276497695853, 0.6851851851851852, 0.6883720930232559, 0.6869158878504673, 0.6901408450704225, 0.6933962264150944, 0.6966824644549763, 0.7, 0.7033492822966507, 0.7019230769230769, 0.7044334975369458, 0.7070707070707071, 0.7055837563451777, 0.7091836734693877, 0.703125, 0.7068062827225131, 0.7052631578947368, 0.708994708994709, 0.7074468085106383, 0.7112299465240641, 0.7071823204419889, 0.7111111111111111, 0.7078651685393258, 0.711864406779661, 0.7102272727272727, 0.7142857142857143, 0.7167630057803468, 0.7151162790697675, 0.7134502923976608, 0.7176470588235294, 0.7125748502994012, 0.7168674698795181, 0.7151515151515152, 0.7133757961783439, 0.7115384615384616, 0.7189542483660131, 0.7236842105263158, 0.7218543046357616, 0.72, 0.7162162162162162, 0.726027397260274, 0.7310344827586207, 0.7291666666666666, 0.7342657342657343, 0.7394366197183099, 0.75, 0.7553956834532374, 0.7591240875912408, 0.7573529411764706, 0.7555555555555555, 0.753731343283582, 0.7518796992481203, 0.7461538461538462, 0.751937984496124, 0.7480314960629921, 0.744, 0.7419354838709677, 0.7398373983739838, 0.7459016393442623, 0.743801652892562, 0.7416666666666667, 0.7478991596638656, 0.7457627118644068, 0.7452830188679245, 0.7523809523809524, 0.7596153846153846, 0.77, 0.7777777777777778, 0.7755102040816326, 0.78125, 0.782608695652174, 0.8, 0.797752808988764, 0.7954545454545454, 0.7931034482758621, 0.8, 0.7976190476190477, 0.7875, 0.7848101265822784, 0.782051282051282, 0.8, 0.7972972972972973, 0.7945205479452054, 0.8115942028985508, 0.8235294117647058, 0.835820895522388, 0.8484848484848485, 0.8461538461538461, 0.8412698412698413, 0.8387096774193549, 0.8524590163934426, 0.847457627118644, 0.8448275862068966, 0.8421052631578947, 0.8571428571428571, 0.8461538461538461, 0.86, 0.8541666666666666, 0.8604651162790697, 0.85, 0.8461538461538461, 0.8421052631578947, 0.8378378378378378, 0.8333333333333334, 0.8064516129032258, 0.8571428571428571, 0.8518518518518519, 0.84, 0.8260869565217391, 0.8181818181818182, 0.8, 0.7692307692307693, 0.7142857142857143, 0.8333333333333334, 0.8, 1.0]}, {\"mode\": \"lines\", \"name\": \"CAT\", \"type\": \"scatter\", \"x\": [1.0, 0.9973262032085561, 0.9973262032085561, 0.9973262032085561, 0.9973262032085561, 0.9973262032085561, 0.9973262032085561, 0.9973262032085561, 0.9973262032085561, 0.9973262032085561, 0.9973262032085561, 0.9973262032085561, 0.9973262032085561, 0.9973262032085561, 0.9973262032085561, 0.9973262032085561, 0.9973262032085561, 0.9973262032085561, 0.9973262032085561, 0.9973262032085561, 0.9973262032085561, 0.9973262032085561, 0.9973262032085561, 0.9973262032085561, 0.9973262032085561, 0.9973262032085561, 0.9973262032085561, 0.9973262032085561, 0.9973262032085561, 0.9973262032085561, 0.9973262032085561, 0.9973262032085561, 0.9973262032085561, 0.9973262032085561, 0.9973262032085561, 0.9973262032085561, 0.9973262032085561, 0.9973262032085561, 0.9973262032085561, 0.9973262032085561, 0.9973262032085561, 0.9973262032085561, 0.9973262032085561, 0.9973262032085561, 0.9973262032085561, 0.9973262032085561, 0.9973262032085561, 0.9973262032085561, 0.9946524064171123, 0.9946524064171123, 0.9946524064171123, 0.9946524064171123, 0.9946524064171123, 0.9946524064171123, 0.9946524064171123, 0.9946524064171123, 0.9946524064171123, 0.9946524064171123, 0.9946524064171123, 0.9946524064171123, 0.9946524064171123, 0.9946524064171123, 0.9946524064171123, 0.9946524064171123, 0.9946524064171123, 0.9946524064171123, 0.9946524064171123, 0.9946524064171123, 0.9946524064171123, 0.9946524064171123, 0.9946524064171123, 0.9946524064171123, 0.9946524064171123, 0.9946524064171123, 0.9946524064171123, 0.9946524064171123, 0.9946524064171123, 0.9946524064171123, 0.9946524064171123, 0.9946524064171123, 0.9946524064171123, 0.9946524064171123, 0.9946524064171123, 0.9946524064171123, 0.9946524064171123, 0.9946524064171123, 0.9946524064171123, 0.9946524064171123, 0.9946524064171123, 0.9946524064171123, 0.9946524064171123, 0.9946524064171123, 0.9946524064171123, 0.9946524064171123, 0.9946524064171123, 0.9946524064171123, 0.9946524064171123, 0.9946524064171123, 0.9946524064171123, 0.9946524064171123, 0.9946524064171123, 0.9919786096256684, 0.9919786096256684, 0.9919786096256684, 0.9919786096256684, 0.9919786096256684, 0.9919786096256684, 0.9919786096256684, 0.9919786096256684, 0.9919786096256684, 0.9919786096256684, 0.9919786096256684, 0.9919786096256684, 0.9919786096256684, 0.9919786096256684, 0.9919786096256684, 0.9919786096256684, 0.9919786096256684, 0.9919786096256684, 0.9919786096256684, 0.9919786096256684, 0.9919786096256684, 0.9919786096256684, 0.9919786096256684, 0.9919786096256684, 0.9919786096256684, 0.9919786096256684, 0.9919786096256684, 0.9919786096256684, 0.9919786096256684, 0.9919786096256684, 0.9919786096256684, 0.9919786096256684, 0.9919786096256684, 0.9919786096256684, 0.9919786096256684, 0.9919786096256684, 0.9919786096256684, 0.9919786096256684, 0.9919786096256684, 0.9919786096256684, 0.9919786096256684, 0.9919786096256684, 0.9919786096256684, 0.9919786096256684, 0.9919786096256684, 0.9919786096256684, 0.9919786096256684, 0.9919786096256684, 0.9919786096256684, 0.9919786096256684, 0.9919786096256684, 0.9919786096256684, 0.9919786096256684, 0.9919786096256684, 0.9919786096256684, 0.9919786096256684, 0.9919786096256684, 0.9919786096256684, 0.9919786096256684, 0.9919786096256684, 0.9919786096256684, 0.9919786096256684, 0.9919786096256684, 0.9893048128342246, 0.9893048128342246, 0.9893048128342246, 0.9893048128342246, 0.9893048128342246, 0.9893048128342246, 0.9893048128342246, 0.9893048128342246, 0.9893048128342246, 0.9893048128342246, 0.9893048128342246, 0.9893048128342246, 0.9893048128342246, 0.9893048128342246, 0.9893048128342246, 0.9893048128342246, 0.9893048128342246, 0.9893048128342246, 0.9893048128342246, 0.9893048128342246, 0.9893048128342246, 0.9893048128342246, 0.9893048128342246, 0.9893048128342246, 0.9893048128342246, 0.9893048128342246, 0.9893048128342246, 0.9893048128342246, 0.9893048128342246, 0.9893048128342246, 0.9893048128342246, 0.9893048128342246, 0.9893048128342246, 0.9893048128342246, 0.9893048128342246, 0.9893048128342246, 0.9893048128342246, 0.9893048128342246, 0.9893048128342246, 0.9893048128342246, 0.9893048128342246, 0.9893048128342246, 0.9893048128342246, 0.9893048128342246, 0.9893048128342246, 0.9893048128342246, 0.9893048128342246, 0.9866310160427807, 0.9866310160427807, 0.9866310160427807, 0.9866310160427807, 0.9866310160427807, 0.9866310160427807, 0.9866310160427807, 0.9866310160427807, 0.9866310160427807, 0.9866310160427807, 0.9866310160427807, 0.983957219251337, 0.983957219251337, 0.983957219251337, 0.983957219251337, 0.983957219251337, 0.983957219251337, 0.983957219251337, 0.983957219251337, 0.983957219251337, 0.983957219251337, 0.983957219251337, 0.983957219251337, 0.983957219251337, 0.983957219251337, 0.983957219251337, 0.983957219251337, 0.983957219251337, 0.983957219251337, 0.983957219251337, 0.983957219251337, 0.983957219251337, 0.983957219251337, 0.983957219251337, 0.983957219251337, 0.983957219251337, 0.983957219251337, 0.983957219251337, 0.983957219251337, 0.983957219251337, 0.983957219251337, 0.983957219251337, 0.983957219251337, 0.983957219251337, 0.983957219251337, 0.983957219251337, 0.983957219251337, 0.983957219251337, 0.983957219251337, 0.983957219251337, 0.983957219251337, 0.983957219251337, 0.983957219251337, 0.983957219251337, 0.983957219251337, 0.983957219251337, 0.983957219251337, 0.983957219251337, 0.983957219251337, 0.983957219251337, 0.983957219251337, 0.983957219251337, 0.983957219251337, 0.983957219251337, 0.983957219251337, 0.983957219251337, 0.983957219251337, 0.983957219251337, 0.983957219251337, 0.983957219251337, 0.983957219251337, 0.9812834224598931, 0.9812834224598931, 0.9812834224598931, 0.9812834224598931, 0.9812834224598931, 0.9812834224598931, 0.9812834224598931, 0.9812834224598931, 0.9812834224598931, 0.9812834224598931, 0.9812834224598931, 0.9812834224598931, 0.9812834224598931, 0.9812834224598931, 0.9812834224598931, 0.9786096256684492, 0.9786096256684492, 0.9786096256684492, 0.9786096256684492, 0.9759358288770054, 0.9759358288770054, 0.9759358288770054, 0.9759358288770054, 0.9732620320855615, 0.9732620320855615, 0.9732620320855615, 0.9705882352941176, 0.9705882352941176, 0.9705882352941176, 0.9705882352941176, 0.9705882352941176, 0.9705882352941176, 0.9705882352941176, 0.9705882352941176, 0.9705882352941176, 0.9705882352941176, 0.9705882352941176, 0.9705882352941176, 0.9705882352941176, 0.9679144385026738, 0.9679144385026738, 0.9679144385026738, 0.9679144385026738, 0.9679144385026738, 0.9679144385026738, 0.9679144385026738, 0.9679144385026738, 0.9679144385026738, 0.9679144385026738, 0.9679144385026738, 0.9679144385026738, 0.9679144385026738, 0.9679144385026738, 0.9679144385026738, 0.9652406417112299, 0.9625668449197861, 0.9625668449197861, 0.9598930481283422, 0.9572192513368984, 0.9572192513368984, 0.9572192513368984, 0.9572192513368984, 0.9572192513368984, 0.9572192513368984, 0.9572192513368984, 0.9572192513368984, 0.9572192513368984, 0.9572192513368984, 0.9572192513368984, 0.9572192513368984, 0.9572192513368984, 0.9572192513368984, 0.9572192513368984, 0.9572192513368984, 0.9572192513368984, 0.9572192513368984, 0.9545454545454546, 0.9545454545454546, 0.9545454545454546, 0.9545454545454546, 0.9545454545454546, 0.9545454545454546, 0.9545454545454546, 0.9545454545454546, 0.9545454545454546, 0.9545454545454546, 0.9545454545454546, 0.9545454545454546, 0.9545454545454546, 0.9545454545454546, 0.9545454545454546, 0.9518716577540107, 0.9518716577540107, 0.9518716577540107, 0.9518716577540107, 0.9518716577540107, 0.9518716577540107, 0.9518716577540107, 0.9518716577540107, 0.9518716577540107, 0.9518716577540107, 0.9518716577540107, 0.9518716577540107, 0.9518716577540107, 0.9518716577540107, 0.9491978609625669, 0.9491978609625669, 0.9491978609625669, 0.9491978609625669, 0.9491978609625669, 0.9491978609625669, 0.9491978609625669, 0.9491978609625669, 0.946524064171123, 0.946524064171123, 0.946524064171123, 0.946524064171123, 0.946524064171123, 0.946524064171123, 0.946524064171123, 0.946524064171123, 0.946524064171123, 0.946524064171123, 0.946524064171123, 0.946524064171123, 0.9438502673796791, 0.9438502673796791, 0.9438502673796791, 0.9438502673796791, 0.9438502673796791, 0.9438502673796791, 0.9438502673796791, 0.9438502673796791, 0.9438502673796791, 0.9438502673796791, 0.9411764705882353, 0.9411764705882353, 0.9411764705882353, 0.9411764705882353, 0.9411764705882353, 0.9411764705882353, 0.9411764705882353, 0.9411764705882353, 0.9411764705882353, 0.9411764705882353, 0.9385026737967914, 0.9385026737967914, 0.9385026737967914, 0.9385026737967914, 0.9385026737967914, 0.9358288770053476, 0.9358288770053476, 0.9358288770053476, 0.9358288770053476, 0.9358288770053476, 0.9358288770053476, 0.9358288770053476, 0.9358288770053476, 0.9358288770053476, 0.9358288770053476, 0.9331550802139037, 0.9331550802139037, 0.9331550802139037, 0.9331550802139037, 0.9331550802139037, 0.9331550802139037, 0.9331550802139037, 0.93048128342246, 0.93048128342246, 0.93048128342246, 0.93048128342246, 0.93048128342246, 0.93048128342246, 0.93048128342246, 0.9278074866310161, 0.9278074866310161, 0.9251336898395722, 0.9251336898395722, 0.9251336898395722, 0.9224598930481284, 0.9224598930481284, 0.9224598930481284, 0.9224598930481284, 0.9224598930481284, 0.9224598930481284, 0.9197860962566845, 0.9197860962566845, 0.9197860962566845, 0.9197860962566845, 0.9171122994652406, 0.9171122994652406, 0.9171122994652406, 0.9171122994652406, 0.9171122994652406, 0.9171122994652406, 0.9171122994652406, 0.9171122994652406, 0.9171122994652406, 0.9171122994652406, 0.9171122994652406, 0.9171122994652406, 0.9144385026737968, 0.9117647058823529, 0.9090909090909091, 0.9090909090909091, 0.9090909090909091, 0.9090909090909091, 0.9090909090909091, 0.9090909090909091, 0.9090909090909091, 0.9090909090909091, 0.9090909090909091, 0.9064171122994652, 0.9064171122994652, 0.9064171122994652, 0.9037433155080213, 0.9037433155080213, 0.9037433155080213, 0.9037433155080213, 0.9037433155080213, 0.9037433155080213, 0.9010695187165776, 0.9010695187165776, 0.9010695187165776, 0.9010695187165776, 0.9010695187165776, 0.8983957219251337, 0.8983957219251337, 0.8957219251336899, 0.8957219251336899, 0.8957219251336899, 0.8957219251336899, 0.8957219251336899, 0.8957219251336899, 0.8957219251336899, 0.8957219251336899, 0.8957219251336899, 0.8957219251336899, 0.8957219251336899, 0.8957219251336899, 0.8957219251336899, 0.8957219251336899, 0.8957219251336899, 0.8957219251336899, 0.893048128342246, 0.893048128342246, 0.893048128342246, 0.893048128342246, 0.893048128342246, 0.8903743315508021, 0.8903743315508021, 0.8903743315508021, 0.8903743315508021, 0.8903743315508021, 0.8903743315508021, 0.8877005347593583, 0.8877005347593583, 0.8877005347593583, 0.8877005347593583, 0.8877005347593583, 0.8877005347593583, 0.8877005347593583, 0.8877005347593583, 0.8877005347593583, 0.8877005347593583, 0.8877005347593583, 0.8877005347593583, 0.8877005347593583, 0.8877005347593583, 0.8877005347593583, 0.8877005347593583, 0.8877005347593583, 0.8877005347593583, 0.8877005347593583, 0.8877005347593583, 0.8877005347593583, 0.8877005347593583, 0.8877005347593583, 0.8877005347593583, 0.8877005347593583, 0.8877005347593583, 0.8877005347593583, 0.8877005347593583, 0.8850267379679144, 0.8823529411764706, 0.8823529411764706, 0.8823529411764706, 0.8823529411764706, 0.8823529411764706, 0.8823529411764706, 0.8823529411764706, 0.8823529411764706, 0.8796791443850267, 0.8770053475935828, 0.8770053475935828, 0.8770053475935828, 0.8770053475935828, 0.8770053475935828, 0.8743315508021391, 0.8743315508021391, 0.8716577540106952, 0.8689839572192514, 0.8689839572192514, 0.8689839572192514, 0.8663101604278075, 0.8663101604278075, 0.8663101604278075, 0.8663101604278075, 0.8663101604278075, 0.8663101604278075, 0.8663101604278075, 0.8636363636363636, 0.8636363636363636, 0.8636363636363636, 0.8636363636363636, 0.8636363636363636, 0.8636363636363636, 0.8636363636363636, 0.8636363636363636, 0.8636363636363636, 0.8636363636363636, 0.8636363636363636, 0.8636363636363636, 0.8609625668449198, 0.8609625668449198, 0.8582887700534759, 0.8582887700534759, 0.8582887700534759, 0.8556149732620321, 0.8556149732620321, 0.8556149732620321, 0.8556149732620321, 0.8556149732620321, 0.8556149732620321, 0.8556149732620321, 0.8556149732620321, 0.8556149732620321, 0.8556149732620321, 0.8556149732620321, 0.8556149732620321, 0.8556149732620321, 0.8556149732620321, 0.8556149732620321, 0.8556149732620321, 0.8556149732620321, 0.8529411764705882, 0.8529411764705882, 0.8529411764705882, 0.8529411764705882, 0.8529411764705882, 0.8502673796791443, 0.8475935828877005, 0.8475935828877005, 0.8449197860962567, 0.8449197860962567, 0.8422459893048129, 0.839572192513369, 0.839572192513369, 0.839572192513369, 0.8368983957219251, 0.8368983957219251, 0.8368983957219251, 0.8368983957219251, 0.8368983957219251, 0.8368983957219251, 0.8368983957219251, 0.8368983957219251, 0.8342245989304813, 0.8342245989304813, 0.8315508021390374, 0.8315508021390374, 0.8315508021390374, 0.8315508021390374, 0.8315508021390374, 0.8288770053475936, 0.8262032085561497, 0.8235294117647058, 0.820855614973262, 0.820855614973262, 0.820855614973262, 0.820855614973262, 0.8181818181818182, 0.8181818181818182, 0.8181818181818182, 0.8181818181818182, 0.8181818181818182, 0.8181818181818182, 0.8181818181818182, 0.8155080213903744, 0.8128342245989305, 0.8128342245989305, 0.8128342245989305, 0.8128342245989305, 0.8128342245989305, 0.8128342245989305, 0.8128342245989305, 0.8128342245989305, 0.8101604278074866, 0.8101604278074866, 0.8101604278074866, 0.8101604278074866, 0.8074866310160428, 0.8074866310160428, 0.8074866310160428, 0.8074866310160428, 0.8074866310160428, 0.8074866310160428, 0.8074866310160428, 0.8074866310160428, 0.8048128342245989, 0.8048128342245989, 0.8048128342245989, 0.8048128342245989, 0.8048128342245989, 0.8048128342245989, 0.8048128342245989, 0.8048128342245989, 0.8048128342245989, 0.8048128342245989, 0.8048128342245989, 0.8048128342245989, 0.8048128342245989, 0.8048128342245989, 0.8021390374331551, 0.8021390374331551, 0.8021390374331551, 0.8021390374331551, 0.8021390374331551, 0.8021390374331551, 0.7994652406417112, 0.7994652406417112, 0.7994652406417112, 0.7967914438502673, 0.7967914438502673, 0.7967914438502673, 0.7967914438502673, 0.7967914438502673, 0.7967914438502673, 0.7967914438502673, 0.7967914438502673, 0.7967914438502673, 0.7967914438502673, 0.7967914438502673, 0.7967914438502673, 0.7967914438502673, 0.7967914438502673, 0.7967914438502673, 0.7967914438502673, 0.7967914438502673, 0.7967914438502673, 0.7967914438502673, 0.7967914438502673, 0.7967914438502673, 0.7967914438502673, 0.7967914438502673, 0.7941176470588235, 0.7941176470588235, 0.7941176470588235, 0.7914438502673797, 0.7914438502673797, 0.7914438502673797, 0.7914438502673797, 0.7914438502673797, 0.7914438502673797, 0.7914438502673797, 0.7914438502673797, 0.7914438502673797, 0.7887700534759359, 0.7887700534759359, 0.786096256684492, 0.786096256684492, 0.7834224598930482, 0.7834224598930482, 0.7834224598930482, 0.7834224598930482, 0.7807486631016043, 0.7807486631016043, 0.7807486631016043, 0.7807486631016043, 0.7807486631016043, 0.7807486631016043, 0.7807486631016043, 0.7780748663101604, 0.7780748663101604, 0.7780748663101604, 0.7754010695187166, 0.7754010695187166, 0.7754010695187166, 0.7754010695187166, 0.7727272727272727, 0.7700534759358288, 0.7700534759358288, 0.7700534759358288, 0.7700534759358288, 0.767379679144385, 0.767379679144385, 0.767379679144385, 0.7647058823529411, 0.7647058823529411, 0.7620320855614974, 0.7593582887700535, 0.7566844919786097, 0.7566844919786097, 0.7566844919786097, 0.7566844919786097, 0.7540106951871658, 0.7540106951871658, 0.7513368983957219, 0.7513368983957219, 0.7513368983957219, 0.7513368983957219, 0.7513368983957219, 0.7486631016042781, 0.7486631016042781, 0.7486631016042781, 0.7459893048128342, 0.7459893048128342, 0.7433155080213903, 0.7433155080213903, 0.7433155080213903, 0.7406417112299465, 0.7379679144385026, 0.7379679144385026, 0.7379679144385026, 0.7379679144385026, 0.7352941176470589, 0.732620320855615, 0.732620320855615, 0.732620320855615, 0.732620320855615, 0.732620320855615, 0.7299465240641712, 0.7299465240641712, 0.7299465240641712, 0.7299465240641712, 0.7272727272727273, 0.7245989304812834, 0.7219251336898396, 0.7219251336898396, 0.7219251336898396, 0.7219251336898396, 0.7219251336898396, 0.7219251336898396, 0.7219251336898396, 0.7219251336898396, 0.7219251336898396, 0.7219251336898396, 0.7192513368983957, 0.7165775401069518, 0.7165775401069518, 0.713903743315508, 0.7112299465240641, 0.7112299465240641, 0.7112299465240641, 0.7085561497326203, 0.7085561497326203, 0.7058823529411765, 0.7058823529411765, 0.7058823529411765, 0.7058823529411765, 0.7032085561497327, 0.7032085561497327, 0.7032085561497327, 0.7005347593582888, 0.7005347593582888, 0.7005347593582888, 0.6978609625668449, 0.6978609625668449, 0.6978609625668449, 0.6978609625668449, 0.6951871657754011, 0.6925133689839572, 0.6925133689839572, 0.6925133689839572, 0.6925133689839572, 0.6925133689839572, 0.6925133689839572, 0.6898395721925134, 0.6898395721925134, 0.6898395721925134, 0.6898395721925134, 0.6898395721925134, 0.6871657754010695, 0.6871657754010695, 0.6871657754010695, 0.6871657754010695, 0.6844919786096256, 0.6844919786096256, 0.6844919786096256, 0.6818181818181818, 0.6818181818181818, 0.679144385026738, 0.679144385026738, 0.679144385026738, 0.679144385026738, 0.6764705882352942, 0.6764705882352942, 0.6764705882352942, 0.6764705882352942, 0.6737967914438503, 0.6737967914438503, 0.6737967914438503, 0.6737967914438503, 0.6737967914438503, 0.6737967914438503, 0.6711229946524064, 0.6711229946524064, 0.6711229946524064, 0.6711229946524064, 0.6711229946524064, 0.6711229946524064, 0.6711229946524064, 0.6711229946524064, 0.6711229946524064, 0.6684491978609626, 0.6684491978609626, 0.6657754010695187, 0.6657754010695187, 0.6631016042780749, 0.6631016042780749, 0.6631016042780749, 0.660427807486631, 0.6577540106951871, 0.6550802139037433, 0.6550802139037433, 0.6550802139037433, 0.6524064171122995, 0.6524064171122995, 0.6524064171122995, 0.6497326203208557, 0.6470588235294118, 0.6443850267379679, 0.6443850267379679, 0.6443850267379679, 0.6417112299465241, 0.6390374331550802, 0.6390374331550802, 0.6363636363636364, 0.6363636363636364, 0.6363636363636364, 0.6363636363636364, 0.6363636363636364, 0.6363636363636364, 0.6336898395721925, 0.6310160427807486, 0.6283422459893048, 0.6283422459893048, 0.6283422459893048, 0.6283422459893048, 0.6283422459893048, 0.6283422459893048, 0.6256684491978609, 0.6256684491978609, 0.6229946524064172, 0.6229946524064172, 0.6203208556149733, 0.6203208556149733, 0.6176470588235294, 0.6176470588235294, 0.6149732620320856, 0.6122994652406417, 0.6096256684491979, 0.606951871657754, 0.606951871657754, 0.606951871657754, 0.6042780748663101, 0.6042780748663101, 0.6042780748663101, 0.6042780748663101, 0.6042780748663101, 0.6016042780748663, 0.6016042780748663, 0.6016042780748663, 0.6016042780748663, 0.5989304812834224, 0.5989304812834224, 0.5989304812834224, 0.5962566844919787, 0.5962566844919787, 0.5935828877005348, 0.5935828877005348, 0.5935828877005348, 0.5909090909090909, 0.5909090909090909, 0.5909090909090909, 0.5882352941176471, 0.5882352941176471, 0.5882352941176471, 0.5882352941176471, 0.5882352941176471, 0.5882352941176471, 0.5855614973262032, 0.5828877005347594, 0.5828877005347594, 0.5802139037433155, 0.5775401069518716, 0.5775401069518716, 0.5775401069518716, 0.5775401069518716, 0.5775401069518716, 0.5775401069518716, 0.5748663101604278, 0.5748663101604278, 0.5748663101604278, 0.5721925133689839, 0.5721925133689839, 0.56951871657754, 0.56951871657754, 0.5668449197860963, 0.5641711229946524, 0.5641711229946524, 0.5614973262032086, 0.5614973262032086, 0.5588235294117647, 0.5561497326203209, 0.5561497326203209, 0.5561497326203209, 0.553475935828877, 0.5508021390374331, 0.5481283422459893, 0.5481283422459893, 0.5454545454545454, 0.5427807486631016, 0.5427807486631016, 0.5401069518716578, 0.5401069518716578, 0.5401069518716578, 0.5374331550802139, 0.5347593582887701, 0.5320855614973262, 0.5320855614973262, 0.5320855614973262, 0.5320855614973262, 0.5294117647058824, 0.5294117647058824, 0.5267379679144385, 0.5240641711229946, 0.5240641711229946, 0.5240641711229946, 0.5240641711229946, 0.5240641711229946, 0.5213903743315508, 0.5187165775401069, 0.5187165775401069, 0.5187165775401069, 0.5187165775401069, 0.5187165775401069, 0.5187165775401069, 0.516042780748663, 0.516042780748663, 0.5133689839572193, 0.5133689839572193, 0.5106951871657754, 0.5106951871657754, 0.5106951871657754, 0.5106951871657754, 0.5106951871657754, 0.5106951871657754, 0.5080213903743316, 0.5080213903743316, 0.5080213903743316, 0.5053475935828877, 0.5053475935828877, 0.5026737967914439, 0.5, 0.5, 0.5, 0.5, 0.5, 0.5, 0.49732620320855614, 0.49732620320855614, 0.4946524064171123, 0.4919786096256685, 0.4893048128342246, 0.48663101604278075, 0.48663101604278075, 0.48663101604278075, 0.48663101604278075, 0.48663101604278075, 0.48663101604278075, 0.4839572192513369, 0.4839572192513369, 0.4839572192513369, 0.48128342245989303, 0.4786096256684492, 0.47593582887700536, 0.47593582887700536, 0.47593582887700536, 0.4732620320855615, 0.4732620320855615, 0.47058823529411764, 0.4679144385026738, 0.4679144385026738, 0.46524064171123, 0.4625668449197861, 0.45989304812834225, 0.4572192513368984, 0.4572192513368984, 0.4572192513368984, 0.45454545454545453, 0.45454545454545453, 0.45454545454545453, 0.45454545454545453, 0.45454545454545453, 0.45187165775401067, 0.45187165775401067, 0.44919786096256686, 0.44919786096256686, 0.446524064171123, 0.44385026737967914, 0.44385026737967914, 0.4411764705882353, 0.4411764705882353, 0.4385026737967914, 0.4358288770053476, 0.4358288770053476, 0.4358288770053476, 0.43315508021390375, 0.4304812834224599, 0.4304812834224599, 0.42780748663101603, 0.42513368983957217, 0.42245989304812837, 0.42245989304812837, 0.4197860962566845, 0.4197860962566845, 0.4197860962566845, 0.4197860962566845, 0.4197860962566845, 0.41711229946524064, 0.4144385026737968, 0.4144385026737968, 0.4117647058823529, 0.4090909090909091, 0.4090909090909091, 0.40641711229946526, 0.4037433155080214, 0.4037433155080214, 0.4037433155080214, 0.40106951871657753, 0.40106951871657753, 0.40106951871657753, 0.3983957219251337, 0.39572192513368987, 0.393048128342246, 0.393048128342246, 0.39037433155080214, 0.39037433155080214, 0.3877005347593583, 0.3877005347593583, 0.3850267379679144, 0.3850267379679144, 0.3850267379679144, 0.3850267379679144, 0.38235294117647056, 0.37967914438502676, 0.3770053475935829, 0.3770053475935829, 0.37433155080213903, 0.37433155080213903, 0.37433155080213903, 0.37433155080213903, 0.37433155080213903, 0.3716577540106952, 0.3716577540106952, 0.3689839572192513, 0.3663101604278075, 0.3663101604278075, 0.36363636363636365, 0.36363636363636365, 0.3609625668449198, 0.3609625668449198, 0.3609625668449198, 0.3582887700534759, 0.3582887700534759, 0.3582887700534759, 0.35561497326203206, 0.35294117647058826, 0.3502673796791444, 0.34759358288770054, 0.34759358288770054, 0.3449197860962567, 0.3449197860962567, 0.3449197860962567, 0.3449197860962567, 0.3449197860962567, 0.3422459893048128, 0.3422459893048128, 0.339572192513369, 0.339572192513369, 0.339572192513369, 0.339572192513369, 0.339572192513369, 0.33689839572192515, 0.33689839572192515, 0.33689839572192515, 0.3342245989304813, 0.3342245989304813, 0.3342245989304813, 0.3315508021390374, 0.32887700534759357, 0.32887700534759357, 0.32620320855614976, 0.32620320855614976, 0.3235294117647059, 0.32085561497326204, 0.32085561497326204, 0.3181818181818182, 0.3181818181818182, 0.3155080213903743, 0.3155080213903743, 0.31283422459893045, 0.31016042780748665, 0.3074866310160428, 0.3048128342245989, 0.30213903743315507, 0.2994652406417112, 0.2967914438502674, 0.29411764705882354, 0.2914438502673797, 0.2887700534759358, 0.2887700534759358, 0.2887700534759358, 0.28609625668449196, 0.28609625668449196, 0.28609625668449196, 0.28342245989304815, 0.28342245989304815, 0.2807486631016043, 0.2807486631016043, 0.27807486631016043, 0.27807486631016043, 0.27540106951871657, 0.27540106951871657, 0.2727272727272727, 0.2700534759358289, 0.26737967914438504, 0.26737967914438504, 0.26737967914438504, 0.2647058823529412, 0.2647058823529412, 0.2647058823529412, 0.2620320855614973, 0.25935828877005346, 0.25668449197860965, 0.2540106951871658, 0.2540106951871658, 0.25133689839572193, 0.24866310160427807, 0.24598930481283424, 0.24331550802139038, 0.24331550802139038, 0.24064171122994651, 0.23796791443850268, 0.23529411764705882, 0.23529411764705882, 0.23529411764705882, 0.232620320855615, 0.22994652406417113, 0.22994652406417113, 0.22994652406417113, 0.22994652406417113, 0.22994652406417113, 0.22727272727272727, 0.22459893048128343, 0.22192513368983957, 0.2192513368983957, 0.21657754010695188, 0.21390374331550802, 0.21122994652406418, 0.20855614973262032, 0.20588235294117646, 0.20588235294117646, 0.20320855614973263, 0.20053475935828877, 0.19786096256684493, 0.19786096256684493, 0.19518716577540107, 0.19518716577540107, 0.19518716577540107, 0.1925133689839572, 0.18983957219251338, 0.18716577540106952, 0.18716577540106952, 0.18716577540106952, 0.18716577540106952, 0.18449197860962566, 0.18181818181818182, 0.17914438502673796, 0.17914438502673796, 0.17647058823529413, 0.17647058823529413, 0.17379679144385027, 0.1711229946524064, 0.16844919786096257, 0.16844919786096257, 0.16844919786096257, 0.1657754010695187, 0.16310160427807488, 0.16310160427807488, 0.16042780748663102, 0.16042780748663102, 0.15775401069518716, 0.15775401069518716, 0.15508021390374332, 0.15240641711229946, 0.15240641711229946, 0.1497326203208556, 0.14705882352941177, 0.1443850267379679, 0.14171122994652408, 0.13903743315508021, 0.13636363636363635, 0.13636363636363635, 0.13368983957219252, 0.13368983957219252, 0.13368983957219252, 0.13368983957219252, 0.13101604278074866, 0.13101604278074866, 0.13101604278074866, 0.13101604278074866, 0.12834224598930483, 0.12834224598930483, 0.12566844919786097, 0.12299465240641712, 0.12032085561497326, 0.11764705882352941, 0.11497326203208556, 0.11229946524064172, 0.11229946524064172, 0.10962566844919786, 0.10695187165775401, 0.10427807486631016, 0.10160427807486631, 0.09893048128342247, 0.09893048128342247, 0.0962566844919786, 0.09358288770053476, 0.09090909090909091, 0.08823529411764706, 0.0855614973262032, 0.08288770053475936, 0.08021390374331551, 0.07754010695187166, 0.07754010695187166, 0.07754010695187166, 0.0748663101604278, 0.07219251336898395, 0.06951871657754011, 0.06684491978609626, 0.06684491978609626, 0.06417112299465241, 0.06149732620320856, 0.058823529411764705, 0.05614973262032086, 0.053475935828877004, 0.05080213903743316, 0.05080213903743316, 0.0481283422459893, 0.0481283422459893, 0.045454545454545456, 0.0427807486631016, 0.0427807486631016, 0.0427807486631016, 0.040106951871657755, 0.040106951871657755, 0.0374331550802139, 0.034759358288770054, 0.03208556149732621, 0.029411764705882353, 0.026737967914438502, 0.02406417112299465, 0.0213903743315508, 0.01871657754010695, 0.016042780748663103, 0.013368983957219251, 0.0106951871657754, 0.008021390374331552, 0.0053475935828877, 0.00267379679144385, 0.0], \"y\": [0.27419354838709675, 0.2736610418195158, 0.27386196769456683, 0.27406318883174136, 0.27426470588235297, 0.2744665194996321, 0.27466863033873345, 0.2748710390567428, 0.2750737463126844, 0.27527675276752767, 0.275480059084195, 0.2756836659275684, 0.27588757396449703, 0.27609178386380456, 0.2762962962962963, 0.2765011119347665, 0.2767062314540059, 0.2769116555308092, 0.2771173848439822, 0.27732342007434946, 0.2775297619047619, 0.27773641102010427, 0.2779433681073025, 0.27815063385533184, 0.2783582089552239, 0.27856609410007466, 0.2787742899850523, 0.27898279730740466, 0.2791916167664671, 0.2794007490636704, 0.27961019490254874, 0.2798199549887472, 0.28003003003003, 0.2802404207362885, 0.2804511278195489, 0.2806621519939804, 0.2808734939759036, 0.28108515448379806, 0.2812971342383107, 0.28150943396226413, 0.28172205438066467, 0.2819349962207105, 0.2821482602118003, 0.28236184708554124, 0.2825757575757576, 0.28278999241849884, 0.2830045523520486, 0.2832194381169324, 0.2826747720364742, 0.2828897338403042, 0.2831050228310502, 0.2833206397562833, 0.28353658536585363, 0.2837528604118993, 0.28396946564885495, 0.28418640183346067, 0.28440366972477066, 0.2846212700841622, 0.28483920367534454, 0.2850574712643678, 0.2852760736196319, 0.2854950115118956, 0.2857142857142857, 0.2859338970023059, 0.28615384615384615, 0.2863741339491917, 0.28659476117103233, 0.28681572860447185, 0.28703703703703703, 0.28725868725868725, 0.2874806800618238, 0.2877030162412993, 0.28792569659442724, 0.2881487219209915, 0.28837209302325584, 0.2885958107059736, 0.2888198757763975, 0.289044289044289, 0.2892690513219285, 0.28949416342412454, 0.2897196261682243, 0.2899454403741232, 0.29017160686427457, 0.2903981264637002, 0.290625, 0.290852228303362, 0.29107981220657275, 0.2913077525450274, 0.29153605015673983, 0.2917647058823529, 0.29199372056514916, 0.2922230950510605, 0.29245283018867924, 0.2926829268292683, 0.2929133858267717, 0.29314420803782504, 0.29337539432176657, 0.2936069455406472, 0.2938388625592417, 0.2940711462450593, 0.29430379746835444, 0.2937450514647664, 0.29397781299524567, 0.2942109436954798, 0.29444444444444445, 0.2946783161239079, 0.294912559618442, 0.2951471758154336, 0.29538216560509556, 0.29561752988047807, 0.2958532695374801, 0.29608938547486036, 0.2963258785942492, 0.2965627498001599, 0.2968, 0.29703763010408324, 0.297275641025641, 0.297514033680834, 0.29775280898876405, 0.29799196787148596, 0.2982315112540193, 0.29847144006436044, 0.29871175523349436, 0.2989524576954069, 0.2991935483870968, 0.2994350282485876, 0.29967689822294025, 0.29991915925626517, 0.30016181229773464, 0.3004048582995951, 0.3006482982171799, 0.3008921330089213, 0.30113636363636365, 0.3013809910641755, 0.3016260162601626, 0.3018714401952807, 0.30211726384364823, 0.3023634881825591, 0.30261011419249595, 0.3028571428571429, 0.30310457516339867, 0.30335241210139, 0.30360065466448444, 0.30384930384930386, 0.3040983606557377, 0.30434782608695654, 0.3045977011494253, 0.30484798685291703, 0.3050986842105263, 0.30534979423868314, 0.3056013179571664, 0.30585325638911787, 0.3061056105610561, 0.3063583815028902, 0.3066115702479339, 0.3068651778329198, 0.30711920529801323, 0.30737365368682684, 0.3076285240464345, 0.3078838174273859, 0.3081395348837209, 0.3083956774729842, 0.3086522462562396, 0.3089092422980849, 0.30833333333333335, 0.3085904920767306, 0.3088480801335559, 0.3091060985797828, 0.3093645484949833, 0.30962343096234307, 0.3098827470686767, 0.3101424979044426, 0.3104026845637584, 0.31066330814441645, 0.31092436974789917, 0.31118587047939444, 0.3114478114478115, 0.3117101937657961, 0.31197301854974707, 0.31223628691983124, 0.3125, 0.3127641589180051, 0.3130287648054145, 0.31329381879762913, 0.3135593220338983, 0.3138252756573367, 0.3140916808149406, 0.3143585386576041, 0.31462585034013607, 0.3148936170212766, 0.3151618398637138, 0.3154305200341006, 0.31569965870307165, 0.31596925704526047, 0.3162393162393162, 0.3165098374679213, 0.3167808219178082, 0.3170522707797772, 0.31732418524871353, 0.31759656652360513, 0.3178694158075601, 0.3181427343078246, 0.31841652323580033, 0.3186907838070629, 0.31896551724137934, 0.31924072476272647, 0.31951640759930916, 0.3197925669835782, 0.32006920415224915, 0.3203463203463203, 0.32062391681109187, 0.32003469210754554, 0.3203125, 0.3205907906168549, 0.3208695652173913, 0.32114882506527415, 0.32142857142857145, 0.3217088055797733, 0.3219895287958115, 0.3222707423580786, 0.32255244755244755, 0.3228346456692913, 0.3222416812609457, 0.32252410166520595, 0.32280701754385965, 0.3230904302019315, 0.3233743409490334, 0.32365875109938436, 0.323943661971831, 0.32422907488986785, 0.32451499118165783, 0.324801412180053, 0.3250883392226148, 0.3253757736516357, 0.3256637168141593, 0.3259521700620018, 0.3262411347517731, 0.32653061224489793, 0.3268206039076377, 0.32711111111111113, 0.3274021352313167, 0.327693677649154, 0.32798573975044565, 0.328278322925959, 0.32857142857142857, 0.3288650580875782, 0.3291592128801431, 0.3294538943598926, 0.32974910394265233, 0.33004484304932735, 0.3303411131059246, 0.3306379155435759, 0.33093525179856115, 0.33123312331233123, 0.33153153153153153, 0.3318304779080252, 0.33212996389891697, 0.3324299909665763, 0.33273056057866185, 0.3330316742081448, 0.3333333333333333, 0.33363553943789664, 0.3339382940108893, 0.33424159854677565, 0.33454545454545453, 0.3348498635122839, 0.33515482695810567, 0.33546034639927075, 0.3357664233576642, 0.3360730593607306, 0.33638025594149906, 0.3366880146386093, 0.336996336996337, 0.3373052245646196, 0.3376146788990826, 0.3379247015610652, 0.3382352941176471, 0.33854645814167433, 0.3388581952117864, 0.3391705069124424, 0.33948339483394835, 0.3397968605724838, 0.3391866913123845, 0.33950046253469013, 0.3398148148148148, 0.340129749768304, 0.3404452690166976, 0.34076137418755803, 0.34107806691449816, 0.3413953488372093, 0.34171322160148976, 0.34203168685927304, 0.3423507462686567, 0.3426704014939309, 0.3429906542056075, 0.343311506080449, 0.34363295880149813, 0.3430178069353327, 0.3433395872420263, 0.3436619718309859, 0.34398496240601506, 0.3433678269049859, 0.3436911487758945, 0.34401508011310084, 0.3443396226415094, 0.3437204910292729, 0.3440453686200378, 0.3443708609271523, 0.34375, 0.34407582938388626, 0.3444022770398482, 0.34472934472934474, 0.3450570342205323, 0.34538534728829684, 0.3457142857142857, 0.34604385128693993, 0.3463740458015267, 0.3467048710601719, 0.34703632887189295, 0.3473684210526316, 0.34770114942528735, 0.34707574304889743, 0.3474088291746641, 0.34774255523535064, 0.34807692307692306, 0.3484119345524543, 0.348747591522158, 0.3490838958534233, 0.34942084942084944, 0.3497584541062802, 0.35009671179883944, 0.3504356243949661, 0.3507751937984496, 0.3511154219204656, 0.35145631067961164, 0.35179786200194363, 0.35116731517509725, 0.3505355404089581, 0.3508771929824561, 0.35024390243902437, 0.349609375, 0.34995112414467255, 0.350293542074364, 0.35063663075416257, 0.3509803921568627, 0.35132482826300293, 0.3516699410609037, 0.352015732546706, 0.35236220472440943, 0.3527093596059113, 0.3530571992110454, 0.35340572556762095, 0.35375494071146246, 0.35410484668644904, 0.35445544554455444, 0.354806739345887, 0.3551587301587302, 0.3555114200595829, 0.3548707753479125, 0.35522388059701493, 0.3555776892430279, 0.3559322033898305, 0.3562874251497006, 0.35664335664335667, 0.357, 0.35735735735735735, 0.35771543086172347, 0.35807422266800404, 0.35843373493975905, 0.3587939698492462, 0.3591549295774648, 0.3595166163141994, 0.3598790322580645, 0.35923309788092833, 0.3595959595959596, 0.35995955510616784, 0.3603238866396761, 0.3606889564336373, 0.36105476673427994, 0.3614213197969543, 0.3617886178861789, 0.3621566632756867, 0.3625254582484725, 0.36289500509684, 0.363265306122449, 0.36363636363636365, 0.36400817995910023, 0.3633572159672467, 0.3637295081967213, 0.3641025641025641, 0.364476386036961, 0.3648509763617677, 0.36522633744855965, 0.36560247167868176, 0.36597938144329895, 0.3653250773993808, 0.365702479338843, 0.36608066184074456, 0.36645962732919257, 0.36683937823834195, 0.36721991701244816, 0.367601246105919, 0.367983367983368, 0.368366285119667, 0.36875, 0.3691345151199166, 0.3695198329853862, 0.36886102403343785, 0.3692468619246862, 0.36963350785340315, 0.370020964360587, 0.3704092339979014, 0.3707983193277311, 0.3711882229232387, 0.37157894736842106, 0.3719704952581665, 0.37236286919831224, 0.3717001055966209, 0.37209302325581395, 0.3724867724867725, 0.3728813559322034, 0.37327677624602335, 0.37367303609341823, 0.3740701381509033, 0.37446808510638296, 0.37486687965921195, 0.3752665245202559, 0.37459978655282816, 0.375, 0.3754010695187166, 0.3758029978586724, 0.3762057877813505, 0.37553648068669526, 0.37593984962406013, 0.3763440860215054, 0.3767491926803014, 0.3771551724137931, 0.3775620280474649, 0.3779697624190065, 0.3783783783783784, 0.3787878787878788, 0.37919826652221017, 0.37852494577006507, 0.3789359391965255, 0.3793478260869565, 0.3797606093579978, 0.3801742919389978, 0.38058887677208286, 0.38100436681222705, 0.380327868852459, 0.38074398249452956, 0.38116100766703176, 0.3815789473684211, 0.38199780461031835, 0.3824175824175824, 0.38283828382838286, 0.38215859030837, 0.38257993384785005, 0.3818984547461369, 0.38232044198895027, 0.3827433628318584, 0.38205980066445183, 0.38248337028824836, 0.38290788013318533, 0.38333333333333336, 0.38375973303670746, 0.3841870824053452, 0.3835005574136009, 0.38392857142857145, 0.3843575418994413, 0.38478747203579416, 0.3840985442329227, 0.3845291479820628, 0.38496071829405165, 0.3853932584269663, 0.3858267716535433, 0.38626126126126126, 0.38669673055242393, 0.3871331828442438, 0.38757062146892657, 0.38800904977375567, 0.3884484711211778, 0.3888888888888889, 0.38819523269012485, 0.3875, 0.38680318543799774, 0.38724373576309795, 0.38768529076396807, 0.3881278538812785, 0.38857142857142857, 0.3890160183066362, 0.38946162657502864, 0.38990825688073394, 0.39035591274397247, 0.3896551724137931, 0.39010356731875717, 0.39055299539170507, 0.38985005767012687, 0.3903002309468822, 0.39075144508670523, 0.3912037037037037, 0.39165701042873696, 0.39211136890951276, 0.3914053426248548, 0.3918604651162791, 0.39231664726426074, 0.3927738927738928, 0.39323220536756126, 0.3925233644859813, 0.3929824561403509, 0.39227166276346603, 0.39273153575615477, 0.3931924882629108, 0.3936545240893067, 0.3941176470588235, 0.3945818610129564, 0.39504716981132076, 0.3955135773317591, 0.3959810874704492, 0.39644970414201186, 0.39691943127962087, 0.3973902728351127, 0.3978622327790974, 0.3983353151010702, 0.39880952380952384, 0.399284862932062, 0.39856801909307876, 0.39904420549581837, 0.39952153110047844, 0.4, 0.40047961630695444, 0.3997599039615846, 0.40024038461538464, 0.4007220216606498, 0.40120481927710844, 0.4016887816646562, 0.40217391304347827, 0.4014510278113664, 0.4019370460048426, 0.4024242424242424, 0.4029126213592233, 0.40340218712029163, 0.40389294403892945, 0.4043848964677223, 0.40487804878048783, 0.4053724053724054, 0.4058679706601467, 0.40636474908200737, 0.4068627450980392, 0.40736196319018403, 0.40786240786240785, 0.40836408364083643, 0.4088669950738916, 0.4093711467324291, 0.40987654320987654, 0.4103831891223733, 0.41089108910891087, 0.4114002478314746, 0.4119106699751861, 0.4124223602484472, 0.4129353233830846, 0.41344956413449563, 0.4139650872817955, 0.41448189762796506, 0.415, 0.4142678347934919, 0.41353383458646614, 0.41405269761606023, 0.41457286432160806, 0.41509433962264153, 0.4156171284634761, 0.416141235813367, 0.4166666666666667, 0.41719342604298354, 0.41645569620253164, 0.4157160963244613, 0.41624365482233505, 0.4167725540025413, 0.4173027989821883, 0.4178343949044586, 0.41709183673469385, 0.41762452107279696, 0.41687979539641945, 0.41613316261203587, 0.4166666666666667, 0.417201540436457, 0.41645244215938304, 0.416988416988417, 0.4175257731958763, 0.4180645161290323, 0.4186046511627907, 0.4191461836998706, 0.41968911917098445, 0.41893644617380027, 0.41948051948051945, 0.42002600780234073, 0.4205729166666667, 0.4211212516297262, 0.4216710182767624, 0.4222222222222222, 0.42277486910994766, 0.4233289646133683, 0.4238845144356955, 0.4244415243101183, 0.425, 0.42424242424242425, 0.42480211081794195, 0.4240422721268164, 0.4246031746031746, 0.4251655629139073, 0.4244031830238727, 0.4249667994687915, 0.425531914893617, 0.42609853528628494, 0.4266666666666667, 0.4272363150867824, 0.42780748663101603, 0.428380187416332, 0.4289544235924933, 0.42953020134228187, 0.43010752688172044, 0.4306864064602961, 0.431266846361186, 0.4318488529014845, 0.43243243243243246, 0.4330175913396482, 0.43360433604336046, 0.43283582089552236, 0.43342391304347827, 0.4340136054421769, 0.43460490463215257, 0.43519781718963163, 0.4344262295081967, 0.43365253077975374, 0.43424657534246575, 0.4334705075445816, 0.4340659340659341, 0.4332874828060523, 0.4325068870523416, 0.43310344827586206, 0.43370165745856354, 0.43291839557399725, 0.43351800554016623, 0.43411927877947293, 0.43472222222222223, 0.43532684283727396, 0.435933147632312, 0.43654114365411434, 0.4371508379888268, 0.43636363636363634, 0.4369747899159664, 0.4361851332398317, 0.43679775280898875, 0.43741209563994377, 0.43802816901408453, 0.4386459802538787, 0.4378531073446328, 0.43705799151343705, 0.43626062322946174, 0.43546099290780144, 0.43607954545454547, 0.4366998577524893, 0.4373219373219373, 0.43651925820256776, 0.43714285714285717, 0.43776824034334766, 0.4383954154727794, 0.43902439024390244, 0.4396551724137931, 0.44028776978417267, 0.43948126801152737, 0.43867243867243866, 0.4393063583815029, 0.4399421128798842, 0.4405797101449275, 0.4412191582002903, 0.4418604651162791, 0.44250363901018924, 0.44314868804664725, 0.44233576642335765, 0.44298245614035087, 0.44363103953147875, 0.4442815249266862, 0.4434654919236417, 0.4441176470588235, 0.44477172312223856, 0.44542772861356933, 0.4460856720827179, 0.4467455621301775, 0.4474074074074074, 0.44807121661721067, 0.4472511144130758, 0.4479166666666667, 0.4485842026825633, 0.44925373134328356, 0.4499252615844544, 0.4505988023952096, 0.4512743628185907, 0.4519519519519519, 0.45263157894736844, 0.45331325301204817, 0.4539969834087481, 0.45468277945619334, 0.45537065052950076, 0.45606060606060606, 0.4552352048558422, 0.45592705167173253, 0.45662100456621, 0.4573170731707317, 0.4580152671755725, 0.45871559633027525, 0.45788667687595713, 0.45858895705521474, 0.4592933947772657, 0.4584615384615385, 0.4591679506933744, 0.45987654320987653, 0.4605873261205564, 0.4613003095975232, 0.462015503875969, 0.46273291925465837, 0.463452566096423, 0.46417445482866043, 0.46489859594383776, 0.465625, 0.46635367762128327, 0.4670846394984326, 0.46781789638932497, 0.46855345911949686, 0.4692913385826772, 0.47003154574132494, 0.4707740916271722, 0.47151898734177217, 0.4722662440570523, 0.473015873015873, 0.4737678855325914, 0.4745222929936306, 0.47368421052631576, 0.4744408945686901, 0.4752, 0.47435897435897434, 0.4751203852327448, 0.4758842443729904, 0.47665056360708535, 0.4774193548387097, 0.4781906300484653, 0.47896440129449835, 0.47974068071312803, 0.4805194805194805, 0.4796747967479675, 0.4804560260586319, 0.4796084828711256, 0.4803921568627451, 0.4795417348608838, 0.48032786885245904, 0.48111658456486045, 0.4819078947368421, 0.48105436573311366, 0.48184818481848185, 0.4826446280991736, 0.48344370860927155, 0.4842454394693201, 0.4850498338870432, 0.4858569051580699, 0.485, 0.48580968280467446, 0.4866220735785953, 0.48576214405360135, 0.4865771812080537, 0.48739495798319327, 0.4882154882154882, 0.4873524451939292, 0.4864864864864865, 0.4873096446700508, 0.488135593220339, 0.48896434634974534, 0.4880952380952381, 0.4889267461669506, 0.48976109215017066, 0.4888888888888889, 0.4897260273972603, 0.4888507718696398, 0.4879725085910653, 0.48709122203098104, 0.4879310344827586, 0.48877374784110533, 0.48961937716262977, 0.48873483535528595, 0.4895833333333333, 0.48869565217391303, 0.4895470383275261, 0.49040139616055844, 0.49125874125874125, 0.4921190893169877, 0.49122807017543857, 0.492091388400703, 0.49295774647887325, 0.49206349206349204, 0.4929328621908127, 0.4920353982300885, 0.4929078014184397, 0.4937833037300178, 0.4928825622775801, 0.4919786096256685, 0.4928571428571429, 0.4937388193202147, 0.4946236559139785, 0.49371633752244165, 0.49280575539568344, 0.4936936936936937, 0.49458483754512633, 0.49547920433996384, 0.4963768115942029, 0.4954627949183303, 0.49636363636363634, 0.4972677595628415, 0.4981751824817518, 0.49725776965265084, 0.49633699633699635, 0.4954128440366973, 0.4963235294117647, 0.4972375690607735, 0.4981549815498155, 0.49907578558225507, 0.5, 0.5009276437847866, 0.5018587360594795, 0.5027932960893855, 0.503731343283582, 0.502803738317757, 0.50187265917603, 0.5028142589118199, 0.5018796992481203, 0.5009416195856874, 0.5018867924528302, 0.502835538752363, 0.5018939393939394, 0.5028462998102466, 0.5019011406844106, 0.5028571428571429, 0.5038167938931297, 0.5047801147227533, 0.5038314176245211, 0.5047984644913628, 0.5057692307692307, 0.5048169556840078, 0.5057915057915058, 0.5067698259187621, 0.5058139534883721, 0.5067961165048543, 0.5077821011673151, 0.5087719298245614, 0.5078125, 0.5068493150684932, 0.5078431372549019, 0.5088408644400786, 0.5098425196850394, 0.5108481262327417, 0.5118577075098815, 0.5108910891089109, 0.5119047619047619, 0.5129224652087475, 0.5139442231075697, 0.5149700598802395, 0.514, 0.5150300601202404, 0.5160642570281124, 0.5171026156941649, 0.5161290322580645, 0.5171717171717172, 0.5182186234817814, 0.5172413793103449, 0.5182926829268293, 0.5173116089613035, 0.5183673469387755, 0.5194274028629857, 0.5204918032786885, 0.5195071868583162, 0.5205761316872428, 0.5216494845360825, 0.5227272727272727, 0.5217391304347826, 0.5228215767634855, 0.5239085239085239, 0.525, 0.5260960334029228, 0.5271966527196653, 0.5262054507337526, 0.5273109243697479, 0.5284210526315789, 0.5295358649789029, 0.5306553911205074, 0.5317796610169492, 0.5329087048832272, 0.5340425531914894, 0.535181236673774, 0.5341880341880342, 0.5353319057815846, 0.5343347639484979, 0.535483870967742, 0.5344827586206896, 0.5356371490280778, 0.5367965367965368, 0.5357917570498916, 0.5347826086956522, 0.5337690631808278, 0.5349344978165939, 0.5361050328227571, 0.5350877192982456, 0.5362637362637362, 0.5374449339207048, 0.5364238410596026, 0.5353982300884956, 0.5343680709534369, 0.5355555555555556, 0.5367483296213809, 0.5357142857142857, 0.5346756152125279, 0.5358744394618834, 0.5348314606741573, 0.536036036036036, 0.5372460496613995, 0.5384615384615384, 0.5396825396825397, 0.5409090909090909, 0.5398633257403189, 0.5388127853881278, 0.5377574370709383, 0.5389908256880734, 0.5402298850574713, 0.5414746543778802, 0.5427251732101617, 0.5439814814814815, 0.54292343387471, 0.5441860465116279, 0.5431235431235432, 0.544392523364486, 0.5433255269320844, 0.5446009389671361, 0.5435294117647059, 0.5448113207547169, 0.5437352245862884, 0.542654028436019, 0.5415676959619953, 0.5404761904761904, 0.5417661097852029, 0.5430622009569378, 0.5419664268585132, 0.5432692307692307, 0.5445783132530121, 0.5458937198067633, 0.5472154963680388, 0.5461165048543689, 0.5474452554744526, 0.5487804878048781, 0.5501222493887531, 0.5490196078431373, 0.5503685503685504, 0.5517241379310345, 0.5506172839506173, 0.551980198019802, 0.5508684863523573, 0.5522388059701493, 0.5536159600997507, 0.5525, 0.5538847117794486, 0.5552763819095478, 0.5541561712846348, 0.5555555555555556, 0.5569620253164557, 0.5583756345177665, 0.5597964376590331, 0.5612244897959183, 0.5601023017902813, 0.558974358974359, 0.5604113110539846, 0.5592783505154639, 0.5581395348837209, 0.5595854922279793, 0.561038961038961, 0.5625, 0.5639686684073107, 0.5654450261780105, 0.5643044619422573, 0.5657894736842105, 0.5672823218997362, 0.5661375661375662, 0.5676392572944297, 0.5664893617021277, 0.568, 0.5668449197860963, 0.5656836461126006, 0.5672043010752689, 0.5660377358490566, 0.5675675675675675, 0.5663956639566395, 0.5652173913043478, 0.5667574931880109, 0.5683060109289617, 0.5671232876712329, 0.5659340659340659, 0.5647382920110193, 0.5662983425414365, 0.5650969529085873, 0.5638888888888889, 0.5654596100278552, 0.5642458100558659, 0.5658263305322129, 0.5674157303370787, 0.5661971830985916, 0.5649717514124294, 0.5637393767705382, 0.5653409090909091, 0.5669515669515669, 0.5685714285714286, 0.5673352435530086, 0.5689655172413793, 0.5677233429394812, 0.5664739884393064, 0.5681159420289855, 0.5697674418604651, 0.5714285714285714, 0.5730994152046783, 0.5718475073313783, 0.5705882352941176, 0.5722713864306784, 0.5739644970414202, 0.5756676557863502, 0.5773809523809523, 0.5791044776119403, 0.5778443113772455, 0.5795795795795796, 0.5783132530120482, 0.5800604229607251, 0.5787878787878787, 0.5805471124620061, 0.5823170731707317, 0.5840978593272171, 0.5858895705521472, 0.5876923076923077, 0.5864197530864198, 0.5882352941176471, 0.5900621118012422, 0.5887850467289719, 0.590625, 0.5893416927899686, 0.5880503144654088, 0.5899053627760252, 0.5917721518987342, 0.5936507936507937, 0.5955414012738853, 0.597444089456869, 0.5961538461538461, 0.5980707395498392, 0.5967741935483871, 0.5954692556634305, 0.5941558441558441, 0.5928338762214984, 0.5947712418300654, 0.5967213114754099, 0.5986842105263158, 0.6006600660066007, 0.6026490066225165, 0.6013289036544851, 0.6033333333333334, 0.6053511705685619, 0.6040268456375839, 0.6026936026936027, 0.6013513513513513, 0.6033898305084746, 0.6054421768707483, 0.6040955631399317, 0.6061643835616438, 0.6048109965635738, 0.603448275862069, 0.6055363321799307, 0.6041666666666666, 0.6027874564459931, 0.6013986013986014, 0.6, 0.602112676056338, 0.6042402826855123, 0.6028368794326241, 0.604982206405694, 0.6071428571428571, 0.6093189964157706, 0.6115107913669064, 0.6101083032490975, 0.6123188405797102, 0.610909090909091, 0.6131386861313869, 0.6117216117216118, 0.6102941176470589, 0.6125461254612546, 0.6111111111111112, 0.6133828996282528, 0.6119402985074627, 0.6104868913857678, 0.6127819548872181, 0.6150943396226415, 0.6136363636363636, 0.6121673003802282, 0.6145038167938931, 0.6130268199233716, 0.6115384615384616, 0.61003861003861, 0.6124031007751938, 0.6108949416342413, 0.61328125, 0.615686274509804, 0.6181102362204725, 0.6205533596837944, 0.6190476190476191, 0.6175298804780877, 0.62, 0.6184738955823293, 0.6169354838709677, 0.6194331983805668, 0.6178861788617886, 0.6163265306122448, 0.6188524590163934, 0.6213991769547325, 0.6198347107438017, 0.6224066390041494, 0.625, 0.6234309623430963, 0.6218487394957983, 0.620253164556962, 0.6228813559322034, 0.6212765957446809, 0.6239316239316239, 0.6223175965665236, 0.625, 0.6233766233766234, 0.6260869565217392, 0.62882096069869, 0.631578947368421, 0.6299559471365639, 0.6283185840707964, 0.6266666666666667, 0.6294642857142857, 0.6278026905829597, 0.6306306306306306, 0.6334841628959276, 0.6363636363636364, 0.639269406392694, 0.6376146788990825, 0.6405529953917051, 0.6388888888888888, 0.6372093023255814, 0.6401869158878505, 0.6384976525821596, 0.6415094339622641, 0.6398104265402843, 0.6428571428571429, 0.645933014354067, 0.6442307692307693, 0.6473429951690821, 0.6504854368932039, 0.6487804878048781, 0.6470588235294118, 0.645320197044335, 0.6435643564356436, 0.6467661691542289, 0.645, 0.6482412060301508, 0.6515151515151515, 0.6548223350253807, 0.6581632653061225, 0.6564102564102564, 0.6597938144329897, 0.6580310880829016, 0.6614583333333334, 0.6649214659685864, 0.6684210526315789, 0.671957671957672, 0.6702127659574468, 0.6737967914438503, 0.6774193548387096, 0.6756756756756757, 0.6793478260869565, 0.6830601092896175, 0.6813186813186813, 0.6795580110497238, 0.6833333333333333, 0.6815642458100558, 0.6853932584269663, 0.6836158192090396, 0.6818181818181818, 0.6857142857142857, 0.6839080459770115, 0.6878612716763006, 0.686046511627907, 0.6900584795321637, 0.6882352941176471, 0.6863905325443787, 0.6845238095238095, 0.6826347305389222, 0.6807228915662651, 0.6787878787878788, 0.676829268292683, 0.6748466257668712, 0.6728395061728395, 0.6708074534161491, 0.675, 0.6792452830188679, 0.6772151898734177, 0.6815286624203821, 0.6858974358974359, 0.6838709677419355, 0.6883116883116883, 0.6862745098039216, 0.6907894736842105, 0.6887417218543046, 0.6933333333333334, 0.6912751677852349, 0.6959459459459459, 0.6938775510204082, 0.6917808219178082, 0.6896551724137931, 0.6944444444444444, 0.6993006993006993, 0.6971830985915493, 0.7021276595744681, 0.7071428571428572, 0.7050359712230215, 0.7028985507246377, 0.7007299270072993, 0.6985294117647058, 0.7037037037037037, 0.7014925373134329, 0.6992481203007519, 0.696969696969697, 0.6946564885496184, 0.7, 0.6976744186046512, 0.6953125, 0.6929133858267716, 0.6984126984126984, 0.704, 0.7016129032258065, 0.6991869918699187, 0.7049180327868853, 0.7107438016528925, 0.7166666666666667, 0.7226890756302521, 0.7203389830508474, 0.717948717948718, 0.7155172413793104, 0.7130434782608696, 0.7105263157894737, 0.7079646017699115, 0.7053571428571429, 0.7027027027027027, 0.7, 0.7064220183486238, 0.7037037037037037, 0.7009345794392523, 0.6981132075471698, 0.7047619047619048, 0.7019230769230769, 0.7087378640776699, 0.7156862745098039, 0.7128712871287128, 0.71, 0.7070707070707071, 0.7142857142857143, 0.7216494845360825, 0.7291666666666666, 0.7263157894736842, 0.723404255319149, 0.7204301075268817, 0.7282608695652174, 0.7252747252747253, 0.7333333333333333, 0.7303370786516854, 0.7272727272727273, 0.7241379310344828, 0.7325581395348837, 0.7411764705882353, 0.7380952380952381, 0.7349397590361446, 0.7439024390243902, 0.7407407407407407, 0.75, 0.7468354430379747, 0.7564102564102564, 0.7532467532467533, 0.75, 0.76, 0.7567567567567568, 0.7534246575342466, 0.75, 0.7464788732394366, 0.7428571428571429, 0.7391304347826086, 0.75, 0.746268656716418, 0.7575757575757576, 0.7692307692307693, 0.78125, 0.7777777777777778, 0.7903225806451613, 0.8032786885245902, 0.8166666666666667, 0.8135593220338984, 0.8275862068965517, 0.8245614035087719, 0.8214285714285714, 0.8181818181818182, 0.8148148148148148, 0.8113207547169812, 0.8076923076923077, 0.8235294117647058, 0.82, 0.8163265306122449, 0.8125, 0.8085106382978723, 0.8043478260869565, 0.8222222222222222, 0.8181818181818182, 0.813953488372093, 0.8095238095238095, 0.8048780487804879, 0.8, 0.7948717948717948, 0.7894736842105263, 0.7837837837837838, 0.8055555555555556, 0.8285714285714286, 0.8235294117647058, 0.8181818181818182, 0.8125, 0.8064516129032258, 0.8333333333333334, 0.8275862068965517, 0.8214285714285714, 0.8148148148148148, 0.8076923076923077, 0.8, 0.7916666666666666, 0.8260869565217391, 0.8181818181818182, 0.8571428571428571, 0.85, 0.8421052631578947, 0.8888888888888888, 0.9411764705882353, 0.9375, 1.0, 1.0, 1.0, 1.0, 1.0, 1.0, 1.0, 1.0, 1.0, 1.0, 1.0, 1.0, 1.0, 1.0, 1.0, 1.0]}, {\"mode\": \"lines\", \"name\": \"SGB\", \"type\": \"scatter\", \"x\": [1.0, 0.9973262032085561, 0.9973262032085561, 0.9973262032085561, 0.9973262032085561, 0.9946524064171123, 0.9946524064171123, 0.9946524064171123, 0.9946524064171123, 0.9946524064171123, 0.9946524064171123, 0.9946524064171123, 0.9946524064171123, 0.9946524064171123, 0.9946524064171123, 0.9946524064171123, 0.9946524064171123, 0.9946524064171123, 0.9946524064171123, 0.9946524064171123, 0.9919786096256684, 0.9919786096256684, 0.9919786096256684, 0.9919786096256684, 0.9919786096256684, 0.9919786096256684, 0.9919786096256684, 0.9919786096256684, 0.9919786096256684, 0.9919786096256684, 0.9919786096256684, 0.9919786096256684, 0.9919786096256684, 0.9919786096256684, 0.9919786096256684, 0.9919786096256684, 0.9919786096256684, 0.9919786096256684, 0.9919786096256684, 0.9919786096256684, 0.9919786096256684, 0.9919786096256684, 0.9919786096256684, 0.9919786096256684, 0.9919786096256684, 0.9919786096256684, 0.9919786096256684, 0.9919786096256684, 0.9919786096256684, 0.9919786096256684, 0.9919786096256684, 0.9919786096256684, 0.9919786096256684, 0.9919786096256684, 0.9919786096256684, 0.9919786096256684, 0.9919786096256684, 0.9919786096256684, 0.9919786096256684, 0.9919786096256684, 0.9919786096256684, 0.9919786096256684, 0.9919786096256684, 0.9919786096256684, 0.9919786096256684, 0.9919786096256684, 0.9919786096256684, 0.9919786096256684, 0.9919786096256684, 0.9919786096256684, 0.9919786096256684, 0.9919786096256684, 0.9919786096256684, 0.9919786096256684, 0.9919786096256684, 0.9919786096256684, 0.9919786096256684, 0.9919786096256684, 0.9919786096256684, 0.9919786096256684, 0.9919786096256684, 0.9919786096256684, 0.9919786096256684, 0.9919786096256684, 0.9919786096256684, 0.9919786096256684, 0.9919786096256684, 0.9919786096256684, 0.9919786096256684, 0.9919786096256684, 0.9919786096256684, 0.9919786096256684, 0.9919786096256684, 0.9919786096256684, 0.9919786096256684, 0.9919786096256684, 0.9919786096256684, 0.9919786096256684, 0.9919786096256684, 0.9919786096256684, 0.9919786096256684, 0.9919786096256684, 0.9919786096256684, 0.9919786096256684, 0.9919786096256684, 0.9919786096256684, 0.9919786096256684, 0.9919786096256684, 0.9919786096256684, 0.9919786096256684, 0.9919786096256684, 0.9919786096256684, 0.9919786096256684, 0.9919786096256684, 0.9919786096256684, 0.9919786096256684, 0.9919786096256684, 0.9919786096256684, 0.9919786096256684, 0.9919786096256684, 0.9919786096256684, 0.9919786096256684, 0.9919786096256684, 0.9919786096256684, 0.9919786096256684, 0.9919786096256684, 0.9919786096256684, 0.9919786096256684, 0.9919786096256684, 0.9893048128342246, 0.9893048128342246, 0.9893048128342246, 0.9893048128342246, 0.9893048128342246, 0.9893048128342246, 0.9893048128342246, 0.9893048128342246, 0.9893048128342246, 0.9893048128342246, 0.9893048128342246, 0.9893048128342246, 0.9893048128342246, 0.9893048128342246, 0.9893048128342246, 0.9893048128342246, 0.9893048128342246, 0.9893048128342246, 0.9893048128342246, 0.9893048128342246, 0.9893048128342246, 0.9893048128342246, 0.9893048128342246, 0.9893048128342246, 0.9893048128342246, 0.9893048128342246, 0.9893048128342246, 0.9893048128342246, 0.9893048128342246, 0.9893048128342246, 0.9866310160427807, 0.9866310160427807, 0.9866310160427807, 0.9866310160427807, 0.9866310160427807, 0.9866310160427807, 0.9866310160427807, 0.9866310160427807, 0.9866310160427807, 0.9866310160427807, 0.9866310160427807, 0.983957219251337, 0.983957219251337, 0.983957219251337, 0.983957219251337, 0.983957219251337, 0.983957219251337, 0.983957219251337, 0.983957219251337, 0.983957219251337, 0.983957219251337, 0.983957219251337, 0.983957219251337, 0.983957219251337, 0.983957219251337, 0.983957219251337, 0.983957219251337, 0.983957219251337, 0.983957219251337, 0.983957219251337, 0.983957219251337, 0.983957219251337, 0.983957219251337, 0.983957219251337, 0.983957219251337, 0.983957219251337, 0.983957219251337, 0.983957219251337, 0.983957219251337, 0.983957219251337, 0.983957219251337, 0.983957219251337, 0.983957219251337, 0.983957219251337, 0.983957219251337, 0.983957219251337, 0.983957219251337, 0.983957219251337, 0.983957219251337, 0.983957219251337, 0.983957219251337, 0.983957219251337, 0.983957219251337, 0.983957219251337, 0.983957219251337, 0.983957219251337, 0.9812834224598931, 0.9812834224598931, 0.9812834224598931, 0.9812834224598931, 0.9812834224598931, 0.9812834224598931, 0.9812834224598931, 0.9812834224598931, 0.9812834224598931, 0.9812834224598931, 0.9812834224598931, 0.9812834224598931, 0.9812834224598931, 0.9812834224598931, 0.9812834224598931, 0.9812834224598931, 0.9812834224598931, 0.9812834224598931, 0.9812834224598931, 0.9812834224598931, 0.9812834224598931, 0.9812834224598931, 0.9786096256684492, 0.9786096256684492, 0.9759358288770054, 0.9759358288770054, 0.9759358288770054, 0.9759358288770054, 0.9759358288770054, 0.9759358288770054, 0.9759358288770054, 0.9759358288770054, 0.9759358288770054, 0.9759358288770054, 0.9759358288770054, 0.9759358288770054, 0.9759358288770054, 0.9759358288770054, 0.9759358288770054, 0.9759358288770054, 0.9759358288770054, 0.9759358288770054, 0.9759358288770054, 0.9759358288770054, 0.9759358288770054, 0.9759358288770054, 0.9759358288770054, 0.9759358288770054, 0.9759358288770054, 0.9759358288770054, 0.9759358288770054, 0.9732620320855615, 0.9732620320855615, 0.9732620320855615, 0.9732620320855615, 0.9732620320855615, 0.9732620320855615, 0.9732620320855615, 0.9705882352941176, 0.9705882352941176, 0.9705882352941176, 0.9679144385026738, 0.9679144385026738, 0.9679144385026738, 0.9679144385026738, 0.9679144385026738, 0.9679144385026738, 0.9679144385026738, 0.9679144385026738, 0.9679144385026738, 0.9679144385026738, 0.9679144385026738, 0.9679144385026738, 0.9679144385026738, 0.9679144385026738, 0.9679144385026738, 0.9679144385026738, 0.9679144385026738, 0.9679144385026738, 0.9679144385026738, 0.9679144385026738, 0.9679144385026738, 0.9679144385026738, 0.9679144385026738, 0.9679144385026738, 0.9679144385026738, 0.9679144385026738, 0.9679144385026738, 0.9679144385026738, 0.9679144385026738, 0.9679144385026738, 0.9679144385026738, 0.9679144385026738, 0.9652406417112299, 0.9652406417112299, 0.9652406417112299, 0.9652406417112299, 0.9652406417112299, 0.9652406417112299, 0.9652406417112299, 0.9652406417112299, 0.9652406417112299, 0.9652406417112299, 0.9652406417112299, 0.9652406417112299, 0.9652406417112299, 0.9652406417112299, 0.9652406417112299, 0.9652406417112299, 0.9652406417112299, 0.9652406417112299, 0.9652406417112299, 0.9652406417112299, 0.9625668449197861, 0.9598930481283422, 0.9598930481283422, 0.9598930481283422, 0.9598930481283422, 0.9598930481283422, 0.9598930481283422, 0.9598930481283422, 0.9598930481283422, 0.9598930481283422, 0.9598930481283422, 0.9598930481283422, 0.9598930481283422, 0.9598930481283422, 0.9598930481283422, 0.9598930481283422, 0.9598930481283422, 0.9572192513368984, 0.9572192513368984, 0.9572192513368984, 0.9572192513368984, 0.9572192513368984, 0.9572192513368984, 0.9572192513368984, 0.9572192513368984, 0.9572192513368984, 0.9545454545454546, 0.9545454545454546, 0.9545454545454546, 0.9545454545454546, 0.9545454545454546, 0.9545454545454546, 0.9545454545454546, 0.9545454545454546, 0.9545454545454546, 0.9545454545454546, 0.9545454545454546, 0.9545454545454546, 0.9545454545454546, 0.9518716577540107, 0.9518716577540107, 0.9518716577540107, 0.9518716577540107, 0.9518716577540107, 0.9518716577540107, 0.9518716577540107, 0.9518716577540107, 0.9518716577540107, 0.9518716577540107, 0.9518716577540107, 0.9518716577540107, 0.9518716577540107, 0.9518716577540107, 0.9518716577540107, 0.9518716577540107, 0.9518716577540107, 0.9518716577540107, 0.9518716577540107, 0.9518716577540107, 0.9518716577540107, 0.9518716577540107, 0.9518716577540107, 0.9518716577540107, 0.9518716577540107, 0.9518716577540107, 0.9518716577540107, 0.9518716577540107, 0.9518716577540107, 0.9518716577540107, 0.9518716577540107, 0.9518716577540107, 0.9518716577540107, 0.9518716577540107, 0.9518716577540107, 0.9518716577540107, 0.9518716577540107, 0.9518716577540107, 0.9518716577540107, 0.9518716577540107, 0.9518716577540107, 0.9518716577540107, 0.9518716577540107, 0.9518716577540107, 0.9518716577540107, 0.9518716577540107, 0.9518716577540107, 0.9518716577540107, 0.9518716577540107, 0.9518716577540107, 0.9518716577540107, 0.9518716577540107, 0.9518716577540107, 0.9518716577540107, 0.9518716577540107, 0.9491978609625669, 0.9491978609625669, 0.9491978609625669, 0.9491978609625669, 0.9491978609625669, 0.946524064171123, 0.946524064171123, 0.946524064171123, 0.946524064171123, 0.946524064171123, 0.946524064171123, 0.946524064171123, 0.946524064171123, 0.946524064171123, 0.946524064171123, 0.946524064171123, 0.946524064171123, 0.946524064171123, 0.946524064171123, 0.946524064171123, 0.946524064171123, 0.946524064171123, 0.946524064171123, 0.946524064171123, 0.946524064171123, 0.946524064171123, 0.946524064171123, 0.946524064171123, 0.946524064171123, 0.946524064171123, 0.946524064171123, 0.946524064171123, 0.946524064171123, 0.946524064171123, 0.946524064171123, 0.946524064171123, 0.946524064171123, 0.946524064171123, 0.946524064171123, 0.946524064171123, 0.946524064171123, 0.946524064171123, 0.946524064171123, 0.946524064171123, 0.946524064171123, 0.946524064171123, 0.946524064171123, 0.946524064171123, 0.946524064171123, 0.946524064171123, 0.946524064171123, 0.946524064171123, 0.946524064171123, 0.946524064171123, 0.9438502673796791, 0.9438502673796791, 0.9411764705882353, 0.9411764705882353, 0.9411764705882353, 0.9385026737967914, 0.9385026737967914, 0.9385026737967914, 0.9358288770053476, 0.9331550802139037, 0.9331550802139037, 0.9331550802139037, 0.9331550802139037, 0.9331550802139037, 0.9331550802139037, 0.9331550802139037, 0.9331550802139037, 0.9331550802139037, 0.93048128342246, 0.93048128342246, 0.93048128342246, 0.93048128342246, 0.93048128342246, 0.93048128342246, 0.93048128342246, 0.93048128342246, 0.93048128342246, 0.9278074866310161, 0.9278074866310161, 0.9278074866310161, 0.9278074866310161, 0.9278074866310161, 0.9251336898395722, 0.9251336898395722, 0.9251336898395722, 0.9251336898395722, 0.9224598930481284, 0.9224598930481284, 0.9224598930481284, 0.9224598930481284, 0.9197860962566845, 0.9197860962566845, 0.9197860962566845, 0.9171122994652406, 0.9171122994652406, 0.9171122994652406, 0.9144385026737968, 0.9144385026737968, 0.9144385026737968, 0.9144385026737968, 0.9144385026737968, 0.9144385026737968, 0.9144385026737968, 0.9144385026737968, 0.9144385026737968, 0.9144385026737968, 0.9144385026737968, 0.9117647058823529, 0.9117647058823529, 0.9117647058823529, 0.9090909090909091, 0.9090909090909091, 0.9064171122994652, 0.9064171122994652, 0.9064171122994652, 0.9064171122994652, 0.9064171122994652, 0.9037433155080213, 0.9037433155080213, 0.9010695187165776, 0.9010695187165776, 0.9010695187165776, 0.9010695187165776, 0.9010695187165776, 0.9010695187165776, 0.9010695187165776, 0.9010695187165776, 0.8983957219251337, 0.8983957219251337, 0.8983957219251337, 0.8983957219251337, 0.8983957219251337, 0.8983957219251337, 0.8983957219251337, 0.8983957219251337, 0.8957219251336899, 0.893048128342246, 0.893048128342246, 0.893048128342246, 0.893048128342246, 0.8903743315508021, 0.8903743315508021, 0.8903743315508021, 0.8903743315508021, 0.8903743315508021, 0.8877005347593583, 0.8877005347593583, 0.8877005347593583, 0.8877005347593583, 0.8877005347593583, 0.8877005347593583, 0.8877005347593583, 0.8850267379679144, 0.8850267379679144, 0.8823529411764706, 0.8823529411764706, 0.8796791443850267, 0.8796791443850267, 0.8796791443850267, 0.8796791443850267, 0.8770053475935828, 0.8770053475935828, 0.8770053475935828, 0.8770053475935828, 0.8770053475935828, 0.8770053475935828, 0.8770053475935828, 0.8770053475935828, 0.8770053475935828, 0.8770053475935828, 0.8770053475935828, 0.8770053475935828, 0.8770053475935828, 0.8743315508021391, 0.8743315508021391, 0.8743315508021391, 0.8743315508021391, 0.8716577540106952, 0.8716577540106952, 0.8716577540106952, 0.8716577540106952, 0.8716577540106952, 0.8716577540106952, 0.8689839572192514, 0.8663101604278075, 0.8663101604278075, 0.8663101604278075, 0.8663101604278075, 0.8636363636363636, 0.8636363636363636, 0.8636363636363636, 0.8636363636363636, 0.8636363636363636, 0.8636363636363636, 0.8636363636363636, 0.8636363636363636, 0.8636363636363636, 0.8636363636363636, 0.8636363636363636, 0.8636363636363636, 0.8636363636363636, 0.8636363636363636, 0.8609625668449198, 0.8582887700534759, 0.8582887700534759, 0.8582887700534759, 0.8556149732620321, 0.8556149732620321, 0.8529411764705882, 0.8529411764705882, 0.8502673796791443, 0.8502673796791443, 0.8475935828877005, 0.8475935828877005, 0.8475935828877005, 0.8475935828877005, 0.8475935828877005, 0.8475935828877005, 0.8475935828877005, 0.8475935828877005, 0.8475935828877005, 0.8475935828877005, 0.8475935828877005, 0.8449197860962567, 0.8449197860962567, 0.8449197860962567, 0.8422459893048129, 0.839572192513369, 0.839572192513369, 0.8368983957219251, 0.8368983957219251, 0.8342245989304813, 0.8342245989304813, 0.8342245989304813, 0.8342245989304813, 0.8342245989304813, 0.8342245989304813, 0.8342245989304813, 0.8342245989304813, 0.8315508021390374, 0.8315508021390374, 0.8315508021390374, 0.8288770053475936, 0.8288770053475936, 0.8288770053475936, 0.8288770053475936, 0.8288770053475936, 0.8288770053475936, 0.8288770053475936, 0.8288770053475936, 0.8262032085561497, 0.8262032085561497, 0.8262032085561497, 0.8262032085561497, 0.8262032085561497, 0.8262032085561497, 0.8262032085561497, 0.8262032085561497, 0.8262032085561497, 0.8262032085561497, 0.8262032085561497, 0.8262032085561497, 0.8262032085561497, 0.8235294117647058, 0.8235294117647058, 0.8235294117647058, 0.8235294117647058, 0.820855614973262, 0.820855614973262, 0.820855614973262, 0.8181818181818182, 0.8155080213903744, 0.8155080213903744, 0.8155080213903744, 0.8128342245989305, 0.8128342245989305, 0.8128342245989305, 0.8101604278074866, 0.8101604278074866, 0.8101604278074866, 0.8074866310160428, 0.8074866310160428, 0.8074866310160428, 0.8048128342245989, 0.8048128342245989, 0.8048128342245989, 0.8048128342245989, 0.8048128342245989, 0.8048128342245989, 0.8048128342245989, 0.8021390374331551, 0.8021390374331551, 0.8021390374331551, 0.8021390374331551, 0.8021390374331551, 0.8021390374331551, 0.7994652406417112, 0.7967914438502673, 0.7967914438502673, 0.7941176470588235, 0.7914438502673797, 0.7914438502673797, 0.7887700534759359, 0.7887700534759359, 0.7887700534759359, 0.7887700534759359, 0.786096256684492, 0.786096256684492, 0.786096256684492, 0.786096256684492, 0.786096256684492, 0.786096256684492, 0.7834224598930482, 0.7834224598930482, 0.7807486631016043, 0.7780748663101604, 0.7780748663101604, 0.7754010695187166, 0.7754010695187166, 0.7754010695187166, 0.7727272727272727, 0.7727272727272727, 0.7727272727272727, 0.7727272727272727, 0.7700534759358288, 0.7700534759358288, 0.7700534759358288, 0.7700534759358288, 0.767379679144385, 0.767379679144385, 0.767379679144385, 0.767379679144385, 0.767379679144385, 0.7647058823529411, 0.7647058823529411, 0.7620320855614974, 0.7620320855614974, 0.7620320855614974, 0.7620320855614974, 0.7593582887700535, 0.7566844919786097, 0.7566844919786097, 0.7540106951871658, 0.7513368983957219, 0.7486631016042781, 0.7486631016042781, 0.7486631016042781, 0.7486631016042781, 0.7486631016042781, 0.7486631016042781, 0.7459893048128342, 0.7459893048128342, 0.7459893048128342, 0.7433155080213903, 0.7406417112299465, 0.7406417112299465, 0.7406417112299465, 0.7406417112299465, 0.7379679144385026, 0.7352941176470589, 0.7352941176470589, 0.7352941176470589, 0.7352941176470589, 0.7352941176470589, 0.7352941176470589, 0.732620320855615, 0.732620320855615, 0.732620320855615, 0.732620320855615, 0.732620320855615, 0.732620320855615, 0.732620320855615, 0.7299465240641712, 0.7299465240641712, 0.7272727272727273, 0.7245989304812834, 0.7245989304812834, 0.7219251336898396, 0.7192513368983957, 0.7192513368983957, 0.7165775401069518, 0.7165775401069518, 0.7165775401069518, 0.7165775401069518, 0.7165775401069518, 0.713903743315508, 0.713903743315508, 0.713903743315508, 0.7112299465240641, 0.7112299465240641, 0.7112299465240641, 0.7085561497326203, 0.7085561497326203, 0.7085561497326203, 0.7085561497326203, 0.7058823529411765, 0.7058823529411765, 0.7032085561497327, 0.7032085561497327, 0.7005347593582888, 0.6978609625668449, 0.6978609625668449, 0.6978609625668449, 0.6978609625668449, 0.6978609625668449, 0.6951871657754011, 0.6951871657754011, 0.6951871657754011, 0.6951871657754011, 0.6951871657754011, 0.6925133689839572, 0.6898395721925134, 0.6871657754010695, 0.6844919786096256, 0.6844919786096256, 0.6844919786096256, 0.6844919786096256, 0.6844919786096256, 0.6844919786096256, 0.6844919786096256, 0.6818181818181818, 0.6818181818181818, 0.6818181818181818, 0.6818181818181818, 0.679144385026738, 0.679144385026738, 0.6764705882352942, 0.6737967914438503, 0.6737967914438503, 0.6711229946524064, 0.6711229946524064, 0.6684491978609626, 0.6684491978609626, 0.6657754010695187, 0.6657754010695187, 0.6631016042780749, 0.6631016042780749, 0.660427807486631, 0.660427807486631, 0.660427807486631, 0.660427807486631, 0.660427807486631, 0.6577540106951871, 0.6577540106951871, 0.6577540106951871, 0.6550802139037433, 0.6550802139037433, 0.6550802139037433, 0.6524064171122995, 0.6524064171122995, 0.6524064171122995, 0.6524064171122995, 0.6497326203208557, 0.6497326203208557, 0.6497326203208557, 0.6497326203208557, 0.6497326203208557, 0.6497326203208557, 0.6497326203208557, 0.6497326203208557, 0.6497326203208557, 0.6497326203208557, 0.6497326203208557, 0.6470588235294118, 0.6443850267379679, 0.6417112299465241, 0.6390374331550802, 0.6390374331550802, 0.6363636363636364, 0.6336898395721925, 0.6336898395721925, 0.6336898395721925, 0.6336898395721925, 0.6336898395721925, 0.6336898395721925, 0.6336898395721925, 0.6336898395721925, 0.6310160427807486, 0.6283422459893048, 0.6283422459893048, 0.6256684491978609, 0.6256684491978609, 0.6256684491978609, 0.6229946524064172, 0.6229946524064172, 0.6203208556149733, 0.6203208556149733, 0.6203208556149733, 0.6203208556149733, 0.6176470588235294, 0.6176470588235294, 0.6149732620320856, 0.6149732620320856, 0.6149732620320856, 0.6149732620320856, 0.6149732620320856, 0.6149732620320856, 0.6149732620320856, 0.6149732620320856, 0.6149732620320856, 0.6149732620320856, 0.6149732620320856, 0.6149732620320856, 0.6149732620320856, 0.6149732620320856, 0.6149732620320856, 0.6122994652406417, 0.6096256684491979, 0.606951871657754, 0.606951871657754, 0.606951871657754, 0.606951871657754, 0.6042780748663101, 0.6042780748663101, 0.6042780748663101, 0.6042780748663101, 0.6016042780748663, 0.6016042780748663, 0.6016042780748663, 0.6016042780748663, 0.5989304812834224, 0.5962566844919787, 0.5962566844919787, 0.5962566844919787, 0.5962566844919787, 0.5962566844919787, 0.5962566844919787, 0.5962566844919787, 0.5935828877005348, 0.5935828877005348, 0.5935828877005348, 0.5909090909090909, 0.5882352941176471, 0.5855614973262032, 0.5828877005347594, 0.5828877005347594, 0.5828877005347594, 0.5828877005347594, 0.5828877005347594, 0.5828877005347594, 0.5828877005347594, 0.5828877005347594, 0.5828877005347594, 0.5828877005347594, 0.5802139037433155, 0.5802139037433155, 0.5802139037433155, 0.5775401069518716, 0.5775401069518716, 0.5748663101604278, 0.5721925133689839, 0.5721925133689839, 0.5721925133689839, 0.56951871657754, 0.5668449197860963, 0.5641711229946524, 0.5614973262032086, 0.5614973262032086, 0.5614973262032086, 0.5614973262032086, 0.5614973262032086, 0.5614973262032086, 0.5614973262032086, 0.5614973262032086, 0.5588235294117647, 0.5561497326203209, 0.553475935828877, 0.5508021390374331, 0.5508021390374331, 0.5481283422459893, 0.5454545454545454, 0.5454545454545454, 0.5454545454545454, 0.5454545454545454, 0.5427807486631016, 0.5427807486631016, 0.5401069518716578, 0.5401069518716578, 0.5401069518716578, 0.5401069518716578, 0.5401069518716578, 0.5374331550802139, 0.5347593582887701, 0.5347593582887701, 0.5320855614973262, 0.5294117647058824, 0.5294117647058824, 0.5294117647058824, 0.5267379679144385, 0.5267379679144385, 0.5267379679144385, 0.5240641711229946, 0.5240641711229946, 0.5213903743315508, 0.5213903743315508, 0.5213903743315508, 0.5187165775401069, 0.5187165775401069, 0.5187165775401069, 0.5187165775401069, 0.5187165775401069, 0.5187165775401069, 0.5187165775401069, 0.5187165775401069, 0.516042780748663, 0.516042780748663, 0.5133689839572193, 0.5133689839572193, 0.5133689839572193, 0.5133689839572193, 0.5106951871657754, 0.5106951871657754, 0.5106951871657754, 0.5106951871657754, 0.5106951871657754, 0.5106951871657754, 0.5080213903743316, 0.5053475935828877, 0.5053475935828877, 0.5053475935828877, 0.5053475935828877, 0.5053475935828877, 0.5053475935828877, 0.5053475935828877, 0.5053475935828877, 0.5053475935828877, 0.5053475935828877, 0.5026737967914439, 0.5026737967914439, 0.5026737967914439, 0.5, 0.49732620320855614, 0.49732620320855614, 0.49732620320855614, 0.4946524064171123, 0.4946524064171123, 0.4946524064171123, 0.4919786096256685, 0.4919786096256685, 0.4919786096256685, 0.4919786096256685, 0.4919786096256685, 0.4919786096256685, 0.4919786096256685, 0.4919786096256685, 0.4919786096256685, 0.4919786096256685, 0.4919786096256685, 0.4893048128342246, 0.48663101604278075, 0.48663101604278075, 0.4839572192513369, 0.4839572192513369, 0.4839572192513369, 0.4839572192513369, 0.4839572192513369, 0.4839572192513369, 0.4839572192513369, 0.4839572192513369, 0.4839572192513369, 0.48128342245989303, 0.48128342245989303, 0.4786096256684492, 0.4786096256684492, 0.47593582887700536, 0.4732620320855615, 0.47058823529411764, 0.47058823529411764, 0.47058823529411764, 0.47058823529411764, 0.47058823529411764, 0.4679144385026738, 0.4679144385026738, 0.46524064171123, 0.46524064171123, 0.46524064171123, 0.46524064171123, 0.4625668449197861, 0.4625668449197861, 0.45989304812834225, 0.45989304812834225, 0.45989304812834225, 0.45989304812834225, 0.4572192513368984, 0.4572192513368984, 0.45454545454545453, 0.45454545454545453, 0.45187165775401067, 0.44919786096256686, 0.446524064171123, 0.44385026737967914, 0.44385026737967914, 0.4411764705882353, 0.4411764705882353, 0.4385026737967914, 0.4385026737967914, 0.4358288770053476, 0.4358288770053476, 0.4358288770053476, 0.4358288770053476, 0.4358288770053476, 0.43315508021390375, 0.43315508021390375, 0.4304812834224599, 0.4304812834224599, 0.42780748663101603, 0.42513368983957217, 0.42513368983957217, 0.42245989304812837, 0.42245989304812837, 0.42245989304812837, 0.4197860962566845, 0.4197860962566845, 0.41711229946524064, 0.4144385026737968, 0.4144385026737968, 0.4117647058823529, 0.4090909090909091, 0.40641711229946526, 0.40641711229946526, 0.4037433155080214, 0.40106951871657753, 0.40106951871657753, 0.3983957219251337, 0.39572192513368987, 0.393048128342246, 0.39037433155080214, 0.39037433155080214, 0.3877005347593583, 0.3850267379679144, 0.3850267379679144, 0.38235294117647056, 0.38235294117647056, 0.38235294117647056, 0.37967914438502676, 0.37967914438502676, 0.3770053475935829, 0.37433155080213903, 0.3716577540106952, 0.3716577540106952, 0.3689839572192513, 0.3689839572192513, 0.3663101604278075, 0.36363636363636365, 0.3609625668449198, 0.3582887700534759, 0.35561497326203206, 0.35561497326203206, 0.35294117647058826, 0.3502673796791444, 0.34759358288770054, 0.3449197860962567, 0.3449197860962567, 0.3422459893048128, 0.339572192513369, 0.33689839572192515, 0.3342245989304813, 0.3315508021390374, 0.3315508021390374, 0.32887700534759357, 0.32620320855614976, 0.3235294117647059, 0.32085561497326204, 0.32085561497326204, 0.3181818181818182, 0.3181818181818182, 0.3181818181818182, 0.3155080213903743, 0.31283422459893045, 0.31283422459893045, 0.31016042780748665, 0.31016042780748665, 0.3074866310160428, 0.3048128342245989, 0.3048128342245989, 0.30213903743315507, 0.2994652406417112, 0.2994652406417112, 0.2994652406417112, 0.2967914438502674, 0.29411764705882354, 0.2914438502673797, 0.2887700534759358, 0.28609625668449196, 0.28609625668449196, 0.28342245989304815, 0.28342245989304815, 0.2807486631016043, 0.27807486631016043, 0.27540106951871657, 0.27540106951871657, 0.2727272727272727, 0.2700534759358289, 0.2700534759358289, 0.2700534759358289, 0.26737967914438504, 0.2647058823529412, 0.2647058823529412, 0.2647058823529412, 0.2647058823529412, 0.2647058823529412, 0.2647058823529412, 0.2647058823529412, 0.2647058823529412, 0.2647058823529412, 0.2647058823529412, 0.2647058823529412, 0.2620320855614973, 0.2620320855614973, 0.2620320855614973, 0.25935828877005346, 0.25668449197860965, 0.25668449197860965, 0.25668449197860965, 0.2540106951871658, 0.25133689839572193, 0.24866310160427807, 0.24598930481283424, 0.24598930481283424, 0.24598930481283424, 0.24331550802139038, 0.24064171122994651, 0.23796791443850268, 0.23529411764705882, 0.232620320855615, 0.232620320855615, 0.22994652406417113, 0.22994652406417113, 0.22727272727272727, 0.22727272727272727, 0.22459893048128343, 0.22459893048128343, 0.22192513368983957, 0.2192513368983957, 0.2192513368983957, 0.21657754010695188, 0.21657754010695188, 0.21657754010695188, 0.21390374331550802, 0.21390374331550802, 0.21122994652406418, 0.20855614973262032, 0.20855614973262032, 0.20588235294117646, 0.20320855614973263, 0.20053475935828877, 0.19786096256684493, 0.19518716577540107, 0.1925133689839572, 0.1925133689839572, 0.18983957219251338, 0.18716577540106952, 0.18449197860962566, 0.18181818181818182, 0.17914438502673796, 0.17647058823529413, 0.17647058823529413, 0.17647058823529413, 0.17647058823529413, 0.17379679144385027, 0.1711229946524064, 0.1711229946524064, 0.16844919786096257, 0.1657754010695187, 0.16310160427807488, 0.16042780748663102, 0.15775401069518716, 0.15508021390374332, 0.15240641711229946, 0.1497326203208556, 0.14705882352941177, 0.14705882352941177, 0.1443850267379679, 0.14171122994652408, 0.14171122994652408, 0.13903743315508021, 0.13636363636363635, 0.13368983957219252, 0.13368983957219252, 0.13101604278074866, 0.12834224598930483, 0.12566844919786097, 0.12299465240641712, 0.12032085561497326, 0.12032085561497326, 0.12032085561497326, 0.12032085561497326, 0.12032085561497326, 0.12032085561497326, 0.11764705882352941, 0.11764705882352941, 0.11764705882352941, 0.11764705882352941, 0.11764705882352941, 0.11764705882352941, 0.11497326203208556, 0.11229946524064172, 0.10962566844919786, 0.10695187165775401, 0.10427807486631016, 0.10160427807486631, 0.09893048128342247, 0.0962566844919786, 0.0962566844919786, 0.09358288770053476, 0.09090909090909091, 0.08823529411764706, 0.0855614973262032, 0.0855614973262032, 0.0855614973262032, 0.0855614973262032, 0.08288770053475936, 0.08021390374331551, 0.07754010695187166, 0.0748663101604278, 0.07219251336898395, 0.06951871657754011, 0.06684491978609626, 0.06684491978609626, 0.06417112299465241, 0.06417112299465241, 0.06417112299465241, 0.06149732620320856, 0.06149732620320856, 0.058823529411764705, 0.05614973262032086, 0.053475935828877004, 0.05080213903743316, 0.0481283422459893, 0.0481283422459893, 0.0481283422459893, 0.0481283422459893, 0.045454545454545456, 0.045454545454545456, 0.045454545454545456, 0.0427807486631016, 0.040106951871657755, 0.0374331550802139, 0.034759358288770054, 0.03208556149732621, 0.029411764705882353, 0.026737967914438502, 0.0213903743315508, 0.016042780748663103, 0.013368983957219251, 0.0106951871657754, 0.008021390374331552, 0.0053475935828877, 0.00267379679144385, 0.0], \"y\": [0.2706222865412446, 0.27009413468501087, 0.2702898550724638, 0.2704858593183466, 0.2706821480406386, 0.2701525054466231, 0.2703488372093023, 0.27054545454545453, 0.27074235807860264, 0.27093954843408596, 0.27113702623906705, 0.2713347921225383, 0.27153284671532846, 0.2717311906501096, 0.2719298245614035, 0.2721287490855889, 0.27232796486090777, 0.2725274725274725, 0.2727272727272727, 0.27292736610418195, 0.2723935389133627, 0.27259368111682586, 0.2727941176470588, 0.2729948491537896, 0.27319587628865977, 0.27339719970523213, 0.27359882005899705, 0.2738007380073801, 0.2740029542097489, 0.27420546932742057, 0.2744082840236686, 0.27461139896373055, 0.2748148148148148, 0.2750185322461082, 0.27522255192878337, 0.27542687453600595, 0.27563150074294207, 0.2758364312267658, 0.2760416666666667, 0.276247207743857, 0.27645305514157975, 0.2766592095451156, 0.27686567164179104, 0.2770724421209858, 0.2772795216741405, 0.2774869109947644, 0.2776946107784431, 0.27790262172284647, 0.27811094452773616, 0.27831957989497375, 0.27852852852852855, 0.2787377911344853, 0.2789473684210526, 0.27915726109857036, 0.27936746987951805, 0.27957799547852297, 0.27978883861236803, 0.28, 0.2802114803625378, 0.2804232804232804, 0.2806354009077156, 0.2808478425435276, 0.28106060606060607, 0.2812736921910538, 0.28148710166919577, 0.28170083523158695, 0.28191489361702127, 0.28212927756653994, 0.2823439878234399, 0.28255902513328257, 0.28277439024390244, 0.2829900839054157, 0.283206106870229, 0.28342245989304815, 0.28363914373088683, 0.28407350689127103, 0.2842911877394636, 0.28450920245398775, 0.2847275518035303, 0.2849462365591398, 0.2851652574942352, 0.2853846153846154, 0.28560431100846806, 0.28582434514637906, 0.28604471858134156, 0.2862654320987654, 0.2864864864864865, 0.2867078825347759, 0.28692962103634956, 0.2871517027863777, 0.28737412858249417, 0.2875968992248062, 0.2878200155159038, 0.28804347826086957, 0.28826728826728826, 0.2884914463452566, 0.28871595330739297, 0.28894080996884736, 0.289166017147311, 0.28939157566302653, 0.2896174863387978, 0.28984375, 0.29007036747458953, 0.29029733959311427, 0.29052466718872355, 0.2907523510971787, 0.2909803921568627, 0.29120879120879123, 0.2914375490966222, 0.2916666666666667, 0.29189614476789927, 0.2921259842519685, 0.2923561859732072, 0.29258675078864355, 0.292817679558011, 0.2930489731437599, 0.2932806324110672, 0.2935126582278481, 0.2937450514647664, 0.29397781299524567, 0.2942109436954798, 0.29444444444444445, 0.2946783161239079, 0.294912559618442, 0.2951471758154336, 0.29538216560509556, 0.29561752988047807, 0.29608938547486036, 0.2963258785942492, 0.29576338928856916, 0.296, 0.2962369895916733, 0.296474358974359, 0.2967121090617482, 0.2969502407704655, 0.2971887550200803, 0.297427652733119, 0.29766693483507645, 0.29790660225442833, 0.29814665592264306, 0.29838709677419356, 0.2986279257465698, 0.2988691437802908, 0.2991107518189167, 0.2993527508090615, 0.29959514170040485, 0.29983792544570503, 0.30008110300081103, 0.3003246753246753, 0.3005686433793664, 0.3008130081300813, 0.30105777054515864, 0.30130293159609123, 0.3015484922575387, 0.30179445350734097, 0.3022875816993464, 0.30253475061324614, 0.3027823240589198, 0.30303030303030304, 0.30245901639344264, 0.302707136997539, 0.30295566502463056, 0.3032046014790468, 0.3034539473684211, 0.3037037037037037, 0.3039538714991763, 0.30420445177246497, 0.30445544554455445, 0.30470685383980184, 0.3049586776859504, 0.304383788254756, 0.304635761589404, 0.30488815244407624, 0.30514096185737977, 0.3053941908713693, 0.30564784053156147, 0.3059019118869493, 0.30615640599001664, 0.3064113238967527, 0.30666666666666664, 0.30692243536280234, 0.3071786310517529, 0.30743525480367584, 0.3076923076923077, 0.3079497907949791, 0.3082077051926298, 0.30846605196982396, 0.3087248322147651, 0.3089840470193115, 0.3092436974789916, 0.30950378469301937, 0.30976430976430974, 0.3100252737994945, 0.3102866779089376, 0.3105485232067511, 0.3108108108108108, 0.31107354184277264, 0.311336717428088, 0.31160033869602033, 0.31186440677966104, 0.31212892281594573, 0.31239388794567063, 0.31265930331350894, 0.3129251700680272, 0.3131914893617021, 0.313458262350937, 0.3137254901960784, 0.31399317406143346, 0.3142613151152861, 0.3145299145299145, 0.31479897348160824, 0.3150684931506849, 0.31533847472150817, 0.3156089193825043, 0.3158798283261803, 0.31529209621993126, 0.31556319862424764, 0.3158347676419966, 0.3161068044788975, 0.3163793103448276, 0.3166522864538395, 0.3169257340241796, 0.317199654278306, 0.31747404844290655, 0.3177489177489177, 0.31802426343154244, 0.3183000867302689, 0.3185763888888889, 0.3188531711555169, 0.3191304347826087, 0.31940818102698, 0.31968641114982577, 0.3199651264167393, 0.32024432809773123, 0.3205240174672489, 0.3208041958041958, 0.321084864391951, 0.3204903677758319, 0.32077125328659073, 0.3201754385964912, 0.32045654082528535, 0.32073813708260107, 0.3210202286719437, 0.32130281690140844, 0.32158590308370044, 0.3218694885361552, 0.32215357458075905, 0.3224381625441696, 0.32272325375773653, 0.3230088495575221, 0.3232949512843224, 0.32358156028368795, 0.323868677905945, 0.3241563055062167, 0.3244444444444444, 0.32473309608540923, 0.3250222617987533, 0.3253119429590018, 0.3256021409455843, 0.32589285714285715, 0.3261840929401251, 0.32647584973166366, 0.3267681289167413, 0.3270609318996416, 0.3273542600896861, 0.3276481149012567, 0.3270440251572327, 0.3273381294964029, 0.3276327632763276, 0.3279279279279279, 0.32822362488728585, 0.3285198555956679, 0.3288166214995483, 0.3282097649186257, 0.32850678733031674, 0.328804347826087, 0.32819582955575705, 0.32849364791288566, 0.32879200726612173, 0.3290909090909091, 0.3293903548680619, 0.3296903460837887, 0.3299908842297174, 0.3302919708029197, 0.33059360730593607, 0.33089579524680074, 0.3311985361390668, 0.3315018315018315, 0.3318056828597617, 0.3321100917431193, 0.33241505968778695, 0.3327205882352941, 0.3330266789328427, 0.3333333333333333, 0.3336405529953917, 0.3339483394833948, 0.33425669436749766, 0.3345656192236599, 0.3348751156336725, 0.3351851851851852, 0.33549582947173306, 0.3358070500927644, 0.3361188486536676, 0.33643122676579923, 0.33674418604651163, 0.3370577281191806, 0.33737185461323393, 0.33800186741363214, 0.33738317757009345, 0.3376987839101964, 0.33801498127340823, 0.338331771321462, 0.33864915572232646, 0.3389671361502347, 0.3392857142857143, 0.3396048918156162, 0.339924670433145, 0.3402450518378888, 0.34056603773584904, 0.3408876298394712, 0.34120982986767484, 0.3415326395458846, 0.3418560606060606, 0.34218009478672984, 0.3425047438330171, 0.34283000949667614, 0.3431558935361217, 0.3434823977164605, 0.34285714285714286, 0.342230695900858, 0.3425572519083969, 0.3428844317096466, 0.34321223709369025, 0.3435406698564593, 0.3438697318007663, 0.34419942473633747, 0.34452975047984646, 0.3448607108549472, 0.3451923076923077, 0.3455245428296439, 0.34585741811175336, 0.3461909353905497, 0.3465250965250965, 0.3468599033816425, 0.3471953578336557, 0.3465634075508228, 0.34689922480620156, 0.3472356935014549, 0.34757281553398056, 0.34791059280855197, 0.34824902723735407, 0.3485881207400195, 0.3489278752436647, 0.3492682926829268, 0.3486328125, 0.3489736070381232, 0.3493150684931507, 0.34965719882468166, 0.35, 0.35034347399411186, 0.3506876227897839, 0.35103244837758113, 0.3513779527559055, 0.35172413793103446, 0.3520710059171598, 0.35241855873642647, 0.35276679841897235, 0.35212660731948564, 0.35247524752475246, 0.3528245787908821, 0.3531746031746032, 0.3535253227408143, 0.3538767395626243, 0.354228855721393, 0.3545816733067729, 0.35493519441674976, 0.35528942115768464, 0.35564435564435565, 0.356, 0.3563563563563564, 0.35671342685370744, 0.35707121364092276, 0.357429718875502, 0.3577889447236181, 0.358148893360161, 0.35850956696878145, 0.3588709677419355, 0.35923309788092833, 0.3595959595959596, 0.35995955510616784, 0.3603238866396761, 0.3606889564336373, 0.36105476673427994, 0.3614213197969543, 0.3617886178861789, 0.3621566632756867, 0.3625254582484725, 0.36289500509684, 0.363265306122449, 0.36363636363636365, 0.36400817995910023, 0.36438075742067555, 0.36475409836065575, 0.36512820512820515, 0.3655030800821355, 0.3658787255909558, 0.3662551440329218, 0.3666323377960865, 0.3670103092783505, 0.3673890608875129, 0.3677685950413223, 0.36814891416752843, 0.36853002070393376, 0.3689119170984456, 0.36929460580912865, 0.36967808930425755, 0.3700623700623701, 0.3704474505723205, 0.37083333333333335, 0.37122002085505734, 0.37160751565762007, 0.3719958202716823, 0.3713389121338912, 0.3717277486910995, 0.3721174004192872, 0.372507869884575, 0.37289915966386555, 0.3722397476340694, 0.3726315789473684, 0.37302423603793466, 0.37341772151898733, 0.3738120380147835, 0.37420718816067655, 0.3746031746031746, 0.375, 0.3753976670201485, 0.37579617834394907, 0.37619553666312433, 0.37659574468085105, 0.3769968051118211, 0.3773987206823028, 0.37780149413020275, 0.3782051282051282, 0.3786096256684492, 0.37901498929336186, 0.37942122186495175, 0.3798283261802575, 0.3802363050483351, 0.38064516129032255, 0.38105489773950485, 0.38146551724137934, 0.3818770226537217, 0.38228941684665224, 0.3827027027027027, 0.38311688311688313, 0.38353196099674974, 0.3839479392624729, 0.38436482084690554, 0.3847826086956522, 0.3852013057671382, 0.38562091503267976, 0.386041439476554, 0.3864628820960699, 0.38688524590163936, 0.387308533916849, 0.3877327491785323, 0.3881578947368421, 0.3885839736553238, 0.389010989010989, 0.38943894389438943, 0.3898678414096916, 0.39029768467475195, 0.39072847682119205, 0.3911602209944751, 0.3915929203539823, 0.3920265780730897, 0.39135254988913526, 0.39178690344062156, 0.39111111111111113, 0.39154616240266965, 0.39198218262806234, 0.391304347826087, 0.39174107142857145, 0.39217877094972065, 0.39149888143176736, 0.3908174692049272, 0.39125560538116594, 0.39169472502805835, 0.3921348314606742, 0.3925759280089989, 0.393018018018018, 0.39346110484780156, 0.3939051918735892, 0.3943502824858757, 0.3936651583710407, 0.3941109852774632, 0.3945578231292517, 0.39500567536889897, 0.39545454545454545, 0.39590443686006827, 0.39635535307517084, 0.39680729760547323, 0.3972602739726027, 0.3965714285714286, 0.39702517162471396, 0.3974799541809851, 0.39793577981651373, 0.3983926521239954, 0.39770114942528734, 0.39815880322209435, 0.3986175115207373, 0.3990772779700115, 0.39838337182448036, 0.3988439306358382, 0.3993055555555556, 0.39976825028968715, 0.3990719257540603, 0.3995354239256678, 0.4, 0.39930151338766007, 0.3997668997668998, 0.4002333722287048, 0.39953271028037385, 0.4, 0.40046838407494145, 0.40093786635404455, 0.4014084507042254, 0.4018801410105758, 0.4023529411764706, 0.4028268551236749, 0.4033018867924528, 0.4037780401416765, 0.40425531914893614, 0.4035502958579882, 0.4040284360189573, 0.4045077105575326, 0.40380047505938244, 0.4042806183115339, 0.4035714285714286, 0.40405244338498214, 0.4045346062052506, 0.4050179211469534, 0.4055023923444976, 0.40479041916167663, 0.4052757793764988, 0.40456182472989194, 0.4050480769230769, 0.4055354993983153, 0.40602409638554215, 0.40651387213510254, 0.40700483091787437, 0.407496977025393, 0.40799031476997577, 0.4072727272727273, 0.4077669902912621, 0.4082624544349939, 0.40875912408759124, 0.4092570036540804, 0.4097560975609756, 0.41025641025641024, 0.41075794621026895, 0.41003671970624234, 0.40931372549019607, 0.4098159509202454, 0.4103194103194103, 0.4108241082410824, 0.4100985221674877, 0.41060419235511714, 0.4111111111111111, 0.411619283065513, 0.4121287128712871, 0.4114002478314746, 0.4119106699751861, 0.4124223602484472, 0.4129353233830846, 0.41344956413449563, 0.4139650872817955, 0.41448189762796506, 0.41375, 0.4142678347934919, 0.41353383458646614, 0.41405269761606023, 0.41331658291457285, 0.4138364779874214, 0.41435768261964734, 0.41488020176544765, 0.41414141414141414, 0.41466498103666244, 0.4151898734177215, 0.4157160963244613, 0.41624365482233505, 0.4167725540025413, 0.4173027989821883, 0.4178343949044586, 0.41836734693877553, 0.41890166028097064, 0.4194373401534527, 0.4199743918053777, 0.4205128205128205, 0.4197689345314506, 0.4203084832904884, 0.42084942084942084, 0.4213917525773196, 0.4206451612903226, 0.42118863049095606, 0.4217335058214748, 0.422279792746114, 0.42282749675745784, 0.42337662337662335, 0.4226267880364109, 0.421875, 0.42242503259452413, 0.42297650130548303, 0.4235294117647059, 0.42277486910994766, 0.4233289646133683, 0.4238845144356955, 0.4244415243101183, 0.425, 0.42555994729907776, 0.4261213720316623, 0.42668428005284015, 0.42724867724867727, 0.4278145695364238, 0.42838196286472147, 0.42895086321381143, 0.4295212765957447, 0.43009320905459386, 0.42933333333333334, 0.42857142857142855, 0.42914438502673796, 0.42971887550200805, 0.4289544235924933, 0.42953020134228187, 0.42876344086021506, 0.42934051144010765, 0.42857142857142855, 0.4291497975708502, 0.4283783783783784, 0.428958051420839, 0.42953929539295393, 0.43012211668928085, 0.43070652173913043, 0.4312925170068027, 0.4318801089918256, 0.4324693042291951, 0.43306010928961747, 0.43365253077975374, 0.43424657534246575, 0.4334705075445816, 0.4340659340659341, 0.4346629986244842, 0.43388429752066116, 0.43310344827586206, 0.43370165745856354, 0.43291839557399725, 0.43351800554016623, 0.43273231622746183, 0.43333333333333335, 0.4339360222531293, 0.43454038997214484, 0.4351464435146444, 0.43575418994413406, 0.43636363636363634, 0.4369747899159664, 0.4361851332398317, 0.43679775280898875, 0.43741209563994377, 0.43661971830985913, 0.43723554301833567, 0.4378531073446328, 0.43847241867043846, 0.43909348441926344, 0.4397163120567376, 0.4403409090909091, 0.44096728307254623, 0.44017094017094016, 0.44079885877318115, 0.44142857142857145, 0.44206008583690987, 0.44269340974212035, 0.4433285509325681, 0.44396551724137934, 0.4446043165467626, 0.4452449567723343, 0.4458874458874459, 0.44653179190751446, 0.447178002894356, 0.44782608695652176, 0.44702467343976776, 0.4476744186046512, 0.4483260553129549, 0.4489795918367347, 0.4481751824817518, 0.44883040935672514, 0.4494875549048316, 0.44868035190615835, 0.447870778267254, 0.4485294117647059, 0.4491899852724595, 0.44837758112094395, 0.44903988183161003, 0.44970414201183434, 0.4488888888888889, 0.4495548961424332, 0.45022288261515603, 0.4494047619047619, 0.45007451564828616, 0.4507462686567164, 0.4499252615844544, 0.4505988023952096, 0.4512743628185907, 0.4519519519519519, 0.45263157894736844, 0.45331325301204817, 0.4539969834087481, 0.45317220543806647, 0.45385779122541603, 0.45454545454545453, 0.4552352048558422, 0.45592705167173253, 0.45662100456621, 0.4557926829268293, 0.4549618320610687, 0.45565749235474007, 0.4548238897396631, 0.4539877300613497, 0.45468509984639016, 0.45384615384615384, 0.45454545454545453, 0.45524691358024694, 0.4559505409582689, 0.4551083591331269, 0.4558139534883721, 0.45652173913043476, 0.4572317262830482, 0.45794392523364486, 0.45865834633385333, 0.4578125, 0.458528951486698, 0.45768025078369906, 0.45682888540031397, 0.45754716981132076, 0.4566929133858268, 0.45741324921135645, 0.45813586097946285, 0.4572784810126582, 0.45800316957210774, 0.4587301587301587, 0.4594594594594595, 0.4585987261146497, 0.45933014354066987, 0.46006389776357826, 0.4608, 0.4599358974358974, 0.4606741573033708, 0.46141479099678456, 0.46215780998389694, 0.4629032258064516, 0.4620355411954766, 0.4627831715210356, 0.4619124797406807, 0.46266233766233766, 0.4634146341463415, 0.46416938110749184, 0.4632952691680261, 0.4624183006535948, 0.46317512274959083, 0.46229508196721314, 0.4614121510673235, 0.4605263157894737, 0.4612850082372323, 0.46204620462046203, 0.4628099173553719, 0.46357615894039733, 0.46434494195688225, 0.4634551495016611, 0.46422628951747086, 0.465, 0.46410684474123537, 0.46321070234113715, 0.4639865996649916, 0.46476510067114096, 0.46554621848739497, 0.46464646464646464, 0.463743676222597, 0.46452702702702703, 0.4653130287648054, 0.4661016949152542, 0.466893039049236, 0.467687074829932, 0.46678023850085176, 0.46757679180887374, 0.4683760683760684, 0.4691780821917808, 0.4699828473413379, 0.47079037800687284, 0.47160068846815834, 0.4706896551724138, 0.47150259067357514, 0.47058823529411764, 0.4696707105719237, 0.4704861111111111, 0.46956521739130436, 0.4686411149825784, 0.4694589877835951, 0.46853146853146854, 0.46935201401050786, 0.47017543859649125, 0.4710017574692443, 0.47183098591549294, 0.4708994708994709, 0.4717314487632509, 0.4725663716814159, 0.4716312056737589, 0.4724689165186501, 0.47330960854092524, 0.47237076648841353, 0.4732142857142857, 0.4740608228980322, 0.47491039426523296, 0.473967684021544, 0.4748201438848921, 0.47387387387387386, 0.4747292418772563, 0.47377938517179025, 0.47282608695652173, 0.47368421052631576, 0.47454545454545455, 0.47540983606557374, 0.4762773722627737, 0.4753199268738574, 0.47619047619047616, 0.47706422018348627, 0.47794117647058826, 0.47882136279926335, 0.477859778597786, 0.47689463955637706, 0.4759259259259259, 0.4749536178107607, 0.4758364312267658, 0.4767225325884544, 0.47761194029850745, 0.4785046728971963, 0.4794007490636704, 0.4803001876172608, 0.4793233082706767, 0.480225988700565, 0.4811320754716981, 0.4820415879017013, 0.4810606060606061, 0.4819734345351044, 0.48098859315589354, 0.48, 0.48091603053435117, 0.47992351816443596, 0.48084291187739464, 0.4798464491362764, 0.4807692307692308, 0.4797687861271676, 0.4806949806949807, 0.4796905222437137, 0.4806201550387597, 0.4796116504854369, 0.4805447470817121, 0.48148148148148145, 0.482421875, 0.48336594911937375, 0.4823529411764706, 0.48330058939096265, 0.484251968503937, 0.4832347140039448, 0.4841897233201581, 0.48514851485148514, 0.48412698412698413, 0.4850894632206759, 0.4860557768924303, 0.4870259481037924, 0.486, 0.48697394789579157, 0.4879518072289157, 0.48893360160965793, 0.4899193548387097, 0.4909090909090909, 0.49190283400809715, 0.49290060851926976, 0.49390243902439024, 0.49490835030549896, 0.4959183673469388, 0.4948875255623722, 0.49385245901639346, 0.4928131416837782, 0.49176954732510286, 0.4927835051546392, 0.49173553719008267, 0.4906832298136646, 0.491701244813278, 0.49272349272349275, 0.49375, 0.49478079331941544, 0.49581589958158995, 0.4968553459119497, 0.49789915966386555, 0.4968421052631579, 0.4957805907172996, 0.49682875264270615, 0.4957627118644068, 0.4968152866242038, 0.4978723404255319, 0.4968017057569296, 0.49786324786324787, 0.49678800856531047, 0.4978540772532189, 0.4989247311827957, 0.5, 0.49892008639308855, 0.5, 0.49891540130151846, 0.5, 0.5010893246187363, 0.5021834061135371, 0.5032822757111597, 0.5043859649122807, 0.5054945054945055, 0.5066079295154186, 0.5077262693156733, 0.5088495575221239, 0.5099778270509978, 0.5111111111111111, 0.512249443207127, 0.5133928571428571, 0.5145413870246085, 0.5134529147982063, 0.5123595505617977, 0.5112612612612613, 0.5124153498871332, 0.5135746606334841, 0.5147392290249433, 0.5136363636363637, 0.5148063781321185, 0.5159817351598174, 0.517162471395881, 0.5160550458715596, 0.5172413793103449, 0.5184331797235023, 0.5196304849884527, 0.5185185185185185, 0.5174013921113689, 0.5186046511627908, 0.5198135198135199, 0.5210280373831776, 0.522248243559719, 0.5234741784037559, 0.5247058823529411, 0.5235849056603774, 0.524822695035461, 0.5260663507109005, 0.5249406175771971, 0.5238095238095238, 0.522673031026253, 0.5215311004784688, 0.5227817745803357, 0.5240384615384616, 0.5253012048192771, 0.5265700483091788, 0.5278450363196125, 0.529126213592233, 0.5304136253041363, 0.5317073170731708, 0.5330073349633252, 0.5318627450980392, 0.5331695331695332, 0.5344827586206896, 0.5333333333333333, 0.5346534653465347, 0.533498759305211, 0.5323383084577115, 0.5336658354114713, 0.535, 0.5338345864661654, 0.5326633165829145, 0.5314861460957179, 0.5303030303030303, 0.5316455696202531, 0.5329949238578681, 0.5343511450381679, 0.5357142857142857, 0.5370843989769821, 0.5384615384615384, 0.5398457583547558, 0.538659793814433, 0.537467700258398, 0.5362694300518135, 0.535064935064935, 0.5364583333333334, 0.5352480417754569, 0.5340314136125655, 0.5354330708661418, 0.5368421052631579, 0.5382585751978892, 0.5370370370370371, 0.5384615384615384, 0.5372340425531915, 0.5386666666666666, 0.5401069518716578, 0.5415549597855228, 0.543010752688172, 0.5417789757412399, 0.5405405405405406, 0.5420054200542005, 0.5407608695652174, 0.5395095367847411, 0.5409836065573771, 0.5424657534246575, 0.5412087912087912, 0.5426997245179064, 0.5441988950276243, 0.5429362880886427, 0.5444444444444444, 0.5431754874651811, 0.5446927374301676, 0.5462184873949579, 0.5449438202247191, 0.5464788732394367, 0.5480225988700564, 0.5495750708215298, 0.5511363636363636, 0.5527065527065527, 0.5542857142857143, 0.5558739255014327, 0.5545977011494253, 0.5561959654178674, 0.5549132947976878, 0.5565217391304348, 0.5581395348837209, 0.5597667638483965, 0.5584795321637427, 0.5601173020527859, 0.5617647058823529, 0.5634218289085545, 0.5650887573964497, 0.5667655786350149, 0.5654761904761905, 0.564179104477612, 0.5658682634730539, 0.5675675675675675, 0.5692771084337349, 0.5709969788519638, 0.5727272727272728, 0.574468085106383, 0.5762195121951219, 0.5779816513761468, 0.5797546012269938, 0.5784615384615385, 0.5802469135802469, 0.5820433436532507, 0.5807453416149069, 0.5794392523364486, 0.58125, 0.5830721003134797, 0.5817610062893082, 0.583596214511041, 0.5854430379746836, 0.5841269841269842, 0.5859872611464968, 0.5878594249201278, 0.5897435897435898, 0.5916398713826366, 0.5935483870967742, 0.5954692556634305, 0.5974025974025974, 0.5993485342019544, 0.6013071895424836, 0.6032786885245902, 0.6019736842105263, 0.6006600660066007, 0.6026490066225165, 0.6013289036544851, 0.6033333333333334, 0.6053511705685619, 0.6073825503355704, 0.6094276094276094, 0.6114864864864865, 0.6135593220338983, 0.6156462585034014, 0.6177474402730375, 0.6164383561643836, 0.6185567010309279, 0.6172413793103448, 0.6193771626297578, 0.6180555555555556, 0.6167247386759582, 0.6153846153846154, 0.6175438596491228, 0.6197183098591549, 0.6219081272084805, 0.624113475177305, 0.6227758007117438, 0.625, 0.6236559139784946, 0.6258992805755396, 0.628158844765343, 0.6304347826086957, 0.6290909090909091, 0.6313868613138686, 0.63003663003663, 0.6323529411764706, 0.6346863468634686, 0.6370370370370371, 0.6356877323420075, 0.6380597014925373, 0.6367041198501873, 0.6390977443609023, 0.6377358490566037, 0.6363636363636364, 0.6349809885931559, 0.6335877862595419, 0.6360153256704981, 0.6346153846153846, 0.637065637065637, 0.6356589147286822, 0.6381322957198443, 0.6392156862745098, 0.6417322834645669, 0.6442687747035574, 0.6468253968253969, 0.649402390438247, 0.648, 0.6506024096385542, 0.6491935483870968, 0.6518218623481782, 0.6504065040650406, 0.6489795918367347, 0.6516393442622951, 0.6502057613168725, 0.6528925619834711, 0.6556016597510373, 0.6541666666666667, 0.6569037656903766, 0.6554621848739496, 0.6540084388185654, 0.6567796610169492, 0.6553191489361702, 0.6538461538461539, 0.6523605150214592, 0.6551724137931034, 0.6536796536796536, 0.6521739130434783, 0.6550218340611353, 0.6535087719298246, 0.6519823788546255, 0.6504424778761062, 0.6488888888888888, 0.6517857142857143, 0.6502242152466368, 0.6486486486486487, 0.6515837104072398, 0.65, 0.6529680365296804, 0.6559633027522935, 0.6543778801843319, 0.6574074074074074, 0.6558139534883721, 0.6542056074766355, 0.6525821596244131, 0.6556603773584906, 0.6540284360189573, 0.6571428571428571, 0.6555023923444976, 0.6538461538461539, 0.6521739130434783, 0.6504854368932039, 0.6487804878048781, 0.6519607843137255, 0.6502463054187192, 0.6485148514851485, 0.6467661691542289, 0.645, 0.6482412060301508, 0.6464646464646465, 0.6446700507614214, 0.6428571428571429, 0.6410256410256411, 0.6391752577319587, 0.6424870466321243, 0.640625, 0.6387434554973822, 0.6368421052631579, 0.6349206349206349, 0.6382978723404256, 0.6363636363636364, 0.6397849462365591, 0.6432432432432432, 0.6413043478260869, 0.639344262295082, 0.6428571428571429, 0.6408839779005525, 0.6444444444444445, 0.6424581005586593, 0.6404494382022472, 0.6440677966101694, 0.6420454545454546, 0.64, 0.6436781609195402, 0.6473988439306358, 0.6453488372093024, 0.6432748538011696, 0.6411764705882353, 0.6390532544378699, 0.6369047619047619, 0.6407185628742516, 0.6385542168674698, 0.6424242424242425, 0.6402439024390244, 0.6380368098159509, 0.6358024691358025, 0.639751552795031, 0.6375, 0.6352201257861635, 0.6392405063291139, 0.643312101910828, 0.6410256410256411, 0.6387096774193548, 0.6428571428571429, 0.6470588235294118, 0.6513157894736842, 0.6556291390728477, 0.66, 0.6644295302013423, 0.668918918918919, 0.673469387755102, 0.678082191780822, 0.6827586206896552, 0.6805555555555556, 0.6853146853146853, 0.6901408450704225, 0.6879432624113475, 0.6857142857142857, 0.6906474820143885, 0.6956521739130435, 0.6934306569343066, 0.6911764705882353, 0.6888888888888889, 0.6865671641791045, 0.6917293233082706, 0.696969696969697, 0.6946564885496184, 0.6923076923076923, 0.689922480620155, 0.6875, 0.6850393700787402, 0.6904761904761905, 0.688, 0.6935483870967742, 0.6910569105691057, 0.6967213114754098, 0.6942148760330579, 0.7, 0.6974789915966386, 0.6949152542372882, 0.7008547008547008, 0.6982758620689655, 0.7043478260869566, 0.7105263157894737, 0.7079646017699115, 0.7142857142857143, 0.7117117117117117, 0.7090909090909091, 0.7155963302752294, 0.7129629629629629, 0.7102803738317757, 0.7075471698113207, 0.7047619047619048, 0.7019230769230769, 0.6990291262135923, 0.7058823529411765, 0.7029702970297029, 0.7, 0.696969696969697, 0.6938775510204082, 0.6907216494845361, 0.6875, 0.6947368421052632, 0.7021276595744681, 0.7096774193548387, 0.7065217391304348, 0.7032967032967034, 0.7111111111111111, 0.7078651685393258, 0.7045454545454546, 0.7011494252873564, 0.6976744186046512, 0.6941176470588235, 0.6904761904761905, 0.6867469879518072, 0.6829268292682927, 0.6790123456790124, 0.6875, 0.6835443037974683, 0.6794871794871795, 0.6883116883116883, 0.6842105263157895, 0.68, 0.6756756756756757, 0.684931506849315, 0.6805555555555556, 0.676056338028169, 0.6714285714285714, 0.6666666666666666, 0.6617647058823529, 0.6716417910447762, 0.6818181818181818, 0.6923076923076923, 0.703125, 0.7142857142857143, 0.7096774193548387, 0.7213114754098361, 0.7333333333333333, 0.7457627118644068, 0.7586206896551724, 0.7719298245614035, 0.7678571428571429, 0.7636363636363637, 0.7592592592592593, 0.7547169811320755, 0.75, 0.7450980392156863, 0.74, 0.7346938775510204, 0.75, 0.7446808510638298, 0.7391304347826086, 0.7333333333333333, 0.7272727272727273, 0.7441860465116279, 0.7619047619047619, 0.7804878048780488, 0.775, 0.7692307692307693, 0.7631578947368421, 0.7567567567567568, 0.75, 0.7428571428571429, 0.7352941176470589, 0.7575757575757576, 0.75, 0.7741935483870968, 0.8, 0.7931034482758621, 0.8214285714285714, 0.8148148148148148, 0.8076923076923077, 0.8, 0.7916666666666666, 0.782608695652174, 0.8181818181818182, 0.8571428571428571, 0.9, 0.8947368421052632, 0.9444444444444444, 1.0, 1.0, 1.0, 1.0, 1.0, 1.0, 1.0, 1.0, 1.0, 1.0, 1.0, 1.0, 1.0, 1.0, 1.0, 1.0]}, {\"mode\": \"lines\", \"name\": \"XGB\", \"type\": \"scatter\", \"x\": [1.0, 0.9973262032085561, 0.9973262032085561, 0.9973262032085561, 0.9973262032085561, 0.9973262032085561, 0.9973262032085561, 0.9973262032085561, 0.9973262032085561, 0.9973262032085561, 0.9973262032085561, 0.9973262032085561, 0.9973262032085561, 0.9973262032085561, 0.9973262032085561, 0.9973262032085561, 0.9973262032085561, 0.9973262032085561, 0.9973262032085561, 0.9973262032085561, 0.9973262032085561, 0.9973262032085561, 0.9973262032085561, 0.9973262032085561, 0.9973262032085561, 0.9973262032085561, 0.9973262032085561, 0.9973262032085561, 0.9973262032085561, 0.9973262032085561, 0.9973262032085561, 0.9973262032085561, 0.9973262032085561, 0.9973262032085561, 0.9973262032085561, 0.9973262032085561, 0.9973262032085561, 0.9973262032085561, 0.9973262032085561, 0.9973262032085561, 0.9973262032085561, 0.9973262032085561, 0.9973262032085561, 0.9973262032085561, 0.9973262032085561, 0.9973262032085561, 0.9973262032085561, 0.9973262032085561, 0.9946524064171123, 0.9946524064171123, 0.9946524064171123, 0.9946524064171123, 0.9946524064171123, 0.9946524064171123, 0.9946524064171123, 0.9946524064171123, 0.9946524064171123, 0.9946524064171123, 0.9946524064171123, 0.9946524064171123, 0.9946524064171123, 0.9946524064171123, 0.9946524064171123, 0.9946524064171123, 0.9919786096256684, 0.9919786096256684, 0.9919786096256684, 0.9893048128342246, 0.9893048128342246, 0.9893048128342246, 0.9893048128342246, 0.9893048128342246, 0.9893048128342246, 0.9893048128342246, 0.9893048128342246, 0.9893048128342246, 0.9893048128342246, 0.9893048128342246, 0.9893048128342246, 0.9893048128342246, 0.9893048128342246, 0.9893048128342246, 0.9893048128342246, 0.9893048128342246, 0.9893048128342246, 0.9893048128342246, 0.9893048128342246, 0.9893048128342246, 0.9893048128342246, 0.9893048128342246, 0.9893048128342246, 0.9893048128342246, 0.9893048128342246, 0.9893048128342246, 0.9893048128342246, 0.9893048128342246, 0.9893048128342246, 0.9893048128342246, 0.9893048128342246, 0.9893048128342246, 0.9893048128342246, 0.9893048128342246, 0.9893048128342246, 0.9893048128342246, 0.9893048128342246, 0.9893048128342246, 0.9893048128342246, 0.9893048128342246, 0.9893048128342246, 0.9893048128342246, 0.9893048128342246, 0.9893048128342246, 0.9893048128342246, 0.9893048128342246, 0.9893048128342246, 0.9893048128342246, 0.9893048128342246, 0.9893048128342246, 0.9893048128342246, 0.9893048128342246, 0.9893048128342246, 0.9893048128342246, 0.9893048128342246, 0.9893048128342246, 0.9893048128342246, 0.9893048128342246, 0.9893048128342246, 0.9893048128342246, 0.9893048128342246, 0.9893048128342246, 0.9893048128342246, 0.9893048128342246, 0.9893048128342246, 0.9893048128342246, 0.9893048128342246, 0.9866310160427807, 0.9866310160427807, 0.983957219251337, 0.983957219251337, 0.983957219251337, 0.983957219251337, 0.983957219251337, 0.983957219251337, 0.983957219251337, 0.983957219251337, 0.983957219251337, 0.983957219251337, 0.983957219251337, 0.983957219251337, 0.983957219251337, 0.983957219251337, 0.983957219251337, 0.983957219251337, 0.983957219251337, 0.983957219251337, 0.983957219251337, 0.983957219251337, 0.983957219251337, 0.983957219251337, 0.983957219251337, 0.9812834224598931, 0.9812834224598931, 0.9812834224598931, 0.9812834224598931, 0.9812834224598931, 0.9812834224598931, 0.9812834224598931, 0.9812834224598931, 0.9812834224598931, 0.9812834224598931, 0.9812834224598931, 0.9812834224598931, 0.9812834224598931, 0.9812834224598931, 0.9812834224598931, 0.9812834224598931, 0.9812834224598931, 0.9812834224598931, 0.9812834224598931, 0.9812834224598931, 0.9812834224598931, 0.9812834224598931, 0.9812834224598931, 0.9786096256684492, 0.9786096256684492, 0.9786096256684492, 0.9786096256684492, 0.9786096256684492, 0.9786096256684492, 0.9786096256684492, 0.9786096256684492, 0.9786096256684492, 0.9786096256684492, 0.9786096256684492, 0.9786096256684492, 0.9786096256684492, 0.9786096256684492, 0.9786096256684492, 0.9786096256684492, 0.9786096256684492, 0.9786096256684492, 0.9786096256684492, 0.9786096256684492, 0.9786096256684492, 0.9786096256684492, 0.9786096256684492, 0.9786096256684492, 0.9786096256684492, 0.9786096256684492, 0.9786096256684492, 0.9786096256684492, 0.9786096256684492, 0.9786096256684492, 0.9786096256684492, 0.9786096256684492, 0.9786096256684492, 0.9759358288770054, 0.9759358288770054, 0.9759358288770054, 0.9759358288770054, 0.9759358288770054, 0.9759358288770054, 0.9759358288770054, 0.9759358288770054, 0.9759358288770054, 0.9759358288770054, 0.9759358288770054, 0.9759358288770054, 0.9759358288770054, 0.9759358288770054, 0.9759358288770054, 0.9759358288770054, 0.9732620320855615, 0.9732620320855615, 0.9732620320855615, 0.9732620320855615, 0.9732620320855615, 0.9732620320855615, 0.9732620320855615, 0.9732620320855615, 0.9732620320855615, 0.9732620320855615, 0.9732620320855615, 0.9732620320855615, 0.9732620320855615, 0.9732620320855615, 0.9732620320855615, 0.9732620320855615, 0.9732620320855615, 0.9732620320855615, 0.9732620320855615, 0.9732620320855615, 0.9732620320855615, 0.9732620320855615, 0.9732620320855615, 0.9705882352941176, 0.9705882352941176, 0.9705882352941176, 0.9705882352941176, 0.9705882352941176, 0.9705882352941176, 0.9705882352941176, 0.9705882352941176, 0.9705882352941176, 0.9705882352941176, 0.9705882352941176, 0.9705882352941176, 0.9679144385026738, 0.9679144385026738, 0.9679144385026738, 0.9679144385026738, 0.9679144385026738, 0.9679144385026738, 0.9679144385026738, 0.9679144385026738, 0.9679144385026738, 0.9679144385026738, 0.9679144385026738, 0.9679144385026738, 0.9679144385026738, 0.9679144385026738, 0.9652406417112299, 0.9652406417112299, 0.9652406417112299, 0.9652406417112299, 0.9652406417112299, 0.9652406417112299, 0.9652406417112299, 0.9652406417112299, 0.9652406417112299, 0.9652406417112299, 0.9652406417112299, 0.9652406417112299, 0.9652406417112299, 0.9652406417112299, 0.9652406417112299, 0.9652406417112299, 0.9652406417112299, 0.9652406417112299, 0.9652406417112299, 0.9652406417112299, 0.9652406417112299, 0.9652406417112299, 0.9625668449197861, 0.9625668449197861, 0.9598930481283422, 0.9598930481283422, 0.9598930481283422, 0.9572192513368984, 0.9572192513368984, 0.9572192513368984, 0.9572192513368984, 0.9572192513368984, 0.9572192513368984, 0.9572192513368984, 0.9572192513368984, 0.9572192513368984, 0.9572192513368984, 0.9572192513368984, 0.9572192513368984, 0.9572192513368984, 0.9545454545454546, 0.9545454545454546, 0.9545454545454546, 0.9545454545454546, 0.9545454545454546, 0.9545454545454546, 0.9545454545454546, 0.9545454545454546, 0.9545454545454546, 0.9545454545454546, 0.9545454545454546, 0.9545454545454546, 0.9545454545454546, 0.9545454545454546, 0.9545454545454546, 0.9545454545454546, 0.9545454545454546, 0.9545454545454546, 0.9545454545454546, 0.9545454545454546, 0.9545454545454546, 0.9545454545454546, 0.9545454545454546, 0.9545454545454546, 0.9545454545454546, 0.9545454545454546, 0.9545454545454546, 0.9545454545454546, 0.9545454545454546, 0.9545454545454546, 0.9545454545454546, 0.9545454545454546, 0.9545454545454546, 0.9545454545454546, 0.9545454545454546, 0.9545454545454546, 0.9518716577540107, 0.9518716577540107, 0.9518716577540107, 0.9518716577540107, 0.9491978609625669, 0.9491978609625669, 0.9491978609625669, 0.9491978609625669, 0.946524064171123, 0.946524064171123, 0.946524064171123, 0.946524064171123, 0.946524064171123, 0.946524064171123, 0.946524064171123, 0.9438502673796791, 0.9438502673796791, 0.9438502673796791, 0.9438502673796791, 0.9438502673796791, 0.9438502673796791, 0.9411764705882353, 0.9411764705882353, 0.9411764705882353, 0.9411764705882353, 0.9385026737967914, 0.9358288770053476, 0.9358288770053476, 0.9331550802139037, 0.9331550802139037, 0.9331550802139037, 0.9331550802139037, 0.9331550802139037, 0.9331550802139037, 0.93048128342246, 0.93048128342246, 0.93048128342246, 0.93048128342246, 0.93048128342246, 0.93048128342246, 0.93048128342246, 0.9278074866310161, 0.9278074866310161, 0.9278074866310161, 0.9278074866310161, 0.9278074866310161, 0.9278074866310161, 0.9278074866310161, 0.9278074866310161, 0.9278074866310161, 0.9278074866310161, 0.9278074866310161, 0.9251336898395722, 0.9251336898395722, 0.9224598930481284, 0.9224598930481284, 0.9224598930481284, 0.9224598930481284, 0.9197860962566845, 0.9171122994652406, 0.9171122994652406, 0.9171122994652406, 0.9171122994652406, 0.9171122994652406, 0.9171122994652406, 0.9171122994652406, 0.9171122994652406, 0.9144385026737968, 0.9144385026737968, 0.9144385026737968, 0.9144385026737968, 0.9117647058823529, 0.9117647058823529, 0.9117647058823529, 0.9090909090909091, 0.9090909090909091, 0.9090909090909091, 0.9090909090909091, 0.9090909090909091, 0.9090909090909091, 0.9064171122994652, 0.9064171122994652, 0.9064171122994652, 0.9064171122994652, 0.9064171122994652, 0.9064171122994652, 0.9064171122994652, 0.9064171122994652, 0.9064171122994652, 0.9064171122994652, 0.9064171122994652, 0.9064171122994652, 0.9064171122994652, 0.9064171122994652, 0.9064171122994652, 0.9064171122994652, 0.9064171122994652, 0.9064171122994652, 0.9064171122994652, 0.9064171122994652, 0.9064171122994652, 0.9064171122994652, 0.9064171122994652, 0.9064171122994652, 0.9064171122994652, 0.9064171122994652, 0.9064171122994652, 0.9064171122994652, 0.9064171122994652, 0.9064171122994652, 0.9064171122994652, 0.9037433155080213, 0.9037433155080213, 0.9037433155080213, 0.9037433155080213, 0.9037433155080213, 0.9037433155080213, 0.9037433155080213, 0.9037433155080213, 0.9037433155080213, 0.9037433155080213, 0.9010695187165776, 0.9010695187165776, 0.9010695187165776, 0.9010695187165776, 0.8983957219251337, 0.8983957219251337, 0.8983957219251337, 0.8983957219251337, 0.8957219251336899, 0.893048128342246, 0.893048128342246, 0.8903743315508021, 0.8903743315508021, 0.8903743315508021, 0.8877005347593583, 0.8877005347593583, 0.8877005347593583, 0.8877005347593583, 0.8877005347593583, 0.8877005347593583, 0.8877005347593583, 0.8877005347593583, 0.8877005347593583, 0.8877005347593583, 0.8877005347593583, 0.8877005347593583, 0.8877005347593583, 0.8877005347593583, 0.8850267379679144, 0.8850267379679144, 0.8850267379679144, 0.8823529411764706, 0.8823529411764706, 0.8823529411764706, 0.8823529411764706, 0.8823529411764706, 0.8823529411764706, 0.8823529411764706, 0.8823529411764706, 0.8823529411764706, 0.8823529411764706, 0.8823529411764706, 0.8796791443850267, 0.8770053475935828, 0.8770053475935828, 0.8770053475935828, 0.8770053475935828, 0.8770053475935828, 0.8770053475935828, 0.8770053475935828, 0.8770053475935828, 0.8770053475935828, 0.8770053475935828, 0.8743315508021391, 0.8716577540106952, 0.8716577540106952, 0.8689839572192514, 0.8689839572192514, 0.8689839572192514, 0.8663101604278075, 0.8663101604278075, 0.8663101604278075, 0.8663101604278075, 0.8663101604278075, 0.8663101604278075, 0.8663101604278075, 0.8663101604278075, 0.8663101604278075, 0.8636363636363636, 0.8609625668449198, 0.8609625668449198, 0.8609625668449198, 0.8609625668449198, 0.8582887700534759, 0.8582887700534759, 0.8582887700534759, 0.8582887700534759, 0.8582887700534759, 0.8556149732620321, 0.8529411764705882, 0.8502673796791443, 0.8502673796791443, 0.8475935828877005, 0.8475935828877005, 0.8449197860962567, 0.8422459893048129, 0.8422459893048129, 0.8422459893048129, 0.839572192513369, 0.839572192513369, 0.8368983957219251, 0.8368983957219251, 0.8368983957219251, 0.8368983957219251, 0.8368983957219251, 0.8342245989304813, 0.8342245989304813, 0.8342245989304813, 0.8342245989304813, 0.8342245989304813, 0.8315508021390374, 0.8315508021390374, 0.8315508021390374, 0.8315508021390374, 0.8315508021390374, 0.8288770053475936, 0.8262032085561497, 0.8262032085561497, 0.8235294117647058, 0.820855614973262, 0.8181818181818182, 0.8155080213903744, 0.8155080213903744, 0.8128342245989305, 0.8128342245989305, 0.8128342245989305, 0.8128342245989305, 0.8128342245989305, 0.8128342245989305, 0.8128342245989305, 0.8128342245989305, 0.8128342245989305, 0.8128342245989305, 0.8128342245989305, 0.8128342245989305, 0.8128342245989305, 0.8128342245989305, 0.8128342245989305, 0.8101604278074866, 0.8101604278074866, 0.8101604278074866, 0.8101604278074866, 0.8101604278074866, 0.8101604278074866, 0.8074866310160428, 0.8074866310160428, 0.8074866310160428, 0.8074866310160428, 0.8048128342245989, 0.8048128342245989, 0.8048128342245989, 0.8048128342245989, 0.8048128342245989, 0.8048128342245989, 0.8021390374331551, 0.8021390374331551, 0.7994652406417112, 0.7967914438502673, 0.7967914438502673, 0.7941176470588235, 0.7941176470588235, 0.7941176470588235, 0.7941176470588235, 0.7941176470588235, 0.7914438502673797, 0.7914438502673797, 0.7914438502673797, 0.7914438502673797, 0.7887700534759359, 0.7887700534759359, 0.786096256684492, 0.7834224598930482, 0.7834224598930482, 0.7834224598930482, 0.7834224598930482, 0.7834224598930482, 0.7834224598930482, 0.7834224598930482, 0.7834224598930482, 0.7807486631016043, 0.7780748663101604, 0.7780748663101604, 0.7780748663101604, 0.7780748663101604, 0.7780748663101604, 0.7780748663101604, 0.7754010695187166, 0.7754010695187166, 0.7727272727272727, 0.7727272727272727, 0.7727272727272727, 0.7727272727272727, 0.7700534759358288, 0.7700534759358288, 0.7700534759358288, 0.7700534759358288, 0.7700534759358288, 0.7700534759358288, 0.7700534759358288, 0.7700534759358288, 0.7700534759358288, 0.7700534759358288, 0.7700534759358288, 0.7700534759358288, 0.7700534759358288, 0.7700534759358288, 0.7700534759358288, 0.7700534759358288, 0.7700534759358288, 0.767379679144385, 0.767379679144385, 0.767379679144385, 0.7647058823529411, 0.7647058823529411, 0.7647058823529411, 0.7620320855614974, 0.7620320855614974, 0.7593582887700535, 0.7593582887700535, 0.7566844919786097, 0.7566844919786097, 0.7566844919786097, 0.7566844919786097, 0.7566844919786097, 0.7540106951871658, 0.7540106951871658, 0.7513368983957219, 0.7513368983957219, 0.7513368983957219, 0.7513368983957219, 0.7486631016042781, 0.7486631016042781, 0.7486631016042781, 0.7459893048128342, 0.7459893048128342, 0.7459893048128342, 0.7433155080213903, 0.7433155080213903, 0.7406417112299465, 0.7406417112299465, 0.7379679144385026, 0.7379679144385026, 0.7379679144385026, 0.7352941176470589, 0.7352941176470589, 0.7352941176470589, 0.732620320855615, 0.732620320855615, 0.732620320855615, 0.732620320855615, 0.7299465240641712, 0.7299465240641712, 0.7299465240641712, 0.7299465240641712, 0.7299465240641712, 0.7299465240641712, 0.7272727272727273, 0.7272727272727273, 0.7272727272727273, 0.7272727272727273, 0.7245989304812834, 0.7245989304812834, 0.7219251336898396, 0.7219251336898396, 0.7219251336898396, 0.7192513368983957, 0.7192513368983957, 0.7192513368983957, 0.7192513368983957, 0.7165775401069518, 0.713903743315508, 0.7112299465240641, 0.7112299465240641, 0.7112299465240641, 0.7112299465240641, 0.7112299465240641, 0.7085561497326203, 0.7085561497326203, 0.7085561497326203, 0.7058823529411765, 0.7058823529411765, 0.7058823529411765, 0.7058823529411765, 0.7058823529411765, 0.7032085561497327, 0.7032085561497327, 0.7032085561497327, 0.7032085561497327, 0.7005347593582888, 0.7005347593582888, 0.7005347593582888, 0.7005347593582888, 0.7005347593582888, 0.7005347593582888, 0.6978609625668449, 0.6951871657754011, 0.6951871657754011, 0.6951871657754011, 0.6951871657754011, 0.6951871657754011, 0.6925133689839572, 0.6898395721925134, 0.6871657754010695, 0.6871657754010695, 0.6844919786096256, 0.6844919786096256, 0.6818181818181818, 0.6818181818181818, 0.6818181818181818, 0.6818181818181818, 0.6818181818181818, 0.6818181818181818, 0.6818181818181818, 0.6818181818181818, 0.6818181818181818, 0.6818181818181818, 0.6818181818181818, 0.679144385026738, 0.679144385026738, 0.6764705882352942, 0.6737967914438503, 0.6737967914438503, 0.6737967914438503, 0.6737967914438503, 0.6711229946524064, 0.6684491978609626, 0.6657754010695187, 0.6631016042780749, 0.6631016042780749, 0.6631016042780749, 0.660427807486631, 0.6577540106951871, 0.6577540106951871, 0.6577540106951871, 0.6577540106951871, 0.6550802139037433, 0.6550802139037433, 0.6524064171122995, 0.6524064171122995, 0.6524064171122995, 0.6497326203208557, 0.6470588235294118, 0.6470588235294118, 0.6443850267379679, 0.6443850267379679, 0.6417112299465241, 0.6390374331550802, 0.6390374331550802, 0.6390374331550802, 0.6363636363636364, 0.6363636363636364, 0.6363636363636364, 0.6363636363636364, 0.6336898395721925, 0.6336898395721925, 0.6336898395721925, 0.6310160427807486, 0.6283422459893048, 0.6283422459893048, 0.6283422459893048, 0.6283422459893048, 0.6256684491978609, 0.6256684491978609, 0.6256684491978609, 0.6229946524064172, 0.6229946524064172, 0.6203208556149733, 0.6203208556149733, 0.6176470588235294, 0.6149732620320856, 0.6149732620320856, 0.6149732620320856, 0.6122994652406417, 0.6096256684491979, 0.606951871657754, 0.606951871657754, 0.606951871657754, 0.606951871657754, 0.6042780748663101, 0.6042780748663101, 0.6042780748663101, 0.6042780748663101, 0.6042780748663101, 0.6016042780748663, 0.5989304812834224, 0.5989304812834224, 0.5989304812834224, 0.5989304812834224, 0.5989304812834224, 0.5989304812834224, 0.5989304812834224, 0.5989304812834224, 0.5989304812834224, 0.5962566844919787, 0.5962566844919787, 0.5962566844919787, 0.5962566844919787, 0.5962566844919787, 0.5935828877005348, 0.5909090909090909, 0.5909090909090909, 0.5882352941176471, 0.5855614973262032, 0.5828877005347594, 0.5828877005347594, 0.5828877005347594, 0.5802139037433155, 0.5802139037433155, 0.5802139037433155, 0.5802139037433155, 0.5802139037433155, 0.5775401069518716, 0.5748663101604278, 0.5748663101604278, 0.5748663101604278, 0.5721925133689839, 0.56951871657754, 0.56951871657754, 0.5668449197860963, 0.5668449197860963, 0.5641711229946524, 0.5641711229946524, 0.5641711229946524, 0.5641711229946524, 0.5614973262032086, 0.5588235294117647, 0.5588235294117647, 0.5588235294117647, 0.5561497326203209, 0.553475935828877, 0.553475935828877, 0.5508021390374331, 0.5508021390374331, 0.5508021390374331, 0.5481283422459893, 0.5481283422459893, 0.5454545454545454, 0.5454545454545454, 0.5454545454545454, 0.5454545454545454, 0.5454545454545454, 0.5454545454545454, 0.5427807486631016, 0.5427807486631016, 0.5401069518716578, 0.5401069518716578, 0.5401069518716578, 0.5374331550802139, 0.5374331550802139, 0.5347593582887701, 0.5347593582887701, 0.5320855614973262, 0.5320855614973262, 0.5294117647058824, 0.5294117647058824, 0.5294117647058824, 0.5294117647058824, 0.5267379679144385, 0.5240641711229946, 0.5213903743315508, 0.5187165775401069, 0.5187165775401069, 0.5187165775401069, 0.5187165775401069, 0.5187165775401069, 0.5187165775401069, 0.516042780748663, 0.5133689839572193, 0.5106951871657754, 0.5106951871657754, 0.5106951871657754, 0.5106951871657754, 0.5080213903743316, 0.5053475935828877, 0.5053475935828877, 0.5053475935828877, 0.5053475935828877, 0.5053475935828877, 0.5026737967914439, 0.5, 0.5, 0.49732620320855614, 0.49732620320855614, 0.4946524064171123, 0.4946524064171123, 0.4946524064171123, 0.4946524064171123, 0.4919786096256685, 0.4893048128342246, 0.4893048128342246, 0.4893048128342246, 0.48663101604278075, 0.48663101604278075, 0.48663101604278075, 0.48663101604278075, 0.48663101604278075, 0.48663101604278075, 0.4839572192513369, 0.48128342245989303, 0.48128342245989303, 0.4786096256684492, 0.4786096256684492, 0.47593582887700536, 0.47593582887700536, 0.47593582887700536, 0.4732620320855615, 0.47058823529411764, 0.4679144385026738, 0.46524064171123, 0.4625668449197861, 0.45989304812834225, 0.45989304812834225, 0.45989304812834225, 0.4572192513368984, 0.4572192513368984, 0.45454545454545453, 0.45454545454545453, 0.45187165775401067, 0.45187165775401067, 0.45187165775401067, 0.44919786096256686, 0.44919786096256686, 0.446524064171123, 0.446524064171123, 0.44385026737967914, 0.44385026737967914, 0.44385026737967914, 0.44385026737967914, 0.44385026737967914, 0.44385026737967914, 0.44385026737967914, 0.44385026737967914, 0.4411764705882353, 0.4411764705882353, 0.4385026737967914, 0.4358288770053476, 0.43315508021390375, 0.43315508021390375, 0.4304812834224599, 0.4304812834224599, 0.4304812834224599, 0.42780748663101603, 0.42513368983957217, 0.42245989304812837, 0.4197860962566845, 0.41711229946524064, 0.4144385026737968, 0.4117647058823529, 0.4090909090909091, 0.4090909090909091, 0.4090909090909091, 0.4090909090909091, 0.4090909090909091, 0.4090909090909091, 0.40641711229946526, 0.40641711229946526, 0.4037433155080214, 0.40106951871657753, 0.40106951871657753, 0.3983957219251337, 0.3983957219251337, 0.39572192513368987, 0.39572192513368987, 0.39572192513368987, 0.39572192513368987, 0.39572192513368987, 0.39572192513368987, 0.39572192513368987, 0.393048128342246, 0.39037433155080214, 0.3877005347593583, 0.3850267379679144, 0.38235294117647056, 0.37967914438502676, 0.3770053475935829, 0.37433155080213903, 0.37433155080213903, 0.37433155080213903, 0.3716577540106952, 0.3689839572192513, 0.3663101604278075, 0.36363636363636365, 0.36363636363636365, 0.36363636363636365, 0.3609625668449198, 0.3582887700534759, 0.35561497326203206, 0.35561497326203206, 0.35561497326203206, 0.35561497326203206, 0.35294117647058826, 0.3502673796791444, 0.34759358288770054, 0.3449197860962567, 0.3422459893048128, 0.3422459893048128, 0.3422459893048128, 0.3422459893048128, 0.3422459893048128, 0.3422459893048128, 0.3422459893048128, 0.339572192513369, 0.33689839572192515, 0.3342245989304813, 0.3315508021390374, 0.32887700534759357, 0.32620320855614976, 0.3235294117647059, 0.32085561497326204, 0.32085561497326204, 0.3181818181818182, 0.3181818181818182, 0.3155080213903743, 0.31283422459893045, 0.31016042780748665, 0.31016042780748665, 0.3074866310160428, 0.3074866310160428, 0.3048128342245989, 0.3048128342245989, 0.3048128342245989, 0.3048128342245989, 0.30213903743315507, 0.30213903743315507, 0.2994652406417112, 0.2967914438502674, 0.29411764705882354, 0.29411764705882354, 0.29411764705882354, 0.2914438502673797, 0.2887700534759358, 0.28609625668449196, 0.28609625668449196, 0.28609625668449196, 0.28609625668449196, 0.28342245989304815, 0.2807486631016043, 0.27807486631016043, 0.27807486631016043, 0.27540106951871657, 0.2727272727272727, 0.2700534759358289, 0.2700534759358289, 0.26737967914438504, 0.26737967914438504, 0.26737967914438504, 0.26737967914438504, 0.26737967914438504, 0.2647058823529412, 0.2620320855614973, 0.2620320855614973, 0.25935828877005346, 0.25935828877005346, 0.25668449197860965, 0.25668449197860965, 0.25668449197860965, 0.25668449197860965, 0.25668449197860965, 0.2540106951871658, 0.25133689839572193, 0.25133689839572193, 0.24866310160427807, 0.24598930481283424, 0.24331550802139038, 0.24064171122994651, 0.24064171122994651, 0.23796791443850268, 0.23796791443850268, 0.23529411764705882, 0.23529411764705882, 0.232620320855615, 0.232620320855615, 0.232620320855615, 0.22994652406417113, 0.22727272727272727, 0.22459893048128343, 0.22192513368983957, 0.2192513368983957, 0.21657754010695188, 0.21390374331550802, 0.21122994652406418, 0.20855614973262032, 0.20855614973262032, 0.20855614973262032, 0.20855614973262032, 0.20588235294117646, 0.20588235294117646, 0.20320855614973263, 0.20320855614973263, 0.20320855614973263, 0.20053475935828877, 0.20053475935828877, 0.19786096256684493, 0.19518716577540107, 0.1925133689839572, 0.18983957219251338, 0.18983957219251338, 0.18983957219251338, 0.18983957219251338, 0.18983957219251338, 0.18716577540106952, 0.18449197860962566, 0.18181818181818182, 0.17914438502673796, 0.17914438502673796, 0.17914438502673796, 0.17914438502673796, 0.17647058823529413, 0.17379679144385027, 0.17379679144385027, 0.1711229946524064, 0.16844919786096257, 0.1657754010695187, 0.16310160427807488, 0.16310160427807488, 0.16042780748663102, 0.15775401069518716, 0.15508021390374332, 0.15240641711229946, 0.1497326203208556, 0.14705882352941177, 0.1443850267379679, 0.14171122994652408, 0.13903743315508021, 0.13636363636363635, 0.13636363636363635, 0.13368983957219252, 0.13368983957219252, 0.13101604278074866, 0.13101604278074866, 0.12834224598930483, 0.12566844919786097, 0.12299465240641712, 0.12032085561497326, 0.11764705882352941, 0.11497326203208556, 0.11229946524064172, 0.11229946524064172, 0.10962566844919786, 0.10695187165775401, 0.10427807486631016, 0.10160427807486631, 0.09893048128342247, 0.0962566844919786, 0.09358288770053476, 0.09090909090909091, 0.08823529411764706, 0.0855614973262032, 0.08288770053475936, 0.08021390374331551, 0.07754010695187166, 0.07754010695187166, 0.0748663101604278, 0.0748663101604278, 0.0748663101604278, 0.07219251336898395, 0.07219251336898395, 0.07219251336898395, 0.06951871657754011, 0.06684491978609626, 0.06417112299465241, 0.06149732620320856, 0.058823529411764705, 0.05614973262032086, 0.053475935828877004, 0.05080213903743316, 0.05080213903743316, 0.0481283422459893, 0.045454545454545456, 0.0427807486631016, 0.040106951871657755, 0.0374331550802139, 0.034759358288770054, 0.03208556149732621, 0.029411764705882353, 0.026737967914438502, 0.02406417112299465, 0.0213903743315508, 0.0213903743315508, 0.01871657754010695, 0.01871657754010695, 0.016042780748663103, 0.013368983957219251, 0.0106951871657754, 0.008021390374331552, 0.0053475935828877, 0.0053475935828877, 0.0053475935828877, 0.0053475935828877, 0.00267379679144385, 0.0], \"y\": [0.2972972972972973, 0.2967382657120127, 0.29697452229299365, 0.2972111553784861, 0.2974481658692185, 0.29768555466879487, 0.2979233226837061, 0.2981614708233413, 0.2984, 0.2986389111289031, 0.2988782051282051, 0.2991178829190056, 0.29935794542536115, 0.2995983935742972, 0.29983922829581994, 0.3000804505229284, 0.3003220611916264, 0.3005640612409347, 0.3008064516129032, 0.30104923325262306, 0.30129240710823907, 0.301535974130962, 0.3017799352750809, 0.3020242914979757, 0.30226904376012964, 0.30251419302514193, 0.3027597402597403, 0.30300568643379366, 0.3032520325203252, 0.30349877949552484, 0.30374592833876224, 0.30399348003259985, 0.30424143556280586, 0.30448979591836733, 0.3047385620915033, 0.30498773507767785, 0.30523731587561376, 0.30548730548730546, 0.30573770491803276, 0.3059885151763741, 0.30623973727422005, 0.3064913722267872, 0.3067434210526316, 0.3069958847736626, 0.30724876441515653, 0.3075020610057708, 0.30775577557755773, 0.30800990916597853, 0.3074380165289256, 0.3076923076923077, 0.3079470198675497, 0.30820215410107704, 0.30845771144278605, 0.3087136929460581, 0.3089700996677741, 0.3092269326683292, 0.30948419301164726, 0.3097418817651957, 0.31, 0.3102585487906589, 0.3105175292153589, 0.3107769423558897, 0.3110367892976589, 0.3112970711297071, 0.31072026800670016, 0.3109807208717519, 0.311241610738255, 0.31066330814441645, 0.31092436974789917, 0.31118587047939444, 0.3114478114478115, 0.3117101937657961, 0.31197301854974707, 0.31223628691983124, 0.3125, 0.3127641589180051, 0.3130287648054145, 0.31329381879762913, 0.3135593220338983, 0.3138252756573367, 0.3140916808149406, 0.3143585386576041, 0.31462585034013607, 0.3148936170212766, 0.3151618398637138, 0.3154305200341006, 0.31569965870307165, 0.31596925704526047, 0.3162393162393162, 0.3165098374679213, 0.3167808219178082, 0.3170522707797772, 0.31732418524871353, 0.31759656652360513, 0.3178694158075601, 0.3181427343078246, 0.31841652323580033, 0.3186907838070629, 0.31896551724137934, 0.31924072476272647, 0.31951640759930916, 0.3197925669835782, 0.32006920415224915, 0.3203463203463203, 0.32062391681109187, 0.32090199479618386, 0.3211805555555556, 0.3214596003475239, 0.3217391304347826, 0.32201914708442125, 0.32229965156794427, 0.3225806451612903, 0.3228621291448517, 0.3231441048034934, 0.32342657342657344, 0.3237095363079615, 0.3239929947460595, 0.32427695004382123, 0.32456140350877194, 0.32484635645302895, 0.3251318101933216, 0.3254177660510114, 0.3257042253521127, 0.32599118942731276, 0.3262786596119929, 0.3265666372462489, 0.32685512367491165, 0.3271441202475685, 0.3274336283185841, 0.32772364924712133, 0.3280141843971631, 0.3283052351375333, 0.3285968028419183, 0.3288888888888889, 0.3291814946619217, 0.3285841495992876, 0.32887700534759357, 0.328278322925959, 0.32857142857142857, 0.3288650580875782, 0.3291592128801431, 0.3294538943598926, 0.32974910394265233, 0.33004484304932735, 0.3303411131059246, 0.3306379155435759, 0.33093525179856115, 0.33123312331233123, 0.33153153153153153, 0.3318304779080252, 0.33212996389891697, 0.3324299909665763, 0.33273056057866185, 0.3330316742081448, 0.3333333333333333, 0.33363553943789664, 0.3339382940108893, 0.33424159854677565, 0.33454545454545453, 0.3348498635122839, 0.3342440801457195, 0.33454876937101186, 0.33485401459854014, 0.33515981735159817, 0.33546617915904936, 0.3357731015553522, 0.3360805860805861, 0.3363886342804766, 0.336697247706422, 0.3370064279155188, 0.33731617647058826, 0.3376264949402024, 0.3379373848987109, 0.3382488479262673, 0.3385608856088561, 0.33887349953831947, 0.3391866913123845, 0.33950046253469013, 0.3398148148148148, 0.340129749768304, 0.3404452690166976, 0.34076137418755803, 0.34107806691449816, 0.3404651162790698, 0.3407821229050279, 0.34109972041006525, 0.3414179104477612, 0.34173669467787116, 0.34205607476635513, 0.3423760523854069, 0.34269662921348315, 0.3430178069353327, 0.3433395872420263, 0.3436619718309859, 0.34398496240601506, 0.3443085606773283, 0.3446327683615819, 0.3449575871819039, 0.3452830188679245, 0.34560906515580736, 0.34593572778827975, 0.34626300851466413, 0.3465909090909091, 0.3469194312796208, 0.34724857685009486, 0.3475783475783476, 0.34790874524714827, 0.34823977164605135, 0.3485714285714286, 0.3489037178265014, 0.34923664122137404, 0.3495702005730659, 0.34990439770554493, 0.35023923444976074, 0.3505747126436782, 0.35091083413231067, 0.3502879078694818, 0.3506243996157541, 0.35096153846153844, 0.35129932627526467, 0.3516377649325626, 0.351976856316297, 0.35231660231660233, 0.3526570048309179, 0.3529980657640232, 0.35333978702807356, 0.3536821705426357, 0.35402521823472355, 0.35436893203883496, 0.35471331389698735, 0.3550583657587549, 0.35540408958130476, 0.35477582846003897, 0.3551219512195122, 0.35546875, 0.35581622678396874, 0.3561643835616438, 0.356513222331048, 0.3568627450980392, 0.3572129538763494, 0.3575638506876228, 0.3579154375614553, 0.35826771653543305, 0.3586206896551724, 0.358974358974359, 0.35932872655478776, 0.35968379446640314, 0.3600395647873393, 0.3603960396039604, 0.3607532210109019, 0.3611111111111111, 0.3614697120158888, 0.36182902584493043, 0.36218905472636814, 0.36254980079681276, 0.36191425722831505, 0.36227544910179643, 0.3626373626373626, 0.363, 0.3633633633633634, 0.3637274549098196, 0.3640922768304915, 0.3644578313253012, 0.36482412060301506, 0.36519114688128773, 0.36555891238670696, 0.3659274193548387, 0.36528758829465185, 0.3656565656565657, 0.3660262891809909, 0.36639676113360325, 0.3667679837892604, 0.3671399594320487, 0.36751269035532996, 0.3678861788617886, 0.36826042726347913, 0.36863543788187375, 0.3690112130479103, 0.3693877551020408, 0.36976506639427986, 0.37014314928425357, 0.3694984646878199, 0.3698770491803279, 0.37025641025641026, 0.37063655030800824, 0.3710174717368962, 0.3713991769547325, 0.3717816683831102, 0.37216494845360826, 0.37254901960784315, 0.37293388429752067, 0.3733195449844881, 0.37370600414078675, 0.37409326424870465, 0.3744813278008299, 0.37487019730010385, 0.37525987525987525, 0.3756503642039542, 0.37604166666666666, 0.37643378519290926, 0.3768267223382046, 0.3772204806687565, 0.3776150627615063, 0.3769633507853403, 0.37735849056603776, 0.37670514165792235, 0.37710084033613445, 0.3774973711882229, 0.37684210526315787, 0.3772391991570074, 0.37763713080168776, 0.3780359028511088, 0.3784355179704017, 0.37883597883597886, 0.3792372881355932, 0.3796394485683987, 0.38004246284501064, 0.3804463336875664, 0.38085106382978723, 0.3812566560170394, 0.3816631130063966, 0.3810032017075774, 0.3814102564102564, 0.38181818181818183, 0.3822269807280514, 0.38263665594855306, 0.3830472103004292, 0.38345864661654133, 0.38387096774193546, 0.38428417653390745, 0.38469827586206895, 0.3851132686084142, 0.3855291576673866, 0.38594594594594595, 0.38636363636363635, 0.38678223185265437, 0.3872017353579176, 0.38762214983713356, 0.38804347826086955, 0.38846572361262244, 0.3888888888888889, 0.3893129770992366, 0.38973799126637554, 0.3901639344262295, 0.39059080962800874, 0.3910186199342826, 0.39144736842105265, 0.3918770581778266, 0.3923076923076923, 0.3927392739273927, 0.3931718061674009, 0.3936052921719956, 0.39403973509933776, 0.39447513812154694, 0.39491150442477874, 0.3953488372093023, 0.39578713968957874, 0.3951165371809101, 0.39555555555555555, 0.39599555061179087, 0.39643652561247217, 0.3957636566332218, 0.39620535714285715, 0.39664804469273746, 0.3970917225950783, 0.3964165733482643, 0.3968609865470852, 0.39730639730639733, 0.39775280898876403, 0.3982002249718785, 0.39864864864864863, 0.399098083427283, 0.3984198645598194, 0.39887005649717516, 0.3993212669683258, 0.39977349943374857, 0.4002267573696145, 0.40068104426787743, 0.4, 0.4004550625711035, 0.4009111617312073, 0.4013683010262258, 0.4006849315068493, 0.4, 0.40045766590389015, 0.3997709049255441, 0.40022935779816515, 0.4006888633754305, 0.4011494252873563, 0.4016110471806674, 0.402073732718894, 0.4013840830449827, 0.4018475750577367, 0.4023121387283237, 0.4027777777777778, 0.40324449594438005, 0.4037122969837587, 0.40418118466898956, 0.40348837209302324, 0.4039580908032596, 0.40442890442890445, 0.4049008168028005, 0.4053738317757009, 0.4058479532163743, 0.4063231850117096, 0.406799531066823, 0.4072769953051643, 0.40775558166862513, 0.4082352941176471, 0.4075382803297998, 0.4080188679245283, 0.40731995277449823, 0.4078014184397163, 0.40828402366863903, 0.4087677725118483, 0.4080664294187426, 0.40736342042755347, 0.40784780023781214, 0.4083333333333333, 0.4088200238379023, 0.40930787589498807, 0.40979689366786143, 0.4102870813397129, 0.41077844311377243, 0.41007194244604317, 0.4105642256902761, 0.4110576923076923, 0.41155234657039713, 0.4108433734939759, 0.41133896260554886, 0.41183574879227053, 0.4111245465538089, 0.4116222760290557, 0.4121212121212121, 0.41262135922330095, 0.4131227217496962, 0.41362530413625304, 0.41291108404384896, 0.41341463414634144, 0.4139194139194139, 0.41442542787286063, 0.4149326805385557, 0.41544117647058826, 0.41595092024539876, 0.41646191646191644, 0.41697416974169743, 0.41748768472906406, 0.41800246609124536, 0.4185185185185185, 0.41903584672435107, 0.41955445544554454, 0.4200743494423792, 0.4205955334987593, 0.42111801242236024, 0.4216417910447761, 0.42216687422166876, 0.4226932668329177, 0.4232209737827715, 0.42375, 0.42428035043804757, 0.424812030075188, 0.42534504391468003, 0.4258793969849246, 0.42641509433962266, 0.4269521410579345, 0.4274905422446406, 0.42803030303030304, 0.42857142857142855, 0.4278481012658228, 0.42839036755386567, 0.4289340101522843, 0.42947903430749684, 0.4300254452926209, 0.4305732484076433, 0.43112244897959184, 0.43167305236270753, 0.4322250639386189, 0.4327784891165173, 0.43205128205128207, 0.4326059050064185, 0.43316195372750643, 0.4337194337194337, 0.4329896907216495, 0.4335483870967742, 0.43410852713178294, 0.4346701164294955, 0.4339378238341969, 0.43320363164721143, 0.43376623376623374, 0.43302990897269183, 0.43359375, 0.43415906127770537, 0.43342036553524804, 0.4339869281045752, 0.43455497382198954, 0.4351245085190039, 0.4356955380577428, 0.43626806833114323, 0.4368421052631579, 0.43741765480895917, 0.43799472295514513, 0.4385733157199472, 0.43915343915343913, 0.43973509933774835, 0.4403183023872679, 0.4409030544488712, 0.4401595744680851, 0.440745672436751, 0.44133333333333336, 0.44058744993324434, 0.4411764705882353, 0.44176706827309237, 0.44235924932975873, 0.4429530201342282, 0.4435483870967742, 0.44414535666218036, 0.444743935309973, 0.44534412955465585, 0.44594594594594594, 0.4465493910690122, 0.44579945799457993, 0.4450474898236092, 0.44565217391304346, 0.44625850340136053, 0.44686648501362397, 0.44747612551159616, 0.44808743169398907, 0.4487004103967168, 0.44931506849315067, 0.4499314128943759, 0.45054945054945056, 0.4497936726272352, 0.4490358126721763, 0.4496551724137931, 0.4488950276243094, 0.44951590594744123, 0.45013850415512463, 0.44937586685159503, 0.45, 0.4506258692628651, 0.45125348189415043, 0.45188284518828453, 0.45251396648044695, 0.45314685314685316, 0.453781512605042, 0.4544179523141655, 0.45365168539325845, 0.45288326300984527, 0.4535211267605634, 0.4541607898448519, 0.4548022598870056, 0.45403111739745405, 0.4546742209631728, 0.4553191489361702, 0.4559659090909091, 0.4566145092460882, 0.45584045584045585, 0.4550641940085592, 0.4542857142857143, 0.45493562231759654, 0.45415472779369626, 0.45480631276901007, 0.4540229885057471, 0.45323741007194246, 0.4538904899135447, 0.45454545454545453, 0.45375722543352603, 0.4544138929088278, 0.45362318840579713, 0.45428156748911463, 0.45494186046511625, 0.4556040756914119, 0.45626822157434405, 0.4554744525547445, 0.45614035087719296, 0.4568081991215227, 0.4574780058651026, 0.4581497797356828, 0.4573529411764706, 0.4580265095729013, 0.45870206489675514, 0.45937961595273263, 0.46005917159763315, 0.45925925925925926, 0.45845697329376855, 0.4591381872213967, 0.4583333333333333, 0.45752608047690013, 0.45671641791044776, 0.45590433482810166, 0.4565868263473054, 0.45577211394302847, 0.45645645645645644, 0.45714285714285713, 0.4578313253012048, 0.45852187028657615, 0.459214501510574, 0.4599092284417549, 0.46060606060606063, 0.4613050075872534, 0.46200607902735563, 0.4627092846270928, 0.4634146341463415, 0.46412213740458014, 0.4648318042813456, 0.4655436447166922, 0.4647239263803681, 0.46543778801843316, 0.46615384615384614, 0.46687211093990755, 0.4675925925925926, 0.46831530139103555, 0.4674922600619195, 0.4682170542635659, 0.468944099378882, 0.46967340590979784, 0.4688473520249221, 0.46957878315132606, 0.4703125, 0.47104851330203446, 0.4717868338557994, 0.4725274725274725, 0.4716981132075472, 0.47244094488188976, 0.471608832807571, 0.4707740916271722, 0.47151898734177217, 0.4706814580031696, 0.4714285714285714, 0.47217806041335453, 0.4729299363057325, 0.47368421052631576, 0.4728434504792332, 0.4736, 0.47435897435897434, 0.4751203852327448, 0.4742765273311897, 0.4750402576489533, 0.47419354838709676, 0.47334410339256866, 0.4741100323624595, 0.47487844408427876, 0.47564935064935066, 0.4764227642276423, 0.4771986970684039, 0.47797716150081565, 0.47875816993464054, 0.4779050736497545, 0.47704918032786886, 0.47783251231527096, 0.4786184210526316, 0.4794069192751236, 0.4801980198019802, 0.4809917355371901, 0.48013245033112584, 0.48092868988391374, 0.48006644518272423, 0.480865224625624, 0.4816666666666667, 0.48247078464106846, 0.4816053511705686, 0.4824120603015075, 0.48322147651006714, 0.48403361344537815, 0.48484848484848486, 0.4856661045531197, 0.4864864864864865, 0.4873096446700508, 0.488135593220339, 0.48896434634974534, 0.4897959183673469, 0.4906303236797274, 0.49146757679180886, 0.49230769230769234, 0.4931506849315068, 0.4939965694682676, 0.4948453608247423, 0.4939759036144578, 0.49482758620689654, 0.49568221070811747, 0.49480968858131485, 0.49566724436741766, 0.4965277777777778, 0.4956521739130435, 0.4965156794425087, 0.4956369982547993, 0.4965034965034965, 0.4956217162872154, 0.4964912280701754, 0.4973637961335677, 0.4982394366197183, 0.4991181657848324, 0.49823321554770317, 0.49911504424778763, 0.49822695035460995, 0.4991119005328597, 0.5, 0.5008912655971479, 0.5, 0.5008944543828264, 0.5017921146953405, 0.5008976660682226, 0.5017985611510791, 0.5027027027027027, 0.5018050541516246, 0.5027124773960217, 0.5018115942028986, 0.5027223230490018, 0.5018181818181818, 0.5027322404371585, 0.5036496350364964, 0.5027422303473492, 0.5036630036630036, 0.5045871559633027, 0.5036764705882353, 0.5046040515653776, 0.5055350553505535, 0.5064695009242144, 0.5055555555555555, 0.5064935064935064, 0.5074349442379182, 0.5083798882681564, 0.5093283582089553, 0.5102803738317757, 0.5093632958801498, 0.5103189493433395, 0.5112781954887218, 0.512241054613936, 0.5113207547169811, 0.5122873345935728, 0.5113636363636364, 0.5123339658444023, 0.5133079847908745, 0.5123809523809524, 0.5133587786259542, 0.51434034416826, 0.5153256704980843, 0.5143953934740882, 0.5134615384615384, 0.51252408477842, 0.5135135135135135, 0.5145067698259188, 0.5155038759689923, 0.516504854368932, 0.5155642023346303, 0.5165692007797271, 0.517578125, 0.5166340508806262, 0.5176470588235295, 0.518664047151277, 0.5196850393700787, 0.5207100591715976, 0.5197628458498024, 0.5207920792079208, 0.5218253968253969, 0.5228628230616302, 0.5219123505976095, 0.5229540918163673, 0.524, 0.5250501002004008, 0.5261044176706827, 0.5271629778672032, 0.5262096774193549, 0.5252525252525253, 0.5263157894736842, 0.5273833671399595, 0.5284552845528455, 0.5295315682281059, 0.5285714285714286, 0.5276073619631901, 0.5266393442622951, 0.5277207392197125, 0.5267489711934157, 0.5278350515463918, 0.5268595041322314, 0.5279503105590062, 0.529045643153527, 0.5301455301455301, 0.53125, 0.5323590814196242, 0.5334728033472803, 0.5345911949685535, 0.5357142857142857, 0.5368421052631579, 0.5379746835443038, 0.5369978858350951, 0.538135593220339, 0.5371549893842887, 0.5361702127659574, 0.5373134328358209, 0.5384615384615384, 0.5396145610278372, 0.5386266094420601, 0.5376344086021505, 0.5366379310344828, 0.5356371490280778, 0.5367965367965368, 0.5379609544468547, 0.5369565217391304, 0.5359477124183006, 0.537117903930131, 0.5382932166301969, 0.5394736842105263, 0.5384615384615384, 0.539647577092511, 0.5386313465783664, 0.5398230088495575, 0.541019955654102, 0.54, 0.5389755011135857, 0.5401785714285714, 0.5391498881431768, 0.5403587443946188, 0.5393258426966292, 0.5382882882882883, 0.5395033860045146, 0.5407239819004525, 0.5396825396825397, 0.5409090909090909, 0.5421412300683371, 0.54337899543379, 0.5423340961098398, 0.5435779816513762, 0.5448275862068965, 0.543778801843318, 0.5427251732101617, 0.5439814814814815, 0.5452436194895591, 0.5465116279069767, 0.5454545454545454, 0.5467289719626168, 0.5480093676814989, 0.5469483568075117, 0.548235294117647, 0.5471698113207547, 0.5484633569739953, 0.54739336492891, 0.5463182897862233, 0.5476190476190477, 0.548926014319809, 0.5478468899521531, 0.5467625899280576, 0.5456730769230769, 0.5469879518072289, 0.5483091787439613, 0.549636803874092, 0.5485436893203883, 0.5498783454987834, 0.551219512195122, 0.5525672371638142, 0.553921568627451, 0.5528255528255528, 0.5517241379310345, 0.5530864197530864, 0.5544554455445545, 0.5558312655086849, 0.5572139303482587, 0.5586034912718204, 0.56, 0.5614035087719298, 0.5628140703517588, 0.5617128463476071, 0.5631313131313131, 0.5645569620253165, 0.565989847715736, 0.5674300254452926, 0.5663265306122449, 0.5652173913043478, 0.5666666666666667, 0.5655526992287918, 0.5644329896907216, 0.5633074935400517, 0.5647668393782384, 0.5662337662337662, 0.5651041666666666, 0.566579634464752, 0.5680628272251309, 0.5695538057742782, 0.5710526315789474, 0.5699208443271768, 0.5687830687830688, 0.5702917771883289, 0.5718085106382979, 0.5706666666666667, 0.56951871657754, 0.5710455764075067, 0.5698924731182796, 0.5714285714285714, 0.5702702702702702, 0.5718157181571816, 0.5733695652173914, 0.5749318801089919, 0.5737704918032787, 0.5726027397260274, 0.5741758241758241, 0.5757575757575758, 0.574585635359116, 0.5734072022160664, 0.575, 0.5738161559888579, 0.5754189944134078, 0.5770308123249299, 0.5758426966292135, 0.5774647887323944, 0.576271186440678, 0.5779036827195467, 0.5795454545454546, 0.5811965811965812, 0.5828571428571429, 0.5845272206303725, 0.5833333333333334, 0.5850144092219021, 0.5838150289017341, 0.5855072463768116, 0.5872093023255814, 0.5860058309037901, 0.5877192982456141, 0.5865102639296188, 0.5882352941176471, 0.5870206489675516, 0.5887573964497042, 0.5875370919881305, 0.5892857142857143, 0.591044776119403, 0.592814371257485, 0.5915915915915916, 0.5903614457831325, 0.5891238670694864, 0.5878787878787879, 0.5896656534954408, 0.5914634146341463, 0.5932721712538226, 0.5950920245398773, 0.5969230769230769, 0.595679012345679, 0.5944272445820433, 0.593167701863354, 0.5950155763239875, 0.596875, 0.5987460815047022, 0.5974842767295597, 0.5962145110410094, 0.5981012658227848, 0.6, 0.6019108280254777, 0.6038338658146964, 0.6025641025641025, 0.6012861736334405, 0.603225806451613, 0.6019417475728155, 0.6038961038961039, 0.6026058631921825, 0.6045751633986928, 0.6065573770491803, 0.6085526315789473, 0.6072607260726073, 0.6059602649006622, 0.6079734219269103, 0.61, 0.6086956521739131, 0.610738255033557, 0.6127946127946128, 0.6148648648648649, 0.6169491525423729, 0.6190476190476191, 0.6177474402730375, 0.6164383561643836, 0.6185567010309279, 0.6172413793103448, 0.6193771626297578, 0.6180555555555556, 0.6202090592334495, 0.6223776223776224, 0.6210526315789474, 0.6197183098591549, 0.6183745583038869, 0.6170212765957447, 0.6156583629893239, 0.6142857142857143, 0.6164874551971327, 0.6187050359712231, 0.6173285198555957, 0.6195652173913043, 0.6181818181818182, 0.6204379562043796, 0.6190476190476191, 0.6213235294117647, 0.6236162361623616, 0.6222222222222222, 0.6245353159851301, 0.6231343283582089, 0.6254681647940075, 0.6240601503759399, 0.6264150943396226, 0.6287878787878788, 0.6311787072243346, 0.6335877862595419, 0.6360153256704981, 0.6384615384615384, 0.640926640926641, 0.6395348837209303, 0.642023346303502, 0.640625, 0.6392156862745098, 0.6377952755905512, 0.6403162055335968, 0.6388888888888888, 0.6414342629482072, 0.644, 0.642570281124498, 0.6411290322580645, 0.6396761133603239, 0.6382113821138211, 0.636734693877551, 0.6352459016393442, 0.6337448559670782, 0.6322314049586777, 0.6348547717842323, 0.6375, 0.6401673640167364, 0.6428571428571429, 0.6455696202531646, 0.6440677966101694, 0.6468085106382979, 0.6452991452991453, 0.6437768240343348, 0.646551724137931, 0.645021645021645, 0.6478260869565218, 0.6462882096069869, 0.6491228070175439, 0.6519823788546255, 0.6548672566371682, 0.6577777777777778, 0.6607142857142857, 0.6636771300448431, 0.6621621621621622, 0.6606334841628959, 0.6590909090909091, 0.6575342465753424, 0.6559633027522935, 0.6543778801843319, 0.6527777777777778, 0.6511627906976745, 0.6542056074766355, 0.6572769953051644, 0.6556603773584906, 0.6540284360189573, 0.6523809523809524, 0.6507177033492823, 0.6538461538461539, 0.6570048309178744, 0.6553398058252428, 0.6536585365853659, 0.6519607843137255, 0.6551724137931034, 0.6584158415841584, 0.6616915422885572, 0.66, 0.6582914572864321, 0.6565656565656566, 0.6548223350253807, 0.6530612244897959, 0.6564102564102564, 0.6597938144329897, 0.6632124352331606, 0.6666666666666666, 0.6701570680628273, 0.6736842105263158, 0.671957671957672, 0.6702127659574468, 0.6684491978609626, 0.6666666666666666, 0.6648648648648648, 0.6630434782608695, 0.6612021857923497, 0.6593406593406593, 0.6629834254143646, 0.6611111111111111, 0.664804469273743, 0.6629213483146067, 0.6610169491525424, 0.6590909090909091, 0.6628571428571428, 0.6609195402298851, 0.6647398843930635, 0.6627906976744186, 0.6666666666666666, 0.6705882352941176, 0.6745562130177515, 0.6726190476190477, 0.6766467065868264, 0.6746987951807228, 0.6727272727272727, 0.6707317073170732, 0.6748466257668712, 0.6790123456790124, 0.6770186335403726, 0.675, 0.6729559748427673, 0.6772151898734177, 0.6815286624203821, 0.6858974358974359, 0.6838709677419355, 0.6818181818181818, 0.6797385620915033, 0.6842105263157895, 0.6821192052980133, 0.68, 0.6778523489932886, 0.6824324324324325, 0.6802721088435374, 0.684931506849315, 0.6896551724137931, 0.6944444444444444, 0.6993006993006993, 0.6971830985915493, 0.6950354609929078, 0.7, 0.697841726618705, 0.7028985507246377, 0.7007299270072993, 0.7058823529411765, 0.7111111111111111, 0.7164179104477612, 0.7218045112781954, 0.7196969696969697, 0.7175572519083969, 0.7230769230769231, 0.7209302325581395, 0.71875, 0.7165354330708661, 0.7142857142857143, 0.72, 0.717741935483871, 0.7235772357723578, 0.7213114754098361, 0.7272727272727273, 0.725, 0.7310924369747899, 0.7372881355932204, 0.7350427350427351, 0.7327586206896551, 0.7304347826086957, 0.7280701754385965, 0.7256637168141593, 0.7232142857142857, 0.7207207207207207, 0.7181818181818181, 0.7155963302752294, 0.7222222222222222, 0.7289719626168224, 0.7358490566037735, 0.7333333333333333, 0.7403846153846154, 0.7378640776699029, 0.7450980392156863, 0.7524752475247525, 0.75, 0.7575757575757576, 0.7551020408163265, 0.7525773195876289, 0.75, 0.7473684210526316, 0.7553191489361702, 0.7634408602150538, 0.7717391304347826, 0.7802197802197802, 0.7777777777777778, 0.7752808988764045, 0.7727272727272727, 0.7701149425287356, 0.7790697674418605, 0.788235294117647, 0.7976190476190477, 0.7951807228915663, 0.7926829268292683, 0.8024691358024691, 0.8, 0.7974683544303798, 0.7948717948717948, 0.7922077922077922, 0.8026315789473685, 0.8, 0.7972972972972973, 0.7945205479452054, 0.7916666666666666, 0.7887323943661971, 0.7857142857142857, 0.782608695652174, 0.7794117647058824, 0.7761194029850746, 0.7727272727272727, 0.7846153846153846, 0.78125, 0.7936507936507936, 0.7903225806451613, 0.8032786885245902, 0.8, 0.7966101694915254, 0.7931034482758621, 0.7894736842105263, 0.7857142857142857, 0.7818181818181819, 0.7777777777777778, 0.7924528301886793, 0.7884615384615384, 0.7843137254901961, 0.78, 0.7755102040816326, 0.7708333333333334, 0.7659574468085106, 0.7608695652173914, 0.7555555555555555, 0.75, 0.7441860465116279, 0.7380952380952381, 0.7317073170731707, 0.725, 0.7435897435897436, 0.7368421052631579, 0.7567567567567568, 0.7777777777777778, 0.7714285714285715, 0.7941176470588235, 0.8181818181818182, 0.8125, 0.8064516129032258, 0.8, 0.7931034482758621, 0.7857142857142857, 0.7777777777777778, 0.7692307692307693, 0.76, 0.7916666666666666, 0.782608695652174, 0.7727272727272727, 0.7619047619047619, 0.75, 0.7368421052631579, 0.7222222222222222, 0.7058823529411765, 0.6875, 0.6666666666666666, 0.6428571428571429, 0.6153846153846154, 0.6666666666666666, 0.6363636363636364, 0.7, 0.6666666666666666, 0.625, 0.5714285714285714, 0.5, 0.4, 0.5, 0.6666666666666666, 1.0, 1.0, 1.0]}],\n",
              "                        {\"height\": 450, \"template\": {\"data\": {\"bar\": [{\"error_x\": {\"color\": \"#2a3f5f\"}, \"error_y\": {\"color\": \"#2a3f5f\"}, \"marker\": {\"line\": {\"color\": \"#E5ECF6\", \"width\": 0.5}}, \"type\": \"bar\"}], \"barpolar\": [{\"marker\": {\"line\": {\"color\": \"#E5ECF6\", \"width\": 0.5}}, \"type\": \"barpolar\"}], \"carpet\": [{\"aaxis\": {\"endlinecolor\": \"#2a3f5f\", \"gridcolor\": \"white\", \"linecolor\": \"white\", \"minorgridcolor\": \"white\", \"startlinecolor\": \"#2a3f5f\"}, \"baxis\": {\"endlinecolor\": \"#2a3f5f\", \"gridcolor\": \"white\", \"linecolor\": \"white\", \"minorgridcolor\": \"white\", \"startlinecolor\": \"#2a3f5f\"}, \"type\": \"carpet\"}], \"choropleth\": [{\"colorbar\": {\"outlinewidth\": 0, \"ticks\": \"\"}, \"type\": \"choropleth\"}], \"contour\": [{\"colorbar\": {\"outlinewidth\": 0, \"ticks\": \"\"}, \"colorscale\": [[0.0, \"#0d0887\"], [0.1111111111111111, \"#46039f\"], [0.2222222222222222, \"#7201a8\"], [0.3333333333333333, \"#9c179e\"], [0.4444444444444444, \"#bd3786\"], [0.5555555555555556, \"#d8576b\"], [0.6666666666666666, \"#ed7953\"], [0.7777777777777778, \"#fb9f3a\"], [0.8888888888888888, \"#fdca26\"], [1.0, \"#f0f921\"]], \"type\": \"contour\"}], \"contourcarpet\": [{\"colorbar\": {\"outlinewidth\": 0, \"ticks\": \"\"}, \"type\": \"contourcarpet\"}], \"heatmap\": [{\"colorbar\": {\"outlinewidth\": 0, \"ticks\": \"\"}, \"colorscale\": [[0.0, \"#0d0887\"], [0.1111111111111111, \"#46039f\"], [0.2222222222222222, \"#7201a8\"], [0.3333333333333333, \"#9c179e\"], [0.4444444444444444, \"#bd3786\"], [0.5555555555555556, \"#d8576b\"], [0.6666666666666666, \"#ed7953\"], [0.7777777777777778, \"#fb9f3a\"], [0.8888888888888888, \"#fdca26\"], [1.0, \"#f0f921\"]], \"type\": \"heatmap\"}], \"heatmapgl\": [{\"colorbar\": {\"outlinewidth\": 0, \"ticks\": \"\"}, \"colorscale\": [[0.0, \"#0d0887\"], [0.1111111111111111, \"#46039f\"], [0.2222222222222222, \"#7201a8\"], [0.3333333333333333, \"#9c179e\"], [0.4444444444444444, \"#bd3786\"], [0.5555555555555556, \"#d8576b\"], [0.6666666666666666, \"#ed7953\"], [0.7777777777777778, \"#fb9f3a\"], [0.8888888888888888, \"#fdca26\"], [1.0, \"#f0f921\"]], \"type\": \"heatmapgl\"}], \"histogram\": [{\"marker\": {\"colorbar\": {\"outlinewidth\": 0, \"ticks\": \"\"}}, \"type\": \"histogram\"}], \"histogram2d\": [{\"colorbar\": {\"outlinewidth\": 0, \"ticks\": \"\"}, \"colorscale\": [[0.0, \"#0d0887\"], [0.1111111111111111, \"#46039f\"], [0.2222222222222222, \"#7201a8\"], [0.3333333333333333, \"#9c179e\"], [0.4444444444444444, \"#bd3786\"], [0.5555555555555556, \"#d8576b\"], [0.6666666666666666, \"#ed7953\"], [0.7777777777777778, \"#fb9f3a\"], [0.8888888888888888, \"#fdca26\"], [1.0, \"#f0f921\"]], \"type\": \"histogram2d\"}], \"histogram2dcontour\": [{\"colorbar\": {\"outlinewidth\": 0, \"ticks\": \"\"}, \"colorscale\": [[0.0, \"#0d0887\"], [0.1111111111111111, \"#46039f\"], [0.2222222222222222, \"#7201a8\"], [0.3333333333333333, \"#9c179e\"], [0.4444444444444444, \"#bd3786\"], [0.5555555555555556, \"#d8576b\"], [0.6666666666666666, \"#ed7953\"], [0.7777777777777778, \"#fb9f3a\"], [0.8888888888888888, \"#fdca26\"], [1.0, \"#f0f921\"]], \"type\": \"histogram2dcontour\"}], \"mesh3d\": [{\"colorbar\": {\"outlinewidth\": 0, \"ticks\": \"\"}, \"type\": \"mesh3d\"}], \"parcoords\": [{\"line\": {\"colorbar\": {\"outlinewidth\": 0, \"ticks\": \"\"}}, \"type\": \"parcoords\"}], \"pie\": [{\"automargin\": true, \"type\": \"pie\"}], \"scatter\": [{\"marker\": {\"colorbar\": {\"outlinewidth\": 0, \"ticks\": \"\"}}, \"type\": \"scatter\"}], \"scatter3d\": [{\"line\": {\"colorbar\": {\"outlinewidth\": 0, \"ticks\": \"\"}}, \"marker\": {\"colorbar\": {\"outlinewidth\": 0, \"ticks\": \"\"}}, \"type\": \"scatter3d\"}], \"scattercarpet\": [{\"marker\": {\"colorbar\": {\"outlinewidth\": 0, \"ticks\": \"\"}}, \"type\": \"scattercarpet\"}], \"scattergeo\": [{\"marker\": {\"colorbar\": {\"outlinewidth\": 0, \"ticks\": \"\"}}, \"type\": \"scattergeo\"}], \"scattergl\": [{\"marker\": {\"colorbar\": {\"outlinewidth\": 0, \"ticks\": \"\"}}, \"type\": \"scattergl\"}], \"scattermapbox\": [{\"marker\": {\"colorbar\": {\"outlinewidth\": 0, \"ticks\": \"\"}}, \"type\": \"scattermapbox\"}], \"scatterpolar\": [{\"marker\": {\"colorbar\": {\"outlinewidth\": 0, \"ticks\": \"\"}}, \"type\": \"scatterpolar\"}], \"scatterpolargl\": [{\"marker\": {\"colorbar\": {\"outlinewidth\": 0, \"ticks\": \"\"}}, \"type\": \"scatterpolargl\"}], \"scatterternary\": [{\"marker\": {\"colorbar\": {\"outlinewidth\": 0, \"ticks\": \"\"}}, \"type\": \"scatterternary\"}], \"surface\": [{\"colorbar\": {\"outlinewidth\": 0, \"ticks\": \"\"}, \"colorscale\": [[0.0, \"#0d0887\"], [0.1111111111111111, \"#46039f\"], [0.2222222222222222, \"#7201a8\"], [0.3333333333333333, \"#9c179e\"], [0.4444444444444444, \"#bd3786\"], [0.5555555555555556, \"#d8576b\"], [0.6666666666666666, \"#ed7953\"], [0.7777777777777778, \"#fb9f3a\"], [0.8888888888888888, \"#fdca26\"], [1.0, \"#f0f921\"]], \"type\": \"surface\"}], \"table\": [{\"cells\": {\"fill\": {\"color\": \"#EBF0F8\"}, \"line\": {\"color\": \"white\"}}, \"header\": {\"fill\": {\"color\": \"#C8D4E3\"}, \"line\": {\"color\": \"white\"}}, \"type\": \"table\"}]}, \"layout\": {\"annotationdefaults\": {\"arrowcolor\": \"#2a3f5f\", \"arrowhead\": 0, \"arrowwidth\": 1}, \"coloraxis\": {\"colorbar\": {\"outlinewidth\": 0, \"ticks\": \"\"}}, \"colorscale\": {\"diverging\": [[0, \"#8e0152\"], [0.1, \"#c51b7d\"], [0.2, \"#de77ae\"], [0.3, \"#f1b6da\"], [0.4, \"#fde0ef\"], [0.5, \"#f7f7f7\"], [0.6, \"#e6f5d0\"], [0.7, \"#b8e186\"], [0.8, \"#7fbc41\"], [0.9, \"#4d9221\"], [1, \"#276419\"]], \"sequential\": [[0.0, \"#0d0887\"], [0.1111111111111111, \"#46039f\"], [0.2222222222222222, \"#7201a8\"], [0.3333333333333333, \"#9c179e\"], [0.4444444444444444, \"#bd3786\"], [0.5555555555555556, \"#d8576b\"], [0.6666666666666666, \"#ed7953\"], [0.7777777777777778, \"#fb9f3a\"], [0.8888888888888888, \"#fdca26\"], [1.0, \"#f0f921\"]], \"sequentialminus\": [[0.0, \"#0d0887\"], [0.1111111111111111, \"#46039f\"], [0.2222222222222222, \"#7201a8\"], [0.3333333333333333, \"#9c179e\"], [0.4444444444444444, \"#bd3786\"], [0.5555555555555556, \"#d8576b\"], [0.6666666666666666, \"#ed7953\"], [0.7777777777777778, \"#fb9f3a\"], [0.8888888888888888, \"#fdca26\"], [1.0, \"#f0f921\"]]}, \"colorway\": [\"#636efa\", \"#EF553B\", \"#00cc96\", \"#ab63fa\", \"#FFA15A\", \"#19d3f3\", \"#FF6692\", \"#B6E880\", \"#FF97FF\", \"#FECB52\"], \"font\": {\"color\": \"#2a3f5f\"}, \"geo\": {\"bgcolor\": \"white\", \"lakecolor\": \"white\", \"landcolor\": \"#E5ECF6\", \"showlakes\": true, \"showland\": true, \"subunitcolor\": \"white\"}, \"hoverlabel\": {\"align\": \"left\"}, \"hovermode\": \"closest\", \"mapbox\": {\"style\": \"light\"}, \"paper_bgcolor\": \"white\", \"plot_bgcolor\": \"#E5ECF6\", \"polar\": {\"angularaxis\": {\"gridcolor\": \"white\", \"linecolor\": \"white\", \"ticks\": \"\"}, \"bgcolor\": \"#E5ECF6\", \"radialaxis\": {\"gridcolor\": \"white\", \"linecolor\": \"white\", \"ticks\": \"\"}}, \"scene\": {\"xaxis\": {\"backgroundcolor\": \"#E5ECF6\", \"gridcolor\": \"white\", \"gridwidth\": 2, \"linecolor\": \"white\", \"showbackground\": true, \"ticks\": \"\", \"zerolinecolor\": \"white\"}, \"yaxis\": {\"backgroundcolor\": \"#E5ECF6\", \"gridcolor\": \"white\", \"gridwidth\": 2, \"linecolor\": \"white\", \"showbackground\": true, \"ticks\": \"\", \"zerolinecolor\": \"white\"}, \"zaxis\": {\"backgroundcolor\": \"#E5ECF6\", \"gridcolor\": \"white\", \"gridwidth\": 2, \"linecolor\": \"white\", \"showbackground\": true, \"ticks\": \"\", \"zerolinecolor\": \"white\"}}, \"shapedefaults\": {\"line\": {\"color\": \"#2a3f5f\"}}, \"ternary\": {\"aaxis\": {\"gridcolor\": \"white\", \"linecolor\": \"white\", \"ticks\": \"\"}, \"baxis\": {\"gridcolor\": \"white\", \"linecolor\": \"white\", \"ticks\": \"\"}, \"bgcolor\": \"#E5ECF6\", \"caxis\": {\"gridcolor\": \"white\", \"linecolor\": \"white\", \"ticks\": \"\"}}, \"title\": {\"x\": 0.05}, \"xaxis\": {\"automargin\": true, \"gridcolor\": \"white\", \"linecolor\": \"white\", \"ticks\": \"\", \"title\": {\"standoff\": 15}, \"zerolinecolor\": \"white\", \"zerolinewidth\": 2}, \"yaxis\": {\"automargin\": true, \"gridcolor\": \"white\", \"linecolor\": \"white\", \"ticks\": \"\", \"title\": {\"standoff\": 15}, \"zerolinecolor\": \"white\", \"zerolinewidth\": 2}}}, \"title\": {\"text\": \"Precision-Recall Curve\", \"x\": 0.5}, \"width\": 750, \"xaxis\": {\"title\": {\"text\": \"Recall\"}}, \"yaxis\": {\"title\": {\"text\": \"Precision\"}}},\n",
              "                        {\"responsive\": true}\n",
              "                    ).then(function(){\n",
              "                            \n",
              "var gd = document.getElementById('2754a325-a9ba-457c-9b7f-51108e999e5e');\n",
              "var x = new MutationObserver(function (mutations, observer) {{\n",
              "        var display = window.getComputedStyle(gd).display;\n",
              "        if (!display || display === 'none') {{\n",
              "            console.log([gd, 'removed!']);\n",
              "            Plotly.purge(gd);\n",
              "            observer.disconnect();\n",
              "        }}\n",
              "}});\n",
              "\n",
              "// Listen for the removal of the full notebook cells\n",
              "var notebookContainer = gd.closest('#notebook-container');\n",
              "if (notebookContainer) {{\n",
              "    x.observe(notebookContainer, {childList: true});\n",
              "}}\n",
              "\n",
              "// Listen for the clearing of the current output cell\n",
              "var outputEl = gd.closest('.output');\n",
              "if (outputEl) {{\n",
              "    x.observe(outputEl, {childList: true});\n",
              "}}\n",
              "\n",
              "                        })\n",
              "                };\n",
              "                \n",
              "            </script>\n",
              "        </div>\n",
              "</body>\n",
              "</html>"
            ]
          },
          "metadata": {}
        }
      ]
    },
    {
      "cell_type": "markdown",
      "source": [
        "### Precision Recall AUC score\n",
        "\n",
        "Precision Recall AUC summarizes the integral or an approximation of the area under the precision-recall curve."
      ],
      "metadata": {
        "id": "aBeT6OQGpbq6"
      }
    },
    {
      "cell_type": "code",
      "source": [
        "from sklearn.metrics import auc\n",
        "print('--- Precision Recall AUC ---')\n",
        "print(f\"Logistic Regression: {auc(recall_lr,precision_lr)}\" ) # Logistic Regression\n",
        "print(f\"Naive Bayes: {auc(recall_gnb,precision_gnb)}\") # Gaussian Naive Bayes\n",
        "\n",
        "print(f'Neural Network: {auc(recall_nn,precision_nn)}')# Neural Network\n",
        "print(f\"K-Nearest Neighbors: {auc(recall_knn,precision_knn)} \") # K-Nearest Neighbors\n",
        "print(f\"Decision Tree: {auc(recall_dt,precision_dt)}\")  # Decision Tree\n",
        "print(f\"SVC: {auc(recall_svc,precision_svc)}\")# support vector classifier\n",
        "\n",
        "print(f\"Random Forest: {auc(recall_rf,precision_rf)}\") # Random Forest\n",
        "print(f\"ADA: {auc(recall_ada,precision_ada)}\")# ada boost\n",
        "print(f'SGB: {auc(recall_sgb,precision_sgb)}')   # stochastic gradient boosting\n",
        "print(f'CAT: {auc(recall_cat,precision_cat)}')   # Catboost classifier\n",
        "print(f'XGB: {auc(recall_xgb,precision_xgb)}')   # XGBoost"
      ],
      "metadata": {
        "colab": {
          "base_uri": "https://localhost:8080/"
        },
        "id": "mzrw8I7GNxIy",
        "outputId": "012e31e3-db04-40e0-e697-dea4599364fe"
      },
      "execution_count": 80,
      "outputs": [
        {
          "output_type": "stream",
          "name": "stdout",
          "text": [
            "--- Precision Recall AUC ---\n",
            "Logistic Regression: 0.6055969202877753\n",
            "Naive Bayes: 0.5983284976013165\n",
            "Neural Network: 0.6325265207495194\n",
            "K-Nearest Neighbors: 0.5623444407242368 \n",
            "Decision Tree: 0.48037363283045753\n",
            "SVC: 0.5376438743942035\n",
            "Random Forest: 0.6014237668029383\n",
            "ADA: 0.6365917517095392\n",
            "SGB: 0.5819844534166423\n",
            "CAT: 0.5990047121259093\n",
            "XGB: 0.596703058480709\n"
          ]
        }
      ]
    },
    {
      "cell_type": "markdown",
      "source": [
        "### Summary & Conclusion\n",
        "\n",
        "Customer Churn Prediction involves handling a class imbalanced problem.  To deal with the class imbalaned problem, Synthetic Minority Oversampling TEchnique (SMOTE) method is used to oversample the minority class.\n",
        "\n",
        "11 ML Algorithms are investigated for the Churn Prediction problem.   Hypermeters of these algorithms were tuned using GridSearchCV. (The hypermeters tuning could be improved with further exploration). \n",
        "\n",
        "Performance of various algorithms (linear, nonlinear and ensemble)  are compared against below evaluation metrics.  \n",
        "\n",
        "1.   Precision Recall Curve and PR AUC Score\n",
        "    * If identifying the customers who are highly likely to churn is the most important, then the precision-recall curve and area under curve (PR AUC) can be used. This will optimize both precision and recall across all thresholds.\n",
        "     \n",
        "2.   ROC Curve and ROC AUC Score\n",
        "    * If both classes are equally important, the ROC Curve and area under curve (ROC AUC) can be used. This will maximize the true positive rate and minimize the false positive rate.\n",
        "    * ROC Curve shows false positive rate against the true positive rate (recall).\n",
        "\n",
        "Neural Network, Logistic Regression and ADAboost are the top performance for ROC AUC Score. \n",
        "\n",
        "ADABoost achieves the best PR AUC score.  In general, boosting algorithms perform better on the imbalanced data by giving an opportunity to focus more on the minority class and accordingly tune the training algorithm."
      ],
      "metadata": {
        "id": "J8Qcoj_0JTZC"
      }
    },
    {
      "cell_type": "code",
      "execution_count": 89,
      "metadata": {
        "colab": {
          "base_uri": "https://localhost:8080/",
          "height": 87
        },
        "id": "L6SGRcyAgZpk",
        "outputId": "97744a3a-957e-4be3-cce9-a91862267f18"
      },
      "outputs": [
        {
          "output_type": "stream",
          "name": "stdout",
          "text": [
            "[jovian] Detected Colab notebook...\u001b[0m\n",
            "[jovian] Uploading colab notebook to Jovian...\u001b[0m\n",
            "Committed successfully! https://jovian.ai/ddd/churn-prediction-using-linear-nonlinear-and-ensemble-algorithms\n"
          ]
        },
        {
          "output_type": "execute_result",
          "data": {
            "application/vnd.google.colaboratory.intrinsic+json": {
              "type": "string"
            },
            "text/plain": [
              "'https://jovian.ai/ddd/churn-prediction-using-linear-nonlinear-and-ensemble-algorithms'"
            ]
          },
          "metadata": {},
          "execution_count": 89
        }
      ],
      "source": [
        "# Execute this to save new versions of the notebook\n",
        "jovian.commit(project=\"churn-prediction-using-linear-nonlinear-and-ensemble-algorithms\")"
      ]
    }
  ],
  "metadata": {
    "kernelspec": {
      "display_name": "Python 3",
      "language": "python",
      "name": "python3"
    },
    "language_info": {
      "codemirror_mode": {
        "name": "ipython",
        "version": 3
      },
      "file_extension": ".py",
      "mimetype": "text/x-python",
      "name": "python",
      "nbconvert_exporter": "python",
      "pygments_lexer": "ipython3",
      "version": "3.7.6"
    },
    "colab": {
      "name": "churn-prediction-using-linear-nonlinear-and-ensemble-algorithms.ipynb",
      "provenance": [],
      "collapsed_sections": [],
      "include_colab_link": true
    }
  },
  "nbformat": 4,
  "nbformat_minor": 0
}